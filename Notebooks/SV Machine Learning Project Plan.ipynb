{
 "cells": [
  {
   "cell_type": "markdown",
   "metadata": {},
   "source": [
    "# Structural Variant (SV) Machine Learning Project Plan"
   ]
  },
  {
   "cell_type": "markdown",
   "metadata": {},
   "source": [
    "### Goal: assign structural variant labels to data points in the svviz annotated dataset."
   ]
  },
  {
   "cell_type": "markdown",
   "metadata": {},
   "source": [
    "#### Objective 1: Generate a list of highliy confident SVs\n",
    "    \n",
    "    Approach: Unsupervised Machine Learning Clustering\n",
    "    Rationale:\n",
    "    A: Generate a labeled dataset for the semi-supervised machine learning method\n",
    "        Note:\n",
    "        \n",
    "     B: Repalce/generate an alternative list for the manually curated list of genes\n",
    "        Note: \n",
    "            - Labels should include: +/+, +/-, -/-\n",
    "     \n",
    "     Example: \n",
    "      Cluster Centers: the red circled regions would be the most confident data points\n",
    "        \n",
    "![alt text](https://raw.githubusercontent.com/lesleymaraina/NIST/master/Images/Notebook1.11.14.16/clust_center.png)"
   ]
  },
  {
   "cell_type": "markdown",
   "metadata": {
    "collapsed": true
   },
   "source": [
    "#### Methods:\n",
    "\n",
    "Compare the results for different clustering methods, I expect to have overlap between each methods for the most confident labels\n",
    "\n",
    "\n",
    "\n",
    "|                       |Distance        |Agglomerative     |Density      |\n",
    "|-----------------------|:--------------:|:----------------:|:-----------:|\n",
    "| **Method**            |K Means         |Hierarchical      |DBSCAN       |\n",
    "|                       |Meanshift       |                  |             |\n",
    "|**Distance Measure**   |Euclidean       |Ward              |Core Samples |\n",
    "|                       |                |                  |KNN          |\n",
    "|**Cluster Performance**|                |                  |             |\n",
    "|**Cluster Plot**       |Built it method |Built in method   | PCA         |             \n"
   ]
  },
  {
   "cell_type": "markdown",
   "metadata": {},
   "source": [
    "** Expected Output: **\n",
    "\n",
    "Small list of +/+, +/-, -/- data points that agree betwen each of the clustering methods.\n",
    "Generate a labeled data set that will be used for semi supervised machine learning (Objective 2)"
   ]
  },
  {
   "cell_type": "markdown",
   "metadata": {},
   "source": [
    "#### Objective 2: Assign labels to the remaining data points and idenitify outliers\n",
    "\n",
    "    Approach: Semi-supervised Machine Learning\n",
    "    Rationale:\n",
    "    Use the labeled dataset generated from Objective 1 to train a semi-supervised model\n",
    "    \n",
    "    \n",
    "|**Methods**                     |\n",
    "|:------------------------------:|\n",
    "|Label spreading*                |    \n",
    "|Self Learning**                 |                 \n",
    "|Deep Learning: Ladder +   |\n",
    "\n",
    "*: http://scikit-learn.org/stable/modules/generated/sklearn.semi_supervised.LabelSpreading.html#sklearn.semi_supervised.LabelSpreading\n",
    "\n",
    "**: https://github.com/tmadl/semisup-learn\n",
    "\n",
    "+: http://rinuboney.github.io/2016/01/19/ladder-network.html"
   ]
  },
  {
   "cell_type": "code",
   "execution_count": null,
   "metadata": {
    "collapsed": true
   },
   "outputs": [],
   "source": []
  }
 ],
 "metadata": {
  "anaconda-cloud": {},
  "kernelspec": {
   "display_name": "Python [Root]",
   "language": "python",
   "name": "Python [Root]"
  },
  "language_info": {
   "codemirror_mode": {
    "name": "ipython",
    "version": 2
   },
   "file_extension": ".py",
   "mimetype": "text/x-python",
   "name": "python",
   "nbconvert_exporter": "python",
   "pygments_lexer": "ipython2",
   "version": "2.7.12"
  }
 },
 "nbformat": 4,
 "nbformat_minor": 0
}
