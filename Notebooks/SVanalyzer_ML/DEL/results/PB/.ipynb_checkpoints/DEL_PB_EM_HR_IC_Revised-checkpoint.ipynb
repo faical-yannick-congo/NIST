{
 "cells": [
  {
   "cell_type": "markdown",
   "metadata": {},
   "source": [
    "### PB: EM, HR, IC\n",
    "\n",
    "* The following notebook is trained on data generated from revised R script [Oct 12 2017]\n",
    "    * Exact Match [1] and Homozygous [0] Reference data points\n",
    "    * Removed all data points with Gtcons and GTconswithoutXX -1\n",
    "* 5k randomly selected deletions test data was also processed through same R script\n",
    "* Balanced Training Set for GTcons labels:\n",
    "    * 200 Hom Var\n",
    "    * 200 Hom Ref\n",
    "    * 200 Het Var\n",
    "* **Train/Prediction Label:** EM, HR, IC"
   ]
  },
  {
   "cell_type": "code",
   "execution_count": 1,
   "metadata": {
    "collapsed": true
   },
   "outputs": [],
   "source": [
    "\"\"\"\n",
    "Imports\n",
    "\"\"\"\n",
    "import pandas as pd\n",
    "import numpy as np\n",
    "from fancyimpute import KNN\n",
    "import matplotlib.pyplot as plt\n",
    "from sklearn import preprocessing\n",
    "from sklearn.preprocessing import LabelEncoder\n",
    "from sklearn.model_selection import LeaveOneOut\n",
    "from scipy.stats import ks_2samp\n",
    "from scipy import stats\n",
    "from matplotlib import pyplot\n",
    "from scipy.linalg import svd\n",
    "from sklearn.decomposition import TruncatedSVD\n",
    "from sklearn.ensemble import RandomForestClassifier\n",
    "from sklearn.metrics import roc_auc_score\n",
    "from sklearn.manifold import TSNE\n",
    "from sklearn.decomposition import PCA as sklearnPCA\n",
    "import plotly.plotly as py\n",
    "from sklearn.cluster import DBSCAN\n",
    "from sklearn.model_selection import train_test_split\n",
    "from sklearn import metrics\n",
    "from sklearn.metrics import f1_score, precision_score\n",
    "from sklearn import preprocessing\n",
    "from ggplot import *\n",
    "from bokeh.models import HoverTool\n",
    "from bokeh.plotting import show\n",
    "from bokeh.charts import Scatter, Histogram, output_file, show\n",
    "from bokeh.plotting import figure, show, output_file, ColumnDataSource\n",
    "from bokeh.io import output_notebook\n",
    "from bokeh.charts import Bar, output_file, show\n",
    "import bokeh.palettes as palettes\n",
    "from bokeh.models import HoverTool, BoxSelectTool, Legend\n",
    "from sklearn import (manifold, datasets, decomposition, ensemble,\n",
    "                     discriminant_analysis, random_projection)"
   ]
  },
  {
   "cell_type": "code",
   "execution_count": 2,
   "metadata": {},
   "outputs": [
    {
     "data": {
      "text/html": [
       "<div>\n",
       "<table border=\"1\" class=\"dataframe\">\n",
       "  <thead>\n",
       "    <tr style=\"text-align: right;\">\n",
       "      <th></th>\n",
       "      <th>chrom</th>\n",
       "      <th>sample</th>\n",
       "      <th>id</th>\n",
       "      <th>start</th>\n",
       "      <th>end</th>\n",
       "      <th>Size</th>\n",
       "      <th>type</th>\n",
       "      <th>SVtype</th>\n",
       "      <th>refN_cnt</th>\n",
       "      <th>refN_pct</th>\n",
       "      <th>...</th>\n",
       "      <th>pacbio.amb_reason_alignmentScore_alignmentScore</th>\n",
       "      <th>pacbio.amb_reason_flanking</th>\n",
       "      <th>pacbio.amb_reason_multimapping</th>\n",
       "      <th>pacbio.amb_reason_same_scores</th>\n",
       "      <th>pacbio.ref_alnScore_mean</th>\n",
       "      <th>pacbio.ref_alnScore_std</th>\n",
       "      <th>pacbio.ref_count</th>\n",
       "      <th>pacbio.ref_insertSize_mean</th>\n",
       "      <th>pacbio.ref_insertSize_std</th>\n",
       "      <th>pacbio.ref_reason_alignmentScore</th>\n",
       "    </tr>\n",
       "  </thead>\n",
       "  <tbody>\n",
       "    <tr>\n",
       "      <th>0</th>\n",
       "      <td>1</td>\n",
       "      <td>HG002</td>\n",
       "      <td>23</td>\n",
       "      <td>72766323</td>\n",
       "      <td>72811839</td>\n",
       "      <td>-45516</td>\n",
       "      <td>Deletion</td>\n",
       "      <td>Deletion</td>\n",
       "      <td>0</td>\n",
       "      <td>0</td>\n",
       "      <td>...</td>\n",
       "      <td>NaN</td>\n",
       "      <td>NaN</td>\n",
       "      <td>NaN</td>\n",
       "      <td>NaN</td>\n",
       "      <td>NaN</td>\n",
       "      <td>NaN</td>\n",
       "      <td>NaN</td>\n",
       "      <td>NaN</td>\n",
       "      <td>NaN</td>\n",
       "      <td>NaN</td>\n",
       "    </tr>\n",
       "  </tbody>\n",
       "</table>\n",
       "<p>1 rows × 41 columns</p>\n",
       "</div>"
      ],
      "text/plain": [
       "  chrom sample  id     start       end   Size      type    SVtype  refN_cnt  \\\n",
       "0     1  HG002  23  72766323  72811839 -45516  Deletion  Deletion         0   \n",
       "\n",
       "   refN_pct                ...                 \\\n",
       "0         0                ...                  \n",
       "\n",
       "   pacbio.amb_reason_alignmentScore_alignmentScore  \\\n",
       "0                                              NaN   \n",
       "\n",
       "   pacbio.amb_reason_flanking  pacbio.amb_reason_multimapping  \\\n",
       "0                         NaN                             NaN   \n",
       "\n",
       "   pacbio.amb_reason_same_scores  pacbio.ref_alnScore_mean  \\\n",
       "0                            NaN                       NaN   \n",
       "\n",
       "   pacbio.ref_alnScore_std  pacbio.ref_count  pacbio.ref_insertSize_mean  \\\n",
       "0                      NaN               NaN                         NaN   \n",
       "\n",
       "   pacbio.ref_insertSize_std  pacbio.ref_reason_alignmentScore  \n",
       "0                        NaN                               NaN  \n",
       "\n",
       "[1 rows x 41 columns]"
      ]
     },
     "execution_count": 2,
     "metadata": {},
     "output_type": "execute_result"
    }
   ],
   "source": [
    "# Import Training Data\n",
    "# SVanalyzer generated training data\n",
    "df_train = pd.read_csv('/Volumes/lesleydata/SVanalyzer_ML/Oct122017_Revised_R/dataframes/training_data/tech_sep/HG002/DEL/PB_EM_HR_IC_HG002_DEL_min1.csv')\n",
    "df_train_2 = pd.read_csv('/Volumes/lesleydata/SVanalyzer_ML/Oct122017_Revised_R/dataframes/training_data/tech_sep/HG002/DEL/PB_EM_HR_IC_HG002_DEL_min1.csv')\n",
    "df_train.rename(columns={'size': 'Size'}, inplace=True)\n",
    "df_train.head(1)"
   ]
  },
  {
   "cell_type": "code",
   "execution_count": 3,
   "metadata": {},
   "outputs": [
    {
     "data": {
      "text/html": [
       "<div>\n",
       "<table border=\"1\" class=\"dataframe\">\n",
       "  <thead>\n",
       "    <tr style=\"text-align: right;\">\n",
       "      <th></th>\n",
       "      <th>chrom</th>\n",
       "      <th>sample</th>\n",
       "      <th>id</th>\n",
       "      <th>start</th>\n",
       "      <th>end</th>\n",
       "      <th>Size</th>\n",
       "      <th>type</th>\n",
       "      <th>SVtype</th>\n",
       "      <th>refN_cnt</th>\n",
       "      <th>refN_pct</th>\n",
       "      <th>...</th>\n",
       "      <th>pacbio.amb_reason_alignmentScore_alignmentScore</th>\n",
       "      <th>pacbio.amb_reason_flanking</th>\n",
       "      <th>pacbio.amb_reason_multimapping</th>\n",
       "      <th>pacbio.amb_reason_same_scores</th>\n",
       "      <th>pacbio.ref_alnScore_mean</th>\n",
       "      <th>pacbio.ref_alnScore_std</th>\n",
       "      <th>pacbio.ref_count</th>\n",
       "      <th>pacbio.ref_insertSize_mean</th>\n",
       "      <th>pacbio.ref_insertSize_std</th>\n",
       "      <th>pacbio.ref_reason_alignmentScore</th>\n",
       "    </tr>\n",
       "  </thead>\n",
       "  <tbody>\n",
       "    <tr>\n",
       "      <th>0</th>\n",
       "      <td>1</td>\n",
       "      <td>HG002</td>\n",
       "      <td>859</td>\n",
       "      <td>37568322</td>\n",
       "      <td>37568587</td>\n",
       "      <td>-115</td>\n",
       "      <td>Insertion</td>\n",
       "      <td>Deletion</td>\n",
       "      <td>0</td>\n",
       "      <td>0</td>\n",
       "      <td>...</td>\n",
       "      <td>149.0</td>\n",
       "      <td>209.0</td>\n",
       "      <td>4.0</td>\n",
       "      <td>16.0</td>\n",
       "      <td>13276.22581</td>\n",
       "      <td>7611.37823</td>\n",
       "      <td>31.0</td>\n",
       "      <td>8407.903226</td>\n",
       "      <td>4770.945293</td>\n",
       "      <td>31.0</td>\n",
       "    </tr>\n",
       "  </tbody>\n",
       "</table>\n",
       "<p>1 rows × 40 columns</p>\n",
       "</div>"
      ],
      "text/plain": [
       "  chrom sample   id     start       end  Size       type    SVtype  refN_cnt  \\\n",
       "0     1  HG002  859  37568322  37568587  -115  Insertion  Deletion         0   \n",
       "\n",
       "   refN_pct                ...                 \\\n",
       "0         0                ...                  \n",
       "\n",
       "   pacbio.amb_reason_alignmentScore_alignmentScore  \\\n",
       "0                                            149.0   \n",
       "\n",
       "   pacbio.amb_reason_flanking  pacbio.amb_reason_multimapping  \\\n",
       "0                       209.0                             4.0   \n",
       "\n",
       "   pacbio.amb_reason_same_scores  pacbio.ref_alnScore_mean  \\\n",
       "0                           16.0               13276.22581   \n",
       "\n",
       "   pacbio.ref_alnScore_std  pacbio.ref_count  pacbio.ref_insertSize_mean  \\\n",
       "0               7611.37823              31.0                 8407.903226   \n",
       "\n",
       "   pacbio.ref_insertSize_std  pacbio.ref_reason_alignmentScore  \n",
       "0                4770.945293                              31.0  \n",
       "\n",
       "[1 rows x 40 columns]"
      ]
     },
     "execution_count": 3,
     "metadata": {},
     "output_type": "execute_result"
    }
   ],
   "source": [
    "# Import Test Data\n",
    "# SVanalyzer generated training data\n",
    "df_test = pd.read_csv('/Volumes/lesleydata/SVanalyzer_ML/Oct122017_Revised_R/dataframes/test/final_df/tech_sep/DEL/HG002/PB_HG002_DEL_min1.csv')\n",
    "df_test_2 = pd.read_csv('/Volumes/lesleydata/SVanalyzer_ML/Oct122017_Revised_R/dataframes/test/final_df/tech_sep/DEL/HG002/PB_HG002_DEL_min1.csv')\n",
    "df_test.rename(columns={'size': 'Size'}, inplace=True)\n",
    "df_test.head(1)"
   ]
  },
  {
   "cell_type": "code",
   "execution_count": 4,
   "metadata": {},
   "outputs": [
    {
     "data": {
      "text/plain": [
       "{'Label'}"
      ]
     },
     "execution_count": 4,
     "metadata": {},
     "output_type": "execute_result"
    }
   ],
   "source": [
    "# Store header names in lists and find names that are NOT contained in BOTH lists\n",
    "c = list(df_train.columns.values)\n",
    "d = list(df_test.columns.values)\n",
    "set(c) - set(d)"
   ]
  },
  {
   "cell_type": "code",
   "execution_count": 5,
   "metadata": {
    "collapsed": true
   },
   "outputs": [],
   "source": [
    "### Drop columns that are not shared by both dataframes\n",
    "df_train.drop(['GTcons'], axis=1, inplace = True)\n",
    "df_train.drop(['GTconswithoutpacbio.GT'], axis=1, inplace = True)\n",
    "df_train.drop(['GTconflict'], axis=1, inplace = True)\n",
    "df_train.drop(['GTsupp'], axis=1, inplace = True)\n",
    "df_train.drop(['sample'], axis=1, inplace = True)\n",
    "df_train.drop(['SVtype'], axis=1, inplace = True)\n",
    "df_train.drop(['type'], axis=1, inplace = True)\n",
    "df_train.drop(['id'], axis=1, inplace = True)"
   ]
  },
  {
   "cell_type": "code",
   "execution_count": 6,
   "metadata": {},
   "outputs": [
    {
     "data": {
      "text/html": [
       "<div>\n",
       "<table border=\"1\" class=\"dataframe\">\n",
       "  <thead>\n",
       "    <tr style=\"text-align: right;\">\n",
       "      <th></th>\n",
       "      <th>chrom</th>\n",
       "      <th>start</th>\n",
       "      <th>end</th>\n",
       "      <th>Size</th>\n",
       "      <th>refN_cnt</th>\n",
       "      <th>refN_pct</th>\n",
       "      <th>segdup_cnt</th>\n",
       "      <th>segdup_pct</th>\n",
       "      <th>tandemrep_cnt</th>\n",
       "      <th>tandemrep_pct</th>\n",
       "      <th>...</th>\n",
       "      <th>pacbio.amb_reason_alignmentScore_alignmentScore</th>\n",
       "      <th>pacbio.amb_reason_flanking</th>\n",
       "      <th>pacbio.amb_reason_multimapping</th>\n",
       "      <th>pacbio.amb_reason_same_scores</th>\n",
       "      <th>pacbio.ref_alnScore_mean</th>\n",
       "      <th>pacbio.ref_alnScore_std</th>\n",
       "      <th>pacbio.ref_count</th>\n",
       "      <th>pacbio.ref_insertSize_mean</th>\n",
       "      <th>pacbio.ref_insertSize_std</th>\n",
       "      <th>pacbio.ref_reason_alignmentScore</th>\n",
       "    </tr>\n",
       "  </thead>\n",
       "  <tbody>\n",
       "    <tr>\n",
       "      <th>0</th>\n",
       "      <td>1</td>\n",
       "      <td>72766323</td>\n",
       "      <td>72811839</td>\n",
       "      <td>-45516</td>\n",
       "      <td>0</td>\n",
       "      <td>0</td>\n",
       "      <td>4</td>\n",
       "      <td>0.076523</td>\n",
       "      <td>110</td>\n",
       "      <td>0.059979</td>\n",
       "      <td>...</td>\n",
       "      <td>NaN</td>\n",
       "      <td>NaN</td>\n",
       "      <td>NaN</td>\n",
       "      <td>NaN</td>\n",
       "      <td>NaN</td>\n",
       "      <td>NaN</td>\n",
       "      <td>NaN</td>\n",
       "      <td>NaN</td>\n",
       "      <td>NaN</td>\n",
       "      <td>NaN</td>\n",
       "    </tr>\n",
       "  </tbody>\n",
       "</table>\n",
       "<p>1 rows × 33 columns</p>\n",
       "</div>"
      ],
      "text/plain": [
       "  chrom     start       end   Size  refN_cnt  refN_pct  segdup_cnt  \\\n",
       "0     1  72766323  72811839 -45516         0         0           4   \n",
       "\n",
       "   segdup_pct  tandemrep_cnt  tandemrep_pct                ...                 \\\n",
       "0    0.076523            110       0.059979                ...                  \n",
       "\n",
       "   pacbio.amb_reason_alignmentScore_alignmentScore  \\\n",
       "0                                              NaN   \n",
       "\n",
       "   pacbio.amb_reason_flanking  pacbio.amb_reason_multimapping  \\\n",
       "0                         NaN                             NaN   \n",
       "\n",
       "   pacbio.amb_reason_same_scores  pacbio.ref_alnScore_mean  \\\n",
       "0                            NaN                       NaN   \n",
       "\n",
       "   pacbio.ref_alnScore_std  pacbio.ref_count  pacbio.ref_insertSize_mean  \\\n",
       "0                      NaN               NaN                         NaN   \n",
       "\n",
       "   pacbio.ref_insertSize_std  pacbio.ref_reason_alignmentScore  \n",
       "0                        NaN                               NaN  \n",
       "\n",
       "[1 rows x 33 columns]"
      ]
     },
     "execution_count": 6,
     "metadata": {},
     "output_type": "execute_result"
    }
   ],
   "source": [
    "df_train.head(1)"
   ]
  },
  {
   "cell_type": "code",
   "execution_count": 7,
   "metadata": {
    "collapsed": true
   },
   "outputs": [],
   "source": [
    "df_train['chrom'].replace('X', 23, inplace=True)\n",
    "df_train['chrom'].replace('Y', 24, inplace=True)\n",
    "df_test['chrom'].replace('X', 23, inplace=True)\n",
    "df_test['chrom'].replace('Y', 24, inplace=True)"
   ]
  },
  {
   "cell_type": "code",
   "execution_count": 8,
   "metadata": {},
   "outputs": [
    {
     "data": {
      "text/plain": [
       "{'GTconflict',\n",
       " 'GTcons',\n",
       " 'GTconswithoutpacbio.GT',\n",
       " 'GTsupp',\n",
       " 'SVtype',\n",
       " 'id',\n",
       " 'sample',\n",
       " 'type'}"
      ]
     },
     "execution_count": 8,
     "metadata": {},
     "output_type": "execute_result"
    }
   ],
   "source": [
    "# Store header names in lists and find names that are NOT contained in BOTH lists\n",
    "c = list(df_train.columns.values)\n",
    "d = list(df_test.columns.values)\n",
    "set(d) - set(c)"
   ]
  },
  {
   "cell_type": "code",
   "execution_count": 9,
   "metadata": {
    "collapsed": true
   },
   "outputs": [],
   "source": [
    "### Drop columns that are not shared by both dataframes\n",
    "df_test.drop(['GTcons'], axis=1, inplace = True)\n",
    "df_test.drop(['GTconswithoutpacbio.GT'], axis=1, inplace = True)\n",
    "df_test.drop(['GTconflict'], axis=1, inplace = True)\n",
    "df_test.drop(['GTsupp'], axis=1, inplace = True)\n",
    "df_test.drop(['sample'], axis=1, inplace = True)\n",
    "df_test.drop(['SVtype'], axis=1, inplace = True)\n",
    "df_test.drop(['type'], axis=1, inplace = True)\n",
    "df_test.drop(['id'], axis=1, inplace = True)"
   ]
  },
  {
   "cell_type": "markdown",
   "metadata": {},
   "source": [
    "***\n",
    "Impute missing values using KNN\n",
    "***"
   ]
  },
  {
   "cell_type": "code",
   "execution_count": 10,
   "metadata": {},
   "outputs": [
    {
     "data": {
      "text/html": [
       "<div>\n",
       "<table border=\"1\" class=\"dataframe\">\n",
       "  <thead>\n",
       "    <tr style=\"text-align: right;\">\n",
       "      <th></th>\n",
       "      <th>chrom</th>\n",
       "      <th>start</th>\n",
       "      <th>end</th>\n",
       "      <th>Size</th>\n",
       "      <th>refN_cnt</th>\n",
       "      <th>refN_pct</th>\n",
       "      <th>segdup_cnt</th>\n",
       "      <th>segdup_pct</th>\n",
       "      <th>tandemrep_cnt</th>\n",
       "      <th>tandemrep_pct</th>\n",
       "      <th>...</th>\n",
       "      <th>pacbio.amb_reason_alignmentScore_alignmentScore</th>\n",
       "      <th>pacbio.amb_reason_flanking</th>\n",
       "      <th>pacbio.amb_reason_multimapping</th>\n",
       "      <th>pacbio.amb_reason_same_scores</th>\n",
       "      <th>pacbio.ref_alnScore_mean</th>\n",
       "      <th>pacbio.ref_alnScore_std</th>\n",
       "      <th>pacbio.ref_count</th>\n",
       "      <th>pacbio.ref_insertSize_mean</th>\n",
       "      <th>pacbio.ref_insertSize_std</th>\n",
       "      <th>pacbio.ref_reason_alignmentScore</th>\n",
       "    </tr>\n",
       "  </thead>\n",
       "  <tbody>\n",
       "    <tr>\n",
       "      <th>0</th>\n",
       "      <td>1</td>\n",
       "      <td>72766323</td>\n",
       "      <td>72811839</td>\n",
       "      <td>-45516</td>\n",
       "      <td>0</td>\n",
       "      <td>0</td>\n",
       "      <td>4</td>\n",
       "      <td>0.076523</td>\n",
       "      <td>110</td>\n",
       "      <td>0.059979</td>\n",
       "      <td>...</td>\n",
       "      <td>NaN</td>\n",
       "      <td>NaN</td>\n",
       "      <td>NaN</td>\n",
       "      <td>NaN</td>\n",
       "      <td>NaN</td>\n",
       "      <td>NaN</td>\n",
       "      <td>NaN</td>\n",
       "      <td>NaN</td>\n",
       "      <td>NaN</td>\n",
       "      <td>NaN</td>\n",
       "    </tr>\n",
       "    <tr>\n",
       "      <th>1</th>\n",
       "      <td>1</td>\n",
       "      <td>96139975</td>\n",
       "      <td>96142391</td>\n",
       "      <td>-2416</td>\n",
       "      <td>0</td>\n",
       "      <td>0</td>\n",
       "      <td>0</td>\n",
       "      <td>0.000000</td>\n",
       "      <td>2</td>\n",
       "      <td>0.014487</td>\n",
       "      <td>...</td>\n",
       "      <td>173.0</td>\n",
       "      <td>251.0</td>\n",
       "      <td>3.0</td>\n",
       "      <td>8.0</td>\n",
       "      <td>16036.15385</td>\n",
       "      <td>7164.654453</td>\n",
       "      <td>26.0</td>\n",
       "      <td>10075.07692</td>\n",
       "      <td>4504.705061</td>\n",
       "      <td>26.0</td>\n",
       "    </tr>\n",
       "    <tr>\n",
       "      <th>2</th>\n",
       "      <td>1</td>\n",
       "      <td>109690878</td>\n",
       "      <td>109690918</td>\n",
       "      <td>-39</td>\n",
       "      <td>0</td>\n",
       "      <td>0</td>\n",
       "      <td>0</td>\n",
       "      <td>0.000000</td>\n",
       "      <td>1</td>\n",
       "      <td>0.400000</td>\n",
       "      <td>...</td>\n",
       "      <td>222.0</td>\n",
       "      <td>197.0</td>\n",
       "      <td>11.0</td>\n",
       "      <td>9.0</td>\n",
       "      <td>20597.94118</td>\n",
       "      <td>5844.767921</td>\n",
       "      <td>17.0</td>\n",
       "      <td>12582.47059</td>\n",
       "      <td>3520.607336</td>\n",
       "      <td>17.0</td>\n",
       "    </tr>\n",
       "  </tbody>\n",
       "</table>\n",
       "<p>3 rows × 33 columns</p>\n",
       "</div>"
      ],
      "text/plain": [
       "  chrom      start        end   Size  refN_cnt  refN_pct  segdup_cnt  \\\n",
       "0     1   72766323   72811839 -45516         0         0           4   \n",
       "1     1   96139975   96142391  -2416         0         0           0   \n",
       "2     1  109690878  109690918    -39         0         0           0   \n",
       "\n",
       "   segdup_pct  tandemrep_cnt  tandemrep_pct                ...                 \\\n",
       "0    0.076523            110       0.059979                ...                  \n",
       "1    0.000000              2       0.014487                ...                  \n",
       "2    0.000000              1       0.400000                ...                  \n",
       "\n",
       "   pacbio.amb_reason_alignmentScore_alignmentScore  \\\n",
       "0                                              NaN   \n",
       "1                                            173.0   \n",
       "2                                            222.0   \n",
       "\n",
       "   pacbio.amb_reason_flanking  pacbio.amb_reason_multimapping  \\\n",
       "0                         NaN                             NaN   \n",
       "1                       251.0                             3.0   \n",
       "2                       197.0                            11.0   \n",
       "\n",
       "   pacbio.amb_reason_same_scores  pacbio.ref_alnScore_mean  \\\n",
       "0                            NaN                       NaN   \n",
       "1                            8.0               16036.15385   \n",
       "2                            9.0               20597.94118   \n",
       "\n",
       "   pacbio.ref_alnScore_std  pacbio.ref_count  pacbio.ref_insertSize_mean  \\\n",
       "0                      NaN               NaN                         NaN   \n",
       "1              7164.654453              26.0                 10075.07692   \n",
       "2              5844.767921              17.0                 12582.47059   \n",
       "\n",
       "   pacbio.ref_insertSize_std  pacbio.ref_reason_alignmentScore  \n",
       "0                        NaN                               NaN  \n",
       "1                4504.705061                              26.0  \n",
       "2                3520.607336                              17.0  \n",
       "\n",
       "[3 rows x 33 columns]"
      ]
     },
     "execution_count": 10,
     "metadata": {},
     "output_type": "execute_result"
    }
   ],
   "source": [
    "# Store training data in a new variable which will be converted to a matrix\n",
    "X = df_train\n",
    "X.head(3)"
   ]
  },
  {
   "cell_type": "code",
   "execution_count": 11,
   "metadata": {},
   "outputs": [
    {
     "name": "stdout",
     "output_type": "stream",
     "text": [
      "Imputing row 1/2990 with 22 missing, elapsed time: 2.406\n",
      "Imputing row 101/2990 with 0 missing, elapsed time: 2.451\n",
      "Imputing row 201/2990 with 0 missing, elapsed time: 2.452\n",
      "Imputing row 301/2990 with 0 missing, elapsed time: 2.453\n",
      "Imputing row 401/2990 with 0 missing, elapsed time: 2.453\n",
      "Imputing row 501/2990 with 0 missing, elapsed time: 2.454\n",
      "Imputing row 601/2990 with 0 missing, elapsed time: 2.455\n",
      "Imputing row 701/2990 with 0 missing, elapsed time: 2.455\n",
      "Imputing row 801/2990 with 0 missing, elapsed time: 2.456\n",
      "Imputing row 901/2990 with 0 missing, elapsed time: 2.456\n",
      "Imputing row 1001/2990 with 0 missing, elapsed time: 2.457\n",
      "Imputing row 1101/2990 with 0 missing, elapsed time: 2.457\n",
      "Imputing row 1201/2990 with 0 missing, elapsed time: 2.458\n",
      "Imputing row 1301/2990 with 0 missing, elapsed time: 2.458\n",
      "Imputing row 1401/2990 with 0 missing, elapsed time: 2.461\n",
      "Imputing row 1501/2990 with 0 missing, elapsed time: 2.461\n",
      "Imputing row 1601/2990 with 0 missing, elapsed time: 2.462\n",
      "Imputing row 1701/2990 with 0 missing, elapsed time: 2.462\n",
      "Imputing row 1801/2990 with 0 missing, elapsed time: 2.463\n",
      "Imputing row 1901/2990 with 0 missing, elapsed time: 2.464\n",
      "Imputing row 2001/2990 with 0 missing, elapsed time: 2.464\n",
      "Imputing row 2101/2990 with 0 missing, elapsed time: 2.467\n",
      "Imputing row 2201/2990 with 0 missing, elapsed time: 2.467\n",
      "Imputing row 2301/2990 with 0 missing, elapsed time: 2.469\n",
      "Imputing row 2401/2990 with 0 missing, elapsed time: 2.470\n",
      "Imputing row 2501/2990 with 0 missing, elapsed time: 2.471\n",
      "Imputing row 2601/2990 with 0 missing, elapsed time: 2.472\n",
      "Imputing row 2701/2990 with 0 missing, elapsed time: 2.473\n",
      "Imputing row 2801/2990 with 0 missing, elapsed time: 2.474\n",
      "Imputing row 2901/2990 with 0 missing, elapsed time: 2.474\n"
     ]
    }
   ],
   "source": [
    "# Convert dataframe to matrix\n",
    "X=X.as_matrix()\n",
    "\n",
    "#Imput missing values from three closest observations\n",
    "X_imputed=KNN(k=3).complete(X)\n",
    "X=pd.DataFrame(X_imputed)"
   ]
  },
  {
   "cell_type": "code",
   "execution_count": 12,
   "metadata": {},
   "outputs": [
    {
     "data": {
      "text/html": [
       "<div>\n",
       "<table border=\"1\" class=\"dataframe\">\n",
       "  <thead>\n",
       "    <tr style=\"text-align: right;\">\n",
       "      <th></th>\n",
       "      <th>chrom</th>\n",
       "      <th>start</th>\n",
       "      <th>end</th>\n",
       "      <th>Size</th>\n",
       "      <th>refN_cnt</th>\n",
       "      <th>refN_pct</th>\n",
       "      <th>segdup_cnt</th>\n",
       "      <th>segdup_pct</th>\n",
       "      <th>tandemrep_cnt</th>\n",
       "      <th>tandemrep_pct</th>\n",
       "      <th>...</th>\n",
       "      <th>pacbio.amb_reason_alignmentScore_alignmentScore</th>\n",
       "      <th>pacbio.amb_reason_flanking</th>\n",
       "      <th>pacbio.amb_reason_multimapping</th>\n",
       "      <th>pacbio.amb_reason_same_scores</th>\n",
       "      <th>pacbio.ref_alnScore_mean</th>\n",
       "      <th>pacbio.ref_alnScore_std</th>\n",
       "      <th>pacbio.ref_count</th>\n",
       "      <th>pacbio.ref_insertSize_mean</th>\n",
       "      <th>pacbio.ref_insertSize_std</th>\n",
       "      <th>pacbio.ref_reason_alignmentScore</th>\n",
       "    </tr>\n",
       "  </thead>\n",
       "  <tbody>\n",
       "    <tr>\n",
       "      <th>0</th>\n",
       "      <td>1.0</td>\n",
       "      <td>72766323.0</td>\n",
       "      <td>72811839.0</td>\n",
       "      <td>-45516.0</td>\n",
       "      <td>0.0</td>\n",
       "      <td>0.0</td>\n",
       "      <td>4.0</td>\n",
       "      <td>0.076523</td>\n",
       "      <td>110.0</td>\n",
       "      <td>0.059979</td>\n",
       "      <td>...</td>\n",
       "      <td>171.065556</td>\n",
       "      <td>245.677939</td>\n",
       "      <td>0.0</td>\n",
       "      <td>11.868332</td>\n",
       "      <td>18183.326498</td>\n",
       "      <td>6674.615354</td>\n",
       "      <td>38.362951</td>\n",
       "      <td>11504.792882</td>\n",
       "      <td>4183.611492</td>\n",
       "      <td>38.362951</td>\n",
       "    </tr>\n",
       "    <tr>\n",
       "      <th>1</th>\n",
       "      <td>1.0</td>\n",
       "      <td>96139975.0</td>\n",
       "      <td>96142391.0</td>\n",
       "      <td>-2416.0</td>\n",
       "      <td>0.0</td>\n",
       "      <td>0.0</td>\n",
       "      <td>0.0</td>\n",
       "      <td>0.000000</td>\n",
       "      <td>2.0</td>\n",
       "      <td>0.014487</td>\n",
       "      <td>...</td>\n",
       "      <td>173.000000</td>\n",
       "      <td>251.000000</td>\n",
       "      <td>3.0</td>\n",
       "      <td>8.000000</td>\n",
       "      <td>16036.153850</td>\n",
       "      <td>7164.654453</td>\n",
       "      <td>26.000000</td>\n",
       "      <td>10075.076920</td>\n",
       "      <td>4504.705061</td>\n",
       "      <td>26.000000</td>\n",
       "    </tr>\n",
       "    <tr>\n",
       "      <th>2</th>\n",
       "      <td>1.0</td>\n",
       "      <td>109690878.0</td>\n",
       "      <td>109690918.0</td>\n",
       "      <td>-39.0</td>\n",
       "      <td>0.0</td>\n",
       "      <td>0.0</td>\n",
       "      <td>0.0</td>\n",
       "      <td>0.000000</td>\n",
       "      <td>1.0</td>\n",
       "      <td>0.400000</td>\n",
       "      <td>...</td>\n",
       "      <td>222.000000</td>\n",
       "      <td>197.000000</td>\n",
       "      <td>11.0</td>\n",
       "      <td>9.000000</td>\n",
       "      <td>20597.941180</td>\n",
       "      <td>5844.767921</td>\n",
       "      <td>17.000000</td>\n",
       "      <td>12582.470590</td>\n",
       "      <td>3520.607336</td>\n",
       "      <td>17.000000</td>\n",
       "    </tr>\n",
       "  </tbody>\n",
       "</table>\n",
       "<p>3 rows × 33 columns</p>\n",
       "</div>"
      ],
      "text/plain": [
       "   chrom        start          end     Size  refN_cnt  refN_pct  segdup_cnt  \\\n",
       "0    1.0   72766323.0   72811839.0 -45516.0       0.0       0.0         4.0   \n",
       "1    1.0   96139975.0   96142391.0  -2416.0       0.0       0.0         0.0   \n",
       "2    1.0  109690878.0  109690918.0    -39.0       0.0       0.0         0.0   \n",
       "\n",
       "   segdup_pct  tandemrep_cnt  tandemrep_pct                ...                 \\\n",
       "0    0.076523          110.0       0.059979                ...                  \n",
       "1    0.000000            2.0       0.014487                ...                  \n",
       "2    0.000000            1.0       0.400000                ...                  \n",
       "\n",
       "   pacbio.amb_reason_alignmentScore_alignmentScore  \\\n",
       "0                                       171.065556   \n",
       "1                                       173.000000   \n",
       "2                                       222.000000   \n",
       "\n",
       "   pacbio.amb_reason_flanking  pacbio.amb_reason_multimapping  \\\n",
       "0                  245.677939                             0.0   \n",
       "1                  251.000000                             3.0   \n",
       "2                  197.000000                            11.0   \n",
       "\n",
       "   pacbio.amb_reason_same_scores  pacbio.ref_alnScore_mean  \\\n",
       "0                      11.868332              18183.326498   \n",
       "1                       8.000000              16036.153850   \n",
       "2                       9.000000              20597.941180   \n",
       "\n",
       "   pacbio.ref_alnScore_std  pacbio.ref_count  pacbio.ref_insertSize_mean  \\\n",
       "0              6674.615354         38.362951                11504.792882   \n",
       "1              7164.654453         26.000000                10075.076920   \n",
       "2              5844.767921         17.000000                12582.470590   \n",
       "\n",
       "   pacbio.ref_insertSize_std  pacbio.ref_reason_alignmentScore  \n",
       "0                4183.611492                         38.362951  \n",
       "1                4504.705061                         26.000000  \n",
       "2                3520.607336                         17.000000  \n",
       "\n",
       "[3 rows x 33 columns]"
      ]
     },
     "execution_count": 12,
     "metadata": {},
     "output_type": "execute_result"
    }
   ],
   "source": [
    "# Store header values in a list, will be used later to re-label the matrix post KNN imputation\n",
    "dftrain_header = list(df_train.columns.values)\n",
    "X.columns = dftrain_header\n",
    "X.head(3)"
   ]
  },
  {
   "cell_type": "code",
   "execution_count": 13,
   "metadata": {
    "collapsed": true
   },
   "outputs": [],
   "source": [
    "# Store Labels in a new 'Y' DataFrame\n",
    "Y = pd.DataFrame()\n",
    "Y = X['Label']"
   ]
  },
  {
   "cell_type": "code",
   "execution_count": 14,
   "metadata": {},
   "outputs": [
    {
     "data": {
      "text/plain": [
       "1.0    1000\n",
       "0.0    1000\n",
       "2.0     990\n",
       "dtype: int64"
      ]
     },
     "execution_count": 14,
     "metadata": {},
     "output_type": "execute_result"
    }
   ],
   "source": [
    "#Count the number of labels\n",
    "pd.value_counts(Y.values, sort=False)"
   ]
  },
  {
   "cell_type": "code",
   "execution_count": 15,
   "metadata": {
    "collapsed": true
   },
   "outputs": [],
   "source": [
    "# Note: originally selected 1000 of each label --> find out why some are lost"
   ]
  },
  {
   "cell_type": "code",
   "execution_count": 16,
   "metadata": {
    "collapsed": true
   },
   "outputs": [],
   "source": [
    "# Remove labels from feature set\n",
    "X.drop(['Label'],axis=1, inplace = True)"
   ]
  },
  {
   "cell_type": "code",
   "execution_count": 17,
   "metadata": {
    "collapsed": true
   },
   "outputs": [],
   "source": [
    "# Order features\n",
    "X4 = X.reindex_axis(sorted(X.columns), axis=1)"
   ]
  },
  {
   "cell_type": "markdown",
   "metadata": {},
   "source": [
    "***\n",
    "Machine Learning\n",
    "***\n",
    "\n",
    "<a id='machine_learning'></a>"
   ]
  },
  {
   "cell_type": "markdown",
   "metadata": {},
   "source": [
    "Description:\n",
    "\n",
    "   * In the following section a random forest model will be trained on svanalyzer data.\n",
    "   **FYI**: [see description below of the SVanalyzer data](#svan_1)\n",
    "       * The model was trained using [train/test split](http://scikit-learn.org/0.16/modules/generated/sklearn.cross_validation.train_test_split.html) where 70% of the data was used to train the model and the model performance was determined by predicting labels for the remaining 30% of the data\n",
    "       * Reminder: The labels for this training set and the following [prediction step](#prediction_step) are:\n",
    "           * Exact Match (1)\n",
    "           * Homozygous Reference (0)\n",
    "           * Inaccurate Call (2)\n",
    "           \n",
    "   * The trained model will be used to predict labels for 5000 randomly selected deletions [these datapoints were randomly selected from [union_170509_refalt.sort.vcf](ftp://ftp-trace.ncbi.nlm.nih.gov/giab/ftp/data/AshkenazimTrio/analysis/NIST_UnionSVs_05092017/)]\n",
    "   \n",
    "   "
   ]
  },
  {
   "cell_type": "markdown",
   "metadata": {},
   "source": [
    "<a id='svan_1'></a>\n",
    "* **Reminder - SVanalyzer data description:** \n",
    "     * **1000 Exact Match**: 1000 datapoints were randomly selected from the following [svanalyzer_union_170509_v0.3.0b.vcf](ftp://ftp-trace.ncbi.nlm.nih.gov/giab/ftp/data/AshkenazimTrio/analysis/NIST_UnionSVs_05092017/Preliminary_Integrations_v0.3.0/)\n",
    "     * **1000 Homozygous Reference**: 1000 datapoints were randomly selected from the following [svanalyzer_union_170509_v0.3.0b.vcf](ftp://ftp-trace.ncbi.nlm.nih.gov/giab/ftp/data/AshkenazimTrio/analysis/NIST_UnionSVs_05092017/Preliminary_Integrations_v0.3.0/)\n",
    "     * **1000 Inaccurate Calls**: 1000 datapoints were randomly selected from the following\n",
    "[svanalyzer_union_170509_refalt.2.2.2.clustered.uniquecalls.vcf](ftp://ftp-trace.ncbi.nlm.nih.gov/giab/ftp/data/AshkenazimTrio/analysis/NIST_UnionSVs_05092017/Preliminary_Integrations_v0.3.0/)\n",
    "   \n",
    "   * Source of Features: svviz, GA4GH [tandem repeat, segmental duplications, refN], R analysis [consensus genotype, GTsup]   \n",
    "    "
   ]
  },
  {
   "cell_type": "markdown",
   "metadata": {},
   "source": [
    "** Train Random Forest Classifier **"
   ]
  },
  {
   "cell_type": "markdown",
   "metadata": {},
   "source": [
    "<a id='train_test'></a>"
   ]
  },
  {
   "cell_type": "code",
   "execution_count": 18,
   "metadata": {
    "collapsed": true
   },
   "outputs": [],
   "source": [
    "# Train Test Split\n",
    "# Train on 70% of the data and test on 30%\n",
    "X_train, X_test, y_train, y_test = train_test_split(X4, Y, test_size=0.3, random_state=0)"
   ]
  },
  {
   "cell_type": "code",
   "execution_count": 19,
   "metadata": {},
   "outputs": [
    {
     "data": {
      "text/plain": [
       "RandomForestClassifier(bootstrap=True, class_weight=None, criterion='gini',\n",
       "            max_depth=None, max_features='auto', max_leaf_nodes=None,\n",
       "            min_impurity_split=1e-07, min_samples_leaf=1,\n",
       "            min_samples_split=2, min_weight_fraction_leaf=0.0,\n",
       "            n_estimators=10, n_jobs=1, oob_score=False, random_state=None,\n",
       "            verbose=0, warm_start=False)"
      ]
     },
     "execution_count": 19,
     "metadata": {},
     "output_type": "execute_result"
    }
   ],
   "source": [
    "# Train Random Forest Classifier\n",
    "model = RandomForestClassifier() \n",
    "model.fit(X_train, y_train)"
   ]
  },
  {
   "cell_type": "code",
   "execution_count": null,
   "metadata": {},
   "outputs": [],
   "source": [
    "# Feature Importance\n",
    "importances = model.feature_importances_\n",
    "indices = np.argsort(importances)[::-1]\n",
    "print(\"Feature ranking:\")\n",
    "\n",
    "for f in range(X_test.shape[1]):\n",
    "    print(\"%d. feature %d (%f)\" % (f + 1, indices[f], importances[indices[f]]))"
   ]
  },
  {
   "cell_type": "code",
   "execution_count": 20,
   "metadata": {},
   "outputs": [
    {
     "name": "stderr",
     "output_type": "stream",
     "text": [
      "/Users/lmc2/anaconda/envs/NIHFAES/lib/python3.5/site-packages/ipykernel/__main__.py:3: FutureWarning:\n",
      "\n",
      "sort is deprecated, use sort_values(inplace=True) for INPLACE sorting\n",
      "\n"
     ]
    },
    {
     "data": {
      "text/plain": [
       "<matplotlib.axes._subplots.AxesSubplot at 0x1168ed240>"
      ]
     },
     "execution_count": 20,
     "metadata": {},
     "output_type": "execute_result"
    },
    {
     "data": {
      "image/png": "[encoded data removed]",
      "text/plain": [
       "<matplotlib.figure.Figure at 0x1168edac8>"
      ]
     },
     "metadata": {},
     "output_type": "display_data"
    }
   ],
   "source": [
    "%matplotlib inline\n",
    "feature_importances = pd.Series(model.feature_importances_, index=X_test.columns)\n",
    "feature_importances.sort()\n",
    "feature_importances.plot.bar()"
   ]
  },
  {
   "cell_type": "code",
   "execution_count": 21,
   "metadata": {},
   "outputs": [
    {
     "data": {
      "text/plain": [
       "2.0    705\n",
       "0.0    710\n",
       "1.0    678\n",
       "dtype: int64"
      ]
     },
     "execution_count": 21,
     "metadata": {},
     "output_type": "execute_result"
    }
   ],
   "source": [
    "#NOTE: Training Set - Show number of Hom Ref, Hom Var, Het Var datapoints the model was trained on\n",
    "ytrain = pd.DataFrame()\n",
    "ytrain['ytrain'] = y_train\n",
    "pd.value_counts(ytrain['ytrain'].values, sort=False)"
   ]
  },
  {
   "cell_type": "code",
   "execution_count": 22,
   "metadata": {
    "collapsed": true
   },
   "outputs": [],
   "source": [
    "pred = model.predict(X_test)"
   ]
  },
  {
   "cell_type": "code",
   "execution_count": 23,
   "metadata": {},
   "outputs": [
    {
     "data": {
      "text/plain": [
       "0.73244147157190631"
      ]
     },
     "execution_count": 23,
     "metadata": {},
     "output_type": "execute_result"
    }
   ],
   "source": [
    "precision_score(pred, y_test, average='micro') "
   ]
  },
  {
   "cell_type": "code",
   "execution_count": 24,
   "metadata": {},
   "outputs": [
    {
     "data": {
      "text/html": [
       "<div>\n",
       "<table border=\"1\" class=\"dataframe\">\n",
       "  <thead>\n",
       "    <tr style=\"text-align: right;\">\n",
       "      <th></th>\n",
       "      <th>Size</th>\n",
       "      <th>chrom</th>\n",
       "      <th>end</th>\n",
       "      <th>pacbio.GT</th>\n",
       "      <th>pacbio.alt_alnScore_mean</th>\n",
       "      <th>pacbio.alt_alnScore_std</th>\n",
       "      <th>pacbio.alt_count</th>\n",
       "      <th>pacbio.alt_insertSize_mean</th>\n",
       "      <th>pacbio.alt_insertSize_std</th>\n",
       "      <th>pacbio.alt_reason_alignmentScore</th>\n",
       "      <th>...</th>\n",
       "      <th>pacbio.ref_insertSize_mean</th>\n",
       "      <th>pacbio.ref_insertSize_std</th>\n",
       "      <th>pacbio.ref_reason_alignmentScore</th>\n",
       "      <th>refN_cnt</th>\n",
       "      <th>refN_pct</th>\n",
       "      <th>segdup_cnt</th>\n",
       "      <th>segdup_pct</th>\n",
       "      <th>start</th>\n",
       "      <th>tandemrep_cnt</th>\n",
       "      <th>tandemrep_pct</th>\n",
       "    </tr>\n",
       "  </thead>\n",
       "  <tbody>\n",
       "    <tr>\n",
       "      <th>2572</th>\n",
       "      <td>-232.0</td>\n",
       "      <td>3.0</td>\n",
       "      <td>9601738.0</td>\n",
       "      <td>0.0</td>\n",
       "      <td>0.00000</td>\n",
       "      <td>0.000000</td>\n",
       "      <td>0.0</td>\n",
       "      <td>0.00000</td>\n",
       "      <td>0.000000</td>\n",
       "      <td>0.0</td>\n",
       "      <td>...</td>\n",
       "      <td>9325.050000</td>\n",
       "      <td>4177.258335</td>\n",
       "      <td>40.0</td>\n",
       "      <td>0.0</td>\n",
       "      <td>0.0</td>\n",
       "      <td>0.0</td>\n",
       "      <td>0.0</td>\n",
       "      <td>9601506.0</td>\n",
       "      <td>1.0</td>\n",
       "      <td>1.000000</td>\n",
       "    </tr>\n",
       "    <tr>\n",
       "      <th>1230</th>\n",
       "      <td>-21.0</td>\n",
       "      <td>13.0</td>\n",
       "      <td>108428179.0</td>\n",
       "      <td>0.0</td>\n",
       "      <td>0.00000</td>\n",
       "      <td>0.000000</td>\n",
       "      <td>0.0</td>\n",
       "      <td>0.00000</td>\n",
       "      <td>0.000000</td>\n",
       "      <td>0.0</td>\n",
       "      <td>...</td>\n",
       "      <td>10434.102560</td>\n",
       "      <td>4670.597677</td>\n",
       "      <td>39.0</td>\n",
       "      <td>0.0</td>\n",
       "      <td>0.0</td>\n",
       "      <td>0.0</td>\n",
       "      <td>0.0</td>\n",
       "      <td>108428158.0</td>\n",
       "      <td>0.0</td>\n",
       "      <td>0.000000</td>\n",
       "    </tr>\n",
       "    <tr>\n",
       "      <th>316</th>\n",
       "      <td>-366.0</td>\n",
       "      <td>16.0</td>\n",
       "      <td>59808677.0</td>\n",
       "      <td>1.0</td>\n",
       "      <td>14908.18182</td>\n",
       "      <td>5964.528067</td>\n",
       "      <td>11.0</td>\n",
       "      <td>10105.72727</td>\n",
       "      <td>4245.479566</td>\n",
       "      <td>11.0</td>\n",
       "      <td>...</td>\n",
       "      <td>9236.444444</td>\n",
       "      <td>3872.326627</td>\n",
       "      <td>27.0</td>\n",
       "      <td>0.0</td>\n",
       "      <td>0.0</td>\n",
       "      <td>0.0</td>\n",
       "      <td>0.0</td>\n",
       "      <td>59808311.0</td>\n",
       "      <td>6.0</td>\n",
       "      <td>0.379781</td>\n",
       "    </tr>\n",
       "    <tr>\n",
       "      <th>2752</th>\n",
       "      <td>-365.0</td>\n",
       "      <td>6.0</td>\n",
       "      <td>43626330.0</td>\n",
       "      <td>0.0</td>\n",
       "      <td>0.00000</td>\n",
       "      <td>0.000000</td>\n",
       "      <td>0.0</td>\n",
       "      <td>0.00000</td>\n",
       "      <td>0.000000</td>\n",
       "      <td>0.0</td>\n",
       "      <td>...</td>\n",
       "      <td>9207.861111</td>\n",
       "      <td>3842.198641</td>\n",
       "      <td>36.0</td>\n",
       "      <td>0.0</td>\n",
       "      <td>0.0</td>\n",
       "      <td>0.0</td>\n",
       "      <td>0.0</td>\n",
       "      <td>43625965.0</td>\n",
       "      <td>2.0</td>\n",
       "      <td>0.175342</td>\n",
       "    </tr>\n",
       "    <tr>\n",
       "      <th>2189</th>\n",
       "      <td>-133.0</td>\n",
       "      <td>12.0</td>\n",
       "      <td>128726483.0</td>\n",
       "      <td>-1.0</td>\n",
       "      <td>19367.03226</td>\n",
       "      <td>7310.282645</td>\n",
       "      <td>31.0</td>\n",
       "      <td>12599.00000</td>\n",
       "      <td>4730.513571</td>\n",
       "      <td>31.0</td>\n",
       "      <td>...</td>\n",
       "      <td>4135.000000</td>\n",
       "      <td>3197.444917</td>\n",
       "      <td>3.0</td>\n",
       "      <td>0.0</td>\n",
       "      <td>0.0</td>\n",
       "      <td>1.0</td>\n",
       "      <td>1.0</td>\n",
       "      <td>128726350.0</td>\n",
       "      <td>4.0</td>\n",
       "      <td>0.518797</td>\n",
       "    </tr>\n",
       "  </tbody>\n",
       "</table>\n",
       "<p>5 rows × 32 columns</p>\n",
       "</div>"
      ],
      "text/plain": [
       "       Size  chrom          end  pacbio.GT  pacbio.alt_alnScore_mean  \\\n",
       "2572 -232.0    3.0    9601738.0        0.0                   0.00000   \n",
       "1230  -21.0   13.0  108428179.0        0.0                   0.00000   \n",
       "316  -366.0   16.0   59808677.0        1.0               14908.18182   \n",
       "2752 -365.0    6.0   43626330.0        0.0                   0.00000   \n",
       "2189 -133.0   12.0  128726483.0       -1.0               19367.03226   \n",
       "\n",
       "      pacbio.alt_alnScore_std  pacbio.alt_count  pacbio.alt_insertSize_mean  \\\n",
       "2572                 0.000000               0.0                     0.00000   \n",
       "1230                 0.000000               0.0                     0.00000   \n",
       "316               5964.528067              11.0                 10105.72727   \n",
       "2752                 0.000000               0.0                     0.00000   \n",
       "2189              7310.282645              31.0                 12599.00000   \n",
       "\n",
       "      pacbio.alt_insertSize_std  pacbio.alt_reason_alignmentScore  \\\n",
       "2572                   0.000000                               0.0   \n",
       "1230                   0.000000                               0.0   \n",
       "316                 4245.479566                              11.0   \n",
       "2752                   0.000000                               0.0   \n",
       "2189                4730.513571                              31.0   \n",
       "\n",
       "          ...        pacbio.ref_insertSize_mean  pacbio.ref_insertSize_std  \\\n",
       "2572      ...                       9325.050000                4177.258335   \n",
       "1230      ...                      10434.102560                4670.597677   \n",
       "316       ...                       9236.444444                3872.326627   \n",
       "2752      ...                       9207.861111                3842.198641   \n",
       "2189      ...                       4135.000000                3197.444917   \n",
       "\n",
       "      pacbio.ref_reason_alignmentScore  refN_cnt  refN_pct  segdup_cnt  \\\n",
       "2572                              40.0       0.0       0.0         0.0   \n",
       "1230                              39.0       0.0       0.0         0.0   \n",
       "316                               27.0       0.0       0.0         0.0   \n",
       "2752                              36.0       0.0       0.0         0.0   \n",
       "2189                               3.0       0.0       0.0         1.0   \n",
       "\n",
       "      segdup_pct        start  tandemrep_cnt  tandemrep_pct  \n",
       "2572         0.0    9601506.0            1.0       1.000000  \n",
       "1230         0.0  108428158.0            0.0       0.000000  \n",
       "316          0.0   59808311.0            6.0       0.379781  \n",
       "2752         0.0   43625965.0            2.0       0.175342  \n",
       "2189         1.0  128726350.0            4.0       0.518797  \n",
       "\n",
       "[5 rows x 32 columns]"
      ]
     },
     "execution_count": 24,
     "metadata": {},
     "output_type": "execute_result"
    }
   ],
   "source": [
    "# Add original labels and predicted labels back to the original dataframe\n",
    "df_Xtest = pd.DataFrame(X_test)\n",
    "df_Xtest.head()"
   ]
  },
  {
   "cell_type": "code",
   "execution_count": 25,
   "metadata": {
    "collapsed": true
   },
   "outputs": [],
   "source": [
    "labels = pd.DataFrame(y_test)"
   ]
  },
  {
   "cell_type": "code",
   "execution_count": 26,
   "metadata": {
    "collapsed": true
   },
   "outputs": [],
   "source": [
    "df_Xtest['predicted_label'] = pred\n",
    "df_Xtest['Label'] = df_train['Label']\n",
    "df_Xtest['chrom'] = df_train['chrom']\n",
    "df_Xtest['start'] = df_train['start']\n",
    "df_Xtest['end'] = df_train['end']\n",
    "# df_Xtest['Y_test'] = labels"
   ]
  },
  {
   "cell_type": "code",
   "execution_count": 27,
   "metadata": {},
   "outputs": [
    {
     "data": {
      "text/plain": [
       "0    290\n",
       "1    322\n",
       "2    285\n",
       "dtype: int64"
      ]
     },
     "execution_count": 27,
     "metadata": {},
     "output_type": "execute_result"
    }
   ],
   "source": [
    "pd.value_counts(df_Xtest['Label'].values, sort=False)"
   ]
  },
  {
   "cell_type": "code",
   "execution_count": 28,
   "metadata": {},
   "outputs": [
    {
     "data": {
      "text/plain": [
       "0.0    318\n",
       "1.0    355\n",
       "2.0    224\n",
       "dtype: int64"
      ]
     },
     "execution_count": 28,
     "metadata": {},
     "output_type": "execute_result"
    }
   ],
   "source": [
    "pd.value_counts(df_Xtest['predicted_label'].values, sort=False)"
   ]
  },
  {
   "cell_type": "code",
   "execution_count": 29,
   "metadata": {},
   "outputs": [
    {
     "name": "stdout",
     "output_type": "stream",
     "text": [
      "[[234   8  48]\n",
      " [  7 281  34]\n",
      " [ 77  66 142]]\n"
     ]
    }
   ],
   "source": [
    "from sklearn.metrics import confusion_matrix\n",
    "ytest = df_Xtest['Label']\n",
    "predict = df_Xtest['predicted_label']\n",
    "print(confusion_matrix(ytest, predict))"
   ]
  },
  {
   "cell_type": "code",
   "execution_count": 30,
   "metadata": {
    "collapsed": true
   },
   "outputs": [],
   "source": [
    "df_Xtest['Label'].replace(0, 'Homozygous_Reference', inplace=True)\n",
    "df_Xtest['Label'].replace(1, 'Exact_Match', inplace=True)\n",
    "df_Xtest['Label'].replace(2, 'Inaccurate_Call', inplace=True)\n",
    "df_Xtest['predicted_label'].replace(0.0, 'Homozygous_Reference', inplace=True)\n",
    "df_Xtest['predicted_label'].replace(1.0, 'Exact_Match', inplace=True)\n",
    "df_Xtest['predicted_label'].replace(2.0, 'Inaccurate_Call', inplace=True)"
   ]
  },
  {
   "cell_type": "code",
   "execution_count": 31,
   "metadata": {},
   "outputs": [
    {
     "data": {
      "text/html": [
       "<div>\n",
       "<table border=\"1\" class=\"dataframe\">\n",
       "  <thead>\n",
       "    <tr style=\"text-align: right;\">\n",
       "      <th>Predicted</th>\n",
       "      <th>Exact_Match</th>\n",
       "      <th>Homozygous_Reference</th>\n",
       "      <th>Inaccurate_Call</th>\n",
       "      <th>All</th>\n",
       "    </tr>\n",
       "    <tr>\n",
       "      <th>True</th>\n",
       "      <th></th>\n",
       "      <th></th>\n",
       "      <th></th>\n",
       "      <th></th>\n",
       "    </tr>\n",
       "  </thead>\n",
       "  <tbody>\n",
       "    <tr>\n",
       "      <th>Exact_Match</th>\n",
       "      <td>281</td>\n",
       "      <td>7</td>\n",
       "      <td>34</td>\n",
       "      <td>322</td>\n",
       "    </tr>\n",
       "    <tr>\n",
       "      <th>Homozygous_Reference</th>\n",
       "      <td>8</td>\n",
       "      <td>234</td>\n",
       "      <td>48</td>\n",
       "      <td>290</td>\n",
       "    </tr>\n",
       "    <tr>\n",
       "      <th>Inaccurate_Call</th>\n",
       "      <td>66</td>\n",
       "      <td>77</td>\n",
       "      <td>142</td>\n",
       "      <td>285</td>\n",
       "    </tr>\n",
       "    <tr>\n",
       "      <th>All</th>\n",
       "      <td>355</td>\n",
       "      <td>318</td>\n",
       "      <td>224</td>\n",
       "      <td>897</td>\n",
       "    </tr>\n",
       "  </tbody>\n",
       "</table>\n",
       "</div>"
      ],
      "text/plain": [
       "Predicted             Exact_Match  Homozygous_Reference  Inaccurate_Call  All\n",
       "True                                                                         \n",
       "Exact_Match                   281                     7               34  322\n",
       "Homozygous_Reference            8                   234               48  290\n",
       "Inaccurate_Call                66                    77              142  285\n",
       "All                           355                   318              224  897"
      ]
     },
     "execution_count": 31,
     "metadata": {},
     "output_type": "execute_result"
    }
   ],
   "source": [
    "pd.crosstab(ytest, predict, rownames=['True'], colnames=['Predicted'], margins=True)"
   ]
  },
  {
   "cell_type": "code",
   "execution_count": 32,
   "metadata": {},
   "outputs": [
    {
     "name": "stdout",
     "output_type": "stream",
     "text": [
      "                      precision    recall  f1-score   support\n",
      "\n",
      "         Exact_Match       0.87      0.79      0.83       355\n",
      "Homozygous_Reference       0.81      0.74      0.77       318\n",
      "     Inaccurate_Call       0.50      0.63      0.56       224\n",
      "\n",
      "         avg / total       0.76      0.73      0.74       897\n",
      "\n"
     ]
    }
   ],
   "source": [
    "from sklearn.metrics import classification_report\n",
    "print(classification_report(predict,ytest))"
   ]
  },
  {
   "cell_type": "markdown",
   "metadata": {},
   "source": [
    "***\n",
    "Predict\n",
    "***"
   ]
  },
  {
   "cell_type": "markdown",
   "metadata": {},
   "source": [
    "Description:\n",
    "\n",
    "   * In the [previous section](#machine_learning) the model was trained on svanalyzer data.\n",
    "   **FYI**: [see description below of the SVanalyzer data](#svan_2)\n",
    "       * The model was trained using [train/test split](#train_test) where 70% of the data was used to train the model and the model performance was determined by predicting labels for the remaining 30% of the data\n",
    "       * Reminder: The labels for this training set and the following [prediction step](#prediction_step) are:\n",
    "           * Exact Match (1)\n",
    "           * Homozygous Reference (0)\n",
    "           * Inaccurate Call (2)\n",
    "           \n",
    "   * The trained model is used in the following section to predict labels for 5000 randomly selected Deletions [these datapoints were randomly selected from [union_170509_refalt.sort.vcf](ftp://ftp-trace.ncbi.nlm.nih.gov/giab/ftp/data/AshkenazimTrio/analysis/NIST_UnionSVs_05092017/)]\n",
    "   \n",
    "   "
   ]
  },
  {
   "cell_type": "markdown",
   "metadata": {},
   "source": [
    "<a id='svan_2'></a>\n",
    "* **Reminder - SVanalyzer data description:** \n",
    "     * **1000 Exact Match**: 1000 datapoints were randomly selected from the following [svanalyzer_union_170509_v0.3.0b.vcf](ftp://ftp-trace.ncbi.nlm.nih.gov/giab/ftp/data/AshkenazimTrio/analysis/NIST_UnionSVs_05092017/Preliminary_Integrations_v0.3.0/)\n",
    "     * **1000 Homozygous Reference**: 1000 datapoints were randomly selected from the following [svanalyzer_union_170509_v0.3.0b.vcf](ftp://ftp-trace.ncbi.nlm.nih.gov/giab/ftp/data/AshkenazimTrio/analysis/NIST_UnionSVs_05092017/Preliminary_Integrations_v0.3.0/)\n",
    "     * **1000 Inaccurate Calls**: 1000 datapoints were randomly selected from the following\n",
    "[svanalyzer_union_170509_refalt.2.2.2.clustered.uniquecalls.vcf](ftp://ftp-trace.ncbi.nlm.nih.gov/giab/ftp/data/AshkenazimTrio/analysis/NIST_UnionSVs_05092017/Preliminary_Integrations_v0.3.0/)\n",
    "   \n",
    "   * Source of Features: svviz, GA4GH [tandem repeat, segmental duplications, refN], R analysis [consensus genotype, GTsup]   \n",
    "   "
   ]
  },
  {
   "cell_type": "markdown",
   "metadata": {},
   "source": [
    "** Load Data **"
   ]
  },
  {
   "cell_type": "code",
   "execution_count": 33,
   "metadata": {
    "collapsed": true
   },
   "outputs": [],
   "source": [
    "X2 = df_test"
   ]
  },
  {
   "cell_type": "markdown",
   "metadata": {},
   "source": [
    "** Impute missing values using KNN **"
   ]
  },
  {
   "cell_type": "code",
   "execution_count": 34,
   "metadata": {},
   "outputs": [
    {
     "name": "stdout",
     "output_type": "stream",
     "text": [
      "Imputing row 1/3281 with 0 missing, elapsed time: 2.737\n",
      "Imputing row 101/3281 with 0 missing, elapsed time: 2.738\n",
      "Imputing row 201/3281 with 0 missing, elapsed time: 2.738\n",
      "Imputing row 301/3281 with 0 missing, elapsed time: 2.740\n",
      "Imputing row 401/3281 with 0 missing, elapsed time: 2.742\n",
      "Imputing row 501/3281 with 0 missing, elapsed time: 2.744\n",
      "Imputing row 601/3281 with 0 missing, elapsed time: 2.745\n",
      "Imputing row 701/3281 with 0 missing, elapsed time: 2.746\n",
      "Imputing row 801/3281 with 0 missing, elapsed time: 2.748\n",
      "Imputing row 901/3281 with 0 missing, elapsed time: 2.750\n",
      "Imputing row 1001/3281 with 0 missing, elapsed time: 2.751\n",
      "Imputing row 1101/3281 with 0 missing, elapsed time: 2.753\n",
      "Imputing row 1201/3281 with 0 missing, elapsed time: 2.756\n",
      "Imputing row 1301/3281 with 0 missing, elapsed time: 2.757\n",
      "Imputing row 1401/3281 with 0 missing, elapsed time: 2.758\n",
      "Imputing row 1501/3281 with 0 missing, elapsed time: 2.759\n",
      "Imputing row 1601/3281 with 0 missing, elapsed time: 2.760\n",
      "Imputing row 1701/3281 with 0 missing, elapsed time: 2.760\n",
      "Imputing row 1801/3281 with 0 missing, elapsed time: 2.761\n",
      "Imputing row 1901/3281 with 0 missing, elapsed time: 2.761\n",
      "Imputing row 2001/3281 with 0 missing, elapsed time: 2.763\n",
      "Imputing row 2101/3281 with 0 missing, elapsed time: 2.763\n",
      "Imputing row 2201/3281 with 0 missing, elapsed time: 2.764\n",
      "Imputing row 2301/3281 with 0 missing, elapsed time: 2.764\n",
      "Imputing row 2401/3281 with 0 missing, elapsed time: 2.765\n",
      "Imputing row 2501/3281 with 0 missing, elapsed time: 2.765\n",
      "Imputing row 2601/3281 with 0 missing, elapsed time: 2.766\n",
      "Imputing row 2701/3281 with 0 missing, elapsed time: 2.766\n",
      "Imputing row 2801/3281 with 0 missing, elapsed time: 2.767\n",
      "Imputing row 2901/3281 with 0 missing, elapsed time: 2.767\n",
      "Imputing row 3001/3281 with 0 missing, elapsed time: 2.768\n",
      "Imputing row 3101/3281 with 0 missing, elapsed time: 2.768\n",
      "Imputing row 3201/3281 with 0 missing, elapsed time: 2.769\n"
     ]
    }
   ],
   "source": [
    "#Convert dataframe to matrix\n",
    "X2=X2.as_matrix()\n",
    "\n",
    "#Imput missing values from three closest observations\n",
    "X2_imputed=KNN(k=3).complete(X2)\n",
    "X2=pd.DataFrame(X2_imputed)"
   ]
  },
  {
   "cell_type": "code",
   "execution_count": 35,
   "metadata": {},
   "outputs": [
    {
     "data": {
      "text/html": [
       "<div>\n",
       "<table border=\"1\" class=\"dataframe\">\n",
       "  <thead>\n",
       "    <tr style=\"text-align: right;\">\n",
       "      <th></th>\n",
       "      <th>chrom</th>\n",
       "      <th>start</th>\n",
       "      <th>end</th>\n",
       "      <th>Size</th>\n",
       "      <th>refN_cnt</th>\n",
       "      <th>refN_pct</th>\n",
       "      <th>segdup_cnt</th>\n",
       "      <th>segdup_pct</th>\n",
       "      <th>tandemrep_cnt</th>\n",
       "      <th>tandemrep_pct</th>\n",
       "      <th>...</th>\n",
       "      <th>pacbio.amb_reason_alignmentScore_alignmentScore</th>\n",
       "      <th>pacbio.amb_reason_flanking</th>\n",
       "      <th>pacbio.amb_reason_multimapping</th>\n",
       "      <th>pacbio.amb_reason_same_scores</th>\n",
       "      <th>pacbio.ref_alnScore_mean</th>\n",
       "      <th>pacbio.ref_alnScore_std</th>\n",
       "      <th>pacbio.ref_count</th>\n",
       "      <th>pacbio.ref_insertSize_mean</th>\n",
       "      <th>pacbio.ref_insertSize_std</th>\n",
       "      <th>pacbio.ref_reason_alignmentScore</th>\n",
       "    </tr>\n",
       "  </thead>\n",
       "  <tbody>\n",
       "    <tr>\n",
       "      <th>0</th>\n",
       "      <td>1.0</td>\n",
       "      <td>37568322.0</td>\n",
       "      <td>37568587.0</td>\n",
       "      <td>-115.0</td>\n",
       "      <td>0.0</td>\n",
       "      <td>0.0</td>\n",
       "      <td>0.0</td>\n",
       "      <td>0.000000</td>\n",
       "      <td>3.0</td>\n",
       "      <td>0.818868</td>\n",
       "      <td>...</td>\n",
       "      <td>149.0</td>\n",
       "      <td>209.0</td>\n",
       "      <td>4.0</td>\n",
       "      <td>16.0</td>\n",
       "      <td>13276.22581</td>\n",
       "      <td>7611.378230</td>\n",
       "      <td>31.0</td>\n",
       "      <td>8407.903226</td>\n",
       "      <td>4770.945293</td>\n",
       "      <td>31.0</td>\n",
       "    </tr>\n",
       "    <tr>\n",
       "      <th>1</th>\n",
       "      <td>1.0</td>\n",
       "      <td>112835104.0</td>\n",
       "      <td>112837661.0</td>\n",
       "      <td>-2534.0</td>\n",
       "      <td>0.0</td>\n",
       "      <td>0.0</td>\n",
       "      <td>1.0</td>\n",
       "      <td>0.890888</td>\n",
       "      <td>6.0</td>\n",
       "      <td>0.460305</td>\n",
       "      <td>...</td>\n",
       "      <td>159.0</td>\n",
       "      <td>270.0</td>\n",
       "      <td>8.0</td>\n",
       "      <td>9.0</td>\n",
       "      <td>11538.50000</td>\n",
       "      <td>5911.500000</td>\n",
       "      <td>2.0</td>\n",
       "      <td>7826.000000</td>\n",
       "      <td>4015.000000</td>\n",
       "      <td>2.0</td>\n",
       "    </tr>\n",
       "    <tr>\n",
       "      <th>2</th>\n",
       "      <td>1.0</td>\n",
       "      <td>3557049.0</td>\n",
       "      <td>3557087.0</td>\n",
       "      <td>-37.0</td>\n",
       "      <td>0.0</td>\n",
       "      <td>0.0</td>\n",
       "      <td>0.0</td>\n",
       "      <td>0.000000</td>\n",
       "      <td>0.0</td>\n",
       "      <td>0.000000</td>\n",
       "      <td>...</td>\n",
       "      <td>151.0</td>\n",
       "      <td>207.0</td>\n",
       "      <td>0.0</td>\n",
       "      <td>10.0</td>\n",
       "      <td>8573.00000</td>\n",
       "      <td>4836.734918</td>\n",
       "      <td>3.0</td>\n",
       "      <td>6021.000000</td>\n",
       "      <td>3561.905763</td>\n",
       "      <td>3.0</td>\n",
       "    </tr>\n",
       "  </tbody>\n",
       "</table>\n",
       "<p>3 rows × 32 columns</p>\n",
       "</div>"
      ],
      "text/plain": [
       "   chrom        start          end    Size  refN_cnt  refN_pct  segdup_cnt  \\\n",
       "0    1.0   37568322.0   37568587.0  -115.0       0.0       0.0         0.0   \n",
       "1    1.0  112835104.0  112837661.0 -2534.0       0.0       0.0         1.0   \n",
       "2    1.0    3557049.0    3557087.0   -37.0       0.0       0.0         0.0   \n",
       "\n",
       "   segdup_pct  tandemrep_cnt  tandemrep_pct                ...                 \\\n",
       "0    0.000000            3.0       0.818868                ...                  \n",
       "1    0.890888            6.0       0.460305                ...                  \n",
       "2    0.000000            0.0       0.000000                ...                  \n",
       "\n",
       "   pacbio.amb_reason_alignmentScore_alignmentScore  \\\n",
       "0                                            149.0   \n",
       "1                                            159.0   \n",
       "2                                            151.0   \n",
       "\n",
       "   pacbio.amb_reason_flanking  pacbio.amb_reason_multimapping  \\\n",
       "0                       209.0                             4.0   \n",
       "1                       270.0                             8.0   \n",
       "2                       207.0                             0.0   \n",
       "\n",
       "   pacbio.amb_reason_same_scores  pacbio.ref_alnScore_mean  \\\n",
       "0                           16.0               13276.22581   \n",
       "1                            9.0               11538.50000   \n",
       "2                           10.0                8573.00000   \n",
       "\n",
       "   pacbio.ref_alnScore_std  pacbio.ref_count  pacbio.ref_insertSize_mean  \\\n",
       "0              7611.378230              31.0                 8407.903226   \n",
       "1              5911.500000               2.0                 7826.000000   \n",
       "2              4836.734918               3.0                 6021.000000   \n",
       "\n",
       "   pacbio.ref_insertSize_std  pacbio.ref_reason_alignmentScore  \n",
       "0                4770.945293                              31.0  \n",
       "1                4015.000000                               2.0  \n",
       "2                3561.905763                               3.0  \n",
       "\n",
       "[3 rows x 32 columns]"
      ]
     },
     "execution_count": 35,
     "metadata": {},
     "output_type": "execute_result"
    }
   ],
   "source": [
    "dftest_header = list(df_test.columns.values)\n",
    "X2.columns = dftest_header\n",
    "X2.head(3)"
   ]
  },
  {
   "cell_type": "code",
   "execution_count": 36,
   "metadata": {},
   "outputs": [
    {
     "data": {
      "text/html": [
       "<div>\n",
       "<table border=\"1\" class=\"dataframe\">\n",
       "  <thead>\n",
       "    <tr style=\"text-align: right;\">\n",
       "      <th></th>\n",
       "      <th>chrom</th>\n",
       "      <th>start</th>\n",
       "      <th>end</th>\n",
       "      <th>Size</th>\n",
       "      <th>refN_cnt</th>\n",
       "      <th>refN_pct</th>\n",
       "      <th>segdup_cnt</th>\n",
       "      <th>segdup_pct</th>\n",
       "      <th>tandemrep_cnt</th>\n",
       "      <th>tandemrep_pct</th>\n",
       "      <th>...</th>\n",
       "      <th>pacbio.amb_reason_alignmentScore_alignmentScore</th>\n",
       "      <th>pacbio.amb_reason_flanking</th>\n",
       "      <th>pacbio.amb_reason_multimapping</th>\n",
       "      <th>pacbio.amb_reason_same_scores</th>\n",
       "      <th>pacbio.ref_alnScore_mean</th>\n",
       "      <th>pacbio.ref_alnScore_std</th>\n",
       "      <th>pacbio.ref_count</th>\n",
       "      <th>pacbio.ref_insertSize_mean</th>\n",
       "      <th>pacbio.ref_insertSize_std</th>\n",
       "      <th>pacbio.ref_reason_alignmentScore</th>\n",
       "    </tr>\n",
       "  </thead>\n",
       "  <tbody>\n",
       "    <tr>\n",
       "      <th>0</th>\n",
       "      <td>1.0</td>\n",
       "      <td>37568322.0</td>\n",
       "      <td>37568587.0</td>\n",
       "      <td>-115.0</td>\n",
       "      <td>0.0</td>\n",
       "      <td>0.0</td>\n",
       "      <td>0.0</td>\n",
       "      <td>0.000000</td>\n",
       "      <td>3.0</td>\n",
       "      <td>0.818868</td>\n",
       "      <td>...</td>\n",
       "      <td>149.0</td>\n",
       "      <td>209.0</td>\n",
       "      <td>4.0</td>\n",
       "      <td>16.0</td>\n",
       "      <td>13276.22581</td>\n",
       "      <td>7611.378230</td>\n",
       "      <td>31.0</td>\n",
       "      <td>8407.903226</td>\n",
       "      <td>4770.945293</td>\n",
       "      <td>31.0</td>\n",
       "    </tr>\n",
       "    <tr>\n",
       "      <th>1</th>\n",
       "      <td>1.0</td>\n",
       "      <td>112835104.0</td>\n",
       "      <td>112837661.0</td>\n",
       "      <td>-2534.0</td>\n",
       "      <td>0.0</td>\n",
       "      <td>0.0</td>\n",
       "      <td>1.0</td>\n",
       "      <td>0.890888</td>\n",
       "      <td>6.0</td>\n",
       "      <td>0.460305</td>\n",
       "      <td>...</td>\n",
       "      <td>159.0</td>\n",
       "      <td>270.0</td>\n",
       "      <td>8.0</td>\n",
       "      <td>9.0</td>\n",
       "      <td>11538.50000</td>\n",
       "      <td>5911.500000</td>\n",
       "      <td>2.0</td>\n",
       "      <td>7826.000000</td>\n",
       "      <td>4015.000000</td>\n",
       "      <td>2.0</td>\n",
       "    </tr>\n",
       "    <tr>\n",
       "      <th>2</th>\n",
       "      <td>1.0</td>\n",
       "      <td>3557049.0</td>\n",
       "      <td>3557087.0</td>\n",
       "      <td>-37.0</td>\n",
       "      <td>0.0</td>\n",
       "      <td>0.0</td>\n",
       "      <td>0.0</td>\n",
       "      <td>0.000000</td>\n",
       "      <td>0.0</td>\n",
       "      <td>0.000000</td>\n",
       "      <td>...</td>\n",
       "      <td>151.0</td>\n",
       "      <td>207.0</td>\n",
       "      <td>0.0</td>\n",
       "      <td>10.0</td>\n",
       "      <td>8573.00000</td>\n",
       "      <td>4836.734918</td>\n",
       "      <td>3.0</td>\n",
       "      <td>6021.000000</td>\n",
       "      <td>3561.905763</td>\n",
       "      <td>3.0</td>\n",
       "    </tr>\n",
       "  </tbody>\n",
       "</table>\n",
       "<p>3 rows × 32 columns</p>\n",
       "</div>"
      ],
      "text/plain": [
       "   chrom        start          end    Size  refN_cnt  refN_pct  segdup_cnt  \\\n",
       "0    1.0   37568322.0   37568587.0  -115.0       0.0       0.0         0.0   \n",
       "1    1.0  112835104.0  112837661.0 -2534.0       0.0       0.0         1.0   \n",
       "2    1.0    3557049.0    3557087.0   -37.0       0.0       0.0         0.0   \n",
       "\n",
       "   segdup_pct  tandemrep_cnt  tandemrep_pct                ...                 \\\n",
       "0    0.000000            3.0       0.818868                ...                  \n",
       "1    0.890888            6.0       0.460305                ...                  \n",
       "2    0.000000            0.0       0.000000                ...                  \n",
       "\n",
       "   pacbio.amb_reason_alignmentScore_alignmentScore  \\\n",
       "0                                            149.0   \n",
       "1                                            159.0   \n",
       "2                                            151.0   \n",
       "\n",
       "   pacbio.amb_reason_flanking  pacbio.amb_reason_multimapping  \\\n",
       "0                       209.0                             4.0   \n",
       "1                       270.0                             8.0   \n",
       "2                       207.0                             0.0   \n",
       "\n",
       "   pacbio.amb_reason_same_scores  pacbio.ref_alnScore_mean  \\\n",
       "0                           16.0               13276.22581   \n",
       "1                            9.0               11538.50000   \n",
       "2                           10.0                8573.00000   \n",
       "\n",
       "   pacbio.ref_alnScore_std  pacbio.ref_count  pacbio.ref_insertSize_mean  \\\n",
       "0              7611.378230              31.0                 8407.903226   \n",
       "1              5911.500000               2.0                 7826.000000   \n",
       "2              4836.734918               3.0                 6021.000000   \n",
       "\n",
       "   pacbio.ref_insertSize_std  pacbio.ref_reason_alignmentScore  \n",
       "0                4770.945293                              31.0  \n",
       "1                4015.000000                               2.0  \n",
       "2                3561.905763                               3.0  \n",
       "\n",
       "[3 rows x 32 columns]"
      ]
     },
     "execution_count": 36,
     "metadata": {},
     "output_type": "execute_result"
    }
   ],
   "source": [
    "X3 = pd.DataFrame()\n",
    "X3 = X2\n",
    "X3.head(3)"
   ]
  },
  {
   "cell_type": "code",
   "execution_count": 37,
   "metadata": {
    "collapsed": true
   },
   "outputs": [],
   "source": [
    "# Order features\n",
    "X5 = X2.reindex_axis(sorted(X2.columns), axis=1)"
   ]
  },
  {
   "cell_type": "markdown",
   "metadata": {},
   "source": [
    "<a id='prediction_step'></a>"
   ]
  },
  {
   "cell_type": "code",
   "execution_count": 38,
   "metadata": {
    "collapsed": true
   },
   "outputs": [],
   "source": [
    "pred = model.predict(X5)"
   ]
  },
  {
   "cell_type": "code",
   "execution_count": 39,
   "metadata": {
    "collapsed": true
   },
   "outputs": [],
   "source": [
    "pred_prob = model.predict_proba(X5)"
   ]
  },
  {
   "cell_type": "code",
   "execution_count": 40,
   "metadata": {
    "collapsed": true
   },
   "outputs": [],
   "source": [
    "X5['predicted_label'] = pred\n",
    "X5['chrom'] = df_test_2['chrom']\n",
    "X5['start'] = df_test_2['start']\n",
    "X5['end'] = df_test_2['end']\n",
    "X5['Size'] = df_test_2['Size']\n",
    "X5['GTcons'] = df_test_2['GTcons']\n",
    "X5['GTsupp'] = df_test_2['GTsupp']\n",
    "X5['GTconswithoutpacbio.GT'] = df_test_2['GTconswithoutpacbio.GT']"
   ]
  },
  {
   "cell_type": "code",
   "execution_count": 41,
   "metadata": {
    "collapsed": true
   },
   "outputs": [],
   "source": [
    "X6 = pd.concat([X5, pd.DataFrame(pred_prob, columns=['1','2','3'])])"
   ]
  },
  {
   "cell_type": "code",
   "execution_count": null,
   "metadata": {
    "collapsed": true
   },
   "outputs": [],
   "source": [
    "X6.to_csv('/Volumes/lesleydata/SVanalyzer_ML/Oct122017_Revised_R/summary_plots/data/preliminary_df/PB_pred_prob_DEL_SVanalyzer_revised_EMHRIC.csv', index=False)"
   ]
  },
  {
   "cell_type": "code",
   "execution_count": null,
   "metadata": {
    "collapsed": true
   },
   "outputs": [],
   "source": [
    "#Note: Reformat X6 csv"
   ]
  },
  {
   "cell_type": "code",
   "execution_count": 42,
   "metadata": {
    "collapsed": true
   },
   "outputs": [],
   "source": [
    "X6 = pd.read_csv('/Volumes/lesleydata/SVanalyzer_ML/Oct122017_Revised_R/summary_plots/data/preliminary_df/PB_pred_prob_DEL_SVanalyzer_revised_EMHRIC.csv')"
   ]
  },
  {
   "cell_type": "code",
   "execution_count": 43,
   "metadata": {
    "collapsed": true
   },
   "outputs": [],
   "source": [
    "X6.rename(columns={'1': 'Homozygous_Reference_SVan_predprob_PB'}, inplace=True)\n",
    "X6.rename(columns={'2': 'Exact_Match_predprob_PB'}, inplace=True)\n",
    "X6.rename(columns={'3': 'Inaccurate_Call_predprob_PB'}, inplace=True)\n",
    "X6.rename(columns={'predicted_label': 'PB_predicted_EMHRIC_label'}, inplace=True)"
   ]
  },
  {
   "cell_type": "code",
   "execution_count": null,
   "metadata": {},
   "outputs": [],
   "source": [
    "X6.head(3)"
   ]
  },
  {
   "cell_type": "code",
   "execution_count": null,
   "metadata": {
    "collapsed": true
   },
   "outputs": [],
   "source": [
    "X6.to_csv('/Volumes/lesleydata/SVanalyzer_ML/Oct122017_Revised_R/summary_plots/data/PB_final_df_DEL_SVanalyzer_revised_EMHRIC.csv', index=False)"
   ]
  },
  {
   "cell_type": "markdown",
   "metadata": {},
   "source": [
    "***\n",
    "Label Analysis\n",
    "***"
   ]
  },
  {
   "cell_type": "markdown",
   "metadata": {},
   "source": [
    "Description:\n",
    "  * Comparison of model predicted labels [Exact Match, Homozygous Reference, Inaccurate Calls] to consensus genotype for the 5000 randomly selected datapoints from union_refalt.vcf for HG002 only"
   ]
  },
  {
   "cell_type": "code",
   "execution_count": 44,
   "metadata": {},
   "outputs": [
    {
     "name": "stdout",
     "output_type": "stream",
     "text": [
      "[[ 547   34  207]\n",
      " [  18 1696   98]\n",
      " [   4  661   16]]\n"
     ]
    }
   ],
   "source": [
    "from sklearn.metrics import confusion_matrix\n",
    "consensus_GT = X6['GTcons']\n",
    "predict = X6['PB_predicted_EMHRIC_label']\n",
    "print(confusion_matrix(consensus_GT, predict))"
   ]
  },
  {
   "cell_type": "code",
   "execution_count": 45,
   "metadata": {},
   "outputs": [
    {
     "name": "stdout",
     "output_type": "stream",
     "text": [
      "[[ 547   34  207]\n",
      " [  18 1696   98]\n",
      " [   4  661   16]]\n"
     ]
    }
   ],
   "source": [
    "from sklearn.metrics import confusion_matrix\n",
    "GT_without_XX = X6['GTconswithoutpacbio.GT']\n",
    "predict = X6['PB_predicted_EMHRIC_label']\n",
    "print(confusion_matrix(consensus_GT, predict))"
   ]
  },
  {
   "cell_type": "code",
   "execution_count": 46,
   "metadata": {},
   "outputs": [
    {
     "data": {
      "text/plain": [
       "0     788\n",
       "2     681\n",
       "1    1812\n",
       "dtype: int64"
      ]
     },
     "execution_count": 46,
     "metadata": {},
     "output_type": "execute_result"
    }
   ],
   "source": [
    "pd.value_counts(X6['GTconswithoutpacbio.GT'].values, sort=False)"
   ]
  },
  {
   "cell_type": "code",
   "execution_count": 47,
   "metadata": {},
   "outputs": [
    {
     "data": {
      "text/plain": [
       "0     788\n",
       "2     681\n",
       "1    1812\n",
       "dtype: int64"
      ]
     },
     "execution_count": 47,
     "metadata": {},
     "output_type": "execute_result"
    }
   ],
   "source": [
    "pd.value_counts(X6['GTcons'].values, sort=False)"
   ]
  },
  {
   "cell_type": "code",
   "execution_count": 48,
   "metadata": {
    "collapsed": true
   },
   "outputs": [],
   "source": [
    "X6['GTcons'].replace(-1, 'Unknown', inplace=True)\n",
    "X6['GTcons'].replace(0, 'Homozygous_Reference', inplace=True)\n",
    "X6['GTcons'].replace(1, 'Heterozygous_Variant', inplace=True)\n",
    "X6['GTcons'].replace(2, 'Homozygous_Variant', inplace=True)\n",
    "X6['PB_predicted_EMHRIC_label'].replace(0.0, 'Homozygous_Reference_SVan', inplace=True)\n",
    "X6['PB_predicted_EMHRIC_label'].replace(1.0, 'Exact_Match', inplace=True)\n",
    "X6['PB_predicted_EMHRIC_label'].replace(2.0, 'Inaccurate_Call', inplace=True)"
   ]
  },
  {
   "cell_type": "code",
   "execution_count": 49,
   "metadata": {
    "collapsed": true
   },
   "outputs": [],
   "source": [
    "X6['GTconswithoutpacbio.GT'].replace(-1, 'Unknown', inplace=True)\n",
    "X6['GTconswithoutpacbio.GT'].replace(0, 'Homozygous_Reference', inplace=True)\n",
    "X6['GTconswithoutpacbio.GT'].replace(1, 'Heterozygous_Variant', inplace=True)\n",
    "X6['GTconswithoutpacbio.GT'].replace(2, 'Homozygous_Variant', inplace=True)"
   ]
  },
  {
   "cell_type": "markdown",
   "metadata": {},
   "source": [
    "** Compare SVanalyzer Labels to GTcons **"
   ]
  },
  {
   "cell_type": "code",
   "execution_count": 50,
   "metadata": {},
   "outputs": [
    {
     "data": {
      "text/html": [
       "<div>\n",
       "<table border=\"1\" class=\"dataframe\">\n",
       "  <thead>\n",
       "    <tr style=\"text-align: right;\">\n",
       "      <th>SVanalyzer_Label</th>\n",
       "      <th>Exact_Match</th>\n",
       "      <th>Homozygous_Reference_SVan</th>\n",
       "      <th>Inaccurate_Call</th>\n",
       "      <th>All</th>\n",
       "    </tr>\n",
       "    <tr>\n",
       "      <th>GTcons</th>\n",
       "      <th></th>\n",
       "      <th></th>\n",
       "      <th></th>\n",
       "      <th></th>\n",
       "    </tr>\n",
       "  </thead>\n",
       "  <tbody>\n",
       "    <tr>\n",
       "      <th>Heterozygous_Variant</th>\n",
       "      <td>1696</td>\n",
       "      <td>18</td>\n",
       "      <td>98</td>\n",
       "      <td>1812</td>\n",
       "    </tr>\n",
       "    <tr>\n",
       "      <th>Homozygous_Reference</th>\n",
       "      <td>34</td>\n",
       "      <td>547</td>\n",
       "      <td>207</td>\n",
       "      <td>788</td>\n",
       "    </tr>\n",
       "    <tr>\n",
       "      <th>Homozygous_Variant</th>\n",
       "      <td>661</td>\n",
       "      <td>4</td>\n",
       "      <td>16</td>\n",
       "      <td>681</td>\n",
       "    </tr>\n",
       "    <tr>\n",
       "      <th>All</th>\n",
       "      <td>2391</td>\n",
       "      <td>569</td>\n",
       "      <td>321</td>\n",
       "      <td>3281</td>\n",
       "    </tr>\n",
       "  </tbody>\n",
       "</table>\n",
       "</div>"
      ],
      "text/plain": [
       "SVanalyzer_Label      Exact_Match  Homozygous_Reference_SVan  Inaccurate_Call  \\\n",
       "GTcons                                                                          \n",
       "Heterozygous_Variant         1696                         18               98   \n",
       "Homozygous_Reference           34                        547              207   \n",
       "Homozygous_Variant            661                          4               16   \n",
       "All                          2391                        569              321   \n",
       "\n",
       "SVanalyzer_Label       All  \n",
       "GTcons                      \n",
       "Heterozygous_Variant  1812  \n",
       "Homozygous_Reference   788  \n",
       "Homozygous_Variant     681  \n",
       "All                   3281  "
      ]
     },
     "execution_count": 50,
     "metadata": {},
     "output_type": "execute_result"
    }
   ],
   "source": [
    "pd.crosstab(consensus_GT, predict, rownames=['GTcons'], colnames=['SVanalyzer_Label'], margins=True)"
   ]
  },
  {
   "cell_type": "markdown",
   "metadata": {},
   "source": [
    "** Compare SVanalyzer Labels to LOO Consensus GT **"
   ]
  },
  {
   "cell_type": "code",
   "execution_count": 51,
   "metadata": {},
   "outputs": [
    {
     "data": {
      "text/html": [
       "<div>\n",
       "<table border=\"1\" class=\"dataframe\">\n",
       "  <thead>\n",
       "    <tr style=\"text-align: right;\">\n",
       "      <th>SVanalyzer_Label</th>\n",
       "      <th>Exact_Match</th>\n",
       "      <th>Homozygous_Reference_SVan</th>\n",
       "      <th>Inaccurate_Call</th>\n",
       "      <th>All</th>\n",
       "    </tr>\n",
       "    <tr>\n",
       "      <th>GTcons_withoutXX</th>\n",
       "      <th></th>\n",
       "      <th></th>\n",
       "      <th></th>\n",
       "      <th></th>\n",
       "    </tr>\n",
       "  </thead>\n",
       "  <tbody>\n",
       "    <tr>\n",
       "      <th>Heterozygous_Variant</th>\n",
       "      <td>1696</td>\n",
       "      <td>18</td>\n",
       "      <td>98</td>\n",
       "      <td>1812</td>\n",
       "    </tr>\n",
       "    <tr>\n",
       "      <th>Homozygous_Reference</th>\n",
       "      <td>34</td>\n",
       "      <td>547</td>\n",
       "      <td>207</td>\n",
       "      <td>788</td>\n",
       "    </tr>\n",
       "    <tr>\n",
       "      <th>Homozygous_Variant</th>\n",
       "      <td>661</td>\n",
       "      <td>4</td>\n",
       "      <td>16</td>\n",
       "      <td>681</td>\n",
       "    </tr>\n",
       "    <tr>\n",
       "      <th>All</th>\n",
       "      <td>2391</td>\n",
       "      <td>569</td>\n",
       "      <td>321</td>\n",
       "      <td>3281</td>\n",
       "    </tr>\n",
       "  </tbody>\n",
       "</table>\n",
       "</div>"
      ],
      "text/plain": [
       "SVanalyzer_Label      Exact_Match  Homozygous_Reference_SVan  Inaccurate_Call  \\\n",
       "GTcons_withoutXX                                                                \n",
       "Heterozygous_Variant         1696                         18               98   \n",
       "Homozygous_Reference           34                        547              207   \n",
       "Homozygous_Variant            661                          4               16   \n",
       "All                          2391                        569              321   \n",
       "\n",
       "SVanalyzer_Label       All  \n",
       "GTcons_withoutXX            \n",
       "Heterozygous_Variant  1812  \n",
       "Homozygous_Reference   788  \n",
       "Homozygous_Variant     681  \n",
       "All                   3281  "
      ]
     },
     "execution_count": 51,
     "metadata": {},
     "output_type": "execute_result"
    }
   ],
   "source": [
    "pd.crosstab(GT_without_XX, predict, rownames=['GTcons_withoutXX'], colnames=['SVanalyzer_Label'], margins=True)"
   ]
  },
  {
   "cell_type": "markdown",
   "metadata": {},
   "source": [
    "** High Confidence Label Analysis**\n",
    "* **Reminder:** The labels predicted by the model are the following svanalyzer labels:\n",
    "    * Homozygous Reference: 0 \n",
    "    * Exact Match: 1 \n",
    "    * Inaccurate Call: 2 \n",
    "* Here **high confidence labels** are the labels predicted by the model that were also assigned a predict probability of either 0.9 or 1\n",
    "* The following is an analysis of predicted svanalyzer labels with predict probability >0.9"
   ]
  },
  {
   "cell_type": "code",
   "execution_count": 52,
   "metadata": {
    "collapsed": true
   },
   "outputs": [],
   "source": [
    "high_conf_labels = X6[(X6['Homozygous_Reference_SVan_predprob_PB'] == 1) | (X6['Homozygous_Reference_SVan_predprob_PB'] == 0.9) | (X6['Exact_Match_predprob_PB'] == 1) | (X6['Exact_Match_predprob_PB'] == 0.9) | (X6['Inaccurate_Call_predprob_PB'] == 1) | (X6['Inaccurate_Call_predprob_PB'] == 0.9)]"
   ]
  },
  {
   "cell_type": "markdown",
   "metadata": {},
   "source": [
    "** Consensus Genotype versus SVanalyzer Labels **"
   ]
  },
  {
   "cell_type": "code",
   "execution_count": 53,
   "metadata": {
    "scrolled": true
   },
   "outputs": [
    {
     "data": {
      "text/html": [
       "<div>\n",
       "<table border=\"1\" class=\"dataframe\">\n",
       "  <thead>\n",
       "    <tr style=\"text-align: right;\">\n",
       "      <th>SVanalyzer_Label</th>\n",
       "      <th>Exact_Match</th>\n",
       "      <th>Homozygous_Reference_SVan</th>\n",
       "      <th>Inaccurate_Call</th>\n",
       "      <th>All</th>\n",
       "    </tr>\n",
       "    <tr>\n",
       "      <th>GTcons</th>\n",
       "      <th></th>\n",
       "      <th></th>\n",
       "      <th></th>\n",
       "      <th></th>\n",
       "    </tr>\n",
       "  </thead>\n",
       "  <tbody>\n",
       "    <tr>\n",
       "      <th>Heterozygous_Variant</th>\n",
       "      <td>867</td>\n",
       "      <td>0</td>\n",
       "      <td>3</td>\n",
       "      <td>870</td>\n",
       "    </tr>\n",
       "    <tr>\n",
       "      <th>Homozygous_Reference</th>\n",
       "      <td>5</td>\n",
       "      <td>189</td>\n",
       "      <td>22</td>\n",
       "      <td>216</td>\n",
       "    </tr>\n",
       "    <tr>\n",
       "      <th>Homozygous_Variant</th>\n",
       "      <td>392</td>\n",
       "      <td>1</td>\n",
       "      <td>1</td>\n",
       "      <td>394</td>\n",
       "    </tr>\n",
       "    <tr>\n",
       "      <th>All</th>\n",
       "      <td>1264</td>\n",
       "      <td>190</td>\n",
       "      <td>26</td>\n",
       "      <td>1480</td>\n",
       "    </tr>\n",
       "  </tbody>\n",
       "</table>\n",
       "</div>"
      ],
      "text/plain": [
       "SVanalyzer_Label      Exact_Match  Homozygous_Reference_SVan  Inaccurate_Call  \\\n",
       "GTcons                                                                          \n",
       "Heterozygous_Variant          867                          0                3   \n",
       "Homozygous_Reference            5                        189               22   \n",
       "Homozygous_Variant            392                          1                1   \n",
       "All                          1264                        190               26   \n",
       "\n",
       "SVanalyzer_Label       All  \n",
       "GTcons                      \n",
       "Heterozygous_Variant   870  \n",
       "Homozygous_Reference   216  \n",
       "Homozygous_Variant     394  \n",
       "All                   1480  "
      ]
     },
     "execution_count": 53,
     "metadata": {},
     "output_type": "execute_result"
    }
   ],
   "source": [
    "consensus_GT = high_conf_labels['GTcons']\n",
    "predict = high_conf_labels['PB_predicted_EMHRIC_label']\n",
    "pd.crosstab(consensus_GT, predict, rownames=['GTcons'], colnames=['SVanalyzer_Label'], margins=True)"
   ]
  },
  {
   "cell_type": "markdown",
   "metadata": {},
   "source": [
    "** LOO Genotype versus SVanalyzer Labels **"
   ]
  },
  {
   "cell_type": "code",
   "execution_count": 54,
   "metadata": {
    "scrolled": true
   },
   "outputs": [
    {
     "data": {
      "text/html": [
       "<div>\n",
       "<table border=\"1\" class=\"dataframe\">\n",
       "  <thead>\n",
       "    <tr style=\"text-align: right;\">\n",
       "      <th>SVanalyzer_Label</th>\n",
       "      <th>Exact_Match</th>\n",
       "      <th>Homozygous_Reference_SVan</th>\n",
       "      <th>Inaccurate_Call</th>\n",
       "      <th>All</th>\n",
       "    </tr>\n",
       "    <tr>\n",
       "      <th>GTcons_without_XX</th>\n",
       "      <th></th>\n",
       "      <th></th>\n",
       "      <th></th>\n",
       "      <th></th>\n",
       "    </tr>\n",
       "  </thead>\n",
       "  <tbody>\n",
       "    <tr>\n",
       "      <th>Heterozygous_Variant</th>\n",
       "      <td>867</td>\n",
       "      <td>0</td>\n",
       "      <td>3</td>\n",
       "      <td>870</td>\n",
       "    </tr>\n",
       "    <tr>\n",
       "      <th>Homozygous_Reference</th>\n",
       "      <td>5</td>\n",
       "      <td>189</td>\n",
       "      <td>22</td>\n",
       "      <td>216</td>\n",
       "    </tr>\n",
       "    <tr>\n",
       "      <th>Homozygous_Variant</th>\n",
       "      <td>392</td>\n",
       "      <td>1</td>\n",
       "      <td>1</td>\n",
       "      <td>394</td>\n",
       "    </tr>\n",
       "    <tr>\n",
       "      <th>All</th>\n",
       "      <td>1264</td>\n",
       "      <td>190</td>\n",
       "      <td>26</td>\n",
       "      <td>1480</td>\n",
       "    </tr>\n",
       "  </tbody>\n",
       "</table>\n",
       "</div>"
      ],
      "text/plain": [
       "SVanalyzer_Label      Exact_Match  Homozygous_Reference_SVan  Inaccurate_Call  \\\n",
       "GTcons_without_XX                                                               \n",
       "Heterozygous_Variant          867                          0                3   \n",
       "Homozygous_Reference            5                        189               22   \n",
       "Homozygous_Variant            392                          1                1   \n",
       "All                          1264                        190               26   \n",
       "\n",
       "SVanalyzer_Label       All  \n",
       "GTcons_without_XX           \n",
       "Heterozygous_Variant   870  \n",
       "Homozygous_Reference   216  \n",
       "Homozygous_Variant     394  \n",
       "All                   1480  "
      ]
     },
     "execution_count": 54,
     "metadata": {},
     "output_type": "execute_result"
    }
   ],
   "source": [
    "consensus_GT = high_conf_labels['GTconswithoutpacbio.GT']\n",
    "predict = high_conf_labels['PB_predicted_EMHRIC_label']\n",
    "pd.crosstab(consensus_GT, predict, rownames=['GTcons_without_XX'], colnames=['SVanalyzer_Label'], margins=True)"
   ]
  },
  {
   "cell_type": "markdown",
   "metadata": {},
   "source": [
    "***\n",
    "Graphs\n",
    "***"
   ]
  },
  {
   "cell_type": "markdown",
   "metadata": {},
   "source": [
    "** Exact Match **"
   ]
  },
  {
   "cell_type": "code",
   "execution_count": 55,
   "metadata": {
    "collapsed": true
   },
   "outputs": [],
   "source": [
    "em = X5['predicted_label'] == 1.0\n",
    "exact_match = X5[em]"
   ]
  },
  {
   "cell_type": "code",
   "execution_count": 56,
   "metadata": {},
   "outputs": [
    {
     "data": {
      "text/html": [
       "<div>\n",
       "<table border=\"1\" class=\"dataframe\">\n",
       "  <thead>\n",
       "    <tr style=\"text-align: right;\">\n",
       "      <th></th>\n",
       "      <th>Size</th>\n",
       "      <th>chrom</th>\n",
       "      <th>end</th>\n",
       "      <th>pacbio.GT</th>\n",
       "      <th>pacbio.alt_alnScore_mean</th>\n",
       "      <th>pacbio.alt_alnScore_std</th>\n",
       "      <th>pacbio.alt_count</th>\n",
       "      <th>pacbio.alt_insertSize_mean</th>\n",
       "      <th>pacbio.alt_insertSize_std</th>\n",
       "      <th>pacbio.alt_reason_alignmentScore</th>\n",
       "      <th>...</th>\n",
       "      <th>refN_pct</th>\n",
       "      <th>segdup_cnt</th>\n",
       "      <th>segdup_pct</th>\n",
       "      <th>start</th>\n",
       "      <th>tandemrep_cnt</th>\n",
       "      <th>tandemrep_pct</th>\n",
       "      <th>predicted_label</th>\n",
       "      <th>GTcons</th>\n",
       "      <th>GTsupp</th>\n",
       "      <th>GTconswithoutpacbio.GT</th>\n",
       "    </tr>\n",
       "  </thead>\n",
       "  <tbody>\n",
       "    <tr>\n",
       "      <th>1</th>\n",
       "      <td>-2534</td>\n",
       "      <td>1</td>\n",
       "      <td>112837661</td>\n",
       "      <td>-1.0</td>\n",
       "      <td>20099.13333</td>\n",
       "      <td>6963.566106</td>\n",
       "      <td>45.0</td>\n",
       "      <td>12729.24444</td>\n",
       "      <td>4313.52163</td>\n",
       "      <td>45.0</td>\n",
       "      <td>...</td>\n",
       "      <td>0.0</td>\n",
       "      <td>1.0</td>\n",
       "      <td>0.890888</td>\n",
       "      <td>112835104</td>\n",
       "      <td>6.0</td>\n",
       "      <td>0.460305</td>\n",
       "      <td>1.0</td>\n",
       "      <td>2</td>\n",
       "      <td>1</td>\n",
       "      <td>2</td>\n",
       "    </tr>\n",
       "  </tbody>\n",
       "</table>\n",
       "<p>1 rows × 36 columns</p>\n",
       "</div>"
      ],
      "text/plain": [
       "   Size chrom        end  pacbio.GT  pacbio.alt_alnScore_mean  \\\n",
       "1 -2534     1  112837661       -1.0               20099.13333   \n",
       "\n",
       "   pacbio.alt_alnScore_std  pacbio.alt_count  pacbio.alt_insertSize_mean  \\\n",
       "1              6963.566106              45.0                 12729.24444   \n",
       "\n",
       "   pacbio.alt_insertSize_std  pacbio.alt_reason_alignmentScore  \\\n",
       "1                 4313.52163                              45.0   \n",
       "\n",
       "            ...            refN_pct  segdup_cnt  segdup_pct      start  \\\n",
       "1           ...                 0.0         1.0    0.890888  112835104   \n",
       "\n",
       "   tandemrep_cnt  tandemrep_pct  predicted_label  GTcons  GTsupp  \\\n",
       "1            6.0       0.460305              1.0       2       1   \n",
       "\n",
       "   GTconswithoutpacbio.GT  \n",
       "1                       2  \n",
       "\n",
       "[1 rows x 36 columns]"
      ]
     },
     "execution_count": 56,
     "metadata": {},
     "output_type": "execute_result"
    }
   ],
   "source": [
    "exact_match.head(1)"
   ]
  },
  {
   "cell_type": "code",
   "execution_count": 57,
   "metadata": {},
   "outputs": [
    {
     "data": {
      "text/html": [
       "\n",
       "    <div class=\"bk-root\">\n",
       "        <a href=\"http://bokeh.pydata.org\" target=\"_blank\" class=\"bk-logo bk-logo-small bk-logo-notebook\"></a>\n",
       "        <span id=\"a05aadda-9f8a-49cf-bc32-cd7b981dbd0d\">Loading BokehJS ...</span>\n",
       "    </div>"
      ]
     },
     "metadata": {},
     "output_type": "display_data"
    },
    {
     "data": {
      "application/javascript": [
       "\n",
       "(function(global) {\n",
       "  function now() {\n",
       "    return new Date();\n",
       "  }\n",
       "\n",
       "  var force = true;\n",
       "\n",
       "  if (typeof (window._bokeh_onload_callbacks) === \"undefined\" || force === true) {\n",
       "    window._bokeh_onload_callbacks = [];\n",
       "    window._bokeh_is_loading = undefined;\n",
       "  }\n",
       "\n",
       "\n",
       "  \n",
       "  if (typeof (window._bokeh_timeout) === \"undefined\" || force === true) {\n",
       "    window._bokeh_timeout = Date.now() + 5000;\n",
       "    window._bokeh_failed_load = false;\n",
       "  }\n",
       "\n",
       "  var NB_LOAD_WARNING = {'data': {'text/html':\n",
       "     \"<div style='background-color: #fdd'>\\n\"+\n",
       "     \"<p>\\n\"+\n",
       "     \"BokehJS does not appear to have successfully loaded. If loading BokehJS from CDN, this \\n\"+\n",
       "     \"may be due to a slow or bad network connection. Possible fixes:\\n\"+\n",
       "     \"</p>\\n\"+\n",
       "     \"<ul>\\n\"+\n",
       "     \"<li>re-rerun `output_notebook()` to attempt to load from CDN again, or</li>\\n\"+\n",
       "     \"<li>use INLINE resources instead, as so:</li>\\n\"+\n",
       "     \"</ul>\\n\"+\n",
       "     \"<code>\\n\"+\n",
       "     \"from bokeh.resources import INLINE\\n\"+\n",
       "     \"output_notebook(resources=INLINE)\\n\"+\n",
       "     \"</code>\\n\"+\n",
       "     \"</div>\"}};\n",
       "\n",
       "  function display_loaded() {\n",
       "    if (window.Bokeh !== undefined) {\n",
       "      document.getElementById(\"a05aadda-9f8a-49cf-bc32-cd7b981dbd0d\").textContent = \"BokehJS successfully loaded.\";\n",
       "    } else if (Date.now() < window._bokeh_timeout) {\n",
       "      setTimeout(display_loaded, 100)\n",
       "    }\n",
       "  }\n",
       "\n",
       "  function run_callbacks() {\n",
       "    window._bokeh_onload_callbacks.forEach(function(callback) { callback() });\n",
       "    delete window._bokeh_onload_callbacks\n",
       "    console.info(\"Bokeh: all callbacks have finished\");\n",
       "  }\n",
       "\n",
       "  function load_libs(js_urls, callback) {\n",
       "    window._bokeh_onload_callbacks.push(callback);\n",
       "    if (window._bokeh_is_loading > 0) {\n",
       "      console.log(\"Bokeh: BokehJS is being loaded, scheduling callback at\", now());\n",
       "      return null;\n",
       "    }\n",
       "    if (js_urls == null || js_urls.length === 0) {\n",
       "      run_callbacks();\n",
       "      return null;\n",
       "    }\n",
       "    console.log(\"Bokeh: BokehJS not loaded, scheduling load and callback at\", now());\n",
       "    window._bokeh_is_loading = js_urls.length;\n",
       "    for (var i = 0; i < js_urls.length; i++) {\n",
       "      var url = js_urls[i];\n",
       "      var s = document.createElement('script');\n",
       "      s.src = url;\n",
       "      s.async = false;\n",
       "      s.onreadystatechange = s.onload = function() {\n",
       "        window._bokeh_is_loading--;\n",
       "        if (window._bokeh_is_loading === 0) {\n",
       "          console.log(\"Bokeh: all BokehJS libraries loaded\");\n",
       "          run_callbacks()\n",
       "        }\n",
       "      };\n",
       "      s.onerror = function() {\n",
       "        console.warn(\"failed to load library \" + url);\n",
       "      };\n",
       "      console.log(\"Bokeh: injecting script tag for BokehJS library: \", url);\n",
       "      document.getElementsByTagName(\"head\")[0].appendChild(s);\n",
       "    }\n",
       "  };var element = document.getElementById(\"a05aadda-9f8a-49cf-bc32-cd7b981dbd0d\");\n",
       "  if (element == null) {\n",
       "    console.log(\"Bokeh: ERROR: autoload.js configured with elementid 'a05aadda-9f8a-49cf-bc32-cd7b981dbd0d' but no matching script tag was found. \")\n",
       "    return false;\n",
       "  }\n",
       "\n",
       "  var js_urls = [\"https://cdn.pydata.org/bokeh/release/bokeh-0.12.4.min.js\", \"https://cdn.pydata.org/bokeh/release/bokeh-widgets-0.12.4.min.js\"];\n",
       "\n",
       "  var inline_js = [\n",
       "    function(Bokeh) {\n",
       "      Bokeh.set_log_level(\"info\");\n",
       "    },\n",
       "    \n",
       "    function(Bokeh) {\n",
       "      \n",
       "      document.getElementById(\"a05aadda-9f8a-49cf-bc32-cd7b981dbd0d\").textContent = \"BokehJS is loading...\";\n",
       "    },\n",
       "    function(Bokeh) {\n",
       "      console.log(\"Bokeh: injecting CSS: https://cdn.pydata.org/bokeh/release/bokeh-0.12.4.min.css\");\n",
       "      Bokeh.embed.inject_css(\"https://cdn.pydata.org/bokeh/release/bokeh-0.12.4.min.css\");\n",
       "      console.log(\"Bokeh: injecting CSS: https://cdn.pydata.org/bokeh/release/bokeh-widgets-0.12.4.min.css\");\n",
       "      Bokeh.embed.inject_css(\"https://cdn.pydata.org/bokeh/release/bokeh-widgets-0.12.4.min.css\");\n",
       "    }\n",
       "  ];\n",
       "\n",
       "  function run_inline_js() {\n",
       "    \n",
       "    if ((window.Bokeh !== undefined) || (force === true)) {\n",
       "      for (var i = 0; i < inline_js.length; i++) {\n",
       "        inline_js[i](window.Bokeh);\n",
       "      }if (force === true) {\n",
       "        display_loaded();\n",
       "      }} else if (Date.now() < window._bokeh_timeout) {\n",
       "      setTimeout(run_inline_js, 100);\n",
       "    } else if (!window._bokeh_failed_load) {\n",
       "      console.log(\"Bokeh: BokehJS failed to load within specified timeout.\");\n",
       "      window._bokeh_failed_load = true;\n",
       "    } else if (force !== true) {\n",
       "      var cell = $(document.getElementById(\"a05aadda-9f8a-49cf-bc32-cd7b981dbd0d\")).parents('.cell').data().cell;\n",
       "      cell.output_area.append_execute_result(NB_LOAD_WARNING)\n",
       "    }\n",
       "\n",
       "  }\n",
       "\n",
       "  if (window._bokeh_is_loading === 0) {\n",
       "    console.log(\"Bokeh: BokehJS loaded, going straight to plotting\");\n",
       "    run_inline_js();\n",
       "  } else {\n",
       "    load_libs(js_urls, function() {\n",
       "      console.log(\"Bokeh: BokehJS plotting callback run at\", now());\n",
       "      run_inline_js();\n",
       "    });\n",
       "  }\n",
       "}(this));"
      ]
     },
     "metadata": {},
     "output_type": "display_data"
    }
   ],
   "source": [
    "output_notebook()"
   ]
  },
  {
   "cell_type": "code",
   "execution_count": 58,
   "metadata": {},
   "outputs": [
    {
     "data": {
      "text/html": [
       "\n",
       "\n",
       "    <div class=\"bk-root\">\n",
       "        <div class=\"bk-plotdiv\" id=\"b018d836-2d02-4d3b-9f6a-61a30b730566\"></div>\n",
       "    </div>\n",
       "<script type=\"text/javascript\">\n",
       "  \n",
       "  (function(global) {\n",
       "    function now() {\n",
       "      return new Date();\n",
       "    }\n",
       "  \n",
       "    var force = false;\n",
       "  \n",
       "    if (typeof (window._bokeh_onload_callbacks) === \"undefined\" || force === true) {\n",
       "      window._bokeh_onload_callbacks = [];\n",
       "      window._bokeh_is_loading = undefined;\n",
       "    }\n",
       "  \n",
       "  \n",
       "    \n",
       "    if (typeof (window._bokeh_timeout) === \"undefined\" || force === true) {\n",
       "      window._bokeh_timeout = Date.now() + 0;\n",
       "      window._bokeh_failed_load = false;\n",
       "    }\n",
       "  \n",
       "    var NB_LOAD_WARNING = {'data': {'text/html':\n",
       "       \"<div style='background-color: #fdd'>\\n\"+\n",
       "       \"<p>\\n\"+\n",
       "       \"BokehJS does not appear to have successfully loaded. If loading BokehJS from CDN, this \\n\"+\n",
       "       \"may be due to a slow or bad network connection. Possible fixes:\\n\"+\n",
       "       \"</p>\\n\"+\n",
       "       \"<ul>\\n\"+\n",
       "       \"<li>re-rerun `output_notebook()` to attempt to load from CDN again, or</li>\\n\"+\n",
       "       \"<li>use INLINE resources instead, as so:</li>\\n\"+\n",
       "       \"</ul>\\n\"+\n",
       "       \"<code>\\n\"+\n",
       "       \"from bokeh.resources import INLINE\\n\"+\n",
       "       \"output_notebook(resources=INLINE)\\n\"+\n",
       "       \"</code>\\n\"+\n",
       "       \"</div>\"}};\n",
       "  \n",
       "    function display_loaded() {\n",
       "      if (window.Bokeh !== undefined) {\n",
       "        document.getElementById(\"b018d836-2d02-4d3b-9f6a-61a30b730566\").textContent = \"BokehJS successfully loaded.\";\n",
       "      } else if (Date.now() < window._bokeh_timeout) {\n",
       "        setTimeout(display_loaded, 100)\n",
       "      }\n",
       "    }\n",
       "  \n",
       "    function run_callbacks() {\n",
       "      window._bokeh_onload_callbacks.forEach(function(callback) { callback() });\n",
       "      delete window._bokeh_onload_callbacks\n",
       "      console.info(\"Bokeh: all callbacks have finished\");\n",
       "    }\n",
       "  \n",
       "    function load_libs(js_urls, callback) {\n",
       "      window._bokeh_onload_callbacks.push(callback);\n",
       "      if (window._bokeh_is_loading > 0) {\n",
       "        console.log(\"Bokeh: BokehJS is being loaded, scheduling callback at\", now());\n",
       "        return null;\n",
       "      }\n",
       "      if (js_urls == null || js_urls.length === 0) {\n",
       "        run_callbacks();\n",
       "        return null;\n",
       "      }\n",
       "      console.log(\"Bokeh: BokehJS not loaded, scheduling load and callback at\", now());\n",
       "      window._bokeh_is_loading = js_urls.length;\n",
       "      for (var i = 0; i < js_urls.length; i++) {\n",
       "        var url = js_urls[i];\n",
       "        var s = document.createElement('script');\n",
       "        s.src = url;\n",
       "        s.async = false;\n",
       "        s.onreadystatechange = s.onload = function() {\n",
       "          window._bokeh_is_loading--;\n",
       "          if (window._bokeh_is_loading === 0) {\n",
       "            console.log(\"Bokeh: all BokehJS libraries loaded\");\n",
       "            run_callbacks()\n",
       "          }\n",
       "        };\n",
       "        s.onerror = function() {\n",
       "          console.warn(\"failed to load library \" + url);\n",
       "        };\n",
       "        console.log(\"Bokeh: injecting script tag for BokehJS library: \", url);\n",
       "        document.getElementsByTagName(\"head\")[0].appendChild(s);\n",
       "      }\n",
       "    };var element = document.getElementById(\"b018d836-2d02-4d3b-9f6a-61a30b730566\");\n",
       "    if (element == null) {\n",
       "      console.log(\"Bokeh: ERROR: autoload.js configured with elementid 'b018d836-2d02-4d3b-9f6a-61a30b730566' but no matching script tag was found. \")\n",
       "      return false;\n",
       "    }\n",
       "  \n",
       "    var js_urls = [];\n",
       "  \n",
       "    var inline_js = [\n",
       "      function(Bokeh) {\n",
       "        (function() {\n",
       "          var fn = function() {\n",
       "            var docs_json = {\"88d3cfae-2743-4e4f-a424-eb764dc0788d\":{\"roots\":{\"references\":[{\"attributes\":{\"plot\":{\"id\":\"5765a6dd-668f-40c3-b471-7268c95aaa32\",\"subtype\":\"Chart\",\"type\":\"Plot\"}},\"id\":\"025ff11e-80a8-44cc-8a92-6f822244b1ff\",\"type\":\"HelpTool\"},{\"attributes\":{\"axis_label\":\"GTcons\",\"formatter\":{\"id\":\"b95cb6ea-76b5-4345-8613-99105a4c5cdb\",\"type\":\"BasicTickFormatter\"},\"plot\":{\"id\":\"5765a6dd-668f-40c3-b471-7268c95aaa32\",\"subtype\":\"Chart\",\"type\":\"Plot\"},\"ticker\":{\"id\":\"cdf665de-8431-41d3-97ec-a0d39015f87f\",\"type\":\"BasicTicker\"}},\"id\":\"2ad2c7f8-2e98-40a9-914b-9d1e3f0a96da\",\"type\":\"LinearAxis\"},{\"attributes\":{\"data_source\":{\"id\":\"b6ddf28b-f4a8-40b7-b187-187c2f16ed33\",\"type\":\"ColumnDataSource\"},\"glyph\":{\"id\":\"4ac1a95b-92d0-4370-996a-2644997a45f6\",\"type\":\"Rect\"},\"hover_glyph\":null,\"nonselection_glyph\":null,\"selection_glyph\":null},\"id\":\"57d02c73-6038-4a2d-b782-aa51618dc961\",\"type\":\"GlyphRenderer\"},{\"attributes\":{\"callback\":null,\"column_names\":[\"line_color\",\"label\",\"fill_alpha\",\"height\",\"y\",\"width\",\"line_alpha\",\"color\",\"x\"],\"data\":{\"chart_index\":[\"(1.866667, 2.000000]\"],\"color\":[\"LightSlateGray\"],\"fill_alpha\":[0.8],\"height\":[647.0],\"label\":[\"(1.866667, 2.000000]\"],\"line_alpha\":[1.0],\"line_color\":[\"black\"],\"width\":[0.1333333333333333],\"x\":[\"1.9333335\"],\"y\":[323.5]}},\"id\":\"b6ddf28b-f4a8-40b7-b187-187c2f16ed33\",\"type\":\"ColumnDataSource\"},{\"attributes\":{\"fill_alpha\":{\"field\":\"fill_alpha\"},\"fill_color\":{\"field\":\"color\"},\"height\":{\"field\":\"height\",\"units\":\"data\"},\"line_color\":{\"field\":\"line_color\"},\"width\":{\"field\":\"width\",\"units\":\"data\"},\"x\":{\"field\":\"x\"},\"y\":{\"field\":\"y\"}},\"id\":\"4ac1a95b-92d0-4370-996a-2644997a45f6\",\"type\":\"Rect\"},{\"attributes\":{},\"id\":\"41fd897d-898e-4eeb-b6bb-46d0011ffff2\",\"type\":\"BasicTicker\"},{\"attributes\":{\"axis_label\":\"Frequency\",\"formatter\":{\"id\":\"cbfb22f9-1a7f-401a-a017-bb442b57ed88\",\"type\":\"BasicTickFormatter\"},\"plot\":{\"id\":\"5765a6dd-668f-40c3-b471-7268c95aaa32\",\"subtype\":\"Chart\",\"type\":\"Plot\"},\"ticker\":{\"id\":\"41fd897d-898e-4eeb-b6bb-46d0011ffff2\",\"type\":\"BasicTicker\"}},\"id\":\"067c869b-9ce3-4a61-82e5-b177eb0dce1a\",\"type\":\"LinearAxis\"},{\"attributes\":{\"callback\":null,\"column_names\":[\"line_color\",\"label\",\"fill_alpha\",\"height\",\"y\",\"width\",\"line_alpha\",\"color\",\"x\"],\"data\":{\"chart_index\":[\"(0.800000, 0.933333]\"],\"color\":[\"LightSlateGray\"],\"fill_alpha\":[0.8],\"height\":[0.0],\"label\":[\"(0.800000, 0.933333]\"],\"line_alpha\":[1.0],\"line_color\":[\"black\"],\"width\":[0.1333333333333333],\"x\":[\"0.8666665\"],\"y\":[0.0]}},\"id\":\"63ddfb61-b11a-47c3-a9de-0c1713a6b60f\",\"type\":\"ColumnDataSource\"},{\"attributes\":{\"callback\":null,\"column_names\":[\"line_color\",\"label\",\"fill_alpha\",\"height\",\"y\",\"width\",\"line_alpha\",\"color\",\"x\"],\"data\":{\"chart_index\":[\"(0.400000, 0.533333]\"],\"color\":[\"LightSlateGray\"],\"fill_alpha\":[0.8],\"height\":[0.0],\"label\":[\"(0.400000, 0.533333]\"],\"line_alpha\":[1.0],\"line_color\":[\"black\"],\"width\":[0.1333333333333333],\"x\":[\"0.4666665\"],\"y\":[0.0]}},\"id\":\"1330d8db-ea53-4781-8efb-e21dc94767c9\",\"type\":\"ColumnDataSource\"},{\"attributes\":{\"fill_alpha\":{\"field\":\"fill_alpha\"},\"fill_color\":{\"field\":\"color\"},\"height\":{\"field\":\"height\",\"units\":\"data\"},\"line_color\":{\"field\":\"line_color\"},\"width\":{\"field\":\"width\",\"units\":\"data\"},\"x\":{\"field\":\"x\"},\"y\":{\"field\":\"y\"}},\"id\":\"c6da47c7-6d6d-47e5-aaee-fee7b75ef4ca\",\"type\":\"Rect\"},{\"attributes\":{\"data_source\":{\"id\":\"c1f76e08-063f-4336-b6a5-8a4a347691cc\",\"type\":\"ColumnDataSource\"},\"glyph\":{\"id\":\"c6da47c7-6d6d-47e5-aaee-fee7b75ef4ca\",\"type\":\"Rect\"},\"hover_glyph\":null,\"nonselection_glyph\":null,\"selection_glyph\":null},\"id\":\"ad0ccb14-3e85-482c-af72-af4217f68526\",\"type\":\"GlyphRenderer\"},{\"attributes\":{\"data_source\":{\"id\":\"69eadb08-0c04-477a-9acd-80b9d9945c54\",\"type\":\"ColumnDataSource\"},\"glyph\":{\"id\":\"43ae60fc-cfe9-4634-b896-3dbb281b5864\",\"type\":\"Rect\"},\"hover_glyph\":null,\"nonselection_glyph\":null,\"selection_glyph\":null},\"id\":\"b48dd877-09d1-4fa1-b169-c486c789a4c7\",\"type\":\"GlyphRenderer\"},{\"attributes\":{\"fill_alpha\":{\"field\":\"fill_alpha\"},\"fill_color\":{\"field\":\"color\"},\"height\":{\"field\":\"height\",\"units\":\"data\"},\"line_color\":{\"field\":\"line_color\"},\"width\":{\"field\":\"width\",\"units\":\"data\"},\"x\":{\"field\":\"x\"},\"y\":{\"field\":\"y\"}},\"id\":\"003775dc-ce90-4eba-9afa-8ff417e6d44a\",\"type\":\"Rect\"},{\"attributes\":{\"callback\":null,\"column_names\":[\"line_color\",\"label\",\"fill_alpha\",\"height\",\"y\",\"width\",\"line_alpha\",\"color\",\"x\"],\"data\":{\"chart_index\":[\"(0.533333, 0.666667]\"],\"color\":[\"LightSlateGray\"],\"fill_alpha\":[0.8],\"height\":[0.0],\"label\":[\"(0.533333, 0.666667]\"],\"line_alpha\":[1.0],\"line_color\":[\"black\"],\"width\":[0.1333333333333333],\"x\":[\"0.6\"],\"y\":[0.0]}},\"id\":\"69eadb08-0c04-477a-9acd-80b9d9945c54\",\"type\":\"ColumnDataSource\"},{\"attributes\":{\"data_source\":{\"id\":\"1330d8db-ea53-4781-8efb-e21dc94767c9\",\"type\":\"ColumnDataSource\"},\"glyph\":{\"id\":\"24305d57-d7f5-4cf8-a0b6-93bb32cc6696\",\"type\":\"Rect\"},\"hover_glyph\":null,\"nonselection_glyph\":null,\"selection_glyph\":null},\"id\":\"134155cf-5724-41ab-a350-8f68ca439fb3\",\"type\":\"GlyphRenderer\"},{\"attributes\":{\"callback\":null,\"end\":1732.5000000000002},\"id\":\"3c31e9f9-0caf-4b6f-9ba7-9dc6af3999d2\",\"type\":\"Range1d\"},{\"attributes\":{\"fill_alpha\":{\"field\":\"fill_alpha\"},\"fill_color\":{\"field\":\"color\"},\"height\":{\"field\":\"height\",\"units\":\"data\"},\"line_color\":{\"field\":\"line_color\"},\"width\":{\"field\":\"width\",\"units\":\"data\"},\"x\":{\"field\":\"x\"},\"y\":{\"field\":\"y\"}},\"id\":\"2333b46a-4e80-4319-9fa8-326e8127d962\",\"type\":\"Rect\"},{\"attributes\":{\"callback\":null,\"column_names\":[\"line_color\",\"label\",\"fill_alpha\",\"height\",\"y\",\"width\",\"line_alpha\",\"color\",\"x\"],\"data\":{\"chart_index\":[\"(1.200000, 1.333333]\"],\"color\":[\"LightSlateGray\"],\"fill_alpha\":[0.8],\"height\":[0.0],\"label\":[\"(1.200000, 1.333333]\"],\"line_alpha\":[1.0],\"line_color\":[\"black\"],\"width\":[0.1333333333333333],\"x\":[\"1.2666665\"],\"y\":[0.0]}},\"id\":\"c1f76e08-063f-4336-b6a5-8a4a347691cc\",\"type\":\"ColumnDataSource\"},{\"attributes\":{\"fill_alpha\":{\"field\":\"fill_alpha\"},\"fill_color\":{\"field\":\"color\"},\"height\":{\"field\":\"height\",\"units\":\"data\"},\"line_color\":{\"field\":\"line_color\"},\"width\":{\"field\":\"width\",\"units\":\"data\"},\"x\":{\"field\":\"x\"},\"y\":{\"field\":\"y\"}},\"id\":\"a9d70dc1-ec0b-44f5-a19e-59694a9f7aa7\",\"type\":\"Rect\"},{\"attributes\":{\"fill_alpha\":{\"field\":\"fill_alpha\"},\"fill_color\":{\"field\":\"color\"},\"height\":{\"field\":\"height\",\"units\":\"data\"},\"line_color\":{\"field\":\"line_color\"},\"width\":{\"field\":\"width\",\"units\":\"data\"},\"x\":{\"field\":\"x\"},\"y\":{\"field\":\"y\"}},\"id\":\"491f7cfa-5135-4ca7-a95c-6a297ab8fb5f\",\"type\":\"Rect\"},{\"attributes\":{\"plot\":{\"id\":\"5765a6dd-668f-40c3-b471-7268c95aaa32\",\"subtype\":\"Chart\",\"type\":\"Plot\"}},\"id\":\"e1b7ccb5-bfd2-4028-a398-25d10c2d7070\",\"type\":\"SaveTool\"},{\"attributes\":{\"below\":[{\"id\":\"2ad2c7f8-2e98-40a9-914b-9d1e3f0a96da\",\"type\":\"LinearAxis\"}],\"css_classes\":null,\"left\":[{\"id\":\"067c869b-9ce3-4a61-82e5-b177eb0dce1a\",\"type\":\"LinearAxis\"}],\"plot_height\":250,\"renderers\":[{\"id\":\"3676f05e-ece1-4085-9101-5cccbdedb83b\",\"type\":\"BoxAnnotation\"},{\"id\":\"84f4fbfe-2558-424c-997d-1d266ddda83d\",\"type\":\"GlyphRenderer\"},{\"id\":\"bb91d28e-d943-4478-9651-a192a4da3bf1\",\"type\":\"GlyphRenderer\"},{\"id\":\"e15649f2-f8e4-4dfd-82bb-249b717d90fc\",\"type\":\"GlyphRenderer\"},{\"id\":\"134155cf-5724-41ab-a350-8f68ca439fb3\",\"type\":\"GlyphRenderer\"},{\"id\":\"b48dd877-09d1-4fa1-b169-c486c789a4c7\",\"type\":\"GlyphRenderer\"},{\"id\":\"a3a25160-b1cb-4500-9299-3d64e7b5aef8\",\"type\":\"GlyphRenderer\"},{\"id\":\"135bd339-e272-4365-8940-17dbf84429ee\",\"type\":\"GlyphRenderer\"},{\"id\":\"cbce2741-aa58-4bf7-8c29-d428b5c383aa\",\"type\":\"GlyphRenderer\"},{\"id\":\"44bffa58-cd2a-4ded-9f3c-341a1ae0aed0\",\"type\":\"GlyphRenderer\"},{\"id\":\"ad0ccb14-3e85-482c-af72-af4217f68526\",\"type\":\"GlyphRenderer\"},{\"id\":\"4fc807a9-9b05-462f-9522-9b18f993e519\",\"type\":\"GlyphRenderer\"},{\"id\":\"ffb0b12c-3f7d-47fe-aa9b-7ab63ee28161\",\"type\":\"GlyphRenderer\"},{\"id\":\"d975c927-f4d4-4ccd-a7eb-d8a722a603e0\",\"type\":\"GlyphRenderer\"},{\"id\":\"91d4671b-10ff-463e-9efe-af7c1d390fdc\",\"type\":\"GlyphRenderer\"},{\"id\":\"57d02c73-6038-4a2d-b782-aa51618dc961\",\"type\":\"GlyphRenderer\"},{\"id\":\"4edec822-443b-4879-b8a6-d596fcca0c58\",\"type\":\"Legend\"},{\"id\":\"2ad2c7f8-2e98-40a9-914b-9d1e3f0a96da\",\"type\":\"LinearAxis\"},{\"id\":\"067c869b-9ce3-4a61-82e5-b177eb0dce1a\",\"type\":\"LinearAxis\"},{\"id\":\"37acec66-2e5e-40fe-979c-0f66651b35c7\",\"type\":\"Grid\"}],\"title\":{\"id\":\"3f237c46-1e6b-464a-b60e-9cb180be3072\",\"type\":\"Title\"},\"tool_events\":{\"id\":\"a50e9d62-5392-4be9-a612-aba9336fc362\",\"type\":\"ToolEvents\"},\"toolbar\":{\"id\":\"49b03445-08c3-4980-a47c-ed724d41da90\",\"type\":\"Toolbar\"},\"x_mapper_type\":\"auto\",\"x_range\":{\"id\":\"2d73b08e-e8a5-4b2e-a5a0-7f4605774eb4\",\"type\":\"Range1d\"},\"y_mapper_type\":\"auto\",\"y_range\":{\"id\":\"3c31e9f9-0caf-4b6f-9ba7-9dc6af3999d2\",\"type\":\"Range1d\"}},\"id\":\"5765a6dd-668f-40c3-b471-7268c95aaa32\",\"subtype\":\"Chart\",\"type\":\"Plot\"},{\"attributes\":{},\"id\":\"cbfb22f9-1a7f-401a-a017-bb442b57ed88\",\"type\":\"BasicTickFormatter\"},{\"attributes\":{\"active_drag\":\"auto\",\"active_scroll\":\"auto\",\"active_tap\":\"auto\",\"tools\":[{\"id\":\"aa434733-bae4-4698-a711-f004e22f344b\",\"type\":\"PanTool\"},{\"id\":\"e17e1e33-0696-414c-986b-c6f8e156c144\",\"type\":\"WheelZoomTool\"},{\"id\":\"673b22b0-9693-453f-a85c-b90a155d850b\",\"type\":\"BoxZoomTool\"},{\"id\":\"e1b7ccb5-bfd2-4028-a398-25d10c2d7070\",\"type\":\"SaveTool\"},{\"id\":\"cb108a34-fc6a-431a-a0fa-13649c1bed12\",\"type\":\"ResetTool\"},{\"id\":\"025ff11e-80a8-44cc-8a92-6f822244b1ff\",\"type\":\"HelpTool\"}]},\"id\":\"49b03445-08c3-4980-a47c-ed724d41da90\",\"type\":\"Toolbar\"},{\"attributes\":{\"fill_alpha\":{\"field\":\"fill_alpha\"},\"fill_color\":{\"field\":\"color\"},\"height\":{\"field\":\"height\",\"units\":\"data\"},\"line_color\":{\"field\":\"line_color\"},\"width\":{\"field\":\"width\",\"units\":\"data\"},\"x\":{\"field\":\"x\"},\"y\":{\"field\":\"y\"}},\"id\":\"740589e0-4598-4df3-ae9c-a5c4d9f8a334\",\"type\":\"Rect\"},{\"attributes\":{},\"id\":\"b95cb6ea-76b5-4345-8613-99105a4c5cdb\",\"type\":\"BasicTickFormatter\"},{\"attributes\":{\"callback\":null,\"end\":2.0500001666666665,\"start\":-0.050000166666666665},\"id\":\"2d73b08e-e8a5-4b2e-a5a0-7f4605774eb4\",\"type\":\"Range1d\"},{\"attributes\":{\"data_source\":{\"id\":\"58288484-6e87-45a3-a909-567bcdab4301\",\"type\":\"ColumnDataSource\"},\"glyph\":{\"id\":\"d0b326fa-f24a-4274-8128-9f949b1ef65b\",\"type\":\"Rect\"},\"hover_glyph\":null,\"nonselection_glyph\":null,\"selection_glyph\":null},\"id\":\"91d4671b-10ff-463e-9efe-af7c1d390fdc\",\"type\":\"GlyphRenderer\"},{\"attributes\":{},\"id\":\"a50e9d62-5392-4be9-a612-aba9336fc362\",\"type\":\"ToolEvents\"},{\"attributes\":{\"callback\":null,\"column_names\":[\"line_color\",\"label\",\"fill_alpha\",\"height\",\"y\",\"width\",\"line_alpha\",\"color\",\"x\"],\"data\":{\"chart_index\":[\"(0.933333, 1.066667]\"],\"color\":[\"LightSlateGray\"],\"fill_alpha\":[0.8],\"height\":[1575.0],\"label\":[\"(0.933333, 1.066667]\"],\"line_alpha\":[1.0],\"line_color\":[\"black\"],\"width\":[0.1333333333333333],\"x\":[\"1.0\"],\"y\":[787.5]}},\"id\":\"fb7727f9-ad4f-43ca-bedd-48803e9e589a\",\"type\":\"ColumnDataSource\"},{\"attributes\":{\"callback\":null,\"column_names\":[\"line_color\",\"label\",\"fill_alpha\",\"height\",\"y\",\"width\",\"line_alpha\",\"color\",\"x\"],\"data\":{\"chart_index\":[\"(1.333333, 1.466667]\"],\"color\":[\"LightSlateGray\"],\"fill_alpha\":[0.8],\"height\":[0.0],\"label\":[\"(1.333333, 1.466667]\"],\"line_alpha\":[1.0],\"line_color\":[\"black\"],\"width\":[0.1333333333333333],\"x\":[\"1.4\"],\"y\":[0.0]}},\"id\":\"58d157c1-b7ea-42b8-aea5-227a37f0d8bd\",\"type\":\"ColumnDataSource\"},{\"attributes\":{\"fill_alpha\":{\"field\":\"fill_alpha\"},\"fill_color\":{\"field\":\"color\"},\"height\":{\"field\":\"height\",\"units\":\"data\"},\"line_color\":{\"field\":\"line_color\"},\"width\":{\"field\":\"width\",\"units\":\"data\"},\"x\":{\"field\":\"x\"},\"y\":{\"field\":\"y\"}},\"id\":\"36dcf864-e31f-463b-800d-b8af76eb89fb\",\"type\":\"Rect\"},{\"attributes\":{\"fill_alpha\":{\"field\":\"fill_alpha\"},\"fill_color\":{\"field\":\"color\"},\"height\":{\"field\":\"height\",\"units\":\"data\"},\"line_color\":{\"field\":\"line_color\"},\"width\":{\"field\":\"width\",\"units\":\"data\"},\"x\":{\"field\":\"x\"},\"y\":{\"field\":\"y\"}},\"id\":\"ec6f9ed6-b346-4cc8-9f93-fc78b20db306\",\"type\":\"Rect\"},{\"attributes\":{\"data_source\":{\"id\":\"fb7727f9-ad4f-43ca-bedd-48803e9e589a\",\"type\":\"ColumnDataSource\"},\"glyph\":{\"id\":\"740589e0-4598-4df3-ae9c-a5c4d9f8a334\",\"type\":\"Rect\"},\"hover_glyph\":null,\"nonselection_glyph\":null,\"selection_glyph\":null},\"id\":\"cbce2741-aa58-4bf7-8c29-d428b5c383aa\",\"type\":\"GlyphRenderer\"},{\"attributes\":{\"data_source\":{\"id\":\"58d157c1-b7ea-42b8-aea5-227a37f0d8bd\",\"type\":\"ColumnDataSource\"},\"glyph\":{\"id\":\"a9d70dc1-ec0b-44f5-a19e-59694a9f7aa7\",\"type\":\"Rect\"},\"hover_glyph\":null,\"nonselection_glyph\":null,\"selection_glyph\":null},\"id\":\"4fc807a9-9b05-462f-9522-9b18f993e519\",\"type\":\"GlyphRenderer\"},{\"attributes\":{\"data_source\":{\"id\":\"2658d6be-b11b-4fb9-8ee3-c0e0f8dc416d\",\"type\":\"ColumnDataSource\"},\"glyph\":{\"id\":\"ec6f9ed6-b346-4cc8-9f93-fc78b20db306\",\"type\":\"Rect\"},\"hover_glyph\":null,\"nonselection_glyph\":null,\"selection_glyph\":null},\"id\":\"bb91d28e-d943-4478-9651-a192a4da3bf1\",\"type\":\"GlyphRenderer\"},{\"attributes\":{\"data_source\":{\"id\":\"63ddfb61-b11a-47c3-a9de-0c1713a6b60f\",\"type\":\"ColumnDataSource\"},\"glyph\":{\"id\":\"48bf0aa2-ae72-4be0-8448-d6e35a0ceebc\",\"type\":\"Rect\"},\"hover_glyph\":null,\"nonselection_glyph\":null,\"selection_glyph\":null},\"id\":\"135bd339-e272-4365-8940-17dbf84429ee\",\"type\":\"GlyphRenderer\"},{\"attributes\":{\"data_source\":{\"id\":\"22666bdc-a070-4247-b0ae-8d5a83400aed\",\"type\":\"ColumnDataSource\"},\"glyph\":{\"id\":\"4128e283-0d99-4f60-93b2-75d7f0179f76\",\"type\":\"Rect\"},\"hover_glyph\":null,\"nonselection_glyph\":null,\"selection_glyph\":null},\"id\":\"e15649f2-f8e4-4dfd-82bb-249b717d90fc\",\"type\":\"GlyphRenderer\"},{\"attributes\":{\"callback\":null,\"column_names\":[\"line_color\",\"label\",\"fill_alpha\",\"height\",\"y\",\"width\",\"line_alpha\",\"color\",\"x\"],\"data\":{\"chart_index\":[\"(0.266667, 0.400000]\"],\"color\":[\"LightSlateGray\"],\"fill_alpha\":[0.8],\"height\":[0.0],\"label\":[\"(0.266667, 0.400000]\"],\"line_alpha\":[1.0],\"line_color\":[\"black\"],\"width\":[0.13333333333333336],\"x\":[\"0.3333335\"],\"y\":[0.0]}},\"id\":\"22666bdc-a070-4247-b0ae-8d5a83400aed\",\"type\":\"ColumnDataSource\"},{\"attributes\":{\"data_source\":{\"id\":\"02d05b11-1e6c-456c-a02d-f83f7bd2f3d6\",\"type\":\"ColumnDataSource\"},\"glyph\":{\"id\":\"d794c3fe-8676-41b2-8c78-389255b45465\",\"type\":\"Rect\"},\"hover_glyph\":null,\"nonselection_glyph\":null,\"selection_glyph\":null},\"id\":\"a3a25160-b1cb-4500-9299-3d64e7b5aef8\",\"type\":\"GlyphRenderer\"},{\"attributes\":{\"fill_alpha\":{\"field\":\"fill_alpha\"},\"fill_color\":{\"field\":\"color\"},\"height\":{\"field\":\"height\",\"units\":\"data\"},\"line_color\":{\"field\":\"line_color\"},\"width\":{\"field\":\"width\",\"units\":\"data\"},\"x\":{\"field\":\"x\"},\"y\":{\"field\":\"y\"}},\"id\":\"43ae60fc-cfe9-4634-b896-3dbb281b5864\",\"type\":\"Rect\"},{\"attributes\":{\"location\":\"top_left\",\"plot\":{\"id\":\"5765a6dd-668f-40c3-b471-7268c95aaa32\",\"subtype\":\"Chart\",\"type\":\"Plot\"}},\"id\":\"4edec822-443b-4879-b8a6-d596fcca0c58\",\"type\":\"Legend\"},{\"attributes\":{\"callback\":null,\"column_names\":[\"line_color\",\"label\",\"fill_alpha\",\"height\",\"y\",\"width\",\"line_alpha\",\"color\",\"x\"],\"data\":{\"chart_index\":[\"(1.733333, 1.866667]\"],\"color\":[\"LightSlateGray\"],\"fill_alpha\":[0.8],\"height\":[0.0],\"label\":[\"(1.733333, 1.866667]\"],\"line_alpha\":[1.0],\"line_color\":[\"black\"],\"width\":[0.1333333333333333],\"x\":[\"1.8\"],\"y\":[0.0]}},\"id\":\"58288484-6e87-45a3-a909-567bcdab4301\",\"type\":\"ColumnDataSource\"},{\"attributes\":{\"dimension\":1,\"plot\":{\"id\":\"5765a6dd-668f-40c3-b471-7268c95aaa32\",\"subtype\":\"Chart\",\"type\":\"Plot\"},\"ticker\":{\"id\":\"41fd897d-898e-4eeb-b6bb-46d0011ffff2\",\"type\":\"BasicTicker\"}},\"id\":\"37acec66-2e5e-40fe-979c-0f66651b35c7\",\"type\":\"Grid\"},{\"attributes\":{},\"id\":\"cdf665de-8431-41d3-97ec-a0d39015f87f\",\"type\":\"BasicTicker\"},{\"attributes\":{\"callback\":null,\"column_names\":[\"line_color\",\"label\",\"fill_alpha\",\"height\",\"y\",\"width\",\"line_alpha\",\"color\",\"x\"],\"data\":{\"chart_index\":[\"(1.466667, 1.600000]\"],\"color\":[\"LightSlateGray\"],\"fill_alpha\":[0.8],\"height\":[0.0],\"label\":[\"(1.466667, 1.600000]\"],\"line_alpha\":[1.0],\"line_color\":[\"black\"],\"width\":[0.13333333333333353],\"x\":[\"1.5333335\"],\"y\":[0.0]}},\"id\":\"72a0d5b4-ab5f-4013-a4df-59607f8f948e\",\"type\":\"ColumnDataSource\"},{\"attributes\":{\"plot\":{\"id\":\"5765a6dd-668f-40c3-b471-7268c95aaa32\",\"subtype\":\"Chart\",\"type\":\"Plot\"}},\"id\":\"cb108a34-fc6a-431a-a0fa-13649c1bed12\",\"type\":\"ResetTool\"},{\"attributes\":{\"plot\":{\"id\":\"5765a6dd-668f-40c3-b471-7268c95aaa32\",\"subtype\":\"Chart\",\"type\":\"Plot\"}},\"id\":\"e17e1e33-0696-414c-986b-c6f8e156c144\",\"type\":\"WheelZoomTool\"},{\"attributes\":{\"fill_alpha\":{\"field\":\"fill_alpha\"},\"fill_color\":{\"field\":\"color\"},\"height\":{\"field\":\"height\",\"units\":\"data\"},\"line_color\":{\"field\":\"line_color\"},\"width\":{\"field\":\"width\",\"units\":\"data\"},\"x\":{\"field\":\"x\"},\"y\":{\"field\":\"y\"}},\"id\":\"4128e283-0d99-4f60-93b2-75d7f0179f76\",\"type\":\"Rect\"},{\"attributes\":{\"fill_alpha\":{\"field\":\"fill_alpha\"},\"fill_color\":{\"field\":\"color\"},\"height\":{\"field\":\"height\",\"units\":\"data\"},\"line_color\":{\"field\":\"line_color\"},\"width\":{\"field\":\"width\",\"units\":\"data\"},\"x\":{\"field\":\"x\"},\"y\":{\"field\":\"y\"}},\"id\":\"24305d57-d7f5-4cf8-a0b6-93bb32cc6696\",\"type\":\"Rect\"},{\"attributes\":{\"callback\":null,\"column_names\":[\"line_color\",\"label\",\"fill_alpha\",\"height\",\"y\",\"width\",\"line_alpha\",\"color\",\"x\"],\"data\":{\"chart_index\":[\"(1.600000, 1.733333]\"],\"color\":[\"LightSlateGray\"],\"fill_alpha\":[0.8],\"height\":[0.0],\"label\":[\"(1.600000, 1.733333]\"],\"line_alpha\":[1.0],\"line_color\":[\"black\"],\"width\":[0.1333333333333333],\"x\":[\"1.6666665\"],\"y\":[0.0]}},\"id\":\"ced4703d-8f3d-441d-8be5-040c305e9877\",\"type\":\"ColumnDataSource\"},{\"attributes\":{\"callback\":null,\"column_names\":[\"line_color\",\"label\",\"fill_alpha\",\"height\",\"y\",\"width\",\"line_alpha\",\"color\",\"x\"],\"data\":{\"chart_index\":[\"(0.133333, 0.266667]\"],\"color\":[\"LightSlateGray\"],\"fill_alpha\":[0.8],\"height\":[0.0],\"label\":[\"(0.133333, 0.266667]\"],\"line_alpha\":[1.0],\"line_color\":[\"black\"],\"width\":[0.13333333333333333],\"x\":[\"0.2\"],\"y\":[0.0]}},\"id\":\"2658d6be-b11b-4fb9-8ee3-c0e0f8dc416d\",\"type\":\"ColumnDataSource\"},{\"attributes\":{\"overlay\":{\"id\":\"3676f05e-ece1-4085-9101-5cccbdedb83b\",\"type\":\"BoxAnnotation\"},\"plot\":{\"id\":\"5765a6dd-668f-40c3-b471-7268c95aaa32\",\"subtype\":\"Chart\",\"type\":\"Plot\"}},\"id\":\"673b22b0-9693-453f-a85c-b90a155d850b\",\"type\":\"BoxZoomTool\"},{\"attributes\":{\"plot\":null,\"text\":\"Exact_Match_HG002: Consensust GT\"},\"id\":\"3f237c46-1e6b-464a-b60e-9cb180be3072\",\"type\":\"Title\"},{\"attributes\":{\"fill_alpha\":{\"field\":\"fill_alpha\"},\"fill_color\":{\"field\":\"color\"},\"height\":{\"field\":\"height\",\"units\":\"data\"},\"line_color\":{\"field\":\"line_color\"},\"width\":{\"field\":\"width\",\"units\":\"data\"},\"x\":{\"field\":\"x\"},\"y\":{\"field\":\"y\"}},\"id\":\"d0b326fa-f24a-4274-8128-9f949b1ef65b\",\"type\":\"Rect\"},{\"attributes\":{\"data_source\":{\"id\":\"a3cdb252-7c48-4ed7-bc02-6357b0dc24f1\",\"type\":\"ColumnDataSource\"},\"glyph\":{\"id\":\"2333b46a-4e80-4319-9fa8-326e8127d962\",\"type\":\"Rect\"},\"hover_glyph\":null,\"nonselection_glyph\":null,\"selection_glyph\":null},\"id\":\"84f4fbfe-2558-424c-997d-1d266ddda83d\",\"type\":\"GlyphRenderer\"},{\"attributes\":{\"callback\":null,\"column_names\":[\"line_color\",\"label\",\"fill_alpha\",\"height\",\"y\",\"width\",\"line_alpha\",\"color\",\"x\"],\"data\":{\"chart_index\":[\"[0.000000, 0.133333]\"],\"color\":[\"LightSlateGray\"],\"fill_alpha\":[0.8],\"height\":[36.0],\"label\":[\"[0.000000, 0.133333]\"],\"line_alpha\":[1.0],\"line_color\":[\"black\"],\"width\":[0.13333333333333333],\"x\":[\"0.0666665\"],\"y\":[18.0]}},\"id\":\"a3cdb252-7c48-4ed7-bc02-6357b0dc24f1\",\"type\":\"ColumnDataSource\"},{\"attributes\":{\"callback\":null,\"column_names\":[\"line_color\",\"label\",\"fill_alpha\",\"height\",\"y\",\"width\",\"line_alpha\",\"color\",\"x\"],\"data\":{\"chart_index\":[\"(1.066667, 1.200000]\"],\"color\":[\"LightSlateGray\"],\"fill_alpha\":[0.8],\"height\":[0.0],\"label\":[\"(1.066667, 1.200000]\"],\"line_alpha\":[1.0],\"line_color\":[\"black\"],\"width\":[0.1333333333333333],\"x\":[\"1.1333335\"],\"y\":[0.0]}},\"id\":\"f1cbf535-d6aa-4216-8ff4-608154250cbe\",\"type\":\"ColumnDataSource\"},{\"attributes\":{\"fill_alpha\":{\"field\":\"fill_alpha\"},\"fill_color\":{\"field\":\"color\"},\"height\":{\"field\":\"height\",\"units\":\"data\"},\"line_color\":{\"field\":\"line_color\"},\"width\":{\"field\":\"width\",\"units\":\"data\"},\"x\":{\"field\":\"x\"},\"y\":{\"field\":\"y\"}},\"id\":\"48bf0aa2-ae72-4be0-8448-d6e35a0ceebc\",\"type\":\"Rect\"},{\"attributes\":{\"callback\":null,\"column_names\":[\"line_color\",\"label\",\"fill_alpha\",\"height\",\"y\",\"width\",\"line_alpha\",\"color\",\"x\"],\"data\":{\"chart_index\":[\"(0.666667, 0.800000]\"],\"color\":[\"LightSlateGray\"],\"fill_alpha\":[0.8],\"height\":[0.0],\"label\":[\"(0.666667, 0.800000]\"],\"line_alpha\":[1.0],\"line_color\":[\"black\"],\"width\":[0.13333333333333341],\"x\":[\"0.7333335000000001\"],\"y\":[0.0]}},\"id\":\"02d05b11-1e6c-456c-a02d-f83f7bd2f3d6\",\"type\":\"ColumnDataSource\"},{\"attributes\":{\"data_source\":{\"id\":\"ced4703d-8f3d-441d-8be5-040c305e9877\",\"type\":\"ColumnDataSource\"},\"glyph\":{\"id\":\"36dcf864-e31f-463b-800d-b8af76eb89fb\",\"type\":\"Rect\"},\"hover_glyph\":null,\"nonselection_glyph\":null,\"selection_glyph\":null},\"id\":\"d975c927-f4d4-4ccd-a7eb-d8a722a603e0\",\"type\":\"GlyphRenderer\"},{\"attributes\":{\"data_source\":{\"id\":\"f1cbf535-d6aa-4216-8ff4-608154250cbe\",\"type\":\"ColumnDataSource\"},\"glyph\":{\"id\":\"003775dc-ce90-4eba-9afa-8ff417e6d44a\",\"type\":\"Rect\"},\"hover_glyph\":null,\"nonselection_glyph\":null,\"selection_glyph\":null},\"id\":\"44bffa58-cd2a-4ded-9f3c-341a1ae0aed0\",\"type\":\"GlyphRenderer\"},{\"attributes\":{\"bottom_units\":\"screen\",\"fill_alpha\":{\"value\":0.5},\"fill_color\":{\"value\":\"lightgrey\"},\"left_units\":\"screen\",\"level\":\"overlay\",\"line_alpha\":{\"value\":1.0},\"line_color\":{\"value\":\"black\"},\"line_dash\":[4,4],\"line_width\":{\"value\":2},\"plot\":null,\"render_mode\":\"css\",\"right_units\":\"screen\",\"top_units\":\"screen\"},\"id\":\"3676f05e-ece1-4085-9101-5cccbdedb83b\",\"type\":\"BoxAnnotation\"},{\"attributes\":{\"plot\":{\"id\":\"5765a6dd-668f-40c3-b471-7268c95aaa32\",\"subtype\":\"Chart\",\"type\":\"Plot\"}},\"id\":\"aa434733-bae4-4698-a711-f004e22f344b\",\"type\":\"PanTool\"},{\"attributes\":{\"fill_alpha\":{\"field\":\"fill_alpha\"},\"fill_color\":{\"field\":\"color\"},\"height\":{\"field\":\"height\",\"units\":\"data\"},\"line_color\":{\"field\":\"line_color\"},\"width\":{\"field\":\"width\",\"units\":\"data\"},\"x\":{\"field\":\"x\"},\"y\":{\"field\":\"y\"}},\"id\":\"d794c3fe-8676-41b2-8c78-389255b45465\",\"type\":\"Rect\"},{\"attributes\":{\"data_source\":{\"id\":\"72a0d5b4-ab5f-4013-a4df-59607f8f948e\",\"type\":\"ColumnDataSource\"},\"glyph\":{\"id\":\"491f7cfa-5135-4ca7-a95c-6a297ab8fb5f\",\"type\":\"Rect\"},\"hover_glyph\":null,\"nonselection_glyph\":null,\"selection_glyph\":null},\"id\":\"ffb0b12c-3f7d-47fe-aa9b-7ab63ee28161\",\"type\":\"GlyphRenderer\"}],\"root_ids\":[\"5765a6dd-668f-40c3-b471-7268c95aaa32\"]},\"title\":\"Bokeh Application\",\"version\":\"0.12.4\"}};\n",
       "            var render_items = [{\"docid\":\"88d3cfae-2743-4e4f-a424-eb764dc0788d\",\"elementid\":\"b018d836-2d02-4d3b-9f6a-61a30b730566\",\"modelid\":\"5765a6dd-668f-40c3-b471-7268c95aaa32\"}];\n",
       "            \n",
       "            Bokeh.embed.embed_items(docs_json, render_items);\n",
       "          };\n",
       "          if (document.readyState != \"loading\") fn();\n",
       "          else document.addEventListener(\"DOMContentLoaded\", fn);\n",
       "        })();\n",
       "      },\n",
       "      function(Bokeh) {\n",
       "      }\n",
       "    ];\n",
       "  \n",
       "    function run_inline_js() {\n",
       "      \n",
       "      if ((window.Bokeh !== undefined) || (force === true)) {\n",
       "        for (var i = 0; i < inline_js.length; i++) {\n",
       "          inline_js[i](window.Bokeh);\n",
       "        }if (force === true) {\n",
       "          display_loaded();\n",
       "        }} else if (Date.now() < window._bokeh_timeout) {\n",
       "        setTimeout(run_inline_js, 100);\n",
       "      } else if (!window._bokeh_failed_load) {\n",
       "        console.log(\"Bokeh: BokehJS failed to load within specified timeout.\");\n",
       "        window._bokeh_failed_load = true;\n",
       "      } else if (force !== true) {\n",
       "        var cell = $(document.getElementById(\"b018d836-2d02-4d3b-9f6a-61a30b730566\")).parents('.cell').data().cell;\n",
       "        cell.output_area.append_execute_result(NB_LOAD_WARNING)\n",
       "      }\n",
       "  \n",
       "    }\n",
       "  \n",
       "    if (window._bokeh_is_loading === 0) {\n",
       "      console.log(\"Bokeh: BokehJS loaded, going straight to plotting\");\n",
       "      run_inline_js();\n",
       "    } else {\n",
       "      load_libs(js_urls, function() {\n",
       "        console.log(\"Bokeh: BokehJS plotting callback run at\", now());\n",
       "        run_inline_js();\n",
       "      });\n",
       "    }\n",
       "  }(this));\n",
       "</script>"
      ]
     },
     "metadata": {},
     "output_type": "display_data"
    }
   ],
   "source": [
    "p = figure()\n",
    "p = Histogram(exact_match, values='GTcons', title='Exact_Match_HG002: Consensust GT', color='LightSlateGray', bins=15, plot_height=250, xlabel=\"GTcons\", ylabel=\"Frequency\")\n",
    "show(p)"
   ]
  },
  {
   "cell_type": "markdown",
   "metadata": {},
   "source": [
    "** Homozygous Reference **"
   ]
  },
  {
   "cell_type": "code",
   "execution_count": 59,
   "metadata": {},
   "outputs": [
    {
     "data": {
      "text/html": [
       "<div>\n",
       "<table border=\"1\" class=\"dataframe\">\n",
       "  <thead>\n",
       "    <tr style=\"text-align: right;\">\n",
       "      <th></th>\n",
       "      <th>Size</th>\n",
       "      <th>chrom</th>\n",
       "      <th>end</th>\n",
       "      <th>pacbio.GT</th>\n",
       "      <th>pacbio.alt_alnScore_mean</th>\n",
       "      <th>pacbio.alt_alnScore_std</th>\n",
       "      <th>pacbio.alt_count</th>\n",
       "      <th>pacbio.alt_insertSize_mean</th>\n",
       "      <th>pacbio.alt_insertSize_std</th>\n",
       "      <th>pacbio.alt_reason_alignmentScore</th>\n",
       "      <th>...</th>\n",
       "      <th>refN_pct</th>\n",
       "      <th>segdup_cnt</th>\n",
       "      <th>segdup_pct</th>\n",
       "      <th>start</th>\n",
       "      <th>tandemrep_cnt</th>\n",
       "      <th>tandemrep_pct</th>\n",
       "      <th>predicted_label</th>\n",
       "      <th>GTcons</th>\n",
       "      <th>GTsupp</th>\n",
       "      <th>GTconswithoutpacbio.GT</th>\n",
       "    </tr>\n",
       "  </thead>\n",
       "  <tbody>\n",
       "    <tr>\n",
       "      <th>8</th>\n",
       "      <td>-20</td>\n",
       "      <td>1</td>\n",
       "      <td>29719393</td>\n",
       "      <td>0.0</td>\n",
       "      <td>0.0</td>\n",
       "      <td>0.0</td>\n",
       "      <td>0.0</td>\n",
       "      <td>0.0</td>\n",
       "      <td>0.0</td>\n",
       "      <td>0.0</td>\n",
       "      <td>...</td>\n",
       "      <td>0.0</td>\n",
       "      <td>0.0</td>\n",
       "      <td>0.0</td>\n",
       "      <td>29719372</td>\n",
       "      <td>1.0</td>\n",
       "      <td>1.0</td>\n",
       "      <td>0.0</td>\n",
       "      <td>0</td>\n",
       "      <td>4</td>\n",
       "      <td>0</td>\n",
       "    </tr>\n",
       "  </tbody>\n",
       "</table>\n",
       "<p>1 rows × 36 columns</p>\n",
       "</div>"
      ],
      "text/plain": [
       "   Size chrom       end  pacbio.GT  pacbio.alt_alnScore_mean  \\\n",
       "8   -20     1  29719393        0.0                       0.0   \n",
       "\n",
       "   pacbio.alt_alnScore_std  pacbio.alt_count  pacbio.alt_insertSize_mean  \\\n",
       "8                      0.0               0.0                         0.0   \n",
       "\n",
       "   pacbio.alt_insertSize_std  pacbio.alt_reason_alignmentScore  \\\n",
       "8                        0.0                               0.0   \n",
       "\n",
       "            ...            refN_pct  segdup_cnt  segdup_pct     start  \\\n",
       "8           ...                 0.0         0.0         0.0  29719372   \n",
       "\n",
       "   tandemrep_cnt  tandemrep_pct  predicted_label  GTcons  GTsupp  \\\n",
       "8            1.0            1.0              0.0       0       4   \n",
       "\n",
       "   GTconswithoutpacbio.GT  \n",
       "8                       0  \n",
       "\n",
       "[1 rows x 36 columns]"
      ]
     },
     "execution_count": 59,
     "metadata": {},
     "output_type": "execute_result"
    }
   ],
   "source": [
    "hr = X5['predicted_label'] == 0.0\n",
    "hom_ref = X5[hr]\n",
    "hom_ref.head(1)"
   ]
  },
  {
   "cell_type": "code",
   "execution_count": 60,
   "metadata": {},
   "outputs": [
    {
     "data": {
      "text/html": [
       "\n",
       "\n",
       "    <div class=\"bk-root\">\n",
       "        <div class=\"bk-plotdiv\" id=\"6c33db07-6dfe-4739-96fc-6b01195ca772\"></div>\n",
       "    </div>\n",
       "<script type=\"text/javascript\">\n",
       "  \n",
       "  (function(global) {\n",
       "    function now() {\n",
       "      return new Date();\n",
       "    }\n",
       "  \n",
       "    var force = false;\n",
       "  \n",
       "    if (typeof (window._bokeh_onload_callbacks) === \"undefined\" || force === true) {\n",
       "      window._bokeh_onload_callbacks = [];\n",
       "      window._bokeh_is_loading = undefined;\n",
       "    }\n",
       "  \n",
       "  \n",
       "    \n",
       "    if (typeof (window._bokeh_timeout) === \"undefined\" || force === true) {\n",
       "      window._bokeh_timeout = Date.now() + 0;\n",
       "      window._bokeh_failed_load = false;\n",
       "    }\n",
       "  \n",
       "    var NB_LOAD_WARNING = {'data': {'text/html':\n",
       "       \"<div style='background-color: #fdd'>\\n\"+\n",
       "       \"<p>\\n\"+\n",
       "       \"BokehJS does not appear to have successfully loaded. If loading BokehJS from CDN, this \\n\"+\n",
       "       \"may be due to a slow or bad network connection. Possible fixes:\\n\"+\n",
       "       \"</p>\\n\"+\n",
       "       \"<ul>\\n\"+\n",
       "       \"<li>re-rerun `output_notebook()` to attempt to load from CDN again, or</li>\\n\"+\n",
       "       \"<li>use INLINE resources instead, as so:</li>\\n\"+\n",
       "       \"</ul>\\n\"+\n",
       "       \"<code>\\n\"+\n",
       "       \"from bokeh.resources import INLINE\\n\"+\n",
       "       \"output_notebook(resources=INLINE)\\n\"+\n",
       "       \"</code>\\n\"+\n",
       "       \"</div>\"}};\n",
       "  \n",
       "    function display_loaded() {\n",
       "      if (window.Bokeh !== undefined) {\n",
       "        document.getElementById(\"6c33db07-6dfe-4739-96fc-6b01195ca772\").textContent = \"BokehJS successfully loaded.\";\n",
       "      } else if (Date.now() < window._bokeh_timeout) {\n",
       "        setTimeout(display_loaded, 100)\n",
       "      }\n",
       "    }\n",
       "  \n",
       "    function run_callbacks() {\n",
       "      window._bokeh_onload_callbacks.forEach(function(callback) { callback() });\n",
       "      delete window._bokeh_onload_callbacks\n",
       "      console.info(\"Bokeh: all callbacks have finished\");\n",
       "    }\n",
       "  \n",
       "    function load_libs(js_urls, callback) {\n",
       "      window._bokeh_onload_callbacks.push(callback);\n",
       "      if (window._bokeh_is_loading > 0) {\n",
       "        console.log(\"Bokeh: BokehJS is being loaded, scheduling callback at\", now());\n",
       "        return null;\n",
       "      }\n",
       "      if (js_urls == null || js_urls.length === 0) {\n",
       "        run_callbacks();\n",
       "        return null;\n",
       "      }\n",
       "      console.log(\"Bokeh: BokehJS not loaded, scheduling load and callback at\", now());\n",
       "      window._bokeh_is_loading = js_urls.length;\n",
       "      for (var i = 0; i < js_urls.length; i++) {\n",
       "        var url = js_urls[i];\n",
       "        var s = document.createElement('script');\n",
       "        s.src = url;\n",
       "        s.async = false;\n",
       "        s.onreadystatechange = s.onload = function() {\n",
       "          window._bokeh_is_loading--;\n",
       "          if (window._bokeh_is_loading === 0) {\n",
       "            console.log(\"Bokeh: all BokehJS libraries loaded\");\n",
       "            run_callbacks()\n",
       "          }\n",
       "        };\n",
       "        s.onerror = function() {\n",
       "          console.warn(\"failed to load library \" + url);\n",
       "        };\n",
       "        console.log(\"Bokeh: injecting script tag for BokehJS library: \", url);\n",
       "        document.getElementsByTagName(\"head\")[0].appendChild(s);\n",
       "      }\n",
       "    };var element = document.getElementById(\"6c33db07-6dfe-4739-96fc-6b01195ca772\");\n",
       "    if (element == null) {\n",
       "      console.log(\"Bokeh: ERROR: autoload.js configured with elementid '6c33db07-6dfe-4739-96fc-6b01195ca772' but no matching script tag was found. \")\n",
       "      return false;\n",
       "    }\n",
       "  \n",
       "    var js_urls = [];\n",
       "  \n",
       "    var inline_js = [\n",
       "      function(Bokeh) {\n",
       "        (function() {\n",
       "          var fn = function() {\n",
       "            var docs_json = {\"d8dd782d-3044-41d9-a985-310f39a41f1c\":{\"roots\":{\"references\":[{\"attributes\":{\"data_source\":{\"id\":\"746a70b7-1231-4ae7-b472-3a7ddf6c9fe5\",\"type\":\"ColumnDataSource\"},\"glyph\":{\"id\":\"67f29439-d572-41d1-bbbd-168f43c433d0\",\"type\":\"Rect\"},\"hover_glyph\":null,\"nonselection_glyph\":null,\"selection_glyph\":null},\"id\":\"52a8d28f-1b06-4e2f-9d65-fc7891d45507\",\"type\":\"GlyphRenderer\"},{\"attributes\":{\"data_source\":{\"id\":\"0714222d-5558-4e39-acc2-6413ba2c4a6f\",\"type\":\"ColumnDataSource\"},\"glyph\":{\"id\":\"ae5f5ed1-f2e7-4205-a325-9a6516aa8b5c\",\"type\":\"Rect\"},\"hover_glyph\":null,\"nonselection_glyph\":null,\"selection_glyph\":null},\"id\":\"7c3ebb73-a9bd-4961-954e-6afeaebb35c7\",\"type\":\"GlyphRenderer\"},{\"attributes\":{\"fill_alpha\":{\"field\":\"fill_alpha\"},\"fill_color\":{\"field\":\"color\"},\"height\":{\"field\":\"height\",\"units\":\"data\"},\"line_color\":{\"field\":\"line_color\"},\"width\":{\"field\":\"width\",\"units\":\"data\"},\"x\":{\"field\":\"x\"},\"y\":{\"field\":\"y\"}},\"id\":\"e6d16d5b-d846-4e6a-8e92-38f08c500ce2\",\"type\":\"Rect\"},{\"attributes\":{\"data_source\":{\"id\":\"c4c3568b-d90b-484f-8d81-6305eef7e7c6\",\"type\":\"ColumnDataSource\"},\"glyph\":{\"id\":\"5c902bbc-2c6b-4797-8b46-448f1f1b4eae\",\"type\":\"Rect\"},\"hover_glyph\":null,\"nonselection_glyph\":null,\"selection_glyph\":null},\"id\":\"f450f5d8-208a-467c-943b-3dec8d9c305d\",\"type\":\"GlyphRenderer\"},{\"attributes\":{\"callback\":null,\"column_names\":[\"line_color\",\"label\",\"fill_alpha\",\"height\",\"y\",\"width\",\"line_alpha\",\"color\",\"x\"],\"data\":{\"chart_index\":[\"(0.133333, 0.266667]\"],\"color\":[\"LightSlateGray\"],\"fill_alpha\":[0.8],\"height\":[0.0],\"label\":[\"(0.133333, 0.266667]\"],\"line_alpha\":[1.0],\"line_color\":[\"black\"],\"width\":[0.13333333333333333],\"x\":[\"0.2\"],\"y\":[0.0]}},\"id\":\"189d6336-267f-41ce-ad1f-2952f7ec4b52\",\"type\":\"ColumnDataSource\"},{\"attributes\":{\"callback\":null,\"column_names\":[\"line_color\",\"label\",\"fill_alpha\",\"height\",\"y\",\"width\",\"line_alpha\",\"color\",\"x\"],\"data\":{\"chart_index\":[\"(1.066667, 1.200000]\"],\"color\":[\"LightSlateGray\"],\"fill_alpha\":[0.8],\"height\":[0.0],\"label\":[\"(1.066667, 1.200000]\"],\"line_alpha\":[1.0],\"line_color\":[\"black\"],\"width\":[0.1333333333333333],\"x\":[\"1.1333335\"],\"y\":[0.0]}},\"id\":\"1afe99e9-8179-4f53-b46f-f783e7132aaa\",\"type\":\"ColumnDataSource\"},{\"attributes\":{\"fill_alpha\":{\"field\":\"fill_alpha\"},\"fill_color\":{\"field\":\"color\"},\"height\":{\"field\":\"height\",\"units\":\"data\"},\"line_color\":{\"field\":\"line_color\"},\"width\":{\"field\":\"width\",\"units\":\"data\"},\"x\":{\"field\":\"x\"},\"y\":{\"field\":\"y\"}},\"id\":\"2279937c-847f-47a1-b5a7-276c72425d78\",\"type\":\"Rect\"},{\"attributes\":{\"bottom_units\":\"screen\",\"fill_alpha\":{\"value\":0.5},\"fill_color\":{\"value\":\"lightgrey\"},\"left_units\":\"screen\",\"level\":\"overlay\",\"line_alpha\":{\"value\":1.0},\"line_color\":{\"value\":\"black\"},\"line_dash\":[4,4],\"line_width\":{\"value\":2},\"plot\":null,\"render_mode\":\"css\",\"right_units\":\"screen\",\"top_units\":\"screen\"},\"id\":\"4e893fca-5a5f-4f2f-9e35-d873ad32d7ef\",\"type\":\"BoxAnnotation\"},{\"attributes\":{\"plot\":{\"id\":\"c6f06bb5-da53-41da-ad3e-bdd37e07ae99\",\"subtype\":\"Chart\",\"type\":\"Plot\"}},\"id\":\"f5d18c04-dc48-4971-aa2e-2a1bafcce427\",\"type\":\"ResetTool\"},{\"attributes\":{\"active_drag\":\"auto\",\"active_scroll\":\"auto\",\"active_tap\":\"auto\",\"tools\":[{\"id\":\"5cf45d3b-1415-4691-8f9a-83dbccc13b43\",\"type\":\"PanTool\"},{\"id\":\"2ec4075a-dc1b-4733-90bd-0d2395c12da3\",\"type\":\"WheelZoomTool\"},{\"id\":\"a8eea942-f151-4709-a33f-61716f32fbba\",\"type\":\"BoxZoomTool\"},{\"id\":\"7629f221-a51f-4f65-bee5-1cf29b3f83df\",\"type\":\"SaveTool\"},{\"id\":\"f5d18c04-dc48-4971-aa2e-2a1bafcce427\",\"type\":\"ResetTool\"},{\"id\":\"655d8864-d3e4-4859-bac7-4574c59d83ed\",\"type\":\"HelpTool\"}]},\"id\":\"3088bef4-d5a8-47ff-a9d5-0995e3fc1ae6\",\"type\":\"Toolbar\"},{\"attributes\":{\"callback\":null,\"column_names\":[\"line_color\",\"label\",\"fill_alpha\",\"height\",\"y\",\"width\",\"line_alpha\",\"color\",\"x\"],\"data\":{\"chart_index\":[\"(0.533333, 0.666667]\"],\"color\":[\"LightSlateGray\"],\"fill_alpha\":[0.8],\"height\":[0.0],\"label\":[\"(0.533333, 0.666667]\"],\"line_alpha\":[1.0],\"line_color\":[\"black\"],\"width\":[0.1333333333333333],\"x\":[\"0.6\"],\"y\":[0.0]}},\"id\":\"746a70b7-1231-4ae7-b472-3a7ddf6c9fe5\",\"type\":\"ColumnDataSource\"},{\"attributes\":{\"axis_label\":\"GTcons\",\"formatter\":{\"id\":\"365b84c1-2a9a-4e05-9a7f-3cd7e387e732\",\"type\":\"BasicTickFormatter\"},\"plot\":{\"id\":\"c6f06bb5-da53-41da-ad3e-bdd37e07ae99\",\"subtype\":\"Chart\",\"type\":\"Plot\"},\"ticker\":{\"id\":\"d1aecb34-b55a-4879-8cc7-011e9aaf5a3a\",\"type\":\"BasicTicker\"}},\"id\":\"9d16a308-3895-4519-a791-f4aa06bfa31c\",\"type\":\"LinearAxis\"},{\"attributes\":{\"data_source\":{\"id\":\"200468f9-5a4e-436d-98dd-96c4d0efa3a9\",\"type\":\"ColumnDataSource\"},\"glyph\":{\"id\":\"1213b831-ad77-4a6e-b434-bd5a8aa06c9f\",\"type\":\"Rect\"},\"hover_glyph\":null,\"nonselection_glyph\":null,\"selection_glyph\":null},\"id\":\"caaff14e-db2b-4e1e-a0cd-827c67ef170d\",\"type\":\"GlyphRenderer\"},{\"attributes\":{\"fill_alpha\":{\"field\":\"fill_alpha\"},\"fill_color\":{\"field\":\"color\"},\"height\":{\"field\":\"height\",\"units\":\"data\"},\"line_color\":{\"field\":\"line_color\"},\"width\":{\"field\":\"width\",\"units\":\"data\"},\"x\":{\"field\":\"x\"},\"y\":{\"field\":\"y\"}},\"id\":\"8a3a7036-83e5-4f68-bcb5-6ad882787011\",\"type\":\"Rect\"},{\"attributes\":{\"axis_label\":\"Frequency\",\"formatter\":{\"id\":\"b4ef9cbf-352d-4639-8d20-ce653d9a2e1e\",\"type\":\"BasicTickFormatter\"},\"plot\":{\"id\":\"c6f06bb5-da53-41da-ad3e-bdd37e07ae99\",\"subtype\":\"Chart\",\"type\":\"Plot\"},\"ticker\":{\"id\":\"3ce8362b-8651-44e7-8504-a66532e0b673\",\"type\":\"BasicTicker\"}},\"id\":\"7501b123-4c24-41f5-b760-3d4b512369a7\",\"type\":\"LinearAxis\"},{\"attributes\":{\"callback\":null,\"column_names\":[\"line_color\",\"label\",\"fill_alpha\",\"height\",\"y\",\"width\",\"line_alpha\",\"color\",\"x\"],\"data\":{\"chart_index\":[\"(0.400000, 0.533333]\"],\"color\":[\"LightSlateGray\"],\"fill_alpha\":[0.8],\"height\":[0.0],\"label\":[\"(0.400000, 0.533333]\"],\"line_alpha\":[1.0],\"line_color\":[\"black\"],\"width\":[0.1333333333333333],\"x\":[\"0.4666665\"],\"y\":[0.0]}},\"id\":\"588cdd97-b37d-4138-81db-8420b30f2717\",\"type\":\"ColumnDataSource\"},{\"attributes\":{\"data_source\":{\"id\":\"3739d46a-d978-4840-affc-aa823f73c54c\",\"type\":\"ColumnDataSource\"},\"glyph\":{\"id\":\"8a3a7036-83e5-4f68-bcb5-6ad882787011\",\"type\":\"Rect\"},\"hover_glyph\":null,\"nonselection_glyph\":null,\"selection_glyph\":null},\"id\":\"640bbf74-c3c7-47ed-835c-e1fb6b604979\",\"type\":\"GlyphRenderer\"},{\"attributes\":{\"data_source\":{\"id\":\"588cdd97-b37d-4138-81db-8420b30f2717\",\"type\":\"ColumnDataSource\"},\"glyph\":{\"id\":\"a604b153-46c4-44b3-ba28-830d65bb1e85\",\"type\":\"Rect\"},\"hover_glyph\":null,\"nonselection_glyph\":null,\"selection_glyph\":null},\"id\":\"6834ce22-e56b-4bba-91c1-1246ad88abe5\",\"type\":\"GlyphRenderer\"},{\"attributes\":{\"fill_alpha\":{\"field\":\"fill_alpha\"},\"fill_color\":{\"field\":\"color\"},\"height\":{\"field\":\"height\",\"units\":\"data\"},\"line_color\":{\"field\":\"line_color\"},\"width\":{\"field\":\"width\",\"units\":\"data\"},\"x\":{\"field\":\"x\"},\"y\":{\"field\":\"y\"}},\"id\":\"1213b831-ad77-4a6e-b434-bd5a8aa06c9f\",\"type\":\"Rect\"},{\"attributes\":{\"data_source\":{\"id\":\"7b20298c-aadd-49b9-b3bf-e1c75a306023\",\"type\":\"ColumnDataSource\"},\"glyph\":{\"id\":\"f99a2e2a-abc9-42e7-b6e3-8c50f91929ec\",\"type\":\"Rect\"},\"hover_glyph\":null,\"nonselection_glyph\":null,\"selection_glyph\":null},\"id\":\"cab6c317-c256-40bd-a35b-17b13897fd16\",\"type\":\"GlyphRenderer\"},{\"attributes\":{\"dimension\":1,\"plot\":{\"id\":\"c6f06bb5-da53-41da-ad3e-bdd37e07ae99\",\"subtype\":\"Chart\",\"type\":\"Plot\"},\"ticker\":{\"id\":\"3ce8362b-8651-44e7-8504-a66532e0b673\",\"type\":\"BasicTicker\"}},\"id\":\"c1e5130f-0251-45e4-8a6b-d764dd58bf65\",\"type\":\"Grid\"},{\"attributes\":{\"callback\":null,\"column_names\":[\"line_color\",\"label\",\"fill_alpha\",\"height\",\"y\",\"width\",\"line_alpha\",\"color\",\"x\"],\"data\":{\"chart_index\":[\"(1.866667, 2.000000]\"],\"color\":[\"LightSlateGray\"],\"fill_alpha\":[0.8],\"height\":[7.0],\"label\":[\"(1.866667, 2.000000]\"],\"line_alpha\":[1.0],\"line_color\":[\"black\"],\"width\":[0.1333333333333333],\"x\":[\"1.9333335\"],\"y\":[3.5]}},\"id\":\"557721dd-ec83-4775-bc3a-0033f264861f\",\"type\":\"ColumnDataSource\"},{\"attributes\":{},\"id\":\"365b84c1-2a9a-4e05-9a7f-3cd7e387e732\",\"type\":\"BasicTickFormatter\"},{\"attributes\":{},\"id\":\"d1aecb34-b55a-4879-8cc7-011e9aaf5a3a\",\"type\":\"BasicTicker\"},{\"attributes\":{\"fill_alpha\":{\"field\":\"fill_alpha\"},\"fill_color\":{\"field\":\"color\"},\"height\":{\"field\":\"height\",\"units\":\"data\"},\"line_color\":{\"field\":\"line_color\"},\"width\":{\"field\":\"width\",\"units\":\"data\"},\"x\":{\"field\":\"x\"},\"y\":{\"field\":\"y\"}},\"id\":\"f99a2e2a-abc9-42e7-b6e3-8c50f91929ec\",\"type\":\"Rect\"},{\"attributes\":{\"data_source\":{\"id\":\"1fb848f0-4d46-44ca-bdc6-03c3eae27d25\",\"type\":\"ColumnDataSource\"},\"glyph\":{\"id\":\"1b4060f5-20a3-433f-923b-5a4380e443c2\",\"type\":\"Rect\"},\"hover_glyph\":null,\"nonselection_glyph\":null,\"selection_glyph\":null},\"id\":\"391c7ef8-0489-4fc2-9a7e-a288ea4577f6\",\"type\":\"GlyphRenderer\"},{\"attributes\":{\"plot\":null,\"text\":\"Homozygous_Reference_HG002: Consensust GT\"},\"id\":\"b8c60604-18ab-498e-8d86-87bb2c96e09e\",\"type\":\"Title\"},{\"attributes\":{\"plot\":{\"id\":\"c6f06bb5-da53-41da-ad3e-bdd37e07ae99\",\"subtype\":\"Chart\",\"type\":\"Plot\"}},\"id\":\"5cf45d3b-1415-4691-8f9a-83dbccc13b43\",\"type\":\"PanTool\"},{\"attributes\":{\"plot\":{\"id\":\"c6f06bb5-da53-41da-ad3e-bdd37e07ae99\",\"subtype\":\"Chart\",\"type\":\"Plot\"}},\"id\":\"7629f221-a51f-4f65-bee5-1cf29b3f83df\",\"type\":\"SaveTool\"},{\"attributes\":{\"data_source\":{\"id\":\"188a0a52-272c-47a6-91ba-59f9b8805cbe\",\"type\":\"ColumnDataSource\"},\"glyph\":{\"id\":\"305f65f6-49a9-475e-a7a9-ff164cb58136\",\"type\":\"Rect\"},\"hover_glyph\":null,\"nonselection_glyph\":null,\"selection_glyph\":null},\"id\":\"777995a6-1cdd-4c5c-871b-ba54b3b0b6d6\",\"type\":\"GlyphRenderer\"},{\"attributes\":{\"callback\":null,\"end\":2.0500001666666665,\"start\":-0.050000166666666665},\"id\":\"95506337-2d0d-4442-ad49-78ac77b0f553\",\"type\":\"Range1d\"},{\"attributes\":{\"callback\":null,\"column_names\":[\"line_color\",\"label\",\"fill_alpha\",\"height\",\"y\",\"width\",\"line_alpha\",\"color\",\"x\"],\"data\":{\"chart_index\":[\"(1.466667, 1.600000]\"],\"color\":[\"LightSlateGray\"],\"fill_alpha\":[0.8],\"height\":[0.0],\"label\":[\"(1.466667, 1.600000]\"],\"line_alpha\":[1.0],\"line_color\":[\"black\"],\"width\":[0.13333333333333353],\"x\":[\"1.5333335\"],\"y\":[0.0]}},\"id\":\"556de2fa-eed3-4ce4-b7a5-0dc6ca02f1d8\",\"type\":\"ColumnDataSource\"},{\"attributes\":{\"fill_alpha\":{\"field\":\"fill_alpha\"},\"fill_color\":{\"field\":\"color\"},\"height\":{\"field\":\"height\",\"units\":\"data\"},\"line_color\":{\"field\":\"line_color\"},\"width\":{\"field\":\"width\",\"units\":\"data\"},\"x\":{\"field\":\"x\"},\"y\":{\"field\":\"y\"}},\"id\":\"628a34b4-cec5-45e6-ab33-485a9c07e766\",\"type\":\"Rect\"},{\"attributes\":{\"callback\":null,\"column_names\":[\"line_color\",\"label\",\"fill_alpha\",\"height\",\"y\",\"width\",\"line_alpha\",\"color\",\"x\"],\"data\":{\"chart_index\":[\"(0.800000, 0.933333]\"],\"color\":[\"LightSlateGray\"],\"fill_alpha\":[0.8],\"height\":[0.0],\"label\":[\"(0.800000, 0.933333]\"],\"line_alpha\":[1.0],\"line_color\":[\"black\"],\"width\":[0.1333333333333333],\"x\":[\"0.8666665\"],\"y\":[0.0]}},\"id\":\"1fb848f0-4d46-44ca-bdc6-03c3eae27d25\",\"type\":\"ColumnDataSource\"},{\"attributes\":{\"fill_alpha\":{\"field\":\"fill_alpha\"},\"fill_color\":{\"field\":\"color\"},\"height\":{\"field\":\"height\",\"units\":\"data\"},\"line_color\":{\"field\":\"line_color\"},\"width\":{\"field\":\"width\",\"units\":\"data\"},\"x\":{\"field\":\"x\"},\"y\":{\"field\":\"y\"}},\"id\":\"61d958e9-ed9b-4110-a4df-609fa34d1d73\",\"type\":\"Rect\"},{\"attributes\":{},\"id\":\"3ce8362b-8651-44e7-8504-a66532e0b673\",\"type\":\"BasicTicker\"},{\"attributes\":{\"data_source\":{\"id\":\"e433d9fd-3595-4913-9265-5e241de3a5f1\",\"type\":\"ColumnDataSource\"},\"glyph\":{\"id\":\"e6d16d5b-d846-4e6a-8e92-38f08c500ce2\",\"type\":\"Rect\"},\"hover_glyph\":null,\"nonselection_glyph\":null,\"selection_glyph\":null},\"id\":\"b0c36735-9131-47c1-ae5d-035c7a400bb6\",\"type\":\"GlyphRenderer\"},{\"attributes\":{\"plot\":{\"id\":\"c6f06bb5-da53-41da-ad3e-bdd37e07ae99\",\"subtype\":\"Chart\",\"type\":\"Plot\"}},\"id\":\"655d8864-d3e4-4859-bac7-4574c59d83ed\",\"type\":\"HelpTool\"},{\"attributes\":{\"callback\":null,\"column_names\":[\"line_color\",\"label\",\"fill_alpha\",\"height\",\"y\",\"width\",\"line_alpha\",\"color\",\"x\"],\"data\":{\"chart_index\":[\"(0.266667, 0.400000]\"],\"color\":[\"LightSlateGray\"],\"fill_alpha\":[0.8],\"height\":[0.0],\"label\":[\"(0.266667, 0.400000]\"],\"line_alpha\":[1.0],\"line_color\":[\"black\"],\"width\":[0.13333333333333336],\"x\":[\"0.3333335\"],\"y\":[0.0]}},\"id\":\"e433d9fd-3595-4913-9265-5e241de3a5f1\",\"type\":\"ColumnDataSource\"},{\"attributes\":{\"data_source\":{\"id\":\"556de2fa-eed3-4ce4-b7a5-0dc6ca02f1d8\",\"type\":\"ColumnDataSource\"},\"glyph\":{\"id\":\"61d958e9-ed9b-4110-a4df-609fa34d1d73\",\"type\":\"Rect\"},\"hover_glyph\":null,\"nonselection_glyph\":null,\"selection_glyph\":null},\"id\":\"62d09a3b-7044-4d81-9bdf-361658197136\",\"type\":\"GlyphRenderer\"},{\"attributes\":{\"callback\":null,\"column_names\":[\"line_color\",\"label\",\"fill_alpha\",\"height\",\"y\",\"width\",\"line_alpha\",\"color\",\"x\"],\"data\":{\"chart_index\":[\"(0.933333, 1.066667]\"],\"color\":[\"LightSlateGray\"],\"fill_alpha\":[0.8],\"height\":[23.0],\"label\":[\"(0.933333, 1.066667]\"],\"line_alpha\":[1.0],\"line_color\":[\"black\"],\"width\":[0.1333333333333333],\"x\":[\"1.0\"],\"y\":[11.5]}},\"id\":\"39867245-0316-49e1-b822-161d49707a4b\",\"type\":\"ColumnDataSource\"},{\"attributes\":{},\"id\":\"b4ef9cbf-352d-4639-8d20-ce653d9a2e1e\",\"type\":\"BasicTickFormatter\"},{\"attributes\":{\"callback\":null,\"column_names\":[\"line_color\",\"label\",\"fill_alpha\",\"height\",\"y\",\"width\",\"line_alpha\",\"color\",\"x\"],\"data\":{\"chart_index\":[\"(1.600000, 1.733333]\"],\"color\":[\"LightSlateGray\"],\"fill_alpha\":[0.8],\"height\":[0.0],\"label\":[\"(1.600000, 1.733333]\"],\"line_alpha\":[1.0],\"line_color\":[\"black\"],\"width\":[0.1333333333333333],\"x\":[\"1.6666665\"],\"y\":[0.0]}},\"id\":\"200468f9-5a4e-436d-98dd-96c4d0efa3a9\",\"type\":\"ColumnDataSource\"},{\"attributes\":{\"callback\":null,\"column_names\":[\"line_color\",\"label\",\"fill_alpha\",\"height\",\"y\",\"width\",\"line_alpha\",\"color\",\"x\"],\"data\":{\"chart_index\":[\"(1.733333, 1.866667]\"],\"color\":[\"LightSlateGray\"],\"fill_alpha\":[0.8],\"height\":[0.0],\"label\":[\"(1.733333, 1.866667]\"],\"line_alpha\":[1.0],\"line_color\":[\"black\"],\"width\":[0.1333333333333333],\"x\":[\"1.8\"],\"y\":[0.0]}},\"id\":\"3739d46a-d978-4840-affc-aa823f73c54c\",\"type\":\"ColumnDataSource\"},{\"attributes\":{\"data_source\":{\"id\":\"1afe99e9-8179-4f53-b46f-f783e7132aaa\",\"type\":\"ColumnDataSource\"},\"glyph\":{\"id\":\"628a34b4-cec5-45e6-ab33-485a9c07e766\",\"type\":\"Rect\"},\"hover_glyph\":null,\"nonselection_glyph\":null,\"selection_glyph\":null},\"id\":\"0c8fd090-0880-4f77-8e3f-f54f87750d4b\",\"type\":\"GlyphRenderer\"},{\"attributes\":{\"fill_alpha\":{\"field\":\"fill_alpha\"},\"fill_color\":{\"field\":\"color\"},\"height\":{\"field\":\"height\",\"units\":\"data\"},\"line_color\":{\"field\":\"line_color\"},\"width\":{\"field\":\"width\",\"units\":\"data\"},\"x\":{\"field\":\"x\"},\"y\":{\"field\":\"y\"}},\"id\":\"67f29439-d572-41d1-bbbd-168f43c433d0\",\"type\":\"Rect\"},{\"attributes\":{\"fill_alpha\":{\"field\":\"fill_alpha\"},\"fill_color\":{\"field\":\"color\"},\"height\":{\"field\":\"height\",\"units\":\"data\"},\"line_color\":{\"field\":\"line_color\"},\"width\":{\"field\":\"width\",\"units\":\"data\"},\"x\":{\"field\":\"x\"},\"y\":{\"field\":\"y\"}},\"id\":\"a604b153-46c4-44b3-ba28-830d65bb1e85\",\"type\":\"Rect\"},{\"attributes\":{\"callback\":null,\"column_names\":[\"line_color\",\"label\",\"fill_alpha\",\"height\",\"y\",\"width\",\"line_alpha\",\"color\",\"x\"],\"data\":{\"chart_index\":[\"[0.000000, 0.133333]\"],\"color\":[\"LightSlateGray\"],\"fill_alpha\":[0.8],\"height\":[569.0],\"label\":[\"[0.000000, 0.133333]\"],\"line_alpha\":[1.0],\"line_color\":[\"black\"],\"width\":[0.13333333333333333],\"x\":[\"0.0666665\"],\"y\":[284.5]}},\"id\":\"c4c3568b-d90b-484f-8d81-6305eef7e7c6\",\"type\":\"ColumnDataSource\"},{\"attributes\":{\"callback\":null,\"end\":625.9000000000001},\"id\":\"70b2cfb7-b0c9-4aa3-84e5-31d41c64d59f\",\"type\":\"Range1d\"},{\"attributes\":{\"data_source\":{\"id\":\"557721dd-ec83-4775-bc3a-0033f264861f\",\"type\":\"ColumnDataSource\"},\"glyph\":{\"id\":\"2279937c-847f-47a1-b5a7-276c72425d78\",\"type\":\"Rect\"},\"hover_glyph\":null,\"nonselection_glyph\":null,\"selection_glyph\":null},\"id\":\"ba3d20e8-4230-40c8-be3b-91fd6c3b588d\",\"type\":\"GlyphRenderer\"},{\"attributes\":{\"fill_alpha\":{\"field\":\"fill_alpha\"},\"fill_color\":{\"field\":\"color\"},\"height\":{\"field\":\"height\",\"units\":\"data\"},\"line_color\":{\"field\":\"line_color\"},\"width\":{\"field\":\"width\",\"units\":\"data\"},\"x\":{\"field\":\"x\"},\"y\":{\"field\":\"y\"}},\"id\":\"350457a6-32e8-4238-a994-24545a558fc1\",\"type\":\"Rect\"},{\"attributes\":{\"fill_alpha\":{\"field\":\"fill_alpha\"},\"fill_color\":{\"field\":\"color\"},\"height\":{\"field\":\"height\",\"units\":\"data\"},\"line_color\":{\"field\":\"line_color\"},\"width\":{\"field\":\"width\",\"units\":\"data\"},\"x\":{\"field\":\"x\"},\"y\":{\"field\":\"y\"}},\"id\":\"cb6a7cb2-b0d0-4c6f-aa80-eb518e3b1f73\",\"type\":\"Rect\"},{\"attributes\":{\"callback\":null,\"column_names\":[\"line_color\",\"label\",\"fill_alpha\",\"height\",\"y\",\"width\",\"line_alpha\",\"color\",\"x\"],\"data\":{\"chart_index\":[\"(1.200000, 1.333333]\"],\"color\":[\"LightSlateGray\"],\"fill_alpha\":[0.8],\"height\":[0.0],\"label\":[\"(1.200000, 1.333333]\"],\"line_alpha\":[1.0],\"line_color\":[\"black\"],\"width\":[0.1333333333333333],\"x\":[\"1.2666665\"],\"y\":[0.0]}},\"id\":\"0714222d-5558-4e39-acc2-6413ba2c4a6f\",\"type\":\"ColumnDataSource\"},{\"attributes\":{\"fill_alpha\":{\"field\":\"fill_alpha\"},\"fill_color\":{\"field\":\"color\"},\"height\":{\"field\":\"height\",\"units\":\"data\"},\"line_color\":{\"field\":\"line_color\"},\"width\":{\"field\":\"width\",\"units\":\"data\"},\"x\":{\"field\":\"x\"},\"y\":{\"field\":\"y\"}},\"id\":\"5c902bbc-2c6b-4797-8b46-448f1f1b4eae\",\"type\":\"Rect\"},{\"attributes\":{},\"id\":\"b3ad6c3d-e15a-433b-b630-3e8fb614a675\",\"type\":\"ToolEvents\"},{\"attributes\":{\"data_source\":{\"id\":\"39867245-0316-49e1-b822-161d49707a4b\",\"type\":\"ColumnDataSource\"},\"glyph\":{\"id\":\"cb6a7cb2-b0d0-4c6f-aa80-eb518e3b1f73\",\"type\":\"Rect\"},\"hover_glyph\":null,\"nonselection_glyph\":null,\"selection_glyph\":null},\"id\":\"ce542c36-47ba-4e40-aca3-dede612de431\",\"type\":\"GlyphRenderer\"},{\"attributes\":{\"fill_alpha\":{\"field\":\"fill_alpha\"},\"fill_color\":{\"field\":\"color\"},\"height\":{\"field\":\"height\",\"units\":\"data\"},\"line_color\":{\"field\":\"line_color\"},\"width\":{\"field\":\"width\",\"units\":\"data\"},\"x\":{\"field\":\"x\"},\"y\":{\"field\":\"y\"}},\"id\":\"305f65f6-49a9-475e-a7a9-ff164cb58136\",\"type\":\"Rect\"},{\"attributes\":{\"callback\":null,\"column_names\":[\"line_color\",\"label\",\"fill_alpha\",\"height\",\"y\",\"width\",\"line_alpha\",\"color\",\"x\"],\"data\":{\"chart_index\":[\"(1.333333, 1.466667]\"],\"color\":[\"LightSlateGray\"],\"fill_alpha\":[0.8],\"height\":[0.0],\"label\":[\"(1.333333, 1.466667]\"],\"line_alpha\":[1.0],\"line_color\":[\"black\"],\"width\":[0.1333333333333333],\"x\":[\"1.4\"],\"y\":[0.0]}},\"id\":\"188a0a52-272c-47a6-91ba-59f9b8805cbe\",\"type\":\"ColumnDataSource\"},{\"attributes\":{\"location\":\"top_left\",\"plot\":{\"id\":\"c6f06bb5-da53-41da-ad3e-bdd37e07ae99\",\"subtype\":\"Chart\",\"type\":\"Plot\"}},\"id\":\"f9d93bbc-c9f1-42f2-8ea9-e8eec954bc80\",\"type\":\"Legend\"},{\"attributes\":{\"data_source\":{\"id\":\"189d6336-267f-41ce-ad1f-2952f7ec4b52\",\"type\":\"ColumnDataSource\"},\"glyph\":{\"id\":\"350457a6-32e8-4238-a994-24545a558fc1\",\"type\":\"Rect\"},\"hover_glyph\":null,\"nonselection_glyph\":null,\"selection_glyph\":null},\"id\":\"4c319eca-d638-47a7-8e4a-eb869be43805\",\"type\":\"GlyphRenderer\"},{\"attributes\":{\"below\":[{\"id\":\"9d16a308-3895-4519-a791-f4aa06bfa31c\",\"type\":\"LinearAxis\"}],\"css_classes\":null,\"left\":[{\"id\":\"7501b123-4c24-41f5-b760-3d4b512369a7\",\"type\":\"LinearAxis\"}],\"plot_height\":250,\"renderers\":[{\"id\":\"4e893fca-5a5f-4f2f-9e35-d873ad32d7ef\",\"type\":\"BoxAnnotation\"},{\"id\":\"f450f5d8-208a-467c-943b-3dec8d9c305d\",\"type\":\"GlyphRenderer\"},{\"id\":\"4c319eca-d638-47a7-8e4a-eb869be43805\",\"type\":\"GlyphRenderer\"},{\"id\":\"b0c36735-9131-47c1-ae5d-035c7a400bb6\",\"type\":\"GlyphRenderer\"},{\"id\":\"6834ce22-e56b-4bba-91c1-1246ad88abe5\",\"type\":\"GlyphRenderer\"},{\"id\":\"52a8d28f-1b06-4e2f-9d65-fc7891d45507\",\"type\":\"GlyphRenderer\"},{\"id\":\"cab6c317-c256-40bd-a35b-17b13897fd16\",\"type\":\"GlyphRenderer\"},{\"id\":\"391c7ef8-0489-4fc2-9a7e-a288ea4577f6\",\"type\":\"GlyphRenderer\"},{\"id\":\"ce542c36-47ba-4e40-aca3-dede612de431\",\"type\":\"GlyphRenderer\"},{\"id\":\"0c8fd090-0880-4f77-8e3f-f54f87750d4b\",\"type\":\"GlyphRenderer\"},{\"id\":\"7c3ebb73-a9bd-4961-954e-6afeaebb35c7\",\"type\":\"GlyphRenderer\"},{\"id\":\"777995a6-1cdd-4c5c-871b-ba54b3b0b6d6\",\"type\":\"GlyphRenderer\"},{\"id\":\"62d09a3b-7044-4d81-9bdf-361658197136\",\"type\":\"GlyphRenderer\"},{\"id\":\"caaff14e-db2b-4e1e-a0cd-827c67ef170d\",\"type\":\"GlyphRenderer\"},{\"id\":\"640bbf74-c3c7-47ed-835c-e1fb6b604979\",\"type\":\"GlyphRenderer\"},{\"id\":\"ba3d20e8-4230-40c8-be3b-91fd6c3b588d\",\"type\":\"GlyphRenderer\"},{\"id\":\"f9d93bbc-c9f1-42f2-8ea9-e8eec954bc80\",\"type\":\"Legend\"},{\"id\":\"9d16a308-3895-4519-a791-f4aa06bfa31c\",\"type\":\"LinearAxis\"},{\"id\":\"7501b123-4c24-41f5-b760-3d4b512369a7\",\"type\":\"LinearAxis\"},{\"id\":\"c1e5130f-0251-45e4-8a6b-d764dd58bf65\",\"type\":\"Grid\"}],\"title\":{\"id\":\"b8c60604-18ab-498e-8d86-87bb2c96e09e\",\"type\":\"Title\"},\"tool_events\":{\"id\":\"b3ad6c3d-e15a-433b-b630-3e8fb614a675\",\"type\":\"ToolEvents\"},\"toolbar\":{\"id\":\"3088bef4-d5a8-47ff-a9d5-0995e3fc1ae6\",\"type\":\"Toolbar\"},\"x_mapper_type\":\"auto\",\"x_range\":{\"id\":\"95506337-2d0d-4442-ad49-78ac77b0f553\",\"type\":\"Range1d\"},\"y_mapper_type\":\"auto\",\"y_range\":{\"id\":\"70b2cfb7-b0c9-4aa3-84e5-31d41c64d59f\",\"type\":\"Range1d\"}},\"id\":\"c6f06bb5-da53-41da-ad3e-bdd37e07ae99\",\"subtype\":\"Chart\",\"type\":\"Plot\"},{\"attributes\":{\"overlay\":{\"id\":\"4e893fca-5a5f-4f2f-9e35-d873ad32d7ef\",\"type\":\"BoxAnnotation\"},\"plot\":{\"id\":\"c6f06bb5-da53-41da-ad3e-bdd37e07ae99\",\"subtype\":\"Chart\",\"type\":\"Plot\"}},\"id\":\"a8eea942-f151-4709-a33f-61716f32fbba\",\"type\":\"BoxZoomTool\"},{\"attributes\":{\"plot\":{\"id\":\"c6f06bb5-da53-41da-ad3e-bdd37e07ae99\",\"subtype\":\"Chart\",\"type\":\"Plot\"}},\"id\":\"2ec4075a-dc1b-4733-90bd-0d2395c12da3\",\"type\":\"WheelZoomTool\"},{\"attributes\":{\"fill_alpha\":{\"field\":\"fill_alpha\"},\"fill_color\":{\"field\":\"color\"},\"height\":{\"field\":\"height\",\"units\":\"data\"},\"line_color\":{\"field\":\"line_color\"},\"width\":{\"field\":\"width\",\"units\":\"data\"},\"x\":{\"field\":\"x\"},\"y\":{\"field\":\"y\"}},\"id\":\"ae5f5ed1-f2e7-4205-a325-9a6516aa8b5c\",\"type\":\"Rect\"},{\"attributes\":{\"callback\":null,\"column_names\":[\"line_color\",\"label\",\"fill_alpha\",\"height\",\"y\",\"width\",\"line_alpha\",\"color\",\"x\"],\"data\":{\"chart_index\":[\"(0.666667, 0.800000]\"],\"color\":[\"LightSlateGray\"],\"fill_alpha\":[0.8],\"height\":[0.0],\"label\":[\"(0.666667, 0.800000]\"],\"line_alpha\":[1.0],\"line_color\":[\"black\"],\"width\":[0.13333333333333341],\"x\":[\"0.7333335000000001\"],\"y\":[0.0]}},\"id\":\"7b20298c-aadd-49b9-b3bf-e1c75a306023\",\"type\":\"ColumnDataSource\"},{\"attributes\":{\"fill_alpha\":{\"field\":\"fill_alpha\"},\"fill_color\":{\"field\":\"color\"},\"height\":{\"field\":\"height\",\"units\":\"data\"},\"line_color\":{\"field\":\"line_color\"},\"width\":{\"field\":\"width\",\"units\":\"data\"},\"x\":{\"field\":\"x\"},\"y\":{\"field\":\"y\"}},\"id\":\"1b4060f5-20a3-433f-923b-5a4380e443c2\",\"type\":\"Rect\"}],\"root_ids\":[\"c6f06bb5-da53-41da-ad3e-bdd37e07ae99\"]},\"title\":\"Bokeh Application\",\"version\":\"0.12.4\"}};\n",
       "            var render_items = [{\"docid\":\"d8dd782d-3044-41d9-a985-310f39a41f1c\",\"elementid\":\"6c33db07-6dfe-4739-96fc-6b01195ca772\",\"modelid\":\"c6f06bb5-da53-41da-ad3e-bdd37e07ae99\"}];\n",
       "            \n",
       "            Bokeh.embed.embed_items(docs_json, render_items);\n",
       "          };\n",
       "          if (document.readyState != \"loading\") fn();\n",
       "          else document.addEventListener(\"DOMContentLoaded\", fn);\n",
       "        })();\n",
       "      },\n",
       "      function(Bokeh) {\n",
       "      }\n",
       "    ];\n",
       "  \n",
       "    function run_inline_js() {\n",
       "      \n",
       "      if ((window.Bokeh !== undefined) || (force === true)) {\n",
       "        for (var i = 0; i < inline_js.length; i++) {\n",
       "          inline_js[i](window.Bokeh);\n",
       "        }if (force === true) {\n",
       "          display_loaded();\n",
       "        }} else if (Date.now() < window._bokeh_timeout) {\n",
       "        setTimeout(run_inline_js, 100);\n",
       "      } else if (!window._bokeh_failed_load) {\n",
       "        console.log(\"Bokeh: BokehJS failed to load within specified timeout.\");\n",
       "        window._bokeh_failed_load = true;\n",
       "      } else if (force !== true) {\n",
       "        var cell = $(document.getElementById(\"6c33db07-6dfe-4739-96fc-6b01195ca772\")).parents('.cell').data().cell;\n",
       "        cell.output_area.append_execute_result(NB_LOAD_WARNING)\n",
       "      }\n",
       "  \n",
       "    }\n",
       "  \n",
       "    if (window._bokeh_is_loading === 0) {\n",
       "      console.log(\"Bokeh: BokehJS loaded, going straight to plotting\");\n",
       "      run_inline_js();\n",
       "    } else {\n",
       "      load_libs(js_urls, function() {\n",
       "        console.log(\"Bokeh: BokehJS plotting callback run at\", now());\n",
       "        run_inline_js();\n",
       "      });\n",
       "    }\n",
       "  }(this));\n",
       "</script>"
      ]
     },
     "metadata": {},
     "output_type": "display_data"
    }
   ],
   "source": [
    "p = figure()\n",
    "p = Histogram(hom_ref, values='GTcons', title='Homozygous_Reference_HG002: Consensust GT', color='LightSlateGray', bins=15, plot_height=250, xlabel=\"GTcons\", ylabel=\"Frequency\")\n",
    "show(p)"
   ]
  },
  {
   "cell_type": "markdown",
   "metadata": {},
   "source": [
    "** Inaccurate Call **"
   ]
  },
  {
   "cell_type": "code",
   "execution_count": 61,
   "metadata": {},
   "outputs": [
    {
     "data": {
      "text/html": [
       "<div>\n",
       "<table border=\"1\" class=\"dataframe\">\n",
       "  <thead>\n",
       "    <tr style=\"text-align: right;\">\n",
       "      <th></th>\n",
       "      <th>Size</th>\n",
       "      <th>chrom</th>\n",
       "      <th>end</th>\n",
       "      <th>pacbio.GT</th>\n",
       "      <th>pacbio.alt_alnScore_mean</th>\n",
       "      <th>pacbio.alt_alnScore_std</th>\n",
       "      <th>pacbio.alt_count</th>\n",
       "      <th>pacbio.alt_insertSize_mean</th>\n",
       "      <th>pacbio.alt_insertSize_std</th>\n",
       "      <th>pacbio.alt_reason_alignmentScore</th>\n",
       "      <th>...</th>\n",
       "      <th>refN_pct</th>\n",
       "      <th>segdup_cnt</th>\n",
       "      <th>segdup_pct</th>\n",
       "      <th>start</th>\n",
       "      <th>tandemrep_cnt</th>\n",
       "      <th>tandemrep_pct</th>\n",
       "      <th>predicted_label</th>\n",
       "      <th>GTcons</th>\n",
       "      <th>GTsupp</th>\n",
       "      <th>GTconswithoutpacbio.GT</th>\n",
       "    </tr>\n",
       "  </thead>\n",
       "  <tbody>\n",
       "    <tr>\n",
       "      <th>0</th>\n",
       "      <td>-115</td>\n",
       "      <td>1</td>\n",
       "      <td>37568587</td>\n",
       "      <td>0.0</td>\n",
       "      <td>0.0</td>\n",
       "      <td>0.0</td>\n",
       "      <td>0.0</td>\n",
       "      <td>0.0</td>\n",
       "      <td>0.0</td>\n",
       "      <td>0.0</td>\n",
       "      <td>...</td>\n",
       "      <td>0.0</td>\n",
       "      <td>0.0</td>\n",
       "      <td>0.0</td>\n",
       "      <td>37568322</td>\n",
       "      <td>3.0</td>\n",
       "      <td>0.818868</td>\n",
       "      <td>2.0</td>\n",
       "      <td>0</td>\n",
       "      <td>4</td>\n",
       "      <td>0</td>\n",
       "    </tr>\n",
       "  </tbody>\n",
       "</table>\n",
       "<p>1 rows × 36 columns</p>\n",
       "</div>"
      ],
      "text/plain": [
       "   Size chrom       end  pacbio.GT  pacbio.alt_alnScore_mean  \\\n",
       "0  -115     1  37568587        0.0                       0.0   \n",
       "\n",
       "   pacbio.alt_alnScore_std  pacbio.alt_count  pacbio.alt_insertSize_mean  \\\n",
       "0                      0.0               0.0                         0.0   \n",
       "\n",
       "   pacbio.alt_insertSize_std  pacbio.alt_reason_alignmentScore  \\\n",
       "0                        0.0                               0.0   \n",
       "\n",
       "            ...            refN_pct  segdup_cnt  segdup_pct     start  \\\n",
       "0           ...                 0.0         0.0         0.0  37568322   \n",
       "\n",
       "   tandemrep_cnt  tandemrep_pct  predicted_label  GTcons  GTsupp  \\\n",
       "0            3.0       0.818868              2.0       0       4   \n",
       "\n",
       "   GTconswithoutpacbio.GT  \n",
       "0                       0  \n",
       "\n",
       "[1 rows x 36 columns]"
      ]
     },
     "execution_count": 61,
     "metadata": {},
     "output_type": "execute_result"
    }
   ],
   "source": [
    "ic = X5['predicted_label'] == 2.0\n",
    "inac_call = X5[ic]\n",
    "inac_call.head(1)"
   ]
  },
  {
   "cell_type": "code",
   "execution_count": 62,
   "metadata": {
    "scrolled": true
   },
   "outputs": [
    {
     "data": {
      "text/html": [
       "\n",
       "\n",
       "    <div class=\"bk-root\">\n",
       "        <div class=\"bk-plotdiv\" id=\"221bb559-8f9b-4723-aa7b-f4588c81798f\"></div>\n",
       "    </div>\n",
       "<script type=\"text/javascript\">\n",
       "  \n",
       "  (function(global) {\n",
       "    function now() {\n",
       "      return new Date();\n",
       "    }\n",
       "  \n",
       "    var force = false;\n",
       "  \n",
       "    if (typeof (window._bokeh_onload_callbacks) === \"undefined\" || force === true) {\n",
       "      window._bokeh_onload_callbacks = [];\n",
       "      window._bokeh_is_loading = undefined;\n",
       "    }\n",
       "  \n",
       "  \n",
       "    \n",
       "    if (typeof (window._bokeh_timeout) === \"undefined\" || force === true) {\n",
       "      window._bokeh_timeout = Date.now() + 0;\n",
       "      window._bokeh_failed_load = false;\n",
       "    }\n",
       "  \n",
       "    var NB_LOAD_WARNING = {'data': {'text/html':\n",
       "       \"<div style='background-color: #fdd'>\\n\"+\n",
       "       \"<p>\\n\"+\n",
       "       \"BokehJS does not appear to have successfully loaded. If loading BokehJS from CDN, this \\n\"+\n",
       "       \"may be due to a slow or bad network connection. Possible fixes:\\n\"+\n",
       "       \"</p>\\n\"+\n",
       "       \"<ul>\\n\"+\n",
       "       \"<li>re-rerun `output_notebook()` to attempt to load from CDN again, or</li>\\n\"+\n",
       "       \"<li>use INLINE resources instead, as so:</li>\\n\"+\n",
       "       \"</ul>\\n\"+\n",
       "       \"<code>\\n\"+\n",
       "       \"from bokeh.resources import INLINE\\n\"+\n",
       "       \"output_notebook(resources=INLINE)\\n\"+\n",
       "       \"</code>\\n\"+\n",
       "       \"</div>\"}};\n",
       "  \n",
       "    function display_loaded() {\n",
       "      if (window.Bokeh !== undefined) {\n",
       "        document.getElementById(\"221bb559-8f9b-4723-aa7b-f4588c81798f\").textContent = \"BokehJS successfully loaded.\";\n",
       "      } else if (Date.now() < window._bokeh_timeout) {\n",
       "        setTimeout(display_loaded, 100)\n",
       "      }\n",
       "    }\n",
       "  \n",
       "    function run_callbacks() {\n",
       "      window._bokeh_onload_callbacks.forEach(function(callback) { callback() });\n",
       "      delete window._bokeh_onload_callbacks\n",
       "      console.info(\"Bokeh: all callbacks have finished\");\n",
       "    }\n",
       "  \n",
       "    function load_libs(js_urls, callback) {\n",
       "      window._bokeh_onload_callbacks.push(callback);\n",
       "      if (window._bokeh_is_loading > 0) {\n",
       "        console.log(\"Bokeh: BokehJS is being loaded, scheduling callback at\", now());\n",
       "        return null;\n",
       "      }\n",
       "      if (js_urls == null || js_urls.length === 0) {\n",
       "        run_callbacks();\n",
       "        return null;\n",
       "      }\n",
       "      console.log(\"Bokeh: BokehJS not loaded, scheduling load and callback at\", now());\n",
       "      window._bokeh_is_loading = js_urls.length;\n",
       "      for (var i = 0; i < js_urls.length; i++) {\n",
       "        var url = js_urls[i];\n",
       "        var s = document.createElement('script');\n",
       "        s.src = url;\n",
       "        s.async = false;\n",
       "        s.onreadystatechange = s.onload = function() {\n",
       "          window._bokeh_is_loading--;\n",
       "          if (window._bokeh_is_loading === 0) {\n",
       "            console.log(\"Bokeh: all BokehJS libraries loaded\");\n",
       "            run_callbacks()\n",
       "          }\n",
       "        };\n",
       "        s.onerror = function() {\n",
       "          console.warn(\"failed to load library \" + url);\n",
       "        };\n",
       "        console.log(\"Bokeh: injecting script tag for BokehJS library: \", url);\n",
       "        document.getElementsByTagName(\"head\")[0].appendChild(s);\n",
       "      }\n",
       "    };var element = document.getElementById(\"221bb559-8f9b-4723-aa7b-f4588c81798f\");\n",
       "    if (element == null) {\n",
       "      console.log(\"Bokeh: ERROR: autoload.js configured with elementid '221bb559-8f9b-4723-aa7b-f4588c81798f' but no matching script tag was found. \")\n",
       "      return false;\n",
       "    }\n",
       "  \n",
       "    var js_urls = [];\n",
       "  \n",
       "    var inline_js = [\n",
       "      function(Bokeh) {\n",
       "        (function() {\n",
       "          var fn = function() {\n",
       "            var docs_json = {\"21779c0f-f5ec-4bc2-a7b2-5a02abebafdb\":{\"roots\":{\"references\":[{\"attributes\":{\"data_source\":{\"id\":\"e4890352-429e-4a2c-aaf5-d4d134ad557f\",\"type\":\"ColumnDataSource\"},\"glyph\":{\"id\":\"2caf2147-bdd0-4092-bbbe-8c8a36208938\",\"type\":\"Rect\"},\"hover_glyph\":null,\"nonselection_glyph\":null,\"selection_glyph\":null},\"id\":\"9fb18ff0-4e20-4185-bee9-6b24939f3309\",\"type\":\"GlyphRenderer\"},{\"attributes\":{\"below\":[{\"id\":\"24fefc7b-9c78-4976-aa4b-ebfd3fa5cdca\",\"type\":\"LinearAxis\"}],\"css_classes\":null,\"left\":[{\"id\":\"3cb3ca70-9b74-4ca6-ab40-26eeacfe149c\",\"type\":\"LinearAxis\"}],\"plot_height\":250,\"renderers\":[{\"id\":\"fbd1fbcd-82d9-4bcd-88d0-307910785be1\",\"type\":\"BoxAnnotation\"},{\"id\":\"d6267e18-6c36-4bdc-92c2-9842cb8de68f\",\"type\":\"GlyphRenderer\"},{\"id\":\"3c37e413-d6b7-4028-8423-ba79ac55fcc3\",\"type\":\"GlyphRenderer\"},{\"id\":\"ca415d9f-39a3-48a9-b1ec-14efa279e657\",\"type\":\"GlyphRenderer\"},{\"id\":\"50b07f23-81d9-4734-a724-87549e4f349e\",\"type\":\"GlyphRenderer\"},{\"id\":\"103e4c95-91ab-482b-a81e-c6c587446387\",\"type\":\"GlyphRenderer\"},{\"id\":\"45df4c85-46f5-4492-a164-20e5e088ab6f\",\"type\":\"GlyphRenderer\"},{\"id\":\"7336b8b5-a0ca-4594-a335-e7e69598f2df\",\"type\":\"GlyphRenderer\"},{\"id\":\"548f1eaa-a591-4877-b395-d5a4738fe845\",\"type\":\"GlyphRenderer\"},{\"id\":\"6fc09783-927d-43a1-bf75-cd2b57ca2c8b\",\"type\":\"GlyphRenderer\"},{\"id\":\"17106814-2804-41df-b158-c3b86402424d\",\"type\":\"GlyphRenderer\"},{\"id\":\"7cb8b6c5-5f5c-4c24-8751-59d6cc08f6cd\",\"type\":\"GlyphRenderer\"},{\"id\":\"9fb18ff0-4e20-4185-bee9-6b24939f3309\",\"type\":\"GlyphRenderer\"},{\"id\":\"7203e4f1-71ac-41ab-9be8-d69290933e68\",\"type\":\"GlyphRenderer\"},{\"id\":\"32faa227-11f6-4d92-8115-add775829600\",\"type\":\"GlyphRenderer\"},{\"id\":\"c5de7d70-2333-4d02-aa30-63873c4f631e\",\"type\":\"GlyphRenderer\"},{\"id\":\"ea2afb36-9c62-44c6-87ce-1a274ba9b4e7\",\"type\":\"Legend\"},{\"id\":\"24fefc7b-9c78-4976-aa4b-ebfd3fa5cdca\",\"type\":\"LinearAxis\"},{\"id\":\"3cb3ca70-9b74-4ca6-ab40-26eeacfe149c\",\"type\":\"LinearAxis\"},{\"id\":\"0f954627-29c3-41b6-b48d-6be8de4d5bea\",\"type\":\"Grid\"}],\"title\":{\"id\":\"31d184ac-71dc-4d52-bc49-445796238630\",\"type\":\"Title\"},\"tool_events\":{\"id\":\"792d03b7-0b30-46bb-b420-d3b402f0a8b2\",\"type\":\"ToolEvents\"},\"toolbar\":{\"id\":\"b7e2b13d-1caa-48ed-aaa9-b6c57ce981ac\",\"type\":\"Toolbar\"},\"x_mapper_type\":\"auto\",\"x_range\":{\"id\":\"539eb33f-51e6-410a-8c27-47df000d1676\",\"type\":\"Range1d\"},\"y_mapper_type\":\"auto\",\"y_range\":{\"id\":\"07ac1efc-1671-48a3-9694-eb8050e2fac1\",\"type\":\"Range1d\"}},\"id\":\"acbfb1b7-ee3c-4ca4-98b5-6497fbfa7198\",\"subtype\":\"Chart\",\"type\":\"Plot\"},{\"attributes\":{\"fill_alpha\":{\"field\":\"fill_alpha\"},\"fill_color\":{\"field\":\"color\"},\"height\":{\"field\":\"height\",\"units\":\"data\"},\"line_color\":{\"field\":\"line_color\"},\"width\":{\"field\":\"width\",\"units\":\"data\"},\"x\":{\"field\":\"x\"},\"y\":{\"field\":\"y\"}},\"id\":\"ad65b300-b578-4fb3-b706-2bd4d29c3f82\",\"type\":\"Rect\"},{\"attributes\":{\"active_drag\":\"auto\",\"active_scroll\":\"auto\",\"active_tap\":\"auto\",\"tools\":[{\"id\":\"9a14e6bf-8ba2-4a9d-a71a-cdf15acce141\",\"type\":\"PanTool\"},{\"id\":\"8b318625-e314-4e80-b238-6ccf8d5c52a1\",\"type\":\"WheelZoomTool\"},{\"id\":\"10d859e4-55f3-4300-a92e-7d44aaaedb52\",\"type\":\"BoxZoomTool\"},{\"id\":\"f4117430-66fb-4e08-af00-5383fb427173\",\"type\":\"SaveTool\"},{\"id\":\"6aae1641-3094-4a66-a7e0-0c2823093a24\",\"type\":\"ResetTool\"},{\"id\":\"c3dab45a-e12d-4145-a81f-222b07c60f1f\",\"type\":\"HelpTool\"}]},\"id\":\"b7e2b13d-1caa-48ed-aaa9-b6c57ce981ac\",\"type\":\"Toolbar\"},{\"attributes\":{\"fill_alpha\":{\"field\":\"fill_alpha\"},\"fill_color\":{\"field\":\"color\"},\"height\":{\"field\":\"height\",\"units\":\"data\"},\"line_color\":{\"field\":\"line_color\"},\"width\":{\"field\":\"width\",\"units\":\"data\"},\"x\":{\"field\":\"x\"},\"y\":{\"field\":\"y\"}},\"id\":\"ffd08545-84bd-464c-8384-549515402ec0\",\"type\":\"Rect\"},{\"attributes\":{\"fill_alpha\":{\"field\":\"fill_alpha\"},\"fill_color\":{\"field\":\"color\"},\"height\":{\"field\":\"height\",\"units\":\"data\"},\"line_color\":{\"field\":\"line_color\"},\"width\":{\"field\":\"width\",\"units\":\"data\"},\"x\":{\"field\":\"x\"},\"y\":{\"field\":\"y\"}},\"id\":\"a0b63fe9-afb7-4e23-897a-03a2e27b7a69\",\"type\":\"Rect\"},{\"attributes\":{\"data_source\":{\"id\":\"5b658405-ac82-4052-91d8-3f1da7b0305a\",\"type\":\"ColumnDataSource\"},\"glyph\":{\"id\":\"00d226ac-58bd-4a74-904b-45bd7ca762ef\",\"type\":\"Rect\"},\"hover_glyph\":null,\"nonselection_glyph\":null,\"selection_glyph\":null},\"id\":\"548f1eaa-a591-4877-b395-d5a4738fe845\",\"type\":\"GlyphRenderer\"},{\"attributes\":{\"callback\":null,\"column_names\":[\"line_color\",\"label\",\"fill_alpha\",\"height\",\"y\",\"width\",\"line_alpha\",\"color\",\"x\"],\"data\":{\"chart_index\":[\"(0.133333, 0.266667]\"],\"color\":[\"LightSlateGray\"],\"fill_alpha\":[0.8],\"height\":[0.0],\"label\":[\"(0.133333, 0.266667]\"],\"line_alpha\":[1.0],\"line_color\":[\"black\"],\"width\":[0.13333333333333333],\"x\":[\"0.2\"],\"y\":[0.0]}},\"id\":\"eb9309c6-2b42-458b-898d-0e3d78079076\",\"type\":\"ColumnDataSource\"},{\"attributes\":{\"plot\":{\"id\":\"acbfb1b7-ee3c-4ca4-98b5-6497fbfa7198\",\"subtype\":\"Chart\",\"type\":\"Plot\"}},\"id\":\"9a14e6bf-8ba2-4a9d-a71a-cdf15acce141\",\"type\":\"PanTool\"},{\"attributes\":{\"plot\":{\"id\":\"acbfb1b7-ee3c-4ca4-98b5-6497fbfa7198\",\"subtype\":\"Chart\",\"type\":\"Plot\"}},\"id\":\"6aae1641-3094-4a66-a7e0-0c2823093a24\",\"type\":\"ResetTool\"},{\"attributes\":{\"data_source\":{\"id\":\"1ca9adb4-642a-4564-87e8-446a155eb36a\",\"type\":\"ColumnDataSource\"},\"glyph\":{\"id\":\"09c05691-4306-448a-af21-b5d55db21224\",\"type\":\"Rect\"},\"hover_glyph\":null,\"nonselection_glyph\":null,\"selection_glyph\":null},\"id\":\"ca415d9f-39a3-48a9-b1ec-14efa279e657\",\"type\":\"GlyphRenderer\"},{\"attributes\":{\"overlay\":{\"id\":\"fbd1fbcd-82d9-4bcd-88d0-307910785be1\",\"type\":\"BoxAnnotation\"},\"plot\":{\"id\":\"acbfb1b7-ee3c-4ca4-98b5-6497fbfa7198\",\"subtype\":\"Chart\",\"type\":\"Plot\"}},\"id\":\"10d859e4-55f3-4300-a92e-7d44aaaedb52\",\"type\":\"BoxZoomTool\"},{\"attributes\":{\"fill_alpha\":{\"field\":\"fill_alpha\"},\"fill_color\":{\"field\":\"color\"},\"height\":{\"field\":\"height\",\"units\":\"data\"},\"line_color\":{\"field\":\"line_color\"},\"width\":{\"field\":\"width\",\"units\":\"data\"},\"x\":{\"field\":\"x\"},\"y\":{\"field\":\"y\"}},\"id\":\"c58f55ba-32a0-49dc-b171-e5af2461b002\",\"type\":\"Rect\"},{\"attributes\":{\"data_source\":{\"id\":\"eef07afe-39d6-439f-a5fa-f605bf0d58a6\",\"type\":\"ColumnDataSource\"},\"glyph\":{\"id\":\"49772fe0-8482-47da-b62b-13b81189f0c0\",\"type\":\"Rect\"},\"hover_glyph\":null,\"nonselection_glyph\":null,\"selection_glyph\":null},\"id\":\"7cb8b6c5-5f5c-4c24-8751-59d6cc08f6cd\",\"type\":\"GlyphRenderer\"},{\"attributes\":{\"fill_alpha\":{\"field\":\"fill_alpha\"},\"fill_color\":{\"field\":\"color\"},\"height\":{\"field\":\"height\",\"units\":\"data\"},\"line_color\":{\"field\":\"line_color\"},\"width\":{\"field\":\"width\",\"units\":\"data\"},\"x\":{\"field\":\"x\"},\"y\":{\"field\":\"y\"}},\"id\":\"8bd3e59e-ba99-4e15-8616-52dee74a08d9\",\"type\":\"Rect\"},{\"attributes\":{\"callback\":null,\"column_names\":[\"line_color\",\"label\",\"fill_alpha\",\"height\",\"y\",\"width\",\"line_alpha\",\"color\",\"x\"],\"data\":{\"chart_index\":[\"(1.200000, 1.333333]\"],\"color\":[\"LightSlateGray\"],\"fill_alpha\":[0.8],\"height\":[0.0],\"label\":[\"(1.200000, 1.333333]\"],\"line_alpha\":[1.0],\"line_color\":[\"black\"],\"width\":[0.1333333333333333],\"x\":[\"1.2666665\"],\"y\":[0.0]}},\"id\":\"9d0b33d6-1916-4439-a191-83f366fab537\",\"type\":\"ColumnDataSource\"},{\"attributes\":{\"location\":\"top_left\",\"plot\":{\"id\":\"acbfb1b7-ee3c-4ca4-98b5-6497fbfa7198\",\"subtype\":\"Chart\",\"type\":\"Plot\"}},\"id\":\"ea2afb36-9c62-44c6-87ce-1a274ba9b4e7\",\"type\":\"Legend\"},{\"attributes\":{\"fill_alpha\":{\"field\":\"fill_alpha\"},\"fill_color\":{\"field\":\"color\"},\"height\":{\"field\":\"height\",\"units\":\"data\"},\"line_color\":{\"field\":\"line_color\"},\"width\":{\"field\":\"width\",\"units\":\"data\"},\"x\":{\"field\":\"x\"},\"y\":{\"field\":\"y\"}},\"id\":\"00d226ac-58bd-4a74-904b-45bd7ca762ef\",\"type\":\"Rect\"},{\"attributes\":{},\"id\":\"9ff2b563-15b5-4ca3-b886-6ea4ad1cf6d0\",\"type\":\"BasicTickFormatter\"},{\"attributes\":{\"callback\":null,\"column_names\":[\"line_color\",\"label\",\"fill_alpha\",\"height\",\"y\",\"width\",\"line_alpha\",\"color\",\"x\"],\"data\":{\"chart_index\":[\"(1.066667, 1.200000]\"],\"color\":[\"LightSlateGray\"],\"fill_alpha\":[0.8],\"height\":[0.0],\"label\":[\"(1.066667, 1.200000]\"],\"line_alpha\":[1.0],\"line_color\":[\"black\"],\"width\":[0.1333333333333333],\"x\":[\"1.1333335\"],\"y\":[0.0]}},\"id\":\"6381b4f0-63c5-46f0-8c03-1b0b9dc7834e\",\"type\":\"ColumnDataSource\"},{\"attributes\":{\"fill_alpha\":{\"field\":\"fill_alpha\"},\"fill_color\":{\"field\":\"color\"},\"height\":{\"field\":\"height\",\"units\":\"data\"},\"line_color\":{\"field\":\"line_color\"},\"width\":{\"field\":\"width\",\"units\":\"data\"},\"x\":{\"field\":\"x\"},\"y\":{\"field\":\"y\"}},\"id\":\"c729dea7-be03-4770-98bc-8468757f0991\",\"type\":\"Rect\"},{\"attributes\":{\"data_source\":{\"id\":\"9d0b33d6-1916-4439-a191-83f366fab537\",\"type\":\"ColumnDataSource\"},\"glyph\":{\"id\":\"a0b63fe9-afb7-4e23-897a-03a2e27b7a69\",\"type\":\"Rect\"},\"hover_glyph\":null,\"nonselection_glyph\":null,\"selection_glyph\":null},\"id\":\"17106814-2804-41df-b158-c3b86402424d\",\"type\":\"GlyphRenderer\"},{\"attributes\":{\"callback\":null,\"column_names\":[\"line_color\",\"label\",\"fill_alpha\",\"height\",\"y\",\"width\",\"line_alpha\",\"color\",\"x\"],\"data\":{\"chart_index\":[\"(1.466667, 1.600000]\"],\"color\":[\"LightSlateGray\"],\"fill_alpha\":[0.8],\"height\":[0.0],\"label\":[\"(1.466667, 1.600000]\"],\"line_alpha\":[1.0],\"line_color\":[\"black\"],\"width\":[0.13333333333333353],\"x\":[\"1.5333335\"],\"y\":[0.0]}},\"id\":\"e4890352-429e-4a2c-aaf5-d4d134ad557f\",\"type\":\"ColumnDataSource\"},{\"attributes\":{\"data_source\":{\"id\":\"6381b4f0-63c5-46f0-8c03-1b0b9dc7834e\",\"type\":\"ColumnDataSource\"},\"glyph\":{\"id\":\"c729dea7-be03-4770-98bc-8468757f0991\",\"type\":\"Rect\"},\"hover_glyph\":null,\"nonselection_glyph\":null,\"selection_glyph\":null},\"id\":\"6fc09783-927d-43a1-bf75-cd2b57ca2c8b\",\"type\":\"GlyphRenderer\"},{\"attributes\":{\"plot\":{\"id\":\"acbfb1b7-ee3c-4ca4-98b5-6497fbfa7198\",\"subtype\":\"Chart\",\"type\":\"Plot\"}},\"id\":\"f4117430-66fb-4e08-af00-5383fb427173\",\"type\":\"SaveTool\"},{\"attributes\":{\"fill_alpha\":{\"field\":\"fill_alpha\"},\"fill_color\":{\"field\":\"color\"},\"height\":{\"field\":\"height\",\"units\":\"data\"},\"line_color\":{\"field\":\"line_color\"},\"width\":{\"field\":\"width\",\"units\":\"data\"},\"x\":{\"field\":\"x\"},\"y\":{\"field\":\"y\"}},\"id\":\"09c05691-4306-448a-af21-b5d55db21224\",\"type\":\"Rect\"},{\"attributes\":{\"data_source\":{\"id\":\"0ff60459-789d-4e37-aee9-3c88639d8c5a\",\"type\":\"ColumnDataSource\"},\"glyph\":{\"id\":\"10838460-1bc1-4f1d-92ab-a54a7fb1b247\",\"type\":\"Rect\"},\"hover_glyph\":null,\"nonselection_glyph\":null,\"selection_glyph\":null},\"id\":\"d6267e18-6c36-4bdc-92c2-9842cb8de68f\",\"type\":\"GlyphRenderer\"},{\"attributes\":{\"callback\":null,\"end\":2.0500001666666665,\"start\":-0.050000166666666665},\"id\":\"539eb33f-51e6-410a-8c27-47df000d1676\",\"type\":\"Range1d\"},{\"attributes\":{\"fill_alpha\":{\"field\":\"fill_alpha\"},\"fill_color\":{\"field\":\"color\"},\"height\":{\"field\":\"height\",\"units\":\"data\"},\"line_color\":{\"field\":\"line_color\"},\"width\":{\"field\":\"width\",\"units\":\"data\"},\"x\":{\"field\":\"x\"},\"y\":{\"field\":\"y\"}},\"id\":\"81c60eac-207d-434f-aa16-ed8921af9fc9\",\"type\":\"Rect\"},{\"attributes\":{\"dimension\":1,\"plot\":{\"id\":\"acbfb1b7-ee3c-4ca4-98b5-6497fbfa7198\",\"subtype\":\"Chart\",\"type\":\"Plot\"},\"ticker\":{\"id\":\"97f57ffc-2bcd-4dbf-bada-ab037f663bd1\",\"type\":\"BasicTicker\"}},\"id\":\"0f954627-29c3-41b6-b48d-6be8de4d5bea\",\"type\":\"Grid\"},{\"attributes\":{},\"id\":\"97f57ffc-2bcd-4dbf-bada-ab037f663bd1\",\"type\":\"BasicTicker\"},{\"attributes\":{\"callback\":null,\"column_names\":[\"line_color\",\"label\",\"fill_alpha\",\"height\",\"y\",\"width\",\"line_alpha\",\"color\",\"x\"],\"data\":{\"chart_index\":[\"(0.400000, 0.533333]\"],\"color\":[\"LightSlateGray\"],\"fill_alpha\":[0.8],\"height\":[0.0],\"label\":[\"(0.400000, 0.533333]\"],\"line_alpha\":[1.0],\"line_color\":[\"black\"],\"width\":[0.1333333333333333],\"x\":[\"0.4666665\"],\"y\":[0.0]}},\"id\":\"3736ad5a-f32f-40ba-9089-06469eccd7e8\",\"type\":\"ColumnDataSource\"},{\"attributes\":{\"plot\":{\"id\":\"acbfb1b7-ee3c-4ca4-98b5-6497fbfa7198\",\"subtype\":\"Chart\",\"type\":\"Plot\"}},\"id\":\"8b318625-e314-4e80-b238-6ccf8d5c52a1\",\"type\":\"WheelZoomTool\"},{\"attributes\":{\"callback\":null,\"column_names\":[\"line_color\",\"label\",\"fill_alpha\",\"height\",\"y\",\"width\",\"line_alpha\",\"color\",\"x\"],\"data\":{\"chart_index\":[\"(0.800000, 0.933333]\"],\"color\":[\"LightSlateGray\"],\"fill_alpha\":[0.8],\"height\":[0.0],\"label\":[\"(0.800000, 0.933333]\"],\"line_alpha\":[1.0],\"line_color\":[\"black\"],\"width\":[0.1333333333333333],\"x\":[\"0.8666665\"],\"y\":[0.0]}},\"id\":\"8f3ca4df-4e25-4ea5-9515-877d2c2a3a17\",\"type\":\"ColumnDataSource\"},{\"attributes\":{\"data_source\":{\"id\":\"23f14932-a75e-4d6e-ab4c-d307ee5851a0\",\"type\":\"ColumnDataSource\"},\"glyph\":{\"id\":\"8bd3e59e-ba99-4e15-8616-52dee74a08d9\",\"type\":\"Rect\"},\"hover_glyph\":null,\"nonselection_glyph\":null,\"selection_glyph\":null},\"id\":\"32faa227-11f6-4d92-8115-add775829600\",\"type\":\"GlyphRenderer\"},{\"attributes\":{\"axis_label\":\"Frequency\",\"formatter\":{\"id\":\"9ff2b563-15b5-4ca3-b886-6ea4ad1cf6d0\",\"type\":\"BasicTickFormatter\"},\"plot\":{\"id\":\"acbfb1b7-ee3c-4ca4-98b5-6497fbfa7198\",\"subtype\":\"Chart\",\"type\":\"Plot\"},\"ticker\":{\"id\":\"97f57ffc-2bcd-4dbf-bada-ab037f663bd1\",\"type\":\"BasicTicker\"}},\"id\":\"3cb3ca70-9b74-4ca6-ab40-26eeacfe149c\",\"type\":\"LinearAxis\"},{\"attributes\":{\"data_source\":{\"id\":\"d82dcdf4-b13d-46c0-9816-391fc6a3a7d8\",\"type\":\"ColumnDataSource\"},\"glyph\":{\"id\":\"c58f55ba-32a0-49dc-b171-e5af2461b002\",\"type\":\"Rect\"},\"hover_glyph\":null,\"nonselection_glyph\":null,\"selection_glyph\":null},\"id\":\"7203e4f1-71ac-41ab-9be8-d69290933e68\",\"type\":\"GlyphRenderer\"},{\"attributes\":{\"fill_alpha\":{\"field\":\"fill_alpha\"},\"fill_color\":{\"field\":\"color\"},\"height\":{\"field\":\"height\",\"units\":\"data\"},\"line_color\":{\"field\":\"line_color\"},\"width\":{\"field\":\"width\",\"units\":\"data\"},\"x\":{\"field\":\"x\"},\"y\":{\"field\":\"y\"}},\"id\":\"2caf2147-bdd0-4092-bbbe-8c8a36208938\",\"type\":\"Rect\"},{\"attributes\":{\"plot\":{\"id\":\"acbfb1b7-ee3c-4ca4-98b5-6497fbfa7198\",\"subtype\":\"Chart\",\"type\":\"Plot\"}},\"id\":\"c3dab45a-e12d-4145-a81f-222b07c60f1f\",\"type\":\"HelpTool\"},{\"attributes\":{\"axis_label\":\"GTcons\",\"formatter\":{\"id\":\"78a975be-0e07-47e3-a68a-8cb6e90b74ad\",\"type\":\"BasicTickFormatter\"},\"plot\":{\"id\":\"acbfb1b7-ee3c-4ca4-98b5-6497fbfa7198\",\"subtype\":\"Chart\",\"type\":\"Plot\"},\"ticker\":{\"id\":\"ae27d536-b263-4013-8a49-c06cbf70554e\",\"type\":\"BasicTicker\"}},\"id\":\"24fefc7b-9c78-4976-aa4b-ebfd3fa5cdca\",\"type\":\"LinearAxis\"},{\"attributes\":{},\"id\":\"ae27d536-b263-4013-8a49-c06cbf70554e\",\"type\":\"BasicTicker\"},{\"attributes\":{\"data_source\":{\"id\":\"3736ad5a-f32f-40ba-9089-06469eccd7e8\",\"type\":\"ColumnDataSource\"},\"glyph\":{\"id\":\"1715ee0b-512a-4b95-8bd5-06b51e66e200\",\"type\":\"Rect\"},\"hover_glyph\":null,\"nonselection_glyph\":null,\"selection_glyph\":null},\"id\":\"50b07f23-81d9-4734-a724-87549e4f349e\",\"type\":\"GlyphRenderer\"},{\"attributes\":{\"callback\":null,\"column_names\":[\"line_color\",\"label\",\"fill_alpha\",\"height\",\"y\",\"width\",\"line_alpha\",\"color\",\"x\"],\"data\":{\"chart_index\":[\"(1.333333, 1.466667]\"],\"color\":[\"LightSlateGray\"],\"fill_alpha\":[0.8],\"height\":[0.0],\"label\":[\"(1.333333, 1.466667]\"],\"line_alpha\":[1.0],\"line_color\":[\"black\"],\"width\":[0.1333333333333333],\"x\":[\"1.4\"],\"y\":[0.0]}},\"id\":\"eef07afe-39d6-439f-a5fa-f605bf0d58a6\",\"type\":\"ColumnDataSource\"},{\"attributes\":{\"callback\":null,\"column_names\":[\"line_color\",\"label\",\"fill_alpha\",\"height\",\"y\",\"width\",\"line_alpha\",\"color\",\"x\"],\"data\":{\"chart_index\":[\"(0.266667, 0.400000]\"],\"color\":[\"LightSlateGray\"],\"fill_alpha\":[0.8],\"height\":[0.0],\"label\":[\"(0.266667, 0.400000]\"],\"line_alpha\":[1.0],\"line_color\":[\"black\"],\"width\":[0.13333333333333336],\"x\":[\"0.3333335\"],\"y\":[0.0]}},\"id\":\"1ca9adb4-642a-4564-87e8-446a155eb36a\",\"type\":\"ColumnDataSource\"},{\"attributes\":{\"callback\":null,\"end\":235.4},\"id\":\"07ac1efc-1671-48a3-9694-eb8050e2fac1\",\"type\":\"Range1d\"},{\"attributes\":{\"fill_alpha\":{\"field\":\"fill_alpha\"},\"fill_color\":{\"field\":\"color\"},\"height\":{\"field\":\"height\",\"units\":\"data\"},\"line_color\":{\"field\":\"line_color\"},\"width\":{\"field\":\"width\",\"units\":\"data\"},\"x\":{\"field\":\"x\"},\"y\":{\"field\":\"y\"}},\"id\":\"5198e6d8-0158-4157-87f4-58665f550beb\",\"type\":\"Rect\"},{\"attributes\":{\"callback\":null,\"column_names\":[\"line_color\",\"label\",\"fill_alpha\",\"height\",\"y\",\"width\",\"line_alpha\",\"color\",\"x\"],\"data\":{\"chart_index\":[\"(1.733333, 1.866667]\"],\"color\":[\"LightSlateGray\"],\"fill_alpha\":[0.8],\"height\":[0.0],\"label\":[\"(1.733333, 1.866667]\"],\"line_alpha\":[1.0],\"line_color\":[\"black\"],\"width\":[0.1333333333333333],\"x\":[\"1.8\"],\"y\":[0.0]}},\"id\":\"23f14932-a75e-4d6e-ab4c-d307ee5851a0\",\"type\":\"ColumnDataSource\"},{\"attributes\":{\"data_source\":{\"id\":\"8b2209e3-16fd-4b74-bdd0-e955ace46dab\",\"type\":\"ColumnDataSource\"},\"glyph\":{\"id\":\"5198e6d8-0158-4157-87f4-58665f550beb\",\"type\":\"Rect\"},\"hover_glyph\":null,\"nonselection_glyph\":null,\"selection_glyph\":null},\"id\":\"45df4c85-46f5-4492-a164-20e5e088ab6f\",\"type\":\"GlyphRenderer\"},{\"attributes\":{\"fill_alpha\":{\"field\":\"fill_alpha\"},\"fill_color\":{\"field\":\"color\"},\"height\":{\"field\":\"height\",\"units\":\"data\"},\"line_color\":{\"field\":\"line_color\"},\"width\":{\"field\":\"width\",\"units\":\"data\"},\"x\":{\"field\":\"x\"},\"y\":{\"field\":\"y\"}},\"id\":\"10838460-1bc1-4f1d-92ab-a54a7fb1b247\",\"type\":\"Rect\"},{\"attributes\":{\"data_source\":{\"id\":\"f10d8956-1ecf-4627-836f-52bdf8588613\",\"type\":\"ColumnDataSource\"},\"glyph\":{\"id\":\"ffd08545-84bd-464c-8384-549515402ec0\",\"type\":\"Rect\"},\"hover_glyph\":null,\"nonselection_glyph\":null,\"selection_glyph\":null},\"id\":\"c5de7d70-2333-4d02-aa30-63873c4f631e\",\"type\":\"GlyphRenderer\"},{\"attributes\":{\"callback\":null,\"column_names\":[\"line_color\",\"label\",\"fill_alpha\",\"height\",\"y\",\"width\",\"line_alpha\",\"color\",\"x\"],\"data\":{\"chart_index\":[\"(1.600000, 1.733333]\"],\"color\":[\"LightSlateGray\"],\"fill_alpha\":[0.8],\"height\":[0.0],\"label\":[\"(1.600000, 1.733333]\"],\"line_alpha\":[1.0],\"line_color\":[\"black\"],\"width\":[0.1333333333333333],\"x\":[\"1.6666665\"],\"y\":[0.0]}},\"id\":\"d82dcdf4-b13d-46c0-9816-391fc6a3a7d8\",\"type\":\"ColumnDataSource\"},{\"attributes\":{\"plot\":null,\"text\":\"Inaccurate_Call_HG002: Consensust GT\"},\"id\":\"31d184ac-71dc-4d52-bc49-445796238630\",\"type\":\"Title\"},{\"attributes\":{\"data_source\":{\"id\":\"eb9309c6-2b42-458b-898d-0e3d78079076\",\"type\":\"ColumnDataSource\"},\"glyph\":{\"id\":\"81c60eac-207d-434f-aa16-ed8921af9fc9\",\"type\":\"Rect\"},\"hover_glyph\":null,\"nonselection_glyph\":null,\"selection_glyph\":null},\"id\":\"3c37e413-d6b7-4028-8423-ba79ac55fcc3\",\"type\":\"GlyphRenderer\"},{\"attributes\":{\"callback\":null,\"column_names\":[\"line_color\",\"label\",\"fill_alpha\",\"height\",\"y\",\"width\",\"line_alpha\",\"color\",\"x\"],\"data\":{\"chart_index\":[\"(0.533333, 0.666667]\"],\"color\":[\"LightSlateGray\"],\"fill_alpha\":[0.8],\"height\":[0.0],\"label\":[\"(0.533333, 0.666667]\"],\"line_alpha\":[1.0],\"line_color\":[\"black\"],\"width\":[0.1333333333333333],\"x\":[\"0.6\"],\"y\":[0.0]}},\"id\":\"3572d706-cb40-4341-bd76-3499dbd43614\",\"type\":\"ColumnDataSource\"},{\"attributes\":{\"callback\":null,\"column_names\":[\"line_color\",\"label\",\"fill_alpha\",\"height\",\"y\",\"width\",\"line_alpha\",\"color\",\"x\"],\"data\":{\"chart_index\":[\"[0.000000, 0.133333]\"],\"color\":[\"LightSlateGray\"],\"fill_alpha\":[0.8],\"height\":[183.0],\"label\":[\"[0.000000, 0.133333]\"],\"line_alpha\":[1.0],\"line_color\":[\"black\"],\"width\":[0.13333333333333333],\"x\":[\"0.0666665\"],\"y\":[91.5]}},\"id\":\"0ff60459-789d-4e37-aee9-3c88639d8c5a\",\"type\":\"ColumnDataSource\"},{\"attributes\":{\"fill_alpha\":{\"field\":\"fill_alpha\"},\"fill_color\":{\"field\":\"color\"},\"height\":{\"field\":\"height\",\"units\":\"data\"},\"line_color\":{\"field\":\"line_color\"},\"width\":{\"field\":\"width\",\"units\":\"data\"},\"x\":{\"field\":\"x\"},\"y\":{\"field\":\"y\"}},\"id\":\"41c28f3f-41d1-452c-b4c7-4ee35ae3ca0c\",\"type\":\"Rect\"},{\"attributes\":{\"callback\":null,\"column_names\":[\"line_color\",\"label\",\"fill_alpha\",\"height\",\"y\",\"width\",\"line_alpha\",\"color\",\"x\"],\"data\":{\"chart_index\":[\"(0.666667, 0.800000]\"],\"color\":[\"LightSlateGray\"],\"fill_alpha\":[0.8],\"height\":[0.0],\"label\":[\"(0.666667, 0.800000]\"],\"line_alpha\":[1.0],\"line_color\":[\"black\"],\"width\":[0.13333333333333341],\"x\":[\"0.7333335000000001\"],\"y\":[0.0]}},\"id\":\"8b2209e3-16fd-4b74-bdd0-e955ace46dab\",\"type\":\"ColumnDataSource\"},{\"attributes\":{\"data_source\":{\"id\":\"8f3ca4df-4e25-4ea5-9515-877d2c2a3a17\",\"type\":\"ColumnDataSource\"},\"glyph\":{\"id\":\"41c28f3f-41d1-452c-b4c7-4ee35ae3ca0c\",\"type\":\"Rect\"},\"hover_glyph\":null,\"nonselection_glyph\":null,\"selection_glyph\":null},\"id\":\"7336b8b5-a0ca-4594-a335-e7e69598f2df\",\"type\":\"GlyphRenderer\"},{\"attributes\":{\"callback\":null,\"column_names\":[\"line_color\",\"label\",\"fill_alpha\",\"height\",\"y\",\"width\",\"line_alpha\",\"color\",\"x\"],\"data\":{\"chart_index\":[\"(1.866667, 2.000000]\"],\"color\":[\"LightSlateGray\"],\"fill_alpha\":[0.8],\"height\":[27.0],\"label\":[\"(1.866667, 2.000000]\"],\"line_alpha\":[1.0],\"line_color\":[\"black\"],\"width\":[0.1333333333333333],\"x\":[\"1.9333335\"],\"y\":[13.5]}},\"id\":\"f10d8956-1ecf-4627-836f-52bdf8588613\",\"type\":\"ColumnDataSource\"},{\"attributes\":{\"callback\":null,\"column_names\":[\"line_color\",\"label\",\"fill_alpha\",\"height\",\"y\",\"width\",\"line_alpha\",\"color\",\"x\"],\"data\":{\"chart_index\":[\"(0.933333, 1.066667]\"],\"color\":[\"LightSlateGray\"],\"fill_alpha\":[0.8],\"height\":[214.0],\"label\":[\"(0.933333, 1.066667]\"],\"line_alpha\":[1.0],\"line_color\":[\"black\"],\"width\":[0.1333333333333333],\"x\":[\"1.0\"],\"y\":[107.0]}},\"id\":\"5b658405-ac82-4052-91d8-3f1da7b0305a\",\"type\":\"ColumnDataSource\"},{\"attributes\":{\"fill_alpha\":{\"field\":\"fill_alpha\"},\"fill_color\":{\"field\":\"color\"},\"height\":{\"field\":\"height\",\"units\":\"data\"},\"line_color\":{\"field\":\"line_color\"},\"width\":{\"field\":\"width\",\"units\":\"data\"},\"x\":{\"field\":\"x\"},\"y\":{\"field\":\"y\"}},\"id\":\"1715ee0b-512a-4b95-8bd5-06b51e66e200\",\"type\":\"Rect\"},{\"attributes\":{},\"id\":\"78a975be-0e07-47e3-a68a-8cb6e90b74ad\",\"type\":\"BasicTickFormatter\"},{\"attributes\":{\"data_source\":{\"id\":\"3572d706-cb40-4341-bd76-3499dbd43614\",\"type\":\"ColumnDataSource\"},\"glyph\":{\"id\":\"ad65b300-b578-4fb3-b706-2bd4d29c3f82\",\"type\":\"Rect\"},\"hover_glyph\":null,\"nonselection_glyph\":null,\"selection_glyph\":null},\"id\":\"103e4c95-91ab-482b-a81e-c6c587446387\",\"type\":\"GlyphRenderer\"},{\"attributes\":{\"bottom_units\":\"screen\",\"fill_alpha\":{\"value\":0.5},\"fill_color\":{\"value\":\"lightgrey\"},\"left_units\":\"screen\",\"level\":\"overlay\",\"line_alpha\":{\"value\":1.0},\"line_color\":{\"value\":\"black\"},\"line_dash\":[4,4],\"line_width\":{\"value\":2},\"plot\":null,\"render_mode\":\"css\",\"right_units\":\"screen\",\"top_units\":\"screen\"},\"id\":\"fbd1fbcd-82d9-4bcd-88d0-307910785be1\",\"type\":\"BoxAnnotation\"},{\"attributes\":{},\"id\":\"792d03b7-0b30-46bb-b420-d3b402f0a8b2\",\"type\":\"ToolEvents\"},{\"attributes\":{\"fill_alpha\":{\"field\":\"fill_alpha\"},\"fill_color\":{\"field\":\"color\"},\"height\":{\"field\":\"height\",\"units\":\"data\"},\"line_color\":{\"field\":\"line_color\"},\"width\":{\"field\":\"width\",\"units\":\"data\"},\"x\":{\"field\":\"x\"},\"y\":{\"field\":\"y\"}},\"id\":\"49772fe0-8482-47da-b62b-13b81189f0c0\",\"type\":\"Rect\"}],\"root_ids\":[\"acbfb1b7-ee3c-4ca4-98b5-6497fbfa7198\"]},\"title\":\"Bokeh Application\",\"version\":\"0.12.4\"}};\n",
       "            var render_items = [{\"docid\":\"21779c0f-f5ec-4bc2-a7b2-5a02abebafdb\",\"elementid\":\"221bb559-8f9b-4723-aa7b-f4588c81798f\",\"modelid\":\"acbfb1b7-ee3c-4ca4-98b5-6497fbfa7198\"}];\n",
       "            \n",
       "            Bokeh.embed.embed_items(docs_json, render_items);\n",
       "          };\n",
       "          if (document.readyState != \"loading\") fn();\n",
       "          else document.addEventListener(\"DOMContentLoaded\", fn);\n",
       "        })();\n",
       "      },\n",
       "      function(Bokeh) {\n",
       "      }\n",
       "    ];\n",
       "  \n",
       "    function run_inline_js() {\n",
       "      \n",
       "      if ((window.Bokeh !== undefined) || (force === true)) {\n",
       "        for (var i = 0; i < inline_js.length; i++) {\n",
       "          inline_js[i](window.Bokeh);\n",
       "        }if (force === true) {\n",
       "          display_loaded();\n",
       "        }} else if (Date.now() < window._bokeh_timeout) {\n",
       "        setTimeout(run_inline_js, 100);\n",
       "      } else if (!window._bokeh_failed_load) {\n",
       "        console.log(\"Bokeh: BokehJS failed to load within specified timeout.\");\n",
       "        window._bokeh_failed_load = true;\n",
       "      } else if (force !== true) {\n",
       "        var cell = $(document.getElementById(\"221bb559-8f9b-4723-aa7b-f4588c81798f\")).parents('.cell').data().cell;\n",
       "        cell.output_area.append_execute_result(NB_LOAD_WARNING)\n",
       "      }\n",
       "  \n",
       "    }\n",
       "  \n",
       "    if (window._bokeh_is_loading === 0) {\n",
       "      console.log(\"Bokeh: BokehJS loaded, going straight to plotting\");\n",
       "      run_inline_js();\n",
       "    } else {\n",
       "      load_libs(js_urls, function() {\n",
       "        console.log(\"Bokeh: BokehJS plotting callback run at\", now());\n",
       "        run_inline_js();\n",
       "      });\n",
       "    }\n",
       "  }(this));\n",
       "</script>"
      ]
     },
     "metadata": {},
     "output_type": "display_data"
    }
   ],
   "source": [
    "p = figure()\n",
    "p = Histogram(inac_call, values='GTcons', title='Inaccurate_Call_HG002: Consensust GT', color='LightSlateGray', bins=15, plot_height=250, xlabel=\"GTcons\", ylabel=\"Frequency\")\n",
    "show(p)"
   ]
  }
 ],
 "metadata": {
  "kernelspec": {
   "display_name": "Python [NIHFAES]",
   "language": "python",
   "name": "Python [NIHFAES]"
  },
  "language_info": {
   "codemirror_mode": {
    "name": "ipython",
    "version": 3
   },
   "file_extension": ".py",
   "mimetype": "text/x-python",
   "name": "python",
   "nbconvert_exporter": "python",
   "pygments_lexer": "ipython3",
   "version": "3.5.2"
  }
 },
 "nbformat": 4,
 "nbformat_minor": 2
}
