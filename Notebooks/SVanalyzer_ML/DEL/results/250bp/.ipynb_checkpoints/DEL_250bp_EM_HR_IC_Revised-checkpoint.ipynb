{
 "cells": [
  {
   "cell_type": "markdown",
   "metadata": {},
   "source": [
    "### 250bp: EM, HR, IC \n",
    "\n",
    "* The following notebook is trained on data generated from revised R script [Oct 12 2017]\n",
    "    * Exact Match [1] and Homozygous [0] Reference data points\n",
    "    * Removed all data points with Gtcons and GTconswithoutXX -1\n",
    "* 5k randomly selected deletions test data was also processed through same R script\n",
    "* Balanced Training Set for GTcons labels:\n",
    "* **Train/Prediction Label:** EM, HR, IC"
   ]
  },
  {
   "cell_type": "code",
   "execution_count": 1,
   "metadata": {
    "collapsed": true
   },
   "outputs": [],
   "source": [
    "\"\"\"\n",
    "Imports\n",
    "\"\"\"\n",
    "import pandas as pd\n",
    "import numpy as np\n",
    "from fancyimpute import KNN\n",
    "import matplotlib.pyplot as plt\n",
    "from sklearn import preprocessing\n",
    "from sklearn.preprocessing import LabelEncoder\n",
    "from sklearn.model_selection import LeaveOneOut\n",
    "from scipy.stats import ks_2samp\n",
    "from scipy import stats\n",
    "from matplotlib import pyplot\n",
    "from scipy.linalg import svd\n",
    "from sklearn.decomposition import TruncatedSVD\n",
    "from sklearn.ensemble import RandomForestClassifier\n",
    "from sklearn.metrics import roc_auc_score\n",
    "from sklearn.manifold import TSNE\n",
    "from sklearn.decomposition import PCA as sklearnPCA\n",
    "import plotly.plotly as py\n",
    "from sklearn.cluster import DBSCAN\n",
    "from sklearn.model_selection import train_test_split\n",
    "from sklearn import metrics\n",
    "from sklearn.metrics import f1_score, precision_score\n",
    "from sklearn import preprocessing\n",
    "from ggplot import *\n",
    "from bokeh.models import HoverTool\n",
    "from bokeh.plotting import show\n",
    "from bokeh.charts import Scatter, Histogram, output_file, show\n",
    "from bokeh.plotting import figure, show, output_file, ColumnDataSource\n",
    "from bokeh.io import output_notebook\n",
    "from bokeh.charts import Bar, output_file, show\n",
    "import bokeh.palettes as palettes\n",
    "from bokeh.models import HoverTool, BoxSelectTool, Legend\n",
    "from sklearn import (manifold, datasets, decomposition, ensemble,\n",
    "                     discriminant_analysis, random_projection)"
   ]
  },
  {
   "cell_type": "code",
   "execution_count": 2,
   "metadata": {},
   "outputs": [
    {
     "data": {
      "text/html": [
       "<div>\n",
       "<table border=\"1\" class=\"dataframe\">\n",
       "  <thead>\n",
       "    <tr style=\"text-align: right;\">\n",
       "      <th></th>\n",
       "      <th>chrom</th>\n",
       "      <th>sample</th>\n",
       "      <th>id</th>\n",
       "      <th>start</th>\n",
       "      <th>end</th>\n",
       "      <th>Size</th>\n",
       "      <th>type</th>\n",
       "      <th>SVtype</th>\n",
       "      <th>refN_cnt</th>\n",
       "      <th>refN_pct</th>\n",
       "      <th>...</th>\n",
       "      <th>Ill250.amb_reason_orientation_orientation</th>\n",
       "      <th>Ill250.amb_reason_same_scores</th>\n",
       "      <th>Ill250.ref_alnScore_mean</th>\n",
       "      <th>Ill250.ref_alnScore_std</th>\n",
       "      <th>Ill250.ref_count</th>\n",
       "      <th>Ill250.ref_insertSize_mean</th>\n",
       "      <th>Ill250.ref_insertSize_std</th>\n",
       "      <th>Ill250.ref_reason_alignmentScore</th>\n",
       "      <th>Ill250.ref_reason_insertSizeScore</th>\n",
       "      <th>Ill250.ref_reason_orientation</th>\n",
       "    </tr>\n",
       "  </thead>\n",
       "  <tbody>\n",
       "    <tr>\n",
       "      <th>0</th>\n",
       "      <td>1</td>\n",
       "      <td>HG002</td>\n",
       "      <td>23</td>\n",
       "      <td>72766323</td>\n",
       "      <td>72811839</td>\n",
       "      <td>-45516</td>\n",
       "      <td>Deletion</td>\n",
       "      <td>Deletion</td>\n",
       "      <td>0</td>\n",
       "      <td>0</td>\n",
       "      <td>...</td>\n",
       "      <td>2.0</td>\n",
       "      <td>0.0</td>\n",
       "      <td>985.830076</td>\n",
       "      <td>20.181192</td>\n",
       "      <td>3019.0</td>\n",
       "      <td>416.447168</td>\n",
       "      <td>84.434919</td>\n",
       "      <td>3019.0</td>\n",
       "      <td>NaN</td>\n",
       "      <td>0.0</td>\n",
       "    </tr>\n",
       "  </tbody>\n",
       "</table>\n",
       "<p>1 rows × 51 columns</p>\n",
       "</div>"
      ],
      "text/plain": [
       "  chrom sample  id     start       end   Size      type    SVtype  refN_cnt  \\\n",
       "0     1  HG002  23  72766323  72811839 -45516  Deletion  Deletion         0   \n",
       "\n",
       "   refN_pct              ...                \\\n",
       "0         0              ...                 \n",
       "\n",
       "   Ill250.amb_reason_orientation_orientation  Ill250.amb_reason_same_scores  \\\n",
       "0                                        2.0                            0.0   \n",
       "\n",
       "   Ill250.ref_alnScore_mean  Ill250.ref_alnScore_std  Ill250.ref_count  \\\n",
       "0                985.830076                20.181192            3019.0   \n",
       "\n",
       "   Ill250.ref_insertSize_mean  Ill250.ref_insertSize_std  \\\n",
       "0                  416.447168                  84.434919   \n",
       "\n",
       "   Ill250.ref_reason_alignmentScore  Ill250.ref_reason_insertSizeScore  \\\n",
       "0                            3019.0                                NaN   \n",
       "\n",
       "   Ill250.ref_reason_orientation  \n",
       "0                            0.0  \n",
       "\n",
       "[1 rows x 51 columns]"
      ]
     },
     "execution_count": 2,
     "metadata": {},
     "output_type": "execute_result"
    }
   ],
   "source": [
    "# Import Training Data\n",
    "# SVanalyzer generated training data\n",
    "df_train = pd.read_csv('/Volumes/lesleydata/SVanalyzer_ML/Oct122017_Revised_R/dataframes/training_data/tech_sep/HG002/DEL/250bp_EM_HR_IC_HG002_DEL_min1.csv')\n",
    "df_train_2 = pd.read_csv('/Volumes/lesleydata/SVanalyzer_ML/Oct122017_Revised_R/dataframes/training_data/tech_sep/HG002/DEL/250bp_EM_HR_IC_HG002_DEL_min1.csv')\n",
    "df_train.rename(columns={'size': 'Size'}, inplace=True)\n",
    "df_train.head(1)"
   ]
  },
  {
   "cell_type": "code",
   "execution_count": 3,
   "metadata": {},
   "outputs": [
    {
     "data": {
      "text/html": [
       "<div>\n",
       "<table border=\"1\" class=\"dataframe\">\n",
       "  <thead>\n",
       "    <tr style=\"text-align: right;\">\n",
       "      <th></th>\n",
       "      <th>chrom</th>\n",
       "      <th>sample</th>\n",
       "      <th>id</th>\n",
       "      <th>start</th>\n",
       "      <th>end</th>\n",
       "      <th>Size</th>\n",
       "      <th>type</th>\n",
       "      <th>SVtype</th>\n",
       "      <th>refN_cnt</th>\n",
       "      <th>refN_pct</th>\n",
       "      <th>...</th>\n",
       "      <th>Ill250.amb_reason_orientation_alignmentScore</th>\n",
       "      <th>Ill250.amb_reason_orientation_orientation</th>\n",
       "      <th>Ill250.amb_reason_same_scores</th>\n",
       "      <th>Ill250.ref_alnScore_mean</th>\n",
       "      <th>Ill250.ref_alnScore_std</th>\n",
       "      <th>Ill250.ref_count</th>\n",
       "      <th>Ill250.ref_insertSize_mean</th>\n",
       "      <th>Ill250.ref_insertSize_std</th>\n",
       "      <th>Ill250.ref_reason_alignmentScore</th>\n",
       "      <th>Ill250.ref_reason_orientation</th>\n",
       "    </tr>\n",
       "  </thead>\n",
       "  <tbody>\n",
       "    <tr>\n",
       "      <th>0</th>\n",
       "      <td>1</td>\n",
       "      <td>HG002</td>\n",
       "      <td>859</td>\n",
       "      <td>37568322</td>\n",
       "      <td>37568587</td>\n",
       "      <td>-115</td>\n",
       "      <td>Insertion</td>\n",
       "      <td>Deletion</td>\n",
       "      <td>0</td>\n",
       "      <td>0</td>\n",
       "      <td>...</td>\n",
       "      <td>1.0</td>\n",
       "      <td>10.0</td>\n",
       "      <td>1.0</td>\n",
       "      <td>957.875</td>\n",
       "      <td>38.589628</td>\n",
       "      <td>40.0</td>\n",
       "      <td>445.375</td>\n",
       "      <td>91.373871</td>\n",
       "      <td>39.0</td>\n",
       "      <td>1.0</td>\n",
       "    </tr>\n",
       "  </tbody>\n",
       "</table>\n",
       "<p>1 rows × 49 columns</p>\n",
       "</div>"
      ],
      "text/plain": [
       "  chrom sample   id     start       end  Size       type    SVtype  refN_cnt  \\\n",
       "0     1  HG002  859  37568322  37568587  -115  Insertion  Deletion         0   \n",
       "\n",
       "   refN_pct              ...                \\\n",
       "0         0              ...                 \n",
       "\n",
       "   Ill250.amb_reason_orientation_alignmentScore  \\\n",
       "0                                           1.0   \n",
       "\n",
       "   Ill250.amb_reason_orientation_orientation  Ill250.amb_reason_same_scores  \\\n",
       "0                                       10.0                            1.0   \n",
       "\n",
       "   Ill250.ref_alnScore_mean  Ill250.ref_alnScore_std  Ill250.ref_count  \\\n",
       "0                   957.875                38.589628              40.0   \n",
       "\n",
       "   Ill250.ref_insertSize_mean  Ill250.ref_insertSize_std  \\\n",
       "0                     445.375                  91.373871   \n",
       "\n",
       "   Ill250.ref_reason_alignmentScore  Ill250.ref_reason_orientation  \n",
       "0                              39.0                            1.0  \n",
       "\n",
       "[1 rows x 49 columns]"
      ]
     },
     "execution_count": 3,
     "metadata": {},
     "output_type": "execute_result"
    }
   ],
   "source": [
    "# Import Test Data\n",
    "# SVanalyzer generated training data\n",
    "df_test = pd.read_csv('/Volumes/lesleydata/SVanalyzer_ML/Oct122017_Revised_R/dataframes/test/final_df/tech_sep/DEL/HG002/250bp_HG002_DEL_min1.csv')\n",
    "df_test_2 = pd.read_csv('/Volumes/lesleydata/SVanalyzer_ML/Oct122017_Revised_R/dataframes/test/final_df/tech_sep/DEL/HG002/250bp_HG002_DEL_min1.csv')\n",
    "df_test.rename(columns={'size': 'Size'}, inplace=True)\n",
    "df_test.head(1)"
   ]
  },
  {
   "cell_type": "code",
   "execution_count": 4,
   "metadata": {},
   "outputs": [
    {
     "data": {
      "text/plain": [
       "{'Ill250.ref_reason_insertSizeScore', 'Label'}"
      ]
     },
     "execution_count": 4,
     "metadata": {},
     "output_type": "execute_result"
    }
   ],
   "source": [
    "# Store header names in lists and find names that are NOT contained in BOTH lists\n",
    "c = list(df_train.columns.values)\n",
    "d = list(df_test.columns.values)\n",
    "set(c) - set(d)"
   ]
  },
  {
   "cell_type": "code",
   "execution_count": 5,
   "metadata": {
    "collapsed": true
   },
   "outputs": [],
   "source": [
    "### Drop columns that are not shared by both dataframes\n",
    "df_train.drop(['Ill250.ref_reason_insertSizeScore'], axis=1, inplace = True)\n",
    "df_train.drop(['GTcons'], axis=1, inplace = True)\n",
    "df_train.drop(['GTconswithoutIll250.GT'], axis=1, inplace = True)\n",
    "df_train.drop(['GTconflict'], axis=1, inplace = True)\n",
    "df_train.drop(['GTsupp'], axis=1, inplace = True)\n",
    "df_train.drop(['sample'], axis=1, inplace = True)\n",
    "df_train.drop(['SVtype'], axis=1, inplace = True)\n",
    "df_train.drop(['type'], axis=1, inplace = True)\n",
    "df_train.drop(['id'], axis=1, inplace = True)"
   ]
  },
  {
   "cell_type": "code",
   "execution_count": 6,
   "metadata": {},
   "outputs": [
    {
     "data": {
      "text/html": [
       "<div>\n",
       "<table border=\"1\" class=\"dataframe\">\n",
       "  <thead>\n",
       "    <tr style=\"text-align: right;\">\n",
       "      <th></th>\n",
       "      <th>chrom</th>\n",
       "      <th>start</th>\n",
       "      <th>end</th>\n",
       "      <th>Size</th>\n",
       "      <th>refN_cnt</th>\n",
       "      <th>refN_pct</th>\n",
       "      <th>segdup_cnt</th>\n",
       "      <th>segdup_pct</th>\n",
       "      <th>tandemrep_cnt</th>\n",
       "      <th>tandemrep_pct</th>\n",
       "      <th>...</th>\n",
       "      <th>Ill250.amb_reason_orientation_alignmentScore</th>\n",
       "      <th>Ill250.amb_reason_orientation_orientation</th>\n",
       "      <th>Ill250.amb_reason_same_scores</th>\n",
       "      <th>Ill250.ref_alnScore_mean</th>\n",
       "      <th>Ill250.ref_alnScore_std</th>\n",
       "      <th>Ill250.ref_count</th>\n",
       "      <th>Ill250.ref_insertSize_mean</th>\n",
       "      <th>Ill250.ref_insertSize_std</th>\n",
       "      <th>Ill250.ref_reason_alignmentScore</th>\n",
       "      <th>Ill250.ref_reason_orientation</th>\n",
       "    </tr>\n",
       "  </thead>\n",
       "  <tbody>\n",
       "    <tr>\n",
       "      <th>0</th>\n",
       "      <td>1</td>\n",
       "      <td>72766323</td>\n",
       "      <td>72811839</td>\n",
       "      <td>-45516</td>\n",
       "      <td>0</td>\n",
       "      <td>0</td>\n",
       "      <td>4</td>\n",
       "      <td>0.076523</td>\n",
       "      <td>110</td>\n",
       "      <td>0.059979</td>\n",
       "      <td>...</td>\n",
       "      <td>89.0</td>\n",
       "      <td>2.0</td>\n",
       "      <td>0.0</td>\n",
       "      <td>985.830076</td>\n",
       "      <td>20.181192</td>\n",
       "      <td>3019.0</td>\n",
       "      <td>416.447168</td>\n",
       "      <td>84.434919</td>\n",
       "      <td>3019.0</td>\n",
       "      <td>0.0</td>\n",
       "    </tr>\n",
       "  </tbody>\n",
       "</table>\n",
       "<p>1 rows × 42 columns</p>\n",
       "</div>"
      ],
      "text/plain": [
       "  chrom     start       end   Size  refN_cnt  refN_pct  segdup_cnt  \\\n",
       "0     1  72766323  72811839 -45516         0         0           4   \n",
       "\n",
       "   segdup_pct  tandemrep_cnt  tandemrep_pct              ...                \\\n",
       "0    0.076523            110       0.059979              ...                 \n",
       "\n",
       "   Ill250.amb_reason_orientation_alignmentScore  \\\n",
       "0                                          89.0   \n",
       "\n",
       "   Ill250.amb_reason_orientation_orientation  Ill250.amb_reason_same_scores  \\\n",
       "0                                        2.0                            0.0   \n",
       "\n",
       "   Ill250.ref_alnScore_mean  Ill250.ref_alnScore_std  Ill250.ref_count  \\\n",
       "0                985.830076                20.181192            3019.0   \n",
       "\n",
       "   Ill250.ref_insertSize_mean  Ill250.ref_insertSize_std  \\\n",
       "0                  416.447168                  84.434919   \n",
       "\n",
       "   Ill250.ref_reason_alignmentScore  Ill250.ref_reason_orientation  \n",
       "0                            3019.0                            0.0  \n",
       "\n",
       "[1 rows x 42 columns]"
      ]
     },
     "execution_count": 6,
     "metadata": {},
     "output_type": "execute_result"
    }
   ],
   "source": [
    "df_train.head(1)"
   ]
  },
  {
   "cell_type": "code",
   "execution_count": 7,
   "metadata": {
    "collapsed": true
   },
   "outputs": [],
   "source": [
    "df_train['chrom'].replace('X', 23, inplace=True)\n",
    "df_train['chrom'].replace('Y', 24, inplace=True)\n",
    "df_test['chrom'].replace('X', 23, inplace=True)\n",
    "df_test['chrom'].replace('Y', 24, inplace=True)"
   ]
  },
  {
   "cell_type": "code",
   "execution_count": 8,
   "metadata": {},
   "outputs": [
    {
     "data": {
      "text/plain": [
       "{'GTconflict',\n",
       " 'GTcons',\n",
       " 'GTconswithoutIll250.GT',\n",
       " 'GTsupp',\n",
       " 'SVtype',\n",
       " 'id',\n",
       " 'sample',\n",
       " 'type'}"
      ]
     },
     "execution_count": 8,
     "metadata": {},
     "output_type": "execute_result"
    }
   ],
   "source": [
    "# Store header names in lists and find names that are NOT contained in BOTH lists\n",
    "c = list(df_train.columns.values)\n",
    "d = list(df_test.columns.values)\n",
    "set(d) - set(c)"
   ]
  },
  {
   "cell_type": "code",
   "execution_count": 9,
   "metadata": {
    "collapsed": true
   },
   "outputs": [],
   "source": [
    "### Drop columns that are not shared by both dataframes\n",
    "df_test.drop(['GTcons'], axis=1, inplace = True)\n",
    "df_test.drop(['GTconflict'], axis=1, inplace = True)\n",
    "df_test.drop(['GTconswithoutIll250.GT'], axis=1, inplace = True)\n",
    "df_test.drop(['GTsupp'], axis=1, inplace = True)\n",
    "df_test.drop(['sample'], axis=1, inplace = True)\n",
    "df_test.drop(['SVtype'], axis=1, inplace = True)\n",
    "df_test.drop(['type'], axis=1, inplace = True)\n",
    "df_test.drop(['id'], axis=1, inplace = True)"
   ]
  },
  {
   "cell_type": "markdown",
   "metadata": {},
   "source": [
    "***\n",
    "Impute missing values using KNN\n",
    "***"
   ]
  },
  {
   "cell_type": "code",
   "execution_count": 10,
   "metadata": {},
   "outputs": [
    {
     "data": {
      "text/html": [
       "<div>\n",
       "<table border=\"1\" class=\"dataframe\">\n",
       "  <thead>\n",
       "    <tr style=\"text-align: right;\">\n",
       "      <th></th>\n",
       "      <th>chrom</th>\n",
       "      <th>start</th>\n",
       "      <th>end</th>\n",
       "      <th>Size</th>\n",
       "      <th>refN_cnt</th>\n",
       "      <th>refN_pct</th>\n",
       "      <th>segdup_cnt</th>\n",
       "      <th>segdup_pct</th>\n",
       "      <th>tandemrep_cnt</th>\n",
       "      <th>tandemrep_pct</th>\n",
       "      <th>...</th>\n",
       "      <th>Ill250.amb_reason_orientation_alignmentScore</th>\n",
       "      <th>Ill250.amb_reason_orientation_orientation</th>\n",
       "      <th>Ill250.amb_reason_same_scores</th>\n",
       "      <th>Ill250.ref_alnScore_mean</th>\n",
       "      <th>Ill250.ref_alnScore_std</th>\n",
       "      <th>Ill250.ref_count</th>\n",
       "      <th>Ill250.ref_insertSize_mean</th>\n",
       "      <th>Ill250.ref_insertSize_std</th>\n",
       "      <th>Ill250.ref_reason_alignmentScore</th>\n",
       "      <th>Ill250.ref_reason_orientation</th>\n",
       "    </tr>\n",
       "  </thead>\n",
       "  <tbody>\n",
       "    <tr>\n",
       "      <th>0</th>\n",
       "      <td>1</td>\n",
       "      <td>72766323</td>\n",
       "      <td>72811839</td>\n",
       "      <td>-45516</td>\n",
       "      <td>0</td>\n",
       "      <td>0</td>\n",
       "      <td>4</td>\n",
       "      <td>0.076523</td>\n",
       "      <td>110</td>\n",
       "      <td>0.059979</td>\n",
       "      <td>...</td>\n",
       "      <td>89.0</td>\n",
       "      <td>2.0</td>\n",
       "      <td>0.0</td>\n",
       "      <td>985.830076</td>\n",
       "      <td>20.181192</td>\n",
       "      <td>3019.0</td>\n",
       "      <td>416.447168</td>\n",
       "      <td>84.434919</td>\n",
       "      <td>3019.0</td>\n",
       "      <td>0.0</td>\n",
       "    </tr>\n",
       "    <tr>\n",
       "      <th>1</th>\n",
       "      <td>1</td>\n",
       "      <td>96139975</td>\n",
       "      <td>96142391</td>\n",
       "      <td>-2416</td>\n",
       "      <td>0</td>\n",
       "      <td>0</td>\n",
       "      <td>0</td>\n",
       "      <td>0.000000</td>\n",
       "      <td>2</td>\n",
       "      <td>0.014487</td>\n",
       "      <td>...</td>\n",
       "      <td>7.0</td>\n",
       "      <td>5.0</td>\n",
       "      <td>0.0</td>\n",
       "      <td>991.896552</td>\n",
       "      <td>8.854274</td>\n",
       "      <td>203.0</td>\n",
       "      <td>422.167488</td>\n",
       "      <td>78.005757</td>\n",
       "      <td>203.0</td>\n",
       "      <td>0.0</td>\n",
       "    </tr>\n",
       "    <tr>\n",
       "      <th>2</th>\n",
       "      <td>1</td>\n",
       "      <td>109690878</td>\n",
       "      <td>109690918</td>\n",
       "      <td>-39</td>\n",
       "      <td>0</td>\n",
       "      <td>0</td>\n",
       "      <td>0</td>\n",
       "      <td>0.000000</td>\n",
       "      <td>1</td>\n",
       "      <td>0.400000</td>\n",
       "      <td>...</td>\n",
       "      <td>2.0</td>\n",
       "      <td>8.0</td>\n",
       "      <td>0.0</td>\n",
       "      <td>966.620690</td>\n",
       "      <td>38.728421</td>\n",
       "      <td>29.0</td>\n",
       "      <td>454.896552</td>\n",
       "      <td>102.198031</td>\n",
       "      <td>29.0</td>\n",
       "      <td>0.0</td>\n",
       "    </tr>\n",
       "  </tbody>\n",
       "</table>\n",
       "<p>3 rows × 42 columns</p>\n",
       "</div>"
      ],
      "text/plain": [
       "  chrom      start        end   Size  refN_cnt  refN_pct  segdup_cnt  \\\n",
       "0     1   72766323   72811839 -45516         0         0           4   \n",
       "1     1   96139975   96142391  -2416         0         0           0   \n",
       "2     1  109690878  109690918    -39         0         0           0   \n",
       "\n",
       "   segdup_pct  tandemrep_cnt  tandemrep_pct              ...                \\\n",
       "0    0.076523            110       0.059979              ...                 \n",
       "1    0.000000              2       0.014487              ...                 \n",
       "2    0.000000              1       0.400000              ...                 \n",
       "\n",
       "   Ill250.amb_reason_orientation_alignmentScore  \\\n",
       "0                                          89.0   \n",
       "1                                           7.0   \n",
       "2                                           2.0   \n",
       "\n",
       "   Ill250.amb_reason_orientation_orientation  Ill250.amb_reason_same_scores  \\\n",
       "0                                        2.0                            0.0   \n",
       "1                                        5.0                            0.0   \n",
       "2                                        8.0                            0.0   \n",
       "\n",
       "   Ill250.ref_alnScore_mean  Ill250.ref_alnScore_std  Ill250.ref_count  \\\n",
       "0                985.830076                20.181192            3019.0   \n",
       "1                991.896552                 8.854274             203.0   \n",
       "2                966.620690                38.728421              29.0   \n",
       "\n",
       "   Ill250.ref_insertSize_mean  Ill250.ref_insertSize_std  \\\n",
       "0                  416.447168                  84.434919   \n",
       "1                  422.167488                  78.005757   \n",
       "2                  454.896552                 102.198031   \n",
       "\n",
       "   Ill250.ref_reason_alignmentScore  Ill250.ref_reason_orientation  \n",
       "0                            3019.0                            0.0  \n",
       "1                             203.0                            0.0  \n",
       "2                              29.0                            0.0  \n",
       "\n",
       "[3 rows x 42 columns]"
      ]
     },
     "execution_count": 10,
     "metadata": {},
     "output_type": "execute_result"
    }
   ],
   "source": [
    "# Store training data in a new variable which will be converted to a matrix\n",
    "X = df_train\n",
    "X.head(3)"
   ]
  },
  {
   "cell_type": "code",
   "execution_count": 11,
   "metadata": {},
   "outputs": [
    {
     "name": "stdout",
     "output_type": "stream",
     "text": [
      "Imputing row 1/2465 with 2 missing, elapsed time: 1.875\n",
      "Imputing row 101/2465 with 2 missing, elapsed time: 1.926\n",
      "Imputing row 201/2465 with 2 missing, elapsed time: 1.934\n",
      "Imputing row 301/2465 with 2 missing, elapsed time: 1.943\n",
      "Imputing row 401/2465 with 2 missing, elapsed time: 1.952\n",
      "Imputing row 501/2465 with 2 missing, elapsed time: 1.961\n",
      "Imputing row 601/2465 with 2 missing, elapsed time: 1.969\n",
      "Imputing row 701/2465 with 2 missing, elapsed time: 1.978\n",
      "Imputing row 801/2465 with 2 missing, elapsed time: 1.989\n",
      "Imputing row 901/2465 with 2 missing, elapsed time: 2.000\n",
      "Imputing row 1001/2465 with 2 missing, elapsed time: 2.009\n",
      "Imputing row 1101/2465 with 2 missing, elapsed time: 2.019\n",
      "Imputing row 1201/2465 with 2 missing, elapsed time: 2.027\n",
      "Imputing row 1301/2465 with 2 missing, elapsed time: 2.037\n",
      "Imputing row 1401/2465 with 2 missing, elapsed time: 2.046\n",
      "Imputing row 1501/2465 with 2 missing, elapsed time: 2.055\n",
      "Imputing row 1601/2465 with 2 missing, elapsed time: 2.064\n",
      "Imputing row 1701/2465 with 2 missing, elapsed time: 2.073\n",
      "Imputing row 1801/2465 with 0 missing, elapsed time: 2.078\n",
      "Imputing row 1901/2465 with 0 missing, elapsed time: 2.081\n",
      "Imputing row 2001/2465 with 0 missing, elapsed time: 2.082\n",
      "Imputing row 2101/2465 with 0 missing, elapsed time: 2.083\n",
      "Imputing row 2201/2465 with 0 missing, elapsed time: 2.085\n",
      "Imputing row 2301/2465 with 0 missing, elapsed time: 2.087\n",
      "Imputing row 2401/2465 with 0 missing, elapsed time: 2.088\n"
     ]
    }
   ],
   "source": [
    "# Convert dataframe to matrix\n",
    "X=X.as_matrix()\n",
    "\n",
    "#Imput missing values from three closest observations\n",
    "X_imputed=KNN(k=3).complete(X)\n",
    "X=pd.DataFrame(X_imputed)"
   ]
  },
  {
   "cell_type": "code",
   "execution_count": 12,
   "metadata": {},
   "outputs": [
    {
     "data": {
      "text/html": [
       "<div>\n",
       "<table border=\"1\" class=\"dataframe\">\n",
       "  <thead>\n",
       "    <tr style=\"text-align: right;\">\n",
       "      <th></th>\n",
       "      <th>chrom</th>\n",
       "      <th>start</th>\n",
       "      <th>end</th>\n",
       "      <th>Size</th>\n",
       "      <th>refN_cnt</th>\n",
       "      <th>refN_pct</th>\n",
       "      <th>segdup_cnt</th>\n",
       "      <th>segdup_pct</th>\n",
       "      <th>tandemrep_cnt</th>\n",
       "      <th>tandemrep_pct</th>\n",
       "      <th>...</th>\n",
       "      <th>Ill250.amb_reason_orientation_alignmentScore</th>\n",
       "      <th>Ill250.amb_reason_orientation_orientation</th>\n",
       "      <th>Ill250.amb_reason_same_scores</th>\n",
       "      <th>Ill250.ref_alnScore_mean</th>\n",
       "      <th>Ill250.ref_alnScore_std</th>\n",
       "      <th>Ill250.ref_count</th>\n",
       "      <th>Ill250.ref_insertSize_mean</th>\n",
       "      <th>Ill250.ref_insertSize_std</th>\n",
       "      <th>Ill250.ref_reason_alignmentScore</th>\n",
       "      <th>Ill250.ref_reason_orientation</th>\n",
       "    </tr>\n",
       "  </thead>\n",
       "  <tbody>\n",
       "    <tr>\n",
       "      <th>0</th>\n",
       "      <td>1.0</td>\n",
       "      <td>72766323.0</td>\n",
       "      <td>72811839.0</td>\n",
       "      <td>-45516.0</td>\n",
       "      <td>0.0</td>\n",
       "      <td>0.0</td>\n",
       "      <td>4.0</td>\n",
       "      <td>0.076523</td>\n",
       "      <td>110.0</td>\n",
       "      <td>0.059979</td>\n",
       "      <td>...</td>\n",
       "      <td>89.0</td>\n",
       "      <td>2.0</td>\n",
       "      <td>0.0</td>\n",
       "      <td>985.830076</td>\n",
       "      <td>20.181192</td>\n",
       "      <td>3019.0</td>\n",
       "      <td>416.447168</td>\n",
       "      <td>84.434919</td>\n",
       "      <td>3019.0</td>\n",
       "      <td>0.0</td>\n",
       "    </tr>\n",
       "    <tr>\n",
       "      <th>1</th>\n",
       "      <td>1.0</td>\n",
       "      <td>96139975.0</td>\n",
       "      <td>96142391.0</td>\n",
       "      <td>-2416.0</td>\n",
       "      <td>0.0</td>\n",
       "      <td>0.0</td>\n",
       "      <td>0.0</td>\n",
       "      <td>0.000000</td>\n",
       "      <td>2.0</td>\n",
       "      <td>0.014487</td>\n",
       "      <td>...</td>\n",
       "      <td>7.0</td>\n",
       "      <td>5.0</td>\n",
       "      <td>0.0</td>\n",
       "      <td>991.896552</td>\n",
       "      <td>8.854274</td>\n",
       "      <td>203.0</td>\n",
       "      <td>422.167488</td>\n",
       "      <td>78.005757</td>\n",
       "      <td>203.0</td>\n",
       "      <td>0.0</td>\n",
       "    </tr>\n",
       "    <tr>\n",
       "      <th>2</th>\n",
       "      <td>1.0</td>\n",
       "      <td>109690878.0</td>\n",
       "      <td>109690918.0</td>\n",
       "      <td>-39.0</td>\n",
       "      <td>0.0</td>\n",
       "      <td>0.0</td>\n",
       "      <td>0.0</td>\n",
       "      <td>0.000000</td>\n",
       "      <td>1.0</td>\n",
       "      <td>0.400000</td>\n",
       "      <td>...</td>\n",
       "      <td>2.0</td>\n",
       "      <td>8.0</td>\n",
       "      <td>0.0</td>\n",
       "      <td>966.620690</td>\n",
       "      <td>38.728421</td>\n",
       "      <td>29.0</td>\n",
       "      <td>454.896552</td>\n",
       "      <td>102.198031</td>\n",
       "      <td>29.0</td>\n",
       "      <td>0.0</td>\n",
       "    </tr>\n",
       "  </tbody>\n",
       "</table>\n",
       "<p>3 rows × 42 columns</p>\n",
       "</div>"
      ],
      "text/plain": [
       "   chrom        start          end     Size  refN_cnt  refN_pct  segdup_cnt  \\\n",
       "0    1.0   72766323.0   72811839.0 -45516.0       0.0       0.0         4.0   \n",
       "1    1.0   96139975.0   96142391.0  -2416.0       0.0       0.0         0.0   \n",
       "2    1.0  109690878.0  109690918.0    -39.0       0.0       0.0         0.0   \n",
       "\n",
       "   segdup_pct  tandemrep_cnt  tandemrep_pct              ...                \\\n",
       "0    0.076523          110.0       0.059979              ...                 \n",
       "1    0.000000            2.0       0.014487              ...                 \n",
       "2    0.000000            1.0       0.400000              ...                 \n",
       "\n",
       "   Ill250.amb_reason_orientation_alignmentScore  \\\n",
       "0                                          89.0   \n",
       "1                                           7.0   \n",
       "2                                           2.0   \n",
       "\n",
       "   Ill250.amb_reason_orientation_orientation  Ill250.amb_reason_same_scores  \\\n",
       "0                                        2.0                            0.0   \n",
       "1                                        5.0                            0.0   \n",
       "2                                        8.0                            0.0   \n",
       "\n",
       "   Ill250.ref_alnScore_mean  Ill250.ref_alnScore_std  Ill250.ref_count  \\\n",
       "0                985.830076                20.181192            3019.0   \n",
       "1                991.896552                 8.854274             203.0   \n",
       "2                966.620690                38.728421              29.0   \n",
       "\n",
       "   Ill250.ref_insertSize_mean  Ill250.ref_insertSize_std  \\\n",
       "0                  416.447168                  84.434919   \n",
       "1                  422.167488                  78.005757   \n",
       "2                  454.896552                 102.198031   \n",
       "\n",
       "   Ill250.ref_reason_alignmentScore  Ill250.ref_reason_orientation  \n",
       "0                            3019.0                            0.0  \n",
       "1                             203.0                            0.0  \n",
       "2                              29.0                            0.0  \n",
       "\n",
       "[3 rows x 42 columns]"
      ]
     },
     "execution_count": 12,
     "metadata": {},
     "output_type": "execute_result"
    }
   ],
   "source": [
    "# Store header values in a list, will be used later to re-label the matrix post KNN imputation\n",
    "dftrain_header = list(df_train.columns.values)\n",
    "X.columns = dftrain_header\n",
    "X.head(3)"
   ]
  },
  {
   "cell_type": "code",
   "execution_count": 13,
   "metadata": {
    "collapsed": true
   },
   "outputs": [],
   "source": [
    "# Store Labels in a new 'Y' DataFrame\n",
    "Y = pd.DataFrame()\n",
    "Y = X['Label']"
   ]
  },
  {
   "cell_type": "code",
   "execution_count": 14,
   "metadata": {},
   "outputs": [
    {
     "data": {
      "text/plain": [
       "1.0    775\n",
       "0.0    962\n",
       "2.0    728\n",
       "dtype: int64"
      ]
     },
     "execution_count": 14,
     "metadata": {},
     "output_type": "execute_result"
    }
   ],
   "source": [
    "#Count the number of labels\n",
    "pd.value_counts(Y.values, sort=False)"
   ]
  },
  {
   "cell_type": "code",
   "execution_count": 15,
   "metadata": {
    "collapsed": true
   },
   "outputs": [],
   "source": [
    "# Note: originally selected 1000 of each label --> find out why some are lost"
   ]
  },
  {
   "cell_type": "code",
   "execution_count": 16,
   "metadata": {
    "collapsed": true
   },
   "outputs": [],
   "source": [
    "# Remove labels from feature set\n",
    "X.drop(['Label'],axis=1, inplace = True)"
   ]
  },
  {
   "cell_type": "code",
   "execution_count": 17,
   "metadata": {
    "collapsed": true
   },
   "outputs": [],
   "source": [
    "# Order features\n",
    "X4 = X.reindex_axis(sorted(X.columns), axis=1)"
   ]
  },
  {
   "cell_type": "markdown",
   "metadata": {},
   "source": [
    "***\n",
    "Machine Learning\n",
    "***\n",
    "\n",
    "<a id='machine_learning'></a>"
   ]
  },
  {
   "cell_type": "markdown",
   "metadata": {},
   "source": [
    "Description:\n",
    "\n",
    "   * In the following section a random forest model will be trained on svanalyzer data.\n",
    "   **FYI**: [see description below of the SVanalyzer data](#svan_1)\n",
    "       * The model was trained using [train/test split](http://scikit-learn.org/0.16/modules/generated/sklearn.cross_validation.train_test_split.html) where 70% of the data was used to train the model and the model performance was determined by predicting labels for the remaining 30% of the data\n",
    "       * Reminder: The labels for this training set and the following [prediction step](#prediction_step) are:\n",
    "           * Exact Match (1)\n",
    "           * Homozygous Reference (0)\n",
    "           * Inaccurate Call (2)\n",
    "           \n",
    "   * The trained model will be used to predict labels for 5000 randomly selected deletions [these datapoints were randomly selected from [union_170509_refalt.sort.vcf](ftp://ftp-trace.ncbi.nlm.nih.gov/giab/ftp/data/AshkenazimTrio/analysis/NIST_UnionSVs_05092017/)]\n",
    "   \n",
    "   "
   ]
  },
  {
   "cell_type": "markdown",
   "metadata": {},
   "source": [
    "<a id='svan_1'></a>\n",
    "* **Reminder - SVanalyzer data description:** \n",
    "     * **1000 Exact Match**: 1000 datapoints were randomly selected from the following [svanalyzer_union_170509_v0.3.0b.vcf](ftp://ftp-trace.ncbi.nlm.nih.gov/giab/ftp/data/AshkenazimTrio/analysis/NIST_UnionSVs_05092017/Preliminary_Integrations_v0.3.0/)\n",
    "     * **1000 Homozygous Reference**: 1000 datapoints were randomly selected from the following [svanalyzer_union_170509_v0.3.0b.vcf](ftp://ftp-trace.ncbi.nlm.nih.gov/giab/ftp/data/AshkenazimTrio/analysis/NIST_UnionSVs_05092017/Preliminary_Integrations_v0.3.0/)\n",
    "     * **1000 Inaccurate Calls**: 1000 datapoints were randomly selected from the following\n",
    "[svanalyzer_union_170509_refalt.2.2.2.clustered.uniquecalls.vcf](ftp://ftp-trace.ncbi.nlm.nih.gov/giab/ftp/data/AshkenazimTrio/analysis/NIST_UnionSVs_05092017/Preliminary_Integrations_v0.3.0/)\n",
    "   \n",
    "   * Source of Features: svviz, GA4GH [tandem repeat, segmental duplications, refN], R analysis [consensus genotype, GTsup]   \n",
    "    "
   ]
  },
  {
   "cell_type": "markdown",
   "metadata": {},
   "source": [
    "** Train Random Forest Classifier **"
   ]
  },
  {
   "cell_type": "markdown",
   "metadata": {},
   "source": [
    "<a id='train_test'></a>"
   ]
  },
  {
   "cell_type": "code",
   "execution_count": 18,
   "metadata": {
    "collapsed": true
   },
   "outputs": [],
   "source": [
    "# Train Test Split\n",
    "# Train on 70% of the data and test on 30%\n",
    "X_train, X_test, y_train, y_test = train_test_split(X4, Y, test_size=0.3, random_state=0)"
   ]
  },
  {
   "cell_type": "code",
   "execution_count": 19,
   "metadata": {},
   "outputs": [
    {
     "data": {
      "text/plain": [
       "RandomForestClassifier(bootstrap=True, class_weight=None, criterion='gini',\n",
       "            max_depth=None, max_features='auto', max_leaf_nodes=None,\n",
       "            min_impurity_split=1e-07, min_samples_leaf=1,\n",
       "            min_samples_split=2, min_weight_fraction_leaf=0.0,\n",
       "            n_estimators=10, n_jobs=1, oob_score=False, random_state=None,\n",
       "            verbose=0, warm_start=False)"
      ]
     },
     "execution_count": 19,
     "metadata": {},
     "output_type": "execute_result"
    }
   ],
   "source": [
    "# Train Random Forest Classifier\n",
    "model = RandomForestClassifier() \n",
    "model.fit(X_train, y_train)"
   ]
  },
  {
   "cell_type": "code",
   "execution_count": null,
   "metadata": {},
   "outputs": [],
   "source": [
    "# Feature Importance\n",
    "importances = model.feature_importances_\n",
    "indices = np.argsort(importances)[::-1]\n",
    "print(\"Feature ranking:\")\n",
    "\n",
    "for f in range(X_test.shape[1]):\n",
    "    print(\"%d. feature %d (%f)\" % (f + 1, indices[f], importances[indices[f]]))"
   ]
  },
  {
   "cell_type": "code",
   "execution_count": 20,
   "metadata": {},
   "outputs": [
    {
     "name": "stderr",
     "output_type": "stream",
     "text": [
      "/Users/lmc2/anaconda/envs/NIHFAES/lib/python3.5/site-packages/ipykernel/__main__.py:3: FutureWarning:\n",
      "\n",
      "sort is deprecated, use sort_values(inplace=True) for INPLACE sorting\n",
      "\n"
     ]
    },
    {
     "data": {
      "text/plain": [
       "<matplotlib.axes._subplots.AxesSubplot at 0x114315be0>"
      ]
     },
     "execution_count": 20,
     "metadata": {},
     "output_type": "execute_result"
    },
    {
     "data": {
      "image/png": "[encoded data removed]",
      "text/plain": [
       "<matplotlib.figure.Figure at 0x11432ac50>"
      ]
     },
     "metadata": {},
     "output_type": "display_data"
    }
   ],
   "source": [
    "%matplotlib inline\n",
    "feature_importances = pd.Series(model.feature_importances_, index=X_test.columns)\n",
    "feature_importances.sort()\n",
    "feature_importances.plot.bar()"
   ]
  },
  {
   "cell_type": "code",
   "execution_count": 21,
   "metadata": {},
   "outputs": [
    {
     "data": {
      "text/plain": [
       "1.0    545\n",
       "0.0    676\n",
       "2.0    504\n",
       "dtype: int64"
      ]
     },
     "execution_count": 21,
     "metadata": {},
     "output_type": "execute_result"
    }
   ],
   "source": [
    "#NOTE: Training Set - Show number of Hom Ref, Hom Var, Het Var datapoints the model was trained on\n",
    "ytrain = pd.DataFrame()\n",
    "ytrain['ytrain'] = y_train\n",
    "pd.value_counts(ytrain['ytrain'].values, sort=False)"
   ]
  },
  {
   "cell_type": "code",
   "execution_count": 22,
   "metadata": {
    "collapsed": true
   },
   "outputs": [],
   "source": [
    "pred = model.predict(X_test)"
   ]
  },
  {
   "cell_type": "code",
   "execution_count": 23,
   "metadata": {},
   "outputs": [
    {
     "data": {
      "text/plain": [
       "0.77567567567567564"
      ]
     },
     "execution_count": 23,
     "metadata": {},
     "output_type": "execute_result"
    }
   ],
   "source": [
    "precision_score(pred, y_test, average='micro') "
   ]
  },
  {
   "cell_type": "code",
   "execution_count": 24,
   "metadata": {},
   "outputs": [
    {
     "data": {
      "text/html": [
       "<div>\n",
       "<table border=\"1\" class=\"dataframe\">\n",
       "  <thead>\n",
       "    <tr style=\"text-align: right;\">\n",
       "      <th></th>\n",
       "      <th>Ill250.GT</th>\n",
       "      <th>Ill250.alt_alnScore_mean</th>\n",
       "      <th>Ill250.alt_alnScore_std</th>\n",
       "      <th>Ill250.alt_count</th>\n",
       "      <th>Ill250.alt_insertSize_mean</th>\n",
       "      <th>Ill250.alt_insertSize_std</th>\n",
       "      <th>Ill250.alt_reason_alignmentScore</th>\n",
       "      <th>Ill250.alt_reason_insertSizeScore</th>\n",
       "      <th>Ill250.alt_reason_orientation</th>\n",
       "      <th>Ill250.amb_alnScore_mean</th>\n",
       "      <th>...</th>\n",
       "      <th>Size</th>\n",
       "      <th>chrom</th>\n",
       "      <th>end</th>\n",
       "      <th>refN_cnt</th>\n",
       "      <th>refN_pct</th>\n",
       "      <th>segdup_cnt</th>\n",
       "      <th>segdup_pct</th>\n",
       "      <th>start</th>\n",
       "      <th>tandemrep_cnt</th>\n",
       "      <th>tandemrep_pct</th>\n",
       "    </tr>\n",
       "  </thead>\n",
       "  <tbody>\n",
       "    <tr>\n",
       "      <th>581</th>\n",
       "      <td>-1.0</td>\n",
       "      <td>973.929825</td>\n",
       "      <td>14.877110</td>\n",
       "      <td>57.0</td>\n",
       "      <td>419.54386</td>\n",
       "      <td>85.982877</td>\n",
       "      <td>57.0</td>\n",
       "      <td>0.0</td>\n",
       "      <td>0.0</td>\n",
       "      <td>887.694737</td>\n",
       "      <td>...</td>\n",
       "      <td>-34.0</td>\n",
       "      <td>6.0</td>\n",
       "      <td>74305662.0</td>\n",
       "      <td>0.0</td>\n",
       "      <td>0.0</td>\n",
       "      <td>0.0</td>\n",
       "      <td>0.0</td>\n",
       "      <td>74305627.0</td>\n",
       "      <td>1.0</td>\n",
       "      <td>1.000000</td>\n",
       "    </tr>\n",
       "    <tr>\n",
       "      <th>1366</th>\n",
       "      <td>0.0</td>\n",
       "      <td>0.000000</td>\n",
       "      <td>0.000000</td>\n",
       "      <td>0.0</td>\n",
       "      <td>0.00000</td>\n",
       "      <td>0.000000</td>\n",
       "      <td>0.0</td>\n",
       "      <td>0.0</td>\n",
       "      <td>0.0</td>\n",
       "      <td>860.469072</td>\n",
       "      <td>...</td>\n",
       "      <td>-63.0</td>\n",
       "      <td>4.0</td>\n",
       "      <td>3387751.0</td>\n",
       "      <td>0.0</td>\n",
       "      <td>0.0</td>\n",
       "      <td>0.0</td>\n",
       "      <td>0.0</td>\n",
       "      <td>3387687.0</td>\n",
       "      <td>0.0</td>\n",
       "      <td>0.000000</td>\n",
       "    </tr>\n",
       "    <tr>\n",
       "      <th>195</th>\n",
       "      <td>1.0</td>\n",
       "      <td>982.142857</td>\n",
       "      <td>7.899884</td>\n",
       "      <td>28.0</td>\n",
       "      <td>416.00000</td>\n",
       "      <td>81.548408</td>\n",
       "      <td>28.0</td>\n",
       "      <td>0.0</td>\n",
       "      <td>0.0</td>\n",
       "      <td>878.798995</td>\n",
       "      <td>...</td>\n",
       "      <td>-30.0</td>\n",
       "      <td>14.0</td>\n",
       "      <td>80096183.0</td>\n",
       "      <td>0.0</td>\n",
       "      <td>0.0</td>\n",
       "      <td>0.0</td>\n",
       "      <td>0.0</td>\n",
       "      <td>80096152.0</td>\n",
       "      <td>1.0</td>\n",
       "      <td>1.000000</td>\n",
       "    </tr>\n",
       "    <tr>\n",
       "      <th>1380</th>\n",
       "      <td>0.0</td>\n",
       "      <td>0.000000</td>\n",
       "      <td>0.000000</td>\n",
       "      <td>0.0</td>\n",
       "      <td>0.00000</td>\n",
       "      <td>0.000000</td>\n",
       "      <td>0.0</td>\n",
       "      <td>0.0</td>\n",
       "      <td>0.0</td>\n",
       "      <td>892.471429</td>\n",
       "      <td>...</td>\n",
       "      <td>-201.0</td>\n",
       "      <td>4.0</td>\n",
       "      <td>44018993.0</td>\n",
       "      <td>0.0</td>\n",
       "      <td>0.0</td>\n",
       "      <td>0.0</td>\n",
       "      <td>0.0</td>\n",
       "      <td>44018792.0</td>\n",
       "      <td>1.0</td>\n",
       "      <td>1.000000</td>\n",
       "    </tr>\n",
       "    <tr>\n",
       "      <th>878</th>\n",
       "      <td>0.0</td>\n",
       "      <td>0.000000</td>\n",
       "      <td>0.000000</td>\n",
       "      <td>0.0</td>\n",
       "      <td>0.00000</td>\n",
       "      <td>0.000000</td>\n",
       "      <td>0.0</td>\n",
       "      <td>0.0</td>\n",
       "      <td>0.0</td>\n",
       "      <td>906.129944</td>\n",
       "      <td>...</td>\n",
       "      <td>-23.0</td>\n",
       "      <td>10.0</td>\n",
       "      <td>114858945.0</td>\n",
       "      <td>0.0</td>\n",
       "      <td>0.0</td>\n",
       "      <td>0.0</td>\n",
       "      <td>0.0</td>\n",
       "      <td>114858922.0</td>\n",
       "      <td>1.0</td>\n",
       "      <td>0.130435</td>\n",
       "    </tr>\n",
       "  </tbody>\n",
       "</table>\n",
       "<p>5 rows × 41 columns</p>\n",
       "</div>"
      ],
      "text/plain": [
       "      Ill250.GT  Ill250.alt_alnScore_mean  Ill250.alt_alnScore_std  \\\n",
       "581        -1.0                973.929825                14.877110   \n",
       "1366        0.0                  0.000000                 0.000000   \n",
       "195         1.0                982.142857                 7.899884   \n",
       "1380        0.0                  0.000000                 0.000000   \n",
       "878         0.0                  0.000000                 0.000000   \n",
       "\n",
       "      Ill250.alt_count  Ill250.alt_insertSize_mean  Ill250.alt_insertSize_std  \\\n",
       "581               57.0                   419.54386                  85.982877   \n",
       "1366               0.0                     0.00000                   0.000000   \n",
       "195               28.0                   416.00000                  81.548408   \n",
       "1380               0.0                     0.00000                   0.000000   \n",
       "878                0.0                     0.00000                   0.000000   \n",
       "\n",
       "      Ill250.alt_reason_alignmentScore  Ill250.alt_reason_insertSizeScore  \\\n",
       "581                               57.0                                0.0   \n",
       "1366                               0.0                                0.0   \n",
       "195                               28.0                                0.0   \n",
       "1380                               0.0                                0.0   \n",
       "878                                0.0                                0.0   \n",
       "\n",
       "      Ill250.alt_reason_orientation  Ill250.amb_alnScore_mean      ...        \\\n",
       "581                             0.0                887.694737      ...         \n",
       "1366                            0.0                860.469072      ...         \n",
       "195                             0.0                878.798995      ...         \n",
       "1380                            0.0                892.471429      ...         \n",
       "878                             0.0                906.129944      ...         \n",
       "\n",
       "       Size  chrom          end  refN_cnt  refN_pct  segdup_cnt  segdup_pct  \\\n",
       "581   -34.0    6.0   74305662.0       0.0       0.0         0.0         0.0   \n",
       "1366  -63.0    4.0    3387751.0       0.0       0.0         0.0         0.0   \n",
       "195   -30.0   14.0   80096183.0       0.0       0.0         0.0         0.0   \n",
       "1380 -201.0    4.0   44018993.0       0.0       0.0         0.0         0.0   \n",
       "878   -23.0   10.0  114858945.0       0.0       0.0         0.0         0.0   \n",
       "\n",
       "            start  tandemrep_cnt  tandemrep_pct  \n",
       "581    74305627.0            1.0       1.000000  \n",
       "1366    3387687.0            0.0       0.000000  \n",
       "195    80096152.0            1.0       1.000000  \n",
       "1380   44018792.0            1.0       1.000000  \n",
       "878   114858922.0            1.0       0.130435  \n",
       "\n",
       "[5 rows x 41 columns]"
      ]
     },
     "execution_count": 24,
     "metadata": {},
     "output_type": "execute_result"
    }
   ],
   "source": [
    "# Add original labels and predicted labels back to the original dataframe\n",
    "df_Xtest = pd.DataFrame(X_test)\n",
    "df_Xtest.head()"
   ]
  },
  {
   "cell_type": "code",
   "execution_count": 25,
   "metadata": {
    "collapsed": true
   },
   "outputs": [],
   "source": [
    "labels = pd.DataFrame(y_test)"
   ]
  },
  {
   "cell_type": "code",
   "execution_count": 26,
   "metadata": {
    "collapsed": true
   },
   "outputs": [],
   "source": [
    "df_Xtest['predicted_label'] = pred\n",
    "df_Xtest['Label'] = df_train['Label']\n",
    "df_Xtest['chrom'] = df_train['chrom']\n",
    "df_Xtest['start'] = df_train['start']\n",
    "df_Xtest['end'] = df_train['end']\n",
    "# df_Xtest['Y_test'] = labels"
   ]
  },
  {
   "cell_type": "code",
   "execution_count": 27,
   "metadata": {},
   "outputs": [
    {
     "data": {
      "text/plain": [
       "0    286\n",
       "1    230\n",
       "2    224\n",
       "dtype: int64"
      ]
     },
     "execution_count": 27,
     "metadata": {},
     "output_type": "execute_result"
    }
   ],
   "source": [
    "pd.value_counts(df_Xtest['Label'].values, sort=False)"
   ]
  },
  {
   "cell_type": "code",
   "execution_count": 28,
   "metadata": {},
   "outputs": [
    {
     "data": {
      "text/plain": [
       "1.0    243\n",
       "0.0    337\n",
       "2.0    160\n",
       "dtype: int64"
      ]
     },
     "execution_count": 28,
     "metadata": {},
     "output_type": "execute_result"
    }
   ],
   "source": [
    "pd.value_counts(df_Xtest['predicted_label'].values, sort=False)"
   ]
  },
  {
   "cell_type": "code",
   "execution_count": 29,
   "metadata": {},
   "outputs": [
    {
     "name": "stdout",
     "output_type": "stream",
     "text": [
      "[[251   8  27]\n",
      " [  4 208  18]\n",
      " [ 82  27 115]]\n"
     ]
    }
   ],
   "source": [
    "from sklearn.metrics import confusion_matrix\n",
    "ytest = df_Xtest['Label']\n",
    "predict = df_Xtest['predicted_label']\n",
    "print(confusion_matrix(ytest, predict))"
   ]
  },
  {
   "cell_type": "code",
   "execution_count": 30,
   "metadata": {
    "collapsed": true
   },
   "outputs": [],
   "source": [
    "df_Xtest['Label'].replace(0, 'Homozygous_Reference', inplace=True)\n",
    "df_Xtest['Label'].replace(1, 'Exact_Match', inplace=True)\n",
    "df_Xtest['Label'].replace(2, 'Inaccurate_Call', inplace=True)\n",
    "df_Xtest['predicted_label'].replace(0.0, 'Homozygous_Reference', inplace=True)\n",
    "df_Xtest['predicted_label'].replace(1.0, 'Exact_Match', inplace=True)\n",
    "df_Xtest['predicted_label'].replace(2.0, 'Inaccurate_Call', inplace=True)"
   ]
  },
  {
   "cell_type": "code",
   "execution_count": 31,
   "metadata": {},
   "outputs": [
    {
     "data": {
      "text/html": [
       "<div>\n",
       "<table border=\"1\" class=\"dataframe\">\n",
       "  <thead>\n",
       "    <tr style=\"text-align: right;\">\n",
       "      <th>Predicted</th>\n",
       "      <th>Exact_Match</th>\n",
       "      <th>Homozygous_Reference</th>\n",
       "      <th>Inaccurate_Call</th>\n",
       "      <th>All</th>\n",
       "    </tr>\n",
       "    <tr>\n",
       "      <th>True</th>\n",
       "      <th></th>\n",
       "      <th></th>\n",
       "      <th></th>\n",
       "      <th></th>\n",
       "    </tr>\n",
       "  </thead>\n",
       "  <tbody>\n",
       "    <tr>\n",
       "      <th>Exact_Match</th>\n",
       "      <td>208</td>\n",
       "      <td>4</td>\n",
       "      <td>18</td>\n",
       "      <td>230</td>\n",
       "    </tr>\n",
       "    <tr>\n",
       "      <th>Homozygous_Reference</th>\n",
       "      <td>8</td>\n",
       "      <td>251</td>\n",
       "      <td>27</td>\n",
       "      <td>286</td>\n",
       "    </tr>\n",
       "    <tr>\n",
       "      <th>Inaccurate_Call</th>\n",
       "      <td>27</td>\n",
       "      <td>82</td>\n",
       "      <td>115</td>\n",
       "      <td>224</td>\n",
       "    </tr>\n",
       "    <tr>\n",
       "      <th>All</th>\n",
       "      <td>243</td>\n",
       "      <td>337</td>\n",
       "      <td>160</td>\n",
       "      <td>740</td>\n",
       "    </tr>\n",
       "  </tbody>\n",
       "</table>\n",
       "</div>"
      ],
      "text/plain": [
       "Predicted             Exact_Match  Homozygous_Reference  Inaccurate_Call  All\n",
       "True                                                                         \n",
       "Exact_Match                   208                     4               18  230\n",
       "Homozygous_Reference            8                   251               27  286\n",
       "Inaccurate_Call                27                    82              115  224\n",
       "All                           243                   337              160  740"
      ]
     },
     "execution_count": 31,
     "metadata": {},
     "output_type": "execute_result"
    }
   ],
   "source": [
    "pd.crosstab(ytest, predict, rownames=['True'], colnames=['Predicted'], margins=True)"
   ]
  },
  {
   "cell_type": "code",
   "execution_count": 32,
   "metadata": {},
   "outputs": [
    {
     "name": "stdout",
     "output_type": "stream",
     "text": [
      "                      precision    recall  f1-score   support\n",
      "\n",
      "         Exact_Match       0.86      0.90      0.88       230\n",
      "Homozygous_Reference       0.74      0.88      0.81       286\n",
      "     Inaccurate_Call       0.72      0.51      0.60       224\n",
      "\n",
      "         avg / total       0.77      0.78      0.77       740\n",
      "\n"
     ]
    }
   ],
   "source": [
    "from sklearn.metrics import classification_report\n",
    "print(classification_report(ytest, predict))"
   ]
  },
  {
   "cell_type": "markdown",
   "metadata": {},
   "source": [
    "***\n",
    "Predict\n",
    "***"
   ]
  },
  {
   "cell_type": "markdown",
   "metadata": {},
   "source": [
    "Description:\n",
    "\n",
    "   * In the [previous section](#machine_learning) the model was trained on svanalyzer data.\n",
    "   **FYI**: [see description below of the SVanalyzer data](#svan_2)\n",
    "       * The model was trained using [train/test split](#train_test) where 70% of the data was used to train the model and the model performance was determined by predicting labels for the remaining 30% of the data\n",
    "       * Reminder: The labels for this training set and the following [prediction step](#prediction_step) are:\n",
    "           * Exact Match (1)\n",
    "           * Homozygous Reference (0)\n",
    "           * Inaccurate Call (2)\n",
    "           \n",
    "   * The trained model is used in the following section to predict labels for 5000 randomly selected Deletions [these datapoints were randomly selected from [union_170509_refalt.sort.vcf](ftp://ftp-trace.ncbi.nlm.nih.gov/giab/ftp/data/AshkenazimTrio/analysis/NIST_UnionSVs_05092017/)]\n",
    "   \n",
    "   "
   ]
  },
  {
   "cell_type": "markdown",
   "metadata": {},
   "source": [
    "<a id='svan_2'></a>\n",
    "* **Reminder - SVanalyzer data description:** \n",
    "     * **1000 Exact Match**: 1000 datapoints were randomly selected from the following [svanalyzer_union_170509_v0.3.0b.vcf](ftp://ftp-trace.ncbi.nlm.nih.gov/giab/ftp/data/AshkenazimTrio/analysis/NIST_UnionSVs_05092017/Preliminary_Integrations_v0.3.0/)\n",
    "     * **1000 Homozygous Reference**: 1000 datapoints were randomly selected from the following [svanalyzer_union_170509_v0.3.0b.vcf](ftp://ftp-trace.ncbi.nlm.nih.gov/giab/ftp/data/AshkenazimTrio/analysis/NIST_UnionSVs_05092017/Preliminary_Integrations_v0.3.0/)\n",
    "     * **1000 Inaccurate Calls**: 1000 datapoints were randomly selected from the following\n",
    "[svanalyzer_union_170509_refalt.2.2.2.clustered.uniquecalls.vcf](ftp://ftp-trace.ncbi.nlm.nih.gov/giab/ftp/data/AshkenazimTrio/analysis/NIST_UnionSVs_05092017/Preliminary_Integrations_v0.3.0/)\n",
    "   \n",
    "   * Source of Features: svviz, GA4GH [tandem repeat, segmental duplications, refN], R analysis [consensus genotype, GTsup]   \n",
    "   "
   ]
  },
  {
   "cell_type": "markdown",
   "metadata": {},
   "source": [
    "** Load Data **"
   ]
  },
  {
   "cell_type": "code",
   "execution_count": 33,
   "metadata": {
    "collapsed": true
   },
   "outputs": [],
   "source": [
    "X2 = df_test"
   ]
  },
  {
   "cell_type": "markdown",
   "metadata": {},
   "source": [
    "** Impute missing values using KNN **"
   ]
  },
  {
   "cell_type": "code",
   "execution_count": 34,
   "metadata": {},
   "outputs": [
    {
     "name": "stdout",
     "output_type": "stream",
     "text": [
      "Imputing row 1/3828 with 1 missing, elapsed time: 4.693\n",
      "Imputing row 101/3828 with 1 missing, elapsed time: 4.699\n",
      "Imputing row 201/3828 with 1 missing, elapsed time: 4.704\n",
      "Imputing row 301/3828 with 1 missing, elapsed time: 4.710\n",
      "Imputing row 401/3828 with 1 missing, elapsed time: 4.716\n",
      "Imputing row 501/3828 with 1 missing, elapsed time: 4.722\n",
      "Imputing row 601/3828 with 1 missing, elapsed time: 4.729\n",
      "Imputing row 701/3828 with 1 missing, elapsed time: 4.735\n",
      "Imputing row 801/3828 with 1 missing, elapsed time: 4.741\n",
      "Imputing row 901/3828 with 1 missing, elapsed time: 4.747\n",
      "Imputing row 1001/3828 with 1 missing, elapsed time: 4.754\n",
      "Imputing row 1101/3828 with 1 missing, elapsed time: 4.760\n",
      "Imputing row 1201/3828 with 1 missing, elapsed time: 4.767\n",
      "Imputing row 1301/3828 with 1 missing, elapsed time: 4.776\n",
      "Imputing row 1401/3828 with 1 missing, elapsed time: 4.784\n",
      "Imputing row 1501/3828 with 1 missing, elapsed time: 4.789\n",
      "Imputing row 1601/3828 with 1 missing, elapsed time: 4.797\n",
      "Imputing row 1701/3828 with 1 missing, elapsed time: 4.807\n",
      "Imputing row 1801/3828 with 1 missing, elapsed time: 4.813\n",
      "Imputing row 1901/3828 with 1 missing, elapsed time: 4.819\n",
      "Imputing row 2001/3828 with 1 missing, elapsed time: 4.826\n",
      "Imputing row 2101/3828 with 1 missing, elapsed time: 4.832\n",
      "Imputing row 2201/3828 with 1 missing, elapsed time: 4.840\n",
      "Imputing row 2301/3828 with 1 missing, elapsed time: 4.845\n",
      "Imputing row 2401/3828 with 1 missing, elapsed time: 4.851\n",
      "Imputing row 2501/3828 with 1 missing, elapsed time: 4.858\n",
      "Imputing row 2601/3828 with 1 missing, elapsed time: 4.865\n",
      "Imputing row 2701/3828 with 1 missing, elapsed time: 4.871\n",
      "Imputing row 2801/3828 with 1 missing, elapsed time: 4.878\n",
      "Imputing row 2901/3828 with 1 missing, elapsed time: 4.884\n",
      "Imputing row 3001/3828 with 1 missing, elapsed time: 4.890\n",
      "Imputing row 3101/3828 with 1 missing, elapsed time: 4.898\n",
      "Imputing row 3201/3828 with 1 missing, elapsed time: 4.906\n",
      "Imputing row 3301/3828 with 1 missing, elapsed time: 4.913\n",
      "Imputing row 3401/3828 with 1 missing, elapsed time: 4.919\n",
      "Imputing row 3501/3828 with 1 missing, elapsed time: 4.925\n",
      "Imputing row 3601/3828 with 1 missing, elapsed time: 4.931\n",
      "Imputing row 3701/3828 with 1 missing, elapsed time: 4.936\n",
      "Imputing row 3801/3828 with 1 missing, elapsed time: 4.942\n"
     ]
    }
   ],
   "source": [
    "#Convert dataframe to matrix\n",
    "X2=X2.as_matrix()\n",
    "\n",
    "#Imput missing values from three closest observations\n",
    "X2_imputed=KNN(k=3).complete(X2)\n",
    "X2=pd.DataFrame(X2_imputed)"
   ]
  },
  {
   "cell_type": "code",
   "execution_count": 35,
   "metadata": {},
   "outputs": [
    {
     "data": {
      "text/html": [
       "<div>\n",
       "<table border=\"1\" class=\"dataframe\">\n",
       "  <thead>\n",
       "    <tr style=\"text-align: right;\">\n",
       "      <th></th>\n",
       "      <th>chrom</th>\n",
       "      <th>start</th>\n",
       "      <th>end</th>\n",
       "      <th>Size</th>\n",
       "      <th>refN_cnt</th>\n",
       "      <th>refN_pct</th>\n",
       "      <th>segdup_cnt</th>\n",
       "      <th>segdup_pct</th>\n",
       "      <th>tandemrep_cnt</th>\n",
       "      <th>tandemrep_pct</th>\n",
       "      <th>...</th>\n",
       "      <th>Ill250.amb_reason_orientation_alignmentScore</th>\n",
       "      <th>Ill250.amb_reason_orientation_orientation</th>\n",
       "      <th>Ill250.amb_reason_same_scores</th>\n",
       "      <th>Ill250.ref_alnScore_mean</th>\n",
       "      <th>Ill250.ref_alnScore_std</th>\n",
       "      <th>Ill250.ref_count</th>\n",
       "      <th>Ill250.ref_insertSize_mean</th>\n",
       "      <th>Ill250.ref_insertSize_std</th>\n",
       "      <th>Ill250.ref_reason_alignmentScore</th>\n",
       "      <th>Ill250.ref_reason_orientation</th>\n",
       "    </tr>\n",
       "  </thead>\n",
       "  <tbody>\n",
       "    <tr>\n",
       "      <th>0</th>\n",
       "      <td>1.0</td>\n",
       "      <td>37568322.0</td>\n",
       "      <td>37568587.0</td>\n",
       "      <td>-115.0</td>\n",
       "      <td>0.0</td>\n",
       "      <td>0.0</td>\n",
       "      <td>0.0</td>\n",
       "      <td>0.000000</td>\n",
       "      <td>3.0</td>\n",
       "      <td>0.818868</td>\n",
       "      <td>...</td>\n",
       "      <td>1.0</td>\n",
       "      <td>10.0</td>\n",
       "      <td>1.0</td>\n",
       "      <td>957.875000</td>\n",
       "      <td>38.589628</td>\n",
       "      <td>40.0</td>\n",
       "      <td>445.375</td>\n",
       "      <td>91.373871</td>\n",
       "      <td>39.0</td>\n",
       "      <td>1.0</td>\n",
       "    </tr>\n",
       "    <tr>\n",
       "      <th>1</th>\n",
       "      <td>1.0</td>\n",
       "      <td>112835104.0</td>\n",
       "      <td>112837661.0</td>\n",
       "      <td>-2534.0</td>\n",
       "      <td>0.0</td>\n",
       "      <td>0.0</td>\n",
       "      <td>1.0</td>\n",
       "      <td>0.890888</td>\n",
       "      <td>6.0</td>\n",
       "      <td>0.460305</td>\n",
       "      <td>...</td>\n",
       "      <td>1.0</td>\n",
       "      <td>4.0</td>\n",
       "      <td>0.0</td>\n",
       "      <td>970.000000</td>\n",
       "      <td>15.099669</td>\n",
       "      <td>4.0</td>\n",
       "      <td>365.750</td>\n",
       "      <td>53.932249</td>\n",
       "      <td>4.0</td>\n",
       "      <td>0.0</td>\n",
       "    </tr>\n",
       "    <tr>\n",
       "      <th>2</th>\n",
       "      <td>1.0</td>\n",
       "      <td>1092675.0</td>\n",
       "      <td>1092715.0</td>\n",
       "      <td>-40.0</td>\n",
       "      <td>0.0</td>\n",
       "      <td>0.0</td>\n",
       "      <td>0.0</td>\n",
       "      <td>0.000000</td>\n",
       "      <td>1.0</td>\n",
       "      <td>1.000000</td>\n",
       "      <td>...</td>\n",
       "      <td>0.0</td>\n",
       "      <td>5.0</td>\n",
       "      <td>0.0</td>\n",
       "      <td>973.666667</td>\n",
       "      <td>21.522598</td>\n",
       "      <td>6.0</td>\n",
       "      <td>396.500</td>\n",
       "      <td>44.962021</td>\n",
       "      <td>6.0</td>\n",
       "      <td>0.0</td>\n",
       "    </tr>\n",
       "  </tbody>\n",
       "</table>\n",
       "<p>3 rows × 41 columns</p>\n",
       "</div>"
      ],
      "text/plain": [
       "   chrom        start          end    Size  refN_cnt  refN_pct  segdup_cnt  \\\n",
       "0    1.0   37568322.0   37568587.0  -115.0       0.0       0.0         0.0   \n",
       "1    1.0  112835104.0  112837661.0 -2534.0       0.0       0.0         1.0   \n",
       "2    1.0    1092675.0    1092715.0   -40.0       0.0       0.0         0.0   \n",
       "\n",
       "   segdup_pct  tandemrep_cnt  tandemrep_pct              ...                \\\n",
       "0    0.000000            3.0       0.818868              ...                 \n",
       "1    0.890888            6.0       0.460305              ...                 \n",
       "2    0.000000            1.0       1.000000              ...                 \n",
       "\n",
       "   Ill250.amb_reason_orientation_alignmentScore  \\\n",
       "0                                           1.0   \n",
       "1                                           1.0   \n",
       "2                                           0.0   \n",
       "\n",
       "   Ill250.amb_reason_orientation_orientation  Ill250.amb_reason_same_scores  \\\n",
       "0                                       10.0                            1.0   \n",
       "1                                        4.0                            0.0   \n",
       "2                                        5.0                            0.0   \n",
       "\n",
       "   Ill250.ref_alnScore_mean  Ill250.ref_alnScore_std  Ill250.ref_count  \\\n",
       "0                957.875000                38.589628              40.0   \n",
       "1                970.000000                15.099669               4.0   \n",
       "2                973.666667                21.522598               6.0   \n",
       "\n",
       "   Ill250.ref_insertSize_mean  Ill250.ref_insertSize_std  \\\n",
       "0                     445.375                  91.373871   \n",
       "1                     365.750                  53.932249   \n",
       "2                     396.500                  44.962021   \n",
       "\n",
       "   Ill250.ref_reason_alignmentScore  Ill250.ref_reason_orientation  \n",
       "0                              39.0                            1.0  \n",
       "1                               4.0                            0.0  \n",
       "2                               6.0                            0.0  \n",
       "\n",
       "[3 rows x 41 columns]"
      ]
     },
     "execution_count": 35,
     "metadata": {},
     "output_type": "execute_result"
    }
   ],
   "source": [
    "dftest_header = list(df_test.columns.values)\n",
    "X2.columns = dftest_header\n",
    "X2.head(3)"
   ]
  },
  {
   "cell_type": "code",
   "execution_count": 36,
   "metadata": {},
   "outputs": [
    {
     "data": {
      "text/html": [
       "<div>\n",
       "<table border=\"1\" class=\"dataframe\">\n",
       "  <thead>\n",
       "    <tr style=\"text-align: right;\">\n",
       "      <th></th>\n",
       "      <th>chrom</th>\n",
       "      <th>start</th>\n",
       "      <th>end</th>\n",
       "      <th>Size</th>\n",
       "      <th>refN_cnt</th>\n",
       "      <th>refN_pct</th>\n",
       "      <th>segdup_cnt</th>\n",
       "      <th>segdup_pct</th>\n",
       "      <th>tandemrep_cnt</th>\n",
       "      <th>tandemrep_pct</th>\n",
       "      <th>...</th>\n",
       "      <th>Ill250.amb_reason_orientation_alignmentScore</th>\n",
       "      <th>Ill250.amb_reason_orientation_orientation</th>\n",
       "      <th>Ill250.amb_reason_same_scores</th>\n",
       "      <th>Ill250.ref_alnScore_mean</th>\n",
       "      <th>Ill250.ref_alnScore_std</th>\n",
       "      <th>Ill250.ref_count</th>\n",
       "      <th>Ill250.ref_insertSize_mean</th>\n",
       "      <th>Ill250.ref_insertSize_std</th>\n",
       "      <th>Ill250.ref_reason_alignmentScore</th>\n",
       "      <th>Ill250.ref_reason_orientation</th>\n",
       "    </tr>\n",
       "  </thead>\n",
       "  <tbody>\n",
       "    <tr>\n",
       "      <th>0</th>\n",
       "      <td>1.0</td>\n",
       "      <td>37568322.0</td>\n",
       "      <td>37568587.0</td>\n",
       "      <td>-115.0</td>\n",
       "      <td>0.0</td>\n",
       "      <td>0.0</td>\n",
       "      <td>0.0</td>\n",
       "      <td>0.000000</td>\n",
       "      <td>3.0</td>\n",
       "      <td>0.818868</td>\n",
       "      <td>...</td>\n",
       "      <td>1.0</td>\n",
       "      <td>10.0</td>\n",
       "      <td>1.0</td>\n",
       "      <td>957.875000</td>\n",
       "      <td>38.589628</td>\n",
       "      <td>40.0</td>\n",
       "      <td>445.375</td>\n",
       "      <td>91.373871</td>\n",
       "      <td>39.0</td>\n",
       "      <td>1.0</td>\n",
       "    </tr>\n",
       "    <tr>\n",
       "      <th>1</th>\n",
       "      <td>1.0</td>\n",
       "      <td>112835104.0</td>\n",
       "      <td>112837661.0</td>\n",
       "      <td>-2534.0</td>\n",
       "      <td>0.0</td>\n",
       "      <td>0.0</td>\n",
       "      <td>1.0</td>\n",
       "      <td>0.890888</td>\n",
       "      <td>6.0</td>\n",
       "      <td>0.460305</td>\n",
       "      <td>...</td>\n",
       "      <td>1.0</td>\n",
       "      <td>4.0</td>\n",
       "      <td>0.0</td>\n",
       "      <td>970.000000</td>\n",
       "      <td>15.099669</td>\n",
       "      <td>4.0</td>\n",
       "      <td>365.750</td>\n",
       "      <td>53.932249</td>\n",
       "      <td>4.0</td>\n",
       "      <td>0.0</td>\n",
       "    </tr>\n",
       "    <tr>\n",
       "      <th>2</th>\n",
       "      <td>1.0</td>\n",
       "      <td>1092675.0</td>\n",
       "      <td>1092715.0</td>\n",
       "      <td>-40.0</td>\n",
       "      <td>0.0</td>\n",
       "      <td>0.0</td>\n",
       "      <td>0.0</td>\n",
       "      <td>0.000000</td>\n",
       "      <td>1.0</td>\n",
       "      <td>1.000000</td>\n",
       "      <td>...</td>\n",
       "      <td>0.0</td>\n",
       "      <td>5.0</td>\n",
       "      <td>0.0</td>\n",
       "      <td>973.666667</td>\n",
       "      <td>21.522598</td>\n",
       "      <td>6.0</td>\n",
       "      <td>396.500</td>\n",
       "      <td>44.962021</td>\n",
       "      <td>6.0</td>\n",
       "      <td>0.0</td>\n",
       "    </tr>\n",
       "  </tbody>\n",
       "</table>\n",
       "<p>3 rows × 41 columns</p>\n",
       "</div>"
      ],
      "text/plain": [
       "   chrom        start          end    Size  refN_cnt  refN_pct  segdup_cnt  \\\n",
       "0    1.0   37568322.0   37568587.0  -115.0       0.0       0.0         0.0   \n",
       "1    1.0  112835104.0  112837661.0 -2534.0       0.0       0.0         1.0   \n",
       "2    1.0    1092675.0    1092715.0   -40.0       0.0       0.0         0.0   \n",
       "\n",
       "   segdup_pct  tandemrep_cnt  tandemrep_pct              ...                \\\n",
       "0    0.000000            3.0       0.818868              ...                 \n",
       "1    0.890888            6.0       0.460305              ...                 \n",
       "2    0.000000            1.0       1.000000              ...                 \n",
       "\n",
       "   Ill250.amb_reason_orientation_alignmentScore  \\\n",
       "0                                           1.0   \n",
       "1                                           1.0   \n",
       "2                                           0.0   \n",
       "\n",
       "   Ill250.amb_reason_orientation_orientation  Ill250.amb_reason_same_scores  \\\n",
       "0                                       10.0                            1.0   \n",
       "1                                        4.0                            0.0   \n",
       "2                                        5.0                            0.0   \n",
       "\n",
       "   Ill250.ref_alnScore_mean  Ill250.ref_alnScore_std  Ill250.ref_count  \\\n",
       "0                957.875000                38.589628              40.0   \n",
       "1                970.000000                15.099669               4.0   \n",
       "2                973.666667                21.522598               6.0   \n",
       "\n",
       "   Ill250.ref_insertSize_mean  Ill250.ref_insertSize_std  \\\n",
       "0                     445.375                  91.373871   \n",
       "1                     365.750                  53.932249   \n",
       "2                     396.500                  44.962021   \n",
       "\n",
       "   Ill250.ref_reason_alignmentScore  Ill250.ref_reason_orientation  \n",
       "0                              39.0                            1.0  \n",
       "1                               4.0                            0.0  \n",
       "2                               6.0                            0.0  \n",
       "\n",
       "[3 rows x 41 columns]"
      ]
     },
     "execution_count": 36,
     "metadata": {},
     "output_type": "execute_result"
    }
   ],
   "source": [
    "X3 = pd.DataFrame()\n",
    "X3 = X2\n",
    "X3.head(3)"
   ]
  },
  {
   "cell_type": "code",
   "execution_count": 37,
   "metadata": {
    "collapsed": true
   },
   "outputs": [],
   "source": [
    "# Order features\n",
    "X5 = X2.reindex_axis(sorted(X2.columns), axis=1)"
   ]
  },
  {
   "cell_type": "markdown",
   "metadata": {},
   "source": [
    "<a id='prediction_step'></a>"
   ]
  },
  {
   "cell_type": "code",
   "execution_count": 38,
   "metadata": {
    "collapsed": true
   },
   "outputs": [],
   "source": [
    "pred = model.predict(X5)"
   ]
  },
  {
   "cell_type": "code",
   "execution_count": 39,
   "metadata": {
    "collapsed": true
   },
   "outputs": [],
   "source": [
    "pred_prob = model.predict_proba(X5)"
   ]
  },
  {
   "cell_type": "code",
   "execution_count": 40,
   "metadata": {
    "collapsed": true
   },
   "outputs": [],
   "source": [
    "X5['predicted_label'] = pred\n",
    "X5['chrom'] = df_test_2['chrom']\n",
    "X5['start'] = df_test_2['start']\n",
    "X5['end'] = df_test_2['end']\n",
    "X5['Size'] = df_test_2['Size']\n",
    "X5['GTcons'] = df_test_2['GTcons']\n",
    "X5['GTsupp'] = df_test_2['GTsupp']\n",
    "X5['GTconswithoutIll250.GT'] = df_test_2['GTconswithoutIll250.GT']"
   ]
  },
  {
   "cell_type": "code",
   "execution_count": 41,
   "metadata": {
    "collapsed": true
   },
   "outputs": [],
   "source": [
    "X6 = pd.concat([X5, pd.DataFrame(pred_prob, columns=['1','2','3'])])"
   ]
  },
  {
   "cell_type": "code",
   "execution_count": null,
   "metadata": {
    "collapsed": true
   },
   "outputs": [],
   "source": [
    "X6.to_csv('/Volumes/lesleydata/SVanalyzer_ML/Oct122017_Revised_R/summary_plots/data/preliminary_df/250bp_pred_prob_DEL_SVanalyzer_revised_EMHRIC.csv', index=False)"
   ]
  },
  {
   "cell_type": "code",
   "execution_count": null,
   "metadata": {
    "collapsed": true
   },
   "outputs": [],
   "source": [
    "#Note: Reformat X6 csv"
   ]
  },
  {
   "cell_type": "code",
   "execution_count": 42,
   "metadata": {
    "collapsed": true
   },
   "outputs": [],
   "source": [
    "X6 = pd.read_csv('/Volumes/lesleydata/SVanalyzer_ML/Oct122017_Revised_R/summary_plots/data/preliminary_df/250bp_pred_prob_DEL_SVanalyzer_revised_EMHRIC.csv')"
   ]
  },
  {
   "cell_type": "code",
   "execution_count": 43,
   "metadata": {
    "collapsed": true
   },
   "outputs": [],
   "source": [
    "X6.rename(columns={'1': 'Homozygous_Reference_SVan_predprob_250bp'}, inplace=True)\n",
    "X6.rename(columns={'2': 'Exact_Match_predprob_250bp'}, inplace=True)\n",
    "X6.rename(columns={'3': 'Inaccurate_Call_predprob_250bp'}, inplace=True)\n",
    "X6.rename(columns={'predicted_label': '250bp_predicted_EMHRIC_label'}, inplace=True)"
   ]
  },
  {
   "cell_type": "code",
   "execution_count": null,
   "metadata": {},
   "outputs": [],
   "source": [
    "X6.head(3)"
   ]
  },
  {
   "cell_type": "code",
   "execution_count": null,
   "metadata": {
    "collapsed": true
   },
   "outputs": [],
   "source": [
    "X6.to_csv('/Volumes/lesleydata/SVanalyzer_ML/Oct122017_Revised_R/summary_plots/data/250bp_final_df_DEL_SVanalyzer_revised_EMHRIC.csv', index=False)"
   ]
  },
  {
   "cell_type": "markdown",
   "metadata": {},
   "source": [
    "***\n",
    "Label Analysis\n",
    "***"
   ]
  },
  {
   "cell_type": "markdown",
   "metadata": {},
   "source": [
    "Description:\n",
    "  * Comparison of model predicted labels [Exact Match, Homozygous Reference, Inaccurate Calls] to consensus genotype for the 5000 randomly selected datapoints from union_refalt.vcf for HG002 only"
   ]
  },
  {
   "cell_type": "code",
   "execution_count": 44,
   "metadata": {},
   "outputs": [
    {
     "name": "stdout",
     "output_type": "stream",
     "text": [
      "[[ 577   15  261]\n",
      " [  27 1935  232]\n",
      " [   3  727   51]]\n"
     ]
    }
   ],
   "source": [
    "from sklearn.metrics import confusion_matrix\n",
    "consensus_GT = X6['GTcons']\n",
    "predict = X6['250bp_predicted_EMHRIC_label']\n",
    "print(confusion_matrix(consensus_GT, predict))"
   ]
  },
  {
   "cell_type": "code",
   "execution_count": 45,
   "metadata": {},
   "outputs": [
    {
     "name": "stdout",
     "output_type": "stream",
     "text": [
      "[[ 577   15  261]\n",
      " [  27 1935  232]\n",
      " [   3  727   51]]\n"
     ]
    }
   ],
   "source": [
    "from sklearn.metrics import confusion_matrix\n",
    "GT_without_XX = X6['GTconswithoutIll250.GT']\n",
    "predict = X6['250bp_predicted_EMHRIC_label']\n",
    "print(confusion_matrix(consensus_GT, predict))"
   ]
  },
  {
   "cell_type": "code",
   "execution_count": 46,
   "metadata": {},
   "outputs": [
    {
     "data": {
      "text/plain": [
       "0     853\n",
       "2     781\n",
       "1    2194\n",
       "dtype: int64"
      ]
     },
     "execution_count": 46,
     "metadata": {},
     "output_type": "execute_result"
    }
   ],
   "source": [
    "pd.value_counts(df_test_2['GTconswithoutIll250.GT'].values, sort=False)"
   ]
  },
  {
   "cell_type": "code",
   "execution_count": 47,
   "metadata": {},
   "outputs": [
    {
     "data": {
      "text/plain": [
       "0     853\n",
       "2     781\n",
       "1    2194\n",
       "dtype: int64"
      ]
     },
     "execution_count": 47,
     "metadata": {},
     "output_type": "execute_result"
    }
   ],
   "source": [
    "pd.value_counts(df_test_2['GTcons'].values, sort=False)"
   ]
  },
  {
   "cell_type": "code",
   "execution_count": 48,
   "metadata": {
    "collapsed": true
   },
   "outputs": [],
   "source": [
    "X6['GTcons'].replace(-1, 'Unknown', inplace=True)\n",
    "X6['GTcons'].replace(0, 'Homozygous_Reference', inplace=True)\n",
    "X6['GTcons'].replace(1, 'Heterozygous_Variant', inplace=True)\n",
    "X6['GTcons'].replace(2, 'Homozygous_Variant', inplace=True)\n",
    "X6['250bp_predicted_EMHRIC_label'].replace(0.0, 'Homozygous_Reference_SVan', inplace=True)\n",
    "X6['250bp_predicted_EMHRIC_label'].replace(1.0, 'Exact_Match', inplace=True)\n",
    "X6['250bp_predicted_EMHRIC_label'].replace(2.0, 'Inaccurate_Call', inplace=True)"
   ]
  },
  {
   "cell_type": "code",
   "execution_count": 49,
   "metadata": {
    "collapsed": true
   },
   "outputs": [],
   "source": [
    "X6['GTconswithoutIll250.GT'].replace(-1, 'Unknown', inplace=True)\n",
    "X6['GTconswithoutIll250.GT'].replace(0, 'Homozygous_Reference', inplace=True)\n",
    "X6['GTconswithoutIll250.GT'].replace(1, 'Heterozygous_Variant', inplace=True)\n",
    "X6['GTconswithoutIll250.GT'].replace(2, 'Homozygous_Variant', inplace=True)"
   ]
  },
  {
   "cell_type": "markdown",
   "metadata": {},
   "source": [
    "** Compare SVanalyzer Labels to GTcons **"
   ]
  },
  {
   "cell_type": "code",
   "execution_count": 50,
   "metadata": {},
   "outputs": [
    {
     "data": {
      "text/html": [
       "<div>\n",
       "<table border=\"1\" class=\"dataframe\">\n",
       "  <thead>\n",
       "    <tr style=\"text-align: right;\">\n",
       "      <th>SVanalyzer_Label</th>\n",
       "      <th>Exact_Match</th>\n",
       "      <th>Homozygous_Reference_SVan</th>\n",
       "      <th>Inaccurate_Call</th>\n",
       "      <th>All</th>\n",
       "    </tr>\n",
       "    <tr>\n",
       "      <th>GTcons</th>\n",
       "      <th></th>\n",
       "      <th></th>\n",
       "      <th></th>\n",
       "      <th></th>\n",
       "    </tr>\n",
       "  </thead>\n",
       "  <tbody>\n",
       "    <tr>\n",
       "      <th>Heterozygous_Variant</th>\n",
       "      <td>1935</td>\n",
       "      <td>27</td>\n",
       "      <td>232</td>\n",
       "      <td>2194</td>\n",
       "    </tr>\n",
       "    <tr>\n",
       "      <th>Homozygous_Reference</th>\n",
       "      <td>15</td>\n",
       "      <td>577</td>\n",
       "      <td>261</td>\n",
       "      <td>853</td>\n",
       "    </tr>\n",
       "    <tr>\n",
       "      <th>Homozygous_Variant</th>\n",
       "      <td>727</td>\n",
       "      <td>3</td>\n",
       "      <td>51</td>\n",
       "      <td>781</td>\n",
       "    </tr>\n",
       "    <tr>\n",
       "      <th>All</th>\n",
       "      <td>2677</td>\n",
       "      <td>607</td>\n",
       "      <td>544</td>\n",
       "      <td>3828</td>\n",
       "    </tr>\n",
       "  </tbody>\n",
       "</table>\n",
       "</div>"
      ],
      "text/plain": [
       "SVanalyzer_Label      Exact_Match  Homozygous_Reference_SVan  Inaccurate_Call  \\\n",
       "GTcons                                                                          \n",
       "Heterozygous_Variant         1935                         27              232   \n",
       "Homozygous_Reference           15                        577              261   \n",
       "Homozygous_Variant            727                          3               51   \n",
       "All                          2677                        607              544   \n",
       "\n",
       "SVanalyzer_Label       All  \n",
       "GTcons                      \n",
       "Heterozygous_Variant  2194  \n",
       "Homozygous_Reference   853  \n",
       "Homozygous_Variant     781  \n",
       "All                   3828  "
      ]
     },
     "execution_count": 50,
     "metadata": {},
     "output_type": "execute_result"
    }
   ],
   "source": [
    "pd.crosstab(consensus_GT, predict, rownames=['GTcons'], colnames=['SVanalyzer_Label'], margins=True)"
   ]
  },
  {
   "cell_type": "markdown",
   "metadata": {},
   "source": [
    "** Compare SVanalyzer Labels to LOO Consensus GT **"
   ]
  },
  {
   "cell_type": "code",
   "execution_count": 51,
   "metadata": {},
   "outputs": [
    {
     "data": {
      "text/html": [
       "<div>\n",
       "<table border=\"1\" class=\"dataframe\">\n",
       "  <thead>\n",
       "    <tr style=\"text-align: right;\">\n",
       "      <th>SVanalyzer_Label</th>\n",
       "      <th>Exact_Match</th>\n",
       "      <th>Homozygous_Reference_SVan</th>\n",
       "      <th>Inaccurate_Call</th>\n",
       "      <th>All</th>\n",
       "    </tr>\n",
       "    <tr>\n",
       "      <th>GTcons_withoutXX</th>\n",
       "      <th></th>\n",
       "      <th></th>\n",
       "      <th></th>\n",
       "      <th></th>\n",
       "    </tr>\n",
       "  </thead>\n",
       "  <tbody>\n",
       "    <tr>\n",
       "      <th>Heterozygous_Variant</th>\n",
       "      <td>1935</td>\n",
       "      <td>27</td>\n",
       "      <td>232</td>\n",
       "      <td>2194</td>\n",
       "    </tr>\n",
       "    <tr>\n",
       "      <th>Homozygous_Reference</th>\n",
       "      <td>15</td>\n",
       "      <td>577</td>\n",
       "      <td>261</td>\n",
       "      <td>853</td>\n",
       "    </tr>\n",
       "    <tr>\n",
       "      <th>Homozygous_Variant</th>\n",
       "      <td>727</td>\n",
       "      <td>3</td>\n",
       "      <td>51</td>\n",
       "      <td>781</td>\n",
       "    </tr>\n",
       "    <tr>\n",
       "      <th>All</th>\n",
       "      <td>2677</td>\n",
       "      <td>607</td>\n",
       "      <td>544</td>\n",
       "      <td>3828</td>\n",
       "    </tr>\n",
       "  </tbody>\n",
       "</table>\n",
       "</div>"
      ],
      "text/plain": [
       "SVanalyzer_Label      Exact_Match  Homozygous_Reference_SVan  Inaccurate_Call  \\\n",
       "GTcons_withoutXX                                                                \n",
       "Heterozygous_Variant         1935                         27              232   \n",
       "Homozygous_Reference           15                        577              261   \n",
       "Homozygous_Variant            727                          3               51   \n",
       "All                          2677                        607              544   \n",
       "\n",
       "SVanalyzer_Label       All  \n",
       "GTcons_withoutXX            \n",
       "Heterozygous_Variant  2194  \n",
       "Homozygous_Reference   853  \n",
       "Homozygous_Variant     781  \n",
       "All                   3828  "
      ]
     },
     "execution_count": 51,
     "metadata": {},
     "output_type": "execute_result"
    }
   ],
   "source": [
    "pd.crosstab(GT_without_XX, predict, rownames=['GTcons_withoutXX'], colnames=['SVanalyzer_Label'], margins=True)"
   ]
  },
  {
   "cell_type": "markdown",
   "metadata": {},
   "source": [
    "** High Confidence Label Analysis**\n",
    "* **Reminder:** The labels predicted by the model are the following svanalyzer labels:\n",
    "    * Homozygous Reference: 0 \n",
    "    * Exact Match: 1 \n",
    "    * Inaccurate Call: 2 \n",
    "* Here **high confidence labels** are the labels predicted by the model that were also assigned a predict probability of either 0.9 or 1\n",
    "* The following is an analysis of predicted svanalyzer labels with predict probability >0.9"
   ]
  },
  {
   "cell_type": "code",
   "execution_count": 52,
   "metadata": {
    "collapsed": true
   },
   "outputs": [],
   "source": [
    "high_conf_labels = X6[(X6['Homozygous_Reference_SVan_predprob_250bp'] == 1) | (X6['Homozygous_Reference_SVan_predprob_250bp'] == 0.9) | (X6['Exact_Match_predprob_250bp'] == 1) | (X6['Exact_Match_predprob_250bp'] == 0.9) | (X6['Inaccurate_Call_predprob_250bp'] == 1) | (X6['Inaccurate_Call_predprob_250bp'] == 0.9)]"
   ]
  },
  {
   "cell_type": "markdown",
   "metadata": {},
   "source": [
    "** Consensus Genotype versus SVanalyzer Labels **"
   ]
  },
  {
   "cell_type": "code",
   "execution_count": 53,
   "metadata": {},
   "outputs": [
    {
     "data": {
      "text/html": [
       "<div>\n",
       "<table border=\"1\" class=\"dataframe\">\n",
       "  <thead>\n",
       "    <tr style=\"text-align: right;\">\n",
       "      <th>SVanalyzer_Label</th>\n",
       "      <th>Exact_Match</th>\n",
       "      <th>Homozygous_Reference_SVan</th>\n",
       "      <th>Inaccurate_Call</th>\n",
       "      <th>All</th>\n",
       "    </tr>\n",
       "    <tr>\n",
       "      <th>GTcons</th>\n",
       "      <th></th>\n",
       "      <th></th>\n",
       "      <th></th>\n",
       "      <th></th>\n",
       "    </tr>\n",
       "  </thead>\n",
       "  <tbody>\n",
       "    <tr>\n",
       "      <th>Heterozygous_Variant</th>\n",
       "      <td>1119</td>\n",
       "      <td>0</td>\n",
       "      <td>44</td>\n",
       "      <td>1163</td>\n",
       "    </tr>\n",
       "    <tr>\n",
       "      <th>Homozygous_Reference</th>\n",
       "      <td>0</td>\n",
       "      <td>206</td>\n",
       "      <td>36</td>\n",
       "      <td>242</td>\n",
       "    </tr>\n",
       "    <tr>\n",
       "      <th>Homozygous_Variant</th>\n",
       "      <td>492</td>\n",
       "      <td>0</td>\n",
       "      <td>3</td>\n",
       "      <td>495</td>\n",
       "    </tr>\n",
       "    <tr>\n",
       "      <th>All</th>\n",
       "      <td>1611</td>\n",
       "      <td>206</td>\n",
       "      <td>83</td>\n",
       "      <td>1900</td>\n",
       "    </tr>\n",
       "  </tbody>\n",
       "</table>\n",
       "</div>"
      ],
      "text/plain": [
       "SVanalyzer_Label      Exact_Match  Homozygous_Reference_SVan  Inaccurate_Call  \\\n",
       "GTcons                                                                          \n",
       "Heterozygous_Variant         1119                          0               44   \n",
       "Homozygous_Reference            0                        206               36   \n",
       "Homozygous_Variant            492                          0                3   \n",
       "All                          1611                        206               83   \n",
       "\n",
       "SVanalyzer_Label       All  \n",
       "GTcons                      \n",
       "Heterozygous_Variant  1163  \n",
       "Homozygous_Reference   242  \n",
       "Homozygous_Variant     495  \n",
       "All                   1900  "
      ]
     },
     "execution_count": 53,
     "metadata": {},
     "output_type": "execute_result"
    }
   ],
   "source": [
    "consensus_GT = high_conf_labels['GTcons']\n",
    "predict = high_conf_labels['250bp_predicted_EMHRIC_label']\n",
    "pd.crosstab(consensus_GT, predict, rownames=['GTcons'], colnames=['SVanalyzer_Label'], margins=True)"
   ]
  },
  {
   "cell_type": "markdown",
   "metadata": {},
   "source": [
    "** LOO Genotype versus SVanalyzer Labels **"
   ]
  },
  {
   "cell_type": "code",
   "execution_count": 54,
   "metadata": {},
   "outputs": [
    {
     "data": {
      "text/html": [
       "<div>\n",
       "<table border=\"1\" class=\"dataframe\">\n",
       "  <thead>\n",
       "    <tr style=\"text-align: right;\">\n",
       "      <th>SVanalyzer_Label</th>\n",
       "      <th>Exact_Match</th>\n",
       "      <th>Homozygous_Reference_SVan</th>\n",
       "      <th>Inaccurate_Call</th>\n",
       "      <th>All</th>\n",
       "    </tr>\n",
       "    <tr>\n",
       "      <th>GTcons_without_XX</th>\n",
       "      <th></th>\n",
       "      <th></th>\n",
       "      <th></th>\n",
       "      <th></th>\n",
       "    </tr>\n",
       "  </thead>\n",
       "  <tbody>\n",
       "    <tr>\n",
       "      <th>Heterozygous_Variant</th>\n",
       "      <td>1119</td>\n",
       "      <td>0</td>\n",
       "      <td>44</td>\n",
       "      <td>1163</td>\n",
       "    </tr>\n",
       "    <tr>\n",
       "      <th>Homozygous_Reference</th>\n",
       "      <td>0</td>\n",
       "      <td>206</td>\n",
       "      <td>36</td>\n",
       "      <td>242</td>\n",
       "    </tr>\n",
       "    <tr>\n",
       "      <th>Homozygous_Variant</th>\n",
       "      <td>492</td>\n",
       "      <td>0</td>\n",
       "      <td>3</td>\n",
       "      <td>495</td>\n",
       "    </tr>\n",
       "    <tr>\n",
       "      <th>All</th>\n",
       "      <td>1611</td>\n",
       "      <td>206</td>\n",
       "      <td>83</td>\n",
       "      <td>1900</td>\n",
       "    </tr>\n",
       "  </tbody>\n",
       "</table>\n",
       "</div>"
      ],
      "text/plain": [
       "SVanalyzer_Label      Exact_Match  Homozygous_Reference_SVan  Inaccurate_Call  \\\n",
       "GTcons_without_XX                                                               \n",
       "Heterozygous_Variant         1119                          0               44   \n",
       "Homozygous_Reference            0                        206               36   \n",
       "Homozygous_Variant            492                          0                3   \n",
       "All                          1611                        206               83   \n",
       "\n",
       "SVanalyzer_Label       All  \n",
       "GTcons_without_XX           \n",
       "Heterozygous_Variant  1163  \n",
       "Homozygous_Reference   242  \n",
       "Homozygous_Variant     495  \n",
       "All                   1900  "
      ]
     },
     "execution_count": 54,
     "metadata": {},
     "output_type": "execute_result"
    }
   ],
   "source": [
    "consensus_GT = high_conf_labels['GTconswithoutIll250.GT']\n",
    "predict = high_conf_labels['250bp_predicted_EMHRIC_label']\n",
    "pd.crosstab(consensus_GT, predict, rownames=['GTcons_without_XX'], colnames=['SVanalyzer_Label'], margins=True)"
   ]
  },
  {
   "cell_type": "markdown",
   "metadata": {},
   "source": [
    "***\n",
    "Graphs\n",
    "***"
   ]
  },
  {
   "cell_type": "markdown",
   "metadata": {},
   "source": [
    "** Exact Match **"
   ]
  },
  {
   "cell_type": "code",
   "execution_count": 55,
   "metadata": {
    "collapsed": true
   },
   "outputs": [],
   "source": [
    "em = X5['predicted_label'] == 1.0\n",
    "exact_match = X5[em]"
   ]
  },
  {
   "cell_type": "code",
   "execution_count": 56,
   "metadata": {},
   "outputs": [
    {
     "data": {
      "text/html": [
       "<div>\n",
       "<table border=\"1\" class=\"dataframe\">\n",
       "  <thead>\n",
       "    <tr style=\"text-align: right;\">\n",
       "      <th></th>\n",
       "      <th>Ill250.GT</th>\n",
       "      <th>Ill250.alt_alnScore_mean</th>\n",
       "      <th>Ill250.alt_alnScore_std</th>\n",
       "      <th>Ill250.alt_count</th>\n",
       "      <th>Ill250.alt_insertSize_mean</th>\n",
       "      <th>Ill250.alt_insertSize_std</th>\n",
       "      <th>Ill250.alt_reason_alignmentScore</th>\n",
       "      <th>Ill250.alt_reason_insertSizeScore</th>\n",
       "      <th>Ill250.alt_reason_orientation</th>\n",
       "      <th>Ill250.amb_alnScore_mean</th>\n",
       "      <th>...</th>\n",
       "      <th>refN_pct</th>\n",
       "      <th>segdup_cnt</th>\n",
       "      <th>segdup_pct</th>\n",
       "      <th>start</th>\n",
       "      <th>tandemrep_cnt</th>\n",
       "      <th>tandemrep_pct</th>\n",
       "      <th>predicted_label</th>\n",
       "      <th>GTcons</th>\n",
       "      <th>GTsupp</th>\n",
       "      <th>GTconswithoutIll250.GT</th>\n",
       "    </tr>\n",
       "  </thead>\n",
       "  <tbody>\n",
       "    <tr>\n",
       "      <th>1</th>\n",
       "      <td>-1.0</td>\n",
       "      <td>942.288889</td>\n",
       "      <td>19.746867</td>\n",
       "      <td>45.0</td>\n",
       "      <td>498.422222</td>\n",
       "      <td>83.528435</td>\n",
       "      <td>36.0</td>\n",
       "      <td>9.0</td>\n",
       "      <td>0.0</td>\n",
       "      <td>876.777778</td>\n",
       "      <td>...</td>\n",
       "      <td>0.0</td>\n",
       "      <td>1.0</td>\n",
       "      <td>0.890888</td>\n",
       "      <td>112835104</td>\n",
       "      <td>6.0</td>\n",
       "      <td>0.460305</td>\n",
       "      <td>1.0</td>\n",
       "      <td>2</td>\n",
       "      <td>1</td>\n",
       "      <td>2</td>\n",
       "    </tr>\n",
       "  </tbody>\n",
       "</table>\n",
       "<p>1 rows × 45 columns</p>\n",
       "</div>"
      ],
      "text/plain": [
       "   Ill250.GT  Ill250.alt_alnScore_mean  Ill250.alt_alnScore_std  \\\n",
       "1       -1.0                942.288889                19.746867   \n",
       "\n",
       "   Ill250.alt_count  Ill250.alt_insertSize_mean  Ill250.alt_insertSize_std  \\\n",
       "1              45.0                  498.422222                  83.528435   \n",
       "\n",
       "   Ill250.alt_reason_alignmentScore  Ill250.alt_reason_insertSizeScore  \\\n",
       "1                              36.0                                9.0   \n",
       "\n",
       "   Ill250.alt_reason_orientation  Ill250.amb_alnScore_mean  \\\n",
       "1                            0.0                876.777778   \n",
       "\n",
       "            ...            refN_pct  segdup_cnt  segdup_pct      start  \\\n",
       "1           ...                 0.0         1.0    0.890888  112835104   \n",
       "\n",
       "   tandemrep_cnt  tandemrep_pct  predicted_label  GTcons  GTsupp  \\\n",
       "1            6.0       0.460305              1.0       2       1   \n",
       "\n",
       "   GTconswithoutIll250.GT  \n",
       "1                       2  \n",
       "\n",
       "[1 rows x 45 columns]"
      ]
     },
     "execution_count": 56,
     "metadata": {},
     "output_type": "execute_result"
    }
   ],
   "source": [
    "exact_match.head(1)"
   ]
  },
  {
   "cell_type": "code",
   "execution_count": 57,
   "metadata": {},
   "outputs": [
    {
     "data": {
      "text/html": [
       "\n",
       "    <div class=\"bk-root\">\n",
       "        <a href=\"http://bokeh.pydata.org\" target=\"_blank\" class=\"bk-logo bk-logo-small bk-logo-notebook\"></a>\n",
       "        <span id=\"e1cc54e0-dd3b-4a0d-b535-f4e8772deae2\">Loading BokehJS ...</span>\n",
       "    </div>"
      ]
     },
     "metadata": {},
     "output_type": "display_data"
    },
    {
     "data": {
      "application/javascript": [
       "\n",
       "(function(global) {\n",
       "  function now() {\n",
       "    return new Date();\n",
       "  }\n",
       "\n",
       "  var force = true;\n",
       "\n",
       "  if (typeof (window._bokeh_onload_callbacks) === \"undefined\" || force === true) {\n",
       "    window._bokeh_onload_callbacks = [];\n",
       "    window._bokeh_is_loading = undefined;\n",
       "  }\n",
       "\n",
       "\n",
       "  \n",
       "  if (typeof (window._bokeh_timeout) === \"undefined\" || force === true) {\n",
       "    window._bokeh_timeout = Date.now() + 5000;\n",
       "    window._bokeh_failed_load = false;\n",
       "  }\n",
       "\n",
       "  var NB_LOAD_WARNING = {'data': {'text/html':\n",
       "     \"<div style='background-color: #fdd'>\\n\"+\n",
       "     \"<p>\\n\"+\n",
       "     \"BokehJS does not appear to have successfully loaded. If loading BokehJS from CDN, this \\n\"+\n",
       "     \"may be due to a slow or bad network connection. Possible fixes:\\n\"+\n",
       "     \"</p>\\n\"+\n",
       "     \"<ul>\\n\"+\n",
       "     \"<li>re-rerun `output_notebook()` to attempt to load from CDN again, or</li>\\n\"+\n",
       "     \"<li>use INLINE resources instead, as so:</li>\\n\"+\n",
       "     \"</ul>\\n\"+\n",
       "     \"<code>\\n\"+\n",
       "     \"from bokeh.resources import INLINE\\n\"+\n",
       "     \"output_notebook(resources=INLINE)\\n\"+\n",
       "     \"</code>\\n\"+\n",
       "     \"</div>\"}};\n",
       "\n",
       "  function display_loaded() {\n",
       "    if (window.Bokeh !== undefined) {\n",
       "      document.getElementById(\"e1cc54e0-dd3b-4a0d-b535-f4e8772deae2\").textContent = \"BokehJS successfully loaded.\";\n",
       "    } else if (Date.now() < window._bokeh_timeout) {\n",
       "      setTimeout(display_loaded, 100)\n",
       "    }\n",
       "  }\n",
       "\n",
       "  function run_callbacks() {\n",
       "    window._bokeh_onload_callbacks.forEach(function(callback) { callback() });\n",
       "    delete window._bokeh_onload_callbacks\n",
       "    console.info(\"Bokeh: all callbacks have finished\");\n",
       "  }\n",
       "\n",
       "  function load_libs(js_urls, callback) {\n",
       "    window._bokeh_onload_callbacks.push(callback);\n",
       "    if (window._bokeh_is_loading > 0) {\n",
       "      console.log(\"Bokeh: BokehJS is being loaded, scheduling callback at\", now());\n",
       "      return null;\n",
       "    }\n",
       "    if (js_urls == null || js_urls.length === 0) {\n",
       "      run_callbacks();\n",
       "      return null;\n",
       "    }\n",
       "    console.log(\"Bokeh: BokehJS not loaded, scheduling load and callback at\", now());\n",
       "    window._bokeh_is_loading = js_urls.length;\n",
       "    for (var i = 0; i < js_urls.length; i++) {\n",
       "      var url = js_urls[i];\n",
       "      var s = document.createElement('script');\n",
       "      s.src = url;\n",
       "      s.async = false;\n",
       "      s.onreadystatechange = s.onload = function() {\n",
       "        window._bokeh_is_loading--;\n",
       "        if (window._bokeh_is_loading === 0) {\n",
       "          console.log(\"Bokeh: all BokehJS libraries loaded\");\n",
       "          run_callbacks()\n",
       "        }\n",
       "      };\n",
       "      s.onerror = function() {\n",
       "        console.warn(\"failed to load library \" + url);\n",
       "      };\n",
       "      console.log(\"Bokeh: injecting script tag for BokehJS library: \", url);\n",
       "      document.getElementsByTagName(\"head\")[0].appendChild(s);\n",
       "    }\n",
       "  };var element = document.getElementById(\"e1cc54e0-dd3b-4a0d-b535-f4e8772deae2\");\n",
       "  if (element == null) {\n",
       "    console.log(\"Bokeh: ERROR: autoload.js configured with elementid 'e1cc54e0-dd3b-4a0d-b535-f4e8772deae2' but no matching script tag was found. \")\n",
       "    return false;\n",
       "  }\n",
       "\n",
       "  var js_urls = [\"https://cdn.pydata.org/bokeh/release/bokeh-0.12.4.min.js\", \"https://cdn.pydata.org/bokeh/release/bokeh-widgets-0.12.4.min.js\"];\n",
       "\n",
       "  var inline_js = [\n",
       "    function(Bokeh) {\n",
       "      Bokeh.set_log_level(\"info\");\n",
       "    },\n",
       "    \n",
       "    function(Bokeh) {\n",
       "      \n",
       "      document.getElementById(\"e1cc54e0-dd3b-4a0d-b535-f4e8772deae2\").textContent = \"BokehJS is loading...\";\n",
       "    },\n",
       "    function(Bokeh) {\n",
       "      console.log(\"Bokeh: injecting CSS: https://cdn.pydata.org/bokeh/release/bokeh-0.12.4.min.css\");\n",
       "      Bokeh.embed.inject_css(\"https://cdn.pydata.org/bokeh/release/bokeh-0.12.4.min.css\");\n",
       "      console.log(\"Bokeh: injecting CSS: https://cdn.pydata.org/bokeh/release/bokeh-widgets-0.12.4.min.css\");\n",
       "      Bokeh.embed.inject_css(\"https://cdn.pydata.org/bokeh/release/bokeh-widgets-0.12.4.min.css\");\n",
       "    }\n",
       "  ];\n",
       "\n",
       "  function run_inline_js() {\n",
       "    \n",
       "    if ((window.Bokeh !== undefined) || (force === true)) {\n",
       "      for (var i = 0; i < inline_js.length; i++) {\n",
       "        inline_js[i](window.Bokeh);\n",
       "      }if (force === true) {\n",
       "        display_loaded();\n",
       "      }} else if (Date.now() < window._bokeh_timeout) {\n",
       "      setTimeout(run_inline_js, 100);\n",
       "    } else if (!window._bokeh_failed_load) {\n",
       "      console.log(\"Bokeh: BokehJS failed to load within specified timeout.\");\n",
       "      window._bokeh_failed_load = true;\n",
       "    } else if (force !== true) {\n",
       "      var cell = $(document.getElementById(\"e1cc54e0-dd3b-4a0d-b535-f4e8772deae2\")).parents('.cell').data().cell;\n",
       "      cell.output_area.append_execute_result(NB_LOAD_WARNING)\n",
       "    }\n",
       "\n",
       "  }\n",
       "\n",
       "  if (window._bokeh_is_loading === 0) {\n",
       "    console.log(\"Bokeh: BokehJS loaded, going straight to plotting\");\n",
       "    run_inline_js();\n",
       "  } else {\n",
       "    load_libs(js_urls, function() {\n",
       "      console.log(\"Bokeh: BokehJS plotting callback run at\", now());\n",
       "      run_inline_js();\n",
       "    });\n",
       "  }\n",
       "}(this));"
      ]
     },
     "metadata": {},
     "output_type": "display_data"
    }
   ],
   "source": [
    "output_notebook()"
   ]
  },
  {
   "cell_type": "code",
   "execution_count": 58,
   "metadata": {},
   "outputs": [
    {
     "data": {
      "text/html": [
       "\n",
       "\n",
       "    <div class=\"bk-root\">\n",
       "        <div class=\"bk-plotdiv\" id=\"158bece3-3ab4-40c0-b3d2-9114dc2268aa\"></div>\n",
       "    </div>\n",
       "<script type=\"text/javascript\">\n",
       "  \n",
       "  (function(global) {\n",
       "    function now() {\n",
       "      return new Date();\n",
       "    }\n",
       "  \n",
       "    var force = false;\n",
       "  \n",
       "    if (typeof (window._bokeh_onload_callbacks) === \"undefined\" || force === true) {\n",
       "      window._bokeh_onload_callbacks = [];\n",
       "      window._bokeh_is_loading = undefined;\n",
       "    }\n",
       "  \n",
       "  \n",
       "    \n",
       "    if (typeof (window._bokeh_timeout) === \"undefined\" || force === true) {\n",
       "      window._bokeh_timeout = Date.now() + 0;\n",
       "      window._bokeh_failed_load = false;\n",
       "    }\n",
       "  \n",
       "    var NB_LOAD_WARNING = {'data': {'text/html':\n",
       "       \"<div style='background-color: #fdd'>\\n\"+\n",
       "       \"<p>\\n\"+\n",
       "       \"BokehJS does not appear to have successfully loaded. If loading BokehJS from CDN, this \\n\"+\n",
       "       \"may be due to a slow or bad network connection. Possible fixes:\\n\"+\n",
       "       \"</p>\\n\"+\n",
       "       \"<ul>\\n\"+\n",
       "       \"<li>re-rerun `output_notebook()` to attempt to load from CDN again, or</li>\\n\"+\n",
       "       \"<li>use INLINE resources instead, as so:</li>\\n\"+\n",
       "       \"</ul>\\n\"+\n",
       "       \"<code>\\n\"+\n",
       "       \"from bokeh.resources import INLINE\\n\"+\n",
       "       \"output_notebook(resources=INLINE)\\n\"+\n",
       "       \"</code>\\n\"+\n",
       "       \"</div>\"}};\n",
       "  \n",
       "    function display_loaded() {\n",
       "      if (window.Bokeh !== undefined) {\n",
       "        document.getElementById(\"158bece3-3ab4-40c0-b3d2-9114dc2268aa\").textContent = \"BokehJS successfully loaded.\";\n",
       "      } else if (Date.now() < window._bokeh_timeout) {\n",
       "        setTimeout(display_loaded, 100)\n",
       "      }\n",
       "    }\n",
       "  \n",
       "    function run_callbacks() {\n",
       "      window._bokeh_onload_callbacks.forEach(function(callback) { callback() });\n",
       "      delete window._bokeh_onload_callbacks\n",
       "      console.info(\"Bokeh: all callbacks have finished\");\n",
       "    }\n",
       "  \n",
       "    function load_libs(js_urls, callback) {\n",
       "      window._bokeh_onload_callbacks.push(callback);\n",
       "      if (window._bokeh_is_loading > 0) {\n",
       "        console.log(\"Bokeh: BokehJS is being loaded, scheduling callback at\", now());\n",
       "        return null;\n",
       "      }\n",
       "      if (js_urls == null || js_urls.length === 0) {\n",
       "        run_callbacks();\n",
       "        return null;\n",
       "      }\n",
       "      console.log(\"Bokeh: BokehJS not loaded, scheduling load and callback at\", now());\n",
       "      window._bokeh_is_loading = js_urls.length;\n",
       "      for (var i = 0; i < js_urls.length; i++) {\n",
       "        var url = js_urls[i];\n",
       "        var s = document.createElement('script');\n",
       "        s.src = url;\n",
       "        s.async = false;\n",
       "        s.onreadystatechange = s.onload = function() {\n",
       "          window._bokeh_is_loading--;\n",
       "          if (window._bokeh_is_loading === 0) {\n",
       "            console.log(\"Bokeh: all BokehJS libraries loaded\");\n",
       "            run_callbacks()\n",
       "          }\n",
       "        };\n",
       "        s.onerror = function() {\n",
       "          console.warn(\"failed to load library \" + url);\n",
       "        };\n",
       "        console.log(\"Bokeh: injecting script tag for BokehJS library: \", url);\n",
       "        document.getElementsByTagName(\"head\")[0].appendChild(s);\n",
       "      }\n",
       "    };var element = document.getElementById(\"158bece3-3ab4-40c0-b3d2-9114dc2268aa\");\n",
       "    if (element == null) {\n",
       "      console.log(\"Bokeh: ERROR: autoload.js configured with elementid '158bece3-3ab4-40c0-b3d2-9114dc2268aa' but no matching script tag was found. \")\n",
       "      return false;\n",
       "    }\n",
       "  \n",
       "    var js_urls = [];\n",
       "  \n",
       "    var inline_js = [\n",
       "      function(Bokeh) {\n",
       "        (function() {\n",
       "          var fn = function() {\n",
       "            var docs_json = {\"1554e307-2d35-4f7d-8eb6-f3d3ac7b15d5\":{\"roots\":{\"references\":[{\"attributes\":{\"callback\":null,\"column_names\":[\"label\",\"fill_alpha\",\"x\",\"line_alpha\",\"color\",\"height\",\"width\",\"line_color\",\"y\"],\"data\":{\"chart_index\":[\"(0.666667, 0.800000]\"],\"color\":[\"LightSlateGray\"],\"fill_alpha\":[0.8],\"height\":[0.0],\"label\":[\"(0.666667, 0.800000]\"],\"line_alpha\":[1.0],\"line_color\":[\"black\"],\"width\":[0.13333333333333341],\"x\":[\"0.7333335000000001\"],\"y\":[0.0]}},\"id\":\"9bd49a36-44c8-4925-9740-5e153024338a\",\"type\":\"ColumnDataSource\"},{\"attributes\":{\"fill_alpha\":{\"field\":\"fill_alpha\"},\"fill_color\":{\"field\":\"color\"},\"height\":{\"field\":\"height\",\"units\":\"data\"},\"line_color\":{\"field\":\"line_color\"},\"width\":{\"field\":\"width\",\"units\":\"data\"},\"x\":{\"field\":\"x\"},\"y\":{\"field\":\"y\"}},\"id\":\"a0fba30d-7ff3-4eb2-8987-c751d25ca2fa\",\"type\":\"Rect\"},{\"attributes\":{\"data_source\":{\"id\":\"1d2a2f2a-c142-45bf-a7ec-3b058e02ae04\",\"type\":\"ColumnDataSource\"},\"glyph\":{\"id\":\"556d7984-d0fa-4506-8201-cdee04f5a9c5\",\"type\":\"Rect\"},\"hover_glyph\":null,\"nonselection_glyph\":null,\"selection_glyph\":null},\"id\":\"d0d11402-faaa-49fe-8189-f12d1263f55f\",\"type\":\"GlyphRenderer\"},{\"attributes\":{\"callback\":null,\"column_names\":[\"label\",\"fill_alpha\",\"x\",\"line_alpha\",\"color\",\"height\",\"width\",\"line_color\",\"y\"],\"data\":{\"chart_index\":[\"(1.733333, 1.866667]\"],\"color\":[\"LightSlateGray\"],\"fill_alpha\":[0.8],\"height\":[0.0],\"label\":[\"(1.733333, 1.866667]\"],\"line_alpha\":[1.0],\"line_color\":[\"black\"],\"width\":[0.1333333333333333],\"x\":[\"1.8\"],\"y\":[0.0]}},\"id\":\"a5670c7c-b7e4-4c8b-8658-03127649ccd1\",\"type\":\"ColumnDataSource\"},{\"attributes\":{\"data_source\":{\"id\":\"9bd49a36-44c8-4925-9740-5e153024338a\",\"type\":\"ColumnDataSource\"},\"glyph\":{\"id\":\"1e9d7b85-cb7b-48c6-a1cd-2ea7756cd71d\",\"type\":\"Rect\"},\"hover_glyph\":null,\"nonselection_glyph\":null,\"selection_glyph\":null},\"id\":\"78534e3f-aa39-465f-86dd-77c82363bbed\",\"type\":\"GlyphRenderer\"},{\"attributes\":{\"data_source\":{\"id\":\"28374328-1145-4183-9bdf-0e3377e9c898\",\"type\":\"ColumnDataSource\"},\"glyph\":{\"id\":\"4d6b7cb4-ece4-47fb-a093-74ca35533dfe\",\"type\":\"Rect\"},\"hover_glyph\":null,\"nonselection_glyph\":null,\"selection_glyph\":null},\"id\":\"b033a24a-902a-49a0-bbbb-2d83e8c97b95\",\"type\":\"GlyphRenderer\"},{\"attributes\":{\"fill_alpha\":{\"field\":\"fill_alpha\"},\"fill_color\":{\"field\":\"color\"},\"height\":{\"field\":\"height\",\"units\":\"data\"},\"line_color\":{\"field\":\"line_color\"},\"width\":{\"field\":\"width\",\"units\":\"data\"},\"x\":{\"field\":\"x\"},\"y\":{\"field\":\"y\"}},\"id\":\"a9b22074-2534-4a86-b283-6076df19b57a\",\"type\":\"Rect\"},{\"attributes\":{\"bottom_units\":\"screen\",\"fill_alpha\":{\"value\":0.5},\"fill_color\":{\"value\":\"lightgrey\"},\"left_units\":\"screen\",\"level\":\"overlay\",\"line_alpha\":{\"value\":1.0},\"line_color\":{\"value\":\"black\"},\"line_dash\":[4,4],\"line_width\":{\"value\":2},\"plot\":null,\"render_mode\":\"css\",\"right_units\":\"screen\",\"top_units\":\"screen\"},\"id\":\"97619ce6-7c3c-45f8-b76a-42153348e8d7\",\"type\":\"BoxAnnotation\"},{\"attributes\":{\"plot\":{\"id\":\"14f1c636-d5a9-4a12-b3e4-824d2eb9c79b\",\"subtype\":\"Chart\",\"type\":\"Plot\"}},\"id\":\"659e7a2a-0a24-4dae-8f1f-f77547187904\",\"type\":\"HelpTool\"},{\"attributes\":{\"fill_alpha\":{\"field\":\"fill_alpha\"},\"fill_color\":{\"field\":\"color\"},\"height\":{\"field\":\"height\",\"units\":\"data\"},\"line_color\":{\"field\":\"line_color\"},\"width\":{\"field\":\"width\",\"units\":\"data\"},\"x\":{\"field\":\"x\"},\"y\":{\"field\":\"y\"}},\"id\":\"4bcadeb7-3b40-4ff9-9eb6-19c80e81354c\",\"type\":\"Rect\"},{\"attributes\":{\"fill_alpha\":{\"field\":\"fill_alpha\"},\"fill_color\":{\"field\":\"color\"},\"height\":{\"field\":\"height\",\"units\":\"data\"},\"line_color\":{\"field\":\"line_color\"},\"width\":{\"field\":\"width\",\"units\":\"data\"},\"x\":{\"field\":\"x\"},\"y\":{\"field\":\"y\"}},\"id\":\"3a514648-6638-4897-a1c3-b4741ce654be\",\"type\":\"Rect\"},{\"attributes\":{\"plot\":{\"id\":\"14f1c636-d5a9-4a12-b3e4-824d2eb9c79b\",\"subtype\":\"Chart\",\"type\":\"Plot\"}},\"id\":\"4123afeb-94e0-4be5-9831-9cb13fa5b572\",\"type\":\"PanTool\"},{\"attributes\":{\"axis_label\":\"Frequency\",\"formatter\":{\"id\":\"c0427aa0-ed67-479b-aa6e-6220a7af94b5\",\"type\":\"BasicTickFormatter\"},\"plot\":{\"id\":\"14f1c636-d5a9-4a12-b3e4-824d2eb9c79b\",\"subtype\":\"Chart\",\"type\":\"Plot\"},\"ticker\":{\"id\":\"f086ca23-4b75-4b90-8ed8-75b113e8e616\",\"type\":\"BasicTicker\"}},\"id\":\"fb6d58c4-dda8-4d06-be03-eba26f54b8e3\",\"type\":\"LinearAxis\"},{\"attributes\":{\"data_source\":{\"id\":\"1e864c26-2dc4-4b3c-a003-1c6c75a4073a\",\"type\":\"ColumnDataSource\"},\"glyph\":{\"id\":\"abd77cbb-173b-4210-8655-03d85eed9737\",\"type\":\"Rect\"},\"hover_glyph\":null,\"nonselection_glyph\":null,\"selection_glyph\":null},\"id\":\"bc1bb897-2ca3-4d1b-a961-8bbcadc52d07\",\"type\":\"GlyphRenderer\"},{\"attributes\":{\"fill_alpha\":{\"field\":\"fill_alpha\"},\"fill_color\":{\"field\":\"color\"},\"height\":{\"field\":\"height\",\"units\":\"data\"},\"line_color\":{\"field\":\"line_color\"},\"width\":{\"field\":\"width\",\"units\":\"data\"},\"x\":{\"field\":\"x\"},\"y\":{\"field\":\"y\"}},\"id\":\"4d6b7cb4-ece4-47fb-a093-74ca35533dfe\",\"type\":\"Rect\"},{\"attributes\":{\"plot\":{\"id\":\"14f1c636-d5a9-4a12-b3e4-824d2eb9c79b\",\"subtype\":\"Chart\",\"type\":\"Plot\"}},\"id\":\"816b9142-e720-475a-a9df-d19801c79c34\",\"type\":\"ResetTool\"},{\"attributes\":{\"callback\":null,\"column_names\":[\"label\",\"fill_alpha\",\"x\",\"line_alpha\",\"color\",\"height\",\"width\",\"line_color\",\"y\"],\"data\":{\"chart_index\":[\"(1.066667, 1.200000]\"],\"color\":[\"LightSlateGray\"],\"fill_alpha\":[0.8],\"height\":[0.0],\"label\":[\"(1.066667, 1.200000]\"],\"line_alpha\":[1.0],\"line_color\":[\"black\"],\"width\":[0.1333333333333333],\"x\":[\"1.1333335\"],\"y\":[0.0]}},\"id\":\"1d2a2f2a-c142-45bf-a7ec-3b058e02ae04\",\"type\":\"ColumnDataSource\"},{\"attributes\":{\"callback\":null,\"end\":2.0500001666666665,\"start\":-0.050000166666666665},\"id\":\"c0214975-8c70-4061-b873-c851c23dba17\",\"type\":\"Range1d\"},{\"attributes\":{\"fill_alpha\":{\"field\":\"fill_alpha\"},\"fill_color\":{\"field\":\"color\"},\"height\":{\"field\":\"height\",\"units\":\"data\"},\"line_color\":{\"field\":\"line_color\"},\"width\":{\"field\":\"width\",\"units\":\"data\"},\"x\":{\"field\":\"x\"},\"y\":{\"field\":\"y\"}},\"id\":\"8b1cb6a0-f46a-4c9b-aa35-f4846f6b4a8d\",\"type\":\"Rect\"},{\"attributes\":{\"data_source\":{\"id\":\"f5887e26-1f1a-480e-8174-c51551b6f1b4\",\"type\":\"ColumnDataSource\"},\"glyph\":{\"id\":\"8b1cb6a0-f46a-4c9b-aa35-f4846f6b4a8d\",\"type\":\"Rect\"},\"hover_glyph\":null,\"nonselection_glyph\":null,\"selection_glyph\":null},\"id\":\"24224d75-4e86-447a-b1a7-cde5deea1efa\",\"type\":\"GlyphRenderer\"},{\"attributes\":{\"callback\":null,\"column_names\":[\"label\",\"fill_alpha\",\"x\",\"line_alpha\",\"color\",\"height\",\"width\",\"line_color\",\"y\"],\"data\":{\"chart_index\":[\"(0.533333, 0.666667]\"],\"color\":[\"LightSlateGray\"],\"fill_alpha\":[0.8],\"height\":[0.0],\"label\":[\"(0.533333, 0.666667]\"],\"line_alpha\":[1.0],\"line_color\":[\"black\"],\"width\":[0.1333333333333333],\"x\":[\"0.6\"],\"y\":[0.0]}},\"id\":\"7caf6c9a-57d6-4e32-ac78-c03eced851cc\",\"type\":\"ColumnDataSource\"},{\"attributes\":{\"data_source\":{\"id\":\"93b91bb9-cb3e-44e8-b3f9-0904b0fc3ff7\",\"type\":\"ColumnDataSource\"},\"glyph\":{\"id\":\"16c47947-813d-4030-bb68-fae1a2529bab\",\"type\":\"Rect\"},\"hover_glyph\":null,\"nonselection_glyph\":null,\"selection_glyph\":null},\"id\":\"a306aac0-5809-446c-bf2b-d294a68ac1ca\",\"type\":\"GlyphRenderer\"},{\"attributes\":{\"fill_alpha\":{\"field\":\"fill_alpha\"},\"fill_color\":{\"field\":\"color\"},\"height\":{\"field\":\"height\",\"units\":\"data\"},\"line_color\":{\"field\":\"line_color\"},\"width\":{\"field\":\"width\",\"units\":\"data\"},\"x\":{\"field\":\"x\"},\"y\":{\"field\":\"y\"}},\"id\":\"b66e6520-fef8-4b09-ad9e-ad1a084343a2\",\"type\":\"Rect\"},{\"attributes\":{\"fill_alpha\":{\"field\":\"fill_alpha\"},\"fill_color\":{\"field\":\"color\"},\"height\":{\"field\":\"height\",\"units\":\"data\"},\"line_color\":{\"field\":\"line_color\"},\"width\":{\"field\":\"width\",\"units\":\"data\"},\"x\":{\"field\":\"x\"},\"y\":{\"field\":\"y\"}},\"id\":\"abd77cbb-173b-4210-8655-03d85eed9737\",\"type\":\"Rect\"},{\"attributes\":{\"fill_alpha\":{\"field\":\"fill_alpha\"},\"fill_color\":{\"field\":\"color\"},\"height\":{\"field\":\"height\",\"units\":\"data\"},\"line_color\":{\"field\":\"line_color\"},\"width\":{\"field\":\"width\",\"units\":\"data\"},\"x\":{\"field\":\"x\"},\"y\":{\"field\":\"y\"}},\"id\":\"9132d5f9-da97-4b9f-b67c-c6bf3063fe36\",\"type\":\"Rect\"},{\"attributes\":{\"callback\":null,\"column_names\":[\"label\",\"fill_alpha\",\"x\",\"line_alpha\",\"color\",\"height\",\"width\",\"line_color\",\"y\"],\"data\":{\"chart_index\":[\"[0.000000, 0.133333]\"],\"color\":[\"LightSlateGray\"],\"fill_alpha\":[0.8],\"height\":[33.0],\"label\":[\"[0.000000, 0.133333]\"],\"line_alpha\":[1.0],\"line_color\":[\"black\"],\"width\":[0.13333333333333333],\"x\":[\"0.0666665\"],\"y\":[16.5]}},\"id\":\"686ce94b-5550-4c7a-aa81-cf3277aa5043\",\"type\":\"ColumnDataSource\"},{\"attributes\":{\"data_source\":{\"id\":\"686ce94b-5550-4c7a-aa81-cf3277aa5043\",\"type\":\"ColumnDataSource\"},\"glyph\":{\"id\":\"b66e6520-fef8-4b09-ad9e-ad1a084343a2\",\"type\":\"Rect\"},\"hover_glyph\":null,\"nonselection_glyph\":null,\"selection_glyph\":null},\"id\":\"68b9826f-5866-48d0-8c0d-0e0d2c428866\",\"type\":\"GlyphRenderer\"},{\"attributes\":{\"data_source\":{\"id\":\"57081fa0-834c-47ff-8002-31288382089c\",\"type\":\"ColumnDataSource\"},\"glyph\":{\"id\":\"a0fba30d-7ff3-4eb2-8987-c751d25ca2fa\",\"type\":\"Rect\"},\"hover_glyph\":null,\"nonselection_glyph\":null,\"selection_glyph\":null},\"id\":\"fc063df6-4974-4e98-a032-2870825fe475\",\"type\":\"GlyphRenderer\"},{\"attributes\":{\"data_source\":{\"id\":\"d1958e66-ce99-40bb-8ef4-ef0de9b069cb\",\"type\":\"ColumnDataSource\"},\"glyph\":{\"id\":\"e1e1b53f-f28d-4129-a7e8-0515aed098c0\",\"type\":\"Rect\"},\"hover_glyph\":null,\"nonselection_glyph\":null,\"selection_glyph\":null},\"id\":\"9f7b087d-8160-4b5b-8406-d240cdb4343e\",\"type\":\"GlyphRenderer\"},{\"attributes\":{\"plot\":{\"id\":\"14f1c636-d5a9-4a12-b3e4-824d2eb9c79b\",\"subtype\":\"Chart\",\"type\":\"Plot\"}},\"id\":\"a2b98544-09c4-4b9f-8186-89d2ffc976f9\",\"type\":\"WheelZoomTool\"},{\"attributes\":{\"location\":\"top_left\",\"plot\":{\"id\":\"14f1c636-d5a9-4a12-b3e4-824d2eb9c79b\",\"subtype\":\"Chart\",\"type\":\"Plot\"}},\"id\":\"2edcab49-b559-4651-a940-9a1ca2569070\",\"type\":\"Legend\"},{\"attributes\":{\"fill_alpha\":{\"field\":\"fill_alpha\"},\"fill_color\":{\"field\":\"color\"},\"height\":{\"field\":\"height\",\"units\":\"data\"},\"line_color\":{\"field\":\"line_color\"},\"width\":{\"field\":\"width\",\"units\":\"data\"},\"x\":{\"field\":\"x\"},\"y\":{\"field\":\"y\"}},\"id\":\"16c47947-813d-4030-bb68-fae1a2529bab\",\"type\":\"Rect\"},{\"attributes\":{\"below\":[{\"id\":\"f5c37670-2c73-482f-99ee-13e544863a97\",\"type\":\"LinearAxis\"}],\"css_classes\":null,\"left\":[{\"id\":\"fb6d58c4-dda8-4d06-be03-eba26f54b8e3\",\"type\":\"LinearAxis\"}],\"plot_height\":250,\"renderers\":[{\"id\":\"97619ce6-7c3c-45f8-b76a-42153348e8d7\",\"type\":\"BoxAnnotation\"},{\"id\":\"68b9826f-5866-48d0-8c0d-0e0d2c428866\",\"type\":\"GlyphRenderer\"},{\"id\":\"bc1bb897-2ca3-4d1b-a961-8bbcadc52d07\",\"type\":\"GlyphRenderer\"},{\"id\":\"24224d75-4e86-447a-b1a7-cde5deea1efa\",\"type\":\"GlyphRenderer\"},{\"id\":\"b033a24a-902a-49a0-bbbb-2d83e8c97b95\",\"type\":\"GlyphRenderer\"},{\"id\":\"fcdd8cd5-793e-4f7e-98ab-ac81fc8d072c\",\"type\":\"GlyphRenderer\"},{\"id\":\"78534e3f-aa39-465f-86dd-77c82363bbed\",\"type\":\"GlyphRenderer\"},{\"id\":\"a306aac0-5809-446c-bf2b-d294a68ac1ca\",\"type\":\"GlyphRenderer\"},{\"id\":\"9f7b087d-8160-4b5b-8406-d240cdb4343e\",\"type\":\"GlyphRenderer\"},{\"id\":\"d0d11402-faaa-49fe-8189-f12d1263f55f\",\"type\":\"GlyphRenderer\"},{\"id\":\"fc063df6-4974-4e98-a032-2870825fe475\",\"type\":\"GlyphRenderer\"},{\"id\":\"b566b986-3c60-48fa-be38-4955579d4b04\",\"type\":\"GlyphRenderer\"},{\"id\":\"5e1458f0-4e4c-402a-9af3-d6f2ae3ef001\",\"type\":\"GlyphRenderer\"},{\"id\":\"7ac66768-077e-4cb5-bb1e-93d95c87689a\",\"type\":\"GlyphRenderer\"},{\"id\":\"f4d7aa45-9dec-4b61-b07f-cf9bc0bfa0bf\",\"type\":\"GlyphRenderer\"},{\"id\":\"82e23bbf-67d9-49bf-8791-61b05e99b5e2\",\"type\":\"GlyphRenderer\"},{\"id\":\"2edcab49-b559-4651-a940-9a1ca2569070\",\"type\":\"Legend\"},{\"id\":\"f5c37670-2c73-482f-99ee-13e544863a97\",\"type\":\"LinearAxis\"},{\"id\":\"fb6d58c4-dda8-4d06-be03-eba26f54b8e3\",\"type\":\"LinearAxis\"},{\"id\":\"c6772086-d212-4eb6-965d-f860dc442238\",\"type\":\"Grid\"}],\"title\":{\"id\":\"70ab8513-00e9-496d-b382-9afe3a4457c7\",\"type\":\"Title\"},\"tool_events\":{\"id\":\"ba27e0d8-e372-41e6-8891-e4439b9b7ebc\",\"type\":\"ToolEvents\"},\"toolbar\":{\"id\":\"21f0467c-7f4e-4039-90a3-93925f726d71\",\"type\":\"Toolbar\"},\"x_mapper_type\":\"auto\",\"x_range\":{\"id\":\"c0214975-8c70-4061-b873-c851c23dba17\",\"type\":\"Range1d\"},\"y_mapper_type\":\"auto\",\"y_range\":{\"id\":\"42a8ddb2-6eb7-4d94-a3a0-61f5862aedd0\",\"type\":\"Range1d\"}},\"id\":\"14f1c636-d5a9-4a12-b3e4-824d2eb9c79b\",\"subtype\":\"Chart\",\"type\":\"Plot\"},{\"attributes\":{\"fill_alpha\":{\"field\":\"fill_alpha\"},\"fill_color\":{\"field\":\"color\"},\"height\":{\"field\":\"height\",\"units\":\"data\"},\"line_color\":{\"field\":\"line_color\"},\"width\":{\"field\":\"width\",\"units\":\"data\"},\"x\":{\"field\":\"x\"},\"y\":{\"field\":\"y\"}},\"id\":\"1e9d7b85-cb7b-48c6-a1cd-2ea7756cd71d\",\"type\":\"Rect\"},{\"attributes\":{\"callback\":null,\"column_names\":[\"label\",\"fill_alpha\",\"x\",\"line_alpha\",\"color\",\"height\",\"width\",\"line_color\",\"y\"],\"data\":{\"chart_index\":[\"(0.933333, 1.066667]\"],\"color\":[\"LightSlateGray\"],\"fill_alpha\":[0.8],\"height\":[1900.0],\"label\":[\"(0.933333, 1.066667]\"],\"line_alpha\":[1.0],\"line_color\":[\"black\"],\"width\":[0.1333333333333333],\"x\":[\"1.0\"],\"y\":[950.0]}},\"id\":\"d1958e66-ce99-40bb-8ef4-ef0de9b069cb\",\"type\":\"ColumnDataSource\"},{\"attributes\":{\"dimension\":1,\"plot\":{\"id\":\"14f1c636-d5a9-4a12-b3e4-824d2eb9c79b\",\"subtype\":\"Chart\",\"type\":\"Plot\"},\"ticker\":{\"id\":\"f086ca23-4b75-4b90-8ed8-75b113e8e616\",\"type\":\"BasicTicker\"}},\"id\":\"c6772086-d212-4eb6-965d-f860dc442238\",\"type\":\"Grid\"},{\"attributes\":{\"callback\":null,\"column_names\":[\"label\",\"fill_alpha\",\"x\",\"line_alpha\",\"color\",\"height\",\"width\",\"line_color\",\"y\"],\"data\":{\"chart_index\":[\"(0.266667, 0.400000]\"],\"color\":[\"LightSlateGray\"],\"fill_alpha\":[0.8],\"height\":[0.0],\"label\":[\"(0.266667, 0.400000]\"],\"line_alpha\":[1.0],\"line_color\":[\"black\"],\"width\":[0.13333333333333336],\"x\":[\"0.3333335\"],\"y\":[0.0]}},\"id\":\"f5887e26-1f1a-480e-8174-c51551b6f1b4\",\"type\":\"ColumnDataSource\"},{\"attributes\":{\"callback\":null,\"column_names\":[\"label\",\"fill_alpha\",\"x\",\"line_alpha\",\"color\",\"height\",\"width\",\"line_color\",\"y\"],\"data\":{\"chart_index\":[\"(1.200000, 1.333333]\"],\"color\":[\"LightSlateGray\"],\"fill_alpha\":[0.8],\"height\":[0.0],\"label\":[\"(1.200000, 1.333333]\"],\"line_alpha\":[1.0],\"line_color\":[\"black\"],\"width\":[0.1333333333333333],\"x\":[\"1.2666665\"],\"y\":[0.0]}},\"id\":\"57081fa0-834c-47ff-8002-31288382089c\",\"type\":\"ColumnDataSource\"},{\"attributes\":{\"callback\":null,\"end\":2090.0},\"id\":\"42a8ddb2-6eb7-4d94-a3a0-61f5862aedd0\",\"type\":\"Range1d\"},{\"attributes\":{\"callback\":null,\"column_names\":[\"label\",\"fill_alpha\",\"x\",\"line_alpha\",\"color\",\"height\",\"width\",\"line_color\",\"y\"],\"data\":{\"chart_index\":[\"(0.133333, 0.266667]\"],\"color\":[\"LightSlateGray\"],\"fill_alpha\":[0.8],\"height\":[0.0],\"label\":[\"(0.133333, 0.266667]\"],\"line_alpha\":[1.0],\"line_color\":[\"black\"],\"width\":[0.13333333333333333],\"x\":[\"0.2\"],\"y\":[0.0]}},\"id\":\"1e864c26-2dc4-4b3c-a003-1c6c75a4073a\",\"type\":\"ColumnDataSource\"},{\"attributes\":{\"data_source\":{\"id\":\"56a35538-badf-400e-9f71-d36fc995a826\",\"type\":\"ColumnDataSource\"},\"glyph\":{\"id\":\"9132d5f9-da97-4b9f-b67c-c6bf3063fe36\",\"type\":\"Rect\"},\"hover_glyph\":null,\"nonselection_glyph\":null,\"selection_glyph\":null},\"id\":\"7ac66768-077e-4cb5-bb1e-93d95c87689a\",\"type\":\"GlyphRenderer\"},{\"attributes\":{\"callback\":null,\"column_names\":[\"label\",\"fill_alpha\",\"x\",\"line_alpha\",\"color\",\"height\",\"width\",\"line_color\",\"y\"],\"data\":{\"chart_index\":[\"(1.866667, 2.000000]\"],\"color\":[\"LightSlateGray\"],\"fill_alpha\":[0.8],\"height\":[712.0],\"label\":[\"(1.866667, 2.000000]\"],\"line_alpha\":[1.0],\"line_color\":[\"black\"],\"width\":[0.1333333333333333],\"x\":[\"1.9333335\"],\"y\":[356.0]}},\"id\":\"9a2947cc-c925-4139-be42-c6702146b076\",\"type\":\"ColumnDataSource\"},{\"attributes\":{\"data_source\":{\"id\":\"a5670c7c-b7e4-4c8b-8658-03127649ccd1\",\"type\":\"ColumnDataSource\"},\"glyph\":{\"id\":\"a9b22074-2534-4a86-b283-6076df19b57a\",\"type\":\"Rect\"},\"hover_glyph\":null,\"nonselection_glyph\":null,\"selection_glyph\":null},\"id\":\"f4d7aa45-9dec-4b61-b07f-cf9bc0bfa0bf\",\"type\":\"GlyphRenderer\"},{\"attributes\":{\"callback\":null,\"column_names\":[\"label\",\"fill_alpha\",\"x\",\"line_alpha\",\"color\",\"height\",\"width\",\"line_color\",\"y\"],\"data\":{\"chart_index\":[\"(0.800000, 0.933333]\"],\"color\":[\"LightSlateGray\"],\"fill_alpha\":[0.8],\"height\":[0.0],\"label\":[\"(0.800000, 0.933333]\"],\"line_alpha\":[1.0],\"line_color\":[\"black\"],\"width\":[0.1333333333333333],\"x\":[\"0.8666665\"],\"y\":[0.0]}},\"id\":\"93b91bb9-cb3e-44e8-b3f9-0904b0fc3ff7\",\"type\":\"ColumnDataSource\"},{\"attributes\":{\"data_source\":{\"id\":\"14bce74a-6b1b-4c95-aa2c-e071fce6ad2a\",\"type\":\"ColumnDataSource\"},\"glyph\":{\"id\":\"4bcadeb7-3b40-4ff9-9eb6-19c80e81354c\",\"type\":\"Rect\"},\"hover_glyph\":null,\"nonselection_glyph\":null,\"selection_glyph\":null},\"id\":\"5e1458f0-4e4c-402a-9af3-d6f2ae3ef001\",\"type\":\"GlyphRenderer\"},{\"attributes\":{},\"id\":\"c0427aa0-ed67-479b-aa6e-6220a7af94b5\",\"type\":\"BasicTickFormatter\"},{\"attributes\":{\"active_drag\":\"auto\",\"active_scroll\":\"auto\",\"active_tap\":\"auto\",\"tools\":[{\"id\":\"4123afeb-94e0-4be5-9831-9cb13fa5b572\",\"type\":\"PanTool\"},{\"id\":\"a2b98544-09c4-4b9f-8186-89d2ffc976f9\",\"type\":\"WheelZoomTool\"},{\"id\":\"99fc201b-d299-4bec-b5eb-9396720ac8fe\",\"type\":\"BoxZoomTool\"},{\"id\":\"0d000554-0dd7-49ef-8556-15d426efb53f\",\"type\":\"SaveTool\"},{\"id\":\"816b9142-e720-475a-a9df-d19801c79c34\",\"type\":\"ResetTool\"},{\"id\":\"659e7a2a-0a24-4dae-8f1f-f77547187904\",\"type\":\"HelpTool\"}]},\"id\":\"21f0467c-7f4e-4039-90a3-93925f726d71\",\"type\":\"Toolbar\"},{\"attributes\":{},\"id\":\"62cdb2ea-0778-4ad8-b2ff-948bcac19f93\",\"type\":\"BasicTickFormatter\"},{\"attributes\":{\"callback\":null,\"column_names\":[\"label\",\"fill_alpha\",\"x\",\"line_alpha\",\"color\",\"height\",\"width\",\"line_color\",\"y\"],\"data\":{\"chart_index\":[\"(1.466667, 1.600000]\"],\"color\":[\"LightSlateGray\"],\"fill_alpha\":[0.8],\"height\":[0.0],\"label\":[\"(1.466667, 1.600000]\"],\"line_alpha\":[1.0],\"line_color\":[\"black\"],\"width\":[0.13333333333333353],\"x\":[\"1.5333335\"],\"y\":[0.0]}},\"id\":\"14bce74a-6b1b-4c95-aa2c-e071fce6ad2a\",\"type\":\"ColumnDataSource\"},{\"attributes\":{\"data_source\":{\"id\":\"7caf6c9a-57d6-4e32-ac78-c03eced851cc\",\"type\":\"ColumnDataSource\"},\"glyph\":{\"id\":\"3a514648-6638-4897-a1c3-b4741ce654be\",\"type\":\"Rect\"},\"hover_glyph\":null,\"nonselection_glyph\":null,\"selection_glyph\":null},\"id\":\"fcdd8cd5-793e-4f7e-98ab-ac81fc8d072c\",\"type\":\"GlyphRenderer\"},{\"attributes\":{},\"id\":\"f086ca23-4b75-4b90-8ed8-75b113e8e616\",\"type\":\"BasicTicker\"},{\"attributes\":{\"plot\":{\"id\":\"14f1c636-d5a9-4a12-b3e4-824d2eb9c79b\",\"subtype\":\"Chart\",\"type\":\"Plot\"}},\"id\":\"0d000554-0dd7-49ef-8556-15d426efb53f\",\"type\":\"SaveTool\"},{\"attributes\":{\"callback\":null,\"column_names\":[\"label\",\"fill_alpha\",\"x\",\"line_alpha\",\"color\",\"height\",\"width\",\"line_color\",\"y\"],\"data\":{\"chart_index\":[\"(1.600000, 1.733333]\"],\"color\":[\"LightSlateGray\"],\"fill_alpha\":[0.8],\"height\":[0.0],\"label\":[\"(1.600000, 1.733333]\"],\"line_alpha\":[1.0],\"line_color\":[\"black\"],\"width\":[0.1333333333333333],\"x\":[\"1.6666665\"],\"y\":[0.0]}},\"id\":\"56a35538-badf-400e-9f71-d36fc995a826\",\"type\":\"ColumnDataSource\"},{\"attributes\":{\"overlay\":{\"id\":\"97619ce6-7c3c-45f8-b76a-42153348e8d7\",\"type\":\"BoxAnnotation\"},\"plot\":{\"id\":\"14f1c636-d5a9-4a12-b3e4-824d2eb9c79b\",\"subtype\":\"Chart\",\"type\":\"Plot\"}},\"id\":\"99fc201b-d299-4bec-b5eb-9396720ac8fe\",\"type\":\"BoxZoomTool\"},{\"attributes\":{\"data_source\":{\"id\":\"a9b97561-42f6-4205-88f4-a0baac948ecb\",\"type\":\"ColumnDataSource\"},\"glyph\":{\"id\":\"72e0c24b-d82b-497d-9486-673495921e18\",\"type\":\"Rect\"},\"hover_glyph\":null,\"nonselection_glyph\":null,\"selection_glyph\":null},\"id\":\"b566b986-3c60-48fa-be38-4955579d4b04\",\"type\":\"GlyphRenderer\"},{\"attributes\":{\"fill_alpha\":{\"field\":\"fill_alpha\"},\"fill_color\":{\"field\":\"color\"},\"height\":{\"field\":\"height\",\"units\":\"data\"},\"line_color\":{\"field\":\"line_color\"},\"width\":{\"field\":\"width\",\"units\":\"data\"},\"x\":{\"field\":\"x\"},\"y\":{\"field\":\"y\"}},\"id\":\"e1e1b53f-f28d-4129-a7e8-0515aed098c0\",\"type\":\"Rect\"},{\"attributes\":{\"plot\":null,\"text\":\"Exact_Match_HG002: Consensust GT\"},\"id\":\"70ab8513-00e9-496d-b382-9afe3a4457c7\",\"type\":\"Title\"},{\"attributes\":{\"axis_label\":\"GTcons\",\"formatter\":{\"id\":\"62cdb2ea-0778-4ad8-b2ff-948bcac19f93\",\"type\":\"BasicTickFormatter\"},\"plot\":{\"id\":\"14f1c636-d5a9-4a12-b3e4-824d2eb9c79b\",\"subtype\":\"Chart\",\"type\":\"Plot\"},\"ticker\":{\"id\":\"9587a7fd-fe85-4696-9801-bc2a696fe520\",\"type\":\"BasicTicker\"}},\"id\":\"f5c37670-2c73-482f-99ee-13e544863a97\",\"type\":\"LinearAxis\"},{\"attributes\":{},\"id\":\"ba27e0d8-e372-41e6-8891-e4439b9b7ebc\",\"type\":\"ToolEvents\"},{\"attributes\":{\"fill_alpha\":{\"field\":\"fill_alpha\"},\"fill_color\":{\"field\":\"color\"},\"height\":{\"field\":\"height\",\"units\":\"data\"},\"line_color\":{\"field\":\"line_color\"},\"width\":{\"field\":\"width\",\"units\":\"data\"},\"x\":{\"field\":\"x\"},\"y\":{\"field\":\"y\"}},\"id\":\"72e0c24b-d82b-497d-9486-673495921e18\",\"type\":\"Rect\"},{\"attributes\":{\"callback\":null,\"column_names\":[\"label\",\"fill_alpha\",\"x\",\"line_alpha\",\"color\",\"height\",\"width\",\"line_color\",\"y\"],\"data\":{\"chart_index\":[\"(0.400000, 0.533333]\"],\"color\":[\"LightSlateGray\"],\"fill_alpha\":[0.8],\"height\":[0.0],\"label\":[\"(0.400000, 0.533333]\"],\"line_alpha\":[1.0],\"line_color\":[\"black\"],\"width\":[0.1333333333333333],\"x\":[\"0.4666665\"],\"y\":[0.0]}},\"id\":\"28374328-1145-4183-9bdf-0e3377e9c898\",\"type\":\"ColumnDataSource\"},{\"attributes\":{\"data_source\":{\"id\":\"9a2947cc-c925-4139-be42-c6702146b076\",\"type\":\"ColumnDataSource\"},\"glyph\":{\"id\":\"119ebe03-44fe-4a61-b382-55464b5dbf59\",\"type\":\"Rect\"},\"hover_glyph\":null,\"nonselection_glyph\":null,\"selection_glyph\":null},\"id\":\"82e23bbf-67d9-49bf-8791-61b05e99b5e2\",\"type\":\"GlyphRenderer\"},{\"attributes\":{\"fill_alpha\":{\"field\":\"fill_alpha\"},\"fill_color\":{\"field\":\"color\"},\"height\":{\"field\":\"height\",\"units\":\"data\"},\"line_color\":{\"field\":\"line_color\"},\"width\":{\"field\":\"width\",\"units\":\"data\"},\"x\":{\"field\":\"x\"},\"y\":{\"field\":\"y\"}},\"id\":\"556d7984-d0fa-4506-8201-cdee04f5a9c5\",\"type\":\"Rect\"},{\"attributes\":{\"fill_alpha\":{\"field\":\"fill_alpha\"},\"fill_color\":{\"field\":\"color\"},\"height\":{\"field\":\"height\",\"units\":\"data\"},\"line_color\":{\"field\":\"line_color\"},\"width\":{\"field\":\"width\",\"units\":\"data\"},\"x\":{\"field\":\"x\"},\"y\":{\"field\":\"y\"}},\"id\":\"119ebe03-44fe-4a61-b382-55464b5dbf59\",\"type\":\"Rect\"},{\"attributes\":{\"callback\":null,\"column_names\":[\"label\",\"fill_alpha\",\"x\",\"line_alpha\",\"color\",\"height\",\"width\",\"line_color\",\"y\"],\"data\":{\"chart_index\":[\"(1.333333, 1.466667]\"],\"color\":[\"LightSlateGray\"],\"fill_alpha\":[0.8],\"height\":[0.0],\"label\":[\"(1.333333, 1.466667]\"],\"line_alpha\":[1.0],\"line_color\":[\"black\"],\"width\":[0.1333333333333333],\"x\":[\"1.4\"],\"y\":[0.0]}},\"id\":\"a9b97561-42f6-4205-88f4-a0baac948ecb\",\"type\":\"ColumnDataSource\"},{\"attributes\":{},\"id\":\"9587a7fd-fe85-4696-9801-bc2a696fe520\",\"type\":\"BasicTicker\"}],\"root_ids\":[\"14f1c636-d5a9-4a12-b3e4-824d2eb9c79b\"]},\"title\":\"Bokeh Application\",\"version\":\"0.12.4\"}};\n",
       "            var render_items = [{\"docid\":\"1554e307-2d35-4f7d-8eb6-f3d3ac7b15d5\",\"elementid\":\"158bece3-3ab4-40c0-b3d2-9114dc2268aa\",\"modelid\":\"14f1c636-d5a9-4a12-b3e4-824d2eb9c79b\"}];\n",
       "            \n",
       "            Bokeh.embed.embed_items(docs_json, render_items);\n",
       "          };\n",
       "          if (document.readyState != \"loading\") fn();\n",
       "          else document.addEventListener(\"DOMContentLoaded\", fn);\n",
       "        })();\n",
       "      },\n",
       "      function(Bokeh) {\n",
       "      }\n",
       "    ];\n",
       "  \n",
       "    function run_inline_js() {\n",
       "      \n",
       "      if ((window.Bokeh !== undefined) || (force === true)) {\n",
       "        for (var i = 0; i < inline_js.length; i++) {\n",
       "          inline_js[i](window.Bokeh);\n",
       "        }if (force === true) {\n",
       "          display_loaded();\n",
       "        }} else if (Date.now() < window._bokeh_timeout) {\n",
       "        setTimeout(run_inline_js, 100);\n",
       "      } else if (!window._bokeh_failed_load) {\n",
       "        console.log(\"Bokeh: BokehJS failed to load within specified timeout.\");\n",
       "        window._bokeh_failed_load = true;\n",
       "      } else if (force !== true) {\n",
       "        var cell = $(document.getElementById(\"158bece3-3ab4-40c0-b3d2-9114dc2268aa\")).parents('.cell').data().cell;\n",
       "        cell.output_area.append_execute_result(NB_LOAD_WARNING)\n",
       "      }\n",
       "  \n",
       "    }\n",
       "  \n",
       "    if (window._bokeh_is_loading === 0) {\n",
       "      console.log(\"Bokeh: BokehJS loaded, going straight to plotting\");\n",
       "      run_inline_js();\n",
       "    } else {\n",
       "      load_libs(js_urls, function() {\n",
       "        console.log(\"Bokeh: BokehJS plotting callback run at\", now());\n",
       "        run_inline_js();\n",
       "      });\n",
       "    }\n",
       "  }(this));\n",
       "</script>"
      ]
     },
     "metadata": {},
     "output_type": "display_data"
    }
   ],
   "source": [
    "p = figure()\n",
    "p = Histogram(exact_match, values='GTcons', title='Exact_Match_HG002: Consensust GT', color='LightSlateGray', bins=15, plot_height=250, xlabel=\"GTcons\", ylabel=\"Frequency\")\n",
    "show(p)"
   ]
  },
  {
   "cell_type": "markdown",
   "metadata": {},
   "source": [
    "** Homozygous Reference **"
   ]
  },
  {
   "cell_type": "code",
   "execution_count": 59,
   "metadata": {},
   "outputs": [
    {
     "data": {
      "text/html": [
       "<div>\n",
       "<table border=\"1\" class=\"dataframe\">\n",
       "  <thead>\n",
       "    <tr style=\"text-align: right;\">\n",
       "      <th></th>\n",
       "      <th>Ill250.GT</th>\n",
       "      <th>Ill250.alt_alnScore_mean</th>\n",
       "      <th>Ill250.alt_alnScore_std</th>\n",
       "      <th>Ill250.alt_count</th>\n",
       "      <th>Ill250.alt_insertSize_mean</th>\n",
       "      <th>Ill250.alt_insertSize_std</th>\n",
       "      <th>Ill250.alt_reason_alignmentScore</th>\n",
       "      <th>Ill250.alt_reason_insertSizeScore</th>\n",
       "      <th>Ill250.alt_reason_orientation</th>\n",
       "      <th>Ill250.amb_alnScore_mean</th>\n",
       "      <th>...</th>\n",
       "      <th>refN_pct</th>\n",
       "      <th>segdup_cnt</th>\n",
       "      <th>segdup_pct</th>\n",
       "      <th>start</th>\n",
       "      <th>tandemrep_cnt</th>\n",
       "      <th>tandemrep_pct</th>\n",
       "      <th>predicted_label</th>\n",
       "      <th>GTcons</th>\n",
       "      <th>GTsupp</th>\n",
       "      <th>GTconswithoutIll250.GT</th>\n",
       "    </tr>\n",
       "  </thead>\n",
       "  <tbody>\n",
       "    <tr>\n",
       "      <th>5</th>\n",
       "      <td>-1.0</td>\n",
       "      <td>978.333333</td>\n",
       "      <td>17.48968</td>\n",
       "      <td>6.0</td>\n",
       "      <td>430.833333</td>\n",
       "      <td>75.987755</td>\n",
       "      <td>6.0</td>\n",
       "      <td>0.0</td>\n",
       "      <td>0.0</td>\n",
       "      <td>875.13369</td>\n",
       "      <td>...</td>\n",
       "      <td>0.0</td>\n",
       "      <td>0.0</td>\n",
       "      <td>0.0</td>\n",
       "      <td>4999647</td>\n",
       "      <td>0.0</td>\n",
       "      <td>0.0</td>\n",
       "      <td>0.0</td>\n",
       "      <td>1</td>\n",
       "      <td>1</td>\n",
       "      <td>1</td>\n",
       "    </tr>\n",
       "  </tbody>\n",
       "</table>\n",
       "<p>1 rows × 45 columns</p>\n",
       "</div>"
      ],
      "text/plain": [
       "   Ill250.GT  Ill250.alt_alnScore_mean  Ill250.alt_alnScore_std  \\\n",
       "5       -1.0                978.333333                 17.48968   \n",
       "\n",
       "   Ill250.alt_count  Ill250.alt_insertSize_mean  Ill250.alt_insertSize_std  \\\n",
       "5               6.0                  430.833333                  75.987755   \n",
       "\n",
       "   Ill250.alt_reason_alignmentScore  Ill250.alt_reason_insertSizeScore  \\\n",
       "5                               6.0                                0.0   \n",
       "\n",
       "   Ill250.alt_reason_orientation  Ill250.amb_alnScore_mean  \\\n",
       "5                            0.0                 875.13369   \n",
       "\n",
       "            ...            refN_pct  segdup_cnt  segdup_pct    start  \\\n",
       "5           ...                 0.0         0.0         0.0  4999647   \n",
       "\n",
       "   tandemrep_cnt  tandemrep_pct  predicted_label  GTcons  GTsupp  \\\n",
       "5            0.0            0.0              0.0       1       1   \n",
       "\n",
       "   GTconswithoutIll250.GT  \n",
       "5                       1  \n",
       "\n",
       "[1 rows x 45 columns]"
      ]
     },
     "execution_count": 59,
     "metadata": {},
     "output_type": "execute_result"
    }
   ],
   "source": [
    "hr = X5['predicted_label'] == 0.0\n",
    "hom_ref = X5[hr]\n",
    "hom_ref.head(1)"
   ]
  },
  {
   "cell_type": "code",
   "execution_count": 60,
   "metadata": {},
   "outputs": [
    {
     "data": {
      "text/html": [
       "\n",
       "\n",
       "    <div class=\"bk-root\">\n",
       "        <div class=\"bk-plotdiv\" id=\"d9fb72ca-d057-48c3-a8d2-22c3000310d0\"></div>\n",
       "    </div>\n",
       "<script type=\"text/javascript\">\n",
       "  \n",
       "  (function(global) {\n",
       "    function now() {\n",
       "      return new Date();\n",
       "    }\n",
       "  \n",
       "    var force = false;\n",
       "  \n",
       "    if (typeof (window._bokeh_onload_callbacks) === \"undefined\" || force === true) {\n",
       "      window._bokeh_onload_callbacks = [];\n",
       "      window._bokeh_is_loading = undefined;\n",
       "    }\n",
       "  \n",
       "  \n",
       "    \n",
       "    if (typeof (window._bokeh_timeout) === \"undefined\" || force === true) {\n",
       "      window._bokeh_timeout = Date.now() + 0;\n",
       "      window._bokeh_failed_load = false;\n",
       "    }\n",
       "  \n",
       "    var NB_LOAD_WARNING = {'data': {'text/html':\n",
       "       \"<div style='background-color: #fdd'>\\n\"+\n",
       "       \"<p>\\n\"+\n",
       "       \"BokehJS does not appear to have successfully loaded. If loading BokehJS from CDN, this \\n\"+\n",
       "       \"may be due to a slow or bad network connection. Possible fixes:\\n\"+\n",
       "       \"</p>\\n\"+\n",
       "       \"<ul>\\n\"+\n",
       "       \"<li>re-rerun `output_notebook()` to attempt to load from CDN again, or</li>\\n\"+\n",
       "       \"<li>use INLINE resources instead, as so:</li>\\n\"+\n",
       "       \"</ul>\\n\"+\n",
       "       \"<code>\\n\"+\n",
       "       \"from bokeh.resources import INLINE\\n\"+\n",
       "       \"output_notebook(resources=INLINE)\\n\"+\n",
       "       \"</code>\\n\"+\n",
       "       \"</div>\"}};\n",
       "  \n",
       "    function display_loaded() {\n",
       "      if (window.Bokeh !== undefined) {\n",
       "        document.getElementById(\"d9fb72ca-d057-48c3-a8d2-22c3000310d0\").textContent = \"BokehJS successfully loaded.\";\n",
       "      } else if (Date.now() < window._bokeh_timeout) {\n",
       "        setTimeout(display_loaded, 100)\n",
       "      }\n",
       "    }\n",
       "  \n",
       "    function run_callbacks() {\n",
       "      window._bokeh_onload_callbacks.forEach(function(callback) { callback() });\n",
       "      delete window._bokeh_onload_callbacks\n",
       "      console.info(\"Bokeh: all callbacks have finished\");\n",
       "    }\n",
       "  \n",
       "    function load_libs(js_urls, callback) {\n",
       "      window._bokeh_onload_callbacks.push(callback);\n",
       "      if (window._bokeh_is_loading > 0) {\n",
       "        console.log(\"Bokeh: BokehJS is being loaded, scheduling callback at\", now());\n",
       "        return null;\n",
       "      }\n",
       "      if (js_urls == null || js_urls.length === 0) {\n",
       "        run_callbacks();\n",
       "        return null;\n",
       "      }\n",
       "      console.log(\"Bokeh: BokehJS not loaded, scheduling load and callback at\", now());\n",
       "      window._bokeh_is_loading = js_urls.length;\n",
       "      for (var i = 0; i < js_urls.length; i++) {\n",
       "        var url = js_urls[i];\n",
       "        var s = document.createElement('script');\n",
       "        s.src = url;\n",
       "        s.async = false;\n",
       "        s.onreadystatechange = s.onload = function() {\n",
       "          window._bokeh_is_loading--;\n",
       "          if (window._bokeh_is_loading === 0) {\n",
       "            console.log(\"Bokeh: all BokehJS libraries loaded\");\n",
       "            run_callbacks()\n",
       "          }\n",
       "        };\n",
       "        s.onerror = function() {\n",
       "          console.warn(\"failed to load library \" + url);\n",
       "        };\n",
       "        console.log(\"Bokeh: injecting script tag for BokehJS library: \", url);\n",
       "        document.getElementsByTagName(\"head\")[0].appendChild(s);\n",
       "      }\n",
       "    };var element = document.getElementById(\"d9fb72ca-d057-48c3-a8d2-22c3000310d0\");\n",
       "    if (element == null) {\n",
       "      console.log(\"Bokeh: ERROR: autoload.js configured with elementid 'd9fb72ca-d057-48c3-a8d2-22c3000310d0' but no matching script tag was found. \")\n",
       "      return false;\n",
       "    }\n",
       "  \n",
       "    var js_urls = [];\n",
       "  \n",
       "    var inline_js = [\n",
       "      function(Bokeh) {\n",
       "        (function() {\n",
       "          var fn = function() {\n",
       "            var docs_json = {\"67e47139-aec9-4cce-a01b-125cb5f5d7cd\":{\"roots\":{\"references\":[{\"attributes\":{\"fill_alpha\":{\"field\":\"fill_alpha\"},\"fill_color\":{\"field\":\"color\"},\"height\":{\"field\":\"height\",\"units\":\"data\"},\"line_color\":{\"field\":\"line_color\"},\"width\":{\"field\":\"width\",\"units\":\"data\"},\"x\":{\"field\":\"x\"},\"y\":{\"field\":\"y\"}},\"id\":\"6eb29d56-1644-4131-8d43-635b74e180db\",\"type\":\"Rect\"},{\"attributes\":{\"data_source\":{\"id\":\"c0115684-7a9f-4159-9fcb-c38dd2352477\",\"type\":\"ColumnDataSource\"},\"glyph\":{\"id\":\"f877ef38-b83e-4dfc-b856-b4824e855bc3\",\"type\":\"Rect\"},\"hover_glyph\":null,\"nonselection_glyph\":null,\"selection_glyph\":null},\"id\":\"345890d3-9c7c-4727-a695-2dce03e90893\",\"type\":\"GlyphRenderer\"},{\"attributes\":{\"fill_alpha\":{\"field\":\"fill_alpha\"},\"fill_color\":{\"field\":\"color\"},\"height\":{\"field\":\"height\",\"units\":\"data\"},\"line_color\":{\"field\":\"line_color\"},\"width\":{\"field\":\"width\",\"units\":\"data\"},\"x\":{\"field\":\"x\"},\"y\":{\"field\":\"y\"}},\"id\":\"807d810a-70bd-4130-9e72-5363827ae628\",\"type\":\"Rect\"},{\"attributes\":{\"callback\":null,\"column_names\":[\"label\",\"fill_alpha\",\"x\",\"line_alpha\",\"color\",\"height\",\"width\",\"line_color\",\"y\"],\"data\":{\"chart_index\":[\"(1.866667, 2.000000]\"],\"color\":[\"LightSlateGray\"],\"fill_alpha\":[0.8],\"height\":[3.0],\"label\":[\"(1.866667, 2.000000]\"],\"line_alpha\":[1.0],\"line_color\":[\"black\"],\"width\":[0.1333333333333333],\"x\":[\"1.9333335\"],\"y\":[1.5]}},\"id\":\"163e7250-0db4-40e1-b068-f8a07a1b8b54\",\"type\":\"ColumnDataSource\"},{\"attributes\":{\"data_source\":{\"id\":\"a231cab3-46c7-4bf7-b082-f83580932e64\",\"type\":\"ColumnDataSource\"},\"glyph\":{\"id\":\"d08f407b-a52f-47c3-9723-ff0c16e5f174\",\"type\":\"Rect\"},\"hover_glyph\":null,\"nonselection_glyph\":null,\"selection_glyph\":null},\"id\":\"5435dfc6-8114-47be-bd26-3229708f0e7e\",\"type\":\"GlyphRenderer\"},{\"attributes\":{\"callback\":null,\"end\":2.0500001666666665,\"start\":-0.050000166666666665},\"id\":\"5563e155-f9ea-40dc-9f9f-0ee7e63afc56\",\"type\":\"Range1d\"},{\"attributes\":{\"fill_alpha\":{\"field\":\"fill_alpha\"},\"fill_color\":{\"field\":\"color\"},\"height\":{\"field\":\"height\",\"units\":\"data\"},\"line_color\":{\"field\":\"line_color\"},\"width\":{\"field\":\"width\",\"units\":\"data\"},\"x\":{\"field\":\"x\"},\"y\":{\"field\":\"y\"}},\"id\":\"2c281637-3478-4221-b5a6-1762c4e3e7e3\",\"type\":\"Rect\"},{\"attributes\":{\"callback\":null,\"column_names\":[\"label\",\"fill_alpha\",\"x\",\"line_alpha\",\"color\",\"height\",\"width\",\"line_color\",\"y\"],\"data\":{\"chart_index\":[\"(1.466667, 1.600000]\"],\"color\":[\"LightSlateGray\"],\"fill_alpha\":[0.8],\"height\":[0.0],\"label\":[\"(1.466667, 1.600000]\"],\"line_alpha\":[1.0],\"line_color\":[\"black\"],\"width\":[0.13333333333333353],\"x\":[\"1.5333335\"],\"y\":[0.0]}},\"id\":\"a1b0d68a-14fd-48b2-9680-470e117f3a41\",\"type\":\"ColumnDataSource\"},{\"attributes\":{\"plot\":{\"id\":\"81dd4aec-61e9-4777-b5b3-0663885c9e7e\",\"subtype\":\"Chart\",\"type\":\"Plot\"}},\"id\":\"e45b61e3-fe10-4a2d-bcf1-216e8d621b73\",\"type\":\"PanTool\"},{\"attributes\":{\"data_source\":{\"id\":\"57ab87db-7f83-497c-8ba1-51f75b43af8e\",\"type\":\"ColumnDataSource\"},\"glyph\":{\"id\":\"32968049-b1cd-42e2-972f-5b3ee37c4dbe\",\"type\":\"Rect\"},\"hover_glyph\":null,\"nonselection_glyph\":null,\"selection_glyph\":null},\"id\":\"edadd883-443c-4d55-bb8d-6270324b1eb2\",\"type\":\"GlyphRenderer\"},{\"attributes\":{\"data_source\":{\"id\":\"96c2960f-7582-4fbb-87bf-201ab6708499\",\"type\":\"ColumnDataSource\"},\"glyph\":{\"id\":\"5f7779da-ca16-49d4-b948-015c7e3906ab\",\"type\":\"Rect\"},\"hover_glyph\":null,\"nonselection_glyph\":null,\"selection_glyph\":null},\"id\":\"e6175069-2644-4b95-b4d7-c4b0d2c8ac17\",\"type\":\"GlyphRenderer\"},{\"attributes\":{\"callback\":null,\"column_names\":[\"label\",\"fill_alpha\",\"x\",\"line_alpha\",\"color\",\"height\",\"width\",\"line_color\",\"y\"],\"data\":{\"chart_index\":[\"(0.666667, 0.800000]\"],\"color\":[\"LightSlateGray\"],\"fill_alpha\":[0.8],\"height\":[0.0],\"label\":[\"(0.666667, 0.800000]\"],\"line_alpha\":[1.0],\"line_color\":[\"black\"],\"width\":[0.13333333333333341],\"x\":[\"0.7333335000000001\"],\"y\":[0.0]}},\"id\":\"c0115684-7a9f-4159-9fcb-c38dd2352477\",\"type\":\"ColumnDataSource\"},{\"attributes\":{\"callback\":null,\"column_names\":[\"label\",\"fill_alpha\",\"x\",\"line_alpha\",\"color\",\"height\",\"width\",\"line_color\",\"y\"],\"data\":{\"chart_index\":[\"(0.933333, 1.066667]\"],\"color\":[\"LightSlateGray\"],\"fill_alpha\":[0.8],\"height\":[29.0],\"label\":[\"(0.933333, 1.066667]\"],\"line_alpha\":[1.0],\"line_color\":[\"black\"],\"width\":[0.1333333333333333],\"x\":[\"1.0\"],\"y\":[14.5]}},\"id\":\"30fee32b-ad82-4599-9b39-afea4ea99c3a\",\"type\":\"ColumnDataSource\"},{\"attributes\":{\"data_source\":{\"id\":\"a1ff37b1-0ae7-4779-8f2f-a16eb2ffc590\",\"type\":\"ColumnDataSource\"},\"glyph\":{\"id\":\"e04cca8a-6285-4573-b8e9-8c2e7165bc35\",\"type\":\"Rect\"},\"hover_glyph\":null,\"nonselection_glyph\":null,\"selection_glyph\":null},\"id\":\"44b77b35-ba40-4866-abd5-1bde479b06ab\",\"type\":\"GlyphRenderer\"},{\"attributes\":{\"data_source\":{\"id\":\"163e7250-0db4-40e1-b068-f8a07a1b8b54\",\"type\":\"ColumnDataSource\"},\"glyph\":{\"id\":\"6eb29d56-1644-4131-8d43-635b74e180db\",\"type\":\"Rect\"},\"hover_glyph\":null,\"nonselection_glyph\":null,\"selection_glyph\":null},\"id\":\"904be7e4-14ca-4397-9fce-bbd7ee9236d7\",\"type\":\"GlyphRenderer\"},{\"attributes\":{\"data_source\":{\"id\":\"97fbdd19-a37c-40d7-88ec-481182ad4b8b\",\"type\":\"ColumnDataSource\"},\"glyph\":{\"id\":\"482d3de0-f927-4aab-bb0b-880d9cea0150\",\"type\":\"Rect\"},\"hover_glyph\":null,\"nonselection_glyph\":null,\"selection_glyph\":null},\"id\":\"847da09f-6df3-46a1-bd59-8a0b728b8fc4\",\"type\":\"GlyphRenderer\"},{\"attributes\":{\"callback\":null,\"column_names\":[\"label\",\"fill_alpha\",\"x\",\"line_alpha\",\"color\",\"height\",\"width\",\"line_color\",\"y\"],\"data\":{\"chart_index\":[\"(1.333333, 1.466667]\"],\"color\":[\"LightSlateGray\"],\"fill_alpha\":[0.8],\"height\":[0.0],\"label\":[\"(1.333333, 1.466667]\"],\"line_alpha\":[1.0],\"line_color\":[\"black\"],\"width\":[0.1333333333333333],\"x\":[\"1.4\"],\"y\":[0.0]}},\"id\":\"a231cab3-46c7-4bf7-b082-f83580932e64\",\"type\":\"ColumnDataSource\"},{\"attributes\":{\"callback\":null,\"column_names\":[\"label\",\"fill_alpha\",\"x\",\"line_alpha\",\"color\",\"height\",\"width\",\"line_color\",\"y\"],\"data\":{\"chart_index\":[\"[0.000000, 0.133333]\"],\"color\":[\"LightSlateGray\"],\"fill_alpha\":[0.8],\"height\":[575.0],\"label\":[\"[0.000000, 0.133333]\"],\"line_alpha\":[1.0],\"line_color\":[\"black\"],\"width\":[0.13333333333333333],\"x\":[\"0.0666665\"],\"y\":[287.5]}},\"id\":\"f436a27e-23df-40af-97e5-7d3e75cc7af5\",\"type\":\"ColumnDataSource\"},{\"attributes\":{\"data_source\":{\"id\":\"84f725be-aad6-4a99-9e9a-0bdf551b5ef5\",\"type\":\"ColumnDataSource\"},\"glyph\":{\"id\":\"c357d6a5-cbcf-4797-9f45-aadf3ff7ee2a\",\"type\":\"Rect\"},\"hover_glyph\":null,\"nonselection_glyph\":null,\"selection_glyph\":null},\"id\":\"f48ef237-406e-4a85-9e11-97f78f8fa5e8\",\"type\":\"GlyphRenderer\"},{\"attributes\":{\"plot\":{\"id\":\"81dd4aec-61e9-4777-b5b3-0663885c9e7e\",\"subtype\":\"Chart\",\"type\":\"Plot\"}},\"id\":\"753e2b7e-0e88-4c08-a658-8345bf3d3b4b\",\"type\":\"WheelZoomTool\"},{\"attributes\":{},\"id\":\"6803a546-e60a-4290-99e8-64faf9e1306e\",\"type\":\"BasicTickFormatter\"},{\"attributes\":{\"callback\":null,\"column_names\":[\"label\",\"fill_alpha\",\"x\",\"line_alpha\",\"color\",\"height\",\"width\",\"line_color\",\"y\"],\"data\":{\"chart_index\":[\"(1.600000, 1.733333]\"],\"color\":[\"LightSlateGray\"],\"fill_alpha\":[0.8],\"height\":[0.0],\"label\":[\"(1.600000, 1.733333]\"],\"line_alpha\":[1.0],\"line_color\":[\"black\"],\"width\":[0.1333333333333333],\"x\":[\"1.6666665\"],\"y\":[0.0]}},\"id\":\"3676808a-aa42-4c74-bcdb-fa84fd4073fe\",\"type\":\"ColumnDataSource\"},{\"attributes\":{\"data_source\":{\"id\":\"cc71dd52-b8b5-4e99-9386-85d57702d904\",\"type\":\"ColumnDataSource\"},\"glyph\":{\"id\":\"1063e868-b367-4728-ade0-c9d1b66f9674\",\"type\":\"Rect\"},\"hover_glyph\":null,\"nonselection_glyph\":null,\"selection_glyph\":null},\"id\":\"4e5dc102-6ab8-42f9-b543-1c093a0bd793\",\"type\":\"GlyphRenderer\"},{\"attributes\":{},\"id\":\"1800763a-40e0-4113-93ce-a26ce86d0193\",\"type\":\"BasicTickFormatter\"},{\"attributes\":{\"overlay\":{\"id\":\"4341f96c-39fe-4bd1-bd16-222c2a15520b\",\"type\":\"BoxAnnotation\"},\"plot\":{\"id\":\"81dd4aec-61e9-4777-b5b3-0663885c9e7e\",\"subtype\":\"Chart\",\"type\":\"Plot\"}},\"id\":\"4da2f034-ecf2-48a1-95c7-b971ec0201a1\",\"type\":\"BoxZoomTool\"},{\"attributes\":{\"axis_label\":\"Frequency\",\"formatter\":{\"id\":\"1800763a-40e0-4113-93ce-a26ce86d0193\",\"type\":\"BasicTickFormatter\"},\"plot\":{\"id\":\"81dd4aec-61e9-4777-b5b3-0663885c9e7e\",\"subtype\":\"Chart\",\"type\":\"Plot\"},\"ticker\":{\"id\":\"e58c30b4-26d4-4a9c-baae-36cd37227a4a\",\"type\":\"BasicTicker\"}},\"id\":\"9d8814ff-8283-4e97-9b7a-b7577f94090f\",\"type\":\"LinearAxis\"},{\"attributes\":{\"fill_alpha\":{\"field\":\"fill_alpha\"},\"fill_color\":{\"field\":\"color\"},\"height\":{\"field\":\"height\",\"units\":\"data\"},\"line_color\":{\"field\":\"line_color\"},\"width\":{\"field\":\"width\",\"units\":\"data\"},\"x\":{\"field\":\"x\"},\"y\":{\"field\":\"y\"}},\"id\":\"482d3de0-f927-4aab-bb0b-880d9cea0150\",\"type\":\"Rect\"},{\"attributes\":{},\"id\":\"e58c30b4-26d4-4a9c-baae-36cd37227a4a\",\"type\":\"BasicTicker\"},{\"attributes\":{},\"id\":\"d2fc9703-1030-4237-b535-72823382138d\",\"type\":\"BasicTicker\"},{\"attributes\":{\"bottom_units\":\"screen\",\"fill_alpha\":{\"value\":0.5},\"fill_color\":{\"value\":\"lightgrey\"},\"left_units\":\"screen\",\"level\":\"overlay\",\"line_alpha\":{\"value\":1.0},\"line_color\":{\"value\":\"black\"},\"line_dash\":[4,4],\"line_width\":{\"value\":2},\"plot\":null,\"render_mode\":\"css\",\"right_units\":\"screen\",\"top_units\":\"screen\"},\"id\":\"4341f96c-39fe-4bd1-bd16-222c2a15520b\",\"type\":\"BoxAnnotation\"},{\"attributes\":{\"fill_alpha\":{\"field\":\"fill_alpha\"},\"fill_color\":{\"field\":\"color\"},\"height\":{\"field\":\"height\",\"units\":\"data\"},\"line_color\":{\"field\":\"line_color\"},\"width\":{\"field\":\"width\",\"units\":\"data\"},\"x\":{\"field\":\"x\"},\"y\":{\"field\":\"y\"}},\"id\":\"d08f407b-a52f-47c3-9723-ff0c16e5f174\",\"type\":\"Rect\"},{\"attributes\":{\"fill_alpha\":{\"field\":\"fill_alpha\"},\"fill_color\":{\"field\":\"color\"},\"height\":{\"field\":\"height\",\"units\":\"data\"},\"line_color\":{\"field\":\"line_color\"},\"width\":{\"field\":\"width\",\"units\":\"data\"},\"x\":{\"field\":\"x\"},\"y\":{\"field\":\"y\"}},\"id\":\"e04cca8a-6285-4573-b8e9-8c2e7165bc35\",\"type\":\"Rect\"},{\"attributes\":{\"fill_alpha\":{\"field\":\"fill_alpha\"},\"fill_color\":{\"field\":\"color\"},\"height\":{\"field\":\"height\",\"units\":\"data\"},\"line_color\":{\"field\":\"line_color\"},\"width\":{\"field\":\"width\",\"units\":\"data\"},\"x\":{\"field\":\"x\"},\"y\":{\"field\":\"y\"}},\"id\":\"32968049-b1cd-42e2-972f-5b3ee37c4dbe\",\"type\":\"Rect\"},{\"attributes\":{\"data_source\":{\"id\":\"c9975309-0f44-414f-b948-99d5b0e7dd0d\",\"type\":\"ColumnDataSource\"},\"glyph\":{\"id\":\"e359c628-8dff-41ca-be36-b6c00e3eca21\",\"type\":\"Rect\"},\"hover_glyph\":null,\"nonselection_glyph\":null,\"selection_glyph\":null},\"id\":\"f35a5287-d578-4555-8907-adf12d73ecaa\",\"type\":\"GlyphRenderer\"},{\"attributes\":{\"fill_alpha\":{\"field\":\"fill_alpha\"},\"fill_color\":{\"field\":\"color\"},\"height\":{\"field\":\"height\",\"units\":\"data\"},\"line_color\":{\"field\":\"line_color\"},\"width\":{\"field\":\"width\",\"units\":\"data\"},\"x\":{\"field\":\"x\"},\"y\":{\"field\":\"y\"}},\"id\":\"c357d6a5-cbcf-4797-9f45-aadf3ff7ee2a\",\"type\":\"Rect\"},{\"attributes\":{\"callback\":null,\"column_names\":[\"label\",\"fill_alpha\",\"x\",\"line_alpha\",\"color\",\"height\",\"width\",\"line_color\",\"y\"],\"data\":{\"chart_index\":[\"(1.200000, 1.333333]\"],\"color\":[\"LightSlateGray\"],\"fill_alpha\":[0.8],\"height\":[0.0],\"label\":[\"(1.200000, 1.333333]\"],\"line_alpha\":[1.0],\"line_color\":[\"black\"],\"width\":[0.1333333333333333],\"x\":[\"1.2666665\"],\"y\":[0.0]}},\"id\":\"eac92990-82cd-49ec-a617-e6980a35ea29\",\"type\":\"ColumnDataSource\"},{\"attributes\":{\"fill_alpha\":{\"field\":\"fill_alpha\"},\"fill_color\":{\"field\":\"color\"},\"height\":{\"field\":\"height\",\"units\":\"data\"},\"line_color\":{\"field\":\"line_color\"},\"width\":{\"field\":\"width\",\"units\":\"data\"},\"x\":{\"field\":\"x\"},\"y\":{\"field\":\"y\"}},\"id\":\"1063e868-b367-4728-ade0-c9d1b66f9674\",\"type\":\"Rect\"},{\"attributes\":{\"plot\":{\"id\":\"81dd4aec-61e9-4777-b5b3-0663885c9e7e\",\"subtype\":\"Chart\",\"type\":\"Plot\"}},\"id\":\"b4aee473-a1f5-4925-be0f-241ba219135a\",\"type\":\"HelpTool\"},{\"attributes\":{\"callback\":null,\"column_names\":[\"label\",\"fill_alpha\",\"x\",\"line_alpha\",\"color\",\"height\",\"width\",\"line_color\",\"y\"],\"data\":{\"chart_index\":[\"(0.400000, 0.533333]\"],\"color\":[\"LightSlateGray\"],\"fill_alpha\":[0.8],\"height\":[0.0],\"label\":[\"(0.400000, 0.533333]\"],\"line_alpha\":[1.0],\"line_color\":[\"black\"],\"width\":[0.1333333333333333],\"x\":[\"0.4666665\"],\"y\":[0.0]}},\"id\":\"57ab87db-7f83-497c-8ba1-51f75b43af8e\",\"type\":\"ColumnDataSource\"},{\"attributes\":{\"data_source\":{\"id\":\"f436a27e-23df-40af-97e5-7d3e75cc7af5\",\"type\":\"ColumnDataSource\"},\"glyph\":{\"id\":\"2c281637-3478-4221-b5a6-1762c4e3e7e3\",\"type\":\"Rect\"},\"hover_glyph\":null,\"nonselection_glyph\":null,\"selection_glyph\":null},\"id\":\"2b790b44-6ee1-4d4d-8839-e8b81f68f8ac\",\"type\":\"GlyphRenderer\"},{\"attributes\":{\"fill_alpha\":{\"field\":\"fill_alpha\"},\"fill_color\":{\"field\":\"color\"},\"height\":{\"field\":\"height\",\"units\":\"data\"},\"line_color\":{\"field\":\"line_color\"},\"width\":{\"field\":\"width\",\"units\":\"data\"},\"x\":{\"field\":\"x\"},\"y\":{\"field\":\"y\"}},\"id\":\"e359c628-8dff-41ca-be36-b6c00e3eca21\",\"type\":\"Rect\"},{\"attributes\":{\"axis_label\":\"GTcons\",\"formatter\":{\"id\":\"6803a546-e60a-4290-99e8-64faf9e1306e\",\"type\":\"BasicTickFormatter\"},\"plot\":{\"id\":\"81dd4aec-61e9-4777-b5b3-0663885c9e7e\",\"subtype\":\"Chart\",\"type\":\"Plot\"},\"ticker\":{\"id\":\"d2fc9703-1030-4237-b535-72823382138d\",\"type\":\"BasicTicker\"}},\"id\":\"d16179b0-af28-400e-ae88-f159beaae079\",\"type\":\"LinearAxis\"},{\"attributes\":{\"dimension\":1,\"plot\":{\"id\":\"81dd4aec-61e9-4777-b5b3-0663885c9e7e\",\"subtype\":\"Chart\",\"type\":\"Plot\"},\"ticker\":{\"id\":\"e58c30b4-26d4-4a9c-baae-36cd37227a4a\",\"type\":\"BasicTicker\"}},\"id\":\"0e619ad9-c6bc-4ce6-86d7-fdc51ca3d3db\",\"type\":\"Grid\"},{\"attributes\":{\"data_source\":{\"id\":\"a1b0d68a-14fd-48b2-9680-470e117f3a41\",\"type\":\"ColumnDataSource\"},\"glyph\":{\"id\":\"49903f7d-4676-4062-b095-312483899f43\",\"type\":\"Rect\"},\"hover_glyph\":null,\"nonselection_glyph\":null,\"selection_glyph\":null},\"id\":\"fb025513-bff7-4797-b255-27c448512035\",\"type\":\"GlyphRenderer\"},{\"attributes\":{\"fill_alpha\":{\"field\":\"fill_alpha\"},\"fill_color\":{\"field\":\"color\"},\"height\":{\"field\":\"height\",\"units\":\"data\"},\"line_color\":{\"field\":\"line_color\"},\"width\":{\"field\":\"width\",\"units\":\"data\"},\"x\":{\"field\":\"x\"},\"y\":{\"field\":\"y\"}},\"id\":\"5f7779da-ca16-49d4-b948-015c7e3906ab\",\"type\":\"Rect\"},{\"attributes\":{\"fill_alpha\":{\"field\":\"fill_alpha\"},\"fill_color\":{\"field\":\"color\"},\"height\":{\"field\":\"height\",\"units\":\"data\"},\"line_color\":{\"field\":\"line_color\"},\"width\":{\"field\":\"width\",\"units\":\"data\"},\"x\":{\"field\":\"x\"},\"y\":{\"field\":\"y\"}},\"id\":\"387a688d-a015-444a-b28c-c397388c0d1a\",\"type\":\"Rect\"},{\"attributes\":{\"data_source\":{\"id\":\"30fee32b-ad82-4599-9b39-afea4ea99c3a\",\"type\":\"ColumnDataSource\"},\"glyph\":{\"id\":\"4ee32218-df19-4378-a0da-2669f34c0068\",\"type\":\"Rect\"},\"hover_glyph\":null,\"nonselection_glyph\":null,\"selection_glyph\":null},\"id\":\"389bd133-57fc-4b05-b72b-2acb9cde0f91\",\"type\":\"GlyphRenderer\"},{\"attributes\":{\"data_source\":{\"id\":\"3676808a-aa42-4c74-bcdb-fa84fd4073fe\",\"type\":\"ColumnDataSource\"},\"glyph\":{\"id\":\"387a688d-a015-444a-b28c-c397388c0d1a\",\"type\":\"Rect\"},\"hover_glyph\":null,\"nonselection_glyph\":null,\"selection_glyph\":null},\"id\":\"13b194bd-efa3-4eca-a054-1cfb1313ec48\",\"type\":\"GlyphRenderer\"},{\"attributes\":{\"callback\":null,\"column_names\":[\"label\",\"fill_alpha\",\"x\",\"line_alpha\",\"color\",\"height\",\"width\",\"line_color\",\"y\"],\"data\":{\"chart_index\":[\"(0.133333, 0.266667]\"],\"color\":[\"LightSlateGray\"],\"fill_alpha\":[0.8],\"height\":[0.0],\"label\":[\"(0.133333, 0.266667]\"],\"line_alpha\":[1.0],\"line_color\":[\"black\"],\"width\":[0.13333333333333333],\"x\":[\"0.2\"],\"y\":[0.0]}},\"id\":\"97fbdd19-a37c-40d7-88ec-481182ad4b8b\",\"type\":\"ColumnDataSource\"},{\"attributes\":{\"callback\":null,\"column_names\":[\"label\",\"fill_alpha\",\"x\",\"line_alpha\",\"color\",\"height\",\"width\",\"line_color\",\"y\"],\"data\":{\"chart_index\":[\"(1.066667, 1.200000]\"],\"color\":[\"LightSlateGray\"],\"fill_alpha\":[0.8],\"height\":[0.0],\"label\":[\"(1.066667, 1.200000]\"],\"line_alpha\":[1.0],\"line_color\":[\"black\"],\"width\":[0.1333333333333333],\"x\":[\"1.1333335\"],\"y\":[0.0]}},\"id\":\"c9975309-0f44-414f-b948-99d5b0e7dd0d\",\"type\":\"ColumnDataSource\"},{\"attributes\":{\"location\":\"top_left\",\"plot\":{\"id\":\"81dd4aec-61e9-4777-b5b3-0663885c9e7e\",\"subtype\":\"Chart\",\"type\":\"Plot\"}},\"id\":\"04eac197-12c9-4a9b-9bde-1f6d3f9303eb\",\"type\":\"Legend\"},{\"attributes\":{\"fill_alpha\":{\"field\":\"fill_alpha\"},\"fill_color\":{\"field\":\"color\"},\"height\":{\"field\":\"height\",\"units\":\"data\"},\"line_color\":{\"field\":\"line_color\"},\"width\":{\"field\":\"width\",\"units\":\"data\"},\"x\":{\"field\":\"x\"},\"y\":{\"field\":\"y\"}},\"id\":\"49903f7d-4676-4062-b095-312483899f43\",\"type\":\"Rect\"},{\"attributes\":{\"callback\":null,\"column_names\":[\"label\",\"fill_alpha\",\"x\",\"line_alpha\",\"color\",\"height\",\"width\",\"line_color\",\"y\"],\"data\":{\"chart_index\":[\"(0.800000, 0.933333]\"],\"color\":[\"LightSlateGray\"],\"fill_alpha\":[0.8],\"height\":[0.0],\"label\":[\"(0.800000, 0.933333]\"],\"line_alpha\":[1.0],\"line_color\":[\"black\"],\"width\":[0.1333333333333333],\"x\":[\"0.8666665\"],\"y\":[0.0]}},\"id\":\"84f725be-aad6-4a99-9e9a-0bdf551b5ef5\",\"type\":\"ColumnDataSource\"},{\"attributes\":{\"callback\":null,\"column_names\":[\"label\",\"fill_alpha\",\"x\",\"line_alpha\",\"color\",\"height\",\"width\",\"line_color\",\"y\"],\"data\":{\"chart_index\":[\"(0.266667, 0.400000]\"],\"color\":[\"LightSlateGray\"],\"fill_alpha\":[0.8],\"height\":[0.0],\"label\":[\"(0.266667, 0.400000]\"],\"line_alpha\":[1.0],\"line_color\":[\"black\"],\"width\":[0.13333333333333336],\"x\":[\"0.3333335\"],\"y\":[0.0]}},\"id\":\"96c2960f-7582-4fbb-87bf-201ab6708499\",\"type\":\"ColumnDataSource\"},{\"attributes\":{\"active_drag\":\"auto\",\"active_scroll\":\"auto\",\"active_tap\":\"auto\",\"tools\":[{\"id\":\"e45b61e3-fe10-4a2d-bcf1-216e8d621b73\",\"type\":\"PanTool\"},{\"id\":\"753e2b7e-0e88-4c08-a658-8345bf3d3b4b\",\"type\":\"WheelZoomTool\"},{\"id\":\"4da2f034-ecf2-48a1-95c7-b971ec0201a1\",\"type\":\"BoxZoomTool\"},{\"id\":\"f7bbbea9-f962-447c-a5f1-a0e132daa1ec\",\"type\":\"SaveTool\"},{\"id\":\"5ac04c8b-8117-4948-b004-fd30c73e251e\",\"type\":\"ResetTool\"},{\"id\":\"b4aee473-a1f5-4925-be0f-241ba219135a\",\"type\":\"HelpTool\"}]},\"id\":\"5428d2a1-947c-48b4-9b99-44561a3c0816\",\"type\":\"Toolbar\"},{\"attributes\":{\"fill_alpha\":{\"field\":\"fill_alpha\"},\"fill_color\":{\"field\":\"color\"},\"height\":{\"field\":\"height\",\"units\":\"data\"},\"line_color\":{\"field\":\"line_color\"},\"width\":{\"field\":\"width\",\"units\":\"data\"},\"x\":{\"field\":\"x\"},\"y\":{\"field\":\"y\"}},\"id\":\"4ee32218-df19-4378-a0da-2669f34c0068\",\"type\":\"Rect\"},{\"attributes\":{\"below\":[{\"id\":\"d16179b0-af28-400e-ae88-f159beaae079\",\"type\":\"LinearAxis\"}],\"css_classes\":null,\"left\":[{\"id\":\"9d8814ff-8283-4e97-9b7a-b7577f94090f\",\"type\":\"LinearAxis\"}],\"plot_height\":250,\"renderers\":[{\"id\":\"4341f96c-39fe-4bd1-bd16-222c2a15520b\",\"type\":\"BoxAnnotation\"},{\"id\":\"2b790b44-6ee1-4d4d-8839-e8b81f68f8ac\",\"type\":\"GlyphRenderer\"},{\"id\":\"847da09f-6df3-46a1-bd59-8a0b728b8fc4\",\"type\":\"GlyphRenderer\"},{\"id\":\"e6175069-2644-4b95-b4d7-c4b0d2c8ac17\",\"type\":\"GlyphRenderer\"},{\"id\":\"edadd883-443c-4d55-bb8d-6270324b1eb2\",\"type\":\"GlyphRenderer\"},{\"id\":\"44b77b35-ba40-4866-abd5-1bde479b06ab\",\"type\":\"GlyphRenderer\"},{\"id\":\"345890d3-9c7c-4727-a695-2dce03e90893\",\"type\":\"GlyphRenderer\"},{\"id\":\"f48ef237-406e-4a85-9e11-97f78f8fa5e8\",\"type\":\"GlyphRenderer\"},{\"id\":\"389bd133-57fc-4b05-b72b-2acb9cde0f91\",\"type\":\"GlyphRenderer\"},{\"id\":\"f35a5287-d578-4555-8907-adf12d73ecaa\",\"type\":\"GlyphRenderer\"},{\"id\":\"68d56130-25f3-4646-a47b-9af421427b19\",\"type\":\"GlyphRenderer\"},{\"id\":\"5435dfc6-8114-47be-bd26-3229708f0e7e\",\"type\":\"GlyphRenderer\"},{\"id\":\"fb025513-bff7-4797-b255-27c448512035\",\"type\":\"GlyphRenderer\"},{\"id\":\"13b194bd-efa3-4eca-a054-1cfb1313ec48\",\"type\":\"GlyphRenderer\"},{\"id\":\"4e5dc102-6ab8-42f9-b543-1c093a0bd793\",\"type\":\"GlyphRenderer\"},{\"id\":\"904be7e4-14ca-4397-9fce-bbd7ee9236d7\",\"type\":\"GlyphRenderer\"},{\"id\":\"04eac197-12c9-4a9b-9bde-1f6d3f9303eb\",\"type\":\"Legend\"},{\"id\":\"d16179b0-af28-400e-ae88-f159beaae079\",\"type\":\"LinearAxis\"},{\"id\":\"9d8814ff-8283-4e97-9b7a-b7577f94090f\",\"type\":\"LinearAxis\"},{\"id\":\"0e619ad9-c6bc-4ce6-86d7-fdc51ca3d3db\",\"type\":\"Grid\"}],\"title\":{\"id\":\"30b030ca-af2d-4e4a-a5c5-13593e74000b\",\"type\":\"Title\"},\"tool_events\":{\"id\":\"796a2aae-649c-4e18-a486-882430db1021\",\"type\":\"ToolEvents\"},\"toolbar\":{\"id\":\"5428d2a1-947c-48b4-9b99-44561a3c0816\",\"type\":\"Toolbar\"},\"x_mapper_type\":\"auto\",\"x_range\":{\"id\":\"5563e155-f9ea-40dc-9f9f-0ee7e63afc56\",\"type\":\"Range1d\"},\"y_mapper_type\":\"auto\",\"y_range\":{\"id\":\"57973083-110c-4d6f-b30c-a9bd6d0b0139\",\"type\":\"Range1d\"}},\"id\":\"81dd4aec-61e9-4777-b5b3-0663885c9e7e\",\"subtype\":\"Chart\",\"type\":\"Plot\"},{\"attributes\":{\"plot\":{\"id\":\"81dd4aec-61e9-4777-b5b3-0663885c9e7e\",\"subtype\":\"Chart\",\"type\":\"Plot\"}},\"id\":\"5ac04c8b-8117-4948-b004-fd30c73e251e\",\"type\":\"ResetTool\"},{\"attributes\":{\"callback\":null,\"column_names\":[\"label\",\"fill_alpha\",\"x\",\"line_alpha\",\"color\",\"height\",\"width\",\"line_color\",\"y\"],\"data\":{\"chart_index\":[\"(1.733333, 1.866667]\"],\"color\":[\"LightSlateGray\"],\"fill_alpha\":[0.8],\"height\":[0.0],\"label\":[\"(1.733333, 1.866667]\"],\"line_alpha\":[1.0],\"line_color\":[\"black\"],\"width\":[0.1333333333333333],\"x\":[\"1.8\"],\"y\":[0.0]}},\"id\":\"cc71dd52-b8b5-4e99-9386-85d57702d904\",\"type\":\"ColumnDataSource\"},{\"attributes\":{\"data_source\":{\"id\":\"eac92990-82cd-49ec-a617-e6980a35ea29\",\"type\":\"ColumnDataSource\"},\"glyph\":{\"id\":\"807d810a-70bd-4130-9e72-5363827ae628\",\"type\":\"Rect\"},\"hover_glyph\":null,\"nonselection_glyph\":null,\"selection_glyph\":null},\"id\":\"68d56130-25f3-4646-a47b-9af421427b19\",\"type\":\"GlyphRenderer\"},{\"attributes\":{\"plot\":{\"id\":\"81dd4aec-61e9-4777-b5b3-0663885c9e7e\",\"subtype\":\"Chart\",\"type\":\"Plot\"}},\"id\":\"f7bbbea9-f962-447c-a5f1-a0e132daa1ec\",\"type\":\"SaveTool\"},{\"attributes\":{},\"id\":\"796a2aae-649c-4e18-a486-882430db1021\",\"type\":\"ToolEvents\"},{\"attributes\":{\"plot\":null,\"text\":\"Homozygous_Reference_HG002: Consensust GT\"},\"id\":\"30b030ca-af2d-4e4a-a5c5-13593e74000b\",\"type\":\"Title\"},{\"attributes\":{\"fill_alpha\":{\"field\":\"fill_alpha\"},\"fill_color\":{\"field\":\"color\"},\"height\":{\"field\":\"height\",\"units\":\"data\"},\"line_color\":{\"field\":\"line_color\"},\"width\":{\"field\":\"width\",\"units\":\"data\"},\"x\":{\"field\":\"x\"},\"y\":{\"field\":\"y\"}},\"id\":\"f877ef38-b83e-4dfc-b856-b4824e855bc3\",\"type\":\"Rect\"},{\"attributes\":{\"callback\":null,\"end\":632.5},\"id\":\"57973083-110c-4d6f-b30c-a9bd6d0b0139\",\"type\":\"Range1d\"},{\"attributes\":{\"callback\":null,\"column_names\":[\"label\",\"fill_alpha\",\"x\",\"line_alpha\",\"color\",\"height\",\"width\",\"line_color\",\"y\"],\"data\":{\"chart_index\":[\"(0.533333, 0.666667]\"],\"color\":[\"LightSlateGray\"],\"fill_alpha\":[0.8],\"height\":[0.0],\"label\":[\"(0.533333, 0.666667]\"],\"line_alpha\":[1.0],\"line_color\":[\"black\"],\"width\":[0.1333333333333333],\"x\":[\"0.6\"],\"y\":[0.0]}},\"id\":\"a1ff37b1-0ae7-4779-8f2f-a16eb2ffc590\",\"type\":\"ColumnDataSource\"}],\"root_ids\":[\"81dd4aec-61e9-4777-b5b3-0663885c9e7e\"]},\"title\":\"Bokeh Application\",\"version\":\"0.12.4\"}};\n",
       "            var render_items = [{\"docid\":\"67e47139-aec9-4cce-a01b-125cb5f5d7cd\",\"elementid\":\"d9fb72ca-d057-48c3-a8d2-22c3000310d0\",\"modelid\":\"81dd4aec-61e9-4777-b5b3-0663885c9e7e\"}];\n",
       "            \n",
       "            Bokeh.embed.embed_items(docs_json, render_items);\n",
       "          };\n",
       "          if (document.readyState != \"loading\") fn();\n",
       "          else document.addEventListener(\"DOMContentLoaded\", fn);\n",
       "        })();\n",
       "      },\n",
       "      function(Bokeh) {\n",
       "      }\n",
       "    ];\n",
       "  \n",
       "    function run_inline_js() {\n",
       "      \n",
       "      if ((window.Bokeh !== undefined) || (force === true)) {\n",
       "        for (var i = 0; i < inline_js.length; i++) {\n",
       "          inline_js[i](window.Bokeh);\n",
       "        }if (force === true) {\n",
       "          display_loaded();\n",
       "        }} else if (Date.now() < window._bokeh_timeout) {\n",
       "        setTimeout(run_inline_js, 100);\n",
       "      } else if (!window._bokeh_failed_load) {\n",
       "        console.log(\"Bokeh: BokehJS failed to load within specified timeout.\");\n",
       "        window._bokeh_failed_load = true;\n",
       "      } else if (force !== true) {\n",
       "        var cell = $(document.getElementById(\"d9fb72ca-d057-48c3-a8d2-22c3000310d0\")).parents('.cell').data().cell;\n",
       "        cell.output_area.append_execute_result(NB_LOAD_WARNING)\n",
       "      }\n",
       "  \n",
       "    }\n",
       "  \n",
       "    if (window._bokeh_is_loading === 0) {\n",
       "      console.log(\"Bokeh: BokehJS loaded, going straight to plotting\");\n",
       "      run_inline_js();\n",
       "    } else {\n",
       "      load_libs(js_urls, function() {\n",
       "        console.log(\"Bokeh: BokehJS plotting callback run at\", now());\n",
       "        run_inline_js();\n",
       "      });\n",
       "    }\n",
       "  }(this));\n",
       "</script>"
      ]
     },
     "metadata": {},
     "output_type": "display_data"
    }
   ],
   "source": [
    "p = figure()\n",
    "p = Histogram(hom_ref, values='GTcons', title='Homozygous_Reference_HG002: Consensust GT', color='LightSlateGray', bins=15, plot_height=250, xlabel=\"GTcons\", ylabel=\"Frequency\")\n",
    "show(p)"
   ]
  },
  {
   "cell_type": "markdown",
   "metadata": {},
   "source": [
    "** Inaccurate Call **"
   ]
  },
  {
   "cell_type": "code",
   "execution_count": 61,
   "metadata": {},
   "outputs": [
    {
     "data": {
      "text/html": [
       "<div>\n",
       "<table border=\"1\" class=\"dataframe\">\n",
       "  <thead>\n",
       "    <tr style=\"text-align: right;\">\n",
       "      <th></th>\n",
       "      <th>Ill250.GT</th>\n",
       "      <th>Ill250.alt_alnScore_mean</th>\n",
       "      <th>Ill250.alt_alnScore_std</th>\n",
       "      <th>Ill250.alt_count</th>\n",
       "      <th>Ill250.alt_insertSize_mean</th>\n",
       "      <th>Ill250.alt_insertSize_std</th>\n",
       "      <th>Ill250.alt_reason_alignmentScore</th>\n",
       "      <th>Ill250.alt_reason_insertSizeScore</th>\n",
       "      <th>Ill250.alt_reason_orientation</th>\n",
       "      <th>Ill250.amb_alnScore_mean</th>\n",
       "      <th>...</th>\n",
       "      <th>refN_pct</th>\n",
       "      <th>segdup_cnt</th>\n",
       "      <th>segdup_pct</th>\n",
       "      <th>start</th>\n",
       "      <th>tandemrep_cnt</th>\n",
       "      <th>tandemrep_pct</th>\n",
       "      <th>predicted_label</th>\n",
       "      <th>GTcons</th>\n",
       "      <th>GTsupp</th>\n",
       "      <th>GTconswithoutIll250.GT</th>\n",
       "    </tr>\n",
       "  </thead>\n",
       "  <tbody>\n",
       "    <tr>\n",
       "      <th>0</th>\n",
       "      <td>0.0</td>\n",
       "      <td>0.0</td>\n",
       "      <td>0.0</td>\n",
       "      <td>0.0</td>\n",
       "      <td>0.0</td>\n",
       "      <td>0.0</td>\n",
       "      <td>0.0</td>\n",
       "      <td>0.0</td>\n",
       "      <td>0.0</td>\n",
       "      <td>882.616114</td>\n",
       "      <td>...</td>\n",
       "      <td>0.0</td>\n",
       "      <td>0.0</td>\n",
       "      <td>0.0</td>\n",
       "      <td>37568322</td>\n",
       "      <td>3.0</td>\n",
       "      <td>0.818868</td>\n",
       "      <td>2.0</td>\n",
       "      <td>0</td>\n",
       "      <td>4</td>\n",
       "      <td>0</td>\n",
       "    </tr>\n",
       "  </tbody>\n",
       "</table>\n",
       "<p>1 rows × 45 columns</p>\n",
       "</div>"
      ],
      "text/plain": [
       "   Ill250.GT  Ill250.alt_alnScore_mean  Ill250.alt_alnScore_std  \\\n",
       "0        0.0                       0.0                      0.0   \n",
       "\n",
       "   Ill250.alt_count  Ill250.alt_insertSize_mean  Ill250.alt_insertSize_std  \\\n",
       "0               0.0                         0.0                        0.0   \n",
       "\n",
       "   Ill250.alt_reason_alignmentScore  Ill250.alt_reason_insertSizeScore  \\\n",
       "0                               0.0                                0.0   \n",
       "\n",
       "   Ill250.alt_reason_orientation  Ill250.amb_alnScore_mean  \\\n",
       "0                            0.0                882.616114   \n",
       "\n",
       "            ...            refN_pct  segdup_cnt  segdup_pct     start  \\\n",
       "0           ...                 0.0         0.0         0.0  37568322   \n",
       "\n",
       "   tandemrep_cnt  tandemrep_pct  predicted_label  GTcons  GTsupp  \\\n",
       "0            3.0       0.818868              2.0       0       4   \n",
       "\n",
       "   GTconswithoutIll250.GT  \n",
       "0                       0  \n",
       "\n",
       "[1 rows x 45 columns]"
      ]
     },
     "execution_count": 61,
     "metadata": {},
     "output_type": "execute_result"
    }
   ],
   "source": [
    "ic = X5['predicted_label'] == 2.0\n",
    "inac_call = X5[ic]\n",
    "inac_call.head(1)"
   ]
  },
  {
   "cell_type": "code",
   "execution_count": 62,
   "metadata": {
    "scrolled": true
   },
   "outputs": [
    {
     "data": {
      "text/html": [
       "\n",
       "\n",
       "    <div class=\"bk-root\">\n",
       "        <div class=\"bk-plotdiv\" id=\"44c08b9b-1b20-4570-bce3-f65fc17b91b1\"></div>\n",
       "    </div>\n",
       "<script type=\"text/javascript\">\n",
       "  \n",
       "  (function(global) {\n",
       "    function now() {\n",
       "      return new Date();\n",
       "    }\n",
       "  \n",
       "    var force = false;\n",
       "  \n",
       "    if (typeof (window._bokeh_onload_callbacks) === \"undefined\" || force === true) {\n",
       "      window._bokeh_onload_callbacks = [];\n",
       "      window._bokeh_is_loading = undefined;\n",
       "    }\n",
       "  \n",
       "  \n",
       "    \n",
       "    if (typeof (window._bokeh_timeout) === \"undefined\" || force === true) {\n",
       "      window._bokeh_timeout = Date.now() + 0;\n",
       "      window._bokeh_failed_load = false;\n",
       "    }\n",
       "  \n",
       "    var NB_LOAD_WARNING = {'data': {'text/html':\n",
       "       \"<div style='background-color: #fdd'>\\n\"+\n",
       "       \"<p>\\n\"+\n",
       "       \"BokehJS does not appear to have successfully loaded. If loading BokehJS from CDN, this \\n\"+\n",
       "       \"may be due to a slow or bad network connection. Possible fixes:\\n\"+\n",
       "       \"</p>\\n\"+\n",
       "       \"<ul>\\n\"+\n",
       "       \"<li>re-rerun `output_notebook()` to attempt to load from CDN again, or</li>\\n\"+\n",
       "       \"<li>use INLINE resources instead, as so:</li>\\n\"+\n",
       "       \"</ul>\\n\"+\n",
       "       \"<code>\\n\"+\n",
       "       \"from bokeh.resources import INLINE\\n\"+\n",
       "       \"output_notebook(resources=INLINE)\\n\"+\n",
       "       \"</code>\\n\"+\n",
       "       \"</div>\"}};\n",
       "  \n",
       "    function display_loaded() {\n",
       "      if (window.Bokeh !== undefined) {\n",
       "        document.getElementById(\"44c08b9b-1b20-4570-bce3-f65fc17b91b1\").textContent = \"BokehJS successfully loaded.\";\n",
       "      } else if (Date.now() < window._bokeh_timeout) {\n",
       "        setTimeout(display_loaded, 100)\n",
       "      }\n",
       "    }\n",
       "  \n",
       "    function run_callbacks() {\n",
       "      window._bokeh_onload_callbacks.forEach(function(callback) { callback() });\n",
       "      delete window._bokeh_onload_callbacks\n",
       "      console.info(\"Bokeh: all callbacks have finished\");\n",
       "    }\n",
       "  \n",
       "    function load_libs(js_urls, callback) {\n",
       "      window._bokeh_onload_callbacks.push(callback);\n",
       "      if (window._bokeh_is_loading > 0) {\n",
       "        console.log(\"Bokeh: BokehJS is being loaded, scheduling callback at\", now());\n",
       "        return null;\n",
       "      }\n",
       "      if (js_urls == null || js_urls.length === 0) {\n",
       "        run_callbacks();\n",
       "        return null;\n",
       "      }\n",
       "      console.log(\"Bokeh: BokehJS not loaded, scheduling load and callback at\", now());\n",
       "      window._bokeh_is_loading = js_urls.length;\n",
       "      for (var i = 0; i < js_urls.length; i++) {\n",
       "        var url = js_urls[i];\n",
       "        var s = document.createElement('script');\n",
       "        s.src = url;\n",
       "        s.async = false;\n",
       "        s.onreadystatechange = s.onload = function() {\n",
       "          window._bokeh_is_loading--;\n",
       "          if (window._bokeh_is_loading === 0) {\n",
       "            console.log(\"Bokeh: all BokehJS libraries loaded\");\n",
       "            run_callbacks()\n",
       "          }\n",
       "        };\n",
       "        s.onerror = function() {\n",
       "          console.warn(\"failed to load library \" + url);\n",
       "        };\n",
       "        console.log(\"Bokeh: injecting script tag for BokehJS library: \", url);\n",
       "        document.getElementsByTagName(\"head\")[0].appendChild(s);\n",
       "      }\n",
       "    };var element = document.getElementById(\"44c08b9b-1b20-4570-bce3-f65fc17b91b1\");\n",
       "    if (element == null) {\n",
       "      console.log(\"Bokeh: ERROR: autoload.js configured with elementid '44c08b9b-1b20-4570-bce3-f65fc17b91b1' but no matching script tag was found. \")\n",
       "      return false;\n",
       "    }\n",
       "  \n",
       "    var js_urls = [];\n",
       "  \n",
       "    var inline_js = [\n",
       "      function(Bokeh) {\n",
       "        (function() {\n",
       "          var fn = function() {\n",
       "            var docs_json = {\"2288259f-bd76-4380-b32c-78924c939e1d\":{\"roots\":{\"references\":[{\"attributes\":{\"callback\":null,\"column_names\":[\"label\",\"fill_alpha\",\"x\",\"line_alpha\",\"color\",\"height\",\"width\",\"line_color\",\"y\"],\"data\":{\"chart_index\":[\"(0.933333, 1.066667]\"],\"color\":[\"LightSlateGray\"],\"fill_alpha\":[0.8],\"height\":[265.0],\"label\":[\"(0.933333, 1.066667]\"],\"line_alpha\":[1.0],\"line_color\":[\"black\"],\"width\":[0.1333333333333333],\"x\":[\"1.0\"],\"y\":[132.5]}},\"id\":\"e7a7f967-0e13-4259-8460-9d09e861024e\",\"type\":\"ColumnDataSource\"},{\"attributes\":{\"plot\":{\"id\":\"406c76d6-11bb-41d3-93dc-246fad3b4a99\",\"subtype\":\"Chart\",\"type\":\"Plot\"}},\"id\":\"460c32fc-a580-4c7d-9d2e-00a9773530d1\",\"type\":\"ResetTool\"},{\"attributes\":{\"callback\":null,\"column_names\":[\"label\",\"fill_alpha\",\"x\",\"line_alpha\",\"color\",\"height\",\"width\",\"line_color\",\"y\"],\"data\":{\"chart_index\":[\"(1.066667, 1.200000]\"],\"color\":[\"LightSlateGray\"],\"fill_alpha\":[0.8],\"height\":[0.0],\"label\":[\"(1.066667, 1.200000]\"],\"line_alpha\":[1.0],\"line_color\":[\"black\"],\"width\":[0.1333333333333333],\"x\":[\"1.1333335\"],\"y\":[0.0]}},\"id\":\"cd34678e-0c61-45e3-aab7-f40dde822e71\",\"type\":\"ColumnDataSource\"},{\"attributes\":{\"callback\":null,\"column_names\":[\"label\",\"fill_alpha\",\"x\",\"line_alpha\",\"color\",\"height\",\"width\",\"line_color\",\"y\"],\"data\":{\"chart_index\":[\"(0.533333, 0.666667]\"],\"color\":[\"LightSlateGray\"],\"fill_alpha\":[0.8],\"height\":[0.0],\"label\":[\"(0.533333, 0.666667]\"],\"line_alpha\":[1.0],\"line_color\":[\"black\"],\"width\":[0.1333333333333333],\"x\":[\"0.6\"],\"y\":[0.0]}},\"id\":\"c3453ecf-fae8-46ea-9f6a-6a2a264e8571\",\"type\":\"ColumnDataSource\"},{\"attributes\":{\"fill_alpha\":{\"field\":\"fill_alpha\"},\"fill_color\":{\"field\":\"color\"},\"height\":{\"field\":\"height\",\"units\":\"data\"},\"line_color\":{\"field\":\"line_color\"},\"width\":{\"field\":\"width\",\"units\":\"data\"},\"x\":{\"field\":\"x\"},\"y\":{\"field\":\"y\"}},\"id\":\"cca2b0b2-53f5-4ca4-9b16-c73b78d8f06f\",\"type\":\"Rect\"},{\"attributes\":{\"data_source\":{\"id\":\"bf6cb384-3f09-4e5d-894f-8bc25988cccf\",\"type\":\"ColumnDataSource\"},\"glyph\":{\"id\":\"cca2b0b2-53f5-4ca4-9b16-c73b78d8f06f\",\"type\":\"Rect\"},\"hover_glyph\":null,\"nonselection_glyph\":null,\"selection_glyph\":null},\"id\":\"52a9cb89-a3d3-4464-8ab2-88341ee89191\",\"type\":\"GlyphRenderer\"},{\"attributes\":{\"data_source\":{\"id\":\"e429d4e8-fdb3-4f62-b69e-1bf9b05ae963\",\"type\":\"ColumnDataSource\"},\"glyph\":{\"id\":\"029aa10a-2a18-4f87-b08c-ce0badee943a\",\"type\":\"Rect\"},\"hover_glyph\":null,\"nonselection_glyph\":null,\"selection_glyph\":null},\"id\":\"98e069a3-ccea-4f25-9b84-13f3a87ea0e5\",\"type\":\"GlyphRenderer\"},{\"attributes\":{},\"id\":\"1a947150-7121-4b76-b003-89a0fa63ecf3\",\"type\":\"BasicTicker\"},{\"attributes\":{\"callback\":null,\"column_names\":[\"label\",\"fill_alpha\",\"x\",\"line_alpha\",\"color\",\"height\",\"width\",\"line_color\",\"y\"],\"data\":{\"chart_index\":[\"(0.400000, 0.533333]\"],\"color\":[\"LightSlateGray\"],\"fill_alpha\":[0.8],\"height\":[0.0],\"label\":[\"(0.400000, 0.533333]\"],\"line_alpha\":[1.0],\"line_color\":[\"black\"],\"width\":[0.1333333333333333],\"x\":[\"0.4666665\"],\"y\":[0.0]}},\"id\":\"e429d4e8-fdb3-4f62-b69e-1bf9b05ae963\",\"type\":\"ColumnDataSource\"},{\"attributes\":{},\"id\":\"f96b5170-760a-4f94-800f-15446728efcc\",\"type\":\"BasicTickFormatter\"},{\"attributes\":{\"plot\":{\"id\":\"406c76d6-11bb-41d3-93dc-246fad3b4a99\",\"subtype\":\"Chart\",\"type\":\"Plot\"}},\"id\":\"2ca7ca6a-d94c-4679-803d-30d20fefc238\",\"type\":\"PanTool\"},{\"attributes\":{\"data_source\":{\"id\":\"e7a7f967-0e13-4259-8460-9d09e861024e\",\"type\":\"ColumnDataSource\"},\"glyph\":{\"id\":\"5a2bc2f5-b77a-47b9-9fb7-f910eee2fdbf\",\"type\":\"Rect\"},\"hover_glyph\":null,\"nonselection_glyph\":null,\"selection_glyph\":null},\"id\":\"c1c3b192-1fa7-4de5-a4f5-d9dd0edfef98\",\"type\":\"GlyphRenderer\"},{\"attributes\":{\"fill_alpha\":{\"field\":\"fill_alpha\"},\"fill_color\":{\"field\":\"color\"},\"height\":{\"field\":\"height\",\"units\":\"data\"},\"line_color\":{\"field\":\"line_color\"},\"width\":{\"field\":\"width\",\"units\":\"data\"},\"x\":{\"field\":\"x\"},\"y\":{\"field\":\"y\"}},\"id\":\"067e7f21-1274-4220-b659-a86a34c6891e\",\"type\":\"Rect\"},{\"attributes\":{\"axis_label\":\"Frequency\",\"formatter\":{\"id\":\"b67ca2ab-1a57-40bf-8b51-c8cecf6510c4\",\"type\":\"BasicTickFormatter\"},\"plot\":{\"id\":\"406c76d6-11bb-41d3-93dc-246fad3b4a99\",\"subtype\":\"Chart\",\"type\":\"Plot\"},\"ticker\":{\"id\":\"fe360bba-ec01-4937-80ee-22b1f663c884\",\"type\":\"BasicTicker\"}},\"id\":\"7bb647ed-b897-453f-adaa-1eaf91dce66e\",\"type\":\"LinearAxis\"},{\"attributes\":{\"plot\":{\"id\":\"406c76d6-11bb-41d3-93dc-246fad3b4a99\",\"subtype\":\"Chart\",\"type\":\"Plot\"}},\"id\":\"e4da0453-93f9-46a7-b912-4660cb8e35a8\",\"type\":\"WheelZoomTool\"},{\"attributes\":{\"callback\":null,\"column_names\":[\"label\",\"fill_alpha\",\"x\",\"line_alpha\",\"color\",\"height\",\"width\",\"line_color\",\"y\"],\"data\":{\"chart_index\":[\"(1.200000, 1.333333]\"],\"color\":[\"LightSlateGray\"],\"fill_alpha\":[0.8],\"height\":[0.0],\"label\":[\"(1.200000, 1.333333]\"],\"line_alpha\":[1.0],\"line_color\":[\"black\"],\"width\":[0.1333333333333333],\"x\":[\"1.2666665\"],\"y\":[0.0]}},\"id\":\"eff057dc-cfed-4ead-90c0-c421a585581c\",\"type\":\"ColumnDataSource\"},{\"attributes\":{\"callback\":null,\"column_names\":[\"label\",\"fill_alpha\",\"x\",\"line_alpha\",\"color\",\"height\",\"width\",\"line_color\",\"y\"],\"data\":{\"chart_index\":[\"(1.333333, 1.466667]\"],\"color\":[\"LightSlateGray\"],\"fill_alpha\":[0.8],\"height\":[0.0],\"label\":[\"(1.333333, 1.466667]\"],\"line_alpha\":[1.0],\"line_color\":[\"black\"],\"width\":[0.1333333333333333],\"x\":[\"1.4\"],\"y\":[0.0]}},\"id\":\"08c76344-da22-4a9b-baa6-1bdd42483359\",\"type\":\"ColumnDataSource\"},{\"attributes\":{\"below\":[{\"id\":\"a056fc8c-6f49-4128-9559-849677542888\",\"type\":\"LinearAxis\"}],\"css_classes\":null,\"left\":[{\"id\":\"7bb647ed-b897-453f-adaa-1eaf91dce66e\",\"type\":\"LinearAxis\"}],\"plot_height\":250,\"renderers\":[{\"id\":\"b687a77d-9f3d-4812-8e9f-15566332c54e\",\"type\":\"BoxAnnotation\"},{\"id\":\"52a9cb89-a3d3-4464-8ab2-88341ee89191\",\"type\":\"GlyphRenderer\"},{\"id\":\"1738be4a-b4b1-48ca-9046-eb5354a01742\",\"type\":\"GlyphRenderer\"},{\"id\":\"3f1238d1-699e-4b89-9213-e0d7f4ca7ebc\",\"type\":\"GlyphRenderer\"},{\"id\":\"98e069a3-ccea-4f25-9b84-13f3a87ea0e5\",\"type\":\"GlyphRenderer\"},{\"id\":\"6b41557f-c52d-4236-bc80-70b15038ebff\",\"type\":\"GlyphRenderer\"},{\"id\":\"6e04e1f5-10cb-4dd7-919e-f9d5dd322d00\",\"type\":\"GlyphRenderer\"},{\"id\":\"8ecc0381-e82a-48e1-b8d7-f2bd5986c6b9\",\"type\":\"GlyphRenderer\"},{\"id\":\"c1c3b192-1fa7-4de5-a4f5-d9dd0edfef98\",\"type\":\"GlyphRenderer\"},{\"id\":\"b3f353a0-826f-4faf-a329-20a7fb141310\",\"type\":\"GlyphRenderer\"},{\"id\":\"59375f73-43fb-41c4-9990-b610f69c7209\",\"type\":\"GlyphRenderer\"},{\"id\":\"d39c1a2c-fd2a-4694-a947-03f72a51430d\",\"type\":\"GlyphRenderer\"},{\"id\":\"91abf6ec-6062-4f64-88c5-f32155ac68b0\",\"type\":\"GlyphRenderer\"},{\"id\":\"f76b58a8-858e-49af-8a0d-f7858770579f\",\"type\":\"GlyphRenderer\"},{\"id\":\"06cdd308-fd96-4a22-8fe7-a94d1ec52a75\",\"type\":\"GlyphRenderer\"},{\"id\":\"d06be8ac-3e33-460d-8fac-2c983014a7e3\",\"type\":\"GlyphRenderer\"},{\"id\":\"672edaef-8fa8-4fa0-a78d-b9e5586c5433\",\"type\":\"Legend\"},{\"id\":\"a056fc8c-6f49-4128-9559-849677542888\",\"type\":\"LinearAxis\"},{\"id\":\"7bb647ed-b897-453f-adaa-1eaf91dce66e\",\"type\":\"LinearAxis\"},{\"id\":\"fb343a5a-2501-4603-a527-c33af5d5debd\",\"type\":\"Grid\"}],\"title\":{\"id\":\"1ccc07a7-f729-43ad-a643-1c1e29580373\",\"type\":\"Title\"},\"tool_events\":{\"id\":\"a5c6e57b-37e5-45c3-bc24-c2d5abeb690d\",\"type\":\"ToolEvents\"},\"toolbar\":{\"id\":\"da43f2fc-dd84-4b2e-9a16-4a59a6fbc477\",\"type\":\"Toolbar\"},\"x_mapper_type\":\"auto\",\"x_range\":{\"id\":\"87a14fbb-d758-4924-a60f-e590ac23cafc\",\"type\":\"Range1d\"},\"y_mapper_type\":\"auto\",\"y_range\":{\"id\":\"aa79db00-58e1-4a8b-be31-f6047268fef7\",\"type\":\"Range1d\"}},\"id\":\"406c76d6-11bb-41d3-93dc-246fad3b4a99\",\"subtype\":\"Chart\",\"type\":\"Plot\"},{\"attributes\":{\"fill_alpha\":{\"field\":\"fill_alpha\"},\"fill_color\":{\"field\":\"color\"},\"height\":{\"field\":\"height\",\"units\":\"data\"},\"line_color\":{\"field\":\"line_color\"},\"width\":{\"field\":\"width\",\"units\":\"data\"},\"x\":{\"field\":\"x\"},\"y\":{\"field\":\"y\"}},\"id\":\"0b007edf-af3b-4c45-958c-83975aaa733b\",\"type\":\"Rect\"},{\"attributes\":{\"plot\":null,\"text\":\"Inaccurate_Call_HG002: Consensust GT\"},\"id\":\"1ccc07a7-f729-43ad-a643-1c1e29580373\",\"type\":\"Title\"},{\"attributes\":{\"fill_alpha\":{\"field\":\"fill_alpha\"},\"fill_color\":{\"field\":\"color\"},\"height\":{\"field\":\"height\",\"units\":\"data\"},\"line_color\":{\"field\":\"line_color\"},\"width\":{\"field\":\"width\",\"units\":\"data\"},\"x\":{\"field\":\"x\"},\"y\":{\"field\":\"y\"}},\"id\":\"5a2bc2f5-b77a-47b9-9fb7-f910eee2fdbf\",\"type\":\"Rect\"},{\"attributes\":{\"plot\":{\"id\":\"406c76d6-11bb-41d3-93dc-246fad3b4a99\",\"subtype\":\"Chart\",\"type\":\"Plot\"}},\"id\":\"acda6ea0-3017-48ec-bc93-3af133dacf25\",\"type\":\"SaveTool\"},{\"attributes\":{\"data_source\":{\"id\":\"17f7d5be-d52b-4f2b-a6a4-a13b9c8980e1\",\"type\":\"ColumnDataSource\"},\"glyph\":{\"id\":\"25dadf1a-3c5e-4196-ae1c-6865bd590153\",\"type\":\"Rect\"},\"hover_glyph\":null,\"nonselection_glyph\":null,\"selection_glyph\":null},\"id\":\"f76b58a8-858e-49af-8a0d-f7858770579f\",\"type\":\"GlyphRenderer\"},{\"attributes\":{\"bottom_units\":\"screen\",\"fill_alpha\":{\"value\":0.5},\"fill_color\":{\"value\":\"lightgrey\"},\"left_units\":\"screen\",\"level\":\"overlay\",\"line_alpha\":{\"value\":1.0},\"line_color\":{\"value\":\"black\"},\"line_dash\":[4,4],\"line_width\":{\"value\":2},\"plot\":null,\"render_mode\":\"css\",\"right_units\":\"screen\",\"top_units\":\"screen\"},\"id\":\"b687a77d-9f3d-4812-8e9f-15566332c54e\",\"type\":\"BoxAnnotation\"},{\"attributes\":{},\"id\":\"a5c6e57b-37e5-45c3-bc24-c2d5abeb690d\",\"type\":\"ToolEvents\"},{\"attributes\":{\"callback\":null,\"column_names\":[\"label\",\"fill_alpha\",\"x\",\"line_alpha\",\"color\",\"height\",\"width\",\"line_color\",\"y\"],\"data\":{\"chart_index\":[\"(1.733333, 1.866667]\"],\"color\":[\"LightSlateGray\"],\"fill_alpha\":[0.8],\"height\":[0.0],\"label\":[\"(1.733333, 1.866667]\"],\"line_alpha\":[1.0],\"line_color\":[\"black\"],\"width\":[0.1333333333333333],\"x\":[\"1.8\"],\"y\":[0.0]}},\"id\":\"f06aec25-b370-4b03-aeea-32c4f89404a7\",\"type\":\"ColumnDataSource\"},{\"attributes\":{\"location\":\"top_left\",\"plot\":{\"id\":\"406c76d6-11bb-41d3-93dc-246fad3b4a99\",\"subtype\":\"Chart\",\"type\":\"Plot\"}},\"id\":\"672edaef-8fa8-4fa0-a78d-b9e5586c5433\",\"type\":\"Legend\"},{\"attributes\":{\"fill_alpha\":{\"field\":\"fill_alpha\"},\"fill_color\":{\"field\":\"color\"},\"height\":{\"field\":\"height\",\"units\":\"data\"},\"line_color\":{\"field\":\"line_color\"},\"width\":{\"field\":\"width\",\"units\":\"data\"},\"x\":{\"field\":\"x\"},\"y\":{\"field\":\"y\"}},\"id\":\"029aa10a-2a18-4f87-b08c-ce0badee943a\",\"type\":\"Rect\"},{\"attributes\":{\"data_source\":{\"id\":\"f06aec25-b370-4b03-aeea-32c4f89404a7\",\"type\":\"ColumnDataSource\"},\"glyph\":{\"id\":\"93d7efa8-d6e5-480e-a6f0-289771eb7b7d\",\"type\":\"Rect\"},\"hover_glyph\":null,\"nonselection_glyph\":null,\"selection_glyph\":null},\"id\":\"06cdd308-fd96-4a22-8fe7-a94d1ec52a75\",\"type\":\"GlyphRenderer\"},{\"attributes\":{\"data_source\":{\"id\":\"08c76344-da22-4a9b-baa6-1bdd42483359\",\"type\":\"ColumnDataSource\"},\"glyph\":{\"id\":\"c9a9dabd-20e8-436d-bd5f-ad0ab7f78e23\",\"type\":\"Rect\"},\"hover_glyph\":null,\"nonselection_glyph\":null,\"selection_glyph\":null},\"id\":\"d39c1a2c-fd2a-4694-a947-03f72a51430d\",\"type\":\"GlyphRenderer\"},{\"attributes\":{\"dimension\":1,\"plot\":{\"id\":\"406c76d6-11bb-41d3-93dc-246fad3b4a99\",\"subtype\":\"Chart\",\"type\":\"Plot\"},\"ticker\":{\"id\":\"fe360bba-ec01-4937-80ee-22b1f663c884\",\"type\":\"BasicTicker\"}},\"id\":\"fb343a5a-2501-4603-a527-c33af5d5debd\",\"type\":\"Grid\"},{\"attributes\":{\"fill_alpha\":{\"field\":\"fill_alpha\"},\"fill_color\":{\"field\":\"color\"},\"height\":{\"field\":\"height\",\"units\":\"data\"},\"line_color\":{\"field\":\"line_color\"},\"width\":{\"field\":\"width\",\"units\":\"data\"},\"x\":{\"field\":\"x\"},\"y\":{\"field\":\"y\"}},\"id\":\"0d150af9-71c0-4cc8-9686-c8d754393312\",\"type\":\"Rect\"},{\"attributes\":{\"callback\":null,\"column_names\":[\"label\",\"fill_alpha\",\"x\",\"line_alpha\",\"color\",\"height\",\"width\",\"line_color\",\"y\"],\"data\":{\"chart_index\":[\"(1.600000, 1.733333]\"],\"color\":[\"LightSlateGray\"],\"fill_alpha\":[0.8],\"height\":[0.0],\"label\":[\"(1.600000, 1.733333]\"],\"line_alpha\":[1.0],\"line_color\":[\"black\"],\"width\":[0.1333333333333333],\"x\":[\"1.6666665\"],\"y\":[0.0]}},\"id\":\"17f7d5be-d52b-4f2b-a6a4-a13b9c8980e1\",\"type\":\"ColumnDataSource\"},{\"attributes\":{\"data_source\":{\"id\":\"0f73d224-e8b0-4276-a395-ded3bef6dc5d\",\"type\":\"ColumnDataSource\"},\"glyph\":{\"id\":\"2734690e-6742-436e-b1bf-e2679be501f9\",\"type\":\"Rect\"},\"hover_glyph\":null,\"nonselection_glyph\":null,\"selection_glyph\":null},\"id\":\"6e04e1f5-10cb-4dd7-919e-f9d5dd322d00\",\"type\":\"GlyphRenderer\"},{\"attributes\":{\"callback\":null,\"column_names\":[\"label\",\"fill_alpha\",\"x\",\"line_alpha\",\"color\",\"height\",\"width\",\"line_color\",\"y\"],\"data\":{\"chart_index\":[\"(0.666667, 0.800000]\"],\"color\":[\"LightSlateGray\"],\"fill_alpha\":[0.8],\"height\":[0.0],\"label\":[\"(0.666667, 0.800000]\"],\"line_alpha\":[1.0],\"line_color\":[\"black\"],\"width\":[0.13333333333333341],\"x\":[\"0.7333335000000001\"],\"y\":[0.0]}},\"id\":\"0f73d224-e8b0-4276-a395-ded3bef6dc5d\",\"type\":\"ColumnDataSource\"},{\"attributes\":{\"callback\":null,\"column_names\":[\"label\",\"fill_alpha\",\"x\",\"line_alpha\",\"color\",\"height\",\"width\",\"line_color\",\"y\"],\"data\":{\"chart_index\":[\"(0.266667, 0.400000]\"],\"color\":[\"LightSlateGray\"],\"fill_alpha\":[0.8],\"height\":[0.0],\"label\":[\"(0.266667, 0.400000]\"],\"line_alpha\":[1.0],\"line_color\":[\"black\"],\"width\":[0.13333333333333336],\"x\":[\"0.3333335\"],\"y\":[0.0]}},\"id\":\"f766b0e4-ca2e-4c07-91be-e94ca586cb32\",\"type\":\"ColumnDataSource\"},{\"attributes\":{\"callback\":null,\"column_names\":[\"label\",\"fill_alpha\",\"x\",\"line_alpha\",\"color\",\"height\",\"width\",\"line_color\",\"y\"],\"data\":{\"chart_index\":[\"(1.466667, 1.600000]\"],\"color\":[\"LightSlateGray\"],\"fill_alpha\":[0.8],\"height\":[0.0],\"label\":[\"(1.466667, 1.600000]\"],\"line_alpha\":[1.0],\"line_color\":[\"black\"],\"width\":[0.13333333333333353],\"x\":[\"1.5333335\"],\"y\":[0.0]}},\"id\":\"a9226186-1e61-46b8-821a-5bdc6b1ce6fb\",\"type\":\"ColumnDataSource\"},{\"attributes\":{\"fill_alpha\":{\"field\":\"fill_alpha\"},\"fill_color\":{\"field\":\"color\"},\"height\":{\"field\":\"height\",\"units\":\"data\"},\"line_color\":{\"field\":\"line_color\"},\"width\":{\"field\":\"width\",\"units\":\"data\"},\"x\":{\"field\":\"x\"},\"y\":{\"field\":\"y\"}},\"id\":\"b423245f-cc09-4af2-b865-1669a9980f81\",\"type\":\"Rect\"},{\"attributes\":{\"active_drag\":\"auto\",\"active_scroll\":\"auto\",\"active_tap\":\"auto\",\"tools\":[{\"id\":\"2ca7ca6a-d94c-4679-803d-30d20fefc238\",\"type\":\"PanTool\"},{\"id\":\"e4da0453-93f9-46a7-b912-4660cb8e35a8\",\"type\":\"WheelZoomTool\"},{\"id\":\"502fdfd1-1b16-49f1-a000-f80b1af08e5f\",\"type\":\"BoxZoomTool\"},{\"id\":\"acda6ea0-3017-48ec-bc93-3af133dacf25\",\"type\":\"SaveTool\"},{\"id\":\"460c32fc-a580-4c7d-9d2e-00a9773530d1\",\"type\":\"ResetTool\"},{\"id\":\"4b1de9db-0f1d-4b5c-958a-6f7be6833069\",\"type\":\"HelpTool\"}]},\"id\":\"da43f2fc-dd84-4b2e-9a16-4a59a6fbc477\",\"type\":\"Toolbar\"},{\"attributes\":{\"callback\":null,\"end\":291.5},\"id\":\"aa79db00-58e1-4a8b-be31-f6047268fef7\",\"type\":\"Range1d\"},{\"attributes\":{\"callback\":null,\"column_names\":[\"label\",\"fill_alpha\",\"x\",\"line_alpha\",\"color\",\"height\",\"width\",\"line_color\",\"y\"],\"data\":{\"chart_index\":[\"[0.000000, 0.133333]\"],\"color\":[\"LightSlateGray\"],\"fill_alpha\":[0.8],\"height\":[245.0],\"label\":[\"[0.000000, 0.133333]\"],\"line_alpha\":[1.0],\"line_color\":[\"black\"],\"width\":[0.13333333333333333],\"x\":[\"0.0666665\"],\"y\":[122.5]}},\"id\":\"bf6cb384-3f09-4e5d-894f-8bc25988cccf\",\"type\":\"ColumnDataSource\"},{\"attributes\":{\"data_source\":{\"id\":\"a9226186-1e61-46b8-821a-5bdc6b1ce6fb\",\"type\":\"ColumnDataSource\"},\"glyph\":{\"id\":\"b423245f-cc09-4af2-b865-1669a9980f81\",\"type\":\"Rect\"},\"hover_glyph\":null,\"nonselection_glyph\":null,\"selection_glyph\":null},\"id\":\"91abf6ec-6062-4f64-88c5-f32155ac68b0\",\"type\":\"GlyphRenderer\"},{\"attributes\":{\"axis_label\":\"GTcons\",\"formatter\":{\"id\":\"f96b5170-760a-4f94-800f-15446728efcc\",\"type\":\"BasicTickFormatter\"},\"plot\":{\"id\":\"406c76d6-11bb-41d3-93dc-246fad3b4a99\",\"subtype\":\"Chart\",\"type\":\"Plot\"},\"ticker\":{\"id\":\"1a947150-7121-4b76-b003-89a0fa63ecf3\",\"type\":\"BasicTicker\"}},\"id\":\"a056fc8c-6f49-4128-9559-849677542888\",\"type\":\"LinearAxis\"},{\"attributes\":{\"data_source\":{\"id\":\"703e0555-d5ca-4b86-856b-30547789e9eb\",\"type\":\"ColumnDataSource\"},\"glyph\":{\"id\":\"067e7f21-1274-4220-b659-a86a34c6891e\",\"type\":\"Rect\"},\"hover_glyph\":null,\"nonselection_glyph\":null,\"selection_glyph\":null},\"id\":\"8ecc0381-e82a-48e1-b8d7-f2bd5986c6b9\",\"type\":\"GlyphRenderer\"},{\"attributes\":{\"overlay\":{\"id\":\"b687a77d-9f3d-4812-8e9f-15566332c54e\",\"type\":\"BoxAnnotation\"},\"plot\":{\"id\":\"406c76d6-11bb-41d3-93dc-246fad3b4a99\",\"subtype\":\"Chart\",\"type\":\"Plot\"}},\"id\":\"502fdfd1-1b16-49f1-a000-f80b1af08e5f\",\"type\":\"BoxZoomTool\"},{\"attributes\":{},\"id\":\"fe360bba-ec01-4937-80ee-22b1f663c884\",\"type\":\"BasicTicker\"},{\"attributes\":{\"data_source\":{\"id\":\"c3453ecf-fae8-46ea-9f6a-6a2a264e8571\",\"type\":\"ColumnDataSource\"},\"glyph\":{\"id\":\"0d150af9-71c0-4cc8-9686-c8d754393312\",\"type\":\"Rect\"},\"hover_glyph\":null,\"nonselection_glyph\":null,\"selection_glyph\":null},\"id\":\"6b41557f-c52d-4236-bc80-70b15038ebff\",\"type\":\"GlyphRenderer\"},{\"attributes\":{\"fill_alpha\":{\"field\":\"fill_alpha\"},\"fill_color\":{\"field\":\"color\"},\"height\":{\"field\":\"height\",\"units\":\"data\"},\"line_color\":{\"field\":\"line_color\"},\"width\":{\"field\":\"width\",\"units\":\"data\"},\"x\":{\"field\":\"x\"},\"y\":{\"field\":\"y\"}},\"id\":\"93d7efa8-d6e5-480e-a6f0-289771eb7b7d\",\"type\":\"Rect\"},{\"attributes\":{\"data_source\":{\"id\":\"08bbf220-42cd-4e49-87e6-169dde641771\",\"type\":\"ColumnDataSource\"},\"glyph\":{\"id\":\"0b007edf-af3b-4c45-958c-83975aaa733b\",\"type\":\"Rect\"},\"hover_glyph\":null,\"nonselection_glyph\":null,\"selection_glyph\":null},\"id\":\"d06be8ac-3e33-460d-8fac-2c983014a7e3\",\"type\":\"GlyphRenderer\"},{\"attributes\":{\"fill_alpha\":{\"field\":\"fill_alpha\"},\"fill_color\":{\"field\":\"color\"},\"height\":{\"field\":\"height\",\"units\":\"data\"},\"line_color\":{\"field\":\"line_color\"},\"width\":{\"field\":\"width\",\"units\":\"data\"},\"x\":{\"field\":\"x\"},\"y\":{\"field\":\"y\"}},\"id\":\"0b8fc28e-b731-49d1-b8ae-3683fd44a1e7\",\"type\":\"Rect\"},{\"attributes\":{\"callback\":null,\"column_names\":[\"label\",\"fill_alpha\",\"x\",\"line_alpha\",\"color\",\"height\",\"width\",\"line_color\",\"y\"],\"data\":{\"chart_index\":[\"(1.866667, 2.000000]\"],\"color\":[\"LightSlateGray\"],\"fill_alpha\":[0.8],\"height\":[66.0],\"label\":[\"(1.866667, 2.000000]\"],\"line_alpha\":[1.0],\"line_color\":[\"black\"],\"width\":[0.1333333333333333],\"x\":[\"1.9333335\"],\"y\":[33.0]}},\"id\":\"08bbf220-42cd-4e49-87e6-169dde641771\",\"type\":\"ColumnDataSource\"},{\"attributes\":{\"fill_alpha\":{\"field\":\"fill_alpha\"},\"fill_color\":{\"field\":\"color\"},\"height\":{\"field\":\"height\",\"units\":\"data\"},\"line_color\":{\"field\":\"line_color\"},\"width\":{\"field\":\"width\",\"units\":\"data\"},\"x\":{\"field\":\"x\"},\"y\":{\"field\":\"y\"}},\"id\":\"325219b8-4a0c-4628-9dbd-3cc0e40ed1b1\",\"type\":\"Rect\"},{\"attributes\":{\"fill_alpha\":{\"field\":\"fill_alpha\"},\"fill_color\":{\"field\":\"color\"},\"height\":{\"field\":\"height\",\"units\":\"data\"},\"line_color\":{\"field\":\"line_color\"},\"width\":{\"field\":\"width\",\"units\":\"data\"},\"x\":{\"field\":\"x\"},\"y\":{\"field\":\"y\"}},\"id\":\"25dadf1a-3c5e-4196-ae1c-6865bd590153\",\"type\":\"Rect\"},{\"attributes\":{\"fill_alpha\":{\"field\":\"fill_alpha\"},\"fill_color\":{\"field\":\"color\"},\"height\":{\"field\":\"height\",\"units\":\"data\"},\"line_color\":{\"field\":\"line_color\"},\"width\":{\"field\":\"width\",\"units\":\"data\"},\"x\":{\"field\":\"x\"},\"y\":{\"field\":\"y\"}},\"id\":\"0501b48c-5a94-4d15-b2e8-9f117b823d32\",\"type\":\"Rect\"},{\"attributes\":{\"fill_alpha\":{\"field\":\"fill_alpha\"},\"fill_color\":{\"field\":\"color\"},\"height\":{\"field\":\"height\",\"units\":\"data\"},\"line_color\":{\"field\":\"line_color\"},\"width\":{\"field\":\"width\",\"units\":\"data\"},\"x\":{\"field\":\"x\"},\"y\":{\"field\":\"y\"}},\"id\":\"88d68e7f-4c0c-47ca-b7a1-5db8dab95abc\",\"type\":\"Rect\"},{\"attributes\":{\"data_source\":{\"id\":\"eff057dc-cfed-4ead-90c0-c421a585581c\",\"type\":\"ColumnDataSource\"},\"glyph\":{\"id\":\"325219b8-4a0c-4628-9dbd-3cc0e40ed1b1\",\"type\":\"Rect\"},\"hover_glyph\":null,\"nonselection_glyph\":null,\"selection_glyph\":null},\"id\":\"59375f73-43fb-41c4-9990-b610f69c7209\",\"type\":\"GlyphRenderer\"},{\"attributes\":{\"callback\":null,\"column_names\":[\"label\",\"fill_alpha\",\"x\",\"line_alpha\",\"color\",\"height\",\"width\",\"line_color\",\"y\"],\"data\":{\"chart_index\":[\"(0.133333, 0.266667]\"],\"color\":[\"LightSlateGray\"],\"fill_alpha\":[0.8],\"height\":[0.0],\"label\":[\"(0.133333, 0.266667]\"],\"line_alpha\":[1.0],\"line_color\":[\"black\"],\"width\":[0.13333333333333333],\"x\":[\"0.2\"],\"y\":[0.0]}},\"id\":\"bf442471-6ab6-47b7-be36-e2c68369d000\",\"type\":\"ColumnDataSource\"},{\"attributes\":{\"fill_alpha\":{\"field\":\"fill_alpha\"},\"fill_color\":{\"field\":\"color\"},\"height\":{\"field\":\"height\",\"units\":\"data\"},\"line_color\":{\"field\":\"line_color\"},\"width\":{\"field\":\"width\",\"units\":\"data\"},\"x\":{\"field\":\"x\"},\"y\":{\"field\":\"y\"}},\"id\":\"2734690e-6742-436e-b1bf-e2679be501f9\",\"type\":\"Rect\"},{\"attributes\":{\"callback\":null,\"column_names\":[\"label\",\"fill_alpha\",\"x\",\"line_alpha\",\"color\",\"height\",\"width\",\"line_color\",\"y\"],\"data\":{\"chart_index\":[\"(0.800000, 0.933333]\"],\"color\":[\"LightSlateGray\"],\"fill_alpha\":[0.8],\"height\":[0.0],\"label\":[\"(0.800000, 0.933333]\"],\"line_alpha\":[1.0],\"line_color\":[\"black\"],\"width\":[0.1333333333333333],\"x\":[\"0.8666665\"],\"y\":[0.0]}},\"id\":\"703e0555-d5ca-4b86-856b-30547789e9eb\",\"type\":\"ColumnDataSource\"},{\"attributes\":{\"data_source\":{\"id\":\"cd34678e-0c61-45e3-aab7-f40dde822e71\",\"type\":\"ColumnDataSource\"},\"glyph\":{\"id\":\"88d68e7f-4c0c-47ca-b7a1-5db8dab95abc\",\"type\":\"Rect\"},\"hover_glyph\":null,\"nonselection_glyph\":null,\"selection_glyph\":null},\"id\":\"b3f353a0-826f-4faf-a329-20a7fb141310\",\"type\":\"GlyphRenderer\"},{\"attributes\":{\"data_source\":{\"id\":\"bf442471-6ab6-47b7-be36-e2c68369d000\",\"type\":\"ColumnDataSource\"},\"glyph\":{\"id\":\"0501b48c-5a94-4d15-b2e8-9f117b823d32\",\"type\":\"Rect\"},\"hover_glyph\":null,\"nonselection_glyph\":null,\"selection_glyph\":null},\"id\":\"1738be4a-b4b1-48ca-9046-eb5354a01742\",\"type\":\"GlyphRenderer\"},{\"attributes\":{\"fill_alpha\":{\"field\":\"fill_alpha\"},\"fill_color\":{\"field\":\"color\"},\"height\":{\"field\":\"height\",\"units\":\"data\"},\"line_color\":{\"field\":\"line_color\"},\"width\":{\"field\":\"width\",\"units\":\"data\"},\"x\":{\"field\":\"x\"},\"y\":{\"field\":\"y\"}},\"id\":\"c9a9dabd-20e8-436d-bd5f-ad0ab7f78e23\",\"type\":\"Rect\"},{\"attributes\":{\"data_source\":{\"id\":\"f766b0e4-ca2e-4c07-91be-e94ca586cb32\",\"type\":\"ColumnDataSource\"},\"glyph\":{\"id\":\"0b8fc28e-b731-49d1-b8ae-3683fd44a1e7\",\"type\":\"Rect\"},\"hover_glyph\":null,\"nonselection_glyph\":null,\"selection_glyph\":null},\"id\":\"3f1238d1-699e-4b89-9213-e0d7f4ca7ebc\",\"type\":\"GlyphRenderer\"},{\"attributes\":{},\"id\":\"b67ca2ab-1a57-40bf-8b51-c8cecf6510c4\",\"type\":\"BasicTickFormatter\"},{\"attributes\":{\"callback\":null,\"end\":2.0500001666666665,\"start\":-0.050000166666666665},\"id\":\"87a14fbb-d758-4924-a60f-e590ac23cafc\",\"type\":\"Range1d\"},{\"attributes\":{\"plot\":{\"id\":\"406c76d6-11bb-41d3-93dc-246fad3b4a99\",\"subtype\":\"Chart\",\"type\":\"Plot\"}},\"id\":\"4b1de9db-0f1d-4b5c-958a-6f7be6833069\",\"type\":\"HelpTool\"}],\"root_ids\":[\"406c76d6-11bb-41d3-93dc-246fad3b4a99\"]},\"title\":\"Bokeh Application\",\"version\":\"0.12.4\"}};\n",
       "            var render_items = [{\"docid\":\"2288259f-bd76-4380-b32c-78924c939e1d\",\"elementid\":\"44c08b9b-1b20-4570-bce3-f65fc17b91b1\",\"modelid\":\"406c76d6-11bb-41d3-93dc-246fad3b4a99\"}];\n",
       "            \n",
       "            Bokeh.embed.embed_items(docs_json, render_items);\n",
       "          };\n",
       "          if (document.readyState != \"loading\") fn();\n",
       "          else document.addEventListener(\"DOMContentLoaded\", fn);\n",
       "        })();\n",
       "      },\n",
       "      function(Bokeh) {\n",
       "      }\n",
       "    ];\n",
       "  \n",
       "    function run_inline_js() {\n",
       "      \n",
       "      if ((window.Bokeh !== undefined) || (force === true)) {\n",
       "        for (var i = 0; i < inline_js.length; i++) {\n",
       "          inline_js[i](window.Bokeh);\n",
       "        }if (force === true) {\n",
       "          display_loaded();\n",
       "        }} else if (Date.now() < window._bokeh_timeout) {\n",
       "        setTimeout(run_inline_js, 100);\n",
       "      } else if (!window._bokeh_failed_load) {\n",
       "        console.log(\"Bokeh: BokehJS failed to load within specified timeout.\");\n",
       "        window._bokeh_failed_load = true;\n",
       "      } else if (force !== true) {\n",
       "        var cell = $(document.getElementById(\"44c08b9b-1b20-4570-bce3-f65fc17b91b1\")).parents('.cell').data().cell;\n",
       "        cell.output_area.append_execute_result(NB_LOAD_WARNING)\n",
       "      }\n",
       "  \n",
       "    }\n",
       "  \n",
       "    if (window._bokeh_is_loading === 0) {\n",
       "      console.log(\"Bokeh: BokehJS loaded, going straight to plotting\");\n",
       "      run_inline_js();\n",
       "    } else {\n",
       "      load_libs(js_urls, function() {\n",
       "        console.log(\"Bokeh: BokehJS plotting callback run at\", now());\n",
       "        run_inline_js();\n",
       "      });\n",
       "    }\n",
       "  }(this));\n",
       "</script>"
      ]
     },
     "metadata": {},
     "output_type": "display_data"
    }
   ],
   "source": [
    "p = figure()\n",
    "p = Histogram(inac_call, values='GTcons', title='Inaccurate_Call_HG002: Consensust GT', color='LightSlateGray', bins=15, plot_height=250, xlabel=\"GTcons\", ylabel=\"Frequency\")\n",
    "show(p)"
   ]
  }
 ],
 "metadata": {
  "kernelspec": {
   "display_name": "Python [NIHFAES]",
   "language": "python",
   "name": "Python [NIHFAES]"
  },
  "language_info": {
   "codemirror_mode": {
    "name": "ipython",
    "version": 3
   },
   "file_extension": ".py",
   "mimetype": "text/x-python",
   "name": "python",
   "nbconvert_exporter": "python",
   "pygments_lexer": "ipython3",
   "version": "3.5.2"
  }
 },
 "nbformat": 4,
 "nbformat_minor": 2
}
