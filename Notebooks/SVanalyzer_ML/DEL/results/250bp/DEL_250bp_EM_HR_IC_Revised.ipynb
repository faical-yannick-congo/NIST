{
 "cells": [
  {
   "cell_type": "markdown",
   "metadata": {},
   "source": [
    "### 250bp: SVanalyzer\n",
    "\n",
    "* The following notebook is trained on data generated from revised R script [Oct 12 2017]\n",
    "    * Exact Match [1] and Homozygous [0] Reference data points\n",
    "    * Removed all data points with Gtcons and GTconswithoutXX -1\n",
    "* 5k randomly selected deletions test data was also processed through same R script\n",
    "* Balanced Training Set for GTcons labels:\n",
    "* **Train/Prediction Label:** EM, HR, IC"
   ]
  },
  {
   "cell_type": "code",
   "execution_count": 1,
   "metadata": {
    "collapsed": true
   },
   "outputs": [],
   "source": [
    "\"\"\"\n",
    "Imports\n",
    "\"\"\"\n",
    "import pandas as pd\n",
    "import numpy as np\n",
    "from fancyimpute import KNN\n",
    "import matplotlib.pyplot as plt\n",
    "from sklearn import preprocessing\n",
    "from sklearn.preprocessing import LabelEncoder\n",
    "from sklearn.model_selection import LeaveOneOut\n",
    "from scipy.stats import ks_2samp\n",
    "from scipy import stats\n",
    "from matplotlib import pyplot\n",
    "from scipy.linalg import svd\n",
    "from sklearn.decomposition import TruncatedSVD\n",
    "from sklearn.ensemble import RandomForestClassifier\n",
    "from sklearn.metrics import roc_auc_score\n",
    "from sklearn.manifold import TSNE\n",
    "from sklearn.decomposition import PCA as sklearnPCA\n",
    "import plotly.plotly as py\n",
    "from sklearn.cluster import DBSCAN\n",
    "from sklearn.model_selection import train_test_split\n",
    "from sklearn import metrics\n",
    "from sklearn.metrics import f1_score, precision_score\n",
    "from sklearn import preprocessing\n",
    "from ggplot import *\n",
    "from bokeh.models import HoverTool\n",
    "from bokeh.plotting import show\n",
    "from bokeh.charts import Scatter, Histogram, output_file, show\n",
    "from bokeh.plotting import figure, show, output_file, ColumnDataSource\n",
    "from bokeh.io import output_notebook\n",
    "from bokeh.charts import Bar, output_file, show\n",
    "import bokeh.palettes as palettes\n",
    "from bokeh.models import HoverTool, BoxSelectTool, Legend\n",
    "from sklearn import (manifold, datasets, decomposition, ensemble,\n",
    "                     discriminant_analysis, random_projection)"
   ]
  },
  {
   "cell_type": "code",
   "execution_count": 2,
   "metadata": {},
   "outputs": [
    {
     "data": {
      "text/html": [
       "<div>\n",
       "<table border=\"1\" class=\"dataframe\">\n",
       "  <thead>\n",
       "    <tr style=\"text-align: right;\">\n",
       "      <th></th>\n",
       "      <th>chrom</th>\n",
       "      <th>sample</th>\n",
       "      <th>id</th>\n",
       "      <th>start</th>\n",
       "      <th>end</th>\n",
       "      <th>Size</th>\n",
       "      <th>type</th>\n",
       "      <th>SVtype</th>\n",
       "      <th>refN_cnt</th>\n",
       "      <th>refN_pct</th>\n",
       "      <th>...</th>\n",
       "      <th>Ill250.amb_reason_orientation_orientation</th>\n",
       "      <th>Ill250.amb_reason_same_scores</th>\n",
       "      <th>Ill250.ref_alnScore_mean</th>\n",
       "      <th>Ill250.ref_alnScore_std</th>\n",
       "      <th>Ill250.ref_count</th>\n",
       "      <th>Ill250.ref_insertSize_mean</th>\n",
       "      <th>Ill250.ref_insertSize_std</th>\n",
       "      <th>Ill250.ref_reason_alignmentScore</th>\n",
       "      <th>Ill250.ref_reason_insertSizeScore</th>\n",
       "      <th>Ill250.ref_reason_orientation</th>\n",
       "    </tr>\n",
       "  </thead>\n",
       "  <tbody>\n",
       "    <tr>\n",
       "      <th>0</th>\n",
       "      <td>1</td>\n",
       "      <td>HG002</td>\n",
       "      <td>23</td>\n",
       "      <td>72766323</td>\n",
       "      <td>72811839</td>\n",
       "      <td>-45516</td>\n",
       "      <td>Deletion</td>\n",
       "      <td>Deletion</td>\n",
       "      <td>0</td>\n",
       "      <td>0</td>\n",
       "      <td>...</td>\n",
       "      <td>2.0</td>\n",
       "      <td>0.0</td>\n",
       "      <td>985.830076</td>\n",
       "      <td>20.181192</td>\n",
       "      <td>3019.0</td>\n",
       "      <td>416.447168</td>\n",
       "      <td>84.434919</td>\n",
       "      <td>3019.0</td>\n",
       "      <td>NaN</td>\n",
       "      <td>0.0</td>\n",
       "    </tr>\n",
       "  </tbody>\n",
       "</table>\n",
       "<p>1 rows × 51 columns</p>\n",
       "</div>"
      ],
      "text/plain": [
       "  chrom sample  id     start       end   Size      type    SVtype  refN_cnt  \\\n",
       "0     1  HG002  23  72766323  72811839 -45516  Deletion  Deletion         0   \n",
       "\n",
       "   refN_pct              ...                \\\n",
       "0         0              ...                 \n",
       "\n",
       "   Ill250.amb_reason_orientation_orientation  Ill250.amb_reason_same_scores  \\\n",
       "0                                        2.0                            0.0   \n",
       "\n",
       "   Ill250.ref_alnScore_mean  Ill250.ref_alnScore_std  Ill250.ref_count  \\\n",
       "0                985.830076                20.181192            3019.0   \n",
       "\n",
       "   Ill250.ref_insertSize_mean  Ill250.ref_insertSize_std  \\\n",
       "0                  416.447168                  84.434919   \n",
       "\n",
       "   Ill250.ref_reason_alignmentScore  Ill250.ref_reason_insertSizeScore  \\\n",
       "0                            3019.0                                NaN   \n",
       "\n",
       "   Ill250.ref_reason_orientation  \n",
       "0                            0.0  \n",
       "\n",
       "[1 rows x 51 columns]"
      ]
     },
     "execution_count": 2,
     "metadata": {},
     "output_type": "execute_result"
    }
   ],
   "source": [
    "# Import Training Data\n",
    "# SVanalyzer generated training data\n",
    "df_train = pd.read_csv('/Volumes/lesleydata/SVanalyzer_ML/Oct122017_Revised_R/dataframes/training_data/tech_sep/HG002/DEL/250bp_EM_HR_IC_HG002_DEL_min1.csv')\n",
    "df_train_2 = pd.read_csv('/Volumes/lesleydata/SVanalyzer_ML/Oct122017_Revised_R/dataframes/training_data/tech_sep/HG002/DEL/250bp_EM_HR_IC_HG002_DEL_min1.csv')\n",
    "df_train.rename(columns={'size': 'Size'}, inplace=True)\n",
    "df_train.head(1)"
   ]
  },
  {
   "cell_type": "code",
   "execution_count": 3,
   "metadata": {},
   "outputs": [
    {
     "data": {
      "text/html": [
       "<div>\n",
       "<table border=\"1\" class=\"dataframe\">\n",
       "  <thead>\n",
       "    <tr style=\"text-align: right;\">\n",
       "      <th></th>\n",
       "      <th>chrom</th>\n",
       "      <th>sample</th>\n",
       "      <th>id</th>\n",
       "      <th>start</th>\n",
       "      <th>end</th>\n",
       "      <th>Size</th>\n",
       "      <th>type</th>\n",
       "      <th>SVtype</th>\n",
       "      <th>refN_cnt</th>\n",
       "      <th>refN_pct</th>\n",
       "      <th>...</th>\n",
       "      <th>Ill250.amb_reason_orientation_alignmentScore</th>\n",
       "      <th>Ill250.amb_reason_orientation_orientation</th>\n",
       "      <th>Ill250.amb_reason_same_scores</th>\n",
       "      <th>Ill250.ref_alnScore_mean</th>\n",
       "      <th>Ill250.ref_alnScore_std</th>\n",
       "      <th>Ill250.ref_count</th>\n",
       "      <th>Ill250.ref_insertSize_mean</th>\n",
       "      <th>Ill250.ref_insertSize_std</th>\n",
       "      <th>Ill250.ref_reason_alignmentScore</th>\n",
       "      <th>Ill250.ref_reason_orientation</th>\n",
       "    </tr>\n",
       "  </thead>\n",
       "  <tbody>\n",
       "    <tr>\n",
       "      <th>0</th>\n",
       "      <td>1</td>\n",
       "      <td>HG002</td>\n",
       "      <td>859</td>\n",
       "      <td>37568322</td>\n",
       "      <td>37568587</td>\n",
       "      <td>-115</td>\n",
       "      <td>Insertion</td>\n",
       "      <td>Deletion</td>\n",
       "      <td>0</td>\n",
       "      <td>0</td>\n",
       "      <td>...</td>\n",
       "      <td>1.0</td>\n",
       "      <td>10.0</td>\n",
       "      <td>1.0</td>\n",
       "      <td>957.875</td>\n",
       "      <td>38.589628</td>\n",
       "      <td>40.0</td>\n",
       "      <td>445.375</td>\n",
       "      <td>91.373871</td>\n",
       "      <td>39.0</td>\n",
       "      <td>1.0</td>\n",
       "    </tr>\n",
       "  </tbody>\n",
       "</table>\n",
       "<p>1 rows × 49 columns</p>\n",
       "</div>"
      ],
      "text/plain": [
       "  chrom sample   id     start       end  Size       type    SVtype  refN_cnt  \\\n",
       "0     1  HG002  859  37568322  37568587  -115  Insertion  Deletion         0   \n",
       "\n",
       "   refN_pct              ...                \\\n",
       "0         0              ...                 \n",
       "\n",
       "   Ill250.amb_reason_orientation_alignmentScore  \\\n",
       "0                                           1.0   \n",
       "\n",
       "   Ill250.amb_reason_orientation_orientation  Ill250.amb_reason_same_scores  \\\n",
       "0                                       10.0                            1.0   \n",
       "\n",
       "   Ill250.ref_alnScore_mean  Ill250.ref_alnScore_std  Ill250.ref_count  \\\n",
       "0                   957.875                38.589628              40.0   \n",
       "\n",
       "   Ill250.ref_insertSize_mean  Ill250.ref_insertSize_std  \\\n",
       "0                     445.375                  91.373871   \n",
       "\n",
       "   Ill250.ref_reason_alignmentScore  Ill250.ref_reason_orientation  \n",
       "0                              39.0                            1.0  \n",
       "\n",
       "[1 rows x 49 columns]"
      ]
     },
     "execution_count": 3,
     "metadata": {},
     "output_type": "execute_result"
    }
   ],
   "source": [
    "# Import Test Data\n",
    "# SVanalyzer generated training data\n",
    "df_test = pd.read_csv('/Volumes/lesleydata/SVanalyzer_ML/Oct122017_Revised_R/dataframes/test/final_df/tech_sep/DEL/HG002/250bp_HG002_DEL_min1.csv')\n",
    "df_test_2 = pd.read_csv('/Volumes/lesleydata/SVanalyzer_ML/Oct122017_Revised_R/dataframes/test/final_df/tech_sep/DEL/HG002/250bp_HG002_DEL_min1.csv')\n",
    "df_test.rename(columns={'size': 'Size'}, inplace=True)\n",
    "df_test.head(1)"
   ]
  },
  {
   "cell_type": "code",
   "execution_count": 4,
   "metadata": {},
   "outputs": [
    {
     "data": {
      "text/plain": [
       "{'Ill250.ref_reason_insertSizeScore', 'Label'}"
      ]
     },
     "execution_count": 4,
     "metadata": {},
     "output_type": "execute_result"
    }
   ],
   "source": [
    "# Store header names in lists and find names that are NOT contained in BOTH lists\n",
    "c = list(df_train.columns.values)\n",
    "d = list(df_test.columns.values)\n",
    "set(c) - set(d)"
   ]
  },
  {
   "cell_type": "code",
   "execution_count": 5,
   "metadata": {
    "collapsed": true
   },
   "outputs": [],
   "source": [
    "### Drop columns that are not shared by both dataframes\n",
    "df_train.drop(['Ill250.ref_reason_insertSizeScore'], axis=1, inplace = True)\n",
    "df_train.drop(['GTcons'], axis=1, inplace = True)\n",
    "df_train.drop(['GTconswithoutIll250.GT'], axis=1, inplace = True)\n",
    "df_train.drop(['GTconflict'], axis=1, inplace = True)\n",
    "df_train.drop(['GTsupp'], axis=1, inplace = True)\n",
    "df_train.drop(['sample'], axis=1, inplace = True)\n",
    "df_train.drop(['SVtype'], axis=1, inplace = True)\n",
    "df_train.drop(['type'], axis=1, inplace = True)\n",
    "df_train.drop(['id'], axis=1, inplace = True)"
   ]
  },
  {
   "cell_type": "code",
   "execution_count": 6,
   "metadata": {},
   "outputs": [
    {
     "data": {
      "text/html": [
       "<div>\n",
       "<table border=\"1\" class=\"dataframe\">\n",
       "  <thead>\n",
       "    <tr style=\"text-align: right;\">\n",
       "      <th></th>\n",
       "      <th>chrom</th>\n",
       "      <th>start</th>\n",
       "      <th>end</th>\n",
       "      <th>Size</th>\n",
       "      <th>refN_cnt</th>\n",
       "      <th>refN_pct</th>\n",
       "      <th>segdup_cnt</th>\n",
       "      <th>segdup_pct</th>\n",
       "      <th>tandemrep_cnt</th>\n",
       "      <th>tandemrep_pct</th>\n",
       "      <th>...</th>\n",
       "      <th>Ill250.amb_reason_orientation_alignmentScore</th>\n",
       "      <th>Ill250.amb_reason_orientation_orientation</th>\n",
       "      <th>Ill250.amb_reason_same_scores</th>\n",
       "      <th>Ill250.ref_alnScore_mean</th>\n",
       "      <th>Ill250.ref_alnScore_std</th>\n",
       "      <th>Ill250.ref_count</th>\n",
       "      <th>Ill250.ref_insertSize_mean</th>\n",
       "      <th>Ill250.ref_insertSize_std</th>\n",
       "      <th>Ill250.ref_reason_alignmentScore</th>\n",
       "      <th>Ill250.ref_reason_orientation</th>\n",
       "    </tr>\n",
       "  </thead>\n",
       "  <tbody>\n",
       "    <tr>\n",
       "      <th>0</th>\n",
       "      <td>1</td>\n",
       "      <td>72766323</td>\n",
       "      <td>72811839</td>\n",
       "      <td>-45516</td>\n",
       "      <td>0</td>\n",
       "      <td>0</td>\n",
       "      <td>4</td>\n",
       "      <td>0.076523</td>\n",
       "      <td>110</td>\n",
       "      <td>0.059979</td>\n",
       "      <td>...</td>\n",
       "      <td>89.0</td>\n",
       "      <td>2.0</td>\n",
       "      <td>0.0</td>\n",
       "      <td>985.830076</td>\n",
       "      <td>20.181192</td>\n",
       "      <td>3019.0</td>\n",
       "      <td>416.447168</td>\n",
       "      <td>84.434919</td>\n",
       "      <td>3019.0</td>\n",
       "      <td>0.0</td>\n",
       "    </tr>\n",
       "  </tbody>\n",
       "</table>\n",
       "<p>1 rows × 42 columns</p>\n",
       "</div>"
      ],
      "text/plain": [
       "  chrom     start       end   Size  refN_cnt  refN_pct  segdup_cnt  \\\n",
       "0     1  72766323  72811839 -45516         0         0           4   \n",
       "\n",
       "   segdup_pct  tandemrep_cnt  tandemrep_pct              ...                \\\n",
       "0    0.076523            110       0.059979              ...                 \n",
       "\n",
       "   Ill250.amb_reason_orientation_alignmentScore  \\\n",
       "0                                          89.0   \n",
       "\n",
       "   Ill250.amb_reason_orientation_orientation  Ill250.amb_reason_same_scores  \\\n",
       "0                                        2.0                            0.0   \n",
       "\n",
       "   Ill250.ref_alnScore_mean  Ill250.ref_alnScore_std  Ill250.ref_count  \\\n",
       "0                985.830076                20.181192            3019.0   \n",
       "\n",
       "   Ill250.ref_insertSize_mean  Ill250.ref_insertSize_std  \\\n",
       "0                  416.447168                  84.434919   \n",
       "\n",
       "   Ill250.ref_reason_alignmentScore  Ill250.ref_reason_orientation  \n",
       "0                            3019.0                            0.0  \n",
       "\n",
       "[1 rows x 42 columns]"
      ]
     },
     "execution_count": 6,
     "metadata": {},
     "output_type": "execute_result"
    }
   ],
   "source": [
    "df_train.head(1)"
   ]
  },
  {
   "cell_type": "code",
   "execution_count": 7,
   "metadata": {
    "collapsed": true
   },
   "outputs": [],
   "source": [
    "df_train['chrom'].replace('X', 23, inplace=True)\n",
    "df_train['chrom'].replace('Y', 24, inplace=True)\n",
    "df_test['chrom'].replace('X', 23, inplace=True)\n",
    "df_test['chrom'].replace('Y', 24, inplace=True)"
   ]
  },
  {
   "cell_type": "code",
   "execution_count": 8,
   "metadata": {},
   "outputs": [
    {
     "data": {
      "text/plain": [
       "{'GTconflict',\n",
       " 'GTcons',\n",
       " 'GTconswithoutIll250.GT',\n",
       " 'GTsupp',\n",
       " 'SVtype',\n",
       " 'id',\n",
       " 'sample',\n",
       " 'type'}"
      ]
     },
     "execution_count": 8,
     "metadata": {},
     "output_type": "execute_result"
    }
   ],
   "source": [
    "# Store header names in lists and find names that are NOT contained in BOTH lists\n",
    "c = list(df_train.columns.values)\n",
    "d = list(df_test.columns.values)\n",
    "set(d) - set(c)"
   ]
  },
  {
   "cell_type": "code",
   "execution_count": 9,
   "metadata": {
    "collapsed": true
   },
   "outputs": [],
   "source": [
    "### Drop columns that are not shared by both dataframes\n",
    "df_test.drop(['GTcons'], axis=1, inplace = True)\n",
    "df_test.drop(['GTconflict'], axis=1, inplace = True)\n",
    "df_test.drop(['GTconswithoutIll250.GT'], axis=1, inplace = True)\n",
    "df_test.drop(['GTsupp'], axis=1, inplace = True)\n",
    "df_test.drop(['sample'], axis=1, inplace = True)\n",
    "df_test.drop(['SVtype'], axis=1, inplace = True)\n",
    "df_test.drop(['type'], axis=1, inplace = True)\n",
    "df_test.drop(['id'], axis=1, inplace = True)"
   ]
  },
  {
   "cell_type": "markdown",
   "metadata": {},
   "source": [
    "***\n",
    "Impute missing values using KNN\n",
    "***"
   ]
  },
  {
   "cell_type": "code",
   "execution_count": 10,
   "metadata": {},
   "outputs": [
    {
     "data": {
      "text/html": [
       "<div>\n",
       "<table border=\"1\" class=\"dataframe\">\n",
       "  <thead>\n",
       "    <tr style=\"text-align: right;\">\n",
       "      <th></th>\n",
       "      <th>chrom</th>\n",
       "      <th>start</th>\n",
       "      <th>end</th>\n",
       "      <th>Size</th>\n",
       "      <th>refN_cnt</th>\n",
       "      <th>refN_pct</th>\n",
       "      <th>segdup_cnt</th>\n",
       "      <th>segdup_pct</th>\n",
       "      <th>tandemrep_cnt</th>\n",
       "      <th>tandemrep_pct</th>\n",
       "      <th>...</th>\n",
       "      <th>Ill250.amb_reason_orientation_alignmentScore</th>\n",
       "      <th>Ill250.amb_reason_orientation_orientation</th>\n",
       "      <th>Ill250.amb_reason_same_scores</th>\n",
       "      <th>Ill250.ref_alnScore_mean</th>\n",
       "      <th>Ill250.ref_alnScore_std</th>\n",
       "      <th>Ill250.ref_count</th>\n",
       "      <th>Ill250.ref_insertSize_mean</th>\n",
       "      <th>Ill250.ref_insertSize_std</th>\n",
       "      <th>Ill250.ref_reason_alignmentScore</th>\n",
       "      <th>Ill250.ref_reason_orientation</th>\n",
       "    </tr>\n",
       "  </thead>\n",
       "  <tbody>\n",
       "    <tr>\n",
       "      <th>0</th>\n",
       "      <td>1</td>\n",
       "      <td>72766323</td>\n",
       "      <td>72811839</td>\n",
       "      <td>-45516</td>\n",
       "      <td>0</td>\n",
       "      <td>0</td>\n",
       "      <td>4</td>\n",
       "      <td>0.076523</td>\n",
       "      <td>110</td>\n",
       "      <td>0.059979</td>\n",
       "      <td>...</td>\n",
       "      <td>89.0</td>\n",
       "      <td>2.0</td>\n",
       "      <td>0.0</td>\n",
       "      <td>985.830076</td>\n",
       "      <td>20.181192</td>\n",
       "      <td>3019.0</td>\n",
       "      <td>416.447168</td>\n",
       "      <td>84.434919</td>\n",
       "      <td>3019.0</td>\n",
       "      <td>0.0</td>\n",
       "    </tr>\n",
       "    <tr>\n",
       "      <th>1</th>\n",
       "      <td>1</td>\n",
       "      <td>96139975</td>\n",
       "      <td>96142391</td>\n",
       "      <td>-2416</td>\n",
       "      <td>0</td>\n",
       "      <td>0</td>\n",
       "      <td>0</td>\n",
       "      <td>0.000000</td>\n",
       "      <td>2</td>\n",
       "      <td>0.014487</td>\n",
       "      <td>...</td>\n",
       "      <td>7.0</td>\n",
       "      <td>5.0</td>\n",
       "      <td>0.0</td>\n",
       "      <td>991.896552</td>\n",
       "      <td>8.854274</td>\n",
       "      <td>203.0</td>\n",
       "      <td>422.167488</td>\n",
       "      <td>78.005757</td>\n",
       "      <td>203.0</td>\n",
       "      <td>0.0</td>\n",
       "    </tr>\n",
       "    <tr>\n",
       "      <th>2</th>\n",
       "      <td>1</td>\n",
       "      <td>109690878</td>\n",
       "      <td>109690918</td>\n",
       "      <td>-39</td>\n",
       "      <td>0</td>\n",
       "      <td>0</td>\n",
       "      <td>0</td>\n",
       "      <td>0.000000</td>\n",
       "      <td>1</td>\n",
       "      <td>0.400000</td>\n",
       "      <td>...</td>\n",
       "      <td>2.0</td>\n",
       "      <td>8.0</td>\n",
       "      <td>0.0</td>\n",
       "      <td>966.620690</td>\n",
       "      <td>38.728421</td>\n",
       "      <td>29.0</td>\n",
       "      <td>454.896552</td>\n",
       "      <td>102.198031</td>\n",
       "      <td>29.0</td>\n",
       "      <td>0.0</td>\n",
       "    </tr>\n",
       "  </tbody>\n",
       "</table>\n",
       "<p>3 rows × 42 columns</p>\n",
       "</div>"
      ],
      "text/plain": [
       "  chrom      start        end   Size  refN_cnt  refN_pct  segdup_cnt  \\\n",
       "0     1   72766323   72811839 -45516         0         0           4   \n",
       "1     1   96139975   96142391  -2416         0         0           0   \n",
       "2     1  109690878  109690918    -39         0         0           0   \n",
       "\n",
       "   segdup_pct  tandemrep_cnt  tandemrep_pct              ...                \\\n",
       "0    0.076523            110       0.059979              ...                 \n",
       "1    0.000000              2       0.014487              ...                 \n",
       "2    0.000000              1       0.400000              ...                 \n",
       "\n",
       "   Ill250.amb_reason_orientation_alignmentScore  \\\n",
       "0                                          89.0   \n",
       "1                                           7.0   \n",
       "2                                           2.0   \n",
       "\n",
       "   Ill250.amb_reason_orientation_orientation  Ill250.amb_reason_same_scores  \\\n",
       "0                                        2.0                            0.0   \n",
       "1                                        5.0                            0.0   \n",
       "2                                        8.0                            0.0   \n",
       "\n",
       "   Ill250.ref_alnScore_mean  Ill250.ref_alnScore_std  Ill250.ref_count  \\\n",
       "0                985.830076                20.181192            3019.0   \n",
       "1                991.896552                 8.854274             203.0   \n",
       "2                966.620690                38.728421              29.0   \n",
       "\n",
       "   Ill250.ref_insertSize_mean  Ill250.ref_insertSize_std  \\\n",
       "0                  416.447168                  84.434919   \n",
       "1                  422.167488                  78.005757   \n",
       "2                  454.896552                 102.198031   \n",
       "\n",
       "   Ill250.ref_reason_alignmentScore  Ill250.ref_reason_orientation  \n",
       "0                            3019.0                            0.0  \n",
       "1                             203.0                            0.0  \n",
       "2                              29.0                            0.0  \n",
       "\n",
       "[3 rows x 42 columns]"
      ]
     },
     "execution_count": 10,
     "metadata": {},
     "output_type": "execute_result"
    }
   ],
   "source": [
    "# Store training data in a new variable which will be converted to a matrix\n",
    "X = df_train\n",
    "X.head(3)"
   ]
  },
  {
   "cell_type": "code",
   "execution_count": 11,
   "metadata": {},
   "outputs": [
    {
     "name": "stdout",
     "output_type": "stream",
     "text": [
      "Imputing row 1/2465 with 2 missing, elapsed time: 1.897\n",
      "Imputing row 101/2465 with 2 missing, elapsed time: 1.947\n",
      "Imputing row 201/2465 with 2 missing, elapsed time: 1.956\n",
      "Imputing row 301/2465 with 2 missing, elapsed time: 1.964\n",
      "Imputing row 401/2465 with 2 missing, elapsed time: 1.973\n",
      "Imputing row 501/2465 with 2 missing, elapsed time: 1.983\n",
      "Imputing row 601/2465 with 2 missing, elapsed time: 1.991\n",
      "Imputing row 701/2465 with 2 missing, elapsed time: 2.000\n",
      "Imputing row 801/2465 with 2 missing, elapsed time: 2.009\n",
      "Imputing row 901/2465 with 2 missing, elapsed time: 2.017\n",
      "Imputing row 1001/2465 with 2 missing, elapsed time: 2.026\n",
      "Imputing row 1101/2465 with 2 missing, elapsed time: 2.035\n",
      "Imputing row 1201/2465 with 2 missing, elapsed time: 2.043\n",
      "Imputing row 1301/2465 with 2 missing, elapsed time: 2.052\n",
      "Imputing row 1401/2465 with 2 missing, elapsed time: 2.061\n",
      "Imputing row 1501/2465 with 2 missing, elapsed time: 2.070\n",
      "Imputing row 1601/2465 with 2 missing, elapsed time: 2.079\n",
      "Imputing row 1701/2465 with 2 missing, elapsed time: 2.089\n",
      "Imputing row 1801/2465 with 0 missing, elapsed time: 2.093\n",
      "Imputing row 1901/2465 with 0 missing, elapsed time: 2.095\n",
      "Imputing row 2001/2465 with 0 missing, elapsed time: 2.096\n",
      "Imputing row 2101/2465 with 0 missing, elapsed time: 2.096\n",
      "Imputing row 2201/2465 with 0 missing, elapsed time: 2.099\n",
      "Imputing row 2301/2465 with 0 missing, elapsed time: 2.101\n",
      "Imputing row 2401/2465 with 0 missing, elapsed time: 2.102\n"
     ]
    }
   ],
   "source": [
    "# Convert dataframe to matrix\n",
    "X=X.as_matrix()\n",
    "\n",
    "#Imput missing values from three closest observations\n",
    "X_imputed=KNN(k=3).complete(X)\n",
    "X=pd.DataFrame(X_imputed)"
   ]
  },
  {
   "cell_type": "code",
   "execution_count": 12,
   "metadata": {},
   "outputs": [
    {
     "data": {
      "text/html": [
       "<div>\n",
       "<table border=\"1\" class=\"dataframe\">\n",
       "  <thead>\n",
       "    <tr style=\"text-align: right;\">\n",
       "      <th></th>\n",
       "      <th>chrom</th>\n",
       "      <th>start</th>\n",
       "      <th>end</th>\n",
       "      <th>Size</th>\n",
       "      <th>refN_cnt</th>\n",
       "      <th>refN_pct</th>\n",
       "      <th>segdup_cnt</th>\n",
       "      <th>segdup_pct</th>\n",
       "      <th>tandemrep_cnt</th>\n",
       "      <th>tandemrep_pct</th>\n",
       "      <th>...</th>\n",
       "      <th>Ill250.amb_reason_orientation_alignmentScore</th>\n",
       "      <th>Ill250.amb_reason_orientation_orientation</th>\n",
       "      <th>Ill250.amb_reason_same_scores</th>\n",
       "      <th>Ill250.ref_alnScore_mean</th>\n",
       "      <th>Ill250.ref_alnScore_std</th>\n",
       "      <th>Ill250.ref_count</th>\n",
       "      <th>Ill250.ref_insertSize_mean</th>\n",
       "      <th>Ill250.ref_insertSize_std</th>\n",
       "      <th>Ill250.ref_reason_alignmentScore</th>\n",
       "      <th>Ill250.ref_reason_orientation</th>\n",
       "    </tr>\n",
       "  </thead>\n",
       "  <tbody>\n",
       "    <tr>\n",
       "      <th>0</th>\n",
       "      <td>1.0</td>\n",
       "      <td>72766323.0</td>\n",
       "      <td>72811839.0</td>\n",
       "      <td>-45516.0</td>\n",
       "      <td>0.0</td>\n",
       "      <td>0.0</td>\n",
       "      <td>4.0</td>\n",
       "      <td>0.076523</td>\n",
       "      <td>110.0</td>\n",
       "      <td>0.059979</td>\n",
       "      <td>...</td>\n",
       "      <td>89.0</td>\n",
       "      <td>2.0</td>\n",
       "      <td>0.0</td>\n",
       "      <td>985.830076</td>\n",
       "      <td>20.181192</td>\n",
       "      <td>3019.0</td>\n",
       "      <td>416.447168</td>\n",
       "      <td>84.434919</td>\n",
       "      <td>3019.0</td>\n",
       "      <td>0.0</td>\n",
       "    </tr>\n",
       "    <tr>\n",
       "      <th>1</th>\n",
       "      <td>1.0</td>\n",
       "      <td>96139975.0</td>\n",
       "      <td>96142391.0</td>\n",
       "      <td>-2416.0</td>\n",
       "      <td>0.0</td>\n",
       "      <td>0.0</td>\n",
       "      <td>0.0</td>\n",
       "      <td>0.000000</td>\n",
       "      <td>2.0</td>\n",
       "      <td>0.014487</td>\n",
       "      <td>...</td>\n",
       "      <td>7.0</td>\n",
       "      <td>5.0</td>\n",
       "      <td>0.0</td>\n",
       "      <td>991.896552</td>\n",
       "      <td>8.854274</td>\n",
       "      <td>203.0</td>\n",
       "      <td>422.167488</td>\n",
       "      <td>78.005757</td>\n",
       "      <td>203.0</td>\n",
       "      <td>0.0</td>\n",
       "    </tr>\n",
       "    <tr>\n",
       "      <th>2</th>\n",
       "      <td>1.0</td>\n",
       "      <td>109690878.0</td>\n",
       "      <td>109690918.0</td>\n",
       "      <td>-39.0</td>\n",
       "      <td>0.0</td>\n",
       "      <td>0.0</td>\n",
       "      <td>0.0</td>\n",
       "      <td>0.000000</td>\n",
       "      <td>1.0</td>\n",
       "      <td>0.400000</td>\n",
       "      <td>...</td>\n",
       "      <td>2.0</td>\n",
       "      <td>8.0</td>\n",
       "      <td>0.0</td>\n",
       "      <td>966.620690</td>\n",
       "      <td>38.728421</td>\n",
       "      <td>29.0</td>\n",
       "      <td>454.896552</td>\n",
       "      <td>102.198031</td>\n",
       "      <td>29.0</td>\n",
       "      <td>0.0</td>\n",
       "    </tr>\n",
       "  </tbody>\n",
       "</table>\n",
       "<p>3 rows × 42 columns</p>\n",
       "</div>"
      ],
      "text/plain": [
       "   chrom        start          end     Size  refN_cnt  refN_pct  segdup_cnt  \\\n",
       "0    1.0   72766323.0   72811839.0 -45516.0       0.0       0.0         4.0   \n",
       "1    1.0   96139975.0   96142391.0  -2416.0       0.0       0.0         0.0   \n",
       "2    1.0  109690878.0  109690918.0    -39.0       0.0       0.0         0.0   \n",
       "\n",
       "   segdup_pct  tandemrep_cnt  tandemrep_pct              ...                \\\n",
       "0    0.076523          110.0       0.059979              ...                 \n",
       "1    0.000000            2.0       0.014487              ...                 \n",
       "2    0.000000            1.0       0.400000              ...                 \n",
       "\n",
       "   Ill250.amb_reason_orientation_alignmentScore  \\\n",
       "0                                          89.0   \n",
       "1                                           7.0   \n",
       "2                                           2.0   \n",
       "\n",
       "   Ill250.amb_reason_orientation_orientation  Ill250.amb_reason_same_scores  \\\n",
       "0                                        2.0                            0.0   \n",
       "1                                        5.0                            0.0   \n",
       "2                                        8.0                            0.0   \n",
       "\n",
       "   Ill250.ref_alnScore_mean  Ill250.ref_alnScore_std  Ill250.ref_count  \\\n",
       "0                985.830076                20.181192            3019.0   \n",
       "1                991.896552                 8.854274             203.0   \n",
       "2                966.620690                38.728421              29.0   \n",
       "\n",
       "   Ill250.ref_insertSize_mean  Ill250.ref_insertSize_std  \\\n",
       "0                  416.447168                  84.434919   \n",
       "1                  422.167488                  78.005757   \n",
       "2                  454.896552                 102.198031   \n",
       "\n",
       "   Ill250.ref_reason_alignmentScore  Ill250.ref_reason_orientation  \n",
       "0                            3019.0                            0.0  \n",
       "1                             203.0                            0.0  \n",
       "2                              29.0                            0.0  \n",
       "\n",
       "[3 rows x 42 columns]"
      ]
     },
     "execution_count": 12,
     "metadata": {},
     "output_type": "execute_result"
    }
   ],
   "source": [
    "# Store header values in a list, will be used later to re-label the matrix post KNN imputation\n",
    "dftrain_header = list(df_train.columns.values)\n",
    "X.columns = dftrain_header\n",
    "X.head(3)"
   ]
  },
  {
   "cell_type": "code",
   "execution_count": 13,
   "metadata": {
    "collapsed": true
   },
   "outputs": [],
   "source": [
    "# Store Labels in a new 'Y' DataFrame\n",
    "Y = pd.DataFrame()\n",
    "Y = X['Label']"
   ]
  },
  {
   "cell_type": "code",
   "execution_count": 14,
   "metadata": {},
   "outputs": [
    {
     "data": {
      "text/plain": [
       "1.0    775\n",
       "0.0    962\n",
       "2.0    728\n",
       "dtype: int64"
      ]
     },
     "execution_count": 14,
     "metadata": {},
     "output_type": "execute_result"
    }
   ],
   "source": [
    "#Count the number of labels\n",
    "pd.value_counts(Y.values, sort=False)"
   ]
  },
  {
   "cell_type": "code",
   "execution_count": 15,
   "metadata": {
    "collapsed": true
   },
   "outputs": [],
   "source": [
    "# Note: originally selected 1000 of each label --> find out why some are lost"
   ]
  },
  {
   "cell_type": "code",
   "execution_count": 16,
   "metadata": {
    "collapsed": true
   },
   "outputs": [],
   "source": [
    "# Remove labels from feature set\n",
    "X.drop(['Label'],axis=1, inplace = True)"
   ]
  },
  {
   "cell_type": "code",
   "execution_count": 17,
   "metadata": {
    "collapsed": true
   },
   "outputs": [],
   "source": [
    "# Order features\n",
    "X4 = X.reindex_axis(sorted(X.columns), axis=1)"
   ]
  },
  {
   "cell_type": "markdown",
   "metadata": {},
   "source": [
    "***\n",
    "Machine Learning\n",
    "***\n",
    "\n",
    "<a id='machine_learning'></a>"
   ]
  },
  {
   "cell_type": "markdown",
   "metadata": {},
   "source": [
    "Description:\n",
    "\n",
    "   * In the following section a random forest model will be trained on svanalyzer data.\n",
    "   **FYI**: [see description below of the SVanalyzer data](#svan_1)\n",
    "       * The model was trained using [train/test split](http://scikit-learn.org/0.16/modules/generated/sklearn.cross_validation.train_test_split.html) where 70% of the data was used to train the model and the model performance was determined by predicting labels for the remaining 30% of the data\n",
    "       * Reminder: The labels for this training set and the following [prediction step](#prediction_step) are:\n",
    "           * Exact Match (1)\n",
    "           * Homozygous Reference (0)\n",
    "           * Inaccurate Call (2)\n",
    "           \n",
    "   * The trained model will be used to predict labels for 5000 randomly selected deletions [these datapoints were randomly selected from [union_170509_refalt.sort.vcf](ftp://ftp-trace.ncbi.nlm.nih.gov/giab/ftp/data/AshkenazimTrio/analysis/NIST_UnionSVs_05092017/)]\n",
    "   \n",
    "   "
   ]
  },
  {
   "cell_type": "markdown",
   "metadata": {},
   "source": [
    "<a id='svan_1'></a>\n",
    "* **Reminder - SVanalyzer data description:** \n",
    "     * **1000 Exact Match**: 1000 datapoints were randomly selected from the following [svanalyzer_union_170509_v0.3.0b.vcf](ftp://ftp-trace.ncbi.nlm.nih.gov/giab/ftp/data/AshkenazimTrio/analysis/NIST_UnionSVs_05092017/Preliminary_Integrations_v0.3.0/)\n",
    "     * **1000 Homozygous Reference**: 1000 datapoints were randomly selected from the following [svanalyzer_union_170509_v0.3.0b.vcf](ftp://ftp-trace.ncbi.nlm.nih.gov/giab/ftp/data/AshkenazimTrio/analysis/NIST_UnionSVs_05092017/Preliminary_Integrations_v0.3.0/)\n",
    "     * **1000 Inaccurate Calls**: 1000 datapoints were randomly selected from the following\n",
    "[svanalyzer_union_170509_refalt.2.2.2.clustered.uniquecalls.vcf](ftp://ftp-trace.ncbi.nlm.nih.gov/giab/ftp/data/AshkenazimTrio/analysis/NIST_UnionSVs_05092017/Preliminary_Integrations_v0.3.0/)\n",
    "   \n",
    "   * Source of Features: svviz, GA4GH [tandem repeat, segmental duplications, refN], R analysis [consensus genotype, GTsup]   \n",
    "    "
   ]
  },
  {
   "cell_type": "markdown",
   "metadata": {},
   "source": [
    "** Train Random Forest Classifier **"
   ]
  },
  {
   "cell_type": "markdown",
   "metadata": {},
   "source": [
    "<a id='train_test'></a>"
   ]
  },
  {
   "cell_type": "code",
   "execution_count": 18,
   "metadata": {
    "collapsed": true
   },
   "outputs": [],
   "source": [
    "# Train Test Split\n",
    "# Train on 70% of the data and test on 30%\n",
    "X_train, X_test, y_train, y_test = train_test_split(X4, Y, test_size=0.3, random_state=0)"
   ]
  },
  {
   "cell_type": "code",
   "execution_count": 19,
   "metadata": {},
   "outputs": [
    {
     "data": {
      "text/plain": [
       "RandomForestClassifier(bootstrap=True, class_weight=None, criterion='gini',\n",
       "            max_depth=None, max_features='auto', max_leaf_nodes=None,\n",
       "            min_impurity_split=1e-07, min_samples_leaf=1,\n",
       "            min_samples_split=2, min_weight_fraction_leaf=0.0,\n",
       "            n_estimators=10, n_jobs=1, oob_score=False, random_state=None,\n",
       "            verbose=0, warm_start=False)"
      ]
     },
     "execution_count": 19,
     "metadata": {},
     "output_type": "execute_result"
    }
   ],
   "source": [
    "# Train Random Forest Classifier\n",
    "model = RandomForestClassifier() \n",
    "model.fit(X_train, y_train)"
   ]
  },
  {
   "cell_type": "code",
   "execution_count": 20,
   "metadata": {},
   "outputs": [
    {
     "name": "stdout",
     "output_type": "stream",
     "text": [
      "Feature ranking:\n",
      "1. feature 3 (0.175726)\n",
      "2. feature 2 (0.093827)\n",
      "3. feature 31 (0.062620)\n",
      "4. feature 6 (0.047342)\n",
      "5. feature 29 (0.040893)\n",
      "6. feature 24 (0.033104)\n",
      "7. feature 0 (0.032548)\n",
      "8. feature 9 (0.031960)\n",
      "9. feature 11 (0.027730)\n",
      "10. feature 14 (0.027497)\n",
      "11. feature 20 (0.026922)\n",
      "12. feature 27 (0.026841)\n",
      "13. feature 10 (0.026150)\n",
      "14. feature 25 (0.025847)\n",
      "15. feature 28 (0.025572)\n",
      "16. feature 13 (0.025027)\n",
      "17. feature 12 (0.024553)\n",
      "18. feature 26 (0.024546)\n",
      "19. feature 16 (0.023616)\n",
      "20. feature 5 (0.021745)\n",
      "21. feature 33 (0.019632)\n",
      "22. feature 38 (0.017630)\n",
      "23. feature 40 (0.015393)\n",
      "24. feature 22 (0.015338)\n",
      "25. feature 37 (0.014917)\n",
      "26. feature 32 (0.014779)\n",
      "27. feature 36 (0.014534)\n",
      "28. feature 23 (0.014002)\n",
      "29. feature 1 (0.013975)\n",
      "30. feature 4 (0.013865)\n",
      "31. feature 39 (0.012372)\n",
      "32. feature 21 (0.003667)\n",
      "33. feature 30 (0.002604)\n",
      "34. feature 7 (0.001613)\n",
      "35. feature 15 (0.000865)\n",
      "36. feature 18 (0.000461)\n",
      "37. feature 8 (0.000285)\n",
      "38. feature 35 (0.000000)\n",
      "39. feature 34 (0.000000)\n",
      "40. feature 19 (0.000000)\n",
      "41. feature 17 (0.000000)\n"
     ]
    }
   ],
   "source": [
    "# Feature Importance\n",
    "importances = model.feature_importances_\n",
    "indices = np.argsort(importances)[::-1]\n",
    "print(\"Feature ranking:\")\n",
    "\n",
    "for f in range(X_test.shape[1]):\n",
    "    print(\"%d. feature %d (%f)\" % (f + 1, indices[f], importances[indices[f]]))"
   ]
  },
  {
   "cell_type": "markdown",
   "metadata": {},
   "source": [
    "<a id='feature_importance'></a>"
   ]
  },
  {
   "cell_type": "code",
   "execution_count": 21,
   "metadata": {},
   "outputs": [
    {
     "name": "stderr",
     "output_type": "stream",
     "text": [
      "/Users/lmc2/anaconda/envs/NIHFAES/lib/python3.5/site-packages/ipykernel/__main__.py:3: FutureWarning:\n",
      "\n",
      "sort is deprecated, use sort_values(inplace=True) for INPLACE sorting\n",
      "\n"
     ]
    },
    {
     "data": {
      "text/plain": [
       "<matplotlib.axes._subplots.AxesSubplot at 0x1143f7da0>"
      ]
     },
     "execution_count": 21,
     "metadata": {},
     "output_type": "execute_result"
    },
    {
     "data": {
      "image/png": "[encoded data removed]",
      "text/plain": [
       "<matplotlib.figure.Figure at 0x1165143c8>"
      ]
     },
     "metadata": {},
     "output_type": "display_data"
    }
   ],
   "source": [
    "%matplotlib inline\n",
    "feature_importances = pd.Series(model.feature_importances_, index=X_test.columns)\n",
    "feature_importances.sort()\n",
    "feature_importances.plot.bar()"
   ]
  },
  {
   "cell_type": "code",
   "execution_count": 22,
   "metadata": {},
   "outputs": [
    {
     "data": {
      "text/plain": [
       "1.0    545\n",
       "0.0    676\n",
       "2.0    504\n",
       "dtype: int64"
      ]
     },
     "execution_count": 22,
     "metadata": {},
     "output_type": "execute_result"
    }
   ],
   "source": [
    "#NOTE: Training Set - Show number of Hom Ref, Hom Var, Het Var datapoints the model was trained on\n",
    "ytrain = pd.DataFrame()\n",
    "ytrain['ytrain'] = y_train\n",
    "pd.value_counts(ytrain['ytrain'].values, sort=False)"
   ]
  },
  {
   "cell_type": "code",
   "execution_count": 23,
   "metadata": {
    "collapsed": true
   },
   "outputs": [],
   "source": [
    "pred = model.predict(X_test)"
   ]
  },
  {
   "cell_type": "markdown",
   "metadata": {},
   "source": [
    "<a id='traintest_precision'></a>"
   ]
  },
  {
   "cell_type": "code",
   "execution_count": 24,
   "metadata": {},
   "outputs": [
    {
     "data": {
      "text/plain": [
       "0.78378378378378377"
      ]
     },
     "execution_count": 24,
     "metadata": {},
     "output_type": "execute_result"
    }
   ],
   "source": [
    "precision_score(pred, y_test, average='micro') "
   ]
  },
  {
   "cell_type": "code",
   "execution_count": 25,
   "metadata": {},
   "outputs": [
    {
     "data": {
      "text/html": [
       "<div>\n",
       "<table border=\"1\" class=\"dataframe\">\n",
       "  <thead>\n",
       "    <tr style=\"text-align: right;\">\n",
       "      <th></th>\n",
       "      <th>Ill250.GT</th>\n",
       "      <th>Ill250.alt_alnScore_mean</th>\n",
       "      <th>Ill250.alt_alnScore_std</th>\n",
       "      <th>Ill250.alt_count</th>\n",
       "      <th>Ill250.alt_insertSize_mean</th>\n",
       "      <th>Ill250.alt_insertSize_std</th>\n",
       "      <th>Ill250.alt_reason_alignmentScore</th>\n",
       "      <th>Ill250.alt_reason_insertSizeScore</th>\n",
       "      <th>Ill250.alt_reason_orientation</th>\n",
       "      <th>Ill250.amb_alnScore_mean</th>\n",
       "      <th>...</th>\n",
       "      <th>Size</th>\n",
       "      <th>chrom</th>\n",
       "      <th>end</th>\n",
       "      <th>refN_cnt</th>\n",
       "      <th>refN_pct</th>\n",
       "      <th>segdup_cnt</th>\n",
       "      <th>segdup_pct</th>\n",
       "      <th>start</th>\n",
       "      <th>tandemrep_cnt</th>\n",
       "      <th>tandemrep_pct</th>\n",
       "    </tr>\n",
       "  </thead>\n",
       "  <tbody>\n",
       "    <tr>\n",
       "      <th>581</th>\n",
       "      <td>-1.0</td>\n",
       "      <td>973.929825</td>\n",
       "      <td>14.877110</td>\n",
       "      <td>57.0</td>\n",
       "      <td>419.54386</td>\n",
       "      <td>85.982877</td>\n",
       "      <td>57.0</td>\n",
       "      <td>0.0</td>\n",
       "      <td>0.0</td>\n",
       "      <td>887.694737</td>\n",
       "      <td>...</td>\n",
       "      <td>-34.0</td>\n",
       "      <td>6.0</td>\n",
       "      <td>74305662.0</td>\n",
       "      <td>0.0</td>\n",
       "      <td>0.0</td>\n",
       "      <td>0.0</td>\n",
       "      <td>0.0</td>\n",
       "      <td>74305627.0</td>\n",
       "      <td>1.0</td>\n",
       "      <td>1.000000</td>\n",
       "    </tr>\n",
       "    <tr>\n",
       "      <th>1366</th>\n",
       "      <td>0.0</td>\n",
       "      <td>0.000000</td>\n",
       "      <td>0.000000</td>\n",
       "      <td>0.0</td>\n",
       "      <td>0.00000</td>\n",
       "      <td>0.000000</td>\n",
       "      <td>0.0</td>\n",
       "      <td>0.0</td>\n",
       "      <td>0.0</td>\n",
       "      <td>860.469072</td>\n",
       "      <td>...</td>\n",
       "      <td>-63.0</td>\n",
       "      <td>4.0</td>\n",
       "      <td>3387751.0</td>\n",
       "      <td>0.0</td>\n",
       "      <td>0.0</td>\n",
       "      <td>0.0</td>\n",
       "      <td>0.0</td>\n",
       "      <td>3387687.0</td>\n",
       "      <td>0.0</td>\n",
       "      <td>0.000000</td>\n",
       "    </tr>\n",
       "    <tr>\n",
       "      <th>195</th>\n",
       "      <td>1.0</td>\n",
       "      <td>982.142857</td>\n",
       "      <td>7.899884</td>\n",
       "      <td>28.0</td>\n",
       "      <td>416.00000</td>\n",
       "      <td>81.548408</td>\n",
       "      <td>28.0</td>\n",
       "      <td>0.0</td>\n",
       "      <td>0.0</td>\n",
       "      <td>878.798995</td>\n",
       "      <td>...</td>\n",
       "      <td>-30.0</td>\n",
       "      <td>14.0</td>\n",
       "      <td>80096183.0</td>\n",
       "      <td>0.0</td>\n",
       "      <td>0.0</td>\n",
       "      <td>0.0</td>\n",
       "      <td>0.0</td>\n",
       "      <td>80096152.0</td>\n",
       "      <td>1.0</td>\n",
       "      <td>1.000000</td>\n",
       "    </tr>\n",
       "    <tr>\n",
       "      <th>1380</th>\n",
       "      <td>0.0</td>\n",
       "      <td>0.000000</td>\n",
       "      <td>0.000000</td>\n",
       "      <td>0.0</td>\n",
       "      <td>0.00000</td>\n",
       "      <td>0.000000</td>\n",
       "      <td>0.0</td>\n",
       "      <td>0.0</td>\n",
       "      <td>0.0</td>\n",
       "      <td>892.471429</td>\n",
       "      <td>...</td>\n",
       "      <td>-201.0</td>\n",
       "      <td>4.0</td>\n",
       "      <td>44018993.0</td>\n",
       "      <td>0.0</td>\n",
       "      <td>0.0</td>\n",
       "      <td>0.0</td>\n",
       "      <td>0.0</td>\n",
       "      <td>44018792.0</td>\n",
       "      <td>1.0</td>\n",
       "      <td>1.000000</td>\n",
       "    </tr>\n",
       "    <tr>\n",
       "      <th>878</th>\n",
       "      <td>0.0</td>\n",
       "      <td>0.000000</td>\n",
       "      <td>0.000000</td>\n",
       "      <td>0.0</td>\n",
       "      <td>0.00000</td>\n",
       "      <td>0.000000</td>\n",
       "      <td>0.0</td>\n",
       "      <td>0.0</td>\n",
       "      <td>0.0</td>\n",
       "      <td>906.129944</td>\n",
       "      <td>...</td>\n",
       "      <td>-23.0</td>\n",
       "      <td>10.0</td>\n",
       "      <td>114858945.0</td>\n",
       "      <td>0.0</td>\n",
       "      <td>0.0</td>\n",
       "      <td>0.0</td>\n",
       "      <td>0.0</td>\n",
       "      <td>114858922.0</td>\n",
       "      <td>1.0</td>\n",
       "      <td>0.130435</td>\n",
       "    </tr>\n",
       "  </tbody>\n",
       "</table>\n",
       "<p>5 rows × 41 columns</p>\n",
       "</div>"
      ],
      "text/plain": [
       "      Ill250.GT  Ill250.alt_alnScore_mean  Ill250.alt_alnScore_std  \\\n",
       "581        -1.0                973.929825                14.877110   \n",
       "1366        0.0                  0.000000                 0.000000   \n",
       "195         1.0                982.142857                 7.899884   \n",
       "1380        0.0                  0.000000                 0.000000   \n",
       "878         0.0                  0.000000                 0.000000   \n",
       "\n",
       "      Ill250.alt_count  Ill250.alt_insertSize_mean  Ill250.alt_insertSize_std  \\\n",
       "581               57.0                   419.54386                  85.982877   \n",
       "1366               0.0                     0.00000                   0.000000   \n",
       "195               28.0                   416.00000                  81.548408   \n",
       "1380               0.0                     0.00000                   0.000000   \n",
       "878                0.0                     0.00000                   0.000000   \n",
       "\n",
       "      Ill250.alt_reason_alignmentScore  Ill250.alt_reason_insertSizeScore  \\\n",
       "581                               57.0                                0.0   \n",
       "1366                               0.0                                0.0   \n",
       "195                               28.0                                0.0   \n",
       "1380                               0.0                                0.0   \n",
       "878                                0.0                                0.0   \n",
       "\n",
       "      Ill250.alt_reason_orientation  Ill250.amb_alnScore_mean      ...        \\\n",
       "581                             0.0                887.694737      ...         \n",
       "1366                            0.0                860.469072      ...         \n",
       "195                             0.0                878.798995      ...         \n",
       "1380                            0.0                892.471429      ...         \n",
       "878                             0.0                906.129944      ...         \n",
       "\n",
       "       Size  chrom          end  refN_cnt  refN_pct  segdup_cnt  segdup_pct  \\\n",
       "581   -34.0    6.0   74305662.0       0.0       0.0         0.0         0.0   \n",
       "1366  -63.0    4.0    3387751.0       0.0       0.0         0.0         0.0   \n",
       "195   -30.0   14.0   80096183.0       0.0       0.0         0.0         0.0   \n",
       "1380 -201.0    4.0   44018993.0       0.0       0.0         0.0         0.0   \n",
       "878   -23.0   10.0  114858945.0       0.0       0.0         0.0         0.0   \n",
       "\n",
       "            start  tandemrep_cnt  tandemrep_pct  \n",
       "581    74305627.0            1.0       1.000000  \n",
       "1366    3387687.0            0.0       0.000000  \n",
       "195    80096152.0            1.0       1.000000  \n",
       "1380   44018792.0            1.0       1.000000  \n",
       "878   114858922.0            1.0       0.130435  \n",
       "\n",
       "[5 rows x 41 columns]"
      ]
     },
     "execution_count": 25,
     "metadata": {},
     "output_type": "execute_result"
    }
   ],
   "source": [
    "# Add original labels and predicted labels back to the original dataframe\n",
    "df_Xtest = pd.DataFrame(X_test)\n",
    "df_Xtest.head()"
   ]
  },
  {
   "cell_type": "code",
   "execution_count": 26,
   "metadata": {
    "collapsed": true
   },
   "outputs": [],
   "source": [
    "labels = pd.DataFrame(y_test)"
   ]
  },
  {
   "cell_type": "code",
   "execution_count": 27,
   "metadata": {
    "collapsed": true
   },
   "outputs": [],
   "source": [
    "df_Xtest['predicted_label'] = pred\n",
    "df_Xtest['Label'] = df_train['Label']\n",
    "df_Xtest['chrom'] = df_train['chrom']\n",
    "df_Xtest['start'] = df_train['start']\n",
    "df_Xtest['end'] = df_train['end']\n",
    "# df_Xtest['Y_test'] = labels"
   ]
  },
  {
   "cell_type": "code",
   "execution_count": 28,
   "metadata": {},
   "outputs": [
    {
     "data": {
      "text/plain": [
       "0    286\n",
       "1    230\n",
       "2    224\n",
       "dtype: int64"
      ]
     },
     "execution_count": 28,
     "metadata": {},
     "output_type": "execute_result"
    }
   ],
   "source": [
    "pd.value_counts(df_Xtest['Label'].values, sort=False)"
   ]
  },
  {
   "cell_type": "code",
   "execution_count": 29,
   "metadata": {},
   "outputs": [
    {
     "data": {
      "text/plain": [
       "1.0    247\n",
       "0.0    345\n",
       "2.0    148\n",
       "dtype: int64"
      ]
     },
     "execution_count": 29,
     "metadata": {},
     "output_type": "execute_result"
    }
   ],
   "source": [
    "pd.value_counts(df_Xtest['predicted_label'].values, sort=False)"
   ]
  },
  {
   "cell_type": "code",
   "execution_count": 30,
   "metadata": {},
   "outputs": [
    {
     "name": "stdout",
     "output_type": "stream",
     "text": [
      "[[253   9  24]\n",
      " [  9 212   9]\n",
      " [ 83  26 115]]\n"
     ]
    }
   ],
   "source": [
    "from sklearn.metrics import confusion_matrix\n",
    "ytest = df_Xtest['Label']\n",
    "predict = df_Xtest['predicted_label']\n",
    "print(confusion_matrix(ytest, predict))"
   ]
  },
  {
   "cell_type": "code",
   "execution_count": 31,
   "metadata": {
    "collapsed": true
   },
   "outputs": [],
   "source": [
    "df_Xtest['Label'].replace(0, 'Homozygous_Reference', inplace=True)\n",
    "df_Xtest['Label'].replace(1, 'Exact_Match', inplace=True)\n",
    "df_Xtest['Label'].replace(2, 'Inaccurate_Call', inplace=True)\n",
    "df_Xtest['predicted_label'].replace(0.0, 'Homozygous_Reference', inplace=True)\n",
    "df_Xtest['predicted_label'].replace(1.0, 'Exact_Match', inplace=True)\n",
    "df_Xtest['predicted_label'].replace(2.0, 'Inaccurate_Call', inplace=True)"
   ]
  },
  {
   "cell_type": "markdown",
   "metadata": {},
   "source": [
    "<a id='traintest_confusion_matrix'></a>"
   ]
  },
  {
   "cell_type": "code",
   "execution_count": 32,
   "metadata": {},
   "outputs": [
    {
     "data": {
      "text/html": [
       "<div>\n",
       "<table border=\"1\" class=\"dataframe\">\n",
       "  <thead>\n",
       "    <tr style=\"text-align: right;\">\n",
       "      <th>Predicted</th>\n",
       "      <th>Exact_Match</th>\n",
       "      <th>Homozygous_Reference</th>\n",
       "      <th>Inaccurate_Call</th>\n",
       "      <th>All</th>\n",
       "    </tr>\n",
       "    <tr>\n",
       "      <th>True</th>\n",
       "      <th></th>\n",
       "      <th></th>\n",
       "      <th></th>\n",
       "      <th></th>\n",
       "    </tr>\n",
       "  </thead>\n",
       "  <tbody>\n",
       "    <tr>\n",
       "      <th>Exact_Match</th>\n",
       "      <td>212</td>\n",
       "      <td>9</td>\n",
       "      <td>9</td>\n",
       "      <td>230</td>\n",
       "    </tr>\n",
       "    <tr>\n",
       "      <th>Homozygous_Reference</th>\n",
       "      <td>9</td>\n",
       "      <td>253</td>\n",
       "      <td>24</td>\n",
       "      <td>286</td>\n",
       "    </tr>\n",
       "    <tr>\n",
       "      <th>Inaccurate_Call</th>\n",
       "      <td>26</td>\n",
       "      <td>83</td>\n",
       "      <td>115</td>\n",
       "      <td>224</td>\n",
       "    </tr>\n",
       "    <tr>\n",
       "      <th>All</th>\n",
       "      <td>247</td>\n",
       "      <td>345</td>\n",
       "      <td>148</td>\n",
       "      <td>740</td>\n",
       "    </tr>\n",
       "  </tbody>\n",
       "</table>\n",
       "</div>"
      ],
      "text/plain": [
       "Predicted             Exact_Match  Homozygous_Reference  Inaccurate_Call  All\n",
       "True                                                                         \n",
       "Exact_Match                   212                     9                9  230\n",
       "Homozygous_Reference            9                   253               24  286\n",
       "Inaccurate_Call                26                    83              115  224\n",
       "All                           247                   345              148  740"
      ]
     },
     "execution_count": 32,
     "metadata": {},
     "output_type": "execute_result"
    }
   ],
   "source": [
    "pd.crosstab(ytest, predict, rownames=['True'], colnames=['Predicted'], margins=True)"
   ]
  },
  {
   "cell_type": "code",
   "execution_count": 33,
   "metadata": {},
   "outputs": [
    {
     "name": "stdout",
     "output_type": "stream",
     "text": [
      "                      precision    recall  f1-score   support\n",
      "\n",
      "         Exact_Match       0.86      0.92      0.89       230\n",
      "Homozygous_Reference       0.73      0.88      0.80       286\n",
      "     Inaccurate_Call       0.78      0.51      0.62       224\n",
      "\n",
      "         avg / total       0.79      0.78      0.77       740\n",
      "\n"
     ]
    }
   ],
   "source": [
    "from sklearn.metrics import classification_report\n",
    "print(classification_report(ytest, predict))"
   ]
  },
  {
   "cell_type": "markdown",
   "metadata": {},
   "source": [
    "***\n",
    "Predict\n",
    "***"
   ]
  },
  {
   "cell_type": "markdown",
   "metadata": {},
   "source": [
    "Description:\n",
    "\n",
    "   * In the [previous section](#machine_learning) the model was trained on svanalyzer data.\n",
    "   **FYI**: [see description below of the SVanalyzer data](#svan_2)\n",
    "       * The model was trained using [train/test split](#train_test) where 70% of the data was used to train the model and the model performance was determined by predicting labels for the remaining 30% of the data\n",
    "       * Reminder: The labels for this training set and the following [prediction step](#prediction_step) are:\n",
    "           * Exact Match (1)\n",
    "           * Homozygous Reference (0)\n",
    "           * Inaccurate Call (2)\n",
    "           \n",
    "   * The trained model is used in the following section to predict labels for 5000 randomly selected Deletions [these datapoints were randomly selected from [union_170509_refalt.sort.vcf](ftp://ftp-trace.ncbi.nlm.nih.gov/giab/ftp/data/AshkenazimTrio/analysis/NIST_UnionSVs_05092017/)]\n",
    "   \n",
    "   "
   ]
  },
  {
   "cell_type": "markdown",
   "metadata": {},
   "source": [
    "<a id='svan_2'></a>\n",
    "* **Reminder - SVanalyzer data description:** \n",
    "     * **1000 Exact Match**: 1000 datapoints were randomly selected from the following [svanalyzer_union_170509_v0.3.0b.vcf](ftp://ftp-trace.ncbi.nlm.nih.gov/giab/ftp/data/AshkenazimTrio/analysis/NIST_UnionSVs_05092017/Preliminary_Integrations_v0.3.0/)\n",
    "     * **1000 Homozygous Reference**: 1000 datapoints were randomly selected from the following [svanalyzer_union_170509_v0.3.0b.vcf](ftp://ftp-trace.ncbi.nlm.nih.gov/giab/ftp/data/AshkenazimTrio/analysis/NIST_UnionSVs_05092017/Preliminary_Integrations_v0.3.0/)\n",
    "     * **1000 Inaccurate Calls**: 1000 datapoints were randomly selected from the following\n",
    "[svanalyzer_union_170509_refalt.2.2.2.clustered.uniquecalls.vcf](ftp://ftp-trace.ncbi.nlm.nih.gov/giab/ftp/data/AshkenazimTrio/analysis/NIST_UnionSVs_05092017/Preliminary_Integrations_v0.3.0/)\n",
    "   \n",
    "   * Source of Features: svviz, GA4GH [tandem repeat, segmental duplications, refN], R analysis [consensus genotype, GTsup]   \n",
    "   "
   ]
  },
  {
   "cell_type": "markdown",
   "metadata": {},
   "source": [
    "** Load Data **"
   ]
  },
  {
   "cell_type": "code",
   "execution_count": 34,
   "metadata": {
    "collapsed": true
   },
   "outputs": [],
   "source": [
    "X2 = df_test"
   ]
  },
  {
   "cell_type": "markdown",
   "metadata": {},
   "source": [
    "** Impute missing values using KNN **"
   ]
  },
  {
   "cell_type": "code",
   "execution_count": 35,
   "metadata": {},
   "outputs": [
    {
     "name": "stdout",
     "output_type": "stream",
     "text": [
      "Imputing row 1/3828 with 1 missing, elapsed time: 4.550\n",
      "Imputing row 101/3828 with 1 missing, elapsed time: 4.556\n",
      "Imputing row 201/3828 with 1 missing, elapsed time: 4.561\n",
      "Imputing row 301/3828 with 1 missing, elapsed time: 4.567\n",
      "Imputing row 401/3828 with 1 missing, elapsed time: 4.573\n",
      "Imputing row 501/3828 with 1 missing, elapsed time: 4.579\n",
      "Imputing row 601/3828 with 1 missing, elapsed time: 4.585\n",
      "Imputing row 701/3828 with 1 missing, elapsed time: 4.590\n",
      "Imputing row 801/3828 with 1 missing, elapsed time: 4.595\n",
      "Imputing row 901/3828 with 1 missing, elapsed time: 4.601\n",
      "Imputing row 1001/3828 with 1 missing, elapsed time: 4.609\n",
      "Imputing row 1101/3828 with 1 missing, elapsed time: 4.615\n",
      "Imputing row 1201/3828 with 1 missing, elapsed time: 4.621\n",
      "Imputing row 1301/3828 with 1 missing, elapsed time: 4.630\n",
      "Imputing row 1401/3828 with 1 missing, elapsed time: 4.638\n",
      "Imputing row 1501/3828 with 1 missing, elapsed time: 4.643\n",
      "Imputing row 1601/3828 with 1 missing, elapsed time: 4.653\n",
      "Imputing row 1701/3828 with 1 missing, elapsed time: 4.662\n",
      "Imputing row 1801/3828 with 1 missing, elapsed time: 4.669\n",
      "Imputing row 1901/3828 with 1 missing, elapsed time: 4.675\n",
      "Imputing row 2001/3828 with 1 missing, elapsed time: 4.681\n",
      "Imputing row 2101/3828 with 1 missing, elapsed time: 4.686\n",
      "Imputing row 2201/3828 with 1 missing, elapsed time: 4.694\n",
      "Imputing row 2301/3828 with 1 missing, elapsed time: 4.699\n",
      "Imputing row 2401/3828 with 1 missing, elapsed time: 4.705\n",
      "Imputing row 2501/3828 with 1 missing, elapsed time: 4.711\n",
      "Imputing row 2601/3828 with 1 missing, elapsed time: 4.718\n",
      "Imputing row 2701/3828 with 1 missing, elapsed time: 4.723\n",
      "Imputing row 2801/3828 with 1 missing, elapsed time: 4.730\n",
      "Imputing row 2901/3828 with 1 missing, elapsed time: 4.735\n",
      "Imputing row 3001/3828 with 1 missing, elapsed time: 4.741\n",
      "Imputing row 3101/3828 with 1 missing, elapsed time: 4.748\n",
      "Imputing row 3201/3828 with 1 missing, elapsed time: 4.756\n",
      "Imputing row 3301/3828 with 1 missing, elapsed time: 4.763\n",
      "Imputing row 3401/3828 with 1 missing, elapsed time: 4.769\n",
      "Imputing row 3501/3828 with 1 missing, elapsed time: 4.775\n",
      "Imputing row 3601/3828 with 1 missing, elapsed time: 4.781\n",
      "Imputing row 3701/3828 with 1 missing, elapsed time: 4.786\n",
      "Imputing row 3801/3828 with 1 missing, elapsed time: 4.792\n"
     ]
    }
   ],
   "source": [
    "#Convert dataframe to matrix\n",
    "X2=X2.as_matrix()\n",
    "\n",
    "#Imput missing values from three closest observations\n",
    "X2_imputed=KNN(k=3).complete(X2)\n",
    "X2=pd.DataFrame(X2_imputed)"
   ]
  },
  {
   "cell_type": "code",
   "execution_count": 36,
   "metadata": {},
   "outputs": [
    {
     "data": {
      "text/html": [
       "<div>\n",
       "<table border=\"1\" class=\"dataframe\">\n",
       "  <thead>\n",
       "    <tr style=\"text-align: right;\">\n",
       "      <th></th>\n",
       "      <th>chrom</th>\n",
       "      <th>start</th>\n",
       "      <th>end</th>\n",
       "      <th>Size</th>\n",
       "      <th>refN_cnt</th>\n",
       "      <th>refN_pct</th>\n",
       "      <th>segdup_cnt</th>\n",
       "      <th>segdup_pct</th>\n",
       "      <th>tandemrep_cnt</th>\n",
       "      <th>tandemrep_pct</th>\n",
       "      <th>...</th>\n",
       "      <th>Ill250.amb_reason_orientation_alignmentScore</th>\n",
       "      <th>Ill250.amb_reason_orientation_orientation</th>\n",
       "      <th>Ill250.amb_reason_same_scores</th>\n",
       "      <th>Ill250.ref_alnScore_mean</th>\n",
       "      <th>Ill250.ref_alnScore_std</th>\n",
       "      <th>Ill250.ref_count</th>\n",
       "      <th>Ill250.ref_insertSize_mean</th>\n",
       "      <th>Ill250.ref_insertSize_std</th>\n",
       "      <th>Ill250.ref_reason_alignmentScore</th>\n",
       "      <th>Ill250.ref_reason_orientation</th>\n",
       "    </tr>\n",
       "  </thead>\n",
       "  <tbody>\n",
       "    <tr>\n",
       "      <th>0</th>\n",
       "      <td>1.0</td>\n",
       "      <td>37568322.0</td>\n",
       "      <td>37568587.0</td>\n",
       "      <td>-115.0</td>\n",
       "      <td>0.0</td>\n",
       "      <td>0.0</td>\n",
       "      <td>0.0</td>\n",
       "      <td>0.000000</td>\n",
       "      <td>3.0</td>\n",
       "      <td>0.818868</td>\n",
       "      <td>...</td>\n",
       "      <td>1.0</td>\n",
       "      <td>10.0</td>\n",
       "      <td>1.0</td>\n",
       "      <td>957.875000</td>\n",
       "      <td>38.589628</td>\n",
       "      <td>40.0</td>\n",
       "      <td>445.375</td>\n",
       "      <td>91.373871</td>\n",
       "      <td>39.0</td>\n",
       "      <td>1.0</td>\n",
       "    </tr>\n",
       "    <tr>\n",
       "      <th>1</th>\n",
       "      <td>1.0</td>\n",
       "      <td>112835104.0</td>\n",
       "      <td>112837661.0</td>\n",
       "      <td>-2534.0</td>\n",
       "      <td>0.0</td>\n",
       "      <td>0.0</td>\n",
       "      <td>1.0</td>\n",
       "      <td>0.890888</td>\n",
       "      <td>6.0</td>\n",
       "      <td>0.460305</td>\n",
       "      <td>...</td>\n",
       "      <td>1.0</td>\n",
       "      <td>4.0</td>\n",
       "      <td>0.0</td>\n",
       "      <td>970.000000</td>\n",
       "      <td>15.099669</td>\n",
       "      <td>4.0</td>\n",
       "      <td>365.750</td>\n",
       "      <td>53.932249</td>\n",
       "      <td>4.0</td>\n",
       "      <td>0.0</td>\n",
       "    </tr>\n",
       "    <tr>\n",
       "      <th>2</th>\n",
       "      <td>1.0</td>\n",
       "      <td>1092675.0</td>\n",
       "      <td>1092715.0</td>\n",
       "      <td>-40.0</td>\n",
       "      <td>0.0</td>\n",
       "      <td>0.0</td>\n",
       "      <td>0.0</td>\n",
       "      <td>0.000000</td>\n",
       "      <td>1.0</td>\n",
       "      <td>1.000000</td>\n",
       "      <td>...</td>\n",
       "      <td>0.0</td>\n",
       "      <td>5.0</td>\n",
       "      <td>0.0</td>\n",
       "      <td>973.666667</td>\n",
       "      <td>21.522598</td>\n",
       "      <td>6.0</td>\n",
       "      <td>396.500</td>\n",
       "      <td>44.962021</td>\n",
       "      <td>6.0</td>\n",
       "      <td>0.0</td>\n",
       "    </tr>\n",
       "  </tbody>\n",
       "</table>\n",
       "<p>3 rows × 41 columns</p>\n",
       "</div>"
      ],
      "text/plain": [
       "   chrom        start          end    Size  refN_cnt  refN_pct  segdup_cnt  \\\n",
       "0    1.0   37568322.0   37568587.0  -115.0       0.0       0.0         0.0   \n",
       "1    1.0  112835104.0  112837661.0 -2534.0       0.0       0.0         1.0   \n",
       "2    1.0    1092675.0    1092715.0   -40.0       0.0       0.0         0.0   \n",
       "\n",
       "   segdup_pct  tandemrep_cnt  tandemrep_pct              ...                \\\n",
       "0    0.000000            3.0       0.818868              ...                 \n",
       "1    0.890888            6.0       0.460305              ...                 \n",
       "2    0.000000            1.0       1.000000              ...                 \n",
       "\n",
       "   Ill250.amb_reason_orientation_alignmentScore  \\\n",
       "0                                           1.0   \n",
       "1                                           1.0   \n",
       "2                                           0.0   \n",
       "\n",
       "   Ill250.amb_reason_orientation_orientation  Ill250.amb_reason_same_scores  \\\n",
       "0                                       10.0                            1.0   \n",
       "1                                        4.0                            0.0   \n",
       "2                                        5.0                            0.0   \n",
       "\n",
       "   Ill250.ref_alnScore_mean  Ill250.ref_alnScore_std  Ill250.ref_count  \\\n",
       "0                957.875000                38.589628              40.0   \n",
       "1                970.000000                15.099669               4.0   \n",
       "2                973.666667                21.522598               6.0   \n",
       "\n",
       "   Ill250.ref_insertSize_mean  Ill250.ref_insertSize_std  \\\n",
       "0                     445.375                  91.373871   \n",
       "1                     365.750                  53.932249   \n",
       "2                     396.500                  44.962021   \n",
       "\n",
       "   Ill250.ref_reason_alignmentScore  Ill250.ref_reason_orientation  \n",
       "0                              39.0                            1.0  \n",
       "1                               4.0                            0.0  \n",
       "2                               6.0                            0.0  \n",
       "\n",
       "[3 rows x 41 columns]"
      ]
     },
     "execution_count": 36,
     "metadata": {},
     "output_type": "execute_result"
    }
   ],
   "source": [
    "dftest_header = list(df_test.columns.values)\n",
    "X2.columns = dftest_header\n",
    "X2.head(3)"
   ]
  },
  {
   "cell_type": "code",
   "execution_count": 37,
   "metadata": {},
   "outputs": [
    {
     "data": {
      "text/html": [
       "<div>\n",
       "<table border=\"1\" class=\"dataframe\">\n",
       "  <thead>\n",
       "    <tr style=\"text-align: right;\">\n",
       "      <th></th>\n",
       "      <th>chrom</th>\n",
       "      <th>start</th>\n",
       "      <th>end</th>\n",
       "      <th>Size</th>\n",
       "      <th>refN_cnt</th>\n",
       "      <th>refN_pct</th>\n",
       "      <th>segdup_cnt</th>\n",
       "      <th>segdup_pct</th>\n",
       "      <th>tandemrep_cnt</th>\n",
       "      <th>tandemrep_pct</th>\n",
       "      <th>...</th>\n",
       "      <th>Ill250.amb_reason_orientation_alignmentScore</th>\n",
       "      <th>Ill250.amb_reason_orientation_orientation</th>\n",
       "      <th>Ill250.amb_reason_same_scores</th>\n",
       "      <th>Ill250.ref_alnScore_mean</th>\n",
       "      <th>Ill250.ref_alnScore_std</th>\n",
       "      <th>Ill250.ref_count</th>\n",
       "      <th>Ill250.ref_insertSize_mean</th>\n",
       "      <th>Ill250.ref_insertSize_std</th>\n",
       "      <th>Ill250.ref_reason_alignmentScore</th>\n",
       "      <th>Ill250.ref_reason_orientation</th>\n",
       "    </tr>\n",
       "  </thead>\n",
       "  <tbody>\n",
       "    <tr>\n",
       "      <th>0</th>\n",
       "      <td>1.0</td>\n",
       "      <td>37568322.0</td>\n",
       "      <td>37568587.0</td>\n",
       "      <td>-115.0</td>\n",
       "      <td>0.0</td>\n",
       "      <td>0.0</td>\n",
       "      <td>0.0</td>\n",
       "      <td>0.000000</td>\n",
       "      <td>3.0</td>\n",
       "      <td>0.818868</td>\n",
       "      <td>...</td>\n",
       "      <td>1.0</td>\n",
       "      <td>10.0</td>\n",
       "      <td>1.0</td>\n",
       "      <td>957.875000</td>\n",
       "      <td>38.589628</td>\n",
       "      <td>40.0</td>\n",
       "      <td>445.375</td>\n",
       "      <td>91.373871</td>\n",
       "      <td>39.0</td>\n",
       "      <td>1.0</td>\n",
       "    </tr>\n",
       "    <tr>\n",
       "      <th>1</th>\n",
       "      <td>1.0</td>\n",
       "      <td>112835104.0</td>\n",
       "      <td>112837661.0</td>\n",
       "      <td>-2534.0</td>\n",
       "      <td>0.0</td>\n",
       "      <td>0.0</td>\n",
       "      <td>1.0</td>\n",
       "      <td>0.890888</td>\n",
       "      <td>6.0</td>\n",
       "      <td>0.460305</td>\n",
       "      <td>...</td>\n",
       "      <td>1.0</td>\n",
       "      <td>4.0</td>\n",
       "      <td>0.0</td>\n",
       "      <td>970.000000</td>\n",
       "      <td>15.099669</td>\n",
       "      <td>4.0</td>\n",
       "      <td>365.750</td>\n",
       "      <td>53.932249</td>\n",
       "      <td>4.0</td>\n",
       "      <td>0.0</td>\n",
       "    </tr>\n",
       "    <tr>\n",
       "      <th>2</th>\n",
       "      <td>1.0</td>\n",
       "      <td>1092675.0</td>\n",
       "      <td>1092715.0</td>\n",
       "      <td>-40.0</td>\n",
       "      <td>0.0</td>\n",
       "      <td>0.0</td>\n",
       "      <td>0.0</td>\n",
       "      <td>0.000000</td>\n",
       "      <td>1.0</td>\n",
       "      <td>1.000000</td>\n",
       "      <td>...</td>\n",
       "      <td>0.0</td>\n",
       "      <td>5.0</td>\n",
       "      <td>0.0</td>\n",
       "      <td>973.666667</td>\n",
       "      <td>21.522598</td>\n",
       "      <td>6.0</td>\n",
       "      <td>396.500</td>\n",
       "      <td>44.962021</td>\n",
       "      <td>6.0</td>\n",
       "      <td>0.0</td>\n",
       "    </tr>\n",
       "  </tbody>\n",
       "</table>\n",
       "<p>3 rows × 41 columns</p>\n",
       "</div>"
      ],
      "text/plain": [
       "   chrom        start          end    Size  refN_cnt  refN_pct  segdup_cnt  \\\n",
       "0    1.0   37568322.0   37568587.0  -115.0       0.0       0.0         0.0   \n",
       "1    1.0  112835104.0  112837661.0 -2534.0       0.0       0.0         1.0   \n",
       "2    1.0    1092675.0    1092715.0   -40.0       0.0       0.0         0.0   \n",
       "\n",
       "   segdup_pct  tandemrep_cnt  tandemrep_pct              ...                \\\n",
       "0    0.000000            3.0       0.818868              ...                 \n",
       "1    0.890888            6.0       0.460305              ...                 \n",
       "2    0.000000            1.0       1.000000              ...                 \n",
       "\n",
       "   Ill250.amb_reason_orientation_alignmentScore  \\\n",
       "0                                           1.0   \n",
       "1                                           1.0   \n",
       "2                                           0.0   \n",
       "\n",
       "   Ill250.amb_reason_orientation_orientation  Ill250.amb_reason_same_scores  \\\n",
       "0                                       10.0                            1.0   \n",
       "1                                        4.0                            0.0   \n",
       "2                                        5.0                            0.0   \n",
       "\n",
       "   Ill250.ref_alnScore_mean  Ill250.ref_alnScore_std  Ill250.ref_count  \\\n",
       "0                957.875000                38.589628              40.0   \n",
       "1                970.000000                15.099669               4.0   \n",
       "2                973.666667                21.522598               6.0   \n",
       "\n",
       "   Ill250.ref_insertSize_mean  Ill250.ref_insertSize_std  \\\n",
       "0                     445.375                  91.373871   \n",
       "1                     365.750                  53.932249   \n",
       "2                     396.500                  44.962021   \n",
       "\n",
       "   Ill250.ref_reason_alignmentScore  Ill250.ref_reason_orientation  \n",
       "0                              39.0                            1.0  \n",
       "1                               4.0                            0.0  \n",
       "2                               6.0                            0.0  \n",
       "\n",
       "[3 rows x 41 columns]"
      ]
     },
     "execution_count": 37,
     "metadata": {},
     "output_type": "execute_result"
    }
   ],
   "source": [
    "X3 = pd.DataFrame()\n",
    "X3 = X2\n",
    "X3.head(3)"
   ]
  },
  {
   "cell_type": "code",
   "execution_count": 38,
   "metadata": {
    "collapsed": true
   },
   "outputs": [],
   "source": [
    "# Order features\n",
    "X5 = X2.reindex_axis(sorted(X2.columns), axis=1)"
   ]
  },
  {
   "cell_type": "markdown",
   "metadata": {},
   "source": [
    "<a id='prediction_step'></a>"
   ]
  },
  {
   "cell_type": "code",
   "execution_count": 39,
   "metadata": {
    "collapsed": true
   },
   "outputs": [],
   "source": [
    "pred = model.predict(X5)"
   ]
  },
  {
   "cell_type": "code",
   "execution_count": 40,
   "metadata": {
    "collapsed": true
   },
   "outputs": [],
   "source": [
    "pred_prob = model.predict_proba(X5)"
   ]
  },
  {
   "cell_type": "code",
   "execution_count": 41,
   "metadata": {
    "collapsed": true
   },
   "outputs": [],
   "source": [
    "X5['predicted_label'] = pred\n",
    "X5['chrom'] = df_test_2['chrom']\n",
    "X5['start'] = df_test_2['start']\n",
    "X5['end'] = df_test_2['end']\n",
    "X5['Size'] = df_test_2['Size']\n",
    "X5['GTcons'] = df_test_2['GTcons']\n",
    "X5['GTsupp'] = df_test_2['GTsupp']\n",
    "X5['GTconswithoutIll250.GT'] = df_test_2['GTconswithoutIll250.GT']"
   ]
  },
  {
   "cell_type": "code",
   "execution_count": 42,
   "metadata": {
    "collapsed": true
   },
   "outputs": [],
   "source": [
    "X6 = pd.concat([X5, pd.DataFrame(pred_prob, columns=['1','2','3'])])"
   ]
  },
  {
   "cell_type": "code",
   "execution_count": null,
   "metadata": {
    "collapsed": true
   },
   "outputs": [],
   "source": [
    "X6.to_csv('/Volumes/lesleydata/SVanalyzer_ML/Oct122017_Revised_R/summary_plots/data/preliminary_df/250bp_pred_prob_DEL_SVanalyzer_revised_EMHRIC.csv', index=False)"
   ]
  },
  {
   "cell_type": "code",
   "execution_count": null,
   "metadata": {
    "collapsed": true
   },
   "outputs": [],
   "source": [
    "#Note: Reformat X6 csv"
   ]
  },
  {
   "cell_type": "code",
   "execution_count": 43,
   "metadata": {
    "collapsed": true
   },
   "outputs": [],
   "source": [
    "X6 = pd.read_csv('/Volumes/lesleydata/SVanalyzer_ML/Oct122017_Revised_R/summary_plots/data/preliminary_df/250bp_pred_prob_DEL_SVanalyzer_revised_EMHRIC.csv')"
   ]
  },
  {
   "cell_type": "code",
   "execution_count": 44,
   "metadata": {
    "collapsed": true
   },
   "outputs": [],
   "source": [
    "X6.rename(columns={'1': 'Homozygous_Reference_SVan_predprob_250bp'}, inplace=True)\n",
    "X6.rename(columns={'2': 'Exact_Match_predprob_250bp'}, inplace=True)\n",
    "X6.rename(columns={'3': 'Inaccurate_Call_predprob_250bp'}, inplace=True)\n",
    "X6.rename(columns={'predicted_label': '250bp_predicted_EMHRIC_label'}, inplace=True)"
   ]
  },
  {
   "cell_type": "code",
   "execution_count": null,
   "metadata": {
    "collapsed": true
   },
   "outputs": [],
   "source": [
    "X6.head(3)"
   ]
  },
  {
   "cell_type": "code",
   "execution_count": null,
   "metadata": {
    "collapsed": true
   },
   "outputs": [],
   "source": [
    "X6.to_csv('/Volumes/lesleydata/SVanalyzer_ML/Oct122017_Revised_R/summary_plots/data/250bp_final_df_DEL_SVanalyzer_revised_EMHRIC.csv', index=False)"
   ]
  },
  {
   "cell_type": "markdown",
   "metadata": {},
   "source": [
    "***\n",
    "Label Analysis\n",
    "***"
   ]
  },
  {
   "cell_type": "markdown",
   "metadata": {},
   "source": [
    "Description:\n",
    "  * Comparison of model predicted labels [Exact Match, Homozygous Reference, Inaccurate Calls] to consensus genotype for the 5000 randomly selected datapoints from union_refalt.vcf for HG002 only"
   ]
  },
  {
   "cell_type": "code",
   "execution_count": 45,
   "metadata": {},
   "outputs": [
    {
     "name": "stdout",
     "output_type": "stream",
     "text": [
      "[[ 577   15  261]\n",
      " [  27 1935  232]\n",
      " [   3  727   51]]\n"
     ]
    }
   ],
   "source": [
    "from sklearn.metrics import confusion_matrix\n",
    "consensus_GT = X6['GTcons']\n",
    "predict = X6['250bp_predicted_EMHRIC_label']\n",
    "print(confusion_matrix(consensus_GT, predict))"
   ]
  },
  {
   "cell_type": "code",
   "execution_count": 46,
   "metadata": {},
   "outputs": [
    {
     "name": "stdout",
     "output_type": "stream",
     "text": [
      "[[ 577   15  261]\n",
      " [  27 1935  232]\n",
      " [   3  727   51]]\n"
     ]
    }
   ],
   "source": [
    "from sklearn.metrics import confusion_matrix\n",
    "GT_without_XX = X6['GTconswithoutIll250.GT']\n",
    "predict = X6['250bp_predicted_EMHRIC_label']\n",
    "print(confusion_matrix(consensus_GT, predict))"
   ]
  },
  {
   "cell_type": "code",
   "execution_count": 47,
   "metadata": {},
   "outputs": [
    {
     "data": {
      "text/plain": [
       "0     853\n",
       "2     781\n",
       "1    2194\n",
       "dtype: int64"
      ]
     },
     "execution_count": 47,
     "metadata": {},
     "output_type": "execute_result"
    }
   ],
   "source": [
    "pd.value_counts(df_test_2['GTconswithoutIll250.GT'].values, sort=False)"
   ]
  },
  {
   "cell_type": "code",
   "execution_count": 48,
   "metadata": {},
   "outputs": [
    {
     "data": {
      "text/plain": [
       "0     853\n",
       "2     781\n",
       "1    2194\n",
       "dtype: int64"
      ]
     },
     "execution_count": 48,
     "metadata": {},
     "output_type": "execute_result"
    }
   ],
   "source": [
    "pd.value_counts(df_test_2['GTcons'].values, sort=False)"
   ]
  },
  {
   "cell_type": "code",
   "execution_count": 49,
   "metadata": {
    "collapsed": true
   },
   "outputs": [],
   "source": [
    "X6['GTcons'].replace(-1, 'Unknown', inplace=True)\n",
    "X6['GTcons'].replace(0, 'Homozygous_Reference', inplace=True)\n",
    "X6['GTcons'].replace(1, 'Heterozygous_Variant', inplace=True)\n",
    "X6['GTcons'].replace(2, 'Homozygous_Variant', inplace=True)\n",
    "X6['250bp_predicted_EMHRIC_label'].replace(0.0, 'Homozygous_Reference_SVan', inplace=True)\n",
    "X6['250bp_predicted_EMHRIC_label'].replace(1.0, 'Exact_Match', inplace=True)\n",
    "X6['250bp_predicted_EMHRIC_label'].replace(2.0, 'Inaccurate_Call', inplace=True)"
   ]
  },
  {
   "cell_type": "code",
   "execution_count": 50,
   "metadata": {
    "collapsed": true
   },
   "outputs": [],
   "source": [
    "X6['GTconswithoutIll250.GT'].replace(-1, 'Unknown', inplace=True)\n",
    "X6['GTconswithoutIll250.GT'].replace(0, 'Homozygous_Reference', inplace=True)\n",
    "X6['GTconswithoutIll250.GT'].replace(1, 'Heterozygous_Variant', inplace=True)\n",
    "X6['GTconswithoutIll250.GT'].replace(2, 'Homozygous_Variant', inplace=True)"
   ]
  },
  {
   "cell_type": "markdown",
   "metadata": {},
   "source": [
    "<a id='svan_gtcons'></a>"
   ]
  },
  {
   "cell_type": "markdown",
   "metadata": {},
   "source": [
    "** Compare SVanalyzer Labels to GTcons **"
   ]
  },
  {
   "cell_type": "code",
   "execution_count": 51,
   "metadata": {},
   "outputs": [
    {
     "data": {
      "text/html": [
       "<div>\n",
       "<table border=\"1\" class=\"dataframe\">\n",
       "  <thead>\n",
       "    <tr style=\"text-align: right;\">\n",
       "      <th>SVanalyzer_Label</th>\n",
       "      <th>Exact_Match</th>\n",
       "      <th>Homozygous_Reference_SVan</th>\n",
       "      <th>Inaccurate_Call</th>\n",
       "      <th>All</th>\n",
       "    </tr>\n",
       "    <tr>\n",
       "      <th>GTcons</th>\n",
       "      <th></th>\n",
       "      <th></th>\n",
       "      <th></th>\n",
       "      <th></th>\n",
       "    </tr>\n",
       "  </thead>\n",
       "  <tbody>\n",
       "    <tr>\n",
       "      <th>Heterozygous_Variant</th>\n",
       "      <td>1935</td>\n",
       "      <td>27</td>\n",
       "      <td>232</td>\n",
       "      <td>2194</td>\n",
       "    </tr>\n",
       "    <tr>\n",
       "      <th>Homozygous_Reference</th>\n",
       "      <td>15</td>\n",
       "      <td>577</td>\n",
       "      <td>261</td>\n",
       "      <td>853</td>\n",
       "    </tr>\n",
       "    <tr>\n",
       "      <th>Homozygous_Variant</th>\n",
       "      <td>727</td>\n",
       "      <td>3</td>\n",
       "      <td>51</td>\n",
       "      <td>781</td>\n",
       "    </tr>\n",
       "    <tr>\n",
       "      <th>All</th>\n",
       "      <td>2677</td>\n",
       "      <td>607</td>\n",
       "      <td>544</td>\n",
       "      <td>3828</td>\n",
       "    </tr>\n",
       "  </tbody>\n",
       "</table>\n",
       "</div>"
      ],
      "text/plain": [
       "SVanalyzer_Label      Exact_Match  Homozygous_Reference_SVan  Inaccurate_Call  \\\n",
       "GTcons                                                                          \n",
       "Heterozygous_Variant         1935                         27              232   \n",
       "Homozygous_Reference           15                        577              261   \n",
       "Homozygous_Variant            727                          3               51   \n",
       "All                          2677                        607              544   \n",
       "\n",
       "SVanalyzer_Label       All  \n",
       "GTcons                      \n",
       "Heterozygous_Variant  2194  \n",
       "Homozygous_Reference   853  \n",
       "Homozygous_Variant     781  \n",
       "All                   3828  "
      ]
     },
     "execution_count": 51,
     "metadata": {},
     "output_type": "execute_result"
    }
   ],
   "source": [
    "pd.crosstab(consensus_GT, predict, rownames=['GTcons'], colnames=['SVanalyzer_Label'], margins=True)"
   ]
  },
  {
   "cell_type": "markdown",
   "metadata": {},
   "source": [
    "** Compare SVanalyzer Labels to LOO Consensus GT **"
   ]
  },
  {
   "cell_type": "code",
   "execution_count": 52,
   "metadata": {},
   "outputs": [
    {
     "data": {
      "text/html": [
       "<div>\n",
       "<table border=\"1\" class=\"dataframe\">\n",
       "  <thead>\n",
       "    <tr style=\"text-align: right;\">\n",
       "      <th>SVanalyzer_Label</th>\n",
       "      <th>Exact_Match</th>\n",
       "      <th>Homozygous_Reference_SVan</th>\n",
       "      <th>Inaccurate_Call</th>\n",
       "      <th>All</th>\n",
       "    </tr>\n",
       "    <tr>\n",
       "      <th>GTcons_withoutXX</th>\n",
       "      <th></th>\n",
       "      <th></th>\n",
       "      <th></th>\n",
       "      <th></th>\n",
       "    </tr>\n",
       "  </thead>\n",
       "  <tbody>\n",
       "    <tr>\n",
       "      <th>Heterozygous_Variant</th>\n",
       "      <td>1935</td>\n",
       "      <td>27</td>\n",
       "      <td>232</td>\n",
       "      <td>2194</td>\n",
       "    </tr>\n",
       "    <tr>\n",
       "      <th>Homozygous_Reference</th>\n",
       "      <td>15</td>\n",
       "      <td>577</td>\n",
       "      <td>261</td>\n",
       "      <td>853</td>\n",
       "    </tr>\n",
       "    <tr>\n",
       "      <th>Homozygous_Variant</th>\n",
       "      <td>727</td>\n",
       "      <td>3</td>\n",
       "      <td>51</td>\n",
       "      <td>781</td>\n",
       "    </tr>\n",
       "    <tr>\n",
       "      <th>All</th>\n",
       "      <td>2677</td>\n",
       "      <td>607</td>\n",
       "      <td>544</td>\n",
       "      <td>3828</td>\n",
       "    </tr>\n",
       "  </tbody>\n",
       "</table>\n",
       "</div>"
      ],
      "text/plain": [
       "SVanalyzer_Label      Exact_Match  Homozygous_Reference_SVan  Inaccurate_Call  \\\n",
       "GTcons_withoutXX                                                                \n",
       "Heterozygous_Variant         1935                         27              232   \n",
       "Homozygous_Reference           15                        577              261   \n",
       "Homozygous_Variant            727                          3               51   \n",
       "All                          2677                        607              544   \n",
       "\n",
       "SVanalyzer_Label       All  \n",
       "GTcons_withoutXX            \n",
       "Heterozygous_Variant  2194  \n",
       "Homozygous_Reference   853  \n",
       "Homozygous_Variant     781  \n",
       "All                   3828  "
      ]
     },
     "execution_count": 52,
     "metadata": {},
     "output_type": "execute_result"
    }
   ],
   "source": [
    "pd.crosstab(GT_without_XX, predict, rownames=['GTcons_withoutXX'], colnames=['SVanalyzer_Label'], margins=True)"
   ]
  },
  {
   "cell_type": "markdown",
   "metadata": {},
   "source": [
    "** High Confidence Label Analysis**\n",
    "* **Reminder:** The labels predicted by the model are the following svanalyzer labels:\n",
    "    * Homozygous Reference: 0 \n",
    "    * Exact Match: 1 \n",
    "    * Inaccurate Call: 2 \n",
    "* Here **high confidence labels** are the labels predicted by the model that were also assigned a predict probability of either 0.9 or 1\n",
    "* The following is an analysis of predicted svanalyzer labels with predict probability >0.9"
   ]
  },
  {
   "cell_type": "code",
   "execution_count": 53,
   "metadata": {
    "collapsed": true
   },
   "outputs": [],
   "source": [
    "high_conf_labels = X6[(X6['Homozygous_Reference_SVan_predprob_250bp'] == 1) | (X6['Homozygous_Reference_SVan_predprob_250bp'] == 0.9) | (X6['Exact_Match_predprob_250bp'] == 1) | (X6['Exact_Match_predprob_250bp'] == 0.9) | (X6['Inaccurate_Call_predprob_250bp'] == 1) | (X6['Inaccurate_Call_predprob_250bp'] == 0.9)]"
   ]
  },
  {
   "cell_type": "markdown",
   "metadata": {},
   "source": [
    "** Consensus Genotype versus SVanalyzer Labels **"
   ]
  },
  {
   "cell_type": "code",
   "execution_count": 54,
   "metadata": {},
   "outputs": [
    {
     "data": {
      "text/html": [
       "<div>\n",
       "<table border=\"1\" class=\"dataframe\">\n",
       "  <thead>\n",
       "    <tr style=\"text-align: right;\">\n",
       "      <th>SVanalyzer_Label</th>\n",
       "      <th>Exact_Match</th>\n",
       "      <th>Homozygous_Reference_SVan</th>\n",
       "      <th>Inaccurate_Call</th>\n",
       "      <th>All</th>\n",
       "    </tr>\n",
       "    <tr>\n",
       "      <th>GTcons</th>\n",
       "      <th></th>\n",
       "      <th></th>\n",
       "      <th></th>\n",
       "      <th></th>\n",
       "    </tr>\n",
       "  </thead>\n",
       "  <tbody>\n",
       "    <tr>\n",
       "      <th>Heterozygous_Variant</th>\n",
       "      <td>1119</td>\n",
       "      <td>0</td>\n",
       "      <td>44</td>\n",
       "      <td>1163</td>\n",
       "    </tr>\n",
       "    <tr>\n",
       "      <th>Homozygous_Reference</th>\n",
       "      <td>0</td>\n",
       "      <td>206</td>\n",
       "      <td>36</td>\n",
       "      <td>242</td>\n",
       "    </tr>\n",
       "    <tr>\n",
       "      <th>Homozygous_Variant</th>\n",
       "      <td>492</td>\n",
       "      <td>0</td>\n",
       "      <td>3</td>\n",
       "      <td>495</td>\n",
       "    </tr>\n",
       "    <tr>\n",
       "      <th>All</th>\n",
       "      <td>1611</td>\n",
       "      <td>206</td>\n",
       "      <td>83</td>\n",
       "      <td>1900</td>\n",
       "    </tr>\n",
       "  </tbody>\n",
       "</table>\n",
       "</div>"
      ],
      "text/plain": [
       "SVanalyzer_Label      Exact_Match  Homozygous_Reference_SVan  Inaccurate_Call  \\\n",
       "GTcons                                                                          \n",
       "Heterozygous_Variant         1119                          0               44   \n",
       "Homozygous_Reference            0                        206               36   \n",
       "Homozygous_Variant            492                          0                3   \n",
       "All                          1611                        206               83   \n",
       "\n",
       "SVanalyzer_Label       All  \n",
       "GTcons                      \n",
       "Heterozygous_Variant  1163  \n",
       "Homozygous_Reference   242  \n",
       "Homozygous_Variant     495  \n",
       "All                   1900  "
      ]
     },
     "execution_count": 54,
     "metadata": {},
     "output_type": "execute_result"
    }
   ],
   "source": [
    "consensus_GT = high_conf_labels['GTcons']\n",
    "predict = high_conf_labels['250bp_predicted_EMHRIC_label']\n",
    "pd.crosstab(consensus_GT, predict, rownames=['GTcons'], colnames=['SVanalyzer_Label'], margins=True)"
   ]
  },
  {
   "cell_type": "markdown",
   "metadata": {},
   "source": [
    "** LOO Genotype versus SVanalyzer Labels **"
   ]
  },
  {
   "cell_type": "code",
   "execution_count": 55,
   "metadata": {},
   "outputs": [
    {
     "data": {
      "text/html": [
       "<div>\n",
       "<table border=\"1\" class=\"dataframe\">\n",
       "  <thead>\n",
       "    <tr style=\"text-align: right;\">\n",
       "      <th>SVanalyzer_Label</th>\n",
       "      <th>Exact_Match</th>\n",
       "      <th>Homozygous_Reference_SVan</th>\n",
       "      <th>Inaccurate_Call</th>\n",
       "      <th>All</th>\n",
       "    </tr>\n",
       "    <tr>\n",
       "      <th>GTcons_without_XX</th>\n",
       "      <th></th>\n",
       "      <th></th>\n",
       "      <th></th>\n",
       "      <th></th>\n",
       "    </tr>\n",
       "  </thead>\n",
       "  <tbody>\n",
       "    <tr>\n",
       "      <th>Heterozygous_Variant</th>\n",
       "      <td>1119</td>\n",
       "      <td>0</td>\n",
       "      <td>44</td>\n",
       "      <td>1163</td>\n",
       "    </tr>\n",
       "    <tr>\n",
       "      <th>Homozygous_Reference</th>\n",
       "      <td>0</td>\n",
       "      <td>206</td>\n",
       "      <td>36</td>\n",
       "      <td>242</td>\n",
       "    </tr>\n",
       "    <tr>\n",
       "      <th>Homozygous_Variant</th>\n",
       "      <td>492</td>\n",
       "      <td>0</td>\n",
       "      <td>3</td>\n",
       "      <td>495</td>\n",
       "    </tr>\n",
       "    <tr>\n",
       "      <th>All</th>\n",
       "      <td>1611</td>\n",
       "      <td>206</td>\n",
       "      <td>83</td>\n",
       "      <td>1900</td>\n",
       "    </tr>\n",
       "  </tbody>\n",
       "</table>\n",
       "</div>"
      ],
      "text/plain": [
       "SVanalyzer_Label      Exact_Match  Homozygous_Reference_SVan  Inaccurate_Call  \\\n",
       "GTcons_without_XX                                                               \n",
       "Heterozygous_Variant         1119                          0               44   \n",
       "Homozygous_Reference            0                        206               36   \n",
       "Homozygous_Variant            492                          0                3   \n",
       "All                          1611                        206               83   \n",
       "\n",
       "SVanalyzer_Label       All  \n",
       "GTcons_without_XX           \n",
       "Heterozygous_Variant  1163  \n",
       "Homozygous_Reference   242  \n",
       "Homozygous_Variant     495  \n",
       "All                   1900  "
      ]
     },
     "execution_count": 55,
     "metadata": {},
     "output_type": "execute_result"
    }
   ],
   "source": [
    "consensus_GT = high_conf_labels['GTconswithoutIll250.GT']\n",
    "predict = high_conf_labels['250bp_predicted_EMHRIC_label']\n",
    "pd.crosstab(consensus_GT, predict, rownames=['GTcons_without_XX'], colnames=['SVanalyzer_Label'], margins=True)"
   ]
  },
  {
   "cell_type": "markdown",
   "metadata": {},
   "source": [
    "***\n",
    "Graphs\n",
    "***"
   ]
  },
  {
   "cell_type": "markdown",
   "metadata": {},
   "source": [
    "** Exact Match **"
   ]
  },
  {
   "cell_type": "code",
   "execution_count": 56,
   "metadata": {
    "collapsed": true
   },
   "outputs": [],
   "source": [
    "em = X5['predicted_label'] == 1.0\n",
    "exact_match = X5[em]"
   ]
  },
  {
   "cell_type": "code",
   "execution_count": 57,
   "metadata": {},
   "outputs": [
    {
     "data": {
      "text/html": [
       "<div>\n",
       "<table border=\"1\" class=\"dataframe\">\n",
       "  <thead>\n",
       "    <tr style=\"text-align: right;\">\n",
       "      <th></th>\n",
       "      <th>Ill250.GT</th>\n",
       "      <th>Ill250.alt_alnScore_mean</th>\n",
       "      <th>Ill250.alt_alnScore_std</th>\n",
       "      <th>Ill250.alt_count</th>\n",
       "      <th>Ill250.alt_insertSize_mean</th>\n",
       "      <th>Ill250.alt_insertSize_std</th>\n",
       "      <th>Ill250.alt_reason_alignmentScore</th>\n",
       "      <th>Ill250.alt_reason_insertSizeScore</th>\n",
       "      <th>Ill250.alt_reason_orientation</th>\n",
       "      <th>Ill250.amb_alnScore_mean</th>\n",
       "      <th>...</th>\n",
       "      <th>refN_pct</th>\n",
       "      <th>segdup_cnt</th>\n",
       "      <th>segdup_pct</th>\n",
       "      <th>start</th>\n",
       "      <th>tandemrep_cnt</th>\n",
       "      <th>tandemrep_pct</th>\n",
       "      <th>predicted_label</th>\n",
       "      <th>GTcons</th>\n",
       "      <th>GTsupp</th>\n",
       "      <th>GTconswithoutIll250.GT</th>\n",
       "    </tr>\n",
       "  </thead>\n",
       "  <tbody>\n",
       "    <tr>\n",
       "      <th>1</th>\n",
       "      <td>-1.0</td>\n",
       "      <td>942.288889</td>\n",
       "      <td>19.746867</td>\n",
       "      <td>45.0</td>\n",
       "      <td>498.422222</td>\n",
       "      <td>83.528435</td>\n",
       "      <td>36.0</td>\n",
       "      <td>9.0</td>\n",
       "      <td>0.0</td>\n",
       "      <td>876.777778</td>\n",
       "      <td>...</td>\n",
       "      <td>0.0</td>\n",
       "      <td>1.0</td>\n",
       "      <td>0.890888</td>\n",
       "      <td>112835104</td>\n",
       "      <td>6.0</td>\n",
       "      <td>0.460305</td>\n",
       "      <td>1.0</td>\n",
       "      <td>2</td>\n",
       "      <td>1</td>\n",
       "      <td>2</td>\n",
       "    </tr>\n",
       "  </tbody>\n",
       "</table>\n",
       "<p>1 rows × 45 columns</p>\n",
       "</div>"
      ],
      "text/plain": [
       "   Ill250.GT  Ill250.alt_alnScore_mean  Ill250.alt_alnScore_std  \\\n",
       "1       -1.0                942.288889                19.746867   \n",
       "\n",
       "   Ill250.alt_count  Ill250.alt_insertSize_mean  Ill250.alt_insertSize_std  \\\n",
       "1              45.0                  498.422222                  83.528435   \n",
       "\n",
       "   Ill250.alt_reason_alignmentScore  Ill250.alt_reason_insertSizeScore  \\\n",
       "1                              36.0                                9.0   \n",
       "\n",
       "   Ill250.alt_reason_orientation  Ill250.amb_alnScore_mean  \\\n",
       "1                            0.0                876.777778   \n",
       "\n",
       "            ...            refN_pct  segdup_cnt  segdup_pct      start  \\\n",
       "1           ...                 0.0         1.0    0.890888  112835104   \n",
       "\n",
       "   tandemrep_cnt  tandemrep_pct  predicted_label  GTcons  GTsupp  \\\n",
       "1            6.0       0.460305              1.0       2       1   \n",
       "\n",
       "   GTconswithoutIll250.GT  \n",
       "1                       2  \n",
       "\n",
       "[1 rows x 45 columns]"
      ]
     },
     "execution_count": 57,
     "metadata": {},
     "output_type": "execute_result"
    }
   ],
   "source": [
    "exact_match.head(1)"
   ]
  },
  {
   "cell_type": "code",
   "execution_count": 58,
   "metadata": {},
   "outputs": [
    {
     "data": {
      "text/html": [
       "\n",
       "    <div class=\"bk-root\">\n",
       "        <a href=\"http://bokeh.pydata.org\" target=\"_blank\" class=\"bk-logo bk-logo-small bk-logo-notebook\"></a>\n",
       "        <span id=\"f1c9bd0c-1ae9-497e-ab64-9221e2e7c71b\">Loading BokehJS ...</span>\n",
       "    </div>"
      ]
     },
     "metadata": {},
     "output_type": "display_data"
    },
    {
     "data": {
      "application/javascript": [
       "\n",
       "(function(global) {\n",
       "  function now() {\n",
       "    return new Date();\n",
       "  }\n",
       "\n",
       "  var force = true;\n",
       "\n",
       "  if (typeof (window._bokeh_onload_callbacks) === \"undefined\" || force === true) {\n",
       "    window._bokeh_onload_callbacks = [];\n",
       "    window._bokeh_is_loading = undefined;\n",
       "  }\n",
       "\n",
       "\n",
       "  \n",
       "  if (typeof (window._bokeh_timeout) === \"undefined\" || force === true) {\n",
       "    window._bokeh_timeout = Date.now() + 5000;\n",
       "    window._bokeh_failed_load = false;\n",
       "  }\n",
       "\n",
       "  var NB_LOAD_WARNING = {'data': {'text/html':\n",
       "     \"<div style='background-color: #fdd'>\\n\"+\n",
       "     \"<p>\\n\"+\n",
       "     \"BokehJS does not appear to have successfully loaded. If loading BokehJS from CDN, this \\n\"+\n",
       "     \"may be due to a slow or bad network connection. Possible fixes:\\n\"+\n",
       "     \"</p>\\n\"+\n",
       "     \"<ul>\\n\"+\n",
       "     \"<li>re-rerun `output_notebook()` to attempt to load from CDN again, or</li>\\n\"+\n",
       "     \"<li>use INLINE resources instead, as so:</li>\\n\"+\n",
       "     \"</ul>\\n\"+\n",
       "     \"<code>\\n\"+\n",
       "     \"from bokeh.resources import INLINE\\n\"+\n",
       "     \"output_notebook(resources=INLINE)\\n\"+\n",
       "     \"</code>\\n\"+\n",
       "     \"</div>\"}};\n",
       "\n",
       "  function display_loaded() {\n",
       "    if (window.Bokeh !== undefined) {\n",
       "      document.getElementById(\"f1c9bd0c-1ae9-497e-ab64-9221e2e7c71b\").textContent = \"BokehJS successfully loaded.\";\n",
       "    } else if (Date.now() < window._bokeh_timeout) {\n",
       "      setTimeout(display_loaded, 100)\n",
       "    }\n",
       "  }\n",
       "\n",
       "  function run_callbacks() {\n",
       "    window._bokeh_onload_callbacks.forEach(function(callback) { callback() });\n",
       "    delete window._bokeh_onload_callbacks\n",
       "    console.info(\"Bokeh: all callbacks have finished\");\n",
       "  }\n",
       "\n",
       "  function load_libs(js_urls, callback) {\n",
       "    window._bokeh_onload_callbacks.push(callback);\n",
       "    if (window._bokeh_is_loading > 0) {\n",
       "      console.log(\"Bokeh: BokehJS is being loaded, scheduling callback at\", now());\n",
       "      return null;\n",
       "    }\n",
       "    if (js_urls == null || js_urls.length === 0) {\n",
       "      run_callbacks();\n",
       "      return null;\n",
       "    }\n",
       "    console.log(\"Bokeh: BokehJS not loaded, scheduling load and callback at\", now());\n",
       "    window._bokeh_is_loading = js_urls.length;\n",
       "    for (var i = 0; i < js_urls.length; i++) {\n",
       "      var url = js_urls[i];\n",
       "      var s = document.createElement('script');\n",
       "      s.src = url;\n",
       "      s.async = false;\n",
       "      s.onreadystatechange = s.onload = function() {\n",
       "        window._bokeh_is_loading--;\n",
       "        if (window._bokeh_is_loading === 0) {\n",
       "          console.log(\"Bokeh: all BokehJS libraries loaded\");\n",
       "          run_callbacks()\n",
       "        }\n",
       "      };\n",
       "      s.onerror = function() {\n",
       "        console.warn(\"failed to load library \" + url);\n",
       "      };\n",
       "      console.log(\"Bokeh: injecting script tag for BokehJS library: \", url);\n",
       "      document.getElementsByTagName(\"head\")[0].appendChild(s);\n",
       "    }\n",
       "  };var element = document.getElementById(\"f1c9bd0c-1ae9-497e-ab64-9221e2e7c71b\");\n",
       "  if (element == null) {\n",
       "    console.log(\"Bokeh: ERROR: autoload.js configured with elementid 'f1c9bd0c-1ae9-497e-ab64-9221e2e7c71b' but no matching script tag was found. \")\n",
       "    return false;\n",
       "  }\n",
       "\n",
       "  var js_urls = [\"https://cdn.pydata.org/bokeh/release/bokeh-0.12.4.min.js\", \"https://cdn.pydata.org/bokeh/release/bokeh-widgets-0.12.4.min.js\"];\n",
       "\n",
       "  var inline_js = [\n",
       "    function(Bokeh) {\n",
       "      Bokeh.set_log_level(\"info\");\n",
       "    },\n",
       "    \n",
       "    function(Bokeh) {\n",
       "      \n",
       "      document.getElementById(\"f1c9bd0c-1ae9-497e-ab64-9221e2e7c71b\").textContent = \"BokehJS is loading...\";\n",
       "    },\n",
       "    function(Bokeh) {\n",
       "      console.log(\"Bokeh: injecting CSS: https://cdn.pydata.org/bokeh/release/bokeh-0.12.4.min.css\");\n",
       "      Bokeh.embed.inject_css(\"https://cdn.pydata.org/bokeh/release/bokeh-0.12.4.min.css\");\n",
       "      console.log(\"Bokeh: injecting CSS: https://cdn.pydata.org/bokeh/release/bokeh-widgets-0.12.4.min.css\");\n",
       "      Bokeh.embed.inject_css(\"https://cdn.pydata.org/bokeh/release/bokeh-widgets-0.12.4.min.css\");\n",
       "    }\n",
       "  ];\n",
       "\n",
       "  function run_inline_js() {\n",
       "    \n",
       "    if ((window.Bokeh !== undefined) || (force === true)) {\n",
       "      for (var i = 0; i < inline_js.length; i++) {\n",
       "        inline_js[i](window.Bokeh);\n",
       "      }if (force === true) {\n",
       "        display_loaded();\n",
       "      }} else if (Date.now() < window._bokeh_timeout) {\n",
       "      setTimeout(run_inline_js, 100);\n",
       "    } else if (!window._bokeh_failed_load) {\n",
       "      console.log(\"Bokeh: BokehJS failed to load within specified timeout.\");\n",
       "      window._bokeh_failed_load = true;\n",
       "    } else if (force !== true) {\n",
       "      var cell = $(document.getElementById(\"f1c9bd0c-1ae9-497e-ab64-9221e2e7c71b\")).parents('.cell').data().cell;\n",
       "      cell.output_area.append_execute_result(NB_LOAD_WARNING)\n",
       "    }\n",
       "\n",
       "  }\n",
       "\n",
       "  if (window._bokeh_is_loading === 0) {\n",
       "    console.log(\"Bokeh: BokehJS loaded, going straight to plotting\");\n",
       "    run_inline_js();\n",
       "  } else {\n",
       "    load_libs(js_urls, function() {\n",
       "      console.log(\"Bokeh: BokehJS plotting callback run at\", now());\n",
       "      run_inline_js();\n",
       "    });\n",
       "  }\n",
       "}(this));"
      ]
     },
     "metadata": {},
     "output_type": "display_data"
    }
   ],
   "source": [
    "output_notebook()"
   ]
  },
  {
   "cell_type": "code",
   "execution_count": 59,
   "metadata": {},
   "outputs": [
    {
     "data": {
      "text/html": [
       "\n",
       "\n",
       "    <div class=\"bk-root\">\n",
       "        <div class=\"bk-plotdiv\" id=\"8c35626c-e4a2-4893-9bd2-fe231e741528\"></div>\n",
       "    </div>\n",
       "<script type=\"text/javascript\">\n",
       "  \n",
       "  (function(global) {\n",
       "    function now() {\n",
       "      return new Date();\n",
       "    }\n",
       "  \n",
       "    var force = false;\n",
       "  \n",
       "    if (typeof (window._bokeh_onload_callbacks) === \"undefined\" || force === true) {\n",
       "      window._bokeh_onload_callbacks = [];\n",
       "      window._bokeh_is_loading = undefined;\n",
       "    }\n",
       "  \n",
       "  \n",
       "    \n",
       "    if (typeof (window._bokeh_timeout) === \"undefined\" || force === true) {\n",
       "      window._bokeh_timeout = Date.now() + 0;\n",
       "      window._bokeh_failed_load = false;\n",
       "    }\n",
       "  \n",
       "    var NB_LOAD_WARNING = {'data': {'text/html':\n",
       "       \"<div style='background-color: #fdd'>\\n\"+\n",
       "       \"<p>\\n\"+\n",
       "       \"BokehJS does not appear to have successfully loaded. If loading BokehJS from CDN, this \\n\"+\n",
       "       \"may be due to a slow or bad network connection. Possible fixes:\\n\"+\n",
       "       \"</p>\\n\"+\n",
       "       \"<ul>\\n\"+\n",
       "       \"<li>re-rerun `output_notebook()` to attempt to load from CDN again, or</li>\\n\"+\n",
       "       \"<li>use INLINE resources instead, as so:</li>\\n\"+\n",
       "       \"</ul>\\n\"+\n",
       "       \"<code>\\n\"+\n",
       "       \"from bokeh.resources import INLINE\\n\"+\n",
       "       \"output_notebook(resources=INLINE)\\n\"+\n",
       "       \"</code>\\n\"+\n",
       "       \"</div>\"}};\n",
       "  \n",
       "    function display_loaded() {\n",
       "      if (window.Bokeh !== undefined) {\n",
       "        document.getElementById(\"8c35626c-e4a2-4893-9bd2-fe231e741528\").textContent = \"BokehJS successfully loaded.\";\n",
       "      } else if (Date.now() < window._bokeh_timeout) {\n",
       "        setTimeout(display_loaded, 100)\n",
       "      }\n",
       "    }\n",
       "  \n",
       "    function run_callbacks() {\n",
       "      window._bokeh_onload_callbacks.forEach(function(callback) { callback() });\n",
       "      delete window._bokeh_onload_callbacks\n",
       "      console.info(\"Bokeh: all callbacks have finished\");\n",
       "    }\n",
       "  \n",
       "    function load_libs(js_urls, callback) {\n",
       "      window._bokeh_onload_callbacks.push(callback);\n",
       "      if (window._bokeh_is_loading > 0) {\n",
       "        console.log(\"Bokeh: BokehJS is being loaded, scheduling callback at\", now());\n",
       "        return null;\n",
       "      }\n",
       "      if (js_urls == null || js_urls.length === 0) {\n",
       "        run_callbacks();\n",
       "        return null;\n",
       "      }\n",
       "      console.log(\"Bokeh: BokehJS not loaded, scheduling load and callback at\", now());\n",
       "      window._bokeh_is_loading = js_urls.length;\n",
       "      for (var i = 0; i < js_urls.length; i++) {\n",
       "        var url = js_urls[i];\n",
       "        var s = document.createElement('script');\n",
       "        s.src = url;\n",
       "        s.async = false;\n",
       "        s.onreadystatechange = s.onload = function() {\n",
       "          window._bokeh_is_loading--;\n",
       "          if (window._bokeh_is_loading === 0) {\n",
       "            console.log(\"Bokeh: all BokehJS libraries loaded\");\n",
       "            run_callbacks()\n",
       "          }\n",
       "        };\n",
       "        s.onerror = function() {\n",
       "          console.warn(\"failed to load library \" + url);\n",
       "        };\n",
       "        console.log(\"Bokeh: injecting script tag for BokehJS library: \", url);\n",
       "        document.getElementsByTagName(\"head\")[0].appendChild(s);\n",
       "      }\n",
       "    };var element = document.getElementById(\"8c35626c-e4a2-4893-9bd2-fe231e741528\");\n",
       "    if (element == null) {\n",
       "      console.log(\"Bokeh: ERROR: autoload.js configured with elementid '8c35626c-e4a2-4893-9bd2-fe231e741528' but no matching script tag was found. \")\n",
       "      return false;\n",
       "    }\n",
       "  \n",
       "    var js_urls = [];\n",
       "  \n",
       "    var inline_js = [\n",
       "      function(Bokeh) {\n",
       "        (function() {\n",
       "          var fn = function() {\n",
       "            var docs_json = {\"9532da62-60cf-4e66-a858-43f4457dcf62\":{\"roots\":{\"references\":[{\"attributes\":{\"callback\":null,\"column_names\":[\"fill_alpha\",\"line_color\",\"label\",\"height\",\"y\",\"width\",\"color\",\"x\",\"line_alpha\"],\"data\":{\"chart_index\":[\"(1.866667, 2.000000]\"],\"color\":[\"LightSlateGray\"],\"fill_alpha\":[0.8],\"height\":[735.0],\"label\":[\"(1.866667, 2.000000]\"],\"line_alpha\":[1.0],\"line_color\":[\"black\"],\"width\":[0.1333333333333333],\"x\":[\"1.9333335\"],\"y\":[367.5]}},\"id\":\"f459ea9c-22c6-4426-9e77-d6c92361a2e2\",\"type\":\"ColumnDataSource\"},{\"attributes\":{},\"id\":\"db1d971b-9760-4a68-8038-cab5d41fe3d1\",\"type\":\"BasicTicker\"},{\"attributes\":{\"bottom_units\":\"screen\",\"fill_alpha\":{\"value\":0.5},\"fill_color\":{\"value\":\"lightgrey\"},\"left_units\":\"screen\",\"level\":\"overlay\",\"line_alpha\":{\"value\":1.0},\"line_color\":{\"value\":\"black\"},\"line_dash\":[4,4],\"line_width\":{\"value\":2},\"plot\":null,\"render_mode\":\"css\",\"right_units\":\"screen\",\"top_units\":\"screen\"},\"id\":\"ebc5084d-7fe9-4c9f-a74c-b497f2fd2fa0\",\"type\":\"BoxAnnotation\"},{\"attributes\":{\"plot\":{\"id\":\"d5f63e19-7ee5-41a7-adf7-3082175844a6\",\"subtype\":\"Chart\",\"type\":\"Plot\"}},\"id\":\"e3719346-2c0a-4b00-9d76-791146b158d3\",\"type\":\"SaveTool\"},{\"attributes\":{\"fill_alpha\":{\"field\":\"fill_alpha\"},\"fill_color\":{\"field\":\"color\"},\"height\":{\"field\":\"height\",\"units\":\"data\"},\"line_color\":{\"field\":\"line_color\"},\"width\":{\"field\":\"width\",\"units\":\"data\"},\"x\":{\"field\":\"x\"},\"y\":{\"field\":\"y\"}},\"id\":\"9bb55904-9df4-4849-9d25-bc268bb7eec3\",\"type\":\"Rect\"},{\"attributes\":{\"data_source\":{\"id\":\"4295de96-452b-494a-87a6-30e2c7461ba1\",\"type\":\"ColumnDataSource\"},\"glyph\":{\"id\":\"c1239839-6949-4e90-9c44-c084a88002eb\",\"type\":\"Rect\"},\"hover_glyph\":null,\"nonselection_glyph\":null,\"selection_glyph\":null},\"id\":\"4c8ca7c1-5151-4c08-ba7b-1fe4dac8b709\",\"type\":\"GlyphRenderer\"},{\"attributes\":{\"callback\":null,\"column_names\":[\"fill_alpha\",\"line_color\",\"label\",\"height\",\"y\",\"width\",\"color\",\"x\",\"line_alpha\"],\"data\":{\"chart_index\":[\"(1.600000, 1.733333]\"],\"color\":[\"LightSlateGray\"],\"fill_alpha\":[0.8],\"height\":[0.0],\"label\":[\"(1.600000, 1.733333]\"],\"line_alpha\":[1.0],\"line_color\":[\"black\"],\"width\":[0.1333333333333333],\"x\":[\"1.6666665\"],\"y\":[0.0]}},\"id\":\"c1ead6cf-04f9-4357-8d81-18d7d2e35acc\",\"type\":\"ColumnDataSource\"},{\"attributes\":{\"fill_alpha\":{\"field\":\"fill_alpha\"},\"fill_color\":{\"field\":\"color\"},\"height\":{\"field\":\"height\",\"units\":\"data\"},\"line_color\":{\"field\":\"line_color\"},\"width\":{\"field\":\"width\",\"units\":\"data\"},\"x\":{\"field\":\"x\"},\"y\":{\"field\":\"y\"}},\"id\":\"e239bdff-b583-446e-a981-e67254652ba2\",\"type\":\"Rect\"},{\"attributes\":{},\"id\":\"2fd1ae69-0621-47d0-95f1-eaa2d7bb773f\",\"type\":\"BasicTicker\"},{\"attributes\":{\"data_source\":{\"id\":\"adaa4b20-b896-47f0-bada-a1b9e53526d3\",\"type\":\"ColumnDataSource\"},\"glyph\":{\"id\":\"9bb55904-9df4-4849-9d25-bc268bb7eec3\",\"type\":\"Rect\"},\"hover_glyph\":null,\"nonselection_glyph\":null,\"selection_glyph\":null},\"id\":\"3f9b0518-c744-4f23-a54e-95327230dd3b\",\"type\":\"GlyphRenderer\"},{\"attributes\":{\"fill_alpha\":{\"field\":\"fill_alpha\"},\"fill_color\":{\"field\":\"color\"},\"height\":{\"field\":\"height\",\"units\":\"data\"},\"line_color\":{\"field\":\"line_color\"},\"width\":{\"field\":\"width\",\"units\":\"data\"},\"x\":{\"field\":\"x\"},\"y\":{\"field\":\"y\"}},\"id\":\"50a81f46-0477-4128-a2e3-46f319ce2ba0\",\"type\":\"Rect\"},{\"attributes\":{\"callback\":null,\"end\":2.0500001666666665,\"start\":-0.050000166666666665},\"id\":\"7e418d1b-5ab6-434c-914a-fff4300cb4c9\",\"type\":\"Range1d\"},{\"attributes\":{},\"id\":\"a12cb89d-f253-4d75-a742-46dde911d545\",\"type\":\"ToolEvents\"},{\"attributes\":{\"callback\":null,\"column_names\":[\"fill_alpha\",\"line_color\",\"label\",\"height\",\"y\",\"width\",\"color\",\"x\",\"line_alpha\"],\"data\":{\"chart_index\":[\"(1.466667, 1.600000]\"],\"color\":[\"LightSlateGray\"],\"fill_alpha\":[0.8],\"height\":[0.0],\"label\":[\"(1.466667, 1.600000]\"],\"line_alpha\":[1.0],\"line_color\":[\"black\"],\"width\":[0.13333333333333353],\"x\":[\"1.5333335\"],\"y\":[0.0]}},\"id\":\"7f1adb18-8670-4749-ae14-e8c253099b15\",\"type\":\"ColumnDataSource\"},{\"attributes\":{\"callback\":null,\"column_names\":[\"fill_alpha\",\"line_color\",\"label\",\"height\",\"y\",\"width\",\"color\",\"x\",\"line_alpha\"],\"data\":{\"chart_index\":[\"(0.266667, 0.400000]\"],\"color\":[\"LightSlateGray\"],\"fill_alpha\":[0.8],\"height\":[0.0],\"label\":[\"(0.266667, 0.400000]\"],\"line_alpha\":[1.0],\"line_color\":[\"black\"],\"width\":[0.13333333333333336],\"x\":[\"0.3333335\"],\"y\":[0.0]}},\"id\":\"4295de96-452b-494a-87a6-30e2c7461ba1\",\"type\":\"ColumnDataSource\"},{\"attributes\":{\"data_source\":{\"id\":\"713ec662-2c6d-4828-8232-d6e97d5a084b\",\"type\":\"ColumnDataSource\"},\"glyph\":{\"id\":\"e239bdff-b583-446e-a981-e67254652ba2\",\"type\":\"Rect\"},\"hover_glyph\":null,\"nonselection_glyph\":null,\"selection_glyph\":null},\"id\":\"527a54ec-49fd-4d31-9e85-0626508ed2d6\",\"type\":\"GlyphRenderer\"},{\"attributes\":{\"data_source\":{\"id\":\"5eee1b54-9787-4a2f-8925-8c403a4b5d54\",\"type\":\"ColumnDataSource\"},\"glyph\":{\"id\":\"50a81f46-0477-4128-a2e3-46f319ce2ba0\",\"type\":\"Rect\"},\"hover_glyph\":null,\"nonselection_glyph\":null,\"selection_glyph\":null},\"id\":\"1628094f-1c0b-4198-a824-1570580262c7\",\"type\":\"GlyphRenderer\"},{\"attributes\":{\"fill_alpha\":{\"field\":\"fill_alpha\"},\"fill_color\":{\"field\":\"color\"},\"height\":{\"field\":\"height\",\"units\":\"data\"},\"line_color\":{\"field\":\"line_color\"},\"width\":{\"field\":\"width\",\"units\":\"data\"},\"x\":{\"field\":\"x\"},\"y\":{\"field\":\"y\"}},\"id\":\"20f35cf6-3bcc-4c1e-81ba-66025b5414b9\",\"type\":\"Rect\"},{\"attributes\":{\"data_source\":{\"id\":\"d19864f3-16d1-41d0-a09f-2697f90edf5a\",\"type\":\"ColumnDataSource\"},\"glyph\":{\"id\":\"e8b1828b-bf4e-4b93-a4ee-385a5e8c09d1\",\"type\":\"Rect\"},\"hover_glyph\":null,\"nonselection_glyph\":null,\"selection_glyph\":null},\"id\":\"79741549-c34c-4662-955b-309adba87bf3\",\"type\":\"GlyphRenderer\"},{\"attributes\":{\"fill_alpha\":{\"field\":\"fill_alpha\"},\"fill_color\":{\"field\":\"color\"},\"height\":{\"field\":\"height\",\"units\":\"data\"},\"line_color\":{\"field\":\"line_color\"},\"width\":{\"field\":\"width\",\"units\":\"data\"},\"x\":{\"field\":\"x\"},\"y\":{\"field\":\"y\"}},\"id\":\"61dcfbc5-961f-460c-8916-ba9c3e22250f\",\"type\":\"Rect\"},{\"attributes\":{\"data_source\":{\"id\":\"c1ead6cf-04f9-4357-8d81-18d7d2e35acc\",\"type\":\"ColumnDataSource\"},\"glyph\":{\"id\":\"0c78a86a-1b4e-43d8-90ba-4a4dde58c806\",\"type\":\"Rect\"},\"hover_glyph\":null,\"nonselection_glyph\":null,\"selection_glyph\":null},\"id\":\"a16d5ba0-6e8b-4d92-bbfa-3dbda8c23ff1\",\"type\":\"GlyphRenderer\"},{\"attributes\":{\"callback\":null,\"column_names\":[\"fill_alpha\",\"line_color\",\"label\",\"height\",\"y\",\"width\",\"color\",\"x\",\"line_alpha\"],\"data\":{\"chart_index\":[\"(0.666667, 0.800000]\"],\"color\":[\"LightSlateGray\"],\"fill_alpha\":[0.8],\"height\":[0.0],\"label\":[\"(0.666667, 0.800000]\"],\"line_alpha\":[1.0],\"line_color\":[\"black\"],\"width\":[0.13333333333333341],\"x\":[\"0.7333335000000001\"],\"y\":[0.0]}},\"id\":\"71a7e71c-59b8-4f7d-841c-0d64fae1984a\",\"type\":\"ColumnDataSource\"},{\"attributes\":{\"plot\":{\"id\":\"d5f63e19-7ee5-41a7-adf7-3082175844a6\",\"subtype\":\"Chart\",\"type\":\"Plot\"}},\"id\":\"2a34e88c-0ec5-4400-9315-33d79a97c6d5\",\"type\":\"ResetTool\"},{\"attributes\":{},\"id\":\"a7c6e07d-206b-4a73-8f3d-7b8098374924\",\"type\":\"BasicTickFormatter\"},{\"attributes\":{\"callback\":null,\"column_names\":[\"fill_alpha\",\"line_color\",\"label\",\"height\",\"y\",\"width\",\"color\",\"x\",\"line_alpha\"],\"data\":{\"chart_index\":[\"(1.733333, 1.866667]\"],\"color\":[\"LightSlateGray\"],\"fill_alpha\":[0.8],\"height\":[0.0],\"label\":[\"(1.733333, 1.866667]\"],\"line_alpha\":[1.0],\"line_color\":[\"black\"],\"width\":[0.1333333333333333],\"x\":[\"1.8\"],\"y\":[0.0]}},\"id\":\"fa04d9f1-394e-444b-a349-0145fed18f76\",\"type\":\"ColumnDataSource\"},{\"attributes\":{\"fill_alpha\":{\"field\":\"fill_alpha\"},\"fill_color\":{\"field\":\"color\"},\"height\":{\"field\":\"height\",\"units\":\"data\"},\"line_color\":{\"field\":\"line_color\"},\"width\":{\"field\":\"width\",\"units\":\"data\"},\"x\":{\"field\":\"x\"},\"y\":{\"field\":\"y\"}},\"id\":\"e8b1828b-bf4e-4b93-a4ee-385a5e8c09d1\",\"type\":\"Rect\"},{\"attributes\":{\"callback\":null,\"column_names\":[\"fill_alpha\",\"line_color\",\"label\",\"height\",\"y\",\"width\",\"color\",\"x\",\"line_alpha\"],\"data\":{\"chart_index\":[\"(0.133333, 0.266667]\"],\"color\":[\"LightSlateGray\"],\"fill_alpha\":[0.8],\"height\":[0.0],\"label\":[\"(0.133333, 0.266667]\"],\"line_alpha\":[1.0],\"line_color\":[\"black\"],\"width\":[0.13333333333333333],\"x\":[\"0.2\"],\"y\":[0.0]}},\"id\":\"116a570d-9510-4e44-bdc6-744794fe352b\",\"type\":\"ColumnDataSource\"},{\"attributes\":{\"axis_label\":\"Frequency\",\"formatter\":{\"id\":\"a7c6e07d-206b-4a73-8f3d-7b8098374924\",\"type\":\"BasicTickFormatter\"},\"plot\":{\"id\":\"d5f63e19-7ee5-41a7-adf7-3082175844a6\",\"subtype\":\"Chart\",\"type\":\"Plot\"},\"ticker\":{\"id\":\"2fd1ae69-0621-47d0-95f1-eaa2d7bb773f\",\"type\":\"BasicTicker\"}},\"id\":\"41afc3b2-5f34-45d6-8f15-377280935859\",\"type\":\"LinearAxis\"},{\"attributes\":{\"fill_alpha\":{\"field\":\"fill_alpha\"},\"fill_color\":{\"field\":\"color\"},\"height\":{\"field\":\"height\",\"units\":\"data\"},\"line_color\":{\"field\":\"line_color\"},\"width\":{\"field\":\"width\",\"units\":\"data\"},\"x\":{\"field\":\"x\"},\"y\":{\"field\":\"y\"}},\"id\":\"fffff155-903c-4264-815e-d0a6b20a092e\",\"type\":\"Rect\"},{\"attributes\":{\"axis_label\":\"GTcons\",\"formatter\":{\"id\":\"927f67b4-1f9b-4f69-a8b5-65832a64cebe\",\"type\":\"BasicTickFormatter\"},\"plot\":{\"id\":\"d5f63e19-7ee5-41a7-adf7-3082175844a6\",\"subtype\":\"Chart\",\"type\":\"Plot\"},\"ticker\":{\"id\":\"db1d971b-9760-4a68-8038-cab5d41fe3d1\",\"type\":\"BasicTicker\"}},\"id\":\"bd23a71b-7a64-4b80-b047-672a0142c866\",\"type\":\"LinearAxis\"},{\"attributes\":{\"data_source\":{\"id\":\"116a570d-9510-4e44-bdc6-744794fe352b\",\"type\":\"ColumnDataSource\"},\"glyph\":{\"id\":\"61dcfbc5-961f-460c-8916-ba9c3e22250f\",\"type\":\"Rect\"},\"hover_glyph\":null,\"nonselection_glyph\":null,\"selection_glyph\":null},\"id\":\"a2edff15-2902-47c2-94c3-07b6227d2a5d\",\"type\":\"GlyphRenderer\"},{\"attributes\":{\"plot\":null,\"text\":\"Exact_Match_HG002: Consensust GT\"},\"id\":\"a5167fdf-af32-4689-877d-8679b9795e71\",\"type\":\"Title\"},{\"attributes\":{\"plot\":{\"id\":\"d5f63e19-7ee5-41a7-adf7-3082175844a6\",\"subtype\":\"Chart\",\"type\":\"Plot\"}},\"id\":\"e6dc2278-52a7-4b0b-af34-5860996e6f1b\",\"type\":\"HelpTool\"},{\"attributes\":{\"data_source\":{\"id\":\"141b6099-6cba-4bd9-a5a3-3ee68ac3f5c3\",\"type\":\"ColumnDataSource\"},\"glyph\":{\"id\":\"f6eef0c0-42c6-4dc8-96b5-04cdcd0d2723\",\"type\":\"Rect\"},\"hover_glyph\":null,\"nonselection_glyph\":null,\"selection_glyph\":null},\"id\":\"12a57b72-b928-48c6-9e3a-63fe2d3cf11e\",\"type\":\"GlyphRenderer\"},{\"attributes\":{\"callback\":null,\"column_names\":[\"fill_alpha\",\"line_color\",\"label\",\"height\",\"y\",\"width\",\"color\",\"x\",\"line_alpha\"],\"data\":{\"chart_index\":[\"(1.066667, 1.200000]\"],\"color\":[\"LightSlateGray\"],\"fill_alpha\":[0.8],\"height\":[0.0],\"label\":[\"(1.066667, 1.200000]\"],\"line_alpha\":[1.0],\"line_color\":[\"black\"],\"width\":[0.1333333333333333],\"x\":[\"1.1333335\"],\"y\":[0.0]}},\"id\":\"d19864f3-16d1-41d0-a09f-2697f90edf5a\",\"type\":\"ColumnDataSource\"},{\"attributes\":{\"callback\":null,\"column_names\":[\"fill_alpha\",\"line_color\",\"label\",\"height\",\"y\",\"width\",\"color\",\"x\",\"line_alpha\"],\"data\":{\"chart_index\":[\"(0.533333, 0.666667]\"],\"color\":[\"LightSlateGray\"],\"fill_alpha\":[0.8],\"height\":[0.0],\"label\":[\"(0.533333, 0.666667]\"],\"line_alpha\":[1.0],\"line_color\":[\"black\"],\"width\":[0.1333333333333333],\"x\":[\"0.6\"],\"y\":[0.0]}},\"id\":\"86d353e1-87aa-48bb-888a-8fc2f7b27e62\",\"type\":\"ColumnDataSource\"},{\"attributes\":{\"fill_alpha\":{\"field\":\"fill_alpha\"},\"fill_color\":{\"field\":\"color\"},\"height\":{\"field\":\"height\",\"units\":\"data\"},\"line_color\":{\"field\":\"line_color\"},\"width\":{\"field\":\"width\",\"units\":\"data\"},\"x\":{\"field\":\"x\"},\"y\":{\"field\":\"y\"}},\"id\":\"a12ea87c-a596-4833-b716-442b5d50b8fb\",\"type\":\"Rect\"},{\"attributes\":{\"fill_alpha\":{\"field\":\"fill_alpha\"},\"fill_color\":{\"field\":\"color\"},\"height\":{\"field\":\"height\",\"units\":\"data\"},\"line_color\":{\"field\":\"line_color\"},\"width\":{\"field\":\"width\",\"units\":\"data\"},\"x\":{\"field\":\"x\"},\"y\":{\"field\":\"y\"}},\"id\":\"c1239839-6949-4e90-9c44-c084a88002eb\",\"type\":\"Rect\"},{\"attributes\":{\"data_source\":{\"id\":\"71a7e71c-59b8-4f7d-841c-0d64fae1984a\",\"type\":\"ColumnDataSource\"},\"glyph\":{\"id\":\"0203e55b-8a9f-4cc7-a4a4-5fc211573fb5\",\"type\":\"Rect\"},\"hover_glyph\":null,\"nonselection_glyph\":null,\"selection_glyph\":null},\"id\":\"22f94d55-ec8a-48da-8ca5-a003ac4ed3d8\",\"type\":\"GlyphRenderer\"},{\"attributes\":{\"callback\":null,\"end\":2129.6000000000004},\"id\":\"910d5b7a-1721-410f-afce-5c546c92960b\",\"type\":\"Range1d\"},{\"attributes\":{\"data_source\":{\"id\":\"7f1adb18-8670-4749-ae14-e8c253099b15\",\"type\":\"ColumnDataSource\"},\"glyph\":{\"id\":\"fffff155-903c-4264-815e-d0a6b20a092e\",\"type\":\"Rect\"},\"hover_glyph\":null,\"nonselection_glyph\":null,\"selection_glyph\":null},\"id\":\"2b80ba81-edff-47dc-846e-5912cc661443\",\"type\":\"GlyphRenderer\"},{\"attributes\":{\"data_source\":{\"id\":\"86d353e1-87aa-48bb-888a-8fc2f7b27e62\",\"type\":\"ColumnDataSource\"},\"glyph\":{\"id\":\"20f35cf6-3bcc-4c1e-81ba-66025b5414b9\",\"type\":\"Rect\"},\"hover_glyph\":null,\"nonselection_glyph\":null,\"selection_glyph\":null},\"id\":\"192274ab-0fd4-43eb-8f6f-63134d663673\",\"type\":\"GlyphRenderer\"},{\"attributes\":{\"data_source\":{\"id\":\"fa04d9f1-394e-444b-a349-0145fed18f76\",\"type\":\"ColumnDataSource\"},\"glyph\":{\"id\":\"8a655f76-6577-47ef-b26a-9360bbb1031e\",\"type\":\"Rect\"},\"hover_glyph\":null,\"nonselection_glyph\":null,\"selection_glyph\":null},\"id\":\"9dff92b5-58d2-4894-a805-eaeba7e2b274\",\"type\":\"GlyphRenderer\"},{\"attributes\":{\"data_source\":{\"id\":\"febb55e4-c8a5-41d4-96dd-33d4692c2b28\",\"type\":\"ColumnDataSource\"},\"glyph\":{\"id\":\"37bb3663-d2c9-4a0b-aa71-52368fdbaeb6\",\"type\":\"Rect\"},\"hover_glyph\":null,\"nonselection_glyph\":null,\"selection_glyph\":null},\"id\":\"c3590ff8-56c3-48cb-a7e0-5bf3ffda02c9\",\"type\":\"GlyphRenderer\"},{\"attributes\":{},\"id\":\"927f67b4-1f9b-4f69-a8b5-65832a64cebe\",\"type\":\"BasicTickFormatter\"},{\"attributes\":{\"fill_alpha\":{\"field\":\"fill_alpha\"},\"fill_color\":{\"field\":\"color\"},\"height\":{\"field\":\"height\",\"units\":\"data\"},\"line_color\":{\"field\":\"line_color\"},\"width\":{\"field\":\"width\",\"units\":\"data\"},\"x\":{\"field\":\"x\"},\"y\":{\"field\":\"y\"}},\"id\":\"f6eef0c0-42c6-4dc8-96b5-04cdcd0d2723\",\"type\":\"Rect\"},{\"attributes\":{\"callback\":null,\"column_names\":[\"fill_alpha\",\"line_color\",\"label\",\"height\",\"y\",\"width\",\"color\",\"x\",\"line_alpha\"],\"data\":{\"chart_index\":[\"(0.933333, 1.066667]\"],\"color\":[\"LightSlateGray\"],\"fill_alpha\":[0.8],\"height\":[1936.0],\"label\":[\"(0.933333, 1.066667]\"],\"line_alpha\":[1.0],\"line_color\":[\"black\"],\"width\":[0.1333333333333333],\"x\":[\"1.0\"],\"y\":[968.0]}},\"id\":\"adaa4b20-b896-47f0-bada-a1b9e53526d3\",\"type\":\"ColumnDataSource\"},{\"attributes\":{\"callback\":null,\"column_names\":[\"fill_alpha\",\"line_color\",\"label\",\"height\",\"y\",\"width\",\"color\",\"x\",\"line_alpha\"],\"data\":{\"chart_index\":[\"(0.800000, 0.933333]\"],\"color\":[\"LightSlateGray\"],\"fill_alpha\":[0.8],\"height\":[0.0],\"label\":[\"(0.800000, 0.933333]\"],\"line_alpha\":[1.0],\"line_color\":[\"black\"],\"width\":[0.1333333333333333],\"x\":[\"0.8666665\"],\"y\":[0.0]}},\"id\":\"5eee1b54-9787-4a2f-8925-8c403a4b5d54\",\"type\":\"ColumnDataSource\"},{\"attributes\":{\"callback\":null,\"column_names\":[\"fill_alpha\",\"line_color\",\"label\",\"height\",\"y\",\"width\",\"color\",\"x\",\"line_alpha\"],\"data\":{\"chart_index\":[\"(1.200000, 1.333333]\"],\"color\":[\"LightSlateGray\"],\"fill_alpha\":[0.8],\"height\":[0.0],\"label\":[\"(1.200000, 1.333333]\"],\"line_alpha\":[1.0],\"line_color\":[\"black\"],\"width\":[0.1333333333333333],\"x\":[\"1.2666665\"],\"y\":[0.0]}},\"id\":\"febb55e4-c8a5-41d4-96dd-33d4692c2b28\",\"type\":\"ColumnDataSource\"},{\"attributes\":{\"fill_alpha\":{\"field\":\"fill_alpha\"},\"fill_color\":{\"field\":\"color\"},\"height\":{\"field\":\"height\",\"units\":\"data\"},\"line_color\":{\"field\":\"line_color\"},\"width\":{\"field\":\"width\",\"units\":\"data\"},\"x\":{\"field\":\"x\"},\"y\":{\"field\":\"y\"}},\"id\":\"0c78a86a-1b4e-43d8-90ba-4a4dde58c806\",\"type\":\"Rect\"},{\"attributes\":{\"fill_alpha\":{\"field\":\"fill_alpha\"},\"fill_color\":{\"field\":\"color\"},\"height\":{\"field\":\"height\",\"units\":\"data\"},\"line_color\":{\"field\":\"line_color\"},\"width\":{\"field\":\"width\",\"units\":\"data\"},\"x\":{\"field\":\"x\"},\"y\":{\"field\":\"y\"}},\"id\":\"8a655f76-6577-47ef-b26a-9360bbb1031e\",\"type\":\"Rect\"},{\"attributes\":{\"fill_alpha\":{\"field\":\"fill_alpha\"},\"fill_color\":{\"field\":\"color\"},\"height\":{\"field\":\"height\",\"units\":\"data\"},\"line_color\":{\"field\":\"line_color\"},\"width\":{\"field\":\"width\",\"units\":\"data\"},\"x\":{\"field\":\"x\"},\"y\":{\"field\":\"y\"}},\"id\":\"37bb3663-d2c9-4a0b-aa71-52368fdbaeb6\",\"type\":\"Rect\"},{\"attributes\":{\"plot\":{\"id\":\"d5f63e19-7ee5-41a7-adf7-3082175844a6\",\"subtype\":\"Chart\",\"type\":\"Plot\"}},\"id\":\"e9ad385d-8b51-492e-9f27-edead813bc27\",\"type\":\"WheelZoomTool\"},{\"attributes\":{\"fill_alpha\":{\"field\":\"fill_alpha\"},\"fill_color\":{\"field\":\"color\"},\"height\":{\"field\":\"height\",\"units\":\"data\"},\"line_color\":{\"field\":\"line_color\"},\"width\":{\"field\":\"width\",\"units\":\"data\"},\"x\":{\"field\":\"x\"},\"y\":{\"field\":\"y\"}},\"id\":\"0203e55b-8a9f-4cc7-a4a4-5fc211573fb5\",\"type\":\"Rect\"},{\"attributes\":{\"callback\":null,\"column_names\":[\"fill_alpha\",\"line_color\",\"label\",\"height\",\"y\",\"width\",\"color\",\"x\",\"line_alpha\"],\"data\":{\"chart_index\":[\"[0.000000, 0.133333]\"],\"color\":[\"LightSlateGray\"],\"fill_alpha\":[0.8],\"height\":[38.0],\"label\":[\"[0.000000, 0.133333]\"],\"line_alpha\":[1.0],\"line_color\":[\"black\"],\"width\":[0.13333333333333333],\"x\":[\"0.0666665\"],\"y\":[19.0]}},\"id\":\"4ceec3c2-9fd8-42aa-873d-43eb6629e625\",\"type\":\"ColumnDataSource\"},{\"attributes\":{\"callback\":null,\"column_names\":[\"fill_alpha\",\"line_color\",\"label\",\"height\",\"y\",\"width\",\"color\",\"x\",\"line_alpha\"],\"data\":{\"chart_index\":[\"(0.400000, 0.533333]\"],\"color\":[\"LightSlateGray\"],\"fill_alpha\":[0.8],\"height\":[0.0],\"label\":[\"(0.400000, 0.533333]\"],\"line_alpha\":[1.0],\"line_color\":[\"black\"],\"width\":[0.1333333333333333],\"x\":[\"0.4666665\"],\"y\":[0.0]}},\"id\":\"141b6099-6cba-4bd9-a5a3-3ee68ac3f5c3\",\"type\":\"ColumnDataSource\"},{\"attributes\":{\"overlay\":{\"id\":\"ebc5084d-7fe9-4c9f-a74c-b497f2fd2fa0\",\"type\":\"BoxAnnotation\"},\"plot\":{\"id\":\"d5f63e19-7ee5-41a7-adf7-3082175844a6\",\"subtype\":\"Chart\",\"type\":\"Plot\"}},\"id\":\"f669089b-4727-4d2f-bfa3-2aa841ecf5c3\",\"type\":\"BoxZoomTool\"},{\"attributes\":{\"data_source\":{\"id\":\"4ceec3c2-9fd8-42aa-873d-43eb6629e625\",\"type\":\"ColumnDataSource\"},\"glyph\":{\"id\":\"5fde0469-10bd-42a5-a879-46457088fb33\",\"type\":\"Rect\"},\"hover_glyph\":null,\"nonselection_glyph\":null,\"selection_glyph\":null},\"id\":\"4d5702c9-03db-4ed1-a9ac-a875eaa19bfd\",\"type\":\"GlyphRenderer\"},{\"attributes\":{\"fill_alpha\":{\"field\":\"fill_alpha\"},\"fill_color\":{\"field\":\"color\"},\"height\":{\"field\":\"height\",\"units\":\"data\"},\"line_color\":{\"field\":\"line_color\"},\"width\":{\"field\":\"width\",\"units\":\"data\"},\"x\":{\"field\":\"x\"},\"y\":{\"field\":\"y\"}},\"id\":\"5fde0469-10bd-42a5-a879-46457088fb33\",\"type\":\"Rect\"},{\"attributes\":{\"callback\":null,\"column_names\":[\"fill_alpha\",\"line_color\",\"label\",\"height\",\"y\",\"width\",\"color\",\"x\",\"line_alpha\"],\"data\":{\"chart_index\":[\"(1.333333, 1.466667]\"],\"color\":[\"LightSlateGray\"],\"fill_alpha\":[0.8],\"height\":[0.0],\"label\":[\"(1.333333, 1.466667]\"],\"line_alpha\":[1.0],\"line_color\":[\"black\"],\"width\":[0.1333333333333333],\"x\":[\"1.4\"],\"y\":[0.0]}},\"id\":\"713ec662-2c6d-4828-8232-d6e97d5a084b\",\"type\":\"ColumnDataSource\"},{\"attributes\":{\"below\":[{\"id\":\"bd23a71b-7a64-4b80-b047-672a0142c866\",\"type\":\"LinearAxis\"}],\"css_classes\":null,\"left\":[{\"id\":\"41afc3b2-5f34-45d6-8f15-377280935859\",\"type\":\"LinearAxis\"}],\"plot_height\":250,\"renderers\":[{\"id\":\"ebc5084d-7fe9-4c9f-a74c-b497f2fd2fa0\",\"type\":\"BoxAnnotation\"},{\"id\":\"4d5702c9-03db-4ed1-a9ac-a875eaa19bfd\",\"type\":\"GlyphRenderer\"},{\"id\":\"a2edff15-2902-47c2-94c3-07b6227d2a5d\",\"type\":\"GlyphRenderer\"},{\"id\":\"4c8ca7c1-5151-4c08-ba7b-1fe4dac8b709\",\"type\":\"GlyphRenderer\"},{\"id\":\"12a57b72-b928-48c6-9e3a-63fe2d3cf11e\",\"type\":\"GlyphRenderer\"},{\"id\":\"192274ab-0fd4-43eb-8f6f-63134d663673\",\"type\":\"GlyphRenderer\"},{\"id\":\"22f94d55-ec8a-48da-8ca5-a003ac4ed3d8\",\"type\":\"GlyphRenderer\"},{\"id\":\"1628094f-1c0b-4198-a824-1570580262c7\",\"type\":\"GlyphRenderer\"},{\"id\":\"3f9b0518-c744-4f23-a54e-95327230dd3b\",\"type\":\"GlyphRenderer\"},{\"id\":\"79741549-c34c-4662-955b-309adba87bf3\",\"type\":\"GlyphRenderer\"},{\"id\":\"c3590ff8-56c3-48cb-a7e0-5bf3ffda02c9\",\"type\":\"GlyphRenderer\"},{\"id\":\"527a54ec-49fd-4d31-9e85-0626508ed2d6\",\"type\":\"GlyphRenderer\"},{\"id\":\"2b80ba81-edff-47dc-846e-5912cc661443\",\"type\":\"GlyphRenderer\"},{\"id\":\"a16d5ba0-6e8b-4d92-bbfa-3dbda8c23ff1\",\"type\":\"GlyphRenderer\"},{\"id\":\"9dff92b5-58d2-4894-a805-eaeba7e2b274\",\"type\":\"GlyphRenderer\"},{\"id\":\"ac3a34a2-0ea2-4a2b-abd5-cc0815df4e92\",\"type\":\"GlyphRenderer\"},{\"id\":\"ebba821e-154f-41ce-b821-1a01710a9638\",\"type\":\"Legend\"},{\"id\":\"bd23a71b-7a64-4b80-b047-672a0142c866\",\"type\":\"LinearAxis\"},{\"id\":\"41afc3b2-5f34-45d6-8f15-377280935859\",\"type\":\"LinearAxis\"},{\"id\":\"d19bbb7f-d3e8-438f-9b7e-bbe20e2d66a4\",\"type\":\"Grid\"}],\"title\":{\"id\":\"a5167fdf-af32-4689-877d-8679b9795e71\",\"type\":\"Title\"},\"tool_events\":{\"id\":\"a12cb89d-f253-4d75-a742-46dde911d545\",\"type\":\"ToolEvents\"},\"toolbar\":{\"id\":\"dfcdd9db-fed5-4597-8bc7-3d7bd3f6254d\",\"type\":\"Toolbar\"},\"x_mapper_type\":\"auto\",\"x_range\":{\"id\":\"7e418d1b-5ab6-434c-914a-fff4300cb4c9\",\"type\":\"Range1d\"},\"y_mapper_type\":\"auto\",\"y_range\":{\"id\":\"910d5b7a-1721-410f-afce-5c546c92960b\",\"type\":\"Range1d\"}},\"id\":\"d5f63e19-7ee5-41a7-adf7-3082175844a6\",\"subtype\":\"Chart\",\"type\":\"Plot\"},{\"attributes\":{\"dimension\":1,\"plot\":{\"id\":\"d5f63e19-7ee5-41a7-adf7-3082175844a6\",\"subtype\":\"Chart\",\"type\":\"Plot\"},\"ticker\":{\"id\":\"2fd1ae69-0621-47d0-95f1-eaa2d7bb773f\",\"type\":\"BasicTicker\"}},\"id\":\"d19bbb7f-d3e8-438f-9b7e-bbe20e2d66a4\",\"type\":\"Grid\"},{\"attributes\":{\"plot\":{\"id\":\"d5f63e19-7ee5-41a7-adf7-3082175844a6\",\"subtype\":\"Chart\",\"type\":\"Plot\"}},\"id\":\"f5c9cec1-a688-4cd0-9a27-fb178bc20303\",\"type\":\"PanTool\"},{\"attributes\":{\"location\":\"top_left\",\"plot\":{\"id\":\"d5f63e19-7ee5-41a7-adf7-3082175844a6\",\"subtype\":\"Chart\",\"type\":\"Plot\"}},\"id\":\"ebba821e-154f-41ce-b821-1a01710a9638\",\"type\":\"Legend\"},{\"attributes\":{\"data_source\":{\"id\":\"f459ea9c-22c6-4426-9e77-d6c92361a2e2\",\"type\":\"ColumnDataSource\"},\"glyph\":{\"id\":\"a12ea87c-a596-4833-b716-442b5d50b8fb\",\"type\":\"Rect\"},\"hover_glyph\":null,\"nonselection_glyph\":null,\"selection_glyph\":null},\"id\":\"ac3a34a2-0ea2-4a2b-abd5-cc0815df4e92\",\"type\":\"GlyphRenderer\"},{\"attributes\":{\"active_drag\":\"auto\",\"active_scroll\":\"auto\",\"active_tap\":\"auto\",\"tools\":[{\"id\":\"f5c9cec1-a688-4cd0-9a27-fb178bc20303\",\"type\":\"PanTool\"},{\"id\":\"e9ad385d-8b51-492e-9f27-edead813bc27\",\"type\":\"WheelZoomTool\"},{\"id\":\"f669089b-4727-4d2f-bfa3-2aa841ecf5c3\",\"type\":\"BoxZoomTool\"},{\"id\":\"e3719346-2c0a-4b00-9d76-791146b158d3\",\"type\":\"SaveTool\"},{\"id\":\"2a34e88c-0ec5-4400-9315-33d79a97c6d5\",\"type\":\"ResetTool\"},{\"id\":\"e6dc2278-52a7-4b0b-af34-5860996e6f1b\",\"type\":\"HelpTool\"}]},\"id\":\"dfcdd9db-fed5-4597-8bc7-3d7bd3f6254d\",\"type\":\"Toolbar\"}],\"root_ids\":[\"d5f63e19-7ee5-41a7-adf7-3082175844a6\"]},\"title\":\"Bokeh Application\",\"version\":\"0.12.4\"}};\n",
       "            var render_items = [{\"docid\":\"9532da62-60cf-4e66-a858-43f4457dcf62\",\"elementid\":\"8c35626c-e4a2-4893-9bd2-fe231e741528\",\"modelid\":\"d5f63e19-7ee5-41a7-adf7-3082175844a6\"}];\n",
       "            \n",
       "            Bokeh.embed.embed_items(docs_json, render_items);\n",
       "          };\n",
       "          if (document.readyState != \"loading\") fn();\n",
       "          else document.addEventListener(\"DOMContentLoaded\", fn);\n",
       "        })();\n",
       "      },\n",
       "      function(Bokeh) {\n",
       "      }\n",
       "    ];\n",
       "  \n",
       "    function run_inline_js() {\n",
       "      \n",
       "      if ((window.Bokeh !== undefined) || (force === true)) {\n",
       "        for (var i = 0; i < inline_js.length; i++) {\n",
       "          inline_js[i](window.Bokeh);\n",
       "        }if (force === true) {\n",
       "          display_loaded();\n",
       "        }} else if (Date.now() < window._bokeh_timeout) {\n",
       "        setTimeout(run_inline_js, 100);\n",
       "      } else if (!window._bokeh_failed_load) {\n",
       "        console.log(\"Bokeh: BokehJS failed to load within specified timeout.\");\n",
       "        window._bokeh_failed_load = true;\n",
       "      } else if (force !== true) {\n",
       "        var cell = $(document.getElementById(\"8c35626c-e4a2-4893-9bd2-fe231e741528\")).parents('.cell').data().cell;\n",
       "        cell.output_area.append_execute_result(NB_LOAD_WARNING)\n",
       "      }\n",
       "  \n",
       "    }\n",
       "  \n",
       "    if (window._bokeh_is_loading === 0) {\n",
       "      console.log(\"Bokeh: BokehJS loaded, going straight to plotting\");\n",
       "      run_inline_js();\n",
       "    } else {\n",
       "      load_libs(js_urls, function() {\n",
       "        console.log(\"Bokeh: BokehJS plotting callback run at\", now());\n",
       "        run_inline_js();\n",
       "      });\n",
       "    }\n",
       "  }(this));\n",
       "</script>"
      ]
     },
     "metadata": {},
     "output_type": "display_data"
    }
   ],
   "source": [
    "p = figure()\n",
    "p = Histogram(exact_match, values='GTcons', title='Exact_Match_HG002: Consensust GT', color='LightSlateGray', bins=15, plot_height=250, xlabel=\"GTcons\", ylabel=\"Frequency\")\n",
    "show(p)"
   ]
  },
  {
   "cell_type": "markdown",
   "metadata": {},
   "source": [
    "** Homozygous Reference **"
   ]
  },
  {
   "cell_type": "code",
   "execution_count": 60,
   "metadata": {},
   "outputs": [
    {
     "data": {
      "text/html": [
       "<div>\n",
       "<table border=\"1\" class=\"dataframe\">\n",
       "  <thead>\n",
       "    <tr style=\"text-align: right;\">\n",
       "      <th></th>\n",
       "      <th>Ill250.GT</th>\n",
       "      <th>Ill250.alt_alnScore_mean</th>\n",
       "      <th>Ill250.alt_alnScore_std</th>\n",
       "      <th>Ill250.alt_count</th>\n",
       "      <th>Ill250.alt_insertSize_mean</th>\n",
       "      <th>Ill250.alt_insertSize_std</th>\n",
       "      <th>Ill250.alt_reason_alignmentScore</th>\n",
       "      <th>Ill250.alt_reason_insertSizeScore</th>\n",
       "      <th>Ill250.alt_reason_orientation</th>\n",
       "      <th>Ill250.amb_alnScore_mean</th>\n",
       "      <th>...</th>\n",
       "      <th>refN_pct</th>\n",
       "      <th>segdup_cnt</th>\n",
       "      <th>segdup_pct</th>\n",
       "      <th>start</th>\n",
       "      <th>tandemrep_cnt</th>\n",
       "      <th>tandemrep_pct</th>\n",
       "      <th>predicted_label</th>\n",
       "      <th>GTcons</th>\n",
       "      <th>GTsupp</th>\n",
       "      <th>GTconswithoutIll250.GT</th>\n",
       "    </tr>\n",
       "  </thead>\n",
       "  <tbody>\n",
       "    <tr>\n",
       "      <th>0</th>\n",
       "      <td>0.0</td>\n",
       "      <td>0.0</td>\n",
       "      <td>0.0</td>\n",
       "      <td>0.0</td>\n",
       "      <td>0.0</td>\n",
       "      <td>0.0</td>\n",
       "      <td>0.0</td>\n",
       "      <td>0.0</td>\n",
       "      <td>0.0</td>\n",
       "      <td>882.616114</td>\n",
       "      <td>...</td>\n",
       "      <td>0.0</td>\n",
       "      <td>0.0</td>\n",
       "      <td>0.0</td>\n",
       "      <td>37568322</td>\n",
       "      <td>3.0</td>\n",
       "      <td>0.818868</td>\n",
       "      <td>0.0</td>\n",
       "      <td>0</td>\n",
       "      <td>4</td>\n",
       "      <td>0</td>\n",
       "    </tr>\n",
       "  </tbody>\n",
       "</table>\n",
       "<p>1 rows × 45 columns</p>\n",
       "</div>"
      ],
      "text/plain": [
       "   Ill250.GT  Ill250.alt_alnScore_mean  Ill250.alt_alnScore_std  \\\n",
       "0        0.0                       0.0                      0.0   \n",
       "\n",
       "   Ill250.alt_count  Ill250.alt_insertSize_mean  Ill250.alt_insertSize_std  \\\n",
       "0               0.0                         0.0                        0.0   \n",
       "\n",
       "   Ill250.alt_reason_alignmentScore  Ill250.alt_reason_insertSizeScore  \\\n",
       "0                               0.0                                0.0   \n",
       "\n",
       "   Ill250.alt_reason_orientation  Ill250.amb_alnScore_mean  \\\n",
       "0                            0.0                882.616114   \n",
       "\n",
       "            ...            refN_pct  segdup_cnt  segdup_pct     start  \\\n",
       "0           ...                 0.0         0.0         0.0  37568322   \n",
       "\n",
       "   tandemrep_cnt  tandemrep_pct  predicted_label  GTcons  GTsupp  \\\n",
       "0            3.0       0.818868              0.0       0       4   \n",
       "\n",
       "   GTconswithoutIll250.GT  \n",
       "0                       0  \n",
       "\n",
       "[1 rows x 45 columns]"
      ]
     },
     "execution_count": 60,
     "metadata": {},
     "output_type": "execute_result"
    }
   ],
   "source": [
    "hr = X5['predicted_label'] == 0.0\n",
    "hom_ref = X5[hr]\n",
    "hom_ref.head(1)"
   ]
  },
  {
   "cell_type": "code",
   "execution_count": 61,
   "metadata": {},
   "outputs": [
    {
     "data": {
      "text/html": [
       "\n",
       "\n",
       "    <div class=\"bk-root\">\n",
       "        <div class=\"bk-plotdiv\" id=\"87338711-0820-4cc7-a089-f94ed7ee7bc3\"></div>\n",
       "    </div>\n",
       "<script type=\"text/javascript\">\n",
       "  \n",
       "  (function(global) {\n",
       "    function now() {\n",
       "      return new Date();\n",
       "    }\n",
       "  \n",
       "    var force = false;\n",
       "  \n",
       "    if (typeof (window._bokeh_onload_callbacks) === \"undefined\" || force === true) {\n",
       "      window._bokeh_onload_callbacks = [];\n",
       "      window._bokeh_is_loading = undefined;\n",
       "    }\n",
       "  \n",
       "  \n",
       "    \n",
       "    if (typeof (window._bokeh_timeout) === \"undefined\" || force === true) {\n",
       "      window._bokeh_timeout = Date.now() + 0;\n",
       "      window._bokeh_failed_load = false;\n",
       "    }\n",
       "  \n",
       "    var NB_LOAD_WARNING = {'data': {'text/html':\n",
       "       \"<div style='background-color: #fdd'>\\n\"+\n",
       "       \"<p>\\n\"+\n",
       "       \"BokehJS does not appear to have successfully loaded. If loading BokehJS from CDN, this \\n\"+\n",
       "       \"may be due to a slow or bad network connection. Possible fixes:\\n\"+\n",
       "       \"</p>\\n\"+\n",
       "       \"<ul>\\n\"+\n",
       "       \"<li>re-rerun `output_notebook()` to attempt to load from CDN again, or</li>\\n\"+\n",
       "       \"<li>use INLINE resources instead, as so:</li>\\n\"+\n",
       "       \"</ul>\\n\"+\n",
       "       \"<code>\\n\"+\n",
       "       \"from bokeh.resources import INLINE\\n\"+\n",
       "       \"output_notebook(resources=INLINE)\\n\"+\n",
       "       \"</code>\\n\"+\n",
       "       \"</div>\"}};\n",
       "  \n",
       "    function display_loaded() {\n",
       "      if (window.Bokeh !== undefined) {\n",
       "        document.getElementById(\"87338711-0820-4cc7-a089-f94ed7ee7bc3\").textContent = \"BokehJS successfully loaded.\";\n",
       "      } else if (Date.now() < window._bokeh_timeout) {\n",
       "        setTimeout(display_loaded, 100)\n",
       "      }\n",
       "    }\n",
       "  \n",
       "    function run_callbacks() {\n",
       "      window._bokeh_onload_callbacks.forEach(function(callback) { callback() });\n",
       "      delete window._bokeh_onload_callbacks\n",
       "      console.info(\"Bokeh: all callbacks have finished\");\n",
       "    }\n",
       "  \n",
       "    function load_libs(js_urls, callback) {\n",
       "      window._bokeh_onload_callbacks.push(callback);\n",
       "      if (window._bokeh_is_loading > 0) {\n",
       "        console.log(\"Bokeh: BokehJS is being loaded, scheduling callback at\", now());\n",
       "        return null;\n",
       "      }\n",
       "      if (js_urls == null || js_urls.length === 0) {\n",
       "        run_callbacks();\n",
       "        return null;\n",
       "      }\n",
       "      console.log(\"Bokeh: BokehJS not loaded, scheduling load and callback at\", now());\n",
       "      window._bokeh_is_loading = js_urls.length;\n",
       "      for (var i = 0; i < js_urls.length; i++) {\n",
       "        var url = js_urls[i];\n",
       "        var s = document.createElement('script');\n",
       "        s.src = url;\n",
       "        s.async = false;\n",
       "        s.onreadystatechange = s.onload = function() {\n",
       "          window._bokeh_is_loading--;\n",
       "          if (window._bokeh_is_loading === 0) {\n",
       "            console.log(\"Bokeh: all BokehJS libraries loaded\");\n",
       "            run_callbacks()\n",
       "          }\n",
       "        };\n",
       "        s.onerror = function() {\n",
       "          console.warn(\"failed to load library \" + url);\n",
       "        };\n",
       "        console.log(\"Bokeh: injecting script tag for BokehJS library: \", url);\n",
       "        document.getElementsByTagName(\"head\")[0].appendChild(s);\n",
       "      }\n",
       "    };var element = document.getElementById(\"87338711-0820-4cc7-a089-f94ed7ee7bc3\");\n",
       "    if (element == null) {\n",
       "      console.log(\"Bokeh: ERROR: autoload.js configured with elementid '87338711-0820-4cc7-a089-f94ed7ee7bc3' but no matching script tag was found. \")\n",
       "      return false;\n",
       "    }\n",
       "  \n",
       "    var js_urls = [];\n",
       "  \n",
       "    var inline_js = [\n",
       "      function(Bokeh) {\n",
       "        (function() {\n",
       "          var fn = function() {\n",
       "            var docs_json = {\"566ef525-9f46-4c1d-bdc4-0e60796946a5\":{\"roots\":{\"references\":[{\"attributes\":{\"callback\":null,\"column_names\":[\"fill_alpha\",\"line_color\",\"label\",\"height\",\"y\",\"width\",\"color\",\"x\",\"line_alpha\"],\"data\":{\"chart_index\":[\"(1.466667, 1.600000]\"],\"color\":[\"LightSlateGray\"],\"fill_alpha\":[0.8],\"height\":[0.0],\"label\":[\"(1.466667, 1.600000]\"],\"line_alpha\":[1.0],\"line_color\":[\"black\"],\"width\":[0.13333333333333353],\"x\":[\"1.5333335\"],\"y\":[0.0]}},\"id\":\"38dd1db9-e600-4519-aef8-b94f2ecbeb3e\",\"type\":\"ColumnDataSource\"},{\"attributes\":{\"data_source\":{\"id\":\"3b948d2d-01b1-4cce-a3a6-2f17145142c7\",\"type\":\"ColumnDataSource\"},\"glyph\":{\"id\":\"4a3946cd-d9ba-4912-856a-21c3772ba4b1\",\"type\":\"Rect\"},\"hover_glyph\":null,\"nonselection_glyph\":null,\"selection_glyph\":null},\"id\":\"5ade9b23-cbb4-42ec-bac8-f76bf9e94340\",\"type\":\"GlyphRenderer\"},{\"attributes\":{\"fill_alpha\":{\"field\":\"fill_alpha\"},\"fill_color\":{\"field\":\"color\"},\"height\":{\"field\":\"height\",\"units\":\"data\"},\"line_color\":{\"field\":\"line_color\"},\"width\":{\"field\":\"width\",\"units\":\"data\"},\"x\":{\"field\":\"x\"},\"y\":{\"field\":\"y\"}},\"id\":\"5d48b151-dbd0-4f9e-a16a-bd20b143cd7f\",\"type\":\"Rect\"},{\"attributes\":{\"fill_alpha\":{\"field\":\"fill_alpha\"},\"fill_color\":{\"field\":\"color\"},\"height\":{\"field\":\"height\",\"units\":\"data\"},\"line_color\":{\"field\":\"line_color\"},\"width\":{\"field\":\"width\",\"units\":\"data\"},\"x\":{\"field\":\"x\"},\"y\":{\"field\":\"y\"}},\"id\":\"f387c528-a8de-4d61-80f7-70d3ff732842\",\"type\":\"Rect\"},{\"attributes\":{\"active_drag\":\"auto\",\"active_scroll\":\"auto\",\"active_tap\":\"auto\",\"tools\":[{\"id\":\"8cbc95bd-3b98-4062-ba38-b72df10b68fe\",\"type\":\"PanTool\"},{\"id\":\"0403bdbc-9049-450b-b037-2c26022de662\",\"type\":\"WheelZoomTool\"},{\"id\":\"d1ab20d1-2da1-4c7e-903b-92df66f90e3d\",\"type\":\"BoxZoomTool\"},{\"id\":\"d6c2dabc-0384-496c-9c44-453e74aebc0e\",\"type\":\"SaveTool\"},{\"id\":\"7bde59de-c5f0-4ac9-9e1c-eab9417d5907\",\"type\":\"ResetTool\"},{\"id\":\"b6ed239d-e80f-474a-809f-d25b439b204b\",\"type\":\"HelpTool\"}]},\"id\":\"face53c6-f523-40bd-936e-7dac18e99cb9\",\"type\":\"Toolbar\"},{\"attributes\":{},\"id\":\"fba5e3a3-f1a4-4a37-969d-f2cb0e3f10e6\",\"type\":\"BasicTickFormatter\"},{\"attributes\":{\"data_source\":{\"id\":\"94792265-41ec-4bfa-81a1-b1c852d3dd47\",\"type\":\"ColumnDataSource\"},\"glyph\":{\"id\":\"c479bcb5-ede5-4231-8d66-0a01728e2e98\",\"type\":\"Rect\"},\"hover_glyph\":null,\"nonselection_glyph\":null,\"selection_glyph\":null},\"id\":\"d3b81ef8-5a15-4554-afcb-76ffc6f42b12\",\"type\":\"GlyphRenderer\"},{\"attributes\":{\"data_source\":{\"id\":\"f4f349cc-3615-4b9a-ae66-e4e0c9247582\",\"type\":\"ColumnDataSource\"},\"glyph\":{\"id\":\"ca2f8984-8484-4e4d-98d5-789ddea1595c\",\"type\":\"Rect\"},\"hover_glyph\":null,\"nonselection_glyph\":null,\"selection_glyph\":null},\"id\":\"b861297f-5dbd-4187-9cc8-d66c9735dc43\",\"type\":\"GlyphRenderer\"},{\"attributes\":{\"callback\":null,\"column_names\":[\"fill_alpha\",\"line_color\",\"label\",\"height\",\"y\",\"width\",\"color\",\"x\",\"line_alpha\"],\"data\":{\"chart_index\":[\"(0.933333, 1.066667]\"],\"color\":[\"LightSlateGray\"],\"fill_alpha\":[0.8],\"height\":[33.0],\"label\":[\"(0.933333, 1.066667]\"],\"line_alpha\":[1.0],\"line_color\":[\"black\"],\"width\":[0.1333333333333333],\"x\":[\"1.0\"],\"y\":[16.5]}},\"id\":\"ccf18381-a5f0-43fb-ab5e-18d1bd334120\",\"type\":\"ColumnDataSource\"},{\"attributes\":{\"fill_alpha\":{\"field\":\"fill_alpha\"},\"fill_color\":{\"field\":\"color\"},\"height\":{\"field\":\"height\",\"units\":\"data\"},\"line_color\":{\"field\":\"line_color\"},\"width\":{\"field\":\"width\",\"units\":\"data\"},\"x\":{\"field\":\"x\"},\"y\":{\"field\":\"y\"}},\"id\":\"8add02db-d56d-4261-bd15-f96f0abc3469\",\"type\":\"Rect\"},{\"attributes\":{\"fill_alpha\":{\"field\":\"fill_alpha\"},\"fill_color\":{\"field\":\"color\"},\"height\":{\"field\":\"height\",\"units\":\"data\"},\"line_color\":{\"field\":\"line_color\"},\"width\":{\"field\":\"width\",\"units\":\"data\"},\"x\":{\"field\":\"x\"},\"y\":{\"field\":\"y\"}},\"id\":\"4578e08b-377f-48f7-88ce-78e8365c1955\",\"type\":\"Rect\"},{\"attributes\":{\"data_source\":{\"id\":\"6dcd5bc9-67c9-4bc6-885d-8cc7d3cb1878\",\"type\":\"ColumnDataSource\"},\"glyph\":{\"id\":\"16cb43bc-7abd-43ef-96b1-ffba6db1ee2a\",\"type\":\"Rect\"},\"hover_glyph\":null,\"nonselection_glyph\":null,\"selection_glyph\":null},\"id\":\"6667c3d4-c83e-4f8f-95f7-2c0ec6145b74\",\"type\":\"GlyphRenderer\"},{\"attributes\":{\"data_source\":{\"id\":\"d9455fb7-9b1e-493f-beec-b317c52f14ad\",\"type\":\"ColumnDataSource\"},\"glyph\":{\"id\":\"b4c692af-260b-45c4-b812-6466393e5840\",\"type\":\"Rect\"},\"hover_glyph\":null,\"nonselection_glyph\":null,\"selection_glyph\":null},\"id\":\"4038939b-ada7-437a-977a-0e18c5393908\",\"type\":\"GlyphRenderer\"},{\"attributes\":{\"fill_alpha\":{\"field\":\"fill_alpha\"},\"fill_color\":{\"field\":\"color\"},\"height\":{\"field\":\"height\",\"units\":\"data\"},\"line_color\":{\"field\":\"line_color\"},\"width\":{\"field\":\"width\",\"units\":\"data\"},\"x\":{\"field\":\"x\"},\"y\":{\"field\":\"y\"}},\"id\":\"5dffd889-e7df-421e-82de-7bf21200c7d2\",\"type\":\"Rect\"},{\"attributes\":{\"below\":[{\"id\":\"0d58b942-482a-4d5a-9c07-9268f2c783a9\",\"type\":\"LinearAxis\"}],\"css_classes\":null,\"left\":[{\"id\":\"e6825a32-c0bd-4a39-8a7a-b4da227bfa24\",\"type\":\"LinearAxis\"}],\"plot_height\":250,\"renderers\":[{\"id\":\"29edb1bb-cfeb-4815-9dc3-2f0c673edd25\",\"type\":\"BoxAnnotation\"},{\"id\":\"d9e6d5bd-9936-43b2-bfee-8146ea7e080c\",\"type\":\"GlyphRenderer\"},{\"id\":\"0a9c2c4d-ba2b-4ed1-abc9-d071aaa77772\",\"type\":\"GlyphRenderer\"},{\"id\":\"a6176d32-ae7b-4cd0-964d-cbea6ad33096\",\"type\":\"GlyphRenderer\"},{\"id\":\"d3b81ef8-5a15-4554-afcb-76ffc6f42b12\",\"type\":\"GlyphRenderer\"},{\"id\":\"c10692c0-0648-4c9f-ab45-bbbcea7c87f9\",\"type\":\"GlyphRenderer\"},{\"id\":\"104c297e-7b9b-4f0a-8416-61bd0845d1ab\",\"type\":\"GlyphRenderer\"},{\"id\":\"22534e2a-17b3-4bf6-ac2d-dec2fd19a2d5\",\"type\":\"GlyphRenderer\"},{\"id\":\"66c12054-a593-44f2-9933-b05365b59350\",\"type\":\"GlyphRenderer\"},{\"id\":\"ca0ef1b1-ed46-4fe2-aa98-0e613491fae2\",\"type\":\"GlyphRenderer\"},{\"id\":\"5ade9b23-cbb4-42ec-bac8-f76bf9e94340\",\"type\":\"GlyphRenderer\"},{\"id\":\"9fedf831-1bcd-4aac-a6df-202af8ee7caf\",\"type\":\"GlyphRenderer\"},{\"id\":\"8bc62cb2-fbd4-47e2-b122-2ec69ef03f62\",\"type\":\"GlyphRenderer\"},{\"id\":\"6667c3d4-c83e-4f8f-95f7-2c0ec6145b74\",\"type\":\"GlyphRenderer\"},{\"id\":\"b861297f-5dbd-4187-9cc8-d66c9735dc43\",\"type\":\"GlyphRenderer\"},{\"id\":\"4038939b-ada7-437a-977a-0e18c5393908\",\"type\":\"GlyphRenderer\"},{\"id\":\"2ff7c224-fe52-4f3a-8911-ec30320fbb29\",\"type\":\"Legend\"},{\"id\":\"0d58b942-482a-4d5a-9c07-9268f2c783a9\",\"type\":\"LinearAxis\"},{\"id\":\"e6825a32-c0bd-4a39-8a7a-b4da227bfa24\",\"type\":\"LinearAxis\"},{\"id\":\"0db03048-3977-4095-83e2-8f05ed9a0081\",\"type\":\"Grid\"}],\"title\":{\"id\":\"53a57f33-1183-475d-8247-f5a25832f70e\",\"type\":\"Title\"},\"tool_events\":{\"id\":\"56c99a28-3abd-4261-809c-ab0f7dae9082\",\"type\":\"ToolEvents\"},\"toolbar\":{\"id\":\"face53c6-f523-40bd-936e-7dac18e99cb9\",\"type\":\"Toolbar\"},\"x_mapper_type\":\"auto\",\"x_range\":{\"id\":\"e4f6e57d-eaf7-46bb-b149-f073f5f5eb27\",\"type\":\"Range1d\"},\"y_mapper_type\":\"auto\",\"y_range\":{\"id\":\"566267f1-5f31-45e8-a17e-aae9f47a8884\",\"type\":\"Range1d\"}},\"id\":\"1c5d4308-83bf-41cb-8b14-1f2413ac445d\",\"subtype\":\"Chart\",\"type\":\"Plot\"},{\"attributes\":{\"callback\":null,\"end\":632.5},\"id\":\"566267f1-5f31-45e8-a17e-aae9f47a8884\",\"type\":\"Range1d\"},{\"attributes\":{\"fill_alpha\":{\"field\":\"fill_alpha\"},\"fill_color\":{\"field\":\"color\"},\"height\":{\"field\":\"height\",\"units\":\"data\"},\"line_color\":{\"field\":\"line_color\"},\"width\":{\"field\":\"width\",\"units\":\"data\"},\"x\":{\"field\":\"x\"},\"y\":{\"field\":\"y\"}},\"id\":\"55f04e9b-c316-4999-a37e-9b0f6fad41f5\",\"type\":\"Rect\"},{\"attributes\":{\"callback\":null,\"column_names\":[\"fill_alpha\",\"line_color\",\"label\",\"height\",\"y\",\"width\",\"color\",\"x\",\"line_alpha\"],\"data\":{\"chart_index\":[\"(1.600000, 1.733333]\"],\"color\":[\"LightSlateGray\"],\"fill_alpha\":[0.8],\"height\":[0.0],\"label\":[\"(1.600000, 1.733333]\"],\"line_alpha\":[1.0],\"line_color\":[\"black\"],\"width\":[0.1333333333333333],\"x\":[\"1.6666665\"],\"y\":[0.0]}},\"id\":\"6dcd5bc9-67c9-4bc6-885d-8cc7d3cb1878\",\"type\":\"ColumnDataSource\"},{\"attributes\":{\"fill_alpha\":{\"field\":\"fill_alpha\"},\"fill_color\":{\"field\":\"color\"},\"height\":{\"field\":\"height\",\"units\":\"data\"},\"line_color\":{\"field\":\"line_color\"},\"width\":{\"field\":\"width\",\"units\":\"data\"},\"x\":{\"field\":\"x\"},\"y\":{\"field\":\"y\"}},\"id\":\"c479bcb5-ede5-4231-8d66-0a01728e2e98\",\"type\":\"Rect\"},{\"attributes\":{\"callback\":null,\"column_names\":[\"fill_alpha\",\"line_color\",\"label\",\"height\",\"y\",\"width\",\"color\",\"x\",\"line_alpha\"],\"data\":{\"chart_index\":[\"(1.733333, 1.866667]\"],\"color\":[\"LightSlateGray\"],\"fill_alpha\":[0.8],\"height\":[0.0],\"label\":[\"(1.733333, 1.866667]\"],\"line_alpha\":[1.0],\"line_color\":[\"black\"],\"width\":[0.1333333333333333],\"x\":[\"1.8\"],\"y\":[0.0]}},\"id\":\"f4f349cc-3615-4b9a-ae66-e4e0c9247582\",\"type\":\"ColumnDataSource\"},{\"attributes\":{\"axis_label\":\"GTcons\",\"formatter\":{\"id\":\"fba5e3a3-f1a4-4a37-969d-f2cb0e3f10e6\",\"type\":\"BasicTickFormatter\"},\"plot\":{\"id\":\"1c5d4308-83bf-41cb-8b14-1f2413ac445d\",\"subtype\":\"Chart\",\"type\":\"Plot\"},\"ticker\":{\"id\":\"c5066996-68db-41c8-81ab-0389ca7a88dd\",\"type\":\"BasicTicker\"}},\"id\":\"0d58b942-482a-4d5a-9c07-9268f2c783a9\",\"type\":\"LinearAxis\"},{\"attributes\":{\"data_source\":{\"id\":\"43f45255-a50c-4c82-829d-3095fe96e0e0\",\"type\":\"ColumnDataSource\"},\"glyph\":{\"id\":\"c3ca1165-5f01-4167-9ad4-b3a455fe36be\",\"type\":\"Rect\"},\"hover_glyph\":null,\"nonselection_glyph\":null,\"selection_glyph\":null},\"id\":\"9fedf831-1bcd-4aac-a6df-202af8ee7caf\",\"type\":\"GlyphRenderer\"},{\"attributes\":{\"callback\":null,\"column_names\":[\"fill_alpha\",\"line_color\",\"label\",\"height\",\"y\",\"width\",\"color\",\"x\",\"line_alpha\"],\"data\":{\"chart_index\":[\"[0.000000, 0.133333]\"],\"color\":[\"LightSlateGray\"],\"fill_alpha\":[0.8],\"height\":[575.0],\"label\":[\"[0.000000, 0.133333]\"],\"line_alpha\":[1.0],\"line_color\":[\"black\"],\"width\":[0.13333333333333333],\"x\":[\"0.0666665\"],\"y\":[287.5]}},\"id\":\"b662e1c5-3282-44ee-91c7-fd880a7b0a27\",\"type\":\"ColumnDataSource\"},{\"attributes\":{\"callback\":null,\"column_names\":[\"fill_alpha\",\"line_color\",\"label\",\"height\",\"y\",\"width\",\"color\",\"x\",\"line_alpha\"],\"data\":{\"chart_index\":[\"(0.666667, 0.800000]\"],\"color\":[\"LightSlateGray\"],\"fill_alpha\":[0.8],\"height\":[0.0],\"label\":[\"(0.666667, 0.800000]\"],\"line_alpha\":[1.0],\"line_color\":[\"black\"],\"width\":[0.13333333333333341],\"x\":[\"0.7333335000000001\"],\"y\":[0.0]}},\"id\":\"239a10e5-1a8f-4ec7-83e5-bf429a938fed\",\"type\":\"ColumnDataSource\"},{\"attributes\":{\"callback\":null,\"end\":2.0500001666666665,\"start\":-0.050000166666666665},\"id\":\"e4f6e57d-eaf7-46bb-b149-f073f5f5eb27\",\"type\":\"Range1d\"},{\"attributes\":{\"overlay\":{\"id\":\"29edb1bb-cfeb-4815-9dc3-2f0c673edd25\",\"type\":\"BoxAnnotation\"},\"plot\":{\"id\":\"1c5d4308-83bf-41cb-8b14-1f2413ac445d\",\"subtype\":\"Chart\",\"type\":\"Plot\"}},\"id\":\"d1ab20d1-2da1-4c7e-903b-92df66f90e3d\",\"type\":\"BoxZoomTool\"},{\"attributes\":{\"callback\":null,\"column_names\":[\"fill_alpha\",\"line_color\",\"label\",\"height\",\"y\",\"width\",\"color\",\"x\",\"line_alpha\"],\"data\":{\"chart_index\":[\"(0.266667, 0.400000]\"],\"color\":[\"LightSlateGray\"],\"fill_alpha\":[0.8],\"height\":[0.0],\"label\":[\"(0.266667, 0.400000]\"],\"line_alpha\":[1.0],\"line_color\":[\"black\"],\"width\":[0.13333333333333336],\"x\":[\"0.3333335\"],\"y\":[0.0]}},\"id\":\"d793f813-b395-4080-96d8-2bf101d0dba4\",\"type\":\"ColumnDataSource\"},{\"attributes\":{\"plot\":null,\"text\":\"Homozygous_Reference_HG002: Consensust GT\"},\"id\":\"53a57f33-1183-475d-8247-f5a25832f70e\",\"type\":\"Title\"},{\"attributes\":{\"callback\":null,\"column_names\":[\"fill_alpha\",\"line_color\",\"label\",\"height\",\"y\",\"width\",\"color\",\"x\",\"line_alpha\"],\"data\":{\"chart_index\":[\"(0.133333, 0.266667]\"],\"color\":[\"LightSlateGray\"],\"fill_alpha\":[0.8],\"height\":[0.0],\"label\":[\"(0.133333, 0.266667]\"],\"line_alpha\":[1.0],\"line_color\":[\"black\"],\"width\":[0.13333333333333333],\"x\":[\"0.2\"],\"y\":[0.0]}},\"id\":\"670a5290-ef89-482b-8cb9-31928cdf270b\",\"type\":\"ColumnDataSource\"},{\"attributes\":{\"fill_alpha\":{\"field\":\"fill_alpha\"},\"fill_color\":{\"field\":\"color\"},\"height\":{\"field\":\"height\",\"units\":\"data\"},\"line_color\":{\"field\":\"line_color\"},\"width\":{\"field\":\"width\",\"units\":\"data\"},\"x\":{\"field\":\"x\"},\"y\":{\"field\":\"y\"}},\"id\":\"b4c692af-260b-45c4-b812-6466393e5840\",\"type\":\"Rect\"},{\"attributes\":{\"location\":\"top_left\",\"plot\":{\"id\":\"1c5d4308-83bf-41cb-8b14-1f2413ac445d\",\"subtype\":\"Chart\",\"type\":\"Plot\"}},\"id\":\"2ff7c224-fe52-4f3a-8911-ec30320fbb29\",\"type\":\"Legend\"},{\"attributes\":{\"fill_alpha\":{\"field\":\"fill_alpha\"},\"fill_color\":{\"field\":\"color\"},\"height\":{\"field\":\"height\",\"units\":\"data\"},\"line_color\":{\"field\":\"line_color\"},\"width\":{\"field\":\"width\",\"units\":\"data\"},\"x\":{\"field\":\"x\"},\"y\":{\"field\":\"y\"}},\"id\":\"4a3946cd-d9ba-4912-856a-21c3772ba4b1\",\"type\":\"Rect\"},{\"attributes\":{\"plot\":{\"id\":\"1c5d4308-83bf-41cb-8b14-1f2413ac445d\",\"subtype\":\"Chart\",\"type\":\"Plot\"}},\"id\":\"0403bdbc-9049-450b-b037-2c26022de662\",\"type\":\"WheelZoomTool\"},{\"attributes\":{\"fill_alpha\":{\"field\":\"fill_alpha\"},\"fill_color\":{\"field\":\"color\"},\"height\":{\"field\":\"height\",\"units\":\"data\"},\"line_color\":{\"field\":\"line_color\"},\"width\":{\"field\":\"width\",\"units\":\"data\"},\"x\":{\"field\":\"x\"},\"y\":{\"field\":\"y\"}},\"id\":\"9d09d1f8-34ff-425e-9408-8b43c55ef172\",\"type\":\"Rect\"},{\"attributes\":{\"data_source\":{\"id\":\"d793f813-b395-4080-96d8-2bf101d0dba4\",\"type\":\"ColumnDataSource\"},\"glyph\":{\"id\":\"9d09d1f8-34ff-425e-9408-8b43c55ef172\",\"type\":\"Rect\"},\"hover_glyph\":null,\"nonselection_glyph\":null,\"selection_glyph\":null},\"id\":\"a6176d32-ae7b-4cd0-964d-cbea6ad33096\",\"type\":\"GlyphRenderer\"},{\"attributes\":{\"axis_label\":\"Frequency\",\"formatter\":{\"id\":\"c986dd36-569c-448e-9825-a78b75088e7d\",\"type\":\"BasicTickFormatter\"},\"plot\":{\"id\":\"1c5d4308-83bf-41cb-8b14-1f2413ac445d\",\"subtype\":\"Chart\",\"type\":\"Plot\"},\"ticker\":{\"id\":\"f88e3f46-8d91-4a94-a0a8-fc42c51f8ef4\",\"type\":\"BasicTicker\"}},\"id\":\"e6825a32-c0bd-4a39-8a7a-b4da227bfa24\",\"type\":\"LinearAxis\"},{\"attributes\":{\"plot\":{\"id\":\"1c5d4308-83bf-41cb-8b14-1f2413ac445d\",\"subtype\":\"Chart\",\"type\":\"Plot\"}},\"id\":\"7bde59de-c5f0-4ac9-9e1c-eab9417d5907\",\"type\":\"ResetTool\"},{\"attributes\":{},\"id\":\"c5066996-68db-41c8-81ab-0389ca7a88dd\",\"type\":\"BasicTicker\"},{\"attributes\":{\"plot\":{\"id\":\"1c5d4308-83bf-41cb-8b14-1f2413ac445d\",\"subtype\":\"Chart\",\"type\":\"Plot\"}},\"id\":\"b6ed239d-e80f-474a-809f-d25b439b204b\",\"type\":\"HelpTool\"},{\"attributes\":{\"data_source\":{\"id\":\"82c4fa4f-5ce7-415e-ac1f-bd10f89ff11a\",\"type\":\"ColumnDataSource\"},\"glyph\":{\"id\":\"4578e08b-377f-48f7-88ce-78e8365c1955\",\"type\":\"Rect\"},\"hover_glyph\":null,\"nonselection_glyph\":null,\"selection_glyph\":null},\"id\":\"c10692c0-0648-4c9f-ab45-bbbcea7c87f9\",\"type\":\"GlyphRenderer\"},{\"attributes\":{\"callback\":null,\"column_names\":[\"fill_alpha\",\"line_color\",\"label\",\"height\",\"y\",\"width\",\"color\",\"x\",\"line_alpha\"],\"data\":{\"chart_index\":[\"(1.066667, 1.200000]\"],\"color\":[\"LightSlateGray\"],\"fill_alpha\":[0.8],\"height\":[0.0],\"label\":[\"(1.066667, 1.200000]\"],\"line_alpha\":[1.0],\"line_color\":[\"black\"],\"width\":[0.1333333333333333],\"x\":[\"1.1333335\"],\"y\":[0.0]}},\"id\":\"e2bddae3-a982-4c52-bb3b-797e4a1b5582\",\"type\":\"ColumnDataSource\"},{\"attributes\":{\"data_source\":{\"id\":\"e2bddae3-a982-4c52-bb3b-797e4a1b5582\",\"type\":\"ColumnDataSource\"},\"glyph\":{\"id\":\"a2ddb7a8-a844-4daa-9f7c-3d2546b0ef75\",\"type\":\"Rect\"},\"hover_glyph\":null,\"nonselection_glyph\":null,\"selection_glyph\":null},\"id\":\"ca0ef1b1-ed46-4fe2-aa98-0e613491fae2\",\"type\":\"GlyphRenderer\"},{\"attributes\":{\"bottom_units\":\"screen\",\"fill_alpha\":{\"value\":0.5},\"fill_color\":{\"value\":\"lightgrey\"},\"left_units\":\"screen\",\"level\":\"overlay\",\"line_alpha\":{\"value\":1.0},\"line_color\":{\"value\":\"black\"},\"line_dash\":[4,4],\"line_width\":{\"value\":2},\"plot\":null,\"render_mode\":\"css\",\"right_units\":\"screen\",\"top_units\":\"screen\"},\"id\":\"29edb1bb-cfeb-4815-9dc3-2f0c673edd25\",\"type\":\"BoxAnnotation\"},{\"attributes\":{\"callback\":null,\"column_names\":[\"fill_alpha\",\"line_color\",\"label\",\"height\",\"y\",\"width\",\"color\",\"x\",\"line_alpha\"],\"data\":{\"chart_index\":[\"(0.800000, 0.933333]\"],\"color\":[\"LightSlateGray\"],\"fill_alpha\":[0.8],\"height\":[0.0],\"label\":[\"(0.800000, 0.933333]\"],\"line_alpha\":[1.0],\"line_color\":[\"black\"],\"width\":[0.1333333333333333],\"x\":[\"0.8666665\"],\"y\":[0.0]}},\"id\":\"c9ce5c29-4524-4e6f-b727-1a0f09652c7b\",\"type\":\"ColumnDataSource\"},{\"attributes\":{},\"id\":\"f88e3f46-8d91-4a94-a0a8-fc42c51f8ef4\",\"type\":\"BasicTicker\"},{\"attributes\":{\"callback\":null,\"column_names\":[\"fill_alpha\",\"line_color\",\"label\",\"height\",\"y\",\"width\",\"color\",\"x\",\"line_alpha\"],\"data\":{\"chart_index\":[\"(0.400000, 0.533333]\"],\"color\":[\"LightSlateGray\"],\"fill_alpha\":[0.8],\"height\":[0.0],\"label\":[\"(0.400000, 0.533333]\"],\"line_alpha\":[1.0],\"line_color\":[\"black\"],\"width\":[0.1333333333333333],\"x\":[\"0.4666665\"],\"y\":[0.0]}},\"id\":\"94792265-41ec-4bfa-81a1-b1c852d3dd47\",\"type\":\"ColumnDataSource\"},{\"attributes\":{\"callback\":null,\"column_names\":[\"fill_alpha\",\"line_color\",\"label\",\"height\",\"y\",\"width\",\"color\",\"x\",\"line_alpha\"],\"data\":{\"chart_index\":[\"(1.333333, 1.466667]\"],\"color\":[\"LightSlateGray\"],\"fill_alpha\":[0.8],\"height\":[0.0],\"label\":[\"(1.333333, 1.466667]\"],\"line_alpha\":[1.0],\"line_color\":[\"black\"],\"width\":[0.1333333333333333],\"x\":[\"1.4\"],\"y\":[0.0]}},\"id\":\"43f45255-a50c-4c82-829d-3095fe96e0e0\",\"type\":\"ColumnDataSource\"},{\"attributes\":{\"plot\":{\"id\":\"1c5d4308-83bf-41cb-8b14-1f2413ac445d\",\"subtype\":\"Chart\",\"type\":\"Plot\"}},\"id\":\"8cbc95bd-3b98-4062-ba38-b72df10b68fe\",\"type\":\"PanTool\"},{\"attributes\":{\"callback\":null,\"column_names\":[\"fill_alpha\",\"line_color\",\"label\",\"height\",\"y\",\"width\",\"color\",\"x\",\"line_alpha\"],\"data\":{\"chart_index\":[\"(1.866667, 2.000000]\"],\"color\":[\"LightSlateGray\"],\"fill_alpha\":[0.8],\"height\":[6.0],\"label\":[\"(1.866667, 2.000000]\"],\"line_alpha\":[1.0],\"line_color\":[\"black\"],\"width\":[0.1333333333333333],\"x\":[\"1.9333335\"],\"y\":[3.0]}},\"id\":\"d9455fb7-9b1e-493f-beec-b317c52f14ad\",\"type\":\"ColumnDataSource\"},{\"attributes\":{\"fill_alpha\":{\"field\":\"fill_alpha\"},\"fill_color\":{\"field\":\"color\"},\"height\":{\"field\":\"height\",\"units\":\"data\"},\"line_color\":{\"field\":\"line_color\"},\"width\":{\"field\":\"width\",\"units\":\"data\"},\"x\":{\"field\":\"x\"},\"y\":{\"field\":\"y\"}},\"id\":\"a2ddb7a8-a844-4daa-9f7c-3d2546b0ef75\",\"type\":\"Rect\"},{\"attributes\":{\"data_source\":{\"id\":\"b662e1c5-3282-44ee-91c7-fd880a7b0a27\",\"type\":\"ColumnDataSource\"},\"glyph\":{\"id\":\"5d48b151-dbd0-4f9e-a16a-bd20b143cd7f\",\"type\":\"Rect\"},\"hover_glyph\":null,\"nonselection_glyph\":null,\"selection_glyph\":null},\"id\":\"d9e6d5bd-9936-43b2-bfee-8146ea7e080c\",\"type\":\"GlyphRenderer\"},{\"attributes\":{\"fill_alpha\":{\"field\":\"fill_alpha\"},\"fill_color\":{\"field\":\"color\"},\"height\":{\"field\":\"height\",\"units\":\"data\"},\"line_color\":{\"field\":\"line_color\"},\"width\":{\"field\":\"width\",\"units\":\"data\"},\"x\":{\"field\":\"x\"},\"y\":{\"field\":\"y\"}},\"id\":\"c3ca1165-5f01-4167-9ad4-b3a455fe36be\",\"type\":\"Rect\"},{\"attributes\":{\"plot\":{\"id\":\"1c5d4308-83bf-41cb-8b14-1f2413ac445d\",\"subtype\":\"Chart\",\"type\":\"Plot\"}},\"id\":\"d6c2dabc-0384-496c-9c44-453e74aebc0e\",\"type\":\"SaveTool\"},{\"attributes\":{\"callback\":null,\"column_names\":[\"fill_alpha\",\"line_color\",\"label\",\"height\",\"y\",\"width\",\"color\",\"x\",\"line_alpha\"],\"data\":{\"chart_index\":[\"(1.200000, 1.333333]\"],\"color\":[\"LightSlateGray\"],\"fill_alpha\":[0.8],\"height\":[0.0],\"label\":[\"(1.200000, 1.333333]\"],\"line_alpha\":[1.0],\"line_color\":[\"black\"],\"width\":[0.1333333333333333],\"x\":[\"1.2666665\"],\"y\":[0.0]}},\"id\":\"3b948d2d-01b1-4cce-a3a6-2f17145142c7\",\"type\":\"ColumnDataSource\"},{\"attributes\":{\"data_source\":{\"id\":\"38dd1db9-e600-4519-aef8-b94f2ecbeb3e\",\"type\":\"ColumnDataSource\"},\"glyph\":{\"id\":\"94ccb3c9-c3b0-48de-9c5c-3ed4b7b471cf\",\"type\":\"Rect\"},\"hover_glyph\":null,\"nonselection_glyph\":null,\"selection_glyph\":null},\"id\":\"8bc62cb2-fbd4-47e2-b122-2ec69ef03f62\",\"type\":\"GlyphRenderer\"},{\"attributes\":{\"data_source\":{\"id\":\"670a5290-ef89-482b-8cb9-31928cdf270b\",\"type\":\"ColumnDataSource\"},\"glyph\":{\"id\":\"5dffd889-e7df-421e-82de-7bf21200c7d2\",\"type\":\"Rect\"},\"hover_glyph\":null,\"nonselection_glyph\":null,\"selection_glyph\":null},\"id\":\"0a9c2c4d-ba2b-4ed1-abc9-d071aaa77772\",\"type\":\"GlyphRenderer\"},{\"attributes\":{\"dimension\":1,\"plot\":{\"id\":\"1c5d4308-83bf-41cb-8b14-1f2413ac445d\",\"subtype\":\"Chart\",\"type\":\"Plot\"},\"ticker\":{\"id\":\"f88e3f46-8d91-4a94-a0a8-fc42c51f8ef4\",\"type\":\"BasicTicker\"}},\"id\":\"0db03048-3977-4095-83e2-8f05ed9a0081\",\"type\":\"Grid\"},{\"attributes\":{},\"id\":\"c986dd36-569c-448e-9825-a78b75088e7d\",\"type\":\"BasicTickFormatter\"},{\"attributes\":{\"fill_alpha\":{\"field\":\"fill_alpha\"},\"fill_color\":{\"field\":\"color\"},\"height\":{\"field\":\"height\",\"units\":\"data\"},\"line_color\":{\"field\":\"line_color\"},\"width\":{\"field\":\"width\",\"units\":\"data\"},\"x\":{\"field\":\"x\"},\"y\":{\"field\":\"y\"}},\"id\":\"94ccb3c9-c3b0-48de-9c5c-3ed4b7b471cf\",\"type\":\"Rect\"},{\"attributes\":{\"callback\":null,\"column_names\":[\"fill_alpha\",\"line_color\",\"label\",\"height\",\"y\",\"width\",\"color\",\"x\",\"line_alpha\"],\"data\":{\"chart_index\":[\"(0.533333, 0.666667]\"],\"color\":[\"LightSlateGray\"],\"fill_alpha\":[0.8],\"height\":[0.0],\"label\":[\"(0.533333, 0.666667]\"],\"line_alpha\":[1.0],\"line_color\":[\"black\"],\"width\":[0.1333333333333333],\"x\":[\"0.6\"],\"y\":[0.0]}},\"id\":\"82c4fa4f-5ce7-415e-ac1f-bd10f89ff11a\",\"type\":\"ColumnDataSource\"},{\"attributes\":{},\"id\":\"56c99a28-3abd-4261-809c-ab0f7dae9082\",\"type\":\"ToolEvents\"},{\"attributes\":{\"data_source\":{\"id\":\"ccf18381-a5f0-43fb-ab5e-18d1bd334120\",\"type\":\"ColumnDataSource\"},\"glyph\":{\"id\":\"55f04e9b-c316-4999-a37e-9b0f6fad41f5\",\"type\":\"Rect\"},\"hover_glyph\":null,\"nonselection_glyph\":null,\"selection_glyph\":null},\"id\":\"66c12054-a593-44f2-9933-b05365b59350\",\"type\":\"GlyphRenderer\"},{\"attributes\":{\"fill_alpha\":{\"field\":\"fill_alpha\"},\"fill_color\":{\"field\":\"color\"},\"height\":{\"field\":\"height\",\"units\":\"data\"},\"line_color\":{\"field\":\"line_color\"},\"width\":{\"field\":\"width\",\"units\":\"data\"},\"x\":{\"field\":\"x\"},\"y\":{\"field\":\"y\"}},\"id\":\"ca2f8984-8484-4e4d-98d5-789ddea1595c\",\"type\":\"Rect\"},{\"attributes\":{\"data_source\":{\"id\":\"c9ce5c29-4524-4e6f-b727-1a0f09652c7b\",\"type\":\"ColumnDataSource\"},\"glyph\":{\"id\":\"8add02db-d56d-4261-bd15-f96f0abc3469\",\"type\":\"Rect\"},\"hover_glyph\":null,\"nonselection_glyph\":null,\"selection_glyph\":null},\"id\":\"22534e2a-17b3-4bf6-ac2d-dec2fd19a2d5\",\"type\":\"GlyphRenderer\"},{\"attributes\":{\"data_source\":{\"id\":\"239a10e5-1a8f-4ec7-83e5-bf429a938fed\",\"type\":\"ColumnDataSource\"},\"glyph\":{\"id\":\"f387c528-a8de-4d61-80f7-70d3ff732842\",\"type\":\"Rect\"},\"hover_glyph\":null,\"nonselection_glyph\":null,\"selection_glyph\":null},\"id\":\"104c297e-7b9b-4f0a-8416-61bd0845d1ab\",\"type\":\"GlyphRenderer\"},{\"attributes\":{\"fill_alpha\":{\"field\":\"fill_alpha\"},\"fill_color\":{\"field\":\"color\"},\"height\":{\"field\":\"height\",\"units\":\"data\"},\"line_color\":{\"field\":\"line_color\"},\"width\":{\"field\":\"width\",\"units\":\"data\"},\"x\":{\"field\":\"x\"},\"y\":{\"field\":\"y\"}},\"id\":\"16cb43bc-7abd-43ef-96b1-ffba6db1ee2a\",\"type\":\"Rect\"}],\"root_ids\":[\"1c5d4308-83bf-41cb-8b14-1f2413ac445d\"]},\"title\":\"Bokeh Application\",\"version\":\"0.12.4\"}};\n",
       "            var render_items = [{\"docid\":\"566ef525-9f46-4c1d-bdc4-0e60796946a5\",\"elementid\":\"87338711-0820-4cc7-a089-f94ed7ee7bc3\",\"modelid\":\"1c5d4308-83bf-41cb-8b14-1f2413ac445d\"}];\n",
       "            \n",
       "            Bokeh.embed.embed_items(docs_json, render_items);\n",
       "          };\n",
       "          if (document.readyState != \"loading\") fn();\n",
       "          else document.addEventListener(\"DOMContentLoaded\", fn);\n",
       "        })();\n",
       "      },\n",
       "      function(Bokeh) {\n",
       "      }\n",
       "    ];\n",
       "  \n",
       "    function run_inline_js() {\n",
       "      \n",
       "      if ((window.Bokeh !== undefined) || (force === true)) {\n",
       "        for (var i = 0; i < inline_js.length; i++) {\n",
       "          inline_js[i](window.Bokeh);\n",
       "        }if (force === true) {\n",
       "          display_loaded();\n",
       "        }} else if (Date.now() < window._bokeh_timeout) {\n",
       "        setTimeout(run_inline_js, 100);\n",
       "      } else if (!window._bokeh_failed_load) {\n",
       "        console.log(\"Bokeh: BokehJS failed to load within specified timeout.\");\n",
       "        window._bokeh_failed_load = true;\n",
       "      } else if (force !== true) {\n",
       "        var cell = $(document.getElementById(\"87338711-0820-4cc7-a089-f94ed7ee7bc3\")).parents('.cell').data().cell;\n",
       "        cell.output_area.append_execute_result(NB_LOAD_WARNING)\n",
       "      }\n",
       "  \n",
       "    }\n",
       "  \n",
       "    if (window._bokeh_is_loading === 0) {\n",
       "      console.log(\"Bokeh: BokehJS loaded, going straight to plotting\");\n",
       "      run_inline_js();\n",
       "    } else {\n",
       "      load_libs(js_urls, function() {\n",
       "        console.log(\"Bokeh: BokehJS plotting callback run at\", now());\n",
       "        run_inline_js();\n",
       "      });\n",
       "    }\n",
       "  }(this));\n",
       "</script>"
      ]
     },
     "metadata": {},
     "output_type": "display_data"
    }
   ],
   "source": [
    "p = figure()\n",
    "p = Histogram(hom_ref, values='GTcons', title='Homozygous_Reference_HG002: Consensust GT', color='LightSlateGray', bins=15, plot_height=250, xlabel=\"GTcons\", ylabel=\"Frequency\")\n",
    "show(p)"
   ]
  },
  {
   "cell_type": "markdown",
   "metadata": {},
   "source": [
    "** Inaccurate Call **"
   ]
  },
  {
   "cell_type": "code",
   "execution_count": 62,
   "metadata": {},
   "outputs": [
    {
     "data": {
      "text/html": [
       "<div>\n",
       "<table border=\"1\" class=\"dataframe\">\n",
       "  <thead>\n",
       "    <tr style=\"text-align: right;\">\n",
       "      <th></th>\n",
       "      <th>Ill250.GT</th>\n",
       "      <th>Ill250.alt_alnScore_mean</th>\n",
       "      <th>Ill250.alt_alnScore_std</th>\n",
       "      <th>Ill250.alt_count</th>\n",
       "      <th>Ill250.alt_insertSize_mean</th>\n",
       "      <th>Ill250.alt_insertSize_std</th>\n",
       "      <th>Ill250.alt_reason_alignmentScore</th>\n",
       "      <th>Ill250.alt_reason_insertSizeScore</th>\n",
       "      <th>Ill250.alt_reason_orientation</th>\n",
       "      <th>Ill250.amb_alnScore_mean</th>\n",
       "      <th>...</th>\n",
       "      <th>refN_pct</th>\n",
       "      <th>segdup_cnt</th>\n",
       "      <th>segdup_pct</th>\n",
       "      <th>start</th>\n",
       "      <th>tandemrep_cnt</th>\n",
       "      <th>tandemrep_pct</th>\n",
       "      <th>predicted_label</th>\n",
       "      <th>GTcons</th>\n",
       "      <th>GTsupp</th>\n",
       "      <th>GTconswithoutIll250.GT</th>\n",
       "    </tr>\n",
       "  </thead>\n",
       "  <tbody>\n",
       "    <tr>\n",
       "      <th>7</th>\n",
       "      <td>-1.0</td>\n",
       "      <td>0.0</td>\n",
       "      <td>0.0</td>\n",
       "      <td>0.0</td>\n",
       "      <td>0.0</td>\n",
       "      <td>0.0</td>\n",
       "      <td>0.0</td>\n",
       "      <td>0.0</td>\n",
       "      <td>0.0</td>\n",
       "      <td>842.897674</td>\n",
       "      <td>...</td>\n",
       "      <td>0.0</td>\n",
       "      <td>1.0</td>\n",
       "      <td>0.423581</td>\n",
       "      <td>7608734</td>\n",
       "      <td>1.0</td>\n",
       "      <td>1.0</td>\n",
       "      <td>2.0</td>\n",
       "      <td>1</td>\n",
       "      <td>1</td>\n",
       "      <td>1</td>\n",
       "    </tr>\n",
       "  </tbody>\n",
       "</table>\n",
       "<p>1 rows × 45 columns</p>\n",
       "</div>"
      ],
      "text/plain": [
       "   Ill250.GT  Ill250.alt_alnScore_mean  Ill250.alt_alnScore_std  \\\n",
       "7       -1.0                       0.0                      0.0   \n",
       "\n",
       "   Ill250.alt_count  Ill250.alt_insertSize_mean  Ill250.alt_insertSize_std  \\\n",
       "7               0.0                         0.0                        0.0   \n",
       "\n",
       "   Ill250.alt_reason_alignmentScore  Ill250.alt_reason_insertSizeScore  \\\n",
       "7                               0.0                                0.0   \n",
       "\n",
       "   Ill250.alt_reason_orientation  Ill250.amb_alnScore_mean  \\\n",
       "7                            0.0                842.897674   \n",
       "\n",
       "            ...            refN_pct  segdup_cnt  segdup_pct    start  \\\n",
       "7           ...                 0.0         1.0    0.423581  7608734   \n",
       "\n",
       "   tandemrep_cnt  tandemrep_pct  predicted_label  GTcons  GTsupp  \\\n",
       "7            1.0            1.0              2.0       1       1   \n",
       "\n",
       "   GTconswithoutIll250.GT  \n",
       "7                       1  \n",
       "\n",
       "[1 rows x 45 columns]"
      ]
     },
     "execution_count": 62,
     "metadata": {},
     "output_type": "execute_result"
    }
   ],
   "source": [
    "ic = X5['predicted_label'] == 2.0\n",
    "inac_call = X5[ic]\n",
    "inac_call.head(1)"
   ]
  },
  {
   "cell_type": "code",
   "execution_count": 63,
   "metadata": {
    "scrolled": true
   },
   "outputs": [
    {
     "data": {
      "text/html": [
       "\n",
       "\n",
       "    <div class=\"bk-root\">\n",
       "        <div class=\"bk-plotdiv\" id=\"852d4ddf-c448-444c-bb07-389ffa5a1294\"></div>\n",
       "    </div>\n",
       "<script type=\"text/javascript\">\n",
       "  \n",
       "  (function(global) {\n",
       "    function now() {\n",
       "      return new Date();\n",
       "    }\n",
       "  \n",
       "    var force = false;\n",
       "  \n",
       "    if (typeof (window._bokeh_onload_callbacks) === \"undefined\" || force === true) {\n",
       "      window._bokeh_onload_callbacks = [];\n",
       "      window._bokeh_is_loading = undefined;\n",
       "    }\n",
       "  \n",
       "  \n",
       "    \n",
       "    if (typeof (window._bokeh_timeout) === \"undefined\" || force === true) {\n",
       "      window._bokeh_timeout = Date.now() + 0;\n",
       "      window._bokeh_failed_load = false;\n",
       "    }\n",
       "  \n",
       "    var NB_LOAD_WARNING = {'data': {'text/html':\n",
       "       \"<div style='background-color: #fdd'>\\n\"+\n",
       "       \"<p>\\n\"+\n",
       "       \"BokehJS does not appear to have successfully loaded. If loading BokehJS from CDN, this \\n\"+\n",
       "       \"may be due to a slow or bad network connection. Possible fixes:\\n\"+\n",
       "       \"</p>\\n\"+\n",
       "       \"<ul>\\n\"+\n",
       "       \"<li>re-rerun `output_notebook()` to attempt to load from CDN again, or</li>\\n\"+\n",
       "       \"<li>use INLINE resources instead, as so:</li>\\n\"+\n",
       "       \"</ul>\\n\"+\n",
       "       \"<code>\\n\"+\n",
       "       \"from bokeh.resources import INLINE\\n\"+\n",
       "       \"output_notebook(resources=INLINE)\\n\"+\n",
       "       \"</code>\\n\"+\n",
       "       \"</div>\"}};\n",
       "  \n",
       "    function display_loaded() {\n",
       "      if (window.Bokeh !== undefined) {\n",
       "        document.getElementById(\"852d4ddf-c448-444c-bb07-389ffa5a1294\").textContent = \"BokehJS successfully loaded.\";\n",
       "      } else if (Date.now() < window._bokeh_timeout) {\n",
       "        setTimeout(display_loaded, 100)\n",
       "      }\n",
       "    }\n",
       "  \n",
       "    function run_callbacks() {\n",
       "      window._bokeh_onload_callbacks.forEach(function(callback) { callback() });\n",
       "      delete window._bokeh_onload_callbacks\n",
       "      console.info(\"Bokeh: all callbacks have finished\");\n",
       "    }\n",
       "  \n",
       "    function load_libs(js_urls, callback) {\n",
       "      window._bokeh_onload_callbacks.push(callback);\n",
       "      if (window._bokeh_is_loading > 0) {\n",
       "        console.log(\"Bokeh: BokehJS is being loaded, scheduling callback at\", now());\n",
       "        return null;\n",
       "      }\n",
       "      if (js_urls == null || js_urls.length === 0) {\n",
       "        run_callbacks();\n",
       "        return null;\n",
       "      }\n",
       "      console.log(\"Bokeh: BokehJS not loaded, scheduling load and callback at\", now());\n",
       "      window._bokeh_is_loading = js_urls.length;\n",
       "      for (var i = 0; i < js_urls.length; i++) {\n",
       "        var url = js_urls[i];\n",
       "        var s = document.createElement('script');\n",
       "        s.src = url;\n",
       "        s.async = false;\n",
       "        s.onreadystatechange = s.onload = function() {\n",
       "          window._bokeh_is_loading--;\n",
       "          if (window._bokeh_is_loading === 0) {\n",
       "            console.log(\"Bokeh: all BokehJS libraries loaded\");\n",
       "            run_callbacks()\n",
       "          }\n",
       "        };\n",
       "        s.onerror = function() {\n",
       "          console.warn(\"failed to load library \" + url);\n",
       "        };\n",
       "        console.log(\"Bokeh: injecting script tag for BokehJS library: \", url);\n",
       "        document.getElementsByTagName(\"head\")[0].appendChild(s);\n",
       "      }\n",
       "    };var element = document.getElementById(\"852d4ddf-c448-444c-bb07-389ffa5a1294\");\n",
       "    if (element == null) {\n",
       "      console.log(\"Bokeh: ERROR: autoload.js configured with elementid '852d4ddf-c448-444c-bb07-389ffa5a1294' but no matching script tag was found. \")\n",
       "      return false;\n",
       "    }\n",
       "  \n",
       "    var js_urls = [];\n",
       "  \n",
       "    var inline_js = [\n",
       "      function(Bokeh) {\n",
       "        (function() {\n",
       "          var fn = function() {\n",
       "            var docs_json = {\"691b83b8-490d-4288-89cc-8e090bb0ac0f\":{\"roots\":{\"references\":[{\"attributes\":{\"overlay\":{\"id\":\"4c4f2f3b-8595-47de-b364-97841b571361\",\"type\":\"BoxAnnotation\"},\"plot\":{\"id\":\"e1c4ba44-299b-4aff-be97-d16a324271d2\",\"subtype\":\"Chart\",\"type\":\"Plot\"}},\"id\":\"ffe21e51-6a4e-4347-9cd3-4dfcbc896cc6\",\"type\":\"BoxZoomTool\"},{\"attributes\":{\"fill_alpha\":{\"field\":\"fill_alpha\"},\"fill_color\":{\"field\":\"color\"},\"height\":{\"field\":\"height\",\"units\":\"data\"},\"line_color\":{\"field\":\"line_color\"},\"width\":{\"field\":\"width\",\"units\":\"data\"},\"x\":{\"field\":\"x\"},\"y\":{\"field\":\"y\"}},\"id\":\"44f731da-d001-4804-a125-ce8618ac12ab\",\"type\":\"Rect\"},{\"attributes\":{\"fill_alpha\":{\"field\":\"fill_alpha\"},\"fill_color\":{\"field\":\"color\"},\"height\":{\"field\":\"height\",\"units\":\"data\"},\"line_color\":{\"field\":\"line_color\"},\"width\":{\"field\":\"width\",\"units\":\"data\"},\"x\":{\"field\":\"x\"},\"y\":{\"field\":\"y\"}},\"id\":\"e5325bec-e478-481e-b21a-570d1f154748\",\"type\":\"Rect\"},{\"attributes\":{\"callback\":null,\"column_names\":[\"fill_alpha\",\"line_color\",\"label\",\"height\",\"y\",\"width\",\"color\",\"x\",\"line_alpha\"],\"data\":{\"chart_index\":[\"[0.000000, 0.133333]\"],\"color\":[\"LightSlateGray\"],\"fill_alpha\":[0.8],\"height\":[240.0],\"label\":[\"[0.000000, 0.133333]\"],\"line_alpha\":[1.0],\"line_color\":[\"black\"],\"width\":[0.13333333333333333],\"x\":[\"0.0666665\"],\"y\":[120.0]}},\"id\":\"08b74cff-5017-4577-b801-f121968cb49b\",\"type\":\"ColumnDataSource\"},{\"attributes\":{\"data_source\":{\"id\":\"5264224c-ca77-4dce-be8f-ca50d0985e69\",\"type\":\"ColumnDataSource\"},\"glyph\":{\"id\":\"19fc2c29-0e0f-4f5f-9bfb-ba44bd4b195a\",\"type\":\"Rect\"},\"hover_glyph\":null,\"nonselection_glyph\":null,\"selection_glyph\":null},\"id\":\"68229764-9331-4678-8e09-7946a64bc8d1\",\"type\":\"GlyphRenderer\"},{\"attributes\":{\"callback\":null,\"column_names\":[\"fill_alpha\",\"line_color\",\"label\",\"height\",\"y\",\"width\",\"color\",\"x\",\"line_alpha\"],\"data\":{\"chart_index\":[\"(0.400000, 0.533333]\"],\"color\":[\"LightSlateGray\"],\"fill_alpha\":[0.8],\"height\":[0.0],\"label\":[\"(0.400000, 0.533333]\"],\"line_alpha\":[1.0],\"line_color\":[\"black\"],\"width\":[0.1333333333333333],\"x\":[\"0.4666665\"],\"y\":[0.0]}},\"id\":\"bfd568b8-f9f1-41ff-941d-1f1e1d05433b\",\"type\":\"ColumnDataSource\"},{\"attributes\":{},\"id\":\"89b79bb9-0960-402c-b4d9-fbe171accea3\",\"type\":\"BasicTicker\"},{\"attributes\":{\"fill_alpha\":{\"field\":\"fill_alpha\"},\"fill_color\":{\"field\":\"color\"},\"height\":{\"field\":\"height\",\"units\":\"data\"},\"line_color\":{\"field\":\"line_color\"},\"width\":{\"field\":\"width\",\"units\":\"data\"},\"x\":{\"field\":\"x\"},\"y\":{\"field\":\"y\"}},\"id\":\"17fba531-4fe9-4c52-9551-d9c82cba75ac\",\"type\":\"Rect\"},{\"attributes\":{\"fill_alpha\":{\"field\":\"fill_alpha\"},\"fill_color\":{\"field\":\"color\"},\"height\":{\"field\":\"height\",\"units\":\"data\"},\"line_color\":{\"field\":\"line_color\"},\"width\":{\"field\":\"width\",\"units\":\"data\"},\"x\":{\"field\":\"x\"},\"y\":{\"field\":\"y\"}},\"id\":\"3ee46426-dca3-4964-8cbc-603291991ad7\",\"type\":\"Rect\"},{\"attributes\":{\"data_source\":{\"id\":\"abe9777e-ffb0-4bb6-8171-2d2a913ce45c\",\"type\":\"ColumnDataSource\"},\"glyph\":{\"id\":\"c8df1f71-6e42-4e57-b9c7-2d9c2ed2802e\",\"type\":\"Rect\"},\"hover_glyph\":null,\"nonselection_glyph\":null,\"selection_glyph\":null},\"id\":\"0b159624-da1e-4fe6-a8c5-65a91423650d\",\"type\":\"GlyphRenderer\"},{\"attributes\":{\"fill_alpha\":{\"field\":\"fill_alpha\"},\"fill_color\":{\"field\":\"color\"},\"height\":{\"field\":\"height\",\"units\":\"data\"},\"line_color\":{\"field\":\"line_color\"},\"width\":{\"field\":\"width\",\"units\":\"data\"},\"x\":{\"field\":\"x\"},\"y\":{\"field\":\"y\"}},\"id\":\"a2b36073-f802-4d82-b41b-c5daae8873ed\",\"type\":\"Rect\"},{\"attributes\":{\"data_source\":{\"id\":\"c684f476-0cbb-45cf-b2bd-9f9d0228cb44\",\"type\":\"ColumnDataSource\"},\"glyph\":{\"id\":\"44f731da-d001-4804-a125-ce8618ac12ab\",\"type\":\"Rect\"},\"hover_glyph\":null,\"nonselection_glyph\":null,\"selection_glyph\":null},\"id\":\"38df91ec-49ef-4cc5-a058-0d2954db9527\",\"type\":\"GlyphRenderer\"},{\"attributes\":{\"plot\":null,\"text\":\"Inaccurate_Call_HG002: Consensust GT\"},\"id\":\"aa2dfaa5-9a0e-41ef-b900-6376abd040bc\",\"type\":\"Title\"},{\"attributes\":{\"data_source\":{\"id\":\"efe65167-f42a-46d4-978b-c456aff3f862\",\"type\":\"ColumnDataSource\"},\"glyph\":{\"id\":\"3dee973b-3d06-44c2-955f-642b5b4f670d\",\"type\":\"Rect\"},\"hover_glyph\":null,\"nonselection_glyph\":null,\"selection_glyph\":null},\"id\":\"7b9d92ef-c7a4-4368-880c-fdac2970abe6\",\"type\":\"GlyphRenderer\"},{\"attributes\":{\"dimension\":1,\"plot\":{\"id\":\"e1c4ba44-299b-4aff-be97-d16a324271d2\",\"subtype\":\"Chart\",\"type\":\"Plot\"},\"ticker\":{\"id\":\"7c773e27-8ea5-458a-8174-0ffe907f2623\",\"type\":\"BasicTicker\"}},\"id\":\"051fd71c-eee7-4602-9ea2-483ed306725c\",\"type\":\"Grid\"},{\"attributes\":{},\"id\":\"7c773e27-8ea5-458a-8174-0ffe907f2623\",\"type\":\"BasicTicker\"},{\"attributes\":{\"data_source\":{\"id\":\"50d9ef2e-6f0c-4545-80c0-45c2a261f9a4\",\"type\":\"ColumnDataSource\"},\"glyph\":{\"id\":\"e5325bec-e478-481e-b21a-570d1f154748\",\"type\":\"Rect\"},\"hover_glyph\":null,\"nonselection_glyph\":null,\"selection_glyph\":null},\"id\":\"642ec523-5971-4e26-bc15-dc82012627ae\",\"type\":\"GlyphRenderer\"},{\"attributes\":{\"fill_alpha\":{\"field\":\"fill_alpha\"},\"fill_color\":{\"field\":\"color\"},\"height\":{\"field\":\"height\",\"units\":\"data\"},\"line_color\":{\"field\":\"line_color\"},\"width\":{\"field\":\"width\",\"units\":\"data\"},\"x\":{\"field\":\"x\"},\"y\":{\"field\":\"y\"}},\"id\":\"c8df1f71-6e42-4e57-b9c7-2d9c2ed2802e\",\"type\":\"Rect\"},{\"attributes\":{\"plot\":{\"id\":\"e1c4ba44-299b-4aff-be97-d16a324271d2\",\"subtype\":\"Chart\",\"type\":\"Plot\"}},\"id\":\"0fdf78c7-aed6-458c-b52a-70748983e08c\",\"type\":\"HelpTool\"},{\"attributes\":{\"fill_alpha\":{\"field\":\"fill_alpha\"},\"fill_color\":{\"field\":\"color\"},\"height\":{\"field\":\"height\",\"units\":\"data\"},\"line_color\":{\"field\":\"line_color\"},\"width\":{\"field\":\"width\",\"units\":\"data\"},\"x\":{\"field\":\"x\"},\"y\":{\"field\":\"y\"}},\"id\":\"e6e60eab-8ceb-4729-886f-251d6c1c029b\",\"type\":\"Rect\"},{\"attributes\":{\"data_source\":{\"id\":\"08b74cff-5017-4577-b801-f121968cb49b\",\"type\":\"ColumnDataSource\"},\"glyph\":{\"id\":\"e6e60eab-8ceb-4729-886f-251d6c1c029b\",\"type\":\"Rect\"},\"hover_glyph\":null,\"nonselection_glyph\":null,\"selection_glyph\":null},\"id\":\"1610bfed-6769-4b61-85f9-aef3c41a7802\",\"type\":\"GlyphRenderer\"},{\"attributes\":{\"data_source\":{\"id\":\"40601fdc-c256-414d-b9d5-d3f075144ba6\",\"type\":\"ColumnDataSource\"},\"glyph\":{\"id\":\"3cd1a4b8-dfea-4b46-aa14-b024ea019edc\",\"type\":\"Rect\"},\"hover_glyph\":null,\"nonselection_glyph\":null,\"selection_glyph\":null},\"id\":\"f92cd767-0647-4fad-a2bd-eedbefcb1348\",\"type\":\"GlyphRenderer\"},{\"attributes\":{\"fill_alpha\":{\"field\":\"fill_alpha\"},\"fill_color\":{\"field\":\"color\"},\"height\":{\"field\":\"height\",\"units\":\"data\"},\"line_color\":{\"field\":\"line_color\"},\"width\":{\"field\":\"width\",\"units\":\"data\"},\"x\":{\"field\":\"x\"},\"y\":{\"field\":\"y\"}},\"id\":\"19fc2c29-0e0f-4f5f-9bfb-ba44bd4b195a\",\"type\":\"Rect\"},{\"attributes\":{\"fill_alpha\":{\"field\":\"fill_alpha\"},\"fill_color\":{\"field\":\"color\"},\"height\":{\"field\":\"height\",\"units\":\"data\"},\"line_color\":{\"field\":\"line_color\"},\"width\":{\"field\":\"width\",\"units\":\"data\"},\"x\":{\"field\":\"x\"},\"y\":{\"field\":\"y\"}},\"id\":\"f068cef9-bc83-4565-9470-7b7d57870476\",\"type\":\"Rect\"},{\"attributes\":{\"data_source\":{\"id\":\"1aef201e-a13d-4293-a74b-b31ba934748a\",\"type\":\"ColumnDataSource\"},\"glyph\":{\"id\":\"1edc7899-dd47-4597-a2f8-d1bb51e289b8\",\"type\":\"Rect\"},\"hover_glyph\":null,\"nonselection_glyph\":null,\"selection_glyph\":null},\"id\":\"e629f62b-141a-4f1d-9ecd-c86fcbcebb26\",\"type\":\"GlyphRenderer\"},{\"attributes\":{\"plot\":{\"id\":\"e1c4ba44-299b-4aff-be97-d16a324271d2\",\"subtype\":\"Chart\",\"type\":\"Plot\"}},\"id\":\"7e2a267d-f0e3-4912-8cf5-8f081b10f8cd\",\"type\":\"WheelZoomTool\"},{\"attributes\":{},\"id\":\"40e1c26a-b4b3-4e55-aa49-c83521338eba\",\"type\":\"BasicTickFormatter\"},{\"attributes\":{\"callback\":null,\"end\":264.0},\"id\":\"89a56b92-aef8-4f86-8294-c2e98df72e4e\",\"type\":\"Range1d\"},{\"attributes\":{\"fill_alpha\":{\"field\":\"fill_alpha\"},\"fill_color\":{\"field\":\"color\"},\"height\":{\"field\":\"height\",\"units\":\"data\"},\"line_color\":{\"field\":\"line_color\"},\"width\":{\"field\":\"width\",\"units\":\"data\"},\"x\":{\"field\":\"x\"},\"y\":{\"field\":\"y\"}},\"id\":\"3cd1a4b8-dfea-4b46-aa14-b024ea019edc\",\"type\":\"Rect\"},{\"attributes\":{\"callback\":null,\"column_names\":[\"fill_alpha\",\"line_color\",\"label\",\"height\",\"y\",\"width\",\"color\",\"x\",\"line_alpha\"],\"data\":{\"chart_index\":[\"(1.733333, 1.866667]\"],\"color\":[\"LightSlateGray\"],\"fill_alpha\":[0.8],\"height\":[0.0],\"label\":[\"(1.733333, 1.866667]\"],\"line_alpha\":[1.0],\"line_color\":[\"black\"],\"width\":[0.1333333333333333],\"x\":[\"1.8\"],\"y\":[0.0]}},\"id\":\"c684f476-0cbb-45cf-b2bd-9f9d0228cb44\",\"type\":\"ColumnDataSource\"},{\"attributes\":{\"callback\":null,\"column_names\":[\"fill_alpha\",\"line_color\",\"label\",\"height\",\"y\",\"width\",\"color\",\"x\",\"line_alpha\"],\"data\":{\"chart_index\":[\"(0.133333, 0.266667]\"],\"color\":[\"LightSlateGray\"],\"fill_alpha\":[0.8],\"height\":[0.0],\"label\":[\"(0.133333, 0.266667]\"],\"line_alpha\":[1.0],\"line_color\":[\"black\"],\"width\":[0.13333333333333333],\"x\":[\"0.2\"],\"y\":[0.0]}},\"id\":\"b421f17f-ccf3-4ebf-8e08-4a7d3f6e2526\",\"type\":\"ColumnDataSource\"},{\"attributes\":{\"callback\":null,\"column_names\":[\"fill_alpha\",\"line_color\",\"label\",\"height\",\"y\",\"width\",\"color\",\"x\",\"line_alpha\"],\"data\":{\"chart_index\":[\"(1.600000, 1.733333]\"],\"color\":[\"LightSlateGray\"],\"fill_alpha\":[0.8],\"height\":[0.0],\"label\":[\"(1.600000, 1.733333]\"],\"line_alpha\":[1.0],\"line_color\":[\"black\"],\"width\":[0.1333333333333333],\"x\":[\"1.6666665\"],\"y\":[0.0]}},\"id\":\"abe9777e-ffb0-4bb6-8171-2d2a913ce45c\",\"type\":\"ColumnDataSource\"},{\"attributes\":{\"callback\":null,\"column_names\":[\"fill_alpha\",\"line_color\",\"label\",\"height\",\"y\",\"width\",\"color\",\"x\",\"line_alpha\"],\"data\":{\"chart_index\":[\"(0.800000, 0.933333]\"],\"color\":[\"LightSlateGray\"],\"fill_alpha\":[0.8],\"height\":[0.0],\"label\":[\"(0.800000, 0.933333]\"],\"line_alpha\":[1.0],\"line_color\":[\"black\"],\"width\":[0.1333333333333333],\"x\":[\"0.8666665\"],\"y\":[0.0]}},\"id\":\"5264224c-ca77-4dce-be8f-ca50d0985e69\",\"type\":\"ColumnDataSource\"},{\"attributes\":{\"callback\":null,\"column_names\":[\"fill_alpha\",\"line_color\",\"label\",\"height\",\"y\",\"width\",\"color\",\"x\",\"line_alpha\"],\"data\":{\"chart_index\":[\"(1.066667, 1.200000]\"],\"color\":[\"LightSlateGray\"],\"fill_alpha\":[0.8],\"height\":[0.0],\"label\":[\"(1.066667, 1.200000]\"],\"line_alpha\":[1.0],\"line_color\":[\"black\"],\"width\":[0.1333333333333333],\"x\":[\"1.1333335\"],\"y\":[0.0]}},\"id\":\"efe65167-f42a-46d4-978b-c456aff3f862\",\"type\":\"ColumnDataSource\"},{\"attributes\":{},\"id\":\"34087011-1149-4240-8d2f-4e4482b114f4\",\"type\":\"ToolEvents\"},{\"attributes\":{\"plot\":{\"id\":\"e1c4ba44-299b-4aff-be97-d16a324271d2\",\"subtype\":\"Chart\",\"type\":\"Plot\"}},\"id\":\"3d430953-efb9-4db0-b06e-312ce201727f\",\"type\":\"ResetTool\"},{\"attributes\":{\"location\":\"top_left\",\"plot\":{\"id\":\"e1c4ba44-299b-4aff-be97-d16a324271d2\",\"subtype\":\"Chart\",\"type\":\"Plot\"}},\"id\":\"1f8b5212-e8ac-4ca7-90e9-4c7366d167b3\",\"type\":\"Legend\"},{\"attributes\":{\"callback\":null,\"column_names\":[\"fill_alpha\",\"line_color\",\"label\",\"height\",\"y\",\"width\",\"color\",\"x\",\"line_alpha\"],\"data\":{\"chart_index\":[\"(1.866667, 2.000000]\"],\"color\":[\"LightSlateGray\"],\"fill_alpha\":[0.8],\"height\":[40.0],\"label\":[\"(1.866667, 2.000000]\"],\"line_alpha\":[1.0],\"line_color\":[\"black\"],\"width\":[0.1333333333333333],\"x\":[\"1.9333335\"],\"y\":[20.0]}},\"id\":\"4230f12f-f096-4182-b4f7-de9ed2840961\",\"type\":\"ColumnDataSource\"},{\"attributes\":{\"axis_label\":\"Frequency\",\"formatter\":{\"id\":\"7bf615ae-edd3-41ff-8ebe-09ccab3d051e\",\"type\":\"BasicTickFormatter\"},\"plot\":{\"id\":\"e1c4ba44-299b-4aff-be97-d16a324271d2\",\"subtype\":\"Chart\",\"type\":\"Plot\"},\"ticker\":{\"id\":\"7c773e27-8ea5-458a-8174-0ffe907f2623\",\"type\":\"BasicTicker\"}},\"id\":\"ff068a5c-57af-4e59-9a6c-1c2d72b67890\",\"type\":\"LinearAxis\"},{\"attributes\":{\"callback\":null,\"column_names\":[\"fill_alpha\",\"line_color\",\"label\",\"height\",\"y\",\"width\",\"color\",\"x\",\"line_alpha\"],\"data\":{\"chart_index\":[\"(0.266667, 0.400000]\"],\"color\":[\"LightSlateGray\"],\"fill_alpha\":[0.8],\"height\":[0.0],\"label\":[\"(0.266667, 0.400000]\"],\"line_alpha\":[1.0],\"line_color\":[\"black\"],\"width\":[0.13333333333333336],\"x\":[\"0.3333335\"],\"y\":[0.0]}},\"id\":\"ef7dae4a-01f5-48d6-b2a1-f89b1ae12d91\",\"type\":\"ColumnDataSource\"},{\"attributes\":{\"callback\":null,\"column_names\":[\"fill_alpha\",\"line_color\",\"label\",\"height\",\"y\",\"width\",\"color\",\"x\",\"line_alpha\"],\"data\":{\"chart_index\":[\"(1.333333, 1.466667]\"],\"color\":[\"LightSlateGray\"],\"fill_alpha\":[0.8],\"height\":[0.0],\"label\":[\"(1.333333, 1.466667]\"],\"line_alpha\":[1.0],\"line_color\":[\"black\"],\"width\":[0.1333333333333333],\"x\":[\"1.4\"],\"y\":[0.0]}},\"id\":\"8a10d97c-ebf5-4a1e-9aeb-738cd474695f\",\"type\":\"ColumnDataSource\"},{\"attributes\":{\"callback\":null,\"column_names\":[\"fill_alpha\",\"line_color\",\"label\",\"height\",\"y\",\"width\",\"color\",\"x\",\"line_alpha\"],\"data\":{\"chart_index\":[\"(1.200000, 1.333333]\"],\"color\":[\"LightSlateGray\"],\"fill_alpha\":[0.8],\"height\":[0.0],\"label\":[\"(1.200000, 1.333333]\"],\"line_alpha\":[1.0],\"line_color\":[\"black\"],\"width\":[0.1333333333333333],\"x\":[\"1.2666665\"],\"y\":[0.0]}},\"id\":\"40601fdc-c256-414d-b9d5-d3f075144ba6\",\"type\":\"ColumnDataSource\"},{\"attributes\":{\"data_source\":{\"id\":\"4230f12f-f096-4182-b4f7-de9ed2840961\",\"type\":\"ColumnDataSource\"},\"glyph\":{\"id\":\"a2b36073-f802-4d82-b41b-c5daae8873ed\",\"type\":\"Rect\"},\"hover_glyph\":null,\"nonselection_glyph\":null,\"selection_glyph\":null},\"id\":\"a564bf71-805a-4dfa-8ae1-17f560f8c2e2\",\"type\":\"GlyphRenderer\"},{\"attributes\":{\"active_drag\":\"auto\",\"active_scroll\":\"auto\",\"active_tap\":\"auto\",\"tools\":[{\"id\":\"309f9466-7557-4baf-91ca-b02498d1d69c\",\"type\":\"PanTool\"},{\"id\":\"7e2a267d-f0e3-4912-8cf5-8f081b10f8cd\",\"type\":\"WheelZoomTool\"},{\"id\":\"ffe21e51-6a4e-4347-9cd3-4dfcbc896cc6\",\"type\":\"BoxZoomTool\"},{\"id\":\"afdbca7c-c59e-4469-ab45-26d7dee8c1d8\",\"type\":\"SaveTool\"},{\"id\":\"3d430953-efb9-4db0-b06e-312ce201727f\",\"type\":\"ResetTool\"},{\"id\":\"0fdf78c7-aed6-458c-b52a-70748983e08c\",\"type\":\"HelpTool\"}]},\"id\":\"8097a5f3-8303-4a81-99a2-8ea29452406b\",\"type\":\"Toolbar\"},{\"attributes\":{\"bottom_units\":\"screen\",\"fill_alpha\":{\"value\":0.5},\"fill_color\":{\"value\":\"lightgrey\"},\"left_units\":\"screen\",\"level\":\"overlay\",\"line_alpha\":{\"value\":1.0},\"line_color\":{\"value\":\"black\"},\"line_dash\":[4,4],\"line_width\":{\"value\":2},\"plot\":null,\"render_mode\":\"css\",\"right_units\":\"screen\",\"top_units\":\"screen\"},\"id\":\"4c4f2f3b-8595-47de-b364-97841b571361\",\"type\":\"BoxAnnotation\"},{\"attributes\":{\"data_source\":{\"id\":\"4243182b-7d5b-497d-a7f9-0de9d27be163\",\"type\":\"ColumnDataSource\"},\"glyph\":{\"id\":\"17fba531-4fe9-4c52-9551-d9c82cba75ac\",\"type\":\"Rect\"},\"hover_glyph\":null,\"nonselection_glyph\":null,\"selection_glyph\":null},\"id\":\"54f3c893-ac58-4ad5-a687-e692c4c09303\",\"type\":\"GlyphRenderer\"},{\"attributes\":{\"callback\":null,\"end\":2.0500001666666665,\"start\":-0.050000166666666665},\"id\":\"16fada75-c9af-4e50-ac01-13b1a2fa3ae2\",\"type\":\"Range1d\"},{\"attributes\":{\"data_source\":{\"id\":\"34b7a069-a0a4-46cf-b7d7-760ae3d891d0\",\"type\":\"ColumnDataSource\"},\"glyph\":{\"id\":\"25b3fa33-ac17-4276-a480-2a1478568514\",\"type\":\"Rect\"},\"hover_glyph\":null,\"nonselection_glyph\":null,\"selection_glyph\":null},\"id\":\"992a233c-efac-44e6-a3ed-e0dd93402aff\",\"type\":\"GlyphRenderer\"},{\"attributes\":{\"fill_alpha\":{\"field\":\"fill_alpha\"},\"fill_color\":{\"field\":\"color\"},\"height\":{\"field\":\"height\",\"units\":\"data\"},\"line_color\":{\"field\":\"line_color\"},\"width\":{\"field\":\"width\",\"units\":\"data\"},\"x\":{\"field\":\"x\"},\"y\":{\"field\":\"y\"}},\"id\":\"25b3fa33-ac17-4276-a480-2a1478568514\",\"type\":\"Rect\"},{\"attributes\":{\"callback\":null,\"column_names\":[\"fill_alpha\",\"line_color\",\"label\",\"height\",\"y\",\"width\",\"color\",\"x\",\"line_alpha\"],\"data\":{\"chart_index\":[\"(0.533333, 0.666667]\"],\"color\":[\"LightSlateGray\"],\"fill_alpha\":[0.8],\"height\":[0.0],\"label\":[\"(0.533333, 0.666667]\"],\"line_alpha\":[1.0],\"line_color\":[\"black\"],\"width\":[0.1333333333333333],\"x\":[\"0.6\"],\"y\":[0.0]}},\"id\":\"50d9ef2e-6f0c-4545-80c0-45c2a261f9a4\",\"type\":\"ColumnDataSource\"},{\"attributes\":{\"axis_label\":\"GTcons\",\"formatter\":{\"id\":\"40e1c26a-b4b3-4e55-aa49-c83521338eba\",\"type\":\"BasicTickFormatter\"},\"plot\":{\"id\":\"e1c4ba44-299b-4aff-be97-d16a324271d2\",\"subtype\":\"Chart\",\"type\":\"Plot\"},\"ticker\":{\"id\":\"89b79bb9-0960-402c-b4d9-fbe171accea3\",\"type\":\"BasicTicker\"}},\"id\":\"f73139ae-ef05-401d-86ca-7f41ed05bc2f\",\"type\":\"LinearAxis\"},{\"attributes\":{\"plot\":{\"id\":\"e1c4ba44-299b-4aff-be97-d16a324271d2\",\"subtype\":\"Chart\",\"type\":\"Plot\"}},\"id\":\"afdbca7c-c59e-4469-ab45-26d7dee8c1d8\",\"type\":\"SaveTool\"},{\"attributes\":{\"plot\":{\"id\":\"e1c4ba44-299b-4aff-be97-d16a324271d2\",\"subtype\":\"Chart\",\"type\":\"Plot\"}},\"id\":\"309f9466-7557-4baf-91ca-b02498d1d69c\",\"type\":\"PanTool\"},{\"attributes\":{\"data_source\":{\"id\":\"ef7dae4a-01f5-48d6-b2a1-f89b1ae12d91\",\"type\":\"ColumnDataSource\"},\"glyph\":{\"id\":\"d3316835-bcea-4be5-b9d9-2949b67370f1\",\"type\":\"Rect\"},\"hover_glyph\":null,\"nonselection_glyph\":null,\"selection_glyph\":null},\"id\":\"4aa2ca95-0f09-4486-8dcf-96e77b5c2a6d\",\"type\":\"GlyphRenderer\"},{\"attributes\":{\"fill_alpha\":{\"field\":\"fill_alpha\"},\"fill_color\":{\"field\":\"color\"},\"height\":{\"field\":\"height\",\"units\":\"data\"},\"line_color\":{\"field\":\"line_color\"},\"width\":{\"field\":\"width\",\"units\":\"data\"},\"x\":{\"field\":\"x\"},\"y\":{\"field\":\"y\"}},\"id\":\"92856dd3-5517-4a28-be12-80471d11337d\",\"type\":\"Rect\"},{\"attributes\":{\"callback\":null,\"column_names\":[\"fill_alpha\",\"line_color\",\"label\",\"height\",\"y\",\"width\",\"color\",\"x\",\"line_alpha\"],\"data\":{\"chart_index\":[\"(1.466667, 1.600000]\"],\"color\":[\"LightSlateGray\"],\"fill_alpha\":[0.8],\"height\":[0.0],\"label\":[\"(1.466667, 1.600000]\"],\"line_alpha\":[1.0],\"line_color\":[\"black\"],\"width\":[0.13333333333333353],\"x\":[\"1.5333335\"],\"y\":[0.0]}},\"id\":\"4243182b-7d5b-497d-a7f9-0de9d27be163\",\"type\":\"ColumnDataSource\"},{\"attributes\":{\"below\":[{\"id\":\"f73139ae-ef05-401d-86ca-7f41ed05bc2f\",\"type\":\"LinearAxis\"}],\"css_classes\":null,\"left\":[{\"id\":\"ff068a5c-57af-4e59-9a6c-1c2d72b67890\",\"type\":\"LinearAxis\"}],\"plot_height\":250,\"renderers\":[{\"id\":\"4c4f2f3b-8595-47de-b364-97841b571361\",\"type\":\"BoxAnnotation\"},{\"id\":\"1610bfed-6769-4b61-85f9-aef3c41a7802\",\"type\":\"GlyphRenderer\"},{\"id\":\"611eaf4e-3b1c-4177-ae16-c4f982358ccd\",\"type\":\"GlyphRenderer\"},{\"id\":\"4aa2ca95-0f09-4486-8dcf-96e77b5c2a6d\",\"type\":\"GlyphRenderer\"},{\"id\":\"92e2b8e1-1ee3-417f-bd9e-7f5bffc09a93\",\"type\":\"GlyphRenderer\"},{\"id\":\"642ec523-5971-4e26-bc15-dc82012627ae\",\"type\":\"GlyphRenderer\"},{\"id\":\"e629f62b-141a-4f1d-9ecd-c86fcbcebb26\",\"type\":\"GlyphRenderer\"},{\"id\":\"68229764-9331-4678-8e09-7946a64bc8d1\",\"type\":\"GlyphRenderer\"},{\"id\":\"992a233c-efac-44e6-a3ed-e0dd93402aff\",\"type\":\"GlyphRenderer\"},{\"id\":\"7b9d92ef-c7a4-4368-880c-fdac2970abe6\",\"type\":\"GlyphRenderer\"},{\"id\":\"f92cd767-0647-4fad-a2bd-eedbefcb1348\",\"type\":\"GlyphRenderer\"},{\"id\":\"0eb48dff-4aa3-4be4-bd52-e2c566a57663\",\"type\":\"GlyphRenderer\"},{\"id\":\"54f3c893-ac58-4ad5-a687-e692c4c09303\",\"type\":\"GlyphRenderer\"},{\"id\":\"0b159624-da1e-4fe6-a8c5-65a91423650d\",\"type\":\"GlyphRenderer\"},{\"id\":\"38df91ec-49ef-4cc5-a058-0d2954db9527\",\"type\":\"GlyphRenderer\"},{\"id\":\"a564bf71-805a-4dfa-8ae1-17f560f8c2e2\",\"type\":\"GlyphRenderer\"},{\"id\":\"1f8b5212-e8ac-4ca7-90e9-4c7366d167b3\",\"type\":\"Legend\"},{\"id\":\"f73139ae-ef05-401d-86ca-7f41ed05bc2f\",\"type\":\"LinearAxis\"},{\"id\":\"ff068a5c-57af-4e59-9a6c-1c2d72b67890\",\"type\":\"LinearAxis\"},{\"id\":\"051fd71c-eee7-4602-9ea2-483ed306725c\",\"type\":\"Grid\"}],\"title\":{\"id\":\"aa2dfaa5-9a0e-41ef-b900-6376abd040bc\",\"type\":\"Title\"},\"tool_events\":{\"id\":\"34087011-1149-4240-8d2f-4e4482b114f4\",\"type\":\"ToolEvents\"},\"toolbar\":{\"id\":\"8097a5f3-8303-4a81-99a2-8ea29452406b\",\"type\":\"Toolbar\"},\"x_mapper_type\":\"auto\",\"x_range\":{\"id\":\"16fada75-c9af-4e50-ac01-13b1a2fa3ae2\",\"type\":\"Range1d\"},\"y_mapper_type\":\"auto\",\"y_range\":{\"id\":\"89a56b92-aef8-4f86-8294-c2e98df72e4e\",\"type\":\"Range1d\"}},\"id\":\"e1c4ba44-299b-4aff-be97-d16a324271d2\",\"subtype\":\"Chart\",\"type\":\"Plot\"},{\"attributes\":{\"fill_alpha\":{\"field\":\"fill_alpha\"},\"fill_color\":{\"field\":\"color\"},\"height\":{\"field\":\"height\",\"units\":\"data\"},\"line_color\":{\"field\":\"line_color\"},\"width\":{\"field\":\"width\",\"units\":\"data\"},\"x\":{\"field\":\"x\"},\"y\":{\"field\":\"y\"}},\"id\":\"1edc7899-dd47-4597-a2f8-d1bb51e289b8\",\"type\":\"Rect\"},{\"attributes\":{\"fill_alpha\":{\"field\":\"fill_alpha\"},\"fill_color\":{\"field\":\"color\"},\"height\":{\"field\":\"height\",\"units\":\"data\"},\"line_color\":{\"field\":\"line_color\"},\"width\":{\"field\":\"width\",\"units\":\"data\"},\"x\":{\"field\":\"x\"},\"y\":{\"field\":\"y\"}},\"id\":\"3dee973b-3d06-44c2-955f-642b5b4f670d\",\"type\":\"Rect\"},{\"attributes\":{\"callback\":null,\"column_names\":[\"fill_alpha\",\"line_color\",\"label\",\"height\",\"y\",\"width\",\"color\",\"x\",\"line_alpha\"],\"data\":{\"chart_index\":[\"(0.666667, 0.800000]\"],\"color\":[\"LightSlateGray\"],\"fill_alpha\":[0.8],\"height\":[0.0],\"label\":[\"(0.666667, 0.800000]\"],\"line_alpha\":[1.0],\"line_color\":[\"black\"],\"width\":[0.13333333333333341],\"x\":[\"0.7333335000000001\"],\"y\":[0.0]}},\"id\":\"1aef201e-a13d-4293-a74b-b31ba934748a\",\"type\":\"ColumnDataSource\"},{\"attributes\":{},\"id\":\"7bf615ae-edd3-41ff-8ebe-09ccab3d051e\",\"type\":\"BasicTickFormatter\"},{\"attributes\":{\"data_source\":{\"id\":\"8a10d97c-ebf5-4a1e-9aeb-738cd474695f\",\"type\":\"ColumnDataSource\"},\"glyph\":{\"id\":\"92856dd3-5517-4a28-be12-80471d11337d\",\"type\":\"Rect\"},\"hover_glyph\":null,\"nonselection_glyph\":null,\"selection_glyph\":null},\"id\":\"0eb48dff-4aa3-4be4-bd52-e2c566a57663\",\"type\":\"GlyphRenderer\"},{\"attributes\":{\"data_source\":{\"id\":\"b421f17f-ccf3-4ebf-8e08-4a7d3f6e2526\",\"type\":\"ColumnDataSource\"},\"glyph\":{\"id\":\"3ee46426-dca3-4964-8cbc-603291991ad7\",\"type\":\"Rect\"},\"hover_glyph\":null,\"nonselection_glyph\":null,\"selection_glyph\":null},\"id\":\"611eaf4e-3b1c-4177-ae16-c4f982358ccd\",\"type\":\"GlyphRenderer\"},{\"attributes\":{\"fill_alpha\":{\"field\":\"fill_alpha\"},\"fill_color\":{\"field\":\"color\"},\"height\":{\"field\":\"height\",\"units\":\"data\"},\"line_color\":{\"field\":\"line_color\"},\"width\":{\"field\":\"width\",\"units\":\"data\"},\"x\":{\"field\":\"x\"},\"y\":{\"field\":\"y\"}},\"id\":\"d3316835-bcea-4be5-b9d9-2949b67370f1\",\"type\":\"Rect\"},{\"attributes\":{\"data_source\":{\"id\":\"bfd568b8-f9f1-41ff-941d-1f1e1d05433b\",\"type\":\"ColumnDataSource\"},\"glyph\":{\"id\":\"f068cef9-bc83-4565-9470-7b7d57870476\",\"type\":\"Rect\"},\"hover_glyph\":null,\"nonselection_glyph\":null,\"selection_glyph\":null},\"id\":\"92e2b8e1-1ee3-417f-bd9e-7f5bffc09a93\",\"type\":\"GlyphRenderer\"},{\"attributes\":{\"callback\":null,\"column_names\":[\"fill_alpha\",\"line_color\",\"label\",\"height\",\"y\",\"width\",\"color\",\"x\",\"line_alpha\"],\"data\":{\"chart_index\":[\"(0.933333, 1.066667]\"],\"color\":[\"LightSlateGray\"],\"fill_alpha\":[0.8],\"height\":[225.0],\"label\":[\"(0.933333, 1.066667]\"],\"line_alpha\":[1.0],\"line_color\":[\"black\"],\"width\":[0.1333333333333333],\"x\":[\"1.0\"],\"y\":[112.5]}},\"id\":\"34b7a069-a0a4-46cf-b7d7-760ae3d891d0\",\"type\":\"ColumnDataSource\"}],\"root_ids\":[\"e1c4ba44-299b-4aff-be97-d16a324271d2\"]},\"title\":\"Bokeh Application\",\"version\":\"0.12.4\"}};\n",
       "            var render_items = [{\"docid\":\"691b83b8-490d-4288-89cc-8e090bb0ac0f\",\"elementid\":\"852d4ddf-c448-444c-bb07-389ffa5a1294\",\"modelid\":\"e1c4ba44-299b-4aff-be97-d16a324271d2\"}];\n",
       "            \n",
       "            Bokeh.embed.embed_items(docs_json, render_items);\n",
       "          };\n",
       "          if (document.readyState != \"loading\") fn();\n",
       "          else document.addEventListener(\"DOMContentLoaded\", fn);\n",
       "        })();\n",
       "      },\n",
       "      function(Bokeh) {\n",
       "      }\n",
       "    ];\n",
       "  \n",
       "    function run_inline_js() {\n",
       "      \n",
       "      if ((window.Bokeh !== undefined) || (force === true)) {\n",
       "        for (var i = 0; i < inline_js.length; i++) {\n",
       "          inline_js[i](window.Bokeh);\n",
       "        }if (force === true) {\n",
       "          display_loaded();\n",
       "        }} else if (Date.now() < window._bokeh_timeout) {\n",
       "        setTimeout(run_inline_js, 100);\n",
       "      } else if (!window._bokeh_failed_load) {\n",
       "        console.log(\"Bokeh: BokehJS failed to load within specified timeout.\");\n",
       "        window._bokeh_failed_load = true;\n",
       "      } else if (force !== true) {\n",
       "        var cell = $(document.getElementById(\"852d4ddf-c448-444c-bb07-389ffa5a1294\")).parents('.cell').data().cell;\n",
       "        cell.output_area.append_execute_result(NB_LOAD_WARNING)\n",
       "      }\n",
       "  \n",
       "    }\n",
       "  \n",
       "    if (window._bokeh_is_loading === 0) {\n",
       "      console.log(\"Bokeh: BokehJS loaded, going straight to plotting\");\n",
       "      run_inline_js();\n",
       "    } else {\n",
       "      load_libs(js_urls, function() {\n",
       "        console.log(\"Bokeh: BokehJS plotting callback run at\", now());\n",
       "        run_inline_js();\n",
       "      });\n",
       "    }\n",
       "  }(this));\n",
       "</script>"
      ]
     },
     "metadata": {},
     "output_type": "display_data"
    }
   ],
   "source": [
    "p = figure()\n",
    "p = Histogram(inac_call, values='GTcons', title='Inaccurate_Call_HG002: Consensust GT', color='LightSlateGray', bins=15, plot_height=250, xlabel=\"GTcons\", ylabel=\"Frequency\")\n",
    "show(p)"
   ]
  }
 ],
 "metadata": {
  "kernelspec": {
   "display_name": "Python [NIHFAES]",
   "language": "python",
   "name": "Python [NIHFAES]"
  },
  "language_info": {
   "codemirror_mode": {
    "name": "ipython",
    "version": 3
   },
   "file_extension": ".py",
   "mimetype": "text/x-python",
   "name": "python",
   "nbconvert_exporter": "python",
   "pygments_lexer": "ipython3",
   "version": "3.5.2"
  }
 },
 "nbformat": 4,
 "nbformat_minor": 2
}
