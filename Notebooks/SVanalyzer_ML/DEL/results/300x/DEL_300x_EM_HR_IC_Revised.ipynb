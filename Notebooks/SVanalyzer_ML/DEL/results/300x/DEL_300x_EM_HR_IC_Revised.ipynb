{
 "cells": [
  {
   "cell_type": "markdown",
   "metadata": {},
   "source": [
    "### 300X: EM, HR, IC \n",
    "\n",
    "* The following notebook is trained on data generated from revised R script [Oct 12 2017]\n",
    "    * Exact Match [1] and Homozygous [0] Reference data points\n",
    "    * Removed all data points with Gtcons and GTconswithoutXX -1\n",
    "* 5k randomly selected deletions test data was also processed through same R script\n",
    "* Balanced Training Set for GTcons labels:\n",
    "    * 200 Hom Var\n",
    "    * 200 Hom Ref\n",
    "    * 200 Het Var\n",
    "* **Train/Prediction Label:** EM, HR, IC"
   ]
  },
  {
   "cell_type": "code",
   "execution_count": 1,
   "metadata": {
    "collapsed": true
   },
   "outputs": [],
   "source": [
    "\"\"\"\n",
    "Imports\n",
    "\"\"\"\n",
    "import pandas as pd\n",
    "import numpy as np\n",
    "from fancyimpute import KNN\n",
    "import matplotlib.pyplot as plt\n",
    "from sklearn import preprocessing\n",
    "from sklearn.preprocessing import LabelEncoder\n",
    "from sklearn.model_selection import LeaveOneOut\n",
    "from scipy.stats import ks_2samp\n",
    "from scipy import stats\n",
    "from matplotlib import pyplot\n",
    "from scipy.linalg import svd\n",
    "from sklearn.decomposition import TruncatedSVD\n",
    "from sklearn.ensemble import RandomForestClassifier\n",
    "from sklearn.metrics import roc_auc_score\n",
    "from sklearn.manifold import TSNE\n",
    "from sklearn.decomposition import PCA as sklearnPCA\n",
    "import plotly.plotly as py\n",
    "from sklearn.cluster import DBSCAN\n",
    "from sklearn.model_selection import train_test_split\n",
    "from sklearn import metrics\n",
    "from sklearn.metrics import f1_score, precision_score\n",
    "from sklearn import preprocessing\n",
    "from ggplot import *\n",
    "from bokeh.models import HoverTool\n",
    "from bokeh.plotting import show\n",
    "from bokeh.charts import Scatter, Histogram, output_file, show\n",
    "from bokeh.plotting import figure, show, output_file, ColumnDataSource\n",
    "from bokeh.io import output_notebook\n",
    "from bokeh.charts import Bar, output_file, show\n",
    "import bokeh.palettes as palettes\n",
    "from bokeh.models import HoverTool, BoxSelectTool, Legend\n",
    "from sklearn import (manifold, datasets, decomposition, ensemble,\n",
    "                     discriminant_analysis, random_projection)"
   ]
  },
  {
   "cell_type": "code",
   "execution_count": 2,
   "metadata": {},
   "outputs": [
    {
     "data": {
      "text/html": [
       "<div>\n",
       "<table border=\"1\" class=\"dataframe\">\n",
       "  <thead>\n",
       "    <tr style=\"text-align: right;\">\n",
       "      <th></th>\n",
       "      <th>chrom</th>\n",
       "      <th>sample</th>\n",
       "      <th>id</th>\n",
       "      <th>start</th>\n",
       "      <th>end</th>\n",
       "      <th>Size</th>\n",
       "      <th>type</th>\n",
       "      <th>SVtype</th>\n",
       "      <th>refN_cnt</th>\n",
       "      <th>refN_pct</th>\n",
       "      <th>...</th>\n",
       "      <th>Ill300x.amb_reason_orientation_orientation</th>\n",
       "      <th>Ill300x.amb_reason_same_scores</th>\n",
       "      <th>Ill300x.ref_alnScore_mean</th>\n",
       "      <th>Ill300x.ref_alnScore_std</th>\n",
       "      <th>Ill300x.ref_count</th>\n",
       "      <th>Ill300x.ref_insertSize_mean</th>\n",
       "      <th>Ill300x.ref_insertSize_std</th>\n",
       "      <th>Ill300x.ref_reason_alignmentScore</th>\n",
       "      <th>Ill300x.ref_reason_insertSizeScore</th>\n",
       "      <th>Ill300x.ref_reason_orientation</th>\n",
       "    </tr>\n",
       "  </thead>\n",
       "  <tbody>\n",
       "    <tr>\n",
       "      <th>0</th>\n",
       "      <td>1</td>\n",
       "      <td>HG002</td>\n",
       "      <td>23</td>\n",
       "      <td>72766323</td>\n",
       "      <td>72811839</td>\n",
       "      <td>-45516</td>\n",
       "      <td>Deletion</td>\n",
       "      <td>Deletion</td>\n",
       "      <td>0</td>\n",
       "      <td>0</td>\n",
       "      <td>...</td>\n",
       "      <td>7.0</td>\n",
       "      <td>0.0</td>\n",
       "      <td>587.54453</td>\n",
       "      <td>8.210694</td>\n",
       "      <td>23591.0</td>\n",
       "      <td>573.392523</td>\n",
       "      <td>152.703824</td>\n",
       "      <td>23591.0</td>\n",
       "      <td>0.0</td>\n",
       "      <td>0.0</td>\n",
       "    </tr>\n",
       "  </tbody>\n",
       "</table>\n",
       "<p>1 rows × 52 columns</p>\n",
       "</div>"
      ],
      "text/plain": [
       "  chrom sample  id     start       end   Size      type    SVtype  refN_cnt  \\\n",
       "0     1  HG002  23  72766323  72811839 -45516  Deletion  Deletion         0   \n",
       "\n",
       "   refN_pct               ...                \\\n",
       "0         0               ...                 \n",
       "\n",
       "   Ill300x.amb_reason_orientation_orientation  Ill300x.amb_reason_same_scores  \\\n",
       "0                                         7.0                             0.0   \n",
       "\n",
       "   Ill300x.ref_alnScore_mean  Ill300x.ref_alnScore_std  Ill300x.ref_count  \\\n",
       "0                  587.54453                  8.210694            23591.0   \n",
       "\n",
       "   Ill300x.ref_insertSize_mean  Ill300x.ref_insertSize_std  \\\n",
       "0                   573.392523                  152.703824   \n",
       "\n",
       "   Ill300x.ref_reason_alignmentScore  Ill300x.ref_reason_insertSizeScore  \\\n",
       "0                            23591.0                                 0.0   \n",
       "\n",
       "   Ill300x.ref_reason_orientation  \n",
       "0                             0.0  \n",
       "\n",
       "[1 rows x 52 columns]"
      ]
     },
     "execution_count": 2,
     "metadata": {},
     "output_type": "execute_result"
    }
   ],
   "source": [
    "# Import Training Data\n",
    "# SVanalyzer generated training data\n",
    "df_train = pd.read_csv('/Volumes/lesleydata/SVanalyzer_ML/Oct122017_Revised_R/dataframes/training_data/tech_sep/HG002/DEL/300x_EM_HR_IC_HG002_DEL_min1.csv')\n",
    "df_train_2 = pd.read_csv('/Volumes/lesleydata/SVanalyzer_ML/Oct122017_Revised_R/dataframes/training_data/tech_sep/HG002/DEL/300x_EM_HR_IC_HG002_DEL_min1.csv')\n",
    "df_train.rename(columns={'size': 'Size'}, inplace=True)\n",
    "df_train.head(1)"
   ]
  },
  {
   "cell_type": "code",
   "execution_count": 3,
   "metadata": {},
   "outputs": [
    {
     "data": {
      "text/html": [
       "<div>\n",
       "<table border=\"1\" class=\"dataframe\">\n",
       "  <thead>\n",
       "    <tr style=\"text-align: right;\">\n",
       "      <th></th>\n",
       "      <th>chrom</th>\n",
       "      <th>sample</th>\n",
       "      <th>id</th>\n",
       "      <th>start</th>\n",
       "      <th>end</th>\n",
       "      <th>Size</th>\n",
       "      <th>type</th>\n",
       "      <th>SVtype</th>\n",
       "      <th>refN_cnt</th>\n",
       "      <th>refN_pct</th>\n",
       "      <th>...</th>\n",
       "      <th>Ill300x.amb_reason_orientation_orientation</th>\n",
       "      <th>Ill300x.amb_reason_same_scores</th>\n",
       "      <th>Ill300x.ref_alnScore_mean</th>\n",
       "      <th>Ill300x.ref_alnScore_std</th>\n",
       "      <th>Ill300x.ref_count</th>\n",
       "      <th>Ill300x.ref_insertSize_mean</th>\n",
       "      <th>Ill300x.ref_insertSize_std</th>\n",
       "      <th>Ill300x.ref_reason_alignmentScore</th>\n",
       "      <th>Ill300x.ref_reason_insertSizeScore</th>\n",
       "      <th>Ill300x.ref_reason_orientation</th>\n",
       "    </tr>\n",
       "  </thead>\n",
       "  <tbody>\n",
       "    <tr>\n",
       "      <th>0</th>\n",
       "      <td>1</td>\n",
       "      <td>HG002</td>\n",
       "      <td>859</td>\n",
       "      <td>37568322</td>\n",
       "      <td>37568587</td>\n",
       "      <td>-115</td>\n",
       "      <td>Insertion</td>\n",
       "      <td>Deletion</td>\n",
       "      <td>0</td>\n",
       "      <td>0</td>\n",
       "      <td>...</td>\n",
       "      <td>8.0</td>\n",
       "      <td>12.0</td>\n",
       "      <td>569.127329</td>\n",
       "      <td>22.032287</td>\n",
       "      <td>322.0</td>\n",
       "      <td>562.838509</td>\n",
       "      <td>148.982654</td>\n",
       "      <td>275.0</td>\n",
       "      <td>0.0</td>\n",
       "      <td>47.0</td>\n",
       "    </tr>\n",
       "  </tbody>\n",
       "</table>\n",
       "<p>1 rows × 52 columns</p>\n",
       "</div>"
      ],
      "text/plain": [
       "  chrom sample   id     start       end  Size       type    SVtype  refN_cnt  \\\n",
       "0     1  HG002  859  37568322  37568587  -115  Insertion  Deletion         0   \n",
       "\n",
       "   refN_pct               ...                \\\n",
       "0         0               ...                 \n",
       "\n",
       "   Ill300x.amb_reason_orientation_orientation  Ill300x.amb_reason_same_scores  \\\n",
       "0                                         8.0                            12.0   \n",
       "\n",
       "   Ill300x.ref_alnScore_mean  Ill300x.ref_alnScore_std  Ill300x.ref_count  \\\n",
       "0                 569.127329                 22.032287              322.0   \n",
       "\n",
       "   Ill300x.ref_insertSize_mean  Ill300x.ref_insertSize_std  \\\n",
       "0                   562.838509                  148.982654   \n",
       "\n",
       "   Ill300x.ref_reason_alignmentScore  Ill300x.ref_reason_insertSizeScore  \\\n",
       "0                              275.0                                 0.0   \n",
       "\n",
       "   Ill300x.ref_reason_orientation  \n",
       "0                            47.0  \n",
       "\n",
       "[1 rows x 52 columns]"
      ]
     },
     "execution_count": 3,
     "metadata": {},
     "output_type": "execute_result"
    }
   ],
   "source": [
    "# Import Test Data\n",
    "# SVanalyzer generated training data\n",
    "df_test = pd.read_csv('/Volumes/lesleydata/SVanalyzer_ML/Oct122017_Revised_R/dataframes/test/final_df/tech_sep/DEL/HG002/300x_HG002_DEL_min1.csv')\n",
    "df_test_2 = pd.read_csv('/Volumes/lesleydata/SVanalyzer_ML/Oct122017_Revised_R/dataframes/test/final_df/tech_sep/DEL/HG002/300x_HG002_DEL_min1.csv')\n",
    "df_test.rename(columns={'size': 'Size'}, inplace=True)\n",
    "df_test.head(1)"
   ]
  },
  {
   "cell_type": "code",
   "execution_count": 4,
   "metadata": {},
   "outputs": [
    {
     "data": {
      "text/plain": [
       "{'Label'}"
      ]
     },
     "execution_count": 4,
     "metadata": {},
     "output_type": "execute_result"
    }
   ],
   "source": [
    "# Store header names in lists and find names that are NOT contained in BOTH lists\n",
    "c = list(df_train.columns.values)\n",
    "d = list(df_test.columns.values)\n",
    "set(c) - set(d)"
   ]
  },
  {
   "cell_type": "code",
   "execution_count": 5,
   "metadata": {
    "collapsed": true
   },
   "outputs": [],
   "source": [
    "### Drop columns that are not shared by both dataframes\n",
    "df_train.drop(['GTconswithoutIll300x.GT'], axis=1, inplace = True)\n",
    "df_train.drop(['GTcons'], axis=1, inplace = True)\n",
    "df_train.drop(['GTconflict'], axis=1, inplace = True)\n",
    "df_train.drop(['GTsupp'], axis=1, inplace = True)\n",
    "df_train.drop(['sample'], axis=1, inplace = True)\n",
    "df_train.drop(['SVtype'], axis=1, inplace = True)\n",
    "df_train.drop(['type'], axis=1, inplace = True)\n",
    "df_train.drop(['id'], axis=1, inplace = True)"
   ]
  },
  {
   "cell_type": "code",
   "execution_count": 6,
   "metadata": {},
   "outputs": [
    {
     "data": {
      "text/html": [
       "<div>\n",
       "<table border=\"1\" class=\"dataframe\">\n",
       "  <thead>\n",
       "    <tr style=\"text-align: right;\">\n",
       "      <th></th>\n",
       "      <th>chrom</th>\n",
       "      <th>start</th>\n",
       "      <th>end</th>\n",
       "      <th>Size</th>\n",
       "      <th>refN_cnt</th>\n",
       "      <th>refN_pct</th>\n",
       "      <th>segdup_cnt</th>\n",
       "      <th>segdup_pct</th>\n",
       "      <th>tandemrep_cnt</th>\n",
       "      <th>tandemrep_pct</th>\n",
       "      <th>...</th>\n",
       "      <th>Ill300x.amb_reason_orientation_orientation</th>\n",
       "      <th>Ill300x.amb_reason_same_scores</th>\n",
       "      <th>Ill300x.ref_alnScore_mean</th>\n",
       "      <th>Ill300x.ref_alnScore_std</th>\n",
       "      <th>Ill300x.ref_count</th>\n",
       "      <th>Ill300x.ref_insertSize_mean</th>\n",
       "      <th>Ill300x.ref_insertSize_std</th>\n",
       "      <th>Ill300x.ref_reason_alignmentScore</th>\n",
       "      <th>Ill300x.ref_reason_insertSizeScore</th>\n",
       "      <th>Ill300x.ref_reason_orientation</th>\n",
       "    </tr>\n",
       "  </thead>\n",
       "  <tbody>\n",
       "    <tr>\n",
       "      <th>0</th>\n",
       "      <td>1</td>\n",
       "      <td>72766323</td>\n",
       "      <td>72811839</td>\n",
       "      <td>-45516</td>\n",
       "      <td>0</td>\n",
       "      <td>0</td>\n",
       "      <td>4</td>\n",
       "      <td>0.076523</td>\n",
       "      <td>110</td>\n",
       "      <td>0.059979</td>\n",
       "      <td>...</td>\n",
       "      <td>7.0</td>\n",
       "      <td>0.0</td>\n",
       "      <td>587.54453</td>\n",
       "      <td>8.210694</td>\n",
       "      <td>23591.0</td>\n",
       "      <td>573.392523</td>\n",
       "      <td>152.703824</td>\n",
       "      <td>23591.0</td>\n",
       "      <td>0.0</td>\n",
       "      <td>0.0</td>\n",
       "    </tr>\n",
       "  </tbody>\n",
       "</table>\n",
       "<p>1 rows × 44 columns</p>\n",
       "</div>"
      ],
      "text/plain": [
       "  chrom     start       end   Size  refN_cnt  refN_pct  segdup_cnt  \\\n",
       "0     1  72766323  72811839 -45516         0         0           4   \n",
       "\n",
       "   segdup_pct  tandemrep_cnt  tandemrep_pct               ...                \\\n",
       "0    0.076523            110       0.059979               ...                 \n",
       "\n",
       "   Ill300x.amb_reason_orientation_orientation  Ill300x.amb_reason_same_scores  \\\n",
       "0                                         7.0                             0.0   \n",
       "\n",
       "   Ill300x.ref_alnScore_mean  Ill300x.ref_alnScore_std  Ill300x.ref_count  \\\n",
       "0                  587.54453                  8.210694            23591.0   \n",
       "\n",
       "   Ill300x.ref_insertSize_mean  Ill300x.ref_insertSize_std  \\\n",
       "0                   573.392523                  152.703824   \n",
       "\n",
       "   Ill300x.ref_reason_alignmentScore  Ill300x.ref_reason_insertSizeScore  \\\n",
       "0                            23591.0                                 0.0   \n",
       "\n",
       "   Ill300x.ref_reason_orientation  \n",
       "0                             0.0  \n",
       "\n",
       "[1 rows x 44 columns]"
      ]
     },
     "execution_count": 6,
     "metadata": {},
     "output_type": "execute_result"
    }
   ],
   "source": [
    "df_train.head(1)"
   ]
  },
  {
   "cell_type": "code",
   "execution_count": 7,
   "metadata": {
    "collapsed": true
   },
   "outputs": [],
   "source": [
    "df_train['chrom'].replace('X', 23, inplace=True)\n",
    "df_train['chrom'].replace('Y', 24, inplace=True)\n",
    "df_test['chrom'].replace('X', 23, inplace=True)\n",
    "df_test['chrom'].replace('Y', 24, inplace=True)"
   ]
  },
  {
   "cell_type": "code",
   "execution_count": 8,
   "metadata": {},
   "outputs": [
    {
     "data": {
      "text/plain": [
       "{'GTconflict',\n",
       " 'GTcons',\n",
       " 'GTconswithoutIll300x.GT',\n",
       " 'GTsupp',\n",
       " 'Ill300x.amb_reason_alignmentScore_insertSizeScore',\n",
       " 'SVtype',\n",
       " 'id',\n",
       " 'sample',\n",
       " 'type'}"
      ]
     },
     "execution_count": 8,
     "metadata": {},
     "output_type": "execute_result"
    }
   ],
   "source": [
    "# Store header names in lists and find names that are NOT contained in BOTH lists\n",
    "c = list(df_train.columns.values)\n",
    "d = list(df_test.columns.values)\n",
    "set(d) - set(c)"
   ]
  },
  {
   "cell_type": "code",
   "execution_count": 9,
   "metadata": {},
   "outputs": [],
   "source": [
    "### Drop columns that are not shared by both dataframes\n",
    "df_test.drop(['Ill300x.amb_reason_alignmentScore_insertSizeScore'], axis=1, inplace = True)\n",
    "df_test.drop(['GTconswithoutIll300x.GT'], axis=1, inplace = True)\n",
    "df_test.drop(['GTcons'], axis=1, inplace = True)\n",
    "df_test.drop(['GTconflict'], axis=1, inplace = True)\n",
    "df_test.drop(['GTsupp'], axis=1, inplace = True)\n",
    "df_test.drop(['sample'], axis=1, inplace = True)\n",
    "df_test.drop(['SVtype'], axis=1, inplace = True)\n",
    "df_test.drop(['type'], axis=1, inplace = True)\n",
    "df_test.drop(['id'], axis=1, inplace = True)"
   ]
  },
  {
   "cell_type": "markdown",
   "metadata": {},
   "source": [
    "***\n",
    "Impute missing values using KNN\n",
    "***"
   ]
  },
  {
   "cell_type": "code",
   "execution_count": 10,
   "metadata": {},
   "outputs": [
    {
     "data": {
      "text/html": [
       "<div>\n",
       "<table border=\"1\" class=\"dataframe\">\n",
       "  <thead>\n",
       "    <tr style=\"text-align: right;\">\n",
       "      <th></th>\n",
       "      <th>chrom</th>\n",
       "      <th>start</th>\n",
       "      <th>end</th>\n",
       "      <th>Size</th>\n",
       "      <th>refN_cnt</th>\n",
       "      <th>refN_pct</th>\n",
       "      <th>segdup_cnt</th>\n",
       "      <th>segdup_pct</th>\n",
       "      <th>tandemrep_cnt</th>\n",
       "      <th>tandemrep_pct</th>\n",
       "      <th>...</th>\n",
       "      <th>Ill300x.amb_reason_orientation_orientation</th>\n",
       "      <th>Ill300x.amb_reason_same_scores</th>\n",
       "      <th>Ill300x.ref_alnScore_mean</th>\n",
       "      <th>Ill300x.ref_alnScore_std</th>\n",
       "      <th>Ill300x.ref_count</th>\n",
       "      <th>Ill300x.ref_insertSize_mean</th>\n",
       "      <th>Ill300x.ref_insertSize_std</th>\n",
       "      <th>Ill300x.ref_reason_alignmentScore</th>\n",
       "      <th>Ill300x.ref_reason_insertSizeScore</th>\n",
       "      <th>Ill300x.ref_reason_orientation</th>\n",
       "    </tr>\n",
       "  </thead>\n",
       "  <tbody>\n",
       "    <tr>\n",
       "      <th>0</th>\n",
       "      <td>1</td>\n",
       "      <td>72766323</td>\n",
       "      <td>72811839</td>\n",
       "      <td>-45516</td>\n",
       "      <td>0</td>\n",
       "      <td>0</td>\n",
       "      <td>4</td>\n",
       "      <td>0.076523</td>\n",
       "      <td>110</td>\n",
       "      <td>0.059979</td>\n",
       "      <td>...</td>\n",
       "      <td>7.0</td>\n",
       "      <td>0.0</td>\n",
       "      <td>587.544530</td>\n",
       "      <td>8.210694</td>\n",
       "      <td>23591.0</td>\n",
       "      <td>573.392523</td>\n",
       "      <td>152.703824</td>\n",
       "      <td>23591.0</td>\n",
       "      <td>0.0</td>\n",
       "      <td>0.0</td>\n",
       "    </tr>\n",
       "    <tr>\n",
       "      <th>1</th>\n",
       "      <td>1</td>\n",
       "      <td>96139975</td>\n",
       "      <td>96142391</td>\n",
       "      <td>-2416</td>\n",
       "      <td>0</td>\n",
       "      <td>0</td>\n",
       "      <td>0</td>\n",
       "      <td>0.000000</td>\n",
       "      <td>2</td>\n",
       "      <td>0.014487</td>\n",
       "      <td>...</td>\n",
       "      <td>4.0</td>\n",
       "      <td>0.0</td>\n",
       "      <td>588.904974</td>\n",
       "      <td>6.089408</td>\n",
       "      <td>1568.0</td>\n",
       "      <td>577.396684</td>\n",
       "      <td>158.654734</td>\n",
       "      <td>1568.0</td>\n",
       "      <td>0.0</td>\n",
       "      <td>0.0</td>\n",
       "    </tr>\n",
       "    <tr>\n",
       "      <th>2</th>\n",
       "      <td>1</td>\n",
       "      <td>109690878</td>\n",
       "      <td>109690918</td>\n",
       "      <td>-39</td>\n",
       "      <td>0</td>\n",
       "      <td>0</td>\n",
       "      <td>0</td>\n",
       "      <td>0.000000</td>\n",
       "      <td>1</td>\n",
       "      <td>0.400000</td>\n",
       "      <td>...</td>\n",
       "      <td>7.0</td>\n",
       "      <td>272.0</td>\n",
       "      <td>584.127907</td>\n",
       "      <td>11.328393</td>\n",
       "      <td>172.0</td>\n",
       "      <td>587.226744</td>\n",
       "      <td>143.664138</td>\n",
       "      <td>172.0</td>\n",
       "      <td>0.0</td>\n",
       "      <td>0.0</td>\n",
       "    </tr>\n",
       "  </tbody>\n",
       "</table>\n",
       "<p>3 rows × 44 columns</p>\n",
       "</div>"
      ],
      "text/plain": [
       "  chrom      start        end   Size  refN_cnt  refN_pct  segdup_cnt  \\\n",
       "0     1   72766323   72811839 -45516         0         0           4   \n",
       "1     1   96139975   96142391  -2416         0         0           0   \n",
       "2     1  109690878  109690918    -39         0         0           0   \n",
       "\n",
       "   segdup_pct  tandemrep_cnt  tandemrep_pct               ...                \\\n",
       "0    0.076523            110       0.059979               ...                 \n",
       "1    0.000000              2       0.014487               ...                 \n",
       "2    0.000000              1       0.400000               ...                 \n",
       "\n",
       "   Ill300x.amb_reason_orientation_orientation  Ill300x.amb_reason_same_scores  \\\n",
       "0                                         7.0                             0.0   \n",
       "1                                         4.0                             0.0   \n",
       "2                                         7.0                           272.0   \n",
       "\n",
       "   Ill300x.ref_alnScore_mean  Ill300x.ref_alnScore_std  Ill300x.ref_count  \\\n",
       "0                 587.544530                  8.210694            23591.0   \n",
       "1                 588.904974                  6.089408             1568.0   \n",
       "2                 584.127907                 11.328393              172.0   \n",
       "\n",
       "   Ill300x.ref_insertSize_mean  Ill300x.ref_insertSize_std  \\\n",
       "0                   573.392523                  152.703824   \n",
       "1                   577.396684                  158.654734   \n",
       "2                   587.226744                  143.664138   \n",
       "\n",
       "   Ill300x.ref_reason_alignmentScore  Ill300x.ref_reason_insertSizeScore  \\\n",
       "0                            23591.0                                 0.0   \n",
       "1                             1568.0                                 0.0   \n",
       "2                              172.0                                 0.0   \n",
       "\n",
       "   Ill300x.ref_reason_orientation  \n",
       "0                             0.0  \n",
       "1                             0.0  \n",
       "2                             0.0  \n",
       "\n",
       "[3 rows x 44 columns]"
      ]
     },
     "execution_count": 10,
     "metadata": {},
     "output_type": "execute_result"
    }
   ],
   "source": [
    "# Store training data in a new variable which will be converted to a matrix\n",
    "X = df_train\n",
    "X.head(3)"
   ]
  },
  {
   "cell_type": "code",
   "execution_count": 11,
   "metadata": {},
   "outputs": [
    {
     "name": "stdout",
     "output_type": "stream",
     "text": [
      "Imputing row 1/2507 with 3 missing, elapsed time: 2.188\n",
      "Imputing row 101/2507 with 3 missing, elapsed time: 2.246\n",
      "Imputing row 201/2507 with 3 missing, elapsed time: 2.260\n",
      "Imputing row 301/2507 with 3 missing, elapsed time: 2.275\n",
      "Imputing row 401/2507 with 3 missing, elapsed time: 2.288\n",
      "Imputing row 501/2507 with 3 missing, elapsed time: 2.302\n",
      "Imputing row 601/2507 with 3 missing, elapsed time: 2.315\n",
      "Imputing row 701/2507 with 3 missing, elapsed time: 2.330\n",
      "Imputing row 801/2507 with 3 missing, elapsed time: 2.344\n",
      "Imputing row 901/2507 with 2 missing, elapsed time: 2.354\n",
      "Imputing row 1001/2507 with 2 missing, elapsed time: 2.364\n",
      "Imputing row 1101/2507 with 2 missing, elapsed time: 2.373\n",
      "Imputing row 1201/2507 with 2 missing, elapsed time: 2.383\n",
      "Imputing row 1301/2507 with 2 missing, elapsed time: 2.394\n",
      "Imputing row 1401/2507 with 2 missing, elapsed time: 2.406\n",
      "Imputing row 1501/2507 with 2 missing, elapsed time: 2.415\n",
      "Imputing row 1601/2507 with 2 missing, elapsed time: 2.425\n",
      "Imputing row 1701/2507 with 2 missing, elapsed time: 2.435\n",
      "Imputing row 1801/2507 with 0 missing, elapsed time: 2.443\n",
      "Imputing row 1901/2507 with 0 missing, elapsed time: 2.445\n",
      "Imputing row 2001/2507 with 0 missing, elapsed time: 2.445\n",
      "Imputing row 2101/2507 with 0 missing, elapsed time: 2.445\n",
      "Imputing row 2201/2507 with 0 missing, elapsed time: 2.447\n",
      "Imputing row 2301/2507 with 0 missing, elapsed time: 2.450\n",
      "Imputing row 2401/2507 with 0 missing, elapsed time: 2.450\n",
      "Imputing row 2501/2507 with 0 missing, elapsed time: 2.451\n"
     ]
    }
   ],
   "source": [
    "# Convert dataframe to matrix\n",
    "X=X.as_matrix()\n",
    "\n",
    "#Imput missing values from three closest observations\n",
    "X_imputed=KNN(k=3).complete(X)\n",
    "X=pd.DataFrame(X_imputed)"
   ]
  },
  {
   "cell_type": "code",
   "execution_count": 12,
   "metadata": {},
   "outputs": [
    {
     "data": {
      "text/html": [
       "<div>\n",
       "<table border=\"1\" class=\"dataframe\">\n",
       "  <thead>\n",
       "    <tr style=\"text-align: right;\">\n",
       "      <th></th>\n",
       "      <th>chrom</th>\n",
       "      <th>start</th>\n",
       "      <th>end</th>\n",
       "      <th>Size</th>\n",
       "      <th>refN_cnt</th>\n",
       "      <th>refN_pct</th>\n",
       "      <th>segdup_cnt</th>\n",
       "      <th>segdup_pct</th>\n",
       "      <th>tandemrep_cnt</th>\n",
       "      <th>tandemrep_pct</th>\n",
       "      <th>...</th>\n",
       "      <th>Ill300x.amb_reason_orientation_orientation</th>\n",
       "      <th>Ill300x.amb_reason_same_scores</th>\n",
       "      <th>Ill300x.ref_alnScore_mean</th>\n",
       "      <th>Ill300x.ref_alnScore_std</th>\n",
       "      <th>Ill300x.ref_count</th>\n",
       "      <th>Ill300x.ref_insertSize_mean</th>\n",
       "      <th>Ill300x.ref_insertSize_std</th>\n",
       "      <th>Ill300x.ref_reason_alignmentScore</th>\n",
       "      <th>Ill300x.ref_reason_insertSizeScore</th>\n",
       "      <th>Ill300x.ref_reason_orientation</th>\n",
       "    </tr>\n",
       "  </thead>\n",
       "  <tbody>\n",
       "    <tr>\n",
       "      <th>0</th>\n",
       "      <td>1.0</td>\n",
       "      <td>72766323.0</td>\n",
       "      <td>72811839.0</td>\n",
       "      <td>-45516.0</td>\n",
       "      <td>0.0</td>\n",
       "      <td>0.0</td>\n",
       "      <td>4.0</td>\n",
       "      <td>0.076523</td>\n",
       "      <td>110.0</td>\n",
       "      <td>0.059979</td>\n",
       "      <td>...</td>\n",
       "      <td>7.0</td>\n",
       "      <td>0.0</td>\n",
       "      <td>587.544530</td>\n",
       "      <td>8.210694</td>\n",
       "      <td>23591.0</td>\n",
       "      <td>573.392523</td>\n",
       "      <td>152.703824</td>\n",
       "      <td>23591.0</td>\n",
       "      <td>0.0</td>\n",
       "      <td>0.0</td>\n",
       "    </tr>\n",
       "    <tr>\n",
       "      <th>1</th>\n",
       "      <td>1.0</td>\n",
       "      <td>96139975.0</td>\n",
       "      <td>96142391.0</td>\n",
       "      <td>-2416.0</td>\n",
       "      <td>0.0</td>\n",
       "      <td>0.0</td>\n",
       "      <td>0.0</td>\n",
       "      <td>0.000000</td>\n",
       "      <td>2.0</td>\n",
       "      <td>0.014487</td>\n",
       "      <td>...</td>\n",
       "      <td>4.0</td>\n",
       "      <td>0.0</td>\n",
       "      <td>588.904974</td>\n",
       "      <td>6.089408</td>\n",
       "      <td>1568.0</td>\n",
       "      <td>577.396684</td>\n",
       "      <td>158.654734</td>\n",
       "      <td>1568.0</td>\n",
       "      <td>0.0</td>\n",
       "      <td>0.0</td>\n",
       "    </tr>\n",
       "    <tr>\n",
       "      <th>2</th>\n",
       "      <td>1.0</td>\n",
       "      <td>109690878.0</td>\n",
       "      <td>109690918.0</td>\n",
       "      <td>-39.0</td>\n",
       "      <td>0.0</td>\n",
       "      <td>0.0</td>\n",
       "      <td>0.0</td>\n",
       "      <td>0.000000</td>\n",
       "      <td>1.0</td>\n",
       "      <td>0.400000</td>\n",
       "      <td>...</td>\n",
       "      <td>7.0</td>\n",
       "      <td>272.0</td>\n",
       "      <td>584.127907</td>\n",
       "      <td>11.328393</td>\n",
       "      <td>172.0</td>\n",
       "      <td>587.226744</td>\n",
       "      <td>143.664138</td>\n",
       "      <td>172.0</td>\n",
       "      <td>0.0</td>\n",
       "      <td>0.0</td>\n",
       "    </tr>\n",
       "  </tbody>\n",
       "</table>\n",
       "<p>3 rows × 44 columns</p>\n",
       "</div>"
      ],
      "text/plain": [
       "   chrom        start          end     Size  refN_cnt  refN_pct  segdup_cnt  \\\n",
       "0    1.0   72766323.0   72811839.0 -45516.0       0.0       0.0         4.0   \n",
       "1    1.0   96139975.0   96142391.0  -2416.0       0.0       0.0         0.0   \n",
       "2    1.0  109690878.0  109690918.0    -39.0       0.0       0.0         0.0   \n",
       "\n",
       "   segdup_pct  tandemrep_cnt  tandemrep_pct               ...                \\\n",
       "0    0.076523          110.0       0.059979               ...                 \n",
       "1    0.000000            2.0       0.014487               ...                 \n",
       "2    0.000000            1.0       0.400000               ...                 \n",
       "\n",
       "   Ill300x.amb_reason_orientation_orientation  Ill300x.amb_reason_same_scores  \\\n",
       "0                                         7.0                             0.0   \n",
       "1                                         4.0                             0.0   \n",
       "2                                         7.0                           272.0   \n",
       "\n",
       "   Ill300x.ref_alnScore_mean  Ill300x.ref_alnScore_std  Ill300x.ref_count  \\\n",
       "0                 587.544530                  8.210694            23591.0   \n",
       "1                 588.904974                  6.089408             1568.0   \n",
       "2                 584.127907                 11.328393              172.0   \n",
       "\n",
       "   Ill300x.ref_insertSize_mean  Ill300x.ref_insertSize_std  \\\n",
       "0                   573.392523                  152.703824   \n",
       "1                   577.396684                  158.654734   \n",
       "2                   587.226744                  143.664138   \n",
       "\n",
       "   Ill300x.ref_reason_alignmentScore  Ill300x.ref_reason_insertSizeScore  \\\n",
       "0                            23591.0                                 0.0   \n",
       "1                             1568.0                                 0.0   \n",
       "2                              172.0                                 0.0   \n",
       "\n",
       "   Ill300x.ref_reason_orientation  \n",
       "0                             0.0  \n",
       "1                             0.0  \n",
       "2                             0.0  \n",
       "\n",
       "[3 rows x 44 columns]"
      ]
     },
     "execution_count": 12,
     "metadata": {},
     "output_type": "execute_result"
    }
   ],
   "source": [
    "# Store header values in a list, will be used later to re-label the matrix post KNN imputation\n",
    "dftrain_header = list(df_train.columns.values)\n",
    "X.columns = dftrain_header\n",
    "X.head(3)"
   ]
  },
  {
   "cell_type": "code",
   "execution_count": 13,
   "metadata": {
    "collapsed": true
   },
   "outputs": [],
   "source": [
    "# Store Labels in a new 'Y' DataFrame\n",
    "Y = pd.DataFrame()\n",
    "Y = X['Label']"
   ]
  },
  {
   "cell_type": "code",
   "execution_count": 14,
   "metadata": {},
   "outputs": [
    {
     "data": {
      "text/plain": [
       "1.0    803\n",
       "0.0    961\n",
       "2.0    743\n",
       "dtype: int64"
      ]
     },
     "execution_count": 14,
     "metadata": {},
     "output_type": "execute_result"
    }
   ],
   "source": [
    "#Count the number of labels\n",
    "pd.value_counts(Y.values, sort=False)"
   ]
  },
  {
   "cell_type": "code",
   "execution_count": 15,
   "metadata": {
    "collapsed": true
   },
   "outputs": [],
   "source": [
    "# Note: originally selected 1000 of each label --> find out why some are lost"
   ]
  },
  {
   "cell_type": "code",
   "execution_count": 16,
   "metadata": {
    "collapsed": true
   },
   "outputs": [],
   "source": [
    "# Remove labels from feature set\n",
    "X.drop(['Label'],axis=1, inplace = True)"
   ]
  },
  {
   "cell_type": "code",
   "execution_count": 17,
   "metadata": {
    "collapsed": true
   },
   "outputs": [],
   "source": [
    "# Order features\n",
    "X4 = X.reindex_axis(sorted(X.columns), axis=1)"
   ]
  },
  {
   "cell_type": "markdown",
   "metadata": {},
   "source": [
    "***\n",
    "Machine Learning\n",
    "***\n",
    "\n",
    "<a id='machine_learning'></a>"
   ]
  },
  {
   "cell_type": "markdown",
   "metadata": {},
   "source": [
    "Description:\n",
    "\n",
    "   * In the following section a random forest model will be trained on svanalyzer data.\n",
    "   **FYI**: [see description below of the SVanalyzer data](#svan_1)\n",
    "       * The model was trained using [train/test split](http://scikit-learn.org/0.16/modules/generated/sklearn.cross_validation.train_test_split.html) where 70% of the data was used to train the model and the model performance was determined by predicting labels for the remaining 30% of the data\n",
    "       * Reminder: The labels for this training set and the following [prediction step](#prediction_step) are:\n",
    "           * Exact Match (1)\n",
    "           * Homozygous Reference (0)\n",
    "           * Inaccurate Call (2)\n",
    "           \n",
    "   * The trained model will be used to predict labels for 5000 randomly selected deletions [these datapoints were randomly selected from [union_170509_refalt.sort.vcf](ftp://ftp-trace.ncbi.nlm.nih.gov/giab/ftp/data/AshkenazimTrio/analysis/NIST_UnionSVs_05092017/)]\n",
    "   \n",
    "   "
   ]
  },
  {
   "cell_type": "markdown",
   "metadata": {},
   "source": [
    "<a id='svan_1'></a>\n",
    "* **Reminder - SVanalyzer data description:** \n",
    "     * **1000 Exact Match**: 1000 datapoints were randomly selected from the following [svanalyzer_union_170509_v0.3.0b.vcf](ftp://ftp-trace.ncbi.nlm.nih.gov/giab/ftp/data/AshkenazimTrio/analysis/NIST_UnionSVs_05092017/Preliminary_Integrations_v0.3.0/)\n",
    "     * **1000 Homozygous Reference**: 1000 datapoints were randomly selected from the following [svanalyzer_union_170509_v0.3.0b.vcf](ftp://ftp-trace.ncbi.nlm.nih.gov/giab/ftp/data/AshkenazimTrio/analysis/NIST_UnionSVs_05092017/Preliminary_Integrations_v0.3.0/)\n",
    "     * **1000 Inaccurate Calls**: 1000 datapoints were randomly selected from the following\n",
    "[svanalyzer_union_170509_refalt.2.2.2.clustered.uniquecalls.vcf](ftp://ftp-trace.ncbi.nlm.nih.gov/giab/ftp/data/AshkenazimTrio/analysis/NIST_UnionSVs_05092017/Preliminary_Integrations_v0.3.0/)\n",
    "   \n",
    "   * Source of Features: svviz, GA4GH [tandem repeat, segmental duplications, refN], R analysis [consensus genotype, GTsup]   \n",
    "    "
   ]
  },
  {
   "cell_type": "markdown",
   "metadata": {},
   "source": [
    "** Train Random Forest Classifier **"
   ]
  },
  {
   "cell_type": "markdown",
   "metadata": {},
   "source": [
    "<a id='train_test'></a>"
   ]
  },
  {
   "cell_type": "code",
   "execution_count": 18,
   "metadata": {
    "collapsed": true
   },
   "outputs": [],
   "source": [
    "# Train Test Split\n",
    "# Train on 70% of the data and test on 30%\n",
    "X_train, X_test, y_train, y_test = train_test_split(X4, Y, test_size=0.3, random_state=0)"
   ]
  },
  {
   "cell_type": "code",
   "execution_count": 19,
   "metadata": {},
   "outputs": [
    {
     "data": {
      "text/plain": [
       "RandomForestClassifier(bootstrap=True, class_weight=None, criterion='gini',\n",
       "            max_depth=None, max_features='auto', max_leaf_nodes=None,\n",
       "            min_impurity_split=1e-07, min_samples_leaf=1,\n",
       "            min_samples_split=2, min_weight_fraction_leaf=0.0,\n",
       "            n_estimators=10, n_jobs=1, oob_score=False, random_state=None,\n",
       "            verbose=0, warm_start=False)"
      ]
     },
     "execution_count": 19,
     "metadata": {},
     "output_type": "execute_result"
    }
   ],
   "source": [
    "# Train Random Forest Classifier\n",
    "model = RandomForestClassifier() \n",
    "model.fit(X_train, y_train)"
   ]
  },
  {
   "cell_type": "code",
   "execution_count": null,
   "metadata": {
    "collapsed": true
   },
   "outputs": [],
   "source": [
    "# Feature Importance\n",
    "importances = model.feature_importances_\n",
    "indices = np.argsort(importances)[::-1]\n",
    "print(\"Feature ranking:\")\n",
    "\n",
    "for f in range(X_test.shape[1]):\n",
    "    print(\"%d. feature %d (%f)\" % (f + 1, indices[f], importances[indices[f]]))"
   ]
  },
  {
   "cell_type": "code",
   "execution_count": 20,
   "metadata": {},
   "outputs": [
    {
     "name": "stderr",
     "output_type": "stream",
     "text": [
      "/Users/lmc2/anaconda/envs/NIHFAES/lib/python3.5/site-packages/ipykernel/__main__.py:3: FutureWarning:\n",
      "\n",
      "sort is deprecated, use sort_values(inplace=True) for INPLACE sorting\n",
      "\n"
     ]
    },
    {
     "data": {
      "text/plain": [
       "<matplotlib.axes._subplots.AxesSubplot at 0x10696bd30>"
      ]
     },
     "execution_count": 20,
     "metadata": {},
     "output_type": "execute_result"
    },
    {
     "data": {
      "image/png": "[encoded data removed]",
      "text/plain": [
       "<matplotlib.figure.Figure at 0x1069713c8>"
      ]
     },
     "metadata": {},
     "output_type": "display_data"
    }
   ],
   "source": [
    "%matplotlib inline\n",
    "feature_importances = pd.Series(model.feature_importances_, index=X_test.columns)\n",
    "feature_importances.sort()\n",
    "feature_importances.plot.bar()"
   ]
  },
  {
   "cell_type": "code",
   "execution_count": 21,
   "metadata": {},
   "outputs": [
    {
     "data": {
      "text/plain": [
       "0.0    654\n",
       "1.0    570\n",
       "2.0    530\n",
       "dtype: int64"
      ]
     },
     "execution_count": 21,
     "metadata": {},
     "output_type": "execute_result"
    }
   ],
   "source": [
    "#NOTE: Training Set - Show number of Hom Ref, Hom Var, Het Var datapoints the model was trained on\n",
    "ytrain = pd.DataFrame()\n",
    "ytrain['ytrain'] = y_train\n",
    "pd.value_counts(ytrain['ytrain'].values, sort=False)"
   ]
  },
  {
   "cell_type": "code",
   "execution_count": 22,
   "metadata": {
    "collapsed": true
   },
   "outputs": [],
   "source": [
    "pred = model.predict(X_test)"
   ]
  },
  {
   "cell_type": "code",
   "execution_count": 23,
   "metadata": {},
   "outputs": [
    {
     "data": {
      "text/plain": [
       "0.79150066401062413"
      ]
     },
     "execution_count": 23,
     "metadata": {},
     "output_type": "execute_result"
    }
   ],
   "source": [
    "precision_score(pred, y_test, average='micro') "
   ]
  },
  {
   "cell_type": "code",
   "execution_count": 24,
   "metadata": {},
   "outputs": [
    {
     "data": {
      "text/html": [
       "<div>\n",
       "<table border=\"1\" class=\"dataframe\">\n",
       "  <thead>\n",
       "    <tr style=\"text-align: right;\">\n",
       "      <th></th>\n",
       "      <th>Ill300x.GT</th>\n",
       "      <th>Ill300x.alt_alnScore_mean</th>\n",
       "      <th>Ill300x.alt_alnScore_std</th>\n",
       "      <th>Ill300x.alt_count</th>\n",
       "      <th>Ill300x.alt_insertSize_mean</th>\n",
       "      <th>Ill300x.alt_insertSize_std</th>\n",
       "      <th>Ill300x.alt_reason_alignmentScore</th>\n",
       "      <th>Ill300x.alt_reason_insertSizeScore</th>\n",
       "      <th>Ill300x.alt_reason_orientation</th>\n",
       "      <th>Ill300x.amb_alnScore_mean</th>\n",
       "      <th>...</th>\n",
       "      <th>Size</th>\n",
       "      <th>chrom</th>\n",
       "      <th>end</th>\n",
       "      <th>refN_cnt</th>\n",
       "      <th>refN_pct</th>\n",
       "      <th>segdup_cnt</th>\n",
       "      <th>segdup_pct</th>\n",
       "      <th>start</th>\n",
       "      <th>tandemrep_cnt</th>\n",
       "      <th>tandemrep_pct</th>\n",
       "    </tr>\n",
       "  </thead>\n",
       "  <tbody>\n",
       "    <tr>\n",
       "      <th>1719</th>\n",
       "      <td>-1.0</td>\n",
       "      <td>0.000000</td>\n",
       "      <td>0.000000</td>\n",
       "      <td>0.0</td>\n",
       "      <td>0.000000</td>\n",
       "      <td>0.000000</td>\n",
       "      <td>0.0</td>\n",
       "      <td>0.0</td>\n",
       "      <td>0.0</td>\n",
       "      <td>542.212972</td>\n",
       "      <td>...</td>\n",
       "      <td>-24.0</td>\n",
       "      <td>23.0</td>\n",
       "      <td>8387067.0</td>\n",
       "      <td>0.0</td>\n",
       "      <td>0.0</td>\n",
       "      <td>0.0</td>\n",
       "      <td>0.000000</td>\n",
       "      <td>8387042.0</td>\n",
       "      <td>1.0</td>\n",
       "      <td>1.000000</td>\n",
       "    </tr>\n",
       "    <tr>\n",
       "      <th>1832</th>\n",
       "      <td>-1.0</td>\n",
       "      <td>574.058824</td>\n",
       "      <td>11.997405</td>\n",
       "      <td>17.0</td>\n",
       "      <td>1123.882353</td>\n",
       "      <td>107.331747</td>\n",
       "      <td>0.0</td>\n",
       "      <td>17.0</td>\n",
       "      <td>0.0</td>\n",
       "      <td>554.827071</td>\n",
       "      <td>...</td>\n",
       "      <td>-171.0</td>\n",
       "      <td>10.0</td>\n",
       "      <td>39079823.0</td>\n",
       "      <td>0.0</td>\n",
       "      <td>0.0</td>\n",
       "      <td>1.0</td>\n",
       "      <td>1.000000</td>\n",
       "      <td>39079652.0</td>\n",
       "      <td>0.0</td>\n",
       "      <td>0.000000</td>\n",
       "    </tr>\n",
       "    <tr>\n",
       "      <th>1665</th>\n",
       "      <td>0.0</td>\n",
       "      <td>580.333333</td>\n",
       "      <td>16.499158</td>\n",
       "      <td>3.0</td>\n",
       "      <td>1023.666667</td>\n",
       "      <td>290.585998</td>\n",
       "      <td>1.0</td>\n",
       "      <td>2.0</td>\n",
       "      <td>0.0</td>\n",
       "      <td>532.687933</td>\n",
       "      <td>...</td>\n",
       "      <td>-44.0</td>\n",
       "      <td>8.0</td>\n",
       "      <td>119145254.0</td>\n",
       "      <td>0.0</td>\n",
       "      <td>0.0</td>\n",
       "      <td>0.0</td>\n",
       "      <td>0.000000</td>\n",
       "      <td>119145209.0</td>\n",
       "      <td>1.0</td>\n",
       "      <td>1.000000</td>\n",
       "    </tr>\n",
       "    <tr>\n",
       "      <th>703</th>\n",
       "      <td>1.0</td>\n",
       "      <td>584.590909</td>\n",
       "      <td>7.246164</td>\n",
       "      <td>264.0</td>\n",
       "      <td>626.087121</td>\n",
       "      <td>158.911556</td>\n",
       "      <td>72.0</td>\n",
       "      <td>192.0</td>\n",
       "      <td>0.0</td>\n",
       "      <td>519.001213</td>\n",
       "      <td>...</td>\n",
       "      <td>-18511.0</td>\n",
       "      <td>8.0</td>\n",
       "      <td>24990943.0</td>\n",
       "      <td>0.0</td>\n",
       "      <td>0.0</td>\n",
       "      <td>1.0</td>\n",
       "      <td>0.012425</td>\n",
       "      <td>24972432.0</td>\n",
       "      <td>47.0</td>\n",
       "      <td>0.067744</td>\n",
       "    </tr>\n",
       "    <tr>\n",
       "      <th>399</th>\n",
       "      <td>1.0</td>\n",
       "      <td>570.063830</td>\n",
       "      <td>11.188718</td>\n",
       "      <td>94.0</td>\n",
       "      <td>551.702128</td>\n",
       "      <td>153.115853</td>\n",
       "      <td>93.0</td>\n",
       "      <td>1.0</td>\n",
       "      <td>0.0</td>\n",
       "      <td>538.760464</td>\n",
       "      <td>...</td>\n",
       "      <td>-61.0</td>\n",
       "      <td>20.0</td>\n",
       "      <td>49068671.0</td>\n",
       "      <td>0.0</td>\n",
       "      <td>0.0</td>\n",
       "      <td>1.0</td>\n",
       "      <td>1.000000</td>\n",
       "      <td>49068609.0</td>\n",
       "      <td>1.0</td>\n",
       "      <td>1.000000</td>\n",
       "    </tr>\n",
       "  </tbody>\n",
       "</table>\n",
       "<p>5 rows × 43 columns</p>\n",
       "</div>"
      ],
      "text/plain": [
       "      Ill300x.GT  Ill300x.alt_alnScore_mean  Ill300x.alt_alnScore_std  \\\n",
       "1719        -1.0                   0.000000                  0.000000   \n",
       "1832        -1.0                 574.058824                 11.997405   \n",
       "1665         0.0                 580.333333                 16.499158   \n",
       "703          1.0                 584.590909                  7.246164   \n",
       "399          1.0                 570.063830                 11.188718   \n",
       "\n",
       "      Ill300x.alt_count  Ill300x.alt_insertSize_mean  \\\n",
       "1719                0.0                     0.000000   \n",
       "1832               17.0                  1123.882353   \n",
       "1665                3.0                  1023.666667   \n",
       "703               264.0                   626.087121   \n",
       "399                94.0                   551.702128   \n",
       "\n",
       "      Ill300x.alt_insertSize_std  Ill300x.alt_reason_alignmentScore  \\\n",
       "1719                    0.000000                                0.0   \n",
       "1832                  107.331747                                0.0   \n",
       "1665                  290.585998                                1.0   \n",
       "703                   158.911556                               72.0   \n",
       "399                   153.115853                               93.0   \n",
       "\n",
       "      Ill300x.alt_reason_insertSizeScore  Ill300x.alt_reason_orientation  \\\n",
       "1719                                 0.0                             0.0   \n",
       "1832                                17.0                             0.0   \n",
       "1665                                 2.0                             0.0   \n",
       "703                                192.0                             0.0   \n",
       "399                                  1.0                             0.0   \n",
       "\n",
       "      Ill300x.amb_alnScore_mean      ...           Size  chrom          end  \\\n",
       "1719                 542.212972      ...          -24.0   23.0    8387067.0   \n",
       "1832                 554.827071      ...         -171.0   10.0   39079823.0   \n",
       "1665                 532.687933      ...          -44.0    8.0  119145254.0   \n",
       "703                  519.001213      ...       -18511.0    8.0   24990943.0   \n",
       "399                  538.760464      ...          -61.0   20.0   49068671.0   \n",
       "\n",
       "      refN_cnt  refN_pct  segdup_cnt  segdup_pct        start  tandemrep_cnt  \\\n",
       "1719       0.0       0.0         0.0    0.000000    8387042.0            1.0   \n",
       "1832       0.0       0.0         1.0    1.000000   39079652.0            0.0   \n",
       "1665       0.0       0.0         0.0    0.000000  119145209.0            1.0   \n",
       "703        0.0       0.0         1.0    0.012425   24972432.0           47.0   \n",
       "399        0.0       0.0         1.0    1.000000   49068609.0            1.0   \n",
       "\n",
       "      tandemrep_pct  \n",
       "1719       1.000000  \n",
       "1832       0.000000  \n",
       "1665       1.000000  \n",
       "703        0.067744  \n",
       "399        1.000000  \n",
       "\n",
       "[5 rows x 43 columns]"
      ]
     },
     "execution_count": 24,
     "metadata": {},
     "output_type": "execute_result"
    }
   ],
   "source": [
    "# Add original labels and predicted labels back to the original dataframe\n",
    "df_Xtest = pd.DataFrame(X_test)\n",
    "df_Xtest.head()"
   ]
  },
  {
   "cell_type": "code",
   "execution_count": 25,
   "metadata": {
    "collapsed": true
   },
   "outputs": [],
   "source": [
    "labels = pd.DataFrame(y_test)"
   ]
  },
  {
   "cell_type": "code",
   "execution_count": 26,
   "metadata": {
    "collapsed": true
   },
   "outputs": [],
   "source": [
    "df_Xtest['predicted_label'] = pred\n",
    "df_Xtest['Label'] = df_train['Label']\n",
    "df_Xtest['chrom'] = df_train['chrom']\n",
    "df_Xtest['start'] = df_train['start']\n",
    "df_Xtest['end'] = df_train['end']\n",
    "# df_Xtest['Y_test'] = labels"
   ]
  },
  {
   "cell_type": "code",
   "execution_count": 27,
   "metadata": {},
   "outputs": [
    {
     "data": {
      "text/plain": [
       "0    307\n",
       "1    233\n",
       "2    213\n",
       "dtype: int64"
      ]
     },
     "execution_count": 27,
     "metadata": {},
     "output_type": "execute_result"
    }
   ],
   "source": [
    "pd.value_counts(df_Xtest['Label'].values, sort=False)"
   ]
  },
  {
   "cell_type": "code",
   "execution_count": 28,
   "metadata": {},
   "outputs": [
    {
     "data": {
      "text/plain": [
       "0.0    313\n",
       "2.0    189\n",
       "1.0    251\n",
       "dtype: int64"
      ]
     },
     "execution_count": 28,
     "metadata": {},
     "output_type": "execute_result"
    }
   ],
   "source": [
    "pd.value_counts(df_Xtest['predicted_label'].values, sort=False)"
   ]
  },
  {
   "cell_type": "code",
   "execution_count": 29,
   "metadata": {},
   "outputs": [
    {
     "name": "stdout",
     "output_type": "stream",
     "text": [
      "[[253   9  45]\n",
      " [  2 215  16]\n",
      " [ 58  27 128]]\n"
     ]
    }
   ],
   "source": [
    "from sklearn.metrics import confusion_matrix\n",
    "ytest = df_Xtest['Label']\n",
    "predict = df_Xtest['predicted_label']\n",
    "print(confusion_matrix(ytest, predict))"
   ]
  },
  {
   "cell_type": "code",
   "execution_count": 30,
   "metadata": {
    "collapsed": true
   },
   "outputs": [],
   "source": [
    "df_Xtest['Label'].replace(0, 'Homozygous_Reference', inplace=True)\n",
    "df_Xtest['Label'].replace(1, 'Exact_Match', inplace=True)\n",
    "df_Xtest['Label'].replace(2, 'Inaccurate_Call', inplace=True)\n",
    "df_Xtest['predicted_label'].replace(0.0, 'Homozygous_Reference', inplace=True)\n",
    "df_Xtest['predicted_label'].replace(1.0, 'Exact_Match', inplace=True)\n",
    "df_Xtest['predicted_label'].replace(2.0, 'Inaccurate_Call', inplace=True)"
   ]
  },
  {
   "cell_type": "code",
   "execution_count": 31,
   "metadata": {},
   "outputs": [
    {
     "data": {
      "text/html": [
       "<div>\n",
       "<table border=\"1\" class=\"dataframe\">\n",
       "  <thead>\n",
       "    <tr style=\"text-align: right;\">\n",
       "      <th>Predicted</th>\n",
       "      <th>Exact_Match</th>\n",
       "      <th>Homozygous_Reference</th>\n",
       "      <th>Inaccurate_Call</th>\n",
       "      <th>All</th>\n",
       "    </tr>\n",
       "    <tr>\n",
       "      <th>True</th>\n",
       "      <th></th>\n",
       "      <th></th>\n",
       "      <th></th>\n",
       "      <th></th>\n",
       "    </tr>\n",
       "  </thead>\n",
       "  <tbody>\n",
       "    <tr>\n",
       "      <th>Exact_Match</th>\n",
       "      <td>215</td>\n",
       "      <td>2</td>\n",
       "      <td>16</td>\n",
       "      <td>233</td>\n",
       "    </tr>\n",
       "    <tr>\n",
       "      <th>Homozygous_Reference</th>\n",
       "      <td>9</td>\n",
       "      <td>253</td>\n",
       "      <td>45</td>\n",
       "      <td>307</td>\n",
       "    </tr>\n",
       "    <tr>\n",
       "      <th>Inaccurate_Call</th>\n",
       "      <td>27</td>\n",
       "      <td>58</td>\n",
       "      <td>128</td>\n",
       "      <td>213</td>\n",
       "    </tr>\n",
       "    <tr>\n",
       "      <th>All</th>\n",
       "      <td>251</td>\n",
       "      <td>313</td>\n",
       "      <td>189</td>\n",
       "      <td>753</td>\n",
       "    </tr>\n",
       "  </tbody>\n",
       "</table>\n",
       "</div>"
      ],
      "text/plain": [
       "Predicted             Exact_Match  Homozygous_Reference  Inaccurate_Call  All\n",
       "True                                                                         \n",
       "Exact_Match                   215                     2               16  233\n",
       "Homozygous_Reference            9                   253               45  307\n",
       "Inaccurate_Call                27                    58              128  213\n",
       "All                           251                   313              189  753"
      ]
     },
     "execution_count": 31,
     "metadata": {},
     "output_type": "execute_result"
    }
   ],
   "source": [
    "pd.crosstab(ytest, predict, rownames=['True'], colnames=['Predicted'], margins=True)"
   ]
  },
  {
   "cell_type": "code",
   "execution_count": 32,
   "metadata": {},
   "outputs": [
    {
     "name": "stdout",
     "output_type": "stream",
     "text": [
      "                      precision    recall  f1-score   support\n",
      "\n",
      "         Exact_Match       0.92      0.86      0.89       251\n",
      "Homozygous_Reference       0.82      0.81      0.82       313\n",
      "     Inaccurate_Call       0.60      0.68      0.64       189\n",
      "\n",
      "         avg / total       0.80      0.79      0.80       753\n",
      "\n"
     ]
    }
   ],
   "source": [
    "from sklearn.metrics import classification_report\n",
    "print(classification_report(predict,ytest))"
   ]
  },
  {
   "cell_type": "markdown",
   "metadata": {},
   "source": [
    "***\n",
    "Predict\n",
    "***"
   ]
  },
  {
   "cell_type": "markdown",
   "metadata": {},
   "source": [
    "Description:\n",
    "\n",
    "   * In the [previous section](#machine_learning) the model was trained on svanalyzer data.\n",
    "   **FYI**: [see description below of the SVanalyzer data](#svan_2)\n",
    "       * The model was trained using [train/test split](#train_test) where 70% of the data was used to train the model and the model performance was determined by predicting labels for the remaining 30% of the data\n",
    "       * Reminder: The labels for this training set and the following [prediction step](#prediction_step) are:\n",
    "           * Exact Match (1)\n",
    "           * Homozygous Reference (0)\n",
    "           * Inaccurate Call (2)\n",
    "           \n",
    "   * The trained model is used in the following section to predict labels for 5000 randomly selected Deletions [these datapoints were randomly selected from [union_170509_refalt.sort.vcf](ftp://ftp-trace.ncbi.nlm.nih.gov/giab/ftp/data/AshkenazimTrio/analysis/NIST_UnionSVs_05092017/)]\n",
    "   \n",
    "   "
   ]
  },
  {
   "cell_type": "markdown",
   "metadata": {},
   "source": [
    "<a id='svan_2'></a>\n",
    "* **Reminder - SVanalyzer data description:** \n",
    "     * **1000 Exact Match**: 1000 datapoints were randomly selected from the following [svanalyzer_union_170509_v0.3.0b.vcf](ftp://ftp-trace.ncbi.nlm.nih.gov/giab/ftp/data/AshkenazimTrio/analysis/NIST_UnionSVs_05092017/Preliminary_Integrations_v0.3.0/)\n",
    "     * **1000 Homozygous Reference**: 1000 datapoints were randomly selected from the following [svanalyzer_union_170509_v0.3.0b.vcf](ftp://ftp-trace.ncbi.nlm.nih.gov/giab/ftp/data/AshkenazimTrio/analysis/NIST_UnionSVs_05092017/Preliminary_Integrations_v0.3.0/)\n",
    "     * **1000 Inaccurate Calls**: 1000 datapoints were randomly selected from the following\n",
    "[svanalyzer_union_170509_refalt.2.2.2.clustered.uniquecalls.vcf](ftp://ftp-trace.ncbi.nlm.nih.gov/giab/ftp/data/AshkenazimTrio/analysis/NIST_UnionSVs_05092017/Preliminary_Integrations_v0.3.0/)\n",
    "   \n",
    "   * Source of Features: svviz, GA4GH [tandem repeat, segmental duplications, refN], R analysis [consensus genotype, GTsup]   \n",
    "   "
   ]
  },
  {
   "cell_type": "markdown",
   "metadata": {},
   "source": [
    "** Load Data **"
   ]
  },
  {
   "cell_type": "code",
   "execution_count": 33,
   "metadata": {
    "collapsed": true
   },
   "outputs": [],
   "source": [
    "X2 = df_test"
   ]
  },
  {
   "cell_type": "markdown",
   "metadata": {},
   "source": [
    "** Impute missing values using KNN **"
   ]
  },
  {
   "cell_type": "code",
   "execution_count": 34,
   "metadata": {},
   "outputs": [
    {
     "name": "stdout",
     "output_type": "stream",
     "text": [
      "Imputing row 1/3945 with 2 missing, elapsed time: 5.122\n",
      "Imputing row 101/3945 with 2 missing, elapsed time: 5.134\n",
      "Imputing row 201/3945 with 2 missing, elapsed time: 5.145\n",
      "Imputing row 301/3945 with 2 missing, elapsed time: 5.157\n",
      "Imputing row 401/3945 with 2 missing, elapsed time: 5.168\n",
      "Imputing row 501/3945 with 2 missing, elapsed time: 5.179\n",
      "Imputing row 601/3945 with 2 missing, elapsed time: 5.191\n",
      "Imputing row 701/3945 with 2 missing, elapsed time: 5.203\n",
      "Imputing row 801/3945 with 2 missing, elapsed time: 5.214\n",
      "Imputing row 901/3945 with 2 missing, elapsed time: 5.226\n",
      "Imputing row 1001/3945 with 2 missing, elapsed time: 5.237\n",
      "Imputing row 1101/3945 with 2 missing, elapsed time: 5.249\n",
      "Imputing row 1201/3945 with 2 missing, elapsed time: 5.260\n",
      "Imputing row 1301/3945 with 2 missing, elapsed time: 5.272\n",
      "Imputing row 1401/3945 with 2 missing, elapsed time: 5.283\n",
      "Imputing row 1501/3945 with 2 missing, elapsed time: 5.295\n",
      "Imputing row 1601/3945 with 1 missing, elapsed time: 5.305\n",
      "Imputing row 1701/3945 with 1 missing, elapsed time: 5.311\n",
      "Imputing row 1801/3945 with 1 missing, elapsed time: 5.317\n",
      "Imputing row 1901/3945 with 1 missing, elapsed time: 5.323\n",
      "Imputing row 2001/3945 with 1 missing, elapsed time: 5.330\n",
      "Imputing row 2101/3945 with 1 missing, elapsed time: 5.338\n",
      "Imputing row 2201/3945 with 1 missing, elapsed time: 5.344\n",
      "Imputing row 2301/3945 with 1 missing, elapsed time: 5.350\n",
      "Imputing row 2401/3945 with 2 missing, elapsed time: 5.358\n",
      "Imputing row 2501/3945 with 2 missing, elapsed time: 5.369\n",
      "Imputing row 2601/3945 with 2 missing, elapsed time: 5.380\n",
      "Imputing row 2701/3945 with 2 missing, elapsed time: 5.392\n",
      "Imputing row 2801/3945 with 2 missing, elapsed time: 5.403\n",
      "Imputing row 2901/3945 with 2 missing, elapsed time: 5.414\n",
      "Imputing row 3001/3945 with 2 missing, elapsed time: 5.426\n",
      "Imputing row 3101/3945 with 2 missing, elapsed time: 5.437\n",
      "Imputing row 3201/3945 with 0 missing, elapsed time: 5.442\n",
      "Imputing row 3301/3945 with 0 missing, elapsed time: 5.443\n",
      "Imputing row 3401/3945 with 0 missing, elapsed time: 5.443\n",
      "Imputing row 3501/3945 with 0 missing, elapsed time: 5.444\n",
      "Imputing row 3601/3945 with 0 missing, elapsed time: 5.445\n",
      "Imputing row 3701/3945 with 0 missing, elapsed time: 5.445\n",
      "Imputing row 3801/3945 with 0 missing, elapsed time: 5.446\n",
      "Imputing row 3901/3945 with 0 missing, elapsed time: 5.446\n"
     ]
    }
   ],
   "source": [
    "#Convert dataframe to matrix\n",
    "X2=X2.as_matrix()\n",
    "\n",
    "#Imput missing values from three closest observations\n",
    "X2_imputed=KNN(k=3).complete(X2)\n",
    "X2=pd.DataFrame(X2_imputed)"
   ]
  },
  {
   "cell_type": "code",
   "execution_count": 35,
   "metadata": {},
   "outputs": [
    {
     "data": {
      "text/html": [
       "<div>\n",
       "<table border=\"1\" class=\"dataframe\">\n",
       "  <thead>\n",
       "    <tr style=\"text-align: right;\">\n",
       "      <th></th>\n",
       "      <th>chrom</th>\n",
       "      <th>start</th>\n",
       "      <th>end</th>\n",
       "      <th>Size</th>\n",
       "      <th>refN_cnt</th>\n",
       "      <th>refN_pct</th>\n",
       "      <th>segdup_cnt</th>\n",
       "      <th>segdup_pct</th>\n",
       "      <th>tandemrep_cnt</th>\n",
       "      <th>tandemrep_pct</th>\n",
       "      <th>...</th>\n",
       "      <th>Ill300x.amb_reason_orientation_orientation</th>\n",
       "      <th>Ill300x.amb_reason_same_scores</th>\n",
       "      <th>Ill300x.ref_alnScore_mean</th>\n",
       "      <th>Ill300x.ref_alnScore_std</th>\n",
       "      <th>Ill300x.ref_count</th>\n",
       "      <th>Ill300x.ref_insertSize_mean</th>\n",
       "      <th>Ill300x.ref_insertSize_std</th>\n",
       "      <th>Ill300x.ref_reason_alignmentScore</th>\n",
       "      <th>Ill300x.ref_reason_insertSizeScore</th>\n",
       "      <th>Ill300x.ref_reason_orientation</th>\n",
       "    </tr>\n",
       "  </thead>\n",
       "  <tbody>\n",
       "    <tr>\n",
       "      <th>0</th>\n",
       "      <td>1.0</td>\n",
       "      <td>37568322.0</td>\n",
       "      <td>37568587.0</td>\n",
       "      <td>-115.0</td>\n",
       "      <td>0.0</td>\n",
       "      <td>0.0</td>\n",
       "      <td>0.0</td>\n",
       "      <td>0.000000</td>\n",
       "      <td>3.0</td>\n",
       "      <td>0.818868</td>\n",
       "      <td>...</td>\n",
       "      <td>8.0</td>\n",
       "      <td>12.0</td>\n",
       "      <td>569.127329</td>\n",
       "      <td>22.032287</td>\n",
       "      <td>322.0</td>\n",
       "      <td>562.838509</td>\n",
       "      <td>148.982654</td>\n",
       "      <td>275.0</td>\n",
       "      <td>0.0</td>\n",
       "      <td>47.0</td>\n",
       "    </tr>\n",
       "    <tr>\n",
       "      <th>1</th>\n",
       "      <td>1.0</td>\n",
       "      <td>112835104.0</td>\n",
       "      <td>112837661.0</td>\n",
       "      <td>-2534.0</td>\n",
       "      <td>0.0</td>\n",
       "      <td>0.0</td>\n",
       "      <td>1.0</td>\n",
       "      <td>0.890888</td>\n",
       "      <td>6.0</td>\n",
       "      <td>0.460305</td>\n",
       "      <td>...</td>\n",
       "      <td>4.0</td>\n",
       "      <td>0.0</td>\n",
       "      <td>571.368421</td>\n",
       "      <td>10.032634</td>\n",
       "      <td>19.0</td>\n",
       "      <td>560.157895</td>\n",
       "      <td>171.810564</td>\n",
       "      <td>19.0</td>\n",
       "      <td>0.0</td>\n",
       "      <td>0.0</td>\n",
       "    </tr>\n",
       "    <tr>\n",
       "      <th>2</th>\n",
       "      <td>1.0</td>\n",
       "      <td>1092675.0</td>\n",
       "      <td>1092715.0</td>\n",
       "      <td>-40.0</td>\n",
       "      <td>0.0</td>\n",
       "      <td>0.0</td>\n",
       "      <td>0.0</td>\n",
       "      <td>0.000000</td>\n",
       "      <td>1.0</td>\n",
       "      <td>1.000000</td>\n",
       "      <td>...</td>\n",
       "      <td>4.0</td>\n",
       "      <td>37.0</td>\n",
       "      <td>578.640000</td>\n",
       "      <td>18.044124</td>\n",
       "      <td>25.0</td>\n",
       "      <td>571.640000</td>\n",
       "      <td>148.029965</td>\n",
       "      <td>25.0</td>\n",
       "      <td>0.0</td>\n",
       "      <td>0.0</td>\n",
       "    </tr>\n",
       "  </tbody>\n",
       "</table>\n",
       "<p>3 rows × 43 columns</p>\n",
       "</div>"
      ],
      "text/plain": [
       "   chrom        start          end    Size  refN_cnt  refN_pct  segdup_cnt  \\\n",
       "0    1.0   37568322.0   37568587.0  -115.0       0.0       0.0         0.0   \n",
       "1    1.0  112835104.0  112837661.0 -2534.0       0.0       0.0         1.0   \n",
       "2    1.0    1092675.0    1092715.0   -40.0       0.0       0.0         0.0   \n",
       "\n",
       "   segdup_pct  tandemrep_cnt  tandemrep_pct               ...                \\\n",
       "0    0.000000            3.0       0.818868               ...                 \n",
       "1    0.890888            6.0       0.460305               ...                 \n",
       "2    0.000000            1.0       1.000000               ...                 \n",
       "\n",
       "   Ill300x.amb_reason_orientation_orientation  Ill300x.amb_reason_same_scores  \\\n",
       "0                                         8.0                            12.0   \n",
       "1                                         4.0                             0.0   \n",
       "2                                         4.0                            37.0   \n",
       "\n",
       "   Ill300x.ref_alnScore_mean  Ill300x.ref_alnScore_std  Ill300x.ref_count  \\\n",
       "0                 569.127329                 22.032287              322.0   \n",
       "1                 571.368421                 10.032634               19.0   \n",
       "2                 578.640000                 18.044124               25.0   \n",
       "\n",
       "   Ill300x.ref_insertSize_mean  Ill300x.ref_insertSize_std  \\\n",
       "0                   562.838509                  148.982654   \n",
       "1                   560.157895                  171.810564   \n",
       "2                   571.640000                  148.029965   \n",
       "\n",
       "   Ill300x.ref_reason_alignmentScore  Ill300x.ref_reason_insertSizeScore  \\\n",
       "0                              275.0                                 0.0   \n",
       "1                               19.0                                 0.0   \n",
       "2                               25.0                                 0.0   \n",
       "\n",
       "   Ill300x.ref_reason_orientation  \n",
       "0                            47.0  \n",
       "1                             0.0  \n",
       "2                             0.0  \n",
       "\n",
       "[3 rows x 43 columns]"
      ]
     },
     "execution_count": 35,
     "metadata": {},
     "output_type": "execute_result"
    }
   ],
   "source": [
    "dftest_header = list(df_test.columns.values)\n",
    "X2.columns = dftest_header\n",
    "X2.head(3)"
   ]
  },
  {
   "cell_type": "code",
   "execution_count": 36,
   "metadata": {},
   "outputs": [
    {
     "data": {
      "text/html": [
       "<div>\n",
       "<table border=\"1\" class=\"dataframe\">\n",
       "  <thead>\n",
       "    <tr style=\"text-align: right;\">\n",
       "      <th></th>\n",
       "      <th>chrom</th>\n",
       "      <th>start</th>\n",
       "      <th>end</th>\n",
       "      <th>Size</th>\n",
       "      <th>refN_cnt</th>\n",
       "      <th>refN_pct</th>\n",
       "      <th>segdup_cnt</th>\n",
       "      <th>segdup_pct</th>\n",
       "      <th>tandemrep_cnt</th>\n",
       "      <th>tandemrep_pct</th>\n",
       "      <th>...</th>\n",
       "      <th>Ill300x.amb_reason_orientation_orientation</th>\n",
       "      <th>Ill300x.amb_reason_same_scores</th>\n",
       "      <th>Ill300x.ref_alnScore_mean</th>\n",
       "      <th>Ill300x.ref_alnScore_std</th>\n",
       "      <th>Ill300x.ref_count</th>\n",
       "      <th>Ill300x.ref_insertSize_mean</th>\n",
       "      <th>Ill300x.ref_insertSize_std</th>\n",
       "      <th>Ill300x.ref_reason_alignmentScore</th>\n",
       "      <th>Ill300x.ref_reason_insertSizeScore</th>\n",
       "      <th>Ill300x.ref_reason_orientation</th>\n",
       "    </tr>\n",
       "  </thead>\n",
       "  <tbody>\n",
       "    <tr>\n",
       "      <th>0</th>\n",
       "      <td>1.0</td>\n",
       "      <td>37568322.0</td>\n",
       "      <td>37568587.0</td>\n",
       "      <td>-115.0</td>\n",
       "      <td>0.0</td>\n",
       "      <td>0.0</td>\n",
       "      <td>0.0</td>\n",
       "      <td>0.000000</td>\n",
       "      <td>3.0</td>\n",
       "      <td>0.818868</td>\n",
       "      <td>...</td>\n",
       "      <td>8.0</td>\n",
       "      <td>12.0</td>\n",
       "      <td>569.127329</td>\n",
       "      <td>22.032287</td>\n",
       "      <td>322.0</td>\n",
       "      <td>562.838509</td>\n",
       "      <td>148.982654</td>\n",
       "      <td>275.0</td>\n",
       "      <td>0.0</td>\n",
       "      <td>47.0</td>\n",
       "    </tr>\n",
       "    <tr>\n",
       "      <th>1</th>\n",
       "      <td>1.0</td>\n",
       "      <td>112835104.0</td>\n",
       "      <td>112837661.0</td>\n",
       "      <td>-2534.0</td>\n",
       "      <td>0.0</td>\n",
       "      <td>0.0</td>\n",
       "      <td>1.0</td>\n",
       "      <td>0.890888</td>\n",
       "      <td>6.0</td>\n",
       "      <td>0.460305</td>\n",
       "      <td>...</td>\n",
       "      <td>4.0</td>\n",
       "      <td>0.0</td>\n",
       "      <td>571.368421</td>\n",
       "      <td>10.032634</td>\n",
       "      <td>19.0</td>\n",
       "      <td>560.157895</td>\n",
       "      <td>171.810564</td>\n",
       "      <td>19.0</td>\n",
       "      <td>0.0</td>\n",
       "      <td>0.0</td>\n",
       "    </tr>\n",
       "    <tr>\n",
       "      <th>2</th>\n",
       "      <td>1.0</td>\n",
       "      <td>1092675.0</td>\n",
       "      <td>1092715.0</td>\n",
       "      <td>-40.0</td>\n",
       "      <td>0.0</td>\n",
       "      <td>0.0</td>\n",
       "      <td>0.0</td>\n",
       "      <td>0.000000</td>\n",
       "      <td>1.0</td>\n",
       "      <td>1.000000</td>\n",
       "      <td>...</td>\n",
       "      <td>4.0</td>\n",
       "      <td>37.0</td>\n",
       "      <td>578.640000</td>\n",
       "      <td>18.044124</td>\n",
       "      <td>25.0</td>\n",
       "      <td>571.640000</td>\n",
       "      <td>148.029965</td>\n",
       "      <td>25.0</td>\n",
       "      <td>0.0</td>\n",
       "      <td>0.0</td>\n",
       "    </tr>\n",
       "  </tbody>\n",
       "</table>\n",
       "<p>3 rows × 43 columns</p>\n",
       "</div>"
      ],
      "text/plain": [
       "   chrom        start          end    Size  refN_cnt  refN_pct  segdup_cnt  \\\n",
       "0    1.0   37568322.0   37568587.0  -115.0       0.0       0.0         0.0   \n",
       "1    1.0  112835104.0  112837661.0 -2534.0       0.0       0.0         1.0   \n",
       "2    1.0    1092675.0    1092715.0   -40.0       0.0       0.0         0.0   \n",
       "\n",
       "   segdup_pct  tandemrep_cnt  tandemrep_pct               ...                \\\n",
       "0    0.000000            3.0       0.818868               ...                 \n",
       "1    0.890888            6.0       0.460305               ...                 \n",
       "2    0.000000            1.0       1.000000               ...                 \n",
       "\n",
       "   Ill300x.amb_reason_orientation_orientation  Ill300x.amb_reason_same_scores  \\\n",
       "0                                         8.0                            12.0   \n",
       "1                                         4.0                             0.0   \n",
       "2                                         4.0                            37.0   \n",
       "\n",
       "   Ill300x.ref_alnScore_mean  Ill300x.ref_alnScore_std  Ill300x.ref_count  \\\n",
       "0                 569.127329                 22.032287              322.0   \n",
       "1                 571.368421                 10.032634               19.0   \n",
       "2                 578.640000                 18.044124               25.0   \n",
       "\n",
       "   Ill300x.ref_insertSize_mean  Ill300x.ref_insertSize_std  \\\n",
       "0                   562.838509                  148.982654   \n",
       "1                   560.157895                  171.810564   \n",
       "2                   571.640000                  148.029965   \n",
       "\n",
       "   Ill300x.ref_reason_alignmentScore  Ill300x.ref_reason_insertSizeScore  \\\n",
       "0                              275.0                                 0.0   \n",
       "1                               19.0                                 0.0   \n",
       "2                               25.0                                 0.0   \n",
       "\n",
       "   Ill300x.ref_reason_orientation  \n",
       "0                            47.0  \n",
       "1                             0.0  \n",
       "2                             0.0  \n",
       "\n",
       "[3 rows x 43 columns]"
      ]
     },
     "execution_count": 36,
     "metadata": {},
     "output_type": "execute_result"
    }
   ],
   "source": [
    "X3 = pd.DataFrame()\n",
    "X3 = X2\n",
    "X3.head(3)"
   ]
  },
  {
   "cell_type": "code",
   "execution_count": 37,
   "metadata": {
    "collapsed": true
   },
   "outputs": [],
   "source": [
    "# Order features\n",
    "X5 = X2.reindex_axis(sorted(X2.columns), axis=1)"
   ]
  },
  {
   "cell_type": "markdown",
   "metadata": {},
   "source": [
    "<a id='prediction_step'></a>"
   ]
  },
  {
   "cell_type": "code",
   "execution_count": 38,
   "metadata": {
    "collapsed": true
   },
   "outputs": [],
   "source": [
    "pred = model.predict(X5)"
   ]
  },
  {
   "cell_type": "code",
   "execution_count": 39,
   "metadata": {
    "collapsed": true
   },
   "outputs": [],
   "source": [
    "pred_prob = model.predict_proba(X5)"
   ]
  },
  {
   "cell_type": "code",
   "execution_count": 40,
   "metadata": {
    "collapsed": true
   },
   "outputs": [],
   "source": [
    "X5['predicted_label'] = pred\n",
    "X5['chrom'] = df_test_2['chrom']\n",
    "X5['start'] = df_test_2['start']\n",
    "X5['end'] = df_test_2['end']\n",
    "X5['Size'] = df_test_2['Size']\n",
    "X5['GTcons'] = df_test_2['GTcons']\n",
    "X5['GTsupp'] = df_test_2['GTsupp']\n",
    "X5['GTconswithoutIll300x.GT'] = df_test_2['GTconswithoutIll300x.GT']"
   ]
  },
  {
   "cell_type": "code",
   "execution_count": 41,
   "metadata": {
    "collapsed": true
   },
   "outputs": [],
   "source": [
    "X6 = pd.concat([X5, pd.DataFrame(pred_prob, columns=['1','2','3'])])"
   ]
  },
  {
   "cell_type": "code",
   "execution_count": null,
   "metadata": {
    "collapsed": true
   },
   "outputs": [],
   "source": [
    "X6.to_csv('/Volumes/lesleydata/SVanalyzer_ML/Oct122017_Revised_R/summary_plots/data/preliminary_df/300x_pred_prob_DEL_SVanalyzer_revised_EMHRIC.csv', index=False)"
   ]
  },
  {
   "cell_type": "code",
   "execution_count": null,
   "metadata": {
    "collapsed": true
   },
   "outputs": [],
   "source": [
    "#Note: Reformat X6 csv"
   ]
  },
  {
   "cell_type": "code",
   "execution_count": 42,
   "metadata": {
    "collapsed": true
   },
   "outputs": [],
   "source": [
    "X6 = pd.read_csv('/Volumes/lesleydata/SVanalyzer_ML/Oct122017_Revised_R/summary_plots/data/preliminary_df/300x_pred_prob_DEL_SVanalyzer_revised_EMHRIC.csv')"
   ]
  },
  {
   "cell_type": "code",
   "execution_count": 43,
   "metadata": {
    "collapsed": true
   },
   "outputs": [],
   "source": [
    "X6.rename(columns={'1': 'Homozygous_Reference_SVan_predprob_300X'}, inplace=True)\n",
    "X6.rename(columns={'2': 'Exact_Match_predprob_300X'}, inplace=True)\n",
    "X6.rename(columns={'3': 'Inaccurate_Call_predprob_300X'}, inplace=True)\n",
    "X6.rename(columns={'predicted_label': '300x_predicted_EMHRIC_label'}, inplace=True)"
   ]
  },
  {
   "cell_type": "code",
   "execution_count": null,
   "metadata": {},
   "outputs": [],
   "source": [
    "X6.head(3)"
   ]
  },
  {
   "cell_type": "code",
   "execution_count": null,
   "metadata": {
    "collapsed": true
   },
   "outputs": [],
   "source": [
    "X6.to_csv('/Volumes/lesleydata/SVanalyzer_ML/Oct122017_Revised_R/summary_plots/data/300x_final_df_DEL_SVanalyzer_revised_EMHRIC.csv', index=False)"
   ]
  },
  {
   "cell_type": "markdown",
   "metadata": {},
   "source": [
    "***\n",
    "Label Analysis\n",
    "***"
   ]
  },
  {
   "cell_type": "markdown",
   "metadata": {},
   "source": [
    "Description:\n",
    "  * Comparison of model predicted labels [Exact Match, Homozygous Reference, Inaccurate Calls] to consensus genotype for the 5000 randomly selected datapoints from union_refalt.vcf for HG002 only"
   ]
  },
  {
   "cell_type": "code",
   "execution_count": 44,
   "metadata": {},
   "outputs": [
    {
     "name": "stdout",
     "output_type": "stream",
     "text": [
      "[[ 530   10  331]\n",
      " [  11 1926  225]\n",
      " [   2  861   49]]\n"
     ]
    }
   ],
   "source": [
    "from sklearn.metrics import confusion_matrix\n",
    "consensus_GT = X6['GTcons']\n",
    "predict = X6['300x_predicted_EMHRIC_label']\n",
    "print(confusion_matrix(consensus_GT, predict))"
   ]
  },
  {
   "cell_type": "code",
   "execution_count": 45,
   "metadata": {},
   "outputs": [
    {
     "name": "stdout",
     "output_type": "stream",
     "text": [
      "[[ 530   10  331]\n",
      " [  11 1926  225]\n",
      " [   2  861   49]]\n"
     ]
    }
   ],
   "source": [
    "from sklearn.metrics import confusion_matrix\n",
    "GT_without_XX = X6['GTconswithoutIll300x.GT']\n",
    "predict = X6['300x_predicted_EMHRIC_label']\n",
    "print(confusion_matrix(consensus_GT, predict))"
   ]
  },
  {
   "cell_type": "code",
   "execution_count": 46,
   "metadata": {},
   "outputs": [
    {
     "data": {
      "text/plain": [
       "0     871\n",
       "2     912\n",
       "1    2162\n",
       "dtype: int64"
      ]
     },
     "execution_count": 46,
     "metadata": {},
     "output_type": "execute_result"
    }
   ],
   "source": [
    "pd.value_counts(X6['GTconswithoutIll300x.GT'].values, sort=False)"
   ]
  },
  {
   "cell_type": "code",
   "execution_count": 47,
   "metadata": {},
   "outputs": [
    {
     "data": {
      "text/plain": [
       "0     871\n",
       "2     912\n",
       "1    2162\n",
       "dtype: int64"
      ]
     },
     "execution_count": 47,
     "metadata": {},
     "output_type": "execute_result"
    }
   ],
   "source": [
    "pd.value_counts(X6['GTcons'].values, sort=False)"
   ]
  },
  {
   "cell_type": "code",
   "execution_count": 48,
   "metadata": {
    "collapsed": true
   },
   "outputs": [],
   "source": [
    "X6['GTcons'].replace(-1, 'Unknown', inplace=True)\n",
    "X6['GTcons'].replace(0, 'Homozygous_Reference', inplace=True)\n",
    "X6['GTcons'].replace(1, 'Heterozygous_Variant', inplace=True)\n",
    "X6['GTcons'].replace(2, 'Homozygous_Variant', inplace=True)\n",
    "X6['300x_predicted_EMHRIC_label'].replace(0.0, 'Homozygous_Reference_SVan', inplace=True)\n",
    "X6['300x_predicted_EMHRIC_label'].replace(1.0, 'Exact_Match', inplace=True)\n",
    "X6['300x_predicted_EMHRIC_label'].replace(2.0, 'Inaccurate_Call', inplace=True)"
   ]
  },
  {
   "cell_type": "code",
   "execution_count": 49,
   "metadata": {
    "collapsed": true
   },
   "outputs": [],
   "source": [
    "X6['GTconswithoutIll300x.GT'].replace(-1, 'Unknown', inplace=True)\n",
    "X6['GTconswithoutIll300x.GT'].replace(0, 'Homozygous_Reference', inplace=True)\n",
    "X6['GTconswithoutIll300x.GT'].replace(1, 'Heterozygous_Variant', inplace=True)\n",
    "X6['GTconswithoutIll300x.GT'].replace(2, 'Homozygous_Variant', inplace=True)"
   ]
  },
  {
   "cell_type": "markdown",
   "metadata": {},
   "source": [
    "** Compare SVanalyzer Labels to GTcons **"
   ]
  },
  {
   "cell_type": "code",
   "execution_count": 50,
   "metadata": {},
   "outputs": [
    {
     "data": {
      "text/html": [
       "<div>\n",
       "<table border=\"1\" class=\"dataframe\">\n",
       "  <thead>\n",
       "    <tr style=\"text-align: right;\">\n",
       "      <th>SVanalyzer_Label</th>\n",
       "      <th>Exact_Match</th>\n",
       "      <th>Homozygous_Reference_SVan</th>\n",
       "      <th>Inaccurate_Call</th>\n",
       "      <th>All</th>\n",
       "    </tr>\n",
       "    <tr>\n",
       "      <th>GTcons</th>\n",
       "      <th></th>\n",
       "      <th></th>\n",
       "      <th></th>\n",
       "      <th></th>\n",
       "    </tr>\n",
       "  </thead>\n",
       "  <tbody>\n",
       "    <tr>\n",
       "      <th>Heterozygous_Variant</th>\n",
       "      <td>1926</td>\n",
       "      <td>11</td>\n",
       "      <td>225</td>\n",
       "      <td>2162</td>\n",
       "    </tr>\n",
       "    <tr>\n",
       "      <th>Homozygous_Reference</th>\n",
       "      <td>10</td>\n",
       "      <td>530</td>\n",
       "      <td>331</td>\n",
       "      <td>871</td>\n",
       "    </tr>\n",
       "    <tr>\n",
       "      <th>Homozygous_Variant</th>\n",
       "      <td>861</td>\n",
       "      <td>2</td>\n",
       "      <td>49</td>\n",
       "      <td>912</td>\n",
       "    </tr>\n",
       "    <tr>\n",
       "      <th>All</th>\n",
       "      <td>2797</td>\n",
       "      <td>543</td>\n",
       "      <td>605</td>\n",
       "      <td>3945</td>\n",
       "    </tr>\n",
       "  </tbody>\n",
       "</table>\n",
       "</div>"
      ],
      "text/plain": [
       "SVanalyzer_Label      Exact_Match  Homozygous_Reference_SVan  Inaccurate_Call  \\\n",
       "GTcons                                                                          \n",
       "Heterozygous_Variant         1926                         11              225   \n",
       "Homozygous_Reference           10                        530              331   \n",
       "Homozygous_Variant            861                          2               49   \n",
       "All                          2797                        543              605   \n",
       "\n",
       "SVanalyzer_Label       All  \n",
       "GTcons                      \n",
       "Heterozygous_Variant  2162  \n",
       "Homozygous_Reference   871  \n",
       "Homozygous_Variant     912  \n",
       "All                   3945  "
      ]
     },
     "execution_count": 50,
     "metadata": {},
     "output_type": "execute_result"
    }
   ],
   "source": [
    "pd.crosstab(consensus_GT, predict, rownames=['GTcons'], colnames=['SVanalyzer_Label'], margins=True)"
   ]
  },
  {
   "cell_type": "markdown",
   "metadata": {},
   "source": [
    "** Compare SVanalyzer Labels to LOO Consensus GT**"
   ]
  },
  {
   "cell_type": "code",
   "execution_count": 51,
   "metadata": {},
   "outputs": [
    {
     "data": {
      "text/html": [
       "<div>\n",
       "<table border=\"1\" class=\"dataframe\">\n",
       "  <thead>\n",
       "    <tr style=\"text-align: right;\">\n",
       "      <th>SVanalyzer_Label</th>\n",
       "      <th>Exact_Match</th>\n",
       "      <th>Homozygous_Reference_SVan</th>\n",
       "      <th>Inaccurate_Call</th>\n",
       "      <th>All</th>\n",
       "    </tr>\n",
       "    <tr>\n",
       "      <th>LOO_GT</th>\n",
       "      <th></th>\n",
       "      <th></th>\n",
       "      <th></th>\n",
       "      <th></th>\n",
       "    </tr>\n",
       "  </thead>\n",
       "  <tbody>\n",
       "    <tr>\n",
       "      <th>Heterozygous_Variant</th>\n",
       "      <td>1926</td>\n",
       "      <td>11</td>\n",
       "      <td>225</td>\n",
       "      <td>2162</td>\n",
       "    </tr>\n",
       "    <tr>\n",
       "      <th>Homozygous_Reference</th>\n",
       "      <td>10</td>\n",
       "      <td>530</td>\n",
       "      <td>331</td>\n",
       "      <td>871</td>\n",
       "    </tr>\n",
       "    <tr>\n",
       "      <th>Homozygous_Variant</th>\n",
       "      <td>861</td>\n",
       "      <td>2</td>\n",
       "      <td>49</td>\n",
       "      <td>912</td>\n",
       "    </tr>\n",
       "    <tr>\n",
       "      <th>All</th>\n",
       "      <td>2797</td>\n",
       "      <td>543</td>\n",
       "      <td>605</td>\n",
       "      <td>3945</td>\n",
       "    </tr>\n",
       "  </tbody>\n",
       "</table>\n",
       "</div>"
      ],
      "text/plain": [
       "SVanalyzer_Label      Exact_Match  Homozygous_Reference_SVan  Inaccurate_Call  \\\n",
       "LOO_GT                                                                          \n",
       "Heterozygous_Variant         1926                         11              225   \n",
       "Homozygous_Reference           10                        530              331   \n",
       "Homozygous_Variant            861                          2               49   \n",
       "All                          2797                        543              605   \n",
       "\n",
       "SVanalyzer_Label       All  \n",
       "LOO_GT                      \n",
       "Heterozygous_Variant  2162  \n",
       "Homozygous_Reference   871  \n",
       "Homozygous_Variant     912  \n",
       "All                   3945  "
      ]
     },
     "execution_count": 51,
     "metadata": {},
     "output_type": "execute_result"
    }
   ],
   "source": [
    "pd.crosstab(GT_without_XX, predict, rownames=['LOO_GT'], colnames=['SVanalyzer_Label'], margins=True)"
   ]
  },
  {
   "cell_type": "markdown",
   "metadata": {},
   "source": [
    "** High Confidence Label Analysis**\n",
    "* **Reminder:** The labels predicted by the model are the following svanalyzer labels:\n",
    "    * Homozygous Reference: 0 \n",
    "    * Exact Match: 1 \n",
    "    * Inaccurate Call: 2 \n",
    "* Here **high confidence labels** are the labels predicted by the model that were also assigned a predict probability of either 0.9 or 1\n",
    "* The following is an analysis of predicted svanalyzer labels with predict probability >0.9"
   ]
  },
  {
   "cell_type": "code",
   "execution_count": 52,
   "metadata": {
    "collapsed": true
   },
   "outputs": [],
   "source": [
    "high_conf_labels = X6[(X6['Homozygous_Reference_SVan_predprob_300X'] == 1) | (X6['Homozygous_Reference_SVan_predprob_300X'] == 0.9) | (X6['Exact_Match_predprob_300X'] == 1) | (X6['Exact_Match_predprob_300X'] == 0.9) | (X6['Inaccurate_Call_predprob_300X'] == 1) | (X6['Inaccurate_Call_predprob_300X'] == 0.9)]"
   ]
  },
  {
   "cell_type": "markdown",
   "metadata": {},
   "source": [
    "** Compare SVanalyzer Labels to GTcons **"
   ]
  },
  {
   "cell_type": "code",
   "execution_count": 53,
   "metadata": {
    "scrolled": true
   },
   "outputs": [
    {
     "data": {
      "text/html": [
       "<div>\n",
       "<table border=\"1\" class=\"dataframe\">\n",
       "  <thead>\n",
       "    <tr style=\"text-align: right;\">\n",
       "      <th>SVanalyzer_Labels</th>\n",
       "      <th>Exact_Match</th>\n",
       "      <th>Homozygous_Reference_SVan</th>\n",
       "      <th>Inaccurate_Call</th>\n",
       "      <th>All</th>\n",
       "    </tr>\n",
       "    <tr>\n",
       "      <th>Consensus_GT</th>\n",
       "      <th></th>\n",
       "      <th></th>\n",
       "      <th></th>\n",
       "      <th></th>\n",
       "    </tr>\n",
       "  </thead>\n",
       "  <tbody>\n",
       "    <tr>\n",
       "      <th>Heterozygous_Variant</th>\n",
       "      <td>1154</td>\n",
       "      <td>1</td>\n",
       "      <td>37</td>\n",
       "      <td>1192</td>\n",
       "    </tr>\n",
       "    <tr>\n",
       "      <th>Homozygous_Reference</th>\n",
       "      <td>0</td>\n",
       "      <td>182</td>\n",
       "      <td>52</td>\n",
       "      <td>234</td>\n",
       "    </tr>\n",
       "    <tr>\n",
       "      <th>Homozygous_Variant</th>\n",
       "      <td>584</td>\n",
       "      <td>0</td>\n",
       "      <td>4</td>\n",
       "      <td>588</td>\n",
       "    </tr>\n",
       "    <tr>\n",
       "      <th>All</th>\n",
       "      <td>1738</td>\n",
       "      <td>183</td>\n",
       "      <td>93</td>\n",
       "      <td>2014</td>\n",
       "    </tr>\n",
       "  </tbody>\n",
       "</table>\n",
       "</div>"
      ],
      "text/plain": [
       "SVanalyzer_Labels     Exact_Match  Homozygous_Reference_SVan  Inaccurate_Call  \\\n",
       "Consensus_GT                                                                    \n",
       "Heterozygous_Variant         1154                          1               37   \n",
       "Homozygous_Reference            0                        182               52   \n",
       "Homozygous_Variant            584                          0                4   \n",
       "All                          1738                        183               93   \n",
       "\n",
       "SVanalyzer_Labels      All  \n",
       "Consensus_GT                \n",
       "Heterozygous_Variant  1192  \n",
       "Homozygous_Reference   234  \n",
       "Homozygous_Variant     588  \n",
       "All                   2014  "
      ]
     },
     "execution_count": 53,
     "metadata": {},
     "output_type": "execute_result"
    }
   ],
   "source": [
    "consensus_GT = high_conf_labels['GTcons']\n",
    "predict = high_conf_labels['300x_predicted_EMHRIC_label']\n",
    "pd.crosstab(consensus_GT, predict, rownames=['Consensus_GT'], colnames=['SVanalyzer_Labels'], margins=True)"
   ]
  },
  {
   "cell_type": "markdown",
   "metadata": {},
   "source": [
    "** Compare SVanalyzer Labels to LOO Genotype **"
   ]
  },
  {
   "cell_type": "code",
   "execution_count": 54,
   "metadata": {
    "scrolled": true
   },
   "outputs": [
    {
     "data": {
      "text/html": [
       "<div>\n",
       "<table border=\"1\" class=\"dataframe\">\n",
       "  <thead>\n",
       "    <tr style=\"text-align: right;\">\n",
       "      <th>SVanalyzer_Labels</th>\n",
       "      <th>Exact_Match</th>\n",
       "      <th>Homozygous_Reference_SVan</th>\n",
       "      <th>Inaccurate_Call</th>\n",
       "      <th>All</th>\n",
       "    </tr>\n",
       "    <tr>\n",
       "      <th>Consensus_GT</th>\n",
       "      <th></th>\n",
       "      <th></th>\n",
       "      <th></th>\n",
       "      <th></th>\n",
       "    </tr>\n",
       "  </thead>\n",
       "  <tbody>\n",
       "    <tr>\n",
       "      <th>Heterozygous_Variant</th>\n",
       "      <td>1154</td>\n",
       "      <td>1</td>\n",
       "      <td>37</td>\n",
       "      <td>1192</td>\n",
       "    </tr>\n",
       "    <tr>\n",
       "      <th>Homozygous_Reference</th>\n",
       "      <td>0</td>\n",
       "      <td>182</td>\n",
       "      <td>52</td>\n",
       "      <td>234</td>\n",
       "    </tr>\n",
       "    <tr>\n",
       "      <th>Homozygous_Variant</th>\n",
       "      <td>584</td>\n",
       "      <td>0</td>\n",
       "      <td>4</td>\n",
       "      <td>588</td>\n",
       "    </tr>\n",
       "    <tr>\n",
       "      <th>All</th>\n",
       "      <td>1738</td>\n",
       "      <td>183</td>\n",
       "      <td>93</td>\n",
       "      <td>2014</td>\n",
       "    </tr>\n",
       "  </tbody>\n",
       "</table>\n",
       "</div>"
      ],
      "text/plain": [
       "SVanalyzer_Labels     Exact_Match  Homozygous_Reference_SVan  Inaccurate_Call  \\\n",
       "Consensus_GT                                                                    \n",
       "Heterozygous_Variant         1154                          1               37   \n",
       "Homozygous_Reference            0                        182               52   \n",
       "Homozygous_Variant            584                          0                4   \n",
       "All                          1738                        183               93   \n",
       "\n",
       "SVanalyzer_Labels      All  \n",
       "Consensus_GT                \n",
       "Heterozygous_Variant  1192  \n",
       "Homozygous_Reference   234  \n",
       "Homozygous_Variant     588  \n",
       "All                   2014  "
      ]
     },
     "execution_count": 54,
     "metadata": {},
     "output_type": "execute_result"
    }
   ],
   "source": [
    "consensus_GT = high_conf_labels['GTconswithoutIll300x.GT']\n",
    "predict = high_conf_labels['300x_predicted_EMHRIC_label']\n",
    "pd.crosstab(consensus_GT, predict, rownames=['Consensus_GT'], colnames=['SVanalyzer_Labels'], margins=True)"
   ]
  },
  {
   "cell_type": "markdown",
   "metadata": {},
   "source": [
    "***\n",
    "Graphs\n",
    "***"
   ]
  },
  {
   "cell_type": "markdown",
   "metadata": {},
   "source": [
    "** Exact Match **"
   ]
  },
  {
   "cell_type": "code",
   "execution_count": 55,
   "metadata": {
    "collapsed": true
   },
   "outputs": [],
   "source": [
    "em = X5['predicted_label'] == 1.0\n",
    "exact_match = X5[em]"
   ]
  },
  {
   "cell_type": "code",
   "execution_count": 56,
   "metadata": {},
   "outputs": [
    {
     "data": {
      "text/html": [
       "<div>\n",
       "<table border=\"1\" class=\"dataframe\">\n",
       "  <thead>\n",
       "    <tr style=\"text-align: right;\">\n",
       "      <th></th>\n",
       "      <th>Ill300x.GT</th>\n",
       "      <th>Ill300x.alt_alnScore_mean</th>\n",
       "      <th>Ill300x.alt_alnScore_std</th>\n",
       "      <th>Ill300x.alt_count</th>\n",
       "      <th>Ill300x.alt_insertSize_mean</th>\n",
       "      <th>Ill300x.alt_insertSize_std</th>\n",
       "      <th>Ill300x.alt_reason_alignmentScore</th>\n",
       "      <th>Ill300x.alt_reason_insertSizeScore</th>\n",
       "      <th>Ill300x.alt_reason_orientation</th>\n",
       "      <th>Ill300x.amb_alnScore_mean</th>\n",
       "      <th>...</th>\n",
       "      <th>refN_pct</th>\n",
       "      <th>segdup_cnt</th>\n",
       "      <th>segdup_pct</th>\n",
       "      <th>start</th>\n",
       "      <th>tandemrep_cnt</th>\n",
       "      <th>tandemrep_pct</th>\n",
       "      <th>predicted_label</th>\n",
       "      <th>GTcons</th>\n",
       "      <th>GTsupp</th>\n",
       "      <th>GTconswithoutIll300x.GT</th>\n",
       "    </tr>\n",
       "  </thead>\n",
       "  <tbody>\n",
       "    <tr>\n",
       "      <th>1</th>\n",
       "      <td>-1.0</td>\n",
       "      <td>578.830588</td>\n",
       "      <td>17.238521</td>\n",
       "      <td>425.0</td>\n",
       "      <td>670.637647</td>\n",
       "      <td>151.902478</td>\n",
       "      <td>67.0</td>\n",
       "      <td>358.0</td>\n",
       "      <td>0.0</td>\n",
       "      <td>530.886342</td>\n",
       "      <td>...</td>\n",
       "      <td>0.0</td>\n",
       "      <td>1.0</td>\n",
       "      <td>0.890888</td>\n",
       "      <td>112835104</td>\n",
       "      <td>6.0</td>\n",
       "      <td>0.460305</td>\n",
       "      <td>1.0</td>\n",
       "      <td>2</td>\n",
       "      <td>1</td>\n",
       "      <td>2</td>\n",
       "    </tr>\n",
       "  </tbody>\n",
       "</table>\n",
       "<p>1 rows × 47 columns</p>\n",
       "</div>"
      ],
      "text/plain": [
       "   Ill300x.GT  Ill300x.alt_alnScore_mean  Ill300x.alt_alnScore_std  \\\n",
       "1        -1.0                 578.830588                 17.238521   \n",
       "\n",
       "   Ill300x.alt_count  Ill300x.alt_insertSize_mean  Ill300x.alt_insertSize_std  \\\n",
       "1              425.0                   670.637647                  151.902478   \n",
       "\n",
       "   Ill300x.alt_reason_alignmentScore  Ill300x.alt_reason_insertSizeScore  \\\n",
       "1                               67.0                               358.0   \n",
       "\n",
       "   Ill300x.alt_reason_orientation  Ill300x.amb_alnScore_mean  \\\n",
       "1                             0.0                 530.886342   \n",
       "\n",
       "            ...             refN_pct  segdup_cnt  segdup_pct      start  \\\n",
       "1           ...                  0.0         1.0    0.890888  112835104   \n",
       "\n",
       "   tandemrep_cnt  tandemrep_pct  predicted_label  GTcons  GTsupp  \\\n",
       "1            6.0       0.460305              1.0       2       1   \n",
       "\n",
       "   GTconswithoutIll300x.GT  \n",
       "1                        2  \n",
       "\n",
       "[1 rows x 47 columns]"
      ]
     },
     "execution_count": 56,
     "metadata": {},
     "output_type": "execute_result"
    }
   ],
   "source": [
    "exact_match.head(1)"
   ]
  },
  {
   "cell_type": "code",
   "execution_count": 57,
   "metadata": {},
   "outputs": [
    {
     "data": {
      "text/html": [
       "\n",
       "    <div class=\"bk-root\">\n",
       "        <a href=\"http://bokeh.pydata.org\" target=\"_blank\" class=\"bk-logo bk-logo-small bk-logo-notebook\"></a>\n",
       "        <span id=\"850e039f-d48a-44a7-8740-e6eacd999729\">Loading BokehJS ...</span>\n",
       "    </div>"
      ]
     },
     "metadata": {},
     "output_type": "display_data"
    },
    {
     "data": {
      "application/javascript": [
       "\n",
       "(function(global) {\n",
       "  function now() {\n",
       "    return new Date();\n",
       "  }\n",
       "\n",
       "  var force = true;\n",
       "\n",
       "  if (typeof (window._bokeh_onload_callbacks) === \"undefined\" || force === true) {\n",
       "    window._bokeh_onload_callbacks = [];\n",
       "    window._bokeh_is_loading = undefined;\n",
       "  }\n",
       "\n",
       "\n",
       "  \n",
       "  if (typeof (window._bokeh_timeout) === \"undefined\" || force === true) {\n",
       "    window._bokeh_timeout = Date.now() + 5000;\n",
       "    window._bokeh_failed_load = false;\n",
       "  }\n",
       "\n",
       "  var NB_LOAD_WARNING = {'data': {'text/html':\n",
       "     \"<div style='background-color: #fdd'>\\n\"+\n",
       "     \"<p>\\n\"+\n",
       "     \"BokehJS does not appear to have successfully loaded. If loading BokehJS from CDN, this \\n\"+\n",
       "     \"may be due to a slow or bad network connection. Possible fixes:\\n\"+\n",
       "     \"</p>\\n\"+\n",
       "     \"<ul>\\n\"+\n",
       "     \"<li>re-rerun `output_notebook()` to attempt to load from CDN again, or</li>\\n\"+\n",
       "     \"<li>use INLINE resources instead, as so:</li>\\n\"+\n",
       "     \"</ul>\\n\"+\n",
       "     \"<code>\\n\"+\n",
       "     \"from bokeh.resources import INLINE\\n\"+\n",
       "     \"output_notebook(resources=INLINE)\\n\"+\n",
       "     \"</code>\\n\"+\n",
       "     \"</div>\"}};\n",
       "\n",
       "  function display_loaded() {\n",
       "    if (window.Bokeh !== undefined) {\n",
       "      document.getElementById(\"850e039f-d48a-44a7-8740-e6eacd999729\").textContent = \"BokehJS successfully loaded.\";\n",
       "    } else if (Date.now() < window._bokeh_timeout) {\n",
       "      setTimeout(display_loaded, 100)\n",
       "    }\n",
       "  }\n",
       "\n",
       "  function run_callbacks() {\n",
       "    window._bokeh_onload_callbacks.forEach(function(callback) { callback() });\n",
       "    delete window._bokeh_onload_callbacks\n",
       "    console.info(\"Bokeh: all callbacks have finished\");\n",
       "  }\n",
       "\n",
       "  function load_libs(js_urls, callback) {\n",
       "    window._bokeh_onload_callbacks.push(callback);\n",
       "    if (window._bokeh_is_loading > 0) {\n",
       "      console.log(\"Bokeh: BokehJS is being loaded, scheduling callback at\", now());\n",
       "      return null;\n",
       "    }\n",
       "    if (js_urls == null || js_urls.length === 0) {\n",
       "      run_callbacks();\n",
       "      return null;\n",
       "    }\n",
       "    console.log(\"Bokeh: BokehJS not loaded, scheduling load and callback at\", now());\n",
       "    window._bokeh_is_loading = js_urls.length;\n",
       "    for (var i = 0; i < js_urls.length; i++) {\n",
       "      var url = js_urls[i];\n",
       "      var s = document.createElement('script');\n",
       "      s.src = url;\n",
       "      s.async = false;\n",
       "      s.onreadystatechange = s.onload = function() {\n",
       "        window._bokeh_is_loading--;\n",
       "        if (window._bokeh_is_loading === 0) {\n",
       "          console.log(\"Bokeh: all BokehJS libraries loaded\");\n",
       "          run_callbacks()\n",
       "        }\n",
       "      };\n",
       "      s.onerror = function() {\n",
       "        console.warn(\"failed to load library \" + url);\n",
       "      };\n",
       "      console.log(\"Bokeh: injecting script tag for BokehJS library: \", url);\n",
       "      document.getElementsByTagName(\"head\")[0].appendChild(s);\n",
       "    }\n",
       "  };var element = document.getElementById(\"850e039f-d48a-44a7-8740-e6eacd999729\");\n",
       "  if (element == null) {\n",
       "    console.log(\"Bokeh: ERROR: autoload.js configured with elementid '850e039f-d48a-44a7-8740-e6eacd999729' but no matching script tag was found. \")\n",
       "    return false;\n",
       "  }\n",
       "\n",
       "  var js_urls = [\"https://cdn.pydata.org/bokeh/release/bokeh-0.12.4.min.js\", \"https://cdn.pydata.org/bokeh/release/bokeh-widgets-0.12.4.min.js\"];\n",
       "\n",
       "  var inline_js = [\n",
       "    function(Bokeh) {\n",
       "      Bokeh.set_log_level(\"info\");\n",
       "    },\n",
       "    \n",
       "    function(Bokeh) {\n",
       "      \n",
       "      document.getElementById(\"850e039f-d48a-44a7-8740-e6eacd999729\").textContent = \"BokehJS is loading...\";\n",
       "    },\n",
       "    function(Bokeh) {\n",
       "      console.log(\"Bokeh: injecting CSS: https://cdn.pydata.org/bokeh/release/bokeh-0.12.4.min.css\");\n",
       "      Bokeh.embed.inject_css(\"https://cdn.pydata.org/bokeh/release/bokeh-0.12.4.min.css\");\n",
       "      console.log(\"Bokeh: injecting CSS: https://cdn.pydata.org/bokeh/release/bokeh-widgets-0.12.4.min.css\");\n",
       "      Bokeh.embed.inject_css(\"https://cdn.pydata.org/bokeh/release/bokeh-widgets-0.12.4.min.css\");\n",
       "    }\n",
       "  ];\n",
       "\n",
       "  function run_inline_js() {\n",
       "    \n",
       "    if ((window.Bokeh !== undefined) || (force === true)) {\n",
       "      for (var i = 0; i < inline_js.length; i++) {\n",
       "        inline_js[i](window.Bokeh);\n",
       "      }if (force === true) {\n",
       "        display_loaded();\n",
       "      }} else if (Date.now() < window._bokeh_timeout) {\n",
       "      setTimeout(run_inline_js, 100);\n",
       "    } else if (!window._bokeh_failed_load) {\n",
       "      console.log(\"Bokeh: BokehJS failed to load within specified timeout.\");\n",
       "      window._bokeh_failed_load = true;\n",
       "    } else if (force !== true) {\n",
       "      var cell = $(document.getElementById(\"850e039f-d48a-44a7-8740-e6eacd999729\")).parents('.cell').data().cell;\n",
       "      cell.output_area.append_execute_result(NB_LOAD_WARNING)\n",
       "    }\n",
       "\n",
       "  }\n",
       "\n",
       "  if (window._bokeh_is_loading === 0) {\n",
       "    console.log(\"Bokeh: BokehJS loaded, going straight to plotting\");\n",
       "    run_inline_js();\n",
       "  } else {\n",
       "    load_libs(js_urls, function() {\n",
       "      console.log(\"Bokeh: BokehJS plotting callback run at\", now());\n",
       "      run_inline_js();\n",
       "    });\n",
       "  }\n",
       "}(this));"
      ]
     },
     "metadata": {},
     "output_type": "display_data"
    }
   ],
   "source": [
    "output_notebook()"
   ]
  },
  {
   "cell_type": "code",
   "execution_count": 58,
   "metadata": {},
   "outputs": [
    {
     "data": {
      "text/html": [
       "\n",
       "\n",
       "    <div class=\"bk-root\">\n",
       "        <div class=\"bk-plotdiv\" id=\"9756e98a-c04d-4d76-a378-47715bbb8f83\"></div>\n",
       "    </div>\n",
       "<script type=\"text/javascript\">\n",
       "  \n",
       "  (function(global) {\n",
       "    function now() {\n",
       "      return new Date();\n",
       "    }\n",
       "  \n",
       "    var force = false;\n",
       "  \n",
       "    if (typeof (window._bokeh_onload_callbacks) === \"undefined\" || force === true) {\n",
       "      window._bokeh_onload_callbacks = [];\n",
       "      window._bokeh_is_loading = undefined;\n",
       "    }\n",
       "  \n",
       "  \n",
       "    \n",
       "    if (typeof (window._bokeh_timeout) === \"undefined\" || force === true) {\n",
       "      window._bokeh_timeout = Date.now() + 0;\n",
       "      window._bokeh_failed_load = false;\n",
       "    }\n",
       "  \n",
       "    var NB_LOAD_WARNING = {'data': {'text/html':\n",
       "       \"<div style='background-color: #fdd'>\\n\"+\n",
       "       \"<p>\\n\"+\n",
       "       \"BokehJS does not appear to have successfully loaded. If loading BokehJS from CDN, this \\n\"+\n",
       "       \"may be due to a slow or bad network connection. Possible fixes:\\n\"+\n",
       "       \"</p>\\n\"+\n",
       "       \"<ul>\\n\"+\n",
       "       \"<li>re-rerun `output_notebook()` to attempt to load from CDN again, or</li>\\n\"+\n",
       "       \"<li>use INLINE resources instead, as so:</li>\\n\"+\n",
       "       \"</ul>\\n\"+\n",
       "       \"<code>\\n\"+\n",
       "       \"from bokeh.resources import INLINE\\n\"+\n",
       "       \"output_notebook(resources=INLINE)\\n\"+\n",
       "       \"</code>\\n\"+\n",
       "       \"</div>\"}};\n",
       "  \n",
       "    function display_loaded() {\n",
       "      if (window.Bokeh !== undefined) {\n",
       "        document.getElementById(\"9756e98a-c04d-4d76-a378-47715bbb8f83\").textContent = \"BokehJS successfully loaded.\";\n",
       "      } else if (Date.now() < window._bokeh_timeout) {\n",
       "        setTimeout(display_loaded, 100)\n",
       "      }\n",
       "    }\n",
       "  \n",
       "    function run_callbacks() {\n",
       "      window._bokeh_onload_callbacks.forEach(function(callback) { callback() });\n",
       "      delete window._bokeh_onload_callbacks\n",
       "      console.info(\"Bokeh: all callbacks have finished\");\n",
       "    }\n",
       "  \n",
       "    function load_libs(js_urls, callback) {\n",
       "      window._bokeh_onload_callbacks.push(callback);\n",
       "      if (window._bokeh_is_loading > 0) {\n",
       "        console.log(\"Bokeh: BokehJS is being loaded, scheduling callback at\", now());\n",
       "        return null;\n",
       "      }\n",
       "      if (js_urls == null || js_urls.length === 0) {\n",
       "        run_callbacks();\n",
       "        return null;\n",
       "      }\n",
       "      console.log(\"Bokeh: BokehJS not loaded, scheduling load and callback at\", now());\n",
       "      window._bokeh_is_loading = js_urls.length;\n",
       "      for (var i = 0; i < js_urls.length; i++) {\n",
       "        var url = js_urls[i];\n",
       "        var s = document.createElement('script');\n",
       "        s.src = url;\n",
       "        s.async = false;\n",
       "        s.onreadystatechange = s.onload = function() {\n",
       "          window._bokeh_is_loading--;\n",
       "          if (window._bokeh_is_loading === 0) {\n",
       "            console.log(\"Bokeh: all BokehJS libraries loaded\");\n",
       "            run_callbacks()\n",
       "          }\n",
       "        };\n",
       "        s.onerror = function() {\n",
       "          console.warn(\"failed to load library \" + url);\n",
       "        };\n",
       "        console.log(\"Bokeh: injecting script tag for BokehJS library: \", url);\n",
       "        document.getElementsByTagName(\"head\")[0].appendChild(s);\n",
       "      }\n",
       "    };var element = document.getElementById(\"9756e98a-c04d-4d76-a378-47715bbb8f83\");\n",
       "    if (element == null) {\n",
       "      console.log(\"Bokeh: ERROR: autoload.js configured with elementid '9756e98a-c04d-4d76-a378-47715bbb8f83' but no matching script tag was found. \")\n",
       "      return false;\n",
       "    }\n",
       "  \n",
       "    var js_urls = [];\n",
       "  \n",
       "    var inline_js = [\n",
       "      function(Bokeh) {\n",
       "        (function() {\n",
       "          var fn = function() {\n",
       "            var docs_json = {\"832bf5a2-82e3-4146-8457-68e3a42866a2\":{\"roots\":{\"references\":[{\"attributes\":{\"data_source\":{\"id\":\"0418d417-0cc0-44f8-8f99-b2004ceff894\",\"type\":\"ColumnDataSource\"},\"glyph\":{\"id\":\"783714c7-a9e4-43ed-a206-cc433050c0c8\",\"type\":\"Rect\"},\"hover_glyph\":null,\"nonselection_glyph\":null,\"selection_glyph\":null},\"id\":\"9057f52d-bd45-4c9c-90b2-3c405ff71f6f\",\"type\":\"GlyphRenderer\"},{\"attributes\":{\"data_source\":{\"id\":\"bae58f0f-9944-405d-9501-622a42b47d5c\",\"type\":\"ColumnDataSource\"},\"glyph\":{\"id\":\"826ffab4-9782-41e6-98aa-b92616de559d\",\"type\":\"Rect\"},\"hover_glyph\":null,\"nonselection_glyph\":null,\"selection_glyph\":null},\"id\":\"1e859104-409f-42c1-8b2f-80e05d4d7a6f\",\"type\":\"GlyphRenderer\"},{\"attributes\":{\"fill_alpha\":{\"field\":\"fill_alpha\"},\"fill_color\":{\"field\":\"color\"},\"height\":{\"field\":\"height\",\"units\":\"data\"},\"line_color\":{\"field\":\"line_color\"},\"width\":{\"field\":\"width\",\"units\":\"data\"},\"x\":{\"field\":\"x\"},\"y\":{\"field\":\"y\"}},\"id\":\"ab52b5d3-66e3-4276-980a-5a631be06891\",\"type\":\"Rect\"},{\"attributes\":{\"fill_alpha\":{\"field\":\"fill_alpha\"},\"fill_color\":{\"field\":\"color\"},\"height\":{\"field\":\"height\",\"units\":\"data\"},\"line_color\":{\"field\":\"line_color\"},\"width\":{\"field\":\"width\",\"units\":\"data\"},\"x\":{\"field\":\"x\"},\"y\":{\"field\":\"y\"}},\"id\":\"3db02d39-e685-4fa7-b176-e14e1cc85b69\",\"type\":\"Rect\"},{\"attributes\":{\"callback\":null,\"column_names\":[\"color\",\"y\",\"height\",\"width\",\"x\",\"label\",\"line_color\",\"fill_alpha\",\"line_alpha\"],\"data\":{\"chart_index\":[\"(1.333333, 1.466667]\"],\"color\":[\"LightSlateGray\"],\"fill_alpha\":[0.8],\"height\":[0.0],\"label\":[\"(1.333333, 1.466667]\"],\"line_alpha\":[1.0],\"line_color\":[\"black\"],\"width\":[0.1333333333333333],\"x\":[\"1.4\"],\"y\":[0.0]}},\"id\":\"0e035a08-8bb8-49ff-a095-5cd0094f0f0a\",\"type\":\"ColumnDataSource\"},{\"attributes\":{\"fill_alpha\":{\"field\":\"fill_alpha\"},\"fill_color\":{\"field\":\"color\"},\"height\":{\"field\":\"height\",\"units\":\"data\"},\"line_color\":{\"field\":\"line_color\"},\"width\":{\"field\":\"width\",\"units\":\"data\"},\"x\":{\"field\":\"x\"},\"y\":{\"field\":\"y\"}},\"id\":\"f6b7e65a-ff95-4a3f-81f0-e2de19baad93\",\"type\":\"Rect\"},{\"attributes\":{\"fill_alpha\":{\"field\":\"fill_alpha\"},\"fill_color\":{\"field\":\"color\"},\"height\":{\"field\":\"height\",\"units\":\"data\"},\"line_color\":{\"field\":\"line_color\"},\"width\":{\"field\":\"width\",\"units\":\"data\"},\"x\":{\"field\":\"x\"},\"y\":{\"field\":\"y\"}},\"id\":\"5a568f90-283b-423f-81a4-4edb89e7984f\",\"type\":\"Rect\"},{\"attributes\":{\"data_source\":{\"id\":\"25fcfeba-c84d-4312-a608-1afc18a4c9e3\",\"type\":\"ColumnDataSource\"},\"glyph\":{\"id\":\"2ee78272-4a8c-44cf-a4a9-554d42d78d59\",\"type\":\"Rect\"},\"hover_glyph\":null,\"nonselection_glyph\":null,\"selection_glyph\":null},\"id\":\"924574b2-6494-4c6e-ae42-0617ed8f4dd2\",\"type\":\"GlyphRenderer\"},{\"attributes\":{\"plot\":{\"id\":\"c959c907-445e-49e4-b438-b32f220ca255\",\"subtype\":\"Chart\",\"type\":\"Plot\"}},\"id\":\"8ac0425b-00a6-44ef-8e5b-800df06bb92b\",\"type\":\"HelpTool\"},{\"attributes\":{\"callback\":null,\"column_names\":[\"color\",\"y\",\"height\",\"width\",\"x\",\"label\",\"line_color\",\"fill_alpha\",\"line_alpha\"],\"data\":{\"chart_index\":[\"[0.000000, 0.133333]\"],\"color\":[\"LightSlateGray\"],\"fill_alpha\":[0.8],\"height\":[34.0],\"label\":[\"[0.000000, 0.133333]\"],\"line_alpha\":[1.0],\"line_color\":[\"black\"],\"width\":[0.13333333333333333],\"x\":[\"0.0666665\"],\"y\":[17.0]}},\"id\":\"07121f36-70de-426b-8a26-70d1ce4f6d63\",\"type\":\"ColumnDataSource\"},{\"attributes\":{\"axis_label\":\"GTcons\",\"formatter\":{\"id\":\"5e5a7d73-3c84-4cea-b495-ee1f138e7d07\",\"type\":\"BasicTickFormatter\"},\"plot\":{\"id\":\"c959c907-445e-49e4-b438-b32f220ca255\",\"subtype\":\"Chart\",\"type\":\"Plot\"},\"ticker\":{\"id\":\"2c052808-9f44-4e83-b9c3-e9c091c974ef\",\"type\":\"BasicTicker\"}},\"id\":\"6689f2af-4890-432f-85f9-dbb04ed14cd1\",\"type\":\"LinearAxis\"},{\"attributes\":{},\"id\":\"5e5a7d73-3c84-4cea-b495-ee1f138e7d07\",\"type\":\"BasicTickFormatter\"},{\"attributes\":{\"callback\":null,\"column_names\":[\"color\",\"y\",\"height\",\"width\",\"x\",\"label\",\"line_color\",\"fill_alpha\",\"line_alpha\"],\"data\":{\"chart_index\":[\"(1.600000, 1.733333]\"],\"color\":[\"LightSlateGray\"],\"fill_alpha\":[0.8],\"height\":[0.0],\"label\":[\"(1.600000, 1.733333]\"],\"line_alpha\":[1.0],\"line_color\":[\"black\"],\"width\":[0.1333333333333333],\"x\":[\"1.6666665\"],\"y\":[0.0]}},\"id\":\"fc98c8a1-4422-4fb9-9bf6-6eccbb6f7acf\",\"type\":\"ColumnDataSource\"},{\"attributes\":{\"data_source\":{\"id\":\"f9d134a6-cc8a-4dda-8a84-df4c77ec454b\",\"type\":\"ColumnDataSource\"},\"glyph\":{\"id\":\"fbec5c1b-30f4-4507-b7d3-f4dbef4f961e\",\"type\":\"Rect\"},\"hover_glyph\":null,\"nonselection_glyph\":null,\"selection_glyph\":null},\"id\":\"6ca54a61-3202-422d-b3b9-4b947a5c6519\",\"type\":\"GlyphRenderer\"},{\"attributes\":{\"bottom_units\":\"screen\",\"fill_alpha\":{\"value\":0.5},\"fill_color\":{\"value\":\"lightgrey\"},\"left_units\":\"screen\",\"level\":\"overlay\",\"line_alpha\":{\"value\":1.0},\"line_color\":{\"value\":\"black\"},\"line_dash\":[4,4],\"line_width\":{\"value\":2},\"plot\":null,\"render_mode\":\"css\",\"right_units\":\"screen\",\"top_units\":\"screen\"},\"id\":\"03b8e8a1-7fad-44f2-a504-2fe8d201e953\",\"type\":\"BoxAnnotation\"},{\"attributes\":{\"fill_alpha\":{\"field\":\"fill_alpha\"},\"fill_color\":{\"field\":\"color\"},\"height\":{\"field\":\"height\",\"units\":\"data\"},\"line_color\":{\"field\":\"line_color\"},\"width\":{\"field\":\"width\",\"units\":\"data\"},\"x\":{\"field\":\"x\"},\"y\":{\"field\":\"y\"}},\"id\":\"517412f8-6980-4ed7-9e34-7e488d7bb3cb\",\"type\":\"Rect\"},{\"attributes\":{\"fill_alpha\":{\"field\":\"fill_alpha\"},\"fill_color\":{\"field\":\"color\"},\"height\":{\"field\":\"height\",\"units\":\"data\"},\"line_color\":{\"field\":\"line_color\"},\"width\":{\"field\":\"width\",\"units\":\"data\"},\"x\":{\"field\":\"x\"},\"y\":{\"field\":\"y\"}},\"id\":\"783714c7-a9e4-43ed-a206-cc433050c0c8\",\"type\":\"Rect\"},{\"attributes\":{\"fill_alpha\":{\"field\":\"fill_alpha\"},\"fill_color\":{\"field\":\"color\"},\"height\":{\"field\":\"height\",\"units\":\"data\"},\"line_color\":{\"field\":\"line_color\"},\"width\":{\"field\":\"width\",\"units\":\"data\"},\"x\":{\"field\":\"x\"},\"y\":{\"field\":\"y\"}},\"id\":\"49ffeac6-8f22-4bbc-868f-81842d5474ae\",\"type\":\"Rect\"},{\"attributes\":{\"callback\":null,\"column_names\":[\"color\",\"y\",\"height\",\"width\",\"x\",\"label\",\"line_color\",\"fill_alpha\",\"line_alpha\"],\"data\":{\"chart_index\":[\"(1.733333, 1.866667]\"],\"color\":[\"LightSlateGray\"],\"fill_alpha\":[0.8],\"height\":[0.0],\"label\":[\"(1.733333, 1.866667]\"],\"line_alpha\":[1.0],\"line_color\":[\"black\"],\"width\":[0.1333333333333333],\"x\":[\"1.8\"],\"y\":[0.0]}},\"id\":\"4ee3a4f7-2944-46a4-a40e-84576f77d5ba\",\"type\":\"ColumnDataSource\"},{\"attributes\":{\"callback\":null,\"column_names\":[\"color\",\"y\",\"height\",\"width\",\"x\",\"label\",\"line_color\",\"fill_alpha\",\"line_alpha\"],\"data\":{\"chart_index\":[\"(0.933333, 1.066667]\"],\"color\":[\"LightSlateGray\"],\"fill_alpha\":[0.8],\"height\":[1870.0],\"label\":[\"(0.933333, 1.066667]\"],\"line_alpha\":[1.0],\"line_color\":[\"black\"],\"width\":[0.1333333333333333],\"x\":[\"1.0\"],\"y\":[935.0]}},\"id\":\"25fcfeba-c84d-4312-a608-1afc18a4c9e3\",\"type\":\"ColumnDataSource\"},{\"attributes\":{\"axis_label\":\"Frequency\",\"formatter\":{\"id\":\"a6232fe0-cf8f-4e7d-93db-6106f5bf7aa7\",\"type\":\"BasicTickFormatter\"},\"plot\":{\"id\":\"c959c907-445e-49e4-b438-b32f220ca255\",\"subtype\":\"Chart\",\"type\":\"Plot\"},\"ticker\":{\"id\":\"59b5e251-0b73-40ab-a355-9086a79d8c39\",\"type\":\"BasicTicker\"}},\"id\":\"1712fcc7-f588-40ef-9fbd-c7b4b98818bd\",\"type\":\"LinearAxis\"},{\"attributes\":{\"plot\":{\"id\":\"c959c907-445e-49e4-b438-b32f220ca255\",\"subtype\":\"Chart\",\"type\":\"Plot\"}},\"id\":\"d7df37dd-b0e1-4e65-ab40-6e43a53c32dd\",\"type\":\"ResetTool\"},{\"attributes\":{\"callback\":null,\"column_names\":[\"color\",\"y\",\"height\",\"width\",\"x\",\"label\",\"line_color\",\"fill_alpha\",\"line_alpha\"],\"data\":{\"chart_index\":[\"(1.466667, 1.600000]\"],\"color\":[\"LightSlateGray\"],\"fill_alpha\":[0.8],\"height\":[0.0],\"label\":[\"(1.466667, 1.600000]\"],\"line_alpha\":[1.0],\"line_color\":[\"black\"],\"width\":[0.13333333333333353],\"x\":[\"1.5333335\"],\"y\":[0.0]}},\"id\":\"0e339fd8-daa6-4431-910c-4d18ff9cdd57\",\"type\":\"ColumnDataSource\"},{\"attributes\":{},\"id\":\"59b5e251-0b73-40ab-a355-9086a79d8c39\",\"type\":\"BasicTicker\"},{\"attributes\":{\"active_drag\":\"auto\",\"active_scroll\":\"auto\",\"active_tap\":\"auto\",\"tools\":[{\"id\":\"f43a752b-ad85-425b-b3c9-eb3a2893916e\",\"type\":\"PanTool\"},{\"id\":\"b47a9de2-a348-42a3-b7b8-67b895f5fe24\",\"type\":\"WheelZoomTool\"},{\"id\":\"31b1d45e-e98d-4ed7-85e9-db78c14288d6\",\"type\":\"BoxZoomTool\"},{\"id\":\"64216aeb-e919-4272-b7df-f5853cc1d8e8\",\"type\":\"SaveTool\"},{\"id\":\"d7df37dd-b0e1-4e65-ab40-6e43a53c32dd\",\"type\":\"ResetTool\"},{\"id\":\"8ac0425b-00a6-44ef-8e5b-800df06bb92b\",\"type\":\"HelpTool\"}]},\"id\":\"1028bab3-311e-4436-8244-3be47f283e4e\",\"type\":\"Toolbar\"},{\"attributes\":{\"data_source\":{\"id\":\"cc8033a2-3db3-45eb-a7f6-aa0aedd7999a\",\"type\":\"ColumnDataSource\"},\"glyph\":{\"id\":\"58154af7-a6ca-4406-be02-5c1d0614e903\",\"type\":\"Rect\"},\"hover_glyph\":null,\"nonselection_glyph\":null,\"selection_glyph\":null},\"id\":\"2c6b6796-4f19-4444-9da1-fdb3c3f9556e\",\"type\":\"GlyphRenderer\"},{\"attributes\":{\"callback\":null,\"column_names\":[\"color\",\"y\",\"height\",\"width\",\"x\",\"label\",\"line_color\",\"fill_alpha\",\"line_alpha\"],\"data\":{\"chart_index\":[\"(0.133333, 0.266667]\"],\"color\":[\"LightSlateGray\"],\"fill_alpha\":[0.8],\"height\":[0.0],\"label\":[\"(0.133333, 0.266667]\"],\"line_alpha\":[1.0],\"line_color\":[\"black\"],\"width\":[0.13333333333333333],\"x\":[\"0.2\"],\"y\":[0.0]}},\"id\":\"b48d07fd-7f6d-4f66-a5df-587b9f4d6890\",\"type\":\"ColumnDataSource\"},{\"attributes\":{\"data_source\":{\"id\":\"7c9d980e-b707-4756-9fcb-c3392f190371\",\"type\":\"ColumnDataSource\"},\"glyph\":{\"id\":\"3db02d39-e685-4fa7-b176-e14e1cc85b69\",\"type\":\"Rect\"},\"hover_glyph\":null,\"nonselection_glyph\":null,\"selection_glyph\":null},\"id\":\"1d25e46d-d288-46b3-abfd-1832439d2256\",\"type\":\"GlyphRenderer\"},{\"attributes\":{\"plot\":{\"id\":\"c959c907-445e-49e4-b438-b32f220ca255\",\"subtype\":\"Chart\",\"type\":\"Plot\"}},\"id\":\"b47a9de2-a348-42a3-b7b8-67b895f5fe24\",\"type\":\"WheelZoomTool\"},{\"attributes\":{\"overlay\":{\"id\":\"03b8e8a1-7fad-44f2-a504-2fe8d201e953\",\"type\":\"BoxAnnotation\"},\"plot\":{\"id\":\"c959c907-445e-49e4-b438-b32f220ca255\",\"subtype\":\"Chart\",\"type\":\"Plot\"}},\"id\":\"31b1d45e-e98d-4ed7-85e9-db78c14288d6\",\"type\":\"BoxZoomTool\"},{\"attributes\":{\"fill_alpha\":{\"field\":\"fill_alpha\"},\"fill_color\":{\"field\":\"color\"},\"height\":{\"field\":\"height\",\"units\":\"data\"},\"line_color\":{\"field\":\"line_color\"},\"width\":{\"field\":\"width\",\"units\":\"data\"},\"x\":{\"field\":\"x\"},\"y\":{\"field\":\"y\"}},\"id\":\"58154af7-a6ca-4406-be02-5c1d0614e903\",\"type\":\"Rect\"},{\"attributes\":{\"data_source\":{\"id\":\"07121f36-70de-426b-8a26-70d1ce4f6d63\",\"type\":\"ColumnDataSource\"},\"glyph\":{\"id\":\"6dca325e-9e83-4663-bc39-36618042773e\",\"type\":\"Rect\"},\"hover_glyph\":null,\"nonselection_glyph\":null,\"selection_glyph\":null},\"id\":\"38db7eef-7db7-4fdd-ade8-f1f3934c7ef5\",\"type\":\"GlyphRenderer\"},{\"attributes\":{\"callback\":null,\"column_names\":[\"color\",\"y\",\"height\",\"width\",\"x\",\"label\",\"line_color\",\"fill_alpha\",\"line_alpha\"],\"data\":{\"chart_index\":[\"(1.200000, 1.333333]\"],\"color\":[\"LightSlateGray\"],\"fill_alpha\":[0.8],\"height\":[0.0],\"label\":[\"(1.200000, 1.333333]\"],\"line_alpha\":[1.0],\"line_color\":[\"black\"],\"width\":[0.1333333333333333],\"x\":[\"1.2666665\"],\"y\":[0.0]}},\"id\":\"c96232d7-10cc-41bc-ae12-6e78013fbbf2\",\"type\":\"ColumnDataSource\"},{\"attributes\":{\"fill_alpha\":{\"field\":\"fill_alpha\"},\"fill_color\":{\"field\":\"color\"},\"height\":{\"field\":\"height\",\"units\":\"data\"},\"line_color\":{\"field\":\"line_color\"},\"width\":{\"field\":\"width\",\"units\":\"data\"},\"x\":{\"field\":\"x\"},\"y\":{\"field\":\"y\"}},\"id\":\"fbec5c1b-30f4-4507-b7d3-f4dbef4f961e\",\"type\":\"Rect\"},{\"attributes\":{\"below\":[{\"id\":\"6689f2af-4890-432f-85f9-dbb04ed14cd1\",\"type\":\"LinearAxis\"}],\"css_classes\":null,\"left\":[{\"id\":\"1712fcc7-f588-40ef-9fbd-c7b4b98818bd\",\"type\":\"LinearAxis\"}],\"plot_height\":250,\"renderers\":[{\"id\":\"03b8e8a1-7fad-44f2-a504-2fe8d201e953\",\"type\":\"BoxAnnotation\"},{\"id\":\"38db7eef-7db7-4fdd-ade8-f1f3934c7ef5\",\"type\":\"GlyphRenderer\"},{\"id\":\"bc59dd08-7444-483e-83e5-89ed09efe261\",\"type\":\"GlyphRenderer\"},{\"id\":\"9057f52d-bd45-4c9c-90b2-3c405ff71f6f\",\"type\":\"GlyphRenderer\"},{\"id\":\"6ca54a61-3202-422d-b3b9-4b947a5c6519\",\"type\":\"GlyphRenderer\"},{\"id\":\"612c3a24-578b-4625-a83e-b9802d9f0170\",\"type\":\"GlyphRenderer\"},{\"id\":\"2c6b6796-4f19-4444-9da1-fdb3c3f9556e\",\"type\":\"GlyphRenderer\"},{\"id\":\"7f831728-21bf-4682-bc0a-2982f6e2d44c\",\"type\":\"GlyphRenderer\"},{\"id\":\"924574b2-6494-4c6e-ae42-0617ed8f4dd2\",\"type\":\"GlyphRenderer\"},{\"id\":\"1d25e46d-d288-46b3-abfd-1832439d2256\",\"type\":\"GlyphRenderer\"},{\"id\":\"c0e7d734-ceea-445f-988a-36e5e757012b\",\"type\":\"GlyphRenderer\"},{\"id\":\"c6432b19-a047-45a3-b5e5-740a25214f95\",\"type\":\"GlyphRenderer\"},{\"id\":\"d9ffd4cc-b3ff-4c85-8bdc-dae3dd426a15\",\"type\":\"GlyphRenderer\"},{\"id\":\"1729c3fa-8ead-4460-a007-070ec5647159\",\"type\":\"GlyphRenderer\"},{\"id\":\"cd5cd54f-8532-436b-8056-0922e220c4a1\",\"type\":\"GlyphRenderer\"},{\"id\":\"1e859104-409f-42c1-8b2f-80e05d4d7a6f\",\"type\":\"GlyphRenderer\"},{\"id\":\"09099fb4-3157-4d05-b292-99d720b1ac8a\",\"type\":\"Legend\"},{\"id\":\"6689f2af-4890-432f-85f9-dbb04ed14cd1\",\"type\":\"LinearAxis\"},{\"id\":\"1712fcc7-f588-40ef-9fbd-c7b4b98818bd\",\"type\":\"LinearAxis\"},{\"id\":\"ab67e791-cc68-449b-b394-58d967241eed\",\"type\":\"Grid\"}],\"title\":{\"id\":\"f80aaef1-9da1-442d-b41c-ffd7013a3236\",\"type\":\"Title\"},\"tool_events\":{\"id\":\"09ee3534-dbdb-4e36-8c72-a6e8c0304064\",\"type\":\"ToolEvents\"},\"toolbar\":{\"id\":\"1028bab3-311e-4436-8244-3be47f283e4e\",\"type\":\"Toolbar\"},\"x_mapper_type\":\"auto\",\"x_range\":{\"id\":\"1f1c5930-27df-4098-8caf-06157ec346f2\",\"type\":\"Range1d\"},\"y_mapper_type\":\"auto\",\"y_range\":{\"id\":\"fb06925c-e006-472b-afd5-ac7c23762a3b\",\"type\":\"Range1d\"}},\"id\":\"c959c907-445e-49e4-b438-b32f220ca255\",\"subtype\":\"Chart\",\"type\":\"Plot\"},{\"attributes\":{},\"id\":\"a6232fe0-cf8f-4e7d-93db-6106f5bf7aa7\",\"type\":\"BasicTickFormatter\"},{\"attributes\":{\"data_source\":{\"id\":\"2500f806-95cd-455c-a042-53e44658635a\",\"type\":\"ColumnDataSource\"},\"glyph\":{\"id\":\"59eadaf8-82f1-43ae-9d0b-9e4d4fa90fab\",\"type\":\"Rect\"},\"hover_glyph\":null,\"nonselection_glyph\":null,\"selection_glyph\":null},\"id\":\"612c3a24-578b-4625-a83e-b9802d9f0170\",\"type\":\"GlyphRenderer\"},{\"attributes\":{\"data_source\":{\"id\":\"c96232d7-10cc-41bc-ae12-6e78013fbbf2\",\"type\":\"ColumnDataSource\"},\"glyph\":{\"id\":\"5a568f90-283b-423f-81a4-4edb89e7984f\",\"type\":\"Rect\"},\"hover_glyph\":null,\"nonselection_glyph\":null,\"selection_glyph\":null},\"id\":\"c0e7d734-ceea-445f-988a-36e5e757012b\",\"type\":\"GlyphRenderer\"},{\"attributes\":{\"plot\":null,\"text\":\"Exact_Match_HG002: Consensust GT\"},\"id\":\"f80aaef1-9da1-442d-b41c-ffd7013a3236\",\"type\":\"Title\"},{\"attributes\":{\"fill_alpha\":{\"field\":\"fill_alpha\"},\"fill_color\":{\"field\":\"color\"},\"height\":{\"field\":\"height\",\"units\":\"data\"},\"line_color\":{\"field\":\"line_color\"},\"width\":{\"field\":\"width\",\"units\":\"data\"},\"x\":{\"field\":\"x\"},\"y\":{\"field\":\"y\"}},\"id\":\"826ffab4-9782-41e6-98aa-b92616de559d\",\"type\":\"Rect\"},{\"attributes\":{\"data_source\":{\"id\":\"fc98c8a1-4422-4fb9-9bf6-6eccbb6f7acf\",\"type\":\"ColumnDataSource\"},\"glyph\":{\"id\":\"49ffeac6-8f22-4bbc-868f-81842d5474ae\",\"type\":\"Rect\"},\"hover_glyph\":null,\"nonselection_glyph\":null,\"selection_glyph\":null},\"id\":\"1729c3fa-8ead-4460-a007-070ec5647159\",\"type\":\"GlyphRenderer\"},{\"attributes\":{\"callback\":null,\"column_names\":[\"color\",\"y\",\"height\",\"width\",\"x\",\"label\",\"line_color\",\"fill_alpha\",\"line_alpha\"],\"data\":{\"chart_index\":[\"(0.800000, 0.933333]\"],\"color\":[\"LightSlateGray\"],\"fill_alpha\":[0.8],\"height\":[0.0],\"label\":[\"(0.800000, 0.933333]\"],\"line_alpha\":[1.0],\"line_color\":[\"black\"],\"width\":[0.1333333333333333],\"x\":[\"0.8666665\"],\"y\":[0.0]}},\"id\":\"d156d4ff-d3f6-45c3-9f78-53269552f9e8\",\"type\":\"ColumnDataSource\"},{\"attributes\":{\"callback\":null,\"column_names\":[\"color\",\"y\",\"height\",\"width\",\"x\",\"label\",\"line_color\",\"fill_alpha\",\"line_alpha\"],\"data\":{\"chart_index\":[\"(1.866667, 2.000000]\"],\"color\":[\"LightSlateGray\"],\"fill_alpha\":[0.8],\"height\":[841.0],\"label\":[\"(1.866667, 2.000000]\"],\"line_alpha\":[1.0],\"line_color\":[\"black\"],\"width\":[0.1333333333333333],\"x\":[\"1.9333335\"],\"y\":[420.5]}},\"id\":\"bae58f0f-9944-405d-9501-622a42b47d5c\",\"type\":\"ColumnDataSource\"},{\"attributes\":{\"callback\":null,\"column_names\":[\"color\",\"y\",\"height\",\"width\",\"x\",\"label\",\"line_color\",\"fill_alpha\",\"line_alpha\"],\"data\":{\"chart_index\":[\"(0.666667, 0.800000]\"],\"color\":[\"LightSlateGray\"],\"fill_alpha\":[0.8],\"height\":[0.0],\"label\":[\"(0.666667, 0.800000]\"],\"line_alpha\":[1.0],\"line_color\":[\"black\"],\"width\":[0.13333333333333341],\"x\":[\"0.7333335000000001\"],\"y\":[0.0]}},\"id\":\"cc8033a2-3db3-45eb-a7f6-aa0aedd7999a\",\"type\":\"ColumnDataSource\"},{\"attributes\":{\"callback\":null,\"column_names\":[\"color\",\"y\",\"height\",\"width\",\"x\",\"label\",\"line_color\",\"fill_alpha\",\"line_alpha\"],\"data\":{\"chart_index\":[\"(0.266667, 0.400000]\"],\"color\":[\"LightSlateGray\"],\"fill_alpha\":[0.8],\"height\":[0.0],\"label\":[\"(0.266667, 0.400000]\"],\"line_alpha\":[1.0],\"line_color\":[\"black\"],\"width\":[0.13333333333333336],\"x\":[\"0.3333335\"],\"y\":[0.0]}},\"id\":\"0418d417-0cc0-44f8-8f99-b2004ceff894\",\"type\":\"ColumnDataSource\"},{\"attributes\":{\"dimension\":1,\"plot\":{\"id\":\"c959c907-445e-49e4-b438-b32f220ca255\",\"subtype\":\"Chart\",\"type\":\"Plot\"},\"ticker\":{\"id\":\"59b5e251-0b73-40ab-a355-9086a79d8c39\",\"type\":\"BasicTicker\"}},\"id\":\"ab67e791-cc68-449b-b394-58d967241eed\",\"type\":\"Grid\"},{\"attributes\":{\"fill_alpha\":{\"field\":\"fill_alpha\"},\"fill_color\":{\"field\":\"color\"},\"height\":{\"field\":\"height\",\"units\":\"data\"},\"line_color\":{\"field\":\"line_color\"},\"width\":{\"field\":\"width\",\"units\":\"data\"},\"x\":{\"field\":\"x\"},\"y\":{\"field\":\"y\"}},\"id\":\"6dca325e-9e83-4663-bc39-36618042773e\",\"type\":\"Rect\"},{\"attributes\":{\"plot\":{\"id\":\"c959c907-445e-49e4-b438-b32f220ca255\",\"subtype\":\"Chart\",\"type\":\"Plot\"}},\"id\":\"f43a752b-ad85-425b-b3c9-eb3a2893916e\",\"type\":\"PanTool\"},{\"attributes\":{},\"id\":\"2c052808-9f44-4e83-b9c3-e9c091c974ef\",\"type\":\"BasicTicker\"},{\"attributes\":{\"fill_alpha\":{\"field\":\"fill_alpha\"},\"fill_color\":{\"field\":\"color\"},\"height\":{\"field\":\"height\",\"units\":\"data\"},\"line_color\":{\"field\":\"line_color\"},\"width\":{\"field\":\"width\",\"units\":\"data\"},\"x\":{\"field\":\"x\"},\"y\":{\"field\":\"y\"}},\"id\":\"60a7ffc7-08be-455c-b789-483dfae936d9\",\"type\":\"Rect\"},{\"attributes\":{\"fill_alpha\":{\"field\":\"fill_alpha\"},\"fill_color\":{\"field\":\"color\"},\"height\":{\"field\":\"height\",\"units\":\"data\"},\"line_color\":{\"field\":\"line_color\"},\"width\":{\"field\":\"width\",\"units\":\"data\"},\"x\":{\"field\":\"x\"},\"y\":{\"field\":\"y\"}},\"id\":\"2ee78272-4a8c-44cf-a4a9-554d42d78d59\",\"type\":\"Rect\"},{\"attributes\":{\"callback\":null,\"column_names\":[\"color\",\"y\",\"height\",\"width\",\"x\",\"label\",\"line_color\",\"fill_alpha\",\"line_alpha\"],\"data\":{\"chart_index\":[\"(1.066667, 1.200000]\"],\"color\":[\"LightSlateGray\"],\"fill_alpha\":[0.8],\"height\":[0.0],\"label\":[\"(1.066667, 1.200000]\"],\"line_alpha\":[1.0],\"line_color\":[\"black\"],\"width\":[0.1333333333333333],\"x\":[\"1.1333335\"],\"y\":[0.0]}},\"id\":\"7c9d980e-b707-4756-9fcb-c3392f190371\",\"type\":\"ColumnDataSource\"},{\"attributes\":{\"callback\":null,\"end\":2057.0},\"id\":\"fb06925c-e006-472b-afd5-ac7c23762a3b\",\"type\":\"Range1d\"},{\"attributes\":{\"fill_alpha\":{\"field\":\"fill_alpha\"},\"fill_color\":{\"field\":\"color\"},\"height\":{\"field\":\"height\",\"units\":\"data\"},\"line_color\":{\"field\":\"line_color\"},\"width\":{\"field\":\"width\",\"units\":\"data\"},\"x\":{\"field\":\"x\"},\"y\":{\"field\":\"y\"}},\"id\":\"e79e2856-b394-401f-81c1-a530f267c309\",\"type\":\"Rect\"},{\"attributes\":{\"data_source\":{\"id\":\"d156d4ff-d3f6-45c3-9f78-53269552f9e8\",\"type\":\"ColumnDataSource\"},\"glyph\":{\"id\":\"f6b7e65a-ff95-4a3f-81f0-e2de19baad93\",\"type\":\"Rect\"},\"hover_glyph\":null,\"nonselection_glyph\":null,\"selection_glyph\":null},\"id\":\"7f831728-21bf-4682-bc0a-2982f6e2d44c\",\"type\":\"GlyphRenderer\"},{\"attributes\":{\"callback\":null,\"column_names\":[\"color\",\"y\",\"height\",\"width\",\"x\",\"label\",\"line_color\",\"fill_alpha\",\"line_alpha\"],\"data\":{\"chart_index\":[\"(0.400000, 0.533333]\"],\"color\":[\"LightSlateGray\"],\"fill_alpha\":[0.8],\"height\":[0.0],\"label\":[\"(0.400000, 0.533333]\"],\"line_alpha\":[1.0],\"line_color\":[\"black\"],\"width\":[0.1333333333333333],\"x\":[\"0.4666665\"],\"y\":[0.0]}},\"id\":\"f9d134a6-cc8a-4dda-8a84-df4c77ec454b\",\"type\":\"ColumnDataSource\"},{\"attributes\":{},\"id\":\"09ee3534-dbdb-4e36-8c72-a6e8c0304064\",\"type\":\"ToolEvents\"},{\"attributes\":{\"data_source\":{\"id\":\"0e339fd8-daa6-4431-910c-4d18ff9cdd57\",\"type\":\"ColumnDataSource\"},\"glyph\":{\"id\":\"e79e2856-b394-401f-81c1-a530f267c309\",\"type\":\"Rect\"},\"hover_glyph\":null,\"nonselection_glyph\":null,\"selection_glyph\":null},\"id\":\"d9ffd4cc-b3ff-4c85-8bdc-dae3dd426a15\",\"type\":\"GlyphRenderer\"},{\"attributes\":{\"data_source\":{\"id\":\"4ee3a4f7-2944-46a4-a40e-84576f77d5ba\",\"type\":\"ColumnDataSource\"},\"glyph\":{\"id\":\"ab52b5d3-66e3-4276-980a-5a631be06891\",\"type\":\"Rect\"},\"hover_glyph\":null,\"nonselection_glyph\":null,\"selection_glyph\":null},\"id\":\"cd5cd54f-8532-436b-8056-0922e220c4a1\",\"type\":\"GlyphRenderer\"},{\"attributes\":{\"fill_alpha\":{\"field\":\"fill_alpha\"},\"fill_color\":{\"field\":\"color\"},\"height\":{\"field\":\"height\",\"units\":\"data\"},\"line_color\":{\"field\":\"line_color\"},\"width\":{\"field\":\"width\",\"units\":\"data\"},\"x\":{\"field\":\"x\"},\"y\":{\"field\":\"y\"}},\"id\":\"59eadaf8-82f1-43ae-9d0b-9e4d4fa90fab\",\"type\":\"Rect\"},{\"attributes\":{\"callback\":null,\"column_names\":[\"color\",\"y\",\"height\",\"width\",\"x\",\"label\",\"line_color\",\"fill_alpha\",\"line_alpha\"],\"data\":{\"chart_index\":[\"(0.533333, 0.666667]\"],\"color\":[\"LightSlateGray\"],\"fill_alpha\":[0.8],\"height\":[0.0],\"label\":[\"(0.533333, 0.666667]\"],\"line_alpha\":[1.0],\"line_color\":[\"black\"],\"width\":[0.1333333333333333],\"x\":[\"0.6\"],\"y\":[0.0]}},\"id\":\"2500f806-95cd-455c-a042-53e44658635a\",\"type\":\"ColumnDataSource\"},{\"attributes\":{\"data_source\":{\"id\":\"b48d07fd-7f6d-4f66-a5df-587b9f4d6890\",\"type\":\"ColumnDataSource\"},\"glyph\":{\"id\":\"517412f8-6980-4ed7-9e34-7e488d7bb3cb\",\"type\":\"Rect\"},\"hover_glyph\":null,\"nonselection_glyph\":null,\"selection_glyph\":null},\"id\":\"bc59dd08-7444-483e-83e5-89ed09efe261\",\"type\":\"GlyphRenderer\"},{\"attributes\":{\"location\":\"top_left\",\"plot\":{\"id\":\"c959c907-445e-49e4-b438-b32f220ca255\",\"subtype\":\"Chart\",\"type\":\"Plot\"}},\"id\":\"09099fb4-3157-4d05-b292-99d720b1ac8a\",\"type\":\"Legend\"},{\"attributes\":{\"data_source\":{\"id\":\"0e035a08-8bb8-49ff-a095-5cd0094f0f0a\",\"type\":\"ColumnDataSource\"},\"glyph\":{\"id\":\"60a7ffc7-08be-455c-b789-483dfae936d9\",\"type\":\"Rect\"},\"hover_glyph\":null,\"nonselection_glyph\":null,\"selection_glyph\":null},\"id\":\"c6432b19-a047-45a3-b5e5-740a25214f95\",\"type\":\"GlyphRenderer\"},{\"attributes\":{\"callback\":null,\"end\":2.0500001666666665,\"start\":-0.050000166666666665},\"id\":\"1f1c5930-27df-4098-8caf-06157ec346f2\",\"type\":\"Range1d\"},{\"attributes\":{\"plot\":{\"id\":\"c959c907-445e-49e4-b438-b32f220ca255\",\"subtype\":\"Chart\",\"type\":\"Plot\"}},\"id\":\"64216aeb-e919-4272-b7df-f5853cc1d8e8\",\"type\":\"SaveTool\"}],\"root_ids\":[\"c959c907-445e-49e4-b438-b32f220ca255\"]},\"title\":\"Bokeh Application\",\"version\":\"0.12.4\"}};\n",
       "            var render_items = [{\"docid\":\"832bf5a2-82e3-4146-8457-68e3a42866a2\",\"elementid\":\"9756e98a-c04d-4d76-a378-47715bbb8f83\",\"modelid\":\"c959c907-445e-49e4-b438-b32f220ca255\"}];\n",
       "            \n",
       "            Bokeh.embed.embed_items(docs_json, render_items);\n",
       "          };\n",
       "          if (document.readyState != \"loading\") fn();\n",
       "          else document.addEventListener(\"DOMContentLoaded\", fn);\n",
       "        })();\n",
       "      },\n",
       "      function(Bokeh) {\n",
       "      }\n",
       "    ];\n",
       "  \n",
       "    function run_inline_js() {\n",
       "      \n",
       "      if ((window.Bokeh !== undefined) || (force === true)) {\n",
       "        for (var i = 0; i < inline_js.length; i++) {\n",
       "          inline_js[i](window.Bokeh);\n",
       "        }if (force === true) {\n",
       "          display_loaded();\n",
       "        }} else if (Date.now() < window._bokeh_timeout) {\n",
       "        setTimeout(run_inline_js, 100);\n",
       "      } else if (!window._bokeh_failed_load) {\n",
       "        console.log(\"Bokeh: BokehJS failed to load within specified timeout.\");\n",
       "        window._bokeh_failed_load = true;\n",
       "      } else if (force !== true) {\n",
       "        var cell = $(document.getElementById(\"9756e98a-c04d-4d76-a378-47715bbb8f83\")).parents('.cell').data().cell;\n",
       "        cell.output_area.append_execute_result(NB_LOAD_WARNING)\n",
       "      }\n",
       "  \n",
       "    }\n",
       "  \n",
       "    if (window._bokeh_is_loading === 0) {\n",
       "      console.log(\"Bokeh: BokehJS loaded, going straight to plotting\");\n",
       "      run_inline_js();\n",
       "    } else {\n",
       "      load_libs(js_urls, function() {\n",
       "        console.log(\"Bokeh: BokehJS plotting callback run at\", now());\n",
       "        run_inline_js();\n",
       "      });\n",
       "    }\n",
       "  }(this));\n",
       "</script>"
      ]
     },
     "metadata": {},
     "output_type": "display_data"
    }
   ],
   "source": [
    "p = figure()\n",
    "p = Histogram(exact_match, values='GTcons', title='Exact_Match_HG002: Consensust GT', color='LightSlateGray', bins=15, plot_height=250, xlabel=\"GTcons\", ylabel=\"Frequency\")\n",
    "show(p)"
   ]
  },
  {
   "cell_type": "markdown",
   "metadata": {},
   "source": [
    "** Homozygous Reference **"
   ]
  },
  {
   "cell_type": "code",
   "execution_count": 59,
   "metadata": {},
   "outputs": [
    {
     "data": {
      "text/html": [
       "<div>\n",
       "<table border=\"1\" class=\"dataframe\">\n",
       "  <thead>\n",
       "    <tr style=\"text-align: right;\">\n",
       "      <th></th>\n",
       "      <th>Ill300x.GT</th>\n",
       "      <th>Ill300x.alt_alnScore_mean</th>\n",
       "      <th>Ill300x.alt_alnScore_std</th>\n",
       "      <th>Ill300x.alt_count</th>\n",
       "      <th>Ill300x.alt_insertSize_mean</th>\n",
       "      <th>Ill300x.alt_insertSize_std</th>\n",
       "      <th>Ill300x.alt_reason_alignmentScore</th>\n",
       "      <th>Ill300x.alt_reason_insertSizeScore</th>\n",
       "      <th>Ill300x.alt_reason_orientation</th>\n",
       "      <th>Ill300x.amb_alnScore_mean</th>\n",
       "      <th>...</th>\n",
       "      <th>refN_pct</th>\n",
       "      <th>segdup_cnt</th>\n",
       "      <th>segdup_pct</th>\n",
       "      <th>start</th>\n",
       "      <th>tandemrep_cnt</th>\n",
       "      <th>tandemrep_pct</th>\n",
       "      <th>predicted_label</th>\n",
       "      <th>GTcons</th>\n",
       "      <th>GTsupp</th>\n",
       "      <th>GTconswithoutIll300x.GT</th>\n",
       "    </tr>\n",
       "  </thead>\n",
       "  <tbody>\n",
       "    <tr>\n",
       "      <th>2</th>\n",
       "      <td>-1.0</td>\n",
       "      <td>565.25</td>\n",
       "      <td>15.327671</td>\n",
       "      <td>8.0</td>\n",
       "      <td>606.75</td>\n",
       "      <td>105.736406</td>\n",
       "      <td>8.0</td>\n",
       "      <td>0.0</td>\n",
       "      <td>0.0</td>\n",
       "      <td>520.852251</td>\n",
       "      <td>...</td>\n",
       "      <td>0.0</td>\n",
       "      <td>0.0</td>\n",
       "      <td>0.0</td>\n",
       "      <td>1092675</td>\n",
       "      <td>1.0</td>\n",
       "      <td>1.0</td>\n",
       "      <td>0.0</td>\n",
       "      <td>1</td>\n",
       "      <td>1</td>\n",
       "      <td>1</td>\n",
       "    </tr>\n",
       "  </tbody>\n",
       "</table>\n",
       "<p>1 rows × 47 columns</p>\n",
       "</div>"
      ],
      "text/plain": [
       "   Ill300x.GT  Ill300x.alt_alnScore_mean  Ill300x.alt_alnScore_std  \\\n",
       "2        -1.0                     565.25                 15.327671   \n",
       "\n",
       "   Ill300x.alt_count  Ill300x.alt_insertSize_mean  Ill300x.alt_insertSize_std  \\\n",
       "2                8.0                       606.75                  105.736406   \n",
       "\n",
       "   Ill300x.alt_reason_alignmentScore  Ill300x.alt_reason_insertSizeScore  \\\n",
       "2                                8.0                                 0.0   \n",
       "\n",
       "   Ill300x.alt_reason_orientation  Ill300x.amb_alnScore_mean  \\\n",
       "2                             0.0                 520.852251   \n",
       "\n",
       "            ...             refN_pct  segdup_cnt  segdup_pct    start  \\\n",
       "2           ...                  0.0         0.0         0.0  1092675   \n",
       "\n",
       "   tandemrep_cnt  tandemrep_pct  predicted_label  GTcons  GTsupp  \\\n",
       "2            1.0            1.0              0.0       1       1   \n",
       "\n",
       "   GTconswithoutIll300x.GT  \n",
       "2                        1  \n",
       "\n",
       "[1 rows x 47 columns]"
      ]
     },
     "execution_count": 59,
     "metadata": {},
     "output_type": "execute_result"
    }
   ],
   "source": [
    "hr = X5['predicted_label'] == 0.0\n",
    "hom_ref = X5[hr]\n",
    "hom_ref.head(1)"
   ]
  },
  {
   "cell_type": "code",
   "execution_count": 60,
   "metadata": {},
   "outputs": [
    {
     "data": {
      "text/html": [
       "\n",
       "\n",
       "    <div class=\"bk-root\">\n",
       "        <div class=\"bk-plotdiv\" id=\"2251cfcc-6e39-44ae-a5e1-403ebe31e729\"></div>\n",
       "    </div>\n",
       "<script type=\"text/javascript\">\n",
       "  \n",
       "  (function(global) {\n",
       "    function now() {\n",
       "      return new Date();\n",
       "    }\n",
       "  \n",
       "    var force = false;\n",
       "  \n",
       "    if (typeof (window._bokeh_onload_callbacks) === \"undefined\" || force === true) {\n",
       "      window._bokeh_onload_callbacks = [];\n",
       "      window._bokeh_is_loading = undefined;\n",
       "    }\n",
       "  \n",
       "  \n",
       "    \n",
       "    if (typeof (window._bokeh_timeout) === \"undefined\" || force === true) {\n",
       "      window._bokeh_timeout = Date.now() + 0;\n",
       "      window._bokeh_failed_load = false;\n",
       "    }\n",
       "  \n",
       "    var NB_LOAD_WARNING = {'data': {'text/html':\n",
       "       \"<div style='background-color: #fdd'>\\n\"+\n",
       "       \"<p>\\n\"+\n",
       "       \"BokehJS does not appear to have successfully loaded. If loading BokehJS from CDN, this \\n\"+\n",
       "       \"may be due to a slow or bad network connection. Possible fixes:\\n\"+\n",
       "       \"</p>\\n\"+\n",
       "       \"<ul>\\n\"+\n",
       "       \"<li>re-rerun `output_notebook()` to attempt to load from CDN again, or</li>\\n\"+\n",
       "       \"<li>use INLINE resources instead, as so:</li>\\n\"+\n",
       "       \"</ul>\\n\"+\n",
       "       \"<code>\\n\"+\n",
       "       \"from bokeh.resources import INLINE\\n\"+\n",
       "       \"output_notebook(resources=INLINE)\\n\"+\n",
       "       \"</code>\\n\"+\n",
       "       \"</div>\"}};\n",
       "  \n",
       "    function display_loaded() {\n",
       "      if (window.Bokeh !== undefined) {\n",
       "        document.getElementById(\"2251cfcc-6e39-44ae-a5e1-403ebe31e729\").textContent = \"BokehJS successfully loaded.\";\n",
       "      } else if (Date.now() < window._bokeh_timeout) {\n",
       "        setTimeout(display_loaded, 100)\n",
       "      }\n",
       "    }\n",
       "  \n",
       "    function run_callbacks() {\n",
       "      window._bokeh_onload_callbacks.forEach(function(callback) { callback() });\n",
       "      delete window._bokeh_onload_callbacks\n",
       "      console.info(\"Bokeh: all callbacks have finished\");\n",
       "    }\n",
       "  \n",
       "    function load_libs(js_urls, callback) {\n",
       "      window._bokeh_onload_callbacks.push(callback);\n",
       "      if (window._bokeh_is_loading > 0) {\n",
       "        console.log(\"Bokeh: BokehJS is being loaded, scheduling callback at\", now());\n",
       "        return null;\n",
       "      }\n",
       "      if (js_urls == null || js_urls.length === 0) {\n",
       "        run_callbacks();\n",
       "        return null;\n",
       "      }\n",
       "      console.log(\"Bokeh: BokehJS not loaded, scheduling load and callback at\", now());\n",
       "      window._bokeh_is_loading = js_urls.length;\n",
       "      for (var i = 0; i < js_urls.length; i++) {\n",
       "        var url = js_urls[i];\n",
       "        var s = document.createElement('script');\n",
       "        s.src = url;\n",
       "        s.async = false;\n",
       "        s.onreadystatechange = s.onload = function() {\n",
       "          window._bokeh_is_loading--;\n",
       "          if (window._bokeh_is_loading === 0) {\n",
       "            console.log(\"Bokeh: all BokehJS libraries loaded\");\n",
       "            run_callbacks()\n",
       "          }\n",
       "        };\n",
       "        s.onerror = function() {\n",
       "          console.warn(\"failed to load library \" + url);\n",
       "        };\n",
       "        console.log(\"Bokeh: injecting script tag for BokehJS library: \", url);\n",
       "        document.getElementsByTagName(\"head\")[0].appendChild(s);\n",
       "      }\n",
       "    };var element = document.getElementById(\"2251cfcc-6e39-44ae-a5e1-403ebe31e729\");\n",
       "    if (element == null) {\n",
       "      console.log(\"Bokeh: ERROR: autoload.js configured with elementid '2251cfcc-6e39-44ae-a5e1-403ebe31e729' but no matching script tag was found. \")\n",
       "      return false;\n",
       "    }\n",
       "  \n",
       "    var js_urls = [];\n",
       "  \n",
       "    var inline_js = [\n",
       "      function(Bokeh) {\n",
       "        (function() {\n",
       "          var fn = function() {\n",
       "            var docs_json = {\"19407a38-7ead-4241-93ce-418e76a393c9\":{\"roots\":{\"references\":[{\"attributes\":{\"fill_alpha\":{\"field\":\"fill_alpha\"},\"fill_color\":{\"field\":\"color\"},\"height\":{\"field\":\"height\",\"units\":\"data\"},\"line_color\":{\"field\":\"line_color\"},\"width\":{\"field\":\"width\",\"units\":\"data\"},\"x\":{\"field\":\"x\"},\"y\":{\"field\":\"y\"}},\"id\":\"547de77c-d2b2-4b37-9feb-64f7c46472a4\",\"type\":\"Rect\"},{\"attributes\":{\"data_source\":{\"id\":\"65dc1b15-edef-4a6c-a373-07ce60a57992\",\"type\":\"ColumnDataSource\"},\"glyph\":{\"id\":\"633d7272-4ce2-41b4-9d46-3904ee0af900\",\"type\":\"Rect\"},\"hover_glyph\":null,\"nonselection_glyph\":null,\"selection_glyph\":null},\"id\":\"3cd3c701-dfc0-4afa-9d2b-d4cb3a594f12\",\"type\":\"GlyphRenderer\"},{\"attributes\":{\"callback\":null,\"column_names\":[\"color\",\"y\",\"height\",\"width\",\"x\",\"label\",\"line_color\",\"fill_alpha\",\"line_alpha\"],\"data\":{\"chart_index\":[\"(0.800000, 0.933333]\"],\"color\":[\"LightSlateGray\"],\"fill_alpha\":[0.8],\"height\":[0.0],\"label\":[\"(0.800000, 0.933333]\"],\"line_alpha\":[1.0],\"line_color\":[\"black\"],\"width\":[0.1333333333333333],\"x\":[\"0.8666665\"],\"y\":[0.0]}},\"id\":\"e2bfacd6-ac41-4275-8bef-e75e1e0eadaf\",\"type\":\"ColumnDataSource\"},{\"attributes\":{\"fill_alpha\":{\"field\":\"fill_alpha\"},\"fill_color\":{\"field\":\"color\"},\"height\":{\"field\":\"height\",\"units\":\"data\"},\"line_color\":{\"field\":\"line_color\"},\"width\":{\"field\":\"width\",\"units\":\"data\"},\"x\":{\"field\":\"x\"},\"y\":{\"field\":\"y\"}},\"id\":\"c42318e8-bb67-4cc1-b2df-eeea4f2a6c91\",\"type\":\"Rect\"},{\"attributes\":{\"data_source\":{\"id\":\"22a73221-0343-431d-9a11-91eecfb752e9\",\"type\":\"ColumnDataSource\"},\"glyph\":{\"id\":\"8dad68d2-48d5-440f-85f6-2ad486d4d135\",\"type\":\"Rect\"},\"hover_glyph\":null,\"nonselection_glyph\":null,\"selection_glyph\":null},\"id\":\"e44bcfec-54ea-4ad1-b269-0f8a3ba18f01\",\"type\":\"GlyphRenderer\"},{\"attributes\":{\"fill_alpha\":{\"field\":\"fill_alpha\"},\"fill_color\":{\"field\":\"color\"},\"height\":{\"field\":\"height\",\"units\":\"data\"},\"line_color\":{\"field\":\"line_color\"},\"width\":{\"field\":\"width\",\"units\":\"data\"},\"x\":{\"field\":\"x\"},\"y\":{\"field\":\"y\"}},\"id\":\"633d7272-4ce2-41b4-9d46-3904ee0af900\",\"type\":\"Rect\"},{\"attributes\":{\"data_source\":{\"id\":\"1d982088-eca6-48c3-8e86-c234d64c4c33\",\"type\":\"ColumnDataSource\"},\"glyph\":{\"id\":\"e51e22a1-363f-49c9-b02d-8251403fed01\",\"type\":\"Rect\"},\"hover_glyph\":null,\"nonselection_glyph\":null,\"selection_glyph\":null},\"id\":\"509a7293-98ff-4c25-86bd-34eadd204c91\",\"type\":\"GlyphRenderer\"},{\"attributes\":{\"plot\":{\"id\":\"ee3ad1cb-decb-48bb-9086-b45a5f67ec4f\",\"subtype\":\"Chart\",\"type\":\"Plot\"}},\"id\":\"738294d3-bc86-4e28-a2fa-ab71cc33e200\",\"type\":\"PanTool\"},{\"attributes\":{\"axis_label\":\"Frequency\",\"formatter\":{\"id\":\"12a92d0f-bed2-4a1f-af03-29e9228f5a68\",\"type\":\"BasicTickFormatter\"},\"plot\":{\"id\":\"ee3ad1cb-decb-48bb-9086-b45a5f67ec4f\",\"subtype\":\"Chart\",\"type\":\"Plot\"},\"ticker\":{\"id\":\"c64e0b71-3ee1-4fab-9095-7f0514ddefe8\",\"type\":\"BasicTicker\"}},\"id\":\"a04f0102-37bc-453f-99fe-d1a5ca3e2955\",\"type\":\"LinearAxis\"},{\"attributes\":{\"callback\":null,\"column_names\":[\"color\",\"y\",\"height\",\"width\",\"x\",\"label\",\"line_color\",\"fill_alpha\",\"line_alpha\"],\"data\":{\"chart_index\":[\"(1.066667, 1.200000]\"],\"color\":[\"LightSlateGray\"],\"fill_alpha\":[0.8],\"height\":[0.0],\"label\":[\"(1.066667, 1.200000]\"],\"line_alpha\":[1.0],\"line_color\":[\"black\"],\"width\":[0.1333333333333333],\"x\":[\"1.1333335\"],\"y\":[0.0]}},\"id\":\"f0bb453e-9693-4ab2-b661-e1c23d0c7e8c\",\"type\":\"ColumnDataSource\"},{\"attributes\":{\"callback\":null,\"column_names\":[\"color\",\"y\",\"height\",\"width\",\"x\",\"label\",\"line_color\",\"fill_alpha\",\"line_alpha\"],\"data\":{\"chart_index\":[\"(0.666667, 0.800000]\"],\"color\":[\"LightSlateGray\"],\"fill_alpha\":[0.8],\"height\":[0.0],\"label\":[\"(0.666667, 0.800000]\"],\"line_alpha\":[1.0],\"line_color\":[\"black\"],\"width\":[0.13333333333333341],\"x\":[\"0.7333335000000001\"],\"y\":[0.0]}},\"id\":\"22a73221-0343-431d-9a11-91eecfb752e9\",\"type\":\"ColumnDataSource\"},{\"attributes\":{\"fill_alpha\":{\"field\":\"fill_alpha\"},\"fill_color\":{\"field\":\"color\"},\"height\":{\"field\":\"height\",\"units\":\"data\"},\"line_color\":{\"field\":\"line_color\"},\"width\":{\"field\":\"width\",\"units\":\"data\"},\"x\":{\"field\":\"x\"},\"y\":{\"field\":\"y\"}},\"id\":\"22dbc63a-5613-4910-a465-e938d317ba14\",\"type\":\"Rect\"},{\"attributes\":{\"fill_alpha\":{\"field\":\"fill_alpha\"},\"fill_color\":{\"field\":\"color\"},\"height\":{\"field\":\"height\",\"units\":\"data\"},\"line_color\":{\"field\":\"line_color\"},\"width\":{\"field\":\"width\",\"units\":\"data\"},\"x\":{\"field\":\"x\"},\"y\":{\"field\":\"y\"}},\"id\":\"ac74f8f9-988a-44fb-bee5-06fd41e3d7ef\",\"type\":\"Rect\"},{\"attributes\":{\"callback\":null,\"column_names\":[\"color\",\"y\",\"height\",\"width\",\"x\",\"label\",\"line_color\",\"fill_alpha\",\"line_alpha\"],\"data\":{\"chart_index\":[\"(1.600000, 1.733333]\"],\"color\":[\"LightSlateGray\"],\"fill_alpha\":[0.8],\"height\":[0.0],\"label\":[\"(1.600000, 1.733333]\"],\"line_alpha\":[1.0],\"line_color\":[\"black\"],\"width\":[0.1333333333333333],\"x\":[\"1.6666665\"],\"y\":[0.0]}},\"id\":\"65dc1b15-edef-4a6c-a373-07ce60a57992\",\"type\":\"ColumnDataSource\"},{\"attributes\":{\"data_source\":{\"id\":\"252deb0e-bab5-464d-8142-ebee96fd1f35\",\"type\":\"ColumnDataSource\"},\"glyph\":{\"id\":\"ac74f8f9-988a-44fb-bee5-06fd41e3d7ef\",\"type\":\"Rect\"},\"hover_glyph\":null,\"nonselection_glyph\":null,\"selection_glyph\":null},\"id\":\"6a8deda7-d674-4c82-a2ac-3dbd5161ac35\",\"type\":\"GlyphRenderer\"},{\"attributes\":{\"data_source\":{\"id\":\"40f6832b-e6ea-4b89-9a7c-85b2bcaa2120\",\"type\":\"ColumnDataSource\"},\"glyph\":{\"id\":\"c42318e8-bb67-4cc1-b2df-eeea4f2a6c91\",\"type\":\"Rect\"},\"hover_glyph\":null,\"nonselection_glyph\":null,\"selection_glyph\":null},\"id\":\"4b2069ed-8b78-43ee-9b59-d4d43d589c68\",\"type\":\"GlyphRenderer\"},{\"attributes\":{},\"id\":\"78a28e1d-9754-4393-b4ca-6d45fe9dfeaa\",\"type\":\"BasicTicker\"},{\"attributes\":{\"plot\":{\"id\":\"ee3ad1cb-decb-48bb-9086-b45a5f67ec4f\",\"subtype\":\"Chart\",\"type\":\"Plot\"}},\"id\":\"b0ab5a28-e239-4427-a664-4ffd59300dac\",\"type\":\"WheelZoomTool\"},{\"attributes\":{\"data_source\":{\"id\":\"a8468956-3bfd-43ba-aa75-0cad179ac715\",\"type\":\"ColumnDataSource\"},\"glyph\":{\"id\":\"325eef90-d9fb-4077-a599-530d35126923\",\"type\":\"Rect\"},\"hover_glyph\":null,\"nonselection_glyph\":null,\"selection_glyph\":null},\"id\":\"9fad9c93-74d4-4937-98a2-ed71cf0f365b\",\"type\":\"GlyphRenderer\"},{\"attributes\":{\"callback\":null,\"column_names\":[\"color\",\"y\",\"height\",\"width\",\"x\",\"label\",\"line_color\",\"fill_alpha\",\"line_alpha\"],\"data\":{\"chart_index\":[\"(0.133333, 0.266667]\"],\"color\":[\"LightSlateGray\"],\"fill_alpha\":[0.8],\"height\":[0.0],\"label\":[\"(0.133333, 0.266667]\"],\"line_alpha\":[1.0],\"line_color\":[\"black\"],\"width\":[0.13333333333333333],\"x\":[\"0.2\"],\"y\":[0.0]}},\"id\":\"f0916048-62fc-499c-b549-b3c53fa7c0ad\",\"type\":\"ColumnDataSource\"},{\"attributes\":{\"location\":\"top_left\",\"plot\":{\"id\":\"ee3ad1cb-decb-48bb-9086-b45a5f67ec4f\",\"subtype\":\"Chart\",\"type\":\"Plot\"}},\"id\":\"75a288e3-c5dc-414b-8cc5-39dc1ec1b4a2\",\"type\":\"Legend\"},{\"attributes\":{\"callback\":null,\"column_names\":[\"color\",\"y\",\"height\",\"width\",\"x\",\"label\",\"line_color\",\"fill_alpha\",\"line_alpha\"],\"data\":{\"chart_index\":[\"(0.933333, 1.066667]\"],\"color\":[\"LightSlateGray\"],\"fill_alpha\":[0.8],\"height\":[40.0],\"label\":[\"(0.933333, 1.066667]\"],\"line_alpha\":[1.0],\"line_color\":[\"black\"],\"width\":[0.1333333333333333],\"x\":[\"1.0\"],\"y\":[20.0]}},\"id\":\"1ab9e4f2-b004-4983-a9c5-aa10a9aa81aa\",\"type\":\"ColumnDataSource\"},{\"attributes\":{\"plot\":null,\"text\":\"Homozygous_Reference_HG002: Consensust GT\"},\"id\":\"c79f1df4-c51b-45a9-974d-3dd18123228b\",\"type\":\"Title\"},{\"attributes\":{\"below\":[{\"id\":\"bdca101e-e257-49de-a0b1-5cf37e9718b6\",\"type\":\"LinearAxis\"}],\"css_classes\":null,\"left\":[{\"id\":\"a04f0102-37bc-453f-99fe-d1a5ca3e2955\",\"type\":\"LinearAxis\"}],\"plot_height\":250,\"renderers\":[{\"id\":\"a285439a-7b4f-443a-a87b-232ca08a7e6e\",\"type\":\"BoxAnnotation\"},{\"id\":\"6a8deda7-d674-4c82-a2ac-3dbd5161ac35\",\"type\":\"GlyphRenderer\"},{\"id\":\"75309ef8-58a1-432a-8ff5-8d3767faa362\",\"type\":\"GlyphRenderer\"},{\"id\":\"9fad9c93-74d4-4937-98a2-ed71cf0f365b\",\"type\":\"GlyphRenderer\"},{\"id\":\"9fa1b78c-41cd-47aa-9925-f71878cec734\",\"type\":\"GlyphRenderer\"},{\"id\":\"b6c1e30e-feee-4ce8-b0d9-13be6482c41f\",\"type\":\"GlyphRenderer\"},{\"id\":\"e44bcfec-54ea-4ad1-b269-0f8a3ba18f01\",\"type\":\"GlyphRenderer\"},{\"id\":\"38b752f2-8cfd-4c96-bbbb-15b71b8445d6\",\"type\":\"GlyphRenderer\"},{\"id\":\"24596e77-7985-4624-a96a-273140058429\",\"type\":\"GlyphRenderer\"},{\"id\":\"bad7128e-944e-4e82-9b5d-2fa9196e2514\",\"type\":\"GlyphRenderer\"},{\"id\":\"0f7836f5-96ba-4713-802a-225fce057487\",\"type\":\"GlyphRenderer\"},{\"id\":\"4b2069ed-8b78-43ee-9b59-d4d43d589c68\",\"type\":\"GlyphRenderer\"},{\"id\":\"509a7293-98ff-4c25-86bd-34eadd204c91\",\"type\":\"GlyphRenderer\"},{\"id\":\"3cd3c701-dfc0-4afa-9d2b-d4cb3a594f12\",\"type\":\"GlyphRenderer\"},{\"id\":\"796104f9-0bc4-4744-9d08-daa9275875b2\",\"type\":\"GlyphRenderer\"},{\"id\":\"126ccb75-e6ba-48b5-90fc-6d607c349550\",\"type\":\"GlyphRenderer\"},{\"id\":\"75a288e3-c5dc-414b-8cc5-39dc1ec1b4a2\",\"type\":\"Legend\"},{\"id\":\"bdca101e-e257-49de-a0b1-5cf37e9718b6\",\"type\":\"LinearAxis\"},{\"id\":\"a04f0102-37bc-453f-99fe-d1a5ca3e2955\",\"type\":\"LinearAxis\"},{\"id\":\"ab0e235b-0d18-43de-b365-31ac0db1641c\",\"type\":\"Grid\"}],\"title\":{\"id\":\"c79f1df4-c51b-45a9-974d-3dd18123228b\",\"type\":\"Title\"},\"tool_events\":{\"id\":\"516e0234-da79-41db-9b75-047bf5c01bb5\",\"type\":\"ToolEvents\"},\"toolbar\":{\"id\":\"2198fd77-991d-4f01-b420-0bcae225e5fc\",\"type\":\"Toolbar\"},\"x_mapper_type\":\"auto\",\"x_range\":{\"id\":\"30402131-8db4-499f-96e0-35c0034f111e\",\"type\":\"Range1d\"},\"y_mapper_type\":\"auto\",\"y_range\":{\"id\":\"e7922220-5d6a-4537-8398-2c70ddf7f31a\",\"type\":\"Range1d\"}},\"id\":\"ee3ad1cb-decb-48bb-9086-b45a5f67ec4f\",\"subtype\":\"Chart\",\"type\":\"Plot\"},{\"attributes\":{\"callback\":null,\"column_names\":[\"color\",\"y\",\"height\",\"width\",\"x\",\"label\",\"line_color\",\"fill_alpha\",\"line_alpha\"],\"data\":{\"chart_index\":[\"(1.333333, 1.466667]\"],\"color\":[\"LightSlateGray\"],\"fill_alpha\":[0.8],\"height\":[0.0],\"label\":[\"(1.333333, 1.466667]\"],\"line_alpha\":[1.0],\"line_color\":[\"black\"],\"width\":[0.1333333333333333],\"x\":[\"1.4\"],\"y\":[0.0]}},\"id\":\"40f6832b-e6ea-4b89-9a7c-85b2bcaa2120\",\"type\":\"ColumnDataSource\"},{\"attributes\":{\"callback\":null,\"end\":2.0500001666666665,\"start\":-0.050000166666666665},\"id\":\"30402131-8db4-499f-96e0-35c0034f111e\",\"type\":\"Range1d\"},{\"attributes\":{\"fill_alpha\":{\"field\":\"fill_alpha\"},\"fill_color\":{\"field\":\"color\"},\"height\":{\"field\":\"height\",\"units\":\"data\"},\"line_color\":{\"field\":\"line_color\"},\"width\":{\"field\":\"width\",\"units\":\"data\"},\"x\":{\"field\":\"x\"},\"y\":{\"field\":\"y\"}},\"id\":\"3cbc92b0-9c5a-40cb-aede-1ab709a4c348\",\"type\":\"Rect\"},{\"attributes\":{\"callback\":null,\"column_names\":[\"color\",\"y\",\"height\",\"width\",\"x\",\"label\",\"line_color\",\"fill_alpha\",\"line_alpha\"],\"data\":{\"chart_index\":[\"(1.866667, 2.000000]\"],\"color\":[\"LightSlateGray\"],\"fill_alpha\":[0.8],\"height\":[1.0],\"label\":[\"(1.866667, 2.000000]\"],\"line_alpha\":[1.0],\"line_color\":[\"black\"],\"width\":[0.1333333333333333],\"x\":[\"1.9333335\"],\"y\":[0.5]}},\"id\":\"e94ebeb6-733e-4ca0-8101-08627a60ff76\",\"type\":\"ColumnDataSource\"},{\"attributes\":{\"plot\":{\"id\":\"ee3ad1cb-decb-48bb-9086-b45a5f67ec4f\",\"subtype\":\"Chart\",\"type\":\"Plot\"}},\"id\":\"a4ec8ebd-8e89-4f83-81a7-289e1b0d4b4b\",\"type\":\"SaveTool\"},{\"attributes\":{\"fill_alpha\":{\"field\":\"fill_alpha\"},\"fill_color\":{\"field\":\"color\"},\"height\":{\"field\":\"height\",\"units\":\"data\"},\"line_color\":{\"field\":\"line_color\"},\"width\":{\"field\":\"width\",\"units\":\"data\"},\"x\":{\"field\":\"x\"},\"y\":{\"field\":\"y\"}},\"id\":\"c4b220a4-9432-4c3e-9e13-a9e2f893bd25\",\"type\":\"Rect\"},{\"attributes\":{\"callback\":null,\"column_names\":[\"color\",\"y\",\"height\",\"width\",\"x\",\"label\",\"line_color\",\"fill_alpha\",\"line_alpha\"],\"data\":{\"chart_index\":[\"(0.266667, 0.400000]\"],\"color\":[\"LightSlateGray\"],\"fill_alpha\":[0.8],\"height\":[0.0],\"label\":[\"(0.266667, 0.400000]\"],\"line_alpha\":[1.0],\"line_color\":[\"black\"],\"width\":[0.13333333333333336],\"x\":[\"0.3333335\"],\"y\":[0.0]}},\"id\":\"a8468956-3bfd-43ba-aa75-0cad179ac715\",\"type\":\"ColumnDataSource\"},{\"attributes\":{\"fill_alpha\":{\"field\":\"fill_alpha\"},\"fill_color\":{\"field\":\"color\"},\"height\":{\"field\":\"height\",\"units\":\"data\"},\"line_color\":{\"field\":\"line_color\"},\"width\":{\"field\":\"width\",\"units\":\"data\"},\"x\":{\"field\":\"x\"},\"y\":{\"field\":\"y\"}},\"id\":\"4c2da045-d6fe-4db1-b7ff-8bd31f05e66b\",\"type\":\"Rect\"},{\"attributes\":{\"axis_label\":\"GTcons\",\"formatter\":{\"id\":\"709f94fb-2cd5-4eda-999d-08ae9d23311a\",\"type\":\"BasicTickFormatter\"},\"plot\":{\"id\":\"ee3ad1cb-decb-48bb-9086-b45a5f67ec4f\",\"subtype\":\"Chart\",\"type\":\"Plot\"},\"ticker\":{\"id\":\"78a28e1d-9754-4393-b4ca-6d45fe9dfeaa\",\"type\":\"BasicTicker\"}},\"id\":\"bdca101e-e257-49de-a0b1-5cf37e9718b6\",\"type\":\"LinearAxis\"},{\"attributes\":{\"callback\":null,\"end\":580.8000000000001},\"id\":\"e7922220-5d6a-4537-8398-2c70ddf7f31a\",\"type\":\"Range1d\"},{\"attributes\":{\"fill_alpha\":{\"field\":\"fill_alpha\"},\"fill_color\":{\"field\":\"color\"},\"height\":{\"field\":\"height\",\"units\":\"data\"},\"line_color\":{\"field\":\"line_color\"},\"width\":{\"field\":\"width\",\"units\":\"data\"},\"x\":{\"field\":\"x\"},\"y\":{\"field\":\"y\"}},\"id\":\"9f43f356-c916-4fe9-be2a-137293b04ebe\",\"type\":\"Rect\"},{\"attributes\":{\"fill_alpha\":{\"field\":\"fill_alpha\"},\"fill_color\":{\"field\":\"color\"},\"height\":{\"field\":\"height\",\"units\":\"data\"},\"line_color\":{\"field\":\"line_color\"},\"width\":{\"field\":\"width\",\"units\":\"data\"},\"x\":{\"field\":\"x\"},\"y\":{\"field\":\"y\"}},\"id\":\"e62d786e-122a-4168-aab5-8f124755313b\",\"type\":\"Rect\"},{\"attributes\":{\"data_source\":{\"id\":\"b37042a2-401c-448a-925b-764ec9dfb81f\",\"type\":\"ColumnDataSource\"},\"glyph\":{\"id\":\"4f3d138c-de07-40a6-b0ea-6a712d23ec40\",\"type\":\"Rect\"},\"hover_glyph\":null,\"nonselection_glyph\":null,\"selection_glyph\":null},\"id\":\"9fa1b78c-41cd-47aa-9925-f71878cec734\",\"type\":\"GlyphRenderer\"},{\"attributes\":{},\"id\":\"c64e0b71-3ee1-4fab-9095-7f0514ddefe8\",\"type\":\"BasicTicker\"},{\"attributes\":{\"data_source\":{\"id\":\"8c360320-2f95-4181-8232-3b98090ddf9e\",\"type\":\"ColumnDataSource\"},\"glyph\":{\"id\":\"9f43f356-c916-4fe9-be2a-137293b04ebe\",\"type\":\"Rect\"},\"hover_glyph\":null,\"nonselection_glyph\":null,\"selection_glyph\":null},\"id\":\"b6c1e30e-feee-4ce8-b0d9-13be6482c41f\",\"type\":\"GlyphRenderer\"},{\"attributes\":{\"callback\":null,\"column_names\":[\"color\",\"y\",\"height\",\"width\",\"x\",\"label\",\"line_color\",\"fill_alpha\",\"line_alpha\"],\"data\":{\"chart_index\":[\"(1.466667, 1.600000]\"],\"color\":[\"LightSlateGray\"],\"fill_alpha\":[0.8],\"height\":[0.0],\"label\":[\"(1.466667, 1.600000]\"],\"line_alpha\":[1.0],\"line_color\":[\"black\"],\"width\":[0.13333333333333353],\"x\":[\"1.5333335\"],\"y\":[0.0]}},\"id\":\"1d982088-eca6-48c3-8e86-c234d64c4c33\",\"type\":\"ColumnDataSource\"},{\"attributes\":{\"plot\":{\"id\":\"ee3ad1cb-decb-48bb-9086-b45a5f67ec4f\",\"subtype\":\"Chart\",\"type\":\"Plot\"}},\"id\":\"397f5855-4934-49d8-ba86-32992d579269\",\"type\":\"ResetTool\"},{\"attributes\":{\"data_source\":{\"id\":\"e94ebeb6-733e-4ca0-8101-08627a60ff76\",\"type\":\"ColumnDataSource\"},\"glyph\":{\"id\":\"e62d786e-122a-4168-aab5-8f124755313b\",\"type\":\"Rect\"},\"hover_glyph\":null,\"nonselection_glyph\":null,\"selection_glyph\":null},\"id\":\"126ccb75-e6ba-48b5-90fc-6d607c349550\",\"type\":\"GlyphRenderer\"},{\"attributes\":{\"overlay\":{\"id\":\"a285439a-7b4f-443a-a87b-232ca08a7e6e\",\"type\":\"BoxAnnotation\"},\"plot\":{\"id\":\"ee3ad1cb-decb-48bb-9086-b45a5f67ec4f\",\"subtype\":\"Chart\",\"type\":\"Plot\"}},\"id\":\"d2a8ebde-5183-492b-87c8-8a4cd036370f\",\"type\":\"BoxZoomTool\"},{\"attributes\":{\"bottom_units\":\"screen\",\"fill_alpha\":{\"value\":0.5},\"fill_color\":{\"value\":\"lightgrey\"},\"left_units\":\"screen\",\"level\":\"overlay\",\"line_alpha\":{\"value\":1.0},\"line_color\":{\"value\":\"black\"},\"line_dash\":[4,4],\"line_width\":{\"value\":2},\"plot\":null,\"render_mode\":\"css\",\"right_units\":\"screen\",\"top_units\":\"screen\"},\"id\":\"a285439a-7b4f-443a-a87b-232ca08a7e6e\",\"type\":\"BoxAnnotation\"},{\"attributes\":{\"data_source\":{\"id\":\"e2bfacd6-ac41-4275-8bef-e75e1e0eadaf\",\"type\":\"ColumnDataSource\"},\"glyph\":{\"id\":\"4c2da045-d6fe-4db1-b7ff-8bd31f05e66b\",\"type\":\"Rect\"},\"hover_glyph\":null,\"nonselection_glyph\":null,\"selection_glyph\":null},\"id\":\"38b752f2-8cfd-4c96-bbbb-15b71b8445d6\",\"type\":\"GlyphRenderer\"},{\"attributes\":{\"data_source\":{\"id\":\"f0bb453e-9693-4ab2-b661-e1c23d0c7e8c\",\"type\":\"ColumnDataSource\"},\"glyph\":{\"id\":\"22dbc63a-5613-4910-a465-e938d317ba14\",\"type\":\"Rect\"},\"hover_glyph\":null,\"nonselection_glyph\":null,\"selection_glyph\":null},\"id\":\"bad7128e-944e-4e82-9b5d-2fa9196e2514\",\"type\":\"GlyphRenderer\"},{\"attributes\":{\"plot\":{\"id\":\"ee3ad1cb-decb-48bb-9086-b45a5f67ec4f\",\"subtype\":\"Chart\",\"type\":\"Plot\"}},\"id\":\"248d8474-8799-4883-b2e1-b2a783ed08d0\",\"type\":\"HelpTool\"},{\"attributes\":{\"fill_alpha\":{\"field\":\"fill_alpha\"},\"fill_color\":{\"field\":\"color\"},\"height\":{\"field\":\"height\",\"units\":\"data\"},\"line_color\":{\"field\":\"line_color\"},\"width\":{\"field\":\"width\",\"units\":\"data\"},\"x\":{\"field\":\"x\"},\"y\":{\"field\":\"y\"}},\"id\":\"4f3d138c-de07-40a6-b0ea-6a712d23ec40\",\"type\":\"Rect\"},{\"attributes\":{\"data_source\":{\"id\":\"5bc5601f-37e1-4fee-9be5-0b39e4a72877\",\"type\":\"ColumnDataSource\"},\"glyph\":{\"id\":\"547de77c-d2b2-4b37-9feb-64f7c46472a4\",\"type\":\"Rect\"},\"hover_glyph\":null,\"nonselection_glyph\":null,\"selection_glyph\":null},\"id\":\"0f7836f5-96ba-4713-802a-225fce057487\",\"type\":\"GlyphRenderer\"},{\"attributes\":{\"callback\":null,\"column_names\":[\"color\",\"y\",\"height\",\"width\",\"x\",\"label\",\"line_color\",\"fill_alpha\",\"line_alpha\"],\"data\":{\"chart_index\":[\"(0.533333, 0.666667]\"],\"color\":[\"LightSlateGray\"],\"fill_alpha\":[0.8],\"height\":[0.0],\"label\":[\"(0.533333, 0.666667]\"],\"line_alpha\":[1.0],\"line_color\":[\"black\"],\"width\":[0.1333333333333333],\"x\":[\"0.6\"],\"y\":[0.0]}},\"id\":\"8c360320-2f95-4181-8232-3b98090ddf9e\",\"type\":\"ColumnDataSource\"},{\"attributes\":{\"dimension\":1,\"plot\":{\"id\":\"ee3ad1cb-decb-48bb-9086-b45a5f67ec4f\",\"subtype\":\"Chart\",\"type\":\"Plot\"},\"ticker\":{\"id\":\"c64e0b71-3ee1-4fab-9095-7f0514ddefe8\",\"type\":\"BasicTicker\"}},\"id\":\"ab0e235b-0d18-43de-b365-31ac0db1641c\",\"type\":\"Grid\"},{\"attributes\":{\"fill_alpha\":{\"field\":\"fill_alpha\"},\"fill_color\":{\"field\":\"color\"},\"height\":{\"field\":\"height\",\"units\":\"data\"},\"line_color\":{\"field\":\"line_color\"},\"width\":{\"field\":\"width\",\"units\":\"data\"},\"x\":{\"field\":\"x\"},\"y\":{\"field\":\"y\"}},\"id\":\"36ef8163-5bc5-4f4d-b148-2115d5191b75\",\"type\":\"Rect\"},{\"attributes\":{\"active_drag\":\"auto\",\"active_scroll\":\"auto\",\"active_tap\":\"auto\",\"tools\":[{\"id\":\"738294d3-bc86-4e28-a2fa-ab71cc33e200\",\"type\":\"PanTool\"},{\"id\":\"b0ab5a28-e239-4427-a664-4ffd59300dac\",\"type\":\"WheelZoomTool\"},{\"id\":\"d2a8ebde-5183-492b-87c8-8a4cd036370f\",\"type\":\"BoxZoomTool\"},{\"id\":\"a4ec8ebd-8e89-4f83-81a7-289e1b0d4b4b\",\"type\":\"SaveTool\"},{\"id\":\"397f5855-4934-49d8-ba86-32992d579269\",\"type\":\"ResetTool\"},{\"id\":\"248d8474-8799-4883-b2e1-b2a783ed08d0\",\"type\":\"HelpTool\"}]},\"id\":\"2198fd77-991d-4f01-b420-0bcae225e5fc\",\"type\":\"Toolbar\"},{\"attributes\":{},\"id\":\"709f94fb-2cd5-4eda-999d-08ae9d23311a\",\"type\":\"BasicTickFormatter\"},{\"attributes\":{\"fill_alpha\":{\"field\":\"fill_alpha\"},\"fill_color\":{\"field\":\"color\"},\"height\":{\"field\":\"height\",\"units\":\"data\"},\"line_color\":{\"field\":\"line_color\"},\"width\":{\"field\":\"width\",\"units\":\"data\"},\"x\":{\"field\":\"x\"},\"y\":{\"field\":\"y\"}},\"id\":\"e51e22a1-363f-49c9-b02d-8251403fed01\",\"type\":\"Rect\"},{\"attributes\":{},\"id\":\"516e0234-da79-41db-9b75-047bf5c01bb5\",\"type\":\"ToolEvents\"},{\"attributes\":{\"data_source\":{\"id\":\"bca23f96-41c1-4964-b6ae-543436d164c7\",\"type\":\"ColumnDataSource\"},\"glyph\":{\"id\":\"3cbc92b0-9c5a-40cb-aede-1ab709a4c348\",\"type\":\"Rect\"},\"hover_glyph\":null,\"nonselection_glyph\":null,\"selection_glyph\":null},\"id\":\"796104f9-0bc4-4744-9d08-daa9275875b2\",\"type\":\"GlyphRenderer\"},{\"attributes\":{\"callback\":null,\"column_names\":[\"color\",\"y\",\"height\",\"width\",\"x\",\"label\",\"line_color\",\"fill_alpha\",\"line_alpha\"],\"data\":{\"chart_index\":[\"(0.400000, 0.533333]\"],\"color\":[\"LightSlateGray\"],\"fill_alpha\":[0.8],\"height\":[0.0],\"label\":[\"(0.400000, 0.533333]\"],\"line_alpha\":[1.0],\"line_color\":[\"black\"],\"width\":[0.1333333333333333],\"x\":[\"0.4666665\"],\"y\":[0.0]}},\"id\":\"b37042a2-401c-448a-925b-764ec9dfb81f\",\"type\":\"ColumnDataSource\"},{\"attributes\":{\"data_source\":{\"id\":\"f0916048-62fc-499c-b549-b3c53fa7c0ad\",\"type\":\"ColumnDataSource\"},\"glyph\":{\"id\":\"c4b220a4-9432-4c3e-9e13-a9e2f893bd25\",\"type\":\"Rect\"},\"hover_glyph\":null,\"nonselection_glyph\":null,\"selection_glyph\":null},\"id\":\"75309ef8-58a1-432a-8ff5-8d3767faa362\",\"type\":\"GlyphRenderer\"},{\"attributes\":{\"callback\":null,\"column_names\":[\"color\",\"y\",\"height\",\"width\",\"x\",\"label\",\"line_color\",\"fill_alpha\",\"line_alpha\"],\"data\":{\"chart_index\":[\"(1.200000, 1.333333]\"],\"color\":[\"LightSlateGray\"],\"fill_alpha\":[0.8],\"height\":[0.0],\"label\":[\"(1.200000, 1.333333]\"],\"line_alpha\":[1.0],\"line_color\":[\"black\"],\"width\":[0.1333333333333333],\"x\":[\"1.2666665\"],\"y\":[0.0]}},\"id\":\"5bc5601f-37e1-4fee-9be5-0b39e4a72877\",\"type\":\"ColumnDataSource\"},{\"attributes\":{},\"id\":\"12a92d0f-bed2-4a1f-af03-29e9228f5a68\",\"type\":\"BasicTickFormatter\"},{\"attributes\":{\"callback\":null,\"column_names\":[\"color\",\"y\",\"height\",\"width\",\"x\",\"label\",\"line_color\",\"fill_alpha\",\"line_alpha\"],\"data\":{\"chart_index\":[\"(1.733333, 1.866667]\"],\"color\":[\"LightSlateGray\"],\"fill_alpha\":[0.8],\"height\":[0.0],\"label\":[\"(1.733333, 1.866667]\"],\"line_alpha\":[1.0],\"line_color\":[\"black\"],\"width\":[0.1333333333333333],\"x\":[\"1.8\"],\"y\":[0.0]}},\"id\":\"bca23f96-41c1-4964-b6ae-543436d164c7\",\"type\":\"ColumnDataSource\"},{\"attributes\":{\"callback\":null,\"column_names\":[\"color\",\"y\",\"height\",\"width\",\"x\",\"label\",\"line_color\",\"fill_alpha\",\"line_alpha\"],\"data\":{\"chart_index\":[\"[0.000000, 0.133333]\"],\"color\":[\"LightSlateGray\"],\"fill_alpha\":[0.8],\"height\":[528.0],\"label\":[\"[0.000000, 0.133333]\"],\"line_alpha\":[1.0],\"line_color\":[\"black\"],\"width\":[0.13333333333333333],\"x\":[\"0.0666665\"],\"y\":[264.0]}},\"id\":\"252deb0e-bab5-464d-8142-ebee96fd1f35\",\"type\":\"ColumnDataSource\"},{\"attributes\":{\"data_source\":{\"id\":\"1ab9e4f2-b004-4983-a9c5-aa10a9aa81aa\",\"type\":\"ColumnDataSource\"},\"glyph\":{\"id\":\"36ef8163-5bc5-4f4d-b148-2115d5191b75\",\"type\":\"Rect\"},\"hover_glyph\":null,\"nonselection_glyph\":null,\"selection_glyph\":null},\"id\":\"24596e77-7985-4624-a96a-273140058429\",\"type\":\"GlyphRenderer\"},{\"attributes\":{\"fill_alpha\":{\"field\":\"fill_alpha\"},\"fill_color\":{\"field\":\"color\"},\"height\":{\"field\":\"height\",\"units\":\"data\"},\"line_color\":{\"field\":\"line_color\"},\"width\":{\"field\":\"width\",\"units\":\"data\"},\"x\":{\"field\":\"x\"},\"y\":{\"field\":\"y\"}},\"id\":\"8dad68d2-48d5-440f-85f6-2ad486d4d135\",\"type\":\"Rect\"},{\"attributes\":{\"fill_alpha\":{\"field\":\"fill_alpha\"},\"fill_color\":{\"field\":\"color\"},\"height\":{\"field\":\"height\",\"units\":\"data\"},\"line_color\":{\"field\":\"line_color\"},\"width\":{\"field\":\"width\",\"units\":\"data\"},\"x\":{\"field\":\"x\"},\"y\":{\"field\":\"y\"}},\"id\":\"325eef90-d9fb-4077-a599-530d35126923\",\"type\":\"Rect\"}],\"root_ids\":[\"ee3ad1cb-decb-48bb-9086-b45a5f67ec4f\"]},\"title\":\"Bokeh Application\",\"version\":\"0.12.4\"}};\n",
       "            var render_items = [{\"docid\":\"19407a38-7ead-4241-93ce-418e76a393c9\",\"elementid\":\"2251cfcc-6e39-44ae-a5e1-403ebe31e729\",\"modelid\":\"ee3ad1cb-decb-48bb-9086-b45a5f67ec4f\"}];\n",
       "            \n",
       "            Bokeh.embed.embed_items(docs_json, render_items);\n",
       "          };\n",
       "          if (document.readyState != \"loading\") fn();\n",
       "          else document.addEventListener(\"DOMContentLoaded\", fn);\n",
       "        })();\n",
       "      },\n",
       "      function(Bokeh) {\n",
       "      }\n",
       "    ];\n",
       "  \n",
       "    function run_inline_js() {\n",
       "      \n",
       "      if ((window.Bokeh !== undefined) || (force === true)) {\n",
       "        for (var i = 0; i < inline_js.length; i++) {\n",
       "          inline_js[i](window.Bokeh);\n",
       "        }if (force === true) {\n",
       "          display_loaded();\n",
       "        }} else if (Date.now() < window._bokeh_timeout) {\n",
       "        setTimeout(run_inline_js, 100);\n",
       "      } else if (!window._bokeh_failed_load) {\n",
       "        console.log(\"Bokeh: BokehJS failed to load within specified timeout.\");\n",
       "        window._bokeh_failed_load = true;\n",
       "      } else if (force !== true) {\n",
       "        var cell = $(document.getElementById(\"2251cfcc-6e39-44ae-a5e1-403ebe31e729\")).parents('.cell').data().cell;\n",
       "        cell.output_area.append_execute_result(NB_LOAD_WARNING)\n",
       "      }\n",
       "  \n",
       "    }\n",
       "  \n",
       "    if (window._bokeh_is_loading === 0) {\n",
       "      console.log(\"Bokeh: BokehJS loaded, going straight to plotting\");\n",
       "      run_inline_js();\n",
       "    } else {\n",
       "      load_libs(js_urls, function() {\n",
       "        console.log(\"Bokeh: BokehJS plotting callback run at\", now());\n",
       "        run_inline_js();\n",
       "      });\n",
       "    }\n",
       "  }(this));\n",
       "</script>"
      ]
     },
     "metadata": {},
     "output_type": "display_data"
    }
   ],
   "source": [
    "p = figure()\n",
    "p = Histogram(hom_ref, values='GTcons', title='Homozygous_Reference_HG002: Consensust GT', color='LightSlateGray', bins=15, plot_height=250, xlabel=\"GTcons\", ylabel=\"Frequency\")\n",
    "show(p)"
   ]
  },
  {
   "cell_type": "markdown",
   "metadata": {},
   "source": [
    "** Inaccurate Call **"
   ]
  },
  {
   "cell_type": "code",
   "execution_count": 61,
   "metadata": {},
   "outputs": [
    {
     "data": {
      "text/html": [
       "<div>\n",
       "<table border=\"1\" class=\"dataframe\">\n",
       "  <thead>\n",
       "    <tr style=\"text-align: right;\">\n",
       "      <th></th>\n",
       "      <th>Ill300x.GT</th>\n",
       "      <th>Ill300x.alt_alnScore_mean</th>\n",
       "      <th>Ill300x.alt_alnScore_std</th>\n",
       "      <th>Ill300x.alt_count</th>\n",
       "      <th>Ill300x.alt_insertSize_mean</th>\n",
       "      <th>Ill300x.alt_insertSize_std</th>\n",
       "      <th>Ill300x.alt_reason_alignmentScore</th>\n",
       "      <th>Ill300x.alt_reason_insertSizeScore</th>\n",
       "      <th>Ill300x.alt_reason_orientation</th>\n",
       "      <th>Ill300x.amb_alnScore_mean</th>\n",
       "      <th>...</th>\n",
       "      <th>refN_pct</th>\n",
       "      <th>segdup_cnt</th>\n",
       "      <th>segdup_pct</th>\n",
       "      <th>start</th>\n",
       "      <th>tandemrep_cnt</th>\n",
       "      <th>tandemrep_pct</th>\n",
       "      <th>predicted_label</th>\n",
       "      <th>GTcons</th>\n",
       "      <th>GTsupp</th>\n",
       "      <th>GTconswithoutIll300x.GT</th>\n",
       "    </tr>\n",
       "  </thead>\n",
       "  <tbody>\n",
       "    <tr>\n",
       "      <th>0</th>\n",
       "      <td>0.0</td>\n",
       "      <td>0.0</td>\n",
       "      <td>0.0</td>\n",
       "      <td>0.0</td>\n",
       "      <td>0.0</td>\n",
       "      <td>0.0</td>\n",
       "      <td>0.0</td>\n",
       "      <td>0.0</td>\n",
       "      <td>0.0</td>\n",
       "      <td>529.107945</td>\n",
       "      <td>...</td>\n",
       "      <td>0.0</td>\n",
       "      <td>0.0</td>\n",
       "      <td>0.0</td>\n",
       "      <td>37568322</td>\n",
       "      <td>3.0</td>\n",
       "      <td>0.818868</td>\n",
       "      <td>2.0</td>\n",
       "      <td>0</td>\n",
       "      <td>4</td>\n",
       "      <td>0</td>\n",
       "    </tr>\n",
       "  </tbody>\n",
       "</table>\n",
       "<p>1 rows × 47 columns</p>\n",
       "</div>"
      ],
      "text/plain": [
       "   Ill300x.GT  Ill300x.alt_alnScore_mean  Ill300x.alt_alnScore_std  \\\n",
       "0         0.0                        0.0                       0.0   \n",
       "\n",
       "   Ill300x.alt_count  Ill300x.alt_insertSize_mean  Ill300x.alt_insertSize_std  \\\n",
       "0                0.0                          0.0                         0.0   \n",
       "\n",
       "   Ill300x.alt_reason_alignmentScore  Ill300x.alt_reason_insertSizeScore  \\\n",
       "0                                0.0                                 0.0   \n",
       "\n",
       "   Ill300x.alt_reason_orientation  Ill300x.amb_alnScore_mean  \\\n",
       "0                             0.0                 529.107945   \n",
       "\n",
       "            ...             refN_pct  segdup_cnt  segdup_pct     start  \\\n",
       "0           ...                  0.0         0.0         0.0  37568322   \n",
       "\n",
       "   tandemrep_cnt  tandemrep_pct  predicted_label  GTcons  GTsupp  \\\n",
       "0            3.0       0.818868              2.0       0       4   \n",
       "\n",
       "   GTconswithoutIll300x.GT  \n",
       "0                        0  \n",
       "\n",
       "[1 rows x 47 columns]"
      ]
     },
     "execution_count": 61,
     "metadata": {},
     "output_type": "execute_result"
    }
   ],
   "source": [
    "ic = X5['predicted_label'] == 2.0\n",
    "inac_call = X5[ic]\n",
    "inac_call.head(1)"
   ]
  },
  {
   "cell_type": "code",
   "execution_count": 62,
   "metadata": {
    "scrolled": true
   },
   "outputs": [
    {
     "data": {
      "text/html": [
       "\n",
       "\n",
       "    <div class=\"bk-root\">\n",
       "        <div class=\"bk-plotdiv\" id=\"d5c0d116-5981-4d14-8dff-7feb41ff00b0\"></div>\n",
       "    </div>\n",
       "<script type=\"text/javascript\">\n",
       "  \n",
       "  (function(global) {\n",
       "    function now() {\n",
       "      return new Date();\n",
       "    }\n",
       "  \n",
       "    var force = false;\n",
       "  \n",
       "    if (typeof (window._bokeh_onload_callbacks) === \"undefined\" || force === true) {\n",
       "      window._bokeh_onload_callbacks = [];\n",
       "      window._bokeh_is_loading = undefined;\n",
       "    }\n",
       "  \n",
       "  \n",
       "    \n",
       "    if (typeof (window._bokeh_timeout) === \"undefined\" || force === true) {\n",
       "      window._bokeh_timeout = Date.now() + 0;\n",
       "      window._bokeh_failed_load = false;\n",
       "    }\n",
       "  \n",
       "    var NB_LOAD_WARNING = {'data': {'text/html':\n",
       "       \"<div style='background-color: #fdd'>\\n\"+\n",
       "       \"<p>\\n\"+\n",
       "       \"BokehJS does not appear to have successfully loaded. If loading BokehJS from CDN, this \\n\"+\n",
       "       \"may be due to a slow or bad network connection. Possible fixes:\\n\"+\n",
       "       \"</p>\\n\"+\n",
       "       \"<ul>\\n\"+\n",
       "       \"<li>re-rerun `output_notebook()` to attempt to load from CDN again, or</li>\\n\"+\n",
       "       \"<li>use INLINE resources instead, as so:</li>\\n\"+\n",
       "       \"</ul>\\n\"+\n",
       "       \"<code>\\n\"+\n",
       "       \"from bokeh.resources import INLINE\\n\"+\n",
       "       \"output_notebook(resources=INLINE)\\n\"+\n",
       "       \"</code>\\n\"+\n",
       "       \"</div>\"}};\n",
       "  \n",
       "    function display_loaded() {\n",
       "      if (window.Bokeh !== undefined) {\n",
       "        document.getElementById(\"d5c0d116-5981-4d14-8dff-7feb41ff00b0\").textContent = \"BokehJS successfully loaded.\";\n",
       "      } else if (Date.now() < window._bokeh_timeout) {\n",
       "        setTimeout(display_loaded, 100)\n",
       "      }\n",
       "    }\n",
       "  \n",
       "    function run_callbacks() {\n",
       "      window._bokeh_onload_callbacks.forEach(function(callback) { callback() });\n",
       "      delete window._bokeh_onload_callbacks\n",
       "      console.info(\"Bokeh: all callbacks have finished\");\n",
       "    }\n",
       "  \n",
       "    function load_libs(js_urls, callback) {\n",
       "      window._bokeh_onload_callbacks.push(callback);\n",
       "      if (window._bokeh_is_loading > 0) {\n",
       "        console.log(\"Bokeh: BokehJS is being loaded, scheduling callback at\", now());\n",
       "        return null;\n",
       "      }\n",
       "      if (js_urls == null || js_urls.length === 0) {\n",
       "        run_callbacks();\n",
       "        return null;\n",
       "      }\n",
       "      console.log(\"Bokeh: BokehJS not loaded, scheduling load and callback at\", now());\n",
       "      window._bokeh_is_loading = js_urls.length;\n",
       "      for (var i = 0; i < js_urls.length; i++) {\n",
       "        var url = js_urls[i];\n",
       "        var s = document.createElement('script');\n",
       "        s.src = url;\n",
       "        s.async = false;\n",
       "        s.onreadystatechange = s.onload = function() {\n",
       "          window._bokeh_is_loading--;\n",
       "          if (window._bokeh_is_loading === 0) {\n",
       "            console.log(\"Bokeh: all BokehJS libraries loaded\");\n",
       "            run_callbacks()\n",
       "          }\n",
       "        };\n",
       "        s.onerror = function() {\n",
       "          console.warn(\"failed to load library \" + url);\n",
       "        };\n",
       "        console.log(\"Bokeh: injecting script tag for BokehJS library: \", url);\n",
       "        document.getElementsByTagName(\"head\")[0].appendChild(s);\n",
       "      }\n",
       "    };var element = document.getElementById(\"d5c0d116-5981-4d14-8dff-7feb41ff00b0\");\n",
       "    if (element == null) {\n",
       "      console.log(\"Bokeh: ERROR: autoload.js configured with elementid 'd5c0d116-5981-4d14-8dff-7feb41ff00b0' but no matching script tag was found. \")\n",
       "      return false;\n",
       "    }\n",
       "  \n",
       "    var js_urls = [];\n",
       "  \n",
       "    var inline_js = [\n",
       "      function(Bokeh) {\n",
       "        (function() {\n",
       "          var fn = function() {\n",
       "            var docs_json = {\"c304a6ea-d80d-4bfa-bd8b-1d41663f519a\":{\"roots\":{\"references\":[{\"attributes\":{\"data_source\":{\"id\":\"8915d422-8d61-4e78-b2aa-3cf0f5dbd363\",\"type\":\"ColumnDataSource\"},\"glyph\":{\"id\":\"8df1c0a6-fd48-4e88-91dd-a322caf32ac2\",\"type\":\"Rect\"},\"hover_glyph\":null,\"nonselection_glyph\":null,\"selection_glyph\":null},\"id\":\"bf3d2547-0e9f-4c43-9012-7d60e1cc36a7\",\"type\":\"GlyphRenderer\"},{\"attributes\":{\"fill_alpha\":{\"field\":\"fill_alpha\"},\"fill_color\":{\"field\":\"color\"},\"height\":{\"field\":\"height\",\"units\":\"data\"},\"line_color\":{\"field\":\"line_color\"},\"width\":{\"field\":\"width\",\"units\":\"data\"},\"x\":{\"field\":\"x\"},\"y\":{\"field\":\"y\"}},\"id\":\"b52a8fb2-b512-4c22-a7ba-7e1567ca5e9c\",\"type\":\"Rect\"},{\"attributes\":{\"plot\":{\"id\":\"de34eacf-a04a-4664-a3f2-4c24275e1b08\",\"subtype\":\"Chart\",\"type\":\"Plot\"}},\"id\":\"67dbe549-e25b-46d6-9b7a-793517a6ff15\",\"type\":\"HelpTool\"},{\"attributes\":{},\"id\":\"eff19a14-eafb-40af-a0f0-c15a6755c182\",\"type\":\"BasicTicker\"},{\"attributes\":{\"fill_alpha\":{\"field\":\"fill_alpha\"},\"fill_color\":{\"field\":\"color\"},\"height\":{\"field\":\"height\",\"units\":\"data\"},\"line_color\":{\"field\":\"line_color\"},\"width\":{\"field\":\"width\",\"units\":\"data\"},\"x\":{\"field\":\"x\"},\"y\":{\"field\":\"y\"}},\"id\":\"8df1c0a6-fd48-4e88-91dd-a322caf32ac2\",\"type\":\"Rect\"},{\"attributes\":{\"data_source\":{\"id\":\"67dc5810-1523-4b94-82f7-67a4b0e1ea50\",\"type\":\"ColumnDataSource\"},\"glyph\":{\"id\":\"2024acfe-215a-4c8e-be19-16407945070c\",\"type\":\"Rect\"},\"hover_glyph\":null,\"nonselection_glyph\":null,\"selection_glyph\":null},\"id\":\"aad7e475-84a1-447c-a517-d7dcccc46e0e\",\"type\":\"GlyphRenderer\"},{\"attributes\":{\"callback\":null,\"column_names\":[\"color\",\"y\",\"height\",\"width\",\"x\",\"label\",\"line_color\",\"fill_alpha\",\"line_alpha\"],\"data\":{\"chart_index\":[\"(1.733333, 1.866667]\"],\"color\":[\"LightSlateGray\"],\"fill_alpha\":[0.8],\"height\":[0.0],\"label\":[\"(1.733333, 1.866667]\"],\"line_alpha\":[1.0],\"line_color\":[\"black\"],\"width\":[0.1333333333333333],\"x\":[\"1.8\"],\"y\":[0.0]}},\"id\":\"67dc5810-1523-4b94-82f7-67a4b0e1ea50\",\"type\":\"ColumnDataSource\"},{\"attributes\":{\"callback\":null,\"column_names\":[\"color\",\"y\",\"height\",\"width\",\"x\",\"label\",\"line_color\",\"fill_alpha\",\"line_alpha\"],\"data\":{\"chart_index\":[\"(0.400000, 0.533333]\"],\"color\":[\"LightSlateGray\"],\"fill_alpha\":[0.8],\"height\":[0.0],\"label\":[\"(0.400000, 0.533333]\"],\"line_alpha\":[1.0],\"line_color\":[\"black\"],\"width\":[0.1333333333333333],\"x\":[\"0.4666665\"],\"y\":[0.0]}},\"id\":\"77ceae6e-bb5e-4389-ac63-47b2b05c2e6d\",\"type\":\"ColumnDataSource\"},{\"attributes\":{\"below\":[{\"id\":\"6676a004-78b9-4063-b9a5-47d66212fe17\",\"type\":\"LinearAxis\"}],\"css_classes\":null,\"left\":[{\"id\":\"883f106c-f1cd-4c32-b522-ae586cea90ee\",\"type\":\"LinearAxis\"}],\"plot_height\":250,\"renderers\":[{\"id\":\"f3bf0657-4e72-4953-8bea-589655c9dca0\",\"type\":\"BoxAnnotation\"},{\"id\":\"9cf011a8-0654-4ee9-b00c-96cfc090ab8c\",\"type\":\"GlyphRenderer\"},{\"id\":\"f7563ede-07e7-4bd0-a8f6-24e671c18a7b\",\"type\":\"GlyphRenderer\"},{\"id\":\"1256a4ed-ee55-4873-8a2c-51b150f04499\",\"type\":\"GlyphRenderer\"},{\"id\":\"750b4dce-4366-4b3c-b3cc-8c5542bef1c2\",\"type\":\"GlyphRenderer\"},{\"id\":\"05588ea0-8473-4dc3-aff9-a51b2c9aca7a\",\"type\":\"GlyphRenderer\"},{\"id\":\"8c2823f3-5050-45c9-bcdf-cc5cde43e34d\",\"type\":\"GlyphRenderer\"},{\"id\":\"63843c60-9862-4cc9-8f20-2285fb6a162d\",\"type\":\"GlyphRenderer\"},{\"id\":\"5470e37e-eeda-49a2-a015-b97db2fdeaa6\",\"type\":\"GlyphRenderer\"},{\"id\":\"b023e33e-e833-4eee-8b95-b272fc7b146c\",\"type\":\"GlyphRenderer\"},{\"id\":\"e8534f95-590a-4a71-9bf8-3aea312867a6\",\"type\":\"GlyphRenderer\"},{\"id\":\"9fffe4a3-18c0-4d6a-9ee6-f2c621c60b9b\",\"type\":\"GlyphRenderer\"},{\"id\":\"48200629-218e-45fa-9816-7ca1cd4636e8\",\"type\":\"GlyphRenderer\"},{\"id\":\"40fa2019-c9b6-4269-a2a4-d6ba70dc2eb7\",\"type\":\"GlyphRenderer\"},{\"id\":\"aad7e475-84a1-447c-a517-d7dcccc46e0e\",\"type\":\"GlyphRenderer\"},{\"id\":\"bf3d2547-0e9f-4c43-9012-7d60e1cc36a7\",\"type\":\"GlyphRenderer\"},{\"id\":\"c21608f8-125f-47f5-9dd9-d8e049cec3ca\",\"type\":\"Legend\"},{\"id\":\"6676a004-78b9-4063-b9a5-47d66212fe17\",\"type\":\"LinearAxis\"},{\"id\":\"883f106c-f1cd-4c32-b522-ae586cea90ee\",\"type\":\"LinearAxis\"},{\"id\":\"bb35845b-8409-4367-a621-cdf9b83944d8\",\"type\":\"Grid\"}],\"title\":{\"id\":\"24381e28-9d88-4d80-b378-3b01ebdc99ef\",\"type\":\"Title\"},\"tool_events\":{\"id\":\"da2fe0ce-153e-496a-a4b3-b22f6385c9b1\",\"type\":\"ToolEvents\"},\"toolbar\":{\"id\":\"b2e67573-7aa9-47aa-bd6f-9c1b365e26ac\",\"type\":\"Toolbar\"},\"x_mapper_type\":\"auto\",\"x_range\":{\"id\":\"82e92857-dcfd-4935-a6be-7935812ff0c9\",\"type\":\"Range1d\"},\"y_mapper_type\":\"auto\",\"y_range\":{\"id\":\"e1d35526-8927-419d-a8b0-f1399a8c8e3b\",\"type\":\"Range1d\"}},\"id\":\"de34eacf-a04a-4664-a3f2-4c24275e1b08\",\"subtype\":\"Chart\",\"type\":\"Plot\"},{\"attributes\":{\"data_source\":{\"id\":\"77ceae6e-bb5e-4389-ac63-47b2b05c2e6d\",\"type\":\"ColumnDataSource\"},\"glyph\":{\"id\":\"df0903ca-c22b-4dbf-b51a-e969e02b689a\",\"type\":\"Rect\"},\"hover_glyph\":null,\"nonselection_glyph\":null,\"selection_glyph\":null},\"id\":\"750b4dce-4366-4b3c-b3cc-8c5542bef1c2\",\"type\":\"GlyphRenderer\"},{\"attributes\":{\"fill_alpha\":{\"field\":\"fill_alpha\"},\"fill_color\":{\"field\":\"color\"},\"height\":{\"field\":\"height\",\"units\":\"data\"},\"line_color\":{\"field\":\"line_color\"},\"width\":{\"field\":\"width\",\"units\":\"data\"},\"x\":{\"field\":\"x\"},\"y\":{\"field\":\"y\"}},\"id\":\"df0903ca-c22b-4dbf-b51a-e969e02b689a\",\"type\":\"Rect\"},{\"attributes\":{\"data_source\":{\"id\":\"b57ad5d0-61eb-4015-9248-a6fe317eecb4\",\"type\":\"ColumnDataSource\"},\"glyph\":{\"id\":\"82fa6aee-92c1-408e-b801-6dd7b812562a\",\"type\":\"Rect\"},\"hover_glyph\":null,\"nonselection_glyph\":null,\"selection_glyph\":null},\"id\":\"9cf011a8-0654-4ee9-b00c-96cfc090ab8c\",\"type\":\"GlyphRenderer\"},{\"attributes\":{\"active_drag\":\"auto\",\"active_scroll\":\"auto\",\"active_tap\":\"auto\",\"tools\":[{\"id\":\"e803a351-edb0-449c-8243-9636b7e4a600\",\"type\":\"PanTool\"},{\"id\":\"309e4921-55de-428b-b482-4b257fcf0fff\",\"type\":\"WheelZoomTool\"},{\"id\":\"8970d0fc-4046-4616-ba7d-02e0636f9582\",\"type\":\"BoxZoomTool\"},{\"id\":\"57588683-dc71-4646-9206-47bbadee5988\",\"type\":\"SaveTool\"},{\"id\":\"62a69296-e271-483b-8d37-4c981c6e2a73\",\"type\":\"ResetTool\"},{\"id\":\"67dbe549-e25b-46d6-9b7a-793517a6ff15\",\"type\":\"HelpTool\"}]},\"id\":\"b2e67573-7aa9-47aa-bd6f-9c1b365e26ac\",\"type\":\"Toolbar\"},{\"attributes\":{\"data_source\":{\"id\":\"a4235537-dd50-4946-ab3c-f9ac2b552beb\",\"type\":\"ColumnDataSource\"},\"glyph\":{\"id\":\"1adcaf3c-185a-4718-b1b2-8005c8f405de\",\"type\":\"Rect\"},\"hover_glyph\":null,\"nonselection_glyph\":null,\"selection_glyph\":null},\"id\":\"05588ea0-8473-4dc3-aff9-a51b2c9aca7a\",\"type\":\"GlyphRenderer\"},{\"attributes\":{\"location\":\"top_left\",\"plot\":{\"id\":\"de34eacf-a04a-4664-a3f2-4c24275e1b08\",\"subtype\":\"Chart\",\"type\":\"Plot\"}},\"id\":\"c21608f8-125f-47f5-9dd9-d8e049cec3ca\",\"type\":\"Legend\"},{\"attributes\":{},\"id\":\"978e1fb4-bdd7-4e6d-9793-1bac94766513\",\"type\":\"BasicTicker\"},{\"attributes\":{\"callback\":null,\"column_names\":[\"color\",\"y\",\"height\",\"width\",\"x\",\"label\",\"line_color\",\"fill_alpha\",\"line_alpha\"],\"data\":{\"chart_index\":[\"(1.333333, 1.466667]\"],\"color\":[\"LightSlateGray\"],\"fill_alpha\":[0.8],\"height\":[0.0],\"label\":[\"(1.333333, 1.466667]\"],\"line_alpha\":[1.0],\"line_color\":[\"black\"],\"width\":[0.1333333333333333],\"x\":[\"1.4\"],\"y\":[0.0]}},\"id\":\"b819a735-f503-42be-940e-8fa398c3753b\",\"type\":\"ColumnDataSource\"},{\"attributes\":{\"fill_alpha\":{\"field\":\"fill_alpha\"},\"fill_color\":{\"field\":\"color\"},\"height\":{\"field\":\"height\",\"units\":\"data\"},\"line_color\":{\"field\":\"line_color\"},\"width\":{\"field\":\"width\",\"units\":\"data\"},\"x\":{\"field\":\"x\"},\"y\":{\"field\":\"y\"}},\"id\":\"7d048fd0-4a6f-4c29-9453-ef7640fccc5d\",\"type\":\"Rect\"},{\"attributes\":{\"axis_label\":\"GTcons\",\"formatter\":{\"id\":\"51f74cd0-0f3c-4bf1-95d8-29243ebf4097\",\"type\":\"BasicTickFormatter\"},\"plot\":{\"id\":\"de34eacf-a04a-4664-a3f2-4c24275e1b08\",\"subtype\":\"Chart\",\"type\":\"Plot\"},\"ticker\":{\"id\":\"eff19a14-eafb-40af-a0f0-c15a6755c182\",\"type\":\"BasicTicker\"}},\"id\":\"6676a004-78b9-4063-b9a5-47d66212fe17\",\"type\":\"LinearAxis\"},{\"attributes\":{\"data_source\":{\"id\":\"48749360-0055-4736-b1c9-581de8256ec3\",\"type\":\"ColumnDataSource\"},\"glyph\":{\"id\":\"e6f656c0-a478-4b36-8c44-c0d558e0b5e1\",\"type\":\"Rect\"},\"hover_glyph\":null,\"nonselection_glyph\":null,\"selection_glyph\":null},\"id\":\"5470e37e-eeda-49a2-a015-b97db2fdeaa6\",\"type\":\"GlyphRenderer\"},{\"attributes\":{\"data_source\":{\"id\":\"edda3d4b-fb0d-487a-ba29-d113ab2da834\",\"type\":\"ColumnDataSource\"},\"glyph\":{\"id\":\"3bf2202e-3bb9-49ba-88f7-52f6fc9fa907\",\"type\":\"Rect\"},\"hover_glyph\":null,\"nonselection_glyph\":null,\"selection_glyph\":null},\"id\":\"40fa2019-c9b6-4269-a2a4-d6ba70dc2eb7\",\"type\":\"GlyphRenderer\"},{\"attributes\":{\"callback\":null,\"column_names\":[\"color\",\"y\",\"height\",\"width\",\"x\",\"label\",\"line_color\",\"fill_alpha\",\"line_alpha\"],\"data\":{\"chart_index\":[\"[0.000000, 0.133333]\"],\"color\":[\"LightSlateGray\"],\"fill_alpha\":[0.8],\"height\":[309.0],\"label\":[\"[0.000000, 0.133333]\"],\"line_alpha\":[1.0],\"line_color\":[\"black\"],\"width\":[0.13333333333333333],\"x\":[\"0.0666665\"],\"y\":[154.5]}},\"id\":\"b57ad5d0-61eb-4015-9248-a6fe317eecb4\",\"type\":\"ColumnDataSource\"},{\"attributes\":{\"fill_alpha\":{\"field\":\"fill_alpha\"},\"fill_color\":{\"field\":\"color\"},\"height\":{\"field\":\"height\",\"units\":\"data\"},\"line_color\":{\"field\":\"line_color\"},\"width\":{\"field\":\"width\",\"units\":\"data\"},\"x\":{\"field\":\"x\"},\"y\":{\"field\":\"y\"}},\"id\":\"2024acfe-215a-4c8e-be19-16407945070c\",\"type\":\"Rect\"},{\"attributes\":{\"data_source\":{\"id\":\"369c98e0-e38f-4731-8e8f-3375c446e475\",\"type\":\"ColumnDataSource\"},\"glyph\":{\"id\":\"17915951-d5ec-46a4-b1ea-1bf782489eb0\",\"type\":\"Rect\"},\"hover_glyph\":null,\"nonselection_glyph\":null,\"selection_glyph\":null},\"id\":\"f7563ede-07e7-4bd0-a8f6-24e671c18a7b\",\"type\":\"GlyphRenderer\"},{\"attributes\":{\"fill_alpha\":{\"field\":\"fill_alpha\"},\"fill_color\":{\"field\":\"color\"},\"height\":{\"field\":\"height\",\"units\":\"data\"},\"line_color\":{\"field\":\"line_color\"},\"width\":{\"field\":\"width\",\"units\":\"data\"},\"x\":{\"field\":\"x\"},\"y\":{\"field\":\"y\"}},\"id\":\"17915951-d5ec-46a4-b1ea-1bf782489eb0\",\"type\":\"Rect\"},{\"attributes\":{\"overlay\":{\"id\":\"f3bf0657-4e72-4953-8bea-589655c9dca0\",\"type\":\"BoxAnnotation\"},\"plot\":{\"id\":\"de34eacf-a04a-4664-a3f2-4c24275e1b08\",\"subtype\":\"Chart\",\"type\":\"Plot\"}},\"id\":\"8970d0fc-4046-4616-ba7d-02e0636f9582\",\"type\":\"BoxZoomTool\"},{\"attributes\":{\"data_source\":{\"id\":\"e03b596f-e012-4b0e-9337-34ed15892b25\",\"type\":\"ColumnDataSource\"},\"glyph\":{\"id\":\"6f371886-4e59-4ffb-aac5-31b007bfe0c2\",\"type\":\"Rect\"},\"hover_glyph\":null,\"nonselection_glyph\":null,\"selection_glyph\":null},\"id\":\"1256a4ed-ee55-4873-8a2c-51b150f04499\",\"type\":\"GlyphRenderer\"},{\"attributes\":{},\"id\":\"da2fe0ce-153e-496a-a4b3-b22f6385c9b1\",\"type\":\"ToolEvents\"},{\"attributes\":{\"fill_alpha\":{\"field\":\"fill_alpha\"},\"fill_color\":{\"field\":\"color\"},\"height\":{\"field\":\"height\",\"units\":\"data\"},\"line_color\":{\"field\":\"line_color\"},\"width\":{\"field\":\"width\",\"units\":\"data\"},\"x\":{\"field\":\"x\"},\"y\":{\"field\":\"y\"}},\"id\":\"3bf2202e-3bb9-49ba-88f7-52f6fc9fa907\",\"type\":\"Rect\"},{\"attributes\":{\"callback\":null,\"column_names\":[\"color\",\"y\",\"height\",\"width\",\"x\",\"label\",\"line_color\",\"fill_alpha\",\"line_alpha\"],\"data\":{\"chart_index\":[\"(1.866667, 2.000000]\"],\"color\":[\"LightSlateGray\"],\"fill_alpha\":[0.8],\"height\":[70.0],\"label\":[\"(1.866667, 2.000000]\"],\"line_alpha\":[1.0],\"line_color\":[\"black\"],\"width\":[0.1333333333333333],\"x\":[\"1.9333335\"],\"y\":[35.0]}},\"id\":\"8915d422-8d61-4e78-b2aa-3cf0f5dbd363\",\"type\":\"ColumnDataSource\"},{\"attributes\":{\"plot\":{\"id\":\"de34eacf-a04a-4664-a3f2-4c24275e1b08\",\"subtype\":\"Chart\",\"type\":\"Plot\"}},\"id\":\"e803a351-edb0-449c-8243-9636b7e4a600\",\"type\":\"PanTool\"},{\"attributes\":{\"plot\":{\"id\":\"de34eacf-a04a-4664-a3f2-4c24275e1b08\",\"subtype\":\"Chart\",\"type\":\"Plot\"}},\"id\":\"309e4921-55de-428b-b482-4b257fcf0fff\",\"type\":\"WheelZoomTool\"},{\"attributes\":{\"callback\":null,\"column_names\":[\"color\",\"y\",\"height\",\"width\",\"x\",\"label\",\"line_color\",\"fill_alpha\",\"line_alpha\"],\"data\":{\"chart_index\":[\"(0.800000, 0.933333]\"],\"color\":[\"LightSlateGray\"],\"fill_alpha\":[0.8],\"height\":[0.0],\"label\":[\"(0.800000, 0.933333]\"],\"line_alpha\":[1.0],\"line_color\":[\"black\"],\"width\":[0.1333333333333333],\"x\":[\"0.8666665\"],\"y\":[0.0]}},\"id\":\"5144879e-93f7-4a28-804b-89ac78c49e44\",\"type\":\"ColumnDataSource\"},{\"attributes\":{\"callback\":null,\"column_names\":[\"color\",\"y\",\"height\",\"width\",\"x\",\"label\",\"line_color\",\"fill_alpha\",\"line_alpha\"],\"data\":{\"chart_index\":[\"(0.533333, 0.666667]\"],\"color\":[\"LightSlateGray\"],\"fill_alpha\":[0.8],\"height\":[0.0],\"label\":[\"(0.533333, 0.666667]\"],\"line_alpha\":[1.0],\"line_color\":[\"black\"],\"width\":[0.1333333333333333],\"x\":[\"0.6\"],\"y\":[0.0]}},\"id\":\"a4235537-dd50-4946-ab3c-f9ac2b552beb\",\"type\":\"ColumnDataSource\"},{\"attributes\":{\"dimension\":1,\"plot\":{\"id\":\"de34eacf-a04a-4664-a3f2-4c24275e1b08\",\"subtype\":\"Chart\",\"type\":\"Plot\"},\"ticker\":{\"id\":\"978e1fb4-bdd7-4e6d-9793-1bac94766513\",\"type\":\"BasicTicker\"}},\"id\":\"bb35845b-8409-4367-a621-cdf9b83944d8\",\"type\":\"Grid\"},{\"attributes\":{\"data_source\":{\"id\":\"103441db-e0f8-4366-ad91-e80ed5466183\",\"type\":\"ColumnDataSource\"},\"glyph\":{\"id\":\"093e6ca2-0ef7-41a3-9752-d1576e888725\",\"type\":\"Rect\"},\"hover_glyph\":null,\"nonselection_glyph\":null,\"selection_glyph\":null},\"id\":\"8c2823f3-5050-45c9-bcdf-cc5cde43e34d\",\"type\":\"GlyphRenderer\"},{\"attributes\":{\"callback\":null,\"end\":339.90000000000003},\"id\":\"e1d35526-8927-419d-a8b0-f1399a8c8e3b\",\"type\":\"Range1d\"},{\"attributes\":{\"plot\":{\"id\":\"de34eacf-a04a-4664-a3f2-4c24275e1b08\",\"subtype\":\"Chart\",\"type\":\"Plot\"}},\"id\":\"57588683-dc71-4646-9206-47bbadee5988\",\"type\":\"SaveTool\"},{\"attributes\":{\"fill_alpha\":{\"field\":\"fill_alpha\"},\"fill_color\":{\"field\":\"color\"},\"height\":{\"field\":\"height\",\"units\":\"data\"},\"line_color\":{\"field\":\"line_color\"},\"width\":{\"field\":\"width\",\"units\":\"data\"},\"x\":{\"field\":\"x\"},\"y\":{\"field\":\"y\"}},\"id\":\"093e6ca2-0ef7-41a3-9752-d1576e888725\",\"type\":\"Rect\"},{\"attributes\":{},\"id\":\"3b11eee1-28b1-401c-a49d-4db95e6a3e21\",\"type\":\"BasicTickFormatter\"},{\"attributes\":{\"callback\":null,\"column_names\":[\"color\",\"y\",\"height\",\"width\",\"x\",\"label\",\"line_color\",\"fill_alpha\",\"line_alpha\"],\"data\":{\"chart_index\":[\"(1.600000, 1.733333]\"],\"color\":[\"LightSlateGray\"],\"fill_alpha\":[0.8],\"height\":[0.0],\"label\":[\"(1.600000, 1.733333]\"],\"line_alpha\":[1.0],\"line_color\":[\"black\"],\"width\":[0.1333333333333333],\"x\":[\"1.6666665\"],\"y\":[0.0]}},\"id\":\"edda3d4b-fb0d-487a-ba29-d113ab2da834\",\"type\":\"ColumnDataSource\"},{\"attributes\":{\"fill_alpha\":{\"field\":\"fill_alpha\"},\"fill_color\":{\"field\":\"color\"},\"height\":{\"field\":\"height\",\"units\":\"data\"},\"line_color\":{\"field\":\"line_color\"},\"width\":{\"field\":\"width\",\"units\":\"data\"},\"x\":{\"field\":\"x\"},\"y\":{\"field\":\"y\"}},\"id\":\"82fa6aee-92c1-408e-b801-6dd7b812562a\",\"type\":\"Rect\"},{\"attributes\":{\"callback\":null,\"column_names\":[\"color\",\"y\",\"height\",\"width\",\"x\",\"label\",\"line_color\",\"fill_alpha\",\"line_alpha\"],\"data\":{\"chart_index\":[\"(0.666667, 0.800000]\"],\"color\":[\"LightSlateGray\"],\"fill_alpha\":[0.8],\"height\":[0.0],\"label\":[\"(0.666667, 0.800000]\"],\"line_alpha\":[1.0],\"line_color\":[\"black\"],\"width\":[0.13333333333333341],\"x\":[\"0.7333335000000001\"],\"y\":[0.0]}},\"id\":\"103441db-e0f8-4366-ad91-e80ed5466183\",\"type\":\"ColumnDataSource\"},{\"attributes\":{\"callback\":null,\"column_names\":[\"color\",\"y\",\"height\",\"width\",\"x\",\"label\",\"line_color\",\"fill_alpha\",\"line_alpha\"],\"data\":{\"chart_index\":[\"(0.933333, 1.066667]\"],\"color\":[\"LightSlateGray\"],\"fill_alpha\":[0.8],\"height\":[252.0],\"label\":[\"(0.933333, 1.066667]\"],\"line_alpha\":[1.0],\"line_color\":[\"black\"],\"width\":[0.1333333333333333],\"x\":[\"1.0\"],\"y\":[126.0]}},\"id\":\"48749360-0055-4736-b1c9-581de8256ec3\",\"type\":\"ColumnDataSource\"},{\"attributes\":{\"fill_alpha\":{\"field\":\"fill_alpha\"},\"fill_color\":{\"field\":\"color\"},\"height\":{\"field\":\"height\",\"units\":\"data\"},\"line_color\":{\"field\":\"line_color\"},\"width\":{\"field\":\"width\",\"units\":\"data\"},\"x\":{\"field\":\"x\"},\"y\":{\"field\":\"y\"}},\"id\":\"48763f0d-a08c-47db-87b2-583afee638f5\",\"type\":\"Rect\"},{\"attributes\":{\"data_source\":{\"id\":\"e07818be-f66e-4c8b-bd06-b8fd05be3572\",\"type\":\"ColumnDataSource\"},\"glyph\":{\"id\":\"96fe2b2e-ec2c-489d-8344-9647f583b749\",\"type\":\"Rect\"},\"hover_glyph\":null,\"nonselection_glyph\":null,\"selection_glyph\":null},\"id\":\"e8534f95-590a-4a71-9bf8-3aea312867a6\",\"type\":\"GlyphRenderer\"},{\"attributes\":{\"fill_alpha\":{\"field\":\"fill_alpha\"},\"fill_color\":{\"field\":\"color\"},\"height\":{\"field\":\"height\",\"units\":\"data\"},\"line_color\":{\"field\":\"line_color\"},\"width\":{\"field\":\"width\",\"units\":\"data\"},\"x\":{\"field\":\"x\"},\"y\":{\"field\":\"y\"}},\"id\":\"e6f656c0-a478-4b36-8c44-c0d558e0b5e1\",\"type\":\"Rect\"},{\"attributes\":{\"fill_alpha\":{\"field\":\"fill_alpha\"},\"fill_color\":{\"field\":\"color\"},\"height\":{\"field\":\"height\",\"units\":\"data\"},\"line_color\":{\"field\":\"line_color\"},\"width\":{\"field\":\"width\",\"units\":\"data\"},\"x\":{\"field\":\"x\"},\"y\":{\"field\":\"y\"}},\"id\":\"96fe2b2e-ec2c-489d-8344-9647f583b749\",\"type\":\"Rect\"},{\"attributes\":{\"callback\":null,\"end\":2.0500001666666665,\"start\":-0.050000166666666665},\"id\":\"82e92857-dcfd-4935-a6be-7935812ff0c9\",\"type\":\"Range1d\"},{\"attributes\":{\"axis_label\":\"Frequency\",\"formatter\":{\"id\":\"3b11eee1-28b1-401c-a49d-4db95e6a3e21\",\"type\":\"BasicTickFormatter\"},\"plot\":{\"id\":\"de34eacf-a04a-4664-a3f2-4c24275e1b08\",\"subtype\":\"Chart\",\"type\":\"Plot\"},\"ticker\":{\"id\":\"978e1fb4-bdd7-4e6d-9793-1bac94766513\",\"type\":\"BasicTicker\"}},\"id\":\"883f106c-f1cd-4c32-b522-ae586cea90ee\",\"type\":\"LinearAxis\"},{\"attributes\":{},\"id\":\"51f74cd0-0f3c-4bf1-95d8-29243ebf4097\",\"type\":\"BasicTickFormatter\"},{\"attributes\":{\"data_source\":{\"id\":\"5144879e-93f7-4a28-804b-89ac78c49e44\",\"type\":\"ColumnDataSource\"},\"glyph\":{\"id\":\"3e94af4e-8131-40c9-b506-003b4579a7ad\",\"type\":\"Rect\"},\"hover_glyph\":null,\"nonselection_glyph\":null,\"selection_glyph\":null},\"id\":\"63843c60-9862-4cc9-8f20-2285fb6a162d\",\"type\":\"GlyphRenderer\"},{\"attributes\":{\"plot\":null,\"text\":\"Inaccurate_Call_HG002: Consensust GT\"},\"id\":\"24381e28-9d88-4d80-b378-3b01ebdc99ef\",\"type\":\"Title\"},{\"attributes\":{\"bottom_units\":\"screen\",\"fill_alpha\":{\"value\":0.5},\"fill_color\":{\"value\":\"lightgrey\"},\"left_units\":\"screen\",\"level\":\"overlay\",\"line_alpha\":{\"value\":1.0},\"line_color\":{\"value\":\"black\"},\"line_dash\":[4,4],\"line_width\":{\"value\":2},\"plot\":null,\"render_mode\":\"css\",\"right_units\":\"screen\",\"top_units\":\"screen\"},\"id\":\"f3bf0657-4e72-4953-8bea-589655c9dca0\",\"type\":\"BoxAnnotation\"},{\"attributes\":{\"fill_alpha\":{\"field\":\"fill_alpha\"},\"fill_color\":{\"field\":\"color\"},\"height\":{\"field\":\"height\",\"units\":\"data\"},\"line_color\":{\"field\":\"line_color\"},\"width\":{\"field\":\"width\",\"units\":\"data\"},\"x\":{\"field\":\"x\"},\"y\":{\"field\":\"y\"}},\"id\":\"6f371886-4e59-4ffb-aac5-31b007bfe0c2\",\"type\":\"Rect\"},{\"attributes\":{\"data_source\":{\"id\":\"554849c5-5cda-47ce-96f3-e6c98e5e5c40\",\"type\":\"ColumnDataSource\"},\"glyph\":{\"id\":\"b52a8fb2-b512-4c22-a7ba-7e1567ca5e9c\",\"type\":\"Rect\"},\"hover_glyph\":null,\"nonselection_glyph\":null,\"selection_glyph\":null},\"id\":\"b023e33e-e833-4eee-8b95-b272fc7b146c\",\"type\":\"GlyphRenderer\"},{\"attributes\":{\"callback\":null,\"column_names\":[\"color\",\"y\",\"height\",\"width\",\"x\",\"label\",\"line_color\",\"fill_alpha\",\"line_alpha\"],\"data\":{\"chart_index\":[\"(1.200000, 1.333333]\"],\"color\":[\"LightSlateGray\"],\"fill_alpha\":[0.8],\"height\":[0.0],\"label\":[\"(1.200000, 1.333333]\"],\"line_alpha\":[1.0],\"line_color\":[\"black\"],\"width\":[0.1333333333333333],\"x\":[\"1.2666665\"],\"y\":[0.0]}},\"id\":\"e07818be-f66e-4c8b-bd06-b8fd05be3572\",\"type\":\"ColumnDataSource\"},{\"attributes\":{\"callback\":null,\"column_names\":[\"color\",\"y\",\"height\",\"width\",\"x\",\"label\",\"line_color\",\"fill_alpha\",\"line_alpha\"],\"data\":{\"chart_index\":[\"(1.066667, 1.200000]\"],\"color\":[\"LightSlateGray\"],\"fill_alpha\":[0.8],\"height\":[0.0],\"label\":[\"(1.066667, 1.200000]\"],\"line_alpha\":[1.0],\"line_color\":[\"black\"],\"width\":[0.1333333333333333],\"x\":[\"1.1333335\"],\"y\":[0.0]}},\"id\":\"554849c5-5cda-47ce-96f3-e6c98e5e5c40\",\"type\":\"ColumnDataSource\"},{\"attributes\":{\"data_source\":{\"id\":\"b819a735-f503-42be-940e-8fa398c3753b\",\"type\":\"ColumnDataSource\"},\"glyph\":{\"id\":\"7d048fd0-4a6f-4c29-9453-ef7640fccc5d\",\"type\":\"Rect\"},\"hover_glyph\":null,\"nonselection_glyph\":null,\"selection_glyph\":null},\"id\":\"9fffe4a3-18c0-4d6a-9ee6-f2c621c60b9b\",\"type\":\"GlyphRenderer\"},{\"attributes\":{\"callback\":null,\"column_names\":[\"color\",\"y\",\"height\",\"width\",\"x\",\"label\",\"line_color\",\"fill_alpha\",\"line_alpha\"],\"data\":{\"chart_index\":[\"(0.133333, 0.266667]\"],\"color\":[\"LightSlateGray\"],\"fill_alpha\":[0.8],\"height\":[0.0],\"label\":[\"(0.133333, 0.266667]\"],\"line_alpha\":[1.0],\"line_color\":[\"black\"],\"width\":[0.13333333333333333],\"x\":[\"0.2\"],\"y\":[0.0]}},\"id\":\"369c98e0-e38f-4731-8e8f-3375c446e475\",\"type\":\"ColumnDataSource\"},{\"attributes\":{\"fill_alpha\":{\"field\":\"fill_alpha\"},\"fill_color\":{\"field\":\"color\"},\"height\":{\"field\":\"height\",\"units\":\"data\"},\"line_color\":{\"field\":\"line_color\"},\"width\":{\"field\":\"width\",\"units\":\"data\"},\"x\":{\"field\":\"x\"},\"y\":{\"field\":\"y\"}},\"id\":\"3e94af4e-8131-40c9-b506-003b4579a7ad\",\"type\":\"Rect\"},{\"attributes\":{\"plot\":{\"id\":\"de34eacf-a04a-4664-a3f2-4c24275e1b08\",\"subtype\":\"Chart\",\"type\":\"Plot\"}},\"id\":\"62a69296-e271-483b-8d37-4c981c6e2a73\",\"type\":\"ResetTool\"},{\"attributes\":{\"callback\":null,\"column_names\":[\"color\",\"y\",\"height\",\"width\",\"x\",\"label\",\"line_color\",\"fill_alpha\",\"line_alpha\"],\"data\":{\"chart_index\":[\"(1.466667, 1.600000]\"],\"color\":[\"LightSlateGray\"],\"fill_alpha\":[0.8],\"height\":[0.0],\"label\":[\"(1.466667, 1.600000]\"],\"line_alpha\":[1.0],\"line_color\":[\"black\"],\"width\":[0.13333333333333353],\"x\":[\"1.5333335\"],\"y\":[0.0]}},\"id\":\"0fdcd4e7-748b-4483-acd1-69940a18b1bb\",\"type\":\"ColumnDataSource\"},{\"attributes\":{\"fill_alpha\":{\"field\":\"fill_alpha\"},\"fill_color\":{\"field\":\"color\"},\"height\":{\"field\":\"height\",\"units\":\"data\"},\"line_color\":{\"field\":\"line_color\"},\"width\":{\"field\":\"width\",\"units\":\"data\"},\"x\":{\"field\":\"x\"},\"y\":{\"field\":\"y\"}},\"id\":\"1adcaf3c-185a-4718-b1b2-8005c8f405de\",\"type\":\"Rect\"},{\"attributes\":{\"data_source\":{\"id\":\"0fdcd4e7-748b-4483-acd1-69940a18b1bb\",\"type\":\"ColumnDataSource\"},\"glyph\":{\"id\":\"48763f0d-a08c-47db-87b2-583afee638f5\",\"type\":\"Rect\"},\"hover_glyph\":null,\"nonselection_glyph\":null,\"selection_glyph\":null},\"id\":\"48200629-218e-45fa-9816-7ca1cd4636e8\",\"type\":\"GlyphRenderer\"},{\"attributes\":{\"callback\":null,\"column_names\":[\"color\",\"y\",\"height\",\"width\",\"x\",\"label\",\"line_color\",\"fill_alpha\",\"line_alpha\"],\"data\":{\"chart_index\":[\"(0.266667, 0.400000]\"],\"color\":[\"LightSlateGray\"],\"fill_alpha\":[0.8],\"height\":[0.0],\"label\":[\"(0.266667, 0.400000]\"],\"line_alpha\":[1.0],\"line_color\":[\"black\"],\"width\":[0.13333333333333336],\"x\":[\"0.3333335\"],\"y\":[0.0]}},\"id\":\"e03b596f-e012-4b0e-9337-34ed15892b25\",\"type\":\"ColumnDataSource\"}],\"root_ids\":[\"de34eacf-a04a-4664-a3f2-4c24275e1b08\"]},\"title\":\"Bokeh Application\",\"version\":\"0.12.4\"}};\n",
       "            var render_items = [{\"docid\":\"c304a6ea-d80d-4bfa-bd8b-1d41663f519a\",\"elementid\":\"d5c0d116-5981-4d14-8dff-7feb41ff00b0\",\"modelid\":\"de34eacf-a04a-4664-a3f2-4c24275e1b08\"}];\n",
       "            \n",
       "            Bokeh.embed.embed_items(docs_json, render_items);\n",
       "          };\n",
       "          if (document.readyState != \"loading\") fn();\n",
       "          else document.addEventListener(\"DOMContentLoaded\", fn);\n",
       "        })();\n",
       "      },\n",
       "      function(Bokeh) {\n",
       "      }\n",
       "    ];\n",
       "  \n",
       "    function run_inline_js() {\n",
       "      \n",
       "      if ((window.Bokeh !== undefined) || (force === true)) {\n",
       "        for (var i = 0; i < inline_js.length; i++) {\n",
       "          inline_js[i](window.Bokeh);\n",
       "        }if (force === true) {\n",
       "          display_loaded();\n",
       "        }} else if (Date.now() < window._bokeh_timeout) {\n",
       "        setTimeout(run_inline_js, 100);\n",
       "      } else if (!window._bokeh_failed_load) {\n",
       "        console.log(\"Bokeh: BokehJS failed to load within specified timeout.\");\n",
       "        window._bokeh_failed_load = true;\n",
       "      } else if (force !== true) {\n",
       "        var cell = $(document.getElementById(\"d5c0d116-5981-4d14-8dff-7feb41ff00b0\")).parents('.cell').data().cell;\n",
       "        cell.output_area.append_execute_result(NB_LOAD_WARNING)\n",
       "      }\n",
       "  \n",
       "    }\n",
       "  \n",
       "    if (window._bokeh_is_loading === 0) {\n",
       "      console.log(\"Bokeh: BokehJS loaded, going straight to plotting\");\n",
       "      run_inline_js();\n",
       "    } else {\n",
       "      load_libs(js_urls, function() {\n",
       "        console.log(\"Bokeh: BokehJS plotting callback run at\", now());\n",
       "        run_inline_js();\n",
       "      });\n",
       "    }\n",
       "  }(this));\n",
       "</script>"
      ]
     },
     "metadata": {},
     "output_type": "display_data"
    }
   ],
   "source": [
    "p = figure()\n",
    "p = Histogram(inac_call, values='GTcons', title='Inaccurate_Call_HG002: Consensust GT', color='LightSlateGray', bins=15, plot_height=250, xlabel=\"GTcons\", ylabel=\"Frequency\")\n",
    "show(p)"
   ]
  }
 ],
 "metadata": {
  "kernelspec": {
   "display_name": "Python [NIHFAES]",
   "language": "python",
   "name": "Python [NIHFAES]"
  },
  "language_info": {
   "codemirror_mode": {
    "name": "ipython",
    "version": 3
   },
   "file_extension": ".py",
   "mimetype": "text/x-python",
   "name": "python",
   "nbconvert_exporter": "python",
   "pygments_lexer": "ipython3",
   "version": "3.5.2"
  }
 },
 "nbformat": 4,
 "nbformat_minor": 2
}
