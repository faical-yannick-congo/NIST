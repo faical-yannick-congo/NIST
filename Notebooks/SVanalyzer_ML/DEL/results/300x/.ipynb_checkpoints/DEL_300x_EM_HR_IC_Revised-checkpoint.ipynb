{
 "cells": [
  {
   "cell_type": "markdown",
   "metadata": {},
   "source": [
    "### 300X: SVanalyzer\n",
    "\n",
    "* The following notebook is trained on data generated from revised R script [Oct 12 2017]\n",
    "    * Exact Match [1] and Homozygous [0] Reference data points\n",
    "    * Removed all data points with Gtcons and GTconswithoutXX -1\n",
    "* 5k randomly selected deletions test data was also processed through same R script\n",
    "* Balanced Training Set for GTcons labels:\n",
    "    * 200 Hom Var\n",
    "    * 200 Hom Ref\n",
    "    * 200 Het Var\n",
    "* **Train/Prediction Label:** EM, HR, IC"
   ]
  },
  {
   "cell_type": "code",
   "execution_count": 1,
   "metadata": {
    "collapsed": true
   },
   "outputs": [],
   "source": [
    "\"\"\"\n",
    "Imports\n",
    "\"\"\"\n",
    "import pandas as pd\n",
    "import numpy as np\n",
    "from fancyimpute import KNN\n",
    "import matplotlib.pyplot as plt\n",
    "from sklearn import preprocessing\n",
    "from sklearn.preprocessing import LabelEncoder\n",
    "from sklearn.model_selection import LeaveOneOut\n",
    "from scipy.stats import ks_2samp\n",
    "from scipy import stats\n",
    "from matplotlib import pyplot\n",
    "from scipy.linalg import svd\n",
    "from sklearn.decomposition import TruncatedSVD\n",
    "from sklearn.ensemble import RandomForestClassifier\n",
    "from sklearn.metrics import roc_auc_score\n",
    "from sklearn.manifold import TSNE\n",
    "from sklearn.decomposition import PCA as sklearnPCA\n",
    "import plotly.plotly as py\n",
    "from sklearn.cluster import DBSCAN\n",
    "from sklearn.model_selection import train_test_split\n",
    "from sklearn import metrics\n",
    "from sklearn.metrics import f1_score, precision_score\n",
    "from sklearn import preprocessing\n",
    "from ggplot import *\n",
    "from bokeh.models import HoverTool\n",
    "from bokeh.plotting import show\n",
    "from bokeh.charts import Scatter, Histogram, output_file, show\n",
    "from bokeh.plotting import figure, show, output_file, ColumnDataSource\n",
    "from bokeh.io import output_notebook\n",
    "from bokeh.charts import Bar, output_file, show\n",
    "import bokeh.palettes as palettes\n",
    "from bokeh.models import HoverTool, BoxSelectTool, Legend\n",
    "from sklearn import (manifold, datasets, decomposition, ensemble,\n",
    "                     discriminant_analysis, random_projection)"
   ]
  },
  {
   "cell_type": "code",
   "execution_count": 2,
   "metadata": {},
   "outputs": [
    {
     "data": {
      "text/html": [
       "<div>\n",
       "<table border=\"1\" class=\"dataframe\">\n",
       "  <thead>\n",
       "    <tr style=\"text-align: right;\">\n",
       "      <th></th>\n",
       "      <th>chrom</th>\n",
       "      <th>sample</th>\n",
       "      <th>id</th>\n",
       "      <th>start</th>\n",
       "      <th>end</th>\n",
       "      <th>Size</th>\n",
       "      <th>type</th>\n",
       "      <th>SVtype</th>\n",
       "      <th>refN_cnt</th>\n",
       "      <th>refN_pct</th>\n",
       "      <th>...</th>\n",
       "      <th>Ill300x.amb_reason_orientation_orientation</th>\n",
       "      <th>Ill300x.amb_reason_same_scores</th>\n",
       "      <th>Ill300x.ref_alnScore_mean</th>\n",
       "      <th>Ill300x.ref_alnScore_std</th>\n",
       "      <th>Ill300x.ref_count</th>\n",
       "      <th>Ill300x.ref_insertSize_mean</th>\n",
       "      <th>Ill300x.ref_insertSize_std</th>\n",
       "      <th>Ill300x.ref_reason_alignmentScore</th>\n",
       "      <th>Ill300x.ref_reason_insertSizeScore</th>\n",
       "      <th>Ill300x.ref_reason_orientation</th>\n",
       "    </tr>\n",
       "  </thead>\n",
       "  <tbody>\n",
       "    <tr>\n",
       "      <th>0</th>\n",
       "      <td>1</td>\n",
       "      <td>HG002</td>\n",
       "      <td>23</td>\n",
       "      <td>72766323</td>\n",
       "      <td>72811839</td>\n",
       "      <td>-45516</td>\n",
       "      <td>Deletion</td>\n",
       "      <td>Deletion</td>\n",
       "      <td>0</td>\n",
       "      <td>0</td>\n",
       "      <td>...</td>\n",
       "      <td>7.0</td>\n",
       "      <td>0.0</td>\n",
       "      <td>587.54453</td>\n",
       "      <td>8.210694</td>\n",
       "      <td>23591.0</td>\n",
       "      <td>573.392523</td>\n",
       "      <td>152.703824</td>\n",
       "      <td>23591.0</td>\n",
       "      <td>0.0</td>\n",
       "      <td>0.0</td>\n",
       "    </tr>\n",
       "  </tbody>\n",
       "</table>\n",
       "<p>1 rows × 52 columns</p>\n",
       "</div>"
      ],
      "text/plain": [
       "  chrom sample  id     start       end   Size      type    SVtype  refN_cnt  \\\n",
       "0     1  HG002  23  72766323  72811839 -45516  Deletion  Deletion         0   \n",
       "\n",
       "   refN_pct               ...                \\\n",
       "0         0               ...                 \n",
       "\n",
       "   Ill300x.amb_reason_orientation_orientation  Ill300x.amb_reason_same_scores  \\\n",
       "0                                         7.0                             0.0   \n",
       "\n",
       "   Ill300x.ref_alnScore_mean  Ill300x.ref_alnScore_std  Ill300x.ref_count  \\\n",
       "0                  587.54453                  8.210694            23591.0   \n",
       "\n",
       "   Ill300x.ref_insertSize_mean  Ill300x.ref_insertSize_std  \\\n",
       "0                   573.392523                  152.703824   \n",
       "\n",
       "   Ill300x.ref_reason_alignmentScore  Ill300x.ref_reason_insertSizeScore  \\\n",
       "0                            23591.0                                 0.0   \n",
       "\n",
       "   Ill300x.ref_reason_orientation  \n",
       "0                             0.0  \n",
       "\n",
       "[1 rows x 52 columns]"
      ]
     },
     "execution_count": 2,
     "metadata": {},
     "output_type": "execute_result"
    }
   ],
   "source": [
    "# Import Training Data\n",
    "# SVanalyzer generated training data\n",
    "df_train = pd.read_csv('/Volumes/lesleydata/SVanalyzer_ML/Oct122017_Revised_R/dataframes/training_data/tech_sep/HG002/DEL/300x_EM_HR_IC_HG002_DEL_min1.csv')\n",
    "df_train_2 = pd.read_csv('/Volumes/lesleydata/SVanalyzer_ML/Oct122017_Revised_R/dataframes/training_data/tech_sep/HG002/DEL/300x_EM_HR_IC_HG002_DEL_min1.csv')\n",
    "df_train.rename(columns={'size': 'Size'}, inplace=True)\n",
    "df_train.head(1)"
   ]
  },
  {
   "cell_type": "code",
   "execution_count": 3,
   "metadata": {},
   "outputs": [
    {
     "data": {
      "text/html": [
       "<div>\n",
       "<table border=\"1\" class=\"dataframe\">\n",
       "  <thead>\n",
       "    <tr style=\"text-align: right;\">\n",
       "      <th></th>\n",
       "      <th>chrom</th>\n",
       "      <th>sample</th>\n",
       "      <th>id</th>\n",
       "      <th>start</th>\n",
       "      <th>end</th>\n",
       "      <th>Size</th>\n",
       "      <th>type</th>\n",
       "      <th>SVtype</th>\n",
       "      <th>refN_cnt</th>\n",
       "      <th>refN_pct</th>\n",
       "      <th>...</th>\n",
       "      <th>Ill300x.amb_reason_orientation_orientation</th>\n",
       "      <th>Ill300x.amb_reason_same_scores</th>\n",
       "      <th>Ill300x.ref_alnScore_mean</th>\n",
       "      <th>Ill300x.ref_alnScore_std</th>\n",
       "      <th>Ill300x.ref_count</th>\n",
       "      <th>Ill300x.ref_insertSize_mean</th>\n",
       "      <th>Ill300x.ref_insertSize_std</th>\n",
       "      <th>Ill300x.ref_reason_alignmentScore</th>\n",
       "      <th>Ill300x.ref_reason_insertSizeScore</th>\n",
       "      <th>Ill300x.ref_reason_orientation</th>\n",
       "    </tr>\n",
       "  </thead>\n",
       "  <tbody>\n",
       "    <tr>\n",
       "      <th>0</th>\n",
       "      <td>1</td>\n",
       "      <td>HG002</td>\n",
       "      <td>859</td>\n",
       "      <td>37568322</td>\n",
       "      <td>37568587</td>\n",
       "      <td>-115</td>\n",
       "      <td>Insertion</td>\n",
       "      <td>Deletion</td>\n",
       "      <td>0</td>\n",
       "      <td>0</td>\n",
       "      <td>...</td>\n",
       "      <td>8.0</td>\n",
       "      <td>12.0</td>\n",
       "      <td>569.127329</td>\n",
       "      <td>22.032287</td>\n",
       "      <td>322.0</td>\n",
       "      <td>562.838509</td>\n",
       "      <td>148.982654</td>\n",
       "      <td>275.0</td>\n",
       "      <td>0.0</td>\n",
       "      <td>47.0</td>\n",
       "    </tr>\n",
       "  </tbody>\n",
       "</table>\n",
       "<p>1 rows × 52 columns</p>\n",
       "</div>"
      ],
      "text/plain": [
       "  chrom sample   id     start       end  Size       type    SVtype  refN_cnt  \\\n",
       "0     1  HG002  859  37568322  37568587  -115  Insertion  Deletion         0   \n",
       "\n",
       "   refN_pct               ...                \\\n",
       "0         0               ...                 \n",
       "\n",
       "   Ill300x.amb_reason_orientation_orientation  Ill300x.amb_reason_same_scores  \\\n",
       "0                                         8.0                            12.0   \n",
       "\n",
       "   Ill300x.ref_alnScore_mean  Ill300x.ref_alnScore_std  Ill300x.ref_count  \\\n",
       "0                 569.127329                 22.032287              322.0   \n",
       "\n",
       "   Ill300x.ref_insertSize_mean  Ill300x.ref_insertSize_std  \\\n",
       "0                   562.838509                  148.982654   \n",
       "\n",
       "   Ill300x.ref_reason_alignmentScore  Ill300x.ref_reason_insertSizeScore  \\\n",
       "0                              275.0                                 0.0   \n",
       "\n",
       "   Ill300x.ref_reason_orientation  \n",
       "0                            47.0  \n",
       "\n",
       "[1 rows x 52 columns]"
      ]
     },
     "execution_count": 3,
     "metadata": {},
     "output_type": "execute_result"
    }
   ],
   "source": [
    "# Import Test Data\n",
    "# SVanalyzer generated training data\n",
    "df_test = pd.read_csv('/Volumes/lesleydata/SVanalyzer_ML/Oct122017_Revised_R/dataframes/test/final_df/tech_sep/DEL/HG002/300x_HG002_DEL_min1.csv')\n",
    "df_test_2 = pd.read_csv('/Volumes/lesleydata/SVanalyzer_ML/Oct122017_Revised_R/dataframes/test/final_df/tech_sep/DEL/HG002/300x_HG002_DEL_min1.csv')\n",
    "df_test.rename(columns={'size': 'Size'}, inplace=True)\n",
    "df_test.head(1)"
   ]
  },
  {
   "cell_type": "code",
   "execution_count": 4,
   "metadata": {},
   "outputs": [
    {
     "data": {
      "text/plain": [
       "{'Label'}"
      ]
     },
     "execution_count": 4,
     "metadata": {},
     "output_type": "execute_result"
    }
   ],
   "source": [
    "# Store header names in lists and find names that are NOT contained in BOTH lists\n",
    "c = list(df_train.columns.values)\n",
    "d = list(df_test.columns.values)\n",
    "set(c) - set(d)"
   ]
  },
  {
   "cell_type": "code",
   "execution_count": 5,
   "metadata": {
    "collapsed": true
   },
   "outputs": [],
   "source": [
    "### Drop columns that are not shared by both dataframes\n",
    "df_train.drop(['GTconswithoutIll300x.GT'], axis=1, inplace = True)\n",
    "df_train.drop(['GTcons'], axis=1, inplace = True)\n",
    "df_train.drop(['GTconflict'], axis=1, inplace = True)\n",
    "df_train.drop(['GTsupp'], axis=1, inplace = True)\n",
    "df_train.drop(['sample'], axis=1, inplace = True)\n",
    "df_train.drop(['SVtype'], axis=1, inplace = True)\n",
    "df_train.drop(['type'], axis=1, inplace = True)\n",
    "df_train.drop(['id'], axis=1, inplace = True)"
   ]
  },
  {
   "cell_type": "code",
   "execution_count": 6,
   "metadata": {},
   "outputs": [
    {
     "data": {
      "text/html": [
       "<div>\n",
       "<table border=\"1\" class=\"dataframe\">\n",
       "  <thead>\n",
       "    <tr style=\"text-align: right;\">\n",
       "      <th></th>\n",
       "      <th>chrom</th>\n",
       "      <th>start</th>\n",
       "      <th>end</th>\n",
       "      <th>Size</th>\n",
       "      <th>refN_cnt</th>\n",
       "      <th>refN_pct</th>\n",
       "      <th>segdup_cnt</th>\n",
       "      <th>segdup_pct</th>\n",
       "      <th>tandemrep_cnt</th>\n",
       "      <th>tandemrep_pct</th>\n",
       "      <th>...</th>\n",
       "      <th>Ill300x.amb_reason_orientation_orientation</th>\n",
       "      <th>Ill300x.amb_reason_same_scores</th>\n",
       "      <th>Ill300x.ref_alnScore_mean</th>\n",
       "      <th>Ill300x.ref_alnScore_std</th>\n",
       "      <th>Ill300x.ref_count</th>\n",
       "      <th>Ill300x.ref_insertSize_mean</th>\n",
       "      <th>Ill300x.ref_insertSize_std</th>\n",
       "      <th>Ill300x.ref_reason_alignmentScore</th>\n",
       "      <th>Ill300x.ref_reason_insertSizeScore</th>\n",
       "      <th>Ill300x.ref_reason_orientation</th>\n",
       "    </tr>\n",
       "  </thead>\n",
       "  <tbody>\n",
       "    <tr>\n",
       "      <th>0</th>\n",
       "      <td>1</td>\n",
       "      <td>72766323</td>\n",
       "      <td>72811839</td>\n",
       "      <td>-45516</td>\n",
       "      <td>0</td>\n",
       "      <td>0</td>\n",
       "      <td>4</td>\n",
       "      <td>0.076523</td>\n",
       "      <td>110</td>\n",
       "      <td>0.059979</td>\n",
       "      <td>...</td>\n",
       "      <td>7.0</td>\n",
       "      <td>0.0</td>\n",
       "      <td>587.54453</td>\n",
       "      <td>8.210694</td>\n",
       "      <td>23591.0</td>\n",
       "      <td>573.392523</td>\n",
       "      <td>152.703824</td>\n",
       "      <td>23591.0</td>\n",
       "      <td>0.0</td>\n",
       "      <td>0.0</td>\n",
       "    </tr>\n",
       "  </tbody>\n",
       "</table>\n",
       "<p>1 rows × 44 columns</p>\n",
       "</div>"
      ],
      "text/plain": [
       "  chrom     start       end   Size  refN_cnt  refN_pct  segdup_cnt  \\\n",
       "0     1  72766323  72811839 -45516         0         0           4   \n",
       "\n",
       "   segdup_pct  tandemrep_cnt  tandemrep_pct               ...                \\\n",
       "0    0.076523            110       0.059979               ...                 \n",
       "\n",
       "   Ill300x.amb_reason_orientation_orientation  Ill300x.amb_reason_same_scores  \\\n",
       "0                                         7.0                             0.0   \n",
       "\n",
       "   Ill300x.ref_alnScore_mean  Ill300x.ref_alnScore_std  Ill300x.ref_count  \\\n",
       "0                  587.54453                  8.210694            23591.0   \n",
       "\n",
       "   Ill300x.ref_insertSize_mean  Ill300x.ref_insertSize_std  \\\n",
       "0                   573.392523                  152.703824   \n",
       "\n",
       "   Ill300x.ref_reason_alignmentScore  Ill300x.ref_reason_insertSizeScore  \\\n",
       "0                            23591.0                                 0.0   \n",
       "\n",
       "   Ill300x.ref_reason_orientation  \n",
       "0                             0.0  \n",
       "\n",
       "[1 rows x 44 columns]"
      ]
     },
     "execution_count": 6,
     "metadata": {},
     "output_type": "execute_result"
    }
   ],
   "source": [
    "df_train.head(1)"
   ]
  },
  {
   "cell_type": "code",
   "execution_count": 7,
   "metadata": {
    "collapsed": true
   },
   "outputs": [],
   "source": [
    "df_train['chrom'].replace('X', 23, inplace=True)\n",
    "df_train['chrom'].replace('Y', 24, inplace=True)\n",
    "df_test['chrom'].replace('X', 23, inplace=True)\n",
    "df_test['chrom'].replace('Y', 24, inplace=True)"
   ]
  },
  {
   "cell_type": "code",
   "execution_count": 8,
   "metadata": {},
   "outputs": [
    {
     "data": {
      "text/plain": [
       "{'GTconflict',\n",
       " 'GTcons',\n",
       " 'GTconswithoutIll300x.GT',\n",
       " 'GTsupp',\n",
       " 'Ill300x.amb_reason_alignmentScore_insertSizeScore',\n",
       " 'SVtype',\n",
       " 'id',\n",
       " 'sample',\n",
       " 'type'}"
      ]
     },
     "execution_count": 8,
     "metadata": {},
     "output_type": "execute_result"
    }
   ],
   "source": [
    "# Store header names in lists and find names that are NOT contained in BOTH lists\n",
    "c = list(df_train.columns.values)\n",
    "d = list(df_test.columns.values)\n",
    "set(d) - set(c)"
   ]
  },
  {
   "cell_type": "code",
   "execution_count": 9,
   "metadata": {
    "collapsed": true
   },
   "outputs": [],
   "source": [
    "### Drop columns that are not shared by both dataframes\n",
    "df_test.drop(['Ill300x.amb_reason_alignmentScore_insertSizeScore'], axis=1, inplace = True)\n",
    "df_test.drop(['GTconswithoutIll300x.GT'], axis=1, inplace = True)\n",
    "df_test.drop(['GTcons'], axis=1, inplace = True)\n",
    "df_test.drop(['GTconflict'], axis=1, inplace = True)\n",
    "df_test.drop(['GTsupp'], axis=1, inplace = True)\n",
    "df_test.drop(['sample'], axis=1, inplace = True)\n",
    "df_test.drop(['SVtype'], axis=1, inplace = True)\n",
    "df_test.drop(['type'], axis=1, inplace = True)\n",
    "df_test.drop(['id'], axis=1, inplace = True)"
   ]
  },
  {
   "cell_type": "markdown",
   "metadata": {},
   "source": [
    "***\n",
    "Impute missing values using KNN\n",
    "***"
   ]
  },
  {
   "cell_type": "code",
   "execution_count": 10,
   "metadata": {},
   "outputs": [
    {
     "data": {
      "text/html": [
       "<div>\n",
       "<table border=\"1\" class=\"dataframe\">\n",
       "  <thead>\n",
       "    <tr style=\"text-align: right;\">\n",
       "      <th></th>\n",
       "      <th>chrom</th>\n",
       "      <th>start</th>\n",
       "      <th>end</th>\n",
       "      <th>Size</th>\n",
       "      <th>refN_cnt</th>\n",
       "      <th>refN_pct</th>\n",
       "      <th>segdup_cnt</th>\n",
       "      <th>segdup_pct</th>\n",
       "      <th>tandemrep_cnt</th>\n",
       "      <th>tandemrep_pct</th>\n",
       "      <th>...</th>\n",
       "      <th>Ill300x.amb_reason_orientation_orientation</th>\n",
       "      <th>Ill300x.amb_reason_same_scores</th>\n",
       "      <th>Ill300x.ref_alnScore_mean</th>\n",
       "      <th>Ill300x.ref_alnScore_std</th>\n",
       "      <th>Ill300x.ref_count</th>\n",
       "      <th>Ill300x.ref_insertSize_mean</th>\n",
       "      <th>Ill300x.ref_insertSize_std</th>\n",
       "      <th>Ill300x.ref_reason_alignmentScore</th>\n",
       "      <th>Ill300x.ref_reason_insertSizeScore</th>\n",
       "      <th>Ill300x.ref_reason_orientation</th>\n",
       "    </tr>\n",
       "  </thead>\n",
       "  <tbody>\n",
       "    <tr>\n",
       "      <th>0</th>\n",
       "      <td>1</td>\n",
       "      <td>72766323</td>\n",
       "      <td>72811839</td>\n",
       "      <td>-45516</td>\n",
       "      <td>0</td>\n",
       "      <td>0</td>\n",
       "      <td>4</td>\n",
       "      <td>0.076523</td>\n",
       "      <td>110</td>\n",
       "      <td>0.059979</td>\n",
       "      <td>...</td>\n",
       "      <td>7.0</td>\n",
       "      <td>0.0</td>\n",
       "      <td>587.544530</td>\n",
       "      <td>8.210694</td>\n",
       "      <td>23591.0</td>\n",
       "      <td>573.392523</td>\n",
       "      <td>152.703824</td>\n",
       "      <td>23591.0</td>\n",
       "      <td>0.0</td>\n",
       "      <td>0.0</td>\n",
       "    </tr>\n",
       "    <tr>\n",
       "      <th>1</th>\n",
       "      <td>1</td>\n",
       "      <td>96139975</td>\n",
       "      <td>96142391</td>\n",
       "      <td>-2416</td>\n",
       "      <td>0</td>\n",
       "      <td>0</td>\n",
       "      <td>0</td>\n",
       "      <td>0.000000</td>\n",
       "      <td>2</td>\n",
       "      <td>0.014487</td>\n",
       "      <td>...</td>\n",
       "      <td>4.0</td>\n",
       "      <td>0.0</td>\n",
       "      <td>588.904974</td>\n",
       "      <td>6.089408</td>\n",
       "      <td>1568.0</td>\n",
       "      <td>577.396684</td>\n",
       "      <td>158.654734</td>\n",
       "      <td>1568.0</td>\n",
       "      <td>0.0</td>\n",
       "      <td>0.0</td>\n",
       "    </tr>\n",
       "    <tr>\n",
       "      <th>2</th>\n",
       "      <td>1</td>\n",
       "      <td>109690878</td>\n",
       "      <td>109690918</td>\n",
       "      <td>-39</td>\n",
       "      <td>0</td>\n",
       "      <td>0</td>\n",
       "      <td>0</td>\n",
       "      <td>0.000000</td>\n",
       "      <td>1</td>\n",
       "      <td>0.400000</td>\n",
       "      <td>...</td>\n",
       "      <td>7.0</td>\n",
       "      <td>272.0</td>\n",
       "      <td>584.127907</td>\n",
       "      <td>11.328393</td>\n",
       "      <td>172.0</td>\n",
       "      <td>587.226744</td>\n",
       "      <td>143.664138</td>\n",
       "      <td>172.0</td>\n",
       "      <td>0.0</td>\n",
       "      <td>0.0</td>\n",
       "    </tr>\n",
       "  </tbody>\n",
       "</table>\n",
       "<p>3 rows × 44 columns</p>\n",
       "</div>"
      ],
      "text/plain": [
       "  chrom      start        end   Size  refN_cnt  refN_pct  segdup_cnt  \\\n",
       "0     1   72766323   72811839 -45516         0         0           4   \n",
       "1     1   96139975   96142391  -2416         0         0           0   \n",
       "2     1  109690878  109690918    -39         0         0           0   \n",
       "\n",
       "   segdup_pct  tandemrep_cnt  tandemrep_pct               ...                \\\n",
       "0    0.076523            110       0.059979               ...                 \n",
       "1    0.000000              2       0.014487               ...                 \n",
       "2    0.000000              1       0.400000               ...                 \n",
       "\n",
       "   Ill300x.amb_reason_orientation_orientation  Ill300x.amb_reason_same_scores  \\\n",
       "0                                         7.0                             0.0   \n",
       "1                                         4.0                             0.0   \n",
       "2                                         7.0                           272.0   \n",
       "\n",
       "   Ill300x.ref_alnScore_mean  Ill300x.ref_alnScore_std  Ill300x.ref_count  \\\n",
       "0                 587.544530                  8.210694            23591.0   \n",
       "1                 588.904974                  6.089408             1568.0   \n",
       "2                 584.127907                 11.328393              172.0   \n",
       "\n",
       "   Ill300x.ref_insertSize_mean  Ill300x.ref_insertSize_std  \\\n",
       "0                   573.392523                  152.703824   \n",
       "1                   577.396684                  158.654734   \n",
       "2                   587.226744                  143.664138   \n",
       "\n",
       "   Ill300x.ref_reason_alignmentScore  Ill300x.ref_reason_insertSizeScore  \\\n",
       "0                            23591.0                                 0.0   \n",
       "1                             1568.0                                 0.0   \n",
       "2                              172.0                                 0.0   \n",
       "\n",
       "   Ill300x.ref_reason_orientation  \n",
       "0                             0.0  \n",
       "1                             0.0  \n",
       "2                             0.0  \n",
       "\n",
       "[3 rows x 44 columns]"
      ]
     },
     "execution_count": 10,
     "metadata": {},
     "output_type": "execute_result"
    }
   ],
   "source": [
    "# Store training data in a new variable which will be converted to a matrix\n",
    "X = df_train\n",
    "X.head(3)"
   ]
  },
  {
   "cell_type": "code",
   "execution_count": 11,
   "metadata": {},
   "outputs": [
    {
     "name": "stdout",
     "output_type": "stream",
     "text": [
      "Imputing row 1/2507 with 3 missing, elapsed time: 2.021\n",
      "Imputing row 101/2507 with 3 missing, elapsed time: 2.078\n",
      "Imputing row 201/2507 with 3 missing, elapsed time: 2.090\n",
      "Imputing row 301/2507 with 3 missing, elapsed time: 2.104\n",
      "Imputing row 401/2507 with 3 missing, elapsed time: 2.116\n",
      "Imputing row 501/2507 with 3 missing, elapsed time: 2.129\n",
      "Imputing row 601/2507 with 3 missing, elapsed time: 2.143\n",
      "Imputing row 701/2507 with 3 missing, elapsed time: 2.155\n",
      "Imputing row 801/2507 with 3 missing, elapsed time: 2.168\n",
      "Imputing row 901/2507 with 2 missing, elapsed time: 2.177\n",
      "Imputing row 1001/2507 with 2 missing, elapsed time: 2.186\n",
      "Imputing row 1101/2507 with 2 missing, elapsed time: 2.195\n",
      "Imputing row 1201/2507 with 2 missing, elapsed time: 2.204\n",
      "Imputing row 1301/2507 with 2 missing, elapsed time: 2.213\n",
      "Imputing row 1401/2507 with 2 missing, elapsed time: 2.222\n",
      "Imputing row 1501/2507 with 2 missing, elapsed time: 2.233\n",
      "Imputing row 1601/2507 with 2 missing, elapsed time: 2.243\n",
      "Imputing row 1701/2507 with 2 missing, elapsed time: 2.252\n",
      "Imputing row 1801/2507 with 0 missing, elapsed time: 2.259\n",
      "Imputing row 1901/2507 with 0 missing, elapsed time: 2.261\n",
      "Imputing row 2001/2507 with 0 missing, elapsed time: 2.261\n",
      "Imputing row 2101/2507 with 0 missing, elapsed time: 2.262\n",
      "Imputing row 2201/2507 with 0 missing, elapsed time: 2.264\n",
      "Imputing row 2301/2507 with 0 missing, elapsed time: 2.266\n",
      "Imputing row 2401/2507 with 0 missing, elapsed time: 2.267\n",
      "Imputing row 2501/2507 with 0 missing, elapsed time: 2.267\n"
     ]
    }
   ],
   "source": [
    "# Convert dataframe to matrix\n",
    "X=X.as_matrix()\n",
    "\n",
    "#Imput missing values from three closest observations\n",
    "X_imputed=KNN(k=3).complete(X)\n",
    "X=pd.DataFrame(X_imputed)"
   ]
  },
  {
   "cell_type": "code",
   "execution_count": 12,
   "metadata": {},
   "outputs": [
    {
     "data": {
      "text/html": [
       "<div>\n",
       "<table border=\"1\" class=\"dataframe\">\n",
       "  <thead>\n",
       "    <tr style=\"text-align: right;\">\n",
       "      <th></th>\n",
       "      <th>chrom</th>\n",
       "      <th>start</th>\n",
       "      <th>end</th>\n",
       "      <th>Size</th>\n",
       "      <th>refN_cnt</th>\n",
       "      <th>refN_pct</th>\n",
       "      <th>segdup_cnt</th>\n",
       "      <th>segdup_pct</th>\n",
       "      <th>tandemrep_cnt</th>\n",
       "      <th>tandemrep_pct</th>\n",
       "      <th>...</th>\n",
       "      <th>Ill300x.amb_reason_orientation_orientation</th>\n",
       "      <th>Ill300x.amb_reason_same_scores</th>\n",
       "      <th>Ill300x.ref_alnScore_mean</th>\n",
       "      <th>Ill300x.ref_alnScore_std</th>\n",
       "      <th>Ill300x.ref_count</th>\n",
       "      <th>Ill300x.ref_insertSize_mean</th>\n",
       "      <th>Ill300x.ref_insertSize_std</th>\n",
       "      <th>Ill300x.ref_reason_alignmentScore</th>\n",
       "      <th>Ill300x.ref_reason_insertSizeScore</th>\n",
       "      <th>Ill300x.ref_reason_orientation</th>\n",
       "    </tr>\n",
       "  </thead>\n",
       "  <tbody>\n",
       "    <tr>\n",
       "      <th>0</th>\n",
       "      <td>1.0</td>\n",
       "      <td>72766323.0</td>\n",
       "      <td>72811839.0</td>\n",
       "      <td>-45516.0</td>\n",
       "      <td>0.0</td>\n",
       "      <td>0.0</td>\n",
       "      <td>4.0</td>\n",
       "      <td>0.076523</td>\n",
       "      <td>110.0</td>\n",
       "      <td>0.059979</td>\n",
       "      <td>...</td>\n",
       "      <td>7.0</td>\n",
       "      <td>0.0</td>\n",
       "      <td>587.544530</td>\n",
       "      <td>8.210694</td>\n",
       "      <td>23591.0</td>\n",
       "      <td>573.392523</td>\n",
       "      <td>152.703824</td>\n",
       "      <td>23591.0</td>\n",
       "      <td>0.0</td>\n",
       "      <td>0.0</td>\n",
       "    </tr>\n",
       "    <tr>\n",
       "      <th>1</th>\n",
       "      <td>1.0</td>\n",
       "      <td>96139975.0</td>\n",
       "      <td>96142391.0</td>\n",
       "      <td>-2416.0</td>\n",
       "      <td>0.0</td>\n",
       "      <td>0.0</td>\n",
       "      <td>0.0</td>\n",
       "      <td>0.000000</td>\n",
       "      <td>2.0</td>\n",
       "      <td>0.014487</td>\n",
       "      <td>...</td>\n",
       "      <td>4.0</td>\n",
       "      <td>0.0</td>\n",
       "      <td>588.904974</td>\n",
       "      <td>6.089408</td>\n",
       "      <td>1568.0</td>\n",
       "      <td>577.396684</td>\n",
       "      <td>158.654734</td>\n",
       "      <td>1568.0</td>\n",
       "      <td>0.0</td>\n",
       "      <td>0.0</td>\n",
       "    </tr>\n",
       "    <tr>\n",
       "      <th>2</th>\n",
       "      <td>1.0</td>\n",
       "      <td>109690878.0</td>\n",
       "      <td>109690918.0</td>\n",
       "      <td>-39.0</td>\n",
       "      <td>0.0</td>\n",
       "      <td>0.0</td>\n",
       "      <td>0.0</td>\n",
       "      <td>0.000000</td>\n",
       "      <td>1.0</td>\n",
       "      <td>0.400000</td>\n",
       "      <td>...</td>\n",
       "      <td>7.0</td>\n",
       "      <td>272.0</td>\n",
       "      <td>584.127907</td>\n",
       "      <td>11.328393</td>\n",
       "      <td>172.0</td>\n",
       "      <td>587.226744</td>\n",
       "      <td>143.664138</td>\n",
       "      <td>172.0</td>\n",
       "      <td>0.0</td>\n",
       "      <td>0.0</td>\n",
       "    </tr>\n",
       "  </tbody>\n",
       "</table>\n",
       "<p>3 rows × 44 columns</p>\n",
       "</div>"
      ],
      "text/plain": [
       "   chrom        start          end     Size  refN_cnt  refN_pct  segdup_cnt  \\\n",
       "0    1.0   72766323.0   72811839.0 -45516.0       0.0       0.0         4.0   \n",
       "1    1.0   96139975.0   96142391.0  -2416.0       0.0       0.0         0.0   \n",
       "2    1.0  109690878.0  109690918.0    -39.0       0.0       0.0         0.0   \n",
       "\n",
       "   segdup_pct  tandemrep_cnt  tandemrep_pct               ...                \\\n",
       "0    0.076523          110.0       0.059979               ...                 \n",
       "1    0.000000            2.0       0.014487               ...                 \n",
       "2    0.000000            1.0       0.400000               ...                 \n",
       "\n",
       "   Ill300x.amb_reason_orientation_orientation  Ill300x.amb_reason_same_scores  \\\n",
       "0                                         7.0                             0.0   \n",
       "1                                         4.0                             0.0   \n",
       "2                                         7.0                           272.0   \n",
       "\n",
       "   Ill300x.ref_alnScore_mean  Ill300x.ref_alnScore_std  Ill300x.ref_count  \\\n",
       "0                 587.544530                  8.210694            23591.0   \n",
       "1                 588.904974                  6.089408             1568.0   \n",
       "2                 584.127907                 11.328393              172.0   \n",
       "\n",
       "   Ill300x.ref_insertSize_mean  Ill300x.ref_insertSize_std  \\\n",
       "0                   573.392523                  152.703824   \n",
       "1                   577.396684                  158.654734   \n",
       "2                   587.226744                  143.664138   \n",
       "\n",
       "   Ill300x.ref_reason_alignmentScore  Ill300x.ref_reason_insertSizeScore  \\\n",
       "0                            23591.0                                 0.0   \n",
       "1                             1568.0                                 0.0   \n",
       "2                              172.0                                 0.0   \n",
       "\n",
       "   Ill300x.ref_reason_orientation  \n",
       "0                             0.0  \n",
       "1                             0.0  \n",
       "2                             0.0  \n",
       "\n",
       "[3 rows x 44 columns]"
      ]
     },
     "execution_count": 12,
     "metadata": {},
     "output_type": "execute_result"
    }
   ],
   "source": [
    "# Store header values in a list, will be used later to re-label the matrix post KNN imputation\n",
    "dftrain_header = list(df_train.columns.values)\n",
    "X.columns = dftrain_header\n",
    "X.head(3)"
   ]
  },
  {
   "cell_type": "code",
   "execution_count": 13,
   "metadata": {
    "collapsed": true
   },
   "outputs": [],
   "source": [
    "# Store Labels in a new 'Y' DataFrame\n",
    "Y = pd.DataFrame()\n",
    "Y = X['Label']"
   ]
  },
  {
   "cell_type": "code",
   "execution_count": 14,
   "metadata": {},
   "outputs": [
    {
     "data": {
      "text/plain": [
       "1.0    803\n",
       "0.0    961\n",
       "2.0    743\n",
       "dtype: int64"
      ]
     },
     "execution_count": 14,
     "metadata": {},
     "output_type": "execute_result"
    }
   ],
   "source": [
    "#Count the number of labels\n",
    "pd.value_counts(Y.values, sort=False)"
   ]
  },
  {
   "cell_type": "code",
   "execution_count": 15,
   "metadata": {
    "collapsed": true
   },
   "outputs": [],
   "source": [
    "# Note: originally selected 1000 of each label --> find out why some are lost"
   ]
  },
  {
   "cell_type": "code",
   "execution_count": 16,
   "metadata": {
    "collapsed": true
   },
   "outputs": [],
   "source": [
    "# Remove labels from feature set\n",
    "X.drop(['Label'],axis=1, inplace = True)"
   ]
  },
  {
   "cell_type": "code",
   "execution_count": 17,
   "metadata": {
    "collapsed": true
   },
   "outputs": [],
   "source": [
    "# Order features\n",
    "X4 = X.reindex_axis(sorted(X.columns), axis=1)"
   ]
  },
  {
   "cell_type": "markdown",
   "metadata": {},
   "source": [
    "***\n",
    "Machine Learning\n",
    "***\n",
    "\n",
    "<a id='machine_learning'></a>"
   ]
  },
  {
   "cell_type": "markdown",
   "metadata": {},
   "source": [
    "Description:\n",
    "\n",
    "   * In the following section a random forest model will be trained on svanalyzer data.\n",
    "   **FYI**: [see description below of the SVanalyzer data](#svan_1)\n",
    "       * The model was trained using [train/test split](http://scikit-learn.org/0.16/modules/generated/sklearn.cross_validation.train_test_split.html) where 70% of the data was used to train the model and the model performance was determined by predicting labels for the remaining 30% of the data\n",
    "       * Reminder: The labels for this training set and the following [prediction step](#prediction_step) are:\n",
    "           * Exact Match (1)\n",
    "           * Homozygous Reference (0)\n",
    "           * Inaccurate Call (2)\n",
    "           \n",
    "   * The trained model will be used to predict labels for 5000 randomly selected deletions [these datapoints were randomly selected from [union_170509_refalt.sort.vcf](ftp://ftp-trace.ncbi.nlm.nih.gov/giab/ftp/data/AshkenazimTrio/analysis/NIST_UnionSVs_05092017/)]\n",
    "   \n",
    "   "
   ]
  },
  {
   "cell_type": "markdown",
   "metadata": {},
   "source": [
    "<a id='svan_1'></a>\n",
    "* **Reminder - SVanalyzer data description:** \n",
    "     * **1000 Exact Match**: 1000 datapoints were randomly selected from the following [svanalyzer_union_170509_v0.3.0b.vcf](ftp://ftp-trace.ncbi.nlm.nih.gov/giab/ftp/data/AshkenazimTrio/analysis/NIST_UnionSVs_05092017/Preliminary_Integrations_v0.3.0/)\n",
    "     * **1000 Homozygous Reference**: 1000 datapoints were randomly selected from the following [svanalyzer_union_170509_v0.3.0b.vcf](ftp://ftp-trace.ncbi.nlm.nih.gov/giab/ftp/data/AshkenazimTrio/analysis/NIST_UnionSVs_05092017/Preliminary_Integrations_v0.3.0/)\n",
    "     * **1000 Inaccurate Calls**: 1000 datapoints were randomly selected from the following\n",
    "[svanalyzer_union_170509_refalt.2.2.2.clustered.uniquecalls.vcf](ftp://ftp-trace.ncbi.nlm.nih.gov/giab/ftp/data/AshkenazimTrio/analysis/NIST_UnionSVs_05092017/Preliminary_Integrations_v0.3.0/)\n",
    "   \n",
    "   * Source of Features: svviz, GA4GH [tandem repeat, segmental duplications, refN], R analysis [consensus genotype, GTsup]   \n",
    "    "
   ]
  },
  {
   "cell_type": "markdown",
   "metadata": {},
   "source": [
    "** Train Random Forest Classifier **"
   ]
  },
  {
   "cell_type": "markdown",
   "metadata": {},
   "source": [
    "<a id='train_test'></a>"
   ]
  },
  {
   "cell_type": "code",
   "execution_count": 18,
   "metadata": {
    "collapsed": true
   },
   "outputs": [],
   "source": [
    "# Train Test Split\n",
    "# Train on 70% of the data and test on 30%\n",
    "X_train, X_test, y_train, y_test = train_test_split(X4, Y, test_size=0.3, random_state=0)"
   ]
  },
  {
   "cell_type": "code",
   "execution_count": 19,
   "metadata": {},
   "outputs": [
    {
     "data": {
      "text/plain": [
       "RandomForestClassifier(bootstrap=True, class_weight=None, criterion='gini',\n",
       "            max_depth=None, max_features='auto', max_leaf_nodes=None,\n",
       "            min_impurity_split=1e-07, min_samples_leaf=1,\n",
       "            min_samples_split=2, min_weight_fraction_leaf=0.0,\n",
       "            n_estimators=10, n_jobs=1, oob_score=False, random_state=None,\n",
       "            verbose=0, warm_start=False)"
      ]
     },
     "execution_count": 19,
     "metadata": {},
     "output_type": "execute_result"
    }
   ],
   "source": [
    "# Train Random Forest Classifier\n",
    "model = RandomForestClassifier() \n",
    "model.fit(X_train, y_train)"
   ]
  },
  {
   "cell_type": "code",
   "execution_count": 20,
   "metadata": {},
   "outputs": [
    {
     "name": "stdout",
     "output_type": "stream",
     "text": [
      "Feature ranking:\n",
      "1. feature 6 (0.103467)\n",
      "2. feature 3 (0.070765)\n",
      "3. feature 5 (0.066349)\n",
      "4. feature 33 (0.057264)\n",
      "5. feature 4 (0.054098)\n",
      "6. feature 27 (0.042877)\n",
      "7. feature 2 (0.042544)\n",
      "8. feature 30 (0.042506)\n",
      "9. feature 20 (0.040880)\n",
      "10. feature 25 (0.036809)\n",
      "11. feature 1 (0.033756)\n",
      "12. feature 24 (0.032112)\n",
      "13. feature 16 (0.030645)\n",
      "14. feature 28 (0.028519)\n",
      "15. feature 9 (0.025525)\n",
      "16. feature 10 (0.022304)\n",
      "17. feature 11 (0.021779)\n",
      "18. feature 26 (0.021238)\n",
      "19. feature 40 (0.019627)\n",
      "20. feature 29 (0.019519)\n",
      "21. feature 7 (0.019392)\n",
      "22. feature 13 (0.018455)\n",
      "23. feature 12 (0.018296)\n",
      "24. feature 0 (0.018244)\n",
      "25. feature 14 (0.017513)\n",
      "26. feature 23 (0.016808)\n",
      "27. feature 35 (0.016009)\n",
      "28. feature 34 (0.015794)\n",
      "29. feature 39 (0.013228)\n",
      "30. feature 38 (0.009164)\n",
      "31. feature 42 (0.009090)\n",
      "32. feature 41 (0.007402)\n",
      "33. feature 21 (0.004962)\n",
      "34. feature 32 (0.002774)\n",
      "35. feature 31 (0.000286)\n",
      "36. feature 15 (0.000000)\n",
      "37. feature 17 (0.000000)\n",
      "38. feature 18 (0.000000)\n",
      "39. feature 8 (0.000000)\n",
      "40. feature 19 (0.000000)\n",
      "41. feature 22 (0.000000)\n",
      "42. feature 36 (0.000000)\n",
      "43. feature 37 (0.000000)\n"
     ]
    }
   ],
   "source": [
    "# Feature Importance\n",
    "importances = model.feature_importances_\n",
    "indices = np.argsort(importances)[::-1]\n",
    "print(\"Feature ranking:\")\n",
    "\n",
    "for f in range(X_test.shape[1]):\n",
    "    print(\"%d. feature %d (%f)\" % (f + 1, indices[f], importances[indices[f]]))"
   ]
  },
  {
   "cell_type": "markdown",
   "metadata": {},
   "source": [
    "<a id='feature_importance'></a>"
   ]
  },
  {
   "cell_type": "code",
   "execution_count": 21,
   "metadata": {},
   "outputs": [
    {
     "name": "stderr",
     "output_type": "stream",
     "text": [
      "/Users/lmc2/anaconda/envs/NIHFAES/lib/python3.5/site-packages/ipykernel/__main__.py:3: FutureWarning:\n",
      "\n",
      "sort is deprecated, use sort_values(inplace=True) for INPLACE sorting\n",
      "\n"
     ]
    },
    {
     "data": {
      "text/plain": [
       "<matplotlib.axes._subplots.AxesSubplot at 0x11421a630>"
      ]
     },
     "execution_count": 21,
     "metadata": {},
     "output_type": "execute_result"
    },
    {
     "data": {
      "image/png": "[encoded data removed]",
      "text/plain": [
       "<matplotlib.figure.Figure at 0x11420ae10>"
      ]
     },
     "metadata": {},
     "output_type": "display_data"
    }
   ],
   "source": [
    "%matplotlib inline\n",
    "feature_importances = pd.Series(model.feature_importances_, index=X_test.columns)\n",
    "feature_importances.sort()\n",
    "feature_importances.plot.bar()"
   ]
  },
  {
   "cell_type": "code",
   "execution_count": 22,
   "metadata": {},
   "outputs": [
    {
     "data": {
      "text/plain": [
       "0.0    654\n",
       "1.0    570\n",
       "2.0    530\n",
       "dtype: int64"
      ]
     },
     "execution_count": 22,
     "metadata": {},
     "output_type": "execute_result"
    }
   ],
   "source": [
    "#NOTE: Training Set - Show number of Hom Ref, Hom Var, Het Var datapoints the model was trained on\n",
    "ytrain = pd.DataFrame()\n",
    "ytrain['ytrain'] = y_train\n",
    "pd.value_counts(ytrain['ytrain'].values, sort=False)"
   ]
  },
  {
   "cell_type": "code",
   "execution_count": 23,
   "metadata": {
    "collapsed": true
   },
   "outputs": [],
   "source": [
    "pred = model.predict(X_test)"
   ]
  },
  {
   "cell_type": "markdown",
   "metadata": {},
   "source": [
    "<a id='traintest_precision'></a>"
   ]
  },
  {
   "cell_type": "code",
   "execution_count": 24,
   "metadata": {},
   "outputs": [
    {
     "data": {
      "text/plain": [
       "0.76759628154050463"
      ]
     },
     "execution_count": 24,
     "metadata": {},
     "output_type": "execute_result"
    }
   ],
   "source": [
    "precision_score(pred, y_test, average='micro') "
   ]
  },
  {
   "cell_type": "code",
   "execution_count": 25,
   "metadata": {},
   "outputs": [
    {
     "data": {
      "text/html": [
       "<div>\n",
       "<table border=\"1\" class=\"dataframe\">\n",
       "  <thead>\n",
       "    <tr style=\"text-align: right;\">\n",
       "      <th></th>\n",
       "      <th>Ill300x.GT</th>\n",
       "      <th>Ill300x.alt_alnScore_mean</th>\n",
       "      <th>Ill300x.alt_alnScore_std</th>\n",
       "      <th>Ill300x.alt_count</th>\n",
       "      <th>Ill300x.alt_insertSize_mean</th>\n",
       "      <th>Ill300x.alt_insertSize_std</th>\n",
       "      <th>Ill300x.alt_reason_alignmentScore</th>\n",
       "      <th>Ill300x.alt_reason_insertSizeScore</th>\n",
       "      <th>Ill300x.alt_reason_orientation</th>\n",
       "      <th>Ill300x.amb_alnScore_mean</th>\n",
       "      <th>...</th>\n",
       "      <th>Size</th>\n",
       "      <th>chrom</th>\n",
       "      <th>end</th>\n",
       "      <th>refN_cnt</th>\n",
       "      <th>refN_pct</th>\n",
       "      <th>segdup_cnt</th>\n",
       "      <th>segdup_pct</th>\n",
       "      <th>start</th>\n",
       "      <th>tandemrep_cnt</th>\n",
       "      <th>tandemrep_pct</th>\n",
       "    </tr>\n",
       "  </thead>\n",
       "  <tbody>\n",
       "    <tr>\n",
       "      <th>1719</th>\n",
       "      <td>-1.0</td>\n",
       "      <td>0.000000</td>\n",
       "      <td>0.000000</td>\n",
       "      <td>0.0</td>\n",
       "      <td>0.000000</td>\n",
       "      <td>0.000000</td>\n",
       "      <td>0.0</td>\n",
       "      <td>0.0</td>\n",
       "      <td>0.0</td>\n",
       "      <td>542.212972</td>\n",
       "      <td>...</td>\n",
       "      <td>-24.0</td>\n",
       "      <td>23.0</td>\n",
       "      <td>8387067.0</td>\n",
       "      <td>0.0</td>\n",
       "      <td>0.0</td>\n",
       "      <td>0.0</td>\n",
       "      <td>0.000000</td>\n",
       "      <td>8387042.0</td>\n",
       "      <td>1.0</td>\n",
       "      <td>1.000000</td>\n",
       "    </tr>\n",
       "    <tr>\n",
       "      <th>1832</th>\n",
       "      <td>-1.0</td>\n",
       "      <td>574.058824</td>\n",
       "      <td>11.997405</td>\n",
       "      <td>17.0</td>\n",
       "      <td>1123.882353</td>\n",
       "      <td>107.331747</td>\n",
       "      <td>0.0</td>\n",
       "      <td>17.0</td>\n",
       "      <td>0.0</td>\n",
       "      <td>554.827071</td>\n",
       "      <td>...</td>\n",
       "      <td>-171.0</td>\n",
       "      <td>10.0</td>\n",
       "      <td>39079823.0</td>\n",
       "      <td>0.0</td>\n",
       "      <td>0.0</td>\n",
       "      <td>1.0</td>\n",
       "      <td>1.000000</td>\n",
       "      <td>39079652.0</td>\n",
       "      <td>0.0</td>\n",
       "      <td>0.000000</td>\n",
       "    </tr>\n",
       "    <tr>\n",
       "      <th>1665</th>\n",
       "      <td>0.0</td>\n",
       "      <td>580.333333</td>\n",
       "      <td>16.499158</td>\n",
       "      <td>3.0</td>\n",
       "      <td>1023.666667</td>\n",
       "      <td>290.585998</td>\n",
       "      <td>1.0</td>\n",
       "      <td>2.0</td>\n",
       "      <td>0.0</td>\n",
       "      <td>532.687933</td>\n",
       "      <td>...</td>\n",
       "      <td>-44.0</td>\n",
       "      <td>8.0</td>\n",
       "      <td>119145254.0</td>\n",
       "      <td>0.0</td>\n",
       "      <td>0.0</td>\n",
       "      <td>0.0</td>\n",
       "      <td>0.000000</td>\n",
       "      <td>119145209.0</td>\n",
       "      <td>1.0</td>\n",
       "      <td>1.000000</td>\n",
       "    </tr>\n",
       "    <tr>\n",
       "      <th>703</th>\n",
       "      <td>1.0</td>\n",
       "      <td>584.590909</td>\n",
       "      <td>7.246164</td>\n",
       "      <td>264.0</td>\n",
       "      <td>626.087121</td>\n",
       "      <td>158.911556</td>\n",
       "      <td>72.0</td>\n",
       "      <td>192.0</td>\n",
       "      <td>0.0</td>\n",
       "      <td>519.001213</td>\n",
       "      <td>...</td>\n",
       "      <td>-18511.0</td>\n",
       "      <td>8.0</td>\n",
       "      <td>24990943.0</td>\n",
       "      <td>0.0</td>\n",
       "      <td>0.0</td>\n",
       "      <td>1.0</td>\n",
       "      <td>0.012425</td>\n",
       "      <td>24972432.0</td>\n",
       "      <td>47.0</td>\n",
       "      <td>0.067744</td>\n",
       "    </tr>\n",
       "    <tr>\n",
       "      <th>399</th>\n",
       "      <td>1.0</td>\n",
       "      <td>570.063830</td>\n",
       "      <td>11.188718</td>\n",
       "      <td>94.0</td>\n",
       "      <td>551.702128</td>\n",
       "      <td>153.115853</td>\n",
       "      <td>93.0</td>\n",
       "      <td>1.0</td>\n",
       "      <td>0.0</td>\n",
       "      <td>538.760464</td>\n",
       "      <td>...</td>\n",
       "      <td>-61.0</td>\n",
       "      <td>20.0</td>\n",
       "      <td>49068671.0</td>\n",
       "      <td>0.0</td>\n",
       "      <td>0.0</td>\n",
       "      <td>1.0</td>\n",
       "      <td>1.000000</td>\n",
       "      <td>49068609.0</td>\n",
       "      <td>1.0</td>\n",
       "      <td>1.000000</td>\n",
       "    </tr>\n",
       "  </tbody>\n",
       "</table>\n",
       "<p>5 rows × 43 columns</p>\n",
       "</div>"
      ],
      "text/plain": [
       "      Ill300x.GT  Ill300x.alt_alnScore_mean  Ill300x.alt_alnScore_std  \\\n",
       "1719        -1.0                   0.000000                  0.000000   \n",
       "1832        -1.0                 574.058824                 11.997405   \n",
       "1665         0.0                 580.333333                 16.499158   \n",
       "703          1.0                 584.590909                  7.246164   \n",
       "399          1.0                 570.063830                 11.188718   \n",
       "\n",
       "      Ill300x.alt_count  Ill300x.alt_insertSize_mean  \\\n",
       "1719                0.0                     0.000000   \n",
       "1832               17.0                  1123.882353   \n",
       "1665                3.0                  1023.666667   \n",
       "703               264.0                   626.087121   \n",
       "399                94.0                   551.702128   \n",
       "\n",
       "      Ill300x.alt_insertSize_std  Ill300x.alt_reason_alignmentScore  \\\n",
       "1719                    0.000000                                0.0   \n",
       "1832                  107.331747                                0.0   \n",
       "1665                  290.585998                                1.0   \n",
       "703                   158.911556                               72.0   \n",
       "399                   153.115853                               93.0   \n",
       "\n",
       "      Ill300x.alt_reason_insertSizeScore  Ill300x.alt_reason_orientation  \\\n",
       "1719                                 0.0                             0.0   \n",
       "1832                                17.0                             0.0   \n",
       "1665                                 2.0                             0.0   \n",
       "703                                192.0                             0.0   \n",
       "399                                  1.0                             0.0   \n",
       "\n",
       "      Ill300x.amb_alnScore_mean      ...           Size  chrom          end  \\\n",
       "1719                 542.212972      ...          -24.0   23.0    8387067.0   \n",
       "1832                 554.827071      ...         -171.0   10.0   39079823.0   \n",
       "1665                 532.687933      ...          -44.0    8.0  119145254.0   \n",
       "703                  519.001213      ...       -18511.0    8.0   24990943.0   \n",
       "399                  538.760464      ...          -61.0   20.0   49068671.0   \n",
       "\n",
       "      refN_cnt  refN_pct  segdup_cnt  segdup_pct        start  tandemrep_cnt  \\\n",
       "1719       0.0       0.0         0.0    0.000000    8387042.0            1.0   \n",
       "1832       0.0       0.0         1.0    1.000000   39079652.0            0.0   \n",
       "1665       0.0       0.0         0.0    0.000000  119145209.0            1.0   \n",
       "703        0.0       0.0         1.0    0.012425   24972432.0           47.0   \n",
       "399        0.0       0.0         1.0    1.000000   49068609.0            1.0   \n",
       "\n",
       "      tandemrep_pct  \n",
       "1719       1.000000  \n",
       "1832       0.000000  \n",
       "1665       1.000000  \n",
       "703        0.067744  \n",
       "399        1.000000  \n",
       "\n",
       "[5 rows x 43 columns]"
      ]
     },
     "execution_count": 25,
     "metadata": {},
     "output_type": "execute_result"
    }
   ],
   "source": [
    "# Add original labels and predicted labels back to the original dataframe\n",
    "df_Xtest = pd.DataFrame(X_test)\n",
    "df_Xtest.head()"
   ]
  },
  {
   "cell_type": "code",
   "execution_count": 26,
   "metadata": {
    "collapsed": true
   },
   "outputs": [],
   "source": [
    "labels = pd.DataFrame(y_test)"
   ]
  },
  {
   "cell_type": "code",
   "execution_count": 27,
   "metadata": {
    "collapsed": true
   },
   "outputs": [],
   "source": [
    "df_Xtest['predicted_label'] = pred\n",
    "df_Xtest['Label'] = df_train['Label']\n",
    "df_Xtest['chrom'] = df_train['chrom']\n",
    "df_Xtest['start'] = df_train['start']\n",
    "df_Xtest['end'] = df_train['end']\n",
    "# df_Xtest['Y_test'] = labels"
   ]
  },
  {
   "cell_type": "code",
   "execution_count": 28,
   "metadata": {},
   "outputs": [
    {
     "data": {
      "text/plain": [
       "0    307\n",
       "1    233\n",
       "2    213\n",
       "dtype: int64"
      ]
     },
     "execution_count": 28,
     "metadata": {},
     "output_type": "execute_result"
    }
   ],
   "source": [
    "pd.value_counts(df_Xtest['Label'].values, sort=False)"
   ]
  },
  {
   "cell_type": "code",
   "execution_count": 29,
   "metadata": {},
   "outputs": [
    {
     "data": {
      "text/plain": [
       "0.0    323\n",
       "1.0    255\n",
       "2.0    175\n",
       "dtype: int64"
      ]
     },
     "execution_count": 29,
     "metadata": {},
     "output_type": "execute_result"
    }
   ],
   "source": [
    "pd.value_counts(df_Xtest['predicted_label'].values, sort=False)"
   ]
  },
  {
   "cell_type": "code",
   "execution_count": 30,
   "metadata": {},
   "outputs": [
    {
     "name": "stdout",
     "output_type": "stream",
     "text": [
      "[[255  14  38]\n",
      " [  3 208  22]\n",
      " [ 65  33 115]]\n"
     ]
    }
   ],
   "source": [
    "from sklearn.metrics import confusion_matrix\n",
    "ytest = df_Xtest['Label']\n",
    "predict = df_Xtest['predicted_label']\n",
    "print(confusion_matrix(ytest, predict))"
   ]
  },
  {
   "cell_type": "code",
   "execution_count": 31,
   "metadata": {
    "collapsed": true
   },
   "outputs": [],
   "source": [
    "df_Xtest['Label'].replace(0, 'Homozygous_Reference', inplace=True)\n",
    "df_Xtest['Label'].replace(1, 'Exact_Match', inplace=True)\n",
    "df_Xtest['Label'].replace(2, 'Inaccurate_Call', inplace=True)\n",
    "df_Xtest['predicted_label'].replace(0.0, 'Homozygous_Reference', inplace=True)\n",
    "df_Xtest['predicted_label'].replace(1.0, 'Exact_Match', inplace=True)\n",
    "df_Xtest['predicted_label'].replace(2.0, 'Inaccurate_Call', inplace=True)"
   ]
  },
  {
   "cell_type": "markdown",
   "metadata": {},
   "source": [
    "<a id='traintest_confusion_matrix'></a>"
   ]
  },
  {
   "cell_type": "code",
   "execution_count": 32,
   "metadata": {},
   "outputs": [
    {
     "data": {
      "text/html": [
       "<div>\n",
       "<table border=\"1\" class=\"dataframe\">\n",
       "  <thead>\n",
       "    <tr style=\"text-align: right;\">\n",
       "      <th>Predicted</th>\n",
       "      <th>Exact_Match</th>\n",
       "      <th>Homozygous_Reference</th>\n",
       "      <th>Inaccurate_Call</th>\n",
       "      <th>All</th>\n",
       "    </tr>\n",
       "    <tr>\n",
       "      <th>True</th>\n",
       "      <th></th>\n",
       "      <th></th>\n",
       "      <th></th>\n",
       "      <th></th>\n",
       "    </tr>\n",
       "  </thead>\n",
       "  <tbody>\n",
       "    <tr>\n",
       "      <th>Exact_Match</th>\n",
       "      <td>208</td>\n",
       "      <td>3</td>\n",
       "      <td>22</td>\n",
       "      <td>233</td>\n",
       "    </tr>\n",
       "    <tr>\n",
       "      <th>Homozygous_Reference</th>\n",
       "      <td>14</td>\n",
       "      <td>255</td>\n",
       "      <td>38</td>\n",
       "      <td>307</td>\n",
       "    </tr>\n",
       "    <tr>\n",
       "      <th>Inaccurate_Call</th>\n",
       "      <td>33</td>\n",
       "      <td>65</td>\n",
       "      <td>115</td>\n",
       "      <td>213</td>\n",
       "    </tr>\n",
       "    <tr>\n",
       "      <th>All</th>\n",
       "      <td>255</td>\n",
       "      <td>323</td>\n",
       "      <td>175</td>\n",
       "      <td>753</td>\n",
       "    </tr>\n",
       "  </tbody>\n",
       "</table>\n",
       "</div>"
      ],
      "text/plain": [
       "Predicted             Exact_Match  Homozygous_Reference  Inaccurate_Call  All\n",
       "True                                                                         \n",
       "Exact_Match                   208                     3               22  233\n",
       "Homozygous_Reference           14                   255               38  307\n",
       "Inaccurate_Call                33                    65              115  213\n",
       "All                           255                   323              175  753"
      ]
     },
     "execution_count": 32,
     "metadata": {},
     "output_type": "execute_result"
    }
   ],
   "source": [
    "pd.crosstab(ytest, predict, rownames=['True'], colnames=['Predicted'], margins=True)"
   ]
  },
  {
   "cell_type": "code",
   "execution_count": 33,
   "metadata": {},
   "outputs": [
    {
     "name": "stdout",
     "output_type": "stream",
     "text": [
      "                      precision    recall  f1-score   support\n",
      "\n",
      "         Exact_Match       0.89      0.82      0.85       255\n",
      "Homozygous_Reference       0.83      0.79      0.81       323\n",
      "     Inaccurate_Call       0.54      0.66      0.59       175\n",
      "\n",
      "         avg / total       0.78      0.77      0.77       753\n",
      "\n"
     ]
    }
   ],
   "source": [
    "from sklearn.metrics import classification_report\n",
    "print(classification_report(predict,ytest))"
   ]
  },
  {
   "cell_type": "markdown",
   "metadata": {},
   "source": [
    "***\n",
    "Predict\n",
    "***"
   ]
  },
  {
   "cell_type": "markdown",
   "metadata": {},
   "source": [
    "Description:\n",
    "\n",
    "   * In the [previous section](#machine_learning) the model was trained on svanalyzer data.\n",
    "   **FYI**: [see description below of the SVanalyzer data](#svan_2)\n",
    "       * The model was trained using [train/test split](#train_test) where 70% of the data was used to train the model and the model performance was determined by predicting labels for the remaining 30% of the data\n",
    "       * Reminder: The labels for this training set and the following [prediction step](#prediction_step) are:\n",
    "           * Exact Match (1)\n",
    "           * Homozygous Reference (0)\n",
    "           * Inaccurate Call (2)\n",
    "           \n",
    "   * The trained model is used in the following section to predict labels for 5000 randomly selected Deletions [these datapoints were randomly selected from [union_170509_refalt.sort.vcf](ftp://ftp-trace.ncbi.nlm.nih.gov/giab/ftp/data/AshkenazimTrio/analysis/NIST_UnionSVs_05092017/)]\n",
    "   \n",
    "   "
   ]
  },
  {
   "cell_type": "markdown",
   "metadata": {},
   "source": [
    "<a id='svan_2'></a>\n",
    "* **Reminder - SVanalyzer data description:** \n",
    "     * **1000 Exact Match**: 1000 datapoints were randomly selected from the following [svanalyzer_union_170509_v0.3.0b.vcf](ftp://ftp-trace.ncbi.nlm.nih.gov/giab/ftp/data/AshkenazimTrio/analysis/NIST_UnionSVs_05092017/Preliminary_Integrations_v0.3.0/)\n",
    "     * **1000 Homozygous Reference**: 1000 datapoints were randomly selected from the following [svanalyzer_union_170509_v0.3.0b.vcf](ftp://ftp-trace.ncbi.nlm.nih.gov/giab/ftp/data/AshkenazimTrio/analysis/NIST_UnionSVs_05092017/Preliminary_Integrations_v0.3.0/)\n",
    "     * **1000 Inaccurate Calls**: 1000 datapoints were randomly selected from the following\n",
    "[svanalyzer_union_170509_refalt.2.2.2.clustered.uniquecalls.vcf](ftp://ftp-trace.ncbi.nlm.nih.gov/giab/ftp/data/AshkenazimTrio/analysis/NIST_UnionSVs_05092017/Preliminary_Integrations_v0.3.0/)\n",
    "   \n",
    "   * Source of Features: svviz, GA4GH [tandem repeat, segmental duplications, refN], R analysis [consensus genotype, GTsup]   \n",
    "   "
   ]
  },
  {
   "cell_type": "markdown",
   "metadata": {},
   "source": [
    "** Load Data **"
   ]
  },
  {
   "cell_type": "code",
   "execution_count": 34,
   "metadata": {
    "collapsed": true
   },
   "outputs": [],
   "source": [
    "X2 = df_test"
   ]
  },
  {
   "cell_type": "markdown",
   "metadata": {},
   "source": [
    "** Impute missing values using KNN **"
   ]
  },
  {
   "cell_type": "code",
   "execution_count": 35,
   "metadata": {},
   "outputs": [
    {
     "name": "stdout",
     "output_type": "stream",
     "text": [
      "Imputing row 1/3945 with 2 missing, elapsed time: 5.041\n",
      "Imputing row 101/3945 with 2 missing, elapsed time: 5.052\n",
      "Imputing row 201/3945 with 2 missing, elapsed time: 5.065\n",
      "Imputing row 301/3945 with 2 missing, elapsed time: 5.076\n",
      "Imputing row 401/3945 with 2 missing, elapsed time: 5.088\n",
      "Imputing row 501/3945 with 2 missing, elapsed time: 5.100\n",
      "Imputing row 601/3945 with 2 missing, elapsed time: 5.111\n",
      "Imputing row 701/3945 with 2 missing, elapsed time: 5.122\n",
      "Imputing row 801/3945 with 2 missing, elapsed time: 5.133\n",
      "Imputing row 901/3945 with 2 missing, elapsed time: 5.144\n",
      "Imputing row 1001/3945 with 2 missing, elapsed time: 5.155\n",
      "Imputing row 1101/3945 with 2 missing, elapsed time: 5.166\n",
      "Imputing row 1201/3945 with 2 missing, elapsed time: 5.178\n",
      "Imputing row 1301/3945 with 2 missing, elapsed time: 5.189\n",
      "Imputing row 1401/3945 with 2 missing, elapsed time: 5.200\n",
      "Imputing row 1501/3945 with 2 missing, elapsed time: 5.211\n",
      "Imputing row 1601/3945 with 1 missing, elapsed time: 5.221\n",
      "Imputing row 1701/3945 with 1 missing, elapsed time: 5.227\n",
      "Imputing row 1801/3945 with 1 missing, elapsed time: 5.233\n",
      "Imputing row 1901/3945 with 1 missing, elapsed time: 5.239\n",
      "Imputing row 2001/3945 with 1 missing, elapsed time: 5.245\n",
      "Imputing row 2101/3945 with 1 missing, elapsed time: 5.252\n",
      "Imputing row 2201/3945 with 1 missing, elapsed time: 5.259\n",
      "Imputing row 2301/3945 with 1 missing, elapsed time: 5.265\n",
      "Imputing row 2401/3945 with 2 missing, elapsed time: 5.273\n",
      "Imputing row 2501/3945 with 2 missing, elapsed time: 5.284\n",
      "Imputing row 2601/3945 with 2 missing, elapsed time: 5.295\n",
      "Imputing row 2701/3945 with 2 missing, elapsed time: 5.306\n",
      "Imputing row 2801/3945 with 2 missing, elapsed time: 5.317\n",
      "Imputing row 2901/3945 with 2 missing, elapsed time: 5.328\n",
      "Imputing row 3001/3945 with 2 missing, elapsed time: 5.339\n",
      "Imputing row 3101/3945 with 2 missing, elapsed time: 5.350\n",
      "Imputing row 3201/3945 with 0 missing, elapsed time: 5.355\n",
      "Imputing row 3301/3945 with 0 missing, elapsed time: 5.356\n",
      "Imputing row 3401/3945 with 0 missing, elapsed time: 5.356\n",
      "Imputing row 3501/3945 with 0 missing, elapsed time: 5.357\n",
      "Imputing row 3601/3945 with 0 missing, elapsed time: 5.357\n",
      "Imputing row 3701/3945 with 0 missing, elapsed time: 5.358\n",
      "Imputing row 3801/3945 with 0 missing, elapsed time: 5.358\n",
      "Imputing row 3901/3945 with 0 missing, elapsed time: 5.359\n"
     ]
    }
   ],
   "source": [
    "#Convert dataframe to matrix\n",
    "X2=X2.as_matrix()\n",
    "\n",
    "#Imput missing values from three closest observations\n",
    "X2_imputed=KNN(k=3).complete(X2)\n",
    "X2=pd.DataFrame(X2_imputed)"
   ]
  },
  {
   "cell_type": "code",
   "execution_count": 36,
   "metadata": {},
   "outputs": [
    {
     "data": {
      "text/html": [
       "<div>\n",
       "<table border=\"1\" class=\"dataframe\">\n",
       "  <thead>\n",
       "    <tr style=\"text-align: right;\">\n",
       "      <th></th>\n",
       "      <th>chrom</th>\n",
       "      <th>start</th>\n",
       "      <th>end</th>\n",
       "      <th>Size</th>\n",
       "      <th>refN_cnt</th>\n",
       "      <th>refN_pct</th>\n",
       "      <th>segdup_cnt</th>\n",
       "      <th>segdup_pct</th>\n",
       "      <th>tandemrep_cnt</th>\n",
       "      <th>tandemrep_pct</th>\n",
       "      <th>...</th>\n",
       "      <th>Ill300x.amb_reason_orientation_orientation</th>\n",
       "      <th>Ill300x.amb_reason_same_scores</th>\n",
       "      <th>Ill300x.ref_alnScore_mean</th>\n",
       "      <th>Ill300x.ref_alnScore_std</th>\n",
       "      <th>Ill300x.ref_count</th>\n",
       "      <th>Ill300x.ref_insertSize_mean</th>\n",
       "      <th>Ill300x.ref_insertSize_std</th>\n",
       "      <th>Ill300x.ref_reason_alignmentScore</th>\n",
       "      <th>Ill300x.ref_reason_insertSizeScore</th>\n",
       "      <th>Ill300x.ref_reason_orientation</th>\n",
       "    </tr>\n",
       "  </thead>\n",
       "  <tbody>\n",
       "    <tr>\n",
       "      <th>0</th>\n",
       "      <td>1.0</td>\n",
       "      <td>37568322.0</td>\n",
       "      <td>37568587.0</td>\n",
       "      <td>-115.0</td>\n",
       "      <td>0.0</td>\n",
       "      <td>0.0</td>\n",
       "      <td>0.0</td>\n",
       "      <td>0.000000</td>\n",
       "      <td>3.0</td>\n",
       "      <td>0.818868</td>\n",
       "      <td>...</td>\n",
       "      <td>8.0</td>\n",
       "      <td>12.0</td>\n",
       "      <td>569.127329</td>\n",
       "      <td>22.032287</td>\n",
       "      <td>322.0</td>\n",
       "      <td>562.838509</td>\n",
       "      <td>148.982654</td>\n",
       "      <td>275.0</td>\n",
       "      <td>0.0</td>\n",
       "      <td>47.0</td>\n",
       "    </tr>\n",
       "    <tr>\n",
       "      <th>1</th>\n",
       "      <td>1.0</td>\n",
       "      <td>112835104.0</td>\n",
       "      <td>112837661.0</td>\n",
       "      <td>-2534.0</td>\n",
       "      <td>0.0</td>\n",
       "      <td>0.0</td>\n",
       "      <td>1.0</td>\n",
       "      <td>0.890888</td>\n",
       "      <td>6.0</td>\n",
       "      <td>0.460305</td>\n",
       "      <td>...</td>\n",
       "      <td>4.0</td>\n",
       "      <td>0.0</td>\n",
       "      <td>571.368421</td>\n",
       "      <td>10.032634</td>\n",
       "      <td>19.0</td>\n",
       "      <td>560.157895</td>\n",
       "      <td>171.810564</td>\n",
       "      <td>19.0</td>\n",
       "      <td>0.0</td>\n",
       "      <td>0.0</td>\n",
       "    </tr>\n",
       "    <tr>\n",
       "      <th>2</th>\n",
       "      <td>1.0</td>\n",
       "      <td>1092675.0</td>\n",
       "      <td>1092715.0</td>\n",
       "      <td>-40.0</td>\n",
       "      <td>0.0</td>\n",
       "      <td>0.0</td>\n",
       "      <td>0.0</td>\n",
       "      <td>0.000000</td>\n",
       "      <td>1.0</td>\n",
       "      <td>1.000000</td>\n",
       "      <td>...</td>\n",
       "      <td>4.0</td>\n",
       "      <td>37.0</td>\n",
       "      <td>578.640000</td>\n",
       "      <td>18.044124</td>\n",
       "      <td>25.0</td>\n",
       "      <td>571.640000</td>\n",
       "      <td>148.029965</td>\n",
       "      <td>25.0</td>\n",
       "      <td>0.0</td>\n",
       "      <td>0.0</td>\n",
       "    </tr>\n",
       "  </tbody>\n",
       "</table>\n",
       "<p>3 rows × 43 columns</p>\n",
       "</div>"
      ],
      "text/plain": [
       "   chrom        start          end    Size  refN_cnt  refN_pct  segdup_cnt  \\\n",
       "0    1.0   37568322.0   37568587.0  -115.0       0.0       0.0         0.0   \n",
       "1    1.0  112835104.0  112837661.0 -2534.0       0.0       0.0         1.0   \n",
       "2    1.0    1092675.0    1092715.0   -40.0       0.0       0.0         0.0   \n",
       "\n",
       "   segdup_pct  tandemrep_cnt  tandemrep_pct               ...                \\\n",
       "0    0.000000            3.0       0.818868               ...                 \n",
       "1    0.890888            6.0       0.460305               ...                 \n",
       "2    0.000000            1.0       1.000000               ...                 \n",
       "\n",
       "   Ill300x.amb_reason_orientation_orientation  Ill300x.amb_reason_same_scores  \\\n",
       "0                                         8.0                            12.0   \n",
       "1                                         4.0                             0.0   \n",
       "2                                         4.0                            37.0   \n",
       "\n",
       "   Ill300x.ref_alnScore_mean  Ill300x.ref_alnScore_std  Ill300x.ref_count  \\\n",
       "0                 569.127329                 22.032287              322.0   \n",
       "1                 571.368421                 10.032634               19.0   \n",
       "2                 578.640000                 18.044124               25.0   \n",
       "\n",
       "   Ill300x.ref_insertSize_mean  Ill300x.ref_insertSize_std  \\\n",
       "0                   562.838509                  148.982654   \n",
       "1                   560.157895                  171.810564   \n",
       "2                   571.640000                  148.029965   \n",
       "\n",
       "   Ill300x.ref_reason_alignmentScore  Ill300x.ref_reason_insertSizeScore  \\\n",
       "0                              275.0                                 0.0   \n",
       "1                               19.0                                 0.0   \n",
       "2                               25.0                                 0.0   \n",
       "\n",
       "   Ill300x.ref_reason_orientation  \n",
       "0                            47.0  \n",
       "1                             0.0  \n",
       "2                             0.0  \n",
       "\n",
       "[3 rows x 43 columns]"
      ]
     },
     "execution_count": 36,
     "metadata": {},
     "output_type": "execute_result"
    }
   ],
   "source": [
    "dftest_header = list(df_test.columns.values)\n",
    "X2.columns = dftest_header\n",
    "X2.head(3)"
   ]
  },
  {
   "cell_type": "code",
   "execution_count": 37,
   "metadata": {},
   "outputs": [
    {
     "data": {
      "text/html": [
       "<div>\n",
       "<table border=\"1\" class=\"dataframe\">\n",
       "  <thead>\n",
       "    <tr style=\"text-align: right;\">\n",
       "      <th></th>\n",
       "      <th>chrom</th>\n",
       "      <th>start</th>\n",
       "      <th>end</th>\n",
       "      <th>Size</th>\n",
       "      <th>refN_cnt</th>\n",
       "      <th>refN_pct</th>\n",
       "      <th>segdup_cnt</th>\n",
       "      <th>segdup_pct</th>\n",
       "      <th>tandemrep_cnt</th>\n",
       "      <th>tandemrep_pct</th>\n",
       "      <th>...</th>\n",
       "      <th>Ill300x.amb_reason_orientation_orientation</th>\n",
       "      <th>Ill300x.amb_reason_same_scores</th>\n",
       "      <th>Ill300x.ref_alnScore_mean</th>\n",
       "      <th>Ill300x.ref_alnScore_std</th>\n",
       "      <th>Ill300x.ref_count</th>\n",
       "      <th>Ill300x.ref_insertSize_mean</th>\n",
       "      <th>Ill300x.ref_insertSize_std</th>\n",
       "      <th>Ill300x.ref_reason_alignmentScore</th>\n",
       "      <th>Ill300x.ref_reason_insertSizeScore</th>\n",
       "      <th>Ill300x.ref_reason_orientation</th>\n",
       "    </tr>\n",
       "  </thead>\n",
       "  <tbody>\n",
       "    <tr>\n",
       "      <th>0</th>\n",
       "      <td>1.0</td>\n",
       "      <td>37568322.0</td>\n",
       "      <td>37568587.0</td>\n",
       "      <td>-115.0</td>\n",
       "      <td>0.0</td>\n",
       "      <td>0.0</td>\n",
       "      <td>0.0</td>\n",
       "      <td>0.000000</td>\n",
       "      <td>3.0</td>\n",
       "      <td>0.818868</td>\n",
       "      <td>...</td>\n",
       "      <td>8.0</td>\n",
       "      <td>12.0</td>\n",
       "      <td>569.127329</td>\n",
       "      <td>22.032287</td>\n",
       "      <td>322.0</td>\n",
       "      <td>562.838509</td>\n",
       "      <td>148.982654</td>\n",
       "      <td>275.0</td>\n",
       "      <td>0.0</td>\n",
       "      <td>47.0</td>\n",
       "    </tr>\n",
       "    <tr>\n",
       "      <th>1</th>\n",
       "      <td>1.0</td>\n",
       "      <td>112835104.0</td>\n",
       "      <td>112837661.0</td>\n",
       "      <td>-2534.0</td>\n",
       "      <td>0.0</td>\n",
       "      <td>0.0</td>\n",
       "      <td>1.0</td>\n",
       "      <td>0.890888</td>\n",
       "      <td>6.0</td>\n",
       "      <td>0.460305</td>\n",
       "      <td>...</td>\n",
       "      <td>4.0</td>\n",
       "      <td>0.0</td>\n",
       "      <td>571.368421</td>\n",
       "      <td>10.032634</td>\n",
       "      <td>19.0</td>\n",
       "      <td>560.157895</td>\n",
       "      <td>171.810564</td>\n",
       "      <td>19.0</td>\n",
       "      <td>0.0</td>\n",
       "      <td>0.0</td>\n",
       "    </tr>\n",
       "    <tr>\n",
       "      <th>2</th>\n",
       "      <td>1.0</td>\n",
       "      <td>1092675.0</td>\n",
       "      <td>1092715.0</td>\n",
       "      <td>-40.0</td>\n",
       "      <td>0.0</td>\n",
       "      <td>0.0</td>\n",
       "      <td>0.0</td>\n",
       "      <td>0.000000</td>\n",
       "      <td>1.0</td>\n",
       "      <td>1.000000</td>\n",
       "      <td>...</td>\n",
       "      <td>4.0</td>\n",
       "      <td>37.0</td>\n",
       "      <td>578.640000</td>\n",
       "      <td>18.044124</td>\n",
       "      <td>25.0</td>\n",
       "      <td>571.640000</td>\n",
       "      <td>148.029965</td>\n",
       "      <td>25.0</td>\n",
       "      <td>0.0</td>\n",
       "      <td>0.0</td>\n",
       "    </tr>\n",
       "  </tbody>\n",
       "</table>\n",
       "<p>3 rows × 43 columns</p>\n",
       "</div>"
      ],
      "text/plain": [
       "   chrom        start          end    Size  refN_cnt  refN_pct  segdup_cnt  \\\n",
       "0    1.0   37568322.0   37568587.0  -115.0       0.0       0.0         0.0   \n",
       "1    1.0  112835104.0  112837661.0 -2534.0       0.0       0.0         1.0   \n",
       "2    1.0    1092675.0    1092715.0   -40.0       0.0       0.0         0.0   \n",
       "\n",
       "   segdup_pct  tandemrep_cnt  tandemrep_pct               ...                \\\n",
       "0    0.000000            3.0       0.818868               ...                 \n",
       "1    0.890888            6.0       0.460305               ...                 \n",
       "2    0.000000            1.0       1.000000               ...                 \n",
       "\n",
       "   Ill300x.amb_reason_orientation_orientation  Ill300x.amb_reason_same_scores  \\\n",
       "0                                         8.0                            12.0   \n",
       "1                                         4.0                             0.0   \n",
       "2                                         4.0                            37.0   \n",
       "\n",
       "   Ill300x.ref_alnScore_mean  Ill300x.ref_alnScore_std  Ill300x.ref_count  \\\n",
       "0                 569.127329                 22.032287              322.0   \n",
       "1                 571.368421                 10.032634               19.0   \n",
       "2                 578.640000                 18.044124               25.0   \n",
       "\n",
       "   Ill300x.ref_insertSize_mean  Ill300x.ref_insertSize_std  \\\n",
       "0                   562.838509                  148.982654   \n",
       "1                   560.157895                  171.810564   \n",
       "2                   571.640000                  148.029965   \n",
       "\n",
       "   Ill300x.ref_reason_alignmentScore  Ill300x.ref_reason_insertSizeScore  \\\n",
       "0                              275.0                                 0.0   \n",
       "1                               19.0                                 0.0   \n",
       "2                               25.0                                 0.0   \n",
       "\n",
       "   Ill300x.ref_reason_orientation  \n",
       "0                            47.0  \n",
       "1                             0.0  \n",
       "2                             0.0  \n",
       "\n",
       "[3 rows x 43 columns]"
      ]
     },
     "execution_count": 37,
     "metadata": {},
     "output_type": "execute_result"
    }
   ],
   "source": [
    "X3 = pd.DataFrame()\n",
    "X3 = X2\n",
    "X3.head(3)"
   ]
  },
  {
   "cell_type": "code",
   "execution_count": 38,
   "metadata": {
    "collapsed": true
   },
   "outputs": [],
   "source": [
    "# Order features\n",
    "X5 = X2.reindex_axis(sorted(X2.columns), axis=1)"
   ]
  },
  {
   "cell_type": "markdown",
   "metadata": {},
   "source": [
    "<a id='prediction_step'></a>"
   ]
  },
  {
   "cell_type": "code",
   "execution_count": 39,
   "metadata": {
    "collapsed": true
   },
   "outputs": [],
   "source": [
    "pred = model.predict(X5)"
   ]
  },
  {
   "cell_type": "code",
   "execution_count": 40,
   "metadata": {
    "collapsed": true
   },
   "outputs": [],
   "source": [
    "pred_prob = model.predict_proba(X5)"
   ]
  },
  {
   "cell_type": "code",
   "execution_count": 41,
   "metadata": {
    "collapsed": true
   },
   "outputs": [],
   "source": [
    "X5['predicted_label'] = pred\n",
    "X5['chrom'] = df_test_2['chrom']\n",
    "X5['start'] = df_test_2['start']\n",
    "X5['end'] = df_test_2['end']\n",
    "X5['Size'] = df_test_2['Size']\n",
    "X5['GTcons'] = df_test_2['GTcons']\n",
    "X5['GTsupp'] = df_test_2['GTsupp']\n",
    "X5['GTconswithoutIll300x.GT'] = df_test_2['GTconswithoutIll300x.GT']"
   ]
  },
  {
   "cell_type": "code",
   "execution_count": 42,
   "metadata": {
    "collapsed": true
   },
   "outputs": [],
   "source": [
    "X6 = pd.concat([X5, pd.DataFrame(pred_prob, columns=['1','2','3'])])"
   ]
  },
  {
   "cell_type": "code",
   "execution_count": null,
   "metadata": {
    "collapsed": true
   },
   "outputs": [],
   "source": [
    "X6.to_csv('/Volumes/lesleydata/SVanalyzer_ML/Oct122017_Revised_R/summary_plots/data/preliminary_df/300x_pred_prob_DEL_SVanalyzer_revised_EMHRIC.csv', index=False)"
   ]
  },
  {
   "cell_type": "code",
   "execution_count": null,
   "metadata": {
    "collapsed": true
   },
   "outputs": [],
   "source": [
    "#Note: Reformat X6 csv"
   ]
  },
  {
   "cell_type": "code",
   "execution_count": 43,
   "metadata": {
    "collapsed": true
   },
   "outputs": [],
   "source": [
    "X6 = pd.read_csv('/Volumes/lesleydata/SVanalyzer_ML/Oct122017_Revised_R/summary_plots/data/preliminary_df/300x_pred_prob_DEL_SVanalyzer_revised_EMHRIC.csv')"
   ]
  },
  {
   "cell_type": "code",
   "execution_count": 44,
   "metadata": {
    "collapsed": true
   },
   "outputs": [],
   "source": [
    "X6.rename(columns={'1': 'Homozygous_Reference_SVan_predprob_300X'}, inplace=True)\n",
    "X6.rename(columns={'2': 'Exact_Match_predprob_300X'}, inplace=True)\n",
    "X6.rename(columns={'3': 'Inaccurate_Call_predprob_300X'}, inplace=True)\n",
    "X6.rename(columns={'predicted_label': '300x_predicted_EMHRIC_label'}, inplace=True)"
   ]
  },
  {
   "cell_type": "code",
   "execution_count": null,
   "metadata": {
    "collapsed": true
   },
   "outputs": [],
   "source": [
    "X6.head(3)"
   ]
  },
  {
   "cell_type": "code",
   "execution_count": null,
   "metadata": {
    "collapsed": true
   },
   "outputs": [],
   "source": [
    "X6.to_csv('/Volumes/lesleydata/SVanalyzer_ML/Oct122017_Revised_R/summary_plots/data/300x_final_df_DEL_SVanalyzer_revised_EMHRIC.csv', index=False)"
   ]
  },
  {
   "cell_type": "markdown",
   "metadata": {},
   "source": [
    "***\n",
    "Label Analysis\n",
    "***"
   ]
  },
  {
   "cell_type": "markdown",
   "metadata": {},
   "source": [
    "Description:\n",
    "  * Comparison of model predicted labels [Exact Match, Homozygous Reference, Inaccurate Calls] to consensus genotype for the 5000 randomly selected datapoints from union_refalt.vcf for HG002 only"
   ]
  },
  {
   "cell_type": "code",
   "execution_count": 45,
   "metadata": {},
   "outputs": [
    {
     "name": "stdout",
     "output_type": "stream",
     "text": [
      "[[ 530   10  331]\n",
      " [  11 1926  225]\n",
      " [   2  861   49]]\n"
     ]
    }
   ],
   "source": [
    "from sklearn.metrics import confusion_matrix\n",
    "consensus_GT = X6['GTcons']\n",
    "predict = X6['300x_predicted_EMHRIC_label']\n",
    "print(confusion_matrix(consensus_GT, predict))"
   ]
  },
  {
   "cell_type": "code",
   "execution_count": 46,
   "metadata": {},
   "outputs": [
    {
     "name": "stdout",
     "output_type": "stream",
     "text": [
      "[[ 530   10  331]\n",
      " [  11 1926  225]\n",
      " [   2  861   49]]\n"
     ]
    }
   ],
   "source": [
    "from sklearn.metrics import confusion_matrix\n",
    "GT_without_XX = X6['GTconswithoutIll300x.GT']\n",
    "predict = X6['300x_predicted_EMHRIC_label']\n",
    "print(confusion_matrix(consensus_GT, predict))"
   ]
  },
  {
   "cell_type": "code",
   "execution_count": 47,
   "metadata": {},
   "outputs": [
    {
     "data": {
      "text/plain": [
       "0     871\n",
       "2     912\n",
       "1    2162\n",
       "dtype: int64"
      ]
     },
     "execution_count": 47,
     "metadata": {},
     "output_type": "execute_result"
    }
   ],
   "source": [
    "pd.value_counts(X6['GTconswithoutIll300x.GT'].values, sort=False)"
   ]
  },
  {
   "cell_type": "code",
   "execution_count": 48,
   "metadata": {},
   "outputs": [
    {
     "data": {
      "text/plain": [
       "0     871\n",
       "2     912\n",
       "1    2162\n",
       "dtype: int64"
      ]
     },
     "execution_count": 48,
     "metadata": {},
     "output_type": "execute_result"
    }
   ],
   "source": [
    "pd.value_counts(X6['GTcons'].values, sort=False)"
   ]
  },
  {
   "cell_type": "code",
   "execution_count": 49,
   "metadata": {
    "collapsed": true
   },
   "outputs": [],
   "source": [
    "X6['GTcons'].replace(-1, 'Unknown', inplace=True)\n",
    "X6['GTcons'].replace(0, 'Homozygous_Reference', inplace=True)\n",
    "X6['GTcons'].replace(1, 'Heterozygous_Variant', inplace=True)\n",
    "X6['GTcons'].replace(2, 'Homozygous_Variant', inplace=True)\n",
    "X6['300x_predicted_EMHRIC_label'].replace(0.0, 'Homozygous_Reference_SVan', inplace=True)\n",
    "X6['300x_predicted_EMHRIC_label'].replace(1.0, 'Exact_Match', inplace=True)\n",
    "X6['300x_predicted_EMHRIC_label'].replace(2.0, 'Inaccurate_Call', inplace=True)"
   ]
  },
  {
   "cell_type": "code",
   "execution_count": 50,
   "metadata": {
    "collapsed": true
   },
   "outputs": [],
   "source": [
    "X6['GTconswithoutIll300x.GT'].replace(-1, 'Unknown', inplace=True)\n",
    "X6['GTconswithoutIll300x.GT'].replace(0, 'Homozygous_Reference', inplace=True)\n",
    "X6['GTconswithoutIll300x.GT'].replace(1, 'Heterozygous_Variant', inplace=True)\n",
    "X6['GTconswithoutIll300x.GT'].replace(2, 'Homozygous_Variant', inplace=True)"
   ]
  },
  {
   "cell_type": "markdown",
   "metadata": {},
   "source": [
    "<a id='svan_gtcons'></a>"
   ]
  },
  {
   "cell_type": "markdown",
   "metadata": {},
   "source": [
    "** Compare SVanalyzer Labels to GTcons **"
   ]
  },
  {
   "cell_type": "code",
   "execution_count": 51,
   "metadata": {},
   "outputs": [
    {
     "data": {
      "text/html": [
       "<div>\n",
       "<table border=\"1\" class=\"dataframe\">\n",
       "  <thead>\n",
       "    <tr style=\"text-align: right;\">\n",
       "      <th>SVanalyzer_Label</th>\n",
       "      <th>Exact_Match</th>\n",
       "      <th>Homozygous_Reference_SVan</th>\n",
       "      <th>Inaccurate_Call</th>\n",
       "      <th>All</th>\n",
       "    </tr>\n",
       "    <tr>\n",
       "      <th>GTcons</th>\n",
       "      <th></th>\n",
       "      <th></th>\n",
       "      <th></th>\n",
       "      <th></th>\n",
       "    </tr>\n",
       "  </thead>\n",
       "  <tbody>\n",
       "    <tr>\n",
       "      <th>Heterozygous_Variant</th>\n",
       "      <td>1926</td>\n",
       "      <td>11</td>\n",
       "      <td>225</td>\n",
       "      <td>2162</td>\n",
       "    </tr>\n",
       "    <tr>\n",
       "      <th>Homozygous_Reference</th>\n",
       "      <td>10</td>\n",
       "      <td>530</td>\n",
       "      <td>331</td>\n",
       "      <td>871</td>\n",
       "    </tr>\n",
       "    <tr>\n",
       "      <th>Homozygous_Variant</th>\n",
       "      <td>861</td>\n",
       "      <td>2</td>\n",
       "      <td>49</td>\n",
       "      <td>912</td>\n",
       "    </tr>\n",
       "    <tr>\n",
       "      <th>All</th>\n",
       "      <td>2797</td>\n",
       "      <td>543</td>\n",
       "      <td>605</td>\n",
       "      <td>3945</td>\n",
       "    </tr>\n",
       "  </tbody>\n",
       "</table>\n",
       "</div>"
      ],
      "text/plain": [
       "SVanalyzer_Label      Exact_Match  Homozygous_Reference_SVan  Inaccurate_Call  \\\n",
       "GTcons                                                                          \n",
       "Heterozygous_Variant         1926                         11              225   \n",
       "Homozygous_Reference           10                        530              331   \n",
       "Homozygous_Variant            861                          2               49   \n",
       "All                          2797                        543              605   \n",
       "\n",
       "SVanalyzer_Label       All  \n",
       "GTcons                      \n",
       "Heterozygous_Variant  2162  \n",
       "Homozygous_Reference   871  \n",
       "Homozygous_Variant     912  \n",
       "All                   3945  "
      ]
     },
     "execution_count": 51,
     "metadata": {},
     "output_type": "execute_result"
    }
   ],
   "source": [
    "pd.crosstab(consensus_GT, predict, rownames=['GTcons'], colnames=['SVanalyzer_Label'], margins=True)"
   ]
  },
  {
   "cell_type": "markdown",
   "metadata": {},
   "source": [
    "** Compare SVanalyzer Labels to LOO Consensus GT**"
   ]
  },
  {
   "cell_type": "code",
   "execution_count": 52,
   "metadata": {},
   "outputs": [
    {
     "data": {
      "text/html": [
       "<div>\n",
       "<table border=\"1\" class=\"dataframe\">\n",
       "  <thead>\n",
       "    <tr style=\"text-align: right;\">\n",
       "      <th>SVanalyzer_Label</th>\n",
       "      <th>Exact_Match</th>\n",
       "      <th>Homozygous_Reference_SVan</th>\n",
       "      <th>Inaccurate_Call</th>\n",
       "      <th>All</th>\n",
       "    </tr>\n",
       "    <tr>\n",
       "      <th>LOO_GT</th>\n",
       "      <th></th>\n",
       "      <th></th>\n",
       "      <th></th>\n",
       "      <th></th>\n",
       "    </tr>\n",
       "  </thead>\n",
       "  <tbody>\n",
       "    <tr>\n",
       "      <th>Heterozygous_Variant</th>\n",
       "      <td>1926</td>\n",
       "      <td>11</td>\n",
       "      <td>225</td>\n",
       "      <td>2162</td>\n",
       "    </tr>\n",
       "    <tr>\n",
       "      <th>Homozygous_Reference</th>\n",
       "      <td>10</td>\n",
       "      <td>530</td>\n",
       "      <td>331</td>\n",
       "      <td>871</td>\n",
       "    </tr>\n",
       "    <tr>\n",
       "      <th>Homozygous_Variant</th>\n",
       "      <td>861</td>\n",
       "      <td>2</td>\n",
       "      <td>49</td>\n",
       "      <td>912</td>\n",
       "    </tr>\n",
       "    <tr>\n",
       "      <th>All</th>\n",
       "      <td>2797</td>\n",
       "      <td>543</td>\n",
       "      <td>605</td>\n",
       "      <td>3945</td>\n",
       "    </tr>\n",
       "  </tbody>\n",
       "</table>\n",
       "</div>"
      ],
      "text/plain": [
       "SVanalyzer_Label      Exact_Match  Homozygous_Reference_SVan  Inaccurate_Call  \\\n",
       "LOO_GT                                                                          \n",
       "Heterozygous_Variant         1926                         11              225   \n",
       "Homozygous_Reference           10                        530              331   \n",
       "Homozygous_Variant            861                          2               49   \n",
       "All                          2797                        543              605   \n",
       "\n",
       "SVanalyzer_Label       All  \n",
       "LOO_GT                      \n",
       "Heterozygous_Variant  2162  \n",
       "Homozygous_Reference   871  \n",
       "Homozygous_Variant     912  \n",
       "All                   3945  "
      ]
     },
     "execution_count": 52,
     "metadata": {},
     "output_type": "execute_result"
    }
   ],
   "source": [
    "pd.crosstab(GT_without_XX, predict, rownames=['LOO_GT'], colnames=['SVanalyzer_Label'], margins=True)"
   ]
  },
  {
   "cell_type": "markdown",
   "metadata": {},
   "source": [
    "** High Confidence Label Analysis**\n",
    "* **Reminder:** The labels predicted by the model are the following svanalyzer labels:\n",
    "    * Homozygous Reference: 0 \n",
    "    * Exact Match: 1 \n",
    "    * Inaccurate Call: 2 \n",
    "* Here **high confidence labels** are the labels predicted by the model that were also assigned a predict probability of either 0.9 or 1\n",
    "* The following is an analysis of predicted svanalyzer labels with predict probability >0.9"
   ]
  },
  {
   "cell_type": "code",
   "execution_count": 53,
   "metadata": {
    "collapsed": true
   },
   "outputs": [],
   "source": [
    "high_conf_labels = X6[(X6['Homozygous_Reference_SVan_predprob_300X'] == 1) | (X6['Homozygous_Reference_SVan_predprob_300X'] == 0.9) | (X6['Exact_Match_predprob_300X'] == 1) | (X6['Exact_Match_predprob_300X'] == 0.9) | (X6['Inaccurate_Call_predprob_300X'] == 1) | (X6['Inaccurate_Call_predprob_300X'] == 0.9)]"
   ]
  },
  {
   "cell_type": "markdown",
   "metadata": {},
   "source": [
    "** Compare SVanalyzer Labels to GTcons **"
   ]
  },
  {
   "cell_type": "code",
   "execution_count": 54,
   "metadata": {
    "scrolled": true
   },
   "outputs": [
    {
     "data": {
      "text/html": [
       "<div>\n",
       "<table border=\"1\" class=\"dataframe\">\n",
       "  <thead>\n",
       "    <tr style=\"text-align: right;\">\n",
       "      <th>SVanalyzer_Labels</th>\n",
       "      <th>Exact_Match</th>\n",
       "      <th>Homozygous_Reference_SVan</th>\n",
       "      <th>Inaccurate_Call</th>\n",
       "      <th>All</th>\n",
       "    </tr>\n",
       "    <tr>\n",
       "      <th>Consensus_GT</th>\n",
       "      <th></th>\n",
       "      <th></th>\n",
       "      <th></th>\n",
       "      <th></th>\n",
       "    </tr>\n",
       "  </thead>\n",
       "  <tbody>\n",
       "    <tr>\n",
       "      <th>Heterozygous_Variant</th>\n",
       "      <td>1154</td>\n",
       "      <td>1</td>\n",
       "      <td>37</td>\n",
       "      <td>1192</td>\n",
       "    </tr>\n",
       "    <tr>\n",
       "      <th>Homozygous_Reference</th>\n",
       "      <td>0</td>\n",
       "      <td>182</td>\n",
       "      <td>52</td>\n",
       "      <td>234</td>\n",
       "    </tr>\n",
       "    <tr>\n",
       "      <th>Homozygous_Variant</th>\n",
       "      <td>584</td>\n",
       "      <td>0</td>\n",
       "      <td>4</td>\n",
       "      <td>588</td>\n",
       "    </tr>\n",
       "    <tr>\n",
       "      <th>All</th>\n",
       "      <td>1738</td>\n",
       "      <td>183</td>\n",
       "      <td>93</td>\n",
       "      <td>2014</td>\n",
       "    </tr>\n",
       "  </tbody>\n",
       "</table>\n",
       "</div>"
      ],
      "text/plain": [
       "SVanalyzer_Labels     Exact_Match  Homozygous_Reference_SVan  Inaccurate_Call  \\\n",
       "Consensus_GT                                                                    \n",
       "Heterozygous_Variant         1154                          1               37   \n",
       "Homozygous_Reference            0                        182               52   \n",
       "Homozygous_Variant            584                          0                4   \n",
       "All                          1738                        183               93   \n",
       "\n",
       "SVanalyzer_Labels      All  \n",
       "Consensus_GT                \n",
       "Heterozygous_Variant  1192  \n",
       "Homozygous_Reference   234  \n",
       "Homozygous_Variant     588  \n",
       "All                   2014  "
      ]
     },
     "execution_count": 54,
     "metadata": {},
     "output_type": "execute_result"
    }
   ],
   "source": [
    "consensus_GT = high_conf_labels['GTcons']\n",
    "predict = high_conf_labels['300x_predicted_EMHRIC_label']\n",
    "pd.crosstab(consensus_GT, predict, rownames=['Consensus_GT'], colnames=['SVanalyzer_Labels'], margins=True)"
   ]
  },
  {
   "cell_type": "markdown",
   "metadata": {},
   "source": [
    "** Compare SVanalyzer Labels to LOO Genotype **"
   ]
  },
  {
   "cell_type": "code",
   "execution_count": 55,
   "metadata": {
    "scrolled": true
   },
   "outputs": [
    {
     "data": {
      "text/html": [
       "<div>\n",
       "<table border=\"1\" class=\"dataframe\">\n",
       "  <thead>\n",
       "    <tr style=\"text-align: right;\">\n",
       "      <th>SVanalyzer_Labels</th>\n",
       "      <th>Exact_Match</th>\n",
       "      <th>Homozygous_Reference_SVan</th>\n",
       "      <th>Inaccurate_Call</th>\n",
       "      <th>All</th>\n",
       "    </tr>\n",
       "    <tr>\n",
       "      <th>Consensus_GT</th>\n",
       "      <th></th>\n",
       "      <th></th>\n",
       "      <th></th>\n",
       "      <th></th>\n",
       "    </tr>\n",
       "  </thead>\n",
       "  <tbody>\n",
       "    <tr>\n",
       "      <th>Heterozygous_Variant</th>\n",
       "      <td>1154</td>\n",
       "      <td>1</td>\n",
       "      <td>37</td>\n",
       "      <td>1192</td>\n",
       "    </tr>\n",
       "    <tr>\n",
       "      <th>Homozygous_Reference</th>\n",
       "      <td>0</td>\n",
       "      <td>182</td>\n",
       "      <td>52</td>\n",
       "      <td>234</td>\n",
       "    </tr>\n",
       "    <tr>\n",
       "      <th>Homozygous_Variant</th>\n",
       "      <td>584</td>\n",
       "      <td>0</td>\n",
       "      <td>4</td>\n",
       "      <td>588</td>\n",
       "    </tr>\n",
       "    <tr>\n",
       "      <th>All</th>\n",
       "      <td>1738</td>\n",
       "      <td>183</td>\n",
       "      <td>93</td>\n",
       "      <td>2014</td>\n",
       "    </tr>\n",
       "  </tbody>\n",
       "</table>\n",
       "</div>"
      ],
      "text/plain": [
       "SVanalyzer_Labels     Exact_Match  Homozygous_Reference_SVan  Inaccurate_Call  \\\n",
       "Consensus_GT                                                                    \n",
       "Heterozygous_Variant         1154                          1               37   \n",
       "Homozygous_Reference            0                        182               52   \n",
       "Homozygous_Variant            584                          0                4   \n",
       "All                          1738                        183               93   \n",
       "\n",
       "SVanalyzer_Labels      All  \n",
       "Consensus_GT                \n",
       "Heterozygous_Variant  1192  \n",
       "Homozygous_Reference   234  \n",
       "Homozygous_Variant     588  \n",
       "All                   2014  "
      ]
     },
     "execution_count": 55,
     "metadata": {},
     "output_type": "execute_result"
    }
   ],
   "source": [
    "consensus_GT = high_conf_labels['GTconswithoutIll300x.GT']\n",
    "predict = high_conf_labels['300x_predicted_EMHRIC_label']\n",
    "pd.crosstab(consensus_GT, predict, rownames=['Consensus_GT'], colnames=['SVanalyzer_Labels'], margins=True)"
   ]
  },
  {
   "cell_type": "markdown",
   "metadata": {},
   "source": [
    "***\n",
    "Graphs\n",
    "***"
   ]
  },
  {
   "cell_type": "markdown",
   "metadata": {},
   "source": [
    "** Exact Match **"
   ]
  },
  {
   "cell_type": "code",
   "execution_count": 56,
   "metadata": {
    "collapsed": true
   },
   "outputs": [],
   "source": [
    "em = X5['predicted_label'] == 1.0\n",
    "exact_match = X5[em]"
   ]
  },
  {
   "cell_type": "code",
   "execution_count": 57,
   "metadata": {},
   "outputs": [
    {
     "data": {
      "text/html": [
       "<div>\n",
       "<table border=\"1\" class=\"dataframe\">\n",
       "  <thead>\n",
       "    <tr style=\"text-align: right;\">\n",
       "      <th></th>\n",
       "      <th>Ill300x.GT</th>\n",
       "      <th>Ill300x.alt_alnScore_mean</th>\n",
       "      <th>Ill300x.alt_alnScore_std</th>\n",
       "      <th>Ill300x.alt_count</th>\n",
       "      <th>Ill300x.alt_insertSize_mean</th>\n",
       "      <th>Ill300x.alt_insertSize_std</th>\n",
       "      <th>Ill300x.alt_reason_alignmentScore</th>\n",
       "      <th>Ill300x.alt_reason_insertSizeScore</th>\n",
       "      <th>Ill300x.alt_reason_orientation</th>\n",
       "      <th>Ill300x.amb_alnScore_mean</th>\n",
       "      <th>...</th>\n",
       "      <th>refN_pct</th>\n",
       "      <th>segdup_cnt</th>\n",
       "      <th>segdup_pct</th>\n",
       "      <th>start</th>\n",
       "      <th>tandemrep_cnt</th>\n",
       "      <th>tandemrep_pct</th>\n",
       "      <th>predicted_label</th>\n",
       "      <th>GTcons</th>\n",
       "      <th>GTsupp</th>\n",
       "      <th>GTconswithoutIll300x.GT</th>\n",
       "    </tr>\n",
       "  </thead>\n",
       "  <tbody>\n",
       "    <tr>\n",
       "      <th>1</th>\n",
       "      <td>-1.0</td>\n",
       "      <td>578.830588</td>\n",
       "      <td>17.238521</td>\n",
       "      <td>425.0</td>\n",
       "      <td>670.637647</td>\n",
       "      <td>151.902478</td>\n",
       "      <td>67.0</td>\n",
       "      <td>358.0</td>\n",
       "      <td>0.0</td>\n",
       "      <td>530.886342</td>\n",
       "      <td>...</td>\n",
       "      <td>0.0</td>\n",
       "      <td>1.0</td>\n",
       "      <td>0.890888</td>\n",
       "      <td>112835104</td>\n",
       "      <td>6.0</td>\n",
       "      <td>0.460305</td>\n",
       "      <td>1.0</td>\n",
       "      <td>2</td>\n",
       "      <td>1</td>\n",
       "      <td>2</td>\n",
       "    </tr>\n",
       "  </tbody>\n",
       "</table>\n",
       "<p>1 rows × 47 columns</p>\n",
       "</div>"
      ],
      "text/plain": [
       "   Ill300x.GT  Ill300x.alt_alnScore_mean  Ill300x.alt_alnScore_std  \\\n",
       "1        -1.0                 578.830588                 17.238521   \n",
       "\n",
       "   Ill300x.alt_count  Ill300x.alt_insertSize_mean  Ill300x.alt_insertSize_std  \\\n",
       "1              425.0                   670.637647                  151.902478   \n",
       "\n",
       "   Ill300x.alt_reason_alignmentScore  Ill300x.alt_reason_insertSizeScore  \\\n",
       "1                               67.0                               358.0   \n",
       "\n",
       "   Ill300x.alt_reason_orientation  Ill300x.amb_alnScore_mean  \\\n",
       "1                             0.0                 530.886342   \n",
       "\n",
       "            ...             refN_pct  segdup_cnt  segdup_pct      start  \\\n",
       "1           ...                  0.0         1.0    0.890888  112835104   \n",
       "\n",
       "   tandemrep_cnt  tandemrep_pct  predicted_label  GTcons  GTsupp  \\\n",
       "1            6.0       0.460305              1.0       2       1   \n",
       "\n",
       "   GTconswithoutIll300x.GT  \n",
       "1                        2  \n",
       "\n",
       "[1 rows x 47 columns]"
      ]
     },
     "execution_count": 57,
     "metadata": {},
     "output_type": "execute_result"
    }
   ],
   "source": [
    "exact_match.head(1)"
   ]
  },
  {
   "cell_type": "code",
   "execution_count": 58,
   "metadata": {},
   "outputs": [
    {
     "data": {
      "text/html": [
       "\n",
       "    <div class=\"bk-root\">\n",
       "        <a href=\"http://bokeh.pydata.org\" target=\"_blank\" class=\"bk-logo bk-logo-small bk-logo-notebook\"></a>\n",
       "        <span id=\"0a943434-2cac-46f1-a813-0b1a53bca742\">Loading BokehJS ...</span>\n",
       "    </div>"
      ]
     },
     "metadata": {},
     "output_type": "display_data"
    },
    {
     "data": {
      "application/javascript": [
       "\n",
       "(function(global) {\n",
       "  function now() {\n",
       "    return new Date();\n",
       "  }\n",
       "\n",
       "  var force = true;\n",
       "\n",
       "  if (typeof (window._bokeh_onload_callbacks) === \"undefined\" || force === true) {\n",
       "    window._bokeh_onload_callbacks = [];\n",
       "    window._bokeh_is_loading = undefined;\n",
       "  }\n",
       "\n",
       "\n",
       "  \n",
       "  if (typeof (window._bokeh_timeout) === \"undefined\" || force === true) {\n",
       "    window._bokeh_timeout = Date.now() + 5000;\n",
       "    window._bokeh_failed_load = false;\n",
       "  }\n",
       "\n",
       "  var NB_LOAD_WARNING = {'data': {'text/html':\n",
       "     \"<div style='background-color: #fdd'>\\n\"+\n",
       "     \"<p>\\n\"+\n",
       "     \"BokehJS does not appear to have successfully loaded. If loading BokehJS from CDN, this \\n\"+\n",
       "     \"may be due to a slow or bad network connection. Possible fixes:\\n\"+\n",
       "     \"</p>\\n\"+\n",
       "     \"<ul>\\n\"+\n",
       "     \"<li>re-rerun `output_notebook()` to attempt to load from CDN again, or</li>\\n\"+\n",
       "     \"<li>use INLINE resources instead, as so:</li>\\n\"+\n",
       "     \"</ul>\\n\"+\n",
       "     \"<code>\\n\"+\n",
       "     \"from bokeh.resources import INLINE\\n\"+\n",
       "     \"output_notebook(resources=INLINE)\\n\"+\n",
       "     \"</code>\\n\"+\n",
       "     \"</div>\"}};\n",
       "\n",
       "  function display_loaded() {\n",
       "    if (window.Bokeh !== undefined) {\n",
       "      document.getElementById(\"0a943434-2cac-46f1-a813-0b1a53bca742\").textContent = \"BokehJS successfully loaded.\";\n",
       "    } else if (Date.now() < window._bokeh_timeout) {\n",
       "      setTimeout(display_loaded, 100)\n",
       "    }\n",
       "  }\n",
       "\n",
       "  function run_callbacks() {\n",
       "    window._bokeh_onload_callbacks.forEach(function(callback) { callback() });\n",
       "    delete window._bokeh_onload_callbacks\n",
       "    console.info(\"Bokeh: all callbacks have finished\");\n",
       "  }\n",
       "\n",
       "  function load_libs(js_urls, callback) {\n",
       "    window._bokeh_onload_callbacks.push(callback);\n",
       "    if (window._bokeh_is_loading > 0) {\n",
       "      console.log(\"Bokeh: BokehJS is being loaded, scheduling callback at\", now());\n",
       "      return null;\n",
       "    }\n",
       "    if (js_urls == null || js_urls.length === 0) {\n",
       "      run_callbacks();\n",
       "      return null;\n",
       "    }\n",
       "    console.log(\"Bokeh: BokehJS not loaded, scheduling load and callback at\", now());\n",
       "    window._bokeh_is_loading = js_urls.length;\n",
       "    for (var i = 0; i < js_urls.length; i++) {\n",
       "      var url = js_urls[i];\n",
       "      var s = document.createElement('script');\n",
       "      s.src = url;\n",
       "      s.async = false;\n",
       "      s.onreadystatechange = s.onload = function() {\n",
       "        window._bokeh_is_loading--;\n",
       "        if (window._bokeh_is_loading === 0) {\n",
       "          console.log(\"Bokeh: all BokehJS libraries loaded\");\n",
       "          run_callbacks()\n",
       "        }\n",
       "      };\n",
       "      s.onerror = function() {\n",
       "        console.warn(\"failed to load library \" + url);\n",
       "      };\n",
       "      console.log(\"Bokeh: injecting script tag for BokehJS library: \", url);\n",
       "      document.getElementsByTagName(\"head\")[0].appendChild(s);\n",
       "    }\n",
       "  };var element = document.getElementById(\"0a943434-2cac-46f1-a813-0b1a53bca742\");\n",
       "  if (element == null) {\n",
       "    console.log(\"Bokeh: ERROR: autoload.js configured with elementid '0a943434-2cac-46f1-a813-0b1a53bca742' but no matching script tag was found. \")\n",
       "    return false;\n",
       "  }\n",
       "\n",
       "  var js_urls = [\"https://cdn.pydata.org/bokeh/release/bokeh-0.12.4.min.js\", \"https://cdn.pydata.org/bokeh/release/bokeh-widgets-0.12.4.min.js\"];\n",
       "\n",
       "  var inline_js = [\n",
       "    function(Bokeh) {\n",
       "      Bokeh.set_log_level(\"info\");\n",
       "    },\n",
       "    \n",
       "    function(Bokeh) {\n",
       "      \n",
       "      document.getElementById(\"0a943434-2cac-46f1-a813-0b1a53bca742\").textContent = \"BokehJS is loading...\";\n",
       "    },\n",
       "    function(Bokeh) {\n",
       "      console.log(\"Bokeh: injecting CSS: https://cdn.pydata.org/bokeh/release/bokeh-0.12.4.min.css\");\n",
       "      Bokeh.embed.inject_css(\"https://cdn.pydata.org/bokeh/release/bokeh-0.12.4.min.css\");\n",
       "      console.log(\"Bokeh: injecting CSS: https://cdn.pydata.org/bokeh/release/bokeh-widgets-0.12.4.min.css\");\n",
       "      Bokeh.embed.inject_css(\"https://cdn.pydata.org/bokeh/release/bokeh-widgets-0.12.4.min.css\");\n",
       "    }\n",
       "  ];\n",
       "\n",
       "  function run_inline_js() {\n",
       "    \n",
       "    if ((window.Bokeh !== undefined) || (force === true)) {\n",
       "      for (var i = 0; i < inline_js.length; i++) {\n",
       "        inline_js[i](window.Bokeh);\n",
       "      }if (force === true) {\n",
       "        display_loaded();\n",
       "      }} else if (Date.now() < window._bokeh_timeout) {\n",
       "      setTimeout(run_inline_js, 100);\n",
       "    } else if (!window._bokeh_failed_load) {\n",
       "      console.log(\"Bokeh: BokehJS failed to load within specified timeout.\");\n",
       "      window._bokeh_failed_load = true;\n",
       "    } else if (force !== true) {\n",
       "      var cell = $(document.getElementById(\"0a943434-2cac-46f1-a813-0b1a53bca742\")).parents('.cell').data().cell;\n",
       "      cell.output_area.append_execute_result(NB_LOAD_WARNING)\n",
       "    }\n",
       "\n",
       "  }\n",
       "\n",
       "  if (window._bokeh_is_loading === 0) {\n",
       "    console.log(\"Bokeh: BokehJS loaded, going straight to plotting\");\n",
       "    run_inline_js();\n",
       "  } else {\n",
       "    load_libs(js_urls, function() {\n",
       "      console.log(\"Bokeh: BokehJS plotting callback run at\", now());\n",
       "      run_inline_js();\n",
       "    });\n",
       "  }\n",
       "}(this));"
      ]
     },
     "metadata": {},
     "output_type": "display_data"
    }
   ],
   "source": [
    "output_notebook()"
   ]
  },
  {
   "cell_type": "code",
   "execution_count": 59,
   "metadata": {},
   "outputs": [
    {
     "data": {
      "text/html": [
       "\n",
       "\n",
       "    <div class=\"bk-root\">\n",
       "        <div class=\"bk-plotdiv\" id=\"58c69eea-7d98-48b7-ac64-28eb49a52a1d\"></div>\n",
       "    </div>\n",
       "<script type=\"text/javascript\">\n",
       "  \n",
       "  (function(global) {\n",
       "    function now() {\n",
       "      return new Date();\n",
       "    }\n",
       "  \n",
       "    var force = false;\n",
       "  \n",
       "    if (typeof (window._bokeh_onload_callbacks) === \"undefined\" || force === true) {\n",
       "      window._bokeh_onload_callbacks = [];\n",
       "      window._bokeh_is_loading = undefined;\n",
       "    }\n",
       "  \n",
       "  \n",
       "    \n",
       "    if (typeof (window._bokeh_timeout) === \"undefined\" || force === true) {\n",
       "      window._bokeh_timeout = Date.now() + 0;\n",
       "      window._bokeh_failed_load = false;\n",
       "    }\n",
       "  \n",
       "    var NB_LOAD_WARNING = {'data': {'text/html':\n",
       "       \"<div style='background-color: #fdd'>\\n\"+\n",
       "       \"<p>\\n\"+\n",
       "       \"BokehJS does not appear to have successfully loaded. If loading BokehJS from CDN, this \\n\"+\n",
       "       \"may be due to a slow or bad network connection. Possible fixes:\\n\"+\n",
       "       \"</p>\\n\"+\n",
       "       \"<ul>\\n\"+\n",
       "       \"<li>re-rerun `output_notebook()` to attempt to load from CDN again, or</li>\\n\"+\n",
       "       \"<li>use INLINE resources instead, as so:</li>\\n\"+\n",
       "       \"</ul>\\n\"+\n",
       "       \"<code>\\n\"+\n",
       "       \"from bokeh.resources import INLINE\\n\"+\n",
       "       \"output_notebook(resources=INLINE)\\n\"+\n",
       "       \"</code>\\n\"+\n",
       "       \"</div>\"}};\n",
       "  \n",
       "    function display_loaded() {\n",
       "      if (window.Bokeh !== undefined) {\n",
       "        document.getElementById(\"58c69eea-7d98-48b7-ac64-28eb49a52a1d\").textContent = \"BokehJS successfully loaded.\";\n",
       "      } else if (Date.now() < window._bokeh_timeout) {\n",
       "        setTimeout(display_loaded, 100)\n",
       "      }\n",
       "    }\n",
       "  \n",
       "    function run_callbacks() {\n",
       "      window._bokeh_onload_callbacks.forEach(function(callback) { callback() });\n",
       "      delete window._bokeh_onload_callbacks\n",
       "      console.info(\"Bokeh: all callbacks have finished\");\n",
       "    }\n",
       "  \n",
       "    function load_libs(js_urls, callback) {\n",
       "      window._bokeh_onload_callbacks.push(callback);\n",
       "      if (window._bokeh_is_loading > 0) {\n",
       "        console.log(\"Bokeh: BokehJS is being loaded, scheduling callback at\", now());\n",
       "        return null;\n",
       "      }\n",
       "      if (js_urls == null || js_urls.length === 0) {\n",
       "        run_callbacks();\n",
       "        return null;\n",
       "      }\n",
       "      console.log(\"Bokeh: BokehJS not loaded, scheduling load and callback at\", now());\n",
       "      window._bokeh_is_loading = js_urls.length;\n",
       "      for (var i = 0; i < js_urls.length; i++) {\n",
       "        var url = js_urls[i];\n",
       "        var s = document.createElement('script');\n",
       "        s.src = url;\n",
       "        s.async = false;\n",
       "        s.onreadystatechange = s.onload = function() {\n",
       "          window._bokeh_is_loading--;\n",
       "          if (window._bokeh_is_loading === 0) {\n",
       "            console.log(\"Bokeh: all BokehJS libraries loaded\");\n",
       "            run_callbacks()\n",
       "          }\n",
       "        };\n",
       "        s.onerror = function() {\n",
       "          console.warn(\"failed to load library \" + url);\n",
       "        };\n",
       "        console.log(\"Bokeh: injecting script tag for BokehJS library: \", url);\n",
       "        document.getElementsByTagName(\"head\")[0].appendChild(s);\n",
       "      }\n",
       "    };var element = document.getElementById(\"58c69eea-7d98-48b7-ac64-28eb49a52a1d\");\n",
       "    if (element == null) {\n",
       "      console.log(\"Bokeh: ERROR: autoload.js configured with elementid '58c69eea-7d98-48b7-ac64-28eb49a52a1d' but no matching script tag was found. \")\n",
       "      return false;\n",
       "    }\n",
       "  \n",
       "    var js_urls = [];\n",
       "  \n",
       "    var inline_js = [\n",
       "      function(Bokeh) {\n",
       "        (function() {\n",
       "          var fn = function() {\n",
       "            var docs_json = {\"bac1feb9-ea2e-46ad-9c74-476a2fdddc59\":{\"roots\":{\"references\":[{\"attributes\":{\"fill_alpha\":{\"field\":\"fill_alpha\"},\"fill_color\":{\"field\":\"color\"},\"height\":{\"field\":\"height\",\"units\":\"data\"},\"line_color\":{\"field\":\"line_color\"},\"width\":{\"field\":\"width\",\"units\":\"data\"},\"x\":{\"field\":\"x\"},\"y\":{\"field\":\"y\"}},\"id\":\"d225ae17-4ea8-4021-ad00-b22574188482\",\"type\":\"Rect\"},{\"attributes\":{\"callback\":null,\"column_names\":[\"label\",\"y\",\"line_alpha\",\"x\",\"line_color\",\"height\",\"color\",\"width\",\"fill_alpha\"],\"data\":{\"chart_index\":[\"(1.600000, 1.733333]\"],\"color\":[\"LightSlateGray\"],\"fill_alpha\":[0.8],\"height\":[0.0],\"label\":[\"(1.600000, 1.733333]\"],\"line_alpha\":[1.0],\"line_color\":[\"black\"],\"width\":[0.1333333333333333],\"x\":[\"1.6666665\"],\"y\":[0.0]}},\"id\":\"d705bbab-edb4-4590-8538-8b58ad1ee63e\",\"type\":\"ColumnDataSource\"},{\"attributes\":{\"fill_alpha\":{\"field\":\"fill_alpha\"},\"fill_color\":{\"field\":\"color\"},\"height\":{\"field\":\"height\",\"units\":\"data\"},\"line_color\":{\"field\":\"line_color\"},\"width\":{\"field\":\"width\",\"units\":\"data\"},\"x\":{\"field\":\"x\"},\"y\":{\"field\":\"y\"}},\"id\":\"f67def89-981a-43b9-84aa-54ea86e84801\",\"type\":\"Rect\"},{\"attributes\":{\"fill_alpha\":{\"field\":\"fill_alpha\"},\"fill_color\":{\"field\":\"color\"},\"height\":{\"field\":\"height\",\"units\":\"data\"},\"line_color\":{\"field\":\"line_color\"},\"width\":{\"field\":\"width\",\"units\":\"data\"},\"x\":{\"field\":\"x\"},\"y\":{\"field\":\"y\"}},\"id\":\"a47a9f34-3254-4d0b-bff7-e483c3c98c50\",\"type\":\"Rect\"},{\"attributes\":{\"data_source\":{\"id\":\"5417c09b-5163-413d-b76c-afd02be9dde3\",\"type\":\"ColumnDataSource\"},\"glyph\":{\"id\":\"6c5a1691-549a-4848-a0c9-8a8193890800\",\"type\":\"Rect\"},\"hover_glyph\":null,\"nonselection_glyph\":null,\"selection_glyph\":null},\"id\":\"0b3f1fd3-f44f-4041-a187-1deaf44faeb4\",\"type\":\"GlyphRenderer\"},{\"attributes\":{\"data_source\":{\"id\":\"dccb0406-7dd9-45b0-a877-39d8312868a5\",\"type\":\"ColumnDataSource\"},\"glyph\":{\"id\":\"1fd980f0-f4c2-4965-af4b-596a24570447\",\"type\":\"Rect\"},\"hover_glyph\":null,\"nonselection_glyph\":null,\"selection_glyph\":null},\"id\":\"256990f1-af6b-4bbb-be5f-60aa82870c8c\",\"type\":\"GlyphRenderer\"},{\"attributes\":{\"fill_alpha\":{\"field\":\"fill_alpha\"},\"fill_color\":{\"field\":\"color\"},\"height\":{\"field\":\"height\",\"units\":\"data\"},\"line_color\":{\"field\":\"line_color\"},\"width\":{\"field\":\"width\",\"units\":\"data\"},\"x\":{\"field\":\"x\"},\"y\":{\"field\":\"y\"}},\"id\":\"1fd980f0-f4c2-4965-af4b-596a24570447\",\"type\":\"Rect\"},{\"attributes\":{\"callback\":null,\"column_names\":[\"label\",\"y\",\"line_alpha\",\"x\",\"line_color\",\"height\",\"color\",\"width\",\"fill_alpha\"],\"data\":{\"chart_index\":[\"(1.733333, 1.866667]\"],\"color\":[\"LightSlateGray\"],\"fill_alpha\":[0.8],\"height\":[0.0],\"label\":[\"(1.733333, 1.866667]\"],\"line_alpha\":[1.0],\"line_color\":[\"black\"],\"width\":[0.1333333333333333],\"x\":[\"1.8\"],\"y\":[0.0]}},\"id\":\"6ee467f6-f608-4e68-a929-f692ce3c3991\",\"type\":\"ColumnDataSource\"},{\"attributes\":{\"callback\":null,\"end\":2076.8},\"id\":\"8a5e85b3-3da9-4113-8822-534fe17a6794\",\"type\":\"Range1d\"},{\"attributes\":{},\"id\":\"6933bf00-ceb9-4efc-96dc-e9acc510dbf7\",\"type\":\"ToolEvents\"},{\"attributes\":{},\"id\":\"0c9bd231-3c9f-4c52-8cd1-c2c9573e36af\",\"type\":\"BasicTickFormatter\"},{\"attributes\":{\"plot\":{\"id\":\"5886963e-8e56-4034-ae0e-fa2f2109913f\",\"subtype\":\"Chart\",\"type\":\"Plot\"}},\"id\":\"d2f85d98-8537-4168-9dad-27b5acc8e639\",\"type\":\"ResetTool\"},{\"attributes\":{\"callback\":null,\"end\":2.0500001666666665,\"start\":-0.050000166666666665},\"id\":\"4a833e71-b686-4adb-b351-d4a6ef275b98\",\"type\":\"Range1d\"},{\"attributes\":{},\"id\":\"a23fde36-904a-4e50-91d5-fc6ba8488e51\",\"type\":\"BasicTickFormatter\"},{\"attributes\":{\"fill_alpha\":{\"field\":\"fill_alpha\"},\"fill_color\":{\"field\":\"color\"},\"height\":{\"field\":\"height\",\"units\":\"data\"},\"line_color\":{\"field\":\"line_color\"},\"width\":{\"field\":\"width\",\"units\":\"data\"},\"x\":{\"field\":\"x\"},\"y\":{\"field\":\"y\"}},\"id\":\"0f389e6c-c8d0-4bbc-9011-51f144747857\",\"type\":\"Rect\"},{\"attributes\":{\"data_source\":{\"id\":\"6b2426a6-0015-43cd-8b30-526f9eb06e3e\",\"type\":\"ColumnDataSource\"},\"glyph\":{\"id\":\"231de07c-cf73-424e-8b1d-debe67e6ce9b\",\"type\":\"Rect\"},\"hover_glyph\":null,\"nonselection_glyph\":null,\"selection_glyph\":null},\"id\":\"6af1628a-94e8-4ebb-b2a7-751a0e7197ad\",\"type\":\"GlyphRenderer\"},{\"attributes\":{\"data_source\":{\"id\":\"826d8dcf-b99e-4355-ad0e-1fd663ab15af\",\"type\":\"ColumnDataSource\"},\"glyph\":{\"id\":\"f67def89-981a-43b9-84aa-54ea86e84801\",\"type\":\"Rect\"},\"hover_glyph\":null,\"nonselection_glyph\":null,\"selection_glyph\":null},\"id\":\"945c8768-1f68-4428-845a-7147c027b7b0\",\"type\":\"GlyphRenderer\"},{\"attributes\":{\"fill_alpha\":{\"field\":\"fill_alpha\"},\"fill_color\":{\"field\":\"color\"},\"height\":{\"field\":\"height\",\"units\":\"data\"},\"line_color\":{\"field\":\"line_color\"},\"width\":{\"field\":\"width\",\"units\":\"data\"},\"x\":{\"field\":\"x\"},\"y\":{\"field\":\"y\"}},\"id\":\"621f0f04-35e0-44ab-8842-28f7bf1fcfaa\",\"type\":\"Rect\"},{\"attributes\":{\"fill_alpha\":{\"field\":\"fill_alpha\"},\"fill_color\":{\"field\":\"color\"},\"height\":{\"field\":\"height\",\"units\":\"data\"},\"line_color\":{\"field\":\"line_color\"},\"width\":{\"field\":\"width\",\"units\":\"data\"},\"x\":{\"field\":\"x\"},\"y\":{\"field\":\"y\"}},\"id\":\"59c80f1a-b132-4796-a61b-7e55182f3aa5\",\"type\":\"Rect\"},{\"attributes\":{\"callback\":null,\"column_names\":[\"label\",\"y\",\"line_alpha\",\"x\",\"line_color\",\"height\",\"color\",\"width\",\"fill_alpha\"],\"data\":{\"chart_index\":[\"(1.066667, 1.200000]\"],\"color\":[\"LightSlateGray\"],\"fill_alpha\":[0.8],\"height\":[0.0],\"label\":[\"(1.066667, 1.200000]\"],\"line_alpha\":[1.0],\"line_color\":[\"black\"],\"width\":[0.1333333333333333],\"x\":[\"1.1333335\"],\"y\":[0.0]}},\"id\":\"e995df83-4495-4990-915e-2e15e939b681\",\"type\":\"ColumnDataSource\"},{\"attributes\":{\"callback\":null,\"column_names\":[\"label\",\"y\",\"line_alpha\",\"x\",\"line_color\",\"height\",\"color\",\"width\",\"fill_alpha\"],\"data\":{\"chart_index\":[\"(0.933333, 1.066667]\"],\"color\":[\"LightSlateGray\"],\"fill_alpha\":[0.8],\"height\":[1888.0],\"label\":[\"(0.933333, 1.066667]\"],\"line_alpha\":[1.0],\"line_color\":[\"black\"],\"width\":[0.1333333333333333],\"x\":[\"1.0\"],\"y\":[944.0]}},\"id\":\"261d024b-f445-4108-8b14-3757a8658a0d\",\"type\":\"ColumnDataSource\"},{\"attributes\":{\"callback\":null,\"column_names\":[\"label\",\"y\",\"line_alpha\",\"x\",\"line_color\",\"height\",\"color\",\"width\",\"fill_alpha\"],\"data\":{\"chart_index\":[\"(0.400000, 0.533333]\"],\"color\":[\"LightSlateGray\"],\"fill_alpha\":[0.8],\"height\":[0.0],\"label\":[\"(0.400000, 0.533333]\"],\"line_alpha\":[1.0],\"line_color\":[\"black\"],\"width\":[0.1333333333333333],\"x\":[\"0.4666665\"],\"y\":[0.0]}},\"id\":\"380272be-2894-4aa0-ad82-e0f9fe189f7b\",\"type\":\"ColumnDataSource\"},{\"attributes\":{\"plot\":{\"id\":\"5886963e-8e56-4034-ae0e-fa2f2109913f\",\"subtype\":\"Chart\",\"type\":\"Plot\"}},\"id\":\"b91d7728-bc77-4364-bd84-020af61e4ffd\",\"type\":\"HelpTool\"},{\"attributes\":{\"fill_alpha\":{\"field\":\"fill_alpha\"},\"fill_color\":{\"field\":\"color\"},\"height\":{\"field\":\"height\",\"units\":\"data\"},\"line_color\":{\"field\":\"line_color\"},\"width\":{\"field\":\"width\",\"units\":\"data\"},\"x\":{\"field\":\"x\"},\"y\":{\"field\":\"y\"}},\"id\":\"3d944085-14d3-4671-95a7-1fb589926686\",\"type\":\"Rect\"},{\"attributes\":{\"dimension\":1,\"plot\":{\"id\":\"5886963e-8e56-4034-ae0e-fa2f2109913f\",\"subtype\":\"Chart\",\"type\":\"Plot\"},\"ticker\":{\"id\":\"994f1124-5448-45f2-8064-68df989f4d49\",\"type\":\"BasicTicker\"}},\"id\":\"1d13e6b4-7181-4bf3-8439-c7285613f0f7\",\"type\":\"Grid\"},{\"attributes\":{\"data_source\":{\"id\":\"34f0e899-9c4f-4f5f-ab32-b647880344bb\",\"type\":\"ColumnDataSource\"},\"glyph\":{\"id\":\"0f389e6c-c8d0-4bbc-9011-51f144747857\",\"type\":\"Rect\"},\"hover_glyph\":null,\"nonselection_glyph\":null,\"selection_glyph\":null},\"id\":\"8d4b577e-9447-4184-87c3-8c080fae8690\",\"type\":\"GlyphRenderer\"},{\"attributes\":{\"plot\":{\"id\":\"5886963e-8e56-4034-ae0e-fa2f2109913f\",\"subtype\":\"Chart\",\"type\":\"Plot\"}},\"id\":\"24a4622b-650d-496d-bdee-11547d20058d\",\"type\":\"WheelZoomTool\"},{\"attributes\":{\"data_source\":{\"id\":\"f45d59d6-54aa-46ba-b090-95a1291fdd06\",\"type\":\"ColumnDataSource\"},\"glyph\":{\"id\":\"a47a9f34-3254-4d0b-bff7-e483c3c98c50\",\"type\":\"Rect\"},\"hover_glyph\":null,\"nonselection_glyph\":null,\"selection_glyph\":null},\"id\":\"13115a67-801b-4b39-aa1a-971b8c3c4281\",\"type\":\"GlyphRenderer\"},{\"attributes\":{\"data_source\":{\"id\":\"0e221808-8a64-4e38-89c0-bdcdda313dfe\",\"type\":\"ColumnDataSource\"},\"glyph\":{\"id\":\"853add43-dfee-491a-8822-0e0f41873d6a\",\"type\":\"Rect\"},\"hover_glyph\":null,\"nonselection_glyph\":null,\"selection_glyph\":null},\"id\":\"639c9b2a-d8c2-4651-a442-5e413a44af24\",\"type\":\"GlyphRenderer\"},{\"attributes\":{\"data_source\":{\"id\":\"a562211d-5cdc-4657-8436-7cefa0b6c2ec\",\"type\":\"ColumnDataSource\"},\"glyph\":{\"id\":\"fe1352ec-97c2-4826-a1c2-c324b6928bc2\",\"type\":\"Rect\"},\"hover_glyph\":null,\"nonselection_glyph\":null,\"selection_glyph\":null},\"id\":\"2907fc80-1d03-4ea9-aba6-35737a441ef1\",\"type\":\"GlyphRenderer\"},{\"attributes\":{\"fill_alpha\":{\"field\":\"fill_alpha\"},\"fill_color\":{\"field\":\"color\"},\"height\":{\"field\":\"height\",\"units\":\"data\"},\"line_color\":{\"field\":\"line_color\"},\"width\":{\"field\":\"width\",\"units\":\"data\"},\"x\":{\"field\":\"x\"},\"y\":{\"field\":\"y\"}},\"id\":\"84fe2a22-5147-46e0-9195-1894b9e278c0\",\"type\":\"Rect\"},{\"attributes\":{\"bottom_units\":\"screen\",\"fill_alpha\":{\"value\":0.5},\"fill_color\":{\"value\":\"lightgrey\"},\"left_units\":\"screen\",\"level\":\"overlay\",\"line_alpha\":{\"value\":1.0},\"line_color\":{\"value\":\"black\"},\"line_dash\":[4,4],\"line_width\":{\"value\":2},\"plot\":null,\"render_mode\":\"css\",\"right_units\":\"screen\",\"top_units\":\"screen\"},\"id\":\"b1782bd3-0d5e-4d53-af77-f11aa1b84778\",\"type\":\"BoxAnnotation\"},{\"attributes\":{\"callback\":null,\"column_names\":[\"label\",\"y\",\"line_alpha\",\"x\",\"line_color\",\"height\",\"color\",\"width\",\"fill_alpha\"],\"data\":{\"chart_index\":[\"(1.466667, 1.600000]\"],\"color\":[\"LightSlateGray\"],\"fill_alpha\":[0.8],\"height\":[0.0],\"label\":[\"(1.466667, 1.600000]\"],\"line_alpha\":[1.0],\"line_color\":[\"black\"],\"width\":[0.13333333333333353],\"x\":[\"1.5333335\"],\"y\":[0.0]}},\"id\":\"6b2426a6-0015-43cd-8b30-526f9eb06e3e\",\"type\":\"ColumnDataSource\"},{\"attributes\":{\"plot\":{\"id\":\"5886963e-8e56-4034-ae0e-fa2f2109913f\",\"subtype\":\"Chart\",\"type\":\"Plot\"}},\"id\":\"c2480b1b-cf45-4ece-b729-eefb84042dc0\",\"type\":\"PanTool\"},{\"attributes\":{\"fill_alpha\":{\"field\":\"fill_alpha\"},\"fill_color\":{\"field\":\"color\"},\"height\":{\"field\":\"height\",\"units\":\"data\"},\"line_color\":{\"field\":\"line_color\"},\"width\":{\"field\":\"width\",\"units\":\"data\"},\"x\":{\"field\":\"x\"},\"y\":{\"field\":\"y\"}},\"id\":\"212d7d64-4acb-4bb4-9ec5-594c91469dea\",\"type\":\"Rect\"},{\"attributes\":{\"callback\":null,\"column_names\":[\"label\",\"y\",\"line_alpha\",\"x\",\"line_color\",\"height\",\"color\",\"width\",\"fill_alpha\"],\"data\":{\"chart_index\":[\"(0.666667, 0.800000]\"],\"color\":[\"LightSlateGray\"],\"fill_alpha\":[0.8],\"height\":[0.0],\"label\":[\"(0.666667, 0.800000]\"],\"line_alpha\":[1.0],\"line_color\":[\"black\"],\"width\":[0.13333333333333341],\"x\":[\"0.7333335000000001\"],\"y\":[0.0]}},\"id\":\"5417c09b-5163-413d-b76c-afd02be9dde3\",\"type\":\"ColumnDataSource\"},{\"attributes\":{},\"id\":\"994f1124-5448-45f2-8064-68df989f4d49\",\"type\":\"BasicTicker\"},{\"attributes\":{\"callback\":null,\"column_names\":[\"label\",\"y\",\"line_alpha\",\"x\",\"line_color\",\"height\",\"color\",\"width\",\"fill_alpha\"],\"data\":{\"chart_index\":[\"(0.800000, 0.933333]\"],\"color\":[\"LightSlateGray\"],\"fill_alpha\":[0.8],\"height\":[0.0],\"label\":[\"(0.800000, 0.933333]\"],\"line_alpha\":[1.0],\"line_color\":[\"black\"],\"width\":[0.1333333333333333],\"x\":[\"0.8666665\"],\"y\":[0.0]}},\"id\":\"a562211d-5cdc-4657-8436-7cefa0b6c2ec\",\"type\":\"ColumnDataSource\"},{\"attributes\":{\"fill_alpha\":{\"field\":\"fill_alpha\"},\"fill_color\":{\"field\":\"color\"},\"height\":{\"field\":\"height\",\"units\":\"data\"},\"line_color\":{\"field\":\"line_color\"},\"width\":{\"field\":\"width\",\"units\":\"data\"},\"x\":{\"field\":\"x\"},\"y\":{\"field\":\"y\"}},\"id\":\"fe1352ec-97c2-4826-a1c2-c324b6928bc2\",\"type\":\"Rect\"},{\"attributes\":{\"below\":[{\"id\":\"bff0f5d4-bd77-43e1-bef4-72586516a2b5\",\"type\":\"LinearAxis\"}],\"css_classes\":null,\"left\":[{\"id\":\"70436c16-48ef-45c5-836b-ab4e7980750a\",\"type\":\"LinearAxis\"}],\"plot_height\":250,\"renderers\":[{\"id\":\"b1782bd3-0d5e-4d53-af77-f11aa1b84778\",\"type\":\"BoxAnnotation\"},{\"id\":\"945c8768-1f68-4428-845a-7147c027b7b0\",\"type\":\"GlyphRenderer\"},{\"id\":\"8d4b577e-9447-4184-87c3-8c080fae8690\",\"type\":\"GlyphRenderer\"},{\"id\":\"56d72334-68dd-4d8a-9f43-752cf5f692be\",\"type\":\"GlyphRenderer\"},{\"id\":\"80416372-c174-403f-a8e2-8f946e5815f7\",\"type\":\"GlyphRenderer\"},{\"id\":\"13115a67-801b-4b39-aa1a-971b8c3c4281\",\"type\":\"GlyphRenderer\"},{\"id\":\"0b3f1fd3-f44f-4041-a187-1deaf44faeb4\",\"type\":\"GlyphRenderer\"},{\"id\":\"2907fc80-1d03-4ea9-aba6-35737a441ef1\",\"type\":\"GlyphRenderer\"},{\"id\":\"7e65efa8-05eb-40e8-a247-b1f9904cf219\",\"type\":\"GlyphRenderer\"},{\"id\":\"8d1fe20f-30d6-4e52-929c-ecd85ca4874a\",\"type\":\"GlyphRenderer\"},{\"id\":\"256990f1-af6b-4bbb-be5f-60aa82870c8c\",\"type\":\"GlyphRenderer\"},{\"id\":\"f4638674-5bd6-458a-9ab8-35d9a6e144fc\",\"type\":\"GlyphRenderer\"},{\"id\":\"6af1628a-94e8-4ebb-b2a7-751a0e7197ad\",\"type\":\"GlyphRenderer\"},{\"id\":\"c2499463-8c4b-4fea-9937-d863b105eb4a\",\"type\":\"GlyphRenderer\"},{\"id\":\"c5c3ac3b-aa73-467e-9896-be1e2ef06c54\",\"type\":\"GlyphRenderer\"},{\"id\":\"639c9b2a-d8c2-4651-a442-5e413a44af24\",\"type\":\"GlyphRenderer\"},{\"id\":\"15efaba4-92e2-4540-b611-d9e84d0be8ec\",\"type\":\"Legend\"},{\"id\":\"bff0f5d4-bd77-43e1-bef4-72586516a2b5\",\"type\":\"LinearAxis\"},{\"id\":\"70436c16-48ef-45c5-836b-ab4e7980750a\",\"type\":\"LinearAxis\"},{\"id\":\"1d13e6b4-7181-4bf3-8439-c7285613f0f7\",\"type\":\"Grid\"}],\"title\":{\"id\":\"77e5462e-b146-4917-9c3b-898df920edbb\",\"type\":\"Title\"},\"tool_events\":{\"id\":\"6933bf00-ceb9-4efc-96dc-e9acc510dbf7\",\"type\":\"ToolEvents\"},\"toolbar\":{\"id\":\"cdd9eecf-dab6-4147-a2ae-8b7d764aa4a1\",\"type\":\"Toolbar\"},\"x_mapper_type\":\"auto\",\"x_range\":{\"id\":\"4a833e71-b686-4adb-b351-d4a6ef275b98\",\"type\":\"Range1d\"},\"y_mapper_type\":\"auto\",\"y_range\":{\"id\":\"8a5e85b3-3da9-4113-8822-534fe17a6794\",\"type\":\"Range1d\"}},\"id\":\"5886963e-8e56-4034-ae0e-fa2f2109913f\",\"subtype\":\"Chart\",\"type\":\"Plot\"},{\"attributes\":{\"axis_label\":\"Frequency\",\"formatter\":{\"id\":\"0c9bd231-3c9f-4c52-8cd1-c2c9573e36af\",\"type\":\"BasicTickFormatter\"},\"plot\":{\"id\":\"5886963e-8e56-4034-ae0e-fa2f2109913f\",\"subtype\":\"Chart\",\"type\":\"Plot\"},\"ticker\":{\"id\":\"994f1124-5448-45f2-8064-68df989f4d49\",\"type\":\"BasicTicker\"}},\"id\":\"70436c16-48ef-45c5-836b-ab4e7980750a\",\"type\":\"LinearAxis\"},{\"attributes\":{\"data_source\":{\"id\":\"d705bbab-edb4-4590-8538-8b58ad1ee63e\",\"type\":\"ColumnDataSource\"},\"glyph\":{\"id\":\"621f0f04-35e0-44ab-8842-28f7bf1fcfaa\",\"type\":\"Rect\"},\"hover_glyph\":null,\"nonselection_glyph\":null,\"selection_glyph\":null},\"id\":\"c2499463-8c4b-4fea-9937-d863b105eb4a\",\"type\":\"GlyphRenderer\"},{\"attributes\":{\"fill_alpha\":{\"field\":\"fill_alpha\"},\"fill_color\":{\"field\":\"color\"},\"height\":{\"field\":\"height\",\"units\":\"data\"},\"line_color\":{\"field\":\"line_color\"},\"width\":{\"field\":\"width\",\"units\":\"data\"},\"x\":{\"field\":\"x\"},\"y\":{\"field\":\"y\"}},\"id\":\"231de07c-cf73-424e-8b1d-debe67e6ce9b\",\"type\":\"Rect\"},{\"attributes\":{\"data_source\":{\"id\":\"261d024b-f445-4108-8b14-3757a8658a0d\",\"type\":\"ColumnDataSource\"},\"glyph\":{\"id\":\"84fe2a22-5147-46e0-9195-1894b9e278c0\",\"type\":\"Rect\"},\"hover_glyph\":null,\"nonselection_glyph\":null,\"selection_glyph\":null},\"id\":\"7e65efa8-05eb-40e8-a247-b1f9904cf219\",\"type\":\"GlyphRenderer\"},{\"attributes\":{\"callback\":null,\"column_names\":[\"label\",\"y\",\"line_alpha\",\"x\",\"line_color\",\"height\",\"color\",\"width\",\"fill_alpha\"],\"data\":{\"chart_index\":[\"[0.000000, 0.133333]\"],\"color\":[\"LightSlateGray\"],\"fill_alpha\":[0.8],\"height\":[46.0],\"label\":[\"[0.000000, 0.133333]\"],\"line_alpha\":[1.0],\"line_color\":[\"black\"],\"width\":[0.13333333333333333],\"x\":[\"0.0666665\"],\"y\":[23.0]}},\"id\":\"826d8dcf-b99e-4355-ad0e-1fd663ab15af\",\"type\":\"ColumnDataSource\"},{\"attributes\":{\"callback\":null,\"column_names\":[\"label\",\"y\",\"line_alpha\",\"x\",\"line_color\",\"height\",\"color\",\"width\",\"fill_alpha\"],\"data\":{\"chart_index\":[\"(0.266667, 0.400000]\"],\"color\":[\"LightSlateGray\"],\"fill_alpha\":[0.8],\"height\":[0.0],\"label\":[\"(0.266667, 0.400000]\"],\"line_alpha\":[1.0],\"line_color\":[\"black\"],\"width\":[0.13333333333333336],\"x\":[\"0.3333335\"],\"y\":[0.0]}},\"id\":\"51953a6d-f234-4a0f-823a-ef7e095c70ba\",\"type\":\"ColumnDataSource\"},{\"attributes\":{\"data_source\":{\"id\":\"e995df83-4495-4990-915e-2e15e939b681\",\"type\":\"ColumnDataSource\"},\"glyph\":{\"id\":\"59c80f1a-b132-4796-a61b-7e55182f3aa5\",\"type\":\"Rect\"},\"hover_glyph\":null,\"nonselection_glyph\":null,\"selection_glyph\":null},\"id\":\"8d1fe20f-30d6-4e52-929c-ecd85ca4874a\",\"type\":\"GlyphRenderer\"},{\"attributes\":{\"axis_label\":\"GTcons\",\"formatter\":{\"id\":\"a23fde36-904a-4e50-91d5-fc6ba8488e51\",\"type\":\"BasicTickFormatter\"},\"plot\":{\"id\":\"5886963e-8e56-4034-ae0e-fa2f2109913f\",\"subtype\":\"Chart\",\"type\":\"Plot\"},\"ticker\":{\"id\":\"4619045c-9a9d-4c33-b136-1c56c30efe69\",\"type\":\"BasicTicker\"}},\"id\":\"bff0f5d4-bd77-43e1-bef4-72586516a2b5\",\"type\":\"LinearAxis\"},{\"attributes\":{\"data_source\":{\"id\":\"9421198e-bebd-40cd-b0f0-2ef06b859fde\",\"type\":\"ColumnDataSource\"},\"glyph\":{\"id\":\"212d7d64-4acb-4bb4-9ec5-594c91469dea\",\"type\":\"Rect\"},\"hover_glyph\":null,\"nonselection_glyph\":null,\"selection_glyph\":null},\"id\":\"f4638674-5bd6-458a-9ab8-35d9a6e144fc\",\"type\":\"GlyphRenderer\"},{\"attributes\":{},\"id\":\"4619045c-9a9d-4c33-b136-1c56c30efe69\",\"type\":\"BasicTicker\"},{\"attributes\":{\"active_drag\":\"auto\",\"active_scroll\":\"auto\",\"active_tap\":\"auto\",\"tools\":[{\"id\":\"c2480b1b-cf45-4ece-b729-eefb84042dc0\",\"type\":\"PanTool\"},{\"id\":\"24a4622b-650d-496d-bdee-11547d20058d\",\"type\":\"WheelZoomTool\"},{\"id\":\"0057497a-2f1c-476d-a921-368901f3ee9d\",\"type\":\"BoxZoomTool\"},{\"id\":\"86f8ee3a-1550-4348-a8a3-09b451524a40\",\"type\":\"SaveTool\"},{\"id\":\"d2f85d98-8537-4168-9dad-27b5acc8e639\",\"type\":\"ResetTool\"},{\"id\":\"b91d7728-bc77-4364-bd84-020af61e4ffd\",\"type\":\"HelpTool\"}]},\"id\":\"cdd9eecf-dab6-4147-a2ae-8b7d764aa4a1\",\"type\":\"Toolbar\"},{\"attributes\":{\"callback\":null,\"column_names\":[\"label\",\"y\",\"line_alpha\",\"x\",\"line_color\",\"height\",\"color\",\"width\",\"fill_alpha\"],\"data\":{\"chart_index\":[\"(0.133333, 0.266667]\"],\"color\":[\"LightSlateGray\"],\"fill_alpha\":[0.8],\"height\":[0.0],\"label\":[\"(0.133333, 0.266667]\"],\"line_alpha\":[1.0],\"line_color\":[\"black\"],\"width\":[0.13333333333333333],\"x\":[\"0.2\"],\"y\":[0.0]}},\"id\":\"34f0e899-9c4f-4f5f-ab32-b647880344bb\",\"type\":\"ColumnDataSource\"},{\"attributes\":{\"data_source\":{\"id\":\"380272be-2894-4aa0-ad82-e0f9fe189f7b\",\"type\":\"ColumnDataSource\"},\"glyph\":{\"id\":\"24c41245-c534-42c3-8ad0-ac50e2370708\",\"type\":\"Rect\"},\"hover_glyph\":null,\"nonselection_glyph\":null,\"selection_glyph\":null},\"id\":\"80416372-c174-403f-a8e2-8f946e5815f7\",\"type\":\"GlyphRenderer\"},{\"attributes\":{\"fill_alpha\":{\"field\":\"fill_alpha\"},\"fill_color\":{\"field\":\"color\"},\"height\":{\"field\":\"height\",\"units\":\"data\"},\"line_color\":{\"field\":\"line_color\"},\"width\":{\"field\":\"width\",\"units\":\"data\"},\"x\":{\"field\":\"x\"},\"y\":{\"field\":\"y\"}},\"id\":\"24c41245-c534-42c3-8ad0-ac50e2370708\",\"type\":\"Rect\"},{\"attributes\":{\"plot\":null,\"text\":\"Exact_Match_HG002: Consensust GT\"},\"id\":\"77e5462e-b146-4917-9c3b-898df920edbb\",\"type\":\"Title\"},{\"attributes\":{\"data_source\":{\"id\":\"51953a6d-f234-4a0f-823a-ef7e095c70ba\",\"type\":\"ColumnDataSource\"},\"glyph\":{\"id\":\"3d944085-14d3-4671-95a7-1fb589926686\",\"type\":\"Rect\"},\"hover_glyph\":null,\"nonselection_glyph\":null,\"selection_glyph\":null},\"id\":\"56d72334-68dd-4d8a-9f43-752cf5f692be\",\"type\":\"GlyphRenderer\"},{\"attributes\":{\"fill_alpha\":{\"field\":\"fill_alpha\"},\"fill_color\":{\"field\":\"color\"},\"height\":{\"field\":\"height\",\"units\":\"data\"},\"line_color\":{\"field\":\"line_color\"},\"width\":{\"field\":\"width\",\"units\":\"data\"},\"x\":{\"field\":\"x\"},\"y\":{\"field\":\"y\"}},\"id\":\"853add43-dfee-491a-8822-0e0f41873d6a\",\"type\":\"Rect\"},{\"attributes\":{\"callback\":null,\"column_names\":[\"label\",\"y\",\"line_alpha\",\"x\",\"line_color\",\"height\",\"color\",\"width\",\"fill_alpha\"],\"data\":{\"chart_index\":[\"(0.533333, 0.666667]\"],\"color\":[\"LightSlateGray\"],\"fill_alpha\":[0.8],\"height\":[0.0],\"label\":[\"(0.533333, 0.666667]\"],\"line_alpha\":[1.0],\"line_color\":[\"black\"],\"width\":[0.1333333333333333],\"x\":[\"0.6\"],\"y\":[0.0]}},\"id\":\"f45d59d6-54aa-46ba-b090-95a1291fdd06\",\"type\":\"ColumnDataSource\"},{\"attributes\":{\"callback\":null,\"column_names\":[\"label\",\"y\",\"line_alpha\",\"x\",\"line_color\",\"height\",\"color\",\"width\",\"fill_alpha\"],\"data\":{\"chart_index\":[\"(1.866667, 2.000000]\"],\"color\":[\"LightSlateGray\"],\"fill_alpha\":[0.8],\"height\":[856.0],\"label\":[\"(1.866667, 2.000000]\"],\"line_alpha\":[1.0],\"line_color\":[\"black\"],\"width\":[0.1333333333333333],\"x\":[\"1.9333335\"],\"y\":[428.0]}},\"id\":\"0e221808-8a64-4e38-89c0-bdcdda313dfe\",\"type\":\"ColumnDataSource\"},{\"attributes\":{\"fill_alpha\":{\"field\":\"fill_alpha\"},\"fill_color\":{\"field\":\"color\"},\"height\":{\"field\":\"height\",\"units\":\"data\"},\"line_color\":{\"field\":\"line_color\"},\"width\":{\"field\":\"width\",\"units\":\"data\"},\"x\":{\"field\":\"x\"},\"y\":{\"field\":\"y\"}},\"id\":\"6c5a1691-549a-4848-a0c9-8a8193890800\",\"type\":\"Rect\"},{\"attributes\":{\"callback\":null,\"column_names\":[\"label\",\"y\",\"line_alpha\",\"x\",\"line_color\",\"height\",\"color\",\"width\",\"fill_alpha\"],\"data\":{\"chart_index\":[\"(1.200000, 1.333333]\"],\"color\":[\"LightSlateGray\"],\"fill_alpha\":[0.8],\"height\":[0.0],\"label\":[\"(1.200000, 1.333333]\"],\"line_alpha\":[1.0],\"line_color\":[\"black\"],\"width\":[0.1333333333333333],\"x\":[\"1.2666665\"],\"y\":[0.0]}},\"id\":\"dccb0406-7dd9-45b0-a877-39d8312868a5\",\"type\":\"ColumnDataSource\"},{\"attributes\":{\"callback\":null,\"column_names\":[\"label\",\"y\",\"line_alpha\",\"x\",\"line_color\",\"height\",\"color\",\"width\",\"fill_alpha\"],\"data\":{\"chart_index\":[\"(1.333333, 1.466667]\"],\"color\":[\"LightSlateGray\"],\"fill_alpha\":[0.8],\"height\":[0.0],\"label\":[\"(1.333333, 1.466667]\"],\"line_alpha\":[1.0],\"line_color\":[\"black\"],\"width\":[0.1333333333333333],\"x\":[\"1.4\"],\"y\":[0.0]}},\"id\":\"9421198e-bebd-40cd-b0f0-2ef06b859fde\",\"type\":\"ColumnDataSource\"},{\"attributes\":{\"overlay\":{\"id\":\"b1782bd3-0d5e-4d53-af77-f11aa1b84778\",\"type\":\"BoxAnnotation\"},\"plot\":{\"id\":\"5886963e-8e56-4034-ae0e-fa2f2109913f\",\"subtype\":\"Chart\",\"type\":\"Plot\"}},\"id\":\"0057497a-2f1c-476d-a921-368901f3ee9d\",\"type\":\"BoxZoomTool\"},{\"attributes\":{\"data_source\":{\"id\":\"6ee467f6-f608-4e68-a929-f692ce3c3991\",\"type\":\"ColumnDataSource\"},\"glyph\":{\"id\":\"d225ae17-4ea8-4021-ad00-b22574188482\",\"type\":\"Rect\"},\"hover_glyph\":null,\"nonselection_glyph\":null,\"selection_glyph\":null},\"id\":\"c5c3ac3b-aa73-467e-9896-be1e2ef06c54\",\"type\":\"GlyphRenderer\"},{\"attributes\":{\"plot\":{\"id\":\"5886963e-8e56-4034-ae0e-fa2f2109913f\",\"subtype\":\"Chart\",\"type\":\"Plot\"}},\"id\":\"86f8ee3a-1550-4348-a8a3-09b451524a40\",\"type\":\"SaveTool\"},{\"attributes\":{\"location\":\"top_left\",\"plot\":{\"id\":\"5886963e-8e56-4034-ae0e-fa2f2109913f\",\"subtype\":\"Chart\",\"type\":\"Plot\"}},\"id\":\"15efaba4-92e2-4540-b611-d9e84d0be8ec\",\"type\":\"Legend\"}],\"root_ids\":[\"5886963e-8e56-4034-ae0e-fa2f2109913f\"]},\"title\":\"Bokeh Application\",\"version\":\"0.12.4\"}};\n",
       "            var render_items = [{\"docid\":\"bac1feb9-ea2e-46ad-9c74-476a2fdddc59\",\"elementid\":\"58c69eea-7d98-48b7-ac64-28eb49a52a1d\",\"modelid\":\"5886963e-8e56-4034-ae0e-fa2f2109913f\"}];\n",
       "            \n",
       "            Bokeh.embed.embed_items(docs_json, render_items);\n",
       "          };\n",
       "          if (document.readyState != \"loading\") fn();\n",
       "          else document.addEventListener(\"DOMContentLoaded\", fn);\n",
       "        })();\n",
       "      },\n",
       "      function(Bokeh) {\n",
       "      }\n",
       "    ];\n",
       "  \n",
       "    function run_inline_js() {\n",
       "      \n",
       "      if ((window.Bokeh !== undefined) || (force === true)) {\n",
       "        for (var i = 0; i < inline_js.length; i++) {\n",
       "          inline_js[i](window.Bokeh);\n",
       "        }if (force === true) {\n",
       "          display_loaded();\n",
       "        }} else if (Date.now() < window._bokeh_timeout) {\n",
       "        setTimeout(run_inline_js, 100);\n",
       "      } else if (!window._bokeh_failed_load) {\n",
       "        console.log(\"Bokeh: BokehJS failed to load within specified timeout.\");\n",
       "        window._bokeh_failed_load = true;\n",
       "      } else if (force !== true) {\n",
       "        var cell = $(document.getElementById(\"58c69eea-7d98-48b7-ac64-28eb49a52a1d\")).parents('.cell').data().cell;\n",
       "        cell.output_area.append_execute_result(NB_LOAD_WARNING)\n",
       "      }\n",
       "  \n",
       "    }\n",
       "  \n",
       "    if (window._bokeh_is_loading === 0) {\n",
       "      console.log(\"Bokeh: BokehJS loaded, going straight to plotting\");\n",
       "      run_inline_js();\n",
       "    } else {\n",
       "      load_libs(js_urls, function() {\n",
       "        console.log(\"Bokeh: BokehJS plotting callback run at\", now());\n",
       "        run_inline_js();\n",
       "      });\n",
       "    }\n",
       "  }(this));\n",
       "</script>"
      ]
     },
     "metadata": {},
     "output_type": "display_data"
    }
   ],
   "source": [
    "p = figure()\n",
    "p = Histogram(exact_match, values='GTcons', title='Exact_Match_HG002: Consensust GT', color='LightSlateGray', bins=15, plot_height=250, xlabel=\"GTcons\", ylabel=\"Frequency\")\n",
    "show(p)"
   ]
  },
  {
   "cell_type": "markdown",
   "metadata": {},
   "source": [
    "** Homozygous Reference **"
   ]
  },
  {
   "cell_type": "code",
   "execution_count": 60,
   "metadata": {},
   "outputs": [
    {
     "data": {
      "text/html": [
       "<div>\n",
       "<table border=\"1\" class=\"dataframe\">\n",
       "  <thead>\n",
       "    <tr style=\"text-align: right;\">\n",
       "      <th></th>\n",
       "      <th>Ill300x.GT</th>\n",
       "      <th>Ill300x.alt_alnScore_mean</th>\n",
       "      <th>Ill300x.alt_alnScore_std</th>\n",
       "      <th>Ill300x.alt_count</th>\n",
       "      <th>Ill300x.alt_insertSize_mean</th>\n",
       "      <th>Ill300x.alt_insertSize_std</th>\n",
       "      <th>Ill300x.alt_reason_alignmentScore</th>\n",
       "      <th>Ill300x.alt_reason_insertSizeScore</th>\n",
       "      <th>Ill300x.alt_reason_orientation</th>\n",
       "      <th>Ill300x.amb_alnScore_mean</th>\n",
       "      <th>...</th>\n",
       "      <th>refN_pct</th>\n",
       "      <th>segdup_cnt</th>\n",
       "      <th>segdup_pct</th>\n",
       "      <th>start</th>\n",
       "      <th>tandemrep_cnt</th>\n",
       "      <th>tandemrep_pct</th>\n",
       "      <th>predicted_label</th>\n",
       "      <th>GTcons</th>\n",
       "      <th>GTsupp</th>\n",
       "      <th>GTconswithoutIll300x.GT</th>\n",
       "    </tr>\n",
       "  </thead>\n",
       "  <tbody>\n",
       "    <tr>\n",
       "      <th>2</th>\n",
       "      <td>-1.0</td>\n",
       "      <td>565.25</td>\n",
       "      <td>15.327671</td>\n",
       "      <td>8.0</td>\n",
       "      <td>606.75</td>\n",
       "      <td>105.736406</td>\n",
       "      <td>8.0</td>\n",
       "      <td>0.0</td>\n",
       "      <td>0.0</td>\n",
       "      <td>520.852251</td>\n",
       "      <td>...</td>\n",
       "      <td>0.0</td>\n",
       "      <td>0.0</td>\n",
       "      <td>0.0</td>\n",
       "      <td>1092675</td>\n",
       "      <td>1.0</td>\n",
       "      <td>1.0</td>\n",
       "      <td>0.0</td>\n",
       "      <td>1</td>\n",
       "      <td>1</td>\n",
       "      <td>1</td>\n",
       "    </tr>\n",
       "  </tbody>\n",
       "</table>\n",
       "<p>1 rows × 47 columns</p>\n",
       "</div>"
      ],
      "text/plain": [
       "   Ill300x.GT  Ill300x.alt_alnScore_mean  Ill300x.alt_alnScore_std  \\\n",
       "2        -1.0                     565.25                 15.327671   \n",
       "\n",
       "   Ill300x.alt_count  Ill300x.alt_insertSize_mean  Ill300x.alt_insertSize_std  \\\n",
       "2                8.0                       606.75                  105.736406   \n",
       "\n",
       "   Ill300x.alt_reason_alignmentScore  Ill300x.alt_reason_insertSizeScore  \\\n",
       "2                                8.0                                 0.0   \n",
       "\n",
       "   Ill300x.alt_reason_orientation  Ill300x.amb_alnScore_mean  \\\n",
       "2                             0.0                 520.852251   \n",
       "\n",
       "            ...             refN_pct  segdup_cnt  segdup_pct    start  \\\n",
       "2           ...                  0.0         0.0         0.0  1092675   \n",
       "\n",
       "   tandemrep_cnt  tandemrep_pct  predicted_label  GTcons  GTsupp  \\\n",
       "2            1.0            1.0              0.0       1       1   \n",
       "\n",
       "   GTconswithoutIll300x.GT  \n",
       "2                        1  \n",
       "\n",
       "[1 rows x 47 columns]"
      ]
     },
     "execution_count": 60,
     "metadata": {},
     "output_type": "execute_result"
    }
   ],
   "source": [
    "hr = X5['predicted_label'] == 0.0\n",
    "hom_ref = X5[hr]\n",
    "hom_ref.head(1)"
   ]
  },
  {
   "cell_type": "code",
   "execution_count": 61,
   "metadata": {},
   "outputs": [
    {
     "data": {
      "text/html": [
       "\n",
       "\n",
       "    <div class=\"bk-root\">\n",
       "        <div class=\"bk-plotdiv\" id=\"59d8efbf-6f10-43f6-bd7c-5a30e4e0a0c4\"></div>\n",
       "    </div>\n",
       "<script type=\"text/javascript\">\n",
       "  \n",
       "  (function(global) {\n",
       "    function now() {\n",
       "      return new Date();\n",
       "    }\n",
       "  \n",
       "    var force = false;\n",
       "  \n",
       "    if (typeof (window._bokeh_onload_callbacks) === \"undefined\" || force === true) {\n",
       "      window._bokeh_onload_callbacks = [];\n",
       "      window._bokeh_is_loading = undefined;\n",
       "    }\n",
       "  \n",
       "  \n",
       "    \n",
       "    if (typeof (window._bokeh_timeout) === \"undefined\" || force === true) {\n",
       "      window._bokeh_timeout = Date.now() + 0;\n",
       "      window._bokeh_failed_load = false;\n",
       "    }\n",
       "  \n",
       "    var NB_LOAD_WARNING = {'data': {'text/html':\n",
       "       \"<div style='background-color: #fdd'>\\n\"+\n",
       "       \"<p>\\n\"+\n",
       "       \"BokehJS does not appear to have successfully loaded. If loading BokehJS from CDN, this \\n\"+\n",
       "       \"may be due to a slow or bad network connection. Possible fixes:\\n\"+\n",
       "       \"</p>\\n\"+\n",
       "       \"<ul>\\n\"+\n",
       "       \"<li>re-rerun `output_notebook()` to attempt to load from CDN again, or</li>\\n\"+\n",
       "       \"<li>use INLINE resources instead, as so:</li>\\n\"+\n",
       "       \"</ul>\\n\"+\n",
       "       \"<code>\\n\"+\n",
       "       \"from bokeh.resources import INLINE\\n\"+\n",
       "       \"output_notebook(resources=INLINE)\\n\"+\n",
       "       \"</code>\\n\"+\n",
       "       \"</div>\"}};\n",
       "  \n",
       "    function display_loaded() {\n",
       "      if (window.Bokeh !== undefined) {\n",
       "        document.getElementById(\"59d8efbf-6f10-43f6-bd7c-5a30e4e0a0c4\").textContent = \"BokehJS successfully loaded.\";\n",
       "      } else if (Date.now() < window._bokeh_timeout) {\n",
       "        setTimeout(display_loaded, 100)\n",
       "      }\n",
       "    }\n",
       "  \n",
       "    function run_callbacks() {\n",
       "      window._bokeh_onload_callbacks.forEach(function(callback) { callback() });\n",
       "      delete window._bokeh_onload_callbacks\n",
       "      console.info(\"Bokeh: all callbacks have finished\");\n",
       "    }\n",
       "  \n",
       "    function load_libs(js_urls, callback) {\n",
       "      window._bokeh_onload_callbacks.push(callback);\n",
       "      if (window._bokeh_is_loading > 0) {\n",
       "        console.log(\"Bokeh: BokehJS is being loaded, scheduling callback at\", now());\n",
       "        return null;\n",
       "      }\n",
       "      if (js_urls == null || js_urls.length === 0) {\n",
       "        run_callbacks();\n",
       "        return null;\n",
       "      }\n",
       "      console.log(\"Bokeh: BokehJS not loaded, scheduling load and callback at\", now());\n",
       "      window._bokeh_is_loading = js_urls.length;\n",
       "      for (var i = 0; i < js_urls.length; i++) {\n",
       "        var url = js_urls[i];\n",
       "        var s = document.createElement('script');\n",
       "        s.src = url;\n",
       "        s.async = false;\n",
       "        s.onreadystatechange = s.onload = function() {\n",
       "          window._bokeh_is_loading--;\n",
       "          if (window._bokeh_is_loading === 0) {\n",
       "            console.log(\"Bokeh: all BokehJS libraries loaded\");\n",
       "            run_callbacks()\n",
       "          }\n",
       "        };\n",
       "        s.onerror = function() {\n",
       "          console.warn(\"failed to load library \" + url);\n",
       "        };\n",
       "        console.log(\"Bokeh: injecting script tag for BokehJS library: \", url);\n",
       "        document.getElementsByTagName(\"head\")[0].appendChild(s);\n",
       "      }\n",
       "    };var element = document.getElementById(\"59d8efbf-6f10-43f6-bd7c-5a30e4e0a0c4\");\n",
       "    if (element == null) {\n",
       "      console.log(\"Bokeh: ERROR: autoload.js configured with elementid '59d8efbf-6f10-43f6-bd7c-5a30e4e0a0c4' but no matching script tag was found. \")\n",
       "      return false;\n",
       "    }\n",
       "  \n",
       "    var js_urls = [];\n",
       "  \n",
       "    var inline_js = [\n",
       "      function(Bokeh) {\n",
       "        (function() {\n",
       "          var fn = function() {\n",
       "            var docs_json = {\"38d8f2a4-bfa0-48e4-bee2-c736a93b3104\":{\"roots\":{\"references\":[{\"attributes\":{\"fill_alpha\":{\"field\":\"fill_alpha\"},\"fill_color\":{\"field\":\"color\"},\"height\":{\"field\":\"height\",\"units\":\"data\"},\"line_color\":{\"field\":\"line_color\"},\"width\":{\"field\":\"width\",\"units\":\"data\"},\"x\":{\"field\":\"x\"},\"y\":{\"field\":\"y\"}},\"id\":\"512862f2-38fb-44a9-ad76-128e5d45ddae\",\"type\":\"Rect\"},{\"attributes\":{\"callback\":null,\"column_names\":[\"label\",\"y\",\"line_alpha\",\"x\",\"line_color\",\"height\",\"color\",\"width\",\"fill_alpha\"],\"data\":{\"chart_index\":[\"(0.400000, 0.533333]\"],\"color\":[\"LightSlateGray\"],\"fill_alpha\":[0.8],\"height\":[0.0],\"label\":[\"(0.400000, 0.533333]\"],\"line_alpha\":[1.0],\"line_color\":[\"black\"],\"width\":[0.1333333333333333],\"x\":[\"0.4666665\"],\"y\":[0.0]}},\"id\":\"b0b0b20b-34b4-4b8b-9fc6-737fbfff323d\",\"type\":\"ColumnDataSource\"},{\"attributes\":{\"fill_alpha\":{\"field\":\"fill_alpha\"},\"fill_color\":{\"field\":\"color\"},\"height\":{\"field\":\"height\",\"units\":\"data\"},\"line_color\":{\"field\":\"line_color\"},\"width\":{\"field\":\"width\",\"units\":\"data\"},\"x\":{\"field\":\"x\"},\"y\":{\"field\":\"y\"}},\"id\":\"de0061d4-efec-47e4-bbd2-9b5ca9636376\",\"type\":\"Rect\"},{\"attributes\":{\"data_source\":{\"id\":\"4dc13be4-e143-40d8-8399-304a73c66962\",\"type\":\"ColumnDataSource\"},\"glyph\":{\"id\":\"512862f2-38fb-44a9-ad76-128e5d45ddae\",\"type\":\"Rect\"},\"hover_glyph\":null,\"nonselection_glyph\":null,\"selection_glyph\":null},\"id\":\"c446b4d7-91d6-4a63-a457-ed550b1e3025\",\"type\":\"GlyphRenderer\"},{\"attributes\":{\"axis_label\":\"GTcons\",\"formatter\":{\"id\":\"1f8346e8-873e-4f71-95ba-6e6283e87a58\",\"type\":\"BasicTickFormatter\"},\"plot\":{\"id\":\"7cb01e28-bbb4-4b6c-8443-2b6ccb69ec8e\",\"subtype\":\"Chart\",\"type\":\"Plot\"},\"ticker\":{\"id\":\"0d8aa2a6-292f-45ba-94ac-0b837a005b95\",\"type\":\"BasicTicker\"}},\"id\":\"4f3f5114-acb8-4dbd-ae06-5ca3f43c4b4e\",\"type\":\"LinearAxis\"},{\"attributes\":{\"callback\":null,\"column_names\":[\"label\",\"y\",\"line_alpha\",\"x\",\"line_color\",\"height\",\"color\",\"width\",\"fill_alpha\"],\"data\":{\"chart_index\":[\"(1.333333, 1.466667]\"],\"color\":[\"LightSlateGray\"],\"fill_alpha\":[0.8],\"height\":[0.0],\"label\":[\"(1.333333, 1.466667]\"],\"line_alpha\":[1.0],\"line_color\":[\"black\"],\"width\":[0.1333333333333333],\"x\":[\"1.4\"],\"y\":[0.0]}},\"id\":\"0f04663a-af15-4147-bd0b-252788f8436a\",\"type\":\"ColumnDataSource\"},{\"attributes\":{\"fill_alpha\":{\"field\":\"fill_alpha\"},\"fill_color\":{\"field\":\"color\"},\"height\":{\"field\":\"height\",\"units\":\"data\"},\"line_color\":{\"field\":\"line_color\"},\"width\":{\"field\":\"width\",\"units\":\"data\"},\"x\":{\"field\":\"x\"},\"y\":{\"field\":\"y\"}},\"id\":\"dddc9942-d232-45e2-9f33-d107182b43ba\",\"type\":\"Rect\"},{\"attributes\":{\"callback\":null,\"column_names\":[\"label\",\"y\",\"line_alpha\",\"x\",\"line_color\",\"height\",\"color\",\"width\",\"fill_alpha\"],\"data\":{\"chart_index\":[\"(1.733333, 1.866667]\"],\"color\":[\"LightSlateGray\"],\"fill_alpha\":[0.8],\"height\":[0.0],\"label\":[\"(1.733333, 1.866667]\"],\"line_alpha\":[1.0],\"line_color\":[\"black\"],\"width\":[0.1333333333333333],\"x\":[\"1.8\"],\"y\":[0.0]}},\"id\":\"25bb41b4-ab1d-4b9a-a3fe-ced2e9243c55\",\"type\":\"ColumnDataSource\"},{\"attributes\":{\"callback\":null,\"column_names\":[\"label\",\"y\",\"line_alpha\",\"x\",\"line_color\",\"height\",\"color\",\"width\",\"fill_alpha\"],\"data\":{\"chart_index\":[\"(0.800000, 0.933333]\"],\"color\":[\"LightSlateGray\"],\"fill_alpha\":[0.8],\"height\":[0.0],\"label\":[\"(0.800000, 0.933333]\"],\"line_alpha\":[1.0],\"line_color\":[\"black\"],\"width\":[0.1333333333333333],\"x\":[\"0.8666665\"],\"y\":[0.0]}},\"id\":\"b90d168b-475a-4e8d-8d0a-9f84f044f238\",\"type\":\"ColumnDataSource\"},{\"attributes\":{\"data_source\":{\"id\":\"b90d168b-475a-4e8d-8d0a-9f84f044f238\",\"type\":\"ColumnDataSource\"},\"glyph\":{\"id\":\"064da9a8-289f-4917-b749-9fef243f22df\",\"type\":\"Rect\"},\"hover_glyph\":null,\"nonselection_glyph\":null,\"selection_glyph\":null},\"id\":\"863aedfe-d1b8-4008-ab3d-97d0394eff30\",\"type\":\"GlyphRenderer\"},{\"attributes\":{\"callback\":null,\"column_names\":[\"label\",\"y\",\"line_alpha\",\"x\",\"line_color\",\"height\",\"color\",\"width\",\"fill_alpha\"],\"data\":{\"chart_index\":[\"(0.266667, 0.400000]\"],\"color\":[\"LightSlateGray\"],\"fill_alpha\":[0.8],\"height\":[0.0],\"label\":[\"(0.266667, 0.400000]\"],\"line_alpha\":[1.0],\"line_color\":[\"black\"],\"width\":[0.13333333333333336],\"x\":[\"0.3333335\"],\"y\":[0.0]}},\"id\":\"4088ea5d-b4b9-4b46-aa85-6167109479ea\",\"type\":\"ColumnDataSource\"},{\"attributes\":{\"fill_alpha\":{\"field\":\"fill_alpha\"},\"fill_color\":{\"field\":\"color\"},\"height\":{\"field\":\"height\",\"units\":\"data\"},\"line_color\":{\"field\":\"line_color\"},\"width\":{\"field\":\"width\",\"units\":\"data\"},\"x\":{\"field\":\"x\"},\"y\":{\"field\":\"y\"}},\"id\":\"1e47ae23-dc4d-4f78-850f-24261e35fa56\",\"type\":\"Rect\"},{\"attributes\":{\"data_source\":{\"id\":\"9f8ff0fd-1765-4275-8fdc-d647a2b63feb\",\"type\":\"ColumnDataSource\"},\"glyph\":{\"id\":\"de0061d4-efec-47e4-bbd2-9b5ca9636376\",\"type\":\"Rect\"},\"hover_glyph\":null,\"nonselection_glyph\":null,\"selection_glyph\":null},\"id\":\"f3efd7ac-417f-4f25-abf1-ed69fa336066\",\"type\":\"GlyphRenderer\"},{\"attributes\":{\"fill_alpha\":{\"field\":\"fill_alpha\"},\"fill_color\":{\"field\":\"color\"},\"height\":{\"field\":\"height\",\"units\":\"data\"},\"line_color\":{\"field\":\"line_color\"},\"width\":{\"field\":\"width\",\"units\":\"data\"},\"x\":{\"field\":\"x\"},\"y\":{\"field\":\"y\"}},\"id\":\"e350a7a5-d4b8-4751-9825-b57035caaab9\",\"type\":\"Rect\"},{\"attributes\":{\"data_source\":{\"id\":\"7cc0ace5-10f4-46b8-8901-5e44d85fe31d\",\"type\":\"ColumnDataSource\"},\"glyph\":{\"id\":\"72fc2efb-8ed7-4eb4-ac81-e79f5f94c76d\",\"type\":\"Rect\"},\"hover_glyph\":null,\"nonselection_glyph\":null,\"selection_glyph\":null},\"id\":\"536f5c91-6aeb-4908-8c5e-c5316009e977\",\"type\":\"GlyphRenderer\"},{\"attributes\":{\"callback\":null,\"column_names\":[\"label\",\"y\",\"line_alpha\",\"x\",\"line_color\",\"height\",\"color\",\"width\",\"fill_alpha\"],\"data\":{\"chart_index\":[\"(1.066667, 1.200000]\"],\"color\":[\"LightSlateGray\"],\"fill_alpha\":[0.8],\"height\":[0.0],\"label\":[\"(1.066667, 1.200000]\"],\"line_alpha\":[1.0],\"line_color\":[\"black\"],\"width\":[0.1333333333333333],\"x\":[\"1.1333335\"],\"y\":[0.0]}},\"id\":\"2ceb53de-0e05-4c9c-9c7e-63c95314546e\",\"type\":\"ColumnDataSource\"},{\"attributes\":{\"fill_alpha\":{\"field\":\"fill_alpha\"},\"fill_color\":{\"field\":\"color\"},\"height\":{\"field\":\"height\",\"units\":\"data\"},\"line_color\":{\"field\":\"line_color\"},\"width\":{\"field\":\"width\",\"units\":\"data\"},\"x\":{\"field\":\"x\"},\"y\":{\"field\":\"y\"}},\"id\":\"f9ce928e-0420-4096-97b0-c3a5ad930b98\",\"type\":\"Rect\"},{\"attributes\":{\"data_source\":{\"id\":\"0f04663a-af15-4147-bd0b-252788f8436a\",\"type\":\"ColumnDataSource\"},\"glyph\":{\"id\":\"dc1e22a9-a83e-45f5-a01f-53ba34d86d05\",\"type\":\"Rect\"},\"hover_glyph\":null,\"nonselection_glyph\":null,\"selection_glyph\":null},\"id\":\"e6a1bbd8-13d9-4a50-b568-6fc87f69b874\",\"type\":\"GlyphRenderer\"},{\"attributes\":{\"callback\":null,\"column_names\":[\"label\",\"y\",\"line_alpha\",\"x\",\"line_color\",\"height\",\"color\",\"width\",\"fill_alpha\"],\"data\":{\"chart_index\":[\"(0.666667, 0.800000]\"],\"color\":[\"LightSlateGray\"],\"fill_alpha\":[0.8],\"height\":[0.0],\"label\":[\"(0.666667, 0.800000]\"],\"line_alpha\":[1.0],\"line_color\":[\"black\"],\"width\":[0.13333333333333341],\"x\":[\"0.7333335000000001\"],\"y\":[0.0]}},\"id\":\"923c709d-453a-49ad-bf61-11cf63cf887a\",\"type\":\"ColumnDataSource\"},{\"attributes\":{\"fill_alpha\":{\"field\":\"fill_alpha\"},\"fill_color\":{\"field\":\"color\"},\"height\":{\"field\":\"height\",\"units\":\"data\"},\"line_color\":{\"field\":\"line_color\"},\"width\":{\"field\":\"width\",\"units\":\"data\"},\"x\":{\"field\":\"x\"},\"y\":{\"field\":\"y\"}},\"id\":\"7d7cc919-7091-4f48-930c-6ebf437a414f\",\"type\":\"Rect\"},{\"attributes\":{\"data_source\":{\"id\":\"25bb41b4-ab1d-4b9a-a3fe-ced2e9243c55\",\"type\":\"ColumnDataSource\"},\"glyph\":{\"id\":\"1e47ae23-dc4d-4f78-850f-24261e35fa56\",\"type\":\"Rect\"},\"hover_glyph\":null,\"nonselection_glyph\":null,\"selection_glyph\":null},\"id\":\"0d292c67-26fd-4425-920b-924d44ae447b\",\"type\":\"GlyphRenderer\"},{\"attributes\":{\"data_source\":{\"id\":\"8beea80c-8d33-4e86-a878-153f5dd4f891\",\"type\":\"ColumnDataSource\"},\"glyph\":{\"id\":\"0a24ac31-4308-43a7-9d27-6d23bdb8b116\",\"type\":\"Rect\"},\"hover_glyph\":null,\"nonselection_glyph\":null,\"selection_glyph\":null},\"id\":\"7ccc0ef5-5590-45ee-acc7-d3a8b340835f\",\"type\":\"GlyphRenderer\"},{\"attributes\":{\"data_source\":{\"id\":\"2ceb53de-0e05-4c9c-9c7e-63c95314546e\",\"type\":\"ColumnDataSource\"},\"glyph\":{\"id\":\"2246f28a-5b64-4d03-9cde-f37cb7b4826a\",\"type\":\"Rect\"},\"hover_glyph\":null,\"nonselection_glyph\":null,\"selection_glyph\":null},\"id\":\"76f54593-94d9-4ce1-8e54-b8d48af191d8\",\"type\":\"GlyphRenderer\"},{\"attributes\":{\"fill_alpha\":{\"field\":\"fill_alpha\"},\"fill_color\":{\"field\":\"color\"},\"height\":{\"field\":\"height\",\"units\":\"data\"},\"line_color\":{\"field\":\"line_color\"},\"width\":{\"field\":\"width\",\"units\":\"data\"},\"x\":{\"field\":\"x\"},\"y\":{\"field\":\"y\"}},\"id\":\"0ae22134-7b66-4aae-9a10-97f38271c8a4\",\"type\":\"Rect\"},{\"attributes\":{\"below\":[{\"id\":\"4f3f5114-acb8-4dbd-ae06-5ca3f43c4b4e\",\"type\":\"LinearAxis\"}],\"css_classes\":null,\"left\":[{\"id\":\"861755ed-a9c2-4877-8989-0fe6b9309233\",\"type\":\"LinearAxis\"}],\"plot_height\":250,\"renderers\":[{\"id\":\"125448ec-488e-4f3d-9ce0-873c54532066\",\"type\":\"BoxAnnotation\"},{\"id\":\"c446b4d7-91d6-4a63-a457-ed550b1e3025\",\"type\":\"GlyphRenderer\"},{\"id\":\"abb2ba0a-3ca1-4272-bf58-fc2cf66267f1\",\"type\":\"GlyphRenderer\"},{\"id\":\"393aceb9-d831-459d-8158-70ce09229855\",\"type\":\"GlyphRenderer\"},{\"id\":\"cdcab416-c752-4029-9aea-083c9cfc8a2d\",\"type\":\"GlyphRenderer\"},{\"id\":\"953d08ff-4b5b-44cf-85e5-d063be65a5d4\",\"type\":\"GlyphRenderer\"},{\"id\":\"09dc5ff4-c150-4b7d-88f3-b23e7e10fd7d\",\"type\":\"GlyphRenderer\"},{\"id\":\"863aedfe-d1b8-4008-ab3d-97d0394eff30\",\"type\":\"GlyphRenderer\"},{\"id\":\"536f5c91-6aeb-4908-8c5e-c5316009e977\",\"type\":\"GlyphRenderer\"},{\"id\":\"76f54593-94d9-4ce1-8e54-b8d48af191d8\",\"type\":\"GlyphRenderer\"},{\"id\":\"f3efd7ac-417f-4f25-abf1-ed69fa336066\",\"type\":\"GlyphRenderer\"},{\"id\":\"e6a1bbd8-13d9-4a50-b568-6fc87f69b874\",\"type\":\"GlyphRenderer\"},{\"id\":\"cc18f987-1b88-466a-92cf-23919151abe8\",\"type\":\"GlyphRenderer\"},{\"id\":\"b9bf9195-96ed-4549-8dde-6c31b80b2b19\",\"type\":\"GlyphRenderer\"},{\"id\":\"0d292c67-26fd-4425-920b-924d44ae447b\",\"type\":\"GlyphRenderer\"},{\"id\":\"7ccc0ef5-5590-45ee-acc7-d3a8b340835f\",\"type\":\"GlyphRenderer\"},{\"id\":\"7efef38b-9752-4d60-a70f-74de4020dc80\",\"type\":\"Legend\"},{\"id\":\"4f3f5114-acb8-4dbd-ae06-5ca3f43c4b4e\",\"type\":\"LinearAxis\"},{\"id\":\"861755ed-a9c2-4877-8989-0fe6b9309233\",\"type\":\"LinearAxis\"},{\"id\":\"2fabcb95-1e5c-446e-a3e1-ad6204a51684\",\"type\":\"Grid\"}],\"title\":{\"id\":\"7719821b-c96e-4940-92ce-569caad875ba\",\"type\":\"Title\"},\"tool_events\":{\"id\":\"20fed968-2547-4297-9382-bce801ee17c8\",\"type\":\"ToolEvents\"},\"toolbar\":{\"id\":\"ac4d8641-07b1-4aea-b714-f179ab48e033\",\"type\":\"Toolbar\"},\"x_mapper_type\":\"auto\",\"x_range\":{\"id\":\"502c63bf-5584-46b3-a324-63982a585bcc\",\"type\":\"Range1d\"},\"y_mapper_type\":\"auto\",\"y_range\":{\"id\":\"740729cd-3403-4b00-a849-76900a54e91f\",\"type\":\"Range1d\"}},\"id\":\"7cb01e28-bbb4-4b6c-8443-2b6ccb69ec8e\",\"subtype\":\"Chart\",\"type\":\"Plot\"},{\"attributes\":{\"fill_alpha\":{\"field\":\"fill_alpha\"},\"fill_color\":{\"field\":\"color\"},\"height\":{\"field\":\"height\",\"units\":\"data\"},\"line_color\":{\"field\":\"line_color\"},\"width\":{\"field\":\"width\",\"units\":\"data\"},\"x\":{\"field\":\"x\"},\"y\":{\"field\":\"y\"}},\"id\":\"826b839f-af1b-4d24-b4a6-acd47ad3408d\",\"type\":\"Rect\"},{\"attributes\":{\"data_source\":{\"id\":\"b121def1-52ed-488d-8f9d-624f84f8897e\",\"type\":\"ColumnDataSource\"},\"glyph\":{\"id\":\"826b839f-af1b-4d24-b4a6-acd47ad3408d\",\"type\":\"Rect\"},\"hover_glyph\":null,\"nonselection_glyph\":null,\"selection_glyph\":null},\"id\":\"abb2ba0a-3ca1-4272-bf58-fc2cf66267f1\",\"type\":\"GlyphRenderer\"},{\"attributes\":{\"fill_alpha\":{\"field\":\"fill_alpha\"},\"fill_color\":{\"field\":\"color\"},\"height\":{\"field\":\"height\",\"units\":\"data\"},\"line_color\":{\"field\":\"line_color\"},\"width\":{\"field\":\"width\",\"units\":\"data\"},\"x\":{\"field\":\"x\"},\"y\":{\"field\":\"y\"}},\"id\":\"064da9a8-289f-4917-b749-9fef243f22df\",\"type\":\"Rect\"},{\"attributes\":{\"callback\":null,\"end\":2.0500001666666665,\"start\":-0.050000166666666665},\"id\":\"502c63bf-5584-46b3-a324-63982a585bcc\",\"type\":\"Range1d\"},{\"attributes\":{\"data_source\":{\"id\":\"998e0958-c3ac-4766-9c0a-6cc3b0a929f2\",\"type\":\"ColumnDataSource\"},\"glyph\":{\"id\":\"0ae22134-7b66-4aae-9a10-97f38271c8a4\",\"type\":\"Rect\"},\"hover_glyph\":null,\"nonselection_glyph\":null,\"selection_glyph\":null},\"id\":\"b9bf9195-96ed-4549-8dde-6c31b80b2b19\",\"type\":\"GlyphRenderer\"},{\"attributes\":{\"data_source\":{\"id\":\"923c709d-453a-49ad-bf61-11cf63cf887a\",\"type\":\"ColumnDataSource\"},\"glyph\":{\"id\":\"6c5b2a7b-c09e-4b10-bead-8da606878beb\",\"type\":\"Rect\"},\"hover_glyph\":null,\"nonselection_glyph\":null,\"selection_glyph\":null},\"id\":\"09dc5ff4-c150-4b7d-88f3-b23e7e10fd7d\",\"type\":\"GlyphRenderer\"},{\"attributes\":{\"callback\":null,\"column_names\":[\"label\",\"y\",\"line_alpha\",\"x\",\"line_color\",\"height\",\"color\",\"width\",\"fill_alpha\"],\"data\":{\"chart_index\":[\"(1.866667, 2.000000]\"],\"color\":[\"LightSlateGray\"],\"fill_alpha\":[0.8],\"height\":[4.0],\"label\":[\"(1.866667, 2.000000]\"],\"line_alpha\":[1.0],\"line_color\":[\"black\"],\"width\":[0.1333333333333333],\"x\":[\"1.9333335\"],\"y\":[2.0]}},\"id\":\"8beea80c-8d33-4e86-a878-153f5dd4f891\",\"type\":\"ColumnDataSource\"},{\"attributes\":{},\"id\":\"20fed968-2547-4297-9382-bce801ee17c8\",\"type\":\"ToolEvents\"},{\"attributes\":{\"fill_alpha\":{\"field\":\"fill_alpha\"},\"fill_color\":{\"field\":\"color\"},\"height\":{\"field\":\"height\",\"units\":\"data\"},\"line_color\":{\"field\":\"line_color\"},\"width\":{\"field\":\"width\",\"units\":\"data\"},\"x\":{\"field\":\"x\"},\"y\":{\"field\":\"y\"}},\"id\":\"72fc2efb-8ed7-4eb4-ac81-e79f5f94c76d\",\"type\":\"Rect\"},{\"attributes\":{\"fill_alpha\":{\"field\":\"fill_alpha\"},\"fill_color\":{\"field\":\"color\"},\"height\":{\"field\":\"height\",\"units\":\"data\"},\"line_color\":{\"field\":\"line_color\"},\"width\":{\"field\":\"width\",\"units\":\"data\"},\"x\":{\"field\":\"x\"},\"y\":{\"field\":\"y\"}},\"id\":\"6c5b2a7b-c09e-4b10-bead-8da606878beb\",\"type\":\"Rect\"},{\"attributes\":{\"callback\":null,\"column_names\":[\"label\",\"y\",\"line_alpha\",\"x\",\"line_color\",\"height\",\"color\",\"width\",\"fill_alpha\"],\"data\":{\"chart_index\":[\"(0.133333, 0.266667]\"],\"color\":[\"LightSlateGray\"],\"fill_alpha\":[0.8],\"height\":[0.0],\"label\":[\"(0.133333, 0.266667]\"],\"line_alpha\":[1.0],\"line_color\":[\"black\"],\"width\":[0.13333333333333333],\"x\":[\"0.2\"],\"y\":[0.0]}},\"id\":\"b121def1-52ed-488d-8f9d-624f84f8897e\",\"type\":\"ColumnDataSource\"},{\"attributes\":{\"fill_alpha\":{\"field\":\"fill_alpha\"},\"fill_color\":{\"field\":\"color\"},\"height\":{\"field\":\"height\",\"units\":\"data\"},\"line_color\":{\"field\":\"line_color\"},\"width\":{\"field\":\"width\",\"units\":\"data\"},\"x\":{\"field\":\"x\"},\"y\":{\"field\":\"y\"}},\"id\":\"2246f28a-5b64-4d03-9cde-f37cb7b4826a\",\"type\":\"Rect\"},{\"attributes\":{\"plot\":{\"id\":\"7cb01e28-bbb4-4b6c-8443-2b6ccb69ec8e\",\"subtype\":\"Chart\",\"type\":\"Plot\"}},\"id\":\"3fd678d0-1f1d-4514-b20d-8e85b9e687ea\",\"type\":\"ResetTool\"},{\"attributes\":{\"callback\":null,\"column_names\":[\"label\",\"y\",\"line_alpha\",\"x\",\"line_color\",\"height\",\"color\",\"width\",\"fill_alpha\"],\"data\":{\"chart_index\":[\"(1.200000, 1.333333]\"],\"color\":[\"LightSlateGray\"],\"fill_alpha\":[0.8],\"height\":[0.0],\"label\":[\"(1.200000, 1.333333]\"],\"line_alpha\":[1.0],\"line_color\":[\"black\"],\"width\":[0.1333333333333333],\"x\":[\"1.2666665\"],\"y\":[0.0]}},\"id\":\"9f8ff0fd-1765-4275-8fdc-d647a2b63feb\",\"type\":\"ColumnDataSource\"},{\"attributes\":{\"axis_label\":\"Frequency\",\"formatter\":{\"id\":\"f2bc4e6d-ac1e-4beb-a170-af56044fa8db\",\"type\":\"BasicTickFormatter\"},\"plot\":{\"id\":\"7cb01e28-bbb4-4b6c-8443-2b6ccb69ec8e\",\"subtype\":\"Chart\",\"type\":\"Plot\"},\"ticker\":{\"id\":\"4a10cab5-42b6-4d0a-ba5c-dbd3015e2e1b\",\"type\":\"BasicTicker\"}},\"id\":\"861755ed-a9c2-4877-8989-0fe6b9309233\",\"type\":\"LinearAxis\"},{\"attributes\":{\"plot\":{\"id\":\"7cb01e28-bbb4-4b6c-8443-2b6ccb69ec8e\",\"subtype\":\"Chart\",\"type\":\"Plot\"}},\"id\":\"7b1d6089-8557-4c6c-a387-cefcf9bd7461\",\"type\":\"HelpTool\"},{\"attributes\":{\"plot\":null,\"text\":\"Homozygous_Reference_HG002: Consensust GT\"},\"id\":\"7719821b-c96e-4940-92ce-569caad875ba\",\"type\":\"Title\"},{\"attributes\":{\"active_drag\":\"auto\",\"active_scroll\":\"auto\",\"active_tap\":\"auto\",\"tools\":[{\"id\":\"fc3fc936-6198-43a5-9c12-d26cd79d84e7\",\"type\":\"PanTool\"},{\"id\":\"3ac71ffe-5859-4c94-9f2e-804a9eb08db3\",\"type\":\"WheelZoomTool\"},{\"id\":\"5b7502fd-e79e-40f9-bc23-b2b83874f5f4\",\"type\":\"BoxZoomTool\"},{\"id\":\"2202f26b-4920-4bb7-8a36-34ee7f4a2d95\",\"type\":\"SaveTool\"},{\"id\":\"3fd678d0-1f1d-4514-b20d-8e85b9e687ea\",\"type\":\"ResetTool\"},{\"id\":\"7b1d6089-8557-4c6c-a387-cefcf9bd7461\",\"type\":\"HelpTool\"}]},\"id\":\"ac4d8641-07b1-4aea-b714-f179ab48e033\",\"type\":\"Toolbar\"},{\"attributes\":{\"plot\":{\"id\":\"7cb01e28-bbb4-4b6c-8443-2b6ccb69ec8e\",\"subtype\":\"Chart\",\"type\":\"Plot\"}},\"id\":\"fc3fc936-6198-43a5-9c12-d26cd79d84e7\",\"type\":\"PanTool\"},{\"attributes\":{\"data_source\":{\"id\":\"b0b0b20b-34b4-4b8b-9fc6-737fbfff323d\",\"type\":\"ColumnDataSource\"},\"glyph\":{\"id\":\"e350a7a5-d4b8-4751-9825-b57035caaab9\",\"type\":\"Rect\"},\"hover_glyph\":null,\"nonselection_glyph\":null,\"selection_glyph\":null},\"id\":\"cdcab416-c752-4029-9aea-083c9cfc8a2d\",\"type\":\"GlyphRenderer\"},{\"attributes\":{\"plot\":{\"id\":\"7cb01e28-bbb4-4b6c-8443-2b6ccb69ec8e\",\"subtype\":\"Chart\",\"type\":\"Plot\"}},\"id\":\"2202f26b-4920-4bb7-8a36-34ee7f4a2d95\",\"type\":\"SaveTool\"},{\"attributes\":{\"dimension\":1,\"plot\":{\"id\":\"7cb01e28-bbb4-4b6c-8443-2b6ccb69ec8e\",\"subtype\":\"Chart\",\"type\":\"Plot\"},\"ticker\":{\"id\":\"4a10cab5-42b6-4d0a-ba5c-dbd3015e2e1b\",\"type\":\"BasicTicker\"}},\"id\":\"2fabcb95-1e5c-446e-a3e1-ad6204a51684\",\"type\":\"Grid\"},{\"attributes\":{\"callback\":null,\"column_names\":[\"label\",\"y\",\"line_alpha\",\"x\",\"line_color\",\"height\",\"color\",\"width\",\"fill_alpha\"],\"data\":{\"chart_index\":[\"[0.000000, 0.133333]\"],\"color\":[\"LightSlateGray\"],\"fill_alpha\":[0.8],\"height\":[515.0],\"label\":[\"[0.000000, 0.133333]\"],\"line_alpha\":[1.0],\"line_color\":[\"black\"],\"width\":[0.13333333333333333],\"x\":[\"0.0666665\"],\"y\":[257.5]}},\"id\":\"4dc13be4-e143-40d8-8399-304a73c66962\",\"type\":\"ColumnDataSource\"},{\"attributes\":{\"fill_alpha\":{\"field\":\"fill_alpha\"},\"fill_color\":{\"field\":\"color\"},\"height\":{\"field\":\"height\",\"units\":\"data\"},\"line_color\":{\"field\":\"line_color\"},\"width\":{\"field\":\"width\",\"units\":\"data\"},\"x\":{\"field\":\"x\"},\"y\":{\"field\":\"y\"}},\"id\":\"0a24ac31-4308-43a7-9d27-6d23bdb8b116\",\"type\":\"Rect\"},{\"attributes\":{},\"id\":\"4a10cab5-42b6-4d0a-ba5c-dbd3015e2e1b\",\"type\":\"BasicTicker\"},{\"attributes\":{},\"id\":\"1f8346e8-873e-4f71-95ba-6e6283e87a58\",\"type\":\"BasicTickFormatter\"},{\"attributes\":{\"fill_alpha\":{\"field\":\"fill_alpha\"},\"fill_color\":{\"field\":\"color\"},\"height\":{\"field\":\"height\",\"units\":\"data\"},\"line_color\":{\"field\":\"line_color\"},\"width\":{\"field\":\"width\",\"units\":\"data\"},\"x\":{\"field\":\"x\"},\"y\":{\"field\":\"y\"}},\"id\":\"dc1e22a9-a83e-45f5-a01f-53ba34d86d05\",\"type\":\"Rect\"},{\"attributes\":{\"callback\":null,\"column_names\":[\"label\",\"y\",\"line_alpha\",\"x\",\"line_color\",\"height\",\"color\",\"width\",\"fill_alpha\"],\"data\":{\"chart_index\":[\"(0.933333, 1.066667]\"],\"color\":[\"LightSlateGray\"],\"fill_alpha\":[0.8],\"height\":[46.0],\"label\":[\"(0.933333, 1.066667]\"],\"line_alpha\":[1.0],\"line_color\":[\"black\"],\"width\":[0.1333333333333333],\"x\":[\"1.0\"],\"y\":[23.0]}},\"id\":\"7cc0ace5-10f4-46b8-8901-5e44d85fe31d\",\"type\":\"ColumnDataSource\"},{\"attributes\":{\"data_source\":{\"id\":\"527e23b1-ad78-4386-bdc4-b591e2a9747c\",\"type\":\"ColumnDataSource\"},\"glyph\":{\"id\":\"7d7cc919-7091-4f48-930c-6ebf437a414f\",\"type\":\"Rect\"},\"hover_glyph\":null,\"nonselection_glyph\":null,\"selection_glyph\":null},\"id\":\"953d08ff-4b5b-44cf-85e5-d063be65a5d4\",\"type\":\"GlyphRenderer\"},{\"attributes\":{\"bottom_units\":\"screen\",\"fill_alpha\":{\"value\":0.5},\"fill_color\":{\"value\":\"lightgrey\"},\"left_units\":\"screen\",\"level\":\"overlay\",\"line_alpha\":{\"value\":1.0},\"line_color\":{\"value\":\"black\"},\"line_dash\":[4,4],\"line_width\":{\"value\":2},\"plot\":null,\"render_mode\":\"css\",\"right_units\":\"screen\",\"top_units\":\"screen\"},\"id\":\"125448ec-488e-4f3d-9ce0-873c54532066\",\"type\":\"BoxAnnotation\"},{\"attributes\":{\"callback\":null,\"column_names\":[\"label\",\"y\",\"line_alpha\",\"x\",\"line_color\",\"height\",\"color\",\"width\",\"fill_alpha\"],\"data\":{\"chart_index\":[\"(1.600000, 1.733333]\"],\"color\":[\"LightSlateGray\"],\"fill_alpha\":[0.8],\"height\":[0.0],\"label\":[\"(1.600000, 1.733333]\"],\"line_alpha\":[1.0],\"line_color\":[\"black\"],\"width\":[0.1333333333333333],\"x\":[\"1.6666665\"],\"y\":[0.0]}},\"id\":\"998e0958-c3ac-4766-9c0a-6cc3b0a929f2\",\"type\":\"ColumnDataSource\"},{\"attributes\":{\"data_source\":{\"id\":\"4088ea5d-b4b9-4b46-aa85-6167109479ea\",\"type\":\"ColumnDataSource\"},\"glyph\":{\"id\":\"f9ce928e-0420-4096-97b0-c3a5ad930b98\",\"type\":\"Rect\"},\"hover_glyph\":null,\"nonselection_glyph\":null,\"selection_glyph\":null},\"id\":\"393aceb9-d831-459d-8158-70ce09229855\",\"type\":\"GlyphRenderer\"},{\"attributes\":{\"plot\":{\"id\":\"7cb01e28-bbb4-4b6c-8443-2b6ccb69ec8e\",\"subtype\":\"Chart\",\"type\":\"Plot\"}},\"id\":\"3ac71ffe-5859-4c94-9f2e-804a9eb08db3\",\"type\":\"WheelZoomTool\"},{\"attributes\":{\"callback\":null,\"column_names\":[\"label\",\"y\",\"line_alpha\",\"x\",\"line_color\",\"height\",\"color\",\"width\",\"fill_alpha\"],\"data\":{\"chart_index\":[\"(0.533333, 0.666667]\"],\"color\":[\"LightSlateGray\"],\"fill_alpha\":[0.8],\"height\":[0.0],\"label\":[\"(0.533333, 0.666667]\"],\"line_alpha\":[1.0],\"line_color\":[\"black\"],\"width\":[0.1333333333333333],\"x\":[\"0.6\"],\"y\":[0.0]}},\"id\":\"527e23b1-ad78-4386-bdc4-b591e2a9747c\",\"type\":\"ColumnDataSource\"},{\"attributes\":{\"data_source\":{\"id\":\"f07cf48b-4c86-4f61-aa11-366e39fbe9e2\",\"type\":\"ColumnDataSource\"},\"glyph\":{\"id\":\"dddc9942-d232-45e2-9f33-d107182b43ba\",\"type\":\"Rect\"},\"hover_glyph\":null,\"nonselection_glyph\":null,\"selection_glyph\":null},\"id\":\"cc18f987-1b88-466a-92cf-23919151abe8\",\"type\":\"GlyphRenderer\"},{\"attributes\":{\"callback\":null,\"column_names\":[\"label\",\"y\",\"line_alpha\",\"x\",\"line_color\",\"height\",\"color\",\"width\",\"fill_alpha\"],\"data\":{\"chart_index\":[\"(1.466667, 1.600000]\"],\"color\":[\"LightSlateGray\"],\"fill_alpha\":[0.8],\"height\":[0.0],\"label\":[\"(1.466667, 1.600000]\"],\"line_alpha\":[1.0],\"line_color\":[\"black\"],\"width\":[0.13333333333333353],\"x\":[\"1.5333335\"],\"y\":[0.0]}},\"id\":\"f07cf48b-4c86-4f61-aa11-366e39fbe9e2\",\"type\":\"ColumnDataSource\"},{\"attributes\":{\"overlay\":{\"id\":\"125448ec-488e-4f3d-9ce0-873c54532066\",\"type\":\"BoxAnnotation\"},\"plot\":{\"id\":\"7cb01e28-bbb4-4b6c-8443-2b6ccb69ec8e\",\"subtype\":\"Chart\",\"type\":\"Plot\"}},\"id\":\"5b7502fd-e79e-40f9-bc23-b2b83874f5f4\",\"type\":\"BoxZoomTool\"},{\"attributes\":{},\"id\":\"0d8aa2a6-292f-45ba-94ac-0b837a005b95\",\"type\":\"BasicTicker\"},{\"attributes\":{},\"id\":\"f2bc4e6d-ac1e-4beb-a170-af56044fa8db\",\"type\":\"BasicTickFormatter\"},{\"attributes\":{\"location\":\"top_left\",\"plot\":{\"id\":\"7cb01e28-bbb4-4b6c-8443-2b6ccb69ec8e\",\"subtype\":\"Chart\",\"type\":\"Plot\"}},\"id\":\"7efef38b-9752-4d60-a70f-74de4020dc80\",\"type\":\"Legend\"},{\"attributes\":{\"callback\":null,\"end\":566.5},\"id\":\"740729cd-3403-4b00-a849-76900a54e91f\",\"type\":\"Range1d\"}],\"root_ids\":[\"7cb01e28-bbb4-4b6c-8443-2b6ccb69ec8e\"]},\"title\":\"Bokeh Application\",\"version\":\"0.12.4\"}};\n",
       "            var render_items = [{\"docid\":\"38d8f2a4-bfa0-48e4-bee2-c736a93b3104\",\"elementid\":\"59d8efbf-6f10-43f6-bd7c-5a30e4e0a0c4\",\"modelid\":\"7cb01e28-bbb4-4b6c-8443-2b6ccb69ec8e\"}];\n",
       "            \n",
       "            Bokeh.embed.embed_items(docs_json, render_items);\n",
       "          };\n",
       "          if (document.readyState != \"loading\") fn();\n",
       "          else document.addEventListener(\"DOMContentLoaded\", fn);\n",
       "        })();\n",
       "      },\n",
       "      function(Bokeh) {\n",
       "      }\n",
       "    ];\n",
       "  \n",
       "    function run_inline_js() {\n",
       "      \n",
       "      if ((window.Bokeh !== undefined) || (force === true)) {\n",
       "        for (var i = 0; i < inline_js.length; i++) {\n",
       "          inline_js[i](window.Bokeh);\n",
       "        }if (force === true) {\n",
       "          display_loaded();\n",
       "        }} else if (Date.now() < window._bokeh_timeout) {\n",
       "        setTimeout(run_inline_js, 100);\n",
       "      } else if (!window._bokeh_failed_load) {\n",
       "        console.log(\"Bokeh: BokehJS failed to load within specified timeout.\");\n",
       "        window._bokeh_failed_load = true;\n",
       "      } else if (force !== true) {\n",
       "        var cell = $(document.getElementById(\"59d8efbf-6f10-43f6-bd7c-5a30e4e0a0c4\")).parents('.cell').data().cell;\n",
       "        cell.output_area.append_execute_result(NB_LOAD_WARNING)\n",
       "      }\n",
       "  \n",
       "    }\n",
       "  \n",
       "    if (window._bokeh_is_loading === 0) {\n",
       "      console.log(\"Bokeh: BokehJS loaded, going straight to plotting\");\n",
       "      run_inline_js();\n",
       "    } else {\n",
       "      load_libs(js_urls, function() {\n",
       "        console.log(\"Bokeh: BokehJS plotting callback run at\", now());\n",
       "        run_inline_js();\n",
       "      });\n",
       "    }\n",
       "  }(this));\n",
       "</script>"
      ]
     },
     "metadata": {},
     "output_type": "display_data"
    }
   ],
   "source": [
    "p = figure()\n",
    "p = Histogram(hom_ref, values='GTcons', title='Homozygous_Reference_HG002: Consensust GT', color='LightSlateGray', bins=15, plot_height=250, xlabel=\"GTcons\", ylabel=\"Frequency\")\n",
    "show(p)"
   ]
  },
  {
   "cell_type": "markdown",
   "metadata": {},
   "source": [
    "** Inaccurate Call **"
   ]
  },
  {
   "cell_type": "code",
   "execution_count": 62,
   "metadata": {},
   "outputs": [
    {
     "data": {
      "text/html": [
       "<div>\n",
       "<table border=\"1\" class=\"dataframe\">\n",
       "  <thead>\n",
       "    <tr style=\"text-align: right;\">\n",
       "      <th></th>\n",
       "      <th>Ill300x.GT</th>\n",
       "      <th>Ill300x.alt_alnScore_mean</th>\n",
       "      <th>Ill300x.alt_alnScore_std</th>\n",
       "      <th>Ill300x.alt_count</th>\n",
       "      <th>Ill300x.alt_insertSize_mean</th>\n",
       "      <th>Ill300x.alt_insertSize_std</th>\n",
       "      <th>Ill300x.alt_reason_alignmentScore</th>\n",
       "      <th>Ill300x.alt_reason_insertSizeScore</th>\n",
       "      <th>Ill300x.alt_reason_orientation</th>\n",
       "      <th>Ill300x.amb_alnScore_mean</th>\n",
       "      <th>...</th>\n",
       "      <th>refN_pct</th>\n",
       "      <th>segdup_cnt</th>\n",
       "      <th>segdup_pct</th>\n",
       "      <th>start</th>\n",
       "      <th>tandemrep_cnt</th>\n",
       "      <th>tandemrep_pct</th>\n",
       "      <th>predicted_label</th>\n",
       "      <th>GTcons</th>\n",
       "      <th>GTsupp</th>\n",
       "      <th>GTconswithoutIll300x.GT</th>\n",
       "    </tr>\n",
       "  </thead>\n",
       "  <tbody>\n",
       "    <tr>\n",
       "      <th>0</th>\n",
       "      <td>0.0</td>\n",
       "      <td>0.0</td>\n",
       "      <td>0.0</td>\n",
       "      <td>0.0</td>\n",
       "      <td>0.0</td>\n",
       "      <td>0.0</td>\n",
       "      <td>0.0</td>\n",
       "      <td>0.0</td>\n",
       "      <td>0.0</td>\n",
       "      <td>529.107945</td>\n",
       "      <td>...</td>\n",
       "      <td>0.0</td>\n",
       "      <td>0.0</td>\n",
       "      <td>0.0</td>\n",
       "      <td>37568322</td>\n",
       "      <td>3.0</td>\n",
       "      <td>0.818868</td>\n",
       "      <td>2.0</td>\n",
       "      <td>0</td>\n",
       "      <td>4</td>\n",
       "      <td>0</td>\n",
       "    </tr>\n",
       "  </tbody>\n",
       "</table>\n",
       "<p>1 rows × 47 columns</p>\n",
       "</div>"
      ],
      "text/plain": [
       "   Ill300x.GT  Ill300x.alt_alnScore_mean  Ill300x.alt_alnScore_std  \\\n",
       "0         0.0                        0.0                       0.0   \n",
       "\n",
       "   Ill300x.alt_count  Ill300x.alt_insertSize_mean  Ill300x.alt_insertSize_std  \\\n",
       "0                0.0                          0.0                         0.0   \n",
       "\n",
       "   Ill300x.alt_reason_alignmentScore  Ill300x.alt_reason_insertSizeScore  \\\n",
       "0                                0.0                                 0.0   \n",
       "\n",
       "   Ill300x.alt_reason_orientation  Ill300x.amb_alnScore_mean  \\\n",
       "0                             0.0                 529.107945   \n",
       "\n",
       "            ...             refN_pct  segdup_cnt  segdup_pct     start  \\\n",
       "0           ...                  0.0         0.0         0.0  37568322   \n",
       "\n",
       "   tandemrep_cnt  tandemrep_pct  predicted_label  GTcons  GTsupp  \\\n",
       "0            3.0       0.818868              2.0       0       4   \n",
       "\n",
       "   GTconswithoutIll300x.GT  \n",
       "0                        0  \n",
       "\n",
       "[1 rows x 47 columns]"
      ]
     },
     "execution_count": 62,
     "metadata": {},
     "output_type": "execute_result"
    }
   ],
   "source": [
    "ic = X5['predicted_label'] == 2.0\n",
    "inac_call = X5[ic]\n",
    "inac_call.head(1)"
   ]
  },
  {
   "cell_type": "code",
   "execution_count": 63,
   "metadata": {
    "scrolled": true
   },
   "outputs": [
    {
     "data": {
      "text/html": [
       "\n",
       "\n",
       "    <div class=\"bk-root\">\n",
       "        <div class=\"bk-plotdiv\" id=\"549b42c0-9f91-4ba8-98a0-df036376413f\"></div>\n",
       "    </div>\n",
       "<script type=\"text/javascript\">\n",
       "  \n",
       "  (function(global) {\n",
       "    function now() {\n",
       "      return new Date();\n",
       "    }\n",
       "  \n",
       "    var force = false;\n",
       "  \n",
       "    if (typeof (window._bokeh_onload_callbacks) === \"undefined\" || force === true) {\n",
       "      window._bokeh_onload_callbacks = [];\n",
       "      window._bokeh_is_loading = undefined;\n",
       "    }\n",
       "  \n",
       "  \n",
       "    \n",
       "    if (typeof (window._bokeh_timeout) === \"undefined\" || force === true) {\n",
       "      window._bokeh_timeout = Date.now() + 0;\n",
       "      window._bokeh_failed_load = false;\n",
       "    }\n",
       "  \n",
       "    var NB_LOAD_WARNING = {'data': {'text/html':\n",
       "       \"<div style='background-color: #fdd'>\\n\"+\n",
       "       \"<p>\\n\"+\n",
       "       \"BokehJS does not appear to have successfully loaded. If loading BokehJS from CDN, this \\n\"+\n",
       "       \"may be due to a slow or bad network connection. Possible fixes:\\n\"+\n",
       "       \"</p>\\n\"+\n",
       "       \"<ul>\\n\"+\n",
       "       \"<li>re-rerun `output_notebook()` to attempt to load from CDN again, or</li>\\n\"+\n",
       "       \"<li>use INLINE resources instead, as so:</li>\\n\"+\n",
       "       \"</ul>\\n\"+\n",
       "       \"<code>\\n\"+\n",
       "       \"from bokeh.resources import INLINE\\n\"+\n",
       "       \"output_notebook(resources=INLINE)\\n\"+\n",
       "       \"</code>\\n\"+\n",
       "       \"</div>\"}};\n",
       "  \n",
       "    function display_loaded() {\n",
       "      if (window.Bokeh !== undefined) {\n",
       "        document.getElementById(\"549b42c0-9f91-4ba8-98a0-df036376413f\").textContent = \"BokehJS successfully loaded.\";\n",
       "      } else if (Date.now() < window._bokeh_timeout) {\n",
       "        setTimeout(display_loaded, 100)\n",
       "      }\n",
       "    }\n",
       "  \n",
       "    function run_callbacks() {\n",
       "      window._bokeh_onload_callbacks.forEach(function(callback) { callback() });\n",
       "      delete window._bokeh_onload_callbacks\n",
       "      console.info(\"Bokeh: all callbacks have finished\");\n",
       "    }\n",
       "  \n",
       "    function load_libs(js_urls, callback) {\n",
       "      window._bokeh_onload_callbacks.push(callback);\n",
       "      if (window._bokeh_is_loading > 0) {\n",
       "        console.log(\"Bokeh: BokehJS is being loaded, scheduling callback at\", now());\n",
       "        return null;\n",
       "      }\n",
       "      if (js_urls == null || js_urls.length === 0) {\n",
       "        run_callbacks();\n",
       "        return null;\n",
       "      }\n",
       "      console.log(\"Bokeh: BokehJS not loaded, scheduling load and callback at\", now());\n",
       "      window._bokeh_is_loading = js_urls.length;\n",
       "      for (var i = 0; i < js_urls.length; i++) {\n",
       "        var url = js_urls[i];\n",
       "        var s = document.createElement('script');\n",
       "        s.src = url;\n",
       "        s.async = false;\n",
       "        s.onreadystatechange = s.onload = function() {\n",
       "          window._bokeh_is_loading--;\n",
       "          if (window._bokeh_is_loading === 0) {\n",
       "            console.log(\"Bokeh: all BokehJS libraries loaded\");\n",
       "            run_callbacks()\n",
       "          }\n",
       "        };\n",
       "        s.onerror = function() {\n",
       "          console.warn(\"failed to load library \" + url);\n",
       "        };\n",
       "        console.log(\"Bokeh: injecting script tag for BokehJS library: \", url);\n",
       "        document.getElementsByTagName(\"head\")[0].appendChild(s);\n",
       "      }\n",
       "    };var element = document.getElementById(\"549b42c0-9f91-4ba8-98a0-df036376413f\");\n",
       "    if (element == null) {\n",
       "      console.log(\"Bokeh: ERROR: autoload.js configured with elementid '549b42c0-9f91-4ba8-98a0-df036376413f' but no matching script tag was found. \")\n",
       "      return false;\n",
       "    }\n",
       "  \n",
       "    var js_urls = [];\n",
       "  \n",
       "    var inline_js = [\n",
       "      function(Bokeh) {\n",
       "        (function() {\n",
       "          var fn = function() {\n",
       "            var docs_json = {\"f9684a5c-e422-4331-8fcd-ba7ebffd6278\":{\"roots\":{\"references\":[{\"attributes\":{\"callback\":null,\"column_names\":[\"label\",\"y\",\"line_alpha\",\"x\",\"line_color\",\"height\",\"color\",\"width\",\"fill_alpha\"],\"data\":{\"chart_index\":[\"(1.066667, 1.200000]\"],\"color\":[\"LightSlateGray\"],\"fill_alpha\":[0.8],\"height\":[0.0],\"label\":[\"(1.066667, 1.200000]\"],\"line_alpha\":[1.0],\"line_color\":[\"black\"],\"width\":[0.1333333333333333],\"x\":[\"1.1333335\"],\"y\":[0.0]}},\"id\":\"47e13c41-282b-438e-bba0-c2b18f5e35c8\",\"type\":\"ColumnDataSource\"},{\"attributes\":{\"data_source\":{\"id\":\"8999590a-057a-41c0-ba8c-304f48d30da9\",\"type\":\"ColumnDataSource\"},\"glyph\":{\"id\":\"ff3da7ba-b2f8-4b5b-85ab-bc47f3ac6806\",\"type\":\"Rect\"},\"hover_glyph\":null,\"nonselection_glyph\":null,\"selection_glyph\":null},\"id\":\"9efa1222-db63-4adf-a5d5-732bcbf4e800\",\"type\":\"GlyphRenderer\"},{\"attributes\":{\"data_source\":{\"id\":\"2c697ef5-235d-4db2-9f0b-b4b4f839d40d\",\"type\":\"ColumnDataSource\"},\"glyph\":{\"id\":\"c2ae32e2-a748-4bcf-9cff-38737d92f79c\",\"type\":\"Rect\"},\"hover_glyph\":null,\"nonselection_glyph\":null,\"selection_glyph\":null},\"id\":\"a6ed7753-522f-4c9c-b070-8ee83d8e2d46\",\"type\":\"GlyphRenderer\"},{\"attributes\":{\"data_source\":{\"id\":\"21e4846e-6286-44ef-b419-3ccda82b0f71\",\"type\":\"ColumnDataSource\"},\"glyph\":{\"id\":\"0ef6920d-3fd6-4c94-ac1e-ce11092cd57b\",\"type\":\"Rect\"},\"hover_glyph\":null,\"nonselection_glyph\":null,\"selection_glyph\":null},\"id\":\"c326d9fb-9e0e-4a8a-b32b-581a6d011d06\",\"type\":\"GlyphRenderer\"},{\"attributes\":{\"callback\":null,\"end\":2.0500001666666665,\"start\":-0.050000166666666665},\"id\":\"06c7abb1-6161-459f-bade-2d70edf0a1a9\",\"type\":\"Range1d\"},{\"attributes\":{\"callback\":null,\"column_names\":[\"label\",\"y\",\"line_alpha\",\"x\",\"line_color\",\"height\",\"color\",\"width\",\"fill_alpha\"],\"data\":{\"chart_index\":[\"(0.266667, 0.400000]\"],\"color\":[\"LightSlateGray\"],\"fill_alpha\":[0.8],\"height\":[0.0],\"label\":[\"(0.266667, 0.400000]\"],\"line_alpha\":[1.0],\"line_color\":[\"black\"],\"width\":[0.13333333333333336],\"x\":[\"0.3333335\"],\"y\":[0.0]}},\"id\":\"3a759ed1-4366-406f-9bc4-0ac9da518b41\",\"type\":\"ColumnDataSource\"},{\"attributes\":{\"data_source\":{\"id\":\"c44c2637-21c5-40a8-80e5-916ae03880b2\",\"type\":\"ColumnDataSource\"},\"glyph\":{\"id\":\"127b4c56-d79f-40e1-a683-7968b90c33cf\",\"type\":\"Rect\"},\"hover_glyph\":null,\"nonselection_glyph\":null,\"selection_glyph\":null},\"id\":\"05540787-134e-40a9-8b4b-f5de413f7915\",\"type\":\"GlyphRenderer\"},{\"attributes\":{\"data_source\":{\"id\":\"32a05f76-04d6-4f27-b043-8300db075df9\",\"type\":\"ColumnDataSource\"},\"glyph\":{\"id\":\"c9e9b6b2-6f88-46f9-b9f4-34133bdf3b97\",\"type\":\"Rect\"},\"hover_glyph\":null,\"nonselection_glyph\":null,\"selection_glyph\":null},\"id\":\"af9501e0-fd52-4356-a1f3-c71a9ff8df02\",\"type\":\"GlyphRenderer\"},{\"attributes\":{\"callback\":null,\"column_names\":[\"label\",\"y\",\"line_alpha\",\"x\",\"line_color\",\"height\",\"color\",\"width\",\"fill_alpha\"],\"data\":{\"chart_index\":[\"[0.000000, 0.133333]\"],\"color\":[\"LightSlateGray\"],\"fill_alpha\":[0.8],\"height\":[310.0],\"label\":[\"[0.000000, 0.133333]\"],\"line_alpha\":[1.0],\"line_color\":[\"black\"],\"width\":[0.13333333333333333],\"x\":[\"0.0666665\"],\"y\":[155.0]}},\"id\":\"c44c2637-21c5-40a8-80e5-916ae03880b2\",\"type\":\"ColumnDataSource\"},{\"attributes\":{\"fill_alpha\":{\"field\":\"fill_alpha\"},\"fill_color\":{\"field\":\"color\"},\"height\":{\"field\":\"height\",\"units\":\"data\"},\"line_color\":{\"field\":\"line_color\"},\"width\":{\"field\":\"width\",\"units\":\"data\"},\"x\":{\"field\":\"x\"},\"y\":{\"field\":\"y\"}},\"id\":\"540d194c-f665-4a49-b5fe-879a1de1e6ac\",\"type\":\"Rect\"},{\"attributes\":{\"callback\":null,\"column_names\":[\"label\",\"y\",\"line_alpha\",\"x\",\"line_color\",\"height\",\"color\",\"width\",\"fill_alpha\"],\"data\":{\"chart_index\":[\"(1.333333, 1.466667]\"],\"color\":[\"LightSlateGray\"],\"fill_alpha\":[0.8],\"height\":[0.0],\"label\":[\"(1.333333, 1.466667]\"],\"line_alpha\":[1.0],\"line_color\":[\"black\"],\"width\":[0.1333333333333333],\"x\":[\"1.4\"],\"y\":[0.0]}},\"id\":\"a67552f9-ccb0-4885-9736-6357356f5f2d\",\"type\":\"ColumnDataSource\"},{\"attributes\":{\"callback\":null,\"column_names\":[\"label\",\"y\",\"line_alpha\",\"x\",\"line_color\",\"height\",\"color\",\"width\",\"fill_alpha\"],\"data\":{\"chart_index\":[\"(1.466667, 1.600000]\"],\"color\":[\"LightSlateGray\"],\"fill_alpha\":[0.8],\"height\":[0.0],\"label\":[\"(1.466667, 1.600000]\"],\"line_alpha\":[1.0],\"line_color\":[\"black\"],\"width\":[0.13333333333333353],\"x\":[\"1.5333335\"],\"y\":[0.0]}},\"id\":\"32a05f76-04d6-4f27-b043-8300db075df9\",\"type\":\"ColumnDataSource\"},{\"attributes\":{\"callback\":null,\"column_names\":[\"label\",\"y\",\"line_alpha\",\"x\",\"line_color\",\"height\",\"color\",\"width\",\"fill_alpha\"],\"data\":{\"chart_index\":[\"(0.400000, 0.533333]\"],\"color\":[\"LightSlateGray\"],\"fill_alpha\":[0.8],\"height\":[0.0],\"label\":[\"(0.400000, 0.533333]\"],\"line_alpha\":[1.0],\"line_color\":[\"black\"],\"width\":[0.1333333333333333],\"x\":[\"0.4666665\"],\"y\":[0.0]}},\"id\":\"2c697ef5-235d-4db2-9f0b-b4b4f839d40d\",\"type\":\"ColumnDataSource\"},{\"attributes\":{\"data_source\":{\"id\":\"5fb8ec90-15db-4fb8-965d-de7a791c3448\",\"type\":\"ColumnDataSource\"},\"glyph\":{\"id\":\"cea5d734-d5bb-4edd-b052-5ce9b2ae95cf\",\"type\":\"Rect\"},\"hover_glyph\":null,\"nonselection_glyph\":null,\"selection_glyph\":null},\"id\":\"0f8b3c91-da2b-48ed-8dfc-fbf43b3167d0\",\"type\":\"GlyphRenderer\"},{\"attributes\":{\"active_drag\":\"auto\",\"active_scroll\":\"auto\",\"active_tap\":\"auto\",\"tools\":[{\"id\":\"bde8540c-206a-41e8-a0ba-f6fcc517b1cb\",\"type\":\"PanTool\"},{\"id\":\"ea1b7ee1-f473-48f3-a886-d99ecd7b918b\",\"type\":\"WheelZoomTool\"},{\"id\":\"f0625426-a8ae-4ada-b96a-7b47598c0bba\",\"type\":\"BoxZoomTool\"},{\"id\":\"728b508e-28c0-4346-ae05-fb360f689a3f\",\"type\":\"SaveTool\"},{\"id\":\"165e2294-3fac-4b26-8807-4073e17c067b\",\"type\":\"ResetTool\"},{\"id\":\"83358453-4a8e-4778-9b01-073c28427753\",\"type\":\"HelpTool\"}]},\"id\":\"03fb3307-6bb3-436b-af7f-954c7cc4c869\",\"type\":\"Toolbar\"},{\"attributes\":{},\"id\":\"f138925b-9a79-4c6c-ba1c-77dd6f00a8bc\",\"type\":\"BasicTicker\"},{\"attributes\":{\"data_source\":{\"id\":\"47e13c41-282b-438e-bba0-c2b18f5e35c8\",\"type\":\"ColumnDataSource\"},\"glyph\":{\"id\":\"7f8208a7-d654-4576-9af9-b6d18f130ef9\",\"type\":\"Rect\"},\"hover_glyph\":null,\"nonselection_glyph\":null,\"selection_glyph\":null},\"id\":\"d413b3ed-c2e8-44f5-b568-5799e7833f4a\",\"type\":\"GlyphRenderer\"},{\"attributes\":{\"fill_alpha\":{\"field\":\"fill_alpha\"},\"fill_color\":{\"field\":\"color\"},\"height\":{\"field\":\"height\",\"units\":\"data\"},\"line_color\":{\"field\":\"line_color\"},\"width\":{\"field\":\"width\",\"units\":\"data\"},\"x\":{\"field\":\"x\"},\"y\":{\"field\":\"y\"}},\"id\":\"cea5d734-d5bb-4edd-b052-5ce9b2ae95cf\",\"type\":\"Rect\"},{\"attributes\":{\"plot\":{\"id\":\"615e621f-0aa5-4631-9a57-0570066cb634\",\"subtype\":\"Chart\",\"type\":\"Plot\"}},\"id\":\"165e2294-3fac-4b26-8807-4073e17c067b\",\"type\":\"ResetTool\"},{\"attributes\":{},\"id\":\"48522839-25de-4746-b1ed-a04f872d3bb5\",\"type\":\"BasicTickFormatter\"},{\"attributes\":{\"fill_alpha\":{\"field\":\"fill_alpha\"},\"fill_color\":{\"field\":\"color\"},\"height\":{\"field\":\"height\",\"units\":\"data\"},\"line_color\":{\"field\":\"line_color\"},\"width\":{\"field\":\"width\",\"units\":\"data\"},\"x\":{\"field\":\"x\"},\"y\":{\"field\":\"y\"}},\"id\":\"7baf4906-dff3-4450-b471-0cd7dc0a3ff0\",\"type\":\"Rect\"},{\"attributes\":{\"fill_alpha\":{\"field\":\"fill_alpha\"},\"fill_color\":{\"field\":\"color\"},\"height\":{\"field\":\"height\",\"units\":\"data\"},\"line_color\":{\"field\":\"line_color\"},\"width\":{\"field\":\"width\",\"units\":\"data\"},\"x\":{\"field\":\"x\"},\"y\":{\"field\":\"y\"}},\"id\":\"7570f90f-713b-48d9-96f3-7c3b9bc8f2d7\",\"type\":\"Rect\"},{\"attributes\":{\"data_source\":{\"id\":\"af68fafa-954d-478c-b932-e917dace2182\",\"type\":\"ColumnDataSource\"},\"glyph\":{\"id\":\"7baf4906-dff3-4450-b471-0cd7dc0a3ff0\",\"type\":\"Rect\"},\"hover_glyph\":null,\"nonselection_glyph\":null,\"selection_glyph\":null},\"id\":\"65cf0401-da51-4cea-aece-22a35e66b12d\",\"type\":\"GlyphRenderer\"},{\"attributes\":{\"fill_alpha\":{\"field\":\"fill_alpha\"},\"fill_color\":{\"field\":\"color\"},\"height\":{\"field\":\"height\",\"units\":\"data\"},\"line_color\":{\"field\":\"line_color\"},\"width\":{\"field\":\"width\",\"units\":\"data\"},\"x\":{\"field\":\"x\"},\"y\":{\"field\":\"y\"}},\"id\":\"c9e9b6b2-6f88-46f9-b9f4-34133bdf3b97\",\"type\":\"Rect\"},{\"attributes\":{\"callback\":null,\"end\":341.0},\"id\":\"ce257ea7-b28a-42c2-bedb-8f22c93926b9\",\"type\":\"Range1d\"},{\"attributes\":{\"location\":\"top_left\",\"plot\":{\"id\":\"615e621f-0aa5-4631-9a57-0570066cb634\",\"subtype\":\"Chart\",\"type\":\"Plot\"}},\"id\":\"05ed1757-b632-493c-b8a3-90cd54669ba3\",\"type\":\"Legend\"},{\"attributes\":{\"fill_alpha\":{\"field\":\"fill_alpha\"},\"fill_color\":{\"field\":\"color\"},\"height\":{\"field\":\"height\",\"units\":\"data\"},\"line_color\":{\"field\":\"line_color\"},\"width\":{\"field\":\"width\",\"units\":\"data\"},\"x\":{\"field\":\"x\"},\"y\":{\"field\":\"y\"}},\"id\":\"58f63547-8c24-4b31-9471-1c471467904d\",\"type\":\"Rect\"},{\"attributes\":{\"data_source\":{\"id\":\"c4618f13-255d-447b-953b-9893034f2ab0\",\"type\":\"ColumnDataSource\"},\"glyph\":{\"id\":\"fc3a7a24-d19b-4d2f-95e6-2ede9eaa96f0\",\"type\":\"Rect\"},\"hover_glyph\":null,\"nonselection_glyph\":null,\"selection_glyph\":null},\"id\":\"54296a92-e157-4810-9160-c2b1ae2119a5\",\"type\":\"GlyphRenderer\"},{\"attributes\":{\"fill_alpha\":{\"field\":\"fill_alpha\"},\"fill_color\":{\"field\":\"color\"},\"height\":{\"field\":\"height\",\"units\":\"data\"},\"line_color\":{\"field\":\"line_color\"},\"width\":{\"field\":\"width\",\"units\":\"data\"},\"x\":{\"field\":\"x\"},\"y\":{\"field\":\"y\"}},\"id\":\"0ef6920d-3fd6-4c94-ac1e-ce11092cd57b\",\"type\":\"Rect\"},{\"attributes\":{\"axis_label\":\"Frequency\",\"formatter\":{\"id\":\"7d73e884-af09-4f22-a9ba-7e0b71112183\",\"type\":\"BasicTickFormatter\"},\"plot\":{\"id\":\"615e621f-0aa5-4631-9a57-0570066cb634\",\"subtype\":\"Chart\",\"type\":\"Plot\"},\"ticker\":{\"id\":\"f138925b-9a79-4c6c-ba1c-77dd6f00a8bc\",\"type\":\"BasicTicker\"}},\"id\":\"80d2dad5-9c22-487b-bf2a-2cb5bca2c178\",\"type\":\"LinearAxis\"},{\"attributes\":{\"callback\":null,\"column_names\":[\"label\",\"y\",\"line_alpha\",\"x\",\"line_color\",\"height\",\"color\",\"width\",\"fill_alpha\"],\"data\":{\"chart_index\":[\"(0.933333, 1.066667]\"],\"color\":[\"LightSlateGray\"],\"fill_alpha\":[0.8],\"height\":[228.0],\"label\":[\"(0.933333, 1.066667]\"],\"line_alpha\":[1.0],\"line_color\":[\"black\"],\"width\":[0.1333333333333333],\"x\":[\"1.0\"],\"y\":[114.0]}},\"id\":\"c4618f13-255d-447b-953b-9893034f2ab0\",\"type\":\"ColumnDataSource\"},{\"attributes\":{},\"id\":\"034b679a-4cd8-47c4-b54f-bc276be0bc06\",\"type\":\"ToolEvents\"},{\"attributes\":{\"data_source\":{\"id\":\"b82c84a3-1022-462d-b710-8a6bd9c0fa6b\",\"type\":\"ColumnDataSource\"},\"glyph\":{\"id\":\"540d194c-f665-4a49-b5fe-879a1de1e6ac\",\"type\":\"Rect\"},\"hover_glyph\":null,\"nonselection_glyph\":null,\"selection_glyph\":null},\"id\":\"70b9bf45-1606-4279-b296-b82392d76ad7\",\"type\":\"GlyphRenderer\"},{\"attributes\":{\"axis_label\":\"GTcons\",\"formatter\":{\"id\":\"48522839-25de-4746-b1ed-a04f872d3bb5\",\"type\":\"BasicTickFormatter\"},\"plot\":{\"id\":\"615e621f-0aa5-4631-9a57-0570066cb634\",\"subtype\":\"Chart\",\"type\":\"Plot\"},\"ticker\":{\"id\":\"ebc47a40-bd86-43c1-a4cf-2ef814d6dc0e\",\"type\":\"BasicTicker\"}},\"id\":\"fc713bfe-f643-4912-930a-65c8a036f9e1\",\"type\":\"LinearAxis\"},{\"attributes\":{\"callback\":null,\"column_names\":[\"label\",\"y\",\"line_alpha\",\"x\",\"line_color\",\"height\",\"color\",\"width\",\"fill_alpha\"],\"data\":{\"chart_index\":[\"(1.733333, 1.866667]\"],\"color\":[\"LightSlateGray\"],\"fill_alpha\":[0.8],\"height\":[0.0],\"label\":[\"(1.733333, 1.866667]\"],\"line_alpha\":[1.0],\"line_color\":[\"black\"],\"width\":[0.1333333333333333],\"x\":[\"1.8\"],\"y\":[0.0]}},\"id\":\"21e4846e-6286-44ef-b419-3ccda82b0f71\",\"type\":\"ColumnDataSource\"},{\"attributes\":{\"callback\":null,\"column_names\":[\"label\",\"y\",\"line_alpha\",\"x\",\"line_color\",\"height\",\"color\",\"width\",\"fill_alpha\"],\"data\":{\"chart_index\":[\"(1.866667, 2.000000]\"],\"color\":[\"LightSlateGray\"],\"fill_alpha\":[0.8],\"height\":[52.0],\"label\":[\"(1.866667, 2.000000]\"],\"line_alpha\":[1.0],\"line_color\":[\"black\"],\"width\":[0.1333333333333333],\"x\":[\"1.9333335\"],\"y\":[26.0]}},\"id\":\"8999590a-057a-41c0-ba8c-304f48d30da9\",\"type\":\"ColumnDataSource\"},{\"attributes\":{\"callback\":null,\"column_names\":[\"label\",\"y\",\"line_alpha\",\"x\",\"line_color\",\"height\",\"color\",\"width\",\"fill_alpha\"],\"data\":{\"chart_index\":[\"(1.600000, 1.733333]\"],\"color\":[\"LightSlateGray\"],\"fill_alpha\":[0.8],\"height\":[0.0],\"label\":[\"(1.600000, 1.733333]\"],\"line_alpha\":[1.0],\"line_color\":[\"black\"],\"width\":[0.1333333333333333],\"x\":[\"1.6666665\"],\"y\":[0.0]}},\"id\":\"3f7e09b4-f2bf-400b-8a5a-4a5c02eab8d4\",\"type\":\"ColumnDataSource\"},{\"attributes\":{\"plot\":{\"id\":\"615e621f-0aa5-4631-9a57-0570066cb634\",\"subtype\":\"Chart\",\"type\":\"Plot\"}},\"id\":\"ea1b7ee1-f473-48f3-a886-d99ecd7b918b\",\"type\":\"WheelZoomTool\"},{\"attributes\":{\"callback\":null,\"column_names\":[\"label\",\"y\",\"line_alpha\",\"x\",\"line_color\",\"height\",\"color\",\"width\",\"fill_alpha\"],\"data\":{\"chart_index\":[\"(1.200000, 1.333333]\"],\"color\":[\"LightSlateGray\"],\"fill_alpha\":[0.8],\"height\":[0.0],\"label\":[\"(1.200000, 1.333333]\"],\"line_alpha\":[1.0],\"line_color\":[\"black\"],\"width\":[0.1333333333333333],\"x\":[\"1.2666665\"],\"y\":[0.0]}},\"id\":\"af68fafa-954d-478c-b932-e917dace2182\",\"type\":\"ColumnDataSource\"},{\"attributes\":{},\"id\":\"7d73e884-af09-4f22-a9ba-7e0b71112183\",\"type\":\"BasicTickFormatter\"},{\"attributes\":{},\"id\":\"ebc47a40-bd86-43c1-a4cf-2ef814d6dc0e\",\"type\":\"BasicTicker\"},{\"attributes\":{\"fill_alpha\":{\"field\":\"fill_alpha\"},\"fill_color\":{\"field\":\"color\"},\"height\":{\"field\":\"height\",\"units\":\"data\"},\"line_color\":{\"field\":\"line_color\"},\"width\":{\"field\":\"width\",\"units\":\"data\"},\"x\":{\"field\":\"x\"},\"y\":{\"field\":\"y\"}},\"id\":\"ff3da7ba-b2f8-4b5b-85ab-bc47f3ac6806\",\"type\":\"Rect\"},{\"attributes\":{\"plot\":null,\"text\":\"Inaccurate_Call_HG002: Consensust GT\"},\"id\":\"e545b67f-ec28-4754-a44e-687d6f324cfa\",\"type\":\"Title\"},{\"attributes\":{\"callback\":null,\"column_names\":[\"label\",\"y\",\"line_alpha\",\"x\",\"line_color\",\"height\",\"color\",\"width\",\"fill_alpha\"],\"data\":{\"chart_index\":[\"(0.666667, 0.800000]\"],\"color\":[\"LightSlateGray\"],\"fill_alpha\":[0.8],\"height\":[0.0],\"label\":[\"(0.666667, 0.800000]\"],\"line_alpha\":[1.0],\"line_color\":[\"black\"],\"width\":[0.13333333333333341],\"x\":[\"0.7333335000000001\"],\"y\":[0.0]}},\"id\":\"5fb8ec90-15db-4fb8-965d-de7a791c3448\",\"type\":\"ColumnDataSource\"},{\"attributes\":{\"callback\":null,\"column_names\":[\"label\",\"y\",\"line_alpha\",\"x\",\"line_color\",\"height\",\"color\",\"width\",\"fill_alpha\"],\"data\":{\"chart_index\":[\"(0.133333, 0.266667]\"],\"color\":[\"LightSlateGray\"],\"fill_alpha\":[0.8],\"height\":[0.0],\"label\":[\"(0.133333, 0.266667]\"],\"line_alpha\":[1.0],\"line_color\":[\"black\"],\"width\":[0.13333333333333333],\"x\":[\"0.2\"],\"y\":[0.0]}},\"id\":\"b82c84a3-1022-462d-b710-8a6bd9c0fa6b\",\"type\":\"ColumnDataSource\"},{\"attributes\":{\"plot\":{\"id\":\"615e621f-0aa5-4631-9a57-0570066cb634\",\"subtype\":\"Chart\",\"type\":\"Plot\"}},\"id\":\"bde8540c-206a-41e8-a0ba-f6fcc517b1cb\",\"type\":\"PanTool\"},{\"attributes\":{\"data_source\":{\"id\":\"8a8663a1-36fa-4c3d-89f2-70ed61b08d3a\",\"type\":\"ColumnDataSource\"},\"glyph\":{\"id\":\"58f63547-8c24-4b31-9471-1c471467904d\",\"type\":\"Rect\"},\"hover_glyph\":null,\"nonselection_glyph\":null,\"selection_glyph\":null},\"id\":\"5592e0f5-02e7-43f7-a869-c9e4406369f1\",\"type\":\"GlyphRenderer\"},{\"attributes\":{\"bottom_units\":\"screen\",\"fill_alpha\":{\"value\":0.5},\"fill_color\":{\"value\":\"lightgrey\"},\"left_units\":\"screen\",\"level\":\"overlay\",\"line_alpha\":{\"value\":1.0},\"line_color\":{\"value\":\"black\"},\"line_dash\":[4,4],\"line_width\":{\"value\":2},\"plot\":null,\"render_mode\":\"css\",\"right_units\":\"screen\",\"top_units\":\"screen\"},\"id\":\"44fc8972-3cc7-472d-9c0c-0193da277189\",\"type\":\"BoxAnnotation\"},{\"attributes\":{\"plot\":{\"id\":\"615e621f-0aa5-4631-9a57-0570066cb634\",\"subtype\":\"Chart\",\"type\":\"Plot\"}},\"id\":\"728b508e-28c0-4346-ae05-fb360f689a3f\",\"type\":\"SaveTool\"},{\"attributes\":{\"data_source\":{\"id\":\"3a759ed1-4366-406f-9bc4-0ac9da518b41\",\"type\":\"ColumnDataSource\"},\"glyph\":{\"id\":\"0f4d2c40-bf6f-4eb8-a0b7-dd5a1495afaa\",\"type\":\"Rect\"},\"hover_glyph\":null,\"nonselection_glyph\":null,\"selection_glyph\":null},\"id\":\"d0d43b2d-3669-40d7-b3ef-20599ff4d655\",\"type\":\"GlyphRenderer\"},{\"attributes\":{\"fill_alpha\":{\"field\":\"fill_alpha\"},\"fill_color\":{\"field\":\"color\"},\"height\":{\"field\":\"height\",\"units\":\"data\"},\"line_color\":{\"field\":\"line_color\"},\"width\":{\"field\":\"width\",\"units\":\"data\"},\"x\":{\"field\":\"x\"},\"y\":{\"field\":\"y\"}},\"id\":\"7f8208a7-d654-4576-9af9-b6d18f130ef9\",\"type\":\"Rect\"},{\"attributes\":{\"callback\":null,\"column_names\":[\"label\",\"y\",\"line_alpha\",\"x\",\"line_color\",\"height\",\"color\",\"width\",\"fill_alpha\"],\"data\":{\"chart_index\":[\"(0.533333, 0.666667]\"],\"color\":[\"LightSlateGray\"],\"fill_alpha\":[0.8],\"height\":[0.0],\"label\":[\"(0.533333, 0.666667]\"],\"line_alpha\":[1.0],\"line_color\":[\"black\"],\"width\":[0.1333333333333333],\"x\":[\"0.6\"],\"y\":[0.0]}},\"id\":\"8a8663a1-36fa-4c3d-89f2-70ed61b08d3a\",\"type\":\"ColumnDataSource\"},{\"attributes\":{\"fill_alpha\":{\"field\":\"fill_alpha\"},\"fill_color\":{\"field\":\"color\"},\"height\":{\"field\":\"height\",\"units\":\"data\"},\"line_color\":{\"field\":\"line_color\"},\"width\":{\"field\":\"width\",\"units\":\"data\"},\"x\":{\"field\":\"x\"},\"y\":{\"field\":\"y\"}},\"id\":\"127b4c56-d79f-40e1-a683-7968b90c33cf\",\"type\":\"Rect\"},{\"attributes\":{\"data_source\":{\"id\":\"a67552f9-ccb0-4885-9736-6357356f5f2d\",\"type\":\"ColumnDataSource\"},\"glyph\":{\"id\":\"ec2045c4-bd7e-4d9b-acfc-9e92af3e3957\",\"type\":\"Rect\"},\"hover_glyph\":null,\"nonselection_glyph\":null,\"selection_glyph\":null},\"id\":\"d8b8ea2a-4fc4-4829-ae65-b0244eabdc7b\",\"type\":\"GlyphRenderer\"},{\"attributes\":{\"data_source\":{\"id\":\"3f7e09b4-f2bf-400b-8a5a-4a5c02eab8d4\",\"type\":\"ColumnDataSource\"},\"glyph\":{\"id\":\"7570f90f-713b-48d9-96f3-7c3b9bc8f2d7\",\"type\":\"Rect\"},\"hover_glyph\":null,\"nonselection_glyph\":null,\"selection_glyph\":null},\"id\":\"c5b059c8-b510-46e4-b86f-b3bc36cd9ddb\",\"type\":\"GlyphRenderer\"},{\"attributes\":{\"dimension\":1,\"plot\":{\"id\":\"615e621f-0aa5-4631-9a57-0570066cb634\",\"subtype\":\"Chart\",\"type\":\"Plot\"},\"ticker\":{\"id\":\"f138925b-9a79-4c6c-ba1c-77dd6f00a8bc\",\"type\":\"BasicTicker\"}},\"id\":\"c574884f-0959-4c01-81f6-62d7345632ca\",\"type\":\"Grid\"},{\"attributes\":{\"overlay\":{\"id\":\"44fc8972-3cc7-472d-9c0c-0193da277189\",\"type\":\"BoxAnnotation\"},\"plot\":{\"id\":\"615e621f-0aa5-4631-9a57-0570066cb634\",\"subtype\":\"Chart\",\"type\":\"Plot\"}},\"id\":\"f0625426-a8ae-4ada-b96a-7b47598c0bba\",\"type\":\"BoxZoomTool\"},{\"attributes\":{\"fill_alpha\":{\"field\":\"fill_alpha\"},\"fill_color\":{\"field\":\"color\"},\"height\":{\"field\":\"height\",\"units\":\"data\"},\"line_color\":{\"field\":\"line_color\"},\"width\":{\"field\":\"width\",\"units\":\"data\"},\"x\":{\"field\":\"x\"},\"y\":{\"field\":\"y\"}},\"id\":\"db7af4bc-a0fc-42a8-8ca6-fbc5ed594c04\",\"type\":\"Rect\"},{\"attributes\":{\"callback\":null,\"column_names\":[\"label\",\"y\",\"line_alpha\",\"x\",\"line_color\",\"height\",\"color\",\"width\",\"fill_alpha\"],\"data\":{\"chart_index\":[\"(0.800000, 0.933333]\"],\"color\":[\"LightSlateGray\"],\"fill_alpha\":[0.8],\"height\":[0.0],\"label\":[\"(0.800000, 0.933333]\"],\"line_alpha\":[1.0],\"line_color\":[\"black\"],\"width\":[0.1333333333333333],\"x\":[\"0.8666665\"],\"y\":[0.0]}},\"id\":\"b661ab6f-f330-4b9d-85e3-115613658033\",\"type\":\"ColumnDataSource\"},{\"attributes\":{\"fill_alpha\":{\"field\":\"fill_alpha\"},\"fill_color\":{\"field\":\"color\"},\"height\":{\"field\":\"height\",\"units\":\"data\"},\"line_color\":{\"field\":\"line_color\"},\"width\":{\"field\":\"width\",\"units\":\"data\"},\"x\":{\"field\":\"x\"},\"y\":{\"field\":\"y\"}},\"id\":\"fc3a7a24-d19b-4d2f-95e6-2ede9eaa96f0\",\"type\":\"Rect\"},{\"attributes\":{\"plot\":{\"id\":\"615e621f-0aa5-4631-9a57-0570066cb634\",\"subtype\":\"Chart\",\"type\":\"Plot\"}},\"id\":\"83358453-4a8e-4778-9b01-073c28427753\",\"type\":\"HelpTool\"},{\"attributes\":{\"below\":[{\"id\":\"fc713bfe-f643-4912-930a-65c8a036f9e1\",\"type\":\"LinearAxis\"}],\"css_classes\":null,\"left\":[{\"id\":\"80d2dad5-9c22-487b-bf2a-2cb5bca2c178\",\"type\":\"LinearAxis\"}],\"plot_height\":250,\"renderers\":[{\"id\":\"44fc8972-3cc7-472d-9c0c-0193da277189\",\"type\":\"BoxAnnotation\"},{\"id\":\"05540787-134e-40a9-8b4b-f5de413f7915\",\"type\":\"GlyphRenderer\"},{\"id\":\"70b9bf45-1606-4279-b296-b82392d76ad7\",\"type\":\"GlyphRenderer\"},{\"id\":\"d0d43b2d-3669-40d7-b3ef-20599ff4d655\",\"type\":\"GlyphRenderer\"},{\"id\":\"a6ed7753-522f-4c9c-b070-8ee83d8e2d46\",\"type\":\"GlyphRenderer\"},{\"id\":\"5592e0f5-02e7-43f7-a869-c9e4406369f1\",\"type\":\"GlyphRenderer\"},{\"id\":\"0f8b3c91-da2b-48ed-8dfc-fbf43b3167d0\",\"type\":\"GlyphRenderer\"},{\"id\":\"b05941b0-cf5d-4f1a-bb5d-e42b89d37615\",\"type\":\"GlyphRenderer\"},{\"id\":\"54296a92-e157-4810-9160-c2b1ae2119a5\",\"type\":\"GlyphRenderer\"},{\"id\":\"d413b3ed-c2e8-44f5-b568-5799e7833f4a\",\"type\":\"GlyphRenderer\"},{\"id\":\"65cf0401-da51-4cea-aece-22a35e66b12d\",\"type\":\"GlyphRenderer\"},{\"id\":\"d8b8ea2a-4fc4-4829-ae65-b0244eabdc7b\",\"type\":\"GlyphRenderer\"},{\"id\":\"af9501e0-fd52-4356-a1f3-c71a9ff8df02\",\"type\":\"GlyphRenderer\"},{\"id\":\"c5b059c8-b510-46e4-b86f-b3bc36cd9ddb\",\"type\":\"GlyphRenderer\"},{\"id\":\"c326d9fb-9e0e-4a8a-b32b-581a6d011d06\",\"type\":\"GlyphRenderer\"},{\"id\":\"9efa1222-db63-4adf-a5d5-732bcbf4e800\",\"type\":\"GlyphRenderer\"},{\"id\":\"05ed1757-b632-493c-b8a3-90cd54669ba3\",\"type\":\"Legend\"},{\"id\":\"fc713bfe-f643-4912-930a-65c8a036f9e1\",\"type\":\"LinearAxis\"},{\"id\":\"80d2dad5-9c22-487b-bf2a-2cb5bca2c178\",\"type\":\"LinearAxis\"},{\"id\":\"c574884f-0959-4c01-81f6-62d7345632ca\",\"type\":\"Grid\"}],\"title\":{\"id\":\"e545b67f-ec28-4754-a44e-687d6f324cfa\",\"type\":\"Title\"},\"tool_events\":{\"id\":\"034b679a-4cd8-47c4-b54f-bc276be0bc06\",\"type\":\"ToolEvents\"},\"toolbar\":{\"id\":\"03fb3307-6bb3-436b-af7f-954c7cc4c869\",\"type\":\"Toolbar\"},\"x_mapper_type\":\"auto\",\"x_range\":{\"id\":\"06c7abb1-6161-459f-bade-2d70edf0a1a9\",\"type\":\"Range1d\"},\"y_mapper_type\":\"auto\",\"y_range\":{\"id\":\"ce257ea7-b28a-42c2-bedb-8f22c93926b9\",\"type\":\"Range1d\"}},\"id\":\"615e621f-0aa5-4631-9a57-0570066cb634\",\"subtype\":\"Chart\",\"type\":\"Plot\"},{\"attributes\":{\"fill_alpha\":{\"field\":\"fill_alpha\"},\"fill_color\":{\"field\":\"color\"},\"height\":{\"field\":\"height\",\"units\":\"data\"},\"line_color\":{\"field\":\"line_color\"},\"width\":{\"field\":\"width\",\"units\":\"data\"},\"x\":{\"field\":\"x\"},\"y\":{\"field\":\"y\"}},\"id\":\"ec2045c4-bd7e-4d9b-acfc-9e92af3e3957\",\"type\":\"Rect\"},{\"attributes\":{\"fill_alpha\":{\"field\":\"fill_alpha\"},\"fill_color\":{\"field\":\"color\"},\"height\":{\"field\":\"height\",\"units\":\"data\"},\"line_color\":{\"field\":\"line_color\"},\"width\":{\"field\":\"width\",\"units\":\"data\"},\"x\":{\"field\":\"x\"},\"y\":{\"field\":\"y\"}},\"id\":\"0f4d2c40-bf6f-4eb8-a0b7-dd5a1495afaa\",\"type\":\"Rect\"},{\"attributes\":{\"data_source\":{\"id\":\"b661ab6f-f330-4b9d-85e3-115613658033\",\"type\":\"ColumnDataSource\"},\"glyph\":{\"id\":\"db7af4bc-a0fc-42a8-8ca6-fbc5ed594c04\",\"type\":\"Rect\"},\"hover_glyph\":null,\"nonselection_glyph\":null,\"selection_glyph\":null},\"id\":\"b05941b0-cf5d-4f1a-bb5d-e42b89d37615\",\"type\":\"GlyphRenderer\"},{\"attributes\":{\"fill_alpha\":{\"field\":\"fill_alpha\"},\"fill_color\":{\"field\":\"color\"},\"height\":{\"field\":\"height\",\"units\":\"data\"},\"line_color\":{\"field\":\"line_color\"},\"width\":{\"field\":\"width\",\"units\":\"data\"},\"x\":{\"field\":\"x\"},\"y\":{\"field\":\"y\"}},\"id\":\"c2ae32e2-a748-4bcf-9cff-38737d92f79c\",\"type\":\"Rect\"}],\"root_ids\":[\"615e621f-0aa5-4631-9a57-0570066cb634\"]},\"title\":\"Bokeh Application\",\"version\":\"0.12.4\"}};\n",
       "            var render_items = [{\"docid\":\"f9684a5c-e422-4331-8fcd-ba7ebffd6278\",\"elementid\":\"549b42c0-9f91-4ba8-98a0-df036376413f\",\"modelid\":\"615e621f-0aa5-4631-9a57-0570066cb634\"}];\n",
       "            \n",
       "            Bokeh.embed.embed_items(docs_json, render_items);\n",
       "          };\n",
       "          if (document.readyState != \"loading\") fn();\n",
       "          else document.addEventListener(\"DOMContentLoaded\", fn);\n",
       "        })();\n",
       "      },\n",
       "      function(Bokeh) {\n",
       "      }\n",
       "    ];\n",
       "  \n",
       "    function run_inline_js() {\n",
       "      \n",
       "      if ((window.Bokeh !== undefined) || (force === true)) {\n",
       "        for (var i = 0; i < inline_js.length; i++) {\n",
       "          inline_js[i](window.Bokeh);\n",
       "        }if (force === true) {\n",
       "          display_loaded();\n",
       "        }} else if (Date.now() < window._bokeh_timeout) {\n",
       "        setTimeout(run_inline_js, 100);\n",
       "      } else if (!window._bokeh_failed_load) {\n",
       "        console.log(\"Bokeh: BokehJS failed to load within specified timeout.\");\n",
       "        window._bokeh_failed_load = true;\n",
       "      } else if (force !== true) {\n",
       "        var cell = $(document.getElementById(\"549b42c0-9f91-4ba8-98a0-df036376413f\")).parents('.cell').data().cell;\n",
       "        cell.output_area.append_execute_result(NB_LOAD_WARNING)\n",
       "      }\n",
       "  \n",
       "    }\n",
       "  \n",
       "    if (window._bokeh_is_loading === 0) {\n",
       "      console.log(\"Bokeh: BokehJS loaded, going straight to plotting\");\n",
       "      run_inline_js();\n",
       "    } else {\n",
       "      load_libs(js_urls, function() {\n",
       "        console.log(\"Bokeh: BokehJS plotting callback run at\", now());\n",
       "        run_inline_js();\n",
       "      });\n",
       "    }\n",
       "  }(this));\n",
       "</script>"
      ]
     },
     "metadata": {},
     "output_type": "display_data"
    }
   ],
   "source": [
    "p = figure()\n",
    "p = Histogram(inac_call, values='GTcons', title='Inaccurate_Call_HG002: Consensust GT', color='LightSlateGray', bins=15, plot_height=250, xlabel=\"GTcons\", ylabel=\"Frequency\")\n",
    "show(p)"
   ]
  }
 ],
 "metadata": {
  "kernelspec": {
   "display_name": "Python [NIHFAES]",
   "language": "python",
   "name": "Python [NIHFAES]"
  },
  "language_info": {
   "codemirror_mode": {
    "name": "ipython",
    "version": 3
   },
   "file_extension": ".py",
   "mimetype": "text/x-python",
   "name": "python",
   "nbconvert_exporter": "python",
   "pygments_lexer": "ipython3",
   "version": "3.5.2"
  }
 },
 "nbformat": 4,
 "nbformat_minor": 2
}
