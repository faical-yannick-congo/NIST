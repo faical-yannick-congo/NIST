{
 "cells": [
  {
   "cell_type": "markdown",
   "metadata": {},
   "source": [
    "### GTconswithoutXX Label Summary"
   ]
  },
  {
   "cell_type": "code",
   "execution_count": 1,
   "metadata": {
    "collapsed": true
   },
   "outputs": [],
   "source": [
    "import pandas as pd\n",
    "import numpy as np\n",
    "from sklearn import preprocessing\n",
    "from sklearn.preprocessing import LabelEncoder\n",
    "from scipy import stats\n",
    "from sklearn import metrics\n",
    "from sklearn import preprocessing\n",
    "from sklearn.metrics import confusion_matrix"
   ]
  },
  {
   "cell_type": "code",
   "execution_count": 2,
   "metadata": {
    "collapsed": true
   },
   "outputs": [],
   "source": [
    "df_train = pd.read_csv('/Volumes/lesleydata/SVanalyzer_ML/Oct122017_Revised_R/dataframes/training_data/EM_HR_IC_HG002_all_tech.csv')\n",
    "df_test = pd.read_csv('/Volumes/lesleydata/SVanalyzer_ML/Oct122017_Revised_R/dataframes/test/final_df/all/DEL/5k_HG002_all_tech.csv')"
   ]
  },
  {
   "cell_type": "code",
   "execution_count": 3,
   "metadata": {},
   "outputs": [],
   "source": [
    "Ill250_test = pd.read_csv('/Volumes/lesleydata/SVanalyzer_ML/Oct122017_Revised_R/dataframes/test/final_df/tech_sep/DEL/HG002/250bp_HG002_DEL_min1.csv')\n",
    "Ill300_test = pd.read_csv('/Volumes/lesleydata/SVanalyzer_ML/Oct122017_Revised_R/dataframes/test/final_df/tech_sep/DEL/HG002/300x_HG002_DEL_min1.csv')\n",
    "IllMP_test = pd.read_csv('/Volumes/lesleydata/SVanalyzer_ML/Oct122017_Revised_R/dataframes/test/final_df/tech_sep/DEL/HG002/MP_HG002_DEL_min1.csv')\n",
    "PB_test = pd.read_csv('/Volumes/lesleydata/SVanalyzer_ML/Oct122017_Revised_R/dataframes/test/final_df/tech_sep/DEL/HG002/PB_HG002_DEL_min1.csv')\n",
    "TenX_test = pd.read_csv('/Volumes/lesleydata/SVanalyzer_ML/Oct122017_Revised_R/dataframes/test/final_df/tech_sep/DEL/HG002/TenX_HG002_DEL_min1.csv')"
   ]
  },
  {
   "cell_type": "code",
   "execution_count": 4,
   "metadata": {},
   "outputs": [
    {
     "name": "stdout",
     "output_type": "stream",
     "text": [
      "[[ 853    0    0]\n",
      " [   0 2194    0]\n",
      " [   0    0  781]]\n"
     ]
    }
   ],
   "source": [
    "GTcons = Ill250_test['GTcons']\n",
    "GTwithout = Ill250_test['GTconswithoutIll250.GT']\n",
    "print(confusion_matrix(GTcons, GTwithout))"
   ]
  },
  {
   "cell_type": "code",
   "execution_count": 5,
   "metadata": {},
   "outputs": [
    {
     "name": "stdout",
     "output_type": "stream",
     "text": [
      "[[ 871    0    0]\n",
      " [   0 2162    0]\n",
      " [   0    0  912]]\n"
     ]
    }
   ],
   "source": [
    "GTcons = Ill300_test['GTcons']\n",
    "GTwithout = Ill300_test['GTconswithoutIll300x.GT']\n",
    "print(confusion_matrix(GTcons, GTwithout))"
   ]
  },
  {
   "cell_type": "code",
   "execution_count": 6,
   "metadata": {},
   "outputs": [
    {
     "name": "stdout",
     "output_type": "stream",
     "text": [
      "[[ 879    0    0]\n",
      " [   0 2240    0]\n",
      " [   0    0  911]]\n"
     ]
    }
   ],
   "source": [
    "GTcons = IllMP_test['GTcons']\n",
    "GTwithout = IllMP_test['GTconswithoutIllMP.GT']\n",
    "print(confusion_matrix(GTcons, GTwithout))"
   ]
  },
  {
   "cell_type": "code",
   "execution_count": 7,
   "metadata": {},
   "outputs": [
    {
     "name": "stdout",
     "output_type": "stream",
     "text": [
      "[[ 865    0    0]\n",
      " [   0 2240    0]\n",
      " [   0    0  898]]\n"
     ]
    }
   ],
   "source": [
    "GTcons = TenX_test['GTcons']\n",
    "GTwithout = TenX_test['GTconswithoutTenX.GT']\n",
    "print(confusion_matrix(GTcons, GTwithout))"
   ]
  },
  {
   "cell_type": "code",
   "execution_count": 8,
   "metadata": {},
   "outputs": [
    {
     "name": "stdout",
     "output_type": "stream",
     "text": [
      "[[ 788    0    0]\n",
      " [   0 1812    0]\n",
      " [   0    0  681]]\n"
     ]
    }
   ],
   "source": [
    "GTcons = PB_test['GTcons']\n",
    "GTwithout = PB_test['GTconswithoutpacbio.GT']\n",
    "print(confusion_matrix(GTcons, GTwithout))"
   ]
  },
  {
   "cell_type": "markdown",
   "metadata": {},
   "source": [
    "**Training Data**"
   ]
  },
  {
   "cell_type": "code",
   "execution_count": 9,
   "metadata": {},
   "outputs": [
    {
     "name": "stdout",
     "output_type": "stream",
     "text": [
      "[[ 374    6   61    3]\n",
      " [  24 1454    0    0]\n",
      " [  16    0  822    0]\n",
      " [  41    0    0  189]]\n"
     ]
    }
   ],
   "source": [
    "GTcons = df_train['GTcons']\n",
    "GTwithout = df_train['GTconswithoutIll250.GT']\n",
    "print(confusion_matrix(GTcons, GTwithout))"
   ]
  },
  {
   "cell_type": "code",
   "execution_count": 10,
   "metadata": {},
   "outputs": [
    {
     "name": "stdout",
     "output_type": "stream",
     "text": [
      "[[ 402    8   19   15]\n",
      " [  15 1463    0    0]\n",
      " [  22    0  816    0]\n",
      " [   2    0    0  228]]\n"
     ]
    }
   ],
   "source": [
    "GTcons = df_train['GTcons']\n",
    "GTwithout = df_train['GTconswithoutIll300x.GT']\n",
    "print(confusion_matrix(GTcons, GTwithout))"
   ]
  },
  {
   "cell_type": "code",
   "execution_count": 11,
   "metadata": {},
   "outputs": [
    {
     "name": "stdout",
     "output_type": "stream",
     "text": [
      "[[ 426    5   13    0]\n",
      " [   2 1476    0    0]\n",
      " [   1    0  837    0]\n",
      " [   0    0    0  230]]\n"
     ]
    }
   ],
   "source": [
    "GTcons = df_train['GTcons']\n",
    "GTwithout = df_train['GTconswithoutIllMP.GT']\n",
    "print(confusion_matrix(GTcons, GTwithout))"
   ]
  },
  {
   "cell_type": "code",
   "execution_count": 12,
   "metadata": {},
   "outputs": [
    {
     "name": "stdout",
     "output_type": "stream",
     "text": [
      "[[ 421    0   22    1]\n",
      " [  21 1457    0    0]\n",
      " [   0    0  838    0]\n",
      " [   7    0    0  223]]\n"
     ]
    }
   ],
   "source": [
    "GTcons = df_train['GTcons']\n",
    "GTwithout = df_train['GTconswithoutTenX.GT']\n",
    "print(confusion_matrix(GTcons, GTwithout))"
   ]
  },
  {
   "cell_type": "code",
   "execution_count": 13,
   "metadata": {},
   "outputs": [
    {
     "name": "stdout",
     "output_type": "stream",
     "text": [
      "[[ 263  143   26   12]\n",
      " [  90 1388    0    0]\n",
      " [ 212    0  626    0]\n",
      " [  71    0    0  159]]\n"
     ]
    }
   ],
   "source": [
    "GTcons = df_train['GTcons']\n",
    "GTwithout = df_train['GTconswithoutpacbio.GT']\n",
    "print(confusion_matrix(GTcons, GTwithout))"
   ]
  },
  {
   "cell_type": "code",
   "execution_count": 14,
   "metadata": {},
   "outputs": [
    {
     "data": {
      "text/html": [
       "<div>\n",
       "<table border=\"1\" class=\"dataframe\">\n",
       "  <thead>\n",
       "    <tr style=\"text-align: right;\">\n",
       "      <th>GTwithout</th>\n",
       "      <th>-1</th>\n",
       "      <th>0</th>\n",
       "      <th>1</th>\n",
       "      <th>2</th>\n",
       "      <th>All</th>\n",
       "    </tr>\n",
       "    <tr>\n",
       "      <th>GTcons</th>\n",
       "      <th></th>\n",
       "      <th></th>\n",
       "      <th></th>\n",
       "      <th></th>\n",
       "      <th></th>\n",
       "    </tr>\n",
       "  </thead>\n",
       "  <tbody>\n",
       "    <tr>\n",
       "      <th>Heterozygous_Variant</th>\n",
       "      <td>212</td>\n",
       "      <td>0</td>\n",
       "      <td>626</td>\n",
       "      <td>0</td>\n",
       "      <td>838</td>\n",
       "    </tr>\n",
       "    <tr>\n",
       "      <th>Homozygous_Reference</th>\n",
       "      <td>90</td>\n",
       "      <td>1388</td>\n",
       "      <td>0</td>\n",
       "      <td>0</td>\n",
       "      <td>1478</td>\n",
       "    </tr>\n",
       "    <tr>\n",
       "      <th>Homozygous_Variant</th>\n",
       "      <td>71</td>\n",
       "      <td>0</td>\n",
       "      <td>0</td>\n",
       "      <td>159</td>\n",
       "      <td>230</td>\n",
       "    </tr>\n",
       "    <tr>\n",
       "      <th>Unknown</th>\n",
       "      <td>263</td>\n",
       "      <td>143</td>\n",
       "      <td>26</td>\n",
       "      <td>12</td>\n",
       "      <td>444</td>\n",
       "    </tr>\n",
       "    <tr>\n",
       "      <th>All</th>\n",
       "      <td>636</td>\n",
       "      <td>1531</td>\n",
       "      <td>652</td>\n",
       "      <td>171</td>\n",
       "      <td>2990</td>\n",
       "    </tr>\n",
       "  </tbody>\n",
       "</table>\n",
       "</div>"
      ],
      "text/plain": [
       "GTwithout              -1     0    1    2   All\n",
       "GTcons                                         \n",
       "Heterozygous_Variant  212     0  626    0   838\n",
       "Homozygous_Reference   90  1388    0    0  1478\n",
       "Homozygous_Variant     71     0    0  159   230\n",
       "Unknown               263   143   26   12   444\n",
       "All                   636  1531  652  171  2990"
      ]
     },
     "execution_count": 14,
     "metadata": {},
     "output_type": "execute_result"
    }
   ],
   "source": [
    "df_train['GTcons'].replace(-1, 'Unknown', inplace=True)\n",
    "df_train['GTcons'].replace(0, 'Homozygous_Reference', inplace=True)\n",
    "df_train['GTcons'].replace(1, 'Heterozygous_Variant', inplace=True)\n",
    "df_train['GTcons'].replace(2, 'Homozygous_Variant', inplace=True)\n",
    "df_train['GTconswithoutIll250.GT'].replace(-1, 'Unknown', inplace=True)\n",
    "df_train['GTconswithoutIll250.GT'].replace(0, 'Homozygous_Reference', inplace=True)\n",
    "df_train['GTconswithoutIll250.GT'].replace(1, 'Heterozygous_Variant', inplace=True)\n",
    "df_train['GTconswithoutIll250.GT'].replace(2, 'Homozygous_Variant', inplace=True)\n",
    "pd.crosstab(GTcons, GTwithout, rownames=['GTcons'], colnames=['GTwithout'], margins=True)"
   ]
  },
  {
   "cell_type": "code",
   "execution_count": 17,
   "metadata": {},
   "outputs": [
    {
     "data": {
      "text/html": [
       "<div>\n",
       "<table border=\"1\" class=\"dataframe\">\n",
       "  <thead>\n",
       "    <tr style=\"text-align: right;\">\n",
       "      <th>GTwithout</th>\n",
       "      <th>-1</th>\n",
       "      <th>0</th>\n",
       "      <th>1</th>\n",
       "      <th>2</th>\n",
       "      <th>All</th>\n",
       "    </tr>\n",
       "    <tr>\n",
       "      <th>GTcons</th>\n",
       "      <th></th>\n",
       "      <th></th>\n",
       "      <th></th>\n",
       "      <th></th>\n",
       "      <th></th>\n",
       "    </tr>\n",
       "  </thead>\n",
       "  <tbody>\n",
       "    <tr>\n",
       "      <th>Heterozygous_Variant</th>\n",
       "      <td>212</td>\n",
       "      <td>0</td>\n",
       "      <td>626</td>\n",
       "      <td>0</td>\n",
       "      <td>838</td>\n",
       "    </tr>\n",
       "    <tr>\n",
       "      <th>Homozygous_Reference</th>\n",
       "      <td>90</td>\n",
       "      <td>1388</td>\n",
       "      <td>0</td>\n",
       "      <td>0</td>\n",
       "      <td>1478</td>\n",
       "    </tr>\n",
       "    <tr>\n",
       "      <th>Homozygous_Variant</th>\n",
       "      <td>71</td>\n",
       "      <td>0</td>\n",
       "      <td>0</td>\n",
       "      <td>159</td>\n",
       "      <td>230</td>\n",
       "    </tr>\n",
       "    <tr>\n",
       "      <th>Unknown</th>\n",
       "      <td>263</td>\n",
       "      <td>143</td>\n",
       "      <td>26</td>\n",
       "      <td>12</td>\n",
       "      <td>444</td>\n",
       "    </tr>\n",
       "    <tr>\n",
       "      <th>All</th>\n",
       "      <td>636</td>\n",
       "      <td>1531</td>\n",
       "      <td>652</td>\n",
       "      <td>171</td>\n",
       "      <td>2990</td>\n",
       "    </tr>\n",
       "  </tbody>\n",
       "</table>\n",
       "</div>"
      ],
      "text/plain": [
       "GTwithout              -1     0    1    2   All\n",
       "GTcons                                         \n",
       "Heterozygous_Variant  212     0  626    0   838\n",
       "Homozygous_Reference   90  1388    0    0  1478\n",
       "Homozygous_Variant     71     0    0  159   230\n",
       "Unknown               263   143   26   12   444\n",
       "All                   636  1531  652  171  2990"
      ]
     },
     "execution_count": 17,
     "metadata": {},
     "output_type": "execute_result"
    }
   ],
   "source": [
    "df_train['GTcons'].replace(-1, 'Unknown', inplace=True)\n",
    "df_train['GTcons'].replace(0, 'Homozygous_Reference', inplace=True)\n",
    "df_train['GTcons'].replace(1, 'Heterozygous_Variant', inplace=True)\n",
    "df_train['GTcons'].replace(2, 'Homozygous_Variant', inplace=True)\n",
    "df_train['GTconswithoutIll300x.GT'].replace(-1, 'Unknown', inplace=True)\n",
    "df_train['GTconswithoutIll300x.GT'].replace(0, 'Homozygous_Reference', inplace=True)\n",
    "df_train['GTconswithoutIll300x.GT'].replace(1, 'Heterozygous_Variant', inplace=True)\n",
    "df_train['GTconswithoutIll300x.GT'].replace(2, 'Homozygous_Variant', inplace=True)\n",
    "pd.crosstab(GTcons, GTwithout, rownames=['GTcons'], colnames=['GTwithout'], margins=True)"
   ]
  },
  {
   "cell_type": "code",
   "execution_count": 18,
   "metadata": {},
   "outputs": [
    {
     "data": {
      "text/html": [
       "<div>\n",
       "<table border=\"1\" class=\"dataframe\">\n",
       "  <thead>\n",
       "    <tr style=\"text-align: right;\">\n",
       "      <th>GTconswithout</th>\n",
       "      <th>-1</th>\n",
       "      <th>0</th>\n",
       "      <th>1</th>\n",
       "      <th>2</th>\n",
       "      <th>All</th>\n",
       "    </tr>\n",
       "    <tr>\n",
       "      <th>GTcons</th>\n",
       "      <th></th>\n",
       "      <th></th>\n",
       "      <th></th>\n",
       "      <th></th>\n",
       "      <th></th>\n",
       "    </tr>\n",
       "  </thead>\n",
       "  <tbody>\n",
       "    <tr>\n",
       "      <th>Heterozygous_Variant</th>\n",
       "      <td>212</td>\n",
       "      <td>0</td>\n",
       "      <td>626</td>\n",
       "      <td>0</td>\n",
       "      <td>838</td>\n",
       "    </tr>\n",
       "    <tr>\n",
       "      <th>Homozygous_Reference</th>\n",
       "      <td>90</td>\n",
       "      <td>1388</td>\n",
       "      <td>0</td>\n",
       "      <td>0</td>\n",
       "      <td>1478</td>\n",
       "    </tr>\n",
       "    <tr>\n",
       "      <th>Homozygous_Variant</th>\n",
       "      <td>71</td>\n",
       "      <td>0</td>\n",
       "      <td>0</td>\n",
       "      <td>159</td>\n",
       "      <td>230</td>\n",
       "    </tr>\n",
       "    <tr>\n",
       "      <th>Unknown</th>\n",
       "      <td>263</td>\n",
       "      <td>143</td>\n",
       "      <td>26</td>\n",
       "      <td>12</td>\n",
       "      <td>444</td>\n",
       "    </tr>\n",
       "    <tr>\n",
       "      <th>All</th>\n",
       "      <td>636</td>\n",
       "      <td>1531</td>\n",
       "      <td>652</td>\n",
       "      <td>171</td>\n",
       "      <td>2990</td>\n",
       "    </tr>\n",
       "  </tbody>\n",
       "</table>\n",
       "</div>"
      ],
      "text/plain": [
       "GTconswithout          -1     0    1    2   All\n",
       "GTcons                                         \n",
       "Heterozygous_Variant  212     0  626    0   838\n",
       "Homozygous_Reference   90  1388    0    0  1478\n",
       "Homozygous_Variant     71     0    0  159   230\n",
       "Unknown               263   143   26   12   444\n",
       "All                   636  1531  652  171  2990"
      ]
     },
     "execution_count": 18,
     "metadata": {},
     "output_type": "execute_result"
    }
   ],
   "source": [
    "df_train['GTcons'].replace(-1, 'Unknown', inplace=True)\n",
    "df_train['GTcons'].replace(0, 'Homozygous_Reference', inplace=True)\n",
    "df_train['GTcons'].replace(1, 'Heterozygous_Variant', inplace=True)\n",
    "df_train['GTcons'].replace(2, 'Homozygous_Variant', inplace=True)\n",
    "df_train['GTconswithoutIllMP.GT'].replace(-1.0, 'Unknown', inplace=True)\n",
    "df_train['GTconswithoutIllMP.GT'].replace(0.0, 'Homozygous_Reference', inplace=True)\n",
    "df_train['GTconswithoutIllMP.GT'].replace(1.0, 'Heterozygous_Variant', inplace=True)\n",
    "df_train['GTconswithoutIllMP.GT'].replace(2.0, 'Homozygous_Variant', inplace=True)\n",
    "pd.crosstab(GTcons, GTwithout, rownames=['GTcons'], colnames=['GTconswithout'], margins=True)"
   ]
  },
  {
   "cell_type": "code",
   "execution_count": 21,
   "metadata": {},
   "outputs": [
    {
     "data": {
      "text/html": [
       "<div>\n",
       "<table border=\"1\" class=\"dataframe\">\n",
       "  <thead>\n",
       "    <tr style=\"text-align: right;\">\n",
       "      <th>GTconswithout</th>\n",
       "      <th>Heterozygous_Variant</th>\n",
       "      <th>Homozygous_Reference</th>\n",
       "      <th>Homozygous_Variant</th>\n",
       "      <th>Unknown</th>\n",
       "      <th>All</th>\n",
       "    </tr>\n",
       "    <tr>\n",
       "      <th>GTcons</th>\n",
       "      <th></th>\n",
       "      <th></th>\n",
       "      <th></th>\n",
       "      <th></th>\n",
       "      <th></th>\n",
       "    </tr>\n",
       "  </thead>\n",
       "  <tbody>\n",
       "    <tr>\n",
       "      <th>Heterozygous_Variant</th>\n",
       "      <td>626</td>\n",
       "      <td>0</td>\n",
       "      <td>0</td>\n",
       "      <td>212</td>\n",
       "      <td>838</td>\n",
       "    </tr>\n",
       "    <tr>\n",
       "      <th>Homozygous_Reference</th>\n",
       "      <td>0</td>\n",
       "      <td>1388</td>\n",
       "      <td>0</td>\n",
       "      <td>90</td>\n",
       "      <td>1478</td>\n",
       "    </tr>\n",
       "    <tr>\n",
       "      <th>Homozygous_Variant</th>\n",
       "      <td>0</td>\n",
       "      <td>0</td>\n",
       "      <td>159</td>\n",
       "      <td>71</td>\n",
       "      <td>230</td>\n",
       "    </tr>\n",
       "    <tr>\n",
       "      <th>Unknown</th>\n",
       "      <td>26</td>\n",
       "      <td>143</td>\n",
       "      <td>12</td>\n",
       "      <td>263</td>\n",
       "      <td>444</td>\n",
       "    </tr>\n",
       "    <tr>\n",
       "      <th>All</th>\n",
       "      <td>652</td>\n",
       "      <td>1531</td>\n",
       "      <td>171</td>\n",
       "      <td>636</td>\n",
       "      <td>2990</td>\n",
       "    </tr>\n",
       "  </tbody>\n",
       "</table>\n",
       "</div>"
      ],
      "text/plain": [
       "GTconswithout         Heterozygous_Variant  Homozygous_Reference  \\\n",
       "GTcons                                                             \n",
       "Heterozygous_Variant                   626                     0   \n",
       "Homozygous_Reference                     0                  1388   \n",
       "Homozygous_Variant                       0                     0   \n",
       "Unknown                                 26                   143   \n",
       "All                                    652                  1531   \n",
       "\n",
       "GTconswithout         Homozygous_Variant  Unknown   All  \n",
       "GTcons                                                   \n",
       "Heterozygous_Variant                   0      212   838  \n",
       "Homozygous_Reference                   0       90  1478  \n",
       "Homozygous_Variant                   159       71   230  \n",
       "Unknown                               12      263   444  \n",
       "All                                  171      636  2990  "
      ]
     },
     "execution_count": 21,
     "metadata": {},
     "output_type": "execute_result"
    }
   ],
   "source": [
    "df_train['GTcons'].replace(-1, 'Unknown', inplace=True)\n",
    "df_train['GTcons'].replace(0, 'Homozygous_Reference', inplace=True)\n",
    "df_train['GTcons'].replace(1, 'Heterozygous_Variant', inplace=True)\n",
    "df_train['GTcons'].replace(2, 'Homozygous_Variant', inplace=True)\n",
    "df_train['GTconswithoutTenX.GT'].replace(-1.0, 'Unknown', inplace=True)\n",
    "df_train['GTconswithoutTenX.GT'].replace(0.0, 'Homozygous_Reference', inplace=True)\n",
    "df_train['GTconswithoutTenX.GT'].replace(1.0, 'Heterozygous_Variant', inplace=True)\n",
    "df_train['GTconswithoutTenX.GT'].replace(2.0, 'Homozygous_Variant', inplace=True)\n",
    "pd.crosstab(GTcons, GTwithout, rownames=['GTcons'], colnames=['GTconswithout'], margins=True)"
   ]
  },
  {
   "cell_type": "code",
   "execution_count": 20,
   "metadata": {},
   "outputs": [
    {
     "data": {
      "text/html": [
       "<div>\n",
       "<table border=\"1\" class=\"dataframe\">\n",
       "  <thead>\n",
       "    <tr style=\"text-align: right;\">\n",
       "      <th>GTconswithout</th>\n",
       "      <th>Heterozygous_Variant</th>\n",
       "      <th>Homozygous_Reference</th>\n",
       "      <th>Homozygous_Variant</th>\n",
       "      <th>Unknown</th>\n",
       "      <th>All</th>\n",
       "    </tr>\n",
       "    <tr>\n",
       "      <th>GTcons</th>\n",
       "      <th></th>\n",
       "      <th></th>\n",
       "      <th></th>\n",
       "      <th></th>\n",
       "      <th></th>\n",
       "    </tr>\n",
       "  </thead>\n",
       "  <tbody>\n",
       "    <tr>\n",
       "      <th>Heterozygous_Variant</th>\n",
       "      <td>626</td>\n",
       "      <td>0</td>\n",
       "      <td>0</td>\n",
       "      <td>212</td>\n",
       "      <td>838</td>\n",
       "    </tr>\n",
       "    <tr>\n",
       "      <th>Homozygous_Reference</th>\n",
       "      <td>0</td>\n",
       "      <td>1388</td>\n",
       "      <td>0</td>\n",
       "      <td>90</td>\n",
       "      <td>1478</td>\n",
       "    </tr>\n",
       "    <tr>\n",
       "      <th>Homozygous_Variant</th>\n",
       "      <td>0</td>\n",
       "      <td>0</td>\n",
       "      <td>159</td>\n",
       "      <td>71</td>\n",
       "      <td>230</td>\n",
       "    </tr>\n",
       "    <tr>\n",
       "      <th>Unknown</th>\n",
       "      <td>26</td>\n",
       "      <td>143</td>\n",
       "      <td>12</td>\n",
       "      <td>263</td>\n",
       "      <td>444</td>\n",
       "    </tr>\n",
       "    <tr>\n",
       "      <th>All</th>\n",
       "      <td>652</td>\n",
       "      <td>1531</td>\n",
       "      <td>171</td>\n",
       "      <td>636</td>\n",
       "      <td>2990</td>\n",
       "    </tr>\n",
       "  </tbody>\n",
       "</table>\n",
       "</div>"
      ],
      "text/plain": [
       "GTconswithout         Heterozygous_Variant  Homozygous_Reference  \\\n",
       "GTcons                                                             \n",
       "Heterozygous_Variant                   626                     0   \n",
       "Homozygous_Reference                     0                  1388   \n",
       "Homozygous_Variant                       0                     0   \n",
       "Unknown                                 26                   143   \n",
       "All                                    652                  1531   \n",
       "\n",
       "GTconswithout         Homozygous_Variant  Unknown   All  \n",
       "GTcons                                                   \n",
       "Heterozygous_Variant                   0      212   838  \n",
       "Homozygous_Reference                   0       90  1478  \n",
       "Homozygous_Variant                   159       71   230  \n",
       "Unknown                               12      263   444  \n",
       "All                                  171      636  2990  "
      ]
     },
     "execution_count": 20,
     "metadata": {},
     "output_type": "execute_result"
    }
   ],
   "source": [
    "df_train['GTcons'].replace(-1, 'Unknown', inplace=True)\n",
    "df_train['GTcons'].replace(0, 'Homozygous_Reference', inplace=True)\n",
    "df_train['GTcons'].replace(1, 'Heterozygous_Variant', inplace=True)\n",
    "df_train['GTcons'].replace(2, 'Homozygous_Variant', inplace=True)\n",
    "df_train['GTconswithoutpacbio.GT'].replace(-1.0, 'Unknown', inplace=True)\n",
    "df_train['GTconswithoutpacbio.GT'].replace(0.0, 'Homozygous_Reference', inplace=True)\n",
    "df_train['GTconswithoutpacbio.GT'].replace(1.0, 'Heterozygous_Variant', inplace=True)\n",
    "df_train['GTconswithoutpacbio.GT'].replace(2.0, 'Homozygous_Variant', inplace=True)\n",
    "pd.crosstab(GTcons, GTwithout, rownames=['GTcons'], colnames=['GTconswithout'], margins=True)"
   ]
  },
  {
   "cell_type": "markdown",
   "metadata": {},
   "source": [
    "** Test Set **"
   ]
  },
  {
   "cell_type": "code",
   "execution_count": 22,
   "metadata": {},
   "outputs": [
    {
     "name": "stdout",
     "output_type": "stream",
     "text": [
      "[[ 817   28   86   24]\n",
      " [  26  853    0    0]\n",
      " [  47    0 2194    0]\n",
      " [ 140    0    0  781]]\n"
     ]
    }
   ],
   "source": [
    "GTcons = df_test['GTcons']\n",
    "GTwithout = df_test['GTconswithoutIll250.GT']\n",
    "print(confusion_matrix(GTcons, GTwithout))"
   ]
  },
  {
   "cell_type": "code",
   "execution_count": 23,
   "metadata": {},
   "outputs": [
    {
     "name": "stdout",
     "output_type": "stream",
     "text": [
      "[[ 872   16   21   46]\n",
      " [   8  871    0    0]\n",
      " [  79    0 2162    0]\n",
      " [   9    0    0  912]]\n"
     ]
    }
   ],
   "source": [
    "GTcons = df_test['GTcons']\n",
    "GTwithout = df_test['GTconswithoutIll300x.GT']\n",
    "print(confusion_matrix(GTcons, GTwithout))"
   ]
  },
  {
   "cell_type": "code",
   "execution_count": 24,
   "metadata": {},
   "outputs": [
    {
     "name": "stdout",
     "output_type": "stream",
     "text": [
      "[[ 932    3   20    0]\n",
      " [   0  879    0    0]\n",
      " [   1    0 2240    0]\n",
      " [  10    0    0  911]]\n"
     ]
    }
   ],
   "source": [
    "GTcons = df_test['GTcons']\n",
    "GTwithout = df_test['GTconswithoutIllMP.GT']\n",
    "print(confusion_matrix(GTcons, GTwithout))"
   ]
  },
  {
   "cell_type": "code",
   "execution_count": 25,
   "metadata": {},
   "outputs": [
    {
     "name": "stdout",
     "output_type": "stream",
     "text": [
      "[[ 883    2   68    2]\n",
      " [  14  865    0    0]\n",
      " [   1    0 2240    0]\n",
      " [  23    0    0  898]]\n"
     ]
    }
   ],
   "source": [
    "GTcons = df_test['GTcons']\n",
    "GTwithout = df_test['GTconswithoutTenX.GT']\n",
    "print(confusion_matrix(GTcons, GTwithout))"
   ]
  },
  {
   "cell_type": "code",
   "execution_count": 26,
   "metadata": {},
   "outputs": [
    {
     "name": "stdout",
     "output_type": "stream",
     "text": [
      "[[ 618  192  100   45]\n",
      " [  91  788    0    0]\n",
      " [ 429    0 1812    0]\n",
      " [ 240    0    0  681]]\n"
     ]
    }
   ],
   "source": [
    "GTcons = df_test['GTcons']\n",
    "GTwithout = df_test['GTconswithoutpacbio.GT']\n",
    "print(confusion_matrix(GTcons, GTwithout))"
   ]
  },
  {
   "cell_type": "code",
   "execution_count": 27,
   "metadata": {},
   "outputs": [
    {
     "data": {
      "text/html": [
       "<div>\n",
       "<table border=\"1\" class=\"dataframe\">\n",
       "  <thead>\n",
       "    <tr style=\"text-align: right;\">\n",
       "      <th>GTconswithout</th>\n",
       "      <th>-1</th>\n",
       "      <th>0</th>\n",
       "      <th>1</th>\n",
       "      <th>2</th>\n",
       "      <th>All</th>\n",
       "    </tr>\n",
       "    <tr>\n",
       "      <th>GTcons</th>\n",
       "      <th></th>\n",
       "      <th></th>\n",
       "      <th></th>\n",
       "      <th></th>\n",
       "      <th></th>\n",
       "    </tr>\n",
       "  </thead>\n",
       "  <tbody>\n",
       "    <tr>\n",
       "      <th>Heterozygous_Variant</th>\n",
       "      <td>429</td>\n",
       "      <td>0</td>\n",
       "      <td>1812</td>\n",
       "      <td>0</td>\n",
       "      <td>2241</td>\n",
       "    </tr>\n",
       "    <tr>\n",
       "      <th>Homozygous_Reference</th>\n",
       "      <td>91</td>\n",
       "      <td>788</td>\n",
       "      <td>0</td>\n",
       "      <td>0</td>\n",
       "      <td>879</td>\n",
       "    </tr>\n",
       "    <tr>\n",
       "      <th>Homozygous_Variant</th>\n",
       "      <td>240</td>\n",
       "      <td>0</td>\n",
       "      <td>0</td>\n",
       "      <td>681</td>\n",
       "      <td>921</td>\n",
       "    </tr>\n",
       "    <tr>\n",
       "      <th>Unknown</th>\n",
       "      <td>618</td>\n",
       "      <td>192</td>\n",
       "      <td>100</td>\n",
       "      <td>45</td>\n",
       "      <td>955</td>\n",
       "    </tr>\n",
       "    <tr>\n",
       "      <th>All</th>\n",
       "      <td>1378</td>\n",
       "      <td>980</td>\n",
       "      <td>1912</td>\n",
       "      <td>726</td>\n",
       "      <td>4996</td>\n",
       "    </tr>\n",
       "  </tbody>\n",
       "</table>\n",
       "</div>"
      ],
      "text/plain": [
       "GTconswithout           -1    0     1    2   All\n",
       "GTcons                                          \n",
       "Heterozygous_Variant   429    0  1812    0  2241\n",
       "Homozygous_Reference    91  788     0    0   879\n",
       "Homozygous_Variant     240    0     0  681   921\n",
       "Unknown                618  192   100   45   955\n",
       "All                   1378  980  1912  726  4996"
      ]
     },
     "execution_count": 27,
     "metadata": {},
     "output_type": "execute_result"
    }
   ],
   "source": [
    "df_test['GTcons'].replace(-1, 'Unknown', inplace=True)\n",
    "df_test['GTcons'].replace(0, 'Homozygous_Reference', inplace=True)\n",
    "df_test['GTcons'].replace(1, 'Heterozygous_Variant', inplace=True)\n",
    "df_test['GTcons'].replace(2, 'Homozygous_Variant', inplace=True)\n",
    "df_test['GTconswithoutIll250.GT'].replace(-1.0, 'Unknown', inplace=True)\n",
    "df_test['GTconswithoutIll250.GT'].replace(0.0, 'Homozygous_Reference', inplace=True)\n",
    "df_test['GTconswithoutIll250.GT'].replace(1.0, 'Heterozygous_Variant', inplace=True)\n",
    "df_test['GTconswithoutIll250.GT'].replace(2.0, 'Homozygous_Variant', inplace=True)\n",
    "pd.crosstab(GTcons, GTwithout, rownames=['GTcons'], colnames=['GTconswithout'], margins=True)"
   ]
  },
  {
   "cell_type": "code",
   "execution_count": 29,
   "metadata": {},
   "outputs": [
    {
     "data": {
      "text/html": [
       "<div>\n",
       "<table border=\"1\" class=\"dataframe\">\n",
       "  <thead>\n",
       "    <tr style=\"text-align: right;\">\n",
       "      <th>GTconswithout</th>\n",
       "      <th>-1</th>\n",
       "      <th>0</th>\n",
       "      <th>1</th>\n",
       "      <th>2</th>\n",
       "      <th>All</th>\n",
       "    </tr>\n",
       "    <tr>\n",
       "      <th>GTcons</th>\n",
       "      <th></th>\n",
       "      <th></th>\n",
       "      <th></th>\n",
       "      <th></th>\n",
       "      <th></th>\n",
       "    </tr>\n",
       "  </thead>\n",
       "  <tbody>\n",
       "    <tr>\n",
       "      <th>Heterozygous_Variant</th>\n",
       "      <td>429</td>\n",
       "      <td>0</td>\n",
       "      <td>1812</td>\n",
       "      <td>0</td>\n",
       "      <td>2241</td>\n",
       "    </tr>\n",
       "    <tr>\n",
       "      <th>Homozygous_Reference</th>\n",
       "      <td>91</td>\n",
       "      <td>788</td>\n",
       "      <td>0</td>\n",
       "      <td>0</td>\n",
       "      <td>879</td>\n",
       "    </tr>\n",
       "    <tr>\n",
       "      <th>Homozygous_Variant</th>\n",
       "      <td>240</td>\n",
       "      <td>0</td>\n",
       "      <td>0</td>\n",
       "      <td>681</td>\n",
       "      <td>921</td>\n",
       "    </tr>\n",
       "    <tr>\n",
       "      <th>Unknown</th>\n",
       "      <td>618</td>\n",
       "      <td>192</td>\n",
       "      <td>100</td>\n",
       "      <td>45</td>\n",
       "      <td>955</td>\n",
       "    </tr>\n",
       "    <tr>\n",
       "      <th>All</th>\n",
       "      <td>1378</td>\n",
       "      <td>980</td>\n",
       "      <td>1912</td>\n",
       "      <td>726</td>\n",
       "      <td>4996</td>\n",
       "    </tr>\n",
       "  </tbody>\n",
       "</table>\n",
       "</div>"
      ],
      "text/plain": [
       "GTconswithout           -1    0     1    2   All\n",
       "GTcons                                          \n",
       "Heterozygous_Variant   429    0  1812    0  2241\n",
       "Homozygous_Reference    91  788     0    0   879\n",
       "Homozygous_Variant     240    0     0  681   921\n",
       "Unknown                618  192   100   45   955\n",
       "All                   1378  980  1912  726  4996"
      ]
     },
     "execution_count": 29,
     "metadata": {},
     "output_type": "execute_result"
    }
   ],
   "source": [
    "df_test['GTcons'].replace(-1, 'Unknown', inplace=True)\n",
    "df_test['GTcons'].replace(0, 'Homozygous_Reference', inplace=True)\n",
    "df_test['GTcons'].replace(1, 'Heterozygous_Variant', inplace=True)\n",
    "df_test['GTcons'].replace(2, 'Homozygous_Variant', inplace=True)\n",
    "df_test['GTconswithoutIll300x.GT'].replace(-1.0, 'Unknown', inplace=True)\n",
    "df_test['GTconswithoutIll300x.GT'].replace(0.0, 'Homozygous_Reference', inplace=True)\n",
    "df_test['GTconswithoutIll300x.GT'].replace(1.0, 'Heterozygous_Variant', inplace=True)\n",
    "df_test['GTconswithoutIll300x.GT'].replace(2.0, 'Homozygous_Variant', inplace=True)\n",
    "pd.crosstab(GTcons, GTwithout, rownames=['GTcons'], colnames=['GTconswithout'], margins=True)"
   ]
  },
  {
   "cell_type": "code",
   "execution_count": 31,
   "metadata": {},
   "outputs": [
    {
     "data": {
      "text/html": [
       "<div>\n",
       "<table border=\"1\" class=\"dataframe\">\n",
       "  <thead>\n",
       "    <tr style=\"text-align: right;\">\n",
       "      <th>GTconswithout</th>\n",
       "      <th>-1</th>\n",
       "      <th>0</th>\n",
       "      <th>1</th>\n",
       "      <th>2</th>\n",
       "      <th>All</th>\n",
       "    </tr>\n",
       "    <tr>\n",
       "      <th>GTcons</th>\n",
       "      <th></th>\n",
       "      <th></th>\n",
       "      <th></th>\n",
       "      <th></th>\n",
       "      <th></th>\n",
       "    </tr>\n",
       "  </thead>\n",
       "  <tbody>\n",
       "    <tr>\n",
       "      <th>Heterozygous_Variant</th>\n",
       "      <td>429</td>\n",
       "      <td>0</td>\n",
       "      <td>1812</td>\n",
       "      <td>0</td>\n",
       "      <td>2241</td>\n",
       "    </tr>\n",
       "    <tr>\n",
       "      <th>Homozygous_Reference</th>\n",
       "      <td>91</td>\n",
       "      <td>788</td>\n",
       "      <td>0</td>\n",
       "      <td>0</td>\n",
       "      <td>879</td>\n",
       "    </tr>\n",
       "    <tr>\n",
       "      <th>Homozygous_Variant</th>\n",
       "      <td>240</td>\n",
       "      <td>0</td>\n",
       "      <td>0</td>\n",
       "      <td>681</td>\n",
       "      <td>921</td>\n",
       "    </tr>\n",
       "    <tr>\n",
       "      <th>Unknown</th>\n",
       "      <td>618</td>\n",
       "      <td>192</td>\n",
       "      <td>100</td>\n",
       "      <td>45</td>\n",
       "      <td>955</td>\n",
       "    </tr>\n",
       "    <tr>\n",
       "      <th>All</th>\n",
       "      <td>1378</td>\n",
       "      <td>980</td>\n",
       "      <td>1912</td>\n",
       "      <td>726</td>\n",
       "      <td>4996</td>\n",
       "    </tr>\n",
       "  </tbody>\n",
       "</table>\n",
       "</div>"
      ],
      "text/plain": [
       "GTconswithout           -1    0     1    2   All\n",
       "GTcons                                          \n",
       "Heterozygous_Variant   429    0  1812    0  2241\n",
       "Homozygous_Reference    91  788     0    0   879\n",
       "Homozygous_Variant     240    0     0  681   921\n",
       "Unknown                618  192   100   45   955\n",
       "All                   1378  980  1912  726  4996"
      ]
     },
     "execution_count": 31,
     "metadata": {},
     "output_type": "execute_result"
    }
   ],
   "source": [
    "df_test['GTcons'].replace(-1, 'Unknown', inplace=True)\n",
    "df_test['GTcons'].replace(0, 'Homozygous_Reference', inplace=True)\n",
    "df_test['GTcons'].replace(1, 'Heterozygous_Variant', inplace=True)\n",
    "df_test['GTcons'].replace(2, 'Homozygous_Variant', inplace=True)\n",
    "df_test['GTconswithoutIllMP.GT'].replace(-1.0, 'Unknown', inplace=True)\n",
    "df_test['GTconswithoutIllMP.GT'].replace(0.0, 'Homozygous_Reference', inplace=True)\n",
    "df_test['GTconswithoutIllMP.GT'].replace(1.0, 'Heterozygous_Variant', inplace=True)\n",
    "df_test['GTconswithoutIllMP.GT'].replace(2.0, 'Homozygous_Variant', inplace=True)\n",
    "pd.crosstab(GTcons, GTwithout, rownames=['GTcons'], colnames=['GTconswithout'], margins=True)"
   ]
  },
  {
   "cell_type": "code",
   "execution_count": 33,
   "metadata": {},
   "outputs": [
    {
     "data": {
      "text/html": [
       "<div>\n",
       "<table border=\"1\" class=\"dataframe\">\n",
       "  <thead>\n",
       "    <tr style=\"text-align: right;\">\n",
       "      <th>GTconswithout</th>\n",
       "      <th>-1</th>\n",
       "      <th>0</th>\n",
       "      <th>1</th>\n",
       "      <th>2</th>\n",
       "      <th>All</th>\n",
       "    </tr>\n",
       "    <tr>\n",
       "      <th>GTcons</th>\n",
       "      <th></th>\n",
       "      <th></th>\n",
       "      <th></th>\n",
       "      <th></th>\n",
       "      <th></th>\n",
       "    </tr>\n",
       "  </thead>\n",
       "  <tbody>\n",
       "    <tr>\n",
       "      <th>Heterozygous_Variant</th>\n",
       "      <td>429</td>\n",
       "      <td>0</td>\n",
       "      <td>1812</td>\n",
       "      <td>0</td>\n",
       "      <td>2241</td>\n",
       "    </tr>\n",
       "    <tr>\n",
       "      <th>Homozygous_Reference</th>\n",
       "      <td>91</td>\n",
       "      <td>788</td>\n",
       "      <td>0</td>\n",
       "      <td>0</td>\n",
       "      <td>879</td>\n",
       "    </tr>\n",
       "    <tr>\n",
       "      <th>Homozygous_Variant</th>\n",
       "      <td>240</td>\n",
       "      <td>0</td>\n",
       "      <td>0</td>\n",
       "      <td>681</td>\n",
       "      <td>921</td>\n",
       "    </tr>\n",
       "    <tr>\n",
       "      <th>Unknown</th>\n",
       "      <td>618</td>\n",
       "      <td>192</td>\n",
       "      <td>100</td>\n",
       "      <td>45</td>\n",
       "      <td>955</td>\n",
       "    </tr>\n",
       "    <tr>\n",
       "      <th>All</th>\n",
       "      <td>1378</td>\n",
       "      <td>980</td>\n",
       "      <td>1912</td>\n",
       "      <td>726</td>\n",
       "      <td>4996</td>\n",
       "    </tr>\n",
       "  </tbody>\n",
       "</table>\n",
       "</div>"
      ],
      "text/plain": [
       "GTconswithout           -1    0     1    2   All\n",
       "GTcons                                          \n",
       "Heterozygous_Variant   429    0  1812    0  2241\n",
       "Homozygous_Reference    91  788     0    0   879\n",
       "Homozygous_Variant     240    0     0  681   921\n",
       "Unknown                618  192   100   45   955\n",
       "All                   1378  980  1912  726  4996"
      ]
     },
     "execution_count": 33,
     "metadata": {},
     "output_type": "execute_result"
    }
   ],
   "source": [
    "df_test['GTcons'].replace(-1, 'Unknown', inplace=True)\n",
    "df_test['GTcons'].replace(0, 'Homozygous_Reference', inplace=True)\n",
    "df_test['GTcons'].replace(1, 'Heterozygous_Variant', inplace=True)\n",
    "df_test['GTcons'].replace(2, 'Homozygous_Variant', inplace=True)\n",
    "df_test['GTconswithoutTenX.GT'].replace(-1.0, 'Unknown', inplace=True)\n",
    "df_test['GTconswithoutTenX.GT'].replace(0.0, 'Homozygous_Reference', inplace=True)\n",
    "df_test['GTconswithoutTenX.GT'].replace(1.0, 'Heterozygous_Variant', inplace=True)\n",
    "df_test['GTconswithoutTenX.GT'].replace(2.0, 'Homozygous_Variant', inplace=True)\n",
    "pd.crosstab(GTcons, GTwithout, rownames=['GTcons'], colnames=['GTconswithout'], margins=True)"
   ]
  },
  {
   "cell_type": "code",
   "execution_count": 35,
   "metadata": {},
   "outputs": [
    {
     "data": {
      "text/html": [
       "<div>\n",
       "<table border=\"1\" class=\"dataframe\">\n",
       "  <thead>\n",
       "    <tr style=\"text-align: right;\">\n",
       "      <th>GTconswithout</th>\n",
       "      <th>Heterozygous_Variant</th>\n",
       "      <th>Homozygous_Reference</th>\n",
       "      <th>Homozygous_Variant</th>\n",
       "      <th>Unknown</th>\n",
       "      <th>All</th>\n",
       "    </tr>\n",
       "    <tr>\n",
       "      <th>GTcons</th>\n",
       "      <th></th>\n",
       "      <th></th>\n",
       "      <th></th>\n",
       "      <th></th>\n",
       "      <th></th>\n",
       "    </tr>\n",
       "  </thead>\n",
       "  <tbody>\n",
       "    <tr>\n",
       "      <th>Heterozygous_Variant</th>\n",
       "      <td>1812</td>\n",
       "      <td>0</td>\n",
       "      <td>0</td>\n",
       "      <td>429</td>\n",
       "      <td>2241</td>\n",
       "    </tr>\n",
       "    <tr>\n",
       "      <th>Homozygous_Reference</th>\n",
       "      <td>0</td>\n",
       "      <td>788</td>\n",
       "      <td>0</td>\n",
       "      <td>91</td>\n",
       "      <td>879</td>\n",
       "    </tr>\n",
       "    <tr>\n",
       "      <th>Homozygous_Variant</th>\n",
       "      <td>0</td>\n",
       "      <td>0</td>\n",
       "      <td>681</td>\n",
       "      <td>240</td>\n",
       "      <td>921</td>\n",
       "    </tr>\n",
       "    <tr>\n",
       "      <th>Unknown</th>\n",
       "      <td>100</td>\n",
       "      <td>192</td>\n",
       "      <td>45</td>\n",
       "      <td>618</td>\n",
       "      <td>955</td>\n",
       "    </tr>\n",
       "    <tr>\n",
       "      <th>All</th>\n",
       "      <td>1912</td>\n",
       "      <td>980</td>\n",
       "      <td>726</td>\n",
       "      <td>1378</td>\n",
       "      <td>4996</td>\n",
       "    </tr>\n",
       "  </tbody>\n",
       "</table>\n",
       "</div>"
      ],
      "text/plain": [
       "GTconswithout         Heterozygous_Variant  Homozygous_Reference  \\\n",
       "GTcons                                                             \n",
       "Heterozygous_Variant                  1812                     0   \n",
       "Homozygous_Reference                     0                   788   \n",
       "Homozygous_Variant                       0                     0   \n",
       "Unknown                                100                   192   \n",
       "All                                   1912                   980   \n",
       "\n",
       "GTconswithout         Homozygous_Variant  Unknown   All  \n",
       "GTcons                                                   \n",
       "Heterozygous_Variant                   0      429  2241  \n",
       "Homozygous_Reference                   0       91   879  \n",
       "Homozygous_Variant                   681      240   921  \n",
       "Unknown                               45      618   955  \n",
       "All                                  726     1378  4996  "
      ]
     },
     "execution_count": 35,
     "metadata": {},
     "output_type": "execute_result"
    }
   ],
   "source": [
    "df_test['GTcons'].replace(-1, 'Unknown', inplace=True)\n",
    "df_test['GTcons'].replace(0, 'Homozygous_Reference', inplace=True)\n",
    "df_test['GTcons'].replace(1, 'Heterozygous_Variant', inplace=True)\n",
    "df_test['GTcons'].replace(2, 'Homozygous_Variant', inplace=True)\n",
    "df_test['GTconswithoutpacbio.GT'].replace(-1.0, 'Unknown', inplace=True)\n",
    "df_test['GTconswithoutpacbio.GT'].replace(0.0, 'Homozygous_Reference', inplace=True)\n",
    "df_test['GTconswithoutpacbio.GT'].replace(1.0, 'Heterozygous_Variant', inplace=True)\n",
    "df_test['GTconswithoutpacbio.GT'].replace(2.0, 'Homozygous_Variant', inplace=True)\n",
    "pd.crosstab(GTcons, GTwithout, rownames=['GTcons'], colnames=['GTconswithout'], margins=True)"
   ]
  },
  {
   "cell_type": "code",
   "execution_count": null,
   "metadata": {
    "collapsed": true
   },
   "outputs": [],
   "source": []
  }
 ],
 "metadata": {
  "kernelspec": {
   "display_name": "Python [NIHFAES]",
   "language": "python",
   "name": "Python [NIHFAES]"
  },
  "language_info": {
   "codemirror_mode": {
    "name": "ipython",
    "version": 3
   },
   "file_extension": ".py",
   "mimetype": "text/x-python",
   "name": "python",
   "nbconvert_exporter": "python",
   "pygments_lexer": "ipython3",
   "version": "3.5.2"
  }
 },
 "nbformat": 4,
 "nbformat_minor": 2
}
