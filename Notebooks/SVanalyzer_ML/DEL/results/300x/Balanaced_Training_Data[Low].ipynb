{
 "cells": [
  {
   "cell_type": "markdown",
   "metadata": {},
   "source": [
    "### Notebook 2: Balanced Training Data: 300x \n",
    "\n",
    "* Model trained on [equal number of GTcons training examples](#equal)\n",
    "* Homozygous Reference [0] : 120\n",
    "* Heterozygous Variant [1] : 120\n",
    "* Homozygous Variant   [2] : 120\n",
    "\n",
    "Summary\n",
    "------\n",
    "* poor precision score post balanced labels: [0.69](#poor_score1)\n",
    "* low/incorrect [predictions](#predictions)"
   ]
  },
  {
   "cell_type": "code",
   "execution_count": 1,
   "metadata": {},
   "outputs": [
    {
     "name": "stderr",
     "output_type": "stream",
     "text": [
      "/Users/lmc2/anaconda/envs/NIHFAES/lib/python3.5/site-packages/sklearn/cross_validation.py:44: DeprecationWarning:\n",
      "\n",
      "This module was deprecated in version 0.18 in favor of the model_selection module into which all the refactored classes and functions are moved. Also note that the interface of the new CV iterators are different from that of this module. This module will be removed in 0.20.\n",
      "\n",
      "/Users/lmc2/anaconda/envs/NIHFAES/lib/python3.5/site-packages/sklearn/grid_search.py:43: DeprecationWarning:\n",
      "\n",
      "This module was deprecated in version 0.18 in favor of the model_selection module into which all the refactored classes and functions are moved. This module will be removed in 0.20.\n",
      "\n"
     ]
    }
   ],
   "source": [
    "\"\"\"\n",
    "Imports\n",
    "\"\"\"\n",
    "import pandas as pd\n",
    "import numpy as np\n",
    "from fancyimpute import KNN\n",
    "import matplotlib.pyplot as plt\n",
    "from sklearn import preprocessing\n",
    "from sklearn.preprocessing import LabelEncoder\n",
    "from sklearn.model_selection import LeaveOneOut\n",
    "from scipy.stats import ks_2samp\n",
    "from scipy import stats\n",
    "from matplotlib import pyplot\n",
    "from sklearn import preprocessing\n",
    "from scipy.linalg import svd\n",
    "from sklearn.decomposition import TruncatedSVD\n",
    "from sklearn.ensemble import RandomForestClassifier\n",
    "from sklearn.metrics import roc_auc_score\n",
    "import seaborn as sns\n",
    "from sklearn.manifold import TSNE\n",
    "from sklearn.decomposition import PCA as sklearnPCA\n",
    "import plotly.plotly as py\n",
    "from sklearn.cluster import DBSCAN\n",
    "from sklearn.model_selection import train_test_split\n",
    "from sklearn import metrics\n",
    "from sklearn.grid_search import GridSearchCV\n",
    "from sklearn.metrics import f1_score, precision_score\n",
    "from sklearn import preprocessing\n",
    "from ggplot import *\n",
    "from bokeh.charts import TimeSeries\n",
    "from bokeh.models import HoverTool\n",
    "from bokeh.plotting import show\n",
    "from bokeh.charts import Scatter, Histogram, output_file, show\n",
    "from bokeh.plotting import figure, show, output_file, ColumnDataSource\n",
    "from bokeh.io import output_notebook\n",
    "from bokeh.charts import Bar, output_file, show\n",
    "import bokeh.palettes as palettes\n",
    "from bokeh.models import HoverTool, BoxSelectTool, Legend\n",
    "from sklearn import (manifold, datasets, decomposition, ensemble,\n",
    "                     discriminant_analysis, random_projection)"
   ]
  },
  {
   "cell_type": "code",
   "execution_count": 2,
   "metadata": {},
   "outputs": [
    {
     "data": {
      "text/html": [
       "<div>\n",
       "<table border=\"1\" class=\"dataframe\">\n",
       "  <thead>\n",
       "    <tr style=\"text-align: right;\">\n",
       "      <th></th>\n",
       "      <th>chrom</th>\n",
       "      <th>id</th>\n",
       "      <th>sample</th>\n",
       "      <th>start</th>\n",
       "      <th>end</th>\n",
       "      <th>type</th>\n",
       "      <th>SVtype</th>\n",
       "      <th>Size</th>\n",
       "      <th>refN_cnt</th>\n",
       "      <th>refN_pct</th>\n",
       "      <th>...</th>\n",
       "      <th>Ill300x.amb_reason_orientation_orientation</th>\n",
       "      <th>Ill300x.amb_reason_same_scores</th>\n",
       "      <th>Ill300x.ref_alnScore_mean</th>\n",
       "      <th>Ill300x.ref_alnScore_std</th>\n",
       "      <th>Ill300x.ref_count</th>\n",
       "      <th>Ill300x.ref_insertSize_mean</th>\n",
       "      <th>Ill300x.ref_insertSize_std</th>\n",
       "      <th>Ill300x.ref_reason_alignmentScore</th>\n",
       "      <th>Ill300x.ref_reason_insertSizeScore</th>\n",
       "      <th>Ill300x.ref_reason_orientation</th>\n",
       "    </tr>\n",
       "  </thead>\n",
       "  <tbody>\n",
       "    <tr>\n",
       "      <th>0</th>\n",
       "      <td>1</td>\n",
       "      <td>32</td>\n",
       "      <td>HG002</td>\n",
       "      <td>94943232</td>\n",
       "      <td>94943297</td>\n",
       "      <td>Insertion</td>\n",
       "      <td>Deletion</td>\n",
       "      <td>-64</td>\n",
       "      <td>0</td>\n",
       "      <td>0</td>\n",
       "      <td>...</td>\n",
       "      <td>4.0</td>\n",
       "      <td>235.0</td>\n",
       "      <td>588.802575</td>\n",
       "      <td>8.005073</td>\n",
       "      <td>233.0</td>\n",
       "      <td>591.424893</td>\n",
       "      <td>148.291803</td>\n",
       "      <td>233.0</td>\n",
       "      <td>0.0</td>\n",
       "      <td>0.0</td>\n",
       "    </tr>\n",
       "  </tbody>\n",
       "</table>\n",
       "<p>1 rows × 51 columns</p>\n",
       "</div>"
      ],
      "text/plain": [
       "  chrom  id sample     start       end       type    SVtype  Size  refN_cnt  \\\n",
       "0     1  32  HG002  94943232  94943297  Insertion  Deletion   -64         0   \n",
       "\n",
       "   refN_pct               ...                \\\n",
       "0         0               ...                 \n",
       "\n",
       "   Ill300x.amb_reason_orientation_orientation  Ill300x.amb_reason_same_scores  \\\n",
       "0                                         4.0                           235.0   \n",
       "\n",
       "   Ill300x.ref_alnScore_mean  Ill300x.ref_alnScore_std  Ill300x.ref_count  \\\n",
       "0                 588.802575                  8.005073              233.0   \n",
       "\n",
       "   Ill300x.ref_insertSize_mean  Ill300x.ref_insertSize_std  \\\n",
       "0                   591.424893                  148.291803   \n",
       "\n",
       "   Ill300x.ref_reason_alignmentScore  Ill300x.ref_reason_insertSizeScore  \\\n",
       "0                              233.0                                 0.0   \n",
       "\n",
       "   Ill300x.ref_reason_orientation  \n",
       "0                             0.0  \n",
       "\n",
       "[1 rows x 51 columns]"
      ]
     },
     "execution_count": 2,
     "metadata": {},
     "output_type": "execute_result"
    }
   ],
   "source": [
    "# Import Training Data\n",
    "# SVanalyzer generated training data\n",
    "df_train = pd.read_csv('/Volumes/lesleydata/SVanalyzer_ML/Sept122017/Training_Data_SVanalyzer/df_120.csv')\n",
    "df_train_2 = pd.read_csv('/Volumes/lesleydata/SVanalyzer_ML/Sept122017/Training_Data_SVanalyzer/df_120.csv')\n",
    "df_train.rename(columns={'size': 'Size'}, inplace=True)\n",
    "df_train.head(1)"
   ]
  },
  {
   "cell_type": "markdown",
   "metadata": {},
   "source": [
    "<a id='equal'></a>"
   ]
  },
  {
   "cell_type": "code",
   "execution_count": 3,
   "metadata": {},
   "outputs": [
    {
     "data": {
      "text/plain": [
       "0    120\n",
       "1    120\n",
       "2    120\n",
       "dtype: int64"
      ]
     },
     "execution_count": 3,
     "metadata": {},
     "output_type": "execute_result"
    }
   ],
   "source": [
    "# Train the model only on the rows that have an Exact Match or Homozygous Reference Label\n",
    "# This step removes any row that has in 'Inaccurate Call' label\n",
    "df_train = df_train[(df_train['Label'] == 1) | (df_train['Label'] == 0)]\n",
    "df_train_2 = df_train_2[(df_train_2['Label'] == 1) | (df_train_2['Label'] == 0)]\n",
    "pd.value_counts(df_train['GTcons'].values, sort=False)"
   ]
  },
  {
   "cell_type": "code",
   "execution_count": 4,
   "metadata": {},
   "outputs": [
    {
     "data": {
      "text/html": [
       "<div>\n",
       "<table border=\"1\" class=\"dataframe\">\n",
       "  <thead>\n",
       "    <tr style=\"text-align: right;\">\n",
       "      <th></th>\n",
       "      <th>chrom</th>\n",
       "      <th>id</th>\n",
       "      <th>sample</th>\n",
       "      <th>start</th>\n",
       "      <th>end</th>\n",
       "      <th>type</th>\n",
       "      <th>SVtype</th>\n",
       "      <th>Size</th>\n",
       "      <th>refN_cnt</th>\n",
       "      <th>refN_pct</th>\n",
       "      <th>...</th>\n",
       "      <th>Ill300x.amb_reason_orientation_orientation</th>\n",
       "      <th>Ill300x.amb_reason_same_scores</th>\n",
       "      <th>Ill300x.ref_alnScore_mean</th>\n",
       "      <th>Ill300x.ref_alnScore_std</th>\n",
       "      <th>Ill300x.ref_count</th>\n",
       "      <th>Ill300x.ref_insertSize_mean</th>\n",
       "      <th>Ill300x.ref_insertSize_std</th>\n",
       "      <th>Ill300x.ref_reason_alignmentScore</th>\n",
       "      <th>Ill300x.ref_reason_insertSizeScore</th>\n",
       "      <th>Ill300x.ref_reason_orientation</th>\n",
       "    </tr>\n",
       "  </thead>\n",
       "  <tbody>\n",
       "    <tr>\n",
       "      <th>0</th>\n",
       "      <td>4</td>\n",
       "      <td>1</td>\n",
       "      <td>HG002</td>\n",
       "      <td>95498964</td>\n",
       "      <td>95499280</td>\n",
       "      <td>Deletion</td>\n",
       "      <td>Deletion</td>\n",
       "      <td>-316</td>\n",
       "      <td>0</td>\n",
       "      <td>0</td>\n",
       "      <td>...</td>\n",
       "      <td>5.0</td>\n",
       "      <td>71.0</td>\n",
       "      <td>588.0</td>\n",
       "      <td>6.226494</td>\n",
       "      <td>13.0</td>\n",
       "      <td>831.0</td>\n",
       "      <td>202.968357</td>\n",
       "      <td>13.0</td>\n",
       "      <td>0.0</td>\n",
       "      <td>0.0</td>\n",
       "    </tr>\n",
       "  </tbody>\n",
       "</table>\n",
       "<p>1 rows × 51 columns</p>\n",
       "</div>"
      ],
      "text/plain": [
       "  chrom  id sample     start       end      type    SVtype  Size  refN_cnt  \\\n",
       "0     4   1  HG002  95498964  95499280  Deletion  Deletion  -316         0   \n",
       "\n",
       "   refN_pct               ...                \\\n",
       "0         0               ...                 \n",
       "\n",
       "   Ill300x.amb_reason_orientation_orientation  Ill300x.amb_reason_same_scores  \\\n",
       "0                                         5.0                            71.0   \n",
       "\n",
       "   Ill300x.ref_alnScore_mean  Ill300x.ref_alnScore_std  Ill300x.ref_count  \\\n",
       "0                      588.0                  6.226494               13.0   \n",
       "\n",
       "   Ill300x.ref_insertSize_mean  Ill300x.ref_insertSize_std  \\\n",
       "0                        831.0                  202.968357   \n",
       "\n",
       "   Ill300x.ref_reason_alignmentScore  Ill300x.ref_reason_insertSizeScore  \\\n",
       "0                               13.0                                 0.0   \n",
       "\n",
       "   Ill300x.ref_reason_orientation  \n",
       "0                             0.0  \n",
       "\n",
       "[1 rows x 51 columns]"
      ]
     },
     "execution_count": 4,
     "metadata": {},
     "output_type": "execute_result"
    }
   ],
   "source": [
    "# Import Test Data\n",
    "# SVanalyzer generated training data\n",
    "df_test = pd.read_csv('/Volumes/lesleydata/SVanalyzer_ML/Sept122017/Step3_ML/data/test/tech_sep/DEL/no_minus_one/300x_HG002_no-1_DEL.csv')\n",
    "df_test_2 = pd.read_csv('/Volumes/lesleydata/SVanalyzer_ML/Sept122017/Step3_ML/data/test/tech_sep/DEL/no_minus_one/300x_HG002_no-1_DEL.csv')\n",
    "df_test.rename(columns={'size': 'Size'}, inplace=True)\n",
    "df_test.head(1)"
   ]
  },
  {
   "cell_type": "code",
   "execution_count": 5,
   "metadata": {},
   "outputs": [
    {
     "data": {
      "text/plain": [
       "{'Label'}"
      ]
     },
     "execution_count": 5,
     "metadata": {},
     "output_type": "execute_result"
    }
   ],
   "source": [
    "# Store header names in lists and find names that are NOT contained in BOTH lists\n",
    "c = list(df_train.columns.values)\n",
    "d = list(df_test.columns.values)\n",
    "set(c) - set(d)"
   ]
  },
  {
   "cell_type": "code",
   "execution_count": 6,
   "metadata": {
    "collapsed": true
   },
   "outputs": [],
   "source": [
    "### Drop columns that are not shared by both dataframes\n",
    "df_train.drop(['Label'], axis=1, inplace = True)\n",
    "df_train.drop(['GTconflict'], axis=1, inplace = True)\n",
    "df_train.drop(['GTsupp'], axis=1, inplace = True)\n",
    "df_train.drop(['sample'], axis=1, inplace = True)\n",
    "df_train.drop(['SVtype'], axis=1, inplace = True)\n",
    "df_train.drop(['type'], axis=1, inplace = True)\n",
    "df_train.drop(['id'], axis=1, inplace = True)"
   ]
  },
  {
   "cell_type": "code",
   "execution_count": 7,
   "metadata": {},
   "outputs": [
    {
     "data": {
      "text/html": [
       "<div>\n",
       "<table border=\"1\" class=\"dataframe\">\n",
       "  <thead>\n",
       "    <tr style=\"text-align: right;\">\n",
       "      <th></th>\n",
       "      <th>chrom</th>\n",
       "      <th>start</th>\n",
       "      <th>end</th>\n",
       "      <th>Size</th>\n",
       "      <th>refN_cnt</th>\n",
       "      <th>refN_pct</th>\n",
       "      <th>segdup_cnt</th>\n",
       "      <th>segdup_pct</th>\n",
       "      <th>tandemrep_cnt</th>\n",
       "      <th>tandemrep_pct</th>\n",
       "      <th>...</th>\n",
       "      <th>Ill300x.amb_reason_orientation_orientation</th>\n",
       "      <th>Ill300x.amb_reason_same_scores</th>\n",
       "      <th>Ill300x.ref_alnScore_mean</th>\n",
       "      <th>Ill300x.ref_alnScore_std</th>\n",
       "      <th>Ill300x.ref_count</th>\n",
       "      <th>Ill300x.ref_insertSize_mean</th>\n",
       "      <th>Ill300x.ref_insertSize_std</th>\n",
       "      <th>Ill300x.ref_reason_alignmentScore</th>\n",
       "      <th>Ill300x.ref_reason_insertSizeScore</th>\n",
       "      <th>Ill300x.ref_reason_orientation</th>\n",
       "    </tr>\n",
       "  </thead>\n",
       "  <tbody>\n",
       "    <tr>\n",
       "      <th>0</th>\n",
       "      <td>1</td>\n",
       "      <td>94943232</td>\n",
       "      <td>94943297</td>\n",
       "      <td>-64</td>\n",
       "      <td>0</td>\n",
       "      <td>0</td>\n",
       "      <td>0</td>\n",
       "      <td>0.0</td>\n",
       "      <td>0</td>\n",
       "      <td>0.0</td>\n",
       "      <td>...</td>\n",
       "      <td>4.0</td>\n",
       "      <td>235.0</td>\n",
       "      <td>588.802575</td>\n",
       "      <td>8.005073</td>\n",
       "      <td>233.0</td>\n",
       "      <td>591.424893</td>\n",
       "      <td>148.291803</td>\n",
       "      <td>233.0</td>\n",
       "      <td>0.0</td>\n",
       "      <td>0.0</td>\n",
       "    </tr>\n",
       "  </tbody>\n",
       "</table>\n",
       "<p>1 rows × 44 columns</p>\n",
       "</div>"
      ],
      "text/plain": [
       "  chrom     start       end  Size  refN_cnt  refN_pct  segdup_cnt  segdup_pct  \\\n",
       "0     1  94943232  94943297   -64         0         0           0         0.0   \n",
       "\n",
       "   tandemrep_cnt  tandemrep_pct               ...                \\\n",
       "0              0            0.0               ...                 \n",
       "\n",
       "   Ill300x.amb_reason_orientation_orientation  Ill300x.amb_reason_same_scores  \\\n",
       "0                                         4.0                           235.0   \n",
       "\n",
       "   Ill300x.ref_alnScore_mean  Ill300x.ref_alnScore_std  Ill300x.ref_count  \\\n",
       "0                 588.802575                  8.005073              233.0   \n",
       "\n",
       "   Ill300x.ref_insertSize_mean  Ill300x.ref_insertSize_std  \\\n",
       "0                   591.424893                  148.291803   \n",
       "\n",
       "   Ill300x.ref_reason_alignmentScore  Ill300x.ref_reason_insertSizeScore  \\\n",
       "0                              233.0                                 0.0   \n",
       "\n",
       "   Ill300x.ref_reason_orientation  \n",
       "0                             0.0  \n",
       "\n",
       "[1 rows x 44 columns]"
      ]
     },
     "execution_count": 7,
     "metadata": {},
     "output_type": "execute_result"
    }
   ],
   "source": [
    "df_train.head(1)"
   ]
  },
  {
   "cell_type": "code",
   "execution_count": 8,
   "metadata": {
    "collapsed": true
   },
   "outputs": [],
   "source": [
    "df_train['chrom'].replace('X', 23, inplace=True)\n",
    "df_train['chrom'].replace('Y', 24, inplace=True)\n",
    "df_test['chrom'].replace('X', 23, inplace=True)\n",
    "df_test['chrom'].replace('Y', 24, inplace=True)"
   ]
  },
  {
   "cell_type": "code",
   "execution_count": 9,
   "metadata": {},
   "outputs": [
    {
     "data": {
      "text/plain": [
       "{'GTconflict',\n",
       " 'GTsupp',\n",
       " 'Ill300x.amb_reason_alignmentScore_insertSizeScore',\n",
       " 'SVtype',\n",
       " 'id',\n",
       " 'sample',\n",
       " 'type'}"
      ]
     },
     "execution_count": 9,
     "metadata": {},
     "output_type": "execute_result"
    }
   ],
   "source": [
    "# Store header names in lists and find names that are NOT contained in BOTH lists\n",
    "c = list(df_train.columns.values)\n",
    "d = list(df_test.columns.values)\n",
    "set(d) - set(c)"
   ]
  },
  {
   "cell_type": "code",
   "execution_count": 10,
   "metadata": {
    "collapsed": true
   },
   "outputs": [],
   "source": [
    "### Drop columns that are not shared by both dataframes\n",
    "df_test.drop(['Ill300x.amb_reason_alignmentScore_insertSizeScore'], axis=1, inplace = True)\n",
    "df_test.drop(['GTcons'], axis=1, inplace = True)\n",
    "df_test.drop(['GTconflict'], axis=1, inplace = True)\n",
    "df_test.drop(['GTsupp'], axis=1, inplace = True)\n",
    "df_test.drop(['sample'], axis=1, inplace = True)\n",
    "df_test.drop(['SVtype'], axis=1, inplace = True)\n",
    "df_test.drop(['type'], axis=1, inplace = True)\n",
    "df_test.drop(['id'], axis=1, inplace = True)"
   ]
  },
  {
   "cell_type": "markdown",
   "metadata": {},
   "source": [
    "***\n",
    "Impute missing values using KNN\n",
    "***"
   ]
  },
  {
   "cell_type": "code",
   "execution_count": 11,
   "metadata": {},
   "outputs": [
    {
     "data": {
      "text/plain": [
       "0    120\n",
       "1    120\n",
       "2    120\n",
       "dtype: int64"
      ]
     },
     "execution_count": 11,
     "metadata": {},
     "output_type": "execute_result"
    }
   ],
   "source": [
    "pd.value_counts(df_train['GTcons'].values, sort=False)"
   ]
  },
  {
   "cell_type": "code",
   "execution_count": 12,
   "metadata": {},
   "outputs": [
    {
     "data": {
      "text/html": [
       "<div>\n",
       "<table border=\"1\" class=\"dataframe\">\n",
       "  <thead>\n",
       "    <tr style=\"text-align: right;\">\n",
       "      <th></th>\n",
       "      <th>chrom</th>\n",
       "      <th>start</th>\n",
       "      <th>end</th>\n",
       "      <th>Size</th>\n",
       "      <th>refN_cnt</th>\n",
       "      <th>refN_pct</th>\n",
       "      <th>segdup_cnt</th>\n",
       "      <th>segdup_pct</th>\n",
       "      <th>tandemrep_cnt</th>\n",
       "      <th>tandemrep_pct</th>\n",
       "      <th>...</th>\n",
       "      <th>Ill300x.amb_reason_orientation_orientation</th>\n",
       "      <th>Ill300x.amb_reason_same_scores</th>\n",
       "      <th>Ill300x.ref_alnScore_mean</th>\n",
       "      <th>Ill300x.ref_alnScore_std</th>\n",
       "      <th>Ill300x.ref_count</th>\n",
       "      <th>Ill300x.ref_insertSize_mean</th>\n",
       "      <th>Ill300x.ref_insertSize_std</th>\n",
       "      <th>Ill300x.ref_reason_alignmentScore</th>\n",
       "      <th>Ill300x.ref_reason_insertSizeScore</th>\n",
       "      <th>Ill300x.ref_reason_orientation</th>\n",
       "    </tr>\n",
       "  </thead>\n",
       "  <tbody>\n",
       "    <tr>\n",
       "      <th>0</th>\n",
       "      <td>1</td>\n",
       "      <td>94943232</td>\n",
       "      <td>94943297</td>\n",
       "      <td>-64</td>\n",
       "      <td>0</td>\n",
       "      <td>0</td>\n",
       "      <td>0</td>\n",
       "      <td>0.0</td>\n",
       "      <td>0</td>\n",
       "      <td>0.0</td>\n",
       "      <td>...</td>\n",
       "      <td>4.0</td>\n",
       "      <td>235.0</td>\n",
       "      <td>588.802575</td>\n",
       "      <td>8.005073</td>\n",
       "      <td>233.0</td>\n",
       "      <td>591.424893</td>\n",
       "      <td>148.291803</td>\n",
       "      <td>233.0</td>\n",
       "      <td>0.0</td>\n",
       "      <td>0.0</td>\n",
       "    </tr>\n",
       "    <tr>\n",
       "      <th>1</th>\n",
       "      <td>13</td>\n",
       "      <td>31386018</td>\n",
       "      <td>31386046</td>\n",
       "      <td>-27</td>\n",
       "      <td>0</td>\n",
       "      <td>0</td>\n",
       "      <td>0</td>\n",
       "      <td>0.0</td>\n",
       "      <td>1</td>\n",
       "      <td>1.0</td>\n",
       "      <td>...</td>\n",
       "      <td>7.0</td>\n",
       "      <td>300.0</td>\n",
       "      <td>589.453658</td>\n",
       "      <td>5.935758</td>\n",
       "      <td>205.0</td>\n",
       "      <td>565.726829</td>\n",
       "      <td>131.428302</td>\n",
       "      <td>205.0</td>\n",
       "      <td>0.0</td>\n",
       "      <td>0.0</td>\n",
       "    </tr>\n",
       "    <tr>\n",
       "      <th>2</th>\n",
       "      <td>15</td>\n",
       "      <td>29880730</td>\n",
       "      <td>29880794</td>\n",
       "      <td>-63</td>\n",
       "      <td>0</td>\n",
       "      <td>0</td>\n",
       "      <td>0</td>\n",
       "      <td>0.0</td>\n",
       "      <td>1</td>\n",
       "      <td>1.0</td>\n",
       "      <td>...</td>\n",
       "      <td>4.0</td>\n",
       "      <td>135.0</td>\n",
       "      <td>579.909836</td>\n",
       "      <td>13.114255</td>\n",
       "      <td>122.0</td>\n",
       "      <td>569.131147</td>\n",
       "      <td>123.995237</td>\n",
       "      <td>122.0</td>\n",
       "      <td>0.0</td>\n",
       "      <td>0.0</td>\n",
       "    </tr>\n",
       "  </tbody>\n",
       "</table>\n",
       "<p>3 rows × 44 columns</p>\n",
       "</div>"
      ],
      "text/plain": [
       "  chrom     start       end  Size  refN_cnt  refN_pct  segdup_cnt  segdup_pct  \\\n",
       "0     1  94943232  94943297   -64         0         0           0         0.0   \n",
       "1    13  31386018  31386046   -27         0         0           0         0.0   \n",
       "2    15  29880730  29880794   -63         0         0           0         0.0   \n",
       "\n",
       "   tandemrep_cnt  tandemrep_pct               ...                \\\n",
       "0              0            0.0               ...                 \n",
       "1              1            1.0               ...                 \n",
       "2              1            1.0               ...                 \n",
       "\n",
       "   Ill300x.amb_reason_orientation_orientation  Ill300x.amb_reason_same_scores  \\\n",
       "0                                         4.0                           235.0   \n",
       "1                                         7.0                           300.0   \n",
       "2                                         4.0                           135.0   \n",
       "\n",
       "   Ill300x.ref_alnScore_mean  Ill300x.ref_alnScore_std  Ill300x.ref_count  \\\n",
       "0                 588.802575                  8.005073              233.0   \n",
       "1                 589.453658                  5.935758              205.0   \n",
       "2                 579.909836                 13.114255              122.0   \n",
       "\n",
       "   Ill300x.ref_insertSize_mean  Ill300x.ref_insertSize_std  \\\n",
       "0                   591.424893                  148.291803   \n",
       "1                   565.726829                  131.428302   \n",
       "2                   569.131147                  123.995237   \n",
       "\n",
       "   Ill300x.ref_reason_alignmentScore  Ill300x.ref_reason_insertSizeScore  \\\n",
       "0                              233.0                                 0.0   \n",
       "1                              205.0                                 0.0   \n",
       "2                              122.0                                 0.0   \n",
       "\n",
       "   Ill300x.ref_reason_orientation  \n",
       "0                             0.0  \n",
       "1                             0.0  \n",
       "2                             0.0  \n",
       "\n",
       "[3 rows x 44 columns]"
      ]
     },
     "execution_count": 12,
     "metadata": {},
     "output_type": "execute_result"
    }
   ],
   "source": [
    "# Store training data in a new variable which will be converted to a matrix\n",
    "X = df_train\n",
    "X.head(3)"
   ]
  },
  {
   "cell_type": "code",
   "execution_count": 13,
   "metadata": {},
   "outputs": [
    {
     "data": {
      "text/plain": [
       "0    120\n",
       "1    120\n",
       "2    120\n",
       "dtype: int64"
      ]
     },
     "execution_count": 13,
     "metadata": {},
     "output_type": "execute_result"
    }
   ],
   "source": [
    "pd.value_counts(X['GTcons'].values, sort=False)"
   ]
  },
  {
   "cell_type": "code",
   "execution_count": 14,
   "metadata": {},
   "outputs": [
    {
     "name": "stdout",
     "output_type": "stream",
     "text": [
      "Imputing row 1/360 with 3 missing, elapsed time: 0.048\n",
      "Imputing row 101/360 with 2 missing, elapsed time: 0.091\n",
      "Imputing row 201/360 with 3 missing, elapsed time: 0.096\n",
      "Imputing row 301/360 with 3 missing, elapsed time: 0.102\n",
      "[KNN] Warning: 720/15840 still missing after imputation, replacing with 0\n"
     ]
    }
   ],
   "source": [
    "# Convert dataframe to matrix\n",
    "X=X.as_matrix()\n",
    "\n",
    "#Imput missing values from three closest observations\n",
    "X_imputed=KNN(k=3).complete(X)\n",
    "X=pd.DataFrame(X_imputed)"
   ]
  },
  {
   "cell_type": "code",
   "execution_count": 15,
   "metadata": {},
   "outputs": [
    {
     "data": {
      "text/html": [
       "<div>\n",
       "<table border=\"1\" class=\"dataframe\">\n",
       "  <thead>\n",
       "    <tr style=\"text-align: right;\">\n",
       "      <th></th>\n",
       "      <th>chrom</th>\n",
       "      <th>start</th>\n",
       "      <th>end</th>\n",
       "      <th>Size</th>\n",
       "      <th>refN_cnt</th>\n",
       "      <th>refN_pct</th>\n",
       "      <th>segdup_cnt</th>\n",
       "      <th>segdup_pct</th>\n",
       "      <th>tandemrep_cnt</th>\n",
       "      <th>tandemrep_pct</th>\n",
       "      <th>...</th>\n",
       "      <th>Ill300x.amb_reason_orientation_orientation</th>\n",
       "      <th>Ill300x.amb_reason_same_scores</th>\n",
       "      <th>Ill300x.ref_alnScore_mean</th>\n",
       "      <th>Ill300x.ref_alnScore_std</th>\n",
       "      <th>Ill300x.ref_count</th>\n",
       "      <th>Ill300x.ref_insertSize_mean</th>\n",
       "      <th>Ill300x.ref_insertSize_std</th>\n",
       "      <th>Ill300x.ref_reason_alignmentScore</th>\n",
       "      <th>Ill300x.ref_reason_insertSizeScore</th>\n",
       "      <th>Ill300x.ref_reason_orientation</th>\n",
       "    </tr>\n",
       "  </thead>\n",
       "  <tbody>\n",
       "    <tr>\n",
       "      <th>0</th>\n",
       "      <td>1.0</td>\n",
       "      <td>94943232.0</td>\n",
       "      <td>94943297.0</td>\n",
       "      <td>-64.0</td>\n",
       "      <td>0.0</td>\n",
       "      <td>0.0</td>\n",
       "      <td>0.0</td>\n",
       "      <td>0.0</td>\n",
       "      <td>0.0</td>\n",
       "      <td>0.0</td>\n",
       "      <td>...</td>\n",
       "      <td>4.0</td>\n",
       "      <td>235.0</td>\n",
       "      <td>588.802575</td>\n",
       "      <td>8.005073</td>\n",
       "      <td>233.0</td>\n",
       "      <td>591.424893</td>\n",
       "      <td>148.291803</td>\n",
       "      <td>233.0</td>\n",
       "      <td>0.0</td>\n",
       "      <td>0.0</td>\n",
       "    </tr>\n",
       "    <tr>\n",
       "      <th>1</th>\n",
       "      <td>13.0</td>\n",
       "      <td>31386018.0</td>\n",
       "      <td>31386046.0</td>\n",
       "      <td>-27.0</td>\n",
       "      <td>0.0</td>\n",
       "      <td>0.0</td>\n",
       "      <td>0.0</td>\n",
       "      <td>0.0</td>\n",
       "      <td>1.0</td>\n",
       "      <td>1.0</td>\n",
       "      <td>...</td>\n",
       "      <td>7.0</td>\n",
       "      <td>300.0</td>\n",
       "      <td>589.453658</td>\n",
       "      <td>5.935758</td>\n",
       "      <td>205.0</td>\n",
       "      <td>565.726829</td>\n",
       "      <td>131.428302</td>\n",
       "      <td>205.0</td>\n",
       "      <td>0.0</td>\n",
       "      <td>0.0</td>\n",
       "    </tr>\n",
       "    <tr>\n",
       "      <th>2</th>\n",
       "      <td>15.0</td>\n",
       "      <td>29880730.0</td>\n",
       "      <td>29880794.0</td>\n",
       "      <td>-63.0</td>\n",
       "      <td>0.0</td>\n",
       "      <td>0.0</td>\n",
       "      <td>0.0</td>\n",
       "      <td>0.0</td>\n",
       "      <td>1.0</td>\n",
       "      <td>1.0</td>\n",
       "      <td>...</td>\n",
       "      <td>4.0</td>\n",
       "      <td>135.0</td>\n",
       "      <td>579.909836</td>\n",
       "      <td>13.114255</td>\n",
       "      <td>122.0</td>\n",
       "      <td>569.131147</td>\n",
       "      <td>123.995237</td>\n",
       "      <td>122.0</td>\n",
       "      <td>0.0</td>\n",
       "      <td>0.0</td>\n",
       "    </tr>\n",
       "  </tbody>\n",
       "</table>\n",
       "<p>3 rows × 44 columns</p>\n",
       "</div>"
      ],
      "text/plain": [
       "   chrom       start         end  Size  refN_cnt  refN_pct  segdup_cnt  \\\n",
       "0    1.0  94943232.0  94943297.0 -64.0       0.0       0.0         0.0   \n",
       "1   13.0  31386018.0  31386046.0 -27.0       0.0       0.0         0.0   \n",
       "2   15.0  29880730.0  29880794.0 -63.0       0.0       0.0         0.0   \n",
       "\n",
       "   segdup_pct  tandemrep_cnt  tandemrep_pct               ...                \\\n",
       "0         0.0            0.0            0.0               ...                 \n",
       "1         0.0            1.0            1.0               ...                 \n",
       "2         0.0            1.0            1.0               ...                 \n",
       "\n",
       "   Ill300x.amb_reason_orientation_orientation  Ill300x.amb_reason_same_scores  \\\n",
       "0                                         4.0                           235.0   \n",
       "1                                         7.0                           300.0   \n",
       "2                                         4.0                           135.0   \n",
       "\n",
       "   Ill300x.ref_alnScore_mean  Ill300x.ref_alnScore_std  Ill300x.ref_count  \\\n",
       "0                 588.802575                  8.005073              233.0   \n",
       "1                 589.453658                  5.935758              205.0   \n",
       "2                 579.909836                 13.114255              122.0   \n",
       "\n",
       "   Ill300x.ref_insertSize_mean  Ill300x.ref_insertSize_std  \\\n",
       "0                   591.424893                  148.291803   \n",
       "1                   565.726829                  131.428302   \n",
       "2                   569.131147                  123.995237   \n",
       "\n",
       "   Ill300x.ref_reason_alignmentScore  Ill300x.ref_reason_insertSizeScore  \\\n",
       "0                              233.0                                 0.0   \n",
       "1                              205.0                                 0.0   \n",
       "2                              122.0                                 0.0   \n",
       "\n",
       "   Ill300x.ref_reason_orientation  \n",
       "0                             0.0  \n",
       "1                             0.0  \n",
       "2                             0.0  \n",
       "\n",
       "[3 rows x 44 columns]"
      ]
     },
     "execution_count": 15,
     "metadata": {},
     "output_type": "execute_result"
    }
   ],
   "source": [
    "# Store header values in a list, will be used later to re-label the matrix post KNN imputation\n",
    "dftrain_header = list(df_train.columns.values)\n",
    "X.columns = dftrain_header\n",
    "X.head(3)"
   ]
  },
  {
   "cell_type": "code",
   "execution_count": 16,
   "metadata": {
    "collapsed": true
   },
   "outputs": [],
   "source": [
    "# Store Labels in a new 'Y' DataFrame\n",
    "Y = pd.DataFrame()\n",
    "Y = X['GTcons']"
   ]
  },
  {
   "cell_type": "code",
   "execution_count": 17,
   "metadata": {},
   "outputs": [
    {
     "data": {
      "text/plain": [
       "0.0    120\n",
       "1.0    120\n",
       "2.0    120\n",
       "dtype: int64"
      ]
     },
     "execution_count": 17,
     "metadata": {},
     "output_type": "execute_result"
    }
   ],
   "source": [
    "#Count the number of labels\n",
    "pd.value_counts(Y.values, sort=False)"
   ]
  },
  {
   "cell_type": "code",
   "execution_count": 18,
   "metadata": {
    "collapsed": true
   },
   "outputs": [],
   "source": [
    "# Note: originally selected 1000 of each label --> find out why some are lost"
   ]
  },
  {
   "cell_type": "code",
   "execution_count": 19,
   "metadata": {
    "collapsed": true
   },
   "outputs": [],
   "source": [
    "# Remove labels from feature set\n",
    "X.drop(['GTcons'],axis=1, inplace = True)"
   ]
  },
  {
   "cell_type": "code",
   "execution_count": 20,
   "metadata": {
    "collapsed": true
   },
   "outputs": [],
   "source": [
    "# Order features\n",
    "X4 = X.reindex_axis(sorted(X.columns), axis=1)"
   ]
  },
  {
   "cell_type": "markdown",
   "metadata": {},
   "source": [
    "***\n",
    "Machine Learning\n",
    "***"
   ]
  },
  {
   "cell_type": "markdown",
   "metadata": {},
   "source": [
    "<a id='machine_learning'></a>"
   ]
  },
  {
   "cell_type": "markdown",
   "metadata": {},
   "source": [
    "Description:\n",
    "\n",
    "   * In the following section a random forest model will be trained on svanalyzer data.\n",
    "\n",
    "       * The model was trained using [train/test split](http://scikit-learn.org/0.16/modules/generated/sklearn.cross_validation.train_test_split.html) where 70% of the data was used to train the model and the model performance was determined by predicting labels for the remaining 30% of the data. The trained model will be used in a [later section](#predict) to predict the consensus GT for 5000 randomly selected deletions [these deletions were randomly selected from [union_170509_refalt.sort.vcf](ftp://ftp-trace.ncbi.nlm.nih.gov/giab/ftp/data/AshkenazimTrio/analysis/NIST_UnionSVs_05092017/)]\n",
    "       * In the following section, svanalyzer data was used to train a random forest (RF) model. The features for the svanalyzer dataset include: svviz features, GA4GH features [RefN, Segmental Duplications, Tandem Repeat], preliminary R script analysis [consensus GT, GTsup].\n",
    "       * The RF classifier will predict the consensus GT labels:\n",
    "           * Homozygous Reference (0)\n",
    "           * Heterozygous Variant (1)\n",
    "           * Homozygous Variant (2)\n",
    "       \n",
    "       * In the [following section](#prediction_step), the trained RF model will be used to predict labels for genotype labels for 5000 randomly selected deletions [these deletions were randomly selected from [union_170509_refalt.sort.vcf](ftp://ftp-trace.ncbi.nlm.nih.gov/giab/ftp/data/AshkenazimTrio/analysis/NIST_UnionSVs_05092017/)]. "
   ]
  },
  {
   "cell_type": "markdown",
   "metadata": {},
   "source": [
    "** Train Random Forest Classifier **"
   ]
  },
  {
   "cell_type": "markdown",
   "metadata": {},
   "source": [
    "<a id='train_test'></a>"
   ]
  },
  {
   "cell_type": "code",
   "execution_count": 21,
   "metadata": {
    "collapsed": true
   },
   "outputs": [],
   "source": [
    "# Train Test Split\n",
    "# Train on 70% of the data and test on 30%\n",
    "from sklearn import cross_validation\n",
    "X_train, X_test, y_train, y_test = train_test_split(X4, Y, test_size=0.35, random_state=30, stratify=Y)"
   ]
  },
  {
   "cell_type": "code",
   "execution_count": 22,
   "metadata": {},
   "outputs": [
    {
     "data": {
      "text/plain": [
       "0.0    78\n",
       "1.0    78\n",
       "2.0    78\n",
       "dtype: int64"
      ]
     },
     "execution_count": 22,
     "metadata": {},
     "output_type": "execute_result"
    }
   ],
   "source": [
    "#NOTE: Training Set - Show number of Hom Ref, Hom Var, Het Var datapoints the model was trained on\n",
    "ytrain = pd.DataFrame()\n",
    "ytrain['ytrain'] = y_train\n",
    "pd.value_counts(ytrain['ytrain'].values, sort=False)"
   ]
  },
  {
   "cell_type": "code",
   "execution_count": 23,
   "metadata": {},
   "outputs": [],
   "source": [
    "#NOTE: Training Set - Show number of Hom Ref, Hom Var, Het Var datapoints the model was trained on\n",
    "ytest = pd.DataFrame()\n",
    "ytest['ytest'] = y_test\n",
    "# ytest.head()\n",
    "# pd.value_counts(ytrain['ytest'].values, sort=False)"
   ]
  },
  {
   "cell_type": "code",
   "execution_count": 24,
   "metadata": {
    "scrolled": false
   },
   "outputs": [
    {
     "data": {
      "text/plain": [
       "RandomForestClassifier(bootstrap=True, class_weight=None, criterion='gini',\n",
       "            max_depth=None, max_features='auto', max_leaf_nodes=None,\n",
       "            min_impurity_split=1e-07, min_samples_leaf=1,\n",
       "            min_samples_split=2, min_weight_fraction_leaf=0.0,\n",
       "            n_estimators=10, n_jobs=1, oob_score=False, random_state=None,\n",
       "            verbose=0, warm_start=False)"
      ]
     },
     "execution_count": 24,
     "metadata": {},
     "output_type": "execute_result"
    }
   ],
   "source": [
    "# %%timeit\n",
    "# Train Random Forest Classifier\n",
    "model = RandomForestClassifier() \n",
    "model.fit(X_train, y_train)"
   ]
  },
  {
   "cell_type": "code",
   "execution_count": 25,
   "metadata": {
    "collapsed": true
   },
   "outputs": [],
   "source": [
    "# print('Training/Test Ratio: {}'.format(X_test.shape[0] / X_train.shape[0]))"
   ]
  },
  {
   "cell_type": "code",
   "execution_count": 26,
   "metadata": {
    "collapsed": true
   },
   "outputs": [],
   "source": [
    "# # Feature Importance\n",
    "# importances = model.feature_importances_\n",
    "# indices = np.argsort(importances)[::-1]\n",
    "# print(\"Feature ranking:\")\n",
    "\n",
    "# for f in range(X_test.shape[1]):\n",
    "#     print(\"%d. feature %d (%f)\" % (f + 1, indices[f], importances[indices[f]]))"
   ]
  },
  {
   "cell_type": "markdown",
   "metadata": {},
   "source": [
    "[Another Resource](https://stackoverflow.com/questions/37877542/how-to-label-the-feature-importance-with-forests-of-trees)"
   ]
  },
  {
   "cell_type": "code",
   "execution_count": 27,
   "metadata": {},
   "outputs": [
    {
     "name": "stderr",
     "output_type": "stream",
     "text": [
      "/Users/lmc2/anaconda/envs/NIHFAES/lib/python3.5/site-packages/ipykernel/__main__.py:3: FutureWarning:\n",
      "\n",
      "sort is deprecated, use sort_values(inplace=True) for INPLACE sorting\n",
      "\n"
     ]
    },
    {
     "data": {
      "text/plain": [
       "<matplotlib.axes._subplots.AxesSubplot at 0x115f10240>"
      ]
     },
     "execution_count": 27,
     "metadata": {},
     "output_type": "execute_result"
    },
    {
     "data": {
      "image/png": "[encoded data removed]",
      "text/plain": [
       "<matplotlib.figure.Figure at 0x115e3d898>"
      ]
     },
     "metadata": {},
     "output_type": "display_data"
    }
   ],
   "source": [
    "%matplotlib inline\n",
    "feature_importances = pd.Series(model.feature_importances_, index=X_test.columns)\n",
    "feature_importances.sort()\n",
    "# feature_importances.plot.bar()\n",
    "feature_importances.plot(kind=\"barh\", figsize=(7,6))"
   ]
  },
  {
   "cell_type": "code",
   "execution_count": 28,
   "metadata": {
    "collapsed": true
   },
   "outputs": [],
   "source": [
    "#TODO: Try training the model with the most important features and note difference in overal model prediction score"
   ]
  },
  {
   "cell_type": "markdown",
   "metadata": {},
   "source": [
    "<a id='prediction_step'></a>"
   ]
  },
  {
   "cell_type": "code",
   "execution_count": 29,
   "metadata": {},
   "outputs": [
    {
     "data": {
      "text/plain": [
       "array([ 0.,  0.,  1.,  1.,  2.,  2.,  2.,  0.,  2.,  0.,  2.,  0.,  1.,\n",
       "        1.,  2.,  1.,  0.,  2.,  0.,  2.,  2.,  2.,  1.,  0.,  0.,  1.,\n",
       "        1.,  1.,  2.,  1.,  1.,  1.,  0.,  2.,  1.,  1.,  0.,  2.,  0.,\n",
       "        2.,  1.,  2.,  2.,  0.,  1.,  1.,  0.,  2.,  0.,  1.,  0.,  0.,\n",
       "        1.,  2.,  1.,  2.,  0.,  2.,  0.,  1.,  1.,  1.,  1.,  2.,  0.,\n",
       "        0.,  1.,  0.,  1.,  2.,  1.,  1.,  0.,  0.,  2.,  1.,  1.,  2.,\n",
       "        1.,  0.,  1.,  1.,  2.,  2.,  0.,  1.,  2.,  1.,  0.,  2.,  0.,\n",
       "        0.,  1.,  1.,  2.,  1.,  2.,  2.,  1.,  1.,  2.,  0.,  0.,  2.,\n",
       "        0.,  1.,  1.,  2.,  2.,  2.,  0.,  2.,  2.,  2.,  1.,  1.,  2.,\n",
       "        0.,  1.,  2.,  2.,  2.,  0.,  0.,  1.,  0.])"
      ]
     },
     "execution_count": 29,
     "metadata": {},
     "output_type": "execute_result"
    }
   ],
   "source": [
    "model.predict(X_test)"
   ]
  },
  {
   "cell_type": "code",
   "execution_count": 30,
   "metadata": {
    "collapsed": true
   },
   "outputs": [],
   "source": [
    "pred = model.predict(X_test)"
   ]
  },
  {
   "cell_type": "markdown",
   "metadata": {},
   "source": [
    "<a id='poor_score1'></a>"
   ]
  },
  {
   "cell_type": "code",
   "execution_count": 31,
   "metadata": {},
   "outputs": [
    {
     "name": "stdout",
     "output_type": "stream",
     "text": [
      "Precision score of the training subset: 0.690\n"
     ]
    }
   ],
   "source": [
    "print('Precision score of the training subset: {:.3f}'.format(precision_score(pred, y_test, average='micro'))) "
   ]
  },
  {
   "cell_type": "code",
   "execution_count": 32,
   "metadata": {},
   "outputs": [
    {
     "data": {
      "text/html": [
       "<div>\n",
       "<table border=\"1\" class=\"dataframe\">\n",
       "  <thead>\n",
       "    <tr style=\"text-align: right;\">\n",
       "      <th></th>\n",
       "      <th>Ill300x.GT</th>\n",
       "      <th>Ill300x.alt_alnScore_mean</th>\n",
       "      <th>Ill300x.alt_alnScore_std</th>\n",
       "      <th>Ill300x.alt_count</th>\n",
       "      <th>Ill300x.alt_insertSize_mean</th>\n",
       "      <th>Ill300x.alt_insertSize_std</th>\n",
       "      <th>Ill300x.alt_reason_alignmentScore</th>\n",
       "      <th>Ill300x.alt_reason_insertSizeScore</th>\n",
       "      <th>Ill300x.alt_reason_orientation</th>\n",
       "      <th>Ill300x.amb_alnScore_mean</th>\n",
       "      <th>...</th>\n",
       "      <th>Size</th>\n",
       "      <th>chrom</th>\n",
       "      <th>end</th>\n",
       "      <th>refN_cnt</th>\n",
       "      <th>refN_pct</th>\n",
       "      <th>segdup_cnt</th>\n",
       "      <th>segdup_pct</th>\n",
       "      <th>start</th>\n",
       "      <th>tandemrep_cnt</th>\n",
       "      <th>tandemrep_pct</th>\n",
       "    </tr>\n",
       "  </thead>\n",
       "  <tbody>\n",
       "    <tr>\n",
       "      <th>248</th>\n",
       "      <td>-1.0</td>\n",
       "      <td>586.000000</td>\n",
       "      <td>2.000000</td>\n",
       "      <td>2.0</td>\n",
       "      <td>1173.500000</td>\n",
       "      <td>10.500000</td>\n",
       "      <td>0.0</td>\n",
       "      <td>2.0</td>\n",
       "      <td>0.0</td>\n",
       "      <td>532.573541</td>\n",
       "      <td>...</td>\n",
       "      <td>-20.0</td>\n",
       "      <td>1.0</td>\n",
       "      <td>195540864.0</td>\n",
       "      <td>0.0</td>\n",
       "      <td>0.0</td>\n",
       "      <td>0.0</td>\n",
       "      <td>0.0</td>\n",
       "      <td>195540843.0</td>\n",
       "      <td>0.0</td>\n",
       "      <td>0.0</td>\n",
       "    </tr>\n",
       "    <tr>\n",
       "      <th>28</th>\n",
       "      <td>0.0</td>\n",
       "      <td>0.000000</td>\n",
       "      <td>0.000000</td>\n",
       "      <td>0.0</td>\n",
       "      <td>0.000000</td>\n",
       "      <td>0.000000</td>\n",
       "      <td>0.0</td>\n",
       "      <td>0.0</td>\n",
       "      <td>0.0</td>\n",
       "      <td>542.842009</td>\n",
       "      <td>...</td>\n",
       "      <td>-45.0</td>\n",
       "      <td>1.0</td>\n",
       "      <td>81643788.0</td>\n",
       "      <td>0.0</td>\n",
       "      <td>0.0</td>\n",
       "      <td>0.0</td>\n",
       "      <td>0.0</td>\n",
       "      <td>81643742.0</td>\n",
       "      <td>0.0</td>\n",
       "      <td>0.0</td>\n",
       "    </tr>\n",
       "    <tr>\n",
       "      <th>3</th>\n",
       "      <td>-1.0</td>\n",
       "      <td>573.655556</td>\n",
       "      <td>7.341149</td>\n",
       "      <td>180.0</td>\n",
       "      <td>582.988889</td>\n",
       "      <td>178.472562</td>\n",
       "      <td>177.0</td>\n",
       "      <td>3.0</td>\n",
       "      <td>0.0</td>\n",
       "      <td>539.861404</td>\n",
       "      <td>...</td>\n",
       "      <td>-25.0</td>\n",
       "      <td>15.0</td>\n",
       "      <td>77879888.0</td>\n",
       "      <td>0.0</td>\n",
       "      <td>0.0</td>\n",
       "      <td>0.0</td>\n",
       "      <td>0.0</td>\n",
       "      <td>77879862.0</td>\n",
       "      <td>0.0</td>\n",
       "      <td>0.0</td>\n",
       "    </tr>\n",
       "    <tr>\n",
       "      <th>176</th>\n",
       "      <td>1.0</td>\n",
       "      <td>571.258333</td>\n",
       "      <td>13.391848</td>\n",
       "      <td>120.0</td>\n",
       "      <td>586.958333</td>\n",
       "      <td>167.000918</td>\n",
       "      <td>119.0</td>\n",
       "      <td>1.0</td>\n",
       "      <td>0.0</td>\n",
       "      <td>521.281081</td>\n",
       "      <td>...</td>\n",
       "      <td>-37.0</td>\n",
       "      <td>11.0</td>\n",
       "      <td>9458906.0</td>\n",
       "      <td>0.0</td>\n",
       "      <td>0.0</td>\n",
       "      <td>0.0</td>\n",
       "      <td>0.0</td>\n",
       "      <td>9458868.0</td>\n",
       "      <td>0.0</td>\n",
       "      <td>0.0</td>\n",
       "    </tr>\n",
       "    <tr>\n",
       "      <th>209</th>\n",
       "      <td>1.0</td>\n",
       "      <td>580.015267</td>\n",
       "      <td>6.961162</td>\n",
       "      <td>131.0</td>\n",
       "      <td>561.221374</td>\n",
       "      <td>136.326633</td>\n",
       "      <td>130.0</td>\n",
       "      <td>1.0</td>\n",
       "      <td>0.0</td>\n",
       "      <td>538.261241</td>\n",
       "      <td>...</td>\n",
       "      <td>-25.0</td>\n",
       "      <td>13.0</td>\n",
       "      <td>90908532.0</td>\n",
       "      <td>0.0</td>\n",
       "      <td>0.0</td>\n",
       "      <td>0.0</td>\n",
       "      <td>0.0</td>\n",
       "      <td>90908506.0</td>\n",
       "      <td>0.0</td>\n",
       "      <td>0.0</td>\n",
       "    </tr>\n",
       "  </tbody>\n",
       "</table>\n",
       "<p>5 rows × 43 columns</p>\n",
       "</div>"
      ],
      "text/plain": [
       "     Ill300x.GT  Ill300x.alt_alnScore_mean  Ill300x.alt_alnScore_std  \\\n",
       "248        -1.0                 586.000000                  2.000000   \n",
       "28          0.0                   0.000000                  0.000000   \n",
       "3          -1.0                 573.655556                  7.341149   \n",
       "176         1.0                 571.258333                 13.391848   \n",
       "209         1.0                 580.015267                  6.961162   \n",
       "\n",
       "     Ill300x.alt_count  Ill300x.alt_insertSize_mean  \\\n",
       "248                2.0                  1173.500000   \n",
       "28                 0.0                     0.000000   \n",
       "3                180.0                   582.988889   \n",
       "176              120.0                   586.958333   \n",
       "209              131.0                   561.221374   \n",
       "\n",
       "     Ill300x.alt_insertSize_std  Ill300x.alt_reason_alignmentScore  \\\n",
       "248                   10.500000                                0.0   \n",
       "28                     0.000000                                0.0   \n",
       "3                    178.472562                              177.0   \n",
       "176                  167.000918                              119.0   \n",
       "209                  136.326633                              130.0   \n",
       "\n",
       "     Ill300x.alt_reason_insertSizeScore  Ill300x.alt_reason_orientation  \\\n",
       "248                                 2.0                             0.0   \n",
       "28                                  0.0                             0.0   \n",
       "3                                   3.0                             0.0   \n",
       "176                                 1.0                             0.0   \n",
       "209                                 1.0                             0.0   \n",
       "\n",
       "     Ill300x.amb_alnScore_mean      ...        Size  chrom          end  \\\n",
       "248                 532.573541      ...       -20.0    1.0  195540864.0   \n",
       "28                  542.842009      ...       -45.0    1.0   81643788.0   \n",
       "3                   539.861404      ...       -25.0   15.0   77879888.0   \n",
       "176                 521.281081      ...       -37.0   11.0    9458906.0   \n",
       "209                 538.261241      ...       -25.0   13.0   90908532.0   \n",
       "\n",
       "     refN_cnt  refN_pct  segdup_cnt  segdup_pct        start  tandemrep_cnt  \\\n",
       "248       0.0       0.0         0.0         0.0  195540843.0            0.0   \n",
       "28        0.0       0.0         0.0         0.0   81643742.0            0.0   \n",
       "3         0.0       0.0         0.0         0.0   77879862.0            0.0   \n",
       "176       0.0       0.0         0.0         0.0    9458868.0            0.0   \n",
       "209       0.0       0.0         0.0         0.0   90908506.0            0.0   \n",
       "\n",
       "     tandemrep_pct  \n",
       "248            0.0  \n",
       "28             0.0  \n",
       "3              0.0  \n",
       "176            0.0  \n",
       "209            0.0  \n",
       "\n",
       "[5 rows x 43 columns]"
      ]
     },
     "execution_count": 32,
     "metadata": {},
     "output_type": "execute_result"
    }
   ],
   "source": [
    "# Add original labels and predicted labels back to the original dataframe\n",
    "df_Xtest = pd.DataFrame(X_test)\n",
    "df_Xtest.head()"
   ]
  },
  {
   "cell_type": "code",
   "execution_count": 33,
   "metadata": {
    "collapsed": true
   },
   "outputs": [],
   "source": [
    "labels = pd.DataFrame(y_test)"
   ]
  },
  {
   "cell_type": "code",
   "execution_count": 34,
   "metadata": {
    "collapsed": true
   },
   "outputs": [],
   "source": [
    "df_Xtest['predicted_label'] = pred\n",
    "df_Xtest['GTcons'] = df_train['GTcons']\n",
    "df_Xtest['ytest'] = ytest\n",
    "df_Xtest['chrom'] = df_train['chrom']\n",
    "df_Xtest['start'] = df_train['start']\n",
    "df_Xtest['end'] = df_train['end']\n",
    "# df_Xtest['Y_test'] = labels"
   ]
  },
  {
   "cell_type": "code",
   "execution_count": 35,
   "metadata": {},
   "outputs": [
    {
     "data": {
      "text/html": [
       "<div>\n",
       "<table border=\"1\" class=\"dataframe\">\n",
       "  <thead>\n",
       "    <tr style=\"text-align: right;\">\n",
       "      <th></th>\n",
       "      <th>Ill300x.GT</th>\n",
       "      <th>Ill300x.alt_alnScore_mean</th>\n",
       "      <th>Ill300x.alt_alnScore_std</th>\n",
       "      <th>Ill300x.alt_count</th>\n",
       "      <th>Ill300x.alt_insertSize_mean</th>\n",
       "      <th>Ill300x.alt_insertSize_std</th>\n",
       "      <th>Ill300x.alt_reason_alignmentScore</th>\n",
       "      <th>Ill300x.alt_reason_insertSizeScore</th>\n",
       "      <th>Ill300x.alt_reason_orientation</th>\n",
       "      <th>Ill300x.amb_alnScore_mean</th>\n",
       "      <th>...</th>\n",
       "      <th>refN_cnt</th>\n",
       "      <th>refN_pct</th>\n",
       "      <th>segdup_cnt</th>\n",
       "      <th>segdup_pct</th>\n",
       "      <th>start</th>\n",
       "      <th>tandemrep_cnt</th>\n",
       "      <th>tandemrep_pct</th>\n",
       "      <th>predicted_label</th>\n",
       "      <th>GTcons</th>\n",
       "      <th>ytest</th>\n",
       "    </tr>\n",
       "  </thead>\n",
       "  <tbody>\n",
       "    <tr>\n",
       "      <th>269</th>\n",
       "      <td>-1.0</td>\n",
       "      <td>581.984127</td>\n",
       "      <td>2.853525</td>\n",
       "      <td>63.0</td>\n",
       "      <td>561.523809</td>\n",
       "      <td>155.191010</td>\n",
       "      <td>62.0</td>\n",
       "      <td>1.0</td>\n",
       "      <td>0.0</td>\n",
       "      <td>535.966475</td>\n",
       "      <td>...</td>\n",
       "      <td>0.0</td>\n",
       "      <td>0.0</td>\n",
       "      <td>0.0</td>\n",
       "      <td>0.0</td>\n",
       "      <td>14270726</td>\n",
       "      <td>1.0</td>\n",
       "      <td>1.000000</td>\n",
       "      <td>2.0</td>\n",
       "      <td>2</td>\n",
       "      <td>2.0</td>\n",
       "    </tr>\n",
       "    <tr>\n",
       "      <th>18</th>\n",
       "      <td>0.0</td>\n",
       "      <td>584.000000</td>\n",
       "      <td>4.000000</td>\n",
       "      <td>2.0</td>\n",
       "      <td>1232.500000</td>\n",
       "      <td>8.500000</td>\n",
       "      <td>0.0</td>\n",
       "      <td>2.0</td>\n",
       "      <td>0.0</td>\n",
       "      <td>536.305509</td>\n",
       "      <td>...</td>\n",
       "      <td>0.0</td>\n",
       "      <td>0.0</td>\n",
       "      <td>0.0</td>\n",
       "      <td>0.0</td>\n",
       "      <td>19374881</td>\n",
       "      <td>1.0</td>\n",
       "      <td>1.000000</td>\n",
       "      <td>0.0</td>\n",
       "      <td>0</td>\n",
       "      <td>0.0</td>\n",
       "    </tr>\n",
       "    <tr>\n",
       "      <th>64</th>\n",
       "      <td>0.0</td>\n",
       "      <td>554.500000</td>\n",
       "      <td>7.664855</td>\n",
       "      <td>4.0</td>\n",
       "      <td>453.250000</td>\n",
       "      <td>92.372547</td>\n",
       "      <td>4.0</td>\n",
       "      <td>0.0</td>\n",
       "      <td>0.0</td>\n",
       "      <td>530.557636</td>\n",
       "      <td>...</td>\n",
       "      <td>0.0</td>\n",
       "      <td>0.0</td>\n",
       "      <td>0.0</td>\n",
       "      <td>0.0</td>\n",
       "      <td>44211810</td>\n",
       "      <td>1.0</td>\n",
       "      <td>1.000000</td>\n",
       "      <td>0.0</td>\n",
       "      <td>0</td>\n",
       "      <td>0.0</td>\n",
       "    </tr>\n",
       "    <tr>\n",
       "      <th>276</th>\n",
       "      <td>1.0</td>\n",
       "      <td>584.914414</td>\n",
       "      <td>5.898303</td>\n",
       "      <td>222.0</td>\n",
       "      <td>567.972973</td>\n",
       "      <td>168.828313</td>\n",
       "      <td>219.0</td>\n",
       "      <td>3.0</td>\n",
       "      <td>0.0</td>\n",
       "      <td>534.430666</td>\n",
       "      <td>...</td>\n",
       "      <td>0.0</td>\n",
       "      <td>0.0</td>\n",
       "      <td>1.0</td>\n",
       "      <td>1.0</td>\n",
       "      <td>96806440</td>\n",
       "      <td>1.0</td>\n",
       "      <td>0.586207</td>\n",
       "      <td>1.0</td>\n",
       "      <td>2</td>\n",
       "      <td>2.0</td>\n",
       "    </tr>\n",
       "    <tr>\n",
       "      <th>65</th>\n",
       "      <td>0.0</td>\n",
       "      <td>565.000000</td>\n",
       "      <td>5.000000</td>\n",
       "      <td>2.0</td>\n",
       "      <td>1184.000000</td>\n",
       "      <td>11.000000</td>\n",
       "      <td>0.0</td>\n",
       "      <td>2.0</td>\n",
       "      <td>0.0</td>\n",
       "      <td>532.510884</td>\n",
       "      <td>...</td>\n",
       "      <td>0.0</td>\n",
       "      <td>0.0</td>\n",
       "      <td>0.0</td>\n",
       "      <td>0.0</td>\n",
       "      <td>56987207</td>\n",
       "      <td>2.0</td>\n",
       "      <td>0.687500</td>\n",
       "      <td>0.0</td>\n",
       "      <td>0</td>\n",
       "      <td>0.0</td>\n",
       "    </tr>\n",
       "  </tbody>\n",
       "</table>\n",
       "<p>5 rows × 46 columns</p>\n",
       "</div>"
      ],
      "text/plain": [
       "     Ill300x.GT  Ill300x.alt_alnScore_mean  Ill300x.alt_alnScore_std  \\\n",
       "269        -1.0                 581.984127                  2.853525   \n",
       "18          0.0                 584.000000                  4.000000   \n",
       "64          0.0                 554.500000                  7.664855   \n",
       "276         1.0                 584.914414                  5.898303   \n",
       "65          0.0                 565.000000                  5.000000   \n",
       "\n",
       "     Ill300x.alt_count  Ill300x.alt_insertSize_mean  \\\n",
       "269               63.0                   561.523809   \n",
       "18                 2.0                  1232.500000   \n",
       "64                 4.0                   453.250000   \n",
       "276              222.0                   567.972973   \n",
       "65                 2.0                  1184.000000   \n",
       "\n",
       "     Ill300x.alt_insertSize_std  Ill300x.alt_reason_alignmentScore  \\\n",
       "269                  155.191010                               62.0   \n",
       "18                     8.500000                                0.0   \n",
       "64                    92.372547                                4.0   \n",
       "276                  168.828313                              219.0   \n",
       "65                    11.000000                                0.0   \n",
       "\n",
       "     Ill300x.alt_reason_insertSizeScore  Ill300x.alt_reason_orientation  \\\n",
       "269                                 1.0                             0.0   \n",
       "18                                  2.0                             0.0   \n",
       "64                                  0.0                             0.0   \n",
       "276                                 3.0                             0.0   \n",
       "65                                  2.0                             0.0   \n",
       "\n",
       "     Ill300x.amb_alnScore_mean  ...    refN_cnt  refN_pct  segdup_cnt  \\\n",
       "269                 535.966475  ...         0.0       0.0         0.0   \n",
       "18                  536.305509  ...         0.0       0.0         0.0   \n",
       "64                  530.557636  ...         0.0       0.0         0.0   \n",
       "276                 534.430666  ...         0.0       0.0         1.0   \n",
       "65                  532.510884  ...         0.0       0.0         0.0   \n",
       "\n",
       "     segdup_pct     start  tandemrep_cnt  tandemrep_pct  predicted_label  \\\n",
       "269         0.0  14270726            1.0       1.000000              2.0   \n",
       "18          0.0  19374881            1.0       1.000000              0.0   \n",
       "64          0.0  44211810            1.0       1.000000              0.0   \n",
       "276         1.0  96806440            1.0       0.586207              1.0   \n",
       "65          0.0  56987207            2.0       0.687500              0.0   \n",
       "\n",
       "     GTcons  ytest  \n",
       "269       2    2.0  \n",
       "18        0    0.0  \n",
       "64        0    0.0  \n",
       "276       2    2.0  \n",
       "65        0    0.0  \n",
       "\n",
       "[5 rows x 46 columns]"
      ]
     },
     "execution_count": 35,
     "metadata": {},
     "output_type": "execute_result"
    }
   ],
   "source": [
    "df_Xtest.tail()"
   ]
  },
  {
   "cell_type": "code",
   "execution_count": 36,
   "metadata": {},
   "outputs": [
    {
     "name": "stdout",
     "output_type": "stream",
     "text": [
      "[[36  2  4]\n",
      " [ 0 27 15]\n",
      " [ 1 17 24]]\n"
     ]
    }
   ],
   "source": [
    "from sklearn.metrics import confusion_matrix\n",
    "ytest = df_Xtest['GTcons']\n",
    "predict = df_Xtest['predicted_label']\n",
    "print(confusion_matrix(ytest, predict))"
   ]
  },
  {
   "cell_type": "code",
   "execution_count": 37,
   "metadata": {
    "collapsed": true
   },
   "outputs": [],
   "source": [
    "df_Xtest['GTcons'].replace(0.0, 'Homozygous_Reference', inplace=True)\n",
    "df_Xtest['GTcons'].replace(1.0, 'Heterozygous_Variant', inplace=True)\n",
    "df_Xtest['GTcons'].replace(2.0, 'Homozygous_Variant', inplace=True)\n",
    "df_Xtest['predicted_label'].replace(0.0, 'Homozygous_Reference', inplace=True)\n",
    "df_Xtest['predicted_label'].replace(1.0, 'Heterozygous_Variant', inplace=True)\n",
    "df_Xtest['predicted_label'].replace(2.0, 'Homozygous_Variant', inplace=True)"
   ]
  },
  {
   "cell_type": "code",
   "execution_count": 38,
   "metadata": {},
   "outputs": [
    {
     "data": {
      "text/plain": [
       "Heterozygous_Variant    42\n",
       "Homozygous_Variant      42\n",
       "Homozygous_Reference    42\n",
       "dtype: int64"
      ]
     },
     "execution_count": 38,
     "metadata": {},
     "output_type": "execute_result"
    }
   ],
   "source": [
    "pd.value_counts(df_Xtest['GTcons'].values, sort=False)"
   ]
  },
  {
   "cell_type": "code",
   "execution_count": 39,
   "metadata": {},
   "outputs": [
    {
     "data": {
      "text/plain": [
       "Heterozygous_Variant    46\n",
       "Homozygous_Variant      43\n",
       "Homozygous_Reference    37\n",
       "dtype: int64"
      ]
     },
     "execution_count": 39,
     "metadata": {},
     "output_type": "execute_result"
    }
   ],
   "source": [
    "pd.value_counts(df_Xtest['predicted_label'].values, sort=False)"
   ]
  },
  {
   "cell_type": "code",
   "execution_count": 40,
   "metadata": {},
   "outputs": [
    {
     "data": {
      "text/html": [
       "<div>\n",
       "<table border=\"1\" class=\"dataframe\">\n",
       "  <thead>\n",
       "    <tr style=\"text-align: right;\">\n",
       "      <th>Predicted</th>\n",
       "      <th>Heterozygous_Variant</th>\n",
       "      <th>Homozygous_Reference</th>\n",
       "      <th>Homozygous_Variant</th>\n",
       "      <th>All</th>\n",
       "    </tr>\n",
       "    <tr>\n",
       "      <th>True</th>\n",
       "      <th></th>\n",
       "      <th></th>\n",
       "      <th></th>\n",
       "      <th></th>\n",
       "    </tr>\n",
       "  </thead>\n",
       "  <tbody>\n",
       "    <tr>\n",
       "      <th>Heterozygous_Variant</th>\n",
       "      <td>27</td>\n",
       "      <td>0</td>\n",
       "      <td>15</td>\n",
       "      <td>42</td>\n",
       "    </tr>\n",
       "    <tr>\n",
       "      <th>Homozygous_Reference</th>\n",
       "      <td>2</td>\n",
       "      <td>36</td>\n",
       "      <td>4</td>\n",
       "      <td>42</td>\n",
       "    </tr>\n",
       "    <tr>\n",
       "      <th>Homozygous_Variant</th>\n",
       "      <td>17</td>\n",
       "      <td>1</td>\n",
       "      <td>24</td>\n",
       "      <td>42</td>\n",
       "    </tr>\n",
       "    <tr>\n",
       "      <th>All</th>\n",
       "      <td>46</td>\n",
       "      <td>37</td>\n",
       "      <td>43</td>\n",
       "      <td>126</td>\n",
       "    </tr>\n",
       "  </tbody>\n",
       "</table>\n",
       "</div>"
      ],
      "text/plain": [
       "Predicted             Heterozygous_Variant  Homozygous_Reference  \\\n",
       "True                                                               \n",
       "Heterozygous_Variant                    27                     0   \n",
       "Homozygous_Reference                     2                    36   \n",
       "Homozygous_Variant                      17                     1   \n",
       "All                                     46                    37   \n",
       "\n",
       "Predicted             Homozygous_Variant  All  \n",
       "True                                           \n",
       "Heterozygous_Variant                  15   42  \n",
       "Homozygous_Reference                   4   42  \n",
       "Homozygous_Variant                    24   42  \n",
       "All                                   43  126  "
      ]
     },
     "execution_count": 40,
     "metadata": {},
     "output_type": "execute_result"
    }
   ],
   "source": [
    "pd.crosstab(ytest, predict, rownames=['True'], colnames=['Predicted'], margins=True)"
   ]
  },
  {
   "cell_type": "code",
   "execution_count": 41,
   "metadata": {
    "scrolled": true
   },
   "outputs": [
    {
     "name": "stdout",
     "output_type": "stream",
     "text": [
      "                      precision    recall  f1-score   support\n",
      "\n",
      "Heterozygous_Variant       0.59      0.64      0.61        42\n",
      "Homozygous_Reference       0.97      0.86      0.91        42\n",
      "  Homozygous_Variant       0.56      0.57      0.56        42\n",
      "\n",
      "         avg / total       0.71      0.69      0.70       126\n",
      "\n"
     ]
    }
   ],
   "source": [
    "from sklearn.metrics import classification_report\n",
    "print(classification_report(ytest, predict))"
   ]
  },
  {
   "cell_type": "markdown",
   "metadata": {},
   "source": [
    "***\n",
    "Predict\n",
    "***"
   ]
  },
  {
   "cell_type": "markdown",
   "metadata": {},
   "source": [
    "<a id='predict'></a>"
   ]
  },
  {
   "cell_type": "markdown",
   "metadata": {},
   "source": [
    "Description:\n",
    "\n",
    "   * In the [previous section](#machine_learning), a RF model was trained on svanalyzer data.\n",
    "\n",
    "       * The model was trained using [train/test split](#train_test) where 70% of the data was used to train the model and the model performance was determined by predicting labels for the remaining 30% of the data\n",
    " * Reminder: The labels for this training set and the following [prediction step](#prediction_step) are the consensus genotype (GTcons) labels generated from a preliminary R analysis based on reference and alternate read count:\n",
    "           * Homozygous Reference (0)\n",
    "           * Heterozygous Variant (1)\n",
    "           * Homozygous Variant (2)\n",
    "           \n",
    "   * The trained model is used in the following section to predict labels for 5000 randomly selected Deletions [these datapoints were randomly selected from [union_170509_refalt.sort.vcf](ftp://ftp-trace.ncbi.nlm.nih.gov/giab/ftp/data/AshkenazimTrio/analysis/NIST_UnionSVs_05092017/)]\n",
    "   \n",
    "   "
   ]
  },
  {
   "cell_type": "markdown",
   "metadata": {},
   "source": [
    "** Load Data **"
   ]
  },
  {
   "cell_type": "code",
   "execution_count": 42,
   "metadata": {
    "collapsed": true
   },
   "outputs": [],
   "source": [
    "X2 = df_test"
   ]
  },
  {
   "cell_type": "markdown",
   "metadata": {},
   "source": [
    "** Impute missing values using KNN **"
   ]
  },
  {
   "cell_type": "code",
   "execution_count": 43,
   "metadata": {},
   "outputs": [
    {
     "name": "stdout",
     "output_type": "stream",
     "text": [
      "Imputing row 1/3504 with 1 missing, elapsed time: 3.860\n",
      "Imputing row 101/3504 with 2 missing, elapsed time: 3.869\n",
      "Imputing row 201/3504 with 2 missing, elapsed time: 3.878\n",
      "Imputing row 301/3504 with 2 missing, elapsed time: 3.886\n",
      "Imputing row 401/3504 with 0 missing, elapsed time: 3.892\n",
      "Imputing row 501/3504 with 2 missing, elapsed time: 3.902\n",
      "Imputing row 601/3504 with 1 missing, elapsed time: 3.911\n",
      "Imputing row 701/3504 with 2 missing, elapsed time: 3.918\n",
      "Imputing row 801/3504 with 2 missing, elapsed time: 3.925\n",
      "Imputing row 901/3504 with 1 missing, elapsed time: 3.931\n",
      "Imputing row 1001/3504 with 0 missing, elapsed time: 3.938\n",
      "Imputing row 1101/3504 with 2 missing, elapsed time: 3.946\n",
      "Imputing row 1201/3504 with 0 missing, elapsed time: 3.953\n",
      "Imputing row 1301/3504 with 2 missing, elapsed time: 3.959\n",
      "Imputing row 1401/3504 with 0 missing, elapsed time: 3.966\n",
      "Imputing row 1501/3504 with 2 missing, elapsed time: 3.973\n",
      "Imputing row 1601/3504 with 2 missing, elapsed time: 3.980\n",
      "Imputing row 1701/3504 with 0 missing, elapsed time: 3.987\n",
      "Imputing row 1801/3504 with 2 missing, elapsed time: 3.996\n",
      "Imputing row 1901/3504 with 1 missing, elapsed time: 4.003\n",
      "Imputing row 2001/3504 with 0 missing, elapsed time: 4.010\n",
      "Imputing row 2101/3504 with 0 missing, elapsed time: 4.017\n",
      "Imputing row 2201/3504 with 2 missing, elapsed time: 4.024\n",
      "Imputing row 2301/3504 with 1 missing, elapsed time: 4.031\n",
      "Imputing row 2401/3504 with 2 missing, elapsed time: 4.039\n",
      "Imputing row 2501/3504 with 0 missing, elapsed time: 4.046\n",
      "Imputing row 2601/3504 with 1 missing, elapsed time: 4.053\n",
      "Imputing row 2701/3504 with 0 missing, elapsed time: 4.059\n",
      "Imputing row 2801/3504 with 2 missing, elapsed time: 4.067\n",
      "Imputing row 2901/3504 with 0 missing, elapsed time: 4.075\n",
      "Imputing row 3001/3504 with 2 missing, elapsed time: 4.082\n",
      "Imputing row 3101/3504 with 2 missing, elapsed time: 4.089\n",
      "Imputing row 3201/3504 with 0 missing, elapsed time: 4.096\n",
      "Imputing row 3301/3504 with 1 missing, elapsed time: 4.102\n",
      "Imputing row 3401/3504 with 0 missing, elapsed time: 4.109\n",
      "Imputing row 3501/3504 with 2 missing, elapsed time: 4.116\n"
     ]
    }
   ],
   "source": [
    "#Convert dataframe to matrix\n",
    "X2=X2.as_matrix()\n",
    "\n",
    "#Imput missing values from three closest observations\n",
    "X2_imputed=KNN(k=3).complete(X2)\n",
    "X2=pd.DataFrame(X2_imputed)"
   ]
  },
  {
   "cell_type": "code",
   "execution_count": 44,
   "metadata": {},
   "outputs": [
    {
     "data": {
      "text/html": [
       "<div>\n",
       "<table border=\"1\" class=\"dataframe\">\n",
       "  <thead>\n",
       "    <tr style=\"text-align: right;\">\n",
       "      <th></th>\n",
       "      <th>chrom</th>\n",
       "      <th>start</th>\n",
       "      <th>end</th>\n",
       "      <th>Size</th>\n",
       "      <th>refN_cnt</th>\n",
       "      <th>refN_pct</th>\n",
       "      <th>segdup_cnt</th>\n",
       "      <th>segdup_pct</th>\n",
       "      <th>tandemrep_cnt</th>\n",
       "      <th>tandemrep_pct</th>\n",
       "      <th>...</th>\n",
       "      <th>Ill300x.amb_reason_orientation_orientation</th>\n",
       "      <th>Ill300x.amb_reason_same_scores</th>\n",
       "      <th>Ill300x.ref_alnScore_mean</th>\n",
       "      <th>Ill300x.ref_alnScore_std</th>\n",
       "      <th>Ill300x.ref_count</th>\n",
       "      <th>Ill300x.ref_insertSize_mean</th>\n",
       "      <th>Ill300x.ref_insertSize_std</th>\n",
       "      <th>Ill300x.ref_reason_alignmentScore</th>\n",
       "      <th>Ill300x.ref_reason_insertSizeScore</th>\n",
       "      <th>Ill300x.ref_reason_orientation</th>\n",
       "    </tr>\n",
       "  </thead>\n",
       "  <tbody>\n",
       "    <tr>\n",
       "      <th>0</th>\n",
       "      <td>4.0</td>\n",
       "      <td>95498964.0</td>\n",
       "      <td>95499280.0</td>\n",
       "      <td>-316.0</td>\n",
       "      <td>0.0</td>\n",
       "      <td>0.0</td>\n",
       "      <td>0.0</td>\n",
       "      <td>0.0</td>\n",
       "      <td>1.0</td>\n",
       "      <td>0.117089</td>\n",
       "      <td>...</td>\n",
       "      <td>5.0</td>\n",
       "      <td>71.0</td>\n",
       "      <td>588.000000</td>\n",
       "      <td>6.226494</td>\n",
       "      <td>13.0</td>\n",
       "      <td>831.000000</td>\n",
       "      <td>202.968357</td>\n",
       "      <td>13.0</td>\n",
       "      <td>0.0</td>\n",
       "      <td>0.0</td>\n",
       "    </tr>\n",
       "    <tr>\n",
       "      <th>1</th>\n",
       "      <td>19.0</td>\n",
       "      <td>14399929.0</td>\n",
       "      <td>14399954.0</td>\n",
       "      <td>-24.0</td>\n",
       "      <td>0.0</td>\n",
       "      <td>0.0</td>\n",
       "      <td>1.0</td>\n",
       "      <td>1.0</td>\n",
       "      <td>1.0</td>\n",
       "      <td>1.000000</td>\n",
       "      <td>...</td>\n",
       "      <td>4.0</td>\n",
       "      <td>141.0</td>\n",
       "      <td>584.039216</td>\n",
       "      <td>12.259387</td>\n",
       "      <td>102.0</td>\n",
       "      <td>541.176471</td>\n",
       "      <td>145.259431</td>\n",
       "      <td>102.0</td>\n",
       "      <td>0.0</td>\n",
       "      <td>0.0</td>\n",
       "    </tr>\n",
       "    <tr>\n",
       "      <th>2</th>\n",
       "      <td>8.0</td>\n",
       "      <td>76766532.0</td>\n",
       "      <td>76766569.0</td>\n",
       "      <td>-36.0</td>\n",
       "      <td>0.0</td>\n",
       "      <td>0.0</td>\n",
       "      <td>0.0</td>\n",
       "      <td>0.0</td>\n",
       "      <td>0.0</td>\n",
       "      <td>0.000000</td>\n",
       "      <td>...</td>\n",
       "      <td>4.0</td>\n",
       "      <td>324.0</td>\n",
       "      <td>589.754546</td>\n",
       "      <td>7.642211</td>\n",
       "      <td>220.0</td>\n",
       "      <td>581.950000</td>\n",
       "      <td>134.929956</td>\n",
       "      <td>220.0</td>\n",
       "      <td>0.0</td>\n",
       "      <td>0.0</td>\n",
       "    </tr>\n",
       "  </tbody>\n",
       "</table>\n",
       "<p>3 rows × 43 columns</p>\n",
       "</div>"
      ],
      "text/plain": [
       "   chrom       start         end   Size  refN_cnt  refN_pct  segdup_cnt  \\\n",
       "0    4.0  95498964.0  95499280.0 -316.0       0.0       0.0         0.0   \n",
       "1   19.0  14399929.0  14399954.0  -24.0       0.0       0.0         1.0   \n",
       "2    8.0  76766532.0  76766569.0  -36.0       0.0       0.0         0.0   \n",
       "\n",
       "   segdup_pct  tandemrep_cnt  tandemrep_pct               ...                \\\n",
       "0         0.0            1.0       0.117089               ...                 \n",
       "1         1.0            1.0       1.000000               ...                 \n",
       "2         0.0            0.0       0.000000               ...                 \n",
       "\n",
       "   Ill300x.amb_reason_orientation_orientation  Ill300x.amb_reason_same_scores  \\\n",
       "0                                         5.0                            71.0   \n",
       "1                                         4.0                           141.0   \n",
       "2                                         4.0                           324.0   \n",
       "\n",
       "   Ill300x.ref_alnScore_mean  Ill300x.ref_alnScore_std  Ill300x.ref_count  \\\n",
       "0                 588.000000                  6.226494               13.0   \n",
       "1                 584.039216                 12.259387              102.0   \n",
       "2                 589.754546                  7.642211              220.0   \n",
       "\n",
       "   Ill300x.ref_insertSize_mean  Ill300x.ref_insertSize_std  \\\n",
       "0                   831.000000                  202.968357   \n",
       "1                   541.176471                  145.259431   \n",
       "2                   581.950000                  134.929956   \n",
       "\n",
       "   Ill300x.ref_reason_alignmentScore  Ill300x.ref_reason_insertSizeScore  \\\n",
       "0                               13.0                                 0.0   \n",
       "1                              102.0                                 0.0   \n",
       "2                              220.0                                 0.0   \n",
       "\n",
       "   Ill300x.ref_reason_orientation  \n",
       "0                             0.0  \n",
       "1                             0.0  \n",
       "2                             0.0  \n",
       "\n",
       "[3 rows x 43 columns]"
      ]
     },
     "execution_count": 44,
     "metadata": {},
     "output_type": "execute_result"
    }
   ],
   "source": [
    "dftest_header = list(df_test.columns.values)\n",
    "X2.columns = dftest_header\n",
    "X2.head(3)"
   ]
  },
  {
   "cell_type": "code",
   "execution_count": 45,
   "metadata": {},
   "outputs": [
    {
     "data": {
      "text/html": [
       "<div>\n",
       "<table border=\"1\" class=\"dataframe\">\n",
       "  <thead>\n",
       "    <tr style=\"text-align: right;\">\n",
       "      <th></th>\n",
       "      <th>chrom</th>\n",
       "      <th>start</th>\n",
       "      <th>end</th>\n",
       "      <th>Size</th>\n",
       "      <th>refN_cnt</th>\n",
       "      <th>refN_pct</th>\n",
       "      <th>segdup_cnt</th>\n",
       "      <th>segdup_pct</th>\n",
       "      <th>tandemrep_cnt</th>\n",
       "      <th>tandemrep_pct</th>\n",
       "      <th>...</th>\n",
       "      <th>Ill300x.amb_reason_orientation_orientation</th>\n",
       "      <th>Ill300x.amb_reason_same_scores</th>\n",
       "      <th>Ill300x.ref_alnScore_mean</th>\n",
       "      <th>Ill300x.ref_alnScore_std</th>\n",
       "      <th>Ill300x.ref_count</th>\n",
       "      <th>Ill300x.ref_insertSize_mean</th>\n",
       "      <th>Ill300x.ref_insertSize_std</th>\n",
       "      <th>Ill300x.ref_reason_alignmentScore</th>\n",
       "      <th>Ill300x.ref_reason_insertSizeScore</th>\n",
       "      <th>Ill300x.ref_reason_orientation</th>\n",
       "    </tr>\n",
       "  </thead>\n",
       "  <tbody>\n",
       "    <tr>\n",
       "      <th>0</th>\n",
       "      <td>4.0</td>\n",
       "      <td>95498964.0</td>\n",
       "      <td>95499280.0</td>\n",
       "      <td>-316.0</td>\n",
       "      <td>0.0</td>\n",
       "      <td>0.0</td>\n",
       "      <td>0.0</td>\n",
       "      <td>0.0</td>\n",
       "      <td>1.0</td>\n",
       "      <td>0.117089</td>\n",
       "      <td>...</td>\n",
       "      <td>5.0</td>\n",
       "      <td>71.0</td>\n",
       "      <td>588.000000</td>\n",
       "      <td>6.226494</td>\n",
       "      <td>13.0</td>\n",
       "      <td>831.000000</td>\n",
       "      <td>202.968357</td>\n",
       "      <td>13.0</td>\n",
       "      <td>0.0</td>\n",
       "      <td>0.0</td>\n",
       "    </tr>\n",
       "    <tr>\n",
       "      <th>1</th>\n",
       "      <td>19.0</td>\n",
       "      <td>14399929.0</td>\n",
       "      <td>14399954.0</td>\n",
       "      <td>-24.0</td>\n",
       "      <td>0.0</td>\n",
       "      <td>0.0</td>\n",
       "      <td>1.0</td>\n",
       "      <td>1.0</td>\n",
       "      <td>1.0</td>\n",
       "      <td>1.000000</td>\n",
       "      <td>...</td>\n",
       "      <td>4.0</td>\n",
       "      <td>141.0</td>\n",
       "      <td>584.039216</td>\n",
       "      <td>12.259387</td>\n",
       "      <td>102.0</td>\n",
       "      <td>541.176471</td>\n",
       "      <td>145.259431</td>\n",
       "      <td>102.0</td>\n",
       "      <td>0.0</td>\n",
       "      <td>0.0</td>\n",
       "    </tr>\n",
       "    <tr>\n",
       "      <th>2</th>\n",
       "      <td>8.0</td>\n",
       "      <td>76766532.0</td>\n",
       "      <td>76766569.0</td>\n",
       "      <td>-36.0</td>\n",
       "      <td>0.0</td>\n",
       "      <td>0.0</td>\n",
       "      <td>0.0</td>\n",
       "      <td>0.0</td>\n",
       "      <td>0.0</td>\n",
       "      <td>0.000000</td>\n",
       "      <td>...</td>\n",
       "      <td>4.0</td>\n",
       "      <td>324.0</td>\n",
       "      <td>589.754546</td>\n",
       "      <td>7.642211</td>\n",
       "      <td>220.0</td>\n",
       "      <td>581.950000</td>\n",
       "      <td>134.929956</td>\n",
       "      <td>220.0</td>\n",
       "      <td>0.0</td>\n",
       "      <td>0.0</td>\n",
       "    </tr>\n",
       "  </tbody>\n",
       "</table>\n",
       "<p>3 rows × 43 columns</p>\n",
       "</div>"
      ],
      "text/plain": [
       "   chrom       start         end   Size  refN_cnt  refN_pct  segdup_cnt  \\\n",
       "0    4.0  95498964.0  95499280.0 -316.0       0.0       0.0         0.0   \n",
       "1   19.0  14399929.0  14399954.0  -24.0       0.0       0.0         1.0   \n",
       "2    8.0  76766532.0  76766569.0  -36.0       0.0       0.0         0.0   \n",
       "\n",
       "   segdup_pct  tandemrep_cnt  tandemrep_pct               ...                \\\n",
       "0         0.0            1.0       0.117089               ...                 \n",
       "1         1.0            1.0       1.000000               ...                 \n",
       "2         0.0            0.0       0.000000               ...                 \n",
       "\n",
       "   Ill300x.amb_reason_orientation_orientation  Ill300x.amb_reason_same_scores  \\\n",
       "0                                         5.0                            71.0   \n",
       "1                                         4.0                           141.0   \n",
       "2                                         4.0                           324.0   \n",
       "\n",
       "   Ill300x.ref_alnScore_mean  Ill300x.ref_alnScore_std  Ill300x.ref_count  \\\n",
       "0                 588.000000                  6.226494               13.0   \n",
       "1                 584.039216                 12.259387              102.0   \n",
       "2                 589.754546                  7.642211              220.0   \n",
       "\n",
       "   Ill300x.ref_insertSize_mean  Ill300x.ref_insertSize_std  \\\n",
       "0                   831.000000                  202.968357   \n",
       "1                   541.176471                  145.259431   \n",
       "2                   581.950000                  134.929956   \n",
       "\n",
       "   Ill300x.ref_reason_alignmentScore  Ill300x.ref_reason_insertSizeScore  \\\n",
       "0                               13.0                                 0.0   \n",
       "1                              102.0                                 0.0   \n",
       "2                              220.0                                 0.0   \n",
       "\n",
       "   Ill300x.ref_reason_orientation  \n",
       "0                             0.0  \n",
       "1                             0.0  \n",
       "2                             0.0  \n",
       "\n",
       "[3 rows x 43 columns]"
      ]
     },
     "execution_count": 45,
     "metadata": {},
     "output_type": "execute_result"
    }
   ],
   "source": [
    "X3 = pd.DataFrame()\n",
    "X3 = X2\n",
    "X3.head(3)"
   ]
  },
  {
   "cell_type": "code",
   "execution_count": 46,
   "metadata": {
    "collapsed": true
   },
   "outputs": [],
   "source": [
    "# Order features\n",
    "X5 = X2.reindex_axis(sorted(X2.columns), axis=1)"
   ]
  },
  {
   "cell_type": "code",
   "execution_count": 47,
   "metadata": {},
   "outputs": [
    {
     "data": {
      "text/plain": [
       "array([ 2.,  1.,  2., ...,  2.,  0.,  0.])"
      ]
     },
     "execution_count": 47,
     "metadata": {},
     "output_type": "execute_result"
    }
   ],
   "source": [
    "model.predict(X5)"
   ]
  },
  {
   "cell_type": "markdown",
   "metadata": {},
   "source": [
    "<a id='prediction_step'></a>"
   ]
  },
  {
   "cell_type": "code",
   "execution_count": 48,
   "metadata": {
    "collapsed": true
   },
   "outputs": [],
   "source": [
    "pred = model.predict(X5)"
   ]
  },
  {
   "cell_type": "code",
   "execution_count": 49,
   "metadata": {
    "collapsed": true
   },
   "outputs": [],
   "source": [
    "pred_prob = model.predict_proba(X5)"
   ]
  },
  {
   "cell_type": "code",
   "execution_count": 50,
   "metadata": {
    "collapsed": true
   },
   "outputs": [],
   "source": [
    "X5['predicted_label'] = pred\n",
    "X5['chrom'] = df_test_2['chrom']\n",
    "X5['start'] = df_test_2['start']\n",
    "X5['end'] = df_test_2['end']\n",
    "X5['Size'] = df_test_2['Size']\n",
    "X5['GTcons'] = df_test_2['GTcons']\n",
    "X5['GTsupp'] = df_test_2['GTsupp']"
   ]
  },
  {
   "cell_type": "code",
   "execution_count": 51,
   "metadata": {
    "collapsed": true
   },
   "outputs": [],
   "source": [
    "X6 = pd.concat([X5, pd.DataFrame(pred_prob, columns=['1','2','3'])])"
   ]
  },
  {
   "cell_type": "code",
   "execution_count": 52,
   "metadata": {
    "collapsed": true
   },
   "outputs": [],
   "source": [
    "X6.to_csv('300x_pred_prob_GTcons_DEL_SVanalyzer_balanced.csv', index=False)"
   ]
  },
  {
   "cell_type": "code",
   "execution_count": null,
   "metadata": {
    "collapsed": true
   },
   "outputs": [],
   "source": [
    "#Note: Reformat X6 csv"
   ]
  },
  {
   "cell_type": "code",
   "execution_count": 54,
   "metadata": {
    "collapsed": true
   },
   "outputs": [],
   "source": [
    "X6 = pd.read_csv('/Users/lmc2/NIST/Notebooks/SVanalyzer_ML/DEL/results/300x/300x_pred_prob_GTcons_DEL_SVanalyzer_balanced.csv')"
   ]
  },
  {
   "cell_type": "code",
   "execution_count": 55,
   "metadata": {
    "collapsed": true
   },
   "outputs": [],
   "source": [
    "X6.rename(columns={'1': 'Homozygous_Reference'}, inplace=True)\n",
    "X6.rename(columns={'2': 'Heterozygous_Variant'}, inplace=True)\n",
    "X6.rename(columns={'3': 'Homozygous_Variant'}, inplace=True)\n",
    "X6.rename(columns={'predicted_label': '300x_predicted_label'}, inplace=True)"
   ]
  },
  {
   "cell_type": "code",
   "execution_count": 56,
   "metadata": {},
   "outputs": [
    {
     "data": {
      "text/html": [
       "<div>\n",
       "<table border=\"1\" class=\"dataframe\">\n",
       "  <thead>\n",
       "    <tr style=\"text-align: right;\">\n",
       "      <th></th>\n",
       "      <th>Homozygous_Reference</th>\n",
       "      <th>Heterozygous_Variant</th>\n",
       "      <th>Homozygous_Variant</th>\n",
       "      <th>GTcons</th>\n",
       "      <th>GTsupp</th>\n",
       "      <th>Ill300x.GT</th>\n",
       "      <th>Ill300x.alt_alnScore_mean</th>\n",
       "      <th>Ill300x.alt_alnScore_std</th>\n",
       "      <th>Ill300x.alt_count</th>\n",
       "      <th>Ill300x.alt_insertSize_mean</th>\n",
       "      <th>...</th>\n",
       "      <th>chrom</th>\n",
       "      <th>end</th>\n",
       "      <th>300x_predicted_label</th>\n",
       "      <th>refN_cnt</th>\n",
       "      <th>refN_pct</th>\n",
       "      <th>segdup_cnt</th>\n",
       "      <th>segdup_pct</th>\n",
       "      <th>start</th>\n",
       "      <th>tandemrep_cnt</th>\n",
       "      <th>tandemrep_pct</th>\n",
       "    </tr>\n",
       "  </thead>\n",
       "  <tbody>\n",
       "    <tr>\n",
       "      <th>0</th>\n",
       "      <td>0.0</td>\n",
       "      <td>0.3</td>\n",
       "      <td>0.7</td>\n",
       "      <td>2</td>\n",
       "      <td>1</td>\n",
       "      <td>-1</td>\n",
       "      <td>583.311364</td>\n",
       "      <td>10.419207</td>\n",
       "      <td>440</td>\n",
       "      <td>648.368182</td>\n",
       "      <td>...</td>\n",
       "      <td>4</td>\n",
       "      <td>95499280</td>\n",
       "      <td>2</td>\n",
       "      <td>0</td>\n",
       "      <td>0</td>\n",
       "      <td>0</td>\n",
       "      <td>0.0</td>\n",
       "      <td>95498964</td>\n",
       "      <td>1</td>\n",
       "      <td>0.117089</td>\n",
       "    </tr>\n",
       "    <tr>\n",
       "      <th>1</th>\n",
       "      <td>0.1</td>\n",
       "      <td>0.6</td>\n",
       "      <td>0.3</td>\n",
       "      <td>1</td>\n",
       "      <td>1</td>\n",
       "      <td>-1</td>\n",
       "      <td>580.656250</td>\n",
       "      <td>8.502240</td>\n",
       "      <td>32</td>\n",
       "      <td>546.468750</td>\n",
       "      <td>...</td>\n",
       "      <td>19</td>\n",
       "      <td>14399954</td>\n",
       "      <td>1</td>\n",
       "      <td>0</td>\n",
       "      <td>0</td>\n",
       "      <td>1</td>\n",
       "      <td>1.0</td>\n",
       "      <td>14399929</td>\n",
       "      <td>1</td>\n",
       "      <td>1.000000</td>\n",
       "    </tr>\n",
       "    <tr>\n",
       "      <th>2</th>\n",
       "      <td>0.2</td>\n",
       "      <td>0.1</td>\n",
       "      <td>0.7</td>\n",
       "      <td>1</td>\n",
       "      <td>2</td>\n",
       "      <td>1</td>\n",
       "      <td>581.966216</td>\n",
       "      <td>3.341822</td>\n",
       "      <td>148</td>\n",
       "      <td>585.952703</td>\n",
       "      <td>...</td>\n",
       "      <td>8</td>\n",
       "      <td>76766569</td>\n",
       "      <td>2</td>\n",
       "      <td>0</td>\n",
       "      <td>0</td>\n",
       "      <td>0</td>\n",
       "      <td>0.0</td>\n",
       "      <td>76766532</td>\n",
       "      <td>0</td>\n",
       "      <td>0.000000</td>\n",
       "    </tr>\n",
       "  </tbody>\n",
       "</table>\n",
       "<p>3 rows × 49 columns</p>\n",
       "</div>"
      ],
      "text/plain": [
       "   Homozygous_Reference  Heterozygous_Variant  Homozygous_Variant  GTcons  \\\n",
       "0                   0.0                   0.3                 0.7       2   \n",
       "1                   0.1                   0.6                 0.3       1   \n",
       "2                   0.2                   0.1                 0.7       1   \n",
       "\n",
       "   GTsupp  Ill300x.GT  Ill300x.alt_alnScore_mean  Ill300x.alt_alnScore_std  \\\n",
       "0       1          -1                 583.311364                 10.419207   \n",
       "1       1          -1                 580.656250                  8.502240   \n",
       "2       2           1                 581.966216                  3.341822   \n",
       "\n",
       "   Ill300x.alt_count  Ill300x.alt_insertSize_mean      ...        chrom  \\\n",
       "0                440                   648.368182      ...            4   \n",
       "1                 32                   546.468750      ...           19   \n",
       "2                148                   585.952703      ...            8   \n",
       "\n",
       "        end  300x_predicted_label  refN_cnt  refN_pct  segdup_cnt  segdup_pct  \\\n",
       "0  95499280                     2         0         0           0         0.0   \n",
       "1  14399954                     1         0         0           1         1.0   \n",
       "2  76766569                     2         0         0           0         0.0   \n",
       "\n",
       "      start  tandemrep_cnt  tandemrep_pct  \n",
       "0  95498964              1       0.117089  \n",
       "1  14399929              1       1.000000  \n",
       "2  76766532              0       0.000000  \n",
       "\n",
       "[3 rows x 49 columns]"
      ]
     },
     "execution_count": 56,
     "metadata": {},
     "output_type": "execute_result"
    }
   ],
   "source": [
    "X6.head(3)"
   ]
  },
  {
   "cell_type": "code",
   "execution_count": null,
   "metadata": {
    "collapsed": true
   },
   "outputs": [],
   "source": [
    "X6.to_csv('/Volumes/lesleydata/SVanalyzer_ML/Sept122017/Step3_ML/results/300x_final_GTcons_df_DEL_SVanalyzer_balanced.csv', index=False)"
   ]
  },
  {
   "cell_type": "markdown",
   "metadata": {},
   "source": [
    "***\n",
    "Label Analysis\n",
    "***"
   ]
  },
  {
   "cell_type": "markdown",
   "metadata": {},
   "source": [
    "Description:\n",
    "  * The [random forest(RF) model](#train_test) was trained on svanalyzer data. The trained model was used to predict consensus GT labels for the 5000 deletions that were randomly selected from the union_refalt vcf. The following is a comparison of model predicted labels [Conesus GT] to consensus genotype generated by the R script for the 5000 randomly selected datapoints from union_refalt.vcf "
   ]
  },
  {
   "cell_type": "code",
   "execution_count": 57,
   "metadata": {},
   "outputs": [
    {
     "name": "stdout",
     "output_type": "stream",
     "text": [
      "[[ 795   53   73]\n",
      " [  39  767 1106]\n",
      " [   5  292  374]]\n"
     ]
    }
   ],
   "source": [
    "from sklearn.metrics import confusion_matrix\n",
    "consensus_GT = X6['GTcons']\n",
    "predict = X6['300x_predicted_label']\n",
    "print(confusion_matrix(consensus_GT, predict))"
   ]
  },
  {
   "cell_type": "code",
   "execution_count": 58,
   "metadata": {
    "collapsed": true
   },
   "outputs": [],
   "source": [
    "X6['GTcons'].replace(0, 'Homozygous_Reference', inplace=True)\n",
    "X6['GTcons'].replace(1, 'Heterozygous_Variant', inplace=True)\n",
    "X6['GTcons'].replace(2, 'Homozygous_Variant', inplace=True)\n",
    "X6['300x_predicted_label'].replace(0.0, 'Homozygous_Reference', inplace=True)\n",
    "X6['300x_predicted_label'].replace(1.0, 'Heterozygous_Variant', inplace=True)\n",
    "X6['300x_predicted_label'].replace(2.0, 'Homozygous_Variant', inplace=True)"
   ]
  },
  {
   "cell_type": "markdown",
   "metadata": {},
   "source": [
    "<a id='predictions'></a>"
   ]
  },
  {
   "cell_type": "code",
   "execution_count": 59,
   "metadata": {},
   "outputs": [
    {
     "data": {
      "text/html": [
       "<div>\n",
       "<table border=\"1\" class=\"dataframe\">\n",
       "  <thead>\n",
       "    <tr style=\"text-align: right;\">\n",
       "      <th>Predicted</th>\n",
       "      <th>Heterozygous_Variant</th>\n",
       "      <th>Homozygous_Reference</th>\n",
       "      <th>Homozygous_Variant</th>\n",
       "      <th>All</th>\n",
       "    </tr>\n",
       "    <tr>\n",
       "      <th>True</th>\n",
       "      <th></th>\n",
       "      <th></th>\n",
       "      <th></th>\n",
       "      <th></th>\n",
       "    </tr>\n",
       "  </thead>\n",
       "  <tbody>\n",
       "    <tr>\n",
       "      <th>Heterozygous_Variant</th>\n",
       "      <td>767</td>\n",
       "      <td>39</td>\n",
       "      <td>1106</td>\n",
       "      <td>1912</td>\n",
       "    </tr>\n",
       "    <tr>\n",
       "      <th>Homozygous_Reference</th>\n",
       "      <td>53</td>\n",
       "      <td>795</td>\n",
       "      <td>73</td>\n",
       "      <td>921</td>\n",
       "    </tr>\n",
       "    <tr>\n",
       "      <th>Homozygous_Variant</th>\n",
       "      <td>292</td>\n",
       "      <td>5</td>\n",
       "      <td>374</td>\n",
       "      <td>671</td>\n",
       "    </tr>\n",
       "    <tr>\n",
       "      <th>All</th>\n",
       "      <td>1112</td>\n",
       "      <td>839</td>\n",
       "      <td>1553</td>\n",
       "      <td>3504</td>\n",
       "    </tr>\n",
       "  </tbody>\n",
       "</table>\n",
       "</div>"
      ],
      "text/plain": [
       "Predicted             Heterozygous_Variant  Homozygous_Reference  \\\n",
       "True                                                               \n",
       "Heterozygous_Variant                   767                    39   \n",
       "Homozygous_Reference                    53                   795   \n",
       "Homozygous_Variant                     292                     5   \n",
       "All                                   1112                   839   \n",
       "\n",
       "Predicted             Homozygous_Variant   All  \n",
       "True                                            \n",
       "Heterozygous_Variant                1106  1912  \n",
       "Homozygous_Reference                  73   921  \n",
       "Homozygous_Variant                   374   671  \n",
       "All                                 1553  3504  "
      ]
     },
     "execution_count": 59,
     "metadata": {},
     "output_type": "execute_result"
    }
   ],
   "source": [
    "pd.crosstab(consensus_GT, predict, rownames=['True'], colnames=['Predicted'], margins=True)"
   ]
  },
  {
   "cell_type": "code",
   "execution_count": 60,
   "metadata": {},
   "outputs": [
    {
     "name": "stdout",
     "output_type": "stream",
     "text": [
      "Precision score of the prediction subset: 0.553\n"
     ]
    }
   ],
   "source": [
    "print('Precision score of the prediction subset: {:.3f}'.format(precision_score(consensus_GT, predict, average='micro'))) "
   ]
  },
  {
   "cell_type": "markdown",
   "metadata": {},
   "source": [
    "** High Confidence Label Analysis**\n",
    "* **Reminder:** The labels predicted by the model are the following consensus genotype:\n",
    "    * Homozygous Reference: 0 \n",
    "    * Heterozygous Variant: 1 \n",
    "    * Homozygous Variant: 2 \n",
    "* Here **high confidence labels** are the labels predicted by the model that were also assigned a predict probability of either 0.9 or 1\n",
    "* The following is an analysis of predicted svanalyzer labels with predict probability >0.9"
   ]
  },
  {
   "cell_type": "code",
   "execution_count": 61,
   "metadata": {
    "collapsed": true
   },
   "outputs": [],
   "source": [
    "high_conf_labels = X6[(X6['Homozygous_Reference'] == 1) | (X6['Homozygous_Reference'] == 0.9) | (X6['Heterozygous_Variant'] == 1) | (X6['Heterozygous_Variant'] == 0.9) | (X6['Homozygous_Variant'] == 1) | (X6['Homozygous_Variant'] == 0.9)]\n"
   ]
  },
  {
   "cell_type": "code",
   "execution_count": 62,
   "metadata": {},
   "outputs": [
    {
     "data": {
      "text/html": [
       "<div>\n",
       "<table border=\"1\" class=\"dataframe\">\n",
       "  <thead>\n",
       "    <tr style=\"text-align: right;\">\n",
       "      <th>Predicted</th>\n",
       "      <th>Heterozygous_Variant</th>\n",
       "      <th>Homozygous_Reference</th>\n",
       "      <th>Homozygous_Variant</th>\n",
       "      <th>All</th>\n",
       "    </tr>\n",
       "    <tr>\n",
       "      <th>True</th>\n",
       "      <th></th>\n",
       "      <th></th>\n",
       "      <th></th>\n",
       "      <th></th>\n",
       "    </tr>\n",
       "  </thead>\n",
       "  <tbody>\n",
       "    <tr>\n",
       "      <th>Heterozygous_Variant</th>\n",
       "      <td>30</td>\n",
       "      <td>1</td>\n",
       "      <td>79</td>\n",
       "      <td>110</td>\n",
       "    </tr>\n",
       "    <tr>\n",
       "      <th>Homozygous_Reference</th>\n",
       "      <td>1</td>\n",
       "      <td>400</td>\n",
       "      <td>1</td>\n",
       "      <td>402</td>\n",
       "    </tr>\n",
       "    <tr>\n",
       "      <th>Homozygous_Variant</th>\n",
       "      <td>18</td>\n",
       "      <td>0</td>\n",
       "      <td>35</td>\n",
       "      <td>53</td>\n",
       "    </tr>\n",
       "    <tr>\n",
       "      <th>All</th>\n",
       "      <td>49</td>\n",
       "      <td>401</td>\n",
       "      <td>115</td>\n",
       "      <td>565</td>\n",
       "    </tr>\n",
       "  </tbody>\n",
       "</table>\n",
       "</div>"
      ],
      "text/plain": [
       "Predicted             Heterozygous_Variant  Homozygous_Reference  \\\n",
       "True                                                               \n",
       "Heterozygous_Variant                    30                     1   \n",
       "Homozygous_Reference                     1                   400   \n",
       "Homozygous_Variant                      18                     0   \n",
       "All                                     49                   401   \n",
       "\n",
       "Predicted             Homozygous_Variant  All  \n",
       "True                                           \n",
       "Heterozygous_Variant                  79  110  \n",
       "Homozygous_Reference                   1  402  \n",
       "Homozygous_Variant                    35   53  \n",
       "All                                  115  565  "
      ]
     },
     "execution_count": 62,
     "metadata": {},
     "output_type": "execute_result"
    }
   ],
   "source": [
    "consensus_GT = high_conf_labels['GTcons']\n",
    "predict = high_conf_labels['300x_predicted_label']\n",
    "pd.crosstab(consensus_GT, predict, rownames=['True'], colnames=['Predicted'], margins=True)"
   ]
  },
  {
   "cell_type": "code",
   "execution_count": 63,
   "metadata": {},
   "outputs": [
    {
     "name": "stdout",
     "output_type": "stream",
     "text": [
      "                      precision    recall  f1-score   support\n",
      "\n",
      "Heterozygous_Variant       0.61      0.27      0.38       110\n",
      "Homozygous_Reference       1.00      1.00      1.00       402\n",
      "  Homozygous_Variant       0.30      0.66      0.42        53\n",
      "\n",
      "         avg / total       0.86      0.82      0.82       565\n",
      "\n"
     ]
    }
   ],
   "source": [
    "from sklearn.metrics import classification_report\n",
    "print(classification_report(consensus_GT, predict))"
   ]
  },
  {
   "cell_type": "markdown",
   "metadata": {},
   "source": [
    "***\n",
    "Compare to crowdsourced results\n",
    "***"
   ]
  },
  {
   "cell_type": "markdown",
   "metadata": {},
   "source": [
    "#### 300X: Crowdsourced (Crowdvariant) Results\n",
    "![Figure1](https://raw.githubusercontent.com/lesleymaraina/NIST/master/Notebooks/SVanalyzer_ML/DEL/images/300x_CrowdVar1.png)"
   ]
  },
  {
   "cell_type": "markdown",
   "metadata": {},
   "source": [
    "![Figure1](https://raw.githubusercontent.com/lesleymaraina/NIST/master/Notebooks/SVanalyzer_ML/DEL/images/300x_CrowdVar2_.png)"
   ]
  },
  {
   "cell_type": "markdown",
   "metadata": {},
   "source": [
    "![Figure1](https://raw.githubusercontent.com/lesleymaraina/NIST/master/Notebooks/SVanalyzer_ML/DEL/images/300x_CrowdVar3.png)"
   ]
  },
  {
   "cell_type": "code",
   "execution_count": null,
   "metadata": {
    "collapsed": true
   },
   "outputs": [],
   "source": []
  }
 ],
 "metadata": {
  "kernelspec": {
   "display_name": "Python [NIHFAES]",
   "language": "python",
   "name": "Python [NIHFAES]"
  },
  "language_info": {
   "codemirror_mode": {
    "name": "ipython",
    "version": 3
   },
   "file_extension": ".py",
   "mimetype": "text/x-python",
   "name": "python",
   "nbconvert_exporter": "python",
   "pygments_lexer": "ipython3",
   "version": "3.5.2"
  }
 },
 "nbformat": 4,
 "nbformat_minor": 2
}
