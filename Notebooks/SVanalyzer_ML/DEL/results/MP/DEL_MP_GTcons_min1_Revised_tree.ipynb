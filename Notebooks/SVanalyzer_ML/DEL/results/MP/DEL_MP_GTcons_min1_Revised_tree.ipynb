{
 "cells": [
  {
   "cell_type": "markdown",
   "metadata": {},
   "source": [
    "### MP: GTcons\n",
    "\n",
    "* The following notebook is trained on data generated from revised R script [Oct 12 2017]\n",
    "    * Exact Match [1] and Homozygous [0] Reference data points\n",
    "    * Removed all data points with Gtcons and GTconswithoutXX -1\n",
    "* 5k randomly selected deletions test data was also processed through same R script\n",
    "* Balanced Training Set for GTcons labels\n",
    "    * 200 Homozygous Reference\n",
    "    * 200 Heterozygous Variant\n",
    "    * 200 Homozygous Variant\n",
    "* **Train/Prediction Label:** consensus genotype"
   ]
  },
  {
   "cell_type": "code",
   "execution_count": 1,
   "metadata": {},
   "outputs": [
    {
     "name": "stderr",
     "output_type": "stream",
     "text": [
      "/Users/lmc2/anaconda/envs/NIHFAES/lib/python3.5/site-packages/sklearn/cross_validation.py:44: DeprecationWarning:\n",
      "\n",
      "This module was deprecated in version 0.18 in favor of the model_selection module into which all the refactored classes and functions are moved. Also note that the interface of the new CV iterators are different from that of this module. This module will be removed in 0.20.\n",
      "\n",
      "/Users/lmc2/anaconda/envs/NIHFAES/lib/python3.5/site-packages/sklearn/grid_search.py:43: DeprecationWarning:\n",
      "\n",
      "This module was deprecated in version 0.18 in favor of the model_selection module into which all the refactored classes and functions are moved. This module will be removed in 0.20.\n",
      "\n"
     ]
    }
   ],
   "source": [
    "\"\"\"\n",
    "Imports\n",
    "\"\"\"\n",
    "import pandas as pd\n",
    "import numpy as np\n",
    "from fancyimpute import KNN\n",
    "import matplotlib.pyplot as plt\n",
    "from sklearn import preprocessing\n",
    "from sklearn.preprocessing import LabelEncoder\n",
    "from sklearn.model_selection import LeaveOneOut\n",
    "from scipy.stats import ks_2samp\n",
    "from scipy import stats\n",
    "from matplotlib import pyplot\n",
    "from sklearn import preprocessing\n",
    "from scipy.linalg import svd\n",
    "from sklearn.decomposition import TruncatedSVD\n",
    "from sklearn.ensemble import RandomForestClassifier\n",
    "from sklearn.metrics import roc_auc_score\n",
    "import seaborn as sns\n",
    "from sklearn.manifold import TSNE\n",
    "from sklearn.decomposition import PCA as sklearnPCA\n",
    "import plotly.plotly as py\n",
    "from sklearn.cluster import DBSCAN\n",
    "from sklearn.model_selection import train_test_split\n",
    "from sklearn import metrics\n",
    "from sklearn.grid_search import GridSearchCV\n",
    "from sklearn.metrics import f1_score, precision_score\n",
    "from sklearn import preprocessing\n",
    "from ggplot import *\n",
    "from bokeh.charts import TimeSeries\n",
    "from bokeh.models import HoverTool\n",
    "from bokeh.plotting import show\n",
    "from bokeh.charts import Scatter, Histogram, output_file, show\n",
    "from bokeh.plotting import figure, show, output_file, ColumnDataSource\n",
    "from bokeh.io import output_notebook\n",
    "from bokeh.charts import Bar, output_file, show\n",
    "import bokeh.palettes as palettes\n",
    "from bokeh.models import HoverTool, BoxSelectTool, Legend\n",
    "from sklearn import (manifold, datasets, decomposition, ensemble,\n",
    "                     discriminant_analysis, random_projection)"
   ]
  },
  {
   "cell_type": "code",
   "execution_count": 2,
   "metadata": {},
   "outputs": [
    {
     "data": {
      "text/html": [
       "<div>\n",
       "<table border=\"1\" class=\"dataframe\">\n",
       "  <thead>\n",
       "    <tr style=\"text-align: right;\">\n",
       "      <th></th>\n",
       "      <th>chrom</th>\n",
       "      <th>sample</th>\n",
       "      <th>id</th>\n",
       "      <th>start</th>\n",
       "      <th>end</th>\n",
       "      <th>Size</th>\n",
       "      <th>type</th>\n",
       "      <th>SVtype</th>\n",
       "      <th>refN_cnt</th>\n",
       "      <th>refN_pct</th>\n",
       "      <th>...</th>\n",
       "      <th>IllMP.amb_reason_orientation_orientation</th>\n",
       "      <th>IllMP.amb_reason_same_scores</th>\n",
       "      <th>IllMP.ref_alnScore_mean</th>\n",
       "      <th>IllMP.ref_alnScore_std</th>\n",
       "      <th>IllMP.ref_count</th>\n",
       "      <th>IllMP.ref_insertSize_mean</th>\n",
       "      <th>IllMP.ref_insertSize_std</th>\n",
       "      <th>IllMP.ref_reason_alignmentScore</th>\n",
       "      <th>IllMP.ref_reason_insertSizeScore</th>\n",
       "      <th>IllMP.ref_reason_orientation</th>\n",
       "    </tr>\n",
       "  </thead>\n",
       "  <tbody>\n",
       "    <tr>\n",
       "      <th>0</th>\n",
       "      <td>1</td>\n",
       "      <td>HG002</td>\n",
       "      <td>21</td>\n",
       "      <td>65326531</td>\n",
       "      <td>65326651</td>\n",
       "      <td>-120</td>\n",
       "      <td>Deletion</td>\n",
       "      <td>Deletion</td>\n",
       "      <td>0</td>\n",
       "      <td>0</td>\n",
       "      <td>...</td>\n",
       "      <td>35.0</td>\n",
       "      <td>336.0</td>\n",
       "      <td>418.75</td>\n",
       "      <td>63.408234</td>\n",
       "      <td>24.0</td>\n",
       "      <td>6629.333333</td>\n",
       "      <td>928.603551</td>\n",
       "      <td>24.0</td>\n",
       "      <td>0.0</td>\n",
       "      <td>0.0</td>\n",
       "    </tr>\n",
       "  </tbody>\n",
       "</table>\n",
       "<p>1 rows × 50 columns</p>\n",
       "</div>"
      ],
      "text/plain": [
       "  chrom sample  id     start       end  Size      type    SVtype  refN_cnt  \\\n",
       "0     1  HG002  21  65326531  65326651  -120  Deletion  Deletion         0   \n",
       "\n",
       "   refN_pct              ...               \\\n",
       "0         0              ...                \n",
       "\n",
       "   IllMP.amb_reason_orientation_orientation  IllMP.amb_reason_same_scores  \\\n",
       "0                                      35.0                         336.0   \n",
       "\n",
       "   IllMP.ref_alnScore_mean  IllMP.ref_alnScore_std  IllMP.ref_count  \\\n",
       "0                   418.75               63.408234             24.0   \n",
       "\n",
       "   IllMP.ref_insertSize_mean  IllMP.ref_insertSize_std  \\\n",
       "0                6629.333333                928.603551   \n",
       "\n",
       "   IllMP.ref_reason_alignmentScore  IllMP.ref_reason_insertSizeScore  \\\n",
       "0                             24.0                               0.0   \n",
       "\n",
       "   IllMP.ref_reason_orientation  \n",
       "0                           0.0  \n",
       "\n",
       "[1 rows x 50 columns]"
      ]
     },
     "execution_count": 2,
     "metadata": {},
     "output_type": "execute_result"
    }
   ],
   "source": [
    "# Import Training Data\n",
    "# SVanalyzer generated training data\n",
    "df_train = pd.read_csv('/Volumes/lesleydata/SVanalyzer_ML/Oct122017_Revised_R/dataframes/training_data/tech_sep/HG002/DEL/MP_EM_HR_HG002_DEL_balanced_label_min1.csv')\n",
    "df_train_2 = pd.read_csv('/Volumes/lesleydata/SVanalyzer_ML/Oct122017_Revised_R/dataframes/training_data/tech_sep/HG002/DEL/MP_EM_HR_HG002_DEL_balanced_label_min1.csv')\n",
    "df_train.rename(columns={'size': 'Size'}, inplace=True)\n",
    "df_train.head(1)"
   ]
  },
  {
   "cell_type": "code",
   "execution_count": 3,
   "metadata": {
    "collapsed": true
   },
   "outputs": [],
   "source": [
    "train_set = pd.DataFrame()\n",
    "train_set = df_train_2"
   ]
  },
  {
   "cell_type": "code",
   "execution_count": 4,
   "metadata": {
    "collapsed": true
   },
   "outputs": [],
   "source": [
    "train_set['GTcons'].replace(0, 'Homozygous_Reference', inplace=True)\n",
    "train_set['GTcons'].replace(1, 'Heterozygous_Variant', inplace=True)\n",
    "train_set['GTcons'].replace(2, 'Homozygous_Variant', inplace=True)"
   ]
  },
  {
   "cell_type": "markdown",
   "metadata": {},
   "source": [
    "<a id='imbalance'></a>"
   ]
  },
  {
   "cell_type": "code",
   "execution_count": 5,
   "metadata": {},
   "outputs": [
    {
     "data": {
      "text/plain": [
       "Homozygous_Reference    200\n",
       "Heterozygous_Variant    200\n",
       "Homozygous_Variant      200\n",
       "dtype: int64"
      ]
     },
     "execution_count": 5,
     "metadata": {},
     "output_type": "execute_result"
    }
   ],
   "source": [
    "pd.value_counts(train_set['GTcons'].values, sort=False)"
   ]
  },
  {
   "cell_type": "code",
   "execution_count": 6,
   "metadata": {
    "collapsed": true
   },
   "outputs": [],
   "source": [
    "# Train the model only on the rows that have an Exact Match or Homozygous Reference Label\n",
    "# This step removes any row that has in 'Inaccurate Call' label\n",
    "df_train = df_train[(df_train['Label'] == 1) | (df_train['Label'] == 0)]\n",
    "df_train_2 = df_train_2[(df_train_2['Label'] == 1) | (df_train_2['Label'] == 0)]"
   ]
  },
  {
   "cell_type": "code",
   "execution_count": 7,
   "metadata": {},
   "outputs": [
    {
     "data": {
      "text/plain": [
       "0    164\n",
       "1    436\n",
       "dtype: int64"
      ]
     },
     "execution_count": 7,
     "metadata": {},
     "output_type": "execute_result"
    }
   ],
   "source": [
    "# There are only Exact Match [1] and Homozygous Reference Labels [0]\n",
    "pd.value_counts(df_train['Label'].values, sort=False)"
   ]
  },
  {
   "cell_type": "markdown",
   "metadata": {},
   "source": [
    "<a id='hom_ref'></a>"
   ]
  },
  {
   "cell_type": "code",
   "execution_count": 8,
   "metadata": {},
   "outputs": [
    {
     "data": {
      "text/html": [
       "<div>\n",
       "<table border=\"1\" class=\"dataframe\">\n",
       "  <thead>\n",
       "    <tr style=\"text-align: right;\">\n",
       "      <th></th>\n",
       "      <th>chrom</th>\n",
       "      <th>sample</th>\n",
       "      <th>id</th>\n",
       "      <th>start</th>\n",
       "      <th>end</th>\n",
       "      <th>Size</th>\n",
       "      <th>type</th>\n",
       "      <th>SVtype</th>\n",
       "      <th>refN_cnt</th>\n",
       "      <th>refN_pct</th>\n",
       "      <th>...</th>\n",
       "      <th>IllMP.amb_reason_orientation_orientation</th>\n",
       "      <th>IllMP.amb_reason_same_scores</th>\n",
       "      <th>IllMP.ref_alnScore_mean</th>\n",
       "      <th>IllMP.ref_alnScore_std</th>\n",
       "      <th>IllMP.ref_count</th>\n",
       "      <th>IllMP.ref_insertSize_mean</th>\n",
       "      <th>IllMP.ref_insertSize_std</th>\n",
       "      <th>IllMP.ref_reason_alignmentScore</th>\n",
       "      <th>IllMP.ref_reason_insertSizeScore</th>\n",
       "      <th>IllMP.ref_reason_orientation</th>\n",
       "    </tr>\n",
       "  </thead>\n",
       "  <tbody>\n",
       "    <tr>\n",
       "      <th>0</th>\n",
       "      <td>1</td>\n",
       "      <td>HG002</td>\n",
       "      <td>859</td>\n",
       "      <td>37568322</td>\n",
       "      <td>37568587</td>\n",
       "      <td>-115</td>\n",
       "      <td>Insertion</td>\n",
       "      <td>Deletion</td>\n",
       "      <td>0</td>\n",
       "      <td>0</td>\n",
       "      <td>...</td>\n",
       "      <td>43.0</td>\n",
       "      <td>456.0</td>\n",
       "      <td>411.08</td>\n",
       "      <td>53.348604</td>\n",
       "      <td>25.0</td>\n",
       "      <td>6586.56</td>\n",
       "      <td>999.928961</td>\n",
       "      <td>15.0</td>\n",
       "      <td>0.0</td>\n",
       "      <td>10.0</td>\n",
       "    </tr>\n",
       "  </tbody>\n",
       "</table>\n",
       "<p>1 rows × 50 columns</p>\n",
       "</div>"
      ],
      "text/plain": [
       "  chrom sample   id     start       end  Size       type    SVtype  refN_cnt  \\\n",
       "0     1  HG002  859  37568322  37568587  -115  Insertion  Deletion         0   \n",
       "\n",
       "   refN_pct              ...               \\\n",
       "0         0              ...                \n",
       "\n",
       "   IllMP.amb_reason_orientation_orientation  IllMP.amb_reason_same_scores  \\\n",
       "0                                      43.0                         456.0   \n",
       "\n",
       "   IllMP.ref_alnScore_mean  IllMP.ref_alnScore_std  IllMP.ref_count  \\\n",
       "0                   411.08               53.348604             25.0   \n",
       "\n",
       "   IllMP.ref_insertSize_mean  IllMP.ref_insertSize_std  \\\n",
       "0                    6586.56                999.928961   \n",
       "\n",
       "   IllMP.ref_reason_alignmentScore  IllMP.ref_reason_insertSizeScore  \\\n",
       "0                             15.0                               0.0   \n",
       "\n",
       "   IllMP.ref_reason_orientation  \n",
       "0                          10.0  \n",
       "\n",
       "[1 rows x 50 columns]"
      ]
     },
     "execution_count": 8,
     "metadata": {},
     "output_type": "execute_result"
    }
   ],
   "source": [
    "# Import Test Data\n",
    "# SVanalyzer generated training data\n",
    "df_test = pd.read_csv('/Volumes/lesleydata/SVanalyzer_ML/Oct122017_Revised_R/dataframes/test/final_df/tech_sep/DEL/HG002/MP_HG002_DEL_min1.csv')\n",
    "df_test_2 = pd.read_csv('/Volumes/lesleydata/SVanalyzer_ML/Oct122017_Revised_R/dataframes/test/final_df/tech_sep/DEL/HG002/MP_HG002_DEL_min1.csv')\n",
    "df_test.rename(columns={'size': 'Size'}, inplace=True)\n",
    "df_test.head(1)"
   ]
  },
  {
   "cell_type": "code",
   "execution_count": 9,
   "metadata": {},
   "outputs": [
    {
     "data": {
      "text/plain": [
       "{'Label'}"
      ]
     },
     "execution_count": 9,
     "metadata": {},
     "output_type": "execute_result"
    }
   ],
   "source": [
    "# Store header names in lists and find names that are NOT contained in BOTH lists\n",
    "c = list(df_train.columns.values)\n",
    "d = list(df_test.columns.values)\n",
    "set(c) - set(d)"
   ]
  },
  {
   "cell_type": "code",
   "execution_count": 10,
   "metadata": {
    "collapsed": true
   },
   "outputs": [],
   "source": [
    "### Drop columns that are not shared by both dataframes\n",
    "df_train.drop(['Label'], axis=1, inplace = True)\n",
    "df_train.drop(['GTconswithoutIllMP.GT'], axis=1, inplace = True)\n",
    "df_train.drop(['GTconflict'], axis=1, inplace = True)\n",
    "df_train.drop(['GTsupp'], axis=1, inplace = True)\n",
    "df_train.drop(['sample'], axis=1, inplace = True)\n",
    "df_train.drop(['SVtype'], axis=1, inplace = True)\n",
    "df_train.drop(['type'], axis=1, inplace = True)\n",
    "df_train.drop(['id'], axis=1, inplace = True)"
   ]
  },
  {
   "cell_type": "code",
   "execution_count": 11,
   "metadata": {},
   "outputs": [
    {
     "data": {
      "text/html": [
       "<div>\n",
       "<table border=\"1\" class=\"dataframe\">\n",
       "  <thead>\n",
       "    <tr style=\"text-align: right;\">\n",
       "      <th></th>\n",
       "      <th>chrom</th>\n",
       "      <th>start</th>\n",
       "      <th>end</th>\n",
       "      <th>Size</th>\n",
       "      <th>refN_cnt</th>\n",
       "      <th>refN_pct</th>\n",
       "      <th>segdup_cnt</th>\n",
       "      <th>segdup_pct</th>\n",
       "      <th>tandemrep_cnt</th>\n",
       "      <th>tandemrep_pct</th>\n",
       "      <th>...</th>\n",
       "      <th>IllMP.amb_reason_orientation_orientation</th>\n",
       "      <th>IllMP.amb_reason_same_scores</th>\n",
       "      <th>IllMP.ref_alnScore_mean</th>\n",
       "      <th>IllMP.ref_alnScore_std</th>\n",
       "      <th>IllMP.ref_count</th>\n",
       "      <th>IllMP.ref_insertSize_mean</th>\n",
       "      <th>IllMP.ref_insertSize_std</th>\n",
       "      <th>IllMP.ref_reason_alignmentScore</th>\n",
       "      <th>IllMP.ref_reason_insertSizeScore</th>\n",
       "      <th>IllMP.ref_reason_orientation</th>\n",
       "    </tr>\n",
       "  </thead>\n",
       "  <tbody>\n",
       "    <tr>\n",
       "      <th>0</th>\n",
       "      <td>1</td>\n",
       "      <td>65326531</td>\n",
       "      <td>65326651</td>\n",
       "      <td>-120</td>\n",
       "      <td>0</td>\n",
       "      <td>0</td>\n",
       "      <td>0</td>\n",
       "      <td>0.0</td>\n",
       "      <td>1</td>\n",
       "      <td>1.0</td>\n",
       "      <td>...</td>\n",
       "      <td>35.0</td>\n",
       "      <td>336.0</td>\n",
       "      <td>418.75</td>\n",
       "      <td>63.408234</td>\n",
       "      <td>24.0</td>\n",
       "      <td>6629.333333</td>\n",
       "      <td>928.603551</td>\n",
       "      <td>24.0</td>\n",
       "      <td>0.0</td>\n",
       "      <td>0.0</td>\n",
       "    </tr>\n",
       "  </tbody>\n",
       "</table>\n",
       "<p>1 rows × 42 columns</p>\n",
       "</div>"
      ],
      "text/plain": [
       "  chrom     start       end  Size  refN_cnt  refN_pct  segdup_cnt  segdup_pct  \\\n",
       "0     1  65326531  65326651  -120         0         0           0         0.0   \n",
       "\n",
       "   tandemrep_cnt  tandemrep_pct              ...               \\\n",
       "0              1            1.0              ...                \n",
       "\n",
       "   IllMP.amb_reason_orientation_orientation  IllMP.amb_reason_same_scores  \\\n",
       "0                                      35.0                         336.0   \n",
       "\n",
       "   IllMP.ref_alnScore_mean  IllMP.ref_alnScore_std  IllMP.ref_count  \\\n",
       "0                   418.75               63.408234             24.0   \n",
       "\n",
       "   IllMP.ref_insertSize_mean  IllMP.ref_insertSize_std  \\\n",
       "0                6629.333333                928.603551   \n",
       "\n",
       "   IllMP.ref_reason_alignmentScore  IllMP.ref_reason_insertSizeScore  \\\n",
       "0                             24.0                               0.0   \n",
       "\n",
       "   IllMP.ref_reason_orientation  \n",
       "0                           0.0  \n",
       "\n",
       "[1 rows x 42 columns]"
      ]
     },
     "execution_count": 11,
     "metadata": {},
     "output_type": "execute_result"
    }
   ],
   "source": [
    "df_train.head(1)"
   ]
  },
  {
   "cell_type": "code",
   "execution_count": 12,
   "metadata": {
    "collapsed": true
   },
   "outputs": [],
   "source": [
    "df_train['chrom'].replace('X', 23, inplace=True)\n",
    "df_train['chrom'].replace('Y', 24, inplace=True)\n",
    "df_test['chrom'].replace('X', 23, inplace=True)\n",
    "df_test['chrom'].replace('Y', 24, inplace=True)"
   ]
  },
  {
   "cell_type": "code",
   "execution_count": 13,
   "metadata": {},
   "outputs": [
    {
     "data": {
      "text/plain": [
       "{'GTconflict',\n",
       " 'GTconswithoutIllMP.GT',\n",
       " 'GTsupp',\n",
       " 'IllMP.amb_reason_orientation_insertSizeScore',\n",
       " 'SVtype',\n",
       " 'id',\n",
       " 'sample',\n",
       " 'type'}"
      ]
     },
     "execution_count": 13,
     "metadata": {},
     "output_type": "execute_result"
    }
   ],
   "source": [
    "# Store header names in lists and find names that are NOT contained in BOTH lists\n",
    "c = list(df_train.columns.values)\n",
    "d = list(df_test.columns.values)\n",
    "set(d) - set(c)"
   ]
  },
  {
   "cell_type": "code",
   "execution_count": 14,
   "metadata": {
    "collapsed": true
   },
   "outputs": [],
   "source": [
    "### Drop columns that are not shared by both dataframes\n",
    "df_test.drop(['IllMP.amb_reason_orientation_insertSizeScore'], axis=1, inplace = True)\n",
    "df_test.drop(['GTconswithoutIllMP.GT'], axis=1, inplace = True)\n",
    "df_test.drop(['GTcons'], axis=1, inplace = True)\n",
    "df_test.drop(['GTconflict'], axis=1, inplace = True)\n",
    "df_test.drop(['GTsupp'], axis=1, inplace = True)\n",
    "df_test.drop(['sample'], axis=1, inplace = True)\n",
    "df_test.drop(['SVtype'], axis=1, inplace = True)\n",
    "df_test.drop(['type'], axis=1, inplace = True)\n",
    "df_test.drop(['id'], axis=1, inplace = True)"
   ]
  },
  {
   "cell_type": "markdown",
   "metadata": {},
   "source": [
    "***\n",
    "Impute missing values using KNN\n",
    "***"
   ]
  },
  {
   "cell_type": "code",
   "execution_count": 15,
   "metadata": {},
   "outputs": [
    {
     "data": {
      "text/html": [
       "<div>\n",
       "<table border=\"1\" class=\"dataframe\">\n",
       "  <thead>\n",
       "    <tr style=\"text-align: right;\">\n",
       "      <th></th>\n",
       "      <th>chrom</th>\n",
       "      <th>start</th>\n",
       "      <th>end</th>\n",
       "      <th>Size</th>\n",
       "      <th>refN_cnt</th>\n",
       "      <th>refN_pct</th>\n",
       "      <th>segdup_cnt</th>\n",
       "      <th>segdup_pct</th>\n",
       "      <th>tandemrep_cnt</th>\n",
       "      <th>tandemrep_pct</th>\n",
       "      <th>...</th>\n",
       "      <th>IllMP.amb_reason_orientation_orientation</th>\n",
       "      <th>IllMP.amb_reason_same_scores</th>\n",
       "      <th>IllMP.ref_alnScore_mean</th>\n",
       "      <th>IllMP.ref_alnScore_std</th>\n",
       "      <th>IllMP.ref_count</th>\n",
       "      <th>IllMP.ref_insertSize_mean</th>\n",
       "      <th>IllMP.ref_insertSize_std</th>\n",
       "      <th>IllMP.ref_reason_alignmentScore</th>\n",
       "      <th>IllMP.ref_reason_insertSizeScore</th>\n",
       "      <th>IllMP.ref_reason_orientation</th>\n",
       "    </tr>\n",
       "  </thead>\n",
       "  <tbody>\n",
       "    <tr>\n",
       "      <th>0</th>\n",
       "      <td>1</td>\n",
       "      <td>65326531</td>\n",
       "      <td>65326651</td>\n",
       "      <td>-120</td>\n",
       "      <td>0</td>\n",
       "      <td>0</td>\n",
       "      <td>0</td>\n",
       "      <td>0.0</td>\n",
       "      <td>1</td>\n",
       "      <td>1.0</td>\n",
       "      <td>...</td>\n",
       "      <td>35.0</td>\n",
       "      <td>336.0</td>\n",
       "      <td>418.750000</td>\n",
       "      <td>63.408234</td>\n",
       "      <td>24.0</td>\n",
       "      <td>6629.333333</td>\n",
       "      <td>928.603551</td>\n",
       "      <td>24.0</td>\n",
       "      <td>0.0</td>\n",
       "      <td>0.0</td>\n",
       "    </tr>\n",
       "    <tr>\n",
       "      <th>1</th>\n",
       "      <td>1</td>\n",
       "      <td>83753489</td>\n",
       "      <td>83753698</td>\n",
       "      <td>-209</td>\n",
       "      <td>0</td>\n",
       "      <td>0</td>\n",
       "      <td>1</td>\n",
       "      <td>1.0</td>\n",
       "      <td>1</td>\n",
       "      <td>1.0</td>\n",
       "      <td>...</td>\n",
       "      <td>13.0</td>\n",
       "      <td>242.0</td>\n",
       "      <td>418.764706</td>\n",
       "      <td>63.896543</td>\n",
       "      <td>17.0</td>\n",
       "      <td>7069.176471</td>\n",
       "      <td>952.851216</td>\n",
       "      <td>17.0</td>\n",
       "      <td>0.0</td>\n",
       "      <td>0.0</td>\n",
       "    </tr>\n",
       "    <tr>\n",
       "      <th>2</th>\n",
       "      <td>1</td>\n",
       "      <td>152326749</td>\n",
       "      <td>152326980</td>\n",
       "      <td>-231</td>\n",
       "      <td>0</td>\n",
       "      <td>0</td>\n",
       "      <td>1</td>\n",
       "      <td>1.0</td>\n",
       "      <td>0</td>\n",
       "      <td>0.0</td>\n",
       "      <td>...</td>\n",
       "      <td>33.0</td>\n",
       "      <td>273.0</td>\n",
       "      <td>421.454545</td>\n",
       "      <td>66.396007</td>\n",
       "      <td>22.0</td>\n",
       "      <td>6880.363636</td>\n",
       "      <td>750.663194</td>\n",
       "      <td>22.0</td>\n",
       "      <td>0.0</td>\n",
       "      <td>0.0</td>\n",
       "    </tr>\n",
       "  </tbody>\n",
       "</table>\n",
       "<p>3 rows × 42 columns</p>\n",
       "</div>"
      ],
      "text/plain": [
       "  chrom      start        end  Size  refN_cnt  refN_pct  segdup_cnt  \\\n",
       "0     1   65326531   65326651  -120         0         0           0   \n",
       "1     1   83753489   83753698  -209         0         0           1   \n",
       "2     1  152326749  152326980  -231         0         0           1   \n",
       "\n",
       "   segdup_pct  tandemrep_cnt  tandemrep_pct              ...               \\\n",
       "0         0.0              1            1.0              ...                \n",
       "1         1.0              1            1.0              ...                \n",
       "2         1.0              0            0.0              ...                \n",
       "\n",
       "   IllMP.amb_reason_orientation_orientation  IllMP.amb_reason_same_scores  \\\n",
       "0                                      35.0                         336.0   \n",
       "1                                      13.0                         242.0   \n",
       "2                                      33.0                         273.0   \n",
       "\n",
       "   IllMP.ref_alnScore_mean  IllMP.ref_alnScore_std  IllMP.ref_count  \\\n",
       "0               418.750000               63.408234             24.0   \n",
       "1               418.764706               63.896543             17.0   \n",
       "2               421.454545               66.396007             22.0   \n",
       "\n",
       "   IllMP.ref_insertSize_mean  IllMP.ref_insertSize_std  \\\n",
       "0                6629.333333                928.603551   \n",
       "1                7069.176471                952.851216   \n",
       "2                6880.363636                750.663194   \n",
       "\n",
       "   IllMP.ref_reason_alignmentScore  IllMP.ref_reason_insertSizeScore  \\\n",
       "0                             24.0                               0.0   \n",
       "1                             17.0                               0.0   \n",
       "2                             22.0                               0.0   \n",
       "\n",
       "   IllMP.ref_reason_orientation  \n",
       "0                           0.0  \n",
       "1                           0.0  \n",
       "2                           0.0  \n",
       "\n",
       "[3 rows x 42 columns]"
      ]
     },
     "execution_count": 15,
     "metadata": {},
     "output_type": "execute_result"
    }
   ],
   "source": [
    "# Store training data in a new variable which will be converted to a matrix\n",
    "X = df_train\n",
    "X.head(3)"
   ]
  },
  {
   "cell_type": "code",
   "execution_count": 16,
   "metadata": {},
   "outputs": [
    {
     "name": "stdout",
     "output_type": "stream",
     "text": [
      "Imputing row 1/600 with 0 missing, elapsed time: 0.164\n",
      "Imputing row 101/600 with 0 missing, elapsed time: 0.165\n",
      "Imputing row 201/600 with 0 missing, elapsed time: 0.166\n",
      "Imputing row 301/600 with 0 missing, elapsed time: 0.167\n",
      "Imputing row 401/600 with 0 missing, elapsed time: 0.168\n",
      "Imputing row 501/600 with 0 missing, elapsed time: 0.169\n"
     ]
    }
   ],
   "source": [
    "# Convert dataframe to matrix\n",
    "X=X.as_matrix()\n",
    "\n",
    "#Imput missing values from three closest observations\n",
    "X_imputed=KNN(k=3).complete(X)\n",
    "X=pd.DataFrame(X_imputed)"
   ]
  },
  {
   "cell_type": "code",
   "execution_count": 17,
   "metadata": {},
   "outputs": [
    {
     "data": {
      "text/html": [
       "<div>\n",
       "<table border=\"1\" class=\"dataframe\">\n",
       "  <thead>\n",
       "    <tr style=\"text-align: right;\">\n",
       "      <th></th>\n",
       "      <th>chrom</th>\n",
       "      <th>start</th>\n",
       "      <th>end</th>\n",
       "      <th>Size</th>\n",
       "      <th>refN_cnt</th>\n",
       "      <th>refN_pct</th>\n",
       "      <th>segdup_cnt</th>\n",
       "      <th>segdup_pct</th>\n",
       "      <th>tandemrep_cnt</th>\n",
       "      <th>tandemrep_pct</th>\n",
       "      <th>...</th>\n",
       "      <th>IllMP.amb_reason_orientation_orientation</th>\n",
       "      <th>IllMP.amb_reason_same_scores</th>\n",
       "      <th>IllMP.ref_alnScore_mean</th>\n",
       "      <th>IllMP.ref_alnScore_std</th>\n",
       "      <th>IllMP.ref_count</th>\n",
       "      <th>IllMP.ref_insertSize_mean</th>\n",
       "      <th>IllMP.ref_insertSize_std</th>\n",
       "      <th>IllMP.ref_reason_alignmentScore</th>\n",
       "      <th>IllMP.ref_reason_insertSizeScore</th>\n",
       "      <th>IllMP.ref_reason_orientation</th>\n",
       "    </tr>\n",
       "  </thead>\n",
       "  <tbody>\n",
       "    <tr>\n",
       "      <th>0</th>\n",
       "      <td>1.0</td>\n",
       "      <td>65326531.0</td>\n",
       "      <td>65326651.0</td>\n",
       "      <td>-120.0</td>\n",
       "      <td>0.0</td>\n",
       "      <td>0.0</td>\n",
       "      <td>0.0</td>\n",
       "      <td>0.0</td>\n",
       "      <td>1.0</td>\n",
       "      <td>1.0</td>\n",
       "      <td>...</td>\n",
       "      <td>35.0</td>\n",
       "      <td>336.0</td>\n",
       "      <td>418.750000</td>\n",
       "      <td>63.408234</td>\n",
       "      <td>24.0</td>\n",
       "      <td>6629.333333</td>\n",
       "      <td>928.603551</td>\n",
       "      <td>24.0</td>\n",
       "      <td>0.0</td>\n",
       "      <td>0.0</td>\n",
       "    </tr>\n",
       "    <tr>\n",
       "      <th>1</th>\n",
       "      <td>1.0</td>\n",
       "      <td>83753489.0</td>\n",
       "      <td>83753698.0</td>\n",
       "      <td>-209.0</td>\n",
       "      <td>0.0</td>\n",
       "      <td>0.0</td>\n",
       "      <td>1.0</td>\n",
       "      <td>1.0</td>\n",
       "      <td>1.0</td>\n",
       "      <td>1.0</td>\n",
       "      <td>...</td>\n",
       "      <td>13.0</td>\n",
       "      <td>242.0</td>\n",
       "      <td>418.764706</td>\n",
       "      <td>63.896543</td>\n",
       "      <td>17.0</td>\n",
       "      <td>7069.176471</td>\n",
       "      <td>952.851216</td>\n",
       "      <td>17.0</td>\n",
       "      <td>0.0</td>\n",
       "      <td>0.0</td>\n",
       "    </tr>\n",
       "    <tr>\n",
       "      <th>2</th>\n",
       "      <td>1.0</td>\n",
       "      <td>152326749.0</td>\n",
       "      <td>152326980.0</td>\n",
       "      <td>-231.0</td>\n",
       "      <td>0.0</td>\n",
       "      <td>0.0</td>\n",
       "      <td>1.0</td>\n",
       "      <td>1.0</td>\n",
       "      <td>0.0</td>\n",
       "      <td>0.0</td>\n",
       "      <td>...</td>\n",
       "      <td>33.0</td>\n",
       "      <td>273.0</td>\n",
       "      <td>421.454545</td>\n",
       "      <td>66.396007</td>\n",
       "      <td>22.0</td>\n",
       "      <td>6880.363636</td>\n",
       "      <td>750.663194</td>\n",
       "      <td>22.0</td>\n",
       "      <td>0.0</td>\n",
       "      <td>0.0</td>\n",
       "    </tr>\n",
       "  </tbody>\n",
       "</table>\n",
       "<p>3 rows × 42 columns</p>\n",
       "</div>"
      ],
      "text/plain": [
       "   chrom        start          end   Size  refN_cnt  refN_pct  segdup_cnt  \\\n",
       "0    1.0   65326531.0   65326651.0 -120.0       0.0       0.0         0.0   \n",
       "1    1.0   83753489.0   83753698.0 -209.0       0.0       0.0         1.0   \n",
       "2    1.0  152326749.0  152326980.0 -231.0       0.0       0.0         1.0   \n",
       "\n",
       "   segdup_pct  tandemrep_cnt  tandemrep_pct              ...               \\\n",
       "0         0.0            1.0            1.0              ...                \n",
       "1         1.0            1.0            1.0              ...                \n",
       "2         1.0            0.0            0.0              ...                \n",
       "\n",
       "   IllMP.amb_reason_orientation_orientation  IllMP.amb_reason_same_scores  \\\n",
       "0                                      35.0                         336.0   \n",
       "1                                      13.0                         242.0   \n",
       "2                                      33.0                         273.0   \n",
       "\n",
       "   IllMP.ref_alnScore_mean  IllMP.ref_alnScore_std  IllMP.ref_count  \\\n",
       "0               418.750000               63.408234             24.0   \n",
       "1               418.764706               63.896543             17.0   \n",
       "2               421.454545               66.396007             22.0   \n",
       "\n",
       "   IllMP.ref_insertSize_mean  IllMP.ref_insertSize_std  \\\n",
       "0                6629.333333                928.603551   \n",
       "1                7069.176471                952.851216   \n",
       "2                6880.363636                750.663194   \n",
       "\n",
       "   IllMP.ref_reason_alignmentScore  IllMP.ref_reason_insertSizeScore  \\\n",
       "0                             24.0                               0.0   \n",
       "1                             17.0                               0.0   \n",
       "2                             22.0                               0.0   \n",
       "\n",
       "   IllMP.ref_reason_orientation  \n",
       "0                           0.0  \n",
       "1                           0.0  \n",
       "2                           0.0  \n",
       "\n",
       "[3 rows x 42 columns]"
      ]
     },
     "execution_count": 17,
     "metadata": {},
     "output_type": "execute_result"
    }
   ],
   "source": [
    "# Store header values in a list, will be used later to re-label the matrix post KNN imputation\n",
    "dftrain_header = list(df_train.columns.values)\n",
    "X.columns = dftrain_header\n",
    "X.head(3)"
   ]
  },
  {
   "cell_type": "code",
   "execution_count": 18,
   "metadata": {
    "collapsed": true
   },
   "outputs": [],
   "source": [
    "# Store Labels in a new 'Y' DataFrame\n",
    "Y = pd.DataFrame()\n",
    "Y = X['GTcons']"
   ]
  },
  {
   "cell_type": "code",
   "execution_count": 19,
   "metadata": {},
   "outputs": [
    {
     "data": {
      "text/plain": [
       "0.0    200\n",
       "1.0    200\n",
       "2.0    200\n",
       "dtype: int64"
      ]
     },
     "execution_count": 19,
     "metadata": {},
     "output_type": "execute_result"
    }
   ],
   "source": [
    "#Count the number of labels\n",
    "pd.value_counts(Y.values, sort=False)"
   ]
  },
  {
   "cell_type": "code",
   "execution_count": 20,
   "metadata": {
    "collapsed": true
   },
   "outputs": [],
   "source": [
    "# Note: originally selected 1000 of each label --> find out why some are lost"
   ]
  },
  {
   "cell_type": "code",
   "execution_count": 21,
   "metadata": {
    "collapsed": true
   },
   "outputs": [],
   "source": [
    "# Remove labels from feature set\n",
    "X.drop(['GTcons'],axis=1, inplace = True)"
   ]
  },
  {
   "cell_type": "code",
   "execution_count": 22,
   "metadata": {
    "collapsed": true
   },
   "outputs": [],
   "source": [
    "# Order features\n",
    "X4 = X.reindex_axis(sorted(X.columns), axis=1)"
   ]
  },
  {
   "cell_type": "markdown",
   "metadata": {},
   "source": [
    "***\n",
    "Machine Learning\n",
    "***"
   ]
  },
  {
   "cell_type": "markdown",
   "metadata": {},
   "source": [
    "<a id='machine_learning'></a>"
   ]
  },
  {
   "cell_type": "markdown",
   "metadata": {},
   "source": [
    "Description:\n",
    "\n",
    "   * In the following section a random forest model will be trained on svanalyzer data.\n",
    "\n",
    "       * The model was trained using [train/test split](http://scikit-learn.org/0.16/modules/generated/sklearn.cross_validation.train_test_split.html) where 70% of the data was used to train the model and the model performance was determined by predicting labels for the remaining 30% of the data. The trained model will be used in a [later section](#predict) to predict the consensus GT for 5000 randomly selected deletions [these deletions were randomly selected from [union_170509_refalt.sort.vcf](ftp://ftp-trace.ncbi.nlm.nih.gov/giab/ftp/data/AshkenazimTrio/analysis/NIST_UnionSVs_05092017/)]\n",
    "       * In the following section, svanalyzer data was used to train a random forest (RF) model. The features for the svanalyzer dataset include: svviz features, GA4GH features [RefN, Segmental Duplications, Tandem Repeat], preliminary R script analysis [consensus GT, GTsup].\n",
    "       * The RF classifier will predict the consensus GT labels:\n",
    "           * Homozygous Reference (0)\n",
    "           * Heterozygous Variant (1)\n",
    "           * Homozygous Variant (2)\n",
    "       \n",
    "       * In the [following section](#prediction_step), the trained RF model will be used to predict labels for genotype labels for 5000 randomly selected deletions [these deletions were randomly selected from [union_170509_refalt.sort.vcf](ftp://ftp-trace.ncbi.nlm.nih.gov/giab/ftp/data/AshkenazimTrio/analysis/NIST_UnionSVs_05092017/)]. "
   ]
  },
  {
   "cell_type": "markdown",
   "metadata": {},
   "source": [
    "** Train Random Forest Classifier **"
   ]
  },
  {
   "cell_type": "markdown",
   "metadata": {},
   "source": [
    "<a id='train_test'></a>"
   ]
  },
  {
   "cell_type": "code",
   "execution_count": 23,
   "metadata": {
    "collapsed": true
   },
   "outputs": [],
   "source": [
    "# Train Test Split\n",
    "# Train on 70% of the data and test on 30%\n",
    "X_train, X_test, y_train, y_test = train_test_split(X4, Y, test_size=0.3, random_state=0)"
   ]
  },
  {
   "cell_type": "code",
   "execution_count": 24,
   "metadata": {
    "scrolled": false
   },
   "outputs": [
    {
     "data": {
      "text/plain": [
       "RandomForestClassifier(bootstrap=True, class_weight=None, criterion='gini',\n",
       "            max_depth=None, max_features='auto', max_leaf_nodes=None,\n",
       "            min_impurity_split=1e-07, min_samples_leaf=1,\n",
       "            min_samples_split=2, min_weight_fraction_leaf=0.0,\n",
       "            n_estimators=10, n_jobs=1, oob_score=False, random_state=None,\n",
       "            verbose=0, warm_start=False)"
      ]
     },
     "execution_count": 24,
     "metadata": {},
     "output_type": "execute_result"
    }
   ],
   "source": [
    "# %%timeit\n",
    "# Train Random Forest Classifier\n",
    "model = RandomForestClassifier() \n",
    "model.fit(X_train, y_train)"
   ]
  },
  {
   "cell_type": "markdown",
   "metadata": {},
   "source": [
    "** GridSearchCV: Find Optimal Model Parameters **"
   ]
  },
  {
   "cell_type": "code",
   "execution_count": 25,
   "metadata": {
    "collapsed": true
   },
   "outputs": [],
   "source": [
    "n = [10, 25, 50, 100, 200, 300, 500, 1000]\n",
    "param_grid = {'n_estimators': [10, 25, 50, 100, 200, 300, 500, 1000]}\n",
    "grid = GridSearchCV(model, param_grid, scoring = 'accuracy')"
   ]
  },
  {
   "cell_type": "code",
   "execution_count": 26,
   "metadata": {},
   "outputs": [
    {
     "data": {
      "text/plain": [
       "GridSearchCV(cv=None, error_score='raise',\n",
       "       estimator=RandomForestClassifier(bootstrap=True, class_weight=None, criterion='gini',\n",
       "            max_depth=None, max_features='auto', max_leaf_nodes=None,\n",
       "            min_impurity_split=1e-07, min_samples_leaf=1,\n",
       "            min_samples_split=2, min_weight_fraction_leaf=0.0,\n",
       "            n_estimators=10, n_jobs=1, oob_score=False, random_state=None,\n",
       "            verbose=0, warm_start=False),\n",
       "       fit_params={}, iid=True, n_jobs=1,\n",
       "       param_grid={'n_estimators': [10, 25, 50, 100, 200, 300, 500, 1000]},\n",
       "       pre_dispatch='2*n_jobs', refit=True, scoring='accuracy', verbose=0)"
      ]
     },
     "execution_count": 26,
     "metadata": {},
     "output_type": "execute_result"
    }
   ],
   "source": [
    "grid.fit(X4, Y)"
   ]
  },
  {
   "cell_type": "markdown",
   "metadata": {},
   "source": [
    "<a id='optimal_trees'></a>"
   ]
  },
  {
   "cell_type": "code",
   "execution_count": 27,
   "metadata": {},
   "outputs": [
    {
     "data": {
      "text/plain": [
       "[mean: 0.78500, std: 0.10408, params: {'n_estimators': 10},\n",
       " mean: 0.82333, std: 0.08993, params: {'n_estimators': 25},\n",
       " mean: 0.81667, std: 0.09283, params: {'n_estimators': 50},\n",
       " mean: 0.82333, std: 0.09051, params: {'n_estimators': 100},\n",
       " mean: 0.82333, std: 0.10057, params: {'n_estimators': 200},\n",
       " mean: 0.82667, std: 0.09588, params: {'n_estimators': 300},\n",
       " mean: 0.82167, std: 0.10637, params: {'n_estimators': 500},\n",
       " mean: 0.82667, std: 0.09934, params: {'n_estimators': 1000}]"
      ]
     },
     "execution_count": 27,
     "metadata": {},
     "output_type": "execute_result"
    }
   ],
   "source": [
    "grid.grid_scores_"
   ]
  },
  {
   "cell_type": "code",
   "execution_count": 28,
   "metadata": {},
   "outputs": [
    {
     "data": {
      "image/png": "[encoded data removed]",
      "text/plain": [
       "<matplotlib.figure.Figure at 0x116d60a20>"
      ]
     },
     "metadata": {},
     "output_type": "display_data"
    }
   ],
   "source": [
    "n = [10, 25, 50, 100, 200, 300, 500, 1000]\n",
    "grid_mean_scores = [result.mean_validation_score for result in grid.grid_scores_]\n",
    "plt.plot(n, grid_mean_scores)\n",
    "plt.xlabel('Number of Trees')\n",
    "plt.ylabel('Model Accuracy')\n",
    "plt.show()"
   ]
  },
  {
   "cell_type": "code",
   "execution_count": 29,
   "metadata": {},
   "outputs": [
    {
     "name": "stdout",
     "output_type": "stream",
     "text": [
      "0.8266666666666667\n",
      "{'n_estimators': 300}\n",
      "RandomForestClassifier(bootstrap=True, class_weight=None, criterion='gini',\n",
      "            max_depth=None, max_features='auto', max_leaf_nodes=None,\n",
      "            min_impurity_split=1e-07, min_samples_leaf=1,\n",
      "            min_samples_split=2, min_weight_fraction_leaf=0.0,\n",
      "            n_estimators=300, n_jobs=1, oob_score=False, random_state=None,\n",
      "            verbose=0, warm_start=False)\n"
     ]
    }
   ],
   "source": [
    "print (grid.best_score_)\n",
    "print (grid.best_params_)\n",
    "print (grid.best_estimator_)"
   ]
  },
  {
   "cell_type": "markdown",
   "metadata": {},
   "source": [
    "** Train Model Using Optimal Parameters**"
   ]
  },
  {
   "cell_type": "code",
   "execution_count": 30,
   "metadata": {},
   "outputs": [
    {
     "data": {
      "text/plain": [
       "RandomForestClassifier(bootstrap=True, class_weight=None, criterion='gini',\n",
       "            max_depth=None, max_features='auto', max_leaf_nodes=None,\n",
       "            min_impurity_split=1e-07, min_samples_leaf=1,\n",
       "            min_samples_split=2, min_weight_fraction_leaf=0.0,\n",
       "            n_estimators=300, n_jobs=1, oob_score=False, random_state=None,\n",
       "            verbose=0, warm_start=False)"
      ]
     },
     "execution_count": 30,
     "metadata": {},
     "output_type": "execute_result"
    }
   ],
   "source": [
    "model = RandomForestClassifier(n_estimators=300) \n",
    "model.fit(X_train, y_train)"
   ]
  },
  {
   "cell_type": "code",
   "execution_count": null,
   "metadata": {
    "collapsed": true
   },
   "outputs": [],
   "source": [
    "# # Feature Importance\n",
    "# importances = model.feature_importances_\n",
    "# indices = np.argsort(importances)[::-1]\n",
    "# print(\"Feature ranking:\")\n",
    "\n",
    "# for f in range(X_test.shape[1]):\n",
    "#     print(\"%d. feature %d (%f)\" % (f + 1, indices[f], importances[indices[f]]))"
   ]
  },
  {
   "cell_type": "markdown",
   "metadata": {},
   "source": [
    "[Another Resource](https://stackoverflow.com/questions/37877542/how-to-label-the-feature-importance-with-forests-of-trees)"
   ]
  },
  {
   "cell_type": "markdown",
   "metadata": {},
   "source": [
    "<a id='feature_importance'></a>"
   ]
  },
  {
   "cell_type": "code",
   "execution_count": 31,
   "metadata": {},
   "outputs": [
    {
     "name": "stderr",
     "output_type": "stream",
     "text": [
      "/Users/lmc2/anaconda/envs/NIHFAES/lib/python3.5/site-packages/ipykernel/__main__.py:3: FutureWarning:\n",
      "\n",
      "sort is deprecated, use sort_values(inplace=True) for INPLACE sorting\n",
      "\n"
     ]
    },
    {
     "data": {
      "text/plain": [
       "<matplotlib.axes._subplots.AxesSubplot at 0x1169375f8>"
      ]
     },
     "execution_count": 31,
     "metadata": {},
     "output_type": "execute_result"
    },
    {
     "data": {
      "image/png": "[encoded data removed]",
      "text/plain": [
       "<matplotlib.figure.Figure at 0x116937e10>"
      ]
     },
     "metadata": {},
     "output_type": "display_data"
    }
   ],
   "source": [
    "%matplotlib inline\n",
    "feature_importances = pd.Series(model.feature_importances_, index=X_test.columns)\n",
    "feature_importances.sort()\n",
    "feature_importances.plot(kind=\"barh\", figsize=(7,6))"
   ]
  },
  {
   "cell_type": "code",
   "execution_count": 32,
   "metadata": {
    "collapsed": true
   },
   "outputs": [],
   "source": [
    "#TODO: Try training the model with the most important features and note difference in overal model prediction score"
   ]
  },
  {
   "cell_type": "code",
   "execution_count": 33,
   "metadata": {},
   "outputs": [
    {
     "data": {
      "text/plain": [
       "1.0    139\n",
       "2.0    136\n",
       "0.0    145\n",
       "dtype: int64"
      ]
     },
     "execution_count": 33,
     "metadata": {},
     "output_type": "execute_result"
    }
   ],
   "source": [
    "#NOTE: Training Set - Show number of Hom Ref, Hom Var, Het Var datapoints the model was trained on\n",
    "ytrain = pd.DataFrame()\n",
    "ytrain['ytrain'] = y_train\n",
    "pd.value_counts(ytrain['ytrain'].values, sort=False)"
   ]
  },
  {
   "cell_type": "markdown",
   "metadata": {},
   "source": [
    "<a id='prediction_step'></a>"
   ]
  },
  {
   "cell_type": "code",
   "execution_count": 34,
   "metadata": {
    "collapsed": true
   },
   "outputs": [],
   "source": [
    "pred = model.predict(X_test)"
   ]
  },
  {
   "cell_type": "markdown",
   "metadata": {},
   "source": [
    "<a id='traintest_precision'></a>"
   ]
  },
  {
   "cell_type": "code",
   "execution_count": 35,
   "metadata": {},
   "outputs": [
    {
     "name": "stdout",
     "output_type": "stream",
     "text": [
      "Precision score of the training subset: 0.883\n"
     ]
    }
   ],
   "source": [
    "print('Precision score of the training subset: {:.3f}'.format(precision_score(pred, y_test, average='micro'))) "
   ]
  },
  {
   "cell_type": "code",
   "execution_count": 36,
   "metadata": {},
   "outputs": [
    {
     "data": {
      "text/html": [
       "<div>\n",
       "<table border=\"1\" class=\"dataframe\">\n",
       "  <thead>\n",
       "    <tr style=\"text-align: right;\">\n",
       "      <th></th>\n",
       "      <th>IllMP.GT</th>\n",
       "      <th>IllMP.alt_alnScore_mean</th>\n",
       "      <th>IllMP.alt_alnScore_std</th>\n",
       "      <th>IllMP.alt_count</th>\n",
       "      <th>IllMP.alt_insertSize_mean</th>\n",
       "      <th>IllMP.alt_insertSize_std</th>\n",
       "      <th>IllMP.alt_reason_alignmentScore</th>\n",
       "      <th>IllMP.alt_reason_insertSizeScore</th>\n",
       "      <th>IllMP.alt_reason_orientation</th>\n",
       "      <th>IllMP.amb_alnScore_mean</th>\n",
       "      <th>...</th>\n",
       "      <th>Size</th>\n",
       "      <th>chrom</th>\n",
       "      <th>end</th>\n",
       "      <th>refN_cnt</th>\n",
       "      <th>refN_pct</th>\n",
       "      <th>segdup_cnt</th>\n",
       "      <th>segdup_pct</th>\n",
       "      <th>start</th>\n",
       "      <th>tandemrep_cnt</th>\n",
       "      <th>tandemrep_pct</th>\n",
       "    </tr>\n",
       "  </thead>\n",
       "  <tbody>\n",
       "    <tr>\n",
       "      <th>434</th>\n",
       "      <td>-1.0</td>\n",
       "      <td>340.333333</td>\n",
       "      <td>36.160138</td>\n",
       "      <td>3.0</td>\n",
       "      <td>6190.000000</td>\n",
       "      <td>199.514410</td>\n",
       "      <td>3.0</td>\n",
       "      <td>0.0</td>\n",
       "      <td>0.0</td>\n",
       "      <td>357.834262</td>\n",
       "      <td>...</td>\n",
       "      <td>-36.0</td>\n",
       "      <td>11.0</td>\n",
       "      <td>67518800.0</td>\n",
       "      <td>0.0</td>\n",
       "      <td>0.0</td>\n",
       "      <td>1.0</td>\n",
       "      <td>1.0</td>\n",
       "      <td>67518763.0</td>\n",
       "      <td>1.0</td>\n",
       "      <td>1.000000</td>\n",
       "    </tr>\n",
       "    <tr>\n",
       "      <th>122</th>\n",
       "      <td>-1.0</td>\n",
       "      <td>0.000000</td>\n",
       "      <td>0.000000</td>\n",
       "      <td>0.0</td>\n",
       "      <td>0.000000</td>\n",
       "      <td>0.000000</td>\n",
       "      <td>0.0</td>\n",
       "      <td>0.0</td>\n",
       "      <td>0.0</td>\n",
       "      <td>362.062248</td>\n",
       "      <td>...</td>\n",
       "      <td>-94.0</td>\n",
       "      <td>10.0</td>\n",
       "      <td>88840783.0</td>\n",
       "      <td>0.0</td>\n",
       "      <td>0.0</td>\n",
       "      <td>0.0</td>\n",
       "      <td>0.0</td>\n",
       "      <td>88840689.0</td>\n",
       "      <td>1.0</td>\n",
       "      <td>1.000000</td>\n",
       "    </tr>\n",
       "    <tr>\n",
       "      <th>224</th>\n",
       "      <td>-1.0</td>\n",
       "      <td>429.250000</td>\n",
       "      <td>45.212692</td>\n",
       "      <td>4.0</td>\n",
       "      <td>6745.500000</td>\n",
       "      <td>352.179287</td>\n",
       "      <td>4.0</td>\n",
       "      <td>0.0</td>\n",
       "      <td>0.0</td>\n",
       "      <td>355.472159</td>\n",
       "      <td>...</td>\n",
       "      <td>-26.0</td>\n",
       "      <td>1.0</td>\n",
       "      <td>165220279.0</td>\n",
       "      <td>0.0</td>\n",
       "      <td>0.0</td>\n",
       "      <td>0.0</td>\n",
       "      <td>0.0</td>\n",
       "      <td>165220252.0</td>\n",
       "      <td>0.0</td>\n",
       "      <td>0.000000</td>\n",
       "    </tr>\n",
       "    <tr>\n",
       "      <th>479</th>\n",
       "      <td>-1.0</td>\n",
       "      <td>418.500000</td>\n",
       "      <td>80.095256</td>\n",
       "      <td>4.0</td>\n",
       "      <td>7077.250000</td>\n",
       "      <td>1248.984262</td>\n",
       "      <td>4.0</td>\n",
       "      <td>0.0</td>\n",
       "      <td>0.0</td>\n",
       "      <td>353.497413</td>\n",
       "      <td>...</td>\n",
       "      <td>-27.0</td>\n",
       "      <td>19.0</td>\n",
       "      <td>51460422.0</td>\n",
       "      <td>0.0</td>\n",
       "      <td>0.0</td>\n",
       "      <td>0.0</td>\n",
       "      <td>0.0</td>\n",
       "      <td>51460394.0</td>\n",
       "      <td>1.0</td>\n",
       "      <td>1.000000</td>\n",
       "    </tr>\n",
       "    <tr>\n",
       "      <th>205</th>\n",
       "      <td>-1.0</td>\n",
       "      <td>472.666667</td>\n",
       "      <td>30.868898</td>\n",
       "      <td>9.0</td>\n",
       "      <td>5309.555556</td>\n",
       "      <td>1753.311477</td>\n",
       "      <td>9.0</td>\n",
       "      <td>0.0</td>\n",
       "      <td>0.0</td>\n",
       "      <td>357.249671</td>\n",
       "      <td>...</td>\n",
       "      <td>-27.0</td>\n",
       "      <td>1.0</td>\n",
       "      <td>5928819.0</td>\n",
       "      <td>0.0</td>\n",
       "      <td>0.0</td>\n",
       "      <td>0.0</td>\n",
       "      <td>0.0</td>\n",
       "      <td>5928792.0</td>\n",
       "      <td>1.0</td>\n",
       "      <td>0.518519</td>\n",
       "    </tr>\n",
       "  </tbody>\n",
       "</table>\n",
       "<p>5 rows × 41 columns</p>\n",
       "</div>"
      ],
      "text/plain": [
       "     IllMP.GT  IllMP.alt_alnScore_mean  IllMP.alt_alnScore_std  \\\n",
       "434      -1.0               340.333333               36.160138   \n",
       "122      -1.0                 0.000000                0.000000   \n",
       "224      -1.0               429.250000               45.212692   \n",
       "479      -1.0               418.500000               80.095256   \n",
       "205      -1.0               472.666667               30.868898   \n",
       "\n",
       "     IllMP.alt_count  IllMP.alt_insertSize_mean  IllMP.alt_insertSize_std  \\\n",
       "434              3.0                6190.000000                199.514410   \n",
       "122              0.0                   0.000000                  0.000000   \n",
       "224              4.0                6745.500000                352.179287   \n",
       "479              4.0                7077.250000               1248.984262   \n",
       "205              9.0                5309.555556               1753.311477   \n",
       "\n",
       "     IllMP.alt_reason_alignmentScore  IllMP.alt_reason_insertSizeScore  \\\n",
       "434                              3.0                               0.0   \n",
       "122                              0.0                               0.0   \n",
       "224                              4.0                               0.0   \n",
       "479                              4.0                               0.0   \n",
       "205                              9.0                               0.0   \n",
       "\n",
       "     IllMP.alt_reason_orientation  IllMP.amb_alnScore_mean      ...        \\\n",
       "434                           0.0               357.834262      ...         \n",
       "122                           0.0               362.062248      ...         \n",
       "224                           0.0               355.472159      ...         \n",
       "479                           0.0               353.497413      ...         \n",
       "205                           0.0               357.249671      ...         \n",
       "\n",
       "     Size  chrom          end  refN_cnt  refN_pct  segdup_cnt  segdup_pct  \\\n",
       "434 -36.0   11.0   67518800.0       0.0       0.0         1.0         1.0   \n",
       "122 -94.0   10.0   88840783.0       0.0       0.0         0.0         0.0   \n",
       "224 -26.0    1.0  165220279.0       0.0       0.0         0.0         0.0   \n",
       "479 -27.0   19.0   51460422.0       0.0       0.0         0.0         0.0   \n",
       "205 -27.0    1.0    5928819.0       0.0       0.0         0.0         0.0   \n",
       "\n",
       "           start  tandemrep_cnt  tandemrep_pct  \n",
       "434   67518763.0            1.0       1.000000  \n",
       "122   88840689.0            1.0       1.000000  \n",
       "224  165220252.0            0.0       0.000000  \n",
       "479   51460394.0            1.0       1.000000  \n",
       "205    5928792.0            1.0       0.518519  \n",
       "\n",
       "[5 rows x 41 columns]"
      ]
     },
     "execution_count": 36,
     "metadata": {},
     "output_type": "execute_result"
    }
   ],
   "source": [
    "# Add original labels and predicted labels back to the original dataframe\n",
    "df_Xtest = pd.DataFrame(X_test)\n",
    "df_Xtest.head()"
   ]
  },
  {
   "cell_type": "code",
   "execution_count": 37,
   "metadata": {
    "collapsed": true
   },
   "outputs": [],
   "source": [
    "labels = pd.DataFrame(y_test)"
   ]
  },
  {
   "cell_type": "code",
   "execution_count": 38,
   "metadata": {
    "collapsed": true
   },
   "outputs": [],
   "source": [
    "df_Xtest['predicted_label'] = pred\n",
    "df_Xtest['GTcons'] = df_train['GTcons']\n",
    "df_Xtest['chrom'] = df_train['chrom']\n",
    "df_Xtest['start'] = df_train['start']\n",
    "df_Xtest['end'] = df_train['end']\n",
    "# df_Xtest['Y_test'] = labels"
   ]
  },
  {
   "cell_type": "code",
   "execution_count": 39,
   "metadata": {
    "collapsed": true
   },
   "outputs": [],
   "source": [
    "df_Xtest['GTcons'].replace(0.0, 'Homozygous_Reference', inplace=True)\n",
    "df_Xtest['GTcons'].replace(1.0, 'Heterozygous_Variant', inplace=True)\n",
    "df_Xtest['GTcons'].replace(2.0, 'Homozygous_Variant', inplace=True)\n",
    "df_Xtest['predicted_label'].replace(0.0, 'Homozygous_Reference', inplace=True)\n",
    "df_Xtest['predicted_label'].replace(1.0, 'Heterozygous_Variant', inplace=True)\n",
    "df_Xtest['predicted_label'].replace(2.0, 'Homozygous_Variant', inplace=True)"
   ]
  },
  {
   "cell_type": "code",
   "execution_count": 40,
   "metadata": {},
   "outputs": [
    {
     "data": {
      "text/plain": [
       "Heterozygous_Variant    61\n",
       "Homozygous_Reference    55\n",
       "Homozygous_Variant      64\n",
       "dtype: int64"
      ]
     },
     "execution_count": 40,
     "metadata": {},
     "output_type": "execute_result"
    }
   ],
   "source": [
    "pd.value_counts(df_Xtest['GTcons'].values, sort=False)"
   ]
  },
  {
   "cell_type": "code",
   "execution_count": 41,
   "metadata": {},
   "outputs": [
    {
     "data": {
      "text/plain": [
       "Heterozygous_Variant    54\n",
       "Homozygous_Reference    60\n",
       "Homozygous_Variant      66\n",
       "dtype: int64"
      ]
     },
     "execution_count": 41,
     "metadata": {},
     "output_type": "execute_result"
    }
   ],
   "source": [
    "pd.value_counts(df_Xtest['predicted_label'].values, sort=False)"
   ]
  },
  {
   "cell_type": "code",
   "execution_count": 42,
   "metadata": {},
   "outputs": [
    {
     "name": "stdout",
     "output_type": "stream",
     "text": [
      "[[48  5  8]\n",
      " [ 2 53  0]\n",
      " [ 4  2 58]]\n"
     ]
    }
   ],
   "source": [
    "from sklearn.metrics import confusion_matrix\n",
    "ytest = df_Xtest['GTcons']\n",
    "predict = df_Xtest['predicted_label']\n",
    "print(confusion_matrix(ytest, predict))"
   ]
  },
  {
   "cell_type": "markdown",
   "metadata": {},
   "source": [
    "<a id='traintest_confusion_matrix'></a>"
   ]
  },
  {
   "cell_type": "code",
   "execution_count": 43,
   "metadata": {},
   "outputs": [
    {
     "data": {
      "text/html": [
       "<div>\n",
       "<table border=\"1\" class=\"dataframe\">\n",
       "  <thead>\n",
       "    <tr style=\"text-align: right;\">\n",
       "      <th>Predicted</th>\n",
       "      <th>Heterozygous_Variant</th>\n",
       "      <th>Homozygous_Reference</th>\n",
       "      <th>Homozygous_Variant</th>\n",
       "      <th>All</th>\n",
       "    </tr>\n",
       "    <tr>\n",
       "      <th>True</th>\n",
       "      <th></th>\n",
       "      <th></th>\n",
       "      <th></th>\n",
       "      <th></th>\n",
       "    </tr>\n",
       "  </thead>\n",
       "  <tbody>\n",
       "    <tr>\n",
       "      <th>Heterozygous_Variant</th>\n",
       "      <td>48</td>\n",
       "      <td>5</td>\n",
       "      <td>8</td>\n",
       "      <td>61</td>\n",
       "    </tr>\n",
       "    <tr>\n",
       "      <th>Homozygous_Reference</th>\n",
       "      <td>2</td>\n",
       "      <td>53</td>\n",
       "      <td>0</td>\n",
       "      <td>55</td>\n",
       "    </tr>\n",
       "    <tr>\n",
       "      <th>Homozygous_Variant</th>\n",
       "      <td>4</td>\n",
       "      <td>2</td>\n",
       "      <td>58</td>\n",
       "      <td>64</td>\n",
       "    </tr>\n",
       "    <tr>\n",
       "      <th>All</th>\n",
       "      <td>54</td>\n",
       "      <td>60</td>\n",
       "      <td>66</td>\n",
       "      <td>180</td>\n",
       "    </tr>\n",
       "  </tbody>\n",
       "</table>\n",
       "</div>"
      ],
      "text/plain": [
       "Predicted             Heterozygous_Variant  Homozygous_Reference  \\\n",
       "True                                                               \n",
       "Heterozygous_Variant                    48                     5   \n",
       "Homozygous_Reference                     2                    53   \n",
       "Homozygous_Variant                       4                     2   \n",
       "All                                     54                    60   \n",
       "\n",
       "Predicted             Homozygous_Variant  All  \n",
       "True                                           \n",
       "Heterozygous_Variant                   8   61  \n",
       "Homozygous_Reference                   0   55  \n",
       "Homozygous_Variant                    58   64  \n",
       "All                                   66  180  "
      ]
     },
     "execution_count": 43,
     "metadata": {},
     "output_type": "execute_result"
    }
   ],
   "source": [
    "pd.crosstab(ytest, predict, rownames=['True'], colnames=['Predicted'], margins=True)"
   ]
  },
  {
   "cell_type": "code",
   "execution_count": 44,
   "metadata": {
    "scrolled": true
   },
   "outputs": [
    {
     "name": "stdout",
     "output_type": "stream",
     "text": [
      "                      precision    recall  f1-score   support\n",
      "\n",
      "Heterozygous_Variant       0.89      0.79      0.83        61\n",
      "Homozygous_Reference       0.88      0.96      0.92        55\n",
      "  Homozygous_Variant       0.88      0.91      0.89        64\n",
      "\n",
      "         avg / total       0.88      0.88      0.88       180\n",
      "\n"
     ]
    }
   ],
   "source": [
    "from sklearn.metrics import classification_report\n",
    "print(classification_report(ytest, predict))"
   ]
  },
  {
   "cell_type": "markdown",
   "metadata": {},
   "source": [
    "***\n",
    "Predict\n",
    "***"
   ]
  },
  {
   "cell_type": "markdown",
   "metadata": {},
   "source": [
    "<a id='predict'></a>"
   ]
  },
  {
   "cell_type": "markdown",
   "metadata": {},
   "source": [
    "Description:\n",
    "\n",
    "   * In the [previous section](#machine_learning), a RF model was trained on svanalyzer data.\n",
    "\n",
    "       * The model was trained using [train/test split](#train_test) where 70% of the data was used to train the model and the model performance was determined by predicting labels for the remaining 30% of the data\n",
    " * Reminder: The labels for this training set and the following [prediction step](#prediction_step) are the consensus genotype (GTcons) labels generated from a preliminary R analysis based on reference and alternate read count:\n",
    "           * Homozygous Reference (0)\n",
    "           * Heterozygous Variant (1)\n",
    "           * Homozygous Variant (2)\n",
    "           \n",
    "   * The trained model is used in the following section to predict labels for 5000 randomly selected Deletions [these datapoints were randomly selected from [union_170509_refalt.sort.vcf](ftp://ftp-trace.ncbi.nlm.nih.gov/giab/ftp/data/AshkenazimTrio/analysis/NIST_UnionSVs_05092017/)]\n",
    "   \n",
    "   "
   ]
  },
  {
   "cell_type": "markdown",
   "metadata": {},
   "source": [
    "** Load Data **"
   ]
  },
  {
   "cell_type": "code",
   "execution_count": 45,
   "metadata": {
    "collapsed": true
   },
   "outputs": [],
   "source": [
    "X2 = df_test"
   ]
  },
  {
   "cell_type": "markdown",
   "metadata": {},
   "source": [
    "** Impute missing values using KNN **"
   ]
  },
  {
   "cell_type": "code",
   "execution_count": 46,
   "metadata": {},
   "outputs": [
    {
     "name": "stdout",
     "output_type": "stream",
     "text": [
      "Imputing row 1/4030 with 1 missing, elapsed time: 6.669\n",
      "Imputing row 101/4030 with 1 missing, elapsed time: 6.678\n",
      "Imputing row 201/4030 with 1 missing, elapsed time: 6.686\n",
      "Imputing row 301/4030 with 1 missing, elapsed time: 6.694\n",
      "Imputing row 401/4030 with 1 missing, elapsed time: 6.701\n",
      "Imputing row 501/4030 with 1 missing, elapsed time: 6.708\n",
      "Imputing row 601/4030 with 1 missing, elapsed time: 6.719\n",
      "Imputing row 701/4030 with 1 missing, elapsed time: 6.726\n",
      "Imputing row 801/4030 with 1 missing, elapsed time: 6.737\n",
      "Imputing row 901/4030 with 1 missing, elapsed time: 6.745\n",
      "Imputing row 1001/4030 with 1 missing, elapsed time: 6.752\n",
      "Imputing row 1101/4030 with 1 missing, elapsed time: 6.758\n",
      "Imputing row 1201/4030 with 1 missing, elapsed time: 6.765\n",
      "Imputing row 1301/4030 with 1 missing, elapsed time: 6.771\n",
      "Imputing row 1401/4030 with 1 missing, elapsed time: 6.780\n",
      "Imputing row 1501/4030 with 1 missing, elapsed time: 6.787\n",
      "Imputing row 1601/4030 with 1 missing, elapsed time: 6.803\n",
      "Imputing row 1701/4030 with 1 missing, elapsed time: 6.810\n",
      "Imputing row 1801/4030 with 1 missing, elapsed time: 6.816\n",
      "Imputing row 1901/4030 with 1 missing, elapsed time: 6.823\n",
      "Imputing row 2001/4030 with 1 missing, elapsed time: 6.830\n",
      "Imputing row 2101/4030 with 1 missing, elapsed time: 6.836\n",
      "Imputing row 2201/4030 with 1 missing, elapsed time: 6.844\n",
      "Imputing row 2301/4030 with 1 missing, elapsed time: 6.852\n",
      "Imputing row 2401/4030 with 1 missing, elapsed time: 6.866\n",
      "Imputing row 2501/4030 with 0 missing, elapsed time: 6.868\n",
      "Imputing row 2601/4030 with 0 missing, elapsed time: 6.868\n",
      "Imputing row 2701/4030 with 0 missing, elapsed time: 6.869\n",
      "Imputing row 2801/4030 with 0 missing, elapsed time: 6.872\n",
      "Imputing row 2901/4030 with 0 missing, elapsed time: 6.873\n",
      "Imputing row 3001/4030 with 0 missing, elapsed time: 6.874\n",
      "Imputing row 3101/4030 with 0 missing, elapsed time: 6.875\n",
      "Imputing row 3201/4030 with 0 missing, elapsed time: 6.884\n",
      "Imputing row 3301/4030 with 1 missing, elapsed time: 6.891\n",
      "Imputing row 3401/4030 with 1 missing, elapsed time: 6.901\n",
      "Imputing row 3501/4030 with 1 missing, elapsed time: 6.907\n",
      "Imputing row 3601/4030 with 1 missing, elapsed time: 6.914\n",
      "Imputing row 3701/4030 with 1 missing, elapsed time: 6.921\n",
      "Imputing row 3801/4030 with 1 missing, elapsed time: 6.927\n",
      "Imputing row 3901/4030 with 1 missing, elapsed time: 6.934\n",
      "Imputing row 4001/4030 with 1 missing, elapsed time: 6.940\n"
     ]
    }
   ],
   "source": [
    "#Convert dataframe to matrix\n",
    "X2=X2.as_matrix()\n",
    "X2=pd.DataFrame(X2)\n",
    "\n",
    "# Imput missing values from three closest observations\n",
    "X2_imputed=KNN(k=3).complete(X2)\n",
    "X2=pd.DataFrame(X2_imputed)"
   ]
  },
  {
   "cell_type": "code",
   "execution_count": 47,
   "metadata": {},
   "outputs": [
    {
     "data": {
      "text/html": [
       "<div>\n",
       "<table border=\"1\" class=\"dataframe\">\n",
       "  <thead>\n",
       "    <tr style=\"text-align: right;\">\n",
       "      <th></th>\n",
       "      <th>chrom</th>\n",
       "      <th>start</th>\n",
       "      <th>end</th>\n",
       "      <th>Size</th>\n",
       "      <th>refN_cnt</th>\n",
       "      <th>refN_pct</th>\n",
       "      <th>segdup_cnt</th>\n",
       "      <th>segdup_pct</th>\n",
       "      <th>tandemrep_cnt</th>\n",
       "      <th>tandemrep_pct</th>\n",
       "      <th>...</th>\n",
       "      <th>IllMP.amb_reason_orientation_orientation</th>\n",
       "      <th>IllMP.amb_reason_same_scores</th>\n",
       "      <th>IllMP.ref_alnScore_mean</th>\n",
       "      <th>IllMP.ref_alnScore_std</th>\n",
       "      <th>IllMP.ref_count</th>\n",
       "      <th>IllMP.ref_insertSize_mean</th>\n",
       "      <th>IllMP.ref_insertSize_std</th>\n",
       "      <th>IllMP.ref_reason_alignmentScore</th>\n",
       "      <th>IllMP.ref_reason_insertSizeScore</th>\n",
       "      <th>IllMP.ref_reason_orientation</th>\n",
       "    </tr>\n",
       "  </thead>\n",
       "  <tbody>\n",
       "    <tr>\n",
       "      <th>0</th>\n",
       "      <td>1.0</td>\n",
       "      <td>37568322.0</td>\n",
       "      <td>37568587.0</td>\n",
       "      <td>-115.0</td>\n",
       "      <td>0.0</td>\n",
       "      <td>0.0</td>\n",
       "      <td>0.0</td>\n",
       "      <td>0.0</td>\n",
       "      <td>3.0</td>\n",
       "      <td>0.818868</td>\n",
       "      <td>...</td>\n",
       "      <td>43.0</td>\n",
       "      <td>456.0</td>\n",
       "      <td>411.080000</td>\n",
       "      <td>53.348604</td>\n",
       "      <td>25.0</td>\n",
       "      <td>6586.560000</td>\n",
       "      <td>999.928961</td>\n",
       "      <td>15.0</td>\n",
       "      <td>0.0</td>\n",
       "      <td>10.0</td>\n",
       "    </tr>\n",
       "    <tr>\n",
       "      <th>1</th>\n",
       "      <td>1.0</td>\n",
       "      <td>1092675.0</td>\n",
       "      <td>1092715.0</td>\n",
       "      <td>-40.0</td>\n",
       "      <td>0.0</td>\n",
       "      <td>0.0</td>\n",
       "      <td>0.0</td>\n",
       "      <td>0.0</td>\n",
       "      <td>1.0</td>\n",
       "      <td>1.000000</td>\n",
       "      <td>...</td>\n",
       "      <td>34.0</td>\n",
       "      <td>345.0</td>\n",
       "      <td>370.000000</td>\n",
       "      <td>0.000000</td>\n",
       "      <td>1.0</td>\n",
       "      <td>4426.000000</td>\n",
       "      <td>0.000000</td>\n",
       "      <td>1.0</td>\n",
       "      <td>0.0</td>\n",
       "      <td>0.0</td>\n",
       "    </tr>\n",
       "    <tr>\n",
       "      <th>2</th>\n",
       "      <td>1.0</td>\n",
       "      <td>2629212.0</td>\n",
       "      <td>2629373.0</td>\n",
       "      <td>-160.0</td>\n",
       "      <td>0.0</td>\n",
       "      <td>0.0</td>\n",
       "      <td>1.0</td>\n",
       "      <td>1.0</td>\n",
       "      <td>0.0</td>\n",
       "      <td>0.000000</td>\n",
       "      <td>...</td>\n",
       "      <td>104.0</td>\n",
       "      <td>111.0</td>\n",
       "      <td>392.192308</td>\n",
       "      <td>77.179620</td>\n",
       "      <td>26.0</td>\n",
       "      <td>5318.038462</td>\n",
       "      <td>2166.320853</td>\n",
       "      <td>25.0</td>\n",
       "      <td>0.0</td>\n",
       "      <td>1.0</td>\n",
       "    </tr>\n",
       "  </tbody>\n",
       "</table>\n",
       "<p>3 rows × 41 columns</p>\n",
       "</div>"
      ],
      "text/plain": [
       "   chrom       start         end   Size  refN_cnt  refN_pct  segdup_cnt  \\\n",
       "0    1.0  37568322.0  37568587.0 -115.0       0.0       0.0         0.0   \n",
       "1    1.0   1092675.0   1092715.0  -40.0       0.0       0.0         0.0   \n",
       "2    1.0   2629212.0   2629373.0 -160.0       0.0       0.0         1.0   \n",
       "\n",
       "   segdup_pct  tandemrep_cnt  tandemrep_pct              ...               \\\n",
       "0         0.0            3.0       0.818868              ...                \n",
       "1         0.0            1.0       1.000000              ...                \n",
       "2         1.0            0.0       0.000000              ...                \n",
       "\n",
       "   IllMP.amb_reason_orientation_orientation  IllMP.amb_reason_same_scores  \\\n",
       "0                                      43.0                         456.0   \n",
       "1                                      34.0                         345.0   \n",
       "2                                     104.0                         111.0   \n",
       "\n",
       "   IllMP.ref_alnScore_mean  IllMP.ref_alnScore_std  IllMP.ref_count  \\\n",
       "0               411.080000               53.348604             25.0   \n",
       "1               370.000000                0.000000              1.0   \n",
       "2               392.192308               77.179620             26.0   \n",
       "\n",
       "   IllMP.ref_insertSize_mean  IllMP.ref_insertSize_std  \\\n",
       "0                6586.560000                999.928961   \n",
       "1                4426.000000                  0.000000   \n",
       "2                5318.038462               2166.320853   \n",
       "\n",
       "   IllMP.ref_reason_alignmentScore  IllMP.ref_reason_insertSizeScore  \\\n",
       "0                             15.0                               0.0   \n",
       "1                              1.0                               0.0   \n",
       "2                             25.0                               0.0   \n",
       "\n",
       "   IllMP.ref_reason_orientation  \n",
       "0                          10.0  \n",
       "1                           0.0  \n",
       "2                           1.0  \n",
       "\n",
       "[3 rows x 41 columns]"
      ]
     },
     "execution_count": 47,
     "metadata": {},
     "output_type": "execute_result"
    }
   ],
   "source": [
    "dftest_header = list(df_test.columns.values)\n",
    "X2.columns = dftest_header\n",
    "X2.head(3)"
   ]
  },
  {
   "cell_type": "code",
   "execution_count": 48,
   "metadata": {},
   "outputs": [
    {
     "data": {
      "text/html": [
       "<div>\n",
       "<table border=\"1\" class=\"dataframe\">\n",
       "  <thead>\n",
       "    <tr style=\"text-align: right;\">\n",
       "      <th></th>\n",
       "      <th>chrom</th>\n",
       "      <th>start</th>\n",
       "      <th>end</th>\n",
       "      <th>Size</th>\n",
       "      <th>refN_cnt</th>\n",
       "      <th>refN_pct</th>\n",
       "      <th>segdup_cnt</th>\n",
       "      <th>segdup_pct</th>\n",
       "      <th>tandemrep_cnt</th>\n",
       "      <th>tandemrep_pct</th>\n",
       "      <th>...</th>\n",
       "      <th>IllMP.amb_reason_orientation_orientation</th>\n",
       "      <th>IllMP.amb_reason_same_scores</th>\n",
       "      <th>IllMP.ref_alnScore_mean</th>\n",
       "      <th>IllMP.ref_alnScore_std</th>\n",
       "      <th>IllMP.ref_count</th>\n",
       "      <th>IllMP.ref_insertSize_mean</th>\n",
       "      <th>IllMP.ref_insertSize_std</th>\n",
       "      <th>IllMP.ref_reason_alignmentScore</th>\n",
       "      <th>IllMP.ref_reason_insertSizeScore</th>\n",
       "      <th>IllMP.ref_reason_orientation</th>\n",
       "    </tr>\n",
       "  </thead>\n",
       "  <tbody>\n",
       "    <tr>\n",
       "      <th>0</th>\n",
       "      <td>1.0</td>\n",
       "      <td>37568322.0</td>\n",
       "      <td>37568587.0</td>\n",
       "      <td>-115.0</td>\n",
       "      <td>0.0</td>\n",
       "      <td>0.0</td>\n",
       "      <td>0.0</td>\n",
       "      <td>0.0</td>\n",
       "      <td>3.0</td>\n",
       "      <td>0.818868</td>\n",
       "      <td>...</td>\n",
       "      <td>43.0</td>\n",
       "      <td>456.0</td>\n",
       "      <td>411.080000</td>\n",
       "      <td>53.348604</td>\n",
       "      <td>25.0</td>\n",
       "      <td>6586.560000</td>\n",
       "      <td>999.928961</td>\n",
       "      <td>15.0</td>\n",
       "      <td>0.0</td>\n",
       "      <td>10.0</td>\n",
       "    </tr>\n",
       "    <tr>\n",
       "      <th>1</th>\n",
       "      <td>1.0</td>\n",
       "      <td>1092675.0</td>\n",
       "      <td>1092715.0</td>\n",
       "      <td>-40.0</td>\n",
       "      <td>0.0</td>\n",
       "      <td>0.0</td>\n",
       "      <td>0.0</td>\n",
       "      <td>0.0</td>\n",
       "      <td>1.0</td>\n",
       "      <td>1.000000</td>\n",
       "      <td>...</td>\n",
       "      <td>34.0</td>\n",
       "      <td>345.0</td>\n",
       "      <td>370.000000</td>\n",
       "      <td>0.000000</td>\n",
       "      <td>1.0</td>\n",
       "      <td>4426.000000</td>\n",
       "      <td>0.000000</td>\n",
       "      <td>1.0</td>\n",
       "      <td>0.0</td>\n",
       "      <td>0.0</td>\n",
       "    </tr>\n",
       "    <tr>\n",
       "      <th>2</th>\n",
       "      <td>1.0</td>\n",
       "      <td>2629212.0</td>\n",
       "      <td>2629373.0</td>\n",
       "      <td>-160.0</td>\n",
       "      <td>0.0</td>\n",
       "      <td>0.0</td>\n",
       "      <td>1.0</td>\n",
       "      <td>1.0</td>\n",
       "      <td>0.0</td>\n",
       "      <td>0.000000</td>\n",
       "      <td>...</td>\n",
       "      <td>104.0</td>\n",
       "      <td>111.0</td>\n",
       "      <td>392.192308</td>\n",
       "      <td>77.179620</td>\n",
       "      <td>26.0</td>\n",
       "      <td>5318.038462</td>\n",
       "      <td>2166.320853</td>\n",
       "      <td>25.0</td>\n",
       "      <td>0.0</td>\n",
       "      <td>1.0</td>\n",
       "    </tr>\n",
       "  </tbody>\n",
       "</table>\n",
       "<p>3 rows × 41 columns</p>\n",
       "</div>"
      ],
      "text/plain": [
       "   chrom       start         end   Size  refN_cnt  refN_pct  segdup_cnt  \\\n",
       "0    1.0  37568322.0  37568587.0 -115.0       0.0       0.0         0.0   \n",
       "1    1.0   1092675.0   1092715.0  -40.0       0.0       0.0         0.0   \n",
       "2    1.0   2629212.0   2629373.0 -160.0       0.0       0.0         1.0   \n",
       "\n",
       "   segdup_pct  tandemrep_cnt  tandemrep_pct              ...               \\\n",
       "0         0.0            3.0       0.818868              ...                \n",
       "1         0.0            1.0       1.000000              ...                \n",
       "2         1.0            0.0       0.000000              ...                \n",
       "\n",
       "   IllMP.amb_reason_orientation_orientation  IllMP.amb_reason_same_scores  \\\n",
       "0                                      43.0                         456.0   \n",
       "1                                      34.0                         345.0   \n",
       "2                                     104.0                         111.0   \n",
       "\n",
       "   IllMP.ref_alnScore_mean  IllMP.ref_alnScore_std  IllMP.ref_count  \\\n",
       "0               411.080000               53.348604             25.0   \n",
       "1               370.000000                0.000000              1.0   \n",
       "2               392.192308               77.179620             26.0   \n",
       "\n",
       "   IllMP.ref_insertSize_mean  IllMP.ref_insertSize_std  \\\n",
       "0                6586.560000                999.928961   \n",
       "1                4426.000000                  0.000000   \n",
       "2                5318.038462               2166.320853   \n",
       "\n",
       "   IllMP.ref_reason_alignmentScore  IllMP.ref_reason_insertSizeScore  \\\n",
       "0                             15.0                               0.0   \n",
       "1                              1.0                               0.0   \n",
       "2                             25.0                               0.0   \n",
       "\n",
       "   IllMP.ref_reason_orientation  \n",
       "0                          10.0  \n",
       "1                           0.0  \n",
       "2                           1.0  \n",
       "\n",
       "[3 rows x 41 columns]"
      ]
     },
     "execution_count": 48,
     "metadata": {},
     "output_type": "execute_result"
    }
   ],
   "source": [
    "X3 = pd.DataFrame()\n",
    "X3 = X2\n",
    "X3.head(3)"
   ]
  },
  {
   "cell_type": "code",
   "execution_count": 49,
   "metadata": {
    "collapsed": true
   },
   "outputs": [],
   "source": [
    "# Order features\n",
    "X5 = X2.reindex_axis(sorted(X2.columns), axis=1)"
   ]
  },
  {
   "cell_type": "code",
   "execution_count": 50,
   "metadata": {
    "collapsed": true
   },
   "outputs": [],
   "source": [
    "\n",
    "# X5 = df_test"
   ]
  },
  {
   "cell_type": "markdown",
   "metadata": {},
   "source": [
    "<a id='prediction_step'></a>"
   ]
  },
  {
   "cell_type": "code",
   "execution_count": 51,
   "metadata": {
    "collapsed": true
   },
   "outputs": [],
   "source": [
    "pred = model.predict(X5)"
   ]
  },
  {
   "cell_type": "code",
   "execution_count": 52,
   "metadata": {
    "collapsed": true
   },
   "outputs": [],
   "source": [
    "pred_prob = model.predict_proba(X5)"
   ]
  },
  {
   "cell_type": "code",
   "execution_count": 53,
   "metadata": {
    "collapsed": true
   },
   "outputs": [],
   "source": [
    "pred_prob_log = model.predict_log_proba(X5)"
   ]
  },
  {
   "cell_type": "code",
   "execution_count": 54,
   "metadata": {
    "collapsed": true
   },
   "outputs": [],
   "source": [
    "X5['predicted_label'] = pred\n",
    "X5['chrom'] = df_test_2['chrom']\n",
    "X5['GTcons'] = df_test_2['GTcons']\n",
    "X5['start'] = df_test_2['start']\n",
    "X5['end'] = df_test_2['end']\n",
    "X5['Size'] = df_test_2['Size']\n",
    "X5['GTconswithoutIllMP.GT'] = df_test_2['GTconswithoutIllMP.GT']\n",
    "X5['GTsupp'] = df_test_2['GTsupp']"
   ]
  },
  {
   "cell_type": "code",
   "execution_count": 55,
   "metadata": {
    "collapsed": true
   },
   "outputs": [],
   "source": [
    "X6 = pd.concat([X5, pd.DataFrame(pred_prob, columns=['1','2','3'])])"
   ]
  },
  {
   "cell_type": "code",
   "execution_count": 56,
   "metadata": {
    "collapsed": true
   },
   "outputs": [],
   "source": [
    "X7 = pd.concat([X5, pd.DataFrame(pred_prob_log, columns=['1','2','3'])])"
   ]
  },
  {
   "cell_type": "code",
   "execution_count": 57,
   "metadata": {
    "collapsed": true
   },
   "outputs": [],
   "source": [
    "X6.to_csv('/Volumes/lesleydata/SVanalyzer_ML/Oct122017_Revised_R/summary_plots/data/preliminary_df/MP_pred_prob_DEL_revisedR_tree.csv', index=False)"
   ]
  },
  {
   "cell_type": "code",
   "execution_count": 58,
   "metadata": {
    "collapsed": true
   },
   "outputs": [],
   "source": [
    "X7.to_csv('/Volumes/lesleydata/SVanalyzer_ML/Oct122017_Revised_R/summary_plots/data/preliminary_df/MP_pred_prob_log_DEL_revisedR_tree.csv', index=False)"
   ]
  },
  {
   "cell_type": "code",
   "execution_count": null,
   "metadata": {
    "collapsed": true
   },
   "outputs": [],
   "source": [
    "#Note: Reformat X6 csv"
   ]
  },
  {
   "cell_type": "code",
   "execution_count": 59,
   "metadata": {
    "collapsed": true
   },
   "outputs": [],
   "source": [
    "X6 = pd.read_csv('/Volumes/lesleydata/SVanalyzer_ML/Oct122017_Revised_R/summary_plots/data/preliminary_df/MP_pred_prob_DEL_revisedR_tree.csv')\n"
   ]
  },
  {
   "cell_type": "code",
   "execution_count": 60,
   "metadata": {
    "collapsed": true
   },
   "outputs": [],
   "source": [
    "X6.rename(columns={'1': 'Homozygous_Reference_GTcons_MP'}, inplace=True)\n",
    "X6.rename(columns={'2': 'Heterozygous_Variant_GTcons_MP'}, inplace=True)\n",
    "X6.rename(columns={'3': 'Homozygous_Variant_GTcons_MP'}, inplace=True)\n",
    "X6.rename(columns={'predicted_label': 'MP_predicted_GTcons_label'}, inplace=True)"
   ]
  },
  {
   "cell_type": "code",
   "execution_count": 61,
   "metadata": {},
   "outputs": [
    {
     "data": {
      "text/html": [
       "<div>\n",
       "<table border=\"1\" class=\"dataframe\">\n",
       "  <thead>\n",
       "    <tr style=\"text-align: right;\">\n",
       "      <th></th>\n",
       "      <th>Homozygous_Reference_GTcons_MP</th>\n",
       "      <th>Heterozygous_Variant_GTcons_MP</th>\n",
       "      <th>Homozygous_Variant_GTcons_MP</th>\n",
       "      <th>GTcons</th>\n",
       "      <th>GTconswithoutIllMP.GT</th>\n",
       "      <th>GTsupp</th>\n",
       "      <th>IllMP.GT</th>\n",
       "      <th>IllMP.alt_alnScore_mean</th>\n",
       "      <th>IllMP.alt_alnScore_std</th>\n",
       "      <th>IllMP.alt_count</th>\n",
       "      <th>...</th>\n",
       "      <th>chrom</th>\n",
       "      <th>end</th>\n",
       "      <th>MP_predicted_GTcons_label</th>\n",
       "      <th>refN_cnt</th>\n",
       "      <th>refN_pct</th>\n",
       "      <th>segdup_cnt</th>\n",
       "      <th>segdup_pct</th>\n",
       "      <th>start</th>\n",
       "      <th>tandemrep_cnt</th>\n",
       "      <th>tandemrep_pct</th>\n",
       "    </tr>\n",
       "  </thead>\n",
       "  <tbody>\n",
       "    <tr>\n",
       "      <th>0</th>\n",
       "      <td>0.973333</td>\n",
       "      <td>0.026667</td>\n",
       "      <td>0.000000</td>\n",
       "      <td>0</td>\n",
       "      <td>0</td>\n",
       "      <td>4</td>\n",
       "      <td>-1.0</td>\n",
       "      <td>0.0</td>\n",
       "      <td>0.0</td>\n",
       "      <td>0.0</td>\n",
       "      <td>...</td>\n",
       "      <td>1</td>\n",
       "      <td>37568587</td>\n",
       "      <td>0</td>\n",
       "      <td>0</td>\n",
       "      <td>0</td>\n",
       "      <td>0</td>\n",
       "      <td>0.0</td>\n",
       "      <td>37568322</td>\n",
       "      <td>3</td>\n",
       "      <td>0.818868</td>\n",
       "    </tr>\n",
       "    <tr>\n",
       "      <th>1</th>\n",
       "      <td>0.066667</td>\n",
       "      <td>0.200000</td>\n",
       "      <td>0.733333</td>\n",
       "      <td>1</td>\n",
       "      <td>1</td>\n",
       "      <td>1</td>\n",
       "      <td>-1.0</td>\n",
       "      <td>488.0</td>\n",
       "      <td>0.0</td>\n",
       "      <td>1.0</td>\n",
       "      <td>...</td>\n",
       "      <td>1</td>\n",
       "      <td>1092715</td>\n",
       "      <td>2</td>\n",
       "      <td>0</td>\n",
       "      <td>0</td>\n",
       "      <td>0</td>\n",
       "      <td>0.0</td>\n",
       "      <td>1092675</td>\n",
       "      <td>1</td>\n",
       "      <td>1.000000</td>\n",
       "    </tr>\n",
       "    <tr>\n",
       "      <th>2</th>\n",
       "      <td>0.560000</td>\n",
       "      <td>0.346667</td>\n",
       "      <td>0.093333</td>\n",
       "      <td>0</td>\n",
       "      <td>0</td>\n",
       "      <td>1</td>\n",
       "      <td>-1.0</td>\n",
       "      <td>472.0</td>\n",
       "      <td>0.0</td>\n",
       "      <td>1.0</td>\n",
       "      <td>...</td>\n",
       "      <td>1</td>\n",
       "      <td>2629373</td>\n",
       "      <td>0</td>\n",
       "      <td>0</td>\n",
       "      <td>0</td>\n",
       "      <td>1</td>\n",
       "      <td>1.0</td>\n",
       "      <td>2629212</td>\n",
       "      <td>0</td>\n",
       "      <td>0.000000</td>\n",
       "    </tr>\n",
       "  </tbody>\n",
       "</table>\n",
       "<p>3 rows × 48 columns</p>\n",
       "</div>"
      ],
      "text/plain": [
       "   Homozygous_Reference_GTcons_MP  Heterozygous_Variant_GTcons_MP  \\\n",
       "0                        0.973333                        0.026667   \n",
       "1                        0.066667                        0.200000   \n",
       "2                        0.560000                        0.346667   \n",
       "\n",
       "   Homozygous_Variant_GTcons_MP  GTcons  GTconswithoutIllMP.GT  GTsupp  \\\n",
       "0                      0.000000       0                      0       4   \n",
       "1                      0.733333       1                      1       1   \n",
       "2                      0.093333       0                      0       1   \n",
       "\n",
       "   IllMP.GT  IllMP.alt_alnScore_mean  IllMP.alt_alnScore_std  IllMP.alt_count  \\\n",
       "0      -1.0                      0.0                     0.0              0.0   \n",
       "1      -1.0                    488.0                     0.0              1.0   \n",
       "2      -1.0                    472.0                     0.0              1.0   \n",
       "\n",
       "       ...        chrom       end  MP_predicted_GTcons_label  refN_cnt  \\\n",
       "0      ...            1  37568587                          0         0   \n",
       "1      ...            1   1092715                          2         0   \n",
       "2      ...            1   2629373                          0         0   \n",
       "\n",
       "   refN_pct  segdup_cnt  segdup_pct     start  tandemrep_cnt  tandemrep_pct  \n",
       "0         0           0         0.0  37568322              3       0.818868  \n",
       "1         0           0         0.0   1092675              1       1.000000  \n",
       "2         0           1         1.0   2629212              0       0.000000  \n",
       "\n",
       "[3 rows x 48 columns]"
      ]
     },
     "execution_count": 61,
     "metadata": {},
     "output_type": "execute_result"
    }
   ],
   "source": [
    "X6.head(3)"
   ]
  },
  {
   "cell_type": "code",
   "execution_count": 62,
   "metadata": {
    "collapsed": true
   },
   "outputs": [],
   "source": [
    "X6.to_csv('/Volumes/lesleydata/SVanalyzer_ML/Oct122017_Revised_R/summary_plots/data/MP_final_GTcons_df_DEL_SVanalyzer_tree.csv', index=False)"
   ]
  },
  {
   "cell_type": "markdown",
   "metadata": {},
   "source": [
    "***\n",
    "Label Analysis\n",
    "***"
   ]
  },
  {
   "cell_type": "markdown",
   "metadata": {},
   "source": [
    "Description:\n",
    "  * The [random forest(RF) model](#train_test) was trained on svanalyzer data. The trained model was used to predict consensus GT labels for the 5000 deletions that were randomly selected from the union_refalt vcf. The following is a comparison of model predicted labels [Conesus GT] to consensus genotype generated by the R script for the 5000 randomly selected datapoints from union_refalt.vcf "
   ]
  },
  {
   "cell_type": "code",
   "execution_count": 63,
   "metadata": {},
   "outputs": [
    {
     "name": "stdout",
     "output_type": "stream",
     "text": [
      "[[ 734   89   56]\n",
      " [ 258 1570  412]\n",
      " [  15   63  833]]\n"
     ]
    }
   ],
   "source": [
    "from sklearn.metrics import confusion_matrix\n",
    "consensus_GT = X6['GTcons']\n",
    "predict = X6['MP_predicted_GTcons_label']\n",
    "print(confusion_matrix(consensus_GT, predict))"
   ]
  },
  {
   "cell_type": "code",
   "execution_count": 64,
   "metadata": {
    "collapsed": true
   },
   "outputs": [],
   "source": [
    "X6['GTcons'].replace(0, 'Homozygous_Reference', inplace=True)\n",
    "X6['GTcons'].replace(1, 'Heterozygous_Variant', inplace=True)\n",
    "X6['GTcons'].replace(2, 'Homozygous_Variant', inplace=True)\n",
    "X6['MP_predicted_GTcons_label'].replace(0.0, 'Homozygous_Reference', inplace=True)\n",
    "X6['MP_predicted_GTcons_label'].replace(1.0, 'Heterozygous_Variant', inplace=True)\n",
    "X6['MP_predicted_GTcons_label'].replace(2.0, 'Homozygous_Variant', inplace=True)"
   ]
  },
  {
   "cell_type": "markdown",
   "metadata": {},
   "source": [
    "<a id='predict_precision_score_matrix'></a>"
   ]
  },
  {
   "cell_type": "code",
   "execution_count": 65,
   "metadata": {},
   "outputs": [
    {
     "name": "stdout",
     "output_type": "stream",
     "text": [
      "Precision score of the prediction subset: 0.778\n"
     ]
    }
   ],
   "source": [
    "print('Precision score of the prediction subset: {:.3f}'.format(precision_score(consensus_GT, predict, average='micro'))) "
   ]
  },
  {
   "cell_type": "code",
   "execution_count": 66,
   "metadata": {},
   "outputs": [
    {
     "data": {
      "text/html": [
       "<div>\n",
       "<table border=\"1\" class=\"dataframe\">\n",
       "  <thead>\n",
       "    <tr style=\"text-align: right;\">\n",
       "      <th>Predicted</th>\n",
       "      <th>Heterozygous_Variant</th>\n",
       "      <th>Homozygous_Reference</th>\n",
       "      <th>Homozygous_Variant</th>\n",
       "      <th>All</th>\n",
       "    </tr>\n",
       "    <tr>\n",
       "      <th>True</th>\n",
       "      <th></th>\n",
       "      <th></th>\n",
       "      <th></th>\n",
       "      <th></th>\n",
       "    </tr>\n",
       "  </thead>\n",
       "  <tbody>\n",
       "    <tr>\n",
       "      <th>Heterozygous_Variant</th>\n",
       "      <td>1570</td>\n",
       "      <td>258</td>\n",
       "      <td>412</td>\n",
       "      <td>2240</td>\n",
       "    </tr>\n",
       "    <tr>\n",
       "      <th>Homozygous_Reference</th>\n",
       "      <td>89</td>\n",
       "      <td>734</td>\n",
       "      <td>56</td>\n",
       "      <td>879</td>\n",
       "    </tr>\n",
       "    <tr>\n",
       "      <th>Homozygous_Variant</th>\n",
       "      <td>63</td>\n",
       "      <td>15</td>\n",
       "      <td>833</td>\n",
       "      <td>911</td>\n",
       "    </tr>\n",
       "    <tr>\n",
       "      <th>All</th>\n",
       "      <td>1722</td>\n",
       "      <td>1007</td>\n",
       "      <td>1301</td>\n",
       "      <td>4030</td>\n",
       "    </tr>\n",
       "  </tbody>\n",
       "</table>\n",
       "</div>"
      ],
      "text/plain": [
       "Predicted             Heterozygous_Variant  Homozygous_Reference  \\\n",
       "True                                                               \n",
       "Heterozygous_Variant                  1570                   258   \n",
       "Homozygous_Reference                    89                   734   \n",
       "Homozygous_Variant                      63                    15   \n",
       "All                                   1722                  1007   \n",
       "\n",
       "Predicted             Homozygous_Variant   All  \n",
       "True                                            \n",
       "Heterozygous_Variant                 412  2240  \n",
       "Homozygous_Reference                  56   879  \n",
       "Homozygous_Variant                   833   911  \n",
       "All                                 1301  4030  "
      ]
     },
     "execution_count": 66,
     "metadata": {},
     "output_type": "execute_result"
    }
   ],
   "source": [
    "pd.crosstab(consensus_GT, predict, rownames=['True'], colnames=['Predicted'], margins=True)"
   ]
  },
  {
   "cell_type": "markdown",
   "metadata": {},
   "source": [
    "** High Confidence Label Analysis**\n",
    "* **Reminder:** The labels predicted by the model are the following consensus genotype:\n",
    "    * Homozygous Reference: 0 \n",
    "    * Heterozygous Variant: 1 \n",
    "    * Homozygous Variant: 2 \n",
    "* Here **high confidence labels** are the labels predicted by the model that were also assigned a predict probability of either 0.9 or 1\n",
    "* The following is an analysis of predicted svanalyzer labels with predict probability >0.9"
   ]
  },
  {
   "cell_type": "code",
   "execution_count": 67,
   "metadata": {
    "collapsed": true
   },
   "outputs": [],
   "source": [
    "high_conf_labels = X6[(X6['Homozygous_Reference_GTcons_MP'] == 1) | (X6['Homozygous_Reference_GTcons_MP'] == 0.9) | (X6['Heterozygous_Variant_GTcons_MP'] == 1) | (X6['Heterozygous_Variant_GTcons_MP'] == 0.9) | (X6['Homozygous_Variant_GTcons_MP'] == 1) | (X6['Homozygous_Variant_GTcons_MP'] == 0.9)]\n"
   ]
  },
  {
   "cell_type": "markdown",
   "metadata": {},
   "source": [
    "<a id='hiconf_precision_score'></a>"
   ]
  },
  {
   "cell_type": "code",
   "execution_count": 68,
   "metadata": {},
   "outputs": [
    {
     "data": {
      "text/html": [
       "<div>\n",
       "<table border=\"1\" class=\"dataframe\">\n",
       "  <thead>\n",
       "    <tr style=\"text-align: right;\">\n",
       "      <th>Predicted</th>\n",
       "      <th>Heterozygous_Variant</th>\n",
       "      <th>Homozygous_Reference</th>\n",
       "      <th>Homozygous_Variant</th>\n",
       "      <th>All</th>\n",
       "    </tr>\n",
       "    <tr>\n",
       "      <th>True</th>\n",
       "      <th></th>\n",
       "      <th></th>\n",
       "      <th></th>\n",
       "      <th></th>\n",
       "    </tr>\n",
       "  </thead>\n",
       "  <tbody>\n",
       "    <tr>\n",
       "      <th>Heterozygous_Variant</th>\n",
       "      <td>13</td>\n",
       "      <td>2</td>\n",
       "      <td>0</td>\n",
       "      <td>15</td>\n",
       "    </tr>\n",
       "    <tr>\n",
       "      <th>Homozygous_Reference</th>\n",
       "      <td>0</td>\n",
       "      <td>14</td>\n",
       "      <td>0</td>\n",
       "      <td>14</td>\n",
       "    </tr>\n",
       "    <tr>\n",
       "      <th>Homozygous_Variant</th>\n",
       "      <td>0</td>\n",
       "      <td>0</td>\n",
       "      <td>13</td>\n",
       "      <td>13</td>\n",
       "    </tr>\n",
       "    <tr>\n",
       "      <th>All</th>\n",
       "      <td>13</td>\n",
       "      <td>16</td>\n",
       "      <td>13</td>\n",
       "      <td>42</td>\n",
       "    </tr>\n",
       "  </tbody>\n",
       "</table>\n",
       "</div>"
      ],
      "text/plain": [
       "Predicted             Heterozygous_Variant  Homozygous_Reference  \\\n",
       "True                                                               \n",
       "Heterozygous_Variant                    13                     2   \n",
       "Homozygous_Reference                     0                    14   \n",
       "Homozygous_Variant                       0                     0   \n",
       "All                                     13                    16   \n",
       "\n",
       "Predicted             Homozygous_Variant  All  \n",
       "True                                           \n",
       "Heterozygous_Variant                   0   15  \n",
       "Homozygous_Reference                   0   14  \n",
       "Homozygous_Variant                    13   13  \n",
       "All                                   13   42  "
      ]
     },
     "execution_count": 68,
     "metadata": {},
     "output_type": "execute_result"
    }
   ],
   "source": [
    "consensus_GT = high_conf_labels['GTcons']\n",
    "predict = high_conf_labels['MP_predicted_GTcons_label']\n",
    "pd.crosstab(consensus_GT, predict, rownames=['True'], colnames=['Predicted'], margins=True)"
   ]
  },
  {
   "cell_type": "code",
   "execution_count": 69,
   "metadata": {},
   "outputs": [
    {
     "name": "stdout",
     "output_type": "stream",
     "text": [
      "                      precision    recall  f1-score   support\n",
      "\n",
      "Heterozygous_Variant       1.00      0.87      0.93        15\n",
      "Homozygous_Reference       0.88      1.00      0.93        14\n",
      "  Homozygous_Variant       1.00      1.00      1.00        13\n",
      "\n",
      "         avg / total       0.96      0.95      0.95        42\n",
      "\n"
     ]
    }
   ],
   "source": [
    "from sklearn.metrics import classification_report\n",
    "print(classification_report(consensus_GT, predict))"
   ]
  },
  {
   "cell_type": "code",
   "execution_count": null,
   "metadata": {
    "collapsed": true
   },
   "outputs": [],
   "source": []
  }
 ],
 "metadata": {
  "kernelspec": {
   "display_name": "Python [NIHFAES]",
   "language": "python",
   "name": "Python [NIHFAES]"
  },
  "language_info": {
   "codemirror_mode": {
    "name": "ipython",
    "version": 3
   },
   "file_extension": ".py",
   "mimetype": "text/x-python",
   "name": "python",
   "nbconvert_exporter": "python",
   "pygments_lexer": "ipython3",
   "version": "3.5.2"
  }
 },
 "nbformat": 4,
 "nbformat_minor": 2
}
