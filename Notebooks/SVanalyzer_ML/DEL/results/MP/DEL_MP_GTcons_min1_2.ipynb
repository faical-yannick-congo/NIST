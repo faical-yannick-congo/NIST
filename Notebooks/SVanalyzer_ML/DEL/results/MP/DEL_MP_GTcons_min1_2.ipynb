{
 "cells": [
  {
   "cell_type": "markdown",
   "metadata": {},
   "source": [
    "### MP Deletions\n",
    "\n",
    "* Deletions\n",
    "* HG002 Only\n",
    "* Technology: MP\n",
    "\n",
    "* The following classifier will train on and predict the following labels:\n",
    "    - GTcons\n",
    "    \n",
    "    \n",
    "* All -1 values have been removed from the train and test set"
   ]
  },
  {
   "cell_type": "code",
   "execution_count": 1,
   "metadata": {},
   "outputs": [
    {
     "name": "stderr",
     "output_type": "stream",
     "text": [
      "/Users/lmc2/anaconda/envs/NIHFAES/lib/python3.5/site-packages/sklearn/cross_validation.py:44: DeprecationWarning:\n",
      "\n",
      "This module was deprecated in version 0.18 in favor of the model_selection module into which all the refactored classes and functions are moved. Also note that the interface of the new CV iterators are different from that of this module. This module will be removed in 0.20.\n",
      "\n",
      "/Users/lmc2/anaconda/envs/NIHFAES/lib/python3.5/site-packages/sklearn/grid_search.py:43: DeprecationWarning:\n",
      "\n",
      "This module was deprecated in version 0.18 in favor of the model_selection module into which all the refactored classes and functions are moved. This module will be removed in 0.20.\n",
      "\n"
     ]
    }
   ],
   "source": [
    "\"\"\"\n",
    "Imports\n",
    "\"\"\"\n",
    "import pandas as pd\n",
    "import numpy as np\n",
    "from fancyimpute import KNN\n",
    "import matplotlib.pyplot as plt\n",
    "from sklearn import preprocessing\n",
    "from sklearn.preprocessing import LabelEncoder\n",
    "from sklearn.model_selection import LeaveOneOut\n",
    "from scipy.stats import ks_2samp\n",
    "from scipy import stats\n",
    "from matplotlib import pyplot\n",
    "from sklearn import preprocessing\n",
    "from scipy.linalg import svd\n",
    "from sklearn.decomposition import TruncatedSVD\n",
    "from sklearn.ensemble import RandomForestClassifier\n",
    "from sklearn.metrics import roc_auc_score\n",
    "import seaborn as sns\n",
    "from sklearn.manifold import TSNE\n",
    "from sklearn.decomposition import PCA as sklearnPCA\n",
    "import plotly.plotly as py\n",
    "from sklearn.cluster import DBSCAN\n",
    "from sklearn.model_selection import train_test_split\n",
    "from sklearn import metrics\n",
    "from sklearn.grid_search import GridSearchCV\n",
    "from sklearn.metrics import f1_score, precision_score\n",
    "from sklearn import preprocessing\n",
    "from ggplot import *\n",
    "from bokeh.charts import TimeSeries\n",
    "from bokeh.models import HoverTool\n",
    "from bokeh.plotting import show\n",
    "from bokeh.charts import Scatter, Histogram, output_file, show\n",
    "from bokeh.plotting import figure, show, output_file, ColumnDataSource\n",
    "from bokeh.io import output_notebook\n",
    "from bokeh.charts import Bar, output_file, show\n",
    "import bokeh.palettes as palettes\n",
    "from bokeh.models import HoverTool, BoxSelectTool, Legend\n",
    "from sklearn import (manifold, datasets, decomposition, ensemble,\n",
    "                     discriminant_analysis, random_projection)"
   ]
  },
  {
   "cell_type": "markdown",
   "metadata": {},
   "source": [
    "***\n",
    "Import Data\n",
    "***"
   ]
  },
  {
   "cell_type": "code",
   "execution_count": 2,
   "metadata": {},
   "outputs": [
    {
     "data": {
      "text/html": [
       "<div>\n",
       "<table border=\"1\" class=\"dataframe\">\n",
       "  <thead>\n",
       "    <tr style=\"text-align: right;\">\n",
       "      <th></th>\n",
       "      <th>chrom</th>\n",
       "      <th>id</th>\n",
       "      <th>sample</th>\n",
       "      <th>start</th>\n",
       "      <th>end</th>\n",
       "      <th>type</th>\n",
       "      <th>SVtype</th>\n",
       "      <th>Size</th>\n",
       "      <th>refN_cnt</th>\n",
       "      <th>refN_pct</th>\n",
       "      <th>...</th>\n",
       "      <th>IllMP.amb_reason_orientation_orientation</th>\n",
       "      <th>IllMP.amb_reason_same_scores</th>\n",
       "      <th>IllMP.ref_alnScore_mean</th>\n",
       "      <th>IllMP.ref_alnScore_std</th>\n",
       "      <th>IllMP.ref_count</th>\n",
       "      <th>IllMP.ref_insertSize_mean</th>\n",
       "      <th>IllMP.ref_insertSize_std</th>\n",
       "      <th>IllMP.ref_reason_alignmentScore</th>\n",
       "      <th>IllMP.ref_reason_insertSizeScore</th>\n",
       "      <th>IllMP.ref_reason_orientation</th>\n",
       "    </tr>\n",
       "  </thead>\n",
       "  <tbody>\n",
       "    <tr>\n",
       "      <th>0</th>\n",
       "      <td>1</td>\n",
       "      <td>39</td>\n",
       "      <td>HG002</td>\n",
       "      <td>109690878</td>\n",
       "      <td>109690918</td>\n",
       "      <td>Insertion</td>\n",
       "      <td>Deletion</td>\n",
       "      <td>-39</td>\n",
       "      <td>0</td>\n",
       "      <td>0</td>\n",
       "      <td>...</td>\n",
       "      <td>35.0</td>\n",
       "      <td>396.0</td>\n",
       "      <td>474.0</td>\n",
       "      <td>40.447497</td>\n",
       "      <td>4.0</td>\n",
       "      <td>7461.0</td>\n",
       "      <td>757.261514</td>\n",
       "      <td>3.0</td>\n",
       "      <td>0.0</td>\n",
       "      <td>1.0</td>\n",
       "    </tr>\n",
       "  </tbody>\n",
       "</table>\n",
       "<p>1 rows × 50 columns</p>\n",
       "</div>"
      ],
      "text/plain": [
       "  chrom  id sample      start        end       type    SVtype  Size  refN_cnt  \\\n",
       "0     1  39  HG002  109690878  109690918  Insertion  Deletion   -39         0   \n",
       "\n",
       "   refN_pct              ...               \\\n",
       "0         0              ...                \n",
       "\n",
       "   IllMP.amb_reason_orientation_orientation  IllMP.amb_reason_same_scores  \\\n",
       "0                                      35.0                         396.0   \n",
       "\n",
       "   IllMP.ref_alnScore_mean  IllMP.ref_alnScore_std  IllMP.ref_count  \\\n",
       "0                    474.0               40.447497              4.0   \n",
       "\n",
       "   IllMP.ref_insertSize_mean  IllMP.ref_insertSize_std  \\\n",
       "0                     7461.0                757.261514   \n",
       "\n",
       "   IllMP.ref_reason_alignmentScore  IllMP.ref_reason_insertSizeScore  \\\n",
       "0                              3.0                               0.0   \n",
       "\n",
       "   IllMP.ref_reason_orientation  \n",
       "0                           1.0  \n",
       "\n",
       "[1 rows x 50 columns]"
      ]
     },
     "execution_count": 2,
     "metadata": {},
     "output_type": "execute_result"
    }
   ],
   "source": [
    "# Import Training Data\n",
    "# SVanalyzer generated training data\n",
    "df_train = pd.read_csv('/Volumes/lesleydata/SVanalyzer_ML/Sept122017/Step3_ML/data/train/tech_sep/DEL/no_minus_one/IllMP_HG002_no-1_DEL.csv')\n",
    "df_train_2 = pd.read_csv('/Volumes/lesleydata/SVanalyzer_ML/Sept122017/Step3_ML/data/train/tech_sep/DEL/no_minus_one/IllMP_HG002_no-1_DEL.csv')\n",
    "df_train.rename(columns={'size': 'Size'}, inplace=True)\n",
    "df_train.head(1)"
   ]
  },
  {
   "cell_type": "code",
   "execution_count": 3,
   "metadata": {
    "collapsed": true
   },
   "outputs": [],
   "source": [
    "train_set = pd.DataFrame()\n",
    "train_set = df_train_2"
   ]
  },
  {
   "cell_type": "code",
   "execution_count": 4,
   "metadata": {
    "collapsed": true
   },
   "outputs": [],
   "source": [
    "train_set['GTcons'].replace(0, 'Homozygous_Reference', inplace=True)\n",
    "train_set['GTcons'].replace(1, 'Heterozygous_Variant', inplace=True)\n",
    "train_set['GTcons'].replace(2, 'Homozygous_Variant', inplace=True)"
   ]
  },
  {
   "cell_type": "code",
   "execution_count": 5,
   "metadata": {},
   "outputs": [
    {
     "data": {
      "text/plain": [
       "Homozygous_Reference    1176\n",
       "Homozygous_Variant       154\n",
       "Heterozygous_Variant     642\n",
       "dtype: int64"
      ]
     },
     "execution_count": 5,
     "metadata": {},
     "output_type": "execute_result"
    }
   ],
   "source": [
    "pd.value_counts(train_set['GTcons'].values, sort=False)"
   ]
  },
  {
   "cell_type": "markdown",
   "metadata": {},
   "source": [
    "**Note:**\n",
    "    The original training set has 154 homozygous variant examples"
   ]
  },
  {
   "cell_type": "code",
   "execution_count": 6,
   "metadata": {
    "collapsed": true
   },
   "outputs": [],
   "source": [
    "# Train the model only on the rows that have an Exact Match or Homozygous Reference Label\n",
    "# This step removes any row that has in 'Inaccurate Call' label\n",
    "df_train = df_train[(df_train['Label'] == 1) | (df_train['Label'] == 0)]\n",
    "df_train_2 = df_train_2[(df_train_2['Label'] == 1) | (df_train_2['Label'] == 0)]"
   ]
  },
  {
   "cell_type": "code",
   "execution_count": 7,
   "metadata": {},
   "outputs": [
    {
     "data": {
      "text/plain": [
       "0    685\n",
       "1    535\n",
       "dtype: int64"
      ]
     },
     "execution_count": 7,
     "metadata": {},
     "output_type": "execute_result"
    }
   ],
   "source": [
    "pd.value_counts(df_train['Label'].values, sort=False)"
   ]
  },
  {
   "cell_type": "code",
   "execution_count": 8,
   "metadata": {},
   "outputs": [
    {
     "data": {
      "text/plain": [
       "0    685\n",
       "1    535\n",
       "dtype: int64"
      ]
     },
     "execution_count": 8,
     "metadata": {},
     "output_type": "execute_result"
    }
   ],
   "source": [
    "#(Copy Training Set) Train only on the rows that have an Exact Match or Homozygous Reference Label\n",
    "# The following lists the count of EM, HR, Inaccurate Match Labels\n",
    "pd.value_counts(df_train_2['Label'].values, sort=False)"
   ]
  },
  {
   "cell_type": "markdown",
   "metadata": {},
   "source": [
    "<a id='hom_ref'></a>"
   ]
  },
  {
   "cell_type": "code",
   "execution_count": 9,
   "metadata": {},
   "outputs": [
    {
     "data": {
      "text/plain": [
       "Homozygous_Reference    669\n",
       "Heterozygous_Variant    427\n",
       "Homozygous_Variant      124\n",
       "dtype: int64"
      ]
     },
     "execution_count": 9,
     "metadata": {},
     "output_type": "execute_result"
    }
   ],
   "source": [
    "# List the consensus GT count (generated from R script) within the training set. Reminder! This dataset only includes svanalyzer Exact Match and Homozygous Reference datapoints only\n",
    "pd.value_counts(df_train_2['GTcons'].values, sort=False)"
   ]
  },
  {
   "cell_type": "code",
   "execution_count": 10,
   "metadata": {},
   "outputs": [
    {
     "data": {
      "text/html": [
       "<div>\n",
       "<table border=\"1\" class=\"dataframe\">\n",
       "  <thead>\n",
       "    <tr style=\"text-align: right;\">\n",
       "      <th></th>\n",
       "      <th>chrom</th>\n",
       "      <th>id</th>\n",
       "      <th>sample</th>\n",
       "      <th>start</th>\n",
       "      <th>end</th>\n",
       "      <th>type</th>\n",
       "      <th>SVtype</th>\n",
       "      <th>Size</th>\n",
       "      <th>refN_cnt</th>\n",
       "      <th>refN_pct</th>\n",
       "      <th>...</th>\n",
       "      <th>IllMP.amb_reason_orientation_orientation</th>\n",
       "      <th>IllMP.amb_reason_same_scores</th>\n",
       "      <th>IllMP.ref_alnScore_mean</th>\n",
       "      <th>IllMP.ref_alnScore_std</th>\n",
       "      <th>IllMP.ref_count</th>\n",
       "      <th>IllMP.ref_insertSize_mean</th>\n",
       "      <th>IllMP.ref_insertSize_std</th>\n",
       "      <th>IllMP.ref_reason_alignmentScore</th>\n",
       "      <th>IllMP.ref_reason_insertSizeScore</th>\n",
       "      <th>IllMP.ref_reason_orientation</th>\n",
       "    </tr>\n",
       "  </thead>\n",
       "  <tbody>\n",
       "    <tr>\n",
       "      <th>0</th>\n",
       "      <td>4</td>\n",
       "      <td>1</td>\n",
       "      <td>HG002</td>\n",
       "      <td>95498964</td>\n",
       "      <td>95499280</td>\n",
       "      <td>Deletion</td>\n",
       "      <td>Deletion</td>\n",
       "      <td>-316</td>\n",
       "      <td>0</td>\n",
       "      <td>0</td>\n",
       "      <td>...</td>\n",
       "      <td>33.0</td>\n",
       "      <td>416.0</td>\n",
       "      <td>0.0</td>\n",
       "      <td>0.0</td>\n",
       "      <td>0.0</td>\n",
       "      <td>0.0</td>\n",
       "      <td>0.0</td>\n",
       "      <td>0.0</td>\n",
       "      <td>0.0</td>\n",
       "      <td>0.0</td>\n",
       "    </tr>\n",
       "  </tbody>\n",
       "</table>\n",
       "<p>1 rows × 49 columns</p>\n",
       "</div>"
      ],
      "text/plain": [
       "  chrom  id sample     start       end      type    SVtype  Size  refN_cnt  \\\n",
       "0     4   1  HG002  95498964  95499280  Deletion  Deletion  -316         0   \n",
       "\n",
       "   refN_pct              ...               \\\n",
       "0         0              ...                \n",
       "\n",
       "   IllMP.amb_reason_orientation_orientation  IllMP.amb_reason_same_scores  \\\n",
       "0                                      33.0                         416.0   \n",
       "\n",
       "   IllMP.ref_alnScore_mean  IllMP.ref_alnScore_std  IllMP.ref_count  \\\n",
       "0                      0.0                     0.0              0.0   \n",
       "\n",
       "   IllMP.ref_insertSize_mean  IllMP.ref_insertSize_std  \\\n",
       "0                        0.0                       0.0   \n",
       "\n",
       "   IllMP.ref_reason_alignmentScore  IllMP.ref_reason_insertSizeScore  \\\n",
       "0                              0.0                               0.0   \n",
       "\n",
       "   IllMP.ref_reason_orientation  \n",
       "0                           0.0  \n",
       "\n",
       "[1 rows x 49 columns]"
      ]
     },
     "execution_count": 10,
     "metadata": {},
     "output_type": "execute_result"
    }
   ],
   "source": [
    "# Import Test Data\n",
    "# SVanalyzer generated training data\n",
    "df_test = pd.read_csv('/Volumes/lesleydata/SVanalyzer_ML/Sept122017/Step3_ML/data/test/tech_sep/DEL/no_minus_one/IllMP_HG002_no-1_DEL.csv')\n",
    "df_test_2 = pd.read_csv('/Volumes/lesleydata/SVanalyzer_ML/Sept122017/Step3_ML/data/test/tech_sep/DEL/no_minus_one/IllMP_HG002_no-1_DEL.csv')\n",
    "df_test.rename(columns={'size': 'Size'}, inplace=True)\n",
    "df_test.head(1)"
   ]
  },
  {
   "cell_type": "code",
   "execution_count": 11,
   "metadata": {},
   "outputs": [
    {
     "data": {
      "text/plain": [
       "{'Label'}"
      ]
     },
     "execution_count": 11,
     "metadata": {},
     "output_type": "execute_result"
    }
   ],
   "source": [
    "# Store header names in lists and find names that are NOT contained in BOTH lists\n",
    "c = list(df_train.columns.values)\n",
    "d = list(df_test.columns.values)\n",
    "set(c) - set(d)"
   ]
  },
  {
   "cell_type": "code",
   "execution_count": 12,
   "metadata": {
    "collapsed": true
   },
   "outputs": [],
   "source": [
    "### Drop columns that are not shared by both dataframes\n",
    "df_train.drop(['Label'], axis=1, inplace = True)\n",
    "df_train.drop(['GTconflict'], axis=1, inplace = True)\n",
    "df_train.drop(['GTsupp'], axis=1, inplace = True)\n",
    "df_train.drop(['sample'], axis=1, inplace = True)\n",
    "df_train.drop(['SVtype'], axis=1, inplace = True)\n",
    "df_train.drop(['type'], axis=1, inplace = True)\n",
    "df_train.drop(['id'], axis=1, inplace = True)"
   ]
  },
  {
   "cell_type": "code",
   "execution_count": 13,
   "metadata": {},
   "outputs": [
    {
     "data": {
      "text/html": [
       "<div>\n",
       "<table border=\"1\" class=\"dataframe\">\n",
       "  <thead>\n",
       "    <tr style=\"text-align: right;\">\n",
       "      <th></th>\n",
       "      <th>chrom</th>\n",
       "      <th>start</th>\n",
       "      <th>end</th>\n",
       "      <th>Size</th>\n",
       "      <th>refN_cnt</th>\n",
       "      <th>refN_pct</th>\n",
       "      <th>segdup_cnt</th>\n",
       "      <th>segdup_pct</th>\n",
       "      <th>tandemrep_cnt</th>\n",
       "      <th>tandemrep_pct</th>\n",
       "      <th>...</th>\n",
       "      <th>IllMP.amb_reason_orientation_orientation</th>\n",
       "      <th>IllMP.amb_reason_same_scores</th>\n",
       "      <th>IllMP.ref_alnScore_mean</th>\n",
       "      <th>IllMP.ref_alnScore_std</th>\n",
       "      <th>IllMP.ref_count</th>\n",
       "      <th>IllMP.ref_insertSize_mean</th>\n",
       "      <th>IllMP.ref_insertSize_std</th>\n",
       "      <th>IllMP.ref_reason_alignmentScore</th>\n",
       "      <th>IllMP.ref_reason_insertSizeScore</th>\n",
       "      <th>IllMP.ref_reason_orientation</th>\n",
       "    </tr>\n",
       "  </thead>\n",
       "  <tbody>\n",
       "    <tr>\n",
       "      <th>0</th>\n",
       "      <td>1</td>\n",
       "      <td>109690878</td>\n",
       "      <td>109690918</td>\n",
       "      <td>-39</td>\n",
       "      <td>0</td>\n",
       "      <td>0</td>\n",
       "      <td>0</td>\n",
       "      <td>0.0</td>\n",
       "      <td>1</td>\n",
       "      <td>0.4</td>\n",
       "      <td>...</td>\n",
       "      <td>35.0</td>\n",
       "      <td>396.0</td>\n",
       "      <td>474.0</td>\n",
       "      <td>40.447497</td>\n",
       "      <td>4.0</td>\n",
       "      <td>7461.0</td>\n",
       "      <td>757.261514</td>\n",
       "      <td>3.0</td>\n",
       "      <td>0.0</td>\n",
       "      <td>1.0</td>\n",
       "    </tr>\n",
       "  </tbody>\n",
       "</table>\n",
       "<p>1 rows × 43 columns</p>\n",
       "</div>"
      ],
      "text/plain": [
       "  chrom      start        end  Size  refN_cnt  refN_pct  segdup_cnt  \\\n",
       "0     1  109690878  109690918   -39         0         0           0   \n",
       "\n",
       "   segdup_pct  tandemrep_cnt  tandemrep_pct              ...               \\\n",
       "0         0.0              1            0.4              ...                \n",
       "\n",
       "   IllMP.amb_reason_orientation_orientation  IllMP.amb_reason_same_scores  \\\n",
       "0                                      35.0                         396.0   \n",
       "\n",
       "   IllMP.ref_alnScore_mean  IllMP.ref_alnScore_std  IllMP.ref_count  \\\n",
       "0                    474.0               40.447497              4.0   \n",
       "\n",
       "   IllMP.ref_insertSize_mean  IllMP.ref_insertSize_std  \\\n",
       "0                     7461.0                757.261514   \n",
       "\n",
       "   IllMP.ref_reason_alignmentScore  IllMP.ref_reason_insertSizeScore  \\\n",
       "0                              3.0                               0.0   \n",
       "\n",
       "   IllMP.ref_reason_orientation  \n",
       "0                           1.0  \n",
       "\n",
       "[1 rows x 43 columns]"
      ]
     },
     "execution_count": 13,
     "metadata": {},
     "output_type": "execute_result"
    }
   ],
   "source": [
    "df_train.head(1)"
   ]
  },
  {
   "cell_type": "code",
   "execution_count": 14,
   "metadata": {
    "collapsed": true
   },
   "outputs": [],
   "source": [
    "df_train['chrom'].replace('X', 23, inplace=True)\n",
    "df_train['chrom'].replace('Y', 24, inplace=True)\n",
    "df_test['chrom'].replace('X', 23, inplace=True)\n",
    "df_test['chrom'].replace('Y', 24, inplace=True)"
   ]
  },
  {
   "cell_type": "code",
   "execution_count": 15,
   "metadata": {},
   "outputs": [
    {
     "data": {
      "text/plain": [
       "{'GTconflict', 'GTsupp', 'SVtype', 'id', 'sample', 'type'}"
      ]
     },
     "execution_count": 15,
     "metadata": {},
     "output_type": "execute_result"
    }
   ],
   "source": [
    "# Store header names in lists and find names that are NOT contained in BOTH lists\n",
    "c = list(df_train.columns.values)\n",
    "d = list(df_test.columns.values)\n",
    "set(d) - set(c)"
   ]
  },
  {
   "cell_type": "code",
   "execution_count": 16,
   "metadata": {
    "collapsed": true
   },
   "outputs": [],
   "source": [
    "### Drop columns that are not shared by both dataframes\n",
    "df_test.drop(['GTcons'], axis=1, inplace = True)\n",
    "df_test.drop(['GTconflict'], axis=1, inplace = True)\n",
    "df_test.drop(['GTsupp'], axis=1, inplace = True)\n",
    "df_test.drop(['sample'], axis=1, inplace = True)\n",
    "df_test.drop(['SVtype'], axis=1, inplace = True)\n",
    "df_test.drop(['type'], axis=1, inplace = True)\n",
    "df_test.drop(['id'], axis=1, inplace = True)"
   ]
  },
  {
   "cell_type": "markdown",
   "metadata": {},
   "source": [
    "***\n",
    "Impute missing values using KNN\n",
    "***"
   ]
  },
  {
   "cell_type": "code",
   "execution_count": 17,
   "metadata": {},
   "outputs": [
    {
     "data": {
      "text/html": [
       "<div>\n",
       "<table border=\"1\" class=\"dataframe\">\n",
       "  <thead>\n",
       "    <tr style=\"text-align: right;\">\n",
       "      <th></th>\n",
       "      <th>chrom</th>\n",
       "      <th>start</th>\n",
       "      <th>end</th>\n",
       "      <th>Size</th>\n",
       "      <th>refN_cnt</th>\n",
       "      <th>refN_pct</th>\n",
       "      <th>segdup_cnt</th>\n",
       "      <th>segdup_pct</th>\n",
       "      <th>tandemrep_cnt</th>\n",
       "      <th>tandemrep_pct</th>\n",
       "      <th>...</th>\n",
       "      <th>IllMP.amb_reason_orientation_orientation</th>\n",
       "      <th>IllMP.amb_reason_same_scores</th>\n",
       "      <th>IllMP.ref_alnScore_mean</th>\n",
       "      <th>IllMP.ref_alnScore_std</th>\n",
       "      <th>IllMP.ref_count</th>\n",
       "      <th>IllMP.ref_insertSize_mean</th>\n",
       "      <th>IllMP.ref_insertSize_std</th>\n",
       "      <th>IllMP.ref_reason_alignmentScore</th>\n",
       "      <th>IllMP.ref_reason_insertSizeScore</th>\n",
       "      <th>IllMP.ref_reason_orientation</th>\n",
       "    </tr>\n",
       "  </thead>\n",
       "  <tbody>\n",
       "    <tr>\n",
       "      <th>0</th>\n",
       "      <td>1</td>\n",
       "      <td>109690878</td>\n",
       "      <td>109690918</td>\n",
       "      <td>-39</td>\n",
       "      <td>0</td>\n",
       "      <td>0</td>\n",
       "      <td>0</td>\n",
       "      <td>0.000000</td>\n",
       "      <td>1</td>\n",
       "      <td>0.4</td>\n",
       "      <td>...</td>\n",
       "      <td>35.0</td>\n",
       "      <td>396.0</td>\n",
       "      <td>474.0</td>\n",
       "      <td>40.447497</td>\n",
       "      <td>4.0</td>\n",
       "      <td>7461.0</td>\n",
       "      <td>757.261514</td>\n",
       "      <td>3.0</td>\n",
       "      <td>0.0</td>\n",
       "      <td>1.0</td>\n",
       "    </tr>\n",
       "    <tr>\n",
       "      <th>1</th>\n",
       "      <td>1</td>\n",
       "      <td>1869280</td>\n",
       "      <td>1869312</td>\n",
       "      <td>-31</td>\n",
       "      <td>0</td>\n",
       "      <td>0</td>\n",
       "      <td>0</td>\n",
       "      <td>0.000000</td>\n",
       "      <td>0</td>\n",
       "      <td>0.0</td>\n",
       "      <td>...</td>\n",
       "      <td>35.0</td>\n",
       "      <td>247.0</td>\n",
       "      <td>430.5</td>\n",
       "      <td>78.171286</td>\n",
       "      <td>4.0</td>\n",
       "      <td>6522.0</td>\n",
       "      <td>1158.737028</td>\n",
       "      <td>4.0</td>\n",
       "      <td>0.0</td>\n",
       "      <td>0.0</td>\n",
       "    </tr>\n",
       "    <tr>\n",
       "      <th>2</th>\n",
       "      <td>1</td>\n",
       "      <td>2891239</td>\n",
       "      <td>2891284</td>\n",
       "      <td>-44</td>\n",
       "      <td>0</td>\n",
       "      <td>0</td>\n",
       "      <td>1</td>\n",
       "      <td>0.666667</td>\n",
       "      <td>1</td>\n",
       "      <td>1.0</td>\n",
       "      <td>...</td>\n",
       "      <td>31.0</td>\n",
       "      <td>268.0</td>\n",
       "      <td>430.0</td>\n",
       "      <td>0.000000</td>\n",
       "      <td>1.0</td>\n",
       "      <td>3114.0</td>\n",
       "      <td>0.000000</td>\n",
       "      <td>1.0</td>\n",
       "      <td>0.0</td>\n",
       "      <td>0.0</td>\n",
       "    </tr>\n",
       "  </tbody>\n",
       "</table>\n",
       "<p>3 rows × 43 columns</p>\n",
       "</div>"
      ],
      "text/plain": [
       "  chrom      start        end  Size  refN_cnt  refN_pct  segdup_cnt  \\\n",
       "0     1  109690878  109690918   -39         0         0           0   \n",
       "1     1    1869280    1869312   -31         0         0           0   \n",
       "2     1    2891239    2891284   -44         0         0           1   \n",
       "\n",
       "   segdup_pct  tandemrep_cnt  tandemrep_pct              ...               \\\n",
       "0    0.000000              1            0.4              ...                \n",
       "1    0.000000              0            0.0              ...                \n",
       "2    0.666667              1            1.0              ...                \n",
       "\n",
       "   IllMP.amb_reason_orientation_orientation  IllMP.amb_reason_same_scores  \\\n",
       "0                                      35.0                         396.0   \n",
       "1                                      35.0                         247.0   \n",
       "2                                      31.0                         268.0   \n",
       "\n",
       "   IllMP.ref_alnScore_mean  IllMP.ref_alnScore_std  IllMP.ref_count  \\\n",
       "0                    474.0               40.447497              4.0   \n",
       "1                    430.5               78.171286              4.0   \n",
       "2                    430.0                0.000000              1.0   \n",
       "\n",
       "   IllMP.ref_insertSize_mean  IllMP.ref_insertSize_std  \\\n",
       "0                     7461.0                757.261514   \n",
       "1                     6522.0               1158.737028   \n",
       "2                     3114.0                  0.000000   \n",
       "\n",
       "   IllMP.ref_reason_alignmentScore  IllMP.ref_reason_insertSizeScore  \\\n",
       "0                              3.0                               0.0   \n",
       "1                              4.0                               0.0   \n",
       "2                              1.0                               0.0   \n",
       "\n",
       "   IllMP.ref_reason_orientation  \n",
       "0                           1.0  \n",
       "1                           0.0  \n",
       "2                           0.0  \n",
       "\n",
       "[3 rows x 43 columns]"
      ]
     },
     "execution_count": 17,
     "metadata": {},
     "output_type": "execute_result"
    }
   ],
   "source": [
    "# Store training data in a new variable which will be converted to a matrix\n",
    "X = df_train\n",
    "X.head(3)"
   ]
  },
  {
   "cell_type": "code",
   "execution_count": 18,
   "metadata": {},
   "outputs": [
    {
     "name": "stdout",
     "output_type": "stream",
     "text": [
      "Imputing row 1/1220 with 1 missing, elapsed time: 0.470\n",
      "Imputing row 101/1220 with 1 missing, elapsed time: 0.523\n",
      "Imputing row 201/1220 with 1 missing, elapsed time: 0.526\n",
      "Imputing row 301/1220 with 1 missing, elapsed time: 0.528\n",
      "Imputing row 401/1220 with 1 missing, elapsed time: 0.530\n",
      "Imputing row 501/1220 with 1 missing, elapsed time: 0.533\n",
      "Imputing row 601/1220 with 1 missing, elapsed time: 0.536\n",
      "Imputing row 701/1220 with 1 missing, elapsed time: 0.539\n",
      "Imputing row 801/1220 with 1 missing, elapsed time: 0.541\n",
      "Imputing row 901/1220 with 1 missing, elapsed time: 0.543\n",
      "Imputing row 1001/1220 with 1 missing, elapsed time: 0.545\n",
      "Imputing row 1101/1220 with 1 missing, elapsed time: 0.548\n",
      "Imputing row 1201/1220 with 1 missing, elapsed time: 0.553\n",
      "[KNN] Warning: 1220/52460 still missing after imputation, replacing with 0\n"
     ]
    }
   ],
   "source": [
    "# Convert dataframe to matrix\n",
    "X=X.as_matrix()\n",
    "\n",
    "#Imput missing values from three closest observations\n",
    "X_imputed=KNN(k=3).complete(X)\n",
    "X=pd.DataFrame(X_imputed)"
   ]
  },
  {
   "cell_type": "code",
   "execution_count": 19,
   "metadata": {},
   "outputs": [
    {
     "data": {
      "text/html": [
       "<div>\n",
       "<table border=\"1\" class=\"dataframe\">\n",
       "  <thead>\n",
       "    <tr style=\"text-align: right;\">\n",
       "      <th></th>\n",
       "      <th>chrom</th>\n",
       "      <th>start</th>\n",
       "      <th>end</th>\n",
       "      <th>Size</th>\n",
       "      <th>refN_cnt</th>\n",
       "      <th>refN_pct</th>\n",
       "      <th>segdup_cnt</th>\n",
       "      <th>segdup_pct</th>\n",
       "      <th>tandemrep_cnt</th>\n",
       "      <th>tandemrep_pct</th>\n",
       "      <th>...</th>\n",
       "      <th>IllMP.amb_reason_orientation_orientation</th>\n",
       "      <th>IllMP.amb_reason_same_scores</th>\n",
       "      <th>IllMP.ref_alnScore_mean</th>\n",
       "      <th>IllMP.ref_alnScore_std</th>\n",
       "      <th>IllMP.ref_count</th>\n",
       "      <th>IllMP.ref_insertSize_mean</th>\n",
       "      <th>IllMP.ref_insertSize_std</th>\n",
       "      <th>IllMP.ref_reason_alignmentScore</th>\n",
       "      <th>IllMP.ref_reason_insertSizeScore</th>\n",
       "      <th>IllMP.ref_reason_orientation</th>\n",
       "    </tr>\n",
       "  </thead>\n",
       "  <tbody>\n",
       "    <tr>\n",
       "      <th>0</th>\n",
       "      <td>1.0</td>\n",
       "      <td>109690878.0</td>\n",
       "      <td>109690918.0</td>\n",
       "      <td>-39.0</td>\n",
       "      <td>0.0</td>\n",
       "      <td>0.0</td>\n",
       "      <td>0.0</td>\n",
       "      <td>0.000000</td>\n",
       "      <td>1.0</td>\n",
       "      <td>0.4</td>\n",
       "      <td>...</td>\n",
       "      <td>35.0</td>\n",
       "      <td>396.0</td>\n",
       "      <td>474.0</td>\n",
       "      <td>40.447497</td>\n",
       "      <td>4.0</td>\n",
       "      <td>7461.0</td>\n",
       "      <td>757.261514</td>\n",
       "      <td>3.0</td>\n",
       "      <td>0.0</td>\n",
       "      <td>1.0</td>\n",
       "    </tr>\n",
       "    <tr>\n",
       "      <th>1</th>\n",
       "      <td>1.0</td>\n",
       "      <td>1869280.0</td>\n",
       "      <td>1869312.0</td>\n",
       "      <td>-31.0</td>\n",
       "      <td>0.0</td>\n",
       "      <td>0.0</td>\n",
       "      <td>0.0</td>\n",
       "      <td>0.000000</td>\n",
       "      <td>0.0</td>\n",
       "      <td>0.0</td>\n",
       "      <td>...</td>\n",
       "      <td>35.0</td>\n",
       "      <td>247.0</td>\n",
       "      <td>430.5</td>\n",
       "      <td>78.171286</td>\n",
       "      <td>4.0</td>\n",
       "      <td>6522.0</td>\n",
       "      <td>1158.737028</td>\n",
       "      <td>4.0</td>\n",
       "      <td>0.0</td>\n",
       "      <td>0.0</td>\n",
       "    </tr>\n",
       "    <tr>\n",
       "      <th>2</th>\n",
       "      <td>1.0</td>\n",
       "      <td>2891239.0</td>\n",
       "      <td>2891284.0</td>\n",
       "      <td>-44.0</td>\n",
       "      <td>0.0</td>\n",
       "      <td>0.0</td>\n",
       "      <td>1.0</td>\n",
       "      <td>0.666667</td>\n",
       "      <td>1.0</td>\n",
       "      <td>1.0</td>\n",
       "      <td>...</td>\n",
       "      <td>31.0</td>\n",
       "      <td>268.0</td>\n",
       "      <td>430.0</td>\n",
       "      <td>0.000000</td>\n",
       "      <td>1.0</td>\n",
       "      <td>3114.0</td>\n",
       "      <td>0.000000</td>\n",
       "      <td>1.0</td>\n",
       "      <td>0.0</td>\n",
       "      <td>0.0</td>\n",
       "    </tr>\n",
       "  </tbody>\n",
       "</table>\n",
       "<p>3 rows × 43 columns</p>\n",
       "</div>"
      ],
      "text/plain": [
       "   chrom        start          end  Size  refN_cnt  refN_pct  segdup_cnt  \\\n",
       "0    1.0  109690878.0  109690918.0 -39.0       0.0       0.0         0.0   \n",
       "1    1.0    1869280.0    1869312.0 -31.0       0.0       0.0         0.0   \n",
       "2    1.0    2891239.0    2891284.0 -44.0       0.0       0.0         1.0   \n",
       "\n",
       "   segdup_pct  tandemrep_cnt  tandemrep_pct              ...               \\\n",
       "0    0.000000            1.0            0.4              ...                \n",
       "1    0.000000            0.0            0.0              ...                \n",
       "2    0.666667            1.0            1.0              ...                \n",
       "\n",
       "   IllMP.amb_reason_orientation_orientation  IllMP.amb_reason_same_scores  \\\n",
       "0                                      35.0                         396.0   \n",
       "1                                      35.0                         247.0   \n",
       "2                                      31.0                         268.0   \n",
       "\n",
       "   IllMP.ref_alnScore_mean  IllMP.ref_alnScore_std  IllMP.ref_count  \\\n",
       "0                    474.0               40.447497              4.0   \n",
       "1                    430.5               78.171286              4.0   \n",
       "2                    430.0                0.000000              1.0   \n",
       "\n",
       "   IllMP.ref_insertSize_mean  IllMP.ref_insertSize_std  \\\n",
       "0                     7461.0                757.261514   \n",
       "1                     6522.0               1158.737028   \n",
       "2                     3114.0                  0.000000   \n",
       "\n",
       "   IllMP.ref_reason_alignmentScore  IllMP.ref_reason_insertSizeScore  \\\n",
       "0                              3.0                               0.0   \n",
       "1                              4.0                               0.0   \n",
       "2                              1.0                               0.0   \n",
       "\n",
       "   IllMP.ref_reason_orientation  \n",
       "0                           1.0  \n",
       "1                           0.0  \n",
       "2                           0.0  \n",
       "\n",
       "[3 rows x 43 columns]"
      ]
     },
     "execution_count": 19,
     "metadata": {},
     "output_type": "execute_result"
    }
   ],
   "source": [
    "# Store header values in a list, will be used later to re-label the matrix post KNN imputation\n",
    "dftrain_header = list(df_train.columns.values)\n",
    "X.columns = dftrain_header\n",
    "X.head(3)"
   ]
  },
  {
   "cell_type": "code",
   "execution_count": 20,
   "metadata": {
    "collapsed": true
   },
   "outputs": [],
   "source": [
    "# Store Labels in a new 'Y' DataFrame\n",
    "Y = pd.DataFrame()\n",
    "Y['GTcons'] = X['GTcons']"
   ]
  },
  {
   "cell_type": "code",
   "execution_count": 21,
   "metadata": {},
   "outputs": [
    {
     "data": {
      "text/plain": [
       "1.0    427\n",
       "2.0    124\n",
       "0.0    669\n",
       "dtype: int64"
      ]
     },
     "execution_count": 21,
     "metadata": {},
     "output_type": "execute_result"
    }
   ],
   "source": [
    "#Count the number of labels\n",
    "pd.value_counts(Y['GTcons'].values, sort=False)"
   ]
  },
  {
   "cell_type": "code",
   "execution_count": 22,
   "metadata": {
    "collapsed": true
   },
   "outputs": [],
   "source": [
    "# Note: originally selected 1000 of each label --> find out why some are lost"
   ]
  },
  {
   "cell_type": "code",
   "execution_count": 23,
   "metadata": {
    "collapsed": true
   },
   "outputs": [],
   "source": [
    "# Remove labels from feature set\n",
    "X.drop(['GTcons'],axis=1, inplace = True)"
   ]
  },
  {
   "cell_type": "code",
   "execution_count": 24,
   "metadata": {
    "collapsed": true
   },
   "outputs": [],
   "source": [
    "# Order features\n",
    "X4 = X.reindex_axis(sorted(X.columns), axis=1)"
   ]
  },
  {
   "cell_type": "markdown",
   "metadata": {},
   "source": [
    "***\n",
    "Machine Learning\n",
    "***"
   ]
  },
  {
   "cell_type": "markdown",
   "metadata": {},
   "source": [
    "<a id='machine_learning'></a>"
   ]
  },
  {
   "cell_type": "markdown",
   "metadata": {},
   "source": [
    "Description:\n",
    "\n",
    "   * In the following section a random forest model will be trained on svanalyzer data.\n",
    "\n",
    "       * The model was trained using [train/test split](http://scikit-learn.org/0.16/modules/generated/sklearn.cross_validation.train_test_split.html) where 70% of the data was used to train the model and the model performance was determined by predicting labels for the remaining 30% of the data. The trained model will be used in a [later section](#predict) to predict the consensus GT for 5000 randomly selected deletions [these deletions were randomly selected from [union_170509_refalt.sort.vcf](ftp://ftp-trace.ncbi.nlm.nih.gov/giab/ftp/data/AshkenazimTrio/analysis/NIST_UnionSVs_05092017/)]\n",
    "       * In the following section, svanalyzer data was used to train a random forest (RF) model. The features for the svanalyzer dataset include: svviz features, GA4GH features [RefN, Segmental Duplications, Tandem Repeat], preliminary R script analysis [consensus GT, GTsup].\n",
    "       * The RF classifier will predict the consensus GT labels:\n",
    "           * Homozygous Reference (0)\n",
    "           * Heterozygous Variant (1)\n",
    "           * Homozygous Variant (2)\n",
    "       \n",
    "       * In the [following section](#prediction_step), the trained RF model will be used to predict labels for genotype labels for 5000 randomly selected deletions [these deletions were randomly selected from [union_170509_refalt.sort.vcf](ftp://ftp-trace.ncbi.nlm.nih.gov/giab/ftp/data/AshkenazimTrio/analysis/NIST_UnionSVs_05092017/)]. "
   ]
  },
  {
   "cell_type": "markdown",
   "metadata": {},
   "source": [
    "** Train Random Forest Classifier **"
   ]
  },
  {
   "cell_type": "markdown",
   "metadata": {},
   "source": [
    "<a id='train_test'></a>"
   ]
  },
  {
   "cell_type": "code",
   "execution_count": 25,
   "metadata": {
    "collapsed": true
   },
   "outputs": [],
   "source": [
    "# Train Test Split\n",
    "# Train on 70% of the data and test on 30%\n",
    "X_train, X_test, y_train, y_test = train_test_split(X4, Y, test_size=0.3, random_state=0)"
   ]
  },
  {
   "cell_type": "code",
   "execution_count": 26,
   "metadata": {
    "scrolled": false
   },
   "outputs": [
    {
     "name": "stderr",
     "output_type": "stream",
     "text": [
      "/Users/lmc2/anaconda/envs/NIHFAES/lib/python3.5/site-packages/ipykernel/__main__.py:4: DataConversionWarning:\n",
      "\n",
      "A column-vector y was passed when a 1d array was expected. Please change the shape of y to (n_samples,), for example using ravel().\n",
      "\n"
     ]
    },
    {
     "data": {
      "text/plain": [
       "RandomForestClassifier(bootstrap=True, class_weight=None, criterion='gini',\n",
       "            max_depth=None, max_features='auto', max_leaf_nodes=None,\n",
       "            min_impurity_split=1e-07, min_samples_leaf=1,\n",
       "            min_samples_split=2, min_weight_fraction_leaf=0.0,\n",
       "            n_estimators=10, n_jobs=1, oob_score=False, random_state=None,\n",
       "            verbose=0, warm_start=False)"
      ]
     },
     "execution_count": 26,
     "metadata": {},
     "output_type": "execute_result"
    }
   ],
   "source": [
    "# %%timeit\n",
    "# Train Random Forest Classifier\n",
    "model = RandomForestClassifier() \n",
    "model.fit(X_train, y_train)"
   ]
  },
  {
   "cell_type": "code",
   "execution_count": 27,
   "metadata": {},
   "outputs": [
    {
     "name": "stdout",
     "output_type": "stream",
     "text": [
      "Feature ranking:\n",
      "1. feature 6 (0.164144)\n",
      "2. feature 5 (0.125489)\n",
      "3. feature 1 (0.071469)\n",
      "4. feature 2 (0.062695)\n",
      "5. feature 4 (0.062175)\n",
      "6. feature 3 (0.050579)\n",
      "7. feature 29 (0.045121)\n",
      "8. feature 25 (0.042273)\n",
      "9. feature 27 (0.027044)\n",
      "10. feature 12 (0.026434)\n",
      "11. feature 23 (0.024298)\n",
      "12. feature 26 (0.023027)\n",
      "13. feature 16 (0.022921)\n",
      "14. feature 32 (0.022731)\n",
      "15. feature 14 (0.021484)\n",
      "16. feature 19 (0.021138)\n",
      "17. feature 10 (0.020633)\n",
      "18. feature 13 (0.019418)\n",
      "19. feature 11 (0.018874)\n",
      "20. feature 9 (0.018753)\n",
      "21. feature 24 (0.017298)\n",
      "22. feature 39 (0.016145)\n",
      "23. feature 28 (0.014631)\n",
      "24. feature 34 (0.014630)\n",
      "25. feature 22 (0.013456)\n",
      "26. feature 33 (0.011842)\n",
      "27. feature 41 (0.005567)\n",
      "28. feature 38 (0.004643)\n",
      "29. feature 20 (0.002764)\n",
      "30. feature 37 (0.002694)\n",
      "31. feature 40 (0.002067)\n",
      "32. feature 15 (0.001945)\n",
      "33. feature 30 (0.000991)\n",
      "34. feature 7 (0.000353)\n",
      "35. feature 0 (0.000273)\n",
      "36. feature 17 (0.000000)\n",
      "37. feature 18 (0.000000)\n",
      "38. feature 8 (0.000000)\n",
      "39. feature 21 (0.000000)\n",
      "40. feature 31 (0.000000)\n",
      "41. feature 35 (0.000000)\n",
      "42. feature 36 (0.000000)\n"
     ]
    }
   ],
   "source": [
    "# Feature Importance\n",
    "importances = model.feature_importances_\n",
    "indices = np.argsort(importances)[::-1]\n",
    "print(\"Feature ranking:\")\n",
    "\n",
    "for f in range(X_test.shape[1]):\n",
    "    print(\"%d. feature %d (%f)\" % (f + 1, indices[f], importances[indices[f]]))"
   ]
  },
  {
   "cell_type": "markdown",
   "metadata": {},
   "source": [
    "[Another Resource](https://stackoverflow.com/questions/37877542/how-to-label-the-feature-importance-with-forests-of-trees)"
   ]
  },
  {
   "cell_type": "code",
   "execution_count": 28,
   "metadata": {},
   "outputs": [
    {
     "name": "stderr",
     "output_type": "stream",
     "text": [
      "/Users/lmc2/anaconda/envs/NIHFAES/lib/python3.5/site-packages/ipykernel/__main__.py:3: FutureWarning:\n",
      "\n",
      "sort is deprecated, use sort_values(inplace=True) for INPLACE sorting\n",
      "\n"
     ]
    },
    {
     "data": {
      "text/plain": [
       "<matplotlib.axes._subplots.AxesSubplot at 0x117da9400>"
      ]
     },
     "execution_count": 28,
     "metadata": {},
     "output_type": "execute_result"
    },
    {
     "data": {
      "image/png": "[encoded data removed]",
      "text/plain": [
       "<matplotlib.figure.Figure at 0x115de44a8>"
      ]
     },
     "metadata": {},
     "output_type": "display_data"
    }
   ],
   "source": [
    "%matplotlib inline\n",
    "feature_importances = pd.Series(model.feature_importances_, index=X_test.columns)\n",
    "feature_importances.sort()\n",
    "feature_importances.plot.bar()"
   ]
  },
  {
   "cell_type": "code",
   "execution_count": 29,
   "metadata": {
    "collapsed": true
   },
   "outputs": [],
   "source": [
    "#TODO: Try training the model with the most important features and note difference in overal model prediction score"
   ]
  },
  {
   "cell_type": "code",
   "execution_count": 30,
   "metadata": {},
   "outputs": [
    {
     "data": {
      "text/plain": [
       "1.0    307\n",
       "2.0     84\n",
       "0.0    211\n",
       "dtype: int64"
      ]
     },
     "execution_count": 30,
     "metadata": {},
     "output_type": "execute_result"
    }
   ],
   "source": [
    "#NOTE: Training Set - Show number of Hom Ref, Hom Var, Het Var datapoints the model was trained on\n",
    "ytrain = pd.DataFrame()\n",
    "ytrain['ytrain'] = y_train\n",
    "pd.value_counts(ytrain['ytrain'].values, sort=False)"
   ]
  },
  {
   "cell_type": "markdown",
   "metadata": {},
   "source": [
    "<a id='prediction_step'></a>"
   ]
  },
  {
   "cell_type": "code",
   "execution_count": 31,
   "metadata": {},
   "outputs": [
    {
     "data": {
      "text/plain": [
       "array([ 0.,  0.,  1.,  1.,  0.,  0.,  0.,  1.,  0.,  0.,  1.,  1.,  0.,\n",
       "        0.,  1.,  0.,  1.,  0.,  0.,  0.,  0.,  2.,  1.,  0.,  2.,  1.,\n",
       "        2.,  0.,  0.,  0.,  0.,  1.,  0.,  0.,  0.,  1.,  0.,  0.,  0.,\n",
       "        1.,  1.,  1.,  1.,  0.,  0.,  1.,  0.,  2.,  1.,  1.,  1.,  0.,\n",
       "        0.,  0.,  0.,  0.,  0.,  0.,  0.,  1.,  0.,  1.,  0.,  0.,  0.,\n",
       "        0.,  0.,  1.,  2.,  1.,  1.,  0.,  1.,  0.,  0.,  0.,  0.,  0.,\n",
       "        1.,  1.,  0.,  0.,  1.,  0.,  1.,  1.,  1.,  0.,  0.,  1.,  0.,\n",
       "        0.,  0.,  0.,  1.,  1.,  0.,  0.,  1.,  0.,  0.,  0.,  1.,  1.,\n",
       "        0.,  1.,  0.,  0.,  1.,  0.,  0.,  1.,  0.,  0.,  0.,  0.,  0.,\n",
       "        0.,  0.,  2.,  1.,  0.,  0.,  0.,  2.,  1.,  0.,  0.,  0.,  1.,\n",
       "        1.,  0.,  1.,  1.,  0.,  1.,  0.,  0.,  1.,  0.,  0.,  0.,  1.,\n",
       "        1.,  0.,  0.,  1.,  1.,  1.,  0.,  0.,  1.,  1.,  0.,  0.,  0.,\n",
       "        0.,  0.,  0.,  1.,  0.,  0.,  0.,  1.,  1.,  1.,  0.,  0.,  0.,\n",
       "        1.,  1.,  0.,  2.,  0.,  0.,  0.,  0.,  1.,  1.,  0.,  1.,  1.,\n",
       "        0.,  0.,  0.,  0.,  2.,  0.,  0.,  0.,  1.,  0.,  1.,  0.,  0.,\n",
       "        1.,  0.,  1.,  0.,  1.,  1.,  1.,  2.,  1.,  1.,  1.,  1.,  1.,\n",
       "        0.,  0.,  1.,  0.,  0.,  0.,  1.,  1.,  0.,  0.,  1.,  1.,  0.,\n",
       "        0.,  1.,  1.,  0.,  0.,  1.,  1.,  0.,  0.,  0.,  0.,  1.,  1.,\n",
       "        1.,  0.,  0.,  0.,  0.,  0.,  0.,  0.,  1.,  0.,  0.,  0.,  0.,\n",
       "        0.,  1.,  1.,  1.,  0.,  1.,  0.,  0.,  1.,  0.,  1.,  0.,  1.,\n",
       "        1.,  0.,  2.,  0.,  0.,  0.,  0.,  0.,  0.,  0.,  0.,  1.,  0.,\n",
       "        0.,  0.,  1.,  0.,  1.,  0.,  1.,  0.,  0.,  1.,  0.,  0.,  0.,\n",
       "        0.,  1.,  0.,  0.,  0.,  0.,  1.,  0.,  1.,  1.,  0.,  0.,  0.,\n",
       "        0.,  1.,  0.,  1.,  1.,  0.,  0.,  0.,  1.,  1.,  1.,  0.,  1.,\n",
       "        1.,  0.,  0.,  1.,  0.,  1.,  0.,  0.,  0.,  0.,  1.,  2.,  0.,\n",
       "        0.,  1.,  0.,  0.,  1.,  0.,  1.,  1.,  0.,  0.,  0.,  0.,  0.,\n",
       "        0.,  0.,  1.,  1.,  0.,  1.,  1.,  0.,  0.,  1.,  0.,  0.,  0.,\n",
       "        1.,  0.,  1.,  1.,  0.,  0.,  2.,  0.,  0.,  0.,  0.,  0.,  0.,\n",
       "        1.,  0.])"
      ]
     },
     "execution_count": 31,
     "metadata": {},
     "output_type": "execute_result"
    }
   ],
   "source": [
    "model.predict(X_test)"
   ]
  },
  {
   "cell_type": "code",
   "execution_count": 32,
   "metadata": {
    "collapsed": true
   },
   "outputs": [],
   "source": [
    "pred = model.predict(X_test)"
   ]
  },
  {
   "cell_type": "code",
   "execution_count": 33,
   "metadata": {},
   "outputs": [
    {
     "name": "stdout",
     "output_type": "stream",
     "text": [
      "Precision score of the training subset: 0.792\n"
     ]
    }
   ],
   "source": [
    "print('Precision score of the training subset: {:.3f}'.format(precision_score(pred, y_test, average='micro'))) "
   ]
  },
  {
   "cell_type": "code",
   "execution_count": 34,
   "metadata": {},
   "outputs": [
    {
     "data": {
      "text/html": [
       "<div>\n",
       "<table border=\"1\" class=\"dataframe\">\n",
       "  <thead>\n",
       "    <tr style=\"text-align: right;\">\n",
       "      <th></th>\n",
       "      <th>IllMP.GT</th>\n",
       "      <th>IllMP.alt_alnScore_mean</th>\n",
       "      <th>IllMP.alt_alnScore_std</th>\n",
       "      <th>IllMP.alt_count</th>\n",
       "      <th>IllMP.alt_insertSize_mean</th>\n",
       "      <th>IllMP.alt_insertSize_std</th>\n",
       "      <th>IllMP.alt_reason_alignmentScore</th>\n",
       "      <th>IllMP.alt_reason_insertSizeScore</th>\n",
       "      <th>IllMP.alt_reason_orientation</th>\n",
       "      <th>IllMP.amb_alnScore_mean</th>\n",
       "      <th>...</th>\n",
       "      <th>Size</th>\n",
       "      <th>chrom</th>\n",
       "      <th>end</th>\n",
       "      <th>refN_cnt</th>\n",
       "      <th>refN_pct</th>\n",
       "      <th>segdup_cnt</th>\n",
       "      <th>segdup_pct</th>\n",
       "      <th>start</th>\n",
       "      <th>tandemrep_cnt</th>\n",
       "      <th>tandemrep_pct</th>\n",
       "    </tr>\n",
       "  </thead>\n",
       "  <tbody>\n",
       "    <tr>\n",
       "      <th>1145</th>\n",
       "      <td>0.0</td>\n",
       "      <td>392.000000</td>\n",
       "      <td>0.000000</td>\n",
       "      <td>1.0</td>\n",
       "      <td>13173.000000</td>\n",
       "      <td>0.000000</td>\n",
       "      <td>0.0</td>\n",
       "      <td>1.0</td>\n",
       "      <td>0.0</td>\n",
       "      <td>359.314826</td>\n",
       "      <td>...</td>\n",
       "      <td>-68.0</td>\n",
       "      <td>8.0</td>\n",
       "      <td>116491119.0</td>\n",
       "      <td>0.0</td>\n",
       "      <td>0.0</td>\n",
       "      <td>0.0</td>\n",
       "      <td>0.0</td>\n",
       "      <td>116491050.0</td>\n",
       "      <td>2.0</td>\n",
       "      <td>0.536232</td>\n",
       "    </tr>\n",
       "    <tr>\n",
       "      <th>991</th>\n",
       "      <td>-1.0</td>\n",
       "      <td>0.000000</td>\n",
       "      <td>0.000000</td>\n",
       "      <td>0.0</td>\n",
       "      <td>0.000000</td>\n",
       "      <td>0.000000</td>\n",
       "      <td>0.0</td>\n",
       "      <td>0.0</td>\n",
       "      <td>0.0</td>\n",
       "      <td>359.263347</td>\n",
       "      <td>...</td>\n",
       "      <td>-39.0</td>\n",
       "      <td>4.0</td>\n",
       "      <td>180249288.0</td>\n",
       "      <td>0.0</td>\n",
       "      <td>0.0</td>\n",
       "      <td>0.0</td>\n",
       "      <td>0.0</td>\n",
       "      <td>180249248.0</td>\n",
       "      <td>0.0</td>\n",
       "      <td>0.000000</td>\n",
       "    </tr>\n",
       "    <tr>\n",
       "      <th>478</th>\n",
       "      <td>-1.0</td>\n",
       "      <td>448.692308</td>\n",
       "      <td>65.973636</td>\n",
       "      <td>13.0</td>\n",
       "      <td>6747.615385</td>\n",
       "      <td>637.959914</td>\n",
       "      <td>13.0</td>\n",
       "      <td>0.0</td>\n",
       "      <td>0.0</td>\n",
       "      <td>360.493296</td>\n",
       "      <td>...</td>\n",
       "      <td>-31.0</td>\n",
       "      <td>8.0</td>\n",
       "      <td>36796498.0</td>\n",
       "      <td>0.0</td>\n",
       "      <td>0.0</td>\n",
       "      <td>0.0</td>\n",
       "      <td>0.0</td>\n",
       "      <td>36796466.0</td>\n",
       "      <td>1.0</td>\n",
       "      <td>1.000000</td>\n",
       "    </tr>\n",
       "    <tr>\n",
       "      <th>161</th>\n",
       "      <td>-1.0</td>\n",
       "      <td>463.000000</td>\n",
       "      <td>2.000000</td>\n",
       "      <td>2.0</td>\n",
       "      <td>5895.500000</td>\n",
       "      <td>0.500000</td>\n",
       "      <td>2.0</td>\n",
       "      <td>0.0</td>\n",
       "      <td>0.0</td>\n",
       "      <td>362.625928</td>\n",
       "      <td>...</td>\n",
       "      <td>-26.0</td>\n",
       "      <td>15.0</td>\n",
       "      <td>64569961.0</td>\n",
       "      <td>0.0</td>\n",
       "      <td>0.0</td>\n",
       "      <td>0.0</td>\n",
       "      <td>0.0</td>\n",
       "      <td>64569934.0</td>\n",
       "      <td>0.0</td>\n",
       "      <td>0.000000</td>\n",
       "    </tr>\n",
       "    <tr>\n",
       "      <th>1154</th>\n",
       "      <td>-1.0</td>\n",
       "      <td>0.000000</td>\n",
       "      <td>0.000000</td>\n",
       "      <td>0.0</td>\n",
       "      <td>0.000000</td>\n",
       "      <td>0.000000</td>\n",
       "      <td>0.0</td>\n",
       "      <td>0.0</td>\n",
       "      <td>0.0</td>\n",
       "      <td>351.444649</td>\n",
       "      <td>...</td>\n",
       "      <td>-22.0</td>\n",
       "      <td>9.0</td>\n",
       "      <td>28512612.0</td>\n",
       "      <td>0.0</td>\n",
       "      <td>0.0</td>\n",
       "      <td>0.0</td>\n",
       "      <td>0.0</td>\n",
       "      <td>28512589.0</td>\n",
       "      <td>1.0</td>\n",
       "      <td>1.000000</td>\n",
       "    </tr>\n",
       "  </tbody>\n",
       "</table>\n",
       "<p>5 rows × 42 columns</p>\n",
       "</div>"
      ],
      "text/plain": [
       "      IllMP.GT  IllMP.alt_alnScore_mean  IllMP.alt_alnScore_std  \\\n",
       "1145       0.0               392.000000                0.000000   \n",
       "991       -1.0                 0.000000                0.000000   \n",
       "478       -1.0               448.692308               65.973636   \n",
       "161       -1.0               463.000000                2.000000   \n",
       "1154      -1.0                 0.000000                0.000000   \n",
       "\n",
       "      IllMP.alt_count  IllMP.alt_insertSize_mean  IllMP.alt_insertSize_std  \\\n",
       "1145              1.0               13173.000000                  0.000000   \n",
       "991               0.0                   0.000000                  0.000000   \n",
       "478              13.0                6747.615385                637.959914   \n",
       "161               2.0                5895.500000                  0.500000   \n",
       "1154              0.0                   0.000000                  0.000000   \n",
       "\n",
       "      IllMP.alt_reason_alignmentScore  IllMP.alt_reason_insertSizeScore  \\\n",
       "1145                              0.0                               1.0   \n",
       "991                               0.0                               0.0   \n",
       "478                              13.0                               0.0   \n",
       "161                               2.0                               0.0   \n",
       "1154                              0.0                               0.0   \n",
       "\n",
       "      IllMP.alt_reason_orientation  IllMP.amb_alnScore_mean      ...        \\\n",
       "1145                           0.0               359.314826      ...         \n",
       "991                            0.0               359.263347      ...         \n",
       "478                            0.0               360.493296      ...         \n",
       "161                            0.0               362.625928      ...         \n",
       "1154                           0.0               351.444649      ...         \n",
       "\n",
       "      Size  chrom          end  refN_cnt  refN_pct  segdup_cnt  segdup_pct  \\\n",
       "1145 -68.0    8.0  116491119.0       0.0       0.0         0.0         0.0   \n",
       "991  -39.0    4.0  180249288.0       0.0       0.0         0.0         0.0   \n",
       "478  -31.0    8.0   36796498.0       0.0       0.0         0.0         0.0   \n",
       "161  -26.0   15.0   64569961.0       0.0       0.0         0.0         0.0   \n",
       "1154 -22.0    9.0   28512612.0       0.0       0.0         0.0         0.0   \n",
       "\n",
       "            start  tandemrep_cnt  tandemrep_pct  \n",
       "1145  116491050.0            2.0       0.536232  \n",
       "991   180249248.0            0.0       0.000000  \n",
       "478    36796466.0            1.0       1.000000  \n",
       "161    64569934.0            0.0       0.000000  \n",
       "1154   28512589.0            1.0       1.000000  \n",
       "\n",
       "[5 rows x 42 columns]"
      ]
     },
     "execution_count": 34,
     "metadata": {},
     "output_type": "execute_result"
    }
   ],
   "source": [
    "# Add original labels and predicted labels back to the original dataframe\n",
    "df_Xtest = pd.DataFrame(X_test)\n",
    "df_Xtest.head()"
   ]
  },
  {
   "cell_type": "code",
   "execution_count": 35,
   "metadata": {
    "collapsed": true
   },
   "outputs": [],
   "source": [
    "labels = pd.DataFrame(y_test)"
   ]
  },
  {
   "cell_type": "code",
   "execution_count": 36,
   "metadata": {
    "collapsed": true
   },
   "outputs": [],
   "source": [
    "df_Xtest['predicted_label'] = pred\n",
    "df_Xtest['GTcons'] = df_train['GTcons']\n",
    "df_Xtest['chrom'] = df_train['chrom']\n",
    "df_Xtest['start'] = df_train['start']\n",
    "df_Xtest['end'] = df_train['end']\n",
    "# df_Xtest['Y_test'] = labels"
   ]
  },
  {
   "cell_type": "code",
   "execution_count": 37,
   "metadata": {
    "collapsed": true
   },
   "outputs": [],
   "source": [
    "df_Xtest['GTcons'].replace(0.0, 'Homozygous_Reference', inplace=True)\n",
    "df_Xtest['GTcons'].replace(1.0, 'Heterozygous_Variant', inplace=True)\n",
    "df_Xtest['GTcons'].replace(2.0, 'Homozygous_Variant', inplace=True)\n",
    "df_Xtest['predicted_label'].replace(0.0, 'Homozygous_Reference', inplace=True)\n",
    "df_Xtest['predicted_label'].replace(1.0, 'Heterozygous_Variant', inplace=True)\n",
    "df_Xtest['predicted_label'].replace(2.0, 'Homozygous_Variant', inplace=True)"
   ]
  },
  {
   "cell_type": "code",
   "execution_count": 38,
   "metadata": {},
   "outputs": [
    {
     "data": {
      "text/plain": [
       "Homozygous_Reference    214\n",
       "Heterozygous_Variant    112\n",
       "Homozygous_Variant       40\n",
       "dtype: int64"
      ]
     },
     "execution_count": 38,
     "metadata": {},
     "output_type": "execute_result"
    }
   ],
   "source": [
    "pd.value_counts(df_Xtest['GTcons'].values, sort=False)"
   ]
  },
  {
   "cell_type": "code",
   "execution_count": 39,
   "metadata": {},
   "outputs": [
    {
     "data": {
      "text/plain": [
       "Homozygous_Reference    222\n",
       "Heterozygous_Variant    131\n",
       "Homozygous_Variant       13\n",
       "dtype: int64"
      ]
     },
     "execution_count": 39,
     "metadata": {},
     "output_type": "execute_result"
    }
   ],
   "source": [
    "pd.value_counts(df_Xtest['predicted_label'].values, sort=False)"
   ]
  },
  {
   "cell_type": "code",
   "execution_count": 40,
   "metadata": {},
   "outputs": [
    {
     "name": "stdout",
     "output_type": "stream",
     "text": [
      "[[ 86  15  11]\n",
      " [ 12 202   0]\n",
      " [ 33   5   2]]\n"
     ]
    }
   ],
   "source": [
    "from sklearn.metrics import confusion_matrix\n",
    "ytest = df_Xtest['GTcons']\n",
    "predict = df_Xtest['predicted_label']\n",
    "print(confusion_matrix(ytest, predict))"
   ]
  },
  {
   "cell_type": "code",
   "execution_count": 41,
   "metadata": {},
   "outputs": [
    {
     "data": {
      "text/html": [
       "<div>\n",
       "<table border=\"1\" class=\"dataframe\">\n",
       "  <thead>\n",
       "    <tr style=\"text-align: right;\">\n",
       "      <th>Predicted</th>\n",
       "      <th>Heterozygous_Variant</th>\n",
       "      <th>Homozygous_Reference</th>\n",
       "      <th>Homozygous_Variant</th>\n",
       "      <th>All</th>\n",
       "    </tr>\n",
       "    <tr>\n",
       "      <th>True</th>\n",
       "      <th></th>\n",
       "      <th></th>\n",
       "      <th></th>\n",
       "      <th></th>\n",
       "    </tr>\n",
       "  </thead>\n",
       "  <tbody>\n",
       "    <tr>\n",
       "      <th>Heterozygous_Variant</th>\n",
       "      <td>86</td>\n",
       "      <td>15</td>\n",
       "      <td>11</td>\n",
       "      <td>112</td>\n",
       "    </tr>\n",
       "    <tr>\n",
       "      <th>Homozygous_Reference</th>\n",
       "      <td>12</td>\n",
       "      <td>202</td>\n",
       "      <td>0</td>\n",
       "      <td>214</td>\n",
       "    </tr>\n",
       "    <tr>\n",
       "      <th>Homozygous_Variant</th>\n",
       "      <td>33</td>\n",
       "      <td>5</td>\n",
       "      <td>2</td>\n",
       "      <td>40</td>\n",
       "    </tr>\n",
       "    <tr>\n",
       "      <th>All</th>\n",
       "      <td>131</td>\n",
       "      <td>222</td>\n",
       "      <td>13</td>\n",
       "      <td>366</td>\n",
       "    </tr>\n",
       "  </tbody>\n",
       "</table>\n",
       "</div>"
      ],
      "text/plain": [
       "Predicted             Heterozygous_Variant  Homozygous_Reference  \\\n",
       "True                                                               \n",
       "Heterozygous_Variant                    86                    15   \n",
       "Homozygous_Reference                    12                   202   \n",
       "Homozygous_Variant                      33                     5   \n",
       "All                                    131                   222   \n",
       "\n",
       "Predicted             Homozygous_Variant  All  \n",
       "True                                           \n",
       "Heterozygous_Variant                  11  112  \n",
       "Homozygous_Reference                   0  214  \n",
       "Homozygous_Variant                     2   40  \n",
       "All                                   13  366  "
      ]
     },
     "execution_count": 41,
     "metadata": {},
     "output_type": "execute_result"
    }
   ],
   "source": [
    "pd.crosstab(ytest, predict, rownames=['True'], colnames=['Predicted'], margins=True)"
   ]
  },
  {
   "cell_type": "markdown",
   "metadata": {},
   "source": [
    "**Reminder:** The original training set only inlcuded 154 [homozygous variant](#hom_ref) examples"
   ]
  },
  {
   "cell_type": "code",
   "execution_count": 42,
   "metadata": {
    "scrolled": true
   },
   "outputs": [
    {
     "name": "stdout",
     "output_type": "stream",
     "text": [
      "                      precision    recall  f1-score   support\n",
      "\n",
      "Heterozygous_Variant       0.66      0.77      0.71       112\n",
      "Homozygous_Reference       0.91      0.94      0.93       214\n",
      "  Homozygous_Variant       0.15      0.05      0.08        40\n",
      "\n",
      "         avg / total       0.75      0.79      0.77       366\n",
      "\n"
     ]
    }
   ],
   "source": [
    "from sklearn.metrics import classification_report\n",
    "print(classification_report(ytest, predict))"
   ]
  },
  {
   "cell_type": "markdown",
   "metadata": {},
   "source": [
    "***\n",
    "Predict\n",
    "***"
   ]
  },
  {
   "cell_type": "markdown",
   "metadata": {},
   "source": [
    "<a id='predict'></a>"
   ]
  },
  {
   "cell_type": "markdown",
   "metadata": {},
   "source": [
    "Description:\n",
    "\n",
    "   * In the [previous section](#machine_learning), a RF model was trained on svanalyzer data.\n",
    "\n",
    "       * The model was trained using [train/test split](#train_test) where 70% of the data was used to train the model and the model performance was determined by predicting labels for the remaining 30% of the data\n",
    " * Reminder: The labels for this training set and the following [prediction step](#prediction_step) are the consensus genotype (GTcons) labels generated from a preliminary R analysis based on reference and alternate read count:\n",
    "           * Homozygous Reference (0)\n",
    "           * Heterozygous Variant (1)\n",
    "           * Homozygous Variant (2)\n",
    "           \n",
    "   * The trained model is used in the following section to predict labels for 5000 randomly selected Deletions [these datapoints were randomly selected from [union_170509_refalt.sort.vcf](ftp://ftp-trace.ncbi.nlm.nih.gov/giab/ftp/data/AshkenazimTrio/analysis/NIST_UnionSVs_05092017/)]\n",
    "   \n",
    "   "
   ]
  },
  {
   "cell_type": "markdown",
   "metadata": {},
   "source": [
    "** Load Data **"
   ]
  },
  {
   "cell_type": "code",
   "execution_count": 43,
   "metadata": {
    "collapsed": true
   },
   "outputs": [],
   "source": [
    "X2 = df_test"
   ]
  },
  {
   "cell_type": "markdown",
   "metadata": {},
   "source": [
    "** Impute missing values using KNN **"
   ]
  },
  {
   "cell_type": "code",
   "execution_count": 44,
   "metadata": {},
   "outputs": [
    {
     "name": "stdout",
     "output_type": "stream",
     "text": [
      "Imputing row 1/3504 with 1 missing, elapsed time: 3.809\n",
      "Imputing row 101/3504 with 1 missing, elapsed time: 3.815\n",
      "Imputing row 201/3504 with 1 missing, elapsed time: 3.822\n",
      "Imputing row 301/3504 with 1 missing, elapsed time: 3.830\n",
      "Imputing row 401/3504 with 2 missing, elapsed time: 3.839\n",
      "Imputing row 501/3504 with 1 missing, elapsed time: 3.845\n",
      "Imputing row 601/3504 with 1 missing, elapsed time: 3.853\n",
      "Imputing row 701/3504 with 1 missing, elapsed time: 3.860\n",
      "Imputing row 801/3504 with 2 missing, elapsed time: 3.868\n",
      "Imputing row 901/3504 with 1 missing, elapsed time: 3.877\n",
      "Imputing row 1001/3504 with 2 missing, elapsed time: 3.884\n",
      "Imputing row 1101/3504 with 2 missing, elapsed time: 3.893\n",
      "Imputing row 1201/3504 with 2 missing, elapsed time: 3.901\n",
      "Imputing row 1301/3504 with 1 missing, elapsed time: 3.910\n",
      "Imputing row 1401/3504 with 2 missing, elapsed time: 3.920\n",
      "Imputing row 1501/3504 with 1 missing, elapsed time: 3.928\n",
      "Imputing row 1601/3504 with 2 missing, elapsed time: 3.935\n",
      "Imputing row 1701/3504 with 2 missing, elapsed time: 3.943\n",
      "Imputing row 1801/3504 with 2 missing, elapsed time: 3.952\n",
      "Imputing row 1901/3504 with 1 missing, elapsed time: 3.959\n",
      "Imputing row 2001/3504 with 2 missing, elapsed time: 3.969\n",
      "Imputing row 2101/3504 with 2 missing, elapsed time: 3.978\n",
      "Imputing row 2201/3504 with 1 missing, elapsed time: 3.985\n",
      "Imputing row 2301/3504 with 1 missing, elapsed time: 3.994\n",
      "Imputing row 2401/3504 with 1 missing, elapsed time: 4.002\n",
      "Imputing row 2501/3504 with 2 missing, elapsed time: 4.011\n",
      "Imputing row 2601/3504 with 1 missing, elapsed time: 4.022\n",
      "Imputing row 2701/3504 with 2 missing, elapsed time: 4.030\n",
      "Imputing row 2801/3504 with 2 missing, elapsed time: 4.037\n",
      "Imputing row 2901/3504 with 2 missing, elapsed time: 4.044\n",
      "Imputing row 3001/3504 with 1 missing, elapsed time: 4.052\n",
      "Imputing row 3101/3504 with 1 missing, elapsed time: 4.059\n",
      "Imputing row 3201/3504 with 2 missing, elapsed time: 4.067\n",
      "Imputing row 3301/3504 with 1 missing, elapsed time: 4.076\n",
      "Imputing row 3401/3504 with 2 missing, elapsed time: 4.086\n",
      "Imputing row 3501/3504 with 2 missing, elapsed time: 4.093\n"
     ]
    }
   ],
   "source": [
    "#Convert dataframe to matrix\n",
    "X2=X2.as_matrix()\n",
    "\n",
    "#Imput missing values from three closest observations\n",
    "X2_imputed=KNN(k=3).complete(X2)\n",
    "X2=pd.DataFrame(X2_imputed)"
   ]
  },
  {
   "cell_type": "code",
   "execution_count": 45,
   "metadata": {},
   "outputs": [
    {
     "data": {
      "text/html": [
       "<div>\n",
       "<table border=\"1\" class=\"dataframe\">\n",
       "  <thead>\n",
       "    <tr style=\"text-align: right;\">\n",
       "      <th></th>\n",
       "      <th>chrom</th>\n",
       "      <th>start</th>\n",
       "      <th>end</th>\n",
       "      <th>Size</th>\n",
       "      <th>refN_cnt</th>\n",
       "      <th>refN_pct</th>\n",
       "      <th>segdup_cnt</th>\n",
       "      <th>segdup_pct</th>\n",
       "      <th>tandemrep_cnt</th>\n",
       "      <th>tandemrep_pct</th>\n",
       "      <th>...</th>\n",
       "      <th>IllMP.amb_reason_orientation_orientation</th>\n",
       "      <th>IllMP.amb_reason_same_scores</th>\n",
       "      <th>IllMP.ref_alnScore_mean</th>\n",
       "      <th>IllMP.ref_alnScore_std</th>\n",
       "      <th>IllMP.ref_count</th>\n",
       "      <th>IllMP.ref_insertSize_mean</th>\n",
       "      <th>IllMP.ref_insertSize_std</th>\n",
       "      <th>IllMP.ref_reason_alignmentScore</th>\n",
       "      <th>IllMP.ref_reason_insertSizeScore</th>\n",
       "      <th>IllMP.ref_reason_orientation</th>\n",
       "    </tr>\n",
       "  </thead>\n",
       "  <tbody>\n",
       "    <tr>\n",
       "      <th>0</th>\n",
       "      <td>4.0</td>\n",
       "      <td>95498964.0</td>\n",
       "      <td>95499280.0</td>\n",
       "      <td>-316.0</td>\n",
       "      <td>0.0</td>\n",
       "      <td>0.0</td>\n",
       "      <td>0.0</td>\n",
       "      <td>0.0</td>\n",
       "      <td>1.0</td>\n",
       "      <td>0.117089</td>\n",
       "      <td>...</td>\n",
       "      <td>33.0</td>\n",
       "      <td>416.0</td>\n",
       "      <td>0.000000</td>\n",
       "      <td>0.000000</td>\n",
       "      <td>0.0</td>\n",
       "      <td>0.000000</td>\n",
       "      <td>0.000000</td>\n",
       "      <td>0.0</td>\n",
       "      <td>0.0</td>\n",
       "      <td>0.0</td>\n",
       "    </tr>\n",
       "    <tr>\n",
       "      <th>1</th>\n",
       "      <td>19.0</td>\n",
       "      <td>14399929.0</td>\n",
       "      <td>14399954.0</td>\n",
       "      <td>-24.0</td>\n",
       "      <td>0.0</td>\n",
       "      <td>0.0</td>\n",
       "      <td>1.0</td>\n",
       "      <td>1.0</td>\n",
       "      <td>1.0</td>\n",
       "      <td>1.000000</td>\n",
       "      <td>...</td>\n",
       "      <td>33.0</td>\n",
       "      <td>349.0</td>\n",
       "      <td>454.500000</td>\n",
       "      <td>44.057349</td>\n",
       "      <td>10.0</td>\n",
       "      <td>6390.900000</td>\n",
       "      <td>1357.778071</td>\n",
       "      <td>10.0</td>\n",
       "      <td>0.0</td>\n",
       "      <td>0.0</td>\n",
       "    </tr>\n",
       "    <tr>\n",
       "      <th>2</th>\n",
       "      <td>8.0</td>\n",
       "      <td>76766532.0</td>\n",
       "      <td>76766569.0</td>\n",
       "      <td>-36.0</td>\n",
       "      <td>0.0</td>\n",
       "      <td>0.0</td>\n",
       "      <td>0.0</td>\n",
       "      <td>0.0</td>\n",
       "      <td>0.0</td>\n",
       "      <td>0.000000</td>\n",
       "      <td>...</td>\n",
       "      <td>41.0</td>\n",
       "      <td>405.0</td>\n",
       "      <td>417.857143</td>\n",
       "      <td>69.484692</td>\n",
       "      <td>7.0</td>\n",
       "      <td>6443.714286</td>\n",
       "      <td>1479.133309</td>\n",
       "      <td>7.0</td>\n",
       "      <td>0.0</td>\n",
       "      <td>0.0</td>\n",
       "    </tr>\n",
       "  </tbody>\n",
       "</table>\n",
       "<p>3 rows × 42 columns</p>\n",
       "</div>"
      ],
      "text/plain": [
       "   chrom       start         end   Size  refN_cnt  refN_pct  segdup_cnt  \\\n",
       "0    4.0  95498964.0  95499280.0 -316.0       0.0       0.0         0.0   \n",
       "1   19.0  14399929.0  14399954.0  -24.0       0.0       0.0         1.0   \n",
       "2    8.0  76766532.0  76766569.0  -36.0       0.0       0.0         0.0   \n",
       "\n",
       "   segdup_pct  tandemrep_cnt  tandemrep_pct              ...               \\\n",
       "0         0.0            1.0       0.117089              ...                \n",
       "1         1.0            1.0       1.000000              ...                \n",
       "2         0.0            0.0       0.000000              ...                \n",
       "\n",
       "   IllMP.amb_reason_orientation_orientation  IllMP.amb_reason_same_scores  \\\n",
       "0                                      33.0                         416.0   \n",
       "1                                      33.0                         349.0   \n",
       "2                                      41.0                         405.0   \n",
       "\n",
       "   IllMP.ref_alnScore_mean  IllMP.ref_alnScore_std  IllMP.ref_count  \\\n",
       "0                 0.000000                0.000000              0.0   \n",
       "1               454.500000               44.057349             10.0   \n",
       "2               417.857143               69.484692              7.0   \n",
       "\n",
       "   IllMP.ref_insertSize_mean  IllMP.ref_insertSize_std  \\\n",
       "0                   0.000000                  0.000000   \n",
       "1                6390.900000               1357.778071   \n",
       "2                6443.714286               1479.133309   \n",
       "\n",
       "   IllMP.ref_reason_alignmentScore  IllMP.ref_reason_insertSizeScore  \\\n",
       "0                              0.0                               0.0   \n",
       "1                             10.0                               0.0   \n",
       "2                              7.0                               0.0   \n",
       "\n",
       "   IllMP.ref_reason_orientation  \n",
       "0                           0.0  \n",
       "1                           0.0  \n",
       "2                           0.0  \n",
       "\n",
       "[3 rows x 42 columns]"
      ]
     },
     "execution_count": 45,
     "metadata": {},
     "output_type": "execute_result"
    }
   ],
   "source": [
    "dftest_header = list(df_test.columns.values)\n",
    "X2.columns = dftest_header\n",
    "X2.head(3)"
   ]
  },
  {
   "cell_type": "code",
   "execution_count": 46,
   "metadata": {},
   "outputs": [
    {
     "data": {
      "text/html": [
       "<div>\n",
       "<table border=\"1\" class=\"dataframe\">\n",
       "  <thead>\n",
       "    <tr style=\"text-align: right;\">\n",
       "      <th></th>\n",
       "      <th>chrom</th>\n",
       "      <th>start</th>\n",
       "      <th>end</th>\n",
       "      <th>Size</th>\n",
       "      <th>refN_cnt</th>\n",
       "      <th>refN_pct</th>\n",
       "      <th>segdup_cnt</th>\n",
       "      <th>segdup_pct</th>\n",
       "      <th>tandemrep_cnt</th>\n",
       "      <th>tandemrep_pct</th>\n",
       "      <th>...</th>\n",
       "      <th>IllMP.amb_reason_orientation_orientation</th>\n",
       "      <th>IllMP.amb_reason_same_scores</th>\n",
       "      <th>IllMP.ref_alnScore_mean</th>\n",
       "      <th>IllMP.ref_alnScore_std</th>\n",
       "      <th>IllMP.ref_count</th>\n",
       "      <th>IllMP.ref_insertSize_mean</th>\n",
       "      <th>IllMP.ref_insertSize_std</th>\n",
       "      <th>IllMP.ref_reason_alignmentScore</th>\n",
       "      <th>IllMP.ref_reason_insertSizeScore</th>\n",
       "      <th>IllMP.ref_reason_orientation</th>\n",
       "    </tr>\n",
       "  </thead>\n",
       "  <tbody>\n",
       "    <tr>\n",
       "      <th>0</th>\n",
       "      <td>4.0</td>\n",
       "      <td>95498964.0</td>\n",
       "      <td>95499280.0</td>\n",
       "      <td>-316.0</td>\n",
       "      <td>0.0</td>\n",
       "      <td>0.0</td>\n",
       "      <td>0.0</td>\n",
       "      <td>0.0</td>\n",
       "      <td>1.0</td>\n",
       "      <td>0.117089</td>\n",
       "      <td>...</td>\n",
       "      <td>33.0</td>\n",
       "      <td>416.0</td>\n",
       "      <td>0.000000</td>\n",
       "      <td>0.000000</td>\n",
       "      <td>0.0</td>\n",
       "      <td>0.000000</td>\n",
       "      <td>0.000000</td>\n",
       "      <td>0.0</td>\n",
       "      <td>0.0</td>\n",
       "      <td>0.0</td>\n",
       "    </tr>\n",
       "    <tr>\n",
       "      <th>1</th>\n",
       "      <td>19.0</td>\n",
       "      <td>14399929.0</td>\n",
       "      <td>14399954.0</td>\n",
       "      <td>-24.0</td>\n",
       "      <td>0.0</td>\n",
       "      <td>0.0</td>\n",
       "      <td>1.0</td>\n",
       "      <td>1.0</td>\n",
       "      <td>1.0</td>\n",
       "      <td>1.000000</td>\n",
       "      <td>...</td>\n",
       "      <td>33.0</td>\n",
       "      <td>349.0</td>\n",
       "      <td>454.500000</td>\n",
       "      <td>44.057349</td>\n",
       "      <td>10.0</td>\n",
       "      <td>6390.900000</td>\n",
       "      <td>1357.778071</td>\n",
       "      <td>10.0</td>\n",
       "      <td>0.0</td>\n",
       "      <td>0.0</td>\n",
       "    </tr>\n",
       "    <tr>\n",
       "      <th>2</th>\n",
       "      <td>8.0</td>\n",
       "      <td>76766532.0</td>\n",
       "      <td>76766569.0</td>\n",
       "      <td>-36.0</td>\n",
       "      <td>0.0</td>\n",
       "      <td>0.0</td>\n",
       "      <td>0.0</td>\n",
       "      <td>0.0</td>\n",
       "      <td>0.0</td>\n",
       "      <td>0.000000</td>\n",
       "      <td>...</td>\n",
       "      <td>41.0</td>\n",
       "      <td>405.0</td>\n",
       "      <td>417.857143</td>\n",
       "      <td>69.484692</td>\n",
       "      <td>7.0</td>\n",
       "      <td>6443.714286</td>\n",
       "      <td>1479.133309</td>\n",
       "      <td>7.0</td>\n",
       "      <td>0.0</td>\n",
       "      <td>0.0</td>\n",
       "    </tr>\n",
       "  </tbody>\n",
       "</table>\n",
       "<p>3 rows × 42 columns</p>\n",
       "</div>"
      ],
      "text/plain": [
       "   chrom       start         end   Size  refN_cnt  refN_pct  segdup_cnt  \\\n",
       "0    4.0  95498964.0  95499280.0 -316.0       0.0       0.0         0.0   \n",
       "1   19.0  14399929.0  14399954.0  -24.0       0.0       0.0         1.0   \n",
       "2    8.0  76766532.0  76766569.0  -36.0       0.0       0.0         0.0   \n",
       "\n",
       "   segdup_pct  tandemrep_cnt  tandemrep_pct              ...               \\\n",
       "0         0.0            1.0       0.117089              ...                \n",
       "1         1.0            1.0       1.000000              ...                \n",
       "2         0.0            0.0       0.000000              ...                \n",
       "\n",
       "   IllMP.amb_reason_orientation_orientation  IllMP.amb_reason_same_scores  \\\n",
       "0                                      33.0                         416.0   \n",
       "1                                      33.0                         349.0   \n",
       "2                                      41.0                         405.0   \n",
       "\n",
       "   IllMP.ref_alnScore_mean  IllMP.ref_alnScore_std  IllMP.ref_count  \\\n",
       "0                 0.000000                0.000000              0.0   \n",
       "1               454.500000               44.057349             10.0   \n",
       "2               417.857143               69.484692              7.0   \n",
       "\n",
       "   IllMP.ref_insertSize_mean  IllMP.ref_insertSize_std  \\\n",
       "0                   0.000000                  0.000000   \n",
       "1                6390.900000               1357.778071   \n",
       "2                6443.714286               1479.133309   \n",
       "\n",
       "   IllMP.ref_reason_alignmentScore  IllMP.ref_reason_insertSizeScore  \\\n",
       "0                              0.0                               0.0   \n",
       "1                             10.0                               0.0   \n",
       "2                              7.0                               0.0   \n",
       "\n",
       "   IllMP.ref_reason_orientation  \n",
       "0                           0.0  \n",
       "1                           0.0  \n",
       "2                           0.0  \n",
       "\n",
       "[3 rows x 42 columns]"
      ]
     },
     "execution_count": 46,
     "metadata": {},
     "output_type": "execute_result"
    }
   ],
   "source": [
    "X3 = pd.DataFrame()\n",
    "X3 = X2\n",
    "X3.head(3)"
   ]
  },
  {
   "cell_type": "code",
   "execution_count": 47,
   "metadata": {
    "collapsed": true
   },
   "outputs": [],
   "source": [
    "# Order features\n",
    "X5 = X2.reindex_axis(sorted(X2.columns), axis=1)"
   ]
  },
  {
   "cell_type": "code",
   "execution_count": 48,
   "metadata": {},
   "outputs": [
    {
     "data": {
      "text/plain": [
       "array([ 2.,  0.,  1., ...,  1.,  0.,  0.])"
      ]
     },
     "execution_count": 48,
     "metadata": {},
     "output_type": "execute_result"
    }
   ],
   "source": [
    "model.predict(X5)"
   ]
  },
  {
   "cell_type": "markdown",
   "metadata": {},
   "source": [
    "<a id='prediction_step'></a>"
   ]
  },
  {
   "cell_type": "code",
   "execution_count": 49,
   "metadata": {
    "collapsed": true
   },
   "outputs": [],
   "source": [
    "pred = model.predict(X5)"
   ]
  },
  {
   "cell_type": "code",
   "execution_count": 50,
   "metadata": {
    "collapsed": true
   },
   "outputs": [],
   "source": [
    "pred_prob = model.predict_proba(X5)"
   ]
  },
  {
   "cell_type": "code",
   "execution_count": 51,
   "metadata": {
    "collapsed": true
   },
   "outputs": [],
   "source": [
    "X5['predicted_label'] = pred\n",
    "X5['chrom'] = df_test_2['chrom']\n",
    "X5['start'] = df_test_2['start']\n",
    "X5['end'] = df_test_2['end']\n",
    "X5['Size'] = df_test_2['Size']\n",
    "X5['GTcons'] = df_test_2['GTcons']\n",
    "X5['GTsupp'] = df_test_2['GTsupp']"
   ]
  },
  {
   "cell_type": "code",
   "execution_count": 52,
   "metadata": {
    "collapsed": true
   },
   "outputs": [],
   "source": [
    "X6 = pd.concat([X5, pd.DataFrame(pred_prob, columns=['1','2','3'])])"
   ]
  },
  {
   "cell_type": "code",
   "execution_count": 53,
   "metadata": {
    "collapsed": true
   },
   "outputs": [],
   "source": [
    "X6.to_csv('MP_pred_prob_GTcons_DEL_SVanalyzer.csv', index=False)"
   ]
  },
  {
   "cell_type": "code",
   "execution_count": null,
   "metadata": {
    "collapsed": true
   },
   "outputs": [],
   "source": [
    "#Note: Reformat X6 csv"
   ]
  },
  {
   "cell_type": "code",
   "execution_count": 54,
   "metadata": {
    "collapsed": true
   },
   "outputs": [],
   "source": [
    "X6 = pd.read_csv('/Users/lmc2/NIST/Notebooks/SVanalyzer_ML/DEL/results/MP/MP_pred_prob_GTcons_DEL_SVanalyzer.csv')"
   ]
  },
  {
   "cell_type": "code",
   "execution_count": 55,
   "metadata": {
    "collapsed": true
   },
   "outputs": [],
   "source": [
    "X6.rename(columns={'1': 'Homozygous_Reference'}, inplace=True)\n",
    "X6.rename(columns={'2': 'Heterozygous_Variant'}, inplace=True)\n",
    "X6.rename(columns={'3': 'Homozygous_Variant'}, inplace=True)\n",
    "X6.rename(columns={'predicted_label': 'MP_predicted_label'}, inplace=True)"
   ]
  },
  {
   "cell_type": "code",
   "execution_count": 56,
   "metadata": {},
   "outputs": [
    {
     "data": {
      "text/html": [
       "<div>\n",
       "<table border=\"1\" class=\"dataframe\">\n",
       "  <thead>\n",
       "    <tr style=\"text-align: right;\">\n",
       "      <th></th>\n",
       "      <th>Homozygous_Reference</th>\n",
       "      <th>Heterozygous_Variant</th>\n",
       "      <th>Homozygous_Variant</th>\n",
       "      <th>GTcons</th>\n",
       "      <th>GTsupp</th>\n",
       "      <th>IllMP.GT</th>\n",
       "      <th>IllMP.alt_alnScore_mean</th>\n",
       "      <th>IllMP.alt_alnScore_std</th>\n",
       "      <th>IllMP.alt_count</th>\n",
       "      <th>IllMP.alt_insertSize_mean</th>\n",
       "      <th>...</th>\n",
       "      <th>chrom</th>\n",
       "      <th>end</th>\n",
       "      <th>MP_predicted_label</th>\n",
       "      <th>refN_cnt</th>\n",
       "      <th>refN_pct</th>\n",
       "      <th>segdup_cnt</th>\n",
       "      <th>segdup_pct</th>\n",
       "      <th>start</th>\n",
       "      <th>tandemrep_cnt</th>\n",
       "      <th>tandemrep_pct</th>\n",
       "    </tr>\n",
       "  </thead>\n",
       "  <tbody>\n",
       "    <tr>\n",
       "      <th>0</th>\n",
       "      <td>0.0</td>\n",
       "      <td>0.4</td>\n",
       "      <td>0.6</td>\n",
       "      <td>2</td>\n",
       "      <td>1</td>\n",
       "      <td>-1.0</td>\n",
       "      <td>424.928571</td>\n",
       "      <td>66.444890</td>\n",
       "      <td>14.0</td>\n",
       "      <td>7052.785714</td>\n",
       "      <td>...</td>\n",
       "      <td>4</td>\n",
       "      <td>95499280</td>\n",
       "      <td>2</td>\n",
       "      <td>0</td>\n",
       "      <td>0</td>\n",
       "      <td>0</td>\n",
       "      <td>0.0</td>\n",
       "      <td>95498964</td>\n",
       "      <td>1</td>\n",
       "      <td>0.117089</td>\n",
       "    </tr>\n",
       "    <tr>\n",
       "      <th>1</th>\n",
       "      <td>0.9</td>\n",
       "      <td>0.0</td>\n",
       "      <td>0.1</td>\n",
       "      <td>1</td>\n",
       "      <td>1</td>\n",
       "      <td>-1.0</td>\n",
       "      <td>0.000000</td>\n",
       "      <td>0.000000</td>\n",
       "      <td>0.0</td>\n",
       "      <td>0.000000</td>\n",
       "      <td>...</td>\n",
       "      <td>19</td>\n",
       "      <td>14399954</td>\n",
       "      <td>0</td>\n",
       "      <td>0</td>\n",
       "      <td>0</td>\n",
       "      <td>1</td>\n",
       "      <td>1.0</td>\n",
       "      <td>14399929</td>\n",
       "      <td>1</td>\n",
       "      <td>1.000000</td>\n",
       "    </tr>\n",
       "    <tr>\n",
       "      <th>2</th>\n",
       "      <td>0.0</td>\n",
       "      <td>0.8</td>\n",
       "      <td>0.2</td>\n",
       "      <td>1</td>\n",
       "      <td>2</td>\n",
       "      <td>-1.0</td>\n",
       "      <td>393.000000</td>\n",
       "      <td>67.091977</td>\n",
       "      <td>6.0</td>\n",
       "      <td>6575.166667</td>\n",
       "      <td>...</td>\n",
       "      <td>8</td>\n",
       "      <td>76766569</td>\n",
       "      <td>1</td>\n",
       "      <td>0</td>\n",
       "      <td>0</td>\n",
       "      <td>0</td>\n",
       "      <td>0.0</td>\n",
       "      <td>76766532</td>\n",
       "      <td>0</td>\n",
       "      <td>0.000000</td>\n",
       "    </tr>\n",
       "  </tbody>\n",
       "</table>\n",
       "<p>3 rows × 48 columns</p>\n",
       "</div>"
      ],
      "text/plain": [
       "   Homozygous_Reference  Heterozygous_Variant  Homozygous_Variant  GTcons  \\\n",
       "0                   0.0                   0.4                 0.6       2   \n",
       "1                   0.9                   0.0                 0.1       1   \n",
       "2                   0.0                   0.8                 0.2       1   \n",
       "\n",
       "   GTsupp  IllMP.GT  IllMP.alt_alnScore_mean  IllMP.alt_alnScore_std  \\\n",
       "0       1      -1.0               424.928571               66.444890   \n",
       "1       1      -1.0                 0.000000                0.000000   \n",
       "2       2      -1.0               393.000000               67.091977   \n",
       "\n",
       "   IllMP.alt_count  IllMP.alt_insertSize_mean      ...        chrom       end  \\\n",
       "0             14.0                7052.785714      ...            4  95499280   \n",
       "1              0.0                   0.000000      ...           19  14399954   \n",
       "2              6.0                6575.166667      ...            8  76766569   \n",
       "\n",
       "   MP_predicted_label  refN_cnt  refN_pct  segdup_cnt  segdup_pct     start  \\\n",
       "0                   2         0         0           0         0.0  95498964   \n",
       "1                   0         0         0           1         1.0  14399929   \n",
       "2                   1         0         0           0         0.0  76766532   \n",
       "\n",
       "   tandemrep_cnt  tandemrep_pct  \n",
       "0              1       0.117089  \n",
       "1              1       1.000000  \n",
       "2              0       0.000000  \n",
       "\n",
       "[3 rows x 48 columns]"
      ]
     },
     "execution_count": 56,
     "metadata": {},
     "output_type": "execute_result"
    }
   ],
   "source": [
    "X6.head(3)"
   ]
  },
  {
   "cell_type": "code",
   "execution_count": 57,
   "metadata": {
    "collapsed": true
   },
   "outputs": [],
   "source": [
    "X6.to_csv('/Volumes/lesleydata/SVanalyzer_ML/Sept122017/Step3_ML/results/MP_final_GTcons_df_DEL_SVanalyzer.csv', index=False)"
   ]
  },
  {
   "cell_type": "markdown",
   "metadata": {},
   "source": [
    "***\n",
    "Label Analysis\n",
    "***"
   ]
  },
  {
   "cell_type": "markdown",
   "metadata": {},
   "source": [
    "Description:\n",
    "  * The [random forest(RF) model](#train_test) was trained on svanalyzer data. The trained model was used to predict consensus GT labels for the 5000 deletions that were randomly selected from the union_refalt vcf. The following is a comparison of model predicted labels [Conesus GT] to consensus genotype generated by the R script for the 5000 randomly selected datapoints from union_refalt.vcf "
   ]
  },
  {
   "cell_type": "code",
   "execution_count": 58,
   "metadata": {},
   "outputs": [
    {
     "name": "stdout",
     "output_type": "stream",
     "text": [
      "[[ 823   84   14]\n",
      " [ 260 1581   71]\n",
      " [   8  573   90]]\n"
     ]
    }
   ],
   "source": [
    "from sklearn.metrics import confusion_matrix\n",
    "consensus_GT = X6['GTcons']\n",
    "predict = X6['MP_predicted_label']\n",
    "print(confusion_matrix(consensus_GT, predict))"
   ]
  },
  {
   "cell_type": "code",
   "execution_count": 59,
   "metadata": {
    "collapsed": true
   },
   "outputs": [],
   "source": [
    "X6['GTcons'].replace(0, 'Homozygous_Reference', inplace=True)\n",
    "X6['GTcons'].replace(1, 'Heterozygous_Variant', inplace=True)\n",
    "X6['GTcons'].replace(2, 'Homozygous_Variant', inplace=True)\n",
    "X6['MP_predicted_label'].replace(0.0, 'Homozygous_Reference', inplace=True)\n",
    "X6['MP_predicted_label'].replace(1.0, 'Heterozygous_Variant', inplace=True)\n",
    "X6['MP_predicted_label'].replace(2.0, 'Homozygous_Variant', inplace=True)"
   ]
  },
  {
   "cell_type": "code",
   "execution_count": 60,
   "metadata": {},
   "outputs": [
    {
     "data": {
      "text/html": [
       "<div>\n",
       "<table border=\"1\" class=\"dataframe\">\n",
       "  <thead>\n",
       "    <tr style=\"text-align: right;\">\n",
       "      <th>Predicted</th>\n",
       "      <th>Heterozygous_Variant</th>\n",
       "      <th>Homozygous_Reference</th>\n",
       "      <th>Homozygous_Variant</th>\n",
       "      <th>All</th>\n",
       "    </tr>\n",
       "    <tr>\n",
       "      <th>True</th>\n",
       "      <th></th>\n",
       "      <th></th>\n",
       "      <th></th>\n",
       "      <th></th>\n",
       "    </tr>\n",
       "  </thead>\n",
       "  <tbody>\n",
       "    <tr>\n",
       "      <th>Heterozygous_Variant</th>\n",
       "      <td>1581</td>\n",
       "      <td>260</td>\n",
       "      <td>71</td>\n",
       "      <td>1912</td>\n",
       "    </tr>\n",
       "    <tr>\n",
       "      <th>Homozygous_Reference</th>\n",
       "      <td>84</td>\n",
       "      <td>823</td>\n",
       "      <td>14</td>\n",
       "      <td>921</td>\n",
       "    </tr>\n",
       "    <tr>\n",
       "      <th>Homozygous_Variant</th>\n",
       "      <td>573</td>\n",
       "      <td>8</td>\n",
       "      <td>90</td>\n",
       "      <td>671</td>\n",
       "    </tr>\n",
       "    <tr>\n",
       "      <th>All</th>\n",
       "      <td>2238</td>\n",
       "      <td>1091</td>\n",
       "      <td>175</td>\n",
       "      <td>3504</td>\n",
       "    </tr>\n",
       "  </tbody>\n",
       "</table>\n",
       "</div>"
      ],
      "text/plain": [
       "Predicted             Heterozygous_Variant  Homozygous_Reference  \\\n",
       "True                                                               \n",
       "Heterozygous_Variant                  1581                   260   \n",
       "Homozygous_Reference                    84                   823   \n",
       "Homozygous_Variant                     573                     8   \n",
       "All                                   2238                  1091   \n",
       "\n",
       "Predicted             Homozygous_Variant   All  \n",
       "True                                            \n",
       "Heterozygous_Variant                  71  1912  \n",
       "Homozygous_Reference                  14   921  \n",
       "Homozygous_Variant                    90   671  \n",
       "All                                  175  3504  "
      ]
     },
     "execution_count": 60,
     "metadata": {},
     "output_type": "execute_result"
    }
   ],
   "source": [
    "pd.crosstab(consensus_GT, predict, rownames=['True'], colnames=['Predicted'], margins=True)"
   ]
  },
  {
   "cell_type": "code",
   "execution_count": 61,
   "metadata": {},
   "outputs": [
    {
     "name": "stdout",
     "output_type": "stream",
     "text": [
      "Precision score of the prediction subset: 0.712\n"
     ]
    }
   ],
   "source": [
    "print('Precision score of the prediction subset: {:.3f}'.format(precision_score(consensus_GT, predict, average='micro'))) "
   ]
  },
  {
   "cell_type": "markdown",
   "metadata": {},
   "source": [
    "** High Confidence Label Analysis**\n",
    "* **Reminder:** The labels predicted by the model are the following consensus genotype:\n",
    "    * Homozygous Reference: 0 \n",
    "    * Heterozygous Variant: 1 \n",
    "    * Homozygous Variant: 2 \n",
    "* Here **high confidence labels** are the labels predicted by the model that were also assigned a predict probability of either 0.9 or 1\n",
    "* The following is an analysis of predicted svanalyzer labels with predict probability >0.9"
   ]
  },
  {
   "cell_type": "code",
   "execution_count": 62,
   "metadata": {
    "collapsed": true
   },
   "outputs": [],
   "source": [
    "high_conf_labels = X6[(X6['Homozygous_Reference'] == 1) | (X6['Homozygous_Reference'] == 0.9) | (X6['Heterozygous_Variant'] == 1) | (X6['Heterozygous_Variant'] == 0.9) | (X6['Homozygous_Variant'] == 1) | (X6['Homozygous_Variant'] == 0.9)]\n"
   ]
  },
  {
   "cell_type": "code",
   "execution_count": 63,
   "metadata": {},
   "outputs": [
    {
     "data": {
      "text/html": [
       "<div>\n",
       "<table border=\"1\" class=\"dataframe\">\n",
       "  <thead>\n",
       "    <tr style=\"text-align: right;\">\n",
       "      <th>Predicted</th>\n",
       "      <th>Heterozygous_Variant</th>\n",
       "      <th>Homozygous_Reference</th>\n",
       "      <th>Homozygous_Variant</th>\n",
       "      <th>All</th>\n",
       "    </tr>\n",
       "    <tr>\n",
       "      <th>True</th>\n",
       "      <th></th>\n",
       "      <th></th>\n",
       "      <th></th>\n",
       "      <th></th>\n",
       "    </tr>\n",
       "  </thead>\n",
       "  <tbody>\n",
       "    <tr>\n",
       "      <th>Heterozygous_Variant</th>\n",
       "      <td>447</td>\n",
       "      <td>113</td>\n",
       "      <td>2</td>\n",
       "      <td>562</td>\n",
       "    </tr>\n",
       "    <tr>\n",
       "      <th>Homozygous_Reference</th>\n",
       "      <td>3</td>\n",
       "      <td>586</td>\n",
       "      <td>0</td>\n",
       "      <td>589</td>\n",
       "    </tr>\n",
       "    <tr>\n",
       "      <th>Homozygous_Variant</th>\n",
       "      <td>150</td>\n",
       "      <td>0</td>\n",
       "      <td>4</td>\n",
       "      <td>154</td>\n",
       "    </tr>\n",
       "    <tr>\n",
       "      <th>All</th>\n",
       "      <td>600</td>\n",
       "      <td>699</td>\n",
       "      <td>6</td>\n",
       "      <td>1305</td>\n",
       "    </tr>\n",
       "  </tbody>\n",
       "</table>\n",
       "</div>"
      ],
      "text/plain": [
       "Predicted             Heterozygous_Variant  Homozygous_Reference  \\\n",
       "True                                                               \n",
       "Heterozygous_Variant                   447                   113   \n",
       "Homozygous_Reference                     3                   586   \n",
       "Homozygous_Variant                     150                     0   \n",
       "All                                    600                   699   \n",
       "\n",
       "Predicted             Homozygous_Variant   All  \n",
       "True                                            \n",
       "Heterozygous_Variant                   2   562  \n",
       "Homozygous_Reference                   0   589  \n",
       "Homozygous_Variant                     4   154  \n",
       "All                                    6  1305  "
      ]
     },
     "execution_count": 63,
     "metadata": {},
     "output_type": "execute_result"
    }
   ],
   "source": [
    "consensus_GT = high_conf_labels['GTcons']\n",
    "predict = high_conf_labels['MP_predicted_label']\n",
    "pd.crosstab(consensus_GT, predict, rownames=['True'], colnames=['Predicted'], margins=True)"
   ]
  },
  {
   "cell_type": "markdown",
   "metadata": {},
   "source": [
    "**NOTE:** There are only 2 Homozygous Reference examples. This may stem from the model being trained on 154 Hom Var examples. Next step, choose a training set with more Hom_Var examples"
   ]
  },
  {
   "cell_type": "code",
   "execution_count": 64,
   "metadata": {},
   "outputs": [
    {
     "name": "stdout",
     "output_type": "stream",
     "text": [
      "                      precision    recall  f1-score   support\n",
      "\n",
      "Heterozygous_Variant       0.74      0.80      0.77       562\n",
      "Homozygous_Reference       0.84      0.99      0.91       589\n",
      "  Homozygous_Variant       0.67      0.03      0.05       154\n",
      "\n",
      "         avg / total       0.78      0.79      0.75      1305\n",
      "\n"
     ]
    }
   ],
   "source": [
    "from sklearn.metrics import classification_report\n",
    "print(classification_report(consensus_GT, predict))"
   ]
  },
  {
   "cell_type": "markdown",
   "metadata": {},
   "source": [
    "***\n",
    "Compare to crowdsourced results\n",
    "***"
   ]
  },
  {
   "cell_type": "markdown",
   "metadata": {},
   "source": [
    "#### MP: Crowdsourced (Crowdvariant) Results\n",
    "![Figure1](https://raw.githubusercontent.com/lesleymaraina/NIST/master/Notebooks/SVanalyzer_ML/DEL/images/MP_CrowdVar1.png)"
   ]
  },
  {
   "cell_type": "markdown",
   "metadata": {},
   "source": [
    "![Figure1](https://raw.githubusercontent.com/lesleymaraina/NIST/master/Notebooks/SVanalyzer_ML/DEL/images/MP_CrowdVar2.png)"
   ]
  },
  {
   "cell_type": "markdown",
   "metadata": {},
   "source": [
    "![Figure1](https://raw.githubusercontent.com/lesleymaraina/NIST/master/Notebooks/SVanalyzer_ML/DEL/images/MP_CrowdVar3.png)"
   ]
  },
  {
   "cell_type": "code",
   "execution_count": null,
   "metadata": {
    "collapsed": true
   },
   "outputs": [],
   "source": []
  }
 ],
 "metadata": {
  "kernelspec": {
   "display_name": "Python [NIHFAES]",
   "language": "python",
   "name": "Python [NIHFAES]"
  },
  "language_info": {
   "codemirror_mode": {
    "name": "ipython",
    "version": 3
   },
   "file_extension": ".py",
   "mimetype": "text/x-python",
   "name": "python",
   "nbconvert_exporter": "python",
   "pygments_lexer": "ipython3",
   "version": "3.5.2"
  }
 },
 "nbformat": 4,
 "nbformat_minor": 2
}
