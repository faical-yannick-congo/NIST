{
 "cells": [
  {
   "cell_type": "markdown",
   "metadata": {},
   "source": [
    "### MP: SVanalyzer\n",
    "\n",
    "* The following notebook is trained on data generated from revised R script [Oct 12 2017]\n",
    "    * Exact Match [1] and Homozygous [0] Reference data points\n",
    "    * Removed all data points with Gtcons and GTconswithoutXX -1\n",
    "* 5k randomly selected deletions test data was also processed through same R script\n",
    "* Balanced Training Set for GTcons labels:\n",
    "    * 194 Hom Var\n",
    "    * 200 Hom Ref\n",
    "    * 200 Het Var\n",
    "* **Train/Prediction Label:** EM, HR, IC"
   ]
  },
  {
   "cell_type": "code",
   "execution_count": 1,
   "metadata": {
    "collapsed": true
   },
   "outputs": [],
   "source": [
    "\"\"\"\n",
    "Imports\n",
    "\"\"\"\n",
    "import pandas as pd\n",
    "import numpy as np\n",
    "from fancyimpute import KNN\n",
    "import matplotlib.pyplot as plt\n",
    "from sklearn import preprocessing\n",
    "from sklearn.preprocessing import LabelEncoder\n",
    "from sklearn.model_selection import LeaveOneOut\n",
    "from scipy.stats import ks_2samp\n",
    "from scipy import stats\n",
    "from matplotlib import pyplot\n",
    "from scipy.linalg import svd\n",
    "from sklearn.decomposition import TruncatedSVD\n",
    "from sklearn.ensemble import RandomForestClassifier\n",
    "from sklearn.metrics import roc_auc_score\n",
    "from sklearn.manifold import TSNE\n",
    "from sklearn.decomposition import PCA as sklearnPCA\n",
    "import plotly.plotly as py\n",
    "from sklearn.cluster import DBSCAN\n",
    "from sklearn.model_selection import train_test_split\n",
    "from sklearn import metrics\n",
    "from sklearn.metrics import f1_score, precision_score\n",
    "from sklearn import preprocessing\n",
    "from ggplot import *\n",
    "from bokeh.models import HoverTool\n",
    "from bokeh.plotting import show\n",
    "from bokeh.charts import Scatter, Histogram, output_file, show\n",
    "from bokeh.plotting import figure, show, output_file, ColumnDataSource\n",
    "from bokeh.io import output_notebook\n",
    "from bokeh.charts import Bar, output_file, show\n",
    "import bokeh.palettes as palettes\n",
    "from bokeh.models import HoverTool, BoxSelectTool, Legend\n",
    "from sklearn import (manifold, datasets, decomposition, ensemble,\n",
    "                     discriminant_analysis, random_projection)"
   ]
  },
  {
   "cell_type": "code",
   "execution_count": 2,
   "metadata": {},
   "outputs": [
    {
     "data": {
      "text/html": [
       "<div>\n",
       "<table border=\"1\" class=\"dataframe\">\n",
       "  <thead>\n",
       "    <tr style=\"text-align: right;\">\n",
       "      <th></th>\n",
       "      <th>chrom</th>\n",
       "      <th>sample</th>\n",
       "      <th>id</th>\n",
       "      <th>start</th>\n",
       "      <th>end</th>\n",
       "      <th>Size</th>\n",
       "      <th>type</th>\n",
       "      <th>SVtype</th>\n",
       "      <th>refN_cnt</th>\n",
       "      <th>refN_pct</th>\n",
       "      <th>...</th>\n",
       "      <th>IllMP.amb_reason_orientation_orientation</th>\n",
       "      <th>IllMP.amb_reason_same_scores</th>\n",
       "      <th>IllMP.ref_alnScore_mean</th>\n",
       "      <th>IllMP.ref_alnScore_std</th>\n",
       "      <th>IllMP.ref_count</th>\n",
       "      <th>IllMP.ref_insertSize_mean</th>\n",
       "      <th>IllMP.ref_insertSize_std</th>\n",
       "      <th>IllMP.ref_reason_alignmentScore</th>\n",
       "      <th>IllMP.ref_reason_insertSizeScore</th>\n",
       "      <th>IllMP.ref_reason_orientation</th>\n",
       "    </tr>\n",
       "  </thead>\n",
       "  <tbody>\n",
       "    <tr>\n",
       "      <th>0</th>\n",
       "      <td>1</td>\n",
       "      <td>HG002</td>\n",
       "      <td>23</td>\n",
       "      <td>72766323</td>\n",
       "      <td>72811839</td>\n",
       "      <td>-45516</td>\n",
       "      <td>Deletion</td>\n",
       "      <td>Deletion</td>\n",
       "      <td>0</td>\n",
       "      <td>0</td>\n",
       "      <td>...</td>\n",
       "      <td>37.0</td>\n",
       "      <td>0.0</td>\n",
       "      <td>407.258016</td>\n",
       "      <td>75.825041</td>\n",
       "      <td>1341.0</td>\n",
       "      <td>6772.969426</td>\n",
       "      <td>1134.257283</td>\n",
       "      <td>1341.0</td>\n",
       "      <td>0.0</td>\n",
       "      <td>0.0</td>\n",
       "    </tr>\n",
       "  </tbody>\n",
       "</table>\n",
       "<p>1 rows × 51 columns</p>\n",
       "</div>"
      ],
      "text/plain": [
       "  chrom sample  id     start       end   Size      type    SVtype  refN_cnt  \\\n",
       "0     1  HG002  23  72766323  72811839 -45516  Deletion  Deletion         0   \n",
       "\n",
       "   refN_pct              ...               \\\n",
       "0         0              ...                \n",
       "\n",
       "   IllMP.amb_reason_orientation_orientation  IllMP.amb_reason_same_scores  \\\n",
       "0                                      37.0                           0.0   \n",
       "\n",
       "   IllMP.ref_alnScore_mean  IllMP.ref_alnScore_std  IllMP.ref_count  \\\n",
       "0               407.258016               75.825041           1341.0   \n",
       "\n",
       "   IllMP.ref_insertSize_mean  IllMP.ref_insertSize_std  \\\n",
       "0                6772.969426               1134.257283   \n",
       "\n",
       "   IllMP.ref_reason_alignmentScore  IllMP.ref_reason_insertSizeScore  \\\n",
       "0                           1341.0                               0.0   \n",
       "\n",
       "   IllMP.ref_reason_orientation  \n",
       "0                           0.0  \n",
       "\n",
       "[1 rows x 51 columns]"
      ]
     },
     "execution_count": 2,
     "metadata": {},
     "output_type": "execute_result"
    }
   ],
   "source": [
    "# Import Training Data\n",
    "# SVanalyzer generated training data\n",
    "df_train = pd.read_csv('/Volumes/lesleydata/SVanalyzer_ML/Oct122017_Revised_R/dataframes/training_data/tech_sep/HG002/DEL/MP_EM_HR_IC_HG002_DEL_min1.csv')\n",
    "df_train_2 = pd.read_csv('/Volumes/lesleydata/SVanalyzer_ML/Oct122017_Revised_R/dataframes/training_data/tech_sep/HG002/DEL/MP_EM_HR_IC_HG002_DEL_min1.csv')\n",
    "df_train.rename(columns={'size': 'Size'}, inplace=True)\n",
    "df_train.head(1)"
   ]
  },
  {
   "cell_type": "code",
   "execution_count": 3,
   "metadata": {},
   "outputs": [
    {
     "data": {
      "text/html": [
       "<div>\n",
       "<table border=\"1\" class=\"dataframe\">\n",
       "  <thead>\n",
       "    <tr style=\"text-align: right;\">\n",
       "      <th></th>\n",
       "      <th>chrom</th>\n",
       "      <th>sample</th>\n",
       "      <th>id</th>\n",
       "      <th>start</th>\n",
       "      <th>end</th>\n",
       "      <th>Size</th>\n",
       "      <th>type</th>\n",
       "      <th>SVtype</th>\n",
       "      <th>refN_cnt</th>\n",
       "      <th>refN_pct</th>\n",
       "      <th>...</th>\n",
       "      <th>IllMP.amb_reason_orientation_orientation</th>\n",
       "      <th>IllMP.amb_reason_same_scores</th>\n",
       "      <th>IllMP.ref_alnScore_mean</th>\n",
       "      <th>IllMP.ref_alnScore_std</th>\n",
       "      <th>IllMP.ref_count</th>\n",
       "      <th>IllMP.ref_insertSize_mean</th>\n",
       "      <th>IllMP.ref_insertSize_std</th>\n",
       "      <th>IllMP.ref_reason_alignmentScore</th>\n",
       "      <th>IllMP.ref_reason_insertSizeScore</th>\n",
       "      <th>IllMP.ref_reason_orientation</th>\n",
       "    </tr>\n",
       "  </thead>\n",
       "  <tbody>\n",
       "    <tr>\n",
       "      <th>0</th>\n",
       "      <td>1</td>\n",
       "      <td>HG002</td>\n",
       "      <td>859</td>\n",
       "      <td>37568322</td>\n",
       "      <td>37568587</td>\n",
       "      <td>-115</td>\n",
       "      <td>Insertion</td>\n",
       "      <td>Deletion</td>\n",
       "      <td>0</td>\n",
       "      <td>0</td>\n",
       "      <td>...</td>\n",
       "      <td>43.0</td>\n",
       "      <td>456.0</td>\n",
       "      <td>411.08</td>\n",
       "      <td>53.348604</td>\n",
       "      <td>25.0</td>\n",
       "      <td>6586.56</td>\n",
       "      <td>999.928961</td>\n",
       "      <td>15.0</td>\n",
       "      <td>0.0</td>\n",
       "      <td>10.0</td>\n",
       "    </tr>\n",
       "  </tbody>\n",
       "</table>\n",
       "<p>1 rows × 50 columns</p>\n",
       "</div>"
      ],
      "text/plain": [
       "  chrom sample   id     start       end  Size       type    SVtype  refN_cnt  \\\n",
       "0     1  HG002  859  37568322  37568587  -115  Insertion  Deletion         0   \n",
       "\n",
       "   refN_pct              ...               \\\n",
       "0         0              ...                \n",
       "\n",
       "   IllMP.amb_reason_orientation_orientation  IllMP.amb_reason_same_scores  \\\n",
       "0                                      43.0                         456.0   \n",
       "\n",
       "   IllMP.ref_alnScore_mean  IllMP.ref_alnScore_std  IllMP.ref_count  \\\n",
       "0                   411.08               53.348604             25.0   \n",
       "\n",
       "   IllMP.ref_insertSize_mean  IllMP.ref_insertSize_std  \\\n",
       "0                    6586.56                999.928961   \n",
       "\n",
       "   IllMP.ref_reason_alignmentScore  IllMP.ref_reason_insertSizeScore  \\\n",
       "0                             15.0                               0.0   \n",
       "\n",
       "   IllMP.ref_reason_orientation  \n",
       "0                          10.0  \n",
       "\n",
       "[1 rows x 50 columns]"
      ]
     },
     "execution_count": 3,
     "metadata": {},
     "output_type": "execute_result"
    }
   ],
   "source": [
    "# Import Test Data\n",
    "# SVanalyzer generated training data\n",
    "df_test = pd.read_csv('/Volumes/lesleydata/SVanalyzer_ML/Oct122017_Revised_R/dataframes/test/final_df/tech_sep/DEL/HG002/MP_HG002_DEL_min1.csv')\n",
    "df_test_2 = pd.read_csv('/Volumes/lesleydata/SVanalyzer_ML/Oct122017_Revised_R/dataframes/test/final_df/tech_sep/DEL/HG002/MP_HG002_DEL_min1.csv')\n",
    "df_test.rename(columns={'size': 'Size'}, inplace=True)\n",
    "df_test.head(1)"
   ]
  },
  {
   "cell_type": "code",
   "execution_count": 4,
   "metadata": {},
   "outputs": [
    {
     "data": {
      "text/plain": [
       "{'Label'}"
      ]
     },
     "execution_count": 4,
     "metadata": {},
     "output_type": "execute_result"
    }
   ],
   "source": [
    "# Store header names in lists and find names that are NOT contained in BOTH lists\n",
    "c = list(df_train.columns.values)\n",
    "d = list(df_test.columns.values)\n",
    "set(c) - set(d)"
   ]
  },
  {
   "cell_type": "code",
   "execution_count": 5,
   "metadata": {
    "collapsed": true
   },
   "outputs": [],
   "source": [
    "### Drop columns that are not shared by both dataframes\n",
    "df_train.drop(['GTconswithoutIllMP.GT'], axis=1, inplace = True)\n",
    "df_train.drop(['GTcons'], axis=1, inplace = True)\n",
    "df_train.drop(['GTconflict'], axis=1, inplace = True)\n",
    "df_train.drop(['GTsupp'], axis=1, inplace = True)\n",
    "df_train.drop(['sample'], axis=1, inplace = True)\n",
    "df_train.drop(['SVtype'], axis=1, inplace = True)\n",
    "df_train.drop(['type'], axis=1, inplace = True)\n",
    "df_train.drop(['id'], axis=1, inplace = True)"
   ]
  },
  {
   "cell_type": "code",
   "execution_count": 6,
   "metadata": {},
   "outputs": [
    {
     "data": {
      "text/html": [
       "<div>\n",
       "<table border=\"1\" class=\"dataframe\">\n",
       "  <thead>\n",
       "    <tr style=\"text-align: right;\">\n",
       "      <th></th>\n",
       "      <th>chrom</th>\n",
       "      <th>start</th>\n",
       "      <th>end</th>\n",
       "      <th>Size</th>\n",
       "      <th>refN_cnt</th>\n",
       "      <th>refN_pct</th>\n",
       "      <th>segdup_cnt</th>\n",
       "      <th>segdup_pct</th>\n",
       "      <th>tandemrep_cnt</th>\n",
       "      <th>tandemrep_pct</th>\n",
       "      <th>...</th>\n",
       "      <th>IllMP.amb_reason_orientation_orientation</th>\n",
       "      <th>IllMP.amb_reason_same_scores</th>\n",
       "      <th>IllMP.ref_alnScore_mean</th>\n",
       "      <th>IllMP.ref_alnScore_std</th>\n",
       "      <th>IllMP.ref_count</th>\n",
       "      <th>IllMP.ref_insertSize_mean</th>\n",
       "      <th>IllMP.ref_insertSize_std</th>\n",
       "      <th>IllMP.ref_reason_alignmentScore</th>\n",
       "      <th>IllMP.ref_reason_insertSizeScore</th>\n",
       "      <th>IllMP.ref_reason_orientation</th>\n",
       "    </tr>\n",
       "  </thead>\n",
       "  <tbody>\n",
       "    <tr>\n",
       "      <th>0</th>\n",
       "      <td>1</td>\n",
       "      <td>72766323</td>\n",
       "      <td>72811839</td>\n",
       "      <td>-45516</td>\n",
       "      <td>0</td>\n",
       "      <td>0</td>\n",
       "      <td>4</td>\n",
       "      <td>0.076523</td>\n",
       "      <td>110</td>\n",
       "      <td>0.059979</td>\n",
       "      <td>...</td>\n",
       "      <td>37.0</td>\n",
       "      <td>0.0</td>\n",
       "      <td>407.258016</td>\n",
       "      <td>75.825041</td>\n",
       "      <td>1341.0</td>\n",
       "      <td>6772.969426</td>\n",
       "      <td>1134.257283</td>\n",
       "      <td>1341.0</td>\n",
       "      <td>0.0</td>\n",
       "      <td>0.0</td>\n",
       "    </tr>\n",
       "  </tbody>\n",
       "</table>\n",
       "<p>1 rows × 43 columns</p>\n",
       "</div>"
      ],
      "text/plain": [
       "  chrom     start       end   Size  refN_cnt  refN_pct  segdup_cnt  \\\n",
       "0     1  72766323  72811839 -45516         0         0           4   \n",
       "\n",
       "   segdup_pct  tandemrep_cnt  tandemrep_pct              ...               \\\n",
       "0    0.076523            110       0.059979              ...                \n",
       "\n",
       "   IllMP.amb_reason_orientation_orientation  IllMP.amb_reason_same_scores  \\\n",
       "0                                      37.0                           0.0   \n",
       "\n",
       "   IllMP.ref_alnScore_mean  IllMP.ref_alnScore_std  IllMP.ref_count  \\\n",
       "0               407.258016               75.825041           1341.0   \n",
       "\n",
       "   IllMP.ref_insertSize_mean  IllMP.ref_insertSize_std  \\\n",
       "0                6772.969426               1134.257283   \n",
       "\n",
       "   IllMP.ref_reason_alignmentScore  IllMP.ref_reason_insertSizeScore  \\\n",
       "0                           1341.0                               0.0   \n",
       "\n",
       "   IllMP.ref_reason_orientation  \n",
       "0                           0.0  \n",
       "\n",
       "[1 rows x 43 columns]"
      ]
     },
     "execution_count": 6,
     "metadata": {},
     "output_type": "execute_result"
    }
   ],
   "source": [
    "df_train.head(1)"
   ]
  },
  {
   "cell_type": "code",
   "execution_count": 7,
   "metadata": {
    "collapsed": true
   },
   "outputs": [],
   "source": [
    "df_train['chrom'].replace('X', 23, inplace=True)\n",
    "df_train['chrom'].replace('Y', 24, inplace=True)\n",
    "df_test['chrom'].replace('X', 23, inplace=True)\n",
    "df_test['chrom'].replace('Y', 24, inplace=True)"
   ]
  },
  {
   "cell_type": "code",
   "execution_count": 8,
   "metadata": {},
   "outputs": [
    {
     "data": {
      "text/plain": [
       "{'GTconflict',\n",
       " 'GTcons',\n",
       " 'GTconswithoutIllMP.GT',\n",
       " 'GTsupp',\n",
       " 'SVtype',\n",
       " 'id',\n",
       " 'sample',\n",
       " 'type'}"
      ]
     },
     "execution_count": 8,
     "metadata": {},
     "output_type": "execute_result"
    }
   ],
   "source": [
    "# Store header names in lists and find names that are NOT contained in BOTH lists\n",
    "c = list(df_train.columns.values)\n",
    "d = list(df_test.columns.values)\n",
    "set(d) - set(c)"
   ]
  },
  {
   "cell_type": "code",
   "execution_count": 9,
   "metadata": {
    "collapsed": true
   },
   "outputs": [],
   "source": [
    "### Drop columns that are not shared by both dataframes\n",
    "df_test.drop(['GTconswithoutIllMP.GT'], axis=1, inplace = True)\n",
    "df_test.drop(['GTcons'], axis=1, inplace = True)\n",
    "df_test.drop(['GTconflict'], axis=1, inplace = True)\n",
    "df_test.drop(['GTsupp'], axis=1, inplace = True)\n",
    "df_test.drop(['sample'], axis=1, inplace = True)\n",
    "df_test.drop(['SVtype'], axis=1, inplace = True)\n",
    "df_test.drop(['type'], axis=1, inplace = True)\n",
    "df_test.drop(['id'], axis=1, inplace = True)"
   ]
  },
  {
   "cell_type": "markdown",
   "metadata": {},
   "source": [
    "***\n",
    "Impute missing values using KNN\n",
    "***"
   ]
  },
  {
   "cell_type": "code",
   "execution_count": 10,
   "metadata": {},
   "outputs": [
    {
     "data": {
      "text/html": [
       "<div>\n",
       "<table border=\"1\" class=\"dataframe\">\n",
       "  <thead>\n",
       "    <tr style=\"text-align: right;\">\n",
       "      <th></th>\n",
       "      <th>chrom</th>\n",
       "      <th>start</th>\n",
       "      <th>end</th>\n",
       "      <th>Size</th>\n",
       "      <th>refN_cnt</th>\n",
       "      <th>refN_pct</th>\n",
       "      <th>segdup_cnt</th>\n",
       "      <th>segdup_pct</th>\n",
       "      <th>tandemrep_cnt</th>\n",
       "      <th>tandemrep_pct</th>\n",
       "      <th>...</th>\n",
       "      <th>IllMP.amb_reason_orientation_orientation</th>\n",
       "      <th>IllMP.amb_reason_same_scores</th>\n",
       "      <th>IllMP.ref_alnScore_mean</th>\n",
       "      <th>IllMP.ref_alnScore_std</th>\n",
       "      <th>IllMP.ref_count</th>\n",
       "      <th>IllMP.ref_insertSize_mean</th>\n",
       "      <th>IllMP.ref_insertSize_std</th>\n",
       "      <th>IllMP.ref_reason_alignmentScore</th>\n",
       "      <th>IllMP.ref_reason_insertSizeScore</th>\n",
       "      <th>IllMP.ref_reason_orientation</th>\n",
       "    </tr>\n",
       "  </thead>\n",
       "  <tbody>\n",
       "    <tr>\n",
       "      <th>0</th>\n",
       "      <td>1</td>\n",
       "      <td>72766323</td>\n",
       "      <td>72811839</td>\n",
       "      <td>-45516</td>\n",
       "      <td>0</td>\n",
       "      <td>0</td>\n",
       "      <td>4</td>\n",
       "      <td>0.076523</td>\n",
       "      <td>110</td>\n",
       "      <td>0.059979</td>\n",
       "      <td>...</td>\n",
       "      <td>37.0</td>\n",
       "      <td>0.0</td>\n",
       "      <td>407.258016</td>\n",
       "      <td>75.825041</td>\n",
       "      <td>1341.0</td>\n",
       "      <td>6772.969426</td>\n",
       "      <td>1134.257283</td>\n",
       "      <td>1341.0</td>\n",
       "      <td>0.0</td>\n",
       "      <td>0.0</td>\n",
       "    </tr>\n",
       "    <tr>\n",
       "      <th>1</th>\n",
       "      <td>1</td>\n",
       "      <td>96139975</td>\n",
       "      <td>96142391</td>\n",
       "      <td>-2416</td>\n",
       "      <td>0</td>\n",
       "      <td>0</td>\n",
       "      <td>0</td>\n",
       "      <td>0.000000</td>\n",
       "      <td>2</td>\n",
       "      <td>0.014487</td>\n",
       "      <td>...</td>\n",
       "      <td>42.0</td>\n",
       "      <td>175.0</td>\n",
       "      <td>414.641177</td>\n",
       "      <td>73.834278</td>\n",
       "      <td>170.0</td>\n",
       "      <td>6312.523529</td>\n",
       "      <td>1009.050877</td>\n",
       "      <td>118.0</td>\n",
       "      <td>52.0</td>\n",
       "      <td>0.0</td>\n",
       "    </tr>\n",
       "    <tr>\n",
       "      <th>2</th>\n",
       "      <td>1</td>\n",
       "      <td>109690878</td>\n",
       "      <td>109690918</td>\n",
       "      <td>-39</td>\n",
       "      <td>0</td>\n",
       "      <td>0</td>\n",
       "      <td>0</td>\n",
       "      <td>0.000000</td>\n",
       "      <td>1</td>\n",
       "      <td>0.400000</td>\n",
       "      <td>...</td>\n",
       "      <td>35.0</td>\n",
       "      <td>396.0</td>\n",
       "      <td>474.000000</td>\n",
       "      <td>40.447497</td>\n",
       "      <td>4.0</td>\n",
       "      <td>7461.000000</td>\n",
       "      <td>757.261514</td>\n",
       "      <td>3.0</td>\n",
       "      <td>0.0</td>\n",
       "      <td>1.0</td>\n",
       "    </tr>\n",
       "  </tbody>\n",
       "</table>\n",
       "<p>3 rows × 43 columns</p>\n",
       "</div>"
      ],
      "text/plain": [
       "  chrom      start        end   Size  refN_cnt  refN_pct  segdup_cnt  \\\n",
       "0     1   72766323   72811839 -45516         0         0           4   \n",
       "1     1   96139975   96142391  -2416         0         0           0   \n",
       "2     1  109690878  109690918    -39         0         0           0   \n",
       "\n",
       "   segdup_pct  tandemrep_cnt  tandemrep_pct              ...               \\\n",
       "0    0.076523            110       0.059979              ...                \n",
       "1    0.000000              2       0.014487              ...                \n",
       "2    0.000000              1       0.400000              ...                \n",
       "\n",
       "   IllMP.amb_reason_orientation_orientation  IllMP.amb_reason_same_scores  \\\n",
       "0                                      37.0                           0.0   \n",
       "1                                      42.0                         175.0   \n",
       "2                                      35.0                         396.0   \n",
       "\n",
       "   IllMP.ref_alnScore_mean  IllMP.ref_alnScore_std  IllMP.ref_count  \\\n",
       "0               407.258016               75.825041           1341.0   \n",
       "1               414.641177               73.834278            170.0   \n",
       "2               474.000000               40.447497              4.0   \n",
       "\n",
       "   IllMP.ref_insertSize_mean  IllMP.ref_insertSize_std  \\\n",
       "0                6772.969426               1134.257283   \n",
       "1                6312.523529               1009.050877   \n",
       "2                7461.000000                757.261514   \n",
       "\n",
       "   IllMP.ref_reason_alignmentScore  IllMP.ref_reason_insertSizeScore  \\\n",
       "0                           1341.0                               0.0   \n",
       "1                            118.0                              52.0   \n",
       "2                              3.0                               0.0   \n",
       "\n",
       "   IllMP.ref_reason_orientation  \n",
       "0                           0.0  \n",
       "1                           0.0  \n",
       "2                           1.0  \n",
       "\n",
       "[3 rows x 43 columns]"
      ]
     },
     "execution_count": 10,
     "metadata": {},
     "output_type": "execute_result"
    }
   ],
   "source": [
    "# Store training data in a new variable which will be converted to a matrix\n",
    "X = df_train\n",
    "X.head(3)"
   ]
  },
  {
   "cell_type": "code",
   "execution_count": 11,
   "metadata": {},
   "outputs": [
    {
     "name": "stdout",
     "output_type": "stream",
     "text": [
      "Imputing row 1/2543 with 1 missing, elapsed time: 2.134\n",
      "Imputing row 101/2543 with 1 missing, elapsed time: 2.183\n",
      "Imputing row 201/2543 with 1 missing, elapsed time: 2.188\n",
      "Imputing row 301/2543 with 1 missing, elapsed time: 2.193\n",
      "Imputing row 401/2543 with 1 missing, elapsed time: 2.199\n",
      "Imputing row 501/2543 with 1 missing, elapsed time: 2.204\n",
      "Imputing row 601/2543 with 1 missing, elapsed time: 2.209\n",
      "Imputing row 701/2543 with 1 missing, elapsed time: 2.214\n",
      "Imputing row 801/2543 with 1 missing, elapsed time: 2.220\n",
      "Imputing row 901/2543 with 1 missing, elapsed time: 2.228\n",
      "Imputing row 1001/2543 with 1 missing, elapsed time: 2.234\n",
      "Imputing row 1101/2543 with 1 missing, elapsed time: 2.238\n",
      "Imputing row 1201/2543 with 1 missing, elapsed time: 2.245\n",
      "Imputing row 1301/2543 with 1 missing, elapsed time: 2.249\n",
      "Imputing row 1401/2543 with 1 missing, elapsed time: 2.255\n",
      "Imputing row 1501/2543 with 1 missing, elapsed time: 2.260\n",
      "Imputing row 1601/2543 with 1 missing, elapsed time: 2.265\n",
      "Imputing row 1701/2543 with 1 missing, elapsed time: 2.270\n",
      "Imputing row 1801/2543 with 0 missing, elapsed time: 2.279\n",
      "Imputing row 1901/2543 with 0 missing, elapsed time: 2.279\n",
      "Imputing row 2001/2543 with 0 missing, elapsed time: 2.280\n",
      "Imputing row 2101/2543 with 0 missing, elapsed time: 2.281\n",
      "Imputing row 2201/2543 with 0 missing, elapsed time: 2.282\n",
      "Imputing row 2301/2543 with 0 missing, elapsed time: 2.284\n",
      "Imputing row 2401/2543 with 0 missing, elapsed time: 2.285\n",
      "Imputing row 2501/2543 with 0 missing, elapsed time: 2.285\n"
     ]
    }
   ],
   "source": [
    "# Convert dataframe to matrix\n",
    "X=X.as_matrix()\n",
    "\n",
    "#Imput missing values from three closest observations\n",
    "X_imputed=KNN(k=3).complete(X)\n",
    "X=pd.DataFrame(X_imputed)"
   ]
  },
  {
   "cell_type": "code",
   "execution_count": 12,
   "metadata": {},
   "outputs": [
    {
     "data": {
      "text/html": [
       "<div>\n",
       "<table border=\"1\" class=\"dataframe\">\n",
       "  <thead>\n",
       "    <tr style=\"text-align: right;\">\n",
       "      <th></th>\n",
       "      <th>chrom</th>\n",
       "      <th>start</th>\n",
       "      <th>end</th>\n",
       "      <th>Size</th>\n",
       "      <th>refN_cnt</th>\n",
       "      <th>refN_pct</th>\n",
       "      <th>segdup_cnt</th>\n",
       "      <th>segdup_pct</th>\n",
       "      <th>tandemrep_cnt</th>\n",
       "      <th>tandemrep_pct</th>\n",
       "      <th>...</th>\n",
       "      <th>IllMP.amb_reason_orientation_orientation</th>\n",
       "      <th>IllMP.amb_reason_same_scores</th>\n",
       "      <th>IllMP.ref_alnScore_mean</th>\n",
       "      <th>IllMP.ref_alnScore_std</th>\n",
       "      <th>IllMP.ref_count</th>\n",
       "      <th>IllMP.ref_insertSize_mean</th>\n",
       "      <th>IllMP.ref_insertSize_std</th>\n",
       "      <th>IllMP.ref_reason_alignmentScore</th>\n",
       "      <th>IllMP.ref_reason_insertSizeScore</th>\n",
       "      <th>IllMP.ref_reason_orientation</th>\n",
       "    </tr>\n",
       "  </thead>\n",
       "  <tbody>\n",
       "    <tr>\n",
       "      <th>0</th>\n",
       "      <td>1.0</td>\n",
       "      <td>72766323.0</td>\n",
       "      <td>72811839.0</td>\n",
       "      <td>-45516.0</td>\n",
       "      <td>0.0</td>\n",
       "      <td>0.0</td>\n",
       "      <td>4.0</td>\n",
       "      <td>0.076523</td>\n",
       "      <td>110.0</td>\n",
       "      <td>0.059979</td>\n",
       "      <td>...</td>\n",
       "      <td>37.0</td>\n",
       "      <td>0.0</td>\n",
       "      <td>407.258016</td>\n",
       "      <td>75.825041</td>\n",
       "      <td>1341.0</td>\n",
       "      <td>6772.969426</td>\n",
       "      <td>1134.257283</td>\n",
       "      <td>1341.0</td>\n",
       "      <td>0.0</td>\n",
       "      <td>0.0</td>\n",
       "    </tr>\n",
       "    <tr>\n",
       "      <th>1</th>\n",
       "      <td>1.0</td>\n",
       "      <td>96139975.0</td>\n",
       "      <td>96142391.0</td>\n",
       "      <td>-2416.0</td>\n",
       "      <td>0.0</td>\n",
       "      <td>0.0</td>\n",
       "      <td>0.0</td>\n",
       "      <td>0.000000</td>\n",
       "      <td>2.0</td>\n",
       "      <td>0.014487</td>\n",
       "      <td>...</td>\n",
       "      <td>42.0</td>\n",
       "      <td>175.0</td>\n",
       "      <td>414.641177</td>\n",
       "      <td>73.834278</td>\n",
       "      <td>170.0</td>\n",
       "      <td>6312.523529</td>\n",
       "      <td>1009.050877</td>\n",
       "      <td>118.0</td>\n",
       "      <td>52.0</td>\n",
       "      <td>0.0</td>\n",
       "    </tr>\n",
       "    <tr>\n",
       "      <th>2</th>\n",
       "      <td>1.0</td>\n",
       "      <td>109690878.0</td>\n",
       "      <td>109690918.0</td>\n",
       "      <td>-39.0</td>\n",
       "      <td>0.0</td>\n",
       "      <td>0.0</td>\n",
       "      <td>0.0</td>\n",
       "      <td>0.000000</td>\n",
       "      <td>1.0</td>\n",
       "      <td>0.400000</td>\n",
       "      <td>...</td>\n",
       "      <td>35.0</td>\n",
       "      <td>396.0</td>\n",
       "      <td>474.000000</td>\n",
       "      <td>40.447497</td>\n",
       "      <td>4.0</td>\n",
       "      <td>7461.000000</td>\n",
       "      <td>757.261514</td>\n",
       "      <td>3.0</td>\n",
       "      <td>0.0</td>\n",
       "      <td>1.0</td>\n",
       "    </tr>\n",
       "  </tbody>\n",
       "</table>\n",
       "<p>3 rows × 43 columns</p>\n",
       "</div>"
      ],
      "text/plain": [
       "   chrom        start          end     Size  refN_cnt  refN_pct  segdup_cnt  \\\n",
       "0    1.0   72766323.0   72811839.0 -45516.0       0.0       0.0         4.0   \n",
       "1    1.0   96139975.0   96142391.0  -2416.0       0.0       0.0         0.0   \n",
       "2    1.0  109690878.0  109690918.0    -39.0       0.0       0.0         0.0   \n",
       "\n",
       "   segdup_pct  tandemrep_cnt  tandemrep_pct              ...               \\\n",
       "0    0.076523          110.0       0.059979              ...                \n",
       "1    0.000000            2.0       0.014487              ...                \n",
       "2    0.000000            1.0       0.400000              ...                \n",
       "\n",
       "   IllMP.amb_reason_orientation_orientation  IllMP.amb_reason_same_scores  \\\n",
       "0                                      37.0                           0.0   \n",
       "1                                      42.0                         175.0   \n",
       "2                                      35.0                         396.0   \n",
       "\n",
       "   IllMP.ref_alnScore_mean  IllMP.ref_alnScore_std  IllMP.ref_count  \\\n",
       "0               407.258016               75.825041           1341.0   \n",
       "1               414.641177               73.834278            170.0   \n",
       "2               474.000000               40.447497              4.0   \n",
       "\n",
       "   IllMP.ref_insertSize_mean  IllMP.ref_insertSize_std  \\\n",
       "0                6772.969426               1134.257283   \n",
       "1                6312.523529               1009.050877   \n",
       "2                7461.000000                757.261514   \n",
       "\n",
       "   IllMP.ref_reason_alignmentScore  IllMP.ref_reason_insertSizeScore  \\\n",
       "0                           1341.0                               0.0   \n",
       "1                            118.0                              52.0   \n",
       "2                              3.0                               0.0   \n",
       "\n",
       "   IllMP.ref_reason_orientation  \n",
       "0                           0.0  \n",
       "1                           0.0  \n",
       "2                           1.0  \n",
       "\n",
       "[3 rows x 43 columns]"
      ]
     },
     "execution_count": 12,
     "metadata": {},
     "output_type": "execute_result"
    }
   ],
   "source": [
    "# Store header values in a list, will be used later to re-label the matrix post KNN imputation\n",
    "dftrain_header = list(df_train.columns.values)\n",
    "X.columns = dftrain_header\n",
    "X.head(3)"
   ]
  },
  {
   "cell_type": "code",
   "execution_count": 13,
   "metadata": {
    "collapsed": true
   },
   "outputs": [],
   "source": [
    "# Store Labels in a new 'Y' DataFrame\n",
    "Y = pd.DataFrame()\n",
    "Y = X['Label']"
   ]
  },
  {
   "cell_type": "code",
   "execution_count": 14,
   "metadata": {},
   "outputs": [
    {
     "data": {
      "text/plain": [
       "1.0    823\n",
       "0.0    969\n",
       "2.0    751\n",
       "dtype: int64"
      ]
     },
     "execution_count": 14,
     "metadata": {},
     "output_type": "execute_result"
    }
   ],
   "source": [
    "#Count the number of labels\n",
    "pd.value_counts(Y.values, sort=False)"
   ]
  },
  {
   "cell_type": "code",
   "execution_count": 15,
   "metadata": {
    "collapsed": true
   },
   "outputs": [],
   "source": [
    "# Note: originally selected 1000 of each label --> find out why some are lost"
   ]
  },
  {
   "cell_type": "code",
   "execution_count": 16,
   "metadata": {
    "collapsed": true
   },
   "outputs": [],
   "source": [
    "# Remove labels from feature set\n",
    "X.drop(['Label'],axis=1, inplace = True)"
   ]
  },
  {
   "cell_type": "code",
   "execution_count": 17,
   "metadata": {
    "collapsed": true
   },
   "outputs": [],
   "source": [
    "# Order features\n",
    "X4 = X.reindex_axis(sorted(X.columns), axis=1)"
   ]
  },
  {
   "cell_type": "markdown",
   "metadata": {},
   "source": [
    "***\n",
    "Machine Learning\n",
    "***\n",
    "\n",
    "<a id='machine_learning'></a>"
   ]
  },
  {
   "cell_type": "markdown",
   "metadata": {},
   "source": [
    "Description:\n",
    "\n",
    "   * In the following section a random forest model will be trained on svanalyzer data.\n",
    "   **FYI**: [see description below of the SVanalyzer data](#svan_1)\n",
    "       * The model was trained using [train/test split](http://scikit-learn.org/0.16/modules/generated/sklearn.cross_validation.train_test_split.html) where 70% of the data was used to train the model and the model performance was determined by predicting labels for the remaining 30% of the data\n",
    "       * Reminder: The labels for this training set and the following [prediction step](#prediction_step) are:\n",
    "           * Exact Match (1)\n",
    "           * Homozygous Reference (0)\n",
    "           * Inaccurate Call (2)\n",
    "           \n",
    "   * The trained model will be used to predict labels for 5000 randomly selected deletions [these datapoints were randomly selected from [union_170509_refalt.sort.vcf](ftp://ftp-trace.ncbi.nlm.nih.gov/giab/ftp/data/AshkenazimTrio/analysis/NIST_UnionSVs_05092017/)]\n",
    "   \n",
    "   "
   ]
  },
  {
   "cell_type": "markdown",
   "metadata": {},
   "source": [
    "<a id='svan_1'></a>\n",
    "* **Reminder - SVanalyzer data description:** \n",
    "     * **1000 Exact Match**: 1000 datapoints were randomly selected from the following [svanalyzer_union_170509_v0.3.0b.vcf](ftp://ftp-trace.ncbi.nlm.nih.gov/giab/ftp/data/AshkenazimTrio/analysis/NIST_UnionSVs_05092017/Preliminary_Integrations_v0.3.0/)\n",
    "     * **1000 Homozygous Reference**: 1000 datapoints were randomly selected from the following [svanalyzer_union_170509_v0.3.0b.vcf](ftp://ftp-trace.ncbi.nlm.nih.gov/giab/ftp/data/AshkenazimTrio/analysis/NIST_UnionSVs_05092017/Preliminary_Integrations_v0.3.0/)\n",
    "     * **1000 Inaccurate Calls**: 1000 datapoints were randomly selected from the following\n",
    "[svanalyzer_union_170509_refalt.2.2.2.clustered.uniquecalls.vcf](ftp://ftp-trace.ncbi.nlm.nih.gov/giab/ftp/data/AshkenazimTrio/analysis/NIST_UnionSVs_05092017/Preliminary_Integrations_v0.3.0/)\n",
    "   \n",
    "   * Source of Features: svviz, GA4GH [tandem repeat, segmental duplications, refN], R analysis [consensus genotype, GTsup]   \n",
    "    "
   ]
  },
  {
   "cell_type": "markdown",
   "metadata": {},
   "source": [
    "** Train Random Forest Classifier **"
   ]
  },
  {
   "cell_type": "markdown",
   "metadata": {},
   "source": [
    "<a id='train_test'></a>"
   ]
  },
  {
   "cell_type": "code",
   "execution_count": 18,
   "metadata": {
    "collapsed": true
   },
   "outputs": [],
   "source": [
    "# Train Test Split\n",
    "# Train on 70% of the data and test on 30%\n",
    "X_train, X_test, y_train, y_test = train_test_split(X4, Y, test_size=0.3, random_state=0)"
   ]
  },
  {
   "cell_type": "code",
   "execution_count": 19,
   "metadata": {},
   "outputs": [
    {
     "data": {
      "text/plain": [
       "RandomForestClassifier(bootstrap=True, class_weight=None, criterion='gini',\n",
       "            max_depth=None, max_features='auto', max_leaf_nodes=None,\n",
       "            min_impurity_split=1e-07, min_samples_leaf=1,\n",
       "            min_samples_split=2, min_weight_fraction_leaf=0.0,\n",
       "            n_estimators=10, n_jobs=1, oob_score=False, random_state=None,\n",
       "            verbose=0, warm_start=False)"
      ]
     },
     "execution_count": 19,
     "metadata": {},
     "output_type": "execute_result"
    }
   ],
   "source": [
    "# Train Random Forest Classifier\n",
    "model = RandomForestClassifier() \n",
    "model.fit(X_train, y_train)"
   ]
  },
  {
   "cell_type": "code",
   "execution_count": 20,
   "metadata": {},
   "outputs": [
    {
     "name": "stdout",
     "output_type": "stream",
     "text": [
      "Feature ranking:\n",
      "1. feature 1 (0.077074)\n",
      "2. feature 4 (0.075893)\n",
      "3. feature 6 (0.074073)\n",
      "4. feature 32 (0.061519)\n",
      "5. feature 2 (0.049015)\n",
      "6. feature 26 (0.039482)\n",
      "7. feature 24 (0.037929)\n",
      "8. feature 16 (0.034142)\n",
      "9. feature 23 (0.033932)\n",
      "10. feature 29 (0.031744)\n",
      "11. feature 19 (0.029650)\n",
      "12. feature 14 (0.029636)\n",
      "13. feature 12 (0.029328)\n",
      "14. feature 9 (0.028103)\n",
      "15. feature 13 (0.027564)\n",
      "16. feature 11 (0.027159)\n",
      "17. feature 25 (0.026428)\n",
      "18. feature 39 (0.026114)\n",
      "19. feature 34 (0.025843)\n",
      "20. feature 27 (0.025782)\n",
      "21. feature 10 (0.024531)\n",
      "22. feature 28 (0.022874)\n",
      "23. feature 41 (0.022776)\n",
      "24. feature 22 (0.021350)\n",
      "25. feature 5 (0.018922)\n",
      "26. feature 40 (0.018538)\n",
      "27. feature 33 (0.018451)\n",
      "28. feature 3 (0.012863)\n",
      "29. feature 38 (0.012373)\n",
      "30. feature 37 (0.009113)\n",
      "31. feature 20 (0.007761)\n",
      "32. feature 7 (0.007596)\n",
      "33. feature 30 (0.005288)\n",
      "34. feature 31 (0.002488)\n",
      "35. feature 15 (0.002381)\n",
      "36. feature 0 (0.002007)\n",
      "37. feature 8 (0.000278)\n",
      "38. feature 17 (0.000000)\n",
      "39. feature 18 (0.000000)\n",
      "40. feature 21 (0.000000)\n",
      "41. feature 35 (0.000000)\n",
      "42. feature 36 (0.000000)\n"
     ]
    }
   ],
   "source": [
    "# Feature Importance\n",
    "importances = model.feature_importances_\n",
    "indices = np.argsort(importances)[::-1]\n",
    "print(\"Feature ranking:\")\n",
    "\n",
    "for f in range(X_test.shape[1]):\n",
    "    print(\"%d. feature %d (%f)\" % (f + 1, indices[f], importances[indices[f]]))"
   ]
  },
  {
   "cell_type": "markdown",
   "metadata": {},
   "source": [
    "<a id='feature_importance'></a>"
   ]
  },
  {
   "cell_type": "code",
   "execution_count": 21,
   "metadata": {},
   "outputs": [
    {
     "name": "stderr",
     "output_type": "stream",
     "text": [
      "/Users/lmc2/anaconda/envs/NIHFAES/lib/python3.5/site-packages/ipykernel/__main__.py:3: FutureWarning:\n",
      "\n",
      "sort is deprecated, use sort_values(inplace=True) for INPLACE sorting\n",
      "\n"
     ]
    },
    {
     "data": {
      "text/plain": [
       "<matplotlib.axes._subplots.AxesSubplot at 0x114731470>"
      ]
     },
     "execution_count": 21,
     "metadata": {},
     "output_type": "execute_result"
    },
    {
     "data": {
      "image/png": "[encoded data removed]",
      "text/plain": [
       "<matplotlib.figure.Figure at 0x114744550>"
      ]
     },
     "metadata": {},
     "output_type": "display_data"
    }
   ],
   "source": [
    "%matplotlib inline\n",
    "feature_importances = pd.Series(model.feature_importances_, index=X_test.columns)\n",
    "feature_importances.sort()\n",
    "feature_importances.plot(kind=\"barh\", figsize=(8,10))"
   ]
  },
  {
   "cell_type": "code",
   "execution_count": 22,
   "metadata": {},
   "outputs": [
    {
     "data": {
      "text/plain": [
       "0.0    674\n",
       "2.0    524\n",
       "1.0    582\n",
       "dtype: int64"
      ]
     },
     "execution_count": 22,
     "metadata": {},
     "output_type": "execute_result"
    }
   ],
   "source": [
    "#NOTE: Training Set - Show number of Hom Ref, Hom Var, Het Var datapoints the model was trained on\n",
    "ytrain = pd.DataFrame()\n",
    "ytrain['ytrain'] = y_train\n",
    "pd.value_counts(ytrain['ytrain'].values, sort=False)"
   ]
  },
  {
   "cell_type": "code",
   "execution_count": 23,
   "metadata": {
    "collapsed": true
   },
   "outputs": [],
   "source": [
    "pred = model.predict(X_test)"
   ]
  },
  {
   "cell_type": "markdown",
   "metadata": {},
   "source": [
    "<a id='traintest_precision'></a>"
   ]
  },
  {
   "cell_type": "code",
   "execution_count": 24,
   "metadata": {},
   "outputs": [
    {
     "data": {
      "text/plain": [
       "0.73132372214941022"
      ]
     },
     "execution_count": 24,
     "metadata": {},
     "output_type": "execute_result"
    }
   ],
   "source": [
    "precision_score(pred, y_test, average='micro') "
   ]
  },
  {
   "cell_type": "code",
   "execution_count": 25,
   "metadata": {},
   "outputs": [
    {
     "data": {
      "text/html": [
       "<div>\n",
       "<table border=\"1\" class=\"dataframe\">\n",
       "  <thead>\n",
       "    <tr style=\"text-align: right;\">\n",
       "      <th></th>\n",
       "      <th>IllMP.GT</th>\n",
       "      <th>IllMP.alt_alnScore_mean</th>\n",
       "      <th>IllMP.alt_alnScore_std</th>\n",
       "      <th>IllMP.alt_count</th>\n",
       "      <th>IllMP.alt_insertSize_mean</th>\n",
       "      <th>IllMP.alt_insertSize_std</th>\n",
       "      <th>IllMP.alt_reason_alignmentScore</th>\n",
       "      <th>IllMP.alt_reason_insertSizeScore</th>\n",
       "      <th>IllMP.alt_reason_orientation</th>\n",
       "      <th>IllMP.amb_alnScore_mean</th>\n",
       "      <th>...</th>\n",
       "      <th>Size</th>\n",
       "      <th>chrom</th>\n",
       "      <th>end</th>\n",
       "      <th>refN_cnt</th>\n",
       "      <th>refN_pct</th>\n",
       "      <th>segdup_cnt</th>\n",
       "      <th>segdup_pct</th>\n",
       "      <th>start</th>\n",
       "      <th>tandemrep_cnt</th>\n",
       "      <th>tandemrep_pct</th>\n",
       "    </tr>\n",
       "  </thead>\n",
       "  <tbody>\n",
       "    <tr>\n",
       "      <th>2062</th>\n",
       "      <td>-1.0</td>\n",
       "      <td>0.0</td>\n",
       "      <td>0.0</td>\n",
       "      <td>0.0</td>\n",
       "      <td>0.0</td>\n",
       "      <td>0.0</td>\n",
       "      <td>0.0</td>\n",
       "      <td>0.0</td>\n",
       "      <td>0.0</td>\n",
       "      <td>357.722862</td>\n",
       "      <td>...</td>\n",
       "      <td>-55.0</td>\n",
       "      <td>18.0</td>\n",
       "      <td>35315727.0</td>\n",
       "      <td>0.0</td>\n",
       "      <td>0.0</td>\n",
       "      <td>0.0</td>\n",
       "      <td>0.0</td>\n",
       "      <td>35315660.0</td>\n",
       "      <td>1.0</td>\n",
       "      <td>0.044776</td>\n",
       "    </tr>\n",
       "    <tr>\n",
       "      <th>480</th>\n",
       "      <td>-1.0</td>\n",
       "      <td>0.0</td>\n",
       "      <td>0.0</td>\n",
       "      <td>0.0</td>\n",
       "      <td>0.0</td>\n",
       "      <td>0.0</td>\n",
       "      <td>0.0</td>\n",
       "      <td>0.0</td>\n",
       "      <td>0.0</td>\n",
       "      <td>358.830970</td>\n",
       "      <td>...</td>\n",
       "      <td>-24.0</td>\n",
       "      <td>3.0</td>\n",
       "      <td>153019165.0</td>\n",
       "      <td>0.0</td>\n",
       "      <td>0.0</td>\n",
       "      <td>0.0</td>\n",
       "      <td>0.0</td>\n",
       "      <td>153019140.0</td>\n",
       "      <td>2.0</td>\n",
       "      <td>0.840000</td>\n",
       "    </tr>\n",
       "    <tr>\n",
       "      <th>2044</th>\n",
       "      <td>-1.0</td>\n",
       "      <td>0.0</td>\n",
       "      <td>0.0</td>\n",
       "      <td>0.0</td>\n",
       "      <td>0.0</td>\n",
       "      <td>0.0</td>\n",
       "      <td>0.0</td>\n",
       "      <td>0.0</td>\n",
       "      <td>0.0</td>\n",
       "      <td>355.094702</td>\n",
       "      <td>...</td>\n",
       "      <td>-145.0</td>\n",
       "      <td>17.0</td>\n",
       "      <td>48244154.0</td>\n",
       "      <td>0.0</td>\n",
       "      <td>0.0</td>\n",
       "      <td>0.0</td>\n",
       "      <td>0.0</td>\n",
       "      <td>48244009.0</td>\n",
       "      <td>4.0</td>\n",
       "      <td>0.496552</td>\n",
       "    </tr>\n",
       "    <tr>\n",
       "      <th>883</th>\n",
       "      <td>-1.0</td>\n",
       "      <td>0.0</td>\n",
       "      <td>0.0</td>\n",
       "      <td>0.0</td>\n",
       "      <td>0.0</td>\n",
       "      <td>0.0</td>\n",
       "      <td>0.0</td>\n",
       "      <td>0.0</td>\n",
       "      <td>0.0</td>\n",
       "      <td>354.812979</td>\n",
       "      <td>...</td>\n",
       "      <td>-199.0</td>\n",
       "      <td>10.0</td>\n",
       "      <td>9315218.0</td>\n",
       "      <td>0.0</td>\n",
       "      <td>0.0</td>\n",
       "      <td>0.0</td>\n",
       "      <td>0.0</td>\n",
       "      <td>9315019.0</td>\n",
       "      <td>1.0</td>\n",
       "      <td>1.000000</td>\n",
       "    </tr>\n",
       "    <tr>\n",
       "      <th>2450</th>\n",
       "      <td>-1.0</td>\n",
       "      <td>0.0</td>\n",
       "      <td>0.0</td>\n",
       "      <td>0.0</td>\n",
       "      <td>0.0</td>\n",
       "      <td>0.0</td>\n",
       "      <td>0.0</td>\n",
       "      <td>0.0</td>\n",
       "      <td>0.0</td>\n",
       "      <td>350.262003</td>\n",
       "      <td>...</td>\n",
       "      <td>-439.0</td>\n",
       "      <td>7.0</td>\n",
       "      <td>155201321.0</td>\n",
       "      <td>0.0</td>\n",
       "      <td>0.0</td>\n",
       "      <td>0.0</td>\n",
       "      <td>0.0</td>\n",
       "      <td>155199593.0</td>\n",
       "      <td>1.0</td>\n",
       "      <td>0.009838</td>\n",
       "    </tr>\n",
       "  </tbody>\n",
       "</table>\n",
       "<p>5 rows × 42 columns</p>\n",
       "</div>"
      ],
      "text/plain": [
       "      IllMP.GT  IllMP.alt_alnScore_mean  IllMP.alt_alnScore_std  \\\n",
       "2062      -1.0                      0.0                     0.0   \n",
       "480       -1.0                      0.0                     0.0   \n",
       "2044      -1.0                      0.0                     0.0   \n",
       "883       -1.0                      0.0                     0.0   \n",
       "2450      -1.0                      0.0                     0.0   \n",
       "\n",
       "      IllMP.alt_count  IllMP.alt_insertSize_mean  IllMP.alt_insertSize_std  \\\n",
       "2062              0.0                        0.0                       0.0   \n",
       "480               0.0                        0.0                       0.0   \n",
       "2044              0.0                        0.0                       0.0   \n",
       "883               0.0                        0.0                       0.0   \n",
       "2450              0.0                        0.0                       0.0   \n",
       "\n",
       "      IllMP.alt_reason_alignmentScore  IllMP.alt_reason_insertSizeScore  \\\n",
       "2062                              0.0                               0.0   \n",
       "480                               0.0                               0.0   \n",
       "2044                              0.0                               0.0   \n",
       "883                               0.0                               0.0   \n",
       "2450                              0.0                               0.0   \n",
       "\n",
       "      IllMP.alt_reason_orientation  IllMP.amb_alnScore_mean      ...        \\\n",
       "2062                           0.0               357.722862      ...         \n",
       "480                            0.0               358.830970      ...         \n",
       "2044                           0.0               355.094702      ...         \n",
       "883                            0.0               354.812979      ...         \n",
       "2450                           0.0               350.262003      ...         \n",
       "\n",
       "       Size  chrom          end  refN_cnt  refN_pct  segdup_cnt  segdup_pct  \\\n",
       "2062  -55.0   18.0   35315727.0       0.0       0.0         0.0         0.0   \n",
       "480   -24.0    3.0  153019165.0       0.0       0.0         0.0         0.0   \n",
       "2044 -145.0   17.0   48244154.0       0.0       0.0         0.0         0.0   \n",
       "883  -199.0   10.0    9315218.0       0.0       0.0         0.0         0.0   \n",
       "2450 -439.0    7.0  155201321.0       0.0       0.0         0.0         0.0   \n",
       "\n",
       "            start  tandemrep_cnt  tandemrep_pct  \n",
       "2062   35315660.0            1.0       0.044776  \n",
       "480   153019140.0            2.0       0.840000  \n",
       "2044   48244009.0            4.0       0.496552  \n",
       "883     9315019.0            1.0       1.000000  \n",
       "2450  155199593.0            1.0       0.009838  \n",
       "\n",
       "[5 rows x 42 columns]"
      ]
     },
     "execution_count": 25,
     "metadata": {},
     "output_type": "execute_result"
    }
   ],
   "source": [
    "# Add original labels and predicted labels back to the original dataframe\n",
    "df_Xtest = pd.DataFrame(X_test)\n",
    "df_Xtest.head()"
   ]
  },
  {
   "cell_type": "code",
   "execution_count": 26,
   "metadata": {
    "collapsed": true
   },
   "outputs": [],
   "source": [
    "labels = pd.DataFrame(y_test)"
   ]
  },
  {
   "cell_type": "code",
   "execution_count": 27,
   "metadata": {
    "collapsed": true
   },
   "outputs": [],
   "source": [
    "df_Xtest['predicted_label'] = pred\n",
    "df_Xtest['Label'] = df_train['Label']\n",
    "df_Xtest['chrom'] = df_train['chrom']\n",
    "df_Xtest['start'] = df_train['start']\n",
    "df_Xtest['end'] = df_train['end']\n",
    "# df_Xtest['Y_test'] = labels"
   ]
  },
  {
   "cell_type": "code",
   "execution_count": 28,
   "metadata": {},
   "outputs": [
    {
     "data": {
      "text/plain": [
       "0    295\n",
       "1    241\n",
       "2    227\n",
       "dtype: int64"
      ]
     },
     "execution_count": 28,
     "metadata": {},
     "output_type": "execute_result"
    }
   ],
   "source": [
    "pd.value_counts(df_Xtest['Label'].values, sort=False)"
   ]
  },
  {
   "cell_type": "code",
   "execution_count": 29,
   "metadata": {},
   "outputs": [
    {
     "data": {
      "text/plain": [
       "0.0    338\n",
       "2.0    170\n",
       "1.0    255\n",
       "dtype: int64"
      ]
     },
     "execution_count": 29,
     "metadata": {},
     "output_type": "execute_result"
    }
   ],
   "source": [
    "pd.value_counts(df_Xtest['predicted_label'].values, sort=False)"
   ]
  },
  {
   "cell_type": "code",
   "execution_count": 30,
   "metadata": {},
   "outputs": [
    {
     "name": "stdout",
     "output_type": "stream",
     "text": [
      "[[245  15  35]\n",
      " [ 25 197  19]\n",
      " [ 68  43 116]]\n"
     ]
    }
   ],
   "source": [
    "from sklearn.metrics import confusion_matrix\n",
    "ytest = df_Xtest['Label']\n",
    "predict = df_Xtest['predicted_label']\n",
    "print(confusion_matrix(ytest, predict))"
   ]
  },
  {
   "cell_type": "code",
   "execution_count": 31,
   "metadata": {
    "collapsed": true
   },
   "outputs": [],
   "source": [
    "df_Xtest['Label'].replace(0, 'Homozygous_Reference', inplace=True)\n",
    "df_Xtest['Label'].replace(1, 'Exact_Match', inplace=True)\n",
    "df_Xtest['Label'].replace(2, 'Inaccurate_Call', inplace=True)\n",
    "df_Xtest['predicted_label'].replace(0.0, 'Homozygous_Reference', inplace=True)\n",
    "df_Xtest['predicted_label'].replace(1.0, 'Exact_Match', inplace=True)\n",
    "df_Xtest['predicted_label'].replace(2.0, 'Inaccurate_Call', inplace=True)"
   ]
  },
  {
   "cell_type": "markdown",
   "metadata": {},
   "source": [
    "<a id='traintest_confusion_matrix'></a>"
   ]
  },
  {
   "cell_type": "code",
   "execution_count": 32,
   "metadata": {},
   "outputs": [
    {
     "data": {
      "text/html": [
       "<div>\n",
       "<table border=\"1\" class=\"dataframe\">\n",
       "  <thead>\n",
       "    <tr style=\"text-align: right;\">\n",
       "      <th>Predicted</th>\n",
       "      <th>Exact_Match</th>\n",
       "      <th>Homozygous_Reference</th>\n",
       "      <th>Inaccurate_Call</th>\n",
       "      <th>All</th>\n",
       "    </tr>\n",
       "    <tr>\n",
       "      <th>True</th>\n",
       "      <th></th>\n",
       "      <th></th>\n",
       "      <th></th>\n",
       "      <th></th>\n",
       "    </tr>\n",
       "  </thead>\n",
       "  <tbody>\n",
       "    <tr>\n",
       "      <th>Exact_Match</th>\n",
       "      <td>197</td>\n",
       "      <td>25</td>\n",
       "      <td>19</td>\n",
       "      <td>241</td>\n",
       "    </tr>\n",
       "    <tr>\n",
       "      <th>Homozygous_Reference</th>\n",
       "      <td>15</td>\n",
       "      <td>245</td>\n",
       "      <td>35</td>\n",
       "      <td>295</td>\n",
       "    </tr>\n",
       "    <tr>\n",
       "      <th>Inaccurate_Call</th>\n",
       "      <td>43</td>\n",
       "      <td>68</td>\n",
       "      <td>116</td>\n",
       "      <td>227</td>\n",
       "    </tr>\n",
       "    <tr>\n",
       "      <th>All</th>\n",
       "      <td>255</td>\n",
       "      <td>338</td>\n",
       "      <td>170</td>\n",
       "      <td>763</td>\n",
       "    </tr>\n",
       "  </tbody>\n",
       "</table>\n",
       "</div>"
      ],
      "text/plain": [
       "Predicted             Exact_Match  Homozygous_Reference  Inaccurate_Call  All\n",
       "True                                                                         \n",
       "Exact_Match                   197                    25               19  241\n",
       "Homozygous_Reference           15                   245               35  295\n",
       "Inaccurate_Call                43                    68              116  227\n",
       "All                           255                   338              170  763"
      ]
     },
     "execution_count": 32,
     "metadata": {},
     "output_type": "execute_result"
    }
   ],
   "source": [
    "pd.crosstab(ytest, predict, rownames=['True'], colnames=['Predicted'], margins=True)"
   ]
  },
  {
   "cell_type": "code",
   "execution_count": 33,
   "metadata": {},
   "outputs": [
    {
     "name": "stdout",
     "output_type": "stream",
     "text": [
      "                      precision    recall  f1-score   support\n",
      "\n",
      "         Exact_Match       0.82      0.77      0.79       255\n",
      "Homozygous_Reference       0.83      0.72      0.77       338\n",
      "     Inaccurate_Call       0.51      0.68      0.58       170\n",
      "\n",
      "         avg / total       0.75      0.73      0.74       763\n",
      "\n"
     ]
    }
   ],
   "source": [
    "from sklearn.metrics import classification_report\n",
    "print(classification_report(predict,ytest))"
   ]
  },
  {
   "cell_type": "markdown",
   "metadata": {},
   "source": [
    "***\n",
    "Predict\n",
    "***"
   ]
  },
  {
   "cell_type": "markdown",
   "metadata": {},
   "source": [
    "Description:\n",
    "\n",
    "   * In the [previous section](#machine_learning) the model was trained on svanalyzer data.\n",
    "   **FYI**: [see description below of the SVanalyzer data](#svan_2)\n",
    "       * The model was trained using [train/test split](#train_test) where 70% of the data was used to train the model and the model performance was determined by predicting labels for the remaining 30% of the data\n",
    "       * Reminder: The labels for this training set and the following [prediction step](#prediction_step) are:\n",
    "           * Exact Match (1)\n",
    "           * Homozygous Reference (0)\n",
    "           * Inaccurate Call (2)\n",
    "           \n",
    "   * The trained model is used in the following section to predict labels for 5000 randomly selected Deletions [these datapoints were randomly selected from [union_170509_refalt.sort.vcf](ftp://ftp-trace.ncbi.nlm.nih.gov/giab/ftp/data/AshkenazimTrio/analysis/NIST_UnionSVs_05092017/)]\n",
    "   \n",
    "   "
   ]
  },
  {
   "cell_type": "markdown",
   "metadata": {},
   "source": [
    "<a id='svan_2'></a>\n",
    "* **Reminder - SVanalyzer data description:** \n",
    "     * **1000 Exact Match**: 1000 datapoints were randomly selected from the following [svanalyzer_union_170509_v0.3.0b.vcf](ftp://ftp-trace.ncbi.nlm.nih.gov/giab/ftp/data/AshkenazimTrio/analysis/NIST_UnionSVs_05092017/Preliminary_Integrations_v0.3.0/)\n",
    "     * **1000 Homozygous Reference**: 1000 datapoints were randomly selected from the following [svanalyzer_union_170509_v0.3.0b.vcf](ftp://ftp-trace.ncbi.nlm.nih.gov/giab/ftp/data/AshkenazimTrio/analysis/NIST_UnionSVs_05092017/Preliminary_Integrations_v0.3.0/)\n",
    "     * **1000 Inaccurate Calls**: 1000 datapoints were randomly selected from the following\n",
    "[svanalyzer_union_170509_refalt.2.2.2.clustered.uniquecalls.vcf](ftp://ftp-trace.ncbi.nlm.nih.gov/giab/ftp/data/AshkenazimTrio/analysis/NIST_UnionSVs_05092017/Preliminary_Integrations_v0.3.0/)\n",
    "   \n",
    "   * Source of Features: svviz, GA4GH [tandem repeat, segmental duplications, refN], R analysis [consensus genotype, GTsup]   \n",
    "   "
   ]
  },
  {
   "cell_type": "markdown",
   "metadata": {},
   "source": [
    "** Load Data **"
   ]
  },
  {
   "cell_type": "code",
   "execution_count": 34,
   "metadata": {
    "collapsed": true
   },
   "outputs": [],
   "source": [
    "X2 = df_test"
   ]
  },
  {
   "cell_type": "markdown",
   "metadata": {},
   "source": [
    "** Impute missing values using KNN **"
   ]
  },
  {
   "cell_type": "code",
   "execution_count": 35,
   "metadata": {},
   "outputs": [
    {
     "name": "stdout",
     "output_type": "stream",
     "text": [
      "Imputing row 1/4030 with 1 missing, elapsed time: 5.146\n",
      "Imputing row 101/4030 with 1 missing, elapsed time: 5.152\n",
      "Imputing row 201/4030 with 1 missing, elapsed time: 5.158\n",
      "Imputing row 301/4030 with 1 missing, elapsed time: 5.164\n",
      "Imputing row 401/4030 with 1 missing, elapsed time: 5.170\n",
      "Imputing row 501/4030 with 1 missing, elapsed time: 5.176\n",
      "Imputing row 601/4030 with 1 missing, elapsed time: 5.184\n",
      "Imputing row 701/4030 with 1 missing, elapsed time: 5.191\n",
      "Imputing row 801/4030 with 1 missing, elapsed time: 5.200\n",
      "Imputing row 901/4030 with 2 missing, elapsed time: 5.212\n",
      "Imputing row 1001/4030 with 2 missing, elapsed time: 5.223\n",
      "Imputing row 1101/4030 with 2 missing, elapsed time: 5.235\n",
      "Imputing row 1201/4030 with 2 missing, elapsed time: 5.247\n",
      "Imputing row 1301/4030 with 2 missing, elapsed time: 5.259\n",
      "Imputing row 1401/4030 with 2 missing, elapsed time: 5.271\n",
      "Imputing row 1501/4030 with 2 missing, elapsed time: 5.284\n",
      "Imputing row 1601/4030 with 2 missing, elapsed time: 5.302\n",
      "Imputing row 1701/4030 with 1 missing, elapsed time: 5.309\n",
      "Imputing row 1801/4030 with 1 missing, elapsed time: 5.315\n",
      "Imputing row 1901/4030 with 1 missing, elapsed time: 5.321\n",
      "Imputing row 2001/4030 with 1 missing, elapsed time: 5.327\n",
      "Imputing row 2101/4030 with 1 missing, elapsed time: 5.334\n",
      "Imputing row 2201/4030 with 1 missing, elapsed time: 5.341\n",
      "Imputing row 2301/4030 with 1 missing, elapsed time: 5.348\n",
      "Imputing row 2401/4030 with 1 missing, elapsed time: 5.360\n",
      "Imputing row 2501/4030 with 1 missing, elapsed time: 5.367\n",
      "Imputing row 2601/4030 with 1 missing, elapsed time: 5.373\n",
      "Imputing row 2701/4030 with 1 missing, elapsed time: 5.380\n",
      "Imputing row 2801/4030 with 1 missing, elapsed time: 5.388\n",
      "Imputing row 2901/4030 with 1 missing, elapsed time: 5.395\n",
      "Imputing row 3001/4030 with 1 missing, elapsed time: 5.402\n",
      "Imputing row 3101/4030 with 1 missing, elapsed time: 5.409\n",
      "Imputing row 3201/4030 with 1 missing, elapsed time: 5.420\n",
      "Imputing row 3301/4030 with 2 missing, elapsed time: 5.431\n",
      "Imputing row 3401/4030 with 2 missing, elapsed time: 5.443\n",
      "Imputing row 3501/4030 with 2 missing, elapsed time: 5.455\n",
      "Imputing row 3601/4030 with 2 missing, elapsed time: 5.466\n",
      "Imputing row 3701/4030 with 2 missing, elapsed time: 5.478\n",
      "Imputing row 3801/4030 with 2 missing, elapsed time: 5.490\n",
      "Imputing row 3901/4030 with 2 missing, elapsed time: 5.504\n",
      "Imputing row 4001/4030 with 2 missing, elapsed time: 5.518\n"
     ]
    }
   ],
   "source": [
    "#Convert dataframe to matrix\n",
    "X2=X2.as_matrix()\n",
    "\n",
    "#Imput missing values from three closest observations\n",
    "X2_imputed=KNN(k=3).complete(X2)\n",
    "X2=pd.DataFrame(X2_imputed)"
   ]
  },
  {
   "cell_type": "code",
   "execution_count": 36,
   "metadata": {},
   "outputs": [
    {
     "data": {
      "text/html": [
       "<div>\n",
       "<table border=\"1\" class=\"dataframe\">\n",
       "  <thead>\n",
       "    <tr style=\"text-align: right;\">\n",
       "      <th></th>\n",
       "      <th>chrom</th>\n",
       "      <th>start</th>\n",
       "      <th>end</th>\n",
       "      <th>Size</th>\n",
       "      <th>refN_cnt</th>\n",
       "      <th>refN_pct</th>\n",
       "      <th>segdup_cnt</th>\n",
       "      <th>segdup_pct</th>\n",
       "      <th>tandemrep_cnt</th>\n",
       "      <th>tandemrep_pct</th>\n",
       "      <th>...</th>\n",
       "      <th>IllMP.amb_reason_orientation_orientation</th>\n",
       "      <th>IllMP.amb_reason_same_scores</th>\n",
       "      <th>IllMP.ref_alnScore_mean</th>\n",
       "      <th>IllMP.ref_alnScore_std</th>\n",
       "      <th>IllMP.ref_count</th>\n",
       "      <th>IllMP.ref_insertSize_mean</th>\n",
       "      <th>IllMP.ref_insertSize_std</th>\n",
       "      <th>IllMP.ref_reason_alignmentScore</th>\n",
       "      <th>IllMP.ref_reason_insertSizeScore</th>\n",
       "      <th>IllMP.ref_reason_orientation</th>\n",
       "    </tr>\n",
       "  </thead>\n",
       "  <tbody>\n",
       "    <tr>\n",
       "      <th>0</th>\n",
       "      <td>1.0</td>\n",
       "      <td>37568322.0</td>\n",
       "      <td>37568587.0</td>\n",
       "      <td>-115.0</td>\n",
       "      <td>0.0</td>\n",
       "      <td>0.0</td>\n",
       "      <td>0.0</td>\n",
       "      <td>0.0</td>\n",
       "      <td>3.0</td>\n",
       "      <td>0.818868</td>\n",
       "      <td>...</td>\n",
       "      <td>43.0</td>\n",
       "      <td>456.0</td>\n",
       "      <td>411.080000</td>\n",
       "      <td>53.348604</td>\n",
       "      <td>25.0</td>\n",
       "      <td>6586.560000</td>\n",
       "      <td>999.928961</td>\n",
       "      <td>15.0</td>\n",
       "      <td>0.0</td>\n",
       "      <td>10.0</td>\n",
       "    </tr>\n",
       "    <tr>\n",
       "      <th>1</th>\n",
       "      <td>1.0</td>\n",
       "      <td>1092675.0</td>\n",
       "      <td>1092715.0</td>\n",
       "      <td>-40.0</td>\n",
       "      <td>0.0</td>\n",
       "      <td>0.0</td>\n",
       "      <td>0.0</td>\n",
       "      <td>0.0</td>\n",
       "      <td>1.0</td>\n",
       "      <td>1.000000</td>\n",
       "      <td>...</td>\n",
       "      <td>34.0</td>\n",
       "      <td>345.0</td>\n",
       "      <td>370.000000</td>\n",
       "      <td>0.000000</td>\n",
       "      <td>1.0</td>\n",
       "      <td>4426.000000</td>\n",
       "      <td>0.000000</td>\n",
       "      <td>1.0</td>\n",
       "      <td>0.0</td>\n",
       "      <td>0.0</td>\n",
       "    </tr>\n",
       "    <tr>\n",
       "      <th>2</th>\n",
       "      <td>1.0</td>\n",
       "      <td>2629212.0</td>\n",
       "      <td>2629373.0</td>\n",
       "      <td>-160.0</td>\n",
       "      <td>0.0</td>\n",
       "      <td>0.0</td>\n",
       "      <td>1.0</td>\n",
       "      <td>1.0</td>\n",
       "      <td>0.0</td>\n",
       "      <td>0.000000</td>\n",
       "      <td>...</td>\n",
       "      <td>104.0</td>\n",
       "      <td>111.0</td>\n",
       "      <td>392.192308</td>\n",
       "      <td>77.179620</td>\n",
       "      <td>26.0</td>\n",
       "      <td>5318.038462</td>\n",
       "      <td>2166.320853</td>\n",
       "      <td>25.0</td>\n",
       "      <td>0.0</td>\n",
       "      <td>1.0</td>\n",
       "    </tr>\n",
       "  </tbody>\n",
       "</table>\n",
       "<p>3 rows × 42 columns</p>\n",
       "</div>"
      ],
      "text/plain": [
       "   chrom       start         end   Size  refN_cnt  refN_pct  segdup_cnt  \\\n",
       "0    1.0  37568322.0  37568587.0 -115.0       0.0       0.0         0.0   \n",
       "1    1.0   1092675.0   1092715.0  -40.0       0.0       0.0         0.0   \n",
       "2    1.0   2629212.0   2629373.0 -160.0       0.0       0.0         1.0   \n",
       "\n",
       "   segdup_pct  tandemrep_cnt  tandemrep_pct              ...               \\\n",
       "0         0.0            3.0       0.818868              ...                \n",
       "1         0.0            1.0       1.000000              ...                \n",
       "2         1.0            0.0       0.000000              ...                \n",
       "\n",
       "   IllMP.amb_reason_orientation_orientation  IllMP.amb_reason_same_scores  \\\n",
       "0                                      43.0                         456.0   \n",
       "1                                      34.0                         345.0   \n",
       "2                                     104.0                         111.0   \n",
       "\n",
       "   IllMP.ref_alnScore_mean  IllMP.ref_alnScore_std  IllMP.ref_count  \\\n",
       "0               411.080000               53.348604             25.0   \n",
       "1               370.000000                0.000000              1.0   \n",
       "2               392.192308               77.179620             26.0   \n",
       "\n",
       "   IllMP.ref_insertSize_mean  IllMP.ref_insertSize_std  \\\n",
       "0                6586.560000                999.928961   \n",
       "1                4426.000000                  0.000000   \n",
       "2                5318.038462               2166.320853   \n",
       "\n",
       "   IllMP.ref_reason_alignmentScore  IllMP.ref_reason_insertSizeScore  \\\n",
       "0                             15.0                               0.0   \n",
       "1                              1.0                               0.0   \n",
       "2                             25.0                               0.0   \n",
       "\n",
       "   IllMP.ref_reason_orientation  \n",
       "0                          10.0  \n",
       "1                           0.0  \n",
       "2                           1.0  \n",
       "\n",
       "[3 rows x 42 columns]"
      ]
     },
     "execution_count": 36,
     "metadata": {},
     "output_type": "execute_result"
    }
   ],
   "source": [
    "dftest_header = list(df_test.columns.values)\n",
    "X2.columns = dftest_header\n",
    "X2.head(3)"
   ]
  },
  {
   "cell_type": "code",
   "execution_count": 37,
   "metadata": {},
   "outputs": [
    {
     "data": {
      "text/html": [
       "<div>\n",
       "<table border=\"1\" class=\"dataframe\">\n",
       "  <thead>\n",
       "    <tr style=\"text-align: right;\">\n",
       "      <th></th>\n",
       "      <th>chrom</th>\n",
       "      <th>start</th>\n",
       "      <th>end</th>\n",
       "      <th>Size</th>\n",
       "      <th>refN_cnt</th>\n",
       "      <th>refN_pct</th>\n",
       "      <th>segdup_cnt</th>\n",
       "      <th>segdup_pct</th>\n",
       "      <th>tandemrep_cnt</th>\n",
       "      <th>tandemrep_pct</th>\n",
       "      <th>...</th>\n",
       "      <th>IllMP.amb_reason_orientation_orientation</th>\n",
       "      <th>IllMP.amb_reason_same_scores</th>\n",
       "      <th>IllMP.ref_alnScore_mean</th>\n",
       "      <th>IllMP.ref_alnScore_std</th>\n",
       "      <th>IllMP.ref_count</th>\n",
       "      <th>IllMP.ref_insertSize_mean</th>\n",
       "      <th>IllMP.ref_insertSize_std</th>\n",
       "      <th>IllMP.ref_reason_alignmentScore</th>\n",
       "      <th>IllMP.ref_reason_insertSizeScore</th>\n",
       "      <th>IllMP.ref_reason_orientation</th>\n",
       "    </tr>\n",
       "  </thead>\n",
       "  <tbody>\n",
       "    <tr>\n",
       "      <th>0</th>\n",
       "      <td>1.0</td>\n",
       "      <td>37568322.0</td>\n",
       "      <td>37568587.0</td>\n",
       "      <td>-115.0</td>\n",
       "      <td>0.0</td>\n",
       "      <td>0.0</td>\n",
       "      <td>0.0</td>\n",
       "      <td>0.0</td>\n",
       "      <td>3.0</td>\n",
       "      <td>0.818868</td>\n",
       "      <td>...</td>\n",
       "      <td>43.0</td>\n",
       "      <td>456.0</td>\n",
       "      <td>411.080000</td>\n",
       "      <td>53.348604</td>\n",
       "      <td>25.0</td>\n",
       "      <td>6586.560000</td>\n",
       "      <td>999.928961</td>\n",
       "      <td>15.0</td>\n",
       "      <td>0.0</td>\n",
       "      <td>10.0</td>\n",
       "    </tr>\n",
       "    <tr>\n",
       "      <th>1</th>\n",
       "      <td>1.0</td>\n",
       "      <td>1092675.0</td>\n",
       "      <td>1092715.0</td>\n",
       "      <td>-40.0</td>\n",
       "      <td>0.0</td>\n",
       "      <td>0.0</td>\n",
       "      <td>0.0</td>\n",
       "      <td>0.0</td>\n",
       "      <td>1.0</td>\n",
       "      <td>1.000000</td>\n",
       "      <td>...</td>\n",
       "      <td>34.0</td>\n",
       "      <td>345.0</td>\n",
       "      <td>370.000000</td>\n",
       "      <td>0.000000</td>\n",
       "      <td>1.0</td>\n",
       "      <td>4426.000000</td>\n",
       "      <td>0.000000</td>\n",
       "      <td>1.0</td>\n",
       "      <td>0.0</td>\n",
       "      <td>0.0</td>\n",
       "    </tr>\n",
       "    <tr>\n",
       "      <th>2</th>\n",
       "      <td>1.0</td>\n",
       "      <td>2629212.0</td>\n",
       "      <td>2629373.0</td>\n",
       "      <td>-160.0</td>\n",
       "      <td>0.0</td>\n",
       "      <td>0.0</td>\n",
       "      <td>1.0</td>\n",
       "      <td>1.0</td>\n",
       "      <td>0.0</td>\n",
       "      <td>0.000000</td>\n",
       "      <td>...</td>\n",
       "      <td>104.0</td>\n",
       "      <td>111.0</td>\n",
       "      <td>392.192308</td>\n",
       "      <td>77.179620</td>\n",
       "      <td>26.0</td>\n",
       "      <td>5318.038462</td>\n",
       "      <td>2166.320853</td>\n",
       "      <td>25.0</td>\n",
       "      <td>0.0</td>\n",
       "      <td>1.0</td>\n",
       "    </tr>\n",
       "  </tbody>\n",
       "</table>\n",
       "<p>3 rows × 42 columns</p>\n",
       "</div>"
      ],
      "text/plain": [
       "   chrom       start         end   Size  refN_cnt  refN_pct  segdup_cnt  \\\n",
       "0    1.0  37568322.0  37568587.0 -115.0       0.0       0.0         0.0   \n",
       "1    1.0   1092675.0   1092715.0  -40.0       0.0       0.0         0.0   \n",
       "2    1.0   2629212.0   2629373.0 -160.0       0.0       0.0         1.0   \n",
       "\n",
       "   segdup_pct  tandemrep_cnt  tandemrep_pct              ...               \\\n",
       "0         0.0            3.0       0.818868              ...                \n",
       "1         0.0            1.0       1.000000              ...                \n",
       "2         1.0            0.0       0.000000              ...                \n",
       "\n",
       "   IllMP.amb_reason_orientation_orientation  IllMP.amb_reason_same_scores  \\\n",
       "0                                      43.0                         456.0   \n",
       "1                                      34.0                         345.0   \n",
       "2                                     104.0                         111.0   \n",
       "\n",
       "   IllMP.ref_alnScore_mean  IllMP.ref_alnScore_std  IllMP.ref_count  \\\n",
       "0               411.080000               53.348604             25.0   \n",
       "1               370.000000                0.000000              1.0   \n",
       "2               392.192308               77.179620             26.0   \n",
       "\n",
       "   IllMP.ref_insertSize_mean  IllMP.ref_insertSize_std  \\\n",
       "0                6586.560000                999.928961   \n",
       "1                4426.000000                  0.000000   \n",
       "2                5318.038462               2166.320853   \n",
       "\n",
       "   IllMP.ref_reason_alignmentScore  IllMP.ref_reason_insertSizeScore  \\\n",
       "0                             15.0                               0.0   \n",
       "1                              1.0                               0.0   \n",
       "2                             25.0                               0.0   \n",
       "\n",
       "   IllMP.ref_reason_orientation  \n",
       "0                          10.0  \n",
       "1                           0.0  \n",
       "2                           1.0  \n",
       "\n",
       "[3 rows x 42 columns]"
      ]
     },
     "execution_count": 37,
     "metadata": {},
     "output_type": "execute_result"
    }
   ],
   "source": [
    "X3 = pd.DataFrame()\n",
    "X3 = X2\n",
    "X3.head(3)"
   ]
  },
  {
   "cell_type": "code",
   "execution_count": 38,
   "metadata": {
    "collapsed": true
   },
   "outputs": [],
   "source": [
    "# Order features\n",
    "X5 = X2.reindex_axis(sorted(X2.columns), axis=1)"
   ]
  },
  {
   "cell_type": "markdown",
   "metadata": {},
   "source": [
    "<a id='prediction_step'></a>"
   ]
  },
  {
   "cell_type": "code",
   "execution_count": 39,
   "metadata": {
    "collapsed": true
   },
   "outputs": [],
   "source": [
    "pred = model.predict(X5)"
   ]
  },
  {
   "cell_type": "code",
   "execution_count": 40,
   "metadata": {
    "collapsed": true
   },
   "outputs": [],
   "source": [
    "pred_prob = model.predict_proba(X5)"
   ]
  },
  {
   "cell_type": "code",
   "execution_count": 41,
   "metadata": {
    "collapsed": true
   },
   "outputs": [],
   "source": [
    "X5['predicted_label'] = pred\n",
    "X5['chrom'] = df_test_2['chrom']\n",
    "X5['start'] = df_test_2['start']\n",
    "X5['end'] = df_test_2['end']\n",
    "X5['Size'] = df_test_2['Size']\n",
    "X5['GTcons'] = df_test_2['GTcons']\n",
    "X5['GTsupp'] = df_test_2['GTsupp']\n",
    "X5['GTconswithoutIllMP.GT'] = df_test_2['GTconswithoutIllMP.GT']"
   ]
  },
  {
   "cell_type": "code",
   "execution_count": 42,
   "metadata": {
    "collapsed": true
   },
   "outputs": [],
   "source": [
    "X6 = pd.concat([X5, pd.DataFrame(pred_prob, columns=['1','2','3'])])"
   ]
  },
  {
   "cell_type": "code",
   "execution_count": 43,
   "metadata": {
    "collapsed": true
   },
   "outputs": [],
   "source": [
    "X6.to_csv('/Volumes/lesleydata/SVanalyzer_ML/Oct122017_Revised_R/summary_plots/data/preliminary_df/MP_pred_prob_DEL_SVanalyzer_revised_EMHRIC.csv', index=False)"
   ]
  },
  {
   "cell_type": "code",
   "execution_count": null,
   "metadata": {
    "collapsed": true
   },
   "outputs": [],
   "source": [
    "#Note: Reformat X6 csv"
   ]
  },
  {
   "cell_type": "code",
   "execution_count": 44,
   "metadata": {
    "collapsed": true
   },
   "outputs": [],
   "source": [
    "X6 = pd.read_csv('/Volumes/lesleydata/SVanalyzer_ML/Oct122017_Revised_R/summary_plots/data/preliminary_df/MP_pred_prob_DEL_SVanalyzer_revised_EMHRIC.csv')"
   ]
  },
  {
   "cell_type": "code",
   "execution_count": 45,
   "metadata": {
    "collapsed": true
   },
   "outputs": [],
   "source": [
    "X6.rename(columns={'1': 'Homozygous_Reference_SVan_predprob_MP'}, inplace=True)\n",
    "X6.rename(columns={'2': 'Exact_Match_predprob_MP'}, inplace=True)\n",
    "X6.rename(columns={'3': 'Inaccurate_Call_predprob_MP'}, inplace=True)\n",
    "X6.rename(columns={'predicted_label': 'MP_predicted_EMHRIC_label'}, inplace=True)"
   ]
  },
  {
   "cell_type": "code",
   "execution_count": 46,
   "metadata": {},
   "outputs": [
    {
     "data": {
      "text/html": [
       "<div>\n",
       "<table border=\"1\" class=\"dataframe\">\n",
       "  <thead>\n",
       "    <tr style=\"text-align: right;\">\n",
       "      <th></th>\n",
       "      <th>Homozygous_Reference_SVan_predprob_MP</th>\n",
       "      <th>Exact_Match_predprob_MP</th>\n",
       "      <th>Inaccurate_Call_predprob_MP</th>\n",
       "      <th>GTcons</th>\n",
       "      <th>GTconswithoutIllMP.GT</th>\n",
       "      <th>GTsupp</th>\n",
       "      <th>IllMP.GT</th>\n",
       "      <th>IllMP.alt_alnScore_mean</th>\n",
       "      <th>IllMP.alt_alnScore_std</th>\n",
       "      <th>IllMP.alt_count</th>\n",
       "      <th>...</th>\n",
       "      <th>chrom</th>\n",
       "      <th>end</th>\n",
       "      <th>MP_predicted_EMHRIC_label</th>\n",
       "      <th>refN_cnt</th>\n",
       "      <th>refN_pct</th>\n",
       "      <th>segdup_cnt</th>\n",
       "      <th>segdup_pct</th>\n",
       "      <th>start</th>\n",
       "      <th>tandemrep_cnt</th>\n",
       "      <th>tandemrep_pct</th>\n",
       "    </tr>\n",
       "  </thead>\n",
       "  <tbody>\n",
       "    <tr>\n",
       "      <th>0</th>\n",
       "      <td>0.6</td>\n",
       "      <td>0.1</td>\n",
       "      <td>0.3</td>\n",
       "      <td>0</td>\n",
       "      <td>0</td>\n",
       "      <td>4</td>\n",
       "      <td>-1.0</td>\n",
       "      <td>0.0</td>\n",
       "      <td>0.0</td>\n",
       "      <td>0.0</td>\n",
       "      <td>...</td>\n",
       "      <td>1</td>\n",
       "      <td>37568587</td>\n",
       "      <td>0</td>\n",
       "      <td>0</td>\n",
       "      <td>0</td>\n",
       "      <td>0</td>\n",
       "      <td>0.0</td>\n",
       "      <td>37568322</td>\n",
       "      <td>3</td>\n",
       "      <td>0.818868</td>\n",
       "    </tr>\n",
       "    <tr>\n",
       "      <th>1</th>\n",
       "      <td>0.3</td>\n",
       "      <td>0.5</td>\n",
       "      <td>0.2</td>\n",
       "      <td>1</td>\n",
       "      <td>1</td>\n",
       "      <td>1</td>\n",
       "      <td>-1.0</td>\n",
       "      <td>488.0</td>\n",
       "      <td>0.0</td>\n",
       "      <td>1.0</td>\n",
       "      <td>...</td>\n",
       "      <td>1</td>\n",
       "      <td>1092715</td>\n",
       "      <td>1</td>\n",
       "      <td>0</td>\n",
       "      <td>0</td>\n",
       "      <td>0</td>\n",
       "      <td>0.0</td>\n",
       "      <td>1092675</td>\n",
       "      <td>1</td>\n",
       "      <td>1.000000</td>\n",
       "    </tr>\n",
       "    <tr>\n",
       "      <th>2</th>\n",
       "      <td>0.2</td>\n",
       "      <td>0.3</td>\n",
       "      <td>0.5</td>\n",
       "      <td>0</td>\n",
       "      <td>0</td>\n",
       "      <td>1</td>\n",
       "      <td>-1.0</td>\n",
       "      <td>472.0</td>\n",
       "      <td>0.0</td>\n",
       "      <td>1.0</td>\n",
       "      <td>...</td>\n",
       "      <td>1</td>\n",
       "      <td>2629373</td>\n",
       "      <td>2</td>\n",
       "      <td>0</td>\n",
       "      <td>0</td>\n",
       "      <td>1</td>\n",
       "      <td>1.0</td>\n",
       "      <td>2629212</td>\n",
       "      <td>0</td>\n",
       "      <td>0.000000</td>\n",
       "    </tr>\n",
       "  </tbody>\n",
       "</table>\n",
       "<p>3 rows × 49 columns</p>\n",
       "</div>"
      ],
      "text/plain": [
       "   Homozygous_Reference_SVan_predprob_MP  Exact_Match_predprob_MP  \\\n",
       "0                                    0.6                      0.1   \n",
       "1                                    0.3                      0.5   \n",
       "2                                    0.2                      0.3   \n",
       "\n",
       "   Inaccurate_Call_predprob_MP  GTcons  GTconswithoutIllMP.GT  GTsupp  \\\n",
       "0                          0.3       0                      0       4   \n",
       "1                          0.2       1                      1       1   \n",
       "2                          0.5       0                      0       1   \n",
       "\n",
       "   IllMP.GT  IllMP.alt_alnScore_mean  IllMP.alt_alnScore_std  IllMP.alt_count  \\\n",
       "0      -1.0                      0.0                     0.0              0.0   \n",
       "1      -1.0                    488.0                     0.0              1.0   \n",
       "2      -1.0                    472.0                     0.0              1.0   \n",
       "\n",
       "       ...        chrom       end  MP_predicted_EMHRIC_label  refN_cnt  \\\n",
       "0      ...            1  37568587                          0         0   \n",
       "1      ...            1   1092715                          1         0   \n",
       "2      ...            1   2629373                          2         0   \n",
       "\n",
       "   refN_pct  segdup_cnt  segdup_pct     start  tandemrep_cnt  tandemrep_pct  \n",
       "0         0           0         0.0  37568322              3       0.818868  \n",
       "1         0           0         0.0   1092675              1       1.000000  \n",
       "2         0           1         1.0   2629212              0       0.000000  \n",
       "\n",
       "[3 rows x 49 columns]"
      ]
     },
     "execution_count": 46,
     "metadata": {},
     "output_type": "execute_result"
    }
   ],
   "source": [
    "X6.head(3)"
   ]
  },
  {
   "cell_type": "code",
   "execution_count": 47,
   "metadata": {
    "collapsed": true
   },
   "outputs": [],
   "source": [
    "X6.to_csv('/Volumes/lesleydata/SVanalyzer_ML/Oct122017_Revised_R/summary_plots/data/MP_final_df_DEL_SVanalyzer_revised_EMHRIC.csv', index=False)"
   ]
  },
  {
   "cell_type": "markdown",
   "metadata": {},
   "source": [
    "***\n",
    "Label Analysis\n",
    "***"
   ]
  },
  {
   "cell_type": "markdown",
   "metadata": {},
   "source": [
    "Description:\n",
    "  * Comparison of model predicted labels [Exact Match, Homozygous Reference, Inaccurate Calls] to consensus genotype for the 5000 randomly selected datapoints from union_refalt.vcf for HG002 only"
   ]
  },
  {
   "cell_type": "code",
   "execution_count": 48,
   "metadata": {},
   "outputs": [
    {
     "name": "stdout",
     "output_type": "stream",
     "text": [
      "[[ 582   73  224]\n",
      " [ 204 1769  267]\n",
      " [  16  831   64]]\n"
     ]
    }
   ],
   "source": [
    "from sklearn.metrics import confusion_matrix\n",
    "consensus_GT = X6['GTcons']\n",
    "predict = X6['MP_predicted_EMHRIC_label']\n",
    "print(confusion_matrix(consensus_GT, predict))"
   ]
  },
  {
   "cell_type": "code",
   "execution_count": 49,
   "metadata": {},
   "outputs": [
    {
     "name": "stdout",
     "output_type": "stream",
     "text": [
      "[[ 582   73  224]\n",
      " [ 204 1769  267]\n",
      " [  16  831   64]]\n"
     ]
    }
   ],
   "source": [
    "from sklearn.metrics import confusion_matrix\n",
    "GT_without_XX = X6['GTconswithoutIllMP.GT']\n",
    "predict = X6['MP_predicted_EMHRIC_label']\n",
    "print(confusion_matrix(consensus_GT, predict))"
   ]
  },
  {
   "cell_type": "code",
   "execution_count": 50,
   "metadata": {},
   "outputs": [
    {
     "data": {
      "text/plain": [
       "0     879\n",
       "2     911\n",
       "1    2240\n",
       "dtype: int64"
      ]
     },
     "execution_count": 50,
     "metadata": {},
     "output_type": "execute_result"
    }
   ],
   "source": [
    "pd.value_counts(X6['GTconswithoutIllMP.GT'].values, sort=False)"
   ]
  },
  {
   "cell_type": "code",
   "execution_count": 51,
   "metadata": {},
   "outputs": [
    {
     "data": {
      "text/plain": [
       "0     879\n",
       "2     911\n",
       "1    2240\n",
       "dtype: int64"
      ]
     },
     "execution_count": 51,
     "metadata": {},
     "output_type": "execute_result"
    }
   ],
   "source": [
    "pd.value_counts(X6['GTcons'].values, sort=False)"
   ]
  },
  {
   "cell_type": "code",
   "execution_count": 52,
   "metadata": {
    "collapsed": true
   },
   "outputs": [],
   "source": [
    "X6['GTcons'].replace(-1, 'Unknown', inplace=True)\n",
    "X6['GTcons'].replace(0, 'Homozygous_Reference', inplace=True)\n",
    "X6['GTcons'].replace(1, 'Heterozygous_Variant', inplace=True)\n",
    "X6['GTcons'].replace(2, 'Homozygous_Variant', inplace=True)\n",
    "X6['MP_predicted_EMHRIC_label'].replace(0.0, 'Homozygous_Reference_SVan', inplace=True)\n",
    "X6['MP_predicted_EMHRIC_label'].replace(1.0, 'Exact_Match', inplace=True)\n",
    "X6['MP_predicted_EMHRIC_label'].replace(2.0, 'Inaccurate_Call', inplace=True)"
   ]
  },
  {
   "cell_type": "code",
   "execution_count": 54,
   "metadata": {
    "collapsed": true
   },
   "outputs": [],
   "source": [
    "X6['GTconswithoutIllMP.GT'].replace(-1, 'Unknown', inplace=True)\n",
    "X6['GTconswithoutIllMP.GT'].replace(0, 'Homozygous_Reference', inplace=True)\n",
    "X6['GTconswithoutIllMP.GT'].replace(1, 'Heterozygous_Variant', inplace=True)\n",
    "X6['GTconswithoutIllMP.GT'].replace(2, 'Homozygous_Variant', inplace=True)"
   ]
  },
  {
   "cell_type": "markdown",
   "metadata": {},
   "source": [
    "<a id='svan_gtcons'></a>"
   ]
  },
  {
   "cell_type": "markdown",
   "metadata": {},
   "source": [
    "** Compare SVanalyzer Labels to GTcons **"
   ]
  },
  {
   "cell_type": "code",
   "execution_count": 55,
   "metadata": {},
   "outputs": [
    {
     "data": {
      "text/html": [
       "<div>\n",
       "<table border=\"1\" class=\"dataframe\">\n",
       "  <thead>\n",
       "    <tr style=\"text-align: right;\">\n",
       "      <th>SVanalyzer_Label</th>\n",
       "      <th>Exact_Match</th>\n",
       "      <th>Homozygous_Reference_SVan</th>\n",
       "      <th>Inaccurate_Call</th>\n",
       "      <th>All</th>\n",
       "    </tr>\n",
       "    <tr>\n",
       "      <th>GTcons</th>\n",
       "      <th></th>\n",
       "      <th></th>\n",
       "      <th></th>\n",
       "      <th></th>\n",
       "    </tr>\n",
       "  </thead>\n",
       "  <tbody>\n",
       "    <tr>\n",
       "      <th>Heterozygous_Variant</th>\n",
       "      <td>1769</td>\n",
       "      <td>204</td>\n",
       "      <td>267</td>\n",
       "      <td>2240</td>\n",
       "    </tr>\n",
       "    <tr>\n",
       "      <th>Homozygous_Reference</th>\n",
       "      <td>73</td>\n",
       "      <td>582</td>\n",
       "      <td>224</td>\n",
       "      <td>879</td>\n",
       "    </tr>\n",
       "    <tr>\n",
       "      <th>Homozygous_Variant</th>\n",
       "      <td>831</td>\n",
       "      <td>16</td>\n",
       "      <td>64</td>\n",
       "      <td>911</td>\n",
       "    </tr>\n",
       "    <tr>\n",
       "      <th>All</th>\n",
       "      <td>2673</td>\n",
       "      <td>802</td>\n",
       "      <td>555</td>\n",
       "      <td>4030</td>\n",
       "    </tr>\n",
       "  </tbody>\n",
       "</table>\n",
       "</div>"
      ],
      "text/plain": [
       "SVanalyzer_Label      Exact_Match  Homozygous_Reference_SVan  Inaccurate_Call  \\\n",
       "GTcons                                                                          \n",
       "Heterozygous_Variant         1769                        204              267   \n",
       "Homozygous_Reference           73                        582              224   \n",
       "Homozygous_Variant            831                         16               64   \n",
       "All                          2673                        802              555   \n",
       "\n",
       "SVanalyzer_Label       All  \n",
       "GTcons                      \n",
       "Heterozygous_Variant  2240  \n",
       "Homozygous_Reference   879  \n",
       "Homozygous_Variant     911  \n",
       "All                   4030  "
      ]
     },
     "execution_count": 55,
     "metadata": {},
     "output_type": "execute_result"
    }
   ],
   "source": [
    "pd.crosstab(consensus_GT, predict, rownames=['GTcons'], colnames=['SVanalyzer_Label'], margins=True)"
   ]
  },
  {
   "cell_type": "markdown",
   "metadata": {},
   "source": [
    "** Compare SVanalyzer Labels to LOO Consensus GT **"
   ]
  },
  {
   "cell_type": "code",
   "execution_count": 56,
   "metadata": {},
   "outputs": [
    {
     "data": {
      "text/html": [
       "<div>\n",
       "<table border=\"1\" class=\"dataframe\">\n",
       "  <thead>\n",
       "    <tr style=\"text-align: right;\">\n",
       "      <th>SVanalyzer_Label</th>\n",
       "      <th>Exact_Match</th>\n",
       "      <th>Homozygous_Reference_SVan</th>\n",
       "      <th>Inaccurate_Call</th>\n",
       "      <th>All</th>\n",
       "    </tr>\n",
       "    <tr>\n",
       "      <th>GTcons_withoutXX</th>\n",
       "      <th></th>\n",
       "      <th></th>\n",
       "      <th></th>\n",
       "      <th></th>\n",
       "    </tr>\n",
       "  </thead>\n",
       "  <tbody>\n",
       "    <tr>\n",
       "      <th>Heterozygous_Variant</th>\n",
       "      <td>1769</td>\n",
       "      <td>204</td>\n",
       "      <td>267</td>\n",
       "      <td>2240</td>\n",
       "    </tr>\n",
       "    <tr>\n",
       "      <th>Homozygous_Reference</th>\n",
       "      <td>73</td>\n",
       "      <td>582</td>\n",
       "      <td>224</td>\n",
       "      <td>879</td>\n",
       "    </tr>\n",
       "    <tr>\n",
       "      <th>Homozygous_Variant</th>\n",
       "      <td>831</td>\n",
       "      <td>16</td>\n",
       "      <td>64</td>\n",
       "      <td>911</td>\n",
       "    </tr>\n",
       "    <tr>\n",
       "      <th>All</th>\n",
       "      <td>2673</td>\n",
       "      <td>802</td>\n",
       "      <td>555</td>\n",
       "      <td>4030</td>\n",
       "    </tr>\n",
       "  </tbody>\n",
       "</table>\n",
       "</div>"
      ],
      "text/plain": [
       "SVanalyzer_Label      Exact_Match  Homozygous_Reference_SVan  Inaccurate_Call  \\\n",
       "GTcons_withoutXX                                                                \n",
       "Heterozygous_Variant         1769                        204              267   \n",
       "Homozygous_Reference           73                        582              224   \n",
       "Homozygous_Variant            831                         16               64   \n",
       "All                          2673                        802              555   \n",
       "\n",
       "SVanalyzer_Label       All  \n",
       "GTcons_withoutXX            \n",
       "Heterozygous_Variant  2240  \n",
       "Homozygous_Reference   879  \n",
       "Homozygous_Variant     911  \n",
       "All                   4030  "
      ]
     },
     "execution_count": 56,
     "metadata": {},
     "output_type": "execute_result"
    }
   ],
   "source": [
    "pd.crosstab(GT_without_XX, predict, rownames=['GTcons_withoutXX'], colnames=['SVanalyzer_Label'], margins=True)"
   ]
  },
  {
   "cell_type": "markdown",
   "metadata": {},
   "source": [
    "** High Confidence Label Analysis**\n",
    "* **Reminder:** The labels predicted by the model are the following svanalyzer labels:\n",
    "    * Homozygous Reference: 0 \n",
    "    * Exact Match: 1 \n",
    "    * Inaccurate Call: 2 \n",
    "* Here **high confidence labels** are the labels predicted by the model that were also assigned a predict probability of either 0.9 or 1\n",
    "* The following is an analysis of predicted svanalyzer labels with predict probability >0.9"
   ]
  },
  {
   "cell_type": "code",
   "execution_count": 57,
   "metadata": {
    "collapsed": true
   },
   "outputs": [],
   "source": [
    "high_conf_labels = X6[(X6['Homozygous_Reference_SVan_predprob_MP'] == 1) | (X6['Homozygous_Reference_SVan_predprob_MP'] == 0.9) | (X6['Exact_Match_predprob_MP'] == 1) | (X6['Exact_Match_predprob_MP'] == 0.9) | (X6['Inaccurate_Call_predprob_MP'] == 1) | (X6['Inaccurate_Call_predprob_MP'] == 0.9)]"
   ]
  },
  {
   "cell_type": "markdown",
   "metadata": {},
   "source": [
    "** Consensus Genotype versus SVanalyzer Labels **"
   ]
  },
  {
   "cell_type": "code",
   "execution_count": 58,
   "metadata": {
    "scrolled": true
   },
   "outputs": [
    {
     "data": {
      "text/html": [
       "<div>\n",
       "<table border=\"1\" class=\"dataframe\">\n",
       "  <thead>\n",
       "    <tr style=\"text-align: right;\">\n",
       "      <th>SVanalyzer_Label</th>\n",
       "      <th>Exact_Match</th>\n",
       "      <th>Homozygous_Reference_SVan</th>\n",
       "      <th>Inaccurate_Call</th>\n",
       "      <th>All</th>\n",
       "    </tr>\n",
       "    <tr>\n",
       "      <th>GTcons</th>\n",
       "      <th></th>\n",
       "      <th></th>\n",
       "      <th></th>\n",
       "      <th></th>\n",
       "    </tr>\n",
       "  </thead>\n",
       "  <tbody>\n",
       "    <tr>\n",
       "      <th>Heterozygous_Variant</th>\n",
       "      <td>745</td>\n",
       "      <td>19</td>\n",
       "      <td>31</td>\n",
       "      <td>795</td>\n",
       "    </tr>\n",
       "    <tr>\n",
       "      <th>Homozygous_Reference</th>\n",
       "      <td>4</td>\n",
       "      <td>138</td>\n",
       "      <td>13</td>\n",
       "      <td>155</td>\n",
       "    </tr>\n",
       "    <tr>\n",
       "      <th>Homozygous_Variant</th>\n",
       "      <td>516</td>\n",
       "      <td>1</td>\n",
       "      <td>7</td>\n",
       "      <td>524</td>\n",
       "    </tr>\n",
       "    <tr>\n",
       "      <th>All</th>\n",
       "      <td>1265</td>\n",
       "      <td>158</td>\n",
       "      <td>51</td>\n",
       "      <td>1474</td>\n",
       "    </tr>\n",
       "  </tbody>\n",
       "</table>\n",
       "</div>"
      ],
      "text/plain": [
       "SVanalyzer_Label      Exact_Match  Homozygous_Reference_SVan  Inaccurate_Call  \\\n",
       "GTcons                                                                          \n",
       "Heterozygous_Variant          745                         19               31   \n",
       "Homozygous_Reference            4                        138               13   \n",
       "Homozygous_Variant            516                          1                7   \n",
       "All                          1265                        158               51   \n",
       "\n",
       "SVanalyzer_Label       All  \n",
       "GTcons                      \n",
       "Heterozygous_Variant   795  \n",
       "Homozygous_Reference   155  \n",
       "Homozygous_Variant     524  \n",
       "All                   1474  "
      ]
     },
     "execution_count": 58,
     "metadata": {},
     "output_type": "execute_result"
    }
   ],
   "source": [
    "consensus_GT = high_conf_labels['GTcons']\n",
    "predict = high_conf_labels['MP_predicted_EMHRIC_label']\n",
    "pd.crosstab(consensus_GT, predict, rownames=['GTcons'], colnames=['SVanalyzer_Label'], margins=True)"
   ]
  },
  {
   "cell_type": "markdown",
   "metadata": {},
   "source": [
    "** LOO Genotype versus SVanalyzer Labels **"
   ]
  },
  {
   "cell_type": "code",
   "execution_count": 59,
   "metadata": {
    "scrolled": true
   },
   "outputs": [
    {
     "data": {
      "text/html": [
       "<div>\n",
       "<table border=\"1\" class=\"dataframe\">\n",
       "  <thead>\n",
       "    <tr style=\"text-align: right;\">\n",
       "      <th>SVanalyzer_Label</th>\n",
       "      <th>Exact_Match</th>\n",
       "      <th>Homozygous_Reference_SVan</th>\n",
       "      <th>Inaccurate_Call</th>\n",
       "      <th>All</th>\n",
       "    </tr>\n",
       "    <tr>\n",
       "      <th>GTcons_without_XX</th>\n",
       "      <th></th>\n",
       "      <th></th>\n",
       "      <th></th>\n",
       "      <th></th>\n",
       "    </tr>\n",
       "  </thead>\n",
       "  <tbody>\n",
       "    <tr>\n",
       "      <th>Heterozygous_Variant</th>\n",
       "      <td>745</td>\n",
       "      <td>19</td>\n",
       "      <td>31</td>\n",
       "      <td>795</td>\n",
       "    </tr>\n",
       "    <tr>\n",
       "      <th>Homozygous_Reference</th>\n",
       "      <td>4</td>\n",
       "      <td>138</td>\n",
       "      <td>13</td>\n",
       "      <td>155</td>\n",
       "    </tr>\n",
       "    <tr>\n",
       "      <th>Homozygous_Variant</th>\n",
       "      <td>516</td>\n",
       "      <td>1</td>\n",
       "      <td>7</td>\n",
       "      <td>524</td>\n",
       "    </tr>\n",
       "    <tr>\n",
       "      <th>All</th>\n",
       "      <td>1265</td>\n",
       "      <td>158</td>\n",
       "      <td>51</td>\n",
       "      <td>1474</td>\n",
       "    </tr>\n",
       "  </tbody>\n",
       "</table>\n",
       "</div>"
      ],
      "text/plain": [
       "SVanalyzer_Label      Exact_Match  Homozygous_Reference_SVan  Inaccurate_Call  \\\n",
       "GTcons_without_XX                                                               \n",
       "Heterozygous_Variant          745                         19               31   \n",
       "Homozygous_Reference            4                        138               13   \n",
       "Homozygous_Variant            516                          1                7   \n",
       "All                          1265                        158               51   \n",
       "\n",
       "SVanalyzer_Label       All  \n",
       "GTcons_without_XX           \n",
       "Heterozygous_Variant   795  \n",
       "Homozygous_Reference   155  \n",
       "Homozygous_Variant     524  \n",
       "All                   1474  "
      ]
     },
     "execution_count": 59,
     "metadata": {},
     "output_type": "execute_result"
    }
   ],
   "source": [
    "consensus_GT = high_conf_labels['GTconswithoutIllMP.GT']\n",
    "predict = high_conf_labels['MP_predicted_EMHRIC_label']\n",
    "pd.crosstab(consensus_GT, predict, rownames=['GTcons_without_XX'], colnames=['SVanalyzer_Label'], margins=True)"
   ]
  },
  {
   "cell_type": "markdown",
   "metadata": {},
   "source": [
    "***\n",
    "Graphs\n",
    "***"
   ]
  },
  {
   "cell_type": "markdown",
   "metadata": {},
   "source": [
    "** Exact Match **"
   ]
  },
  {
   "cell_type": "code",
   "execution_count": 60,
   "metadata": {
    "collapsed": true
   },
   "outputs": [],
   "source": [
    "em = X5['predicted_label'] == 1.0\n",
    "exact_match = X5[em]"
   ]
  },
  {
   "cell_type": "code",
   "execution_count": 61,
   "metadata": {},
   "outputs": [
    {
     "data": {
      "text/html": [
       "<div>\n",
       "<table border=\"1\" class=\"dataframe\">\n",
       "  <thead>\n",
       "    <tr style=\"text-align: right;\">\n",
       "      <th></th>\n",
       "      <th>IllMP.GT</th>\n",
       "      <th>IllMP.alt_alnScore_mean</th>\n",
       "      <th>IllMP.alt_alnScore_std</th>\n",
       "      <th>IllMP.alt_count</th>\n",
       "      <th>IllMP.alt_insertSize_mean</th>\n",
       "      <th>IllMP.alt_insertSize_std</th>\n",
       "      <th>IllMP.alt_reason_alignmentScore</th>\n",
       "      <th>IllMP.alt_reason_insertSizeScore</th>\n",
       "      <th>IllMP.alt_reason_orientation</th>\n",
       "      <th>IllMP.amb_alnScore_mean</th>\n",
       "      <th>...</th>\n",
       "      <th>refN_pct</th>\n",
       "      <th>segdup_cnt</th>\n",
       "      <th>segdup_pct</th>\n",
       "      <th>start</th>\n",
       "      <th>tandemrep_cnt</th>\n",
       "      <th>tandemrep_pct</th>\n",
       "      <th>predicted_label</th>\n",
       "      <th>GTcons</th>\n",
       "      <th>GTsupp</th>\n",
       "      <th>GTconswithoutIllMP.GT</th>\n",
       "    </tr>\n",
       "  </thead>\n",
       "  <tbody>\n",
       "    <tr>\n",
       "      <th>1</th>\n",
       "      <td>-1.0</td>\n",
       "      <td>488.0</td>\n",
       "      <td>0.0</td>\n",
       "      <td>1.0</td>\n",
       "      <td>3279.0</td>\n",
       "      <td>0.0</td>\n",
       "      <td>1.0</td>\n",
       "      <td>0.0</td>\n",
       "      <td>0.0</td>\n",
       "      <td>360.228032</td>\n",
       "      <td>...</td>\n",
       "      <td>0.0</td>\n",
       "      <td>0.0</td>\n",
       "      <td>0.0</td>\n",
       "      <td>1092675</td>\n",
       "      <td>1.0</td>\n",
       "      <td>1.0</td>\n",
       "      <td>1.0</td>\n",
       "      <td>1</td>\n",
       "      <td>1</td>\n",
       "      <td>1</td>\n",
       "    </tr>\n",
       "  </tbody>\n",
       "</table>\n",
       "<p>1 rows × 46 columns</p>\n",
       "</div>"
      ],
      "text/plain": [
       "   IllMP.GT  IllMP.alt_alnScore_mean  IllMP.alt_alnScore_std  IllMP.alt_count  \\\n",
       "1      -1.0                    488.0                     0.0              1.0   \n",
       "\n",
       "   IllMP.alt_insertSize_mean  IllMP.alt_insertSize_std  \\\n",
       "1                     3279.0                       0.0   \n",
       "\n",
       "   IllMP.alt_reason_alignmentScore  IllMP.alt_reason_insertSizeScore  \\\n",
       "1                              1.0                               0.0   \n",
       "\n",
       "   IllMP.alt_reason_orientation  IllMP.amb_alnScore_mean  \\\n",
       "1                           0.0               360.228032   \n",
       "\n",
       "           ...            refN_pct  segdup_cnt  segdup_pct    start  \\\n",
       "1          ...                 0.0         0.0         0.0  1092675   \n",
       "\n",
       "   tandemrep_cnt  tandemrep_pct  predicted_label  GTcons  GTsupp  \\\n",
       "1            1.0            1.0              1.0       1       1   \n",
       "\n",
       "   GTconswithoutIllMP.GT  \n",
       "1                      1  \n",
       "\n",
       "[1 rows x 46 columns]"
      ]
     },
     "execution_count": 61,
     "metadata": {},
     "output_type": "execute_result"
    }
   ],
   "source": [
    "exact_match.head(1)"
   ]
  },
  {
   "cell_type": "code",
   "execution_count": 62,
   "metadata": {},
   "outputs": [
    {
     "data": {
      "text/html": [
       "\n",
       "    <div class=\"bk-root\">\n",
       "        <a href=\"http://bokeh.pydata.org\" target=\"_blank\" class=\"bk-logo bk-logo-small bk-logo-notebook\"></a>\n",
       "        <span id=\"af53a616-cb64-4a91-8598-c54767e14dc9\">Loading BokehJS ...</span>\n",
       "    </div>"
      ]
     },
     "metadata": {},
     "output_type": "display_data"
    },
    {
     "data": {
      "application/javascript": [
       "\n",
       "(function(global) {\n",
       "  function now() {\n",
       "    return new Date();\n",
       "  }\n",
       "\n",
       "  var force = true;\n",
       "\n",
       "  if (typeof (window._bokeh_onload_callbacks) === \"undefined\" || force === true) {\n",
       "    window._bokeh_onload_callbacks = [];\n",
       "    window._bokeh_is_loading = undefined;\n",
       "  }\n",
       "\n",
       "\n",
       "  \n",
       "  if (typeof (window._bokeh_timeout) === \"undefined\" || force === true) {\n",
       "    window._bokeh_timeout = Date.now() + 5000;\n",
       "    window._bokeh_failed_load = false;\n",
       "  }\n",
       "\n",
       "  var NB_LOAD_WARNING = {'data': {'text/html':\n",
       "     \"<div style='background-color: #fdd'>\\n\"+\n",
       "     \"<p>\\n\"+\n",
       "     \"BokehJS does not appear to have successfully loaded. If loading BokehJS from CDN, this \\n\"+\n",
       "     \"may be due to a slow or bad network connection. Possible fixes:\\n\"+\n",
       "     \"</p>\\n\"+\n",
       "     \"<ul>\\n\"+\n",
       "     \"<li>re-rerun `output_notebook()` to attempt to load from CDN again, or</li>\\n\"+\n",
       "     \"<li>use INLINE resources instead, as so:</li>\\n\"+\n",
       "     \"</ul>\\n\"+\n",
       "     \"<code>\\n\"+\n",
       "     \"from bokeh.resources import INLINE\\n\"+\n",
       "     \"output_notebook(resources=INLINE)\\n\"+\n",
       "     \"</code>\\n\"+\n",
       "     \"</div>\"}};\n",
       "\n",
       "  function display_loaded() {\n",
       "    if (window.Bokeh !== undefined) {\n",
       "      document.getElementById(\"af53a616-cb64-4a91-8598-c54767e14dc9\").textContent = \"BokehJS successfully loaded.\";\n",
       "    } else if (Date.now() < window._bokeh_timeout) {\n",
       "      setTimeout(display_loaded, 100)\n",
       "    }\n",
       "  }\n",
       "\n",
       "  function run_callbacks() {\n",
       "    window._bokeh_onload_callbacks.forEach(function(callback) { callback() });\n",
       "    delete window._bokeh_onload_callbacks\n",
       "    console.info(\"Bokeh: all callbacks have finished\");\n",
       "  }\n",
       "\n",
       "  function load_libs(js_urls, callback) {\n",
       "    window._bokeh_onload_callbacks.push(callback);\n",
       "    if (window._bokeh_is_loading > 0) {\n",
       "      console.log(\"Bokeh: BokehJS is being loaded, scheduling callback at\", now());\n",
       "      return null;\n",
       "    }\n",
       "    if (js_urls == null || js_urls.length === 0) {\n",
       "      run_callbacks();\n",
       "      return null;\n",
       "    }\n",
       "    console.log(\"Bokeh: BokehJS not loaded, scheduling load and callback at\", now());\n",
       "    window._bokeh_is_loading = js_urls.length;\n",
       "    for (var i = 0; i < js_urls.length; i++) {\n",
       "      var url = js_urls[i];\n",
       "      var s = document.createElement('script');\n",
       "      s.src = url;\n",
       "      s.async = false;\n",
       "      s.onreadystatechange = s.onload = function() {\n",
       "        window._bokeh_is_loading--;\n",
       "        if (window._bokeh_is_loading === 0) {\n",
       "          console.log(\"Bokeh: all BokehJS libraries loaded\");\n",
       "          run_callbacks()\n",
       "        }\n",
       "      };\n",
       "      s.onerror = function() {\n",
       "        console.warn(\"failed to load library \" + url);\n",
       "      };\n",
       "      console.log(\"Bokeh: injecting script tag for BokehJS library: \", url);\n",
       "      document.getElementsByTagName(\"head\")[0].appendChild(s);\n",
       "    }\n",
       "  };var element = document.getElementById(\"af53a616-cb64-4a91-8598-c54767e14dc9\");\n",
       "  if (element == null) {\n",
       "    console.log(\"Bokeh: ERROR: autoload.js configured with elementid 'af53a616-cb64-4a91-8598-c54767e14dc9' but no matching script tag was found. \")\n",
       "    return false;\n",
       "  }\n",
       "\n",
       "  var js_urls = [\"https://cdn.pydata.org/bokeh/release/bokeh-0.12.4.min.js\", \"https://cdn.pydata.org/bokeh/release/bokeh-widgets-0.12.4.min.js\"];\n",
       "\n",
       "  var inline_js = [\n",
       "    function(Bokeh) {\n",
       "      Bokeh.set_log_level(\"info\");\n",
       "    },\n",
       "    \n",
       "    function(Bokeh) {\n",
       "      \n",
       "      document.getElementById(\"af53a616-cb64-4a91-8598-c54767e14dc9\").textContent = \"BokehJS is loading...\";\n",
       "    },\n",
       "    function(Bokeh) {\n",
       "      console.log(\"Bokeh: injecting CSS: https://cdn.pydata.org/bokeh/release/bokeh-0.12.4.min.css\");\n",
       "      Bokeh.embed.inject_css(\"https://cdn.pydata.org/bokeh/release/bokeh-0.12.4.min.css\");\n",
       "      console.log(\"Bokeh: injecting CSS: https://cdn.pydata.org/bokeh/release/bokeh-widgets-0.12.4.min.css\");\n",
       "      Bokeh.embed.inject_css(\"https://cdn.pydata.org/bokeh/release/bokeh-widgets-0.12.4.min.css\");\n",
       "    }\n",
       "  ];\n",
       "\n",
       "  function run_inline_js() {\n",
       "    \n",
       "    if ((window.Bokeh !== undefined) || (force === true)) {\n",
       "      for (var i = 0; i < inline_js.length; i++) {\n",
       "        inline_js[i](window.Bokeh);\n",
       "      }if (force === true) {\n",
       "        display_loaded();\n",
       "      }} else if (Date.now() < window._bokeh_timeout) {\n",
       "      setTimeout(run_inline_js, 100);\n",
       "    } else if (!window._bokeh_failed_load) {\n",
       "      console.log(\"Bokeh: BokehJS failed to load within specified timeout.\");\n",
       "      window._bokeh_failed_load = true;\n",
       "    } else if (force !== true) {\n",
       "      var cell = $(document.getElementById(\"af53a616-cb64-4a91-8598-c54767e14dc9\")).parents('.cell').data().cell;\n",
       "      cell.output_area.append_execute_result(NB_LOAD_WARNING)\n",
       "    }\n",
       "\n",
       "  }\n",
       "\n",
       "  if (window._bokeh_is_loading === 0) {\n",
       "    console.log(\"Bokeh: BokehJS loaded, going straight to plotting\");\n",
       "    run_inline_js();\n",
       "  } else {\n",
       "    load_libs(js_urls, function() {\n",
       "      console.log(\"Bokeh: BokehJS plotting callback run at\", now());\n",
       "      run_inline_js();\n",
       "    });\n",
       "  }\n",
       "}(this));"
      ]
     },
     "metadata": {},
     "output_type": "display_data"
    }
   ],
   "source": [
    "output_notebook()"
   ]
  },
  {
   "cell_type": "code",
   "execution_count": 63,
   "metadata": {},
   "outputs": [
    {
     "data": {
      "text/html": [
       "\n",
       "\n",
       "    <div class=\"bk-root\">\n",
       "        <div class=\"bk-plotdiv\" id=\"717efa02-d44d-472a-a737-a5881c6b3a91\"></div>\n",
       "    </div>\n",
       "<script type=\"text/javascript\">\n",
       "  \n",
       "  (function(global) {\n",
       "    function now() {\n",
       "      return new Date();\n",
       "    }\n",
       "  \n",
       "    var force = false;\n",
       "  \n",
       "    if (typeof (window._bokeh_onload_callbacks) === \"undefined\" || force === true) {\n",
       "      window._bokeh_onload_callbacks = [];\n",
       "      window._bokeh_is_loading = undefined;\n",
       "    }\n",
       "  \n",
       "  \n",
       "    \n",
       "    if (typeof (window._bokeh_timeout) === \"undefined\" || force === true) {\n",
       "      window._bokeh_timeout = Date.now() + 0;\n",
       "      window._bokeh_failed_load = false;\n",
       "    }\n",
       "  \n",
       "    var NB_LOAD_WARNING = {'data': {'text/html':\n",
       "       \"<div style='background-color: #fdd'>\\n\"+\n",
       "       \"<p>\\n\"+\n",
       "       \"BokehJS does not appear to have successfully loaded. If loading BokehJS from CDN, this \\n\"+\n",
       "       \"may be due to a slow or bad network connection. Possible fixes:\\n\"+\n",
       "       \"</p>\\n\"+\n",
       "       \"<ul>\\n\"+\n",
       "       \"<li>re-rerun `output_notebook()` to attempt to load from CDN again, or</li>\\n\"+\n",
       "       \"<li>use INLINE resources instead, as so:</li>\\n\"+\n",
       "       \"</ul>\\n\"+\n",
       "       \"<code>\\n\"+\n",
       "       \"from bokeh.resources import INLINE\\n\"+\n",
       "       \"output_notebook(resources=INLINE)\\n\"+\n",
       "       \"</code>\\n\"+\n",
       "       \"</div>\"}};\n",
       "  \n",
       "    function display_loaded() {\n",
       "      if (window.Bokeh !== undefined) {\n",
       "        document.getElementById(\"717efa02-d44d-472a-a737-a5881c6b3a91\").textContent = \"BokehJS successfully loaded.\";\n",
       "      } else if (Date.now() < window._bokeh_timeout) {\n",
       "        setTimeout(display_loaded, 100)\n",
       "      }\n",
       "    }\n",
       "  \n",
       "    function run_callbacks() {\n",
       "      window._bokeh_onload_callbacks.forEach(function(callback) { callback() });\n",
       "      delete window._bokeh_onload_callbacks\n",
       "      console.info(\"Bokeh: all callbacks have finished\");\n",
       "    }\n",
       "  \n",
       "    function load_libs(js_urls, callback) {\n",
       "      window._bokeh_onload_callbacks.push(callback);\n",
       "      if (window._bokeh_is_loading > 0) {\n",
       "        console.log(\"Bokeh: BokehJS is being loaded, scheduling callback at\", now());\n",
       "        return null;\n",
       "      }\n",
       "      if (js_urls == null || js_urls.length === 0) {\n",
       "        run_callbacks();\n",
       "        return null;\n",
       "      }\n",
       "      console.log(\"Bokeh: BokehJS not loaded, scheduling load and callback at\", now());\n",
       "      window._bokeh_is_loading = js_urls.length;\n",
       "      for (var i = 0; i < js_urls.length; i++) {\n",
       "        var url = js_urls[i];\n",
       "        var s = document.createElement('script');\n",
       "        s.src = url;\n",
       "        s.async = false;\n",
       "        s.onreadystatechange = s.onload = function() {\n",
       "          window._bokeh_is_loading--;\n",
       "          if (window._bokeh_is_loading === 0) {\n",
       "            console.log(\"Bokeh: all BokehJS libraries loaded\");\n",
       "            run_callbacks()\n",
       "          }\n",
       "        };\n",
       "        s.onerror = function() {\n",
       "          console.warn(\"failed to load library \" + url);\n",
       "        };\n",
       "        console.log(\"Bokeh: injecting script tag for BokehJS library: \", url);\n",
       "        document.getElementsByTagName(\"head\")[0].appendChild(s);\n",
       "      }\n",
       "    };var element = document.getElementById(\"717efa02-d44d-472a-a737-a5881c6b3a91\");\n",
       "    if (element == null) {\n",
       "      console.log(\"Bokeh: ERROR: autoload.js configured with elementid '717efa02-d44d-472a-a737-a5881c6b3a91' but no matching script tag was found. \")\n",
       "      return false;\n",
       "    }\n",
       "  \n",
       "    var js_urls = [];\n",
       "  \n",
       "    var inline_js = [\n",
       "      function(Bokeh) {\n",
       "        (function() {\n",
       "          var fn = function() {\n",
       "            var docs_json = {\"874ed735-2b6b-4566-bb9c-4521df1c0668\":{\"roots\":{\"references\":[{\"attributes\":{\"active_drag\":\"auto\",\"active_scroll\":\"auto\",\"active_tap\":\"auto\",\"tools\":[{\"id\":\"e89f4e37-1b84-47a0-b5f3-6f6cce3f9f97\",\"type\":\"PanTool\"},{\"id\":\"365f2ce5-88d7-4cdd-8cc9-32bc99d5aac8\",\"type\":\"WheelZoomTool\"},{\"id\":\"cf8418ef-6c2b-473a-a2fc-121c75ba26f3\",\"type\":\"BoxZoomTool\"},{\"id\":\"96b1532f-f2d8-4a1e-90ae-a3126453c168\",\"type\":\"SaveTool\"},{\"id\":\"ef1ab104-1a1b-411d-88e3-18e846c555ab\",\"type\":\"ResetTool\"},{\"id\":\"0fc609b2-40ea-4233-a1dd-b4705b8e3199\",\"type\":\"HelpTool\"}]},\"id\":\"f4d4594d-58a6-4af0-a090-2b90f539912d\",\"type\":\"Toolbar\"},{\"attributes\":{\"fill_alpha\":{\"field\":\"fill_alpha\"},\"fill_color\":{\"field\":\"color\"},\"height\":{\"field\":\"height\",\"units\":\"data\"},\"line_color\":{\"field\":\"line_color\"},\"width\":{\"field\":\"width\",\"units\":\"data\"},\"x\":{\"field\":\"x\"},\"y\":{\"field\":\"y\"}},\"id\":\"06bc6d05-fbfc-4a6a-8090-7b344f2bdba7\",\"type\":\"Rect\"},{\"attributes\":{},\"id\":\"49110cb3-fd92-43a6-98d9-c5f10084f445\",\"type\":\"BasicTickFormatter\"},{\"attributes\":{\"callback\":null,\"column_names\":[\"fill_alpha\",\"line_color\",\"y\",\"line_alpha\",\"x\",\"color\",\"height\",\"label\",\"width\"],\"data\":{\"chart_index\":[\"[0.000000, 0.133333]\"],\"color\":[\"LightSlateGray\"],\"fill_alpha\":[0.8],\"height\":[73.0],\"label\":[\"[0.000000, 0.133333]\"],\"line_alpha\":[1.0],\"line_color\":[\"black\"],\"width\":[0.13333333333333333],\"x\":[\"0.0666665\"],\"y\":[36.5]}},\"id\":\"ddd99db5-c24a-4753-9f08-365715632241\",\"type\":\"ColumnDataSource\"},{\"attributes\":{\"fill_alpha\":{\"field\":\"fill_alpha\"},\"fill_color\":{\"field\":\"color\"},\"height\":{\"field\":\"height\",\"units\":\"data\"},\"line_color\":{\"field\":\"line_color\"},\"width\":{\"field\":\"width\",\"units\":\"data\"},\"x\":{\"field\":\"x\"},\"y\":{\"field\":\"y\"}},\"id\":\"e6585a70-33f7-4635-a1fe-8dedd5d6749e\",\"type\":\"Rect\"},{\"attributes\":{\"callback\":null,\"column_names\":[\"fill_alpha\",\"line_color\",\"y\",\"line_alpha\",\"x\",\"color\",\"height\",\"label\",\"width\"],\"data\":{\"chart_index\":[\"(0.800000, 0.933333]\"],\"color\":[\"LightSlateGray\"],\"fill_alpha\":[0.8],\"height\":[0.0],\"label\":[\"(0.800000, 0.933333]\"],\"line_alpha\":[1.0],\"line_color\":[\"black\"],\"width\":[0.1333333333333333],\"x\":[\"0.8666665\"],\"y\":[0.0]}},\"id\":\"ab8f6b85-9dd3-45e6-9eda-2aadfdb6336d\",\"type\":\"ColumnDataSource\"},{\"attributes\":{\"plot\":{\"id\":\"2cb9c607-5ae8-4811-82fd-67561379f889\",\"subtype\":\"Chart\",\"type\":\"Plot\"}},\"id\":\"0fc609b2-40ea-4233-a1dd-b4705b8e3199\",\"type\":\"HelpTool\"},{\"attributes\":{\"callback\":null,\"end\":2.0500001666666665,\"start\":-0.050000166666666665},\"id\":\"388c6c28-182a-4546-9efd-156b87c37d9e\",\"type\":\"Range1d\"},{\"attributes\":{\"data_source\":{\"id\":\"30233263-6d5e-4f83-8bb6-6500b56c1d36\",\"type\":\"ColumnDataSource\"},\"glyph\":{\"id\":\"95be47e2-4dea-43e8-91e5-83475d2e2049\",\"type\":\"Rect\"},\"hover_glyph\":null,\"nonselection_glyph\":null,\"selection_glyph\":null},\"id\":\"b9ed6602-46fe-402b-8c20-ac654d31ce34\",\"type\":\"GlyphRenderer\"},{\"attributes\":{},\"id\":\"984460c5-d414-424f-a60c-f41a4124fc1a\",\"type\":\"BasicTicker\"},{\"attributes\":{\"callback\":null,\"column_names\":[\"fill_alpha\",\"line_color\",\"y\",\"line_alpha\",\"x\",\"color\",\"height\",\"label\",\"width\"],\"data\":{\"chart_index\":[\"(1.866667, 2.000000]\"],\"color\":[\"LightSlateGray\"],\"fill_alpha\":[0.8],\"height\":[831.0],\"label\":[\"(1.866667, 2.000000]\"],\"line_alpha\":[1.0],\"line_color\":[\"black\"],\"width\":[0.1333333333333333],\"x\":[\"1.9333335\"],\"y\":[415.5]}},\"id\":\"0858642a-b796-40a3-8fbd-e500045ba16a\",\"type\":\"ColumnDataSource\"},{\"attributes\":{\"data_source\":{\"id\":\"ddd99db5-c24a-4753-9f08-365715632241\",\"type\":\"ColumnDataSource\"},\"glyph\":{\"id\":\"5f85a30b-372a-4205-9159-6369ac98c099\",\"type\":\"Rect\"},\"hover_glyph\":null,\"nonselection_glyph\":null,\"selection_glyph\":null},\"id\":\"ae3cd1b0-a1e9-4be1-b142-b059616dcb54\",\"type\":\"GlyphRenderer\"},{\"attributes\":{\"axis_label\":\"Frequency\",\"formatter\":{\"id\":\"faf714c0-496c-4433-9a67-40bcc4e73c45\",\"type\":\"BasicTickFormatter\"},\"plot\":{\"id\":\"2cb9c607-5ae8-4811-82fd-67561379f889\",\"subtype\":\"Chart\",\"type\":\"Plot\"},\"ticker\":{\"id\":\"5d8487d5-28fb-4621-91f5-43cf4eaf3cfc\",\"type\":\"BasicTicker\"}},\"id\":\"ed34fa67-16fa-4df9-bf1a-1d50c9ae0e22\",\"type\":\"LinearAxis\"},{\"attributes\":{\"dimension\":1,\"plot\":{\"id\":\"2cb9c607-5ae8-4811-82fd-67561379f889\",\"subtype\":\"Chart\",\"type\":\"Plot\"},\"ticker\":{\"id\":\"5d8487d5-28fb-4621-91f5-43cf4eaf3cfc\",\"type\":\"BasicTicker\"}},\"id\":\"abab7fc9-182c-4002-b295-8b12c3a348c5\",\"type\":\"Grid\"},{\"attributes\":{\"callback\":null,\"column_names\":[\"fill_alpha\",\"line_color\",\"y\",\"line_alpha\",\"x\",\"color\",\"height\",\"label\",\"width\"],\"data\":{\"chart_index\":[\"(0.933333, 1.066667]\"],\"color\":[\"LightSlateGray\"],\"fill_alpha\":[0.8],\"height\":[1769.0],\"label\":[\"(0.933333, 1.066667]\"],\"line_alpha\":[1.0],\"line_color\":[\"black\"],\"width\":[0.1333333333333333],\"x\":[\"1.0\"],\"y\":[884.5]}},\"id\":\"505cb8e0-0f2a-46e3-a27a-451e30f43159\",\"type\":\"ColumnDataSource\"},{\"attributes\":{\"data_source\":{\"id\":\"e1d88da7-f9fa-4b1c-baa4-f1bbedd8cdc7\",\"type\":\"ColumnDataSource\"},\"glyph\":{\"id\":\"b17f74b1-4aac-4fe1-9a81-5b04c9aa1996\",\"type\":\"Rect\"},\"hover_glyph\":null,\"nonselection_glyph\":null,\"selection_glyph\":null},\"id\":\"397fa58a-b9eb-4a28-ba52-bbc60c4f2bd9\",\"type\":\"GlyphRenderer\"},{\"attributes\":{\"data_source\":{\"id\":\"ab8f6b85-9dd3-45e6-9eda-2aadfdb6336d\",\"type\":\"ColumnDataSource\"},\"glyph\":{\"id\":\"67a6f21e-c1f1-467d-b5b8-49d5a97ca9db\",\"type\":\"Rect\"},\"hover_glyph\":null,\"nonselection_glyph\":null,\"selection_glyph\":null},\"id\":\"a48e831c-77ff-4c6a-bf38-59330e8fd9a5\",\"type\":\"GlyphRenderer\"},{\"attributes\":{},\"id\":\"6009802f-d78d-4883-b720-48c77cd32fa5\",\"type\":\"ToolEvents\"},{\"attributes\":{\"data_source\":{\"id\":\"976e5372-c866-4ec7-9682-dd2a490da274\",\"type\":\"ColumnDataSource\"},\"glyph\":{\"id\":\"9eecec0e-e9e5-4b75-8ff6-ef8c83eefc7f\",\"type\":\"Rect\"},\"hover_glyph\":null,\"nonselection_glyph\":null,\"selection_glyph\":null},\"id\":\"ae16ab44-1c83-4252-b3ef-0b2ca5c54a2c\",\"type\":\"GlyphRenderer\"},{\"attributes\":{\"fill_alpha\":{\"field\":\"fill_alpha\"},\"fill_color\":{\"field\":\"color\"},\"height\":{\"field\":\"height\",\"units\":\"data\"},\"line_color\":{\"field\":\"line_color\"},\"width\":{\"field\":\"width\",\"units\":\"data\"},\"x\":{\"field\":\"x\"},\"y\":{\"field\":\"y\"}},\"id\":\"67a6f21e-c1f1-467d-b5b8-49d5a97ca9db\",\"type\":\"Rect\"},{\"attributes\":{\"data_source\":{\"id\":\"1091cad1-3e9d-4410-8e04-c1aafe007f17\",\"type\":\"ColumnDataSource\"},\"glyph\":{\"id\":\"7e8a0d8c-78da-4dcf-a783-bb19202100e5\",\"type\":\"Rect\"},\"hover_glyph\":null,\"nonselection_glyph\":null,\"selection_glyph\":null},\"id\":\"a205e709-0f29-49d2-aaaa-679c5fe2e83d\",\"type\":\"GlyphRenderer\"},{\"attributes\":{\"callback\":null,\"column_names\":[\"fill_alpha\",\"line_color\",\"y\",\"line_alpha\",\"x\",\"color\",\"height\",\"label\",\"width\"],\"data\":{\"chart_index\":[\"(1.333333, 1.466667]\"],\"color\":[\"LightSlateGray\"],\"fill_alpha\":[0.8],\"height\":[0.0],\"label\":[\"(1.333333, 1.466667]\"],\"line_alpha\":[1.0],\"line_color\":[\"black\"],\"width\":[0.1333333333333333],\"x\":[\"1.4\"],\"y\":[0.0]}},\"id\":\"8a7647d2-9de3-45b4-a2c2-5a7f97487cdf\",\"type\":\"ColumnDataSource\"},{\"attributes\":{\"data_source\":{\"id\":\"52d91ca4-7b43-4e33-9edb-85c800573a65\",\"type\":\"ColumnDataSource\"},\"glyph\":{\"id\":\"a9d282a6-4b3f-4971-8972-a1bad2d67a11\",\"type\":\"Rect\"},\"hover_glyph\":null,\"nonselection_glyph\":null,\"selection_glyph\":null},\"id\":\"30e23898-7a6a-404e-8980-09896c584141\",\"type\":\"GlyphRenderer\"},{\"attributes\":{\"data_source\":{\"id\":\"182bc523-f28f-4d00-a772-2e42885b77e6\",\"type\":\"ColumnDataSource\"},\"glyph\":{\"id\":\"06bc6d05-fbfc-4a6a-8090-7b344f2bdba7\",\"type\":\"Rect\"},\"hover_glyph\":null,\"nonselection_glyph\":null,\"selection_glyph\":null},\"id\":\"57dc02a4-3189-4562-afc2-d0b1776c9200\",\"type\":\"GlyphRenderer\"},{\"attributes\":{\"fill_alpha\":{\"field\":\"fill_alpha\"},\"fill_color\":{\"field\":\"color\"},\"height\":{\"field\":\"height\",\"units\":\"data\"},\"line_color\":{\"field\":\"line_color\"},\"width\":{\"field\":\"width\",\"units\":\"data\"},\"x\":{\"field\":\"x\"},\"y\":{\"field\":\"y\"}},\"id\":\"9eecec0e-e9e5-4b75-8ff6-ef8c83eefc7f\",\"type\":\"Rect\"},{\"attributes\":{\"callback\":null,\"column_names\":[\"fill_alpha\",\"line_color\",\"y\",\"line_alpha\",\"x\",\"color\",\"height\",\"label\",\"width\"],\"data\":{\"chart_index\":[\"(0.533333, 0.666667]\"],\"color\":[\"LightSlateGray\"],\"fill_alpha\":[0.8],\"height\":[0.0],\"label\":[\"(0.533333, 0.666667]\"],\"line_alpha\":[1.0],\"line_color\":[\"black\"],\"width\":[0.1333333333333333],\"x\":[\"0.6\"],\"y\":[0.0]}},\"id\":\"e1d88da7-f9fa-4b1c-baa4-f1bbedd8cdc7\",\"type\":\"ColumnDataSource\"},{\"attributes\":{\"fill_alpha\":{\"field\":\"fill_alpha\"},\"fill_color\":{\"field\":\"color\"},\"height\":{\"field\":\"height\",\"units\":\"data\"},\"line_color\":{\"field\":\"line_color\"},\"width\":{\"field\":\"width\",\"units\":\"data\"},\"x\":{\"field\":\"x\"},\"y\":{\"field\":\"y\"}},\"id\":\"7e8a0d8c-78da-4dcf-a783-bb19202100e5\",\"type\":\"Rect\"},{\"attributes\":{\"data_source\":{\"id\":\"598e1718-b21d-42ec-9e4c-087ddf764952\",\"type\":\"ColumnDataSource\"},\"glyph\":{\"id\":\"c3f0ad32-6c07-40fe-9d69-9342d1e37616\",\"type\":\"Rect\"},\"hover_glyph\":null,\"nonselection_glyph\":null,\"selection_glyph\":null},\"id\":\"fb3455a8-5037-4733-9ed9-d763b44418a0\",\"type\":\"GlyphRenderer\"},{\"attributes\":{\"axis_label\":\"GTcons\",\"formatter\":{\"id\":\"49110cb3-fd92-43a6-98d9-c5f10084f445\",\"type\":\"BasicTickFormatter\"},\"plot\":{\"id\":\"2cb9c607-5ae8-4811-82fd-67561379f889\",\"subtype\":\"Chart\",\"type\":\"Plot\"},\"ticker\":{\"id\":\"984460c5-d414-424f-a60c-f41a4124fc1a\",\"type\":\"BasicTicker\"}},\"id\":\"b77c393c-d6c9-41a7-a2dc-9cf1df4731cf\",\"type\":\"LinearAxis\"},{\"attributes\":{\"fill_alpha\":{\"field\":\"fill_alpha\"},\"fill_color\":{\"field\":\"color\"},\"height\":{\"field\":\"height\",\"units\":\"data\"},\"line_color\":{\"field\":\"line_color\"},\"width\":{\"field\":\"width\",\"units\":\"data\"},\"x\":{\"field\":\"x\"},\"y\":{\"field\":\"y\"}},\"id\":\"c3f0ad32-6c07-40fe-9d69-9342d1e37616\",\"type\":\"Rect\"},{\"attributes\":{\"data_source\":{\"id\":\"8c8ef454-15c1-462b-866f-34924322d3c7\",\"type\":\"ColumnDataSource\"},\"glyph\":{\"id\":\"e6585a70-33f7-4635-a1fe-8dedd5d6749e\",\"type\":\"Rect\"},\"hover_glyph\":null,\"nonselection_glyph\":null,\"selection_glyph\":null},\"id\":\"1016b364-4462-45ea-9cef-9a46383e0694\",\"type\":\"GlyphRenderer\"},{\"attributes\":{\"fill_alpha\":{\"field\":\"fill_alpha\"},\"fill_color\":{\"field\":\"color\"},\"height\":{\"field\":\"height\",\"units\":\"data\"},\"line_color\":{\"field\":\"line_color\"},\"width\":{\"field\":\"width\",\"units\":\"data\"},\"x\":{\"field\":\"x\"},\"y\":{\"field\":\"y\"}},\"id\":\"4640b70c-af24-47d0-883b-2bcad92685a2\",\"type\":\"Rect\"},{\"attributes\":{\"callback\":null,\"column_names\":[\"fill_alpha\",\"line_color\",\"y\",\"line_alpha\",\"x\",\"color\",\"height\",\"label\",\"width\"],\"data\":{\"chart_index\":[\"(1.600000, 1.733333]\"],\"color\":[\"LightSlateGray\"],\"fill_alpha\":[0.8],\"height\":[0.0],\"label\":[\"(1.600000, 1.733333]\"],\"line_alpha\":[1.0],\"line_color\":[\"black\"],\"width\":[0.1333333333333333],\"x\":[\"1.6666665\"],\"y\":[0.0]}},\"id\":\"52d91ca4-7b43-4e33-9edb-85c800573a65\",\"type\":\"ColumnDataSource\"},{\"attributes\":{\"data_source\":{\"id\":\"3985baff-dbd6-4215-9c65-864bdf082e78\",\"type\":\"ColumnDataSource\"},\"glyph\":{\"id\":\"1c8a8c23-ede4-4fec-8c29-1812b0bb2c12\",\"type\":\"Rect\"},\"hover_glyph\":null,\"nonselection_glyph\":null,\"selection_glyph\":null},\"id\":\"97dc4461-0ff1-4ce5-bdd9-f786bf30ae05\",\"type\":\"GlyphRenderer\"},{\"attributes\":{\"callback\":null,\"end\":1945.9},\"id\":\"5e4bcfc9-3e37-4114-bb69-df9f6718eb13\",\"type\":\"Range1d\"},{\"attributes\":{\"callback\":null,\"column_names\":[\"fill_alpha\",\"line_color\",\"y\",\"line_alpha\",\"x\",\"color\",\"height\",\"label\",\"width\"],\"data\":{\"chart_index\":[\"(0.133333, 0.266667]\"],\"color\":[\"LightSlateGray\"],\"fill_alpha\":[0.8],\"height\":[0.0],\"label\":[\"(0.133333, 0.266667]\"],\"line_alpha\":[1.0],\"line_color\":[\"black\"],\"width\":[0.13333333333333333],\"x\":[\"0.2\"],\"y\":[0.0]}},\"id\":\"30233263-6d5e-4f83-8bb6-6500b56c1d36\",\"type\":\"ColumnDataSource\"},{\"attributes\":{\"callback\":null,\"column_names\":[\"fill_alpha\",\"line_color\",\"y\",\"line_alpha\",\"x\",\"color\",\"height\",\"label\",\"width\"],\"data\":{\"chart_index\":[\"(0.400000, 0.533333]\"],\"color\":[\"LightSlateGray\"],\"fill_alpha\":[0.8],\"height\":[0.0],\"label\":[\"(0.400000, 0.533333]\"],\"line_alpha\":[1.0],\"line_color\":[\"black\"],\"width\":[0.1333333333333333],\"x\":[\"0.4666665\"],\"y\":[0.0]}},\"id\":\"8c8ef454-15c1-462b-866f-34924322d3c7\",\"type\":\"ColumnDataSource\"},{\"attributes\":{\"fill_alpha\":{\"field\":\"fill_alpha\"},\"fill_color\":{\"field\":\"color\"},\"height\":{\"field\":\"height\",\"units\":\"data\"},\"line_color\":{\"field\":\"line_color\"},\"width\":{\"field\":\"width\",\"units\":\"data\"},\"x\":{\"field\":\"x\"},\"y\":{\"field\":\"y\"}},\"id\":\"b17f74b1-4aac-4fe1-9a81-5b04c9aa1996\",\"type\":\"Rect\"},{\"attributes\":{\"plot\":{\"id\":\"2cb9c607-5ae8-4811-82fd-67561379f889\",\"subtype\":\"Chart\",\"type\":\"Plot\"}},\"id\":\"e89f4e37-1b84-47a0-b5f3-6f6cce3f9f97\",\"type\":\"PanTool\"},{\"attributes\":{\"bottom_units\":\"screen\",\"fill_alpha\":{\"value\":0.5},\"fill_color\":{\"value\":\"lightgrey\"},\"left_units\":\"screen\",\"level\":\"overlay\",\"line_alpha\":{\"value\":1.0},\"line_color\":{\"value\":\"black\"},\"line_dash\":[4,4],\"line_width\":{\"value\":2},\"plot\":null,\"render_mode\":\"css\",\"right_units\":\"screen\",\"top_units\":\"screen\"},\"id\":\"c54af9f0-7dd2-485a-94da-eb94af217ae1\",\"type\":\"BoxAnnotation\"},{\"attributes\":{\"data_source\":{\"id\":\"8a7647d2-9de3-45b4-a2c2-5a7f97487cdf\",\"type\":\"ColumnDataSource\"},\"glyph\":{\"id\":\"d4b9c5a1-d784-43e1-b166-a9f10f6d1dda\",\"type\":\"Rect\"},\"hover_glyph\":null,\"nonselection_glyph\":null,\"selection_glyph\":null},\"id\":\"d733af64-f841-42ac-822b-3929cfc669c1\",\"type\":\"GlyphRenderer\"},{\"attributes\":{\"location\":\"top_left\",\"plot\":{\"id\":\"2cb9c607-5ae8-4811-82fd-67561379f889\",\"subtype\":\"Chart\",\"type\":\"Plot\"}},\"id\":\"1097fcbc-6207-49d2-95b5-6342d15c0e76\",\"type\":\"Legend\"},{\"attributes\":{\"below\":[{\"id\":\"b77c393c-d6c9-41a7-a2dc-9cf1df4731cf\",\"type\":\"LinearAxis\"}],\"css_classes\":null,\"left\":[{\"id\":\"ed34fa67-16fa-4df9-bf1a-1d50c9ae0e22\",\"type\":\"LinearAxis\"}],\"plot_height\":250,\"renderers\":[{\"id\":\"c54af9f0-7dd2-485a-94da-eb94af217ae1\",\"type\":\"BoxAnnotation\"},{\"id\":\"ae3cd1b0-a1e9-4be1-b142-b059616dcb54\",\"type\":\"GlyphRenderer\"},{\"id\":\"b9ed6602-46fe-402b-8c20-ac654d31ce34\",\"type\":\"GlyphRenderer\"},{\"id\":\"60727d87-7ed1-492b-8cac-e08e2dbb51b5\",\"type\":\"GlyphRenderer\"},{\"id\":\"1016b364-4462-45ea-9cef-9a46383e0694\",\"type\":\"GlyphRenderer\"},{\"id\":\"397fa58a-b9eb-4a28-ba52-bbc60c4f2bd9\",\"type\":\"GlyphRenderer\"},{\"id\":\"fb3455a8-5037-4733-9ed9-d763b44418a0\",\"type\":\"GlyphRenderer\"},{\"id\":\"a48e831c-77ff-4c6a-bf38-59330e8fd9a5\",\"type\":\"GlyphRenderer\"},{\"id\":\"e3f43331-0ab1-4d15-8d3e-be89bc54c926\",\"type\":\"GlyphRenderer\"},{\"id\":\"57dc02a4-3189-4562-afc2-d0b1776c9200\",\"type\":\"GlyphRenderer\"},{\"id\":\"ae16ab44-1c83-4252-b3ef-0b2ca5c54a2c\",\"type\":\"GlyphRenderer\"},{\"id\":\"d733af64-f841-42ac-822b-3929cfc669c1\",\"type\":\"GlyphRenderer\"},{\"id\":\"97dc4461-0ff1-4ce5-bdd9-f786bf30ae05\",\"type\":\"GlyphRenderer\"},{\"id\":\"30e23898-7a6a-404e-8980-09896c584141\",\"type\":\"GlyphRenderer\"},{\"id\":\"a205e709-0f29-49d2-aaaa-679c5fe2e83d\",\"type\":\"GlyphRenderer\"},{\"id\":\"32650e82-e172-46b0-adf4-05ed7084fa00\",\"type\":\"GlyphRenderer\"},{\"id\":\"1097fcbc-6207-49d2-95b5-6342d15c0e76\",\"type\":\"Legend\"},{\"id\":\"b77c393c-d6c9-41a7-a2dc-9cf1df4731cf\",\"type\":\"LinearAxis\"},{\"id\":\"ed34fa67-16fa-4df9-bf1a-1d50c9ae0e22\",\"type\":\"LinearAxis\"},{\"id\":\"abab7fc9-182c-4002-b295-8b12c3a348c5\",\"type\":\"Grid\"}],\"title\":{\"id\":\"fa99ce84-29f5-4b57-b3a8-c4a31d41c518\",\"type\":\"Title\"},\"tool_events\":{\"id\":\"6009802f-d78d-4883-b720-48c77cd32fa5\",\"type\":\"ToolEvents\"},\"toolbar\":{\"id\":\"f4d4594d-58a6-4af0-a090-2b90f539912d\",\"type\":\"Toolbar\"},\"x_mapper_type\":\"auto\",\"x_range\":{\"id\":\"388c6c28-182a-4546-9efd-156b87c37d9e\",\"type\":\"Range1d\"},\"y_mapper_type\":\"auto\",\"y_range\":{\"id\":\"5e4bcfc9-3e37-4114-bb69-df9f6718eb13\",\"type\":\"Range1d\"}},\"id\":\"2cb9c607-5ae8-4811-82fd-67561379f889\",\"subtype\":\"Chart\",\"type\":\"Plot\"},{\"attributes\":{\"fill_alpha\":{\"field\":\"fill_alpha\"},\"fill_color\":{\"field\":\"color\"},\"height\":{\"field\":\"height\",\"units\":\"data\"},\"line_color\":{\"field\":\"line_color\"},\"width\":{\"field\":\"width\",\"units\":\"data\"},\"x\":{\"field\":\"x\"},\"y\":{\"field\":\"y\"}},\"id\":\"a9d282a6-4b3f-4971-8972-a1bad2d67a11\",\"type\":\"Rect\"},{\"attributes\":{},\"id\":\"faf714c0-496c-4433-9a67-40bcc4e73c45\",\"type\":\"BasicTickFormatter\"},{\"attributes\":{\"callback\":null,\"column_names\":[\"fill_alpha\",\"line_color\",\"y\",\"line_alpha\",\"x\",\"color\",\"height\",\"label\",\"width\"],\"data\":{\"chart_index\":[\"(1.200000, 1.333333]\"],\"color\":[\"LightSlateGray\"],\"fill_alpha\":[0.8],\"height\":[0.0],\"label\":[\"(1.200000, 1.333333]\"],\"line_alpha\":[1.0],\"line_color\":[\"black\"],\"width\":[0.1333333333333333],\"x\":[\"1.2666665\"],\"y\":[0.0]}},\"id\":\"976e5372-c866-4ec7-9682-dd2a490da274\",\"type\":\"ColumnDataSource\"},{\"attributes\":{\"fill_alpha\":{\"field\":\"fill_alpha\"},\"fill_color\":{\"field\":\"color\"},\"height\":{\"field\":\"height\",\"units\":\"data\"},\"line_color\":{\"field\":\"line_color\"},\"width\":{\"field\":\"width\",\"units\":\"data\"},\"x\":{\"field\":\"x\"},\"y\":{\"field\":\"y\"}},\"id\":\"fdf5413e-34ce-4666-aa61-b7bafeb39f28\",\"type\":\"Rect\"},{\"attributes\":{\"data_source\":{\"id\":\"0858642a-b796-40a3-8fbd-e500045ba16a\",\"type\":\"ColumnDataSource\"},\"glyph\":{\"id\":\"0957451b-f160-4d36-ab2e-e15b7e23f4bb\",\"type\":\"Rect\"},\"hover_glyph\":null,\"nonselection_glyph\":null,\"selection_glyph\":null},\"id\":\"32650e82-e172-46b0-adf4-05ed7084fa00\",\"type\":\"GlyphRenderer\"},{\"attributes\":{\"fill_alpha\":{\"field\":\"fill_alpha\"},\"fill_color\":{\"field\":\"color\"},\"height\":{\"field\":\"height\",\"units\":\"data\"},\"line_color\":{\"field\":\"line_color\"},\"width\":{\"field\":\"width\",\"units\":\"data\"},\"x\":{\"field\":\"x\"},\"y\":{\"field\":\"y\"}},\"id\":\"d4b9c5a1-d784-43e1-b166-a9f10f6d1dda\",\"type\":\"Rect\"},{\"attributes\":{\"callback\":null,\"column_names\":[\"fill_alpha\",\"line_color\",\"y\",\"line_alpha\",\"x\",\"color\",\"height\",\"label\",\"width\"],\"data\":{\"chart_index\":[\"(1.066667, 1.200000]\"],\"color\":[\"LightSlateGray\"],\"fill_alpha\":[0.8],\"height\":[0.0],\"label\":[\"(1.066667, 1.200000]\"],\"line_alpha\":[1.0],\"line_color\":[\"black\"],\"width\":[0.1333333333333333],\"x\":[\"1.1333335\"],\"y\":[0.0]}},\"id\":\"182bc523-f28f-4d00-a772-2e42885b77e6\",\"type\":\"ColumnDataSource\"},{\"attributes\":{\"callback\":null,\"column_names\":[\"fill_alpha\",\"line_color\",\"y\",\"line_alpha\",\"x\",\"color\",\"height\",\"label\",\"width\"],\"data\":{\"chart_index\":[\"(0.266667, 0.400000]\"],\"color\":[\"LightSlateGray\"],\"fill_alpha\":[0.8],\"height\":[0.0],\"label\":[\"(0.266667, 0.400000]\"],\"line_alpha\":[1.0],\"line_color\":[\"black\"],\"width\":[0.13333333333333336],\"x\":[\"0.3333335\"],\"y\":[0.0]}},\"id\":\"4aaff6e9-f4bd-4db4-bcfa-60f8f1a21b1d\",\"type\":\"ColumnDataSource\"},{\"attributes\":{\"data_source\":{\"id\":\"4aaff6e9-f4bd-4db4-bcfa-60f8f1a21b1d\",\"type\":\"ColumnDataSource\"},\"glyph\":{\"id\":\"fdf5413e-34ce-4666-aa61-b7bafeb39f28\",\"type\":\"Rect\"},\"hover_glyph\":null,\"nonselection_glyph\":null,\"selection_glyph\":null},\"id\":\"60727d87-7ed1-492b-8cac-e08e2dbb51b5\",\"type\":\"GlyphRenderer\"},{\"attributes\":{\"plot\":null,\"text\":\"Exact_Match_HG002: Consensust GT\"},\"id\":\"fa99ce84-29f5-4b57-b3a8-c4a31d41c518\",\"type\":\"Title\"},{\"attributes\":{\"data_source\":{\"id\":\"505cb8e0-0f2a-46e3-a27a-451e30f43159\",\"type\":\"ColumnDataSource\"},\"glyph\":{\"id\":\"4640b70c-af24-47d0-883b-2bcad92685a2\",\"type\":\"Rect\"},\"hover_glyph\":null,\"nonselection_glyph\":null,\"selection_glyph\":null},\"id\":\"e3f43331-0ab1-4d15-8d3e-be89bc54c926\",\"type\":\"GlyphRenderer\"},{\"attributes\":{\"overlay\":{\"id\":\"c54af9f0-7dd2-485a-94da-eb94af217ae1\",\"type\":\"BoxAnnotation\"},\"plot\":{\"id\":\"2cb9c607-5ae8-4811-82fd-67561379f889\",\"subtype\":\"Chart\",\"type\":\"Plot\"}},\"id\":\"cf8418ef-6c2b-473a-a2fc-121c75ba26f3\",\"type\":\"BoxZoomTool\"},{\"attributes\":{\"fill_alpha\":{\"field\":\"fill_alpha\"},\"fill_color\":{\"field\":\"color\"},\"height\":{\"field\":\"height\",\"units\":\"data\"},\"line_color\":{\"field\":\"line_color\"},\"width\":{\"field\":\"width\",\"units\":\"data\"},\"x\":{\"field\":\"x\"},\"y\":{\"field\":\"y\"}},\"id\":\"0957451b-f160-4d36-ab2e-e15b7e23f4bb\",\"type\":\"Rect\"},{\"attributes\":{\"callback\":null,\"column_names\":[\"fill_alpha\",\"line_color\",\"y\",\"line_alpha\",\"x\",\"color\",\"height\",\"label\",\"width\"],\"data\":{\"chart_index\":[\"(1.466667, 1.600000]\"],\"color\":[\"LightSlateGray\"],\"fill_alpha\":[0.8],\"height\":[0.0],\"label\":[\"(1.466667, 1.600000]\"],\"line_alpha\":[1.0],\"line_color\":[\"black\"],\"width\":[0.13333333333333353],\"x\":[\"1.5333335\"],\"y\":[0.0]}},\"id\":\"3985baff-dbd6-4215-9c65-864bdf082e78\",\"type\":\"ColumnDataSource\"},{\"attributes\":{\"plot\":{\"id\":\"2cb9c607-5ae8-4811-82fd-67561379f889\",\"subtype\":\"Chart\",\"type\":\"Plot\"}},\"id\":\"ef1ab104-1a1b-411d-88e3-18e846c555ab\",\"type\":\"ResetTool\"},{\"attributes\":{\"callback\":null,\"column_names\":[\"fill_alpha\",\"line_color\",\"y\",\"line_alpha\",\"x\",\"color\",\"height\",\"label\",\"width\"],\"data\":{\"chart_index\":[\"(0.666667, 0.800000]\"],\"color\":[\"LightSlateGray\"],\"fill_alpha\":[0.8],\"height\":[0.0],\"label\":[\"(0.666667, 0.800000]\"],\"line_alpha\":[1.0],\"line_color\":[\"black\"],\"width\":[0.13333333333333341],\"x\":[\"0.7333335000000001\"],\"y\":[0.0]}},\"id\":\"598e1718-b21d-42ec-9e4c-087ddf764952\",\"type\":\"ColumnDataSource\"},{\"attributes\":{\"plot\":{\"id\":\"2cb9c607-5ae8-4811-82fd-67561379f889\",\"subtype\":\"Chart\",\"type\":\"Plot\"}},\"id\":\"96b1532f-f2d8-4a1e-90ae-a3126453c168\",\"type\":\"SaveTool\"},{\"attributes\":{\"fill_alpha\":{\"field\":\"fill_alpha\"},\"fill_color\":{\"field\":\"color\"},\"height\":{\"field\":\"height\",\"units\":\"data\"},\"line_color\":{\"field\":\"line_color\"},\"width\":{\"field\":\"width\",\"units\":\"data\"},\"x\":{\"field\":\"x\"},\"y\":{\"field\":\"y\"}},\"id\":\"1c8a8c23-ede4-4fec-8c29-1812b0bb2c12\",\"type\":\"Rect\"},{\"attributes\":{\"fill_alpha\":{\"field\":\"fill_alpha\"},\"fill_color\":{\"field\":\"color\"},\"height\":{\"field\":\"height\",\"units\":\"data\"},\"line_color\":{\"field\":\"line_color\"},\"width\":{\"field\":\"width\",\"units\":\"data\"},\"x\":{\"field\":\"x\"},\"y\":{\"field\":\"y\"}},\"id\":\"95be47e2-4dea-43e8-91e5-83475d2e2049\",\"type\":\"Rect\"},{\"attributes\":{},\"id\":\"5d8487d5-28fb-4621-91f5-43cf4eaf3cfc\",\"type\":\"BasicTicker\"},{\"attributes\":{\"fill_alpha\":{\"field\":\"fill_alpha\"},\"fill_color\":{\"field\":\"color\"},\"height\":{\"field\":\"height\",\"units\":\"data\"},\"line_color\":{\"field\":\"line_color\"},\"width\":{\"field\":\"width\",\"units\":\"data\"},\"x\":{\"field\":\"x\"},\"y\":{\"field\":\"y\"}},\"id\":\"5f85a30b-372a-4205-9159-6369ac98c099\",\"type\":\"Rect\"},{\"attributes\":{\"plot\":{\"id\":\"2cb9c607-5ae8-4811-82fd-67561379f889\",\"subtype\":\"Chart\",\"type\":\"Plot\"}},\"id\":\"365f2ce5-88d7-4cdd-8cc9-32bc99d5aac8\",\"type\":\"WheelZoomTool\"},{\"attributes\":{\"callback\":null,\"column_names\":[\"fill_alpha\",\"line_color\",\"y\",\"line_alpha\",\"x\",\"color\",\"height\",\"label\",\"width\"],\"data\":{\"chart_index\":[\"(1.733333, 1.866667]\"],\"color\":[\"LightSlateGray\"],\"fill_alpha\":[0.8],\"height\":[0.0],\"label\":[\"(1.733333, 1.866667]\"],\"line_alpha\":[1.0],\"line_color\":[\"black\"],\"width\":[0.1333333333333333],\"x\":[\"1.8\"],\"y\":[0.0]}},\"id\":\"1091cad1-3e9d-4410-8e04-c1aafe007f17\",\"type\":\"ColumnDataSource\"}],\"root_ids\":[\"2cb9c607-5ae8-4811-82fd-67561379f889\"]},\"title\":\"Bokeh Application\",\"version\":\"0.12.4\"}};\n",
       "            var render_items = [{\"docid\":\"874ed735-2b6b-4566-bb9c-4521df1c0668\",\"elementid\":\"717efa02-d44d-472a-a737-a5881c6b3a91\",\"modelid\":\"2cb9c607-5ae8-4811-82fd-67561379f889\"}];\n",
       "            \n",
       "            Bokeh.embed.embed_items(docs_json, render_items);\n",
       "          };\n",
       "          if (document.readyState != \"loading\") fn();\n",
       "          else document.addEventListener(\"DOMContentLoaded\", fn);\n",
       "        })();\n",
       "      },\n",
       "      function(Bokeh) {\n",
       "      }\n",
       "    ];\n",
       "  \n",
       "    function run_inline_js() {\n",
       "      \n",
       "      if ((window.Bokeh !== undefined) || (force === true)) {\n",
       "        for (var i = 0; i < inline_js.length; i++) {\n",
       "          inline_js[i](window.Bokeh);\n",
       "        }if (force === true) {\n",
       "          display_loaded();\n",
       "        }} else if (Date.now() < window._bokeh_timeout) {\n",
       "        setTimeout(run_inline_js, 100);\n",
       "      } else if (!window._bokeh_failed_load) {\n",
       "        console.log(\"Bokeh: BokehJS failed to load within specified timeout.\");\n",
       "        window._bokeh_failed_load = true;\n",
       "      } else if (force !== true) {\n",
       "        var cell = $(document.getElementById(\"717efa02-d44d-472a-a737-a5881c6b3a91\")).parents('.cell').data().cell;\n",
       "        cell.output_area.append_execute_result(NB_LOAD_WARNING)\n",
       "      }\n",
       "  \n",
       "    }\n",
       "  \n",
       "    if (window._bokeh_is_loading === 0) {\n",
       "      console.log(\"Bokeh: BokehJS loaded, going straight to plotting\");\n",
       "      run_inline_js();\n",
       "    } else {\n",
       "      load_libs(js_urls, function() {\n",
       "        console.log(\"Bokeh: BokehJS plotting callback run at\", now());\n",
       "        run_inline_js();\n",
       "      });\n",
       "    }\n",
       "  }(this));\n",
       "</script>"
      ]
     },
     "metadata": {},
     "output_type": "display_data"
    }
   ],
   "source": [
    "p = figure()\n",
    "p = Histogram(exact_match, values='GTcons', title='Exact_Match_HG002: Consensust GT', color='LightSlateGray', bins=15, plot_height=250, xlabel=\"GTcons\", ylabel=\"Frequency\")\n",
    "show(p)"
   ]
  },
  {
   "cell_type": "markdown",
   "metadata": {},
   "source": [
    "** Homozygous Reference **"
   ]
  },
  {
   "cell_type": "code",
   "execution_count": 64,
   "metadata": {},
   "outputs": [
    {
     "data": {
      "text/html": [
       "<div>\n",
       "<table border=\"1\" class=\"dataframe\">\n",
       "  <thead>\n",
       "    <tr style=\"text-align: right;\">\n",
       "      <th></th>\n",
       "      <th>IllMP.GT</th>\n",
       "      <th>IllMP.alt_alnScore_mean</th>\n",
       "      <th>IllMP.alt_alnScore_std</th>\n",
       "      <th>IllMP.alt_count</th>\n",
       "      <th>IllMP.alt_insertSize_mean</th>\n",
       "      <th>IllMP.alt_insertSize_std</th>\n",
       "      <th>IllMP.alt_reason_alignmentScore</th>\n",
       "      <th>IllMP.alt_reason_insertSizeScore</th>\n",
       "      <th>IllMP.alt_reason_orientation</th>\n",
       "      <th>IllMP.amb_alnScore_mean</th>\n",
       "      <th>...</th>\n",
       "      <th>refN_pct</th>\n",
       "      <th>segdup_cnt</th>\n",
       "      <th>segdup_pct</th>\n",
       "      <th>start</th>\n",
       "      <th>tandemrep_cnt</th>\n",
       "      <th>tandemrep_pct</th>\n",
       "      <th>predicted_label</th>\n",
       "      <th>GTcons</th>\n",
       "      <th>GTsupp</th>\n",
       "      <th>GTconswithoutIllMP.GT</th>\n",
       "    </tr>\n",
       "  </thead>\n",
       "  <tbody>\n",
       "    <tr>\n",
       "      <th>0</th>\n",
       "      <td>-1.0</td>\n",
       "      <td>0.0</td>\n",
       "      <td>0.0</td>\n",
       "      <td>0.0</td>\n",
       "      <td>0.0</td>\n",
       "      <td>0.0</td>\n",
       "      <td>0.0</td>\n",
       "      <td>0.0</td>\n",
       "      <td>0.0</td>\n",
       "      <td>357.186499</td>\n",
       "      <td>...</td>\n",
       "      <td>0.0</td>\n",
       "      <td>0.0</td>\n",
       "      <td>0.0</td>\n",
       "      <td>37568322</td>\n",
       "      <td>3.0</td>\n",
       "      <td>0.818868</td>\n",
       "      <td>0.0</td>\n",
       "      <td>0</td>\n",
       "      <td>4</td>\n",
       "      <td>0</td>\n",
       "    </tr>\n",
       "  </tbody>\n",
       "</table>\n",
       "<p>1 rows × 46 columns</p>\n",
       "</div>"
      ],
      "text/plain": [
       "   IllMP.GT  IllMP.alt_alnScore_mean  IllMP.alt_alnScore_std  IllMP.alt_count  \\\n",
       "0      -1.0                      0.0                     0.0              0.0   \n",
       "\n",
       "   IllMP.alt_insertSize_mean  IllMP.alt_insertSize_std  \\\n",
       "0                        0.0                       0.0   \n",
       "\n",
       "   IllMP.alt_reason_alignmentScore  IllMP.alt_reason_insertSizeScore  \\\n",
       "0                              0.0                               0.0   \n",
       "\n",
       "   IllMP.alt_reason_orientation  IllMP.amb_alnScore_mean  \\\n",
       "0                           0.0               357.186499   \n",
       "\n",
       "           ...            refN_pct  segdup_cnt  segdup_pct     start  \\\n",
       "0          ...                 0.0         0.0         0.0  37568322   \n",
       "\n",
       "   tandemrep_cnt  tandemrep_pct  predicted_label  GTcons  GTsupp  \\\n",
       "0            3.0       0.818868              0.0       0       4   \n",
       "\n",
       "   GTconswithoutIllMP.GT  \n",
       "0                      0  \n",
       "\n",
       "[1 rows x 46 columns]"
      ]
     },
     "execution_count": 64,
     "metadata": {},
     "output_type": "execute_result"
    }
   ],
   "source": [
    "hr = X5['predicted_label'] == 0.0\n",
    "hom_ref = X5[hr]\n",
    "hom_ref.head(1)"
   ]
  },
  {
   "cell_type": "code",
   "execution_count": 65,
   "metadata": {},
   "outputs": [
    {
     "data": {
      "text/html": [
       "\n",
       "\n",
       "    <div class=\"bk-root\">\n",
       "        <div class=\"bk-plotdiv\" id=\"e1b8c330-9c65-40ec-9c2b-f86697dd55d5\"></div>\n",
       "    </div>\n",
       "<script type=\"text/javascript\">\n",
       "  \n",
       "  (function(global) {\n",
       "    function now() {\n",
       "      return new Date();\n",
       "    }\n",
       "  \n",
       "    var force = false;\n",
       "  \n",
       "    if (typeof (window._bokeh_onload_callbacks) === \"undefined\" || force === true) {\n",
       "      window._bokeh_onload_callbacks = [];\n",
       "      window._bokeh_is_loading = undefined;\n",
       "    }\n",
       "  \n",
       "  \n",
       "    \n",
       "    if (typeof (window._bokeh_timeout) === \"undefined\" || force === true) {\n",
       "      window._bokeh_timeout = Date.now() + 0;\n",
       "      window._bokeh_failed_load = false;\n",
       "    }\n",
       "  \n",
       "    var NB_LOAD_WARNING = {'data': {'text/html':\n",
       "       \"<div style='background-color: #fdd'>\\n\"+\n",
       "       \"<p>\\n\"+\n",
       "       \"BokehJS does not appear to have successfully loaded. If loading BokehJS from CDN, this \\n\"+\n",
       "       \"may be due to a slow or bad network connection. Possible fixes:\\n\"+\n",
       "       \"</p>\\n\"+\n",
       "       \"<ul>\\n\"+\n",
       "       \"<li>re-rerun `output_notebook()` to attempt to load from CDN again, or</li>\\n\"+\n",
       "       \"<li>use INLINE resources instead, as so:</li>\\n\"+\n",
       "       \"</ul>\\n\"+\n",
       "       \"<code>\\n\"+\n",
       "       \"from bokeh.resources import INLINE\\n\"+\n",
       "       \"output_notebook(resources=INLINE)\\n\"+\n",
       "       \"</code>\\n\"+\n",
       "       \"</div>\"}};\n",
       "  \n",
       "    function display_loaded() {\n",
       "      if (window.Bokeh !== undefined) {\n",
       "        document.getElementById(\"e1b8c330-9c65-40ec-9c2b-f86697dd55d5\").textContent = \"BokehJS successfully loaded.\";\n",
       "      } else if (Date.now() < window._bokeh_timeout) {\n",
       "        setTimeout(display_loaded, 100)\n",
       "      }\n",
       "    }\n",
       "  \n",
       "    function run_callbacks() {\n",
       "      window._bokeh_onload_callbacks.forEach(function(callback) { callback() });\n",
       "      delete window._bokeh_onload_callbacks\n",
       "      console.info(\"Bokeh: all callbacks have finished\");\n",
       "    }\n",
       "  \n",
       "    function load_libs(js_urls, callback) {\n",
       "      window._bokeh_onload_callbacks.push(callback);\n",
       "      if (window._bokeh_is_loading > 0) {\n",
       "        console.log(\"Bokeh: BokehJS is being loaded, scheduling callback at\", now());\n",
       "        return null;\n",
       "      }\n",
       "      if (js_urls == null || js_urls.length === 0) {\n",
       "        run_callbacks();\n",
       "        return null;\n",
       "      }\n",
       "      console.log(\"Bokeh: BokehJS not loaded, scheduling load and callback at\", now());\n",
       "      window._bokeh_is_loading = js_urls.length;\n",
       "      for (var i = 0; i < js_urls.length; i++) {\n",
       "        var url = js_urls[i];\n",
       "        var s = document.createElement('script');\n",
       "        s.src = url;\n",
       "        s.async = false;\n",
       "        s.onreadystatechange = s.onload = function() {\n",
       "          window._bokeh_is_loading--;\n",
       "          if (window._bokeh_is_loading === 0) {\n",
       "            console.log(\"Bokeh: all BokehJS libraries loaded\");\n",
       "            run_callbacks()\n",
       "          }\n",
       "        };\n",
       "        s.onerror = function() {\n",
       "          console.warn(\"failed to load library \" + url);\n",
       "        };\n",
       "        console.log(\"Bokeh: injecting script tag for BokehJS library: \", url);\n",
       "        document.getElementsByTagName(\"head\")[0].appendChild(s);\n",
       "      }\n",
       "    };var element = document.getElementById(\"e1b8c330-9c65-40ec-9c2b-f86697dd55d5\");\n",
       "    if (element == null) {\n",
       "      console.log(\"Bokeh: ERROR: autoload.js configured with elementid 'e1b8c330-9c65-40ec-9c2b-f86697dd55d5' but no matching script tag was found. \")\n",
       "      return false;\n",
       "    }\n",
       "  \n",
       "    var js_urls = [];\n",
       "  \n",
       "    var inline_js = [\n",
       "      function(Bokeh) {\n",
       "        (function() {\n",
       "          var fn = function() {\n",
       "            var docs_json = {\"3a4c0279-a93f-42dd-a3c4-d03618a2b5be\":{\"roots\":{\"references\":[{\"attributes\":{},\"id\":\"f745e25b-a7db-4a3f-90e1-21c124f8e2ae\",\"type\":\"BasicTicker\"},{\"attributes\":{},\"id\":\"f97a7310-8229-450d-b833-ab509123060a\",\"type\":\"ToolEvents\"},{\"attributes\":{\"callback\":null,\"column_names\":[\"fill_alpha\",\"line_color\",\"y\",\"line_alpha\",\"x\",\"color\",\"height\",\"label\",\"width\"],\"data\":{\"chart_index\":[\"(1.466667, 1.600000]\"],\"color\":[\"LightSlateGray\"],\"fill_alpha\":[0.8],\"height\":[0.0],\"label\":[\"(1.466667, 1.600000]\"],\"line_alpha\":[1.0],\"line_color\":[\"black\"],\"width\":[0.13333333333333353],\"x\":[\"1.5333335\"],\"y\":[0.0]}},\"id\":\"f3809b23-db15-41ed-95e8-2d29a1d86258\",\"type\":\"ColumnDataSource\"},{\"attributes\":{\"data_source\":{\"id\":\"0407d496-8385-4295-bd60-f44502845406\",\"type\":\"ColumnDataSource\"},\"glyph\":{\"id\":\"2f7ac5d5-3b30-4215-a85b-246b23966b18\",\"type\":\"Rect\"},\"hover_glyph\":null,\"nonselection_glyph\":null,\"selection_glyph\":null},\"id\":\"dddfc066-7fa3-4317-bf49-f7473a909966\",\"type\":\"GlyphRenderer\"},{\"attributes\":{\"data_source\":{\"id\":\"f3809b23-db15-41ed-95e8-2d29a1d86258\",\"type\":\"ColumnDataSource\"},\"glyph\":{\"id\":\"952c0a6a-0a43-49a0-8dc0-49eaaff133c3\",\"type\":\"Rect\"},\"hover_glyph\":null,\"nonselection_glyph\":null,\"selection_glyph\":null},\"id\":\"77518513-ddcf-4249-9f26-32cb959e2b63\",\"type\":\"GlyphRenderer\"},{\"attributes\":{\"data_source\":{\"id\":\"2ace3446-863a-47d7-ba96-5db6ee683271\",\"type\":\"ColumnDataSource\"},\"glyph\":{\"id\":\"3c54a92d-d7ea-400c-8a15-180498766334\",\"type\":\"Rect\"},\"hover_glyph\":null,\"nonselection_glyph\":null,\"selection_glyph\":null},\"id\":\"44f3de7a-c152-44cc-baf4-0b5fc7ba7199\",\"type\":\"GlyphRenderer\"},{\"attributes\":{\"fill_alpha\":{\"field\":\"fill_alpha\"},\"fill_color\":{\"field\":\"color\"},\"height\":{\"field\":\"height\",\"units\":\"data\"},\"line_color\":{\"field\":\"line_color\"},\"width\":{\"field\":\"width\",\"units\":\"data\"},\"x\":{\"field\":\"x\"},\"y\":{\"field\":\"y\"}},\"id\":\"4ee25c0f-97b0-4cd2-b9fb-ba14afd87184\",\"type\":\"Rect\"},{\"attributes\":{\"fill_alpha\":{\"field\":\"fill_alpha\"},\"fill_color\":{\"field\":\"color\"},\"height\":{\"field\":\"height\",\"units\":\"data\"},\"line_color\":{\"field\":\"line_color\"},\"width\":{\"field\":\"width\",\"units\":\"data\"},\"x\":{\"field\":\"x\"},\"y\":{\"field\":\"y\"}},\"id\":\"952c0a6a-0a43-49a0-8dc0-49eaaff133c3\",\"type\":\"Rect\"},{\"attributes\":{\"plot\":{\"id\":\"0ebaf061-e837-483f-8d78-2dcb7a6ae958\",\"subtype\":\"Chart\",\"type\":\"Plot\"}},\"id\":\"974a938b-9fb4-4d7a-bcb2-cedf07422ab3\",\"type\":\"WheelZoomTool\"},{\"attributes\":{\"fill_alpha\":{\"field\":\"fill_alpha\"},\"fill_color\":{\"field\":\"color\"},\"height\":{\"field\":\"height\",\"units\":\"data\"},\"line_color\":{\"field\":\"line_color\"},\"width\":{\"field\":\"width\",\"units\":\"data\"},\"x\":{\"field\":\"x\"},\"y\":{\"field\":\"y\"}},\"id\":\"fe46d0b6-c9f4-4c32-94fe-206772ee9001\",\"type\":\"Rect\"},{\"attributes\":{\"plot\":{\"id\":\"0ebaf061-e837-483f-8d78-2dcb7a6ae958\",\"subtype\":\"Chart\",\"type\":\"Plot\"}},\"id\":\"6167d7cb-05f0-4218-9a3f-3c98f456f03b\",\"type\":\"HelpTool\"},{\"attributes\":{\"callback\":null,\"column_names\":[\"fill_alpha\",\"line_color\",\"y\",\"line_alpha\",\"x\",\"color\",\"height\",\"label\",\"width\"],\"data\":{\"chart_index\":[\"(1.733333, 1.866667]\"],\"color\":[\"LightSlateGray\"],\"fill_alpha\":[0.8],\"height\":[0.0],\"label\":[\"(1.733333, 1.866667]\"],\"line_alpha\":[1.0],\"line_color\":[\"black\"],\"width\":[0.1333333333333333],\"x\":[\"1.8\"],\"y\":[0.0]}},\"id\":\"ae05683c-abef-4c72-8916-63366ce705ae\",\"type\":\"ColumnDataSource\"},{\"attributes\":{\"callback\":null,\"column_names\":[\"fill_alpha\",\"line_color\",\"y\",\"line_alpha\",\"x\",\"color\",\"height\",\"label\",\"width\"],\"data\":{\"chart_index\":[\"[0.000000, 0.133333]\"],\"color\":[\"LightSlateGray\"],\"fill_alpha\":[0.8],\"height\":[582.0],\"label\":[\"[0.000000, 0.133333]\"],\"line_alpha\":[1.0],\"line_color\":[\"black\"],\"width\":[0.13333333333333333],\"x\":[\"0.0666665\"],\"y\":[291.0]}},\"id\":\"2ace3446-863a-47d7-ba96-5db6ee683271\",\"type\":\"ColumnDataSource\"},{\"attributes\":{\"data_source\":{\"id\":\"c1e7475c-3773-4bca-a958-b1dd32081e2d\",\"type\":\"ColumnDataSource\"},\"glyph\":{\"id\":\"3006eb3b-0868-4b7d-a2ef-2e32eb2237e6\",\"type\":\"Rect\"},\"hover_glyph\":null,\"nonselection_glyph\":null,\"selection_glyph\":null},\"id\":\"78a032c9-f747-482b-9e72-57891594639b\",\"type\":\"GlyphRenderer\"},{\"attributes\":{\"fill_alpha\":{\"field\":\"fill_alpha\"},\"fill_color\":{\"field\":\"color\"},\"height\":{\"field\":\"height\",\"units\":\"data\"},\"line_color\":{\"field\":\"line_color\"},\"width\":{\"field\":\"width\",\"units\":\"data\"},\"x\":{\"field\":\"x\"},\"y\":{\"field\":\"y\"}},\"id\":\"a2846cf9-dc51-4fa8-adf6-415fb1cc8818\",\"type\":\"Rect\"},{\"attributes\":{\"fill_alpha\":{\"field\":\"fill_alpha\"},\"fill_color\":{\"field\":\"color\"},\"height\":{\"field\":\"height\",\"units\":\"data\"},\"line_color\":{\"field\":\"line_color\"},\"width\":{\"field\":\"width\",\"units\":\"data\"},\"x\":{\"field\":\"x\"},\"y\":{\"field\":\"y\"}},\"id\":\"2f7ac5d5-3b30-4215-a85b-246b23966b18\",\"type\":\"Rect\"},{\"attributes\":{\"data_source\":{\"id\":\"56c78fd2-ad6f-479f-bdaa-8acfaa1e7aa8\",\"type\":\"ColumnDataSource\"},\"glyph\":{\"id\":\"f9f6b16e-89fb-4e5f-9f8a-58572dfa2b57\",\"type\":\"Rect\"},\"hover_glyph\":null,\"nonselection_glyph\":null,\"selection_glyph\":null},\"id\":\"bf145f8d-af1d-40cb-a03a-60d02d3438fa\",\"type\":\"GlyphRenderer\"},{\"attributes\":{\"axis_label\":\"Frequency\",\"formatter\":{\"id\":\"6a0e72dc-8e35-4e84-8f55-9c3eba160696\",\"type\":\"BasicTickFormatter\"},\"plot\":{\"id\":\"0ebaf061-e837-483f-8d78-2dcb7a6ae958\",\"subtype\":\"Chart\",\"type\":\"Plot\"},\"ticker\":{\"id\":\"6e090a44-1b93-41e8-92d1-6f4192c7e86d\",\"type\":\"BasicTicker\"}},\"id\":\"1241c1ff-50f4-42e2-a56d-4aba04349acd\",\"type\":\"LinearAxis\"},{\"attributes\":{\"fill_alpha\":{\"field\":\"fill_alpha\"},\"fill_color\":{\"field\":\"color\"},\"height\":{\"field\":\"height\",\"units\":\"data\"},\"line_color\":{\"field\":\"line_color\"},\"width\":{\"field\":\"width\",\"units\":\"data\"},\"x\":{\"field\":\"x\"},\"y\":{\"field\":\"y\"}},\"id\":\"f9f6b16e-89fb-4e5f-9f8a-58572dfa2b57\",\"type\":\"Rect\"},{\"attributes\":{\"data_source\":{\"id\":\"ae05683c-abef-4c72-8916-63366ce705ae\",\"type\":\"ColumnDataSource\"},\"glyph\":{\"id\":\"4ee25c0f-97b0-4cd2-b9fb-ba14afd87184\",\"type\":\"Rect\"},\"hover_glyph\":null,\"nonselection_glyph\":null,\"selection_glyph\":null},\"id\":\"7c4af5ec-e1da-46f2-abdd-c0e1c2dd1ac0\",\"type\":\"GlyphRenderer\"},{\"attributes\":{\"callback\":null,\"column_names\":[\"fill_alpha\",\"line_color\",\"y\",\"line_alpha\",\"x\",\"color\",\"height\",\"label\",\"width\"],\"data\":{\"chart_index\":[\"(1.066667, 1.200000]\"],\"color\":[\"LightSlateGray\"],\"fill_alpha\":[0.8],\"height\":[0.0],\"label\":[\"(1.066667, 1.200000]\"],\"line_alpha\":[1.0],\"line_color\":[\"black\"],\"width\":[0.1333333333333333],\"x\":[\"1.1333335\"],\"y\":[0.0]}},\"id\":\"1d6b604a-572e-4633-8f0e-f5b2bf294463\",\"type\":\"ColumnDataSource\"},{\"attributes\":{\"callback\":null,\"column_names\":[\"fill_alpha\",\"line_color\",\"y\",\"line_alpha\",\"x\",\"color\",\"height\",\"label\",\"width\"],\"data\":{\"chart_index\":[\"(1.600000, 1.733333]\"],\"color\":[\"LightSlateGray\"],\"fill_alpha\":[0.8],\"height\":[0.0],\"label\":[\"(1.600000, 1.733333]\"],\"line_alpha\":[1.0],\"line_color\":[\"black\"],\"width\":[0.1333333333333333],\"x\":[\"1.6666665\"],\"y\":[0.0]}},\"id\":\"a92ae3c5-ae60-41eb-8632-f8c759c1a5cd\",\"type\":\"ColumnDataSource\"},{\"attributes\":{\"data_source\":{\"id\":\"1d6b604a-572e-4633-8f0e-f5b2bf294463\",\"type\":\"ColumnDataSource\"},\"glyph\":{\"id\":\"a2846cf9-dc51-4fa8-adf6-415fb1cc8818\",\"type\":\"Rect\"},\"hover_glyph\":null,\"nonselection_glyph\":null,\"selection_glyph\":null},\"id\":\"1920db2e-092d-42f2-9296-b675a16b563e\",\"type\":\"GlyphRenderer\"},{\"attributes\":{\"callback\":null,\"end\":640.2},\"id\":\"6b69c82b-b5d1-46e5-8b11-5427b0ce81fa\",\"type\":\"Range1d\"},{\"attributes\":{\"callback\":null,\"column_names\":[\"fill_alpha\",\"line_color\",\"y\",\"line_alpha\",\"x\",\"color\",\"height\",\"label\",\"width\"],\"data\":{\"chart_index\":[\"(0.400000, 0.533333]\"],\"color\":[\"LightSlateGray\"],\"fill_alpha\":[0.8],\"height\":[0.0],\"label\":[\"(0.400000, 0.533333]\"],\"line_alpha\":[1.0],\"line_color\":[\"black\"],\"width\":[0.1333333333333333],\"x\":[\"0.4666665\"],\"y\":[0.0]}},\"id\":\"56c78fd2-ad6f-479f-bdaa-8acfaa1e7aa8\",\"type\":\"ColumnDataSource\"},{\"attributes\":{\"active_drag\":\"auto\",\"active_scroll\":\"auto\",\"active_tap\":\"auto\",\"tools\":[{\"id\":\"7e67335d-775c-4680-8367-24a3645355f0\",\"type\":\"PanTool\"},{\"id\":\"974a938b-9fb4-4d7a-bcb2-cedf07422ab3\",\"type\":\"WheelZoomTool\"},{\"id\":\"b18fad3a-134d-4bb7-bf07-2abdefa6845d\",\"type\":\"BoxZoomTool\"},{\"id\":\"cd301e01-bb9b-4911-92da-1018e0d341b4\",\"type\":\"SaveTool\"},{\"id\":\"5bc393d2-3674-4226-a810-cb3b37ebf2c5\",\"type\":\"ResetTool\"},{\"id\":\"6167d7cb-05f0-4218-9a3f-3c98f456f03b\",\"type\":\"HelpTool\"}]},\"id\":\"de8465a5-b29d-42a6-a61d-31caa039d09d\",\"type\":\"Toolbar\"},{\"attributes\":{},\"id\":\"6a0e72dc-8e35-4e84-8f55-9c3eba160696\",\"type\":\"BasicTickFormatter\"},{\"attributes\":{\"callback\":null,\"column_names\":[\"fill_alpha\",\"line_color\",\"y\",\"line_alpha\",\"x\",\"color\",\"height\",\"label\",\"width\"],\"data\":{\"chart_index\":[\"(0.800000, 0.933333]\"],\"color\":[\"LightSlateGray\"],\"fill_alpha\":[0.8],\"height\":[0.0],\"label\":[\"(0.800000, 0.933333]\"],\"line_alpha\":[1.0],\"line_color\":[\"black\"],\"width\":[0.1333333333333333],\"x\":[\"0.8666665\"],\"y\":[0.0]}},\"id\":\"c1e7475c-3773-4bca-a958-b1dd32081e2d\",\"type\":\"ColumnDataSource\"},{\"attributes\":{\"fill_alpha\":{\"field\":\"fill_alpha\"},\"fill_color\":{\"field\":\"color\"},\"height\":{\"field\":\"height\",\"units\":\"data\"},\"line_color\":{\"field\":\"line_color\"},\"width\":{\"field\":\"width\",\"units\":\"data\"},\"x\":{\"field\":\"x\"},\"y\":{\"field\":\"y\"}},\"id\":\"25b8bcc7-9892-4344-a903-59694eca9d83\",\"type\":\"Rect\"},{\"attributes\":{},\"id\":\"6e090a44-1b93-41e8-92d1-6f4192c7e86d\",\"type\":\"BasicTicker\"},{\"attributes\":{\"fill_alpha\":{\"field\":\"fill_alpha\"},\"fill_color\":{\"field\":\"color\"},\"height\":{\"field\":\"height\",\"units\":\"data\"},\"line_color\":{\"field\":\"line_color\"},\"width\":{\"field\":\"width\",\"units\":\"data\"},\"x\":{\"field\":\"x\"},\"y\":{\"field\":\"y\"}},\"id\":\"32f516da-4797-4531-8498-276210eb239a\",\"type\":\"Rect\"},{\"attributes\":{\"plot\":{\"id\":\"0ebaf061-e837-483f-8d78-2dcb7a6ae958\",\"subtype\":\"Chart\",\"type\":\"Plot\"}},\"id\":\"5bc393d2-3674-4226-a810-cb3b37ebf2c5\",\"type\":\"ResetTool\"},{\"attributes\":{\"data_source\":{\"id\":\"3cc5fd1e-c80d-42f5-93b8-021ff58e98de\",\"type\":\"ColumnDataSource\"},\"glyph\":{\"id\":\"32f516da-4797-4531-8498-276210eb239a\",\"type\":\"Rect\"},\"hover_glyph\":null,\"nonselection_glyph\":null,\"selection_glyph\":null},\"id\":\"4441ca3c-38c6-4301-855a-cc292e31e622\",\"type\":\"GlyphRenderer\"},{\"attributes\":{\"callback\":null,\"column_names\":[\"fill_alpha\",\"line_color\",\"y\",\"line_alpha\",\"x\",\"color\",\"height\",\"label\",\"width\"],\"data\":{\"chart_index\":[\"(0.666667, 0.800000]\"],\"color\":[\"LightSlateGray\"],\"fill_alpha\":[0.8],\"height\":[0.0],\"label\":[\"(0.666667, 0.800000]\"],\"line_alpha\":[1.0],\"line_color\":[\"black\"],\"width\":[0.13333333333333341],\"x\":[\"0.7333335000000001\"],\"y\":[0.0]}},\"id\":\"2db8af8c-9cc4-4dc5-946c-15548d325634\",\"type\":\"ColumnDataSource\"},{\"attributes\":{\"axis_label\":\"GTcons\",\"formatter\":{\"id\":\"b5194462-01eb-40f8-b9be-b802ae59da08\",\"type\":\"BasicTickFormatter\"},\"plot\":{\"id\":\"0ebaf061-e837-483f-8d78-2dcb7a6ae958\",\"subtype\":\"Chart\",\"type\":\"Plot\"},\"ticker\":{\"id\":\"f745e25b-a7db-4a3f-90e1-21c124f8e2ae\",\"type\":\"BasicTicker\"}},\"id\":\"177aaa6d-8653-4a33-a866-1eec2b0e8e1f\",\"type\":\"LinearAxis\"},{\"attributes\":{\"fill_alpha\":{\"field\":\"fill_alpha\"},\"fill_color\":{\"field\":\"color\"},\"height\":{\"field\":\"height\",\"units\":\"data\"},\"line_color\":{\"field\":\"line_color\"},\"width\":{\"field\":\"width\",\"units\":\"data\"},\"x\":{\"field\":\"x\"},\"y\":{\"field\":\"y\"}},\"id\":\"da8772cd-9b79-4a18-ba29-9272cb0e82f8\",\"type\":\"Rect\"},{\"attributes\":{\"data_source\":{\"id\":\"67e9a143-b160-4b61-975f-ec2164a2918f\",\"type\":\"ColumnDataSource\"},\"glyph\":{\"id\":\"f2af6cd6-834d-4ac8-8410-e89a2126e000\",\"type\":\"Rect\"},\"hover_glyph\":null,\"nonselection_glyph\":null,\"selection_glyph\":null},\"id\":\"a452910c-fe95-46d3-9588-a84c6841180b\",\"type\":\"GlyphRenderer\"},{\"attributes\":{\"plot\":{\"id\":\"0ebaf061-e837-483f-8d78-2dcb7a6ae958\",\"subtype\":\"Chart\",\"type\":\"Plot\"}},\"id\":\"cd301e01-bb9b-4911-92da-1018e0d341b4\",\"type\":\"SaveTool\"},{\"attributes\":{\"callback\":null,\"column_names\":[\"fill_alpha\",\"line_color\",\"y\",\"line_alpha\",\"x\",\"color\",\"height\",\"label\",\"width\"],\"data\":{\"chart_index\":[\"(0.133333, 0.266667]\"],\"color\":[\"LightSlateGray\"],\"fill_alpha\":[0.8],\"height\":[0.0],\"label\":[\"(0.133333, 0.266667]\"],\"line_alpha\":[1.0],\"line_color\":[\"black\"],\"width\":[0.13333333333333333],\"x\":[\"0.2\"],\"y\":[0.0]}},\"id\":\"d40a4d8c-ce7f-4ff8-9a17-8a2a256001cc\",\"type\":\"ColumnDataSource\"},{\"attributes\":{\"data_source\":{\"id\":\"4f64f603-693b-442f-9bd3-868311833f53\",\"type\":\"ColumnDataSource\"},\"glyph\":{\"id\":\"0ca84c83-13ca-4787-b6e2-5f722b913045\",\"type\":\"Rect\"},\"hover_glyph\":null,\"nonselection_glyph\":null,\"selection_glyph\":null},\"id\":\"e600c04c-76a4-4c3c-9d2a-c76a7df90390\",\"type\":\"GlyphRenderer\"},{\"attributes\":{\"data_source\":{\"id\":\"a92ae3c5-ae60-41eb-8632-f8c759c1a5cd\",\"type\":\"ColumnDataSource\"},\"glyph\":{\"id\":\"da8772cd-9b79-4a18-ba29-9272cb0e82f8\",\"type\":\"Rect\"},\"hover_glyph\":null,\"nonselection_glyph\":null,\"selection_glyph\":null},\"id\":\"4bef50fd-0673-4654-966e-8a6cfd67d496\",\"type\":\"GlyphRenderer\"},{\"attributes\":{\"callback\":null,\"column_names\":[\"fill_alpha\",\"line_color\",\"y\",\"line_alpha\",\"x\",\"color\",\"height\",\"label\",\"width\"],\"data\":{\"chart_index\":[\"(0.533333, 0.666667]\"],\"color\":[\"LightSlateGray\"],\"fill_alpha\":[0.8],\"height\":[0.0],\"label\":[\"(0.533333, 0.666667]\"],\"line_alpha\":[1.0],\"line_color\":[\"black\"],\"width\":[0.1333333333333333],\"x\":[\"0.6\"],\"y\":[0.0]}},\"id\":\"0407d496-8385-4295-bd60-f44502845406\",\"type\":\"ColumnDataSource\"},{\"attributes\":{\"callback\":null,\"column_names\":[\"fill_alpha\",\"line_color\",\"y\",\"line_alpha\",\"x\",\"color\",\"height\",\"label\",\"width\"],\"data\":{\"chart_index\":[\"(0.266667, 0.400000]\"],\"color\":[\"LightSlateGray\"],\"fill_alpha\":[0.8],\"height\":[0.0],\"label\":[\"(0.266667, 0.400000]\"],\"line_alpha\":[1.0],\"line_color\":[\"black\"],\"width\":[0.13333333333333336],\"x\":[\"0.3333335\"],\"y\":[0.0]}},\"id\":\"16c10993-cbd7-493c-85e9-03e5bd3d5b28\",\"type\":\"ColumnDataSource\"},{\"attributes\":{\"dimension\":1,\"plot\":{\"id\":\"0ebaf061-e837-483f-8d78-2dcb7a6ae958\",\"subtype\":\"Chart\",\"type\":\"Plot\"},\"ticker\":{\"id\":\"6e090a44-1b93-41e8-92d1-6f4192c7e86d\",\"type\":\"BasicTicker\"}},\"id\":\"91b06e9b-3ad5-4531-a76b-2c13d4e6f14e\",\"type\":\"Grid\"},{\"attributes\":{\"data_source\":{\"id\":\"ba335546-fce8-4fb0-9eea-2ed7868b7de8\",\"type\":\"ColumnDataSource\"},\"glyph\":{\"id\":\"d12f8c5c-a615-4dc4-b5e9-fab7acf6985d\",\"type\":\"Rect\"},\"hover_glyph\":null,\"nonselection_glyph\":null,\"selection_glyph\":null},\"id\":\"60b8a318-7009-4e82-be55-1c422b75c172\",\"type\":\"GlyphRenderer\"},{\"attributes\":{},\"id\":\"b5194462-01eb-40f8-b9be-b802ae59da08\",\"type\":\"BasicTickFormatter\"},{\"attributes\":{\"fill_alpha\":{\"field\":\"fill_alpha\"},\"fill_color\":{\"field\":\"color\"},\"height\":{\"field\":\"height\",\"units\":\"data\"},\"line_color\":{\"field\":\"line_color\"},\"width\":{\"field\":\"width\",\"units\":\"data\"},\"x\":{\"field\":\"x\"},\"y\":{\"field\":\"y\"}},\"id\":\"3006eb3b-0868-4b7d-a2ef-2e32eb2237e6\",\"type\":\"Rect\"},{\"attributes\":{\"fill_alpha\":{\"field\":\"fill_alpha\"},\"fill_color\":{\"field\":\"color\"},\"height\":{\"field\":\"height\",\"units\":\"data\"},\"line_color\":{\"field\":\"line_color\"},\"width\":{\"field\":\"width\",\"units\":\"data\"},\"x\":{\"field\":\"x\"},\"y\":{\"field\":\"y\"}},\"id\":\"f2af6cd6-834d-4ac8-8410-e89a2126e000\",\"type\":\"Rect\"},{\"attributes\":{\"fill_alpha\":{\"field\":\"fill_alpha\"},\"fill_color\":{\"field\":\"color\"},\"height\":{\"field\":\"height\",\"units\":\"data\"},\"line_color\":{\"field\":\"line_color\"},\"width\":{\"field\":\"width\",\"units\":\"data\"},\"x\":{\"field\":\"x\"},\"y\":{\"field\":\"y\"}},\"id\":\"59f58881-3c2b-420b-871b-8ecfbb5d5ab8\",\"type\":\"Rect\"},{\"attributes\":{\"location\":\"top_left\",\"plot\":{\"id\":\"0ebaf061-e837-483f-8d78-2dcb7a6ae958\",\"subtype\":\"Chart\",\"type\":\"Plot\"}},\"id\":\"7f89e5f1-2708-450c-91bb-7da0ef827115\",\"type\":\"Legend\"},{\"attributes\":{\"data_source\":{\"id\":\"16c10993-cbd7-493c-85e9-03e5bd3d5b28\",\"type\":\"ColumnDataSource\"},\"glyph\":{\"id\":\"59f58881-3c2b-420b-871b-8ecfbb5d5ab8\",\"type\":\"Rect\"},\"hover_glyph\":null,\"nonselection_glyph\":null,\"selection_glyph\":null},\"id\":\"b98311d3-ab6a-45f7-9273-b427d3a9ded2\",\"type\":\"GlyphRenderer\"},{\"attributes\":{\"callback\":null,\"column_names\":[\"fill_alpha\",\"line_color\",\"y\",\"line_alpha\",\"x\",\"color\",\"height\",\"label\",\"width\"],\"data\":{\"chart_index\":[\"(0.933333, 1.066667]\"],\"color\":[\"LightSlateGray\"],\"fill_alpha\":[0.8],\"height\":[204.0],\"label\":[\"(0.933333, 1.066667]\"],\"line_alpha\":[1.0],\"line_color\":[\"black\"],\"width\":[0.1333333333333333],\"x\":[\"1.0\"],\"y\":[102.0]}},\"id\":\"4f64f603-693b-442f-9bd3-868311833f53\",\"type\":\"ColumnDataSource\"},{\"attributes\":{\"plot\":null,\"text\":\"Homozygous_Reference_HG002: Consensust GT\"},\"id\":\"1259547f-3233-479d-90f5-f67922cbd9bf\",\"type\":\"Title\"},{\"attributes\":{\"overlay\":{\"id\":\"0d5109e0-0f81-4719-b56c-e68a8cd6aea6\",\"type\":\"BoxAnnotation\"},\"plot\":{\"id\":\"0ebaf061-e837-483f-8d78-2dcb7a6ae958\",\"subtype\":\"Chart\",\"type\":\"Plot\"}},\"id\":\"b18fad3a-134d-4bb7-bf07-2abdefa6845d\",\"type\":\"BoxZoomTool\"},{\"attributes\":{\"below\":[{\"id\":\"177aaa6d-8653-4a33-a866-1eec2b0e8e1f\",\"type\":\"LinearAxis\"}],\"css_classes\":null,\"left\":[{\"id\":\"1241c1ff-50f4-42e2-a56d-4aba04349acd\",\"type\":\"LinearAxis\"}],\"plot_height\":250,\"renderers\":[{\"id\":\"0d5109e0-0f81-4719-b56c-e68a8cd6aea6\",\"type\":\"BoxAnnotation\"},{\"id\":\"44f3de7a-c152-44cc-baf4-0b5fc7ba7199\",\"type\":\"GlyphRenderer\"},{\"id\":\"38eba400-5dfe-4929-be76-e6ad91cfc94b\",\"type\":\"GlyphRenderer\"},{\"id\":\"b98311d3-ab6a-45f7-9273-b427d3a9ded2\",\"type\":\"GlyphRenderer\"},{\"id\":\"bf145f8d-af1d-40cb-a03a-60d02d3438fa\",\"type\":\"GlyphRenderer\"},{\"id\":\"dddfc066-7fa3-4317-bf49-f7473a909966\",\"type\":\"GlyphRenderer\"},{\"id\":\"1e8b42b7-777d-43e3-96b9-738eb4a7d332\",\"type\":\"GlyphRenderer\"},{\"id\":\"78a032c9-f747-482b-9e72-57891594639b\",\"type\":\"GlyphRenderer\"},{\"id\":\"e600c04c-76a4-4c3c-9d2a-c76a7df90390\",\"type\":\"GlyphRenderer\"},{\"id\":\"1920db2e-092d-42f2-9296-b675a16b563e\",\"type\":\"GlyphRenderer\"},{\"id\":\"4441ca3c-38c6-4301-855a-cc292e31e622\",\"type\":\"GlyphRenderer\"},{\"id\":\"a452910c-fe95-46d3-9588-a84c6841180b\",\"type\":\"GlyphRenderer\"},{\"id\":\"77518513-ddcf-4249-9f26-32cb959e2b63\",\"type\":\"GlyphRenderer\"},{\"id\":\"4bef50fd-0673-4654-966e-8a6cfd67d496\",\"type\":\"GlyphRenderer\"},{\"id\":\"7c4af5ec-e1da-46f2-abdd-c0e1c2dd1ac0\",\"type\":\"GlyphRenderer\"},{\"id\":\"60b8a318-7009-4e82-be55-1c422b75c172\",\"type\":\"GlyphRenderer\"},{\"id\":\"7f89e5f1-2708-450c-91bb-7da0ef827115\",\"type\":\"Legend\"},{\"id\":\"177aaa6d-8653-4a33-a866-1eec2b0e8e1f\",\"type\":\"LinearAxis\"},{\"id\":\"1241c1ff-50f4-42e2-a56d-4aba04349acd\",\"type\":\"LinearAxis\"},{\"id\":\"91b06e9b-3ad5-4531-a76b-2c13d4e6f14e\",\"type\":\"Grid\"}],\"title\":{\"id\":\"1259547f-3233-479d-90f5-f67922cbd9bf\",\"type\":\"Title\"},\"tool_events\":{\"id\":\"f97a7310-8229-450d-b833-ab509123060a\",\"type\":\"ToolEvents\"},\"toolbar\":{\"id\":\"de8465a5-b29d-42a6-a61d-31caa039d09d\",\"type\":\"Toolbar\"},\"x_mapper_type\":\"auto\",\"x_range\":{\"id\":\"a1660010-a8d8-41a1-993f-8bbd9bbe417f\",\"type\":\"Range1d\"},\"y_mapper_type\":\"auto\",\"y_range\":{\"id\":\"6b69c82b-b5d1-46e5-8b11-5427b0ce81fa\",\"type\":\"Range1d\"}},\"id\":\"0ebaf061-e837-483f-8d78-2dcb7a6ae958\",\"subtype\":\"Chart\",\"type\":\"Plot\"},{\"attributes\":{\"callback\":null,\"column_names\":[\"fill_alpha\",\"line_color\",\"y\",\"line_alpha\",\"x\",\"color\",\"height\",\"label\",\"width\"],\"data\":{\"chart_index\":[\"(1.866667, 2.000000]\"],\"color\":[\"LightSlateGray\"],\"fill_alpha\":[0.8],\"height\":[16.0],\"label\":[\"(1.866667, 2.000000]\"],\"line_alpha\":[1.0],\"line_color\":[\"black\"],\"width\":[0.1333333333333333],\"x\":[\"1.9333335\"],\"y\":[8.0]}},\"id\":\"ba335546-fce8-4fb0-9eea-2ed7868b7de8\",\"type\":\"ColumnDataSource\"},{\"attributes\":{\"plot\":{\"id\":\"0ebaf061-e837-483f-8d78-2dcb7a6ae958\",\"subtype\":\"Chart\",\"type\":\"Plot\"}},\"id\":\"7e67335d-775c-4680-8367-24a3645355f0\",\"type\":\"PanTool\"},{\"attributes\":{\"fill_alpha\":{\"field\":\"fill_alpha\"},\"fill_color\":{\"field\":\"color\"},\"height\":{\"field\":\"height\",\"units\":\"data\"},\"line_color\":{\"field\":\"line_color\"},\"width\":{\"field\":\"width\",\"units\":\"data\"},\"x\":{\"field\":\"x\"},\"y\":{\"field\":\"y\"}},\"id\":\"3c54a92d-d7ea-400c-8a15-180498766334\",\"type\":\"Rect\"},{\"attributes\":{\"bottom_units\":\"screen\",\"fill_alpha\":{\"value\":0.5},\"fill_color\":{\"value\":\"lightgrey\"},\"left_units\":\"screen\",\"level\":\"overlay\",\"line_alpha\":{\"value\":1.0},\"line_color\":{\"value\":\"black\"},\"line_dash\":[4,4],\"line_width\":{\"value\":2},\"plot\":null,\"render_mode\":\"css\",\"right_units\":\"screen\",\"top_units\":\"screen\"},\"id\":\"0d5109e0-0f81-4719-b56c-e68a8cd6aea6\",\"type\":\"BoxAnnotation\"},{\"attributes\":{\"data_source\":{\"id\":\"d40a4d8c-ce7f-4ff8-9a17-8a2a256001cc\",\"type\":\"ColumnDataSource\"},\"glyph\":{\"id\":\"25b8bcc7-9892-4344-a903-59694eca9d83\",\"type\":\"Rect\"},\"hover_glyph\":null,\"nonselection_glyph\":null,\"selection_glyph\":null},\"id\":\"38eba400-5dfe-4929-be76-e6ad91cfc94b\",\"type\":\"GlyphRenderer\"},{\"attributes\":{\"fill_alpha\":{\"field\":\"fill_alpha\"},\"fill_color\":{\"field\":\"color\"},\"height\":{\"field\":\"height\",\"units\":\"data\"},\"line_color\":{\"field\":\"line_color\"},\"width\":{\"field\":\"width\",\"units\":\"data\"},\"x\":{\"field\":\"x\"},\"y\":{\"field\":\"y\"}},\"id\":\"d12f8c5c-a615-4dc4-b5e9-fab7acf6985d\",\"type\":\"Rect\"},{\"attributes\":{\"callback\":null,\"column_names\":[\"fill_alpha\",\"line_color\",\"y\",\"line_alpha\",\"x\",\"color\",\"height\",\"label\",\"width\"],\"data\":{\"chart_index\":[\"(1.333333, 1.466667]\"],\"color\":[\"LightSlateGray\"],\"fill_alpha\":[0.8],\"height\":[0.0],\"label\":[\"(1.333333, 1.466667]\"],\"line_alpha\":[1.0],\"line_color\":[\"black\"],\"width\":[0.1333333333333333],\"x\":[\"1.4\"],\"y\":[0.0]}},\"id\":\"67e9a143-b160-4b61-975f-ec2164a2918f\",\"type\":\"ColumnDataSource\"},{\"attributes\":{\"callback\":null,\"column_names\":[\"fill_alpha\",\"line_color\",\"y\",\"line_alpha\",\"x\",\"color\",\"height\",\"label\",\"width\"],\"data\":{\"chart_index\":[\"(1.200000, 1.333333]\"],\"color\":[\"LightSlateGray\"],\"fill_alpha\":[0.8],\"height\":[0.0],\"label\":[\"(1.200000, 1.333333]\"],\"line_alpha\":[1.0],\"line_color\":[\"black\"],\"width\":[0.1333333333333333],\"x\":[\"1.2666665\"],\"y\":[0.0]}},\"id\":\"3cc5fd1e-c80d-42f5-93b8-021ff58e98de\",\"type\":\"ColumnDataSource\"},{\"attributes\":{\"data_source\":{\"id\":\"2db8af8c-9cc4-4dc5-946c-15548d325634\",\"type\":\"ColumnDataSource\"},\"glyph\":{\"id\":\"fe46d0b6-c9f4-4c32-94fe-206772ee9001\",\"type\":\"Rect\"},\"hover_glyph\":null,\"nonselection_glyph\":null,\"selection_glyph\":null},\"id\":\"1e8b42b7-777d-43e3-96b9-738eb4a7d332\",\"type\":\"GlyphRenderer\"},{\"attributes\":{\"fill_alpha\":{\"field\":\"fill_alpha\"},\"fill_color\":{\"field\":\"color\"},\"height\":{\"field\":\"height\",\"units\":\"data\"},\"line_color\":{\"field\":\"line_color\"},\"width\":{\"field\":\"width\",\"units\":\"data\"},\"x\":{\"field\":\"x\"},\"y\":{\"field\":\"y\"}},\"id\":\"0ca84c83-13ca-4787-b6e2-5f722b913045\",\"type\":\"Rect\"},{\"attributes\":{\"callback\":null,\"end\":2.0500001666666665,\"start\":-0.050000166666666665},\"id\":\"a1660010-a8d8-41a1-993f-8bbd9bbe417f\",\"type\":\"Range1d\"}],\"root_ids\":[\"0ebaf061-e837-483f-8d78-2dcb7a6ae958\"]},\"title\":\"Bokeh Application\",\"version\":\"0.12.4\"}};\n",
       "            var render_items = [{\"docid\":\"3a4c0279-a93f-42dd-a3c4-d03618a2b5be\",\"elementid\":\"e1b8c330-9c65-40ec-9c2b-f86697dd55d5\",\"modelid\":\"0ebaf061-e837-483f-8d78-2dcb7a6ae958\"}];\n",
       "            \n",
       "            Bokeh.embed.embed_items(docs_json, render_items);\n",
       "          };\n",
       "          if (document.readyState != \"loading\") fn();\n",
       "          else document.addEventListener(\"DOMContentLoaded\", fn);\n",
       "        })();\n",
       "      },\n",
       "      function(Bokeh) {\n",
       "      }\n",
       "    ];\n",
       "  \n",
       "    function run_inline_js() {\n",
       "      \n",
       "      if ((window.Bokeh !== undefined) || (force === true)) {\n",
       "        for (var i = 0; i < inline_js.length; i++) {\n",
       "          inline_js[i](window.Bokeh);\n",
       "        }if (force === true) {\n",
       "          display_loaded();\n",
       "        }} else if (Date.now() < window._bokeh_timeout) {\n",
       "        setTimeout(run_inline_js, 100);\n",
       "      } else if (!window._bokeh_failed_load) {\n",
       "        console.log(\"Bokeh: BokehJS failed to load within specified timeout.\");\n",
       "        window._bokeh_failed_load = true;\n",
       "      } else if (force !== true) {\n",
       "        var cell = $(document.getElementById(\"e1b8c330-9c65-40ec-9c2b-f86697dd55d5\")).parents('.cell').data().cell;\n",
       "        cell.output_area.append_execute_result(NB_LOAD_WARNING)\n",
       "      }\n",
       "  \n",
       "    }\n",
       "  \n",
       "    if (window._bokeh_is_loading === 0) {\n",
       "      console.log(\"Bokeh: BokehJS loaded, going straight to plotting\");\n",
       "      run_inline_js();\n",
       "    } else {\n",
       "      load_libs(js_urls, function() {\n",
       "        console.log(\"Bokeh: BokehJS plotting callback run at\", now());\n",
       "        run_inline_js();\n",
       "      });\n",
       "    }\n",
       "  }(this));\n",
       "</script>"
      ]
     },
     "metadata": {},
     "output_type": "display_data"
    }
   ],
   "source": [
    "p = figure()\n",
    "p = Histogram(hom_ref, values='GTcons', title='Homozygous_Reference_HG002: Consensust GT', color='LightSlateGray', bins=15, plot_height=250, xlabel=\"GTcons\", ylabel=\"Frequency\")\n",
    "show(p)"
   ]
  },
  {
   "cell_type": "markdown",
   "metadata": {},
   "source": [
    "** Inaccurate Call **"
   ]
  },
  {
   "cell_type": "code",
   "execution_count": 66,
   "metadata": {},
   "outputs": [
    {
     "data": {
      "text/html": [
       "<div>\n",
       "<table border=\"1\" class=\"dataframe\">\n",
       "  <thead>\n",
       "    <tr style=\"text-align: right;\">\n",
       "      <th></th>\n",
       "      <th>IllMP.GT</th>\n",
       "      <th>IllMP.alt_alnScore_mean</th>\n",
       "      <th>IllMP.alt_alnScore_std</th>\n",
       "      <th>IllMP.alt_count</th>\n",
       "      <th>IllMP.alt_insertSize_mean</th>\n",
       "      <th>IllMP.alt_insertSize_std</th>\n",
       "      <th>IllMP.alt_reason_alignmentScore</th>\n",
       "      <th>IllMP.alt_reason_insertSizeScore</th>\n",
       "      <th>IllMP.alt_reason_orientation</th>\n",
       "      <th>IllMP.amb_alnScore_mean</th>\n",
       "      <th>...</th>\n",
       "      <th>refN_pct</th>\n",
       "      <th>segdup_cnt</th>\n",
       "      <th>segdup_pct</th>\n",
       "      <th>start</th>\n",
       "      <th>tandemrep_cnt</th>\n",
       "      <th>tandemrep_pct</th>\n",
       "      <th>predicted_label</th>\n",
       "      <th>GTcons</th>\n",
       "      <th>GTsupp</th>\n",
       "      <th>GTconswithoutIllMP.GT</th>\n",
       "    </tr>\n",
       "  </thead>\n",
       "  <tbody>\n",
       "    <tr>\n",
       "      <th>2</th>\n",
       "      <td>-1.0</td>\n",
       "      <td>472.0</td>\n",
       "      <td>0.0</td>\n",
       "      <td>1.0</td>\n",
       "      <td>12801.0</td>\n",
       "      <td>0.0</td>\n",
       "      <td>0.0</td>\n",
       "      <td>1.0</td>\n",
       "      <td>0.0</td>\n",
       "      <td>401.671672</td>\n",
       "      <td>...</td>\n",
       "      <td>0.0</td>\n",
       "      <td>1.0</td>\n",
       "      <td>1.0</td>\n",
       "      <td>2629212</td>\n",
       "      <td>0.0</td>\n",
       "      <td>0.0</td>\n",
       "      <td>2.0</td>\n",
       "      <td>0</td>\n",
       "      <td>1</td>\n",
       "      <td>0</td>\n",
       "    </tr>\n",
       "  </tbody>\n",
       "</table>\n",
       "<p>1 rows × 46 columns</p>\n",
       "</div>"
      ],
      "text/plain": [
       "   IllMP.GT  IllMP.alt_alnScore_mean  IllMP.alt_alnScore_std  IllMP.alt_count  \\\n",
       "2      -1.0                    472.0                     0.0              1.0   \n",
       "\n",
       "   IllMP.alt_insertSize_mean  IllMP.alt_insertSize_std  \\\n",
       "2                    12801.0                       0.0   \n",
       "\n",
       "   IllMP.alt_reason_alignmentScore  IllMP.alt_reason_insertSizeScore  \\\n",
       "2                              0.0                               1.0   \n",
       "\n",
       "   IllMP.alt_reason_orientation  IllMP.amb_alnScore_mean  \\\n",
       "2                           0.0               401.671672   \n",
       "\n",
       "           ...            refN_pct  segdup_cnt  segdup_pct    start  \\\n",
       "2          ...                 0.0         1.0         1.0  2629212   \n",
       "\n",
       "   tandemrep_cnt  tandemrep_pct  predicted_label  GTcons  GTsupp  \\\n",
       "2            0.0            0.0              2.0       0       1   \n",
       "\n",
       "   GTconswithoutIllMP.GT  \n",
       "2                      0  \n",
       "\n",
       "[1 rows x 46 columns]"
      ]
     },
     "execution_count": 66,
     "metadata": {},
     "output_type": "execute_result"
    }
   ],
   "source": [
    "ic = X5['predicted_label'] == 2.0\n",
    "inac_call = X5[ic]\n",
    "inac_call.head(1)"
   ]
  },
  {
   "cell_type": "code",
   "execution_count": 67,
   "metadata": {
    "scrolled": true
   },
   "outputs": [
    {
     "data": {
      "text/html": [
       "\n",
       "\n",
       "    <div class=\"bk-root\">\n",
       "        <div class=\"bk-plotdiv\" id=\"d6515a45-7173-45da-b212-3208a6f1fac6\"></div>\n",
       "    </div>\n",
       "<script type=\"text/javascript\">\n",
       "  \n",
       "  (function(global) {\n",
       "    function now() {\n",
       "      return new Date();\n",
       "    }\n",
       "  \n",
       "    var force = false;\n",
       "  \n",
       "    if (typeof (window._bokeh_onload_callbacks) === \"undefined\" || force === true) {\n",
       "      window._bokeh_onload_callbacks = [];\n",
       "      window._bokeh_is_loading = undefined;\n",
       "    }\n",
       "  \n",
       "  \n",
       "    \n",
       "    if (typeof (window._bokeh_timeout) === \"undefined\" || force === true) {\n",
       "      window._bokeh_timeout = Date.now() + 0;\n",
       "      window._bokeh_failed_load = false;\n",
       "    }\n",
       "  \n",
       "    var NB_LOAD_WARNING = {'data': {'text/html':\n",
       "       \"<div style='background-color: #fdd'>\\n\"+\n",
       "       \"<p>\\n\"+\n",
       "       \"BokehJS does not appear to have successfully loaded. If loading BokehJS from CDN, this \\n\"+\n",
       "       \"may be due to a slow or bad network connection. Possible fixes:\\n\"+\n",
       "       \"</p>\\n\"+\n",
       "       \"<ul>\\n\"+\n",
       "       \"<li>re-rerun `output_notebook()` to attempt to load from CDN again, or</li>\\n\"+\n",
       "       \"<li>use INLINE resources instead, as so:</li>\\n\"+\n",
       "       \"</ul>\\n\"+\n",
       "       \"<code>\\n\"+\n",
       "       \"from bokeh.resources import INLINE\\n\"+\n",
       "       \"output_notebook(resources=INLINE)\\n\"+\n",
       "       \"</code>\\n\"+\n",
       "       \"</div>\"}};\n",
       "  \n",
       "    function display_loaded() {\n",
       "      if (window.Bokeh !== undefined) {\n",
       "        document.getElementById(\"d6515a45-7173-45da-b212-3208a6f1fac6\").textContent = \"BokehJS successfully loaded.\";\n",
       "      } else if (Date.now() < window._bokeh_timeout) {\n",
       "        setTimeout(display_loaded, 100)\n",
       "      }\n",
       "    }\n",
       "  \n",
       "    function run_callbacks() {\n",
       "      window._bokeh_onload_callbacks.forEach(function(callback) { callback() });\n",
       "      delete window._bokeh_onload_callbacks\n",
       "      console.info(\"Bokeh: all callbacks have finished\");\n",
       "    }\n",
       "  \n",
       "    function load_libs(js_urls, callback) {\n",
       "      window._bokeh_onload_callbacks.push(callback);\n",
       "      if (window._bokeh_is_loading > 0) {\n",
       "        console.log(\"Bokeh: BokehJS is being loaded, scheduling callback at\", now());\n",
       "        return null;\n",
       "      }\n",
       "      if (js_urls == null || js_urls.length === 0) {\n",
       "        run_callbacks();\n",
       "        return null;\n",
       "      }\n",
       "      console.log(\"Bokeh: BokehJS not loaded, scheduling load and callback at\", now());\n",
       "      window._bokeh_is_loading = js_urls.length;\n",
       "      for (var i = 0; i < js_urls.length; i++) {\n",
       "        var url = js_urls[i];\n",
       "        var s = document.createElement('script');\n",
       "        s.src = url;\n",
       "        s.async = false;\n",
       "        s.onreadystatechange = s.onload = function() {\n",
       "          window._bokeh_is_loading--;\n",
       "          if (window._bokeh_is_loading === 0) {\n",
       "            console.log(\"Bokeh: all BokehJS libraries loaded\");\n",
       "            run_callbacks()\n",
       "          }\n",
       "        };\n",
       "        s.onerror = function() {\n",
       "          console.warn(\"failed to load library \" + url);\n",
       "        };\n",
       "        console.log(\"Bokeh: injecting script tag for BokehJS library: \", url);\n",
       "        document.getElementsByTagName(\"head\")[0].appendChild(s);\n",
       "      }\n",
       "    };var element = document.getElementById(\"d6515a45-7173-45da-b212-3208a6f1fac6\");\n",
       "    if (element == null) {\n",
       "      console.log(\"Bokeh: ERROR: autoload.js configured with elementid 'd6515a45-7173-45da-b212-3208a6f1fac6' but no matching script tag was found. \")\n",
       "      return false;\n",
       "    }\n",
       "  \n",
       "    var js_urls = [];\n",
       "  \n",
       "    var inline_js = [\n",
       "      function(Bokeh) {\n",
       "        (function() {\n",
       "          var fn = function() {\n",
       "            var docs_json = {\"6be0dab1-4bf4-4c70-92f4-12d4549962e0\":{\"roots\":{\"references\":[{\"attributes\":{\"callback\":null,\"column_names\":[\"fill_alpha\",\"line_color\",\"y\",\"line_alpha\",\"x\",\"color\",\"height\",\"label\",\"width\"],\"data\":{\"chart_index\":[\"(0.933333, 1.066667]\"],\"color\":[\"LightSlateGray\"],\"fill_alpha\":[0.8],\"height\":[267.0],\"label\":[\"(0.933333, 1.066667]\"],\"line_alpha\":[1.0],\"line_color\":[\"black\"],\"width\":[0.1333333333333333],\"x\":[\"1.0\"],\"y\":[133.5]}},\"id\":\"77654e7c-293c-43d6-9a95-0874054b31a8\",\"type\":\"ColumnDataSource\"},{\"attributes\":{\"plot\":{\"id\":\"0585cdf8-0e7d-4353-a08e-a1b648259498\",\"subtype\":\"Chart\",\"type\":\"Plot\"}},\"id\":\"8f9075ed-d6dd-4ad3-9dc9-8200523e8327\",\"type\":\"SaveTool\"},{\"attributes\":{\"callback\":null,\"column_names\":[\"fill_alpha\",\"line_color\",\"y\",\"line_alpha\",\"x\",\"color\",\"height\",\"label\",\"width\"],\"data\":{\"chart_index\":[\"(1.066667, 1.200000]\"],\"color\":[\"LightSlateGray\"],\"fill_alpha\":[0.8],\"height\":[0.0],\"label\":[\"(1.066667, 1.200000]\"],\"line_alpha\":[1.0],\"line_color\":[\"black\"],\"width\":[0.1333333333333333],\"x\":[\"1.1333335\"],\"y\":[0.0]}},\"id\":\"6060abfe-5d90-4492-b4e1-770cbd2c6e15\",\"type\":\"ColumnDataSource\"},{\"attributes\":{\"data_source\":{\"id\":\"b730750e-2c2b-4b4a-b500-d8734e891bdd\",\"type\":\"ColumnDataSource\"},\"glyph\":{\"id\":\"ed74ef10-fb20-4939-80a0-2e91b2c224e3\",\"type\":\"Rect\"},\"hover_glyph\":null,\"nonselection_glyph\":null,\"selection_glyph\":null},\"id\":\"05fb0126-42d3-4d43-9ffa-799326800c48\",\"type\":\"GlyphRenderer\"},{\"attributes\":{\"callback\":null,\"end\":2.0500001666666665,\"start\":-0.050000166666666665},\"id\":\"d6536bfd-416c-4e8b-af2d-678904e190f0\",\"type\":\"Range1d\"},{\"attributes\":{\"fill_alpha\":{\"field\":\"fill_alpha\"},\"fill_color\":{\"field\":\"color\"},\"height\":{\"field\":\"height\",\"units\":\"data\"},\"line_color\":{\"field\":\"line_color\"},\"width\":{\"field\":\"width\",\"units\":\"data\"},\"x\":{\"field\":\"x\"},\"y\":{\"field\":\"y\"}},\"id\":\"733392c8-261e-41a7-bf1e-8f15d4cbcc90\",\"type\":\"Rect\"},{\"attributes\":{\"data_source\":{\"id\":\"9b37a789-45e9-4785-a949-4e31b228df40\",\"type\":\"ColumnDataSource\"},\"glyph\":{\"id\":\"948ed6b6-2c35-423f-a527-f01ded91f6c5\",\"type\":\"Rect\"},\"hover_glyph\":null,\"nonselection_glyph\":null,\"selection_glyph\":null},\"id\":\"a4291431-60b3-44e0-9e62-23d72aa04b87\",\"type\":\"GlyphRenderer\"},{\"attributes\":{},\"id\":\"caaff0f8-2389-4647-837c-1431f828819f\",\"type\":\"BasicTickFormatter\"},{\"attributes\":{\"callback\":null,\"column_names\":[\"fill_alpha\",\"line_color\",\"y\",\"line_alpha\",\"x\",\"color\",\"height\",\"label\",\"width\"],\"data\":{\"chart_index\":[\"(0.266667, 0.400000]\"],\"color\":[\"LightSlateGray\"],\"fill_alpha\":[0.8],\"height\":[0.0],\"label\":[\"(0.266667, 0.400000]\"],\"line_alpha\":[1.0],\"line_color\":[\"black\"],\"width\":[0.13333333333333336],\"x\":[\"0.3333335\"],\"y\":[0.0]}},\"id\":\"49fd0961-7d2c-4d0c-9875-6241966bd97e\",\"type\":\"ColumnDataSource\"},{\"attributes\":{\"plot\":{\"id\":\"0585cdf8-0e7d-4353-a08e-a1b648259498\",\"subtype\":\"Chart\",\"type\":\"Plot\"}},\"id\":\"64061851-9ad7-4977-be78-169a3e302311\",\"type\":\"WheelZoomTool\"},{\"attributes\":{},\"id\":\"1e5d8d41-3b41-4897-97b6-fc6066f815ed\",\"type\":\"BasicTickFormatter\"},{\"attributes\":{\"location\":\"top_left\",\"plot\":{\"id\":\"0585cdf8-0e7d-4353-a08e-a1b648259498\",\"subtype\":\"Chart\",\"type\":\"Plot\"}},\"id\":\"68a069a3-ce07-4b6c-9572-49d4207107d8\",\"type\":\"Legend\"},{\"attributes\":{\"fill_alpha\":{\"field\":\"fill_alpha\"},\"fill_color\":{\"field\":\"color\"},\"height\":{\"field\":\"height\",\"units\":\"data\"},\"line_color\":{\"field\":\"line_color\"},\"width\":{\"field\":\"width\",\"units\":\"data\"},\"x\":{\"field\":\"x\"},\"y\":{\"field\":\"y\"}},\"id\":\"482e735a-1b38-43f3-ae7f-b5b4382f0437\",\"type\":\"Rect\"},{\"attributes\":{\"fill_alpha\":{\"field\":\"fill_alpha\"},\"fill_color\":{\"field\":\"color\"},\"height\":{\"field\":\"height\",\"units\":\"data\"},\"line_color\":{\"field\":\"line_color\"},\"width\":{\"field\":\"width\",\"units\":\"data\"},\"x\":{\"field\":\"x\"},\"y\":{\"field\":\"y\"}},\"id\":\"896671b2-54b5-4b06-9a1e-4095dbc4bbc3\",\"type\":\"Rect\"},{\"attributes\":{\"callback\":null,\"column_names\":[\"fill_alpha\",\"line_color\",\"y\",\"line_alpha\",\"x\",\"color\",\"height\",\"label\",\"width\"],\"data\":{\"chart_index\":[\"(0.400000, 0.533333]\"],\"color\":[\"LightSlateGray\"],\"fill_alpha\":[0.8],\"height\":[0.0],\"label\":[\"(0.400000, 0.533333]\"],\"line_alpha\":[1.0],\"line_color\":[\"black\"],\"width\":[0.1333333333333333],\"x\":[\"0.4666665\"],\"y\":[0.0]}},\"id\":\"b73bf1a4-68e0-4b65-8b89-784fd12e6a04\",\"type\":\"ColumnDataSource\"},{\"attributes\":{\"data_source\":{\"id\":\"49fd0961-7d2c-4d0c-9875-6241966bd97e\",\"type\":\"ColumnDataSource\"},\"glyph\":{\"id\":\"ed40d867-7e75-46a8-af43-a482fba6f19a\",\"type\":\"Rect\"},\"hover_glyph\":null,\"nonselection_glyph\":null,\"selection_glyph\":null},\"id\":\"31f6eab4-a7f7-4813-ac88-efa15bbbfca8\",\"type\":\"GlyphRenderer\"},{\"attributes\":{\"data_source\":{\"id\":\"9498d2f8-84a5-4388-86a8-47fbea80e417\",\"type\":\"ColumnDataSource\"},\"glyph\":{\"id\":\"701bcdf5-3fbe-41de-a66a-f9111276fb2a\",\"type\":\"Rect\"},\"hover_glyph\":null,\"nonselection_glyph\":null,\"selection_glyph\":null},\"id\":\"b6afa7c4-cb45-4e83-81f4-fcada83e2919\",\"type\":\"GlyphRenderer\"},{\"attributes\":{\"data_source\":{\"id\":\"1899240f-1be8-4a58-ba34-f2dde8b24be4\",\"type\":\"ColumnDataSource\"},\"glyph\":{\"id\":\"e539a011-b15c-454a-80f0-7fc1a67c9282\",\"type\":\"Rect\"},\"hover_glyph\":null,\"nonselection_glyph\":null,\"selection_glyph\":null},\"id\":\"85ec0ccd-0a0c-4298-a602-53cf1bd54dee\",\"type\":\"GlyphRenderer\"},{\"attributes\":{\"fill_alpha\":{\"field\":\"fill_alpha\"},\"fill_color\":{\"field\":\"color\"},\"height\":{\"field\":\"height\",\"units\":\"data\"},\"line_color\":{\"field\":\"line_color\"},\"width\":{\"field\":\"width\",\"units\":\"data\"},\"x\":{\"field\":\"x\"},\"y\":{\"field\":\"y\"}},\"id\":\"0a302d26-2b8b-4b82-81db-c3054f589607\",\"type\":\"Rect\"},{\"attributes\":{\"callback\":null,\"column_names\":[\"fill_alpha\",\"line_color\",\"y\",\"line_alpha\",\"x\",\"color\",\"height\",\"label\",\"width\"],\"data\":{\"chart_index\":[\"[0.000000, 0.133333]\"],\"color\":[\"LightSlateGray\"],\"fill_alpha\":[0.8],\"height\":[224.0],\"label\":[\"[0.000000, 0.133333]\"],\"line_alpha\":[1.0],\"line_color\":[\"black\"],\"width\":[0.13333333333333333],\"x\":[\"0.0666665\"],\"y\":[112.0]}},\"id\":\"63d23578-5845-46cf-a3f1-70b55ffcb7fd\",\"type\":\"ColumnDataSource\"},{\"attributes\":{\"fill_alpha\":{\"field\":\"fill_alpha\"},\"fill_color\":{\"field\":\"color\"},\"height\":{\"field\":\"height\",\"units\":\"data\"},\"line_color\":{\"field\":\"line_color\"},\"width\":{\"field\":\"width\",\"units\":\"data\"},\"x\":{\"field\":\"x\"},\"y\":{\"field\":\"y\"}},\"id\":\"c76126ff-d62f-4eb6-bb52-461e2f1c25dd\",\"type\":\"Rect\"},{\"attributes\":{\"data_source\":{\"id\":\"b73bf1a4-68e0-4b65-8b89-784fd12e6a04\",\"type\":\"ColumnDataSource\"},\"glyph\":{\"id\":\"0a302d26-2b8b-4b82-81db-c3054f589607\",\"type\":\"Rect\"},\"hover_glyph\":null,\"nonselection_glyph\":null,\"selection_glyph\":null},\"id\":\"bcb45eff-816c-47ee-8ff4-eaf545f4cf65\",\"type\":\"GlyphRenderer\"},{\"attributes\":{\"data_source\":{\"id\":\"c6f88e2f-f25c-435a-bf7e-a44606e1fbe3\",\"type\":\"ColumnDataSource\"},\"glyph\":{\"id\":\"5e487ce3-51c0-4b0a-9d6d-2750d6be69af\",\"type\":\"Rect\"},\"hover_glyph\":null,\"nonselection_glyph\":null,\"selection_glyph\":null},\"id\":\"0d734538-c4cf-4e3f-bfa9-dd5fde57253e\",\"type\":\"GlyphRenderer\"},{\"attributes\":{\"callback\":null,\"column_names\":[\"fill_alpha\",\"line_color\",\"y\",\"line_alpha\",\"x\",\"color\",\"height\",\"label\",\"width\"],\"data\":{\"chart_index\":[\"(1.333333, 1.466667]\"],\"color\":[\"LightSlateGray\"],\"fill_alpha\":[0.8],\"height\":[0.0],\"label\":[\"(1.333333, 1.466667]\"],\"line_alpha\":[1.0],\"line_color\":[\"black\"],\"width\":[0.1333333333333333],\"x\":[\"1.4\"],\"y\":[0.0]}},\"id\":\"1899240f-1be8-4a58-ba34-f2dde8b24be4\",\"type\":\"ColumnDataSource\"},{\"attributes\":{\"active_drag\":\"auto\",\"active_scroll\":\"auto\",\"active_tap\":\"auto\",\"tools\":[{\"id\":\"046fb2c3-bbbd-44dd-9767-5e51c1b53282\",\"type\":\"PanTool\"},{\"id\":\"64061851-9ad7-4977-be78-169a3e302311\",\"type\":\"WheelZoomTool\"},{\"id\":\"6e6a998c-d3c0-43d7-80e8-270d8d1cf065\",\"type\":\"BoxZoomTool\"},{\"id\":\"8f9075ed-d6dd-4ad3-9dc9-8200523e8327\",\"type\":\"SaveTool\"},{\"id\":\"bf48a548-3d3c-4cd1-9da5-7603cac65ec0\",\"type\":\"ResetTool\"},{\"id\":\"aa3a9030-e134-475b-8a8b-59cec8475b51\",\"type\":\"HelpTool\"}]},\"id\":\"dc6c4df8-0208-4721-835a-ee2a9debd022\",\"type\":\"Toolbar\"},{\"attributes\":{\"callback\":null,\"column_names\":[\"fill_alpha\",\"line_color\",\"y\",\"line_alpha\",\"x\",\"color\",\"height\",\"label\",\"width\"],\"data\":{\"chart_index\":[\"(1.466667, 1.600000]\"],\"color\":[\"LightSlateGray\"],\"fill_alpha\":[0.8],\"height\":[0.0],\"label\":[\"(1.466667, 1.600000]\"],\"line_alpha\":[1.0],\"line_color\":[\"black\"],\"width\":[0.13333333333333353],\"x\":[\"1.5333335\"],\"y\":[0.0]}},\"id\":\"740679fe-c2b5-4511-9df1-e118447aeaeb\",\"type\":\"ColumnDataSource\"},{\"attributes\":{\"fill_alpha\":{\"field\":\"fill_alpha\"},\"fill_color\":{\"field\":\"color\"},\"height\":{\"field\":\"height\",\"units\":\"data\"},\"line_color\":{\"field\":\"line_color\"},\"width\":{\"field\":\"width\",\"units\":\"data\"},\"x\":{\"field\":\"x\"},\"y\":{\"field\":\"y\"}},\"id\":\"ed40d867-7e75-46a8-af43-a482fba6f19a\",\"type\":\"Rect\"},{\"attributes\":{\"data_source\":{\"id\":\"509f8577-aa8a-460f-ae03-8fab2b784308\",\"type\":\"ColumnDataSource\"},\"glyph\":{\"id\":\"716929cc-18ee-48a9-ab12-434a6ceff3e1\",\"type\":\"Rect\"},\"hover_glyph\":null,\"nonselection_glyph\":null,\"selection_glyph\":null},\"id\":\"9c4ca228-f410-4847-9f78-71aec938792a\",\"type\":\"GlyphRenderer\"},{\"attributes\":{},\"id\":\"d347e4cd-7509-4994-9154-58bcbdab6100\",\"type\":\"ToolEvents\"},{\"attributes\":{\"data_source\":{\"id\":\"943e1366-0e61-49bf-94d6-8a2f18ae5507\",\"type\":\"ColumnDataSource\"},\"glyph\":{\"id\":\"c76126ff-d62f-4eb6-bb52-461e2f1c25dd\",\"type\":\"Rect\"},\"hover_glyph\":null,\"nonselection_glyph\":null,\"selection_glyph\":null},\"id\":\"f88bd6a8-df14-4b97-81ef-5121fc573519\",\"type\":\"GlyphRenderer\"},{\"attributes\":{\"axis_label\":\"Frequency\",\"formatter\":{\"id\":\"1e5d8d41-3b41-4897-97b6-fc6066f815ed\",\"type\":\"BasicTickFormatter\"},\"plot\":{\"id\":\"0585cdf8-0e7d-4353-a08e-a1b648259498\",\"subtype\":\"Chart\",\"type\":\"Plot\"},\"ticker\":{\"id\":\"12ab292e-7cef-4782-b0fd-47faf8ca8bc9\",\"type\":\"BasicTicker\"}},\"id\":\"87765ef3-3651-4f76-8d8d-cdb4cef87422\",\"type\":\"LinearAxis\"},{\"attributes\":{\"callback\":null,\"column_names\":[\"fill_alpha\",\"line_color\",\"y\",\"line_alpha\",\"x\",\"color\",\"height\",\"label\",\"width\"],\"data\":{\"chart_index\":[\"(1.600000, 1.733333]\"],\"color\":[\"LightSlateGray\"],\"fill_alpha\":[0.8],\"height\":[0.0],\"label\":[\"(1.600000, 1.733333]\"],\"line_alpha\":[1.0],\"line_color\":[\"black\"],\"width\":[0.1333333333333333],\"x\":[\"1.6666665\"],\"y\":[0.0]}},\"id\":\"6f2ae527-fca2-447d-9a5f-1bc6abb0a490\",\"type\":\"ColumnDataSource\"},{\"attributes\":{\"overlay\":{\"id\":\"cb3cb281-ba9a-44cc-9937-821f36270376\",\"type\":\"BoxAnnotation\"},\"plot\":{\"id\":\"0585cdf8-0e7d-4353-a08e-a1b648259498\",\"subtype\":\"Chart\",\"type\":\"Plot\"}},\"id\":\"6e6a998c-d3c0-43d7-80e8-270d8d1cf065\",\"type\":\"BoxZoomTool\"},{\"attributes\":{\"below\":[{\"id\":\"7648ecdf-a66d-4f25-9720-d3e10e9d6142\",\"type\":\"LinearAxis\"}],\"css_classes\":null,\"left\":[{\"id\":\"87765ef3-3651-4f76-8d8d-cdb4cef87422\",\"type\":\"LinearAxis\"}],\"plot_height\":250,\"renderers\":[{\"id\":\"cb3cb281-ba9a-44cc-9937-821f36270376\",\"type\":\"BoxAnnotation\"},{\"id\":\"9b1a5585-37d8-414c-8f47-352d8509a8ef\",\"type\":\"GlyphRenderer\"},{\"id\":\"f389e6bf-1ec9-4124-8b96-b53fc959848f\",\"type\":\"GlyphRenderer\"},{\"id\":\"31f6eab4-a7f7-4813-ac88-efa15bbbfca8\",\"type\":\"GlyphRenderer\"},{\"id\":\"bcb45eff-816c-47ee-8ff4-eaf545f4cf65\",\"type\":\"GlyphRenderer\"},{\"id\":\"05fb0126-42d3-4d43-9ffa-799326800c48\",\"type\":\"GlyphRenderer\"},{\"id\":\"f88bd6a8-df14-4b97-81ef-5121fc573519\",\"type\":\"GlyphRenderer\"},{\"id\":\"a4291431-60b3-44e0-9e62-23d72aa04b87\",\"type\":\"GlyphRenderer\"},{\"id\":\"4ab692ba-6040-4e95-b1a5-3450167fd5c6\",\"type\":\"GlyphRenderer\"},{\"id\":\"4c347130-a8eb-44f1-9b8d-bd2d816cb726\",\"type\":\"GlyphRenderer\"},{\"id\":\"0d734538-c4cf-4e3f-bfa9-dd5fde57253e\",\"type\":\"GlyphRenderer\"},{\"id\":\"85ec0ccd-0a0c-4298-a602-53cf1bd54dee\",\"type\":\"GlyphRenderer\"},{\"id\":\"5420d95a-5c6d-4fdd-bf10-d90fb42991e8\",\"type\":\"GlyphRenderer\"},{\"id\":\"12df364b-7493-4701-853a-32cdf613a8b2\",\"type\":\"GlyphRenderer\"},{\"id\":\"b6afa7c4-cb45-4e83-81f4-fcada83e2919\",\"type\":\"GlyphRenderer\"},{\"id\":\"9c4ca228-f410-4847-9f78-71aec938792a\",\"type\":\"GlyphRenderer\"},{\"id\":\"68a069a3-ce07-4b6c-9572-49d4207107d8\",\"type\":\"Legend\"},{\"id\":\"7648ecdf-a66d-4f25-9720-d3e10e9d6142\",\"type\":\"LinearAxis\"},{\"id\":\"87765ef3-3651-4f76-8d8d-cdb4cef87422\",\"type\":\"LinearAxis\"},{\"id\":\"bcf88f62-fd50-431c-a3d7-962b90f0d762\",\"type\":\"Grid\"}],\"title\":{\"id\":\"b95cc659-92be-4f2b-b92b-073993809c8c\",\"type\":\"Title\"},\"tool_events\":{\"id\":\"d347e4cd-7509-4994-9154-58bcbdab6100\",\"type\":\"ToolEvents\"},\"toolbar\":{\"id\":\"dc6c4df8-0208-4721-835a-ee2a9debd022\",\"type\":\"Toolbar\"},\"x_mapper_type\":\"auto\",\"x_range\":{\"id\":\"d6536bfd-416c-4e8b-af2d-678904e190f0\",\"type\":\"Range1d\"},\"y_mapper_type\":\"auto\",\"y_range\":{\"id\":\"2b989d8e-be6e-44ee-9643-abdccae84844\",\"type\":\"Range1d\"}},\"id\":\"0585cdf8-0e7d-4353-a08e-a1b648259498\",\"subtype\":\"Chart\",\"type\":\"Plot\"},{\"attributes\":{\"data_source\":{\"id\":\"6f2ae527-fca2-447d-9a5f-1bc6abb0a490\",\"type\":\"ColumnDataSource\"},\"glyph\":{\"id\":\"896671b2-54b5-4b06-9a1e-4095dbc4bbc3\",\"type\":\"Rect\"},\"hover_glyph\":null,\"nonselection_glyph\":null,\"selection_glyph\":null},\"id\":\"12df364b-7493-4701-853a-32cdf613a8b2\",\"type\":\"GlyphRenderer\"},{\"attributes\":{\"axis_label\":\"GTcons\",\"formatter\":{\"id\":\"caaff0f8-2389-4647-837c-1431f828819f\",\"type\":\"BasicTickFormatter\"},\"plot\":{\"id\":\"0585cdf8-0e7d-4353-a08e-a1b648259498\",\"subtype\":\"Chart\",\"type\":\"Plot\"},\"ticker\":{\"id\":\"0b632fbb-6901-4ebd-aa79-31de8162f3ba\",\"type\":\"BasicTicker\"}},\"id\":\"7648ecdf-a66d-4f25-9720-d3e10e9d6142\",\"type\":\"LinearAxis\"},{\"attributes\":{\"callback\":null,\"column_names\":[\"fill_alpha\",\"line_color\",\"y\",\"line_alpha\",\"x\",\"color\",\"height\",\"label\",\"width\"],\"data\":{\"chart_index\":[\"(1.733333, 1.866667]\"],\"color\":[\"LightSlateGray\"],\"fill_alpha\":[0.8],\"height\":[0.0],\"label\":[\"(1.733333, 1.866667]\"],\"line_alpha\":[1.0],\"line_color\":[\"black\"],\"width\":[0.1333333333333333],\"x\":[\"1.8\"],\"y\":[0.0]}},\"id\":\"9498d2f8-84a5-4388-86a8-47fbea80e417\",\"type\":\"ColumnDataSource\"},{\"attributes\":{\"plot\":{\"id\":\"0585cdf8-0e7d-4353-a08e-a1b648259498\",\"subtype\":\"Chart\",\"type\":\"Plot\"}},\"id\":\"bf48a548-3d3c-4cd1-9da5-7603cac65ec0\",\"type\":\"ResetTool\"},{\"attributes\":{\"fill_alpha\":{\"field\":\"fill_alpha\"},\"fill_color\":{\"field\":\"color\"},\"height\":{\"field\":\"height\",\"units\":\"data\"},\"line_color\":{\"field\":\"line_color\"},\"width\":{\"field\":\"width\",\"units\":\"data\"},\"x\":{\"field\":\"x\"},\"y\":{\"field\":\"y\"}},\"id\":\"948ed6b6-2c35-423f-a527-f01ded91f6c5\",\"type\":\"Rect\"},{\"attributes\":{\"callback\":null,\"column_names\":[\"fill_alpha\",\"line_color\",\"y\",\"line_alpha\",\"x\",\"color\",\"height\",\"label\",\"width\"],\"data\":{\"chart_index\":[\"(1.200000, 1.333333]\"],\"color\":[\"LightSlateGray\"],\"fill_alpha\":[0.8],\"height\":[0.0],\"label\":[\"(1.200000, 1.333333]\"],\"line_alpha\":[1.0],\"line_color\":[\"black\"],\"width\":[0.1333333333333333],\"x\":[\"1.2666665\"],\"y\":[0.0]}},\"id\":\"c6f88e2f-f25c-435a-bf7e-a44606e1fbe3\",\"type\":\"ColumnDataSource\"},{\"attributes\":{\"callback\":null,\"column_names\":[\"fill_alpha\",\"line_color\",\"y\",\"line_alpha\",\"x\",\"color\",\"height\",\"label\",\"width\"],\"data\":{\"chart_index\":[\"(0.666667, 0.800000]\"],\"color\":[\"LightSlateGray\"],\"fill_alpha\":[0.8],\"height\":[0.0],\"label\":[\"(0.666667, 0.800000]\"],\"line_alpha\":[1.0],\"line_color\":[\"black\"],\"width\":[0.13333333333333341],\"x\":[\"0.7333335000000001\"],\"y\":[0.0]}},\"id\":\"943e1366-0e61-49bf-94d6-8a2f18ae5507\",\"type\":\"ColumnDataSource\"},{\"attributes\":{\"callback\":null,\"column_names\":[\"fill_alpha\",\"line_color\",\"y\",\"line_alpha\",\"x\",\"color\",\"height\",\"label\",\"width\"],\"data\":{\"chart_index\":[\"(0.533333, 0.666667]\"],\"color\":[\"LightSlateGray\"],\"fill_alpha\":[0.8],\"height\":[0.0],\"label\":[\"(0.533333, 0.666667]\"],\"line_alpha\":[1.0],\"line_color\":[\"black\"],\"width\":[0.1333333333333333],\"x\":[\"0.6\"],\"y\":[0.0]}},\"id\":\"b730750e-2c2b-4b4a-b500-d8734e891bdd\",\"type\":\"ColumnDataSource\"},{\"attributes\":{\"fill_alpha\":{\"field\":\"fill_alpha\"},\"fill_color\":{\"field\":\"color\"},\"height\":{\"field\":\"height\",\"units\":\"data\"},\"line_color\":{\"field\":\"line_color\"},\"width\":{\"field\":\"width\",\"units\":\"data\"},\"x\":{\"field\":\"x\"},\"y\":{\"field\":\"y\"}},\"id\":\"62e6b078-e395-4381-9e26-c1183e89d1c5\",\"type\":\"Rect\"},{\"attributes\":{},\"id\":\"0b632fbb-6901-4ebd-aa79-31de8162f3ba\",\"type\":\"BasicTicker\"},{\"attributes\":{\"data_source\":{\"id\":\"403d9c98-0c13-4b38-96fc-3773759351a4\",\"type\":\"ColumnDataSource\"},\"glyph\":{\"id\":\"482e735a-1b38-43f3-ae7f-b5b4382f0437\",\"type\":\"Rect\"},\"hover_glyph\":null,\"nonselection_glyph\":null,\"selection_glyph\":null},\"id\":\"f389e6bf-1ec9-4124-8b96-b53fc959848f\",\"type\":\"GlyphRenderer\"},{\"attributes\":{\"fill_alpha\":{\"field\":\"fill_alpha\"},\"fill_color\":{\"field\":\"color\"},\"height\":{\"field\":\"height\",\"units\":\"data\"},\"line_color\":{\"field\":\"line_color\"},\"width\":{\"field\":\"width\",\"units\":\"data\"},\"x\":{\"field\":\"x\"},\"y\":{\"field\":\"y\"}},\"id\":\"701bcdf5-3fbe-41de-a66a-f9111276fb2a\",\"type\":\"Rect\"},{\"attributes\":{\"data_source\":{\"id\":\"63d23578-5845-46cf-a3f1-70b55ffcb7fd\",\"type\":\"ColumnDataSource\"},\"glyph\":{\"id\":\"733392c8-261e-41a7-bf1e-8f15d4cbcc90\",\"type\":\"Rect\"},\"hover_glyph\":null,\"nonselection_glyph\":null,\"selection_glyph\":null},\"id\":\"9b1a5585-37d8-414c-8f47-352d8509a8ef\",\"type\":\"GlyphRenderer\"},{\"attributes\":{\"fill_alpha\":{\"field\":\"fill_alpha\"},\"fill_color\":{\"field\":\"color\"},\"height\":{\"field\":\"height\",\"units\":\"data\"},\"line_color\":{\"field\":\"line_color\"},\"width\":{\"field\":\"width\",\"units\":\"data\"},\"x\":{\"field\":\"x\"},\"y\":{\"field\":\"y\"}},\"id\":\"e539a011-b15c-454a-80f0-7fc1a67c9282\",\"type\":\"Rect\"},{\"attributes\":{\"callback\":null,\"column_names\":[\"fill_alpha\",\"line_color\",\"y\",\"line_alpha\",\"x\",\"color\",\"height\",\"label\",\"width\"],\"data\":{\"chart_index\":[\"(1.866667, 2.000000]\"],\"color\":[\"LightSlateGray\"],\"fill_alpha\":[0.8],\"height\":[64.0],\"label\":[\"(1.866667, 2.000000]\"],\"line_alpha\":[1.0],\"line_color\":[\"black\"],\"width\":[0.1333333333333333],\"x\":[\"1.9333335\"],\"y\":[32.0]}},\"id\":\"509f8577-aa8a-460f-ae03-8fab2b784308\",\"type\":\"ColumnDataSource\"},{\"attributes\":{},\"id\":\"12ab292e-7cef-4782-b0fd-47faf8ca8bc9\",\"type\":\"BasicTicker\"},{\"attributes\":{\"callback\":null,\"column_names\":[\"fill_alpha\",\"line_color\",\"y\",\"line_alpha\",\"x\",\"color\",\"height\",\"label\",\"width\"],\"data\":{\"chart_index\":[\"(0.800000, 0.933333]\"],\"color\":[\"LightSlateGray\"],\"fill_alpha\":[0.8],\"height\":[0.0],\"label\":[\"(0.800000, 0.933333]\"],\"line_alpha\":[1.0],\"line_color\":[\"black\"],\"width\":[0.1333333333333333],\"x\":[\"0.8666665\"],\"y\":[0.0]}},\"id\":\"9b37a789-45e9-4785-a949-4e31b228df40\",\"type\":\"ColumnDataSource\"},{\"attributes\":{\"callback\":null,\"column_names\":[\"fill_alpha\",\"line_color\",\"y\",\"line_alpha\",\"x\",\"color\",\"height\",\"label\",\"width\"],\"data\":{\"chart_index\":[\"(0.133333, 0.266667]\"],\"color\":[\"LightSlateGray\"],\"fill_alpha\":[0.8],\"height\":[0.0],\"label\":[\"(0.133333, 0.266667]\"],\"line_alpha\":[1.0],\"line_color\":[\"black\"],\"width\":[0.13333333333333333],\"x\":[\"0.2\"],\"y\":[0.0]}},\"id\":\"403d9c98-0c13-4b38-96fc-3773759351a4\",\"type\":\"ColumnDataSource\"},{\"attributes\":{\"callback\":null,\"end\":293.70000000000005},\"id\":\"2b989d8e-be6e-44ee-9643-abdccae84844\",\"type\":\"Range1d\"},{\"attributes\":{\"data_source\":{\"id\":\"740679fe-c2b5-4511-9df1-e118447aeaeb\",\"type\":\"ColumnDataSource\"},\"glyph\":{\"id\":\"62e6b078-e395-4381-9e26-c1183e89d1c5\",\"type\":\"Rect\"},\"hover_glyph\":null,\"nonselection_glyph\":null,\"selection_glyph\":null},\"id\":\"5420d95a-5c6d-4fdd-bf10-d90fb42991e8\",\"type\":\"GlyphRenderer\"},{\"attributes\":{\"plot\":{\"id\":\"0585cdf8-0e7d-4353-a08e-a1b648259498\",\"subtype\":\"Chart\",\"type\":\"Plot\"}},\"id\":\"046fb2c3-bbbd-44dd-9767-5e51c1b53282\",\"type\":\"PanTool\"},{\"attributes\":{\"data_source\":{\"id\":\"6060abfe-5d90-4492-b4e1-770cbd2c6e15\",\"type\":\"ColumnDataSource\"},\"glyph\":{\"id\":\"01a7f43e-4ffd-4459-9e20-3ba0daad2212\",\"type\":\"Rect\"},\"hover_glyph\":null,\"nonselection_glyph\":null,\"selection_glyph\":null},\"id\":\"4c347130-a8eb-44f1-9b8d-bd2d816cb726\",\"type\":\"GlyphRenderer\"},{\"attributes\":{\"data_source\":{\"id\":\"77654e7c-293c-43d6-9a95-0874054b31a8\",\"type\":\"ColumnDataSource\"},\"glyph\":{\"id\":\"8813aae0-c0ad-4736-8e2e-c10170aeefe7\",\"type\":\"Rect\"},\"hover_glyph\":null,\"nonselection_glyph\":null,\"selection_glyph\":null},\"id\":\"4ab692ba-6040-4e95-b1a5-3450167fd5c6\",\"type\":\"GlyphRenderer\"},{\"attributes\":{\"fill_alpha\":{\"field\":\"fill_alpha\"},\"fill_color\":{\"field\":\"color\"},\"height\":{\"field\":\"height\",\"units\":\"data\"},\"line_color\":{\"field\":\"line_color\"},\"width\":{\"field\":\"width\",\"units\":\"data\"},\"x\":{\"field\":\"x\"},\"y\":{\"field\":\"y\"}},\"id\":\"8813aae0-c0ad-4736-8e2e-c10170aeefe7\",\"type\":\"Rect\"},{\"attributes\":{\"plot\":{\"id\":\"0585cdf8-0e7d-4353-a08e-a1b648259498\",\"subtype\":\"Chart\",\"type\":\"Plot\"}},\"id\":\"aa3a9030-e134-475b-8a8b-59cec8475b51\",\"type\":\"HelpTool\"},{\"attributes\":{\"dimension\":1,\"plot\":{\"id\":\"0585cdf8-0e7d-4353-a08e-a1b648259498\",\"subtype\":\"Chart\",\"type\":\"Plot\"},\"ticker\":{\"id\":\"12ab292e-7cef-4782-b0fd-47faf8ca8bc9\",\"type\":\"BasicTicker\"}},\"id\":\"bcf88f62-fd50-431c-a3d7-962b90f0d762\",\"type\":\"Grid\"},{\"attributes\":{\"plot\":null,\"text\":\"Inaccurate_Call_HG002: Consensust GT\"},\"id\":\"b95cc659-92be-4f2b-b92b-073993809c8c\",\"type\":\"Title\"},{\"attributes\":{\"fill_alpha\":{\"field\":\"fill_alpha\"},\"fill_color\":{\"field\":\"color\"},\"height\":{\"field\":\"height\",\"units\":\"data\"},\"line_color\":{\"field\":\"line_color\"},\"width\":{\"field\":\"width\",\"units\":\"data\"},\"x\":{\"field\":\"x\"},\"y\":{\"field\":\"y\"}},\"id\":\"5e487ce3-51c0-4b0a-9d6d-2750d6be69af\",\"type\":\"Rect\"},{\"attributes\":{\"fill_alpha\":{\"field\":\"fill_alpha\"},\"fill_color\":{\"field\":\"color\"},\"height\":{\"field\":\"height\",\"units\":\"data\"},\"line_color\":{\"field\":\"line_color\"},\"width\":{\"field\":\"width\",\"units\":\"data\"},\"x\":{\"field\":\"x\"},\"y\":{\"field\":\"y\"}},\"id\":\"ed74ef10-fb20-4939-80a0-2e91b2c224e3\",\"type\":\"Rect\"},{\"attributes\":{\"fill_alpha\":{\"field\":\"fill_alpha\"},\"fill_color\":{\"field\":\"color\"},\"height\":{\"field\":\"height\",\"units\":\"data\"},\"line_color\":{\"field\":\"line_color\"},\"width\":{\"field\":\"width\",\"units\":\"data\"},\"x\":{\"field\":\"x\"},\"y\":{\"field\":\"y\"}},\"id\":\"716929cc-18ee-48a9-ab12-434a6ceff3e1\",\"type\":\"Rect\"},{\"attributes\":{\"bottom_units\":\"screen\",\"fill_alpha\":{\"value\":0.5},\"fill_color\":{\"value\":\"lightgrey\"},\"left_units\":\"screen\",\"level\":\"overlay\",\"line_alpha\":{\"value\":1.0},\"line_color\":{\"value\":\"black\"},\"line_dash\":[4,4],\"line_width\":{\"value\":2},\"plot\":null,\"render_mode\":\"css\",\"right_units\":\"screen\",\"top_units\":\"screen\"},\"id\":\"cb3cb281-ba9a-44cc-9937-821f36270376\",\"type\":\"BoxAnnotation\"},{\"attributes\":{\"fill_alpha\":{\"field\":\"fill_alpha\"},\"fill_color\":{\"field\":\"color\"},\"height\":{\"field\":\"height\",\"units\":\"data\"},\"line_color\":{\"field\":\"line_color\"},\"width\":{\"field\":\"width\",\"units\":\"data\"},\"x\":{\"field\":\"x\"},\"y\":{\"field\":\"y\"}},\"id\":\"01a7f43e-4ffd-4459-9e20-3ba0daad2212\",\"type\":\"Rect\"}],\"root_ids\":[\"0585cdf8-0e7d-4353-a08e-a1b648259498\"]},\"title\":\"Bokeh Application\",\"version\":\"0.12.4\"}};\n",
       "            var render_items = [{\"docid\":\"6be0dab1-4bf4-4c70-92f4-12d4549962e0\",\"elementid\":\"d6515a45-7173-45da-b212-3208a6f1fac6\",\"modelid\":\"0585cdf8-0e7d-4353-a08e-a1b648259498\"}];\n",
       "            \n",
       "            Bokeh.embed.embed_items(docs_json, render_items);\n",
       "          };\n",
       "          if (document.readyState != \"loading\") fn();\n",
       "          else document.addEventListener(\"DOMContentLoaded\", fn);\n",
       "        })();\n",
       "      },\n",
       "      function(Bokeh) {\n",
       "      }\n",
       "    ];\n",
       "  \n",
       "    function run_inline_js() {\n",
       "      \n",
       "      if ((window.Bokeh !== undefined) || (force === true)) {\n",
       "        for (var i = 0; i < inline_js.length; i++) {\n",
       "          inline_js[i](window.Bokeh);\n",
       "        }if (force === true) {\n",
       "          display_loaded();\n",
       "        }} else if (Date.now() < window._bokeh_timeout) {\n",
       "        setTimeout(run_inline_js, 100);\n",
       "      } else if (!window._bokeh_failed_load) {\n",
       "        console.log(\"Bokeh: BokehJS failed to load within specified timeout.\");\n",
       "        window._bokeh_failed_load = true;\n",
       "      } else if (force !== true) {\n",
       "        var cell = $(document.getElementById(\"d6515a45-7173-45da-b212-3208a6f1fac6\")).parents('.cell').data().cell;\n",
       "        cell.output_area.append_execute_result(NB_LOAD_WARNING)\n",
       "      }\n",
       "  \n",
       "    }\n",
       "  \n",
       "    if (window._bokeh_is_loading === 0) {\n",
       "      console.log(\"Bokeh: BokehJS loaded, going straight to plotting\");\n",
       "      run_inline_js();\n",
       "    } else {\n",
       "      load_libs(js_urls, function() {\n",
       "        console.log(\"Bokeh: BokehJS plotting callback run at\", now());\n",
       "        run_inline_js();\n",
       "      });\n",
       "    }\n",
       "  }(this));\n",
       "</script>"
      ]
     },
     "metadata": {},
     "output_type": "display_data"
    }
   ],
   "source": [
    "p = figure()\n",
    "p = Histogram(inac_call, values='GTcons', title='Inaccurate_Call_HG002: Consensust GT', color='LightSlateGray', bins=15, plot_height=250, xlabel=\"GTcons\", ylabel=\"Frequency\")\n",
    "show(p)"
   ]
  },
  {
   "cell_type": "code",
   "execution_count": null,
   "metadata": {
    "collapsed": true
   },
   "outputs": [],
   "source": []
  }
 ],
 "metadata": {
  "kernelspec": {
   "display_name": "Python [NIHFAES]",
   "language": "python",
   "name": "Python [NIHFAES]"
  },
  "language_info": {
   "codemirror_mode": {
    "name": "ipython",
    "version": 3
   },
   "file_extension": ".py",
   "mimetype": "text/x-python",
   "name": "python",
   "nbconvert_exporter": "python",
   "pygments_lexer": "ipython3",
   "version": "3.5.2"
  }
 },
 "nbformat": 4,
 "nbformat_minor": 2
}
