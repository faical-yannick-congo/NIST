{
 "cells": [
  {
   "cell_type": "markdown",
   "metadata": {},
   "source": [
    "### 10X Deletions\n",
    "\n",
    "* Deletions\n",
    "* HG002 Only\n",
    "* Technology: 10X\n",
    "\n",
    "* The following classifier will train on and predict the following labels:\n",
    "    - GTcons\n",
    "    \n",
    "    \n",
    "* All -1 values have been removed from the train and test set\n",
    "\n",
    "**Notebook Description:**\n",
    "In the [previous notebook](https://nbviewer.jupyter.org/gist/lesleymaraina/a4e5ec212e938b18251dd8bd7ec79f9c), a random forest model was trained on datapoints that only had conensus genotype (GTcons) labels of: homozygous reference(0), heterozygous variant(1), homozygous variant(2). This notebook only contains ~154 GTcons training examples for homozygous variant (2). In the following notebook, all GTcons labels are included in the train/test and prediction steps"
   ]
  },
  {
   "cell_type": "code",
   "execution_count": 1,
   "metadata": {},
   "outputs": [
    {
     "name": "stderr",
     "output_type": "stream",
     "text": [
      "/Users/lmc2/anaconda/envs/NIHFAES/lib/python3.5/site-packages/sklearn/cross_validation.py:44: DeprecationWarning:\n",
      "\n",
      "This module was deprecated in version 0.18 in favor of the model_selection module into which all the refactored classes and functions are moved. Also note that the interface of the new CV iterators are different from that of this module. This module will be removed in 0.20.\n",
      "\n",
      "/Users/lmc2/anaconda/envs/NIHFAES/lib/python3.5/site-packages/sklearn/grid_search.py:43: DeprecationWarning:\n",
      "\n",
      "This module was deprecated in version 0.18 in favor of the model_selection module into which all the refactored classes and functions are moved. This module will be removed in 0.20.\n",
      "\n"
     ]
    }
   ],
   "source": [
    "\"\"\"\n",
    "Imports\n",
    "\"\"\"\n",
    "import pandas as pd\n",
    "import numpy as np\n",
    "from fancyimpute import KNN\n",
    "import matplotlib.pyplot as plt\n",
    "from sklearn import preprocessing\n",
    "from sklearn.preprocessing import LabelEncoder\n",
    "from sklearn.model_selection import LeaveOneOut\n",
    "from scipy.stats import ks_2samp\n",
    "from scipy import stats\n",
    "from matplotlib import pyplot\n",
    "from sklearn import preprocessing\n",
    "from scipy.linalg import svd\n",
    "from sklearn.decomposition import TruncatedSVD\n",
    "from sklearn.ensemble import RandomForestClassifier\n",
    "from sklearn.metrics import roc_auc_score\n",
    "import seaborn as sns\n",
    "from sklearn.manifold import TSNE\n",
    "from sklearn.decomposition import PCA as sklearnPCA\n",
    "import plotly.plotly as py\n",
    "from sklearn.cluster import DBSCAN\n",
    "from sklearn.model_selection import train_test_split\n",
    "from sklearn import metrics\n",
    "from sklearn.grid_search import GridSearchCV\n",
    "from sklearn.metrics import f1_score, precision_score\n",
    "from sklearn import preprocessing\n",
    "from ggplot import *\n",
    "from bokeh.charts import TimeSeries\n",
    "from bokeh.models import HoverTool\n",
    "from bokeh.plotting import show\n",
    "from bokeh.charts import Scatter, Histogram, output_file, show\n",
    "from bokeh.plotting import figure, show, output_file, ColumnDataSource\n",
    "from bokeh.io import output_notebook\n",
    "from bokeh.charts import Bar, output_file, show\n",
    "import bokeh.palettes as palettes\n",
    "from bokeh.models import HoverTool, BoxSelectTool, Legend\n",
    "from sklearn import (manifold, datasets, decomposition, ensemble,\n",
    "                     discriminant_analysis, random_projection)"
   ]
  },
  {
   "cell_type": "markdown",
   "metadata": {},
   "source": [
    "***\n",
    "Import Data\n",
    "***"
   ]
  },
  {
   "cell_type": "code",
   "execution_count": 54,
   "metadata": {},
   "outputs": [
    {
     "data": {
      "text/html": [
       "<div>\n",
       "<table border=\"1\" class=\"dataframe\">\n",
       "  <thead>\n",
       "    <tr style=\"text-align: right;\">\n",
       "      <th></th>\n",
       "      <th>chrom</th>\n",
       "      <th>id</th>\n",
       "      <th>sample</th>\n",
       "      <th>start</th>\n",
       "      <th>end</th>\n",
       "      <th>type</th>\n",
       "      <th>SVtype</th>\n",
       "      <th>Size</th>\n",
       "      <th>refN_cnt</th>\n",
       "      <th>refN_pct</th>\n",
       "      <th>...</th>\n",
       "      <th>TenX.HP2_amb_reason_orientation_orientation</th>\n",
       "      <th>TenX.HP2_amb_reason_same_scores</th>\n",
       "      <th>TenX.HP2_ref_alnScore_mean</th>\n",
       "      <th>TenX.HP2_ref_alnScore_std</th>\n",
       "      <th>TenX.HP2_ref_count</th>\n",
       "      <th>TenX.HP2_ref_insertSize_mean</th>\n",
       "      <th>TenX.HP2_ref_insertSize_std</th>\n",
       "      <th>TenX.HP2_ref_reason_alignmentScore</th>\n",
       "      <th>TenX.HP2_ref_reason_insertSizeScore</th>\n",
       "      <th>TenX.HP2_ref_reason_orientation</th>\n",
       "    </tr>\n",
       "  </thead>\n",
       "  <tbody>\n",
       "    <tr>\n",
       "      <th>0</th>\n",
       "      <td>1</td>\n",
       "      <td>39</td>\n",
       "      <td>HG002</td>\n",
       "      <td>109690878</td>\n",
       "      <td>109690918</td>\n",
       "      <td>Insertion</td>\n",
       "      <td>Deletion</td>\n",
       "      <td>-39</td>\n",
       "      <td>0</td>\n",
       "      <td>0</td>\n",
       "      <td>...</td>\n",
       "      <td>3.0</td>\n",
       "      <td>5.0</td>\n",
       "      <td>527.0</td>\n",
       "      <td>0.0</td>\n",
       "      <td>1.0</td>\n",
       "      <td>334.0</td>\n",
       "      <td>0.0</td>\n",
       "      <td>1.0</td>\n",
       "      <td>NaN</td>\n",
       "      <td>0.0</td>\n",
       "    </tr>\n",
       "  </tbody>\n",
       "</table>\n",
       "<p>1 rows × 84 columns</p>\n",
       "</div>"
      ],
      "text/plain": [
       "  chrom  id sample      start        end       type    SVtype  Size  refN_cnt  \\\n",
       "0     1  39  HG002  109690878  109690918  Insertion  Deletion   -39         0   \n",
       "\n",
       "   refN_pct               ...                 \\\n",
       "0         0               ...                  \n",
       "\n",
       "   TenX.HP2_amb_reason_orientation_orientation  \\\n",
       "0                                          3.0   \n",
       "\n",
       "   TenX.HP2_amb_reason_same_scores  TenX.HP2_ref_alnScore_mean  \\\n",
       "0                              5.0                       527.0   \n",
       "\n",
       "   TenX.HP2_ref_alnScore_std  TenX.HP2_ref_count  \\\n",
       "0                        0.0                 1.0   \n",
       "\n",
       "   TenX.HP2_ref_insertSize_mean  TenX.HP2_ref_insertSize_std  \\\n",
       "0                         334.0                          0.0   \n",
       "\n",
       "   TenX.HP2_ref_reason_alignmentScore  TenX.HP2_ref_reason_insertSizeScore  \\\n",
       "0                                 1.0                                  NaN   \n",
       "\n",
       "   TenX.HP2_ref_reason_orientation  \n",
       "0                              0.0  \n",
       "\n",
       "[1 rows x 84 columns]"
      ]
     },
     "execution_count": 54,
     "metadata": {},
     "output_type": "execute_result"
    }
   ],
   "source": [
    "# Import Training Data\n",
    "# SVanalyzer generated training data\n",
    "df_train = pd.read_csv('/Volumes/lesleydata/SVanalyzer_ML/Sept122017/Step3_ML/data/train/tech_sep/DEL/TenX_HG002_DEL.csv')\n",
    "df_train_2 = pd.read_csv('/Volumes/lesleydata/SVanalyzer_ML/Sept122017/Step3_ML/data/train/tech_sep/DEL/TenX_HG002_DEL.csv')\n",
    "df_train.rename(columns={'size': 'Size'}, inplace=True)\n",
    "df_train.head(1)"
   ]
  },
  {
   "cell_type": "code",
   "execution_count": 55,
   "metadata": {
    "collapsed": true
   },
   "outputs": [],
   "source": [
    "train_set = pd.DataFrame()\n",
    "train_set = df_train_2"
   ]
  },
  {
   "cell_type": "code",
   "execution_count": 56,
   "metadata": {
    "collapsed": true
   },
   "outputs": [],
   "source": [
    "train_set['GTcons'].replace(0, 'Homozygous_Reference', inplace=True)\n",
    "train_set['GTcons'].replace(1, 'Heterozygous_Variant', inplace=True)\n",
    "train_set['GTcons'].replace(2, 'Homozygous_Variant', inplace=True)\n",
    "train_set['GTcons'].replace(-1, 'Unknown', inplace=True)"
   ]
  },
  {
   "cell_type": "code",
   "execution_count": 57,
   "metadata": {},
   "outputs": [
    {
     "data": {
      "text/plain": [
       "Homozygous_Reference    1176\n",
       "Homozygous_Variant       154\n",
       "Heterozygous_Variant     642\n",
       "Unknown                  368\n",
       "dtype: int64"
      ]
     },
     "execution_count": 57,
     "metadata": {},
     "output_type": "execute_result"
    }
   ],
   "source": [
    "pd.value_counts(train_set['GTcons'].values, sort=False)"
   ]
  },
  {
   "cell_type": "markdown",
   "metadata": {},
   "source": [
    "**Note:**\n",
    "    The original training set has 154 homozygous variant examples"
   ]
  },
  {
   "cell_type": "code",
   "execution_count": 58,
   "metadata": {
    "collapsed": true
   },
   "outputs": [],
   "source": [
    "# Train the model only on the rows that have an Exact Match or Homozygous Reference Label\n",
    "# This step removes any row that has in 'Inaccurate Call' label\n",
    "df_train = df_train[(df_train['Label'] == 1) | (df_train['Label'] == 0)]\n",
    "df_train_2 = df_train_2[(df_train_2['Label'] == 1) | (df_train_2['Label'] == 0)]"
   ]
  },
  {
   "cell_type": "code",
   "execution_count": 59,
   "metadata": {},
   "outputs": [
    {
     "data": {
      "text/plain": [
       "0    709\n",
       "1    641\n",
       "dtype: int64"
      ]
     },
     "execution_count": 59,
     "metadata": {},
     "output_type": "execute_result"
    }
   ],
   "source": [
    "pd.value_counts(df_train['Label'].values, sort=False)"
   ]
  },
  {
   "cell_type": "code",
   "execution_count": 60,
   "metadata": {},
   "outputs": [
    {
     "data": {
      "text/plain": [
       "0    709\n",
       "1    641\n",
       "dtype: int64"
      ]
     },
     "execution_count": 60,
     "metadata": {},
     "output_type": "execute_result"
    }
   ],
   "source": [
    "#(Copy Training Set) Train only on the rows that have an Exact Match or Homozygous Reference Label\n",
    "# The following lists the count of EM, HR, Inaccurate Match Labels\n",
    "pd.value_counts(df_train_2['Label'].values, sort=False)"
   ]
  },
  {
   "cell_type": "markdown",
   "metadata": {},
   "source": [
    "<a id='hom_ref'></a>"
   ]
  },
  {
   "cell_type": "code",
   "execution_count": 61,
   "metadata": {},
   "outputs": [
    {
     "data": {
      "text/plain": [
       "Homozygous_Reference    669\n",
       "Homozygous_Variant      124\n",
       "Heterozygous_Variant    427\n",
       "Unknown                 130\n",
       "dtype: int64"
      ]
     },
     "execution_count": 61,
     "metadata": {},
     "output_type": "execute_result"
    }
   ],
   "source": [
    "# List the consensus GT count (generated from R script) within the training set. Reminder! This dataset only includes svanalyzer Exact Match and Homozygous Reference datapoints only\n",
    "pd.value_counts(df_train_2['GTcons'].values, sort=False)"
   ]
  },
  {
   "cell_type": "code",
   "execution_count": 62,
   "metadata": {},
   "outputs": [
    {
     "data": {
      "text/html": [
       "<div>\n",
       "<table border=\"1\" class=\"dataframe\">\n",
       "  <thead>\n",
       "    <tr style=\"text-align: right;\">\n",
       "      <th></th>\n",
       "      <th>chrom</th>\n",
       "      <th>id</th>\n",
       "      <th>sample</th>\n",
       "      <th>start</th>\n",
       "      <th>end</th>\n",
       "      <th>type</th>\n",
       "      <th>SVtype</th>\n",
       "      <th>Size</th>\n",
       "      <th>refN_cnt</th>\n",
       "      <th>refN_pct</th>\n",
       "      <th>...</th>\n",
       "      <th>TenX.HP2_amb_reason_orientation_orientation</th>\n",
       "      <th>TenX.HP2_amb_reason_same_scores</th>\n",
       "      <th>TenX.HP2_ref_alnScore_mean</th>\n",
       "      <th>TenX.HP2_ref_alnScore_std</th>\n",
       "      <th>TenX.HP2_ref_count</th>\n",
       "      <th>TenX.HP2_ref_insertSize_mean</th>\n",
       "      <th>TenX.HP2_ref_insertSize_std</th>\n",
       "      <th>TenX.HP2_ref_reason_alignmentScore</th>\n",
       "      <th>TenX.HP2_ref_reason_insertSizeScore</th>\n",
       "      <th>TenX.HP2_ref_reason_orientation</th>\n",
       "    </tr>\n",
       "  </thead>\n",
       "  <tbody>\n",
       "    <tr>\n",
       "      <th>0</th>\n",
       "      <td>5</td>\n",
       "      <td>1</td>\n",
       "      <td>HG002</td>\n",
       "      <td>15411043</td>\n",
       "      <td>15411104</td>\n",
       "      <td>Insertion</td>\n",
       "      <td>Deletion</td>\n",
       "      <td>-60</td>\n",
       "      <td>0</td>\n",
       "      <td>0</td>\n",
       "      <td>...</td>\n",
       "      <td>5.0</td>\n",
       "      <td>1.0</td>\n",
       "      <td>539.5</td>\n",
       "      <td>16.039015</td>\n",
       "      <td>4.0</td>\n",
       "      <td>392.75</td>\n",
       "      <td>176.628671</td>\n",
       "      <td>4.0</td>\n",
       "      <td>0.0</td>\n",
       "      <td>0.0</td>\n",
       "    </tr>\n",
       "  </tbody>\n",
       "</table>\n",
       "<p>1 rows × 82 columns</p>\n",
       "</div>"
      ],
      "text/plain": [
       "  chrom  id sample     start       end       type    SVtype  Size  refN_cnt  \\\n",
       "0     5   1  HG002  15411043  15411104  Insertion  Deletion   -60         0   \n",
       "\n",
       "   refN_pct               ...                 \\\n",
       "0         0               ...                  \n",
       "\n",
       "   TenX.HP2_amb_reason_orientation_orientation  \\\n",
       "0                                          5.0   \n",
       "\n",
       "   TenX.HP2_amb_reason_same_scores  TenX.HP2_ref_alnScore_mean  \\\n",
       "0                              1.0                       539.5   \n",
       "\n",
       "   TenX.HP2_ref_alnScore_std  TenX.HP2_ref_count  \\\n",
       "0                  16.039015                 4.0   \n",
       "\n",
       "   TenX.HP2_ref_insertSize_mean  TenX.HP2_ref_insertSize_std  \\\n",
       "0                        392.75                   176.628671   \n",
       "\n",
       "   TenX.HP2_ref_reason_alignmentScore  TenX.HP2_ref_reason_insertSizeScore  \\\n",
       "0                                 4.0                                  0.0   \n",
       "\n",
       "   TenX.HP2_ref_reason_orientation  \n",
       "0                              0.0  \n",
       "\n",
       "[1 rows x 82 columns]"
      ]
     },
     "execution_count": 62,
     "metadata": {},
     "output_type": "execute_result"
    }
   ],
   "source": [
    "# Import Test Data\n",
    "# SVanalyzer generated training data\n",
    "df_test = pd.read_csv('/Volumes/lesleydata/SVanalyzer_ML/Sept122017/Step3_ML/data/test/tech_sep/DEL/TenX_HG002_DEL.csv')\n",
    "df_test_2 = pd.read_csv('/Volumes/lesleydata/SVanalyzer_ML/Sept122017/Step3_ML/data/test/tech_sep/DEL/TenX_HG002_DEL.csv')\n",
    "df_test.rename(columns={'size': 'Size'}, inplace=True)\n",
    "df_test.head(1)"
   ]
  },
  {
   "cell_type": "code",
   "execution_count": 63,
   "metadata": {},
   "outputs": [
    {
     "data": {
      "text/plain": [
       "{'Label', 'TenX.HP1_amb_reason_alignmentScore_insertSizeScore'}"
      ]
     },
     "execution_count": 63,
     "metadata": {},
     "output_type": "execute_result"
    }
   ],
   "source": [
    "# Store header names in lists and find names that are NOT contained in BOTH lists\n",
    "c = list(df_train.columns.values)\n",
    "d = list(df_test.columns.values)\n",
    "set(c) - set(d)"
   ]
  },
  {
   "cell_type": "code",
   "execution_count": 64,
   "metadata": {
    "collapsed": true
   },
   "outputs": [],
   "source": [
    "### Drop columns that are not shared by both dataframes\n",
    "df_train.drop(['TenX.HP1_amb_reason_alignmentScore_insertSizeScore'], axis=1, inplace = True)\n",
    "df_train.drop(['Label'], axis=1, inplace = True)\n",
    "df_train.drop(['GTconflict'], axis=1, inplace = True)\n",
    "df_train.drop(['GTsupp'], axis=1, inplace = True)\n",
    "df_train.drop(['sample'], axis=1, inplace = True)\n",
    "df_train.drop(['SVtype'], axis=1, inplace = True)\n",
    "df_train.drop(['type'], axis=1, inplace = True)\n",
    "df_train.drop(['id'], axis=1, inplace = True)"
   ]
  },
  {
   "cell_type": "code",
   "execution_count": 65,
   "metadata": {},
   "outputs": [
    {
     "data": {
      "text/html": [
       "<div>\n",
       "<table border=\"1\" class=\"dataframe\">\n",
       "  <thead>\n",
       "    <tr style=\"text-align: right;\">\n",
       "      <th></th>\n",
       "      <th>chrom</th>\n",
       "      <th>start</th>\n",
       "      <th>end</th>\n",
       "      <th>Size</th>\n",
       "      <th>refN_cnt</th>\n",
       "      <th>refN_pct</th>\n",
       "      <th>segdup_cnt</th>\n",
       "      <th>segdup_pct</th>\n",
       "      <th>tandemrep_cnt</th>\n",
       "      <th>tandemrep_pct</th>\n",
       "      <th>...</th>\n",
       "      <th>TenX.HP2_amb_reason_orientation_orientation</th>\n",
       "      <th>TenX.HP2_amb_reason_same_scores</th>\n",
       "      <th>TenX.HP2_ref_alnScore_mean</th>\n",
       "      <th>TenX.HP2_ref_alnScore_std</th>\n",
       "      <th>TenX.HP2_ref_count</th>\n",
       "      <th>TenX.HP2_ref_insertSize_mean</th>\n",
       "      <th>TenX.HP2_ref_insertSize_std</th>\n",
       "      <th>TenX.HP2_ref_reason_alignmentScore</th>\n",
       "      <th>TenX.HP2_ref_reason_insertSizeScore</th>\n",
       "      <th>TenX.HP2_ref_reason_orientation</th>\n",
       "    </tr>\n",
       "  </thead>\n",
       "  <tbody>\n",
       "    <tr>\n",
       "      <th>0</th>\n",
       "      <td>1</td>\n",
       "      <td>109690878</td>\n",
       "      <td>109690918</td>\n",
       "      <td>-39</td>\n",
       "      <td>0</td>\n",
       "      <td>0</td>\n",
       "      <td>0</td>\n",
       "      <td>0.0</td>\n",
       "      <td>1</td>\n",
       "      <td>0.4</td>\n",
       "      <td>...</td>\n",
       "      <td>3.0</td>\n",
       "      <td>5.0</td>\n",
       "      <td>527.0</td>\n",
       "      <td>0.0</td>\n",
       "      <td>1.0</td>\n",
       "      <td>334.0</td>\n",
       "      <td>0.0</td>\n",
       "      <td>1.0</td>\n",
       "      <td>NaN</td>\n",
       "      <td>0.0</td>\n",
       "    </tr>\n",
       "  </tbody>\n",
       "</table>\n",
       "<p>1 rows × 76 columns</p>\n",
       "</div>"
      ],
      "text/plain": [
       "  chrom      start        end  Size  refN_cnt  refN_pct  segdup_cnt  \\\n",
       "0     1  109690878  109690918   -39         0         0           0   \n",
       "\n",
       "   segdup_pct  tandemrep_cnt  tandemrep_pct               ...                 \\\n",
       "0         0.0              1            0.4               ...                  \n",
       "\n",
       "   TenX.HP2_amb_reason_orientation_orientation  \\\n",
       "0                                          3.0   \n",
       "\n",
       "   TenX.HP2_amb_reason_same_scores  TenX.HP2_ref_alnScore_mean  \\\n",
       "0                              5.0                       527.0   \n",
       "\n",
       "   TenX.HP2_ref_alnScore_std  TenX.HP2_ref_count  \\\n",
       "0                        0.0                 1.0   \n",
       "\n",
       "   TenX.HP2_ref_insertSize_mean  TenX.HP2_ref_insertSize_std  \\\n",
       "0                         334.0                          0.0   \n",
       "\n",
       "   TenX.HP2_ref_reason_alignmentScore  TenX.HP2_ref_reason_insertSizeScore  \\\n",
       "0                                 1.0                                  NaN   \n",
       "\n",
       "   TenX.HP2_ref_reason_orientation  \n",
       "0                              0.0  \n",
       "\n",
       "[1 rows x 76 columns]"
      ]
     },
     "execution_count": 65,
     "metadata": {},
     "output_type": "execute_result"
    }
   ],
   "source": [
    "df_train.head(1)"
   ]
  },
  {
   "cell_type": "code",
   "execution_count": 66,
   "metadata": {
    "collapsed": true
   },
   "outputs": [],
   "source": [
    "df_train['chrom'].replace('X', 23, inplace=True)\n",
    "df_train['chrom'].replace('Y', 24, inplace=True)\n",
    "df_test['chrom'].replace('X', 23, inplace=True)\n",
    "df_test['chrom'].replace('Y', 24, inplace=True)"
   ]
  },
  {
   "cell_type": "code",
   "execution_count": 67,
   "metadata": {},
   "outputs": [
    {
     "data": {
      "text/plain": [
       "{'GTconflict', 'GTsupp', 'SVtype', 'id', 'sample', 'type'}"
      ]
     },
     "execution_count": 67,
     "metadata": {},
     "output_type": "execute_result"
    }
   ],
   "source": [
    "# Store header names in lists and find names that are NOT contained in BOTH lists\n",
    "c = list(df_train.columns.values)\n",
    "d = list(df_test.columns.values)\n",
    "set(d) - set(c)"
   ]
  },
  {
   "cell_type": "code",
   "execution_count": 68,
   "metadata": {
    "collapsed": true
   },
   "outputs": [],
   "source": [
    "### Drop columns that are not shared by both dataframes\n",
    "df_test.drop(['GTcons'], axis=1, inplace = True)\n",
    "df_test.drop(['GTconflict'], axis=1, inplace = True)\n",
    "df_test.drop(['GTsupp'], axis=1, inplace = True)\n",
    "df_test.drop(['sample'], axis=1, inplace = True)\n",
    "df_test.drop(['SVtype'], axis=1, inplace = True)\n",
    "df_test.drop(['type'], axis=1, inplace = True)\n",
    "df_test.drop(['id'], axis=1, inplace = True)"
   ]
  },
  {
   "cell_type": "markdown",
   "metadata": {},
   "source": [
    "***\n",
    "Impute missing values using KNN\n",
    "***"
   ]
  },
  {
   "cell_type": "code",
   "execution_count": 69,
   "metadata": {},
   "outputs": [
    {
     "data": {
      "text/html": [
       "<div>\n",
       "<table border=\"1\" class=\"dataframe\">\n",
       "  <thead>\n",
       "    <tr style=\"text-align: right;\">\n",
       "      <th></th>\n",
       "      <th>chrom</th>\n",
       "      <th>start</th>\n",
       "      <th>end</th>\n",
       "      <th>Size</th>\n",
       "      <th>refN_cnt</th>\n",
       "      <th>refN_pct</th>\n",
       "      <th>segdup_cnt</th>\n",
       "      <th>segdup_pct</th>\n",
       "      <th>tandemrep_cnt</th>\n",
       "      <th>tandemrep_pct</th>\n",
       "      <th>...</th>\n",
       "      <th>TenX.HP2_amb_reason_orientation_orientation</th>\n",
       "      <th>TenX.HP2_amb_reason_same_scores</th>\n",
       "      <th>TenX.HP2_ref_alnScore_mean</th>\n",
       "      <th>TenX.HP2_ref_alnScore_std</th>\n",
       "      <th>TenX.HP2_ref_count</th>\n",
       "      <th>TenX.HP2_ref_insertSize_mean</th>\n",
       "      <th>TenX.HP2_ref_insertSize_std</th>\n",
       "      <th>TenX.HP2_ref_reason_alignmentScore</th>\n",
       "      <th>TenX.HP2_ref_reason_insertSizeScore</th>\n",
       "      <th>TenX.HP2_ref_reason_orientation</th>\n",
       "    </tr>\n",
       "  </thead>\n",
       "  <tbody>\n",
       "    <tr>\n",
       "      <th>0</th>\n",
       "      <td>1</td>\n",
       "      <td>109690878</td>\n",
       "      <td>109690918</td>\n",
       "      <td>-39</td>\n",
       "      <td>0</td>\n",
       "      <td>0</td>\n",
       "      <td>0</td>\n",
       "      <td>0.000000</td>\n",
       "      <td>1</td>\n",
       "      <td>0.4</td>\n",
       "      <td>...</td>\n",
       "      <td>3.0</td>\n",
       "      <td>5.0</td>\n",
       "      <td>527.00000</td>\n",
       "      <td>0.000000</td>\n",
       "      <td>1.0</td>\n",
       "      <td>334.0000</td>\n",
       "      <td>0.000000</td>\n",
       "      <td>1.0</td>\n",
       "      <td>NaN</td>\n",
       "      <td>0.0</td>\n",
       "    </tr>\n",
       "    <tr>\n",
       "      <th>1</th>\n",
       "      <td>1</td>\n",
       "      <td>1869280</td>\n",
       "      <td>1869312</td>\n",
       "      <td>-31</td>\n",
       "      <td>0</td>\n",
       "      <td>0</td>\n",
       "      <td>0</td>\n",
       "      <td>0.000000</td>\n",
       "      <td>0</td>\n",
       "      <td>0.0</td>\n",
       "      <td>...</td>\n",
       "      <td>7.0</td>\n",
       "      <td>5.0</td>\n",
       "      <td>539.59375</td>\n",
       "      <td>18.205184</td>\n",
       "      <td>32.0</td>\n",
       "      <td>353.8125</td>\n",
       "      <td>88.086051</td>\n",
       "      <td>32.0</td>\n",
       "      <td>NaN</td>\n",
       "      <td>0.0</td>\n",
       "    </tr>\n",
       "    <tr>\n",
       "      <th>2</th>\n",
       "      <td>1</td>\n",
       "      <td>2891239</td>\n",
       "      <td>2891284</td>\n",
       "      <td>-44</td>\n",
       "      <td>0</td>\n",
       "      <td>0</td>\n",
       "      <td>1</td>\n",
       "      <td>0.666667</td>\n",
       "      <td>1</td>\n",
       "      <td>1.0</td>\n",
       "      <td>...</td>\n",
       "      <td>1.0</td>\n",
       "      <td>1.0</td>\n",
       "      <td>0.00000</td>\n",
       "      <td>0.000000</td>\n",
       "      <td>0.0</td>\n",
       "      <td>0.0000</td>\n",
       "      <td>0.000000</td>\n",
       "      <td>0.0</td>\n",
       "      <td>NaN</td>\n",
       "      <td>0.0</td>\n",
       "    </tr>\n",
       "  </tbody>\n",
       "</table>\n",
       "<p>3 rows × 76 columns</p>\n",
       "</div>"
      ],
      "text/plain": [
       "  chrom      start        end  Size  refN_cnt  refN_pct  segdup_cnt  \\\n",
       "0     1  109690878  109690918   -39         0         0           0   \n",
       "1     1    1869280    1869312   -31         0         0           0   \n",
       "2     1    2891239    2891284   -44         0         0           1   \n",
       "\n",
       "   segdup_pct  tandemrep_cnt  tandemrep_pct               ...                 \\\n",
       "0    0.000000              1            0.4               ...                  \n",
       "1    0.000000              0            0.0               ...                  \n",
       "2    0.666667              1            1.0               ...                  \n",
       "\n",
       "   TenX.HP2_amb_reason_orientation_orientation  \\\n",
       "0                                          3.0   \n",
       "1                                          7.0   \n",
       "2                                          1.0   \n",
       "\n",
       "   TenX.HP2_amb_reason_same_scores  TenX.HP2_ref_alnScore_mean  \\\n",
       "0                              5.0                   527.00000   \n",
       "1                              5.0                   539.59375   \n",
       "2                              1.0                     0.00000   \n",
       "\n",
       "   TenX.HP2_ref_alnScore_std  TenX.HP2_ref_count  \\\n",
       "0                   0.000000                 1.0   \n",
       "1                  18.205184                32.0   \n",
       "2                   0.000000                 0.0   \n",
       "\n",
       "   TenX.HP2_ref_insertSize_mean  TenX.HP2_ref_insertSize_std  \\\n",
       "0                      334.0000                     0.000000   \n",
       "1                      353.8125                    88.086051   \n",
       "2                        0.0000                     0.000000   \n",
       "\n",
       "   TenX.HP2_ref_reason_alignmentScore  TenX.HP2_ref_reason_insertSizeScore  \\\n",
       "0                                 1.0                                  NaN   \n",
       "1                                32.0                                  NaN   \n",
       "2                                 0.0                                  NaN   \n",
       "\n",
       "   TenX.HP2_ref_reason_orientation  \n",
       "0                              0.0  \n",
       "1                              0.0  \n",
       "2                              0.0  \n",
       "\n",
       "[3 rows x 76 columns]"
      ]
     },
     "execution_count": 69,
     "metadata": {},
     "output_type": "execute_result"
    }
   ],
   "source": [
    "# Store training data in a new variable which will be converted to a matrix\n",
    "X = df_train\n",
    "X.head(3)"
   ]
  },
  {
   "cell_type": "code",
   "execution_count": 70,
   "metadata": {},
   "outputs": [
    {
     "name": "stdout",
     "output_type": "stream",
     "text": [
      "Imputing row 1/1350 with 8 missing, elapsed time: 0.864\n",
      "Imputing row 101/1350 with 8 missing, elapsed time: 0.880\n",
      "Imputing row 201/1350 with 8 missing, elapsed time: 0.896\n",
      "Imputing row 301/1350 with 8 missing, elapsed time: 0.910\n",
      "Imputing row 401/1350 with 8 missing, elapsed time: 0.924\n",
      "Imputing row 501/1350 with 8 missing, elapsed time: 0.941\n",
      "Imputing row 601/1350 with 8 missing, elapsed time: 0.955\n",
      "Imputing row 701/1350 with 8 missing, elapsed time: 0.993\n",
      "Imputing row 801/1350 with 8 missing, elapsed time: 1.012\n",
      "Imputing row 901/1350 with 8 missing, elapsed time: 1.027\n",
      "Imputing row 1001/1350 with 8 missing, elapsed time: 1.044\n",
      "Imputing row 1101/1350 with 8 missing, elapsed time: 1.072\n",
      "Imputing row 1201/1350 with 8 missing, elapsed time: 1.087\n",
      "Imputing row 1301/1350 with 8 missing, elapsed time: 1.105\n",
      "[KNN] Warning: 10800/102600 still missing after imputation, replacing with 0\n"
     ]
    }
   ],
   "source": [
    "# Convert dataframe to matrix\n",
    "X=X.as_matrix()\n",
    "\n",
    "#Imput missing values from three closest observations\n",
    "X_imputed=KNN(k=3).complete(X)\n",
    "X=pd.DataFrame(X_imputed)"
   ]
  },
  {
   "cell_type": "code",
   "execution_count": 71,
   "metadata": {},
   "outputs": [
    {
     "data": {
      "text/html": [
       "<div>\n",
       "<table border=\"1\" class=\"dataframe\">\n",
       "  <thead>\n",
       "    <tr style=\"text-align: right;\">\n",
       "      <th></th>\n",
       "      <th>chrom</th>\n",
       "      <th>start</th>\n",
       "      <th>end</th>\n",
       "      <th>Size</th>\n",
       "      <th>refN_cnt</th>\n",
       "      <th>refN_pct</th>\n",
       "      <th>segdup_cnt</th>\n",
       "      <th>segdup_pct</th>\n",
       "      <th>tandemrep_cnt</th>\n",
       "      <th>tandemrep_pct</th>\n",
       "      <th>...</th>\n",
       "      <th>TenX.HP2_amb_reason_orientation_orientation</th>\n",
       "      <th>TenX.HP2_amb_reason_same_scores</th>\n",
       "      <th>TenX.HP2_ref_alnScore_mean</th>\n",
       "      <th>TenX.HP2_ref_alnScore_std</th>\n",
       "      <th>TenX.HP2_ref_count</th>\n",
       "      <th>TenX.HP2_ref_insertSize_mean</th>\n",
       "      <th>TenX.HP2_ref_insertSize_std</th>\n",
       "      <th>TenX.HP2_ref_reason_alignmentScore</th>\n",
       "      <th>TenX.HP2_ref_reason_insertSizeScore</th>\n",
       "      <th>TenX.HP2_ref_reason_orientation</th>\n",
       "    </tr>\n",
       "  </thead>\n",
       "  <tbody>\n",
       "    <tr>\n",
       "      <th>0</th>\n",
       "      <td>1.0</td>\n",
       "      <td>109690878.0</td>\n",
       "      <td>109690918.0</td>\n",
       "      <td>-39.0</td>\n",
       "      <td>0.0</td>\n",
       "      <td>0.0</td>\n",
       "      <td>0.0</td>\n",
       "      <td>0.000000</td>\n",
       "      <td>1.0</td>\n",
       "      <td>0.4</td>\n",
       "      <td>...</td>\n",
       "      <td>3.0</td>\n",
       "      <td>5.0</td>\n",
       "      <td>527.00000</td>\n",
       "      <td>0.000000</td>\n",
       "      <td>1.0</td>\n",
       "      <td>334.0000</td>\n",
       "      <td>0.000000</td>\n",
       "      <td>1.0</td>\n",
       "      <td>0.0</td>\n",
       "      <td>0.0</td>\n",
       "    </tr>\n",
       "    <tr>\n",
       "      <th>1</th>\n",
       "      <td>1.0</td>\n",
       "      <td>1869280.0</td>\n",
       "      <td>1869312.0</td>\n",
       "      <td>-31.0</td>\n",
       "      <td>0.0</td>\n",
       "      <td>0.0</td>\n",
       "      <td>0.0</td>\n",
       "      <td>0.000000</td>\n",
       "      <td>0.0</td>\n",
       "      <td>0.0</td>\n",
       "      <td>...</td>\n",
       "      <td>7.0</td>\n",
       "      <td>5.0</td>\n",
       "      <td>539.59375</td>\n",
       "      <td>18.205184</td>\n",
       "      <td>32.0</td>\n",
       "      <td>353.8125</td>\n",
       "      <td>88.086051</td>\n",
       "      <td>32.0</td>\n",
       "      <td>0.0</td>\n",
       "      <td>0.0</td>\n",
       "    </tr>\n",
       "    <tr>\n",
       "      <th>2</th>\n",
       "      <td>1.0</td>\n",
       "      <td>2891239.0</td>\n",
       "      <td>2891284.0</td>\n",
       "      <td>-44.0</td>\n",
       "      <td>0.0</td>\n",
       "      <td>0.0</td>\n",
       "      <td>1.0</td>\n",
       "      <td>0.666667</td>\n",
       "      <td>1.0</td>\n",
       "      <td>1.0</td>\n",
       "      <td>...</td>\n",
       "      <td>1.0</td>\n",
       "      <td>1.0</td>\n",
       "      <td>0.00000</td>\n",
       "      <td>0.000000</td>\n",
       "      <td>0.0</td>\n",
       "      <td>0.0000</td>\n",
       "      <td>0.000000</td>\n",
       "      <td>0.0</td>\n",
       "      <td>0.0</td>\n",
       "      <td>0.0</td>\n",
       "    </tr>\n",
       "  </tbody>\n",
       "</table>\n",
       "<p>3 rows × 76 columns</p>\n",
       "</div>"
      ],
      "text/plain": [
       "   chrom        start          end  Size  refN_cnt  refN_pct  segdup_cnt  \\\n",
       "0    1.0  109690878.0  109690918.0 -39.0       0.0       0.0         0.0   \n",
       "1    1.0    1869280.0    1869312.0 -31.0       0.0       0.0         0.0   \n",
       "2    1.0    2891239.0    2891284.0 -44.0       0.0       0.0         1.0   \n",
       "\n",
       "   segdup_pct  tandemrep_cnt  tandemrep_pct               ...                 \\\n",
       "0    0.000000            1.0            0.4               ...                  \n",
       "1    0.000000            0.0            0.0               ...                  \n",
       "2    0.666667            1.0            1.0               ...                  \n",
       "\n",
       "   TenX.HP2_amb_reason_orientation_orientation  \\\n",
       "0                                          3.0   \n",
       "1                                          7.0   \n",
       "2                                          1.0   \n",
       "\n",
       "   TenX.HP2_amb_reason_same_scores  TenX.HP2_ref_alnScore_mean  \\\n",
       "0                              5.0                   527.00000   \n",
       "1                              5.0                   539.59375   \n",
       "2                              1.0                     0.00000   \n",
       "\n",
       "   TenX.HP2_ref_alnScore_std  TenX.HP2_ref_count  \\\n",
       "0                   0.000000                 1.0   \n",
       "1                  18.205184                32.0   \n",
       "2                   0.000000                 0.0   \n",
       "\n",
       "   TenX.HP2_ref_insertSize_mean  TenX.HP2_ref_insertSize_std  \\\n",
       "0                      334.0000                     0.000000   \n",
       "1                      353.8125                    88.086051   \n",
       "2                        0.0000                     0.000000   \n",
       "\n",
       "   TenX.HP2_ref_reason_alignmentScore  TenX.HP2_ref_reason_insertSizeScore  \\\n",
       "0                                 1.0                                  0.0   \n",
       "1                                32.0                                  0.0   \n",
       "2                                 0.0                                  0.0   \n",
       "\n",
       "   TenX.HP2_ref_reason_orientation  \n",
       "0                              0.0  \n",
       "1                              0.0  \n",
       "2                              0.0  \n",
       "\n",
       "[3 rows x 76 columns]"
      ]
     },
     "execution_count": 71,
     "metadata": {},
     "output_type": "execute_result"
    }
   ],
   "source": [
    "# Store header values in a list, will be used later to re-label the matrix post KNN imputation\n",
    "dftrain_header = list(df_train.columns.values)\n",
    "X.columns = dftrain_header\n",
    "X.head(3)"
   ]
  },
  {
   "cell_type": "code",
   "execution_count": 72,
   "metadata": {
    "collapsed": true
   },
   "outputs": [],
   "source": [
    "# Store Labels in a new 'Y' DataFrame\n",
    "Y = pd.DataFrame()\n",
    "Y['GTcons'] = X['GTcons']"
   ]
  },
  {
   "cell_type": "code",
   "execution_count": 73,
   "metadata": {},
   "outputs": [
    {
     "data": {
      "text/plain": [
       " 1.0    427\n",
       "-1.0    130\n",
       " 2.0    124\n",
       " 0.0    669\n",
       "dtype: int64"
      ]
     },
     "execution_count": 73,
     "metadata": {},
     "output_type": "execute_result"
    }
   ],
   "source": [
    "#Count the number of labels\n",
    "pd.value_counts(Y['GTcons'].values, sort=False)"
   ]
  },
  {
   "cell_type": "code",
   "execution_count": 74,
   "metadata": {
    "collapsed": true
   },
   "outputs": [],
   "source": [
    "# Note: originally selected 1000 of each label --> find out why some are lost"
   ]
  },
  {
   "cell_type": "code",
   "execution_count": 75,
   "metadata": {
    "collapsed": true
   },
   "outputs": [],
   "source": [
    "# Remove labels from feature set\n",
    "X.drop(['GTcons'],axis=1, inplace = True)"
   ]
  },
  {
   "cell_type": "code",
   "execution_count": 76,
   "metadata": {
    "collapsed": true
   },
   "outputs": [],
   "source": [
    "# Order features\n",
    "X4 = X.reindex_axis(sorted(X.columns), axis=1)"
   ]
  },
  {
   "cell_type": "markdown",
   "metadata": {},
   "source": [
    "***\n",
    "Machine Learning\n",
    "***"
   ]
  },
  {
   "cell_type": "markdown",
   "metadata": {},
   "source": [
    "<a id='machine_learning'></a>"
   ]
  },
  {
   "cell_type": "markdown",
   "metadata": {},
   "source": [
    "Description:\n",
    "\n",
    "   * In the following section a random forest model will be trained on svanalyzer data.\n",
    "\n",
    "       * The model was trained using [train/test split](http://scikit-learn.org/0.16/modules/generated/sklearn.cross_validation.train_test_split.html) where 70% of the data was used to train the model and the model performance was determined by predicting labels for the remaining 30% of the data. The trained model will be used in a [later section](#predict) to predict the consensus GT for 5000 randomly selected deletions [these deletions were randomly selected from [union_170509_refalt.sort.vcf](ftp://ftp-trace.ncbi.nlm.nih.gov/giab/ftp/data/AshkenazimTrio/analysis/NIST_UnionSVs_05092017/)]\n",
    "       * In the following section, svanalyzer data was used to train a random forest (RF) model. The features for the svanalyzer dataset include: svviz features, GA4GH features [RefN, Segmental Duplications, Tandem Repeat], preliminary R script analysis [consensus GT, GTsup].\n",
    "       * The RF classifier will predict the consensus GT labels:\n",
    "           * Homozygous Reference (0)\n",
    "           * Heterozygous Variant (1)\n",
    "           * Homozygous Variant (2)\n",
    "       \n",
    "       * In the [following section](#prediction_step), the trained RF model will be used to predict labels for genotype labels for 5000 randomly selected deletions [these deletions were randomly selected from [union_170509_refalt.sort.vcf](ftp://ftp-trace.ncbi.nlm.nih.gov/giab/ftp/data/AshkenazimTrio/analysis/NIST_UnionSVs_05092017/)]. "
   ]
  },
  {
   "cell_type": "markdown",
   "metadata": {},
   "source": [
    "** Train Random Forest Classifier **"
   ]
  },
  {
   "cell_type": "markdown",
   "metadata": {},
   "source": [
    "<a id='train_test'></a>"
   ]
  },
  {
   "cell_type": "code",
   "execution_count": 77,
   "metadata": {
    "collapsed": true
   },
   "outputs": [],
   "source": [
    "# Train Test Split\n",
    "# Train on 70% of the data and test on 30%\n",
    "X_train, X_test, y_train, y_test = train_test_split(X4, Y, test_size=0.3, random_state=0)"
   ]
  },
  {
   "cell_type": "code",
   "execution_count": 78,
   "metadata": {
    "scrolled": false
   },
   "outputs": [
    {
     "name": "stderr",
     "output_type": "stream",
     "text": [
      "/Users/lmc2/anaconda/envs/NIHFAES/lib/python3.5/site-packages/ipykernel/__main__.py:4: DataConversionWarning:\n",
      "\n",
      "A column-vector y was passed when a 1d array was expected. Please change the shape of y to (n_samples,), for example using ravel().\n",
      "\n"
     ]
    },
    {
     "data": {
      "text/plain": [
       "RandomForestClassifier(bootstrap=True, class_weight=None, criterion='gini',\n",
       "            max_depth=None, max_features='auto', max_leaf_nodes=None,\n",
       "            min_impurity_split=1e-07, min_samples_leaf=1,\n",
       "            min_samples_split=2, min_weight_fraction_leaf=0.0,\n",
       "            n_estimators=10, n_jobs=1, oob_score=False, random_state=None,\n",
       "            verbose=0, warm_start=False)"
      ]
     },
     "execution_count": 78,
     "metadata": {},
     "output_type": "execute_result"
    }
   ],
   "source": [
    "# %%timeit\n",
    "# Train Random Forest Classifier\n",
    "model = RandomForestClassifier() \n",
    "model.fit(X_train, y_train)"
   ]
  },
  {
   "cell_type": "code",
   "execution_count": 79,
   "metadata": {},
   "outputs": [
    {
     "name": "stdout",
     "output_type": "stream",
     "text": [
      "Feature ranking:\n",
      "1. feature 36 (0.094659)\n",
      "2. feature 3 (0.072453)\n",
      "3. feature 35 (0.061575)\n",
      "4. feature 28 (0.036115)\n",
      "5. feature 5 (0.033933)\n",
      "6. feature 1 (0.033817)\n",
      "7. feature 37 (0.031957)\n",
      "8. feature 2 (0.031597)\n",
      "9. feature 66 (0.026706)\n",
      "10. feature 38 (0.026644)\n",
      "11. feature 30 (0.025638)\n",
      "12. feature 6 (0.023719)\n",
      "13. feature 58 (0.020974)\n",
      "14. feature 27 (0.020450)\n",
      "15. feature 7 (0.019230)\n",
      "16. feature 72 (0.018140)\n",
      "17. feature 43 (0.018127)\n",
      "18. feature 29 (0.017785)\n",
      "19. feature 26 (0.017749)\n",
      "20. feature 59 (0.016512)\n",
      "21. feature 11 (0.015667)\n",
      "22. feature 63 (0.015512)\n",
      "23. feature 4 (0.015305)\n",
      "24. feature 14 (0.014843)\n",
      "25. feature 34 (0.014833)\n",
      "26. feature 39 (0.014799)\n",
      "27. feature 67 (0.014607)\n",
      "28. feature 42 (0.014302)\n",
      "29. feature 49 (0.013650)\n",
      "30. feature 15 (0.013168)\n",
      "31. feature 46 (0.013015)\n",
      "32. feature 62 (0.012656)\n",
      "33. feature 21 (0.012418)\n",
      "34. feature 47 (0.012337)\n",
      "35. feature 44 (0.011340)\n",
      "36. feature 56 (0.011165)\n",
      "37. feature 0 (0.010808)\n",
      "38. feature 53 (0.010411)\n",
      "39. feature 57 (0.010114)\n",
      "40. feature 31 (0.009939)\n",
      "41. feature 12 (0.009515)\n",
      "42. feature 60 (0.009432)\n",
      "43. feature 61 (0.008963)\n",
      "44. feature 24 (0.008952)\n",
      "45. feature 17 (0.008835)\n",
      "46. feature 10 (0.008670)\n",
      "47. feature 45 (0.008153)\n",
      "48. feature 25 (0.006875)\n",
      "49. feature 13 (0.006136)\n",
      "50. feature 8 (0.002594)\n",
      "51. feature 54 (0.002565)\n",
      "52. feature 40 (0.002289)\n",
      "53. feature 71 (0.002177)\n",
      "54. feature 73 (0.001975)\n",
      "55. feature 74 (0.001277)\n",
      "56. feature 70 (0.000758)\n",
      "57. feature 22 (0.000663)\n",
      "58. feature 16 (0.000580)\n",
      "59. feature 48 (0.000422)\n",
      "60. feature 41 (0.000297)\n",
      "61. feature 9 (0.000202)\n",
      "62. feature 33 (0.000000)\n",
      "63. feature 69 (0.000000)\n",
      "64. feature 68 (0.000000)\n",
      "65. feature 65 (0.000000)\n",
      "66. feature 64 (0.000000)\n",
      "67. feature 19 (0.000000)\n",
      "68. feature 32 (0.000000)\n",
      "69. feature 20 (0.000000)\n",
      "70. feature 50 (0.000000)\n",
      "71. feature 51 (0.000000)\n",
      "72. feature 52 (0.000000)\n",
      "73. feature 23 (0.000000)\n",
      "74. feature 55 (0.000000)\n",
      "75. feature 18 (0.000000)\n"
     ]
    }
   ],
   "source": [
    "# Feature Importance\n",
    "importances = model.feature_importances_\n",
    "indices = np.argsort(importances)[::-1]\n",
    "print(\"Feature ranking:\")\n",
    "\n",
    "for f in range(X_test.shape[1]):\n",
    "    print(\"%d. feature %d (%f)\" % (f + 1, indices[f], importances[indices[f]]))"
   ]
  },
  {
   "cell_type": "markdown",
   "metadata": {},
   "source": [
    "[Another Resource](https://stackoverflow.com/questions/37877542/how-to-label-the-feature-importance-with-forests-of-trees)"
   ]
  },
  {
   "cell_type": "code",
   "execution_count": 80,
   "metadata": {},
   "outputs": [
    {
     "name": "stderr",
     "output_type": "stream",
     "text": [
      "/Users/lmc2/anaconda/envs/NIHFAES/lib/python3.5/site-packages/ipykernel/__main__.py:3: FutureWarning:\n",
      "\n",
      "sort is deprecated, use sort_values(inplace=True) for INPLACE sorting\n",
      "\n"
     ]
    },
    {
     "data": {
      "text/plain": [
       "<matplotlib.axes._subplots.AxesSubplot at 0x115698390>"
      ]
     },
     "execution_count": 80,
     "metadata": {},
     "output_type": "execute_result"
    },
    {
     "data": {
      "image/png": "[encoded data removed]",
      "text/plain": [
       "<matplotlib.figure.Figure at 0x11a93e390>"
      ]
     },
     "metadata": {},
     "output_type": "display_data"
    }
   ],
   "source": [
    "%matplotlib inline\n",
    "feature_importances = pd.Series(model.feature_importances_, index=X_test.columns)\n",
    "feature_importances.sort()\n",
    "feature_importances.plot.bar()"
   ]
  },
  {
   "cell_type": "code",
   "execution_count": 81,
   "metadata": {
    "collapsed": true
   },
   "outputs": [],
   "source": [
    "#TODO: Try training the model with the most important features and note difference in overal model prediction score"
   ]
  },
  {
   "cell_type": "code",
   "execution_count": 82,
   "metadata": {},
   "outputs": [
    {
     "data": {
      "text/plain": [
       " 1.0    308\n",
       "-1.0     77\n",
       " 2.0     81\n",
       " 0.0    204\n",
       "dtype: int64"
      ]
     },
     "execution_count": 82,
     "metadata": {},
     "output_type": "execute_result"
    }
   ],
   "source": [
    "#NOTE: Training Set - Show number of Hom Ref, Hom Var, Het Var datapoints the model was trained on\n",
    "ytrain = pd.DataFrame()\n",
    "ytrain['ytrain'] = y_train\n",
    "pd.value_counts(ytrain['ytrain'].values, sort=False)"
   ]
  },
  {
   "cell_type": "markdown",
   "metadata": {},
   "source": [
    "<a id='prediction_step'></a>"
   ]
  },
  {
   "cell_type": "code",
   "execution_count": 83,
   "metadata": {},
   "outputs": [
    {
     "data": {
      "text/plain": [
       "array([ 0.,  1.,  1.,  0.,  0.,  1.,  0.,  0.,  0.,  1.,  0.,  1.,  1.,\n",
       "        1.,  0.,  0.,  0.,  1.,  1.,  1.,  0.,  0.,  0.,  0.,  0.,  0.,\n",
       "        0.,  0., -1., -1.,  1.,  0.,  0.,  0.,  1.,  1.,  1.,  0.,  0.,\n",
       "        0.,  1.,  0.,  0.,  1.,  0.,  0.,  0.,  0.,  1.,  1.,  0.,  0.,\n",
       "        0.,  0.,  1.,  0.,  1.,  1.,  0.,  1.,  0.,  0.,  1.,  1., -1.,\n",
       "        1.,  1.,  0.,  0.,  1.,  0.,  1.,  0.,  0.,  0.,  0.,  0.,  0.,\n",
       "        0.,  1.,  1.,  0.,  1.,  1.,  1.,  1.,  1., -1.,  0.,  0.,  0.,\n",
       "       -1.,  1., -1.,  1.,  1.,  1., -1.,  0.,  0.,  0.,  0., -1.,  0.,\n",
       "        0.,  0.,  0.,  0.,  0.,  1.,  1.,  0.,  1.,  0.,  1.,  0.,  0.,\n",
       "        1.,  0.,  1.,  1.,  1., -1., -1.,  0.,  1.,  0.,  1.,  0.,  1.,\n",
       "       -1.,  1.,  0.,  0.,  0.,  0.,  0.,  0.,  1., -1.,  1.,  1.,  0.,\n",
       "        1.,  0.,  0.,  0.,  1.,  0., -1.,  1.,  0.,  0., -1.,  1.,  1.,\n",
       "        0.,  0.,  1.,  1.,  0.,  1.,  0.,  0.,  0.,  1.,  0.,  1.,  1.,\n",
       "        0.,  1.,  0.,  0.,  1.,  0.,  0.,  0., -1.,  1.,  1.,  1.,  0.,\n",
       "        0.,  1.,  1.,  0.,  0.,  1.,  0.,  1.,  0.,  1.,  0., -1.,  1.,\n",
       "        1.,  0.,  1.,  0.,  1.,  0.,  0.,  0.,  0.,  1.,  1.,  1.,  1.,\n",
       "        0.,  1.,  1.,  1.,  0.,  1.,  1.,  1.,  1.,  0.,  0.,  0.,  0.,\n",
       "        1.,  0.,  0.,  0., -1.,  0.,  1.,  0.,  1.,  0.,  2.,  0.,  0.,\n",
       "        0.,  1.,  1.,  1.,  0.,  0.,  1.,  1.,  0.,  0.,  1.,  0.,  2.,\n",
       "        1.,  1.,  0.,  2.,  2., -1.,  1.,  0.,  0.,  0.,  0., -1.,  0.,\n",
       "       -1.,  1.,  0.,  0.,  1.,  0.,  0.,  0.,  0.,  0.,  0.,  0.,  0.,\n",
       "        1.,  1.,  0.,  0.,  0.,  0.,  0.,  1.,  1.,  0.,  1.,  0.,  1.,\n",
       "        1.,  1.,  1.,  0.,  1.,  0.,  0.,  0.,  0., -1., -1.,  0.,  0.,\n",
       "        0.,  0.,  1.,  1., -1.,  0.,  1.,  1.,  0.,  1.,  0.,  0.,  0.,\n",
       "        0.,  0.,  1.,  1.,  0.,  1.,  0.,  0.,  1.,  0.,  0.,  0.,  0.,\n",
       "        1.,  2.,  2.,  0.,  0., -1.,  1.,  1.,  0.,  0.,  0.,  0.,  0.,\n",
       "        0.,  1.,  0.,  0.,  0.,  1.,  1.,  0.,  0.,  0.,  0.,  1.,  1.,\n",
       "        0.,  2.,  1.,  0.,  0.,  1.,  0.,  1.,  1.,  0.,  1.,  1.,  2.,\n",
       "        1.,  1.,  1.,  0.,  1.,  0., -1.,  1.,  0.,  0.,  2.,  0.,  0.,\n",
       "        1.,  0.,  0.,  1.,  0.,  1.,  1.,  1.,  0.,  0.,  0.,  1.,  1.,\n",
       "        1.,  0.,  1.,  0.,  1.,  1.,  0.,  0.,  0.,  0.,  1.,  1.,  0.,\n",
       "        0.,  0.])"
      ]
     },
     "execution_count": 83,
     "metadata": {},
     "output_type": "execute_result"
    }
   ],
   "source": [
    "model.predict(X_test)"
   ]
  },
  {
   "cell_type": "code",
   "execution_count": 84,
   "metadata": {
    "collapsed": true
   },
   "outputs": [],
   "source": [
    "pred = model.predict(X_test)"
   ]
  },
  {
   "cell_type": "code",
   "execution_count": 85,
   "metadata": {},
   "outputs": [
    {
     "name": "stdout",
     "output_type": "stream",
     "text": [
      "Precision score of the training subset: 0.716\n"
     ]
    }
   ],
   "source": [
    "print('Precision score of the training subset: {:.3f}'.format(precision_score(pred, y_test, average='micro'))) "
   ]
  },
  {
   "cell_type": "code",
   "execution_count": 86,
   "metadata": {},
   "outputs": [
    {
     "data": {
      "text/html": [
       "<div>\n",
       "<table border=\"1\" class=\"dataframe\">\n",
       "  <thead>\n",
       "    <tr style=\"text-align: right;\">\n",
       "      <th></th>\n",
       "      <th>Size</th>\n",
       "      <th>TenX.GT</th>\n",
       "      <th>TenX.HP1_alt_alnScore_mean</th>\n",
       "      <th>TenX.HP1_alt_alnScore_std</th>\n",
       "      <th>TenX.HP1_alt_count</th>\n",
       "      <th>TenX.HP1_alt_insertSize_mean</th>\n",
       "      <th>TenX.HP1_alt_insertSize_std</th>\n",
       "      <th>TenX.HP1_alt_reason_alignmentScore</th>\n",
       "      <th>TenX.HP1_alt_reason_insertSizeScore</th>\n",
       "      <th>TenX.HP1_alt_reason_orientation</th>\n",
       "      <th>...</th>\n",
       "      <th>TenX.HP2_ref_reason_orientation</th>\n",
       "      <th>chrom</th>\n",
       "      <th>end</th>\n",
       "      <th>refN_cnt</th>\n",
       "      <th>refN_pct</th>\n",
       "      <th>segdup_cnt</th>\n",
       "      <th>segdup_pct</th>\n",
       "      <th>start</th>\n",
       "      <th>tandemrep_cnt</th>\n",
       "      <th>tandemrep_pct</th>\n",
       "    </tr>\n",
       "  </thead>\n",
       "  <tbody>\n",
       "    <tr>\n",
       "      <th>841</th>\n",
       "      <td>-6073.0</td>\n",
       "      <td>0.0</td>\n",
       "      <td>0.000000</td>\n",
       "      <td>0.000000</td>\n",
       "      <td>0.0</td>\n",
       "      <td>0.000000</td>\n",
       "      <td>0.000000</td>\n",
       "      <td>0.0</td>\n",
       "      <td>0.0</td>\n",
       "      <td>0.0</td>\n",
       "      <td>...</td>\n",
       "      <td>0.0</td>\n",
       "      <td>16.0</td>\n",
       "      <td>83676913.0</td>\n",
       "      <td>0.0</td>\n",
       "      <td>0.0</td>\n",
       "      <td>0.0</td>\n",
       "      <td>0.0</td>\n",
       "      <td>83670839.0</td>\n",
       "      <td>10.0</td>\n",
       "      <td>0.036714</td>\n",
       "    </tr>\n",
       "    <tr>\n",
       "      <th>184</th>\n",
       "      <td>-174.0</td>\n",
       "      <td>1.0</td>\n",
       "      <td>0.000000</td>\n",
       "      <td>0.000000</td>\n",
       "      <td>0.0</td>\n",
       "      <td>0.000000</td>\n",
       "      <td>0.000000</td>\n",
       "      <td>0.0</td>\n",
       "      <td>0.0</td>\n",
       "      <td>0.0</td>\n",
       "      <td>...</td>\n",
       "      <td>0.0</td>\n",
       "      <td>15.0</td>\n",
       "      <td>47720808.0</td>\n",
       "      <td>0.0</td>\n",
       "      <td>0.0</td>\n",
       "      <td>0.0</td>\n",
       "      <td>0.0</td>\n",
       "      <td>47720633.0</td>\n",
       "      <td>0.0</td>\n",
       "      <td>0.000000</td>\n",
       "    </tr>\n",
       "    <tr>\n",
       "      <th>526</th>\n",
       "      <td>-28.0</td>\n",
       "      <td>2.0</td>\n",
       "      <td>511.384615</td>\n",
       "      <td>13.792632</td>\n",
       "      <td>13.0</td>\n",
       "      <td>427.461538</td>\n",
       "      <td>128.892093</td>\n",
       "      <td>13.0</td>\n",
       "      <td>0.0</td>\n",
       "      <td>0.0</td>\n",
       "      <td>...</td>\n",
       "      <td>0.0</td>\n",
       "      <td>7.0</td>\n",
       "      <td>53376080.0</td>\n",
       "      <td>0.0</td>\n",
       "      <td>0.0</td>\n",
       "      <td>0.0</td>\n",
       "      <td>0.0</td>\n",
       "      <td>53376051.0</td>\n",
       "      <td>0.0</td>\n",
       "      <td>0.000000</td>\n",
       "    </tr>\n",
       "    <tr>\n",
       "      <th>1283</th>\n",
       "      <td>-310.0</td>\n",
       "      <td>0.0</td>\n",
       "      <td>0.000000</td>\n",
       "      <td>0.000000</td>\n",
       "      <td>0.0</td>\n",
       "      <td>0.000000</td>\n",
       "      <td>0.000000</td>\n",
       "      <td>0.0</td>\n",
       "      <td>0.0</td>\n",
       "      <td>0.0</td>\n",
       "      <td>...</td>\n",
       "      <td>0.0</td>\n",
       "      <td>9.0</td>\n",
       "      <td>33051141.0</td>\n",
       "      <td>0.0</td>\n",
       "      <td>0.0</td>\n",
       "      <td>0.0</td>\n",
       "      <td>0.0</td>\n",
       "      <td>33050830.0</td>\n",
       "      <td>2.0</td>\n",
       "      <td>0.109325</td>\n",
       "    </tr>\n",
       "    <tr>\n",
       "      <th>980</th>\n",
       "      <td>-25.0</td>\n",
       "      <td>0.0</td>\n",
       "      <td>0.000000</td>\n",
       "      <td>0.000000</td>\n",
       "      <td>0.0</td>\n",
       "      <td>0.000000</td>\n",
       "      <td>0.000000</td>\n",
       "      <td>0.0</td>\n",
       "      <td>0.0</td>\n",
       "      <td>0.0</td>\n",
       "      <td>...</td>\n",
       "      <td>0.0</td>\n",
       "      <td>2.0</td>\n",
       "      <td>141011716.0</td>\n",
       "      <td>0.0</td>\n",
       "      <td>0.0</td>\n",
       "      <td>0.0</td>\n",
       "      <td>0.0</td>\n",
       "      <td>141011690.0</td>\n",
       "      <td>0.0</td>\n",
       "      <td>0.000000</td>\n",
       "    </tr>\n",
       "  </tbody>\n",
       "</table>\n",
       "<p>5 rows × 75 columns</p>\n",
       "</div>"
      ],
      "text/plain": [
       "        Size  TenX.GT  TenX.HP1_alt_alnScore_mean  TenX.HP1_alt_alnScore_std  \\\n",
       "841  -6073.0      0.0                    0.000000                   0.000000   \n",
       "184   -174.0      1.0                    0.000000                   0.000000   \n",
       "526    -28.0      2.0                  511.384615                  13.792632   \n",
       "1283  -310.0      0.0                    0.000000                   0.000000   \n",
       "980    -25.0      0.0                    0.000000                   0.000000   \n",
       "\n",
       "      TenX.HP1_alt_count  TenX.HP1_alt_insertSize_mean  \\\n",
       "841                  0.0                      0.000000   \n",
       "184                  0.0                      0.000000   \n",
       "526                 13.0                    427.461538   \n",
       "1283                 0.0                      0.000000   \n",
       "980                  0.0                      0.000000   \n",
       "\n",
       "      TenX.HP1_alt_insertSize_std  TenX.HP1_alt_reason_alignmentScore  \\\n",
       "841                      0.000000                                 0.0   \n",
       "184                      0.000000                                 0.0   \n",
       "526                    128.892093                                13.0   \n",
       "1283                     0.000000                                 0.0   \n",
       "980                      0.000000                                 0.0   \n",
       "\n",
       "      TenX.HP1_alt_reason_insertSizeScore  TenX.HP1_alt_reason_orientation  \\\n",
       "841                                   0.0                              0.0   \n",
       "184                                   0.0                              0.0   \n",
       "526                                   0.0                              0.0   \n",
       "1283                                  0.0                              0.0   \n",
       "980                                   0.0                              0.0   \n",
       "\n",
       "          ...        TenX.HP2_ref_reason_orientation  chrom          end  \\\n",
       "841       ...                                    0.0   16.0   83676913.0   \n",
       "184       ...                                    0.0   15.0   47720808.0   \n",
       "526       ...                                    0.0    7.0   53376080.0   \n",
       "1283      ...                                    0.0    9.0   33051141.0   \n",
       "980       ...                                    0.0    2.0  141011716.0   \n",
       "\n",
       "      refN_cnt  refN_pct  segdup_cnt  segdup_pct        start  tandemrep_cnt  \\\n",
       "841        0.0       0.0         0.0         0.0   83670839.0           10.0   \n",
       "184        0.0       0.0         0.0         0.0   47720633.0            0.0   \n",
       "526        0.0       0.0         0.0         0.0   53376051.0            0.0   \n",
       "1283       0.0       0.0         0.0         0.0   33050830.0            2.0   \n",
       "980        0.0       0.0         0.0         0.0  141011690.0            0.0   \n",
       "\n",
       "      tandemrep_pct  \n",
       "841        0.036714  \n",
       "184        0.000000  \n",
       "526        0.000000  \n",
       "1283       0.109325  \n",
       "980        0.000000  \n",
       "\n",
       "[5 rows x 75 columns]"
      ]
     },
     "execution_count": 86,
     "metadata": {},
     "output_type": "execute_result"
    }
   ],
   "source": [
    "# Add original labels and predicted labels back to the original dataframe\n",
    "df_Xtest = pd.DataFrame(X_test)\n",
    "df_Xtest.head()"
   ]
  },
  {
   "cell_type": "code",
   "execution_count": 87,
   "metadata": {
    "collapsed": true
   },
   "outputs": [],
   "source": [
    "labels = pd.DataFrame(y_test)"
   ]
  },
  {
   "cell_type": "code",
   "execution_count": 88,
   "metadata": {
    "collapsed": true
   },
   "outputs": [],
   "source": [
    "df_Xtest['predicted_label'] = pred\n",
    "df_Xtest['GTcons'] = df_train['GTcons']\n",
    "df_Xtest['chrom'] = df_train['chrom']\n",
    "df_Xtest['start'] = df_train['start']\n",
    "df_Xtest['end'] = df_train['end']\n",
    "# df_Xtest['Y_test'] = labels"
   ]
  },
  {
   "cell_type": "code",
   "execution_count": 89,
   "metadata": {
    "collapsed": true
   },
   "outputs": [],
   "source": [
    "df_Xtest['GTcons'].replace(0.0, 'Homozygous_Reference', inplace=True)\n",
    "df_Xtest['GTcons'].replace(1.0, 'Heterozygous_Variant', inplace=True)\n",
    "df_Xtest['GTcons'].replace(2.0, 'Homozygous_Variant', inplace=True)\n",
    "df_Xtest['GTcons'].replace(-1.0, 'Unknown', inplace=True)\n",
    "df_Xtest['predicted_label'].replace(-1.0, 'Unknown', inplace=True)\n",
    "df_Xtest['predicted_label'].replace(0.0, 'Homozygous_Reference', inplace=True)\n",
    "df_Xtest['predicted_label'].replace(1.0, 'Heterozygous_Variant', inplace=True)\n",
    "df_Xtest['predicted_label'].replace(2.0, 'Homozygous_Variant', inplace=True)"
   ]
  },
  {
   "cell_type": "code",
   "execution_count": 90,
   "metadata": {},
   "outputs": [
    {
     "data": {
      "text/plain": [
       "Heterozygous_Variant    112\n",
       "Homozygous_Reference    203\n",
       "Unknown                  47\n",
       "Homozygous_Variant       43\n",
       "dtype: int64"
      ]
     },
     "execution_count": 90,
     "metadata": {},
     "output_type": "execute_result"
    }
   ],
   "source": [
    "pd.value_counts(df_Xtest['GTcons'].values, sort=False)"
   ]
  },
  {
   "cell_type": "code",
   "execution_count": 91,
   "metadata": {},
   "outputs": [
    {
     "data": {
      "text/plain": [
       "Heterozygous_Variant    155\n",
       "Homozygous_Reference    216\n",
       "Unknown                  25\n",
       "Homozygous_Variant        9\n",
       "dtype: int64"
      ]
     },
     "execution_count": 91,
     "metadata": {},
     "output_type": "execute_result"
    }
   ],
   "source": [
    "pd.value_counts(df_Xtest['predicted_label'].values, sort=False)"
   ]
  },
  {
   "cell_type": "code",
   "execution_count": 92,
   "metadata": {},
   "outputs": [
    {
     "name": "stdout",
     "output_type": "stream",
     "text": [
      "[[ 89   7   5  11]\n",
      " [  7 192   0   4]\n",
      " [ 33   5   2   3]\n",
      " [ 26  12   2   7]]\n"
     ]
    }
   ],
   "source": [
    "from sklearn.metrics import confusion_matrix\n",
    "ytest = df_Xtest['GTcons']\n",
    "predict = df_Xtest['predicted_label']\n",
    "print(confusion_matrix(ytest, predict))"
   ]
  },
  {
   "cell_type": "code",
   "execution_count": 93,
   "metadata": {},
   "outputs": [
    {
     "data": {
      "text/html": [
       "<div>\n",
       "<table border=\"1\" class=\"dataframe\">\n",
       "  <thead>\n",
       "    <tr style=\"text-align: right;\">\n",
       "      <th>Predicted</th>\n",
       "      <th>Heterozygous_Variant</th>\n",
       "      <th>Homozygous_Reference</th>\n",
       "      <th>Homozygous_Variant</th>\n",
       "      <th>Unknown</th>\n",
       "      <th>All</th>\n",
       "    </tr>\n",
       "    <tr>\n",
       "      <th>True</th>\n",
       "      <th></th>\n",
       "      <th></th>\n",
       "      <th></th>\n",
       "      <th></th>\n",
       "      <th></th>\n",
       "    </tr>\n",
       "  </thead>\n",
       "  <tbody>\n",
       "    <tr>\n",
       "      <th>Heterozygous_Variant</th>\n",
       "      <td>89</td>\n",
       "      <td>7</td>\n",
       "      <td>5</td>\n",
       "      <td>11</td>\n",
       "      <td>112</td>\n",
       "    </tr>\n",
       "    <tr>\n",
       "      <th>Homozygous_Reference</th>\n",
       "      <td>7</td>\n",
       "      <td>192</td>\n",
       "      <td>0</td>\n",
       "      <td>4</td>\n",
       "      <td>203</td>\n",
       "    </tr>\n",
       "    <tr>\n",
       "      <th>Homozygous_Variant</th>\n",
       "      <td>33</td>\n",
       "      <td>5</td>\n",
       "      <td>2</td>\n",
       "      <td>3</td>\n",
       "      <td>43</td>\n",
       "    </tr>\n",
       "    <tr>\n",
       "      <th>Unknown</th>\n",
       "      <td>26</td>\n",
       "      <td>12</td>\n",
       "      <td>2</td>\n",
       "      <td>7</td>\n",
       "      <td>47</td>\n",
       "    </tr>\n",
       "    <tr>\n",
       "      <th>All</th>\n",
       "      <td>155</td>\n",
       "      <td>216</td>\n",
       "      <td>9</td>\n",
       "      <td>25</td>\n",
       "      <td>405</td>\n",
       "    </tr>\n",
       "  </tbody>\n",
       "</table>\n",
       "</div>"
      ],
      "text/plain": [
       "Predicted             Heterozygous_Variant  Homozygous_Reference  \\\n",
       "True                                                               \n",
       "Heterozygous_Variant                    89                     7   \n",
       "Homozygous_Reference                     7                   192   \n",
       "Homozygous_Variant                      33                     5   \n",
       "Unknown                                 26                    12   \n",
       "All                                    155                   216   \n",
       "\n",
       "Predicted             Homozygous_Variant  Unknown  All  \n",
       "True                                                    \n",
       "Heterozygous_Variant                   5       11  112  \n",
       "Homozygous_Reference                   0        4  203  \n",
       "Homozygous_Variant                     2        3   43  \n",
       "Unknown                                2        7   47  \n",
       "All                                    9       25  405  "
      ]
     },
     "execution_count": 93,
     "metadata": {},
     "output_type": "execute_result"
    }
   ],
   "source": [
    "pd.crosstab(ytest, predict, rownames=['True'], colnames=['Predicted'], margins=True)"
   ]
  },
  {
   "cell_type": "markdown",
   "metadata": {},
   "source": [
    "**Reminder:** The original training set only inlcuded 154 [homozygous variant](#hom_ref) examples"
   ]
  },
  {
   "cell_type": "code",
   "execution_count": 94,
   "metadata": {
    "scrolled": true
   },
   "outputs": [
    {
     "name": "stdout",
     "output_type": "stream",
     "text": [
      "                      precision    recall  f1-score   support\n",
      "\n",
      "Heterozygous_Variant       0.57      0.79      0.67       112\n",
      "Homozygous_Reference       0.89      0.95      0.92       203\n",
      "  Homozygous_Variant       0.22      0.05      0.08        43\n",
      "             Unknown       0.28      0.15      0.19        47\n",
      "\n",
      "         avg / total       0.66      0.72      0.67       405\n",
      "\n"
     ]
    }
   ],
   "source": [
    "from sklearn.metrics import classification_report\n",
    "print(classification_report(ytest, predict))"
   ]
  },
  {
   "cell_type": "markdown",
   "metadata": {},
   "source": [
    "***\n",
    "Predict\n",
    "***"
   ]
  },
  {
   "cell_type": "markdown",
   "metadata": {},
   "source": [
    "<a id='predict'></a>"
   ]
  },
  {
   "cell_type": "markdown",
   "metadata": {},
   "source": [
    "Description:\n",
    "\n",
    "   * In the [previous section](#machine_learning), a RF model was trained on svanalyzer data.\n",
    "\n",
    "       * The model was trained using [train/test split](#train_test) where 70% of the data was used to train the model and the model performance was determined by predicting labels for the remaining 30% of the data\n",
    " * Reminder: The labels for this training set and the following [prediction step](#prediction_step) are the consensus genotype (GTcons) labels generated from a preliminary R analysis based on reference and alternate read count:\n",
    "           * Homozygous Reference (0)\n",
    "           * Heterozygous Variant (1)\n",
    "           * Homozygous Variant (2)\n",
    "           \n",
    "   * The trained model is used in the following section to predict labels for 5000 randomly selected Deletions [these datapoints were randomly selected from [union_170509_refalt.sort.vcf](ftp://ftp-trace.ncbi.nlm.nih.gov/giab/ftp/data/AshkenazimTrio/analysis/NIST_UnionSVs_05092017/)]\n",
    "   \n",
    "   "
   ]
  },
  {
   "cell_type": "markdown",
   "metadata": {},
   "source": [
    "** Load Data **"
   ]
  },
  {
   "cell_type": "code",
   "execution_count": 95,
   "metadata": {
    "collapsed": true
   },
   "outputs": [],
   "source": [
    "X2 = df_test"
   ]
  },
  {
   "cell_type": "markdown",
   "metadata": {},
   "source": [
    "** Impute missing values using KNN **"
   ]
  },
  {
   "cell_type": "code",
   "execution_count": 96,
   "metadata": {},
   "outputs": [
    {
     "name": "stdout",
     "output_type": "stream",
     "text": [
      "Imputing row 1/4995 with 4 missing, elapsed time: 12.819\n",
      "Imputing row 101/4995 with 4 missing, elapsed time: 12.867\n",
      "Imputing row 201/4995 with 4 missing, elapsed time: 12.919\n",
      "Imputing row 301/4995 with 4 missing, elapsed time: 12.947\n",
      "Imputing row 401/4995 with 4 missing, elapsed time: 12.994\n",
      "Imputing row 501/4995 with 4 missing, elapsed time: 13.028\n",
      "Imputing row 601/4995 with 4 missing, elapsed time: 13.064\n",
      "Imputing row 701/4995 with 65 missing, elapsed time: 13.094\n",
      "Imputing row 801/4995 with 4 missing, elapsed time: 13.138\n",
      "Imputing row 901/4995 with 4 missing, elapsed time: 13.178\n",
      "Imputing row 1001/4995 with 7 missing, elapsed time: 13.227\n",
      "Imputing row 1101/4995 with 7 missing, elapsed time: 13.265\n",
      "Imputing row 1201/4995 with 7 missing, elapsed time: 13.303\n",
      "Imputing row 1301/4995 with 7 missing, elapsed time: 13.336\n",
      "Imputing row 1401/4995 with 7 missing, elapsed time: 13.376\n",
      "Imputing row 1501/4995 with 7 missing, elapsed time: 13.426\n",
      "Imputing row 1601/4995 with 7 missing, elapsed time: 13.466\n",
      "Imputing row 1701/4995 with 7 missing, elapsed time: 13.496\n",
      "Imputing row 1801/4995 with 7 missing, elapsed time: 13.535\n",
      "Imputing row 1901/4995 with 7 missing, elapsed time: 13.564\n",
      "Imputing row 2001/4995 with 2 missing, elapsed time: 13.614\n",
      "Imputing row 2101/4995 with 2 missing, elapsed time: 13.654\n",
      "Imputing row 2201/4995 with 2 missing, elapsed time: 13.688\n",
      "Imputing row 2301/4995 with 2 missing, elapsed time: 13.726\n",
      "Imputing row 2401/4995 with 4 missing, elapsed time: 13.769\n",
      "Imputing row 2501/4995 with 4 missing, elapsed time: 13.794\n",
      "Imputing row 2601/4995 with 4 missing, elapsed time: 13.838\n",
      "Imputing row 2701/4995 with 4 missing, elapsed time: 13.867\n",
      "Imputing row 2801/4995 with 4 missing, elapsed time: 13.901\n",
      "Imputing row 2901/4995 with 4 missing, elapsed time: 13.947\n",
      "Imputing row 3001/4995 with 4 missing, elapsed time: 13.982\n",
      "Imputing row 3101/4995 with 4 missing, elapsed time: 14.014\n",
      "Imputing row 3201/4995 with 65 missing, elapsed time: 14.054\n",
      "Imputing row 3301/4995 with 3 missing, elapsed time: 14.101\n",
      "Imputing row 3401/4995 with 3 missing, elapsed time: 14.141\n",
      "Imputing row 3501/4995 with 3 missing, elapsed time: 14.177\n",
      "Imputing row 3601/4995 with 3 missing, elapsed time: 14.210\n",
      "Imputing row 3701/4995 with 65 missing, elapsed time: 14.252\n",
      "Imputing row 3801/4995 with 3 missing, elapsed time: 14.303\n",
      "Imputing row 3901/4995 with 3 missing, elapsed time: 14.334\n",
      "Imputing row 4001/4995 with 3 missing, elapsed time: 14.373\n",
      "Imputing row 4101/4995 with 3 missing, elapsed time: 14.407\n",
      "Imputing row 4201/4995 with 4 missing, elapsed time: 14.446\n",
      "Imputing row 4301/4995 with 4 missing, elapsed time: 14.485\n",
      "Imputing row 4401/4995 with 4 missing, elapsed time: 14.522\n",
      "Imputing row 4501/4995 with 4 missing, elapsed time: 14.558\n",
      "Imputing row 4601/4995 with 4 missing, elapsed time: 14.589\n",
      "Imputing row 4701/4995 with 65 missing, elapsed time: 14.628\n",
      "Imputing row 4801/4995 with 4 missing, elapsed time: 14.671\n",
      "Imputing row 4901/4995 with 4 missing, elapsed time: 14.715\n"
     ]
    }
   ],
   "source": [
    "#Convert dataframe to matrix\n",
    "X2=X2.as_matrix()\n",
    "\n",
    "#Imput missing values from three closest observations\n",
    "X2_imputed=KNN(k=3).complete(X2)\n",
    "X2=pd.DataFrame(X2_imputed)"
   ]
  },
  {
   "cell_type": "code",
   "execution_count": 97,
   "metadata": {},
   "outputs": [
    {
     "data": {
      "text/html": [
       "<div>\n",
       "<table border=\"1\" class=\"dataframe\">\n",
       "  <thead>\n",
       "    <tr style=\"text-align: right;\">\n",
       "      <th></th>\n",
       "      <th>chrom</th>\n",
       "      <th>start</th>\n",
       "      <th>end</th>\n",
       "      <th>Size</th>\n",
       "      <th>refN_cnt</th>\n",
       "      <th>refN_pct</th>\n",
       "      <th>segdup_cnt</th>\n",
       "      <th>segdup_pct</th>\n",
       "      <th>tandemrep_cnt</th>\n",
       "      <th>tandemrep_pct</th>\n",
       "      <th>...</th>\n",
       "      <th>TenX.HP2_amb_reason_orientation_orientation</th>\n",
       "      <th>TenX.HP2_amb_reason_same_scores</th>\n",
       "      <th>TenX.HP2_ref_alnScore_mean</th>\n",
       "      <th>TenX.HP2_ref_alnScore_std</th>\n",
       "      <th>TenX.HP2_ref_count</th>\n",
       "      <th>TenX.HP2_ref_insertSize_mean</th>\n",
       "      <th>TenX.HP2_ref_insertSize_std</th>\n",
       "      <th>TenX.HP2_ref_reason_alignmentScore</th>\n",
       "      <th>TenX.HP2_ref_reason_insertSizeScore</th>\n",
       "      <th>TenX.HP2_ref_reason_orientation</th>\n",
       "    </tr>\n",
       "  </thead>\n",
       "  <tbody>\n",
       "    <tr>\n",
       "      <th>0</th>\n",
       "      <td>5.0</td>\n",
       "      <td>15411043.0</td>\n",
       "      <td>15411104.0</td>\n",
       "      <td>-60.0</td>\n",
       "      <td>0.0</td>\n",
       "      <td>0.0</td>\n",
       "      <td>0.0</td>\n",
       "      <td>0.0</td>\n",
       "      <td>1.0</td>\n",
       "      <td>1.000000</td>\n",
       "      <td>...</td>\n",
       "      <td>5.0</td>\n",
       "      <td>1.0</td>\n",
       "      <td>539.5</td>\n",
       "      <td>16.039015</td>\n",
       "      <td>4.0</td>\n",
       "      <td>392.75</td>\n",
       "      <td>176.628671</td>\n",
       "      <td>4.0</td>\n",
       "      <td>0.0</td>\n",
       "      <td>0.0</td>\n",
       "    </tr>\n",
       "    <tr>\n",
       "      <th>1</th>\n",
       "      <td>7.0</td>\n",
       "      <td>158112624.0</td>\n",
       "      <td>158112712.0</td>\n",
       "      <td>-88.0</td>\n",
       "      <td>0.0</td>\n",
       "      <td>0.0</td>\n",
       "      <td>0.0</td>\n",
       "      <td>0.0</td>\n",
       "      <td>2.0</td>\n",
       "      <td>0.715909</td>\n",
       "      <td>...</td>\n",
       "      <td>5.0</td>\n",
       "      <td>0.0</td>\n",
       "      <td>0.0</td>\n",
       "      <td>0.000000</td>\n",
       "      <td>0.0</td>\n",
       "      <td>0.00</td>\n",
       "      <td>0.000000</td>\n",
       "      <td>0.0</td>\n",
       "      <td>0.0</td>\n",
       "      <td>0.0</td>\n",
       "    </tr>\n",
       "    <tr>\n",
       "      <th>2</th>\n",
       "      <td>4.0</td>\n",
       "      <td>95498964.0</td>\n",
       "      <td>95499280.0</td>\n",
       "      <td>-316.0</td>\n",
       "      <td>0.0</td>\n",
       "      <td>0.0</td>\n",
       "      <td>0.0</td>\n",
       "      <td>0.0</td>\n",
       "      <td>1.0</td>\n",
       "      <td>0.117089</td>\n",
       "      <td>...</td>\n",
       "      <td>1.0</td>\n",
       "      <td>0.0</td>\n",
       "      <td>0.0</td>\n",
       "      <td>0.000000</td>\n",
       "      <td>0.0</td>\n",
       "      <td>0.00</td>\n",
       "      <td>0.000000</td>\n",
       "      <td>0.0</td>\n",
       "      <td>0.0</td>\n",
       "      <td>0.0</td>\n",
       "    </tr>\n",
       "  </tbody>\n",
       "</table>\n",
       "<p>3 rows × 75 columns</p>\n",
       "</div>"
      ],
      "text/plain": [
       "   chrom        start          end   Size  refN_cnt  refN_pct  segdup_cnt  \\\n",
       "0    5.0   15411043.0   15411104.0  -60.0       0.0       0.0         0.0   \n",
       "1    7.0  158112624.0  158112712.0  -88.0       0.0       0.0         0.0   \n",
       "2    4.0   95498964.0   95499280.0 -316.0       0.0       0.0         0.0   \n",
       "\n",
       "   segdup_pct  tandemrep_cnt  tandemrep_pct               ...                 \\\n",
       "0         0.0            1.0       1.000000               ...                  \n",
       "1         0.0            2.0       0.715909               ...                  \n",
       "2         0.0            1.0       0.117089               ...                  \n",
       "\n",
       "   TenX.HP2_amb_reason_orientation_orientation  \\\n",
       "0                                          5.0   \n",
       "1                                          5.0   \n",
       "2                                          1.0   \n",
       "\n",
       "   TenX.HP2_amb_reason_same_scores  TenX.HP2_ref_alnScore_mean  \\\n",
       "0                              1.0                       539.5   \n",
       "1                              0.0                         0.0   \n",
       "2                              0.0                         0.0   \n",
       "\n",
       "   TenX.HP2_ref_alnScore_std  TenX.HP2_ref_count  \\\n",
       "0                  16.039015                 4.0   \n",
       "1                   0.000000                 0.0   \n",
       "2                   0.000000                 0.0   \n",
       "\n",
       "   TenX.HP2_ref_insertSize_mean  TenX.HP2_ref_insertSize_std  \\\n",
       "0                        392.75                   176.628671   \n",
       "1                          0.00                     0.000000   \n",
       "2                          0.00                     0.000000   \n",
       "\n",
       "   TenX.HP2_ref_reason_alignmentScore  TenX.HP2_ref_reason_insertSizeScore  \\\n",
       "0                                 4.0                                  0.0   \n",
       "1                                 0.0                                  0.0   \n",
       "2                                 0.0                                  0.0   \n",
       "\n",
       "   TenX.HP2_ref_reason_orientation  \n",
       "0                              0.0  \n",
       "1                              0.0  \n",
       "2                              0.0  \n",
       "\n",
       "[3 rows x 75 columns]"
      ]
     },
     "execution_count": 97,
     "metadata": {},
     "output_type": "execute_result"
    }
   ],
   "source": [
    "dftest_header = list(df_test.columns.values)\n",
    "X2.columns = dftest_header\n",
    "X2.head(3)"
   ]
  },
  {
   "cell_type": "code",
   "execution_count": 98,
   "metadata": {},
   "outputs": [
    {
     "data": {
      "text/html": [
       "<div>\n",
       "<table border=\"1\" class=\"dataframe\">\n",
       "  <thead>\n",
       "    <tr style=\"text-align: right;\">\n",
       "      <th></th>\n",
       "      <th>chrom</th>\n",
       "      <th>start</th>\n",
       "      <th>end</th>\n",
       "      <th>Size</th>\n",
       "      <th>refN_cnt</th>\n",
       "      <th>refN_pct</th>\n",
       "      <th>segdup_cnt</th>\n",
       "      <th>segdup_pct</th>\n",
       "      <th>tandemrep_cnt</th>\n",
       "      <th>tandemrep_pct</th>\n",
       "      <th>...</th>\n",
       "      <th>TenX.HP2_amb_reason_orientation_orientation</th>\n",
       "      <th>TenX.HP2_amb_reason_same_scores</th>\n",
       "      <th>TenX.HP2_ref_alnScore_mean</th>\n",
       "      <th>TenX.HP2_ref_alnScore_std</th>\n",
       "      <th>TenX.HP2_ref_count</th>\n",
       "      <th>TenX.HP2_ref_insertSize_mean</th>\n",
       "      <th>TenX.HP2_ref_insertSize_std</th>\n",
       "      <th>TenX.HP2_ref_reason_alignmentScore</th>\n",
       "      <th>TenX.HP2_ref_reason_insertSizeScore</th>\n",
       "      <th>TenX.HP2_ref_reason_orientation</th>\n",
       "    </tr>\n",
       "  </thead>\n",
       "  <tbody>\n",
       "    <tr>\n",
       "      <th>0</th>\n",
       "      <td>5.0</td>\n",
       "      <td>15411043.0</td>\n",
       "      <td>15411104.0</td>\n",
       "      <td>-60.0</td>\n",
       "      <td>0.0</td>\n",
       "      <td>0.0</td>\n",
       "      <td>0.0</td>\n",
       "      <td>0.0</td>\n",
       "      <td>1.0</td>\n",
       "      <td>1.000000</td>\n",
       "      <td>...</td>\n",
       "      <td>5.0</td>\n",
       "      <td>1.0</td>\n",
       "      <td>539.5</td>\n",
       "      <td>16.039015</td>\n",
       "      <td>4.0</td>\n",
       "      <td>392.75</td>\n",
       "      <td>176.628671</td>\n",
       "      <td>4.0</td>\n",
       "      <td>0.0</td>\n",
       "      <td>0.0</td>\n",
       "    </tr>\n",
       "    <tr>\n",
       "      <th>1</th>\n",
       "      <td>7.0</td>\n",
       "      <td>158112624.0</td>\n",
       "      <td>158112712.0</td>\n",
       "      <td>-88.0</td>\n",
       "      <td>0.0</td>\n",
       "      <td>0.0</td>\n",
       "      <td>0.0</td>\n",
       "      <td>0.0</td>\n",
       "      <td>2.0</td>\n",
       "      <td>0.715909</td>\n",
       "      <td>...</td>\n",
       "      <td>5.0</td>\n",
       "      <td>0.0</td>\n",
       "      <td>0.0</td>\n",
       "      <td>0.000000</td>\n",
       "      <td>0.0</td>\n",
       "      <td>0.00</td>\n",
       "      <td>0.000000</td>\n",
       "      <td>0.0</td>\n",
       "      <td>0.0</td>\n",
       "      <td>0.0</td>\n",
       "    </tr>\n",
       "    <tr>\n",
       "      <th>2</th>\n",
       "      <td>4.0</td>\n",
       "      <td>95498964.0</td>\n",
       "      <td>95499280.0</td>\n",
       "      <td>-316.0</td>\n",
       "      <td>0.0</td>\n",
       "      <td>0.0</td>\n",
       "      <td>0.0</td>\n",
       "      <td>0.0</td>\n",
       "      <td>1.0</td>\n",
       "      <td>0.117089</td>\n",
       "      <td>...</td>\n",
       "      <td>1.0</td>\n",
       "      <td>0.0</td>\n",
       "      <td>0.0</td>\n",
       "      <td>0.000000</td>\n",
       "      <td>0.0</td>\n",
       "      <td>0.00</td>\n",
       "      <td>0.000000</td>\n",
       "      <td>0.0</td>\n",
       "      <td>0.0</td>\n",
       "      <td>0.0</td>\n",
       "    </tr>\n",
       "  </tbody>\n",
       "</table>\n",
       "<p>3 rows × 75 columns</p>\n",
       "</div>"
      ],
      "text/plain": [
       "   chrom        start          end   Size  refN_cnt  refN_pct  segdup_cnt  \\\n",
       "0    5.0   15411043.0   15411104.0  -60.0       0.0       0.0         0.0   \n",
       "1    7.0  158112624.0  158112712.0  -88.0       0.0       0.0         0.0   \n",
       "2    4.0   95498964.0   95499280.0 -316.0       0.0       0.0         0.0   \n",
       "\n",
       "   segdup_pct  tandemrep_cnt  tandemrep_pct               ...                 \\\n",
       "0         0.0            1.0       1.000000               ...                  \n",
       "1         0.0            2.0       0.715909               ...                  \n",
       "2         0.0            1.0       0.117089               ...                  \n",
       "\n",
       "   TenX.HP2_amb_reason_orientation_orientation  \\\n",
       "0                                          5.0   \n",
       "1                                          5.0   \n",
       "2                                          1.0   \n",
       "\n",
       "   TenX.HP2_amb_reason_same_scores  TenX.HP2_ref_alnScore_mean  \\\n",
       "0                              1.0                       539.5   \n",
       "1                              0.0                         0.0   \n",
       "2                              0.0                         0.0   \n",
       "\n",
       "   TenX.HP2_ref_alnScore_std  TenX.HP2_ref_count  \\\n",
       "0                  16.039015                 4.0   \n",
       "1                   0.000000                 0.0   \n",
       "2                   0.000000                 0.0   \n",
       "\n",
       "   TenX.HP2_ref_insertSize_mean  TenX.HP2_ref_insertSize_std  \\\n",
       "0                        392.75                   176.628671   \n",
       "1                          0.00                     0.000000   \n",
       "2                          0.00                     0.000000   \n",
       "\n",
       "   TenX.HP2_ref_reason_alignmentScore  TenX.HP2_ref_reason_insertSizeScore  \\\n",
       "0                                 4.0                                  0.0   \n",
       "1                                 0.0                                  0.0   \n",
       "2                                 0.0                                  0.0   \n",
       "\n",
       "   TenX.HP2_ref_reason_orientation  \n",
       "0                              0.0  \n",
       "1                              0.0  \n",
       "2                              0.0  \n",
       "\n",
       "[3 rows x 75 columns]"
      ]
     },
     "execution_count": 98,
     "metadata": {},
     "output_type": "execute_result"
    }
   ],
   "source": [
    "X3 = pd.DataFrame()\n",
    "X3 = X2\n",
    "X3.head(3)"
   ]
  },
  {
   "cell_type": "code",
   "execution_count": 99,
   "metadata": {
    "collapsed": true
   },
   "outputs": [],
   "source": [
    "# Order features\n",
    "X5 = X2.reindex_axis(sorted(X2.columns), axis=1)"
   ]
  },
  {
   "cell_type": "code",
   "execution_count": 100,
   "metadata": {},
   "outputs": [
    {
     "data": {
      "text/plain": [
       "array([ 0.,  1.,  1., ...,  1.,  0.,  0.])"
      ]
     },
     "execution_count": 100,
     "metadata": {},
     "output_type": "execute_result"
    }
   ],
   "source": [
    "model.predict(X5)"
   ]
  },
  {
   "cell_type": "markdown",
   "metadata": {},
   "source": [
    "<a id='prediction_step'></a>"
   ]
  },
  {
   "cell_type": "code",
   "execution_count": 101,
   "metadata": {
    "collapsed": true
   },
   "outputs": [],
   "source": [
    "pred = model.predict(X5)"
   ]
  },
  {
   "cell_type": "code",
   "execution_count": 102,
   "metadata": {
    "collapsed": true
   },
   "outputs": [],
   "source": [
    "pred_prob = model.predict_proba(X5)"
   ]
  },
  {
   "cell_type": "code",
   "execution_count": 103,
   "metadata": {
    "collapsed": true
   },
   "outputs": [],
   "source": [
    "X5['predicted_label'] = pred\n",
    "X5['chrom'] = df_test_2['chrom']\n",
    "X5['start'] = df_test_2['start']\n",
    "X5['end'] = df_test_2['end']\n",
    "X5['Size'] = df_test_2['Size']\n",
    "X5['GTcons'] = df_test_2['GTcons']\n",
    "X5['GTsupp'] = df_test_2['GTsupp']"
   ]
  },
  {
   "cell_type": "code",
   "execution_count": 105,
   "metadata": {},
   "outputs": [],
   "source": [
    "X6 = pd.concat([X5, pd.DataFrame(pred_prob, columns=['1','2','3', '4'])])"
   ]
  },
  {
   "cell_type": "code",
   "execution_count": 106,
   "metadata": {
    "collapsed": true
   },
   "outputs": [],
   "source": [
    "X6.to_csv('10X_pred_prob_GTcons_DEL_SVanalyzer_.csv', index=False)"
   ]
  },
  {
   "cell_type": "code",
   "execution_count": null,
   "metadata": {
    "collapsed": true
   },
   "outputs": [],
   "source": [
    "#Note: Reformat X6 csv"
   ]
  },
  {
   "cell_type": "code",
   "execution_count": 107,
   "metadata": {
    "collapsed": true
   },
   "outputs": [],
   "source": [
    "X6 = pd.read_csv('/Users/lmc2/NIST/Notebooks/SVanalyzer_ML/DEL/results/10X/10X_pred_prob_GTcons_DEL_SVanalyzer_.csv')"
   ]
  },
  {
   "cell_type": "code",
   "execution_count": 108,
   "metadata": {
    "collapsed": true
   },
   "outputs": [],
   "source": [
    "X6.rename(columns={'1': 'Homozygous_Reference'}, inplace=True)\n",
    "X6.rename(columns={'2': 'Heterozygous_Variant'}, inplace=True)\n",
    "X6.rename(columns={'3': 'Homozygous_Variant'}, inplace=True)\n",
    "X6.rename(columns={'predicted_label': '10X_predicted_label'}, inplace=True)"
   ]
  },
  {
   "cell_type": "code",
   "execution_count": 109,
   "metadata": {},
   "outputs": [
    {
     "data": {
      "text/html": [
       "<div>\n",
       "<table border=\"1\" class=\"dataframe\">\n",
       "  <thead>\n",
       "    <tr style=\"text-align: right;\">\n",
       "      <th></th>\n",
       "      <th>Homozygous_Reference</th>\n",
       "      <th>Heterozygous_Variant</th>\n",
       "      <th>Homozygous_Variant</th>\n",
       "      <th>4</th>\n",
       "      <th>GTcons</th>\n",
       "      <th>GTsupp</th>\n",
       "      <th>Size</th>\n",
       "      <th>TenX.GT</th>\n",
       "      <th>TenX.HP1_alt_alnScore_mean</th>\n",
       "      <th>TenX.HP1_alt_alnScore_std</th>\n",
       "      <th>...</th>\n",
       "      <th>chrom</th>\n",
       "      <th>end</th>\n",
       "      <th>10X_predicted_label</th>\n",
       "      <th>refN_cnt</th>\n",
       "      <th>refN_pct</th>\n",
       "      <th>segdup_cnt</th>\n",
       "      <th>segdup_pct</th>\n",
       "      <th>start</th>\n",
       "      <th>tandemrep_cnt</th>\n",
       "      <th>tandemrep_pct</th>\n",
       "    </tr>\n",
       "  </thead>\n",
       "  <tbody>\n",
       "    <tr>\n",
       "      <th>0</th>\n",
       "      <td>0.1</td>\n",
       "      <td>0.6</td>\n",
       "      <td>0.2</td>\n",
       "      <td>0.1</td>\n",
       "      <td>-1</td>\n",
       "      <td>0</td>\n",
       "      <td>-60</td>\n",
       "      <td>-1.0</td>\n",
       "      <td>537.000000</td>\n",
       "      <td>0.000000</td>\n",
       "      <td>...</td>\n",
       "      <td>5</td>\n",
       "      <td>15411104</td>\n",
       "      <td>0</td>\n",
       "      <td>0</td>\n",
       "      <td>0</td>\n",
       "      <td>0</td>\n",
       "      <td>0.0</td>\n",
       "      <td>15411043</td>\n",
       "      <td>1</td>\n",
       "      <td>1.000000</td>\n",
       "    </tr>\n",
       "    <tr>\n",
       "      <th>1</th>\n",
       "      <td>0.2</td>\n",
       "      <td>0.1</td>\n",
       "      <td>0.4</td>\n",
       "      <td>0.3</td>\n",
       "      <td>-1</td>\n",
       "      <td>0</td>\n",
       "      <td>-88</td>\n",
       "      <td>-1.0</td>\n",
       "      <td>0.000000</td>\n",
       "      <td>0.000000</td>\n",
       "      <td>...</td>\n",
       "      <td>7</td>\n",
       "      <td>158112712</td>\n",
       "      <td>1</td>\n",
       "      <td>0</td>\n",
       "      <td>0</td>\n",
       "      <td>0</td>\n",
       "      <td>0.0</td>\n",
       "      <td>158112624</td>\n",
       "      <td>2</td>\n",
       "      <td>0.715909</td>\n",
       "    </tr>\n",
       "    <tr>\n",
       "      <th>2</th>\n",
       "      <td>0.0</td>\n",
       "      <td>0.0</td>\n",
       "      <td>0.9</td>\n",
       "      <td>0.1</td>\n",
       "      <td>2</td>\n",
       "      <td>1</td>\n",
       "      <td>-316</td>\n",
       "      <td>2.0</td>\n",
       "      <td>541.684211</td>\n",
       "      <td>14.404139</td>\n",
       "      <td>...</td>\n",
       "      <td>4</td>\n",
       "      <td>95499280</td>\n",
       "      <td>1</td>\n",
       "      <td>0</td>\n",
       "      <td>0</td>\n",
       "      <td>0</td>\n",
       "      <td>0.0</td>\n",
       "      <td>95498964</td>\n",
       "      <td>1</td>\n",
       "      <td>0.117089</td>\n",
       "    </tr>\n",
       "  </tbody>\n",
       "</table>\n",
       "<p>3 rows × 82 columns</p>\n",
       "</div>"
      ],
      "text/plain": [
       "   Homozygous_Reference  Heterozygous_Variant  Homozygous_Variant    4  \\\n",
       "0                   0.1                   0.6                 0.2  0.1   \n",
       "1                   0.2                   0.1                 0.4  0.3   \n",
       "2                   0.0                   0.0                 0.9  0.1   \n",
       "\n",
       "   GTcons  GTsupp  Size  TenX.GT  TenX.HP1_alt_alnScore_mean  \\\n",
       "0      -1       0   -60     -1.0                  537.000000   \n",
       "1      -1       0   -88     -1.0                    0.000000   \n",
       "2       2       1  -316      2.0                  541.684211   \n",
       "\n",
       "   TenX.HP1_alt_alnScore_std      ...        chrom        end  \\\n",
       "0                   0.000000      ...            5   15411104   \n",
       "1                   0.000000      ...            7  158112712   \n",
       "2                  14.404139      ...            4   95499280   \n",
       "\n",
       "   10X_predicted_label  refN_cnt  refN_pct  segdup_cnt  segdup_pct      start  \\\n",
       "0                    0         0         0           0         0.0   15411043   \n",
       "1                    1         0         0           0         0.0  158112624   \n",
       "2                    1         0         0           0         0.0   95498964   \n",
       "\n",
       "   tandemrep_cnt  tandemrep_pct  \n",
       "0              1       1.000000  \n",
       "1              2       0.715909  \n",
       "2              1       0.117089  \n",
       "\n",
       "[3 rows x 82 columns]"
      ]
     },
     "execution_count": 109,
     "metadata": {},
     "output_type": "execute_result"
    }
   ],
   "source": [
    "X6.head(3)"
   ]
  },
  {
   "cell_type": "code",
   "execution_count": 110,
   "metadata": {
    "collapsed": true
   },
   "outputs": [],
   "source": [
    "X6.to_csv('/Volumes/lesleydata/SVanalyzer_ML/Sept122017/Step3_ML/results/10X_final_GTcons_df_DEL_SVanalyzer.csv', index=False)"
   ]
  },
  {
   "cell_type": "markdown",
   "metadata": {},
   "source": [
    "***\n",
    "Label Analysis\n",
    "***"
   ]
  },
  {
   "cell_type": "markdown",
   "metadata": {},
   "source": [
    "Description:\n",
    "  * The [random forest(RF) model](#train_test) was trained on svanalyzer data. The trained model was used to predict consensus GT labels for the 5000 deletions that were randomly selected from the union_refalt vcf. The following is a comparison of model predicted labels [Conesus GT] to consensus genotype generated by the R script for the 5000 randomly selected datapoints from union_refalt.vcf "
   ]
  },
  {
   "cell_type": "code",
   "execution_count": 111,
   "metadata": {},
   "outputs": [
    {
     "name": "stdout",
     "output_type": "stream",
     "text": [
      "[[ 122  368  921   80]\n",
      " [  38  809   59   15]\n",
      " [ 184  169 1467   92]\n",
      " [  42   34  523   72]]\n"
     ]
    }
   ],
   "source": [
    "from sklearn.metrics import confusion_matrix\n",
    "consensus_GT = X6['GTcons']\n",
    "predict = X6['10X_predicted_label']\n",
    "print(confusion_matrix(consensus_GT, predict))"
   ]
  },
  {
   "cell_type": "code",
   "execution_count": 113,
   "metadata": {
    "collapsed": true
   },
   "outputs": [],
   "source": [
    "X6['GTcons'].replace(0, 'Homozygous_Reference', inplace=True)\n",
    "X6['GTcons'].replace(1, 'Heterozygous_Variant', inplace=True)\n",
    "X6['GTcons'].replace(2, 'Homozygous_Variant', inplace=True)\n",
    "X6['GTcons'].replace(-1, 'Unknown', inplace=True)\n",
    "X6['10X_predicted_label'].replace(-1.0, 'Unknown', inplace=True)\n",
    "X6['10X_predicted_label'].replace(0.0, 'Homozygous_Reference', inplace=True)\n",
    "X6['10X_predicted_label'].replace(1.0, 'Heterozygous_Variant', inplace=True)\n",
    "X6['10X_predicted_label'].replace(2.0, 'Homozygous_Variant', inplace=True)"
   ]
  },
  {
   "cell_type": "code",
   "execution_count": 114,
   "metadata": {},
   "outputs": [
    {
     "data": {
      "text/html": [
       "<div>\n",
       "<table border=\"1\" class=\"dataframe\">\n",
       "  <thead>\n",
       "    <tr style=\"text-align: right;\">\n",
       "      <th>Predicted</th>\n",
       "      <th>Heterozygous_Variant</th>\n",
       "      <th>Homozygous_Reference</th>\n",
       "      <th>Homozygous_Variant</th>\n",
       "      <th>Unknown</th>\n",
       "      <th>All</th>\n",
       "    </tr>\n",
       "    <tr>\n",
       "      <th>True</th>\n",
       "      <th></th>\n",
       "      <th></th>\n",
       "      <th></th>\n",
       "      <th></th>\n",
       "      <th></th>\n",
       "    </tr>\n",
       "  </thead>\n",
       "  <tbody>\n",
       "    <tr>\n",
       "      <th>Heterozygous_Variant</th>\n",
       "      <td>1467</td>\n",
       "      <td>169</td>\n",
       "      <td>92</td>\n",
       "      <td>184</td>\n",
       "      <td>1912</td>\n",
       "    </tr>\n",
       "    <tr>\n",
       "      <th>Homozygous_Reference</th>\n",
       "      <td>59</td>\n",
       "      <td>809</td>\n",
       "      <td>15</td>\n",
       "      <td>38</td>\n",
       "      <td>921</td>\n",
       "    </tr>\n",
       "    <tr>\n",
       "      <th>Homozygous_Variant</th>\n",
       "      <td>523</td>\n",
       "      <td>34</td>\n",
       "      <td>72</td>\n",
       "      <td>42</td>\n",
       "      <td>671</td>\n",
       "    </tr>\n",
       "    <tr>\n",
       "      <th>Unknown</th>\n",
       "      <td>921</td>\n",
       "      <td>368</td>\n",
       "      <td>80</td>\n",
       "      <td>122</td>\n",
       "      <td>1491</td>\n",
       "    </tr>\n",
       "    <tr>\n",
       "      <th>All</th>\n",
       "      <td>2970</td>\n",
       "      <td>1380</td>\n",
       "      <td>259</td>\n",
       "      <td>386</td>\n",
       "      <td>4995</td>\n",
       "    </tr>\n",
       "  </tbody>\n",
       "</table>\n",
       "</div>"
      ],
      "text/plain": [
       "Predicted             Heterozygous_Variant  Homozygous_Reference  \\\n",
       "True                                                               \n",
       "Heterozygous_Variant                  1467                   169   \n",
       "Homozygous_Reference                    59                   809   \n",
       "Homozygous_Variant                     523                    34   \n",
       "Unknown                                921                   368   \n",
       "All                                   2970                  1380   \n",
       "\n",
       "Predicted             Homozygous_Variant  Unknown   All  \n",
       "True                                                     \n",
       "Heterozygous_Variant                  92      184  1912  \n",
       "Homozygous_Reference                  15       38   921  \n",
       "Homozygous_Variant                    72       42   671  \n",
       "Unknown                               80      122  1491  \n",
       "All                                  259      386  4995  "
      ]
     },
     "execution_count": 114,
     "metadata": {},
     "output_type": "execute_result"
    }
   ],
   "source": [
    "pd.crosstab(consensus_GT, predict, rownames=['True'], colnames=['Predicted'], margins=True)"
   ]
  },
  {
   "cell_type": "code",
   "execution_count": 115,
   "metadata": {},
   "outputs": [
    {
     "name": "stdout",
     "output_type": "stream",
     "text": [
      "Precision score of the prediction subset: 0.494\n"
     ]
    }
   ],
   "source": [
    "print('Precision score of the prediction subset: {:.3f}'.format(precision_score(consensus_GT, predict, average='micro'))) "
   ]
  },
  {
   "cell_type": "markdown",
   "metadata": {},
   "source": [
    "** High Confidence Label Analysis**\n",
    "* **Reminder:** The labels predicted by the model are the following consensus genotype:\n",
    "    * Homozygous Reference: 0 \n",
    "    * Heterozygous Variant: 1 \n",
    "    * Homozygous Variant: 2 \n",
    "* Here **high confidence labels** are the labels predicted by the model that were also assigned a predict probability of either 0.9 or 1\n",
    "* The following is an analysis of predicted svanalyzer labels with predict probability >0.9"
   ]
  },
  {
   "cell_type": "code",
   "execution_count": 116,
   "metadata": {
    "collapsed": true
   },
   "outputs": [],
   "source": [
    "high_conf_labels = X6[(X6['Homozygous_Reference'] == 1) | (X6['Homozygous_Reference'] == 0.9) | (X6['Heterozygous_Variant'] == 1) | (X6['Heterozygous_Variant'] == 0.9) | (X6['Homozygous_Variant'] == 1) | (X6['Homozygous_Variant'] == 0.9)]\n"
   ]
  },
  {
   "cell_type": "code",
   "execution_count": 117,
   "metadata": {},
   "outputs": [
    {
     "data": {
      "text/html": [
       "<div>\n",
       "<table border=\"1\" class=\"dataframe\">\n",
       "  <thead>\n",
       "    <tr style=\"text-align: right;\">\n",
       "      <th>Predicted</th>\n",
       "      <th>Heterozygous_Variant</th>\n",
       "      <th>Homozygous_Reference</th>\n",
       "      <th>Unknown</th>\n",
       "      <th>All</th>\n",
       "    </tr>\n",
       "    <tr>\n",
       "      <th>True</th>\n",
       "      <th></th>\n",
       "      <th></th>\n",
       "      <th></th>\n",
       "      <th></th>\n",
       "    </tr>\n",
       "  </thead>\n",
       "  <tbody>\n",
       "    <tr>\n",
       "      <th>Heterozygous_Variant</th>\n",
       "      <td>113</td>\n",
       "      <td>37</td>\n",
       "      <td>1</td>\n",
       "      <td>151</td>\n",
       "    </tr>\n",
       "    <tr>\n",
       "      <th>Homozygous_Reference</th>\n",
       "      <td>3</td>\n",
       "      <td>485</td>\n",
       "      <td>0</td>\n",
       "      <td>488</td>\n",
       "    </tr>\n",
       "    <tr>\n",
       "      <th>Homozygous_Variant</th>\n",
       "      <td>33</td>\n",
       "      <td>1</td>\n",
       "      <td>0</td>\n",
       "      <td>34</td>\n",
       "    </tr>\n",
       "    <tr>\n",
       "      <th>Unknown</th>\n",
       "      <td>40</td>\n",
       "      <td>51</td>\n",
       "      <td>0</td>\n",
       "      <td>91</td>\n",
       "    </tr>\n",
       "    <tr>\n",
       "      <th>All</th>\n",
       "      <td>189</td>\n",
       "      <td>574</td>\n",
       "      <td>1</td>\n",
       "      <td>764</td>\n",
       "    </tr>\n",
       "  </tbody>\n",
       "</table>\n",
       "</div>"
      ],
      "text/plain": [
       "Predicted             Heterozygous_Variant  Homozygous_Reference  Unknown  All\n",
       "True                                                                          \n",
       "Heterozygous_Variant                   113                    37        1  151\n",
       "Homozygous_Reference                     3                   485        0  488\n",
       "Homozygous_Variant                      33                     1        0   34\n",
       "Unknown                                 40                    51        0   91\n",
       "All                                    189                   574        1  764"
      ]
     },
     "execution_count": 117,
     "metadata": {},
     "output_type": "execute_result"
    }
   ],
   "source": [
    "consensus_GT = high_conf_labels['GTcons']\n",
    "predict = high_conf_labels['10X_predicted_label']\n",
    "pd.crosstab(consensus_GT, predict, rownames=['True'], colnames=['Predicted'], margins=True)"
   ]
  },
  {
   "cell_type": "markdown",
   "metadata": {},
   "source": [
    "**NOTE:** There are only 2 Homozygous Reference examples. This may stem from the model being trained on 154 Hom Var examples. Next step, choose a training set with more Hom_Var examples"
   ]
  },
  {
   "cell_type": "code",
   "execution_count": 118,
   "metadata": {},
   "outputs": [
    {
     "name": "stdout",
     "output_type": "stream",
     "text": [
      "                      precision    recall  f1-score   support\n",
      "\n",
      "Heterozygous_Variant       0.60      0.75      0.66       151\n",
      "Homozygous_Reference       0.84      0.99      0.91       488\n",
      "  Homozygous_Variant       0.00      0.00      0.00        34\n",
      "             Unknown       0.00      0.00      0.00        91\n",
      "\n",
      "         avg / total       0.66      0.78      0.71       764\n",
      "\n"
     ]
    },
    {
     "name": "stderr",
     "output_type": "stream",
     "text": [
      "/Users/lmc2/anaconda/envs/NIHFAES/lib/python3.5/site-packages/sklearn/metrics/classification.py:1113: UndefinedMetricWarning:\n",
      "\n",
      "Precision and F-score are ill-defined and being set to 0.0 in labels with no predicted samples.\n",
      "\n"
     ]
    }
   ],
   "source": [
    "from sklearn.metrics import classification_report\n",
    "print(classification_report(consensus_GT, predict))"
   ]
  },
  {
   "cell_type": "markdown",
   "metadata": {},
   "source": [
    "***\n",
    "Compare to crowdsourced results\n",
    "***"
   ]
  },
  {
   "cell_type": "markdown",
   "metadata": {},
   "source": [
    "#### 10X: Crowdsourced (Crowdvariant) Results\n",
    "![Figure1](https://raw.githubusercontent.com/lesleymaraina/NIST/master/Notebooks/SVanalyzer_ML/DEL/images/10X_CrowdVar1.png)"
   ]
  },
  {
   "cell_type": "markdown",
   "metadata": {},
   "source": [
    "![Figure1](https://raw.githubusercontent.com/lesleymaraina/NIST/master/Notebooks/SVanalyzer_ML/DEL/images/10X_CrowdVar2.png)"
   ]
  },
  {
   "cell_type": "markdown",
   "metadata": {},
   "source": [
    "![Figure1](https://raw.githubusercontent.com/lesleymaraina/NIST/master/Notebooks/SVanalyzer_ML/DEL/images/MP_CrowdVar3.png)"
   ]
  }
 ],
 "metadata": {
  "kernelspec": {
   "display_name": "Python [NIHFAES]",
   "language": "python",
   "name": "Python [NIHFAES]"
  },
  "language_info": {
   "codemirror_mode": {
    "name": "ipython",
    "version": 3
   },
   "file_extension": ".py",
   "mimetype": "text/x-python",
   "name": "python",
   "nbconvert_exporter": "python",
   "pygments_lexer": "ipython3",
   "version": "3.5.2"
  }
 },
 "nbformat": 4,
 "nbformat_minor": 2
}
