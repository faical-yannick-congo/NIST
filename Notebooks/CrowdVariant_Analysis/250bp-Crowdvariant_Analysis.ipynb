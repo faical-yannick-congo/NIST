{
 "cells": [
  {
   "cell_type": "markdown",
   "metadata": {},
   "source": [
    "**Desription**:\n",
    "    \n",
    "250bp \n",
    "\n",
    "**NOTE:** CrowdVar Size Range\n",
    "\n",
    "The following notebook is a revised version of the [Crowdvariant analysis notebook](https://github.com/lesleymaraina/NIST/blob/master/Notebooks/CrowdVariant_Analysis/CrowdVariantAnalysis%20-%20Machine%20Learning%5BAll%20Technologies%5D.ipynb). \n",
    "\n",
    "In the first part of this notebook, a random forest classifier was trained on crowdsourced[CrowdVariant](https://github.com/lesleymaraina/NIST/blob/master/Notebooks/CrowdVariant_Analysis/CrowdVariantAnalysis%20-%20Data%20Collection.ipynb) data for HG002 Deletions. \n",
    "\n",
    "In the second part of this notebook, the trained randfom forest classifier is then used to predict labels for a new set of randomly selected HG002 Deletions."
   ]
  },
  {
   "cell_type": "code",
   "execution_count": 53,
   "metadata": {},
   "outputs": [],
   "source": [
    "\"\"\"\n",
    "Imports\n",
    "\"\"\"\n",
    "import pandas as pd\n",
    "import numpy as np\n",
    "from fancyimpute import KNN\n",
    "import matplotlib.pyplot as plt\n",
    "from sklearn import preprocessing\n",
    "from sklearn.preprocessing import LabelEncoder\n",
    "from sklearn.model_selection import LeaveOneOut\n",
    "from scipy.stats import ks_2samp\n",
    "from scipy import stats\n",
    "from matplotlib import pyplot\n",
    "from sklearn import preprocessing\n",
    "from scipy.linalg import svd\n",
    "from sklearn.decomposition import TruncatedSVD\n",
    "from sklearn.ensemble import RandomForestClassifier\n",
    "from sklearn.metrics import roc_auc_score\n",
    "import seaborn as sns\n",
    "from sklearn.manifold import TSNE\n",
    "from sklearn.decomposition import PCA as sklearnPCA\n",
    "import plotly.plotly as py\n",
    "from sklearn.cluster import DBSCAN\n",
    "from sklearn.model_selection import train_test_split\n",
    "from sklearn import metrics\n",
    "from sklearn.grid_search import GridSearchCV\n",
    "from sklearn.metrics import f1_score, precision_score\n",
    "from sklearn import preprocessing\n",
    "from ggplot import *\n",
    "from bokeh.charts import TimeSeries\n",
    "from bokeh.models import HoverTool\n",
    "from bokeh.plotting import show\n",
    "from bokeh.charts import Scatter, Histogram, output_file, show\n",
    "from bokeh.plotting import figure, show, output_file, ColumnDataSource\n",
    "from bokeh.io import output_notebook\n",
    "from bokeh.charts import Bar, output_file, show\n",
    "import bokeh.palettes as palettes\n",
    "from bokeh.models import HoverTool, BoxSelectTool, Legend\n",
    "from sklearn import (manifold, datasets, decomposition, ensemble,\n",
    "                     discriminant_analysis, random_projection)"
   ]
  },
  {
   "cell_type": "markdown",
   "metadata": {},
   "source": [
    "***\n",
    "Load Data\n",
    "***\n",
    "Restructure features so that the training dataset and prediction dataset have all of the same features"
   ]
  },
  {
   "cell_type": "code",
   "execution_count": 60,
   "metadata": {
    "collapsed": true
   },
   "outputs": [],
   "source": [
    "### Import Data\n",
    "df_crowd = pd.read_csv('/Users/lmc2/NIST/Notebooks/CrowdVariant/tech_sep/crowd_var/CrowdVar_250bp.csv')\n",
    "### Copy data in new dataframe as a later reference\n",
    "df_crowd_2 = pd.read_csv('/Users/lmc2/NIST/Notebooks/CrowdVariant/tech_sep/crowd_var/CrowdVar_250bp.csv')"
   ]
  },
  {
   "cell_type": "code",
   "execution_count": 61,
   "metadata": {},
   "outputs": [
    {
     "data": {
      "text/html": [
       "<div>\n",
       "<table border=\"1\" class=\"dataframe\">\n",
       "  <thead>\n",
       "    <tr style=\"text-align: right;\">\n",
       "      <th></th>\n",
       "      <th>chrom</th>\n",
       "      <th>start</th>\n",
       "      <th>end</th>\n",
       "      <th>sample</th>\n",
       "      <th>Ill250.alt_alnScore_mean</th>\n",
       "      <th>Ill250.alt_alnScore_std</th>\n",
       "      <th>Ill250.alt_count</th>\n",
       "      <th>Ill250.alt_insertSize_mean</th>\n",
       "      <th>Ill250.alt_insertSize_std</th>\n",
       "      <th>Ill250.alt_reason_alignmentScore</th>\n",
       "      <th>...</th>\n",
       "      <th>tandemrep_cnt</th>\n",
       "      <th>tandemrep_pct</th>\n",
       "      <th>segdup_cnt</th>\n",
       "      <th>segdup_pct</th>\n",
       "      <th>refN_cnt</th>\n",
       "      <th>refN_pct</th>\n",
       "      <th>Label</th>\n",
       "      <th>CN0_prob</th>\n",
       "      <th>CN1_prob</th>\n",
       "      <th>CN2_prob</th>\n",
       "    </tr>\n",
       "  </thead>\n",
       "  <tbody>\n",
       "    <tr>\n",
       "      <th>0</th>\n",
       "      <td>1</td>\n",
       "      <td>187464828</td>\n",
       "      <td>187466479</td>\n",
       "      <td>HG002</td>\n",
       "      <td>0.0</td>\n",
       "      <td>0.000000</td>\n",
       "      <td>0</td>\n",
       "      <td>0.0</td>\n",
       "      <td>0.000000</td>\n",
       "      <td>0</td>\n",
       "      <td>...</td>\n",
       "      <td>8</td>\n",
       "      <td>0.096911</td>\n",
       "      <td>0</td>\n",
       "      <td>0.0</td>\n",
       "      <td>0</td>\n",
       "      <td>0</td>\n",
       "      <td>1</td>\n",
       "      <td>0.00</td>\n",
       "      <td>0.91</td>\n",
       "      <td>0.09</td>\n",
       "    </tr>\n",
       "    <tr>\n",
       "      <th>1</th>\n",
       "      <td>1</td>\n",
       "      <td>33156824</td>\n",
       "      <td>33157000</td>\n",
       "      <td>HG002</td>\n",
       "      <td>887.0</td>\n",
       "      <td>44.298984</td>\n",
       "      <td>5</td>\n",
       "      <td>356.4</td>\n",
       "      <td>73.499932</td>\n",
       "      <td>4</td>\n",
       "      <td>...</td>\n",
       "      <td>2</td>\n",
       "      <td>0.221591</td>\n",
       "      <td>0</td>\n",
       "      <td>0.0</td>\n",
       "      <td>0</td>\n",
       "      <td>0</td>\n",
       "      <td>1</td>\n",
       "      <td>0.04</td>\n",
       "      <td>0.91</td>\n",
       "      <td>0.05</td>\n",
       "    </tr>\n",
       "    <tr>\n",
       "      <th>2</th>\n",
       "      <td>1</td>\n",
       "      <td>53594099</td>\n",
       "      <td>53595428</td>\n",
       "      <td>HG002</td>\n",
       "      <td>912.2</td>\n",
       "      <td>40.041978</td>\n",
       "      <td>5</td>\n",
       "      <td>381.2</td>\n",
       "      <td>67.957045</td>\n",
       "      <td>5</td>\n",
       "      <td>...</td>\n",
       "      <td>3</td>\n",
       "      <td>0.059443</td>\n",
       "      <td>0</td>\n",
       "      <td>0.0</td>\n",
       "      <td>0</td>\n",
       "      <td>0</td>\n",
       "      <td>0</td>\n",
       "      <td>0.96</td>\n",
       "      <td>0.04</td>\n",
       "      <td>0.00</td>\n",
       "    </tr>\n",
       "  </tbody>\n",
       "</table>\n",
       "<p>3 rows × 48 columns</p>\n",
       "</div>"
      ],
      "text/plain": [
       "   chrom      start        end sample  Ill250.alt_alnScore_mean  \\\n",
       "0      1  187464828  187466479  HG002                       0.0   \n",
       "1      1   33156824   33157000  HG002                     887.0   \n",
       "2      1   53594099   53595428  HG002                     912.2   \n",
       "\n",
       "   Ill250.alt_alnScore_std  Ill250.alt_count  Ill250.alt_insertSize_mean  \\\n",
       "0                 0.000000                 0                         0.0   \n",
       "1                44.298984                 5                       356.4   \n",
       "2                40.041978                 5                       381.2   \n",
       "\n",
       "   Ill250.alt_insertSize_std  Ill250.alt_reason_alignmentScore    ...     \\\n",
       "0                   0.000000                                 0    ...      \n",
       "1                  73.499932                                 4    ...      \n",
       "2                  67.957045                                 5    ...      \n",
       "\n",
       "   tandemrep_cnt  tandemrep_pct  segdup_cnt  segdup_pct  refN_cnt  refN_pct  \\\n",
       "0              8       0.096911           0         0.0         0         0   \n",
       "1              2       0.221591           0         0.0         0         0   \n",
       "2              3       0.059443           0         0.0         0         0   \n",
       "\n",
       "   Label  CN0_prob  CN1_prob  CN2_prob  \n",
       "0      1      0.00      0.91      0.09  \n",
       "1      1      0.04      0.91      0.05  \n",
       "2      0      0.96      0.04      0.00  \n",
       "\n",
       "[3 rows x 48 columns]"
      ]
     },
     "execution_count": 61,
     "metadata": {},
     "output_type": "execute_result"
    }
   ],
   "source": [
    "df_crowd.head(3)"
   ]
  },
  {
   "cell_type": "code",
   "execution_count": 115,
   "metadata": {
    "collapsed": true
   },
   "outputs": [],
   "source": [
    "# Read in HG002 DEL dataframe\n",
    "HG002_pred = pd.read_csv('/Users/lmc2/NIST/Notebooks/CrowdVariant/tech_sep/svviz/svviz_250bp.csv')\n",
    "HG002_pred_2 = pd.read_csv('/Users/lmc2/NIST/Notebooks/CrowdVariant/tech_sep/svviz/svviz_250bp.csv')"
   ]
  },
  {
   "cell_type": "code",
   "execution_count": 69,
   "metadata": {},
   "outputs": [
    {
     "data": {
      "text/plain": [
       "{'Label'}"
      ]
     },
     "execution_count": 69,
     "metadata": {},
     "output_type": "execute_result"
    }
   ],
   "source": [
    "# Store header names in lists and find names that are NOT contained in BOTH lists\n",
    "c = list(df_crowd.columns.values)\n",
    "d = list(HG002_pred.columns.values)\n",
    "set(c) - set(d)"
   ]
  },
  {
   "cell_type": "code",
   "execution_count": 64,
   "metadata": {
    "collapsed": true
   },
   "outputs": [],
   "source": [
    "# a = ['chrom','start','end','sample','Ill300x.alt_alnScore_mean','Ill300x.alt_alnScore_std','Ill300x.alt_count','Ill300x.alt_insertSize_mean','Ill300x.alt_insertSize_std','Ill300x.alt_reason_alignmentScore','Ill300x.alt_reason_insertSizeScore','Ill300x.alt_reason_orientation','Ill300x.amb_alnScore_mean','Ill300x.amb_alnScore_std','Ill300x.amb_count','Ill300x.amb_insertSize_mean','Ill300x.amb_insertSize_std','Ill300x.amb_reason_alignmentScore_alignmentScore','Ill300x.amb_reason_alignmentScore_orientation','Ill300x.amb_reason_flanking','Ill300x.amb_reason_insertSizeScore_alignmentScore','Ill300x.amb_reason_insertSizeScore_insertSizeScore','Ill300x.amb_reason_multimapping','Ill300x.amb_reason_orientation_alignmentScore','Ill300x.amb_reason_orientation_orientation','Ill300x.amb_reason_same_scores','Ill300x.ref_alnScore_mean','Ill300x.ref_alnScore_std','Ill300x.ref_count','Ill300x.ref_insertSize_mean','Ill300x.ref_insertSize_std','Ill300x.ref_reason_alignmentScore','Ill300x.ref_reason_insertSizeScore','Ill300x.ref_reason_orientation','Ill300x.GT','Ill250.alt_alnScore_mean','Ill250.alt_alnScore_std','Ill250.alt_count','Ill250.alt_insertSize_mean','Ill250.alt_insertSize_std','Ill250.alt_reason_alignmentScore','Ill250.alt_reason_insertSizeScore','Ill250.alt_reason_orientation','Ill250.amb_alnScore_mean','Ill250.amb_alnScore_std','Ill250.amb_count','Ill250.amb_insertSize_mean','Ill250.amb_insertSize_std','Ill250.amb_reason_alignmentScore_alignmentScore','Ill250.amb_reason_alignmentScore_orientation','Ill250.amb_reason_flanking','Ill250.amb_reason_insertSizeScore_alignmentScore','Ill250.amb_reason_insertSizeScore_insertSizeScore','Ill250.amb_reason_multimapping','Ill250.amb_reason_orientation_alignmentScore','Ill250.amb_reason_orientation_orientation','Ill250.amb_reason_same_scores','Ill250.ref_alnScore_mean','Ill250.ref_alnScore_std','Ill250.ref_count','Ill250.ref_insertSize_mean','Ill250.ref_insertSize_std','Ill250.ref_reason_alignmentScore','Ill250.ref_reason_orientation','Ill250.GT','IllMP.alt_alnScore_mean','IllMP.alt_alnScore_std','IllMP.alt_count','IllMP.alt_insertSize_mean','IllMP.alt_insertSize_std','IllMP.alt_reason_alignmentScore','IllMP.alt_reason_insertSizeScore','IllMP.alt_reason_orientation','IllMP.amb_alnScore_mean','IllMP.amb_alnScore_std','IllMP.amb_count','IllMP.amb_insertSize_mean','IllMP.amb_insertSize_std','IllMP.amb_reason_alignmentScore_alignmentScore','IllMP.amb_reason_alignmentScore_orientation','IllMP.amb_reason_flanking','IllMP.amb_reason_insertSizeScore_insertSizeScore','IllMP.amb_reason_multimapping','IllMP.amb_reason_orientation_alignmentScore','IllMP.amb_reason_orientation_orientation','IllMP.amb_reason_same_scores','IllMP.ref_alnScore_mean','IllMP.ref_alnScore_std','IllMP.ref_count','IllMP.ref_insertSize_mean','IllMP.ref_insertSize_std','IllMP.ref_reason_alignmentScore','IllMP.ref_reason_insertSizeScore','IllMP.ref_reason_orientation','IllMP.GT','pacbio.alt_alnScore_mean','pacbio.alt_alnScore_std','pacbio.alt_count','pacbio.alt_insertSize_mean','pacbio.alt_insertSize_std','pacbio.alt_reason_alignmentScore','pacbio.amb_alnScore_mean','pacbio.amb_alnScore_std','pacbio.amb_count','pacbio.amb_insertSize_mean','pacbio.amb_insertSize_std','pacbio.amb_reason_alignmentScore_alignmentScore','pacbio.amb_reason_flanking','pacbio.amb_reason_multimapping','pacbio.amb_reason_same_scores','pacbio.ref_alnScore_mean','pacbio.ref_alnScore_std','pacbio.ref_count','pacbio.ref_insertSize_mean','pacbio.ref_insertSize_std','pacbio.ref_reason_alignmentScore','pacbio.GT','TenX.HP1_alt_alnScore_mean','TenX.HP1_alt_alnScore_std','TenX.HP1_alt_count','TenX.HP1_alt_insertSize_mean','TenX.HP1_alt_insertSize_std','TenX.HP1_alt_reason_alignmentScore','TenX.HP1_alt_reason_insertSizeScore','TenX.HP1_alt_reason_orientation','TenX.HP1_amb_alnScore_mean','TenX.HP1_amb_alnScore_std','TenX.HP1_amb_count','TenX.HP1_amb_insertSize_mean','TenX.HP1_amb_insertSize_std','TenX.HP1_amb_reason_alignmentScore_alignmentScore','TenX.HP1_amb_reason_alignmentScore_orientation','TenX.HP1_amb_reason_flanking','TenX.HP1_amb_reason_insertSizeScore_alignmentScore','TenX.HP1_amb_reason_multimapping','TenX.HP1_amb_reason_orientation_alignmentScore','TenX.HP1_amb_reason_orientation_orientation','TenX.HP1_amb_reason_same_scores','TenX.HP1_ref_alnScore_mean','TenX.HP1_ref_alnScore_std','TenX.HP1_ref_count','TenX.HP1_ref_insertSize_mean','TenX.HP1_ref_insertSize_std','TenX.HP1_ref_reason_alignmentScore','TenX.HP1_ref_reason_orientation','TenX.HP2_alt_alnScore_mean','TenX.HP2_alt_alnScore_std','TenX.HP2_alt_count','TenX.HP2_alt_insertSize_mean','TenX.HP2_alt_insertSize_std','TenX.HP2_alt_reason_alignmentScore','TenX.HP2_alt_reason_insertSizeScore','TenX.HP2_alt_reason_orientation','TenX.HP2_amb_alnScore_mean','TenX.HP2_amb_alnScore_std','TenX.HP2_amb_count','TenX.HP2_amb_insertSize_mean','TenX.HP2_amb_insertSize_std','TenX.HP2_amb_reason_alignmentScore_alignmentScore','TenX.HP2_amb_reason_alignmentScore_orientation','TenX.HP2_amb_reason_flanking','TenX.HP2_amb_reason_insertSizeScore_alignmentScore','TenX.HP2_amb_reason_multimapping','TenX.HP2_amb_reason_orientation_alignmentScore','TenX.HP2_amb_reason_orientation_orientation','TenX.HP2_amb_reason_same_scores','TenX.HP2_ref_alnScore_mean','TenX.HP2_ref_alnScore_std','TenX.HP2_ref_count','TenX.HP2_ref_insertSize_mean','TenX.HP2_ref_insertSize_std','TenX.HP2_ref_reason_alignmentScore','TenX.HP2_ref_reason_orientation','TenX.GT','size','GTcons','GTconflict','GTsupp','tandemrep_cnt','tandemrep_pct','segdup_cnt','segdup_pct','refN_cnt','refN_pct','Label','CN0_prob','CN1_prob','CN2_prob']\n",
    "# b = ['chrom','start','end','sample','id','type','SVtype','Size','Ill300x.alt_alnScore_mean','Ill300x.alt_alnScore_std','Ill300x.alt_count','Ill300x.alt_insertSize_mean','Ill300x.alt_insertSize_std','Ill300x.alt_reason_alignmentScore','Ill300x.alt_reason_insertSizeScore','Ill300x.alt_reason_orientation','Ill300x.amb_alnScore_mean','Ill300x.amb_alnScore_std','Ill300x.amb_count','Ill300x.amb_insertSize_mean','Ill300x.amb_insertSize_std','Ill300x.amb_reason_alignmentScore_alignmentScore','Ill300x.amb_reason_alignmentScore_orientation','Ill300x.amb_reason_flanking','Ill300x.amb_reason_insertSizeScore_alignmentScore','Ill300x.amb_reason_insertSizeScore_insertSizeScore','Ill300x.amb_reason_insertSizeScore_orientation','Ill300x.amb_reason_multimapping','Ill300x.amb_reason_orientation_alignmentScore','Ill300x.amb_reason_orientation_orientation','Ill300x.amb_reason_same_scores','Ill300x.ref_alnScore_mean','Ill300x.ref_alnScore_std','Ill300x.ref_count','Ill300x.ref_insertSize_mean','Ill300x.ref_insertSize_std','Ill300x.ref_reason_alignmentScore','Ill300x.ref_reason_insertSizeScore','Ill300x.ref_reason_orientation','Ill300x.GT','Ill250.alt_alnScore_mean','Ill250.alt_alnScore_std','Ill250.alt_count','Ill250.alt_insertSize_mean','Ill250.alt_insertSize_std','Ill250.alt_reason_alignmentScore','Ill250.alt_reason_insertSizeScore','Ill250.alt_reason_orientation','Ill250.amb_alnScore_mean','Ill250.amb_alnScore_std','Ill250.amb_count','Ill250.amb_insertSize_mean','Ill250.amb_insertSize_std','Ill250.amb_reason_alignmentScore_alignmentScore','Ill250.amb_reason_alignmentScore_orientation','Ill250.amb_reason_flanking','Ill250.amb_reason_insertSizeScore_alignmentScore','Ill250.amb_reason_multimapping','Ill250.amb_reason_orientation_alignmentScore','Ill250.amb_reason_orientation_orientation','Ill250.amb_reason_same_scores','Ill250.ref_alnScore_mean','Ill250.ref_alnScore_std','Ill250.ref_count','Ill250.ref_insertSize_mean','Ill250.ref_insertSize_std','Ill250.ref_reason_alignmentScore','Ill250.ref_reason_orientation','Ill250.GT','IllMP.alt_alnScore_mean','IllMP.alt_alnScore_std','IllMP.alt_count','IllMP.alt_insertSize_mean','IllMP.alt_insertSize_std','IllMP.alt_reason_alignmentScore','IllMP.alt_reason_insertSizeScore','IllMP.alt_reason_orientation','IllMP.amb_alnScore_mean','IllMP.amb_alnScore_std','IllMP.amb_count','IllMP.amb_insertSize_mean','IllMP.amb_insertSize_std','IllMP.amb_reason_alignmentScore_alignmentScore','IllMP.amb_reason_alignmentScore_orientation','IllMP.amb_reason_flanking','IllMP.amb_reason_insertSizeScore_alignmentScore','IllMP.amb_reason_insertSizeScore_insertSizeScore','IllMP.amb_reason_multimapping','IllMP.amb_reason_orientation_alignmentScore','IllMP.amb_reason_orientation_orientation','IllMP.amb_reason_same_scores','IllMP.ref_alnScore_mean','IllMP.ref_alnScore_std','IllMP.ref_count','IllMP.ref_insertSize_mean','IllMP.ref_insertSize_std','IllMP.ref_reason_alignmentScore','IllMP.ref_reason_insertSizeScore','IllMP.ref_reason_orientation','IllMP.GT','TenX.HP1_alt_alnScore_mean','TenX.HP1_alt_alnScore_std','TenX.HP1_alt_count','TenX.HP1_alt_insertSize_mean','TenX.HP1_alt_insertSize_std','TenX.HP1_alt_reason_alignmentScore','TenX.HP1_alt_reason_insertSizeScore','TenX.HP1_alt_reason_orientation','TenX.HP1_amb_alnScore_mean','TenX.HP1_amb_alnScore_std','TenX.HP1_amb_count','TenX.HP1_amb_insertSize_mean','TenX.HP1_amb_insertSize_std','TenX.HP1_amb_reason_alignmentScore_alignmentScore','TenX.HP1_amb_reason_alignmentScore_orientation','TenX.HP1_amb_reason_flanking','TenX.HP1_amb_reason_insertSizeScore_alignmentScore','TenX.HP1_amb_reason_insertSizeScore_insertSizeScore','TenX.HP1_amb_reason_multimapping','TenX.HP1_amb_reason_orientation_alignmentScore','TenX.HP1_amb_reason_orientation_orientation','TenX.HP1_amb_reason_same_scores','TenX.HP1_ref_alnScore_mean','TenX.HP1_ref_alnScore_std','TenX.HP1_ref_count','TenX.HP1_ref_insertSize_mean','TenX.HP1_ref_insertSize_std','TenX.HP1_ref_reason_alignmentScore','TenX.HP1_ref_reason_insertSizeScore','TenX.HP1_ref_reason_orientation','TenX.HP2_alt_alnScore_mean','TenX.HP2_alt_alnScore_std','TenX.HP2_alt_count','TenX.HP2_alt_insertSize_mean','TenX.HP2_alt_insertSize_std','TenX.HP2_alt_reason_alignmentScore','TenX.HP2_alt_reason_insertSizeScore','TenX.HP2_alt_reason_orientation','TenX.HP2_amb_alnScore_mean','TenX.HP2_amb_alnScore_std','TenX.HP2_amb_count','TenX.HP2_amb_insertSize_mean','TenX.HP2_amb_insertSize_std','TenX.HP2_amb_reason_alignmentScore_alignmentScore','TenX.HP2_amb_reason_alignmentScore_orientation','TenX.HP2_amb_reason_flanking','TenX.HP2_amb_reason_insertSizeScore_alignmentScore','TenX.HP2_amb_reason_insertSizeScore_insertSizeScore','TenX.HP2_amb_reason_multimapping','TenX.HP2_amb_reason_orientation_alignmentScore','TenX.HP2_amb_reason_orientation_insertSizeScore','TenX.HP2_amb_reason_orientation_orientation','TenX.HP2_amb_reason_same_scores','TenX.HP2_ref_alnScore_mean','TenX.HP2_ref_alnScore_std','TenX.HP2_ref_count','TenX.HP2_ref_insertSize_mean','TenX.HP2_ref_insertSize_std','TenX.HP2_ref_reason_alignmentScore','TenX.HP2_ref_reason_orientation','TenX.GT','pacbio.alt_alnScore_mean','pacbio.alt_alnScore_std','pacbio.alt_count','pacbio.alt_insertSize_mean','pacbio.alt_insertSize_std','pacbio.alt_reason_alignmentScore','pacbio.amb_alnScore_mean','pacbio.amb_alnScore_std','pacbio.amb_count','pacbio.amb_insertSize_mean','pacbio.amb_insertSize_std','pacbio.amb_reason_alignmentScore_alignmentScore','pacbio.amb_reason_flanking','pacbio.amb_reason_multimapping','pacbio.amb_reason_same_scores','pacbio.ref_alnScore_mean','pacbio.ref_alnScore_std','pacbio.ref_count','pacbio.ref_insertSize_mean','pacbio.ref_insertSize_std','pacbio.ref_reason_alignmentScore','pacbio.GT','GTcons','GTconflict','GTsupp','tandemrep_cnt','tandemrep_pct','segdup_cnt','segdup_pct','refN_cnt','refN_pct','GIAB_Crowd']\n",
    "\n",
    "# set(b) - set(a)"
   ]
  },
  {
   "cell_type": "code",
   "execution_count": 65,
   "metadata": {},
   "outputs": [],
   "source": [
    "### Training Set: Drop irrelevant columns and GT information\n",
    "df_crowd.drop(['GTcons'], axis=1, inplace = True)\n",
    "df_crowd.drop(['GTconflict'], axis=1, inplace = True)\n",
    "df_crowd.drop(['GTsupp'], axis=1, inplace = True)\n",
    "# df_crowd.drop('SVtype', axis=1)\n",
    "# df_crowd.drop(['type'],axis=1)\n",
    "df_crowd.drop(['start'],axis=1, inplace = True)\n",
    "df_crowd.drop(['end'],axis=1, inplace = True)\n",
    "df_crowd.drop(['chrom'],axis=1, inplace = True)\n",
    "# df_crowd.drop('Size',axis=1)\n",
    "df_crowd.drop(['CN0_prob'],axis=1, inplace = True)\n",
    "df_crowd.drop(['CN1_prob'],axis=1, inplace = True)\n",
    "df_crowd.drop(['CN2_prob'],axis=1, inplace = True)\n",
    "# df_crowd.drop(['TenX.GT'],axis=1, inplace = True)\n",
    "# df_crowd.drop(['pacbio.GT'],axis=1, inplace = True)\n",
    "# df_crowd.drop(['IllMP.GT'],axis=1, inplace = True)\n",
    "df_crowd.drop(['Ill250.GT'],axis=1, inplace = True)\n",
    "# df_crowd.drop(['Ill300x.GT'],axis=1, inplace = True)\n",
    "df_crowd.drop(['sample'],axis=1, inplace = True)\n",
    "# df_crowd.columns.drop(['Label'],axis=1, inplace = True)\n",
    "df_crowd.drop(['size'],axis=1, inplace = True)\n",
    "# df_crowd.drop(['Svsize'],axis=1, inplace = True)\n",
    "df_crowd.drop(['Ill250.amb_reason_insertSizeScore_insertSizeScore'],axis=1, inplace = True)"
   ]
  },
  {
   "cell_type": "code",
   "execution_count": 68,
   "metadata": {},
   "outputs": [
    {
     "data": {
      "text/plain": [
       "{'GIAB_Crowd'}"
      ]
     },
     "execution_count": 68,
     "metadata": {},
     "output_type": "execute_result"
    }
   ],
   "source": [
    "# Store header names in lists and find names that are NOT contained in BOTH lists\n",
    "c = list(df_crowd.columns.values)\n",
    "d = list(HG002_pred.columns.values)\n",
    "set(d) - set(c)"
   ]
  },
  {
   "cell_type": "code",
   "execution_count": 67,
   "metadata": {
    "collapsed": true
   },
   "outputs": [],
   "source": [
    "### Prediction Set: Drop irrelevant columns and GT information\n",
    "HG002_pred.drop(['GTcons'], axis=1, inplace = True)\n",
    "HG002_pred.drop(['GTconflict'], axis=1, inplace = True)\n",
    "HG002_pred.drop(['GTsupp'], axis=1, inplace = True)\n",
    "HG002_pred.drop(['type'],axis=1, inplace = True)\n",
    "HG002_pred.drop(['SVtype'],axis=1, inplace = True)\n",
    "HG002_pred.drop(['start'],axis=1, inplace = True)\n",
    "HG002_pred.drop(['end'],axis=1, inplace = True)\n",
    "HG002_pred.drop(['chrom'],axis=1, inplace = True)\n",
    "HG002_pred.drop(['Size'],axis=1, inplace = True)\n",
    "# HG002_pred.drop(['TenX.GT'],axis=1, inplace = True)\n",
    "# HG002_pred.drop(['pacbio.GT'],axis=1, inplace = True)\n",
    "# HG002_pred.drop(['IllMP.GT'],axis=1, inplace = True)\n",
    "HG002_pred.drop(['Ill250.GT'],axis=1, inplace = True)\n",
    "# HG002_pred.drop(['Ill300x.GT'],axis=1, inplace = True)\n",
    "HG002_pred.drop(['sample'],axis=1, inplace = True)\n",
    "HG002_pred.drop(['id'],axis=1, inplace = True)\n",
    "# HG002_pred.drop(['Ill300x.amb_reason_insertSizeScore_orientation'],axis=1, inplace = True)\n",
    "# HG002_pred.drop(['IllMP.amb_reason_insertSizeScore_alignmentScore'],axis=1, inplace = True)\n",
    "# HG002_pred.drop(['TenX.HP1_amb_reason_insertSizeScore_insertSizeScore'],axis=1, inplace = True)\n",
    "# HG002_pred.drop(['TenX.HP1_ref_reason_insertSizeScore'],axis=1, inplace = True)\n",
    "# HG002_pred.drop(['TenX.HP2_amb_reason_insertSizeScore_insertSizeScore'],axis=1, inplace = True)\n",
    "# HG002_pred.drop(['TenX.HP2_amb_reason_orientation_insertSizeScore'],axis=1, inplace = True)"
   ]
  },
  {
   "cell_type": "code",
   "execution_count": null,
   "metadata": {
    "collapsed": true
   },
   "outputs": [],
   "source": [
    "df_crowd.head(3)"
   ]
  },
  {
   "cell_type": "markdown",
   "metadata": {},
   "source": [
    "*** \n",
    "Impute missing values using KNN \n",
    "***"
   ]
  },
  {
   "cell_type": "code",
   "execution_count": 70,
   "metadata": {},
   "outputs": [
    {
     "data": {
      "text/html": [
       "<div>\n",
       "<table border=\"1\" class=\"dataframe\">\n",
       "  <thead>\n",
       "    <tr style=\"text-align: right;\">\n",
       "      <th></th>\n",
       "      <th>Ill250.alt_alnScore_mean</th>\n",
       "      <th>Ill250.alt_alnScore_std</th>\n",
       "      <th>Ill250.alt_count</th>\n",
       "      <th>Ill250.alt_insertSize_mean</th>\n",
       "      <th>Ill250.alt_insertSize_std</th>\n",
       "      <th>Ill250.alt_reason_alignmentScore</th>\n",
       "      <th>Ill250.alt_reason_insertSizeScore</th>\n",
       "      <th>Ill250.alt_reason_orientation</th>\n",
       "      <th>Ill250.amb_alnScore_mean</th>\n",
       "      <th>Ill250.amb_alnScore_std</th>\n",
       "      <th>...</th>\n",
       "      <th>Ill250.ref_insertSize_std</th>\n",
       "      <th>Ill250.ref_reason_alignmentScore</th>\n",
       "      <th>Ill250.ref_reason_orientation</th>\n",
       "      <th>tandemrep_cnt</th>\n",
       "      <th>tandemrep_pct</th>\n",
       "      <th>segdup_cnt</th>\n",
       "      <th>segdup_pct</th>\n",
       "      <th>refN_cnt</th>\n",
       "      <th>refN_pct</th>\n",
       "      <th>Label</th>\n",
       "    </tr>\n",
       "  </thead>\n",
       "  <tbody>\n",
       "    <tr>\n",
       "      <th>0</th>\n",
       "      <td>0.0</td>\n",
       "      <td>0.000000</td>\n",
       "      <td>0</td>\n",
       "      <td>0.0</td>\n",
       "      <td>0.000000</td>\n",
       "      <td>0</td>\n",
       "      <td>0</td>\n",
       "      <td>0</td>\n",
       "      <td>870.053922</td>\n",
       "      <td>144.726287</td>\n",
       "      <td>...</td>\n",
       "      <td>83.074486</td>\n",
       "      <td>145</td>\n",
       "      <td>0</td>\n",
       "      <td>8</td>\n",
       "      <td>0.096911</td>\n",
       "      <td>0</td>\n",
       "      <td>0.0</td>\n",
       "      <td>0</td>\n",
       "      <td>0</td>\n",
       "      <td>1</td>\n",
       "    </tr>\n",
       "    <tr>\n",
       "      <th>1</th>\n",
       "      <td>887.0</td>\n",
       "      <td>44.298984</td>\n",
       "      <td>5</td>\n",
       "      <td>356.4</td>\n",
       "      <td>73.499932</td>\n",
       "      <td>4</td>\n",
       "      <td>0</td>\n",
       "      <td>1</td>\n",
       "      <td>841.293839</td>\n",
       "      <td>138.419819</td>\n",
       "      <td>...</td>\n",
       "      <td>122.825237</td>\n",
       "      <td>47</td>\n",
       "      <td>0</td>\n",
       "      <td>2</td>\n",
       "      <td>0.221591</td>\n",
       "      <td>0</td>\n",
       "      <td>0.0</td>\n",
       "      <td>0</td>\n",
       "      <td>0</td>\n",
       "      <td>1</td>\n",
       "    </tr>\n",
       "    <tr>\n",
       "      <th>2</th>\n",
       "      <td>912.2</td>\n",
       "      <td>40.041978</td>\n",
       "      <td>5</td>\n",
       "      <td>381.2</td>\n",
       "      <td>67.957045</td>\n",
       "      <td>5</td>\n",
       "      <td>0</td>\n",
       "      <td>0</td>\n",
       "      <td>828.734375</td>\n",
       "      <td>149.026764</td>\n",
       "      <td>...</td>\n",
       "      <td>0.000000</td>\n",
       "      <td>0</td>\n",
       "      <td>0</td>\n",
       "      <td>3</td>\n",
       "      <td>0.059443</td>\n",
       "      <td>0</td>\n",
       "      <td>0.0</td>\n",
       "      <td>0</td>\n",
       "      <td>0</td>\n",
       "      <td>0</td>\n",
       "    </tr>\n",
       "  </tbody>\n",
       "</table>\n",
       "<p>3 rows × 35 columns</p>\n",
       "</div>"
      ],
      "text/plain": [
       "   Ill250.alt_alnScore_mean  Ill250.alt_alnScore_std  Ill250.alt_count  \\\n",
       "0                       0.0                 0.000000                 0   \n",
       "1                     887.0                44.298984                 5   \n",
       "2                     912.2                40.041978                 5   \n",
       "\n",
       "   Ill250.alt_insertSize_mean  Ill250.alt_insertSize_std  \\\n",
       "0                         0.0                   0.000000   \n",
       "1                       356.4                  73.499932   \n",
       "2                       381.2                  67.957045   \n",
       "\n",
       "   Ill250.alt_reason_alignmentScore  Ill250.alt_reason_insertSizeScore  \\\n",
       "0                                 0                                  0   \n",
       "1                                 4                                  0   \n",
       "2                                 5                                  0   \n",
       "\n",
       "   Ill250.alt_reason_orientation  Ill250.amb_alnScore_mean  \\\n",
       "0                              0                870.053922   \n",
       "1                              1                841.293839   \n",
       "2                              0                828.734375   \n",
       "\n",
       "   Ill250.amb_alnScore_std  ...    Ill250.ref_insertSize_std  \\\n",
       "0               144.726287  ...                    83.074486   \n",
       "1               138.419819  ...                   122.825237   \n",
       "2               149.026764  ...                     0.000000   \n",
       "\n",
       "   Ill250.ref_reason_alignmentScore  Ill250.ref_reason_orientation  \\\n",
       "0                               145                              0   \n",
       "1                                47                              0   \n",
       "2                                 0                              0   \n",
       "\n",
       "   tandemrep_cnt  tandemrep_pct  segdup_cnt  segdup_pct  refN_cnt  refN_pct  \\\n",
       "0              8       0.096911           0         0.0         0         0   \n",
       "1              2       0.221591           0         0.0         0         0   \n",
       "2              3       0.059443           0         0.0         0         0   \n",
       "\n",
       "   Label  \n",
       "0      1  \n",
       "1      1  \n",
       "2      0  \n",
       "\n",
       "[3 rows x 35 columns]"
      ]
     },
     "execution_count": 70,
     "metadata": {},
     "output_type": "execute_result"
    }
   ],
   "source": [
    "# Store data in a new variable which will be converted to a matrix\n",
    "X = df_crowd\n",
    "X.head(3)"
   ]
  },
  {
   "cell_type": "code",
   "execution_count": 71,
   "metadata": {},
   "outputs": [],
   "source": [
    "# NOTE: 250bp dataframe has no missing values\n",
    "\n",
    "\n",
    "# Convert dataframe to matrix\n",
    "# X=X.as_matrix()\n",
    "\n",
    "# #Imput missing values from three closest observations\n",
    "# X_imputed=KNN(k=3).complete(X)\n",
    "# X=pd.DataFrame(X_imputed)"
   ]
  },
  {
   "cell_type": "code",
   "execution_count": 72,
   "metadata": {
    "collapsed": true
   },
   "outputs": [],
   "source": [
    "# Store header values in a list, will be used later to re-label the matrix post KNN imputation\n",
    "# dfcrowd_header = list(df_crowd.columns.values)"
   ]
  },
  {
   "cell_type": "code",
   "execution_count": 73,
   "metadata": {},
   "outputs": [],
   "source": [
    "# X.columns = dfcrowd_header\n",
    "# X.head(3)"
   ]
  },
  {
   "cell_type": "code",
   "execution_count": 74,
   "metadata": {
    "collapsed": true
   },
   "outputs": [],
   "source": [
    "# Store Labels in a new 'Y' DataFrame\n",
    "Y = pd.DataFrame()\n",
    "Y['Label'] = X['Label']\n",
    "#Y = X.pop('Label')"
   ]
  },
  {
   "cell_type": "code",
   "execution_count": 75,
   "metadata": {},
   "outputs": [
    {
     "data": {
      "text/plain": [
       " 0    552\n",
       " 1    959\n",
       " 2      3\n",
       "-1      1\n",
       "dtype: int64"
      ]
     },
     "execution_count": 75,
     "metadata": {},
     "output_type": "execute_result"
    }
   ],
   "source": [
    "#Count the number of labels\n",
    "pd.value_counts(Y['Label'].values, sort=False)"
   ]
  },
  {
   "cell_type": "code",
   "execution_count": 76,
   "metadata": {
    "collapsed": true
   },
   "outputs": [],
   "source": [
    "# Remove labels from feature set\n",
    "X.drop(['Label'],axis=1, inplace = True)"
   ]
  },
  {
   "cell_type": "code",
   "execution_count": 77,
   "metadata": {
    "collapsed": true
   },
   "outputs": [],
   "source": [
    "# Order features\n",
    "X4 = X.reindex_axis(sorted(X.columns), axis=1)"
   ]
  },
  {
   "cell_type": "markdown",
   "metadata": {},
   "source": [
    "***\n",
    "Machine Learning\n",
    "***"
   ]
  },
  {
   "cell_type": "markdown",
   "metadata": {},
   "source": [
    "** Train RF Classifier **"
   ]
  },
  {
   "cell_type": "code",
   "execution_count": 78,
   "metadata": {
    "collapsed": true
   },
   "outputs": [],
   "source": [
    "# Train Test Split\n",
    "# Train on 70% of the data and test on 30%\n",
    "X_train, X_test, y_train, y_test = train_test_split(X4, Y, test_size=0.3, random_state=0)"
   ]
  },
  {
   "cell_type": "code",
   "execution_count": 79,
   "metadata": {},
   "outputs": [
    {
     "name": "stderr",
     "output_type": "stream",
     "text": [
      "/Users/lmc2/anaconda/envs/NIHFAES/lib/python3.5/site-packages/ipykernel/__main__.py:3: DataConversionWarning:\n",
      "\n",
      "A column-vector y was passed when a 1d array was expected. Please change the shape of y to (n_samples,), for example using ravel().\n",
      "\n"
     ]
    },
    {
     "data": {
      "text/plain": [
       "RandomForestClassifier(bootstrap=True, class_weight=None, criterion='gini',\n",
       "            max_depth=None, max_features='auto', max_leaf_nodes=None,\n",
       "            min_impurity_split=1e-07, min_samples_leaf=1,\n",
       "            min_samples_split=2, min_weight_fraction_leaf=0.0,\n",
       "            n_estimators=10, n_jobs=1, oob_score=False, random_state=None,\n",
       "            verbose=0, warm_start=False)"
      ]
     },
     "execution_count": 79,
     "metadata": {},
     "output_type": "execute_result"
    }
   ],
   "source": [
    "# Train Random Forest Classifier\n",
    "model = RandomForestClassifier() \n",
    "model.fit(X_train, y_train)"
   ]
  },
  {
   "cell_type": "code",
   "execution_count": 80,
   "metadata": {},
   "outputs": [
    {
     "data": {
      "text/plain": [
       " 1.0    671\n",
       " 0.0     73\n",
       "-1.0      1\n",
       " 2.0      2\n",
       "dtype: int64"
      ]
     },
     "execution_count": 80,
     "metadata": {},
     "output_type": "execute_result"
    }
   ],
   "source": [
    "#NOTE: Training Set - Show number of Hom Ref, Hom Var, Het Var datapoints the model was trained on\n",
    "ytrain = pd.DataFrame()\n",
    "ytrain['ytrain'] = y_train\n",
    "pd.value_counts(ytrain['ytrain'].values, sort=False)"
   ]
  },
  {
   "cell_type": "markdown",
   "metadata": {},
   "source": [
    "** Precision Score **\n",
    "- Overall model performance\n",
    "- Using 30% of original dataset (test set)\n",
    "- Truth labels: CrowdVariant labels"
   ]
  },
  {
   "cell_type": "code",
   "execution_count": 81,
   "metadata": {},
   "outputs": [
    {
     "data": {
      "text/plain": [
       "array([0, 1, 1, 1, 1, 1, 1, 1, 1, 1, 0, 1, 0, 0, 1, 1, 1, 1, 1, 0, 1, 1, 1,\n",
       "       1, 0, 1, 0, 1, 1, 1, 1, 1, 0, 1, 0, 0, 1, 0, 1, 1, 1, 1, 1, 1, 1, 0,\n",
       "       1, 1, 1, 1, 1, 1, 0, 1, 1, 1, 0, 0, 1, 1, 1, 1, 1, 0, 1, 1, 0, 1, 0,\n",
       "       0, 0, 1, 0, 1, 1, 0, 1, 1, 1, 1, 0, 1, 1, 1, 1, 0, 1, 0, 1, 1, 0, 1,\n",
       "       0, 1, 0, 1, 1, 0, 0, 1, 0, 1, 0, 1, 1, 0, 1, 0, 1, 1, 0, 0, 0, 0, 0,\n",
       "       1, 1, 0, 1, 0, 0, 1, 1, 0, 0, 0, 1, 0, 1, 1, 0, 0, 1, 1, 0, 1, 1, 1,\n",
       "       0, 1, 1, 0, 0, 1, 1, 1, 0, 1, 0, 1, 1, 1, 0, 1, 0, 0, 1, 0, 1, 1, 1,\n",
       "       0, 0, 0, 0, 1, 1, 1, 0, 1, 1, 0, 0, 1, 1, 0, 0, 0, 1, 0, 0, 1, 1, 0,\n",
       "       1, 0, 1, 0, 1, 1, 1, 1, 0, 1, 0, 1, 0, 0, 1, 0, 1, 1, 1, 1, 1, 1, 0,\n",
       "       1, 0, 0, 0, 0, 0, 1, 1, 1, 1, 0, 1, 1, 0, 1, 1, 0, 0, 0, 1, 1, 0, 0,\n",
       "       1, 1, 0, 1, 1, 1, 1, 1, 0, 1, 0, 1, 0, 0, 0, 1, 0, 0, 1, 0, 1, 1, 1,\n",
       "       0, 1, 1, 1, 0, 1, 1, 1, 1, 0, 1, 1, 1, 1, 1, 0, 1, 1, 0, 0, 1, 1, 0,\n",
       "       1, 1, 1, 0, 1, 1, 1, 1, 1, 1, 1, 0, 0, 1, 1, 1, 1, 0, 0, 1, 1, 0, 0,\n",
       "       1, 1, 1, 0, 0, 1, 1, 1, 1, 0, 1, 1, 1, 1, 1, 1, 1, 1, 0, 1, 0, 0, 1,\n",
       "       1, 1, 1, 1, 0, 0, 1, 0, 0, 0, 0, 0, 1, 1, 0, 1, 1, 0, 0, 0, 1, 1, 0,\n",
       "       1, 1, 1, 1, 1, 1, 1, 1, 0, 0, 1, 0, 1, 1, 1, 1, 0, 0, 1, 0, 0, 1, 1,\n",
       "       1, 0, 1, 1, 1, 0, 1, 0, 0, 1, 1, 1, 1, 1, 1, 0, 1, 1, 1, 1, 0, 1, 1,\n",
       "       0, 1, 0, 1, 1, 0, 0, 0, 0, 1, 1, 0, 1, 1, 1, 0, 0, 0, 1, 1, 0, 1, 1,\n",
       "       1, 1, 0, 1, 0, 1, 0, 1, 1, 1, 1, 1, 1, 1, 0, 1, 1, 0, 0, 1, 1, 1, 1,\n",
       "       0, 0, 0, 0, 1, 0, 1, 1, 0, 1, 0, 1, 1, 1, 1, 1, 1, 1])"
      ]
     },
     "execution_count": 81,
     "metadata": {},
     "output_type": "execute_result"
    }
   ],
   "source": [
    "model.predict(X_test)"
   ]
  },
  {
   "cell_type": "code",
   "execution_count": 82,
   "metadata": {
    "collapsed": true
   },
   "outputs": [],
   "source": [
    "pred = model.predict(X_test)"
   ]
  },
  {
   "cell_type": "code",
   "execution_count": 83,
   "metadata": {},
   "outputs": [
    {
     "data": {
      "text/plain": [
       "0.96703296703296704"
      ]
     },
     "execution_count": 83,
     "metadata": {},
     "output_type": "execute_result"
    }
   ],
   "source": [
    "precision_score(pred, y_test, average='micro') "
   ]
  },
  {
   "cell_type": "code",
   "execution_count": 84,
   "metadata": {},
   "outputs": [
    {
     "data": {
      "text/html": [
       "<div>\n",
       "<table border=\"1\" class=\"dataframe\">\n",
       "  <thead>\n",
       "    <tr style=\"text-align: right;\">\n",
       "      <th></th>\n",
       "      <th>Ill250.alt_alnScore_mean</th>\n",
       "      <th>Ill250.alt_alnScore_std</th>\n",
       "      <th>Ill250.alt_count</th>\n",
       "      <th>Ill250.alt_insertSize_mean</th>\n",
       "      <th>Ill250.alt_insertSize_std</th>\n",
       "      <th>Ill250.alt_reason_alignmentScore</th>\n",
       "      <th>Ill250.alt_reason_insertSizeScore</th>\n",
       "      <th>Ill250.alt_reason_orientation</th>\n",
       "      <th>Ill250.amb_alnScore_mean</th>\n",
       "      <th>Ill250.amb_alnScore_std</th>\n",
       "      <th>...</th>\n",
       "      <th>Ill250.ref_insertSize_mean</th>\n",
       "      <th>Ill250.ref_insertSize_std</th>\n",
       "      <th>Ill250.ref_reason_alignmentScore</th>\n",
       "      <th>Ill250.ref_reason_orientation</th>\n",
       "      <th>refN_cnt</th>\n",
       "      <th>refN_pct</th>\n",
       "      <th>segdup_cnt</th>\n",
       "      <th>segdup_pct</th>\n",
       "      <th>tandemrep_cnt</th>\n",
       "      <th>tandemrep_pct</th>\n",
       "    </tr>\n",
       "  </thead>\n",
       "  <tbody>\n",
       "    <tr>\n",
       "      <th>1222</th>\n",
       "      <td>994.916667</td>\n",
       "      <td>5.415384</td>\n",
       "      <td>48</td>\n",
       "      <td>447.020833</td>\n",
       "      <td>92.768864</td>\n",
       "      <td>44</td>\n",
       "      <td>4</td>\n",
       "      <td>0</td>\n",
       "      <td>904.924419</td>\n",
       "      <td>131.254148</td>\n",
       "      <td>...</td>\n",
       "      <td>0.000000</td>\n",
       "      <td>0.000000</td>\n",
       "      <td>0</td>\n",
       "      <td>0</td>\n",
       "      <td>0</td>\n",
       "      <td>0</td>\n",
       "      <td>0</td>\n",
       "      <td>0.000000</td>\n",
       "      <td>1</td>\n",
       "      <td>0.12500</td>\n",
       "    </tr>\n",
       "    <tr>\n",
       "      <th>310</th>\n",
       "      <td>970.742857</td>\n",
       "      <td>26.804416</td>\n",
       "      <td>35</td>\n",
       "      <td>460.485714</td>\n",
       "      <td>79.329465</td>\n",
       "      <td>34</td>\n",
       "      <td>1</td>\n",
       "      <td>0</td>\n",
       "      <td>881.921162</td>\n",
       "      <td>147.513942</td>\n",
       "      <td>...</td>\n",
       "      <td>452.300000</td>\n",
       "      <td>109.609808</td>\n",
       "      <td>20</td>\n",
       "      <td>0</td>\n",
       "      <td>0</td>\n",
       "      <td>0</td>\n",
       "      <td>0</td>\n",
       "      <td>0.000000</td>\n",
       "      <td>1</td>\n",
       "      <td>0.10625</td>\n",
       "    </tr>\n",
       "    <tr>\n",
       "      <th>9</th>\n",
       "      <td>0.000000</td>\n",
       "      <td>0.000000</td>\n",
       "      <td>0</td>\n",
       "      <td>0.000000</td>\n",
       "      <td>0.000000</td>\n",
       "      <td>0</td>\n",
       "      <td>0</td>\n",
       "      <td>0</td>\n",
       "      <td>886.094675</td>\n",
       "      <td>150.269472</td>\n",
       "      <td>...</td>\n",
       "      <td>441.163636</td>\n",
       "      <td>73.698591</td>\n",
       "      <td>55</td>\n",
       "      <td>0</td>\n",
       "      <td>0</td>\n",
       "      <td>0</td>\n",
       "      <td>0</td>\n",
       "      <td>0.000000</td>\n",
       "      <td>0</td>\n",
       "      <td>0.00000</td>\n",
       "    </tr>\n",
       "    <tr>\n",
       "      <th>785</th>\n",
       "      <td>978.500000</td>\n",
       "      <td>21.362350</td>\n",
       "      <td>20</td>\n",
       "      <td>425.550000</td>\n",
       "      <td>75.699719</td>\n",
       "      <td>19</td>\n",
       "      <td>1</td>\n",
       "      <td>0</td>\n",
       "      <td>903.137725</td>\n",
       "      <td>153.256269</td>\n",
       "      <td>...</td>\n",
       "      <td>434.233333</td>\n",
       "      <td>99.281648</td>\n",
       "      <td>30</td>\n",
       "      <td>0</td>\n",
       "      <td>0</td>\n",
       "      <td>0</td>\n",
       "      <td>1</td>\n",
       "      <td>0.404959</td>\n",
       "      <td>1</td>\n",
       "      <td>0.31405</td>\n",
       "    </tr>\n",
       "    <tr>\n",
       "      <th>295</th>\n",
       "      <td>955.318182</td>\n",
       "      <td>20.636213</td>\n",
       "      <td>22</td>\n",
       "      <td>446.727273</td>\n",
       "      <td>93.222696</td>\n",
       "      <td>21</td>\n",
       "      <td>1</td>\n",
       "      <td>0</td>\n",
       "      <td>894.035503</td>\n",
       "      <td>145.256675</td>\n",
       "      <td>...</td>\n",
       "      <td>407.884615</td>\n",
       "      <td>77.514429</td>\n",
       "      <td>26</td>\n",
       "      <td>0</td>\n",
       "      <td>0</td>\n",
       "      <td>0</td>\n",
       "      <td>0</td>\n",
       "      <td>0.000000</td>\n",
       "      <td>2</td>\n",
       "      <td>0.16358</td>\n",
       "    </tr>\n",
       "  </tbody>\n",
       "</table>\n",
       "<p>5 rows × 34 columns</p>\n",
       "</div>"
      ],
      "text/plain": [
       "      Ill250.alt_alnScore_mean  Ill250.alt_alnScore_std  Ill250.alt_count  \\\n",
       "1222                994.916667                 5.415384                48   \n",
       "310                 970.742857                26.804416                35   \n",
       "9                     0.000000                 0.000000                 0   \n",
       "785                 978.500000                21.362350                20   \n",
       "295                 955.318182                20.636213                22   \n",
       "\n",
       "      Ill250.alt_insertSize_mean  Ill250.alt_insertSize_std  \\\n",
       "1222                  447.020833                  92.768864   \n",
       "310                   460.485714                  79.329465   \n",
       "9                       0.000000                   0.000000   \n",
       "785                   425.550000                  75.699719   \n",
       "295                   446.727273                  93.222696   \n",
       "\n",
       "      Ill250.alt_reason_alignmentScore  Ill250.alt_reason_insertSizeScore  \\\n",
       "1222                                44                                  4   \n",
       "310                                 34                                  1   \n",
       "9                                    0                                  0   \n",
       "785                                 19                                  1   \n",
       "295                                 21                                  1   \n",
       "\n",
       "      Ill250.alt_reason_orientation  Ill250.amb_alnScore_mean  \\\n",
       "1222                              0                904.924419   \n",
       "310                               0                881.921162   \n",
       "9                                 0                886.094675   \n",
       "785                               0                903.137725   \n",
       "295                               0                894.035503   \n",
       "\n",
       "      Ill250.amb_alnScore_std      ...        Ill250.ref_insertSize_mean  \\\n",
       "1222               131.254148      ...                          0.000000   \n",
       "310                147.513942      ...                        452.300000   \n",
       "9                  150.269472      ...                        441.163636   \n",
       "785                153.256269      ...                        434.233333   \n",
       "295                145.256675      ...                        407.884615   \n",
       "\n",
       "      Ill250.ref_insertSize_std  Ill250.ref_reason_alignmentScore  \\\n",
       "1222                   0.000000                                 0   \n",
       "310                  109.609808                                20   \n",
       "9                     73.698591                                55   \n",
       "785                   99.281648                                30   \n",
       "295                   77.514429                                26   \n",
       "\n",
       "      Ill250.ref_reason_orientation  refN_cnt  refN_pct  segdup_cnt  \\\n",
       "1222                              0         0         0           0   \n",
       "310                               0         0         0           0   \n",
       "9                                 0         0         0           0   \n",
       "785                               0         0         0           1   \n",
       "295                               0         0         0           0   \n",
       "\n",
       "      segdup_pct  tandemrep_cnt  tandemrep_pct  \n",
       "1222    0.000000              1        0.12500  \n",
       "310     0.000000              1        0.10625  \n",
       "9       0.000000              0        0.00000  \n",
       "785     0.404959              1        0.31405  \n",
       "295     0.000000              2        0.16358  \n",
       "\n",
       "[5 rows x 34 columns]"
      ]
     },
     "execution_count": 84,
     "metadata": {},
     "output_type": "execute_result"
    }
   ],
   "source": [
    "# Add original labels and predicted labels back to the original dataframe\n",
    "df_Xtest = pd.DataFrame(X_test)\n",
    "df_Xtest.head()"
   ]
  },
  {
   "cell_type": "code",
   "execution_count": 85,
   "metadata": {
    "collapsed": true
   },
   "outputs": [],
   "source": [
    "labels = pd.DataFrame(y_test)"
   ]
  },
  {
   "cell_type": "code",
   "execution_count": 86,
   "metadata": {},
   "outputs": [
    {
     "data": {
      "text/html": [
       "<div>\n",
       "<table border=\"1\" class=\"dataframe\">\n",
       "  <thead>\n",
       "    <tr style=\"text-align: right;\">\n",
       "      <th></th>\n",
       "      <th>Ill250.alt_alnScore_mean</th>\n",
       "      <th>Ill250.alt_alnScore_std</th>\n",
       "      <th>Ill250.alt_count</th>\n",
       "      <th>Ill250.alt_insertSize_mean</th>\n",
       "      <th>Ill250.alt_insertSize_std</th>\n",
       "      <th>Ill250.alt_reason_alignmentScore</th>\n",
       "      <th>Ill250.alt_reason_insertSizeScore</th>\n",
       "      <th>Ill250.alt_reason_orientation</th>\n",
       "      <th>Ill250.amb_alnScore_mean</th>\n",
       "      <th>Ill250.amb_alnScore_std</th>\n",
       "      <th>...</th>\n",
       "      <th>Ill250.ref_insertSize_mean</th>\n",
       "      <th>Ill250.ref_insertSize_std</th>\n",
       "      <th>Ill250.ref_reason_alignmentScore</th>\n",
       "      <th>Ill250.ref_reason_orientation</th>\n",
       "      <th>tandemrep_cnt</th>\n",
       "      <th>tandemrep_pct</th>\n",
       "      <th>segdup_cnt</th>\n",
       "      <th>segdup_pct</th>\n",
       "      <th>refN_cnt</th>\n",
       "      <th>refN_pct</th>\n",
       "    </tr>\n",
       "  </thead>\n",
       "  <tbody>\n",
       "    <tr>\n",
       "      <th>0</th>\n",
       "      <td>0.0</td>\n",
       "      <td>0.000000</td>\n",
       "      <td>0</td>\n",
       "      <td>0.0</td>\n",
       "      <td>0.000000</td>\n",
       "      <td>0</td>\n",
       "      <td>0</td>\n",
       "      <td>0</td>\n",
       "      <td>870.053922</td>\n",
       "      <td>144.726287</td>\n",
       "      <td>...</td>\n",
       "      <td>429.172414</td>\n",
       "      <td>83.074486</td>\n",
       "      <td>145</td>\n",
       "      <td>0</td>\n",
       "      <td>8</td>\n",
       "      <td>0.096911</td>\n",
       "      <td>0</td>\n",
       "      <td>0.0</td>\n",
       "      <td>0</td>\n",
       "      <td>0</td>\n",
       "    </tr>\n",
       "    <tr>\n",
       "      <th>1</th>\n",
       "      <td>887.0</td>\n",
       "      <td>44.298984</td>\n",
       "      <td>5</td>\n",
       "      <td>356.4</td>\n",
       "      <td>73.499932</td>\n",
       "      <td>4</td>\n",
       "      <td>0</td>\n",
       "      <td>1</td>\n",
       "      <td>841.293839</td>\n",
       "      <td>138.419819</td>\n",
       "      <td>...</td>\n",
       "      <td>488.702128</td>\n",
       "      <td>122.825237</td>\n",
       "      <td>47</td>\n",
       "      <td>0</td>\n",
       "      <td>2</td>\n",
       "      <td>0.221591</td>\n",
       "      <td>0</td>\n",
       "      <td>0.0</td>\n",
       "      <td>0</td>\n",
       "      <td>0</td>\n",
       "    </tr>\n",
       "    <tr>\n",
       "      <th>2</th>\n",
       "      <td>912.2</td>\n",
       "      <td>40.041978</td>\n",
       "      <td>5</td>\n",
       "      <td>381.2</td>\n",
       "      <td>67.957045</td>\n",
       "      <td>5</td>\n",
       "      <td>0</td>\n",
       "      <td>0</td>\n",
       "      <td>828.734375</td>\n",
       "      <td>149.026764</td>\n",
       "      <td>...</td>\n",
       "      <td>0.000000</td>\n",
       "      <td>0.000000</td>\n",
       "      <td>0</td>\n",
       "      <td>0</td>\n",
       "      <td>3</td>\n",
       "      <td>0.059443</td>\n",
       "      <td>0</td>\n",
       "      <td>0.0</td>\n",
       "      <td>0</td>\n",
       "      <td>0</td>\n",
       "    </tr>\n",
       "  </tbody>\n",
       "</table>\n",
       "<p>3 rows × 34 columns</p>\n",
       "</div>"
      ],
      "text/plain": [
       "   Ill250.alt_alnScore_mean  Ill250.alt_alnScore_std  Ill250.alt_count  \\\n",
       "0                       0.0                 0.000000                 0   \n",
       "1                     887.0                44.298984                 5   \n",
       "2                     912.2                40.041978                 5   \n",
       "\n",
       "   Ill250.alt_insertSize_mean  Ill250.alt_insertSize_std  \\\n",
       "0                         0.0                   0.000000   \n",
       "1                       356.4                  73.499932   \n",
       "2                       381.2                  67.957045   \n",
       "\n",
       "   Ill250.alt_reason_alignmentScore  Ill250.alt_reason_insertSizeScore  \\\n",
       "0                                 0                                  0   \n",
       "1                                 4                                  0   \n",
       "2                                 5                                  0   \n",
       "\n",
       "   Ill250.alt_reason_orientation  Ill250.amb_alnScore_mean  \\\n",
       "0                              0                870.053922   \n",
       "1                              1                841.293839   \n",
       "2                              0                828.734375   \n",
       "\n",
       "   Ill250.amb_alnScore_std    ...     Ill250.ref_insertSize_mean  \\\n",
       "0               144.726287    ...                     429.172414   \n",
       "1               138.419819    ...                     488.702128   \n",
       "2               149.026764    ...                       0.000000   \n",
       "\n",
       "   Ill250.ref_insertSize_std  Ill250.ref_reason_alignmentScore  \\\n",
       "0                  83.074486                               145   \n",
       "1                 122.825237                                47   \n",
       "2                   0.000000                                 0   \n",
       "\n",
       "   Ill250.ref_reason_orientation  tandemrep_cnt  tandemrep_pct  segdup_cnt  \\\n",
       "0                              0              8       0.096911           0   \n",
       "1                              0              2       0.221591           0   \n",
       "2                              0              3       0.059443           0   \n",
       "\n",
       "   segdup_pct  refN_cnt  refN_pct  \n",
       "0         0.0         0         0  \n",
       "1         0.0         0         0  \n",
       "2         0.0         0         0  \n",
       "\n",
       "[3 rows x 34 columns]"
      ]
     },
     "execution_count": 86,
     "metadata": {},
     "output_type": "execute_result"
    }
   ],
   "source": [
    "df_crowd.head(3)"
   ]
  },
  {
   "cell_type": "code",
   "execution_count": 87,
   "metadata": {},
   "outputs": [],
   "source": [
    "df_Xtest['predicted_label'] = pred\n",
    "df_Xtest['Label'] = df_crowd_2['Label']\n",
    "df_Xtest['chrom'] = df_crowd_2['chrom']\n",
    "df_Xtest['start'] = df_crowd_2['start']\n",
    "df_Xtest['end'] = df_crowd_2['end']\n",
    "# df_Xtest['Y_test'] = labels"
   ]
  },
  {
   "cell_type": "code",
   "execution_count": 88,
   "metadata": {},
   "outputs": [
    {
     "data": {
      "text/plain": [
       "0    166\n",
       "1    288\n",
       "2      1\n",
       "dtype: int64"
      ]
     },
     "execution_count": 88,
     "metadata": {},
     "output_type": "execute_result"
    }
   ],
   "source": [
    "pd.value_counts(df_Xtest['Label'].values, sort=False)"
   ]
  },
  {
   "cell_type": "code",
   "execution_count": 89,
   "metadata": {},
   "outputs": [
    {
     "data": {
      "text/plain": [
       "0    169\n",
       "1    286\n",
       "dtype: int64"
      ]
     },
     "execution_count": 89,
     "metadata": {},
     "output_type": "execute_result"
    }
   ],
   "source": [
    "pd.value_counts(df_Xtest['predicted_label'].values, sort=False)"
   ]
  },
  {
   "cell_type": "code",
   "execution_count": 90,
   "metadata": {},
   "outputs": [
    {
     "name": "stdout",
     "output_type": "stream",
     "text": [
      "[[160   6   0]\n",
      " [  8 280   0]\n",
      " [  1   0   0]]\n"
     ]
    }
   ],
   "source": [
    "from sklearn.metrics import confusion_matrix\n",
    "ytest = df_Xtest['Label']\n",
    "predict = df_Xtest['predicted_label']\n",
    "print(confusion_matrix(ytest, predict))"
   ]
  },
  {
   "cell_type": "code",
   "execution_count": 91,
   "metadata": {},
   "outputs": [
    {
     "data": {
      "text/html": [
       "<div>\n",
       "<table border=\"1\" class=\"dataframe\">\n",
       "  <thead>\n",
       "    <tr style=\"text-align: right;\">\n",
       "      <th>Predicted</th>\n",
       "      <th>0</th>\n",
       "      <th>1</th>\n",
       "      <th>All</th>\n",
       "    </tr>\n",
       "    <tr>\n",
       "      <th>True</th>\n",
       "      <th></th>\n",
       "      <th></th>\n",
       "      <th></th>\n",
       "    </tr>\n",
       "  </thead>\n",
       "  <tbody>\n",
       "    <tr>\n",
       "      <th>0</th>\n",
       "      <td>160</td>\n",
       "      <td>6</td>\n",
       "      <td>166</td>\n",
       "    </tr>\n",
       "    <tr>\n",
       "      <th>1</th>\n",
       "      <td>8</td>\n",
       "      <td>280</td>\n",
       "      <td>288</td>\n",
       "    </tr>\n",
       "    <tr>\n",
       "      <th>2</th>\n",
       "      <td>1</td>\n",
       "      <td>0</td>\n",
       "      <td>1</td>\n",
       "    </tr>\n",
       "    <tr>\n",
       "      <th>All</th>\n",
       "      <td>169</td>\n",
       "      <td>286</td>\n",
       "      <td>455</td>\n",
       "    </tr>\n",
       "  </tbody>\n",
       "</table>\n",
       "</div>"
      ],
      "text/plain": [
       "Predicted    0    1  All\n",
       "True                    \n",
       "0          160    6  166\n",
       "1            8  280  288\n",
       "2            1    0    1\n",
       "All        169  286  455"
      ]
     },
     "execution_count": 91,
     "metadata": {},
     "output_type": "execute_result"
    }
   ],
   "source": [
    "pd.crosstab(ytest, predict, rownames=['True'], colnames=['Predicted'], margins=True)"
   ]
  },
  {
   "cell_type": "code",
   "execution_count": 92,
   "metadata": {},
   "outputs": [
    {
     "name": "stdout",
     "output_type": "stream",
     "text": [
      "             precision    recall  f1-score   support\n",
      "\n",
      "          0       0.95      0.96      0.96       166\n",
      "          1       0.98      0.97      0.98       288\n",
      "          2       0.00      0.00      0.00         1\n",
      "\n",
      "avg / total       0.97      0.97      0.97       455\n",
      "\n"
     ]
    },
    {
     "name": "stderr",
     "output_type": "stream",
     "text": [
      "/Users/lmc2/anaconda/envs/NIHFAES/lib/python3.5/site-packages/sklearn/metrics/classification.py:1113: UndefinedMetricWarning:\n",
      "\n",
      "Precision and F-score are ill-defined and being set to 0.0 in labels with no predicted samples.\n",
      "\n"
     ]
    }
   ],
   "source": [
    "from sklearn.metrics import classification_report\n",
    "print(classification_report(ytest, predict))"
   ]
  },
  {
   "cell_type": "markdown",
   "metadata": {},
   "source": [
    "***\n",
    "Predict\n",
    "***"
   ]
  },
  {
   "cell_type": "markdown",
   "metadata": {},
   "source": [
    "**Load Data**"
   ]
  },
  {
   "cell_type": "code",
   "execution_count": 93,
   "metadata": {},
   "outputs": [
    {
     "data": {
      "text/html": [
       "<div>\n",
       "<table border=\"1\" class=\"dataframe\">\n",
       "  <thead>\n",
       "    <tr style=\"text-align: right;\">\n",
       "      <th></th>\n",
       "      <th>Ill250.alt_alnScore_mean</th>\n",
       "      <th>Ill250.alt_alnScore_std</th>\n",
       "      <th>Ill250.alt_count</th>\n",
       "      <th>Ill250.alt_insertSize_mean</th>\n",
       "      <th>Ill250.alt_insertSize_std</th>\n",
       "      <th>Ill250.alt_reason_alignmentScore</th>\n",
       "      <th>Ill250.alt_reason_insertSizeScore</th>\n",
       "      <th>Ill250.alt_reason_orientation</th>\n",
       "      <th>Ill250.amb_alnScore_mean</th>\n",
       "      <th>Ill250.amb_alnScore_std</th>\n",
       "      <th>...</th>\n",
       "      <th>Ill250.ref_insertSize_std</th>\n",
       "      <th>Ill250.ref_reason_alignmentScore</th>\n",
       "      <th>Ill250.ref_reason_orientation</th>\n",
       "      <th>tandemrep_cnt</th>\n",
       "      <th>tandemrep_pct</th>\n",
       "      <th>segdup_cnt</th>\n",
       "      <th>segdup_pct</th>\n",
       "      <th>refN_cnt</th>\n",
       "      <th>refN_pct</th>\n",
       "      <th>GIAB_Crowd</th>\n",
       "    </tr>\n",
       "  </thead>\n",
       "  <tbody>\n",
       "    <tr>\n",
       "      <th>0</th>\n",
       "      <td>0.0</td>\n",
       "      <td>0.0</td>\n",
       "      <td>0</td>\n",
       "      <td>0.0</td>\n",
       "      <td>0.0</td>\n",
       "      <td>0</td>\n",
       "      <td>0</td>\n",
       "      <td>0</td>\n",
       "      <td>835.040323</td>\n",
       "      <td>155.109139</td>\n",
       "      <td>...</td>\n",
       "      <td>170.701012</td>\n",
       "      <td>23</td>\n",
       "      <td>0</td>\n",
       "      <td>0</td>\n",
       "      <td>0.0</td>\n",
       "      <td>1</td>\n",
       "      <td>0.679775</td>\n",
       "      <td>0</td>\n",
       "      <td>0</td>\n",
       "      <td>2</td>\n",
       "    </tr>\n",
       "    <tr>\n",
       "      <th>1</th>\n",
       "      <td>0.0</td>\n",
       "      <td>0.0</td>\n",
       "      <td>0</td>\n",
       "      <td>0.0</td>\n",
       "      <td>0.0</td>\n",
       "      <td>0</td>\n",
       "      <td>0</td>\n",
       "      <td>0</td>\n",
       "      <td>887.524430</td>\n",
       "      <td>128.971054</td>\n",
       "      <td>...</td>\n",
       "      <td>101.977510</td>\n",
       "      <td>30</td>\n",
       "      <td>4</td>\n",
       "      <td>0</td>\n",
       "      <td>0.0</td>\n",
       "      <td>1</td>\n",
       "      <td>1.000000</td>\n",
       "      <td>0</td>\n",
       "      <td>0</td>\n",
       "      <td>2</td>\n",
       "    </tr>\n",
       "    <tr>\n",
       "      <th>2</th>\n",
       "      <td>0.0</td>\n",
       "      <td>0.0</td>\n",
       "      <td>0</td>\n",
       "      <td>0.0</td>\n",
       "      <td>0.0</td>\n",
       "      <td>0</td>\n",
       "      <td>0</td>\n",
       "      <td>0</td>\n",
       "      <td>884.496970</td>\n",
       "      <td>167.733072</td>\n",
       "      <td>...</td>\n",
       "      <td>80.711669</td>\n",
       "      <td>55</td>\n",
       "      <td>0</td>\n",
       "      <td>0</td>\n",
       "      <td>0.0</td>\n",
       "      <td>0</td>\n",
       "      <td>0.000000</td>\n",
       "      <td>0</td>\n",
       "      <td>0</td>\n",
       "      <td>2</td>\n",
       "    </tr>\n",
       "  </tbody>\n",
       "</table>\n",
       "<p>3 rows × 35 columns</p>\n",
       "</div>"
      ],
      "text/plain": [
       "   Ill250.alt_alnScore_mean  Ill250.alt_alnScore_std  Ill250.alt_count  \\\n",
       "0                       0.0                      0.0                 0   \n",
       "1                       0.0                      0.0                 0   \n",
       "2                       0.0                      0.0                 0   \n",
       "\n",
       "   Ill250.alt_insertSize_mean  Ill250.alt_insertSize_std  \\\n",
       "0                         0.0                        0.0   \n",
       "1                         0.0                        0.0   \n",
       "2                         0.0                        0.0   \n",
       "\n",
       "   Ill250.alt_reason_alignmentScore  Ill250.alt_reason_insertSizeScore  \\\n",
       "0                                 0                                  0   \n",
       "1                                 0                                  0   \n",
       "2                                 0                                  0   \n",
       "\n",
       "   Ill250.alt_reason_orientation  Ill250.amb_alnScore_mean  \\\n",
       "0                              0                835.040323   \n",
       "1                              0                887.524430   \n",
       "2                              0                884.496970   \n",
       "\n",
       "   Ill250.amb_alnScore_std     ...      Ill250.ref_insertSize_std  \\\n",
       "0               155.109139     ...                     170.701012   \n",
       "1               128.971054     ...                     101.977510   \n",
       "2               167.733072     ...                      80.711669   \n",
       "\n",
       "   Ill250.ref_reason_alignmentScore  Ill250.ref_reason_orientation  \\\n",
       "0                                23                              0   \n",
       "1                                30                              4   \n",
       "2                                55                              0   \n",
       "\n",
       "   tandemrep_cnt  tandemrep_pct  segdup_cnt  segdup_pct  refN_cnt  refN_pct  \\\n",
       "0              0            0.0           1    0.679775         0         0   \n",
       "1              0            0.0           1    1.000000         0         0   \n",
       "2              0            0.0           0    0.000000         0         0   \n",
       "\n",
       "   GIAB_Crowd  \n",
       "0           2  \n",
       "1           2  \n",
       "2           2  \n",
       "\n",
       "[3 rows x 35 columns]"
      ]
     },
     "execution_count": 93,
     "metadata": {},
     "output_type": "execute_result"
    }
   ],
   "source": [
    "HG002_pred.head(3)"
   ]
  },
  {
   "cell_type": "code",
   "execution_count": 94,
   "metadata": {
    "collapsed": true
   },
   "outputs": [],
   "source": [
    "X2 = HG002_pred"
   ]
  },
  {
   "cell_type": "markdown",
   "metadata": {},
   "source": [
    "** Impute missing values using KNN **"
   ]
  },
  {
   "cell_type": "code",
   "execution_count": 132,
   "metadata": {},
   "outputs": [],
   "source": [
    "# # NOTE: 250bp dataframe has no missing values\n",
    "\n",
    "# # Convert dataframe to matrix\n",
    "# X2=X2.as_matrix()\n",
    "\n",
    "# #Imput missing values from three closest observations\n",
    "# X2_imputed=KNN(k=3).complete(X2)\n",
    "# X2=pd.DataFrame(X2_imputed)"
   ]
  },
  {
   "cell_type": "code",
   "execution_count": 133,
   "metadata": {},
   "outputs": [],
   "source": [
    "# X2.columns = list(HG002_pred.columns.values)"
   ]
  },
  {
   "cell_type": "code",
   "execution_count": 134,
   "metadata": {},
   "outputs": [
    {
     "ename": "ValueError",
     "evalue": "labels ['GIAB_Crowd'] not contained in axis",
     "output_type": "error",
     "traceback": [
      "\u001b[0;31m---------------------------------------------------------------------------\u001b[0m",
      "\u001b[0;31mValueError\u001b[0m                                Traceback (most recent call last)",
      "\u001b[0;32m<ipython-input-134-f76e1b6a986e>\u001b[0m in \u001b[0;36m<module>\u001b[0;34m()\u001b[0m\n\u001b[0;32m----> 1\u001b[0;31m \u001b[0mX2\u001b[0m\u001b[0;34m.\u001b[0m\u001b[0mdrop\u001b[0m\u001b[0;34m(\u001b[0m\u001b[0;34m[\u001b[0m\u001b[0;34m'GIAB_Crowd'\u001b[0m\u001b[0;34m]\u001b[0m\u001b[0;34m,\u001b[0m\u001b[0maxis\u001b[0m\u001b[0;34m=\u001b[0m\u001b[0;36m1\u001b[0m\u001b[0;34m,\u001b[0m \u001b[0minplace\u001b[0m \u001b[0;34m=\u001b[0m \u001b[0;32mTrue\u001b[0m\u001b[0;34m)\u001b[0m\u001b[0;34m\u001b[0m\u001b[0m\n\u001b[0m",
      "\u001b[0;32m/Users/lmc2/anaconda/envs/NIHFAES/lib/python3.5/site-packages/pandas/core/generic.py\u001b[0m in \u001b[0;36mdrop\u001b[0;34m(self, labels, axis, level, inplace, errors)\u001b[0m\n\u001b[1;32m   1905\u001b[0m                 \u001b[0mnew_axis\u001b[0m \u001b[0;34m=\u001b[0m \u001b[0maxis\u001b[0m\u001b[0;34m.\u001b[0m\u001b[0mdrop\u001b[0m\u001b[0;34m(\u001b[0m\u001b[0mlabels\u001b[0m\u001b[0;34m,\u001b[0m \u001b[0mlevel\u001b[0m\u001b[0;34m=\u001b[0m\u001b[0mlevel\u001b[0m\u001b[0;34m,\u001b[0m \u001b[0merrors\u001b[0m\u001b[0;34m=\u001b[0m\u001b[0merrors\u001b[0m\u001b[0;34m)\u001b[0m\u001b[0;34m\u001b[0m\u001b[0m\n\u001b[1;32m   1906\u001b[0m             \u001b[0;32melse\u001b[0m\u001b[0;34m:\u001b[0m\u001b[0;34m\u001b[0m\u001b[0m\n\u001b[0;32m-> 1907\u001b[0;31m                 \u001b[0mnew_axis\u001b[0m \u001b[0;34m=\u001b[0m \u001b[0maxis\u001b[0m\u001b[0;34m.\u001b[0m\u001b[0mdrop\u001b[0m\u001b[0;34m(\u001b[0m\u001b[0mlabels\u001b[0m\u001b[0;34m,\u001b[0m \u001b[0merrors\u001b[0m\u001b[0;34m=\u001b[0m\u001b[0merrors\u001b[0m\u001b[0;34m)\u001b[0m\u001b[0;34m\u001b[0m\u001b[0m\n\u001b[0m\u001b[1;32m   1908\u001b[0m             \u001b[0mdropped\u001b[0m \u001b[0;34m=\u001b[0m \u001b[0mself\u001b[0m\u001b[0;34m.\u001b[0m\u001b[0mreindex\u001b[0m\u001b[0;34m(\u001b[0m\u001b[0;34m**\u001b[0m\u001b[0;34m{\u001b[0m\u001b[0maxis_name\u001b[0m\u001b[0;34m:\u001b[0m \u001b[0mnew_axis\u001b[0m\u001b[0;34m}\u001b[0m\u001b[0;34m)\u001b[0m\u001b[0;34m\u001b[0m\u001b[0m\n\u001b[1;32m   1909\u001b[0m             \u001b[0;32mtry\u001b[0m\u001b[0;34m:\u001b[0m\u001b[0;34m\u001b[0m\u001b[0m\n",
      "\u001b[0;32m/Users/lmc2/anaconda/envs/NIHFAES/lib/python3.5/site-packages/pandas/indexes/base.py\u001b[0m in \u001b[0;36mdrop\u001b[0;34m(self, labels, errors)\u001b[0m\n\u001b[1;32m   3260\u001b[0m             \u001b[0;32mif\u001b[0m \u001b[0merrors\u001b[0m \u001b[0;34m!=\u001b[0m \u001b[0;34m'ignore'\u001b[0m\u001b[0;34m:\u001b[0m\u001b[0;34m\u001b[0m\u001b[0m\n\u001b[1;32m   3261\u001b[0m                 raise ValueError('labels %s not contained in axis' %\n\u001b[0;32m-> 3262\u001b[0;31m                                  labels[mask])\n\u001b[0m\u001b[1;32m   3263\u001b[0m             \u001b[0mindexer\u001b[0m \u001b[0;34m=\u001b[0m \u001b[0mindexer\u001b[0m\u001b[0;34m[\u001b[0m\u001b[0;34m~\u001b[0m\u001b[0mmask\u001b[0m\u001b[0;34m]\u001b[0m\u001b[0;34m\u001b[0m\u001b[0m\n\u001b[1;32m   3264\u001b[0m         \u001b[0;32mreturn\u001b[0m \u001b[0mself\u001b[0m\u001b[0;34m.\u001b[0m\u001b[0mdelete\u001b[0m\u001b[0;34m(\u001b[0m\u001b[0mindexer\u001b[0m\u001b[0;34m)\u001b[0m\u001b[0;34m\u001b[0m\u001b[0m\n",
      "\u001b[0;31mValueError\u001b[0m: labels ['GIAB_Crowd'] not contained in axis"
     ]
    }
   ],
   "source": [
    "X2.drop(['GIAB_Crowd'],axis=1, inplace = True)"
   ]
  },
  {
   "cell_type": "code",
   "execution_count": 135,
   "metadata": {
    "collapsed": true
   },
   "outputs": [],
   "source": [
    "# Order features\n",
    "X5 = X2.reindex_axis(sorted(X2.columns), axis=1)"
   ]
  },
  {
   "cell_type": "code",
   "execution_count": 136,
   "metadata": {},
   "outputs": [
    {
     "data": {
      "text/plain": [
       "array([0, 1, 1, ..., 0, 0, 0])"
      ]
     },
     "execution_count": 136,
     "metadata": {},
     "output_type": "execute_result"
    }
   ],
   "source": [
    "model.predict(X5)"
   ]
  },
  {
   "cell_type": "code",
   "execution_count": 137,
   "metadata": {},
   "outputs": [
    {
     "data": {
      "text/plain": [
       "0.792156862745098"
      ]
     },
     "execution_count": 137,
     "metadata": {},
     "output_type": "execute_result"
    }
   ],
   "source": [
    "# Calculate Precision Score\n",
    "true = HG002_pred_2['GIAB_Crowd']\n",
    "predicted = model.predict(X5)\n",
    "precision_score(true, predicted, average='micro') "
   ]
  },
  {
   "cell_type": "code",
   "execution_count": 138,
   "metadata": {},
   "outputs": [
    {
     "data": {
      "text/html": [
       "<div>\n",
       "<table border=\"1\" class=\"dataframe\">\n",
       "  <thead>\n",
       "    <tr style=\"text-align: right;\">\n",
       "      <th>Predicted</th>\n",
       "      <th>0</th>\n",
       "      <th>1</th>\n",
       "      <th>All</th>\n",
       "    </tr>\n",
       "    <tr>\n",
       "      <th>True</th>\n",
       "      <th></th>\n",
       "      <th></th>\n",
       "      <th></th>\n",
       "    </tr>\n",
       "  </thead>\n",
       "  <tbody>\n",
       "    <tr>\n",
       "      <th>0</th>\n",
       "      <td>594</td>\n",
       "      <td>4</td>\n",
       "      <td>598</td>\n",
       "    </tr>\n",
       "    <tr>\n",
       "      <th>1</th>\n",
       "      <td>106</td>\n",
       "      <td>1628</td>\n",
       "      <td>1734</td>\n",
       "    </tr>\n",
       "    <tr>\n",
       "      <th>2</th>\n",
       "      <td>24</td>\n",
       "      <td>449</td>\n",
       "      <td>473</td>\n",
       "    </tr>\n",
       "    <tr>\n",
       "      <th>All</th>\n",
       "      <td>724</td>\n",
       "      <td>2081</td>\n",
       "      <td>2805</td>\n",
       "    </tr>\n",
       "  </tbody>\n",
       "</table>\n",
       "</div>"
      ],
      "text/plain": [
       "Predicted    0     1   All\n",
       "True                      \n",
       "0          594     4   598\n",
       "1          106  1628  1734\n",
       "2           24   449   473\n",
       "All        724  2081  2805"
      ]
     },
     "execution_count": 138,
     "metadata": {},
     "output_type": "execute_result"
    }
   ],
   "source": [
    "pd.crosstab(true, predicted, rownames=['True'], colnames=['Predicted'], margins=True)"
   ]
  },
  {
   "cell_type": "code",
   "execution_count": 139,
   "metadata": {},
   "outputs": [
    {
     "name": "stdout",
     "output_type": "stream",
     "text": [
      "             precision    recall  f1-score   support\n",
      "\n",
      "          0       0.82      0.99      0.90       598\n",
      "          1       0.78      0.94      0.85      1734\n",
      "          2       0.00      0.00      0.00       473\n",
      "\n",
      "avg / total       0.66      0.79      0.72      2805\n",
      "\n"
     ]
    },
    {
     "name": "stderr",
     "output_type": "stream",
     "text": [
      "/Users/lmc2/anaconda/envs/NIHFAES/lib/python3.5/site-packages/sklearn/metrics/classification.py:1113: UndefinedMetricWarning:\n",
      "\n",
      "Precision and F-score are ill-defined and being set to 0.0 in labels with no predicted samples.\n",
      "\n"
     ]
    }
   ],
   "source": [
    "from sklearn.metrics import classification_report\n",
    "true = HG002_pred_2['GIAB_Crowd']\n",
    "pred = model.predict(X5)\n",
    "print(classification_report(true, pred))"
   ]
  },
  {
   "cell_type": "code",
   "execution_count": 140,
   "metadata": {},
   "outputs": [],
   "source": [
    "pred_prob = model.predict_proba(X5)"
   ]
  },
  {
   "cell_type": "code",
   "execution_count": 141,
   "metadata": {},
   "outputs": [],
   "source": [
    "X5['predicted_label'] = pred\n",
    "X5['Label'] = HG002_pred_2['GIAB_Crowd']\n",
    "X5['chrom'] = HG002_pred_2['chrom']\n",
    "X5['start'] = HG002_pred_2['start']\n",
    "X5['end'] = HG002_pred_2['end']"
   ]
  },
  {
   "cell_type": "code",
   "execution_count": 142,
   "metadata": {
    "collapsed": true
   },
   "outputs": [],
   "source": [
    "X6 = pd.concat([X5, pd.DataFrame(pred_prob, columns=['1','2','3','4'])])"
   ]
  },
  {
   "cell_type": "code",
   "execution_count": 143,
   "metadata": {
    "collapsed": true
   },
   "outputs": [],
   "source": [
    "X6.to_csv('250bp_pred_prob.csv', index=False)"
   ]
  },
  {
   "cell_type": "code",
   "execution_count": 144,
   "metadata": {
    "collapsed": true
   },
   "outputs": [],
   "source": [
    "X6 = pd.read_csv('250bp_pred_prob.csv')"
   ]
  },
  {
   "cell_type": "code",
   "execution_count": 145,
   "metadata": {
    "collapsed": true
   },
   "outputs": [],
   "source": [
    "X6.rename(columns={'1': 'unknown'}, inplace=True)\n",
    "X6.rename(columns={'2': 'Hom_Var'}, inplace=True)\n",
    "X6.rename(columns={'3': 'Het_Var'}, inplace=True)\n",
    "X6.rename(columns={'4': 'Hom_Ref'}, inplace=True)"
   ]
  },
  {
   "cell_type": "code",
   "execution_count": 120,
   "metadata": {
    "collapsed": true
   },
   "outputs": [],
   "source": []
  },
  {
   "cell_type": "markdown",
   "metadata": {},
   "source": [
    "** Show Size Distribution of Labels with Predict Probability > 0.8 **"
   ]
  },
  {
   "cell_type": "code",
   "execution_count": 146,
   "metadata": {
    "collapsed": true
   },
   "outputs": [],
   "source": [
    "X6['Hom_Var_str'] = X6['Hom_Var'].astype(str)"
   ]
  },
  {
   "cell_type": "code",
   "execution_count": 160,
   "metadata": {
    "collapsed": true
   },
   "outputs": [],
   "source": [
    "X_homVar_conf = X6[(X6['Hom_Var'] == 0.9) | (X6['Hom_Var'] == 1) | (X6['Hom_Var'] == 0.8)]"
   ]
  },
  {
   "cell_type": "code",
   "execution_count": 182,
   "metadata": {},
   "outputs": [
    {
     "name": "stderr",
     "output_type": "stream",
     "text": [
      "/Users/lmc2/anaconda/envs/NIHFAES/lib/python3.5/site-packages/ipykernel/__main__.py:1: SettingWithCopyWarning:\n",
      "\n",
      "\n",
      "A value is trying to be set on a copy of a slice from a DataFrame.\n",
      "Try using .loc[row_indexer,col_indexer] = value instead\n",
      "\n",
      "See the caveats in the documentation: http://pandas.pydata.org/pandas-docs/stable/indexing.html#indexing-view-versus-copy\n",
      "\n",
      "/Users/lmc2/anaconda/envs/NIHFAES/lib/python3.5/site-packages/ipykernel/__main__.py:2: SettingWithCopyWarning:\n",
      "\n",
      "\n",
      "A value is trying to be set on a copy of a slice from a DataFrame.\n",
      "Try using .loc[row_indexer,col_indexer] = value instead\n",
      "\n",
      "See the caveats in the documentation: http://pandas.pydata.org/pandas-docs/stable/indexing.html#indexing-view-versus-copy\n",
      "\n"
     ]
    }
   ],
   "source": [
    "X_homVar_conf['Size'] = HG002_pred_2['Size'].abs()\n",
    "X_homVar_conf['Size_Log'] = np.log10(X_homVar_conf.Size)"
   ]
  },
  {
   "cell_type": "code",
   "execution_count": 162,
   "metadata": {},
   "outputs": [
    {
     "data": {
      "text/html": [
       "\n",
       "    <div class=\"bk-root\">\n",
       "        <a href=\"http://bokeh.pydata.org\" target=\"_blank\" class=\"bk-logo bk-logo-small bk-logo-notebook\"></a>\n",
       "        <span id=\"ce24758d-839a-495f-aee5-c45360a291da\">Loading BokehJS ...</span>\n",
       "    </div>"
      ]
     },
     "metadata": {},
     "output_type": "display_data"
    },
    {
     "data": {
      "application/javascript": [
       "\n",
       "(function(global) {\n",
       "  function now() {\n",
       "    return new Date();\n",
       "  }\n",
       "\n",
       "  var force = true;\n",
       "\n",
       "  if (typeof (window._bokeh_onload_callbacks) === \"undefined\" || force === true) {\n",
       "    window._bokeh_onload_callbacks = [];\n",
       "    window._bokeh_is_loading = undefined;\n",
       "  }\n",
       "\n",
       "\n",
       "  \n",
       "  if (typeof (window._bokeh_timeout) === \"undefined\" || force === true) {\n",
       "    window._bokeh_timeout = Date.now() + 5000;\n",
       "    window._bokeh_failed_load = false;\n",
       "  }\n",
       "\n",
       "  var NB_LOAD_WARNING = {'data': {'text/html':\n",
       "     \"<div style='background-color: #fdd'>\\n\"+\n",
       "     \"<p>\\n\"+\n",
       "     \"BokehJS does not appear to have successfully loaded. If loading BokehJS from CDN, this \\n\"+\n",
       "     \"may be due to a slow or bad network connection. Possible fixes:\\n\"+\n",
       "     \"</p>\\n\"+\n",
       "     \"<ul>\\n\"+\n",
       "     \"<li>re-rerun `output_notebook()` to attempt to load from CDN again, or</li>\\n\"+\n",
       "     \"<li>use INLINE resources instead, as so:</li>\\n\"+\n",
       "     \"</ul>\\n\"+\n",
       "     \"<code>\\n\"+\n",
       "     \"from bokeh.resources import INLINE\\n\"+\n",
       "     \"output_notebook(resources=INLINE)\\n\"+\n",
       "     \"</code>\\n\"+\n",
       "     \"</div>\"}};\n",
       "\n",
       "  function display_loaded() {\n",
       "    if (window.Bokeh !== undefined) {\n",
       "      document.getElementById(\"ce24758d-839a-495f-aee5-c45360a291da\").textContent = \"BokehJS successfully loaded.\";\n",
       "    } else if (Date.now() < window._bokeh_timeout) {\n",
       "      setTimeout(display_loaded, 100)\n",
       "    }\n",
       "  }\n",
       "\n",
       "  function run_callbacks() {\n",
       "    window._bokeh_onload_callbacks.forEach(function(callback) { callback() });\n",
       "    delete window._bokeh_onload_callbacks\n",
       "    console.info(\"Bokeh: all callbacks have finished\");\n",
       "  }\n",
       "\n",
       "  function load_libs(js_urls, callback) {\n",
       "    window._bokeh_onload_callbacks.push(callback);\n",
       "    if (window._bokeh_is_loading > 0) {\n",
       "      console.log(\"Bokeh: BokehJS is being loaded, scheduling callback at\", now());\n",
       "      return null;\n",
       "    }\n",
       "    if (js_urls == null || js_urls.length === 0) {\n",
       "      run_callbacks();\n",
       "      return null;\n",
       "    }\n",
       "    console.log(\"Bokeh: BokehJS not loaded, scheduling load and callback at\", now());\n",
       "    window._bokeh_is_loading = js_urls.length;\n",
       "    for (var i = 0; i < js_urls.length; i++) {\n",
       "      var url = js_urls[i];\n",
       "      var s = document.createElement('script');\n",
       "      s.src = url;\n",
       "      s.async = false;\n",
       "      s.onreadystatechange = s.onload = function() {\n",
       "        window._bokeh_is_loading--;\n",
       "        if (window._bokeh_is_loading === 0) {\n",
       "          console.log(\"Bokeh: all BokehJS libraries loaded\");\n",
       "          run_callbacks()\n",
       "        }\n",
       "      };\n",
       "      s.onerror = function() {\n",
       "        console.warn(\"failed to load library \" + url);\n",
       "      };\n",
       "      console.log(\"Bokeh: injecting script tag for BokehJS library: \", url);\n",
       "      document.getElementsByTagName(\"head\")[0].appendChild(s);\n",
       "    }\n",
       "  };var element = document.getElementById(\"ce24758d-839a-495f-aee5-c45360a291da\");\n",
       "  if (element == null) {\n",
       "    console.log(\"Bokeh: ERROR: autoload.js configured with elementid 'ce24758d-839a-495f-aee5-c45360a291da' but no matching script tag was found. \")\n",
       "    return false;\n",
       "  }\n",
       "\n",
       "  var js_urls = [\"https://cdn.pydata.org/bokeh/release/bokeh-0.12.4.min.js\", \"https://cdn.pydata.org/bokeh/release/bokeh-widgets-0.12.4.min.js\"];\n",
       "\n",
       "  var inline_js = [\n",
       "    function(Bokeh) {\n",
       "      Bokeh.set_log_level(\"info\");\n",
       "    },\n",
       "    \n",
       "    function(Bokeh) {\n",
       "      \n",
       "      document.getElementById(\"ce24758d-839a-495f-aee5-c45360a291da\").textContent = \"BokehJS is loading...\";\n",
       "    },\n",
       "    function(Bokeh) {\n",
       "      console.log(\"Bokeh: injecting CSS: https://cdn.pydata.org/bokeh/release/bokeh-0.12.4.min.css\");\n",
       "      Bokeh.embed.inject_css(\"https://cdn.pydata.org/bokeh/release/bokeh-0.12.4.min.css\");\n",
       "      console.log(\"Bokeh: injecting CSS: https://cdn.pydata.org/bokeh/release/bokeh-widgets-0.12.4.min.css\");\n",
       "      Bokeh.embed.inject_css(\"https://cdn.pydata.org/bokeh/release/bokeh-widgets-0.12.4.min.css\");\n",
       "    }\n",
       "  ];\n",
       "\n",
       "  function run_inline_js() {\n",
       "    \n",
       "    if ((window.Bokeh !== undefined) || (force === true)) {\n",
       "      for (var i = 0; i < inline_js.length; i++) {\n",
       "        inline_js[i](window.Bokeh);\n",
       "      }if (force === true) {\n",
       "        display_loaded();\n",
       "      }} else if (Date.now() < window._bokeh_timeout) {\n",
       "      setTimeout(run_inline_js, 100);\n",
       "    } else if (!window._bokeh_failed_load) {\n",
       "      console.log(\"Bokeh: BokehJS failed to load within specified timeout.\");\n",
       "      window._bokeh_failed_load = true;\n",
       "    } else if (force !== true) {\n",
       "      var cell = $(document.getElementById(\"ce24758d-839a-495f-aee5-c45360a291da\")).parents('.cell').data().cell;\n",
       "      cell.output_area.append_execute_result(NB_LOAD_WARNING)\n",
       "    }\n",
       "\n",
       "  }\n",
       "\n",
       "  if (window._bokeh_is_loading === 0) {\n",
       "    console.log(\"Bokeh: BokehJS loaded, going straight to plotting\");\n",
       "    run_inline_js();\n",
       "  } else {\n",
       "    load_libs(js_urls, function() {\n",
       "      console.log(\"Bokeh: BokehJS plotting callback run at\", now());\n",
       "      run_inline_js();\n",
       "    });\n",
       "  }\n",
       "}(this));"
      ]
     },
     "metadata": {},
     "output_type": "display_data"
    }
   ],
   "source": [
    "output_notebook()"
   ]
  },
  {
   "cell_type": "code",
   "execution_count": 183,
   "metadata": {},
   "outputs": [
    {
     "name": "stderr",
     "output_type": "stream",
     "text": [
      "INFO:bokeh.core.state:Session output file '250bp_HomVar_PredProb0.8+.html' already exists, will be overwritten.\n"
     ]
    },
    {
     "data": {
      "text/html": [
       "\n",
       "\n",
       "    <div class=\"bk-root\">\n",
       "        <div class=\"bk-plotdiv\" id=\"a8f2b83c-7f00-47fd-a3f0-8f2113ebf4a6\"></div>\n",
       "    </div>\n",
       "<script type=\"text/javascript\">\n",
       "  \n",
       "  (function(global) {\n",
       "    function now() {\n",
       "      return new Date();\n",
       "    }\n",
       "  \n",
       "    var force = false;\n",
       "  \n",
       "    if (typeof (window._bokeh_onload_callbacks) === \"undefined\" || force === true) {\n",
       "      window._bokeh_onload_callbacks = [];\n",
       "      window._bokeh_is_loading = undefined;\n",
       "    }\n",
       "  \n",
       "  \n",
       "    \n",
       "    if (typeof (window._bokeh_timeout) === \"undefined\" || force === true) {\n",
       "      window._bokeh_timeout = Date.now() + 0;\n",
       "      window._bokeh_failed_load = false;\n",
       "    }\n",
       "  \n",
       "    var NB_LOAD_WARNING = {'data': {'text/html':\n",
       "       \"<div style='background-color: #fdd'>\\n\"+\n",
       "       \"<p>\\n\"+\n",
       "       \"BokehJS does not appear to have successfully loaded. If loading BokehJS from CDN, this \\n\"+\n",
       "       \"may be due to a slow or bad network connection. Possible fixes:\\n\"+\n",
       "       \"</p>\\n\"+\n",
       "       \"<ul>\\n\"+\n",
       "       \"<li>re-rerun `output_notebook()` to attempt to load from CDN again, or</li>\\n\"+\n",
       "       \"<li>use INLINE resources instead, as so:</li>\\n\"+\n",
       "       \"</ul>\\n\"+\n",
       "       \"<code>\\n\"+\n",
       "       \"from bokeh.resources import INLINE\\n\"+\n",
       "       \"output_notebook(resources=INLINE)\\n\"+\n",
       "       \"</code>\\n\"+\n",
       "       \"</div>\"}};\n",
       "  \n",
       "    function display_loaded() {\n",
       "      if (window.Bokeh !== undefined) {\n",
       "        document.getElementById(\"a8f2b83c-7f00-47fd-a3f0-8f2113ebf4a6\").textContent = \"BokehJS successfully loaded.\";\n",
       "      } else if (Date.now() < window._bokeh_timeout) {\n",
       "        setTimeout(display_loaded, 100)\n",
       "      }\n",
       "    }\n",
       "  \n",
       "    function run_callbacks() {\n",
       "      window._bokeh_onload_callbacks.forEach(function(callback) { callback() });\n",
       "      delete window._bokeh_onload_callbacks\n",
       "      console.info(\"Bokeh: all callbacks have finished\");\n",
       "    }\n",
       "  \n",
       "    function load_libs(js_urls, callback) {\n",
       "      window._bokeh_onload_callbacks.push(callback);\n",
       "      if (window._bokeh_is_loading > 0) {\n",
       "        console.log(\"Bokeh: BokehJS is being loaded, scheduling callback at\", now());\n",
       "        return null;\n",
       "      }\n",
       "      if (js_urls == null || js_urls.length === 0) {\n",
       "        run_callbacks();\n",
       "        return null;\n",
       "      }\n",
       "      console.log(\"Bokeh: BokehJS not loaded, scheduling load and callback at\", now());\n",
       "      window._bokeh_is_loading = js_urls.length;\n",
       "      for (var i = 0; i < js_urls.length; i++) {\n",
       "        var url = js_urls[i];\n",
       "        var s = document.createElement('script');\n",
       "        s.src = url;\n",
       "        s.async = false;\n",
       "        s.onreadystatechange = s.onload = function() {\n",
       "          window._bokeh_is_loading--;\n",
       "          if (window._bokeh_is_loading === 0) {\n",
       "            console.log(\"Bokeh: all BokehJS libraries loaded\");\n",
       "            run_callbacks()\n",
       "          }\n",
       "        };\n",
       "        s.onerror = function() {\n",
       "          console.warn(\"failed to load library \" + url);\n",
       "        };\n",
       "        console.log(\"Bokeh: injecting script tag for BokehJS library: \", url);\n",
       "        document.getElementsByTagName(\"head\")[0].appendChild(s);\n",
       "      }\n",
       "    };var element = document.getElementById(\"a8f2b83c-7f00-47fd-a3f0-8f2113ebf4a6\");\n",
       "    if (element == null) {\n",
       "      console.log(\"Bokeh: ERROR: autoload.js configured with elementid 'a8f2b83c-7f00-47fd-a3f0-8f2113ebf4a6' but no matching script tag was found. \")\n",
       "      return false;\n",
       "    }\n",
       "  \n",
       "    var js_urls = [];\n",
       "  \n",
       "    var inline_js = [\n",
       "      function(Bokeh) {\n",
       "        (function() {\n",
       "          var fn = function() {\n",
       "            var docs_json = {\"d416d411-4004-4cc1-832d-284007b7f8b4\":{\"roots\":{\"references\":[{\"attributes\":{\"data_source\":{\"id\":\"ffd2117a-9c29-4e12-bab4-7dfcd78a693e\",\"type\":\"ColumnDataSource\"},\"glyph\":{\"id\":\"fba2b9b5-49a5-44e2-8ac7-54b98c5f0625\",\"type\":\"Rect\"},\"hover_glyph\":null,\"nonselection_glyph\":null,\"selection_glyph\":null},\"id\":\"71fea299-d6ad-484a-9c8d-dbed65304e46\",\"type\":\"GlyphRenderer\"},{\"attributes\":{\"fill_alpha\":{\"field\":\"fill_alpha\"},\"fill_color\":{\"field\":\"color\"},\"height\":{\"field\":\"height\",\"units\":\"data\"},\"line_color\":{\"field\":\"line_color\"},\"width\":{\"field\":\"width\",\"units\":\"data\"},\"x\":{\"field\":\"x\"},\"y\":{\"field\":\"y\"}},\"id\":\"5515d454-a4c7-4704-ba72-b1ac9c9ec106\",\"type\":\"Rect\"},{\"attributes\":{\"callback\":null,\"column_names\":[\"label\",\"line_color\",\"height\",\"line_alpha\",\"fill_alpha\",\"width\",\"color\",\"x\",\"y\"],\"data\":{\"chart_index\":[\"(1.963662, 2.046491]\"],\"color\":[\"LightSlateGray\"],\"fill_alpha\":[0.8],\"height\":[13.0],\"label\":[\"(1.963662, 2.046491]\"],\"line_alpha\":[1.0],\"line_color\":[\"black\"],\"width\":[0.0828289677573466],\"x\":[\"2.0050765\"],\"y\":[6.5]}},\"id\":\"fd36e11d-0b7e-4c01-872b-4e1aaa5b39c8\",\"type\":\"ColumnDataSource\"},{\"attributes\":{\"fill_alpha\":{\"field\":\"fill_alpha\"},\"fill_color\":{\"field\":\"color\"},\"height\":{\"field\":\"height\",\"units\":\"data\"},\"line_color\":{\"field\":\"line_color\"},\"width\":{\"field\":\"width\",\"units\":\"data\"},\"x\":{\"field\":\"x\"},\"y\":{\"field\":\"y\"}},\"id\":\"0a020094-e3b2-48c0-8648-c472981f4e52\",\"type\":\"Rect\"},{\"attributes\":{\"callback\":null,\"end\":158.4},\"id\":\"8026fc72-a49e-4a5f-939f-1ba0928de740\",\"type\":\"Range1d\"},{\"attributes\":{\"data_source\":{\"id\":\"ab004d7c-4933-48c1-8d4e-9e6130f5bda0\",\"type\":\"ColumnDataSource\"},\"glyph\":{\"id\":\"db0518eb-2b9f-42a7-8ab4-8e56c5be18bf\",\"type\":\"Rect\"},\"hover_glyph\":null,\"nonselection_glyph\":null,\"selection_glyph\":null},\"id\":\"49d2b948-abc6-493e-a18a-c26469602cd3\",\"type\":\"GlyphRenderer\"},{\"attributes\":{\"callback\":null,\"column_names\":[\"label\",\"line_color\",\"height\",\"line_alpha\",\"fill_alpha\",\"width\",\"color\",\"x\",\"y\"],\"data\":{\"chart_index\":[\"(1.632346, 1.715175]\"],\"color\":[\"LightSlateGray\"],\"fill_alpha\":[0.8],\"height\":[23.0],\"label\":[\"(1.632346, 1.715175]\"],\"line_alpha\":[1.0],\"line_color\":[\"black\"],\"width\":[0.08282896775734683],\"x\":[\"1.6737605\"],\"y\":[11.5]}},\"id\":\"936d7de1-e7f8-47e0-a90f-94be27973e17\",\"type\":\"ColumnDataSource\"},{\"attributes\":{\"data_source\":{\"id\":\"084fa26a-af5d-4486-9607-bd8d7c7a7faf\",\"type\":\"ColumnDataSource\"},\"glyph\":{\"id\":\"06906fe6-a60e-4399-9e78-58e8483bcf57\",\"type\":\"Rect\"},\"hover_glyph\":null,\"nonselection_glyph\":null,\"selection_glyph\":null},\"id\":\"e588e010-901a-47e9-9d33-2ffe46ac9f70\",\"type\":\"GlyphRenderer\"},{\"attributes\":{\"plot\":{\"id\":\"3b73e9ce-7d78-465b-8754-62aeb7ee67ea\",\"subtype\":\"Chart\",\"type\":\"Plot\"}},\"id\":\"54a5734c-8676-41c5-8128-83cb494dcb51\",\"type\":\"HelpTool\"},{\"attributes\":{\"below\":[{\"id\":\"e5272e29-4549-43bc-8c60-c4fe403f50fe\",\"type\":\"LinearAxis\"}],\"css_classes\":null,\"left\":[{\"id\":\"228e4eab-c570-4023-aa35-45ab5cfcc0c6\",\"type\":\"LinearAxis\"}],\"renderers\":[{\"id\":\"ea590b96-4ec8-4c9d-8411-dd5a74f12d06\",\"type\":\"BoxAnnotation\"},{\"id\":\"e588e010-901a-47e9-9d33-2ffe46ac9f70\",\"type\":\"GlyphRenderer\"},{\"id\":\"9dccad19-910d-441a-88ba-a1a83fc43586\",\"type\":\"GlyphRenderer\"},{\"id\":\"bf89ff2e-9988-4c1c-a6ac-14abaa6c31be\",\"type\":\"GlyphRenderer\"},{\"id\":\"d06e2fa7-0dcd-4aaf-8352-846ce075ed09\",\"type\":\"GlyphRenderer\"},{\"id\":\"c0aef2bd-1f73-41ff-9dc2-1bd9b48b4430\",\"type\":\"GlyphRenderer\"},{\"id\":\"76025d87-2631-46c5-bbec-2925117ad108\",\"type\":\"GlyphRenderer\"},{\"id\":\"71fea299-d6ad-484a-9c8d-dbed65304e46\",\"type\":\"GlyphRenderer\"},{\"id\":\"adff1114-4b5c-4821-90b0-6594fdb3ff45\",\"type\":\"GlyphRenderer\"},{\"id\":\"2b5189e6-d5d5-4f6c-98c7-97b46a8140af\",\"type\":\"GlyphRenderer\"},{\"id\":\"a038836a-9158-4e62-8abe-0b33fcc8a35e\",\"type\":\"GlyphRenderer\"},{\"id\":\"c0a8a0d3-d189-443f-8772-b908d6b1d440\",\"type\":\"GlyphRenderer\"},{\"id\":\"3ed550d5-4506-403a-84f5-5a3aad29a362\",\"type\":\"GlyphRenderer\"},{\"id\":\"c9bf19cf-1403-475e-b312-3a1babec71dd\",\"type\":\"GlyphRenderer\"},{\"id\":\"0ede938a-7e36-42e3-8b27-2ca1006b8a7c\",\"type\":\"GlyphRenderer\"},{\"id\":\"59fb6c82-1cd2-4734-81ac-2d355baafc84\",\"type\":\"GlyphRenderer\"},{\"id\":\"c8192c62-6d4f-40d8-af96-4bd28cc9bdb0\",\"type\":\"GlyphRenderer\"},{\"id\":\"0f04f9f0-2230-479b-ac05-66b583b38c0f\",\"type\":\"GlyphRenderer\"},{\"id\":\"db3c3080-e447-455e-8a56-162ec24fafa1\",\"type\":\"GlyphRenderer\"},{\"id\":\"e3b20fbb-d2cf-45a6-bf9c-35b24f22676e\",\"type\":\"GlyphRenderer\"},{\"id\":\"e6785c7f-0c5d-4a7a-918c-61e2f1791d2f\",\"type\":\"GlyphRenderer\"},{\"id\":\"c39ff5fa-d3b9-4c70-bd12-afab9adbbda1\",\"type\":\"GlyphRenderer\"},{\"id\":\"1efc49e9-fc41-41bc-9ea1-24dec0cfeee9\",\"type\":\"GlyphRenderer\"},{\"id\":\"e855c9b2-f1ce-4154-a0d5-cb08cdbfa82e\",\"type\":\"GlyphRenderer\"},{\"id\":\"e9e9f534-bc15-4d8d-b155-b587f5329bb4\",\"type\":\"GlyphRenderer\"},{\"id\":\"f65fdb0d-99e4-4cd7-8fa8-1f52d13966c6\",\"type\":\"GlyphRenderer\"},{\"id\":\"94c41742-08b6-4f55-8ff3-f08c4d6b555e\",\"type\":\"GlyphRenderer\"},{\"id\":\"4aeae80f-5a7e-4225-9cf0-5aa36741f5e8\",\"type\":\"GlyphRenderer\"},{\"id\":\"143d95ae-6764-4c9e-8bc7-68a882e725c0\",\"type\":\"GlyphRenderer\"},{\"id\":\"e041c0df-40cb-4759-a463-b50986fe2955\",\"type\":\"GlyphRenderer\"},{\"id\":\"49d2b948-abc6-493e-a18a-c26469602cd3\",\"type\":\"GlyphRenderer\"},{\"id\":\"8018e174-e03f-4505-98bc-e0c68f3b69af\",\"type\":\"Legend\"},{\"id\":\"e5272e29-4549-43bc-8c60-c4fe403f50fe\",\"type\":\"LinearAxis\"},{\"id\":\"228e4eab-c570-4023-aa35-45ab5cfcc0c6\",\"type\":\"LinearAxis\"},{\"id\":\"ff7375ec-5c45-4801-8e8b-a048a60b04d2\",\"type\":\"Grid\"}],\"title\":{\"id\":\"13256b4e-5110-4cb8-ae49-515fde2cc3ae\",\"type\":\"Title\"},\"tool_events\":{\"id\":\"94ba4bfd-d242-4090-ac9b-5299001c42fa\",\"type\":\"ToolEvents\"},\"toolbar\":{\"id\":\"297731d6-dea7-4332-9163-30217525a2e2\",\"type\":\"Toolbar\"},\"x_mapper_type\":\"auto\",\"x_range\":{\"id\":\"8309aca7-c4dd-46f9-b216-7921d86da42b\",\"type\":\"Range1d\"},\"y_mapper_type\":\"auto\",\"y_range\":{\"id\":\"8026fc72-a49e-4a5f-939f-1ba0928de740\",\"type\":\"Range1d\"}},\"id\":\"3b73e9ce-7d78-465b-8754-62aeb7ee67ea\",\"subtype\":\"Chart\",\"type\":\"Plot\"},{\"attributes\":{\"data_source\":{\"id\":\"d628da2a-181d-4b71-8974-3deb99ddf4fc\",\"type\":\"ColumnDataSource\"},\"glyph\":{\"id\":\"0933e844-032b-4a8e-ba8e-f638a2323593\",\"type\":\"Rect\"},\"hover_glyph\":null,\"nonselection_glyph\":null,\"selection_glyph\":null},\"id\":\"c39ff5fa-d3b9-4c70-bd12-afab9adbbda1\",\"type\":\"GlyphRenderer\"},{\"attributes\":{\"callback\":null,\"column_names\":[\"label\",\"line_color\",\"height\",\"line_alpha\",\"fill_alpha\",\"width\",\"color\",\"x\",\"y\"],\"data\":{\"chart_index\":[\"(1.880833, 1.963662]\"],\"color\":[\"LightSlateGray\"],\"fill_alpha\":[0.8],\"height\":[13.0],\"label\":[\"(1.880833, 1.963662]\"],\"line_alpha\":[1.0],\"line_color\":[\"black\"],\"width\":[0.0828289677573466],\"x\":[\"1.9222475\"],\"y\":[6.5]}},\"id\":\"858db38a-21bc-4773-8fe9-09094b9aa430\",\"type\":\"ColumnDataSource\"},{\"attributes\":{\"fill_alpha\":{\"field\":\"fill_alpha\"},\"fill_color\":{\"field\":\"color\"},\"height\":{\"field\":\"height\",\"units\":\"data\"},\"line_color\":{\"field\":\"line_color\"},\"width\":{\"field\":\"width\",\"units\":\"data\"},\"x\":{\"field\":\"x\"},\"y\":{\"field\":\"y\"}},\"id\":\"9ba61eb7-e391-427c-81e0-62b908fea043\",\"type\":\"Rect\"},{\"attributes\":{\"fill_alpha\":{\"field\":\"fill_alpha\"},\"fill_color\":{\"field\":\"color\"},\"height\":{\"field\":\"height\",\"units\":\"data\"},\"line_color\":{\"field\":\"line_color\"},\"width\":{\"field\":\"width\",\"units\":\"data\"},\"x\":{\"field\":\"x\"},\"y\":{\"field\":\"y\"}},\"id\":\"11b96ba5-c8a3-48ce-abed-4d50ee45186e\",\"type\":\"Rect\"},{\"attributes\":{\"fill_alpha\":{\"field\":\"fill_alpha\"},\"fill_color\":{\"field\":\"color\"},\"height\":{\"field\":\"height\",\"units\":\"data\"},\"line_color\":{\"field\":\"line_color\"},\"width\":{\"field\":\"width\",\"units\":\"data\"},\"x\":{\"field\":\"x\"},\"y\":{\"field\":\"y\"}},\"id\":\"5148cdc7-566c-4e2d-abb2-d96e611e0b56\",\"type\":\"Rect\"},{\"attributes\":{\"callback\":null,\"column_names\":[\"label\",\"line_color\",\"height\",\"line_alpha\",\"fill_alpha\",\"width\",\"color\",\"x\",\"y\"],\"data\":{\"chart_index\":[\"(3.206096, 3.288925]\"],\"color\":[\"LightSlateGray\"],\"fill_alpha\":[0.8],\"height\":[7.0],\"label\":[\"(3.206096, 3.288925]\"],\"line_alpha\":[1.0],\"line_color\":[\"black\"],\"width\":[0.08282896775734727],\"x\":[\"3.2475104999999997\"],\"y\":[3.5]}},\"id\":\"3ade327b-fb24-47b6-95fa-a7df8a31adb4\",\"type\":\"ColumnDataSource\"},{\"attributes\":{\"data_source\":{\"id\":\"0b94fc63-d2b0-4fdd-be25-19fe715750e8\",\"type\":\"ColumnDataSource\"},\"glyph\":{\"id\":\"c7009deb-2a7e-439c-867f-6b27b14d99db\",\"type\":\"Rect\"},\"hover_glyph\":null,\"nonselection_glyph\":null,\"selection_glyph\":null},\"id\":\"d06e2fa7-0dcd-4aaf-8352-846ce075ed09\",\"type\":\"GlyphRenderer\"},{\"attributes\":{\"callback\":null,\"column_names\":[\"label\",\"line_color\",\"height\",\"line_alpha\",\"fill_alpha\",\"width\",\"color\",\"x\",\"y\"],\"data\":{\"chart_index\":[\"(3.454583, 3.537412]\"],\"color\":[\"LightSlateGray\"],\"fill_alpha\":[0.8],\"height\":[1.0],\"label\":[\"(3.454583, 3.537412]\"],\"line_alpha\":[1.0],\"line_color\":[\"black\"],\"width\":[0.08282896775734683],\"x\":[\"3.4959974999999996\"],\"y\":[0.5]}},\"id\":\"03fb20ab-6f94-42dd-babc-a54704b7667c\",\"type\":\"ColumnDataSource\"},{\"attributes\":{\"fill_alpha\":{\"field\":\"fill_alpha\"},\"fill_color\":{\"field\":\"color\"},\"height\":{\"field\":\"height\",\"units\":\"data\"},\"line_color\":{\"field\":\"line_color\"},\"width\":{\"field\":\"width\",\"units\":\"data\"},\"x\":{\"field\":\"x\"},\"y\":{\"field\":\"y\"}},\"id\":\"edbbf900-03fa-40cb-bf8c-aa10c3a20688\",\"type\":\"Rect\"},{\"attributes\":{\"data_source\":{\"id\":\"936d7de1-e7f8-47e0-a90f-94be27973e17\",\"type\":\"ColumnDataSource\"},\"glyph\":{\"id\":\"8bf83918-f955-4472-8f69-1cf967e92d51\",\"type\":\"Rect\"},\"hover_glyph\":null,\"nonselection_glyph\":null,\"selection_glyph\":null},\"id\":\"c0aef2bd-1f73-41ff-9dc2-1bd9b48b4430\",\"type\":\"GlyphRenderer\"},{\"attributes\":{\"callback\":null,\"column_names\":[\"label\",\"line_color\",\"height\",\"line_alpha\",\"fill_alpha\",\"width\",\"color\",\"x\",\"y\"],\"data\":{\"chart_index\":[\"(3.288925, 3.371754]\"],\"color\":[\"LightSlateGray\"],\"fill_alpha\":[0.8],\"height\":[4.0],\"label\":[\"(3.288925, 3.371754]\"],\"line_alpha\":[1.0],\"line_color\":[\"black\"],\"width\":[0.08282896775734638],\"x\":[\"3.3303395\"],\"y\":[2.0]}},\"id\":\"5ae87a14-24c7-4908-b1ee-c5839e3b7938\",\"type\":\"ColumnDataSource\"},{\"attributes\":{\"callback\":null,\"column_names\":[\"label\",\"line_color\",\"height\",\"line_alpha\",\"fill_alpha\",\"width\",\"color\",\"x\",\"y\"],\"data\":{\"chart_index\":[\"(2.046491, 2.129320]\"],\"color\":[\"LightSlateGray\"],\"fill_alpha\":[0.8],\"height\":[8.0],\"label\":[\"(2.046491, 2.129320]\"],\"line_alpha\":[1.0],\"line_color\":[\"black\"],\"width\":[0.08282896775734683],\"x\":[\"2.0879054999999997\"],\"y\":[4.0]}},\"id\":\"fa0ab4a6-7b82-4ec0-8573-b7a68f63f78c\",\"type\":\"ColumnDataSource\"},{\"attributes\":{\"callback\":null,\"column_names\":[\"label\",\"line_color\",\"height\",\"line_alpha\",\"fill_alpha\",\"width\",\"color\",\"x\",\"y\"],\"data\":{\"chart_index\":[\"(1.466688, 1.549517]\"],\"color\":[\"LightSlateGray\"],\"fill_alpha\":[0.8],\"height\":[54.0],\"label\":[\"(1.466688, 1.549517]\"],\"line_alpha\":[1.0],\"line_color\":[\"black\"],\"width\":[0.08282896775734683],\"x\":[\"1.5081025000000001\"],\"y\":[27.0]}},\"id\":\"e14913e6-b9f9-41ff-8dde-c508c5d8ac25\",\"type\":\"ColumnDataSource\"},{\"attributes\":{\"callback\":null,\"column_names\":[\"label\",\"line_color\",\"height\",\"line_alpha\",\"fill_alpha\",\"width\",\"color\",\"x\",\"y\"],\"data\":{\"chart_index\":[\"(2.543465, 2.626293]\"],\"color\":[\"LightSlateGray\"],\"fill_alpha\":[0.8],\"height\":[3.0],\"label\":[\"(2.543465, 2.626293]\"],\"line_alpha\":[1.0],\"line_color\":[\"black\"],\"width\":[0.08282896775734683],\"x\":[\"2.584879\"],\"y\":[1.5]}},\"id\":\"e67174cb-6a90-4cd0-b2dc-61b0a81dd35d\",\"type\":\"ColumnDataSource\"},{\"attributes\":{\"data_source\":{\"id\":\"3df4a600-80f5-43d7-825c-a9404b53bf19\",\"type\":\"ColumnDataSource\"},\"glyph\":{\"id\":\"022cd953-0885-4578-9fdc-41e6251a8afd\",\"type\":\"Rect\"},\"hover_glyph\":null,\"nonselection_glyph\":null,\"selection_glyph\":null},\"id\":\"1efc49e9-fc41-41bc-9ea1-24dec0cfeee9\",\"type\":\"GlyphRenderer\"},{\"attributes\":{\"fill_alpha\":{\"field\":\"fill_alpha\"},\"fill_color\":{\"field\":\"color\"},\"height\":{\"field\":\"height\",\"units\":\"data\"},\"line_color\":{\"field\":\"line_color\"},\"width\":{\"field\":\"width\",\"units\":\"data\"},\"x\":{\"field\":\"x\"},\"y\":{\"field\":\"y\"}},\"id\":\"6762cb54-1e84-4cde-ae31-063af01e5162\",\"type\":\"Rect\"},{\"attributes\":{\"data_source\":{\"id\":\"ed8e8e21-fb9a-48c6-a194-59bc62644a27\",\"type\":\"ColumnDataSource\"},\"glyph\":{\"id\":\"5515d454-a4c7-4704-ba72-b1ac9c9ec106\",\"type\":\"Rect\"},\"hover_glyph\":null,\"nonselection_glyph\":null,\"selection_glyph\":null},\"id\":\"76025d87-2631-46c5-bbec-2925117ad108\",\"type\":\"GlyphRenderer\"},{\"attributes\":{\"data_source\":{\"id\":\"858db38a-21bc-4773-8fe9-09094b9aa430\",\"type\":\"ColumnDataSource\"},\"glyph\":{\"id\":\"edbbf900-03fa-40cb-bf8c-aa10c3a20688\",\"type\":\"Rect\"},\"hover_glyph\":null,\"nonselection_glyph\":null,\"selection_glyph\":null},\"id\":\"adff1114-4b5c-4821-90b0-6594fdb3ff45\",\"type\":\"GlyphRenderer\"},{\"attributes\":{\"callback\":null,\"column_names\":[\"label\",\"line_color\",\"height\",\"line_alpha\",\"fill_alpha\",\"width\",\"color\",\"x\",\"y\"],\"data\":{\"chart_index\":[\"(3.620241, 3.703070]\"],\"color\":[\"LightSlateGray\"],\"fill_alpha\":[0.8],\"height\":[5.0],\"label\":[\"(3.620241, 3.703070]\"],\"line_alpha\":[1.0],\"line_color\":[\"black\"],\"width\":[0.08282896775734683],\"x\":[\"3.6616555\"],\"y\":[2.5]}},\"id\":\"b1453ff7-b8ca-4343-865a-c5bdfd2262a3\",\"type\":\"ColumnDataSource\"},{\"attributes\":{\"fill_alpha\":{\"field\":\"fill_alpha\"},\"fill_color\":{\"field\":\"color\"},\"height\":{\"field\":\"height\",\"units\":\"data\"},\"line_color\":{\"field\":\"line_color\"},\"width\":{\"field\":\"width\",\"units\":\"data\"},\"x\":{\"field\":\"x\"},\"y\":{\"field\":\"y\"}},\"id\":\"593791ab-aea3-414f-9c65-1e0f8b966431\",\"type\":\"Rect\"},{\"attributes\":{\"data_source\":{\"id\":\"e14913e6-b9f9-41ff-8dde-c508c5d8ac25\",\"type\":\"ColumnDataSource\"},\"glyph\":{\"id\":\"e510bc99-f504-4cdc-80ee-35edfcc85912\",\"type\":\"Rect\"},\"hover_glyph\":null,\"nonselection_glyph\":null,\"selection_glyph\":null},\"id\":\"bf89ff2e-9988-4c1c-a6ac-14abaa6c31be\",\"type\":\"GlyphRenderer\"},{\"attributes\":{\"plot\":{\"id\":\"3b73e9ce-7d78-465b-8754-62aeb7ee67ea\",\"subtype\":\"Chart\",\"type\":\"Plot\"}},\"id\":\"d927d28b-cac0-4df1-89a0-5d175ab4baa0\",\"type\":\"PanTool\"},{\"attributes\":{\"callback\":null,\"column_names\":[\"label\",\"line_color\",\"height\",\"line_alpha\",\"fill_alpha\",\"width\",\"color\",\"x\",\"y\"],\"data\":{\"chart_index\":[\"(2.791951, 2.874780]\"],\"color\":[\"LightSlateGray\"],\"fill_alpha\":[0.8],\"height\":[2.0],\"label\":[\"(2.791951, 2.874780]\"],\"line_alpha\":[1.0],\"line_color\":[\"black\"],\"width\":[0.08282896775734727],\"x\":[\"2.8333655\"],\"y\":[1.0]}},\"id\":\"32822fee-3a68-4c6b-9a46-62d24f6f5896\",\"type\":\"ColumnDataSource\"},{\"attributes\":{\"data_source\":{\"id\":\"c48f71f9-f907-45ff-83c3-a70a69378f68\",\"type\":\"ColumnDataSource\"},\"glyph\":{\"id\":\"157a8225-96b1-490e-bd59-252b003c7e9a\",\"type\":\"Rect\"},\"hover_glyph\":null,\"nonselection_glyph\":null,\"selection_glyph\":null},\"id\":\"0f04f9f0-2230-479b-ac05-66b583b38c0f\",\"type\":\"GlyphRenderer\"},{\"attributes\":{\"data_source\":{\"id\":\"9d380a45-b944-4193-b8c0-cee1c1d6d334\",\"type\":\"ColumnDataSource\"},\"glyph\":{\"id\":\"5148cdc7-566c-4e2d-abb2-d96e611e0b56\",\"type\":\"Rect\"},\"hover_glyph\":null,\"nonselection_glyph\":null,\"selection_glyph\":null},\"id\":\"e855c9b2-f1ce-4154-a0d5-cb08cdbfa82e\",\"type\":\"GlyphRenderer\"},{\"attributes\":{\"fill_alpha\":{\"field\":\"fill_alpha\"},\"fill_color\":{\"field\":\"color\"},\"height\":{\"field\":\"height\",\"units\":\"data\"},\"line_color\":{\"field\":\"line_color\"},\"width\":{\"field\":\"width\",\"units\":\"data\"},\"x\":{\"field\":\"x\"},\"y\":{\"field\":\"y\"}},\"id\":\"8bf83918-f955-4472-8f69-1cf967e92d51\",\"type\":\"Rect\"},{\"attributes\":{\"data_source\":{\"id\":\"b1453ff7-b8ca-4343-865a-c5bdfd2262a3\",\"type\":\"ColumnDataSource\"},\"glyph\":{\"id\":\"11b96ba5-c8a3-48ce-abed-4d50ee45186e\",\"type\":\"Rect\"},\"hover_glyph\":null,\"nonselection_glyph\":null,\"selection_glyph\":null},\"id\":\"e041c0df-40cb-4759-a463-b50986fe2955\",\"type\":\"GlyphRenderer\"},{\"attributes\":{\"fill_alpha\":{\"field\":\"fill_alpha\"},\"fill_color\":{\"field\":\"color\"},\"height\":{\"field\":\"height\",\"units\":\"data\"},\"line_color\":{\"field\":\"line_color\"},\"width\":{\"field\":\"width\",\"units\":\"data\"},\"x\":{\"field\":\"x\"},\"y\":{\"field\":\"y\"}},\"id\":\"e510bc99-f504-4cdc-80ee-35edfcc85912\",\"type\":\"Rect\"},{\"attributes\":{\"data_source\":{\"id\":\"b7a69180-9236-4d46-99e1-4eebcb85d582\",\"type\":\"ColumnDataSource\"},\"glyph\":{\"id\":\"6a3e6619-a606-4856-bc83-92a19ee3f25c\",\"type\":\"Rect\"},\"hover_glyph\":null,\"nonselection_glyph\":null,\"selection_glyph\":null},\"id\":\"59fb6c82-1cd2-4734-81ac-2d355baafc84\",\"type\":\"GlyphRenderer\"},{\"attributes\":{\"dimension\":1,\"plot\":{\"id\":\"3b73e9ce-7d78-465b-8754-62aeb7ee67ea\",\"subtype\":\"Chart\",\"type\":\"Plot\"},\"ticker\":{\"id\":\"ca209cab-c0fa-4ce2-be83-b5079b4151e7\",\"type\":\"BasicTicker\"}},\"id\":\"ff7375ec-5c45-4801-8e8b-a048a60b04d2\",\"type\":\"Grid\"},{\"attributes\":{\"fill_alpha\":{\"field\":\"fill_alpha\"},\"fill_color\":{\"field\":\"color\"},\"height\":{\"field\":\"height\",\"units\":\"data\"},\"line_color\":{\"field\":\"line_color\"},\"width\":{\"field\":\"width\",\"units\":\"data\"},\"x\":{\"field\":\"x\"},\"y\":{\"field\":\"y\"}},\"id\":\"768da8b4-f990-4455-b949-78df5a7d09f1\",\"type\":\"Rect\"},{\"attributes\":{\"callback\":null,\"column_names\":[\"label\",\"line_color\",\"height\",\"line_alpha\",\"fill_alpha\",\"width\",\"color\",\"x\",\"y\"],\"data\":{\"chart_index\":[\"(3.123267, 3.206096]\"],\"color\":[\"LightSlateGray\"],\"fill_alpha\":[0.8],\"height\":[2.0],\"label\":[\"(3.123267, 3.206096]\"],\"line_alpha\":[1.0],\"line_color\":[\"black\"],\"width\":[0.08282896775734638],\"x\":[\"3.1646815\"],\"y\":[1.0]}},\"id\":\"9d380a45-b944-4193-b8c0-cee1c1d6d334\",\"type\":\"ColumnDataSource\"},{\"attributes\":{\"callback\":null,\"column_names\":[\"label\",\"line_color\",\"height\",\"line_alpha\",\"fill_alpha\",\"width\",\"color\",\"x\",\"y\"],\"data\":{\"chart_index\":[\"(3.537412, 3.620241]\"],\"color\":[\"LightSlateGray\"],\"fill_alpha\":[0.8],\"height\":[1.0],\"label\":[\"(3.537412, 3.620241]\"],\"line_alpha\":[1.0],\"line_color\":[\"black\"],\"width\":[0.08282896775734683],\"x\":[\"3.5788265\"],\"y\":[0.5]}},\"id\":\"ec7ab6d8-bf82-4ef4-ada1-2e23926053e7\",\"type\":\"ColumnDataSource\"},{\"attributes\":{\"fill_alpha\":{\"field\":\"fill_alpha\"},\"fill_color\":{\"field\":\"color\"},\"height\":{\"field\":\"height\",\"units\":\"data\"},\"line_color\":{\"field\":\"line_color\"},\"width\":{\"field\":\"width\",\"units\":\"data\"},\"x\":{\"field\":\"x\"},\"y\":{\"field\":\"y\"}},\"id\":\"db0518eb-2b9f-42a7-8ab4-8e56c5be18bf\",\"type\":\"Rect\"},{\"attributes\":{\"plot\":{\"id\":\"3b73e9ce-7d78-465b-8754-62aeb7ee67ea\",\"subtype\":\"Chart\",\"type\":\"Plot\"}},\"id\":\"6ad84ee7-0e3f-4ef1-8233-ae9d4b66122f\",\"type\":\"ResetTool\"},{\"attributes\":{},\"id\":\"833e9b6d-9b6b-4739-a98f-3f2f6c319fc7\",\"type\":\"BasicTickFormatter\"},{\"attributes\":{\"axis_label\":\"Frequency\",\"formatter\":{\"id\":\"299e59b9-6adf-46cf-865e-8bd405598479\",\"type\":\"BasicTickFormatter\"},\"plot\":{\"id\":\"3b73e9ce-7d78-465b-8754-62aeb7ee67ea\",\"subtype\":\"Chart\",\"type\":\"Plot\"},\"ticker\":{\"id\":\"ca209cab-c0fa-4ce2-be83-b5079b4151e7\",\"type\":\"BasicTicker\"}},\"id\":\"228e4eab-c570-4023-aa35-45ab5cfcc0c6\",\"type\":\"LinearAxis\"},{\"attributes\":{\"callback\":null,\"column_names\":[\"label\",\"line_color\",\"height\",\"line_alpha\",\"fill_alpha\",\"width\",\"color\",\"x\",\"y\"],\"data\":{\"chart_index\":[\"(2.212149, 2.294978]\"],\"color\":[\"LightSlateGray\"],\"fill_alpha\":[0.8],\"height\":[5.0],\"label\":[\"(2.212149, 2.294978]\"],\"line_alpha\":[1.0],\"line_color\":[\"black\"],\"width\":[0.08282896775734683],\"x\":[\"2.2535635000000003\"],\"y\":[2.5]}},\"id\":\"e2868ed6-f5b3-4d85-b556-3c4e185ce5e2\",\"type\":\"ColumnDataSource\"},{\"attributes\":{\"fill_alpha\":{\"field\":\"fill_alpha\"},\"fill_color\":{\"field\":\"color\"},\"height\":{\"field\":\"height\",\"units\":\"data\"},\"line_color\":{\"field\":\"line_color\"},\"width\":{\"field\":\"width\",\"units\":\"data\"},\"x\":{\"field\":\"x\"},\"y\":{\"field\":\"y\"}},\"id\":\"fa358ed2-9bdb-4e13-8402-e1a7edc67e2c\",\"type\":\"Rect\"},{\"attributes\":{\"callback\":null,\"column_names\":[\"label\",\"line_color\",\"height\",\"line_alpha\",\"fill_alpha\",\"width\",\"color\",\"x\",\"y\"],\"data\":{\"chart_index\":[\"(2.957609, 3.040438]\"],\"color\":[\"LightSlateGray\"],\"fill_alpha\":[0.8],\"height\":[1.0],\"label\":[\"(2.957609, 3.040438]\"],\"line_alpha\":[1.0],\"line_color\":[\"black\"],\"width\":[0.08282896775734683],\"x\":[\"2.9990235\"],\"y\":[0.5]}},\"id\":\"d628da2a-181d-4b71-8974-3deb99ddf4fc\",\"type\":\"ColumnDataSource\"},{\"attributes\":{},\"id\":\"6329d948-7a4b-4a2a-a620-ccec6610d30f\",\"type\":\"BasicTicker\"},{\"attributes\":{\"data_source\":{\"id\":\"fa0ab4a6-7b82-4ec0-8573-b7a68f63f78c\",\"type\":\"ColumnDataSource\"},\"glyph\":{\"id\":\"8d54f7ed-e20c-420a-b10d-f8af4d7782b1\",\"type\":\"Rect\"},\"hover_glyph\":null,\"nonselection_glyph\":null,\"selection_glyph\":null},\"id\":\"a038836a-9158-4e62-8abe-0b33fcc8a35e\",\"type\":\"GlyphRenderer\"},{\"attributes\":{\"fill_alpha\":{\"field\":\"fill_alpha\"},\"fill_color\":{\"field\":\"color\"},\"height\":{\"field\":\"height\",\"units\":\"data\"},\"line_color\":{\"field\":\"line_color\"},\"width\":{\"field\":\"width\",\"units\":\"data\"},\"x\":{\"field\":\"x\"},\"y\":{\"field\":\"y\"}},\"id\":\"6a3e6619-a606-4856-bc83-92a19ee3f25c\",\"type\":\"Rect\"},{\"attributes\":{\"data_source\":{\"id\":\"150bdd17-0f87-47f3-9f36-d9dc422af415\",\"type\":\"ColumnDataSource\"},\"glyph\":{\"id\":\"6762cb54-1e84-4cde-ae31-063af01e5162\",\"type\":\"Rect\"},\"hover_glyph\":null,\"nonselection_glyph\":null,\"selection_glyph\":null},\"id\":\"94c41742-08b6-4f55-8ff3-f08c4d6b555e\",\"type\":\"GlyphRenderer\"},{\"attributes\":{\"fill_alpha\":{\"field\":\"fill_alpha\"},\"fill_color\":{\"field\":\"color\"},\"height\":{\"field\":\"height\",\"units\":\"data\"},\"line_color\":{\"field\":\"line_color\"},\"width\":{\"field\":\"width\",\"units\":\"data\"},\"x\":{\"field\":\"x\"},\"y\":{\"field\":\"y\"}},\"id\":\"157a8225-96b1-490e-bd59-252b003c7e9a\",\"type\":\"Rect\"},{\"attributes\":{\"bottom_units\":\"screen\",\"fill_alpha\":{\"value\":0.5},\"fill_color\":{\"value\":\"lightgrey\"},\"left_units\":\"screen\",\"level\":\"overlay\",\"line_alpha\":{\"value\":1.0},\"line_color\":{\"value\":\"black\"},\"line_dash\":[4,4],\"line_width\":{\"value\":2},\"plot\":null,\"render_mode\":\"css\",\"right_units\":\"screen\",\"top_units\":\"screen\"},\"id\":\"ea590b96-4ec8-4c9d-8411-dd5a74f12d06\",\"type\":\"BoxAnnotation\"},{\"attributes\":{\"data_source\":{\"id\":\"32822fee-3a68-4c6b-9a46-62d24f6f5896\",\"type\":\"ColumnDataSource\"},\"glyph\":{\"id\":\"a6bc798d-82a7-49fc-ab52-de2ab5da165f\",\"type\":\"Rect\"},\"hover_glyph\":null,\"nonselection_glyph\":null,\"selection_glyph\":null},\"id\":\"e3b20fbb-d2cf-45a6-bf9c-35b24f22676e\",\"type\":\"GlyphRenderer\"},{\"attributes\":{\"overlay\":{\"id\":\"ea590b96-4ec8-4c9d-8411-dd5a74f12d06\",\"type\":\"BoxAnnotation\"},\"plot\":{\"id\":\"3b73e9ce-7d78-465b-8754-62aeb7ee67ea\",\"subtype\":\"Chart\",\"type\":\"Plot\"}},\"id\":\"7ca4574f-03d7-4aec-8947-bc33d2f81e49\",\"type\":\"BoxZoomTool\"},{\"attributes\":{\"callback\":null,\"column_names\":[\"label\",\"line_color\",\"height\",\"line_alpha\",\"fill_alpha\",\"width\",\"color\",\"x\",\"y\"],\"data\":{\"chart_index\":[\"(3.040438, 3.123267]\"],\"color\":[\"LightSlateGray\"],\"fill_alpha\":[0.8],\"height\":[2.0],\"label\":[\"(3.040438, 3.123267]\"],\"line_alpha\":[1.0],\"line_color\":[\"black\"],\"width\":[0.08282896775734683],\"x\":[\"3.0818525\"],\"y\":[1.0]}},\"id\":\"3df4a600-80f5-43d7-825c-a9404b53bf19\",\"type\":\"ColumnDataSource\"},{\"attributes\":{\"fill_alpha\":{\"field\":\"fill_alpha\"},\"fill_color\":{\"field\":\"color\"},\"height\":{\"field\":\"height\",\"units\":\"data\"},\"line_color\":{\"field\":\"line_color\"},\"width\":{\"field\":\"width\",\"units\":\"data\"},\"x\":{\"field\":\"x\"},\"y\":{\"field\":\"y\"}},\"id\":\"4f1863c1-f6ee-4de9-b8e2-8458cd5871c3\",\"type\":\"Rect\"},{\"attributes\":{\"data_source\":{\"id\":\"3ade327b-fb24-47b6-95fa-a7df8a31adb4\",\"type\":\"ColumnDataSource\"},\"glyph\":{\"id\":\"4f1863c1-f6ee-4de9-b8e2-8458cd5871c3\",\"type\":\"Rect\"},\"hover_glyph\":null,\"nonselection_glyph\":null,\"selection_glyph\":null},\"id\":\"e9e9f534-bc15-4d8d-b155-b587f5329bb4\",\"type\":\"GlyphRenderer\"},{\"attributes\":{\"data_source\":{\"id\":\"0f14dd3a-a423-43a5-9e3b-080bae674220\",\"type\":\"ColumnDataSource\"},\"glyph\":{\"id\":\"7f48b5b9-d889-4a43-89c7-e81e82a0ec6f\",\"type\":\"Rect\"},\"hover_glyph\":null,\"nonselection_glyph\":null,\"selection_glyph\":null},\"id\":\"c0a8a0d3-d189-443f-8772-b908d6b1d440\",\"type\":\"GlyphRenderer\"},{\"attributes\":{\"callback\":null,\"column_names\":[\"label\",\"line_color\",\"height\",\"line_alpha\",\"fill_alpha\",\"width\",\"color\",\"x\",\"y\"],\"data\":{\"chart_index\":[\"(1.798004, 1.880833]\"],\"color\":[\"LightSlateGray\"],\"fill_alpha\":[0.8],\"height\":[16.0],\"label\":[\"(1.798004, 1.880833]\"],\"line_alpha\":[1.0],\"line_color\":[\"black\"],\"width\":[0.08282896775734683],\"x\":[\"1.8394184999999998\"],\"y\":[8.0]}},\"id\":\"ffd2117a-9c29-4e12-bab4-7dfcd78a693e\",\"type\":\"ColumnDataSource\"},{\"attributes\":{\"callback\":null,\"column_names\":[\"label\",\"line_color\",\"height\",\"line_alpha\",\"fill_alpha\",\"width\",\"color\",\"x\",\"y\"],\"data\":{\"chart_index\":[\"(1.383859, 1.466688]\"],\"color\":[\"LightSlateGray\"],\"fill_alpha\":[0.8],\"height\":[101.0],\"label\":[\"(1.383859, 1.466688]\"],\"line_alpha\":[1.0],\"line_color\":[\"black\"],\"width\":[0.0828289677573466],\"x\":[\"1.4252734999999999\"],\"y\":[50.5]}},\"id\":\"ed274b86-35b2-4cf7-82b2-1eb59a4d879d\",\"type\":\"ColumnDataSource\"},{\"attributes\":{\"plot\":{\"id\":\"3b73e9ce-7d78-465b-8754-62aeb7ee67ea\",\"subtype\":\"Chart\",\"type\":\"Plot\"}},\"id\":\"b96e80d1-680d-485d-bba9-400333194140\",\"type\":\"WheelZoomTool\"},{\"attributes\":{\"data_source\":{\"id\":\"03fb20ab-6f94-42dd-babc-a54704b7667c\",\"type\":\"ColumnDataSource\"},\"glyph\":{\"id\":\"593791ab-aea3-414f-9c65-1e0f8b966431\",\"type\":\"Rect\"},\"hover_glyph\":null,\"nonselection_glyph\":null,\"selection_glyph\":null},\"id\":\"4aeae80f-5a7e-4225-9cf0-5aa36741f5e8\",\"type\":\"GlyphRenderer\"},{\"attributes\":{\"fill_alpha\":{\"field\":\"fill_alpha\"},\"fill_color\":{\"field\":\"color\"},\"height\":{\"field\":\"height\",\"units\":\"data\"},\"line_color\":{\"field\":\"line_color\"},\"width\":{\"field\":\"width\",\"units\":\"data\"},\"x\":{\"field\":\"x\"},\"y\":{\"field\":\"y\"}},\"id\":\"1b37c633-2686-45bd-bc44-70ff1371fb25\",\"type\":\"Rect\"},{\"attributes\":{\"fill_alpha\":{\"field\":\"fill_alpha\"},\"fill_color\":{\"field\":\"color\"},\"height\":{\"field\":\"height\",\"units\":\"data\"},\"line_color\":{\"field\":\"line_color\"},\"width\":{\"field\":\"width\",\"units\":\"data\"},\"x\":{\"field\":\"x\"},\"y\":{\"field\":\"y\"}},\"id\":\"8269659e-b351-4476-a751-0d6dd0ffd344\",\"type\":\"Rect\"},{\"attributes\":{\"callback\":null,\"column_names\":[\"label\",\"line_color\",\"height\",\"line_alpha\",\"fill_alpha\",\"width\",\"color\",\"x\",\"y\"],\"data\":{\"chart_index\":[\"(2.294978, 2.377807]\"],\"color\":[\"LightSlateGray\"],\"fill_alpha\":[0.8],\"height\":[8.0],\"label\":[\"(2.294978, 2.377807]\"],\"line_alpha\":[1.0],\"line_color\":[\"black\"],\"width\":[0.08282896775734638],\"x\":[\"2.3363924999999997\"],\"y\":[4.0]}},\"id\":\"d52ecf86-de00-4668-92de-439a668a82eb\",\"type\":\"ColumnDataSource\"},{\"attributes\":{\"data_source\":{\"id\":\"d52ecf86-de00-4668-92de-439a668a82eb\",\"type\":\"ColumnDataSource\"},\"glyph\":{\"id\":\"8269659e-b351-4476-a751-0d6dd0ffd344\",\"type\":\"Rect\"},\"hover_glyph\":null,\"nonselection_glyph\":null,\"selection_glyph\":null},\"id\":\"c9bf19cf-1403-475e-b312-3a1babec71dd\",\"type\":\"GlyphRenderer\"},{\"attributes\":{\"data_source\":{\"id\":\"e67174cb-6a90-4cd0-b2dc-61b0a81dd35d\",\"type\":\"ColumnDataSource\"},\"glyph\":{\"id\":\"fa358ed2-9bdb-4e13-8402-e1a7edc67e2c\",\"type\":\"Rect\"},\"hover_glyph\":null,\"nonselection_glyph\":null,\"selection_glyph\":null},\"id\":\"c8192c62-6d4f-40d8-af96-4bd28cc9bdb0\",\"type\":\"GlyphRenderer\"},{\"attributes\":{\"callback\":null,\"column_names\":[\"label\",\"line_color\",\"height\",\"line_alpha\",\"fill_alpha\",\"width\",\"color\",\"x\",\"y\"],\"data\":{\"chart_index\":[\"(1.549517, 1.632346]\"],\"color\":[\"LightSlateGray\"],\"fill_alpha\":[0.8],\"height\":[47.0],\"label\":[\"(1.549517, 1.632346]\"],\"line_alpha\":[1.0],\"line_color\":[\"black\"],\"width\":[0.0828289677573466],\"x\":[\"1.5909315\"],\"y\":[23.5]}},\"id\":\"0b94fc63-d2b0-4fdd-be25-19fe715750e8\",\"type\":\"ColumnDataSource\"},{\"attributes\":{\"callback\":null,\"column_names\":[\"label\",\"line_color\",\"height\",\"line_alpha\",\"fill_alpha\",\"width\",\"color\",\"x\",\"y\"],\"data\":{\"chart_index\":[\"(3.371754, 3.454583]\"],\"color\":[\"LightSlateGray\"],\"fill_alpha\":[0.8],\"height\":[6.0],\"label\":[\"(3.371754, 3.454583]\"],\"line_alpha\":[1.0],\"line_color\":[\"black\"],\"width\":[0.08282896775734683],\"x\":[\"3.4131685000000003\"],\"y\":[3.0]}},\"id\":\"150bdd17-0f87-47f3-9f36-d9dc422af415\",\"type\":\"ColumnDataSource\"},{\"attributes\":{\"fill_alpha\":{\"field\":\"fill_alpha\"},\"fill_color\":{\"field\":\"color\"},\"height\":{\"field\":\"height\",\"units\":\"data\"},\"line_color\":{\"field\":\"line_color\"},\"width\":{\"field\":\"width\",\"units\":\"data\"},\"x\":{\"field\":\"x\"},\"y\":{\"field\":\"y\"}},\"id\":\"0933e844-032b-4a8e-ba8e-f638a2323593\",\"type\":\"Rect\"},{\"attributes\":{\"plot\":null,\"text\":\"Homozygous Variant: Predict Proba > 0.8\"},\"id\":\"13256b4e-5110-4cb8-ae49-515fde2cc3ae\",\"type\":\"Title\"},{\"attributes\":{\"fill_alpha\":{\"field\":\"fill_alpha\"},\"fill_color\":{\"field\":\"color\"},\"height\":{\"field\":\"height\",\"units\":\"data\"},\"line_color\":{\"field\":\"line_color\"},\"width\":{\"field\":\"width\",\"units\":\"data\"},\"x\":{\"field\":\"x\"},\"y\":{\"field\":\"y\"}},\"id\":\"06906fe6-a60e-4399-9e78-58e8483bcf57\",\"type\":\"Rect\"},{\"attributes\":{\"callback\":null,\"column_names\":[\"label\",\"line_color\",\"height\",\"line_alpha\",\"fill_alpha\",\"width\",\"color\",\"x\",\"y\"],\"data\":{\"chart_index\":[\"(2.129320, 2.212149]\"],\"color\":[\"LightSlateGray\"],\"fill_alpha\":[0.8],\"height\":[7.0],\"label\":[\"(2.129320, 2.212149]\"],\"line_alpha\":[1.0],\"line_color\":[\"black\"],\"width\":[0.08282896775734683],\"x\":[\"2.1707345\"],\"y\":[3.5]}},\"id\":\"0f14dd3a-a423-43a5-9e3b-080bae674220\",\"type\":\"ColumnDataSource\"},{\"attributes\":{\"data_source\":{\"id\":\"ed274b86-35b2-4cf7-82b2-1eb59a4d879d\",\"type\":\"ColumnDataSource\"},\"glyph\":{\"id\":\"b0bae23a-9b2a-45a2-bb96-4986826ba76d\",\"type\":\"Rect\"},\"hover_glyph\":null,\"nonselection_glyph\":null,\"selection_glyph\":null},\"id\":\"9dccad19-910d-441a-88ba-a1a83fc43586\",\"type\":\"GlyphRenderer\"},{\"attributes\":{},\"id\":\"299e59b9-6adf-46cf-865e-8bd405598479\",\"type\":\"BasicTickFormatter\"},{\"attributes\":{\"fill_alpha\":{\"field\":\"fill_alpha\"},\"fill_color\":{\"field\":\"color\"},\"height\":{\"field\":\"height\",\"units\":\"data\"},\"line_color\":{\"field\":\"line_color\"},\"width\":{\"field\":\"width\",\"units\":\"data\"},\"x\":{\"field\":\"x\"},\"y\":{\"field\":\"y\"}},\"id\":\"52ff10ef-5292-4878-bbec-2cd528aeddac\",\"type\":\"Rect\"},{\"attributes\":{\"callback\":null,\"column_names\":[\"label\",\"line_color\",\"height\",\"line_alpha\",\"fill_alpha\",\"width\",\"color\",\"x\",\"y\"],\"data\":{\"chart_index\":[\"(2.874780, 2.957609]\"],\"color\":[\"LightSlateGray\"],\"fill_alpha\":[0.8],\"height\":[2.0],\"label\":[\"(2.874780, 2.957609]\"],\"line_alpha\":[1.0],\"line_color\":[\"black\"],\"width\":[0.08282896775734638],\"x\":[\"2.9161945\"],\"y\":[1.0]}},\"id\":\"6ab8bbb8-5d68-4358-a696-2cdfbd69f160\",\"type\":\"ColumnDataSource\"},{\"attributes\":{\"plot\":{\"id\":\"3b73e9ce-7d78-465b-8754-62aeb7ee67ea\",\"subtype\":\"Chart\",\"type\":\"Plot\"}},\"id\":\"6b45645d-ef6d-4f6d-b516-c08e8b4c1864\",\"type\":\"SaveTool\"},{\"attributes\":{\"data_source\":{\"id\":\"e2868ed6-f5b3-4d85-b556-3c4e185ce5e2\",\"type\":\"ColumnDataSource\"},\"glyph\":{\"id\":\"52ff10ef-5292-4878-bbec-2cd528aeddac\",\"type\":\"Rect\"},\"hover_glyph\":null,\"nonselection_glyph\":null,\"selection_glyph\":null},\"id\":\"3ed550d5-4506-403a-84f5-5a3aad29a362\",\"type\":\"GlyphRenderer\"},{\"attributes\":{\"fill_alpha\":{\"field\":\"fill_alpha\"},\"fill_color\":{\"field\":\"color\"},\"height\":{\"field\":\"height\",\"units\":\"data\"},\"line_color\":{\"field\":\"line_color\"},\"width\":{\"field\":\"width\",\"units\":\"data\"},\"x\":{\"field\":\"x\"},\"y\":{\"field\":\"y\"}},\"id\":\"27f8bd0b-ed6f-45aa-a27b-36c83af8370b\",\"type\":\"Rect\"},{\"attributes\":{\"fill_alpha\":{\"field\":\"fill_alpha\"},\"fill_color\":{\"field\":\"color\"},\"height\":{\"field\":\"height\",\"units\":\"data\"},\"line_color\":{\"field\":\"line_color\"},\"width\":{\"field\":\"width\",\"units\":\"data\"},\"x\":{\"field\":\"x\"},\"y\":{\"field\":\"y\"}},\"id\":\"b0bae23a-9b2a-45a2-bb96-4986826ba76d\",\"type\":\"Rect\"},{\"attributes\":{\"data_source\":{\"id\":\"5ae87a14-24c7-4908-b1ee-c5839e3b7938\",\"type\":\"ColumnDataSource\"},\"glyph\":{\"id\":\"0a020094-e3b2-48c0-8648-c472981f4e52\",\"type\":\"Rect\"},\"hover_glyph\":null,\"nonselection_glyph\":null,\"selection_glyph\":null},\"id\":\"f65fdb0d-99e4-4cd7-8fa8-1f52d13966c6\",\"type\":\"GlyphRenderer\"},{\"attributes\":{\"location\":\"top_left\",\"plot\":{\"id\":\"3b73e9ce-7d78-465b-8754-62aeb7ee67ea\",\"subtype\":\"Chart\",\"type\":\"Plot\"}},\"id\":\"8018e174-e03f-4505-98bc-e0c68f3b69af\",\"type\":\"Legend\"},{\"attributes\":{},\"id\":\"94ba4bfd-d242-4090-ac9b-5299001c42fa\",\"type\":\"ToolEvents\"},{\"attributes\":{\"callback\":null,\"end\":3.913072208878673,\"start\":1.1738567911213267},\"id\":\"8309aca7-c4dd-46f9-b216-7921d86da42b\",\"type\":\"Range1d\"},{\"attributes\":{\"fill_alpha\":{\"field\":\"fill_alpha\"},\"fill_color\":{\"field\":\"color\"},\"height\":{\"field\":\"height\",\"units\":\"data\"},\"line_color\":{\"field\":\"line_color\"},\"width\":{\"field\":\"width\",\"units\":\"data\"},\"x\":{\"field\":\"x\"},\"y\":{\"field\":\"y\"}},\"id\":\"fba2b9b5-49a5-44e2-8ac7-54b98c5f0625\",\"type\":\"Rect\"},{\"attributes\":{\"callback\":null,\"column_names\":[\"label\",\"line_color\",\"height\",\"line_alpha\",\"fill_alpha\",\"width\",\"color\",\"x\",\"y\"],\"data\":{\"chart_index\":[\"(2.626293, 2.709122]\"],\"color\":[\"LightSlateGray\"],\"fill_alpha\":[0.8],\"height\":[7.0],\"label\":[\"(2.626293, 2.709122]\"],\"line_alpha\":[1.0],\"line_color\":[\"black\"],\"width\":[0.08282896775734683],\"x\":[\"2.6677074999999997\"],\"y\":[3.5]}},\"id\":\"c48f71f9-f907-45ff-83c3-a70a69378f68\",\"type\":\"ColumnDataSource\"},{\"attributes\":{\"data_source\":{\"id\":\"6ab8bbb8-5d68-4358-a696-2cdfbd69f160\",\"type\":\"ColumnDataSource\"},\"glyph\":{\"id\":\"27f8bd0b-ed6f-45aa-a27b-36c83af8370b\",\"type\":\"Rect\"},\"hover_glyph\":null,\"nonselection_glyph\":null,\"selection_glyph\":null},\"id\":\"e6785c7f-0c5d-4a7a-918c-61e2f1791d2f\",\"type\":\"GlyphRenderer\"},{\"attributes\":{\"callback\":null,\"column_names\":[\"label\",\"line_color\",\"height\",\"line_alpha\",\"fill_alpha\",\"width\",\"color\",\"x\",\"y\"],\"data\":{\"chart_index\":[\"(2.460636, 2.543465]\"],\"color\":[\"LightSlateGray\"],\"fill_alpha\":[0.8],\"height\":[68.0],\"label\":[\"(2.460636, 2.543465]\"],\"line_alpha\":[1.0],\"line_color\":[\"black\"],\"width\":[0.08282896775734638],\"x\":[\"2.5020505\"],\"y\":[34.0]}},\"id\":\"b7a69180-9236-4d46-99e1-4eebcb85d582\",\"type\":\"ColumnDataSource\"},{\"attributes\":{\"callback\":null,\"column_names\":[\"label\",\"line_color\",\"height\",\"line_alpha\",\"fill_alpha\",\"width\",\"color\",\"x\",\"y\"],\"data\":{\"chart_index\":[\"(2.709122, 2.791951]\"],\"color\":[\"LightSlateGray\"],\"fill_alpha\":[0.8],\"height\":[3.0],\"label\":[\"(2.709122, 2.791951]\"],\"line_alpha\":[1.0],\"line_color\":[\"black\"],\"width\":[0.08282896775734638],\"x\":[\"2.7505365\"],\"y\":[1.5]}},\"id\":\"38bcb870-f369-48da-bd63-f126162c614c\",\"type\":\"ColumnDataSource\"},{\"attributes\":{\"data_source\":{\"id\":\"819035f3-594a-4ebc-8d38-8d1b5bd1f421\",\"type\":\"ColumnDataSource\"},\"glyph\":{\"id\":\"29d739aa-abb3-4d99-8300-7e97c0505b0c\",\"type\":\"Rect\"},\"hover_glyph\":null,\"nonselection_glyph\":null,\"selection_glyph\":null},\"id\":\"0ede938a-7e36-42e3-8b27-2ca1006b8a7c\",\"type\":\"GlyphRenderer\"},{\"attributes\":{},\"id\":\"ca209cab-c0fa-4ce2-be83-b5079b4151e7\",\"type\":\"BasicTicker\"},{\"attributes\":{\"data_source\":{\"id\":\"ec7ab6d8-bf82-4ef4-ada1-2e23926053e7\",\"type\":\"ColumnDataSource\"},\"glyph\":{\"id\":\"1b37c633-2686-45bd-bc44-70ff1371fb25\",\"type\":\"Rect\"},\"hover_glyph\":null,\"nonselection_glyph\":null,\"selection_glyph\":null},\"id\":\"143d95ae-6764-4c9e-8bc7-68a882e725c0\",\"type\":\"GlyphRenderer\"},{\"attributes\":{\"callback\":null,\"column_names\":[\"label\",\"line_color\",\"height\",\"line_alpha\",\"fill_alpha\",\"width\",\"color\",\"x\",\"y\"],\"data\":{\"chart_index\":[\"[1.301030, 1.383859]\"],\"color\":[\"LightSlateGray\"],\"fill_alpha\":[0.8],\"height\":[144.0],\"label\":[\"[1.301030, 1.383859]\"],\"line_alpha\":[1.0],\"line_color\":[\"black\"],\"width\":[0.08282896775734683],\"x\":[\"1.3424445\"],\"y\":[72.0]}},\"id\":\"084fa26a-af5d-4486-9607-bd8d7c7a7faf\",\"type\":\"ColumnDataSource\"},{\"attributes\":{\"data_source\":{\"id\":\"38bcb870-f369-48da-bd63-f126162c614c\",\"type\":\"ColumnDataSource\"},\"glyph\":{\"id\":\"768da8b4-f990-4455-b949-78df5a7d09f1\",\"type\":\"Rect\"},\"hover_glyph\":null,\"nonselection_glyph\":null,\"selection_glyph\":null},\"id\":\"db3c3080-e447-455e-8a56-162ec24fafa1\",\"type\":\"GlyphRenderer\"},{\"attributes\":{\"axis_label\":\"Size(log10)\",\"formatter\":{\"id\":\"833e9b6d-9b6b-4739-a98f-3f2f6c319fc7\",\"type\":\"BasicTickFormatter\"},\"plot\":{\"id\":\"3b73e9ce-7d78-465b-8754-62aeb7ee67ea\",\"subtype\":\"Chart\",\"type\":\"Plot\"},\"ticker\":{\"id\":\"6329d948-7a4b-4a2a-a620-ccec6610d30f\",\"type\":\"BasicTicker\"}},\"id\":\"e5272e29-4549-43bc-8c60-c4fe403f50fe\",\"type\":\"LinearAxis\"},{\"attributes\":{\"active_drag\":\"auto\",\"active_scroll\":\"auto\",\"active_tap\":\"auto\",\"tools\":[{\"id\":\"d927d28b-cac0-4df1-89a0-5d175ab4baa0\",\"type\":\"PanTool\"},{\"id\":\"b96e80d1-680d-485d-bba9-400333194140\",\"type\":\"WheelZoomTool\"},{\"id\":\"7ca4574f-03d7-4aec-8947-bc33d2f81e49\",\"type\":\"BoxZoomTool\"},{\"id\":\"6b45645d-ef6d-4f6d-b516-c08e8b4c1864\",\"type\":\"SaveTool\"},{\"id\":\"6ad84ee7-0e3f-4ef1-8233-ae9d4b66122f\",\"type\":\"ResetTool\"},{\"id\":\"54a5734c-8676-41c5-8128-83cb494dcb51\",\"type\":\"HelpTool\"}]},\"id\":\"297731d6-dea7-4332-9163-30217525a2e2\",\"type\":\"Toolbar\"},{\"attributes\":{\"fill_alpha\":{\"field\":\"fill_alpha\"},\"fill_color\":{\"field\":\"color\"},\"height\":{\"field\":\"height\",\"units\":\"data\"},\"line_color\":{\"field\":\"line_color\"},\"width\":{\"field\":\"width\",\"units\":\"data\"},\"x\":{\"field\":\"x\"},\"y\":{\"field\":\"y\"}},\"id\":\"8d54f7ed-e20c-420a-b10d-f8af4d7782b1\",\"type\":\"Rect\"},{\"attributes\":{\"callback\":null,\"column_names\":[\"label\",\"line_color\",\"height\",\"line_alpha\",\"fill_alpha\",\"width\",\"color\",\"x\",\"y\"],\"data\":{\"chart_index\":[\"(2.377807, 2.460636]\"],\"color\":[\"LightSlateGray\"],\"fill_alpha\":[0.8],\"height\":[10.0],\"label\":[\"(2.377807, 2.460636]\"],\"line_alpha\":[1.0],\"line_color\":[\"black\"],\"width\":[0.08282896775734727],\"x\":[\"2.4192215\"],\"y\":[5.0]}},\"id\":\"819035f3-594a-4ebc-8d38-8d1b5bd1f421\",\"type\":\"ColumnDataSource\"},{\"attributes\":{\"fill_alpha\":{\"field\":\"fill_alpha\"},\"fill_color\":{\"field\":\"color\"},\"height\":{\"field\":\"height\",\"units\":\"data\"},\"line_color\":{\"field\":\"line_color\"},\"width\":{\"field\":\"width\",\"units\":\"data\"},\"x\":{\"field\":\"x\"},\"y\":{\"field\":\"y\"}},\"id\":\"29d739aa-abb3-4d99-8300-7e97c0505b0c\",\"type\":\"Rect\"},{\"attributes\":{\"fill_alpha\":{\"field\":\"fill_alpha\"},\"fill_color\":{\"field\":\"color\"},\"height\":{\"field\":\"height\",\"units\":\"data\"},\"line_color\":{\"field\":\"line_color\"},\"width\":{\"field\":\"width\",\"units\":\"data\"},\"x\":{\"field\":\"x\"},\"y\":{\"field\":\"y\"}},\"id\":\"a6bc798d-82a7-49fc-ab52-de2ab5da165f\",\"type\":\"Rect\"},{\"attributes\":{\"callback\":null,\"column_names\":[\"label\",\"line_color\",\"height\",\"line_alpha\",\"fill_alpha\",\"width\",\"color\",\"x\",\"y\"],\"data\":{\"chart_index\":[\"(1.715175, 1.798004]\"],\"color\":[\"LightSlateGray\"],\"fill_alpha\":[0.8],\"height\":[20.0],\"label\":[\"(1.715175, 1.798004]\"],\"line_alpha\":[1.0],\"line_color\":[\"black\"],\"width\":[0.08282896775734683],\"x\":[\"1.7565895\"],\"y\":[10.0]}},\"id\":\"ed8e8e21-fb9a-48c6-a194-59bc62644a27\",\"type\":\"ColumnDataSource\"},{\"attributes\":{\"data_source\":{\"id\":\"fd36e11d-0b7e-4c01-872b-4e1aaa5b39c8\",\"type\":\"ColumnDataSource\"},\"glyph\":{\"id\":\"9ba61eb7-e391-427c-81e0-62b908fea043\",\"type\":\"Rect\"},\"hover_glyph\":null,\"nonselection_glyph\":null,\"selection_glyph\":null},\"id\":\"2b5189e6-d5d5-4f6c-98c7-97b46a8140af\",\"type\":\"GlyphRenderer\"},{\"attributes\":{\"fill_alpha\":{\"field\":\"fill_alpha\"},\"fill_color\":{\"field\":\"color\"},\"height\":{\"field\":\"height\",\"units\":\"data\"},\"line_color\":{\"field\":\"line_color\"},\"width\":{\"field\":\"width\",\"units\":\"data\"},\"x\":{\"field\":\"x\"},\"y\":{\"field\":\"y\"}},\"id\":\"c7009deb-2a7e-439c-867f-6b27b14d99db\",\"type\":\"Rect\"},{\"attributes\":{\"fill_alpha\":{\"field\":\"fill_alpha\"},\"fill_color\":{\"field\":\"color\"},\"height\":{\"field\":\"height\",\"units\":\"data\"},\"line_color\":{\"field\":\"line_color\"},\"width\":{\"field\":\"width\",\"units\":\"data\"},\"x\":{\"field\":\"x\"},\"y\":{\"field\":\"y\"}},\"id\":\"022cd953-0885-4578-9fdc-41e6251a8afd\",\"type\":\"Rect\"},{\"attributes\":{\"fill_alpha\":{\"field\":\"fill_alpha\"},\"fill_color\":{\"field\":\"color\"},\"height\":{\"field\":\"height\",\"units\":\"data\"},\"line_color\":{\"field\":\"line_color\"},\"width\":{\"field\":\"width\",\"units\":\"data\"},\"x\":{\"field\":\"x\"},\"y\":{\"field\":\"y\"}},\"id\":\"7f48b5b9-d889-4a43-89c7-e81e82a0ec6f\",\"type\":\"Rect\"},{\"attributes\":{\"callback\":null,\"column_names\":[\"label\",\"line_color\",\"height\",\"line_alpha\",\"fill_alpha\",\"width\",\"color\",\"x\",\"y\"],\"data\":{\"chart_index\":[\"(3.703070, 3.785899]\"],\"color\":[\"LightSlateGray\"],\"fill_alpha\":[0.8],\"height\":[5.0],\"label\":[\"(3.703070, 3.785899]\"],\"line_alpha\":[1.0],\"line_color\":[\"black\"],\"width\":[0.08282896775734638],\"x\":[\"3.7444845\"],\"y\":[2.5]}},\"id\":\"ab004d7c-4933-48c1-8d4e-9e6130f5bda0\",\"type\":\"ColumnDataSource\"}],\"root_ids\":[\"3b73e9ce-7d78-465b-8754-62aeb7ee67ea\"]},\"title\":\"Bokeh Application\",\"version\":\"0.12.4\"}};\n",
       "            var render_items = [{\"docid\":\"d416d411-4004-4cc1-832d-284007b7f8b4\",\"elementid\":\"a8f2b83c-7f00-47fd-a3f0-8f2113ebf4a6\",\"modelid\":\"3b73e9ce-7d78-465b-8754-62aeb7ee67ea\"}];\n",
       "            \n",
       "            Bokeh.embed.embed_items(docs_json, render_items);\n",
       "          };\n",
       "          if (document.readyState != \"loading\") fn();\n",
       "          else document.addEventListener(\"DOMContentLoaded\", fn);\n",
       "        })();\n",
       "      },\n",
       "      function(Bokeh) {\n",
       "      }\n",
       "    ];\n",
       "  \n",
       "    function run_inline_js() {\n",
       "      \n",
       "      if ((window.Bokeh !== undefined) || (force === true)) {\n",
       "        for (var i = 0; i < inline_js.length; i++) {\n",
       "          inline_js[i](window.Bokeh);\n",
       "        }if (force === true) {\n",
       "          display_loaded();\n",
       "        }} else if (Date.now() < window._bokeh_timeout) {\n",
       "        setTimeout(run_inline_js, 100);\n",
       "      } else if (!window._bokeh_failed_load) {\n",
       "        console.log(\"Bokeh: BokehJS failed to load within specified timeout.\");\n",
       "        window._bokeh_failed_load = true;\n",
       "      } else if (force !== true) {\n",
       "        var cell = $(document.getElementById(\"a8f2b83c-7f00-47fd-a3f0-8f2113ebf4a6\")).parents('.cell').data().cell;\n",
       "        cell.output_area.append_execute_result(NB_LOAD_WARNING)\n",
       "      }\n",
       "  \n",
       "    }\n",
       "  \n",
       "    if (window._bokeh_is_loading === 0) {\n",
       "      console.log(\"Bokeh: BokehJS loaded, going straight to plotting\");\n",
       "      run_inline_js();\n",
       "    } else {\n",
       "      load_libs(js_urls, function() {\n",
       "        console.log(\"Bokeh: BokehJS plotting callback run at\", now());\n",
       "        run_inline_js();\n",
       "      });\n",
       "    }\n",
       "  }(this));\n",
       "</script>"
      ]
     },
     "metadata": {},
     "output_type": "display_data"
    }
   ],
   "source": [
    "# Plot the counts of each predicted probability for Het Var events\n",
    "p = figure()\n",
    "p = Histogram(X_homVar_conf, values='Size_Log', title='Homozygous Variant: Predict Proba > 0.8', color='LightSlateGray', bins=30, xlabel=\"Size(log10)\", ylabel=\"Frequency\")\n",
    "output_file(\"250bp_HomVar_PredProb0.8+.html\")\n",
    "show(p)"
   ]
  },
  {
   "cell_type": "markdown",
   "metadata": {},
   "source": [
    "![Figure 1](https://raw.githubusercontent.com/lesleymaraina/NIST/master/Notebooks/CrowdVariant_Analysis/250bp_Hom.png)"
   ]
  },
  {
   "cell_type": "code",
   "execution_count": 184,
   "metadata": {},
   "outputs": [
    {
     "name": "stderr",
     "output_type": "stream",
     "text": [
      "/Users/lmc2/anaconda/envs/NIHFAES/lib/python3.5/site-packages/ipykernel/__main__.py:3: SettingWithCopyWarning:\n",
      "\n",
      "\n",
      "A value is trying to be set on a copy of a slice from a DataFrame.\n",
      "Try using .loc[row_indexer,col_indexer] = value instead\n",
      "\n",
      "See the caveats in the documentation: http://pandas.pydata.org/pandas-docs/stable/indexing.html#indexing-view-versus-copy\n",
      "\n",
      "/Users/lmc2/anaconda/envs/NIHFAES/lib/python3.5/site-packages/ipykernel/__main__.py:4: SettingWithCopyWarning:\n",
      "\n",
      "\n",
      "A value is trying to be set on a copy of a slice from a DataFrame.\n",
      "Try using .loc[row_indexer,col_indexer] = value instead\n",
      "\n",
      "See the caveats in the documentation: http://pandas.pydata.org/pandas-docs/stable/indexing.html#indexing-view-versus-copy\n",
      "\n"
     ]
    }
   ],
   "source": [
    "X6['Het_Var_str'] = X6['Het_Var'].astype(str)\n",
    "X_hetVar_conf = X6[(X6['Het_Var'] == 0.9) | (X6['Het_Var'] == 1) | (X6['Het_Var'] == 0.8)]\n",
    "X_hetVar_conf['Size'] = HG002_pred_2['Size'].abs()\n",
    "X_hetVar_conf['Size_Log'] = np.log10(X_hetVar_conf.Size)"
   ]
  },
  {
   "cell_type": "code",
   "execution_count": 185,
   "metadata": {},
   "outputs": [
    {
     "data": {
      "text/html": [
       "\n",
       "    <div class=\"bk-root\">\n",
       "        <a href=\"http://bokeh.pydata.org\" target=\"_blank\" class=\"bk-logo bk-logo-small bk-logo-notebook\"></a>\n",
       "        <span id=\"8ad1cd9e-c588-45da-beb9-1f853214d77a\">Loading BokehJS ...</span>\n",
       "    </div>"
      ]
     },
     "metadata": {},
     "output_type": "display_data"
    },
    {
     "data": {
      "application/javascript": [
       "\n",
       "(function(global) {\n",
       "  function now() {\n",
       "    return new Date();\n",
       "  }\n",
       "\n",
       "  var force = true;\n",
       "\n",
       "  if (typeof (window._bokeh_onload_callbacks) === \"undefined\" || force === true) {\n",
       "    window._bokeh_onload_callbacks = [];\n",
       "    window._bokeh_is_loading = undefined;\n",
       "  }\n",
       "\n",
       "\n",
       "  \n",
       "  if (typeof (window._bokeh_timeout) === \"undefined\" || force === true) {\n",
       "    window._bokeh_timeout = Date.now() + 5000;\n",
       "    window._bokeh_failed_load = false;\n",
       "  }\n",
       "\n",
       "  var NB_LOAD_WARNING = {'data': {'text/html':\n",
       "     \"<div style='background-color: #fdd'>\\n\"+\n",
       "     \"<p>\\n\"+\n",
       "     \"BokehJS does not appear to have successfully loaded. If loading BokehJS from CDN, this \\n\"+\n",
       "     \"may be due to a slow or bad network connection. Possible fixes:\\n\"+\n",
       "     \"</p>\\n\"+\n",
       "     \"<ul>\\n\"+\n",
       "     \"<li>re-rerun `output_notebook()` to attempt to load from CDN again, or</li>\\n\"+\n",
       "     \"<li>use INLINE resources instead, as so:</li>\\n\"+\n",
       "     \"</ul>\\n\"+\n",
       "     \"<code>\\n\"+\n",
       "     \"from bokeh.resources import INLINE\\n\"+\n",
       "     \"output_notebook(resources=INLINE)\\n\"+\n",
       "     \"</code>\\n\"+\n",
       "     \"</div>\"}};\n",
       "\n",
       "  function display_loaded() {\n",
       "    if (window.Bokeh !== undefined) {\n",
       "      document.getElementById(\"8ad1cd9e-c588-45da-beb9-1f853214d77a\").textContent = \"BokehJS successfully loaded.\";\n",
       "    } else if (Date.now() < window._bokeh_timeout) {\n",
       "      setTimeout(display_loaded, 100)\n",
       "    }\n",
       "  }\n",
       "\n",
       "  function run_callbacks() {\n",
       "    window._bokeh_onload_callbacks.forEach(function(callback) { callback() });\n",
       "    delete window._bokeh_onload_callbacks\n",
       "    console.info(\"Bokeh: all callbacks have finished\");\n",
       "  }\n",
       "\n",
       "  function load_libs(js_urls, callback) {\n",
       "    window._bokeh_onload_callbacks.push(callback);\n",
       "    if (window._bokeh_is_loading > 0) {\n",
       "      console.log(\"Bokeh: BokehJS is being loaded, scheduling callback at\", now());\n",
       "      return null;\n",
       "    }\n",
       "    if (js_urls == null || js_urls.length === 0) {\n",
       "      run_callbacks();\n",
       "      return null;\n",
       "    }\n",
       "    console.log(\"Bokeh: BokehJS not loaded, scheduling load and callback at\", now());\n",
       "    window._bokeh_is_loading = js_urls.length;\n",
       "    for (var i = 0; i < js_urls.length; i++) {\n",
       "      var url = js_urls[i];\n",
       "      var s = document.createElement('script');\n",
       "      s.src = url;\n",
       "      s.async = false;\n",
       "      s.onreadystatechange = s.onload = function() {\n",
       "        window._bokeh_is_loading--;\n",
       "        if (window._bokeh_is_loading === 0) {\n",
       "          console.log(\"Bokeh: all BokehJS libraries loaded\");\n",
       "          run_callbacks()\n",
       "        }\n",
       "      };\n",
       "      s.onerror = function() {\n",
       "        console.warn(\"failed to load library \" + url);\n",
       "      };\n",
       "      console.log(\"Bokeh: injecting script tag for BokehJS library: \", url);\n",
       "      document.getElementsByTagName(\"head\")[0].appendChild(s);\n",
       "    }\n",
       "  };var element = document.getElementById(\"8ad1cd9e-c588-45da-beb9-1f853214d77a\");\n",
       "  if (element == null) {\n",
       "    console.log(\"Bokeh: ERROR: autoload.js configured with elementid '8ad1cd9e-c588-45da-beb9-1f853214d77a' but no matching script tag was found. \")\n",
       "    return false;\n",
       "  }\n",
       "\n",
       "  var js_urls = [\"https://cdn.pydata.org/bokeh/release/bokeh-0.12.4.min.js\", \"https://cdn.pydata.org/bokeh/release/bokeh-widgets-0.12.4.min.js\"];\n",
       "\n",
       "  var inline_js = [\n",
       "    function(Bokeh) {\n",
       "      Bokeh.set_log_level(\"info\");\n",
       "    },\n",
       "    \n",
       "    function(Bokeh) {\n",
       "      \n",
       "      document.getElementById(\"8ad1cd9e-c588-45da-beb9-1f853214d77a\").textContent = \"BokehJS is loading...\";\n",
       "    },\n",
       "    function(Bokeh) {\n",
       "      console.log(\"Bokeh: injecting CSS: https://cdn.pydata.org/bokeh/release/bokeh-0.12.4.min.css\");\n",
       "      Bokeh.embed.inject_css(\"https://cdn.pydata.org/bokeh/release/bokeh-0.12.4.min.css\");\n",
       "      console.log(\"Bokeh: injecting CSS: https://cdn.pydata.org/bokeh/release/bokeh-widgets-0.12.4.min.css\");\n",
       "      Bokeh.embed.inject_css(\"https://cdn.pydata.org/bokeh/release/bokeh-widgets-0.12.4.min.css\");\n",
       "    }\n",
       "  ];\n",
       "\n",
       "  function run_inline_js() {\n",
       "    \n",
       "    if ((window.Bokeh !== undefined) || (force === true)) {\n",
       "      for (var i = 0; i < inline_js.length; i++) {\n",
       "        inline_js[i](window.Bokeh);\n",
       "      }if (force === true) {\n",
       "        display_loaded();\n",
       "      }} else if (Date.now() < window._bokeh_timeout) {\n",
       "      setTimeout(run_inline_js, 100);\n",
       "    } else if (!window._bokeh_failed_load) {\n",
       "      console.log(\"Bokeh: BokehJS failed to load within specified timeout.\");\n",
       "      window._bokeh_failed_load = true;\n",
       "    } else if (force !== true) {\n",
       "      var cell = $(document.getElementById(\"8ad1cd9e-c588-45da-beb9-1f853214d77a\")).parents('.cell').data().cell;\n",
       "      cell.output_area.append_execute_result(NB_LOAD_WARNING)\n",
       "    }\n",
       "\n",
       "  }\n",
       "\n",
       "  if (window._bokeh_is_loading === 0) {\n",
       "    console.log(\"Bokeh: BokehJS loaded, going straight to plotting\");\n",
       "    run_inline_js();\n",
       "  } else {\n",
       "    load_libs(js_urls, function() {\n",
       "      console.log(\"Bokeh: BokehJS plotting callback run at\", now());\n",
       "      run_inline_js();\n",
       "    });\n",
       "  }\n",
       "}(this));"
      ]
     },
     "metadata": {},
     "output_type": "display_data"
    }
   ],
   "source": [
    "output_notebook()"
   ]
  },
  {
   "cell_type": "code",
   "execution_count": 186,
   "metadata": {},
   "outputs": [
    {
     "name": "stderr",
     "output_type": "stream",
     "text": [
      "INFO:bokeh.core.state:Session output file '250bp_HetVar_PredProb0.9+.html' already exists, will be overwritten.\n"
     ]
    },
    {
     "data": {
      "text/html": [
       "\n",
       "\n",
       "    <div class=\"bk-root\">\n",
       "        <div class=\"bk-plotdiv\" id=\"00b9966d-323d-404b-9a5f-6b6a2c7e1f09\"></div>\n",
       "    </div>\n",
       "<script type=\"text/javascript\">\n",
       "  \n",
       "  (function(global) {\n",
       "    function now() {\n",
       "      return new Date();\n",
       "    }\n",
       "  \n",
       "    var force = false;\n",
       "  \n",
       "    if (typeof (window._bokeh_onload_callbacks) === \"undefined\" || force === true) {\n",
       "      window._bokeh_onload_callbacks = [];\n",
       "      window._bokeh_is_loading = undefined;\n",
       "    }\n",
       "  \n",
       "  \n",
       "    \n",
       "    if (typeof (window._bokeh_timeout) === \"undefined\" || force === true) {\n",
       "      window._bokeh_timeout = Date.now() + 0;\n",
       "      window._bokeh_failed_load = false;\n",
       "    }\n",
       "  \n",
       "    var NB_LOAD_WARNING = {'data': {'text/html':\n",
       "       \"<div style='background-color: #fdd'>\\n\"+\n",
       "       \"<p>\\n\"+\n",
       "       \"BokehJS does not appear to have successfully loaded. If loading BokehJS from CDN, this \\n\"+\n",
       "       \"may be due to a slow or bad network connection. Possible fixes:\\n\"+\n",
       "       \"</p>\\n\"+\n",
       "       \"<ul>\\n\"+\n",
       "       \"<li>re-rerun `output_notebook()` to attempt to load from CDN again, or</li>\\n\"+\n",
       "       \"<li>use INLINE resources instead, as so:</li>\\n\"+\n",
       "       \"</ul>\\n\"+\n",
       "       \"<code>\\n\"+\n",
       "       \"from bokeh.resources import INLINE\\n\"+\n",
       "       \"output_notebook(resources=INLINE)\\n\"+\n",
       "       \"</code>\\n\"+\n",
       "       \"</div>\"}};\n",
       "  \n",
       "    function display_loaded() {\n",
       "      if (window.Bokeh !== undefined) {\n",
       "        document.getElementById(\"00b9966d-323d-404b-9a5f-6b6a2c7e1f09\").textContent = \"BokehJS successfully loaded.\";\n",
       "      } else if (Date.now() < window._bokeh_timeout) {\n",
       "        setTimeout(display_loaded, 100)\n",
       "      }\n",
       "    }\n",
       "  \n",
       "    function run_callbacks() {\n",
       "      window._bokeh_onload_callbacks.forEach(function(callback) { callback() });\n",
       "      delete window._bokeh_onload_callbacks\n",
       "      console.info(\"Bokeh: all callbacks have finished\");\n",
       "    }\n",
       "  \n",
       "    function load_libs(js_urls, callback) {\n",
       "      window._bokeh_onload_callbacks.push(callback);\n",
       "      if (window._bokeh_is_loading > 0) {\n",
       "        console.log(\"Bokeh: BokehJS is being loaded, scheduling callback at\", now());\n",
       "        return null;\n",
       "      }\n",
       "      if (js_urls == null || js_urls.length === 0) {\n",
       "        run_callbacks();\n",
       "        return null;\n",
       "      }\n",
       "      console.log(\"Bokeh: BokehJS not loaded, scheduling load and callback at\", now());\n",
       "      window._bokeh_is_loading = js_urls.length;\n",
       "      for (var i = 0; i < js_urls.length; i++) {\n",
       "        var url = js_urls[i];\n",
       "        var s = document.createElement('script');\n",
       "        s.src = url;\n",
       "        s.async = false;\n",
       "        s.onreadystatechange = s.onload = function() {\n",
       "          window._bokeh_is_loading--;\n",
       "          if (window._bokeh_is_loading === 0) {\n",
       "            console.log(\"Bokeh: all BokehJS libraries loaded\");\n",
       "            run_callbacks()\n",
       "          }\n",
       "        };\n",
       "        s.onerror = function() {\n",
       "          console.warn(\"failed to load library \" + url);\n",
       "        };\n",
       "        console.log(\"Bokeh: injecting script tag for BokehJS library: \", url);\n",
       "        document.getElementsByTagName(\"head\")[0].appendChild(s);\n",
       "      }\n",
       "    };var element = document.getElementById(\"00b9966d-323d-404b-9a5f-6b6a2c7e1f09\");\n",
       "    if (element == null) {\n",
       "      console.log(\"Bokeh: ERROR: autoload.js configured with elementid '00b9966d-323d-404b-9a5f-6b6a2c7e1f09' but no matching script tag was found. \")\n",
       "      return false;\n",
       "    }\n",
       "  \n",
       "    var js_urls = [];\n",
       "  \n",
       "    var inline_js = [\n",
       "      function(Bokeh) {\n",
       "        (function() {\n",
       "          var fn = function() {\n",
       "            var docs_json = {\"381943ba-fb92-4ced-82e6-3b91c15b0339\":{\"roots\":{\"references\":[{\"attributes\":{\"data_source\":{\"id\":\"403b7a53-5d0f-4f13-a145-20b0a76b2b71\",\"type\":\"ColumnDataSource\"},\"glyph\":{\"id\":\"3b69bd8f-83e3-4a2a-8945-dd0a2e20c4a8\",\"type\":\"Rect\"},\"hover_glyph\":null,\"nonselection_glyph\":null,\"selection_glyph\":null},\"id\":\"28cd35da-a55a-4db9-a3b0-2f3a4de3334c\",\"type\":\"GlyphRenderer\"},{\"attributes\":{\"callback\":null,\"column_names\":[\"label\",\"line_color\",\"height\",\"line_alpha\",\"fill_alpha\",\"width\",\"color\",\"x\",\"y\"],\"data\":{\"chart_index\":[\"(2.478393, 2.609211]\"],\"color\":[\"LightSlateGray\"],\"fill_alpha\":[0.8],\"height\":[94.0],\"label\":[\"(2.478393, 2.609211]\"],\"line_alpha\":[1.0],\"line_color\":[\"black\"],\"width\":[0.1308180961613834],\"x\":[\"2.5438020000000003\"],\"y\":[47.0]}},\"id\":\"91aadad7-54e2-4915-85f1-b464bb91a17a\",\"type\":\"ColumnDataSource\"},{\"attributes\":{\"callback\":null,\"end\":5.388738123080692,\"start\":1.1378648769193083},\"id\":\"5a38f6a5-f2f3-425b-8917-50dd6e20ba2e\",\"type\":\"Range1d\"},{\"attributes\":{\"data_source\":{\"id\":\"bcef0269-7bd2-4c47-943e-cab2cfa374b0\",\"type\":\"ColumnDataSource\"},\"glyph\":{\"id\":\"ce7c6083-2577-479e-a4c7-831485c32bb0\",\"type\":\"Rect\"},\"hover_glyph\":null,\"nonselection_glyph\":null,\"selection_glyph\":null},\"id\":\"749a657a-312b-43c4-bd60-7bc12e0c8fc3\",\"type\":\"GlyphRenderer\"},{\"attributes\":{\"fill_alpha\":{\"field\":\"fill_alpha\"},\"fill_color\":{\"field\":\"color\"},\"height\":{\"field\":\"height\",\"units\":\"data\"},\"line_color\":{\"field\":\"line_color\"},\"width\":{\"field\":\"width\",\"units\":\"data\"},\"x\":{\"field\":\"x\"},\"y\":{\"field\":\"y\"}},\"id\":\"ce7c6083-2577-479e-a4c7-831485c32bb0\",\"type\":\"Rect\"},{\"attributes\":{\"location\":\"top_left\",\"plot\":{\"id\":\"2c4a1c66-7d4a-4230-ab47-a55a6cbf35ce\",\"subtype\":\"Chart\",\"type\":\"Plot\"}},\"id\":\"5c82e676-c8e3-4aa1-9de0-a1df1174dcbd\",\"type\":\"Legend\"},{\"attributes\":{\"dimension\":1,\"plot\":{\"id\":\"2c4a1c66-7d4a-4230-ab47-a55a6cbf35ce\",\"subtype\":\"Chart\",\"type\":\"Plot\"},\"ticker\":{\"id\":\"4c69bbb3-95e0-4b2c-88f5-6a3caf03facd\",\"type\":\"BasicTicker\"}},\"id\":\"cbe6a06c-1b6a-432f-99a4-913c5e1c4f49\",\"type\":\"Grid\"},{\"attributes\":{\"fill_alpha\":{\"field\":\"fill_alpha\"},\"fill_color\":{\"field\":\"color\"},\"height\":{\"field\":\"height\",\"units\":\"data\"},\"line_color\":{\"field\":\"line_color\"},\"width\":{\"field\":\"width\",\"units\":\"data\"},\"x\":{\"field\":\"x\"},\"y\":{\"field\":\"y\"}},\"id\":\"2d8880f7-2d7a-4e0d-b78e-13de4cc2a5d9\",\"type\":\"Rect\"},{\"attributes\":{\"fill_alpha\":{\"field\":\"fill_alpha\"},\"fill_color\":{\"field\":\"color\"},\"height\":{\"field\":\"height\",\"units\":\"data\"},\"line_color\":{\"field\":\"line_color\"},\"width\":{\"field\":\"width\",\"units\":\"data\"},\"x\":{\"field\":\"x\"},\"y\":{\"field\":\"y\"}},\"id\":\"3b69bd8f-83e3-4a2a-8945-dd0a2e20c4a8\",\"type\":\"Rect\"},{\"attributes\":{\"callback\":null,\"column_names\":[\"label\",\"line_color\",\"height\",\"line_alpha\",\"fill_alpha\",\"width\",\"color\",\"x\",\"y\"],\"data\":{\"chart_index\":[\"(2.085939, 2.216757]\"],\"color\":[\"LightSlateGray\"],\"fill_alpha\":[0.8],\"height\":[64.0],\"label\":[\"(2.085939, 2.216757]\"],\"line_alpha\":[1.0],\"line_color\":[\"black\"],\"width\":[0.1308180961613834],\"x\":[\"2.151348\"],\"y\":[32.0]}},\"id\":\"c40bd270-dffc-475a-8bcb-2ee632bd9db9\",\"type\":\"ColumnDataSource\"},{\"attributes\":{},\"id\":\"b4740f14-d16e-4c14-ad9c-3e8432c8e46c\",\"type\":\"BasicTicker\"},{\"attributes\":{\"callback\":null,\"column_names\":[\"label\",\"line_color\",\"height\",\"line_alpha\",\"fill_alpha\",\"width\",\"color\",\"x\",\"y\"],\"data\":{\"chart_index\":[\"(2.347575, 2.478393]\"],\"color\":[\"LightSlateGray\"],\"fill_alpha\":[0.8],\"height\":[49.0],\"label\":[\"(2.347575, 2.478393]\"],\"line_alpha\":[1.0],\"line_color\":[\"black\"],\"width\":[0.1308180961613834],\"x\":[\"2.412984\"],\"y\":[24.5]}},\"id\":\"32682800-7520-4e14-98f0-4c861cf205da\",\"type\":\"ColumnDataSource\"},{\"attributes\":{\"fill_alpha\":{\"field\":\"fill_alpha\"},\"fill_color\":{\"field\":\"color\"},\"height\":{\"field\":\"height\",\"units\":\"data\"},\"line_color\":{\"field\":\"line_color\"},\"width\":{\"field\":\"width\",\"units\":\"data\"},\"x\":{\"field\":\"x\"},\"y\":{\"field\":\"y\"}},\"id\":\"4e3ed0cb-b519-45a0-95d8-7cc438d5ad31\",\"type\":\"Rect\"},{\"attributes\":{\"data_source\":{\"id\":\"f54b587c-abde-4fda-a20e-f0f0ee2ed693\",\"type\":\"ColumnDataSource\"},\"glyph\":{\"id\":\"85db3d17-10cc-4cdc-ae69-c2e0083a2ded\",\"type\":\"Rect\"},\"hover_glyph\":null,\"nonselection_glyph\":null,\"selection_glyph\":null},\"id\":\"bfc46608-e478-4a5b-a588-35ff58a70a61\",\"type\":\"GlyphRenderer\"},{\"attributes\":{\"fill_alpha\":{\"field\":\"fill_alpha\"},\"fill_color\":{\"field\":\"color\"},\"height\":{\"field\":\"height\",\"units\":\"data\"},\"line_color\":{\"field\":\"line_color\"},\"width\":{\"field\":\"width\",\"units\":\"data\"},\"x\":{\"field\":\"x\"},\"y\":{\"field\":\"y\"}},\"id\":\"cdbe53b3-9f6d-40b0-94f5-8222eec065c2\",\"type\":\"Rect\"},{\"attributes\":{\"fill_alpha\":{\"field\":\"fill_alpha\"},\"fill_color\":{\"field\":\"color\"},\"height\":{\"field\":\"height\",\"units\":\"data\"},\"line_color\":{\"field\":\"line_color\"},\"width\":{\"field\":\"width\",\"units\":\"data\"},\"x\":{\"field\":\"x\"},\"y\":{\"field\":\"y\"}},\"id\":\"e4e4bb2e-36c2-4b8e-b2c5-ea677d5686c4\",\"type\":\"Rect\"},{\"attributes\":{\"fill_alpha\":{\"field\":\"fill_alpha\"},\"fill_color\":{\"field\":\"color\"},\"height\":{\"field\":\"height\",\"units\":\"data\"},\"line_color\":{\"field\":\"line_color\"},\"width\":{\"field\":\"width\",\"units\":\"data\"},\"x\":{\"field\":\"x\"},\"y\":{\"field\":\"y\"}},\"id\":\"0b8b47cb-d82a-4102-a9a5-fa99fc300f67\",\"type\":\"Rect\"},{\"attributes\":{\"fill_alpha\":{\"field\":\"fill_alpha\"},\"fill_color\":{\"field\":\"color\"},\"height\":{\"field\":\"height\",\"units\":\"data\"},\"line_color\":{\"field\":\"line_color\"},\"width\":{\"field\":\"width\",\"units\":\"data\"},\"x\":{\"field\":\"x\"},\"y\":{\"field\":\"y\"}},\"id\":\"859f2cab-8b2f-4108-98e5-7ffc397bc47c\",\"type\":\"Rect\"},{\"attributes\":{\"plot\":{\"id\":\"2c4a1c66-7d4a-4230-ab47-a55a6cbf35ce\",\"subtype\":\"Chart\",\"type\":\"Plot\"}},\"id\":\"c9fb2534-a993-41e2-bfbe-35ee6f42ee45\",\"type\":\"WheelZoomTool\"},{\"attributes\":{\"data_source\":{\"id\":\"1816979d-c0b9-44e7-a075-2f455565127a\",\"type\":\"ColumnDataSource\"},\"glyph\":{\"id\":\"4e3ed0cb-b519-45a0-95d8-7cc438d5ad31\",\"type\":\"Rect\"},\"hover_glyph\":null,\"nonselection_glyph\":null,\"selection_glyph\":null},\"id\":\"2f455229-0435-4675-a775-f3e112280c80\",\"type\":\"GlyphRenderer\"},{\"attributes\":{\"callback\":null,\"column_names\":[\"label\",\"line_color\",\"height\",\"line_alpha\",\"fill_alpha\",\"width\",\"color\",\"x\",\"y\"],\"data\":{\"chart_index\":[\"(2.609211, 2.740029]\"],\"color\":[\"LightSlateGray\"],\"fill_alpha\":[0.8],\"height\":[40.0],\"label\":[\"(2.609211, 2.740029]\"],\"line_alpha\":[1.0],\"line_color\":[\"black\"],\"width\":[0.1308180961613834],\"x\":[\"2.67462\"],\"y\":[20.0]}},\"id\":\"abcee35f-b1b1-497e-9dc3-e1435bde278a\",\"type\":\"ColumnDataSource\"},{\"attributes\":{\"data_source\":{\"id\":\"2cae893d-a604-411f-8c14-b2d07cbfe94b\",\"type\":\"ColumnDataSource\"},\"glyph\":{\"id\":\"1978f986-e77a-4141-8b05-1f4010738b90\",\"type\":\"Rect\"},\"hover_glyph\":null,\"nonselection_glyph\":null,\"selection_glyph\":null},\"id\":\"d33b0f75-a7c0-40ae-b14e-d44ca9342dc3\",\"type\":\"GlyphRenderer\"},{\"attributes\":{\"fill_alpha\":{\"field\":\"fill_alpha\"},\"fill_color\":{\"field\":\"color\"},\"height\":{\"field\":\"height\",\"units\":\"data\"},\"line_color\":{\"field\":\"line_color\"},\"width\":{\"field\":\"width\",\"units\":\"data\"},\"x\":{\"field\":\"x\"},\"y\":{\"field\":\"y\"}},\"id\":\"23c044c6-bc4d-4204-a515-cab0c453001a\",\"type\":\"Rect\"},{\"attributes\":{\"plot\":{\"id\":\"2c4a1c66-7d4a-4230-ab47-a55a6cbf35ce\",\"subtype\":\"Chart\",\"type\":\"Plot\"}},\"id\":\"fb246530-1780-4d71-8cee-0f11bb6f223f\",\"type\":\"PanTool\"},{\"attributes\":{\"callback\":null,\"column_names\":[\"label\",\"line_color\",\"height\",\"line_alpha\",\"fill_alpha\",\"width\",\"color\",\"x\",\"y\"],\"data\":{\"chart_index\":[\"(3.524938, 3.655756]\"],\"color\":[\"LightSlateGray\"],\"fill_alpha\":[0.8],\"height\":[3.0],\"label\":[\"(3.524938, 3.655756]\"],\"line_alpha\":[1.0],\"line_color\":[\"black\"],\"width\":[0.1308180961613834],\"x\":[\"3.590347\"],\"y\":[1.5]}},\"id\":\"1816979d-c0b9-44e7-a075-2f455565127a\",\"type\":\"ColumnDataSource\"},{\"attributes\":{\"fill_alpha\":{\"field\":\"fill_alpha\"},\"fill_color\":{\"field\":\"color\"},\"height\":{\"field\":\"height\",\"units\":\"data\"},\"line_color\":{\"field\":\"line_color\"},\"width\":{\"field\":\"width\",\"units\":\"data\"},\"x\":{\"field\":\"x\"},\"y\":{\"field\":\"y\"}},\"id\":\"3ceedc7e-840c-4b9a-841e-855a964b9dbc\",\"type\":\"Rect\"},{\"attributes\":{\"callback\":null,\"column_names\":[\"label\",\"line_color\",\"height\",\"line_alpha\",\"fill_alpha\",\"width\",\"color\",\"x\",\"y\"],\"data\":{\"chart_index\":[\"(2.870847, 3.001665]\"],\"color\":[\"LightSlateGray\"],\"fill_alpha\":[0.8],\"height\":[18.0],\"label\":[\"(2.870847, 3.001665]\"],\"line_alpha\":[1.0],\"line_color\":[\"black\"],\"width\":[0.1308180961613834],\"x\":[\"2.936256\"],\"y\":[9.0]}},\"id\":\"2cae893d-a604-411f-8c14-b2d07cbfe94b\",\"type\":\"ColumnDataSource\"},{\"attributes\":{\"fill_alpha\":{\"field\":\"fill_alpha\"},\"fill_color\":{\"field\":\"color\"},\"height\":{\"field\":\"height\",\"units\":\"data\"},\"line_color\":{\"field\":\"line_color\"},\"width\":{\"field\":\"width\",\"units\":\"data\"},\"x\":{\"field\":\"x\"},\"y\":{\"field\":\"y\"}},\"id\":\"e674c39c-9e96-4e35-afb8-a0389fdc17ed\",\"type\":\"Rect\"},{\"attributes\":{\"data_source\":{\"id\":\"afa67a1f-e56e-4462-af2a-cdd3b3705701\",\"type\":\"ColumnDataSource\"},\"glyph\":{\"id\":\"f9edb529-3e0f-4fa7-841b-27b04e6188f4\",\"type\":\"Rect\"},\"hover_glyph\":null,\"nonselection_glyph\":null,\"selection_glyph\":null},\"id\":\"17870524-65cd-4c1f-a586-c9e44f4891b2\",\"type\":\"GlyphRenderer\"},{\"attributes\":{\"fill_alpha\":{\"field\":\"fill_alpha\"},\"fill_color\":{\"field\":\"color\"},\"height\":{\"field\":\"height\",\"units\":\"data\"},\"line_color\":{\"field\":\"line_color\"},\"width\":{\"field\":\"width\",\"units\":\"data\"},\"x\":{\"field\":\"x\"},\"y\":{\"field\":\"y\"}},\"id\":\"51d8a6b8-9abd-431d-811f-2175604a6f11\",\"type\":\"Rect\"},{\"attributes\":{},\"id\":\"712edcb7-7be5-4ae2-a34c-f5fb7313d122\",\"type\":\"BasicTickFormatter\"},{\"attributes\":{\"data_source\":{\"id\":\"231fbe0a-d165-4c87-8150-8b82bdfbbffb\",\"type\":\"ColumnDataSource\"},\"glyph\":{\"id\":\"0b8b47cb-d82a-4102-a9a5-fa99fc300f67\",\"type\":\"Rect\"},\"hover_glyph\":null,\"nonselection_glyph\":null,\"selection_glyph\":null},\"id\":\"c5059edc-f7ce-4746-8352-537fe95d9dce\",\"type\":\"GlyphRenderer\"},{\"attributes\":{\"callback\":null,\"column_names\":[\"label\",\"line_color\",\"height\",\"line_alpha\",\"fill_alpha\",\"width\",\"color\",\"x\",\"y\"],\"data\":{\"chart_index\":[\"(3.001665, 3.132483]\"],\"color\":[\"LightSlateGray\"],\"fill_alpha\":[0.8],\"height\":[18.0],\"label\":[\"(3.001665, 3.132483]\"],\"line_alpha\":[1.0],\"line_color\":[\"black\"],\"width\":[0.1308180961613834],\"x\":[\"3.067074\"],\"y\":[9.0]}},\"id\":\"24cdca3f-9b67-4613-8c6f-1fbb76a44c52\",\"type\":\"ColumnDataSource\"},{\"attributes\":{\"callback\":null,\"column_names\":[\"label\",\"line_color\",\"height\",\"line_alpha\",\"fill_alpha\",\"width\",\"color\",\"x\",\"y\"],\"data\":{\"chart_index\":[\"(2.740029, 2.870847]\"],\"color\":[\"LightSlateGray\"],\"fill_alpha\":[0.8],\"height\":[22.0],\"label\":[\"(2.740029, 2.870847]\"],\"line_alpha\":[1.0],\"line_color\":[\"black\"],\"width\":[0.13081809616138385],\"x\":[\"2.8054379999999997\"],\"y\":[11.0]}},\"id\":\"dfcf590b-37e8-4dbe-a16c-4a4d8900a307\",\"type\":\"ColumnDataSource\"},{\"attributes\":{\"callback\":null,\"column_names\":[\"label\",\"line_color\",\"height\",\"line_alpha\",\"fill_alpha\",\"width\",\"color\",\"x\",\"y\"],\"data\":{\"chart_index\":[\"(3.132483, 3.263301]\"],\"color\":[\"LightSlateGray\"],\"fill_alpha\":[0.8],\"height\":[9.0],\"label\":[\"(3.132483, 3.263301]\"],\"line_alpha\":[1.0],\"line_color\":[\"black\"],\"width\":[0.1308180961613834],\"x\":[\"3.197892\"],\"y\":[4.5]}},\"id\":\"8c72a940-79f1-47d5-999e-93e26759996a\",\"type\":\"ColumnDataSource\"},{\"attributes\":{\"data_source\":{\"id\":\"dfcf590b-37e8-4dbe-a16c-4a4d8900a307\",\"type\":\"ColumnDataSource\"},\"glyph\":{\"id\":\"ebc7d74b-7502-4ea8-b7c5-13203de30dee\",\"type\":\"Rect\"},\"hover_glyph\":null,\"nonselection_glyph\":null,\"selection_glyph\":null},\"id\":\"8cd64c13-9b01-4963-ac38-7bc9422117a9\",\"type\":\"GlyphRenderer\"},{\"attributes\":{\"callback\":null,\"column_names\":[\"label\",\"line_color\",\"height\",\"line_alpha\",\"fill_alpha\",\"width\",\"color\",\"x\",\"y\"],\"data\":{\"chart_index\":[\"(2.216757, 2.347575]\"],\"color\":[\"LightSlateGray\"],\"fill_alpha\":[0.8],\"height\":[50.0],\"label\":[\"(2.216757, 2.347575]\"],\"line_alpha\":[1.0],\"line_color\":[\"black\"],\"width\":[0.1308180961613834],\"x\":[\"2.282166\"],\"y\":[25.0]}},\"id\":\"47994189-ff79-4141-b35a-f794ae391bde\",\"type\":\"ColumnDataSource\"},{\"attributes\":{\"callback\":null,\"column_names\":[\"label\",\"line_color\",\"height\",\"line_alpha\",\"fill_alpha\",\"width\",\"color\",\"x\",\"y\"],\"data\":{\"chart_index\":[\"(3.786574, 3.917392]\"],\"color\":[\"LightSlateGray\"],\"fill_alpha\":[0.8],\"height\":[5.0],\"label\":[\"(3.786574, 3.917392]\"],\"line_alpha\":[1.0],\"line_color\":[\"black\"],\"width\":[0.1308180961613834],\"x\":[\"3.8519829999999997\"],\"y\":[2.5]}},\"id\":\"8c579d50-e7f4-4cf6-8c85-31a71e2ecf7c\",\"type\":\"ColumnDataSource\"},{\"attributes\":{},\"id\":\"c87c746a-538e-4132-bdf5-19a7190bb4f9\",\"type\":\"ToolEvents\"},{\"attributes\":{\"fill_alpha\":{\"field\":\"fill_alpha\"},\"fill_color\":{\"field\":\"color\"},\"height\":{\"field\":\"height\",\"units\":\"data\"},\"line_color\":{\"field\":\"line_color\"},\"width\":{\"field\":\"width\",\"units\":\"data\"},\"x\":{\"field\":\"x\"},\"y\":{\"field\":\"y\"}},\"id\":\"7212738f-1c87-4923-94fa-c6a98ab74ed8\",\"type\":\"Rect\"},{\"attributes\":{\"axis_label\":\"Size(log10)\",\"formatter\":{\"id\":\"3bc8487c-5616-4f10-995f-02c172f577c2\",\"type\":\"BasicTickFormatter\"},\"plot\":{\"id\":\"2c4a1c66-7d4a-4230-ab47-a55a6cbf35ce\",\"subtype\":\"Chart\",\"type\":\"Plot\"},\"ticker\":{\"id\":\"b4740f14-d16e-4c14-ad9c-3e8432c8e46c\",\"type\":\"BasicTicker\"}},\"id\":\"e8a2cccc-39f7-41a9-adc1-5251e841485c\",\"type\":\"LinearAxis\"},{\"attributes\":{\"callback\":null,\"column_names\":[\"label\",\"line_color\",\"height\",\"line_alpha\",\"fill_alpha\",\"width\",\"color\",\"x\",\"y\"],\"data\":{\"chart_index\":[\"(5.094755, 5.225573]\"],\"color\":[\"LightSlateGray\"],\"fill_alpha\":[0.8],\"height\":[1.0],\"label\":[\"(5.094755, 5.225573]\"],\"line_alpha\":[1.0],\"line_color\":[\"black\"],\"width\":[0.1308180961613834],\"x\":[\"5.160164\"],\"y\":[0.5]}},\"id\":\"6abff05f-bc86-4e73-9c97-a64bb8910a81\",\"type\":\"ColumnDataSource\"},{\"attributes\":{\"fill_alpha\":{\"field\":\"fill_alpha\"},\"fill_color\":{\"field\":\"color\"},\"height\":{\"field\":\"height\",\"units\":\"data\"},\"line_color\":{\"field\":\"line_color\"},\"width\":{\"field\":\"width\",\"units\":\"data\"},\"x\":{\"field\":\"x\"},\"y\":{\"field\":\"y\"}},\"id\":\"4c8f43b6-d076-4b24-8738-0c905bc0c463\",\"type\":\"Rect\"},{\"attributes\":{\"data_source\":{\"id\":\"d64aa443-e9c9-4fda-9b1a-5fd14407bd4a\",\"type\":\"ColumnDataSource\"},\"glyph\":{\"id\":\"9162ca0b-571c-444b-9a2a-e394df9c511b\",\"type\":\"Rect\"},\"hover_glyph\":null,\"nonselection_glyph\":null,\"selection_glyph\":null},\"id\":\"1d9af084-ea8b-4378-a0cc-1d7302d640f2\",\"type\":\"GlyphRenderer\"},{\"attributes\":{\"data_source\":{\"id\":\"dc407b4b-86aa-4e8e-9ff0-8f98dff67882\",\"type\":\"ColumnDataSource\"},\"glyph\":{\"id\":\"23c044c6-bc4d-4204-a515-cab0c453001a\",\"type\":\"Rect\"},\"hover_glyph\":null,\"nonselection_glyph\":null,\"selection_glyph\":null},\"id\":\"42546704-37d3-44a6-807d-9ea138a7e1d9\",\"type\":\"GlyphRenderer\"},{\"attributes\":{\"axis_label\":\"Frequency\",\"formatter\":{\"id\":\"712edcb7-7be5-4ae2-a34c-f5fb7313d122\",\"type\":\"BasicTickFormatter\"},\"plot\":{\"id\":\"2c4a1c66-7d4a-4230-ab47-a55a6cbf35ce\",\"subtype\":\"Chart\",\"type\":\"Plot\"},\"ticker\":{\"id\":\"4c69bbb3-95e0-4b2c-88f5-6a3caf03facd\",\"type\":\"BasicTicker\"}},\"id\":\"439743e6-ab82-430a-8a05-da2ef7aa6d08\",\"type\":\"LinearAxis\"},{\"attributes\":{\"below\":[{\"id\":\"e8a2cccc-39f7-41a9-adc1-5251e841485c\",\"type\":\"LinearAxis\"}],\"css_classes\":null,\"left\":[{\"id\":\"439743e6-ab82-430a-8a05-da2ef7aa6d08\",\"type\":\"LinearAxis\"}],\"renderers\":[{\"id\":\"cdbb8aab-a38f-4491-97d2-5d351c536ead\",\"type\":\"BoxAnnotation\"},{\"id\":\"a00295c1-eaa5-412e-91b2-5afb7d8e3906\",\"type\":\"GlyphRenderer\"},{\"id\":\"1d9af084-ea8b-4378-a0cc-1d7302d640f2\",\"type\":\"GlyphRenderer\"},{\"id\":\"685c993d-b72f-4602-bd8b-65dcae88d3c0\",\"type\":\"GlyphRenderer\"},{\"id\":\"7b39733e-f6d6-47ed-8090-fa5cb98248a6\",\"type\":\"GlyphRenderer\"},{\"id\":\"42546704-37d3-44a6-807d-9ea138a7e1d9\",\"type\":\"GlyphRenderer\"},{\"id\":\"802236dc-fbb6-45ee-8d46-555d21258b1c\",\"type\":\"GlyphRenderer\"},{\"id\":\"2f36711b-bd91-4e06-8a76-34fedf278fc4\",\"type\":\"GlyphRenderer\"},{\"id\":\"bc52a884-d761-4769-8602-93fd5fe1d6c0\",\"type\":\"GlyphRenderer\"},{\"id\":\"a6d53990-02dc-40fe-a3b0-1c609c902bea\",\"type\":\"GlyphRenderer\"},{\"id\":\"ebfe3bf3-3e0b-49cc-a19c-e747f998ad7b\",\"type\":\"GlyphRenderer\"},{\"id\":\"d52b8964-af07-4df9-b567-40e67456e59e\",\"type\":\"GlyphRenderer\"},{\"id\":\"8cd64c13-9b01-4963-ac38-7bc9422117a9\",\"type\":\"GlyphRenderer\"},{\"id\":\"d33b0f75-a7c0-40ae-b14e-d44ca9342dc3\",\"type\":\"GlyphRenderer\"},{\"id\":\"443dc1bc-677c-4da0-b9b2-532247901dc4\",\"type\":\"GlyphRenderer\"},{\"id\":\"83291817-2bc1-4600-bd9f-c4e4157394f0\",\"type\":\"GlyphRenderer\"},{\"id\":\"f3320e35-ac9f-48cd-8a64-8aa1fbbe2fe1\",\"type\":\"GlyphRenderer\"},{\"id\":\"28cd35da-a55a-4db9-a3b0-2f3a4de3334c\",\"type\":\"GlyphRenderer\"},{\"id\":\"2f455229-0435-4675-a775-f3e112280c80\",\"type\":\"GlyphRenderer\"},{\"id\":\"44d4f4e5-2058-49b0-805a-999a4497155d\",\"type\":\"GlyphRenderer\"},{\"id\":\"d51d5f97-54b5-48d5-b2eb-a0657f6022c4\",\"type\":\"GlyphRenderer\"},{\"id\":\"17870524-65cd-4c1f-a586-c9e44f4891b2\",\"type\":\"GlyphRenderer\"},{\"id\":\"208c0c6c-87c0-4372-a8bb-031b4ff625ad\",\"type\":\"GlyphRenderer\"},{\"id\":\"da34cc07-dc49-4d86-8129-022f384712c3\",\"type\":\"GlyphRenderer\"},{\"id\":\"c5059edc-f7ce-4746-8352-537fe95d9dce\",\"type\":\"GlyphRenderer\"},{\"id\":\"bfc46608-e478-4a5b-a588-35ff58a70a61\",\"type\":\"GlyphRenderer\"},{\"id\":\"209fb457-985c-41e0-b0c9-3f038a6c7cde\",\"type\":\"GlyphRenderer\"},{\"id\":\"fc5db65a-e1f2-4d6c-8e9a-c4de93f564d7\",\"type\":\"GlyphRenderer\"},{\"id\":\"749a657a-312b-43c4-bd60-7bc12e0c8fc3\",\"type\":\"GlyphRenderer\"},{\"id\":\"8e64f9cc-3a9d-41ee-a764-e59b069af4ae\",\"type\":\"GlyphRenderer\"},{\"id\":\"272291ad-66e6-4054-8c5f-c8b758550e02\",\"type\":\"GlyphRenderer\"},{\"id\":\"5c82e676-c8e3-4aa1-9de0-a1df1174dcbd\",\"type\":\"Legend\"},{\"id\":\"e8a2cccc-39f7-41a9-adc1-5251e841485c\",\"type\":\"LinearAxis\"},{\"id\":\"439743e6-ab82-430a-8a05-da2ef7aa6d08\",\"type\":\"LinearAxis\"},{\"id\":\"cbe6a06c-1b6a-432f-99a4-913c5e1c4f49\",\"type\":\"Grid\"}],\"title\":{\"id\":\"959ccb09-e75c-49e1-b26e-e462ec51a456\",\"type\":\"Title\"},\"tool_events\":{\"id\":\"c87c746a-538e-4132-bdf5-19a7190bb4f9\",\"type\":\"ToolEvents\"},\"toolbar\":{\"id\":\"55267d68-6100-44ae-994f-03053699c2ed\",\"type\":\"Toolbar\"},\"x_mapper_type\":\"auto\",\"x_range\":{\"id\":\"5a38f6a5-f2f3-425b-8917-50dd6e20ba2e\",\"type\":\"Range1d\"},\"y_mapper_type\":\"auto\",\"y_range\":{\"id\":\"8354a577-369f-465d-9736-fd971be38b77\",\"type\":\"Range1d\"}},\"id\":\"2c4a1c66-7d4a-4230-ab47-a55a6cbf35ce\",\"subtype\":\"Chart\",\"type\":\"Plot\"},{\"attributes\":{\"fill_alpha\":{\"field\":\"fill_alpha\"},\"fill_color\":{\"field\":\"color\"},\"height\":{\"field\":\"height\",\"units\":\"data\"},\"line_color\":{\"field\":\"line_color\"},\"width\":{\"field\":\"width\",\"units\":\"data\"},\"x\":{\"field\":\"x\"},\"y\":{\"field\":\"y\"}},\"id\":\"ebc7d74b-7502-4ea8-b7c5-13203de30dee\",\"type\":\"Rect\"},{\"attributes\":{\"fill_alpha\":{\"field\":\"fill_alpha\"},\"fill_color\":{\"field\":\"color\"},\"height\":{\"field\":\"height\",\"units\":\"data\"},\"line_color\":{\"field\":\"line_color\"},\"width\":{\"field\":\"width\",\"units\":\"data\"},\"x\":{\"field\":\"x\"},\"y\":{\"field\":\"y\"}},\"id\":\"1755368a-7dfb-4b2b-b345-cca8e3acbdcf\",\"type\":\"Rect\"},{\"attributes\":{\"callback\":null,\"column_names\":[\"label\",\"line_color\",\"height\",\"line_alpha\",\"fill_alpha\",\"width\",\"color\",\"x\",\"y\"],\"data\":{\"chart_index\":[\"(3.917392, 4.048210]\"],\"color\":[\"LightSlateGray\"],\"fill_alpha\":[0.8],\"height\":[2.0],\"label\":[\"(3.917392, 4.048210]\"],\"line_alpha\":[1.0],\"line_color\":[\"black\"],\"width\":[0.13081809616138385],\"x\":[\"3.9828010000000003\"],\"y\":[1.0]}},\"id\":\"afa67a1f-e56e-4462-af2a-cdd3b3705701\",\"type\":\"ColumnDataSource\"},{\"attributes\":{\"callback\":null,\"column_names\":[\"label\",\"line_color\",\"height\",\"line_alpha\",\"fill_alpha\",\"width\",\"color\",\"x\",\"y\"],\"data\":{\"chart_index\":[\"(4.963937, 5.094755]\"],\"color\":[\"LightSlateGray\"],\"fill_alpha\":[0.8],\"height\":[1.0],\"label\":[\"(4.963937, 5.094755]\"],\"line_alpha\":[1.0],\"line_color\":[\"black\"],\"width\":[0.1308180961613834],\"x\":[\"5.029346\"],\"y\":[0.5]}},\"id\":\"300e9abc-0a2a-4929-8b51-2333a0447bc3\",\"type\":\"ColumnDataSource\"},{\"attributes\":{\"data_source\":{\"id\":\"d84ee2dc-95ac-416c-ba00-250e3ccff36f\",\"type\":\"ColumnDataSource\"},\"glyph\":{\"id\":\"f014c165-2493-4815-9099-5dca6c48b73c\",\"type\":\"Rect\"},\"hover_glyph\":null,\"nonselection_glyph\":null,\"selection_glyph\":null},\"id\":\"da34cc07-dc49-4d86-8129-022f384712c3\",\"type\":\"GlyphRenderer\"},{\"attributes\":{\"callback\":null,\"column_names\":[\"label\",\"line_color\",\"height\",\"line_alpha\",\"fill_alpha\",\"width\",\"color\",\"x\",\"y\"],\"data\":{\"chart_index\":[\"(4.309846, 4.440664]\"],\"color\":[\"LightSlateGray\"],\"fill_alpha\":[0.8],\"height\":[1.0],\"label\":[\"(4.309846, 4.440664]\"],\"line_alpha\":[1.0],\"line_color\":[\"black\"],\"width\":[0.1308180961613834],\"x\":[\"4.375255\"],\"y\":[0.5]}},\"id\":\"231fbe0a-d165-4c87-8150-8b82bdfbbffb\",\"type\":\"ColumnDataSource\"},{\"attributes\":{\"fill_alpha\":{\"field\":\"fill_alpha\"},\"fill_color\":{\"field\":\"color\"},\"height\":{\"field\":\"height\",\"units\":\"data\"},\"line_color\":{\"field\":\"line_color\"},\"width\":{\"field\":\"width\",\"units\":\"data\"},\"x\":{\"field\":\"x\"},\"y\":{\"field\":\"y\"}},\"id\":\"f9edb529-3e0f-4fa7-841b-27b04e6188f4\",\"type\":\"Rect\"},{\"attributes\":{\"callback\":null,\"column_names\":[\"label\",\"line_color\",\"height\",\"line_alpha\",\"fill_alpha\",\"width\",\"color\",\"x\",\"y\"],\"data\":{\"chart_index\":[\"(3.263301, 3.394120]\"],\"color\":[\"LightSlateGray\"],\"fill_alpha\":[0.8],\"height\":[8.0],\"label\":[\"(3.263301, 3.394120]\"],\"line_alpha\":[1.0],\"line_color\":[\"black\"],\"width\":[0.1308180961613834],\"x\":[\"3.3287104999999997\"],\"y\":[4.0]}},\"id\":\"9690d3dc-c706-4121-abc3-67503bd8c721\",\"type\":\"ColumnDataSource\"},{\"attributes\":{},\"id\":\"3bc8487c-5616-4f10-995f-02c172f577c2\",\"type\":\"BasicTickFormatter\"},{\"attributes\":{\"data_source\":{\"id\":\"300e9abc-0a2a-4929-8b51-2333a0447bc3\",\"type\":\"ColumnDataSource\"},\"glyph\":{\"id\":\"1755368a-7dfb-4b2b-b345-cca8e3acbdcf\",\"type\":\"Rect\"},\"hover_glyph\":null,\"nonselection_glyph\":null,\"selection_glyph\":null},\"id\":\"8e64f9cc-3a9d-41ee-a764-e59b069af4ae\",\"type\":\"GlyphRenderer\"},{\"attributes\":{\"data_source\":{\"id\":\"83154d17-cfe9-4c02-8927-a74c16461631\",\"type\":\"ColumnDataSource\"},\"glyph\":{\"id\":\"a5a723ec-a7b2-43d9-b5f4-006015fd25c8\",\"type\":\"Rect\"},\"hover_glyph\":null,\"nonselection_glyph\":null,\"selection_glyph\":null},\"id\":\"a00295c1-eaa5-412e-91b2-5afb7d8e3906\",\"type\":\"GlyphRenderer\"},{\"attributes\":{\"callback\":null,\"end\":685.3000000000001},\"id\":\"8354a577-369f-465d-9736-fd971be38b77\",\"type\":\"Range1d\"},{\"attributes\":{\"data_source\":{\"id\":\"9690d3dc-c706-4121-abc3-67503bd8c721\",\"type\":\"ColumnDataSource\"},\"glyph\":{\"id\":\"7b695935-410d-4f5e-9f44-8aa4ee935a68\",\"type\":\"Rect\"},\"hover_glyph\":null,\"nonselection_glyph\":null,\"selection_glyph\":null},\"id\":\"f3320e35-ac9f-48cd-8a64-8aa1fbbe2fe1\",\"type\":\"GlyphRenderer\"},{\"attributes\":{\"fill_alpha\":{\"field\":\"fill_alpha\"},\"fill_color\":{\"field\":\"color\"},\"height\":{\"field\":\"height\",\"units\":\"data\"},\"line_color\":{\"field\":\"line_color\"},\"width\":{\"field\":\"width\",\"units\":\"data\"},\"x\":{\"field\":\"x\"},\"y\":{\"field\":\"y\"}},\"id\":\"f014c165-2493-4815-9099-5dca6c48b73c\",\"type\":\"Rect\"},{\"attributes\":{\"callback\":null,\"column_names\":[\"label\",\"line_color\",\"height\",\"line_alpha\",\"fill_alpha\",\"width\",\"color\",\"x\",\"y\"],\"data\":{\"chart_index\":[\"(1.693484, 1.824302]\"],\"color\":[\"LightSlateGray\"],\"fill_alpha\":[0.8],\"height\":[130.0],\"label\":[\"(1.693484, 1.824302]\"],\"line_alpha\":[1.0],\"line_color\":[\"black\"],\"width\":[0.1308180961613834],\"x\":[\"1.758893\"],\"y\":[65.0]}},\"id\":\"610a7832-466d-4a35-9d17-51e32de8cedf\",\"type\":\"ColumnDataSource\"},{\"attributes\":{\"data_source\":{\"id\":\"54ded421-6f0d-4e33-ba46-322f3b23055d\",\"type\":\"ColumnDataSource\"},\"glyph\":{\"id\":\"9ab7400e-ddb6-4654-98f0-3970def395a2\",\"type\":\"Rect\"},\"hover_glyph\":null,\"nonselection_glyph\":null,\"selection_glyph\":null},\"id\":\"685c993d-b72f-4602-bd8b-65dcae88d3c0\",\"type\":\"GlyphRenderer\"},{\"attributes\":{\"data_source\":{\"id\":\"32682800-7520-4e14-98f0-4c861cf205da\",\"type\":\"ColumnDataSource\"},\"glyph\":{\"id\":\"97d22da1-bc68-4aa5-829d-fc8fdb0a764c\",\"type\":\"Rect\"},\"hover_glyph\":null,\"nonselection_glyph\":null,\"selection_glyph\":null},\"id\":\"a6d53990-02dc-40fe-a3b0-1c609c902bea\",\"type\":\"GlyphRenderer\"},{\"attributes\":{\"overlay\":{\"id\":\"cdbb8aab-a38f-4491-97d2-5d351c536ead\",\"type\":\"BoxAnnotation\"},\"plot\":{\"id\":\"2c4a1c66-7d4a-4230-ab47-a55a6cbf35ce\",\"subtype\":\"Chart\",\"type\":\"Plot\"}},\"id\":\"8f96a6e3-a8a1-4b37-86be-9896fb028378\",\"type\":\"BoxZoomTool\"},{\"attributes\":{\"data_source\":{\"id\":\"cd52991f-40a0-45a3-a5bb-a830195f458d\",\"type\":\"ColumnDataSource\"},\"glyph\":{\"id\":\"2d8880f7-2d7a-4e0d-b78e-13de4cc2a5d9\",\"type\":\"Rect\"},\"hover_glyph\":null,\"nonselection_glyph\":null,\"selection_glyph\":null},\"id\":\"209fb457-985c-41e0-b0c9-3f038a6c7cde\",\"type\":\"GlyphRenderer\"},{\"attributes\":{\"callback\":null,\"column_names\":[\"label\",\"line_color\",\"height\",\"line_alpha\",\"fill_alpha\",\"width\",\"color\",\"x\",\"y\"],\"data\":{\"chart_index\":[\"[1.301030, 1.431848]\"],\"color\":[\"LightSlateGray\"],\"fill_alpha\":[0.8],\"height\":[623.0],\"label\":[\"[1.301030, 1.431848]\"],\"line_alpha\":[1.0],\"line_color\":[\"black\"],\"width\":[0.1308180961613834],\"x\":[\"1.366439\"],\"y\":[311.5]}},\"id\":\"83154d17-cfe9-4c02-8927-a74c16461631\",\"type\":\"ColumnDataSource\"},{\"attributes\":{\"data_source\":{\"id\":\"a1f5b84c-52c2-451d-a878-d2d3db2796a9\",\"type\":\"ColumnDataSource\"},\"glyph\":{\"id\":\"e674c39c-9e96-4e35-afb8-a0389fdc17ed\",\"type\":\"Rect\"},\"hover_glyph\":null,\"nonselection_glyph\":null,\"selection_glyph\":null},\"id\":\"802236dc-fbb6-45ee-8d46-555d21258b1c\",\"type\":\"GlyphRenderer\"},{\"attributes\":{\"data_source\":{\"id\":\"2cb50b8f-9338-4251-9588-358992c21c27\",\"type\":\"ColumnDataSource\"},\"glyph\":{\"id\":\"be93899a-489d-4518-84a0-7c934fc33d74\",\"type\":\"Rect\"},\"hover_glyph\":null,\"nonselection_glyph\":null,\"selection_glyph\":null},\"id\":\"44d4f4e5-2058-49b0-805a-999a4497155d\",\"type\":\"GlyphRenderer\"},{\"attributes\":{\"fill_alpha\":{\"field\":\"fill_alpha\"},\"fill_color\":{\"field\":\"color\"},\"height\":{\"field\":\"height\",\"units\":\"data\"},\"line_color\":{\"field\":\"line_color\"},\"width\":{\"field\":\"width\",\"units\":\"data\"},\"x\":{\"field\":\"x\"},\"y\":{\"field\":\"y\"}},\"id\":\"be93899a-489d-4518-84a0-7c934fc33d74\",\"type\":\"Rect\"},{\"attributes\":{\"data_source\":{\"id\":\"3f0d2434-8663-451a-b29a-ce64087b5e67\",\"type\":\"ColumnDataSource\"},\"glyph\":{\"id\":\"65a617cf-c930-483c-9a66-43a76193a7dc\",\"type\":\"Rect\"},\"hover_glyph\":null,\"nonselection_glyph\":null,\"selection_glyph\":null},\"id\":\"fc5db65a-e1f2-4d6c-8e9a-c4de93f564d7\",\"type\":\"GlyphRenderer\"},{\"attributes\":{\"fill_alpha\":{\"field\":\"fill_alpha\"},\"fill_color\":{\"field\":\"color\"},\"height\":{\"field\":\"height\",\"units\":\"data\"},\"line_color\":{\"field\":\"line_color\"},\"width\":{\"field\":\"width\",\"units\":\"data\"},\"x\":{\"field\":\"x\"},\"y\":{\"field\":\"y\"}},\"id\":\"a5a723ec-a7b2-43d9-b5f4-006015fd25c8\",\"type\":\"Rect\"},{\"attributes\":{\"fill_alpha\":{\"field\":\"fill_alpha\"},\"fill_color\":{\"field\":\"color\"},\"height\":{\"field\":\"height\",\"units\":\"data\"},\"line_color\":{\"field\":\"line_color\"},\"width\":{\"field\":\"width\",\"units\":\"data\"},\"x\":{\"field\":\"x\"},\"y\":{\"field\":\"y\"}},\"id\":\"9ab7400e-ddb6-4654-98f0-3970def395a2\",\"type\":\"Rect\"},{\"attributes\":{\"data_source\":{\"id\":\"24cdca3f-9b67-4613-8c6f-1fbb76a44c52\",\"type\":\"ColumnDataSource\"},\"glyph\":{\"id\":\"859f2cab-8b2f-4108-98e5-7ffc397bc47c\",\"type\":\"Rect\"},\"hover_glyph\":null,\"nonselection_glyph\":null,\"selection_glyph\":null},\"id\":\"443dc1bc-677c-4da0-b9b2-532247901dc4\",\"type\":\"GlyphRenderer\"},{\"attributes\":{\"fill_alpha\":{\"field\":\"fill_alpha\"},\"fill_color\":{\"field\":\"color\"},\"height\":{\"field\":\"height\",\"units\":\"data\"},\"line_color\":{\"field\":\"line_color\"},\"width\":{\"field\":\"width\",\"units\":\"data\"},\"x\":{\"field\":\"x\"},\"y\":{\"field\":\"y\"}},\"id\":\"97d22da1-bc68-4aa5-829d-fc8fdb0a764c\",\"type\":\"Rect\"},{\"attributes\":{\"data_source\":{\"id\":\"47994189-ff79-4141-b35a-f794ae391bde\",\"type\":\"ColumnDataSource\"},\"glyph\":{\"id\":\"4c8f43b6-d076-4b24-8738-0c905bc0c463\",\"type\":\"Rect\"},\"hover_glyph\":null,\"nonselection_glyph\":null,\"selection_glyph\":null},\"id\":\"bc52a884-d761-4769-8602-93fd5fe1d6c0\",\"type\":\"GlyphRenderer\"},{\"attributes\":{\"bottom_units\":\"screen\",\"fill_alpha\":{\"value\":0.5},\"fill_color\":{\"value\":\"lightgrey\"},\"left_units\":\"screen\",\"level\":\"overlay\",\"line_alpha\":{\"value\":1.0},\"line_color\":{\"value\":\"black\"},\"line_dash\":[4,4],\"line_width\":{\"value\":2},\"plot\":null,\"render_mode\":\"css\",\"right_units\":\"screen\",\"top_units\":\"screen\"},\"id\":\"cdbb8aab-a38f-4491-97d2-5d351c536ead\",\"type\":\"BoxAnnotation\"},{\"attributes\":{\"callback\":null,\"column_names\":[\"label\",\"line_color\",\"height\",\"line_alpha\",\"fill_alpha\",\"width\",\"color\",\"x\",\"y\"],\"data\":{\"chart_index\":[\"(1.562666, 1.693484]\"],\"color\":[\"LightSlateGray\"],\"fill_alpha\":[0.8],\"height\":[192.0],\"label\":[\"(1.562666, 1.693484]\"],\"line_alpha\":[1.0],\"line_color\":[\"black\"],\"width\":[0.1308180961613834],\"x\":[\"1.628075\"],\"y\":[96.0]}},\"id\":\"54ded421-6f0d-4e33-ba46-322f3b23055d\",\"type\":\"ColumnDataSource\"},{\"attributes\":{\"fill_alpha\":{\"field\":\"fill_alpha\"},\"fill_color\":{\"field\":\"color\"},\"height\":{\"field\":\"height\",\"units\":\"data\"},\"line_color\":{\"field\":\"line_color\"},\"width\":{\"field\":\"width\",\"units\":\"data\"},\"x\":{\"field\":\"x\"},\"y\":{\"field\":\"y\"}},\"id\":\"65a617cf-c930-483c-9a66-43a76193a7dc\",\"type\":\"Rect\"},{\"attributes\":{\"active_drag\":\"auto\",\"active_scroll\":\"auto\",\"active_tap\":\"auto\",\"tools\":[{\"id\":\"fb246530-1780-4d71-8cee-0f11bb6f223f\",\"type\":\"PanTool\"},{\"id\":\"c9fb2534-a993-41e2-bfbe-35ee6f42ee45\",\"type\":\"WheelZoomTool\"},{\"id\":\"8f96a6e3-a8a1-4b37-86be-9896fb028378\",\"type\":\"BoxZoomTool\"},{\"id\":\"5f878daa-dacb-477c-9ea2-bcb1da445444\",\"type\":\"SaveTool\"},{\"id\":\"5d99832d-a407-4ecc-aa46-4e09bbc64e47\",\"type\":\"ResetTool\"},{\"id\":\"be54aab4-0fa7-4b80-8575-5391a8a9736e\",\"type\":\"HelpTool\"}]},\"id\":\"55267d68-6100-44ae-994f-03053699c2ed\",\"type\":\"Toolbar\"},{\"attributes\":{\"callback\":null,\"column_names\":[\"label\",\"line_color\",\"height\",\"line_alpha\",\"fill_alpha\",\"width\",\"color\",\"x\",\"y\"],\"data\":{\"chart_index\":[\"(4.833119, 4.963937]\"],\"color\":[\"LightSlateGray\"],\"fill_alpha\":[0.8],\"height\":[1.0],\"label\":[\"(4.833119, 4.963937]\"],\"line_alpha\":[1.0],\"line_color\":[\"black\"],\"width\":[0.1308180961613834],\"x\":[\"4.898528\"],\"y\":[0.5]}},\"id\":\"bcef0269-7bd2-4c47-943e-cab2cfa374b0\",\"type\":\"ColumnDataSource\"},{\"attributes\":{\"fill_alpha\":{\"field\":\"fill_alpha\"},\"fill_color\":{\"field\":\"color\"},\"height\":{\"field\":\"height\",\"units\":\"data\"},\"line_color\":{\"field\":\"line_color\"},\"width\":{\"field\":\"width\",\"units\":\"data\"},\"x\":{\"field\":\"x\"},\"y\":{\"field\":\"y\"}},\"id\":\"7b695935-410d-4f5e-9f44-8aa4ee935a68\",\"type\":\"Rect\"},{\"attributes\":{\"data_source\":{\"id\":\"6abff05f-bc86-4e73-9c97-a64bb8910a81\",\"type\":\"ColumnDataSource\"},\"glyph\":{\"id\":\"51d8a6b8-9abd-431d-811f-2175604a6f11\",\"type\":\"Rect\"},\"hover_glyph\":null,\"nonselection_glyph\":null,\"selection_glyph\":null},\"id\":\"272291ad-66e6-4054-8c5f-c8b758550e02\",\"type\":\"GlyphRenderer\"},{\"attributes\":{\"data_source\":{\"id\":\"abcee35f-b1b1-497e-9dc3-e1435bde278a\",\"type\":\"ColumnDataSource\"},\"glyph\":{\"id\":\"e4e4bb2e-36c2-4b8e-b2c5-ea677d5686c4\",\"type\":\"Rect\"},\"hover_glyph\":null,\"nonselection_glyph\":null,\"selection_glyph\":null},\"id\":\"d52b8964-af07-4df9-b567-40e67456e59e\",\"type\":\"GlyphRenderer\"},{\"attributes\":{\"callback\":null,\"column_names\":[\"label\",\"line_color\",\"height\",\"line_alpha\",\"fill_alpha\",\"width\",\"color\",\"x\",\"y\"],\"data\":{\"chart_index\":[\"(4.179028, 4.309846]\"],\"color\":[\"LightSlateGray\"],\"fill_alpha\":[0.8],\"height\":[1.0],\"label\":[\"(4.179028, 4.309846]\"],\"line_alpha\":[1.0],\"line_color\":[\"black\"],\"width\":[0.1308180961613843],\"x\":[\"4.244437\"],\"y\":[0.5]}},\"id\":\"d84ee2dc-95ac-416c-ba00-250e3ccff36f\",\"type\":\"ColumnDataSource\"},{\"attributes\":{\"data_source\":{\"id\":\"8c579d50-e7f4-4cf6-8c85-31a71e2ecf7c\",\"type\":\"ColumnDataSource\"},\"glyph\":{\"id\":\"ee65795b-6cfe-47e9-89c9-4f9a0c05995e\",\"type\":\"Rect\"},\"hover_glyph\":null,\"nonselection_glyph\":null,\"selection_glyph\":null},\"id\":\"d51d5f97-54b5-48d5-b2eb-a0657f6022c4\",\"type\":\"GlyphRenderer\"},{\"attributes\":{\"plot\":{\"id\":\"2c4a1c66-7d4a-4230-ab47-a55a6cbf35ce\",\"subtype\":\"Chart\",\"type\":\"Plot\"}},\"id\":\"5d99832d-a407-4ecc-aa46-4e09bbc64e47\",\"type\":\"ResetTool\"},{\"attributes\":{\"callback\":null,\"column_names\":[\"label\",\"line_color\",\"height\",\"line_alpha\",\"fill_alpha\",\"width\",\"color\",\"x\",\"y\"],\"data\":{\"chart_index\":[\"(1.955120, 2.085939]\"],\"color\":[\"LightSlateGray\"],\"fill_alpha\":[0.8],\"height\":[69.0],\"label\":[\"(1.955120, 2.085939]\"],\"line_alpha\":[1.0],\"line_color\":[\"black\"],\"width\":[0.1308180961613834],\"x\":[\"2.0205295000000003\"],\"y\":[34.5]}},\"id\":\"a1f5b84c-52c2-451d-a878-d2d3db2796a9\",\"type\":\"ColumnDataSource\"},{\"attributes\":{\"data_source\":{\"id\":\"91aadad7-54e2-4915-85f1-b464bb91a17a\",\"type\":\"ColumnDataSource\"},\"glyph\":{\"id\":\"7212738f-1c87-4923-94fa-c6a98ab74ed8\",\"type\":\"Rect\"},\"hover_glyph\":null,\"nonselection_glyph\":null,\"selection_glyph\":null},\"id\":\"ebfe3bf3-3e0b-49cc-a19c-e747f998ad7b\",\"type\":\"GlyphRenderer\"},{\"attributes\":{},\"id\":\"4c69bbb3-95e0-4b2c-88f5-6a3caf03facd\",\"type\":\"BasicTicker\"},{\"attributes\":{\"plot\":{\"id\":\"2c4a1c66-7d4a-4230-ab47-a55a6cbf35ce\",\"subtype\":\"Chart\",\"type\":\"Plot\"}},\"id\":\"be54aab4-0fa7-4b80-8575-5391a8a9736e\",\"type\":\"HelpTool\"},{\"attributes\":{\"plot\":{\"id\":\"2c4a1c66-7d4a-4230-ab47-a55a6cbf35ce\",\"subtype\":\"Chart\",\"type\":\"Plot\"}},\"id\":\"5f878daa-dacb-477c-9ea2-bcb1da445444\",\"type\":\"SaveTool\"},{\"attributes\":{\"data_source\":{\"id\":\"e7ddb2ea-d413-47e1-9b70-ada160b0a8fc\",\"type\":\"ColumnDataSource\"},\"glyph\":{\"id\":\"cdbe53b3-9f6d-40b0-94f5-8222eec065c2\",\"type\":\"Rect\"},\"hover_glyph\":null,\"nonselection_glyph\":null,\"selection_glyph\":null},\"id\":\"208c0c6c-87c0-4372-a8bb-031b4ff625ad\",\"type\":\"GlyphRenderer\"},{\"attributes\":{\"data_source\":{\"id\":\"c40bd270-dffc-475a-8bcb-2ee632bd9db9\",\"type\":\"ColumnDataSource\"},\"glyph\":{\"id\":\"b02242f4-7f02-40d9-b0e4-ac76baba4eea\",\"type\":\"Rect\"},\"hover_glyph\":null,\"nonselection_glyph\":null,\"selection_glyph\":null},\"id\":\"2f36711b-bd91-4e06-8a76-34fedf278fc4\",\"type\":\"GlyphRenderer\"},{\"attributes\":{\"fill_alpha\":{\"field\":\"fill_alpha\"},\"fill_color\":{\"field\":\"color\"},\"height\":{\"field\":\"height\",\"units\":\"data\"},\"line_color\":{\"field\":\"line_color\"},\"width\":{\"field\":\"width\",\"units\":\"data\"},\"x\":{\"field\":\"x\"},\"y\":{\"field\":\"y\"}},\"id\":\"85db3d17-10cc-4cdc-ae69-c2e0083a2ded\",\"type\":\"Rect\"},{\"attributes\":{\"data_source\":{\"id\":\"610a7832-466d-4a35-9d17-51e32de8cedf\",\"type\":\"ColumnDataSource\"},\"glyph\":{\"id\":\"25f62800-8dd0-4af8-a34f-670cef92418f\",\"type\":\"Rect\"},\"hover_glyph\":null,\"nonselection_glyph\":null,\"selection_glyph\":null},\"id\":\"7b39733e-f6d6-47ed-8090-fa5cb98248a6\",\"type\":\"GlyphRenderer\"},{\"attributes\":{\"callback\":null,\"column_names\":[\"label\",\"line_color\",\"height\",\"line_alpha\",\"fill_alpha\",\"width\",\"color\",\"x\",\"y\"],\"data\":{\"chart_index\":[\"(3.394120, 3.524938]\"],\"color\":[\"LightSlateGray\"],\"fill_alpha\":[0.8],\"height\":[14.0],\"label\":[\"(3.394120, 3.524938]\"],\"line_alpha\":[1.0],\"line_color\":[\"black\"],\"width\":[0.1308180961613834],\"x\":[\"3.459529\"],\"y\":[7.0]}},\"id\":\"403b7a53-5d0f-4f13-a145-20b0a76b2b71\",\"type\":\"ColumnDataSource\"},{\"attributes\":{\"callback\":null,\"column_names\":[\"label\",\"line_color\",\"height\",\"line_alpha\",\"fill_alpha\",\"width\",\"color\",\"x\",\"y\"],\"data\":{\"chart_index\":[\"(1.431848, 1.562666]\"],\"color\":[\"LightSlateGray\"],\"fill_alpha\":[0.8],\"height\":[364.0],\"label\":[\"(1.431848, 1.562666]\"],\"line_alpha\":[1.0],\"line_color\":[\"black\"],\"width\":[0.1308180961613834],\"x\":[\"1.497257\"],\"y\":[182.0]}},\"id\":\"d64aa443-e9c9-4fda-9b1a-5fd14407bd4a\",\"type\":\"ColumnDataSource\"},{\"attributes\":{\"callback\":null,\"column_names\":[\"label\",\"line_color\",\"height\",\"line_alpha\",\"fill_alpha\",\"width\",\"color\",\"x\",\"y\"],\"data\":{\"chart_index\":[\"(1.824302, 1.955120]\"],\"color\":[\"LightSlateGray\"],\"fill_alpha\":[0.8],\"height\":[89.0],\"label\":[\"(1.824302, 1.955120]\"],\"line_alpha\":[1.0],\"line_color\":[\"black\"],\"width\":[0.1308180961613834],\"x\":[\"1.8897110000000001\"],\"y\":[44.5]}},\"id\":\"dc407b4b-86aa-4e8e-9ff0-8f98dff67882\",\"type\":\"ColumnDataSource\"},{\"attributes\":{\"callback\":null,\"column_names\":[\"label\",\"line_color\",\"height\",\"line_alpha\",\"fill_alpha\",\"width\",\"color\",\"x\",\"y\"],\"data\":{\"chart_index\":[\"(4.048210, 4.179028]\"],\"color\":[\"LightSlateGray\"],\"fill_alpha\":[0.8],\"height\":[1.0],\"label\":[\"(4.048210, 4.179028]\"],\"line_alpha\":[1.0],\"line_color\":[\"black\"],\"width\":[0.1308180961613825],\"x\":[\"4.113619\"],\"y\":[0.5]}},\"id\":\"e7ddb2ea-d413-47e1-9b70-ada160b0a8fc\",\"type\":\"ColumnDataSource\"},{\"attributes\":{\"fill_alpha\":{\"field\":\"fill_alpha\"},\"fill_color\":{\"field\":\"color\"},\"height\":{\"field\":\"height\",\"units\":\"data\"},\"line_color\":{\"field\":\"line_color\"},\"width\":{\"field\":\"width\",\"units\":\"data\"},\"x\":{\"field\":\"x\"},\"y\":{\"field\":\"y\"}},\"id\":\"1978f986-e77a-4141-8b05-1f4010738b90\",\"type\":\"Rect\"},{\"attributes\":{\"callback\":null,\"column_names\":[\"label\",\"line_color\",\"height\",\"line_alpha\",\"fill_alpha\",\"width\",\"color\",\"x\",\"y\"],\"data\":{\"chart_index\":[\"(4.702300, 4.833119]\"],\"color\":[\"LightSlateGray\"],\"fill_alpha\":[0.8],\"height\":[1.0],\"label\":[\"(4.702300, 4.833119]\"],\"line_alpha\":[1.0],\"line_color\":[\"black\"],\"width\":[0.1308180961613834],\"x\":[\"4.7677095000000005\"],\"y\":[0.5]}},\"id\":\"3f0d2434-8663-451a-b29a-ce64087b5e67\",\"type\":\"ColumnDataSource\"},{\"attributes\":{\"fill_alpha\":{\"field\":\"fill_alpha\"},\"fill_color\":{\"field\":\"color\"},\"height\":{\"field\":\"height\",\"units\":\"data\"},\"line_color\":{\"field\":\"line_color\"},\"width\":{\"field\":\"width\",\"units\":\"data\"},\"x\":{\"field\":\"x\"},\"y\":{\"field\":\"y\"}},\"id\":\"9162ca0b-571c-444b-9a2a-e394df9c511b\",\"type\":\"Rect\"},{\"attributes\":{\"callback\":null,\"column_names\":[\"label\",\"line_color\",\"height\",\"line_alpha\",\"fill_alpha\",\"width\",\"color\",\"x\",\"y\"],\"data\":{\"chart_index\":[\"(4.571482, 4.702300]\"],\"color\":[\"LightSlateGray\"],\"fill_alpha\":[0.8],\"height\":[0.0],\"label\":[\"(4.571482, 4.702300]\"],\"line_alpha\":[1.0],\"line_color\":[\"black\"],\"width\":[0.1308180961613834],\"x\":[\"4.636891\"],\"y\":[0.0]}},\"id\":\"cd52991f-40a0-45a3-a5bb-a830195f458d\",\"type\":\"ColumnDataSource\"},{\"attributes\":{\"fill_alpha\":{\"field\":\"fill_alpha\"},\"fill_color\":{\"field\":\"color\"},\"height\":{\"field\":\"height\",\"units\":\"data\"},\"line_color\":{\"field\":\"line_color\"},\"width\":{\"field\":\"width\",\"units\":\"data\"},\"x\":{\"field\":\"x\"},\"y\":{\"field\":\"y\"}},\"id\":\"b02242f4-7f02-40d9-b0e4-ac76baba4eea\",\"type\":\"Rect\"},{\"attributes\":{\"fill_alpha\":{\"field\":\"fill_alpha\"},\"fill_color\":{\"field\":\"color\"},\"height\":{\"field\":\"height\",\"units\":\"data\"},\"line_color\":{\"field\":\"line_color\"},\"width\":{\"field\":\"width\",\"units\":\"data\"},\"x\":{\"field\":\"x\"},\"y\":{\"field\":\"y\"}},\"id\":\"ee65795b-6cfe-47e9-89c9-4f9a0c05995e\",\"type\":\"Rect\"},{\"attributes\":{\"data_source\":{\"id\":\"8c72a940-79f1-47d5-999e-93e26759996a\",\"type\":\"ColumnDataSource\"},\"glyph\":{\"id\":\"3ceedc7e-840c-4b9a-841e-855a964b9dbc\",\"type\":\"Rect\"},\"hover_glyph\":null,\"nonselection_glyph\":null,\"selection_glyph\":null},\"id\":\"83291817-2bc1-4600-bd9f-c4e4157394f0\",\"type\":\"GlyphRenderer\"},{\"attributes\":{\"plot\":null,\"text\":\"Heterozygous Variant: Predict Proba > 0.9\"},\"id\":\"959ccb09-e75c-49e1-b26e-e462ec51a456\",\"type\":\"Title\"},{\"attributes\":{\"fill_alpha\":{\"field\":\"fill_alpha\"},\"fill_color\":{\"field\":\"color\"},\"height\":{\"field\":\"height\",\"units\":\"data\"},\"line_color\":{\"field\":\"line_color\"},\"width\":{\"field\":\"width\",\"units\":\"data\"},\"x\":{\"field\":\"x\"},\"y\":{\"field\":\"y\"}},\"id\":\"25f62800-8dd0-4af8-a34f-670cef92418f\",\"type\":\"Rect\"},{\"attributes\":{\"callback\":null,\"column_names\":[\"label\",\"line_color\",\"height\",\"line_alpha\",\"fill_alpha\",\"width\",\"color\",\"x\",\"y\"],\"data\":{\"chart_index\":[\"(3.655756, 3.786574]\"],\"color\":[\"LightSlateGray\"],\"fill_alpha\":[0.8],\"height\":[6.0],\"label\":[\"(3.655756, 3.786574]\"],\"line_alpha\":[1.0],\"line_color\":[\"black\"],\"width\":[0.1308180961613834],\"x\":[\"3.721165\"],\"y\":[3.0]}},\"id\":\"2cb50b8f-9338-4251-9588-358992c21c27\",\"type\":\"ColumnDataSource\"},{\"attributes\":{\"callback\":null,\"column_names\":[\"label\",\"line_color\",\"height\",\"line_alpha\",\"fill_alpha\",\"width\",\"color\",\"x\",\"y\"],\"data\":{\"chart_index\":[\"(4.440664, 4.571482]\"],\"color\":[\"LightSlateGray\"],\"fill_alpha\":[0.8],\"height\":[1.0],\"label\":[\"(4.440664, 4.571482]\"],\"line_alpha\":[1.0],\"line_color\":[\"black\"],\"width\":[0.1308180961613834],\"x\":[\"4.506073\"],\"y\":[0.5]}},\"id\":\"f54b587c-abde-4fda-a20e-f0f0ee2ed693\",\"type\":\"ColumnDataSource\"}],\"root_ids\":[\"2c4a1c66-7d4a-4230-ab47-a55a6cbf35ce\"]},\"title\":\"Bokeh Application\",\"version\":\"0.12.4\"}};\n",
       "            var render_items = [{\"docid\":\"381943ba-fb92-4ced-82e6-3b91c15b0339\",\"elementid\":\"00b9966d-323d-404b-9a5f-6b6a2c7e1f09\",\"modelid\":\"2c4a1c66-7d4a-4230-ab47-a55a6cbf35ce\"}];\n",
       "            \n",
       "            Bokeh.embed.embed_items(docs_json, render_items);\n",
       "          };\n",
       "          if (document.readyState != \"loading\") fn();\n",
       "          else document.addEventListener(\"DOMContentLoaded\", fn);\n",
       "        })();\n",
       "      },\n",
       "      function(Bokeh) {\n",
       "      }\n",
       "    ];\n",
       "  \n",
       "    function run_inline_js() {\n",
       "      \n",
       "      if ((window.Bokeh !== undefined) || (force === true)) {\n",
       "        for (var i = 0; i < inline_js.length; i++) {\n",
       "          inline_js[i](window.Bokeh);\n",
       "        }if (force === true) {\n",
       "          display_loaded();\n",
       "        }} else if (Date.now() < window._bokeh_timeout) {\n",
       "        setTimeout(run_inline_js, 100);\n",
       "      } else if (!window._bokeh_failed_load) {\n",
       "        console.log(\"Bokeh: BokehJS failed to load within specified timeout.\");\n",
       "        window._bokeh_failed_load = true;\n",
       "      } else if (force !== true) {\n",
       "        var cell = $(document.getElementById(\"00b9966d-323d-404b-9a5f-6b6a2c7e1f09\")).parents('.cell').data().cell;\n",
       "        cell.output_area.append_execute_result(NB_LOAD_WARNING)\n",
       "      }\n",
       "  \n",
       "    }\n",
       "  \n",
       "    if (window._bokeh_is_loading === 0) {\n",
       "      console.log(\"Bokeh: BokehJS loaded, going straight to plotting\");\n",
       "      run_inline_js();\n",
       "    } else {\n",
       "      load_libs(js_urls, function() {\n",
       "        console.log(\"Bokeh: BokehJS plotting callback run at\", now());\n",
       "        run_inline_js();\n",
       "      });\n",
       "    }\n",
       "  }(this));\n",
       "</script>"
      ]
     },
     "metadata": {},
     "output_type": "display_data"
    }
   ],
   "source": [
    "# Plot the counts of each predicted probability for Het Var events\n",
    "p = figure()\n",
    "p = Histogram(X_hetVar_conf, values='Size_Log', title='Heterozygous Variant: Predict Proba > 0.9', color='LightSlateGray', bins=30, xlabel=\"Size(log10)\", ylabel=\"Frequency\")\n",
    "output_file(\"250bp_HetVar_PredProb0.9+.html\")\n",
    "show(p)"
   ]
  },
  {
   "cell_type": "markdown",
   "metadata": {},
   "source": [
    "![Figure 1](https://raw.githubusercontent.com/lesleymaraina/NIST/master/Notebooks/CrowdVariant_Analysis/250bp_HetVar_PredProb0.9%2B.png)"
   ]
  },
  {
   "cell_type": "markdown",
   "metadata": {},
   "source": [
    "** Show Size Distribution of Labels with Predict Probability < 0.3 **"
   ]
  },
  {
   "cell_type": "code",
   "execution_count": 193,
   "metadata": {},
   "outputs": [
    {
     "name": "stderr",
     "output_type": "stream",
     "text": [
      "/Users/lmc2/anaconda/envs/NIHFAES/lib/python3.5/site-packages/ipykernel/__main__.py:3: SettingWithCopyWarning:\n",
      "\n",
      "\n",
      "A value is trying to be set on a copy of a slice from a DataFrame.\n",
      "Try using .loc[row_indexer,col_indexer] = value instead\n",
      "\n",
      "See the caveats in the documentation: http://pandas.pydata.org/pandas-docs/stable/indexing.html#indexing-view-versus-copy\n",
      "\n",
      "/Users/lmc2/anaconda/envs/NIHFAES/lib/python3.5/site-packages/ipykernel/__main__.py:4: SettingWithCopyWarning:\n",
      "\n",
      "\n",
      "A value is trying to be set on a copy of a slice from a DataFrame.\n",
      "Try using .loc[row_indexer,col_indexer] = value instead\n",
      "\n",
      "See the caveats in the documentation: http://pandas.pydata.org/pandas-docs/stable/indexing.html#indexing-view-versus-copy\n",
      "\n"
     ]
    }
   ],
   "source": [
    "X6['Hom_Var_str'] = X6['Hom_Var'].astype(str)\n",
    "X_homVar_least = X6[(X6['Hom_Var'] == 0.3) | (X6['Hom_Var'] == 0.2) | (X6['Hom_Var'] == 0.1)]\n",
    "X_homVar_least['Size'] = HG002_pred_2['Size'].abs()\n",
    "X_homVar_least['Size_Log'] = np.log10(X_homVar_least.Size)"
   ]
  },
  {
   "cell_type": "code",
   "execution_count": 194,
   "metadata": {},
   "outputs": [
    {
     "name": "stderr",
     "output_type": "stream",
     "text": [
      "INFO:bokeh.core.state:Session output file '250bp_HomVar_PredProb0.3-.html' already exists, will be overwritten.\n"
     ]
    },
    {
     "data": {
      "text/html": [
       "\n",
       "\n",
       "    <div class=\"bk-root\">\n",
       "        <div class=\"bk-plotdiv\" id=\"a9525260-66c6-4146-8c5f-0233c56ceccd\"></div>\n",
       "    </div>\n",
       "<script type=\"text/javascript\">\n",
       "  \n",
       "  (function(global) {\n",
       "    function now() {\n",
       "      return new Date();\n",
       "    }\n",
       "  \n",
       "    var force = false;\n",
       "  \n",
       "    if (typeof (window._bokeh_onload_callbacks) === \"undefined\" || force === true) {\n",
       "      window._bokeh_onload_callbacks = [];\n",
       "      window._bokeh_is_loading = undefined;\n",
       "    }\n",
       "  \n",
       "  \n",
       "    \n",
       "    if (typeof (window._bokeh_timeout) === \"undefined\" || force === true) {\n",
       "      window._bokeh_timeout = Date.now() + 0;\n",
       "      window._bokeh_failed_load = false;\n",
       "    }\n",
       "  \n",
       "    var NB_LOAD_WARNING = {'data': {'text/html':\n",
       "       \"<div style='background-color: #fdd'>\\n\"+\n",
       "       \"<p>\\n\"+\n",
       "       \"BokehJS does not appear to have successfully loaded. If loading BokehJS from CDN, this \\n\"+\n",
       "       \"may be due to a slow or bad network connection. Possible fixes:\\n\"+\n",
       "       \"</p>\\n\"+\n",
       "       \"<ul>\\n\"+\n",
       "       \"<li>re-rerun `output_notebook()` to attempt to load from CDN again, or</li>\\n\"+\n",
       "       \"<li>use INLINE resources instead, as so:</li>\\n\"+\n",
       "       \"</ul>\\n\"+\n",
       "       \"<code>\\n\"+\n",
       "       \"from bokeh.resources import INLINE\\n\"+\n",
       "       \"output_notebook(resources=INLINE)\\n\"+\n",
       "       \"</code>\\n\"+\n",
       "       \"</div>\"}};\n",
       "  \n",
       "    function display_loaded() {\n",
       "      if (window.Bokeh !== undefined) {\n",
       "        document.getElementById(\"a9525260-66c6-4146-8c5f-0233c56ceccd\").textContent = \"BokehJS successfully loaded.\";\n",
       "      } else if (Date.now() < window._bokeh_timeout) {\n",
       "        setTimeout(display_loaded, 100)\n",
       "      }\n",
       "    }\n",
       "  \n",
       "    function run_callbacks() {\n",
       "      window._bokeh_onload_callbacks.forEach(function(callback) { callback() });\n",
       "      delete window._bokeh_onload_callbacks\n",
       "      console.info(\"Bokeh: all callbacks have finished\");\n",
       "    }\n",
       "  \n",
       "    function load_libs(js_urls, callback) {\n",
       "      window._bokeh_onload_callbacks.push(callback);\n",
       "      if (window._bokeh_is_loading > 0) {\n",
       "        console.log(\"Bokeh: BokehJS is being loaded, scheduling callback at\", now());\n",
       "        return null;\n",
       "      }\n",
       "      if (js_urls == null || js_urls.length === 0) {\n",
       "        run_callbacks();\n",
       "        return null;\n",
       "      }\n",
       "      console.log(\"Bokeh: BokehJS not loaded, scheduling load and callback at\", now());\n",
       "      window._bokeh_is_loading = js_urls.length;\n",
       "      for (var i = 0; i < js_urls.length; i++) {\n",
       "        var url = js_urls[i];\n",
       "        var s = document.createElement('script');\n",
       "        s.src = url;\n",
       "        s.async = false;\n",
       "        s.onreadystatechange = s.onload = function() {\n",
       "          window._bokeh_is_loading--;\n",
       "          if (window._bokeh_is_loading === 0) {\n",
       "            console.log(\"Bokeh: all BokehJS libraries loaded\");\n",
       "            run_callbacks()\n",
       "          }\n",
       "        };\n",
       "        s.onerror = function() {\n",
       "          console.warn(\"failed to load library \" + url);\n",
       "        };\n",
       "        console.log(\"Bokeh: injecting script tag for BokehJS library: \", url);\n",
       "        document.getElementsByTagName(\"head\")[0].appendChild(s);\n",
       "      }\n",
       "    };var element = document.getElementById(\"a9525260-66c6-4146-8c5f-0233c56ceccd\");\n",
       "    if (element == null) {\n",
       "      console.log(\"Bokeh: ERROR: autoload.js configured with elementid 'a9525260-66c6-4146-8c5f-0233c56ceccd' but no matching script tag was found. \")\n",
       "      return false;\n",
       "    }\n",
       "  \n",
       "    var js_urls = [];\n",
       "  \n",
       "    var inline_js = [\n",
       "      function(Bokeh) {\n",
       "        (function() {\n",
       "          var fn = function() {\n",
       "            var docs_json = {\"29d231fe-0e4b-4995-8814-1ae8c3af54e5\":{\"roots\":{\"references\":[{\"attributes\":{\"fill_alpha\":{\"field\":\"fill_alpha\"},\"fill_color\":{\"field\":\"color\"},\"height\":{\"field\":\"height\",\"units\":\"data\"},\"line_color\":{\"field\":\"line_color\"},\"width\":{\"field\":\"width\",\"units\":\"data\"},\"x\":{\"field\":\"x\"},\"y\":{\"field\":\"y\"}},\"id\":\"24fec087-4109-433c-8b65-57c3e0dc7389\",\"type\":\"Rect\"},{\"attributes\":{\"callback\":null,\"column_names\":[\"label\",\"line_color\",\"height\",\"line_alpha\",\"fill_alpha\",\"width\",\"color\",\"x\",\"y\"],\"data\":{\"chart_index\":[\"(2.884784, 2.953643]\"],\"color\":[\"LightSlateGray\"],\"fill_alpha\":[0.8],\"height\":[0.0],\"label\":[\"(2.884784, 2.953643]\"],\"line_alpha\":[1.0],\"line_color\":[\"black\"],\"width\":[0.06885887958742476],\"x\":[\"2.9192134999999997\"],\"y\":[0.0]}},\"id\":\"2158c08b-de81-400a-9bfb-c0ebe1b2fbe9\",\"type\":\"ColumnDataSource\"},{\"attributes\":{\"active_drag\":\"auto\",\"active_scroll\":\"auto\",\"active_tap\":\"auto\",\"tools\":[{\"id\":\"00a7f76f-9057-463a-8762-957085f97964\",\"type\":\"PanTool\"},{\"id\":\"dba5dbf5-520a-4287-847b-99f3e55d4e7f\",\"type\":\"WheelZoomTool\"},{\"id\":\"8076451d-a7a1-48a5-9f5a-e26d9df20e2f\",\"type\":\"BoxZoomTool\"},{\"id\":\"19c8d44a-93b8-4243-83b2-6d713b3ba790\",\"type\":\"SaveTool\"},{\"id\":\"a042c32c-f282-49b9-8978-6cc4c73209a1\",\"type\":\"ResetTool\"},{\"id\":\"d101f248-e000-4c98-8181-1bf8ffcfa026\",\"type\":\"HelpTool\"}]},\"id\":\"cbbc7a15-6538-4b3f-bffa-bf2ddf4d0bc2\",\"type\":\"Toolbar\"},{\"attributes\":{\"callback\":null,\"column_names\":[\"label\",\"line_color\",\"height\",\"line_alpha\",\"fill_alpha\",\"width\",\"color\",\"x\",\"y\"],\"data\":{\"chart_index\":[\"(1.576466, 1.645324]\"],\"color\":[\"LightSlateGray\"],\"fill_alpha\":[0.8],\"height\":[48.0],\"label\":[\"(1.576466, 1.645324]\"],\"line_alpha\":[1.0],\"line_color\":[\"black\"],\"width\":[0.06885887958742476],\"x\":[\"1.610895\"],\"y\":[24.0]}},\"id\":\"9eaa1377-3e26-4e22-9b7e-0c106b326da3\",\"type\":\"ColumnDataSource\"},{\"attributes\":{\"fill_alpha\":{\"field\":\"fill_alpha\"},\"fill_color\":{\"field\":\"color\"},\"height\":{\"field\":\"height\",\"units\":\"data\"},\"line_color\":{\"field\":\"line_color\"},\"width\":{\"field\":\"width\",\"units\":\"data\"},\"x\":{\"field\":\"x\"},\"y\":{\"field\":\"y\"}},\"id\":\"dbbde8a9-12c9-4d39-b505-2c1c78aff5d3\",\"type\":\"Rect\"},{\"attributes\":{\"fill_alpha\":{\"field\":\"fill_alpha\"},\"fill_color\":{\"field\":\"color\"},\"height\":{\"field\":\"height\",\"units\":\"data\"},\"line_color\":{\"field\":\"line_color\"},\"width\":{\"field\":\"width\",\"units\":\"data\"},\"x\":{\"field\":\"x\"},\"y\":{\"field\":\"y\"}},\"id\":\"c277039e-c3f9-4fc8-a1b4-d5b5d161cb13\",\"type\":\"Rect\"},{\"attributes\":{\"callback\":null,\"column_names\":[\"label\",\"line_color\",\"height\",\"line_alpha\",\"fill_alpha\",\"width\",\"color\",\"x\",\"y\"],\"data\":{\"chart_index\":[\"(1.507607, 1.576466]\"],\"color\":[\"LightSlateGray\"],\"fill_alpha\":[0.8],\"height\":[53.0],\"label\":[\"(1.507607, 1.576466]\"],\"line_alpha\":[1.0],\"line_color\":[\"black\"],\"width\":[0.06885887958742498],\"x\":[\"1.5420365\"],\"y\":[26.5]}},\"id\":\"c90ca8a2-704e-49d3-91ff-8f7744f65b9c\",\"type\":\"ColumnDataSource\"},{\"attributes\":{\"fill_alpha\":{\"field\":\"fill_alpha\"},\"fill_color\":{\"field\":\"color\"},\"height\":{\"field\":\"height\",\"units\":\"data\"},\"line_color\":{\"field\":\"line_color\"},\"width\":{\"field\":\"width\",\"units\":\"data\"},\"x\":{\"field\":\"x\"},\"y\":{\"field\":\"y\"}},\"id\":\"bc580d6d-d41a-48c7-b9e0-e4711a4fff87\",\"type\":\"Rect\"},{\"attributes\":{\"data_source\":{\"id\":\"e656c70a-853b-4371-b593-af9da8939ce2\",\"type\":\"ColumnDataSource\"},\"glyph\":{\"id\":\"a9b9fc27-cd4a-4c02-8420-270a9999e74e\",\"type\":\"Rect\"},\"hover_glyph\":null,\"nonselection_glyph\":null,\"selection_glyph\":null},\"id\":\"4ac8d9b0-2a64-40dc-9245-b556b6a280c3\",\"type\":\"GlyphRenderer\"},{\"attributes\":{\"fill_alpha\":{\"field\":\"fill_alpha\"},\"fill_color\":{\"field\":\"color\"},\"height\":{\"field\":\"height\",\"units\":\"data\"},\"line_color\":{\"field\":\"line_color\"},\"width\":{\"field\":\"width\",\"units\":\"data\"},\"x\":{\"field\":\"x\"},\"y\":{\"field\":\"y\"}},\"id\":\"a19679b6-c302-43f5-826b-fa1bdc6a2ae6\",\"type\":\"Rect\"},{\"attributes\":{\"data_source\":{\"id\":\"b58e8a5b-fdc2-48b2-ac6f-9cc1ed842a7c\",\"type\":\"ColumnDataSource\"},\"glyph\":{\"id\":\"17598bc2-068a-46de-96aa-72f4af770d82\",\"type\":\"Rect\"},\"hover_glyph\":null,\"nonselection_glyph\":null,\"selection_glyph\":null},\"id\":\"d35ed0c7-afac-41bd-810e-e69b6ad87537\",\"type\":\"GlyphRenderer\"},{\"attributes\":{\"data_source\":{\"id\":\"9138310e-34f6-482d-af60-87ffa1e2f420\",\"type\":\"ColumnDataSource\"},\"glyph\":{\"id\":\"679e66b0-64b4-412f-b092-84409898b558\",\"type\":\"Rect\"},\"hover_glyph\":null,\"nonselection_glyph\":null,\"selection_glyph\":null},\"id\":\"d24cdf0a-91e0-430b-9fad-d3373da22228\",\"type\":\"GlyphRenderer\"},{\"attributes\":{\"callback\":null,\"column_names\":[\"label\",\"line_color\",\"height\",\"line_alpha\",\"fill_alpha\",\"width\",\"color\",\"x\",\"y\"],\"data\":{\"chart_index\":[\"[1.301030, 1.369889]\"],\"color\":[\"LightSlateGray\"],\"fill_alpha\":[0.8],\"height\":[173.0],\"label\":[\"[1.301030, 1.369889]\"],\"line_alpha\":[1.0],\"line_color\":[\"black\"],\"width\":[0.06885887958742498],\"x\":[\"1.3354594999999998\"],\"y\":[86.5]}},\"id\":\"e656c70a-853b-4371-b593-af9da8939ce2\",\"type\":\"ColumnDataSource\"},{\"attributes\":{\"data_source\":{\"id\":\"1240f55f-4593-486a-a808-f9d0c74009d4\",\"type\":\"ColumnDataSource\"},\"glyph\":{\"id\":\"a19679b6-c302-43f5-826b-fa1bdc6a2ae6\",\"type\":\"Rect\"},\"hover_glyph\":null,\"nonselection_glyph\":null,\"selection_glyph\":null},\"id\":\"b20594cd-d420-46ff-b1e3-a9e0bef5cf06\",\"type\":\"GlyphRenderer\"},{\"attributes\":{\"fill_alpha\":{\"field\":\"fill_alpha\"},\"fill_color\":{\"field\":\"color\"},\"height\":{\"field\":\"height\",\"units\":\"data\"},\"line_color\":{\"field\":\"line_color\"},\"width\":{\"field\":\"width\",\"units\":\"data\"},\"x\":{\"field\":\"x\"},\"y\":{\"field\":\"y\"}},\"id\":\"de7f8f4a-3876-4b74-bfe9-7399967635f8\",\"type\":\"Rect\"},{\"attributes\":{\"fill_alpha\":{\"field\":\"fill_alpha\"},\"fill_color\":{\"field\":\"color\"},\"height\":{\"field\":\"height\",\"units\":\"data\"},\"line_color\":{\"field\":\"line_color\"},\"width\":{\"field\":\"width\",\"units\":\"data\"},\"x\":{\"field\":\"x\"},\"y\":{\"field\":\"y\"}},\"id\":\"c33f5930-9e18-4f6d-9b4c-e4aefb5ae9c6\",\"type\":\"Rect\"},{\"attributes\":{\"data_source\":{\"id\":\"dd5329cd-951a-4bc1-aad7-67dc7db449be\",\"type\":\"ColumnDataSource\"},\"glyph\":{\"id\":\"29ed55a4-268e-4c88-9997-387ff9901711\",\"type\":\"Rect\"},\"hover_glyph\":null,\"nonselection_glyph\":null,\"selection_glyph\":null},\"id\":\"812ef516-5ec0-4af9-8efc-e809fbdb60ab\",\"type\":\"GlyphRenderer\"},{\"attributes\":{\"fill_alpha\":{\"field\":\"fill_alpha\"},\"fill_color\":{\"field\":\"color\"},\"height\":{\"field\":\"height\",\"units\":\"data\"},\"line_color\":{\"field\":\"line_color\"},\"width\":{\"field\":\"width\",\"units\":\"data\"},\"x\":{\"field\":\"x\"},\"y\":{\"field\":\"y\"}},\"id\":\"a2c50999-5e22-41dc-940c-96e2cf4c4968\",\"type\":\"Rect\"},{\"attributes\":{\"data_source\":{\"id\":\"5a66bb23-9548-4785-8d7b-f121bd97f503\",\"type\":\"ColumnDataSource\"},\"glyph\":{\"id\":\"d9de2bb3-6198-42a8-8f4f-5c106f232093\",\"type\":\"Rect\"},\"hover_glyph\":null,\"nonselection_glyph\":null,\"selection_glyph\":null},\"id\":\"6e387904-6eb2-4423-b653-623810d464ac\",\"type\":\"GlyphRenderer\"},{\"attributes\":{\"fill_alpha\":{\"field\":\"fill_alpha\"},\"fill_color\":{\"field\":\"color\"},\"height\":{\"field\":\"height\",\"units\":\"data\"},\"line_color\":{\"field\":\"line_color\"},\"width\":{\"field\":\"width\",\"units\":\"data\"},\"x\":{\"field\":\"x\"},\"y\":{\"field\":\"y\"}},\"id\":\"ab966e67-cc5f-404f-9294-d1caaaeb6a22\",\"type\":\"Rect\"},{\"attributes\":{\"data_source\":{\"id\":\"950a5835-a3ac-4b35-92f2-ff28abc43213\",\"type\":\"ColumnDataSource\"},\"glyph\":{\"id\":\"be68ee14-50f3-4a5f-a056-8b998c0ba81b\",\"type\":\"Rect\"},\"hover_glyph\":null,\"nonselection_glyph\":null,\"selection_glyph\":null},\"id\":\"b803ffaf-9fb2-41de-8e36-d9222d4468a0\",\"type\":\"GlyphRenderer\"},{\"attributes\":{\"plot\":null,\"text\":\"Homozygous Variant: Predict Proba < 0.3\"},\"id\":\"b85c5200-e042-4b29-9bf8-89a6b16878d4\",\"type\":\"Title\"},{\"attributes\":{\"callback\":null,\"column_names\":[\"label\",\"line_color\",\"height\",\"line_alpha\",\"fill_alpha\",\"width\",\"color\",\"x\",\"y\"],\"data\":{\"chart_index\":[\"(3.022502, 3.091361]\"],\"color\":[\"LightSlateGray\"],\"fill_alpha\":[0.8],\"height\":[0.0],\"label\":[\"(3.022502, 3.091361]\"],\"line_alpha\":[1.0],\"line_color\":[\"black\"],\"width\":[0.0688588795874252],\"x\":[\"3.0569315\"],\"y\":[0.0]}},\"id\":\"547fbcdd-16e9-4e97-931c-bc7b8cbd1326\",\"type\":\"ColumnDataSource\"},{\"attributes\":{\"below\":[{\"id\":\"93c77a8e-7c3a-437e-8799-437af712333c\",\"type\":\"LinearAxis\"}],\"css_classes\":null,\"left\":[{\"id\":\"b703cd38-72c1-4f31-a4f4-e1bb4050eb5c\",\"type\":\"LinearAxis\"}],\"renderers\":[{\"id\":\"eefd9d1c-46f3-4fbe-bc0e-010914862e32\",\"type\":\"BoxAnnotation\"},{\"id\":\"4ac8d9b0-2a64-40dc-9245-b556b6a280c3\",\"type\":\"GlyphRenderer\"},{\"id\":\"c49dee63-148a-4b20-8a53-e9c7ac96c8ba\",\"type\":\"GlyphRenderer\"},{\"id\":\"05e58d58-9958-4cd7-b7e5-eba96db848b1\",\"type\":\"GlyphRenderer\"},{\"id\":\"4bec1d63-18c7-4f1b-a15f-02c4613c8f5b\",\"type\":\"GlyphRenderer\"},{\"id\":\"57dbe455-1546-4860-81e9-a04f6cf91556\",\"type\":\"GlyphRenderer\"},{\"id\":\"ea218c4a-d0a1-417e-a36f-3e2aaa3f6eb5\",\"type\":\"GlyphRenderer\"},{\"id\":\"b6d19b5e-c5cb-4942-ac3c-cc993614ca36\",\"type\":\"GlyphRenderer\"},{\"id\":\"cc5b97de-d6d4-427e-86e1-8fd904d0eec5\",\"type\":\"GlyphRenderer\"},{\"id\":\"6e387904-6eb2-4423-b653-623810d464ac\",\"type\":\"GlyphRenderer\"},{\"id\":\"b803ffaf-9fb2-41de-8e36-d9222d4468a0\",\"type\":\"GlyphRenderer\"},{\"id\":\"59bc9b2c-7e22-49cd-bc2b-bf461474d08c\",\"type\":\"GlyphRenderer\"},{\"id\":\"0ff1538c-c15f-4200-886d-6d5d989ddab9\",\"type\":\"GlyphRenderer\"},{\"id\":\"b20594cd-d420-46ff-b1e3-a9e0bef5cf06\",\"type\":\"GlyphRenderer\"},{\"id\":\"a73adef2-942a-4d6e-8238-dd763f2f5353\",\"type\":\"GlyphRenderer\"},{\"id\":\"16a251b6-71d7-41fe-9011-35f905087182\",\"type\":\"GlyphRenderer\"},{\"id\":\"3caedc5f-cdcd-426f-82d5-7fa11c84e943\",\"type\":\"GlyphRenderer\"},{\"id\":\"2b4d8b0b-c1bc-4d5c-82e1-8a9bceca2f75\",\"type\":\"GlyphRenderer\"},{\"id\":\"d24cdf0a-91e0-430b-9fad-d3373da22228\",\"type\":\"GlyphRenderer\"},{\"id\":\"75c62c34-7fe5-4b1f-895f-cb739c9ff452\",\"type\":\"GlyphRenderer\"},{\"id\":\"d35ed0c7-afac-41bd-810e-e69b6ad87537\",\"type\":\"GlyphRenderer\"},{\"id\":\"64964c14-eaaa-4be4-b3a7-e07ae4f16958\",\"type\":\"GlyphRenderer\"},{\"id\":\"9307c7ad-d3ef-4b89-8aa5-174592b9f962\",\"type\":\"GlyphRenderer\"},{\"id\":\"0ec689ec-78f6-4dbc-893d-b85cd3df4133\",\"type\":\"GlyphRenderer\"},{\"id\":\"20398f8f-fcf2-47d3-95f0-c6df8bd87e2e\",\"type\":\"GlyphRenderer\"},{\"id\":\"a8772a4d-df19-4c26-bb54-c9675d235886\",\"type\":\"GlyphRenderer\"},{\"id\":\"f6030c40-4e24-47ab-ae94-dfecabdb152a\",\"type\":\"GlyphRenderer\"},{\"id\":\"1d0c8755-a3eb-4e15-8bc1-7c57d42e3791\",\"type\":\"GlyphRenderer\"},{\"id\":\"75d5ecf8-49af-4b1c-a2c2-fee3fb9d0698\",\"type\":\"GlyphRenderer\"},{\"id\":\"812ef516-5ec0-4af9-8efc-e809fbdb60ab\",\"type\":\"GlyphRenderer\"},{\"id\":\"f7a23d74-0823-4ea2-b010-5491ed8405fe\",\"type\":\"GlyphRenderer\"},{\"id\":\"3742632d-b965-49f3-b5d8-b4d3ffe5f26f\",\"type\":\"Legend\"},{\"id\":\"93c77a8e-7c3a-437e-8799-437af712333c\",\"type\":\"LinearAxis\"},{\"id\":\"b703cd38-72c1-4f31-a4f4-e1bb4050eb5c\",\"type\":\"LinearAxis\"},{\"id\":\"f9ca675f-56c1-4632-8efb-3d79dccff18b\",\"type\":\"Grid\"}],\"title\":{\"id\":\"b85c5200-e042-4b29-9bf8-89a6b16878d4\",\"type\":\"Title\"},\"tool_events\":{\"id\":\"0694ea6a-fd67-4393-9b53-a55a0e626d99\",\"type\":\"ToolEvents\"},\"toolbar\":{\"id\":\"cbbc7a15-6538-4b3f-bffa-bf2ddf4d0bc2\",\"type\":\"Toolbar\"},\"x_mapper_type\":\"auto\",\"x_range\":{\"id\":\"0ecf0326-674f-4ab6-aace-7d00ef634bdf\",\"type\":\"Range1d\"},\"y_mapper_type\":\"auto\",\"y_range\":{\"id\":\"ed9d86d3-9cbc-4620-a87f-745dce6d7aaa\",\"type\":\"Range1d\"}},\"id\":\"570b203a-08d4-416e-8aa9-0a0d766e6fd9\",\"subtype\":\"Chart\",\"type\":\"Plot\"},{\"attributes\":{\"data_source\":{\"id\":\"db9084f6-99a1-4270-93a7-747ea58196b2\",\"type\":\"ColumnDataSource\"},\"glyph\":{\"id\":\"bc580d6d-d41a-48c7-b9e0-e4711a4fff87\",\"type\":\"Rect\"},\"hover_glyph\":null,\"nonselection_glyph\":null,\"selection_glyph\":null},\"id\":\"cc5b97de-d6d4-427e-86e1-8fd904d0eec5\",\"type\":\"GlyphRenderer\"},{\"attributes\":{},\"id\":\"0694ea6a-fd67-4393-9b53-a55a0e626d99\",\"type\":\"ToolEvents\"},{\"attributes\":{\"data_source\":{\"id\":\"61001ed8-a9bb-4098-abe5-cdd5c9e854e2\",\"type\":\"ColumnDataSource\"},\"glyph\":{\"id\":\"bd97c08e-72cc-4e4e-9866-6881735a4edf\",\"type\":\"Rect\"},\"hover_glyph\":null,\"nonselection_glyph\":null,\"selection_glyph\":null},\"id\":\"1d0c8755-a3eb-4e15-8bc1-7c57d42e3791\",\"type\":\"GlyphRenderer\"},{\"attributes\":{},\"id\":\"744c6501-0675-4383-9bec-6d2b7b97e633\",\"type\":\"BasicTickFormatter\"},{\"attributes\":{\"callback\":null,\"column_names\":[\"label\",\"line_color\",\"height\",\"line_alpha\",\"fill_alpha\",\"width\",\"color\",\"x\",\"y\"],\"data\":{\"chart_index\":[\"(3.091361, 3.160220]\"],\"color\":[\"LightSlateGray\"],\"fill_alpha\":[0.8],\"height\":[0.0],\"label\":[\"(3.091361, 3.160220]\"],\"line_alpha\":[1.0],\"line_color\":[\"black\"],\"width\":[0.06885887958742476],\"x\":[\"3.1257905\"],\"y\":[0.0]}},\"id\":\"61001ed8-a9bb-4098-abe5-cdd5c9e854e2\",\"type\":\"ColumnDataSource\"},{\"attributes\":{\"callback\":null,\"column_names\":[\"label\",\"line_color\",\"height\",\"line_alpha\",\"fill_alpha\",\"width\",\"color\",\"x\",\"y\"],\"data\":{\"chart_index\":[\"(1.714183, 1.783042]\"],\"color\":[\"LightSlateGray\"],\"fill_alpha\":[0.8],\"height\":[20.0],\"label\":[\"(1.714183, 1.783042]\"],\"line_alpha\":[1.0],\"line_color\":[\"black\"],\"width\":[0.06885887958742498],\"x\":[\"1.7486125000000001\"],\"y\":[10.0]}},\"id\":\"8ebb5745-e3b9-4d71-a15c-19c4240b4898\",\"type\":\"ColumnDataSource\"},{\"attributes\":{},\"id\":\"de0bb9cb-3f20-4ccd-b4cc-39b8bb0ab8e4\",\"type\":\"BasicTicker\"},{\"attributes\":{\"data_source\":{\"id\":\"551bdd96-69c2-4a6a-9011-8fef0d4be254\",\"type\":\"ColumnDataSource\"},\"glyph\":{\"id\":\"e7946452-47e9-4993-b742-4cba763b8e94\",\"type\":\"Rect\"},\"hover_glyph\":null,\"nonselection_glyph\":null,\"selection_glyph\":null},\"id\":\"a8772a4d-df19-4c26-bb54-c9675d235886\",\"type\":\"GlyphRenderer\"},{\"attributes\":{\"fill_alpha\":{\"field\":\"fill_alpha\"},\"fill_color\":{\"field\":\"color\"},\"height\":{\"field\":\"height\",\"units\":\"data\"},\"line_color\":{\"field\":\"line_color\"},\"width\":{\"field\":\"width\",\"units\":\"data\"},\"x\":{\"field\":\"x\"},\"y\":{\"field\":\"y\"}},\"id\":\"927979a8-6d4a-43b2-b132-74d58b136968\",\"type\":\"Rect\"},{\"attributes\":{\"fill_alpha\":{\"field\":\"fill_alpha\"},\"fill_color\":{\"field\":\"color\"},\"height\":{\"field\":\"height\",\"units\":\"data\"},\"line_color\":{\"field\":\"line_color\"},\"width\":{\"field\":\"width\",\"units\":\"data\"},\"x\":{\"field\":\"x\"},\"y\":{\"field\":\"y\"}},\"id\":\"bd97c08e-72cc-4e4e-9866-6881735a4edf\",\"type\":\"Rect\"},{\"attributes\":{\"callback\":null,\"column_names\":[\"label\",\"line_color\",\"height\",\"line_alpha\",\"fill_alpha\",\"width\",\"color\",\"x\",\"y\"],\"data\":{\"chart_index\":[\"(2.127337, 2.196195]\"],\"color\":[\"LightSlateGray\"],\"fill_alpha\":[0.8],\"height\":[4.0],\"label\":[\"(2.127337, 2.196195]\"],\"line_alpha\":[1.0],\"line_color\":[\"black\"],\"width\":[0.0688588795874252],\"x\":[\"2.161766\"],\"y\":[2.0]}},\"id\":\"1240f55f-4593-486a-a808-f9d0c74009d4\",\"type\":\"ColumnDataSource\"},{\"attributes\":{\"axis_label\":\"Size(log10)\",\"formatter\":{\"id\":\"4d02d184-5249-4e94-a690-789c69d1eb24\",\"type\":\"BasicTickFormatter\"},\"plot\":{\"id\":\"570b203a-08d4-416e-8aa9-0a0d766e6fd9\",\"subtype\":\"Chart\",\"type\":\"Plot\"},\"ticker\":{\"id\":\"1fcabcd7-bbce-4471-823a-cb2b77b719f7\",\"type\":\"BasicTicker\"}},\"id\":\"93c77a8e-7c3a-437e-8799-437af712333c\",\"type\":\"LinearAxis\"},{\"attributes\":{\"data_source\":{\"id\":\"2158c08b-de81-400a-9bfb-c0ebe1b2fbe9\",\"type\":\"ColumnDataSource\"},\"glyph\":{\"id\":\"3be0a5af-406d-4252-b913-babf9bd2f051\",\"type\":\"Rect\"},\"hover_glyph\":null,\"nonselection_glyph\":null,\"selection_glyph\":null},\"id\":\"20398f8f-fcf2-47d3-95f0-c6df8bd87e2e\",\"type\":\"GlyphRenderer\"},{\"attributes\":{\"data_source\":{\"id\":\"a5567d7c-78a6-4a9f-9a2c-b1b0f5900707\",\"type\":\"ColumnDataSource\"},\"glyph\":{\"id\":\"a2c50999-5e22-41dc-940c-96e2cf4c4968\",\"type\":\"Rect\"},\"hover_glyph\":null,\"nonselection_glyph\":null,\"selection_glyph\":null},\"id\":\"75c62c34-7fe5-4b1f-895f-cb739c9ff452\",\"type\":\"GlyphRenderer\"},{\"attributes\":{},\"id\":\"4d02d184-5249-4e94-a690-789c69d1eb24\",\"type\":\"BasicTickFormatter\"},{\"attributes\":{\"fill_alpha\":{\"field\":\"fill_alpha\"},\"fill_color\":{\"field\":\"color\"},\"height\":{\"field\":\"height\",\"units\":\"data\"},\"line_color\":{\"field\":\"line_color\"},\"width\":{\"field\":\"width\",\"units\":\"data\"},\"x\":{\"field\":\"x\"},\"y\":{\"field\":\"y\"}},\"id\":\"e18647b0-b2ba-4b81-919e-41bac49b6ef1\",\"type\":\"Rect\"},{\"attributes\":{\"bottom_units\":\"screen\",\"fill_alpha\":{\"value\":0.5},\"fill_color\":{\"value\":\"lightgrey\"},\"left_units\":\"screen\",\"level\":\"overlay\",\"line_alpha\":{\"value\":1.0},\"line_color\":{\"value\":\"black\"},\"line_dash\":[4,4],\"line_width\":{\"value\":2},\"plot\":null,\"render_mode\":\"css\",\"right_units\":\"screen\",\"top_units\":\"screen\"},\"id\":\"eefd9d1c-46f3-4fbe-bc0e-010914862e32\",\"type\":\"BoxAnnotation\"},{\"attributes\":{\"data_source\":{\"id\":\"a5dd3dd9-5c94-4c31-bf85-232aa3dccf54\",\"type\":\"ColumnDataSource\"},\"glyph\":{\"id\":\"6821ea46-1534-4686-bc35-36c8e9fac3f4\",\"type\":\"Rect\"},\"hover_glyph\":null,\"nonselection_glyph\":null,\"selection_glyph\":null},\"id\":\"75d5ecf8-49af-4b1c-a2c2-fee3fb9d0698\",\"type\":\"GlyphRenderer\"},{\"attributes\":{\"overlay\":{\"id\":\"eefd9d1c-46f3-4fbe-bc0e-010914862e32\",\"type\":\"BoxAnnotation\"},\"plot\":{\"id\":\"570b203a-08d4-416e-8aa9-0a0d766e6fd9\",\"subtype\":\"Chart\",\"type\":\"Plot\"}},\"id\":\"8076451d-a7a1-48a5-9f5a-e26d9df20e2f\",\"type\":\"BoxZoomTool\"},{\"attributes\":{\"fill_alpha\":{\"field\":\"fill_alpha\"},\"fill_color\":{\"field\":\"color\"},\"height\":{\"field\":\"height\",\"units\":\"data\"},\"line_color\":{\"field\":\"line_color\"},\"width\":{\"field\":\"width\",\"units\":\"data\"},\"x\":{\"field\":\"x\"},\"y\":{\"field\":\"y\"}},\"id\":\"be68ee14-50f3-4a5f-a056-8b998c0ba81b\",\"type\":\"Rect\"},{\"attributes\":{\"callback\":null,\"column_names\":[\"label\",\"line_color\",\"height\",\"line_alpha\",\"fill_alpha\",\"width\",\"color\",\"x\",\"y\"],\"data\":{\"chart_index\":[\"(3.160220, 3.229079]\"],\"color\":[\"LightSlateGray\"],\"fill_alpha\":[0.8],\"height\":[0.0],\"label\":[\"(3.160220, 3.229079]\"],\"line_alpha\":[1.0],\"line_color\":[\"black\"],\"width\":[0.06885887958742476],\"x\":[\"3.1946494999999997\"],\"y\":[0.0]}},\"id\":\"a5dd3dd9-5c94-4c31-bf85-232aa3dccf54\",\"type\":\"ColumnDataSource\"},{\"attributes\":{\"fill_alpha\":{\"field\":\"fill_alpha\"},\"fill_color\":{\"field\":\"color\"},\"height\":{\"field\":\"height\",\"units\":\"data\"},\"line_color\":{\"field\":\"line_color\"},\"width\":{\"field\":\"width\",\"units\":\"data\"},\"x\":{\"field\":\"x\"},\"y\":{\"field\":\"y\"}},\"id\":\"2e51dda4-448f-4a42-96b9-85168ce789b8\",\"type\":\"Rect\"},{\"attributes\":{\"callback\":null,\"column_names\":[\"label\",\"line_color\",\"height\",\"line_alpha\",\"fill_alpha\",\"width\",\"color\",\"x\",\"y\"],\"data\":{\"chart_index\":[\"(1.851901, 1.920760]\"],\"color\":[\"LightSlateGray\"],\"fill_alpha\":[0.8],\"height\":[9.0],\"label\":[\"(1.851901, 1.920760]\"],\"line_alpha\":[1.0],\"line_color\":[\"black\"],\"width\":[0.06885887958742498],\"x\":[\"1.8863305000000001\"],\"y\":[4.5]}},\"id\":\"5a66bb23-9548-4785-8d7b-f121bd97f503\",\"type\":\"ColumnDataSource\"},{\"attributes\":{\"fill_alpha\":{\"field\":\"fill_alpha\"},\"fill_color\":{\"field\":\"color\"},\"height\":{\"field\":\"height\",\"units\":\"data\"},\"line_color\":{\"field\":\"line_color\"},\"width\":{\"field\":\"width\",\"units\":\"data\"},\"x\":{\"field\":\"x\"},\"y\":{\"field\":\"y\"}},\"id\":\"679e66b0-64b4-412f-b092-84409898b558\",\"type\":\"Rect\"},{\"attributes\":{\"data_source\":{\"id\":\"ae58cee1-69b3-4534-bfae-068ca1b925e2\",\"type\":\"ColumnDataSource\"},\"glyph\":{\"id\":\"c33f5930-9e18-4f6d-9b4c-e4aefb5ae9c6\",\"type\":\"Rect\"},\"hover_glyph\":null,\"nonselection_glyph\":null,\"selection_glyph\":null},\"id\":\"59bc9b2c-7e22-49cd-bc2b-bf461474d08c\",\"type\":\"GlyphRenderer\"},{\"attributes\":{\"callback\":null,\"column_names\":[\"label\",\"line_color\",\"height\",\"line_alpha\",\"fill_alpha\",\"width\",\"color\",\"x\",\"y\"],\"data\":{\"chart_index\":[\"(2.265054, 2.333913]\"],\"color\":[\"LightSlateGray\"],\"fill_alpha\":[0.8],\"height\":[3.0],\"label\":[\"(2.265054, 2.333913]\"],\"line_alpha\":[1.0],\"line_color\":[\"black\"],\"width\":[0.06885887958742476],\"x\":[\"2.2994835\"],\"y\":[1.5]}},\"id\":\"c2d6c242-1428-46af-8c4c-5aad0304dddf\",\"type\":\"ColumnDataSource\"},{\"attributes\":{\"callback\":null,\"column_names\":[\"label\",\"line_color\",\"height\",\"line_alpha\",\"fill_alpha\",\"width\",\"color\",\"x\",\"y\"],\"data\":{\"chart_index\":[\"(2.678208, 2.747066]\"],\"color\":[\"LightSlateGray\"],\"fill_alpha\":[0.8],\"height\":[0.0],\"label\":[\"(2.678208, 2.747066]\"],\"line_alpha\":[1.0],\"line_color\":[\"black\"],\"width\":[0.06885887958742476],\"x\":[\"2.712637\"],\"y\":[0.0]}},\"id\":\"04c89043-4eef-4be8-9340-00b41e901ba0\",\"type\":\"ColumnDataSource\"},{\"attributes\":{\"callback\":null,\"column_names\":[\"label\",\"line_color\",\"height\",\"line_alpha\",\"fill_alpha\",\"width\",\"color\",\"x\",\"y\"],\"data\":{\"chart_index\":[\"(2.609349, 2.678208]\"],\"color\":[\"LightSlateGray\"],\"fill_alpha\":[0.8],\"height\":[1.0],\"label\":[\"(2.609349, 2.678208]\"],\"line_alpha\":[1.0],\"line_color\":[\"black\"],\"width\":[0.0688588795874252],\"x\":[\"2.6437785\"],\"y\":[0.5]}},\"id\":\"b58e8a5b-fdc2-48b2-ac6f-9cc1ed842a7c\",\"type\":\"ColumnDataSource\"},{\"attributes\":{\"callback\":null,\"end\":190.3},\"id\":\"ed9d86d3-9cbc-4620-a87f-745dce6d7aaa\",\"type\":\"Range1d\"},{\"attributes\":{\"fill_alpha\":{\"field\":\"fill_alpha\"},\"fill_color\":{\"field\":\"color\"},\"height\":{\"field\":\"height\",\"units\":\"data\"},\"line_color\":{\"field\":\"line_color\"},\"width\":{\"field\":\"width\",\"units\":\"data\"},\"x\":{\"field\":\"x\"},\"y\":{\"field\":\"y\"}},\"id\":\"a9b9fc27-cd4a-4c02-8420-270a9999e74e\",\"type\":\"Rect\"},{\"attributes\":{\"fill_alpha\":{\"field\":\"fill_alpha\"},\"fill_color\":{\"field\":\"color\"},\"height\":{\"field\":\"height\",\"units\":\"data\"},\"line_color\":{\"field\":\"line_color\"},\"width\":{\"field\":\"width\",\"units\":\"data\"},\"x\":{\"field\":\"x\"},\"y\":{\"field\":\"y\"}},\"id\":\"53be35a0-62e3-46ae-8b88-ddf1ef63957b\",\"type\":\"Rect\"},{\"attributes\":{\"callback\":null,\"column_names\":[\"label\",\"line_color\",\"height\",\"line_alpha\",\"fill_alpha\",\"width\",\"color\",\"x\",\"y\"],\"data\":{\"chart_index\":[\"(2.058478, 2.127337]\"],\"color\":[\"LightSlateGray\"],\"fill_alpha\":[0.8],\"height\":[4.0],\"label\":[\"(2.058478, 2.127337]\"],\"line_alpha\":[1.0],\"line_color\":[\"black\"],\"width\":[0.06885887958742476],\"x\":[\"2.0929075\"],\"y\":[2.0]}},\"id\":\"ac36bd05-dfd8-4da9-9c8b-cbbb5f72d2ea\",\"type\":\"ColumnDataSource\"},{\"attributes\":{\"callback\":null,\"column_names\":[\"label\",\"line_color\",\"height\",\"line_alpha\",\"fill_alpha\",\"width\",\"color\",\"x\",\"y\"],\"data\":{\"chart_index\":[\"(2.540490, 2.609349]\"],\"color\":[\"LightSlateGray\"],\"fill_alpha\":[0.8],\"height\":[0.0],\"label\":[\"(2.540490, 2.609349]\"],\"line_alpha\":[1.0],\"line_color\":[\"black\"],\"width\":[0.06885887958742476],\"x\":[\"2.5749195\"],\"y\":[0.0]}},\"id\":\"a5567d7c-78a6-4a9f-9a2c-b1b0f5900707\",\"type\":\"ColumnDataSource\"},{\"attributes\":{\"callback\":null,\"column_names\":[\"label\",\"line_color\",\"height\",\"line_alpha\",\"fill_alpha\",\"width\",\"color\",\"x\",\"y\"],\"data\":{\"chart_index\":[\"(2.402772, 2.471631]\"],\"color\":[\"LightSlateGray\"],\"fill_alpha\":[0.8],\"height\":[2.0],\"label\":[\"(2.402772, 2.471631]\"],\"line_alpha\":[1.0],\"line_color\":[\"black\"],\"width\":[0.0688588795874252],\"x\":[\"2.4372015\"],\"y\":[1.0]}},\"id\":\"b0933dae-cae9-41c2-a7d9-3c57a87b27d6\",\"type\":\"ColumnDataSource\"},{\"attributes\":{\"plot\":{\"id\":\"570b203a-08d4-416e-8aa9-0a0d766e6fd9\",\"subtype\":\"Chart\",\"type\":\"Plot\"}},\"id\":\"dba5dbf5-520a-4287-847b-99f3e55d4e7f\",\"type\":\"WheelZoomTool\"},{\"attributes\":{\"callback\":null,\"column_names\":[\"label\",\"line_color\",\"height\",\"line_alpha\",\"fill_alpha\",\"width\",\"color\",\"x\",\"y\"],\"data\":{\"chart_index\":[\"(1.369889, 1.438748]\"],\"color\":[\"LightSlateGray\"],\"fill_alpha\":[0.8],\"height\":[115.0],\"label\":[\"(1.369889, 1.438748]\"],\"line_alpha\":[1.0],\"line_color\":[\"black\"],\"width\":[0.06885887958742498],\"x\":[\"1.4043185\"],\"y\":[57.5]}},\"id\":\"c413361b-b69b-45b6-ad8d-0d64f5218d40\",\"type\":\"ColumnDataSource\"},{\"attributes\":{\"callback\":null,\"column_names\":[\"label\",\"line_color\",\"height\",\"line_alpha\",\"fill_alpha\",\"width\",\"color\",\"x\",\"y\"],\"data\":{\"chart_index\":[\"(2.333913, 2.402772]\"],\"color\":[\"LightSlateGray\"],\"fill_alpha\":[0.8],\"height\":[1.0],\"label\":[\"(2.333913, 2.402772]\"],\"line_alpha\":[1.0],\"line_color\":[\"black\"],\"width\":[0.0688588795874252],\"x\":[\"2.3683425\"],\"y\":[0.5]}},\"id\":\"84735193-9962-490a-9514-3eac61475036\",\"type\":\"ColumnDataSource\"},{\"attributes\":{\"data_source\":{\"id\":\"c90ca8a2-704e-49d3-91ff-8f7744f65b9c\",\"type\":\"ColumnDataSource\"},\"glyph\":{\"id\":\"1f07470b-4e64-42c9-8a91-fff8e7338a26\",\"type\":\"Rect\"},\"hover_glyph\":null,\"nonselection_glyph\":null,\"selection_glyph\":null},\"id\":\"4bec1d63-18c7-4f1b-a15f-02c4613c8f5b\",\"type\":\"GlyphRenderer\"},{\"attributes\":{},\"id\":\"1fcabcd7-bbce-4471-823a-cb2b77b719f7\",\"type\":\"BasicTicker\"},{\"attributes\":{\"fill_alpha\":{\"field\":\"fill_alpha\"},\"fill_color\":{\"field\":\"color\"},\"height\":{\"field\":\"height\",\"units\":\"data\"},\"line_color\":{\"field\":\"line_color\"},\"width\":{\"field\":\"width\",\"units\":\"data\"},\"x\":{\"field\":\"x\"},\"y\":{\"field\":\"y\"}},\"id\":\"33d78fad-2902-4018-9c8f-629f582fda62\",\"type\":\"Rect\"},{\"attributes\":{\"data_source\":{\"id\":\"c125d909-bafb-41ff-8f4e-b909d4bbf41c\",\"type\":\"ColumnDataSource\"},\"glyph\":{\"id\":\"de7f8f4a-3876-4b74-bfe9-7399967635f8\",\"type\":\"Rect\"},\"hover_glyph\":null,\"nonselection_glyph\":null,\"selection_glyph\":null},\"id\":\"f7a23d74-0823-4ea2-b010-5491ed8405fe\",\"type\":\"GlyphRenderer\"},{\"attributes\":{\"callback\":null,\"end\":3.4834921022937126,\"start\":1.1843343977062875},\"id\":\"0ecf0326-674f-4ab6-aace-7d00ef634bdf\",\"type\":\"Range1d\"},{\"attributes\":{\"data_source\":{\"id\":\"79b2f349-0e50-41b4-b1e4-e57131a77968\",\"type\":\"ColumnDataSource\"},\"glyph\":{\"id\":\"2e51dda4-448f-4a42-96b9-85168ce789b8\",\"type\":\"Rect\"},\"hover_glyph\":null,\"nonselection_glyph\":null,\"selection_glyph\":null},\"id\":\"9307c7ad-d3ef-4b89-8aa5-174592b9f962\",\"type\":\"GlyphRenderer\"},{\"attributes\":{\"data_source\":{\"id\":\"c2d6c242-1428-46af-8c4c-5aad0304dddf\",\"type\":\"ColumnDataSource\"},\"glyph\":{\"id\":\"e18647b0-b2ba-4b81-919e-41bac49b6ef1\",\"type\":\"Rect\"},\"hover_glyph\":null,\"nonselection_glyph\":null,\"selection_glyph\":null},\"id\":\"16a251b6-71d7-41fe-9011-35f905087182\",\"type\":\"GlyphRenderer\"},{\"attributes\":{\"data_source\":{\"id\":\"6d41c49c-22ae-470a-92ee-40f55a13394a\",\"type\":\"ColumnDataSource\"},\"glyph\":{\"id\":\"ab966e67-cc5f-404f-9294-d1caaaeb6a22\",\"type\":\"Rect\"},\"hover_glyph\":null,\"nonselection_glyph\":null,\"selection_glyph\":null},\"id\":\"05e58d58-9958-4cd7-b7e5-eba96db848b1\",\"type\":\"GlyphRenderer\"},{\"attributes\":{\"callback\":null,\"column_names\":[\"label\",\"line_color\",\"height\",\"line_alpha\",\"fill_alpha\",\"width\",\"color\",\"x\",\"y\"],\"data\":{\"chart_index\":[\"(1.920760, 1.989619]\"],\"color\":[\"LightSlateGray\"],\"fill_alpha\":[0.8],\"height\":[10.0],\"label\":[\"(1.920760, 1.989619]\"],\"line_alpha\":[1.0],\"line_color\":[\"black\"],\"width\":[0.06885887958742498],\"x\":[\"1.9551895\"],\"y\":[5.0]}},\"id\":\"950a5835-a3ac-4b35-92f2-ff28abc43213\",\"type\":\"ColumnDataSource\"},{\"attributes\":{\"callback\":null,\"column_names\":[\"label\",\"line_color\",\"height\",\"line_alpha\",\"fill_alpha\",\"width\",\"color\",\"x\",\"y\"],\"data\":{\"chart_index\":[\"(1.438748, 1.507607]\"],\"color\":[\"LightSlateGray\"],\"fill_alpha\":[0.8],\"height\":[116.0],\"label\":[\"(1.438748, 1.507607]\"],\"line_alpha\":[1.0],\"line_color\":[\"black\"],\"width\":[0.06885887958742498],\"x\":[\"1.4731774999999998\"],\"y\":[58.0]}},\"id\":\"6d41c49c-22ae-470a-92ee-40f55a13394a\",\"type\":\"ColumnDataSource\"},{\"attributes\":{\"callback\":null,\"column_names\":[\"label\",\"line_color\",\"height\",\"line_alpha\",\"fill_alpha\",\"width\",\"color\",\"x\",\"y\"],\"data\":{\"chart_index\":[\"(1.989619, 2.058478]\"],\"color\":[\"LightSlateGray\"],\"fill_alpha\":[0.8],\"height\":[12.0],\"label\":[\"(1.989619, 2.058478]\"],\"line_alpha\":[1.0],\"line_color\":[\"black\"],\"width\":[0.06885887958742498],\"x\":[\"2.0240485\"],\"y\":[6.0]}},\"id\":\"ae58cee1-69b3-4534-bfae-068ca1b925e2\",\"type\":\"ColumnDataSource\"},{\"attributes\":{\"fill_alpha\":{\"field\":\"fill_alpha\"},\"fill_color\":{\"field\":\"color\"},\"height\":{\"field\":\"height\",\"units\":\"data\"},\"line_color\":{\"field\":\"line_color\"},\"width\":{\"field\":\"width\",\"units\":\"data\"},\"x\":{\"field\":\"x\"},\"y\":{\"field\":\"y\"}},\"id\":\"43602430-b27f-4d61-8b70-f50a725d1b36\",\"type\":\"Rect\"},{\"attributes\":{\"data_source\":{\"id\":\"b0933dae-cae9-41c2-a7d9-3c57a87b27d6\",\"type\":\"ColumnDataSource\"},\"glyph\":{\"id\":\"927979a8-6d4a-43b2-b132-74d58b136968\",\"type\":\"Rect\"},\"hover_glyph\":null,\"nonselection_glyph\":null,\"selection_glyph\":null},\"id\":\"2b4d8b0b-c1bc-4d5c-82e1-8a9bceca2f75\",\"type\":\"GlyphRenderer\"},{\"attributes\":{\"fill_alpha\":{\"field\":\"fill_alpha\"},\"fill_color\":{\"field\":\"color\"},\"height\":{\"field\":\"height\",\"units\":\"data\"},\"line_color\":{\"field\":\"line_color\"},\"width\":{\"field\":\"width\",\"units\":\"data\"},\"x\":{\"field\":\"x\"},\"y\":{\"field\":\"y\"}},\"id\":\"6821ea46-1534-4686-bc35-36c8e9fac3f4\",\"type\":\"Rect\"},{\"attributes\":{\"data_source\":{\"id\":\"547fbcdd-16e9-4e97-931c-bc7b8cbd1326\",\"type\":\"ColumnDataSource\"},\"glyph\":{\"id\":\"dd5a33a4-178c-4665-8fc2-3c0a7d4a2811\",\"type\":\"Rect\"},\"hover_glyph\":null,\"nonselection_glyph\":null,\"selection_glyph\":null},\"id\":\"f6030c40-4e24-47ab-ae94-dfecabdb152a\",\"type\":\"GlyphRenderer\"},{\"attributes\":{\"fill_alpha\":{\"field\":\"fill_alpha\"},\"fill_color\":{\"field\":\"color\"},\"height\":{\"field\":\"height\",\"units\":\"data\"},\"line_color\":{\"field\":\"line_color\"},\"width\":{\"field\":\"width\",\"units\":\"data\"},\"x\":{\"field\":\"x\"},\"y\":{\"field\":\"y\"}},\"id\":\"dd5a33a4-178c-4665-8fc2-3c0a7d4a2811\",\"type\":\"Rect\"},{\"attributes\":{\"callback\":null,\"column_names\":[\"label\",\"line_color\",\"height\",\"line_alpha\",\"fill_alpha\",\"width\",\"color\",\"x\",\"y\"],\"data\":{\"chart_index\":[\"(2.953643, 3.022502]\"],\"color\":[\"LightSlateGray\"],\"fill_alpha\":[0.8],\"height\":[0.0],\"label\":[\"(2.953643, 3.022502]\"],\"line_alpha\":[1.0],\"line_color\":[\"black\"],\"width\":[0.0688588795874252],\"x\":[\"2.9880725\"],\"y\":[0.0]}},\"id\":\"551bdd96-69c2-4a6a-9011-8fef0d4be254\",\"type\":\"ColumnDataSource\"},{\"attributes\":{\"callback\":null,\"column_names\":[\"label\",\"line_color\",\"height\",\"line_alpha\",\"fill_alpha\",\"width\",\"color\",\"x\",\"y\"],\"data\":{\"chart_index\":[\"(3.229079, 3.297938]\"],\"color\":[\"LightSlateGray\"],\"fill_alpha\":[0.8],\"height\":[0.0],\"label\":[\"(3.229079, 3.297938]\"],\"line_alpha\":[1.0],\"line_color\":[\"black\"],\"width\":[0.06885887958742476],\"x\":[\"3.2635085\"],\"y\":[0.0]}},\"id\":\"dd5329cd-951a-4bc1-aad7-67dc7db449be\",\"type\":\"ColumnDataSource\"},{\"attributes\":{\"callback\":null,\"column_names\":[\"label\",\"line_color\",\"height\",\"line_alpha\",\"fill_alpha\",\"width\",\"color\",\"x\",\"y\"],\"data\":{\"chart_index\":[\"(2.196195, 2.265054]\"],\"color\":[\"LightSlateGray\"],\"fill_alpha\":[0.8],\"height\":[4.0],\"label\":[\"(2.196195, 2.265054]\"],\"line_alpha\":[1.0],\"line_color\":[\"black\"],\"width\":[0.06885887958742476],\"x\":[\"2.2306245000000002\"],\"y\":[2.0]}},\"id\":\"c2671ace-fdf9-4f7b-8370-08b6b5906b56\",\"type\":\"ColumnDataSource\"},{\"attributes\":{\"callback\":null,\"column_names\":[\"label\",\"line_color\",\"height\",\"line_alpha\",\"fill_alpha\",\"width\",\"color\",\"x\",\"y\"],\"data\":{\"chart_index\":[\"(1.645324, 1.714183]\"],\"color\":[\"LightSlateGray\"],\"fill_alpha\":[0.8],\"height\":[30.0],\"label\":[\"(1.645324, 1.714183]\"],\"line_alpha\":[1.0],\"line_color\":[\"black\"],\"width\":[0.06885887958742498],\"x\":[\"1.6797535\"],\"y\":[15.0]}},\"id\":\"92224f41-3d1f-45ea-a5de-7b8c58b3b1e4\",\"type\":\"ColumnDataSource\"},{\"attributes\":{\"dimension\":1,\"plot\":{\"id\":\"570b203a-08d4-416e-8aa9-0a0d766e6fd9\",\"subtype\":\"Chart\",\"type\":\"Plot\"},\"ticker\":{\"id\":\"de0bb9cb-3f20-4ccd-b4cc-39b8bb0ab8e4\",\"type\":\"BasicTicker\"}},\"id\":\"f9ca675f-56c1-4632-8efb-3d79dccff18b\",\"type\":\"Grid\"},{\"attributes\":{\"callback\":null,\"column_names\":[\"label\",\"line_color\",\"height\",\"line_alpha\",\"fill_alpha\",\"width\",\"color\",\"x\",\"y\"],\"data\":{\"chart_index\":[\"(2.815925, 2.884784]\"],\"color\":[\"LightSlateGray\"],\"fill_alpha\":[0.8],\"height\":[0.0],\"label\":[\"(2.815925, 2.884784]\"],\"line_alpha\":[1.0],\"line_color\":[\"black\"],\"width\":[0.06885887958742476],\"x\":[\"2.8503545\"],\"y\":[0.0]}},\"id\":\"bd44170a-052e-45ea-8b3d-6da156a0a758\",\"type\":\"ColumnDataSource\"},{\"attributes\":{\"plot\":{\"id\":\"570b203a-08d4-416e-8aa9-0a0d766e6fd9\",\"subtype\":\"Chart\",\"type\":\"Plot\"}},\"id\":\"19c8d44a-93b8-4243-83b2-6d713b3ba790\",\"type\":\"SaveTool\"},{\"attributes\":{\"plot\":{\"id\":\"570b203a-08d4-416e-8aa9-0a0d766e6fd9\",\"subtype\":\"Chart\",\"type\":\"Plot\"}},\"id\":\"00a7f76f-9057-463a-8762-957085f97964\",\"type\":\"PanTool\"},{\"attributes\":{\"fill_alpha\":{\"field\":\"fill_alpha\"},\"fill_color\":{\"field\":\"color\"},\"height\":{\"field\":\"height\",\"units\":\"data\"},\"line_color\":{\"field\":\"line_color\"},\"width\":{\"field\":\"width\",\"units\":\"data\"},\"x\":{\"field\":\"x\"},\"y\":{\"field\":\"y\"}},\"id\":\"e7946452-47e9-4993-b742-4cba763b8e94\",\"type\":\"Rect\"},{\"attributes\":{\"callback\":null,\"column_names\":[\"label\",\"line_color\",\"height\",\"line_alpha\",\"fill_alpha\",\"width\",\"color\",\"x\",\"y\"],\"data\":{\"chart_index\":[\"(2.471631, 2.540490]\"],\"color\":[\"LightSlateGray\"],\"fill_alpha\":[0.8],\"height\":[0.0],\"label\":[\"(2.471631, 2.540490]\"],\"line_alpha\":[1.0],\"line_color\":[\"black\"],\"width\":[0.06885887958742476],\"x\":[\"2.5060605000000002\"],\"y\":[0.0]}},\"id\":\"9138310e-34f6-482d-af60-87ffa1e2f420\",\"type\":\"ColumnDataSource\"},{\"attributes\":{\"data_source\":{\"id\":\"92224f41-3d1f-45ea-a5de-7b8c58b3b1e4\",\"type\":\"ColumnDataSource\"},\"glyph\":{\"id\":\"53be35a0-62e3-46ae-8b88-ddf1ef63957b\",\"type\":\"Rect\"},\"hover_glyph\":null,\"nonselection_glyph\":null,\"selection_glyph\":null},\"id\":\"ea218c4a-d0a1-417e-a36f-3e2aaa3f6eb5\",\"type\":\"GlyphRenderer\"},{\"attributes\":{\"callback\":null,\"column_names\":[\"label\",\"line_color\",\"height\",\"line_alpha\",\"fill_alpha\",\"width\",\"color\",\"x\",\"y\"],\"data\":{\"chart_index\":[\"(2.747066, 2.815925]\"],\"color\":[\"LightSlateGray\"],\"fill_alpha\":[0.8],\"height\":[1.0],\"label\":[\"(2.747066, 2.815925]\"],\"line_alpha\":[1.0],\"line_color\":[\"black\"],\"width\":[0.0688588795874252],\"x\":[\"2.7814955\"],\"y\":[0.5]}},\"id\":\"79b2f349-0e50-41b4-b1e4-e57131a77968\",\"type\":\"ColumnDataSource\"},{\"attributes\":{\"data_source\":{\"id\":\"8ebb5745-e3b9-4d71-a15c-19c4240b4898\",\"type\":\"ColumnDataSource\"},\"glyph\":{\"id\":\"43602430-b27f-4d61-8b70-f50a725d1b36\",\"type\":\"Rect\"},\"hover_glyph\":null,\"nonselection_glyph\":null,\"selection_glyph\":null},\"id\":\"b6d19b5e-c5cb-4942-ac3c-cc993614ca36\",\"type\":\"GlyphRenderer\"},{\"attributes\":{\"fill_alpha\":{\"field\":\"fill_alpha\"},\"fill_color\":{\"field\":\"color\"},\"height\":{\"field\":\"height\",\"units\":\"data\"},\"line_color\":{\"field\":\"line_color\"},\"width\":{\"field\":\"width\",\"units\":\"data\"},\"x\":{\"field\":\"x\"},\"y\":{\"field\":\"y\"}},\"id\":\"17598bc2-068a-46de-96aa-72f4af770d82\",\"type\":\"Rect\"},{\"attributes\":{\"fill_alpha\":{\"field\":\"fill_alpha\"},\"fill_color\":{\"field\":\"color\"},\"height\":{\"field\":\"height\",\"units\":\"data\"},\"line_color\":{\"field\":\"line_color\"},\"width\":{\"field\":\"width\",\"units\":\"data\"},\"x\":{\"field\":\"x\"},\"y\":{\"field\":\"y\"}},\"id\":\"3be0a5af-406d-4252-b913-babf9bd2f051\",\"type\":\"Rect\"},{\"attributes\":{\"axis_label\":\"Frequency\",\"formatter\":{\"id\":\"744c6501-0675-4383-9bec-6d2b7b97e633\",\"type\":\"BasicTickFormatter\"},\"plot\":{\"id\":\"570b203a-08d4-416e-8aa9-0a0d766e6fd9\",\"subtype\":\"Chart\",\"type\":\"Plot\"},\"ticker\":{\"id\":\"de0bb9cb-3f20-4ccd-b4cc-39b8bb0ab8e4\",\"type\":\"BasicTicker\"}},\"id\":\"b703cd38-72c1-4f31-a4f4-e1bb4050eb5c\",\"type\":\"LinearAxis\"},{\"attributes\":{\"data_source\":{\"id\":\"84735193-9962-490a-9514-3eac61475036\",\"type\":\"ColumnDataSource\"},\"glyph\":{\"id\":\"33d78fad-2902-4018-9c8f-629f582fda62\",\"type\":\"Rect\"},\"hover_glyph\":null,\"nonselection_glyph\":null,\"selection_glyph\":null},\"id\":\"3caedc5f-cdcd-426f-82d5-7fa11c84e943\",\"type\":\"GlyphRenderer\"},{\"attributes\":{\"plot\":{\"id\":\"570b203a-08d4-416e-8aa9-0a0d766e6fd9\",\"subtype\":\"Chart\",\"type\":\"Plot\"}},\"id\":\"a042c32c-f282-49b9-8978-6cc4c73209a1\",\"type\":\"ResetTool\"},{\"attributes\":{\"fill_alpha\":{\"field\":\"fill_alpha\"},\"fill_color\":{\"field\":\"color\"},\"height\":{\"field\":\"height\",\"units\":\"data\"},\"line_color\":{\"field\":\"line_color\"},\"width\":{\"field\":\"width\",\"units\":\"data\"},\"x\":{\"field\":\"x\"},\"y\":{\"field\":\"y\"}},\"id\":\"29ed55a4-268e-4c88-9997-387ff9901711\",\"type\":\"Rect\"},{\"attributes\":{\"fill_alpha\":{\"field\":\"fill_alpha\"},\"fill_color\":{\"field\":\"color\"},\"height\":{\"field\":\"height\",\"units\":\"data\"},\"line_color\":{\"field\":\"line_color\"},\"width\":{\"field\":\"width\",\"units\":\"data\"},\"x\":{\"field\":\"x\"},\"y\":{\"field\":\"y\"}},\"id\":\"fc9ac14f-bb68-4b48-b5c3-76760b90c9e1\",\"type\":\"Rect\"},{\"attributes\":{\"fill_alpha\":{\"field\":\"fill_alpha\"},\"fill_color\":{\"field\":\"color\"},\"height\":{\"field\":\"height\",\"units\":\"data\"},\"line_color\":{\"field\":\"line_color\"},\"width\":{\"field\":\"width\",\"units\":\"data\"},\"x\":{\"field\":\"x\"},\"y\":{\"field\":\"y\"}},\"id\":\"f9eeb58e-cff0-4496-a18f-b443c1860e4a\",\"type\":\"Rect\"},{\"attributes\":{\"data_source\":{\"id\":\"9eaa1377-3e26-4e22-9b7e-0c106b326da3\",\"type\":\"ColumnDataSource\"},\"glyph\":{\"id\":\"dbbde8a9-12c9-4d39-b505-2c1c78aff5d3\",\"type\":\"Rect\"},\"hover_glyph\":null,\"nonselection_glyph\":null,\"selection_glyph\":null},\"id\":\"57dbe455-1546-4860-81e9-a04f6cf91556\",\"type\":\"GlyphRenderer\"},{\"attributes\":{\"data_source\":{\"id\":\"ac36bd05-dfd8-4da9-9c8b-cbbb5f72d2ea\",\"type\":\"ColumnDataSource\"},\"glyph\":{\"id\":\"24fec087-4109-433c-8b65-57c3e0dc7389\",\"type\":\"Rect\"},\"hover_glyph\":null,\"nonselection_glyph\":null,\"selection_glyph\":null},\"id\":\"0ff1538c-c15f-4200-886d-6d5d989ddab9\",\"type\":\"GlyphRenderer\"},{\"attributes\":{\"location\":\"top_left\",\"plot\":{\"id\":\"570b203a-08d4-416e-8aa9-0a0d766e6fd9\",\"subtype\":\"Chart\",\"type\":\"Plot\"}},\"id\":\"3742632d-b965-49f3-b5d8-b4d3ffe5f26f\",\"type\":\"Legend\"},{\"attributes\":{\"callback\":null,\"column_names\":[\"label\",\"line_color\",\"height\",\"line_alpha\",\"fill_alpha\",\"width\",\"color\",\"x\",\"y\"],\"data\":{\"chart_index\":[\"(3.297938, 3.366796]\"],\"color\":[\"LightSlateGray\"],\"fill_alpha\":[0.8],\"height\":[1.0],\"label\":[\"(3.297938, 3.366796]\"],\"line_alpha\":[1.0],\"line_color\":[\"black\"],\"width\":[0.0688588795874252],\"x\":[\"3.3323669999999996\"],\"y\":[0.5]}},\"id\":\"c125d909-bafb-41ff-8f4e-b909d4bbf41c\",\"type\":\"ColumnDataSource\"},{\"attributes\":{\"fill_alpha\":{\"field\":\"fill_alpha\"},\"fill_color\":{\"field\":\"color\"},\"height\":{\"field\":\"height\",\"units\":\"data\"},\"line_color\":{\"field\":\"line_color\"},\"width\":{\"field\":\"width\",\"units\":\"data\"},\"x\":{\"field\":\"x\"},\"y\":{\"field\":\"y\"}},\"id\":\"cc7b57a0-f062-4637-bd65-144f06bf6b4a\",\"type\":\"Rect\"},{\"attributes\":{\"data_source\":{\"id\":\"04c89043-4eef-4be8-9340-00b41e901ba0\",\"type\":\"ColumnDataSource\"},\"glyph\":{\"id\":\"f9eeb58e-cff0-4496-a18f-b443c1860e4a\",\"type\":\"Rect\"},\"hover_glyph\":null,\"nonselection_glyph\":null,\"selection_glyph\":null},\"id\":\"64964c14-eaaa-4be4-b3a7-e07ae4f16958\",\"type\":\"GlyphRenderer\"},{\"attributes\":{\"data_source\":{\"id\":\"c413361b-b69b-45b6-ad8d-0d64f5218d40\",\"type\":\"ColumnDataSource\"},\"glyph\":{\"id\":\"cc7b57a0-f062-4637-bd65-144f06bf6b4a\",\"type\":\"Rect\"},\"hover_glyph\":null,\"nonselection_glyph\":null,\"selection_glyph\":null},\"id\":\"c49dee63-148a-4b20-8a53-e9c7ac96c8ba\",\"type\":\"GlyphRenderer\"},{\"attributes\":{\"callback\":null,\"column_names\":[\"label\",\"line_color\",\"height\",\"line_alpha\",\"fill_alpha\",\"width\",\"color\",\"x\",\"y\"],\"data\":{\"chart_index\":[\"(1.783042, 1.851901]\"],\"color\":[\"LightSlateGray\"],\"fill_alpha\":[0.8],\"height\":[20.0],\"label\":[\"(1.783042, 1.851901]\"],\"line_alpha\":[1.0],\"line_color\":[\"black\"],\"width\":[0.06885887958742498],\"x\":[\"1.8174715\"],\"y\":[10.0]}},\"id\":\"db9084f6-99a1-4270-93a7-747ea58196b2\",\"type\":\"ColumnDataSource\"},{\"attributes\":{\"fill_alpha\":{\"field\":\"fill_alpha\"},\"fill_color\":{\"field\":\"color\"},\"height\":{\"field\":\"height\",\"units\":\"data\"},\"line_color\":{\"field\":\"line_color\"},\"width\":{\"field\":\"width\",\"units\":\"data\"},\"x\":{\"field\":\"x\"},\"y\":{\"field\":\"y\"}},\"id\":\"1f07470b-4e64-42c9-8a91-fff8e7338a26\",\"type\":\"Rect\"},{\"attributes\":{\"fill_alpha\":{\"field\":\"fill_alpha\"},\"fill_color\":{\"field\":\"color\"},\"height\":{\"field\":\"height\",\"units\":\"data\"},\"line_color\":{\"field\":\"line_color\"},\"width\":{\"field\":\"width\",\"units\":\"data\"},\"x\":{\"field\":\"x\"},\"y\":{\"field\":\"y\"}},\"id\":\"d9de2bb3-6198-42a8-8f4f-5c106f232093\",\"type\":\"Rect\"},{\"attributes\":{\"data_source\":{\"id\":\"bd44170a-052e-45ea-8b3d-6da156a0a758\",\"type\":\"ColumnDataSource\"},\"glyph\":{\"id\":\"c277039e-c3f9-4fc8-a1b4-d5b5d161cb13\",\"type\":\"Rect\"},\"hover_glyph\":null,\"nonselection_glyph\":null,\"selection_glyph\":null},\"id\":\"0ec689ec-78f6-4dbc-893d-b85cd3df4133\",\"type\":\"GlyphRenderer\"},{\"attributes\":{\"data_source\":{\"id\":\"c2671ace-fdf9-4f7b-8370-08b6b5906b56\",\"type\":\"ColumnDataSource\"},\"glyph\":{\"id\":\"fc9ac14f-bb68-4b48-b5c3-76760b90c9e1\",\"type\":\"Rect\"},\"hover_glyph\":null,\"nonselection_glyph\":null,\"selection_glyph\":null},\"id\":\"a73adef2-942a-4d6e-8238-dd763f2f5353\",\"type\":\"GlyphRenderer\"},{\"attributes\":{\"plot\":{\"id\":\"570b203a-08d4-416e-8aa9-0a0d766e6fd9\",\"subtype\":\"Chart\",\"type\":\"Plot\"}},\"id\":\"d101f248-e000-4c98-8181-1bf8ffcfa026\",\"type\":\"HelpTool\"}],\"root_ids\":[\"570b203a-08d4-416e-8aa9-0a0d766e6fd9\"]},\"title\":\"Bokeh Application\",\"version\":\"0.12.4\"}};\n",
       "            var render_items = [{\"docid\":\"29d231fe-0e4b-4995-8814-1ae8c3af54e5\",\"elementid\":\"a9525260-66c6-4146-8c5f-0233c56ceccd\",\"modelid\":\"570b203a-08d4-416e-8aa9-0a0d766e6fd9\"}];\n",
       "            \n",
       "            Bokeh.embed.embed_items(docs_json, render_items);\n",
       "          };\n",
       "          if (document.readyState != \"loading\") fn();\n",
       "          else document.addEventListener(\"DOMContentLoaded\", fn);\n",
       "        })();\n",
       "      },\n",
       "      function(Bokeh) {\n",
       "      }\n",
       "    ];\n",
       "  \n",
       "    function run_inline_js() {\n",
       "      \n",
       "      if ((window.Bokeh !== undefined) || (force === true)) {\n",
       "        for (var i = 0; i < inline_js.length; i++) {\n",
       "          inline_js[i](window.Bokeh);\n",
       "        }if (force === true) {\n",
       "          display_loaded();\n",
       "        }} else if (Date.now() < window._bokeh_timeout) {\n",
       "        setTimeout(run_inline_js, 100);\n",
       "      } else if (!window._bokeh_failed_load) {\n",
       "        console.log(\"Bokeh: BokehJS failed to load within specified timeout.\");\n",
       "        window._bokeh_failed_load = true;\n",
       "      } else if (force !== true) {\n",
       "        var cell = $(document.getElementById(\"a9525260-66c6-4146-8c5f-0233c56ceccd\")).parents('.cell').data().cell;\n",
       "        cell.output_area.append_execute_result(NB_LOAD_WARNING)\n",
       "      }\n",
       "  \n",
       "    }\n",
       "  \n",
       "    if (window._bokeh_is_loading === 0) {\n",
       "      console.log(\"Bokeh: BokehJS loaded, going straight to plotting\");\n",
       "      run_inline_js();\n",
       "    } else {\n",
       "      load_libs(js_urls, function() {\n",
       "        console.log(\"Bokeh: BokehJS plotting callback run at\", now());\n",
       "        run_inline_js();\n",
       "      });\n",
       "    }\n",
       "  }(this));\n",
       "</script>"
      ]
     },
     "metadata": {},
     "output_type": "display_data"
    }
   ],
   "source": [
    "# Plot the counts of each predicted probability for Het Var events\n",
    "p = figure()\n",
    "p = Histogram(X_homVar_least, values='Size_Log', title='Homozygous Variant: Predict Proba < 0.3', color='LightSlateGray', bins=30, xlabel=\"Size(log10)\", ylabel=\"Frequency\")\n",
    "output_file(\"250bp_HomVar_PredProb0.3-.html\")\n",
    "show(p)"
   ]
  },
  {
   "cell_type": "code",
   "execution_count": 195,
   "metadata": {},
   "outputs": [
    {
     "name": "stderr",
     "output_type": "stream",
     "text": [
      "/Users/lmc2/anaconda/envs/NIHFAES/lib/python3.5/site-packages/ipykernel/__main__.py:3: SettingWithCopyWarning:\n",
      "\n",
      "\n",
      "A value is trying to be set on a copy of a slice from a DataFrame.\n",
      "Try using .loc[row_indexer,col_indexer] = value instead\n",
      "\n",
      "See the caveats in the documentation: http://pandas.pydata.org/pandas-docs/stable/indexing.html#indexing-view-versus-copy\n",
      "\n",
      "/Users/lmc2/anaconda/envs/NIHFAES/lib/python3.5/site-packages/ipykernel/__main__.py:4: SettingWithCopyWarning:\n",
      "\n",
      "\n",
      "A value is trying to be set on a copy of a slice from a DataFrame.\n",
      "Try using .loc[row_indexer,col_indexer] = value instead\n",
      "\n",
      "See the caveats in the documentation: http://pandas.pydata.org/pandas-docs/stable/indexing.html#indexing-view-versus-copy\n",
      "\n"
     ]
    }
   ],
   "source": [
    "X6['Het_Var_str'] = X6['Het_Var'].astype(str)\n",
    "X_hetVar_least = X6[(X6['Het_Var'] == 0.3) | (X6['Het_Var'] == 0.2) | (X6['Het_Var'] == 0.1)]\n",
    "X_hetVar_least['Size'] = HG002_pred_2['Size'].abs()\n",
    "X_hetVar_least['Size_Log'] = np.log10(X_hetVar_least.Size)"
   ]
  },
  {
   "cell_type": "code",
   "execution_count": 196,
   "metadata": {},
   "outputs": [
    {
     "name": "stderr",
     "output_type": "stream",
     "text": [
      "INFO:bokeh.core.state:Session output file '250bp_HetVar_PredProb0.3-.html' already exists, will be overwritten.\n"
     ]
    },
    {
     "data": {
      "text/html": [
       "\n",
       "\n",
       "    <div class=\"bk-root\">\n",
       "        <div class=\"bk-plotdiv\" id=\"23971554-b289-45c5-b860-dc7aed8029cf\"></div>\n",
       "    </div>\n",
       "<script type=\"text/javascript\">\n",
       "  \n",
       "  (function(global) {\n",
       "    function now() {\n",
       "      return new Date();\n",
       "    }\n",
       "  \n",
       "    var force = false;\n",
       "  \n",
       "    if (typeof (window._bokeh_onload_callbacks) === \"undefined\" || force === true) {\n",
       "      window._bokeh_onload_callbacks = [];\n",
       "      window._bokeh_is_loading = undefined;\n",
       "    }\n",
       "  \n",
       "  \n",
       "    \n",
       "    if (typeof (window._bokeh_timeout) === \"undefined\" || force === true) {\n",
       "      window._bokeh_timeout = Date.now() + 0;\n",
       "      window._bokeh_failed_load = false;\n",
       "    }\n",
       "  \n",
       "    var NB_LOAD_WARNING = {'data': {'text/html':\n",
       "       \"<div style='background-color: #fdd'>\\n\"+\n",
       "       \"<p>\\n\"+\n",
       "       \"BokehJS does not appear to have successfully loaded. If loading BokehJS from CDN, this \\n\"+\n",
       "       \"may be due to a slow or bad network connection. Possible fixes:\\n\"+\n",
       "       \"</p>\\n\"+\n",
       "       \"<ul>\\n\"+\n",
       "       \"<li>re-rerun `output_notebook()` to attempt to load from CDN again, or</li>\\n\"+\n",
       "       \"<li>use INLINE resources instead, as so:</li>\\n\"+\n",
       "       \"</ul>\\n\"+\n",
       "       \"<code>\\n\"+\n",
       "       \"from bokeh.resources import INLINE\\n\"+\n",
       "       \"output_notebook(resources=INLINE)\\n\"+\n",
       "       \"</code>\\n\"+\n",
       "       \"</div>\"}};\n",
       "  \n",
       "    function display_loaded() {\n",
       "      if (window.Bokeh !== undefined) {\n",
       "        document.getElementById(\"23971554-b289-45c5-b860-dc7aed8029cf\").textContent = \"BokehJS successfully loaded.\";\n",
       "      } else if (Date.now() < window._bokeh_timeout) {\n",
       "        setTimeout(display_loaded, 100)\n",
       "      }\n",
       "    }\n",
       "  \n",
       "    function run_callbacks() {\n",
       "      window._bokeh_onload_callbacks.forEach(function(callback) { callback() });\n",
       "      delete window._bokeh_onload_callbacks\n",
       "      console.info(\"Bokeh: all callbacks have finished\");\n",
       "    }\n",
       "  \n",
       "    function load_libs(js_urls, callback) {\n",
       "      window._bokeh_onload_callbacks.push(callback);\n",
       "      if (window._bokeh_is_loading > 0) {\n",
       "        console.log(\"Bokeh: BokehJS is being loaded, scheduling callback at\", now());\n",
       "        return null;\n",
       "      }\n",
       "      if (js_urls == null || js_urls.length === 0) {\n",
       "        run_callbacks();\n",
       "        return null;\n",
       "      }\n",
       "      console.log(\"Bokeh: BokehJS not loaded, scheduling load and callback at\", now());\n",
       "      window._bokeh_is_loading = js_urls.length;\n",
       "      for (var i = 0; i < js_urls.length; i++) {\n",
       "        var url = js_urls[i];\n",
       "        var s = document.createElement('script');\n",
       "        s.src = url;\n",
       "        s.async = false;\n",
       "        s.onreadystatechange = s.onload = function() {\n",
       "          window._bokeh_is_loading--;\n",
       "          if (window._bokeh_is_loading === 0) {\n",
       "            console.log(\"Bokeh: all BokehJS libraries loaded\");\n",
       "            run_callbacks()\n",
       "          }\n",
       "        };\n",
       "        s.onerror = function() {\n",
       "          console.warn(\"failed to load library \" + url);\n",
       "        };\n",
       "        console.log(\"Bokeh: injecting script tag for BokehJS library: \", url);\n",
       "        document.getElementsByTagName(\"head\")[0].appendChild(s);\n",
       "      }\n",
       "    };var element = document.getElementById(\"23971554-b289-45c5-b860-dc7aed8029cf\");\n",
       "    if (element == null) {\n",
       "      console.log(\"Bokeh: ERROR: autoload.js configured with elementid '23971554-b289-45c5-b860-dc7aed8029cf' but no matching script tag was found. \")\n",
       "      return false;\n",
       "    }\n",
       "  \n",
       "    var js_urls = [];\n",
       "  \n",
       "    var inline_js = [\n",
       "      function(Bokeh) {\n",
       "        (function() {\n",
       "          var fn = function() {\n",
       "            var docs_json = {\"4a9761ce-e94f-4478-9262-907cad987f98\":{\"roots\":{\"references\":[{\"attributes\":{},\"id\":\"3b5ff659-06a3-4ccb-837a-587bf3494781\",\"type\":\"BasicTicker\"},{\"attributes\":{\"fill_alpha\":{\"field\":\"fill_alpha\"},\"fill_color\":{\"field\":\"color\"},\"height\":{\"field\":\"height\",\"units\":\"data\"},\"line_color\":{\"field\":\"line_color\"},\"width\":{\"field\":\"width\",\"units\":\"data\"},\"x\":{\"field\":\"x\"},\"y\":{\"field\":\"y\"}},\"id\":\"913f2200-3ad4-4fbd-8384-39e5f66727c0\",\"type\":\"Rect\"},{\"attributes\":{\"fill_alpha\":{\"field\":\"fill_alpha\"},\"fill_color\":{\"field\":\"color\"},\"height\":{\"field\":\"height\",\"units\":\"data\"},\"line_color\":{\"field\":\"line_color\"},\"width\":{\"field\":\"width\",\"units\":\"data\"},\"x\":{\"field\":\"x\"},\"y\":{\"field\":\"y\"}},\"id\":\"34b40ec4-d173-4aab-a242-3352468d3b2c\",\"type\":\"Rect\"},{\"attributes\":{\"fill_alpha\":{\"field\":\"fill_alpha\"},\"fill_color\":{\"field\":\"color\"},\"height\":{\"field\":\"height\",\"units\":\"data\"},\"line_color\":{\"field\":\"line_color\"},\"width\":{\"field\":\"width\",\"units\":\"data\"},\"x\":{\"field\":\"x\"},\"y\":{\"field\":\"y\"}},\"id\":\"68cb111a-dbd7-4c2a-a15f-2580413b11f9\",\"type\":\"Rect\"},{\"attributes\":{\"plot\":{\"id\":\"1fe378ad-595a-425e-aeb1-ae710fdf372d\",\"subtype\":\"Chart\",\"type\":\"Plot\"}},\"id\":\"74838ba1-301d-4e33-8992-d4e3a4d5dfda\",\"type\":\"SaveTool\"},{\"attributes\":{\"data_source\":{\"id\":\"0c36554d-2091-4b1c-9ce2-9c2ff27dfde9\",\"type\":\"ColumnDataSource\"},\"glyph\":{\"id\":\"bace9651-a8fd-42b1-897f-ac2adbaec4da\",\"type\":\"Rect\"},\"hover_glyph\":null,\"nonselection_glyph\":null,\"selection_glyph\":null},\"id\":\"6c58fc7e-eef9-43d2-a6f0-ff3e336edf41\",\"type\":\"GlyphRenderer\"},{\"attributes\":{\"fill_alpha\":{\"field\":\"fill_alpha\"},\"fill_color\":{\"field\":\"color\"},\"height\":{\"field\":\"height\",\"units\":\"data\"},\"line_color\":{\"field\":\"line_color\"},\"width\":{\"field\":\"width\",\"units\":\"data\"},\"x\":{\"field\":\"x\"},\"y\":{\"field\":\"y\"}},\"id\":\"dd453136-e84e-4ee6-8253-c1315fffd3a8\",\"type\":\"Rect\"},{\"attributes\":{\"callback\":null,\"column_names\":[\"label\",\"line_color\",\"height\",\"line_alpha\",\"fill_alpha\",\"width\",\"color\",\"x\",\"y\"],\"data\":{\"chart_index\":[\"(1.383859, 1.466688]\"],\"color\":[\"LightSlateGray\"],\"fill_alpha\":[0.8],\"height\":[40.0],\"label\":[\"(1.383859, 1.466688]\"],\"line_alpha\":[1.0],\"line_color\":[\"black\"],\"width\":[0.0828289677573466],\"x\":[\"1.4252734999999999\"],\"y\":[20.0]}},\"id\":\"ee132326-2510-4a8a-b1cf-1de3319d3505\",\"type\":\"ColumnDataSource\"},{\"attributes\":{\"plot\":{\"id\":\"1fe378ad-595a-425e-aeb1-ae710fdf372d\",\"subtype\":\"Chart\",\"type\":\"Plot\"}},\"id\":\"ad3d35a0-3f1a-4c82-875d-8935d27e4951\",\"type\":\"PanTool\"},{\"attributes\":{\"data_source\":{\"id\":\"050e8ce6-67da-4558-8079-ccd543d3ff2a\",\"type\":\"ColumnDataSource\"},\"glyph\":{\"id\":\"6d8871fd-8fe4-4edb-a806-b459a1d19966\",\"type\":\"Rect\"},\"hover_glyph\":null,\"nonselection_glyph\":null,\"selection_glyph\":null},\"id\":\"e2da4003-3ee0-4789-ac9f-f0a014313d41\",\"type\":\"GlyphRenderer\"},{\"attributes\":{\"fill_alpha\":{\"field\":\"fill_alpha\"},\"fill_color\":{\"field\":\"color\"},\"height\":{\"field\":\"height\",\"units\":\"data\"},\"line_color\":{\"field\":\"line_color\"},\"width\":{\"field\":\"width\",\"units\":\"data\"},\"x\":{\"field\":\"x\"},\"y\":{\"field\":\"y\"}},\"id\":\"4417ad4e-421c-41cd-a036-e404b986f212\",\"type\":\"Rect\"},{\"attributes\":{\"callback\":null,\"column_names\":[\"label\",\"line_color\",\"height\",\"line_alpha\",\"fill_alpha\",\"width\",\"color\",\"x\",\"y\"],\"data\":{\"chart_index\":[\"(3.620241, 3.703070]\"],\"color\":[\"LightSlateGray\"],\"fill_alpha\":[0.8],\"height\":[4.0],\"label\":[\"(3.620241, 3.703070]\"],\"line_alpha\":[1.0],\"line_color\":[\"black\"],\"width\":[0.08282896775734683],\"x\":[\"3.6616555\"],\"y\":[2.0]}},\"id\":\"19529b79-8d62-4574-a97e-be07fecd6242\",\"type\":\"ColumnDataSource\"},{\"attributes\":{\"fill_alpha\":{\"field\":\"fill_alpha\"},\"fill_color\":{\"field\":\"color\"},\"height\":{\"field\":\"height\",\"units\":\"data\"},\"line_color\":{\"field\":\"line_color\"},\"width\":{\"field\":\"width\",\"units\":\"data\"},\"x\":{\"field\":\"x\"},\"y\":{\"field\":\"y\"}},\"id\":\"6d8871fd-8fe4-4edb-a806-b459a1d19966\",\"type\":\"Rect\"},{\"attributes\":{\"data_source\":{\"id\":\"5fb23394-afd2-44c9-a440-56121d933ab9\",\"type\":\"ColumnDataSource\"},\"glyph\":{\"id\":\"25aeb56d-bca1-408e-8de3-5212389477e7\",\"type\":\"Rect\"},\"hover_glyph\":null,\"nonselection_glyph\":null,\"selection_glyph\":null},\"id\":\"56e5df76-9331-464a-82cd-892f1c9671d1\",\"type\":\"GlyphRenderer\"},{\"attributes\":{\"data_source\":{\"id\":\"19529b79-8d62-4574-a97e-be07fecd6242\",\"type\":\"ColumnDataSource\"},\"glyph\":{\"id\":\"6e5a6ad4-30f1-4dbc-97aa-e7b79070c590\",\"type\":\"Rect\"},\"hover_glyph\":null,\"nonselection_glyph\":null,\"selection_glyph\":null},\"id\":\"8349d6c0-2a1e-419d-a187-37e2e3b4bbc5\",\"type\":\"GlyphRenderer\"},{\"attributes\":{\"data_source\":{\"id\":\"ec1d55b5-98b8-48f3-a75b-9aa6b20c283c\",\"type\":\"ColumnDataSource\"},\"glyph\":{\"id\":\"9e582651-57d2-4fec-ac69-031e20c68268\",\"type\":\"Rect\"},\"hover_glyph\":null,\"nonselection_glyph\":null,\"selection_glyph\":null},\"id\":\"6a53fab2-af71-485f-b5c1-131d85ed74e8\",\"type\":\"GlyphRenderer\"},{\"attributes\":{\"data_source\":{\"id\":\"f98f5e88-0a1a-4a08-92a2-ab35a564ffea\",\"type\":\"ColumnDataSource\"},\"glyph\":{\"id\":\"697fbc09-430f-41d1-a0bb-12902f1a4131\",\"type\":\"Rect\"},\"hover_glyph\":null,\"nonselection_glyph\":null,\"selection_glyph\":null},\"id\":\"9d774106-103e-4abb-b607-05e1a2c4611a\",\"type\":\"GlyphRenderer\"},{\"attributes\":{\"data_source\":{\"id\":\"d8b62a14-d635-47ce-9d31-3ebdc8641266\",\"type\":\"ColumnDataSource\"},\"glyph\":{\"id\":\"65fa3704-99c8-4f68-b11e-9964b2538338\",\"type\":\"Rect\"},\"hover_glyph\":null,\"nonselection_glyph\":null,\"selection_glyph\":null},\"id\":\"00178dec-0cc2-48f3-b104-51572338a24b\",\"type\":\"GlyphRenderer\"},{\"attributes\":{\"data_source\":{\"id\":\"af88490d-9fad-4e2c-8fc1-6944d2553a90\",\"type\":\"ColumnDataSource\"},\"glyph\":{\"id\":\"80a6af42-8e87-4938-b4cf-fa42846ef63c\",\"type\":\"Rect\"},\"hover_glyph\":null,\"nonselection_glyph\":null,\"selection_glyph\":null},\"id\":\"f0176b9c-0685-4e67-940e-184b6df7cbd2\",\"type\":\"GlyphRenderer\"},{\"attributes\":{\"callback\":null,\"column_names\":[\"label\",\"line_color\",\"height\",\"line_alpha\",\"fill_alpha\",\"width\",\"color\",\"x\",\"y\"],\"data\":{\"chart_index\":[\"(3.123267, 3.206096]\"],\"color\":[\"LightSlateGray\"],\"fill_alpha\":[0.8],\"height\":[2.0],\"label\":[\"(3.123267, 3.206096]\"],\"line_alpha\":[1.0],\"line_color\":[\"black\"],\"width\":[0.08282896775734638],\"x\":[\"3.1646815\"],\"y\":[1.0]}},\"id\":\"7f4cb460-2093-4ee5-ac93-7ea72887d656\",\"type\":\"ColumnDataSource\"},{\"attributes\":{\"callback\":null,\"column_names\":[\"label\",\"line_color\",\"height\",\"line_alpha\",\"fill_alpha\",\"width\",\"color\",\"x\",\"y\"],\"data\":{\"chart_index\":[\"(1.715175, 1.798004]\"],\"color\":[\"LightSlateGray\"],\"fill_alpha\":[0.8],\"height\":[6.0],\"label\":[\"(1.715175, 1.798004]\"],\"line_alpha\":[1.0],\"line_color\":[\"black\"],\"width\":[0.08282896775734683],\"x\":[\"1.7565895\"],\"y\":[3.0]}},\"id\":\"d8b62a14-d635-47ce-9d31-3ebdc8641266\",\"type\":\"ColumnDataSource\"},{\"attributes\":{\"fill_alpha\":{\"field\":\"fill_alpha\"},\"fill_color\":{\"field\":\"color\"},\"height\":{\"field\":\"height\",\"units\":\"data\"},\"line_color\":{\"field\":\"line_color\"},\"width\":{\"field\":\"width\",\"units\":\"data\"},\"x\":{\"field\":\"x\"},\"y\":{\"field\":\"y\"}},\"id\":\"b3c080cf-a229-4f69-b516-87518e0fbec1\",\"type\":\"Rect\"},{\"attributes\":{\"fill_alpha\":{\"field\":\"fill_alpha\"},\"fill_color\":{\"field\":\"color\"},\"height\":{\"field\":\"height\",\"units\":\"data\"},\"line_color\":{\"field\":\"line_color\"},\"width\":{\"field\":\"width\",\"units\":\"data\"},\"x\":{\"field\":\"x\"},\"y\":{\"field\":\"y\"}},\"id\":\"b3c64e4e-d302-4e49-8882-2ad4f1500f7a\",\"type\":\"Rect\"},{\"attributes\":{\"bottom_units\":\"screen\",\"fill_alpha\":{\"value\":0.5},\"fill_color\":{\"value\":\"lightgrey\"},\"left_units\":\"screen\",\"level\":\"overlay\",\"line_alpha\":{\"value\":1.0},\"line_color\":{\"value\":\"black\"},\"line_dash\":[4,4],\"line_width\":{\"value\":2},\"plot\":null,\"render_mode\":\"css\",\"right_units\":\"screen\",\"top_units\":\"screen\"},\"id\":\"ebdd1178-0e59-451d-bea7-71b65ddf2c7d\",\"type\":\"BoxAnnotation\"},{\"attributes\":{\"plot\":null,\"text\":\"Heterozygous Variant: Predict Proba < 0.3\"},\"id\":\"6af5dc34-b59e-46b3-b570-1ac0e991a8b7\",\"type\":\"Title\"},{\"attributes\":{\"data_source\":{\"id\":\"ad8ea059-d046-49af-b5ec-6e00cbc6db84\",\"type\":\"ColumnDataSource\"},\"glyph\":{\"id\":\"68cb111a-dbd7-4c2a-a15f-2580413b11f9\",\"type\":\"Rect\"},\"hover_glyph\":null,\"nonselection_glyph\":null,\"selection_glyph\":null},\"id\":\"f5c5f972-60b9-4428-b3da-13d517ffe273\",\"type\":\"GlyphRenderer\"},{\"attributes\":{\"fill_alpha\":{\"field\":\"fill_alpha\"},\"fill_color\":{\"field\":\"color\"},\"height\":{\"field\":\"height\",\"units\":\"data\"},\"line_color\":{\"field\":\"line_color\"},\"width\":{\"field\":\"width\",\"units\":\"data\"},\"x\":{\"field\":\"x\"},\"y\":{\"field\":\"y\"}},\"id\":\"25aeb56d-bca1-408e-8de3-5212389477e7\",\"type\":\"Rect\"},{\"attributes\":{\"data_source\":{\"id\":\"158a15d6-7ccf-4b94-b519-2b8e87ce8819\",\"type\":\"ColumnDataSource\"},\"glyph\":{\"id\":\"85b4e769-8f5a-43ea-a0b6-68db1c950216\",\"type\":\"Rect\"},\"hover_glyph\":null,\"nonselection_glyph\":null,\"selection_glyph\":null},\"id\":\"0a27ff07-55f9-4c02-aeed-a277d43e3f5d\",\"type\":\"GlyphRenderer\"},{\"attributes\":{\"data_source\":{\"id\":\"87e36032-352b-40e5-a3a2-d332081c1002\",\"type\":\"ColumnDataSource\"},\"glyph\":{\"id\":\"7742c04d-3394-43ca-a479-18a4da0a743b\",\"type\":\"Rect\"},\"hover_glyph\":null,\"nonselection_glyph\":null,\"selection_glyph\":null},\"id\":\"90d5d1ba-81f0-4add-86d4-2180bde6fb5e\",\"type\":\"GlyphRenderer\"},{\"attributes\":{\"active_drag\":\"auto\",\"active_scroll\":\"auto\",\"active_tap\":\"auto\",\"tools\":[{\"id\":\"ad3d35a0-3f1a-4c82-875d-8935d27e4951\",\"type\":\"PanTool\"},{\"id\":\"ed97d6f9-62fb-4ba8-aac0-d4cb8d732da1\",\"type\":\"WheelZoomTool\"},{\"id\":\"aa9cab18-43b6-4b74-beeb-8c4d2345f053\",\"type\":\"BoxZoomTool\"},{\"id\":\"74838ba1-301d-4e33-8992-d4e3a4d5dfda\",\"type\":\"SaveTool\"},{\"id\":\"659d2eb2-b38c-461e-85ea-efde53504ffc\",\"type\":\"ResetTool\"},{\"id\":\"10584f69-2503-45e2-9644-393cdbe05327\",\"type\":\"HelpTool\"}]},\"id\":\"fc5a6441-ac70-4cf3-90ba-6efeabe6b0b3\",\"type\":\"Toolbar\"},{\"attributes\":{\"callback\":null,\"column_names\":[\"label\",\"line_color\",\"height\",\"line_alpha\",\"fill_alpha\",\"width\",\"color\",\"x\",\"y\"],\"data\":{\"chart_index\":[\"(1.632346, 1.715175]\"],\"color\":[\"LightSlateGray\"],\"fill_alpha\":[0.8],\"height\":[10.0],\"label\":[\"(1.632346, 1.715175]\"],\"line_alpha\":[1.0],\"line_color\":[\"black\"],\"width\":[0.08282896775734683],\"x\":[\"1.6737605\"],\"y\":[5.0]}},\"id\":\"3080e062-57b9-4e57-bbf0-27f524d8a144\",\"type\":\"ColumnDataSource\"},{\"attributes\":{\"callback\":null,\"column_names\":[\"label\",\"line_color\",\"height\",\"line_alpha\",\"fill_alpha\",\"width\",\"color\",\"x\",\"y\"],\"data\":{\"chart_index\":[\"(3.703070, 3.785899]\"],\"color\":[\"LightSlateGray\"],\"fill_alpha\":[0.8],\"height\":[5.0],\"label\":[\"(3.703070, 3.785899]\"],\"line_alpha\":[1.0],\"line_color\":[\"black\"],\"width\":[0.08282896775734638],\"x\":[\"3.7444845\"],\"y\":[2.5]}},\"id\":\"507ca533-986d-4641-b97d-c2a7361f97cd\",\"type\":\"ColumnDataSource\"},{\"attributes\":{\"fill_alpha\":{\"field\":\"fill_alpha\"},\"fill_color\":{\"field\":\"color\"},\"height\":{\"field\":\"height\",\"units\":\"data\"},\"line_color\":{\"field\":\"line_color\"},\"width\":{\"field\":\"width\",\"units\":\"data\"},\"x\":{\"field\":\"x\"},\"y\":{\"field\":\"y\"}},\"id\":\"6c9d5b38-5076-48af-911d-8cc8e568bde3\",\"type\":\"Rect\"},{\"attributes\":{\"fill_alpha\":{\"field\":\"fill_alpha\"},\"fill_color\":{\"field\":\"color\"},\"height\":{\"field\":\"height\",\"units\":\"data\"},\"line_color\":{\"field\":\"line_color\"},\"width\":{\"field\":\"width\",\"units\":\"data\"},\"x\":{\"field\":\"x\"},\"y\":{\"field\":\"y\"}},\"id\":\"fcd1e173-9a7d-48a9-b94c-fd61a9714158\",\"type\":\"Rect\"},{\"attributes\":{\"callback\":null,\"column_names\":[\"label\",\"line_color\",\"height\",\"line_alpha\",\"fill_alpha\",\"width\",\"color\",\"x\",\"y\"],\"data\":{\"chart_index\":[\"[1.301030, 1.383859]\"],\"color\":[\"LightSlateGray\"],\"fill_alpha\":[0.8],\"height\":[55.0],\"label\":[\"[1.301030, 1.383859]\"],\"line_alpha\":[1.0],\"line_color\":[\"black\"],\"width\":[0.08282896775734683],\"x\":[\"1.3424445\"],\"y\":[27.5]}},\"id\":\"b8b1ff2a-f519-43b9-bf6b-591a3cbd2dfc\",\"type\":\"ColumnDataSource\"},{\"attributes\":{\"data_source\":{\"id\":\"cc4115ea-82cd-4f96-8436-397c6b709df5\",\"type\":\"ColumnDataSource\"},\"glyph\":{\"id\":\"8ba36a15-fd87-4944-a732-52359b712717\",\"type\":\"Rect\"},\"hover_glyph\":null,\"nonselection_glyph\":null,\"selection_glyph\":null},\"id\":\"38a8a675-00e9-4d99-a005-44fd817fc388\",\"type\":\"GlyphRenderer\"},{\"attributes\":{\"callback\":null,\"column_names\":[\"label\",\"line_color\",\"height\",\"line_alpha\",\"fill_alpha\",\"width\",\"color\",\"x\",\"y\"],\"data\":{\"chart_index\":[\"(2.543465, 2.626293]\"],\"color\":[\"LightSlateGray\"],\"fill_alpha\":[0.8],\"height\":[1.0],\"label\":[\"(2.543465, 2.626293]\"],\"line_alpha\":[1.0],\"line_color\":[\"black\"],\"width\":[0.08282896775734683],\"x\":[\"2.584879\"],\"y\":[0.5]}},\"id\":\"cc4115ea-82cd-4f96-8436-397c6b709df5\",\"type\":\"ColumnDataSource\"},{\"attributes\":{\"fill_alpha\":{\"field\":\"fill_alpha\"},\"fill_color\":{\"field\":\"color\"},\"height\":{\"field\":\"height\",\"units\":\"data\"},\"line_color\":{\"field\":\"line_color\"},\"width\":{\"field\":\"width\",\"units\":\"data\"},\"x\":{\"field\":\"x\"},\"y\":{\"field\":\"y\"}},\"id\":\"eebae35d-c142-4de1-ad15-17d1938b7ef1\",\"type\":\"Rect\"},{\"attributes\":{\"data_source\":{\"id\":\"5e3762d9-572f-4d05-b17c-0f46d175edd1\",\"type\":\"ColumnDataSource\"},\"glyph\":{\"id\":\"4417ad4e-421c-41cd-a036-e404b986f212\",\"type\":\"Rect\"},\"hover_glyph\":null,\"nonselection_glyph\":null,\"selection_glyph\":null},\"id\":\"97d8f811-fe01-4565-8cc5-537a7107792f\",\"type\":\"GlyphRenderer\"},{\"attributes\":{\"fill_alpha\":{\"field\":\"fill_alpha\"},\"fill_color\":{\"field\":\"color\"},\"height\":{\"field\":\"height\",\"units\":\"data\"},\"line_color\":{\"field\":\"line_color\"},\"width\":{\"field\":\"width\",\"units\":\"data\"},\"x\":{\"field\":\"x\"},\"y\":{\"field\":\"y\"}},\"id\":\"b50cbb19-e2df-489c-b4ce-f3da36956ef9\",\"type\":\"Rect\"},{\"attributes\":{\"data_source\":{\"id\":\"739233b9-cb0b-45e4-adc8-23678b95a342\",\"type\":\"ColumnDataSource\"},\"glyph\":{\"id\":\"f7a21694-6ec7-4c89-ad46-30f774fa3faf\",\"type\":\"Rect\"},\"hover_glyph\":null,\"nonselection_glyph\":null,\"selection_glyph\":null},\"id\":\"572ad181-131f-4f0e-9f5f-5a87285bb845\",\"type\":\"GlyphRenderer\"},{\"attributes\":{\"fill_alpha\":{\"field\":\"fill_alpha\"},\"fill_color\":{\"field\":\"color\"},\"height\":{\"field\":\"height\",\"units\":\"data\"},\"line_color\":{\"field\":\"line_color\"},\"width\":{\"field\":\"width\",\"units\":\"data\"},\"x\":{\"field\":\"x\"},\"y\":{\"field\":\"y\"}},\"id\":\"697fbc09-430f-41d1-a0bb-12902f1a4131\",\"type\":\"Rect\"},{\"attributes\":{\"callback\":null,\"column_names\":[\"label\",\"line_color\",\"height\",\"line_alpha\",\"fill_alpha\",\"width\",\"color\",\"x\",\"y\"],\"data\":{\"chart_index\":[\"(3.371754, 3.454583]\"],\"color\":[\"LightSlateGray\"],\"fill_alpha\":[0.8],\"height\":[2.0],\"label\":[\"(3.371754, 3.454583]\"],\"line_alpha\":[1.0],\"line_color\":[\"black\"],\"width\":[0.08282896775734683],\"x\":[\"3.4131685000000003\"],\"y\":[1.0]}},\"id\":\"ad8ea059-d046-49af-b5ec-6e00cbc6db84\",\"type\":\"ColumnDataSource\"},{\"attributes\":{\"fill_alpha\":{\"field\":\"fill_alpha\"},\"fill_color\":{\"field\":\"color\"},\"height\":{\"field\":\"height\",\"units\":\"data\"},\"line_color\":{\"field\":\"line_color\"},\"width\":{\"field\":\"width\",\"units\":\"data\"},\"x\":{\"field\":\"x\"},\"y\":{\"field\":\"y\"}},\"id\":\"1fc14f11-3be2-43c4-b288-89a3a35f09bf\",\"type\":\"Rect\"},{\"attributes\":{\"fill_alpha\":{\"field\":\"fill_alpha\"},\"fill_color\":{\"field\":\"color\"},\"height\":{\"field\":\"height\",\"units\":\"data\"},\"line_color\":{\"field\":\"line_color\"},\"width\":{\"field\":\"width\",\"units\":\"data\"},\"x\":{\"field\":\"x\"},\"y\":{\"field\":\"y\"}},\"id\":\"65fa3704-99c8-4f68-b11e-9964b2538338\",\"type\":\"Rect\"},{\"attributes\":{\"fill_alpha\":{\"field\":\"fill_alpha\"},\"fill_color\":{\"field\":\"color\"},\"height\":{\"field\":\"height\",\"units\":\"data\"},\"line_color\":{\"field\":\"line_color\"},\"width\":{\"field\":\"width\",\"units\":\"data\"},\"x\":{\"field\":\"x\"},\"y\":{\"field\":\"y\"}},\"id\":\"80a6af42-8e87-4938-b4cf-fa42846ef63c\",\"type\":\"Rect\"},{\"attributes\":{},\"id\":\"e757de78-4e01-4889-92d8-a2f92d6af536\",\"type\":\"BasicTickFormatter\"},{\"attributes\":{\"callback\":null,\"column_names\":[\"label\",\"line_color\",\"height\",\"line_alpha\",\"fill_alpha\",\"width\",\"color\",\"x\",\"y\"],\"data\":{\"chart_index\":[\"(3.206096, 3.288925]\"],\"color\":[\"LightSlateGray\"],\"fill_alpha\":[0.8],\"height\":[4.0],\"label\":[\"(3.206096, 3.288925]\"],\"line_alpha\":[1.0],\"line_color\":[\"black\"],\"width\":[0.08282896775734727],\"x\":[\"3.2475104999999997\"],\"y\":[2.0]}},\"id\":\"adcd6e2a-daa2-46d6-b2d8-6be96e807dc9\",\"type\":\"ColumnDataSource\"},{\"attributes\":{\"callback\":null,\"column_names\":[\"label\",\"line_color\",\"height\",\"line_alpha\",\"fill_alpha\",\"width\",\"color\",\"x\",\"y\"],\"data\":{\"chart_index\":[\"(3.040438, 3.123267]\"],\"color\":[\"LightSlateGray\"],\"fill_alpha\":[0.8],\"height\":[1.0],\"label\":[\"(3.040438, 3.123267]\"],\"line_alpha\":[1.0],\"line_color\":[\"black\"],\"width\":[0.08282896775734683],\"x\":[\"3.0818525\"],\"y\":[0.5]}},\"id\":\"ec1d55b5-98b8-48f3-a75b-9aa6b20c283c\",\"type\":\"ColumnDataSource\"},{\"attributes\":{\"callback\":null,\"column_names\":[\"label\",\"line_color\",\"height\",\"line_alpha\",\"fill_alpha\",\"width\",\"color\",\"x\",\"y\"],\"data\":{\"chart_index\":[\"(3.288925, 3.371754]\"],\"color\":[\"LightSlateGray\"],\"fill_alpha\":[0.8],\"height\":[1.0],\"label\":[\"(3.288925, 3.371754]\"],\"line_alpha\":[1.0],\"line_color\":[\"black\"],\"width\":[0.08282896775734638],\"x\":[\"3.3303395\"],\"y\":[0.5]}},\"id\":\"08fd23e9-0712-49fe-ac03-d43227325fd0\",\"type\":\"ColumnDataSource\"},{\"attributes\":{\"fill_alpha\":{\"field\":\"fill_alpha\"},\"fill_color\":{\"field\":\"color\"},\"height\":{\"field\":\"height\",\"units\":\"data\"},\"line_color\":{\"field\":\"line_color\"},\"width\":{\"field\":\"width\",\"units\":\"data\"},\"x\":{\"field\":\"x\"},\"y\":{\"field\":\"y\"}},\"id\":\"ce9295f3-5f68-444b-bdd7-ae2ab78c14c3\",\"type\":\"Rect\"},{\"attributes\":{\"callback\":null,\"column_names\":[\"label\",\"line_color\",\"height\",\"line_alpha\",\"fill_alpha\",\"width\",\"color\",\"x\",\"y\"],\"data\":{\"chart_index\":[\"(2.460636, 2.543465]\"],\"color\":[\"LightSlateGray\"],\"fill_alpha\":[0.8],\"height\":[3.0],\"label\":[\"(2.460636, 2.543465]\"],\"line_alpha\":[1.0],\"line_color\":[\"black\"],\"width\":[0.08282896775734638],\"x\":[\"2.5020505\"],\"y\":[1.5]}},\"id\":\"f98f5e88-0a1a-4a08-92a2-ab35a564ffea\",\"type\":\"ColumnDataSource\"},{\"attributes\":{\"data_source\":{\"id\":\"b8b1ff2a-f519-43b9-bf6b-591a3cbd2dfc\",\"type\":\"ColumnDataSource\"},\"glyph\":{\"id\":\"dd453136-e84e-4ee6-8253-c1315fffd3a8\",\"type\":\"Rect\"},\"hover_glyph\":null,\"nonselection_glyph\":null,\"selection_glyph\":null},\"id\":\"a5508c29-5ae0-446b-957d-e1b15bb5e0a7\",\"type\":\"GlyphRenderer\"},{\"attributes\":{\"fill_alpha\":{\"field\":\"fill_alpha\"},\"fill_color\":{\"field\":\"color\"},\"height\":{\"field\":\"height\",\"units\":\"data\"},\"line_color\":{\"field\":\"line_color\"},\"width\":{\"field\":\"width\",\"units\":\"data\"},\"x\":{\"field\":\"x\"},\"y\":{\"field\":\"y\"}},\"id\":\"d9d3c6e4-a6dc-41e5-814b-d9a22bfc7145\",\"type\":\"Rect\"},{\"attributes\":{\"fill_alpha\":{\"field\":\"fill_alpha\"},\"fill_color\":{\"field\":\"color\"},\"height\":{\"field\":\"height\",\"units\":\"data\"},\"line_color\":{\"field\":\"line_color\"},\"width\":{\"field\":\"width\",\"units\":\"data\"},\"x\":{\"field\":\"x\"},\"y\":{\"field\":\"y\"}},\"id\":\"7c7eed19-63c2-4859-a9ee-9601786028aa\",\"type\":\"Rect\"},{\"attributes\":{\"fill_alpha\":{\"field\":\"fill_alpha\"},\"fill_color\":{\"field\":\"color\"},\"height\":{\"field\":\"height\",\"units\":\"data\"},\"line_color\":{\"field\":\"line_color\"},\"width\":{\"field\":\"width\",\"units\":\"data\"},\"x\":{\"field\":\"x\"},\"y\":{\"field\":\"y\"}},\"id\":\"b05f4a3d-7884-4889-9a1d-9885c2de19d4\",\"type\":\"Rect\"},{\"attributes\":{\"fill_alpha\":{\"field\":\"fill_alpha\"},\"fill_color\":{\"field\":\"color\"},\"height\":{\"field\":\"height\",\"units\":\"data\"},\"line_color\":{\"field\":\"line_color\"},\"width\":{\"field\":\"width\",\"units\":\"data\"},\"x\":{\"field\":\"x\"},\"y\":{\"field\":\"y\"}},\"id\":\"85b4e769-8f5a-43ea-a0b6-68db1c950216\",\"type\":\"Rect\"},{\"attributes\":{\"data_source\":{\"id\":\"2641c656-ba46-4a56-b45e-4a983096d9c5\",\"type\":\"ColumnDataSource\"},\"glyph\":{\"id\":\"70d75486-abe3-485b-ace2-43207b7b9642\",\"type\":\"Rect\"},\"hover_glyph\":null,\"nonselection_glyph\":null,\"selection_glyph\":null},\"id\":\"7b75d5cc-6a22-4fb0-b1f3-6345e91fd464\",\"type\":\"GlyphRenderer\"},{\"attributes\":{\"callback\":null,\"column_names\":[\"label\",\"line_color\",\"height\",\"line_alpha\",\"fill_alpha\",\"width\",\"color\",\"x\",\"y\"],\"data\":{\"chart_index\":[\"(2.129320, 2.212149]\"],\"color\":[\"LightSlateGray\"],\"fill_alpha\":[0.8],\"height\":[2.0],\"label\":[\"(2.129320, 2.212149]\"],\"line_alpha\":[1.0],\"line_color\":[\"black\"],\"width\":[0.08282896775734683],\"x\":[\"2.1707345\"],\"y\":[1.0]}},\"id\":\"71dc2e7c-3c2a-4b23-aabe-a3966655e01f\",\"type\":\"ColumnDataSource\"},{\"attributes\":{\"fill_alpha\":{\"field\":\"fill_alpha\"},\"fill_color\":{\"field\":\"color\"},\"height\":{\"field\":\"height\",\"units\":\"data\"},\"line_color\":{\"field\":\"line_color\"},\"width\":{\"field\":\"width\",\"units\":\"data\"},\"x\":{\"field\":\"x\"},\"y\":{\"field\":\"y\"}},\"id\":\"9e582651-57d2-4fec-ac69-031e20c68268\",\"type\":\"Rect\"},{\"attributes\":{\"callback\":null,\"column_names\":[\"label\",\"line_color\",\"height\",\"line_alpha\",\"fill_alpha\",\"width\",\"color\",\"x\",\"y\"],\"data\":{\"chart_index\":[\"(3.537412, 3.620241]\"],\"color\":[\"LightSlateGray\"],\"fill_alpha\":[0.8],\"height\":[1.0],\"label\":[\"(3.537412, 3.620241]\"],\"line_alpha\":[1.0],\"line_color\":[\"black\"],\"width\":[0.08282896775734683],\"x\":[\"3.5788265\"],\"y\":[0.5]}},\"id\":\"79d235be-f6f8-4346-8a31-03c25a572d66\",\"type\":\"ColumnDataSource\"},{\"attributes\":{\"callback\":null,\"column_names\":[\"label\",\"line_color\",\"height\",\"line_alpha\",\"fill_alpha\",\"width\",\"color\",\"x\",\"y\"],\"data\":{\"chart_index\":[\"(2.377807, 2.460636]\"],\"color\":[\"LightSlateGray\"],\"fill_alpha\":[0.8],\"height\":[3.0],\"label\":[\"(2.377807, 2.460636]\"],\"line_alpha\":[1.0],\"line_color\":[\"black\"],\"width\":[0.08282896775734727],\"x\":[\"2.4192215\"],\"y\":[1.5]}},\"id\":\"0b6b2537-0c97-4e82-aa79-08e6677ee46e\",\"type\":\"ColumnDataSource\"},{\"attributes\":{\"callback\":null,\"column_names\":[\"label\",\"line_color\",\"height\",\"line_alpha\",\"fill_alpha\",\"width\",\"color\",\"x\",\"y\"],\"data\":{\"chart_index\":[\"(2.709122, 2.791951]\"],\"color\":[\"LightSlateGray\"],\"fill_alpha\":[0.8],\"height\":[0.0],\"label\":[\"(2.709122, 2.791951]\"],\"line_alpha\":[1.0],\"line_color\":[\"black\"],\"width\":[0.08282896775734638],\"x\":[\"2.7505365\"],\"y\":[0.0]}},\"id\":\"158a15d6-7ccf-4b94-b519-2b8e87ce8819\",\"type\":\"ColumnDataSource\"},{\"attributes\":{\"plot\":{\"id\":\"1fe378ad-595a-425e-aeb1-ae710fdf372d\",\"subtype\":\"Chart\",\"type\":\"Plot\"}},\"id\":\"ed97d6f9-62fb-4ba8-aac0-d4cb8d732da1\",\"type\":\"WheelZoomTool\"},{\"attributes\":{\"data_source\":{\"id\":\"b08c881c-3df1-47ac-9144-c00af0ad8cbb\",\"type\":\"ColumnDataSource\"},\"glyph\":{\"id\":\"7c7eed19-63c2-4859-a9ee-9601786028aa\",\"type\":\"Rect\"},\"hover_glyph\":null,\"nonselection_glyph\":null,\"selection_glyph\":null},\"id\":\"e88f10a4-cee3-46c0-ad9c-2d6ef0eb697b\",\"type\":\"GlyphRenderer\"},{\"attributes\":{\"callback\":null,\"column_names\":[\"label\",\"line_color\",\"height\",\"line_alpha\",\"fill_alpha\",\"width\",\"color\",\"x\",\"y\"],\"data\":{\"chart_index\":[\"(1.549517, 1.632346]\"],\"color\":[\"LightSlateGray\"],\"fill_alpha\":[0.8],\"height\":[21.0],\"label\":[\"(1.549517, 1.632346]\"],\"line_alpha\":[1.0],\"line_color\":[\"black\"],\"width\":[0.0828289677573466],\"x\":[\"1.5909315\"],\"y\":[10.5]}},\"id\":\"2641c656-ba46-4a56-b45e-4a983096d9c5\",\"type\":\"ColumnDataSource\"},{\"attributes\":{\"callback\":null,\"column_names\":[\"label\",\"line_color\",\"height\",\"line_alpha\",\"fill_alpha\",\"width\",\"color\",\"x\",\"y\"],\"data\":{\"chart_index\":[\"(2.212149, 2.294978]\"],\"color\":[\"LightSlateGray\"],\"fill_alpha\":[0.8],\"height\":[4.0],\"label\":[\"(2.212149, 2.294978]\"],\"line_alpha\":[1.0],\"line_color\":[\"black\"],\"width\":[0.08282896775734683],\"x\":[\"2.2535635000000003\"],\"y\":[2.0]}},\"id\":\"5e3762d9-572f-4d05-b17c-0f46d175edd1\",\"type\":\"ColumnDataSource\"},{\"attributes\":{\"location\":\"top_left\",\"plot\":{\"id\":\"1fe378ad-595a-425e-aeb1-ae710fdf372d\",\"subtype\":\"Chart\",\"type\":\"Plot\"}},\"id\":\"49b0a5c7-b282-479c-9f7c-ed0ef1d69114\",\"type\":\"Legend\"},{\"attributes\":{\"callback\":null,\"end\":3.913072208878673,\"start\":1.1738567911213267},\"id\":\"51a17bdc-baaa-47a2-bf5b-65821c0e0016\",\"type\":\"Range1d\"},{\"attributes\":{\"callback\":null,\"column_names\":[\"label\",\"line_color\",\"height\",\"line_alpha\",\"fill_alpha\",\"width\",\"color\",\"x\",\"y\"],\"data\":{\"chart_index\":[\"(2.874780, 2.957609]\"],\"color\":[\"LightSlateGray\"],\"fill_alpha\":[0.8],\"height\":[2.0],\"label\":[\"(2.874780, 2.957609]\"],\"line_alpha\":[1.0],\"line_color\":[\"black\"],\"width\":[0.08282896775734638],\"x\":[\"2.9161945\"],\"y\":[1.0]}},\"id\":\"739233b9-cb0b-45e4-adc8-23678b95a342\",\"type\":\"ColumnDataSource\"},{\"attributes\":{\"callback\":null,\"column_names\":[\"label\",\"line_color\",\"height\",\"line_alpha\",\"fill_alpha\",\"width\",\"color\",\"x\",\"y\"],\"data\":{\"chart_index\":[\"(2.294978, 2.377807]\"],\"color\":[\"LightSlateGray\"],\"fill_alpha\":[0.8],\"height\":[7.0],\"label\":[\"(2.294978, 2.377807]\"],\"line_alpha\":[1.0],\"line_color\":[\"black\"],\"width\":[0.08282896775734638],\"x\":[\"2.3363924999999997\"],\"y\":[3.5]}},\"id\":\"c46374a2-da85-4657-a8f1-1b804d335484\",\"type\":\"ColumnDataSource\"},{\"attributes\":{\"data_source\":{\"id\":\"adcd6e2a-daa2-46d6-b2d8-6be96e807dc9\",\"type\":\"ColumnDataSource\"},\"glyph\":{\"id\":\"b50cbb19-e2df-489c-b4ce-f3da36956ef9\",\"type\":\"Rect\"},\"hover_glyph\":null,\"nonselection_glyph\":null,\"selection_glyph\":null},\"id\":\"67bf8080-e7a3-4fd6-b026-188d35aa5922\",\"type\":\"GlyphRenderer\"},{\"attributes\":{\"dimension\":1,\"plot\":{\"id\":\"1fe378ad-595a-425e-aeb1-ae710fdf372d\",\"subtype\":\"Chart\",\"type\":\"Plot\"},\"ticker\":{\"id\":\"3b5ff659-06a3-4ccb-837a-587bf3494781\",\"type\":\"BasicTicker\"}},\"id\":\"2ce4fb48-c18d-48ca-903d-f95499b14548\",\"type\":\"Grid\"},{\"attributes\":{\"plot\":{\"id\":\"1fe378ad-595a-425e-aeb1-ae710fdf372d\",\"subtype\":\"Chart\",\"type\":\"Plot\"}},\"id\":\"10584f69-2503-45e2-9644-393cdbe05327\",\"type\":\"HelpTool\"},{\"attributes\":{\"data_source\":{\"id\":\"0b6b2537-0c97-4e82-aa79-08e6677ee46e\",\"type\":\"ColumnDataSource\"},\"glyph\":{\"id\":\"b3c64e4e-d302-4e49-8882-2ad4f1500f7a\",\"type\":\"Rect\"},\"hover_glyph\":null,\"nonselection_glyph\":null,\"selection_glyph\":null},\"id\":\"7827768c-ccc1-4f6b-9bef-948d72baf107\",\"type\":\"GlyphRenderer\"},{\"attributes\":{\"callback\":null,\"end\":60.50000000000001},\"id\":\"69e81c74-044b-4c1f-8bf4-bd61167a9772\",\"type\":\"Range1d\"},{\"attributes\":{\"data_source\":{\"id\":\"ee132326-2510-4a8a-b1cf-1de3319d3505\",\"type\":\"ColumnDataSource\"},\"glyph\":{\"id\":\"73124852-2671-4ec0-8a73-a77624375f88\",\"type\":\"Rect\"},\"hover_glyph\":null,\"nonselection_glyph\":null,\"selection_glyph\":null},\"id\":\"dec95796-fe9f-44dd-b897-3000701cac01\",\"type\":\"GlyphRenderer\"},{\"attributes\":{\"data_source\":{\"id\":\"08fd23e9-0712-49fe-ac03-d43227325fd0\",\"type\":\"ColumnDataSource\"},\"glyph\":{\"id\":\"eebae35d-c142-4de1-ad15-17d1938b7ef1\",\"type\":\"Rect\"},\"hover_glyph\":null,\"nonselection_glyph\":null,\"selection_glyph\":null},\"id\":\"256bf511-b523-4941-bc73-1a70f40885f5\",\"type\":\"GlyphRenderer\"},{\"attributes\":{\"callback\":null,\"column_names\":[\"label\",\"line_color\",\"height\",\"line_alpha\",\"fill_alpha\",\"width\",\"color\",\"x\",\"y\"],\"data\":{\"chart_index\":[\"(1.798004, 1.880833]\"],\"color\":[\"LightSlateGray\"],\"fill_alpha\":[0.8],\"height\":[13.0],\"label\":[\"(1.798004, 1.880833]\"],\"line_alpha\":[1.0],\"line_color\":[\"black\"],\"width\":[0.08282896775734683],\"x\":[\"1.8394184999999998\"],\"y\":[6.5]}},\"id\":\"b08c881c-3df1-47ac-9144-c00af0ad8cbb\",\"type\":\"ColumnDataSource\"},{\"attributes\":{},\"id\":\"f8afdd3a-b1bd-4824-84e5-a14bbe9e5dbf\",\"type\":\"BasicTickFormatter\"},{\"attributes\":{\"callback\":null,\"column_names\":[\"label\",\"line_color\",\"height\",\"line_alpha\",\"fill_alpha\",\"width\",\"color\",\"x\",\"y\"],\"data\":{\"chart_index\":[\"(2.957609, 3.040438]\"],\"color\":[\"LightSlateGray\"],\"fill_alpha\":[0.8],\"height\":[0.0],\"label\":[\"(2.957609, 3.040438]\"],\"line_alpha\":[1.0],\"line_color\":[\"black\"],\"width\":[0.08282896775734683],\"x\":[\"2.9990235\"],\"y\":[0.0]}},\"id\":\"050e8ce6-67da-4558-8079-ccd543d3ff2a\",\"type\":\"ColumnDataSource\"},{\"attributes\":{\"callback\":null,\"column_names\":[\"label\",\"line_color\",\"height\",\"line_alpha\",\"fill_alpha\",\"width\",\"color\",\"x\",\"y\"],\"data\":{\"chart_index\":[\"(2.791951, 2.874780]\"],\"color\":[\"LightSlateGray\"],\"fill_alpha\":[0.8],\"height\":[2.0],\"label\":[\"(2.791951, 2.874780]\"],\"line_alpha\":[1.0],\"line_color\":[\"black\"],\"width\":[0.08282896775734727],\"x\":[\"2.8333655\"],\"y\":[1.0]}},\"id\":\"4f05596f-b2bf-4fc5-aaaa-7e7a41e5d0c7\",\"type\":\"ColumnDataSource\"},{\"attributes\":{\"data_source\":{\"id\":\"5a716822-ccf0-4559-8f27-f69124a7f0b8\",\"type\":\"ColumnDataSource\"},\"glyph\":{\"id\":\"913f2200-3ad4-4fbd-8384-39e5f66727c0\",\"type\":\"Rect\"},\"hover_glyph\":null,\"nonselection_glyph\":null,\"selection_glyph\":null},\"id\":\"3390cb32-9a94-4b44-bdba-cda05824777d\",\"type\":\"GlyphRenderer\"},{\"attributes\":{\"overlay\":{\"id\":\"ebdd1178-0e59-451d-bea7-71b65ddf2c7d\",\"type\":\"BoxAnnotation\"},\"plot\":{\"id\":\"1fe378ad-595a-425e-aeb1-ae710fdf372d\",\"subtype\":\"Chart\",\"type\":\"Plot\"}},\"id\":\"aa9cab18-43b6-4b74-beeb-8c4d2345f053\",\"type\":\"BoxZoomTool\"},{\"attributes\":{\"fill_alpha\":{\"field\":\"fill_alpha\"},\"fill_color\":{\"field\":\"color\"},\"height\":{\"field\":\"height\",\"units\":\"data\"},\"line_color\":{\"field\":\"line_color\"},\"width\":{\"field\":\"width\",\"units\":\"data\"},\"x\":{\"field\":\"x\"},\"y\":{\"field\":\"y\"}},\"id\":\"bace9651-a8fd-42b1-897f-ac2adbaec4da\",\"type\":\"Rect\"},{\"attributes\":{\"callback\":null,\"column_names\":[\"label\",\"line_color\",\"height\",\"line_alpha\",\"fill_alpha\",\"width\",\"color\",\"x\",\"y\"],\"data\":{\"chart_index\":[\"(1.963662, 2.046491]\"],\"color\":[\"LightSlateGray\"],\"fill_alpha\":[0.8],\"height\":[5.0],\"label\":[\"(1.963662, 2.046491]\"],\"line_alpha\":[1.0],\"line_color\":[\"black\"],\"width\":[0.0828289677573466],\"x\":[\"2.0050765\"],\"y\":[2.5]}},\"id\":\"0c36554d-2091-4b1c-9ce2-9c2ff27dfde9\",\"type\":\"ColumnDataSource\"},{\"attributes\":{\"data_source\":{\"id\":\"79d235be-f6f8-4346-8a31-03c25a572d66\",\"type\":\"ColumnDataSource\"},\"glyph\":{\"id\":\"b05f4a3d-7884-4889-9a1d-9885c2de19d4\",\"type\":\"Rect\"},\"hover_glyph\":null,\"nonselection_glyph\":null,\"selection_glyph\":null},\"id\":\"64eccdb9-05f3-4330-83a3-9b61526e96ea\",\"type\":\"GlyphRenderer\"},{\"attributes\":{\"data_source\":{\"id\":\"9b1affda-238f-41c3-bc4c-f87fec87d9af\",\"type\":\"ColumnDataSource\"},\"glyph\":{\"id\":\"ce9295f3-5f68-444b-bdd7-ae2ab78c14c3\",\"type\":\"Rect\"},\"hover_glyph\":null,\"nonselection_glyph\":null,\"selection_glyph\":null},\"id\":\"63943ed0-993b-4ce1-b5c3-5c1d051283dd\",\"type\":\"GlyphRenderer\"},{\"attributes\":{\"axis_label\":\"Frequency\",\"formatter\":{\"id\":\"e757de78-4e01-4889-92d8-a2f92d6af536\",\"type\":\"BasicTickFormatter\"},\"plot\":{\"id\":\"1fe378ad-595a-425e-aeb1-ae710fdf372d\",\"subtype\":\"Chart\",\"type\":\"Plot\"},\"ticker\":{\"id\":\"3b5ff659-06a3-4ccb-837a-587bf3494781\",\"type\":\"BasicTicker\"}},\"id\":\"9a8607cc-4b88-4e4b-ae6b-6b451bf26293\",\"type\":\"LinearAxis\"},{\"attributes\":{\"data_source\":{\"id\":\"c46374a2-da85-4657-a8f1-1b804d335484\",\"type\":\"ColumnDataSource\"},\"glyph\":{\"id\":\"6c9d5b38-5076-48af-911d-8cc8e568bde3\",\"type\":\"Rect\"},\"hover_glyph\":null,\"nonselection_glyph\":null,\"selection_glyph\":null},\"id\":\"5cf1be14-ca3f-4622-80b4-0b5ed6d246d0\",\"type\":\"GlyphRenderer\"},{\"attributes\":{\"callback\":null,\"column_names\":[\"label\",\"line_color\",\"height\",\"line_alpha\",\"fill_alpha\",\"width\",\"color\",\"x\",\"y\"],\"data\":{\"chart_index\":[\"(2.046491, 2.129320]\"],\"color\":[\"LightSlateGray\"],\"fill_alpha\":[0.8],\"height\":[4.0],\"label\":[\"(2.046491, 2.129320]\"],\"line_alpha\":[1.0],\"line_color\":[\"black\"],\"width\":[0.08282896775734683],\"x\":[\"2.0879054999999997\"],\"y\":[2.0]}},\"id\":\"af88490d-9fad-4e2c-8fc1-6944d2553a90\",\"type\":\"ColumnDataSource\"},{\"attributes\":{\"data_source\":{\"id\":\"3080e062-57b9-4e57-bbf0-27f524d8a144\",\"type\":\"ColumnDataSource\"},\"glyph\":{\"id\":\"34b40ec4-d173-4aab-a242-3352468d3b2c\",\"type\":\"Rect\"},\"hover_glyph\":null,\"nonselection_glyph\":null,\"selection_glyph\":null},\"id\":\"d6bab063-b6e5-4cbc-ad6b-3a535f3efced\",\"type\":\"GlyphRenderer\"},{\"attributes\":{\"plot\":{\"id\":\"1fe378ad-595a-425e-aeb1-ae710fdf372d\",\"subtype\":\"Chart\",\"type\":\"Plot\"}},\"id\":\"659d2eb2-b38c-461e-85ea-efde53504ffc\",\"type\":\"ResetTool\"},{\"attributes\":{\"data_source\":{\"id\":\"4f05596f-b2bf-4fc5-aaaa-7e7a41e5d0c7\",\"type\":\"ColumnDataSource\"},\"glyph\":{\"id\":\"d9d3c6e4-a6dc-41e5-814b-d9a22bfc7145\",\"type\":\"Rect\"},\"hover_glyph\":null,\"nonselection_glyph\":null,\"selection_glyph\":null},\"id\":\"7528a951-2fab-4d6f-97ea-26f61e88ef3c\",\"type\":\"GlyphRenderer\"},{\"attributes\":{\"data_source\":{\"id\":\"7f4cb460-2093-4ee5-ac93-7ea72887d656\",\"type\":\"ColumnDataSource\"},\"glyph\":{\"id\":\"fcd1e173-9a7d-48a9-b94c-fd61a9714158\",\"type\":\"Rect\"},\"hover_glyph\":null,\"nonselection_glyph\":null,\"selection_glyph\":null},\"id\":\"8edc5986-77ca-4092-b817-2437e33e7523\",\"type\":\"GlyphRenderer\"},{\"attributes\":{\"fill_alpha\":{\"field\":\"fill_alpha\"},\"fill_color\":{\"field\":\"color\"},\"height\":{\"field\":\"height\",\"units\":\"data\"},\"line_color\":{\"field\":\"line_color\"},\"width\":{\"field\":\"width\",\"units\":\"data\"},\"x\":{\"field\":\"x\"},\"y\":{\"field\":\"y\"}},\"id\":\"6e5a6ad4-30f1-4dbc-97aa-e7b79070c590\",\"type\":\"Rect\"},{\"attributes\":{\"callback\":null,\"column_names\":[\"label\",\"line_color\",\"height\",\"line_alpha\",\"fill_alpha\",\"width\",\"color\",\"x\",\"y\"],\"data\":{\"chart_index\":[\"(2.626293, 2.709122]\"],\"color\":[\"LightSlateGray\"],\"fill_alpha\":[0.8],\"height\":[5.0],\"label\":[\"(2.626293, 2.709122]\"],\"line_alpha\":[1.0],\"line_color\":[\"black\"],\"width\":[0.08282896775734683],\"x\":[\"2.6677074999999997\"],\"y\":[2.5]}},\"id\":\"9b1affda-238f-41c3-bc4c-f87fec87d9af\",\"type\":\"ColumnDataSource\"},{\"attributes\":{\"axis_label\":\"Size(log10)\",\"formatter\":{\"id\":\"f8afdd3a-b1bd-4824-84e5-a14bbe9e5dbf\",\"type\":\"BasicTickFormatter\"},\"plot\":{\"id\":\"1fe378ad-595a-425e-aeb1-ae710fdf372d\",\"subtype\":\"Chart\",\"type\":\"Plot\"},\"ticker\":{\"id\":\"602381e8-2004-45a3-85d2-c1f78246a0d7\",\"type\":\"BasicTicker\"}},\"id\":\"5cc739b5-9bc9-4891-9091-a7a2632c34d7\",\"type\":\"LinearAxis\"},{\"attributes\":{\"data_source\":{\"id\":\"507ca533-986d-4641-b97d-c2a7361f97cd\",\"type\":\"ColumnDataSource\"},\"glyph\":{\"id\":\"b3c080cf-a229-4f69-b516-87518e0fbec1\",\"type\":\"Rect\"},\"hover_glyph\":null,\"nonselection_glyph\":null,\"selection_glyph\":null},\"id\":\"d3bd14c0-d361-4d56-86db-0542b88fed50\",\"type\":\"GlyphRenderer\"},{\"attributes\":{\"fill_alpha\":{\"field\":\"fill_alpha\"},\"fill_color\":{\"field\":\"color\"},\"height\":{\"field\":\"height\",\"units\":\"data\"},\"line_color\":{\"field\":\"line_color\"},\"width\":{\"field\":\"width\",\"units\":\"data\"},\"x\":{\"field\":\"x\"},\"y\":{\"field\":\"y\"}},\"id\":\"70d75486-abe3-485b-ace2-43207b7b9642\",\"type\":\"Rect\"},{\"attributes\":{\"callback\":null,\"column_names\":[\"label\",\"line_color\",\"height\",\"line_alpha\",\"fill_alpha\",\"width\",\"color\",\"x\",\"y\"],\"data\":{\"chart_index\":[\"(1.466688, 1.549517]\"],\"color\":[\"LightSlateGray\"],\"fill_alpha\":[0.8],\"height\":[22.0],\"label\":[\"(1.466688, 1.549517]\"],\"line_alpha\":[1.0],\"line_color\":[\"black\"],\"width\":[0.08282896775734683],\"x\":[\"1.5081025000000001\"],\"y\":[11.0]}},\"id\":\"87e36032-352b-40e5-a3a2-d332081c1002\",\"type\":\"ColumnDataSource\"},{\"attributes\":{},\"id\":\"602381e8-2004-45a3-85d2-c1f78246a0d7\",\"type\":\"BasicTicker\"},{\"attributes\":{\"fill_alpha\":{\"field\":\"fill_alpha\"},\"fill_color\":{\"field\":\"color\"},\"height\":{\"field\":\"height\",\"units\":\"data\"},\"line_color\":{\"field\":\"line_color\"},\"width\":{\"field\":\"width\",\"units\":\"data\"},\"x\":{\"field\":\"x\"},\"y\":{\"field\":\"y\"}},\"id\":\"8ba36a15-fd87-4944-a732-52359b712717\",\"type\":\"Rect\"},{\"attributes\":{\"below\":[{\"id\":\"5cc739b5-9bc9-4891-9091-a7a2632c34d7\",\"type\":\"LinearAxis\"}],\"css_classes\":null,\"left\":[{\"id\":\"9a8607cc-4b88-4e4b-ae6b-6b451bf26293\",\"type\":\"LinearAxis\"}],\"renderers\":[{\"id\":\"ebdd1178-0e59-451d-bea7-71b65ddf2c7d\",\"type\":\"BoxAnnotation\"},{\"id\":\"a5508c29-5ae0-446b-957d-e1b15bb5e0a7\",\"type\":\"GlyphRenderer\"},{\"id\":\"dec95796-fe9f-44dd-b897-3000701cac01\",\"type\":\"GlyphRenderer\"},{\"id\":\"90d5d1ba-81f0-4add-86d4-2180bde6fb5e\",\"type\":\"GlyphRenderer\"},{\"id\":\"7b75d5cc-6a22-4fb0-b1f3-6345e91fd464\",\"type\":\"GlyphRenderer\"},{\"id\":\"d6bab063-b6e5-4cbc-ad6b-3a535f3efced\",\"type\":\"GlyphRenderer\"},{\"id\":\"00178dec-0cc2-48f3-b104-51572338a24b\",\"type\":\"GlyphRenderer\"},{\"id\":\"e88f10a4-cee3-46c0-ad9c-2d6ef0eb697b\",\"type\":\"GlyphRenderer\"},{\"id\":\"3390cb32-9a94-4b44-bdba-cda05824777d\",\"type\":\"GlyphRenderer\"},{\"id\":\"6c58fc7e-eef9-43d2-a6f0-ff3e336edf41\",\"type\":\"GlyphRenderer\"},{\"id\":\"f0176b9c-0685-4e67-940e-184b6df7cbd2\",\"type\":\"GlyphRenderer\"},{\"id\":\"8ba4454d-2c79-4111-8a11-386aa80494f6\",\"type\":\"GlyphRenderer\"},{\"id\":\"97d8f811-fe01-4565-8cc5-537a7107792f\",\"type\":\"GlyphRenderer\"},{\"id\":\"5cf1be14-ca3f-4622-80b4-0b5ed6d246d0\",\"type\":\"GlyphRenderer\"},{\"id\":\"7827768c-ccc1-4f6b-9bef-948d72baf107\",\"type\":\"GlyphRenderer\"},{\"id\":\"9d774106-103e-4abb-b607-05e1a2c4611a\",\"type\":\"GlyphRenderer\"},{\"id\":\"38a8a675-00e9-4d99-a005-44fd817fc388\",\"type\":\"GlyphRenderer\"},{\"id\":\"63943ed0-993b-4ce1-b5c3-5c1d051283dd\",\"type\":\"GlyphRenderer\"},{\"id\":\"0a27ff07-55f9-4c02-aeed-a277d43e3f5d\",\"type\":\"GlyphRenderer\"},{\"id\":\"7528a951-2fab-4d6f-97ea-26f61e88ef3c\",\"type\":\"GlyphRenderer\"},{\"id\":\"572ad181-131f-4f0e-9f5f-5a87285bb845\",\"type\":\"GlyphRenderer\"},{\"id\":\"e2da4003-3ee0-4789-ac9f-f0a014313d41\",\"type\":\"GlyphRenderer\"},{\"id\":\"6a53fab2-af71-485f-b5c1-131d85ed74e8\",\"type\":\"GlyphRenderer\"},{\"id\":\"8edc5986-77ca-4092-b817-2437e33e7523\",\"type\":\"GlyphRenderer\"},{\"id\":\"67bf8080-e7a3-4fd6-b026-188d35aa5922\",\"type\":\"GlyphRenderer\"},{\"id\":\"256bf511-b523-4941-bc73-1a70f40885f5\",\"type\":\"GlyphRenderer\"},{\"id\":\"f5c5f972-60b9-4428-b3da-13d517ffe273\",\"type\":\"GlyphRenderer\"},{\"id\":\"56e5df76-9331-464a-82cd-892f1c9671d1\",\"type\":\"GlyphRenderer\"},{\"id\":\"64eccdb9-05f3-4330-83a3-9b61526e96ea\",\"type\":\"GlyphRenderer\"},{\"id\":\"8349d6c0-2a1e-419d-a187-37e2e3b4bbc5\",\"type\":\"GlyphRenderer\"},{\"id\":\"d3bd14c0-d361-4d56-86db-0542b88fed50\",\"type\":\"GlyphRenderer\"},{\"id\":\"49b0a5c7-b282-479c-9f7c-ed0ef1d69114\",\"type\":\"Legend\"},{\"id\":\"5cc739b5-9bc9-4891-9091-a7a2632c34d7\",\"type\":\"LinearAxis\"},{\"id\":\"9a8607cc-4b88-4e4b-ae6b-6b451bf26293\",\"type\":\"LinearAxis\"},{\"id\":\"2ce4fb48-c18d-48ca-903d-f95499b14548\",\"type\":\"Grid\"}],\"title\":{\"id\":\"6af5dc34-b59e-46b3-b570-1ac0e991a8b7\",\"type\":\"Title\"},\"tool_events\":{\"id\":\"7b00717e-3e8b-490f-a8cc-f493990cd048\",\"type\":\"ToolEvents\"},\"toolbar\":{\"id\":\"fc5a6441-ac70-4cf3-90ba-6efeabe6b0b3\",\"type\":\"Toolbar\"},\"x_mapper_type\":\"auto\",\"x_range\":{\"id\":\"51a17bdc-baaa-47a2-bf5b-65821c0e0016\",\"type\":\"Range1d\"},\"y_mapper_type\":\"auto\",\"y_range\":{\"id\":\"69e81c74-044b-4c1f-8bf4-bd61167a9772\",\"type\":\"Range1d\"}},\"id\":\"1fe378ad-595a-425e-aeb1-ae710fdf372d\",\"subtype\":\"Chart\",\"type\":\"Plot\"},{\"attributes\":{\"data_source\":{\"id\":\"71dc2e7c-3c2a-4b23-aabe-a3966655e01f\",\"type\":\"ColumnDataSource\"},\"glyph\":{\"id\":\"1fc14f11-3be2-43c4-b288-89a3a35f09bf\",\"type\":\"Rect\"},\"hover_glyph\":null,\"nonselection_glyph\":null,\"selection_glyph\":null},\"id\":\"8ba4454d-2c79-4111-8a11-386aa80494f6\",\"type\":\"GlyphRenderer\"},{\"attributes\":{\"callback\":null,\"column_names\":[\"label\",\"line_color\",\"height\",\"line_alpha\",\"fill_alpha\",\"width\",\"color\",\"x\",\"y\"],\"data\":{\"chart_index\":[\"(1.880833, 1.963662]\"],\"color\":[\"LightSlateGray\"],\"fill_alpha\":[0.8],\"height\":[6.0],\"label\":[\"(1.880833, 1.963662]\"],\"line_alpha\":[1.0],\"line_color\":[\"black\"],\"width\":[0.0828289677573466],\"x\":[\"1.9222475\"],\"y\":[3.0]}},\"id\":\"5a716822-ccf0-4559-8f27-f69124a7f0b8\",\"type\":\"ColumnDataSource\"},{\"attributes\":{\"fill_alpha\":{\"field\":\"fill_alpha\"},\"fill_color\":{\"field\":\"color\"},\"height\":{\"field\":\"height\",\"units\":\"data\"},\"line_color\":{\"field\":\"line_color\"},\"width\":{\"field\":\"width\",\"units\":\"data\"},\"x\":{\"field\":\"x\"},\"y\":{\"field\":\"y\"}},\"id\":\"f7a21694-6ec7-4c89-ad46-30f774fa3faf\",\"type\":\"Rect\"},{\"attributes\":{\"fill_alpha\":{\"field\":\"fill_alpha\"},\"fill_color\":{\"field\":\"color\"},\"height\":{\"field\":\"height\",\"units\":\"data\"},\"line_color\":{\"field\":\"line_color\"},\"width\":{\"field\":\"width\",\"units\":\"data\"},\"x\":{\"field\":\"x\"},\"y\":{\"field\":\"y\"}},\"id\":\"73124852-2671-4ec0-8a73-a77624375f88\",\"type\":\"Rect\"},{\"attributes\":{\"fill_alpha\":{\"field\":\"fill_alpha\"},\"fill_color\":{\"field\":\"color\"},\"height\":{\"field\":\"height\",\"units\":\"data\"},\"line_color\":{\"field\":\"line_color\"},\"width\":{\"field\":\"width\",\"units\":\"data\"},\"x\":{\"field\":\"x\"},\"y\":{\"field\":\"y\"}},\"id\":\"7742c04d-3394-43ca-a479-18a4da0a743b\",\"type\":\"Rect\"},{\"attributes\":{\"callback\":null,\"column_names\":[\"label\",\"line_color\",\"height\",\"line_alpha\",\"fill_alpha\",\"width\",\"color\",\"x\",\"y\"],\"data\":{\"chart_index\":[\"(3.454583, 3.537412]\"],\"color\":[\"LightSlateGray\"],\"fill_alpha\":[0.8],\"height\":[0.0],\"label\":[\"(3.454583, 3.537412]\"],\"line_alpha\":[1.0],\"line_color\":[\"black\"],\"width\":[0.08282896775734683],\"x\":[\"3.4959974999999996\"],\"y\":[0.0]}},\"id\":\"5fb23394-afd2-44c9-a440-56121d933ab9\",\"type\":\"ColumnDataSource\"},{\"attributes\":{},\"id\":\"7b00717e-3e8b-490f-a8cc-f493990cd048\",\"type\":\"ToolEvents\"}],\"root_ids\":[\"1fe378ad-595a-425e-aeb1-ae710fdf372d\"]},\"title\":\"Bokeh Application\",\"version\":\"0.12.4\"}};\n",
       "            var render_items = [{\"docid\":\"4a9761ce-e94f-4478-9262-907cad987f98\",\"elementid\":\"23971554-b289-45c5-b860-dc7aed8029cf\",\"modelid\":\"1fe378ad-595a-425e-aeb1-ae710fdf372d\"}];\n",
       "            \n",
       "            Bokeh.embed.embed_items(docs_json, render_items);\n",
       "          };\n",
       "          if (document.readyState != \"loading\") fn();\n",
       "          else document.addEventListener(\"DOMContentLoaded\", fn);\n",
       "        })();\n",
       "      },\n",
       "      function(Bokeh) {\n",
       "      }\n",
       "    ];\n",
       "  \n",
       "    function run_inline_js() {\n",
       "      \n",
       "      if ((window.Bokeh !== undefined) || (force === true)) {\n",
       "        for (var i = 0; i < inline_js.length; i++) {\n",
       "          inline_js[i](window.Bokeh);\n",
       "        }if (force === true) {\n",
       "          display_loaded();\n",
       "        }} else if (Date.now() < window._bokeh_timeout) {\n",
       "        setTimeout(run_inline_js, 100);\n",
       "      } else if (!window._bokeh_failed_load) {\n",
       "        console.log(\"Bokeh: BokehJS failed to load within specified timeout.\");\n",
       "        window._bokeh_failed_load = true;\n",
       "      } else if (force !== true) {\n",
       "        var cell = $(document.getElementById(\"23971554-b289-45c5-b860-dc7aed8029cf\")).parents('.cell').data().cell;\n",
       "        cell.output_area.append_execute_result(NB_LOAD_WARNING)\n",
       "      }\n",
       "  \n",
       "    }\n",
       "  \n",
       "    if (window._bokeh_is_loading === 0) {\n",
       "      console.log(\"Bokeh: BokehJS loaded, going straight to plotting\");\n",
       "      run_inline_js();\n",
       "    } else {\n",
       "      load_libs(js_urls, function() {\n",
       "        console.log(\"Bokeh: BokehJS plotting callback run at\", now());\n",
       "        run_inline_js();\n",
       "      });\n",
       "    }\n",
       "  }(this));\n",
       "</script>"
      ]
     },
     "metadata": {},
     "output_type": "display_data"
    }
   ],
   "source": [
    "# Plot the counts of each predicted probability for Het Var events\n",
    "p = figure()\n",
    "p = Histogram(X_hetVar_least, values='Size_Log', title='Heterozygous Variant: Predict Proba < 0.3', color='LightSlateGray', bins=30, xlabel=\"Size(log10)\", ylabel=\"Frequency\")\n",
    "output_file(\"250bp_HetVar_PredProb0.3-.html\")\n",
    "show(p)"
   ]
  },
  {
   "cell_type": "code",
   "execution_count": null,
   "metadata": {
    "collapsed": true
   },
   "outputs": [],
   "source": []
  },
  {
   "cell_type": "code",
   "execution_count": null,
   "metadata": {
    "collapsed": true
   },
   "outputs": [],
   "source": []
  },
  {
   "cell_type": "markdown",
   "metadata": {},
   "source": [
    "**TODO**\n",
    "\n",
    "[Feature Importance](http://scikit-learn.org/stable/auto_examples/ensemble/plot_forest_importances.html)"
   ]
  },
  {
   "cell_type": "code",
   "execution_count": null,
   "metadata": {
    "collapsed": true
   },
   "outputs": [],
   "source": []
  }
 ],
 "metadata": {
  "kernelspec": {
   "display_name": "Python [NIHFAES]",
   "language": "python",
   "name": "Python [NIHFAES]"
  },
  "language_info": {
   "codemirror_mode": {
    "name": "ipython",
    "version": 3
   },
   "file_extension": ".py",
   "mimetype": "text/x-python",
   "name": "python",
   "nbconvert_exporter": "python",
   "pygments_lexer": "ipython3",
   "version": "3.5.2"
  }
 },
 "nbformat": 4,
 "nbformat_minor": 2
}
