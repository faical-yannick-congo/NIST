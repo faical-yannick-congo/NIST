{
 "cells": [
  {
   "cell_type": "markdown",
   "metadata": {},
   "source": [
    "**Desription**:\n",
    "    \n",
    "250bp \n",
    "\n",
    "**NOTE:** CrowdVar Size Range\n",
    "\n",
    "The following notebook is a revised version of the [Crowdvariant analysis notebook](https://github.com/lesleymaraina/NIST/blob/master/Notebooks/CrowdVariant_Analysis/CrowdVariantAnalysis%20-%20Machine%20Learning%5BAll%20Technologies%5D.ipynb). \n",
    "\n",
    "In the first part of this notebook, a random forest classifier was trained on crowdsourced[CrowdVariant](https://github.com/lesleymaraina/NIST/blob/master/Notebooks/CrowdVariant_Analysis/CrowdVariantAnalysis%20-%20Data%20Collection.ipynb) data for HG002 Deletions. \n",
    "\n",
    "In the second part of this notebook, the trained randfom forest classifier is then used to predict labels for a new set of randomly selected HG002 Deletions."
   ]
  },
  {
   "cell_type": "code",
   "execution_count": 53,
   "metadata": {},
   "outputs": [],
   "source": [
    "\"\"\"\n",
    "Imports\n",
    "\"\"\"\n",
    "import pandas as pd\n",
    "import numpy as np\n",
    "from fancyimpute import KNN\n",
    "import matplotlib.pyplot as plt\n",
    "from sklearn import preprocessing\n",
    "from sklearn.preprocessing import LabelEncoder\n",
    "from sklearn.model_selection import LeaveOneOut\n",
    "from scipy.stats import ks_2samp\n",
    "from scipy import stats\n",
    "from matplotlib import pyplot\n",
    "from sklearn import preprocessing\n",
    "from scipy.linalg import svd\n",
    "from sklearn.decomposition import TruncatedSVD\n",
    "from sklearn.ensemble import RandomForestClassifier\n",
    "from sklearn.metrics import roc_auc_score\n",
    "import seaborn as sns\n",
    "from sklearn.manifold import TSNE\n",
    "from sklearn.decomposition import PCA as sklearnPCA\n",
    "import plotly.plotly as py\n",
    "from sklearn.cluster import DBSCAN\n",
    "from sklearn.model_selection import train_test_split\n",
    "from sklearn import metrics\n",
    "from sklearn.grid_search import GridSearchCV\n",
    "from sklearn.metrics import f1_score, precision_score\n",
    "from sklearn import preprocessing\n",
    "from ggplot import *\n",
    "from bokeh.charts import TimeSeries\n",
    "from bokeh.models import HoverTool\n",
    "from bokeh.plotting import show\n",
    "from bokeh.charts import Scatter, Histogram, output_file, show\n",
    "from bokeh.plotting import figure, show, output_file, ColumnDataSource\n",
    "from bokeh.io import output_notebook\n",
    "from bokeh.charts import Bar, output_file, show\n",
    "import bokeh.palettes as palettes\n",
    "from bokeh.models import HoverTool, BoxSelectTool, Legend\n",
    "from sklearn import (manifold, datasets, decomposition, ensemble,\n",
    "                     discriminant_analysis, random_projection)"
   ]
  },
  {
   "cell_type": "markdown",
   "metadata": {},
   "source": [
    "***\n",
    "Load Data\n",
    "***\n",
    "Restructure features so that the training dataset and prediction dataset have all of the same features"
   ]
  },
  {
   "cell_type": "code",
   "execution_count": 60,
   "metadata": {
    "collapsed": true
   },
   "outputs": [],
   "source": [
    "### Import Data\n",
    "df_crowd = pd.read_csv('/Users/lmc2/NIST/Notebooks/CrowdVariant/tech_sep/crowd_var/CrowdVar_250bp.csv')\n",
    "### Copy data in new dataframe as a later reference\n",
    "df_crowd_2 = pd.read_csv('/Users/lmc2/NIST/Notebooks/CrowdVariant/tech_sep/crowd_var/CrowdVar_250bp.csv')"
   ]
  },
  {
   "cell_type": "code",
   "execution_count": 61,
   "metadata": {},
   "outputs": [
    {
     "data": {
      "text/html": [
       "<div>\n",
       "<table border=\"1\" class=\"dataframe\">\n",
       "  <thead>\n",
       "    <tr style=\"text-align: right;\">\n",
       "      <th></th>\n",
       "      <th>chrom</th>\n",
       "      <th>start</th>\n",
       "      <th>end</th>\n",
       "      <th>sample</th>\n",
       "      <th>Ill250.alt_alnScore_mean</th>\n",
       "      <th>Ill250.alt_alnScore_std</th>\n",
       "      <th>Ill250.alt_count</th>\n",
       "      <th>Ill250.alt_insertSize_mean</th>\n",
       "      <th>Ill250.alt_insertSize_std</th>\n",
       "      <th>Ill250.alt_reason_alignmentScore</th>\n",
       "      <th>...</th>\n",
       "      <th>tandemrep_cnt</th>\n",
       "      <th>tandemrep_pct</th>\n",
       "      <th>segdup_cnt</th>\n",
       "      <th>segdup_pct</th>\n",
       "      <th>refN_cnt</th>\n",
       "      <th>refN_pct</th>\n",
       "      <th>Label</th>\n",
       "      <th>CN0_prob</th>\n",
       "      <th>CN1_prob</th>\n",
       "      <th>CN2_prob</th>\n",
       "    </tr>\n",
       "  </thead>\n",
       "  <tbody>\n",
       "    <tr>\n",
       "      <th>0</th>\n",
       "      <td>1</td>\n",
       "      <td>187464828</td>\n",
       "      <td>187466479</td>\n",
       "      <td>HG002</td>\n",
       "      <td>0.0</td>\n",
       "      <td>0.000000</td>\n",
       "      <td>0</td>\n",
       "      <td>0.0</td>\n",
       "      <td>0.000000</td>\n",
       "      <td>0</td>\n",
       "      <td>...</td>\n",
       "      <td>8</td>\n",
       "      <td>0.096911</td>\n",
       "      <td>0</td>\n",
       "      <td>0.0</td>\n",
       "      <td>0</td>\n",
       "      <td>0</td>\n",
       "      <td>1</td>\n",
       "      <td>0.00</td>\n",
       "      <td>0.91</td>\n",
       "      <td>0.09</td>\n",
       "    </tr>\n",
       "    <tr>\n",
       "      <th>1</th>\n",
       "      <td>1</td>\n",
       "      <td>33156824</td>\n",
       "      <td>33157000</td>\n",
       "      <td>HG002</td>\n",
       "      <td>887.0</td>\n",
       "      <td>44.298984</td>\n",
       "      <td>5</td>\n",
       "      <td>356.4</td>\n",
       "      <td>73.499932</td>\n",
       "      <td>4</td>\n",
       "      <td>...</td>\n",
       "      <td>2</td>\n",
       "      <td>0.221591</td>\n",
       "      <td>0</td>\n",
       "      <td>0.0</td>\n",
       "      <td>0</td>\n",
       "      <td>0</td>\n",
       "      <td>1</td>\n",
       "      <td>0.04</td>\n",
       "      <td>0.91</td>\n",
       "      <td>0.05</td>\n",
       "    </tr>\n",
       "    <tr>\n",
       "      <th>2</th>\n",
       "      <td>1</td>\n",
       "      <td>53594099</td>\n",
       "      <td>53595428</td>\n",
       "      <td>HG002</td>\n",
       "      <td>912.2</td>\n",
       "      <td>40.041978</td>\n",
       "      <td>5</td>\n",
       "      <td>381.2</td>\n",
       "      <td>67.957045</td>\n",
       "      <td>5</td>\n",
       "      <td>...</td>\n",
       "      <td>3</td>\n",
       "      <td>0.059443</td>\n",
       "      <td>0</td>\n",
       "      <td>0.0</td>\n",
       "      <td>0</td>\n",
       "      <td>0</td>\n",
       "      <td>0</td>\n",
       "      <td>0.96</td>\n",
       "      <td>0.04</td>\n",
       "      <td>0.00</td>\n",
       "    </tr>\n",
       "  </tbody>\n",
       "</table>\n",
       "<p>3 rows × 48 columns</p>\n",
       "</div>"
      ],
      "text/plain": [
       "   chrom      start        end sample  Ill250.alt_alnScore_mean  \\\n",
       "0      1  187464828  187466479  HG002                       0.0   \n",
       "1      1   33156824   33157000  HG002                     887.0   \n",
       "2      1   53594099   53595428  HG002                     912.2   \n",
       "\n",
       "   Ill250.alt_alnScore_std  Ill250.alt_count  Ill250.alt_insertSize_mean  \\\n",
       "0                 0.000000                 0                         0.0   \n",
       "1                44.298984                 5                       356.4   \n",
       "2                40.041978                 5                       381.2   \n",
       "\n",
       "   Ill250.alt_insertSize_std  Ill250.alt_reason_alignmentScore    ...     \\\n",
       "0                   0.000000                                 0    ...      \n",
       "1                  73.499932                                 4    ...      \n",
       "2                  67.957045                                 5    ...      \n",
       "\n",
       "   tandemrep_cnt  tandemrep_pct  segdup_cnt  segdup_pct  refN_cnt  refN_pct  \\\n",
       "0              8       0.096911           0         0.0         0         0   \n",
       "1              2       0.221591           0         0.0         0         0   \n",
       "2              3       0.059443           0         0.0         0         0   \n",
       "\n",
       "   Label  CN0_prob  CN1_prob  CN2_prob  \n",
       "0      1      0.00      0.91      0.09  \n",
       "1      1      0.04      0.91      0.05  \n",
       "2      0      0.96      0.04      0.00  \n",
       "\n",
       "[3 rows x 48 columns]"
      ]
     },
     "execution_count": 61,
     "metadata": {},
     "output_type": "execute_result"
    }
   ],
   "source": [
    "df_crowd.head(3)"
   ]
  },
  {
   "cell_type": "code",
   "execution_count": 115,
   "metadata": {
    "collapsed": true
   },
   "outputs": [],
   "source": [
    "# Read in HG002 DEL dataframe\n",
    "HG002_pred = pd.read_csv('/Users/lmc2/NIST/Notebooks/CrowdVariant/tech_sep/svviz/svviz_250bp.csv')\n",
    "HG002_pred_2 = pd.read_csv('/Users/lmc2/NIST/Notebooks/CrowdVariant/tech_sep/svviz/svviz_250bp.csv')"
   ]
  },
  {
   "cell_type": "code",
   "execution_count": 69,
   "metadata": {},
   "outputs": [
    {
     "data": {
      "text/plain": [
       "{'Label'}"
      ]
     },
     "execution_count": 69,
     "metadata": {},
     "output_type": "execute_result"
    }
   ],
   "source": [
    "# Store header names in lists and find names that are NOT contained in BOTH lists\n",
    "c = list(df_crowd.columns.values)\n",
    "d = list(HG002_pred.columns.values)\n",
    "set(c) - set(d)"
   ]
  },
  {
   "cell_type": "code",
   "execution_count": 64,
   "metadata": {
    "collapsed": true
   },
   "outputs": [],
   "source": [
    "# a = ['chrom','start','end','sample','Ill300x.alt_alnScore_mean','Ill300x.alt_alnScore_std','Ill300x.alt_count','Ill300x.alt_insertSize_mean','Ill300x.alt_insertSize_std','Ill300x.alt_reason_alignmentScore','Ill300x.alt_reason_insertSizeScore','Ill300x.alt_reason_orientation','Ill300x.amb_alnScore_mean','Ill300x.amb_alnScore_std','Ill300x.amb_count','Ill300x.amb_insertSize_mean','Ill300x.amb_insertSize_std','Ill300x.amb_reason_alignmentScore_alignmentScore','Ill300x.amb_reason_alignmentScore_orientation','Ill300x.amb_reason_flanking','Ill300x.amb_reason_insertSizeScore_alignmentScore','Ill300x.amb_reason_insertSizeScore_insertSizeScore','Ill300x.amb_reason_multimapping','Ill300x.amb_reason_orientation_alignmentScore','Ill300x.amb_reason_orientation_orientation','Ill300x.amb_reason_same_scores','Ill300x.ref_alnScore_mean','Ill300x.ref_alnScore_std','Ill300x.ref_count','Ill300x.ref_insertSize_mean','Ill300x.ref_insertSize_std','Ill300x.ref_reason_alignmentScore','Ill300x.ref_reason_insertSizeScore','Ill300x.ref_reason_orientation','Ill300x.GT','Ill250.alt_alnScore_mean','Ill250.alt_alnScore_std','Ill250.alt_count','Ill250.alt_insertSize_mean','Ill250.alt_insertSize_std','Ill250.alt_reason_alignmentScore','Ill250.alt_reason_insertSizeScore','Ill250.alt_reason_orientation','Ill250.amb_alnScore_mean','Ill250.amb_alnScore_std','Ill250.amb_count','Ill250.amb_insertSize_mean','Ill250.amb_insertSize_std','Ill250.amb_reason_alignmentScore_alignmentScore','Ill250.amb_reason_alignmentScore_orientation','Ill250.amb_reason_flanking','Ill250.amb_reason_insertSizeScore_alignmentScore','Ill250.amb_reason_insertSizeScore_insertSizeScore','Ill250.amb_reason_multimapping','Ill250.amb_reason_orientation_alignmentScore','Ill250.amb_reason_orientation_orientation','Ill250.amb_reason_same_scores','Ill250.ref_alnScore_mean','Ill250.ref_alnScore_std','Ill250.ref_count','Ill250.ref_insertSize_mean','Ill250.ref_insertSize_std','Ill250.ref_reason_alignmentScore','Ill250.ref_reason_orientation','Ill250.GT','IllMP.alt_alnScore_mean','IllMP.alt_alnScore_std','IllMP.alt_count','IllMP.alt_insertSize_mean','IllMP.alt_insertSize_std','IllMP.alt_reason_alignmentScore','IllMP.alt_reason_insertSizeScore','IllMP.alt_reason_orientation','IllMP.amb_alnScore_mean','IllMP.amb_alnScore_std','IllMP.amb_count','IllMP.amb_insertSize_mean','IllMP.amb_insertSize_std','IllMP.amb_reason_alignmentScore_alignmentScore','IllMP.amb_reason_alignmentScore_orientation','IllMP.amb_reason_flanking','IllMP.amb_reason_insertSizeScore_insertSizeScore','IllMP.amb_reason_multimapping','IllMP.amb_reason_orientation_alignmentScore','IllMP.amb_reason_orientation_orientation','IllMP.amb_reason_same_scores','IllMP.ref_alnScore_mean','IllMP.ref_alnScore_std','IllMP.ref_count','IllMP.ref_insertSize_mean','IllMP.ref_insertSize_std','IllMP.ref_reason_alignmentScore','IllMP.ref_reason_insertSizeScore','IllMP.ref_reason_orientation','IllMP.GT','pacbio.alt_alnScore_mean','pacbio.alt_alnScore_std','pacbio.alt_count','pacbio.alt_insertSize_mean','pacbio.alt_insertSize_std','pacbio.alt_reason_alignmentScore','pacbio.amb_alnScore_mean','pacbio.amb_alnScore_std','pacbio.amb_count','pacbio.amb_insertSize_mean','pacbio.amb_insertSize_std','pacbio.amb_reason_alignmentScore_alignmentScore','pacbio.amb_reason_flanking','pacbio.amb_reason_multimapping','pacbio.amb_reason_same_scores','pacbio.ref_alnScore_mean','pacbio.ref_alnScore_std','pacbio.ref_count','pacbio.ref_insertSize_mean','pacbio.ref_insertSize_std','pacbio.ref_reason_alignmentScore','pacbio.GT','TenX.HP1_alt_alnScore_mean','TenX.HP1_alt_alnScore_std','TenX.HP1_alt_count','TenX.HP1_alt_insertSize_mean','TenX.HP1_alt_insertSize_std','TenX.HP1_alt_reason_alignmentScore','TenX.HP1_alt_reason_insertSizeScore','TenX.HP1_alt_reason_orientation','TenX.HP1_amb_alnScore_mean','TenX.HP1_amb_alnScore_std','TenX.HP1_amb_count','TenX.HP1_amb_insertSize_mean','TenX.HP1_amb_insertSize_std','TenX.HP1_amb_reason_alignmentScore_alignmentScore','TenX.HP1_amb_reason_alignmentScore_orientation','TenX.HP1_amb_reason_flanking','TenX.HP1_amb_reason_insertSizeScore_alignmentScore','TenX.HP1_amb_reason_multimapping','TenX.HP1_amb_reason_orientation_alignmentScore','TenX.HP1_amb_reason_orientation_orientation','TenX.HP1_amb_reason_same_scores','TenX.HP1_ref_alnScore_mean','TenX.HP1_ref_alnScore_std','TenX.HP1_ref_count','TenX.HP1_ref_insertSize_mean','TenX.HP1_ref_insertSize_std','TenX.HP1_ref_reason_alignmentScore','TenX.HP1_ref_reason_orientation','TenX.HP2_alt_alnScore_mean','TenX.HP2_alt_alnScore_std','TenX.HP2_alt_count','TenX.HP2_alt_insertSize_mean','TenX.HP2_alt_insertSize_std','TenX.HP2_alt_reason_alignmentScore','TenX.HP2_alt_reason_insertSizeScore','TenX.HP2_alt_reason_orientation','TenX.HP2_amb_alnScore_mean','TenX.HP2_amb_alnScore_std','TenX.HP2_amb_count','TenX.HP2_amb_insertSize_mean','TenX.HP2_amb_insertSize_std','TenX.HP2_amb_reason_alignmentScore_alignmentScore','TenX.HP2_amb_reason_alignmentScore_orientation','TenX.HP2_amb_reason_flanking','TenX.HP2_amb_reason_insertSizeScore_alignmentScore','TenX.HP2_amb_reason_multimapping','TenX.HP2_amb_reason_orientation_alignmentScore','TenX.HP2_amb_reason_orientation_orientation','TenX.HP2_amb_reason_same_scores','TenX.HP2_ref_alnScore_mean','TenX.HP2_ref_alnScore_std','TenX.HP2_ref_count','TenX.HP2_ref_insertSize_mean','TenX.HP2_ref_insertSize_std','TenX.HP2_ref_reason_alignmentScore','TenX.HP2_ref_reason_orientation','TenX.GT','size','GTcons','GTconflict','GTsupp','tandemrep_cnt','tandemrep_pct','segdup_cnt','segdup_pct','refN_cnt','refN_pct','Label','CN0_prob','CN1_prob','CN2_prob']\n",
    "# b = ['chrom','start','end','sample','id','type','SVtype','Size','Ill300x.alt_alnScore_mean','Ill300x.alt_alnScore_std','Ill300x.alt_count','Ill300x.alt_insertSize_mean','Ill300x.alt_insertSize_std','Ill300x.alt_reason_alignmentScore','Ill300x.alt_reason_insertSizeScore','Ill300x.alt_reason_orientation','Ill300x.amb_alnScore_mean','Ill300x.amb_alnScore_std','Ill300x.amb_count','Ill300x.amb_insertSize_mean','Ill300x.amb_insertSize_std','Ill300x.amb_reason_alignmentScore_alignmentScore','Ill300x.amb_reason_alignmentScore_orientation','Ill300x.amb_reason_flanking','Ill300x.amb_reason_insertSizeScore_alignmentScore','Ill300x.amb_reason_insertSizeScore_insertSizeScore','Ill300x.amb_reason_insertSizeScore_orientation','Ill300x.amb_reason_multimapping','Ill300x.amb_reason_orientation_alignmentScore','Ill300x.amb_reason_orientation_orientation','Ill300x.amb_reason_same_scores','Ill300x.ref_alnScore_mean','Ill300x.ref_alnScore_std','Ill300x.ref_count','Ill300x.ref_insertSize_mean','Ill300x.ref_insertSize_std','Ill300x.ref_reason_alignmentScore','Ill300x.ref_reason_insertSizeScore','Ill300x.ref_reason_orientation','Ill300x.GT','Ill250.alt_alnScore_mean','Ill250.alt_alnScore_std','Ill250.alt_count','Ill250.alt_insertSize_mean','Ill250.alt_insertSize_std','Ill250.alt_reason_alignmentScore','Ill250.alt_reason_insertSizeScore','Ill250.alt_reason_orientation','Ill250.amb_alnScore_mean','Ill250.amb_alnScore_std','Ill250.amb_count','Ill250.amb_insertSize_mean','Ill250.amb_insertSize_std','Ill250.amb_reason_alignmentScore_alignmentScore','Ill250.amb_reason_alignmentScore_orientation','Ill250.amb_reason_flanking','Ill250.amb_reason_insertSizeScore_alignmentScore','Ill250.amb_reason_multimapping','Ill250.amb_reason_orientation_alignmentScore','Ill250.amb_reason_orientation_orientation','Ill250.amb_reason_same_scores','Ill250.ref_alnScore_mean','Ill250.ref_alnScore_std','Ill250.ref_count','Ill250.ref_insertSize_mean','Ill250.ref_insertSize_std','Ill250.ref_reason_alignmentScore','Ill250.ref_reason_orientation','Ill250.GT','IllMP.alt_alnScore_mean','IllMP.alt_alnScore_std','IllMP.alt_count','IllMP.alt_insertSize_mean','IllMP.alt_insertSize_std','IllMP.alt_reason_alignmentScore','IllMP.alt_reason_insertSizeScore','IllMP.alt_reason_orientation','IllMP.amb_alnScore_mean','IllMP.amb_alnScore_std','IllMP.amb_count','IllMP.amb_insertSize_mean','IllMP.amb_insertSize_std','IllMP.amb_reason_alignmentScore_alignmentScore','IllMP.amb_reason_alignmentScore_orientation','IllMP.amb_reason_flanking','IllMP.amb_reason_insertSizeScore_alignmentScore','IllMP.amb_reason_insertSizeScore_insertSizeScore','IllMP.amb_reason_multimapping','IllMP.amb_reason_orientation_alignmentScore','IllMP.amb_reason_orientation_orientation','IllMP.amb_reason_same_scores','IllMP.ref_alnScore_mean','IllMP.ref_alnScore_std','IllMP.ref_count','IllMP.ref_insertSize_mean','IllMP.ref_insertSize_std','IllMP.ref_reason_alignmentScore','IllMP.ref_reason_insertSizeScore','IllMP.ref_reason_orientation','IllMP.GT','TenX.HP1_alt_alnScore_mean','TenX.HP1_alt_alnScore_std','TenX.HP1_alt_count','TenX.HP1_alt_insertSize_mean','TenX.HP1_alt_insertSize_std','TenX.HP1_alt_reason_alignmentScore','TenX.HP1_alt_reason_insertSizeScore','TenX.HP1_alt_reason_orientation','TenX.HP1_amb_alnScore_mean','TenX.HP1_amb_alnScore_std','TenX.HP1_amb_count','TenX.HP1_amb_insertSize_mean','TenX.HP1_amb_insertSize_std','TenX.HP1_amb_reason_alignmentScore_alignmentScore','TenX.HP1_amb_reason_alignmentScore_orientation','TenX.HP1_amb_reason_flanking','TenX.HP1_amb_reason_insertSizeScore_alignmentScore','TenX.HP1_amb_reason_insertSizeScore_insertSizeScore','TenX.HP1_amb_reason_multimapping','TenX.HP1_amb_reason_orientation_alignmentScore','TenX.HP1_amb_reason_orientation_orientation','TenX.HP1_amb_reason_same_scores','TenX.HP1_ref_alnScore_mean','TenX.HP1_ref_alnScore_std','TenX.HP1_ref_count','TenX.HP1_ref_insertSize_mean','TenX.HP1_ref_insertSize_std','TenX.HP1_ref_reason_alignmentScore','TenX.HP1_ref_reason_insertSizeScore','TenX.HP1_ref_reason_orientation','TenX.HP2_alt_alnScore_mean','TenX.HP2_alt_alnScore_std','TenX.HP2_alt_count','TenX.HP2_alt_insertSize_mean','TenX.HP2_alt_insertSize_std','TenX.HP2_alt_reason_alignmentScore','TenX.HP2_alt_reason_insertSizeScore','TenX.HP2_alt_reason_orientation','TenX.HP2_amb_alnScore_mean','TenX.HP2_amb_alnScore_std','TenX.HP2_amb_count','TenX.HP2_amb_insertSize_mean','TenX.HP2_amb_insertSize_std','TenX.HP2_amb_reason_alignmentScore_alignmentScore','TenX.HP2_amb_reason_alignmentScore_orientation','TenX.HP2_amb_reason_flanking','TenX.HP2_amb_reason_insertSizeScore_alignmentScore','TenX.HP2_amb_reason_insertSizeScore_insertSizeScore','TenX.HP2_amb_reason_multimapping','TenX.HP2_amb_reason_orientation_alignmentScore','TenX.HP2_amb_reason_orientation_insertSizeScore','TenX.HP2_amb_reason_orientation_orientation','TenX.HP2_amb_reason_same_scores','TenX.HP2_ref_alnScore_mean','TenX.HP2_ref_alnScore_std','TenX.HP2_ref_count','TenX.HP2_ref_insertSize_mean','TenX.HP2_ref_insertSize_std','TenX.HP2_ref_reason_alignmentScore','TenX.HP2_ref_reason_orientation','TenX.GT','pacbio.alt_alnScore_mean','pacbio.alt_alnScore_std','pacbio.alt_count','pacbio.alt_insertSize_mean','pacbio.alt_insertSize_std','pacbio.alt_reason_alignmentScore','pacbio.amb_alnScore_mean','pacbio.amb_alnScore_std','pacbio.amb_count','pacbio.amb_insertSize_mean','pacbio.amb_insertSize_std','pacbio.amb_reason_alignmentScore_alignmentScore','pacbio.amb_reason_flanking','pacbio.amb_reason_multimapping','pacbio.amb_reason_same_scores','pacbio.ref_alnScore_mean','pacbio.ref_alnScore_std','pacbio.ref_count','pacbio.ref_insertSize_mean','pacbio.ref_insertSize_std','pacbio.ref_reason_alignmentScore','pacbio.GT','GTcons','GTconflict','GTsupp','tandemrep_cnt','tandemrep_pct','segdup_cnt','segdup_pct','refN_cnt','refN_pct','GIAB_Crowd']\n",
    "\n",
    "# set(b) - set(a)"
   ]
  },
  {
   "cell_type": "code",
   "execution_count": 65,
   "metadata": {},
   "outputs": [],
   "source": [
    "### Training Set: Drop irrelevant columns and GT information\n",
    "df_crowd.drop(['GTcons'], axis=1, inplace = True)\n",
    "df_crowd.drop(['GTconflict'], axis=1, inplace = True)\n",
    "df_crowd.drop(['GTsupp'], axis=1, inplace = True)\n",
    "# df_crowd.drop('SVtype', axis=1)\n",
    "# df_crowd.drop(['type'],axis=1)\n",
    "df_crowd.drop(['start'],axis=1, inplace = True)\n",
    "df_crowd.drop(['end'],axis=1, inplace = True)\n",
    "df_crowd.drop(['chrom'],axis=1, inplace = True)\n",
    "# df_crowd.drop('Size',axis=1)\n",
    "df_crowd.drop(['CN0_prob'],axis=1, inplace = True)\n",
    "df_crowd.drop(['CN1_prob'],axis=1, inplace = True)\n",
    "df_crowd.drop(['CN2_prob'],axis=1, inplace = True)\n",
    "# df_crowd.drop(['TenX.GT'],axis=1, inplace = True)\n",
    "# df_crowd.drop(['pacbio.GT'],axis=1, inplace = True)\n",
    "# df_crowd.drop(['IllMP.GT'],axis=1, inplace = True)\n",
    "df_crowd.drop(['Ill250.GT'],axis=1, inplace = True)\n",
    "# df_crowd.drop(['Ill300x.GT'],axis=1, inplace = True)\n",
    "df_crowd.drop(['sample'],axis=1, inplace = True)\n",
    "# df_crowd.columns.drop(['Label'],axis=1, inplace = True)\n",
    "df_crowd.drop(['size'],axis=1, inplace = True)\n",
    "# df_crowd.drop(['Svsize'],axis=1, inplace = True)\n",
    "df_crowd.drop(['Ill250.amb_reason_insertSizeScore_insertSizeScore'],axis=1, inplace = True)"
   ]
  },
  {
   "cell_type": "code",
   "execution_count": 68,
   "metadata": {},
   "outputs": [
    {
     "data": {
      "text/plain": [
       "{'GIAB_Crowd'}"
      ]
     },
     "execution_count": 68,
     "metadata": {},
     "output_type": "execute_result"
    }
   ],
   "source": [
    "# Store header names in lists and find names that are NOT contained in BOTH lists\n",
    "c = list(df_crowd.columns.values)\n",
    "d = list(HG002_pred.columns.values)\n",
    "set(d) - set(c)"
   ]
  },
  {
   "cell_type": "code",
   "execution_count": 67,
   "metadata": {
    "collapsed": true
   },
   "outputs": [],
   "source": [
    "### Prediction Set: Drop irrelevant columns and GT information\n",
    "HG002_pred.drop(['GTcons'], axis=1, inplace = True)\n",
    "HG002_pred.drop(['GTconflict'], axis=1, inplace = True)\n",
    "HG002_pred.drop(['GTsupp'], axis=1, inplace = True)\n",
    "HG002_pred.drop(['type'],axis=1, inplace = True)\n",
    "HG002_pred.drop(['SVtype'],axis=1, inplace = True)\n",
    "HG002_pred.drop(['start'],axis=1, inplace = True)\n",
    "HG002_pred.drop(['end'],axis=1, inplace = True)\n",
    "HG002_pred.drop(['chrom'],axis=1, inplace = True)\n",
    "HG002_pred.drop(['Size'],axis=1, inplace = True)\n",
    "# HG002_pred.drop(['TenX.GT'],axis=1, inplace = True)\n",
    "# HG002_pred.drop(['pacbio.GT'],axis=1, inplace = True)\n",
    "# HG002_pred.drop(['IllMP.GT'],axis=1, inplace = True)\n",
    "HG002_pred.drop(['Ill250.GT'],axis=1, inplace = True)\n",
    "# HG002_pred.drop(['Ill300x.GT'],axis=1, inplace = True)\n",
    "HG002_pred.drop(['sample'],axis=1, inplace = True)\n",
    "HG002_pred.drop(['id'],axis=1, inplace = True)\n",
    "# HG002_pred.drop(['Ill300x.amb_reason_insertSizeScore_orientation'],axis=1, inplace = True)\n",
    "# HG002_pred.drop(['IllMP.amb_reason_insertSizeScore_alignmentScore'],axis=1, inplace = True)\n",
    "# HG002_pred.drop(['TenX.HP1_amb_reason_insertSizeScore_insertSizeScore'],axis=1, inplace = True)\n",
    "# HG002_pred.drop(['TenX.HP1_ref_reason_insertSizeScore'],axis=1, inplace = True)\n",
    "# HG002_pred.drop(['TenX.HP2_amb_reason_insertSizeScore_insertSizeScore'],axis=1, inplace = True)\n",
    "# HG002_pred.drop(['TenX.HP2_amb_reason_orientation_insertSizeScore'],axis=1, inplace = True)"
   ]
  },
  {
   "cell_type": "code",
   "execution_count": null,
   "metadata": {
    "collapsed": true
   },
   "outputs": [],
   "source": [
    "df_crowd.head(3)"
   ]
  },
  {
   "cell_type": "markdown",
   "metadata": {},
   "source": [
    "*** \n",
    "Impute missing values using KNN \n",
    "***"
   ]
  },
  {
   "cell_type": "code",
   "execution_count": 70,
   "metadata": {},
   "outputs": [
    {
     "data": {
      "text/html": [
       "<div>\n",
       "<table border=\"1\" class=\"dataframe\">\n",
       "  <thead>\n",
       "    <tr style=\"text-align: right;\">\n",
       "      <th></th>\n",
       "      <th>Ill250.alt_alnScore_mean</th>\n",
       "      <th>Ill250.alt_alnScore_std</th>\n",
       "      <th>Ill250.alt_count</th>\n",
       "      <th>Ill250.alt_insertSize_mean</th>\n",
       "      <th>Ill250.alt_insertSize_std</th>\n",
       "      <th>Ill250.alt_reason_alignmentScore</th>\n",
       "      <th>Ill250.alt_reason_insertSizeScore</th>\n",
       "      <th>Ill250.alt_reason_orientation</th>\n",
       "      <th>Ill250.amb_alnScore_mean</th>\n",
       "      <th>Ill250.amb_alnScore_std</th>\n",
       "      <th>...</th>\n",
       "      <th>Ill250.ref_insertSize_std</th>\n",
       "      <th>Ill250.ref_reason_alignmentScore</th>\n",
       "      <th>Ill250.ref_reason_orientation</th>\n",
       "      <th>tandemrep_cnt</th>\n",
       "      <th>tandemrep_pct</th>\n",
       "      <th>segdup_cnt</th>\n",
       "      <th>segdup_pct</th>\n",
       "      <th>refN_cnt</th>\n",
       "      <th>refN_pct</th>\n",
       "      <th>Label</th>\n",
       "    </tr>\n",
       "  </thead>\n",
       "  <tbody>\n",
       "    <tr>\n",
       "      <th>0</th>\n",
       "      <td>0.0</td>\n",
       "      <td>0.000000</td>\n",
       "      <td>0</td>\n",
       "      <td>0.0</td>\n",
       "      <td>0.000000</td>\n",
       "      <td>0</td>\n",
       "      <td>0</td>\n",
       "      <td>0</td>\n",
       "      <td>870.053922</td>\n",
       "      <td>144.726287</td>\n",
       "      <td>...</td>\n",
       "      <td>83.074486</td>\n",
       "      <td>145</td>\n",
       "      <td>0</td>\n",
       "      <td>8</td>\n",
       "      <td>0.096911</td>\n",
       "      <td>0</td>\n",
       "      <td>0.0</td>\n",
       "      <td>0</td>\n",
       "      <td>0</td>\n",
       "      <td>1</td>\n",
       "    </tr>\n",
       "    <tr>\n",
       "      <th>1</th>\n",
       "      <td>887.0</td>\n",
       "      <td>44.298984</td>\n",
       "      <td>5</td>\n",
       "      <td>356.4</td>\n",
       "      <td>73.499932</td>\n",
       "      <td>4</td>\n",
       "      <td>0</td>\n",
       "      <td>1</td>\n",
       "      <td>841.293839</td>\n",
       "      <td>138.419819</td>\n",
       "      <td>...</td>\n",
       "      <td>122.825237</td>\n",
       "      <td>47</td>\n",
       "      <td>0</td>\n",
       "      <td>2</td>\n",
       "      <td>0.221591</td>\n",
       "      <td>0</td>\n",
       "      <td>0.0</td>\n",
       "      <td>0</td>\n",
       "      <td>0</td>\n",
       "      <td>1</td>\n",
       "    </tr>\n",
       "    <tr>\n",
       "      <th>2</th>\n",
       "      <td>912.2</td>\n",
       "      <td>40.041978</td>\n",
       "      <td>5</td>\n",
       "      <td>381.2</td>\n",
       "      <td>67.957045</td>\n",
       "      <td>5</td>\n",
       "      <td>0</td>\n",
       "      <td>0</td>\n",
       "      <td>828.734375</td>\n",
       "      <td>149.026764</td>\n",
       "      <td>...</td>\n",
       "      <td>0.000000</td>\n",
       "      <td>0</td>\n",
       "      <td>0</td>\n",
       "      <td>3</td>\n",
       "      <td>0.059443</td>\n",
       "      <td>0</td>\n",
       "      <td>0.0</td>\n",
       "      <td>0</td>\n",
       "      <td>0</td>\n",
       "      <td>0</td>\n",
       "    </tr>\n",
       "  </tbody>\n",
       "</table>\n",
       "<p>3 rows × 35 columns</p>\n",
       "</div>"
      ],
      "text/plain": [
       "   Ill250.alt_alnScore_mean  Ill250.alt_alnScore_std  Ill250.alt_count  \\\n",
       "0                       0.0                 0.000000                 0   \n",
       "1                     887.0                44.298984                 5   \n",
       "2                     912.2                40.041978                 5   \n",
       "\n",
       "   Ill250.alt_insertSize_mean  Ill250.alt_insertSize_std  \\\n",
       "0                         0.0                   0.000000   \n",
       "1                       356.4                  73.499932   \n",
       "2                       381.2                  67.957045   \n",
       "\n",
       "   Ill250.alt_reason_alignmentScore  Ill250.alt_reason_insertSizeScore  \\\n",
       "0                                 0                                  0   \n",
       "1                                 4                                  0   \n",
       "2                                 5                                  0   \n",
       "\n",
       "   Ill250.alt_reason_orientation  Ill250.amb_alnScore_mean  \\\n",
       "0                              0                870.053922   \n",
       "1                              1                841.293839   \n",
       "2                              0                828.734375   \n",
       "\n",
       "   Ill250.amb_alnScore_std  ...    Ill250.ref_insertSize_std  \\\n",
       "0               144.726287  ...                    83.074486   \n",
       "1               138.419819  ...                   122.825237   \n",
       "2               149.026764  ...                     0.000000   \n",
       "\n",
       "   Ill250.ref_reason_alignmentScore  Ill250.ref_reason_orientation  \\\n",
       "0                               145                              0   \n",
       "1                                47                              0   \n",
       "2                                 0                              0   \n",
       "\n",
       "   tandemrep_cnt  tandemrep_pct  segdup_cnt  segdup_pct  refN_cnt  refN_pct  \\\n",
       "0              8       0.096911           0         0.0         0         0   \n",
       "1              2       0.221591           0         0.0         0         0   \n",
       "2              3       0.059443           0         0.0         0         0   \n",
       "\n",
       "   Label  \n",
       "0      1  \n",
       "1      1  \n",
       "2      0  \n",
       "\n",
       "[3 rows x 35 columns]"
      ]
     },
     "execution_count": 70,
     "metadata": {},
     "output_type": "execute_result"
    }
   ],
   "source": [
    "# Store data in a new variable which will be converted to a matrix\n",
    "X = df_crowd\n",
    "X.head(3)"
   ]
  },
  {
   "cell_type": "code",
   "execution_count": 71,
   "metadata": {},
   "outputs": [],
   "source": [
    "# NOTE: 250bp dataframe has no missing values\n",
    "\n",
    "\n",
    "# Convert dataframe to matrix\n",
    "# X=X.as_matrix()\n",
    "\n",
    "# #Imput missing values from three closest observations\n",
    "# X_imputed=KNN(k=3).complete(X)\n",
    "# X=pd.DataFrame(X_imputed)"
   ]
  },
  {
   "cell_type": "code",
   "execution_count": 72,
   "metadata": {
    "collapsed": true
   },
   "outputs": [],
   "source": [
    "# Store header values in a list, will be used later to re-label the matrix post KNN imputation\n",
    "# dfcrowd_header = list(df_crowd.columns.values)"
   ]
  },
  {
   "cell_type": "code",
   "execution_count": 73,
   "metadata": {},
   "outputs": [],
   "source": [
    "# X.columns = dfcrowd_header\n",
    "# X.head(3)"
   ]
  },
  {
   "cell_type": "code",
   "execution_count": 74,
   "metadata": {
    "collapsed": true
   },
   "outputs": [],
   "source": [
    "# Store Labels in a new 'Y' DataFrame\n",
    "Y = pd.DataFrame()\n",
    "Y['Label'] = X['Label']\n",
    "#Y = X.pop('Label')"
   ]
  },
  {
   "cell_type": "code",
   "execution_count": 75,
   "metadata": {},
   "outputs": [
    {
     "data": {
      "text/plain": [
       " 0    552\n",
       " 1    959\n",
       " 2      3\n",
       "-1      1\n",
       "dtype: int64"
      ]
     },
     "execution_count": 75,
     "metadata": {},
     "output_type": "execute_result"
    }
   ],
   "source": [
    "#Count the number of labels\n",
    "pd.value_counts(Y['Label'].values, sort=False)"
   ]
  },
  {
   "cell_type": "code",
   "execution_count": 76,
   "metadata": {
    "collapsed": true
   },
   "outputs": [],
   "source": [
    "# Remove labels from feature set\n",
    "X.drop(['Label'],axis=1, inplace = True)"
   ]
  },
  {
   "cell_type": "code",
   "execution_count": 77,
   "metadata": {
    "collapsed": true
   },
   "outputs": [],
   "source": [
    "# Order features\n",
    "X4 = X.reindex_axis(sorted(X.columns), axis=1)"
   ]
  },
  {
   "cell_type": "markdown",
   "metadata": {},
   "source": [
    "***\n",
    "Machine Learning\n",
    "***"
   ]
  },
  {
   "cell_type": "markdown",
   "metadata": {},
   "source": [
    "** Train RF Classifier **"
   ]
  },
  {
   "cell_type": "code",
   "execution_count": 78,
   "metadata": {
    "collapsed": true
   },
   "outputs": [],
   "source": [
    "# Train Test Split\n",
    "# Train on 70% of the data and test on 30%\n",
    "X_train, X_test, y_train, y_test = train_test_split(X4, Y, test_size=0.3, random_state=0)"
   ]
  },
  {
   "cell_type": "code",
   "execution_count": 79,
   "metadata": {},
   "outputs": [
    {
     "name": "stderr",
     "output_type": "stream",
     "text": [
      "/Users/lmc2/anaconda/envs/NIHFAES/lib/python3.5/site-packages/ipykernel/__main__.py:3: DataConversionWarning:\n",
      "\n",
      "A column-vector y was passed when a 1d array was expected. Please change the shape of y to (n_samples,), for example using ravel().\n",
      "\n"
     ]
    },
    {
     "data": {
      "text/plain": [
       "RandomForestClassifier(bootstrap=True, class_weight=None, criterion='gini',\n",
       "            max_depth=None, max_features='auto', max_leaf_nodes=None,\n",
       "            min_impurity_split=1e-07, min_samples_leaf=1,\n",
       "            min_samples_split=2, min_weight_fraction_leaf=0.0,\n",
       "            n_estimators=10, n_jobs=1, oob_score=False, random_state=None,\n",
       "            verbose=0, warm_start=False)"
      ]
     },
     "execution_count": 79,
     "metadata": {},
     "output_type": "execute_result"
    }
   ],
   "source": [
    "# Train Random Forest Classifier\n",
    "model = RandomForestClassifier() \n",
    "model.fit(X_train, y_train)"
   ]
  },
  {
   "cell_type": "code",
   "execution_count": 80,
   "metadata": {},
   "outputs": [
    {
     "data": {
      "text/plain": [
       " 1.0    671\n",
       " 0.0     73\n",
       "-1.0      1\n",
       " 2.0      2\n",
       "dtype: int64"
      ]
     },
     "execution_count": 80,
     "metadata": {},
     "output_type": "execute_result"
    }
   ],
   "source": [
    "#NOTE: Training Set - Show number of Hom Ref, Hom Var, Het Var datapoints the model was trained on\n",
    "ytrain = pd.DataFrame()\n",
    "ytrain['ytrain'] = y_train\n",
    "pd.value_counts(ytrain['ytrain'].values, sort=False)"
   ]
  },
  {
   "cell_type": "markdown",
   "metadata": {},
   "source": [
    "** Precision Score **\n",
    "- Overall model performance\n",
    "- Using 30% of original dataset (test set)\n",
    "- Truth labels: CrowdVariant labels"
   ]
  },
  {
   "cell_type": "code",
   "execution_count": 81,
   "metadata": {},
   "outputs": [
    {
     "data": {
      "text/plain": [
       "array([0, 1, 1, 1, 1, 1, 1, 1, 1, 1, 0, 1, 0, 0, 1, 1, 1, 1, 1, 0, 1, 1, 1,\n",
       "       1, 0, 1, 0, 1, 1, 1, 1, 1, 0, 1, 0, 0, 1, 0, 1, 1, 1, 1, 1, 1, 1, 0,\n",
       "       1, 1, 1, 1, 1, 1, 0, 1, 1, 1, 0, 0, 1, 1, 1, 1, 1, 0, 1, 1, 0, 1, 0,\n",
       "       0, 0, 1, 0, 1, 1, 0, 1, 1, 1, 1, 0, 1, 1, 1, 1, 0, 1, 0, 1, 1, 0, 1,\n",
       "       0, 1, 0, 1, 1, 0, 0, 1, 0, 1, 0, 1, 1, 0, 1, 0, 1, 1, 0, 0, 0, 0, 0,\n",
       "       1, 1, 0, 1, 0, 0, 1, 1, 0, 0, 0, 1, 0, 1, 1, 0, 0, 1, 1, 0, 1, 1, 1,\n",
       "       0, 1, 1, 0, 0, 1, 1, 1, 0, 1, 0, 1, 1, 1, 0, 1, 0, 0, 1, 0, 1, 1, 1,\n",
       "       0, 0, 0, 0, 1, 1, 1, 0, 1, 1, 0, 0, 1, 1, 0, 0, 0, 1, 0, 0, 1, 1, 0,\n",
       "       1, 0, 1, 0, 1, 1, 1, 1, 0, 1, 0, 1, 0, 0, 1, 0, 1, 1, 1, 1, 1, 1, 0,\n",
       "       1, 0, 0, 0, 0, 0, 1, 1, 1, 1, 0, 1, 1, 0, 1, 1, 0, 0, 0, 1, 1, 0, 0,\n",
       "       1, 1, 0, 1, 1, 1, 1, 1, 0, 1, 0, 1, 0, 0, 0, 1, 0, 0, 1, 0, 1, 1, 1,\n",
       "       0, 1, 1, 1, 0, 1, 1, 1, 1, 0, 1, 1, 1, 1, 1, 0, 1, 1, 0, 0, 1, 1, 0,\n",
       "       1, 1, 1, 0, 1, 1, 1, 1, 1, 1, 1, 0, 0, 1, 1, 1, 1, 0, 0, 1, 1, 0, 0,\n",
       "       1, 1, 1, 0, 0, 1, 1, 1, 1, 0, 1, 1, 1, 1, 1, 1, 1, 1, 0, 1, 0, 0, 1,\n",
       "       1, 1, 1, 1, 0, 0, 1, 0, 0, 0, 0, 0, 1, 1, 0, 1, 1, 0, 0, 0, 1, 1, 0,\n",
       "       1, 1, 1, 1, 1, 1, 1, 1, 0, 0, 1, 0, 1, 1, 1, 1, 0, 0, 1, 0, 0, 1, 1,\n",
       "       1, 0, 1, 1, 1, 0, 1, 0, 0, 1, 1, 1, 1, 1, 1, 0, 1, 1, 1, 1, 0, 1, 1,\n",
       "       0, 1, 0, 1, 1, 0, 0, 0, 0, 1, 1, 0, 1, 1, 1, 0, 0, 0, 1, 1, 0, 1, 1,\n",
       "       1, 1, 0, 1, 0, 1, 0, 1, 1, 1, 1, 1, 1, 1, 0, 1, 1, 0, 0, 1, 1, 1, 1,\n",
       "       0, 0, 0, 0, 1, 0, 1, 1, 0, 1, 0, 1, 1, 1, 1, 1, 1, 1])"
      ]
     },
     "execution_count": 81,
     "metadata": {},
     "output_type": "execute_result"
    }
   ],
   "source": [
    "model.predict(X_test)"
   ]
  },
  {
   "cell_type": "code",
   "execution_count": 82,
   "metadata": {
    "collapsed": true
   },
   "outputs": [],
   "source": [
    "pred = model.predict(X_test)"
   ]
  },
  {
   "cell_type": "code",
   "execution_count": 83,
   "metadata": {},
   "outputs": [
    {
     "data": {
      "text/plain": [
       "0.96703296703296704"
      ]
     },
     "execution_count": 83,
     "metadata": {},
     "output_type": "execute_result"
    }
   ],
   "source": [
    "precision_score(pred, y_test, average='micro') "
   ]
  },
  {
   "cell_type": "code",
   "execution_count": 84,
   "metadata": {},
   "outputs": [
    {
     "data": {
      "text/html": [
       "<div>\n",
       "<table border=\"1\" class=\"dataframe\">\n",
       "  <thead>\n",
       "    <tr style=\"text-align: right;\">\n",
       "      <th></th>\n",
       "      <th>Ill250.alt_alnScore_mean</th>\n",
       "      <th>Ill250.alt_alnScore_std</th>\n",
       "      <th>Ill250.alt_count</th>\n",
       "      <th>Ill250.alt_insertSize_mean</th>\n",
       "      <th>Ill250.alt_insertSize_std</th>\n",
       "      <th>Ill250.alt_reason_alignmentScore</th>\n",
       "      <th>Ill250.alt_reason_insertSizeScore</th>\n",
       "      <th>Ill250.alt_reason_orientation</th>\n",
       "      <th>Ill250.amb_alnScore_mean</th>\n",
       "      <th>Ill250.amb_alnScore_std</th>\n",
       "      <th>...</th>\n",
       "      <th>Ill250.ref_insertSize_mean</th>\n",
       "      <th>Ill250.ref_insertSize_std</th>\n",
       "      <th>Ill250.ref_reason_alignmentScore</th>\n",
       "      <th>Ill250.ref_reason_orientation</th>\n",
       "      <th>refN_cnt</th>\n",
       "      <th>refN_pct</th>\n",
       "      <th>segdup_cnt</th>\n",
       "      <th>segdup_pct</th>\n",
       "      <th>tandemrep_cnt</th>\n",
       "      <th>tandemrep_pct</th>\n",
       "    </tr>\n",
       "  </thead>\n",
       "  <tbody>\n",
       "    <tr>\n",
       "      <th>1222</th>\n",
       "      <td>994.916667</td>\n",
       "      <td>5.415384</td>\n",
       "      <td>48</td>\n",
       "      <td>447.020833</td>\n",
       "      <td>92.768864</td>\n",
       "      <td>44</td>\n",
       "      <td>4</td>\n",
       "      <td>0</td>\n",
       "      <td>904.924419</td>\n",
       "      <td>131.254148</td>\n",
       "      <td>...</td>\n",
       "      <td>0.000000</td>\n",
       "      <td>0.000000</td>\n",
       "      <td>0</td>\n",
       "      <td>0</td>\n",
       "      <td>0</td>\n",
       "      <td>0</td>\n",
       "      <td>0</td>\n",
       "      <td>0.000000</td>\n",
       "      <td>1</td>\n",
       "      <td>0.12500</td>\n",
       "    </tr>\n",
       "    <tr>\n",
       "      <th>310</th>\n",
       "      <td>970.742857</td>\n",
       "      <td>26.804416</td>\n",
       "      <td>35</td>\n",
       "      <td>460.485714</td>\n",
       "      <td>79.329465</td>\n",
       "      <td>34</td>\n",
       "      <td>1</td>\n",
       "      <td>0</td>\n",
       "      <td>881.921162</td>\n",
       "      <td>147.513942</td>\n",
       "      <td>...</td>\n",
       "      <td>452.300000</td>\n",
       "      <td>109.609808</td>\n",
       "      <td>20</td>\n",
       "      <td>0</td>\n",
       "      <td>0</td>\n",
       "      <td>0</td>\n",
       "      <td>0</td>\n",
       "      <td>0.000000</td>\n",
       "      <td>1</td>\n",
       "      <td>0.10625</td>\n",
       "    </tr>\n",
       "    <tr>\n",
       "      <th>9</th>\n",
       "      <td>0.000000</td>\n",
       "      <td>0.000000</td>\n",
       "      <td>0</td>\n",
       "      <td>0.000000</td>\n",
       "      <td>0.000000</td>\n",
       "      <td>0</td>\n",
       "      <td>0</td>\n",
       "      <td>0</td>\n",
       "      <td>886.094675</td>\n",
       "      <td>150.269472</td>\n",
       "      <td>...</td>\n",
       "      <td>441.163636</td>\n",
       "      <td>73.698591</td>\n",
       "      <td>55</td>\n",
       "      <td>0</td>\n",
       "      <td>0</td>\n",
       "      <td>0</td>\n",
       "      <td>0</td>\n",
       "      <td>0.000000</td>\n",
       "      <td>0</td>\n",
       "      <td>0.00000</td>\n",
       "    </tr>\n",
       "    <tr>\n",
       "      <th>785</th>\n",
       "      <td>978.500000</td>\n",
       "      <td>21.362350</td>\n",
       "      <td>20</td>\n",
       "      <td>425.550000</td>\n",
       "      <td>75.699719</td>\n",
       "      <td>19</td>\n",
       "      <td>1</td>\n",
       "      <td>0</td>\n",
       "      <td>903.137725</td>\n",
       "      <td>153.256269</td>\n",
       "      <td>...</td>\n",
       "      <td>434.233333</td>\n",
       "      <td>99.281648</td>\n",
       "      <td>30</td>\n",
       "      <td>0</td>\n",
       "      <td>0</td>\n",
       "      <td>0</td>\n",
       "      <td>1</td>\n",
       "      <td>0.404959</td>\n",
       "      <td>1</td>\n",
       "      <td>0.31405</td>\n",
       "    </tr>\n",
       "    <tr>\n",
       "      <th>295</th>\n",
       "      <td>955.318182</td>\n",
       "      <td>20.636213</td>\n",
       "      <td>22</td>\n",
       "      <td>446.727273</td>\n",
       "      <td>93.222696</td>\n",
       "      <td>21</td>\n",
       "      <td>1</td>\n",
       "      <td>0</td>\n",
       "      <td>894.035503</td>\n",
       "      <td>145.256675</td>\n",
       "      <td>...</td>\n",
       "      <td>407.884615</td>\n",
       "      <td>77.514429</td>\n",
       "      <td>26</td>\n",
       "      <td>0</td>\n",
       "      <td>0</td>\n",
       "      <td>0</td>\n",
       "      <td>0</td>\n",
       "      <td>0.000000</td>\n",
       "      <td>2</td>\n",
       "      <td>0.16358</td>\n",
       "    </tr>\n",
       "  </tbody>\n",
       "</table>\n",
       "<p>5 rows × 34 columns</p>\n",
       "</div>"
      ],
      "text/plain": [
       "      Ill250.alt_alnScore_mean  Ill250.alt_alnScore_std  Ill250.alt_count  \\\n",
       "1222                994.916667                 5.415384                48   \n",
       "310                 970.742857                26.804416                35   \n",
       "9                     0.000000                 0.000000                 0   \n",
       "785                 978.500000                21.362350                20   \n",
       "295                 955.318182                20.636213                22   \n",
       "\n",
       "      Ill250.alt_insertSize_mean  Ill250.alt_insertSize_std  \\\n",
       "1222                  447.020833                  92.768864   \n",
       "310                   460.485714                  79.329465   \n",
       "9                       0.000000                   0.000000   \n",
       "785                   425.550000                  75.699719   \n",
       "295                   446.727273                  93.222696   \n",
       "\n",
       "      Ill250.alt_reason_alignmentScore  Ill250.alt_reason_insertSizeScore  \\\n",
       "1222                                44                                  4   \n",
       "310                                 34                                  1   \n",
       "9                                    0                                  0   \n",
       "785                                 19                                  1   \n",
       "295                                 21                                  1   \n",
       "\n",
       "      Ill250.alt_reason_orientation  Ill250.amb_alnScore_mean  \\\n",
       "1222                              0                904.924419   \n",
       "310                               0                881.921162   \n",
       "9                                 0                886.094675   \n",
       "785                               0                903.137725   \n",
       "295                               0                894.035503   \n",
       "\n",
       "      Ill250.amb_alnScore_std      ...        Ill250.ref_insertSize_mean  \\\n",
       "1222               131.254148      ...                          0.000000   \n",
       "310                147.513942      ...                        452.300000   \n",
       "9                  150.269472      ...                        441.163636   \n",
       "785                153.256269      ...                        434.233333   \n",
       "295                145.256675      ...                        407.884615   \n",
       "\n",
       "      Ill250.ref_insertSize_std  Ill250.ref_reason_alignmentScore  \\\n",
       "1222                   0.000000                                 0   \n",
       "310                  109.609808                                20   \n",
       "9                     73.698591                                55   \n",
       "785                   99.281648                                30   \n",
       "295                   77.514429                                26   \n",
       "\n",
       "      Ill250.ref_reason_orientation  refN_cnt  refN_pct  segdup_cnt  \\\n",
       "1222                              0         0         0           0   \n",
       "310                               0         0         0           0   \n",
       "9                                 0         0         0           0   \n",
       "785                               0         0         0           1   \n",
       "295                               0         0         0           0   \n",
       "\n",
       "      segdup_pct  tandemrep_cnt  tandemrep_pct  \n",
       "1222    0.000000              1        0.12500  \n",
       "310     0.000000              1        0.10625  \n",
       "9       0.000000              0        0.00000  \n",
       "785     0.404959              1        0.31405  \n",
       "295     0.000000              2        0.16358  \n",
       "\n",
       "[5 rows x 34 columns]"
      ]
     },
     "execution_count": 84,
     "metadata": {},
     "output_type": "execute_result"
    }
   ],
   "source": [
    "# Add original labels and predicted labels back to the original dataframe\n",
    "df_Xtest = pd.DataFrame(X_test)\n",
    "df_Xtest.head()"
   ]
  },
  {
   "cell_type": "code",
   "execution_count": 85,
   "metadata": {
    "collapsed": true
   },
   "outputs": [],
   "source": [
    "labels = pd.DataFrame(y_test)"
   ]
  },
  {
   "cell_type": "code",
   "execution_count": 86,
   "metadata": {},
   "outputs": [
    {
     "data": {
      "text/html": [
       "<div>\n",
       "<table border=\"1\" class=\"dataframe\">\n",
       "  <thead>\n",
       "    <tr style=\"text-align: right;\">\n",
       "      <th></th>\n",
       "      <th>Ill250.alt_alnScore_mean</th>\n",
       "      <th>Ill250.alt_alnScore_std</th>\n",
       "      <th>Ill250.alt_count</th>\n",
       "      <th>Ill250.alt_insertSize_mean</th>\n",
       "      <th>Ill250.alt_insertSize_std</th>\n",
       "      <th>Ill250.alt_reason_alignmentScore</th>\n",
       "      <th>Ill250.alt_reason_insertSizeScore</th>\n",
       "      <th>Ill250.alt_reason_orientation</th>\n",
       "      <th>Ill250.amb_alnScore_mean</th>\n",
       "      <th>Ill250.amb_alnScore_std</th>\n",
       "      <th>...</th>\n",
       "      <th>Ill250.ref_insertSize_mean</th>\n",
       "      <th>Ill250.ref_insertSize_std</th>\n",
       "      <th>Ill250.ref_reason_alignmentScore</th>\n",
       "      <th>Ill250.ref_reason_orientation</th>\n",
       "      <th>tandemrep_cnt</th>\n",
       "      <th>tandemrep_pct</th>\n",
       "      <th>segdup_cnt</th>\n",
       "      <th>segdup_pct</th>\n",
       "      <th>refN_cnt</th>\n",
       "      <th>refN_pct</th>\n",
       "    </tr>\n",
       "  </thead>\n",
       "  <tbody>\n",
       "    <tr>\n",
       "      <th>0</th>\n",
       "      <td>0.0</td>\n",
       "      <td>0.000000</td>\n",
       "      <td>0</td>\n",
       "      <td>0.0</td>\n",
       "      <td>0.000000</td>\n",
       "      <td>0</td>\n",
       "      <td>0</td>\n",
       "      <td>0</td>\n",
       "      <td>870.053922</td>\n",
       "      <td>144.726287</td>\n",
       "      <td>...</td>\n",
       "      <td>429.172414</td>\n",
       "      <td>83.074486</td>\n",
       "      <td>145</td>\n",
       "      <td>0</td>\n",
       "      <td>8</td>\n",
       "      <td>0.096911</td>\n",
       "      <td>0</td>\n",
       "      <td>0.0</td>\n",
       "      <td>0</td>\n",
       "      <td>0</td>\n",
       "    </tr>\n",
       "    <tr>\n",
       "      <th>1</th>\n",
       "      <td>887.0</td>\n",
       "      <td>44.298984</td>\n",
       "      <td>5</td>\n",
       "      <td>356.4</td>\n",
       "      <td>73.499932</td>\n",
       "      <td>4</td>\n",
       "      <td>0</td>\n",
       "      <td>1</td>\n",
       "      <td>841.293839</td>\n",
       "      <td>138.419819</td>\n",
       "      <td>...</td>\n",
       "      <td>488.702128</td>\n",
       "      <td>122.825237</td>\n",
       "      <td>47</td>\n",
       "      <td>0</td>\n",
       "      <td>2</td>\n",
       "      <td>0.221591</td>\n",
       "      <td>0</td>\n",
       "      <td>0.0</td>\n",
       "      <td>0</td>\n",
       "      <td>0</td>\n",
       "    </tr>\n",
       "    <tr>\n",
       "      <th>2</th>\n",
       "      <td>912.2</td>\n",
       "      <td>40.041978</td>\n",
       "      <td>5</td>\n",
       "      <td>381.2</td>\n",
       "      <td>67.957045</td>\n",
       "      <td>5</td>\n",
       "      <td>0</td>\n",
       "      <td>0</td>\n",
       "      <td>828.734375</td>\n",
       "      <td>149.026764</td>\n",
       "      <td>...</td>\n",
       "      <td>0.000000</td>\n",
       "      <td>0.000000</td>\n",
       "      <td>0</td>\n",
       "      <td>0</td>\n",
       "      <td>3</td>\n",
       "      <td>0.059443</td>\n",
       "      <td>0</td>\n",
       "      <td>0.0</td>\n",
       "      <td>0</td>\n",
       "      <td>0</td>\n",
       "    </tr>\n",
       "  </tbody>\n",
       "</table>\n",
       "<p>3 rows × 34 columns</p>\n",
       "</div>"
      ],
      "text/plain": [
       "   Ill250.alt_alnScore_mean  Ill250.alt_alnScore_std  Ill250.alt_count  \\\n",
       "0                       0.0                 0.000000                 0   \n",
       "1                     887.0                44.298984                 5   \n",
       "2                     912.2                40.041978                 5   \n",
       "\n",
       "   Ill250.alt_insertSize_mean  Ill250.alt_insertSize_std  \\\n",
       "0                         0.0                   0.000000   \n",
       "1                       356.4                  73.499932   \n",
       "2                       381.2                  67.957045   \n",
       "\n",
       "   Ill250.alt_reason_alignmentScore  Ill250.alt_reason_insertSizeScore  \\\n",
       "0                                 0                                  0   \n",
       "1                                 4                                  0   \n",
       "2                                 5                                  0   \n",
       "\n",
       "   Ill250.alt_reason_orientation  Ill250.amb_alnScore_mean  \\\n",
       "0                              0                870.053922   \n",
       "1                              1                841.293839   \n",
       "2                              0                828.734375   \n",
       "\n",
       "   Ill250.amb_alnScore_std    ...     Ill250.ref_insertSize_mean  \\\n",
       "0               144.726287    ...                     429.172414   \n",
       "1               138.419819    ...                     488.702128   \n",
       "2               149.026764    ...                       0.000000   \n",
       "\n",
       "   Ill250.ref_insertSize_std  Ill250.ref_reason_alignmentScore  \\\n",
       "0                  83.074486                               145   \n",
       "1                 122.825237                                47   \n",
       "2                   0.000000                                 0   \n",
       "\n",
       "   Ill250.ref_reason_orientation  tandemrep_cnt  tandemrep_pct  segdup_cnt  \\\n",
       "0                              0              8       0.096911           0   \n",
       "1                              0              2       0.221591           0   \n",
       "2                              0              3       0.059443           0   \n",
       "\n",
       "   segdup_pct  refN_cnt  refN_pct  \n",
       "0         0.0         0         0  \n",
       "1         0.0         0         0  \n",
       "2         0.0         0         0  \n",
       "\n",
       "[3 rows x 34 columns]"
      ]
     },
     "execution_count": 86,
     "metadata": {},
     "output_type": "execute_result"
    }
   ],
   "source": [
    "df_crowd.head(3)"
   ]
  },
  {
   "cell_type": "code",
   "execution_count": 87,
   "metadata": {},
   "outputs": [],
   "source": [
    "df_Xtest['predicted_label'] = pred\n",
    "df_Xtest['Label'] = df_crowd_2['Label']\n",
    "df_Xtest['chrom'] = df_crowd_2['chrom']\n",
    "df_Xtest['start'] = df_crowd_2['start']\n",
    "df_Xtest['end'] = df_crowd_2['end']\n",
    "# df_Xtest['Y_test'] = labels"
   ]
  },
  {
   "cell_type": "code",
   "execution_count": 88,
   "metadata": {},
   "outputs": [
    {
     "data": {
      "text/plain": [
       "0    166\n",
       "1    288\n",
       "2      1\n",
       "dtype: int64"
      ]
     },
     "execution_count": 88,
     "metadata": {},
     "output_type": "execute_result"
    }
   ],
   "source": [
    "pd.value_counts(df_Xtest['Label'].values, sort=False)"
   ]
  },
  {
   "cell_type": "code",
   "execution_count": 89,
   "metadata": {},
   "outputs": [
    {
     "data": {
      "text/plain": [
       "0    169\n",
       "1    286\n",
       "dtype: int64"
      ]
     },
     "execution_count": 89,
     "metadata": {},
     "output_type": "execute_result"
    }
   ],
   "source": [
    "pd.value_counts(df_Xtest['predicted_label'].values, sort=False)"
   ]
  },
  {
   "cell_type": "code",
   "execution_count": 90,
   "metadata": {},
   "outputs": [
    {
     "name": "stdout",
     "output_type": "stream",
     "text": [
      "[[160   6   0]\n",
      " [  8 280   0]\n",
      " [  1   0   0]]\n"
     ]
    }
   ],
   "source": [
    "from sklearn.metrics import confusion_matrix\n",
    "ytest = df_Xtest['Label']\n",
    "predict = df_Xtest['predicted_label']\n",
    "print(confusion_matrix(ytest, predict))"
   ]
  },
  {
   "cell_type": "code",
   "execution_count": 91,
   "metadata": {},
   "outputs": [
    {
     "data": {
      "text/html": [
       "<div>\n",
       "<table border=\"1\" class=\"dataframe\">\n",
       "  <thead>\n",
       "    <tr style=\"text-align: right;\">\n",
       "      <th>Predicted</th>\n",
       "      <th>0</th>\n",
       "      <th>1</th>\n",
       "      <th>All</th>\n",
       "    </tr>\n",
       "    <tr>\n",
       "      <th>True</th>\n",
       "      <th></th>\n",
       "      <th></th>\n",
       "      <th></th>\n",
       "    </tr>\n",
       "  </thead>\n",
       "  <tbody>\n",
       "    <tr>\n",
       "      <th>0</th>\n",
       "      <td>160</td>\n",
       "      <td>6</td>\n",
       "      <td>166</td>\n",
       "    </tr>\n",
       "    <tr>\n",
       "      <th>1</th>\n",
       "      <td>8</td>\n",
       "      <td>280</td>\n",
       "      <td>288</td>\n",
       "    </tr>\n",
       "    <tr>\n",
       "      <th>2</th>\n",
       "      <td>1</td>\n",
       "      <td>0</td>\n",
       "      <td>1</td>\n",
       "    </tr>\n",
       "    <tr>\n",
       "      <th>All</th>\n",
       "      <td>169</td>\n",
       "      <td>286</td>\n",
       "      <td>455</td>\n",
       "    </tr>\n",
       "  </tbody>\n",
       "</table>\n",
       "</div>"
      ],
      "text/plain": [
       "Predicted    0    1  All\n",
       "True                    \n",
       "0          160    6  166\n",
       "1            8  280  288\n",
       "2            1    0    1\n",
       "All        169  286  455"
      ]
     },
     "execution_count": 91,
     "metadata": {},
     "output_type": "execute_result"
    }
   ],
   "source": [
    "pd.crosstab(ytest, predict, rownames=['True'], colnames=['Predicted'], margins=True)"
   ]
  },
  {
   "cell_type": "code",
   "execution_count": 92,
   "metadata": {},
   "outputs": [
    {
     "name": "stdout",
     "output_type": "stream",
     "text": [
      "             precision    recall  f1-score   support\n",
      "\n",
      "          0       0.95      0.96      0.96       166\n",
      "          1       0.98      0.97      0.98       288\n",
      "          2       0.00      0.00      0.00         1\n",
      "\n",
      "avg / total       0.97      0.97      0.97       455\n",
      "\n"
     ]
    },
    {
     "name": "stderr",
     "output_type": "stream",
     "text": [
      "/Users/lmc2/anaconda/envs/NIHFAES/lib/python3.5/site-packages/sklearn/metrics/classification.py:1113: UndefinedMetricWarning:\n",
      "\n",
      "Precision and F-score are ill-defined and being set to 0.0 in labels with no predicted samples.\n",
      "\n"
     ]
    }
   ],
   "source": [
    "from sklearn.metrics import classification_report\n",
    "print(classification_report(ytest, predict))"
   ]
  },
  {
   "cell_type": "markdown",
   "metadata": {},
   "source": [
    "***\n",
    "Predict\n",
    "***"
   ]
  },
  {
   "cell_type": "markdown",
   "metadata": {},
   "source": [
    "**Load Data**"
   ]
  },
  {
   "cell_type": "code",
   "execution_count": 93,
   "metadata": {},
   "outputs": [
    {
     "data": {
      "text/html": [
       "<div>\n",
       "<table border=\"1\" class=\"dataframe\">\n",
       "  <thead>\n",
       "    <tr style=\"text-align: right;\">\n",
       "      <th></th>\n",
       "      <th>Ill250.alt_alnScore_mean</th>\n",
       "      <th>Ill250.alt_alnScore_std</th>\n",
       "      <th>Ill250.alt_count</th>\n",
       "      <th>Ill250.alt_insertSize_mean</th>\n",
       "      <th>Ill250.alt_insertSize_std</th>\n",
       "      <th>Ill250.alt_reason_alignmentScore</th>\n",
       "      <th>Ill250.alt_reason_insertSizeScore</th>\n",
       "      <th>Ill250.alt_reason_orientation</th>\n",
       "      <th>Ill250.amb_alnScore_mean</th>\n",
       "      <th>Ill250.amb_alnScore_std</th>\n",
       "      <th>...</th>\n",
       "      <th>Ill250.ref_insertSize_std</th>\n",
       "      <th>Ill250.ref_reason_alignmentScore</th>\n",
       "      <th>Ill250.ref_reason_orientation</th>\n",
       "      <th>tandemrep_cnt</th>\n",
       "      <th>tandemrep_pct</th>\n",
       "      <th>segdup_cnt</th>\n",
       "      <th>segdup_pct</th>\n",
       "      <th>refN_cnt</th>\n",
       "      <th>refN_pct</th>\n",
       "      <th>GIAB_Crowd</th>\n",
       "    </tr>\n",
       "  </thead>\n",
       "  <tbody>\n",
       "    <tr>\n",
       "      <th>0</th>\n",
       "      <td>0.0</td>\n",
       "      <td>0.0</td>\n",
       "      <td>0</td>\n",
       "      <td>0.0</td>\n",
       "      <td>0.0</td>\n",
       "      <td>0</td>\n",
       "      <td>0</td>\n",
       "      <td>0</td>\n",
       "      <td>835.040323</td>\n",
       "      <td>155.109139</td>\n",
       "      <td>...</td>\n",
       "      <td>170.701012</td>\n",
       "      <td>23</td>\n",
       "      <td>0</td>\n",
       "      <td>0</td>\n",
       "      <td>0.0</td>\n",
       "      <td>1</td>\n",
       "      <td>0.679775</td>\n",
       "      <td>0</td>\n",
       "      <td>0</td>\n",
       "      <td>2</td>\n",
       "    </tr>\n",
       "    <tr>\n",
       "      <th>1</th>\n",
       "      <td>0.0</td>\n",
       "      <td>0.0</td>\n",
       "      <td>0</td>\n",
       "      <td>0.0</td>\n",
       "      <td>0.0</td>\n",
       "      <td>0</td>\n",
       "      <td>0</td>\n",
       "      <td>0</td>\n",
       "      <td>887.524430</td>\n",
       "      <td>128.971054</td>\n",
       "      <td>...</td>\n",
       "      <td>101.977510</td>\n",
       "      <td>30</td>\n",
       "      <td>4</td>\n",
       "      <td>0</td>\n",
       "      <td>0.0</td>\n",
       "      <td>1</td>\n",
       "      <td>1.000000</td>\n",
       "      <td>0</td>\n",
       "      <td>0</td>\n",
       "      <td>2</td>\n",
       "    </tr>\n",
       "    <tr>\n",
       "      <th>2</th>\n",
       "      <td>0.0</td>\n",
       "      <td>0.0</td>\n",
       "      <td>0</td>\n",
       "      <td>0.0</td>\n",
       "      <td>0.0</td>\n",
       "      <td>0</td>\n",
       "      <td>0</td>\n",
       "      <td>0</td>\n",
       "      <td>884.496970</td>\n",
       "      <td>167.733072</td>\n",
       "      <td>...</td>\n",
       "      <td>80.711669</td>\n",
       "      <td>55</td>\n",
       "      <td>0</td>\n",
       "      <td>0</td>\n",
       "      <td>0.0</td>\n",
       "      <td>0</td>\n",
       "      <td>0.000000</td>\n",
       "      <td>0</td>\n",
       "      <td>0</td>\n",
       "      <td>2</td>\n",
       "    </tr>\n",
       "  </tbody>\n",
       "</table>\n",
       "<p>3 rows × 35 columns</p>\n",
       "</div>"
      ],
      "text/plain": [
       "   Ill250.alt_alnScore_mean  Ill250.alt_alnScore_std  Ill250.alt_count  \\\n",
       "0                       0.0                      0.0                 0   \n",
       "1                       0.0                      0.0                 0   \n",
       "2                       0.0                      0.0                 0   \n",
       "\n",
       "   Ill250.alt_insertSize_mean  Ill250.alt_insertSize_std  \\\n",
       "0                         0.0                        0.0   \n",
       "1                         0.0                        0.0   \n",
       "2                         0.0                        0.0   \n",
       "\n",
       "   Ill250.alt_reason_alignmentScore  Ill250.alt_reason_insertSizeScore  \\\n",
       "0                                 0                                  0   \n",
       "1                                 0                                  0   \n",
       "2                                 0                                  0   \n",
       "\n",
       "   Ill250.alt_reason_orientation  Ill250.amb_alnScore_mean  \\\n",
       "0                              0                835.040323   \n",
       "1                              0                887.524430   \n",
       "2                              0                884.496970   \n",
       "\n",
       "   Ill250.amb_alnScore_std     ...      Ill250.ref_insertSize_std  \\\n",
       "0               155.109139     ...                     170.701012   \n",
       "1               128.971054     ...                     101.977510   \n",
       "2               167.733072     ...                      80.711669   \n",
       "\n",
       "   Ill250.ref_reason_alignmentScore  Ill250.ref_reason_orientation  \\\n",
       "0                                23                              0   \n",
       "1                                30                              4   \n",
       "2                                55                              0   \n",
       "\n",
       "   tandemrep_cnt  tandemrep_pct  segdup_cnt  segdup_pct  refN_cnt  refN_pct  \\\n",
       "0              0            0.0           1    0.679775         0         0   \n",
       "1              0            0.0           1    1.000000         0         0   \n",
       "2              0            0.0           0    0.000000         0         0   \n",
       "\n",
       "   GIAB_Crowd  \n",
       "0           2  \n",
       "1           2  \n",
       "2           2  \n",
       "\n",
       "[3 rows x 35 columns]"
      ]
     },
     "execution_count": 93,
     "metadata": {},
     "output_type": "execute_result"
    }
   ],
   "source": [
    "HG002_pred.head(3)"
   ]
  },
  {
   "cell_type": "code",
   "execution_count": 94,
   "metadata": {
    "collapsed": true
   },
   "outputs": [],
   "source": [
    "X2 = HG002_pred"
   ]
  },
  {
   "cell_type": "markdown",
   "metadata": {},
   "source": [
    "** Impute missing values using KNN **"
   ]
  },
  {
   "cell_type": "code",
   "execution_count": 132,
   "metadata": {},
   "outputs": [],
   "source": [
    "# # NOTE: 250bp dataframe has no missing values\n",
    "\n",
    "# # Convert dataframe to matrix\n",
    "# X2=X2.as_matrix()\n",
    "\n",
    "# #Imput missing values from three closest observations\n",
    "# X2_imputed=KNN(k=3).complete(X2)\n",
    "# X2=pd.DataFrame(X2_imputed)"
   ]
  },
  {
   "cell_type": "code",
   "execution_count": 133,
   "metadata": {},
   "outputs": [],
   "source": [
    "# X2.columns = list(HG002_pred.columns.values)"
   ]
  },
  {
   "cell_type": "code",
   "execution_count": 134,
   "metadata": {},
   "outputs": [
    {
     "ename": "ValueError",
     "evalue": "labels ['GIAB_Crowd'] not contained in axis",
     "output_type": "error",
     "traceback": [
      "\u001b[0;31m---------------------------------------------------------------------------\u001b[0m",
      "\u001b[0;31mValueError\u001b[0m                                Traceback (most recent call last)",
      "\u001b[0;32m<ipython-input-134-f76e1b6a986e>\u001b[0m in \u001b[0;36m<module>\u001b[0;34m()\u001b[0m\n\u001b[0;32m----> 1\u001b[0;31m \u001b[0mX2\u001b[0m\u001b[0;34m.\u001b[0m\u001b[0mdrop\u001b[0m\u001b[0;34m(\u001b[0m\u001b[0;34m[\u001b[0m\u001b[0;34m'GIAB_Crowd'\u001b[0m\u001b[0;34m]\u001b[0m\u001b[0;34m,\u001b[0m\u001b[0maxis\u001b[0m\u001b[0;34m=\u001b[0m\u001b[0;36m1\u001b[0m\u001b[0;34m,\u001b[0m \u001b[0minplace\u001b[0m \u001b[0;34m=\u001b[0m \u001b[0;32mTrue\u001b[0m\u001b[0;34m)\u001b[0m\u001b[0;34m\u001b[0m\u001b[0m\n\u001b[0m",
      "\u001b[0;32m/Users/lmc2/anaconda/envs/NIHFAES/lib/python3.5/site-packages/pandas/core/generic.py\u001b[0m in \u001b[0;36mdrop\u001b[0;34m(self, labels, axis, level, inplace, errors)\u001b[0m\n\u001b[1;32m   1905\u001b[0m                 \u001b[0mnew_axis\u001b[0m \u001b[0;34m=\u001b[0m \u001b[0maxis\u001b[0m\u001b[0;34m.\u001b[0m\u001b[0mdrop\u001b[0m\u001b[0;34m(\u001b[0m\u001b[0mlabels\u001b[0m\u001b[0;34m,\u001b[0m \u001b[0mlevel\u001b[0m\u001b[0;34m=\u001b[0m\u001b[0mlevel\u001b[0m\u001b[0;34m,\u001b[0m \u001b[0merrors\u001b[0m\u001b[0;34m=\u001b[0m\u001b[0merrors\u001b[0m\u001b[0;34m)\u001b[0m\u001b[0;34m\u001b[0m\u001b[0m\n\u001b[1;32m   1906\u001b[0m             \u001b[0;32melse\u001b[0m\u001b[0;34m:\u001b[0m\u001b[0;34m\u001b[0m\u001b[0m\n\u001b[0;32m-> 1907\u001b[0;31m                 \u001b[0mnew_axis\u001b[0m \u001b[0;34m=\u001b[0m \u001b[0maxis\u001b[0m\u001b[0;34m.\u001b[0m\u001b[0mdrop\u001b[0m\u001b[0;34m(\u001b[0m\u001b[0mlabels\u001b[0m\u001b[0;34m,\u001b[0m \u001b[0merrors\u001b[0m\u001b[0;34m=\u001b[0m\u001b[0merrors\u001b[0m\u001b[0;34m)\u001b[0m\u001b[0;34m\u001b[0m\u001b[0m\n\u001b[0m\u001b[1;32m   1908\u001b[0m             \u001b[0mdropped\u001b[0m \u001b[0;34m=\u001b[0m \u001b[0mself\u001b[0m\u001b[0;34m.\u001b[0m\u001b[0mreindex\u001b[0m\u001b[0;34m(\u001b[0m\u001b[0;34m**\u001b[0m\u001b[0;34m{\u001b[0m\u001b[0maxis_name\u001b[0m\u001b[0;34m:\u001b[0m \u001b[0mnew_axis\u001b[0m\u001b[0;34m}\u001b[0m\u001b[0;34m)\u001b[0m\u001b[0;34m\u001b[0m\u001b[0m\n\u001b[1;32m   1909\u001b[0m             \u001b[0;32mtry\u001b[0m\u001b[0;34m:\u001b[0m\u001b[0;34m\u001b[0m\u001b[0m\n",
      "\u001b[0;32m/Users/lmc2/anaconda/envs/NIHFAES/lib/python3.5/site-packages/pandas/indexes/base.py\u001b[0m in \u001b[0;36mdrop\u001b[0;34m(self, labels, errors)\u001b[0m\n\u001b[1;32m   3260\u001b[0m             \u001b[0;32mif\u001b[0m \u001b[0merrors\u001b[0m \u001b[0;34m!=\u001b[0m \u001b[0;34m'ignore'\u001b[0m\u001b[0;34m:\u001b[0m\u001b[0;34m\u001b[0m\u001b[0m\n\u001b[1;32m   3261\u001b[0m                 raise ValueError('labels %s not contained in axis' %\n\u001b[0;32m-> 3262\u001b[0;31m                                  labels[mask])\n\u001b[0m\u001b[1;32m   3263\u001b[0m             \u001b[0mindexer\u001b[0m \u001b[0;34m=\u001b[0m \u001b[0mindexer\u001b[0m\u001b[0;34m[\u001b[0m\u001b[0;34m~\u001b[0m\u001b[0mmask\u001b[0m\u001b[0;34m]\u001b[0m\u001b[0;34m\u001b[0m\u001b[0m\n\u001b[1;32m   3264\u001b[0m         \u001b[0;32mreturn\u001b[0m \u001b[0mself\u001b[0m\u001b[0;34m.\u001b[0m\u001b[0mdelete\u001b[0m\u001b[0;34m(\u001b[0m\u001b[0mindexer\u001b[0m\u001b[0;34m)\u001b[0m\u001b[0;34m\u001b[0m\u001b[0m\n",
      "\u001b[0;31mValueError\u001b[0m: labels ['GIAB_Crowd'] not contained in axis"
     ]
    }
   ],
   "source": [
    "X2.drop(['GIAB_Crowd'],axis=1, inplace = True)"
   ]
  },
  {
   "cell_type": "code",
   "execution_count": 135,
   "metadata": {
    "collapsed": true
   },
   "outputs": [],
   "source": [
    "# Order features\n",
    "X5 = X2.reindex_axis(sorted(X2.columns), axis=1)"
   ]
  },
  {
   "cell_type": "code",
   "execution_count": 136,
   "metadata": {},
   "outputs": [
    {
     "data": {
      "text/plain": [
       "array([0, 1, 1, ..., 0, 0, 0])"
      ]
     },
     "execution_count": 136,
     "metadata": {},
     "output_type": "execute_result"
    }
   ],
   "source": [
    "model.predict(X5)"
   ]
  },
  {
   "cell_type": "code",
   "execution_count": 137,
   "metadata": {},
   "outputs": [
    {
     "data": {
      "text/plain": [
       "0.792156862745098"
      ]
     },
     "execution_count": 137,
     "metadata": {},
     "output_type": "execute_result"
    }
   ],
   "source": [
    "# Calculate Precision Score\n",
    "true = HG002_pred_2['GIAB_Crowd']\n",
    "predicted = model.predict(X5)\n",
    "precision_score(true, predicted, average='micro') "
   ]
  },
  {
   "cell_type": "code",
   "execution_count": 138,
   "metadata": {},
   "outputs": [
    {
     "data": {
      "text/html": [
       "<div>\n",
       "<table border=\"1\" class=\"dataframe\">\n",
       "  <thead>\n",
       "    <tr style=\"text-align: right;\">\n",
       "      <th>Predicted</th>\n",
       "      <th>0</th>\n",
       "      <th>1</th>\n",
       "      <th>All</th>\n",
       "    </tr>\n",
       "    <tr>\n",
       "      <th>True</th>\n",
       "      <th></th>\n",
       "      <th></th>\n",
       "      <th></th>\n",
       "    </tr>\n",
       "  </thead>\n",
       "  <tbody>\n",
       "    <tr>\n",
       "      <th>0</th>\n",
       "      <td>594</td>\n",
       "      <td>4</td>\n",
       "      <td>598</td>\n",
       "    </tr>\n",
       "    <tr>\n",
       "      <th>1</th>\n",
       "      <td>106</td>\n",
       "      <td>1628</td>\n",
       "      <td>1734</td>\n",
       "    </tr>\n",
       "    <tr>\n",
       "      <th>2</th>\n",
       "      <td>24</td>\n",
       "      <td>449</td>\n",
       "      <td>473</td>\n",
       "    </tr>\n",
       "    <tr>\n",
       "      <th>All</th>\n",
       "      <td>724</td>\n",
       "      <td>2081</td>\n",
       "      <td>2805</td>\n",
       "    </tr>\n",
       "  </tbody>\n",
       "</table>\n",
       "</div>"
      ],
      "text/plain": [
       "Predicted    0     1   All\n",
       "True                      \n",
       "0          594     4   598\n",
       "1          106  1628  1734\n",
       "2           24   449   473\n",
       "All        724  2081  2805"
      ]
     },
     "execution_count": 138,
     "metadata": {},
     "output_type": "execute_result"
    }
   ],
   "source": [
    "pd.crosstab(true, predicted, rownames=['True'], colnames=['Predicted'], margins=True)"
   ]
  },
  {
   "cell_type": "code",
   "execution_count": 139,
   "metadata": {},
   "outputs": [
    {
     "name": "stdout",
     "output_type": "stream",
     "text": [
      "             precision    recall  f1-score   support\n",
      "\n",
      "          0       0.82      0.99      0.90       598\n",
      "          1       0.78      0.94      0.85      1734\n",
      "          2       0.00      0.00      0.00       473\n",
      "\n",
      "avg / total       0.66      0.79      0.72      2805\n",
      "\n"
     ]
    },
    {
     "name": "stderr",
     "output_type": "stream",
     "text": [
      "/Users/lmc2/anaconda/envs/NIHFAES/lib/python3.5/site-packages/sklearn/metrics/classification.py:1113: UndefinedMetricWarning:\n",
      "\n",
      "Precision and F-score are ill-defined and being set to 0.0 in labels with no predicted samples.\n",
      "\n"
     ]
    }
   ],
   "source": [
    "from sklearn.metrics import classification_report\n",
    "true = HG002_pred_2['GIAB_Crowd']\n",
    "pred = model.predict(X5)\n",
    "print(classification_report(true, pred))"
   ]
  },
  {
   "cell_type": "code",
   "execution_count": 140,
   "metadata": {},
   "outputs": [],
   "source": [
    "pred_prob = model.predict_proba(X5)"
   ]
  },
  {
   "cell_type": "code",
   "execution_count": 141,
   "metadata": {},
   "outputs": [],
   "source": [
    "X5['predicted_label'] = pred\n",
    "X5['Label'] = HG002_pred_2['GIAB_Crowd']\n",
    "X5['chrom'] = HG002_pred_2['chrom']\n",
    "X5['start'] = HG002_pred_2['start']\n",
    "X5['end'] = HG002_pred_2['end']"
   ]
  },
  {
   "cell_type": "code",
   "execution_count": 142,
   "metadata": {
    "collapsed": true
   },
   "outputs": [],
   "source": [
    "X6 = pd.concat([X5, pd.DataFrame(pred_prob, columns=['1','2','3','4'])])"
   ]
  },
  {
   "cell_type": "code",
   "execution_count": 143,
   "metadata": {
    "collapsed": true
   },
   "outputs": [],
   "source": [
    "X6.to_csv('250bp_pred_prob.csv', index=False)"
   ]
  },
  {
   "cell_type": "code",
   "execution_count": 144,
   "metadata": {
    "collapsed": true
   },
   "outputs": [],
   "source": [
    "X6 = pd.read_csv('250bp_pred_prob.csv')"
   ]
  },
  {
   "cell_type": "code",
   "execution_count": 145,
   "metadata": {
    "collapsed": true
   },
   "outputs": [],
   "source": [
    "X6.rename(columns={'1': 'unknown'}, inplace=True)\n",
    "X6.rename(columns={'2': 'Hom_Var'}, inplace=True)\n",
    "X6.rename(columns={'3': 'Het_Var'}, inplace=True)\n",
    "X6.rename(columns={'4': 'Hom_Ref'}, inplace=True)"
   ]
  },
  {
   "cell_type": "code",
   "execution_count": 120,
   "metadata": {
    "collapsed": true
   },
   "outputs": [],
   "source": []
  },
  {
   "cell_type": "markdown",
   "metadata": {},
   "source": [
    "** Show Size Distribution of Labels with Predict Probability > 0.8 **"
   ]
  },
  {
   "cell_type": "code",
   "execution_count": 146,
   "metadata": {
    "collapsed": true
   },
   "outputs": [],
   "source": [
    "X6['Hom_Var_str'] = X6['Hom_Var'].astype(str)"
   ]
  },
  {
   "cell_type": "code",
   "execution_count": 160,
   "metadata": {
    "collapsed": true
   },
   "outputs": [],
   "source": [
    "X_homVar_conf = X6[(X6['Hom_Var'] == 0.9) | (X6['Hom_Var'] == 1) | (X6['Hom_Var'] == 0.8)]"
   ]
  },
  {
   "cell_type": "code",
   "execution_count": 161,
   "metadata": {},
   "outputs": [
    {
     "name": "stderr",
     "output_type": "stream",
     "text": [
      "/Users/lmc2/anaconda/envs/NIHFAES/lib/python3.5/site-packages/ipykernel/__main__.py:1: SettingWithCopyWarning:\n",
      "\n",
      "\n",
      "A value is trying to be set on a copy of a slice from a DataFrame.\n",
      "Try using .loc[row_indexer,col_indexer] = value instead\n",
      "\n",
      "See the caveats in the documentation: http://pandas.pydata.org/pandas-docs/stable/indexing.html#indexing-view-versus-copy\n",
      "\n"
     ]
    }
   ],
   "source": [
    "X_homVar_conf['Size'] = HG002_pred_2['Size'].abs()"
   ]
  },
  {
   "cell_type": "code",
   "execution_count": 162,
   "metadata": {},
   "outputs": [
    {
     "data": {
      "text/html": [
       "\n",
       "    <div class=\"bk-root\">\n",
       "        <a href=\"http://bokeh.pydata.org\" target=\"_blank\" class=\"bk-logo bk-logo-small bk-logo-notebook\"></a>\n",
       "        <span id=\"ce24758d-839a-495f-aee5-c45360a291da\">Loading BokehJS ...</span>\n",
       "    </div>"
      ]
     },
     "metadata": {},
     "output_type": "display_data"
    },
    {
     "data": {
      "application/javascript": [
       "\n",
       "(function(global) {\n",
       "  function now() {\n",
       "    return new Date();\n",
       "  }\n",
       "\n",
       "  var force = true;\n",
       "\n",
       "  if (typeof (window._bokeh_onload_callbacks) === \"undefined\" || force === true) {\n",
       "    window._bokeh_onload_callbacks = [];\n",
       "    window._bokeh_is_loading = undefined;\n",
       "  }\n",
       "\n",
       "\n",
       "  \n",
       "  if (typeof (window._bokeh_timeout) === \"undefined\" || force === true) {\n",
       "    window._bokeh_timeout = Date.now() + 5000;\n",
       "    window._bokeh_failed_load = false;\n",
       "  }\n",
       "\n",
       "  var NB_LOAD_WARNING = {'data': {'text/html':\n",
       "     \"<div style='background-color: #fdd'>\\n\"+\n",
       "     \"<p>\\n\"+\n",
       "     \"BokehJS does not appear to have successfully loaded. If loading BokehJS from CDN, this \\n\"+\n",
       "     \"may be due to a slow or bad network connection. Possible fixes:\\n\"+\n",
       "     \"</p>\\n\"+\n",
       "     \"<ul>\\n\"+\n",
       "     \"<li>re-rerun `output_notebook()` to attempt to load from CDN again, or</li>\\n\"+\n",
       "     \"<li>use INLINE resources instead, as so:</li>\\n\"+\n",
       "     \"</ul>\\n\"+\n",
       "     \"<code>\\n\"+\n",
       "     \"from bokeh.resources import INLINE\\n\"+\n",
       "     \"output_notebook(resources=INLINE)\\n\"+\n",
       "     \"</code>\\n\"+\n",
       "     \"</div>\"}};\n",
       "\n",
       "  function display_loaded() {\n",
       "    if (window.Bokeh !== undefined) {\n",
       "      document.getElementById(\"ce24758d-839a-495f-aee5-c45360a291da\").textContent = \"BokehJS successfully loaded.\";\n",
       "    } else if (Date.now() < window._bokeh_timeout) {\n",
       "      setTimeout(display_loaded, 100)\n",
       "    }\n",
       "  }\n",
       "\n",
       "  function run_callbacks() {\n",
       "    window._bokeh_onload_callbacks.forEach(function(callback) { callback() });\n",
       "    delete window._bokeh_onload_callbacks\n",
       "    console.info(\"Bokeh: all callbacks have finished\");\n",
       "  }\n",
       "\n",
       "  function load_libs(js_urls, callback) {\n",
       "    window._bokeh_onload_callbacks.push(callback);\n",
       "    if (window._bokeh_is_loading > 0) {\n",
       "      console.log(\"Bokeh: BokehJS is being loaded, scheduling callback at\", now());\n",
       "      return null;\n",
       "    }\n",
       "    if (js_urls == null || js_urls.length === 0) {\n",
       "      run_callbacks();\n",
       "      return null;\n",
       "    }\n",
       "    console.log(\"Bokeh: BokehJS not loaded, scheduling load and callback at\", now());\n",
       "    window._bokeh_is_loading = js_urls.length;\n",
       "    for (var i = 0; i < js_urls.length; i++) {\n",
       "      var url = js_urls[i];\n",
       "      var s = document.createElement('script');\n",
       "      s.src = url;\n",
       "      s.async = false;\n",
       "      s.onreadystatechange = s.onload = function() {\n",
       "        window._bokeh_is_loading--;\n",
       "        if (window._bokeh_is_loading === 0) {\n",
       "          console.log(\"Bokeh: all BokehJS libraries loaded\");\n",
       "          run_callbacks()\n",
       "        }\n",
       "      };\n",
       "      s.onerror = function() {\n",
       "        console.warn(\"failed to load library \" + url);\n",
       "      };\n",
       "      console.log(\"Bokeh: injecting script tag for BokehJS library: \", url);\n",
       "      document.getElementsByTagName(\"head\")[0].appendChild(s);\n",
       "    }\n",
       "  };var element = document.getElementById(\"ce24758d-839a-495f-aee5-c45360a291da\");\n",
       "  if (element == null) {\n",
       "    console.log(\"Bokeh: ERROR: autoload.js configured with elementid 'ce24758d-839a-495f-aee5-c45360a291da' but no matching script tag was found. \")\n",
       "    return false;\n",
       "  }\n",
       "\n",
       "  var js_urls = [\"https://cdn.pydata.org/bokeh/release/bokeh-0.12.4.min.js\", \"https://cdn.pydata.org/bokeh/release/bokeh-widgets-0.12.4.min.js\"];\n",
       "\n",
       "  var inline_js = [\n",
       "    function(Bokeh) {\n",
       "      Bokeh.set_log_level(\"info\");\n",
       "    },\n",
       "    \n",
       "    function(Bokeh) {\n",
       "      \n",
       "      document.getElementById(\"ce24758d-839a-495f-aee5-c45360a291da\").textContent = \"BokehJS is loading...\";\n",
       "    },\n",
       "    function(Bokeh) {\n",
       "      console.log(\"Bokeh: injecting CSS: https://cdn.pydata.org/bokeh/release/bokeh-0.12.4.min.css\");\n",
       "      Bokeh.embed.inject_css(\"https://cdn.pydata.org/bokeh/release/bokeh-0.12.4.min.css\");\n",
       "      console.log(\"Bokeh: injecting CSS: https://cdn.pydata.org/bokeh/release/bokeh-widgets-0.12.4.min.css\");\n",
       "      Bokeh.embed.inject_css(\"https://cdn.pydata.org/bokeh/release/bokeh-widgets-0.12.4.min.css\");\n",
       "    }\n",
       "  ];\n",
       "\n",
       "  function run_inline_js() {\n",
       "    \n",
       "    if ((window.Bokeh !== undefined) || (force === true)) {\n",
       "      for (var i = 0; i < inline_js.length; i++) {\n",
       "        inline_js[i](window.Bokeh);\n",
       "      }if (force === true) {\n",
       "        display_loaded();\n",
       "      }} else if (Date.now() < window._bokeh_timeout) {\n",
       "      setTimeout(run_inline_js, 100);\n",
       "    } else if (!window._bokeh_failed_load) {\n",
       "      console.log(\"Bokeh: BokehJS failed to load within specified timeout.\");\n",
       "      window._bokeh_failed_load = true;\n",
       "    } else if (force !== true) {\n",
       "      var cell = $(document.getElementById(\"ce24758d-839a-495f-aee5-c45360a291da\")).parents('.cell').data().cell;\n",
       "      cell.output_area.append_execute_result(NB_LOAD_WARNING)\n",
       "    }\n",
       "\n",
       "  }\n",
       "\n",
       "  if (window._bokeh_is_loading === 0) {\n",
       "    console.log(\"Bokeh: BokehJS loaded, going straight to plotting\");\n",
       "    run_inline_js();\n",
       "  } else {\n",
       "    load_libs(js_urls, function() {\n",
       "      console.log(\"Bokeh: BokehJS plotting callback run at\", now());\n",
       "      run_inline_js();\n",
       "    });\n",
       "  }\n",
       "}(this));"
      ]
     },
     "metadata": {},
     "output_type": "display_data"
    }
   ],
   "source": [
    "output_notebook()"
   ]
  },
  {
   "cell_type": "code",
   "execution_count": 181,
   "metadata": {},
   "outputs": [
    {
     "name": "stderr",
     "output_type": "stream",
     "text": [
      "INFO:bokeh.core.state:Session output file '250bp_HomVar_PredProb0.8+.html' already exists, will be overwritten.\n"
     ]
    },
    {
     "data": {
      "text/html": [
       "\n",
       "\n",
       "    <div class=\"bk-root\">\n",
       "        <div class=\"bk-plotdiv\" id=\"b3d74dd4-d644-492d-9770-ee32850ae5a3\"></div>\n",
       "    </div>\n",
       "<script type=\"text/javascript\">\n",
       "  \n",
       "  (function(global) {\n",
       "    function now() {\n",
       "      return new Date();\n",
       "    }\n",
       "  \n",
       "    var force = false;\n",
       "  \n",
       "    if (typeof (window._bokeh_onload_callbacks) === \"undefined\" || force === true) {\n",
       "      window._bokeh_onload_callbacks = [];\n",
       "      window._bokeh_is_loading = undefined;\n",
       "    }\n",
       "  \n",
       "  \n",
       "    \n",
       "    if (typeof (window._bokeh_timeout) === \"undefined\" || force === true) {\n",
       "      window._bokeh_timeout = Date.now() + 0;\n",
       "      window._bokeh_failed_load = false;\n",
       "    }\n",
       "  \n",
       "    var NB_LOAD_WARNING = {'data': {'text/html':\n",
       "       \"<div style='background-color: #fdd'>\\n\"+\n",
       "       \"<p>\\n\"+\n",
       "       \"BokehJS does not appear to have successfully loaded. If loading BokehJS from CDN, this \\n\"+\n",
       "       \"may be due to a slow or bad network connection. Possible fixes:\\n\"+\n",
       "       \"</p>\\n\"+\n",
       "       \"<ul>\\n\"+\n",
       "       \"<li>re-rerun `output_notebook()` to attempt to load from CDN again, or</li>\\n\"+\n",
       "       \"<li>use INLINE resources instead, as so:</li>\\n\"+\n",
       "       \"</ul>\\n\"+\n",
       "       \"<code>\\n\"+\n",
       "       \"from bokeh.resources import INLINE\\n\"+\n",
       "       \"output_notebook(resources=INLINE)\\n\"+\n",
       "       \"</code>\\n\"+\n",
       "       \"</div>\"}};\n",
       "  \n",
       "    function display_loaded() {\n",
       "      if (window.Bokeh !== undefined) {\n",
       "        document.getElementById(\"b3d74dd4-d644-492d-9770-ee32850ae5a3\").textContent = \"BokehJS successfully loaded.\";\n",
       "      } else if (Date.now() < window._bokeh_timeout) {\n",
       "        setTimeout(display_loaded, 100)\n",
       "      }\n",
       "    }\n",
       "  \n",
       "    function run_callbacks() {\n",
       "      window._bokeh_onload_callbacks.forEach(function(callback) { callback() });\n",
       "      delete window._bokeh_onload_callbacks\n",
       "      console.info(\"Bokeh: all callbacks have finished\");\n",
       "    }\n",
       "  \n",
       "    function load_libs(js_urls, callback) {\n",
       "      window._bokeh_onload_callbacks.push(callback);\n",
       "      if (window._bokeh_is_loading > 0) {\n",
       "        console.log(\"Bokeh: BokehJS is being loaded, scheduling callback at\", now());\n",
       "        return null;\n",
       "      }\n",
       "      if (js_urls == null || js_urls.length === 0) {\n",
       "        run_callbacks();\n",
       "        return null;\n",
       "      }\n",
       "      console.log(\"Bokeh: BokehJS not loaded, scheduling load and callback at\", now());\n",
       "      window._bokeh_is_loading = js_urls.length;\n",
       "      for (var i = 0; i < js_urls.length; i++) {\n",
       "        var url = js_urls[i];\n",
       "        var s = document.createElement('script');\n",
       "        s.src = url;\n",
       "        s.async = false;\n",
       "        s.onreadystatechange = s.onload = function() {\n",
       "          window._bokeh_is_loading--;\n",
       "          if (window._bokeh_is_loading === 0) {\n",
       "            console.log(\"Bokeh: all BokehJS libraries loaded\");\n",
       "            run_callbacks()\n",
       "          }\n",
       "        };\n",
       "        s.onerror = function() {\n",
       "          console.warn(\"failed to load library \" + url);\n",
       "        };\n",
       "        console.log(\"Bokeh: injecting script tag for BokehJS library: \", url);\n",
       "        document.getElementsByTagName(\"head\")[0].appendChild(s);\n",
       "      }\n",
       "    };var element = document.getElementById(\"b3d74dd4-d644-492d-9770-ee32850ae5a3\");\n",
       "    if (element == null) {\n",
       "      console.log(\"Bokeh: ERROR: autoload.js configured with elementid 'b3d74dd4-d644-492d-9770-ee32850ae5a3' but no matching script tag was found. \")\n",
       "      return false;\n",
       "    }\n",
       "  \n",
       "    var js_urls = [];\n",
       "  \n",
       "    var inline_js = [\n",
       "      function(Bokeh) {\n",
       "        (function() {\n",
       "          var fn = function() {\n",
       "            var docs_json = {\"f22a7168-99c6-47a6-857f-3b5626a97d47\":{\"roots\":{\"references\":[{\"attributes\":{\"data_source\":{\"id\":\"2394bbd7-1ddf-4852-a2f8-f5f8c68e30d3\",\"type\":\"ColumnDataSource\"},\"glyph\":{\"id\":\"c89d84cc-e275-4336-bfab-02b79c928055\",\"type\":\"Rect\"},\"hover_glyph\":null,\"nonselection_glyph\":null,\"selection_glyph\":null},\"id\":\"a3753b87-ae9d-4ebb-97aa-0325bf8eefbc\",\"type\":\"GlyphRenderer\"},{\"attributes\":{\"fill_alpha\":{\"field\":\"fill_alpha\"},\"fill_color\":{\"field\":\"color\"},\"height\":{\"field\":\"height\",\"units\":\"data\"},\"line_color\":{\"field\":\"line_color\"},\"width\":{\"field\":\"width\",\"units\":\"data\"},\"x\":{\"field\":\"x\"},\"y\":{\"field\":\"y\"}},\"id\":\"cfa15a85-1284-46e2-8058-9b99a2badcb7\",\"type\":\"Rect\"},{\"attributes\":{\"callback\":null,\"end\":6261.2000001666665,\"start\":-133.20000016666668},\"id\":\"5e5e54ed-3c42-4129-b1ef-7ca61d508ab0\",\"type\":\"Range1d\"},{\"attributes\":{\"callback\":null,\"column_names\":[\"label\",\"line_color\",\"height\",\"line_alpha\",\"fill_alpha\",\"width\",\"color\",\"x\",\"y\"],\"data\":{\"chart_index\":[\"(4281.600000, 4484.533333]\"],\"color\":[\"LightSlateGray\"],\"fill_alpha\":[0.8],\"height\":[0.0],\"label\":[\"(4281.600000, 4484.533333]\"],\"line_alpha\":[1.0],\"line_color\":[\"black\"],\"width\":[202.9333333333334],\"x\":[\"4383.066666500001\"],\"y\":[0.0]}},\"id\":\"8a5138ad-f0f6-4335-9ab7-01b9f12aef23\",\"type\":\"ColumnDataSource\"},{\"attributes\":{\"fill_alpha\":{\"field\":\"fill_alpha\"},\"fill_color\":{\"field\":\"color\"},\"height\":{\"field\":\"height\",\"units\":\"data\"},\"line_color\":{\"field\":\"line_color\"},\"width\":{\"field\":\"width\",\"units\":\"data\"},\"x\":{\"field\":\"x\"},\"y\":{\"field\":\"y\"}},\"id\":\"f97ceb8f-358b-494d-8e84-8b1ea4ede630\",\"type\":\"Rect\"},{\"attributes\":{\"data_source\":{\"id\":\"069cf068-5f58-4f1b-ae06-4a0d566770cb\",\"type\":\"ColumnDataSource\"},\"glyph\":{\"id\":\"ea4bd4ad-2efd-4be1-a75a-559494431693\",\"type\":\"Rect\"},\"hover_glyph\":null,\"nonselection_glyph\":null,\"selection_glyph\":null},\"id\":\"5fcc7f39-31cb-4b61-bc0b-aba05c6adfba\",\"type\":\"GlyphRenderer\"},{\"attributes\":{\"data_source\":{\"id\":\"43d52700-15db-48bc-9b3e-7026bc750ce6\",\"type\":\"ColumnDataSource\"},\"glyph\":{\"id\":\"fdf4563e-06d8-486f-9417-ca5ee5c4804c\",\"type\":\"Rect\"},\"hover_glyph\":null,\"nonselection_glyph\":null,\"selection_glyph\":null},\"id\":\"64ccfc4f-34d4-4d49-b34a-feaecb4865e1\",\"type\":\"GlyphRenderer\"},{\"attributes\":{\"below\":[{\"id\":\"ce1e5932-e65f-4a6a-9803-26e89574eb38\",\"type\":\"LinearAxis\"}],\"css_classes\":null,\"left\":[{\"id\":\"34cee996-657e-4ef5-bf0d-6dee1b131f65\",\"type\":\"LinearAxis\"}],\"renderers\":[{\"id\":\"37ad4c76-6ab8-44b6-961a-469d1f76f228\",\"type\":\"BoxAnnotation\"},{\"id\":\"163244dd-3ce9-4a0a-882a-e0c706557e74\",\"type\":\"GlyphRenderer\"},{\"id\":\"480d8ef5-fb37-4a86-9e5d-bc639d445ef0\",\"type\":\"GlyphRenderer\"},{\"id\":\"8cc678b3-a7d3-417b-82f1-28325cbffc34\",\"type\":\"GlyphRenderer\"},{\"id\":\"14e0009a-8f10-43f6-b820-74f56dabe09b\",\"type\":\"GlyphRenderer\"},{\"id\":\"3cc1468e-753b-4322-9eef-68a54c64cfb6\",\"type\":\"GlyphRenderer\"},{\"id\":\"57d9db29-c662-485b-8a21-575de0c86590\",\"type\":\"GlyphRenderer\"},{\"id\":\"68a96dae-4c0a-4623-8c34-58b6e146e42c\",\"type\":\"GlyphRenderer\"},{\"id\":\"ebf53a5f-7921-4da1-9970-ffc0364bee35\",\"type\":\"GlyphRenderer\"},{\"id\":\"aecf9921-ae0c-425d-a6b6-d0c60eda8727\",\"type\":\"GlyphRenderer\"},{\"id\":\"22c7f4ba-6a9f-48fe-8e31-9176ecfcb2b5\",\"type\":\"GlyphRenderer\"},{\"id\":\"a5d61421-2d98-4741-9de8-8100a51189d9\",\"type\":\"GlyphRenderer\"},{\"id\":\"a3753b87-ae9d-4ebb-97aa-0325bf8eefbc\",\"type\":\"GlyphRenderer\"},{\"id\":\"1c4b0979-b23a-49b1-8613-978ccad2cf24\",\"type\":\"GlyphRenderer\"},{\"id\":\"a9d60539-42c1-4b98-87ec-74c3e51f5a0e\",\"type\":\"GlyphRenderer\"},{\"id\":\"5fcc7f39-31cb-4b61-bc0b-aba05c6adfba\",\"type\":\"GlyphRenderer\"},{\"id\":\"0798c32a-ffeb-46eb-85ac-a9d6a83d426b\",\"type\":\"GlyphRenderer\"},{\"id\":\"687cc6cc-966c-4ddf-b064-919b7ca726b5\",\"type\":\"GlyphRenderer\"},{\"id\":\"e4174bbe-84d8-4d07-89e0-3d7e1d668ae9\",\"type\":\"GlyphRenderer\"},{\"id\":\"5da66c4d-792b-45e8-942a-d6007174000c\",\"type\":\"GlyphRenderer\"},{\"id\":\"5fb53136-8d85-4df8-a78b-259418ba5f0d\",\"type\":\"GlyphRenderer\"},{\"id\":\"f464642a-c7f3-4192-b05d-815a1c62b5f9\",\"type\":\"GlyphRenderer\"},{\"id\":\"b8e94926-768d-45cf-9adb-39ad00116a7d\",\"type\":\"GlyphRenderer\"},{\"id\":\"473b263b-91bc-495b-85ac-53a5b9d30a2a\",\"type\":\"GlyphRenderer\"},{\"id\":\"a037b9ea-00bb-403f-8b56-4506d94bbf73\",\"type\":\"GlyphRenderer\"},{\"id\":\"706df03b-66a3-43a3-9ea8-70ecd6a7aec6\",\"type\":\"GlyphRenderer\"},{\"id\":\"0e79301e-9726-40cb-aedc-fbd29518fff3\",\"type\":\"GlyphRenderer\"},{\"id\":\"68d202f5-b439-4f63-9751-87e0edcfc0d1\",\"type\":\"GlyphRenderer\"},{\"id\":\"82677ff9-f865-4d57-9de7-36bb6ac8ea96\",\"type\":\"GlyphRenderer\"},{\"id\":\"64ccfc4f-34d4-4d49-b34a-feaecb4865e1\",\"type\":\"GlyphRenderer\"},{\"id\":\"423394e1-2bbd-4211-ac37-682b03b219f3\",\"type\":\"GlyphRenderer\"},{\"id\":\"539207d1-c1e0-447a-8b20-4ae8a190f289\",\"type\":\"Legend\"},{\"id\":\"ce1e5932-e65f-4a6a-9803-26e89574eb38\",\"type\":\"LinearAxis\"},{\"id\":\"34cee996-657e-4ef5-bf0d-6dee1b131f65\",\"type\":\"LinearAxis\"},{\"id\":\"bdbc1596-808e-47f0-aff3-fea0cef27a14\",\"type\":\"Grid\"}],\"title\":{\"id\":\"d810b62d-3043-4882-9a51-0e50f524120d\",\"type\":\"Title\"},\"tool_events\":{\"id\":\"4c993a76-3cf4-426d-a1a4-7b808f8a0e05\",\"type\":\"ToolEvents\"},\"toolbar\":{\"id\":\"bf105aec-6d79-47ff-8d44-323d57a87d91\",\"type\":\"Toolbar\"},\"x_mapper_type\":\"auto\",\"x_range\":{\"id\":\"5e5e54ed-3c42-4129-b1ef-7ca61d508ab0\",\"type\":\"Range1d\"},\"y_mapper_type\":\"auto\",\"y_range\":{\"id\":\"469c8c1e-6682-4010-a9c4-585c67135f38\",\"type\":\"Range1d\"}},\"id\":\"4cdfa064-7d7b-4a49-867c-4437d880bd59\",\"subtype\":\"Chart\",\"type\":\"Plot\"},{\"attributes\":{\"fill_alpha\":{\"field\":\"fill_alpha\"},\"fill_color\":{\"field\":\"color\"},\"height\":{\"field\":\"height\",\"units\":\"data\"},\"line_color\":{\"field\":\"line_color\"},\"width\":{\"field\":\"width\",\"units\":\"data\"},\"x\":{\"field\":\"x\"},\"y\":{\"field\":\"y\"}},\"id\":\"8ed123c8-aec3-4660-9bc5-5a6344f52cc4\",\"type\":\"Rect\"},{\"attributes\":{\"callback\":null,\"column_names\":[\"label\",\"line_color\",\"height\",\"line_alpha\",\"fill_alpha\",\"width\",\"color\",\"x\",\"y\"],\"data\":{\"chart_index\":[\"(2658.133333, 2861.066667]\"],\"color\":[\"LightSlateGray\"],\"fill_alpha\":[0.8],\"height\":[1.0],\"label\":[\"(2658.133333, 2861.066667]\"],\"line_alpha\":[1.0],\"line_color\":[\"black\"],\"width\":[202.9333333333334],\"x\":[\"2759.6000000000004\"],\"y\":[0.5]}},\"id\":\"68dc8f1c-db32-4bdb-b16c-2051b3e8f0ee\",\"type\":\"ColumnDataSource\"},{\"attributes\":{\"callback\":null,\"end\":501.6},\"id\":\"469c8c1e-6682-4010-a9c4-585c67135f38\",\"type\":\"Range1d\"},{\"attributes\":{\"plot\":{\"id\":\"4cdfa064-7d7b-4a49-867c-4437d880bd59\",\"subtype\":\"Chart\",\"type\":\"Plot\"}},\"id\":\"ad66cd9a-d7a4-44ff-84d4-5885ffcee16e\",\"type\":\"SaveTool\"},{\"attributes\":{\"location\":\"top_left\",\"plot\":{\"id\":\"4cdfa064-7d7b-4a49-867c-4437d880bd59\",\"subtype\":\"Chart\",\"type\":\"Plot\"}},\"id\":\"539207d1-c1e0-447a-8b20-4ae8a190f289\",\"type\":\"Legend\"},{\"attributes\":{\"data_source\":{\"id\":\"9aaec66f-b2c1-4a8b-8007-92dcc1b29efb\",\"type\":\"ColumnDataSource\"},\"glyph\":{\"id\":\"6c69e783-336f-41b2-85a7-41951f0d0546\",\"type\":\"Rect\"},\"hover_glyph\":null,\"nonselection_glyph\":null,\"selection_glyph\":null},\"id\":\"8cc678b3-a7d3-417b-82f1-28325cbffc34\",\"type\":\"GlyphRenderer\"},{\"attributes\":{\"data_source\":{\"id\":\"ae4d667c-9a6f-450c-a655-b437a648aec3\",\"type\":\"ColumnDataSource\"},\"glyph\":{\"id\":\"e0b75a9a-b659-46dc-80fa-367d127eecd6\",\"type\":\"Rect\"},\"hover_glyph\":null,\"nonselection_glyph\":null,\"selection_glyph\":null},\"id\":\"14e0009a-8f10-43f6-b820-74f56dabe09b\",\"type\":\"GlyphRenderer\"},{\"attributes\":{\"data_source\":{\"id\":\"4c0e7109-0a23-4c6a-b123-89f6280b7df9\",\"type\":\"ColumnDataSource\"},\"glyph\":{\"id\":\"1a55a62a-8b6f-4694-ab18-e076d1e93c65\",\"type\":\"Rect\"},\"hover_glyph\":null,\"nonselection_glyph\":null,\"selection_glyph\":null},\"id\":\"68d202f5-b439-4f63-9751-87e0edcfc0d1\",\"type\":\"GlyphRenderer\"},{\"attributes\":{\"callback\":null,\"column_names\":[\"label\",\"line_color\",\"height\",\"line_alpha\",\"fill_alpha\",\"width\",\"color\",\"x\",\"y\"],\"data\":{\"chart_index\":[\"(3064.000000, 3266.933333]\"],\"color\":[\"LightSlateGray\"],\"fill_alpha\":[0.8],\"height\":[0.0],\"label\":[\"(3064.000000, 3266.933333]\"],\"line_alpha\":[1.0],\"line_color\":[\"black\"],\"width\":[202.9333333333334],\"x\":[\"3165.4666665\"],\"y\":[0.0]}},\"id\":\"0a9abcbc-d26a-41dc-a7de-63e98c0a787a\",\"type\":\"ColumnDataSource\"},{\"attributes\":{\"data_source\":{\"id\":\"68dc8f1c-db32-4bdb-b16c-2051b3e8f0ee\",\"type\":\"ColumnDataSource\"},\"glyph\":{\"id\":\"f594133c-083e-4130-bfc0-07c529a51462\",\"type\":\"Rect\"},\"hover_glyph\":null,\"nonselection_glyph\":null,\"selection_glyph\":null},\"id\":\"a9d60539-42c1-4b98-87ec-74c3e51f5a0e\",\"type\":\"GlyphRenderer\"},{\"attributes\":{\"data_source\":{\"id\":\"ec713c77-397e-4ccb-b48b-85eecac5b9cb\",\"type\":\"ColumnDataSource\"},\"glyph\":{\"id\":\"c6a948dc-cb5b-4a0f-9da9-707c0e410578\",\"type\":\"Rect\"},\"hover_glyph\":null,\"nonselection_glyph\":null,\"selection_glyph\":null},\"id\":\"480d8ef5-fb37-4a86-9e5d-bc639d445ef0\",\"type\":\"GlyphRenderer\"},{\"attributes\":{\"plot\":{\"id\":\"4cdfa064-7d7b-4a49-867c-4437d880bd59\",\"subtype\":\"Chart\",\"type\":\"Plot\"}},\"id\":\"bb67951b-3c4d-4cb6-8d90-373fc7dfc50d\",\"type\":\"HelpTool\"},{\"attributes\":{\"callback\":null,\"column_names\":[\"label\",\"line_color\",\"height\",\"line_alpha\",\"fill_alpha\",\"width\",\"color\",\"x\",\"y\"],\"data\":{\"chart_index\":[\"(1643.466667, 1846.400000]\"],\"color\":[\"LightSlateGray\"],\"fill_alpha\":[0.8],\"height\":[6.0],\"label\":[\"(1643.466667, 1846.400000]\"],\"line_alpha\":[1.0],\"line_color\":[\"black\"],\"width\":[202.9333333333334],\"x\":[\"1744.9333335000001\"],\"y\":[3.0]}},\"id\":\"329c1828-8f50-429c-afe0-26c6f1ad32e4\",\"type\":\"ColumnDataSource\"},{\"attributes\":{\"callback\":null,\"column_names\":[\"label\",\"line_color\",\"height\",\"line_alpha\",\"fill_alpha\",\"width\",\"color\",\"x\",\"y\"],\"data\":{\"chart_index\":[\"(222.933333, 425.866667]\"],\"color\":[\"LightSlateGray\"],\"fill_alpha\":[0.8],\"height\":[86.0],\"label\":[\"(222.933333, 425.866667]\"],\"line_alpha\":[1.0],\"line_color\":[\"black\"],\"width\":[202.93333333333334],\"x\":[\"324.4\"],\"y\":[43.0]}},\"id\":\"ec713c77-397e-4ccb-b48b-85eecac5b9cb\",\"type\":\"ColumnDataSource\"},{\"attributes\":{\"callback\":null,\"column_names\":[\"label\",\"line_color\",\"height\",\"line_alpha\",\"fill_alpha\",\"width\",\"color\",\"x\",\"y\"],\"data\":{\"chart_index\":[\"(2049.333333, 2252.266667]\"],\"color\":[\"LightSlateGray\"],\"fill_alpha\":[0.8],\"height\":[2.0],\"label\":[\"(2049.333333, 2252.266667]\"],\"line_alpha\":[1.0],\"line_color\":[\"black\"],\"width\":[202.9333333333334],\"x\":[\"2150.8\"],\"y\":[1.0]}},\"id\":\"671ac866-da10-4a7c-b441-0e83770ca30a\",\"type\":\"ColumnDataSource\"},{\"attributes\":{\"data_source\":{\"id\":\"2cae8b20-51f7-460e-936b-04f2f0274b50\",\"type\":\"ColumnDataSource\"},\"glyph\":{\"id\":\"99c5fbe1-4ce1-4eb4-a1bb-dd4f7d4f89f2\",\"type\":\"Rect\"},\"hover_glyph\":null,\"nonselection_glyph\":null,\"selection_glyph\":null},\"id\":\"22c7f4ba-6a9f-48fe-8e31-9176ecfcb2b5\",\"type\":\"GlyphRenderer\"},{\"attributes\":{\"axis_label\":\"Size(bp)\",\"formatter\":{\"id\":\"5153a520-c3b0-4e1f-9b31-6cb7f0da35a8\",\"type\":\"BasicTickFormatter\"},\"plot\":{\"id\":\"4cdfa064-7d7b-4a49-867c-4437d880bd59\",\"subtype\":\"Chart\",\"type\":\"Plot\"},\"ticker\":{\"id\":\"9e0bfedd-aa80-4b34-800d-12911b1a6c39\",\"type\":\"BasicTicker\"}},\"id\":\"ce1e5932-e65f-4a6a-9803-26e89574eb38\",\"type\":\"LinearAxis\"},{\"attributes\":{\"plot\":{\"id\":\"4cdfa064-7d7b-4a49-867c-4437d880bd59\",\"subtype\":\"Chart\",\"type\":\"Plot\"}},\"id\":\"9a088529-8d73-4cde-af96-f6912271b785\",\"type\":\"PanTool\"},{\"attributes\":{\"bottom_units\":\"screen\",\"fill_alpha\":{\"value\":0.5},\"fill_color\":{\"value\":\"lightgrey\"},\"left_units\":\"screen\",\"level\":\"overlay\",\"line_alpha\":{\"value\":1.0},\"line_color\":{\"value\":\"black\"},\"line_dash\":[4,4],\"line_width\":{\"value\":2},\"plot\":null,\"render_mode\":\"css\",\"right_units\":\"screen\",\"top_units\":\"screen\"},\"id\":\"37ad4c76-6ab8-44b6-961a-469d1f76f228\",\"type\":\"BoxAnnotation\"},{\"attributes\":{\"data_source\":{\"id\":\"f7c4ab4e-a787-4941-8348-334d018add09\",\"type\":\"ColumnDataSource\"},\"glyph\":{\"id\":\"7a4a1d45-5fe4-4090-9307-737800284880\",\"type\":\"Rect\"},\"hover_glyph\":null,\"nonselection_glyph\":null,\"selection_glyph\":null},\"id\":\"0e79301e-9726-40cb-aedc-fbd29518fff3\",\"type\":\"GlyphRenderer\"},{\"attributes\":{\"fill_alpha\":{\"field\":\"fill_alpha\"},\"fill_color\":{\"field\":\"color\"},\"height\":{\"field\":\"height\",\"units\":\"data\"},\"line_color\":{\"field\":\"line_color\"},\"width\":{\"field\":\"width\",\"units\":\"data\"},\"x\":{\"field\":\"x\"},\"y\":{\"field\":\"y\"}},\"id\":\"fbbe6410-0871-415e-99f7-250a7ef69a19\",\"type\":\"Rect\"},{\"attributes\":{\"fill_alpha\":{\"field\":\"fill_alpha\"},\"fill_color\":{\"field\":\"color\"},\"height\":{\"field\":\"height\",\"units\":\"data\"},\"line_color\":{\"field\":\"line_color\"},\"width\":{\"field\":\"width\",\"units\":\"data\"},\"x\":{\"field\":\"x\"},\"y\":{\"field\":\"y\"}},\"id\":\"d0d1e1c2-1e41-44af-ab77-8522abd8823a\",\"type\":\"Rect\"},{\"attributes\":{\"callback\":null,\"column_names\":[\"label\",\"line_color\",\"height\",\"line_alpha\",\"fill_alpha\",\"width\",\"color\",\"x\",\"y\"],\"data\":{\"chart_index\":[\"(5093.333333, 5296.266667]\"],\"color\":[\"LightSlateGray\"],\"fill_alpha\":[0.8],\"height\":[1.0],\"label\":[\"(5093.333333, 5296.266667]\"],\"line_alpha\":[1.0],\"line_color\":[\"black\"],\"width\":[202.9333333333334],\"x\":[\"5194.799999999999\"],\"y\":[0.5]}},\"id\":\"f7c4ab4e-a787-4941-8348-334d018add09\",\"type\":\"ColumnDataSource\"},{\"attributes\":{},\"id\":\"5153a520-c3b0-4e1f-9b31-6cb7f0da35a8\",\"type\":\"BasicTickFormatter\"},{\"attributes\":{\"fill_alpha\":{\"field\":\"fill_alpha\"},\"fill_color\":{\"field\":\"color\"},\"height\":{\"field\":\"height\",\"units\":\"data\"},\"line_color\":{\"field\":\"line_color\"},\"width\":{\"field\":\"width\",\"units\":\"data\"},\"x\":{\"field\":\"x\"},\"y\":{\"field\":\"y\"}},\"id\":\"42078964-fc3b-43d8-be37-2e7822f6cd2e\",\"type\":\"Rect\"},{\"attributes\":{\"fill_alpha\":{\"field\":\"fill_alpha\"},\"fill_color\":{\"field\":\"color\"},\"height\":{\"field\":\"height\",\"units\":\"data\"},\"line_color\":{\"field\":\"line_color\"},\"width\":{\"field\":\"width\",\"units\":\"data\"},\"x\":{\"field\":\"x\"},\"y\":{\"field\":\"y\"}},\"id\":\"c89d84cc-e275-4336-bfab-02b79c928055\",\"type\":\"Rect\"},{\"attributes\":{},\"id\":\"7855d64f-1089-4c96-ac01-964536bdf60f\",\"type\":\"BasicTicker\"},{\"attributes\":{\"fill_alpha\":{\"field\":\"fill_alpha\"},\"fill_color\":{\"field\":\"color\"},\"height\":{\"field\":\"height\",\"units\":\"data\"},\"line_color\":{\"field\":\"line_color\"},\"width\":{\"field\":\"width\",\"units\":\"data\"},\"x\":{\"field\":\"x\"},\"y\":{\"field\":\"y\"}},\"id\":\"a400a3f1-0d5a-4355-8716-166e242891c0\",\"type\":\"Rect\"},{\"attributes\":{\"data_source\":{\"id\":\"8a5138ad-f0f6-4335-9ab7-01b9f12aef23\",\"type\":\"ColumnDataSource\"},\"glyph\":{\"id\":\"3db4cf07-667e-4d05-a810-68c130919e55\",\"type\":\"Rect\"},\"hover_glyph\":null,\"nonselection_glyph\":null,\"selection_glyph\":null},\"id\":\"b8e94926-768d-45cf-9adb-39ad00116a7d\",\"type\":\"GlyphRenderer\"},{\"attributes\":{\"callback\":null,\"column_names\":[\"label\",\"line_color\",\"height\",\"line_alpha\",\"fill_alpha\",\"width\",\"color\",\"x\",\"y\"],\"data\":{\"chart_index\":[\"(4687.466667, 4890.400000]\"],\"color\":[\"LightSlateGray\"],\"fill_alpha\":[0.8],\"height\":[1.0],\"label\":[\"(4687.466667, 4890.400000]\"],\"line_alpha\":[1.0],\"line_color\":[\"black\"],\"width\":[202.93333333333248],\"x\":[\"4788.933333499999\"],\"y\":[0.5]}},\"id\":\"afff4582-c288-4d9d-8260-49568d10f7d2\",\"type\":\"ColumnDataSource\"},{\"attributes\":{\"callback\":null,\"column_names\":[\"label\",\"line_color\",\"height\",\"line_alpha\",\"fill_alpha\",\"width\",\"color\",\"x\",\"y\"],\"data\":{\"chart_index\":[\"(3469.866667, 3672.800000]\"],\"color\":[\"LightSlateGray\"],\"fill_alpha\":[0.8],\"height\":[1.0],\"label\":[\"(3469.866667, 3672.800000]\"],\"line_alpha\":[1.0],\"line_color\":[\"black\"],\"width\":[202.9333333333334],\"x\":[\"3571.3333334999998\"],\"y\":[0.5]}},\"id\":\"30103f53-17f4-46dd-8b00-8aa69f6988a1\",\"type\":\"ColumnDataSource\"},{\"attributes\":{\"data_source\":{\"id\":\"21916dc9-cd21-4ab3-90fd-1a0e494a6981\",\"type\":\"ColumnDataSource\"},\"glyph\":{\"id\":\"5a43fc28-420a-421c-bb68-90f9eaadd34d\",\"type\":\"Rect\"},\"hover_glyph\":null,\"nonselection_glyph\":null,\"selection_glyph\":null},\"id\":\"1c4b0979-b23a-49b1-8613-978ccad2cf24\",\"type\":\"GlyphRenderer\"},{\"attributes\":{\"callback\":null,\"column_names\":[\"label\",\"line_color\",\"height\",\"line_alpha\",\"fill_alpha\",\"width\",\"color\",\"x\",\"y\"],\"data\":{\"chart_index\":[\"(3266.933333, 3469.866667]\"],\"color\":[\"LightSlateGray\"],\"fill_alpha\":[0.8],\"height\":[1.0],\"label\":[\"(3266.933333, 3469.866667]\"],\"line_alpha\":[1.0],\"line_color\":[\"black\"],\"width\":[202.9333333333334],\"x\":[\"3368.3999999999996\"],\"y\":[0.5]}},\"id\":\"26e23088-3b67-4ff0-8a84-dc40412e4c1d\",\"type\":\"ColumnDataSource\"},{\"attributes\":{\"data_source\":{\"id\":\"30103f53-17f4-46dd-8b00-8aa69f6988a1\",\"type\":\"ColumnDataSource\"},\"glyph\":{\"id\":\"96979386-f3ed-4506-9ad3-0d4721681753\",\"type\":\"Rect\"},\"hover_glyph\":null,\"nonselection_glyph\":null,\"selection_glyph\":null},\"id\":\"e4174bbe-84d8-4d07-89e0-3d7e1d668ae9\",\"type\":\"GlyphRenderer\"},{\"attributes\":{\"plot\":{\"id\":\"4cdfa064-7d7b-4a49-867c-4437d880bd59\",\"subtype\":\"Chart\",\"type\":\"Plot\"}},\"id\":\"e34e6c9a-d379-4659-88fe-cd4b4379151c\",\"type\":\"ResetTool\"},{\"attributes\":{\"data_source\":{\"id\":\"5eb6e7d2-8f47-4157-9308-369a1f9cf11a\",\"type\":\"ColumnDataSource\"},\"glyph\":{\"id\":\"a400a3f1-0d5a-4355-8716-166e242891c0\",\"type\":\"Rect\"},\"hover_glyph\":null,\"nonselection_glyph\":null,\"selection_glyph\":null},\"id\":\"ebf53a5f-7921-4da1-9970-ffc0364bee35\",\"type\":\"GlyphRenderer\"},{\"attributes\":{\"fill_alpha\":{\"field\":\"fill_alpha\"},\"fill_color\":{\"field\":\"color\"},\"height\":{\"field\":\"height\",\"units\":\"data\"},\"line_color\":{\"field\":\"line_color\"},\"width\":{\"field\":\"width\",\"units\":\"data\"},\"x\":{\"field\":\"x\"},\"y\":{\"field\":\"y\"}},\"id\":\"96979386-f3ed-4506-9ad3-0d4721681753\",\"type\":\"Rect\"},{\"attributes\":{\"plot\":{\"id\":\"4cdfa064-7d7b-4a49-867c-4437d880bd59\",\"subtype\":\"Chart\",\"type\":\"Plot\"}},\"id\":\"829b61c0-0693-4dde-8c3a-7c013a3f3ee7\",\"type\":\"WheelZoomTool\"},{\"attributes\":{\"callback\":null,\"column_names\":[\"label\",\"line_color\",\"height\",\"line_alpha\",\"fill_alpha\",\"width\",\"color\",\"x\",\"y\"],\"data\":{\"chart_index\":[\"(3875.733333, 4078.666667]\"],\"color\":[\"LightSlateGray\"],\"fill_alpha\":[0.8],\"height\":[0.0],\"label\":[\"(3875.733333, 4078.666667]\"],\"line_alpha\":[1.0],\"line_color\":[\"black\"],\"width\":[202.9333333333334],\"x\":[\"3977.2\"],\"y\":[0.0]}},\"id\":\"0ce1f1c5-551c-443e-842c-61a271d74cad\",\"type\":\"ColumnDataSource\"},{\"attributes\":{\"callback\":null,\"column_names\":[\"label\",\"line_color\",\"height\",\"line_alpha\",\"fill_alpha\",\"width\",\"color\",\"x\",\"y\"],\"data\":{\"chart_index\":[\"(4890.400000, 5093.333333]\"],\"color\":[\"LightSlateGray\"],\"fill_alpha\":[0.8],\"height\":[0.0],\"label\":[\"(4890.400000, 5093.333333]\"],\"line_alpha\":[1.0],\"line_color\":[\"black\"],\"width\":[202.9333333333334],\"x\":[\"4991.8666665\"],\"y\":[0.0]}},\"id\":\"d029f568-53ec-42cc-a6a3-b789f8e1caab\",\"type\":\"ColumnDataSource\"},{\"attributes\":{\"data_source\":{\"id\":\"52b31487-5d00-4b0f-bf14-f8af578e732d\",\"type\":\"ColumnDataSource\"},\"glyph\":{\"id\":\"8e079766-aa0e-45f7-b75c-fb6f1122844d\",\"type\":\"Rect\"},\"hover_glyph\":null,\"nonselection_glyph\":null,\"selection_glyph\":null},\"id\":\"68a96dae-4c0a-4623-8c34-58b6e146e42c\",\"type\":\"GlyphRenderer\"},{\"attributes\":{\"callback\":null,\"column_names\":[\"label\",\"line_color\",\"height\",\"line_alpha\",\"fill_alpha\",\"width\",\"color\",\"x\",\"y\"],\"data\":{\"chart_index\":[\"(2252.266667, 2455.200000]\"],\"color\":[\"LightSlateGray\"],\"fill_alpha\":[0.8],\"height\":[3.0],\"label\":[\"(2252.266667, 2455.200000]\"],\"line_alpha\":[1.0],\"line_color\":[\"black\"],\"width\":[202.93333333333294],\"x\":[\"2353.7333335\"],\"y\":[1.5]}},\"id\":\"2394bbd7-1ddf-4852-a2f8-f5f8c68e30d3\",\"type\":\"ColumnDataSource\"},{\"attributes\":{\"callback\":null,\"column_names\":[\"label\",\"line_color\",\"height\",\"line_alpha\",\"fill_alpha\",\"width\",\"color\",\"x\",\"y\"],\"data\":{\"chart_index\":[\"(5499.200000, 5702.133333]\"],\"color\":[\"LightSlateGray\"],\"fill_alpha\":[0.8],\"height\":[0.0],\"label\":[\"(5499.200000, 5702.133333]\"],\"line_alpha\":[1.0],\"line_color\":[\"black\"],\"width\":[202.9333333333334],\"x\":[\"5600.666666499999\"],\"y\":[0.0]}},\"id\":\"c992f412-87c7-43e8-a753-3c0b6fe5c957\",\"type\":\"ColumnDataSource\"},{\"attributes\":{},\"id\":\"9d15107f-2505-4eac-b22a-56bc5e12f3d3\",\"type\":\"BasicTickFormatter\"},{\"attributes\":{\"data_source\":{\"id\":\"0a9abcbc-d26a-41dc-a7de-63e98c0a787a\",\"type\":\"ColumnDataSource\"},\"glyph\":{\"id\":\"7a187a54-7646-4655-bc2c-9267364d3fc9\",\"type\":\"Rect\"},\"hover_glyph\":null,\"nonselection_glyph\":null,\"selection_glyph\":null},\"id\":\"0798c32a-ffeb-46eb-85ac-a9d6a83d426b\",\"type\":\"GlyphRenderer\"},{\"attributes\":{},\"id\":\"4c993a76-3cf4-426d-a1a4-7b808f8a0e05\",\"type\":\"ToolEvents\"},{\"attributes\":{\"callback\":null,\"column_names\":[\"label\",\"line_color\",\"height\",\"line_alpha\",\"fill_alpha\",\"width\",\"color\",\"x\",\"y\"],\"data\":{\"chart_index\":[\"(831.733333, 1034.666667]\"],\"color\":[\"LightSlateGray\"],\"fill_alpha\":[0.8],\"height\":[2.0],\"label\":[\"(831.733333, 1034.666667]\"],\"line_alpha\":[1.0],\"line_color\":[\"black\"],\"width\":[202.9333333333334],\"x\":[\"933.2\"],\"y\":[1.0]}},\"id\":\"63a736d0-07f8-4221-bd89-287d33f1a31b\",\"type\":\"ColumnDataSource\"},{\"attributes\":{\"callback\":null,\"column_names\":[\"label\",\"line_color\",\"height\",\"line_alpha\",\"fill_alpha\",\"width\",\"color\",\"x\",\"y\"],\"data\":{\"chart_index\":[\"(628.800000, 831.733333]\"],\"color\":[\"LightSlateGray\"],\"fill_alpha\":[0.8],\"height\":[3.0],\"label\":[\"(628.800000, 831.733333]\"],\"line_alpha\":[1.0],\"line_color\":[\"black\"],\"width\":[202.9333333333334],\"x\":[\"730.2666664999999\"],\"y\":[1.5]}},\"id\":\"ae4d667c-9a6f-450c-a655-b437a648aec3\",\"type\":\"ColumnDataSource\"},{\"attributes\":{\"callback\":null,\"column_names\":[\"label\",\"line_color\",\"height\",\"line_alpha\",\"fill_alpha\",\"width\",\"color\",\"x\",\"y\"],\"data\":{\"chart_index\":[\"(4078.666667, 4281.600000]\"],\"color\":[\"LightSlateGray\"],\"fill_alpha\":[0.8],\"height\":[3.0],\"label\":[\"(4078.666667, 4281.600000]\"],\"line_alpha\":[1.0],\"line_color\":[\"black\"],\"width\":[202.9333333333334],\"x\":[\"4180.1333335\"],\"y\":[1.5]}},\"id\":\"93a19e7a-c3e2-4244-96da-6cc52eb4e2cc\",\"type\":\"ColumnDataSource\"},{\"attributes\":{\"callback\":null,\"column_names\":[\"label\",\"line_color\",\"height\",\"line_alpha\",\"fill_alpha\",\"width\",\"color\",\"x\",\"y\"],\"data\":{\"chart_index\":[\"(425.866667, 628.800000]\"],\"color\":[\"LightSlateGray\"],\"fill_alpha\":[0.8],\"height\":[8.0],\"label\":[\"(425.866667, 628.800000]\"],\"line_alpha\":[1.0],\"line_color\":[\"black\"],\"width\":[202.93333333333328],\"x\":[\"527.3333335\"],\"y\":[4.0]}},\"id\":\"9aaec66f-b2c1-4a8b-8007-92dcc1b29efb\",\"type\":\"ColumnDataSource\"},{\"attributes\":{\"fill_alpha\":{\"field\":\"fill_alpha\"},\"fill_color\":{\"field\":\"color\"},\"height\":{\"field\":\"height\",\"units\":\"data\"},\"line_color\":{\"field\":\"line_color\"},\"width\":{\"field\":\"width\",\"units\":\"data\"},\"x\":{\"field\":\"x\"},\"y\":{\"field\":\"y\"}},\"id\":\"98f273fd-5df6-4edc-9b26-b1cc3a103c49\",\"type\":\"Rect\"},{\"attributes\":{\"fill_alpha\":{\"field\":\"fill_alpha\"},\"fill_color\":{\"field\":\"color\"},\"height\":{\"field\":\"height\",\"units\":\"data\"},\"line_color\":{\"field\":\"line_color\"},\"width\":{\"field\":\"width\",\"units\":\"data\"},\"x\":{\"field\":\"x\"},\"y\":{\"field\":\"y\"}},\"id\":\"5a43fc28-420a-421c-bb68-90f9eaadd34d\",\"type\":\"Rect\"},{\"attributes\":{\"callback\":null,\"column_names\":[\"label\",\"line_color\",\"height\",\"line_alpha\",\"fill_alpha\",\"width\",\"color\",\"x\",\"y\"],\"data\":{\"chart_index\":[\"(2455.200000, 2658.133333]\"],\"color\":[\"LightSlateGray\"],\"fill_alpha\":[0.8],\"height\":[3.0],\"label\":[\"(2455.200000, 2658.133333]\"],\"line_alpha\":[1.0],\"line_color\":[\"black\"],\"width\":[202.9333333333334],\"x\":[\"2556.6666665000002\"],\"y\":[1.5]}},\"id\":\"21916dc9-cd21-4ab3-90fd-1a0e494a6981\",\"type\":\"ColumnDataSource\"},{\"attributes\":{\"fill_alpha\":{\"field\":\"fill_alpha\"},\"fill_color\":{\"field\":\"color\"},\"height\":{\"field\":\"height\",\"units\":\"data\"},\"line_color\":{\"field\":\"line_color\"},\"width\":{\"field\":\"width\",\"units\":\"data\"},\"x\":{\"field\":\"x\"},\"y\":{\"field\":\"y\"}},\"id\":\"b0a3fa38-cd6c-4e4a-ac26-b7880e16d49b\",\"type\":\"Rect\"},{\"attributes\":{\"callback\":null,\"column_names\":[\"label\",\"line_color\",\"height\",\"line_alpha\",\"fill_alpha\",\"width\",\"color\",\"x\",\"y\"],\"data\":{\"chart_index\":[\"(1034.666667, 1237.600000]\"],\"color\":[\"LightSlateGray\"],\"fill_alpha\":[0.8],\"height\":[2.0],\"label\":[\"(1034.666667, 1237.600000]\"],\"line_alpha\":[1.0],\"line_color\":[\"black\"],\"width\":[202.93333333333317],\"x\":[\"1136.1333335\"],\"y\":[1.0]}},\"id\":\"123527ea-65d0-425f-bdf8-8254da2ac0e1\",\"type\":\"ColumnDataSource\"},{\"attributes\":{\"fill_alpha\":{\"field\":\"fill_alpha\"},\"fill_color\":{\"field\":\"color\"},\"height\":{\"field\":\"height\",\"units\":\"data\"},\"line_color\":{\"field\":\"line_color\"},\"width\":{\"field\":\"width\",\"units\":\"data\"},\"x\":{\"field\":\"x\"},\"y\":{\"field\":\"y\"}},\"id\":\"80fb4efc-9152-4d36-91e4-47f5dcb5129a\",\"type\":\"Rect\"},{\"attributes\":{\"callback\":null,\"column_names\":[\"label\",\"line_color\",\"height\",\"line_alpha\",\"fill_alpha\",\"width\",\"color\",\"x\",\"y\"],\"data\":{\"chart_index\":[\"(5296.266667, 5499.200000]\"],\"color\":[\"LightSlateGray\"],\"fill_alpha\":[0.8],\"height\":[0.0],\"label\":[\"(5296.266667, 5499.200000]\"],\"line_alpha\":[1.0],\"line_color\":[\"black\"],\"width\":[202.9333333333334],\"x\":[\"5397.7333335\"],\"y\":[0.0]}},\"id\":\"4c0e7109-0a23-4c6a-b123-89f6280b7df9\",\"type\":\"ColumnDataSource\"},{\"attributes\":{\"overlay\":{\"id\":\"37ad4c76-6ab8-44b6-961a-469d1f76f228\",\"type\":\"BoxAnnotation\"},\"plot\":{\"id\":\"4cdfa064-7d7b-4a49-867c-4437d880bd59\",\"subtype\":\"Chart\",\"type\":\"Plot\"}},\"id\":\"19667176-848c-451e-94ce-c851eb3f67cd\",\"type\":\"BoxZoomTool\"},{\"attributes\":{\"data_source\":{\"id\":\"329c1828-8f50-429c-afe0-26c6f1ad32e4\",\"type\":\"ColumnDataSource\"},\"glyph\":{\"id\":\"cfa15a85-1284-46e2-8058-9b99a2badcb7\",\"type\":\"Rect\"},\"hover_glyph\":null,\"nonselection_glyph\":null,\"selection_glyph\":null},\"id\":\"aecf9921-ae0c-425d-a6b6-d0c60eda8727\",\"type\":\"GlyphRenderer\"},{\"attributes\":{\"callback\":null,\"column_names\":[\"label\",\"line_color\",\"height\",\"line_alpha\",\"fill_alpha\",\"width\",\"color\",\"x\",\"y\"],\"data\":{\"chart_index\":[\"(5905.066667, 6108.000000]\"],\"color\":[\"LightSlateGray\"],\"fill_alpha\":[0.8],\"height\":[4.0],\"label\":[\"(5905.066667, 6108.000000]\"],\"line_alpha\":[1.0],\"line_color\":[\"black\"],\"width\":[202.9333333333334],\"x\":[\"6006.5333335\"],\"y\":[2.0]}},\"id\":\"f0074da8-ddb9-4f67-9e02-27a8b016cf45\",\"type\":\"ColumnDataSource\"},{\"attributes\":{\"callback\":null,\"column_names\":[\"label\",\"line_color\",\"height\",\"line_alpha\",\"fill_alpha\",\"width\",\"color\",\"x\",\"y\"],\"data\":{\"chart_index\":[\"(4484.533333, 4687.466667]\"],\"color\":[\"LightSlateGray\"],\"fill_alpha\":[0.8],\"height\":[1.0],\"label\":[\"(4484.533333, 4687.466667]\"],\"line_alpha\":[1.0],\"line_color\":[\"black\"],\"width\":[202.9333333333334],\"x\":[\"4586.0\"],\"y\":[0.5]}},\"id\":\"da0ace17-09c0-48ec-9508-4037c42083e4\",\"type\":\"ColumnDataSource\"},{\"attributes\":{\"fill_alpha\":{\"field\":\"fill_alpha\"},\"fill_color\":{\"field\":\"color\"},\"height\":{\"field\":\"height\",\"units\":\"data\"},\"line_color\":{\"field\":\"line_color\"},\"width\":{\"field\":\"width\",\"units\":\"data\"},\"x\":{\"field\":\"x\"},\"y\":{\"field\":\"y\"}},\"id\":\"3db4cf07-667e-4d05-a810-68c130919e55\",\"type\":\"Rect\"},{\"attributes\":{\"fill_alpha\":{\"field\":\"fill_alpha\"},\"fill_color\":{\"field\":\"color\"},\"height\":{\"field\":\"height\",\"units\":\"data\"},\"line_color\":{\"field\":\"line_color\"},\"width\":{\"field\":\"width\",\"units\":\"data\"},\"x\":{\"field\":\"x\"},\"y\":{\"field\":\"y\"}},\"id\":\"8e079766-aa0e-45f7-b75c-fb6f1122844d\",\"type\":\"Rect\"},{\"attributes\":{\"data_source\":{\"id\":\"d029f568-53ec-42cc-a6a3-b789f8e1caab\",\"type\":\"ColumnDataSource\"},\"glyph\":{\"id\":\"42078964-fc3b-43d8-be37-2e7822f6cd2e\",\"type\":\"Rect\"},\"hover_glyph\":null,\"nonselection_glyph\":null,\"selection_glyph\":null},\"id\":\"706df03b-66a3-43a3-9ea8-70ecd6a7aec6\",\"type\":\"GlyphRenderer\"},{\"attributes\":{\"data_source\":{\"id\":\"52ba771c-0632-4c91-b88b-cf7e5a2e263d\",\"type\":\"ColumnDataSource\"},\"glyph\":{\"id\":\"d0d1e1c2-1e41-44af-ab77-8522abd8823a\",\"type\":\"Rect\"},\"hover_glyph\":null,\"nonselection_glyph\":null,\"selection_glyph\":null},\"id\":\"5da66c4d-792b-45e8-942a-d6007174000c\",\"type\":\"GlyphRenderer\"},{\"attributes\":{\"data_source\":{\"id\":\"93a19e7a-c3e2-4244-96da-6cc52eb4e2cc\",\"type\":\"ColumnDataSource\"},\"glyph\":{\"id\":\"f97ceb8f-358b-494d-8e84-8b1ea4ede630\",\"type\":\"Rect\"},\"hover_glyph\":null,\"nonselection_glyph\":null,\"selection_glyph\":null},\"id\":\"f464642a-c7f3-4192-b05d-815a1c62b5f9\",\"type\":\"GlyphRenderer\"},{\"attributes\":{},\"id\":\"9e0bfedd-aa80-4b34-800d-12911b1a6c39\",\"type\":\"BasicTicker\"},{\"attributes\":{\"fill_alpha\":{\"field\":\"fill_alpha\"},\"fill_color\":{\"field\":\"color\"},\"height\":{\"field\":\"height\",\"units\":\"data\"},\"line_color\":{\"field\":\"line_color\"},\"width\":{\"field\":\"width\",\"units\":\"data\"},\"x\":{\"field\":\"x\"},\"y\":{\"field\":\"y\"}},\"id\":\"f594133c-083e-4130-bfc0-07c529a51462\",\"type\":\"Rect\"},{\"attributes\":{\"active_drag\":\"auto\",\"active_scroll\":\"auto\",\"active_tap\":\"auto\",\"tools\":[{\"id\":\"9a088529-8d73-4cde-af96-f6912271b785\",\"type\":\"PanTool\"},{\"id\":\"829b61c0-0693-4dde-8c3a-7c013a3f3ee7\",\"type\":\"WheelZoomTool\"},{\"id\":\"19667176-848c-451e-94ce-c851eb3f67cd\",\"type\":\"BoxZoomTool\"},{\"id\":\"ad66cd9a-d7a4-44ff-84d4-5885ffcee16e\",\"type\":\"SaveTool\"},{\"id\":\"e34e6c9a-d379-4659-88fe-cd4b4379151c\",\"type\":\"ResetTool\"},{\"id\":\"bb67951b-3c4d-4cb6-8d90-373fc7dfc50d\",\"type\":\"HelpTool\"}]},\"id\":\"bf105aec-6d79-47ff-8d44-323d57a87d91\",\"type\":\"Toolbar\"},{\"attributes\":{\"axis_label\":\"Frequency\",\"formatter\":{\"id\":\"9d15107f-2505-4eac-b22a-56bc5e12f3d3\",\"type\":\"BasicTickFormatter\"},\"plot\":{\"id\":\"4cdfa064-7d7b-4a49-867c-4437d880bd59\",\"subtype\":\"Chart\",\"type\":\"Plot\"},\"ticker\":{\"id\":\"7855d64f-1089-4c96-ac01-964536bdf60f\",\"type\":\"BasicTicker\"}},\"id\":\"34cee996-657e-4ef5-bf0d-6dee1b131f65\",\"type\":\"LinearAxis\"},{\"attributes\":{\"callback\":null,\"column_names\":[\"label\",\"line_color\",\"height\",\"line_alpha\",\"fill_alpha\",\"width\",\"color\",\"x\",\"y\"],\"data\":{\"chart_index\":[\"(3672.800000, 3875.733333]\"],\"color\":[\"LightSlateGray\"],\"fill_alpha\":[0.8],\"height\":[0.0],\"label\":[\"(3672.800000, 3875.733333]\"],\"line_alpha\":[1.0],\"line_color\":[\"black\"],\"width\":[202.9333333333334],\"x\":[\"3774.2666665\"],\"y\":[0.0]}},\"id\":\"52ba771c-0632-4c91-b88b-cf7e5a2e263d\",\"type\":\"ColumnDataSource\"},{\"attributes\":{\"fill_alpha\":{\"field\":\"fill_alpha\"},\"fill_color\":{\"field\":\"color\"},\"height\":{\"field\":\"height\",\"units\":\"data\"},\"line_color\":{\"field\":\"line_color\"},\"width\":{\"field\":\"width\",\"units\":\"data\"},\"x\":{\"field\":\"x\"},\"y\":{\"field\":\"y\"}},\"id\":\"ea4bd4ad-2efd-4be1-a75a-559494431693\",\"type\":\"Rect\"},{\"attributes\":{\"fill_alpha\":{\"field\":\"fill_alpha\"},\"fill_color\":{\"field\":\"color\"},\"height\":{\"field\":\"height\",\"units\":\"data\"},\"line_color\":{\"field\":\"line_color\"},\"width\":{\"field\":\"width\",\"units\":\"data\"},\"x\":{\"field\":\"x\"},\"y\":{\"field\":\"y\"}},\"id\":\"c6a948dc-cb5b-4a0f-9da9-707c0e410578\",\"type\":\"Rect\"},{\"attributes\":{\"callback\":null,\"column_names\":[\"label\",\"line_color\",\"height\",\"line_alpha\",\"fill_alpha\",\"width\",\"color\",\"x\",\"y\"],\"data\":{\"chart_index\":[\"(1237.600000, 1440.533333]\"],\"color\":[\"LightSlateGray\"],\"fill_alpha\":[0.8],\"height\":[0.0],\"label\":[\"(1237.600000, 1440.533333]\"],\"line_alpha\":[1.0],\"line_color\":[\"black\"],\"width\":[202.9333333333334],\"x\":[\"1339.0666664999999\"],\"y\":[0.0]}},\"id\":\"52b31487-5d00-4b0f-bf14-f8af578e732d\",\"type\":\"ColumnDataSource\"},{\"attributes\":{\"data_source\":{\"id\":\"63a736d0-07f8-4221-bd89-287d33f1a31b\",\"type\":\"ColumnDataSource\"},\"glyph\":{\"id\":\"8ed123c8-aec3-4660-9bc5-5a6344f52cc4\",\"type\":\"Rect\"},\"hover_glyph\":null,\"nonselection_glyph\":null,\"selection_glyph\":null},\"id\":\"3cc1468e-753b-4322-9eef-68a54c64cfb6\",\"type\":\"GlyphRenderer\"},{\"attributes\":{\"data_source\":{\"id\":\"f4d017f2-614d-472f-b1aa-d8df048190a4\",\"type\":\"ColumnDataSource\"},\"glyph\":{\"id\":\"7213ab00-65e3-48ea-a3cd-b3c70e161de2\",\"type\":\"Rect\"},\"hover_glyph\":null,\"nonselection_glyph\":null,\"selection_glyph\":null},\"id\":\"163244dd-3ce9-4a0a-882a-e0c706557e74\",\"type\":\"GlyphRenderer\"},{\"attributes\":{\"data_source\":{\"id\":\"671ac866-da10-4a7c-b441-0e83770ca30a\",\"type\":\"ColumnDataSource\"},\"glyph\":{\"id\":\"e9737f87-745d-47e7-b78d-4f6ba4469e2f\",\"type\":\"Rect\"},\"hover_glyph\":null,\"nonselection_glyph\":null,\"selection_glyph\":null},\"id\":\"a5d61421-2d98-4741-9de8-8100a51189d9\",\"type\":\"GlyphRenderer\"},{\"attributes\":{\"fill_alpha\":{\"field\":\"fill_alpha\"},\"fill_color\":{\"field\":\"color\"},\"height\":{\"field\":\"height\",\"units\":\"data\"},\"line_color\":{\"field\":\"line_color\"},\"width\":{\"field\":\"width\",\"units\":\"data\"},\"x\":{\"field\":\"x\"},\"y\":{\"field\":\"y\"}},\"id\":\"e0b75a9a-b659-46dc-80fa-367d127eecd6\",\"type\":\"Rect\"},{\"attributes\":{\"fill_alpha\":{\"field\":\"fill_alpha\"},\"fill_color\":{\"field\":\"color\"},\"height\":{\"field\":\"height\",\"units\":\"data\"},\"line_color\":{\"field\":\"line_color\"},\"width\":{\"field\":\"width\",\"units\":\"data\"},\"x\":{\"field\":\"x\"},\"y\":{\"field\":\"y\"}},\"id\":\"6c69e783-336f-41b2-85a7-41951f0d0546\",\"type\":\"Rect\"},{\"attributes\":{\"data_source\":{\"id\":\"f0074da8-ddb9-4f67-9e02-27a8b016cf45\",\"type\":\"ColumnDataSource\"},\"glyph\":{\"id\":\"98f273fd-5df6-4edc-9b26-b1cc3a103c49\",\"type\":\"Rect\"},\"hover_glyph\":null,\"nonselection_glyph\":null,\"selection_glyph\":null},\"id\":\"423394e1-2bbd-4211-ac37-682b03b219f3\",\"type\":\"GlyphRenderer\"},{\"attributes\":{\"fill_alpha\":{\"field\":\"fill_alpha\"},\"fill_color\":{\"field\":\"color\"},\"height\":{\"field\":\"height\",\"units\":\"data\"},\"line_color\":{\"field\":\"line_color\"},\"width\":{\"field\":\"width\",\"units\":\"data\"},\"x\":{\"field\":\"x\"},\"y\":{\"field\":\"y\"}},\"id\":\"e9737f87-745d-47e7-b78d-4f6ba4469e2f\",\"type\":\"Rect\"},{\"attributes\":{\"callback\":null,\"column_names\":[\"label\",\"line_color\",\"height\",\"line_alpha\",\"fill_alpha\",\"width\",\"color\",\"x\",\"y\"],\"data\":{\"chart_index\":[\"[20.000000, 222.933333]\"],\"color\":[\"LightSlateGray\"],\"fill_alpha\":[0.8],\"height\":[456.0],\"label\":[\"[20.000000, 222.933333]\"],\"line_alpha\":[1.0],\"line_color\":[\"black\"],\"width\":[202.93333333333334],\"x\":[\"121.4666665\"],\"y\":[228.0]}},\"id\":\"f4d017f2-614d-472f-b1aa-d8df048190a4\",\"type\":\"ColumnDataSource\"},{\"attributes\":{\"callback\":null,\"column_names\":[\"label\",\"line_color\",\"height\",\"line_alpha\",\"fill_alpha\",\"width\",\"color\",\"x\",\"y\"],\"data\":{\"chart_index\":[\"(1846.400000, 2049.333333]\"],\"color\":[\"LightSlateGray\"],\"fill_alpha\":[0.8],\"height\":[2.0],\"label\":[\"(1846.400000, 2049.333333]\"],\"line_alpha\":[1.0],\"line_color\":[\"black\"],\"width\":[202.9333333333334],\"x\":[\"1947.8666665\"],\"y\":[1.0]}},\"id\":\"2cae8b20-51f7-460e-936b-04f2f0274b50\",\"type\":\"ColumnDataSource\"},{\"attributes\":{\"fill_alpha\":{\"field\":\"fill_alpha\"},\"fill_color\":{\"field\":\"color\"},\"height\":{\"field\":\"height\",\"units\":\"data\"},\"line_color\":{\"field\":\"line_color\"},\"width\":{\"field\":\"width\",\"units\":\"data\"},\"x\":{\"field\":\"x\"},\"y\":{\"field\":\"y\"}},\"id\":\"fdf4563e-06d8-486f-9417-ca5ee5c4804c\",\"type\":\"Rect\"},{\"attributes\":{\"callback\":null,\"column_names\":[\"label\",\"line_color\",\"height\",\"line_alpha\",\"fill_alpha\",\"width\",\"color\",\"x\",\"y\"],\"data\":{\"chart_index\":[\"(1440.533333, 1643.466667]\"],\"color\":[\"LightSlateGray\"],\"fill_alpha\":[0.8],\"height\":[2.0],\"label\":[\"(1440.533333, 1643.466667]\"],\"line_alpha\":[1.0],\"line_color\":[\"black\"],\"width\":[202.9333333333334],\"x\":[\"1542.0\"],\"y\":[1.0]}},\"id\":\"5eb6e7d2-8f47-4157-9308-369a1f9cf11a\",\"type\":\"ColumnDataSource\"},{\"attributes\":{\"fill_alpha\":{\"field\":\"fill_alpha\"},\"fill_color\":{\"field\":\"color\"},\"height\":{\"field\":\"height\",\"units\":\"data\"},\"line_color\":{\"field\":\"line_color\"},\"width\":{\"field\":\"width\",\"units\":\"data\"},\"x\":{\"field\":\"x\"},\"y\":{\"field\":\"y\"}},\"id\":\"1a55a62a-8b6f-4694-ab18-e076d1e93c65\",\"type\":\"Rect\"},{\"attributes\":{\"fill_alpha\":{\"field\":\"fill_alpha\"},\"fill_color\":{\"field\":\"color\"},\"height\":{\"field\":\"height\",\"units\":\"data\"},\"line_color\":{\"field\":\"line_color\"},\"width\":{\"field\":\"width\",\"units\":\"data\"},\"x\":{\"field\":\"x\"},\"y\":{\"field\":\"y\"}},\"id\":\"7213ab00-65e3-48ea-a3cd-b3c70e161de2\",\"type\":\"Rect\"},{\"attributes\":{\"data_source\":{\"id\":\"afff4582-c288-4d9d-8260-49568d10f7d2\",\"type\":\"ColumnDataSource\"},\"glyph\":{\"id\":\"80fb4efc-9152-4d36-91e4-47f5dcb5129a\",\"type\":\"Rect\"},\"hover_glyph\":null,\"nonselection_glyph\":null,\"selection_glyph\":null},\"id\":\"a037b9ea-00bb-403f-8b56-4506d94bbf73\",\"type\":\"GlyphRenderer\"},{\"attributes\":{\"callback\":null,\"column_names\":[\"label\",\"line_color\",\"height\",\"line_alpha\",\"fill_alpha\",\"width\",\"color\",\"x\",\"y\"],\"data\":{\"chart_index\":[\"(5702.133333, 5905.066667]\"],\"color\":[\"LightSlateGray\"],\"fill_alpha\":[0.8],\"height\":[0.0],\"label\":[\"(5702.133333, 5905.066667]\"],\"line_alpha\":[1.0],\"line_color\":[\"black\"],\"width\":[202.9333333333334],\"x\":[\"5803.6\"],\"y\":[0.0]}},\"id\":\"43d52700-15db-48bc-9b3e-7026bc750ce6\",\"type\":\"ColumnDataSource\"},{\"attributes\":{\"data_source\":{\"id\":\"123527ea-65d0-425f-bdf8-8254da2ac0e1\",\"type\":\"ColumnDataSource\"},\"glyph\":{\"id\":\"09c0682b-ae18-47fa-9869-9212bfda9b44\",\"type\":\"Rect\"},\"hover_glyph\":null,\"nonselection_glyph\":null,\"selection_glyph\":null},\"id\":\"57d9db29-c662-485b-8a21-575de0c86590\",\"type\":\"GlyphRenderer\"},{\"attributes\":{\"fill_alpha\":{\"field\":\"fill_alpha\"},\"fill_color\":{\"field\":\"color\"},\"height\":{\"field\":\"height\",\"units\":\"data\"},\"line_color\":{\"field\":\"line_color\"},\"width\":{\"field\":\"width\",\"units\":\"data\"},\"x\":{\"field\":\"x\"},\"y\":{\"field\":\"y\"}},\"id\":\"7a4a1d45-5fe4-4090-9307-737800284880\",\"type\":\"Rect\"},{\"attributes\":{\"callback\":null,\"column_names\":[\"label\",\"line_color\",\"height\",\"line_alpha\",\"fill_alpha\",\"width\",\"color\",\"x\",\"y\"],\"data\":{\"chart_index\":[\"(2861.066667, 3064.000000]\"],\"color\":[\"LightSlateGray\"],\"fill_alpha\":[0.8],\"height\":[0.0],\"label\":[\"(2861.066667, 3064.000000]\"],\"line_alpha\":[1.0],\"line_color\":[\"black\"],\"width\":[202.9333333333334],\"x\":[\"2962.5333335\"],\"y\":[0.0]}},\"id\":\"069cf068-5f58-4f1b-ae06-4a0d566770cb\",\"type\":\"ColumnDataSource\"},{\"attributes\":{\"data_source\":{\"id\":\"0ce1f1c5-551c-443e-842c-61a271d74cad\",\"type\":\"ColumnDataSource\"},\"glyph\":{\"id\":\"988a2e86-d358-4e90-bdd4-383a49060bf3\",\"type\":\"Rect\"},\"hover_glyph\":null,\"nonselection_glyph\":null,\"selection_glyph\":null},\"id\":\"5fb53136-8d85-4df8-a78b-259418ba5f0d\",\"type\":\"GlyphRenderer\"},{\"attributes\":{\"plot\":null,\"text\":\"Homozygous Variant: Predict Proba > 0.8\"},\"id\":\"d810b62d-3043-4882-9a51-0e50f524120d\",\"type\":\"Title\"},{\"attributes\":{\"data_source\":{\"id\":\"da0ace17-09c0-48ec-9508-4037c42083e4\",\"type\":\"ColumnDataSource\"},\"glyph\":{\"id\":\"fbbe6410-0871-415e-99f7-250a7ef69a19\",\"type\":\"Rect\"},\"hover_glyph\":null,\"nonselection_glyph\":null,\"selection_glyph\":null},\"id\":\"473b263b-91bc-495b-85ac-53a5b9d30a2a\",\"type\":\"GlyphRenderer\"},{\"attributes\":{\"data_source\":{\"id\":\"c992f412-87c7-43e8-a753-3c0b6fe5c957\",\"type\":\"ColumnDataSource\"},\"glyph\":{\"id\":\"b0a3fa38-cd6c-4e4a-ac26-b7880e16d49b\",\"type\":\"Rect\"},\"hover_glyph\":null,\"nonselection_glyph\":null,\"selection_glyph\":null},\"id\":\"82677ff9-f865-4d57-9de7-36bb6ac8ea96\",\"type\":\"GlyphRenderer\"},{\"attributes\":{\"fill_alpha\":{\"field\":\"fill_alpha\"},\"fill_color\":{\"field\":\"color\"},\"height\":{\"field\":\"height\",\"units\":\"data\"},\"line_color\":{\"field\":\"line_color\"},\"width\":{\"field\":\"width\",\"units\":\"data\"},\"x\":{\"field\":\"x\"},\"y\":{\"field\":\"y\"}},\"id\":\"99c5fbe1-4ce1-4eb4-a1bb-dd4f7d4f89f2\",\"type\":\"Rect\"},{\"attributes\":{\"dimension\":1,\"plot\":{\"id\":\"4cdfa064-7d7b-4a49-867c-4437d880bd59\",\"subtype\":\"Chart\",\"type\":\"Plot\"},\"ticker\":{\"id\":\"7855d64f-1089-4c96-ac01-964536bdf60f\",\"type\":\"BasicTicker\"}},\"id\":\"bdbc1596-808e-47f0-aff3-fea0cef27a14\",\"type\":\"Grid\"},{\"attributes\":{\"fill_alpha\":{\"field\":\"fill_alpha\"},\"fill_color\":{\"field\":\"color\"},\"height\":{\"field\":\"height\",\"units\":\"data\"},\"line_color\":{\"field\":\"line_color\"},\"width\":{\"field\":\"width\",\"units\":\"data\"},\"x\":{\"field\":\"x\"},\"y\":{\"field\":\"y\"}},\"id\":\"09c0682b-ae18-47fa-9869-9212bfda9b44\",\"type\":\"Rect\"},{\"attributes\":{\"fill_alpha\":{\"field\":\"fill_alpha\"},\"fill_color\":{\"field\":\"color\"},\"height\":{\"field\":\"height\",\"units\":\"data\"},\"line_color\":{\"field\":\"line_color\"},\"width\":{\"field\":\"width\",\"units\":\"data\"},\"x\":{\"field\":\"x\"},\"y\":{\"field\":\"y\"}},\"id\":\"7a187a54-7646-4655-bc2c-9267364d3fc9\",\"type\":\"Rect\"},{\"attributes\":{\"fill_alpha\":{\"field\":\"fill_alpha\"},\"fill_color\":{\"field\":\"color\"},\"height\":{\"field\":\"height\",\"units\":\"data\"},\"line_color\":{\"field\":\"line_color\"},\"width\":{\"field\":\"width\",\"units\":\"data\"},\"x\":{\"field\":\"x\"},\"y\":{\"field\":\"y\"}},\"id\":\"988a2e86-d358-4e90-bdd4-383a49060bf3\",\"type\":\"Rect\"},{\"attributes\":{\"data_source\":{\"id\":\"26e23088-3b67-4ff0-8a84-dc40412e4c1d\",\"type\":\"ColumnDataSource\"},\"glyph\":{\"id\":\"f4cf5a9d-26a7-4b61-9eff-de543e82488c\",\"type\":\"Rect\"},\"hover_glyph\":null,\"nonselection_glyph\":null,\"selection_glyph\":null},\"id\":\"687cc6cc-966c-4ddf-b064-919b7ca726b5\",\"type\":\"GlyphRenderer\"},{\"attributes\":{\"fill_alpha\":{\"field\":\"fill_alpha\"},\"fill_color\":{\"field\":\"color\"},\"height\":{\"field\":\"height\",\"units\":\"data\"},\"line_color\":{\"field\":\"line_color\"},\"width\":{\"field\":\"width\",\"units\":\"data\"},\"x\":{\"field\":\"x\"},\"y\":{\"field\":\"y\"}},\"id\":\"f4cf5a9d-26a7-4b61-9eff-de543e82488c\",\"type\":\"Rect\"}],\"root_ids\":[\"4cdfa064-7d7b-4a49-867c-4437d880bd59\"]},\"title\":\"Bokeh Application\",\"version\":\"0.12.4\"}};\n",
       "            var render_items = [{\"docid\":\"f22a7168-99c6-47a6-857f-3b5626a97d47\",\"elementid\":\"b3d74dd4-d644-492d-9770-ee32850ae5a3\",\"modelid\":\"4cdfa064-7d7b-4a49-867c-4437d880bd59\"}];\n",
       "            \n",
       "            Bokeh.embed.embed_items(docs_json, render_items);\n",
       "          };\n",
       "          if (document.readyState != \"loading\") fn();\n",
       "          else document.addEventListener(\"DOMContentLoaded\", fn);\n",
       "        })();\n",
       "      },\n",
       "      function(Bokeh) {\n",
       "      }\n",
       "    ];\n",
       "  \n",
       "    function run_inline_js() {\n",
       "      \n",
       "      if ((window.Bokeh !== undefined) || (force === true)) {\n",
       "        for (var i = 0; i < inline_js.length; i++) {\n",
       "          inline_js[i](window.Bokeh);\n",
       "        }if (force === true) {\n",
       "          display_loaded();\n",
       "        }} else if (Date.now() < window._bokeh_timeout) {\n",
       "        setTimeout(run_inline_js, 100);\n",
       "      } else if (!window._bokeh_failed_load) {\n",
       "        console.log(\"Bokeh: BokehJS failed to load within specified timeout.\");\n",
       "        window._bokeh_failed_load = true;\n",
       "      } else if (force !== true) {\n",
       "        var cell = $(document.getElementById(\"b3d74dd4-d644-492d-9770-ee32850ae5a3\")).parents('.cell').data().cell;\n",
       "        cell.output_area.append_execute_result(NB_LOAD_WARNING)\n",
       "      }\n",
       "  \n",
       "    }\n",
       "  \n",
       "    if (window._bokeh_is_loading === 0) {\n",
       "      console.log(\"Bokeh: BokehJS loaded, going straight to plotting\");\n",
       "      run_inline_js();\n",
       "    } else {\n",
       "      load_libs(js_urls, function() {\n",
       "        console.log(\"Bokeh: BokehJS plotting callback run at\", now());\n",
       "        run_inline_js();\n",
       "      });\n",
       "    }\n",
       "  }(this));\n",
       "</script>"
      ]
     },
     "metadata": {},
     "output_type": "display_data"
    }
   ],
   "source": [
    "# Plot the counts of each predicted probability for Het Var events\n",
    "p = figure()\n",
    "p = Histogram(X_homVar_conf, values='Size', title='Homozygous Variant: Predict Proba > 0.8', color='LightSlateGray', bins=30, xlabel=\"Size(bp)\", ylabel=\"Frequency\")\n",
    "output_file(\"250bp_HomVar_PredProb0.8+.html\")\n",
    "show(p)"
   ]
  },
  {
   "cell_type": "code",
   "execution_count": 164,
   "metadata": {},
   "outputs": [
    {
     "name": "stderr",
     "output_type": "stream",
     "text": [
      "/Users/lmc2/anaconda/envs/NIHFAES/lib/python3.5/site-packages/ipykernel/__main__.py:3: SettingWithCopyWarning:\n",
      "\n",
      "\n",
      "A value is trying to be set on a copy of a slice from a DataFrame.\n",
      "Try using .loc[row_indexer,col_indexer] = value instead\n",
      "\n",
      "See the caveats in the documentation: http://pandas.pydata.org/pandas-docs/stable/indexing.html#indexing-view-versus-copy\n",
      "\n"
     ]
    }
   ],
   "source": [
    "X6['Het_Var_str'] = X6['Het_Var'].astype(str)\n",
    "X_hetVar_conf = X6[(X6['Het_Var'] == 0.9) | (X6['Het_Var'] == 1) | (X6['Het_Var'] == 0.8)]\n",
    "X_hetVar_conf['Size'] = HG002_pred_2['Size'].abs()"
   ]
  },
  {
   "cell_type": "code",
   "execution_count": 172,
   "metadata": {},
   "outputs": [
    {
     "data": {
      "text/html": [
       "\n",
       "    <div class=\"bk-root\">\n",
       "        <a href=\"http://bokeh.pydata.org\" target=\"_blank\" class=\"bk-logo bk-logo-small bk-logo-notebook\"></a>\n",
       "        <span id=\"d9489e6a-8858-4141-969d-6897ce316498\">Loading BokehJS ...</span>\n",
       "    </div>"
      ]
     },
     "metadata": {},
     "output_type": "display_data"
    },
    {
     "data": {
      "application/javascript": [
       "\n",
       "(function(global) {\n",
       "  function now() {\n",
       "    return new Date();\n",
       "  }\n",
       "\n",
       "  var force = true;\n",
       "\n",
       "  if (typeof (window._bokeh_onload_callbacks) === \"undefined\" || force === true) {\n",
       "    window._bokeh_onload_callbacks = [];\n",
       "    window._bokeh_is_loading = undefined;\n",
       "  }\n",
       "\n",
       "\n",
       "  \n",
       "  if (typeof (window._bokeh_timeout) === \"undefined\" || force === true) {\n",
       "    window._bokeh_timeout = Date.now() + 5000;\n",
       "    window._bokeh_failed_load = false;\n",
       "  }\n",
       "\n",
       "  var NB_LOAD_WARNING = {'data': {'text/html':\n",
       "     \"<div style='background-color: #fdd'>\\n\"+\n",
       "     \"<p>\\n\"+\n",
       "     \"BokehJS does not appear to have successfully loaded. If loading BokehJS from CDN, this \\n\"+\n",
       "     \"may be due to a slow or bad network connection. Possible fixes:\\n\"+\n",
       "     \"</p>\\n\"+\n",
       "     \"<ul>\\n\"+\n",
       "     \"<li>re-rerun `output_notebook()` to attempt to load from CDN again, or</li>\\n\"+\n",
       "     \"<li>use INLINE resources instead, as so:</li>\\n\"+\n",
       "     \"</ul>\\n\"+\n",
       "     \"<code>\\n\"+\n",
       "     \"from bokeh.resources import INLINE\\n\"+\n",
       "     \"output_notebook(resources=INLINE)\\n\"+\n",
       "     \"</code>\\n\"+\n",
       "     \"</div>\"}};\n",
       "\n",
       "  function display_loaded() {\n",
       "    if (window.Bokeh !== undefined) {\n",
       "      document.getElementById(\"d9489e6a-8858-4141-969d-6897ce316498\").textContent = \"BokehJS successfully loaded.\";\n",
       "    } else if (Date.now() < window._bokeh_timeout) {\n",
       "      setTimeout(display_loaded, 100)\n",
       "    }\n",
       "  }\n",
       "\n",
       "  function run_callbacks() {\n",
       "    window._bokeh_onload_callbacks.forEach(function(callback) { callback() });\n",
       "    delete window._bokeh_onload_callbacks\n",
       "    console.info(\"Bokeh: all callbacks have finished\");\n",
       "  }\n",
       "\n",
       "  function load_libs(js_urls, callback) {\n",
       "    window._bokeh_onload_callbacks.push(callback);\n",
       "    if (window._bokeh_is_loading > 0) {\n",
       "      console.log(\"Bokeh: BokehJS is being loaded, scheduling callback at\", now());\n",
       "      return null;\n",
       "    }\n",
       "    if (js_urls == null || js_urls.length === 0) {\n",
       "      run_callbacks();\n",
       "      return null;\n",
       "    }\n",
       "    console.log(\"Bokeh: BokehJS not loaded, scheduling load and callback at\", now());\n",
       "    window._bokeh_is_loading = js_urls.length;\n",
       "    for (var i = 0; i < js_urls.length; i++) {\n",
       "      var url = js_urls[i];\n",
       "      var s = document.createElement('script');\n",
       "      s.src = url;\n",
       "      s.async = false;\n",
       "      s.onreadystatechange = s.onload = function() {\n",
       "        window._bokeh_is_loading--;\n",
       "        if (window._bokeh_is_loading === 0) {\n",
       "          console.log(\"Bokeh: all BokehJS libraries loaded\");\n",
       "          run_callbacks()\n",
       "        }\n",
       "      };\n",
       "      s.onerror = function() {\n",
       "        console.warn(\"failed to load library \" + url);\n",
       "      };\n",
       "      console.log(\"Bokeh: injecting script tag for BokehJS library: \", url);\n",
       "      document.getElementsByTagName(\"head\")[0].appendChild(s);\n",
       "    }\n",
       "  };var element = document.getElementById(\"d9489e6a-8858-4141-969d-6897ce316498\");\n",
       "  if (element == null) {\n",
       "    console.log(\"Bokeh: ERROR: autoload.js configured with elementid 'd9489e6a-8858-4141-969d-6897ce316498' but no matching script tag was found. \")\n",
       "    return false;\n",
       "  }\n",
       "\n",
       "  var js_urls = [\"https://cdn.pydata.org/bokeh/release/bokeh-0.12.4.min.js\", \"https://cdn.pydata.org/bokeh/release/bokeh-widgets-0.12.4.min.js\"];\n",
       "\n",
       "  var inline_js = [\n",
       "    function(Bokeh) {\n",
       "      Bokeh.set_log_level(\"info\");\n",
       "    },\n",
       "    \n",
       "    function(Bokeh) {\n",
       "      \n",
       "      document.getElementById(\"d9489e6a-8858-4141-969d-6897ce316498\").textContent = \"BokehJS is loading...\";\n",
       "    },\n",
       "    function(Bokeh) {\n",
       "      console.log(\"Bokeh: injecting CSS: https://cdn.pydata.org/bokeh/release/bokeh-0.12.4.min.css\");\n",
       "      Bokeh.embed.inject_css(\"https://cdn.pydata.org/bokeh/release/bokeh-0.12.4.min.css\");\n",
       "      console.log(\"Bokeh: injecting CSS: https://cdn.pydata.org/bokeh/release/bokeh-widgets-0.12.4.min.css\");\n",
       "      Bokeh.embed.inject_css(\"https://cdn.pydata.org/bokeh/release/bokeh-widgets-0.12.4.min.css\");\n",
       "    }\n",
       "  ];\n",
       "\n",
       "  function run_inline_js() {\n",
       "    \n",
       "    if ((window.Bokeh !== undefined) || (force === true)) {\n",
       "      for (var i = 0; i < inline_js.length; i++) {\n",
       "        inline_js[i](window.Bokeh);\n",
       "      }if (force === true) {\n",
       "        display_loaded();\n",
       "      }} else if (Date.now() < window._bokeh_timeout) {\n",
       "      setTimeout(run_inline_js, 100);\n",
       "    } else if (!window._bokeh_failed_load) {\n",
       "      console.log(\"Bokeh: BokehJS failed to load within specified timeout.\");\n",
       "      window._bokeh_failed_load = true;\n",
       "    } else if (force !== true) {\n",
       "      var cell = $(document.getElementById(\"d9489e6a-8858-4141-969d-6897ce316498\")).parents('.cell').data().cell;\n",
       "      cell.output_area.append_execute_result(NB_LOAD_WARNING)\n",
       "    }\n",
       "\n",
       "  }\n",
       "\n",
       "  if (window._bokeh_is_loading === 0) {\n",
       "    console.log(\"Bokeh: BokehJS loaded, going straight to plotting\");\n",
       "    run_inline_js();\n",
       "  } else {\n",
       "    load_libs(js_urls, function() {\n",
       "      console.log(\"Bokeh: BokehJS plotting callback run at\", now());\n",
       "      run_inline_js();\n",
       "    });\n",
       "  }\n",
       "}(this));"
      ]
     },
     "metadata": {},
     "output_type": "display_data"
    }
   ],
   "source": [
    "output_notebook()"
   ]
  },
  {
   "cell_type": "code",
   "execution_count": 173,
   "metadata": {},
   "outputs": [
    {
     "name": "stderr",
     "output_type": "stream",
     "text": [
      "INFO:bokeh.core.state:Session output file '250bp_HetVar_PredProb0.9+.html' already exists, will be overwritten.\n"
     ]
    },
    {
     "data": {
      "text/html": [
       "\n",
       "\n",
       "    <div class=\"bk-root\">\n",
       "        <div class=\"bk-plotdiv\" id=\"bb99a8eb-1b40-4705-a520-40328fa78493\"></div>\n",
       "    </div>\n",
       "<script type=\"text/javascript\">\n",
       "  \n",
       "  (function(global) {\n",
       "    function now() {\n",
       "      return new Date();\n",
       "    }\n",
       "  \n",
       "    var force = false;\n",
       "  \n",
       "    if (typeof (window._bokeh_onload_callbacks) === \"undefined\" || force === true) {\n",
       "      window._bokeh_onload_callbacks = [];\n",
       "      window._bokeh_is_loading = undefined;\n",
       "    }\n",
       "  \n",
       "  \n",
       "    \n",
       "    if (typeof (window._bokeh_timeout) === \"undefined\" || force === true) {\n",
       "      window._bokeh_timeout = Date.now() + 0;\n",
       "      window._bokeh_failed_load = false;\n",
       "    }\n",
       "  \n",
       "    var NB_LOAD_WARNING = {'data': {'text/html':\n",
       "       \"<div style='background-color: #fdd'>\\n\"+\n",
       "       \"<p>\\n\"+\n",
       "       \"BokehJS does not appear to have successfully loaded. If loading BokehJS from CDN, this \\n\"+\n",
       "       \"may be due to a slow or bad network connection. Possible fixes:\\n\"+\n",
       "       \"</p>\\n\"+\n",
       "       \"<ul>\\n\"+\n",
       "       \"<li>re-rerun `output_notebook()` to attempt to load from CDN again, or</li>\\n\"+\n",
       "       \"<li>use INLINE resources instead, as so:</li>\\n\"+\n",
       "       \"</ul>\\n\"+\n",
       "       \"<code>\\n\"+\n",
       "       \"from bokeh.resources import INLINE\\n\"+\n",
       "       \"output_notebook(resources=INLINE)\\n\"+\n",
       "       \"</code>\\n\"+\n",
       "       \"</div>\"}};\n",
       "  \n",
       "    function display_loaded() {\n",
       "      if (window.Bokeh !== undefined) {\n",
       "        document.getElementById(\"bb99a8eb-1b40-4705-a520-40328fa78493\").textContent = \"BokehJS successfully loaded.\";\n",
       "      } else if (Date.now() < window._bokeh_timeout) {\n",
       "        setTimeout(display_loaded, 100)\n",
       "      }\n",
       "    }\n",
       "  \n",
       "    function run_callbacks() {\n",
       "      window._bokeh_onload_callbacks.forEach(function(callback) { callback() });\n",
       "      delete window._bokeh_onload_callbacks\n",
       "      console.info(\"Bokeh: all callbacks have finished\");\n",
       "    }\n",
       "  \n",
       "    function load_libs(js_urls, callback) {\n",
       "      window._bokeh_onload_callbacks.push(callback);\n",
       "      if (window._bokeh_is_loading > 0) {\n",
       "        console.log(\"Bokeh: BokehJS is being loaded, scheduling callback at\", now());\n",
       "        return null;\n",
       "      }\n",
       "      if (js_urls == null || js_urls.length === 0) {\n",
       "        run_callbacks();\n",
       "        return null;\n",
       "      }\n",
       "      console.log(\"Bokeh: BokehJS not loaded, scheduling load and callback at\", now());\n",
       "      window._bokeh_is_loading = js_urls.length;\n",
       "      for (var i = 0; i < js_urls.length; i++) {\n",
       "        var url = js_urls[i];\n",
       "        var s = document.createElement('script');\n",
       "        s.src = url;\n",
       "        s.async = false;\n",
       "        s.onreadystatechange = s.onload = function() {\n",
       "          window._bokeh_is_loading--;\n",
       "          if (window._bokeh_is_loading === 0) {\n",
       "            console.log(\"Bokeh: all BokehJS libraries loaded\");\n",
       "            run_callbacks()\n",
       "          }\n",
       "        };\n",
       "        s.onerror = function() {\n",
       "          console.warn(\"failed to load library \" + url);\n",
       "        };\n",
       "        console.log(\"Bokeh: injecting script tag for BokehJS library: \", url);\n",
       "        document.getElementsByTagName(\"head\")[0].appendChild(s);\n",
       "      }\n",
       "    };var element = document.getElementById(\"bb99a8eb-1b40-4705-a520-40328fa78493\");\n",
       "    if (element == null) {\n",
       "      console.log(\"Bokeh: ERROR: autoload.js configured with elementid 'bb99a8eb-1b40-4705-a520-40328fa78493' but no matching script tag was found. \")\n",
       "      return false;\n",
       "    }\n",
       "  \n",
       "    var js_urls = [];\n",
       "  \n",
       "    var inline_js = [\n",
       "      function(Bokeh) {\n",
       "        (function() {\n",
       "          var fn = function() {\n",
       "            var docs_json = {\"34232231-1665-4523-8cf6-770825717122\":{\"roots\":{\"references\":[{\"attributes\":{\"below\":[{\"id\":\"c6edf26f-ccf7-41c0-a1f4-bcc97d0da3c2\",\"type\":\"LinearAxis\"}],\"css_classes\":null,\"left\":[{\"id\":\"2817aca1-d37a-4738-87b2-37e68eb1a209\",\"type\":\"LinearAxis\"}],\"renderers\":[{\"id\":\"0b638e21-16e9-45b8-8229-1d6426f39c57\",\"type\":\"BoxAnnotation\"},{\"id\":\"163e8ee3-43cb-4bc0-9c87-5f0f817e16c9\",\"type\":\"GlyphRenderer\"},{\"id\":\"44186400-a57a-46ba-9dbc-0747a0c61322\",\"type\":\"GlyphRenderer\"},{\"id\":\"f698de7c-259c-4692-a255-1716429e1ebf\",\"type\":\"GlyphRenderer\"},{\"id\":\"fe0b41dd-c265-46ee-9f3d-8b287d8fa140\",\"type\":\"GlyphRenderer\"},{\"id\":\"fe05e5a0-d8df-421e-b7e7-c6383c8c34ff\",\"type\":\"GlyphRenderer\"},{\"id\":\"4398ae1b-0aae-4783-8ca9-f6c650b14118\",\"type\":\"GlyphRenderer\"},{\"id\":\"c80ac2be-ae45-46f2-a0de-ea41c8e900b1\",\"type\":\"GlyphRenderer\"},{\"id\":\"f82362f4-f26e-43ac-ba92-0b7e29655f49\",\"type\":\"GlyphRenderer\"},{\"id\":\"bb59deae-23d2-4c47-9747-973bc46a753b\",\"type\":\"GlyphRenderer\"},{\"id\":\"96553325-cede-4313-849b-2647f1de1cd5\",\"type\":\"GlyphRenderer\"},{\"id\":\"fbadf1ab-addc-4c41-a0ba-eb8eda1fdec4\",\"type\":\"GlyphRenderer\"},{\"id\":\"e7e261dc-6ae1-4a9c-bbdb-c995a42305e2\",\"type\":\"GlyphRenderer\"},{\"id\":\"791b3a75-b522-4d76-a881-d7c9b04083ae\",\"type\":\"GlyphRenderer\"},{\"id\":\"6a324cef-568a-4ec8-a85a-556d6a7c7aeb\",\"type\":\"GlyphRenderer\"},{\"id\":\"4505ec0b-0b37-4cb3-ac6c-88d0c5a82f27\",\"type\":\"GlyphRenderer\"},{\"id\":\"fa9c21bb-ebd3-452f-b67f-dc2ed523aaf0\",\"type\":\"GlyphRenderer\"},{\"id\":\"79978b9e-8371-4184-8893-34c42808f9e4\",\"type\":\"GlyphRenderer\"},{\"id\":\"68d65ed1-56a2-44dd-955a-7a982a5d9a31\",\"type\":\"GlyphRenderer\"},{\"id\":\"3a7dd8d9-9253-45b5-94ff-16a73494ae41\",\"type\":\"GlyphRenderer\"},{\"id\":\"7f4d0f0f-9adf-4eb0-bf3b-165af76372c2\",\"type\":\"GlyphRenderer\"},{\"id\":\"ca716188-006a-4ded-bd3c-c76e646c1622\",\"type\":\"GlyphRenderer\"},{\"id\":\"2c5d700c-126a-4787-b0ff-959d7c49ec78\",\"type\":\"GlyphRenderer\"},{\"id\":\"10d419f6-2684-4571-b5fe-165c84fcea83\",\"type\":\"GlyphRenderer\"},{\"id\":\"f7802a37-980c-405d-b26e-f2f338941045\",\"type\":\"GlyphRenderer\"},{\"id\":\"ad1b730c-aedf-4daa-b99a-ea4d3112c216\",\"type\":\"GlyphRenderer\"},{\"id\":\"a1b6074f-586a-482e-8acf-d67f3d20f1ec\",\"type\":\"GlyphRenderer\"},{\"id\":\"d6071db4-a05c-4fa2-ab2f-b792f61d8a1a\",\"type\":\"GlyphRenderer\"},{\"id\":\"c869f58a-0a2f-4a65-a4bb-86339dc897dc\",\"type\":\"GlyphRenderer\"},{\"id\":\"f0362ec8-375b-421c-81e7-97079d30d651\",\"type\":\"GlyphRenderer\"},{\"id\":\"e2065f22-a95b-4867-be02-e145c2ccc01a\",\"type\":\"GlyphRenderer\"},{\"id\":\"d5af8757-3973-4164-bc8a-767d60b7904f\",\"type\":\"Legend\"},{\"id\":\"c6edf26f-ccf7-41c0-a1f4-bcc97d0da3c2\",\"type\":\"LinearAxis\"},{\"id\":\"2817aca1-d37a-4738-87b2-37e68eb1a209\",\"type\":\"LinearAxis\"},{\"id\":\"8c8776b4-fcaf-4264-9882-3019b15401a8\",\"type\":\"Grid\"}],\"title\":{\"id\":\"7944a56a-a788-4e40-874e-42e11802db4b\",\"type\":\"Title\"},\"tool_events\":{\"id\":\"c195d065-edfe-4315-9804-3ed02c964ea6\",\"type\":\"ToolEvents\"},\"toolbar\":{\"id\":\"7cc8cbc0-0cb8-493b-90f2-ad693bd0d2ae\",\"type\":\"Toolbar\"},\"x_mapper_type\":\"auto\",\"x_range\":{\"id\":\"5cb7efe6-4131-4e50-a757-a49e129e56a6\",\"type\":\"Range1d\"},\"y_mapper_type\":\"auto\",\"y_range\":{\"id\":\"05e970f4-9a4d-40e4-a151-1092b293e9f2\",\"type\":\"Range1d\"}},\"id\":\"6bc617be-4cb6-4681-ae8e-968431d1e0c8\",\"subtype\":\"Chart\",\"type\":\"Plot\"},{\"attributes\":{\"data_source\":{\"id\":\"90a7f1ef-e051-4d59-a108-130d788dba96\",\"type\":\"ColumnDataSource\"},\"glyph\":{\"id\":\"26e16b37-1224-4b99-8599-31bd1c9fea1b\",\"type\":\"Rect\"},\"hover_glyph\":null,\"nonselection_glyph\":null,\"selection_glyph\":null},\"id\":\"fe0b41dd-c265-46ee-9f3d-8b287d8fa140\",\"type\":\"GlyphRenderer\"},{\"attributes\":{\"callback\":null,\"column_names\":[\"label\",\"line_color\",\"height\",\"line_alpha\",\"fill_alpha\",\"width\",\"color\",\"x\",\"y\"],\"data\":{\"chart_index\":[\"(112074.666667, 117677.400000]\"],\"color\":[\"LightSlateGray\"],\"fill_alpha\":[0.8],\"height\":[0.0],\"label\":[\"(112074.666667, 117677.400000]\"],\"line_alpha\":[1.0],\"line_color\":[\"black\"],\"width\":[5602.733333333337],\"x\":[\"114876.0333335\"],\"y\":[0.0]}},\"id\":\"6eee21ca-232b-4606-956c-085fc0b7b42b\",\"type\":\"ColumnDataSource\"},{\"attributes\":{\"callback\":null,\"column_names\":[\"label\",\"line_color\",\"height\",\"line_alpha\",\"fill_alpha\",\"width\",\"color\",\"x\",\"y\"],\"data\":{\"chart_index\":[\"(56047.333333, 61650.066667]\"],\"color\":[\"LightSlateGray\"],\"fill_alpha\":[0.8],\"height\":[0.0],\"label\":[\"(56047.333333, 61650.066667]\"],\"line_alpha\":[1.0],\"line_color\":[\"black\"],\"width\":[5602.73333333333],\"x\":[\"58848.7\"],\"y\":[0.0]}},\"id\":\"994785b1-e881-469d-a647-72d885f721fa\",\"type\":\"ColumnDataSource\"},{\"attributes\":{\"callback\":null,\"column_names\":[\"label\",\"line_color\",\"height\",\"line_alpha\",\"fill_alpha\",\"width\",\"color\",\"x\",\"y\"],\"data\":{\"chart_index\":[\"(140088.333333, 145691.066667]\"],\"color\":[\"LightSlateGray\"],\"fill_alpha\":[0.8],\"height\":[0.0],\"label\":[\"(140088.333333, 145691.066667]\"],\"line_alpha\":[1.0],\"line_color\":[\"black\"],\"width\":[5602.733333333337],\"x\":[\"142889.7\"],\"y\":[0.0]}},\"id\":\"62c47d1c-4f2e-4f54-ad6b-34faf612a91b\",\"type\":\"ColumnDataSource\"},{\"attributes\":{\"data_source\":{\"id\":\"28bbd9c4-7fa7-49f6-97dc-2235cfab52f5\",\"type\":\"ColumnDataSource\"},\"glyph\":{\"id\":\"f0ad6399-dbba-4d7b-850d-56020e26d9b6\",\"type\":\"Rect\"},\"hover_glyph\":null,\"nonselection_glyph\":null,\"selection_glyph\":null},\"id\":\"f698de7c-259c-4692-a255-1716429e1ebf\",\"type\":\"GlyphRenderer\"},{\"attributes\":{\"data_source\":{\"id\":\"87ed1907-7f4c-4bf6-82f9-f261f2b0ca6e\",\"type\":\"ColumnDataSource\"},\"glyph\":{\"id\":\"332b63c2-55ae-45ba-88cb-135a4aee12a4\",\"type\":\"Rect\"},\"hover_glyph\":null,\"nonselection_glyph\":null,\"selection_glyph\":null},\"id\":\"4505ec0b-0b37-4cb3-ac6c-88d0c5a82f27\",\"type\":\"GlyphRenderer\"},{\"attributes\":{\"fill_alpha\":{\"field\":\"fill_alpha\"},\"fill_color\":{\"field\":\"color\"},\"height\":{\"field\":\"height\",\"units\":\"data\"},\"line_color\":{\"field\":\"line_color\"},\"width\":{\"field\":\"width\",\"units\":\"data\"},\"x\":{\"field\":\"x\"},\"y\":{\"field\":\"y\"}},\"id\":\"5159422c-0680-4e45-b39a-de26053a3aad\",\"type\":\"Rect\"},{\"attributes\":{\"plot\":{\"id\":\"6bc617be-4cb6-4681-ae8e-968431d1e0c8\",\"subtype\":\"Chart\",\"type\":\"Plot\"}},\"id\":\"8d26a704-c420-4bc1-b239-d9a73d92a190\",\"type\":\"PanTool\"},{\"attributes\":{\"data_source\":{\"id\":\"994785b1-e881-469d-a647-72d885f721fa\",\"type\":\"ColumnDataSource\"},\"glyph\":{\"id\":\"5c43c094-ba6d-4b05-93cd-86b4268b6f2e\",\"type\":\"Rect\"},\"hover_glyph\":null,\"nonselection_glyph\":null,\"selection_glyph\":null},\"id\":\"fbadf1ab-addc-4c41-a0ba-eb8eda1fdec4\",\"type\":\"GlyphRenderer\"},{\"attributes\":{\"data_source\":{\"id\":\"0930b4c4-e3c0-4d77-be08-4ef90b98499b\",\"type\":\"ColumnDataSource\"},\"glyph\":{\"id\":\"975b72aa-e292-4531-b5ab-0dbe43912e5f\",\"type\":\"Rect\"},\"hover_glyph\":null,\"nonselection_glyph\":null,\"selection_glyph\":null},\"id\":\"4398ae1b-0aae-4783-8ca9-f6c650b14118\",\"type\":\"GlyphRenderer\"},{\"attributes\":{\"fill_alpha\":{\"field\":\"fill_alpha\"},\"fill_color\":{\"field\":\"color\"},\"height\":{\"field\":\"height\",\"units\":\"data\"},\"line_color\":{\"field\":\"line_color\"},\"width\":{\"field\":\"width\",\"units\":\"data\"},\"x\":{\"field\":\"x\"},\"y\":{\"field\":\"y\"}},\"id\":\"5c43c094-ba6d-4b05-93cd-86b4268b6f2e\",\"type\":\"Rect\"},{\"attributes\":{\"fill_alpha\":{\"field\":\"fill_alpha\"},\"fill_color\":{\"field\":\"color\"},\"height\":{\"field\":\"height\",\"units\":\"data\"},\"line_color\":{\"field\":\"line_color\"},\"width\":{\"field\":\"width\",\"units\":\"data\"},\"x\":{\"field\":\"x\"},\"y\":{\"field\":\"y\"}},\"id\":\"99c853ee-4609-4e91-ab6f-b941d2ed2669\",\"type\":\"Rect\"},{\"attributes\":{\"fill_alpha\":{\"field\":\"fill_alpha\"},\"fill_color\":{\"field\":\"color\"},\"height\":{\"field\":\"height\",\"units\":\"data\"},\"line_color\":{\"field\":\"line_color\"},\"width\":{\"field\":\"width\",\"units\":\"data\"},\"x\":{\"field\":\"x\"},\"y\":{\"field\":\"y\"}},\"id\":\"655d4435-b001-4f46-a30c-d4457fa5f1c8\",\"type\":\"Rect\"},{\"attributes\":{\"fill_alpha\":{\"field\":\"fill_alpha\"},\"fill_color\":{\"field\":\"color\"},\"height\":{\"field\":\"height\",\"units\":\"data\"},\"line_color\":{\"field\":\"line_color\"},\"width\":{\"field\":\"width\",\"units\":\"data\"},\"x\":{\"field\":\"x\"},\"y\":{\"field\":\"y\"}},\"id\":\"1490af9b-8f59-4aab-9085-bc89f85444d3\",\"type\":\"Rect\"},{\"attributes\":{\"callback\":null,\"column_names\":[\"label\",\"line_color\",\"height\",\"line_alpha\",\"fill_alpha\",\"width\",\"color\",\"x\",\"y\"],\"data\":{\"chart_index\":[\"(84061.000000, 89663.733333]\"],\"color\":[\"LightSlateGray\"],\"fill_alpha\":[0.8],\"height\":[0.0],\"label\":[\"(84061.000000, 89663.733333]\"],\"line_alpha\":[1.0],\"line_color\":[\"black\"],\"width\":[5602.733333333337],\"x\":[\"86862.36666649999\"],\"y\":[0.0]}},\"id\":\"342e9e39-0c56-408b-bf58-047efa225dc9\",\"type\":\"ColumnDataSource\"},{\"attributes\":{\"plot\":{\"id\":\"6bc617be-4cb6-4681-ae8e-968431d1e0c8\",\"subtype\":\"Chart\",\"type\":\"Plot\"}},\"id\":\"e3c5e3a5-2d9f-4a87-9a1f-7e5059d29ae0\",\"type\":\"HelpTool\"},{\"attributes\":{\"plot\":{\"id\":\"6bc617be-4cb6-4681-ae8e-968431d1e0c8\",\"subtype\":\"Chart\",\"type\":\"Plot\"}},\"id\":\"b6444b4a-6795-4331-adf5-95d50a22b91c\",\"type\":\"WheelZoomTool\"},{\"attributes\":{\"callback\":null,\"column_names\":[\"label\",\"line_color\",\"height\",\"line_alpha\",\"fill_alpha\",\"width\",\"color\",\"x\",\"y\"],\"data\":{\"chart_index\":[\"(134485.600000, 140088.333333]\"],\"color\":[\"LightSlateGray\"],\"fill_alpha\":[0.8],\"height\":[0.0],\"label\":[\"(134485.600000, 140088.333333]\"],\"line_alpha\":[1.0],\"line_color\":[\"black\"],\"width\":[5602.733333333337],\"x\":[\"137286.9666665\"],\"y\":[0.0]}},\"id\":\"ccb90ae4-0735-4313-a9e1-c5b726b47caf\",\"type\":\"ColumnDataSource\"},{\"attributes\":{\"location\":\"top_left\",\"plot\":{\"id\":\"6bc617be-4cb6-4681-ae8e-968431d1e0c8\",\"subtype\":\"Chart\",\"type\":\"Plot\"}},\"id\":\"d5af8757-3973-4164-bc8a-767d60b7904f\",\"type\":\"Legend\"},{\"attributes\":{\"data_source\":{\"id\":\"6eee21ca-232b-4606-956c-085fc0b7b42b\",\"type\":\"ColumnDataSource\"},\"glyph\":{\"id\":\"c87e5789-ec71-4d7c-ac24-e805dbdfe86c\",\"type\":\"Rect\"},\"hover_glyph\":null,\"nonselection_glyph\":null,\"selection_glyph\":null},\"id\":\"ca716188-006a-4ded-bd3c-c76e646c1622\",\"type\":\"GlyphRenderer\"},{\"attributes\":{\"data_source\":{\"id\":\"342e9e39-0c56-408b-bf58-047efa225dc9\",\"type\":\"ColumnDataSource\"},\"glyph\":{\"id\":\"fb9dc30b-765c-43c1-8dc6-567b2a68fdd7\",\"type\":\"Rect\"},\"hover_glyph\":null,\"nonselection_glyph\":null,\"selection_glyph\":null},\"id\":\"fa9c21bb-ebd3-452f-b67f-dc2ed523aaf0\",\"type\":\"GlyphRenderer\"},{\"attributes\":{\"fill_alpha\":{\"field\":\"fill_alpha\"},\"fill_color\":{\"field\":\"color\"},\"height\":{\"field\":\"height\",\"units\":\"data\"},\"line_color\":{\"field\":\"line_color\"},\"width\":{\"field\":\"width\",\"units\":\"data\"},\"x\":{\"field\":\"x\"},\"y\":{\"field\":\"y\"}},\"id\":\"332b63c2-55ae-45ba-88cb-135a4aee12a4\",\"type\":\"Rect\"},{\"attributes\":{\"callback\":null,\"column_names\":[\"label\",\"line_color\",\"height\",\"line_alpha\",\"fill_alpha\",\"width\",\"color\",\"x\",\"y\"],\"data\":{\"chart_index\":[\"(33636.400000, 39239.133333]\"],\"color\":[\"LightSlateGray\"],\"fill_alpha\":[0.8],\"height\":[0.0],\"label\":[\"(33636.400000, 39239.133333]\"],\"line_alpha\":[1.0],\"line_color\":[\"black\"],\"width\":[5602.73333333333],\"x\":[\"36437.7666665\"],\"y\":[0.0]}},\"id\":\"64dec943-1b6f-49ad-9152-952535c2def3\",\"type\":\"ColumnDataSource\"},{\"attributes\":{\"data_source\":{\"id\":\"9484d85c-aeac-427d-a0d6-decae7df2a9b\",\"type\":\"ColumnDataSource\"},\"glyph\":{\"id\":\"a9d7ab65-3f1e-4593-a5cb-b32f862a9e6f\",\"type\":\"Rect\"},\"hover_glyph\":null,\"nonselection_glyph\":null,\"selection_glyph\":null},\"id\":\"c869f58a-0a2f-4a65-a4bb-86339dc897dc\",\"type\":\"GlyphRenderer\"},{\"attributes\":{\"data_source\":{\"id\":\"11f4b93f-cdc2-4c1f-9f4d-abc82bb11766\",\"type\":\"ColumnDataSource\"},\"glyph\":{\"id\":\"982926de-e6f2-4445-8319-7557642e9777\",\"type\":\"Rect\"},\"hover_glyph\":null,\"nonselection_glyph\":null,\"selection_glyph\":null},\"id\":\"79978b9e-8371-4184-8893-34c42808f9e4\",\"type\":\"GlyphRenderer\"},{\"attributes\":{\"fill_alpha\":{\"field\":\"fill_alpha\"},\"fill_color\":{\"field\":\"color\"},\"height\":{\"field\":\"height\",\"units\":\"data\"},\"line_color\":{\"field\":\"line_color\"},\"width\":{\"field\":\"width\",\"units\":\"data\"},\"x\":{\"field\":\"x\"},\"y\":{\"field\":\"y\"}},\"id\":\"55d031d4-4917-441b-9b41-1648bbb99c74\",\"type\":\"Rect\"},{\"attributes\":{\"fill_alpha\":{\"field\":\"fill_alpha\"},\"fill_color\":{\"field\":\"color\"},\"height\":{\"field\":\"height\",\"units\":\"data\"},\"line_color\":{\"field\":\"line_color\"},\"width\":{\"field\":\"width\",\"units\":\"data\"},\"x\":{\"field\":\"x\"},\"y\":{\"field\":\"y\"}},\"id\":\"6de410e1-5195-46cc-a365-5eb578aa8c0f\",\"type\":\"Rect\"},{\"attributes\":{},\"id\":\"dfc3d26f-227a-4136-8f10-a8a6a0789d8a\",\"type\":\"BasicTickFormatter\"},{\"attributes\":{\"callback\":null,\"column_names\":[\"label\",\"line_color\",\"height\",\"line_alpha\",\"fill_alpha\",\"width\",\"color\",\"x\",\"y\"],\"data\":{\"chart_index\":[\"(156896.533333, 162499.266667]\"],\"color\":[\"LightSlateGray\"],\"fill_alpha\":[0.8],\"height\":[0.0],\"label\":[\"(156896.533333, 162499.266667]\"],\"line_alpha\":[1.0],\"line_color\":[\"black\"],\"width\":[5602.733333333337],\"x\":[\"159697.9\"],\"y\":[0.0]}},\"id\":\"7f753a90-3fe6-49ab-bc70-9a231d514347\",\"type\":\"ColumnDataSource\"},{\"attributes\":{\"axis_label\":\"Size(bp)\",\"formatter\":{\"id\":\"dfc3d26f-227a-4136-8f10-a8a6a0789d8a\",\"type\":\"BasicTickFormatter\"},\"plot\":{\"id\":\"6bc617be-4cb6-4681-ae8e-968431d1e0c8\",\"subtype\":\"Chart\",\"type\":\"Plot\"},\"ticker\":{\"id\":\"7851fb75-ab31-49c2-896f-583b6bc88574\",\"type\":\"BasicTicker\"}},\"id\":\"c6edf26f-ccf7-41c0-a1f4-bcc97d0da3c2\",\"type\":\"LinearAxis\"},{\"attributes\":{\"bottom_units\":\"screen\",\"fill_alpha\":{\"value\":0.5},\"fill_color\":{\"value\":\"lightgrey\"},\"left_units\":\"screen\",\"level\":\"overlay\",\"line_alpha\":{\"value\":1.0},\"line_color\":{\"value\":\"black\"},\"line_dash\":[4,4],\"line_width\":{\"value\":2},\"plot\":null,\"render_mode\":\"css\",\"right_units\":\"screen\",\"top_units\":\"screen\"},\"id\":\"0b638e21-16e9-45b8-8229-1d6426f39c57\",\"type\":\"BoxAnnotation\"},{\"attributes\":{\"fill_alpha\":{\"field\":\"fill_alpha\"},\"fill_color\":{\"field\":\"color\"},\"height\":{\"field\":\"height\",\"units\":\"data\"},\"line_color\":{\"field\":\"line_color\"},\"width\":{\"field\":\"width\",\"units\":\"data\"},\"x\":{\"field\":\"x\"},\"y\":{\"field\":\"y\"}},\"id\":\"e1b6da61-70cf-46e0-ba97-5726a37061da\",\"type\":\"Rect\"},{\"attributes\":{\"callback\":null,\"column_names\":[\"label\",\"line_color\",\"height\",\"line_alpha\",\"fill_alpha\",\"width\",\"color\",\"x\",\"y\"],\"data\":{\"chart_index\":[\"(123280.133333, 128882.866667]\"],\"color\":[\"LightSlateGray\"],\"fill_alpha\":[0.8],\"height\":[0.0],\"label\":[\"(123280.133333, 128882.866667]\"],\"line_alpha\":[1.0],\"line_color\":[\"black\"],\"width\":[5602.733333333337],\"x\":[\"126081.5\"],\"y\":[0.0]}},\"id\":\"c0f53811-5884-44a9-a67f-41e57d4445b7\",\"type\":\"ColumnDataSource\"},{\"attributes\":{\"callback\":null,\"end\":2047.1000000000001},\"id\":\"05e970f4-9a4d-40e4-a151-1092b293e9f2\",\"type\":\"Range1d\"},{\"attributes\":{\"callback\":null,\"column_names\":[\"label\",\"line_color\",\"height\",\"line_alpha\",\"fill_alpha\",\"width\",\"color\",\"x\",\"y\"],\"data\":{\"chart_index\":[\"(50444.600000, 56047.333333]\"],\"color\":[\"LightSlateGray\"],\"fill_alpha\":[0.8],\"height\":[0.0],\"label\":[\"(50444.600000, 56047.333333]\"],\"line_alpha\":[1.0],\"line_color\":[\"black\"],\"width\":[5602.73333333333],\"x\":[\"53245.9666665\"],\"y\":[0.0]}},\"id\":\"58fdaa33-d4c0-4be6-b16f-a05475cd1af4\",\"type\":\"ColumnDataSource\"},{\"attributes\":{\"overlay\":{\"id\":\"0b638e21-16e9-45b8-8229-1d6426f39c57\",\"type\":\"BoxAnnotation\"},\"plot\":{\"id\":\"6bc617be-4cb6-4681-ae8e-968431d1e0c8\",\"subtype\":\"Chart\",\"type\":\"Plot\"}},\"id\":\"f4d47729-0279-46d5-ae54-6291c7e2f34a\",\"type\":\"BoxZoomTool\"},{\"attributes\":{\"fill_alpha\":{\"field\":\"fill_alpha\"},\"fill_color\":{\"field\":\"color\"},\"height\":{\"field\":\"height\",\"units\":\"data\"},\"line_color\":{\"field\":\"line_color\"},\"width\":{\"field\":\"width\",\"units\":\"data\"},\"x\":{\"field\":\"x\"},\"y\":{\"field\":\"y\"}},\"id\":\"fa8b3085-93c9-4bb0-82e4-104bed7fafdb\",\"type\":\"Rect\"},{\"attributes\":{\"callback\":null,\"column_names\":[\"label\",\"line_color\",\"height\",\"line_alpha\",\"fill_alpha\",\"width\",\"color\",\"x\",\"y\"],\"data\":{\"chart_index\":[\"(145691.066667, 151293.800000]\"],\"color\":[\"LightSlateGray\"],\"fill_alpha\":[0.8],\"height\":[0.0],\"label\":[\"(145691.066667, 151293.800000]\"],\"line_alpha\":[1.0],\"line_color\":[\"black\"],\"width\":[5602.733333333337],\"x\":[\"148492.4333335\"],\"y\":[0.0]}},\"id\":\"8420adf9-6e0b-4914-927c-8f1460798c0f\",\"type\":\"ColumnDataSource\"},{\"attributes\":{\"callback\":null,\"column_names\":[\"label\",\"line_color\",\"height\",\"line_alpha\",\"fill_alpha\",\"width\",\"color\",\"x\",\"y\"],\"data\":{\"chart_index\":[\"(39239.133333, 44841.866667]\"],\"color\":[\"LightSlateGray\"],\"fill_alpha\":[0.8],\"height\":[0.0],\"label\":[\"(39239.133333, 44841.866667]\"],\"line_alpha\":[1.0],\"line_color\":[\"black\"],\"width\":[5602.733333333337],\"x\":[\"42040.5\"],\"y\":[0.0]}},\"id\":\"facd51e8-9e02-4c42-bd97-8ef093e8767a\",\"type\":\"ColumnDataSource\"},{\"attributes\":{\"fill_alpha\":{\"field\":\"fill_alpha\"},\"fill_color\":{\"field\":\"color\"},\"height\":{\"field\":\"height\",\"units\":\"data\"},\"line_color\":{\"field\":\"line_color\"},\"width\":{\"field\":\"width\",\"units\":\"data\"},\"x\":{\"field\":\"x\"},\"y\":{\"field\":\"y\"}},\"id\":\"dd74d765-65e5-44ec-8473-8c9dce53496d\",\"type\":\"Rect\"},{\"attributes\":{\"plot\":null,\"text\":\"Heterozygous Variant: Predict Proba > 0.9\"},\"id\":\"7944a56a-a788-4e40-874e-42e11802db4b\",\"type\":\"Title\"},{\"attributes\":{\"callback\":null,\"column_names\":[\"label\",\"line_color\",\"height\",\"line_alpha\",\"fill_alpha\",\"width\",\"color\",\"x\",\"y\"],\"data\":{\"chart_index\":[\"(11225.466667, 16828.200000]\"],\"color\":[\"LightSlateGray\"],\"fill_alpha\":[0.8],\"height\":[2.0],\"label\":[\"(11225.466667, 16828.200000]\"],\"line_alpha\":[1.0],\"line_color\":[\"black\"],\"width\":[5602.733333333334],\"x\":[\"14026.8333335\"],\"y\":[1.0]}},\"id\":\"28bbd9c4-7fa7-49f6-97dc-2235cfab52f5\",\"type\":\"ColumnDataSource\"},{\"attributes\":{\"data_source\":{\"id\":\"e55ccbcd-1f8e-41cf-bfe1-da9183a69675\",\"type\":\"ColumnDataSource\"},\"glyph\":{\"id\":\"1490af9b-8f59-4aab-9085-bc89f85444d3\",\"type\":\"Rect\"},\"hover_glyph\":null,\"nonselection_glyph\":null,\"selection_glyph\":null},\"id\":\"791b3a75-b522-4d76-a881-d7c9b04083ae\",\"type\":\"GlyphRenderer\"},{\"attributes\":{\"fill_alpha\":{\"field\":\"fill_alpha\"},\"fill_color\":{\"field\":\"color\"},\"height\":{\"field\":\"height\",\"units\":\"data\"},\"line_color\":{\"field\":\"line_color\"},\"width\":{\"field\":\"width\",\"units\":\"data\"},\"x\":{\"field\":\"x\"},\"y\":{\"field\":\"y\"}},\"id\":\"fd60e783-bc43-4865-bbd7-83e18e2b432e\",\"type\":\"Rect\"},{\"attributes\":{\"fill_alpha\":{\"field\":\"fill_alpha\"},\"fill_color\":{\"field\":\"color\"},\"height\":{\"field\":\"height\",\"units\":\"data\"},\"line_color\":{\"field\":\"line_color\"},\"width\":{\"field\":\"width\",\"units\":\"data\"},\"x\":{\"field\":\"x\"},\"y\":{\"field\":\"y\"}},\"id\":\"c87e5789-ec71-4d7c-ac24-e805dbdfe86c\",\"type\":\"Rect\"},{\"attributes\":{\"data_source\":{\"id\":\"5585bec5-d7e7-478e-9e91-8d0eacce7473\",\"type\":\"ColumnDataSource\"},\"glyph\":{\"id\":\"fd60e783-bc43-4865-bbd7-83e18e2b432e\",\"type\":\"Rect\"},\"hover_glyph\":null,\"nonselection_glyph\":null,\"selection_glyph\":null},\"id\":\"44186400-a57a-46ba-9dbc-0747a0c61322\",\"type\":\"GlyphRenderer\"},{\"attributes\":{\"data_source\":{\"id\":\"90fa30a9-ac64-4b21-a0f3-d71028c324bf\",\"type\":\"ColumnDataSource\"},\"glyph\":{\"id\":\"e54a80ff-54f1-4bab-91ed-25381f99306f\",\"type\":\"Rect\"},\"hover_glyph\":null,\"nonselection_glyph\":null,\"selection_glyph\":null},\"id\":\"68d65ed1-56a2-44dd-955a-7a982a5d9a31\",\"type\":\"GlyphRenderer\"},{\"attributes\":{\"data_source\":{\"id\":\"092e25f4-a51d-463a-a6ed-f1ef318eb039\",\"type\":\"ColumnDataSource\"},\"glyph\":{\"id\":\"55d031d4-4917-441b-9b41-1648bbb99c74\",\"type\":\"Rect\"},\"hover_glyph\":null,\"nonselection_glyph\":null,\"selection_glyph\":null},\"id\":\"7f4d0f0f-9adf-4eb0-bf3b-165af76372c2\",\"type\":\"GlyphRenderer\"},{\"attributes\":{\"data_source\":{\"id\":\"7f753a90-3fe6-49ab-bc70-9a231d514347\",\"type\":\"ColumnDataSource\"},\"glyph\":{\"id\":\"e363e9e1-7d4d-4386-b682-82accd318d24\",\"type\":\"Rect\"},\"hover_glyph\":null,\"nonselection_glyph\":null,\"selection_glyph\":null},\"id\":\"f0362ec8-375b-421c-81e7-97079d30d651\",\"type\":\"GlyphRenderer\"},{\"attributes\":{\"dimension\":1,\"plot\":{\"id\":\"6bc617be-4cb6-4681-ae8e-968431d1e0c8\",\"subtype\":\"Chart\",\"type\":\"Plot\"},\"ticker\":{\"id\":\"56f34565-5c0f-499e-8972-d02af0090c54\",\"type\":\"BasicTicker\"}},\"id\":\"8c8776b4-fcaf-4264-9882-3019b15401a8\",\"type\":\"Grid\"},{\"attributes\":{\"data_source\":{\"id\":\"58fdaa33-d4c0-4be6-b16f-a05475cd1af4\",\"type\":\"ColumnDataSource\"},\"glyph\":{\"id\":\"2ab020af-fbe0-471b-b08c-af96a1538932\",\"type\":\"Rect\"},\"hover_glyph\":null,\"nonselection_glyph\":null,\"selection_glyph\":null},\"id\":\"96553325-cede-4313-849b-2647f1de1cd5\",\"type\":\"GlyphRenderer\"},{\"attributes\":{\"callback\":null,\"column_names\":[\"label\",\"line_color\",\"height\",\"line_alpha\",\"fill_alpha\",\"width\",\"color\",\"x\",\"y\"],\"data\":{\"chart_index\":[\"(22430.933333, 28033.666667]\"],\"color\":[\"LightSlateGray\"],\"fill_alpha\":[0.8],\"height\":[2.0],\"label\":[\"(22430.933333, 28033.666667]\"],\"line_alpha\":[1.0],\"line_color\":[\"black\"],\"width\":[5602.733333333334],\"x\":[\"25232.300000000003\"],\"y\":[1.0]}},\"id\":\"5ac3ce14-fff1-4bd0-932b-321be67eea97\",\"type\":\"ColumnDataSource\"},{\"attributes\":{\"axis_label\":\"Frequency\",\"formatter\":{\"id\":\"df28725f-85f2-42b7-9b08-5bb8b12299f9\",\"type\":\"BasicTickFormatter\"},\"plot\":{\"id\":\"6bc617be-4cb6-4681-ae8e-968431d1e0c8\",\"subtype\":\"Chart\",\"type\":\"Plot\"},\"ticker\":{\"id\":\"56f34565-5c0f-499e-8972-d02af0090c54\",\"type\":\"BasicTicker\"}},\"id\":\"2817aca1-d37a-4738-87b2-37e68eb1a209\",\"type\":\"LinearAxis\"},{\"attributes\":{\"fill_alpha\":{\"field\":\"fill_alpha\"},\"fill_color\":{\"field\":\"color\"},\"height\":{\"field\":\"height\",\"units\":\"data\"},\"line_color\":{\"field\":\"line_color\"},\"width\":{\"field\":\"width\",\"units\":\"data\"},\"x\":{\"field\":\"x\"},\"y\":{\"field\":\"y\"}},\"id\":\"bf7664a2-aea0-4547-b7b3-03926fa2e8f2\",\"type\":\"Rect\"},{\"attributes\":{\"fill_alpha\":{\"field\":\"fill_alpha\"},\"fill_color\":{\"field\":\"color\"},\"height\":{\"field\":\"height\",\"units\":\"data\"},\"line_color\":{\"field\":\"line_color\"},\"width\":{\"field\":\"width\",\"units\":\"data\"},\"x\":{\"field\":\"x\"},\"y\":{\"field\":\"y\"}},\"id\":\"92334f18-d2bc-4489-ac9c-5d4acf3d7d90\",\"type\":\"Rect\"},{\"attributes\":{\"fill_alpha\":{\"field\":\"fill_alpha\"},\"fill_color\":{\"field\":\"color\"},\"height\":{\"field\":\"height\",\"units\":\"data\"},\"line_color\":{\"field\":\"line_color\"},\"width\":{\"field\":\"width\",\"units\":\"data\"},\"x\":{\"field\":\"x\"},\"y\":{\"field\":\"y\"}},\"id\":\"26e16b37-1224-4b99-8599-31bd1c9fea1b\",\"type\":\"Rect\"},{\"attributes\":{\"fill_alpha\":{\"field\":\"fill_alpha\"},\"fill_color\":{\"field\":\"color\"},\"height\":{\"field\":\"height\",\"units\":\"data\"},\"line_color\":{\"field\":\"line_color\"},\"width\":{\"field\":\"width\",\"units\":\"data\"},\"x\":{\"field\":\"x\"},\"y\":{\"field\":\"y\"}},\"id\":\"bbc9dea4-2252-4135-9473-977006b1d393\",\"type\":\"Rect\"},{\"attributes\":{\"fill_alpha\":{\"field\":\"fill_alpha\"},\"fill_color\":{\"field\":\"color\"},\"height\":{\"field\":\"height\",\"units\":\"data\"},\"line_color\":{\"field\":\"line_color\"},\"width\":{\"field\":\"width\",\"units\":\"data\"},\"x\":{\"field\":\"x\"},\"y\":{\"field\":\"y\"}},\"id\":\"bb111722-467a-4070-9646-5028f0da3002\",\"type\":\"Rect\"},{\"attributes\":{\"active_drag\":\"auto\",\"active_scroll\":\"auto\",\"active_tap\":\"auto\",\"tools\":[{\"id\":\"8d26a704-c420-4bc1-b239-d9a73d92a190\",\"type\":\"PanTool\"},{\"id\":\"b6444b4a-6795-4331-adf5-95d50a22b91c\",\"type\":\"WheelZoomTool\"},{\"id\":\"f4d47729-0279-46d5-ae54-6291c7e2f34a\",\"type\":\"BoxZoomTool\"},{\"id\":\"73c77d70-0c53-429d-9ba5-5d019bd65d26\",\"type\":\"SaveTool\"},{\"id\":\"c6dcf663-952e-4865-882d-e1fa99ea05c5\",\"type\":\"ResetTool\"},{\"id\":\"e3c5e3a5-2d9f-4a87-9a1f-7e5059d29ae0\",\"type\":\"HelpTool\"}]},\"id\":\"7cc8cbc0-0cb8-493b-90f2-ad693bd0d2ae\",\"type\":\"Toolbar\"},{\"attributes\":{\"callback\":null,\"end\":172305.05000016667,\"start\":-4183.050000166667},\"id\":\"5cb7efe6-4131-4e50-a757-a49e129e56a6\",\"type\":\"Range1d\"},{\"attributes\":{\"callback\":null,\"column_names\":[\"label\",\"line_color\",\"height\",\"line_alpha\",\"fill_alpha\",\"width\",\"color\",\"x\",\"y\"],\"data\":{\"chart_index\":[\"(106471.933333, 112074.666667]\"],\"color\":[\"LightSlateGray\"],\"fill_alpha\":[0.8],\"height\":[0.0],\"label\":[\"(106471.933333, 112074.666667]\"],\"line_alpha\":[1.0],\"line_color\":[\"black\"],\"width\":[5602.733333333337],\"x\":[\"109273.29999999999\"],\"y\":[0.0]}},\"id\":\"092e25f4-a51d-463a-a6ed-f1ef318eb039\",\"type\":\"ColumnDataSource\"},{\"attributes\":{\"callback\":null,\"column_names\":[\"label\",\"line_color\",\"height\",\"line_alpha\",\"fill_alpha\",\"width\",\"color\",\"x\",\"y\"],\"data\":{\"chart_index\":[\"(44841.866667, 50444.600000]\"],\"color\":[\"LightSlateGray\"],\"fill_alpha\":[0.8],\"height\":[0.0],\"label\":[\"(44841.866667, 50444.600000]\"],\"line_alpha\":[1.0],\"line_color\":[\"black\"],\"width\":[5602.733333333337],\"x\":[\"47643.2333335\"],\"y\":[0.0]}},\"id\":\"92091e18-3033-4f5c-99d3-3175e14741c0\",\"type\":\"ColumnDataSource\"},{\"attributes\":{},\"id\":\"56f34565-5c0f-499e-8972-d02af0090c54\",\"type\":\"BasicTicker\"},{\"attributes\":{\"data_source\":{\"id\":\"1846f40c-c746-4045-814f-af97b6c45791\",\"type\":\"ColumnDataSource\"},\"glyph\":{\"id\":\"fa8b3085-93c9-4bb0-82e4-104bed7fafdb\",\"type\":\"Rect\"},\"hover_glyph\":null,\"nonselection_glyph\":null,\"selection_glyph\":null},\"id\":\"3a7dd8d9-9253-45b5-94ff-16a73494ae41\",\"type\":\"GlyphRenderer\"},{\"attributes\":{\"callback\":null,\"column_names\":[\"label\",\"line_color\",\"height\",\"line_alpha\",\"fill_alpha\",\"width\",\"color\",\"x\",\"y\"],\"data\":{\"chart_index\":[\"(117677.400000, 123280.133333]\"],\"color\":[\"LightSlateGray\"],\"fill_alpha\":[0.8],\"height\":[0.0],\"label\":[\"(117677.400000, 123280.133333]\"],\"line_alpha\":[1.0],\"line_color\":[\"black\"],\"width\":[5602.733333333323],\"x\":[\"120478.7666665\"],\"y\":[0.0]}},\"id\":\"d06052eb-53e5-4d19-be34-e5e48e25d925\",\"type\":\"ColumnDataSource\"},{\"attributes\":{\"callback\":null,\"column_names\":[\"label\",\"line_color\",\"height\",\"line_alpha\",\"fill_alpha\",\"width\",\"color\",\"x\",\"y\"],\"data\":{\"chart_index\":[\"(162499.266667, 168102.000000]\"],\"color\":[\"LightSlateGray\"],\"fill_alpha\":[0.8],\"height\":[1.0],\"label\":[\"(162499.266667, 168102.000000]\"],\"line_alpha\":[1.0],\"line_color\":[\"black\"],\"width\":[5602.733333333337],\"x\":[\"165300.6333335\"],\"y\":[0.5]}},\"id\":\"a938993b-5cf9-4254-90b5-e6c9597cd6e9\",\"type\":\"ColumnDataSource\"},{\"attributes\":{\"callback\":null,\"column_names\":[\"label\",\"line_color\",\"height\",\"line_alpha\",\"fill_alpha\",\"width\",\"color\",\"x\",\"y\"],\"data\":{\"chart_index\":[\"(67252.800000, 72855.533333]\"],\"color\":[\"LightSlateGray\"],\"fill_alpha\":[0.8],\"height\":[0.0],\"label\":[\"(67252.800000, 72855.533333]\"],\"line_alpha\":[1.0],\"line_color\":[\"black\"],\"width\":[5602.733333333337],\"x\":[\"70054.16666650001\"],\"y\":[0.0]}},\"id\":\"e55ccbcd-1f8e-41cf-bfe1-da9183a69675\",\"type\":\"ColumnDataSource\"},{\"attributes\":{\"data_source\":{\"id\":\"a938993b-5cf9-4254-90b5-e6c9597cd6e9\",\"type\":\"ColumnDataSource\"},\"glyph\":{\"id\":\"655d4435-b001-4f46-a30c-d4457fa5f1c8\",\"type\":\"Rect\"},\"hover_glyph\":null,\"nonselection_glyph\":null,\"selection_glyph\":null},\"id\":\"e2065f22-a95b-4867-be02-e145c2ccc01a\",\"type\":\"GlyphRenderer\"},{\"attributes\":{\"data_source\":{\"id\":\"8feb9730-32a6-4b39-92af-6c02baeff30a\",\"type\":\"ColumnDataSource\"},\"glyph\":{\"id\":\"bb111722-467a-4070-9646-5028f0da3002\",\"type\":\"Rect\"},\"hover_glyph\":null,\"nonselection_glyph\":null,\"selection_glyph\":null},\"id\":\"f7802a37-980c-405d-b26e-f2f338941045\",\"type\":\"GlyphRenderer\"},{\"attributes\":{\"data_source\":{\"id\":\"dd26983d-df48-4b98-99b2-71c3dcf4bf80\",\"type\":\"ColumnDataSource\"},\"glyph\":{\"id\":\"92334f18-d2bc-4489-ac9c-5d4acf3d7d90\",\"type\":\"Rect\"},\"hover_glyph\":null,\"nonselection_glyph\":null,\"selection_glyph\":null},\"id\":\"163e8ee3-43cb-4bc0-9c87-5f0f817e16c9\",\"type\":\"GlyphRenderer\"},{\"attributes\":{\"fill_alpha\":{\"field\":\"fill_alpha\"},\"fill_color\":{\"field\":\"color\"},\"height\":{\"field\":\"height\",\"units\":\"data\"},\"line_color\":{\"field\":\"line_color\"},\"width\":{\"field\":\"width\",\"units\":\"data\"},\"x\":{\"field\":\"x\"},\"y\":{\"field\":\"y\"}},\"id\":\"982926de-e6f2-4445-8319-7557642e9777\",\"type\":\"Rect\"},{\"attributes\":{\"callback\":null,\"column_names\":[\"label\",\"line_color\",\"height\",\"line_alpha\",\"fill_alpha\",\"width\",\"color\",\"x\",\"y\"],\"data\":{\"chart_index\":[\"(128882.866667, 134485.600000]\"],\"color\":[\"LightSlateGray\"],\"fill_alpha\":[0.8],\"height\":[0.0],\"label\":[\"(128882.866667, 134485.600000]\"],\"line_alpha\":[1.0],\"line_color\":[\"black\"],\"width\":[5602.733333333337],\"x\":[\"131684.2333335\"],\"y\":[0.0]}},\"id\":\"8feb9730-32a6-4b39-92af-6c02baeff30a\",\"type\":\"ColumnDataSource\"},{\"attributes\":{\"fill_alpha\":{\"field\":\"fill_alpha\"},\"fill_color\":{\"field\":\"color\"},\"height\":{\"field\":\"height\",\"units\":\"data\"},\"line_color\":{\"field\":\"line_color\"},\"width\":{\"field\":\"width\",\"units\":\"data\"},\"x\":{\"field\":\"x\"},\"y\":{\"field\":\"y\"}},\"id\":\"fb9dc30b-765c-43c1-8dc6-567b2a68fdd7\",\"type\":\"Rect\"},{\"attributes\":{\"fill_alpha\":{\"field\":\"fill_alpha\"},\"fill_color\":{\"field\":\"color\"},\"height\":{\"field\":\"height\",\"units\":\"data\"},\"line_color\":{\"field\":\"line_color\"},\"width\":{\"field\":\"width\",\"units\":\"data\"},\"x\":{\"field\":\"x\"},\"y\":{\"field\":\"y\"}},\"id\":\"a9d7ab65-3f1e-4593-a5cb-b32f862a9e6f\",\"type\":\"Rect\"},{\"attributes\":{\"fill_alpha\":{\"field\":\"fill_alpha\"},\"fill_color\":{\"field\":\"color\"},\"height\":{\"field\":\"height\",\"units\":\"data\"},\"line_color\":{\"field\":\"line_color\"},\"width\":{\"field\":\"width\",\"units\":\"data\"},\"x\":{\"field\":\"x\"},\"y\":{\"field\":\"y\"}},\"id\":\"583632db-5bc3-4bd4-a164-c287280ac6c4\",\"type\":\"Rect\"},{\"attributes\":{\"data_source\":{\"id\":\"c0f53811-5884-44a9-a67f-41e57d4445b7\",\"type\":\"ColumnDataSource\"},\"glyph\":{\"id\":\"e1b6da61-70cf-46e0-ba97-5726a37061da\",\"type\":\"Rect\"},\"hover_glyph\":null,\"nonselection_glyph\":null,\"selection_glyph\":null},\"id\":\"10d419f6-2684-4571-b5fe-165c84fcea83\",\"type\":\"GlyphRenderer\"},{\"attributes\":{\"data_source\":{\"id\":\"d06052eb-53e5-4d19-be34-e5e48e25d925\",\"type\":\"ColumnDataSource\"},\"glyph\":{\"id\":\"453fc1e6-b05f-4704-b035-c6f6e39bafea\",\"type\":\"Rect\"},\"hover_glyph\":null,\"nonselection_glyph\":null,\"selection_glyph\":null},\"id\":\"2c5d700c-126a-4787-b0ff-959d7c49ec78\",\"type\":\"GlyphRenderer\"},{\"attributes\":{\"fill_alpha\":{\"field\":\"fill_alpha\"},\"fill_color\":{\"field\":\"color\"},\"height\":{\"field\":\"height\",\"units\":\"data\"},\"line_color\":{\"field\":\"line_color\"},\"width\":{\"field\":\"width\",\"units\":\"data\"},\"x\":{\"field\":\"x\"},\"y\":{\"field\":\"y\"}},\"id\":\"453fc1e6-b05f-4704-b035-c6f6e39bafea\",\"type\":\"Rect\"},{\"attributes\":{\"fill_alpha\":{\"field\":\"fill_alpha\"},\"fill_color\":{\"field\":\"color\"},\"height\":{\"field\":\"height\",\"units\":\"data\"},\"line_color\":{\"field\":\"line_color\"},\"width\":{\"field\":\"width\",\"units\":\"data\"},\"x\":{\"field\":\"x\"},\"y\":{\"field\":\"y\"}},\"id\":\"2ab020af-fbe0-471b-b08c-af96a1538932\",\"type\":\"Rect\"},{\"attributes\":{\"data_source\":{\"id\":\"64dec943-1b6f-49ad-9152-952535c2def3\",\"type\":\"ColumnDataSource\"},\"glyph\":{\"id\":\"bf7664a2-aea0-4547-b7b3-03926fa2e8f2\",\"type\":\"Rect\"},\"hover_glyph\":null,\"nonselection_glyph\":null,\"selection_glyph\":null},\"id\":\"c80ac2be-ae45-46f2-a0de-ea41c8e900b1\",\"type\":\"GlyphRenderer\"},{\"attributes\":{\"callback\":null,\"column_names\":[\"label\",\"line_color\",\"height\",\"line_alpha\",\"fill_alpha\",\"width\",\"color\",\"x\",\"y\"],\"data\":{\"chart_index\":[\"(28033.666667, 33636.400000]\"],\"color\":[\"LightSlateGray\"],\"fill_alpha\":[0.8],\"height\":[0.0],\"label\":[\"(28033.666667, 33636.400000]\"],\"line_alpha\":[1.0],\"line_color\":[\"black\"],\"width\":[5602.733333333334],\"x\":[\"30835.033333500003\"],\"y\":[0.0]}},\"id\":\"0930b4c4-e3c0-4d77-be08-4ef90b98499b\",\"type\":\"ColumnDataSource\"},{\"attributes\":{\"data_source\":{\"id\":\"92091e18-3033-4f5c-99d3-3175e14741c0\",\"type\":\"ColumnDataSource\"},\"glyph\":{\"id\":\"5159422c-0680-4e45-b39a-de26053a3aad\",\"type\":\"Rect\"},\"hover_glyph\":null,\"nonselection_glyph\":null,\"selection_glyph\":null},\"id\":\"bb59deae-23d2-4c47-9747-973bc46a753b\",\"type\":\"GlyphRenderer\"},{\"attributes\":{\"fill_alpha\":{\"field\":\"fill_alpha\"},\"fill_color\":{\"field\":\"color\"},\"height\":{\"field\":\"height\",\"units\":\"data\"},\"line_color\":{\"field\":\"line_color\"},\"width\":{\"field\":\"width\",\"units\":\"data\"},\"x\":{\"field\":\"x\"},\"y\":{\"field\":\"y\"}},\"id\":\"975b72aa-e292-4531-b5ab-0dbe43912e5f\",\"type\":\"Rect\"},{\"attributes\":{\"callback\":null,\"column_names\":[\"label\",\"line_color\",\"height\",\"line_alpha\",\"fill_alpha\",\"width\",\"color\",\"x\",\"y\"],\"data\":{\"chart_index\":[\"(61650.066667, 67252.800000]\"],\"color\":[\"LightSlateGray\"],\"fill_alpha\":[0.8],\"height\":[1.0],\"label\":[\"(61650.066667, 67252.800000]\"],\"line_alpha\":[1.0],\"line_color\":[\"black\"],\"width\":[5602.733333333337],\"x\":[\"64451.4333335\"],\"y\":[0.5]}},\"id\":\"f850078c-d742-4450-829a-990b3e8c8f1c\",\"type\":\"ColumnDataSource\"},{\"attributes\":{\"data_source\":{\"id\":\"8420adf9-6e0b-4914-927c-8f1460798c0f\",\"type\":\"ColumnDataSource\"},\"glyph\":{\"id\":\"99c853ee-4609-4e91-ab6f-b941d2ed2669\",\"type\":\"Rect\"},\"hover_glyph\":null,\"nonselection_glyph\":null,\"selection_glyph\":null},\"id\":\"d6071db4-a05c-4fa2-ab2f-b792f61d8a1a\",\"type\":\"GlyphRenderer\"},{\"attributes\":{\"callback\":null,\"column_names\":[\"label\",\"line_color\",\"height\",\"line_alpha\",\"fill_alpha\",\"width\",\"color\",\"x\",\"y\"],\"data\":{\"chart_index\":[\"(89663.733333, 95266.466667]\"],\"color\":[\"LightSlateGray\"],\"fill_alpha\":[0.8],\"height\":[0.0],\"label\":[\"(89663.733333, 95266.466667]\"],\"line_alpha\":[1.0],\"line_color\":[\"black\"],\"width\":[5602.733333333337],\"x\":[\"92465.1\"],\"y\":[0.0]}},\"id\":\"11f4b93f-cdc2-4c1f-9f4d-abc82bb11766\",\"type\":\"ColumnDataSource\"},{\"attributes\":{},\"id\":\"c195d065-edfe-4315-9804-3ed02c964ea6\",\"type\":\"ToolEvents\"},{\"attributes\":{\"fill_alpha\":{\"field\":\"fill_alpha\"},\"fill_color\":{\"field\":\"color\"},\"height\":{\"field\":\"height\",\"units\":\"data\"},\"line_color\":{\"field\":\"line_color\"},\"width\":{\"field\":\"width\",\"units\":\"data\"},\"x\":{\"field\":\"x\"},\"y\":{\"field\":\"y\"}},\"id\":\"e363e9e1-7d4d-4386-b682-82accd318d24\",\"type\":\"Rect\"},{\"attributes\":{\"callback\":null,\"column_names\":[\"label\",\"line_color\",\"height\",\"line_alpha\",\"fill_alpha\",\"width\",\"color\",\"x\",\"y\"],\"data\":{\"chart_index\":[\"(151293.800000, 156896.533333]\"],\"color\":[\"LightSlateGray\"],\"fill_alpha\":[0.8],\"height\":[0.0],\"label\":[\"(151293.800000, 156896.533333]\"],\"line_alpha\":[1.0],\"line_color\":[\"black\"],\"width\":[5602.733333333308],\"x\":[\"154095.16666649998\"],\"y\":[0.0]}},\"id\":\"9484d85c-aeac-427d-a0d6-decae7df2a9b\",\"type\":\"ColumnDataSource\"},{\"attributes\":{\"callback\":null,\"column_names\":[\"label\",\"line_color\",\"height\",\"line_alpha\",\"fill_alpha\",\"width\",\"color\",\"x\",\"y\"],\"data\":{\"chart_index\":[\"(16828.200000, 22430.933333]\"],\"color\":[\"LightSlateGray\"],\"fill_alpha\":[0.8],\"height\":[0.0],\"label\":[\"(16828.200000, 22430.933333]\"],\"line_alpha\":[1.0],\"line_color\":[\"black\"],\"width\":[5602.733333333334],\"x\":[\"19629.566666500003\"],\"y\":[0.0]}},\"id\":\"90a7f1ef-e051-4d59-a108-130d788dba96\",\"type\":\"ColumnDataSource\"},{\"attributes\":{\"callback\":null,\"column_names\":[\"label\",\"line_color\",\"height\",\"line_alpha\",\"fill_alpha\",\"width\",\"color\",\"x\",\"y\"],\"data\":{\"chart_index\":[\"(72855.533333, 78458.266667]\"],\"color\":[\"LightSlateGray\"],\"fill_alpha\":[0.8],\"height\":[0.0],\"label\":[\"(72855.533333, 78458.266667]\"],\"line_alpha\":[1.0],\"line_color\":[\"black\"],\"width\":[5602.733333333323],\"x\":[\"75656.9\"],\"y\":[0.0]}},\"id\":\"9339140a-d6d2-4976-9848-3b016ff3ee33\",\"type\":\"ColumnDataSource\"},{\"attributes\":{\"callback\":null,\"column_names\":[\"label\",\"line_color\",\"height\",\"line_alpha\",\"fill_alpha\",\"width\",\"color\",\"x\",\"y\"],\"data\":{\"chart_index\":[\"[20.000000, 5622.733333]\"],\"color\":[\"LightSlateGray\"],\"fill_alpha\":[0.8],\"height\":[1861.0],\"label\":[\"[20.000000, 5622.733333]\"],\"line_alpha\":[1.0],\"line_color\":[\"black\"],\"width\":[5602.733333333334],\"x\":[\"2821.3666665\"],\"y\":[930.5]}},\"id\":\"dd26983d-df48-4b98-99b2-71c3dcf4bf80\",\"type\":\"ColumnDataSource\"},{\"attributes\":{\"fill_alpha\":{\"field\":\"fill_alpha\"},\"fill_color\":{\"field\":\"color\"},\"height\":{\"field\":\"height\",\"units\":\"data\"},\"line_color\":{\"field\":\"line_color\"},\"width\":{\"field\":\"width\",\"units\":\"data\"},\"x\":{\"field\":\"x\"},\"y\":{\"field\":\"y\"}},\"id\":\"e54a80ff-54f1-4bab-91ed-25381f99306f\",\"type\":\"Rect\"},{\"attributes\":{\"data_source\":{\"id\":\"62c47d1c-4f2e-4f54-ad6b-34faf612a91b\",\"type\":\"ColumnDataSource\"},\"glyph\":{\"id\":\"bbc9dea4-2252-4135-9473-977006b1d393\",\"type\":\"Rect\"},\"hover_glyph\":null,\"nonselection_glyph\":null,\"selection_glyph\":null},\"id\":\"a1b6074f-586a-482e-8acf-d67f3d20f1ec\",\"type\":\"GlyphRenderer\"},{\"attributes\":{\"callback\":null,\"column_names\":[\"label\",\"line_color\",\"height\",\"line_alpha\",\"fill_alpha\",\"width\",\"color\",\"x\",\"y\"],\"data\":{\"chart_index\":[\"(5622.733333, 11225.466667]\"],\"color\":[\"LightSlateGray\"],\"fill_alpha\":[0.8],\"height\":[8.0],\"label\":[\"(5622.733333, 11225.466667]\"],\"line_alpha\":[1.0],\"line_color\":[\"black\"],\"width\":[5602.733333333334],\"x\":[\"8424.1\"],\"y\":[4.0]}},\"id\":\"5585bec5-d7e7-478e-9e91-8d0eacce7473\",\"type\":\"ColumnDataSource\"},{\"attributes\":{\"plot\":{\"id\":\"6bc617be-4cb6-4681-ae8e-968431d1e0c8\",\"subtype\":\"Chart\",\"type\":\"Plot\"}},\"id\":\"73c77d70-0c53-429d-9ba5-5d019bd65d26\",\"type\":\"SaveTool\"},{\"attributes\":{},\"id\":\"df28725f-85f2-42b7-9b08-5bb8b12299f9\",\"type\":\"BasicTickFormatter\"},{\"attributes\":{\"fill_alpha\":{\"field\":\"fill_alpha\"},\"fill_color\":{\"field\":\"color\"},\"height\":{\"field\":\"height\",\"units\":\"data\"},\"line_color\":{\"field\":\"line_color\"},\"width\":{\"field\":\"width\",\"units\":\"data\"},\"x\":{\"field\":\"x\"},\"y\":{\"field\":\"y\"}},\"id\":\"f0ad6399-dbba-4d7b-850d-56020e26d9b6\",\"type\":\"Rect\"},{\"attributes\":{\"data_source\":{\"id\":\"ccb90ae4-0735-4313-a9e1-c5b726b47caf\",\"type\":\"ColumnDataSource\"},\"glyph\":{\"id\":\"6de410e1-5195-46cc-a365-5eb578aa8c0f\",\"type\":\"Rect\"},\"hover_glyph\":null,\"nonselection_glyph\":null,\"selection_glyph\":null},\"id\":\"ad1b730c-aedf-4daa-b99a-ea4d3112c216\",\"type\":\"GlyphRenderer\"},{\"attributes\":{\"data_source\":{\"id\":\"9339140a-d6d2-4976-9848-3b016ff3ee33\",\"type\":\"ColumnDataSource\"},\"glyph\":{\"id\":\"72a81344-5e28-4816-8a58-57d9bd70c9c0\",\"type\":\"Rect\"},\"hover_glyph\":null,\"nonselection_glyph\":null,\"selection_glyph\":null},\"id\":\"6a324cef-568a-4ec8-a85a-556d6a7c7aeb\",\"type\":\"GlyphRenderer\"},{\"attributes\":{\"data_source\":{\"id\":\"f850078c-d742-4450-829a-990b3e8c8f1c\",\"type\":\"ColumnDataSource\"},\"glyph\":{\"id\":\"dd74d765-65e5-44ec-8473-8c9dce53496d\",\"type\":\"Rect\"},\"hover_glyph\":null,\"nonselection_glyph\":null,\"selection_glyph\":null},\"id\":\"e7e261dc-6ae1-4a9c-bbdb-c995a42305e2\",\"type\":\"GlyphRenderer\"},{\"attributes\":{\"data_source\":{\"id\":\"facd51e8-9e02-4c42-bd97-8ef093e8767a\",\"type\":\"ColumnDataSource\"},\"glyph\":{\"id\":\"5d0e051e-4795-497f-8496-0c49ac3a730c\",\"type\":\"Rect\"},\"hover_glyph\":null,\"nonselection_glyph\":null,\"selection_glyph\":null},\"id\":\"f82362f4-f26e-43ac-ba92-0b7e29655f49\",\"type\":\"GlyphRenderer\"},{\"attributes\":{\"callback\":null,\"column_names\":[\"label\",\"line_color\",\"height\",\"line_alpha\",\"fill_alpha\",\"width\",\"color\",\"x\",\"y\"],\"data\":{\"chart_index\":[\"(78458.266667, 84061.000000]\"],\"color\":[\"LightSlateGray\"],\"fill_alpha\":[0.8],\"height\":[1.0],\"label\":[\"(78458.266667, 84061.000000]\"],\"line_alpha\":[1.0],\"line_color\":[\"black\"],\"width\":[5602.733333333337],\"x\":[\"81259.63333350001\"],\"y\":[0.5]}},\"id\":\"87ed1907-7f4c-4bf6-82f9-f261f2b0ca6e\",\"type\":\"ColumnDataSource\"},{\"attributes\":{},\"id\":\"7851fb75-ab31-49c2-896f-583b6bc88574\",\"type\":\"BasicTicker\"},{\"attributes\":{\"fill_alpha\":{\"field\":\"fill_alpha\"},\"fill_color\":{\"field\":\"color\"},\"height\":{\"field\":\"height\",\"units\":\"data\"},\"line_color\":{\"field\":\"line_color\"},\"width\":{\"field\":\"width\",\"units\":\"data\"},\"x\":{\"field\":\"x\"},\"y\":{\"field\":\"y\"}},\"id\":\"72a81344-5e28-4816-8a58-57d9bd70c9c0\",\"type\":\"Rect\"},{\"attributes\":{\"plot\":{\"id\":\"6bc617be-4cb6-4681-ae8e-968431d1e0c8\",\"subtype\":\"Chart\",\"type\":\"Plot\"}},\"id\":\"c6dcf663-952e-4865-882d-e1fa99ea05c5\",\"type\":\"ResetTool\"},{\"attributes\":{\"callback\":null,\"column_names\":[\"label\",\"line_color\",\"height\",\"line_alpha\",\"fill_alpha\",\"width\",\"color\",\"x\",\"y\"],\"data\":{\"chart_index\":[\"(95266.466667, 100869.200000]\"],\"color\":[\"LightSlateGray\"],\"fill_alpha\":[0.8],\"height\":[0.0],\"label\":[\"(95266.466667, 100869.200000]\"],\"line_alpha\":[1.0],\"line_color\":[\"black\"],\"width\":[5602.733333333337],\"x\":[\"98067.83333349999\"],\"y\":[0.0]}},\"id\":\"90fa30a9-ac64-4b21-a0f3-d71028c324bf\",\"type\":\"ColumnDataSource\"},{\"attributes\":{\"data_source\":{\"id\":\"5ac3ce14-fff1-4bd0-932b-321be67eea97\",\"type\":\"ColumnDataSource\"},\"glyph\":{\"id\":\"583632db-5bc3-4bd4-a164-c287280ac6c4\",\"type\":\"Rect\"},\"hover_glyph\":null,\"nonselection_glyph\":null,\"selection_glyph\":null},\"id\":\"fe05e5a0-d8df-421e-b7e7-c6383c8c34ff\",\"type\":\"GlyphRenderer\"},{\"attributes\":{\"callback\":null,\"column_names\":[\"label\",\"line_color\",\"height\",\"line_alpha\",\"fill_alpha\",\"width\",\"color\",\"x\",\"y\"],\"data\":{\"chart_index\":[\"(100869.200000, 106471.933333]\"],\"color\":[\"LightSlateGray\"],\"fill_alpha\":[0.8],\"height\":[1.0],\"label\":[\"(100869.200000, 106471.933333]\"],\"line_alpha\":[1.0],\"line_color\":[\"black\"],\"width\":[5602.733333333323],\"x\":[\"103670.5666665\"],\"y\":[0.5]}},\"id\":\"1846f40c-c746-4045-814f-af97b6c45791\",\"type\":\"ColumnDataSource\"},{\"attributes\":{\"fill_alpha\":{\"field\":\"fill_alpha\"},\"fill_color\":{\"field\":\"color\"},\"height\":{\"field\":\"height\",\"units\":\"data\"},\"line_color\":{\"field\":\"line_color\"},\"width\":{\"field\":\"width\",\"units\":\"data\"},\"x\":{\"field\":\"x\"},\"y\":{\"field\":\"y\"}},\"id\":\"5d0e051e-4795-497f-8496-0c49ac3a730c\",\"type\":\"Rect\"}],\"root_ids\":[\"6bc617be-4cb6-4681-ae8e-968431d1e0c8\"]},\"title\":\"Bokeh Application\",\"version\":\"0.12.4\"}};\n",
       "            var render_items = [{\"docid\":\"34232231-1665-4523-8cf6-770825717122\",\"elementid\":\"bb99a8eb-1b40-4705-a520-40328fa78493\",\"modelid\":\"6bc617be-4cb6-4681-ae8e-968431d1e0c8\"}];\n",
       "            \n",
       "            Bokeh.embed.embed_items(docs_json, render_items);\n",
       "          };\n",
       "          if (document.readyState != \"loading\") fn();\n",
       "          else document.addEventListener(\"DOMContentLoaded\", fn);\n",
       "        })();\n",
       "      },\n",
       "      function(Bokeh) {\n",
       "      }\n",
       "    ];\n",
       "  \n",
       "    function run_inline_js() {\n",
       "      \n",
       "      if ((window.Bokeh !== undefined) || (force === true)) {\n",
       "        for (var i = 0; i < inline_js.length; i++) {\n",
       "          inline_js[i](window.Bokeh);\n",
       "        }if (force === true) {\n",
       "          display_loaded();\n",
       "        }} else if (Date.now() < window._bokeh_timeout) {\n",
       "        setTimeout(run_inline_js, 100);\n",
       "      } else if (!window._bokeh_failed_load) {\n",
       "        console.log(\"Bokeh: BokehJS failed to load within specified timeout.\");\n",
       "        window._bokeh_failed_load = true;\n",
       "      } else if (force !== true) {\n",
       "        var cell = $(document.getElementById(\"bb99a8eb-1b40-4705-a520-40328fa78493\")).parents('.cell').data().cell;\n",
       "        cell.output_area.append_execute_result(NB_LOAD_WARNING)\n",
       "      }\n",
       "  \n",
       "    }\n",
       "  \n",
       "    if (window._bokeh_is_loading === 0) {\n",
       "      console.log(\"Bokeh: BokehJS loaded, going straight to plotting\");\n",
       "      run_inline_js();\n",
       "    } else {\n",
       "      load_libs(js_urls, function() {\n",
       "        console.log(\"Bokeh: BokehJS plotting callback run at\", now());\n",
       "        run_inline_js();\n",
       "      });\n",
       "    }\n",
       "  }(this));\n",
       "</script>"
      ]
     },
     "metadata": {},
     "output_type": "display_data"
    }
   ],
   "source": [
    "# Plot the counts of each predicted probability for Het Var events\n",
    "p = figure()\n",
    "p = Histogram(X_hetVar_conf, values='Size', title='Heterozygous Variant: Predict Proba > 0.9', color='LightSlateGray', bins=30, xlabel=\"Size(bp)\", ylabel=\"Frequency\")\n",
    "output_file(\"250bp_HetVar_PredProb0.9+.html\")\n",
    "show(p)"
   ]
  },
  {
   "cell_type": "markdown",
   "metadata": {},
   "source": [
    "** Show Size Distribution of Labels with Predict Probability < 0.3 **"
   ]
  },
  {
   "cell_type": "code",
   "execution_count": 179,
   "metadata": {},
   "outputs": [
    {
     "name": "stderr",
     "output_type": "stream",
     "text": [
      "/Users/lmc2/anaconda/envs/NIHFAES/lib/python3.5/site-packages/ipykernel/__main__.py:3: SettingWithCopyWarning:\n",
      "\n",
      "\n",
      "A value is trying to be set on a copy of a slice from a DataFrame.\n",
      "Try using .loc[row_indexer,col_indexer] = value instead\n",
      "\n",
      "See the caveats in the documentation: http://pandas.pydata.org/pandas-docs/stable/indexing.html#indexing-view-versus-copy\n",
      "\n"
     ]
    }
   ],
   "source": [
    "X6['Hom_Var_str'] = X6['Hom_Var'].astype(str)\n",
    "X_homVar_least = X6[(X6['Hom_Var'] == 0.3) | (X6['Hom_Var'] == 0.2) | (X6['Hom_Var'] == 0.1)]\n",
    "X_homVar_least['Size'] = HG002_pred_2['Size'].abs()"
   ]
  },
  {
   "cell_type": "code",
   "execution_count": 180,
   "metadata": {},
   "outputs": [
    {
     "name": "stderr",
     "output_type": "stream",
     "text": [
      "INFO:bokeh.core.state:Session output file '250bp_HomVar_PredProb0.3-.html' already exists, will be overwritten.\n"
     ]
    },
    {
     "data": {
      "text/html": [
       "\n",
       "\n",
       "    <div class=\"bk-root\">\n",
       "        <div class=\"bk-plotdiv\" id=\"915c8337-ea85-46b2-93ce-4e00ccf5d347\"></div>\n",
       "    </div>\n",
       "<script type=\"text/javascript\">\n",
       "  \n",
       "  (function(global) {\n",
       "    function now() {\n",
       "      return new Date();\n",
       "    }\n",
       "  \n",
       "    var force = false;\n",
       "  \n",
       "    if (typeof (window._bokeh_onload_callbacks) === \"undefined\" || force === true) {\n",
       "      window._bokeh_onload_callbacks = [];\n",
       "      window._bokeh_is_loading = undefined;\n",
       "    }\n",
       "  \n",
       "  \n",
       "    \n",
       "    if (typeof (window._bokeh_timeout) === \"undefined\" || force === true) {\n",
       "      window._bokeh_timeout = Date.now() + 0;\n",
       "      window._bokeh_failed_load = false;\n",
       "    }\n",
       "  \n",
       "    var NB_LOAD_WARNING = {'data': {'text/html':\n",
       "       \"<div style='background-color: #fdd'>\\n\"+\n",
       "       \"<p>\\n\"+\n",
       "       \"BokehJS does not appear to have successfully loaded. If loading BokehJS from CDN, this \\n\"+\n",
       "       \"may be due to a slow or bad network connection. Possible fixes:\\n\"+\n",
       "       \"</p>\\n\"+\n",
       "       \"<ul>\\n\"+\n",
       "       \"<li>re-rerun `output_notebook()` to attempt to load from CDN again, or</li>\\n\"+\n",
       "       \"<li>use INLINE resources instead, as so:</li>\\n\"+\n",
       "       \"</ul>\\n\"+\n",
       "       \"<code>\\n\"+\n",
       "       \"from bokeh.resources import INLINE\\n\"+\n",
       "       \"output_notebook(resources=INLINE)\\n\"+\n",
       "       \"</code>\\n\"+\n",
       "       \"</div>\"}};\n",
       "  \n",
       "    function display_loaded() {\n",
       "      if (window.Bokeh !== undefined) {\n",
       "        document.getElementById(\"915c8337-ea85-46b2-93ce-4e00ccf5d347\").textContent = \"BokehJS successfully loaded.\";\n",
       "      } else if (Date.now() < window._bokeh_timeout) {\n",
       "        setTimeout(display_loaded, 100)\n",
       "      }\n",
       "    }\n",
       "  \n",
       "    function run_callbacks() {\n",
       "      window._bokeh_onload_callbacks.forEach(function(callback) { callback() });\n",
       "      delete window._bokeh_onload_callbacks\n",
       "      console.info(\"Bokeh: all callbacks have finished\");\n",
       "    }\n",
       "  \n",
       "    function load_libs(js_urls, callback) {\n",
       "      window._bokeh_onload_callbacks.push(callback);\n",
       "      if (window._bokeh_is_loading > 0) {\n",
       "        console.log(\"Bokeh: BokehJS is being loaded, scheduling callback at\", now());\n",
       "        return null;\n",
       "      }\n",
       "      if (js_urls == null || js_urls.length === 0) {\n",
       "        run_callbacks();\n",
       "        return null;\n",
       "      }\n",
       "      console.log(\"Bokeh: BokehJS not loaded, scheduling load and callback at\", now());\n",
       "      window._bokeh_is_loading = js_urls.length;\n",
       "      for (var i = 0; i < js_urls.length; i++) {\n",
       "        var url = js_urls[i];\n",
       "        var s = document.createElement('script');\n",
       "        s.src = url;\n",
       "        s.async = false;\n",
       "        s.onreadystatechange = s.onload = function() {\n",
       "          window._bokeh_is_loading--;\n",
       "          if (window._bokeh_is_loading === 0) {\n",
       "            console.log(\"Bokeh: all BokehJS libraries loaded\");\n",
       "            run_callbacks()\n",
       "          }\n",
       "        };\n",
       "        s.onerror = function() {\n",
       "          console.warn(\"failed to load library \" + url);\n",
       "        };\n",
       "        console.log(\"Bokeh: injecting script tag for BokehJS library: \", url);\n",
       "        document.getElementsByTagName(\"head\")[0].appendChild(s);\n",
       "      }\n",
       "    };var element = document.getElementById(\"915c8337-ea85-46b2-93ce-4e00ccf5d347\");\n",
       "    if (element == null) {\n",
       "      console.log(\"Bokeh: ERROR: autoload.js configured with elementid '915c8337-ea85-46b2-93ce-4e00ccf5d347' but no matching script tag was found. \")\n",
       "      return false;\n",
       "    }\n",
       "  \n",
       "    var js_urls = [];\n",
       "  \n",
       "    var inline_js = [\n",
       "      function(Bokeh) {\n",
       "        (function() {\n",
       "          var fn = function() {\n",
       "            var docs_json = {\"59ce6e23-bcbf-4895-bc18-e1ef0428580c\":{\"roots\":{\"references\":[{\"attributes\":{\"data_source\":{\"id\":\"ac1e99f4-ff02-4a79-9eab-c6d40febf77d\",\"type\":\"ColumnDataSource\"},\"glyph\":{\"id\":\"43abc351-829b-48fa-99fc-cd3c9b4e5e3f\",\"type\":\"Rect\"},\"hover_glyph\":null,\"nonselection_glyph\":null,\"selection_glyph\":null},\"id\":\"19578d70-07eb-41dd-a31f-7c0705b82670\",\"type\":\"GlyphRenderer\"},{\"attributes\":{\"data_source\":{\"id\":\"a23e87a8-4a67-4e72-b52e-4a5096c86e81\",\"type\":\"ColumnDataSource\"},\"glyph\":{\"id\":\"cf26c90a-e013-43f0-89f8-a726e5c6e575\",\"type\":\"Rect\"},\"hover_glyph\":null,\"nonselection_glyph\":null,\"selection_glyph\":null},\"id\":\"da851d48-d57e-44e7-b8f5-1d0fad9d7903\",\"type\":\"GlyphRenderer\"},{\"attributes\":{\"callback\":null,\"column_names\":[\"label\",\"line_color\",\"height\",\"line_alpha\",\"fill_alpha\",\"width\",\"color\",\"x\",\"y\"],\"data\":{\"chart_index\":[\"(481.400000, 558.300000]\"],\"color\":[\"LightSlateGray\"],\"fill_alpha\":[0.8],\"height\":[0.0],\"label\":[\"(481.400000, 558.300000]\"],\"line_alpha\":[1.0],\"line_color\":[\"black\"],\"width\":[76.90000000000003],\"x\":[\"519.8499999999999\"],\"y\":[0.0]}},\"id\":\"f8985df9-09d6-4824-a621-0c3e78e0a787\",\"type\":\"ColumnDataSource\"},{\"attributes\":{\"callback\":null,\"column_names\":[\"label\",\"line_color\",\"height\",\"line_alpha\",\"fill_alpha\",\"width\",\"color\",\"x\",\"y\"],\"data\":{\"chart_index\":[\"(1096.600000, 1173.500000]\"],\"color\":[\"LightSlateGray\"],\"fill_alpha\":[0.8],\"height\":[0.0],\"label\":[\"(1096.600000, 1173.500000]\"],\"line_alpha\":[1.0],\"line_color\":[\"black\"],\"width\":[76.89999999999986],\"x\":[\"1135.05\"],\"y\":[0.0]}},\"id\":\"058edcdd-694e-47b4-8e06-07c94a1d795f\",\"type\":\"ColumnDataSource\"},{\"attributes\":{\"fill_alpha\":{\"field\":\"fill_alpha\"},\"fill_color\":{\"field\":\"color\"},\"height\":{\"field\":\"height\",\"units\":\"data\"},\"line_color\":{\"field\":\"line_color\"},\"width\":{\"field\":\"width\",\"units\":\"data\"},\"x\":{\"field\":\"x\"},\"y\":{\"field\":\"y\"}},\"id\":\"a7e195d7-6783-47bc-b4c4-942717a07e6a\",\"type\":\"Rect\"},{\"attributes\":{\"below\":[{\"id\":\"ce5220f8-0a03-4484-af41-35ff75cee5df\",\"type\":\"LinearAxis\"}],\"css_classes\":null,\"left\":[{\"id\":\"873670c5-b987-49c7-b6d4-5d7ef11e6e20\",\"type\":\"LinearAxis\"}],\"renderers\":[{\"id\":\"4b855ec8-713e-4aa5-a293-94db9b45bcf1\",\"type\":\"BoxAnnotation\"},{\"id\":\"fd56624b-6bb6-4645-9f07-2d1462dc03cc\",\"type\":\"GlyphRenderer\"},{\"id\":\"7454cba5-0718-4f12-a7c0-c81b58470eb0\",\"type\":\"GlyphRenderer\"},{\"id\":\"eee60392-2fed-4e1a-bda6-663ee1ce3424\",\"type\":\"GlyphRenderer\"},{\"id\":\"001c2adc-2795-48f6-a763-4c1f60a5dc20\",\"type\":\"GlyphRenderer\"},{\"id\":\"a29a3fa8-ac9c-4012-89ea-b48acaa55e74\",\"type\":\"GlyphRenderer\"},{\"id\":\"da851d48-d57e-44e7-b8f5-1d0fad9d7903\",\"type\":\"GlyphRenderer\"},{\"id\":\"9643f985-b0e6-4a92-9717-b1c4a6825b03\",\"type\":\"GlyphRenderer\"},{\"id\":\"3e532d15-4a84-424b-abfe-76bd39d7ec0b\",\"type\":\"GlyphRenderer\"},{\"id\":\"e1b83e56-4210-4910-b3b2-041c39557c08\",\"type\":\"GlyphRenderer\"},{\"id\":\"d4fb4a6f-c402-4c4a-98e0-1124b8340cab\",\"type\":\"GlyphRenderer\"},{\"id\":\"f03a4f69-2bea-4071-a2ad-9b4d2e1b51cf\",\"type\":\"GlyphRenderer\"},{\"id\":\"0eee6b21-4ea3-4950-b465-3721e574471f\",\"type\":\"GlyphRenderer\"},{\"id\":\"c534bc57-5bd4-4ad3-ab06-b8c0ea039179\",\"type\":\"GlyphRenderer\"},{\"id\":\"9411a7fb-17f8-408b-b855-29f255ee7849\",\"type\":\"GlyphRenderer\"},{\"id\":\"bc977329-7a42-4997-a847-b8fedf7a97f8\",\"type\":\"GlyphRenderer\"},{\"id\":\"3b398ba1-8284-4495-8311-ed73ba3d1193\",\"type\":\"GlyphRenderer\"},{\"id\":\"19578d70-07eb-41dd-a31f-7c0705b82670\",\"type\":\"GlyphRenderer\"},{\"id\":\"5b8edb57-9591-4fc5-a5bc-3de1cf53aafa\",\"type\":\"GlyphRenderer\"},{\"id\":\"ae22194a-a9c9-4ffe-b923-ed1849abf156\",\"type\":\"GlyphRenderer\"},{\"id\":\"bf51f8fc-84ab-40c2-9af4-6b5424dad1c3\",\"type\":\"GlyphRenderer\"},{\"id\":\"335213d1-3ff1-45dc-8e4c-7a2c733ca357\",\"type\":\"GlyphRenderer\"},{\"id\":\"446cd4e2-0c08-41c9-bb3d-169d4684ad5e\",\"type\":\"GlyphRenderer\"},{\"id\":\"3386ca2b-6ac0-4853-9398-43a83915572b\",\"type\":\"GlyphRenderer\"},{\"id\":\"cec31956-84c9-4329-b09f-546aea9e2104\",\"type\":\"GlyphRenderer\"},{\"id\":\"4c7ae04e-7333-4567-a72e-5daf12241162\",\"type\":\"GlyphRenderer\"},{\"id\":\"5fec532c-8642-4999-bbb0-6647438d018d\",\"type\":\"GlyphRenderer\"},{\"id\":\"63849789-ab23-4a12-ba57-d3d0ad95d795\",\"type\":\"GlyphRenderer\"},{\"id\":\"bcb1f5cb-4887-45a4-af26-81ffad0de373\",\"type\":\"GlyphRenderer\"},{\"id\":\"e54be7e7-2214-429d-94b7-87d40b46d4b9\",\"type\":\"GlyphRenderer\"},{\"id\":\"07a7dc4e-6ff5-4036-8899-2593d4c6f32c\",\"type\":\"GlyphRenderer\"},{\"id\":\"cd0e813e-aece-452c-ae54-51321b5b6dcb\",\"type\":\"Legend\"},{\"id\":\"ce5220f8-0a03-4484-af41-35ff75cee5df\",\"type\":\"LinearAxis\"},{\"id\":\"873670c5-b987-49c7-b6d4-5d7ef11e6e20\",\"type\":\"LinearAxis\"},{\"id\":\"72e87d99-f4c1-4842-9231-352129338072\",\"type\":\"Grid\"}],\"title\":{\"id\":\"4366c8bd-0fa5-46b3-b1cb-bd17cc20ffb2\",\"type\":\"Title\"},\"tool_events\":{\"id\":\"c0587589-6960-429c-a38d-7820e38460c0\",\"type\":\"ToolEvents\"},\"toolbar\":{\"id\":\"32dd3393-b9d1-436d-a203-f822c57a111a\",\"type\":\"Toolbar\"},\"x_mapper_type\":\"auto\",\"x_range\":{\"id\":\"39a76f22-ff3b-445e-9fd7-5400f40e115b\",\"type\":\"Range1d\"},\"y_mapper_type\":\"auto\",\"y_range\":{\"id\":\"5b4d638f-8e8c-4583-a3ff-4fcfb75a04b2\",\"type\":\"Range1d\"}},\"id\":\"4a9bce27-ef51-401c-9c39-b413feba78c3\",\"subtype\":\"Chart\",\"type\":\"Plot\"},{\"attributes\":{\"fill_alpha\":{\"field\":\"fill_alpha\"},\"fill_color\":{\"field\":\"color\"},\"height\":{\"field\":\"height\",\"units\":\"data\"},\"line_color\":{\"field\":\"line_color\"},\"width\":{\"field\":\"width\",\"units\":\"data\"},\"x\":{\"field\":\"x\"},\"y\":{\"field\":\"y\"}},\"id\":\"c305528b-6e20-4cdd-b0f8-4e62b83cc31b\",\"type\":\"Rect\"},{\"attributes\":{\"fill_alpha\":{\"field\":\"fill_alpha\"},\"fill_color\":{\"field\":\"color\"},\"height\":{\"field\":\"height\",\"units\":\"data\"},\"line_color\":{\"field\":\"line_color\"},\"width\":{\"field\":\"width\",\"units\":\"data\"},\"x\":{\"field\":\"x\"},\"y\":{\"field\":\"y\"}},\"id\":\"fdc1b7f6-9e12-46c6-9e29-fda9d6e3f643\",\"type\":\"Rect\"},{\"attributes\":{\"callback\":null,\"column_names\":[\"label\",\"line_color\",\"height\",\"line_alpha\",\"fill_alpha\",\"width\",\"color\",\"x\",\"y\"],\"data\":{\"chart_index\":[\"(789.000000, 865.900000]\"],\"color\":[\"LightSlateGray\"],\"fill_alpha\":[0.8],\"height\":[0.0],\"label\":[\"(789.000000, 865.900000]\"],\"line_alpha\":[1.0],\"line_color\":[\"black\"],\"width\":[76.90000000000009],\"x\":[\"827.45\"],\"y\":[0.0]}},\"id\":\"97084b7d-2798-4af7-8ea0-b3b3afe310a8\",\"type\":\"ColumnDataSource\"},{\"attributes\":{\"data_source\":{\"id\":\"20b3530d-4e28-4e0c-89c8-65f9c269c0b1\",\"type\":\"ColumnDataSource\"},\"glyph\":{\"id\":\"3aeddebf-2d8b-444e-8311-640bfe5eff33\",\"type\":\"Rect\"},\"hover_glyph\":null,\"nonselection_glyph\":null,\"selection_glyph\":null},\"id\":\"d4fb4a6f-c402-4c4a-98e0-1124b8340cab\",\"type\":\"GlyphRenderer\"},{\"attributes\":{\"data_source\":{\"id\":\"a0e7cf90-ece4-41c3-b9c5-8bc3e4057b00\",\"type\":\"ColumnDataSource\"},\"glyph\":{\"id\":\"fdc1b7f6-9e12-46c6-9e29-fda9d6e3f643\",\"type\":\"Rect\"},\"hover_glyph\":null,\"nonselection_glyph\":null,\"selection_glyph\":null},\"id\":\"bf51f8fc-84ab-40c2-9af4-6b5424dad1c3\",\"type\":\"GlyphRenderer\"},{\"attributes\":{\"data_source\":{\"id\":\"d65e8059-c036-479a-8932-09a6cdedf873\",\"type\":\"ColumnDataSource\"},\"glyph\":{\"id\":\"07cab899-9cf5-44a7-95a0-4993db2b24ae\",\"type\":\"Rect\"},\"hover_glyph\":null,\"nonselection_glyph\":null,\"selection_glyph\":null},\"id\":\"446cd4e2-0c08-41c9-bb3d-169d4684ad5e\",\"type\":\"GlyphRenderer\"},{\"attributes\":{\"fill_alpha\":{\"field\":\"fill_alpha\"},\"fill_color\":{\"field\":\"color\"},\"height\":{\"field\":\"height\",\"units\":\"data\"},\"line_color\":{\"field\":\"line_color\"},\"width\":{\"field\":\"width\",\"units\":\"data\"},\"x\":{\"field\":\"x\"},\"y\":{\"field\":\"y\"}},\"id\":\"a931af73-cfb8-445b-8c02-b075cd411b85\",\"type\":\"Rect\"},{\"attributes\":{\"fill_alpha\":{\"field\":\"fill_alpha\"},\"fill_color\":{\"field\":\"color\"},\"height\":{\"field\":\"height\",\"units\":\"data\"},\"line_color\":{\"field\":\"line_color\"},\"width\":{\"field\":\"width\",\"units\":\"data\"},\"x\":{\"field\":\"x\"},\"y\":{\"field\":\"y\"}},\"id\":\"188b6b01-5e1a-48b1-b82d-fc05176dd657\",\"type\":\"Rect\"},{\"attributes\":{\"callback\":null,\"column_names\":[\"label\",\"line_color\",\"height\",\"line_alpha\",\"fill_alpha\",\"width\",\"color\",\"x\",\"y\"],\"data\":{\"chart_index\":[\"(250.700000, 327.600000]\"],\"color\":[\"LightSlateGray\"],\"fill_alpha\":[0.8],\"height\":[2.0],\"label\":[\"(250.700000, 327.600000]\"],\"line_alpha\":[1.0],\"line_color\":[\"black\"],\"width\":[76.9],\"x\":[\"289.15\"],\"y\":[1.0]}},\"id\":\"7892b9b4-644c-45c5-9b4e-42b7d3fc5e25\",\"type\":\"ColumnDataSource\"},{\"attributes\":{\"active_drag\":\"auto\",\"active_scroll\":\"auto\",\"active_tap\":\"auto\",\"tools\":[{\"id\":\"bd703958-1705-4785-a580-06e1cdb17a6b\",\"type\":\"PanTool\"},{\"id\":\"a67f9e53-0279-4cff-b51a-bbb91381b1dd\",\"type\":\"WheelZoomTool\"},{\"id\":\"61d379f3-4bf3-4f32-a675-dc807df4b93c\",\"type\":\"BoxZoomTool\"},{\"id\":\"352a0abe-45db-483c-a1ab-b9e2f20a2102\",\"type\":\"SaveTool\"},{\"id\":\"487c31c0-0f08-404d-a947-735e46e7bc6f\",\"type\":\"ResetTool\"},{\"id\":\"df534f63-d132-4fe7-80ac-e8049da9b55a\",\"type\":\"HelpTool\"}]},\"id\":\"32dd3393-b9d1-436d-a203-f822c57a111a\",\"type\":\"Toolbar\"},{\"attributes\":{\"axis_label\":\"Size(bp)\",\"formatter\":{\"id\":\"3b96f0c0-21df-4d90-a4e7-a2113631a5da\",\"type\":\"BasicTickFormatter\"},\"plot\":{\"id\":\"4a9bce27-ef51-401c-9c39-b413feba78c3\",\"subtype\":\"Chart\",\"type\":\"Plot\"},\"ticker\":{\"id\":\"46d7bad0-db33-4971-91b1-81f25a51c6a4\",\"type\":\"BasicTicker\"}},\"id\":\"ce5220f8-0a03-4484-af41-35ff75cee5df\",\"type\":\"LinearAxis\"},{\"attributes\":{\"fill_alpha\":{\"field\":\"fill_alpha\"},\"fill_color\":{\"field\":\"color\"},\"height\":{\"field\":\"height\",\"units\":\"data\"},\"line_color\":{\"field\":\"line_color\"},\"width\":{\"field\":\"width\",\"units\":\"data\"},\"x\":{\"field\":\"x\"},\"y\":{\"field\":\"y\"}},\"id\":\"3aeddebf-2d8b-444e-8311-640bfe5eff33\",\"type\":\"Rect\"},{\"attributes\":{\"data_source\":{\"id\":\"119ebcea-b200-4dfe-a28d-29be8d4a458e\",\"type\":\"ColumnDataSource\"},\"glyph\":{\"id\":\"79f51892-bf6d-4b51-8016-adb30f1f8061\",\"type\":\"Rect\"},\"hover_glyph\":null,\"nonselection_glyph\":null,\"selection_glyph\":null},\"id\":\"bcb1f5cb-4887-45a4-af26-81ffad0de373\",\"type\":\"GlyphRenderer\"},{\"attributes\":{\"callback\":null,\"column_names\":[\"label\",\"line_color\",\"height\",\"line_alpha\",\"fill_alpha\",\"width\",\"color\",\"x\",\"y\"],\"data\":{\"chart_index\":[\"(96.900000, 173.800000]\"],\"color\":[\"LightSlateGray\"],\"fill_alpha\":[0.8],\"height\":[23.0],\"label\":[\"(96.900000, 173.800000]\"],\"line_alpha\":[1.0],\"line_color\":[\"black\"],\"width\":[76.9],\"x\":[\"135.35000000000002\"],\"y\":[11.5]}},\"id\":\"70fe9c04-9c39-4337-bd59-03c459c30bdb\",\"type\":\"ColumnDataSource\"},{\"attributes\":{\"data_source\":{\"id\":\"7f006b5b-5ce4-44f3-bb85-9459b8a0fa41\",\"type\":\"ColumnDataSource\"},\"glyph\":{\"id\":\"e30e172a-945a-4acb-b237-ced65c98e35d\",\"type\":\"Rect\"},\"hover_glyph\":null,\"nonselection_glyph\":null,\"selection_glyph\":null},\"id\":\"9411a7fb-17f8-408b-b855-29f255ee7849\",\"type\":\"GlyphRenderer\"},{\"attributes\":{\"fill_alpha\":{\"field\":\"fill_alpha\"},\"fill_color\":{\"field\":\"color\"},\"height\":{\"field\":\"height\",\"units\":\"data\"},\"line_color\":{\"field\":\"line_color\"},\"width\":{\"field\":\"width\",\"units\":\"data\"},\"x\":{\"field\":\"x\"},\"y\":{\"field\":\"y\"}},\"id\":\"6fbd54a1-4044-4083-8034-dfb961c1ec92\",\"type\":\"Rect\"},{\"attributes\":{\"callback\":null,\"column_names\":[\"label\",\"line_color\",\"height\",\"line_alpha\",\"fill_alpha\",\"width\",\"color\",\"x\",\"y\"],\"data\":{\"chart_index\":[\"(1250.400000, 1327.300000]\"],\"color\":[\"LightSlateGray\"],\"fill_alpha\":[0.8],\"height\":[0.0],\"label\":[\"(1250.400000, 1327.300000]\"],\"line_alpha\":[1.0],\"line_color\":[\"black\"],\"width\":[76.90000000000009],\"x\":[\"1288.85\"],\"y\":[0.0]}},\"id\":\"ac1e99f4-ff02-4a79-9eab-c6d40febf77d\",\"type\":\"ColumnDataSource\"},{\"attributes\":{\"callback\":null,\"column_names\":[\"label\",\"line_color\",\"height\",\"line_alpha\",\"fill_alpha\",\"width\",\"color\",\"x\",\"y\"],\"data\":{\"chart_index\":[\"(327.600000, 404.500000]\"],\"color\":[\"LightSlateGray\"],\"fill_alpha\":[0.8],\"height\":[0.0],\"label\":[\"(327.600000, 404.500000]\"],\"line_alpha\":[1.0],\"line_color\":[\"black\"],\"width\":[76.89999999999998],\"x\":[\"366.05\"],\"y\":[0.0]}},\"id\":\"ebc6be16-af0c-4642-9bd7-bc99a2f408b1\",\"type\":\"ColumnDataSource\"},{\"attributes\":{\"location\":\"top_left\",\"plot\":{\"id\":\"4a9bce27-ef51-401c-9c39-b413feba78c3\",\"subtype\":\"Chart\",\"type\":\"Plot\"}},\"id\":\"cd0e813e-aece-452c-ae54-51321b5b6dcb\",\"type\":\"Legend\"},{\"attributes\":{\"fill_alpha\":{\"field\":\"fill_alpha\"},\"fill_color\":{\"field\":\"color\"},\"height\":{\"field\":\"height\",\"units\":\"data\"},\"line_color\":{\"field\":\"line_color\"},\"width\":{\"field\":\"width\",\"units\":\"data\"},\"x\":{\"field\":\"x\"},\"y\":{\"field\":\"y\"}},\"id\":\"9fdd6d12-fd8c-479c-a780-3bdbf5f3b750\",\"type\":\"Rect\"},{\"attributes\":{\"callback\":null,\"column_names\":[\"label\",\"line_color\",\"height\",\"line_alpha\",\"fill_alpha\",\"width\",\"color\",\"x\",\"y\"],\"data\":{\"chart_index\":[\"(1558.000000, 1634.900000]\"],\"color\":[\"LightSlateGray\"],\"fill_alpha\":[0.8],\"height\":[0.0],\"label\":[\"(1558.000000, 1634.900000]\"],\"line_alpha\":[1.0],\"line_color\":[\"black\"],\"width\":[76.90000000000009],\"x\":[\"1596.45\"],\"y\":[0.0]}},\"id\":\"45532009-72a6-422f-8526-87d1f39469bb\",\"type\":\"ColumnDataSource\"},{\"attributes\":{\"data_source\":{\"id\":\"0215b01e-4880-44df-a69e-160140293419\",\"type\":\"ColumnDataSource\"},\"glyph\":{\"id\":\"0b80655c-c542-4433-bb50-f133a2b27331\",\"type\":\"Rect\"},\"hover_glyph\":null,\"nonselection_glyph\":null,\"selection_glyph\":null},\"id\":\"63849789-ab23-4a12-ba57-d3d0ad95d795\",\"type\":\"GlyphRenderer\"},{\"attributes\":{\"fill_alpha\":{\"field\":\"fill_alpha\"},\"fill_color\":{\"field\":\"color\"},\"height\":{\"field\":\"height\",\"units\":\"data\"},\"line_color\":{\"field\":\"line_color\"},\"width\":{\"field\":\"width\",\"units\":\"data\"},\"x\":{\"field\":\"x\"},\"y\":{\"field\":\"y\"}},\"id\":\"b44ac118-05d6-4318-bdb3-75a6d7a63316\",\"type\":\"Rect\"},{\"attributes\":{\"plot\":null,\"text\":\"Homozygous Variant: Predict Proba < 0.3\"},\"id\":\"4366c8bd-0fa5-46b3-b1cb-bd17cc20ffb2\",\"type\":\"Title\"},{\"attributes\":{\"callback\":null,\"column_names\":[\"label\",\"line_color\",\"height\",\"line_alpha\",\"fill_alpha\",\"width\",\"color\",\"x\",\"y\"],\"data\":{\"chart_index\":[\"(1942.500000, 2019.400000]\"],\"color\":[\"LightSlateGray\"],\"fill_alpha\":[0.8],\"height\":[0.0],\"label\":[\"(1942.500000, 2019.400000]\"],\"line_alpha\":[1.0],\"line_color\":[\"black\"],\"width\":[76.89999999999986],\"x\":[\"1980.95\"],\"y\":[0.0]}},\"id\":\"528cff0d-7a80-4e91-a04b-7e623f5cb68d\",\"type\":\"ColumnDataSource\"},{\"attributes\":{\"fill_alpha\":{\"field\":\"fill_alpha\"},\"fill_color\":{\"field\":\"color\"},\"height\":{\"field\":\"height\",\"units\":\"data\"},\"line_color\":{\"field\":\"line_color\"},\"width\":{\"field\":\"width\",\"units\":\"data\"},\"x\":{\"field\":\"x\"},\"y\":{\"field\":\"y\"}},\"id\":\"8c805598-827e-4b2c-8ac9-206ee2276e6c\",\"type\":\"Rect\"},{\"attributes\":{\"fill_alpha\":{\"field\":\"fill_alpha\"},\"fill_color\":{\"field\":\"color\"},\"height\":{\"field\":\"height\",\"units\":\"data\"},\"line_color\":{\"field\":\"line_color\"},\"width\":{\"field\":\"width\",\"units\":\"data\"},\"x\":{\"field\":\"x\"},\"y\":{\"field\":\"y\"}},\"id\":\"606d1388-6a10-4228-96df-6d7b7b0fe351\",\"type\":\"Rect\"},{\"attributes\":{\"data_source\":{\"id\":\"70fe9c04-9c39-4337-bd59-03c459c30bdb\",\"type\":\"ColumnDataSource\"},\"glyph\":{\"id\":\"3185d08c-f034-465c-94e2-5225ecb5b325\",\"type\":\"Rect\"},\"hover_glyph\":null,\"nonselection_glyph\":null,\"selection_glyph\":null},\"id\":\"7454cba5-0718-4f12-a7c0-c81b58470eb0\",\"type\":\"GlyphRenderer\"},{\"attributes\":{\"data_source\":{\"id\":\"bdea2b74-737d-4174-be03-8b483bdcb452\",\"type\":\"ColumnDataSource\"},\"glyph\":{\"id\":\"a38190d9-23ec-41d2-8046-f13e13889c86\",\"type\":\"Rect\"},\"hover_glyph\":null,\"nonselection_glyph\":null,\"selection_glyph\":null},\"id\":\"3e532d15-4a84-424b-abfe-76bd39d7ec0b\",\"type\":\"GlyphRenderer\"},{\"attributes\":{\"data_source\":{\"id\":\"058edcdd-694e-47b4-8e06-07c94a1d795f\",\"type\":\"ColumnDataSource\"},\"glyph\":{\"id\":\"188b6b01-5e1a-48b1-b82d-fc05176dd657\",\"type\":\"Rect\"},\"hover_glyph\":null,\"nonselection_glyph\":null,\"selection_glyph\":null},\"id\":\"bc977329-7a42-4997-a847-b8fedf7a97f8\",\"type\":\"GlyphRenderer\"},{\"attributes\":{\"fill_alpha\":{\"field\":\"fill_alpha\"},\"fill_color\":{\"field\":\"color\"},\"height\":{\"field\":\"height\",\"units\":\"data\"},\"line_color\":{\"field\":\"line_color\"},\"width\":{\"field\":\"width\",\"units\":\"data\"},\"x\":{\"field\":\"x\"},\"y\":{\"field\":\"y\"}},\"id\":\"58a7cde7-8aec-4c5b-aae6-70adef80c79d\",\"type\":\"Rect\"},{\"attributes\":{\"fill_alpha\":{\"field\":\"fill_alpha\"},\"fill_color\":{\"field\":\"color\"},\"height\":{\"field\":\"height\",\"units\":\"data\"},\"line_color\":{\"field\":\"line_color\"},\"width\":{\"field\":\"width\",\"units\":\"data\"},\"x\":{\"field\":\"x\"},\"y\":{\"field\":\"y\"}},\"id\":\"3185d08c-f034-465c-94e2-5225ecb5b325\",\"type\":\"Rect\"},{\"attributes\":{\"callback\":null,\"column_names\":[\"label\",\"line_color\",\"height\",\"line_alpha\",\"fill_alpha\",\"width\",\"color\",\"x\",\"y\"],\"data\":{\"chart_index\":[\"(1865.600000, 1942.500000]\"],\"color\":[\"LightSlateGray\"],\"fill_alpha\":[0.8],\"height\":[0.0],\"label\":[\"(1865.600000, 1942.500000]\"],\"line_alpha\":[1.0],\"line_color\":[\"black\"],\"width\":[76.90000000000009],\"x\":[\"1904.05\"],\"y\":[0.0]}},\"id\":\"37f5992c-58cc-4bce-b5fe-ecbcfa67f5de\",\"type\":\"ColumnDataSource\"},{\"attributes\":{\"callback\":null,\"column_names\":[\"label\",\"line_color\",\"height\",\"line_alpha\",\"fill_alpha\",\"width\",\"color\",\"x\",\"y\"],\"data\":{\"chart_index\":[\"(1019.700000, 1096.600000]\"],\"color\":[\"LightSlateGray\"],\"fill_alpha\":[0.8],\"height\":[0.0],\"label\":[\"(1019.700000, 1096.600000]\"],\"line_alpha\":[1.0],\"line_color\":[\"black\"],\"width\":[76.90000000000009],\"x\":[\"1058.15\"],\"y\":[0.0]}},\"id\":\"7f006b5b-5ce4-44f3-bb85-9459b8a0fa41\",\"type\":\"ColumnDataSource\"},{\"attributes\":{\"fill_alpha\":{\"field\":\"fill_alpha\"},\"fill_color\":{\"field\":\"color\"},\"height\":{\"field\":\"height\",\"units\":\"data\"},\"line_color\":{\"field\":\"line_color\"},\"width\":{\"field\":\"width\",\"units\":\"data\"},\"x\":{\"field\":\"x\"},\"y\":{\"field\":\"y\"}},\"id\":\"07cab899-9cf5-44a7-95a0-4993db2b24ae\",\"type\":\"Rect\"},{\"attributes\":{\"data_source\":{\"id\":\"7ddccd16-84a6-43e2-bf50-ac5c50a0dacf\",\"type\":\"ColumnDataSource\"},\"glyph\":{\"id\":\"2d87c83b-e718-44ce-b1d1-c00e31ceeb09\",\"type\":\"Rect\"},\"hover_glyph\":null,\"nonselection_glyph\":null,\"selection_glyph\":null},\"id\":\"e1b83e56-4210-4910-b3b2-041c39557c08\",\"type\":\"GlyphRenderer\"},{\"attributes\":{\"data_source\":{\"id\":\"2134ea47-c56b-4e38-81e4-fdc556298f45\",\"type\":\"ColumnDataSource\"},\"glyph\":{\"id\":\"a7e195d7-6783-47bc-b4c4-942717a07e6a\",\"type\":\"Rect\"},\"hover_glyph\":null,\"nonselection_glyph\":null,\"selection_glyph\":null},\"id\":\"e54be7e7-2214-429d-94b7-87d40b46d4b9\",\"type\":\"GlyphRenderer\"},{\"attributes\":{\"data_source\":{\"id\":\"47033adb-bbcb-4eb5-8729-57d6912187a1\",\"type\":\"ColumnDataSource\"},\"glyph\":{\"id\":\"b44ac118-05d6-4318-bdb3-75a6d7a63316\",\"type\":\"Rect\"},\"hover_glyph\":null,\"nonselection_glyph\":null,\"selection_glyph\":null},\"id\":\"0eee6b21-4ea3-4950-b465-3721e574471f\",\"type\":\"GlyphRenderer\"},{\"attributes\":{\"fill_alpha\":{\"field\":\"fill_alpha\"},\"fill_color\":{\"field\":\"color\"},\"height\":{\"field\":\"height\",\"units\":\"data\"},\"line_color\":{\"field\":\"line_color\"},\"width\":{\"field\":\"width\",\"units\":\"data\"},\"x\":{\"field\":\"x\"},\"y\":{\"field\":\"y\"}},\"id\":\"79f51892-bf6d-4b51-8016-adb30f1f8061\",\"type\":\"Rect\"},{\"attributes\":{\"axis_label\":\"Frequency\",\"formatter\":{\"id\":\"03f1c672-ad8e-4080-b56d-08db8eb725ec\",\"type\":\"BasicTickFormatter\"},\"plot\":{\"id\":\"4a9bce27-ef51-401c-9c39-b413feba78c3\",\"subtype\":\"Chart\",\"type\":\"Plot\"},\"ticker\":{\"id\":\"19ef3333-2e7b-4d27-a609-95006e6841ef\",\"type\":\"BasicTicker\"}},\"id\":\"873670c5-b987-49c7-b6d4-5d7ef11e6e20\",\"type\":\"LinearAxis\"},{\"attributes\":{\"data_source\":{\"id\":\"1a051823-6716-4962-b234-a1c18eb3d05c\",\"type\":\"ColumnDataSource\"},\"glyph\":{\"id\":\"b6129a46-fb33-419d-84c7-dd0c7cbd556c\",\"type\":\"Rect\"},\"hover_glyph\":null,\"nonselection_glyph\":null,\"selection_glyph\":null},\"id\":\"fd56624b-6bb6-4645-9f07-2d1462dc03cc\",\"type\":\"GlyphRenderer\"},{\"attributes\":{\"data_source\":{\"id\":\"015ed28d-9946-4ba8-a43b-3f8aba571395\",\"type\":\"ColumnDataSource\"},\"glyph\":{\"id\":\"6fbd54a1-4044-4083-8034-dfb961c1ec92\",\"type\":\"Rect\"},\"hover_glyph\":null,\"nonselection_glyph\":null,\"selection_glyph\":null},\"id\":\"c534bc57-5bd4-4ad3-ab06-b8c0ea039179\",\"type\":\"GlyphRenderer\"},{\"attributes\":{\"dimension\":1,\"plot\":{\"id\":\"4a9bce27-ef51-401c-9c39-b413feba78c3\",\"subtype\":\"Chart\",\"type\":\"Plot\"},\"ticker\":{\"id\":\"19ef3333-2e7b-4d27-a609-95006e6841ef\",\"type\":\"BasicTicker\"}},\"id\":\"72e87d99-f4c1-4842-9231-352129338072\",\"type\":\"Grid\"},{\"attributes\":{\"fill_alpha\":{\"field\":\"fill_alpha\"},\"fill_color\":{\"field\":\"color\"},\"height\":{\"field\":\"height\",\"units\":\"data\"},\"line_color\":{\"field\":\"line_color\"},\"width\":{\"field\":\"width\",\"units\":\"data\"},\"x\":{\"field\":\"x\"},\"y\":{\"field\":\"y\"}},\"id\":\"e30e172a-945a-4acb-b237-ced65c98e35d\",\"type\":\"Rect\"},{\"attributes\":{\"callback\":null,\"column_names\":[\"label\",\"line_color\",\"height\",\"line_alpha\",\"fill_alpha\",\"width\",\"color\",\"x\",\"y\"],\"data\":{\"chart_index\":[\"(1173.500000, 1250.400000]\"],\"color\":[\"LightSlateGray\"],\"fill_alpha\":[0.8],\"height\":[0.0],\"label\":[\"(1173.500000, 1250.400000]\"],\"line_alpha\":[1.0],\"line_color\":[\"black\"],\"width\":[76.90000000000009],\"x\":[\"1211.95\"],\"y\":[0.0]}},\"id\":\"2e4900c6-06d6-4b22-991d-fd19f94122bc\",\"type\":\"ColumnDataSource\"},{\"attributes\":{\"callback\":null,\"column_names\":[\"label\",\"line_color\",\"height\",\"line_alpha\",\"fill_alpha\",\"width\",\"color\",\"x\",\"y\"],\"data\":{\"chart_index\":[\"(635.200000, 712.100000]\"],\"color\":[\"LightSlateGray\"],\"fill_alpha\":[0.8],\"height\":[1.0],\"label\":[\"(635.200000, 712.100000]\"],\"line_alpha\":[1.0],\"line_color\":[\"black\"],\"width\":[76.89999999999998],\"x\":[\"673.6500000000001\"],\"y\":[0.5]}},\"id\":\"7ddccd16-84a6-43e2-bf50-ac5c50a0dacf\",\"type\":\"ColumnDataSource\"},{\"attributes\":{\"fill_alpha\":{\"field\":\"fill_alpha\"},\"fill_color\":{\"field\":\"color\"},\"height\":{\"field\":\"height\",\"units\":\"data\"},\"line_color\":{\"field\":\"line_color\"},\"width\":{\"field\":\"width\",\"units\":\"data\"},\"x\":{\"field\":\"x\"},\"y\":{\"field\":\"y\"}},\"id\":\"43abc351-829b-48fa-99fc-cd3c9b4e5e3f\",\"type\":\"Rect\"},{\"attributes\":{\"callback\":null,\"column_names\":[\"label\",\"line_color\",\"height\",\"line_alpha\",\"fill_alpha\",\"width\",\"color\",\"x\",\"y\"],\"data\":{\"chart_index\":[\"(2250.100000, 2327.000000]\"],\"color\":[\"LightSlateGray\"],\"fill_alpha\":[0.8],\"height\":[1.0],\"label\":[\"(2250.100000, 2327.000000]\"],\"line_alpha\":[1.0],\"line_color\":[\"black\"],\"width\":[76.89999999999964],\"x\":[\"2288.55\"],\"y\":[0.5]}},\"id\":\"7c697c7e-3945-473c-86eb-47e2d520dfcd\",\"type\":\"ColumnDataSource\"},{\"attributes\":{\"data_source\":{\"id\":\"bbbf3395-6c47-4ba9-b03c-3f2e08fb1287\",\"type\":\"ColumnDataSource\"},\"glyph\":{\"id\":\"8c805598-827e-4b2c-8ac9-206ee2276e6c\",\"type\":\"Rect\"},\"hover_glyph\":null,\"nonselection_glyph\":null,\"selection_glyph\":null},\"id\":\"ae22194a-a9c9-4ffe-b923-ed1849abf156\",\"type\":\"GlyphRenderer\"},{\"attributes\":{\"plot\":{\"id\":\"4a9bce27-ef51-401c-9c39-b413feba78c3\",\"subtype\":\"Chart\",\"type\":\"Plot\"}},\"id\":\"487c31c0-0f08-404d-a947-735e46e7bc6f\",\"type\":\"ResetTool\"},{\"attributes\":{\"data_source\":{\"id\":\"1426d823-71c9-4e5b-bda0-d5f7d9b7a36a\",\"type\":\"ColumnDataSource\"},\"glyph\":{\"id\":\"58a7cde7-8aec-4c5b-aae6-70adef80c79d\",\"type\":\"Rect\"},\"hover_glyph\":null,\"nonselection_glyph\":null,\"selection_glyph\":null},\"id\":\"cec31956-84c9-4329-b09f-546aea9e2104\",\"type\":\"GlyphRenderer\"},{\"attributes\":{},\"id\":\"c0587589-6960-429c-a38d-7820e38460c0\",\"type\":\"ToolEvents\"},{\"attributes\":{\"callback\":null,\"column_names\":[\"label\",\"line_color\",\"height\",\"line_alpha\",\"fill_alpha\",\"width\",\"color\",\"x\",\"y\"],\"data\":{\"chart_index\":[\"(2096.300000, 2173.200000]\"],\"color\":[\"LightSlateGray\"],\"fill_alpha\":[0.8],\"height\":[0.0],\"label\":[\"(2096.300000, 2173.200000]\"],\"line_alpha\":[1.0],\"line_color\":[\"black\"],\"width\":[76.90000000000009],\"x\":[\"2134.75\"],\"y\":[0.0]}},\"id\":\"119ebcea-b200-4dfe-a28d-29be8d4a458e\",\"type\":\"ColumnDataSource\"},{\"attributes\":{\"data_source\":{\"id\":\"2e4900c6-06d6-4b22-991d-fd19f94122bc\",\"type\":\"ColumnDataSource\"},\"glyph\":{\"id\":\"4324cf1d-1610-422f-a24a-c2e058517465\",\"type\":\"Rect\"},\"hover_glyph\":null,\"nonselection_glyph\":null,\"selection_glyph\":null},\"id\":\"3b398ba1-8284-4495-8311-ed73ba3d1193\",\"type\":\"GlyphRenderer\"},{\"attributes\":{\"data_source\":{\"id\":\"5c5dcdc6-a9be-4138-8aa1-2bd16a640cb3\",\"type\":\"ColumnDataSource\"},\"glyph\":{\"id\":\"606d1388-6a10-4228-96df-6d7b7b0fe351\",\"type\":\"Rect\"},\"hover_glyph\":null,\"nonselection_glyph\":null,\"selection_glyph\":null},\"id\":\"eee60392-2fed-4e1a-bda6-663ee1ce3424\",\"type\":\"GlyphRenderer\"},{\"attributes\":{\"overlay\":{\"id\":\"4b855ec8-713e-4aa5-a293-94db9b45bcf1\",\"type\":\"BoxAnnotation\"},\"plot\":{\"id\":\"4a9bce27-ef51-401c-9c39-b413feba78c3\",\"subtype\":\"Chart\",\"type\":\"Plot\"}},\"id\":\"61d379f3-4bf3-4f32-a675-dc807df4b93c\",\"type\":\"BoxZoomTool\"},{\"attributes\":{\"fill_alpha\":{\"field\":\"fill_alpha\"},\"fill_color\":{\"field\":\"color\"},\"height\":{\"field\":\"height\",\"units\":\"data\"},\"line_color\":{\"field\":\"line_color\"},\"width\":{\"field\":\"width\",\"units\":\"data\"},\"x\":{\"field\":\"x\"},\"y\":{\"field\":\"y\"}},\"id\":\"7452661e-d2bf-4fa9-bb4a-b3cbeceb5458\",\"type\":\"Rect\"},{\"attributes\":{\"callback\":null,\"column_names\":[\"label\",\"line_color\",\"height\",\"line_alpha\",\"fill_alpha\",\"width\",\"color\",\"x\",\"y\"],\"data\":{\"chart_index\":[\"(2173.200000, 2250.100000]\"],\"color\":[\"LightSlateGray\"],\"fill_alpha\":[0.8],\"height\":[0.0],\"label\":[\"(2173.200000, 2250.100000]\"],\"line_alpha\":[1.0],\"line_color\":[\"black\"],\"width\":[76.90000000000009],\"x\":[\"2211.6499999999996\"],\"y\":[0.0]}},\"id\":\"2134ea47-c56b-4e38-81e4-fdc556298f45\",\"type\":\"ColumnDataSource\"},{\"attributes\":{\"fill_alpha\":{\"field\":\"fill_alpha\"},\"fill_color\":{\"field\":\"color\"},\"height\":{\"field\":\"height\",\"units\":\"data\"},\"line_color\":{\"field\":\"line_color\"},\"width\":{\"field\":\"width\",\"units\":\"data\"},\"x\":{\"field\":\"x\"},\"y\":{\"field\":\"y\"}},\"id\":\"0a6e6809-8a49-4835-accf-90b0d73c9bcd\",\"type\":\"Rect\"},{\"attributes\":{\"callback\":null,\"column_names\":[\"label\",\"line_color\",\"height\",\"line_alpha\",\"fill_alpha\",\"width\",\"color\",\"x\",\"y\"],\"data\":{\"chart_index\":[\"(1711.800000, 1788.700000]\"],\"color\":[\"LightSlateGray\"],\"fill_alpha\":[0.8],\"height\":[0.0],\"label\":[\"(1711.800000, 1788.700000]\"],\"line_alpha\":[1.0],\"line_color\":[\"black\"],\"width\":[76.89999999999986],\"x\":[\"1750.25\"],\"y\":[0.0]}},\"id\":\"7b58e8b9-483d-4e38-a4c2-ca3d4ba881db\",\"type\":\"ColumnDataSource\"},{\"attributes\":{\"fill_alpha\":{\"field\":\"fill_alpha\"},\"fill_color\":{\"field\":\"color\"},\"height\":{\"field\":\"height\",\"units\":\"data\"},\"line_color\":{\"field\":\"line_color\"},\"width\":{\"field\":\"width\",\"units\":\"data\"},\"x\":{\"field\":\"x\"},\"y\":{\"field\":\"y\"}},\"id\":\"e5fa67a3-8ba4-40df-a690-6898150e907f\",\"type\":\"Rect\"},{\"attributes\":{},\"id\":\"03f1c672-ad8e-4080-b56d-08db8eb725ec\",\"type\":\"BasicTickFormatter\"},{\"attributes\":{\"plot\":{\"id\":\"4a9bce27-ef51-401c-9c39-b413feba78c3\",\"subtype\":\"Chart\",\"type\":\"Plot\"}},\"id\":\"a67f9e53-0279-4cff-b51a-bbb91381b1dd\",\"type\":\"WheelZoomTool\"},{\"attributes\":{\"data_source\":{\"id\":\"49c7e38d-6036-4132-a9cb-54842f9e37a4\",\"type\":\"ColumnDataSource\"},\"glyph\":{\"id\":\"e5fa67a3-8ba4-40df-a690-6898150e907f\",\"type\":\"Rect\"},\"hover_glyph\":null,\"nonselection_glyph\":null,\"selection_glyph\":null},\"id\":\"5b8edb57-9591-4fc5-a5bc-3de1cf53aafa\",\"type\":\"GlyphRenderer\"},{\"attributes\":{\"fill_alpha\":{\"field\":\"fill_alpha\"},\"fill_color\":{\"field\":\"color\"},\"height\":{\"field\":\"height\",\"units\":\"data\"},\"line_color\":{\"field\":\"line_color\"},\"width\":{\"field\":\"width\",\"units\":\"data\"},\"x\":{\"field\":\"x\"},\"y\":{\"field\":\"y\"}},\"id\":\"cd776972-36fa-47e8-87f8-bed8e35e2581\",\"type\":\"Rect\"},{\"attributes\":{\"data_source\":{\"id\":\"45532009-72a6-422f-8526-87d1f39469bb\",\"type\":\"ColumnDataSource\"},\"glyph\":{\"id\":\"7452661e-d2bf-4fa9-bb4a-b3cbeceb5458\",\"type\":\"Rect\"},\"hover_glyph\":null,\"nonselection_glyph\":null,\"selection_glyph\":null},\"id\":\"335213d1-3ff1-45dc-8e4c-7a2c733ca357\",\"type\":\"GlyphRenderer\"},{\"attributes\":{\"callback\":null,\"column_names\":[\"label\",\"line_color\",\"height\",\"line_alpha\",\"fill_alpha\",\"width\",\"color\",\"x\",\"y\"],\"data\":{\"chart_index\":[\"(2019.400000, 2096.300000]\"],\"color\":[\"LightSlateGray\"],\"fill_alpha\":[0.8],\"height\":[0.0],\"label\":[\"(2019.400000, 2096.300000]\"],\"line_alpha\":[1.0],\"line_color\":[\"black\"],\"width\":[76.90000000000009],\"x\":[\"2057.8500000000004\"],\"y\":[0.0]}},\"id\":\"0215b01e-4880-44df-a69e-160140293419\",\"type\":\"ColumnDataSource\"},{\"attributes\":{\"callback\":null,\"column_names\":[\"label\",\"line_color\",\"height\",\"line_alpha\",\"fill_alpha\",\"width\",\"color\",\"x\",\"y\"],\"data\":{\"chart_index\":[\"[20.000000, 96.900000]\"],\"color\":[\"LightSlateGray\"],\"fill_alpha\":[0.8],\"height\":[594.0],\"label\":[\"[20.000000, 96.900000]\"],\"line_alpha\":[1.0],\"line_color\":[\"black\"],\"width\":[76.9],\"x\":[\"58.45\"],\"y\":[297.0]}},\"id\":\"1a051823-6716-4962-b234-a1c18eb3d05c\",\"type\":\"ColumnDataSource\"},{\"attributes\":{\"bottom_units\":\"screen\",\"fill_alpha\":{\"value\":0.5},\"fill_color\":{\"value\":\"lightgrey\"},\"left_units\":\"screen\",\"level\":\"overlay\",\"line_alpha\":{\"value\":1.0},\"line_color\":{\"value\":\"black\"},\"line_dash\":[4,4],\"line_width\":{\"value\":2},\"plot\":null,\"render_mode\":\"css\",\"right_units\":\"screen\",\"top_units\":\"screen\"},\"id\":\"4b855ec8-713e-4aa5-a293-94db9b45bcf1\",\"type\":\"BoxAnnotation\"},{\"attributes\":{\"plot\":{\"id\":\"4a9bce27-ef51-401c-9c39-b413feba78c3\",\"subtype\":\"Chart\",\"type\":\"Plot\"}},\"id\":\"bd703958-1705-4785-a580-06e1cdb17a6b\",\"type\":\"PanTool\"},{\"attributes\":{},\"id\":\"46d7bad0-db33-4971-91b1-81f25a51c6a4\",\"type\":\"BasicTicker\"},{\"attributes\":{\"data_source\":{\"id\":\"7b58e8b9-483d-4e38-a4c2-ca3d4ba881db\",\"type\":\"ColumnDataSource\"},\"glyph\":{\"id\":\"a931af73-cfb8-445b-8c02-b075cd411b85\",\"type\":\"Rect\"},\"hover_glyph\":null,\"nonselection_glyph\":null,\"selection_glyph\":null},\"id\":\"3386ca2b-6ac0-4853-9398-43a83915572b\",\"type\":\"GlyphRenderer\"},{\"attributes\":{\"data_source\":{\"id\":\"528cff0d-7a80-4e91-a04b-7e623f5cb68d\",\"type\":\"ColumnDataSource\"},\"glyph\":{\"id\":\"c305528b-6e20-4cdd-b0f8-4e62b83cc31b\",\"type\":\"Rect\"},\"hover_glyph\":null,\"nonselection_glyph\":null,\"selection_glyph\":null},\"id\":\"5fec532c-8642-4999-bbb0-6647438d018d\",\"type\":\"GlyphRenderer\"},{\"attributes\":{\"fill_alpha\":{\"field\":\"fill_alpha\"},\"fill_color\":{\"field\":\"color\"},\"height\":{\"field\":\"height\",\"units\":\"data\"},\"line_color\":{\"field\":\"line_color\"},\"width\":{\"field\":\"width\",\"units\":\"data\"},\"x\":{\"field\":\"x\"},\"y\":{\"field\":\"y\"}},\"id\":\"2d87c83b-e718-44ce-b1d1-c00e31ceeb09\",\"type\":\"Rect\"},{\"attributes\":{\"callback\":null,\"column_names\":[\"label\",\"line_color\",\"height\",\"line_alpha\",\"fill_alpha\",\"width\",\"color\",\"x\",\"y\"],\"data\":{\"chart_index\":[\"(1481.100000, 1558.000000]\"],\"color\":[\"LightSlateGray\"],\"fill_alpha\":[0.8],\"height\":[0.0],\"label\":[\"(1481.100000, 1558.000000]\"],\"line_alpha\":[1.0],\"line_color\":[\"black\"],\"width\":[76.89999999999986],\"x\":[\"1519.55\"],\"y\":[0.0]}},\"id\":\"a0e7cf90-ece4-41c3-b9c5-8bc3e4057b00\",\"type\":\"ColumnDataSource\"},{\"attributes\":{\"callback\":null,\"column_names\":[\"label\",\"line_color\",\"height\",\"line_alpha\",\"fill_alpha\",\"width\",\"color\",\"x\",\"y\"],\"data\":{\"chart_index\":[\"(404.500000, 481.400000]\"],\"color\":[\"LightSlateGray\"],\"fill_alpha\":[0.8],\"height\":[1.0],\"label\":[\"(404.500000, 481.400000]\"],\"line_alpha\":[1.0],\"line_color\":[\"black\"],\"width\":[76.90000000000003],\"x\":[\"442.95\"],\"y\":[0.5]}},\"id\":\"a23e87a8-4a67-4e72-b52e-4a5096c86e81\",\"type\":\"ColumnDataSource\"},{\"attributes\":{\"data_source\":{\"id\":\"7892b9b4-644c-45c5-9b4e-42b7d3fc5e25\",\"type\":\"ColumnDataSource\"},\"glyph\":{\"id\":\"5b7a755f-c44f-46c8-9eb4-466cc37419d3\",\"type\":\"Rect\"},\"hover_glyph\":null,\"nonselection_glyph\":null,\"selection_glyph\":null},\"id\":\"001c2adc-2795-48f6-a763-4c1f60a5dc20\",\"type\":\"GlyphRenderer\"},{\"attributes\":{\"callback\":null,\"column_names\":[\"label\",\"line_color\",\"height\",\"line_alpha\",\"fill_alpha\",\"width\",\"color\",\"x\",\"y\"],\"data\":{\"chart_index\":[\"(173.800000, 250.700000]\"],\"color\":[\"LightSlateGray\"],\"fill_alpha\":[0.8],\"height\":[5.0],\"label\":[\"(173.800000, 250.700000]\"],\"line_alpha\":[1.0],\"line_color\":[\"black\"],\"width\":[76.9],\"x\":[\"212.25\"],\"y\":[2.5]}},\"id\":\"5c5dcdc6-a9be-4138-8aa1-2bd16a640cb3\",\"type\":\"ColumnDataSource\"},{\"attributes\":{\"callback\":null,\"column_names\":[\"label\",\"line_color\",\"height\",\"line_alpha\",\"fill_alpha\",\"width\",\"color\",\"x\",\"y\"],\"data\":{\"chart_index\":[\"(1327.300000, 1404.200000]\"],\"color\":[\"LightSlateGray\"],\"fill_alpha\":[0.8],\"height\":[0.0],\"label\":[\"(1327.300000, 1404.200000]\"],\"line_alpha\":[1.0],\"line_color\":[\"black\"],\"width\":[76.89999999999986],\"x\":[\"1365.75\"],\"y\":[0.0]}},\"id\":\"49c7e38d-6036-4132-a9cb-54842f9e37a4\",\"type\":\"ColumnDataSource\"},{\"attributes\":{\"data_source\":{\"id\":\"f8985df9-09d6-4824-a621-0c3e78e0a787\",\"type\":\"ColumnDataSource\"},\"glyph\":{\"id\":\"7d3584a5-41ac-4155-9e4e-98ac5f99ea8c\",\"type\":\"Rect\"},\"hover_glyph\":null,\"nonselection_glyph\":null,\"selection_glyph\":null},\"id\":\"9643f985-b0e6-4a92-9717-b1c4a6825b03\",\"type\":\"GlyphRenderer\"},{\"attributes\":{\"fill_alpha\":{\"field\":\"fill_alpha\"},\"fill_color\":{\"field\":\"color\"},\"height\":{\"field\":\"height\",\"units\":\"data\"},\"line_color\":{\"field\":\"line_color\"},\"width\":{\"field\":\"width\",\"units\":\"data\"},\"x\":{\"field\":\"x\"},\"y\":{\"field\":\"y\"}},\"id\":\"cf26c90a-e013-43f0-89f8-a726e5c6e575\",\"type\":\"Rect\"},{\"attributes\":{\"data_source\":{\"id\":\"37f5992c-58cc-4bce-b5fe-ecbcfa67f5de\",\"type\":\"ColumnDataSource\"},\"glyph\":{\"id\":\"0a6e6809-8a49-4835-accf-90b0d73c9bcd\",\"type\":\"Rect\"},\"hover_glyph\":null,\"nonselection_glyph\":null,\"selection_glyph\":null},\"id\":\"4c7ae04e-7333-4567-a72e-5daf12241162\",\"type\":\"GlyphRenderer\"},{\"attributes\":{\"fill_alpha\":{\"field\":\"fill_alpha\"},\"fill_color\":{\"field\":\"color\"},\"height\":{\"field\":\"height\",\"units\":\"data\"},\"line_color\":{\"field\":\"line_color\"},\"width\":{\"field\":\"width\",\"units\":\"data\"},\"x\":{\"field\":\"x\"},\"y\":{\"field\":\"y\"}},\"id\":\"a38190d9-23ec-41d2-8046-f13e13889c86\",\"type\":\"Rect\"},{\"attributes\":{\"data_source\":{\"id\":\"ebc6be16-af0c-4642-9bd7-bc99a2f408b1\",\"type\":\"ColumnDataSource\"},\"glyph\":{\"id\":\"9fdd6d12-fd8c-479c-a780-3bdbf5f3b750\",\"type\":\"Rect\"},\"hover_glyph\":null,\"nonselection_glyph\":null,\"selection_glyph\":null},\"id\":\"a29a3fa8-ac9c-4012-89ea-b48acaa55e74\",\"type\":\"GlyphRenderer\"},{\"attributes\":{\"callback\":null,\"column_names\":[\"label\",\"line_color\",\"height\",\"line_alpha\",\"fill_alpha\",\"width\",\"color\",\"x\",\"y\"],\"data\":{\"chart_index\":[\"(712.100000, 789.000000]\"],\"color\":[\"LightSlateGray\"],\"fill_alpha\":[0.8],\"height\":[0.0],\"label\":[\"(712.100000, 789.000000]\"],\"line_alpha\":[1.0],\"line_color\":[\"black\"],\"width\":[76.89999999999998],\"x\":[\"750.55\"],\"y\":[0.0]}},\"id\":\"20b3530d-4e28-4e0c-89c8-65f9c269c0b1\",\"type\":\"ColumnDataSource\"},{\"attributes\":{\"callback\":null,\"column_names\":[\"label\",\"line_color\",\"height\",\"line_alpha\",\"fill_alpha\",\"width\",\"color\",\"x\",\"y\"],\"data\":{\"chart_index\":[\"(1788.700000, 1865.600000]\"],\"color\":[\"LightSlateGray\"],\"fill_alpha\":[0.8],\"height\":[0.0],\"label\":[\"(1788.700000, 1865.600000]\"],\"line_alpha\":[1.0],\"line_color\":[\"black\"],\"width\":[76.90000000000009],\"x\":[\"1827.15\"],\"y\":[0.0]}},\"id\":\"1426d823-71c9-4e5b-bda0-d5f7d9b7a36a\",\"type\":\"ColumnDataSource\"},{\"attributes\":{},\"id\":\"19ef3333-2e7b-4d27-a609-95006e6841ef\",\"type\":\"BasicTicker\"},{\"attributes\":{\"data_source\":{\"id\":\"97084b7d-2798-4af7-8ea0-b3b3afe310a8\",\"type\":\"ColumnDataSource\"},\"glyph\":{\"id\":\"cd776972-36fa-47e8-87f8-bed8e35e2581\",\"type\":\"Rect\"},\"hover_glyph\":null,\"nonselection_glyph\":null,\"selection_glyph\":null},\"id\":\"f03a4f69-2bea-4071-a2ad-9b4d2e1b51cf\",\"type\":\"GlyphRenderer\"},{\"attributes\":{\"callback\":null,\"end\":2385.675,\"start\":-38.675000000000004},\"id\":\"39a76f22-ff3b-445e-9fd7-5400f40e115b\",\"type\":\"Range1d\"},{\"attributes\":{},\"id\":\"3b96f0c0-21df-4d90-a4e7-a2113631a5da\",\"type\":\"BasicTickFormatter\"},{\"attributes\":{\"callback\":null,\"column_names\":[\"label\",\"line_color\",\"height\",\"line_alpha\",\"fill_alpha\",\"width\",\"color\",\"x\",\"y\"],\"data\":{\"chart_index\":[\"(1404.200000, 1481.100000]\"],\"color\":[\"LightSlateGray\"],\"fill_alpha\":[0.8],\"height\":[0.0],\"label\":[\"(1404.200000, 1481.100000]\"],\"line_alpha\":[1.0],\"line_color\":[\"black\"],\"width\":[76.90000000000009],\"x\":[\"1442.65\"],\"y\":[0.0]}},\"id\":\"bbbf3395-6c47-4ba9-b03c-3f2e08fb1287\",\"type\":\"ColumnDataSource\"},{\"attributes\":{\"plot\":{\"id\":\"4a9bce27-ef51-401c-9c39-b413feba78c3\",\"subtype\":\"Chart\",\"type\":\"Plot\"}},\"id\":\"352a0abe-45db-483c-a1ab-b9e2f20a2102\",\"type\":\"SaveTool\"},{\"attributes\":{\"callback\":null,\"column_names\":[\"label\",\"line_color\",\"height\",\"line_alpha\",\"fill_alpha\",\"width\",\"color\",\"x\",\"y\"],\"data\":{\"chart_index\":[\"(942.800000, 1019.700000]\"],\"color\":[\"LightSlateGray\"],\"fill_alpha\":[0.8],\"height\":[0.0],\"label\":[\"(942.800000, 1019.700000]\"],\"line_alpha\":[1.0],\"line_color\":[\"black\"],\"width\":[76.89999999999998],\"x\":[\"981.25\"],\"y\":[0.0]}},\"id\":\"015ed28d-9946-4ba8-a43b-3f8aba571395\",\"type\":\"ColumnDataSource\"},{\"attributes\":{\"callback\":null,\"column_names\":[\"label\",\"line_color\",\"height\",\"line_alpha\",\"fill_alpha\",\"width\",\"color\",\"x\",\"y\"],\"data\":{\"chart_index\":[\"(865.900000, 942.800000]\"],\"color\":[\"LightSlateGray\"],\"fill_alpha\":[0.8],\"height\":[0.0],\"label\":[\"(865.900000, 942.800000]\"],\"line_alpha\":[1.0],\"line_color\":[\"black\"],\"width\":[76.89999999999998],\"x\":[\"904.3499999999999\"],\"y\":[0.0]}},\"id\":\"47033adb-bbcb-4eb5-8729-57d6912187a1\",\"type\":\"ColumnDataSource\"},{\"attributes\":{\"data_source\":{\"id\":\"7c697c7e-3945-473c-86eb-47e2d520dfcd\",\"type\":\"ColumnDataSource\"},\"glyph\":{\"id\":\"a909e249-3366-40bf-a57e-b9af7211dc1f\",\"type\":\"Rect\"},\"hover_glyph\":null,\"nonselection_glyph\":null,\"selection_glyph\":null},\"id\":\"07a7dc4e-6ff5-4036-8899-2593d4c6f32c\",\"type\":\"GlyphRenderer\"},{\"attributes\":{\"fill_alpha\":{\"field\":\"fill_alpha\"},\"fill_color\":{\"field\":\"color\"},\"height\":{\"field\":\"height\",\"units\":\"data\"},\"line_color\":{\"field\":\"line_color\"},\"width\":{\"field\":\"width\",\"units\":\"data\"},\"x\":{\"field\":\"x\"},\"y\":{\"field\":\"y\"}},\"id\":\"b6129a46-fb33-419d-84c7-dd0c7cbd556c\",\"type\":\"Rect\"},{\"attributes\":{\"fill_alpha\":{\"field\":\"fill_alpha\"},\"fill_color\":{\"field\":\"color\"},\"height\":{\"field\":\"height\",\"units\":\"data\"},\"line_color\":{\"field\":\"line_color\"},\"width\":{\"field\":\"width\",\"units\":\"data\"},\"x\":{\"field\":\"x\"},\"y\":{\"field\":\"y\"}},\"id\":\"0b80655c-c542-4433-bb50-f133a2b27331\",\"type\":\"Rect\"},{\"attributes\":{\"fill_alpha\":{\"field\":\"fill_alpha\"},\"fill_color\":{\"field\":\"color\"},\"height\":{\"field\":\"height\",\"units\":\"data\"},\"line_color\":{\"field\":\"line_color\"},\"width\":{\"field\":\"width\",\"units\":\"data\"},\"x\":{\"field\":\"x\"},\"y\":{\"field\":\"y\"}},\"id\":\"5b7a755f-c44f-46c8-9eb4-466cc37419d3\",\"type\":\"Rect\"},{\"attributes\":{\"plot\":{\"id\":\"4a9bce27-ef51-401c-9c39-b413feba78c3\",\"subtype\":\"Chart\",\"type\":\"Plot\"}},\"id\":\"df534f63-d132-4fe7-80ac-e8049da9b55a\",\"type\":\"HelpTool\"},{\"attributes\":{\"fill_alpha\":{\"field\":\"fill_alpha\"},\"fill_color\":{\"field\":\"color\"},\"height\":{\"field\":\"height\",\"units\":\"data\"},\"line_color\":{\"field\":\"line_color\"},\"width\":{\"field\":\"width\",\"units\":\"data\"},\"x\":{\"field\":\"x\"},\"y\":{\"field\":\"y\"}},\"id\":\"a909e249-3366-40bf-a57e-b9af7211dc1f\",\"type\":\"Rect\"},{\"attributes\":{\"callback\":null,\"column_names\":[\"label\",\"line_color\",\"height\",\"line_alpha\",\"fill_alpha\",\"width\",\"color\",\"x\",\"y\"],\"data\":{\"chart_index\":[\"(1634.900000, 1711.800000]\"],\"color\":[\"LightSlateGray\"],\"fill_alpha\":[0.8],\"height\":[0.0],\"label\":[\"(1634.900000, 1711.800000]\"],\"line_alpha\":[1.0],\"line_color\":[\"black\"],\"width\":[76.90000000000009],\"x\":[\"1673.35\"],\"y\":[0.0]}},\"id\":\"d65e8059-c036-479a-8932-09a6cdedf873\",\"type\":\"ColumnDataSource\"},{\"attributes\":{\"callback\":null,\"column_names\":[\"label\",\"line_color\",\"height\",\"line_alpha\",\"fill_alpha\",\"width\",\"color\",\"x\",\"y\"],\"data\":{\"chart_index\":[\"(558.300000, 635.200000]\"],\"color\":[\"LightSlateGray\"],\"fill_alpha\":[0.8],\"height\":[0.0],\"label\":[\"(558.300000, 635.200000]\"],\"line_alpha\":[1.0],\"line_color\":[\"black\"],\"width\":[76.89999999999998],\"x\":[\"596.75\"],\"y\":[0.0]}},\"id\":\"bdea2b74-737d-4174-be03-8b483bdcb452\",\"type\":\"ColumnDataSource\"},{\"attributes\":{\"callback\":null,\"end\":653.4000000000001},\"id\":\"5b4d638f-8e8c-4583-a3ff-4fcfb75a04b2\",\"type\":\"Range1d\"},{\"attributes\":{\"fill_alpha\":{\"field\":\"fill_alpha\"},\"fill_color\":{\"field\":\"color\"},\"height\":{\"field\":\"height\",\"units\":\"data\"},\"line_color\":{\"field\":\"line_color\"},\"width\":{\"field\":\"width\",\"units\":\"data\"},\"x\":{\"field\":\"x\"},\"y\":{\"field\":\"y\"}},\"id\":\"4324cf1d-1610-422f-a24a-c2e058517465\",\"type\":\"Rect\"},{\"attributes\":{\"fill_alpha\":{\"field\":\"fill_alpha\"},\"fill_color\":{\"field\":\"color\"},\"height\":{\"field\":\"height\",\"units\":\"data\"},\"line_color\":{\"field\":\"line_color\"},\"width\":{\"field\":\"width\",\"units\":\"data\"},\"x\":{\"field\":\"x\"},\"y\":{\"field\":\"y\"}},\"id\":\"7d3584a5-41ac-4155-9e4e-98ac5f99ea8c\",\"type\":\"Rect\"}],\"root_ids\":[\"4a9bce27-ef51-401c-9c39-b413feba78c3\"]},\"title\":\"Bokeh Application\",\"version\":\"0.12.4\"}};\n",
       "            var render_items = [{\"docid\":\"59ce6e23-bcbf-4895-bc18-e1ef0428580c\",\"elementid\":\"915c8337-ea85-46b2-93ce-4e00ccf5d347\",\"modelid\":\"4a9bce27-ef51-401c-9c39-b413feba78c3\"}];\n",
       "            \n",
       "            Bokeh.embed.embed_items(docs_json, render_items);\n",
       "          };\n",
       "          if (document.readyState != \"loading\") fn();\n",
       "          else document.addEventListener(\"DOMContentLoaded\", fn);\n",
       "        })();\n",
       "      },\n",
       "      function(Bokeh) {\n",
       "      }\n",
       "    ];\n",
       "  \n",
       "    function run_inline_js() {\n",
       "      \n",
       "      if ((window.Bokeh !== undefined) || (force === true)) {\n",
       "        for (var i = 0; i < inline_js.length; i++) {\n",
       "          inline_js[i](window.Bokeh);\n",
       "        }if (force === true) {\n",
       "          display_loaded();\n",
       "        }} else if (Date.now() < window._bokeh_timeout) {\n",
       "        setTimeout(run_inline_js, 100);\n",
       "      } else if (!window._bokeh_failed_load) {\n",
       "        console.log(\"Bokeh: BokehJS failed to load within specified timeout.\");\n",
       "        window._bokeh_failed_load = true;\n",
       "      } else if (force !== true) {\n",
       "        var cell = $(document.getElementById(\"915c8337-ea85-46b2-93ce-4e00ccf5d347\")).parents('.cell').data().cell;\n",
       "        cell.output_area.append_execute_result(NB_LOAD_WARNING)\n",
       "      }\n",
       "  \n",
       "    }\n",
       "  \n",
       "    if (window._bokeh_is_loading === 0) {\n",
       "      console.log(\"Bokeh: BokehJS loaded, going straight to plotting\");\n",
       "      run_inline_js();\n",
       "    } else {\n",
       "      load_libs(js_urls, function() {\n",
       "        console.log(\"Bokeh: BokehJS plotting callback run at\", now());\n",
       "        run_inline_js();\n",
       "      });\n",
       "    }\n",
       "  }(this));\n",
       "</script>"
      ]
     },
     "metadata": {},
     "output_type": "display_data"
    }
   ],
   "source": [
    "# Plot the counts of each predicted probability for Het Var events\n",
    "p = figure()\n",
    "p = Histogram(X_homVar_least, values='Size', title='Homozygous Variant: Predict Proba < 0.3', color='LightSlateGray', bins=30, xlabel=\"Size(bp)\", ylabel=\"Frequency\")\n",
    "output_file(\"250bp_HomVar_PredProb0.3-.html\")\n",
    "show(p)"
   ]
  },
  {
   "cell_type": "code",
   "execution_count": 169,
   "metadata": {},
   "outputs": [
    {
     "name": "stderr",
     "output_type": "stream",
     "text": [
      "/Users/lmc2/anaconda/envs/NIHFAES/lib/python3.5/site-packages/ipykernel/__main__.py:3: SettingWithCopyWarning:\n",
      "\n",
      "\n",
      "A value is trying to be set on a copy of a slice from a DataFrame.\n",
      "Try using .loc[row_indexer,col_indexer] = value instead\n",
      "\n",
      "See the caveats in the documentation: http://pandas.pydata.org/pandas-docs/stable/indexing.html#indexing-view-versus-copy\n",
      "\n"
     ]
    }
   ],
   "source": [
    "X6['Het_Var_str'] = X6['Het_Var'].astype(str)\n",
    "X_hetVar_least = X6[(X6['Het_Var'] == 0.3) | (X6['Het_Var'] == 0.2) | (X6['Het_Var'] == 0.1)]\n",
    "X_hetVar_least['Size'] = HG002_pred_2['Size'].abs()"
   ]
  },
  {
   "cell_type": "code",
   "execution_count": 170,
   "metadata": {},
   "outputs": [
    {
     "data": {
      "text/html": [
       "\n",
       "\n",
       "    <div class=\"bk-root\">\n",
       "        <div class=\"bk-plotdiv\" id=\"0ceee280-a162-4556-9afe-b3c90a32de7d\"></div>\n",
       "    </div>\n",
       "<script type=\"text/javascript\">\n",
       "  \n",
       "  (function(global) {\n",
       "    function now() {\n",
       "      return new Date();\n",
       "    }\n",
       "  \n",
       "    var force = false;\n",
       "  \n",
       "    if (typeof (window._bokeh_onload_callbacks) === \"undefined\" || force === true) {\n",
       "      window._bokeh_onload_callbacks = [];\n",
       "      window._bokeh_is_loading = undefined;\n",
       "    }\n",
       "  \n",
       "  \n",
       "    \n",
       "    if (typeof (window._bokeh_timeout) === \"undefined\" || force === true) {\n",
       "      window._bokeh_timeout = Date.now() + 0;\n",
       "      window._bokeh_failed_load = false;\n",
       "    }\n",
       "  \n",
       "    var NB_LOAD_WARNING = {'data': {'text/html':\n",
       "       \"<div style='background-color: #fdd'>\\n\"+\n",
       "       \"<p>\\n\"+\n",
       "       \"BokehJS does not appear to have successfully loaded. If loading BokehJS from CDN, this \\n\"+\n",
       "       \"may be due to a slow or bad network connection. Possible fixes:\\n\"+\n",
       "       \"</p>\\n\"+\n",
       "       \"<ul>\\n\"+\n",
       "       \"<li>re-rerun `output_notebook()` to attempt to load from CDN again, or</li>\\n\"+\n",
       "       \"<li>use INLINE resources instead, as so:</li>\\n\"+\n",
       "       \"</ul>\\n\"+\n",
       "       \"<code>\\n\"+\n",
       "       \"from bokeh.resources import INLINE\\n\"+\n",
       "       \"output_notebook(resources=INLINE)\\n\"+\n",
       "       \"</code>\\n\"+\n",
       "       \"</div>\"}};\n",
       "  \n",
       "    function display_loaded() {\n",
       "      if (window.Bokeh !== undefined) {\n",
       "        document.getElementById(\"0ceee280-a162-4556-9afe-b3c90a32de7d\").textContent = \"BokehJS successfully loaded.\";\n",
       "      } else if (Date.now() < window._bokeh_timeout) {\n",
       "        setTimeout(display_loaded, 100)\n",
       "      }\n",
       "    }\n",
       "  \n",
       "    function run_callbacks() {\n",
       "      window._bokeh_onload_callbacks.forEach(function(callback) { callback() });\n",
       "      delete window._bokeh_onload_callbacks\n",
       "      console.info(\"Bokeh: all callbacks have finished\");\n",
       "    }\n",
       "  \n",
       "    function load_libs(js_urls, callback) {\n",
       "      window._bokeh_onload_callbacks.push(callback);\n",
       "      if (window._bokeh_is_loading > 0) {\n",
       "        console.log(\"Bokeh: BokehJS is being loaded, scheduling callback at\", now());\n",
       "        return null;\n",
       "      }\n",
       "      if (js_urls == null || js_urls.length === 0) {\n",
       "        run_callbacks();\n",
       "        return null;\n",
       "      }\n",
       "      console.log(\"Bokeh: BokehJS not loaded, scheduling load and callback at\", now());\n",
       "      window._bokeh_is_loading = js_urls.length;\n",
       "      for (var i = 0; i < js_urls.length; i++) {\n",
       "        var url = js_urls[i];\n",
       "        var s = document.createElement('script');\n",
       "        s.src = url;\n",
       "        s.async = false;\n",
       "        s.onreadystatechange = s.onload = function() {\n",
       "          window._bokeh_is_loading--;\n",
       "          if (window._bokeh_is_loading === 0) {\n",
       "            console.log(\"Bokeh: all BokehJS libraries loaded\");\n",
       "            run_callbacks()\n",
       "          }\n",
       "        };\n",
       "        s.onerror = function() {\n",
       "          console.warn(\"failed to load library \" + url);\n",
       "        };\n",
       "        console.log(\"Bokeh: injecting script tag for BokehJS library: \", url);\n",
       "        document.getElementsByTagName(\"head\")[0].appendChild(s);\n",
       "      }\n",
       "    };var element = document.getElementById(\"0ceee280-a162-4556-9afe-b3c90a32de7d\");\n",
       "    if (element == null) {\n",
       "      console.log(\"Bokeh: ERROR: autoload.js configured with elementid '0ceee280-a162-4556-9afe-b3c90a32de7d' but no matching script tag was found. \")\n",
       "      return false;\n",
       "    }\n",
       "  \n",
       "    var js_urls = [];\n",
       "  \n",
       "    var inline_js = [\n",
       "      function(Bokeh) {\n",
       "        (function() {\n",
       "          var fn = function() {\n",
       "            var docs_json = {\"be41d4e7-f15c-48d1-8630-3f00d88b7658\":{\"roots\":{\"references\":[{\"attributes\":{\"plot\":{\"id\":\"548062fb-c42d-4917-9a7c-c7ae97784677\",\"subtype\":\"Chart\",\"type\":\"Plot\"}},\"id\":\"d9851cfd-d27a-4e84-9513-e64ea4680b13\",\"type\":\"PanTool\"},{\"attributes\":{\"plot\":null,\"text\":\"Heterozygous Variant: Predict Proba < 0.3\"},\"id\":\"aafd4847-7e25-40fc-b892-35ad38e5e160\",\"type\":\"Title\"},{\"attributes\":{\"fill_alpha\":{\"field\":\"fill_alpha\"},\"fill_color\":{\"field\":\"color\"},\"height\":{\"field\":\"height\",\"units\":\"data\"},\"line_color\":{\"field\":\"line_color\"},\"width\":{\"field\":\"width\",\"units\":\"data\"},\"x\":{\"field\":\"x\"},\"y\":{\"field\":\"y\"}},\"id\":\"8605fec2-6b6d-4ea1-a547-e892814f2ace\",\"type\":\"Rect\"},{\"attributes\":{\"callback\":null,\"column_names\":[\"label\",\"line_color\",\"height\",\"line_alpha\",\"fill_alpha\",\"width\",\"color\",\"x\",\"y\"],\"data\":{\"chart_index\":[\"(3266.933333, 3469.866667]\"],\"color\":[\"LightSlateGray\"],\"fill_alpha\":[0.8],\"height\":[0.0],\"label\":[\"(3266.933333, 3469.866667]\"],\"line_alpha\":[1.0],\"line_color\":[\"black\"],\"width\":[202.9333333333334],\"x\":[\"3368.3999999999996\"],\"y\":[0.0]}},\"id\":\"db4425ca-0597-4548-8111-fcfeee07cce5\",\"type\":\"ColumnDataSource\"},{\"attributes\":{\"callback\":null,\"column_names\":[\"label\",\"line_color\",\"height\",\"line_alpha\",\"fill_alpha\",\"width\",\"color\",\"x\",\"y\"],\"data\":{\"chart_index\":[\"(4078.666667, 4281.600000]\"],\"color\":[\"LightSlateGray\"],\"fill_alpha\":[0.8],\"height\":[3.0],\"label\":[\"(4078.666667, 4281.600000]\"],\"line_alpha\":[1.0],\"line_color\":[\"black\"],\"width\":[202.9333333333334],\"x\":[\"4180.1333335\"],\"y\":[1.5]}},\"id\":\"920ab1d4-12c6-46e5-a6e8-6c850e6d0d18\",\"type\":\"ColumnDataSource\"},{\"attributes\":{\"data_source\":{\"id\":\"00ec0a85-3db6-404a-9679-275d477dbc7c\",\"type\":\"ColumnDataSource\"},\"glyph\":{\"id\":\"5eaa8e02-67f4-4658-9e80-c2e36a004fe7\",\"type\":\"Rect\"},\"hover_glyph\":null,\"nonselection_glyph\":null,\"selection_glyph\":null},\"id\":\"98f28647-c1e6-44fb-819e-824887e9b2ed\",\"type\":\"GlyphRenderer\"},{\"attributes\":{\"data_source\":{\"id\":\"5d481f9a-1fa0-44eb-aabd-e3054088c206\",\"type\":\"ColumnDataSource\"},\"glyph\":{\"id\":\"80d602ac-3552-495c-9d70-d6416ec2dc84\",\"type\":\"Rect\"},\"hover_glyph\":null,\"nonselection_glyph\":null,\"selection_glyph\":null},\"id\":\"29ada86c-c5e8-4ce5-bddb-f94166b42954\",\"type\":\"GlyphRenderer\"},{\"attributes\":{\"fill_alpha\":{\"field\":\"fill_alpha\"},\"fill_color\":{\"field\":\"color\"},\"height\":{\"field\":\"height\",\"units\":\"data\"},\"line_color\":{\"field\":\"line_color\"},\"width\":{\"field\":\"width\",\"units\":\"data\"},\"x\":{\"field\":\"x\"},\"y\":{\"field\":\"y\"}},\"id\":\"d96fe4ed-62ba-46ef-9944-6a9c1538723a\",\"type\":\"Rect\"},{\"attributes\":{},\"id\":\"21d0336d-3a18-4d5a-9b55-7cd1ca016079\",\"type\":\"ToolEvents\"},{\"attributes\":{\"data_source\":{\"id\":\"494ee8db-0f6c-424c-add8-f6649c5a34b4\",\"type\":\"ColumnDataSource\"},\"glyph\":{\"id\":\"8605fec2-6b6d-4ea1-a547-e892814f2ace\",\"type\":\"Rect\"},\"hover_glyph\":null,\"nonselection_glyph\":null,\"selection_glyph\":null},\"id\":\"651f56da-dc18-448c-8a52-485c60da993c\",\"type\":\"GlyphRenderer\"},{\"attributes\":{\"bottom_units\":\"screen\",\"fill_alpha\":{\"value\":0.5},\"fill_color\":{\"value\":\"lightgrey\"},\"left_units\":\"screen\",\"level\":\"overlay\",\"line_alpha\":{\"value\":1.0},\"line_color\":{\"value\":\"black\"},\"line_dash\":[4,4],\"line_width\":{\"value\":2},\"plot\":null,\"render_mode\":\"css\",\"right_units\":\"screen\",\"top_units\":\"screen\"},\"id\":\"d4ec08f7-5f6a-4f90-8623-a278f83205ac\",\"type\":\"BoxAnnotation\"},{\"attributes\":{\"fill_alpha\":{\"field\":\"fill_alpha\"},\"fill_color\":{\"field\":\"color\"},\"height\":{\"field\":\"height\",\"units\":\"data\"},\"line_color\":{\"field\":\"line_color\"},\"width\":{\"field\":\"width\",\"units\":\"data\"},\"x\":{\"field\":\"x\"},\"y\":{\"field\":\"y\"}},\"id\":\"d8ef66b2-026e-4c05-9669-122cb982573d\",\"type\":\"Rect\"},{\"attributes\":{\"location\":\"top_left\",\"plot\":{\"id\":\"548062fb-c42d-4917-9a7c-c7ae97784677\",\"subtype\":\"Chart\",\"type\":\"Plot\"}},\"id\":\"1f88e7ee-4272-44f8-9aa0-7710dac243e0\",\"type\":\"Legend\"},{\"attributes\":{},\"id\":\"490af0d5-ca97-42dc-b43b-c7712e849a53\",\"type\":\"BasicTicker\"},{\"attributes\":{\"fill_alpha\":{\"field\":\"fill_alpha\"},\"fill_color\":{\"field\":\"color\"},\"height\":{\"field\":\"height\",\"units\":\"data\"},\"line_color\":{\"field\":\"line_color\"},\"width\":{\"field\":\"width\",\"units\":\"data\"},\"x\":{\"field\":\"x\"},\"y\":{\"field\":\"y\"}},\"id\":\"d0023ef5-f176-49ec-bef7-65f93b4b256d\",\"type\":\"Rect\"},{\"attributes\":{\"data_source\":{\"id\":\"6f1725c0-9cca-4f95-b6cf-f37680bdeb3b\",\"type\":\"ColumnDataSource\"},\"glyph\":{\"id\":\"d96fe4ed-62ba-46ef-9944-6a9c1538723a\",\"type\":\"Rect\"},\"hover_glyph\":null,\"nonselection_glyph\":null,\"selection_glyph\":null},\"id\":\"5e3d889d-9f85-44c3-9eb3-bac01662a261\",\"type\":\"GlyphRenderer\"},{\"attributes\":{\"fill_alpha\":{\"field\":\"fill_alpha\"},\"fill_color\":{\"field\":\"color\"},\"height\":{\"field\":\"height\",\"units\":\"data\"},\"line_color\":{\"field\":\"line_color\"},\"width\":{\"field\":\"width\",\"units\":\"data\"},\"x\":{\"field\":\"x\"},\"y\":{\"field\":\"y\"}},\"id\":\"2c8363a8-cc26-46aa-a8f6-0ced22ba5804\",\"type\":\"Rect\"},{\"attributes\":{\"fill_alpha\":{\"field\":\"fill_alpha\"},\"fill_color\":{\"field\":\"color\"},\"height\":{\"field\":\"height\",\"units\":\"data\"},\"line_color\":{\"field\":\"line_color\"},\"width\":{\"field\":\"width\",\"units\":\"data\"},\"x\":{\"field\":\"x\"},\"y\":{\"field\":\"y\"}},\"id\":\"2907c204-40cb-4d4e-a664-0cec76042981\",\"type\":\"Rect\"},{\"attributes\":{\"fill_alpha\":{\"field\":\"fill_alpha\"},\"fill_color\":{\"field\":\"color\"},\"height\":{\"field\":\"height\",\"units\":\"data\"},\"line_color\":{\"field\":\"line_color\"},\"width\":{\"field\":\"width\",\"units\":\"data\"},\"x\":{\"field\":\"x\"},\"y\":{\"field\":\"y\"}},\"id\":\"799adc97-9784-4601-b9e8-9d448078a565\",\"type\":\"Rect\"},{\"attributes\":{\"callback\":null,\"column_names\":[\"label\",\"line_color\",\"height\",\"line_alpha\",\"fill_alpha\",\"width\",\"color\",\"x\",\"y\"],\"data\":{\"chart_index\":[\"(2252.266667, 2455.200000]\"],\"color\":[\"LightSlateGray\"],\"fill_alpha\":[0.8],\"height\":[1.0],\"label\":[\"(2252.266667, 2455.200000]\"],\"line_alpha\":[1.0],\"line_color\":[\"black\"],\"width\":[202.93333333333294],\"x\":[\"2353.7333335\"],\"y\":[0.5]}},\"id\":\"a5dd8ce6-6192-4d1f-bbaa-b7d22d715d9c\",\"type\":\"ColumnDataSource\"},{\"attributes\":{\"callback\":null,\"column_names\":[\"label\",\"line_color\",\"height\",\"line_alpha\",\"fill_alpha\",\"width\",\"color\",\"x\",\"y\"],\"data\":{\"chart_index\":[\"(5905.066667, 6108.000000]\"],\"color\":[\"LightSlateGray\"],\"fill_alpha\":[0.8],\"height\":[4.0],\"label\":[\"(5905.066667, 6108.000000]\"],\"line_alpha\":[1.0],\"line_color\":[\"black\"],\"width\":[202.9333333333334],\"x\":[\"6006.5333335\"],\"y\":[2.0]}},\"id\":\"9d34367b-a02b-46d8-8440-7ba875097c67\",\"type\":\"ColumnDataSource\"},{\"attributes\":{\"callback\":null,\"column_names\":[\"label\",\"line_color\",\"height\",\"line_alpha\",\"fill_alpha\",\"width\",\"color\",\"x\",\"y\"],\"data\":{\"chart_index\":[\"[20.000000, 222.933333]\"],\"color\":[\"LightSlateGray\"],\"fill_alpha\":[0.8],\"height\":[193.0],\"label\":[\"[20.000000, 222.933333]\"],\"line_alpha\":[1.0],\"line_color\":[\"black\"],\"width\":[202.93333333333334],\"x\":[\"121.4666665\"],\"y\":[96.5]}},\"id\":\"897419e1-b298-4335-a952-743b5db37539\",\"type\":\"ColumnDataSource\"},{\"attributes\":{\"callback\":null,\"column_names\":[\"label\",\"line_color\",\"height\",\"line_alpha\",\"fill_alpha\",\"width\",\"color\",\"x\",\"y\"],\"data\":{\"chart_index\":[\"(3469.866667, 3672.800000]\"],\"color\":[\"LightSlateGray\"],\"fill_alpha\":[0.8],\"height\":[1.0],\"label\":[\"(3469.866667, 3672.800000]\"],\"line_alpha\":[1.0],\"line_color\":[\"black\"],\"width\":[202.9333333333334],\"x\":[\"3571.3333334999998\"],\"y\":[0.5]}},\"id\":\"45b183f6-c6d6-4929-89fc-e2cf1298e4a5\",\"type\":\"ColumnDataSource\"},{\"attributes\":{\"callback\":null,\"column_names\":[\"label\",\"line_color\",\"height\",\"line_alpha\",\"fill_alpha\",\"width\",\"color\",\"x\",\"y\"],\"data\":{\"chart_index\":[\"(3672.800000, 3875.733333]\"],\"color\":[\"LightSlateGray\"],\"fill_alpha\":[0.8],\"height\":[0.0],\"label\":[\"(3672.800000, 3875.733333]\"],\"line_alpha\":[1.0],\"line_color\":[\"black\"],\"width\":[202.9333333333334],\"x\":[\"3774.2666665\"],\"y\":[0.0]}},\"id\":\"d9b9da27-8705-4815-afa0-daf13b69a42f\",\"type\":\"ColumnDataSource\"},{\"attributes\":{\"data_source\":{\"id\":\"dedec5fb-b2b0-427d-af12-ef3bddfc2814\",\"type\":\"ColumnDataSource\"},\"glyph\":{\"id\":\"0b3a210e-256d-4434-819e-7777114e05dd\",\"type\":\"Rect\"},\"hover_glyph\":null,\"nonselection_glyph\":null,\"selection_glyph\":null},\"id\":\"dd9b5b1c-34c0-427b-8c62-09b9875648e8\",\"type\":\"GlyphRenderer\"},{\"attributes\":{\"dimension\":1,\"plot\":{\"id\":\"548062fb-c42d-4917-9a7c-c7ae97784677\",\"subtype\":\"Chart\",\"type\":\"Plot\"},\"ticker\":{\"id\":\"7da07ebe-67d7-4b71-a92b-7502745f4129\",\"type\":\"BasicTicker\"}},\"id\":\"b6f6705d-8492-495b-bffe-6f5ab9c87a4c\",\"type\":\"Grid\"},{\"attributes\":{\"data_source\":{\"id\":\"482c65dc-5df5-4b21-a702-f17085dd8f83\",\"type\":\"ColumnDataSource\"},\"glyph\":{\"id\":\"5451d0bd-3fd6-4219-be40-82cc0b2afbe0\",\"type\":\"Rect\"},\"hover_glyph\":null,\"nonselection_glyph\":null,\"selection_glyph\":null},\"id\":\"24ba1a43-4e03-4c5f-86b3-738460377dd2\",\"type\":\"GlyphRenderer\"},{\"attributes\":{\"fill_alpha\":{\"field\":\"fill_alpha\"},\"fill_color\":{\"field\":\"color\"},\"height\":{\"field\":\"height\",\"units\":\"data\"},\"line_color\":{\"field\":\"line_color\"},\"width\":{\"field\":\"width\",\"units\":\"data\"},\"x\":{\"field\":\"x\"},\"y\":{\"field\":\"y\"}},\"id\":\"40188ed1-f82f-4ab0-aaa8-c33584abbd96\",\"type\":\"Rect\"},{\"attributes\":{\"data_source\":{\"id\":\"afce2a41-ac9c-46cd-9165-a1b77c24cd07\",\"type\":\"ColumnDataSource\"},\"glyph\":{\"id\":\"40188ed1-f82f-4ab0-aaa8-c33584abbd96\",\"type\":\"Rect\"},\"hover_glyph\":null,\"nonselection_glyph\":null,\"selection_glyph\":null},\"id\":\"a1959368-2d46-4865-a362-cfcabd226fe4\",\"type\":\"GlyphRenderer\"},{\"attributes\":{\"callback\":null,\"column_names\":[\"label\",\"line_color\",\"height\",\"line_alpha\",\"fill_alpha\",\"width\",\"color\",\"x\",\"y\"],\"data\":{\"chart_index\":[\"(5296.266667, 5499.200000]\"],\"color\":[\"LightSlateGray\"],\"fill_alpha\":[0.8],\"height\":[0.0],\"label\":[\"(5296.266667, 5499.200000]\"],\"line_alpha\":[1.0],\"line_color\":[\"black\"],\"width\":[202.9333333333334],\"x\":[\"5397.7333335\"],\"y\":[0.0]}},\"id\":\"6f1725c0-9cca-4f95-b6cf-f37680bdeb3b\",\"type\":\"ColumnDataSource\"},{\"attributes\":{\"callback\":null,\"end\":212.3},\"id\":\"aaecb6f1-c025-413f-bdee-fb6ef323d575\",\"type\":\"Range1d\"},{\"attributes\":{\"plot\":{\"id\":\"548062fb-c42d-4917-9a7c-c7ae97784677\",\"subtype\":\"Chart\",\"type\":\"Plot\"}},\"id\":\"48e987f2-1707-4144-b2d8-17e562913076\",\"type\":\"SaveTool\"},{\"attributes\":{\"callback\":null,\"column_names\":[\"label\",\"line_color\",\"height\",\"line_alpha\",\"fill_alpha\",\"width\",\"color\",\"x\",\"y\"],\"data\":{\"chart_index\":[\"(4687.466667, 4890.400000]\"],\"color\":[\"LightSlateGray\"],\"fill_alpha\":[0.8],\"height\":[0.0],\"label\":[\"(4687.466667, 4890.400000]\"],\"line_alpha\":[1.0],\"line_color\":[\"black\"],\"width\":[202.93333333333248],\"x\":[\"4788.933333499999\"],\"y\":[0.0]}},\"id\":\"e9591cb7-8300-481f-bcb7-57157d8ea77c\",\"type\":\"ColumnDataSource\"},{\"attributes\":{\"data_source\":{\"id\":\"93201a2e-b42a-46a4-8940-da4b43111573\",\"type\":\"ColumnDataSource\"},\"glyph\":{\"id\":\"d8ef66b2-026e-4c05-9669-122cb982573d\",\"type\":\"Rect\"},\"hover_glyph\":null,\"nonselection_glyph\":null,\"selection_glyph\":null},\"id\":\"4ac84f7a-80e9-4598-8fe7-705feb69d4bf\",\"type\":\"GlyphRenderer\"},{\"attributes\":{\"callback\":null,\"column_names\":[\"label\",\"line_color\",\"height\",\"line_alpha\",\"fill_alpha\",\"width\",\"color\",\"x\",\"y\"],\"data\":{\"chart_index\":[\"(2658.133333, 2861.066667]\"],\"color\":[\"LightSlateGray\"],\"fill_alpha\":[0.8],\"height\":[0.0],\"label\":[\"(2658.133333, 2861.066667]\"],\"line_alpha\":[1.0],\"line_color\":[\"black\"],\"width\":[202.9333333333334],\"x\":[\"2759.6000000000004\"],\"y\":[0.0]}},\"id\":\"77a0b0b2-a309-4fa9-90b5-cba472796ca7\",\"type\":\"ColumnDataSource\"},{\"attributes\":{\"plot\":{\"id\":\"548062fb-c42d-4917-9a7c-c7ae97784677\",\"subtype\":\"Chart\",\"type\":\"Plot\"}},\"id\":\"17536885-81de-4cc6-a14c-90bd49b773a9\",\"type\":\"WheelZoomTool\"},{\"attributes\":{\"callback\":null,\"column_names\":[\"label\",\"line_color\",\"height\",\"line_alpha\",\"fill_alpha\",\"width\",\"color\",\"x\",\"y\"],\"data\":{\"chart_index\":[\"(222.933333, 425.866667]\"],\"color\":[\"LightSlateGray\"],\"fill_alpha\":[0.8],\"height\":[11.0],\"label\":[\"(222.933333, 425.866667]\"],\"line_alpha\":[1.0],\"line_color\":[\"black\"],\"width\":[202.93333333333334],\"x\":[\"324.4\"],\"y\":[5.5]}},\"id\":\"482c65dc-5df5-4b21-a702-f17085dd8f83\",\"type\":\"ColumnDataSource\"},{\"attributes\":{\"data_source\":{\"id\":\"5db05628-4d60-46d2-bf11-f93bd259c8e3\",\"type\":\"ColumnDataSource\"},\"glyph\":{\"id\":\"7a4d66ac-96f2-4c54-b7b4-eb7675926229\",\"type\":\"Rect\"},\"hover_glyph\":null,\"nonselection_glyph\":null,\"selection_glyph\":null},\"id\":\"404bc818-926d-498a-878f-ab06f30e9173\",\"type\":\"GlyphRenderer\"},{\"attributes\":{\"data_source\":{\"id\":\"d9b9da27-8705-4815-afa0-daf13b69a42f\",\"type\":\"ColumnDataSource\"},\"glyph\":{\"id\":\"e1076576-759a-4e90-bd58-692f9090fb9e\",\"type\":\"Rect\"},\"hover_glyph\":null,\"nonselection_glyph\":null,\"selection_glyph\":null},\"id\":\"7b877d0b-ec5e-4da6-8553-ab929b2dc2c9\",\"type\":\"GlyphRenderer\"},{\"attributes\":{\"callback\":null,\"column_names\":[\"label\",\"line_color\",\"height\",\"line_alpha\",\"fill_alpha\",\"width\",\"color\",\"x\",\"y\"],\"data\":{\"chart_index\":[\"(3875.733333, 4078.666667]\"],\"color\":[\"LightSlateGray\"],\"fill_alpha\":[0.8],\"height\":[0.0],\"label\":[\"(3875.733333, 4078.666667]\"],\"line_alpha\":[1.0],\"line_color\":[\"black\"],\"width\":[202.9333333333334],\"x\":[\"3977.2\"],\"y\":[0.0]}},\"id\":\"afce2a41-ac9c-46cd-9165-a1b77c24cd07\",\"type\":\"ColumnDataSource\"},{\"attributes\":{\"data_source\":{\"id\":\"994fb066-2832-4b61-b9d5-929960229de5\",\"type\":\"ColumnDataSource\"},\"glyph\":{\"id\":\"d9c49e3c-1811-45eb-a0a4-d41c8c49de0f\",\"type\":\"Rect\"},\"hover_glyph\":null,\"nonselection_glyph\":null,\"selection_glyph\":null},\"id\":\"a254938f-17ce-4d10-ba81-15f3d1d3515d\",\"type\":\"GlyphRenderer\"},{\"attributes\":{\"data_source\":{\"id\":\"3a79d9a8-5d0c-4e37-b633-35fb010e2525\",\"type\":\"ColumnDataSource\"},\"glyph\":{\"id\":\"125ac7cc-de14-4d31-8a15-6b35f678a120\",\"type\":\"Rect\"},\"hover_glyph\":null,\"nonselection_glyph\":null,\"selection_glyph\":null},\"id\":\"4754bc2f-cdef-40e0-ab3f-43da8df2f395\",\"type\":\"GlyphRenderer\"},{\"attributes\":{\"data_source\":{\"id\":\"7dc8ec62-9c3f-404c-9261-32c9ea4ba215\",\"type\":\"ColumnDataSource\"},\"glyph\":{\"id\":\"d0023ef5-f176-49ec-bef7-65f93b4b256d\",\"type\":\"Rect\"},\"hover_glyph\":null,\"nonselection_glyph\":null,\"selection_glyph\":null},\"id\":\"2e10b2e1-8136-4c6c-bdf8-7b79a688f53f\",\"type\":\"GlyphRenderer\"},{\"attributes\":{\"active_drag\":\"auto\",\"active_scroll\":\"auto\",\"active_tap\":\"auto\",\"tools\":[{\"id\":\"d9851cfd-d27a-4e84-9513-e64ea4680b13\",\"type\":\"PanTool\"},{\"id\":\"17536885-81de-4cc6-a14c-90bd49b773a9\",\"type\":\"WheelZoomTool\"},{\"id\":\"12135d33-ee5b-42f9-96be-676c2f85a37f\",\"type\":\"BoxZoomTool\"},{\"id\":\"48e987f2-1707-4144-b2d8-17e562913076\",\"type\":\"SaveTool\"},{\"id\":\"43327f56-5546-42d9-bf6f-e2a7acafc354\",\"type\":\"ResetTool\"},{\"id\":\"bd2c8c40-9814-4d12-bcbc-0cfa93d4f674\",\"type\":\"HelpTool\"}]},\"id\":\"f09c360d-27e0-479a-81f6-a56e5b74af08\",\"type\":\"Toolbar\"},{\"attributes\":{\"fill_alpha\":{\"field\":\"fill_alpha\"},\"fill_color\":{\"field\":\"color\"},\"height\":{\"field\":\"height\",\"units\":\"data\"},\"line_color\":{\"field\":\"line_color\"},\"width\":{\"field\":\"width\",\"units\":\"data\"},\"x\":{\"field\":\"x\"},\"y\":{\"field\":\"y\"}},\"id\":\"125ac7cc-de14-4d31-8a15-6b35f678a120\",\"type\":\"Rect\"},{\"attributes\":{\"overlay\":{\"id\":\"d4ec08f7-5f6a-4f90-8623-a278f83205ac\",\"type\":\"BoxAnnotation\"},\"plot\":{\"id\":\"548062fb-c42d-4917-9a7c-c7ae97784677\",\"subtype\":\"Chart\",\"type\":\"Plot\"}},\"id\":\"12135d33-ee5b-42f9-96be-676c2f85a37f\",\"type\":\"BoxZoomTool\"},{\"attributes\":{\"callback\":null,\"column_names\":[\"label\",\"line_color\",\"height\",\"line_alpha\",\"fill_alpha\",\"width\",\"color\",\"x\",\"y\"],\"data\":{\"chart_index\":[\"(5702.133333, 5905.066667]\"],\"color\":[\"LightSlateGray\"],\"fill_alpha\":[0.8],\"height\":[0.0],\"label\":[\"(5702.133333, 5905.066667]\"],\"line_alpha\":[1.0],\"line_color\":[\"black\"],\"width\":[202.9333333333334],\"x\":[\"5803.6\"],\"y\":[0.0]}},\"id\":\"63816139-8861-49d3-86d0-2aeece195c81\",\"type\":\"ColumnDataSource\"},{\"attributes\":{\"plot\":{\"id\":\"548062fb-c42d-4917-9a7c-c7ae97784677\",\"subtype\":\"Chart\",\"type\":\"Plot\"}},\"id\":\"bd2c8c40-9814-4d12-bcbc-0cfa93d4f674\",\"type\":\"HelpTool\"},{\"attributes\":{\"data_source\":{\"id\":\"90475dc6-59b5-4993-be24-406aa27fffbf\",\"type\":\"ColumnDataSource\"},\"glyph\":{\"id\":\"a8135fc5-3a0c-428e-824a-a9ca3d503617\",\"type\":\"Rect\"},\"hover_glyph\":null,\"nonselection_glyph\":null,\"selection_glyph\":null},\"id\":\"32ed74a7-0a29-4912-9d81-1cd969d6bfea\",\"type\":\"GlyphRenderer\"},{\"attributes\":{\"data_source\":{\"id\":\"a5dd8ce6-6192-4d1f-bbaa-b7d22d715d9c\",\"type\":\"ColumnDataSource\"},\"glyph\":{\"id\":\"36a0faf3-b061-4556-bde8-a9d70ccb7935\",\"type\":\"Rect\"},\"hover_glyph\":null,\"nonselection_glyph\":null,\"selection_glyph\":null},\"id\":\"06bb1c45-2cd0-4c9f-990b-b6d0c5f17e25\",\"type\":\"GlyphRenderer\"},{\"attributes\":{\"data_source\":{\"id\":\"5d899de7-b160-4f3c-8e2d-ab61cacb1a21\",\"type\":\"ColumnDataSource\"},\"glyph\":{\"id\":\"aeed305d-1c97-4e45-b30c-60e2d97d01a5\",\"type\":\"Rect\"},\"hover_glyph\":null,\"nonselection_glyph\":null,\"selection_glyph\":null},\"id\":\"cbd0212f-161f-4f8e-b4ed-baddf77204bd\",\"type\":\"GlyphRenderer\"},{\"attributes\":{\"fill_alpha\":{\"field\":\"fill_alpha\"},\"fill_color\":{\"field\":\"color\"},\"height\":{\"field\":\"height\",\"units\":\"data\"},\"line_color\":{\"field\":\"line_color\"},\"width\":{\"field\":\"width\",\"units\":\"data\"},\"x\":{\"field\":\"x\"},\"y\":{\"field\":\"y\"}},\"id\":\"d1d0386b-9075-45e0-bc61-6edf46911072\",\"type\":\"Rect\"},{\"attributes\":{\"fill_alpha\":{\"field\":\"fill_alpha\"},\"fill_color\":{\"field\":\"color\"},\"height\":{\"field\":\"height\",\"units\":\"data\"},\"line_color\":{\"field\":\"line_color\"},\"width\":{\"field\":\"width\",\"units\":\"data\"},\"x\":{\"field\":\"x\"},\"y\":{\"field\":\"y\"}},\"id\":\"d9c49e3c-1811-45eb-a0a4-d41c8c49de0f\",\"type\":\"Rect\"},{\"attributes\":{\"fill_alpha\":{\"field\":\"fill_alpha\"},\"fill_color\":{\"field\":\"color\"},\"height\":{\"field\":\"height\",\"units\":\"data\"},\"line_color\":{\"field\":\"line_color\"},\"width\":{\"field\":\"width\",\"units\":\"data\"},\"x\":{\"field\":\"x\"},\"y\":{\"field\":\"y\"}},\"id\":\"073173e0-3914-40d5-89c8-575e31cad52a\",\"type\":\"Rect\"},{\"attributes\":{\"data_source\":{\"id\":\"897419e1-b298-4335-a952-743b5db37539\",\"type\":\"ColumnDataSource\"},\"glyph\":{\"id\":\"31159fcb-2210-4dd0-a316-ee8c2fa517b1\",\"type\":\"Rect\"},\"hover_glyph\":null,\"nonselection_glyph\":null,\"selection_glyph\":null},\"id\":\"5471337d-bfda-4f86-aee0-e2a688d134cf\",\"type\":\"GlyphRenderer\"},{\"attributes\":{\"fill_alpha\":{\"field\":\"fill_alpha\"},\"fill_color\":{\"field\":\"color\"},\"height\":{\"field\":\"height\",\"units\":\"data\"},\"line_color\":{\"field\":\"line_color\"},\"width\":{\"field\":\"width\",\"units\":\"data\"},\"x\":{\"field\":\"x\"},\"y\":{\"field\":\"y\"}},\"id\":\"43a1b867-a173-494d-b332-aa36497c5be2\",\"type\":\"Rect\"},{\"attributes\":{\"callback\":null,\"column_names\":[\"label\",\"line_color\",\"height\",\"line_alpha\",\"fill_alpha\",\"width\",\"color\",\"x\",\"y\"],\"data\":{\"chart_index\":[\"(5499.200000, 5702.133333]\"],\"color\":[\"LightSlateGray\"],\"fill_alpha\":[0.8],\"height\":[0.0],\"label\":[\"(5499.200000, 5702.133333]\"],\"line_alpha\":[1.0],\"line_color\":[\"black\"],\"width\":[202.9333333333334],\"x\":[\"5600.666666499999\"],\"y\":[0.0]}},\"id\":\"ec3f9599-ab83-4247-b655-4bc92c4e749c\",\"type\":\"ColumnDataSource\"},{\"attributes\":{\"below\":[{\"id\":\"26f44853-d116-493b-aa18-81b15b27e238\",\"type\":\"LinearAxis\"}],\"css_classes\":null,\"left\":[{\"id\":\"d714e5f2-df2d-4d38-8eed-a9fc853e6fa9\",\"type\":\"LinearAxis\"}],\"renderers\":[{\"id\":\"d4ec08f7-5f6a-4f90-8623-a278f83205ac\",\"type\":\"BoxAnnotation\"},{\"id\":\"5471337d-bfda-4f86-aee0-e2a688d134cf\",\"type\":\"GlyphRenderer\"},{\"id\":\"24ba1a43-4e03-4c5f-86b3-738460377dd2\",\"type\":\"GlyphRenderer\"},{\"id\":\"4ac84f7a-80e9-4598-8fe7-705feb69d4bf\",\"type\":\"GlyphRenderer\"},{\"id\":\"5950733a-39e0-4af7-9bbe-d9b9e87e1d32\",\"type\":\"GlyphRenderer\"},{\"id\":\"d155663f-42ad-459d-9b85-8bc285bcf147\",\"type\":\"GlyphRenderer\"},{\"id\":\"4754bc2f-cdef-40e0-ab3f-43da8df2f395\",\"type\":\"GlyphRenderer\"},{\"id\":\"98f28647-c1e6-44fb-819e-824887e9b2ed\",\"type\":\"GlyphRenderer\"},{\"id\":\"553e1990-9bed-4345-88a9-9f5d30733b39\",\"type\":\"GlyphRenderer\"},{\"id\":\"a254938f-17ce-4d10-ba81-15f3d1d3515d\",\"type\":\"GlyphRenderer\"},{\"id\":\"29ada86c-c5e8-4ce5-bddb-f94166b42954\",\"type\":\"GlyphRenderer\"},{\"id\":\"cbd0212f-161f-4f8e-b4ed-baddf77204bd\",\"type\":\"GlyphRenderer\"},{\"id\":\"06bb1c45-2cd0-4c9f-990b-b6d0c5f17e25\",\"type\":\"GlyphRenderer\"},{\"id\":\"32ed74a7-0a29-4912-9d81-1cd969d6bfea\",\"type\":\"GlyphRenderer\"},{\"id\":\"8ba62d21-c6f8-4eba-9ee8-fc7d8ff75a46\",\"type\":\"GlyphRenderer\"},{\"id\":\"c282bf30-a374-4f46-b992-35875746d0a9\",\"type\":\"GlyphRenderer\"},{\"id\":\"404bc818-926d-498a-878f-ab06f30e9173\",\"type\":\"GlyphRenderer\"},{\"id\":\"b97d84b3-06f0-4bb0-a771-184f059fbd45\",\"type\":\"GlyphRenderer\"},{\"id\":\"e8be5462-2f0d-4f8e-95ff-974feaf2f30b\",\"type\":\"GlyphRenderer\"},{\"id\":\"7b877d0b-ec5e-4da6-8553-ab929b2dc2c9\",\"type\":\"GlyphRenderer\"},{\"id\":\"a1959368-2d46-4865-a362-cfcabd226fe4\",\"type\":\"GlyphRenderer\"},{\"id\":\"755bd3b3-8600-4cb2-943e-fa05fb0326cd\",\"type\":\"GlyphRenderer\"},{\"id\":\"dd9b5b1c-34c0-427b-8c62-09b9875648e8\",\"type\":\"GlyphRenderer\"},{\"id\":\"68c1ef2f-e512-4093-b415-f507ead18835\",\"type\":\"GlyphRenderer\"},{\"id\":\"5f8b18fb-56c1-40f1-b353-039ac99301ea\",\"type\":\"GlyphRenderer\"},{\"id\":\"2e10b2e1-8136-4c6c-bdf8-7b79a688f53f\",\"type\":\"GlyphRenderer\"},{\"id\":\"651f56da-dc18-448c-8a52-485c60da993c\",\"type\":\"GlyphRenderer\"},{\"id\":\"5e3d889d-9f85-44c3-9eb3-bac01662a261\",\"type\":\"GlyphRenderer\"},{\"id\":\"b1792f74-029d-4665-be09-5705f84cfda2\",\"type\":\"GlyphRenderer\"},{\"id\":\"c73ab9f2-af25-4b4a-a0fb-dd412890fe90\",\"type\":\"GlyphRenderer\"},{\"id\":\"09405574-ca46-44bc-8cf9-29fc8c26da2e\",\"type\":\"GlyphRenderer\"},{\"id\":\"1f88e7ee-4272-44f8-9aa0-7710dac243e0\",\"type\":\"Legend\"},{\"id\":\"26f44853-d116-493b-aa18-81b15b27e238\",\"type\":\"LinearAxis\"},{\"id\":\"d714e5f2-df2d-4d38-8eed-a9fc853e6fa9\",\"type\":\"LinearAxis\"},{\"id\":\"b6f6705d-8492-495b-bffe-6f5ab9c87a4c\",\"type\":\"Grid\"}],\"title\":{\"id\":\"aafd4847-7e25-40fc-b892-35ad38e5e160\",\"type\":\"Title\"},\"tool_events\":{\"id\":\"21d0336d-3a18-4d5a-9b55-7cd1ca016079\",\"type\":\"ToolEvents\"},\"toolbar\":{\"id\":\"f09c360d-27e0-479a-81f6-a56e5b74af08\",\"type\":\"Toolbar\"},\"x_mapper_type\":\"auto\",\"x_range\":{\"id\":\"bb9cb702-06a3-4c21-9fd1-dee57a9deab6\",\"type\":\"Range1d\"},\"y_mapper_type\":\"auto\",\"y_range\":{\"id\":\"aaecb6f1-c025-413f-bdee-fb6ef323d575\",\"type\":\"Range1d\"}},\"id\":\"548062fb-c42d-4917-9a7c-c7ae97784677\",\"subtype\":\"Chart\",\"type\":\"Plot\"},{\"attributes\":{\"callback\":null,\"column_names\":[\"label\",\"line_color\",\"height\",\"line_alpha\",\"fill_alpha\",\"width\",\"color\",\"x\",\"y\"],\"data\":{\"chart_index\":[\"(2455.200000, 2658.133333]\"],\"color\":[\"LightSlateGray\"],\"fill_alpha\":[0.8],\"height\":[1.0],\"label\":[\"(2455.200000, 2658.133333]\"],\"line_alpha\":[1.0],\"line_color\":[\"black\"],\"width\":[202.9333333333334],\"x\":[\"2556.6666665000002\"],\"y\":[0.5]}},\"id\":\"90475dc6-59b5-4993-be24-406aa27fffbf\",\"type\":\"ColumnDataSource\"},{\"attributes\":{\"fill_alpha\":{\"field\":\"fill_alpha\"},\"fill_color\":{\"field\":\"color\"},\"height\":{\"field\":\"height\",\"units\":\"data\"},\"line_color\":{\"field\":\"line_color\"},\"width\":{\"field\":\"width\",\"units\":\"data\"},\"x\":{\"field\":\"x\"},\"y\":{\"field\":\"y\"}},\"id\":\"adcc2b42-eba9-4c44-8de1-55119a879978\",\"type\":\"Rect\"},{\"attributes\":{\"callback\":null,\"column_names\":[\"label\",\"line_color\",\"height\",\"line_alpha\",\"fill_alpha\",\"width\",\"color\",\"x\",\"y\"],\"data\":{\"chart_index\":[\"(1440.533333, 1643.466667]\"],\"color\":[\"LightSlateGray\"],\"fill_alpha\":[0.8],\"height\":[2.0],\"label\":[\"(1440.533333, 1643.466667]\"],\"line_alpha\":[1.0],\"line_color\":[\"black\"],\"width\":[202.9333333333334],\"x\":[\"1542.0\"],\"y\":[1.0]}},\"id\":\"7b30408f-0964-41f1-8a89-d7298179643a\",\"type\":\"ColumnDataSource\"},{\"attributes\":{\"fill_alpha\":{\"field\":\"fill_alpha\"},\"fill_color\":{\"field\":\"color\"},\"height\":{\"field\":\"height\",\"units\":\"data\"},\"line_color\":{\"field\":\"line_color\"},\"width\":{\"field\":\"width\",\"units\":\"data\"},\"x\":{\"field\":\"x\"},\"y\":{\"field\":\"y\"}},\"id\":\"f65f2499-4aa0-451b-b92e-93983bb7cf65\",\"type\":\"Rect\"},{\"attributes\":{\"data_source\":{\"id\":\"9d34367b-a02b-46d8-8440-7ba875097c67\",\"type\":\"ColumnDataSource\"},\"glyph\":{\"id\":\"799adc97-9784-4601-b9e8-9d448078a565\",\"type\":\"Rect\"},\"hover_glyph\":null,\"nonselection_glyph\":null,\"selection_glyph\":null},\"id\":\"09405574-ca46-44bc-8cf9-29fc8c26da2e\",\"type\":\"GlyphRenderer\"},{\"attributes\":{\"fill_alpha\":{\"field\":\"fill_alpha\"},\"fill_color\":{\"field\":\"color\"},\"height\":{\"field\":\"height\",\"units\":\"data\"},\"line_color\":{\"field\":\"line_color\"},\"width\":{\"field\":\"width\",\"units\":\"data\"},\"x\":{\"field\":\"x\"},\"y\":{\"field\":\"y\"}},\"id\":\"aeed305d-1c97-4e45-b30c-60e2d97d01a5\",\"type\":\"Rect\"},{\"attributes\":{\"data_source\":{\"id\":\"1ef80a44-1299-4326-95a7-a850ca5b10da\",\"type\":\"ColumnDataSource\"},\"glyph\":{\"id\":\"43a1b867-a173-494d-b332-aa36497c5be2\",\"type\":\"Rect\"},\"hover_glyph\":null,\"nonselection_glyph\":null,\"selection_glyph\":null},\"id\":\"c282bf30-a374-4f46-b992-35875746d0a9\",\"type\":\"GlyphRenderer\"},{\"attributes\":{\"callback\":null,\"column_names\":[\"label\",\"line_color\",\"height\",\"line_alpha\",\"fill_alpha\",\"width\",\"color\",\"x\",\"y\"],\"data\":{\"chart_index\":[\"(1034.666667, 1237.600000]\"],\"color\":[\"LightSlateGray\"],\"fill_alpha\":[0.8],\"height\":[1.0],\"label\":[\"(1034.666667, 1237.600000]\"],\"line_alpha\":[1.0],\"line_color\":[\"black\"],\"width\":[202.93333333333317],\"x\":[\"1136.1333335\"],\"y\":[0.5]}},\"id\":\"3a79d9a8-5d0c-4e37-b633-35fb010e2525\",\"type\":\"ColumnDataSource\"},{\"attributes\":{\"data_source\":{\"id\":\"63816139-8861-49d3-86d0-2aeece195c81\",\"type\":\"ColumnDataSource\"},\"glyph\":{\"id\":\"adcc2b42-eba9-4c44-8de1-55119a879978\",\"type\":\"Rect\"},\"hover_glyph\":null,\"nonselection_glyph\":null,\"selection_glyph\":null},\"id\":\"c73ab9f2-af25-4b4a-a0fb-dd412890fe90\",\"type\":\"GlyphRenderer\"},{\"attributes\":{\"fill_alpha\":{\"field\":\"fill_alpha\"},\"fill_color\":{\"field\":\"color\"},\"height\":{\"field\":\"height\",\"units\":\"data\"},\"line_color\":{\"field\":\"line_color\"},\"width\":{\"field\":\"width\",\"units\":\"data\"},\"x\":{\"field\":\"x\"},\"y\":{\"field\":\"y\"}},\"id\":\"a85ed798-57f8-417a-a986-339de1678247\",\"type\":\"Rect\"},{\"attributes\":{\"data_source\":{\"id\":\"b566a5c8-17d6-4013-88a7-dfac5aa2ed86\",\"type\":\"ColumnDataSource\"},\"glyph\":{\"id\":\"685f1ce2-e9ac-4f80-91fa-6f9e1645b211\",\"type\":\"Rect\"},\"hover_glyph\":null,\"nonselection_glyph\":null,\"selection_glyph\":null},\"id\":\"5950733a-39e0-4af7-9bbe-d9b9e87e1d32\",\"type\":\"GlyphRenderer\"},{\"attributes\":{\"callback\":null,\"column_names\":[\"label\",\"line_color\",\"height\",\"line_alpha\",\"fill_alpha\",\"width\",\"color\",\"x\",\"y\"],\"data\":{\"chart_index\":[\"(4281.600000, 4484.533333]\"],\"color\":[\"LightSlateGray\"],\"fill_alpha\":[0.8],\"height\":[0.0],\"label\":[\"(4281.600000, 4484.533333]\"],\"line_alpha\":[1.0],\"line_color\":[\"black\"],\"width\":[202.9333333333334],\"x\":[\"4383.066666500001\"],\"y\":[0.0]}},\"id\":\"dedec5fb-b2b0-427d-af12-ef3bddfc2814\",\"type\":\"ColumnDataSource\"},{\"attributes\":{\"callback\":null,\"column_names\":[\"label\",\"line_color\",\"height\",\"line_alpha\",\"fill_alpha\",\"width\",\"color\",\"x\",\"y\"],\"data\":{\"chart_index\":[\"(5093.333333, 5296.266667]\"],\"color\":[\"LightSlateGray\"],\"fill_alpha\":[0.8],\"height\":[1.0],\"label\":[\"(5093.333333, 5296.266667]\"],\"line_alpha\":[1.0],\"line_color\":[\"black\"],\"width\":[202.9333333333334],\"x\":[\"5194.799999999999\"],\"y\":[0.5]}},\"id\":\"494ee8db-0f6c-424c-add8-f6649c5a34b4\",\"type\":\"ColumnDataSource\"},{\"attributes\":{\"fill_alpha\":{\"field\":\"fill_alpha\"},\"fill_color\":{\"field\":\"color\"},\"height\":{\"field\":\"height\",\"units\":\"data\"},\"line_color\":{\"field\":\"line_color\"},\"width\":{\"field\":\"width\",\"units\":\"data\"},\"x\":{\"field\":\"x\"},\"y\":{\"field\":\"y\"}},\"id\":\"36a0faf3-b061-4556-bde8-a9d70ccb7935\",\"type\":\"Rect\"},{\"attributes\":{\"data_source\":{\"id\":\"45b183f6-c6d6-4929-89fc-e2cf1298e4a5\",\"type\":\"ColumnDataSource\"},\"glyph\":{\"id\":\"f65f2499-4aa0-451b-b92e-93983bb7cf65\",\"type\":\"Rect\"},\"hover_glyph\":null,\"nonselection_glyph\":null,\"selection_glyph\":null},\"id\":\"e8be5462-2f0d-4f8e-95ff-974feaf2f30b\",\"type\":\"GlyphRenderer\"},{\"attributes\":{\"callback\":null,\"column_names\":[\"label\",\"line_color\",\"height\",\"line_alpha\",\"fill_alpha\",\"width\",\"color\",\"x\",\"y\"],\"data\":{\"chart_index\":[\"(3064.000000, 3266.933333]\"],\"color\":[\"LightSlateGray\"],\"fill_alpha\":[0.8],\"height\":[0.0],\"label\":[\"(3064.000000, 3266.933333]\"],\"line_alpha\":[1.0],\"line_color\":[\"black\"],\"width\":[202.9333333333334],\"x\":[\"3165.4666665\"],\"y\":[0.0]}},\"id\":\"5db05628-4d60-46d2-bf11-f93bd259c8e3\",\"type\":\"ColumnDataSource\"},{\"attributes\":{\"callback\":null,\"column_names\":[\"label\",\"line_color\",\"height\",\"line_alpha\",\"fill_alpha\",\"width\",\"color\",\"x\",\"y\"],\"data\":{\"chart_index\":[\"(425.866667, 628.800000]\"],\"color\":[\"LightSlateGray\"],\"fill_alpha\":[0.8],\"height\":[3.0],\"label\":[\"(425.866667, 628.800000]\"],\"line_alpha\":[1.0],\"line_color\":[\"black\"],\"width\":[202.93333333333328],\"x\":[\"527.3333335\"],\"y\":[1.5]}},\"id\":\"93201a2e-b42a-46a4-8940-da4b43111573\",\"type\":\"ColumnDataSource\"},{\"attributes\":{\"plot\":{\"id\":\"548062fb-c42d-4917-9a7c-c7ae97784677\",\"subtype\":\"Chart\",\"type\":\"Plot\"}},\"id\":\"43327f56-5546-42d9-bf6f-e2a7acafc354\",\"type\":\"ResetTool\"},{\"attributes\":{\"fill_alpha\":{\"field\":\"fill_alpha\"},\"fill_color\":{\"field\":\"color\"},\"height\":{\"field\":\"height\",\"units\":\"data\"},\"line_color\":{\"field\":\"line_color\"},\"width\":{\"field\":\"width\",\"units\":\"data\"},\"x\":{\"field\":\"x\"},\"y\":{\"field\":\"y\"}},\"id\":\"b99e2795-693c-41df-9a24-d0b35e8bbbed\",\"type\":\"Rect\"},{\"attributes\":{\"callback\":null,\"column_names\":[\"label\",\"line_color\",\"height\",\"line_alpha\",\"fill_alpha\",\"width\",\"color\",\"x\",\"y\"],\"data\":{\"chart_index\":[\"(1237.600000, 1440.533333]\"],\"color\":[\"LightSlateGray\"],\"fill_alpha\":[0.8],\"height\":[0.0],\"label\":[\"(1237.600000, 1440.533333]\"],\"line_alpha\":[1.0],\"line_color\":[\"black\"],\"width\":[202.9333333333334],\"x\":[\"1339.0666664999999\"],\"y\":[0.0]}},\"id\":\"00ec0a85-3db6-404a-9679-275d477dbc7c\",\"type\":\"ColumnDataSource\"},{\"attributes\":{\"data_source\":{\"id\":\"e9591cb7-8300-481f-bcb7-57157d8ea77c\",\"type\":\"ColumnDataSource\"},\"glyph\":{\"id\":\"a85ed798-57f8-417a-a986-339de1678247\",\"type\":\"Rect\"},\"hover_glyph\":null,\"nonselection_glyph\":null,\"selection_glyph\":null},\"id\":\"5f8b18fb-56c1-40f1-b353-039ac99301ea\",\"type\":\"GlyphRenderer\"},{\"attributes\":{\"data_source\":{\"id\":\"a0b59c06-ee87-4806-b41c-45f890f5cf2d\",\"type\":\"ColumnDataSource\"},\"glyph\":{\"id\":\"073173e0-3914-40d5-89c8-575e31cad52a\",\"type\":\"Rect\"},\"hover_glyph\":null,\"nonselection_glyph\":null,\"selection_glyph\":null},\"id\":\"d155663f-42ad-459d-9b85-8bc285bcf147\",\"type\":\"GlyphRenderer\"},{\"attributes\":{\"callback\":null,\"column_names\":[\"label\",\"line_color\",\"height\",\"line_alpha\",\"fill_alpha\",\"width\",\"color\",\"x\",\"y\"],\"data\":{\"chart_index\":[\"(4890.400000, 5093.333333]\"],\"color\":[\"LightSlateGray\"],\"fill_alpha\":[0.8],\"height\":[0.0],\"label\":[\"(4890.400000, 5093.333333]\"],\"line_alpha\":[1.0],\"line_color\":[\"black\"],\"width\":[202.9333333333334],\"x\":[\"4991.8666665\"],\"y\":[0.0]}},\"id\":\"7dc8ec62-9c3f-404c-9261-32c9ea4ba215\",\"type\":\"ColumnDataSource\"},{\"attributes\":{\"callback\":null,\"column_names\":[\"label\",\"line_color\",\"height\",\"line_alpha\",\"fill_alpha\",\"width\",\"color\",\"x\",\"y\"],\"data\":{\"chart_index\":[\"(2861.066667, 3064.000000]\"],\"color\":[\"LightSlateGray\"],\"fill_alpha\":[0.8],\"height\":[0.0],\"label\":[\"(2861.066667, 3064.000000]\"],\"line_alpha\":[1.0],\"line_color\":[\"black\"],\"width\":[202.9333333333334],\"x\":[\"2962.5333335\"],\"y\":[0.0]}},\"id\":\"1ef80a44-1299-4326-95a7-a850ca5b10da\",\"type\":\"ColumnDataSource\"},{\"attributes\":{\"axis_label\":\"Size(bp)\",\"formatter\":{\"id\":\"95a99937-36de-4bc0-8158-5b03bd973cda\",\"type\":\"BasicTickFormatter\"},\"plot\":{\"id\":\"548062fb-c42d-4917-9a7c-c7ae97784677\",\"subtype\":\"Chart\",\"type\":\"Plot\"},\"ticker\":{\"id\":\"490af0d5-ca97-42dc-b43b-c7712e849a53\",\"type\":\"BasicTicker\"}},\"id\":\"26f44853-d116-493b-aa18-81b15b27e238\",\"type\":\"LinearAxis\"},{\"attributes\":{\"callback\":null,\"column_names\":[\"label\",\"line_color\",\"height\",\"line_alpha\",\"fill_alpha\",\"width\",\"color\",\"x\",\"y\"],\"data\":{\"chart_index\":[\"(831.733333, 1034.666667]\"],\"color\":[\"LightSlateGray\"],\"fill_alpha\":[0.8],\"height\":[1.0],\"label\":[\"(831.733333, 1034.666667]\"],\"line_alpha\":[1.0],\"line_color\":[\"black\"],\"width\":[202.9333333333334],\"x\":[\"933.2\"],\"y\":[0.5]}},\"id\":\"a0b59c06-ee87-4806-b41c-45f890f5cf2d\",\"type\":\"ColumnDataSource\"},{\"attributes\":{\"callback\":null,\"column_names\":[\"label\",\"line_color\",\"height\",\"line_alpha\",\"fill_alpha\",\"width\",\"color\",\"x\",\"y\"],\"data\":{\"chart_index\":[\"(628.800000, 831.733333]\"],\"color\":[\"LightSlateGray\"],\"fill_alpha\":[0.8],\"height\":[3.0],\"label\":[\"(628.800000, 831.733333]\"],\"line_alpha\":[1.0],\"line_color\":[\"black\"],\"width\":[202.9333333333334],\"x\":[\"730.2666664999999\"],\"y\":[1.5]}},\"id\":\"b566a5c8-17d6-4013-88a7-dfac5aa2ed86\",\"type\":\"ColumnDataSource\"},{\"attributes\":{\"data_source\":{\"id\":\"ec3f9599-ab83-4247-b655-4bc92c4e749c\",\"type\":\"ColumnDataSource\"},\"glyph\":{\"id\":\"d1d0386b-9075-45e0-bc61-6edf46911072\",\"type\":\"Rect\"},\"hover_glyph\":null,\"nonselection_glyph\":null,\"selection_glyph\":null},\"id\":\"b1792f74-029d-4665-be09-5705f84cfda2\",\"type\":\"GlyphRenderer\"},{\"attributes\":{\"callback\":null,\"column_names\":[\"label\",\"line_color\",\"height\",\"line_alpha\",\"fill_alpha\",\"width\",\"color\",\"x\",\"y\"],\"data\":{\"chart_index\":[\"(4484.533333, 4687.466667]\"],\"color\":[\"LightSlateGray\"],\"fill_alpha\":[0.8],\"height\":[1.0],\"label\":[\"(4484.533333, 4687.466667]\"],\"line_alpha\":[1.0],\"line_color\":[\"black\"],\"width\":[202.9333333333334],\"x\":[\"4586.0\"],\"y\":[0.5]}},\"id\":\"e74fdb2f-af03-4343-9d28-bd883a2059af\",\"type\":\"ColumnDataSource\"},{\"attributes\":{\"fill_alpha\":{\"field\":\"fill_alpha\"},\"fill_color\":{\"field\":\"color\"},\"height\":{\"field\":\"height\",\"units\":\"data\"},\"line_color\":{\"field\":\"line_color\"},\"width\":{\"field\":\"width\",\"units\":\"data\"},\"x\":{\"field\":\"x\"},\"y\":{\"field\":\"y\"}},\"id\":\"80d602ac-3552-495c-9d70-d6416ec2dc84\",\"type\":\"Rect\"},{\"attributes\":{\"axis_label\":\"Frequency\",\"formatter\":{\"id\":\"462a468d-b248-4ce4-a2f2-00220eae5394\",\"type\":\"BasicTickFormatter\"},\"plot\":{\"id\":\"548062fb-c42d-4917-9a7c-c7ae97784677\",\"subtype\":\"Chart\",\"type\":\"Plot\"},\"ticker\":{\"id\":\"7da07ebe-67d7-4b71-a92b-7502745f4129\",\"type\":\"BasicTicker\"}},\"id\":\"d714e5f2-df2d-4d38-8eed-a9fc853e6fa9\",\"type\":\"LinearAxis\"},{\"attributes\":{\"fill_alpha\":{\"field\":\"fill_alpha\"},\"fill_color\":{\"field\":\"color\"},\"height\":{\"field\":\"height\",\"units\":\"data\"},\"line_color\":{\"field\":\"line_color\"},\"width\":{\"field\":\"width\",\"units\":\"data\"},\"x\":{\"field\":\"x\"},\"y\":{\"field\":\"y\"}},\"id\":\"5451d0bd-3fd6-4219-be40-82cc0b2afbe0\",\"type\":\"Rect\"},{\"attributes\":{\"callback\":null,\"end\":6261.2000001666665,\"start\":-133.20000016666668},\"id\":\"bb9cb702-06a3-4c21-9fd1-dee57a9deab6\",\"type\":\"Range1d\"},{\"attributes\":{\"fill_alpha\":{\"field\":\"fill_alpha\"},\"fill_color\":{\"field\":\"color\"},\"height\":{\"field\":\"height\",\"units\":\"data\"},\"line_color\":{\"field\":\"line_color\"},\"width\":{\"field\":\"width\",\"units\":\"data\"},\"x\":{\"field\":\"x\"},\"y\":{\"field\":\"y\"}},\"id\":\"e1076576-759a-4e90-bd58-692f9090fb9e\",\"type\":\"Rect\"},{\"attributes\":{\"data_source\":{\"id\":\"7b30408f-0964-41f1-8a89-d7298179643a\",\"type\":\"ColumnDataSource\"},\"glyph\":{\"id\":\"2c8363a8-cc26-46aa-a8f6-0ced22ba5804\",\"type\":\"Rect\"},\"hover_glyph\":null,\"nonselection_glyph\":null,\"selection_glyph\":null},\"id\":\"553e1990-9bed-4345-88a9-9f5d30733b39\",\"type\":\"GlyphRenderer\"},{\"attributes\":{},\"id\":\"95a99937-36de-4bc0-8158-5b03bd973cda\",\"type\":\"BasicTickFormatter\"},{\"attributes\":{\"fill_alpha\":{\"field\":\"fill_alpha\"},\"fill_color\":{\"field\":\"color\"},\"height\":{\"field\":\"height\",\"units\":\"data\"},\"line_color\":{\"field\":\"line_color\"},\"width\":{\"field\":\"width\",\"units\":\"data\"},\"x\":{\"field\":\"x\"},\"y\":{\"field\":\"y\"}},\"id\":\"31159fcb-2210-4dd0-a316-ee8c2fa517b1\",\"type\":\"Rect\"},{\"attributes\":{\"fill_alpha\":{\"field\":\"fill_alpha\"},\"fill_color\":{\"field\":\"color\"},\"height\":{\"field\":\"height\",\"units\":\"data\"},\"line_color\":{\"field\":\"line_color\"},\"width\":{\"field\":\"width\",\"units\":\"data\"},\"x\":{\"field\":\"x\"},\"y\":{\"field\":\"y\"}},\"id\":\"39a43ceb-7337-453b-ac94-8a4f8fa0ab9a\",\"type\":\"Rect\"},{\"attributes\":{\"fill_alpha\":{\"field\":\"fill_alpha\"},\"fill_color\":{\"field\":\"color\"},\"height\":{\"field\":\"height\",\"units\":\"data\"},\"line_color\":{\"field\":\"line_color\"},\"width\":{\"field\":\"width\",\"units\":\"data\"},\"x\":{\"field\":\"x\"},\"y\":{\"field\":\"y\"}},\"id\":\"a8135fc5-3a0c-428e-824a-a9ca3d503617\",\"type\":\"Rect\"},{\"attributes\":{\"fill_alpha\":{\"field\":\"fill_alpha\"},\"fill_color\":{\"field\":\"color\"},\"height\":{\"field\":\"height\",\"units\":\"data\"},\"line_color\":{\"field\":\"line_color\"},\"width\":{\"field\":\"width\",\"units\":\"data\"},\"x\":{\"field\":\"x\"},\"y\":{\"field\":\"y\"}},\"id\":\"0b3a210e-256d-4434-819e-7777114e05dd\",\"type\":\"Rect\"},{\"attributes\":{\"data_source\":{\"id\":\"e74fdb2f-af03-4343-9d28-bd883a2059af\",\"type\":\"ColumnDataSource\"},\"glyph\":{\"id\":\"2907c204-40cb-4d4e-a664-0cec76042981\",\"type\":\"Rect\"},\"hover_glyph\":null,\"nonselection_glyph\":null,\"selection_glyph\":null},\"id\":\"68c1ef2f-e512-4093-b415-f507ead18835\",\"type\":\"GlyphRenderer\"},{\"attributes\":{\"callback\":null,\"column_names\":[\"label\",\"line_color\",\"height\",\"line_alpha\",\"fill_alpha\",\"width\",\"color\",\"x\",\"y\"],\"data\":{\"chart_index\":[\"(1643.466667, 1846.400000]\"],\"color\":[\"LightSlateGray\"],\"fill_alpha\":[0.8],\"height\":[4.0],\"label\":[\"(1643.466667, 1846.400000]\"],\"line_alpha\":[1.0],\"line_color\":[\"black\"],\"width\":[202.9333333333334],\"x\":[\"1744.9333335000001\"],\"y\":[2.0]}},\"id\":\"994fb066-2832-4b61-b9d5-929960229de5\",\"type\":\"ColumnDataSource\"},{\"attributes\":{\"data_source\":{\"id\":\"77a0b0b2-a309-4fa9-90b5-cba472796ca7\",\"type\":\"ColumnDataSource\"},\"glyph\":{\"id\":\"39a43ceb-7337-453b-ac94-8a4f8fa0ab9a\",\"type\":\"Rect\"},\"hover_glyph\":null,\"nonselection_glyph\":null,\"selection_glyph\":null},\"id\":\"8ba62d21-c6f8-4eba-9ee8-fc7d8ff75a46\",\"type\":\"GlyphRenderer\"},{\"attributes\":{\"data_source\":{\"id\":\"920ab1d4-12c6-46e5-a6e8-6c850e6d0d18\",\"type\":\"ColumnDataSource\"},\"glyph\":{\"id\":\"b99e2795-693c-41df-9a24-d0b35e8bbbed\",\"type\":\"Rect\"},\"hover_glyph\":null,\"nonselection_glyph\":null,\"selection_glyph\":null},\"id\":\"755bd3b3-8600-4cb2-943e-fa05fb0326cd\",\"type\":\"GlyphRenderer\"},{\"attributes\":{},\"id\":\"7da07ebe-67d7-4b71-a92b-7502745f4129\",\"type\":\"BasicTicker\"},{\"attributes\":{\"data_source\":{\"id\":\"db4425ca-0597-4548-8111-fcfeee07cce5\",\"type\":\"ColumnDataSource\"},\"glyph\":{\"id\":\"8ef05306-6025-4147-9f1c-0b440b83ef02\",\"type\":\"Rect\"},\"hover_glyph\":null,\"nonselection_glyph\":null,\"selection_glyph\":null},\"id\":\"b97d84b3-06f0-4bb0-a771-184f059fbd45\",\"type\":\"GlyphRenderer\"},{\"attributes\":{\"fill_alpha\":{\"field\":\"fill_alpha\"},\"fill_color\":{\"field\":\"color\"},\"height\":{\"field\":\"height\",\"units\":\"data\"},\"line_color\":{\"field\":\"line_color\"},\"width\":{\"field\":\"width\",\"units\":\"data\"},\"x\":{\"field\":\"x\"},\"y\":{\"field\":\"y\"}},\"id\":\"685f1ce2-e9ac-4f80-91fa-6f9e1645b211\",\"type\":\"Rect\"},{\"attributes\":{},\"id\":\"462a468d-b248-4ce4-a2f2-00220eae5394\",\"type\":\"BasicTickFormatter\"},{\"attributes\":{\"fill_alpha\":{\"field\":\"fill_alpha\"},\"fill_color\":{\"field\":\"color\"},\"height\":{\"field\":\"height\",\"units\":\"data\"},\"line_color\":{\"field\":\"line_color\"},\"width\":{\"field\":\"width\",\"units\":\"data\"},\"x\":{\"field\":\"x\"},\"y\":{\"field\":\"y\"}},\"id\":\"8ef05306-6025-4147-9f1c-0b440b83ef02\",\"type\":\"Rect\"},{\"attributes\":{\"callback\":null,\"column_names\":[\"label\",\"line_color\",\"height\",\"line_alpha\",\"fill_alpha\",\"width\",\"color\",\"x\",\"y\"],\"data\":{\"chart_index\":[\"(1846.400000, 2049.333333]\"],\"color\":[\"LightSlateGray\"],\"fill_alpha\":[0.8],\"height\":[1.0],\"label\":[\"(1846.400000, 2049.333333]\"],\"line_alpha\":[1.0],\"line_color\":[\"black\"],\"width\":[202.9333333333334],\"x\":[\"1947.8666665\"],\"y\":[0.5]}},\"id\":\"5d481f9a-1fa0-44eb-aabd-e3054088c206\",\"type\":\"ColumnDataSource\"},{\"attributes\":{\"callback\":null,\"column_names\":[\"label\",\"line_color\",\"height\",\"line_alpha\",\"fill_alpha\",\"width\",\"color\",\"x\",\"y\"],\"data\":{\"chart_index\":[\"(2049.333333, 2252.266667]\"],\"color\":[\"LightSlateGray\"],\"fill_alpha\":[0.8],\"height\":[0.0],\"label\":[\"(2049.333333, 2252.266667]\"],\"line_alpha\":[1.0],\"line_color\":[\"black\"],\"width\":[202.9333333333334],\"x\":[\"2150.8\"],\"y\":[0.0]}},\"id\":\"5d899de7-b160-4f3c-8e2d-ab61cacb1a21\",\"type\":\"ColumnDataSource\"},{\"attributes\":{\"fill_alpha\":{\"field\":\"fill_alpha\"},\"fill_color\":{\"field\":\"color\"},\"height\":{\"field\":\"height\",\"units\":\"data\"},\"line_color\":{\"field\":\"line_color\"},\"width\":{\"field\":\"width\",\"units\":\"data\"},\"x\":{\"field\":\"x\"},\"y\":{\"field\":\"y\"}},\"id\":\"7a4d66ac-96f2-4c54-b7b4-eb7675926229\",\"type\":\"Rect\"},{\"attributes\":{\"fill_alpha\":{\"field\":\"fill_alpha\"},\"fill_color\":{\"field\":\"color\"},\"height\":{\"field\":\"height\",\"units\":\"data\"},\"line_color\":{\"field\":\"line_color\"},\"width\":{\"field\":\"width\",\"units\":\"data\"},\"x\":{\"field\":\"x\"},\"y\":{\"field\":\"y\"}},\"id\":\"5eaa8e02-67f4-4658-9e80-c2e36a004fe7\",\"type\":\"Rect\"}],\"root_ids\":[\"548062fb-c42d-4917-9a7c-c7ae97784677\"]},\"title\":\"Bokeh Application\",\"version\":\"0.12.4\"}};\n",
       "            var render_items = [{\"docid\":\"be41d4e7-f15c-48d1-8630-3f00d88b7658\",\"elementid\":\"0ceee280-a162-4556-9afe-b3c90a32de7d\",\"modelid\":\"548062fb-c42d-4917-9a7c-c7ae97784677\"}];\n",
       "            \n",
       "            Bokeh.embed.embed_items(docs_json, render_items);\n",
       "          };\n",
       "          if (document.readyState != \"loading\") fn();\n",
       "          else document.addEventListener(\"DOMContentLoaded\", fn);\n",
       "        })();\n",
       "      },\n",
       "      function(Bokeh) {\n",
       "      }\n",
       "    ];\n",
       "  \n",
       "    function run_inline_js() {\n",
       "      \n",
       "      if ((window.Bokeh !== undefined) || (force === true)) {\n",
       "        for (var i = 0; i < inline_js.length; i++) {\n",
       "          inline_js[i](window.Bokeh);\n",
       "        }if (force === true) {\n",
       "          display_loaded();\n",
       "        }} else if (Date.now() < window._bokeh_timeout) {\n",
       "        setTimeout(run_inline_js, 100);\n",
       "      } else if (!window._bokeh_failed_load) {\n",
       "        console.log(\"Bokeh: BokehJS failed to load within specified timeout.\");\n",
       "        window._bokeh_failed_load = true;\n",
       "      } else if (force !== true) {\n",
       "        var cell = $(document.getElementById(\"0ceee280-a162-4556-9afe-b3c90a32de7d\")).parents('.cell').data().cell;\n",
       "        cell.output_area.append_execute_result(NB_LOAD_WARNING)\n",
       "      }\n",
       "  \n",
       "    }\n",
       "  \n",
       "    if (window._bokeh_is_loading === 0) {\n",
       "      console.log(\"Bokeh: BokehJS loaded, going straight to plotting\");\n",
       "      run_inline_js();\n",
       "    } else {\n",
       "      load_libs(js_urls, function() {\n",
       "        console.log(\"Bokeh: BokehJS plotting callback run at\", now());\n",
       "        run_inline_js();\n",
       "      });\n",
       "    }\n",
       "  }(this));\n",
       "</script>"
      ]
     },
     "metadata": {},
     "output_type": "display_data"
    }
   ],
   "source": [
    "# Plot the counts of each predicted probability for Het Var events\n",
    "p = figure()\n",
    "p = Histogram(X_hetVar_least, values='Size', title='Heterozygous Variant: Predict Proba < 0.3', color='LightSlateGray', bins=30, xlabel=\"Size(bp)\", ylabel=\"Frequency\")\n",
    "output_file(\"250bp_HetVar_PredProb0.3-.html\")\n",
    "show(p)"
   ]
  },
  {
   "cell_type": "code",
   "execution_count": null,
   "metadata": {
    "collapsed": true
   },
   "outputs": [],
   "source": []
  },
  {
   "cell_type": "code",
   "execution_count": null,
   "metadata": {
    "collapsed": true
   },
   "outputs": [],
   "source": []
  },
  {
   "cell_type": "markdown",
   "metadata": {},
   "source": [
    "**TODO**\n",
    "\n",
    "[Feature Importance](http://scikit-learn.org/stable/auto_examples/ensemble/plot_forest_importances.html)"
   ]
  },
  {
   "cell_type": "code",
   "execution_count": null,
   "metadata": {
    "collapsed": true
   },
   "outputs": [],
   "source": []
  }
 ],
 "metadata": {
  "kernelspec": {
   "display_name": "Python [NIHFAES]",
   "language": "python",
   "name": "Python [NIHFAES]"
  },
  "language_info": {
   "codemirror_mode": {
    "name": "ipython",
    "version": 3
   },
   "file_extension": ".py",
   "mimetype": "text/x-python",
   "name": "python",
   "nbconvert_exporter": "python",
   "pygments_lexer": "ipython3",
   "version": "3.5.2"
  }
 },
 "nbformat": 4,
 "nbformat_minor": 2
}
