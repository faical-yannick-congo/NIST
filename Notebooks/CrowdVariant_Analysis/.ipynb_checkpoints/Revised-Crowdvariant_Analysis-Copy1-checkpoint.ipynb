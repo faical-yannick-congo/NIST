{
 "cells": [
  {
   "cell_type": "markdown",
   "metadata": {},
   "source": [
    "**Desription**:\n",
    "    \n",
    "The following notebook is a revised version of the [Crowdvariant analysis notebook](https://github.com/lesleymaraina/NIST/blob/master/Notebooks/CrowdVariant_Analysis/CrowdVariantAnalysis%20-%20Machine%20Learning%5BAll%20Technologies%5D.ipynb). \n",
    "\n",
    "In the first part of this notebook, a random forest classifier was trained on crowdsourced[CrowdVariant](https://github.com/lesleymaraina/NIST/blob/master/Notebooks/CrowdVariant_Analysis/CrowdVariantAnalysis%20-%20Data%20Collection.ipynb) data for HG002 Deletions. \n",
    "\n",
    "In the second part of this notebook, the trained randfom forest classifier is then used to predict labels for a new set of randomly selected HG002 Deletions."
   ]
  },
  {
   "cell_type": "code",
   "execution_count": 2,
   "metadata": {},
   "outputs": [
    {
     "name": "stderr",
     "output_type": "stream",
     "text": [
      "/Users/lmc2/anaconda/envs/NIHFAES/lib/python3.5/site-packages/sklearn/cross_validation.py:44: DeprecationWarning:\n",
      "\n",
      "This module was deprecated in version 0.18 in favor of the model_selection module into which all the refactored classes and functions are moved. Also note that the interface of the new CV iterators are different from that of this module. This module will be removed in 0.20.\n",
      "\n",
      "/Users/lmc2/anaconda/envs/NIHFAES/lib/python3.5/site-packages/sklearn/grid_search.py:43: DeprecationWarning:\n",
      "\n",
      "This module was deprecated in version 0.18 in favor of the model_selection module into which all the refactored classes and functions are moved. This module will be removed in 0.20.\n",
      "\n"
     ]
    }
   ],
   "source": [
    "\"\"\"\n",
    "Imports\n",
    "\"\"\"\n",
    "import pandas as pd\n",
    "import numpy as np\n",
    "from fancyimpute import KNN\n",
    "import matplotlib.pyplot as plt\n",
    "from sklearn import preprocessing\n",
    "from sklearn.preprocessing import LabelEncoder\n",
    "from sklearn.model_selection import LeaveOneOut\n",
    "from scipy.stats import ks_2samp\n",
    "from scipy import stats\n",
    "from matplotlib import pyplot\n",
    "from sklearn import preprocessing\n",
    "from scipy.linalg import svd\n",
    "from sklearn.decomposition import TruncatedSVD\n",
    "from sklearn.ensemble import RandomForestClassifier\n",
    "from sklearn.metrics import roc_auc_score\n",
    "import seaborn as sns\n",
    "from sklearn.manifold import TSNE\n",
    "from sklearn.decomposition import PCA as sklearnPCA\n",
    "import plotly.plotly as py\n",
    "from sklearn.cluster import DBSCAN\n",
    "from sklearn.model_selection import train_test_split\n",
    "from sklearn import metrics\n",
    "from sklearn.grid_search import GridSearchCV\n",
    "from sklearn.metrics import f1_score, precision_score\n",
    "from sklearn import preprocessing\n",
    "from ggplot import *\n",
    "from bokeh.charts import TimeSeries\n",
    "from bokeh.models import HoverTool\n",
    "from bokeh.plotting import show\n",
    "from bokeh.charts import Scatter, Histogram, output_file, show\n",
    "from bokeh.plotting import figure, show, output_file, ColumnDataSource\n",
    "from bokeh.io import output_notebook\n",
    "from bokeh.charts import Bar, output_file, show\n",
    "import bokeh.palettes as palettes\n",
    "from bokeh.models import HoverTool, BoxSelectTool, Legend\n",
    "from sklearn import (manifold, datasets, decomposition, ensemble,\n",
    "                     discriminant_analysis, random_projection)"
   ]
  },
  {
   "cell_type": "markdown",
   "metadata": {},
   "source": [
    "***\n",
    "Load Data\n",
    "***\n",
    "Restructure features so that the training dataset and prediction dataset have all of the same features"
   ]
  },
  {
   "cell_type": "code",
   "execution_count": 3,
   "metadata": {
    "collapsed": true
   },
   "outputs": [],
   "source": [
    "### Import Data\n",
    "df_crowd = pd.read_csv('/Users/lmc2/NIST/Notebooks/CrowdVariant/Train/Final_DF/CrowdVar.Train_HG002.csv')\n",
    "### Copy data in new dataframe as a later reference\n",
    "df_crowd_2 = pd.read_csv('/Users/lmc2/NIST/Notebooks/CrowdVariant/Train/Final_DF/CrowdVar.Train_HG002.csv')"
   ]
  },
  {
   "cell_type": "code",
   "execution_count": 4,
   "metadata": {},
   "outputs": [
    {
     "data": {
      "text/html": [
       "<div>\n",
       "<table border=\"1\" class=\"dataframe\">\n",
       "  <thead>\n",
       "    <tr style=\"text-align: right;\">\n",
       "      <th></th>\n",
       "      <th>chrom</th>\n",
       "      <th>start</th>\n",
       "      <th>end</th>\n",
       "      <th>sample</th>\n",
       "      <th>Ill300x.alt_alnScore_mean</th>\n",
       "      <th>Ill300x.alt_alnScore_std</th>\n",
       "      <th>Ill300x.alt_count</th>\n",
       "      <th>Ill300x.alt_insertSize_mean</th>\n",
       "      <th>Ill300x.alt_insertSize_std</th>\n",
       "      <th>Ill300x.alt_reason_alignmentScore</th>\n",
       "      <th>...</th>\n",
       "      <th>tandemrep_cnt</th>\n",
       "      <th>tandemrep_pct</th>\n",
       "      <th>segdup_cnt</th>\n",
       "      <th>segdup_pct</th>\n",
       "      <th>refN_cnt</th>\n",
       "      <th>refN_pct</th>\n",
       "      <th>Label</th>\n",
       "      <th>CN0_prob</th>\n",
       "      <th>CN1_prob</th>\n",
       "      <th>CN2_prob</th>\n",
       "    </tr>\n",
       "  </thead>\n",
       "  <tbody>\n",
       "    <tr>\n",
       "      <th>0</th>\n",
       "      <td>1</td>\n",
       "      <td>187464828</td>\n",
       "      <td>187466479</td>\n",
       "      <td>HG002</td>\n",
       "      <td>579.446154</td>\n",
       "      <td>17.934094</td>\n",
       "      <td>65.0</td>\n",
       "      <td>756.430769</td>\n",
       "      <td>163.879409</td>\n",
       "      <td>0.0</td>\n",
       "      <td>...</td>\n",
       "      <td>8</td>\n",
       "      <td>0.096911</td>\n",
       "      <td>0</td>\n",
       "      <td>0.0</td>\n",
       "      <td>0</td>\n",
       "      <td>0</td>\n",
       "      <td>1.0</td>\n",
       "      <td>0.00</td>\n",
       "      <td>0.91</td>\n",
       "      <td>0.09</td>\n",
       "    </tr>\n",
       "    <tr>\n",
       "      <th>1</th>\n",
       "      <td>1</td>\n",
       "      <td>33156824</td>\n",
       "      <td>33157000</td>\n",
       "      <td>HG002</td>\n",
       "      <td>557.000000</td>\n",
       "      <td>20.665840</td>\n",
       "      <td>13.0</td>\n",
       "      <td>1158.307692</td>\n",
       "      <td>134.247982</td>\n",
       "      <td>0.0</td>\n",
       "      <td>...</td>\n",
       "      <td>2</td>\n",
       "      <td>0.221591</td>\n",
       "      <td>0</td>\n",
       "      <td>0.0</td>\n",
       "      <td>0</td>\n",
       "      <td>0</td>\n",
       "      <td>1.0</td>\n",
       "      <td>0.04</td>\n",
       "      <td>0.91</td>\n",
       "      <td>0.05</td>\n",
       "    </tr>\n",
       "    <tr>\n",
       "      <th>2</th>\n",
       "      <td>1</td>\n",
       "      <td>53594099</td>\n",
       "      <td>53595428</td>\n",
       "      <td>HG002</td>\n",
       "      <td>574.335366</td>\n",
       "      <td>18.613946</td>\n",
       "      <td>164.0</td>\n",
       "      <td>678.518293</td>\n",
       "      <td>139.056203</td>\n",
       "      <td>31.0</td>\n",
       "      <td>...</td>\n",
       "      <td>3</td>\n",
       "      <td>0.059443</td>\n",
       "      <td>0</td>\n",
       "      <td>0.0</td>\n",
       "      <td>0</td>\n",
       "      <td>0</td>\n",
       "      <td>0.0</td>\n",
       "      <td>0.96</td>\n",
       "      <td>0.04</td>\n",
       "      <td>0.00</td>\n",
       "    </tr>\n",
       "  </tbody>\n",
       "</table>\n",
       "<p>3 rows × 188 columns</p>\n",
       "</div>"
      ],
      "text/plain": [
       "   chrom      start        end sample  Ill300x.alt_alnScore_mean  \\\n",
       "0      1  187464828  187466479  HG002                 579.446154   \n",
       "1      1   33156824   33157000  HG002                 557.000000   \n",
       "2      1   53594099   53595428  HG002                 574.335366   \n",
       "\n",
       "   Ill300x.alt_alnScore_std  Ill300x.alt_count  Ill300x.alt_insertSize_mean  \\\n",
       "0                 17.934094               65.0                   756.430769   \n",
       "1                 20.665840               13.0                  1158.307692   \n",
       "2                 18.613946              164.0                   678.518293   \n",
       "\n",
       "   Ill300x.alt_insertSize_std  Ill300x.alt_reason_alignmentScore    ...     \\\n",
       "0                  163.879409                                0.0    ...      \n",
       "1                  134.247982                                0.0    ...      \n",
       "2                  139.056203                               31.0    ...      \n",
       "\n",
       "   tandemrep_cnt  tandemrep_pct  segdup_cnt  segdup_pct  refN_cnt  refN_pct  \\\n",
       "0              8       0.096911           0         0.0         0         0   \n",
       "1              2       0.221591           0         0.0         0         0   \n",
       "2              3       0.059443           0         0.0         0         0   \n",
       "\n",
       "   Label  CN0_prob  CN1_prob  CN2_prob  \n",
       "0    1.0      0.00      0.91      0.09  \n",
       "1    1.0      0.04      0.91      0.05  \n",
       "2    0.0      0.96      0.04      0.00  \n",
       "\n",
       "[3 rows x 188 columns]"
      ]
     },
     "execution_count": 4,
     "metadata": {},
     "output_type": "execute_result"
    }
   ],
   "source": [
    "df_crowd.head(3)"
   ]
  },
  {
   "cell_type": "code",
   "execution_count": 5,
   "metadata": {
    "collapsed": true
   },
   "outputs": [],
   "source": [
    "# Read in HG002 DEL dataframe\n",
    "HG002_pred = pd.read_csv('/Users/lmc2/NIST/Notebooks/CrowdVariant/svviz.Annotate.DEL.HG002_data2.csv')\n",
    "HG002_pred_2 = pd.read_csv('/Users/lmc2/NIST/Notebooks/CrowdVariant/svviz.Annotate.DEL.HG002_data2.csv')"
   ]
  },
  {
   "cell_type": "code",
   "execution_count": 6,
   "metadata": {},
   "outputs": [
    {
     "data": {
      "text/plain": [
       "{'GIAB_Crowd',\n",
       " 'Ill300x.amb_reason_insertSizeScore_orientation',\n",
       " 'IllMP.amb_reason_insertSizeScore_alignmentScore',\n",
       " 'SVtype',\n",
       " 'Size',\n",
       " 'TenX.HP1_amb_reason_insertSizeScore_insertSizeScore',\n",
       " 'TenX.HP1_ref_reason_insertSizeScore',\n",
       " 'TenX.HP2_amb_reason_insertSizeScore_insertSizeScore',\n",
       " 'TenX.HP2_amb_reason_orientation_insertSizeScore',\n",
       " 'id',\n",
       " 'type'}"
      ]
     },
     "execution_count": 6,
     "metadata": {},
     "output_type": "execute_result"
    }
   ],
   "source": [
    "# Store header names in lists and find names that are NOT contained in BOTH lists\n",
    "c = list(df_crowd_2.columns.values)\n",
    "d = list(HG002_pred.columns.values)\n",
    "set(d) - set(c)"
   ]
  },
  {
   "cell_type": "code",
   "execution_count": 7,
   "metadata": {
    "collapsed": true
   },
   "outputs": [],
   "source": [
    "# a = ['chrom','start','end','sample','Ill300x.alt_alnScore_mean','Ill300x.alt_alnScore_std','Ill300x.alt_count','Ill300x.alt_insertSize_mean','Ill300x.alt_insertSize_std','Ill300x.alt_reason_alignmentScore','Ill300x.alt_reason_insertSizeScore','Ill300x.alt_reason_orientation','Ill300x.amb_alnScore_mean','Ill300x.amb_alnScore_std','Ill300x.amb_count','Ill300x.amb_insertSize_mean','Ill300x.amb_insertSize_std','Ill300x.amb_reason_alignmentScore_alignmentScore','Ill300x.amb_reason_alignmentScore_orientation','Ill300x.amb_reason_flanking','Ill300x.amb_reason_insertSizeScore_alignmentScore','Ill300x.amb_reason_insertSizeScore_insertSizeScore','Ill300x.amb_reason_multimapping','Ill300x.amb_reason_orientation_alignmentScore','Ill300x.amb_reason_orientation_orientation','Ill300x.amb_reason_same_scores','Ill300x.ref_alnScore_mean','Ill300x.ref_alnScore_std','Ill300x.ref_count','Ill300x.ref_insertSize_mean','Ill300x.ref_insertSize_std','Ill300x.ref_reason_alignmentScore','Ill300x.ref_reason_insertSizeScore','Ill300x.ref_reason_orientation','Ill300x.GT','Ill250.alt_alnScore_mean','Ill250.alt_alnScore_std','Ill250.alt_count','Ill250.alt_insertSize_mean','Ill250.alt_insertSize_std','Ill250.alt_reason_alignmentScore','Ill250.alt_reason_insertSizeScore','Ill250.alt_reason_orientation','Ill250.amb_alnScore_mean','Ill250.amb_alnScore_std','Ill250.amb_count','Ill250.amb_insertSize_mean','Ill250.amb_insertSize_std','Ill250.amb_reason_alignmentScore_alignmentScore','Ill250.amb_reason_alignmentScore_orientation','Ill250.amb_reason_flanking','Ill250.amb_reason_insertSizeScore_alignmentScore','Ill250.amb_reason_insertSizeScore_insertSizeScore','Ill250.amb_reason_multimapping','Ill250.amb_reason_orientation_alignmentScore','Ill250.amb_reason_orientation_orientation','Ill250.amb_reason_same_scores','Ill250.ref_alnScore_mean','Ill250.ref_alnScore_std','Ill250.ref_count','Ill250.ref_insertSize_mean','Ill250.ref_insertSize_std','Ill250.ref_reason_alignmentScore','Ill250.ref_reason_orientation','Ill250.GT','IllMP.alt_alnScore_mean','IllMP.alt_alnScore_std','IllMP.alt_count','IllMP.alt_insertSize_mean','IllMP.alt_insertSize_std','IllMP.alt_reason_alignmentScore','IllMP.alt_reason_insertSizeScore','IllMP.alt_reason_orientation','IllMP.amb_alnScore_mean','IllMP.amb_alnScore_std','IllMP.amb_count','IllMP.amb_insertSize_mean','IllMP.amb_insertSize_std','IllMP.amb_reason_alignmentScore_alignmentScore','IllMP.amb_reason_alignmentScore_orientation','IllMP.amb_reason_flanking','IllMP.amb_reason_insertSizeScore_insertSizeScore','IllMP.amb_reason_multimapping','IllMP.amb_reason_orientation_alignmentScore','IllMP.amb_reason_orientation_orientation','IllMP.amb_reason_same_scores','IllMP.ref_alnScore_mean','IllMP.ref_alnScore_std','IllMP.ref_count','IllMP.ref_insertSize_mean','IllMP.ref_insertSize_std','IllMP.ref_reason_alignmentScore','IllMP.ref_reason_insertSizeScore','IllMP.ref_reason_orientation','IllMP.GT','pacbio.alt_alnScore_mean','pacbio.alt_alnScore_std','pacbio.alt_count','pacbio.alt_insertSize_mean','pacbio.alt_insertSize_std','pacbio.alt_reason_alignmentScore','pacbio.amb_alnScore_mean','pacbio.amb_alnScore_std','pacbio.amb_count','pacbio.amb_insertSize_mean','pacbio.amb_insertSize_std','pacbio.amb_reason_alignmentScore_alignmentScore','pacbio.amb_reason_flanking','pacbio.amb_reason_multimapping','pacbio.amb_reason_same_scores','pacbio.ref_alnScore_mean','pacbio.ref_alnScore_std','pacbio.ref_count','pacbio.ref_insertSize_mean','pacbio.ref_insertSize_std','pacbio.ref_reason_alignmentScore','pacbio.GT','TenX.HP1_alt_alnScore_mean','TenX.HP1_alt_alnScore_std','TenX.HP1_alt_count','TenX.HP1_alt_insertSize_mean','TenX.HP1_alt_insertSize_std','TenX.HP1_alt_reason_alignmentScore','TenX.HP1_alt_reason_insertSizeScore','TenX.HP1_alt_reason_orientation','TenX.HP1_amb_alnScore_mean','TenX.HP1_amb_alnScore_std','TenX.HP1_amb_count','TenX.HP1_amb_insertSize_mean','TenX.HP1_amb_insertSize_std','TenX.HP1_amb_reason_alignmentScore_alignmentScore','TenX.HP1_amb_reason_alignmentScore_orientation','TenX.HP1_amb_reason_flanking','TenX.HP1_amb_reason_insertSizeScore_alignmentScore','TenX.HP1_amb_reason_multimapping','TenX.HP1_amb_reason_orientation_alignmentScore','TenX.HP1_amb_reason_orientation_orientation','TenX.HP1_amb_reason_same_scores','TenX.HP1_ref_alnScore_mean','TenX.HP1_ref_alnScore_std','TenX.HP1_ref_count','TenX.HP1_ref_insertSize_mean','TenX.HP1_ref_insertSize_std','TenX.HP1_ref_reason_alignmentScore','TenX.HP1_ref_reason_orientation','TenX.HP2_alt_alnScore_mean','TenX.HP2_alt_alnScore_std','TenX.HP2_alt_count','TenX.HP2_alt_insertSize_mean','TenX.HP2_alt_insertSize_std','TenX.HP2_alt_reason_alignmentScore','TenX.HP2_alt_reason_insertSizeScore','TenX.HP2_alt_reason_orientation','TenX.HP2_amb_alnScore_mean','TenX.HP2_amb_alnScore_std','TenX.HP2_amb_count','TenX.HP2_amb_insertSize_mean','TenX.HP2_amb_insertSize_std','TenX.HP2_amb_reason_alignmentScore_alignmentScore','TenX.HP2_amb_reason_alignmentScore_orientation','TenX.HP2_amb_reason_flanking','TenX.HP2_amb_reason_insertSizeScore_alignmentScore','TenX.HP2_amb_reason_multimapping','TenX.HP2_amb_reason_orientation_alignmentScore','TenX.HP2_amb_reason_orientation_orientation','TenX.HP2_amb_reason_same_scores','TenX.HP2_ref_alnScore_mean','TenX.HP2_ref_alnScore_std','TenX.HP2_ref_count','TenX.HP2_ref_insertSize_mean','TenX.HP2_ref_insertSize_std','TenX.HP2_ref_reason_alignmentScore','TenX.HP2_ref_reason_orientation','TenX.GT','size','GTcons','GTconflict','GTsupp','tandemrep_cnt','tandemrep_pct','segdup_cnt','segdup_pct','refN_cnt','refN_pct','Label','CN0_prob','CN1_prob','CN2_prob']\n",
    "# b = ['chrom','start','end','sample','id','type','SVtype','Size','Ill300x.alt_alnScore_mean','Ill300x.alt_alnScore_std','Ill300x.alt_count','Ill300x.alt_insertSize_mean','Ill300x.alt_insertSize_std','Ill300x.alt_reason_alignmentScore','Ill300x.alt_reason_insertSizeScore','Ill300x.alt_reason_orientation','Ill300x.amb_alnScore_mean','Ill300x.amb_alnScore_std','Ill300x.amb_count','Ill300x.amb_insertSize_mean','Ill300x.amb_insertSize_std','Ill300x.amb_reason_alignmentScore_alignmentScore','Ill300x.amb_reason_alignmentScore_orientation','Ill300x.amb_reason_flanking','Ill300x.amb_reason_insertSizeScore_alignmentScore','Ill300x.amb_reason_insertSizeScore_insertSizeScore','Ill300x.amb_reason_insertSizeScore_orientation','Ill300x.amb_reason_multimapping','Ill300x.amb_reason_orientation_alignmentScore','Ill300x.amb_reason_orientation_orientation','Ill300x.amb_reason_same_scores','Ill300x.ref_alnScore_mean','Ill300x.ref_alnScore_std','Ill300x.ref_count','Ill300x.ref_insertSize_mean','Ill300x.ref_insertSize_std','Ill300x.ref_reason_alignmentScore','Ill300x.ref_reason_insertSizeScore','Ill300x.ref_reason_orientation','Ill300x.GT','Ill250.alt_alnScore_mean','Ill250.alt_alnScore_std','Ill250.alt_count','Ill250.alt_insertSize_mean','Ill250.alt_insertSize_std','Ill250.alt_reason_alignmentScore','Ill250.alt_reason_insertSizeScore','Ill250.alt_reason_orientation','Ill250.amb_alnScore_mean','Ill250.amb_alnScore_std','Ill250.amb_count','Ill250.amb_insertSize_mean','Ill250.amb_insertSize_std','Ill250.amb_reason_alignmentScore_alignmentScore','Ill250.amb_reason_alignmentScore_orientation','Ill250.amb_reason_flanking','Ill250.amb_reason_insertSizeScore_alignmentScore','Ill250.amb_reason_multimapping','Ill250.amb_reason_orientation_alignmentScore','Ill250.amb_reason_orientation_orientation','Ill250.amb_reason_same_scores','Ill250.ref_alnScore_mean','Ill250.ref_alnScore_std','Ill250.ref_count','Ill250.ref_insertSize_mean','Ill250.ref_insertSize_std','Ill250.ref_reason_alignmentScore','Ill250.ref_reason_orientation','Ill250.GT','IllMP.alt_alnScore_mean','IllMP.alt_alnScore_std','IllMP.alt_count','IllMP.alt_insertSize_mean','IllMP.alt_insertSize_std','IllMP.alt_reason_alignmentScore','IllMP.alt_reason_insertSizeScore','IllMP.alt_reason_orientation','IllMP.amb_alnScore_mean','IllMP.amb_alnScore_std','IllMP.amb_count','IllMP.amb_insertSize_mean','IllMP.amb_insertSize_std','IllMP.amb_reason_alignmentScore_alignmentScore','IllMP.amb_reason_alignmentScore_orientation','IllMP.amb_reason_flanking','IllMP.amb_reason_insertSizeScore_alignmentScore','IllMP.amb_reason_insertSizeScore_insertSizeScore','IllMP.amb_reason_multimapping','IllMP.amb_reason_orientation_alignmentScore','IllMP.amb_reason_orientation_orientation','IllMP.amb_reason_same_scores','IllMP.ref_alnScore_mean','IllMP.ref_alnScore_std','IllMP.ref_count','IllMP.ref_insertSize_mean','IllMP.ref_insertSize_std','IllMP.ref_reason_alignmentScore','IllMP.ref_reason_insertSizeScore','IllMP.ref_reason_orientation','IllMP.GT','TenX.HP1_alt_alnScore_mean','TenX.HP1_alt_alnScore_std','TenX.HP1_alt_count','TenX.HP1_alt_insertSize_mean','TenX.HP1_alt_insertSize_std','TenX.HP1_alt_reason_alignmentScore','TenX.HP1_alt_reason_insertSizeScore','TenX.HP1_alt_reason_orientation','TenX.HP1_amb_alnScore_mean','TenX.HP1_amb_alnScore_std','TenX.HP1_amb_count','TenX.HP1_amb_insertSize_mean','TenX.HP1_amb_insertSize_std','TenX.HP1_amb_reason_alignmentScore_alignmentScore','TenX.HP1_amb_reason_alignmentScore_orientation','TenX.HP1_amb_reason_flanking','TenX.HP1_amb_reason_insertSizeScore_alignmentScore','TenX.HP1_amb_reason_insertSizeScore_insertSizeScore','TenX.HP1_amb_reason_multimapping','TenX.HP1_amb_reason_orientation_alignmentScore','TenX.HP1_amb_reason_orientation_orientation','TenX.HP1_amb_reason_same_scores','TenX.HP1_ref_alnScore_mean','TenX.HP1_ref_alnScore_std','TenX.HP1_ref_count','TenX.HP1_ref_insertSize_mean','TenX.HP1_ref_insertSize_std','TenX.HP1_ref_reason_alignmentScore','TenX.HP1_ref_reason_insertSizeScore','TenX.HP1_ref_reason_orientation','TenX.HP2_alt_alnScore_mean','TenX.HP2_alt_alnScore_std','TenX.HP2_alt_count','TenX.HP2_alt_insertSize_mean','TenX.HP2_alt_insertSize_std','TenX.HP2_alt_reason_alignmentScore','TenX.HP2_alt_reason_insertSizeScore','TenX.HP2_alt_reason_orientation','TenX.HP2_amb_alnScore_mean','TenX.HP2_amb_alnScore_std','TenX.HP2_amb_count','TenX.HP2_amb_insertSize_mean','TenX.HP2_amb_insertSize_std','TenX.HP2_amb_reason_alignmentScore_alignmentScore','TenX.HP2_amb_reason_alignmentScore_orientation','TenX.HP2_amb_reason_flanking','TenX.HP2_amb_reason_insertSizeScore_alignmentScore','TenX.HP2_amb_reason_insertSizeScore_insertSizeScore','TenX.HP2_amb_reason_multimapping','TenX.HP2_amb_reason_orientation_alignmentScore','TenX.HP2_amb_reason_orientation_insertSizeScore','TenX.HP2_amb_reason_orientation_orientation','TenX.HP2_amb_reason_same_scores','TenX.HP2_ref_alnScore_mean','TenX.HP2_ref_alnScore_std','TenX.HP2_ref_count','TenX.HP2_ref_insertSize_mean','TenX.HP2_ref_insertSize_std','TenX.HP2_ref_reason_alignmentScore','TenX.HP2_ref_reason_orientation','TenX.GT','pacbio.alt_alnScore_mean','pacbio.alt_alnScore_std','pacbio.alt_count','pacbio.alt_insertSize_mean','pacbio.alt_insertSize_std','pacbio.alt_reason_alignmentScore','pacbio.amb_alnScore_mean','pacbio.amb_alnScore_std','pacbio.amb_count','pacbio.amb_insertSize_mean','pacbio.amb_insertSize_std','pacbio.amb_reason_alignmentScore_alignmentScore','pacbio.amb_reason_flanking','pacbio.amb_reason_multimapping','pacbio.amb_reason_same_scores','pacbio.ref_alnScore_mean','pacbio.ref_alnScore_std','pacbio.ref_count','pacbio.ref_insertSize_mean','pacbio.ref_insertSize_std','pacbio.ref_reason_alignmentScore','pacbio.GT','GTcons','GTconflict','GTsupp','tandemrep_cnt','tandemrep_pct','segdup_cnt','segdup_pct','refN_cnt','refN_pct','GIAB_Crowd']\n",
    "\n",
    "# set(b) - set(a)"
   ]
  },
  {
   "cell_type": "code",
   "execution_count": 8,
   "metadata": {
    "collapsed": true
   },
   "outputs": [],
   "source": [
    "### Training Set: Drop irrelevant columns and GT information\n",
    "df_crowd.drop(['GTcons'], axis=1, inplace = True)\n",
    "df_crowd.drop(['GTconflict'], axis=1, inplace = True)\n",
    "df_crowd.drop(['GTsupp'], axis=1, inplace = True)\n",
    "# df_crowd.drop('SVtype', axis=1)\n",
    "# df_crowd.drop(['type'],axis=1)\n",
    "df_crowd.drop(['start'],axis=1, inplace = True)\n",
    "df_crowd.drop(['end'],axis=1, inplace = True)\n",
    "df_crowd.drop(['chrom'],axis=1, inplace = True)\n",
    "# df_crowd.drop('Size',axis=1)\n",
    "df_crowd.drop(['CN0_prob'],axis=1, inplace = True)\n",
    "df_crowd.drop(['CN1_prob'],axis=1, inplace = True)\n",
    "df_crowd.drop(['CN2_prob'],axis=1, inplace = True)\n",
    "df_crowd.drop(['TenX.GT'],axis=1, inplace = True)\n",
    "df_crowd.drop(['pacbio.GT'],axis=1, inplace = True)\n",
    "df_crowd.drop(['IllMP.GT'],axis=1, inplace = True)\n",
    "df_crowd.drop(['Ill250.GT'],axis=1, inplace = True)\n",
    "df_crowd.drop(['Ill300x.GT'],axis=1, inplace = True)\n",
    "df_crowd.drop(['sample'],axis=1, inplace = True)\n",
    "# df_crowd.columns.drop(['Label'],axis=1, inplace = True)\n",
    "df_crowd.drop(['size'],axis=1, inplace = True)\n",
    "df_crowd.drop(['Ill250.amb_reason_insertSizeScore_insertSizeScore'],axis=1, inplace = True)"
   ]
  },
  {
   "cell_type": "code",
   "execution_count": 9,
   "metadata": {
    "collapsed": true
   },
   "outputs": [],
   "source": [
    "### Prediction Set: Drop irrelevant columns and GT information\n",
    "HG002_pred.drop(['GTcons'], axis=1, inplace = True)\n",
    "HG002_pred.drop(['GTconflict'], axis=1, inplace = True)\n",
    "HG002_pred.drop(['GTsupp'], axis=1, inplace = True)\n",
    "HG002_pred.drop('SVtype', axis=1)\n",
    "HG002_pred.drop('type',axis=1)\n",
    "HG002_pred.drop(['type'],axis=1, inplace = True)\n",
    "HG002_pred.drop(['SVtype'],axis=1, inplace = True)\n",
    "HG002_pred.drop(['start'],axis=1, inplace = True)\n",
    "HG002_pred.drop(['end'],axis=1, inplace = True)\n",
    "HG002_pred.drop(['chrom'],axis=1, inplace = True)\n",
    "HG002_pred.drop(['Size'],axis=1, inplace = True)\n",
    "HG002_pred.drop(['TenX.GT'],axis=1, inplace = True)\n",
    "HG002_pred.drop(['pacbio.GT'],axis=1, inplace = True)\n",
    "HG002_pred.drop(['IllMP.GT'],axis=1, inplace = True)\n",
    "HG002_pred.drop(['Ill250.GT'],axis=1, inplace = True)\n",
    "HG002_pred.drop(['Ill300x.GT'],axis=1, inplace = True)\n",
    "HG002_pred.drop(['sample'],axis=1, inplace = True)\n",
    "HG002_pred.drop(['id'],axis=1, inplace = True)\n",
    "HG002_pred.drop(['Ill300x.amb_reason_insertSizeScore_orientation'],axis=1, inplace = True)\n",
    "HG002_pred.drop(['IllMP.amb_reason_insertSizeScore_alignmentScore'],axis=1, inplace = True)\n",
    "HG002_pred.drop(['TenX.HP1_amb_reason_insertSizeScore_insertSizeScore'],axis=1, inplace = True)\n",
    "HG002_pred.drop(['TenX.HP1_ref_reason_insertSizeScore'],axis=1, inplace = True)\n",
    "HG002_pred.drop(['TenX.HP2_amb_reason_insertSizeScore_insertSizeScore'],axis=1, inplace = True)\n",
    "HG002_pred.drop(['TenX.HP2_amb_reason_orientation_insertSizeScore'],axis=1, inplace = True)"
   ]
  },
  {
   "cell_type": "code",
   "execution_count": 10,
   "metadata": {},
   "outputs": [
    {
     "data": {
      "text/html": [
       "<div>\n",
       "<table border=\"1\" class=\"dataframe\">\n",
       "  <thead>\n",
       "    <tr style=\"text-align: right;\">\n",
       "      <th></th>\n",
       "      <th>Ill300x.alt_alnScore_mean</th>\n",
       "      <th>Ill300x.alt_alnScore_std</th>\n",
       "      <th>Ill300x.alt_count</th>\n",
       "      <th>Ill300x.alt_insertSize_mean</th>\n",
       "      <th>Ill300x.alt_insertSize_std</th>\n",
       "      <th>Ill300x.alt_reason_alignmentScore</th>\n",
       "      <th>Ill300x.alt_reason_insertSizeScore</th>\n",
       "      <th>Ill300x.alt_reason_orientation</th>\n",
       "      <th>Ill300x.amb_alnScore_mean</th>\n",
       "      <th>Ill300x.amb_alnScore_std</th>\n",
       "      <th>...</th>\n",
       "      <th>TenX.HP2_ref_insertSize_std</th>\n",
       "      <th>TenX.HP2_ref_reason_alignmentScore</th>\n",
       "      <th>TenX.HP2_ref_reason_orientation</th>\n",
       "      <th>tandemrep_cnt</th>\n",
       "      <th>tandemrep_pct</th>\n",
       "      <th>segdup_cnt</th>\n",
       "      <th>segdup_pct</th>\n",
       "      <th>refN_cnt</th>\n",
       "      <th>refN_pct</th>\n",
       "      <th>Label</th>\n",
       "    </tr>\n",
       "  </thead>\n",
       "  <tbody>\n",
       "    <tr>\n",
       "      <th>0</th>\n",
       "      <td>579.446154</td>\n",
       "      <td>17.934094</td>\n",
       "      <td>65.0</td>\n",
       "      <td>756.430769</td>\n",
       "      <td>163.879409</td>\n",
       "      <td>0.0</td>\n",
       "      <td>65.0</td>\n",
       "      <td>0.0</td>\n",
       "      <td>526.250785</td>\n",
       "      <td>88.797088</td>\n",
       "      <td>...</td>\n",
       "      <td>25.500000</td>\n",
       "      <td>2.0</td>\n",
       "      <td>0.0</td>\n",
       "      <td>8</td>\n",
       "      <td>0.096911</td>\n",
       "      <td>0</td>\n",
       "      <td>0.0</td>\n",
       "      <td>0</td>\n",
       "      <td>0</td>\n",
       "      <td>1.0</td>\n",
       "    </tr>\n",
       "    <tr>\n",
       "      <th>1</th>\n",
       "      <td>557.000000</td>\n",
       "      <td>20.665840</td>\n",
       "      <td>13.0</td>\n",
       "      <td>1158.307692</td>\n",
       "      <td>134.247982</td>\n",
       "      <td>0.0</td>\n",
       "      <td>13.0</td>\n",
       "      <td>0.0</td>\n",
       "      <td>545.050452</td>\n",
       "      <td>62.371767</td>\n",
       "      <td>...</td>\n",
       "      <td>138.336019</td>\n",
       "      <td>12.0</td>\n",
       "      <td>0.0</td>\n",
       "      <td>2</td>\n",
       "      <td>0.221591</td>\n",
       "      <td>0</td>\n",
       "      <td>0.0</td>\n",
       "      <td>0</td>\n",
       "      <td>0</td>\n",
       "      <td>1.0</td>\n",
       "    </tr>\n",
       "    <tr>\n",
       "      <th>2</th>\n",
       "      <td>574.335366</td>\n",
       "      <td>18.613946</td>\n",
       "      <td>164.0</td>\n",
       "      <td>678.518293</td>\n",
       "      <td>139.056203</td>\n",
       "      <td>31.0</td>\n",
       "      <td>133.0</td>\n",
       "      <td>0.0</td>\n",
       "      <td>518.296740</td>\n",
       "      <td>91.633718</td>\n",
       "      <td>...</td>\n",
       "      <td>181.532366</td>\n",
       "      <td>3.0</td>\n",
       "      <td>0.0</td>\n",
       "      <td>3</td>\n",
       "      <td>0.059443</td>\n",
       "      <td>0</td>\n",
       "      <td>0.0</td>\n",
       "      <td>0</td>\n",
       "      <td>0</td>\n",
       "      <td>0.0</td>\n",
       "    </tr>\n",
       "  </tbody>\n",
       "</table>\n",
       "<p>3 rows × 171 columns</p>\n",
       "</div>"
      ],
      "text/plain": [
       "   Ill300x.alt_alnScore_mean  Ill300x.alt_alnScore_std  Ill300x.alt_count  \\\n",
       "0                 579.446154                 17.934094               65.0   \n",
       "1                 557.000000                 20.665840               13.0   \n",
       "2                 574.335366                 18.613946              164.0   \n",
       "\n",
       "   Ill300x.alt_insertSize_mean  Ill300x.alt_insertSize_std  \\\n",
       "0                   756.430769                  163.879409   \n",
       "1                  1158.307692                  134.247982   \n",
       "2                   678.518293                  139.056203   \n",
       "\n",
       "   Ill300x.alt_reason_alignmentScore  Ill300x.alt_reason_insertSizeScore  \\\n",
       "0                                0.0                                65.0   \n",
       "1                                0.0                                13.0   \n",
       "2                               31.0                               133.0   \n",
       "\n",
       "   Ill300x.alt_reason_orientation  Ill300x.amb_alnScore_mean  \\\n",
       "0                             0.0                 526.250785   \n",
       "1                             0.0                 545.050452   \n",
       "2                             0.0                 518.296740   \n",
       "\n",
       "   Ill300x.amb_alnScore_std  ...    TenX.HP2_ref_insertSize_std  \\\n",
       "0                 88.797088  ...                      25.500000   \n",
       "1                 62.371767  ...                     138.336019   \n",
       "2                 91.633718  ...                     181.532366   \n",
       "\n",
       "   TenX.HP2_ref_reason_alignmentScore  TenX.HP2_ref_reason_orientation  \\\n",
       "0                                 2.0                              0.0   \n",
       "1                                12.0                              0.0   \n",
       "2                                 3.0                              0.0   \n",
       "\n",
       "   tandemrep_cnt  tandemrep_pct  segdup_cnt  segdup_pct  refN_cnt  refN_pct  \\\n",
       "0              8       0.096911           0         0.0         0         0   \n",
       "1              2       0.221591           0         0.0         0         0   \n",
       "2              3       0.059443           0         0.0         0         0   \n",
       "\n",
       "   Label  \n",
       "0    1.0  \n",
       "1    1.0  \n",
       "2    0.0  \n",
       "\n",
       "[3 rows x 171 columns]"
      ]
     },
     "execution_count": 10,
     "metadata": {},
     "output_type": "execute_result"
    }
   ],
   "source": [
    "df_crowd.head(3)"
   ]
  },
  {
   "cell_type": "markdown",
   "metadata": {},
   "source": [
    "*** \n",
    "Impute missing values using KNN \n",
    "***"
   ]
  },
  {
   "cell_type": "code",
   "execution_count": 11,
   "metadata": {},
   "outputs": [
    {
     "data": {
      "text/html": [
       "<div>\n",
       "<table border=\"1\" class=\"dataframe\">\n",
       "  <thead>\n",
       "    <tr style=\"text-align: right;\">\n",
       "      <th></th>\n",
       "      <th>Ill300x.alt_alnScore_mean</th>\n",
       "      <th>Ill300x.alt_alnScore_std</th>\n",
       "      <th>Ill300x.alt_count</th>\n",
       "      <th>Ill300x.alt_insertSize_mean</th>\n",
       "      <th>Ill300x.alt_insertSize_std</th>\n",
       "      <th>Ill300x.alt_reason_alignmentScore</th>\n",
       "      <th>Ill300x.alt_reason_insertSizeScore</th>\n",
       "      <th>Ill300x.alt_reason_orientation</th>\n",
       "      <th>Ill300x.amb_alnScore_mean</th>\n",
       "      <th>Ill300x.amb_alnScore_std</th>\n",
       "      <th>...</th>\n",
       "      <th>TenX.HP2_ref_insertSize_std</th>\n",
       "      <th>TenX.HP2_ref_reason_alignmentScore</th>\n",
       "      <th>TenX.HP2_ref_reason_orientation</th>\n",
       "      <th>tandemrep_cnt</th>\n",
       "      <th>tandemrep_pct</th>\n",
       "      <th>segdup_cnt</th>\n",
       "      <th>segdup_pct</th>\n",
       "      <th>refN_cnt</th>\n",
       "      <th>refN_pct</th>\n",
       "      <th>Label</th>\n",
       "    </tr>\n",
       "  </thead>\n",
       "  <tbody>\n",
       "    <tr>\n",
       "      <th>0</th>\n",
       "      <td>579.446154</td>\n",
       "      <td>17.934094</td>\n",
       "      <td>65.0</td>\n",
       "      <td>756.430769</td>\n",
       "      <td>163.879409</td>\n",
       "      <td>0.0</td>\n",
       "      <td>65.0</td>\n",
       "      <td>0.0</td>\n",
       "      <td>526.250785</td>\n",
       "      <td>88.797088</td>\n",
       "      <td>...</td>\n",
       "      <td>25.500000</td>\n",
       "      <td>2.0</td>\n",
       "      <td>0.0</td>\n",
       "      <td>8</td>\n",
       "      <td>0.096911</td>\n",
       "      <td>0</td>\n",
       "      <td>0.0</td>\n",
       "      <td>0</td>\n",
       "      <td>0</td>\n",
       "      <td>1.0</td>\n",
       "    </tr>\n",
       "    <tr>\n",
       "      <th>1</th>\n",
       "      <td>557.000000</td>\n",
       "      <td>20.665840</td>\n",
       "      <td>13.0</td>\n",
       "      <td>1158.307692</td>\n",
       "      <td>134.247982</td>\n",
       "      <td>0.0</td>\n",
       "      <td>13.0</td>\n",
       "      <td>0.0</td>\n",
       "      <td>545.050452</td>\n",
       "      <td>62.371767</td>\n",
       "      <td>...</td>\n",
       "      <td>138.336019</td>\n",
       "      <td>12.0</td>\n",
       "      <td>0.0</td>\n",
       "      <td>2</td>\n",
       "      <td>0.221591</td>\n",
       "      <td>0</td>\n",
       "      <td>0.0</td>\n",
       "      <td>0</td>\n",
       "      <td>0</td>\n",
       "      <td>1.0</td>\n",
       "    </tr>\n",
       "    <tr>\n",
       "      <th>2</th>\n",
       "      <td>574.335366</td>\n",
       "      <td>18.613946</td>\n",
       "      <td>164.0</td>\n",
       "      <td>678.518293</td>\n",
       "      <td>139.056203</td>\n",
       "      <td>31.0</td>\n",
       "      <td>133.0</td>\n",
       "      <td>0.0</td>\n",
       "      <td>518.296740</td>\n",
       "      <td>91.633718</td>\n",
       "      <td>...</td>\n",
       "      <td>181.532366</td>\n",
       "      <td>3.0</td>\n",
       "      <td>0.0</td>\n",
       "      <td>3</td>\n",
       "      <td>0.059443</td>\n",
       "      <td>0</td>\n",
       "      <td>0.0</td>\n",
       "      <td>0</td>\n",
       "      <td>0</td>\n",
       "      <td>0.0</td>\n",
       "    </tr>\n",
       "  </tbody>\n",
       "</table>\n",
       "<p>3 rows × 171 columns</p>\n",
       "</div>"
      ],
      "text/plain": [
       "   Ill300x.alt_alnScore_mean  Ill300x.alt_alnScore_std  Ill300x.alt_count  \\\n",
       "0                 579.446154                 17.934094               65.0   \n",
       "1                 557.000000                 20.665840               13.0   \n",
       "2                 574.335366                 18.613946              164.0   \n",
       "\n",
       "   Ill300x.alt_insertSize_mean  Ill300x.alt_insertSize_std  \\\n",
       "0                   756.430769                  163.879409   \n",
       "1                  1158.307692                  134.247982   \n",
       "2                   678.518293                  139.056203   \n",
       "\n",
       "   Ill300x.alt_reason_alignmentScore  Ill300x.alt_reason_insertSizeScore  \\\n",
       "0                                0.0                                65.0   \n",
       "1                                0.0                                13.0   \n",
       "2                               31.0                               133.0   \n",
       "\n",
       "   Ill300x.alt_reason_orientation  Ill300x.amb_alnScore_mean  \\\n",
       "0                             0.0                 526.250785   \n",
       "1                             0.0                 545.050452   \n",
       "2                             0.0                 518.296740   \n",
       "\n",
       "   Ill300x.amb_alnScore_std  ...    TenX.HP2_ref_insertSize_std  \\\n",
       "0                 88.797088  ...                      25.500000   \n",
       "1                 62.371767  ...                     138.336019   \n",
       "2                 91.633718  ...                     181.532366   \n",
       "\n",
       "   TenX.HP2_ref_reason_alignmentScore  TenX.HP2_ref_reason_orientation  \\\n",
       "0                                 2.0                              0.0   \n",
       "1                                12.0                              0.0   \n",
       "2                                 3.0                              0.0   \n",
       "\n",
       "   tandemrep_cnt  tandemrep_pct  segdup_cnt  segdup_pct  refN_cnt  refN_pct  \\\n",
       "0              8       0.096911           0         0.0         0         0   \n",
       "1              2       0.221591           0         0.0         0         0   \n",
       "2              3       0.059443           0         0.0         0         0   \n",
       "\n",
       "   Label  \n",
       "0    1.0  \n",
       "1    1.0  \n",
       "2    0.0  \n",
       "\n",
       "[3 rows x 171 columns]"
      ]
     },
     "execution_count": 11,
     "metadata": {},
     "output_type": "execute_result"
    }
   ],
   "source": [
    "# Store data in a new variable which will be converted to a matrix\n",
    "X = df_crowd\n",
    "X.head(3)"
   ]
  },
  {
   "cell_type": "code",
   "execution_count": 12,
   "metadata": {},
   "outputs": [
    {
     "name": "stdout",
     "output_type": "stream",
     "text": [
      "Imputing row 1/1515 with 0 missing, elapsed time: 1.851\n",
      "Imputing row 101/1515 with 0 missing, elapsed time: 1.924\n",
      "Imputing row 201/1515 with 0 missing, elapsed time: 1.926\n",
      "Imputing row 301/1515 with 0 missing, elapsed time: 1.930\n",
      "Imputing row 401/1515 with 0 missing, elapsed time: 1.934\n",
      "Imputing row 501/1515 with 0 missing, elapsed time: 1.936\n",
      "Imputing row 601/1515 with 0 missing, elapsed time: 1.938\n",
      "Imputing row 701/1515 with 0 missing, elapsed time: 1.939\n",
      "Imputing row 801/1515 with 0 missing, elapsed time: 1.940\n",
      "Imputing row 901/1515 with 0 missing, elapsed time: 1.941\n",
      "Imputing row 1001/1515 with 0 missing, elapsed time: 1.941\n",
      "Imputing row 1101/1515 with 0 missing, elapsed time: 1.946\n",
      "Imputing row 1201/1515 with 0 missing, elapsed time: 1.948\n",
      "Imputing row 1301/1515 with 0 missing, elapsed time: 1.949\n",
      "Imputing row 1401/1515 with 0 missing, elapsed time: 1.949\n",
      "Imputing row 1501/1515 with 0 missing, elapsed time: 1.950\n"
     ]
    }
   ],
   "source": [
    "# Convert dataframe to matrix\n",
    "X=X.as_matrix()\n",
    "\n",
    "#Imput missing values from three closest observations\n",
    "X_imputed=KNN(k=3).complete(X)\n",
    "X=pd.DataFrame(X_imputed)"
   ]
  },
  {
   "cell_type": "code",
   "execution_count": 13,
   "metadata": {
    "collapsed": true
   },
   "outputs": [],
   "source": [
    "# Store header values in a list, will be used later to re-label the matrix post KNN imputation\n",
    "dfcrowd_header = list(df_crowd.columns.values)"
   ]
  },
  {
   "cell_type": "code",
   "execution_count": 14,
   "metadata": {},
   "outputs": [
    {
     "data": {
      "text/html": [
       "<div>\n",
       "<table border=\"1\" class=\"dataframe\">\n",
       "  <thead>\n",
       "    <tr style=\"text-align: right;\">\n",
       "      <th></th>\n",
       "      <th>Ill300x.alt_alnScore_mean</th>\n",
       "      <th>Ill300x.alt_alnScore_std</th>\n",
       "      <th>Ill300x.alt_count</th>\n",
       "      <th>Ill300x.alt_insertSize_mean</th>\n",
       "      <th>Ill300x.alt_insertSize_std</th>\n",
       "      <th>Ill300x.alt_reason_alignmentScore</th>\n",
       "      <th>Ill300x.alt_reason_insertSizeScore</th>\n",
       "      <th>Ill300x.alt_reason_orientation</th>\n",
       "      <th>Ill300x.amb_alnScore_mean</th>\n",
       "      <th>Ill300x.amb_alnScore_std</th>\n",
       "      <th>...</th>\n",
       "      <th>TenX.HP2_ref_insertSize_std</th>\n",
       "      <th>TenX.HP2_ref_reason_alignmentScore</th>\n",
       "      <th>TenX.HP2_ref_reason_orientation</th>\n",
       "      <th>tandemrep_cnt</th>\n",
       "      <th>tandemrep_pct</th>\n",
       "      <th>segdup_cnt</th>\n",
       "      <th>segdup_pct</th>\n",
       "      <th>refN_cnt</th>\n",
       "      <th>refN_pct</th>\n",
       "      <th>Label</th>\n",
       "    </tr>\n",
       "  </thead>\n",
       "  <tbody>\n",
       "    <tr>\n",
       "      <th>0</th>\n",
       "      <td>579.446154</td>\n",
       "      <td>17.934094</td>\n",
       "      <td>65.0</td>\n",
       "      <td>756.430769</td>\n",
       "      <td>163.879409</td>\n",
       "      <td>0.0</td>\n",
       "      <td>65.0</td>\n",
       "      <td>0.0</td>\n",
       "      <td>526.250785</td>\n",
       "      <td>88.797088</td>\n",
       "      <td>...</td>\n",
       "      <td>25.500000</td>\n",
       "      <td>2.0</td>\n",
       "      <td>0.0</td>\n",
       "      <td>8.0</td>\n",
       "      <td>0.096911</td>\n",
       "      <td>0.0</td>\n",
       "      <td>0.0</td>\n",
       "      <td>0.0</td>\n",
       "      <td>0.0</td>\n",
       "      <td>1.0</td>\n",
       "    </tr>\n",
       "    <tr>\n",
       "      <th>1</th>\n",
       "      <td>557.000000</td>\n",
       "      <td>20.665840</td>\n",
       "      <td>13.0</td>\n",
       "      <td>1158.307692</td>\n",
       "      <td>134.247982</td>\n",
       "      <td>0.0</td>\n",
       "      <td>13.0</td>\n",
       "      <td>0.0</td>\n",
       "      <td>545.050452</td>\n",
       "      <td>62.371767</td>\n",
       "      <td>...</td>\n",
       "      <td>138.336019</td>\n",
       "      <td>12.0</td>\n",
       "      <td>0.0</td>\n",
       "      <td>2.0</td>\n",
       "      <td>0.221591</td>\n",
       "      <td>0.0</td>\n",
       "      <td>0.0</td>\n",
       "      <td>0.0</td>\n",
       "      <td>0.0</td>\n",
       "      <td>1.0</td>\n",
       "    </tr>\n",
       "    <tr>\n",
       "      <th>2</th>\n",
       "      <td>574.335366</td>\n",
       "      <td>18.613946</td>\n",
       "      <td>164.0</td>\n",
       "      <td>678.518293</td>\n",
       "      <td>139.056203</td>\n",
       "      <td>31.0</td>\n",
       "      <td>133.0</td>\n",
       "      <td>0.0</td>\n",
       "      <td>518.296740</td>\n",
       "      <td>91.633718</td>\n",
       "      <td>...</td>\n",
       "      <td>181.532366</td>\n",
       "      <td>3.0</td>\n",
       "      <td>0.0</td>\n",
       "      <td>3.0</td>\n",
       "      <td>0.059443</td>\n",
       "      <td>0.0</td>\n",
       "      <td>0.0</td>\n",
       "      <td>0.0</td>\n",
       "      <td>0.0</td>\n",
       "      <td>0.0</td>\n",
       "    </tr>\n",
       "  </tbody>\n",
       "</table>\n",
       "<p>3 rows × 171 columns</p>\n",
       "</div>"
      ],
      "text/plain": [
       "   Ill300x.alt_alnScore_mean  Ill300x.alt_alnScore_std  Ill300x.alt_count  \\\n",
       "0                 579.446154                 17.934094               65.0   \n",
       "1                 557.000000                 20.665840               13.0   \n",
       "2                 574.335366                 18.613946              164.0   \n",
       "\n",
       "   Ill300x.alt_insertSize_mean  Ill300x.alt_insertSize_std  \\\n",
       "0                   756.430769                  163.879409   \n",
       "1                  1158.307692                  134.247982   \n",
       "2                   678.518293                  139.056203   \n",
       "\n",
       "   Ill300x.alt_reason_alignmentScore  Ill300x.alt_reason_insertSizeScore  \\\n",
       "0                                0.0                                65.0   \n",
       "1                                0.0                                13.0   \n",
       "2                               31.0                               133.0   \n",
       "\n",
       "   Ill300x.alt_reason_orientation  Ill300x.amb_alnScore_mean  \\\n",
       "0                             0.0                 526.250785   \n",
       "1                             0.0                 545.050452   \n",
       "2                             0.0                 518.296740   \n",
       "\n",
       "   Ill300x.amb_alnScore_std  ...    TenX.HP2_ref_insertSize_std  \\\n",
       "0                 88.797088  ...                      25.500000   \n",
       "1                 62.371767  ...                     138.336019   \n",
       "2                 91.633718  ...                     181.532366   \n",
       "\n",
       "   TenX.HP2_ref_reason_alignmentScore  TenX.HP2_ref_reason_orientation  \\\n",
       "0                                 2.0                              0.0   \n",
       "1                                12.0                              0.0   \n",
       "2                                 3.0                              0.0   \n",
       "\n",
       "   tandemrep_cnt  tandemrep_pct  segdup_cnt  segdup_pct  refN_cnt  refN_pct  \\\n",
       "0            8.0       0.096911         0.0         0.0       0.0       0.0   \n",
       "1            2.0       0.221591         0.0         0.0       0.0       0.0   \n",
       "2            3.0       0.059443         0.0         0.0       0.0       0.0   \n",
       "\n",
       "   Label  \n",
       "0    1.0  \n",
       "1    1.0  \n",
       "2    0.0  \n",
       "\n",
       "[3 rows x 171 columns]"
      ]
     },
     "execution_count": 14,
     "metadata": {},
     "output_type": "execute_result"
    }
   ],
   "source": [
    "X.columns = dfcrowd_header\n",
    "X.head(3)"
   ]
  },
  {
   "cell_type": "code",
   "execution_count": 15,
   "metadata": {
    "collapsed": true
   },
   "outputs": [],
   "source": [
    "# Store Labels in a new 'Y' DataFrame\n",
    "Y = pd.DataFrame()\n",
    "Y['Label'] = X['Label']\n",
    "#Y = X.pop('Label')"
   ]
  },
  {
   "cell_type": "code",
   "execution_count": 16,
   "metadata": {},
   "outputs": [
    {
     "data": {
      "text/plain": [
       " 1.0    959\n",
       " 0.0    552\n",
       "-1.0      1\n",
       " 2.0      3\n",
       "dtype: int64"
      ]
     },
     "execution_count": 16,
     "metadata": {},
     "output_type": "execute_result"
    }
   ],
   "source": [
    "#Count the number of labels\n",
    "pd.value_counts(Y['Label'].values, sort=False)"
   ]
  },
  {
   "cell_type": "code",
   "execution_count": 17,
   "metadata": {
    "collapsed": true
   },
   "outputs": [],
   "source": [
    "# Remove labels from feature set\n",
    "X.drop(['Label'],axis=1, inplace = True)"
   ]
  },
  {
   "cell_type": "code",
   "execution_count": 18,
   "metadata": {
    "collapsed": true
   },
   "outputs": [],
   "source": [
    "# Order features\n",
    "X4 = X.reindex_axis(sorted(X.columns), axis=1)"
   ]
  },
  {
   "cell_type": "markdown",
   "metadata": {},
   "source": [
    "***\n",
    "Machine Learning\n",
    "***"
   ]
  },
  {
   "cell_type": "markdown",
   "metadata": {},
   "source": [
    "** Train RF Classifier **"
   ]
  },
  {
   "cell_type": "code",
   "execution_count": 19,
   "metadata": {
    "collapsed": true
   },
   "outputs": [],
   "source": [
    "# Train Test Split\n",
    "# Train on 70% of the data and test on 30%\n",
    "X_train, X_test, y_train, y_test = train_test_split(X4, Y, test_size=0.3, random_state=0)"
   ]
  },
  {
   "cell_type": "code",
   "execution_count": 20,
   "metadata": {},
   "outputs": [
    {
     "name": "stderr",
     "output_type": "stream",
     "text": [
      "/Users/lmc2/anaconda/envs/NIHFAES/lib/python3.5/site-packages/ipykernel/__main__.py:3: DataConversionWarning:\n",
      "\n",
      "A column-vector y was passed when a 1d array was expected. Please change the shape of y to (n_samples,), for example using ravel().\n",
      "\n"
     ]
    },
    {
     "data": {
      "text/plain": [
       "RandomForestClassifier(bootstrap=True, class_weight=None, criterion='gini',\n",
       "            max_depth=None, max_features='auto', max_leaf_nodes=None,\n",
       "            min_impurity_split=1e-07, min_samples_leaf=1,\n",
       "            min_samples_split=2, min_weight_fraction_leaf=0.0,\n",
       "            n_estimators=10, n_jobs=1, oob_score=False, random_state=None,\n",
       "            verbose=0, warm_start=False)"
      ]
     },
     "execution_count": 20,
     "metadata": {},
     "output_type": "execute_result"
    }
   ],
   "source": [
    "# Train Random Forest Classifier\n",
    "model = RandomForestClassifier() \n",
    "model.fit(X_train, y_train)"
   ]
  },
  {
   "cell_type": "code",
   "execution_count": 21,
   "metadata": {},
   "outputs": [
    {
     "data": {
      "text/plain": [
       " 1.0    671\n",
       " 0.0     73\n",
       "-1.0      1\n",
       " 2.0      2\n",
       "dtype: int64"
      ]
     },
     "execution_count": 21,
     "metadata": {},
     "output_type": "execute_result"
    }
   ],
   "source": [
    "#NOTE: Training Set - Show number of Hom Ref, Hom Var, Het Var datapoints the model was trained on\n",
    "ytrain = pd.DataFrame()\n",
    "ytrain['ytrain'] = y_train\n",
    "pd.value_counts(ytrain['ytrain'].values, sort=False)"
   ]
  },
  {
   "cell_type": "markdown",
   "metadata": {},
   "source": [
    "** Precision Score **\n",
    "- Overall model performance\n",
    "- Using 30% of original dataset (test set)\n",
    "- Truth labels: CrowdVariant labels"
   ]
  },
  {
   "cell_type": "code",
   "execution_count": 22,
   "metadata": {},
   "outputs": [
    {
     "data": {
      "text/plain": [
       "array([ 0.,  1.,  1.,  1.,  1.,  1.,  1.,  1.,  1.,  1.,  0.,  1.,  0.,\n",
       "        0.,  1.,  1.,  1.,  1.,  1.,  0.,  1.,  1.,  1.,  1.,  0.,  1.,\n",
       "        0.,  1.,  1.,  1.,  1.,  1.,  0.,  1.,  0.,  0.,  1.,  0.,  1.,\n",
       "        1.,  1.,  1.,  1.,  1.,  1.,  0.,  1.,  1.,  1.,  1.,  1.,  1.,\n",
       "        0.,  1.,  1.,  1.,  0.,  0.,  1.,  1.,  1.,  1.,  0.,  0.,  1.,\n",
       "        1.,  0.,  1.,  0.,  0.,  0.,  1.,  0.,  1.,  1.,  0.,  1.,  1.,\n",
       "        1.,  1.,  0.,  0.,  1.,  0.,  1.,  0.,  1.,  0.,  1.,  1.,  0.,\n",
       "        1.,  0.,  1.,  0.,  1.,  1.,  0.,  0.,  1.,  0.,  1.,  1.,  1.,\n",
       "        1.,  0.,  1.,  0.,  1.,  1.,  0.,  0.,  0.,  0.,  0.,  1.,  1.,\n",
       "        0.,  1.,  0.,  0.,  1.,  0.,  0.,  0.,  0.,  1.,  0.,  1.,  1.,\n",
       "        0.,  0.,  1.,  1.,  0.,  1.,  1.,  1.,  0.,  0.,  1.,  0.,  0.,\n",
       "        1.,  1.,  1.,  0.,  1.,  0.,  1.,  1.,  1.,  0.,  1.,  0.,  1.,\n",
       "        1.,  0.,  0.,  1.,  1.,  0.,  0.,  0.,  0.,  1.,  1.,  1.,  0.,\n",
       "        1.,  1.,  0.,  0.,  1.,  1.,  1.,  0.,  0.,  1.,  0.,  0.,  1.,\n",
       "        1.,  0.,  1.,  0.,  1.,  0.,  1.,  1.,  1.,  1.,  0.,  1.,  0.,\n",
       "        1.,  0.,  0.,  1.,  0.,  1.,  1.,  1.,  1.,  1.,  1.,  0.,  1.,\n",
       "        0.,  0.,  0.,  1.,  0.,  1.,  1.,  1.,  1.,  0.,  1.,  1.,  0.,\n",
       "        1.,  1.,  0.,  0.,  0.,  1.,  1.,  0.,  1.,  1.,  1.,  0.,  1.,\n",
       "        1.,  1.,  1.,  1.,  0.,  1.,  1.,  1.,  0.,  0.,  0.,  1.,  1.,\n",
       "        0.,  1.,  0.,  1.,  1.,  1.,  0.,  1.,  1.,  1.,  0.,  1.,  1.,\n",
       "        1.,  1.,  0.,  1.,  1.,  1.,  0.,  1.,  0.,  1.,  1.,  0.,  0.,\n",
       "        1.,  1.,  0.,  1.,  1.,  1.,  1.,  1.,  1.,  1.,  1.,  1.,  1.,\n",
       "        1.,  0.,  0.,  1.,  1.,  1.,  1.,  0.,  0.,  1.,  1.,  0.,  0.,\n",
       "        1.,  1.,  1.,  0.,  0.,  1.,  1.,  1.,  1.,  0.,  1.,  1.,  1.,\n",
       "        1.,  1.,  1.,  1.,  1.,  0.,  1.,  0.,  0.,  1.,  1.,  1.,  1.,\n",
       "        1.,  0.,  0.,  1.,  0.,  0.,  0.,  0.,  0.,  0.,  1.,  0.,  1.,\n",
       "        1.,  0.,  0.,  1.,  1.,  1.,  0.,  1.,  1.,  1.,  1.,  1.,  1.,\n",
       "        1.,  1.,  0.,  0.,  1.,  0.,  1.,  1.,  1.,  1.,  0.,  0.,  1.,\n",
       "        0.,  0.,  1.,  1.,  1.,  0.,  1.,  1.,  1.,  0.,  1.,  1.,  0.,\n",
       "        1.,  1.,  1.,  1.,  1.,  1.,  0.,  1.,  1.,  1.,  0.,  0.,  1.,\n",
       "        1.,  0.,  1.,  0.,  1.,  1.,  0.,  0.,  0.,  0.,  1.,  1.,  0.,\n",
       "        1.,  1.,  1.,  0.,  0.,  0.,  1.,  1.,  0.,  1.,  1.,  1.,  1.,\n",
       "        0.,  1.,  0.,  1.,  0.,  1.,  1.,  1.,  1.,  1.,  1.,  1.,  0.,\n",
       "        1.,  1.,  0.,  0.,  1.,  1.,  1.,  1.,  0.,  0.,  0.,  0.,  1.,\n",
       "        0.,  1.,  1.,  0.,  1.,  0.,  1.,  1.,  1.,  1.,  1.,  1.,  1.])"
      ]
     },
     "execution_count": 22,
     "metadata": {},
     "output_type": "execute_result"
    }
   ],
   "source": [
    "model.predict(X_test)"
   ]
  },
  {
   "cell_type": "code",
   "execution_count": 23,
   "metadata": {
    "collapsed": true
   },
   "outputs": [],
   "source": [
    "pred = model.predict(X_test)"
   ]
  },
  {
   "cell_type": "code",
   "execution_count": 24,
   "metadata": {},
   "outputs": [
    {
     "data": {
      "text/plain": [
       "0.97142857142857142"
      ]
     },
     "execution_count": 24,
     "metadata": {},
     "output_type": "execute_result"
    }
   ],
   "source": [
    "precision_score(pred, y_test, average='micro') "
   ]
  },
  {
   "cell_type": "code",
   "execution_count": 25,
   "metadata": {},
   "outputs": [
    {
     "data": {
      "text/html": [
       "<div>\n",
       "<table border=\"1\" class=\"dataframe\">\n",
       "  <thead>\n",
       "    <tr style=\"text-align: right;\">\n",
       "      <th></th>\n",
       "      <th>Ill250.alt_alnScore_mean</th>\n",
       "      <th>Ill250.alt_alnScore_std</th>\n",
       "      <th>Ill250.alt_count</th>\n",
       "      <th>Ill250.alt_insertSize_mean</th>\n",
       "      <th>Ill250.alt_insertSize_std</th>\n",
       "      <th>Ill250.alt_reason_alignmentScore</th>\n",
       "      <th>Ill250.alt_reason_insertSizeScore</th>\n",
       "      <th>Ill250.alt_reason_orientation</th>\n",
       "      <th>Ill250.amb_alnScore_mean</th>\n",
       "      <th>Ill250.amb_alnScore_std</th>\n",
       "      <th>...</th>\n",
       "      <th>pacbio.ref_count</th>\n",
       "      <th>pacbio.ref_insertSize_mean</th>\n",
       "      <th>pacbio.ref_insertSize_std</th>\n",
       "      <th>pacbio.ref_reason_alignmentScore</th>\n",
       "      <th>refN_cnt</th>\n",
       "      <th>refN_pct</th>\n",
       "      <th>segdup_cnt</th>\n",
       "      <th>segdup_pct</th>\n",
       "      <th>tandemrep_cnt</th>\n",
       "      <th>tandemrep_pct</th>\n",
       "    </tr>\n",
       "  </thead>\n",
       "  <tbody>\n",
       "    <tr>\n",
       "      <th>1222</th>\n",
       "      <td>994.916667</td>\n",
       "      <td>5.415384</td>\n",
       "      <td>48.0</td>\n",
       "      <td>447.020833</td>\n",
       "      <td>92.768864</td>\n",
       "      <td>44.0</td>\n",
       "      <td>4.0</td>\n",
       "      <td>0.0</td>\n",
       "      <td>904.924419</td>\n",
       "      <td>131.254148</td>\n",
       "      <td>...</td>\n",
       "      <td>0.0</td>\n",
       "      <td>0.00000</td>\n",
       "      <td>0.000000</td>\n",
       "      <td>0.0</td>\n",
       "      <td>0.0</td>\n",
       "      <td>0.0</td>\n",
       "      <td>0.0</td>\n",
       "      <td>0.000000</td>\n",
       "      <td>1.0</td>\n",
       "      <td>0.12500</td>\n",
       "    </tr>\n",
       "    <tr>\n",
       "      <th>310</th>\n",
       "      <td>970.742857</td>\n",
       "      <td>26.804416</td>\n",
       "      <td>35.0</td>\n",
       "      <td>460.485714</td>\n",
       "      <td>79.329465</td>\n",
       "      <td>34.0</td>\n",
       "      <td>1.0</td>\n",
       "      <td>0.0</td>\n",
       "      <td>881.921162</td>\n",
       "      <td>147.513942</td>\n",
       "      <td>...</td>\n",
       "      <td>34.0</td>\n",
       "      <td>10505.52941</td>\n",
       "      <td>3827.096344</td>\n",
       "      <td>34.0</td>\n",
       "      <td>0.0</td>\n",
       "      <td>0.0</td>\n",
       "      <td>0.0</td>\n",
       "      <td>0.000000</td>\n",
       "      <td>1.0</td>\n",
       "      <td>0.10625</td>\n",
       "    </tr>\n",
       "    <tr>\n",
       "      <th>9</th>\n",
       "      <td>0.000000</td>\n",
       "      <td>0.000000</td>\n",
       "      <td>0.0</td>\n",
       "      <td>0.000000</td>\n",
       "      <td>0.000000</td>\n",
       "      <td>0.0</td>\n",
       "      <td>0.0</td>\n",
       "      <td>0.0</td>\n",
       "      <td>886.094675</td>\n",
       "      <td>150.269472</td>\n",
       "      <td>...</td>\n",
       "      <td>25.0</td>\n",
       "      <td>9280.32000</td>\n",
       "      <td>4389.713227</td>\n",
       "      <td>25.0</td>\n",
       "      <td>0.0</td>\n",
       "      <td>0.0</td>\n",
       "      <td>0.0</td>\n",
       "      <td>0.000000</td>\n",
       "      <td>0.0</td>\n",
       "      <td>0.00000</td>\n",
       "    </tr>\n",
       "    <tr>\n",
       "      <th>785</th>\n",
       "      <td>978.500000</td>\n",
       "      <td>21.362350</td>\n",
       "      <td>20.0</td>\n",
       "      <td>425.550000</td>\n",
       "      <td>75.699719</td>\n",
       "      <td>19.0</td>\n",
       "      <td>1.0</td>\n",
       "      <td>0.0</td>\n",
       "      <td>903.137725</td>\n",
       "      <td>153.256269</td>\n",
       "      <td>...</td>\n",
       "      <td>30.0</td>\n",
       "      <td>11302.16667</td>\n",
       "      <td>5049.547201</td>\n",
       "      <td>30.0</td>\n",
       "      <td>0.0</td>\n",
       "      <td>0.0</td>\n",
       "      <td>1.0</td>\n",
       "      <td>0.404959</td>\n",
       "      <td>1.0</td>\n",
       "      <td>0.31405</td>\n",
       "    </tr>\n",
       "    <tr>\n",
       "      <th>295</th>\n",
       "      <td>955.318182</td>\n",
       "      <td>20.636213</td>\n",
       "      <td>22.0</td>\n",
       "      <td>446.727273</td>\n",
       "      <td>93.222696</td>\n",
       "      <td>21.0</td>\n",
       "      <td>1.0</td>\n",
       "      <td>0.0</td>\n",
       "      <td>894.035503</td>\n",
       "      <td>145.256675</td>\n",
       "      <td>...</td>\n",
       "      <td>26.0</td>\n",
       "      <td>10008.84615</td>\n",
       "      <td>3791.354088</td>\n",
       "      <td>26.0</td>\n",
       "      <td>0.0</td>\n",
       "      <td>0.0</td>\n",
       "      <td>0.0</td>\n",
       "      <td>0.000000</td>\n",
       "      <td>2.0</td>\n",
       "      <td>0.16358</td>\n",
       "    </tr>\n",
       "  </tbody>\n",
       "</table>\n",
       "<p>5 rows × 170 columns</p>\n",
       "</div>"
      ],
      "text/plain": [
       "      Ill250.alt_alnScore_mean  Ill250.alt_alnScore_std  Ill250.alt_count  \\\n",
       "1222                994.916667                 5.415384              48.0   \n",
       "310                 970.742857                26.804416              35.0   \n",
       "9                     0.000000                 0.000000               0.0   \n",
       "785                 978.500000                21.362350              20.0   \n",
       "295                 955.318182                20.636213              22.0   \n",
       "\n",
       "      Ill250.alt_insertSize_mean  Ill250.alt_insertSize_std  \\\n",
       "1222                  447.020833                  92.768864   \n",
       "310                   460.485714                  79.329465   \n",
       "9                       0.000000                   0.000000   \n",
       "785                   425.550000                  75.699719   \n",
       "295                   446.727273                  93.222696   \n",
       "\n",
       "      Ill250.alt_reason_alignmentScore  Ill250.alt_reason_insertSizeScore  \\\n",
       "1222                              44.0                                4.0   \n",
       "310                               34.0                                1.0   \n",
       "9                                  0.0                                0.0   \n",
       "785                               19.0                                1.0   \n",
       "295                               21.0                                1.0   \n",
       "\n",
       "      Ill250.alt_reason_orientation  Ill250.amb_alnScore_mean  \\\n",
       "1222                            0.0                904.924419   \n",
       "310                             0.0                881.921162   \n",
       "9                               0.0                886.094675   \n",
       "785                             0.0                903.137725   \n",
       "295                             0.0                894.035503   \n",
       "\n",
       "      Ill250.amb_alnScore_std      ...        pacbio.ref_count  \\\n",
       "1222               131.254148      ...                     0.0   \n",
       "310                147.513942      ...                    34.0   \n",
       "9                  150.269472      ...                    25.0   \n",
       "785                153.256269      ...                    30.0   \n",
       "295                145.256675      ...                    26.0   \n",
       "\n",
       "      pacbio.ref_insertSize_mean  pacbio.ref_insertSize_std  \\\n",
       "1222                     0.00000                   0.000000   \n",
       "310                  10505.52941                3827.096344   \n",
       "9                     9280.32000                4389.713227   \n",
       "785                  11302.16667                5049.547201   \n",
       "295                  10008.84615                3791.354088   \n",
       "\n",
       "      pacbio.ref_reason_alignmentScore  refN_cnt  refN_pct  segdup_cnt  \\\n",
       "1222                               0.0       0.0       0.0         0.0   \n",
       "310                               34.0       0.0       0.0         0.0   \n",
       "9                                 25.0       0.0       0.0         0.0   \n",
       "785                               30.0       0.0       0.0         1.0   \n",
       "295                               26.0       0.0       0.0         0.0   \n",
       "\n",
       "      segdup_pct  tandemrep_cnt  tandemrep_pct  \n",
       "1222    0.000000            1.0        0.12500  \n",
       "310     0.000000            1.0        0.10625  \n",
       "9       0.000000            0.0        0.00000  \n",
       "785     0.404959            1.0        0.31405  \n",
       "295     0.000000            2.0        0.16358  \n",
       "\n",
       "[5 rows x 170 columns]"
      ]
     },
     "execution_count": 25,
     "metadata": {},
     "output_type": "execute_result"
    }
   ],
   "source": [
    "# Add original labels and predicted labels back to the original dataframe\n",
    "df_Xtest = pd.DataFrame(X_test)\n",
    "df_Xtest.head()"
   ]
  },
  {
   "cell_type": "code",
   "execution_count": 26,
   "metadata": {
    "collapsed": true
   },
   "outputs": [],
   "source": [
    "labels = pd.DataFrame(y_test)"
   ]
  },
  {
   "cell_type": "code",
   "execution_count": 27,
   "metadata": {
    "collapsed": true
   },
   "outputs": [],
   "source": [
    "df_Xtest['predicted_label'] = pred\n",
    "df_Xtest['Label'] = df_crowd['Label']\n",
    "df_Xtest['chrom'] = df_crowd_2['chrom']\n",
    "df_Xtest['start'] = df_crowd_2['start']\n",
    "df_Xtest['end'] = df_crowd_2['end']\n",
    "# df_Xtest['Y_test'] = labels"
   ]
  },
  {
   "cell_type": "code",
   "execution_count": 28,
   "metadata": {},
   "outputs": [
    {
     "data": {
      "text/plain": [
       "0.0    166\n",
       "1.0    288\n",
       "2.0      1\n",
       "dtype: int64"
      ]
     },
     "execution_count": 28,
     "metadata": {},
     "output_type": "execute_result"
    }
   ],
   "source": [
    "pd.value_counts(df_Xtest['Label'].values, sort=False)"
   ]
  },
  {
   "cell_type": "code",
   "execution_count": 29,
   "metadata": {},
   "outputs": [
    {
     "data": {
      "text/plain": [
       "0.0    168\n",
       "1.0    287\n",
       "dtype: int64"
      ]
     },
     "execution_count": 29,
     "metadata": {},
     "output_type": "execute_result"
    }
   ],
   "source": [
    "pd.value_counts(df_Xtest['predicted_label'].values, sort=False)"
   ]
  },
  {
   "cell_type": "code",
   "execution_count": 30,
   "metadata": {},
   "outputs": [
    {
     "name": "stdout",
     "output_type": "stream",
     "text": [
      "[[161   5   0]\n",
      " [  7 281   0]\n",
      " [  0   1   0]]\n"
     ]
    }
   ],
   "source": [
    "from sklearn.metrics import confusion_matrix\n",
    "ytest = df_Xtest['Label']\n",
    "predict = df_Xtest['predicted_label']\n",
    "print(confusion_matrix(ytest, predict))"
   ]
  },
  {
   "cell_type": "code",
   "execution_count": 31,
   "metadata": {},
   "outputs": [
    {
     "data": {
      "text/html": [
       "<div>\n",
       "<table border=\"1\" class=\"dataframe\">\n",
       "  <thead>\n",
       "    <tr style=\"text-align: right;\">\n",
       "      <th>Predicted</th>\n",
       "      <th>0.0</th>\n",
       "      <th>1.0</th>\n",
       "      <th>All</th>\n",
       "    </tr>\n",
       "    <tr>\n",
       "      <th>True</th>\n",
       "      <th></th>\n",
       "      <th></th>\n",
       "      <th></th>\n",
       "    </tr>\n",
       "  </thead>\n",
       "  <tbody>\n",
       "    <tr>\n",
       "      <th>0.0</th>\n",
       "      <td>161</td>\n",
       "      <td>5</td>\n",
       "      <td>166</td>\n",
       "    </tr>\n",
       "    <tr>\n",
       "      <th>1.0</th>\n",
       "      <td>7</td>\n",
       "      <td>281</td>\n",
       "      <td>288</td>\n",
       "    </tr>\n",
       "    <tr>\n",
       "      <th>2.0</th>\n",
       "      <td>0</td>\n",
       "      <td>1</td>\n",
       "      <td>1</td>\n",
       "    </tr>\n",
       "    <tr>\n",
       "      <th>All</th>\n",
       "      <td>168</td>\n",
       "      <td>287</td>\n",
       "      <td>455</td>\n",
       "    </tr>\n",
       "  </tbody>\n",
       "</table>\n",
       "</div>"
      ],
      "text/plain": [
       "Predicted  0.0  1.0  All\n",
       "True                    \n",
       "0.0        161    5  166\n",
       "1.0          7  281  288\n",
       "2.0          0    1    1\n",
       "All        168  287  455"
      ]
     },
     "execution_count": 31,
     "metadata": {},
     "output_type": "execute_result"
    }
   ],
   "source": [
    "pd.crosstab(ytest, predict, rownames=['True'], colnames=['Predicted'], margins=True)"
   ]
  },
  {
   "cell_type": "code",
   "execution_count": 32,
   "metadata": {},
   "outputs": [
    {
     "name": "stdout",
     "output_type": "stream",
     "text": [
      "             precision    recall  f1-score   support\n",
      "\n",
      "        0.0       0.96      0.97      0.96       166\n",
      "        1.0       0.98      0.98      0.98       288\n",
      "        2.0       0.00      0.00      0.00         1\n",
      "\n",
      "avg / total       0.97      0.97      0.97       455\n",
      "\n"
     ]
    },
    {
     "name": "stderr",
     "output_type": "stream",
     "text": [
      "/Users/lmc2/anaconda/envs/NIHFAES/lib/python3.5/site-packages/sklearn/metrics/classification.py:1113: UndefinedMetricWarning:\n",
      "\n",
      "Precision and F-score are ill-defined and being set to 0.0 in labels with no predicted samples.\n",
      "\n"
     ]
    }
   ],
   "source": [
    "from sklearn.metrics import classification_report\n",
    "print(classification_report(ytest, predict))"
   ]
  },
  {
   "cell_type": "markdown",
   "metadata": {},
   "source": [
    "***\n",
    "Predict\n",
    "***"
   ]
  },
  {
   "cell_type": "markdown",
   "metadata": {},
   "source": [
    "**Load Data**"
   ]
  },
  {
   "cell_type": "code",
   "execution_count": 33,
   "metadata": {},
   "outputs": [
    {
     "data": {
      "text/html": [
       "<div>\n",
       "<table border=\"1\" class=\"dataframe\">\n",
       "  <thead>\n",
       "    <tr style=\"text-align: right;\">\n",
       "      <th></th>\n",
       "      <th>Ill300x.alt_alnScore_mean</th>\n",
       "      <th>Ill300x.alt_alnScore_std</th>\n",
       "      <th>Ill300x.alt_count</th>\n",
       "      <th>Ill300x.alt_insertSize_mean</th>\n",
       "      <th>Ill300x.alt_insertSize_std</th>\n",
       "      <th>Ill300x.alt_reason_alignmentScore</th>\n",
       "      <th>Ill300x.alt_reason_insertSizeScore</th>\n",
       "      <th>Ill300x.alt_reason_orientation</th>\n",
       "      <th>Ill300x.amb_alnScore_mean</th>\n",
       "      <th>Ill300x.amb_alnScore_std</th>\n",
       "      <th>...</th>\n",
       "      <th>pacbio.ref_insertSize_mean</th>\n",
       "      <th>pacbio.ref_insertSize_std</th>\n",
       "      <th>pacbio.ref_reason_alignmentScore</th>\n",
       "      <th>tandemrep_cnt</th>\n",
       "      <th>tandemrep_pct</th>\n",
       "      <th>segdup_cnt</th>\n",
       "      <th>segdup_pct</th>\n",
       "      <th>refN_cnt</th>\n",
       "      <th>refN_pct</th>\n",
       "      <th>GIAB_Crowd</th>\n",
       "    </tr>\n",
       "  </thead>\n",
       "  <tbody>\n",
       "    <tr>\n",
       "      <th>0</th>\n",
       "      <td>0.0</td>\n",
       "      <td>0.0</td>\n",
       "      <td>0.0</td>\n",
       "      <td>0.0</td>\n",
       "      <td>0.0</td>\n",
       "      <td>0.0</td>\n",
       "      <td>0.0</td>\n",
       "      <td>0.0</td>\n",
       "      <td>541.033679</td>\n",
       "      <td>91.702755</td>\n",
       "      <td>...</td>\n",
       "      <td>9694.425532</td>\n",
       "      <td>4306.492796</td>\n",
       "      <td>47.0</td>\n",
       "      <td>0</td>\n",
       "      <td>0.0</td>\n",
       "      <td>0</td>\n",
       "      <td>0.000000</td>\n",
       "      <td>0</td>\n",
       "      <td>0</td>\n",
       "      <td>2</td>\n",
       "    </tr>\n",
       "    <tr>\n",
       "      <th>1</th>\n",
       "      <td>0.0</td>\n",
       "      <td>0.0</td>\n",
       "      <td>0.0</td>\n",
       "      <td>0.0</td>\n",
       "      <td>0.0</td>\n",
       "      <td>0.0</td>\n",
       "      <td>0.0</td>\n",
       "      <td>0.0</td>\n",
       "      <td>520.882022</td>\n",
       "      <td>78.521682</td>\n",
       "      <td>...</td>\n",
       "      <td>9218.592593</td>\n",
       "      <td>4009.865909</td>\n",
       "      <td>27.0</td>\n",
       "      <td>0</td>\n",
       "      <td>0.0</td>\n",
       "      <td>0</td>\n",
       "      <td>0.000000</td>\n",
       "      <td>0</td>\n",
       "      <td>0</td>\n",
       "      <td>2</td>\n",
       "    </tr>\n",
       "    <tr>\n",
       "      <th>2</th>\n",
       "      <td>0.0</td>\n",
       "      <td>0.0</td>\n",
       "      <td>0.0</td>\n",
       "      <td>0.0</td>\n",
       "      <td>0.0</td>\n",
       "      <td>0.0</td>\n",
       "      <td>0.0</td>\n",
       "      <td>0.0</td>\n",
       "      <td>531.881724</td>\n",
       "      <td>77.118761</td>\n",
       "      <td>...</td>\n",
       "      <td>10296.150000</td>\n",
       "      <td>4547.097621</td>\n",
       "      <td>40.0</td>\n",
       "      <td>0</td>\n",
       "      <td>0.0</td>\n",
       "      <td>1</td>\n",
       "      <td>0.675712</td>\n",
       "      <td>0</td>\n",
       "      <td>0</td>\n",
       "      <td>2</td>\n",
       "    </tr>\n",
       "  </tbody>\n",
       "</table>\n",
       "<p>3 rows × 171 columns</p>\n",
       "</div>"
      ],
      "text/plain": [
       "   Ill300x.alt_alnScore_mean  Ill300x.alt_alnScore_std  Ill300x.alt_count  \\\n",
       "0                        0.0                       0.0                0.0   \n",
       "1                        0.0                       0.0                0.0   \n",
       "2                        0.0                       0.0                0.0   \n",
       "\n",
       "   Ill300x.alt_insertSize_mean  Ill300x.alt_insertSize_std  \\\n",
       "0                          0.0                         0.0   \n",
       "1                          0.0                         0.0   \n",
       "2                          0.0                         0.0   \n",
       "\n",
       "   Ill300x.alt_reason_alignmentScore  Ill300x.alt_reason_insertSizeScore  \\\n",
       "0                                0.0                                 0.0   \n",
       "1                                0.0                                 0.0   \n",
       "2                                0.0                                 0.0   \n",
       "\n",
       "   Ill300x.alt_reason_orientation  Ill300x.amb_alnScore_mean  \\\n",
       "0                             0.0                 541.033679   \n",
       "1                             0.0                 520.882022   \n",
       "2                             0.0                 531.881724   \n",
       "\n",
       "   Ill300x.amb_alnScore_std     ...      pacbio.ref_insertSize_mean  \\\n",
       "0                 91.702755     ...                     9694.425532   \n",
       "1                 78.521682     ...                     9218.592593   \n",
       "2                 77.118761     ...                    10296.150000   \n",
       "\n",
       "   pacbio.ref_insertSize_std  pacbio.ref_reason_alignmentScore  tandemrep_cnt  \\\n",
       "0                4306.492796                              47.0              0   \n",
       "1                4009.865909                              27.0              0   \n",
       "2                4547.097621                              40.0              0   \n",
       "\n",
       "   tandemrep_pct  segdup_cnt  segdup_pct  refN_cnt  refN_pct  GIAB_Crowd  \n",
       "0            0.0           0    0.000000         0         0           2  \n",
       "1            0.0           0    0.000000         0         0           2  \n",
       "2            0.0           1    0.675712         0         0           2  \n",
       "\n",
       "[3 rows x 171 columns]"
      ]
     },
     "execution_count": 33,
     "metadata": {},
     "output_type": "execute_result"
    }
   ],
   "source": [
    "HG002_pred.head(3)"
   ]
  },
  {
   "cell_type": "code",
   "execution_count": 34,
   "metadata": {
    "collapsed": true
   },
   "outputs": [],
   "source": [
    "X2 = HG002_pred"
   ]
  },
  {
   "cell_type": "markdown",
   "metadata": {},
   "source": [
    "** Impute missing values using KNN **"
   ]
  },
  {
   "cell_type": "code",
   "execution_count": 35,
   "metadata": {},
   "outputs": [
    {
     "name": "stdout",
     "output_type": "stream",
     "text": [
      "Imputing row 1/2805 with 0 missing, elapsed time: 6.893\n",
      "Imputing row 101/2805 with 0 missing, elapsed time: 6.901\n",
      "Imputing row 201/2805 with 0 missing, elapsed time: 6.912\n",
      "Imputing row 301/2805 with 0 missing, elapsed time: 6.920\n",
      "Imputing row 401/2805 with 0 missing, elapsed time: 6.924\n",
      "Imputing row 501/2805 with 0 missing, elapsed time: 6.926\n",
      "Imputing row 601/2805 with 0 missing, elapsed time: 6.933\n",
      "Imputing row 701/2805 with 0 missing, elapsed time: 6.939\n",
      "Imputing row 801/2805 with 0 missing, elapsed time: 6.939\n",
      "Imputing row 901/2805 with 0 missing, elapsed time: 6.941\n",
      "Imputing row 1001/2805 with 0 missing, elapsed time: 6.946\n",
      "Imputing row 1101/2805 with 0 missing, elapsed time: 6.949\n",
      "Imputing row 1201/2805 with 0 missing, elapsed time: 6.949\n",
      "Imputing row 1301/2805 with 0 missing, elapsed time: 6.950\n",
      "Imputing row 1401/2805 with 0 missing, elapsed time: 6.952\n",
      "Imputing row 1501/2805 with 0 missing, elapsed time: 6.955\n",
      "Imputing row 1601/2805 with 0 missing, elapsed time: 6.964\n",
      "Imputing row 1701/2805 with 0 missing, elapsed time: 6.971\n",
      "Imputing row 1801/2805 with 0 missing, elapsed time: 6.984\n",
      "Imputing row 1901/2805 with 0 missing, elapsed time: 6.991\n",
      "Imputing row 2001/2805 with 0 missing, elapsed time: 7.006\n",
      "Imputing row 2101/2805 with 0 missing, elapsed time: 7.009\n",
      "Imputing row 2201/2805 with 0 missing, elapsed time: 7.010\n",
      "Imputing row 2301/2805 with 0 missing, elapsed time: 7.012\n",
      "Imputing row 2401/2805 with 0 missing, elapsed time: 7.012\n",
      "Imputing row 2501/2805 with 0 missing, elapsed time: 7.031\n",
      "Imputing row 2601/2805 with 56 missing, elapsed time: 7.036\n",
      "Imputing row 2701/2805 with 0 missing, elapsed time: 7.052\n",
      "Imputing row 2801/2805 with 85 missing, elapsed time: 7.066\n"
     ]
    }
   ],
   "source": [
    "# Convert dataframe to matrix\n",
    "X2=X2.as_matrix()\n",
    "\n",
    "#Imput missing values from three closest observations\n",
    "X2_imputed=KNN(k=3).complete(X2)\n",
    "X2=pd.DataFrame(X2_imputed)"
   ]
  },
  {
   "cell_type": "code",
   "execution_count": 36,
   "metadata": {
    "collapsed": true
   },
   "outputs": [],
   "source": [
    "X2.columns = list(HG002_pred.columns.values)"
   ]
  },
  {
   "cell_type": "code",
   "execution_count": 37,
   "metadata": {
    "collapsed": true
   },
   "outputs": [],
   "source": [
    "X2.drop(['GIAB_Crowd'],axis=1, inplace = True)"
   ]
  },
  {
   "cell_type": "code",
   "execution_count": 38,
   "metadata": {
    "collapsed": true
   },
   "outputs": [],
   "source": [
    "# Order features\n",
    "X5 = X2.reindex_axis(sorted(X2.columns), axis=1)"
   ]
  },
  {
   "cell_type": "code",
   "execution_count": 39,
   "metadata": {
    "collapsed": true
   },
   "outputs": [],
   "source": [
    "X5.to_csv('All_Technologies.csv', index=False)"
   ]
  },
  {
   "cell_type": "code",
   "execution_count": 40,
   "metadata": {},
   "outputs": [],
   "source": [
    "# X5['chrom'].replace('X', 23, inplace=True)\n",
    "# X5['chrom'].replace('Y', 24, inplace=True)"
   ]
  },
  {
   "cell_type": "code",
   "execution_count": 41,
   "metadata": {},
   "outputs": [
    {
     "data": {
      "text/plain": [
       "array([ 1.,  1.,  1., ...,  0.,  0.,  0.])"
      ]
     },
     "execution_count": 41,
     "metadata": {},
     "output_type": "execute_result"
    }
   ],
   "source": [
    "model.predict(X5)"
   ]
  },
  {
   "cell_type": "code",
   "execution_count": 42,
   "metadata": {},
   "outputs": [
    {
     "data": {
      "text/plain": [
       "0.75721925133689838"
      ]
     },
     "execution_count": 42,
     "metadata": {},
     "output_type": "execute_result"
    }
   ],
   "source": [
    "# Calculate Precision Score\n",
    "true = HG002_pred['GIAB_Crowd']\n",
    "predicted = model.predict(X5)\n",
    "precision_score(true, predicted, average='micro') "
   ]
  },
  {
   "cell_type": "code",
   "execution_count": 43,
   "metadata": {},
   "outputs": [
    {
     "data": {
      "text/html": [
       "<div>\n",
       "<table border=\"1\" class=\"dataframe\">\n",
       "  <thead>\n",
       "    <tr style=\"text-align: right;\">\n",
       "      <th>Predicted</th>\n",
       "      <th>0.0</th>\n",
       "      <th>1.0</th>\n",
       "      <th>2.0</th>\n",
       "      <th>All</th>\n",
       "    </tr>\n",
       "    <tr>\n",
       "      <th>True</th>\n",
       "      <th></th>\n",
       "      <th></th>\n",
       "      <th></th>\n",
       "      <th></th>\n",
       "    </tr>\n",
       "  </thead>\n",
       "  <tbody>\n",
       "    <tr>\n",
       "      <th>0</th>\n",
       "      <td>545</td>\n",
       "      <td>53</td>\n",
       "      <td>0</td>\n",
       "      <td>598</td>\n",
       "    </tr>\n",
       "    <tr>\n",
       "      <th>1</th>\n",
       "      <td>155</td>\n",
       "      <td>1578</td>\n",
       "      <td>1</td>\n",
       "      <td>1734</td>\n",
       "    </tr>\n",
       "    <tr>\n",
       "      <th>2</th>\n",
       "      <td>19</td>\n",
       "      <td>453</td>\n",
       "      <td>1</td>\n",
       "      <td>473</td>\n",
       "    </tr>\n",
       "    <tr>\n",
       "      <th>All</th>\n",
       "      <td>719</td>\n",
       "      <td>2084</td>\n",
       "      <td>2</td>\n",
       "      <td>2805</td>\n",
       "    </tr>\n",
       "  </tbody>\n",
       "</table>\n",
       "</div>"
      ],
      "text/plain": [
       "Predicted  0.0   1.0  2.0   All\n",
       "True                           \n",
       "0          545    53    0   598\n",
       "1          155  1578    1  1734\n",
       "2           19   453    1   473\n",
       "All        719  2084    2  2805"
      ]
     },
     "execution_count": 43,
     "metadata": {},
     "output_type": "execute_result"
    }
   ],
   "source": [
    "pd.crosstab(true, predicted, rownames=['True'], colnames=['Predicted'], margins=True)"
   ]
  },
  {
   "cell_type": "code",
   "execution_count": 44,
   "metadata": {},
   "outputs": [
    {
     "name": "stdout",
     "output_type": "stream",
     "text": [
      "             precision    recall  f1-score   support\n",
      "\n",
      "          0       0.76      0.91      0.83       598\n",
      "          1       0.76      0.91      0.83      1734\n",
      "          2       0.50      0.00      0.00       473\n",
      "\n",
      "avg / total       0.71      0.76      0.69      2805\n",
      "\n"
     ]
    }
   ],
   "source": [
    "from sklearn.metrics import classification_report\n",
    "true = HG002_pred['GIAB_Crowd']\n",
    "pred = model.predict(X5)\n",
    "print(classification_report(true, pred))"
   ]
  },
  {
   "cell_type": "code",
   "execution_count": 45,
   "metadata": {},
   "outputs": [],
   "source": [
    "pred_prob = model.predict_proba(X5)"
   ]
  },
  {
   "cell_type": "code",
   "execution_count": 46,
   "metadata": {
    "collapsed": true
   },
   "outputs": [],
   "source": [
    "X5['predicted_label'] = pred\n",
    "X5['Label'] = HG002_pred_2['GIAB_Crowd']\n",
    "X5['chrom'] = HG002_pred_2['chrom']\n",
    "X5['start'] = HG002_pred_2['start']\n",
    "X5['end'] = HG002_pred_2['end']\n",
    "X5['Size'] = HG002_pred_2['Size']\n",
    "X5['GTcons'] = HG002_pred_2['GTcons']"
   ]
  },
  {
   "cell_type": "code",
   "execution_count": 47,
   "metadata": {},
   "outputs": [],
   "source": [
    "X6 = pd.concat([X5, pd.DataFrame(pred_prob, columns=['1','2','3','4'])])"
   ]
  },
  {
   "cell_type": "code",
   "execution_count": 48,
   "metadata": {
    "collapsed": true
   },
   "outputs": [],
   "source": [
    "X6.to_csv('All_Tech_pred_prob.csv', index=False)"
   ]
  },
  {
   "cell_type": "code",
   "execution_count": 49,
   "metadata": {},
   "outputs": [
    {
     "name": "stderr",
     "output_type": "stream",
     "text": [
      "/Users/lmc2/anaconda/envs/NIHFAES/lib/python3.5/site-packages/IPython/core/interactiveshell.py:2717: DtypeWarning:\n",
      "\n",
      "Columns (150) have mixed types. Specify dtype option on import or set low_memory=False.\n",
      "\n"
     ]
    }
   ],
   "source": [
    "X6 = pd.read_csv('All_Tech_pred_prob.csv')"
   ]
  },
  {
   "cell_type": "code",
   "execution_count": 50,
   "metadata": {
    "collapsed": true
   },
   "outputs": [],
   "source": [
    "X6.rename(columns={'1': 'unknown'}, inplace=True)\n",
    "X6.rename(columns={'2': 'Hom_Var'}, inplace=True)\n",
    "X6.rename(columns={'3': 'Het_Var'}, inplace=True)\n",
    "X6.rename(columns={'4': 'Hom_Ref'}, inplace=True)"
   ]
  },
  {
   "cell_type": "code",
   "execution_count": 51,
   "metadata": {},
   "outputs": [
    {
     "data": {
      "text/html": [
       "<div>\n",
       "<table border=\"1\" class=\"dataframe\">\n",
       "  <thead>\n",
       "    <tr style=\"text-align: right;\">\n",
       "      <th></th>\n",
       "      <th>unknown</th>\n",
       "      <th>Hom_Var</th>\n",
       "      <th>Het_Var</th>\n",
       "      <th>Hom_Ref</th>\n",
       "      <th>GTcons</th>\n",
       "      <th>Ill250.alt_alnScore_mean</th>\n",
       "      <th>Ill250.alt_alnScore_std</th>\n",
       "      <th>Ill250.alt_count</th>\n",
       "      <th>Ill250.alt_insertSize_mean</th>\n",
       "      <th>Ill250.alt_insertSize_std</th>\n",
       "      <th>...</th>\n",
       "      <th>pacbio.ref_insertSize_std</th>\n",
       "      <th>pacbio.ref_reason_alignmentScore</th>\n",
       "      <th>predicted_label</th>\n",
       "      <th>refN_cnt</th>\n",
       "      <th>refN_pct</th>\n",
       "      <th>segdup_cnt</th>\n",
       "      <th>segdup_pct</th>\n",
       "      <th>start</th>\n",
       "      <th>tandemrep_cnt</th>\n",
       "      <th>tandemrep_pct</th>\n",
       "    </tr>\n",
       "  </thead>\n",
       "  <tbody>\n",
       "    <tr>\n",
       "      <th>0</th>\n",
       "      <td>NaN</td>\n",
       "      <td>NaN</td>\n",
       "      <td>NaN</td>\n",
       "      <td>NaN</td>\n",
       "      <td>0.0</td>\n",
       "      <td>0.0</td>\n",
       "      <td>0.0</td>\n",
       "      <td>0.0</td>\n",
       "      <td>0.0</td>\n",
       "      <td>0.0</td>\n",
       "      <td>...</td>\n",
       "      <td>4306.492796</td>\n",
       "      <td>47.0</td>\n",
       "      <td>1.0</td>\n",
       "      <td>0.0</td>\n",
       "      <td>0.0</td>\n",
       "      <td>0.0</td>\n",
       "      <td>0.0</td>\n",
       "      <td>21929089.0</td>\n",
       "      <td>0.0</td>\n",
       "      <td>0.0</td>\n",
       "    </tr>\n",
       "    <tr>\n",
       "      <th>1</th>\n",
       "      <td>NaN</td>\n",
       "      <td>NaN</td>\n",
       "      <td>NaN</td>\n",
       "      <td>NaN</td>\n",
       "      <td>0.0</td>\n",
       "      <td>0.0</td>\n",
       "      <td>0.0</td>\n",
       "      <td>0.0</td>\n",
       "      <td>0.0</td>\n",
       "      <td>0.0</td>\n",
       "      <td>...</td>\n",
       "      <td>4009.865909</td>\n",
       "      <td>27.0</td>\n",
       "      <td>1.0</td>\n",
       "      <td>0.0</td>\n",
       "      <td>0.0</td>\n",
       "      <td>0.0</td>\n",
       "      <td>0.0</td>\n",
       "      <td>744621.0</td>\n",
       "      <td>0.0</td>\n",
       "      <td>0.0</td>\n",
       "    </tr>\n",
       "  </tbody>\n",
       "</table>\n",
       "<p>2 rows × 181 columns</p>\n",
       "</div>"
      ],
      "text/plain": [
       "   unknown  Hom_Var  Het_Var  Hom_Ref  GTcons  Ill250.alt_alnScore_mean  \\\n",
       "0      NaN      NaN      NaN      NaN     0.0                       0.0   \n",
       "1      NaN      NaN      NaN      NaN     0.0                       0.0   \n",
       "\n",
       "   Ill250.alt_alnScore_std  Ill250.alt_count  Ill250.alt_insertSize_mean  \\\n",
       "0                      0.0               0.0                         0.0   \n",
       "1                      0.0               0.0                         0.0   \n",
       "\n",
       "   Ill250.alt_insertSize_std      ...        pacbio.ref_insertSize_std  \\\n",
       "0                        0.0      ...                      4306.492796   \n",
       "1                        0.0      ...                      4009.865909   \n",
       "\n",
       "   pacbio.ref_reason_alignmentScore  predicted_label  refN_cnt  refN_pct  \\\n",
       "0                              47.0              1.0       0.0       0.0   \n",
       "1                              27.0              1.0       0.0       0.0   \n",
       "\n",
       "   segdup_cnt  segdup_pct       start  tandemrep_cnt  tandemrep_pct  \n",
       "0         0.0         0.0  21929089.0            0.0            0.0  \n",
       "1         0.0         0.0    744621.0            0.0            0.0  \n",
       "\n",
       "[2 rows x 181 columns]"
      ]
     },
     "execution_count": 51,
     "metadata": {},
     "output_type": "execute_result"
    }
   ],
   "source": [
    "X6.head(2)"
   ]
  },
  {
   "cell_type": "code",
   "execution_count": 52,
   "metadata": {},
   "outputs": [
    {
     "data": {
      "text/plain": [
       "(453, 181)"
      ]
     },
     "execution_count": 52,
     "metadata": {},
     "output_type": "execute_result"
    }
   ],
   "source": [
    "###################################################\n",
    "# Code\n",
    "###################################################\n",
    "\n",
    "# X6_2 = X6[(X6['GTcons'] != -1) & (X6['predicted_label'] != -1)]\n",
    "# df4 = df[(df['HG002'] == -1) | (df['HG003'] == -1) | (df['HG004'] == -1)]\n",
    "# df5 = df[(df['HG002'] == 0) & (df['HG003'] == 0) & (df['HG004'] == 0)]\n",
    "# print df4.head(11)\n",
    "\n",
    "mask = ((X6['GTcons'] == 1) & (X6['predicted_label'] == 0)) \n",
    "X6_2 = pd.DataFrame()\n",
    "\n",
    "X6_2 = X6[mask]\n",
    "X6_2.shape\n",
    "\n",
    "mask1 = ((X6['GTcons'] == 0) & (X6['predicted_label'] == 1)) \n",
    "X6_3 = pd.DataFrame()\n",
    "X6_3 = X6[mask1]\n",
    "X6_3.shape"
   ]
  },
  {
   "cell_type": "code",
   "execution_count": 53,
   "metadata": {},
   "outputs": [],
   "source": [
    "# import random\n",
    "# row = random.sample(X6_2.index, 10)\n",
    "# # X6_2_rand_select = X6_2.ix[row]"
   ]
  },
  {
   "cell_type": "code",
   "execution_count": 54,
   "metadata": {},
   "outputs": [
    {
     "ename": "TypeError",
     "evalue": "Population must be a sequence or set.  For dicts, use list(d).",
     "output_type": "error",
     "traceback": [
      "\u001b[0;31m---------------------------------------------------------------------------\u001b[0m",
      "\u001b[0;31mTypeError\u001b[0m                                 Traceback (most recent call last)",
      "\u001b[0;32m<ipython-input-54-a7b10d7e28f7>\u001b[0m in \u001b[0;36m<module>\u001b[0;34m()\u001b[0m\n\u001b[1;32m      1\u001b[0m \u001b[0;32mfrom\u001b[0m \u001b[0mrandom\u001b[0m \u001b[0;32mimport\u001b[0m \u001b[0;34m*\u001b[0m\u001b[0;34m\u001b[0m\u001b[0m\n\u001b[1;32m      2\u001b[0m \u001b[0;34m\u001b[0m\u001b[0m\n\u001b[0;32m----> 3\u001b[0;31m \u001b[0mrow\u001b[0m \u001b[0;34m=\u001b[0m \u001b[0msample\u001b[0m\u001b[0;34m(\u001b[0m\u001b[0mX6_2\u001b[0m\u001b[0;34m,\u001b[0m \u001b[0;36m10\u001b[0m\u001b[0;34m)\u001b[0m\u001b[0;34m\u001b[0m\u001b[0m\n\u001b[0m",
      "\u001b[0;32m/Users/lmc2/anaconda/envs/NIHFAES/lib/python3.5/random.py\u001b[0m in \u001b[0;36msample\u001b[0;34m(self, population, k)\u001b[0m\n\u001b[1;32m    309\u001b[0m             \u001b[0mpopulation\u001b[0m \u001b[0;34m=\u001b[0m \u001b[0mtuple\u001b[0m\u001b[0;34m(\u001b[0m\u001b[0mpopulation\u001b[0m\u001b[0;34m)\u001b[0m\u001b[0;34m\u001b[0m\u001b[0m\n\u001b[1;32m    310\u001b[0m         \u001b[0;32mif\u001b[0m \u001b[0;32mnot\u001b[0m \u001b[0misinstance\u001b[0m\u001b[0;34m(\u001b[0m\u001b[0mpopulation\u001b[0m\u001b[0;34m,\u001b[0m \u001b[0m_Sequence\u001b[0m\u001b[0;34m)\u001b[0m\u001b[0;34m:\u001b[0m\u001b[0;34m\u001b[0m\u001b[0m\n\u001b[0;32m--> 311\u001b[0;31m             \u001b[0;32mraise\u001b[0m \u001b[0mTypeError\u001b[0m\u001b[0;34m(\u001b[0m\u001b[0;34m\"Population must be a sequence or set.  For dicts, use list(d).\"\u001b[0m\u001b[0;34m)\u001b[0m\u001b[0;34m\u001b[0m\u001b[0m\n\u001b[0m\u001b[1;32m    312\u001b[0m         \u001b[0mrandbelow\u001b[0m \u001b[0;34m=\u001b[0m \u001b[0mself\u001b[0m\u001b[0;34m.\u001b[0m\u001b[0m_randbelow\u001b[0m\u001b[0;34m\u001b[0m\u001b[0m\n\u001b[1;32m    313\u001b[0m         \u001b[0mn\u001b[0m \u001b[0;34m=\u001b[0m \u001b[0mlen\u001b[0m\u001b[0;34m(\u001b[0m\u001b[0mpopulation\u001b[0m\u001b[0;34m)\u001b[0m\u001b[0;34m\u001b[0m\u001b[0m\n",
      "\u001b[0;31mTypeError\u001b[0m: Population must be a sequence or set.  For dicts, use list(d)."
     ]
    }
   ],
   "source": [
    "from random import *\n",
    "\n",
    "row = sample(X6_2, 10)"
   ]
  },
  {
   "cell_type": "markdown",
   "metadata": {},
   "source": [
    "**TODO**\n",
    "\n",
    "[Feature Importance](http://scikit-learn.org/stable/auto_examples/ensemble/plot_forest_importances.html)"
   ]
  },
  {
   "cell_type": "code",
   "execution_count": null,
   "metadata": {
    "collapsed": true
   },
   "outputs": [],
   "source": []
  },
  {
   "cell_type": "code",
   "execution_count": null,
   "metadata": {
    "collapsed": true
   },
   "outputs": [],
   "source": []
  },
  {
   "cell_type": "code",
   "execution_count": null,
   "metadata": {
    "collapsed": true
   },
   "outputs": [],
   "source": []
  }
 ],
 "metadata": {
  "kernelspec": {
   "display_name": "Python [NIHFAES]",
   "language": "python",
   "name": "Python [NIHFAES]"
  }
 },
 "nbformat": 4,
 "nbformat_minor": 2
}
