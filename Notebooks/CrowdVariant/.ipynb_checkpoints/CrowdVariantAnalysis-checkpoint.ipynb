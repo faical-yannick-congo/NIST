{
 "cells": [
  {
   "cell_type": "markdown",
   "metadata": {
    "collapsed": true
   },
   "source": [
    "### Crowdvariant Analysis\n",
    "<br>\n",
    "\n",
    "**Summary**\n",
    "\n",
    "1. Data collection and data cleaning\n",
    "2. Data preprocessing\n",
    "3. Machine Learning analysis"
   ]
  },
  {
   "cell_type": "markdown",
   "metadata": {},
   "source": [
    "** Notes **\n",
    "\n",
    "- Gathered crowdsourced labels from the crowdvariant study\n",
    "- high confidence labels only available for HG002\n",
    "    - Are there other labels?\n",
    "- All deletions\n",
    "- 1514 data points total\n",
    "    - 552 Heterozygous Variant (CrowdVar Label = 1)  [Confidence: >=84%]\n",
    "    - 959 Homozygous Variant (CrowdVar Label = 0)    [Confidence: >=84%]\n",
    "    - 3   Homozygous Reference (CrowdVar Label = 2)  [Confidence: >=91%]\n",
    "    - 1   Unknown"
   ]
  },
  {
   "cell_type": "markdown",
   "metadata": {},
   "source": [
    "***\n",
    "Data Collection and Cleaning\n",
    "***"
   ]
  },
  {
   "cell_type": "markdown",
   "metadata": {},
   "source": [
    "** Train/Test Dataset **"
   ]
  },
  {
   "cell_type": "markdown",
   "metadata": {},
   "source": [
    "**Labels**"
   ]
  },
  {
   "cell_type": "markdown",
   "metadata": {},
   "source": [
    "- Labels were collected from the following article"
   ]
  },
  {
   "cell_type": "markdown",
   "metadata": {},
   "source": [
    "![Figure 1](https://raw.githubusercontent.com/lesleymaraina/NIST/master/Notebooks/CrowdVariant/Screen%20Shot%202017-06-14%20at%2010.41.43%20AM.png)"
   ]
  },
  {
   "cell_type": "markdown",
   "metadata": {},
   "source": [
    "http://biorxiv.org/content/early/2016/12/13/093526"
   ]
  },
  {
   "cell_type": "markdown",
   "metadata": {},
   "source": [
    "**Features**"
   ]
  },
  {
   "cell_type": "markdown",
   "metadata": {},
   "source": [
    "![Figure 1](https://raw.githubusercontent.com/lesleymaraina/NIST/master/Notebooks/CrowdVariant/Screen%20Shot%202017-06-14%20at%2012.09.23%20PM.png)"
   ]
  },
  {
   "cell_type": "markdown",
   "metadata": {},
   "source": [
    "** Prediction Dataset **"
   ]
  },
  {
   "cell_type": "markdown",
   "metadata": {},
   "source": [
    "Newly selected datapoints\n",
    "June 12 2017\n",
    "\n",
    "HG002 Deletions"
   ]
  },
  {
   "cell_type": "markdown",
   "metadata": {},
   "source": [
    "***\n",
    "Data Preprocessing\n",
    "***"
   ]
  },
  {
   "cell_type": "markdown",
   "metadata": {},
   "source": [
    "- Drop columns with labels\n",
    "    \n",
    "    'GTcons', 'GTconflict',\t'GTsupp', 'CN0_prob', 'CN1_prob', 'CN2_prob', 'Label', 'TenX.GT', , 'pacbio.GT', 'IllMP.GT', 'Ill250.GT', 'Ill300x.GT'\n",
    "\n",
    "\n",
    "\n",
    "- Drop irrelevant columns\n",
    "    \n",
    "    'size', 'chrom', 'start', 'end', 'sample'\n"
   ]
  },
  {
   "cell_type": "code",
   "execution_count": null,
   "metadata": {
    "collapsed": true
   },
   "outputs": [],
   "source": []
  },
  {
   "cell_type": "code",
   "execution_count": null,
   "metadata": {
    "collapsed": true
   },
   "outputs": [],
   "source": []
  }
 ],
 "metadata": {
  "anaconda-cloud": {},
  "kernelspec": {
   "display_name": "Python [NIHFAES]",
   "language": "python",
   "name": "Python [NIHFAES]"
  },
  "language_info": {
   "codemirror_mode": {
    "name": "ipython",
    "version": 3
   },
   "file_extension": ".py",
   "mimetype": "text/x-python",
   "name": "python",
   "nbconvert_exporter": "python",
   "pygments_lexer": "ipython3",
   "version": "3.5.2"
  }
 },
 "nbformat": 4,
 "nbformat_minor": 2
}
