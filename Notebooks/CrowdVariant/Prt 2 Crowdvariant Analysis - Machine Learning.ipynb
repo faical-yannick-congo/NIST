{
 "cells": [
  {
   "cell_type": "markdown",
   "metadata": {
    "collapsed": true
   },
   "source": [
    "### Prt 2: Crowdvariant Analysis - Machine Learning\n",
    "<br>\n",
    "\n",
    "**Summary**\n",
    "\n",
    "1. Data collection and data cleaning\n",
    "2. Data preprocessing\n",
    "3. Machine Learning analysis"
   ]
  },
  {
   "cell_type": "markdown",
   "metadata": {},
   "source": [
    "** Notes **\n",
    "\n",
    "- Gathered crowdsourced labels from the crowdvariant study\n",
    "- high confidence labels only available for HG002\n",
    "    - Are there other labels?\n",
    "- All deletions\n",
    "- 1514 data points total\n",
    "    - 552 Heterozygous Variant (CrowdVar Label = 1)  [Confidence: >=84%]\n",
    "    - 959 Homozygous Variant (CrowdVar Label = 0)    [Confidence: >=84%]\n",
    "    - 3   Homozygous Reference (CrowdVar Label = 2)  [Confidence: >=91%]\n",
    "    - 1   Unknown"
   ]
  },
  {
   "cell_type": "markdown",
   "metadata": {},
   "source": [
    "***\n",
    "Data \n",
    "***"
   ]
  },
  {
   "cell_type": "markdown",
   "metadata": {},
   "source": [
    "**Train/Test Data**\n",
    "\n",
    "- CrowdVariant Data - cleaned and parsed in Part 1\n",
    "\n",
    "\n",
    "\n",
    "** Prediction Dataset **\n",
    "\n",
    "- HG002 Deletions\n",
    "- Randomly selected datapoints (Try 1) April 2017"
   ]
  },
  {
   "cell_type": "markdown",
   "metadata": {},
   "source": [
    "***\n",
    "Data Preprocessing\n",
    "***"
   ]
  },
  {
   "cell_type": "markdown",
   "metadata": {},
   "source": [
    "- Drop columns with labels\n",
    "    \n",
    "    'GTcons', 'GTconflict',\t'GTsupp', 'CN0_prob', 'CN1_prob', 'CN2_prob', 'Label', 'TenX.GT', 'pacbio.GT', 'IllMP.GT', 'Ill250.GT', 'Ill300x.GT'\n",
    "\n",
    "\n",
    "\n",
    "- Drop irrelevant columns\n",
    "    \n",
    "    'chrom', 'start', 'end', 'sample'\n"
   ]
  },
  {
   "cell_type": "markdown",
   "metadata": {},
   "source": [
    "***\n",
    "Machine Learning\n",
    "***\n",
    "\n",
    "Train machine learning classifier with labeled CrowdVariant Data"
   ]
  },
  {
   "cell_type": "code",
   "execution_count": 313,
   "metadata": {
    "collapsed": false
   },
   "outputs": [],
   "source": [
    "\"\"\"\n",
    "Imports\n",
    "\"\"\"\n",
    "import pandas as pd\n",
    "import numpy as np\n",
    "from fancyimpute import KNN\n",
    "import matplotlib.pyplot as plt\n",
    "from sklearn import preprocessing\n",
    "from sklearn.preprocessing import LabelEncoder\n",
    "from sklearn.model_selection import LeaveOneOut\n",
    "from scipy.stats import ks_2samp\n",
    "from scipy import stats\n",
    "from matplotlib import pyplot\n",
    "from sklearn import preprocessing\n",
    "from scipy.linalg import svd\n",
    "from sklearn.decomposition import TruncatedSVD\n",
    "import sqlite3\n",
    "from sklearn.ensemble import RandomForestClassifier\n",
    "from sklearn.metrics import roc_auc_score\n",
    "import seaborn as sns\n",
    "from sklearn.manifold import TSNE\n",
    "from sklearn.decomposition import PCA as sklearnPCA\n",
    "import plotly.plotly as py\n",
    "from sklearn.cluster import DBSCAN\n",
    "from sklearn.model_selection import train_test_split\n",
    "from sklearn import metrics\n",
    "from sklearn.grid_search import GridSearchCV\n",
    "from sklearn.metrics import f1_score, precision_score\n",
    "from sklearn import preprocessing\n",
    "from ggplot import *\n",
    "from bokeh.charts import TimeSeries\n",
    "from bokeh.models import HoverTool\n",
    "from bokeh.plotting import show\n",
    "from bokeh.charts import Scatter, Histogram, output_file, show\n",
    "from bokeh.plotting import figure, show, output_file, ColumnDataSource\n",
    "from bokeh.io import output_notebook\n",
    "from bokeh.charts import Bar, output_file, show\n",
    "import bokeh.palettes as palettes\n",
    "from bokeh.models import HoverTool, BoxSelectTool, Legend\n",
    "from sklearn import (manifold, datasets, decomposition, ensemble,\n",
    "                     discriminant_analysis, random_projection)"
   ]
  },
  {
   "cell_type": "code",
   "execution_count": 361,
   "metadata": {
    "collapsed": true
   },
   "outputs": [],
   "source": [
    "### Import Data\n",
    "df_crowd = pd.read_csv('/Users/lmc2/NIST/Notebooks/CrowdVariant/Train/Final_DF/CrowdVar.Train_HG002.csv')"
   ]
  },
  {
   "cell_type": "code",
   "execution_count": 362,
   "metadata": {
    "collapsed": false
   },
   "outputs": [
    {
     "data": {
      "text/html": [
       "<div>\n",
       "<table border=\"1\" class=\"dataframe\">\n",
       "  <thead>\n",
       "    <tr style=\"text-align: right;\">\n",
       "      <th></th>\n",
       "      <th>chrom</th>\n",
       "      <th>start</th>\n",
       "      <th>end</th>\n",
       "      <th>sample</th>\n",
       "      <th>Ill300x.alt_alnScore_mean</th>\n",
       "      <th>Ill300x.alt_alnScore_std</th>\n",
       "      <th>Ill300x.alt_count</th>\n",
       "      <th>Ill300x.alt_insertSize_mean</th>\n",
       "      <th>Ill300x.alt_insertSize_std</th>\n",
       "      <th>Ill300x.alt_reason_alignmentScore</th>\n",
       "      <th>...</th>\n",
       "      <th>tandemrep_cnt</th>\n",
       "      <th>tandemrep_pct</th>\n",
       "      <th>segdup_cnt</th>\n",
       "      <th>segdup_pct</th>\n",
       "      <th>refN_cnt</th>\n",
       "      <th>refN_pct</th>\n",
       "      <th>Label</th>\n",
       "      <th>CN0_prob</th>\n",
       "      <th>CN1_prob</th>\n",
       "      <th>CN2_prob</th>\n",
       "    </tr>\n",
       "  </thead>\n",
       "  <tbody>\n",
       "    <tr>\n",
       "      <th>0</th>\n",
       "      <td>1</td>\n",
       "      <td>187464828</td>\n",
       "      <td>187466479</td>\n",
       "      <td>HG002</td>\n",
       "      <td>579.446154</td>\n",
       "      <td>17.934094</td>\n",
       "      <td>65.0</td>\n",
       "      <td>756.430769</td>\n",
       "      <td>163.879409</td>\n",
       "      <td>0.0</td>\n",
       "      <td>...</td>\n",
       "      <td>8</td>\n",
       "      <td>0.096911</td>\n",
       "      <td>0</td>\n",
       "      <td>0.0</td>\n",
       "      <td>0</td>\n",
       "      <td>0</td>\n",
       "      <td>1.0</td>\n",
       "      <td>0.00</td>\n",
       "      <td>0.91</td>\n",
       "      <td>0.09</td>\n",
       "    </tr>\n",
       "    <tr>\n",
       "      <th>1</th>\n",
       "      <td>1</td>\n",
       "      <td>33156824</td>\n",
       "      <td>33157000</td>\n",
       "      <td>HG002</td>\n",
       "      <td>557.000000</td>\n",
       "      <td>20.665840</td>\n",
       "      <td>13.0</td>\n",
       "      <td>1158.307692</td>\n",
       "      <td>134.247982</td>\n",
       "      <td>0.0</td>\n",
       "      <td>...</td>\n",
       "      <td>2</td>\n",
       "      <td>0.221591</td>\n",
       "      <td>0</td>\n",
       "      <td>0.0</td>\n",
       "      <td>0</td>\n",
       "      <td>0</td>\n",
       "      <td>1.0</td>\n",
       "      <td>0.04</td>\n",
       "      <td>0.91</td>\n",
       "      <td>0.05</td>\n",
       "    </tr>\n",
       "    <tr>\n",
       "      <th>2</th>\n",
       "      <td>1</td>\n",
       "      <td>53594099</td>\n",
       "      <td>53595428</td>\n",
       "      <td>HG002</td>\n",
       "      <td>574.335366</td>\n",
       "      <td>18.613946</td>\n",
       "      <td>164.0</td>\n",
       "      <td>678.518293</td>\n",
       "      <td>139.056203</td>\n",
       "      <td>31.0</td>\n",
       "      <td>...</td>\n",
       "      <td>3</td>\n",
       "      <td>0.059443</td>\n",
       "      <td>0</td>\n",
       "      <td>0.0</td>\n",
       "      <td>0</td>\n",
       "      <td>0</td>\n",
       "      <td>0.0</td>\n",
       "      <td>0.96</td>\n",
       "      <td>0.04</td>\n",
       "      <td>0.00</td>\n",
       "    </tr>\n",
       "  </tbody>\n",
       "</table>\n",
       "<p>3 rows × 188 columns</p>\n",
       "</div>"
      ],
      "text/plain": [
       "   chrom      start        end sample  Ill300x.alt_alnScore_mean  \\\n",
       "0      1  187464828  187466479  HG002                 579.446154   \n",
       "1      1   33156824   33157000  HG002                 557.000000   \n",
       "2      1   53594099   53595428  HG002                 574.335366   \n",
       "\n",
       "   Ill300x.alt_alnScore_std  Ill300x.alt_count  Ill300x.alt_insertSize_mean  \\\n",
       "0                 17.934094               65.0                   756.430769   \n",
       "1                 20.665840               13.0                  1158.307692   \n",
       "2                 18.613946              164.0                   678.518293   \n",
       "\n",
       "   Ill300x.alt_insertSize_std  Ill300x.alt_reason_alignmentScore    ...     \\\n",
       "0                  163.879409                                0.0    ...      \n",
       "1                  134.247982                                0.0    ...      \n",
       "2                  139.056203                               31.0    ...      \n",
       "\n",
       "   tandemrep_cnt  tandemrep_pct  segdup_cnt  segdup_pct  refN_cnt  refN_pct  \\\n",
       "0              8       0.096911           0         0.0         0         0   \n",
       "1              2       0.221591           0         0.0         0         0   \n",
       "2              3       0.059443           0         0.0         0         0   \n",
       "\n",
       "   Label  CN0_prob  CN1_prob  CN2_prob  \n",
       "0    1.0      0.00      0.91      0.09  \n",
       "1    1.0      0.04      0.91      0.05  \n",
       "2    0.0      0.96      0.04      0.00  \n",
       "\n",
       "[3 rows x 188 columns]"
      ]
     },
     "execution_count": 362,
     "metadata": {},
     "output_type": "execute_result"
    }
   ],
   "source": [
    "df_crowd.head(3)"
   ]
  },
  {
   "cell_type": "code",
   "execution_count": 363,
   "metadata": {
    "collapsed": false
   },
   "outputs": [],
   "source": [
    "### Drop irrelevant columns\n",
    "df_crowd.drop(['GTcons'], axis=1, inplace = True)\n",
    "df_crowd.drop(['GTconflict'], axis=1, inplace = True)\n",
    "df_crowd.drop(['GTsupp'], axis=1, inplace = True)\n",
    "# df_crowd.drop('SVtype', axis=1)\n",
    "# df_crowd.drop('type',axis=1)\n",
    "df_crowd.drop(['start'],axis=1, inplace = True)\n",
    "df_crowd.drop(['end'],axis=1, inplace = True)\n",
    "df_crowd.drop(['chrom'],axis=1, inplace = True)\n",
    "# df_crowd.drop('Size',axis=1)\n",
    "df_crowd.drop(['CN0_prob'],axis=1, inplace = True)\n",
    "df_crowd.drop(['CN1_prob'],axis=1, inplace = True)\n",
    "df_crowd.drop(['CN2_prob'],axis=1, inplace = True)\n",
    "df_crowd.drop(['TenX.GT'],axis=1, inplace = True)\n",
    "df_crowd.drop(['pacbio.GT'],axis=1, inplace = True)\n",
    "df_crowd.drop(['IllMP.GT'],axis=1, inplace = True)\n",
    "df_crowd.drop(['Ill250.GT'],axis=1, inplace = True)\n",
    "df_crowd.drop(['Ill300x.GT'],axis=1, inplace = True)\n",
    "df_crowd.drop(['sample'],axis=1, inplace = True)"
   ]
  },
  {
   "cell_type": "code",
   "execution_count": 364,
   "metadata": {
    "collapsed": true
   },
   "outputs": [],
   "source": [
    "df_crowd.to_csv('df_crowd_headers.csv', index=False)"
   ]
  },
  {
   "cell_type": "code",
   "execution_count": 365,
   "metadata": {
    "collapsed": false
   },
   "outputs": [
    {
     "data": {
      "text/html": [
       "<div>\n",
       "<table border=\"1\" class=\"dataframe\">\n",
       "  <thead>\n",
       "    <tr style=\"text-align: right;\">\n",
       "      <th></th>\n",
       "      <th>Ill300x.alt_alnScore_mean</th>\n",
       "      <th>Ill300x.alt_alnScore_std</th>\n",
       "      <th>Ill300x.alt_count</th>\n",
       "      <th>Ill300x.alt_insertSize_mean</th>\n",
       "      <th>Ill300x.alt_insertSize_std</th>\n",
       "      <th>Ill300x.alt_reason_alignmentScore</th>\n",
       "      <th>Ill300x.alt_reason_insertSizeScore</th>\n",
       "      <th>Ill300x.alt_reason_orientation</th>\n",
       "      <th>Ill300x.amb_alnScore_mean</th>\n",
       "      <th>Ill300x.amb_alnScore_std</th>\n",
       "      <th>...</th>\n",
       "      <th>TenX.HP2_ref_reason_alignmentScore</th>\n",
       "      <th>TenX.HP2_ref_reason_orientation</th>\n",
       "      <th>size</th>\n",
       "      <th>tandemrep_cnt</th>\n",
       "      <th>tandemrep_pct</th>\n",
       "      <th>segdup_cnt</th>\n",
       "      <th>segdup_pct</th>\n",
       "      <th>refN_cnt</th>\n",
       "      <th>refN_pct</th>\n",
       "      <th>Label</th>\n",
       "    </tr>\n",
       "  </thead>\n",
       "  <tbody>\n",
       "    <tr>\n",
       "      <th>0</th>\n",
       "      <td>579.446154</td>\n",
       "      <td>17.934094</td>\n",
       "      <td>65.0</td>\n",
       "      <td>756.430769</td>\n",
       "      <td>163.879409</td>\n",
       "      <td>0.0</td>\n",
       "      <td>65.0</td>\n",
       "      <td>0.0</td>\n",
       "      <td>526.250785</td>\n",
       "      <td>88.797088</td>\n",
       "      <td>...</td>\n",
       "      <td>2.0</td>\n",
       "      <td>0.0</td>\n",
       "      <td>1651</td>\n",
       "      <td>8</td>\n",
       "      <td>0.096911</td>\n",
       "      <td>0</td>\n",
       "      <td>0.0</td>\n",
       "      <td>0</td>\n",
       "      <td>0</td>\n",
       "      <td>1.0</td>\n",
       "    </tr>\n",
       "    <tr>\n",
       "      <th>1</th>\n",
       "      <td>557.000000</td>\n",
       "      <td>20.665840</td>\n",
       "      <td>13.0</td>\n",
       "      <td>1158.307692</td>\n",
       "      <td>134.247982</td>\n",
       "      <td>0.0</td>\n",
       "      <td>13.0</td>\n",
       "      <td>0.0</td>\n",
       "      <td>545.050452</td>\n",
       "      <td>62.371767</td>\n",
       "      <td>...</td>\n",
       "      <td>12.0</td>\n",
       "      <td>0.0</td>\n",
       "      <td>176</td>\n",
       "      <td>2</td>\n",
       "      <td>0.221591</td>\n",
       "      <td>0</td>\n",
       "      <td>0.0</td>\n",
       "      <td>0</td>\n",
       "      <td>0</td>\n",
       "      <td>1.0</td>\n",
       "    </tr>\n",
       "    <tr>\n",
       "      <th>2</th>\n",
       "      <td>574.335366</td>\n",
       "      <td>18.613946</td>\n",
       "      <td>164.0</td>\n",
       "      <td>678.518293</td>\n",
       "      <td>139.056203</td>\n",
       "      <td>31.0</td>\n",
       "      <td>133.0</td>\n",
       "      <td>0.0</td>\n",
       "      <td>518.296740</td>\n",
       "      <td>91.633718</td>\n",
       "      <td>...</td>\n",
       "      <td>3.0</td>\n",
       "      <td>0.0</td>\n",
       "      <td>1329</td>\n",
       "      <td>3</td>\n",
       "      <td>0.059443</td>\n",
       "      <td>0</td>\n",
       "      <td>0.0</td>\n",
       "      <td>0</td>\n",
       "      <td>0</td>\n",
       "      <td>0.0</td>\n",
       "    </tr>\n",
       "  </tbody>\n",
       "</table>\n",
       "<p>3 rows × 173 columns</p>\n",
       "</div>"
      ],
      "text/plain": [
       "   Ill300x.alt_alnScore_mean  Ill300x.alt_alnScore_std  Ill300x.alt_count  \\\n",
       "0                 579.446154                 17.934094               65.0   \n",
       "1                 557.000000                 20.665840               13.0   \n",
       "2                 574.335366                 18.613946              164.0   \n",
       "\n",
       "   Ill300x.alt_insertSize_mean  Ill300x.alt_insertSize_std  \\\n",
       "0                   756.430769                  163.879409   \n",
       "1                  1158.307692                  134.247982   \n",
       "2                   678.518293                  139.056203   \n",
       "\n",
       "   Ill300x.alt_reason_alignmentScore  Ill300x.alt_reason_insertSizeScore  \\\n",
       "0                                0.0                                65.0   \n",
       "1                                0.0                                13.0   \n",
       "2                               31.0                               133.0   \n",
       "\n",
       "   Ill300x.alt_reason_orientation  Ill300x.amb_alnScore_mean  \\\n",
       "0                             0.0                 526.250785   \n",
       "1                             0.0                 545.050452   \n",
       "2                             0.0                 518.296740   \n",
       "\n",
       "   Ill300x.amb_alnScore_std  ...    TenX.HP2_ref_reason_alignmentScore  \\\n",
       "0                 88.797088  ...                                   2.0   \n",
       "1                 62.371767  ...                                  12.0   \n",
       "2                 91.633718  ...                                   3.0   \n",
       "\n",
       "   TenX.HP2_ref_reason_orientation  size  tandemrep_cnt  tandemrep_pct  \\\n",
       "0                              0.0  1651              8       0.096911   \n",
       "1                              0.0   176              2       0.221591   \n",
       "2                              0.0  1329              3       0.059443   \n",
       "\n",
       "   segdup_cnt  segdup_pct  refN_cnt  refN_pct  Label  \n",
       "0           0         0.0         0         0    1.0  \n",
       "1           0         0.0         0         0    1.0  \n",
       "2           0         0.0         0         0    0.0  \n",
       "\n",
       "[3 rows x 173 columns]"
      ]
     },
     "execution_count": 365,
     "metadata": {},
     "output_type": "execute_result"
    }
   ],
   "source": [
    "df_crowd.head(3)"
   ]
  },
  {
   "cell_type": "code",
   "execution_count": 366,
   "metadata": {
    "collapsed": true
   },
   "outputs": [],
   "source": [
    "# Store data in a new variable which will be converted to a matrix\n",
    "X = df_crowd"
   ]
  },
  {
   "cell_type": "code",
   "execution_count": 367,
   "metadata": {
    "collapsed": false
   },
   "outputs": [
    {
     "data": {
      "text/html": [
       "<div>\n",
       "<table border=\"1\" class=\"dataframe\">\n",
       "  <thead>\n",
       "    <tr style=\"text-align: right;\">\n",
       "      <th></th>\n",
       "      <th>Ill300x.alt_alnScore_mean</th>\n",
       "      <th>Ill300x.alt_alnScore_std</th>\n",
       "      <th>Ill300x.alt_count</th>\n",
       "      <th>Ill300x.alt_insertSize_mean</th>\n",
       "      <th>Ill300x.alt_insertSize_std</th>\n",
       "      <th>Ill300x.alt_reason_alignmentScore</th>\n",
       "      <th>Ill300x.alt_reason_insertSizeScore</th>\n",
       "      <th>Ill300x.alt_reason_orientation</th>\n",
       "      <th>Ill300x.amb_alnScore_mean</th>\n",
       "      <th>Ill300x.amb_alnScore_std</th>\n",
       "      <th>...</th>\n",
       "      <th>TenX.HP2_ref_reason_alignmentScore</th>\n",
       "      <th>TenX.HP2_ref_reason_orientation</th>\n",
       "      <th>size</th>\n",
       "      <th>tandemrep_cnt</th>\n",
       "      <th>tandemrep_pct</th>\n",
       "      <th>segdup_cnt</th>\n",
       "      <th>segdup_pct</th>\n",
       "      <th>refN_cnt</th>\n",
       "      <th>refN_pct</th>\n",
       "      <th>Label</th>\n",
       "    </tr>\n",
       "  </thead>\n",
       "  <tbody>\n",
       "    <tr>\n",
       "      <th>0</th>\n",
       "      <td>579.446154</td>\n",
       "      <td>17.934094</td>\n",
       "      <td>65.0</td>\n",
       "      <td>756.430769</td>\n",
       "      <td>163.879409</td>\n",
       "      <td>0.0</td>\n",
       "      <td>65.0</td>\n",
       "      <td>0.0</td>\n",
       "      <td>526.250785</td>\n",
       "      <td>88.797088</td>\n",
       "      <td>...</td>\n",
       "      <td>2.0</td>\n",
       "      <td>0.0</td>\n",
       "      <td>1651</td>\n",
       "      <td>8</td>\n",
       "      <td>0.096911</td>\n",
       "      <td>0</td>\n",
       "      <td>0.0</td>\n",
       "      <td>0</td>\n",
       "      <td>0</td>\n",
       "      <td>1.0</td>\n",
       "    </tr>\n",
       "    <tr>\n",
       "      <th>1</th>\n",
       "      <td>557.000000</td>\n",
       "      <td>20.665840</td>\n",
       "      <td>13.0</td>\n",
       "      <td>1158.307692</td>\n",
       "      <td>134.247982</td>\n",
       "      <td>0.0</td>\n",
       "      <td>13.0</td>\n",
       "      <td>0.0</td>\n",
       "      <td>545.050452</td>\n",
       "      <td>62.371767</td>\n",
       "      <td>...</td>\n",
       "      <td>12.0</td>\n",
       "      <td>0.0</td>\n",
       "      <td>176</td>\n",
       "      <td>2</td>\n",
       "      <td>0.221591</td>\n",
       "      <td>0</td>\n",
       "      <td>0.0</td>\n",
       "      <td>0</td>\n",
       "      <td>0</td>\n",
       "      <td>1.0</td>\n",
       "    </tr>\n",
       "    <tr>\n",
       "      <th>2</th>\n",
       "      <td>574.335366</td>\n",
       "      <td>18.613946</td>\n",
       "      <td>164.0</td>\n",
       "      <td>678.518293</td>\n",
       "      <td>139.056203</td>\n",
       "      <td>31.0</td>\n",
       "      <td>133.0</td>\n",
       "      <td>0.0</td>\n",
       "      <td>518.296740</td>\n",
       "      <td>91.633718</td>\n",
       "      <td>...</td>\n",
       "      <td>3.0</td>\n",
       "      <td>0.0</td>\n",
       "      <td>1329</td>\n",
       "      <td>3</td>\n",
       "      <td>0.059443</td>\n",
       "      <td>0</td>\n",
       "      <td>0.0</td>\n",
       "      <td>0</td>\n",
       "      <td>0</td>\n",
       "      <td>0.0</td>\n",
       "    </tr>\n",
       "  </tbody>\n",
       "</table>\n",
       "<p>3 rows × 173 columns</p>\n",
       "</div>"
      ],
      "text/plain": [
       "   Ill300x.alt_alnScore_mean  Ill300x.alt_alnScore_std  Ill300x.alt_count  \\\n",
       "0                 579.446154                 17.934094               65.0   \n",
       "1                 557.000000                 20.665840               13.0   \n",
       "2                 574.335366                 18.613946              164.0   \n",
       "\n",
       "   Ill300x.alt_insertSize_mean  Ill300x.alt_insertSize_std  \\\n",
       "0                   756.430769                  163.879409   \n",
       "1                  1158.307692                  134.247982   \n",
       "2                   678.518293                  139.056203   \n",
       "\n",
       "   Ill300x.alt_reason_alignmentScore  Ill300x.alt_reason_insertSizeScore  \\\n",
       "0                                0.0                                65.0   \n",
       "1                                0.0                                13.0   \n",
       "2                               31.0                               133.0   \n",
       "\n",
       "   Ill300x.alt_reason_orientation  Ill300x.amb_alnScore_mean  \\\n",
       "0                             0.0                 526.250785   \n",
       "1                             0.0                 545.050452   \n",
       "2                             0.0                 518.296740   \n",
       "\n",
       "   Ill300x.amb_alnScore_std  ...    TenX.HP2_ref_reason_alignmentScore  \\\n",
       "0                 88.797088  ...                                   2.0   \n",
       "1                 62.371767  ...                                  12.0   \n",
       "2                 91.633718  ...                                   3.0   \n",
       "\n",
       "   TenX.HP2_ref_reason_orientation  size  tandemrep_cnt  tandemrep_pct  \\\n",
       "0                              0.0  1651              8       0.096911   \n",
       "1                              0.0   176              2       0.221591   \n",
       "2                              0.0  1329              3       0.059443   \n",
       "\n",
       "   segdup_cnt  segdup_pct  refN_cnt  refN_pct  Label  \n",
       "0           0         0.0         0         0    1.0  \n",
       "1           0         0.0         0         0    1.0  \n",
       "2           0         0.0         0         0    0.0  \n",
       "\n",
       "[3 rows x 173 columns]"
      ]
     },
     "execution_count": 367,
     "metadata": {},
     "output_type": "execute_result"
    }
   ],
   "source": [
    "X.head(3)"
   ]
  },
  {
   "cell_type": "markdown",
   "metadata": {},
   "source": [
    "** Impute missing values using KNN **\n",
    "\n",
    "Used 3 of the nearest neighbors to impute missing values"
   ]
  },
  {
   "cell_type": "code",
   "execution_count": 368,
   "metadata": {
    "collapsed": false,
    "scrolled": true
   },
   "outputs": [
    {
     "name": "stdout",
     "output_type": "stream",
     "text": [
      "Imputing row 1/1515 with 0 missing, elapsed time: 2.055\n",
      "Imputing row 101/1515 with 0 missing, elapsed time: 2.060\n",
      "Imputing row 201/1515 with 0 missing, elapsed time: 2.062\n",
      "Imputing row 301/1515 with 0 missing, elapsed time: 2.066\n",
      "Imputing row 401/1515 with 0 missing, elapsed time: 2.072\n",
      "Imputing row 501/1515 with 0 missing, elapsed time: 2.073\n",
      "Imputing row 601/1515 with 0 missing, elapsed time: 2.076\n",
      "Imputing row 701/1515 with 0 missing, elapsed time: 2.077\n",
      "Imputing row 801/1515 with 0 missing, elapsed time: 2.078\n",
      "Imputing row 901/1515 with 0 missing, elapsed time: 2.079\n",
      "Imputing row 1001/1515 with 0 missing, elapsed time: 2.080\n",
      "Imputing row 1101/1515 with 0 missing, elapsed time: 2.085\n",
      "Imputing row 1201/1515 with 0 missing, elapsed time: 2.088\n",
      "Imputing row 1301/1515 with 0 missing, elapsed time: 2.088\n",
      "Imputing row 1401/1515 with 0 missing, elapsed time: 2.089\n",
      "Imputing row 1501/1515 with 0 missing, elapsed time: 2.090\n"
     ]
    }
   ],
   "source": [
    "# Convert dataframe to matrix\n",
    "X=X.as_matrix()\n",
    "\n",
    "#Imput missing values from three closest observations\n",
    "X_imputed=KNN(k=3).complete(X)\n",
    "X=pd.DataFrame(X_imputed)"
   ]
  },
  {
   "cell_type": "code",
   "execution_count": 369,
   "metadata": {
    "collapsed": false
   },
   "outputs": [
    {
     "ename": "ValueError",
     "evalue": "Length mismatch: Expected axis has 173 elements, new values have 178 elements",
     "output_type": "error",
     "traceback": [
      "\u001b[0;31m---------------------------------------------------------------------------\u001b[0m",
      "\u001b[0;31mValueError\u001b[0m                                Traceback (most recent call last)",
      "\u001b[0;32m<ipython-input-369-507afc3586ff>\u001b[0m in \u001b[0;36m<module>\u001b[0;34m()\u001b[0m\n\u001b[1;32m      1\u001b[0m \u001b[0;31m# Add headers to the data frame with newly imputed missing values\u001b[0m\u001b[0;34m\u001b[0m\u001b[0;34m\u001b[0m\u001b[0m\n\u001b[0;32m----> 2\u001b[0;31m \u001b[0mX\u001b[0m\u001b[0;34m.\u001b[0m\u001b[0mcolumns\u001b[0m\u001b[0;34m=\u001b[0m\u001b[0;34m[\u001b[0m\u001b[0;34m'Size'\u001b[0m\u001b[0;34m,\u001b[0m\u001b[0;34m'Ill300x.alt_alnScore_mean'\u001b[0m\u001b[0;34m,\u001b[0m\u001b[0;34m'Ill300x.alt_alnScore_std'\u001b[0m\u001b[0;34m,\u001b[0m\u001b[0;34m'Ill300x.alt_count'\u001b[0m\u001b[0;34m,\u001b[0m\u001b[0;34m'Ill300x.alt_insertSize_mean'\u001b[0m\u001b[0;34m,\u001b[0m\u001b[0;34m'Ill300x.alt_insertSize_std'\u001b[0m\u001b[0;34m,\u001b[0m\u001b[0;34m'Ill300x.alt_reason_alignmentScore'\u001b[0m\u001b[0;34m,\u001b[0m\u001b[0;34m'Ill300x.alt_reason_insertSizeScore'\u001b[0m\u001b[0;34m,\u001b[0m\u001b[0;34m'Ill300x.alt_reason_orientation'\u001b[0m\u001b[0;34m,\u001b[0m\u001b[0;34m'Ill300x.amb_alnScore_mean'\u001b[0m\u001b[0;34m,\u001b[0m\u001b[0;34m'Ill300x.amb_alnScore_std'\u001b[0m\u001b[0;34m,\u001b[0m\u001b[0;34m'Ill300x.amb_count'\u001b[0m\u001b[0;34m,\u001b[0m\u001b[0;34m'Ill300x.amb_insertSize_mean'\u001b[0m\u001b[0;34m,\u001b[0m\u001b[0;34m'Ill300x.amb_insertSize_std'\u001b[0m\u001b[0;34m,\u001b[0m\u001b[0;34m'Ill300x.amb_reason_alignmentScore_alignmentScore'\u001b[0m\u001b[0;34m,\u001b[0m\u001b[0;34m'Ill300x.amb_reason_alignmentScore_orientation'\u001b[0m\u001b[0;34m,\u001b[0m\u001b[0;34m'Ill300x.amb_reason_flanking'\u001b[0m\u001b[0;34m,\u001b[0m\u001b[0;34m'Ill300x.amb_reason_insertSizeScore_alignmentScore'\u001b[0m\u001b[0;34m,\u001b[0m\u001b[0;34m'Ill300x.amb_reason_insertSizeScore_insertSizeScore'\u001b[0m\u001b[0;34m,\u001b[0m\u001b[0;34m'Ill300x.amb_reason_insertSizeScore_orientation'\u001b[0m\u001b[0;34m,\u001b[0m\u001b[0;34m'Ill300x.amb_reason_multimapping'\u001b[0m\u001b[0;34m,\u001b[0m\u001b[0;34m'Ill300x.amb_reason_orientation_alignmentScore'\u001b[0m\u001b[0;34m,\u001b[0m\u001b[0;34m'Ill300x.amb_reason_orientation_orientation'\u001b[0m\u001b[0;34m,\u001b[0m\u001b[0;34m'Ill300x.amb_reason_same_scores'\u001b[0m\u001b[0;34m,\u001b[0m\u001b[0;34m'Ill300x.ref_alnScore_mean'\u001b[0m\u001b[0;34m,\u001b[0m\u001b[0;34m'Ill300x.ref_alnScore_std'\u001b[0m\u001b[0;34m,\u001b[0m\u001b[0;34m'Ill300x.ref_count'\u001b[0m\u001b[0;34m,\u001b[0m\u001b[0;34m'Ill300x.ref_insertSize_mean'\u001b[0m\u001b[0;34m,\u001b[0m\u001b[0;34m'Ill300x.ref_insertSize_std'\u001b[0m\u001b[0;34m,\u001b[0m\u001b[0;34m'Ill300x.ref_reason_alignmentScore'\u001b[0m\u001b[0;34m,\u001b[0m\u001b[0;34m'Ill300x.ref_reason_insertSizeScore'\u001b[0m\u001b[0;34m,\u001b[0m\u001b[0;34m'Ill300x.ref_reason_orientation'\u001b[0m\u001b[0;34m,\u001b[0m\u001b[0;34m'Ill250.alt_alnScore_mean'\u001b[0m\u001b[0;34m,\u001b[0m\u001b[0;34m'Ill250.alt_alnScore_std'\u001b[0m\u001b[0;34m,\u001b[0m\u001b[0;34m'Ill250.alt_count'\u001b[0m\u001b[0;34m,\u001b[0m\u001b[0;34m'Ill250.alt_insertSize_mean'\u001b[0m\u001b[0;34m,\u001b[0m\u001b[0;34m'Ill250.alt_insertSize_std'\u001b[0m\u001b[0;34m,\u001b[0m\u001b[0;34m'Ill250.alt_reason_alignmentScore'\u001b[0m\u001b[0;34m,\u001b[0m\u001b[0;34m'Ill250.alt_reason_insertSizeScore'\u001b[0m\u001b[0;34m,\u001b[0m\u001b[0;34m'Ill250.alt_reason_orientation'\u001b[0m\u001b[0;34m,\u001b[0m\u001b[0;34m'Ill250.amb_alnScore_mean'\u001b[0m\u001b[0;34m,\u001b[0m\u001b[0;34m'Ill250.amb_alnScore_std'\u001b[0m\u001b[0;34m,\u001b[0m\u001b[0;34m'Ill250.amb_count'\u001b[0m\u001b[0;34m,\u001b[0m\u001b[0;34m'Ill250.amb_insertSize_mean'\u001b[0m\u001b[0;34m,\u001b[0m\u001b[0;34m'Ill250.amb_insertSize_std'\u001b[0m\u001b[0;34m,\u001b[0m\u001b[0;34m'Ill250.amb_reason_alignmentScore_alignmentScore'\u001b[0m\u001b[0;34m,\u001b[0m\u001b[0;34m'Ill250.amb_reason_alignmentScore_orientation'\u001b[0m\u001b[0;34m,\u001b[0m\u001b[0;34m'Ill250.amb_reason_flanking'\u001b[0m\u001b[0;34m,\u001b[0m\u001b[0;34m'Ill250.amb_reason_insertSizeScore_alignmentScore'\u001b[0m\u001b[0;34m,\u001b[0m\u001b[0;34m'Ill250.amb_reason_multimapping'\u001b[0m\u001b[0;34m,\u001b[0m\u001b[0;34m'Ill250.amb_reason_orientation_alignmentScore'\u001b[0m\u001b[0;34m,\u001b[0m\u001b[0;34m'Ill250.amb_reason_orientation_orientation'\u001b[0m\u001b[0;34m,\u001b[0m\u001b[0;34m'Ill250.amb_reason_same_scores'\u001b[0m\u001b[0;34m,\u001b[0m\u001b[0;34m'Ill250.ref_alnScore_mean'\u001b[0m\u001b[0;34m,\u001b[0m\u001b[0;34m'Ill250.ref_alnScore_std'\u001b[0m\u001b[0;34m,\u001b[0m\u001b[0;34m'Ill250.ref_count'\u001b[0m\u001b[0;34m,\u001b[0m\u001b[0;34m'Ill250.ref_insertSize_mean'\u001b[0m\u001b[0;34m,\u001b[0m\u001b[0;34m'Ill250.ref_insertSize_std'\u001b[0m\u001b[0;34m,\u001b[0m\u001b[0;34m'Ill250.ref_reason_alignmentScore'\u001b[0m\u001b[0;34m,\u001b[0m\u001b[0;34m'Ill250.ref_reason_orientation'\u001b[0m\u001b[0;34m,\u001b[0m\u001b[0;34m'IllMP.alt_alnScore_mean'\u001b[0m\u001b[0;34m,\u001b[0m\u001b[0;34m'IllMP.alt_alnScore_std'\u001b[0m\u001b[0;34m,\u001b[0m\u001b[0;34m'IllMP.alt_count'\u001b[0m\u001b[0;34m,\u001b[0m\u001b[0;34m'IllMP.alt_insertSize_mean'\u001b[0m\u001b[0;34m,\u001b[0m\u001b[0;34m'IllMP.alt_insertSize_std'\u001b[0m\u001b[0;34m,\u001b[0m\u001b[0;34m'IllMP.alt_reason_alignmentScore'\u001b[0m\u001b[0;34m,\u001b[0m\u001b[0;34m'IllMP.alt_reason_insertSizeScore'\u001b[0m\u001b[0;34m,\u001b[0m\u001b[0;34m'IllMP.alt_reason_orientation'\u001b[0m\u001b[0;34m,\u001b[0m\u001b[0;34m'IllMP.amb_alnScore_mean'\u001b[0m\u001b[0;34m,\u001b[0m\u001b[0;34m'IllMP.amb_alnScore_std'\u001b[0m\u001b[0;34m,\u001b[0m\u001b[0;34m'IllMP.amb_count'\u001b[0m\u001b[0;34m,\u001b[0m\u001b[0;34m'IllMP.amb_insertSize_mean'\u001b[0m\u001b[0;34m,\u001b[0m\u001b[0;34m'IllMP.amb_insertSize_std'\u001b[0m\u001b[0;34m,\u001b[0m\u001b[0;34m'IllMP.amb_reason_alignmentScore_alignmentScore'\u001b[0m\u001b[0;34m,\u001b[0m\u001b[0;34m'IllMP.amb_reason_alignmentScore_orientation'\u001b[0m\u001b[0;34m,\u001b[0m\u001b[0;34m'IllMP.amb_reason_flanking'\u001b[0m\u001b[0;34m,\u001b[0m\u001b[0;34m'IllMP.amb_reason_insertSizeScore_alignmentScore'\u001b[0m\u001b[0;34m,\u001b[0m\u001b[0;34m'IllMP.amb_reason_insertSizeScore_insertSizeScore'\u001b[0m\u001b[0;34m,\u001b[0m\u001b[0;34m'IllMP.amb_reason_multimapping'\u001b[0m\u001b[0;34m,\u001b[0m\u001b[0;34m'IllMP.amb_reason_orientation_alignmentScore'\u001b[0m\u001b[0;34m,\u001b[0m\u001b[0;34m'IllMP.amb_reason_orientation_orientation'\u001b[0m\u001b[0;34m,\u001b[0m\u001b[0;34m'IllMP.amb_reason_same_scores'\u001b[0m\u001b[0;34m,\u001b[0m\u001b[0;34m'IllMP.ref_alnScore_mean'\u001b[0m\u001b[0;34m,\u001b[0m\u001b[0;34m'IllMP.ref_alnScore_std'\u001b[0m\u001b[0;34m,\u001b[0m\u001b[0;34m'IllMP.ref_count'\u001b[0m\u001b[0;34m,\u001b[0m\u001b[0;34m'IllMP.ref_insertSize_mean'\u001b[0m\u001b[0;34m,\u001b[0m\u001b[0;34m'IllMP.ref_insertSize_std'\u001b[0m\u001b[0;34m,\u001b[0m\u001b[0;34m'IllMP.ref_reason_alignmentScore'\u001b[0m\u001b[0;34m,\u001b[0m\u001b[0;34m'IllMP.ref_reason_insertSizeScore'\u001b[0m\u001b[0;34m,\u001b[0m\u001b[0;34m'IllMP.ref_reason_orientation'\u001b[0m\u001b[0;34m,\u001b[0m\u001b[0;34m'TenX.HP1_alt_alnScore_mean'\u001b[0m\u001b[0;34m,\u001b[0m\u001b[0;34m'TenX.HP1_alt_alnScore_std'\u001b[0m\u001b[0;34m,\u001b[0m\u001b[0;34m'TenX.HP1_alt_count'\u001b[0m\u001b[0;34m,\u001b[0m\u001b[0;34m'TenX.HP1_alt_insertSize_mean'\u001b[0m\u001b[0;34m,\u001b[0m\u001b[0;34m'TenX.HP1_alt_insertSize_std'\u001b[0m\u001b[0;34m,\u001b[0m\u001b[0;34m'TenX.HP1_alt_reason_alignmentScore'\u001b[0m\u001b[0;34m,\u001b[0m\u001b[0;34m'TenX.HP1_alt_reason_insertSizeScore'\u001b[0m\u001b[0;34m,\u001b[0m\u001b[0;34m'TenX.HP1_alt_reason_orientation'\u001b[0m\u001b[0;34m,\u001b[0m\u001b[0;34m'TenX.HP1_amb_alnScore_mean'\u001b[0m\u001b[0;34m,\u001b[0m\u001b[0;34m'TenX.HP1_amb_alnScore_std'\u001b[0m\u001b[0;34m,\u001b[0m\u001b[0;34m'TenX.HP1_amb_count'\u001b[0m\u001b[0;34m,\u001b[0m\u001b[0;34m'TenX.HP1_amb_insertSize_mean'\u001b[0m\u001b[0;34m,\u001b[0m\u001b[0;34m'TenX.HP1_amb_insertSize_std'\u001b[0m\u001b[0;34m,\u001b[0m\u001b[0;34m'TenX.HP1_amb_reason_alignmentScore_alignmentScore'\u001b[0m\u001b[0;34m,\u001b[0m\u001b[0;34m'TenX.HP1_amb_reason_alignmentScore_orientation'\u001b[0m\u001b[0;34m,\u001b[0m\u001b[0;34m'TenX.HP1_amb_reason_flanking'\u001b[0m\u001b[0;34m,\u001b[0m\u001b[0;34m'TenX.HP1_amb_reason_insertSizeScore_alignmentScore'\u001b[0m\u001b[0;34m,\u001b[0m\u001b[0;34m'TenX.HP1_amb_reason_insertSizeScore_insertSizeScore'\u001b[0m\u001b[0;34m,\u001b[0m\u001b[0;34m'TenX.HP1_amb_reason_multimapping'\u001b[0m\u001b[0;34m,\u001b[0m\u001b[0;34m'TenX.HP1_amb_reason_orientation_alignmentScore'\u001b[0m\u001b[0;34m,\u001b[0m\u001b[0;34m'TenX.HP1_amb_reason_orientation_orientation'\u001b[0m\u001b[0;34m,\u001b[0m\u001b[0;34m'TenX.HP1_amb_reason_same_scores'\u001b[0m\u001b[0;34m,\u001b[0m\u001b[0;34m'TenX.HP1_ref_alnScore_mean'\u001b[0m\u001b[0;34m,\u001b[0m\u001b[0;34m'TenX.HP1_ref_alnScore_std'\u001b[0m\u001b[0;34m,\u001b[0m\u001b[0;34m'TenX.HP1_ref_count'\u001b[0m\u001b[0;34m,\u001b[0m\u001b[0;34m'TenX.HP1_ref_insertSize_mean'\u001b[0m\u001b[0;34m,\u001b[0m\u001b[0;34m'TenX.HP1_ref_insertSize_std'\u001b[0m\u001b[0;34m,\u001b[0m\u001b[0;34m'TenX.HP1_ref_reason_alignmentScore'\u001b[0m\u001b[0;34m,\u001b[0m\u001b[0;34m'TenX.HP1_ref_reason_insertSizeScore'\u001b[0m\u001b[0;34m,\u001b[0m\u001b[0;34m'TenX.HP1_ref_reason_orientation'\u001b[0m\u001b[0;34m,\u001b[0m\u001b[0;34m'TenX.HP2_alt_alnScore_mean'\u001b[0m\u001b[0;34m,\u001b[0m\u001b[0;34m'TenX.HP2_alt_alnScore_std'\u001b[0m\u001b[0;34m,\u001b[0m\u001b[0;34m'TenX.HP2_alt_count'\u001b[0m\u001b[0;34m,\u001b[0m\u001b[0;34m'TenX.HP2_alt_insertSize_mean'\u001b[0m\u001b[0;34m,\u001b[0m\u001b[0;34m'TenX.HP2_alt_insertSize_std'\u001b[0m\u001b[0;34m,\u001b[0m\u001b[0;34m'TenX.HP2_alt_reason_alignmentScore'\u001b[0m\u001b[0;34m,\u001b[0m\u001b[0;34m'TenX.HP2_alt_reason_insertSizeScore'\u001b[0m\u001b[0;34m,\u001b[0m\u001b[0;34m'TenX.HP2_alt_reason_orientation'\u001b[0m\u001b[0;34m,\u001b[0m\u001b[0;34m'TenX.HP2_amb_alnScore_mean'\u001b[0m\u001b[0;34m,\u001b[0m\u001b[0;34m'TenX.HP2_amb_alnScore_std'\u001b[0m\u001b[0;34m,\u001b[0m\u001b[0;34m'TenX.HP2_amb_count'\u001b[0m\u001b[0;34m,\u001b[0m\u001b[0;34m'TenX.HP2_amb_insertSize_mean'\u001b[0m\u001b[0;34m,\u001b[0m\u001b[0;34m'TenX.HP2_amb_insertSize_std'\u001b[0m\u001b[0;34m,\u001b[0m\u001b[0;34m'TenX.HP2_amb_reason_alignmentScore_alignmentScore'\u001b[0m\u001b[0;34m,\u001b[0m\u001b[0;34m'TenX.HP2_amb_reason_alignmentScore_orientation'\u001b[0m\u001b[0;34m,\u001b[0m\u001b[0;34m'TenX.HP2_amb_reason_flanking'\u001b[0m\u001b[0;34m,\u001b[0m\u001b[0;34m'TenX.HP2_amb_reason_insertSizeScore_alignmentScore'\u001b[0m\u001b[0;34m,\u001b[0m\u001b[0;34m'TenX.HP2_amb_reason_insertSizeScore_insertSizeScore'\u001b[0m\u001b[0;34m,\u001b[0m\u001b[0;34m'TenX.HP2_amb_reason_multimapping'\u001b[0m\u001b[0;34m,\u001b[0m\u001b[0;34m'TenX.HP2_amb_reason_orientation_alignmentScore'\u001b[0m\u001b[0;34m,\u001b[0m\u001b[0;34m'TenX.HP2_amb_reason_orientation_insertSizeScore'\u001b[0m\u001b[0;34m,\u001b[0m\u001b[0;34m'TenX.HP2_amb_reason_orientation_orientation'\u001b[0m\u001b[0;34m,\u001b[0m\u001b[0;34m'TenX.HP2_amb_reason_same_scores'\u001b[0m\u001b[0;34m,\u001b[0m\u001b[0;34m'TenX.HP2_ref_alnScore_mean'\u001b[0m\u001b[0;34m,\u001b[0m\u001b[0;34m'TenX.HP2_ref_alnScore_std'\u001b[0m\u001b[0;34m,\u001b[0m\u001b[0;34m'TenX.HP2_ref_count'\u001b[0m\u001b[0;34m,\u001b[0m\u001b[0;34m'TenX.HP2_ref_insertSize_mean'\u001b[0m\u001b[0;34m,\u001b[0m\u001b[0;34m'TenX.HP2_ref_insertSize_std'\u001b[0m\u001b[0;34m,\u001b[0m\u001b[0;34m'TenX.HP2_ref_reason_alignmentScore'\u001b[0m\u001b[0;34m,\u001b[0m\u001b[0;34m'TenX.HP2_ref_reason_orientation'\u001b[0m\u001b[0;34m,\u001b[0m\u001b[0;34m'pacbio.alt_alnScore_mean'\u001b[0m\u001b[0;34m,\u001b[0m\u001b[0;34m'pacbio.alt_alnScore_std'\u001b[0m\u001b[0;34m,\u001b[0m\u001b[0;34m'pacbio.alt_count'\u001b[0m\u001b[0;34m,\u001b[0m\u001b[0;34m'pacbio.alt_insertSize_mean'\u001b[0m\u001b[0;34m,\u001b[0m\u001b[0;34m'pacbio.alt_insertSize_std'\u001b[0m\u001b[0;34m,\u001b[0m\u001b[0;34m'pacbio.alt_reason_alignmentScore'\u001b[0m\u001b[0;34m,\u001b[0m\u001b[0;34m'pacbio.amb_alnScore_mean'\u001b[0m\u001b[0;34m,\u001b[0m\u001b[0;34m'pacbio.amb_alnScore_std'\u001b[0m\u001b[0;34m,\u001b[0m\u001b[0;34m'pacbio.amb_count'\u001b[0m\u001b[0;34m,\u001b[0m\u001b[0;34m'pacbio.amb_insertSize_mean'\u001b[0m\u001b[0;34m,\u001b[0m\u001b[0;34m'pacbio.amb_insertSize_std'\u001b[0m\u001b[0;34m,\u001b[0m\u001b[0;34m'pacbio.amb_reason_alignmentScore_alignmentScore'\u001b[0m\u001b[0;34m,\u001b[0m\u001b[0;34m'pacbio.amb_reason_flanking'\u001b[0m\u001b[0;34m,\u001b[0m\u001b[0;34m'pacbio.amb_reason_multimapping'\u001b[0m\u001b[0;34m,\u001b[0m\u001b[0;34m'pacbio.amb_reason_same_scores'\u001b[0m\u001b[0;34m,\u001b[0m\u001b[0;34m'pacbio.ref_alnScore_mean'\u001b[0m\u001b[0;34m,\u001b[0m\u001b[0;34m'pacbio.ref_alnScore_std'\u001b[0m\u001b[0;34m,\u001b[0m\u001b[0;34m'pacbio.ref_count'\u001b[0m\u001b[0;34m,\u001b[0m\u001b[0;34m'pacbio.ref_insertSize_mean'\u001b[0m\u001b[0;34m,\u001b[0m\u001b[0;34m'pacbio.ref_insertSize_std'\u001b[0m\u001b[0;34m,\u001b[0m\u001b[0;34m'pacbio.ref_reason_alignmentScore'\u001b[0m\u001b[0;34m,\u001b[0m\u001b[0;34m'tandemrep_cnt'\u001b[0m\u001b[0;34m,\u001b[0m\u001b[0;34m'tandemrep_pct'\u001b[0m\u001b[0;34m,\u001b[0m\u001b[0;34m'segdup_cnt'\u001b[0m\u001b[0;34m,\u001b[0m\u001b[0;34m'segdup_pct'\u001b[0m\u001b[0;34m,\u001b[0m\u001b[0;34m'refN_cnt'\u001b[0m\u001b[0;34m,\u001b[0m\u001b[0;34m'refN_pct'\u001b[0m\u001b[0;34m,\u001b[0m\u001b[0;34m'Label'\u001b[0m\u001b[0;34m]\u001b[0m\u001b[0;34m\u001b[0m\u001b[0m\n\u001b[0m",
      "\u001b[0;32m/Users/lmc2/anaconda/envs/NIHFAES/lib/python3.5/site-packages/pandas/core/generic.py\u001b[0m in \u001b[0;36m__setattr__\u001b[0;34m(self, name, value)\u001b[0m\n\u001b[1;32m   2755\u001b[0m         \u001b[0;32mtry\u001b[0m\u001b[0;34m:\u001b[0m\u001b[0;34m\u001b[0m\u001b[0m\n\u001b[1;32m   2756\u001b[0m             \u001b[0mobject\u001b[0m\u001b[0;34m.\u001b[0m\u001b[0m__getattribute__\u001b[0m\u001b[0;34m(\u001b[0m\u001b[0mself\u001b[0m\u001b[0;34m,\u001b[0m \u001b[0mname\u001b[0m\u001b[0;34m)\u001b[0m\u001b[0;34m\u001b[0m\u001b[0m\n\u001b[0;32m-> 2757\u001b[0;31m             \u001b[0;32mreturn\u001b[0m \u001b[0mobject\u001b[0m\u001b[0;34m.\u001b[0m\u001b[0m__setattr__\u001b[0m\u001b[0;34m(\u001b[0m\u001b[0mself\u001b[0m\u001b[0;34m,\u001b[0m \u001b[0mname\u001b[0m\u001b[0;34m,\u001b[0m \u001b[0mvalue\u001b[0m\u001b[0;34m)\u001b[0m\u001b[0;34m\u001b[0m\u001b[0m\n\u001b[0m\u001b[1;32m   2758\u001b[0m         \u001b[0;32mexcept\u001b[0m \u001b[0mAttributeError\u001b[0m\u001b[0;34m:\u001b[0m\u001b[0;34m\u001b[0m\u001b[0m\n\u001b[1;32m   2759\u001b[0m             \u001b[0;32mpass\u001b[0m\u001b[0;34m\u001b[0m\u001b[0m\n",
      "\u001b[0;32mpandas/src/properties.pyx\u001b[0m in \u001b[0;36mpandas.lib.AxisProperty.__set__ (pandas/lib.c:46249)\u001b[0;34m()\u001b[0m\n",
      "\u001b[0;32m/Users/lmc2/anaconda/envs/NIHFAES/lib/python3.5/site-packages/pandas/core/generic.py\u001b[0m in \u001b[0;36m_set_axis\u001b[0;34m(self, axis, labels)\u001b[0m\n\u001b[1;32m    446\u001b[0m \u001b[0;34m\u001b[0m\u001b[0m\n\u001b[1;32m    447\u001b[0m     \u001b[0;32mdef\u001b[0m \u001b[0m_set_axis\u001b[0m\u001b[0;34m(\u001b[0m\u001b[0mself\u001b[0m\u001b[0;34m,\u001b[0m \u001b[0maxis\u001b[0m\u001b[0;34m,\u001b[0m \u001b[0mlabels\u001b[0m\u001b[0;34m)\u001b[0m\u001b[0;34m:\u001b[0m\u001b[0;34m\u001b[0m\u001b[0m\n\u001b[0;32m--> 448\u001b[0;31m         \u001b[0mself\u001b[0m\u001b[0;34m.\u001b[0m\u001b[0m_data\u001b[0m\u001b[0;34m.\u001b[0m\u001b[0mset_axis\u001b[0m\u001b[0;34m(\u001b[0m\u001b[0maxis\u001b[0m\u001b[0;34m,\u001b[0m \u001b[0mlabels\u001b[0m\u001b[0;34m)\u001b[0m\u001b[0;34m\u001b[0m\u001b[0m\n\u001b[0m\u001b[1;32m    449\u001b[0m         \u001b[0mself\u001b[0m\u001b[0;34m.\u001b[0m\u001b[0m_clear_item_cache\u001b[0m\u001b[0;34m(\u001b[0m\u001b[0;34m)\u001b[0m\u001b[0;34m\u001b[0m\u001b[0m\n\u001b[1;32m    450\u001b[0m \u001b[0;34m\u001b[0m\u001b[0m\n",
      "\u001b[0;32m/Users/lmc2/anaconda/envs/NIHFAES/lib/python3.5/site-packages/pandas/core/internals.py\u001b[0m in \u001b[0;36mset_axis\u001b[0;34m(self, axis, new_labels)\u001b[0m\n\u001b[1;32m   2800\u001b[0m             raise ValueError('Length mismatch: Expected axis has %d elements, '\n\u001b[1;32m   2801\u001b[0m                              \u001b[0;34m'new values have %d elements'\u001b[0m \u001b[0;34m%\u001b[0m\u001b[0;34m\u001b[0m\u001b[0m\n\u001b[0;32m-> 2802\u001b[0;31m                              (old_len, new_len))\n\u001b[0m\u001b[1;32m   2803\u001b[0m \u001b[0;34m\u001b[0m\u001b[0m\n\u001b[1;32m   2804\u001b[0m         \u001b[0mself\u001b[0m\u001b[0;34m.\u001b[0m\u001b[0maxes\u001b[0m\u001b[0;34m[\u001b[0m\u001b[0maxis\u001b[0m\u001b[0;34m]\u001b[0m \u001b[0;34m=\u001b[0m \u001b[0mnew_labels\u001b[0m\u001b[0;34m\u001b[0m\u001b[0m\n",
      "\u001b[0;31mValueError\u001b[0m: Length mismatch: Expected axis has 173 elements, new values have 178 elements"
     ]
    }
   ],
   "source": [
    "# Add headers to the data frame with newly imputed missing values\n",
    "X.columns=['Size','Ill300x.alt_alnScore_mean','Ill300x.alt_alnScore_std','Ill300x.alt_count','Ill300x.alt_insertSize_mean','Ill300x.alt_insertSize_std','Ill300x.alt_reason_alignmentScore','Ill300x.alt_reason_insertSizeScore','Ill300x.alt_reason_orientation','Ill300x.amb_alnScore_mean','Ill300x.amb_alnScore_std','Ill300x.amb_count','Ill300x.amb_insertSize_mean','Ill300x.amb_insertSize_std','Ill300x.amb_reason_alignmentScore_alignmentScore','Ill300x.amb_reason_alignmentScore_orientation','Ill300x.amb_reason_flanking','Ill300x.amb_reason_insertSizeScore_alignmentScore','Ill300x.amb_reason_insertSizeScore_insertSizeScore','Ill300x.amb_reason_insertSizeScore_orientation','Ill300x.amb_reason_multimapping','Ill300x.amb_reason_orientation_alignmentScore','Ill300x.amb_reason_orientation_orientation','Ill300x.amb_reason_same_scores','Ill300x.ref_alnScore_mean','Ill300x.ref_alnScore_std','Ill300x.ref_count','Ill300x.ref_insertSize_mean','Ill300x.ref_insertSize_std','Ill300x.ref_reason_alignmentScore','Ill300x.ref_reason_insertSizeScore','Ill300x.ref_reason_orientation','Ill250.alt_alnScore_mean','Ill250.alt_alnScore_std','Ill250.alt_count','Ill250.alt_insertSize_mean','Ill250.alt_insertSize_std','Ill250.alt_reason_alignmentScore','Ill250.alt_reason_insertSizeScore','Ill250.alt_reason_orientation','Ill250.amb_alnScore_mean','Ill250.amb_alnScore_std','Ill250.amb_count','Ill250.amb_insertSize_mean','Ill250.amb_insertSize_std','Ill250.amb_reason_alignmentScore_alignmentScore','Ill250.amb_reason_alignmentScore_orientation','Ill250.amb_reason_flanking','Ill250.amb_reason_insertSizeScore_alignmentScore','Ill250.amb_reason_multimapping','Ill250.amb_reason_orientation_alignmentScore','Ill250.amb_reason_orientation_orientation','Ill250.amb_reason_same_scores','Ill250.ref_alnScore_mean','Ill250.ref_alnScore_std','Ill250.ref_count','Ill250.ref_insertSize_mean','Ill250.ref_insertSize_std','Ill250.ref_reason_alignmentScore','Ill250.ref_reason_orientation','IllMP.alt_alnScore_mean','IllMP.alt_alnScore_std','IllMP.alt_count','IllMP.alt_insertSize_mean','IllMP.alt_insertSize_std','IllMP.alt_reason_alignmentScore','IllMP.alt_reason_insertSizeScore','IllMP.alt_reason_orientation','IllMP.amb_alnScore_mean','IllMP.amb_alnScore_std','IllMP.amb_count','IllMP.amb_insertSize_mean','IllMP.amb_insertSize_std','IllMP.amb_reason_alignmentScore_alignmentScore','IllMP.amb_reason_alignmentScore_orientation','IllMP.amb_reason_flanking','IllMP.amb_reason_insertSizeScore_alignmentScore','IllMP.amb_reason_insertSizeScore_insertSizeScore','IllMP.amb_reason_multimapping','IllMP.amb_reason_orientation_alignmentScore','IllMP.amb_reason_orientation_orientation','IllMP.amb_reason_same_scores','IllMP.ref_alnScore_mean','IllMP.ref_alnScore_std','IllMP.ref_count','IllMP.ref_insertSize_mean','IllMP.ref_insertSize_std','IllMP.ref_reason_alignmentScore','IllMP.ref_reason_insertSizeScore','IllMP.ref_reason_orientation','TenX.HP1_alt_alnScore_mean','TenX.HP1_alt_alnScore_std','TenX.HP1_alt_count','TenX.HP1_alt_insertSize_mean','TenX.HP1_alt_insertSize_std','TenX.HP1_alt_reason_alignmentScore','TenX.HP1_alt_reason_insertSizeScore','TenX.HP1_alt_reason_orientation','TenX.HP1_amb_alnScore_mean','TenX.HP1_amb_alnScore_std','TenX.HP1_amb_count','TenX.HP1_amb_insertSize_mean','TenX.HP1_amb_insertSize_std','TenX.HP1_amb_reason_alignmentScore_alignmentScore','TenX.HP1_amb_reason_alignmentScore_orientation','TenX.HP1_amb_reason_flanking','TenX.HP1_amb_reason_insertSizeScore_alignmentScore','TenX.HP1_amb_reason_insertSizeScore_insertSizeScore','TenX.HP1_amb_reason_multimapping','TenX.HP1_amb_reason_orientation_alignmentScore','TenX.HP1_amb_reason_orientation_orientation','TenX.HP1_amb_reason_same_scores','TenX.HP1_ref_alnScore_mean','TenX.HP1_ref_alnScore_std','TenX.HP1_ref_count','TenX.HP1_ref_insertSize_mean','TenX.HP1_ref_insertSize_std','TenX.HP1_ref_reason_alignmentScore','TenX.HP1_ref_reason_insertSizeScore','TenX.HP1_ref_reason_orientation','TenX.HP2_alt_alnScore_mean','TenX.HP2_alt_alnScore_std','TenX.HP2_alt_count','TenX.HP2_alt_insertSize_mean','TenX.HP2_alt_insertSize_std','TenX.HP2_alt_reason_alignmentScore','TenX.HP2_alt_reason_insertSizeScore','TenX.HP2_alt_reason_orientation','TenX.HP2_amb_alnScore_mean','TenX.HP2_amb_alnScore_std','TenX.HP2_amb_count','TenX.HP2_amb_insertSize_mean','TenX.HP2_amb_insertSize_std','TenX.HP2_amb_reason_alignmentScore_alignmentScore','TenX.HP2_amb_reason_alignmentScore_orientation','TenX.HP2_amb_reason_flanking','TenX.HP2_amb_reason_insertSizeScore_alignmentScore','TenX.HP2_amb_reason_insertSizeScore_insertSizeScore','TenX.HP2_amb_reason_multimapping','TenX.HP2_amb_reason_orientation_alignmentScore','TenX.HP2_amb_reason_orientation_insertSizeScore','TenX.HP2_amb_reason_orientation_orientation','TenX.HP2_amb_reason_same_scores','TenX.HP2_ref_alnScore_mean','TenX.HP2_ref_alnScore_std','TenX.HP2_ref_count','TenX.HP2_ref_insertSize_mean','TenX.HP2_ref_insertSize_std','TenX.HP2_ref_reason_alignmentScore','TenX.HP2_ref_reason_orientation','pacbio.alt_alnScore_mean','pacbio.alt_alnScore_std','pacbio.alt_count','pacbio.alt_insertSize_mean','pacbio.alt_insertSize_std','pacbio.alt_reason_alignmentScore','pacbio.amb_alnScore_mean','pacbio.amb_alnScore_std','pacbio.amb_count','pacbio.amb_insertSize_mean','pacbio.amb_insertSize_std','pacbio.amb_reason_alignmentScore_alignmentScore','pacbio.amb_reason_flanking','pacbio.amb_reason_multimapping','pacbio.amb_reason_same_scores','pacbio.ref_alnScore_mean','pacbio.ref_alnScore_std','pacbio.ref_count','pacbio.ref_insertSize_mean','pacbio.ref_insertSize_std','pacbio.ref_reason_alignmentScore','tandemrep_cnt','tandemrep_pct','segdup_cnt','segdup_pct','refN_cnt','refN_pct','Label']"
   ]
  },
  {
   "cell_type": "code",
   "execution_count": 318,
   "metadata": {
    "collapsed": true
   },
   "outputs": [],
   "source": [
    "X.columns=['Ill300x.alt_alnScore_mean','Ill300x.alt_alnScore_std','Ill300x.alt_count','Ill300x.alt_insertSize_mean','Ill300x.alt_insertSize_std','Ill300x.alt_reason_alignmentScore','Ill300x.alt_reason_insertSizeScore','Ill300x.alt_reason_orientation','Ill300x.amb_alnScore_mean','Ill300x.amb_alnScore_std','Ill300x.amb_count','Ill300x.amb_insertSize_mean','Ill300x.amb_insertSize_std','Ill300x.amb_reason_alignmentScore_alignmentScore','Ill300x.amb_reason_alignmentScore_orientation','Ill300x.amb_reason_flanking','Ill300x.amb_reason_insertSizeScore_alignmentScore','Ill300x.amb_reason_insertSizeScore_insertSizeScore','Ill300x.amb_reason_multimapping','Ill300x.amb_reason_orientation_alignmentScore','Ill300x.amb_reason_orientation_orientation','Ill300x.amb_reason_same_scores','Ill300x.ref_alnScore_mean','Ill300x.ref_alnScore_std','Ill300x.ref_count','Ill300x.ref_insertSize_mean','Ill300x.ref_insertSize_std','Ill300x.ref_reason_alignmentScore','Ill300x.ref_reason_insertSizeScore','Ill300x.ref_reason_orientation','Ill250.alt_alnScore_mean','Ill250.alt_alnScore_std','Ill250.alt_count','Ill250.alt_insertSize_mean','Ill250.alt_insertSize_std','Ill250.alt_reason_alignmentScore','Ill250.alt_reason_insertSizeScore','Ill250.alt_reason_orientation','Ill250.amb_alnScore_mean','Ill250.amb_alnScore_std','Ill250.amb_count','Ill250.amb_insertSize_mean','Ill250.amb_insertSize_std','Ill250.amb_reason_alignmentScore_alignmentScore','Ill250.amb_reason_alignmentScore_orientation','Ill250.amb_reason_flanking','Ill250.amb_reason_insertSizeScore_alignmentScore','Ill250.amb_reason_insertSizeScore_insertSizeScore','Ill250.amb_reason_multimapping','Ill250.amb_reason_orientation_alignmentScore','Ill250.amb_reason_orientation_orientation','Ill250.amb_reason_same_scores','Ill250.ref_alnScore_mean','Ill250.ref_alnScore_std','Ill250.ref_count','Ill250.ref_insertSize_mean','Ill250.ref_insertSize_std','Ill250.ref_reason_alignmentScore','Ill250.ref_reason_orientation','IllMP.alt_alnScore_mean','IllMP.alt_alnScore_std','IllMP.alt_count','IllMP.alt_insertSize_mean','IllMP.alt_insertSize_std','IllMP.alt_reason_alignmentScore','IllMP.alt_reason_insertSizeScore','IllMP.alt_reason_orientation','IllMP.amb_alnScore_mean','IllMP.amb_alnScore_std','IllMP.amb_count','IllMP.amb_insertSize_mean','IllMP.amb_insertSize_std','IllMP.amb_reason_alignmentScore_alignmentScore','IllMP.amb_reason_alignmentScore_orientation','IllMP.amb_reason_flanking','IllMP.amb_reason_insertSizeScore_insertSizeScore','IllMP.amb_reason_multimapping','IllMP.amb_reason_orientation_alignmentScore','IllMP.amb_reason_orientation_orientation','IllMP.amb_reason_same_scores','IllMP.ref_alnScore_mean','IllMP.ref_alnScore_std','IllMP.ref_count','IllMP.ref_insertSize_mean','IllMP.ref_insertSize_std','IllMP.ref_reason_alignmentScore','IllMP.ref_reason_insertSizeScore','IllMP.ref_reason_orientation','pacbio.alt_alnScore_mean','pacbio.alt_alnScore_std','pacbio.alt_count','pacbio.alt_insertSize_mean','pacbio.alt_insertSize_std','pacbio.alt_reason_alignmentScore','pacbio.amb_alnScore_mean','pacbio.amb_alnScore_std','pacbio.amb_count','pacbio.amb_insertSize_mean','pacbio.amb_insertSize_std','pacbio.amb_reason_alignmentScore_alignmentScore','pacbio.amb_reason_flanking','pacbio.amb_reason_multimapping','pacbio.amb_reason_same_scores','pacbio.ref_alnScore_mean','pacbio.ref_alnScore_std','pacbio.ref_count','pacbio.ref_insertSize_mean','pacbio.ref_insertSize_std','pacbio.ref_reason_alignmentScore','TenX.HP1_alt_alnScore_mean','TenX.HP1_alt_alnScore_std','TenX.HP1_alt_count','TenX.HP1_alt_insertSize_mean','TenX.HP1_alt_insertSize_std','TenX.HP1_alt_reason_alignmentScore','TenX.HP1_alt_reason_insertSizeScore','TenX.HP1_alt_reason_orientation','TenX.HP1_amb_alnScore_mean','TenX.HP1_amb_alnScore_std','TenX.HP1_amb_count','TenX.HP1_amb_insertSize_mean','TenX.HP1_amb_insertSize_std','TenX.HP1_amb_reason_alignmentScore_alignmentScore','TenX.HP1_amb_reason_alignmentScore_orientation','TenX.HP1_amb_reason_flanking','TenX.HP1_amb_reason_insertSizeScore_alignmentScore','TenX.HP1_amb_reason_multimapping','TenX.HP1_amb_reason_orientation_alignmentScore','TenX.HP1_amb_reason_orientation_orientation','TenX.HP1_amb_reason_same_scores','TenX.HP1_ref_alnScore_mean','TenX.HP1_ref_alnScore_std','TenX.HP1_ref_count','TenX.HP1_ref_insertSize_mean','TenX.HP1_ref_insertSize_std','TenX.HP1_ref_reason_alignmentScore','TenX.HP1_ref_reason_orientation','TenX.HP2_alt_alnScore_mean','TenX.HP2_alt_alnScore_std','TenX.HP2_alt_count','TenX.HP2_alt_insertSize_mean','TenX.HP2_alt_insertSize_std','TenX.HP2_alt_reason_alignmentScore','TenX.HP2_alt_reason_insertSizeScore','TenX.HP2_alt_reason_orientation','TenX.HP2_amb_alnScore_mean','TenX.HP2_amb_alnScore_std','TenX.HP2_amb_count','TenX.HP2_amb_insertSize_mean','TenX.HP2_amb_insertSize_std','TenX.HP2_amb_reason_alignmentScore_alignmentScore','TenX.HP2_amb_reason_alignmentScore_orientation','TenX.HP2_amb_reason_flanking','TenX.HP2_amb_reason_insertSizeScore_alignmentScore','TenX.HP2_amb_reason_multimapping','TenX.HP2_amb_reason_orientation_alignmentScore','TenX.HP2_amb_reason_orientation_orientation','TenX.HP2_amb_reason_same_scores','TenX.HP2_ref_alnScore_mean','TenX.HP2_ref_alnScore_std','TenX.HP2_ref_count','TenX.HP2_ref_insertSize_mean','TenX.HP2_ref_insertSize_std','TenX.HP2_ref_reason_alignmentScore','TenX.HP2_ref_reason_orientation','size','tandemrep_cnt','tandemrep_pct','segdup_cnt','segdup_pct','refN_cnt','refN_pct','Label']"
   ]
  },
  {
   "cell_type": "code",
   "execution_count": 249,
   "metadata": {
    "collapsed": false
   },
   "outputs": [
    {
     "data": {
      "text/html": [
       "<div>\n",
       "<table border=\"1\" class=\"dataframe\">\n",
       "  <thead>\n",
       "    <tr style=\"text-align: right;\">\n",
       "      <th></th>\n",
       "      <th>Ill300x.alt_alnScore_mean</th>\n",
       "      <th>Ill300x.alt_alnScore_std</th>\n",
       "      <th>Ill300x.alt_count</th>\n",
       "      <th>Ill300x.alt_insertSize_mean</th>\n",
       "      <th>Ill300x.alt_insertSize_std</th>\n",
       "      <th>Ill300x.alt_reason_alignmentScore</th>\n",
       "      <th>Ill300x.alt_reason_insertSizeScore</th>\n",
       "      <th>Ill300x.alt_reason_orientation</th>\n",
       "      <th>Ill300x.amb_alnScore_mean</th>\n",
       "      <th>Ill300x.amb_alnScore_std</th>\n",
       "      <th>...</th>\n",
       "      <th>TenX.HP2_ref_alnScore_mean</th>\n",
       "      <th>TenX.HP2_ref_alnScore_std</th>\n",
       "      <th>TenX.HP2_ref_count</th>\n",
       "      <th>TenX.HP2_ref_insertSize_mean</th>\n",
       "      <th>TenX.HP2_ref_insertSize_std</th>\n",
       "      <th>TenX.HP2_ref_reason_alignmentScore</th>\n",
       "      <th>TenX.HP2_ref_reason_orientation</th>\n",
       "      <th>size</th>\n",
       "      <th>Svsize</th>\n",
       "      <th>Label</th>\n",
       "    </tr>\n",
       "  </thead>\n",
       "  <tbody>\n",
       "    <tr>\n",
       "      <th>0</th>\n",
       "      <td>586.375534</td>\n",
       "      <td>9.673593</td>\n",
       "      <td>229.624201</td>\n",
       "      <td>622.346332</td>\n",
       "      <td>167.207706</td>\n",
       "      <td>136.239193</td>\n",
       "      <td>93.385008</td>\n",
       "      <td>0.0</td>\n",
       "      <td>536.011600</td>\n",
       "      <td>89.944503</td>\n",
       "      <td>...</td>\n",
       "      <td>503.500000</td>\n",
       "      <td>25.500000</td>\n",
       "      <td>2.0</td>\n",
       "      <td>281.500000</td>\n",
       "      <td>26.500000</td>\n",
       "      <td>2.0</td>\n",
       "      <td>0.0</td>\n",
       "      <td>103.0</td>\n",
       "      <td>103.0</td>\n",
       "      <td>2.0</td>\n",
       "    </tr>\n",
       "    <tr>\n",
       "      <th>1</th>\n",
       "      <td>585.158132</td>\n",
       "      <td>8.614902</td>\n",
       "      <td>226.527365</td>\n",
       "      <td>638.034493</td>\n",
       "      <td>156.638135</td>\n",
       "      <td>118.938271</td>\n",
       "      <td>107.589093</td>\n",
       "      <td>0.0</td>\n",
       "      <td>524.344866</td>\n",
       "      <td>93.783706</td>\n",
       "      <td>...</td>\n",
       "      <td>528.138889</td>\n",
       "      <td>20.997556</td>\n",
       "      <td>36.0</td>\n",
       "      <td>339.777778</td>\n",
       "      <td>122.282485</td>\n",
       "      <td>27.0</td>\n",
       "      <td>9.0</td>\n",
       "      <td>275.0</td>\n",
       "      <td>275.0</td>\n",
       "      <td>2.0</td>\n",
       "    </tr>\n",
       "    <tr>\n",
       "      <th>2</th>\n",
       "      <td>580.681818</td>\n",
       "      <td>15.496001</td>\n",
       "      <td>22.000000</td>\n",
       "      <td>1126.909091</td>\n",
       "      <td>202.803736</td>\n",
       "      <td>0.000000</td>\n",
       "      <td>22.000000</td>\n",
       "      <td>0.0</td>\n",
       "      <td>547.209939</td>\n",
       "      <td>84.570535</td>\n",
       "      <td>...</td>\n",
       "      <td>517.333333</td>\n",
       "      <td>40.540789</td>\n",
       "      <td>3.0</td>\n",
       "      <td>819.666667</td>\n",
       "      <td>361.818862</td>\n",
       "      <td>3.0</td>\n",
       "      <td>0.0</td>\n",
       "      <td>218.0</td>\n",
       "      <td>218.0</td>\n",
       "      <td>2.0</td>\n",
       "    </tr>\n",
       "  </tbody>\n",
       "</table>\n",
       "<p>3 rows × 168 columns</p>\n",
       "</div>"
      ],
      "text/plain": [
       "   Ill300x.alt_alnScore_mean  Ill300x.alt_alnScore_std  Ill300x.alt_count  \\\n",
       "0                 586.375534                  9.673593         229.624201   \n",
       "1                 585.158132                  8.614902         226.527365   \n",
       "2                 580.681818                 15.496001          22.000000   \n",
       "\n",
       "   Ill300x.alt_insertSize_mean  Ill300x.alt_insertSize_std  \\\n",
       "0                   622.346332                  167.207706   \n",
       "1                   638.034493                  156.638135   \n",
       "2                  1126.909091                  202.803736   \n",
       "\n",
       "   Ill300x.alt_reason_alignmentScore  Ill300x.alt_reason_insertSizeScore  \\\n",
       "0                         136.239193                           93.385008   \n",
       "1                         118.938271                          107.589093   \n",
       "2                           0.000000                           22.000000   \n",
       "\n",
       "   Ill300x.alt_reason_orientation  Ill300x.amb_alnScore_mean  \\\n",
       "0                             0.0                 536.011600   \n",
       "1                             0.0                 524.344866   \n",
       "2                             0.0                 547.209939   \n",
       "\n",
       "   Ill300x.amb_alnScore_std  ...    TenX.HP2_ref_alnScore_mean  \\\n",
       "0                 89.944503  ...                    503.500000   \n",
       "1                 93.783706  ...                    528.138889   \n",
       "2                 84.570535  ...                    517.333333   \n",
       "\n",
       "   TenX.HP2_ref_alnScore_std  TenX.HP2_ref_count  \\\n",
       "0                  25.500000                 2.0   \n",
       "1                  20.997556                36.0   \n",
       "2                  40.540789                 3.0   \n",
       "\n",
       "   TenX.HP2_ref_insertSize_mean  TenX.HP2_ref_insertSize_std  \\\n",
       "0                    281.500000                    26.500000   \n",
       "1                    339.777778                   122.282485   \n",
       "2                    819.666667                   361.818862   \n",
       "\n",
       "   TenX.HP2_ref_reason_alignmentScore  TenX.HP2_ref_reason_orientation   size  \\\n",
       "0                                 2.0                              0.0  103.0   \n",
       "1                                27.0                              9.0  275.0   \n",
       "2                                 3.0                              0.0  218.0   \n",
       "\n",
       "   Svsize  Label  \n",
       "0   103.0    2.0  \n",
       "1   275.0    2.0  \n",
       "2   218.0    2.0  \n",
       "\n",
       "[3 rows x 168 columns]"
      ]
     },
     "execution_count": 249,
     "metadata": {},
     "output_type": "execute_result"
    }
   ],
   "source": [
    "X.head(3)"
   ]
  },
  {
   "cell_type": "code",
   "execution_count": 319,
   "metadata": {
    "collapsed": false
   },
   "outputs": [],
   "source": [
    "# Store Labels in a new 'Y' DataFrame\n",
    "Y = pd.DataFrame()\n",
    "Y['Label'] = X['Label']\n",
    "#Y = X.pop('Label')"
   ]
  },
  {
   "cell_type": "code",
   "execution_count": 320,
   "metadata": {
    "collapsed": false
   },
   "outputs": [
    {
     "data": {
      "text/plain": [
       " 1.0    959\n",
       " 0.0    552\n",
       "-1.0      1\n",
       " 2.0      3\n",
       "dtype: int64"
      ]
     },
     "execution_count": 320,
     "metadata": {},
     "output_type": "execute_result"
    }
   ],
   "source": [
    "pd.value_counts(Y['Label'].values, sort=False)"
   ]
  },
  {
   "cell_type": "code",
   "execution_count": 252,
   "metadata": {
    "collapsed": false
   },
   "outputs": [],
   "source": [
    "# Remove labels from the X dataframe: Select all columns except for the label column\n",
    "X=X[['Ill300x.alt_alnScore_mean','Ill300x.alt_alnScore_std','Ill300x.alt_count','Ill300x.alt_insertSize_mean','Ill300x.alt_insertSize_std','Ill300x.alt_reason_alignmentScore','Ill300x.alt_reason_insertSizeScore','Ill300x.alt_reason_orientation','Ill300x.amb_alnScore_mean','Ill300x.amb_alnScore_std','Ill300x.amb_count','Ill300x.amb_insertSize_mean','Ill300x.amb_insertSize_std','Ill300x.amb_reason_alignmentScore_alignmentScore','Ill300x.amb_reason_alignmentScore_orientation','Ill300x.amb_reason_flanking','Ill300x.amb_reason_insertSizeScore_alignmentScore','Ill300x.amb_reason_insertSizeScore_insertSizeScore','Ill300x.amb_reason_multimapping','Ill300x.amb_reason_orientation_alignmentScore','Ill300x.amb_reason_orientation_orientation','Ill300x.amb_reason_same_scores','Ill300x.ref_alnScore_mean','Ill300x.ref_alnScore_std','Ill300x.ref_count','Ill300x.ref_insertSize_mean','Ill300x.ref_insertSize_std','Ill300x.ref_reason_alignmentScore','Ill300x.ref_reason_insertSizeScore','Ill300x.ref_reason_orientation','Ill250.alt_alnScore_mean','Ill250.alt_alnScore_std','Ill250.alt_count','Ill250.alt_insertSize_mean','Ill250.alt_insertSize_std','Ill250.alt_reason_alignmentScore','Ill250.alt_reason_insertSizeScore','Ill250.alt_reason_orientation','Ill250.amb_alnScore_mean','Ill250.amb_alnScore_std','Ill250.amb_count','Ill250.amb_insertSize_mean','Ill250.amb_insertSize_std','Ill250.amb_reason_alignmentScore_alignmentScore','Ill250.amb_reason_alignmentScore_orientation','Ill250.amb_reason_flanking','Ill250.amb_reason_insertSizeScore_alignmentScore','Ill250.amb_reason_multimapping','Ill250.amb_reason_orientation_alignmentScore','Ill250.amb_reason_orientation_orientation','Ill250.amb_reason_same_scores','Ill250.ref_alnScore_mean','Ill250.ref_alnScore_std','Ill250.ref_count','Ill250.ref_insertSize_mean','Ill250.ref_insertSize_std','Ill250.ref_reason_alignmentScore','Ill250.ref_reason_orientation','IllMP.alt_alnScore_mean','IllMP.alt_alnScore_std','IllMP.alt_count','IllMP.alt_insertSize_mean','IllMP.alt_insertSize_std','IllMP.alt_reason_alignmentScore','IllMP.alt_reason_insertSizeScore','IllMP.alt_reason_orientation','IllMP.amb_alnScore_mean','IllMP.amb_alnScore_std','IllMP.amb_count','IllMP.amb_insertSize_mean','IllMP.amb_insertSize_std','IllMP.amb_reason_alignmentScore_alignmentScore','IllMP.amb_reason_alignmentScore_orientation','IllMP.amb_reason_flanking','IllMP.amb_reason_insertSizeScore_insertSizeScore','IllMP.amb_reason_multimapping','IllMP.amb_reason_orientation_alignmentScore','IllMP.amb_reason_orientation_orientation','IllMP.amb_reason_same_scores','IllMP.ref_alnScore_mean','IllMP.ref_alnScore_std','IllMP.ref_count','IllMP.ref_insertSize_mean','IllMP.ref_insertSize_std','IllMP.ref_reason_alignmentScore','IllMP.ref_reason_insertSizeScore','IllMP.ref_reason_orientation','pacbio.alt_alnScore_mean','pacbio.alt_alnScore_std','pacbio.alt_count','pacbio.alt_insertSize_mean','pacbio.alt_insertSize_std','pacbio.alt_reason_alignmentScore','pacbio.amb_alnScore_mean','pacbio.amb_alnScore_std','pacbio.amb_count','pacbio.amb_insertSize_mean','pacbio.amb_insertSize_std','pacbio.amb_reason_alignmentScore_alignmentScore','pacbio.amb_reason_flanking','pacbio.amb_reason_multimapping','pacbio.amb_reason_same_scores','pacbio.ref_alnScore_mean','pacbio.ref_alnScore_std','pacbio.ref_count','pacbio.ref_insertSize_mean','pacbio.ref_insertSize_std','pacbio.ref_reason_alignmentScore','TenX.HP1_alt_alnScore_mean','TenX.HP1_alt_alnScore_std','TenX.HP1_alt_count','TenX.HP1_alt_insertSize_mean','TenX.HP1_alt_insertSize_std','TenX.HP1_alt_reason_alignmentScore','TenX.HP1_alt_reason_insertSizeScore','TenX.HP1_alt_reason_orientation','TenX.HP1_amb_alnScore_mean','TenX.HP1_amb_alnScore_std','TenX.HP1_amb_count','TenX.HP1_amb_insertSize_mean','TenX.HP1_amb_insertSize_std','TenX.HP1_amb_reason_alignmentScore_alignmentScore','TenX.HP1_amb_reason_alignmentScore_orientation','TenX.HP1_amb_reason_flanking','TenX.HP1_amb_reason_insertSizeScore_alignmentScore','TenX.HP1_amb_reason_multimapping','TenX.HP1_amb_reason_orientation_alignmentScore','TenX.HP1_amb_reason_orientation_orientation','TenX.HP1_amb_reason_same_scores','TenX.HP1_ref_alnScore_mean','TenX.HP1_ref_alnScore_std','TenX.HP1_ref_count','TenX.HP1_ref_insertSize_mean','TenX.HP1_ref_insertSize_std','TenX.HP1_ref_reason_alignmentScore','TenX.HP1_ref_reason_orientation','TenX.HP2_alt_alnScore_mean','TenX.HP2_alt_alnScore_std','TenX.HP2_alt_count','TenX.HP2_alt_insertSize_mean','TenX.HP2_alt_insertSize_std','TenX.HP2_alt_reason_alignmentScore','TenX.HP2_alt_reason_insertSizeScore','TenX.HP2_alt_reason_orientation','TenX.HP2_amb_alnScore_mean','TenX.HP2_amb_alnScore_std','TenX.HP2_amb_count','TenX.HP2_amb_insertSize_mean','TenX.HP2_amb_insertSize_std','TenX.HP2_amb_reason_alignmentScore_alignmentScore','TenX.HP2_amb_reason_alignmentScore_orientation','TenX.HP2_amb_reason_flanking','TenX.HP2_amb_reason_insertSizeScore_alignmentScore','TenX.HP2_amb_reason_multimapping','TenX.HP2_amb_reason_orientation_alignmentScore','TenX.HP2_amb_reason_orientation_orientation','TenX.HP2_amb_reason_same_scores','TenX.HP2_ref_alnScore_mean','TenX.HP2_ref_alnScore_std','TenX.HP2_ref_count','TenX.HP2_ref_insertSize_mean','TenX.HP2_ref_insertSize_std','TenX.HP2_ref_reason_alignmentScore','TenX.HP2_ref_reason_orientation']]"
   ]
  },
  {
   "cell_type": "code",
   "execution_count": 321,
   "metadata": {
    "collapsed": true
   },
   "outputs": [],
   "source": [
    "X=X[['Ill300x.alt_alnScore_mean','Ill300x.alt_alnScore_std','Ill300x.alt_count','Ill300x.alt_insertSize_mean','Ill300x.alt_insertSize_std','Ill300x.alt_reason_alignmentScore','Ill300x.alt_reason_insertSizeScore','Ill300x.alt_reason_orientation','Ill300x.amb_alnScore_mean','Ill300x.amb_alnScore_std','Ill300x.amb_count','Ill300x.amb_insertSize_mean','Ill300x.amb_insertSize_std','Ill300x.amb_reason_alignmentScore_alignmentScore','Ill300x.amb_reason_alignmentScore_orientation','Ill300x.amb_reason_flanking','Ill300x.amb_reason_insertSizeScore_alignmentScore','Ill300x.amb_reason_insertSizeScore_insertSizeScore','Ill300x.amb_reason_multimapping','Ill300x.amb_reason_orientation_alignmentScore','Ill300x.amb_reason_orientation_orientation','Ill300x.amb_reason_same_scores','Ill300x.ref_alnScore_mean','Ill300x.ref_alnScore_std','Ill300x.ref_count','Ill300x.ref_insertSize_mean','Ill300x.ref_insertSize_std','Ill300x.ref_reason_alignmentScore','Ill300x.ref_reason_insertSizeScore','Ill300x.ref_reason_orientation','Ill250.alt_alnScore_mean','Ill250.alt_alnScore_std','Ill250.alt_count','Ill250.alt_insertSize_mean','Ill250.alt_insertSize_std','Ill250.alt_reason_alignmentScore','Ill250.alt_reason_insertSizeScore','Ill250.alt_reason_orientation','Ill250.amb_alnScore_mean','Ill250.amb_alnScore_std','Ill250.amb_count','Ill250.amb_insertSize_mean','Ill250.amb_insertSize_std','Ill250.amb_reason_alignmentScore_alignmentScore','Ill250.amb_reason_alignmentScore_orientation','Ill250.amb_reason_flanking','Ill250.amb_reason_insertSizeScore_alignmentScore','Ill250.amb_reason_insertSizeScore_insertSizeScore','Ill250.amb_reason_multimapping','Ill250.amb_reason_orientation_alignmentScore','Ill250.amb_reason_orientation_orientation','Ill250.amb_reason_same_scores','Ill250.ref_alnScore_mean','Ill250.ref_alnScore_std','Ill250.ref_count','Ill250.ref_insertSize_mean','Ill250.ref_insertSize_std','Ill250.ref_reason_alignmentScore','Ill250.ref_reason_orientation','IllMP.alt_alnScore_mean','IllMP.alt_alnScore_std','IllMP.alt_count','IllMP.alt_insertSize_mean','IllMP.alt_insertSize_std','IllMP.alt_reason_alignmentScore','IllMP.alt_reason_insertSizeScore','IllMP.alt_reason_orientation','IllMP.amb_alnScore_mean','IllMP.amb_alnScore_std','IllMP.amb_count','IllMP.amb_insertSize_mean','IllMP.amb_insertSize_std','IllMP.amb_reason_alignmentScore_alignmentScore','IllMP.amb_reason_alignmentScore_orientation','IllMP.amb_reason_flanking','IllMP.amb_reason_insertSizeScore_insertSizeScore','IllMP.amb_reason_multimapping','IllMP.amb_reason_orientation_alignmentScore','IllMP.amb_reason_orientation_orientation','IllMP.amb_reason_same_scores','IllMP.ref_alnScore_mean','IllMP.ref_alnScore_std','IllMP.ref_count','IllMP.ref_insertSize_mean','IllMP.ref_insertSize_std','IllMP.ref_reason_alignmentScore','IllMP.ref_reason_insertSizeScore','IllMP.ref_reason_orientation','pacbio.alt_alnScore_mean','pacbio.alt_alnScore_std','pacbio.alt_count','pacbio.alt_insertSize_mean','pacbio.alt_insertSize_std','pacbio.alt_reason_alignmentScore','pacbio.amb_alnScore_mean','pacbio.amb_alnScore_std','pacbio.amb_count','pacbio.amb_insertSize_mean','pacbio.amb_insertSize_std','pacbio.amb_reason_alignmentScore_alignmentScore','pacbio.amb_reason_flanking','pacbio.amb_reason_multimapping','pacbio.amb_reason_same_scores','pacbio.ref_alnScore_mean','pacbio.ref_alnScore_std','pacbio.ref_count','pacbio.ref_insertSize_mean','pacbio.ref_insertSize_std','pacbio.ref_reason_alignmentScore','TenX.HP1_alt_alnScore_mean','TenX.HP1_alt_alnScore_std','TenX.HP1_alt_count','TenX.HP1_alt_insertSize_mean','TenX.HP1_alt_insertSize_std','TenX.HP1_alt_reason_alignmentScore','TenX.HP1_alt_reason_insertSizeScore','TenX.HP1_alt_reason_orientation','TenX.HP1_amb_alnScore_mean','TenX.HP1_amb_alnScore_std','TenX.HP1_amb_count','TenX.HP1_amb_insertSize_mean','TenX.HP1_amb_insertSize_std','TenX.HP1_amb_reason_alignmentScore_alignmentScore','TenX.HP1_amb_reason_alignmentScore_orientation','TenX.HP1_amb_reason_flanking','TenX.HP1_amb_reason_insertSizeScore_alignmentScore','TenX.HP1_amb_reason_multimapping','TenX.HP1_amb_reason_orientation_alignmentScore','TenX.HP1_amb_reason_orientation_orientation','TenX.HP1_amb_reason_same_scores','TenX.HP1_ref_alnScore_mean','TenX.HP1_ref_alnScore_std','TenX.HP1_ref_count','TenX.HP1_ref_insertSize_mean','TenX.HP1_ref_insertSize_std','TenX.HP1_ref_reason_alignmentScore','TenX.HP1_ref_reason_orientation','TenX.HP2_alt_alnScore_mean','TenX.HP2_alt_alnScore_std','TenX.HP2_alt_count','TenX.HP2_alt_insertSize_mean','TenX.HP2_alt_insertSize_std','TenX.HP2_alt_reason_alignmentScore','TenX.HP2_alt_reason_insertSizeScore','TenX.HP2_alt_reason_orientation','TenX.HP2_amb_alnScore_mean','TenX.HP2_amb_alnScore_std','TenX.HP2_amb_count','TenX.HP2_amb_insertSize_mean','TenX.HP2_amb_insertSize_std','TenX.HP2_amb_reason_alignmentScore_alignmentScore','TenX.HP2_amb_reason_alignmentScore_orientation','TenX.HP2_amb_reason_flanking','TenX.HP2_amb_reason_insertSizeScore_alignmentScore','TenX.HP2_amb_reason_multimapping','TenX.HP2_amb_reason_orientation_alignmentScore','TenX.HP2_amb_reason_orientation_orientation','TenX.HP2_amb_reason_same_scores','TenX.HP2_ref_alnScore_mean','TenX.HP2_ref_alnScore_std','TenX.HP2_ref_count','TenX.HP2_ref_insertSize_mean','TenX.HP2_ref_insertSize_std','TenX.HP2_ref_reason_alignmentScore','TenX.HP2_ref_reason_orientation','size','tandemrep_cnt','tandemrep_pct','segdup_cnt','segdup_pct','refN_cnt','refN_pct']]"
   ]
  },
  {
   "cell_type": "code",
   "execution_count": 322,
   "metadata": {
    "collapsed": false
   },
   "outputs": [
    {
     "data": {
      "text/html": [
       "<div>\n",
       "<table border=\"1\" class=\"dataframe\">\n",
       "  <thead>\n",
       "    <tr style=\"text-align: right;\">\n",
       "      <th></th>\n",
       "      <th>Ill300x.alt_alnScore_mean</th>\n",
       "      <th>Ill300x.alt_alnScore_std</th>\n",
       "      <th>Ill300x.alt_count</th>\n",
       "      <th>Ill300x.alt_insertSize_mean</th>\n",
       "      <th>Ill300x.alt_insertSize_std</th>\n",
       "      <th>Ill300x.alt_reason_alignmentScore</th>\n",
       "      <th>Ill300x.alt_reason_insertSizeScore</th>\n",
       "      <th>Ill300x.alt_reason_orientation</th>\n",
       "      <th>Ill300x.amb_alnScore_mean</th>\n",
       "      <th>Ill300x.amb_alnScore_std</th>\n",
       "      <th>...</th>\n",
       "      <th>TenX.HP2_ref_insertSize_std</th>\n",
       "      <th>TenX.HP2_ref_reason_alignmentScore</th>\n",
       "      <th>TenX.HP2_ref_reason_orientation</th>\n",
       "      <th>size</th>\n",
       "      <th>tandemrep_cnt</th>\n",
       "      <th>tandemrep_pct</th>\n",
       "      <th>segdup_cnt</th>\n",
       "      <th>segdup_pct</th>\n",
       "      <th>refN_cnt</th>\n",
       "      <th>refN_pct</th>\n",
       "    </tr>\n",
       "  </thead>\n",
       "  <tbody>\n",
       "    <tr>\n",
       "      <th>0</th>\n",
       "      <td>579.446154</td>\n",
       "      <td>17.934094</td>\n",
       "      <td>65.0</td>\n",
       "      <td>756.430769</td>\n",
       "      <td>163.879409</td>\n",
       "      <td>0.0</td>\n",
       "      <td>65.0</td>\n",
       "      <td>0.0</td>\n",
       "      <td>526.250785</td>\n",
       "      <td>88.797088</td>\n",
       "      <td>...</td>\n",
       "      <td>25.500000</td>\n",
       "      <td>2.0</td>\n",
       "      <td>0.0</td>\n",
       "      <td>1651.0</td>\n",
       "      <td>8.0</td>\n",
       "      <td>0.096911</td>\n",
       "      <td>0.0</td>\n",
       "      <td>0.0</td>\n",
       "      <td>0.0</td>\n",
       "      <td>0.0</td>\n",
       "    </tr>\n",
       "    <tr>\n",
       "      <th>1</th>\n",
       "      <td>557.000000</td>\n",
       "      <td>20.665840</td>\n",
       "      <td>13.0</td>\n",
       "      <td>1158.307692</td>\n",
       "      <td>134.247982</td>\n",
       "      <td>0.0</td>\n",
       "      <td>13.0</td>\n",
       "      <td>0.0</td>\n",
       "      <td>545.050452</td>\n",
       "      <td>62.371767</td>\n",
       "      <td>...</td>\n",
       "      <td>138.336019</td>\n",
       "      <td>12.0</td>\n",
       "      <td>0.0</td>\n",
       "      <td>176.0</td>\n",
       "      <td>2.0</td>\n",
       "      <td>0.221591</td>\n",
       "      <td>0.0</td>\n",
       "      <td>0.0</td>\n",
       "      <td>0.0</td>\n",
       "      <td>0.0</td>\n",
       "    </tr>\n",
       "    <tr>\n",
       "      <th>2</th>\n",
       "      <td>574.335366</td>\n",
       "      <td>18.613946</td>\n",
       "      <td>164.0</td>\n",
       "      <td>678.518293</td>\n",
       "      <td>139.056203</td>\n",
       "      <td>31.0</td>\n",
       "      <td>133.0</td>\n",
       "      <td>0.0</td>\n",
       "      <td>518.296740</td>\n",
       "      <td>91.633718</td>\n",
       "      <td>...</td>\n",
       "      <td>181.532366</td>\n",
       "      <td>3.0</td>\n",
       "      <td>0.0</td>\n",
       "      <td>1329.0</td>\n",
       "      <td>3.0</td>\n",
       "      <td>0.059443</td>\n",
       "      <td>0.0</td>\n",
       "      <td>0.0</td>\n",
       "      <td>0.0</td>\n",
       "      <td>0.0</td>\n",
       "    </tr>\n",
       "    <tr>\n",
       "      <th>3</th>\n",
       "      <td>582.000000</td>\n",
       "      <td>12.928956</td>\n",
       "      <td>38.0</td>\n",
       "      <td>697.026316</td>\n",
       "      <td>152.204932</td>\n",
       "      <td>4.0</td>\n",
       "      <td>34.0</td>\n",
       "      <td>0.0</td>\n",
       "      <td>528.007583</td>\n",
       "      <td>93.211521</td>\n",
       "      <td>...</td>\n",
       "      <td>90.760168</td>\n",
       "      <td>13.0</td>\n",
       "      <td>1.0</td>\n",
       "      <td>258.0</td>\n",
       "      <td>1.0</td>\n",
       "      <td>0.240310</td>\n",
       "      <td>0.0</td>\n",
       "      <td>0.0</td>\n",
       "      <td>0.0</td>\n",
       "      <td>0.0</td>\n",
       "    </tr>\n",
       "    <tr>\n",
       "      <th>4</th>\n",
       "      <td>577.937500</td>\n",
       "      <td>16.320496</td>\n",
       "      <td>80.0</td>\n",
       "      <td>751.150000</td>\n",
       "      <td>128.707527</td>\n",
       "      <td>0.0</td>\n",
       "      <td>80.0</td>\n",
       "      <td>0.0</td>\n",
       "      <td>528.103762</td>\n",
       "      <td>93.192739</td>\n",
       "      <td>...</td>\n",
       "      <td>409.833031</td>\n",
       "      <td>19.0</td>\n",
       "      <td>0.0</td>\n",
       "      <td>856.0</td>\n",
       "      <td>1.0</td>\n",
       "      <td>0.046729</td>\n",
       "      <td>0.0</td>\n",
       "      <td>0.0</td>\n",
       "      <td>0.0</td>\n",
       "      <td>0.0</td>\n",
       "    </tr>\n",
       "  </tbody>\n",
       "</table>\n",
       "<p>5 rows × 172 columns</p>\n",
       "</div>"
      ],
      "text/plain": [
       "   Ill300x.alt_alnScore_mean  Ill300x.alt_alnScore_std  Ill300x.alt_count  \\\n",
       "0                 579.446154                 17.934094               65.0   \n",
       "1                 557.000000                 20.665840               13.0   \n",
       "2                 574.335366                 18.613946              164.0   \n",
       "3                 582.000000                 12.928956               38.0   \n",
       "4                 577.937500                 16.320496               80.0   \n",
       "\n",
       "   Ill300x.alt_insertSize_mean  Ill300x.alt_insertSize_std  \\\n",
       "0                   756.430769                  163.879409   \n",
       "1                  1158.307692                  134.247982   \n",
       "2                   678.518293                  139.056203   \n",
       "3                   697.026316                  152.204932   \n",
       "4                   751.150000                  128.707527   \n",
       "\n",
       "   Ill300x.alt_reason_alignmentScore  Ill300x.alt_reason_insertSizeScore  \\\n",
       "0                                0.0                                65.0   \n",
       "1                                0.0                                13.0   \n",
       "2                               31.0                               133.0   \n",
       "3                                4.0                                34.0   \n",
       "4                                0.0                                80.0   \n",
       "\n",
       "   Ill300x.alt_reason_orientation  Ill300x.amb_alnScore_mean  \\\n",
       "0                             0.0                 526.250785   \n",
       "1                             0.0                 545.050452   \n",
       "2                             0.0                 518.296740   \n",
       "3                             0.0                 528.007583   \n",
       "4                             0.0                 528.103762   \n",
       "\n",
       "   Ill300x.amb_alnScore_std    ...     TenX.HP2_ref_insertSize_std  \\\n",
       "0                 88.797088    ...                       25.500000   \n",
       "1                 62.371767    ...                      138.336019   \n",
       "2                 91.633718    ...                      181.532366   \n",
       "3                 93.211521    ...                       90.760168   \n",
       "4                 93.192739    ...                      409.833031   \n",
       "\n",
       "   TenX.HP2_ref_reason_alignmentScore  TenX.HP2_ref_reason_orientation  \\\n",
       "0                                 2.0                              0.0   \n",
       "1                                12.0                              0.0   \n",
       "2                                 3.0                              0.0   \n",
       "3                                13.0                              1.0   \n",
       "4                                19.0                              0.0   \n",
       "\n",
       "     size  tandemrep_cnt  tandemrep_pct  segdup_cnt  segdup_pct  refN_cnt  \\\n",
       "0  1651.0            8.0       0.096911         0.0         0.0       0.0   \n",
       "1   176.0            2.0       0.221591         0.0         0.0       0.0   \n",
       "2  1329.0            3.0       0.059443         0.0         0.0       0.0   \n",
       "3   258.0            1.0       0.240310         0.0         0.0       0.0   \n",
       "4   856.0            1.0       0.046729         0.0         0.0       0.0   \n",
       "\n",
       "   refN_pct  \n",
       "0       0.0  \n",
       "1       0.0  \n",
       "2       0.0  \n",
       "3       0.0  \n",
       "4       0.0  \n",
       "\n",
       "[5 rows x 172 columns]"
      ]
     },
     "execution_count": 322,
     "metadata": {},
     "output_type": "execute_result"
    }
   ],
   "source": [
    "X.head()"
   ]
  },
  {
   "cell_type": "markdown",
   "metadata": {},
   "source": [
    "** Standardize Data **"
   ]
  },
  {
   "cell_type": "markdown",
   "metadata": {},
   "source": [
    "** Note **\n",
    "\n",
    "Features only were standardized\n",
    "\n",
    "** For final analysis, data not standardized **"
   ]
  },
  {
   "cell_type": "code",
   "execution_count": 211,
   "metadata": {
    "collapsed": true
   },
   "outputs": [],
   "source": [
    "# scaler=preprocessing.StandardScaler()\n",
    "# X=scaler.fit_transform(X)"
   ]
  },
  {
   "cell_type": "markdown",
   "metadata": {},
   "source": [
    "** Train Random Forest Classifier **"
   ]
  },
  {
   "cell_type": "code",
   "execution_count": 323,
   "metadata": {
    "collapsed": false
   },
   "outputs": [],
   "source": [
    "# Train Test Split\n",
    "# Train on 70% of the data and test on 30%\n",
    "X_train, X_test, y_train, y_test = train_test_split(X, Y, test_size=0.7, random_state=0)"
   ]
  },
  {
   "cell_type": "code",
   "execution_count": 324,
   "metadata": {
    "collapsed": false
   },
   "outputs": [
    {
     "name": "stderr",
     "output_type": "stream",
     "text": [
      "/Users/lmc2/anaconda/envs/NIHFAES/lib/python3.5/site-packages/ipykernel/__main__.py:3: DataConversionWarning:\n",
      "\n",
      "A column-vector y was passed when a 1d array was expected. Please change the shape of y to (n_samples,), for example using ravel().\n",
      "\n"
     ]
    },
    {
     "data": {
      "text/plain": [
       "RandomForestClassifier(bootstrap=True, class_weight=None, criterion='gini',\n",
       "            max_depth=None, max_features='auto', max_leaf_nodes=None,\n",
       "            min_impurity_split=1e-07, min_samples_leaf=1,\n",
       "            min_samples_split=2, min_weight_fraction_leaf=0.0,\n",
       "            n_estimators=10, n_jobs=1, oob_score=False, random_state=None,\n",
       "            verbose=0, warm_start=False)"
      ]
     },
     "execution_count": 324,
     "metadata": {},
     "output_type": "execute_result"
    }
   ],
   "source": [
    "# Train Random Forest Classifier\n",
    "model = RandomForestClassifier() \n",
    "model.fit(X_train, y_train)"
   ]
  },
  {
   "cell_type": "markdown",
   "metadata": {},
   "source": [
    "** Precision Score **\n",
    "- Overall model performance\n",
    "- Using 30% of original dataset (test set)\n",
    "- Truth labels: CrowdVariant labels"
   ]
  },
  {
   "cell_type": "code",
   "execution_count": 325,
   "metadata": {
    "collapsed": false
   },
   "outputs": [
    {
     "data": {
      "text/plain": [
       "array([ 0.,  1.,  1., ...,  0.,  1.,  0.])"
      ]
     },
     "execution_count": 325,
     "metadata": {},
     "output_type": "execute_result"
    }
   ],
   "source": [
    "model.predict(X_test)"
   ]
  },
  {
   "cell_type": "code",
   "execution_count": 326,
   "metadata": {
    "collapsed": true
   },
   "outputs": [],
   "source": [
    "pred = model.predict(X_test)"
   ]
  },
  {
   "cell_type": "code",
   "execution_count": 327,
   "metadata": {
    "collapsed": false
   },
   "outputs": [
    {
     "data": {
      "text/plain": [
       "0.98303487276154566"
      ]
     },
     "execution_count": 327,
     "metadata": {},
     "output_type": "execute_result"
    }
   ],
   "source": [
    "precision_score(y_test, pred, average='micro') "
   ]
  },
  {
   "cell_type": "markdown",
   "metadata": {},
   "source": [
    "** Future Task **\n",
    "\n",
    "Use GridSearch to find the best parameters"
   ]
  },
  {
   "cell_type": "markdown",
   "metadata": {},
   "source": [
    "***\n",
    "Prediction \n",
    "***\n",
    "\n",
    "Used svviz.HG002 data from first 5000 random selection"
   ]
  },
  {
   "cell_type": "markdown",
   "metadata": {},
   "source": [
    "**Data Label Update**\n",
    "\n",
    "Svviz GT Labels and CrowdVar GT Labels do not match\n",
    "\n",
    "Created a new set of labels for the svviz HG002 Deletions Dataframe\n",
    "\n",
    "CrowdVar GT Label Key\n",
    "\n",
    "- 0: Hom. Var.\n",
    "- 1: Het Var\n",
    "- 2: Hom Ref\n",
    "\n",
    "svviz GTcons Labels\n",
    "\n",
    "- 0: Hom Ref\n",
    "- 1: Het Var\n",
    "- 2: Hom Var\n",
    "\n",
    "Changed svviz DF (svviz.Annotate.DEL.HG002_2.csv) to have the following data labels (which match CrowdVar)\n",
    "New Column (GIAB_Crowd)\n",
    "\n",
    "- 0: Hom. Var.\n",
    "- 1: Het Var\n",
    "- 2: Hom Ref\n",
    "\n",
    "**Remove** all rows that have '-1'\n",
    "- including '-1' will throw an error in accuracy and prediction measures\n",
    "- will use these entries as final prediction set"
   ]
  },
  {
   "cell_type": "markdown",
   "metadata": {},
   "source": [
    "Used excel formula to manually change svviz.HG002 labels\n",
    "\n",
    "=IF(GB2=0,2,IF(GB2=2,0,1))"
   ]
  },
  {
   "cell_type": "code",
   "execution_count": 348,
   "metadata": {
    "collapsed": false
   },
   "outputs": [],
   "source": [
    "HG002_pred_2 = pd.read_csv('/Users/lmc2/NIST/Notebooks/CrowdVariant/svviz.Annotate.DEL.HG002_data2.csv')"
   ]
  },
  {
   "cell_type": "code",
   "execution_count": 349,
   "metadata": {
    "collapsed": false
   },
   "outputs": [],
   "source": [
    "HG002_pred = pd.read_csv('/Users/lmc2/NIST/Notebooks/CrowdVariant/svviz.Annotate.DEL.HG002_data2.csv')"
   ]
  },
  {
   "cell_type": "code",
   "execution_count": 350,
   "metadata": {
    "collapsed": false
   },
   "outputs": [
    {
     "data": {
      "text/plain": [
       "(3996, 192)"
      ]
     },
     "execution_count": 350,
     "metadata": {},
     "output_type": "execute_result"
    }
   ],
   "source": [
    "HG002_orig_df = pd.read_csv('/Users/lmc2/NIST/Notebooks/CrowdVariant/svviz.Annotate.DEL.HG002.csv')\n",
    "HG002_orig_df.shape"
   ]
  },
  {
   "cell_type": "code",
   "execution_count": 351,
   "metadata": {
    "collapsed": false
   },
   "outputs": [],
   "source": [
    "### Drop irrelevant columns\n",
    "# Note: Features in the prediction dataframe must match the features in the dataframe (CrowdVar) used to train the RF model\n",
    "HG002_pred.drop(['GTcons'], axis=1, inplace = True)\n",
    "HG002_pred.drop(['GTconflict'], axis=1, inplace = True)\n",
    "HG002_pred.drop(['GTsupp'], axis=1, inplace = True)\n",
    "HG002_pred.drop('SVtype', axis=1)\n",
    "HG002_pred.drop('type',axis=1)\n",
    "HG002_pred.drop(['type'],axis=1, inplace = True)\n",
    "HG002_pred.drop(['SVtype'],axis=1, inplace = True)\n",
    "HG002_pred.drop(['start'],axis=1, inplace = True)\n",
    "HG002_pred.drop(['end'],axis=1, inplace = True)\n",
    "HG002_pred.drop(['chrom'],axis=1, inplace = True)\n",
    "HG002_pred.drop('Size',axis=1)\n",
    "HG002_pred.drop(['TenX.GT'],axis=1, inplace = True)\n",
    "HG002_pred.drop(['pacbio.GT'],axis=1, inplace = True)\n",
    "HG002_pred.drop(['IllMP.GT'],axis=1, inplace = True)\n",
    "HG002_pred.drop(['Ill250.GT'],axis=1, inplace = True)\n",
    "HG002_pred.drop(['Ill300x.GT'],axis=1, inplace = True)\n",
    "HG002_pred.drop(['sample'],axis=1, inplace = True)\n",
    "HG002_pred.drop(['id'],axis=1, inplace = True)\n",
    "# HG002_pred.drop(['GIAB_Crowd'],axis=1, inplace = True)"
   ]
  },
  {
   "cell_type": "code",
   "execution_count": 352,
   "metadata": {
    "collapsed": false
   },
   "outputs": [
    {
     "data": {
      "text/html": [
       "<div>\n",
       "<table border=\"1\" class=\"dataframe\">\n",
       "  <thead>\n",
       "    <tr style=\"text-align: right;\">\n",
       "      <th></th>\n",
       "      <th>Size</th>\n",
       "      <th>Ill300x.alt_alnScore_mean</th>\n",
       "      <th>Ill300x.alt_alnScore_std</th>\n",
       "      <th>Ill300x.alt_count</th>\n",
       "      <th>Ill300x.alt_insertSize_mean</th>\n",
       "      <th>Ill300x.alt_insertSize_std</th>\n",
       "      <th>Ill300x.alt_reason_alignmentScore</th>\n",
       "      <th>Ill300x.alt_reason_insertSizeScore</th>\n",
       "      <th>Ill300x.alt_reason_orientation</th>\n",
       "      <th>Ill300x.amb_alnScore_mean</th>\n",
       "      <th>...</th>\n",
       "      <th>pacbio.ref_insertSize_mean</th>\n",
       "      <th>pacbio.ref_insertSize_std</th>\n",
       "      <th>pacbio.ref_reason_alignmentScore</th>\n",
       "      <th>tandemrep_cnt</th>\n",
       "      <th>tandemrep_pct</th>\n",
       "      <th>segdup_cnt</th>\n",
       "      <th>segdup_pct</th>\n",
       "      <th>refN_cnt</th>\n",
       "      <th>refN_pct</th>\n",
       "      <th>GIAB_Crowd</th>\n",
       "    </tr>\n",
       "  </thead>\n",
       "  <tbody>\n",
       "    <tr>\n",
       "      <th>0</th>\n",
       "      <td>-178</td>\n",
       "      <td>562.0</td>\n",
       "      <td>17.962925</td>\n",
       "      <td>6.0</td>\n",
       "      <td>1044.666667</td>\n",
       "      <td>71.448505</td>\n",
       "      <td>0.0</td>\n",
       "      <td>6.0</td>\n",
       "      <td>0.0</td>\n",
       "      <td>533.576802</td>\n",
       "      <td>...</td>\n",
       "      <td>8139.555556</td>\n",
       "      <td>4575.304996</td>\n",
       "      <td>18.0</td>\n",
       "      <td>0</td>\n",
       "      <td>0.0</td>\n",
       "      <td>1</td>\n",
       "      <td>0.679775</td>\n",
       "      <td>0</td>\n",
       "      <td>0</td>\n",
       "      <td>2</td>\n",
       "    </tr>\n",
       "    <tr>\n",
       "      <th>1</th>\n",
       "      <td>-90</td>\n",
       "      <td>580.0</td>\n",
       "      <td>18.547237</td>\n",
       "      <td>4.0</td>\n",
       "      <td>995.250000</td>\n",
       "      <td>257.372663</td>\n",
       "      <td>1.0</td>\n",
       "      <td>3.0</td>\n",
       "      <td>0.0</td>\n",
       "      <td>545.406928</td>\n",
       "      <td>...</td>\n",
       "      <td>9962.936170</td>\n",
       "      <td>4301.895260</td>\n",
       "      <td>47.0</td>\n",
       "      <td>0</td>\n",
       "      <td>0.0</td>\n",
       "      <td>1</td>\n",
       "      <td>1.000000</td>\n",
       "      <td>0</td>\n",
       "      <td>0</td>\n",
       "      <td>2</td>\n",
       "    </tr>\n",
       "    <tr>\n",
       "      <th>2</th>\n",
       "      <td>-33</td>\n",
       "      <td>0.0</td>\n",
       "      <td>0.000000</td>\n",
       "      <td>0.0</td>\n",
       "      <td>0.000000</td>\n",
       "      <td>0.000000</td>\n",
       "      <td>0.0</td>\n",
       "      <td>0.0</td>\n",
       "      <td>0.0</td>\n",
       "      <td>539.468680</td>\n",
       "      <td>...</td>\n",
       "      <td>11189.146340</td>\n",
       "      <td>4525.451410</td>\n",
       "      <td>41.0</td>\n",
       "      <td>0</td>\n",
       "      <td>0.0</td>\n",
       "      <td>0</td>\n",
       "      <td>0.000000</td>\n",
       "      <td>0</td>\n",
       "      <td>0</td>\n",
       "      <td>2</td>\n",
       "    </tr>\n",
       "    <tr>\n",
       "      <th>3</th>\n",
       "      <td>-145</td>\n",
       "      <td>0.0</td>\n",
       "      <td>0.000000</td>\n",
       "      <td>0.0</td>\n",
       "      <td>0.000000</td>\n",
       "      <td>0.000000</td>\n",
       "      <td>0.0</td>\n",
       "      <td>0.0</td>\n",
       "      <td>0.0</td>\n",
       "      <td>541.033679</td>\n",
       "      <td>...</td>\n",
       "      <td>9694.425532</td>\n",
       "      <td>4306.492796</td>\n",
       "      <td>47.0</td>\n",
       "      <td>0</td>\n",
       "      <td>0.0</td>\n",
       "      <td>0</td>\n",
       "      <td>0.000000</td>\n",
       "      <td>0</td>\n",
       "      <td>0</td>\n",
       "      <td>2</td>\n",
       "    </tr>\n",
       "    <tr>\n",
       "      <th>4</th>\n",
       "      <td>-98</td>\n",
       "      <td>568.0</td>\n",
       "      <td>0.000000</td>\n",
       "      <td>1.0</td>\n",
       "      <td>1093.000000</td>\n",
       "      <td>0.000000</td>\n",
       "      <td>0.0</td>\n",
       "      <td>1.0</td>\n",
       "      <td>0.0</td>\n",
       "      <td>536.675808</td>\n",
       "      <td>...</td>\n",
       "      <td>9724.000000</td>\n",
       "      <td>4161.441384</td>\n",
       "      <td>51.0</td>\n",
       "      <td>0</td>\n",
       "      <td>0.0</td>\n",
       "      <td>0</td>\n",
       "      <td>0.000000</td>\n",
       "      <td>0</td>\n",
       "      <td>0</td>\n",
       "      <td>2</td>\n",
       "    </tr>\n",
       "  </tbody>\n",
       "</table>\n",
       "<p>5 rows × 178 columns</p>\n",
       "</div>"
      ],
      "text/plain": [
       "   Size  Ill300x.alt_alnScore_mean  Ill300x.alt_alnScore_std  \\\n",
       "0  -178                      562.0                 17.962925   \n",
       "1   -90                      580.0                 18.547237   \n",
       "2   -33                        0.0                  0.000000   \n",
       "3  -145                        0.0                  0.000000   \n",
       "4   -98                      568.0                  0.000000   \n",
       "\n",
       "   Ill300x.alt_count  Ill300x.alt_insertSize_mean  Ill300x.alt_insertSize_std  \\\n",
       "0                6.0                  1044.666667                   71.448505   \n",
       "1                4.0                   995.250000                  257.372663   \n",
       "2                0.0                     0.000000                    0.000000   \n",
       "3                0.0                     0.000000                    0.000000   \n",
       "4                1.0                  1093.000000                    0.000000   \n",
       "\n",
       "   Ill300x.alt_reason_alignmentScore  Ill300x.alt_reason_insertSizeScore  \\\n",
       "0                                0.0                                 6.0   \n",
       "1                                1.0                                 3.0   \n",
       "2                                0.0                                 0.0   \n",
       "3                                0.0                                 0.0   \n",
       "4                                0.0                                 1.0   \n",
       "\n",
       "   Ill300x.alt_reason_orientation  Ill300x.amb_alnScore_mean     ...      \\\n",
       "0                             0.0                 533.576802     ...       \n",
       "1                             0.0                 545.406928     ...       \n",
       "2                             0.0                 539.468680     ...       \n",
       "3                             0.0                 541.033679     ...       \n",
       "4                             0.0                 536.675808     ...       \n",
       "\n",
       "   pacbio.ref_insertSize_mean  pacbio.ref_insertSize_std  \\\n",
       "0                 8139.555556                4575.304996   \n",
       "1                 9962.936170                4301.895260   \n",
       "2                11189.146340                4525.451410   \n",
       "3                 9694.425532                4306.492796   \n",
       "4                 9724.000000                4161.441384   \n",
       "\n",
       "   pacbio.ref_reason_alignmentScore  tandemrep_cnt  tandemrep_pct  segdup_cnt  \\\n",
       "0                              18.0              0            0.0           1   \n",
       "1                              47.0              0            0.0           1   \n",
       "2                              41.0              0            0.0           0   \n",
       "3                              47.0              0            0.0           0   \n",
       "4                              51.0              0            0.0           0   \n",
       "\n",
       "   segdup_pct  refN_cnt  refN_pct  GIAB_Crowd  \n",
       "0    0.679775         0         0           2  \n",
       "1    1.000000         0         0           2  \n",
       "2    0.000000         0         0           2  \n",
       "3    0.000000         0         0           2  \n",
       "4    0.000000         0         0           2  \n",
       "\n",
       "[5 rows x 178 columns]"
      ]
     },
     "execution_count": 352,
     "metadata": {},
     "output_type": "execute_result"
    }
   ],
   "source": [
    "HG002_pred.head()"
   ]
  },
  {
   "cell_type": "code",
   "execution_count": 353,
   "metadata": {
    "collapsed": true
   },
   "outputs": [],
   "source": [
    "HG002_pred.to_csv('HG002_pred.csv', index=False)"
   ]
  },
  {
   "cell_type": "code",
   "execution_count": 354,
   "metadata": {
    "collapsed": true
   },
   "outputs": [],
   "source": [
    "X2 = HG002_pred"
   ]
  },
  {
   "cell_type": "markdown",
   "metadata": {},
   "source": [
    "** Impute missing values using KNN **"
   ]
  },
  {
   "cell_type": "code",
   "execution_count": 355,
   "metadata": {
    "collapsed": false
   },
   "outputs": [
    {
     "name": "stdout",
     "output_type": "stream",
     "text": [
      "Imputing row 1/2805 with 1 missing, elapsed time: 8.441\n",
      "Imputing row 101/2805 with 1 missing, elapsed time: 8.463\n",
      "Imputing row 201/2805 with 1 missing, elapsed time: 8.485\n",
      "Imputing row 301/2805 with 1 missing, elapsed time: 8.502\n",
      "Imputing row 401/2805 with 1 missing, elapsed time: 8.515\n",
      "Imputing row 501/2805 with 1 missing, elapsed time: 8.525\n",
      "Imputing row 601/2805 with 2 missing, elapsed time: 8.538\n",
      "Imputing row 701/2805 with 2 missing, elapsed time: 8.554\n",
      "Imputing row 801/2805 with 1 missing, elapsed time: 8.565\n",
      "Imputing row 901/2805 with 1 missing, elapsed time: 8.578\n",
      "Imputing row 1001/2805 with 1 missing, elapsed time: 8.586\n",
      "Imputing row 1101/2805 with 1 missing, elapsed time: 8.597\n",
      "Imputing row 1201/2805 with 1 missing, elapsed time: 8.608\n",
      "Imputing row 1301/2805 with 1 missing, elapsed time: 8.622\n",
      "Imputing row 1401/2805 with 1 missing, elapsed time: 8.635\n",
      "Imputing row 1501/2805 with 1 missing, elapsed time: 8.642\n",
      "Imputing row 1601/2805 with 2 missing, elapsed time: 8.654\n",
      "Imputing row 1701/2805 with 2 missing, elapsed time: 8.667\n",
      "Imputing row 1801/2805 with 1 missing, elapsed time: 8.679\n",
      "Imputing row 1901/2805 with 1 missing, elapsed time: 8.687\n",
      "Imputing row 2001/2805 with 1 missing, elapsed time: 8.696\n",
      "Imputing row 2101/2805 with 1 missing, elapsed time: 8.701\n",
      "Imputing row 2201/2805 with 1 missing, elapsed time: 8.707\n",
      "Imputing row 2301/2805 with 1 missing, elapsed time: 8.729\n",
      "Imputing row 2401/2805 with 1 missing, elapsed time: 8.759\n",
      "Imputing row 2501/2805 with 2 missing, elapsed time: 8.770\n",
      "Imputing row 2601/2805 with 1 missing, elapsed time: 8.789\n",
      "Imputing row 2701/2805 with 1 missing, elapsed time: 8.815\n",
      "Imputing row 2801/2805 with 60 missing, elapsed time: 8.840\n"
     ]
    }
   ],
   "source": [
    "# Convert dataframe to matrix\n",
    "X2=X2.as_matrix()\n",
    "\n",
    "#Imput missing values from three closest observations\n",
    "X2_imputed=KNN(k=3).complete(X2)\n",
    "X2=pd.DataFrame(X2_imputed)"
   ]
  },
  {
   "cell_type": "code",
   "execution_count": 357,
   "metadata": {
    "collapsed": false
   },
   "outputs": [],
   "source": [
    "X2.columns = ['Size','Ill300x.alt_alnScore_mean','Ill300x.alt_alnScore_std','Ill300x.alt_count','Ill300x.alt_insertSize_mean','Ill300x.alt_insertSize_std','Ill300x.alt_reason_alignmentScore','Ill300x.alt_reason_insertSizeScore','Ill300x.alt_reason_orientation','Ill300x.amb_alnScore_mean','Ill300x.amb_alnScore_std','Ill300x.amb_count','Ill300x.amb_insertSize_mean','Ill300x.amb_insertSize_std','Ill300x.amb_reason_alignmentScore_alignmentScore','Ill300x.amb_reason_alignmentScore_orientation','Ill300x.amb_reason_flanking','Ill300x.amb_reason_insertSizeScore_alignmentScore','Ill300x.amb_reason_insertSizeScore_insertSizeScore','Ill300x.amb_reason_insertSizeScore_orientation','Ill300x.amb_reason_multimapping','Ill300x.amb_reason_orientation_alignmentScore','Ill300x.amb_reason_orientation_orientation','Ill300x.amb_reason_same_scores','Ill300x.ref_alnScore_mean','Ill300x.ref_alnScore_std','Ill300x.ref_count','Ill300x.ref_insertSize_mean','Ill300x.ref_insertSize_std','Ill300x.ref_reason_alignmentScore','Ill300x.ref_reason_insertSizeScore','Ill300x.ref_reason_orientation','Ill250.alt_alnScore_mean','Ill250.alt_alnScore_std','Ill250.alt_count','Ill250.alt_insertSize_mean','Ill250.alt_insertSize_std','Ill250.alt_reason_alignmentScore','Ill250.alt_reason_insertSizeScore','Ill250.alt_reason_orientation','Ill250.amb_alnScore_mean','Ill250.amb_alnScore_std','Ill250.amb_count','Ill250.amb_insertSize_mean','Ill250.amb_insertSize_std','Ill250.amb_reason_alignmentScore_alignmentScore','Ill250.amb_reason_alignmentScore_orientation','Ill250.amb_reason_flanking','Ill250.amb_reason_insertSizeScore_alignmentScore','Ill250.amb_reason_multimapping','Ill250.amb_reason_orientation_alignmentScore','Ill250.amb_reason_orientation_orientation','Ill250.amb_reason_same_scores','Ill250.ref_alnScore_mean','Ill250.ref_alnScore_std','Ill250.ref_count','Ill250.ref_insertSize_mean','Ill250.ref_insertSize_std','Ill250.ref_reason_alignmentScore','Ill250.ref_reason_orientation','IllMP.alt_alnScore_mean','IllMP.alt_alnScore_std','IllMP.alt_count','IllMP.alt_insertSize_mean','IllMP.alt_insertSize_std','IllMP.alt_reason_alignmentScore','IllMP.alt_reason_insertSizeScore','IllMP.alt_reason_orientation','IllMP.amb_alnScore_mean','IllMP.amb_alnScore_std','IllMP.amb_count','IllMP.amb_insertSize_mean','IllMP.amb_insertSize_std','IllMP.amb_reason_alignmentScore_alignmentScore','IllMP.amb_reason_alignmentScore_orientation','IllMP.amb_reason_flanking','IllMP.amb_reason_insertSizeScore_alignmentScore','IllMP.amb_reason_insertSizeScore_insertSizeScore','IllMP.amb_reason_multimapping','IllMP.amb_reason_orientation_alignmentScore','IllMP.amb_reason_orientation_orientation','IllMP.amb_reason_same_scores','IllMP.ref_alnScore_mean','IllMP.ref_alnScore_std','IllMP.ref_count','IllMP.ref_insertSize_mean','IllMP.ref_insertSize_std','IllMP.ref_reason_alignmentScore','IllMP.ref_reason_insertSizeScore','IllMP.ref_reason_orientation','TenX.HP1_alt_alnScore_mean','TenX.HP1_alt_alnScore_std','TenX.HP1_alt_count','TenX.HP1_alt_insertSize_mean','TenX.HP1_alt_insertSize_std','TenX.HP1_alt_reason_alignmentScore','TenX.HP1_alt_reason_insertSizeScore','TenX.HP1_alt_reason_orientation','TenX.HP1_amb_alnScore_mean','TenX.HP1_amb_alnScore_std','TenX.HP1_amb_count','TenX.HP1_amb_insertSize_mean','TenX.HP1_amb_insertSize_std','TenX.HP1_amb_reason_alignmentScore_alignmentScore','TenX.HP1_amb_reason_alignmentScore_orientation','TenX.HP1_amb_reason_flanking','TenX.HP1_amb_reason_insertSizeScore_alignmentScore','TenX.HP1_amb_reason_insertSizeScore_insertSizeScore','TenX.HP1_amb_reason_multimapping','TenX.HP1_amb_reason_orientation_alignmentScore','TenX.HP1_amb_reason_orientation_orientation','TenX.HP1_amb_reason_same_scores','TenX.HP1_ref_alnScore_mean','TenX.HP1_ref_alnScore_std','TenX.HP1_ref_count','TenX.HP1_ref_insertSize_mean','TenX.HP1_ref_insertSize_std','TenX.HP1_ref_reason_alignmentScore','TenX.HP1_ref_reason_insertSizeScore','TenX.HP1_ref_reason_orientation','TenX.HP2_alt_alnScore_mean','TenX.HP2_alt_alnScore_std','TenX.HP2_alt_count','TenX.HP2_alt_insertSize_mean','TenX.HP2_alt_insertSize_std','TenX.HP2_alt_reason_alignmentScore','TenX.HP2_alt_reason_insertSizeScore','TenX.HP2_alt_reason_orientation','TenX.HP2_amb_alnScore_mean','TenX.HP2_amb_alnScore_std','TenX.HP2_amb_count','TenX.HP2_amb_insertSize_mean','TenX.HP2_amb_insertSize_std','TenX.HP2_amb_reason_alignmentScore_alignmentScore','TenX.HP2_amb_reason_alignmentScore_orientation','TenX.HP2_amb_reason_flanking','TenX.HP2_amb_reason_insertSizeScore_alignmentScore','TenX.HP2_amb_reason_insertSizeScore_insertSizeScore','TenX.HP2_amb_reason_multimapping','TenX.HP2_amb_reason_orientation_alignmentScore','TenX.HP2_amb_reason_orientation_insertSizeScore','TenX.HP2_amb_reason_orientation_orientation','TenX.HP2_amb_reason_same_scores','TenX.HP2_ref_alnScore_mean','TenX.HP2_ref_alnScore_std','TenX.HP2_ref_count','TenX.HP2_ref_insertSize_mean','TenX.HP2_ref_insertSize_std','TenX.HP2_ref_reason_alignmentScore','TenX.HP2_ref_reason_orientation','pacbio.alt_alnScore_mean','pacbio.alt_alnScore_std','pacbio.alt_count','pacbio.alt_insertSize_mean','pacbio.alt_insertSize_std','pacbio.alt_reason_alignmentScore','pacbio.amb_alnScore_mean','pacbio.amb_alnScore_std','pacbio.amb_count','pacbio.amb_insertSize_mean','pacbio.amb_insertSize_std','pacbio.amb_reason_alignmentScore_alignmentScore','pacbio.amb_reason_flanking','pacbio.amb_reason_multimapping','pacbio.amb_reason_same_scores','pacbio.ref_alnScore_mean','pacbio.ref_alnScore_std','pacbio.ref_count','pacbio.ref_insertSize_mean','pacbio.ref_insertSize_std','pacbio.ref_reason_alignmentScore','tandemrep_cnt','tandemrep_pct','segdup_cnt','segdup_pct','refN_cnt','refN_pct', 'GIAB_Crowd']"
   ]
  },
  {
   "cell_type": "code",
   "execution_count": 358,
   "metadata": {
    "collapsed": true
   },
   "outputs": [],
   "source": [
    "# Select all columns except for labels\n",
    "X2=X2[['Size','Ill300x.alt_alnScore_mean','Ill300x.alt_alnScore_std','Ill300x.alt_count','Ill300x.alt_insertSize_mean','Ill300x.alt_insertSize_std','Ill300x.alt_reason_alignmentScore','Ill300x.alt_reason_insertSizeScore','Ill300x.alt_reason_orientation','Ill300x.amb_alnScore_mean','Ill300x.amb_alnScore_std','Ill300x.amb_count','Ill300x.amb_insertSize_mean','Ill300x.amb_insertSize_std','Ill300x.amb_reason_alignmentScore_alignmentScore','Ill300x.amb_reason_alignmentScore_orientation','Ill300x.amb_reason_flanking','Ill300x.amb_reason_insertSizeScore_alignmentScore','Ill300x.amb_reason_insertSizeScore_insertSizeScore','Ill300x.amb_reason_insertSizeScore_orientation','Ill300x.amb_reason_multimapping','Ill300x.amb_reason_orientation_alignmentScore','Ill300x.amb_reason_orientation_orientation','Ill300x.amb_reason_same_scores','Ill300x.ref_alnScore_mean','Ill300x.ref_alnScore_std','Ill300x.ref_count','Ill300x.ref_insertSize_mean','Ill300x.ref_insertSize_std','Ill300x.ref_reason_alignmentScore','Ill300x.ref_reason_insertSizeScore','Ill300x.ref_reason_orientation','Ill250.alt_alnScore_mean','Ill250.alt_alnScore_std','Ill250.alt_count','Ill250.alt_insertSize_mean','Ill250.alt_insertSize_std','Ill250.alt_reason_alignmentScore','Ill250.alt_reason_insertSizeScore','Ill250.alt_reason_orientation','Ill250.amb_alnScore_mean','Ill250.amb_alnScore_std','Ill250.amb_count','Ill250.amb_insertSize_mean','Ill250.amb_insertSize_std','Ill250.amb_reason_alignmentScore_alignmentScore','Ill250.amb_reason_alignmentScore_orientation','Ill250.amb_reason_flanking','Ill250.amb_reason_insertSizeScore_alignmentScore','Ill250.amb_reason_multimapping','Ill250.amb_reason_orientation_alignmentScore','Ill250.amb_reason_orientation_orientation','Ill250.amb_reason_same_scores','Ill250.ref_alnScore_mean','Ill250.ref_alnScore_std','Ill250.ref_count','Ill250.ref_insertSize_mean','Ill250.ref_insertSize_std','Ill250.ref_reason_alignmentScore','Ill250.ref_reason_orientation','IllMP.alt_alnScore_mean','IllMP.alt_alnScore_std','IllMP.alt_count','IllMP.alt_insertSize_mean','IllMP.alt_insertSize_std','IllMP.alt_reason_alignmentScore','IllMP.alt_reason_insertSizeScore','IllMP.alt_reason_orientation','IllMP.amb_alnScore_mean','IllMP.amb_alnScore_std','IllMP.amb_count','IllMP.amb_insertSize_mean','IllMP.amb_insertSize_std','IllMP.amb_reason_alignmentScore_alignmentScore','IllMP.amb_reason_alignmentScore_orientation','IllMP.amb_reason_flanking','IllMP.amb_reason_insertSizeScore_alignmentScore','IllMP.amb_reason_insertSizeScore_insertSizeScore','IllMP.amb_reason_multimapping','IllMP.amb_reason_orientation_alignmentScore','IllMP.amb_reason_orientation_orientation','IllMP.amb_reason_same_scores','IllMP.ref_alnScore_mean','IllMP.ref_alnScore_std','IllMP.ref_count','IllMP.ref_insertSize_mean','IllMP.ref_insertSize_std','IllMP.ref_reason_alignmentScore','IllMP.ref_reason_insertSizeScore','IllMP.ref_reason_orientation','TenX.HP1_alt_alnScore_mean','TenX.HP1_alt_alnScore_std','TenX.HP1_alt_count','TenX.HP1_alt_insertSize_mean','TenX.HP1_alt_insertSize_std','TenX.HP1_alt_reason_alignmentScore','TenX.HP1_alt_reason_insertSizeScore','TenX.HP1_alt_reason_orientation','TenX.HP1_amb_alnScore_mean','TenX.HP1_amb_alnScore_std','TenX.HP1_amb_count','TenX.HP1_amb_insertSize_mean','TenX.HP1_amb_insertSize_std','TenX.HP1_amb_reason_alignmentScore_alignmentScore','TenX.HP1_amb_reason_alignmentScore_orientation','TenX.HP1_amb_reason_flanking','TenX.HP1_amb_reason_insertSizeScore_alignmentScore','TenX.HP1_amb_reason_insertSizeScore_insertSizeScore','TenX.HP1_amb_reason_multimapping','TenX.HP1_amb_reason_orientation_alignmentScore','TenX.HP1_amb_reason_orientation_orientation','TenX.HP1_amb_reason_same_scores','TenX.HP1_ref_alnScore_mean','TenX.HP1_ref_alnScore_std','TenX.HP1_ref_count','TenX.HP1_ref_insertSize_mean','TenX.HP1_ref_insertSize_std','TenX.HP1_ref_reason_alignmentScore','TenX.HP1_ref_reason_insertSizeScore','TenX.HP1_ref_reason_orientation','TenX.HP2_alt_alnScore_mean','TenX.HP2_alt_alnScore_std','TenX.HP2_alt_count','TenX.HP2_alt_insertSize_mean','TenX.HP2_alt_insertSize_std','TenX.HP2_alt_reason_alignmentScore','TenX.HP2_alt_reason_insertSizeScore','TenX.HP2_alt_reason_orientation','TenX.HP2_amb_alnScore_mean','TenX.HP2_amb_alnScore_std','TenX.HP2_amb_count','TenX.HP2_amb_insertSize_mean','TenX.HP2_amb_insertSize_std','TenX.HP2_amb_reason_alignmentScore_alignmentScore','TenX.HP2_amb_reason_alignmentScore_orientation','TenX.HP2_amb_reason_flanking','TenX.HP2_amb_reason_insertSizeScore_alignmentScore','TenX.HP2_amb_reason_insertSizeScore_insertSizeScore','TenX.HP2_amb_reason_multimapping','TenX.HP2_amb_reason_orientation_alignmentScore','TenX.HP2_amb_reason_orientation_insertSizeScore','TenX.HP2_amb_reason_orientation_orientation','TenX.HP2_amb_reason_same_scores','TenX.HP2_ref_alnScore_mean','TenX.HP2_ref_alnScore_std','TenX.HP2_ref_count','TenX.HP2_ref_insertSize_mean','TenX.HP2_ref_insertSize_std','TenX.HP2_ref_reason_alignmentScore','TenX.HP2_ref_reason_orientation','pacbio.alt_alnScore_mean','pacbio.alt_alnScore_std','pacbio.alt_count','pacbio.alt_insertSize_mean','pacbio.alt_insertSize_std','pacbio.alt_reason_alignmentScore','pacbio.amb_alnScore_mean','pacbio.amb_alnScore_std','pacbio.amb_count','pacbio.amb_insertSize_mean','pacbio.amb_insertSize_std','pacbio.amb_reason_alignmentScore_alignmentScore','pacbio.amb_reason_flanking','pacbio.amb_reason_multimapping','pacbio.amb_reason_same_scores','pacbio.ref_alnScore_mean','pacbio.ref_alnScore_std','pacbio.ref_count','pacbio.ref_insertSize_mean','pacbio.ref_insertSize_std','pacbio.ref_reason_alignmentScore','tandemrep_cnt','tandemrep_pct','segdup_cnt','segdup_pct','refN_cnt','refN_pct']]"
   ]
  },
  {
   "cell_type": "code",
   "execution_count": 359,
   "metadata": {
    "collapsed": true
   },
   "outputs": [],
   "source": [
    "X2.to_csv('X2.csv', index=False)"
   ]
  },
  {
   "cell_type": "markdown",
   "metadata": {},
   "source": [
    "** Standardize Data **"
   ]
  },
  {
   "cell_type": "code",
   "execution_count": 134,
   "metadata": {
    "collapsed": true
   },
   "outputs": [],
   "source": [
    "# Use trained RF model to predict labels"
   ]
  },
  {
   "cell_type": "code",
   "execution_count": 229,
   "metadata": {
    "collapsed": true
   },
   "outputs": [],
   "source": [
    "# scaler=preprocessing.StandardScaler()\n",
    "# X=scaler.fit_transform(X2)"
   ]
  },
  {
   "cell_type": "markdown",
   "metadata": {},
   "source": [
    "** Note **\n",
    "\n",
    "With scaled data, the precision score drops to:\n",
    "    0.43208556149732619"
   ]
  },
  {
   "cell_type": "code",
   "execution_count": 360,
   "metadata": {
    "collapsed": false
   },
   "outputs": [
    {
     "ename": "ValueError",
     "evalue": "Number of features of the model must match the input. Model n_features is 172 and input n_features is 177 ",
     "output_type": "error",
     "traceback": [
      "\u001b[0;31m---------------------------------------------------------------------------\u001b[0m",
      "\u001b[0;31mValueError\u001b[0m                                Traceback (most recent call last)",
      "\u001b[0;32m<ipython-input-360-abbb4b54878a>\u001b[0m in \u001b[0;36m<module>\u001b[0;34m()\u001b[0m\n\u001b[0;32m----> 1\u001b[0;31m \u001b[0mmodel\u001b[0m\u001b[0;34m.\u001b[0m\u001b[0mpredict\u001b[0m\u001b[0;34m(\u001b[0m\u001b[0mX2\u001b[0m\u001b[0;34m)\u001b[0m\u001b[0;34m\u001b[0m\u001b[0m\n\u001b[0m",
      "\u001b[0;32m/Users/lmc2/anaconda/envs/NIHFAES/lib/python3.5/site-packages/sklearn/ensemble/forest.py\u001b[0m in \u001b[0;36mpredict\u001b[0;34m(self, X)\u001b[0m\n\u001b[1;32m    532\u001b[0m             \u001b[0mThe\u001b[0m \u001b[0mpredicted\u001b[0m \u001b[0mclasses\u001b[0m\u001b[0;34m.\u001b[0m\u001b[0;34m\u001b[0m\u001b[0m\n\u001b[1;32m    533\u001b[0m         \"\"\"\n\u001b[0;32m--> 534\u001b[0;31m         \u001b[0mproba\u001b[0m \u001b[0;34m=\u001b[0m \u001b[0mself\u001b[0m\u001b[0;34m.\u001b[0m\u001b[0mpredict_proba\u001b[0m\u001b[0;34m(\u001b[0m\u001b[0mX\u001b[0m\u001b[0;34m)\u001b[0m\u001b[0;34m\u001b[0m\u001b[0m\n\u001b[0m\u001b[1;32m    535\u001b[0m \u001b[0;34m\u001b[0m\u001b[0m\n\u001b[1;32m    536\u001b[0m         \u001b[0;32mif\u001b[0m \u001b[0mself\u001b[0m\u001b[0;34m.\u001b[0m\u001b[0mn_outputs_\u001b[0m \u001b[0;34m==\u001b[0m \u001b[0;36m1\u001b[0m\u001b[0;34m:\u001b[0m\u001b[0;34m\u001b[0m\u001b[0m\n",
      "\u001b[0;32m/Users/lmc2/anaconda/envs/NIHFAES/lib/python3.5/site-packages/sklearn/ensemble/forest.py\u001b[0m in \u001b[0;36mpredict_proba\u001b[0;34m(self, X)\u001b[0m\n\u001b[1;32m    571\u001b[0m         \"\"\"\n\u001b[1;32m    572\u001b[0m         \u001b[0;31m# Check data\u001b[0m\u001b[0;34m\u001b[0m\u001b[0;34m\u001b[0m\u001b[0m\n\u001b[0;32m--> 573\u001b[0;31m         \u001b[0mX\u001b[0m \u001b[0;34m=\u001b[0m \u001b[0mself\u001b[0m\u001b[0;34m.\u001b[0m\u001b[0m_validate_X_predict\u001b[0m\u001b[0;34m(\u001b[0m\u001b[0mX\u001b[0m\u001b[0;34m)\u001b[0m\u001b[0;34m\u001b[0m\u001b[0m\n\u001b[0m\u001b[1;32m    574\u001b[0m \u001b[0;34m\u001b[0m\u001b[0m\n\u001b[1;32m    575\u001b[0m         \u001b[0;31m# Assign chunk of trees to jobs\u001b[0m\u001b[0;34m\u001b[0m\u001b[0;34m\u001b[0m\u001b[0m\n",
      "\u001b[0;32m/Users/lmc2/anaconda/envs/NIHFAES/lib/python3.5/site-packages/sklearn/ensemble/forest.py\u001b[0m in \u001b[0;36m_validate_X_predict\u001b[0;34m(self, X)\u001b[0m\n\u001b[1;32m    353\u001b[0m                                  \"call `fit` before exploiting the model.\")\n\u001b[1;32m    354\u001b[0m \u001b[0;34m\u001b[0m\u001b[0m\n\u001b[0;32m--> 355\u001b[0;31m         \u001b[0;32mreturn\u001b[0m \u001b[0mself\u001b[0m\u001b[0;34m.\u001b[0m\u001b[0mestimators_\u001b[0m\u001b[0;34m[\u001b[0m\u001b[0;36m0\u001b[0m\u001b[0;34m]\u001b[0m\u001b[0;34m.\u001b[0m\u001b[0m_validate_X_predict\u001b[0m\u001b[0;34m(\u001b[0m\u001b[0mX\u001b[0m\u001b[0;34m,\u001b[0m \u001b[0mcheck_input\u001b[0m\u001b[0;34m=\u001b[0m\u001b[0;32mTrue\u001b[0m\u001b[0;34m)\u001b[0m\u001b[0;34m\u001b[0m\u001b[0m\n\u001b[0m\u001b[1;32m    356\u001b[0m \u001b[0;34m\u001b[0m\u001b[0m\n\u001b[1;32m    357\u001b[0m     \u001b[0;34m@\u001b[0m\u001b[0mproperty\u001b[0m\u001b[0;34m\u001b[0m\u001b[0m\n",
      "\u001b[0;32m/Users/lmc2/anaconda/envs/NIHFAES/lib/python3.5/site-packages/sklearn/tree/tree.py\u001b[0m in \u001b[0;36m_validate_X_predict\u001b[0;34m(self, X, check_input)\u001b[0m\n\u001b[1;32m    374\u001b[0m                              \u001b[0;34m\"match the input. Model n_features is %s and \"\u001b[0m\u001b[0;34m\u001b[0m\u001b[0m\n\u001b[1;32m    375\u001b[0m                              \u001b[0;34m\"input n_features is %s \"\u001b[0m\u001b[0;34m\u001b[0m\u001b[0m\n\u001b[0;32m--> 376\u001b[0;31m                              % (self.n_features_, n_features))\n\u001b[0m\u001b[1;32m    377\u001b[0m \u001b[0;34m\u001b[0m\u001b[0m\n\u001b[1;32m    378\u001b[0m         \u001b[0;32mreturn\u001b[0m \u001b[0mX\u001b[0m\u001b[0;34m\u001b[0m\u001b[0m\n",
      "\u001b[0;31mValueError\u001b[0m: Number of features of the model must match the input. Model n_features is 172 and input n_features is 177 "
     ]
    }
   ],
   "source": [
    "model.predict(X2)"
   ]
  },
  {
   "cell_type": "code",
   "execution_count": 272,
   "metadata": {
    "collapsed": false
   },
   "outputs": [],
   "source": [
    "X2['model_pred_label'] = model.predict(X2)"
   ]
  },
  {
   "cell_type": "code",
   "execution_count": 273,
   "metadata": {
    "collapsed": false
   },
   "outputs": [],
   "source": [
    "X2['GIAB_Crowd'] = HG002_pred_2['GIAB_Crowd']"
   ]
  },
  {
   "cell_type": "code",
   "execution_count": 274,
   "metadata": {
    "collapsed": false
   },
   "outputs": [
    {
     "data": {
      "text/plain": [
       "(2805, 166)"
      ]
     },
     "execution_count": 274,
     "metadata": {},
     "output_type": "execute_result"
    }
   ],
   "source": [
    "X2.shape"
   ]
  },
  {
   "cell_type": "markdown",
   "metadata": {},
   "source": [
    "** Precision Score **\n",
    "\n",
    "Data: 5000 randomly selected datapoints (Round 1) svviz GT vs. model selected GT from trained RF model\n",
    "\n",
    "The ratio of tp /(tp +fn)\n",
    "\n",
    "Intuitively the ability of a model to avoid labeling negative events as positive events\n",
    "\n",
    "http://scikit-learn.org/stable/modules/generated/sklearn.metrics.precision_score.html"
   ]
  },
  {
   "cell_type": "markdown",
   "metadata": {},
   "source": [
    "** Note**: \n",
    "\n",
    "'GIAB_Crowd' are the svviz GT labels displayed in the same order as CrowdVar labels"
   ]
  },
  {
   "cell_type": "code",
   "execution_count": 275,
   "metadata": {
    "collapsed": false
   },
   "outputs": [],
   "source": [
    "# Compare predicted model labels to conensus GT output by preliminary svviz analysis (R Script)\n",
    "test = X2['model_pred_label']\n",
    "true = X2['GIAB_Crowd']"
   ]
  },
  {
   "cell_type": "code",
   "execution_count": 276,
   "metadata": {
    "collapsed": false
   },
   "outputs": [
    {
     "data": {
      "text/plain": [
       "0.74937611408199645"
      ]
     },
     "execution_count": 276,
     "metadata": {},
     "output_type": "execute_result"
    }
   ],
   "source": [
    "precision_score(true, test, average='micro') "
   ]
  },
  {
   "cell_type": "code",
   "execution_count": 236,
   "metadata": {
    "collapsed": true
   },
   "outputs": [],
   "source": [
    "# Plot that diplays count of predicted labels vs actual labels"
   ]
  },
  {
   "cell_type": "code",
   "execution_count": 237,
   "metadata": {
    "collapsed": false
   },
   "outputs": [
    {
     "data": {
      "text/html": [
       "\n",
       "    <div class=\"bk-root\">\n",
       "        <a href=\"http://bokeh.pydata.org\" target=\"_blank\" class=\"bk-logo bk-logo-small bk-logo-notebook\"></a>\n",
       "        <span id=\"a540fcbd-b52a-4b08-b95d-b1cf3aa98a30\">Loading BokehJS ...</span>\n",
       "    </div>"
      ]
     },
     "metadata": {},
     "output_type": "display_data"
    },
    {
     "data": {
      "application/javascript": [
       "\n",
       "(function(global) {\n",
       "  function now() {\n",
       "    return new Date();\n",
       "  }\n",
       "\n",
       "  var force = true;\n",
       "\n",
       "  if (typeof (window._bokeh_onload_callbacks) === \"undefined\" || force === true) {\n",
       "    window._bokeh_onload_callbacks = [];\n",
       "    window._bokeh_is_loading = undefined;\n",
       "  }\n",
       "\n",
       "\n",
       "  \n",
       "  if (typeof (window._bokeh_timeout) === \"undefined\" || force === true) {\n",
       "    window._bokeh_timeout = Date.now() + 5000;\n",
       "    window._bokeh_failed_load = false;\n",
       "  }\n",
       "\n",
       "  var NB_LOAD_WARNING = {'data': {'text/html':\n",
       "     \"<div style='background-color: #fdd'>\\n\"+\n",
       "     \"<p>\\n\"+\n",
       "     \"BokehJS does not appear to have successfully loaded. If loading BokehJS from CDN, this \\n\"+\n",
       "     \"may be due to a slow or bad network connection. Possible fixes:\\n\"+\n",
       "     \"</p>\\n\"+\n",
       "     \"<ul>\\n\"+\n",
       "     \"<li>re-rerun `output_notebook()` to attempt to load from CDN again, or</li>\\n\"+\n",
       "     \"<li>use INLINE resources instead, as so:</li>\\n\"+\n",
       "     \"</ul>\\n\"+\n",
       "     \"<code>\\n\"+\n",
       "     \"from bokeh.resources import INLINE\\n\"+\n",
       "     \"output_notebook(resources=INLINE)\\n\"+\n",
       "     \"</code>\\n\"+\n",
       "     \"</div>\"}};\n",
       "\n",
       "  function display_loaded() {\n",
       "    if (window.Bokeh !== undefined) {\n",
       "      document.getElementById(\"a540fcbd-b52a-4b08-b95d-b1cf3aa98a30\").textContent = \"BokehJS successfully loaded.\";\n",
       "    } else if (Date.now() < window._bokeh_timeout) {\n",
       "      setTimeout(display_loaded, 100)\n",
       "    }\n",
       "  }\n",
       "\n",
       "  function run_callbacks() {\n",
       "    window._bokeh_onload_callbacks.forEach(function(callback) { callback() });\n",
       "    delete window._bokeh_onload_callbacks\n",
       "    console.info(\"Bokeh: all callbacks have finished\");\n",
       "  }\n",
       "\n",
       "  function load_libs(js_urls, callback) {\n",
       "    window._bokeh_onload_callbacks.push(callback);\n",
       "    if (window._bokeh_is_loading > 0) {\n",
       "      console.log(\"Bokeh: BokehJS is being loaded, scheduling callback at\", now());\n",
       "      return null;\n",
       "    }\n",
       "    if (js_urls == null || js_urls.length === 0) {\n",
       "      run_callbacks();\n",
       "      return null;\n",
       "    }\n",
       "    console.log(\"Bokeh: BokehJS not loaded, scheduling load and callback at\", now());\n",
       "    window._bokeh_is_loading = js_urls.length;\n",
       "    for (var i = 0; i < js_urls.length; i++) {\n",
       "      var url = js_urls[i];\n",
       "      var s = document.createElement('script');\n",
       "      s.src = url;\n",
       "      s.async = false;\n",
       "      s.onreadystatechange = s.onload = function() {\n",
       "        window._bokeh_is_loading--;\n",
       "        if (window._bokeh_is_loading === 0) {\n",
       "          console.log(\"Bokeh: all BokehJS libraries loaded\");\n",
       "          run_callbacks()\n",
       "        }\n",
       "      };\n",
       "      s.onerror = function() {\n",
       "        console.warn(\"failed to load library \" + url);\n",
       "      };\n",
       "      console.log(\"Bokeh: injecting script tag for BokehJS library: \", url);\n",
       "      document.getElementsByTagName(\"head\")[0].appendChild(s);\n",
       "    }\n",
       "  };var element = document.getElementById(\"a540fcbd-b52a-4b08-b95d-b1cf3aa98a30\");\n",
       "  if (element == null) {\n",
       "    console.log(\"Bokeh: ERROR: autoload.js configured with elementid 'a540fcbd-b52a-4b08-b95d-b1cf3aa98a30' but no matching script tag was found. \")\n",
       "    return false;\n",
       "  }\n",
       "\n",
       "  var js_urls = [\"https://cdn.pydata.org/bokeh/release/bokeh-0.12.4.min.js\", \"https://cdn.pydata.org/bokeh/release/bokeh-widgets-0.12.4.min.js\"];\n",
       "\n",
       "  var inline_js = [\n",
       "    function(Bokeh) {\n",
       "      Bokeh.set_log_level(\"info\");\n",
       "    },\n",
       "    \n",
       "    function(Bokeh) {\n",
       "      \n",
       "      document.getElementById(\"a540fcbd-b52a-4b08-b95d-b1cf3aa98a30\").textContent = \"BokehJS is loading...\";\n",
       "    },\n",
       "    function(Bokeh) {\n",
       "      console.log(\"Bokeh: injecting CSS: https://cdn.pydata.org/bokeh/release/bokeh-0.12.4.min.css\");\n",
       "      Bokeh.embed.inject_css(\"https://cdn.pydata.org/bokeh/release/bokeh-0.12.4.min.css\");\n",
       "      console.log(\"Bokeh: injecting CSS: https://cdn.pydata.org/bokeh/release/bokeh-widgets-0.12.4.min.css\");\n",
       "      Bokeh.embed.inject_css(\"https://cdn.pydata.org/bokeh/release/bokeh-widgets-0.12.4.min.css\");\n",
       "    }\n",
       "  ];\n",
       "\n",
       "  function run_inline_js() {\n",
       "    \n",
       "    if ((window.Bokeh !== undefined) || (force === true)) {\n",
       "      for (var i = 0; i < inline_js.length; i++) {\n",
       "        inline_js[i](window.Bokeh);\n",
       "      }if (force === true) {\n",
       "        display_loaded();\n",
       "      }} else if (Date.now() < window._bokeh_timeout) {\n",
       "      setTimeout(run_inline_js, 100);\n",
       "    } else if (!window._bokeh_failed_load) {\n",
       "      console.log(\"Bokeh: BokehJS failed to load within specified timeout.\");\n",
       "      window._bokeh_failed_load = true;\n",
       "    } else if (force !== true) {\n",
       "      var cell = $(document.getElementById(\"a540fcbd-b52a-4b08-b95d-b1cf3aa98a30\")).parents('.cell').data().cell;\n",
       "      cell.output_area.append_execute_result(NB_LOAD_WARNING)\n",
       "    }\n",
       "\n",
       "  }\n",
       "\n",
       "  if (window._bokeh_is_loading === 0) {\n",
       "    console.log(\"Bokeh: BokehJS loaded, going straight to plotting\");\n",
       "    run_inline_js();\n",
       "  } else {\n",
       "    load_libs(js_urls, function() {\n",
       "      console.log(\"Bokeh: BokehJS plotting callback run at\", now());\n",
       "      run_inline_js();\n",
       "    });\n",
       "  }\n",
       "}(this));"
      ]
     },
     "metadata": {},
     "output_type": "display_data"
    }
   ],
   "source": [
    "output_notebook()"
   ]
  },
  {
   "cell_type": "code",
   "execution_count": 238,
   "metadata": {
    "collapsed": false
   },
   "outputs": [
    {
     "data": {
      "text/plain": [
       "1.0    1512\n",
       "0.0    1292\n",
       "2.0       1\n",
       "dtype: int64"
      ]
     },
     "execution_count": 238,
     "metadata": {},
     "output_type": "execute_result"
    }
   ],
   "source": [
    "pd.value_counts(X2['model_pred_label'].values, sort=False)"
   ]
  },
  {
   "cell_type": "code",
   "execution_count": 143,
   "metadata": {
    "collapsed": false
   },
   "outputs": [
    {
     "data": {
      "text/plain": [
       "0     597\n",
       "2     473\n",
       "1    1735\n",
       "dtype: int64"
      ]
     },
     "execution_count": 143,
     "metadata": {},
     "output_type": "execute_result"
    }
   ],
   "source": [
    "pd.value_counts(X2['GIAB_Crowd'].values, sort=False)"
   ]
  },
  {
   "cell_type": "code",
   "execution_count": 334,
   "metadata": {
    "collapsed": true
   },
   "outputs": [],
   "source": [
    "# X3_df = pd.DataFrame({'count' : X2.groupby(['model_pred_label', 'GIAB_Crowd']).size()}).reset_index()"
   ]
  },
  {
   "cell_type": "code",
   "execution_count": 144,
   "metadata": {
    "collapsed": true
   },
   "outputs": [],
   "source": [
    "# Correct Label Count\n",
    "# Do df.count --> copy into excel file and save in a new csv --> get correct GT count\n",
    "# The '2' Labels are missing\n",
    "label_ct = pd.read_csv('/Users/lmc2/NIST/Notebooks/CrowdVariant/label_count_2.csv')"
   ]
  },
  {
   "cell_type": "code",
   "execution_count": 145,
   "metadata": {
    "collapsed": false
   },
   "outputs": [
    {
     "name": "stderr",
     "output_type": "stream",
     "text": [
      "/Users/lmc2/anaconda/envs/NIHFAES/lib/python3.5/site-packages/bokeh/util/deprecation.py:34: BokehDeprecationWarning:\n",
      "\n",
      "legend_spacing was deprecated in Bokeh 0.12.3 and will be removed, use Legend.spacing instead.\n",
      "\n"
     ]
    },
    {
     "data": {
      "text/html": [
       "\n",
       "\n",
       "    <div class=\"bk-root\">\n",
       "        <div class=\"bk-plotdiv\" id=\"020b78e1-b1fb-4449-b509-609fce3598e1\"></div>\n",
       "    </div>\n",
       "<script type=\"text/javascript\">\n",
       "  \n",
       "  (function(global) {\n",
       "    function now() {\n",
       "      return new Date();\n",
       "    }\n",
       "  \n",
       "    var force = false;\n",
       "  \n",
       "    if (typeof (window._bokeh_onload_callbacks) === \"undefined\" || force === true) {\n",
       "      window._bokeh_onload_callbacks = [];\n",
       "      window._bokeh_is_loading = undefined;\n",
       "    }\n",
       "  \n",
       "  \n",
       "    \n",
       "    if (typeof (window._bokeh_timeout) === \"undefined\" || force === true) {\n",
       "      window._bokeh_timeout = Date.now() + 0;\n",
       "      window._bokeh_failed_load = false;\n",
       "    }\n",
       "  \n",
       "    var NB_LOAD_WARNING = {'data': {'text/html':\n",
       "       \"<div style='background-color: #fdd'>\\n\"+\n",
       "       \"<p>\\n\"+\n",
       "       \"BokehJS does not appear to have successfully loaded. If loading BokehJS from CDN, this \\n\"+\n",
       "       \"may be due to a slow or bad network connection. Possible fixes:\\n\"+\n",
       "       \"</p>\\n\"+\n",
       "       \"<ul>\\n\"+\n",
       "       \"<li>re-rerun `output_notebook()` to attempt to load from CDN again, or</li>\\n\"+\n",
       "       \"<li>use INLINE resources instead, as so:</li>\\n\"+\n",
       "       \"</ul>\\n\"+\n",
       "       \"<code>\\n\"+\n",
       "       \"from bokeh.resources import INLINE\\n\"+\n",
       "       \"output_notebook(resources=INLINE)\\n\"+\n",
       "       \"</code>\\n\"+\n",
       "       \"</div>\"}};\n",
       "  \n",
       "    function display_loaded() {\n",
       "      if (window.Bokeh !== undefined) {\n",
       "        document.getElementById(\"020b78e1-b1fb-4449-b509-609fce3598e1\").textContent = \"BokehJS successfully loaded.\";\n",
       "      } else if (Date.now() < window._bokeh_timeout) {\n",
       "        setTimeout(display_loaded, 100)\n",
       "      }\n",
       "    }\n",
       "  \n",
       "    function run_callbacks() {\n",
       "      window._bokeh_onload_callbacks.forEach(function(callback) { callback() });\n",
       "      delete window._bokeh_onload_callbacks\n",
       "      console.info(\"Bokeh: all callbacks have finished\");\n",
       "    }\n",
       "  \n",
       "    function load_libs(js_urls, callback) {\n",
       "      window._bokeh_onload_callbacks.push(callback);\n",
       "      if (window._bokeh_is_loading > 0) {\n",
       "        console.log(\"Bokeh: BokehJS is being loaded, scheduling callback at\", now());\n",
       "        return null;\n",
       "      }\n",
       "      if (js_urls == null || js_urls.length === 0) {\n",
       "        run_callbacks();\n",
       "        return null;\n",
       "      }\n",
       "      console.log(\"Bokeh: BokehJS not loaded, scheduling load and callback at\", now());\n",
       "      window._bokeh_is_loading = js_urls.length;\n",
       "      for (var i = 0; i < js_urls.length; i++) {\n",
       "        var url = js_urls[i];\n",
       "        var s = document.createElement('script');\n",
       "        s.src = url;\n",
       "        s.async = false;\n",
       "        s.onreadystatechange = s.onload = function() {\n",
       "          window._bokeh_is_loading--;\n",
       "          if (window._bokeh_is_loading === 0) {\n",
       "            console.log(\"Bokeh: all BokehJS libraries loaded\");\n",
       "            run_callbacks()\n",
       "          }\n",
       "        };\n",
       "        s.onerror = function() {\n",
       "          console.warn(\"failed to load library \" + url);\n",
       "        };\n",
       "        console.log(\"Bokeh: injecting script tag for BokehJS library: \", url);\n",
       "        document.getElementsByTagName(\"head\")[0].appendChild(s);\n",
       "      }\n",
       "    };var element = document.getElementById(\"020b78e1-b1fb-4449-b509-609fce3598e1\");\n",
       "    if (element == null) {\n",
       "      console.log(\"Bokeh: ERROR: autoload.js configured with elementid '020b78e1-b1fb-4449-b509-609fce3598e1' but no matching script tag was found. \")\n",
       "      return false;\n",
       "    }\n",
       "  \n",
       "    var js_urls = [];\n",
       "  \n",
       "    var inline_js = [\n",
       "      function(Bokeh) {\n",
       "        (function() {\n",
       "          var fn = function() {\n",
       "            var docs_json = {\"99e6d866-8387-4993-ace9-3b7a6b87ff00\":{\"roots\":{\"references\":[{\"attributes\":{\"callback\":null,\"factors\":[\"0\",\"1\",\"2\"]},\"id\":\"b7674a7e-a150-4170-b637-b32ccd1dfb28\",\"type\":\"FactorRange\"},{\"attributes\":{\"active_drag\":\"auto\",\"active_scroll\":\"auto\",\"active_tap\":\"auto\",\"tools\":[{\"id\":\"50fb9d86-fe33-45e5-a127-ff67d458c603\",\"type\":\"PanTool\"},{\"id\":\"1eff50a7-a1c5-4b65-b34d-81cccc5bfe07\",\"type\":\"WheelZoomTool\"},{\"id\":\"26800771-e799-4e71-9c51-e715d2e0d711\",\"type\":\"BoxZoomTool\"},{\"id\":\"fccf3ff7-a3a1-492b-a0d2-26006960a4f8\",\"type\":\"SaveTool\"},{\"id\":\"b52d2723-e55a-49dc-bd95-b841858b83a5\",\"type\":\"ResetTool\"},{\"id\":\"ee5657df-1b79-434f-947c-ec95bc16e769\",\"type\":\"HelpTool\"}]},\"id\":\"60343d37-1898-48c6-8bac-bb4712f32536\",\"type\":\"Toolbar\"},{\"attributes\":{\"fill_alpha\":{\"field\":\"fill_alpha\"},\"fill_color\":{\"field\":\"color\"},\"height\":{\"field\":\"height\",\"units\":\"data\"},\"line_color\":{\"field\":\"line_color\"},\"width\":{\"field\":\"width\",\"units\":\"data\"},\"x\":{\"field\":\"x\"},\"y\":{\"field\":\"y\"}},\"id\":\"4be934c8-8e25-49bb-a62b-f2a1eca2a1fa\",\"type\":\"Rect\"},{\"attributes\":{\"dimension\":1,\"plot\":{\"id\":\"a82fbf9f-f730-4c2d-83b9-19487dbcca8a\",\"subtype\":\"Chart\",\"type\":\"Plot\"},\"ticker\":{\"id\":\"4684c75c-fdb7-4268-9978-ad3350b53214\",\"type\":\"BasicTicker\"}},\"id\":\"0a403f70-96ae-4edd-816f-660c35aed5f0\",\"type\":\"Grid\"},{\"attributes\":{\"callback\":null,\"column_names\":[\"line_color\",\"width\",\"y\",\"label\",\"height\",\"line_alpha\",\"x\",\"fill_alpha\",\"color\"],\"data\":{\"Label\":[1],\"Source\":[\"Actual\"],\"chart_index\":[{\"Label\":1,\"Source\":\"Actual\"}],\"color\":[\"#f22c40\"],\"fill_alpha\":[0.8],\"height\":[1735.0],\"label\":[{\"Label\":1,\"Source\":\"Actual\"}],\"line_alpha\":[1.0],\"line_color\":[\"white\"],\"width\":[0.2],\"x\":[\"1:0.666666666667\"],\"y\":[867.5]}},\"id\":\"ae778eea-ca10-461b-86a1-7c2165013613\",\"type\":\"ColumnDataSource\"},{\"attributes\":{\"below\":[{\"id\":\"b847fea9-6338-48e2-b566-ba0a6c8b6cab\",\"type\":\"CategoricalAxis\"}],\"css_classes\":null,\"left\":[{\"id\":\"21618dfe-49fc-4d30-a008-89d17c9a9777\",\"type\":\"LinearAxis\"}],\"plot_height\":650,\"plot_width\":900,\"renderers\":[{\"id\":\"72b68b70-d93b-48f1-8c7d-0e531f385147\",\"type\":\"BoxAnnotation\"},{\"id\":\"fa9f07dc-d178-4692-ac1a-452eadee9968\",\"type\":\"GlyphRenderer\"},{\"id\":\"ae0cb752-5f63-43f3-a5ef-2afd4851acd0\",\"type\":\"GlyphRenderer\"},{\"id\":\"654cc533-db2a-49a8-8f22-95d63352ceec\",\"type\":\"GlyphRenderer\"},{\"id\":\"e58fbdc8-264c-4ec4-956d-c903436225b8\",\"type\":\"GlyphRenderer\"},{\"id\":\"448429eb-6cd5-4579-bfc6-5685ceaabc38\",\"type\":\"GlyphRenderer\"},{\"id\":\"c50f7e87-f604-4725-9014-c2a70dc28569\",\"type\":\"GlyphRenderer\"},{\"id\":\"a5b163b1-cf20-4600-89a8-9d9f31006abc\",\"type\":\"Legend\"},{\"id\":\"b847fea9-6338-48e2-b566-ba0a6c8b6cab\",\"type\":\"CategoricalAxis\"},{\"id\":\"21618dfe-49fc-4d30-a008-89d17c9a9777\",\"type\":\"LinearAxis\"},{\"id\":\"0a403f70-96ae-4edd-816f-660c35aed5f0\",\"type\":\"Grid\"}],\"title\":{\"id\":\"de7be8fb-8b4d-4411-a0a2-ad7b36084419\",\"type\":\"Title\"},\"tool_events\":{\"id\":\"c080de8e-3ef0-4f52-8de7-2451fcc1010e\",\"type\":\"ToolEvents\"},\"toolbar\":{\"id\":\"60343d37-1898-48c6-8bac-bb4712f32536\",\"type\":\"Toolbar\"},\"x_mapper_type\":\"auto\",\"x_range\":{\"id\":\"b7674a7e-a150-4170-b637-b32ccd1dfb28\",\"type\":\"FactorRange\"},\"y_mapper_type\":\"auto\",\"y_range\":{\"id\":\"d570d25e-227e-4d38-a571-719d2f97cc68\",\"type\":\"Range1d\"}},\"id\":\"a82fbf9f-f730-4c2d-83b9-19487dbcca8a\",\"subtype\":\"Chart\",\"type\":\"Plot\"},{\"attributes\":{\"label\":{\"value\":\"Predicted\"},\"renderers\":[{\"id\":\"fa9f07dc-d178-4692-ac1a-452eadee9968\",\"type\":\"GlyphRenderer\"}]},\"id\":\"c4a1ed79-2a2e-44e2-b49a-aeec39acf755\",\"type\":\"LegendItem\"},{\"attributes\":{\"fill_alpha\":{\"field\":\"fill_alpha\"},\"fill_color\":{\"field\":\"color\"},\"height\":{\"field\":\"height\",\"units\":\"data\"},\"line_color\":{\"field\":\"line_color\"},\"width\":{\"field\":\"width\",\"units\":\"data\"},\"x\":{\"field\":\"x\"},\"y\":{\"field\":\"y\"}},\"id\":\"ccc2b270-e0dc-408f-a1be-a86378685688\",\"type\":\"Rect\"},{\"attributes\":{\"data_source\":{\"id\":\"5aaf643c-a909-4dc6-9f89-02ea672bd006\",\"type\":\"ColumnDataSource\"},\"glyph\":{\"id\":\"1bdfe6a9-6df9-493c-86e2-d5fbb7b7c3f8\",\"type\":\"Rect\"},\"hover_glyph\":null,\"nonselection_glyph\":null,\"selection_glyph\":null},\"id\":\"fa9f07dc-d178-4692-ac1a-452eadee9968\",\"type\":\"GlyphRenderer\"},{\"attributes\":{},\"id\":\"358b390e-03e5-4236-80c9-6d5b982ca676\",\"type\":\"CategoricalTickFormatter\"},{\"attributes\":{\"callback\":null,\"column_names\":[\"line_color\",\"width\",\"y\",\"label\",\"height\",\"line_alpha\",\"x\",\"fill_alpha\",\"color\"],\"data\":{\"Label\":[2],\"Source\":[\"Predicted\"],\"chart_index\":[{\"Label\":2,\"Source\":\"Predicted\"}],\"color\":[\"#5ab738\"],\"fill_alpha\":[0.8],\"height\":[1.0],\"label\":[{\"Label\":2,\"Source\":\"Predicted\"}],\"line_alpha\":[1.0],\"line_color\":[\"white\"],\"width\":[0.2],\"x\":[\"2:0.333333333333\"],\"y\":[0.5]}},\"id\":\"ddb66035-acbc-4e3f-a63a-8f1d5043d324\",\"type\":\"ColumnDataSource\"},{\"attributes\":{\"axis_label\":\"Genotype\",\"formatter\":{\"id\":\"358b390e-03e5-4236-80c9-6d5b982ca676\",\"type\":\"CategoricalTickFormatter\"},\"major_label_orientation\":0.7853981633974483,\"plot\":{\"id\":\"a82fbf9f-f730-4c2d-83b9-19487dbcca8a\",\"subtype\":\"Chart\",\"type\":\"Plot\"},\"ticker\":{\"id\":\"4720ab5c-e2c4-4e44-a5ab-cfe30866fd7d\",\"type\":\"CategoricalTicker\"}},\"id\":\"b847fea9-6338-48e2-b566-ba0a6c8b6cab\",\"type\":\"CategoricalAxis\"},{\"attributes\":{\"axis_label\":\"Count\",\"formatter\":{\"id\":\"67652cef-7afe-42ee-9f25-858c0a8d6eac\",\"type\":\"BasicTickFormatter\"},\"plot\":{\"id\":\"a82fbf9f-f730-4c2d-83b9-19487dbcca8a\",\"subtype\":\"Chart\",\"type\":\"Plot\"},\"ticker\":{\"id\":\"4684c75c-fdb7-4268-9978-ad3350b53214\",\"type\":\"BasicTicker\"}},\"id\":\"21618dfe-49fc-4d30-a008-89d17c9a9777\",\"type\":\"LinearAxis\"},{\"attributes\":{\"bottom_units\":\"screen\",\"fill_alpha\":{\"value\":0.5},\"fill_color\":{\"value\":\"lightgrey\"},\"left_units\":\"screen\",\"level\":\"overlay\",\"line_alpha\":{\"value\":1.0},\"line_color\":{\"value\":\"black\"},\"line_dash\":[4,4],\"line_width\":{\"value\":2},\"plot\":null,\"render_mode\":\"css\",\"right_units\":\"screen\",\"top_units\":\"screen\"},\"id\":\"72b68b70-d93b-48f1-8c7d-0e531f385147\",\"type\":\"BoxAnnotation\"},{\"attributes\":{\"overlay\":{\"id\":\"72b68b70-d93b-48f1-8c7d-0e531f385147\",\"type\":\"BoxAnnotation\"},\"plot\":{\"id\":\"a82fbf9f-f730-4c2d-83b9-19487dbcca8a\",\"subtype\":\"Chart\",\"type\":\"Plot\"}},\"id\":\"26800771-e799-4e71-9c51-e715d2e0d711\",\"type\":\"BoxZoomTool\"},{\"attributes\":{\"callback\":null,\"column_names\":[\"line_color\",\"width\",\"y\",\"label\",\"height\",\"line_alpha\",\"x\",\"fill_alpha\",\"color\"],\"data\":{\"Label\":[1],\"Source\":[\"Predicted\"],\"chart_index\":[{\"Label\":1,\"Source\":\"Predicted\"}],\"color\":[\"#5ab738\"],\"fill_alpha\":[0.8],\"height\":[1943.0],\"label\":[{\"Label\":1,\"Source\":\"Predicted\"}],\"line_alpha\":[1.0],\"line_color\":[\"white\"],\"width\":[0.2],\"x\":[\"1:0.333333333333\"],\"y\":[971.5]}},\"id\":\"0c20aadb-9e8f-4eb6-bf88-f7ce57b0a85e\",\"type\":\"ColumnDataSource\"},{\"attributes\":{\"data_source\":{\"id\":\"ae778eea-ca10-461b-86a1-7c2165013613\",\"type\":\"ColumnDataSource\"},\"glyph\":{\"id\":\"b3f8b666-0890-481b-ba2c-d9a18396a455\",\"type\":\"Rect\"},\"hover_glyph\":null,\"nonselection_glyph\":null,\"selection_glyph\":null},\"id\":\"e58fbdc8-264c-4ec4-956d-c903436225b8\",\"type\":\"GlyphRenderer\"},{\"attributes\":{\"plot\":{\"id\":\"a82fbf9f-f730-4c2d-83b9-19487dbcca8a\",\"subtype\":\"Chart\",\"type\":\"Plot\"}},\"id\":\"b52d2723-e55a-49dc-bd95-b841858b83a5\",\"type\":\"ResetTool\"},{\"attributes\":{},\"id\":\"67652cef-7afe-42ee-9f25-858c0a8d6eac\",\"type\":\"BasicTickFormatter\"},{\"attributes\":{\"fill_alpha\":{\"field\":\"fill_alpha\"},\"fill_color\":{\"field\":\"color\"},\"height\":{\"field\":\"height\",\"units\":\"data\"},\"line_color\":{\"field\":\"line_color\"},\"width\":{\"field\":\"width\",\"units\":\"data\"},\"x\":{\"field\":\"x\"},\"y\":{\"field\":\"y\"}},\"id\":\"1bdfe6a9-6df9-493c-86e2-d5fbb7b7c3f8\",\"type\":\"Rect\"},{\"attributes\":{\"plot\":{\"id\":\"a82fbf9f-f730-4c2d-83b9-19487dbcca8a\",\"subtype\":\"Chart\",\"type\":\"Plot\"}},\"id\":\"50fb9d86-fe33-45e5-a127-ff67d458c603\",\"type\":\"PanTool\"},{\"attributes\":{\"callback\":null,\"column_names\":[\"line_color\",\"width\",\"y\",\"label\",\"height\",\"line_alpha\",\"x\",\"fill_alpha\",\"color\"],\"data\":{\"Label\":[0],\"Source\":[\"Actual\"],\"chart_index\":[{\"Label\":0,\"Source\":\"Actual\"}],\"color\":[\"#f22c40\"],\"fill_alpha\":[0.8],\"height\":[597.0],\"label\":[{\"Label\":0,\"Source\":\"Actual\"}],\"line_alpha\":[1.0],\"line_color\":[\"white\"],\"width\":[0.2],\"x\":[\"0:0.666666666667\"],\"y\":[298.5]}},\"id\":\"180fc8ae-a2ea-4023-b9d1-262aea0d85bb\",\"type\":\"ColumnDataSource\"},{\"attributes\":{\"items\":[{\"id\":\"c4a1ed79-2a2e-44e2-b49a-aeec39acf755\",\"type\":\"LegendItem\"},{\"id\":\"7d6e9a9d-89da-482b-ad98-7423e488b233\",\"type\":\"LegendItem\"}],\"location\":\"top_left\",\"plot\":{\"id\":\"a82fbf9f-f730-4c2d-83b9-19487dbcca8a\",\"subtype\":\"Chart\",\"type\":\"Plot\"},\"spacing\":0},\"id\":\"a5b163b1-cf20-4600-89a8-9d9f31006abc\",\"type\":\"Legend\"},{\"attributes\":{\"plot\":{\"id\":\"a82fbf9f-f730-4c2d-83b9-19487dbcca8a\",\"subtype\":\"Chart\",\"type\":\"Plot\"}},\"id\":\"ee5657df-1b79-434f-947c-ec95bc16e769\",\"type\":\"HelpTool\"},{\"attributes\":{\"plot\":null,\"text\":\"Predicted vs Actual\"},\"id\":\"de7be8fb-8b4d-4411-a0a2-ad7b36084419\",\"type\":\"Title\"},{\"attributes\":{\"data_source\":{\"id\":\"95ccd800-cc4d-408c-8269-fb5866cedeef\",\"type\":\"ColumnDataSource\"},\"glyph\":{\"id\":\"79273e12-1bb5-47f0-9683-0a6a0b78e686\",\"type\":\"Rect\"},\"hover_glyph\":null,\"nonselection_glyph\":null,\"selection_glyph\":null},\"id\":\"c50f7e87-f604-4725-9014-c2a70dc28569\",\"type\":\"GlyphRenderer\"},{\"attributes\":{\"callback\":null,\"end\":2040.15},\"id\":\"d570d25e-227e-4d38-a571-719d2f97cc68\",\"type\":\"Range1d\"},{\"attributes\":{\"fill_alpha\":{\"field\":\"fill_alpha\"},\"fill_color\":{\"field\":\"color\"},\"height\":{\"field\":\"height\",\"units\":\"data\"},\"line_color\":{\"field\":\"line_color\"},\"width\":{\"field\":\"width\",\"units\":\"data\"},\"x\":{\"field\":\"x\"},\"y\":{\"field\":\"y\"}},\"id\":\"b3f8b666-0890-481b-ba2c-d9a18396a455\",\"type\":\"Rect\"},{\"attributes\":{\"plot\":{\"id\":\"a82fbf9f-f730-4c2d-83b9-19487dbcca8a\",\"subtype\":\"Chart\",\"type\":\"Plot\"}},\"id\":\"1eff50a7-a1c5-4b65-b34d-81cccc5bfe07\",\"type\":\"WheelZoomTool\"},{\"attributes\":{\"fill_alpha\":{\"field\":\"fill_alpha\"},\"fill_color\":{\"field\":\"color\"},\"height\":{\"field\":\"height\",\"units\":\"data\"},\"line_color\":{\"field\":\"line_color\"},\"width\":{\"field\":\"width\",\"units\":\"data\"},\"x\":{\"field\":\"x\"},\"y\":{\"field\":\"y\"}},\"id\":\"79273e12-1bb5-47f0-9683-0a6a0b78e686\",\"type\":\"Rect\"},{\"attributes\":{\"callback\":null,\"column_names\":[\"line_color\",\"width\",\"y\",\"label\",\"height\",\"line_alpha\",\"x\",\"fill_alpha\",\"color\"],\"data\":{\"Label\":[0],\"Source\":[\"Predicted\"],\"chart_index\":[{\"Label\":0,\"Source\":\"Predicted\"}],\"color\":[\"#5ab738\"],\"fill_alpha\":[0.8],\"height\":[861.0],\"label\":[{\"Label\":0,\"Source\":\"Predicted\"}],\"line_alpha\":[1.0],\"line_color\":[\"white\"],\"width\":[0.2],\"x\":[\"0:0.333333333333\"],\"y\":[430.5]}},\"id\":\"5aaf643c-a909-4dc6-9f89-02ea672bd006\",\"type\":\"ColumnDataSource\"},{\"attributes\":{},\"id\":\"4720ab5c-e2c4-4e44-a5ab-cfe30866fd7d\",\"type\":\"CategoricalTicker\"},{\"attributes\":{},\"id\":\"c080de8e-3ef0-4f52-8de7-2451fcc1010e\",\"type\":\"ToolEvents\"},{\"attributes\":{},\"id\":\"4684c75c-fdb7-4268-9978-ad3350b53214\",\"type\":\"BasicTicker\"},{\"attributes\":{\"data_source\":{\"id\":\"0c20aadb-9e8f-4eb6-bf88-f7ce57b0a85e\",\"type\":\"ColumnDataSource\"},\"glyph\":{\"id\":\"ccc2b270-e0dc-408f-a1be-a86378685688\",\"type\":\"Rect\"},\"hover_glyph\":null,\"nonselection_glyph\":null,\"selection_glyph\":null},\"id\":\"654cc533-db2a-49a8-8f22-95d63352ceec\",\"type\":\"GlyphRenderer\"},{\"attributes\":{\"data_source\":{\"id\":\"ddb66035-acbc-4e3f-a63a-8f1d5043d324\",\"type\":\"ColumnDataSource\"},\"glyph\":{\"id\":\"4be934c8-8e25-49bb-a62b-f2a1eca2a1fa\",\"type\":\"Rect\"},\"hover_glyph\":null,\"nonselection_glyph\":null,\"selection_glyph\":null},\"id\":\"448429eb-6cd5-4579-bfc6-5685ceaabc38\",\"type\":\"GlyphRenderer\"},{\"attributes\":{\"fill_alpha\":{\"field\":\"fill_alpha\"},\"fill_color\":{\"field\":\"color\"},\"height\":{\"field\":\"height\",\"units\":\"data\"},\"line_color\":{\"field\":\"line_color\"},\"width\":{\"field\":\"width\",\"units\":\"data\"},\"x\":{\"field\":\"x\"},\"y\":{\"field\":\"y\"}},\"id\":\"1d233865-a0d0-4288-9ac7-7594c0f5b7a3\",\"type\":\"Rect\"},{\"attributes\":{\"plot\":{\"id\":\"a82fbf9f-f730-4c2d-83b9-19487dbcca8a\",\"subtype\":\"Chart\",\"type\":\"Plot\"}},\"id\":\"fccf3ff7-a3a1-492b-a0d2-26006960a4f8\",\"type\":\"SaveTool\"},{\"attributes\":{\"data_source\":{\"id\":\"180fc8ae-a2ea-4023-b9d1-262aea0d85bb\",\"type\":\"ColumnDataSource\"},\"glyph\":{\"id\":\"1d233865-a0d0-4288-9ac7-7594c0f5b7a3\",\"type\":\"Rect\"},\"hover_glyph\":null,\"nonselection_glyph\":null,\"selection_glyph\":null},\"id\":\"ae0cb752-5f63-43f3-a5ef-2afd4851acd0\",\"type\":\"GlyphRenderer\"},{\"attributes\":{\"callback\":null,\"column_names\":[\"line_color\",\"width\",\"y\",\"label\",\"height\",\"line_alpha\",\"x\",\"fill_alpha\",\"color\"],\"data\":{\"Label\":[2],\"Source\":[\"Actual\"],\"chart_index\":[{\"Label\":2,\"Source\":\"Actual\"}],\"color\":[\"#f22c40\"],\"fill_alpha\":[0.8],\"height\":[473.0],\"label\":[{\"Label\":2,\"Source\":\"Actual\"}],\"line_alpha\":[1.0],\"line_color\":[\"white\"],\"width\":[0.2],\"x\":[\"2:0.666666666667\"],\"y\":[236.5]}},\"id\":\"95ccd800-cc4d-408c-8269-fb5866cedeef\",\"type\":\"ColumnDataSource\"},{\"attributes\":{\"label\":{\"value\":\"Actual\"},\"renderers\":[{\"id\":\"ae0cb752-5f63-43f3-a5ef-2afd4851acd0\",\"type\":\"GlyphRenderer\"}]},\"id\":\"7d6e9a9d-89da-482b-ad98-7423e488b233\",\"type\":\"LegendItem\"}],\"root_ids\":[\"a82fbf9f-f730-4c2d-83b9-19487dbcca8a\"]},\"title\":\"Bokeh Application\",\"version\":\"0.12.4\"}};\n",
       "            var render_items = [{\"docid\":\"99e6d866-8387-4993-ace9-3b7a6b87ff00\",\"elementid\":\"020b78e1-b1fb-4449-b509-609fce3598e1\",\"modelid\":\"a82fbf9f-f730-4c2d-83b9-19487dbcca8a\"}];\n",
       "            \n",
       "            Bokeh.embed.embed_items(docs_json, render_items);\n",
       "          };\n",
       "          if (document.readyState != \"loading\") fn();\n",
       "          else document.addEventListener(\"DOMContentLoaded\", fn);\n",
       "        })();\n",
       "      },\n",
       "      function(Bokeh) {\n",
       "      }\n",
       "    ];\n",
       "  \n",
       "    function run_inline_js() {\n",
       "      \n",
       "      if ((window.Bokeh !== undefined) || (force === true)) {\n",
       "        for (var i = 0; i < inline_js.length; i++) {\n",
       "          inline_js[i](window.Bokeh);\n",
       "        }if (force === true) {\n",
       "          display_loaded();\n",
       "        }} else if (Date.now() < window._bokeh_timeout) {\n",
       "        setTimeout(run_inline_js, 100);\n",
       "      } else if (!window._bokeh_failed_load) {\n",
       "        console.log(\"Bokeh: BokehJS failed to load within specified timeout.\");\n",
       "        window._bokeh_failed_load = true;\n",
       "      } else if (force !== true) {\n",
       "        var cell = $(document.getElementById(\"020b78e1-b1fb-4449-b509-609fce3598e1\")).parents('.cell').data().cell;\n",
       "        cell.output_area.append_execute_result(NB_LOAD_WARNING)\n",
       "      }\n",
       "  \n",
       "    }\n",
       "  \n",
       "    if (window._bokeh_is_loading === 0) {\n",
       "      console.log(\"Bokeh: BokehJS loaded, going straight to plotting\");\n",
       "      run_inline_js();\n",
       "    } else {\n",
       "      load_libs(js_urls, function() {\n",
       "        console.log(\"Bokeh: BokehJS plotting callback run at\", now());\n",
       "        run_inline_js();\n",
       "      });\n",
       "    }\n",
       "  }(this));\n",
       "</script>"
      ]
     },
     "metadata": {},
     "output_type": "display_data"
    }
   ],
   "source": [
    "p = Bar(label_ct, label='Label', xlabel=\"Genotype\", ylabel=\"Count\", values='Count', group='Source',plot_width=900, \n",
    "        plot_height=650, title=\"Predicted vs Actual\", legend='top_left')\n",
    "\n",
    "p.legend.legend_spacing = 0\n",
    "show(p)"
   ]
  },
  {
   "cell_type": "markdown",
   "metadata": {},
   "source": [
    "**Notes Presentation**\n",
    "- Why is there a difference?  What are the different ones?\n",
    "- So few predicted because there were only a few trained on"
   ]
  },
  {
   "cell_type": "markdown",
   "metadata": {},
   "source": [
    "***\n",
    "Determine how well trained RF Classifier can assign labels to datapoints with GTcons: '-1'\n",
    "***    "
   ]
  },
  {
   "cell_type": "code",
   "execution_count": 277,
   "metadata": {
    "collapsed": true
   },
   "outputs": [],
   "source": [
    "#Import Data\n",
    "HG002_pred_min_1 = pd.read_csv('/Users/lmc2/NIST/Notebooks/CrowdVariant/svviz.Annotate.DEL.HG002_minus_one.csv')"
   ]
  },
  {
   "cell_type": "code",
   "execution_count": 278,
   "metadata": {
    "collapsed": true
   },
   "outputs": [],
   "source": [
    "### Drop irrelevant columns\n",
    "# Note: Features in the prediction dataframe must match the features in the dataframe (CrowdVar) used to train the RF model\n",
    "HG002_pred_min_1.drop(['GTcons'], axis=1, inplace = True)\n",
    "HG002_pred_min_1.drop(['GTconflict'], axis=1, inplace = True)\n",
    "HG002_pred_min_1.drop(['GTsupp'], axis=1, inplace = True)\n",
    "HG002_pred_min_1.drop('SVtype', axis=1)\n",
    "HG002_pred_min_1.drop('type',axis=1)\n",
    "HG002_pred_min_1.drop(['type'],axis=1, inplace = True)\n",
    "HG002_pred_min_1.drop(['SVtype'],axis=1, inplace = True)\n",
    "HG002_pred_min_1.drop(['start'],axis=1, inplace = True)\n",
    "HG002_pred_min_1.drop(['end'],axis=1, inplace = True)\n",
    "HG002_pred_min_1.drop(['chrom'],axis=1, inplace = True)\n",
    "HG002_pred_min_1.drop('Size',axis=1)\n",
    "HG002_pred_min_1.drop(['TenX.GT'],axis=1, inplace = True)\n",
    "HG002_pred_min_1.drop(['pacbio.GT'],axis=1, inplace = True)\n",
    "HG002_pred_min_1.drop(['IllMP.GT'],axis=1, inplace = True)\n",
    "HG002_pred_min_1.drop(['Ill250.GT'],axis=1, inplace = True)\n",
    "HG002_pred_min_1.drop(['Ill300x.GT'],axis=1, inplace = True)\n",
    "HG002_pred_min_1.drop(['sample'],axis=1, inplace = True)\n",
    "HG002_pred_min_1.drop(['id'],axis=1, inplace = True)"
   ]
  },
  {
   "cell_type": "code",
   "execution_count": 279,
   "metadata": {
    "collapsed": false
   },
   "outputs": [
    {
     "data": {
      "text/html": [
       "<div>\n",
       "<table border=\"1\" class=\"dataframe\">\n",
       "  <thead>\n",
       "    <tr style=\"text-align: right;\">\n",
       "      <th></th>\n",
       "      <th>Size</th>\n",
       "      <th>Ill300x.alt_alnScore_mean</th>\n",
       "      <th>Ill300x.alt_alnScore_std</th>\n",
       "      <th>Ill300x.alt_count</th>\n",
       "      <th>Ill300x.alt_insertSize_mean</th>\n",
       "      <th>Ill300x.alt_insertSize_std</th>\n",
       "      <th>Ill300x.alt_reason_alignmentScore</th>\n",
       "      <th>Ill300x.alt_reason_insertSizeScore</th>\n",
       "      <th>Ill300x.alt_reason_orientation</th>\n",
       "      <th>Ill300x.amb_alnScore_mean</th>\n",
       "      <th>...</th>\n",
       "      <th>pacbio.ref_count</th>\n",
       "      <th>pacbio.ref_insertSize_mean</th>\n",
       "      <th>pacbio.ref_insertSize_std</th>\n",
       "      <th>pacbio.ref_reason_alignmentScore</th>\n",
       "      <th>tandemrep_cnt</th>\n",
       "      <th>tandemrep_pct</th>\n",
       "      <th>segdup_cnt</th>\n",
       "      <th>segdup_pct</th>\n",
       "      <th>refN_cnt</th>\n",
       "      <th>refN_pct</th>\n",
       "    </tr>\n",
       "  </thead>\n",
       "  <tbody>\n",
       "    <tr>\n",
       "      <th>0</th>\n",
       "      <td>-25</td>\n",
       "      <td>576.336245</td>\n",
       "      <td>6.124298</td>\n",
       "      <td>229.0</td>\n",
       "      <td>572.580786</td>\n",
       "      <td>146.677196</td>\n",
       "      <td>229.0</td>\n",
       "      <td>0.0</td>\n",
       "      <td>0.0</td>\n",
       "      <td>536.283903</td>\n",
       "      <td>...</td>\n",
       "      <td>0.0</td>\n",
       "      <td>0.0</td>\n",
       "      <td>0.000000</td>\n",
       "      <td>0.0</td>\n",
       "      <td>0</td>\n",
       "      <td>0.0</td>\n",
       "      <td>0</td>\n",
       "      <td>0.0</td>\n",
       "      <td>0</td>\n",
       "      <td>0</td>\n",
       "    </tr>\n",
       "    <tr>\n",
       "      <th>1</th>\n",
       "      <td>-38</td>\n",
       "      <td>570.325000</td>\n",
       "      <td>3.157432</td>\n",
       "      <td>40.0</td>\n",
       "      <td>620.175000</td>\n",
       "      <td>133.582350</td>\n",
       "      <td>39.0</td>\n",
       "      <td>1.0</td>\n",
       "      <td>0.0</td>\n",
       "      <td>529.624239</td>\n",
       "      <td>...</td>\n",
       "      <td>20.0</td>\n",
       "      <td>10741.9</td>\n",
       "      <td>3922.716723</td>\n",
       "      <td>20.0</td>\n",
       "      <td>0</td>\n",
       "      <td>0.0</td>\n",
       "      <td>0</td>\n",
       "      <td>0.0</td>\n",
       "      <td>0</td>\n",
       "      <td>0</td>\n",
       "    </tr>\n",
       "    <tr>\n",
       "      <th>2</th>\n",
       "      <td>-28</td>\n",
       "      <td>574.447761</td>\n",
       "      <td>11.021395</td>\n",
       "      <td>134.0</td>\n",
       "      <td>552.843284</td>\n",
       "      <td>155.619794</td>\n",
       "      <td>133.0</td>\n",
       "      <td>1.0</td>\n",
       "      <td>0.0</td>\n",
       "      <td>535.542208</td>\n",
       "      <td>...</td>\n",
       "      <td>1.0</td>\n",
       "      <td>8703.0</td>\n",
       "      <td>0.000000</td>\n",
       "      <td>1.0</td>\n",
       "      <td>0</td>\n",
       "      <td>0.0</td>\n",
       "      <td>1</td>\n",
       "      <td>1.0</td>\n",
       "      <td>0</td>\n",
       "      <td>0</td>\n",
       "    </tr>\n",
       "    <tr>\n",
       "      <th>3</th>\n",
       "      <td>-153</td>\n",
       "      <td>580.686274</td>\n",
       "      <td>10.901502</td>\n",
       "      <td>51.0</td>\n",
       "      <td>892.529412</td>\n",
       "      <td>257.208800</td>\n",
       "      <td>27.0</td>\n",
       "      <td>24.0</td>\n",
       "      <td>0.0</td>\n",
       "      <td>534.831862</td>\n",
       "      <td>...</td>\n",
       "      <td>20.0</td>\n",
       "      <td>11276.3</td>\n",
       "      <td>4110.799911</td>\n",
       "      <td>20.0</td>\n",
       "      <td>0</td>\n",
       "      <td>0.0</td>\n",
       "      <td>1</td>\n",
       "      <td>1.0</td>\n",
       "      <td>0</td>\n",
       "      <td>0</td>\n",
       "    </tr>\n",
       "    <tr>\n",
       "      <th>4</th>\n",
       "      <td>-67</td>\n",
       "      <td>561.728814</td>\n",
       "      <td>20.434957</td>\n",
       "      <td>59.0</td>\n",
       "      <td>791.067797</td>\n",
       "      <td>236.326610</td>\n",
       "      <td>53.0</td>\n",
       "      <td>6.0</td>\n",
       "      <td>0.0</td>\n",
       "      <td>487.928712</td>\n",
       "      <td>...</td>\n",
       "      <td>5.0</td>\n",
       "      <td>13458.0</td>\n",
       "      <td>2863.866757</td>\n",
       "      <td>5.0</td>\n",
       "      <td>0</td>\n",
       "      <td>0.0</td>\n",
       "      <td>0</td>\n",
       "      <td>0.0</td>\n",
       "      <td>0</td>\n",
       "      <td>0</td>\n",
       "    </tr>\n",
       "  </tbody>\n",
       "</table>\n",
       "<p>5 rows × 177 columns</p>\n",
       "</div>"
      ],
      "text/plain": [
       "   Size  Ill300x.alt_alnScore_mean  Ill300x.alt_alnScore_std  \\\n",
       "0   -25                 576.336245                  6.124298   \n",
       "1   -38                 570.325000                  3.157432   \n",
       "2   -28                 574.447761                 11.021395   \n",
       "3  -153                 580.686274                 10.901502   \n",
       "4   -67                 561.728814                 20.434957   \n",
       "\n",
       "   Ill300x.alt_count  Ill300x.alt_insertSize_mean  Ill300x.alt_insertSize_std  \\\n",
       "0              229.0                   572.580786                  146.677196   \n",
       "1               40.0                   620.175000                  133.582350   \n",
       "2              134.0                   552.843284                  155.619794   \n",
       "3               51.0                   892.529412                  257.208800   \n",
       "4               59.0                   791.067797                  236.326610   \n",
       "\n",
       "   Ill300x.alt_reason_alignmentScore  Ill300x.alt_reason_insertSizeScore  \\\n",
       "0                              229.0                                 0.0   \n",
       "1                               39.0                                 1.0   \n",
       "2                              133.0                                 1.0   \n",
       "3                               27.0                                24.0   \n",
       "4                               53.0                                 6.0   \n",
       "\n",
       "   Ill300x.alt_reason_orientation  Ill300x.amb_alnScore_mean    ...     \\\n",
       "0                             0.0                 536.283903    ...      \n",
       "1                             0.0                 529.624239    ...      \n",
       "2                             0.0                 535.542208    ...      \n",
       "3                             0.0                 534.831862    ...      \n",
       "4                             0.0                 487.928712    ...      \n",
       "\n",
       "   pacbio.ref_count  pacbio.ref_insertSize_mean  pacbio.ref_insertSize_std  \\\n",
       "0               0.0                         0.0                   0.000000   \n",
       "1              20.0                     10741.9                3922.716723   \n",
       "2               1.0                      8703.0                   0.000000   \n",
       "3              20.0                     11276.3                4110.799911   \n",
       "4               5.0                     13458.0                2863.866757   \n",
       "\n",
       "   pacbio.ref_reason_alignmentScore  tandemrep_cnt  tandemrep_pct  segdup_cnt  \\\n",
       "0                               0.0              0            0.0           0   \n",
       "1                              20.0              0            0.0           0   \n",
       "2                               1.0              0            0.0           1   \n",
       "3                              20.0              0            0.0           1   \n",
       "4                               5.0              0            0.0           0   \n",
       "\n",
       "   segdup_pct  refN_cnt  refN_pct  \n",
       "0         0.0         0         0  \n",
       "1         0.0         0         0  \n",
       "2         1.0         0         0  \n",
       "3         1.0         0         0  \n",
       "4         0.0         0         0  \n",
       "\n",
       "[5 rows x 177 columns]"
      ]
     },
     "execution_count": 279,
     "metadata": {},
     "output_type": "execute_result"
    }
   ],
   "source": [
    "HG002_pred_min_1.head()"
   ]
  },
  {
   "cell_type": "code",
   "execution_count": 280,
   "metadata": {
    "collapsed": true
   },
   "outputs": [],
   "source": [
    "X2 = HG002_pred_min_1"
   ]
  },
  {
   "cell_type": "markdown",
   "metadata": {},
   "source": [
    "### Impute missing values using KNN "
   ]
  },
  {
   "cell_type": "code",
   "execution_count": 281,
   "metadata": {
    "collapsed": false
   },
   "outputs": [
    {
     "name": "stdout",
     "output_type": "stream",
     "text": [
      "Imputing row 1/1191 with 1 missing, elapsed time: 1.277\n",
      "Imputing row 101/1191 with 2 missing, elapsed time: 1.300\n",
      "Imputing row 201/1191 with 1 missing, elapsed time: 1.330\n",
      "Imputing row 301/1191 with 1 missing, elapsed time: 1.348\n",
      "Imputing row 401/1191 with 1 missing, elapsed time: 1.362\n",
      "Imputing row 501/1191 with 1 missing, elapsed time: 1.386\n",
      "Imputing row 601/1191 with 1 missing, elapsed time: 1.397\n",
      "Imputing row 701/1191 with 2 missing, elapsed time: 1.418\n",
      "Imputing row 801/1191 with 2 missing, elapsed time: 1.427\n",
      "Imputing row 901/1191 with 1 missing, elapsed time: 1.440\n",
      "Imputing row 1001/1191 with 1 missing, elapsed time: 1.450\n",
      "Imputing row 1101/1191 with 1 missing, elapsed time: 1.468\n"
     ]
    }
   ],
   "source": [
    "# Convert dataframe to matrix\n",
    "X2=X2.as_matrix()\n",
    "\n",
    "#Imput missing values from three closest observations\n",
    "X2_imputed=KNN(k=3).complete(X2)\n",
    "X2=pd.DataFrame(X2_imputed)"
   ]
  },
  {
   "cell_type": "code",
   "execution_count": 283,
   "metadata": {
    "collapsed": false
   },
   "outputs": [],
   "source": [
    "# Replace column headers\n",
    "X2.columns = ['Size','Ill300x.alt_alnScore_mean','Ill300x.alt_alnScore_std','Ill300x.alt_count','Ill300x.alt_insertSize_mean','Ill300x.alt_insertSize_std','Ill300x.alt_reason_alignmentScore','Ill300x.alt_reason_insertSizeScore','Ill300x.alt_reason_orientation','Ill300x.amb_alnScore_mean','Ill300x.amb_alnScore_std','Ill300x.amb_count','Ill300x.amb_insertSize_mean','Ill300x.amb_insertSize_std','Ill300x.amb_reason_alignmentScore_alignmentScore','Ill300x.amb_reason_alignmentScore_orientation','Ill300x.amb_reason_flanking','Ill300x.amb_reason_insertSizeScore_alignmentScore','Ill300x.amb_reason_insertSizeScore_insertSizeScore','Ill300x.amb_reason_insertSizeScore_orientation','Ill300x.amb_reason_multimapping','Ill300x.amb_reason_orientation_alignmentScore','Ill300x.amb_reason_orientation_orientation','Ill300x.amb_reason_same_scores','Ill300x.ref_alnScore_mean','Ill300x.ref_alnScore_std','Ill300x.ref_count','Ill300x.ref_insertSize_mean','Ill300x.ref_insertSize_std','Ill300x.ref_reason_alignmentScore','Ill300x.ref_reason_insertSizeScore','Ill300x.ref_reason_orientation','Ill250.alt_alnScore_mean','Ill250.alt_alnScore_std','Ill250.alt_count','Ill250.alt_insertSize_mean','Ill250.alt_insertSize_std','Ill250.alt_reason_alignmentScore','Ill250.alt_reason_insertSizeScore','Ill250.alt_reason_orientation','Ill250.amb_alnScore_mean','Ill250.amb_alnScore_std','Ill250.amb_count','Ill250.amb_insertSize_mean','Ill250.amb_insertSize_std','Ill250.amb_reason_alignmentScore_alignmentScore','Ill250.amb_reason_alignmentScore_orientation','Ill250.amb_reason_flanking','Ill250.amb_reason_insertSizeScore_alignmentScore','Ill250.amb_reason_multimapping','Ill250.amb_reason_orientation_alignmentScore','Ill250.amb_reason_orientation_orientation','Ill250.amb_reason_same_scores','Ill250.ref_alnScore_mean','Ill250.ref_alnScore_std','Ill250.ref_count','Ill250.ref_insertSize_mean','Ill250.ref_insertSize_std','Ill250.ref_reason_alignmentScore','Ill250.ref_reason_orientation','IllMP.alt_alnScore_mean','IllMP.alt_alnScore_std','IllMP.alt_count','IllMP.alt_insertSize_mean','IllMP.alt_insertSize_std','IllMP.alt_reason_alignmentScore','IllMP.alt_reason_insertSizeScore','IllMP.alt_reason_orientation','IllMP.amb_alnScore_mean','IllMP.amb_alnScore_std','IllMP.amb_count','IllMP.amb_insertSize_mean','IllMP.amb_insertSize_std','IllMP.amb_reason_alignmentScore_alignmentScore','IllMP.amb_reason_alignmentScore_orientation','IllMP.amb_reason_flanking','IllMP.amb_reason_insertSizeScore_alignmentScore','IllMP.amb_reason_insertSizeScore_insertSizeScore','IllMP.amb_reason_multimapping','IllMP.amb_reason_orientation_alignmentScore','IllMP.amb_reason_orientation_orientation','IllMP.amb_reason_same_scores','IllMP.ref_alnScore_mean','IllMP.ref_alnScore_std','IllMP.ref_count','IllMP.ref_insertSize_mean','IllMP.ref_insertSize_std','IllMP.ref_reason_alignmentScore','IllMP.ref_reason_insertSizeScore','IllMP.ref_reason_orientation','TenX.HP1_alt_alnScore_mean','TenX.HP1_alt_alnScore_std','TenX.HP1_alt_count','TenX.HP1_alt_insertSize_mean','TenX.HP1_alt_insertSize_std','TenX.HP1_alt_reason_alignmentScore','TenX.HP1_alt_reason_insertSizeScore','TenX.HP1_alt_reason_orientation','TenX.HP1_amb_alnScore_mean','TenX.HP1_amb_alnScore_std','TenX.HP1_amb_count','TenX.HP1_amb_insertSize_mean','TenX.HP1_amb_insertSize_std','TenX.HP1_amb_reason_alignmentScore_alignmentScore','TenX.HP1_amb_reason_alignmentScore_orientation','TenX.HP1_amb_reason_flanking','TenX.HP1_amb_reason_insertSizeScore_alignmentScore','TenX.HP1_amb_reason_insertSizeScore_insertSizeScore','TenX.HP1_amb_reason_multimapping','TenX.HP1_amb_reason_orientation_alignmentScore','TenX.HP1_amb_reason_orientation_orientation','TenX.HP1_amb_reason_same_scores','TenX.HP1_ref_alnScore_mean','TenX.HP1_ref_alnScore_std','TenX.HP1_ref_count','TenX.HP1_ref_insertSize_mean','TenX.HP1_ref_insertSize_std','TenX.HP1_ref_reason_alignmentScore','TenX.HP1_ref_reason_insertSizeScore','TenX.HP1_ref_reason_orientation','TenX.HP2_alt_alnScore_mean','TenX.HP2_alt_alnScore_std','TenX.HP2_alt_count','TenX.HP2_alt_insertSize_mean','TenX.HP2_alt_insertSize_std','TenX.HP2_alt_reason_alignmentScore','TenX.HP2_alt_reason_insertSizeScore','TenX.HP2_alt_reason_orientation','TenX.HP2_amb_alnScore_mean','TenX.HP2_amb_alnScore_std','TenX.HP2_amb_count','TenX.HP2_amb_insertSize_mean','TenX.HP2_amb_insertSize_std','TenX.HP2_amb_reason_alignmentScore_alignmentScore','TenX.HP2_amb_reason_alignmentScore_orientation','TenX.HP2_amb_reason_flanking','TenX.HP2_amb_reason_insertSizeScore_alignmentScore','TenX.HP2_amb_reason_insertSizeScore_insertSizeScore','TenX.HP2_amb_reason_multimapping','TenX.HP2_amb_reason_orientation_alignmentScore','TenX.HP2_amb_reason_orientation_insertSizeScore','TenX.HP2_amb_reason_orientation_orientation','TenX.HP2_amb_reason_same_scores','TenX.HP2_ref_alnScore_mean','TenX.HP2_ref_alnScore_std','TenX.HP2_ref_count','TenX.HP2_ref_insertSize_mean','TenX.HP2_ref_insertSize_std','TenX.HP2_ref_reason_alignmentScore','TenX.HP2_ref_reason_orientation','pacbio.alt_alnScore_mean','pacbio.alt_alnScore_std','pacbio.alt_count','pacbio.alt_insertSize_mean','pacbio.alt_insertSize_std','pacbio.alt_reason_alignmentScore','pacbio.amb_alnScore_mean','pacbio.amb_alnScore_std','pacbio.amb_count','pacbio.amb_insertSize_mean','pacbio.amb_insertSize_std','pacbio.amb_reason_alignmentScore_alignmentScore','pacbio.amb_reason_flanking','pacbio.amb_reason_multimapping','pacbio.amb_reason_same_scores','pacbio.ref_alnScore_mean','pacbio.ref_alnScore_std','pacbio.ref_count','pacbio.ref_insertSize_mean','pacbio.ref_insertSize_std','pacbio.ref_reason_alignmentScore','tandemrep_cnt','tandemrep_pct','segdup_cnt','segdup_pct','refN_cnt','refN_pct']"
   ]
  },
  {
   "cell_type": "code",
   "execution_count": 284,
   "metadata": {
    "collapsed": true
   },
   "outputs": [],
   "source": [
    "X2=X2[['Ill300x.alt_alnScore_mean','Ill300x.alt_alnScore_std','Ill300x.alt_count','Ill300x.alt_insertSize_mean','Ill300x.alt_insertSize_std','Ill300x.alt_reason_alignmentScore','Ill300x.alt_reason_insertSizeScore','Ill300x.alt_reason_orientation','Ill300x.amb_alnScore_mean','Ill300x.amb_alnScore_std','Ill300x.amb_count','Ill300x.amb_insertSize_mean','Ill300x.amb_insertSize_std','Ill300x.amb_reason_alignmentScore_alignmentScore','Ill300x.amb_reason_alignmentScore_orientation','Ill300x.amb_reason_flanking','Ill300x.amb_reason_insertSizeScore_alignmentScore','Ill300x.amb_reason_insertSizeScore_insertSizeScore','Ill300x.amb_reason_multimapping','Ill300x.amb_reason_orientation_alignmentScore','Ill300x.amb_reason_orientation_orientation','Ill300x.amb_reason_same_scores','Ill300x.ref_alnScore_mean','Ill300x.ref_alnScore_std','Ill300x.ref_count','Ill300x.ref_insertSize_mean','Ill300x.ref_insertSize_std','Ill300x.ref_reason_alignmentScore','Ill300x.ref_reason_insertSizeScore','Ill300x.ref_reason_orientation','Ill250.alt_alnScore_mean','Ill250.alt_alnScore_std','Ill250.alt_count','Ill250.alt_insertSize_mean','Ill250.alt_insertSize_std','Ill250.alt_reason_alignmentScore','Ill250.alt_reason_insertSizeScore','Ill250.alt_reason_orientation','Ill250.amb_alnScore_mean','Ill250.amb_alnScore_std','Ill250.amb_count','Ill250.amb_insertSize_mean','Ill250.amb_insertSize_std','Ill250.amb_reason_alignmentScore_alignmentScore','Ill250.amb_reason_alignmentScore_orientation','Ill250.amb_reason_flanking','Ill250.amb_reason_insertSizeScore_alignmentScore','Ill250.amb_reason_multimapping','Ill250.amb_reason_orientation_alignmentScore','Ill250.amb_reason_orientation_orientation','Ill250.amb_reason_same_scores','Ill250.ref_alnScore_mean','Ill250.ref_alnScore_std','Ill250.ref_count','Ill250.ref_insertSize_mean','Ill250.ref_insertSize_std','Ill250.ref_reason_alignmentScore','Ill250.ref_reason_orientation','IllMP.alt_alnScore_mean','IllMP.alt_alnScore_std','IllMP.alt_count','IllMP.alt_insertSize_mean','IllMP.alt_insertSize_std','IllMP.alt_reason_alignmentScore','IllMP.alt_reason_insertSizeScore','IllMP.alt_reason_orientation','IllMP.amb_alnScore_mean','IllMP.amb_alnScore_std','IllMP.amb_count','IllMP.amb_insertSize_mean','IllMP.amb_insertSize_std','IllMP.amb_reason_alignmentScore_alignmentScore','IllMP.amb_reason_alignmentScore_orientation','IllMP.amb_reason_flanking','IllMP.amb_reason_insertSizeScore_insertSizeScore','IllMP.amb_reason_multimapping','IllMP.amb_reason_orientation_alignmentScore','IllMP.amb_reason_orientation_orientation','IllMP.amb_reason_same_scores','IllMP.ref_alnScore_mean','IllMP.ref_alnScore_std','IllMP.ref_count','IllMP.ref_insertSize_mean','IllMP.ref_insertSize_std','IllMP.ref_reason_alignmentScore','IllMP.ref_reason_insertSizeScore','IllMP.ref_reason_orientation','pacbio.alt_alnScore_mean','pacbio.alt_alnScore_std','pacbio.alt_count','pacbio.alt_insertSize_mean','pacbio.alt_insertSize_std','pacbio.alt_reason_alignmentScore','pacbio.amb_alnScore_mean','pacbio.amb_alnScore_std','pacbio.amb_count','pacbio.amb_insertSize_mean','pacbio.amb_insertSize_std','pacbio.amb_reason_alignmentScore_alignmentScore','pacbio.amb_reason_flanking','pacbio.amb_reason_multimapping','pacbio.amb_reason_same_scores','pacbio.ref_alnScore_mean','pacbio.ref_alnScore_std','pacbio.ref_count','pacbio.ref_insertSize_mean','pacbio.ref_insertSize_std','pacbio.ref_reason_alignmentScore','TenX.HP1_alt_alnScore_mean','TenX.HP1_alt_alnScore_std','TenX.HP1_alt_count','TenX.HP1_alt_insertSize_mean','TenX.HP1_alt_insertSize_std','TenX.HP1_alt_reason_alignmentScore','TenX.HP1_alt_reason_insertSizeScore','TenX.HP1_alt_reason_orientation','TenX.HP1_amb_alnScore_mean','TenX.HP1_amb_alnScore_std','TenX.HP1_amb_count','TenX.HP1_amb_insertSize_mean','TenX.HP1_amb_insertSize_std','TenX.HP1_amb_reason_alignmentScore_alignmentScore','TenX.HP1_amb_reason_alignmentScore_orientation','TenX.HP1_amb_reason_flanking','TenX.HP1_amb_reason_insertSizeScore_alignmentScore','TenX.HP1_amb_reason_multimapping','TenX.HP1_amb_reason_orientation_alignmentScore','TenX.HP1_amb_reason_orientation_orientation','TenX.HP1_amb_reason_same_scores','TenX.HP1_ref_alnScore_mean','TenX.HP1_ref_alnScore_std','TenX.HP1_ref_count','TenX.HP1_ref_insertSize_mean','TenX.HP1_ref_insertSize_std','TenX.HP1_ref_reason_alignmentScore','TenX.HP1_ref_reason_orientation','TenX.HP2_alt_alnScore_mean','TenX.HP2_alt_alnScore_std','TenX.HP2_alt_count','TenX.HP2_alt_insertSize_mean','TenX.HP2_alt_insertSize_std','TenX.HP2_alt_reason_alignmentScore','TenX.HP2_alt_reason_insertSizeScore','TenX.HP2_alt_reason_orientation','TenX.HP2_amb_alnScore_mean','TenX.HP2_amb_alnScore_std','TenX.HP2_amb_count','TenX.HP2_amb_insertSize_mean','TenX.HP2_amb_insertSize_std','TenX.HP2_amb_reason_alignmentScore_alignmentScore','TenX.HP2_amb_reason_alignmentScore_orientation','TenX.HP2_amb_reason_flanking','TenX.HP2_amb_reason_insertSizeScore_alignmentScore','TenX.HP2_amb_reason_multimapping','TenX.HP2_amb_reason_orientation_alignmentScore','TenX.HP2_amb_reason_orientation_orientation','TenX.HP2_amb_reason_same_scores','TenX.HP2_ref_alnScore_mean','TenX.HP2_ref_alnScore_std','TenX.HP2_ref_count','TenX.HP2_ref_insertSize_mean','TenX.HP2_ref_insertSize_std','TenX.HP2_ref_reason_alignmentScore','TenX.HP2_ref_reason_orientation']]"
   ]
  },
  {
   "cell_type": "code",
   "execution_count": 285,
   "metadata": {
    "collapsed": false
   },
   "outputs": [
    {
     "data": {
      "text/plain": [
       "array([ 0.,  1.,  0., ...,  0.,  0.,  0.])"
      ]
     },
     "execution_count": 285,
     "metadata": {},
     "output_type": "execute_result"
    }
   ],
   "source": [
    "model.predict(X2)"
   ]
  },
  {
   "cell_type": "code",
   "execution_count": 286,
   "metadata": {
    "collapsed": false
   },
   "outputs": [
    {
     "name": "stderr",
     "output_type": "stream",
     "text": [
      "/Users/lmc2/anaconda/envs/NIHFAES/lib/python3.5/site-packages/ipykernel/__main__.py:1: SettingWithCopyWarning:\n",
      "\n",
      "\n",
      "A value is trying to be set on a copy of a slice from a DataFrame.\n",
      "Try using .loc[row_indexer,col_indexer] = value instead\n",
      "\n",
      "See the caveats in the documentation: http://pandas.pydata.org/pandas-docs/stable/indexing.html#indexing-view-versus-copy\n",
      "\n"
     ]
    }
   ],
   "source": [
    "X2['model_pred_label'] = model.predict(X2)"
   ]
  },
  {
   "cell_type": "code",
   "execution_count": 287,
   "metadata": {
    "collapsed": false
   },
   "outputs": [
    {
     "name": "stderr",
     "output_type": "stream",
     "text": [
      "/Users/lmc2/anaconda/envs/NIHFAES/lib/python3.5/site-packages/ipykernel/__main__.py:1: SettingWithCopyWarning:\n",
      "\n",
      "\n",
      "A value is trying to be set on a copy of a slice from a DataFrame.\n",
      "Try using .loc[row_indexer,col_indexer] = value instead\n",
      "\n",
      "See the caveats in the documentation: http://pandas.pydata.org/pandas-docs/stable/indexing.html#indexing-view-versus-copy\n",
      "\n"
     ]
    }
   ],
   "source": [
    "X2['GIAB_Crowd'] = HG002_pred_2['GIAB_Crowd']"
   ]
  },
  {
   "cell_type": "code",
   "execution_count": 294,
   "metadata": {
    "collapsed": true
   },
   "outputs": [],
   "source": [
    "#Import Data\n",
    "HG002_pred_min_1_1 = pd.read_csv('/Users/lmc2/NIST/Notebooks/CrowdVariant/svviz.Annotate.DEL.HG002_minus_one.csv')"
   ]
  },
  {
   "cell_type": "code",
   "execution_count": 295,
   "metadata": {
    "collapsed": false
   },
   "outputs": [],
   "source": [
    "HG002_pred_min_1_1['model_pred_label'] = X2['model_pred_label']"
   ]
  },
  {
   "cell_type": "code",
   "execution_count": 296,
   "metadata": {
    "collapsed": true
   },
   "outputs": [],
   "source": [
    "HG002_pred_min_1_1.to_csv('HG002_pred_min_1.csv', index=False)"
   ]
  },
  {
   "cell_type": "markdown",
   "metadata": {},
   "source": [
    "** Task **\n",
    "- Look at newly labeled data points (svviz images)\n",
    "- Formerly assigned GT ‘-1’, now assigned CrowdVar label\n",
    "\n",
    "    0 —> Hom Var\n",
    "    1 —> Het Var"
   ]
  }
 ],
 "metadata": {
  "anaconda-cloud": {},
  "kernelspec": {
   "display_name": "Python [NIHFAES]",
   "language": "python",
   "name": "Python [NIHFAES]"
  },
  "language_info": {
   "codemirror_mode": {
    "name": "ipython",
    "version": 3
   },
   "file_extension": ".py",
   "mimetype": "text/x-python",
   "name": "python",
   "nbconvert_exporter": "python",
   "pygments_lexer": "ipython3",
   "version": "3.5.2"
  }
 },
 "nbformat": 4,
 "nbformat_minor": 2
}
