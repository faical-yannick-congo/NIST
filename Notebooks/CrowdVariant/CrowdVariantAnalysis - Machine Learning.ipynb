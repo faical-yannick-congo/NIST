{
 "cells": [
  {
   "cell_type": "markdown",
   "metadata": {
    "collapsed": true
   },
   "source": [
    "### Crowdvariant Analysis - Machine Learning\n",
    "<br>\n",
    "\n",
    "**Summary**\n",
    "\n",
    "1. Data collection and data cleaning\n",
    "2. Data preprocessing\n",
    "3. Machine Learning analysis"
   ]
  },
  {
   "cell_type": "markdown",
   "metadata": {},
   "source": [
    "** Notes **\n",
    "\n",
    "- Gathered crowdsourced labels from the crowdvariant study\n",
    "- high confidence labels only available for HG002\n",
    "    - Are there other labels?\n",
    "- All deletions\n",
    "- 1514 data points total\n",
    "    - 552 Heterozygous Variant (CrowdVar Label = 1)  [Confidence: >=84%]\n",
    "    - 959 Homozygous Variant (CrowdVar Label = 0)    [Confidence: >=84%]\n",
    "    - 3   Homozygous Reference (CrowdVar Label = 2)  [Confidence: >=91%]\n",
    "    - 1   Unknown"
   ]
  },
  {
   "cell_type": "markdown",
   "metadata": {},
   "source": [
    "***\n",
    "Data \n",
    "***"
   ]
  },
  {
   "cell_type": "markdown",
   "metadata": {},
   "source": [
    "**Train/Test Data**\n",
    "\n",
    "- CrowdVariant Data - cleaned and parsed in Part 1\n",
    "\n",
    "\n",
    "\n",
    "** Prediction Dataset **\n",
    "\n",
    "- HG002 Deletions\n",
    "- Randomly selected datapoints (Try 1) April 2017"
   ]
  },
  {
   "cell_type": "markdown",
   "metadata": {},
   "source": [
    "***\n",
    "Data Preprocessing\n",
    "***"
   ]
  },
  {
   "cell_type": "markdown",
   "metadata": {},
   "source": [
    "- Drop columns with labels\n",
    "    \n",
    "    'GTcons', 'GTconflict',\t'GTsupp', 'CN0_prob', 'CN1_prob', 'CN2_prob', 'Label', 'TenX.GT', 'pacbio.GT', 'IllMP.GT', 'Ill250.GT', 'Ill300x.GT'\n",
    "\n",
    "\n",
    "\n",
    "- Drop irrelevant columns\n",
    "    \n",
    "    'chrom', 'start', 'end', 'sample'\n"
   ]
  },
  {
   "cell_type": "markdown",
   "metadata": {},
   "source": [
    "***\n",
    "Machine Learning\n",
    "***\n",
    "\n",
    "Train machine learning classifier with labeled CrowdVariant Data"
   ]
  },
  {
   "cell_type": "code",
   "execution_count": 1,
   "metadata": {},
   "outputs": [
    {
     "name": "stderr",
     "output_type": "stream",
     "text": [
      "/Users/lmc2/anaconda/envs/NIHFAES/lib/python3.5/site-packages/sklearn/cross_validation.py:44: DeprecationWarning:\n",
      "\n",
      "This module was deprecated in version 0.18 in favor of the model_selection module into which all the refactored classes and functions are moved. Also note that the interface of the new CV iterators are different from that of this module. This module will be removed in 0.20.\n",
      "\n",
      "/Users/lmc2/anaconda/envs/NIHFAES/lib/python3.5/site-packages/sklearn/grid_search.py:43: DeprecationWarning:\n",
      "\n",
      "This module was deprecated in version 0.18 in favor of the model_selection module into which all the refactored classes and functions are moved. This module will be removed in 0.20.\n",
      "\n"
     ]
    }
   ],
   "source": [
    "\"\"\"\n",
    "Imports\n",
    "\"\"\"\n",
    "import pandas as pd\n",
    "import numpy as np\n",
    "from fancyimpute import KNN\n",
    "import matplotlib.pyplot as plt\n",
    "from sklearn import preprocessing\n",
    "from sklearn.preprocessing import LabelEncoder\n",
    "from sklearn.model_selection import LeaveOneOut\n",
    "from scipy.stats import ks_2samp\n",
    "from scipy import stats\n",
    "from matplotlib import pyplot\n",
    "from sklearn import preprocessing\n",
    "from scipy.linalg import svd\n",
    "from sklearn.decomposition import TruncatedSVD\n",
    "import sqlite3\n",
    "from sklearn.ensemble import RandomForestClassifier\n",
    "from sklearn.metrics import roc_auc_score\n",
    "import seaborn as sns\n",
    "from sklearn.manifold import TSNE\n",
    "from sklearn.decomposition import PCA as sklearnPCA\n",
    "import plotly.plotly as py\n",
    "from sklearn.cluster import DBSCAN\n",
    "from sklearn.model_selection import train_test_split\n",
    "from sklearn import metrics\n",
    "from sklearn.grid_search import GridSearchCV\n",
    "from sklearn.metrics import f1_score, precision_score\n",
    "from sklearn import preprocessing\n",
    "from ggplot import *\n",
    "from bokeh.charts import TimeSeries\n",
    "from bokeh.models import HoverTool\n",
    "from bokeh.plotting import show\n",
    "from bokeh.charts import Scatter, Histogram, output_file, show\n",
    "from bokeh.plotting import figure, show, output_file, ColumnDataSource\n",
    "from bokeh.io import output_notebook\n",
    "from bokeh.charts import Bar, output_file, show\n",
    "import bokeh.palettes as palettes\n",
    "from bokeh.models import HoverTool, BoxSelectTool, Legend\n",
    "from sklearn import (manifold, datasets, decomposition, ensemble,\n",
    "                     discriminant_analysis, random_projection)"
   ]
  },
  {
   "cell_type": "code",
   "execution_count": 2,
   "metadata": {
    "collapsed": true
   },
   "outputs": [],
   "source": [
    "### Import Data\n",
    "df_crowd = pd.read_csv('/Users/lmc2/NIST/Notebooks/CrowdVariant/Train/Final_DF/CrowdVar.Train_HG002.csv')"
   ]
  },
  {
   "cell_type": "code",
   "execution_count": 3,
   "metadata": {},
   "outputs": [
    {
     "data": {
      "text/html": [
       "<div>\n",
       "<table border=\"1\" class=\"dataframe\">\n",
       "  <thead>\n",
       "    <tr style=\"text-align: right;\">\n",
       "      <th></th>\n",
       "      <th>chrom</th>\n",
       "      <th>start</th>\n",
       "      <th>end</th>\n",
       "      <th>sample</th>\n",
       "      <th>Ill300x.alt_alnScore_mean</th>\n",
       "      <th>Ill300x.alt_alnScore_std</th>\n",
       "      <th>Ill300x.alt_count</th>\n",
       "      <th>Ill300x.alt_insertSize_mean</th>\n",
       "      <th>Ill300x.alt_insertSize_std</th>\n",
       "      <th>Ill300x.alt_reason_alignmentScore</th>\n",
       "      <th>...</th>\n",
       "      <th>tandemrep_cnt</th>\n",
       "      <th>tandemrep_pct</th>\n",
       "      <th>segdup_cnt</th>\n",
       "      <th>segdup_pct</th>\n",
       "      <th>refN_cnt</th>\n",
       "      <th>refN_pct</th>\n",
       "      <th>Label</th>\n",
       "      <th>CN0_prob</th>\n",
       "      <th>CN1_prob</th>\n",
       "      <th>CN2_prob</th>\n",
       "    </tr>\n",
       "  </thead>\n",
       "  <tbody>\n",
       "    <tr>\n",
       "      <th>0</th>\n",
       "      <td>1</td>\n",
       "      <td>187464828</td>\n",
       "      <td>187466479</td>\n",
       "      <td>HG002</td>\n",
       "      <td>579.446154</td>\n",
       "      <td>17.934094</td>\n",
       "      <td>65.0</td>\n",
       "      <td>756.430769</td>\n",
       "      <td>163.879409</td>\n",
       "      <td>0.0</td>\n",
       "      <td>...</td>\n",
       "      <td>8</td>\n",
       "      <td>0.096911</td>\n",
       "      <td>0</td>\n",
       "      <td>0.0</td>\n",
       "      <td>0</td>\n",
       "      <td>0</td>\n",
       "      <td>1.0</td>\n",
       "      <td>0.00</td>\n",
       "      <td>0.91</td>\n",
       "      <td>0.09</td>\n",
       "    </tr>\n",
       "    <tr>\n",
       "      <th>1</th>\n",
       "      <td>1</td>\n",
       "      <td>33156824</td>\n",
       "      <td>33157000</td>\n",
       "      <td>HG002</td>\n",
       "      <td>557.000000</td>\n",
       "      <td>20.665840</td>\n",
       "      <td>13.0</td>\n",
       "      <td>1158.307692</td>\n",
       "      <td>134.247982</td>\n",
       "      <td>0.0</td>\n",
       "      <td>...</td>\n",
       "      <td>2</td>\n",
       "      <td>0.221591</td>\n",
       "      <td>0</td>\n",
       "      <td>0.0</td>\n",
       "      <td>0</td>\n",
       "      <td>0</td>\n",
       "      <td>1.0</td>\n",
       "      <td>0.04</td>\n",
       "      <td>0.91</td>\n",
       "      <td>0.05</td>\n",
       "    </tr>\n",
       "    <tr>\n",
       "      <th>2</th>\n",
       "      <td>1</td>\n",
       "      <td>53594099</td>\n",
       "      <td>53595428</td>\n",
       "      <td>HG002</td>\n",
       "      <td>574.335366</td>\n",
       "      <td>18.613946</td>\n",
       "      <td>164.0</td>\n",
       "      <td>678.518293</td>\n",
       "      <td>139.056203</td>\n",
       "      <td>31.0</td>\n",
       "      <td>...</td>\n",
       "      <td>3</td>\n",
       "      <td>0.059443</td>\n",
       "      <td>0</td>\n",
       "      <td>0.0</td>\n",
       "      <td>0</td>\n",
       "      <td>0</td>\n",
       "      <td>0.0</td>\n",
       "      <td>0.96</td>\n",
       "      <td>0.04</td>\n",
       "      <td>0.00</td>\n",
       "    </tr>\n",
       "  </tbody>\n",
       "</table>\n",
       "<p>3 rows × 188 columns</p>\n",
       "</div>"
      ],
      "text/plain": [
       "   chrom      start        end sample  Ill300x.alt_alnScore_mean  \\\n",
       "0      1  187464828  187466479  HG002                 579.446154   \n",
       "1      1   33156824   33157000  HG002                 557.000000   \n",
       "2      1   53594099   53595428  HG002                 574.335366   \n",
       "\n",
       "   Ill300x.alt_alnScore_std  Ill300x.alt_count  Ill300x.alt_insertSize_mean  \\\n",
       "0                 17.934094               65.0                   756.430769   \n",
       "1                 20.665840               13.0                  1158.307692   \n",
       "2                 18.613946              164.0                   678.518293   \n",
       "\n",
       "   Ill300x.alt_insertSize_std  Ill300x.alt_reason_alignmentScore    ...     \\\n",
       "0                  163.879409                                0.0    ...      \n",
       "1                  134.247982                                0.0    ...      \n",
       "2                  139.056203                               31.0    ...      \n",
       "\n",
       "   tandemrep_cnt  tandemrep_pct  segdup_cnt  segdup_pct  refN_cnt  refN_pct  \\\n",
       "0              8       0.096911           0         0.0         0         0   \n",
       "1              2       0.221591           0         0.0         0         0   \n",
       "2              3       0.059443           0         0.0         0         0   \n",
       "\n",
       "   Label  CN0_prob  CN1_prob  CN2_prob  \n",
       "0    1.0      0.00      0.91      0.09  \n",
       "1    1.0      0.04      0.91      0.05  \n",
       "2    0.0      0.96      0.04      0.00  \n",
       "\n",
       "[3 rows x 188 columns]"
      ]
     },
     "execution_count": 3,
     "metadata": {},
     "output_type": "execute_result"
    }
   ],
   "source": [
    "df_crowd.head(3)"
   ]
  },
  {
   "cell_type": "code",
   "execution_count": 4,
   "metadata": {
    "collapsed": true
   },
   "outputs": [],
   "source": [
    "### Drop irrelevant columns\n",
    "df_crowd.drop(['GTcons'], axis=1, inplace = True)\n",
    "df_crowd.drop(['GTconflict'], axis=1, inplace = True)\n",
    "df_crowd.drop(['GTsupp'], axis=1, inplace = True)\n",
    "# df_crowd.drop('SVtype', axis=1)\n",
    "# df_crowd.drop('type',axis=1)\n",
    "df_crowd.drop(['start'],axis=1, inplace = True)\n",
    "df_crowd.drop(['end'],axis=1, inplace = True)\n",
    "df_crowd.drop(['chrom'],axis=1, inplace = True)\n",
    "# df_crowd.drop('Size',axis=1)\n",
    "df_crowd.drop(['CN0_prob'],axis=1, inplace = True)\n",
    "df_crowd.drop(['CN1_prob'],axis=1, inplace = True)\n",
    "df_crowd.drop(['CN2_prob'],axis=1, inplace = True)\n",
    "df_crowd.drop(['TenX.GT'],axis=1, inplace = True)\n",
    "df_crowd.drop(['pacbio.GT'],axis=1, inplace = True)\n",
    "df_crowd.drop(['IllMP.GT'],axis=1, inplace = True)\n",
    "df_crowd.drop(['Ill250.GT'],axis=1, inplace = True)\n",
    "df_crowd.drop(['Ill300x.GT'],axis=1, inplace = True)\n",
    "df_crowd.drop(['sample'],axis=1, inplace = True)"
   ]
  },
  {
   "cell_type": "code",
   "execution_count": 5,
   "metadata": {
    "collapsed": true
   },
   "outputs": [],
   "source": [
    "df_crowd.to_csv('df_crowd_headers.csv', index=False)"
   ]
  },
  {
   "cell_type": "code",
   "execution_count": 6,
   "metadata": {},
   "outputs": [
    {
     "data": {
      "text/html": [
       "<div>\n",
       "<table border=\"1\" class=\"dataframe\">\n",
       "  <thead>\n",
       "    <tr style=\"text-align: right;\">\n",
       "      <th></th>\n",
       "      <th>Ill300x.alt_alnScore_mean</th>\n",
       "      <th>Ill300x.alt_alnScore_std</th>\n",
       "      <th>Ill300x.alt_count</th>\n",
       "      <th>Ill300x.alt_insertSize_mean</th>\n",
       "      <th>Ill300x.alt_insertSize_std</th>\n",
       "      <th>Ill300x.alt_reason_alignmentScore</th>\n",
       "      <th>Ill300x.alt_reason_insertSizeScore</th>\n",
       "      <th>Ill300x.alt_reason_orientation</th>\n",
       "      <th>Ill300x.amb_alnScore_mean</th>\n",
       "      <th>Ill300x.amb_alnScore_std</th>\n",
       "      <th>...</th>\n",
       "      <th>TenX.HP2_ref_reason_alignmentScore</th>\n",
       "      <th>TenX.HP2_ref_reason_orientation</th>\n",
       "      <th>size</th>\n",
       "      <th>tandemrep_cnt</th>\n",
       "      <th>tandemrep_pct</th>\n",
       "      <th>segdup_cnt</th>\n",
       "      <th>segdup_pct</th>\n",
       "      <th>refN_cnt</th>\n",
       "      <th>refN_pct</th>\n",
       "      <th>Label</th>\n",
       "    </tr>\n",
       "  </thead>\n",
       "  <tbody>\n",
       "    <tr>\n",
       "      <th>0</th>\n",
       "      <td>579.446154</td>\n",
       "      <td>17.934094</td>\n",
       "      <td>65.0</td>\n",
       "      <td>756.430769</td>\n",
       "      <td>163.879409</td>\n",
       "      <td>0.0</td>\n",
       "      <td>65.0</td>\n",
       "      <td>0.0</td>\n",
       "      <td>526.250785</td>\n",
       "      <td>88.797088</td>\n",
       "      <td>...</td>\n",
       "      <td>2.0</td>\n",
       "      <td>0.0</td>\n",
       "      <td>1651</td>\n",
       "      <td>8</td>\n",
       "      <td>0.096911</td>\n",
       "      <td>0</td>\n",
       "      <td>0.0</td>\n",
       "      <td>0</td>\n",
       "      <td>0</td>\n",
       "      <td>1.0</td>\n",
       "    </tr>\n",
       "    <tr>\n",
       "      <th>1</th>\n",
       "      <td>557.000000</td>\n",
       "      <td>20.665840</td>\n",
       "      <td>13.0</td>\n",
       "      <td>1158.307692</td>\n",
       "      <td>134.247982</td>\n",
       "      <td>0.0</td>\n",
       "      <td>13.0</td>\n",
       "      <td>0.0</td>\n",
       "      <td>545.050452</td>\n",
       "      <td>62.371767</td>\n",
       "      <td>...</td>\n",
       "      <td>12.0</td>\n",
       "      <td>0.0</td>\n",
       "      <td>176</td>\n",
       "      <td>2</td>\n",
       "      <td>0.221591</td>\n",
       "      <td>0</td>\n",
       "      <td>0.0</td>\n",
       "      <td>0</td>\n",
       "      <td>0</td>\n",
       "      <td>1.0</td>\n",
       "    </tr>\n",
       "    <tr>\n",
       "      <th>2</th>\n",
       "      <td>574.335366</td>\n",
       "      <td>18.613946</td>\n",
       "      <td>164.0</td>\n",
       "      <td>678.518293</td>\n",
       "      <td>139.056203</td>\n",
       "      <td>31.0</td>\n",
       "      <td>133.0</td>\n",
       "      <td>0.0</td>\n",
       "      <td>518.296740</td>\n",
       "      <td>91.633718</td>\n",
       "      <td>...</td>\n",
       "      <td>3.0</td>\n",
       "      <td>0.0</td>\n",
       "      <td>1329</td>\n",
       "      <td>3</td>\n",
       "      <td>0.059443</td>\n",
       "      <td>0</td>\n",
       "      <td>0.0</td>\n",
       "      <td>0</td>\n",
       "      <td>0</td>\n",
       "      <td>0.0</td>\n",
       "    </tr>\n",
       "  </tbody>\n",
       "</table>\n",
       "<p>3 rows × 173 columns</p>\n",
       "</div>"
      ],
      "text/plain": [
       "   Ill300x.alt_alnScore_mean  Ill300x.alt_alnScore_std  Ill300x.alt_count  \\\n",
       "0                 579.446154                 17.934094               65.0   \n",
       "1                 557.000000                 20.665840               13.0   \n",
       "2                 574.335366                 18.613946              164.0   \n",
       "\n",
       "   Ill300x.alt_insertSize_mean  Ill300x.alt_insertSize_std  \\\n",
       "0                   756.430769                  163.879409   \n",
       "1                  1158.307692                  134.247982   \n",
       "2                   678.518293                  139.056203   \n",
       "\n",
       "   Ill300x.alt_reason_alignmentScore  Ill300x.alt_reason_insertSizeScore  \\\n",
       "0                                0.0                                65.0   \n",
       "1                                0.0                                13.0   \n",
       "2                               31.0                               133.0   \n",
       "\n",
       "   Ill300x.alt_reason_orientation  Ill300x.amb_alnScore_mean  \\\n",
       "0                             0.0                 526.250785   \n",
       "1                             0.0                 545.050452   \n",
       "2                             0.0                 518.296740   \n",
       "\n",
       "   Ill300x.amb_alnScore_std  ...    TenX.HP2_ref_reason_alignmentScore  \\\n",
       "0                 88.797088  ...                                   2.0   \n",
       "1                 62.371767  ...                                  12.0   \n",
       "2                 91.633718  ...                                   3.0   \n",
       "\n",
       "   TenX.HP2_ref_reason_orientation  size  tandemrep_cnt  tandemrep_pct  \\\n",
       "0                              0.0  1651              8       0.096911   \n",
       "1                              0.0   176              2       0.221591   \n",
       "2                              0.0  1329              3       0.059443   \n",
       "\n",
       "   segdup_cnt  segdup_pct  refN_cnt  refN_pct  Label  \n",
       "0           0         0.0         0         0    1.0  \n",
       "1           0         0.0         0         0    1.0  \n",
       "2           0         0.0         0         0    0.0  \n",
       "\n",
       "[3 rows x 173 columns]"
      ]
     },
     "execution_count": 6,
     "metadata": {},
     "output_type": "execute_result"
    }
   ],
   "source": [
    "df_crowd.head(3)"
   ]
  },
  {
   "cell_type": "code",
   "execution_count": 7,
   "metadata": {
    "collapsed": true
   },
   "outputs": [],
   "source": [
    "# Store data in a new variable which will be converted to a matrix\n",
    "X = df_crowd"
   ]
  },
  {
   "cell_type": "code",
   "execution_count": 8,
   "metadata": {},
   "outputs": [
    {
     "data": {
      "text/html": [
       "<div>\n",
       "<table border=\"1\" class=\"dataframe\">\n",
       "  <thead>\n",
       "    <tr style=\"text-align: right;\">\n",
       "      <th></th>\n",
       "      <th>Ill300x.alt_alnScore_mean</th>\n",
       "      <th>Ill300x.alt_alnScore_std</th>\n",
       "      <th>Ill300x.alt_count</th>\n",
       "      <th>Ill300x.alt_insertSize_mean</th>\n",
       "      <th>Ill300x.alt_insertSize_std</th>\n",
       "      <th>Ill300x.alt_reason_alignmentScore</th>\n",
       "      <th>Ill300x.alt_reason_insertSizeScore</th>\n",
       "      <th>Ill300x.alt_reason_orientation</th>\n",
       "      <th>Ill300x.amb_alnScore_mean</th>\n",
       "      <th>Ill300x.amb_alnScore_std</th>\n",
       "      <th>...</th>\n",
       "      <th>TenX.HP2_ref_reason_alignmentScore</th>\n",
       "      <th>TenX.HP2_ref_reason_orientation</th>\n",
       "      <th>size</th>\n",
       "      <th>tandemrep_cnt</th>\n",
       "      <th>tandemrep_pct</th>\n",
       "      <th>segdup_cnt</th>\n",
       "      <th>segdup_pct</th>\n",
       "      <th>refN_cnt</th>\n",
       "      <th>refN_pct</th>\n",
       "      <th>Label</th>\n",
       "    </tr>\n",
       "  </thead>\n",
       "  <tbody>\n",
       "    <tr>\n",
       "      <th>0</th>\n",
       "      <td>579.446154</td>\n",
       "      <td>17.934094</td>\n",
       "      <td>65.0</td>\n",
       "      <td>756.430769</td>\n",
       "      <td>163.879409</td>\n",
       "      <td>0.0</td>\n",
       "      <td>65.0</td>\n",
       "      <td>0.0</td>\n",
       "      <td>526.250785</td>\n",
       "      <td>88.797088</td>\n",
       "      <td>...</td>\n",
       "      <td>2.0</td>\n",
       "      <td>0.0</td>\n",
       "      <td>1651</td>\n",
       "      <td>8</td>\n",
       "      <td>0.096911</td>\n",
       "      <td>0</td>\n",
       "      <td>0.0</td>\n",
       "      <td>0</td>\n",
       "      <td>0</td>\n",
       "      <td>1.0</td>\n",
       "    </tr>\n",
       "    <tr>\n",
       "      <th>1</th>\n",
       "      <td>557.000000</td>\n",
       "      <td>20.665840</td>\n",
       "      <td>13.0</td>\n",
       "      <td>1158.307692</td>\n",
       "      <td>134.247982</td>\n",
       "      <td>0.0</td>\n",
       "      <td>13.0</td>\n",
       "      <td>0.0</td>\n",
       "      <td>545.050452</td>\n",
       "      <td>62.371767</td>\n",
       "      <td>...</td>\n",
       "      <td>12.0</td>\n",
       "      <td>0.0</td>\n",
       "      <td>176</td>\n",
       "      <td>2</td>\n",
       "      <td>0.221591</td>\n",
       "      <td>0</td>\n",
       "      <td>0.0</td>\n",
       "      <td>0</td>\n",
       "      <td>0</td>\n",
       "      <td>1.0</td>\n",
       "    </tr>\n",
       "    <tr>\n",
       "      <th>2</th>\n",
       "      <td>574.335366</td>\n",
       "      <td>18.613946</td>\n",
       "      <td>164.0</td>\n",
       "      <td>678.518293</td>\n",
       "      <td>139.056203</td>\n",
       "      <td>31.0</td>\n",
       "      <td>133.0</td>\n",
       "      <td>0.0</td>\n",
       "      <td>518.296740</td>\n",
       "      <td>91.633718</td>\n",
       "      <td>...</td>\n",
       "      <td>3.0</td>\n",
       "      <td>0.0</td>\n",
       "      <td>1329</td>\n",
       "      <td>3</td>\n",
       "      <td>0.059443</td>\n",
       "      <td>0</td>\n",
       "      <td>0.0</td>\n",
       "      <td>0</td>\n",
       "      <td>0</td>\n",
       "      <td>0.0</td>\n",
       "    </tr>\n",
       "  </tbody>\n",
       "</table>\n",
       "<p>3 rows × 173 columns</p>\n",
       "</div>"
      ],
      "text/plain": [
       "   Ill300x.alt_alnScore_mean  Ill300x.alt_alnScore_std  Ill300x.alt_count  \\\n",
       "0                 579.446154                 17.934094               65.0   \n",
       "1                 557.000000                 20.665840               13.0   \n",
       "2                 574.335366                 18.613946              164.0   \n",
       "\n",
       "   Ill300x.alt_insertSize_mean  Ill300x.alt_insertSize_std  \\\n",
       "0                   756.430769                  163.879409   \n",
       "1                  1158.307692                  134.247982   \n",
       "2                   678.518293                  139.056203   \n",
       "\n",
       "   Ill300x.alt_reason_alignmentScore  Ill300x.alt_reason_insertSizeScore  \\\n",
       "0                                0.0                                65.0   \n",
       "1                                0.0                                13.0   \n",
       "2                               31.0                               133.0   \n",
       "\n",
       "   Ill300x.alt_reason_orientation  Ill300x.amb_alnScore_mean  \\\n",
       "0                             0.0                 526.250785   \n",
       "1                             0.0                 545.050452   \n",
       "2                             0.0                 518.296740   \n",
       "\n",
       "   Ill300x.amb_alnScore_std  ...    TenX.HP2_ref_reason_alignmentScore  \\\n",
       "0                 88.797088  ...                                   2.0   \n",
       "1                 62.371767  ...                                  12.0   \n",
       "2                 91.633718  ...                                   3.0   \n",
       "\n",
       "   TenX.HP2_ref_reason_orientation  size  tandemrep_cnt  tandemrep_pct  \\\n",
       "0                              0.0  1651              8       0.096911   \n",
       "1                              0.0   176              2       0.221591   \n",
       "2                              0.0  1329              3       0.059443   \n",
       "\n",
       "   segdup_cnt  segdup_pct  refN_cnt  refN_pct  Label  \n",
       "0           0         0.0         0         0    1.0  \n",
       "1           0         0.0         0         0    1.0  \n",
       "2           0         0.0         0         0    0.0  \n",
       "\n",
       "[3 rows x 173 columns]"
      ]
     },
     "execution_count": 8,
     "metadata": {},
     "output_type": "execute_result"
    }
   ],
   "source": [
    "X.head(3)"
   ]
  },
  {
   "cell_type": "markdown",
   "metadata": {},
   "source": [
    "** Impute missing values using KNN **\n",
    "\n",
    "Used 3 of the nearest neighbors to impute missing values"
   ]
  },
  {
   "cell_type": "code",
   "execution_count": 9,
   "metadata": {
    "scrolled": true
   },
   "outputs": [
    {
     "name": "stdout",
     "output_type": "stream",
     "text": [
      "Imputing row 1/1515 with 0 missing, elapsed time: 1.690\n",
      "Imputing row 101/1515 with 0 missing, elapsed time: 1.788\n",
      "Imputing row 201/1515 with 0 missing, elapsed time: 1.790\n",
      "Imputing row 301/1515 with 0 missing, elapsed time: 1.793\n",
      "Imputing row 401/1515 with 0 missing, elapsed time: 1.798\n",
      "Imputing row 501/1515 with 0 missing, elapsed time: 1.799\n",
      "Imputing row 601/1515 with 0 missing, elapsed time: 1.801\n",
      "Imputing row 701/1515 with 0 missing, elapsed time: 1.802\n",
      "Imputing row 801/1515 with 0 missing, elapsed time: 1.803\n",
      "Imputing row 901/1515 with 0 missing, elapsed time: 1.804\n",
      "Imputing row 1001/1515 with 0 missing, elapsed time: 1.804\n",
      "Imputing row 1101/1515 with 0 missing, elapsed time: 1.809\n",
      "Imputing row 1201/1515 with 0 missing, elapsed time: 1.810\n",
      "Imputing row 1301/1515 with 0 missing, elapsed time: 1.811\n",
      "Imputing row 1401/1515 with 0 missing, elapsed time: 1.811\n",
      "Imputing row 1501/1515 with 0 missing, elapsed time: 1.812\n"
     ]
    }
   ],
   "source": [
    "# Convert dataframe to matrix\n",
    "X=X.as_matrix()\n",
    "\n",
    "#Imput missing values from three closest observations\n",
    "X_imputed=KNN(k=3).complete(X)\n",
    "X=pd.DataFrame(X_imputed)"
   ]
  },
  {
   "cell_type": "code",
   "execution_count": 10,
   "metadata": {
    "collapsed": true
   },
   "outputs": [],
   "source": [
    "X.columns=['Ill300x.alt_alnScore_mean','Ill300x.alt_alnScore_std','Ill300x.alt_count','Ill300x.alt_insertSize_mean','Ill300x.alt_insertSize_std','Ill300x.alt_reason_alignmentScore','Ill300x.alt_reason_insertSizeScore','Ill300x.alt_reason_orientation','Ill300x.amb_alnScore_mean','Ill300x.amb_alnScore_std','Ill300x.amb_count','Ill300x.amb_insertSize_mean','Ill300x.amb_insertSize_std','Ill300x.amb_reason_alignmentScore_alignmentScore','Ill300x.amb_reason_alignmentScore_orientation','Ill300x.amb_reason_flanking','Ill300x.amb_reason_insertSizeScore_alignmentScore','Ill300x.amb_reason_insertSizeScore_insertSizeScore','Ill300x.amb_reason_multimapping','Ill300x.amb_reason_orientation_alignmentScore','Ill300x.amb_reason_orientation_orientation','Ill300x.amb_reason_same_scores','Ill300x.ref_alnScore_mean','Ill300x.ref_alnScore_std','Ill300x.ref_count','Ill300x.ref_insertSize_mean','Ill300x.ref_insertSize_std','Ill300x.ref_reason_alignmentScore','Ill300x.ref_reason_insertSizeScore','Ill300x.ref_reason_orientation','Ill250.alt_alnScore_mean','Ill250.alt_alnScore_std','Ill250.alt_count','Ill250.alt_insertSize_mean','Ill250.alt_insertSize_std','Ill250.alt_reason_alignmentScore','Ill250.alt_reason_insertSizeScore','Ill250.alt_reason_orientation','Ill250.amb_alnScore_mean','Ill250.amb_alnScore_std','Ill250.amb_count','Ill250.amb_insertSize_mean','Ill250.amb_insertSize_std','Ill250.amb_reason_alignmentScore_alignmentScore','Ill250.amb_reason_alignmentScore_orientation','Ill250.amb_reason_flanking','Ill250.amb_reason_insertSizeScore_alignmentScore','Ill250.amb_reason_insertSizeScore_insertSizeScore','Ill250.amb_reason_multimapping','Ill250.amb_reason_orientation_alignmentScore','Ill250.amb_reason_orientation_orientation','Ill250.amb_reason_same_scores','Ill250.ref_alnScore_mean','Ill250.ref_alnScore_std','Ill250.ref_count','Ill250.ref_insertSize_mean','Ill250.ref_insertSize_std','Ill250.ref_reason_alignmentScore','Ill250.ref_reason_orientation','IllMP.alt_alnScore_mean','IllMP.alt_alnScore_std','IllMP.alt_count','IllMP.alt_insertSize_mean','IllMP.alt_insertSize_std','IllMP.alt_reason_alignmentScore','IllMP.alt_reason_insertSizeScore','IllMP.alt_reason_orientation','IllMP.amb_alnScore_mean','IllMP.amb_alnScore_std','IllMP.amb_count','IllMP.amb_insertSize_mean','IllMP.amb_insertSize_std','IllMP.amb_reason_alignmentScore_alignmentScore','IllMP.amb_reason_alignmentScore_orientation','IllMP.amb_reason_flanking','IllMP.amb_reason_insertSizeScore_insertSizeScore','IllMP.amb_reason_multimapping','IllMP.amb_reason_orientation_alignmentScore','IllMP.amb_reason_orientation_orientation','IllMP.amb_reason_same_scores','IllMP.ref_alnScore_mean','IllMP.ref_alnScore_std','IllMP.ref_count','IllMP.ref_insertSize_mean','IllMP.ref_insertSize_std','IllMP.ref_reason_alignmentScore','IllMP.ref_reason_insertSizeScore','IllMP.ref_reason_orientation','pacbio.alt_alnScore_mean','pacbio.alt_alnScore_std','pacbio.alt_count','pacbio.alt_insertSize_mean','pacbio.alt_insertSize_std','pacbio.alt_reason_alignmentScore','pacbio.amb_alnScore_mean','pacbio.amb_alnScore_std','pacbio.amb_count','pacbio.amb_insertSize_mean','pacbio.amb_insertSize_std','pacbio.amb_reason_alignmentScore_alignmentScore','pacbio.amb_reason_flanking','pacbio.amb_reason_multimapping','pacbio.amb_reason_same_scores','pacbio.ref_alnScore_mean','pacbio.ref_alnScore_std','pacbio.ref_count','pacbio.ref_insertSize_mean','pacbio.ref_insertSize_std','pacbio.ref_reason_alignmentScore','TenX.HP1_alt_alnScore_mean','TenX.HP1_alt_alnScore_std','TenX.HP1_alt_count','TenX.HP1_alt_insertSize_mean','TenX.HP1_alt_insertSize_std','TenX.HP1_alt_reason_alignmentScore','TenX.HP1_alt_reason_insertSizeScore','TenX.HP1_alt_reason_orientation','TenX.HP1_amb_alnScore_mean','TenX.HP1_amb_alnScore_std','TenX.HP1_amb_count','TenX.HP1_amb_insertSize_mean','TenX.HP1_amb_insertSize_std','TenX.HP1_amb_reason_alignmentScore_alignmentScore','TenX.HP1_amb_reason_alignmentScore_orientation','TenX.HP1_amb_reason_flanking','TenX.HP1_amb_reason_insertSizeScore_alignmentScore','TenX.HP1_amb_reason_multimapping','TenX.HP1_amb_reason_orientation_alignmentScore','TenX.HP1_amb_reason_orientation_orientation','TenX.HP1_amb_reason_same_scores','TenX.HP1_ref_alnScore_mean','TenX.HP1_ref_alnScore_std','TenX.HP1_ref_count','TenX.HP1_ref_insertSize_mean','TenX.HP1_ref_insertSize_std','TenX.HP1_ref_reason_alignmentScore','TenX.HP1_ref_reason_orientation','TenX.HP2_alt_alnScore_mean','TenX.HP2_alt_alnScore_std','TenX.HP2_alt_count','TenX.HP2_alt_insertSize_mean','TenX.HP2_alt_insertSize_std','TenX.HP2_alt_reason_alignmentScore','TenX.HP2_alt_reason_insertSizeScore','TenX.HP2_alt_reason_orientation','TenX.HP2_amb_alnScore_mean','TenX.HP2_amb_alnScore_std','TenX.HP2_amb_count','TenX.HP2_amb_insertSize_mean','TenX.HP2_amb_insertSize_std','TenX.HP2_amb_reason_alignmentScore_alignmentScore','TenX.HP2_amb_reason_alignmentScore_orientation','TenX.HP2_amb_reason_flanking','TenX.HP2_amb_reason_insertSizeScore_alignmentScore','TenX.HP2_amb_reason_multimapping','TenX.HP2_amb_reason_orientation_alignmentScore','TenX.HP2_amb_reason_orientation_orientation','TenX.HP2_amb_reason_same_scores','TenX.HP2_ref_alnScore_mean','TenX.HP2_ref_alnScore_std','TenX.HP2_ref_count','TenX.HP2_ref_insertSize_mean','TenX.HP2_ref_insertSize_std','TenX.HP2_ref_reason_alignmentScore','TenX.HP2_ref_reason_orientation','size','tandemrep_cnt','tandemrep_pct','segdup_cnt','segdup_pct','refN_cnt','refN_pct','Label']"
   ]
  },
  {
   "cell_type": "code",
   "execution_count": 11,
   "metadata": {
    "collapsed": true
   },
   "outputs": [],
   "source": [
    "# Add headers to the data frame with newly imputed missing values\n",
    "# X.columns=['Size','Ill300x.alt_alnScore_mean','Ill300x.alt_alnScore_std','Ill300x.alt_count','Ill300x.alt_insertSize_mean','Ill300x.alt_insertSize_std','Ill300x.alt_reason_alignmentScore','Ill300x.alt_reason_insertSizeScore','Ill300x.alt_reason_orientation','Ill300x.amb_alnScore_mean','Ill300x.amb_alnScore_std','Ill300x.amb_count','Ill300x.amb_insertSize_mean','Ill300x.amb_insertSize_std','Ill300x.amb_reason_alignmentScore_alignmentScore','Ill300x.amb_reason_alignmentScore_orientation','Ill300x.amb_reason_flanking','Ill300x.amb_reason_insertSizeScore_alignmentScore','Ill300x.amb_reason_insertSizeScore_insertSizeScore','Ill300x.amb_reason_insertSizeScore_orientation','Ill300x.amb_reason_multimapping','Ill300x.amb_reason_orientation_alignmentScore','Ill300x.amb_reason_orientation_orientation','Ill300x.amb_reason_same_scores','Ill300x.ref_alnScore_mean','Ill300x.ref_alnScore_std','Ill300x.ref_count','Ill300x.ref_insertSize_mean','Ill300x.ref_insertSize_std','Ill300x.ref_reason_alignmentScore','Ill300x.ref_reason_insertSizeScore','Ill300x.ref_reason_orientation','Ill250.alt_alnScore_mean','Ill250.alt_alnScore_std','Ill250.alt_count','Ill250.alt_insertSize_mean','Ill250.alt_insertSize_std','Ill250.alt_reason_alignmentScore','Ill250.alt_reason_insertSizeScore','Ill250.alt_reason_orientation','Ill250.amb_alnScore_mean','Ill250.amb_alnScore_std','Ill250.amb_count','Ill250.amb_insertSize_mean','Ill250.amb_insertSize_std','Ill250.amb_reason_alignmentScore_alignmentScore','Ill250.amb_reason_alignmentScore_orientation','Ill250.amb_reason_flanking','Ill250.amb_reason_insertSizeScore_alignmentScore','Ill250.amb_reason_multimapping','Ill250.amb_reason_orientation_alignmentScore','Ill250.amb_reason_orientation_orientation','Ill250.amb_reason_same_scores','Ill250.ref_alnScore_mean','Ill250.ref_alnScore_std','Ill250.ref_count','Ill250.ref_insertSize_mean','Ill250.ref_insertSize_std','Ill250.ref_reason_alignmentScore','Ill250.ref_reason_orientation','IllMP.alt_alnScore_mean','IllMP.alt_alnScore_std','IllMP.alt_count','IllMP.alt_insertSize_mean','IllMP.alt_insertSize_std','IllMP.alt_reason_alignmentScore','IllMP.alt_reason_insertSizeScore','IllMP.alt_reason_orientation','IllMP.amb_alnScore_mean','IllMP.amb_alnScore_std','IllMP.amb_count','IllMP.amb_insertSize_mean','IllMP.amb_insertSize_std','IllMP.amb_reason_alignmentScore_alignmentScore','IllMP.amb_reason_alignmentScore_orientation','IllMP.amb_reason_flanking','IllMP.amb_reason_insertSizeScore_alignmentScore','IllMP.amb_reason_insertSizeScore_insertSizeScore','IllMP.amb_reason_multimapping','IllMP.amb_reason_orientation_alignmentScore','IllMP.amb_reason_orientation_orientation','IllMP.amb_reason_same_scores','IllMP.ref_alnScore_mean','IllMP.ref_alnScore_std','IllMP.ref_count','IllMP.ref_insertSize_mean','IllMP.ref_insertSize_std','IllMP.ref_reason_alignmentScore','IllMP.ref_reason_insertSizeScore','IllMP.ref_reason_orientation','TenX.HP1_alt_alnScore_mean','TenX.HP1_alt_alnScore_std','TenX.HP1_alt_count','TenX.HP1_alt_insertSize_mean','TenX.HP1_alt_insertSize_std','TenX.HP1_alt_reason_alignmentScore','TenX.HP1_alt_reason_insertSizeScore','TenX.HP1_alt_reason_orientation','TenX.HP1_amb_alnScore_mean','TenX.HP1_amb_alnScore_std','TenX.HP1_amb_count','TenX.HP1_amb_insertSize_mean','TenX.HP1_amb_insertSize_std','TenX.HP1_amb_reason_alignmentScore_alignmentScore','TenX.HP1_amb_reason_alignmentScore_orientation','TenX.HP1_amb_reason_flanking','TenX.HP1_amb_reason_insertSizeScore_alignmentScore','TenX.HP1_amb_reason_insertSizeScore_insertSizeScore','TenX.HP1_amb_reason_multimapping','TenX.HP1_amb_reason_orientation_alignmentScore','TenX.HP1_amb_reason_orientation_orientation','TenX.HP1_amb_reason_same_scores','TenX.HP1_ref_alnScore_mean','TenX.HP1_ref_alnScore_std','TenX.HP1_ref_count','TenX.HP1_ref_insertSize_mean','TenX.HP1_ref_insertSize_std','TenX.HP1_ref_reason_alignmentScore','TenX.HP1_ref_reason_insertSizeScore','TenX.HP1_ref_reason_orientation','TenX.HP2_alt_alnScore_mean','TenX.HP2_alt_alnScore_std','TenX.HP2_alt_count','TenX.HP2_alt_insertSize_mean','TenX.HP2_alt_insertSize_std','TenX.HP2_alt_reason_alignmentScore','TenX.HP2_alt_reason_insertSizeScore','TenX.HP2_alt_reason_orientation','TenX.HP2_amb_alnScore_mean','TenX.HP2_amb_alnScore_std','TenX.HP2_amb_count','TenX.HP2_amb_insertSize_mean','TenX.HP2_amb_insertSize_std','TenX.HP2_amb_reason_alignmentScore_alignmentScore','TenX.HP2_amb_reason_alignmentScore_orientation','TenX.HP2_amb_reason_flanking','TenX.HP2_amb_reason_insertSizeScore_alignmentScore','TenX.HP2_amb_reason_insertSizeScore_insertSizeScore','TenX.HP2_amb_reason_multimapping','TenX.HP2_amb_reason_orientation_alignmentScore','TenX.HP2_amb_reason_orientation_insertSizeScore','TenX.HP2_amb_reason_orientation_orientation','TenX.HP2_amb_reason_same_scores','TenX.HP2_ref_alnScore_mean','TenX.HP2_ref_alnScore_std','TenX.HP2_ref_count','TenX.HP2_ref_insertSize_mean','TenX.HP2_ref_insertSize_std','TenX.HP2_ref_reason_alignmentScore','TenX.HP2_ref_reason_orientation','pacbio.alt_alnScore_mean','pacbio.alt_alnScore_std','pacbio.alt_count','pacbio.alt_insertSize_mean','pacbio.alt_insertSize_std','pacbio.alt_reason_alignmentScore','pacbio.amb_alnScore_mean','pacbio.amb_alnScore_std','pacbio.amb_count','pacbio.amb_insertSize_mean','pacbio.amb_insertSize_std','pacbio.amb_reason_alignmentScore_alignmentScore','pacbio.amb_reason_flanking','pacbio.amb_reason_multimapping','pacbio.amb_reason_same_scores','pacbio.ref_alnScore_mean','pacbio.ref_alnScore_std','pacbio.ref_count','pacbio.ref_insertSize_mean','pacbio.ref_insertSize_std','pacbio.ref_reason_alignmentScore','tandemrep_cnt','tandemrep_pct','segdup_cnt','segdup_pct','refN_cnt','refN_pct','Label']"
   ]
  },
  {
   "cell_type": "code",
   "execution_count": 12,
   "metadata": {
    "collapsed": true
   },
   "outputs": [],
   "source": [
    "X.columns=['Ill300x.alt_alnScore_mean','Ill300x.alt_alnScore_std','Ill300x.alt_count','Ill300x.alt_insertSize_mean','Ill300x.alt_insertSize_std','Ill300x.alt_reason_alignmentScore','Ill300x.alt_reason_insertSizeScore','Ill300x.alt_reason_orientation','Ill300x.amb_alnScore_mean','Ill300x.amb_alnScore_std','Ill300x.amb_count','Ill300x.amb_insertSize_mean','Ill300x.amb_insertSize_std','Ill300x.amb_reason_alignmentScore_alignmentScore','Ill300x.amb_reason_alignmentScore_orientation','Ill300x.amb_reason_flanking','Ill300x.amb_reason_insertSizeScore_alignmentScore','Ill300x.amb_reason_insertSizeScore_insertSizeScore','Ill300x.amb_reason_multimapping','Ill300x.amb_reason_orientation_alignmentScore','Ill300x.amb_reason_orientation_orientation','Ill300x.amb_reason_same_scores','Ill300x.ref_alnScore_mean','Ill300x.ref_alnScore_std','Ill300x.ref_count','Ill300x.ref_insertSize_mean','Ill300x.ref_insertSize_std','Ill300x.ref_reason_alignmentScore','Ill300x.ref_reason_insertSizeScore','Ill300x.ref_reason_orientation','Ill250.alt_alnScore_mean','Ill250.alt_alnScore_std','Ill250.alt_count','Ill250.alt_insertSize_mean','Ill250.alt_insertSize_std','Ill250.alt_reason_alignmentScore','Ill250.alt_reason_insertSizeScore','Ill250.alt_reason_orientation','Ill250.amb_alnScore_mean','Ill250.amb_alnScore_std','Ill250.amb_count','Ill250.amb_insertSize_mean','Ill250.amb_insertSize_std','Ill250.amb_reason_alignmentScore_alignmentScore','Ill250.amb_reason_alignmentScore_orientation','Ill250.amb_reason_flanking','Ill250.amb_reason_insertSizeScore_alignmentScore','Ill250.amb_reason_insertSizeScore_insertSizeScore','Ill250.amb_reason_multimapping','Ill250.amb_reason_orientation_alignmentScore','Ill250.amb_reason_orientation_orientation','Ill250.amb_reason_same_scores','Ill250.ref_alnScore_mean','Ill250.ref_alnScore_std','Ill250.ref_count','Ill250.ref_insertSize_mean','Ill250.ref_insertSize_std','Ill250.ref_reason_alignmentScore','Ill250.ref_reason_orientation','IllMP.alt_alnScore_mean','IllMP.alt_alnScore_std','IllMP.alt_count','IllMP.alt_insertSize_mean','IllMP.alt_insertSize_std','IllMP.alt_reason_alignmentScore','IllMP.alt_reason_insertSizeScore','IllMP.alt_reason_orientation','IllMP.amb_alnScore_mean','IllMP.amb_alnScore_std','IllMP.amb_count','IllMP.amb_insertSize_mean','IllMP.amb_insertSize_std','IllMP.amb_reason_alignmentScore_alignmentScore','IllMP.amb_reason_alignmentScore_orientation','IllMP.amb_reason_flanking','IllMP.amb_reason_insertSizeScore_insertSizeScore','IllMP.amb_reason_multimapping','IllMP.amb_reason_orientation_alignmentScore','IllMP.amb_reason_orientation_orientation','IllMP.amb_reason_same_scores','IllMP.ref_alnScore_mean','IllMP.ref_alnScore_std','IllMP.ref_count','IllMP.ref_insertSize_mean','IllMP.ref_insertSize_std','IllMP.ref_reason_alignmentScore','IllMP.ref_reason_insertSizeScore','IllMP.ref_reason_orientation','pacbio.alt_alnScore_mean','pacbio.alt_alnScore_std','pacbio.alt_count','pacbio.alt_insertSize_mean','pacbio.alt_insertSize_std','pacbio.alt_reason_alignmentScore','pacbio.amb_alnScore_mean','pacbio.amb_alnScore_std','pacbio.amb_count','pacbio.amb_insertSize_mean','pacbio.amb_insertSize_std','pacbio.amb_reason_alignmentScore_alignmentScore','pacbio.amb_reason_flanking','pacbio.amb_reason_multimapping','pacbio.amb_reason_same_scores','pacbio.ref_alnScore_mean','pacbio.ref_alnScore_std','pacbio.ref_count','pacbio.ref_insertSize_mean','pacbio.ref_insertSize_std','pacbio.ref_reason_alignmentScore','TenX.HP1_alt_alnScore_mean','TenX.HP1_alt_alnScore_std','TenX.HP1_alt_count','TenX.HP1_alt_insertSize_mean','TenX.HP1_alt_insertSize_std','TenX.HP1_alt_reason_alignmentScore','TenX.HP1_alt_reason_insertSizeScore','TenX.HP1_alt_reason_orientation','TenX.HP1_amb_alnScore_mean','TenX.HP1_amb_alnScore_std','TenX.HP1_amb_count','TenX.HP1_amb_insertSize_mean','TenX.HP1_amb_insertSize_std','TenX.HP1_amb_reason_alignmentScore_alignmentScore','TenX.HP1_amb_reason_alignmentScore_orientation','TenX.HP1_amb_reason_flanking','TenX.HP1_amb_reason_insertSizeScore_alignmentScore','TenX.HP1_amb_reason_multimapping','TenX.HP1_amb_reason_orientation_alignmentScore','TenX.HP1_amb_reason_orientation_orientation','TenX.HP1_amb_reason_same_scores','TenX.HP1_ref_alnScore_mean','TenX.HP1_ref_alnScore_std','TenX.HP1_ref_count','TenX.HP1_ref_insertSize_mean','TenX.HP1_ref_insertSize_std','TenX.HP1_ref_reason_alignmentScore','TenX.HP1_ref_reason_orientation','TenX.HP2_alt_alnScore_mean','TenX.HP2_alt_alnScore_std','TenX.HP2_alt_count','TenX.HP2_alt_insertSize_mean','TenX.HP2_alt_insertSize_std','TenX.HP2_alt_reason_alignmentScore','TenX.HP2_alt_reason_insertSizeScore','TenX.HP2_alt_reason_orientation','TenX.HP2_amb_alnScore_mean','TenX.HP2_amb_alnScore_std','TenX.HP2_amb_count','TenX.HP2_amb_insertSize_mean','TenX.HP2_amb_insertSize_std','TenX.HP2_amb_reason_alignmentScore_alignmentScore','TenX.HP2_amb_reason_alignmentScore_orientation','TenX.HP2_amb_reason_flanking','TenX.HP2_amb_reason_insertSizeScore_alignmentScore','TenX.HP2_amb_reason_multimapping','TenX.HP2_amb_reason_orientation_alignmentScore','TenX.HP2_amb_reason_orientation_orientation','TenX.HP2_amb_reason_same_scores','TenX.HP2_ref_alnScore_mean','TenX.HP2_ref_alnScore_std','TenX.HP2_ref_count','TenX.HP2_ref_insertSize_mean','TenX.HP2_ref_insertSize_std','TenX.HP2_ref_reason_alignmentScore','TenX.HP2_ref_reason_orientation','size','tandemrep_cnt','tandemrep_pct','segdup_cnt','segdup_pct','refN_cnt','refN_pct','Label']"
   ]
  },
  {
   "cell_type": "code",
   "execution_count": 13,
   "metadata": {},
   "outputs": [
    {
     "data": {
      "text/html": [
       "<div>\n",
       "<table border=\"1\" class=\"dataframe\">\n",
       "  <thead>\n",
       "    <tr style=\"text-align: right;\">\n",
       "      <th></th>\n",
       "      <th>Ill300x.alt_alnScore_mean</th>\n",
       "      <th>Ill300x.alt_alnScore_std</th>\n",
       "      <th>Ill300x.alt_count</th>\n",
       "      <th>Ill300x.alt_insertSize_mean</th>\n",
       "      <th>Ill300x.alt_insertSize_std</th>\n",
       "      <th>Ill300x.alt_reason_alignmentScore</th>\n",
       "      <th>Ill300x.alt_reason_insertSizeScore</th>\n",
       "      <th>Ill300x.alt_reason_orientation</th>\n",
       "      <th>Ill300x.amb_alnScore_mean</th>\n",
       "      <th>Ill300x.amb_alnScore_std</th>\n",
       "      <th>...</th>\n",
       "      <th>TenX.HP2_ref_reason_alignmentScore</th>\n",
       "      <th>TenX.HP2_ref_reason_orientation</th>\n",
       "      <th>size</th>\n",
       "      <th>tandemrep_cnt</th>\n",
       "      <th>tandemrep_pct</th>\n",
       "      <th>segdup_cnt</th>\n",
       "      <th>segdup_pct</th>\n",
       "      <th>refN_cnt</th>\n",
       "      <th>refN_pct</th>\n",
       "      <th>Label</th>\n",
       "    </tr>\n",
       "  </thead>\n",
       "  <tbody>\n",
       "    <tr>\n",
       "      <th>0</th>\n",
       "      <td>579.446154</td>\n",
       "      <td>17.934094</td>\n",
       "      <td>65.0</td>\n",
       "      <td>756.430769</td>\n",
       "      <td>163.879409</td>\n",
       "      <td>0.0</td>\n",
       "      <td>65.0</td>\n",
       "      <td>0.0</td>\n",
       "      <td>526.250785</td>\n",
       "      <td>88.797088</td>\n",
       "      <td>...</td>\n",
       "      <td>2.0</td>\n",
       "      <td>0.0</td>\n",
       "      <td>1651.0</td>\n",
       "      <td>8.0</td>\n",
       "      <td>0.096911</td>\n",
       "      <td>0.0</td>\n",
       "      <td>0.0</td>\n",
       "      <td>0.0</td>\n",
       "      <td>0.0</td>\n",
       "      <td>1.0</td>\n",
       "    </tr>\n",
       "    <tr>\n",
       "      <th>1</th>\n",
       "      <td>557.000000</td>\n",
       "      <td>20.665840</td>\n",
       "      <td>13.0</td>\n",
       "      <td>1158.307692</td>\n",
       "      <td>134.247982</td>\n",
       "      <td>0.0</td>\n",
       "      <td>13.0</td>\n",
       "      <td>0.0</td>\n",
       "      <td>545.050452</td>\n",
       "      <td>62.371767</td>\n",
       "      <td>...</td>\n",
       "      <td>12.0</td>\n",
       "      <td>0.0</td>\n",
       "      <td>176.0</td>\n",
       "      <td>2.0</td>\n",
       "      <td>0.221591</td>\n",
       "      <td>0.0</td>\n",
       "      <td>0.0</td>\n",
       "      <td>0.0</td>\n",
       "      <td>0.0</td>\n",
       "      <td>1.0</td>\n",
       "    </tr>\n",
       "    <tr>\n",
       "      <th>2</th>\n",
       "      <td>574.335366</td>\n",
       "      <td>18.613946</td>\n",
       "      <td>164.0</td>\n",
       "      <td>678.518293</td>\n",
       "      <td>139.056203</td>\n",
       "      <td>31.0</td>\n",
       "      <td>133.0</td>\n",
       "      <td>0.0</td>\n",
       "      <td>518.296740</td>\n",
       "      <td>91.633718</td>\n",
       "      <td>...</td>\n",
       "      <td>3.0</td>\n",
       "      <td>0.0</td>\n",
       "      <td>1329.0</td>\n",
       "      <td>3.0</td>\n",
       "      <td>0.059443</td>\n",
       "      <td>0.0</td>\n",
       "      <td>0.0</td>\n",
       "      <td>0.0</td>\n",
       "      <td>0.0</td>\n",
       "      <td>0.0</td>\n",
       "    </tr>\n",
       "  </tbody>\n",
       "</table>\n",
       "<p>3 rows × 173 columns</p>\n",
       "</div>"
      ],
      "text/plain": [
       "   Ill300x.alt_alnScore_mean  Ill300x.alt_alnScore_std  Ill300x.alt_count  \\\n",
       "0                 579.446154                 17.934094               65.0   \n",
       "1                 557.000000                 20.665840               13.0   \n",
       "2                 574.335366                 18.613946              164.0   \n",
       "\n",
       "   Ill300x.alt_insertSize_mean  Ill300x.alt_insertSize_std  \\\n",
       "0                   756.430769                  163.879409   \n",
       "1                  1158.307692                  134.247982   \n",
       "2                   678.518293                  139.056203   \n",
       "\n",
       "   Ill300x.alt_reason_alignmentScore  Ill300x.alt_reason_insertSizeScore  \\\n",
       "0                                0.0                                65.0   \n",
       "1                                0.0                                13.0   \n",
       "2                               31.0                               133.0   \n",
       "\n",
       "   Ill300x.alt_reason_orientation  Ill300x.amb_alnScore_mean  \\\n",
       "0                             0.0                 526.250785   \n",
       "1                             0.0                 545.050452   \n",
       "2                             0.0                 518.296740   \n",
       "\n",
       "   Ill300x.amb_alnScore_std  ...    TenX.HP2_ref_reason_alignmentScore  \\\n",
       "0                 88.797088  ...                                   2.0   \n",
       "1                 62.371767  ...                                  12.0   \n",
       "2                 91.633718  ...                                   3.0   \n",
       "\n",
       "   TenX.HP2_ref_reason_orientation    size  tandemrep_cnt  tandemrep_pct  \\\n",
       "0                              0.0  1651.0            8.0       0.096911   \n",
       "1                              0.0   176.0            2.0       0.221591   \n",
       "2                              0.0  1329.0            3.0       0.059443   \n",
       "\n",
       "   segdup_cnt  segdup_pct  refN_cnt  refN_pct  Label  \n",
       "0         0.0         0.0       0.0       0.0    1.0  \n",
       "1         0.0         0.0       0.0       0.0    1.0  \n",
       "2         0.0         0.0       0.0       0.0    0.0  \n",
       "\n",
       "[3 rows x 173 columns]"
      ]
     },
     "execution_count": 13,
     "metadata": {},
     "output_type": "execute_result"
    }
   ],
   "source": [
    "X.head(3)"
   ]
  },
  {
   "cell_type": "code",
   "execution_count": 14,
   "metadata": {
    "collapsed": true
   },
   "outputs": [],
   "source": [
    "# Store Labels in a new 'Y' DataFrame\n",
    "Y = pd.DataFrame()\n",
    "Y['Label'] = X['Label']\n",
    "#Y = X.pop('Label')"
   ]
  },
  {
   "cell_type": "code",
   "execution_count": 15,
   "metadata": {},
   "outputs": [
    {
     "data": {
      "text/plain": [
       " 1.0    959\n",
       " 0.0    552\n",
       "-1.0      1\n",
       " 2.0      3\n",
       "dtype: int64"
      ]
     },
     "execution_count": 15,
     "metadata": {},
     "output_type": "execute_result"
    }
   ],
   "source": [
    "pd.value_counts(Y['Label'].values, sort=False)"
   ]
  },
  {
   "cell_type": "code",
   "execution_count": 252,
   "metadata": {
    "collapsed": true
   },
   "outputs": [],
   "source": [
    "# Remove labels from the X dataframe: Select all columns except for the label column\n",
    "# X=X[['Ill300x.alt_alnScore_mean','Ill300x.alt_alnScore_std','Ill300x.alt_count','Ill300x.alt_insertSize_mean','Ill300x.alt_insertSize_std','Ill300x.alt_reason_alignmentScore','Ill300x.alt_reason_insertSizeScore','Ill300x.alt_reason_orientation','Ill300x.amb_alnScore_mean','Ill300x.amb_alnScore_std','Ill300x.amb_count','Ill300x.amb_insertSize_mean','Ill300x.amb_insertSize_std','Ill300x.amb_reason_alignmentScore_alignmentScore','Ill300x.amb_reason_alignmentScore_orientation','Ill300x.amb_reason_flanking','Ill300x.amb_reason_insertSizeScore_alignmentScore','Ill300x.amb_reason_insertSizeScore_insertSizeScore','Ill300x.amb_reason_multimapping','Ill300x.amb_reason_orientation_alignmentScore','Ill300x.amb_reason_orientation_orientation','Ill300x.amb_reason_same_scores','Ill300x.ref_alnScore_mean','Ill300x.ref_alnScore_std','Ill300x.ref_count','Ill300x.ref_insertSize_mean','Ill300x.ref_insertSize_std','Ill300x.ref_reason_alignmentScore','Ill300x.ref_reason_insertSizeScore','Ill300x.ref_reason_orientation','Ill250.alt_alnScore_mean','Ill250.alt_alnScore_std','Ill250.alt_count','Ill250.alt_insertSize_mean','Ill250.alt_insertSize_std','Ill250.alt_reason_alignmentScore','Ill250.alt_reason_insertSizeScore','Ill250.alt_reason_orientation','Ill250.amb_alnScore_mean','Ill250.amb_alnScore_std','Ill250.amb_count','Ill250.amb_insertSize_mean','Ill250.amb_insertSize_std','Ill250.amb_reason_alignmentScore_alignmentScore','Ill250.amb_reason_alignmentScore_orientation','Ill250.amb_reason_flanking','Ill250.amb_reason_insertSizeScore_alignmentScore','Ill250.amb_reason_multimapping','Ill250.amb_reason_orientation_alignmentScore','Ill250.amb_reason_orientation_orientation','Ill250.amb_reason_same_scores','Ill250.ref_alnScore_mean','Ill250.ref_alnScore_std','Ill250.ref_count','Ill250.ref_insertSize_mean','Ill250.ref_insertSize_std','Ill250.ref_reason_alignmentScore','Ill250.ref_reason_orientation','IllMP.alt_alnScore_mean','IllMP.alt_alnScore_std','IllMP.alt_count','IllMP.alt_insertSize_mean','IllMP.alt_insertSize_std','IllMP.alt_reason_alignmentScore','IllMP.alt_reason_insertSizeScore','IllMP.alt_reason_orientation','IllMP.amb_alnScore_mean','IllMP.amb_alnScore_std','IllMP.amb_count','IllMP.amb_insertSize_mean','IllMP.amb_insertSize_std','IllMP.amb_reason_alignmentScore_alignmentScore','IllMP.amb_reason_alignmentScore_orientation','IllMP.amb_reason_flanking','IllMP.amb_reason_insertSizeScore_insertSizeScore','IllMP.amb_reason_multimapping','IllMP.amb_reason_orientation_alignmentScore','IllMP.amb_reason_orientation_orientation','IllMP.amb_reason_same_scores','IllMP.ref_alnScore_mean','IllMP.ref_alnScore_std','IllMP.ref_count','IllMP.ref_insertSize_mean','IllMP.ref_insertSize_std','IllMP.ref_reason_alignmentScore','IllMP.ref_reason_insertSizeScore','IllMP.ref_reason_orientation','pacbio.alt_alnScore_mean','pacbio.alt_alnScore_std','pacbio.alt_count','pacbio.alt_insertSize_mean','pacbio.alt_insertSize_std','pacbio.alt_reason_alignmentScore','pacbio.amb_alnScore_mean','pacbio.amb_alnScore_std','pacbio.amb_count','pacbio.amb_insertSize_mean','pacbio.amb_insertSize_std','pacbio.amb_reason_alignmentScore_alignmentScore','pacbio.amb_reason_flanking','pacbio.amb_reason_multimapping','pacbio.amb_reason_same_scores','pacbio.ref_alnScore_mean','pacbio.ref_alnScore_std','pacbio.ref_count','pacbio.ref_insertSize_mean','pacbio.ref_insertSize_std','pacbio.ref_reason_alignmentScore','TenX.HP1_alt_alnScore_mean','TenX.HP1_alt_alnScore_std','TenX.HP1_alt_count','TenX.HP1_alt_insertSize_mean','TenX.HP1_alt_insertSize_std','TenX.HP1_alt_reason_alignmentScore','TenX.HP1_alt_reason_insertSizeScore','TenX.HP1_alt_reason_orientation','TenX.HP1_amb_alnScore_mean','TenX.HP1_amb_alnScore_std','TenX.HP1_amb_count','TenX.HP1_amb_insertSize_mean','TenX.HP1_amb_insertSize_std','TenX.HP1_amb_reason_alignmentScore_alignmentScore','TenX.HP1_amb_reason_alignmentScore_orientation','TenX.HP1_amb_reason_flanking','TenX.HP1_amb_reason_insertSizeScore_alignmentScore','TenX.HP1_amb_reason_multimapping','TenX.HP1_amb_reason_orientation_alignmentScore','TenX.HP1_amb_reason_orientation_orientation','TenX.HP1_amb_reason_same_scores','TenX.HP1_ref_alnScore_mean','TenX.HP1_ref_alnScore_std','TenX.HP1_ref_count','TenX.HP1_ref_insertSize_mean','TenX.HP1_ref_insertSize_std','TenX.HP1_ref_reason_alignmentScore','TenX.HP1_ref_reason_orientation','TenX.HP2_alt_alnScore_mean','TenX.HP2_alt_alnScore_std','TenX.HP2_alt_count','TenX.HP2_alt_insertSize_mean','TenX.HP2_alt_insertSize_std','TenX.HP2_alt_reason_alignmentScore','TenX.HP2_alt_reason_insertSizeScore','TenX.HP2_alt_reason_orientation','TenX.HP2_amb_alnScore_mean','TenX.HP2_amb_alnScore_std','TenX.HP2_amb_count','TenX.HP2_amb_insertSize_mean','TenX.HP2_amb_insertSize_std','TenX.HP2_amb_reason_alignmentScore_alignmentScore','TenX.HP2_amb_reason_alignmentScore_orientation','TenX.HP2_amb_reason_flanking','TenX.HP2_amb_reason_insertSizeScore_alignmentScore','TenX.HP2_amb_reason_multimapping','TenX.HP2_amb_reason_orientation_alignmentScore','TenX.HP2_amb_reason_orientation_orientation','TenX.HP2_amb_reason_same_scores','TenX.HP2_ref_alnScore_mean','TenX.HP2_ref_alnScore_std','TenX.HP2_ref_count','TenX.HP2_ref_insertSize_mean','TenX.HP2_ref_insertSize_std','TenX.HP2_ref_reason_alignmentScore','TenX.HP2_ref_reason_orientation']]"
   ]
  },
  {
   "cell_type": "code",
   "execution_count": 16,
   "metadata": {
    "collapsed": true
   },
   "outputs": [],
   "source": [
    "#Features in training set must match features in the prediction set\n",
    "X=X[['Ill300x.alt_alnScore_mean','Ill300x.alt_alnScore_std','Ill300x.alt_count','Ill300x.alt_insertSize_mean','Ill300x.alt_insertSize_std','Ill300x.alt_reason_alignmentScore','Ill300x.alt_reason_insertSizeScore','Ill300x.alt_reason_orientation','Ill300x.amb_alnScore_mean','Ill300x.amb_alnScore_std','Ill300x.amb_count','Ill300x.amb_insertSize_mean','Ill300x.amb_insertSize_std','Ill300x.amb_reason_alignmentScore_alignmentScore','Ill300x.amb_reason_alignmentScore_orientation','Ill300x.amb_reason_flanking','Ill300x.amb_reason_insertSizeScore_alignmentScore','Ill300x.amb_reason_insertSizeScore_insertSizeScore','Ill300x.amb_reason_multimapping','Ill300x.amb_reason_orientation_alignmentScore','Ill300x.amb_reason_orientation_orientation','Ill300x.amb_reason_same_scores','Ill300x.ref_alnScore_mean','Ill300x.ref_alnScore_std','Ill300x.ref_count','Ill300x.ref_insertSize_mean','Ill300x.ref_insertSize_std','Ill300x.ref_reason_alignmentScore','Ill300x.ref_reason_insertSizeScore','Ill300x.ref_reason_orientation','Ill250.alt_alnScore_mean','Ill250.alt_alnScore_std','Ill250.alt_count','Ill250.alt_insertSize_mean','Ill250.alt_insertSize_std','Ill250.alt_reason_alignmentScore','Ill250.alt_reason_insertSizeScore','Ill250.alt_reason_orientation','Ill250.amb_alnScore_mean','Ill250.amb_alnScore_std','Ill250.amb_count','Ill250.amb_insertSize_mean','Ill250.amb_insertSize_std','Ill250.amb_reason_alignmentScore_alignmentScore','Ill250.amb_reason_alignmentScore_orientation','Ill250.amb_reason_flanking','Ill250.amb_reason_insertSizeScore_alignmentScore','Ill250.amb_reason_multimapping','Ill250.amb_reason_orientation_alignmentScore','Ill250.amb_reason_orientation_orientation','Ill250.amb_reason_same_scores','Ill250.ref_alnScore_mean','Ill250.ref_alnScore_std','Ill250.ref_count','Ill250.ref_insertSize_mean','Ill250.ref_insertSize_std','Ill250.ref_reason_alignmentScore','Ill250.ref_reason_orientation','IllMP.alt_alnScore_mean','IllMP.alt_alnScore_std','IllMP.alt_count','IllMP.alt_insertSize_mean','IllMP.alt_insertSize_std','IllMP.alt_reason_alignmentScore','IllMP.alt_reason_insertSizeScore','IllMP.alt_reason_orientation','IllMP.amb_alnScore_mean','IllMP.amb_alnScore_std','IllMP.amb_count','IllMP.amb_insertSize_mean','IllMP.amb_insertSize_std','IllMP.amb_reason_alignmentScore_alignmentScore','IllMP.amb_reason_alignmentScore_orientation','IllMP.amb_reason_flanking','IllMP.amb_reason_insertSizeScore_insertSizeScore','IllMP.amb_reason_multimapping','IllMP.amb_reason_orientation_alignmentScore','IllMP.amb_reason_orientation_orientation','IllMP.amb_reason_same_scores','IllMP.ref_alnScore_mean','IllMP.ref_alnScore_std','IllMP.ref_count','IllMP.ref_insertSize_mean','IllMP.ref_insertSize_std','IllMP.ref_reason_alignmentScore','IllMP.ref_reason_insertSizeScore','IllMP.ref_reason_orientation','pacbio.alt_alnScore_mean','pacbio.alt_alnScore_std','pacbio.alt_count','pacbio.alt_insertSize_mean','pacbio.alt_insertSize_std','pacbio.alt_reason_alignmentScore','pacbio.amb_alnScore_mean','pacbio.amb_alnScore_std','pacbio.amb_count','pacbio.amb_insertSize_mean','pacbio.amb_insertSize_std','pacbio.amb_reason_alignmentScore_alignmentScore','pacbio.amb_reason_flanking','pacbio.amb_reason_multimapping','pacbio.amb_reason_same_scores','pacbio.ref_alnScore_mean','pacbio.ref_alnScore_std','pacbio.ref_count','pacbio.ref_insertSize_mean','pacbio.ref_insertSize_std','pacbio.ref_reason_alignmentScore','TenX.HP1_alt_alnScore_mean','TenX.HP1_alt_alnScore_std','TenX.HP1_alt_count','TenX.HP1_alt_insertSize_mean','TenX.HP1_alt_insertSize_std','TenX.HP1_alt_reason_alignmentScore','TenX.HP1_alt_reason_insertSizeScore','TenX.HP1_alt_reason_orientation','TenX.HP1_amb_alnScore_mean','TenX.HP1_amb_alnScore_std','TenX.HP1_amb_count','TenX.HP1_amb_insertSize_mean','TenX.HP1_amb_insertSize_std','TenX.HP1_amb_reason_alignmentScore_alignmentScore','TenX.HP1_amb_reason_alignmentScore_orientation','TenX.HP1_amb_reason_flanking','TenX.HP1_amb_reason_insertSizeScore_alignmentScore','TenX.HP1_amb_reason_multimapping','TenX.HP1_amb_reason_orientation_alignmentScore','TenX.HP1_amb_reason_orientation_orientation','TenX.HP1_amb_reason_same_scores','TenX.HP1_ref_alnScore_mean','TenX.HP1_ref_alnScore_std','TenX.HP1_ref_count','TenX.HP1_ref_insertSize_mean','TenX.HP1_ref_insertSize_std','TenX.HP1_ref_reason_alignmentScore','TenX.HP1_ref_reason_orientation','TenX.HP2_alt_alnScore_mean','TenX.HP2_alt_alnScore_std','TenX.HP2_alt_count','TenX.HP2_alt_insertSize_mean','TenX.HP2_alt_insertSize_std','TenX.HP2_alt_reason_alignmentScore','TenX.HP2_alt_reason_insertSizeScore','TenX.HP2_alt_reason_orientation','TenX.HP2_amb_alnScore_mean','TenX.HP2_amb_alnScore_std','TenX.HP2_amb_count','TenX.HP2_amb_insertSize_mean','TenX.HP2_amb_insertSize_std','TenX.HP2_amb_reason_alignmentScore_alignmentScore','TenX.HP2_amb_reason_alignmentScore_orientation','TenX.HP2_amb_reason_flanking','TenX.HP2_amb_reason_insertSizeScore_alignmentScore','TenX.HP2_amb_reason_multimapping','TenX.HP2_amb_reason_orientation_alignmentScore','TenX.HP2_amb_reason_orientation_orientation','TenX.HP2_amb_reason_same_scores','TenX.HP2_ref_alnScore_mean','TenX.HP2_ref_alnScore_std','TenX.HP2_ref_count','TenX.HP2_ref_insertSize_mean','TenX.HP2_ref_insertSize_std','TenX.HP2_ref_reason_alignmentScore','TenX.HP2_ref_reason_orientation','tandemrep_cnt','tandemrep_pct','segdup_cnt','segdup_pct','refN_cnt','refN_pct']]"
   ]
  },
  {
   "cell_type": "code",
   "execution_count": 17,
   "metadata": {
    "collapsed": true
   },
   "outputs": [],
   "source": [
    "# X=X[['Ill300x.alt_alnScore_mean','Ill300x.alt_alnScore_std','Ill300x.alt_count','Ill300x.alt_insertSize_mean','Ill300x.alt_insertSize_std','Ill300x.alt_reason_alignmentScore','Ill300x.alt_reason_insertSizeScore','Ill300x.alt_reason_orientation','Ill300x.amb_alnScore_mean','Ill300x.amb_alnScore_std','Ill300x.amb_count','Ill300x.amb_insertSize_mean','Ill300x.amb_insertSize_std','Ill300x.amb_reason_alignmentScore_alignmentScore','Ill300x.amb_reason_alignmentScore_orientation','Ill300x.amb_reason_flanking','Ill300x.amb_reason_insertSizeScore_alignmentScore','Ill300x.amb_reason_insertSizeScore_insertSizeScore','Ill300x.amb_reason_multimapping','Ill300x.amb_reason_orientation_alignmentScore','Ill300x.amb_reason_orientation_orientation','Ill300x.amb_reason_same_scores','Ill300x.ref_alnScore_mean','Ill300x.ref_alnScore_std','Ill300x.ref_count','Ill300x.ref_insertSize_mean','Ill300x.ref_insertSize_std','Ill300x.ref_reason_alignmentScore','Ill300x.ref_reason_insertSizeScore','Ill300x.ref_reason_orientation','Ill250.alt_alnScore_mean','Ill250.alt_alnScore_std','Ill250.alt_count','Ill250.alt_insertSize_mean','Ill250.alt_insertSize_std','Ill250.alt_reason_alignmentScore','Ill250.alt_reason_insertSizeScore','Ill250.alt_reason_orientation','Ill250.amb_alnScore_mean','Ill250.amb_alnScore_std','Ill250.amb_count','Ill250.amb_insertSize_mean','Ill250.amb_insertSize_std','Ill250.amb_reason_alignmentScore_alignmentScore','Ill250.amb_reason_alignmentScore_orientation','Ill250.amb_reason_flanking','Ill250.amb_reason_insertSizeScore_alignmentScore','Ill250.amb_reason_insertSizeScore_insertSizeScore','Ill250.amb_reason_multimapping','Ill250.amb_reason_orientation_alignmentScore','Ill250.amb_reason_orientation_orientation','Ill250.amb_reason_same_scores','Ill250.ref_alnScore_mean','Ill250.ref_alnScore_std','Ill250.ref_count','Ill250.ref_insertSize_mean','Ill250.ref_insertSize_std','Ill250.ref_reason_alignmentScore','Ill250.ref_reason_orientation','IllMP.alt_alnScore_mean','IllMP.alt_alnScore_std','IllMP.alt_count','IllMP.alt_insertSize_mean','IllMP.alt_insertSize_std','IllMP.alt_reason_alignmentScore','IllMP.alt_reason_insertSizeScore','IllMP.alt_reason_orientation','IllMP.amb_alnScore_mean','IllMP.amb_alnScore_std','IllMP.amb_count','IllMP.amb_insertSize_mean','IllMP.amb_insertSize_std','IllMP.amb_reason_alignmentScore_alignmentScore','IllMP.amb_reason_alignmentScore_orientation','IllMP.amb_reason_flanking','IllMP.amb_reason_insertSizeScore_insertSizeScore','IllMP.amb_reason_multimapping','IllMP.amb_reason_orientation_alignmentScore','IllMP.amb_reason_orientation_orientation','IllMP.amb_reason_same_scores','IllMP.ref_alnScore_mean','IllMP.ref_alnScore_std','IllMP.ref_count','IllMP.ref_insertSize_mean','IllMP.ref_insertSize_std','IllMP.ref_reason_alignmentScore','IllMP.ref_reason_insertSizeScore','IllMP.ref_reason_orientation','pacbio.alt_alnScore_mean','pacbio.alt_alnScore_std','pacbio.alt_count','pacbio.alt_insertSize_mean','pacbio.alt_insertSize_std','pacbio.alt_reason_alignmentScore','pacbio.amb_alnScore_mean','pacbio.amb_alnScore_std','pacbio.amb_count','pacbio.amb_insertSize_mean','pacbio.amb_insertSize_std','pacbio.amb_reason_alignmentScore_alignmentScore','pacbio.amb_reason_flanking','pacbio.amb_reason_multimapping','pacbio.amb_reason_same_scores','pacbio.ref_alnScore_mean','pacbio.ref_alnScore_std','pacbio.ref_count','pacbio.ref_insertSize_mean','pacbio.ref_insertSize_std','pacbio.ref_reason_alignmentScore','TenX.HP1_alt_alnScore_mean','TenX.HP1_alt_alnScore_std','TenX.HP1_alt_count','TenX.HP1_alt_insertSize_mean','TenX.HP1_alt_insertSize_std','TenX.HP1_alt_reason_alignmentScore','TenX.HP1_alt_reason_insertSizeScore','TenX.HP1_alt_reason_orientation','TenX.HP1_amb_alnScore_mean','TenX.HP1_amb_alnScore_std','TenX.HP1_amb_count','TenX.HP1_amb_insertSize_mean','TenX.HP1_amb_insertSize_std','TenX.HP1_amb_reason_alignmentScore_alignmentScore','TenX.HP1_amb_reason_alignmentScore_orientation','TenX.HP1_amb_reason_flanking','TenX.HP1_amb_reason_insertSizeScore_alignmentScore','TenX.HP1_amb_reason_multimapping','TenX.HP1_amb_reason_orientation_alignmentScore','TenX.HP1_amb_reason_orientation_orientation','TenX.HP1_amb_reason_same_scores','TenX.HP1_ref_alnScore_mean','TenX.HP1_ref_alnScore_std','TenX.HP1_ref_count','TenX.HP1_ref_insertSize_mean','TenX.HP1_ref_insertSize_std','TenX.HP1_ref_reason_alignmentScore','TenX.HP1_ref_reason_orientation','TenX.HP2_alt_alnScore_mean','TenX.HP2_alt_alnScore_std','TenX.HP2_alt_count','TenX.HP2_alt_insertSize_mean','TenX.HP2_alt_insertSize_std','TenX.HP2_alt_reason_alignmentScore','TenX.HP2_alt_reason_insertSizeScore','TenX.HP2_alt_reason_orientation','TenX.HP2_amb_alnScore_mean','TenX.HP2_amb_alnScore_std','TenX.HP2_amb_count','TenX.HP2_amb_insertSize_mean','TenX.HP2_amb_insertSize_std','TenX.HP2_amb_reason_alignmentScore_alignmentScore','TenX.HP2_amb_reason_alignmentScore_orientation','TenX.HP2_amb_reason_flanking','TenX.HP2_amb_reason_insertSizeScore_alignmentScore','TenX.HP2_amb_reason_multimapping','TenX.HP2_amb_reason_orientation_alignmentScore','TenX.HP2_amb_reason_orientation_orientation','TenX.HP2_amb_reason_same_scores','TenX.HP2_ref_alnScore_mean','TenX.HP2_ref_alnScore_std','TenX.HP2_ref_count','TenX.HP2_ref_insertSize_mean','TenX.HP2_ref_insertSize_std','TenX.HP2_ref_reason_alignmentScore','TenX.HP2_ref_reason_orientation','size','tandemrep_cnt','tandemrep_pct','segdup_cnt','segdup_pct','refN_cnt','refN_pct']]"
   ]
  },
  {
   "cell_type": "code",
   "execution_count": 18,
   "metadata": {},
   "outputs": [
    {
     "data": {
      "text/html": [
       "<div>\n",
       "<table border=\"1\" class=\"dataframe\">\n",
       "  <thead>\n",
       "    <tr style=\"text-align: right;\">\n",
       "      <th></th>\n",
       "      <th>Ill300x.alt_alnScore_mean</th>\n",
       "      <th>Ill300x.alt_alnScore_std</th>\n",
       "      <th>Ill300x.alt_count</th>\n",
       "      <th>Ill300x.alt_insertSize_mean</th>\n",
       "      <th>Ill300x.alt_insertSize_std</th>\n",
       "      <th>Ill300x.alt_reason_alignmentScore</th>\n",
       "      <th>Ill300x.alt_reason_insertSizeScore</th>\n",
       "      <th>Ill300x.alt_reason_orientation</th>\n",
       "      <th>Ill300x.amb_alnScore_mean</th>\n",
       "      <th>Ill300x.amb_alnScore_std</th>\n",
       "      <th>...</th>\n",
       "      <th>TenX.HP2_ref_insertSize_mean</th>\n",
       "      <th>TenX.HP2_ref_insertSize_std</th>\n",
       "      <th>TenX.HP2_ref_reason_alignmentScore</th>\n",
       "      <th>TenX.HP2_ref_reason_orientation</th>\n",
       "      <th>tandemrep_cnt</th>\n",
       "      <th>tandemrep_pct</th>\n",
       "      <th>segdup_cnt</th>\n",
       "      <th>segdup_pct</th>\n",
       "      <th>refN_cnt</th>\n",
       "      <th>refN_pct</th>\n",
       "    </tr>\n",
       "  </thead>\n",
       "  <tbody>\n",
       "    <tr>\n",
       "      <th>0</th>\n",
       "      <td>579.446154</td>\n",
       "      <td>17.934094</td>\n",
       "      <td>65.0</td>\n",
       "      <td>756.430769</td>\n",
       "      <td>163.879409</td>\n",
       "      <td>0.0</td>\n",
       "      <td>65.0</td>\n",
       "      <td>0.0</td>\n",
       "      <td>526.250785</td>\n",
       "      <td>88.797088</td>\n",
       "      <td>...</td>\n",
       "      <td>321.500000</td>\n",
       "      <td>25.500000</td>\n",
       "      <td>2.0</td>\n",
       "      <td>0.0</td>\n",
       "      <td>8.0</td>\n",
       "      <td>0.096911</td>\n",
       "      <td>0.0</td>\n",
       "      <td>0.0</td>\n",
       "      <td>0.0</td>\n",
       "      <td>0.0</td>\n",
       "    </tr>\n",
       "    <tr>\n",
       "      <th>1</th>\n",
       "      <td>557.000000</td>\n",
       "      <td>20.665840</td>\n",
       "      <td>13.0</td>\n",
       "      <td>1158.307692</td>\n",
       "      <td>134.247982</td>\n",
       "      <td>0.0</td>\n",
       "      <td>13.0</td>\n",
       "      <td>0.0</td>\n",
       "      <td>545.050452</td>\n",
       "      <td>62.371767</td>\n",
       "      <td>...</td>\n",
       "      <td>472.250000</td>\n",
       "      <td>138.336019</td>\n",
       "      <td>12.0</td>\n",
       "      <td>0.0</td>\n",
       "      <td>2.0</td>\n",
       "      <td>0.221591</td>\n",
       "      <td>0.0</td>\n",
       "      <td>0.0</td>\n",
       "      <td>0.0</td>\n",
       "      <td>0.0</td>\n",
       "    </tr>\n",
       "    <tr>\n",
       "      <th>2</th>\n",
       "      <td>574.335366</td>\n",
       "      <td>18.613946</td>\n",
       "      <td>164.0</td>\n",
       "      <td>678.518293</td>\n",
       "      <td>139.056203</td>\n",
       "      <td>31.0</td>\n",
       "      <td>133.0</td>\n",
       "      <td>0.0</td>\n",
       "      <td>518.296740</td>\n",
       "      <td>91.633718</td>\n",
       "      <td>...</td>\n",
       "      <td>988.000000</td>\n",
       "      <td>181.532366</td>\n",
       "      <td>3.0</td>\n",
       "      <td>0.0</td>\n",
       "      <td>3.0</td>\n",
       "      <td>0.059443</td>\n",
       "      <td>0.0</td>\n",
       "      <td>0.0</td>\n",
       "      <td>0.0</td>\n",
       "      <td>0.0</td>\n",
       "    </tr>\n",
       "    <tr>\n",
       "      <th>3</th>\n",
       "      <td>582.000000</td>\n",
       "      <td>12.928956</td>\n",
       "      <td>38.0</td>\n",
       "      <td>697.026316</td>\n",
       "      <td>152.204932</td>\n",
       "      <td>4.0</td>\n",
       "      <td>34.0</td>\n",
       "      <td>0.0</td>\n",
       "      <td>528.007583</td>\n",
       "      <td>93.211521</td>\n",
       "      <td>...</td>\n",
       "      <td>330.142857</td>\n",
       "      <td>90.760168</td>\n",
       "      <td>13.0</td>\n",
       "      <td>1.0</td>\n",
       "      <td>1.0</td>\n",
       "      <td>0.240310</td>\n",
       "      <td>0.0</td>\n",
       "      <td>0.0</td>\n",
       "      <td>0.0</td>\n",
       "      <td>0.0</td>\n",
       "    </tr>\n",
       "    <tr>\n",
       "      <th>4</th>\n",
       "      <td>577.937500</td>\n",
       "      <td>16.320496</td>\n",
       "      <td>80.0</td>\n",
       "      <td>751.150000</td>\n",
       "      <td>128.707527</td>\n",
       "      <td>0.0</td>\n",
       "      <td>80.0</td>\n",
       "      <td>0.0</td>\n",
       "      <td>528.103762</td>\n",
       "      <td>93.192739</td>\n",
       "      <td>...</td>\n",
       "      <td>627.210526</td>\n",
       "      <td>409.833031</td>\n",
       "      <td>19.0</td>\n",
       "      <td>0.0</td>\n",
       "      <td>1.0</td>\n",
       "      <td>0.046729</td>\n",
       "      <td>0.0</td>\n",
       "      <td>0.0</td>\n",
       "      <td>0.0</td>\n",
       "      <td>0.0</td>\n",
       "    </tr>\n",
       "  </tbody>\n",
       "</table>\n",
       "<p>5 rows × 170 columns</p>\n",
       "</div>"
      ],
      "text/plain": [
       "   Ill300x.alt_alnScore_mean  Ill300x.alt_alnScore_std  Ill300x.alt_count  \\\n",
       "0                 579.446154                 17.934094               65.0   \n",
       "1                 557.000000                 20.665840               13.0   \n",
       "2                 574.335366                 18.613946              164.0   \n",
       "3                 582.000000                 12.928956               38.0   \n",
       "4                 577.937500                 16.320496               80.0   \n",
       "\n",
       "   Ill300x.alt_insertSize_mean  Ill300x.alt_insertSize_std  \\\n",
       "0                   756.430769                  163.879409   \n",
       "1                  1158.307692                  134.247982   \n",
       "2                   678.518293                  139.056203   \n",
       "3                   697.026316                  152.204932   \n",
       "4                   751.150000                  128.707527   \n",
       "\n",
       "   Ill300x.alt_reason_alignmentScore  Ill300x.alt_reason_insertSizeScore  \\\n",
       "0                                0.0                                65.0   \n",
       "1                                0.0                                13.0   \n",
       "2                               31.0                               133.0   \n",
       "3                                4.0                                34.0   \n",
       "4                                0.0                                80.0   \n",
       "\n",
       "   Ill300x.alt_reason_orientation  Ill300x.amb_alnScore_mean  \\\n",
       "0                             0.0                 526.250785   \n",
       "1                             0.0                 545.050452   \n",
       "2                             0.0                 518.296740   \n",
       "3                             0.0                 528.007583   \n",
       "4                             0.0                 528.103762   \n",
       "\n",
       "   Ill300x.amb_alnScore_std    ...     TenX.HP2_ref_insertSize_mean  \\\n",
       "0                 88.797088    ...                       321.500000   \n",
       "1                 62.371767    ...                       472.250000   \n",
       "2                 91.633718    ...                       988.000000   \n",
       "3                 93.211521    ...                       330.142857   \n",
       "4                 93.192739    ...                       627.210526   \n",
       "\n",
       "   TenX.HP2_ref_insertSize_std  TenX.HP2_ref_reason_alignmentScore  \\\n",
       "0                    25.500000                                 2.0   \n",
       "1                   138.336019                                12.0   \n",
       "2                   181.532366                                 3.0   \n",
       "3                    90.760168                                13.0   \n",
       "4                   409.833031                                19.0   \n",
       "\n",
       "   TenX.HP2_ref_reason_orientation  tandemrep_cnt  tandemrep_pct  segdup_cnt  \\\n",
       "0                              0.0            8.0       0.096911         0.0   \n",
       "1                              0.0            2.0       0.221591         0.0   \n",
       "2                              0.0            3.0       0.059443         0.0   \n",
       "3                              1.0            1.0       0.240310         0.0   \n",
       "4                              0.0            1.0       0.046729         0.0   \n",
       "\n",
       "   segdup_pct  refN_cnt  refN_pct  \n",
       "0         0.0       0.0       0.0  \n",
       "1         0.0       0.0       0.0  \n",
       "2         0.0       0.0       0.0  \n",
       "3         0.0       0.0       0.0  \n",
       "4         0.0       0.0       0.0  \n",
       "\n",
       "[5 rows x 170 columns]"
      ]
     },
     "execution_count": 18,
     "metadata": {},
     "output_type": "execute_result"
    }
   ],
   "source": [
    "X.head()"
   ]
  },
  {
   "cell_type": "markdown",
   "metadata": {},
   "source": [
    "** Standardize Data **"
   ]
  },
  {
   "cell_type": "markdown",
   "metadata": {},
   "source": [
    "** Note **\n",
    "\n",
    "Features only were standardized\n",
    "\n",
    "** For final analysis, data not standardized **"
   ]
  },
  {
   "cell_type": "code",
   "execution_count": 211,
   "metadata": {
    "collapsed": true
   },
   "outputs": [],
   "source": [
    "# scaler=preprocessing.StandardScaler()\n",
    "# X=scaler.fit_transform(X)"
   ]
  },
  {
   "cell_type": "markdown",
   "metadata": {},
   "source": [
    "** Train Random Forest Classifier **"
   ]
  },
  {
   "cell_type": "code",
   "execution_count": 19,
   "metadata": {
    "collapsed": true
   },
   "outputs": [],
   "source": [
    "# Train Test Split\n",
    "# Train on 70% of the data and test on 30%\n",
    "X_train, X_test, y_train, y_test = train_test_split(X, Y, test_size=0.7, random_state=0)"
   ]
  },
  {
   "cell_type": "code",
   "execution_count": 20,
   "metadata": {},
   "outputs": [
    {
     "name": "stderr",
     "output_type": "stream",
     "text": [
      "/Users/lmc2/anaconda/envs/NIHFAES/lib/python3.5/site-packages/ipykernel/__main__.py:3: DataConversionWarning:\n",
      "\n",
      "A column-vector y was passed when a 1d array was expected. Please change the shape of y to (n_samples,), for example using ravel().\n",
      "\n"
     ]
    },
    {
     "data": {
      "text/plain": [
       "RandomForestClassifier(bootstrap=True, class_weight=None, criterion='gini',\n",
       "            max_depth=None, max_features='auto', max_leaf_nodes=None,\n",
       "            min_impurity_split=1e-07, min_samples_leaf=1,\n",
       "            min_samples_split=2, min_weight_fraction_leaf=0.0,\n",
       "            n_estimators=10, n_jobs=1, oob_score=False, random_state=None,\n",
       "            verbose=0, warm_start=False)"
      ]
     },
     "execution_count": 20,
     "metadata": {},
     "output_type": "execute_result"
    }
   ],
   "source": [
    "# Train Random Forest Classifier\n",
    "model = RandomForestClassifier() \n",
    "model.fit(X_train, y_train)"
   ]
  },
  {
   "cell_type": "markdown",
   "metadata": {},
   "source": [
    "** Precision Score **\n",
    "- Overall model performance\n",
    "- Using 30% of original dataset (test set)\n",
    "- Truth labels: CrowdVariant labels"
   ]
  },
  {
   "cell_type": "code",
   "execution_count": 21,
   "metadata": {},
   "outputs": [
    {
     "data": {
      "text/plain": [
       "array([ 0.,  1.,  1., ...,  0.,  1.,  0.])"
      ]
     },
     "execution_count": 21,
     "metadata": {},
     "output_type": "execute_result"
    }
   ],
   "source": [
    "model.predict(X_test)"
   ]
  },
  {
   "cell_type": "code",
   "execution_count": 22,
   "metadata": {
    "collapsed": true
   },
   "outputs": [],
   "source": [
    "pred = model.predict(X_test)"
   ]
  },
  {
   "cell_type": "code",
   "execution_count": 23,
   "metadata": {},
   "outputs": [
    {
     "data": {
      "text/plain": [
       "0.98209236569274272"
      ]
     },
     "execution_count": 23,
     "metadata": {},
     "output_type": "execute_result"
    }
   ],
   "source": [
    "precision_score(y_test, pred, average='micro') "
   ]
  },
  {
   "cell_type": "markdown",
   "metadata": {},
   "source": [
    "** Future Task **\n",
    "\n",
    "Use GridSearch to find the best parameters"
   ]
  },
  {
   "cell_type": "markdown",
   "metadata": {},
   "source": [
    "***\n",
    "Prediction \n",
    "***\n",
    "\n",
    "Used svviz.HG002 data from first 5000 random selection"
   ]
  },
  {
   "cell_type": "markdown",
   "metadata": {},
   "source": [
    "**Data Label Update**\n",
    "\n",
    "Svviz GT Labels and CrowdVar GT Labels do not match\n",
    "\n",
    "Created a new set of labels for the svviz HG002 Deletions Dataframe\n",
    "\n",
    "CrowdVar GT Label Key\n",
    "\n",
    "- 0: Hom. Var.\n",
    "- 1: Het Var\n",
    "- 2: Hom Ref\n",
    "\n",
    "svviz GTcons Labels\n",
    "\n",
    "- 0: Hom Ref\n",
    "- 1: Het Var\n",
    "- 2: Hom Var\n",
    "\n",
    "Changed svviz DF (svviz.Annotate.DEL.HG002_2.csv) to have the following data labels (which match CrowdVar)\n",
    "New Column (GIAB_Crowd)\n",
    "\n",
    "- 0: Hom. Var.\n",
    "- 1: Het Var\n",
    "- 2: Hom Ref\n",
    "\n",
    "**Store** all rows that have '-1' in a separate dataframe\n",
    "- including '-1' will throw an error in accuracy and prediction measures\n",
    "- will use these entries as final prediction set"
   ]
  },
  {
   "cell_type": "markdown",
   "metadata": {},
   "source": [
    "Used excel formula to manually change svviz.HG002 labels\n",
    "\n",
    "=IF(GB2=0,2,IF(GB2=2,0,1))"
   ]
  },
  {
   "cell_type": "code",
   "execution_count": 348,
   "metadata": {
    "collapsed": true
   },
   "outputs": [],
   "source": [
    "# HG002_pred_2 = pd.read_csv('/Users/lmc2/NIST/Notebooks/CrowdVariant/svviz.Annotate.DEL.HG002_data2.csv')"
   ]
  },
  {
   "cell_type": "code",
   "execution_count": 24,
   "metadata": {
    "collapsed": true
   },
   "outputs": [],
   "source": [
    "HG002_pred = pd.read_csv('/Users/lmc2/NIST/Notebooks/CrowdVariant/svviz.Annotate.DEL.HG002_data2.csv')"
   ]
  },
  {
   "cell_type": "code",
   "execution_count": 25,
   "metadata": {
    "collapsed": true
   },
   "outputs": [],
   "source": [
    "HG002_pred_2 = pd.read_csv('/Users/lmc2/NIST/Notebooks/CrowdVariant/svviz.Annotate.DEL.HG002_data2.csv')"
   ]
  },
  {
   "cell_type": "code",
   "execution_count": 125,
   "metadata": {
    "collapsed": true
   },
   "outputs": [],
   "source": [
    "# HG002_orig_df = pd.read_csv('/Users/lmc2/NIST/Notebooks/CrowdVariant/svviz.Annotate.DEL.HG002.csv')\n",
    "# HG002_orig_df.shape"
   ]
  },
  {
   "cell_type": "code",
   "execution_count": 26,
   "metadata": {
    "collapsed": true
   },
   "outputs": [],
   "source": [
    "### Drop irrelevant columns\n",
    "# Note: Features in the prediction dataframe must match the features in the dataframe (CrowdVar) used to train the RF model\n",
    "# NOTE TODO: Include size\n",
    "HG002_pred.drop(['GTcons'], axis=1, inplace = True)\n",
    "HG002_pred.drop(['GTconflict'], axis=1, inplace = True)\n",
    "HG002_pred.drop(['GTsupp'], axis=1, inplace = True)\n",
    "HG002_pred.drop('SVtype', axis=1)\n",
    "HG002_pred.drop('type',axis=1)\n",
    "HG002_pred.drop(['type'],axis=1, inplace = True)\n",
    "HG002_pred.drop(['SVtype'],axis=1, inplace = True)\n",
    "HG002_pred.drop(['start'],axis=1, inplace = True)\n",
    "HG002_pred.drop(['end'],axis=1, inplace = True)\n",
    "HG002_pred.drop(['chrom'],axis=1, inplace = True)\n",
    "HG002_pred.drop(['Size'],axis=1, inplace = True)\n",
    "HG002_pred.drop(['TenX.GT'],axis=1, inplace = True)\n",
    "HG002_pred.drop(['pacbio.GT'],axis=1, inplace = True)\n",
    "HG002_pred.drop(['IllMP.GT'],axis=1, inplace = True)\n",
    "HG002_pred.drop(['Ill250.GT'],axis=1, inplace = True)\n",
    "HG002_pred.drop(['Ill300x.GT'],axis=1, inplace = True)\n",
    "HG002_pred.drop(['sample'],axis=1, inplace = True)\n",
    "HG002_pred.drop(['id'],axis=1, inplace = True)\n",
    "# HG002_pred.drop(['GIAB_Crowd'],axis=1, inplace = True)"
   ]
  },
  {
   "cell_type": "code",
   "execution_count": 27,
   "metadata": {},
   "outputs": [
    {
     "data": {
      "text/html": [
       "<div>\n",
       "<table border=\"1\" class=\"dataframe\">\n",
       "  <thead>\n",
       "    <tr style=\"text-align: right;\">\n",
       "      <th></th>\n",
       "      <th>Ill300x.alt_alnScore_mean</th>\n",
       "      <th>Ill300x.alt_alnScore_std</th>\n",
       "      <th>Ill300x.alt_count</th>\n",
       "      <th>Ill300x.alt_insertSize_mean</th>\n",
       "      <th>Ill300x.alt_insertSize_std</th>\n",
       "      <th>Ill300x.alt_reason_alignmentScore</th>\n",
       "      <th>Ill300x.alt_reason_insertSizeScore</th>\n",
       "      <th>Ill300x.alt_reason_orientation</th>\n",
       "      <th>Ill300x.amb_alnScore_mean</th>\n",
       "      <th>Ill300x.amb_alnScore_std</th>\n",
       "      <th>...</th>\n",
       "      <th>pacbio.ref_insertSize_mean</th>\n",
       "      <th>pacbio.ref_insertSize_std</th>\n",
       "      <th>pacbio.ref_reason_alignmentScore</th>\n",
       "      <th>tandemrep_cnt</th>\n",
       "      <th>tandemrep_pct</th>\n",
       "      <th>segdup_cnt</th>\n",
       "      <th>segdup_pct</th>\n",
       "      <th>refN_cnt</th>\n",
       "      <th>refN_pct</th>\n",
       "      <th>GIAB_Crowd</th>\n",
       "    </tr>\n",
       "  </thead>\n",
       "  <tbody>\n",
       "    <tr>\n",
       "      <th>0</th>\n",
       "      <td>562.0</td>\n",
       "      <td>17.962925</td>\n",
       "      <td>6.0</td>\n",
       "      <td>1044.666667</td>\n",
       "      <td>71.448505</td>\n",
       "      <td>0.0</td>\n",
       "      <td>6.0</td>\n",
       "      <td>0.0</td>\n",
       "      <td>533.576802</td>\n",
       "      <td>80.474306</td>\n",
       "      <td>...</td>\n",
       "      <td>8139.555556</td>\n",
       "      <td>4575.304996</td>\n",
       "      <td>18.0</td>\n",
       "      <td>0</td>\n",
       "      <td>0.0</td>\n",
       "      <td>1</td>\n",
       "      <td>0.679775</td>\n",
       "      <td>0</td>\n",
       "      <td>0</td>\n",
       "      <td>2</td>\n",
       "    </tr>\n",
       "    <tr>\n",
       "      <th>1</th>\n",
       "      <td>580.0</td>\n",
       "      <td>18.547237</td>\n",
       "      <td>4.0</td>\n",
       "      <td>995.250000</td>\n",
       "      <td>257.372663</td>\n",
       "      <td>1.0</td>\n",
       "      <td>3.0</td>\n",
       "      <td>0.0</td>\n",
       "      <td>545.406928</td>\n",
       "      <td>83.380074</td>\n",
       "      <td>...</td>\n",
       "      <td>9962.936170</td>\n",
       "      <td>4301.895260</td>\n",
       "      <td>47.0</td>\n",
       "      <td>0</td>\n",
       "      <td>0.0</td>\n",
       "      <td>1</td>\n",
       "      <td>1.000000</td>\n",
       "      <td>0</td>\n",
       "      <td>0</td>\n",
       "      <td>2</td>\n",
       "    </tr>\n",
       "    <tr>\n",
       "      <th>2</th>\n",
       "      <td>0.0</td>\n",
       "      <td>0.000000</td>\n",
       "      <td>0.0</td>\n",
       "      <td>0.000000</td>\n",
       "      <td>0.000000</td>\n",
       "      <td>0.0</td>\n",
       "      <td>0.0</td>\n",
       "      <td>0.0</td>\n",
       "      <td>539.468680</td>\n",
       "      <td>91.800665</td>\n",
       "      <td>...</td>\n",
       "      <td>11189.146340</td>\n",
       "      <td>4525.451410</td>\n",
       "      <td>41.0</td>\n",
       "      <td>0</td>\n",
       "      <td>0.0</td>\n",
       "      <td>0</td>\n",
       "      <td>0.000000</td>\n",
       "      <td>0</td>\n",
       "      <td>0</td>\n",
       "      <td>2</td>\n",
       "    </tr>\n",
       "    <tr>\n",
       "      <th>3</th>\n",
       "      <td>0.0</td>\n",
       "      <td>0.000000</td>\n",
       "      <td>0.0</td>\n",
       "      <td>0.000000</td>\n",
       "      <td>0.000000</td>\n",
       "      <td>0.0</td>\n",
       "      <td>0.0</td>\n",
       "      <td>0.0</td>\n",
       "      <td>541.033679</td>\n",
       "      <td>91.702755</td>\n",
       "      <td>...</td>\n",
       "      <td>9694.425532</td>\n",
       "      <td>4306.492796</td>\n",
       "      <td>47.0</td>\n",
       "      <td>0</td>\n",
       "      <td>0.0</td>\n",
       "      <td>0</td>\n",
       "      <td>0.000000</td>\n",
       "      <td>0</td>\n",
       "      <td>0</td>\n",
       "      <td>2</td>\n",
       "    </tr>\n",
       "    <tr>\n",
       "      <th>4</th>\n",
       "      <td>568.0</td>\n",
       "      <td>0.000000</td>\n",
       "      <td>1.0</td>\n",
       "      <td>1093.000000</td>\n",
       "      <td>0.000000</td>\n",
       "      <td>0.0</td>\n",
       "      <td>1.0</td>\n",
       "      <td>0.0</td>\n",
       "      <td>536.675808</td>\n",
       "      <td>91.270082</td>\n",
       "      <td>...</td>\n",
       "      <td>9724.000000</td>\n",
       "      <td>4161.441384</td>\n",
       "      <td>51.0</td>\n",
       "      <td>0</td>\n",
       "      <td>0.0</td>\n",
       "      <td>0</td>\n",
       "      <td>0.000000</td>\n",
       "      <td>0</td>\n",
       "      <td>0</td>\n",
       "      <td>2</td>\n",
       "    </tr>\n",
       "  </tbody>\n",
       "</table>\n",
       "<p>5 rows × 177 columns</p>\n",
       "</div>"
      ],
      "text/plain": [
       "   Ill300x.alt_alnScore_mean  Ill300x.alt_alnScore_std  Ill300x.alt_count  \\\n",
       "0                      562.0                 17.962925                6.0   \n",
       "1                      580.0                 18.547237                4.0   \n",
       "2                        0.0                  0.000000                0.0   \n",
       "3                        0.0                  0.000000                0.0   \n",
       "4                      568.0                  0.000000                1.0   \n",
       "\n",
       "   Ill300x.alt_insertSize_mean  Ill300x.alt_insertSize_std  \\\n",
       "0                  1044.666667                   71.448505   \n",
       "1                   995.250000                  257.372663   \n",
       "2                     0.000000                    0.000000   \n",
       "3                     0.000000                    0.000000   \n",
       "4                  1093.000000                    0.000000   \n",
       "\n",
       "   Ill300x.alt_reason_alignmentScore  Ill300x.alt_reason_insertSizeScore  \\\n",
       "0                                0.0                                 6.0   \n",
       "1                                1.0                                 3.0   \n",
       "2                                0.0                                 0.0   \n",
       "3                                0.0                                 0.0   \n",
       "4                                0.0                                 1.0   \n",
       "\n",
       "   Ill300x.alt_reason_orientation  Ill300x.amb_alnScore_mean  \\\n",
       "0                             0.0                 533.576802   \n",
       "1                             0.0                 545.406928   \n",
       "2                             0.0                 539.468680   \n",
       "3                             0.0                 541.033679   \n",
       "4                             0.0                 536.675808   \n",
       "\n",
       "   Ill300x.amb_alnScore_std     ...      pacbio.ref_insertSize_mean  \\\n",
       "0                 80.474306     ...                     8139.555556   \n",
       "1                 83.380074     ...                     9962.936170   \n",
       "2                 91.800665     ...                    11189.146340   \n",
       "3                 91.702755     ...                     9694.425532   \n",
       "4                 91.270082     ...                     9724.000000   \n",
       "\n",
       "   pacbio.ref_insertSize_std  pacbio.ref_reason_alignmentScore  tandemrep_cnt  \\\n",
       "0                4575.304996                              18.0              0   \n",
       "1                4301.895260                              47.0              0   \n",
       "2                4525.451410                              41.0              0   \n",
       "3                4306.492796                              47.0              0   \n",
       "4                4161.441384                              51.0              0   \n",
       "\n",
       "   tandemrep_pct  segdup_cnt  segdup_pct  refN_cnt  refN_pct  GIAB_Crowd  \n",
       "0            0.0           1    0.679775         0         0           2  \n",
       "1            0.0           1    1.000000         0         0           2  \n",
       "2            0.0           0    0.000000         0         0           2  \n",
       "3            0.0           0    0.000000         0         0           2  \n",
       "4            0.0           0    0.000000         0         0           2  \n",
       "\n",
       "[5 rows x 177 columns]"
      ]
     },
     "execution_count": 27,
     "metadata": {},
     "output_type": "execute_result"
    }
   ],
   "source": [
    "HG002_pred.head()"
   ]
  },
  {
   "cell_type": "code",
   "execution_count": 28,
   "metadata": {
    "collapsed": true
   },
   "outputs": [],
   "source": [
    "HG002_pred.to_csv('HG002_pred.csv', index=False)"
   ]
  },
  {
   "cell_type": "code",
   "execution_count": 29,
   "metadata": {
    "collapsed": true
   },
   "outputs": [],
   "source": [
    "X2 = HG002_pred"
   ]
  },
  {
   "cell_type": "markdown",
   "metadata": {},
   "source": [
    "** Impute missing values using KNN **"
   ]
  },
  {
   "cell_type": "code",
   "execution_count": 30,
   "metadata": {},
   "outputs": [
    {
     "name": "stdout",
     "output_type": "stream",
     "text": [
      "Imputing row 1/2805 with 1 missing, elapsed time: 6.829\n",
      "Imputing row 101/2805 with 1 missing, elapsed time: 6.846\n",
      "Imputing row 201/2805 with 1 missing, elapsed time: 6.862\n",
      "Imputing row 301/2805 with 1 missing, elapsed time: 6.875\n",
      "Imputing row 401/2805 with 1 missing, elapsed time: 6.885\n",
      "Imputing row 501/2805 with 1 missing, elapsed time: 6.894\n",
      "Imputing row 601/2805 with 2 missing, elapsed time: 6.904\n",
      "Imputing row 701/2805 with 2 missing, elapsed time: 6.916\n",
      "Imputing row 801/2805 with 1 missing, elapsed time: 6.924\n",
      "Imputing row 901/2805 with 1 missing, elapsed time: 6.933\n",
      "Imputing row 1001/2805 with 1 missing, elapsed time: 6.940\n",
      "Imputing row 1101/2805 with 1 missing, elapsed time: 6.948\n",
      "Imputing row 1201/2805 with 1 missing, elapsed time: 6.959\n",
      "Imputing row 1301/2805 with 1 missing, elapsed time: 6.971\n",
      "Imputing row 1401/2805 with 1 missing, elapsed time: 6.980\n",
      "Imputing row 1501/2805 with 1 missing, elapsed time: 6.985\n",
      "Imputing row 1601/2805 with 2 missing, elapsed time: 6.997\n",
      "Imputing row 1701/2805 with 2 missing, elapsed time: 7.005\n",
      "Imputing row 1801/2805 with 1 missing, elapsed time: 7.014\n",
      "Imputing row 1901/2805 with 1 missing, elapsed time: 7.023\n",
      "Imputing row 2001/2805 with 1 missing, elapsed time: 7.032\n",
      "Imputing row 2101/2805 with 1 missing, elapsed time: 7.037\n",
      "Imputing row 2201/2805 with 1 missing, elapsed time: 7.042\n",
      "Imputing row 2301/2805 with 1 missing, elapsed time: 7.059\n",
      "Imputing row 2401/2805 with 1 missing, elapsed time: 7.082\n",
      "Imputing row 2501/2805 with 2 missing, elapsed time: 7.091\n",
      "Imputing row 2601/2805 with 1 missing, elapsed time: 7.105\n",
      "Imputing row 2701/2805 with 1 missing, elapsed time: 7.126\n",
      "Imputing row 2801/2805 with 60 missing, elapsed time: 7.146\n"
     ]
    }
   ],
   "source": [
    "# Convert dataframe to matrix\n",
    "X2=X2.as_matrix()\n",
    "\n",
    "#Imput missing values from three closest observations\n",
    "X2_imputed=KNN(k=3).complete(X2)\n",
    "X2=pd.DataFrame(X2_imputed)"
   ]
  },
  {
   "cell_type": "code",
   "execution_count": 131,
   "metadata": {
    "collapsed": true
   },
   "outputs": [],
   "source": [
    "# X2.columns = ['Size','Ill300x.alt_alnScore_mean','Ill300x.alt_alnScore_std','Ill300x.alt_count','Ill300x.alt_insertSize_mean','Ill300x.alt_insertSize_std','Ill300x.alt_reason_alignmentScore','Ill300x.alt_reason_insertSizeScore','Ill300x.alt_reason_orientation','Ill300x.amb_alnScore_mean','Ill300x.amb_alnScore_std','Ill300x.amb_count','Ill300x.amb_insertSize_mean','Ill300x.amb_insertSize_std','Ill300x.amb_reason_alignmentScore_alignmentScore','Ill300x.amb_reason_alignmentScore_orientation','Ill300x.amb_reason_flanking','Ill300x.amb_reason_insertSizeScore_alignmentScore','Ill300x.amb_reason_insertSizeScore_insertSizeScore','Ill300x.amb_reason_insertSizeScore_orientation','Ill300x.amb_reason_multimapping','Ill300x.amb_reason_orientation_alignmentScore','Ill300x.amb_reason_orientation_orientation','Ill300x.amb_reason_same_scores','Ill300x.ref_alnScore_mean','Ill300x.ref_alnScore_std','Ill300x.ref_count','Ill300x.ref_insertSize_mean','Ill300x.ref_insertSize_std','Ill300x.ref_reason_alignmentScore','Ill300x.ref_reason_insertSizeScore','Ill300x.ref_reason_orientation','Ill250.alt_alnScore_mean','Ill250.alt_alnScore_std','Ill250.alt_count','Ill250.alt_insertSize_mean','Ill250.alt_insertSize_std','Ill250.alt_reason_alignmentScore','Ill250.alt_reason_insertSizeScore','Ill250.alt_reason_orientation','Ill250.amb_alnScore_mean','Ill250.amb_alnScore_std','Ill250.amb_count','Ill250.amb_insertSize_mean','Ill250.amb_insertSize_std','Ill250.amb_reason_alignmentScore_alignmentScore','Ill250.amb_reason_alignmentScore_orientation','Ill250.amb_reason_flanking','Ill250.amb_reason_insertSizeScore_alignmentScore','Ill250.amb_reason_multimapping','Ill250.amb_reason_orientation_alignmentScore','Ill250.amb_reason_orientation_orientation','Ill250.amb_reason_same_scores','Ill250.ref_alnScore_mean','Ill250.ref_alnScore_std','Ill250.ref_count','Ill250.ref_insertSize_mean','Ill250.ref_insertSize_std','Ill250.ref_reason_alignmentScore','Ill250.ref_reason_orientation','IllMP.alt_alnScore_mean','IllMP.alt_alnScore_std','IllMP.alt_count','IllMP.alt_insertSize_mean','IllMP.alt_insertSize_std','IllMP.alt_reason_alignmentScore','IllMP.alt_reason_insertSizeScore','IllMP.alt_reason_orientation','IllMP.amb_alnScore_mean','IllMP.amb_alnScore_std','IllMP.amb_count','IllMP.amb_insertSize_mean','IllMP.amb_insertSize_std','IllMP.amb_reason_alignmentScore_alignmentScore','IllMP.amb_reason_alignmentScore_orientation','IllMP.amb_reason_flanking','IllMP.amb_reason_insertSizeScore_alignmentScore','IllMP.amb_reason_insertSizeScore_insertSizeScore','IllMP.amb_reason_multimapping','IllMP.amb_reason_orientation_alignmentScore','IllMP.amb_reason_orientation_orientation','IllMP.amb_reason_same_scores','IllMP.ref_alnScore_mean','IllMP.ref_alnScore_std','IllMP.ref_count','IllMP.ref_insertSize_mean','IllMP.ref_insertSize_std','IllMP.ref_reason_alignmentScore','IllMP.ref_reason_insertSizeScore','IllMP.ref_reason_orientation','TenX.HP1_alt_alnScore_mean','TenX.HP1_alt_alnScore_std','TenX.HP1_alt_count','TenX.HP1_alt_insertSize_mean','TenX.HP1_alt_insertSize_std','TenX.HP1_alt_reason_alignmentScore','TenX.HP1_alt_reason_insertSizeScore','TenX.HP1_alt_reason_orientation','TenX.HP1_amb_alnScore_mean','TenX.HP1_amb_alnScore_std','TenX.HP1_amb_count','TenX.HP1_amb_insertSize_mean','TenX.HP1_amb_insertSize_std','TenX.HP1_amb_reason_alignmentScore_alignmentScore','TenX.HP1_amb_reason_alignmentScore_orientation','TenX.HP1_amb_reason_flanking','TenX.HP1_amb_reason_insertSizeScore_alignmentScore','TenX.HP1_amb_reason_insertSizeScore_insertSizeScore','TenX.HP1_amb_reason_multimapping','TenX.HP1_amb_reason_orientation_alignmentScore','TenX.HP1_amb_reason_orientation_orientation','TenX.HP1_amb_reason_same_scores','TenX.HP1_ref_alnScore_mean','TenX.HP1_ref_alnScore_std','TenX.HP1_ref_count','TenX.HP1_ref_insertSize_mean','TenX.HP1_ref_insertSize_std','TenX.HP1_ref_reason_alignmentScore','TenX.HP1_ref_reason_insertSizeScore','TenX.HP1_ref_reason_orientation','TenX.HP2_alt_alnScore_mean','TenX.HP2_alt_alnScore_std','TenX.HP2_alt_count','TenX.HP2_alt_insertSize_mean','TenX.HP2_alt_insertSize_std','TenX.HP2_alt_reason_alignmentScore','TenX.HP2_alt_reason_insertSizeScore','TenX.HP2_alt_reason_orientation','TenX.HP2_amb_alnScore_mean','TenX.HP2_amb_alnScore_std','TenX.HP2_amb_count','TenX.HP2_amb_insertSize_mean','TenX.HP2_amb_insertSize_std','TenX.HP2_amb_reason_alignmentScore_alignmentScore','TenX.HP2_amb_reason_alignmentScore_orientation','TenX.HP2_amb_reason_flanking','TenX.HP2_amb_reason_insertSizeScore_alignmentScore','TenX.HP2_amb_reason_insertSizeScore_insertSizeScore','TenX.HP2_amb_reason_multimapping','TenX.HP2_amb_reason_orientation_alignmentScore','TenX.HP2_amb_reason_orientation_insertSizeScore','TenX.HP2_amb_reason_orientation_orientation','TenX.HP2_amb_reason_same_scores','TenX.HP2_ref_alnScore_mean','TenX.HP2_ref_alnScore_std','TenX.HP2_ref_count','TenX.HP2_ref_insertSize_mean','TenX.HP2_ref_insertSize_std','TenX.HP2_ref_reason_alignmentScore','TenX.HP2_ref_reason_orientation','pacbio.alt_alnScore_mean','pacbio.alt_alnScore_std','pacbio.alt_count','pacbio.alt_insertSize_mean','pacbio.alt_insertSize_std','pacbio.alt_reason_alignmentScore','pacbio.amb_alnScore_mean','pacbio.amb_alnScore_std','pacbio.amb_count','pacbio.amb_insertSize_mean','pacbio.amb_insertSize_std','pacbio.amb_reason_alignmentScore_alignmentScore','pacbio.amb_reason_flanking','pacbio.amb_reason_multimapping','pacbio.amb_reason_same_scores','pacbio.ref_alnScore_mean','pacbio.ref_alnScore_std','pacbio.ref_count','pacbio.ref_insertSize_mean','pacbio.ref_insertSize_std','pacbio.ref_reason_alignmentScore','tandemrep_cnt','tandemrep_pct','segdup_cnt','segdup_pct','refN_cnt','refN_pct', 'GIAB_Crowd']"
   ]
  },
  {
   "cell_type": "code",
   "execution_count": 31,
   "metadata": {
    "collapsed": true
   },
   "outputs": [],
   "source": [
    "# Rename Columns in the dataframe\n",
    "X2.columns = ['Ill300x.alt_alnScore_mean','Ill300x.alt_alnScore_std','Ill300x.alt_count','Ill300x.alt_insertSize_mean','Ill300x.alt_insertSize_std','Ill300x.alt_reason_alignmentScore','Ill300x.alt_reason_insertSizeScore','Ill300x.alt_reason_orientation','Ill300x.amb_alnScore_mean','Ill300x.amb_alnScore_std','Ill300x.amb_count','Ill300x.amb_insertSize_mean','Ill300x.amb_insertSize_std','Ill300x.amb_reason_alignmentScore_alignmentScore','Ill300x.amb_reason_alignmentScore_orientation','Ill300x.amb_reason_flanking','Ill300x.amb_reason_insertSizeScore_alignmentScore','Ill300x.amb_reason_insertSizeScore_insertSizeScore','Ill300x.amb_reason_insertSizeScore_orientation','Ill300x.amb_reason_multimapping','Ill300x.amb_reason_orientation_alignmentScore','Ill300x.amb_reason_orientation_orientation','Ill300x.amb_reason_same_scores','Ill300x.ref_alnScore_mean','Ill300x.ref_alnScore_std','Ill300x.ref_count','Ill300x.ref_insertSize_mean','Ill300x.ref_insertSize_std','Ill300x.ref_reason_alignmentScore','Ill300x.ref_reason_insertSizeScore','Ill300x.ref_reason_orientation','Ill250.alt_alnScore_mean','Ill250.alt_alnScore_std','Ill250.alt_count','Ill250.alt_insertSize_mean','Ill250.alt_insertSize_std','Ill250.alt_reason_alignmentScore','Ill250.alt_reason_insertSizeScore','Ill250.alt_reason_orientation','Ill250.amb_alnScore_mean','Ill250.amb_alnScore_std','Ill250.amb_count','Ill250.amb_insertSize_mean','Ill250.amb_insertSize_std','Ill250.amb_reason_alignmentScore_alignmentScore','Ill250.amb_reason_alignmentScore_orientation','Ill250.amb_reason_flanking','Ill250.amb_reason_insertSizeScore_alignmentScore','Ill250.amb_reason_multimapping','Ill250.amb_reason_orientation_alignmentScore','Ill250.amb_reason_orientation_orientation','Ill250.amb_reason_same_scores','Ill250.ref_alnScore_mean','Ill250.ref_alnScore_std','Ill250.ref_count','Ill250.ref_insertSize_mean','Ill250.ref_insertSize_std','Ill250.ref_reason_alignmentScore','Ill250.ref_reason_orientation','IllMP.alt_alnScore_mean','IllMP.alt_alnScore_std','IllMP.alt_count','IllMP.alt_insertSize_mean','IllMP.alt_insertSize_std','IllMP.alt_reason_alignmentScore','IllMP.alt_reason_insertSizeScore','IllMP.alt_reason_orientation','IllMP.amb_alnScore_mean','IllMP.amb_alnScore_std','IllMP.amb_count','IllMP.amb_insertSize_mean','IllMP.amb_insertSize_std','IllMP.amb_reason_alignmentScore_alignmentScore','IllMP.amb_reason_alignmentScore_orientation','IllMP.amb_reason_flanking','IllMP.amb_reason_insertSizeScore_alignmentScore','IllMP.amb_reason_insertSizeScore_insertSizeScore','IllMP.amb_reason_multimapping','IllMP.amb_reason_orientation_alignmentScore','IllMP.amb_reason_orientation_orientation','IllMP.amb_reason_same_scores','IllMP.ref_alnScore_mean','IllMP.ref_alnScore_std','IllMP.ref_count','IllMP.ref_insertSize_mean','IllMP.ref_insertSize_std','IllMP.ref_reason_alignmentScore','IllMP.ref_reason_insertSizeScore','IllMP.ref_reason_orientation','TenX.HP1_alt_alnScore_mean','TenX.HP1_alt_alnScore_std','TenX.HP1_alt_count','TenX.HP1_alt_insertSize_mean','TenX.HP1_alt_insertSize_std','TenX.HP1_alt_reason_alignmentScore','TenX.HP1_alt_reason_insertSizeScore','TenX.HP1_alt_reason_orientation','TenX.HP1_amb_alnScore_mean','TenX.HP1_amb_alnScore_std','TenX.HP1_amb_count','TenX.HP1_amb_insertSize_mean','TenX.HP1_amb_insertSize_std','TenX.HP1_amb_reason_alignmentScore_alignmentScore','TenX.HP1_amb_reason_alignmentScore_orientation','TenX.HP1_amb_reason_flanking','TenX.HP1_amb_reason_insertSizeScore_alignmentScore','TenX.HP1_amb_reason_insertSizeScore_insertSizeScore','TenX.HP1_amb_reason_multimapping','TenX.HP1_amb_reason_orientation_alignmentScore','TenX.HP1_amb_reason_orientation_orientation','TenX.HP1_amb_reason_same_scores','TenX.HP1_ref_alnScore_mean','TenX.HP1_ref_alnScore_std','TenX.HP1_ref_count','TenX.HP1_ref_insertSize_mean','TenX.HP1_ref_insertSize_std','TenX.HP1_ref_reason_alignmentScore','TenX.HP1_ref_reason_insertSizeScore','TenX.HP1_ref_reason_orientation','TenX.HP2_alt_alnScore_mean','TenX.HP2_alt_alnScore_std','TenX.HP2_alt_count','TenX.HP2_alt_insertSize_mean','TenX.HP2_alt_insertSize_std','TenX.HP2_alt_reason_alignmentScore','TenX.HP2_alt_reason_insertSizeScore','TenX.HP2_alt_reason_orientation','TenX.HP2_amb_alnScore_mean','TenX.HP2_amb_alnScore_std','TenX.HP2_amb_count','TenX.HP2_amb_insertSize_mean','TenX.HP2_amb_insertSize_std','TenX.HP2_amb_reason_alignmentScore_alignmentScore','TenX.HP2_amb_reason_alignmentScore_orientation','TenX.HP2_amb_reason_flanking','TenX.HP2_amb_reason_insertSizeScore_alignmentScore','TenX.HP2_amb_reason_insertSizeScore_insertSizeScore','TenX.HP2_amb_reason_multimapping','TenX.HP2_amb_reason_orientation_alignmentScore','TenX.HP2_amb_reason_orientation_insertSizeScore','TenX.HP2_amb_reason_orientation_orientation','TenX.HP2_amb_reason_same_scores','TenX.HP2_ref_alnScore_mean','TenX.HP2_ref_alnScore_std','TenX.HP2_ref_count','TenX.HP2_ref_insertSize_mean','TenX.HP2_ref_insertSize_std','TenX.HP2_ref_reason_alignmentScore','TenX.HP2_ref_reason_orientation','pacbio.alt_alnScore_mean','pacbio.alt_alnScore_std','pacbio.alt_count','pacbio.alt_insertSize_mean','pacbio.alt_insertSize_std','pacbio.alt_reason_alignmentScore','pacbio.amb_alnScore_mean','pacbio.amb_alnScore_std','pacbio.amb_count','pacbio.amb_insertSize_mean','pacbio.amb_insertSize_std','pacbio.amb_reason_alignmentScore_alignmentScore','pacbio.amb_reason_flanking','pacbio.amb_reason_multimapping','pacbio.amb_reason_same_scores','pacbio.ref_alnScore_mean','pacbio.ref_alnScore_std','pacbio.ref_count','pacbio.ref_insertSize_mean','pacbio.ref_insertSize_std','pacbio.ref_reason_alignmentScore','tandemrep_cnt','tandemrep_pct','segdup_cnt','segdup_pct','refN_cnt','refN_pct','GIAB_Crowd']"
   ]
  },
  {
   "cell_type": "code",
   "execution_count": 32,
   "metadata": {
    "collapsed": true
   },
   "outputs": [],
   "source": [
    "# Select columns that match columns in training dataframe\n",
    "#Features in training set must match features in the prediction set\n",
    "X2=X2[['Ill300x.alt_alnScore_mean','Ill300x.alt_alnScore_std','Ill300x.alt_count','Ill300x.alt_insertSize_mean','Ill300x.alt_insertSize_std','Ill300x.alt_reason_alignmentScore','Ill300x.alt_reason_insertSizeScore','Ill300x.alt_reason_orientation','Ill300x.amb_alnScore_mean','Ill300x.amb_alnScore_std','Ill300x.amb_count','Ill300x.amb_insertSize_mean','Ill300x.amb_insertSize_std','Ill300x.amb_reason_alignmentScore_alignmentScore','Ill300x.amb_reason_alignmentScore_orientation','Ill300x.amb_reason_flanking','Ill300x.amb_reason_insertSizeScore_alignmentScore','Ill300x.amb_reason_insertSizeScore_insertSizeScore','Ill300x.amb_reason_multimapping','Ill300x.amb_reason_orientation_alignmentScore','Ill300x.amb_reason_orientation_orientation','Ill300x.amb_reason_same_scores','Ill300x.ref_alnScore_mean','Ill300x.ref_alnScore_std','Ill300x.ref_count','Ill300x.ref_insertSize_mean','Ill300x.ref_insertSize_std','Ill300x.ref_reason_alignmentScore','Ill300x.ref_reason_insertSizeScore','Ill300x.ref_reason_orientation','Ill250.alt_alnScore_mean','Ill250.alt_alnScore_std','Ill250.alt_count','Ill250.alt_insertSize_mean','Ill250.alt_insertSize_std','Ill250.alt_reason_alignmentScore','Ill250.alt_reason_insertSizeScore','Ill250.alt_reason_orientation','Ill250.amb_alnScore_mean','Ill250.amb_alnScore_std','Ill250.amb_count','Ill250.amb_insertSize_mean','Ill250.amb_insertSize_std','Ill250.amb_reason_alignmentScore_alignmentScore','Ill250.amb_reason_alignmentScore_orientation','Ill250.amb_reason_flanking','Ill250.amb_reason_insertSizeScore_alignmentScore','Ill250.amb_reason_multimapping','Ill250.amb_reason_orientation_alignmentScore','Ill250.amb_reason_orientation_orientation','Ill250.amb_reason_same_scores','Ill250.ref_alnScore_mean','Ill250.ref_alnScore_std','Ill250.ref_count','Ill250.ref_insertSize_mean','Ill250.ref_insertSize_std','Ill250.ref_reason_alignmentScore','Ill250.ref_reason_orientation','IllMP.alt_alnScore_mean','IllMP.alt_alnScore_std','IllMP.alt_count','IllMP.alt_insertSize_mean','IllMP.alt_insertSize_std','IllMP.alt_reason_alignmentScore','IllMP.alt_reason_insertSizeScore','IllMP.alt_reason_orientation','IllMP.amb_alnScore_mean','IllMP.amb_alnScore_std','IllMP.amb_count','IllMP.amb_insertSize_mean','IllMP.amb_insertSize_std','IllMP.amb_reason_alignmentScore_alignmentScore','IllMP.amb_reason_alignmentScore_orientation','IllMP.amb_reason_flanking','IllMP.amb_reason_insertSizeScore_insertSizeScore','IllMP.amb_reason_multimapping','IllMP.amb_reason_orientation_alignmentScore','IllMP.amb_reason_orientation_orientation','IllMP.amb_reason_same_scores','IllMP.ref_alnScore_mean','IllMP.ref_alnScore_std','IllMP.ref_count','IllMP.ref_insertSize_mean','IllMP.ref_insertSize_std','IllMP.ref_reason_alignmentScore','IllMP.ref_reason_insertSizeScore','IllMP.ref_reason_orientation','pacbio.alt_alnScore_mean','pacbio.alt_alnScore_std','pacbio.alt_count','pacbio.alt_insertSize_mean','pacbio.alt_insertSize_std','pacbio.alt_reason_alignmentScore','pacbio.amb_alnScore_mean','pacbio.amb_alnScore_std','pacbio.amb_count','pacbio.amb_insertSize_mean','pacbio.amb_insertSize_std','pacbio.amb_reason_alignmentScore_alignmentScore','pacbio.amb_reason_flanking','pacbio.amb_reason_multimapping','pacbio.amb_reason_same_scores','pacbio.ref_alnScore_mean','pacbio.ref_alnScore_std','pacbio.ref_count','pacbio.ref_insertSize_mean','pacbio.ref_insertSize_std','pacbio.ref_reason_alignmentScore','TenX.HP1_alt_alnScore_mean','TenX.HP1_alt_alnScore_std','TenX.HP1_alt_count','TenX.HP1_alt_insertSize_mean','TenX.HP1_alt_insertSize_std','TenX.HP1_alt_reason_alignmentScore','TenX.HP1_alt_reason_insertSizeScore','TenX.HP1_alt_reason_orientation','TenX.HP1_amb_alnScore_mean','TenX.HP1_amb_alnScore_std','TenX.HP1_amb_count','TenX.HP1_amb_insertSize_mean','TenX.HP1_amb_insertSize_std','TenX.HP1_amb_reason_alignmentScore_alignmentScore','TenX.HP1_amb_reason_alignmentScore_orientation','TenX.HP1_amb_reason_flanking','TenX.HP1_amb_reason_insertSizeScore_alignmentScore','TenX.HP1_amb_reason_multimapping','TenX.HP1_amb_reason_orientation_alignmentScore','TenX.HP1_amb_reason_orientation_orientation','TenX.HP1_amb_reason_same_scores','TenX.HP1_ref_alnScore_mean','TenX.HP1_ref_alnScore_std','TenX.HP1_ref_count','TenX.HP1_ref_insertSize_mean','TenX.HP1_ref_insertSize_std','TenX.HP1_ref_reason_alignmentScore','TenX.HP1_ref_reason_orientation','TenX.HP2_alt_alnScore_mean','TenX.HP2_alt_alnScore_std','TenX.HP2_alt_count','TenX.HP2_alt_insertSize_mean','TenX.HP2_alt_insertSize_std','TenX.HP2_alt_reason_alignmentScore','TenX.HP2_alt_reason_insertSizeScore','TenX.HP2_alt_reason_orientation','TenX.HP2_amb_alnScore_mean','TenX.HP2_amb_alnScore_std','TenX.HP2_amb_count','TenX.HP2_amb_insertSize_mean','TenX.HP2_amb_insertSize_std','TenX.HP2_amb_reason_alignmentScore_alignmentScore','TenX.HP2_amb_reason_alignmentScore_orientation','TenX.HP2_amb_reason_flanking','TenX.HP2_amb_reason_insertSizeScore_alignmentScore','TenX.HP2_amb_reason_multimapping','TenX.HP2_amb_reason_orientation_alignmentScore','TenX.HP2_amb_reason_orientation_orientation','TenX.HP2_amb_reason_same_scores','TenX.HP2_ref_alnScore_mean','TenX.HP2_ref_alnScore_std','TenX.HP2_ref_count','TenX.HP2_ref_insertSize_mean','TenX.HP2_ref_insertSize_std','TenX.HP2_ref_reason_alignmentScore','TenX.HP2_ref_reason_orientation','tandemrep_cnt','tandemrep_pct','segdup_cnt','segdup_pct','refN_cnt','refN_pct']]"
   ]
  },
  {
   "cell_type": "code",
   "execution_count": 27,
   "metadata": {
    "collapsed": true
   },
   "outputs": [],
   "source": [
    "# X2 = X2[['Ill300x.alt_alnScore_mean','Ill300x.alt_alnScore_std','Ill300x.alt_count','Ill300x.alt_insertSize_mean','Ill300x.alt_insertSize_std','Ill300x.alt_reason_alignmentScore','Ill300x.alt_reason_insertSizeScore','Ill300x.alt_reason_orientation','Ill300x.amb_alnScore_mean','Ill300x.amb_alnScore_std','Ill300x.amb_count','Ill300x.amb_insertSize_mean','Ill300x.amb_insertSize_std','Ill300x.amb_reason_alignmentScore_alignmentScore','Ill300x.amb_reason_alignmentScore_orientation','Ill300x.amb_reason_flanking','Ill300x.amb_reason_insertSizeScore_alignmentScore','Ill300x.amb_reason_insertSizeScore_insertSizeScore','Ill300x.amb_reason_insertSizeScore_orientation','Ill300x.amb_reason_multimapping','Ill300x.amb_reason_orientation_alignmentScore','Ill300x.amb_reason_orientation_orientation','Ill300x.amb_reason_same_scores','Ill300x.ref_alnScore_mean','Ill300x.ref_alnScore_std','Ill300x.ref_count','Ill300x.ref_insertSize_mean','Ill300x.ref_insertSize_std','Ill300x.ref_reason_alignmentScore','Ill300x.ref_reason_insertSizeScore','Ill300x.ref_reason_orientation','Ill250.alt_alnScore_mean','Ill250.alt_alnScore_std','Ill250.alt_count','Ill250.alt_insertSize_mean','Ill250.alt_insertSize_std','Ill250.alt_reason_alignmentScore','Ill250.alt_reason_insertSizeScore','Ill250.alt_reason_orientation','Ill250.amb_alnScore_mean','Ill250.amb_alnScore_std','Ill250.amb_count','Ill250.amb_insertSize_mean','Ill250.amb_insertSize_std','Ill250.amb_reason_alignmentScore_alignmentScore','Ill250.amb_reason_alignmentScore_orientation','Ill250.amb_reason_flanking','Ill250.amb_reason_insertSizeScore_alignmentScore','Ill250.amb_reason_multimapping','Ill250.amb_reason_orientation_alignmentScore','Ill250.amb_reason_orientation_orientation','Ill250.amb_reason_same_scores','Ill250.ref_alnScore_mean','Ill250.ref_alnScore_std','Ill250.ref_count','Ill250.ref_insertSize_mean','Ill250.ref_insertSize_std','Ill250.ref_reason_alignmentScore','Ill250.ref_reason_orientation','IllMP.alt_alnScore_mean','IllMP.alt_alnScore_std','IllMP.alt_count','IllMP.alt_insertSize_mean','IllMP.alt_insertSize_std','IllMP.alt_reason_alignmentScore','IllMP.alt_reason_insertSizeScore','IllMP.alt_reason_orientation','IllMP.amb_alnScore_mean','IllMP.amb_alnScore_std','IllMP.amb_count','IllMP.amb_insertSize_mean','IllMP.amb_insertSize_std','IllMP.amb_reason_alignmentScore_alignmentScore','IllMP.amb_reason_alignmentScore_orientation','IllMP.amb_reason_flanking','IllMP.amb_reason_insertSizeScore_alignmentScore','IllMP.amb_reason_insertSizeScore_insertSizeScore','IllMP.amb_reason_multimapping','IllMP.amb_reason_orientation_alignmentScore','IllMP.amb_reason_orientation_orientation','IllMP.amb_reason_same_scores','IllMP.ref_alnScore_mean','IllMP.ref_alnScore_std','IllMP.ref_count','IllMP.ref_insertSize_mean','IllMP.ref_insertSize_std','IllMP.ref_reason_alignmentScore','IllMP.ref_reason_insertSizeScore','IllMP.ref_reason_orientation','TenX.HP1_alt_alnScore_mean','TenX.HP1_alt_alnScore_std','TenX.HP1_alt_count','TenX.HP1_alt_insertSize_mean','TenX.HP1_alt_insertSize_std','TenX.HP1_alt_reason_alignmentScore','TenX.HP1_alt_reason_insertSizeScore','TenX.HP1_alt_reason_orientation','TenX.HP1_amb_alnScore_mean','TenX.HP1_amb_alnScore_std','TenX.HP1_amb_count','TenX.HP1_amb_insertSize_mean','TenX.HP1_amb_insertSize_std','TenX.HP1_amb_reason_alignmentScore_alignmentScore','TenX.HP1_amb_reason_alignmentScore_orientation','TenX.HP1_amb_reason_flanking','TenX.HP1_amb_reason_insertSizeScore_alignmentScore','TenX.HP1_amb_reason_insertSizeScore_insertSizeScore','TenX.HP1_amb_reason_multimapping','TenX.HP1_amb_reason_orientation_alignmentScore','TenX.HP1_amb_reason_orientation_orientation','TenX.HP1_amb_reason_same_scores','TenX.HP1_ref_alnScore_mean','TenX.HP1_ref_alnScore_std','TenX.HP1_ref_count','TenX.HP1_ref_insertSize_mean','TenX.HP1_ref_insertSize_std','TenX.HP1_ref_reason_alignmentScore','TenX.HP1_ref_reason_insertSizeScore','TenX.HP1_ref_reason_orientation','TenX.HP2_alt_alnScore_mean','TenX.HP2_alt_alnScore_std','TenX.HP2_alt_count','TenX.HP2_alt_insertSize_mean','TenX.HP2_alt_insertSize_std','TenX.HP2_alt_reason_alignmentScore','TenX.HP2_alt_reason_insertSizeScore','TenX.HP2_alt_reason_orientation','TenX.HP2_amb_alnScore_mean','TenX.HP2_amb_alnScore_std','TenX.HP2_amb_count','TenX.HP2_amb_insertSize_mean','TenX.HP2_amb_insertSize_std','TenX.HP2_amb_reason_alignmentScore_alignmentScore','TenX.HP2_amb_reason_alignmentScore_orientation','TenX.HP2_amb_reason_flanking','TenX.HP2_amb_reason_insertSizeScore_alignmentScore','TenX.HP2_amb_reason_insertSizeScore_insertSizeScore','TenX.HP2_amb_reason_multimapping','TenX.HP2_amb_reason_orientation_alignmentScore','TenX.HP2_amb_reason_orientation_insertSizeScore','TenX.HP2_amb_reason_orientation_orientation','TenX.HP2_amb_reason_same_scores','TenX.HP2_ref_alnScore_mean','TenX.HP2_ref_alnScore_std','TenX.HP2_ref_count','TenX.HP2_ref_insertSize_mean','TenX.HP2_ref_insertSize_std','TenX.HP2_ref_reason_alignmentScore','TenX.HP2_ref_reason_orientation','pacbio.alt_alnScore_mean','pacbio.alt_alnScore_std','pacbio.alt_count','pacbio.alt_insertSize_mean','pacbio.alt_insertSize_std','pacbio.alt_reason_alignmentScore','pacbio.amb_alnScore_mean','pacbio.amb_alnScore_std','pacbio.amb_count','pacbio.amb_insertSize_mean','pacbio.amb_insertSize_std','pacbio.amb_reason_alignmentScore_alignmentScore','pacbio.amb_reason_flanking','pacbio.amb_reason_multimapping','pacbio.amb_reason_same_scores','pacbio.ref_alnScore_mean','pacbio.ref_alnScore_std','pacbio.ref_count','pacbio.ref_insertSize_mean','pacbio.ref_insertSize_std','pacbio.ref_reason_alignmentScore','tandemrep_cnt','tandemrep_pct','segdup_cnt','segdup_pct','refN_cnt','refN_pct']]"
   ]
  },
  {
   "cell_type": "code",
   "execution_count": 358,
   "metadata": {
    "collapsed": true
   },
   "outputs": [],
   "source": [
    "# Select all columns except for labels\n",
    "# X2=X2[['Size','Ill300x.alt_alnScore_mean','Ill300x.alt_alnScore_std','Ill300x.alt_count','Ill300x.alt_insertSize_mean','Ill300x.alt_insertSize_std','Ill300x.alt_reason_alignmentScore','Ill300x.alt_reason_insertSizeScore','Ill300x.alt_reason_orientation','Ill300x.amb_alnScore_mean','Ill300x.amb_alnScore_std','Ill300x.amb_count','Ill300x.amb_insertSize_mean','Ill300x.amb_insertSize_std','Ill300x.amb_reason_alignmentScore_alignmentScore','Ill300x.amb_reason_alignmentScore_orientation','Ill300x.amb_reason_flanking','Ill300x.amb_reason_insertSizeScore_alignmentScore','Ill300x.amb_reason_insertSizeScore_insertSizeScore','Ill300x.amb_reason_insertSizeScore_orientation','Ill300x.amb_reason_multimapping','Ill300x.amb_reason_orientation_alignmentScore','Ill300x.amb_reason_orientation_orientation','Ill300x.amb_reason_same_scores','Ill300x.ref_alnScore_mean','Ill300x.ref_alnScore_std','Ill300x.ref_count','Ill300x.ref_insertSize_mean','Ill300x.ref_insertSize_std','Ill300x.ref_reason_alignmentScore','Ill300x.ref_reason_insertSizeScore','Ill300x.ref_reason_orientation','Ill250.alt_alnScore_mean','Ill250.alt_alnScore_std','Ill250.alt_count','Ill250.alt_insertSize_mean','Ill250.alt_insertSize_std','Ill250.alt_reason_alignmentScore','Ill250.alt_reason_insertSizeScore','Ill250.alt_reason_orientation','Ill250.amb_alnScore_mean','Ill250.amb_alnScore_std','Ill250.amb_count','Ill250.amb_insertSize_mean','Ill250.amb_insertSize_std','Ill250.amb_reason_alignmentScore_alignmentScore','Ill250.amb_reason_alignmentScore_orientation','Ill250.amb_reason_flanking','Ill250.amb_reason_insertSizeScore_alignmentScore','Ill250.amb_reason_multimapping','Ill250.amb_reason_orientation_alignmentScore','Ill250.amb_reason_orientation_orientation','Ill250.amb_reason_same_scores','Ill250.ref_alnScore_mean','Ill250.ref_alnScore_std','Ill250.ref_count','Ill250.ref_insertSize_mean','Ill250.ref_insertSize_std','Ill250.ref_reason_alignmentScore','Ill250.ref_reason_orientation','IllMP.alt_alnScore_mean','IllMP.alt_alnScore_std','IllMP.alt_count','IllMP.alt_insertSize_mean','IllMP.alt_insertSize_std','IllMP.alt_reason_alignmentScore','IllMP.alt_reason_insertSizeScore','IllMP.alt_reason_orientation','IllMP.amb_alnScore_mean','IllMP.amb_alnScore_std','IllMP.amb_count','IllMP.amb_insertSize_mean','IllMP.amb_insertSize_std','IllMP.amb_reason_alignmentScore_alignmentScore','IllMP.amb_reason_alignmentScore_orientation','IllMP.amb_reason_flanking','IllMP.amb_reason_insertSizeScore_alignmentScore','IllMP.amb_reason_insertSizeScore_insertSizeScore','IllMP.amb_reason_multimapping','IllMP.amb_reason_orientation_alignmentScore','IllMP.amb_reason_orientation_orientation','IllMP.amb_reason_same_scores','IllMP.ref_alnScore_mean','IllMP.ref_alnScore_std','IllMP.ref_count','IllMP.ref_insertSize_mean','IllMP.ref_insertSize_std','IllMP.ref_reason_alignmentScore','IllMP.ref_reason_insertSizeScore','IllMP.ref_reason_orientation','TenX.HP1_alt_alnScore_mean','TenX.HP1_alt_alnScore_std','TenX.HP1_alt_count','TenX.HP1_alt_insertSize_mean','TenX.HP1_alt_insertSize_std','TenX.HP1_alt_reason_alignmentScore','TenX.HP1_alt_reason_insertSizeScore','TenX.HP1_alt_reason_orientation','TenX.HP1_amb_alnScore_mean','TenX.HP1_amb_alnScore_std','TenX.HP1_amb_count','TenX.HP1_amb_insertSize_mean','TenX.HP1_amb_insertSize_std','TenX.HP1_amb_reason_alignmentScore_alignmentScore','TenX.HP1_amb_reason_alignmentScore_orientation','TenX.HP1_amb_reason_flanking','TenX.HP1_amb_reason_insertSizeScore_alignmentScore','TenX.HP1_amb_reason_insertSizeScore_insertSizeScore','TenX.HP1_amb_reason_multimapping','TenX.HP1_amb_reason_orientation_alignmentScore','TenX.HP1_amb_reason_orientation_orientation','TenX.HP1_amb_reason_same_scores','TenX.HP1_ref_alnScore_mean','TenX.HP1_ref_alnScore_std','TenX.HP1_ref_count','TenX.HP1_ref_insertSize_mean','TenX.HP1_ref_insertSize_std','TenX.HP1_ref_reason_alignmentScore','TenX.HP1_ref_reason_insertSizeScore','TenX.HP1_ref_reason_orientation','TenX.HP2_alt_alnScore_mean','TenX.HP2_alt_alnScore_std','TenX.HP2_alt_count','TenX.HP2_alt_insertSize_mean','TenX.HP2_alt_insertSize_std','TenX.HP2_alt_reason_alignmentScore','TenX.HP2_alt_reason_insertSizeScore','TenX.HP2_alt_reason_orientation','TenX.HP2_amb_alnScore_mean','TenX.HP2_amb_alnScore_std','TenX.HP2_amb_count','TenX.HP2_amb_insertSize_mean','TenX.HP2_amb_insertSize_std','TenX.HP2_amb_reason_alignmentScore_alignmentScore','TenX.HP2_amb_reason_alignmentScore_orientation','TenX.HP2_amb_reason_flanking','TenX.HP2_amb_reason_insertSizeScore_alignmentScore','TenX.HP2_amb_reason_insertSizeScore_insertSizeScore','TenX.HP2_amb_reason_multimapping','TenX.HP2_amb_reason_orientation_alignmentScore','TenX.HP2_amb_reason_orientation_insertSizeScore','TenX.HP2_amb_reason_orientation_orientation','TenX.HP2_amb_reason_same_scores','TenX.HP2_ref_alnScore_mean','TenX.HP2_ref_alnScore_std','TenX.HP2_ref_count','TenX.HP2_ref_insertSize_mean','TenX.HP2_ref_insertSize_std','TenX.HP2_ref_reason_alignmentScore','TenX.HP2_ref_reason_orientation','pacbio.alt_alnScore_mean','pacbio.alt_alnScore_std','pacbio.alt_count','pacbio.alt_insertSize_mean','pacbio.alt_insertSize_std','pacbio.alt_reason_alignmentScore','pacbio.amb_alnScore_mean','pacbio.amb_alnScore_std','pacbio.amb_count','pacbio.amb_insertSize_mean','pacbio.amb_insertSize_std','pacbio.amb_reason_alignmentScore_alignmentScore','pacbio.amb_reason_flanking','pacbio.amb_reason_multimapping','pacbio.amb_reason_same_scores','pacbio.ref_alnScore_mean','pacbio.ref_alnScore_std','pacbio.ref_count','pacbio.ref_insertSize_mean','pacbio.ref_insertSize_std','pacbio.ref_reason_alignmentScore','tandemrep_cnt','tandemrep_pct','segdup_cnt','segdup_pct','refN_cnt','refN_pct']]"
   ]
  },
  {
   "cell_type": "code",
   "execution_count": 33,
   "metadata": {
    "collapsed": true
   },
   "outputs": [],
   "source": [
    "X2.to_csv('X2.csv', index=False)"
   ]
  },
  {
   "cell_type": "markdown",
   "metadata": {},
   "source": [
    "** Standardize Data **"
   ]
  },
  {
   "cell_type": "code",
   "execution_count": 134,
   "metadata": {
    "collapsed": true
   },
   "outputs": [],
   "source": [
    "# Use trained RF model to predict labels"
   ]
  },
  {
   "cell_type": "code",
   "execution_count": 229,
   "metadata": {
    "collapsed": true
   },
   "outputs": [],
   "source": [
    "# scaler=preprocessing.StandardScaler()\n",
    "# X=scaler.fit_transform(X2)"
   ]
  },
  {
   "cell_type": "markdown",
   "metadata": {},
   "source": [
    "** Note: **With scaled data, the precision score drops to:\n",
    "    0.43208556149732619"
   ]
  },
  {
   "cell_type": "code",
   "execution_count": 34,
   "metadata": {},
   "outputs": [
    {
     "data": {
      "text/plain": [
       "array([ 1.,  1.,  1., ...,  0.,  0.,  0.])"
      ]
     },
     "execution_count": 34,
     "metadata": {},
     "output_type": "execute_result"
    }
   ],
   "source": [
    "model.predict(X2)"
   ]
  },
  {
   "cell_type": "code",
   "execution_count": 35,
   "metadata": {},
   "outputs": [
    {
     "data": {
      "text/plain": [
       "array([[ 0.2,  0.8],\n",
       "       [ 0.1,  0.9],\n",
       "       [ 0. ,  1. ],\n",
       "       ..., \n",
       "       [ 1. ,  0. ],\n",
       "       [ 1. ,  0. ],\n",
       "       [ 1. ,  0. ]])"
      ]
     },
     "execution_count": 35,
     "metadata": {},
     "output_type": "execute_result"
    }
   ],
   "source": [
    "model.predict_proba(X2)"
   ]
  },
  {
   "cell_type": "code",
   "execution_count": 36,
   "metadata": {
    "collapsed": true
   },
   "outputs": [],
   "source": [
    "pred = model.predict_proba(X2)\n",
    "X6 = pd.concat([X2, pd.DataFrame(pred, columns=['1','2'])])\n",
    "X6.to_csv('X6_pred_prob.csv', index=False)\n",
    "# X4 = pd.DataFrame(pred, columns=['1','2','3'])\n",
    "# X5 = pd.concat([X4,X_test, y_test], axis=1)\n",
    "# print X6.head()"
   ]
  },
  {
   "cell_type": "code",
   "execution_count": 37,
   "metadata": {
    "collapsed": true
   },
   "outputs": [],
   "source": [
    "X2['model_pred_label'] = model.predict(X2)"
   ]
  },
  {
   "cell_type": "code",
   "execution_count": 41,
   "metadata": {
    "collapsed": true
   },
   "outputs": [],
   "source": [
    "X6_2 = pd.read_csv('/Users/lmc2/NIST/Notebooks/CrowdVariant/X6_pred_prob.csv')"
   ]
  },
  {
   "cell_type": "code",
   "execution_count": 42,
   "metadata": {
    "scrolled": true
   },
   "outputs": [
    {
     "ename": "ValueError",
     "evalue": "Number of features of the model must match the input. Model n_features is 170 and input n_features is 172 ",
     "output_type": "error",
     "traceback": [
      "\u001b[0;31m---------------------------------------------------------------------------\u001b[0m",
      "\u001b[0;31mValueError\u001b[0m                                Traceback (most recent call last)",
      "\u001b[0;32m<ipython-input-42-5fef462815ec>\u001b[0m in \u001b[0;36m<module>\u001b[0;34m()\u001b[0m\n\u001b[0;32m----> 1\u001b[0;31m \u001b[0mX6_2\u001b[0m\u001b[0;34m[\u001b[0m\u001b[0;34m'model_pred_label'\u001b[0m\u001b[0;34m]\u001b[0m \u001b[0;34m=\u001b[0m \u001b[0mmodel\u001b[0m\u001b[0;34m.\u001b[0m\u001b[0mpredict\u001b[0m\u001b[0;34m(\u001b[0m\u001b[0mX2\u001b[0m\u001b[0;34m)\u001b[0m\u001b[0;34m\u001b[0m\u001b[0m\n\u001b[0m",
      "\u001b[0;32m/Users/lmc2/anaconda/envs/NIHFAES/lib/python3.5/site-packages/sklearn/ensemble/forest.py\u001b[0m in \u001b[0;36mpredict\u001b[0;34m(self, X)\u001b[0m\n\u001b[1;32m    532\u001b[0m             \u001b[0mThe\u001b[0m \u001b[0mpredicted\u001b[0m \u001b[0mclasses\u001b[0m\u001b[0;34m.\u001b[0m\u001b[0;34m\u001b[0m\u001b[0m\n\u001b[1;32m    533\u001b[0m         \"\"\"\n\u001b[0;32m--> 534\u001b[0;31m         \u001b[0mproba\u001b[0m \u001b[0;34m=\u001b[0m \u001b[0mself\u001b[0m\u001b[0;34m.\u001b[0m\u001b[0mpredict_proba\u001b[0m\u001b[0;34m(\u001b[0m\u001b[0mX\u001b[0m\u001b[0;34m)\u001b[0m\u001b[0;34m\u001b[0m\u001b[0m\n\u001b[0m\u001b[1;32m    535\u001b[0m \u001b[0;34m\u001b[0m\u001b[0m\n\u001b[1;32m    536\u001b[0m         \u001b[0;32mif\u001b[0m \u001b[0mself\u001b[0m\u001b[0;34m.\u001b[0m\u001b[0mn_outputs_\u001b[0m \u001b[0;34m==\u001b[0m \u001b[0;36m1\u001b[0m\u001b[0;34m:\u001b[0m\u001b[0;34m\u001b[0m\u001b[0m\n",
      "\u001b[0;32m/Users/lmc2/anaconda/envs/NIHFAES/lib/python3.5/site-packages/sklearn/ensemble/forest.py\u001b[0m in \u001b[0;36mpredict_proba\u001b[0;34m(self, X)\u001b[0m\n\u001b[1;32m    571\u001b[0m         \"\"\"\n\u001b[1;32m    572\u001b[0m         \u001b[0;31m# Check data\u001b[0m\u001b[0;34m\u001b[0m\u001b[0;34m\u001b[0m\u001b[0m\n\u001b[0;32m--> 573\u001b[0;31m         \u001b[0mX\u001b[0m \u001b[0;34m=\u001b[0m \u001b[0mself\u001b[0m\u001b[0;34m.\u001b[0m\u001b[0m_validate_X_predict\u001b[0m\u001b[0;34m(\u001b[0m\u001b[0mX\u001b[0m\u001b[0;34m)\u001b[0m\u001b[0;34m\u001b[0m\u001b[0m\n\u001b[0m\u001b[1;32m    574\u001b[0m \u001b[0;34m\u001b[0m\u001b[0m\n\u001b[1;32m    575\u001b[0m         \u001b[0;31m# Assign chunk of trees to jobs\u001b[0m\u001b[0;34m\u001b[0m\u001b[0;34m\u001b[0m\u001b[0m\n",
      "\u001b[0;32m/Users/lmc2/anaconda/envs/NIHFAES/lib/python3.5/site-packages/sklearn/ensemble/forest.py\u001b[0m in \u001b[0;36m_validate_X_predict\u001b[0;34m(self, X)\u001b[0m\n\u001b[1;32m    353\u001b[0m                                  \"call `fit` before exploiting the model.\")\n\u001b[1;32m    354\u001b[0m \u001b[0;34m\u001b[0m\u001b[0m\n\u001b[0;32m--> 355\u001b[0;31m         \u001b[0;32mreturn\u001b[0m \u001b[0mself\u001b[0m\u001b[0;34m.\u001b[0m\u001b[0mestimators_\u001b[0m\u001b[0;34m[\u001b[0m\u001b[0;36m0\u001b[0m\u001b[0;34m]\u001b[0m\u001b[0;34m.\u001b[0m\u001b[0m_validate_X_predict\u001b[0m\u001b[0;34m(\u001b[0m\u001b[0mX\u001b[0m\u001b[0;34m,\u001b[0m \u001b[0mcheck_input\u001b[0m\u001b[0;34m=\u001b[0m\u001b[0;32mTrue\u001b[0m\u001b[0;34m)\u001b[0m\u001b[0;34m\u001b[0m\u001b[0m\n\u001b[0m\u001b[1;32m    356\u001b[0m \u001b[0;34m\u001b[0m\u001b[0m\n\u001b[1;32m    357\u001b[0m     \u001b[0;34m@\u001b[0m\u001b[0mproperty\u001b[0m\u001b[0;34m\u001b[0m\u001b[0m\n",
      "\u001b[0;32m/Users/lmc2/anaconda/envs/NIHFAES/lib/python3.5/site-packages/sklearn/tree/tree.py\u001b[0m in \u001b[0;36m_validate_X_predict\u001b[0;34m(self, X, check_input)\u001b[0m\n\u001b[1;32m    374\u001b[0m                              \u001b[0;34m\"match the input. Model n_features is %s and \"\u001b[0m\u001b[0;34m\u001b[0m\u001b[0m\n\u001b[1;32m    375\u001b[0m                              \u001b[0;34m\"input n_features is %s \"\u001b[0m\u001b[0;34m\u001b[0m\u001b[0m\n\u001b[0;32m--> 376\u001b[0;31m                              % (self.n_features_, n_features))\n\u001b[0m\u001b[1;32m    377\u001b[0m \u001b[0;34m\u001b[0m\u001b[0m\n\u001b[1;32m    378\u001b[0m         \u001b[0;32mreturn\u001b[0m \u001b[0mX\u001b[0m\u001b[0;34m\u001b[0m\u001b[0m\n",
      "\u001b[0;31mValueError\u001b[0m: Number of features of the model must match the input. Model n_features is 170 and input n_features is 172 "
     ]
    }
   ],
   "source": [
    "X6_2['model_pred_label'] = model.predict(X2)"
   ]
  },
  {
   "cell_type": "code",
   "execution_count": 40,
   "metadata": {
    "collapsed": true
   },
   "outputs": [],
   "source": [
    "X2['GIAB_Crowd'] = HG002_pred['GIAB_Crowd']"
   ]
  },
  {
   "cell_type": "code",
   "execution_count": 144,
   "metadata": {
    "collapsed": true
   },
   "outputs": [],
   "source": [
    "X6_2['GIAB_Crowd'] = HG002_pred['GIAB_Crowd']"
   ]
  },
  {
   "cell_type": "code",
   "execution_count": null,
   "metadata": {
    "collapsed": true
   },
   "outputs": [],
   "source": [
    "X6_2['GIAB_Crowd'] = HG002_pred['GIAB_Crowd']"
   ]
  },
  {
   "cell_type": "code",
   "execution_count": 163,
   "metadata": {
    "collapsed": true
   },
   "outputs": [],
   "source": [
    "horizontal = pd.concat([HG002_pred_2, X6_2], axis=1)"
   ]
  },
  {
   "cell_type": "code",
   "execution_count": 164,
   "metadata": {
    "collapsed": true
   },
   "outputs": [],
   "source": [
    "horizontal.to_csv('hor.csv', index=False)"
   ]
  },
  {
   "cell_type": "code",
   "execution_count": 151,
   "metadata": {},
   "outputs": [
    {
     "data": {
      "text/plain": [
       "0.0     795\n",
       "1.0    2010\n",
       "dtype: int64"
      ]
     },
     "execution_count": 151,
     "metadata": {},
     "output_type": "execute_result"
    }
   ],
   "source": [
    "pd.value_counts(X6_2['model_pred_label'].values, sort=False)"
   ]
  },
  {
   "cell_type": "code",
   "execution_count": 152,
   "metadata": {},
   "outputs": [
    {
     "data": {
      "text/plain": [
       "0     598\n",
       "2     473\n",
       "1    1734\n",
       "dtype: int64"
      ]
     },
     "execution_count": 152,
     "metadata": {},
     "output_type": "execute_result"
    }
   ],
   "source": [
    "pd.value_counts(X6_2['GIAB_Crowd'].values, sort=False)"
   ]
  },
  {
   "cell_type": "code",
   "execution_count": 146,
   "metadata": {
    "collapsed": true
   },
   "outputs": [],
   "source": [
    "X6_2.to_csv('X6_2_labels.csv', index=False)"
   ]
  },
  {
   "cell_type": "code",
   "execution_count": 107,
   "metadata": {},
   "outputs": [
    {
     "data": {
      "text/plain": [
       "(2805, 172)"
      ]
     },
     "execution_count": 107,
     "metadata": {},
     "output_type": "execute_result"
    }
   ],
   "source": [
    "X2.shape"
   ]
  },
  {
   "cell_type": "markdown",
   "metadata": {},
   "source": [
    "** Precision Score **\n",
    "\n",
    "Data: 5000 randomly selected datapoints (Round 1) svviz GT vs. model selected GT from trained RF model\n",
    "\n",
    "The ratio of tp /(tp +fn)\n",
    "\n",
    "Intuitively the ability of a model to avoid labeling negative events as positive events\n",
    "\n",
    "http://scikit-learn.org/stable/modules/generated/sklearn.metrics.precision_score.html"
   ]
  },
  {
   "cell_type": "markdown",
   "metadata": {},
   "source": [
    "** Note**: \n",
    "\n",
    "'GIAB_Crowd' are the svviz GT labels displayed in the same order as CrowdVar labels"
   ]
  },
  {
   "cell_type": "code",
   "execution_count": 43,
   "metadata": {
    "collapsed": true
   },
   "outputs": [],
   "source": [
    "# Compare predicted model labels to conensus GT output by preliminary svviz analysis (R Script)\n",
    "test = X2['model_pred_label']\n",
    "true = X2['GIAB_Crowd']"
   ]
  },
  {
   "cell_type": "code",
   "execution_count": 44,
   "metadata": {},
   "outputs": [
    {
     "data": {
      "text/plain": [
       "0.74331550802139035"
      ]
     },
     "execution_count": 44,
     "metadata": {},
     "output_type": "execute_result"
    }
   ],
   "source": [
    "precision_score(true, test, average='micro') "
   ]
  },
  {
   "cell_type": "code",
   "execution_count": 45,
   "metadata": {
    "collapsed": true
   },
   "outputs": [],
   "source": [
    "# Plot that diplays count of predicted labels vs actual labels"
   ]
  },
  {
   "cell_type": "code",
   "execution_count": 46,
   "metadata": {},
   "outputs": [
    {
     "data": {
      "text/html": [
       "\n",
       "    <div class=\"bk-root\">\n",
       "        <a href=\"http://bokeh.pydata.org\" target=\"_blank\" class=\"bk-logo bk-logo-small bk-logo-notebook\"></a>\n",
       "        <span id=\"5331a0a8-a770-4543-bd26-4f2df035bb4f\">Loading BokehJS ...</span>\n",
       "    </div>"
      ]
     },
     "metadata": {},
     "output_type": "display_data"
    },
    {
     "data": {
      "application/javascript": [
       "\n",
       "(function(global) {\n",
       "  function now() {\n",
       "    return new Date();\n",
       "  }\n",
       "\n",
       "  var force = true;\n",
       "\n",
       "  if (typeof (window._bokeh_onload_callbacks) === \"undefined\" || force === true) {\n",
       "    window._bokeh_onload_callbacks = [];\n",
       "    window._bokeh_is_loading = undefined;\n",
       "  }\n",
       "\n",
       "\n",
       "  \n",
       "  if (typeof (window._bokeh_timeout) === \"undefined\" || force === true) {\n",
       "    window._bokeh_timeout = Date.now() + 5000;\n",
       "    window._bokeh_failed_load = false;\n",
       "  }\n",
       "\n",
       "  var NB_LOAD_WARNING = {'data': {'text/html':\n",
       "     \"<div style='background-color: #fdd'>\\n\"+\n",
       "     \"<p>\\n\"+\n",
       "     \"BokehJS does not appear to have successfully loaded. If loading BokehJS from CDN, this \\n\"+\n",
       "     \"may be due to a slow or bad network connection. Possible fixes:\\n\"+\n",
       "     \"</p>\\n\"+\n",
       "     \"<ul>\\n\"+\n",
       "     \"<li>re-rerun `output_notebook()` to attempt to load from CDN again, or</li>\\n\"+\n",
       "     \"<li>use INLINE resources instead, as so:</li>\\n\"+\n",
       "     \"</ul>\\n\"+\n",
       "     \"<code>\\n\"+\n",
       "     \"from bokeh.resources import INLINE\\n\"+\n",
       "     \"output_notebook(resources=INLINE)\\n\"+\n",
       "     \"</code>\\n\"+\n",
       "     \"</div>\"}};\n",
       "\n",
       "  function display_loaded() {\n",
       "    if (window.Bokeh !== undefined) {\n",
       "      document.getElementById(\"5331a0a8-a770-4543-bd26-4f2df035bb4f\").textContent = \"BokehJS successfully loaded.\";\n",
       "    } else if (Date.now() < window._bokeh_timeout) {\n",
       "      setTimeout(display_loaded, 100)\n",
       "    }\n",
       "  }\n",
       "\n",
       "  function run_callbacks() {\n",
       "    window._bokeh_onload_callbacks.forEach(function(callback) { callback() });\n",
       "    delete window._bokeh_onload_callbacks\n",
       "    console.info(\"Bokeh: all callbacks have finished\");\n",
       "  }\n",
       "\n",
       "  function load_libs(js_urls, callback) {\n",
       "    window._bokeh_onload_callbacks.push(callback);\n",
       "    if (window._bokeh_is_loading > 0) {\n",
       "      console.log(\"Bokeh: BokehJS is being loaded, scheduling callback at\", now());\n",
       "      return null;\n",
       "    }\n",
       "    if (js_urls == null || js_urls.length === 0) {\n",
       "      run_callbacks();\n",
       "      return null;\n",
       "    }\n",
       "    console.log(\"Bokeh: BokehJS not loaded, scheduling load and callback at\", now());\n",
       "    window._bokeh_is_loading = js_urls.length;\n",
       "    for (var i = 0; i < js_urls.length; i++) {\n",
       "      var url = js_urls[i];\n",
       "      var s = document.createElement('script');\n",
       "      s.src = url;\n",
       "      s.async = false;\n",
       "      s.onreadystatechange = s.onload = function() {\n",
       "        window._bokeh_is_loading--;\n",
       "        if (window._bokeh_is_loading === 0) {\n",
       "          console.log(\"Bokeh: all BokehJS libraries loaded\");\n",
       "          run_callbacks()\n",
       "        }\n",
       "      };\n",
       "      s.onerror = function() {\n",
       "        console.warn(\"failed to load library \" + url);\n",
       "      };\n",
       "      console.log(\"Bokeh: injecting script tag for BokehJS library: \", url);\n",
       "      document.getElementsByTagName(\"head\")[0].appendChild(s);\n",
       "    }\n",
       "  };var element = document.getElementById(\"5331a0a8-a770-4543-bd26-4f2df035bb4f\");\n",
       "  if (element == null) {\n",
       "    console.log(\"Bokeh: ERROR: autoload.js configured with elementid '5331a0a8-a770-4543-bd26-4f2df035bb4f' but no matching script tag was found. \")\n",
       "    return false;\n",
       "  }\n",
       "\n",
       "  var js_urls = [\"https://cdn.pydata.org/bokeh/release/bokeh-0.12.4.min.js\", \"https://cdn.pydata.org/bokeh/release/bokeh-widgets-0.12.4.min.js\"];\n",
       "\n",
       "  var inline_js = [\n",
       "    function(Bokeh) {\n",
       "      Bokeh.set_log_level(\"info\");\n",
       "    },\n",
       "    \n",
       "    function(Bokeh) {\n",
       "      \n",
       "      document.getElementById(\"5331a0a8-a770-4543-bd26-4f2df035bb4f\").textContent = \"BokehJS is loading...\";\n",
       "    },\n",
       "    function(Bokeh) {\n",
       "      console.log(\"Bokeh: injecting CSS: https://cdn.pydata.org/bokeh/release/bokeh-0.12.4.min.css\");\n",
       "      Bokeh.embed.inject_css(\"https://cdn.pydata.org/bokeh/release/bokeh-0.12.4.min.css\");\n",
       "      console.log(\"Bokeh: injecting CSS: https://cdn.pydata.org/bokeh/release/bokeh-widgets-0.12.4.min.css\");\n",
       "      Bokeh.embed.inject_css(\"https://cdn.pydata.org/bokeh/release/bokeh-widgets-0.12.4.min.css\");\n",
       "    }\n",
       "  ];\n",
       "\n",
       "  function run_inline_js() {\n",
       "    \n",
       "    if ((window.Bokeh !== undefined) || (force === true)) {\n",
       "      for (var i = 0; i < inline_js.length; i++) {\n",
       "        inline_js[i](window.Bokeh);\n",
       "      }if (force === true) {\n",
       "        display_loaded();\n",
       "      }} else if (Date.now() < window._bokeh_timeout) {\n",
       "      setTimeout(run_inline_js, 100);\n",
       "    } else if (!window._bokeh_failed_load) {\n",
       "      console.log(\"Bokeh: BokehJS failed to load within specified timeout.\");\n",
       "      window._bokeh_failed_load = true;\n",
       "    } else if (force !== true) {\n",
       "      var cell = $(document.getElementById(\"5331a0a8-a770-4543-bd26-4f2df035bb4f\")).parents('.cell').data().cell;\n",
       "      cell.output_area.append_execute_result(NB_LOAD_WARNING)\n",
       "    }\n",
       "\n",
       "  }\n",
       "\n",
       "  if (window._bokeh_is_loading === 0) {\n",
       "    console.log(\"Bokeh: BokehJS loaded, going straight to plotting\");\n",
       "    run_inline_js();\n",
       "  } else {\n",
       "    load_libs(js_urls, function() {\n",
       "      console.log(\"Bokeh: BokehJS plotting callback run at\", now());\n",
       "      run_inline_js();\n",
       "    });\n",
       "  }\n",
       "}(this));"
      ]
     },
     "metadata": {},
     "output_type": "display_data"
    }
   ],
   "source": [
    "output_notebook()"
   ]
  },
  {
   "cell_type": "code",
   "execution_count": 47,
   "metadata": {},
   "outputs": [
    {
     "data": {
      "text/html": [
       "\n",
       "    <div class=\"bk-root\">\n",
       "        <a href=\"http://bokeh.pydata.org\" target=\"_blank\" class=\"bk-logo bk-logo-small bk-logo-notebook\"></a>\n",
       "        <span id=\"dd1b61e7-b42e-4576-9766-baf41b2140e8\">Loading BokehJS ...</span>\n",
       "    </div>"
      ]
     },
     "metadata": {},
     "output_type": "display_data"
    },
    {
     "data": {
      "application/javascript": [
       "\n",
       "(function(global) {\n",
       "  function now() {\n",
       "    return new Date();\n",
       "  }\n",
       "\n",
       "  var force = true;\n",
       "\n",
       "  if (typeof (window._bokeh_onload_callbacks) === \"undefined\" || force === true) {\n",
       "    window._bokeh_onload_callbacks = [];\n",
       "    window._bokeh_is_loading = undefined;\n",
       "  }\n",
       "\n",
       "\n",
       "  \n",
       "  if (typeof (window._bokeh_timeout) === \"undefined\" || force === true) {\n",
       "    window._bokeh_timeout = Date.now() + 5000;\n",
       "    window._bokeh_failed_load = false;\n",
       "  }\n",
       "\n",
       "  var NB_LOAD_WARNING = {'data': {'text/html':\n",
       "     \"<div style='background-color: #fdd'>\\n\"+\n",
       "     \"<p>\\n\"+\n",
       "     \"BokehJS does not appear to have successfully loaded. If loading BokehJS from CDN, this \\n\"+\n",
       "     \"may be due to a slow or bad network connection. Possible fixes:\\n\"+\n",
       "     \"</p>\\n\"+\n",
       "     \"<ul>\\n\"+\n",
       "     \"<li>re-rerun `output_notebook()` to attempt to load from CDN again, or</li>\\n\"+\n",
       "     \"<li>use INLINE resources instead, as so:</li>\\n\"+\n",
       "     \"</ul>\\n\"+\n",
       "     \"<code>\\n\"+\n",
       "     \"from bokeh.resources import INLINE\\n\"+\n",
       "     \"output_notebook(resources=INLINE)\\n\"+\n",
       "     \"</code>\\n\"+\n",
       "     \"</div>\"}};\n",
       "\n",
       "  function display_loaded() {\n",
       "    if (window.Bokeh !== undefined) {\n",
       "      document.getElementById(\"dd1b61e7-b42e-4576-9766-baf41b2140e8\").textContent = \"BokehJS successfully loaded.\";\n",
       "    } else if (Date.now() < window._bokeh_timeout) {\n",
       "      setTimeout(display_loaded, 100)\n",
       "    }\n",
       "  }\n",
       "\n",
       "  function run_callbacks() {\n",
       "    window._bokeh_onload_callbacks.forEach(function(callback) { callback() });\n",
       "    delete window._bokeh_onload_callbacks\n",
       "    console.info(\"Bokeh: all callbacks have finished\");\n",
       "  }\n",
       "\n",
       "  function load_libs(js_urls, callback) {\n",
       "    window._bokeh_onload_callbacks.push(callback);\n",
       "    if (window._bokeh_is_loading > 0) {\n",
       "      console.log(\"Bokeh: BokehJS is being loaded, scheduling callback at\", now());\n",
       "      return null;\n",
       "    }\n",
       "    if (js_urls == null || js_urls.length === 0) {\n",
       "      run_callbacks();\n",
       "      return null;\n",
       "    }\n",
       "    console.log(\"Bokeh: BokehJS not loaded, scheduling load and callback at\", now());\n",
       "    window._bokeh_is_loading = js_urls.length;\n",
       "    for (var i = 0; i < js_urls.length; i++) {\n",
       "      var url = js_urls[i];\n",
       "      var s = document.createElement('script');\n",
       "      s.src = url;\n",
       "      s.async = false;\n",
       "      s.onreadystatechange = s.onload = function() {\n",
       "        window._bokeh_is_loading--;\n",
       "        if (window._bokeh_is_loading === 0) {\n",
       "          console.log(\"Bokeh: all BokehJS libraries loaded\");\n",
       "          run_callbacks()\n",
       "        }\n",
       "      };\n",
       "      s.onerror = function() {\n",
       "        console.warn(\"failed to load library \" + url);\n",
       "      };\n",
       "      console.log(\"Bokeh: injecting script tag for BokehJS library: \", url);\n",
       "      document.getElementsByTagName(\"head\")[0].appendChild(s);\n",
       "    }\n",
       "  };var element = document.getElementById(\"dd1b61e7-b42e-4576-9766-baf41b2140e8\");\n",
       "  if (element == null) {\n",
       "    console.log(\"Bokeh: ERROR: autoload.js configured with elementid 'dd1b61e7-b42e-4576-9766-baf41b2140e8' but no matching script tag was found. \")\n",
       "    return false;\n",
       "  }\n",
       "\n",
       "  var js_urls = [\"https://cdn.pydata.org/bokeh/release/bokeh-0.12.4.min.js\", \"https://cdn.pydata.org/bokeh/release/bokeh-widgets-0.12.4.min.js\"];\n",
       "\n",
       "  var inline_js = [\n",
       "    function(Bokeh) {\n",
       "      Bokeh.set_log_level(\"info\");\n",
       "    },\n",
       "    \n",
       "    function(Bokeh) {\n",
       "      \n",
       "      document.getElementById(\"dd1b61e7-b42e-4576-9766-baf41b2140e8\").textContent = \"BokehJS is loading...\";\n",
       "    },\n",
       "    function(Bokeh) {\n",
       "      console.log(\"Bokeh: injecting CSS: https://cdn.pydata.org/bokeh/release/bokeh-0.12.4.min.css\");\n",
       "      Bokeh.embed.inject_css(\"https://cdn.pydata.org/bokeh/release/bokeh-0.12.4.min.css\");\n",
       "      console.log(\"Bokeh: injecting CSS: https://cdn.pydata.org/bokeh/release/bokeh-widgets-0.12.4.min.css\");\n",
       "      Bokeh.embed.inject_css(\"https://cdn.pydata.org/bokeh/release/bokeh-widgets-0.12.4.min.css\");\n",
       "    }\n",
       "  ];\n",
       "\n",
       "  function run_inline_js() {\n",
       "    \n",
       "    if ((window.Bokeh !== undefined) || (force === true)) {\n",
       "      for (var i = 0; i < inline_js.length; i++) {\n",
       "        inline_js[i](window.Bokeh);\n",
       "      }if (force === true) {\n",
       "        display_loaded();\n",
       "      }} else if (Date.now() < window._bokeh_timeout) {\n",
       "      setTimeout(run_inline_js, 100);\n",
       "    } else if (!window._bokeh_failed_load) {\n",
       "      console.log(\"Bokeh: BokehJS failed to load within specified timeout.\");\n",
       "      window._bokeh_failed_load = true;\n",
       "    } else if (force !== true) {\n",
       "      var cell = $(document.getElementById(\"dd1b61e7-b42e-4576-9766-baf41b2140e8\")).parents('.cell').data().cell;\n",
       "      cell.output_area.append_execute_result(NB_LOAD_WARNING)\n",
       "    }\n",
       "\n",
       "  }\n",
       "\n",
       "  if (window._bokeh_is_loading === 0) {\n",
       "    console.log(\"Bokeh: BokehJS loaded, going straight to plotting\");\n",
       "    run_inline_js();\n",
       "  } else {\n",
       "    load_libs(js_urls, function() {\n",
       "      console.log(\"Bokeh: BokehJS plotting callback run at\", now());\n",
       "      run_inline_js();\n",
       "    });\n",
       "  }\n",
       "}(this));"
      ]
     },
     "metadata": {},
     "output_type": "display_data"
    },
    {
     "data": {
      "text/html": [
       "\n",
       "\n",
       "    <div class=\"bk-root\">\n",
       "        <div class=\"bk-plotdiv\" id=\"1691f640-016e-4eee-b9b9-063e2ccc4613\"></div>\n",
       "    </div>\n",
       "<script type=\"text/javascript\">\n",
       "  \n",
       "  (function(global) {\n",
       "    function now() {\n",
       "      return new Date();\n",
       "    }\n",
       "  \n",
       "    var force = false;\n",
       "  \n",
       "    if (typeof (window._bokeh_onload_callbacks) === \"undefined\" || force === true) {\n",
       "      window._bokeh_onload_callbacks = [];\n",
       "      window._bokeh_is_loading = undefined;\n",
       "    }\n",
       "  \n",
       "  \n",
       "    \n",
       "    if (typeof (window._bokeh_timeout) === \"undefined\" || force === true) {\n",
       "      window._bokeh_timeout = Date.now() + 0;\n",
       "      window._bokeh_failed_load = false;\n",
       "    }\n",
       "  \n",
       "    var NB_LOAD_WARNING = {'data': {'text/html':\n",
       "       \"<div style='background-color: #fdd'>\\n\"+\n",
       "       \"<p>\\n\"+\n",
       "       \"BokehJS does not appear to have successfully loaded. If loading BokehJS from CDN, this \\n\"+\n",
       "       \"may be due to a slow or bad network connection. Possible fixes:\\n\"+\n",
       "       \"</p>\\n\"+\n",
       "       \"<ul>\\n\"+\n",
       "       \"<li>re-rerun `output_notebook()` to attempt to load from CDN again, or</li>\\n\"+\n",
       "       \"<li>use INLINE resources instead, as so:</li>\\n\"+\n",
       "       \"</ul>\\n\"+\n",
       "       \"<code>\\n\"+\n",
       "       \"from bokeh.resources import INLINE\\n\"+\n",
       "       \"output_notebook(resources=INLINE)\\n\"+\n",
       "       \"</code>\\n\"+\n",
       "       \"</div>\"}};\n",
       "  \n",
       "    function display_loaded() {\n",
       "      if (window.Bokeh !== undefined) {\n",
       "        document.getElementById(\"1691f640-016e-4eee-b9b9-063e2ccc4613\").textContent = \"BokehJS successfully loaded.\";\n",
       "      } else if (Date.now() < window._bokeh_timeout) {\n",
       "        setTimeout(display_loaded, 100)\n",
       "      }\n",
       "    }\n",
       "  \n",
       "    function run_callbacks() {\n",
       "      window._bokeh_onload_callbacks.forEach(function(callback) { callback() });\n",
       "      delete window._bokeh_onload_callbacks\n",
       "      console.info(\"Bokeh: all callbacks have finished\");\n",
       "    }\n",
       "  \n",
       "    function load_libs(js_urls, callback) {\n",
       "      window._bokeh_onload_callbacks.push(callback);\n",
       "      if (window._bokeh_is_loading > 0) {\n",
       "        console.log(\"Bokeh: BokehJS is being loaded, scheduling callback at\", now());\n",
       "        return null;\n",
       "      }\n",
       "      if (js_urls == null || js_urls.length === 0) {\n",
       "        run_callbacks();\n",
       "        return null;\n",
       "      }\n",
       "      console.log(\"Bokeh: BokehJS not loaded, scheduling load and callback at\", now());\n",
       "      window._bokeh_is_loading = js_urls.length;\n",
       "      for (var i = 0; i < js_urls.length; i++) {\n",
       "        var url = js_urls[i];\n",
       "        var s = document.createElement('script');\n",
       "        s.src = url;\n",
       "        s.async = false;\n",
       "        s.onreadystatechange = s.onload = function() {\n",
       "          window._bokeh_is_loading--;\n",
       "          if (window._bokeh_is_loading === 0) {\n",
       "            console.log(\"Bokeh: all BokehJS libraries loaded\");\n",
       "            run_callbacks()\n",
       "          }\n",
       "        };\n",
       "        s.onerror = function() {\n",
       "          console.warn(\"failed to load library \" + url);\n",
       "        };\n",
       "        console.log(\"Bokeh: injecting script tag for BokehJS library: \", url);\n",
       "        document.getElementsByTagName(\"head\")[0].appendChild(s);\n",
       "      }\n",
       "    };var element = document.getElementById(\"1691f640-016e-4eee-b9b9-063e2ccc4613\");\n",
       "    if (element == null) {\n",
       "      console.log(\"Bokeh: ERROR: autoload.js configured with elementid '1691f640-016e-4eee-b9b9-063e2ccc4613' but no matching script tag was found. \")\n",
       "      return false;\n",
       "    }\n",
       "  \n",
       "    var js_urls = [];\n",
       "  \n",
       "    var inline_js = [\n",
       "      function(Bokeh) {\n",
       "        (function() {\n",
       "          var fn = function() {\n",
       "            var docs_json = {\"f6f755a3-a804-4365-8252-303b54215433\":{\"roots\":{\"references\":[{\"attributes\":{\"fill_alpha\":{\"field\":\"fill_alpha\"},\"fill_color\":{\"field\":\"color\"},\"height\":{\"field\":\"height\",\"units\":\"data\"},\"line_color\":{\"field\":\"line_color\"},\"width\":{\"field\":\"width\",\"units\":\"data\"},\"x\":{\"field\":\"x\"},\"y\":{\"field\":\"y\"}},\"id\":\"48dbaa18-f78c-4fb8-afd3-f4a8da5656b5\",\"type\":\"Rect\"},{\"attributes\":{\"data_source\":{\"id\":\"3e3fa56a-0a86-4671-8ceb-2f249c71bd30\",\"type\":\"ColumnDataSource\"},\"glyph\":{\"id\":\"e2c152bd-2a69-4d31-92d3-8562919973a3\",\"type\":\"Rect\"},\"hover_glyph\":null,\"nonselection_glyph\":null,\"selection_glyph\":null},\"id\":\"541a66ae-1d45-4916-a14c-bb36119c3b25\",\"type\":\"GlyphRenderer\"},{\"attributes\":{\"callback\":null,\"column_names\":[\"y\",\"line_color\",\"x\",\"line_alpha\",\"fill_alpha\",\"color\",\"label\",\"width\",\"height\"],\"data\":{\"chart_index\":[\"(0.433333, 0.466667]\"],\"color\":[\"LightSlateGray\"],\"fill_alpha\":[0.8],\"height\":[0.0],\"label\":[\"(0.433333, 0.466667]\"],\"line_alpha\":[1.0],\"line_color\":[\"black\"],\"width\":[0.033333333333333326],\"x\":[\"0.45\"],\"y\":[0.0]}},\"id\":\"c1c2b37d-7864-4c5e-afdf-d1318dc5d28c\",\"type\":\"ColumnDataSource\"},{\"attributes\":{\"fill_alpha\":{\"field\":\"fill_alpha\"},\"fill_color\":{\"field\":\"color\"},\"height\":{\"field\":\"height\",\"units\":\"data\"},\"line_color\":{\"field\":\"line_color\"},\"width\":{\"field\":\"width\",\"units\":\"data\"},\"x\":{\"field\":\"x\"},\"y\":{\"field\":\"y\"}},\"id\":\"755b70fe-8671-418c-bbb5-144b10574c0e\",\"type\":\"Rect\"},{\"attributes\":{\"fill_alpha\":{\"field\":\"fill_alpha\"},\"fill_color\":{\"field\":\"color\"},\"height\":{\"field\":\"height\",\"units\":\"data\"},\"line_color\":{\"field\":\"line_color\"},\"width\":{\"field\":\"width\",\"units\":\"data\"},\"x\":{\"field\":\"x\"},\"y\":{\"field\":\"y\"}},\"id\":\"5fef0631-e113-44dd-b524-31c724e0900b\",\"type\":\"Rect\"},{\"attributes\":{\"fill_alpha\":{\"field\":\"fill_alpha\"},\"fill_color\":{\"field\":\"color\"},\"height\":{\"field\":\"height\",\"units\":\"data\"},\"line_color\":{\"field\":\"line_color\"},\"width\":{\"field\":\"width\",\"units\":\"data\"},\"x\":{\"field\":\"x\"},\"y\":{\"field\":\"y\"}},\"id\":\"e174a4b2-8a82-4f21-9c2e-13230e1f2d08\",\"type\":\"Rect\"},{\"attributes\":{\"fill_alpha\":{\"field\":\"fill_alpha\"},\"fill_color\":{\"field\":\"color\"},\"height\":{\"field\":\"height\",\"units\":\"data\"},\"line_color\":{\"field\":\"line_color\"},\"width\":{\"field\":\"width\",\"units\":\"data\"},\"x\":{\"field\":\"x\"},\"y\":{\"field\":\"y\"}},\"id\":\"3275324d-3a3f-45d9-ba55-425a897f7dab\",\"type\":\"Rect\"},{\"attributes\":{\"callback\":null,\"column_names\":[\"y\",\"line_color\",\"x\",\"line_alpha\",\"fill_alpha\",\"color\",\"label\",\"width\",\"height\"],\"data\":{\"chart_index\":[\"[0.000000, 0.033333]\"],\"color\":[\"LightSlateGray\"],\"fill_alpha\":[0.8],\"height\":[574.0],\"label\":[\"[0.000000, 0.033333]\"],\"line_alpha\":[1.0],\"line_color\":[\"black\"],\"width\":[0.03333333333333333],\"x\":[\"0.0166665\"],\"y\":[287.0]}},\"id\":\"3e3fa56a-0a86-4671-8ceb-2f249c71bd30\",\"type\":\"ColumnDataSource\"},{\"attributes\":{\"plot\":{\"id\":\"3826cbfb-4470-41de-8fc7-f2816a37d656\",\"subtype\":\"Chart\",\"type\":\"Plot\"}},\"id\":\"2a0c6a7c-788a-48ff-b345-b6489685e8da\",\"type\":\"SaveTool\"},{\"attributes\":{\"data_source\":{\"id\":\"12c55786-6437-4f65-b776-40ae0337bb76\",\"type\":\"ColumnDataSource\"},\"glyph\":{\"id\":\"a67c6a07-d418-4e3a-96e0-cdd2c7f126bd\",\"type\":\"Rect\"},\"hover_glyph\":null,\"nonselection_glyph\":null,\"selection_glyph\":null},\"id\":\"f452b724-5690-4c50-875e-4bef9da840d7\",\"type\":\"GlyphRenderer\"},{\"attributes\":{\"fill_alpha\":{\"field\":\"fill_alpha\"},\"fill_color\":{\"field\":\"color\"},\"height\":{\"field\":\"height\",\"units\":\"data\"},\"line_color\":{\"field\":\"line_color\"},\"width\":{\"field\":\"width\",\"units\":\"data\"},\"x\":{\"field\":\"x\"},\"y\":{\"field\":\"y\"}},\"id\":\"39220fc5-695e-4c80-a8a4-abe2e3ab8777\",\"type\":\"Rect\"},{\"attributes\":{\"fill_alpha\":{\"field\":\"fill_alpha\"},\"fill_color\":{\"field\":\"color\"},\"height\":{\"field\":\"height\",\"units\":\"data\"},\"line_color\":{\"field\":\"line_color\"},\"width\":{\"field\":\"width\",\"units\":\"data\"},\"x\":{\"field\":\"x\"},\"y\":{\"field\":\"y\"}},\"id\":\"a128e51d-0317-4e3b-9689-2b42967d6056\",\"type\":\"Rect\"},{\"attributes\":{\"data_source\":{\"id\":\"cf1da005-18d2-4414-b502-022e308966ce\",\"type\":\"ColumnDataSource\"},\"glyph\":{\"id\":\"39220fc5-695e-4c80-a8a4-abe2e3ab8777\",\"type\":\"Rect\"},\"hover_glyph\":null,\"nonselection_glyph\":null,\"selection_glyph\":null},\"id\":\"29344e40-2484-4bf9-96cf-f6b52b0b6831\",\"type\":\"GlyphRenderer\"},{\"attributes\":{\"data_source\":{\"id\":\"e62be38b-d9c8-4df3-97cd-bfcf8d694d4b\",\"type\":\"ColumnDataSource\"},\"glyph\":{\"id\":\"5fe52d88-aec7-4a89-a08b-c0f29bb77e3a\",\"type\":\"Rect\"},\"hover_glyph\":null,\"nonselection_glyph\":null,\"selection_glyph\":null},\"id\":\"a9681310-21f8-4d59-b0fd-12a16a34744f\",\"type\":\"GlyphRenderer\"},{\"attributes\":{\"plot\":{\"id\":\"3826cbfb-4470-41de-8fc7-f2816a37d656\",\"subtype\":\"Chart\",\"type\":\"Plot\"}},\"id\":\"f1b44799-35c0-4714-bc55-6c2fd14db912\",\"type\":\"ResetTool\"},{\"attributes\":{\"data_source\":{\"id\":\"455d55d1-4c4e-4ca5-a9b2-d4ceb46de1ea\",\"type\":\"ColumnDataSource\"},\"glyph\":{\"id\":\"a128e51d-0317-4e3b-9689-2b42967d6056\",\"type\":\"Rect\"},\"hover_glyph\":null,\"nonselection_glyph\":null,\"selection_glyph\":null},\"id\":\"aea1addb-1cf2-41c9-a847-911ff95cccd5\",\"type\":\"GlyphRenderer\"},{\"attributes\":{\"fill_alpha\":{\"field\":\"fill_alpha\"},\"fill_color\":{\"field\":\"color\"},\"height\":{\"field\":\"height\",\"units\":\"data\"},\"line_color\":{\"field\":\"line_color\"},\"width\":{\"field\":\"width\",\"units\":\"data\"},\"x\":{\"field\":\"x\"},\"y\":{\"field\":\"y\"}},\"id\":\"471094c5-c7bf-4f9f-b0b5-771c7ff7c50e\",\"type\":\"Rect\"},{\"attributes\":{\"data_source\":{\"id\":\"6d51b04a-b81d-49e5-9413-57e257ab8483\",\"type\":\"ColumnDataSource\"},\"glyph\":{\"id\":\"06a153f9-e916-4cf4-98a9-83867c55683f\",\"type\":\"Rect\"},\"hover_glyph\":null,\"nonselection_glyph\":null,\"selection_glyph\":null},\"id\":\"80b750e6-f67c-4cf6-8c68-3ea9c1b25347\",\"type\":\"GlyphRenderer\"},{\"attributes\":{\"data_source\":{\"id\":\"de06cea8-bc86-4e7d-9453-f74092f86d3e\",\"type\":\"ColumnDataSource\"},\"glyph\":{\"id\":\"220c5889-e245-48ff-a756-e8e64f459176\",\"type\":\"Rect\"},\"hover_glyph\":null,\"nonselection_glyph\":null,\"selection_glyph\":null},\"id\":\"a79f4d23-2121-474f-a071-b7df50f66183\",\"type\":\"GlyphRenderer\"},{\"attributes\":{\"data_source\":{\"id\":\"e0a5573c-14b9-474f-b72a-2c190d4cee6a\",\"type\":\"ColumnDataSource\"},\"glyph\":{\"id\":\"b1c08660-247d-43fa-8bad-a6ac94e653ea\",\"type\":\"Rect\"},\"hover_glyph\":null,\"nonselection_glyph\":null,\"selection_glyph\":null},\"id\":\"b388ad37-6249-4488-99e0-89f6319b3187\",\"type\":\"GlyphRenderer\"},{\"attributes\":{\"callback\":null,\"column_names\":[\"y\",\"line_color\",\"x\",\"line_alpha\",\"fill_alpha\",\"color\",\"label\",\"width\",\"height\"],\"data\":{\"chart_index\":[\"(0.866667, 0.900000]\"],\"color\":[\"LightSlateGray\"],\"fill_alpha\":[0.8],\"height\":[0.0],\"label\":[\"(0.866667, 0.900000]\"],\"line_alpha\":[1.0],\"line_color\":[\"black\"],\"width\":[0.033333333333333326],\"x\":[\"0.8833335\"],\"y\":[0.0]}},\"id\":\"412a169a-5d1d-4306-9ddf-c31b218744a3\",\"type\":\"ColumnDataSource\"},{\"attributes\":{\"data_source\":{\"id\":\"6aa5033e-3ab6-42bf-8cbe-c1b541ac25a8\",\"type\":\"ColumnDataSource\"},\"glyph\":{\"id\":\"13157475-d536-4373-bc5e-1a747178749b\",\"type\":\"Rect\"},\"hover_glyph\":null,\"nonselection_glyph\":null,\"selection_glyph\":null},\"id\":\"15311655-4dd6-4b63-947b-1ec178876c25\",\"type\":\"GlyphRenderer\"},{\"attributes\":{\"data_source\":{\"id\":\"c1c2b37d-7864-4c5e-afdf-d1318dc5d28c\",\"type\":\"ColumnDataSource\"},\"glyph\":{\"id\":\"04104ba7-01c8-4ed9-9dfa-f559cb06557f\",\"type\":\"Rect\"},\"hover_glyph\":null,\"nonselection_glyph\":null,\"selection_glyph\":null},\"id\":\"acf78eb4-07e5-4182-ad4a-a831c3dad9ab\",\"type\":\"GlyphRenderer\"},{\"attributes\":{\"data_source\":{\"id\":\"b5c6f122-7a5d-4e32-af37-32f969ce0181\",\"type\":\"ColumnDataSource\"},\"glyph\":{\"id\":\"8a11d164-a321-426f-baf9-4f3427bcd6d0\",\"type\":\"Rect\"},\"hover_glyph\":null,\"nonselection_glyph\":null,\"selection_glyph\":null},\"id\":\"0cc1f16c-76cd-432c-a4b5-1313d4dd6aa8\",\"type\":\"GlyphRenderer\"},{\"attributes\":{\"fill_alpha\":{\"field\":\"fill_alpha\"},\"fill_color\":{\"field\":\"color\"},\"height\":{\"field\":\"height\",\"units\":\"data\"},\"line_color\":{\"field\":\"line_color\"},\"width\":{\"field\":\"width\",\"units\":\"data\"},\"x\":{\"field\":\"x\"},\"y\":{\"field\":\"y\"}},\"id\":\"b1c08660-247d-43fa-8bad-a6ac94e653ea\",\"type\":\"Rect\"},{\"attributes\":{\"fill_alpha\":{\"field\":\"fill_alpha\"},\"fill_color\":{\"field\":\"color\"},\"height\":{\"field\":\"height\",\"units\":\"data\"},\"line_color\":{\"field\":\"line_color\"},\"width\":{\"field\":\"width\",\"units\":\"data\"},\"x\":{\"field\":\"x\"},\"y\":{\"field\":\"y\"}},\"id\":\"52ff2542-f10c-49a1-bb7d-34c471697b09\",\"type\":\"Rect\"},{\"attributes\":{\"axis_label\":\"Frequency\",\"formatter\":{\"id\":\"aa6b65ec-a68d-4181-b6ac-15b2af88ab23\",\"type\":\"BasicTickFormatter\"},\"plot\":{\"id\":\"3826cbfb-4470-41de-8fc7-f2816a37d656\",\"subtype\":\"Chart\",\"type\":\"Plot\"},\"ticker\":{\"id\":\"7c0ca6be-a78e-40cf-9cdb-1fa5be35a04e\",\"type\":\"BasicTicker\"}},\"id\":\"7ff5d5a5-c235-4f87-a981-84d5943391fd\",\"type\":\"LinearAxis\"},{\"attributes\":{\"fill_alpha\":{\"field\":\"fill_alpha\"},\"fill_color\":{\"field\":\"color\"},\"height\":{\"field\":\"height\",\"units\":\"data\"},\"line_color\":{\"field\":\"line_color\"},\"width\":{\"field\":\"width\",\"units\":\"data\"},\"x\":{\"field\":\"x\"},\"y\":{\"field\":\"y\"}},\"id\":\"7860ec14-7b62-47fa-b2b3-9f2da6d88867\",\"type\":\"Rect\"},{\"attributes\":{\"callback\":null,\"end\":1404.7},\"id\":\"edb00e3f-14a7-4238-90c8-02fc1bfff937\",\"type\":\"Range1d\"},{\"attributes\":{\"data_source\":{\"id\":\"3e968e9b-6376-4e04-97e8-b007f8a39bc6\",\"type\":\"ColumnDataSource\"},\"glyph\":{\"id\":\"bbc1644a-1fc9-44a4-972d-46de23ee02b6\",\"type\":\"Rect\"},\"hover_glyph\":null,\"nonselection_glyph\":null,\"selection_glyph\":null},\"id\":\"bc1f3f33-70e1-4fe1-b6f0-9b9f4b768371\",\"type\":\"GlyphRenderer\"},{\"attributes\":{\"axis_label\":\"Predict Probability\",\"formatter\":{\"id\":\"d6775b9b-93b8-405a-a8d0-706d7c770d04\",\"type\":\"BasicTickFormatter\"},\"plot\":{\"id\":\"3826cbfb-4470-41de-8fc7-f2816a37d656\",\"subtype\":\"Chart\",\"type\":\"Plot\"},\"ticker\":{\"id\":\"343e36fe-dec6-4186-babf-7f04c7296de2\",\"type\":\"BasicTicker\"}},\"id\":\"b31af38a-92be-4258-a856-6d0389f47f23\",\"type\":\"LinearAxis\"},{\"attributes\":{\"data_source\":{\"id\":\"92031817-889a-45af-b958-a49e360a3ed0\",\"type\":\"ColumnDataSource\"},\"glyph\":{\"id\":\"429cce78-a868-422a-8702-7c0f9543d71e\",\"type\":\"Rect\"},\"hover_glyph\":null,\"nonselection_glyph\":null,\"selection_glyph\":null},\"id\":\"6736c30e-2780-4ccf-851a-069639f5399f\",\"type\":\"GlyphRenderer\"},{\"attributes\":{\"callback\":null,\"column_names\":[\"y\",\"line_color\",\"x\",\"line_alpha\",\"fill_alpha\",\"color\",\"label\",\"width\",\"height\"],\"data\":{\"chart_index\":[\"(0.200000, 0.233333]\"],\"color\":[\"LightSlateGray\"],\"fill_alpha\":[0.8],\"height\":[75.0],\"label\":[\"(0.200000, 0.233333]\"],\"line_alpha\":[1.0],\"line_color\":[\"black\"],\"width\":[0.033333333333333326],\"x\":[\"0.2166665\"],\"y\":[37.5]}},\"id\":\"22f2b993-4c28-4e95-af3f-c8c565565c81\",\"type\":\"ColumnDataSource\"},{\"attributes\":{\"callback\":null,\"column_names\":[\"y\",\"line_color\",\"x\",\"line_alpha\",\"fill_alpha\",\"color\",\"label\",\"width\",\"height\"],\"data\":{\"chart_index\":[\"(0.633333, 0.666667]\"],\"color\":[\"LightSlateGray\"],\"fill_alpha\":[0.8],\"height\":[0.0],\"label\":[\"(0.633333, 0.666667]\"],\"line_alpha\":[1.0],\"line_color\":[\"black\"],\"width\":[0.033333333333333326],\"x\":[\"0.65\"],\"y\":[0.0]}},\"id\":\"92031817-889a-45af-b958-a49e360a3ed0\",\"type\":\"ColumnDataSource\"},{\"attributes\":{\"data_source\":{\"id\":\"44d5852e-74f7-4d69-a3b2-6688af95fd94\",\"type\":\"ColumnDataSource\"},\"glyph\":{\"id\":\"158fe069-8be1-41f5-aa3d-60be84a3a9cf\",\"type\":\"Rect\"},\"hover_glyph\":null,\"nonselection_glyph\":null,\"selection_glyph\":null},\"id\":\"53f62dd1-04e7-4b1b-ae71-39013c8dbf54\",\"type\":\"GlyphRenderer\"},{\"attributes\":{\"data_source\":{\"id\":\"b63b472f-1181-4ade-af3d-4305be189617\",\"type\":\"ColumnDataSource\"},\"glyph\":{\"id\":\"168e439b-d232-4873-abe7-4f3aebb66525\",\"type\":\"Rect\"},\"hover_glyph\":null,\"nonselection_glyph\":null,\"selection_glyph\":null},\"id\":\"a5c59c84-5cad-4af0-ab84-330a7fa06c56\",\"type\":\"GlyphRenderer\"},{\"attributes\":{\"callback\":null,\"column_names\":[\"y\",\"line_color\",\"x\",\"line_alpha\",\"fill_alpha\",\"color\",\"label\",\"width\",\"height\"],\"data\":{\"chart_index\":[\"(0.400000, 0.433333]\"],\"color\":[\"LightSlateGray\"],\"fill_alpha\":[0.8],\"height\":[19.0],\"label\":[\"(0.400000, 0.433333]\"],\"line_alpha\":[1.0],\"line_color\":[\"black\"],\"width\":[0.033333333333333326],\"x\":[\"0.41666650000000005\"],\"y\":[9.5]}},\"id\":\"8dfd6bae-c86c-475e-adb6-7d0c3284b030\",\"type\":\"ColumnDataSource\"},{\"attributes\":{\"callback\":null,\"column_names\":[\"y\",\"line_color\",\"x\",\"line_alpha\",\"fill_alpha\",\"color\",\"label\",\"width\",\"height\"],\"data\":{\"chart_index\":[\"(0.533333, 0.566667]\"],\"color\":[\"LightSlateGray\"],\"fill_alpha\":[0.8],\"height\":[0.0],\"label\":[\"(0.533333, 0.566667]\"],\"line_alpha\":[1.0],\"line_color\":[\"black\"],\"width\":[0.033333333333333326],\"x\":[\"0.55\"],\"y\":[0.0]}},\"id\":\"012688ad-0e12-42b7-92d2-e4af336513d0\",\"type\":\"ColumnDataSource\"},{\"attributes\":{\"callback\":null,\"column_names\":[\"y\",\"line_color\",\"x\",\"line_alpha\",\"fill_alpha\",\"color\",\"label\",\"width\",\"height\"],\"data\":{\"chart_index\":[\"(0.666667, 0.700000]\"],\"color\":[\"LightSlateGray\"],\"fill_alpha\":[0.8],\"height\":[0.0],\"label\":[\"(0.666667, 0.700000]\"],\"line_alpha\":[1.0],\"line_color\":[\"black\"],\"width\":[0.033333333333333326],\"x\":[\"0.6833335\"],\"y\":[0.0]}},\"id\":\"46dc85d3-77e9-4403-9cac-6cf573005def\",\"type\":\"ColumnDataSource\"},{\"attributes\":{\"bottom_units\":\"screen\",\"fill_alpha\":{\"value\":0.5},\"fill_color\":{\"value\":\"lightgrey\"},\"left_units\":\"screen\",\"level\":\"overlay\",\"line_alpha\":{\"value\":1.0},\"line_color\":{\"value\":\"black\"},\"line_dash\":[4,4],\"line_width\":{\"value\":2},\"plot\":null,\"render_mode\":\"css\",\"right_units\":\"screen\",\"top_units\":\"screen\"},\"id\":\"3172265f-865f-4e5c-b92c-06490a1e94d1\",\"type\":\"BoxAnnotation\"},{\"attributes\":{\"data_source\":{\"id\":\"d9670b19-16a3-47a8-9c94-49b49ec6e162\",\"type\":\"ColumnDataSource\"},\"glyph\":{\"id\":\"3275324d-3a3f-45d9-ba55-425a897f7dab\",\"type\":\"Rect\"},\"hover_glyph\":null,\"nonselection_glyph\":null,\"selection_glyph\":null},\"id\":\"a3376c04-f6fe-4aca-b74d-936d4befb795\",\"type\":\"GlyphRenderer\"},{\"attributes\":{\"data_source\":{\"id\":\"22f2b993-4c28-4e95-af3f-c8c565565c81\",\"type\":\"ColumnDataSource\"},\"glyph\":{\"id\":\"52ff2542-f10c-49a1-bb7d-34c471697b09\",\"type\":\"Rect\"},\"hover_glyph\":null,\"nonselection_glyph\":null,\"selection_glyph\":null},\"id\":\"959daf19-626a-45cb-a8dc-b26f2de81008\",\"type\":\"GlyphRenderer\"},{\"attributes\":{\"callback\":null,\"column_names\":[\"y\",\"line_color\",\"x\",\"line_alpha\",\"fill_alpha\",\"color\",\"label\",\"width\",\"height\"],\"data\":{\"chart_index\":[\"(0.366667, 0.400000]\"],\"color\":[\"LightSlateGray\"],\"fill_alpha\":[0.8],\"height\":[0.0],\"label\":[\"(0.366667, 0.400000]\"],\"line_alpha\":[1.0],\"line_color\":[\"black\"],\"width\":[0.03333333333333338],\"x\":[\"0.3833335\"],\"y\":[0.0]}},\"id\":\"de06cea8-bc86-4e7d-9453-f74092f86d3e\",\"type\":\"ColumnDataSource\"},{\"attributes\":{\"callback\":null,\"column_names\":[\"y\",\"line_color\",\"x\",\"line_alpha\",\"fill_alpha\",\"color\",\"label\",\"width\",\"height\"],\"data\":{\"chart_index\":[\"(0.266667, 0.300000]\"],\"color\":[\"LightSlateGray\"],\"fill_alpha\":[0.8],\"height\":[0.0],\"label\":[\"(0.266667, 0.300000]\"],\"line_alpha\":[1.0],\"line_color\":[\"black\"],\"width\":[0.033333333333333326],\"x\":[\"0.2833335\"],\"y\":[0.0]}},\"id\":\"fedc51ed-f5cd-4092-bf10-cd4a0d0cb34d\",\"type\":\"ColumnDataSource\"},{\"attributes\":{\"fill_alpha\":{\"field\":\"fill_alpha\"},\"fill_color\":{\"field\":\"color\"},\"height\":{\"field\":\"height\",\"units\":\"data\"},\"line_color\":{\"field\":\"line_color\"},\"width\":{\"field\":\"width\",\"units\":\"data\"},\"x\":{\"field\":\"x\"},\"y\":{\"field\":\"y\"}},\"id\":\"a67c6a07-d418-4e3a-96e0-cdd2c7f126bd\",\"type\":\"Rect\"},{\"attributes\":{\"callback\":null,\"column_names\":[\"y\",\"line_color\",\"x\",\"line_alpha\",\"fill_alpha\",\"color\",\"label\",\"width\",\"height\"],\"data\":{\"chart_index\":[\"(0.600000, 0.633333]\"],\"color\":[\"LightSlateGray\"],\"fill_alpha\":[0.8],\"height\":[79.0],\"label\":[\"(0.600000, 0.633333]\"],\"line_alpha\":[1.0],\"line_color\":[\"black\"],\"width\":[0.033333333333333326],\"x\":[\"0.6166665\"],\"y\":[39.5]}},\"id\":\"df2e8245-c10c-410b-9403-8c4f2526dfd6\",\"type\":\"ColumnDataSource\"},{\"attributes\":{\"callback\":null,\"column_names\":[\"y\",\"line_color\",\"x\",\"line_alpha\",\"fill_alpha\",\"color\",\"label\",\"width\",\"height\"],\"data\":{\"chart_index\":[\"(0.966667, 1.000000]\"],\"color\":[\"LightSlateGray\"],\"fill_alpha\":[0.8],\"height\":[1277.0],\"label\":[\"(0.966667, 1.000000]\"],\"line_alpha\":[1.0],\"line_color\":[\"black\"],\"width\":[0.033333333333333326],\"x\":[\"0.9833335000000001\"],\"y\":[638.5]}},\"id\":\"6aa5033e-3ab6-42bf-8cbe-c1b541ac25a8\",\"type\":\"ColumnDataSource\"},{\"attributes\":{\"plot\":{\"id\":\"3826cbfb-4470-41de-8fc7-f2816a37d656\",\"subtype\":\"Chart\",\"type\":\"Plot\"}},\"id\":\"75046dc2-b1f1-470b-ac92-60bedb3de882\",\"type\":\"HelpTool\"},{\"attributes\":{\"data_source\":{\"id\":\"f7e0e1c9-9895-4020-858b-e13e1aa50abe\",\"type\":\"ColumnDataSource\"},\"glyph\":{\"id\":\"8e856d52-94ca-4cc1-bd5f-d00bed15a2c3\",\"type\":\"Rect\"},\"hover_glyph\":null,\"nonselection_glyph\":null,\"selection_glyph\":null},\"id\":\"23a9f4b8-bb22-48c4-9e19-b36a7d3efa6d\",\"type\":\"GlyphRenderer\"},{\"attributes\":{\"plot\":{\"id\":\"3826cbfb-4470-41de-8fc7-f2816a37d656\",\"subtype\":\"Chart\",\"type\":\"Plot\"}},\"id\":\"4ab38dad-5c64-4eb0-9fcb-13e0218c97a4\",\"type\":\"PanTool\"},{\"attributes\":{\"callback\":null,\"column_names\":[\"y\",\"line_color\",\"x\",\"line_alpha\",\"fill_alpha\",\"color\",\"label\",\"width\",\"height\"],\"data\":{\"chart_index\":[\"(0.333333, 0.366667]\"],\"color\":[\"LightSlateGray\"],\"fill_alpha\":[0.8],\"height\":[0.0],\"label\":[\"(0.333333, 0.366667]\"],\"line_alpha\":[1.0],\"line_color\":[\"black\"],\"width\":[0.033333333333333326],\"x\":[\"0.35\"],\"y\":[0.0]}},\"id\":\"d9670b19-16a3-47a8-9c94-49b49ec6e162\",\"type\":\"ColumnDataSource\"},{\"attributes\":{},\"id\":\"7c0ca6be-a78e-40cf-9cdb-1fa5be35a04e\",\"type\":\"BasicTicker\"},{\"attributes\":{\"overlay\":{\"id\":\"3172265f-865f-4e5c-b92c-06490a1e94d1\",\"type\":\"BoxAnnotation\"},\"plot\":{\"id\":\"3826cbfb-4470-41de-8fc7-f2816a37d656\",\"subtype\":\"Chart\",\"type\":\"Plot\"}},\"id\":\"8a2467fc-a348-4c22-a2f8-f5d941bd98d4\",\"type\":\"BoxZoomTool\"},{\"attributes\":{\"callback\":null,\"column_names\":[\"y\",\"line_color\",\"x\",\"line_alpha\",\"fill_alpha\",\"color\",\"label\",\"width\",\"height\"],\"data\":{\"chart_index\":[\"(0.466667, 0.500000]\"],\"color\":[\"LightSlateGray\"],\"fill_alpha\":[0.8],\"height\":[0.0],\"label\":[\"(0.466667, 0.500000]\"],\"line_alpha\":[1.0],\"line_color\":[\"black\"],\"width\":[0.033333333333333326],\"x\":[\"0.48333349999999997\"],\"y\":[0.0]}},\"id\":\"cca3068e-8486-443b-b8e7-b4e929768fc8\",\"type\":\"ColumnDataSource\"},{\"attributes\":{\"callback\":null,\"column_names\":[\"y\",\"line_color\",\"x\",\"line_alpha\",\"fill_alpha\",\"color\",\"label\",\"width\",\"height\"],\"data\":{\"chart_index\":[\"(0.800000, 0.833333]\"],\"color\":[\"LightSlateGray\"],\"fill_alpha\":[0.8],\"height\":[149.0],\"label\":[\"(0.800000, 0.833333]\"],\"line_alpha\":[1.0],\"line_color\":[\"black\"],\"width\":[0.033333333333333326],\"x\":[\"0.8166665\"],\"y\":[74.5]}},\"id\":\"b5c6f122-7a5d-4e32-af37-32f969ce0181\",\"type\":\"ColumnDataSource\"},{\"attributes\":{\"fill_alpha\":{\"field\":\"fill_alpha\"},\"fill_color\":{\"field\":\"color\"},\"height\":{\"field\":\"height\",\"units\":\"data\"},\"line_color\":{\"field\":\"line_color\"},\"width\":{\"field\":\"width\",\"units\":\"data\"},\"x\":{\"field\":\"x\"},\"y\":{\"field\":\"y\"}},\"id\":\"9df234f5-e284-499f-be59-6a0054ed818b\",\"type\":\"Rect\"},{\"attributes\":{},\"id\":\"aa6b65ec-a68d-4181-b6ac-15b2af88ab23\",\"type\":\"BasicTickFormatter\"},{\"attributes\":{\"fill_alpha\":{\"field\":\"fill_alpha\"},\"fill_color\":{\"field\":\"color\"},\"height\":{\"field\":\"height\",\"units\":\"data\"},\"line_color\":{\"field\":\"line_color\"},\"width\":{\"field\":\"width\",\"units\":\"data\"},\"x\":{\"field\":\"x\"},\"y\":{\"field\":\"y\"}},\"id\":\"13157475-d536-4373-bc5e-1a747178749b\",\"type\":\"Rect\"},{\"attributes\":{\"callback\":null,\"column_names\":[\"y\",\"line_color\",\"x\",\"line_alpha\",\"fill_alpha\",\"color\",\"label\",\"width\",\"height\"],\"data\":{\"chart_index\":[\"(0.933333, 0.966667]\"],\"color\":[\"LightSlateGray\"],\"fill_alpha\":[0.8],\"height\":[0.0],\"label\":[\"(0.933333, 0.966667]\"],\"line_alpha\":[1.0],\"line_color\":[\"black\"],\"width\":[0.033333333333333326],\"x\":[\"0.95\"],\"y\":[0.0]}},\"id\":\"166b65c9-4ac2-4940-9c88-296d369b1356\",\"type\":\"ColumnDataSource\"},{\"attributes\":{\"callback\":null,\"column_names\":[\"y\",\"line_color\",\"x\",\"line_alpha\",\"fill_alpha\",\"color\",\"label\",\"width\",\"height\"],\"data\":{\"chart_index\":[\"(0.066667, 0.100000]\"],\"color\":[\"LightSlateGray\"],\"fill_alpha\":[0.8],\"height\":[0.0],\"label\":[\"(0.066667, 0.100000]\"],\"line_alpha\":[1.0],\"line_color\":[\"black\"],\"width\":[0.03333333333333334],\"x\":[\"0.0833335\"],\"y\":[0.0]}},\"id\":\"3e968e9b-6376-4e04-97e8-b007f8a39bc6\",\"type\":\"ColumnDataSource\"},{\"attributes\":{\"callback\":null,\"column_names\":[\"y\",\"line_color\",\"x\",\"line_alpha\",\"fill_alpha\",\"color\",\"label\",\"width\",\"height\"],\"data\":{\"chart_index\":[\"(0.500000, 0.533333]\"],\"color\":[\"LightSlateGray\"],\"fill_alpha\":[0.8],\"height\":[28.0],\"label\":[\"(0.500000, 0.533333]\"],\"line_alpha\":[1.0],\"line_color\":[\"black\"],\"width\":[0.033333333333333326],\"x\":[\"0.5166664999999999\"],\"y\":[14.0]}},\"id\":\"fdf9f5c8-d2dc-4d46-bf1c-caac286373a1\",\"type\":\"ColumnDataSource\"},{\"attributes\":{\"data_source\":{\"id\":\"1c0ac58f-1046-4d9e-91c5-67d87236a1af\",\"type\":\"ColumnDataSource\"},\"glyph\":{\"id\":\"d160d641-31ff-4a75-8401-41838cd0d4c2\",\"type\":\"Rect\"},\"hover_glyph\":null,\"nonselection_glyph\":null,\"selection_glyph\":null},\"id\":\"be58cf5f-dc87-4fba-a019-b40380c51525\",\"type\":\"GlyphRenderer\"},{\"attributes\":{\"fill_alpha\":{\"field\":\"fill_alpha\"},\"fill_color\":{\"field\":\"color\"},\"height\":{\"field\":\"height\",\"units\":\"data\"},\"line_color\":{\"field\":\"line_color\"},\"width\":{\"field\":\"width\",\"units\":\"data\"},\"x\":{\"field\":\"x\"},\"y\":{\"field\":\"y\"}},\"id\":\"158fe069-8be1-41f5-aa3d-60be84a3a9cf\",\"type\":\"Rect\"},{\"attributes\":{\"callback\":null,\"column_names\":[\"y\",\"line_color\",\"x\",\"line_alpha\",\"fill_alpha\",\"color\",\"label\",\"width\",\"height\"],\"data\":{\"chart_index\":[\"(0.766667, 0.800000]\"],\"color\":[\"LightSlateGray\"],\"fill_alpha\":[0.8],\"height\":[0.0],\"label\":[\"(0.766667, 0.800000]\"],\"line_alpha\":[1.0],\"line_color\":[\"black\"],\"width\":[0.03333333333333344],\"x\":[\"0.7833335\"],\"y\":[0.0]}},\"id\":\"e62be38b-d9c8-4df3-97cd-bfcf8d694d4b\",\"type\":\"ColumnDataSource\"},{\"attributes\":{\"data_source\":{\"id\":\"46dc85d3-77e9-4403-9cac-6cf573005def\",\"type\":\"ColumnDataSource\"},\"glyph\":{\"id\":\"0303ba72-25b2-483e-a72a-9d78563212d9\",\"type\":\"Rect\"},\"hover_glyph\":null,\"nonselection_glyph\":null,\"selection_glyph\":null},\"id\":\"b6b4acc2-f85c-4492-8c75-6d9041d6fd4f\",\"type\":\"GlyphRenderer\"},{\"attributes\":{\"callback\":null,\"column_names\":[\"y\",\"line_color\",\"x\",\"line_alpha\",\"fill_alpha\",\"color\",\"label\",\"width\",\"height\"],\"data\":{\"chart_index\":[\"(0.100000, 0.133333]\"],\"color\":[\"LightSlateGray\"],\"fill_alpha\":[0.8],\"height\":[129.0],\"label\":[\"(0.100000, 0.133333]\"],\"line_alpha\":[1.0],\"line_color\":[\"black\"],\"width\":[0.033333333333333326],\"x\":[\"0.1166665\"],\"y\":[64.5]}},\"id\":\"464168a3-7094-4e7e-9d67-d2770fbfd560\",\"type\":\"ColumnDataSource\"},{\"attributes\":{\"data_source\":{\"id\":\"cca3068e-8486-443b-b8e7-b4e929768fc8\",\"type\":\"ColumnDataSource\"},\"glyph\":{\"id\":\"755b70fe-8671-418c-bbb5-144b10574c0e\",\"type\":\"Rect\"},\"hover_glyph\":null,\"nonselection_glyph\":null,\"selection_glyph\":null},\"id\":\"f8857535-ed1c-46a6-82b7-fbdf56b37ee3\",\"type\":\"GlyphRenderer\"},{\"attributes\":{\"callback\":null,\"column_names\":[\"y\",\"line_color\",\"x\",\"line_alpha\",\"fill_alpha\",\"color\",\"label\",\"width\",\"height\"],\"data\":{\"chart_index\":[\"(0.300000, 0.333333]\"],\"color\":[\"LightSlateGray\"],\"fill_alpha\":[0.8],\"height\":[23.0],\"label\":[\"(0.300000, 0.333333]\"],\"line_alpha\":[1.0],\"line_color\":[\"black\"],\"width\":[0.033333333333333326],\"x\":[\"0.31666649999999996\"],\"y\":[11.5]}},\"id\":\"44d5852e-74f7-4d69-a3b2-6688af95fd94\",\"type\":\"ColumnDataSource\"},{\"attributes\":{\"fill_alpha\":{\"field\":\"fill_alpha\"},\"fill_color\":{\"field\":\"color\"},\"height\":{\"field\":\"height\",\"units\":\"data\"},\"line_color\":{\"field\":\"line_color\"},\"width\":{\"field\":\"width\",\"units\":\"data\"},\"x\":{\"field\":\"x\"},\"y\":{\"field\":\"y\"}},\"id\":\"bbc1644a-1fc9-44a4-972d-46de23ee02b6\",\"type\":\"Rect\"},{\"attributes\":{\"fill_alpha\":{\"field\":\"fill_alpha\"},\"fill_color\":{\"field\":\"color\"},\"height\":{\"field\":\"height\",\"units\":\"data\"},\"line_color\":{\"field\":\"line_color\"},\"width\":{\"field\":\"width\",\"units\":\"data\"},\"x\":{\"field\":\"x\"},\"y\":{\"field\":\"y\"}},\"id\":\"d160d641-31ff-4a75-8401-41838cd0d4c2\",\"type\":\"Rect\"},{\"attributes\":{\"callback\":null,\"column_names\":[\"y\",\"line_color\",\"x\",\"line_alpha\",\"fill_alpha\",\"color\",\"label\",\"width\",\"height\"],\"data\":{\"chart_index\":[\"(0.833333, 0.866667]\"],\"color\":[\"LightSlateGray\"],\"fill_alpha\":[0.8],\"height\":[0.0],\"label\":[\"(0.833333, 0.866667]\"],\"line_alpha\":[1.0],\"line_color\":[\"black\"],\"width\":[0.033333333333333326],\"x\":[\"0.85\"],\"y\":[0.0]}},\"id\":\"455d55d1-4c4e-4ca5-a9b2-d4ceb46de1ea\",\"type\":\"ColumnDataSource\"},{\"attributes\":{\"fill_alpha\":{\"field\":\"fill_alpha\"},\"fill_color\":{\"field\":\"color\"},\"height\":{\"field\":\"height\",\"units\":\"data\"},\"line_color\":{\"field\":\"line_color\"},\"width\":{\"field\":\"width\",\"units\":\"data\"},\"x\":{\"field\":\"x\"},\"y\":{\"field\":\"y\"}},\"id\":\"4da4db32-83ff-4b9f-85f0-ccc6d5ba630b\",\"type\":\"Rect\"},{\"attributes\":{\"plot\":null,\"text\":\"Heterozygous Variant Labels\"},\"id\":\"aaf84322-cf60-41e2-9716-38d15f17cc3c\",\"type\":\"Title\"},{\"attributes\":{\"fill_alpha\":{\"field\":\"fill_alpha\"},\"fill_color\":{\"field\":\"color\"},\"height\":{\"field\":\"height\",\"units\":\"data\"},\"line_color\":{\"field\":\"line_color\"},\"width\":{\"field\":\"width\",\"units\":\"data\"},\"x\":{\"field\":\"x\"},\"y\":{\"field\":\"y\"}},\"id\":\"8a11d164-a321-426f-baf9-4f3427bcd6d0\",\"type\":\"Rect\"},{\"attributes\":{\"fill_alpha\":{\"field\":\"fill_alpha\"},\"fill_color\":{\"field\":\"color\"},\"height\":{\"field\":\"height\",\"units\":\"data\"},\"line_color\":{\"field\":\"line_color\"},\"width\":{\"field\":\"width\",\"units\":\"data\"},\"x\":{\"field\":\"x\"},\"y\":{\"field\":\"y\"}},\"id\":\"04104ba7-01c8-4ed9-9dfa-f559cb06557f\",\"type\":\"Rect\"},{\"attributes\":{\"callback\":null,\"column_names\":[\"y\",\"line_color\",\"x\",\"line_alpha\",\"fill_alpha\",\"color\",\"label\",\"width\",\"height\"],\"data\":{\"chart_index\":[\"(0.700000, 0.733333]\"],\"color\":[\"LightSlateGray\"],\"fill_alpha\":[0.8],\"height\":[99.0],\"label\":[\"(0.700000, 0.733333]\"],\"line_alpha\":[1.0],\"line_color\":[\"black\"],\"width\":[0.033333333333333326],\"x\":[\"0.7166665\"],\"y\":[49.5]}},\"id\":\"b63b472f-1181-4ade-af3d-4305be189617\",\"type\":\"ColumnDataSource\"},{\"attributes\":{},\"id\":\"d6775b9b-93b8-405a-a8d0-706d7c770d04\",\"type\":\"BasicTickFormatter\"},{\"attributes\":{\"fill_alpha\":{\"field\":\"fill_alpha\"},\"fill_color\":{\"field\":\"color\"},\"height\":{\"field\":\"height\",\"units\":\"data\"},\"line_color\":{\"field\":\"line_color\"},\"width\":{\"field\":\"width\",\"units\":\"data\"},\"x\":{\"field\":\"x\"},\"y\":{\"field\":\"y\"}},\"id\":\"5fe52d88-aec7-4a89-a08b-c0f29bb77e3a\",\"type\":\"Rect\"},{\"attributes\":{\"fill_alpha\":{\"field\":\"fill_alpha\"},\"fill_color\":{\"field\":\"color\"},\"height\":{\"field\":\"height\",\"units\":\"data\"},\"line_color\":{\"field\":\"line_color\"},\"width\":{\"field\":\"width\",\"units\":\"data\"},\"x\":{\"field\":\"x\"},\"y\":{\"field\":\"y\"}},\"id\":\"06a153f9-e916-4cf4-98a9-83867c55683f\",\"type\":\"Rect\"},{\"attributes\":{\"data_source\":{\"id\":\"464168a3-7094-4e7e-9d67-d2770fbfd560\",\"type\":\"ColumnDataSource\"},\"glyph\":{\"id\":\"882530f5-2c4f-4fb2-80aa-c840bbeb1526\",\"type\":\"Rect\"},\"hover_glyph\":null,\"nonselection_glyph\":null,\"selection_glyph\":null},\"id\":\"a2ddba99-0a2e-434a-b630-a22a36aab851\",\"type\":\"GlyphRenderer\"},{\"attributes\":{},\"id\":\"20333a04-b548-4de7-b254-8a3d772a0640\",\"type\":\"ToolEvents\"},{\"attributes\":{\"callback\":null,\"column_names\":[\"y\",\"line_color\",\"x\",\"line_alpha\",\"fill_alpha\",\"color\",\"label\",\"width\",\"height\"],\"data\":{\"chart_index\":[\"(0.900000, 0.933333]\"],\"color\":[\"LightSlateGray\"],\"fill_alpha\":[0.8],\"height\":[353.0],\"label\":[\"(0.900000, 0.933333]\"],\"line_alpha\":[1.0],\"line_color\":[\"black\"],\"width\":[0.033333333333333326],\"x\":[\"0.9166665\"],\"y\":[176.5]}},\"id\":\"f7e0e1c9-9895-4020-858b-e13e1aa50abe\",\"type\":\"ColumnDataSource\"},{\"attributes\":{\"callback\":null,\"column_names\":[\"y\",\"line_color\",\"x\",\"line_alpha\",\"fill_alpha\",\"color\",\"label\",\"width\",\"height\"],\"data\":{\"chart_index\":[\"(0.233333, 0.266667]\"],\"color\":[\"LightSlateGray\"],\"fill_alpha\":[0.8],\"height\":[0.0],\"label\":[\"(0.233333, 0.266667]\"],\"line_alpha\":[1.0],\"line_color\":[\"black\"],\"width\":[0.033333333333333326],\"x\":[\"0.25\"],\"y\":[0.0]}},\"id\":\"cf1da005-18d2-4414-b502-022e308966ce\",\"type\":\"ColumnDataSource\"},{\"attributes\":{\"below\":[{\"id\":\"b31af38a-92be-4258-a856-6d0389f47f23\",\"type\":\"LinearAxis\"}],\"css_classes\":null,\"left\":[{\"id\":\"7ff5d5a5-c235-4f87-a981-84d5943391fd\",\"type\":\"LinearAxis\"}],\"renderers\":[{\"id\":\"3172265f-865f-4e5c-b92c-06490a1e94d1\",\"type\":\"BoxAnnotation\"},{\"id\":\"541a66ae-1d45-4916-a14c-bb36119c3b25\",\"type\":\"GlyphRenderer\"},{\"id\":\"f452b724-5690-4c50-875e-4bef9da840d7\",\"type\":\"GlyphRenderer\"},{\"id\":\"bc1f3f33-70e1-4fe1-b6f0-9b9f4b768371\",\"type\":\"GlyphRenderer\"},{\"id\":\"a2ddba99-0a2e-434a-b630-a22a36aab851\",\"type\":\"GlyphRenderer\"},{\"id\":\"b388ad37-6249-4488-99e0-89f6319b3187\",\"type\":\"GlyphRenderer\"},{\"id\":\"80b750e6-f67c-4cf6-8c68-3ea9c1b25347\",\"type\":\"GlyphRenderer\"},{\"id\":\"959daf19-626a-45cb-a8dc-b26f2de81008\",\"type\":\"GlyphRenderer\"},{\"id\":\"29344e40-2484-4bf9-96cf-f6b52b0b6831\",\"type\":\"GlyphRenderer\"},{\"id\":\"d5b962bb-1c6b-4fda-8722-4f3bf4d407d4\",\"type\":\"GlyphRenderer\"},{\"id\":\"53f62dd1-04e7-4b1b-ae71-39013c8dbf54\",\"type\":\"GlyphRenderer\"},{\"id\":\"a3376c04-f6fe-4aca-b74d-936d4befb795\",\"type\":\"GlyphRenderer\"},{\"id\":\"a79f4d23-2121-474f-a071-b7df50f66183\",\"type\":\"GlyphRenderer\"},{\"id\":\"48d76898-b776-4338-b522-cf647eeb665d\",\"type\":\"GlyphRenderer\"},{\"id\":\"acf78eb4-07e5-4182-ad4a-a831c3dad9ab\",\"type\":\"GlyphRenderer\"},{\"id\":\"f8857535-ed1c-46a6-82b7-fbdf56b37ee3\",\"type\":\"GlyphRenderer\"},{\"id\":\"62bf8745-6367-480b-a1d0-088313481964\",\"type\":\"GlyphRenderer\"},{\"id\":\"0e7b75be-bfc0-4ebc-b797-329b9b60eab5\",\"type\":\"GlyphRenderer\"},{\"id\":\"be58cf5f-dc87-4fba-a019-b40380c51525\",\"type\":\"GlyphRenderer\"},{\"id\":\"b592e4c5-9d93-4692-9d8f-fe488c57214b\",\"type\":\"GlyphRenderer\"},{\"id\":\"6736c30e-2780-4ccf-851a-069639f5399f\",\"type\":\"GlyphRenderer\"},{\"id\":\"b6b4acc2-f85c-4492-8c75-6d9041d6fd4f\",\"type\":\"GlyphRenderer\"},{\"id\":\"a5c59c84-5cad-4af0-ab84-330a7fa06c56\",\"type\":\"GlyphRenderer\"},{\"id\":\"0cd845f8-2659-4c4d-9017-b4f41d4ee4af\",\"type\":\"GlyphRenderer\"},{\"id\":\"a9681310-21f8-4d59-b0fd-12a16a34744f\",\"type\":\"GlyphRenderer\"},{\"id\":\"0cc1f16c-76cd-432c-a4b5-1313d4dd6aa8\",\"type\":\"GlyphRenderer\"},{\"id\":\"aea1addb-1cf2-41c9-a847-911ff95cccd5\",\"type\":\"GlyphRenderer\"},{\"id\":\"861469c0-7e3a-479c-933c-d79b7fb26a16\",\"type\":\"GlyphRenderer\"},{\"id\":\"23a9f4b8-bb22-48c4-9e19-b36a7d3efa6d\",\"type\":\"GlyphRenderer\"},{\"id\":\"292b65f3-dbd9-4332-b751-922e5b950192\",\"type\":\"GlyphRenderer\"},{\"id\":\"15311655-4dd6-4b63-947b-1ec178876c25\",\"type\":\"GlyphRenderer\"},{\"id\":\"9c5002fc-f923-4eb7-823f-56ad45b55551\",\"type\":\"Legend\"},{\"id\":\"b31af38a-92be-4258-a856-6d0389f47f23\",\"type\":\"LinearAxis\"},{\"id\":\"7ff5d5a5-c235-4f87-a981-84d5943391fd\",\"type\":\"LinearAxis\"},{\"id\":\"67a7b9b2-fbee-4743-a148-84c1c10a33c2\",\"type\":\"Grid\"}],\"title\":{\"id\":\"aaf84322-cf60-41e2-9716-38d15f17cc3c\",\"type\":\"Title\"},\"tool_events\":{\"id\":\"20333a04-b548-4de7-b254-8a3d772a0640\",\"type\":\"ToolEvents\"},\"toolbar\":{\"id\":\"11dfaaaf-592c-4d56-9ba6-afc4cf823d57\",\"type\":\"Toolbar\"},\"x_mapper_type\":\"auto\",\"x_range\":{\"id\":\"730adceb-90a1-4e11-9bf6-65cf368c7c82\",\"type\":\"Range1d\"},\"y_mapper_type\":\"auto\",\"y_range\":{\"id\":\"edb00e3f-14a7-4238-90c8-02fc1bfff937\",\"type\":\"Range1d\"}},\"id\":\"3826cbfb-4470-41de-8fc7-f2816a37d656\",\"subtype\":\"Chart\",\"type\":\"Plot\"},{\"attributes\":{\"fill_alpha\":{\"field\":\"fill_alpha\"},\"fill_color\":{\"field\":\"color\"},\"height\":{\"field\":\"height\",\"units\":\"data\"},\"line_color\":{\"field\":\"line_color\"},\"width\":{\"field\":\"width\",\"units\":\"data\"},\"x\":{\"field\":\"x\"},\"y\":{\"field\":\"y\"}},\"id\":\"0303ba72-25b2-483e-a72a-9d78563212d9\",\"type\":\"Rect\"},{\"attributes\":{\"callback\":null,\"column_names\":[\"y\",\"line_color\",\"x\",\"line_alpha\",\"fill_alpha\",\"color\",\"label\",\"width\",\"height\"],\"data\":{\"chart_index\":[\"(0.733333, 0.766667]\"],\"color\":[\"LightSlateGray\"],\"fill_alpha\":[0.8],\"height\":[0.0],\"label\":[\"(0.733333, 0.766667]\"],\"line_alpha\":[1.0],\"line_color\":[\"black\"],\"width\":[0.033333333333333326],\"x\":[\"0.75\"],\"y\":[0.0]}},\"id\":\"c15568ea-2251-4f45-befe-2854af044d13\",\"type\":\"ColumnDataSource\"},{\"attributes\":{\"fill_alpha\":{\"field\":\"fill_alpha\"},\"fill_color\":{\"field\":\"color\"},\"height\":{\"field\":\"height\",\"units\":\"data\"},\"line_color\":{\"field\":\"line_color\"},\"width\":{\"field\":\"width\",\"units\":\"data\"},\"x\":{\"field\":\"x\"},\"y\":{\"field\":\"y\"}},\"id\":\"e2c152bd-2a69-4d31-92d3-8562919973a3\",\"type\":\"Rect\"},{\"attributes\":{\"active_drag\":\"auto\",\"active_scroll\":\"auto\",\"active_tap\":\"auto\",\"tools\":[{\"id\":\"4ab38dad-5c64-4eb0-9fcb-13e0218c97a4\",\"type\":\"PanTool\"},{\"id\":\"c7ae305f-8ee2-487c-b541-fe3c0632c2da\",\"type\":\"WheelZoomTool\"},{\"id\":\"8a2467fc-a348-4c22-a2f8-f5d941bd98d4\",\"type\":\"BoxZoomTool\"},{\"id\":\"2a0c6a7c-788a-48ff-b345-b6489685e8da\",\"type\":\"SaveTool\"},{\"id\":\"f1b44799-35c0-4714-bc55-6c2fd14db912\",\"type\":\"ResetTool\"},{\"id\":\"75046dc2-b1f1-470b-ac92-60bedb3de882\",\"type\":\"HelpTool\"}]},\"id\":\"11dfaaaf-592c-4d56-9ba6-afc4cf823d57\",\"type\":\"Toolbar\"},{\"attributes\":{\"callback\":null,\"end\":1.0250001666666666,\"start\":-0.025000166666666667},\"id\":\"730adceb-90a1-4e11-9bf6-65cf368c7c82\",\"type\":\"Range1d\"},{\"attributes\":{\"data_source\":{\"id\":\"166b65c9-4ac2-4940-9c88-296d369b1356\",\"type\":\"ColumnDataSource\"},\"glyph\":{\"id\":\"9df234f5-e284-499f-be59-6a0054ed818b\",\"type\":\"Rect\"},\"hover_glyph\":null,\"nonselection_glyph\":null,\"selection_glyph\":null},\"id\":\"292b65f3-dbd9-4332-b751-922e5b950192\",\"type\":\"GlyphRenderer\"},{\"attributes\":{\"callback\":null,\"column_names\":[\"y\",\"line_color\",\"x\",\"line_alpha\",\"fill_alpha\",\"color\",\"label\",\"width\",\"height\"],\"data\":{\"chart_index\":[\"(0.566667, 0.600000]\"],\"color\":[\"LightSlateGray\"],\"fill_alpha\":[0.8],\"height\":[0.0],\"label\":[\"(0.566667, 0.600000]\"],\"line_alpha\":[1.0],\"line_color\":[\"black\"],\"width\":[0.033333333333333326],\"x\":[\"0.5833335\"],\"y\":[0.0]}},\"id\":\"1c0ac58f-1046-4d9e-91c5-67d87236a1af\",\"type\":\"ColumnDataSource\"},{\"attributes\":{},\"id\":\"343e36fe-dec6-4186-babf-7f04c7296de2\",\"type\":\"BasicTicker\"},{\"attributes\":{\"data_source\":{\"id\":\"8dfd6bae-c86c-475e-adb6-7d0c3284b030\",\"type\":\"ColumnDataSource\"},\"glyph\":{\"id\":\"5fef0631-e113-44dd-b524-31c724e0900b\",\"type\":\"Rect\"},\"hover_glyph\":null,\"nonselection_glyph\":null,\"selection_glyph\":null},\"id\":\"48d76898-b776-4338-b522-cf647eeb665d\",\"type\":\"GlyphRenderer\"},{\"attributes\":{\"dimension\":1,\"plot\":{\"id\":\"3826cbfb-4470-41de-8fc7-f2816a37d656\",\"subtype\":\"Chart\",\"type\":\"Plot\"},\"ticker\":{\"id\":\"7c0ca6be-a78e-40cf-9cdb-1fa5be35a04e\",\"type\":\"BasicTicker\"}},\"id\":\"67a7b9b2-fbee-4743-a148-84c1c10a33c2\",\"type\":\"Grid\"},{\"attributes\":{\"data_source\":{\"id\":\"df2e8245-c10c-410b-9403-8c4f2526dfd6\",\"type\":\"ColumnDataSource\"},\"glyph\":{\"id\":\"e174a4b2-8a82-4f21-9c2e-13230e1f2d08\",\"type\":\"Rect\"},\"hover_glyph\":null,\"nonselection_glyph\":null,\"selection_glyph\":null},\"id\":\"b592e4c5-9d93-4692-9d8f-fe488c57214b\",\"type\":\"GlyphRenderer\"},{\"attributes\":{\"data_source\":{\"id\":\"c15568ea-2251-4f45-befe-2854af044d13\",\"type\":\"ColumnDataSource\"},\"glyph\":{\"id\":\"4da4db32-83ff-4b9f-85f0-ccc6d5ba630b\",\"type\":\"Rect\"},\"hover_glyph\":null,\"nonselection_glyph\":null,\"selection_glyph\":null},\"id\":\"0cd845f8-2659-4c4d-9017-b4f41d4ee4af\",\"type\":\"GlyphRenderer\"},{\"attributes\":{\"data_source\":{\"id\":\"fdf9f5c8-d2dc-4d46-bf1c-caac286373a1\",\"type\":\"ColumnDataSource\"},\"glyph\":{\"id\":\"48dbaa18-f78c-4fb8-afd3-f4a8da5656b5\",\"type\":\"Rect\"},\"hover_glyph\":null,\"nonselection_glyph\":null,\"selection_glyph\":null},\"id\":\"62bf8745-6367-480b-a1d0-088313481964\",\"type\":\"GlyphRenderer\"},{\"attributes\":{\"fill_alpha\":{\"field\":\"fill_alpha\"},\"fill_color\":{\"field\":\"color\"},\"height\":{\"field\":\"height\",\"units\":\"data\"},\"line_color\":{\"field\":\"line_color\"},\"width\":{\"field\":\"width\",\"units\":\"data\"},\"x\":{\"field\":\"x\"},\"y\":{\"field\":\"y\"}},\"id\":\"85dbd37e-fff6-48db-b01d-c4aef0c6f15a\",\"type\":\"Rect\"},{\"attributes\":{\"callback\":null,\"column_names\":[\"y\",\"line_color\",\"x\",\"line_alpha\",\"fill_alpha\",\"color\",\"label\",\"width\",\"height\"],\"data\":{\"chart_index\":[\"(0.166667, 0.200000]\"],\"color\":[\"LightSlateGray\"],\"fill_alpha\":[0.8],\"height\":[0.0],\"label\":[\"(0.166667, 0.200000]\"],\"line_alpha\":[1.0],\"line_color\":[\"black\"],\"width\":[0.033333333333333354],\"x\":[\"0.1833335\"],\"y\":[0.0]}},\"id\":\"6d51b04a-b81d-49e5-9413-57e257ab8483\",\"type\":\"ColumnDataSource\"},{\"attributes\":{\"data_source\":{\"id\":\"fedc51ed-f5cd-4092-bf10-cd4a0d0cb34d\",\"type\":\"ColumnDataSource\"},\"glyph\":{\"id\":\"85dbd37e-fff6-48db-b01d-c4aef0c6f15a\",\"type\":\"Rect\"},\"hover_glyph\":null,\"nonselection_glyph\":null,\"selection_glyph\":null},\"id\":\"d5b962bb-1c6b-4fda-8722-4f3bf4d407d4\",\"type\":\"GlyphRenderer\"},{\"attributes\":{\"data_source\":{\"id\":\"412a169a-5d1d-4306-9ddf-c31b218744a3\",\"type\":\"ColumnDataSource\"},\"glyph\":{\"id\":\"7860ec14-7b62-47fa-b2b3-9f2da6d88867\",\"type\":\"Rect\"},\"hover_glyph\":null,\"nonselection_glyph\":null,\"selection_glyph\":null},\"id\":\"861469c0-7e3a-479c-933c-d79b7fb26a16\",\"type\":\"GlyphRenderer\"},{\"attributes\":{\"data_source\":{\"id\":\"012688ad-0e12-42b7-92d2-e4af336513d0\",\"type\":\"ColumnDataSource\"},\"glyph\":{\"id\":\"471094c5-c7bf-4f9f-b0b5-771c7ff7c50e\",\"type\":\"Rect\"},\"hover_glyph\":null,\"nonselection_glyph\":null,\"selection_glyph\":null},\"id\":\"0e7b75be-bfc0-4ebc-b797-329b9b60eab5\",\"type\":\"GlyphRenderer\"},{\"attributes\":{\"fill_alpha\":{\"field\":\"fill_alpha\"},\"fill_color\":{\"field\":\"color\"},\"height\":{\"field\":\"height\",\"units\":\"data\"},\"line_color\":{\"field\":\"line_color\"},\"width\":{\"field\":\"width\",\"units\":\"data\"},\"x\":{\"field\":\"x\"},\"y\":{\"field\":\"y\"}},\"id\":\"8e856d52-94ca-4cc1-bd5f-d00bed15a2c3\",\"type\":\"Rect\"},{\"attributes\":{\"plot\":{\"id\":\"3826cbfb-4470-41de-8fc7-f2816a37d656\",\"subtype\":\"Chart\",\"type\":\"Plot\"}},\"id\":\"c7ae305f-8ee2-487c-b541-fe3c0632c2da\",\"type\":\"WheelZoomTool\"},{\"attributes\":{\"fill_alpha\":{\"field\":\"fill_alpha\"},\"fill_color\":{\"field\":\"color\"},\"height\":{\"field\":\"height\",\"units\":\"data\"},\"line_color\":{\"field\":\"line_color\"},\"width\":{\"field\":\"width\",\"units\":\"data\"},\"x\":{\"field\":\"x\"},\"y\":{\"field\":\"y\"}},\"id\":\"168e439b-d232-4873-abe7-4f3aebb66525\",\"type\":\"Rect\"},{\"attributes\":{\"callback\":null,\"column_names\":[\"y\",\"line_color\",\"x\",\"line_alpha\",\"fill_alpha\",\"color\",\"label\",\"width\",\"height\"],\"data\":{\"chart_index\":[\"(0.033333, 0.066667]\"],\"color\":[\"LightSlateGray\"],\"fill_alpha\":[0.8],\"height\":[0.0],\"label\":[\"(0.033333, 0.066667]\"],\"line_alpha\":[1.0],\"line_color\":[\"black\"],\"width\":[0.03333333333333333],\"x\":[\"0.05\"],\"y\":[0.0]}},\"id\":\"12c55786-6437-4f65-b776-40ae0337bb76\",\"type\":\"ColumnDataSource\"},{\"attributes\":{\"callback\":null,\"column_names\":[\"y\",\"line_color\",\"x\",\"line_alpha\",\"fill_alpha\",\"color\",\"label\",\"width\",\"height\"],\"data\":{\"chart_index\":[\"(0.133333, 0.166667]\"],\"color\":[\"LightSlateGray\"],\"fill_alpha\":[0.8],\"height\":[0.0],\"label\":[\"(0.133333, 0.166667]\"],\"line_alpha\":[1.0],\"line_color\":[\"black\"],\"width\":[0.033333333333333326],\"x\":[\"0.15000000000000002\"],\"y\":[0.0]}},\"id\":\"e0a5573c-14b9-474f-b72a-2c190d4cee6a\",\"type\":\"ColumnDataSource\"},{\"attributes\":{\"fill_alpha\":{\"field\":\"fill_alpha\"},\"fill_color\":{\"field\":\"color\"},\"height\":{\"field\":\"height\",\"units\":\"data\"},\"line_color\":{\"field\":\"line_color\"},\"width\":{\"field\":\"width\",\"units\":\"data\"},\"x\":{\"field\":\"x\"},\"y\":{\"field\":\"y\"}},\"id\":\"220c5889-e245-48ff-a756-e8e64f459176\",\"type\":\"Rect\"},{\"attributes\":{\"fill_alpha\":{\"field\":\"fill_alpha\"},\"fill_color\":{\"field\":\"color\"},\"height\":{\"field\":\"height\",\"units\":\"data\"},\"line_color\":{\"field\":\"line_color\"},\"width\":{\"field\":\"width\",\"units\":\"data\"},\"x\":{\"field\":\"x\"},\"y\":{\"field\":\"y\"}},\"id\":\"882530f5-2c4f-4fb2-80aa-c840bbeb1526\",\"type\":\"Rect\"},{\"attributes\":{\"fill_alpha\":{\"field\":\"fill_alpha\"},\"fill_color\":{\"field\":\"color\"},\"height\":{\"field\":\"height\",\"units\":\"data\"},\"line_color\":{\"field\":\"line_color\"},\"width\":{\"field\":\"width\",\"units\":\"data\"},\"x\":{\"field\":\"x\"},\"y\":{\"field\":\"y\"}},\"id\":\"429cce78-a868-422a-8702-7c0f9543d71e\",\"type\":\"Rect\"},{\"attributes\":{\"location\":\"top_left\",\"plot\":{\"id\":\"3826cbfb-4470-41de-8fc7-f2816a37d656\",\"subtype\":\"Chart\",\"type\":\"Plot\"}},\"id\":\"9c5002fc-f923-4eb7-823f-56ad45b55551\",\"type\":\"Legend\"}],\"root_ids\":[\"3826cbfb-4470-41de-8fc7-f2816a37d656\"]},\"title\":\"Bokeh Application\",\"version\":\"0.12.4\"}};\n",
       "            var render_items = [{\"docid\":\"f6f755a3-a804-4365-8252-303b54215433\",\"elementid\":\"1691f640-016e-4eee-b9b9-063e2ccc4613\",\"modelid\":\"3826cbfb-4470-41de-8fc7-f2816a37d656\"}];\n",
       "            \n",
       "            Bokeh.embed.embed_items(docs_json, render_items);\n",
       "          };\n",
       "          if (document.readyState != \"loading\") fn();\n",
       "          else document.addEventListener(\"DOMContentLoaded\", fn);\n",
       "        })();\n",
       "      },\n",
       "      function(Bokeh) {\n",
       "      }\n",
       "    ];\n",
       "  \n",
       "    function run_inline_js() {\n",
       "      \n",
       "      if ((window.Bokeh !== undefined) || (force === true)) {\n",
       "        for (var i = 0; i < inline_js.length; i++) {\n",
       "          inline_js[i](window.Bokeh);\n",
       "        }if (force === true) {\n",
       "          display_loaded();\n",
       "        }} else if (Date.now() < window._bokeh_timeout) {\n",
       "        setTimeout(run_inline_js, 100);\n",
       "      } else if (!window._bokeh_failed_load) {\n",
       "        console.log(\"Bokeh: BokehJS failed to load within specified timeout.\");\n",
       "        window._bokeh_failed_load = true;\n",
       "      } else if (force !== true) {\n",
       "        var cell = $(document.getElementById(\"1691f640-016e-4eee-b9b9-063e2ccc4613\")).parents('.cell').data().cell;\n",
       "        cell.output_area.append_execute_result(NB_LOAD_WARNING)\n",
       "      }\n",
       "  \n",
       "    }\n",
       "  \n",
       "    if (window._bokeh_is_loading === 0) {\n",
       "      console.log(\"Bokeh: BokehJS loaded, going straight to plotting\");\n",
       "      run_inline_js();\n",
       "    } else {\n",
       "      load_libs(js_urls, function() {\n",
       "        console.log(\"Bokeh: BokehJS plotting callback run at\", now());\n",
       "        run_inline_js();\n",
       "      });\n",
       "    }\n",
       "  }(this));\n",
       "</script>"
      ]
     },
     "metadata": {},
     "output_type": "display_data"
    }
   ],
   "source": [
    "output_notebook()\n",
    "p = figure()\n",
    "p = Histogram(X6_2, values='2', title='Heterozygous Variant Labels', color='LightSlateGray', bins=30, xlabel=\"Predict Probability\", ylabel=\"Frequency\")\n",
    "output_file(\"pred_prob_het_var.html\")\n",
    "show(p)"
   ]
  },
  {
   "cell_type": "code",
   "execution_count": 150,
   "metadata": {},
   "outputs": [
    {
     "data": {
      "text/html": [
       "\n",
       "    <div class=\"bk-root\">\n",
       "        <a href=\"http://bokeh.pydata.org\" target=\"_blank\" class=\"bk-logo bk-logo-small bk-logo-notebook\"></a>\n",
       "        <span id=\"4a9d8c90-d127-40c6-bad8-41ac57884fa9\">Loading BokehJS ...</span>\n",
       "    </div>"
      ]
     },
     "metadata": {},
     "output_type": "display_data"
    },
    {
     "data": {
      "application/javascript": [
       "\n",
       "(function(global) {\n",
       "  function now() {\n",
       "    return new Date();\n",
       "  }\n",
       "\n",
       "  var force = true;\n",
       "\n",
       "  if (typeof (window._bokeh_onload_callbacks) === \"undefined\" || force === true) {\n",
       "    window._bokeh_onload_callbacks = [];\n",
       "    window._bokeh_is_loading = undefined;\n",
       "  }\n",
       "\n",
       "\n",
       "  \n",
       "  if (typeof (window._bokeh_timeout) === \"undefined\" || force === true) {\n",
       "    window._bokeh_timeout = Date.now() + 5000;\n",
       "    window._bokeh_failed_load = false;\n",
       "  }\n",
       "\n",
       "  var NB_LOAD_WARNING = {'data': {'text/html':\n",
       "     \"<div style='background-color: #fdd'>\\n\"+\n",
       "     \"<p>\\n\"+\n",
       "     \"BokehJS does not appear to have successfully loaded. If loading BokehJS from CDN, this \\n\"+\n",
       "     \"may be due to a slow or bad network connection. Possible fixes:\\n\"+\n",
       "     \"</p>\\n\"+\n",
       "     \"<ul>\\n\"+\n",
       "     \"<li>re-rerun `output_notebook()` to attempt to load from CDN again, or</li>\\n\"+\n",
       "     \"<li>use INLINE resources instead, as so:</li>\\n\"+\n",
       "     \"</ul>\\n\"+\n",
       "     \"<code>\\n\"+\n",
       "     \"from bokeh.resources import INLINE\\n\"+\n",
       "     \"output_notebook(resources=INLINE)\\n\"+\n",
       "     \"</code>\\n\"+\n",
       "     \"</div>\"}};\n",
       "\n",
       "  function display_loaded() {\n",
       "    if (window.Bokeh !== undefined) {\n",
       "      document.getElementById(\"4a9d8c90-d127-40c6-bad8-41ac57884fa9\").textContent = \"BokehJS successfully loaded.\";\n",
       "    } else if (Date.now() < window._bokeh_timeout) {\n",
       "      setTimeout(display_loaded, 100)\n",
       "    }\n",
       "  }\n",
       "\n",
       "  function run_callbacks() {\n",
       "    window._bokeh_onload_callbacks.forEach(function(callback) { callback() });\n",
       "    delete window._bokeh_onload_callbacks\n",
       "    console.info(\"Bokeh: all callbacks have finished\");\n",
       "  }\n",
       "\n",
       "  function load_libs(js_urls, callback) {\n",
       "    window._bokeh_onload_callbacks.push(callback);\n",
       "    if (window._bokeh_is_loading > 0) {\n",
       "      console.log(\"Bokeh: BokehJS is being loaded, scheduling callback at\", now());\n",
       "      return null;\n",
       "    }\n",
       "    if (js_urls == null || js_urls.length === 0) {\n",
       "      run_callbacks();\n",
       "      return null;\n",
       "    }\n",
       "    console.log(\"Bokeh: BokehJS not loaded, scheduling load and callback at\", now());\n",
       "    window._bokeh_is_loading = js_urls.length;\n",
       "    for (var i = 0; i < js_urls.length; i++) {\n",
       "      var url = js_urls[i];\n",
       "      var s = document.createElement('script');\n",
       "      s.src = url;\n",
       "      s.async = false;\n",
       "      s.onreadystatechange = s.onload = function() {\n",
       "        window._bokeh_is_loading--;\n",
       "        if (window._bokeh_is_loading === 0) {\n",
       "          console.log(\"Bokeh: all BokehJS libraries loaded\");\n",
       "          run_callbacks()\n",
       "        }\n",
       "      };\n",
       "      s.onerror = function() {\n",
       "        console.warn(\"failed to load library \" + url);\n",
       "      };\n",
       "      console.log(\"Bokeh: injecting script tag for BokehJS library: \", url);\n",
       "      document.getElementsByTagName(\"head\")[0].appendChild(s);\n",
       "    }\n",
       "  };var element = document.getElementById(\"4a9d8c90-d127-40c6-bad8-41ac57884fa9\");\n",
       "  if (element == null) {\n",
       "    console.log(\"Bokeh: ERROR: autoload.js configured with elementid '4a9d8c90-d127-40c6-bad8-41ac57884fa9' but no matching script tag was found. \")\n",
       "    return false;\n",
       "  }\n",
       "\n",
       "  var js_urls = [\"https://cdn.pydata.org/bokeh/release/bokeh-0.12.4.min.js\", \"https://cdn.pydata.org/bokeh/release/bokeh-widgets-0.12.4.min.js\"];\n",
       "\n",
       "  var inline_js = [\n",
       "    function(Bokeh) {\n",
       "      Bokeh.set_log_level(\"info\");\n",
       "    },\n",
       "    \n",
       "    function(Bokeh) {\n",
       "      \n",
       "      document.getElementById(\"4a9d8c90-d127-40c6-bad8-41ac57884fa9\").textContent = \"BokehJS is loading...\";\n",
       "    },\n",
       "    function(Bokeh) {\n",
       "      console.log(\"Bokeh: injecting CSS: https://cdn.pydata.org/bokeh/release/bokeh-0.12.4.min.css\");\n",
       "      Bokeh.embed.inject_css(\"https://cdn.pydata.org/bokeh/release/bokeh-0.12.4.min.css\");\n",
       "      console.log(\"Bokeh: injecting CSS: https://cdn.pydata.org/bokeh/release/bokeh-widgets-0.12.4.min.css\");\n",
       "      Bokeh.embed.inject_css(\"https://cdn.pydata.org/bokeh/release/bokeh-widgets-0.12.4.min.css\");\n",
       "    }\n",
       "  ];\n",
       "\n",
       "  function run_inline_js() {\n",
       "    \n",
       "    if ((window.Bokeh !== undefined) || (force === true)) {\n",
       "      for (var i = 0; i < inline_js.length; i++) {\n",
       "        inline_js[i](window.Bokeh);\n",
       "      }if (force === true) {\n",
       "        display_loaded();\n",
       "      }} else if (Date.now() < window._bokeh_timeout) {\n",
       "      setTimeout(run_inline_js, 100);\n",
       "    } else if (!window._bokeh_failed_load) {\n",
       "      console.log(\"Bokeh: BokehJS failed to load within specified timeout.\");\n",
       "      window._bokeh_failed_load = true;\n",
       "    } else if (force !== true) {\n",
       "      var cell = $(document.getElementById(\"4a9d8c90-d127-40c6-bad8-41ac57884fa9\")).parents('.cell').data().cell;\n",
       "      cell.output_area.append_execute_result(NB_LOAD_WARNING)\n",
       "    }\n",
       "\n",
       "  }\n",
       "\n",
       "  if (window._bokeh_is_loading === 0) {\n",
       "    console.log(\"Bokeh: BokehJS loaded, going straight to plotting\");\n",
       "    run_inline_js();\n",
       "  } else {\n",
       "    load_libs(js_urls, function() {\n",
       "      console.log(\"Bokeh: BokehJS plotting callback run at\", now());\n",
       "      run_inline_js();\n",
       "    });\n",
       "  }\n",
       "}(this));"
      ]
     },
     "metadata": {},
     "output_type": "display_data"
    },
    {
     "name": "stderr",
     "output_type": "stream",
     "text": [
      "INFO:bokeh.core.state:Session output file 'pred_prob.html' already exists, will be overwritten.\n"
     ]
    },
    {
     "data": {
      "text/html": [
       "\n",
       "\n",
       "    <div class=\"bk-root\">\n",
       "        <div class=\"bk-plotdiv\" id=\"e9e55496-b01d-432c-ab2d-bbcb3461a812\"></div>\n",
       "    </div>\n",
       "<script type=\"text/javascript\">\n",
       "  \n",
       "  (function(global) {\n",
       "    function now() {\n",
       "      return new Date();\n",
       "    }\n",
       "  \n",
       "    var force = false;\n",
       "  \n",
       "    if (typeof (window._bokeh_onload_callbacks) === \"undefined\" || force === true) {\n",
       "      window._bokeh_onload_callbacks = [];\n",
       "      window._bokeh_is_loading = undefined;\n",
       "    }\n",
       "  \n",
       "  \n",
       "    \n",
       "    if (typeof (window._bokeh_timeout) === \"undefined\" || force === true) {\n",
       "      window._bokeh_timeout = Date.now() + 0;\n",
       "      window._bokeh_failed_load = false;\n",
       "    }\n",
       "  \n",
       "    var NB_LOAD_WARNING = {'data': {'text/html':\n",
       "       \"<div style='background-color: #fdd'>\\n\"+\n",
       "       \"<p>\\n\"+\n",
       "       \"BokehJS does not appear to have successfully loaded. If loading BokehJS from CDN, this \\n\"+\n",
       "       \"may be due to a slow or bad network connection. Possible fixes:\\n\"+\n",
       "       \"</p>\\n\"+\n",
       "       \"<ul>\\n\"+\n",
       "       \"<li>re-rerun `output_notebook()` to attempt to load from CDN again, or</li>\\n\"+\n",
       "       \"<li>use INLINE resources instead, as so:</li>\\n\"+\n",
       "       \"</ul>\\n\"+\n",
       "       \"<code>\\n\"+\n",
       "       \"from bokeh.resources import INLINE\\n\"+\n",
       "       \"output_notebook(resources=INLINE)\\n\"+\n",
       "       \"</code>\\n\"+\n",
       "       \"</div>\"}};\n",
       "  \n",
       "    function display_loaded() {\n",
       "      if (window.Bokeh !== undefined) {\n",
       "        document.getElementById(\"e9e55496-b01d-432c-ab2d-bbcb3461a812\").textContent = \"BokehJS successfully loaded.\";\n",
       "      } else if (Date.now() < window._bokeh_timeout) {\n",
       "        setTimeout(display_loaded, 100)\n",
       "      }\n",
       "    }\n",
       "  \n",
       "    function run_callbacks() {\n",
       "      window._bokeh_onload_callbacks.forEach(function(callback) { callback() });\n",
       "      delete window._bokeh_onload_callbacks\n",
       "      console.info(\"Bokeh: all callbacks have finished\");\n",
       "    }\n",
       "  \n",
       "    function load_libs(js_urls, callback) {\n",
       "      window._bokeh_onload_callbacks.push(callback);\n",
       "      if (window._bokeh_is_loading > 0) {\n",
       "        console.log(\"Bokeh: BokehJS is being loaded, scheduling callback at\", now());\n",
       "        return null;\n",
       "      }\n",
       "      if (js_urls == null || js_urls.length === 0) {\n",
       "        run_callbacks();\n",
       "        return null;\n",
       "      }\n",
       "      console.log(\"Bokeh: BokehJS not loaded, scheduling load and callback at\", now());\n",
       "      window._bokeh_is_loading = js_urls.length;\n",
       "      for (var i = 0; i < js_urls.length; i++) {\n",
       "        var url = js_urls[i];\n",
       "        var s = document.createElement('script');\n",
       "        s.src = url;\n",
       "        s.async = false;\n",
       "        s.onreadystatechange = s.onload = function() {\n",
       "          window._bokeh_is_loading--;\n",
       "          if (window._bokeh_is_loading === 0) {\n",
       "            console.log(\"Bokeh: all BokehJS libraries loaded\");\n",
       "            run_callbacks()\n",
       "          }\n",
       "        };\n",
       "        s.onerror = function() {\n",
       "          console.warn(\"failed to load library \" + url);\n",
       "        };\n",
       "        console.log(\"Bokeh: injecting script tag for BokehJS library: \", url);\n",
       "        document.getElementsByTagName(\"head\")[0].appendChild(s);\n",
       "      }\n",
       "    };var element = document.getElementById(\"e9e55496-b01d-432c-ab2d-bbcb3461a812\");\n",
       "    if (element == null) {\n",
       "      console.log(\"Bokeh: ERROR: autoload.js configured with elementid 'e9e55496-b01d-432c-ab2d-bbcb3461a812' but no matching script tag was found. \")\n",
       "      return false;\n",
       "    }\n",
       "  \n",
       "    var js_urls = [];\n",
       "  \n",
       "    var inline_js = [\n",
       "      function(Bokeh) {\n",
       "        (function() {\n",
       "          var fn = function() {\n",
       "            var docs_json = {\"eef56be8-0b92-4cfd-a9d3-b3acfc345bf6\":{\"roots\":{\"references\":[{\"attributes\":{\"callback\":null,\"column_names\":[\"color\",\"x\",\"fill_alpha\",\"line_alpha\",\"line_color\",\"height\",\"width\",\"label\",\"y\"],\"data\":{\"chart_index\":[\"(0.133333, 0.166667]\"],\"color\":[\"LightSlateGray\"],\"fill_alpha\":[0.8],\"height\":[0.0],\"label\":[\"(0.133333, 0.166667]\"],\"line_alpha\":[1.0],\"line_color\":[\"black\"],\"width\":[0.033333333333333326],\"x\":[\"0.15000000000000002\"],\"y\":[0.0]}},\"id\":\"197ccecf-2ae8-4532-bf73-860309960f72\",\"type\":\"ColumnDataSource\"},{\"attributes\":{\"data_source\":{\"id\":\"4b8e7551-65c4-4811-b467-540c7e083312\",\"type\":\"ColumnDataSource\"},\"glyph\":{\"id\":\"7c4cdc0d-4c24-4d2c-b697-705946ff819d\",\"type\":\"Rect\"},\"hover_glyph\":null,\"nonselection_glyph\":null,\"selection_glyph\":null},\"id\":\"0271996e-7496-4fc3-8e84-80242f908a28\",\"type\":\"GlyphRenderer\"},{\"attributes\":{\"fill_alpha\":{\"field\":\"fill_alpha\"},\"fill_color\":{\"field\":\"color\"},\"height\":{\"field\":\"height\",\"units\":\"data\"},\"line_color\":{\"field\":\"line_color\"},\"width\":{\"field\":\"width\",\"units\":\"data\"},\"x\":{\"field\":\"x\"},\"y\":{\"field\":\"y\"}},\"id\":\"1e3cbf10-2fee-4c49-82d1-a94aec6a26fc\",\"type\":\"Rect\"},{\"attributes\":{\"data_source\":{\"id\":\"8483b5e6-283f-4649-9488-73c549fa7cb2\",\"type\":\"ColumnDataSource\"},\"glyph\":{\"id\":\"0c3bfa89-e5a6-40f0-9dad-e3fffda81e50\",\"type\":\"Rect\"},\"hover_glyph\":null,\"nonselection_glyph\":null,\"selection_glyph\":null},\"id\":\"becb034c-5fb7-48b4-850c-b1fc1131d9b3\",\"type\":\"GlyphRenderer\"},{\"attributes\":{\"callback\":null,\"column_names\":[\"color\",\"x\",\"fill_alpha\",\"line_alpha\",\"line_color\",\"height\",\"width\",\"label\",\"y\"],\"data\":{\"chart_index\":[\"(0.933333, 0.966667]\"],\"color\":[\"LightSlateGray\"],\"fill_alpha\":[0.8],\"height\":[0.0],\"label\":[\"(0.933333, 0.966667]\"],\"line_alpha\":[1.0],\"line_color\":[\"black\"],\"width\":[0.033333333333333326],\"x\":[\"0.95\"],\"y\":[0.0]}},\"id\":\"e6aa8e87-5746-4b31-ad8d-4a4df5f6730c\",\"type\":\"ColumnDataSource\"},{\"attributes\":{\"fill_alpha\":{\"field\":\"fill_alpha\"},\"fill_color\":{\"field\":\"color\"},\"height\":{\"field\":\"height\",\"units\":\"data\"},\"line_color\":{\"field\":\"line_color\"},\"width\":{\"field\":\"width\",\"units\":\"data\"},\"x\":{\"field\":\"x\"},\"y\":{\"field\":\"y\"}},\"id\":\"36181e82-baf8-4383-954a-736ef2b9afec\",\"type\":\"Rect\"},{\"attributes\":{\"callback\":null,\"column_names\":[\"color\",\"x\",\"fill_alpha\",\"line_alpha\",\"line_color\",\"height\",\"width\",\"label\",\"y\"],\"data\":{\"chart_index\":[\"[0.000000, 0.033333]\"],\"color\":[\"LightSlateGray\"],\"fill_alpha\":[0.8],\"height\":[1151.0],\"label\":[\"[0.000000, 0.033333]\"],\"line_alpha\":[1.0],\"line_color\":[\"black\"],\"width\":[0.03333333333333333],\"x\":[\"0.0166665\"],\"y\":[575.5]}},\"id\":\"bf640c6d-53e3-4e90-ae41-f9c6b5ffb98b\",\"type\":\"ColumnDataSource\"},{\"attributes\":{\"fill_alpha\":{\"field\":\"fill_alpha\"},\"fill_color\":{\"field\":\"color\"},\"height\":{\"field\":\"height\",\"units\":\"data\"},\"line_color\":{\"field\":\"line_color\"},\"width\":{\"field\":\"width\",\"units\":\"data\"},\"x\":{\"field\":\"x\"},\"y\":{\"field\":\"y\"}},\"id\":\"84a2bfe7-cf63-41de-9c2c-9ade27f1f952\",\"type\":\"Rect\"},{\"attributes\":{\"data_source\":{\"id\":\"0da75f48-1b69-4ff1-9441-8e9b6ac6b794\",\"type\":\"ColumnDataSource\"},\"glyph\":{\"id\":\"04f8e087-d3ad-452e-8ba7-29a3319f5dc0\",\"type\":\"Rect\"},\"hover_glyph\":null,\"nonselection_glyph\":null,\"selection_glyph\":null},\"id\":\"ce48a154-280b-4615-8391-59ff1dcc4710\",\"type\":\"GlyphRenderer\"},{\"attributes\":{\"data_source\":{\"id\":\"4a287e63-6637-4965-ae00-61c6f7f7e31f\",\"type\":\"ColumnDataSource\"},\"glyph\":{\"id\":\"60002c32-a44f-49fc-b0e2-f51e1d56ef53\",\"type\":\"Rect\"},\"hover_glyph\":null,\"nonselection_glyph\":null,\"selection_glyph\":null},\"id\":\"911edd53-6ac6-4973-9cfe-fbc78969d4b3\",\"type\":\"GlyphRenderer\"},{\"attributes\":{\"callback\":null,\"column_names\":[\"color\",\"x\",\"fill_alpha\",\"line_alpha\",\"line_color\",\"height\",\"width\",\"label\",\"y\"],\"data\":{\"chart_index\":[\"(0.900000, 0.933333]\"],\"color\":[\"LightSlateGray\"],\"fill_alpha\":[0.8],\"height\":[129.0],\"label\":[\"(0.900000, 0.933333]\"],\"line_alpha\":[1.0],\"line_color\":[\"black\"],\"width\":[0.033333333333333326],\"x\":[\"0.9166665\"],\"y\":[64.5]}},\"id\":\"19fbb925-7b17-4bfe-94d5-eec43b2c3bcb\",\"type\":\"ColumnDataSource\"},{\"attributes\":{\"data_source\":{\"id\":\"b4c9a135-1432-47dc-b41c-8d396104640c\",\"type\":\"ColumnDataSource\"},\"glyph\":{\"id\":\"fd313f31-cc4b-490a-9b70-10b70ef4d3bc\",\"type\":\"Rect\"},\"hover_glyph\":null,\"nonselection_glyph\":null,\"selection_glyph\":null},\"id\":\"58a75011-7fa2-4dcb-8fa2-0045a1be5d7c\",\"type\":\"GlyphRenderer\"},{\"attributes\":{\"data_source\":{\"id\":\"197ccecf-2ae8-4532-bf73-860309960f72\",\"type\":\"ColumnDataSource\"},\"glyph\":{\"id\":\"e2d56ec6-ce0e-4bab-b3f0-5bfddbecc1eb\",\"type\":\"Rect\"},\"hover_glyph\":null,\"nonselection_glyph\":null,\"selection_glyph\":null},\"id\":\"4b533fe8-d329-4ee7-9aff-444757154bd0\",\"type\":\"GlyphRenderer\"},{\"attributes\":{\"callback\":null,\"column_names\":[\"color\",\"x\",\"fill_alpha\",\"line_alpha\",\"line_color\",\"height\",\"width\",\"label\",\"y\"],\"data\":{\"chart_index\":[\"(0.433333, 0.466667]\"],\"color\":[\"LightSlateGray\"],\"fill_alpha\":[0.8],\"height\":[0.0],\"label\":[\"(0.433333, 0.466667]\"],\"line_alpha\":[1.0],\"line_color\":[\"black\"],\"width\":[0.033333333333333326],\"x\":[\"0.45\"],\"y\":[0.0]}},\"id\":\"d9811b56-f244-4363-a2ef-308aa70043eb\",\"type\":\"ColumnDataSource\"},{\"attributes\":{\"fill_alpha\":{\"field\":\"fill_alpha\"},\"fill_color\":{\"field\":\"color\"},\"height\":{\"field\":\"height\",\"units\":\"data\"},\"line_color\":{\"field\":\"line_color\"},\"width\":{\"field\":\"width\",\"units\":\"data\"},\"x\":{\"field\":\"x\"},\"y\":{\"field\":\"y\"}},\"id\":\"683abdca-885d-4e3b-946c-1cd6a9d817c5\",\"type\":\"Rect\"},{\"attributes\":{\"fill_alpha\":{\"field\":\"fill_alpha\"},\"fill_color\":{\"field\":\"color\"},\"height\":{\"field\":\"height\",\"units\":\"data\"},\"line_color\":{\"field\":\"line_color\"},\"width\":{\"field\":\"width\",\"units\":\"data\"},\"x\":{\"field\":\"x\"},\"y\":{\"field\":\"y\"}},\"id\":\"7c4cdc0d-4c24-4d2c-b697-705946ff819d\",\"type\":\"Rect\"},{\"attributes\":{\"data_source\":{\"id\":\"07b23596-1a89-45c3-97c8-c54205da1810\",\"type\":\"ColumnDataSource\"},\"glyph\":{\"id\":\"d9c8f4f4-3fe9-4695-bb03-7e110a9bd6b0\",\"type\":\"Rect\"},\"hover_glyph\":null,\"nonselection_glyph\":null,\"selection_glyph\":null},\"id\":\"61d1d780-b999-40d2-8eb0-7993494e3a19\",\"type\":\"GlyphRenderer\"},{\"attributes\":{\"data_source\":{\"id\":\"c78a497d-90ed-4ae1-8511-a39fadb42a63\",\"type\":\"ColumnDataSource\"},\"glyph\":{\"id\":\"d16d6898-cd6f-40fb-8d81-73f1eb27083f\",\"type\":\"Rect\"},\"hover_glyph\":null,\"nonselection_glyph\":null,\"selection_glyph\":null},\"id\":\"cb191253-ed63-4ab0-be24-8f3f42d312c3\",\"type\":\"GlyphRenderer\"},{\"attributes\":{\"callback\":null,\"column_names\":[\"color\",\"x\",\"fill_alpha\",\"line_alpha\",\"line_color\",\"height\",\"width\",\"label\",\"y\"],\"data\":{\"chart_index\":[\"(0.166667, 0.200000]\"],\"color\":[\"LightSlateGray\"],\"fill_alpha\":[0.8],\"height\":[0.0],\"label\":[\"(0.166667, 0.200000]\"],\"line_alpha\":[1.0],\"line_color\":[\"black\"],\"width\":[0.033333333333333354],\"x\":[\"0.1833335\"],\"y\":[0.0]}},\"id\":\"f83edf1e-6750-4913-af59-3d25fa7157ca\",\"type\":\"ColumnDataSource\"},{\"attributes\":{\"plot\":null,\"text\":\"Homozygous Variant Labels\"},\"id\":\"971ab47d-e081-448e-8d4f-78c65066a423\",\"type\":\"Title\"},{\"attributes\":{\"callback\":null,\"column_names\":[\"color\",\"x\",\"fill_alpha\",\"line_alpha\",\"line_color\",\"height\",\"width\",\"label\",\"y\"],\"data\":{\"chart_index\":[\"(0.833333, 0.866667]\"],\"color\":[\"LightSlateGray\"],\"fill_alpha\":[0.8],\"height\":[0.0],\"label\":[\"(0.833333, 0.866667]\"],\"line_alpha\":[1.0],\"line_color\":[\"black\"],\"width\":[0.033333333333333326],\"x\":[\"0.85\"],\"y\":[0.0]}},\"id\":\"8c4c0556-1bbc-43ce-8039-2c8182c4cb71\",\"type\":\"ColumnDataSource\"},{\"attributes\":{\"fill_alpha\":{\"field\":\"fill_alpha\"},\"fill_color\":{\"field\":\"color\"},\"height\":{\"field\":\"height\",\"units\":\"data\"},\"line_color\":{\"field\":\"line_color\"},\"width\":{\"field\":\"width\",\"units\":\"data\"},\"x\":{\"field\":\"x\"},\"y\":{\"field\":\"y\"}},\"id\":\"0cf96220-d2cf-4f2b-a1c9-dca110c7b94c\",\"type\":\"Rect\"},{\"attributes\":{\"fill_alpha\":{\"field\":\"fill_alpha\"},\"fill_color\":{\"field\":\"color\"},\"height\":{\"field\":\"height\",\"units\":\"data\"},\"line_color\":{\"field\":\"line_color\"},\"width\":{\"field\":\"width\",\"units\":\"data\"},\"x\":{\"field\":\"x\"},\"y\":{\"field\":\"y\"}},\"id\":\"283d717c-7346-4842-bb6b-2f56b6251ceb\",\"type\":\"Rect\"},{\"attributes\":{},\"id\":\"e709a8c5-8d95-4175-b664-965dc3dfae95\",\"type\":\"BasicTicker\"},{\"attributes\":{\"fill_alpha\":{\"field\":\"fill_alpha\"},\"fill_color\":{\"field\":\"color\"},\"height\":{\"field\":\"height\",\"units\":\"data\"},\"line_color\":{\"field\":\"line_color\"},\"width\":{\"field\":\"width\",\"units\":\"data\"},\"x\":{\"field\":\"x\"},\"y\":{\"field\":\"y\"}},\"id\":\"7b61382d-db98-4fcd-94d0-7a636cc56d05\",\"type\":\"Rect\"},{\"attributes\":{\"axis_label\":\"Predict Probability\",\"formatter\":{\"id\":\"18b3f88a-3fd6-4d36-a854-77b15b9133de\",\"type\":\"BasicTickFormatter\"},\"plot\":{\"id\":\"ee37cdc8-edfa-4725-a9e8-d467b190a12c\",\"subtype\":\"Chart\",\"type\":\"Plot\"},\"ticker\":{\"id\":\"e8cc799d-1927-4dbb-8139-efdb6fdbe561\",\"type\":\"BasicTicker\"}},\"id\":\"2596594e-e4e8-4af1-aed1-a6c3c6597468\",\"type\":\"LinearAxis\"},{\"attributes\":{\"data_source\":{\"id\":\"a05d5c19-314e-4d8e-abe1-f76717345608\",\"type\":\"ColumnDataSource\"},\"glyph\":{\"id\":\"283d717c-7346-4842-bb6b-2f56b6251ceb\",\"type\":\"Rect\"},\"hover_glyph\":null,\"nonselection_glyph\":null,\"selection_glyph\":null},\"id\":\"dee070e8-bf87-4939-b59f-b0596817308f\",\"type\":\"GlyphRenderer\"},{\"attributes\":{\"bottom_units\":\"screen\",\"fill_alpha\":{\"value\":0.5},\"fill_color\":{\"value\":\"lightgrey\"},\"left_units\":\"screen\",\"level\":\"overlay\",\"line_alpha\":{\"value\":1.0},\"line_color\":{\"value\":\"black\"},\"line_dash\":[4,4],\"line_width\":{\"value\":2},\"plot\":null,\"render_mode\":\"css\",\"right_units\":\"screen\",\"top_units\":\"screen\"},\"id\":\"1bd40b6a-c802-4dd4-996d-d5e414eda7d6\",\"type\":\"BoxAnnotation\"},{\"attributes\":{\"callback\":null,\"column_names\":[\"color\",\"x\",\"fill_alpha\",\"line_alpha\",\"line_color\",\"height\",\"width\",\"label\",\"y\"],\"data\":{\"chart_index\":[\"(0.266667, 0.300000]\"],\"color\":[\"LightSlateGray\"],\"fill_alpha\":[0.8],\"height\":[0.0],\"label\":[\"(0.266667, 0.300000]\"],\"line_alpha\":[1.0],\"line_color\":[\"black\"],\"width\":[0.033333333333333326],\"x\":[\"0.2833335\"],\"y\":[0.0]}},\"id\":\"03e09e8f-158a-4a00-ba63-8b481d80b3a0\",\"type\":\"ColumnDataSource\"},{\"attributes\":{\"data_source\":{\"id\":\"e6aa8e87-5746-4b31-ad8d-4a4df5f6730c\",\"type\":\"ColumnDataSource\"},\"glyph\":{\"id\":\"36181e82-baf8-4383-954a-736ef2b9afec\",\"type\":\"Rect\"},\"hover_glyph\":null,\"nonselection_glyph\":null,\"selection_glyph\":null},\"id\":\"d1af30d5-05c6-40b0-a768-c0291cde18ac\",\"type\":\"GlyphRenderer\"},{\"attributes\":{\"callback\":null,\"column_names\":[\"color\",\"x\",\"fill_alpha\",\"line_alpha\",\"line_color\",\"height\",\"width\",\"label\",\"y\"],\"data\":{\"chart_index\":[\"(0.633333, 0.666667]\"],\"color\":[\"LightSlateGray\"],\"fill_alpha\":[0.8],\"height\":[0.0],\"label\":[\"(0.633333, 0.666667]\"],\"line_alpha\":[1.0],\"line_color\":[\"black\"],\"width\":[0.033333333333333326],\"x\":[\"0.65\"],\"y\":[0.0]}},\"id\":\"a05d5c19-314e-4d8e-abe1-f76717345608\",\"type\":\"ColumnDataSource\"},{\"attributes\":{\"data_source\":{\"id\":\"6b2d157f-aa91-483e-819b-dfed1d5ef561\",\"type\":\"ColumnDataSource\"},\"glyph\":{\"id\":\"02da19b2-5966-402b-9fe8-c64985e1727e\",\"type\":\"Rect\"},\"hover_glyph\":null,\"nonselection_glyph\":null,\"selection_glyph\":null},\"id\":\"f59f6349-ff29-4c3d-95f5-bb02b100476a\",\"type\":\"GlyphRenderer\"},{\"attributes\":{\"callback\":null,\"column_names\":[\"color\",\"x\",\"fill_alpha\",\"line_alpha\",\"line_color\",\"height\",\"width\",\"label\",\"y\"],\"data\":{\"chart_index\":[\"(0.566667, 0.600000]\"],\"color\":[\"LightSlateGray\"],\"fill_alpha\":[0.8],\"height\":[0.0],\"label\":[\"(0.566667, 0.600000]\"],\"line_alpha\":[1.0],\"line_color\":[\"black\"],\"width\":[0.033333333333333326],\"x\":[\"0.5833335\"],\"y\":[0.0]}},\"id\":\"59e9ef37-dce7-461e-b480-f5d321f573f0\",\"type\":\"ColumnDataSource\"},{\"attributes\":{\"fill_alpha\":{\"field\":\"fill_alpha\"},\"fill_color\":{\"field\":\"color\"},\"height\":{\"field\":\"height\",\"units\":\"data\"},\"line_color\":{\"field\":\"line_color\"},\"width\":{\"field\":\"width\",\"units\":\"data\"},\"x\":{\"field\":\"x\"},\"y\":{\"field\":\"y\"}},\"id\":\"89e6515b-a76e-4d72-b5b5-694e248e0c1f\",\"type\":\"Rect\"},{\"attributes\":{\"callback\":null,\"column_names\":[\"color\",\"x\",\"fill_alpha\",\"line_alpha\",\"line_color\",\"height\",\"width\",\"label\",\"y\"],\"data\":{\"chart_index\":[\"(0.066667, 0.100000]\"],\"color\":[\"LightSlateGray\"],\"fill_alpha\":[0.8],\"height\":[0.0],\"label\":[\"(0.066667, 0.100000]\"],\"line_alpha\":[1.0],\"line_color\":[\"black\"],\"width\":[0.03333333333333334],\"x\":[\"0.0833335\"],\"y\":[0.0]}},\"id\":\"3479d64a-a407-4ab6-ac47-2ad72e6e9649\",\"type\":\"ColumnDataSource\"},{\"attributes\":{\"data_source\":{\"id\":\"19fbb925-7b17-4bfe-94d5-eec43b2c3bcb\",\"type\":\"ColumnDataSource\"},\"glyph\":{\"id\":\"7b61382d-db98-4fcd-94d0-7a636cc56d05\",\"type\":\"Rect\"},\"hover_glyph\":null,\"nonselection_glyph\":null,\"selection_glyph\":null},\"id\":\"1371d1d6-c0e2-4d87-8fea-b80bd6a4db14\",\"type\":\"GlyphRenderer\"},{\"attributes\":{\"callback\":null,\"column_names\":[\"color\",\"x\",\"fill_alpha\",\"line_alpha\",\"line_color\",\"height\",\"width\",\"label\",\"y\"],\"data\":{\"chart_index\":[\"(0.200000, 0.233333]\"],\"color\":[\"LightSlateGray\"],\"fill_alpha\":[0.8],\"height\":[273.0],\"label\":[\"(0.200000, 0.233333]\"],\"line_alpha\":[1.0],\"line_color\":[\"black\"],\"width\":[0.033333333333333326],\"x\":[\"0.2166665\"],\"y\":[136.5]}},\"id\":\"d5da5589-b1c0-47a4-8f55-37df3c3d2955\",\"type\":\"ColumnDataSource\"},{\"attributes\":{\"data_source\":{\"id\":\"39041439-3f0a-462b-9135-a630d2eb0cde\",\"type\":\"ColumnDataSource\"},\"glyph\":{\"id\":\"28d2095f-6612-494e-8872-1f64df553c9c\",\"type\":\"Rect\"},\"hover_glyph\":null,\"nonselection_glyph\":null,\"selection_glyph\":null},\"id\":\"13d1a9bd-0f30-4aee-ac7a-d3d001f5a3d4\",\"type\":\"GlyphRenderer\"},{\"attributes\":{\"plot\":{\"id\":\"ee37cdc8-edfa-4725-a9e8-d467b190a12c\",\"subtype\":\"Chart\",\"type\":\"Plot\"}},\"id\":\"15da8087-5869-4694-8710-d9350aee6913\",\"type\":\"ResetTool\"},{\"attributes\":{\"fill_alpha\":{\"field\":\"fill_alpha\"},\"fill_color\":{\"field\":\"color\"},\"height\":{\"field\":\"height\",\"units\":\"data\"},\"line_color\":{\"field\":\"line_color\"},\"width\":{\"field\":\"width\",\"units\":\"data\"},\"x\":{\"field\":\"x\"},\"y\":{\"field\":\"y\"}},\"id\":\"8de79445-f231-4c75-bc2a-4ebbd9bd7ba4\",\"type\":\"Rect\"},{\"attributes\":{\"callback\":null,\"column_names\":[\"color\",\"x\",\"fill_alpha\",\"line_alpha\",\"line_color\",\"height\",\"width\",\"label\",\"y\"],\"data\":{\"chart_index\":[\"(0.366667, 0.400000]\"],\"color\":[\"LightSlateGray\"],\"fill_alpha\":[0.8],\"height\":[0.0],\"label\":[\"(0.366667, 0.400000]\"],\"line_alpha\":[1.0],\"line_color\":[\"black\"],\"width\":[0.03333333333333338],\"x\":[\"0.3833335\"],\"y\":[0.0]}},\"id\":\"db8c65ab-b2da-4b6c-bfa7-dfc834a7390f\",\"type\":\"ColumnDataSource\"},{\"attributes\":{\"overlay\":{\"id\":\"1bd40b6a-c802-4dd4-996d-d5e414eda7d6\",\"type\":\"BoxAnnotation\"},\"plot\":{\"id\":\"ee37cdc8-edfa-4725-a9e8-d467b190a12c\",\"subtype\":\"Chart\",\"type\":\"Plot\"}},\"id\":\"42e0b5c7-e38e-4f03-9fb2-ad2b17a7a9c2\",\"type\":\"BoxZoomTool\"},{\"attributes\":{\"location\":\"top_left\",\"plot\":{\"id\":\"ee37cdc8-edfa-4725-a9e8-d467b190a12c\",\"subtype\":\"Chart\",\"type\":\"Plot\"}},\"id\":\"fc1a8890-4bd8-49cb-96d6-19ad38b51e10\",\"type\":\"Legend\"},{\"attributes\":{\"data_source\":{\"id\":\"7c93bd22-9f30-43bb-bf82-012995a8cb81\",\"type\":\"ColumnDataSource\"},\"glyph\":{\"id\":\"158652a6-bbaa-49ea-b767-5b921e997afb\",\"type\":\"Rect\"},\"hover_glyph\":null,\"nonselection_glyph\":null,\"selection_glyph\":null},\"id\":\"2d3acda7-c683-4b7a-a208-a19d9d399ad1\",\"type\":\"GlyphRenderer\"},{\"attributes\":{\"data_source\":{\"id\":\"d3009ad0-56b1-4bce-b32b-bc33a778c73c\",\"type\":\"ColumnDataSource\"},\"glyph\":{\"id\":\"1e3cbf10-2fee-4c49-82d1-a94aec6a26fc\",\"type\":\"Rect\"},\"hover_glyph\":null,\"nonselection_glyph\":null,\"selection_glyph\":null},\"id\":\"b440de19-cad2-4463-a3a2-a809045e85c8\",\"type\":\"GlyphRenderer\"},{\"attributes\":{\"data_source\":{\"id\":\"03e09e8f-158a-4a00-ba63-8b481d80b3a0\",\"type\":\"ColumnDataSource\"},\"glyph\":{\"id\":\"e6291b65-4af0-48c3-b882-2032f884e10a\",\"type\":\"Rect\"},\"hover_glyph\":null,\"nonselection_glyph\":null,\"selection_glyph\":null},\"id\":\"9f24adc3-462e-4b65-aebc-14e62783a76b\",\"type\":\"GlyphRenderer\"},{\"attributes\":{\"callback\":null,\"column_names\":[\"color\",\"x\",\"fill_alpha\",\"line_alpha\",\"line_color\",\"height\",\"width\",\"label\",\"y\"],\"data\":{\"chart_index\":[\"(0.800000, 0.833333]\"],\"color\":[\"LightSlateGray\"],\"fill_alpha\":[0.8],\"height\":[86.0],\"label\":[\"(0.800000, 0.833333]\"],\"line_alpha\":[1.0],\"line_color\":[\"black\"],\"width\":[0.033333333333333326],\"x\":[\"0.8166665\"],\"y\":[43.0]}},\"id\":\"4b8e7551-65c4-4811-b467-540c7e083312\",\"type\":\"ColumnDataSource\"},{\"attributes\":{\"fill_alpha\":{\"field\":\"fill_alpha\"},\"fill_color\":{\"field\":\"color\"},\"height\":{\"field\":\"height\",\"units\":\"data\"},\"line_color\":{\"field\":\"line_color\"},\"width\":{\"field\":\"width\",\"units\":\"data\"},\"x\":{\"field\":\"x\"},\"y\":{\"field\":\"y\"}},\"id\":\"d16d6898-cd6f-40fb-8d81-73f1eb27083f\",\"type\":\"Rect\"},{\"attributes\":{\"callback\":null,\"column_names\":[\"color\",\"x\",\"fill_alpha\",\"line_alpha\",\"line_color\",\"height\",\"width\",\"label\",\"y\"],\"data\":{\"chart_index\":[\"(0.300000, 0.333333]\"],\"color\":[\"LightSlateGray\"],\"fill_alpha\":[0.8],\"height\":[117.0],\"label\":[\"(0.300000, 0.333333]\"],\"line_alpha\":[1.0],\"line_color\":[\"black\"],\"width\":[0.033333333333333326],\"x\":[\"0.31666649999999996\"],\"y\":[58.5]}},\"id\":\"4a287e63-6637-4965-ae00-61c6f7f7e31f\",\"type\":\"ColumnDataSource\"},{\"attributes\":{\"data_source\":{\"id\":\"59e9ef37-dce7-461e-b480-f5d321f573f0\",\"type\":\"ColumnDataSource\"},\"glyph\":{\"id\":\"6b889fdf-e49b-4632-9f4b-254891f2fdce\",\"type\":\"Rect\"},\"hover_glyph\":null,\"nonselection_glyph\":null,\"selection_glyph\":null},\"id\":\"fd4e4e5d-ea10-435a-975a-becb7acffa32\",\"type\":\"GlyphRenderer\"},{\"attributes\":{\"data_source\":{\"id\":\"bf640c6d-53e3-4e90-ae41-f9c6b5ffb98b\",\"type\":\"ColumnDataSource\"},\"glyph\":{\"id\":\"97eecdb8-d1ae-4f0a-9fef-1e4f4f3a7651\",\"type\":\"Rect\"},\"hover_glyph\":null,\"nonselection_glyph\":null,\"selection_glyph\":null},\"id\":\"ffb90b3b-910b-486f-901b-c6a0b4819373\",\"type\":\"GlyphRenderer\"},{\"attributes\":{\"data_source\":{\"id\":\"8c4c0556-1bbc-43ce-8039-2c8182c4cb71\",\"type\":\"ColumnDataSource\"},\"glyph\":{\"id\":\"84a2bfe7-cf63-41de-9c2c-9ade27f1f952\",\"type\":\"Rect\"},\"hover_glyph\":null,\"nonselection_glyph\":null,\"selection_glyph\":null},\"id\":\"b5d7d844-a4ee-4eda-b93c-bda047a2d817\",\"type\":\"GlyphRenderer\"},{\"attributes\":{\"data_source\":{\"id\":\"3479d64a-a407-4ab6-ac47-2ad72e6e9649\",\"type\":\"ColumnDataSource\"},\"glyph\":{\"id\":\"89e6515b-a76e-4d72-b5b5-694e248e0c1f\",\"type\":\"Rect\"},\"hover_glyph\":null,\"nonselection_glyph\":null,\"selection_glyph\":null},\"id\":\"1846e90b-292b-4b59-aea7-d681ae6017cd\",\"type\":\"GlyphRenderer\"},{\"attributes\":{\"data_source\":{\"id\":\"de53509a-e030-45d6-871a-01327e89bf96\",\"type\":\"ColumnDataSource\"},\"glyph\":{\"id\":\"e9de8f74-b9bd-4465-99e9-22ea04e83efe\",\"type\":\"Rect\"},\"hover_glyph\":null,\"nonselection_glyph\":null,\"selection_glyph\":null},\"id\":\"00ad0b45-cafa-431b-a58b-a7a9b4c8beec\",\"type\":\"GlyphRenderer\"},{\"attributes\":{\"data_source\":{\"id\":\"f020e163-0c67-4916-8b6a-139593667a4d\",\"type\":\"ColumnDataSource\"},\"glyph\":{\"id\":\"683abdca-885d-4e3b-946c-1cd6a9d817c5\",\"type\":\"Rect\"},\"hover_glyph\":null,\"nonselection_glyph\":null,\"selection_glyph\":null},\"id\":\"82b51044-c737-49b6-8e30-e8278a61cc8b\",\"type\":\"GlyphRenderer\"},{\"attributes\":{\"callback\":null,\"column_names\":[\"color\",\"x\",\"fill_alpha\",\"line_alpha\",\"line_color\",\"height\",\"width\",\"label\",\"y\"],\"data\":{\"chart_index\":[\"(0.400000, 0.433333]\"],\"color\":[\"LightSlateGray\"],\"fill_alpha\":[0.8],\"height\":[76.0],\"label\":[\"(0.400000, 0.433333]\"],\"line_alpha\":[1.0],\"line_color\":[\"black\"],\"width\":[0.033333333333333326],\"x\":[\"0.41666650000000005\"],\"y\":[38.0]}},\"id\":\"39041439-3f0a-462b-9135-a630d2eb0cde\",\"type\":\"ColumnDataSource\"},{\"attributes\":{\"fill_alpha\":{\"field\":\"fill_alpha\"},\"fill_color\":{\"field\":\"color\"},\"height\":{\"field\":\"height\",\"units\":\"data\"},\"line_color\":{\"field\":\"line_color\"},\"width\":{\"field\":\"width\",\"units\":\"data\"},\"x\":{\"field\":\"x\"},\"y\":{\"field\":\"y\"}},\"id\":\"60002c32-a44f-49fc-b0e2-f51e1d56ef53\",\"type\":\"Rect\"},{\"attributes\":{\"fill_alpha\":{\"field\":\"fill_alpha\"},\"fill_color\":{\"field\":\"color\"},\"height\":{\"field\":\"height\",\"units\":\"data\"},\"line_color\":{\"field\":\"line_color\"},\"width\":{\"field\":\"width\",\"units\":\"data\"},\"x\":{\"field\":\"x\"},\"y\":{\"field\":\"y\"}},\"id\":\"04f8e087-d3ad-452e-8ba7-29a3319f5dc0\",\"type\":\"Rect\"},{\"attributes\":{\"callback\":null,\"column_names\":[\"color\",\"x\",\"fill_alpha\",\"line_alpha\",\"line_color\",\"height\",\"width\",\"label\",\"y\"],\"data\":{\"chart_index\":[\"(0.233333, 0.266667]\"],\"color\":[\"LightSlateGray\"],\"fill_alpha\":[0.8],\"height\":[0.0],\"label\":[\"(0.233333, 0.266667]\"],\"line_alpha\":[1.0],\"line_color\":[\"black\"],\"width\":[0.033333333333333326],\"x\":[\"0.25\"],\"y\":[0.0]}},\"id\":\"44dfe710-80ac-4b5e-a7eb-54af971c6f4e\",\"type\":\"ColumnDataSource\"},{\"attributes\":{\"fill_alpha\":{\"field\":\"fill_alpha\"},\"fill_color\":{\"field\":\"color\"},\"height\":{\"field\":\"height\",\"units\":\"data\"},\"line_color\":{\"field\":\"line_color\"},\"width\":{\"field\":\"width\",\"units\":\"data\"},\"x\":{\"field\":\"x\"},\"y\":{\"field\":\"y\"}},\"id\":\"d9c8f4f4-3fe9-4695-bb03-7e110a9bd6b0\",\"type\":\"Rect\"},{\"attributes\":{\"callback\":null,\"column_names\":[\"color\",\"x\",\"fill_alpha\",\"line_alpha\",\"line_color\",\"height\",\"width\",\"label\",\"y\"],\"data\":{\"chart_index\":[\"(0.700000, 0.733333]\"],\"color\":[\"LightSlateGray\"],\"fill_alpha\":[0.8],\"height\":[58.0],\"label\":[\"(0.700000, 0.733333]\"],\"line_alpha\":[1.0],\"line_color\":[\"black\"],\"width\":[0.033333333333333326],\"x\":[\"0.7166665\"],\"y\":[29.0]}},\"id\":\"0da75f48-1b69-4ff1-9441-8e9b6ac6b794\",\"type\":\"ColumnDataSource\"},{\"attributes\":{\"fill_alpha\":{\"field\":\"fill_alpha\"},\"fill_color\":{\"field\":\"color\"},\"height\":{\"field\":\"height\",\"units\":\"data\"},\"line_color\":{\"field\":\"line_color\"},\"width\":{\"field\":\"width\",\"units\":\"data\"},\"x\":{\"field\":\"x\"},\"y\":{\"field\":\"y\"}},\"id\":\"cf3ef365-2ae2-4bdd-8693-18090b6c749e\",\"type\":\"Rect\"},{\"attributes\":{\"data_source\":{\"id\":\"9ada4b05-99dc-4336-bd52-b361d1b42d88\",\"type\":\"ColumnDataSource\"},\"glyph\":{\"id\":\"c0faa923-d0a4-4d4a-bccf-5de71b6d5a4f\",\"type\":\"Rect\"},\"hover_glyph\":null,\"nonselection_glyph\":null,\"selection_glyph\":null},\"id\":\"8b8b4ffa-2489-42d1-bc2e-233a2331cea9\",\"type\":\"GlyphRenderer\"},{\"attributes\":{\"callback\":null,\"column_names\":[\"color\",\"x\",\"fill_alpha\",\"line_alpha\",\"line_color\",\"height\",\"width\",\"label\",\"y\"],\"data\":{\"chart_index\":[\"(0.466667, 0.500000]\"],\"color\":[\"LightSlateGray\"],\"fill_alpha\":[0.8],\"height\":[0.0],\"label\":[\"(0.466667, 0.500000]\"],\"line_alpha\":[1.0],\"line_color\":[\"black\"],\"width\":[0.033333333333333326],\"x\":[\"0.48333349999999997\"],\"y\":[0.0]}},\"id\":\"f020e163-0c67-4916-8b6a-139593667a4d\",\"type\":\"ColumnDataSource\"},{\"attributes\":{\"data_source\":{\"id\":\"d5da5589-b1c0-47a4-8f55-37df3c3d2955\",\"type\":\"ColumnDataSource\"},\"glyph\":{\"id\":\"8de79445-f231-4c75-bc2a-4ebbd9bd7ba4\",\"type\":\"Rect\"},\"hover_glyph\":null,\"nonselection_glyph\":null,\"selection_glyph\":null},\"id\":\"3410384e-d1bf-4c06-8386-68399f062919\",\"type\":\"GlyphRenderer\"},{\"attributes\":{\"callback\":null,\"column_names\":[\"color\",\"x\",\"fill_alpha\",\"line_alpha\",\"line_color\",\"height\",\"width\",\"label\",\"y\"],\"data\":{\"chart_index\":[\"(0.666667, 0.700000]\"],\"color\":[\"LightSlateGray\"],\"fill_alpha\":[0.8],\"height\":[0.0],\"label\":[\"(0.666667, 0.700000]\"],\"line_alpha\":[1.0],\"line_color\":[\"black\"],\"width\":[0.033333333333333326],\"x\":[\"0.6833335\"],\"y\":[0.0]}},\"id\":\"6b2d157f-aa91-483e-819b-dfed1d5ef561\",\"type\":\"ColumnDataSource\"},{\"attributes\":{\"callback\":null,\"column_names\":[\"color\",\"x\",\"fill_alpha\",\"line_alpha\",\"line_color\",\"height\",\"width\",\"label\",\"y\"],\"data\":{\"chart_index\":[\"(0.766667, 0.800000]\"],\"color\":[\"LightSlateGray\"],\"fill_alpha\":[0.8],\"height\":[0.0],\"label\":[\"(0.766667, 0.800000]\"],\"line_alpha\":[1.0],\"line_color\":[\"black\"],\"width\":[0.03333333333333344],\"x\":[\"0.7833335\"],\"y\":[0.0]}},\"id\":\"de53509a-e030-45d6-871a-01327e89bf96\",\"type\":\"ColumnDataSource\"},{\"attributes\":{\"data_source\":{\"id\":\"d9811b56-f244-4363-a2ef-308aa70043eb\",\"type\":\"ColumnDataSource\"},\"glyph\":{\"id\":\"96f61660-81c7-4fdd-8016-025b88164e1d\",\"type\":\"Rect\"},\"hover_glyph\":null,\"nonselection_glyph\":null,\"selection_glyph\":null},\"id\":\"1f91de0b-d6a6-4ec7-8d2c-5b346d9a319c\",\"type\":\"GlyphRenderer\"},{\"attributes\":{\"callback\":null,\"column_names\":[\"color\",\"x\",\"fill_alpha\",\"line_alpha\",\"line_color\",\"height\",\"width\",\"label\",\"y\"],\"data\":{\"chart_index\":[\"(0.533333, 0.566667]\"],\"color\":[\"LightSlateGray\"],\"fill_alpha\":[0.8],\"height\":[0.0],\"label\":[\"(0.533333, 0.566667]\"],\"line_alpha\":[1.0],\"line_color\":[\"black\"],\"width\":[0.033333333333333326],\"x\":[\"0.55\"],\"y\":[0.0]}},\"id\":\"b4c9a135-1432-47dc-b41c-8d396104640c\",\"type\":\"ColumnDataSource\"},{\"attributes\":{},\"id\":\"f80d8d38-6422-4c91-8334-6667d44b30b8\",\"type\":\"ToolEvents\"},{\"attributes\":{\"data_source\":{\"id\":\"44dfe710-80ac-4b5e-a7eb-54af971c6f4e\",\"type\":\"ColumnDataSource\"},\"glyph\":{\"id\":\"0cf96220-d2cf-4f2b-a1c9-dca110c7b94c\",\"type\":\"Rect\"},\"hover_glyph\":null,\"nonselection_glyph\":null,\"selection_glyph\":null},\"id\":\"68a6dbba-c1f2-4569-af40-74d7648973ef\",\"type\":\"GlyphRenderer\"},{\"attributes\":{\"fill_alpha\":{\"field\":\"fill_alpha\"},\"fill_color\":{\"field\":\"color\"},\"height\":{\"field\":\"height\",\"units\":\"data\"},\"line_color\":{\"field\":\"line_color\"},\"width\":{\"field\":\"width\",\"units\":\"data\"},\"x\":{\"field\":\"x\"},\"y\":{\"field\":\"y\"}},\"id\":\"28d2095f-6612-494e-8872-1f64df553c9c\",\"type\":\"Rect\"},{\"attributes\":{\"callback\":null,\"column_names\":[\"color\",\"x\",\"fill_alpha\",\"line_alpha\",\"line_color\",\"height\",\"width\",\"label\",\"y\"],\"data\":{\"chart_index\":[\"(0.866667, 0.900000]\"],\"color\":[\"LightSlateGray\"],\"fill_alpha\":[0.8],\"height\":[0.0],\"label\":[\"(0.866667, 0.900000]\"],\"line_alpha\":[1.0],\"line_color\":[\"black\"],\"width\":[0.033333333333333326],\"x\":[\"0.8833335\"],\"y\":[0.0]}},\"id\":\"7c93bd22-9f30-43bb-bf82-012995a8cb81\",\"type\":\"ColumnDataSource\"},{\"attributes\":{\"plot\":{\"id\":\"ee37cdc8-edfa-4725-a9e8-d467b190a12c\",\"subtype\":\"Chart\",\"type\":\"Plot\"}},\"id\":\"1b06fc13-04fb-43ab-a7c0-dc5958276f16\",\"type\":\"WheelZoomTool\"},{\"attributes\":{\"fill_alpha\":{\"field\":\"fill_alpha\"},\"fill_color\":{\"field\":\"color\"},\"height\":{\"field\":\"height\",\"units\":\"data\"},\"line_color\":{\"field\":\"line_color\"},\"width\":{\"field\":\"width\",\"units\":\"data\"},\"x\":{\"field\":\"x\"},\"y\":{\"field\":\"y\"}},\"id\":\"96f61660-81c7-4fdd-8016-025b88164e1d\",\"type\":\"Rect\"},{\"attributes\":{\"fill_alpha\":{\"field\":\"fill_alpha\"},\"fill_color\":{\"field\":\"color\"},\"height\":{\"field\":\"height\",\"units\":\"data\"},\"line_color\":{\"field\":\"line_color\"},\"width\":{\"field\":\"width\",\"units\":\"data\"},\"x\":{\"field\":\"x\"},\"y\":{\"field\":\"y\"}},\"id\":\"ed2db46a-4bf7-4c19-8acc-f98ac0fd9134\",\"type\":\"Rect\"},{\"attributes\":{\"fill_alpha\":{\"field\":\"fill_alpha\"},\"fill_color\":{\"field\":\"color\"},\"height\":{\"field\":\"height\",\"units\":\"data\"},\"line_color\":{\"field\":\"line_color\"},\"width\":{\"field\":\"width\",\"units\":\"data\"},\"x\":{\"field\":\"x\"},\"y\":{\"field\":\"y\"}},\"id\":\"158652a6-bbaa-49ea-b767-5b921e997afb\",\"type\":\"Rect\"},{\"attributes\":{\"callback\":null,\"column_names\":[\"color\",\"x\",\"fill_alpha\",\"line_alpha\",\"line_color\",\"height\",\"width\",\"label\",\"y\"],\"data\":{\"chart_index\":[\"(0.500000, 0.533333]\"],\"color\":[\"LightSlateGray\"],\"fill_alpha\":[0.8],\"height\":[68.0],\"label\":[\"(0.500000, 0.533333]\"],\"line_alpha\":[1.0],\"line_color\":[\"black\"],\"width\":[0.033333333333333326],\"x\":[\"0.5166664999999999\"],\"y\":[34.0]}},\"id\":\"fe3a3c96-274c-495d-af47-7aa6586e6630\",\"type\":\"ColumnDataSource\"},{\"attributes\":{\"fill_alpha\":{\"field\":\"fill_alpha\"},\"fill_color\":{\"field\":\"color\"},\"height\":{\"field\":\"height\",\"units\":\"data\"},\"line_color\":{\"field\":\"line_color\"},\"width\":{\"field\":\"width\",\"units\":\"data\"},\"x\":{\"field\":\"x\"},\"y\":{\"field\":\"y\"}},\"id\":\"5608a651-3b08-4939-a606-957106edbb2f\",\"type\":\"Rect\"},{\"attributes\":{\"plot\":{\"id\":\"ee37cdc8-edfa-4725-a9e8-d467b190a12c\",\"subtype\":\"Chart\",\"type\":\"Plot\"}},\"id\":\"45abe953-f189-4c09-92ef-a9bf155609e2\",\"type\":\"HelpTool\"},{\"attributes\":{\"callback\":null,\"column_names\":[\"color\",\"x\",\"fill_alpha\",\"line_alpha\",\"line_color\",\"height\",\"width\",\"label\",\"y\"],\"data\":{\"chart_index\":[\"(0.100000, 0.133333]\"],\"color\":[\"LightSlateGray\"],\"fill_alpha\":[0.8],\"height\":[393.0],\"label\":[\"(0.100000, 0.133333]\"],\"line_alpha\":[1.0],\"line_color\":[\"black\"],\"width\":[0.033333333333333326],\"x\":[\"0.1166665\"],\"y\":[196.5]}},\"id\":\"81d6bec7-0420-4dd7-a8e0-ca702c6bd65d\",\"type\":\"ColumnDataSource\"},{\"attributes\":{\"fill_alpha\":{\"field\":\"fill_alpha\"},\"fill_color\":{\"field\":\"color\"},\"height\":{\"field\":\"height\",\"units\":\"data\"},\"line_color\":{\"field\":\"line_color\"},\"width\":{\"field\":\"width\",\"units\":\"data\"},\"x\":{\"field\":\"x\"},\"y\":{\"field\":\"y\"}},\"id\":\"c1d680f7-5383-429e-831b-1c1ef7ee1523\",\"type\":\"Rect\"},{\"attributes\":{\"fill_alpha\":{\"field\":\"fill_alpha\"},\"fill_color\":{\"field\":\"color\"},\"height\":{\"field\":\"height\",\"units\":\"data\"},\"line_color\":{\"field\":\"line_color\"},\"width\":{\"field\":\"width\",\"units\":\"data\"},\"x\":{\"field\":\"x\"},\"y\":{\"field\":\"y\"}},\"id\":\"02da19b2-5966-402b-9fe8-c64985e1727e\",\"type\":\"Rect\"},{\"attributes\":{\"fill_alpha\":{\"field\":\"fill_alpha\"},\"fill_color\":{\"field\":\"color\"},\"height\":{\"field\":\"height\",\"units\":\"data\"},\"line_color\":{\"field\":\"line_color\"},\"width\":{\"field\":\"width\",\"units\":\"data\"},\"x\":{\"field\":\"x\"},\"y\":{\"field\":\"y\"}},\"id\":\"e2d56ec6-ce0e-4bab-b3f0-5bfddbecc1eb\",\"type\":\"Rect\"},{\"attributes\":{\"data_source\":{\"id\":\"f83edf1e-6750-4913-af59-3d25fa7157ca\",\"type\":\"ColumnDataSource\"},\"glyph\":{\"id\":\"cf3ef365-2ae2-4bdd-8693-18090b6c749e\",\"type\":\"Rect\"},\"hover_glyph\":null,\"nonselection_glyph\":null,\"selection_glyph\":null},\"id\":\"ec542f2a-f924-4257-8bd8-9acc4908a772\",\"type\":\"GlyphRenderer\"},{\"attributes\":{\"callback\":null,\"end\":1266.1000000000001},\"id\":\"45472aae-9cbe-49a2-8dd2-57677cf4e347\",\"type\":\"Range1d\"},{\"attributes\":{\"fill_alpha\":{\"field\":\"fill_alpha\"},\"fill_color\":{\"field\":\"color\"},\"height\":{\"field\":\"height\",\"units\":\"data\"},\"line_color\":{\"field\":\"line_color\"},\"width\":{\"field\":\"width\",\"units\":\"data\"},\"x\":{\"field\":\"x\"},\"y\":{\"field\":\"y\"}},\"id\":\"0c3bfa89-e5a6-40f0-9dad-e3fffda81e50\",\"type\":\"Rect\"},{\"attributes\":{\"fill_alpha\":{\"field\":\"fill_alpha\"},\"fill_color\":{\"field\":\"color\"},\"height\":{\"field\":\"height\",\"units\":\"data\"},\"line_color\":{\"field\":\"line_color\"},\"width\":{\"field\":\"width\",\"units\":\"data\"},\"x\":{\"field\":\"x\"},\"y\":{\"field\":\"y\"}},\"id\":\"c0faa923-d0a4-4d4a-bccf-5de71b6d5a4f\",\"type\":\"Rect\"},{\"attributes\":{\"callback\":null,\"column_names\":[\"color\",\"x\",\"fill_alpha\",\"line_alpha\",\"line_color\",\"height\",\"width\",\"label\",\"y\"],\"data\":{\"chart_index\":[\"(0.033333, 0.066667]\"],\"color\":[\"LightSlateGray\"],\"fill_alpha\":[0.8],\"height\":[0.0],\"label\":[\"(0.033333, 0.066667]\"],\"line_alpha\":[1.0],\"line_color\":[\"black\"],\"width\":[0.03333333333333333],\"x\":[\"0.05\"],\"y\":[0.0]}},\"id\":\"07b23596-1a89-45c3-97c8-c54205da1810\",\"type\":\"ColumnDataSource\"},{\"attributes\":{},\"id\":\"59ba629b-f878-410e-816e-0a25fb9d91ae\",\"type\":\"BasicTickFormatter\"},{\"attributes\":{\"data_source\":{\"id\":\"db8c65ab-b2da-4b6c-bfa7-dfc834a7390f\",\"type\":\"ColumnDataSource\"},\"glyph\":{\"id\":\"ed2db46a-4bf7-4c19-8acc-f98ac0fd9134\",\"type\":\"Rect\"},\"hover_glyph\":null,\"nonselection_glyph\":null,\"selection_glyph\":null},\"id\":\"3ddfddcd-c57d-41eb-abbc-fb9770285c9a\",\"type\":\"GlyphRenderer\"},{\"attributes\":{\"callback\":null,\"column_names\":[\"color\",\"x\",\"fill_alpha\",\"line_alpha\",\"line_color\",\"height\",\"width\",\"label\",\"y\"],\"data\":{\"chart_index\":[\"(0.733333, 0.766667]\"],\"color\":[\"LightSlateGray\"],\"fill_alpha\":[0.8],\"height\":[0.0],\"label\":[\"(0.733333, 0.766667]\"],\"line_alpha\":[1.0],\"line_color\":[\"black\"],\"width\":[0.033333333333333326],\"x\":[\"0.75\"],\"y\":[0.0]}},\"id\":\"c78a497d-90ed-4ae1-8511-a39fadb42a63\",\"type\":\"ColumnDataSource\"},{\"attributes\":{\"fill_alpha\":{\"field\":\"fill_alpha\"},\"fill_color\":{\"field\":\"color\"},\"height\":{\"field\":\"height\",\"units\":\"data\"},\"line_color\":{\"field\":\"line_color\"},\"width\":{\"field\":\"width\",\"units\":\"data\"},\"x\":{\"field\":\"x\"},\"y\":{\"field\":\"y\"}},\"id\":\"6b889fdf-e49b-4632-9f4b-254891f2fdce\",\"type\":\"Rect\"},{\"attributes\":{},\"id\":\"18b3f88a-3fd6-4d36-a854-77b15b9133de\",\"type\":\"BasicTickFormatter\"},{\"attributes\":{\"plot\":{\"id\":\"ee37cdc8-edfa-4725-a9e8-d467b190a12c\",\"subtype\":\"Chart\",\"type\":\"Plot\"}},\"id\":\"dfc10443-2f6d-4017-a76e-f44be0f13a91\",\"type\":\"SaveTool\"},{\"attributes\":{\"axis_label\":\"Frequency\",\"formatter\":{\"id\":\"59ba629b-f878-410e-816e-0a25fb9d91ae\",\"type\":\"BasicTickFormatter\"},\"plot\":{\"id\":\"ee37cdc8-edfa-4725-a9e8-d467b190a12c\",\"subtype\":\"Chart\",\"type\":\"Plot\"},\"ticker\":{\"id\":\"e709a8c5-8d95-4175-b664-965dc3dfae95\",\"type\":\"BasicTicker\"}},\"id\":\"e9f42de4-e39b-46d4-884f-b8eb924274ed\",\"type\":\"LinearAxis\"},{\"attributes\":{\"data_source\":{\"id\":\"fe3a3c96-274c-495d-af47-7aa6586e6630\",\"type\":\"ColumnDataSource\"},\"glyph\":{\"id\":\"c1d680f7-5383-429e-831b-1c1ef7ee1523\",\"type\":\"Rect\"},\"hover_glyph\":null,\"nonselection_glyph\":null,\"selection_glyph\":null},\"id\":\"25b7d57c-b51c-4da1-86fe-694924695850\",\"type\":\"GlyphRenderer\"},{\"attributes\":{\"data_source\":{\"id\":\"81d6bec7-0420-4dd7-a8e0-ca702c6bd65d\",\"type\":\"ColumnDataSource\"},\"glyph\":{\"id\":\"5608a651-3b08-4939-a606-957106edbb2f\",\"type\":\"Rect\"},\"hover_glyph\":null,\"nonselection_glyph\":null,\"selection_glyph\":null},\"id\":\"ccaf7117-4957-4d33-b2be-46e88fb4d5b1\",\"type\":\"GlyphRenderer\"},{\"attributes\":{\"dimension\":1,\"plot\":{\"id\":\"ee37cdc8-edfa-4725-a9e8-d467b190a12c\",\"subtype\":\"Chart\",\"type\":\"Plot\"},\"ticker\":{\"id\":\"e709a8c5-8d95-4175-b664-965dc3dfae95\",\"type\":\"BasicTicker\"}},\"id\":\"e33150f3-0b11-4edc-8018-8eff96772c05\",\"type\":\"Grid\"},{\"attributes\":{\"callback\":null,\"column_names\":[\"color\",\"x\",\"fill_alpha\",\"line_alpha\",\"line_color\",\"height\",\"width\",\"label\",\"y\"],\"data\":{\"chart_index\":[\"(0.966667, 1.000000]\"],\"color\":[\"LightSlateGray\"],\"fill_alpha\":[0.8],\"height\":[401.0],\"label\":[\"(0.966667, 1.000000]\"],\"line_alpha\":[1.0],\"line_color\":[\"black\"],\"width\":[0.033333333333333326],\"x\":[\"0.9833335000000001\"],\"y\":[200.5]}},\"id\":\"8483b5e6-283f-4649-9488-73c549fa7cb2\",\"type\":\"ColumnDataSource\"},{\"attributes\":{\"callback\":null,\"column_names\":[\"color\",\"x\",\"fill_alpha\",\"line_alpha\",\"line_color\",\"height\",\"width\",\"label\",\"y\"],\"data\":{\"chart_index\":[\"(0.600000, 0.633333]\"],\"color\":[\"LightSlateGray\"],\"fill_alpha\":[0.8],\"height\":[53.0],\"label\":[\"(0.600000, 0.633333]\"],\"line_alpha\":[1.0],\"line_color\":[\"black\"],\"width\":[0.033333333333333326],\"x\":[\"0.6166665\"],\"y\":[26.5]}},\"id\":\"9ada4b05-99dc-4336-bd52-b361d1b42d88\",\"type\":\"ColumnDataSource\"},{\"attributes\":{\"fill_alpha\":{\"field\":\"fill_alpha\"},\"fill_color\":{\"field\":\"color\"},\"height\":{\"field\":\"height\",\"units\":\"data\"},\"line_color\":{\"field\":\"line_color\"},\"width\":{\"field\":\"width\",\"units\":\"data\"},\"x\":{\"field\":\"x\"},\"y\":{\"field\":\"y\"}},\"id\":\"e6291b65-4af0-48c3-b882-2032f884e10a\",\"type\":\"Rect\"},{\"attributes\":{\"active_drag\":\"auto\",\"active_scroll\":\"auto\",\"active_tap\":\"auto\",\"tools\":[{\"id\":\"b1304bad-19e1-455d-b56f-247a4aa43e11\",\"type\":\"PanTool\"},{\"id\":\"1b06fc13-04fb-43ab-a7c0-dc5958276f16\",\"type\":\"WheelZoomTool\"},{\"id\":\"42e0b5c7-e38e-4f03-9fb2-ad2b17a7a9c2\",\"type\":\"BoxZoomTool\"},{\"id\":\"dfc10443-2f6d-4017-a76e-f44be0f13a91\",\"type\":\"SaveTool\"},{\"id\":\"15da8087-5869-4694-8710-d9350aee6913\",\"type\":\"ResetTool\"},{\"id\":\"45abe953-f189-4c09-92ef-a9bf155609e2\",\"type\":\"HelpTool\"}]},\"id\":\"d7434918-a17f-4e55-90ad-67458ba987cc\",\"type\":\"Toolbar\"},{\"attributes\":{\"fill_alpha\":{\"field\":\"fill_alpha\"},\"fill_color\":{\"field\":\"color\"},\"height\":{\"field\":\"height\",\"units\":\"data\"},\"line_color\":{\"field\":\"line_color\"},\"width\":{\"field\":\"width\",\"units\":\"data\"},\"x\":{\"field\":\"x\"},\"y\":{\"field\":\"y\"}},\"id\":\"e9de8f74-b9bd-4465-99e9-22ea04e83efe\",\"type\":\"Rect\"},{\"attributes\":{},\"id\":\"e8cc799d-1927-4dbb-8139-efdb6fdbe561\",\"type\":\"BasicTicker\"},{\"attributes\":{\"fill_alpha\":{\"field\":\"fill_alpha\"},\"fill_color\":{\"field\":\"color\"},\"height\":{\"field\":\"height\",\"units\":\"data\"},\"line_color\":{\"field\":\"line_color\"},\"width\":{\"field\":\"width\",\"units\":\"data\"},\"x\":{\"field\":\"x\"},\"y\":{\"field\":\"y\"}},\"id\":\"97eecdb8-d1ae-4f0a-9fef-1e4f4f3a7651\",\"type\":\"Rect\"},{\"attributes\":{\"callback\":null,\"end\":1.0250001666666666,\"start\":-0.025000166666666667},\"id\":\"0ae9f2cc-eaa0-47a1-9860-7f8475576b3c\",\"type\":\"Range1d\"},{\"attributes\":{\"callback\":null,\"column_names\":[\"color\",\"x\",\"fill_alpha\",\"line_alpha\",\"line_color\",\"height\",\"width\",\"label\",\"y\"],\"data\":{\"chart_index\":[\"(0.333333, 0.366667]\"],\"color\":[\"LightSlateGray\"],\"fill_alpha\":[0.8],\"height\":[0.0],\"label\":[\"(0.333333, 0.366667]\"],\"line_alpha\":[1.0],\"line_color\":[\"black\"],\"width\":[0.033333333333333326],\"x\":[\"0.35\"],\"y\":[0.0]}},\"id\":\"d3009ad0-56b1-4bce-b32b-bc33a778c73c\",\"type\":\"ColumnDataSource\"},{\"attributes\":{\"plot\":{\"id\":\"ee37cdc8-edfa-4725-a9e8-d467b190a12c\",\"subtype\":\"Chart\",\"type\":\"Plot\"}},\"id\":\"b1304bad-19e1-455d-b56f-247a4aa43e11\",\"type\":\"PanTool\"},{\"attributes\":{\"fill_alpha\":{\"field\":\"fill_alpha\"},\"fill_color\":{\"field\":\"color\"},\"height\":{\"field\":\"height\",\"units\":\"data\"},\"line_color\":{\"field\":\"line_color\"},\"width\":{\"field\":\"width\",\"units\":\"data\"},\"x\":{\"field\":\"x\"},\"y\":{\"field\":\"y\"}},\"id\":\"fd313f31-cc4b-490a-9b70-10b70ef4d3bc\",\"type\":\"Rect\"},{\"attributes\":{\"below\":[{\"id\":\"2596594e-e4e8-4af1-aed1-a6c3c6597468\",\"type\":\"LinearAxis\"}],\"css_classes\":null,\"left\":[{\"id\":\"e9f42de4-e39b-46d4-884f-b8eb924274ed\",\"type\":\"LinearAxis\"}],\"renderers\":[{\"id\":\"1bd40b6a-c802-4dd4-996d-d5e414eda7d6\",\"type\":\"BoxAnnotation\"},{\"id\":\"ffb90b3b-910b-486f-901b-c6a0b4819373\",\"type\":\"GlyphRenderer\"},{\"id\":\"61d1d780-b999-40d2-8eb0-7993494e3a19\",\"type\":\"GlyphRenderer\"},{\"id\":\"1846e90b-292b-4b59-aea7-d681ae6017cd\",\"type\":\"GlyphRenderer\"},{\"id\":\"ccaf7117-4957-4d33-b2be-46e88fb4d5b1\",\"type\":\"GlyphRenderer\"},{\"id\":\"4b533fe8-d329-4ee7-9aff-444757154bd0\",\"type\":\"GlyphRenderer\"},{\"id\":\"ec542f2a-f924-4257-8bd8-9acc4908a772\",\"type\":\"GlyphRenderer\"},{\"id\":\"3410384e-d1bf-4c06-8386-68399f062919\",\"type\":\"GlyphRenderer\"},{\"id\":\"68a6dbba-c1f2-4569-af40-74d7648973ef\",\"type\":\"GlyphRenderer\"},{\"id\":\"9f24adc3-462e-4b65-aebc-14e62783a76b\",\"type\":\"GlyphRenderer\"},{\"id\":\"911edd53-6ac6-4973-9cfe-fbc78969d4b3\",\"type\":\"GlyphRenderer\"},{\"id\":\"b440de19-cad2-4463-a3a2-a809045e85c8\",\"type\":\"GlyphRenderer\"},{\"id\":\"3ddfddcd-c57d-41eb-abbc-fb9770285c9a\",\"type\":\"GlyphRenderer\"},{\"id\":\"13d1a9bd-0f30-4aee-ac7a-d3d001f5a3d4\",\"type\":\"GlyphRenderer\"},{\"id\":\"1f91de0b-d6a6-4ec7-8d2c-5b346d9a319c\",\"type\":\"GlyphRenderer\"},{\"id\":\"82b51044-c737-49b6-8e30-e8278a61cc8b\",\"type\":\"GlyphRenderer\"},{\"id\":\"25b7d57c-b51c-4da1-86fe-694924695850\",\"type\":\"GlyphRenderer\"},{\"id\":\"58a75011-7fa2-4dcb-8fa2-0045a1be5d7c\",\"type\":\"GlyphRenderer\"},{\"id\":\"fd4e4e5d-ea10-435a-975a-becb7acffa32\",\"type\":\"GlyphRenderer\"},{\"id\":\"8b8b4ffa-2489-42d1-bc2e-233a2331cea9\",\"type\":\"GlyphRenderer\"},{\"id\":\"dee070e8-bf87-4939-b59f-b0596817308f\",\"type\":\"GlyphRenderer\"},{\"id\":\"f59f6349-ff29-4c3d-95f5-bb02b100476a\",\"type\":\"GlyphRenderer\"},{\"id\":\"ce48a154-280b-4615-8391-59ff1dcc4710\",\"type\":\"GlyphRenderer\"},{\"id\":\"cb191253-ed63-4ab0-be24-8f3f42d312c3\",\"type\":\"GlyphRenderer\"},{\"id\":\"00ad0b45-cafa-431b-a58b-a7a9b4c8beec\",\"type\":\"GlyphRenderer\"},{\"id\":\"0271996e-7496-4fc3-8e84-80242f908a28\",\"type\":\"GlyphRenderer\"},{\"id\":\"b5d7d844-a4ee-4eda-b93c-bda047a2d817\",\"type\":\"GlyphRenderer\"},{\"id\":\"2d3acda7-c683-4b7a-a208-a19d9d399ad1\",\"type\":\"GlyphRenderer\"},{\"id\":\"1371d1d6-c0e2-4d87-8fea-b80bd6a4db14\",\"type\":\"GlyphRenderer\"},{\"id\":\"d1af30d5-05c6-40b0-a768-c0291cde18ac\",\"type\":\"GlyphRenderer\"},{\"id\":\"becb034c-5fb7-48b4-850c-b1fc1131d9b3\",\"type\":\"GlyphRenderer\"},{\"id\":\"fc1a8890-4bd8-49cb-96d6-19ad38b51e10\",\"type\":\"Legend\"},{\"id\":\"2596594e-e4e8-4af1-aed1-a6c3c6597468\",\"type\":\"LinearAxis\"},{\"id\":\"e9f42de4-e39b-46d4-884f-b8eb924274ed\",\"type\":\"LinearAxis\"},{\"id\":\"e33150f3-0b11-4edc-8018-8eff96772c05\",\"type\":\"Grid\"}],\"title\":{\"id\":\"971ab47d-e081-448e-8d4f-78c65066a423\",\"type\":\"Title\"},\"tool_events\":{\"id\":\"f80d8d38-6422-4c91-8334-6667d44b30b8\",\"type\":\"ToolEvents\"},\"toolbar\":{\"id\":\"d7434918-a17f-4e55-90ad-67458ba987cc\",\"type\":\"Toolbar\"},\"x_mapper_type\":\"auto\",\"x_range\":{\"id\":\"0ae9f2cc-eaa0-47a1-9860-7f8475576b3c\",\"type\":\"Range1d\"},\"y_mapper_type\":\"auto\",\"y_range\":{\"id\":\"45472aae-9cbe-49a2-8dd2-57677cf4e347\",\"type\":\"Range1d\"}},\"id\":\"ee37cdc8-edfa-4725-a9e8-d467b190a12c\",\"subtype\":\"Chart\",\"type\":\"Plot\"}],\"root_ids\":[\"ee37cdc8-edfa-4725-a9e8-d467b190a12c\"]},\"title\":\"Bokeh Application\",\"version\":\"0.12.4\"}};\n",
       "            var render_items = [{\"docid\":\"eef56be8-0b92-4cfd-a9d3-b3acfc345bf6\",\"elementid\":\"e9e55496-b01d-432c-ab2d-bbcb3461a812\",\"modelid\":\"ee37cdc8-edfa-4725-a9e8-d467b190a12c\"}];\n",
       "            \n",
       "            Bokeh.embed.embed_items(docs_json, render_items);\n",
       "          };\n",
       "          if (document.readyState != \"loading\") fn();\n",
       "          else document.addEventListener(\"DOMContentLoaded\", fn);\n",
       "        })();\n",
       "      },\n",
       "      function(Bokeh) {\n",
       "      }\n",
       "    ];\n",
       "  \n",
       "    function run_inline_js() {\n",
       "      \n",
       "      if ((window.Bokeh !== undefined) || (force === true)) {\n",
       "        for (var i = 0; i < inline_js.length; i++) {\n",
       "          inline_js[i](window.Bokeh);\n",
       "        }if (force === true) {\n",
       "          display_loaded();\n",
       "        }} else if (Date.now() < window._bokeh_timeout) {\n",
       "        setTimeout(run_inline_js, 100);\n",
       "      } else if (!window._bokeh_failed_load) {\n",
       "        console.log(\"Bokeh: BokehJS failed to load within specified timeout.\");\n",
       "        window._bokeh_failed_load = true;\n",
       "      } else if (force !== true) {\n",
       "        var cell = $(document.getElementById(\"e9e55496-b01d-432c-ab2d-bbcb3461a812\")).parents('.cell').data().cell;\n",
       "        cell.output_area.append_execute_result(NB_LOAD_WARNING)\n",
       "      }\n",
       "  \n",
       "    }\n",
       "  \n",
       "    if (window._bokeh_is_loading === 0) {\n",
       "      console.log(\"Bokeh: BokehJS loaded, going straight to plotting\");\n",
       "      run_inline_js();\n",
       "    } else {\n",
       "      load_libs(js_urls, function() {\n",
       "        console.log(\"Bokeh: BokehJS plotting callback run at\", now());\n",
       "        run_inline_js();\n",
       "      });\n",
       "    }\n",
       "  }(this));\n",
       "</script>"
      ]
     },
     "metadata": {},
     "output_type": "display_data"
    }
   ],
   "source": [
    "output_notebook()\n",
    "p = figure()\n",
    "p = Histogram(X6_2, values='1', title='Homozygous Variant Labels', color='LightSlateGray', bins=30, xlabel=\"Predict Probability\", ylabel=\"Frequency\")\n",
    "output_file(\"pred_prob_hom_var.html\")\n",
    "show(p)"
   ]
  },
  {
   "cell_type": "code",
   "execution_count": null,
   "metadata": {
    "collapsed": true
   },
   "outputs": [],
   "source": []
  },
  {
   "cell_type": "code",
   "execution_count": 145,
   "metadata": {
    "collapsed": true
   },
   "outputs": [],
   "source": [
    "# pd.value_counts(X2['model_pred_label'].values, sort=False)"
   ]
  },
  {
   "cell_type": "code",
   "execution_count": 143,
   "metadata": {},
   "outputs": [
    {
     "data": {
      "text/plain": [
       "0     597\n",
       "2     473\n",
       "1    1735\n",
       "dtype: int64"
      ]
     },
     "execution_count": 143,
     "metadata": {},
     "output_type": "execute_result"
    }
   ],
   "source": [
    "pd.value_counts(X2['GIAB_Crowd'].values, sort=False)"
   ]
  },
  {
   "cell_type": "code",
   "execution_count": 334,
   "metadata": {
    "collapsed": true
   },
   "outputs": [],
   "source": [
    "# X3_df = pd.DataFrame({'count' : X2.groupby(['model_pred_label', 'GIAB_Crowd']).size()}).reset_index()"
   ]
  },
  {
   "cell_type": "code",
   "execution_count": 144,
   "metadata": {
    "collapsed": true
   },
   "outputs": [],
   "source": [
    "# Correct Label Count\n",
    "# Do df.count --> copy into excel file and save in a new csv --> get correct GT count\n",
    "# The '2' Labels are missing\n",
    "label_ct = pd.read_csv('/Users/lmc2/NIST/Notebooks/CrowdVariant/label_count_2.csv')"
   ]
  },
  {
   "cell_type": "code",
   "execution_count": 158,
   "metadata": {
    "collapsed": true
   },
   "outputs": [],
   "source": [
    "label_ct_2 = pd.read_csv('/Users/lmc2/NIST/Notebooks/CrowdVariant/new_labels.csv')"
   ]
  },
  {
   "cell_type": "code",
   "execution_count": 159,
   "metadata": {},
   "outputs": [
    {
     "name": "stderr",
     "output_type": "stream",
     "text": [
      "/Users/lmc2/anaconda/envs/NIHFAES/lib/python3.5/site-packages/bokeh/util/deprecation.py:34: BokehDeprecationWarning:\n",
      "\n",
      "legend_spacing was deprecated in Bokeh 0.12.3 and will be removed, use Legend.spacing instead.\n",
      "\n"
     ]
    },
    {
     "data": {
      "text/html": [
       "\n",
       "\n",
       "    <div class=\"bk-root\">\n",
       "        <div class=\"bk-plotdiv\" id=\"7ba50bbd-e7c2-4391-b7e8-f1638927b99a\"></div>\n",
       "    </div>\n",
       "<script type=\"text/javascript\">\n",
       "  \n",
       "  (function(global) {\n",
       "    function now() {\n",
       "      return new Date();\n",
       "    }\n",
       "  \n",
       "    var force = false;\n",
       "  \n",
       "    if (typeof (window._bokeh_onload_callbacks) === \"undefined\" || force === true) {\n",
       "      window._bokeh_onload_callbacks = [];\n",
       "      window._bokeh_is_loading = undefined;\n",
       "    }\n",
       "  \n",
       "  \n",
       "    \n",
       "    if (typeof (window._bokeh_timeout) === \"undefined\" || force === true) {\n",
       "      window._bokeh_timeout = Date.now() + 0;\n",
       "      window._bokeh_failed_load = false;\n",
       "    }\n",
       "  \n",
       "    var NB_LOAD_WARNING = {'data': {'text/html':\n",
       "       \"<div style='background-color: #fdd'>\\n\"+\n",
       "       \"<p>\\n\"+\n",
       "       \"BokehJS does not appear to have successfully loaded. If loading BokehJS from CDN, this \\n\"+\n",
       "       \"may be due to a slow or bad network connection. Possible fixes:\\n\"+\n",
       "       \"</p>\\n\"+\n",
       "       \"<ul>\\n\"+\n",
       "       \"<li>re-rerun `output_notebook()` to attempt to load from CDN again, or</li>\\n\"+\n",
       "       \"<li>use INLINE resources instead, as so:</li>\\n\"+\n",
       "       \"</ul>\\n\"+\n",
       "       \"<code>\\n\"+\n",
       "       \"from bokeh.resources import INLINE\\n\"+\n",
       "       \"output_notebook(resources=INLINE)\\n\"+\n",
       "       \"</code>\\n\"+\n",
       "       \"</div>\"}};\n",
       "  \n",
       "    function display_loaded() {\n",
       "      if (window.Bokeh !== undefined) {\n",
       "        document.getElementById(\"7ba50bbd-e7c2-4391-b7e8-f1638927b99a\").textContent = \"BokehJS successfully loaded.\";\n",
       "      } else if (Date.now() < window._bokeh_timeout) {\n",
       "        setTimeout(display_loaded, 100)\n",
       "      }\n",
       "    }\n",
       "  \n",
       "    function run_callbacks() {\n",
       "      window._bokeh_onload_callbacks.forEach(function(callback) { callback() });\n",
       "      delete window._bokeh_onload_callbacks\n",
       "      console.info(\"Bokeh: all callbacks have finished\");\n",
       "    }\n",
       "  \n",
       "    function load_libs(js_urls, callback) {\n",
       "      window._bokeh_onload_callbacks.push(callback);\n",
       "      if (window._bokeh_is_loading > 0) {\n",
       "        console.log(\"Bokeh: BokehJS is being loaded, scheduling callback at\", now());\n",
       "        return null;\n",
       "      }\n",
       "      if (js_urls == null || js_urls.length === 0) {\n",
       "        run_callbacks();\n",
       "        return null;\n",
       "      }\n",
       "      console.log(\"Bokeh: BokehJS not loaded, scheduling load and callback at\", now());\n",
       "      window._bokeh_is_loading = js_urls.length;\n",
       "      for (var i = 0; i < js_urls.length; i++) {\n",
       "        var url = js_urls[i];\n",
       "        var s = document.createElement('script');\n",
       "        s.src = url;\n",
       "        s.async = false;\n",
       "        s.onreadystatechange = s.onload = function() {\n",
       "          window._bokeh_is_loading--;\n",
       "          if (window._bokeh_is_loading === 0) {\n",
       "            console.log(\"Bokeh: all BokehJS libraries loaded\");\n",
       "            run_callbacks()\n",
       "          }\n",
       "        };\n",
       "        s.onerror = function() {\n",
       "          console.warn(\"failed to load library \" + url);\n",
       "        };\n",
       "        console.log(\"Bokeh: injecting script tag for BokehJS library: \", url);\n",
       "        document.getElementsByTagName(\"head\")[0].appendChild(s);\n",
       "      }\n",
       "    };var element = document.getElementById(\"7ba50bbd-e7c2-4391-b7e8-f1638927b99a\");\n",
       "    if (element == null) {\n",
       "      console.log(\"Bokeh: ERROR: autoload.js configured with elementid '7ba50bbd-e7c2-4391-b7e8-f1638927b99a' but no matching script tag was found. \")\n",
       "      return false;\n",
       "    }\n",
       "  \n",
       "    var js_urls = [];\n",
       "  \n",
       "    var inline_js = [\n",
       "      function(Bokeh) {\n",
       "        (function() {\n",
       "          var fn = function() {\n",
       "            var docs_json = {\"cac4d858-c3ae-4275-8caa-6c5d88999b9c\":{\"roots\":{\"references\":[{\"attributes\":{\"callback\":null,\"column_names\":[\"color\",\"x\",\"fill_alpha\",\"line_alpha\",\"line_color\",\"height\",\"width\",\"label\",\"y\"],\"data\":{\"Label\":[1],\"Source\":[\"Actual\"],\"chart_index\":[{\"Label\":1,\"Source\":\"Actual\"}],\"color\":[\"#f22c40\"],\"fill_alpha\":[0.8],\"height\":[1734.0],\"label\":[{\"Label\":1,\"Source\":\"Actual\"}],\"line_alpha\":[1.0],\"line_color\":[\"white\"],\"width\":[0.2],\"x\":[\"1:0.666666666667\"],\"y\":[867.0]}},\"id\":\"f4b58dd3-8c7c-4b69-9db6-109aa98a8df4\",\"type\":\"ColumnDataSource\"},{\"attributes\":{\"plot\":{\"id\":\"daa34177-14df-4f47-a12f-c660d400cc9a\",\"subtype\":\"Chart\",\"type\":\"Plot\"}},\"id\":\"b4dca07e-abf7-4a61-b0ef-242ca955bba5\",\"type\":\"SaveTool\"},{\"attributes\":{},\"id\":\"27570ac1-407e-4aeb-81cb-66d4a4be777c\",\"type\":\"CategoricalTickFormatter\"},{\"attributes\":{\"callback\":null,\"column_names\":[\"color\",\"x\",\"fill_alpha\",\"line_alpha\",\"line_color\",\"height\",\"width\",\"label\",\"y\"],\"data\":{\"Label\":[0],\"Source\":[\"Actual\"],\"chart_index\":[{\"Label\":0,\"Source\":\"Actual\"}],\"color\":[\"#f22c40\"],\"fill_alpha\":[0.8],\"height\":[598.0],\"label\":[{\"Label\":0,\"Source\":\"Actual\"}],\"line_alpha\":[1.0],\"line_color\":[\"white\"],\"width\":[0.2],\"x\":[\"0:0.666666666667\"],\"y\":[299.0]}},\"id\":\"65be037e-a1d3-45c4-9945-99ad04072fb3\",\"type\":\"ColumnDataSource\"},{\"attributes\":{\"items\":[{\"id\":\"1363554d-9078-4d01-8a04-d5a11ffa05d9\",\"type\":\"LegendItem\"},{\"id\":\"5c918a33-80ef-4467-8cfe-c4bba7fca8c7\",\"type\":\"LegendItem\"}],\"location\":\"top_left\",\"plot\":{\"id\":\"daa34177-14df-4f47-a12f-c660d400cc9a\",\"subtype\":\"Chart\",\"type\":\"Plot\"},\"spacing\":0},\"id\":\"2181621e-c1ed-4fea-a044-705b54a396ea\",\"type\":\"Legend\"},{\"attributes\":{\"axis_label\":\"Count\",\"formatter\":{\"id\":\"9f56d96e-22ac-42bf-b16d-14ddc751b511\",\"type\":\"BasicTickFormatter\"},\"plot\":{\"id\":\"daa34177-14df-4f47-a12f-c660d400cc9a\",\"subtype\":\"Chart\",\"type\":\"Plot\"},\"ticker\":{\"id\":\"3875ef9d-f7fe-487e-b8b7-670501fc5599\",\"type\":\"BasicTicker\"}},\"id\":\"1e44f59e-06a1-4c24-b70f-b1618d389be4\",\"type\":\"LinearAxis\"},{\"attributes\":{},\"id\":\"e4a43f24-4956-4c2f-be1f-82418d91a5e3\",\"type\":\"CategoricalTicker\"},{\"attributes\":{\"callback\":null,\"factors\":[\"0\",\"1\",\"2\"]},\"id\":\"8632ee7c-1da6-4c37-82fb-4b54903fc957\",\"type\":\"FactorRange\"},{\"attributes\":{\"fill_alpha\":{\"field\":\"fill_alpha\"},\"fill_color\":{\"field\":\"color\"},\"height\":{\"field\":\"height\",\"units\":\"data\"},\"line_color\":{\"field\":\"line_color\"},\"width\":{\"field\":\"width\",\"units\":\"data\"},\"x\":{\"field\":\"x\"},\"y\":{\"field\":\"y\"}},\"id\":\"9e39bf89-9a1e-4939-b7f0-87280ef0ecc4\",\"type\":\"Rect\"},{\"attributes\":{\"fill_alpha\":{\"field\":\"fill_alpha\"},\"fill_color\":{\"field\":\"color\"},\"height\":{\"field\":\"height\",\"units\":\"data\"},\"line_color\":{\"field\":\"line_color\"},\"width\":{\"field\":\"width\",\"units\":\"data\"},\"x\":{\"field\":\"x\"},\"y\":{\"field\":\"y\"}},\"id\":\"50b5ec78-61df-4d8b-8f28-383f3e5ebdea\",\"type\":\"Rect\"},{\"attributes\":{\"plot\":{\"id\":\"daa34177-14df-4f47-a12f-c660d400cc9a\",\"subtype\":\"Chart\",\"type\":\"Plot\"}},\"id\":\"0432c28b-580f-441a-8e76-184f61f14992\",\"type\":\"ResetTool\"},{\"attributes\":{\"data_source\":{\"id\":\"6c91d57e-195d-494d-b196-ca399e304d75\",\"type\":\"ColumnDataSource\"},\"glyph\":{\"id\":\"004bd126-c2aa-43a1-9c78-88297493e0ed\",\"type\":\"Rect\"},\"hover_glyph\":null,\"nonselection_glyph\":null,\"selection_glyph\":null},\"id\":\"ef185923-e29a-49d9-a039-ecb0f4626beb\",\"type\":\"GlyphRenderer\"},{\"attributes\":{\"data_source\":{\"id\":\"5128e264-750b-44bf-b05d-fd265f6aba3a\",\"type\":\"ColumnDataSource\"},\"glyph\":{\"id\":\"50b5ec78-61df-4d8b-8f28-383f3e5ebdea\",\"type\":\"Rect\"},\"hover_glyph\":null,\"nonselection_glyph\":null,\"selection_glyph\":null},\"id\":\"2f8cfabf-a71f-4d6f-9adb-520a15f8d26f\",\"type\":\"GlyphRenderer\"},{\"attributes\":{\"below\":[{\"id\":\"d7f6a2b9-a643-4f10-9ca2-25133deeaae3\",\"type\":\"CategoricalAxis\"}],\"css_classes\":null,\"left\":[{\"id\":\"1e44f59e-06a1-4c24-b70f-b1618d389be4\",\"type\":\"LinearAxis\"}],\"plot_height\":650,\"plot_width\":900,\"renderers\":[{\"id\":\"44c66524-04c3-424c-8611-5b5e11923eca\",\"type\":\"BoxAnnotation\"},{\"id\":\"0acf2c3d-5f27-4847-9d10-ae04c61c16ae\",\"type\":\"GlyphRenderer\"},{\"id\":\"91b24c00-2c2e-4c0b-abc3-92c5c0f6f8e0\",\"type\":\"GlyphRenderer\"},{\"id\":\"2f8cfabf-a71f-4d6f-9adb-520a15f8d26f\",\"type\":\"GlyphRenderer\"},{\"id\":\"1f960984-e857-4a75-a4dc-8d51fec8ecef\",\"type\":\"GlyphRenderer\"},{\"id\":\"90084dae-48e9-4f3b-b29f-afbb475116ff\",\"type\":\"GlyphRenderer\"},{\"id\":\"ef185923-e29a-49d9-a039-ecb0f4626beb\",\"type\":\"GlyphRenderer\"},{\"id\":\"2181621e-c1ed-4fea-a044-705b54a396ea\",\"type\":\"Legend\"},{\"id\":\"d7f6a2b9-a643-4f10-9ca2-25133deeaae3\",\"type\":\"CategoricalAxis\"},{\"id\":\"1e44f59e-06a1-4c24-b70f-b1618d389be4\",\"type\":\"LinearAxis\"},{\"id\":\"4637b05c-4cdb-4c02-ad87-0ff66f0bdab7\",\"type\":\"Grid\"}],\"title\":{\"id\":\"9bab96ab-6e51-461f-9159-ca40b254a68a\",\"type\":\"Title\"},\"tool_events\":{\"id\":\"df8bb253-284b-43e8-8b20-132cc98560dc\",\"type\":\"ToolEvents\"},\"toolbar\":{\"id\":\"88f1fb2a-8f63-4f17-be4b-42c436eaa4d0\",\"type\":\"Toolbar\"},\"x_mapper_type\":\"auto\",\"x_range\":{\"id\":\"8632ee7c-1da6-4c37-82fb-4b54903fc957\",\"type\":\"FactorRange\"},\"y_mapper_type\":\"auto\",\"y_range\":{\"id\":\"de7b4e9b-aab0-46b2-a9c9-f84ffe99bb4f\",\"type\":\"Range1d\"}},\"id\":\"daa34177-14df-4f47-a12f-c660d400cc9a\",\"subtype\":\"Chart\",\"type\":\"Plot\"},{\"attributes\":{\"plot\":{\"id\":\"daa34177-14df-4f47-a12f-c660d400cc9a\",\"subtype\":\"Chart\",\"type\":\"Plot\"}},\"id\":\"548c7d58-8c1b-491e-9590-2472636c9230\",\"type\":\"HelpTool\"},{\"attributes\":{\"label\":{\"value\":\"Actual\"},\"renderers\":[{\"id\":\"91b24c00-2c2e-4c0b-abc3-92c5c0f6f8e0\",\"type\":\"GlyphRenderer\"}]},\"id\":\"5c918a33-80ef-4467-8cfe-c4bba7fca8c7\",\"type\":\"LegendItem\"},{\"attributes\":{},\"id\":\"9f56d96e-22ac-42bf-b16d-14ddc751b511\",\"type\":\"BasicTickFormatter\"},{\"attributes\":{\"plot\":{\"id\":\"daa34177-14df-4f47-a12f-c660d400cc9a\",\"subtype\":\"Chart\",\"type\":\"Plot\"}},\"id\":\"4a6a016e-afba-4ccf-a87d-3cde36b107c0\",\"type\":\"WheelZoomTool\"},{\"attributes\":{\"data_source\":{\"id\":\"9ad7d452-76d7-4e2b-80e1-2238807cf043\",\"type\":\"ColumnDataSource\"},\"glyph\":{\"id\":\"9e39bf89-9a1e-4939-b7f0-87280ef0ecc4\",\"type\":\"Rect\"},\"hover_glyph\":null,\"nonselection_glyph\":null,\"selection_glyph\":null},\"id\":\"90084dae-48e9-4f3b-b29f-afbb475116ff\",\"type\":\"GlyphRenderer\"},{\"attributes\":{},\"id\":\"df8bb253-284b-43e8-8b20-132cc98560dc\",\"type\":\"ToolEvents\"},{\"attributes\":{\"callback\":null,\"column_names\":[\"color\",\"x\",\"fill_alpha\",\"line_alpha\",\"line_color\",\"height\",\"width\",\"label\",\"y\"],\"data\":{\"Label\":[2],\"Source\":[\"Predicted\"],\"chart_index\":[{\"Label\":2,\"Source\":\"Predicted\"}],\"color\":[\"#5ab738\"],\"fill_alpha\":[0.8],\"height\":[0.0],\"label\":[{\"Label\":2,\"Source\":\"Predicted\"}],\"line_alpha\":[1.0],\"line_color\":[\"white\"],\"width\":[0.2],\"x\":[\"2:0.333333333333\"],\"y\":[0.0]}},\"id\":\"9ad7d452-76d7-4e2b-80e1-2238807cf043\",\"type\":\"ColumnDataSource\"},{\"attributes\":{\"active_drag\":\"auto\",\"active_scroll\":\"auto\",\"active_tap\":\"auto\",\"tools\":[{\"id\":\"d0e49453-0bee-4ef8-bf60-4883304d987b\",\"type\":\"PanTool\"},{\"id\":\"4a6a016e-afba-4ccf-a87d-3cde36b107c0\",\"type\":\"WheelZoomTool\"},{\"id\":\"47cdf64c-bdad-4319-8cc5-039447deb5f5\",\"type\":\"BoxZoomTool\"},{\"id\":\"b4dca07e-abf7-4a61-b0ef-242ca955bba5\",\"type\":\"SaveTool\"},{\"id\":\"0432c28b-580f-441a-8e76-184f61f14992\",\"type\":\"ResetTool\"},{\"id\":\"548c7d58-8c1b-491e-9590-2472636c9230\",\"type\":\"HelpTool\"}]},\"id\":\"88f1fb2a-8f63-4f17-be4b-42c436eaa4d0\",\"type\":\"Toolbar\"},{\"attributes\":{\"plot\":null,\"text\":\"Predicted vs Actual\"},\"id\":\"9bab96ab-6e51-461f-9159-ca40b254a68a\",\"type\":\"Title\"},{\"attributes\":{\"data_source\":{\"id\":\"b73d4d3f-1a6e-43a6-af5c-5c48ef3720ce\",\"type\":\"ColumnDataSource\"},\"glyph\":{\"id\":\"50217899-2fd3-47d1-988d-8f7fa371f8c2\",\"type\":\"Rect\"},\"hover_glyph\":null,\"nonselection_glyph\":null,\"selection_glyph\":null},\"id\":\"0acf2c3d-5f27-4847-9d10-ae04c61c16ae\",\"type\":\"GlyphRenderer\"},{\"attributes\":{\"dimension\":1,\"plot\":{\"id\":\"daa34177-14df-4f47-a12f-c660d400cc9a\",\"subtype\":\"Chart\",\"type\":\"Plot\"},\"ticker\":{\"id\":\"3875ef9d-f7fe-487e-b8b7-670501fc5599\",\"type\":\"BasicTicker\"}},\"id\":\"4637b05c-4cdb-4c02-ad87-0ff66f0bdab7\",\"type\":\"Grid\"},{\"attributes\":{},\"id\":\"3875ef9d-f7fe-487e-b8b7-670501fc5599\",\"type\":\"BasicTicker\"},{\"attributes\":{\"callback\":null,\"end\":2110.5},\"id\":\"de7b4e9b-aab0-46b2-a9c9-f84ffe99bb4f\",\"type\":\"Range1d\"},{\"attributes\":{\"fill_alpha\":{\"field\":\"fill_alpha\"},\"fill_color\":{\"field\":\"color\"},\"height\":{\"field\":\"height\",\"units\":\"data\"},\"line_color\":{\"field\":\"line_color\"},\"width\":{\"field\":\"width\",\"units\":\"data\"},\"x\":{\"field\":\"x\"},\"y\":{\"field\":\"y\"}},\"id\":\"004bd126-c2aa-43a1-9c78-88297493e0ed\",\"type\":\"Rect\"},{\"attributes\":{\"overlay\":{\"id\":\"44c66524-04c3-424c-8611-5b5e11923eca\",\"type\":\"BoxAnnotation\"},\"plot\":{\"id\":\"daa34177-14df-4f47-a12f-c660d400cc9a\",\"subtype\":\"Chart\",\"type\":\"Plot\"}},\"id\":\"47cdf64c-bdad-4319-8cc5-039447deb5f5\",\"type\":\"BoxZoomTool\"},{\"attributes\":{\"fill_alpha\":{\"field\":\"fill_alpha\"},\"fill_color\":{\"field\":\"color\"},\"height\":{\"field\":\"height\",\"units\":\"data\"},\"line_color\":{\"field\":\"line_color\"},\"width\":{\"field\":\"width\",\"units\":\"data\"},\"x\":{\"field\":\"x\"},\"y\":{\"field\":\"y\"}},\"id\":\"80fbbff6-ed6e-4fa7-b2cd-95e9b7dbcaf9\",\"type\":\"Rect\"},{\"attributes\":{\"callback\":null,\"column_names\":[\"color\",\"x\",\"fill_alpha\",\"line_alpha\",\"line_color\",\"height\",\"width\",\"label\",\"y\"],\"data\":{\"Label\":[1],\"Source\":[\"Predicted\"],\"chart_index\":[{\"Label\":1,\"Source\":\"Predicted\"}],\"color\":[\"#5ab738\"],\"fill_alpha\":[0.8],\"height\":[2010.0],\"label\":[{\"Label\":1,\"Source\":\"Predicted\"}],\"line_alpha\":[1.0],\"line_color\":[\"white\"],\"width\":[0.2],\"x\":[\"1:0.333333333333\"],\"y\":[1005.0]}},\"id\":\"5128e264-750b-44bf-b05d-fd265f6aba3a\",\"type\":\"ColumnDataSource\"},{\"attributes\":{\"label\":{\"value\":\"Predicted\"},\"renderers\":[{\"id\":\"0acf2c3d-5f27-4847-9d10-ae04c61c16ae\",\"type\":\"GlyphRenderer\"}]},\"id\":\"1363554d-9078-4d01-8a04-d5a11ffa05d9\",\"type\":\"LegendItem\"},{\"attributes\":{\"callback\":null,\"column_names\":[\"color\",\"x\",\"fill_alpha\",\"line_alpha\",\"line_color\",\"height\",\"width\",\"label\",\"y\"],\"data\":{\"Label\":[2],\"Source\":[\"Actual\"],\"chart_index\":[{\"Label\":2,\"Source\":\"Actual\"}],\"color\":[\"#f22c40\"],\"fill_alpha\":[0.8],\"height\":[473.0],\"label\":[{\"Label\":2,\"Source\":\"Actual\"}],\"line_alpha\":[1.0],\"line_color\":[\"white\"],\"width\":[0.2],\"x\":[\"2:0.666666666667\"],\"y\":[236.5]}},\"id\":\"6c91d57e-195d-494d-b196-ca399e304d75\",\"type\":\"ColumnDataSource\"},{\"attributes\":{\"fill_alpha\":{\"field\":\"fill_alpha\"},\"fill_color\":{\"field\":\"color\"},\"height\":{\"field\":\"height\",\"units\":\"data\"},\"line_color\":{\"field\":\"line_color\"},\"width\":{\"field\":\"width\",\"units\":\"data\"},\"x\":{\"field\":\"x\"},\"y\":{\"field\":\"y\"}},\"id\":\"5a01d7b3-9596-4269-9e46-fdad191553a6\",\"type\":\"Rect\"},{\"attributes\":{\"callback\":null,\"column_names\":[\"color\",\"x\",\"fill_alpha\",\"line_alpha\",\"line_color\",\"height\",\"width\",\"label\",\"y\"],\"data\":{\"Label\":[0],\"Source\":[\"Predicted\"],\"chart_index\":[{\"Label\":0,\"Source\":\"Predicted\"}],\"color\":[\"#5ab738\"],\"fill_alpha\":[0.8],\"height\":[795.0],\"label\":[{\"Label\":0,\"Source\":\"Predicted\"}],\"line_alpha\":[1.0],\"line_color\":[\"white\"],\"width\":[0.2],\"x\":[\"0:0.333333333333\"],\"y\":[397.5]}},\"id\":\"b73d4d3f-1a6e-43a6-af5c-5c48ef3720ce\",\"type\":\"ColumnDataSource\"},{\"attributes\":{\"axis_label\":\"Genotype\",\"formatter\":{\"id\":\"27570ac1-407e-4aeb-81cb-66d4a4be777c\",\"type\":\"CategoricalTickFormatter\"},\"major_label_orientation\":0.7853981633974483,\"plot\":{\"id\":\"daa34177-14df-4f47-a12f-c660d400cc9a\",\"subtype\":\"Chart\",\"type\":\"Plot\"},\"ticker\":{\"id\":\"e4a43f24-4956-4c2f-be1f-82418d91a5e3\",\"type\":\"CategoricalTicker\"}},\"id\":\"d7f6a2b9-a643-4f10-9ca2-25133deeaae3\",\"type\":\"CategoricalAxis\"},{\"attributes\":{\"plot\":{\"id\":\"daa34177-14df-4f47-a12f-c660d400cc9a\",\"subtype\":\"Chart\",\"type\":\"Plot\"}},\"id\":\"d0e49453-0bee-4ef8-bf60-4883304d987b\",\"type\":\"PanTool\"},{\"attributes\":{\"fill_alpha\":{\"field\":\"fill_alpha\"},\"fill_color\":{\"field\":\"color\"},\"height\":{\"field\":\"height\",\"units\":\"data\"},\"line_color\":{\"field\":\"line_color\"},\"width\":{\"field\":\"width\",\"units\":\"data\"},\"x\":{\"field\":\"x\"},\"y\":{\"field\":\"y\"}},\"id\":\"50217899-2fd3-47d1-988d-8f7fa371f8c2\",\"type\":\"Rect\"},{\"attributes\":{\"data_source\":{\"id\":\"65be037e-a1d3-45c4-9945-99ad04072fb3\",\"type\":\"ColumnDataSource\"},\"glyph\":{\"id\":\"5a01d7b3-9596-4269-9e46-fdad191553a6\",\"type\":\"Rect\"},\"hover_glyph\":null,\"nonselection_glyph\":null,\"selection_glyph\":null},\"id\":\"91b24c00-2c2e-4c0b-abc3-92c5c0f6f8e0\",\"type\":\"GlyphRenderer\"},{\"attributes\":{\"bottom_units\":\"screen\",\"fill_alpha\":{\"value\":0.5},\"fill_color\":{\"value\":\"lightgrey\"},\"left_units\":\"screen\",\"level\":\"overlay\",\"line_alpha\":{\"value\":1.0},\"line_color\":{\"value\":\"black\"},\"line_dash\":[4,4],\"line_width\":{\"value\":2},\"plot\":null,\"render_mode\":\"css\",\"right_units\":\"screen\",\"top_units\":\"screen\"},\"id\":\"44c66524-04c3-424c-8611-5b5e11923eca\",\"type\":\"BoxAnnotation\"},{\"attributes\":{\"data_source\":{\"id\":\"f4b58dd3-8c7c-4b69-9db6-109aa98a8df4\",\"type\":\"ColumnDataSource\"},\"glyph\":{\"id\":\"80fbbff6-ed6e-4fa7-b2cd-95e9b7dbcaf9\",\"type\":\"Rect\"},\"hover_glyph\":null,\"nonselection_glyph\":null,\"selection_glyph\":null},\"id\":\"1f960984-e857-4a75-a4dc-8d51fec8ecef\",\"type\":\"GlyphRenderer\"}],\"root_ids\":[\"daa34177-14df-4f47-a12f-c660d400cc9a\"]},\"title\":\"Bokeh Application\",\"version\":\"0.12.4\"}};\n",
       "            var render_items = [{\"docid\":\"cac4d858-c3ae-4275-8caa-6c5d88999b9c\",\"elementid\":\"7ba50bbd-e7c2-4391-b7e8-f1638927b99a\",\"modelid\":\"daa34177-14df-4f47-a12f-c660d400cc9a\"}];\n",
       "            \n",
       "            Bokeh.embed.embed_items(docs_json, render_items);\n",
       "          };\n",
       "          if (document.readyState != \"loading\") fn();\n",
       "          else document.addEventListener(\"DOMContentLoaded\", fn);\n",
       "        })();\n",
       "      },\n",
       "      function(Bokeh) {\n",
       "      }\n",
       "    ];\n",
       "  \n",
       "    function run_inline_js() {\n",
       "      \n",
       "      if ((window.Bokeh !== undefined) || (force === true)) {\n",
       "        for (var i = 0; i < inline_js.length; i++) {\n",
       "          inline_js[i](window.Bokeh);\n",
       "        }if (force === true) {\n",
       "          display_loaded();\n",
       "        }} else if (Date.now() < window._bokeh_timeout) {\n",
       "        setTimeout(run_inline_js, 100);\n",
       "      } else if (!window._bokeh_failed_load) {\n",
       "        console.log(\"Bokeh: BokehJS failed to load within specified timeout.\");\n",
       "        window._bokeh_failed_load = true;\n",
       "      } else if (force !== true) {\n",
       "        var cell = $(document.getElementById(\"7ba50bbd-e7c2-4391-b7e8-f1638927b99a\")).parents('.cell').data().cell;\n",
       "        cell.output_area.append_execute_result(NB_LOAD_WARNING)\n",
       "      }\n",
       "  \n",
       "    }\n",
       "  \n",
       "    if (window._bokeh_is_loading === 0) {\n",
       "      console.log(\"Bokeh: BokehJS loaded, going straight to plotting\");\n",
       "      run_inline_js();\n",
       "    } else {\n",
       "      load_libs(js_urls, function() {\n",
       "        console.log(\"Bokeh: BokehJS plotting callback run at\", now());\n",
       "        run_inline_js();\n",
       "      });\n",
       "    }\n",
       "  }(this));\n",
       "</script>"
      ]
     },
     "metadata": {},
     "output_type": "display_data"
    }
   ],
   "source": [
    "p = Bar(label_ct_2, label='Label', xlabel=\"Genotype\", ylabel=\"Count\", values='Count', group='Source',plot_width=900, \n",
    "        plot_height=650, title=\"Predicted vs Actual\", legend='top_left')\n",
    "\n",
    "p.legend.legend_spacing = 0\n",
    "show(p)"
   ]
  },
  {
   "cell_type": "code",
   "execution_count": 145,
   "metadata": {},
   "outputs": [
    {
     "name": "stderr",
     "output_type": "stream",
     "text": [
      "/Users/lmc2/anaconda/envs/NIHFAES/lib/python3.5/site-packages/bokeh/util/deprecation.py:34: BokehDeprecationWarning:\n",
      "\n",
      "legend_spacing was deprecated in Bokeh 0.12.3 and will be removed, use Legend.spacing instead.\n",
      "\n"
     ]
    },
    {
     "data": {
      "text/html": [
       "\n",
       "\n",
       "    <div class=\"bk-root\">\n",
       "        <div class=\"bk-plotdiv\" id=\"020b78e1-b1fb-4449-b509-609fce3598e1\"></div>\n",
       "    </div>\n",
       "<script type=\"text/javascript\">\n",
       "  \n",
       "  (function(global) {\n",
       "    function now() {\n",
       "      return new Date();\n",
       "    }\n",
       "  \n",
       "    var force = false;\n",
       "  \n",
       "    if (typeof (window._bokeh_onload_callbacks) === \"undefined\" || force === true) {\n",
       "      window._bokeh_onload_callbacks = [];\n",
       "      window._bokeh_is_loading = undefined;\n",
       "    }\n",
       "  \n",
       "  \n",
       "    \n",
       "    if (typeof (window._bokeh_timeout) === \"undefined\" || force === true) {\n",
       "      window._bokeh_timeout = Date.now() + 0;\n",
       "      window._bokeh_failed_load = false;\n",
       "    }\n",
       "  \n",
       "    var NB_LOAD_WARNING = {'data': {'text/html':\n",
       "       \"<div style='background-color: #fdd'>\\n\"+\n",
       "       \"<p>\\n\"+\n",
       "       \"BokehJS does not appear to have successfully loaded. If loading BokehJS from CDN, this \\n\"+\n",
       "       \"may be due to a slow or bad network connection. Possible fixes:\\n\"+\n",
       "       \"</p>\\n\"+\n",
       "       \"<ul>\\n\"+\n",
       "       \"<li>re-rerun `output_notebook()` to attempt to load from CDN again, or</li>\\n\"+\n",
       "       \"<li>use INLINE resources instead, as so:</li>\\n\"+\n",
       "       \"</ul>\\n\"+\n",
       "       \"<code>\\n\"+\n",
       "       \"from bokeh.resources import INLINE\\n\"+\n",
       "       \"output_notebook(resources=INLINE)\\n\"+\n",
       "       \"</code>\\n\"+\n",
       "       \"</div>\"}};\n",
       "  \n",
       "    function display_loaded() {\n",
       "      if (window.Bokeh !== undefined) {\n",
       "        document.getElementById(\"020b78e1-b1fb-4449-b509-609fce3598e1\").textContent = \"BokehJS successfully loaded.\";\n",
       "      } else if (Date.now() < window._bokeh_timeout) {\n",
       "        setTimeout(display_loaded, 100)\n",
       "      }\n",
       "    }\n",
       "  \n",
       "    function run_callbacks() {\n",
       "      window._bokeh_onload_callbacks.forEach(function(callback) { callback() });\n",
       "      delete window._bokeh_onload_callbacks\n",
       "      console.info(\"Bokeh: all callbacks have finished\");\n",
       "    }\n",
       "  \n",
       "    function load_libs(js_urls, callback) {\n",
       "      window._bokeh_onload_callbacks.push(callback);\n",
       "      if (window._bokeh_is_loading > 0) {\n",
       "        console.log(\"Bokeh: BokehJS is being loaded, scheduling callback at\", now());\n",
       "        return null;\n",
       "      }\n",
       "      if (js_urls == null || js_urls.length === 0) {\n",
       "        run_callbacks();\n",
       "        return null;\n",
       "      }\n",
       "      console.log(\"Bokeh: BokehJS not loaded, scheduling load and callback at\", now());\n",
       "      window._bokeh_is_loading = js_urls.length;\n",
       "      for (var i = 0; i < js_urls.length; i++) {\n",
       "        var url = js_urls[i];\n",
       "        var s = document.createElement('script');\n",
       "        s.src = url;\n",
       "        s.async = false;\n",
       "        s.onreadystatechange = s.onload = function() {\n",
       "          window._bokeh_is_loading--;\n",
       "          if (window._bokeh_is_loading === 0) {\n",
       "            console.log(\"Bokeh: all BokehJS libraries loaded\");\n",
       "            run_callbacks()\n",
       "          }\n",
       "        };\n",
       "        s.onerror = function() {\n",
       "          console.warn(\"failed to load library \" + url);\n",
       "        };\n",
       "        console.log(\"Bokeh: injecting script tag for BokehJS library: \", url);\n",
       "        document.getElementsByTagName(\"head\")[0].appendChild(s);\n",
       "      }\n",
       "    };var element = document.getElementById(\"020b78e1-b1fb-4449-b509-609fce3598e1\");\n",
       "    if (element == null) {\n",
       "      console.log(\"Bokeh: ERROR: autoload.js configured with elementid '020b78e1-b1fb-4449-b509-609fce3598e1' but no matching script tag was found. \")\n",
       "      return false;\n",
       "    }\n",
       "  \n",
       "    var js_urls = [];\n",
       "  \n",
       "    var inline_js = [\n",
       "      function(Bokeh) {\n",
       "        (function() {\n",
       "          var fn = function() {\n",
       "            var docs_json = {\"99e6d866-8387-4993-ace9-3b7a6b87ff00\":{\"roots\":{\"references\":[{\"attributes\":{\"callback\":null,\"factors\":[\"0\",\"1\",\"2\"]},\"id\":\"b7674a7e-a150-4170-b637-b32ccd1dfb28\",\"type\":\"FactorRange\"},{\"attributes\":{\"active_drag\":\"auto\",\"active_scroll\":\"auto\",\"active_tap\":\"auto\",\"tools\":[{\"id\":\"50fb9d86-fe33-45e5-a127-ff67d458c603\",\"type\":\"PanTool\"},{\"id\":\"1eff50a7-a1c5-4b65-b34d-81cccc5bfe07\",\"type\":\"WheelZoomTool\"},{\"id\":\"26800771-e799-4e71-9c51-e715d2e0d711\",\"type\":\"BoxZoomTool\"},{\"id\":\"fccf3ff7-a3a1-492b-a0d2-26006960a4f8\",\"type\":\"SaveTool\"},{\"id\":\"b52d2723-e55a-49dc-bd95-b841858b83a5\",\"type\":\"ResetTool\"},{\"id\":\"ee5657df-1b79-434f-947c-ec95bc16e769\",\"type\":\"HelpTool\"}]},\"id\":\"60343d37-1898-48c6-8bac-bb4712f32536\",\"type\":\"Toolbar\"},{\"attributes\":{\"fill_alpha\":{\"field\":\"fill_alpha\"},\"fill_color\":{\"field\":\"color\"},\"height\":{\"field\":\"height\",\"units\":\"data\"},\"line_color\":{\"field\":\"line_color\"},\"width\":{\"field\":\"width\",\"units\":\"data\"},\"x\":{\"field\":\"x\"},\"y\":{\"field\":\"y\"}},\"id\":\"4be934c8-8e25-49bb-a62b-f2a1eca2a1fa\",\"type\":\"Rect\"},{\"attributes\":{\"dimension\":1,\"plot\":{\"id\":\"a82fbf9f-f730-4c2d-83b9-19487dbcca8a\",\"subtype\":\"Chart\",\"type\":\"Plot\"},\"ticker\":{\"id\":\"4684c75c-fdb7-4268-9978-ad3350b53214\",\"type\":\"BasicTicker\"}},\"id\":\"0a403f70-96ae-4edd-816f-660c35aed5f0\",\"type\":\"Grid\"},{\"attributes\":{\"callback\":null,\"column_names\":[\"line_color\",\"width\",\"y\",\"label\",\"height\",\"line_alpha\",\"x\",\"fill_alpha\",\"color\"],\"data\":{\"Label\":[1],\"Source\":[\"Actual\"],\"chart_index\":[{\"Label\":1,\"Source\":\"Actual\"}],\"color\":[\"#f22c40\"],\"fill_alpha\":[0.8],\"height\":[1735.0],\"label\":[{\"Label\":1,\"Source\":\"Actual\"}],\"line_alpha\":[1.0],\"line_color\":[\"white\"],\"width\":[0.2],\"x\":[\"1:0.666666666667\"],\"y\":[867.5]}},\"id\":\"ae778eea-ca10-461b-86a1-7c2165013613\",\"type\":\"ColumnDataSource\"},{\"attributes\":{\"below\":[{\"id\":\"b847fea9-6338-48e2-b566-ba0a6c8b6cab\",\"type\":\"CategoricalAxis\"}],\"css_classes\":null,\"left\":[{\"id\":\"21618dfe-49fc-4d30-a008-89d17c9a9777\",\"type\":\"LinearAxis\"}],\"plot_height\":650,\"plot_width\":900,\"renderers\":[{\"id\":\"72b68b70-d93b-48f1-8c7d-0e531f385147\",\"type\":\"BoxAnnotation\"},{\"id\":\"fa9f07dc-d178-4692-ac1a-452eadee9968\",\"type\":\"GlyphRenderer\"},{\"id\":\"ae0cb752-5f63-43f3-a5ef-2afd4851acd0\",\"type\":\"GlyphRenderer\"},{\"id\":\"654cc533-db2a-49a8-8f22-95d63352ceec\",\"type\":\"GlyphRenderer\"},{\"id\":\"e58fbdc8-264c-4ec4-956d-c903436225b8\",\"type\":\"GlyphRenderer\"},{\"id\":\"448429eb-6cd5-4579-bfc6-5685ceaabc38\",\"type\":\"GlyphRenderer\"},{\"id\":\"c50f7e87-f604-4725-9014-c2a70dc28569\",\"type\":\"GlyphRenderer\"},{\"id\":\"a5b163b1-cf20-4600-89a8-9d9f31006abc\",\"type\":\"Legend\"},{\"id\":\"b847fea9-6338-48e2-b566-ba0a6c8b6cab\",\"type\":\"CategoricalAxis\"},{\"id\":\"21618dfe-49fc-4d30-a008-89d17c9a9777\",\"type\":\"LinearAxis\"},{\"id\":\"0a403f70-96ae-4edd-816f-660c35aed5f0\",\"type\":\"Grid\"}],\"title\":{\"id\":\"de7be8fb-8b4d-4411-a0a2-ad7b36084419\",\"type\":\"Title\"},\"tool_events\":{\"id\":\"c080de8e-3ef0-4f52-8de7-2451fcc1010e\",\"type\":\"ToolEvents\"},\"toolbar\":{\"id\":\"60343d37-1898-48c6-8bac-bb4712f32536\",\"type\":\"Toolbar\"},\"x_mapper_type\":\"auto\",\"x_range\":{\"id\":\"b7674a7e-a150-4170-b637-b32ccd1dfb28\",\"type\":\"FactorRange\"},\"y_mapper_type\":\"auto\",\"y_range\":{\"id\":\"d570d25e-227e-4d38-a571-719d2f97cc68\",\"type\":\"Range1d\"}},\"id\":\"a82fbf9f-f730-4c2d-83b9-19487dbcca8a\",\"subtype\":\"Chart\",\"type\":\"Plot\"},{\"attributes\":{\"label\":{\"value\":\"Predicted\"},\"renderers\":[{\"id\":\"fa9f07dc-d178-4692-ac1a-452eadee9968\",\"type\":\"GlyphRenderer\"}]},\"id\":\"c4a1ed79-2a2e-44e2-b49a-aeec39acf755\",\"type\":\"LegendItem\"},{\"attributes\":{\"fill_alpha\":{\"field\":\"fill_alpha\"},\"fill_color\":{\"field\":\"color\"},\"height\":{\"field\":\"height\",\"units\":\"data\"},\"line_color\":{\"field\":\"line_color\"},\"width\":{\"field\":\"width\",\"units\":\"data\"},\"x\":{\"field\":\"x\"},\"y\":{\"field\":\"y\"}},\"id\":\"ccc2b270-e0dc-408f-a1be-a86378685688\",\"type\":\"Rect\"},{\"attributes\":{\"data_source\":{\"id\":\"5aaf643c-a909-4dc6-9f89-02ea672bd006\",\"type\":\"ColumnDataSource\"},\"glyph\":{\"id\":\"1bdfe6a9-6df9-493c-86e2-d5fbb7b7c3f8\",\"type\":\"Rect\"},\"hover_glyph\":null,\"nonselection_glyph\":null,\"selection_glyph\":null},\"id\":\"fa9f07dc-d178-4692-ac1a-452eadee9968\",\"type\":\"GlyphRenderer\"},{\"attributes\":{},\"id\":\"358b390e-03e5-4236-80c9-6d5b982ca676\",\"type\":\"CategoricalTickFormatter\"},{\"attributes\":{\"callback\":null,\"column_names\":[\"line_color\",\"width\",\"y\",\"label\",\"height\",\"line_alpha\",\"x\",\"fill_alpha\",\"color\"],\"data\":{\"Label\":[2],\"Source\":[\"Predicted\"],\"chart_index\":[{\"Label\":2,\"Source\":\"Predicted\"}],\"color\":[\"#5ab738\"],\"fill_alpha\":[0.8],\"height\":[1.0],\"label\":[{\"Label\":2,\"Source\":\"Predicted\"}],\"line_alpha\":[1.0],\"line_color\":[\"white\"],\"width\":[0.2],\"x\":[\"2:0.333333333333\"],\"y\":[0.5]}},\"id\":\"ddb66035-acbc-4e3f-a63a-8f1d5043d324\",\"type\":\"ColumnDataSource\"},{\"attributes\":{\"axis_label\":\"Genotype\",\"formatter\":{\"id\":\"358b390e-03e5-4236-80c9-6d5b982ca676\",\"type\":\"CategoricalTickFormatter\"},\"major_label_orientation\":0.7853981633974483,\"plot\":{\"id\":\"a82fbf9f-f730-4c2d-83b9-19487dbcca8a\",\"subtype\":\"Chart\",\"type\":\"Plot\"},\"ticker\":{\"id\":\"4720ab5c-e2c4-4e44-a5ab-cfe30866fd7d\",\"type\":\"CategoricalTicker\"}},\"id\":\"b847fea9-6338-48e2-b566-ba0a6c8b6cab\",\"type\":\"CategoricalAxis\"},{\"attributes\":{\"axis_label\":\"Count\",\"formatter\":{\"id\":\"67652cef-7afe-42ee-9f25-858c0a8d6eac\",\"type\":\"BasicTickFormatter\"},\"plot\":{\"id\":\"a82fbf9f-f730-4c2d-83b9-19487dbcca8a\",\"subtype\":\"Chart\",\"type\":\"Plot\"},\"ticker\":{\"id\":\"4684c75c-fdb7-4268-9978-ad3350b53214\",\"type\":\"BasicTicker\"}},\"id\":\"21618dfe-49fc-4d30-a008-89d17c9a9777\",\"type\":\"LinearAxis\"},{\"attributes\":{\"bottom_units\":\"screen\",\"fill_alpha\":{\"value\":0.5},\"fill_color\":{\"value\":\"lightgrey\"},\"left_units\":\"screen\",\"level\":\"overlay\",\"line_alpha\":{\"value\":1.0},\"line_color\":{\"value\":\"black\"},\"line_dash\":[4,4],\"line_width\":{\"value\":2},\"plot\":null,\"render_mode\":\"css\",\"right_units\":\"screen\",\"top_units\":\"screen\"},\"id\":\"72b68b70-d93b-48f1-8c7d-0e531f385147\",\"type\":\"BoxAnnotation\"},{\"attributes\":{\"overlay\":{\"id\":\"72b68b70-d93b-48f1-8c7d-0e531f385147\",\"type\":\"BoxAnnotation\"},\"plot\":{\"id\":\"a82fbf9f-f730-4c2d-83b9-19487dbcca8a\",\"subtype\":\"Chart\",\"type\":\"Plot\"}},\"id\":\"26800771-e799-4e71-9c51-e715d2e0d711\",\"type\":\"BoxZoomTool\"},{\"attributes\":{\"callback\":null,\"column_names\":[\"line_color\",\"width\",\"y\",\"label\",\"height\",\"line_alpha\",\"x\",\"fill_alpha\",\"color\"],\"data\":{\"Label\":[1],\"Source\":[\"Predicted\"],\"chart_index\":[{\"Label\":1,\"Source\":\"Predicted\"}],\"color\":[\"#5ab738\"],\"fill_alpha\":[0.8],\"height\":[1943.0],\"label\":[{\"Label\":1,\"Source\":\"Predicted\"}],\"line_alpha\":[1.0],\"line_color\":[\"white\"],\"width\":[0.2],\"x\":[\"1:0.333333333333\"],\"y\":[971.5]}},\"id\":\"0c20aadb-9e8f-4eb6-bf88-f7ce57b0a85e\",\"type\":\"ColumnDataSource\"},{\"attributes\":{\"data_source\":{\"id\":\"ae778eea-ca10-461b-86a1-7c2165013613\",\"type\":\"ColumnDataSource\"},\"glyph\":{\"id\":\"b3f8b666-0890-481b-ba2c-d9a18396a455\",\"type\":\"Rect\"},\"hover_glyph\":null,\"nonselection_glyph\":null,\"selection_glyph\":null},\"id\":\"e58fbdc8-264c-4ec4-956d-c903436225b8\",\"type\":\"GlyphRenderer\"},{\"attributes\":{\"plot\":{\"id\":\"a82fbf9f-f730-4c2d-83b9-19487dbcca8a\",\"subtype\":\"Chart\",\"type\":\"Plot\"}},\"id\":\"b52d2723-e55a-49dc-bd95-b841858b83a5\",\"type\":\"ResetTool\"},{\"attributes\":{},\"id\":\"67652cef-7afe-42ee-9f25-858c0a8d6eac\",\"type\":\"BasicTickFormatter\"},{\"attributes\":{\"fill_alpha\":{\"field\":\"fill_alpha\"},\"fill_color\":{\"field\":\"color\"},\"height\":{\"field\":\"height\",\"units\":\"data\"},\"line_color\":{\"field\":\"line_color\"},\"width\":{\"field\":\"width\",\"units\":\"data\"},\"x\":{\"field\":\"x\"},\"y\":{\"field\":\"y\"}},\"id\":\"1bdfe6a9-6df9-493c-86e2-d5fbb7b7c3f8\",\"type\":\"Rect\"},{\"attributes\":{\"plot\":{\"id\":\"a82fbf9f-f730-4c2d-83b9-19487dbcca8a\",\"subtype\":\"Chart\",\"type\":\"Plot\"}},\"id\":\"50fb9d86-fe33-45e5-a127-ff67d458c603\",\"type\":\"PanTool\"},{\"attributes\":{\"callback\":null,\"column_names\":[\"line_color\",\"width\",\"y\",\"label\",\"height\",\"line_alpha\",\"x\",\"fill_alpha\",\"color\"],\"data\":{\"Label\":[0],\"Source\":[\"Actual\"],\"chart_index\":[{\"Label\":0,\"Source\":\"Actual\"}],\"color\":[\"#f22c40\"],\"fill_alpha\":[0.8],\"height\":[597.0],\"label\":[{\"Label\":0,\"Source\":\"Actual\"}],\"line_alpha\":[1.0],\"line_color\":[\"white\"],\"width\":[0.2],\"x\":[\"0:0.666666666667\"],\"y\":[298.5]}},\"id\":\"180fc8ae-a2ea-4023-b9d1-262aea0d85bb\",\"type\":\"ColumnDataSource\"},{\"attributes\":{\"items\":[{\"id\":\"c4a1ed79-2a2e-44e2-b49a-aeec39acf755\",\"type\":\"LegendItem\"},{\"id\":\"7d6e9a9d-89da-482b-ad98-7423e488b233\",\"type\":\"LegendItem\"}],\"location\":\"top_left\",\"plot\":{\"id\":\"a82fbf9f-f730-4c2d-83b9-19487dbcca8a\",\"subtype\":\"Chart\",\"type\":\"Plot\"},\"spacing\":0},\"id\":\"a5b163b1-cf20-4600-89a8-9d9f31006abc\",\"type\":\"Legend\"},{\"attributes\":{\"plot\":{\"id\":\"a82fbf9f-f730-4c2d-83b9-19487dbcca8a\",\"subtype\":\"Chart\",\"type\":\"Plot\"}},\"id\":\"ee5657df-1b79-434f-947c-ec95bc16e769\",\"type\":\"HelpTool\"},{\"attributes\":{\"plot\":null,\"text\":\"Predicted vs Actual\"},\"id\":\"de7be8fb-8b4d-4411-a0a2-ad7b36084419\",\"type\":\"Title\"},{\"attributes\":{\"data_source\":{\"id\":\"95ccd800-cc4d-408c-8269-fb5866cedeef\",\"type\":\"ColumnDataSource\"},\"glyph\":{\"id\":\"79273e12-1bb5-47f0-9683-0a6a0b78e686\",\"type\":\"Rect\"},\"hover_glyph\":null,\"nonselection_glyph\":null,\"selection_glyph\":null},\"id\":\"c50f7e87-f604-4725-9014-c2a70dc28569\",\"type\":\"GlyphRenderer\"},{\"attributes\":{\"callback\":null,\"end\":2040.15},\"id\":\"d570d25e-227e-4d38-a571-719d2f97cc68\",\"type\":\"Range1d\"},{\"attributes\":{\"fill_alpha\":{\"field\":\"fill_alpha\"},\"fill_color\":{\"field\":\"color\"},\"height\":{\"field\":\"height\",\"units\":\"data\"},\"line_color\":{\"field\":\"line_color\"},\"width\":{\"field\":\"width\",\"units\":\"data\"},\"x\":{\"field\":\"x\"},\"y\":{\"field\":\"y\"}},\"id\":\"b3f8b666-0890-481b-ba2c-d9a18396a455\",\"type\":\"Rect\"},{\"attributes\":{\"plot\":{\"id\":\"a82fbf9f-f730-4c2d-83b9-19487dbcca8a\",\"subtype\":\"Chart\",\"type\":\"Plot\"}},\"id\":\"1eff50a7-a1c5-4b65-b34d-81cccc5bfe07\",\"type\":\"WheelZoomTool\"},{\"attributes\":{\"fill_alpha\":{\"field\":\"fill_alpha\"},\"fill_color\":{\"field\":\"color\"},\"height\":{\"field\":\"height\",\"units\":\"data\"},\"line_color\":{\"field\":\"line_color\"},\"width\":{\"field\":\"width\",\"units\":\"data\"},\"x\":{\"field\":\"x\"},\"y\":{\"field\":\"y\"}},\"id\":\"79273e12-1bb5-47f0-9683-0a6a0b78e686\",\"type\":\"Rect\"},{\"attributes\":{\"callback\":null,\"column_names\":[\"line_color\",\"width\",\"y\",\"label\",\"height\",\"line_alpha\",\"x\",\"fill_alpha\",\"color\"],\"data\":{\"Label\":[0],\"Source\":[\"Predicted\"],\"chart_index\":[{\"Label\":0,\"Source\":\"Predicted\"}],\"color\":[\"#5ab738\"],\"fill_alpha\":[0.8],\"height\":[861.0],\"label\":[{\"Label\":0,\"Source\":\"Predicted\"}],\"line_alpha\":[1.0],\"line_color\":[\"white\"],\"width\":[0.2],\"x\":[\"0:0.333333333333\"],\"y\":[430.5]}},\"id\":\"5aaf643c-a909-4dc6-9f89-02ea672bd006\",\"type\":\"ColumnDataSource\"},{\"attributes\":{},\"id\":\"4720ab5c-e2c4-4e44-a5ab-cfe30866fd7d\",\"type\":\"CategoricalTicker\"},{\"attributes\":{},\"id\":\"c080de8e-3ef0-4f52-8de7-2451fcc1010e\",\"type\":\"ToolEvents\"},{\"attributes\":{},\"id\":\"4684c75c-fdb7-4268-9978-ad3350b53214\",\"type\":\"BasicTicker\"},{\"attributes\":{\"data_source\":{\"id\":\"0c20aadb-9e8f-4eb6-bf88-f7ce57b0a85e\",\"type\":\"ColumnDataSource\"},\"glyph\":{\"id\":\"ccc2b270-e0dc-408f-a1be-a86378685688\",\"type\":\"Rect\"},\"hover_glyph\":null,\"nonselection_glyph\":null,\"selection_glyph\":null},\"id\":\"654cc533-db2a-49a8-8f22-95d63352ceec\",\"type\":\"GlyphRenderer\"},{\"attributes\":{\"data_source\":{\"id\":\"ddb66035-acbc-4e3f-a63a-8f1d5043d324\",\"type\":\"ColumnDataSource\"},\"glyph\":{\"id\":\"4be934c8-8e25-49bb-a62b-f2a1eca2a1fa\",\"type\":\"Rect\"},\"hover_glyph\":null,\"nonselection_glyph\":null,\"selection_glyph\":null},\"id\":\"448429eb-6cd5-4579-bfc6-5685ceaabc38\",\"type\":\"GlyphRenderer\"},{\"attributes\":{\"fill_alpha\":{\"field\":\"fill_alpha\"},\"fill_color\":{\"field\":\"color\"},\"height\":{\"field\":\"height\",\"units\":\"data\"},\"line_color\":{\"field\":\"line_color\"},\"width\":{\"field\":\"width\",\"units\":\"data\"},\"x\":{\"field\":\"x\"},\"y\":{\"field\":\"y\"}},\"id\":\"1d233865-a0d0-4288-9ac7-7594c0f5b7a3\",\"type\":\"Rect\"},{\"attributes\":{\"plot\":{\"id\":\"a82fbf9f-f730-4c2d-83b9-19487dbcca8a\",\"subtype\":\"Chart\",\"type\":\"Plot\"}},\"id\":\"fccf3ff7-a3a1-492b-a0d2-26006960a4f8\",\"type\":\"SaveTool\"},{\"attributes\":{\"data_source\":{\"id\":\"180fc8ae-a2ea-4023-b9d1-262aea0d85bb\",\"type\":\"ColumnDataSource\"},\"glyph\":{\"id\":\"1d233865-a0d0-4288-9ac7-7594c0f5b7a3\",\"type\":\"Rect\"},\"hover_glyph\":null,\"nonselection_glyph\":null,\"selection_glyph\":null},\"id\":\"ae0cb752-5f63-43f3-a5ef-2afd4851acd0\",\"type\":\"GlyphRenderer\"},{\"attributes\":{\"callback\":null,\"column_names\":[\"line_color\",\"width\",\"y\",\"label\",\"height\",\"line_alpha\",\"x\",\"fill_alpha\",\"color\"],\"data\":{\"Label\":[2],\"Source\":[\"Actual\"],\"chart_index\":[{\"Label\":2,\"Source\":\"Actual\"}],\"color\":[\"#f22c40\"],\"fill_alpha\":[0.8],\"height\":[473.0],\"label\":[{\"Label\":2,\"Source\":\"Actual\"}],\"line_alpha\":[1.0],\"line_color\":[\"white\"],\"width\":[0.2],\"x\":[\"2:0.666666666667\"],\"y\":[236.5]}},\"id\":\"95ccd800-cc4d-408c-8269-fb5866cedeef\",\"type\":\"ColumnDataSource\"},{\"attributes\":{\"label\":{\"value\":\"Actual\"},\"renderers\":[{\"id\":\"ae0cb752-5f63-43f3-a5ef-2afd4851acd0\",\"type\":\"GlyphRenderer\"}]},\"id\":\"7d6e9a9d-89da-482b-ad98-7423e488b233\",\"type\":\"LegendItem\"}],\"root_ids\":[\"a82fbf9f-f730-4c2d-83b9-19487dbcca8a\"]},\"title\":\"Bokeh Application\",\"version\":\"0.12.4\"}};\n",
       "            var render_items = [{\"docid\":\"99e6d866-8387-4993-ace9-3b7a6b87ff00\",\"elementid\":\"020b78e1-b1fb-4449-b509-609fce3598e1\",\"modelid\":\"a82fbf9f-f730-4c2d-83b9-19487dbcca8a\"}];\n",
       "            \n",
       "            Bokeh.embed.embed_items(docs_json, render_items);\n",
       "          };\n",
       "          if (document.readyState != \"loading\") fn();\n",
       "          else document.addEventListener(\"DOMContentLoaded\", fn);\n",
       "        })();\n",
       "      },\n",
       "      function(Bokeh) {\n",
       "      }\n",
       "    ];\n",
       "  \n",
       "    function run_inline_js() {\n",
       "      \n",
       "      if ((window.Bokeh !== undefined) || (force === true)) {\n",
       "        for (var i = 0; i < inline_js.length; i++) {\n",
       "          inline_js[i](window.Bokeh);\n",
       "        }if (force === true) {\n",
       "          display_loaded();\n",
       "        }} else if (Date.now() < window._bokeh_timeout) {\n",
       "        setTimeout(run_inline_js, 100);\n",
       "      } else if (!window._bokeh_failed_load) {\n",
       "        console.log(\"Bokeh: BokehJS failed to load within specified timeout.\");\n",
       "        window._bokeh_failed_load = true;\n",
       "      } else if (force !== true) {\n",
       "        var cell = $(document.getElementById(\"020b78e1-b1fb-4449-b509-609fce3598e1\")).parents('.cell').data().cell;\n",
       "        cell.output_area.append_execute_result(NB_LOAD_WARNING)\n",
       "      }\n",
       "  \n",
       "    }\n",
       "  \n",
       "    if (window._bokeh_is_loading === 0) {\n",
       "      console.log(\"Bokeh: BokehJS loaded, going straight to plotting\");\n",
       "      run_inline_js();\n",
       "    } else {\n",
       "      load_libs(js_urls, function() {\n",
       "        console.log(\"Bokeh: BokehJS plotting callback run at\", now());\n",
       "        run_inline_js();\n",
       "      });\n",
       "    }\n",
       "  }(this));\n",
       "</script>"
      ]
     },
     "metadata": {},
     "output_type": "display_data"
    }
   ],
   "source": [
    "p = Bar(label_ct, label='Label', xlabel=\"Genotype\", ylabel=\"Count\", values='Count', group='Source',plot_width=900, \n",
    "        plot_height=650, title=\"Predicted vs Actual\", legend='top_left')\n",
    "\n",
    "p.legend.legend_spacing = 0\n",
    "show(p)"
   ]
  },
  {
   "cell_type": "markdown",
   "metadata": {},
   "source": [
    "**Notes Presentation**\n",
    "- Why is there a difference?  What are the different ones?\n",
    "- So few predicted because there were only a few trained on"
   ]
  },
  {
   "cell_type": "markdown",
   "metadata": {},
   "source": [
    "***\n",
    "Determine how well trained RF Classifier can assign labels to datapoints with GTcons: '-1'\n",
    "***    "
   ]
  },
  {
   "cell_type": "code",
   "execution_count": 277,
   "metadata": {
    "collapsed": true
   },
   "outputs": [],
   "source": [
    "#Import Data\n",
    "HG002_pred_min_1 = pd.read_csv('/Users/lmc2/NIST/Notebooks/CrowdVariant/svviz.Annotate.DEL.HG002_minus_one.csv')"
   ]
  },
  {
   "cell_type": "code",
   "execution_count": 278,
   "metadata": {
    "collapsed": true
   },
   "outputs": [],
   "source": [
    "### Drop irrelevant columns\n",
    "# Note: Features in the prediction dataframe must match the features in the dataframe (CrowdVar) used to train the RF model\n",
    "HG002_pred_min_1.drop(['GTcons'], axis=1, inplace = True)\n",
    "HG002_pred_min_1.drop(['GTconflict'], axis=1, inplace = True)\n",
    "HG002_pred_min_1.drop(['GTsupp'], axis=1, inplace = True)\n",
    "HG002_pred_min_1.drop('SVtype', axis=1)\n",
    "HG002_pred_min_1.drop('type',axis=1)\n",
    "HG002_pred_min_1.drop(['type'],axis=1, inplace = True)\n",
    "HG002_pred_min_1.drop(['SVtype'],axis=1, inplace = True)\n",
    "HG002_pred_min_1.drop(['start'],axis=1, inplace = True)\n",
    "HG002_pred_min_1.drop(['end'],axis=1, inplace = True)\n",
    "HG002_pred_min_1.drop(['chrom'],axis=1, inplace = True)\n",
    "HG002_pred_min_1.drop('Size',axis=1)\n",
    "HG002_pred_min_1.drop(['TenX.GT'],axis=1, inplace = True)\n",
    "HG002_pred_min_1.drop(['pacbio.GT'],axis=1, inplace = True)\n",
    "HG002_pred_min_1.drop(['IllMP.GT'],axis=1, inplace = True)\n",
    "HG002_pred_min_1.drop(['Ill250.GT'],axis=1, inplace = True)\n",
    "HG002_pred_min_1.drop(['Ill300x.GT'],axis=1, inplace = True)\n",
    "HG002_pred_min_1.drop(['sample'],axis=1, inplace = True)\n",
    "HG002_pred_min_1.drop(['id'],axis=1, inplace = True)"
   ]
  },
  {
   "cell_type": "code",
   "execution_count": 279,
   "metadata": {},
   "outputs": [
    {
     "data": {
      "text/html": [
       "<div>\n",
       "<table border=\"1\" class=\"dataframe\">\n",
       "  <thead>\n",
       "    <tr style=\"text-align: right;\">\n",
       "      <th></th>\n",
       "      <th>Size</th>\n",
       "      <th>Ill300x.alt_alnScore_mean</th>\n",
       "      <th>Ill300x.alt_alnScore_std</th>\n",
       "      <th>Ill300x.alt_count</th>\n",
       "      <th>Ill300x.alt_insertSize_mean</th>\n",
       "      <th>Ill300x.alt_insertSize_std</th>\n",
       "      <th>Ill300x.alt_reason_alignmentScore</th>\n",
       "      <th>Ill300x.alt_reason_insertSizeScore</th>\n",
       "      <th>Ill300x.alt_reason_orientation</th>\n",
       "      <th>Ill300x.amb_alnScore_mean</th>\n",
       "      <th>...</th>\n",
       "      <th>pacbio.ref_count</th>\n",
       "      <th>pacbio.ref_insertSize_mean</th>\n",
       "      <th>pacbio.ref_insertSize_std</th>\n",
       "      <th>pacbio.ref_reason_alignmentScore</th>\n",
       "      <th>tandemrep_cnt</th>\n",
       "      <th>tandemrep_pct</th>\n",
       "      <th>segdup_cnt</th>\n",
       "      <th>segdup_pct</th>\n",
       "      <th>refN_cnt</th>\n",
       "      <th>refN_pct</th>\n",
       "    </tr>\n",
       "  </thead>\n",
       "  <tbody>\n",
       "    <tr>\n",
       "      <th>0</th>\n",
       "      <td>-25</td>\n",
       "      <td>576.336245</td>\n",
       "      <td>6.124298</td>\n",
       "      <td>229.0</td>\n",
       "      <td>572.580786</td>\n",
       "      <td>146.677196</td>\n",
       "      <td>229.0</td>\n",
       "      <td>0.0</td>\n",
       "      <td>0.0</td>\n",
       "      <td>536.283903</td>\n",
       "      <td>...</td>\n",
       "      <td>0.0</td>\n",
       "      <td>0.0</td>\n",
       "      <td>0.000000</td>\n",
       "      <td>0.0</td>\n",
       "      <td>0</td>\n",
       "      <td>0.0</td>\n",
       "      <td>0</td>\n",
       "      <td>0.0</td>\n",
       "      <td>0</td>\n",
       "      <td>0</td>\n",
       "    </tr>\n",
       "    <tr>\n",
       "      <th>1</th>\n",
       "      <td>-38</td>\n",
       "      <td>570.325000</td>\n",
       "      <td>3.157432</td>\n",
       "      <td>40.0</td>\n",
       "      <td>620.175000</td>\n",
       "      <td>133.582350</td>\n",
       "      <td>39.0</td>\n",
       "      <td>1.0</td>\n",
       "      <td>0.0</td>\n",
       "      <td>529.624239</td>\n",
       "      <td>...</td>\n",
       "      <td>20.0</td>\n",
       "      <td>10741.9</td>\n",
       "      <td>3922.716723</td>\n",
       "      <td>20.0</td>\n",
       "      <td>0</td>\n",
       "      <td>0.0</td>\n",
       "      <td>0</td>\n",
       "      <td>0.0</td>\n",
       "      <td>0</td>\n",
       "      <td>0</td>\n",
       "    </tr>\n",
       "    <tr>\n",
       "      <th>2</th>\n",
       "      <td>-28</td>\n",
       "      <td>574.447761</td>\n",
       "      <td>11.021395</td>\n",
       "      <td>134.0</td>\n",
       "      <td>552.843284</td>\n",
       "      <td>155.619794</td>\n",
       "      <td>133.0</td>\n",
       "      <td>1.0</td>\n",
       "      <td>0.0</td>\n",
       "      <td>535.542208</td>\n",
       "      <td>...</td>\n",
       "      <td>1.0</td>\n",
       "      <td>8703.0</td>\n",
       "      <td>0.000000</td>\n",
       "      <td>1.0</td>\n",
       "      <td>0</td>\n",
       "      <td>0.0</td>\n",
       "      <td>1</td>\n",
       "      <td>1.0</td>\n",
       "      <td>0</td>\n",
       "      <td>0</td>\n",
       "    </tr>\n",
       "    <tr>\n",
       "      <th>3</th>\n",
       "      <td>-153</td>\n",
       "      <td>580.686274</td>\n",
       "      <td>10.901502</td>\n",
       "      <td>51.0</td>\n",
       "      <td>892.529412</td>\n",
       "      <td>257.208800</td>\n",
       "      <td>27.0</td>\n",
       "      <td>24.0</td>\n",
       "      <td>0.0</td>\n",
       "      <td>534.831862</td>\n",
       "      <td>...</td>\n",
       "      <td>20.0</td>\n",
       "      <td>11276.3</td>\n",
       "      <td>4110.799911</td>\n",
       "      <td>20.0</td>\n",
       "      <td>0</td>\n",
       "      <td>0.0</td>\n",
       "      <td>1</td>\n",
       "      <td>1.0</td>\n",
       "      <td>0</td>\n",
       "      <td>0</td>\n",
       "    </tr>\n",
       "    <tr>\n",
       "      <th>4</th>\n",
       "      <td>-67</td>\n",
       "      <td>561.728814</td>\n",
       "      <td>20.434957</td>\n",
       "      <td>59.0</td>\n",
       "      <td>791.067797</td>\n",
       "      <td>236.326610</td>\n",
       "      <td>53.0</td>\n",
       "      <td>6.0</td>\n",
       "      <td>0.0</td>\n",
       "      <td>487.928712</td>\n",
       "      <td>...</td>\n",
       "      <td>5.0</td>\n",
       "      <td>13458.0</td>\n",
       "      <td>2863.866757</td>\n",
       "      <td>5.0</td>\n",
       "      <td>0</td>\n",
       "      <td>0.0</td>\n",
       "      <td>0</td>\n",
       "      <td>0.0</td>\n",
       "      <td>0</td>\n",
       "      <td>0</td>\n",
       "    </tr>\n",
       "  </tbody>\n",
       "</table>\n",
       "<p>5 rows × 177 columns</p>\n",
       "</div>"
      ],
      "text/plain": [
       "   Size  Ill300x.alt_alnScore_mean  Ill300x.alt_alnScore_std  \\\n",
       "0   -25                 576.336245                  6.124298   \n",
       "1   -38                 570.325000                  3.157432   \n",
       "2   -28                 574.447761                 11.021395   \n",
       "3  -153                 580.686274                 10.901502   \n",
       "4   -67                 561.728814                 20.434957   \n",
       "\n",
       "   Ill300x.alt_count  Ill300x.alt_insertSize_mean  Ill300x.alt_insertSize_std  \\\n",
       "0              229.0                   572.580786                  146.677196   \n",
       "1               40.0                   620.175000                  133.582350   \n",
       "2              134.0                   552.843284                  155.619794   \n",
       "3               51.0                   892.529412                  257.208800   \n",
       "4               59.0                   791.067797                  236.326610   \n",
       "\n",
       "   Ill300x.alt_reason_alignmentScore  Ill300x.alt_reason_insertSizeScore  \\\n",
       "0                              229.0                                 0.0   \n",
       "1                               39.0                                 1.0   \n",
       "2                              133.0                                 1.0   \n",
       "3                               27.0                                24.0   \n",
       "4                               53.0                                 6.0   \n",
       "\n",
       "   Ill300x.alt_reason_orientation  Ill300x.amb_alnScore_mean    ...     \\\n",
       "0                             0.0                 536.283903    ...      \n",
       "1                             0.0                 529.624239    ...      \n",
       "2                             0.0                 535.542208    ...      \n",
       "3                             0.0                 534.831862    ...      \n",
       "4                             0.0                 487.928712    ...      \n",
       "\n",
       "   pacbio.ref_count  pacbio.ref_insertSize_mean  pacbio.ref_insertSize_std  \\\n",
       "0               0.0                         0.0                   0.000000   \n",
       "1              20.0                     10741.9                3922.716723   \n",
       "2               1.0                      8703.0                   0.000000   \n",
       "3              20.0                     11276.3                4110.799911   \n",
       "4               5.0                     13458.0                2863.866757   \n",
       "\n",
       "   pacbio.ref_reason_alignmentScore  tandemrep_cnt  tandemrep_pct  segdup_cnt  \\\n",
       "0                               0.0              0            0.0           0   \n",
       "1                              20.0              0            0.0           0   \n",
       "2                               1.0              0            0.0           1   \n",
       "3                              20.0              0            0.0           1   \n",
       "4                               5.0              0            0.0           0   \n",
       "\n",
       "   segdup_pct  refN_cnt  refN_pct  \n",
       "0         0.0         0         0  \n",
       "1         0.0         0         0  \n",
       "2         1.0         0         0  \n",
       "3         1.0         0         0  \n",
       "4         0.0         0         0  \n",
       "\n",
       "[5 rows x 177 columns]"
      ]
     },
     "execution_count": 279,
     "metadata": {},
     "output_type": "execute_result"
    }
   ],
   "source": [
    "HG002_pred_min_1.head()"
   ]
  },
  {
   "cell_type": "code",
   "execution_count": 280,
   "metadata": {
    "collapsed": true
   },
   "outputs": [],
   "source": [
    "X2 = HG002_pred_min_1"
   ]
  },
  {
   "cell_type": "markdown",
   "metadata": {},
   "source": [
    "### Impute missing values using KNN "
   ]
  },
  {
   "cell_type": "code",
   "execution_count": 281,
   "metadata": {},
   "outputs": [
    {
     "name": "stdout",
     "output_type": "stream",
     "text": [
      "Imputing row 1/1191 with 1 missing, elapsed time: 1.277\n",
      "Imputing row 101/1191 with 2 missing, elapsed time: 1.300\n",
      "Imputing row 201/1191 with 1 missing, elapsed time: 1.330\n",
      "Imputing row 301/1191 with 1 missing, elapsed time: 1.348\n",
      "Imputing row 401/1191 with 1 missing, elapsed time: 1.362\n",
      "Imputing row 501/1191 with 1 missing, elapsed time: 1.386\n",
      "Imputing row 601/1191 with 1 missing, elapsed time: 1.397\n",
      "Imputing row 701/1191 with 2 missing, elapsed time: 1.418\n",
      "Imputing row 801/1191 with 2 missing, elapsed time: 1.427\n",
      "Imputing row 901/1191 with 1 missing, elapsed time: 1.440\n",
      "Imputing row 1001/1191 with 1 missing, elapsed time: 1.450\n",
      "Imputing row 1101/1191 with 1 missing, elapsed time: 1.468\n"
     ]
    }
   ],
   "source": [
    "# Convert dataframe to matrix\n",
    "X2=X2.as_matrix()\n",
    "\n",
    "#Imput missing values from three closest observations\n",
    "X2_imputed=KNN(k=3).complete(X2)\n",
    "X2=pd.DataFrame(X2_imputed)"
   ]
  },
  {
   "cell_type": "code",
   "execution_count": 283,
   "metadata": {
    "collapsed": true
   },
   "outputs": [],
   "source": [
    "# Replace column headers\n",
    "X2.columns = ['Size','Ill300x.alt_alnScore_mean','Ill300x.alt_alnScore_std','Ill300x.alt_count','Ill300x.alt_insertSize_mean','Ill300x.alt_insertSize_std','Ill300x.alt_reason_alignmentScore','Ill300x.alt_reason_insertSizeScore','Ill300x.alt_reason_orientation','Ill300x.amb_alnScore_mean','Ill300x.amb_alnScore_std','Ill300x.amb_count','Ill300x.amb_insertSize_mean','Ill300x.amb_insertSize_std','Ill300x.amb_reason_alignmentScore_alignmentScore','Ill300x.amb_reason_alignmentScore_orientation','Ill300x.amb_reason_flanking','Ill300x.amb_reason_insertSizeScore_alignmentScore','Ill300x.amb_reason_insertSizeScore_insertSizeScore','Ill300x.amb_reason_insertSizeScore_orientation','Ill300x.amb_reason_multimapping','Ill300x.amb_reason_orientation_alignmentScore','Ill300x.amb_reason_orientation_orientation','Ill300x.amb_reason_same_scores','Ill300x.ref_alnScore_mean','Ill300x.ref_alnScore_std','Ill300x.ref_count','Ill300x.ref_insertSize_mean','Ill300x.ref_insertSize_std','Ill300x.ref_reason_alignmentScore','Ill300x.ref_reason_insertSizeScore','Ill300x.ref_reason_orientation','Ill250.alt_alnScore_mean','Ill250.alt_alnScore_std','Ill250.alt_count','Ill250.alt_insertSize_mean','Ill250.alt_insertSize_std','Ill250.alt_reason_alignmentScore','Ill250.alt_reason_insertSizeScore','Ill250.alt_reason_orientation','Ill250.amb_alnScore_mean','Ill250.amb_alnScore_std','Ill250.amb_count','Ill250.amb_insertSize_mean','Ill250.amb_insertSize_std','Ill250.amb_reason_alignmentScore_alignmentScore','Ill250.amb_reason_alignmentScore_orientation','Ill250.amb_reason_flanking','Ill250.amb_reason_insertSizeScore_alignmentScore','Ill250.amb_reason_multimapping','Ill250.amb_reason_orientation_alignmentScore','Ill250.amb_reason_orientation_orientation','Ill250.amb_reason_same_scores','Ill250.ref_alnScore_mean','Ill250.ref_alnScore_std','Ill250.ref_count','Ill250.ref_insertSize_mean','Ill250.ref_insertSize_std','Ill250.ref_reason_alignmentScore','Ill250.ref_reason_orientation','IllMP.alt_alnScore_mean','IllMP.alt_alnScore_std','IllMP.alt_count','IllMP.alt_insertSize_mean','IllMP.alt_insertSize_std','IllMP.alt_reason_alignmentScore','IllMP.alt_reason_insertSizeScore','IllMP.alt_reason_orientation','IllMP.amb_alnScore_mean','IllMP.amb_alnScore_std','IllMP.amb_count','IllMP.amb_insertSize_mean','IllMP.amb_insertSize_std','IllMP.amb_reason_alignmentScore_alignmentScore','IllMP.amb_reason_alignmentScore_orientation','IllMP.amb_reason_flanking','IllMP.amb_reason_insertSizeScore_alignmentScore','IllMP.amb_reason_insertSizeScore_insertSizeScore','IllMP.amb_reason_multimapping','IllMP.amb_reason_orientation_alignmentScore','IllMP.amb_reason_orientation_orientation','IllMP.amb_reason_same_scores','IllMP.ref_alnScore_mean','IllMP.ref_alnScore_std','IllMP.ref_count','IllMP.ref_insertSize_mean','IllMP.ref_insertSize_std','IllMP.ref_reason_alignmentScore','IllMP.ref_reason_insertSizeScore','IllMP.ref_reason_orientation','TenX.HP1_alt_alnScore_mean','TenX.HP1_alt_alnScore_std','TenX.HP1_alt_count','TenX.HP1_alt_insertSize_mean','TenX.HP1_alt_insertSize_std','TenX.HP1_alt_reason_alignmentScore','TenX.HP1_alt_reason_insertSizeScore','TenX.HP1_alt_reason_orientation','TenX.HP1_amb_alnScore_mean','TenX.HP1_amb_alnScore_std','TenX.HP1_amb_count','TenX.HP1_amb_insertSize_mean','TenX.HP1_amb_insertSize_std','TenX.HP1_amb_reason_alignmentScore_alignmentScore','TenX.HP1_amb_reason_alignmentScore_orientation','TenX.HP1_amb_reason_flanking','TenX.HP1_amb_reason_insertSizeScore_alignmentScore','TenX.HP1_amb_reason_insertSizeScore_insertSizeScore','TenX.HP1_amb_reason_multimapping','TenX.HP1_amb_reason_orientation_alignmentScore','TenX.HP1_amb_reason_orientation_orientation','TenX.HP1_amb_reason_same_scores','TenX.HP1_ref_alnScore_mean','TenX.HP1_ref_alnScore_std','TenX.HP1_ref_count','TenX.HP1_ref_insertSize_mean','TenX.HP1_ref_insertSize_std','TenX.HP1_ref_reason_alignmentScore','TenX.HP1_ref_reason_insertSizeScore','TenX.HP1_ref_reason_orientation','TenX.HP2_alt_alnScore_mean','TenX.HP2_alt_alnScore_std','TenX.HP2_alt_count','TenX.HP2_alt_insertSize_mean','TenX.HP2_alt_insertSize_std','TenX.HP2_alt_reason_alignmentScore','TenX.HP2_alt_reason_insertSizeScore','TenX.HP2_alt_reason_orientation','TenX.HP2_amb_alnScore_mean','TenX.HP2_amb_alnScore_std','TenX.HP2_amb_count','TenX.HP2_amb_insertSize_mean','TenX.HP2_amb_insertSize_std','TenX.HP2_amb_reason_alignmentScore_alignmentScore','TenX.HP2_amb_reason_alignmentScore_orientation','TenX.HP2_amb_reason_flanking','TenX.HP2_amb_reason_insertSizeScore_alignmentScore','TenX.HP2_amb_reason_insertSizeScore_insertSizeScore','TenX.HP2_amb_reason_multimapping','TenX.HP2_amb_reason_orientation_alignmentScore','TenX.HP2_amb_reason_orientation_insertSizeScore','TenX.HP2_amb_reason_orientation_orientation','TenX.HP2_amb_reason_same_scores','TenX.HP2_ref_alnScore_mean','TenX.HP2_ref_alnScore_std','TenX.HP2_ref_count','TenX.HP2_ref_insertSize_mean','TenX.HP2_ref_insertSize_std','TenX.HP2_ref_reason_alignmentScore','TenX.HP2_ref_reason_orientation','pacbio.alt_alnScore_mean','pacbio.alt_alnScore_std','pacbio.alt_count','pacbio.alt_insertSize_mean','pacbio.alt_insertSize_std','pacbio.alt_reason_alignmentScore','pacbio.amb_alnScore_mean','pacbio.amb_alnScore_std','pacbio.amb_count','pacbio.amb_insertSize_mean','pacbio.amb_insertSize_std','pacbio.amb_reason_alignmentScore_alignmentScore','pacbio.amb_reason_flanking','pacbio.amb_reason_multimapping','pacbio.amb_reason_same_scores','pacbio.ref_alnScore_mean','pacbio.ref_alnScore_std','pacbio.ref_count','pacbio.ref_insertSize_mean','pacbio.ref_insertSize_std','pacbio.ref_reason_alignmentScore','tandemrep_cnt','tandemrep_pct','segdup_cnt','segdup_pct','refN_cnt','refN_pct']"
   ]
  },
  {
   "cell_type": "code",
   "execution_count": 284,
   "metadata": {
    "collapsed": true
   },
   "outputs": [],
   "source": [
    "X2=X2[['Ill300x.alt_alnScore_mean','Ill300x.alt_alnScore_std','Ill300x.alt_count','Ill300x.alt_insertSize_mean','Ill300x.alt_insertSize_std','Ill300x.alt_reason_alignmentScore','Ill300x.alt_reason_insertSizeScore','Ill300x.alt_reason_orientation','Ill300x.amb_alnScore_mean','Ill300x.amb_alnScore_std','Ill300x.amb_count','Ill300x.amb_insertSize_mean','Ill300x.amb_insertSize_std','Ill300x.amb_reason_alignmentScore_alignmentScore','Ill300x.amb_reason_alignmentScore_orientation','Ill300x.amb_reason_flanking','Ill300x.amb_reason_insertSizeScore_alignmentScore','Ill300x.amb_reason_insertSizeScore_insertSizeScore','Ill300x.amb_reason_multimapping','Ill300x.amb_reason_orientation_alignmentScore','Ill300x.amb_reason_orientation_orientation','Ill300x.amb_reason_same_scores','Ill300x.ref_alnScore_mean','Ill300x.ref_alnScore_std','Ill300x.ref_count','Ill300x.ref_insertSize_mean','Ill300x.ref_insertSize_std','Ill300x.ref_reason_alignmentScore','Ill300x.ref_reason_insertSizeScore','Ill300x.ref_reason_orientation','Ill250.alt_alnScore_mean','Ill250.alt_alnScore_std','Ill250.alt_count','Ill250.alt_insertSize_mean','Ill250.alt_insertSize_std','Ill250.alt_reason_alignmentScore','Ill250.alt_reason_insertSizeScore','Ill250.alt_reason_orientation','Ill250.amb_alnScore_mean','Ill250.amb_alnScore_std','Ill250.amb_count','Ill250.amb_insertSize_mean','Ill250.amb_insertSize_std','Ill250.amb_reason_alignmentScore_alignmentScore','Ill250.amb_reason_alignmentScore_orientation','Ill250.amb_reason_flanking','Ill250.amb_reason_insertSizeScore_alignmentScore','Ill250.amb_reason_multimapping','Ill250.amb_reason_orientation_alignmentScore','Ill250.amb_reason_orientation_orientation','Ill250.amb_reason_same_scores','Ill250.ref_alnScore_mean','Ill250.ref_alnScore_std','Ill250.ref_count','Ill250.ref_insertSize_mean','Ill250.ref_insertSize_std','Ill250.ref_reason_alignmentScore','Ill250.ref_reason_orientation','IllMP.alt_alnScore_mean','IllMP.alt_alnScore_std','IllMP.alt_count','IllMP.alt_insertSize_mean','IllMP.alt_insertSize_std','IllMP.alt_reason_alignmentScore','IllMP.alt_reason_insertSizeScore','IllMP.alt_reason_orientation','IllMP.amb_alnScore_mean','IllMP.amb_alnScore_std','IllMP.amb_count','IllMP.amb_insertSize_mean','IllMP.amb_insertSize_std','IllMP.amb_reason_alignmentScore_alignmentScore','IllMP.amb_reason_alignmentScore_orientation','IllMP.amb_reason_flanking','IllMP.amb_reason_insertSizeScore_insertSizeScore','IllMP.amb_reason_multimapping','IllMP.amb_reason_orientation_alignmentScore','IllMP.amb_reason_orientation_orientation','IllMP.amb_reason_same_scores','IllMP.ref_alnScore_mean','IllMP.ref_alnScore_std','IllMP.ref_count','IllMP.ref_insertSize_mean','IllMP.ref_insertSize_std','IllMP.ref_reason_alignmentScore','IllMP.ref_reason_insertSizeScore','IllMP.ref_reason_orientation','pacbio.alt_alnScore_mean','pacbio.alt_alnScore_std','pacbio.alt_count','pacbio.alt_insertSize_mean','pacbio.alt_insertSize_std','pacbio.alt_reason_alignmentScore','pacbio.amb_alnScore_mean','pacbio.amb_alnScore_std','pacbio.amb_count','pacbio.amb_insertSize_mean','pacbio.amb_insertSize_std','pacbio.amb_reason_alignmentScore_alignmentScore','pacbio.amb_reason_flanking','pacbio.amb_reason_multimapping','pacbio.amb_reason_same_scores','pacbio.ref_alnScore_mean','pacbio.ref_alnScore_std','pacbio.ref_count','pacbio.ref_insertSize_mean','pacbio.ref_insertSize_std','pacbio.ref_reason_alignmentScore','TenX.HP1_alt_alnScore_mean','TenX.HP1_alt_alnScore_std','TenX.HP1_alt_count','TenX.HP1_alt_insertSize_mean','TenX.HP1_alt_insertSize_std','TenX.HP1_alt_reason_alignmentScore','TenX.HP1_alt_reason_insertSizeScore','TenX.HP1_alt_reason_orientation','TenX.HP1_amb_alnScore_mean','TenX.HP1_amb_alnScore_std','TenX.HP1_amb_count','TenX.HP1_amb_insertSize_mean','TenX.HP1_amb_insertSize_std','TenX.HP1_amb_reason_alignmentScore_alignmentScore','TenX.HP1_amb_reason_alignmentScore_orientation','TenX.HP1_amb_reason_flanking','TenX.HP1_amb_reason_insertSizeScore_alignmentScore','TenX.HP1_amb_reason_multimapping','TenX.HP1_amb_reason_orientation_alignmentScore','TenX.HP1_amb_reason_orientation_orientation','TenX.HP1_amb_reason_same_scores','TenX.HP1_ref_alnScore_mean','TenX.HP1_ref_alnScore_std','TenX.HP1_ref_count','TenX.HP1_ref_insertSize_mean','TenX.HP1_ref_insertSize_std','TenX.HP1_ref_reason_alignmentScore','TenX.HP1_ref_reason_orientation','TenX.HP2_alt_alnScore_mean','TenX.HP2_alt_alnScore_std','TenX.HP2_alt_count','TenX.HP2_alt_insertSize_mean','TenX.HP2_alt_insertSize_std','TenX.HP2_alt_reason_alignmentScore','TenX.HP2_alt_reason_insertSizeScore','TenX.HP2_alt_reason_orientation','TenX.HP2_amb_alnScore_mean','TenX.HP2_amb_alnScore_std','TenX.HP2_amb_count','TenX.HP2_amb_insertSize_mean','TenX.HP2_amb_insertSize_std','TenX.HP2_amb_reason_alignmentScore_alignmentScore','TenX.HP2_amb_reason_alignmentScore_orientation','TenX.HP2_amb_reason_flanking','TenX.HP2_amb_reason_insertSizeScore_alignmentScore','TenX.HP2_amb_reason_multimapping','TenX.HP2_amb_reason_orientation_alignmentScore','TenX.HP2_amb_reason_orientation_orientation','TenX.HP2_amb_reason_same_scores','TenX.HP2_ref_alnScore_mean','TenX.HP2_ref_alnScore_std','TenX.HP2_ref_count','TenX.HP2_ref_insertSize_mean','TenX.HP2_ref_insertSize_std','TenX.HP2_ref_reason_alignmentScore','TenX.HP2_ref_reason_orientation']]"
   ]
  },
  {
   "cell_type": "code",
   "execution_count": 285,
   "metadata": {},
   "outputs": [
    {
     "data": {
      "text/plain": [
       "array([ 0.,  1.,  0., ...,  0.,  0.,  0.])"
      ]
     },
     "execution_count": 285,
     "metadata": {},
     "output_type": "execute_result"
    }
   ],
   "source": [
    "model.predict(X2)"
   ]
  },
  {
   "cell_type": "code",
   "execution_count": 286,
   "metadata": {},
   "outputs": [
    {
     "name": "stderr",
     "output_type": "stream",
     "text": [
      "/Users/lmc2/anaconda/envs/NIHFAES/lib/python3.5/site-packages/ipykernel/__main__.py:1: SettingWithCopyWarning:\n",
      "\n",
      "\n",
      "A value is trying to be set on a copy of a slice from a DataFrame.\n",
      "Try using .loc[row_indexer,col_indexer] = value instead\n",
      "\n",
      "See the caveats in the documentation: http://pandas.pydata.org/pandas-docs/stable/indexing.html#indexing-view-versus-copy\n",
      "\n"
     ]
    }
   ],
   "source": [
    "X2['model_pred_label'] = model.predict(X2)"
   ]
  },
  {
   "cell_type": "code",
   "execution_count": 287,
   "metadata": {},
   "outputs": [
    {
     "name": "stderr",
     "output_type": "stream",
     "text": [
      "/Users/lmc2/anaconda/envs/NIHFAES/lib/python3.5/site-packages/ipykernel/__main__.py:1: SettingWithCopyWarning:\n",
      "\n",
      "\n",
      "A value is trying to be set on a copy of a slice from a DataFrame.\n",
      "Try using .loc[row_indexer,col_indexer] = value instead\n",
      "\n",
      "See the caveats in the documentation: http://pandas.pydata.org/pandas-docs/stable/indexing.html#indexing-view-versus-copy\n",
      "\n"
     ]
    }
   ],
   "source": [
    "X2['GIAB_Crowd'] = HG002_pred_2['GIAB_Crowd']"
   ]
  },
  {
   "cell_type": "code",
   "execution_count": 294,
   "metadata": {
    "collapsed": true
   },
   "outputs": [],
   "source": [
    "#Import Data\n",
    "HG002_pred_min_1_1 = pd.read_csv('/Users/lmc2/NIST/Notebooks/CrowdVariant/svviz.Annotate.DEL.HG002_minus_one.csv')"
   ]
  },
  {
   "cell_type": "code",
   "execution_count": 295,
   "metadata": {
    "collapsed": true
   },
   "outputs": [],
   "source": [
    "HG002_pred_min_1_1['model_pred_label'] = X2['model_pred_label']"
   ]
  },
  {
   "cell_type": "code",
   "execution_count": 296,
   "metadata": {
    "collapsed": true
   },
   "outputs": [],
   "source": [
    "HG002_pred_min_1_1.to_csv('HG002_pred_min_1.csv', index=False)"
   ]
  },
  {
   "cell_type": "markdown",
   "metadata": {},
   "source": [
    "** Task **\n",
    "- Look at newly labeled data points (svviz images)\n",
    "- Formerly assigned GT ‘-1’, now assigned CrowdVar label\n",
    "\n",
    "    0 —> Hom Var\n",
    "    1 —> Het Var"
   ]
  }
 ],
 "metadata": {
  "anaconda-cloud": {},
  "kernelspec": {
   "display_name": "Python [NIHFAES]",
   "language": "python",
   "name": "Python [NIHFAES]"
  },
  "language_info": {
   "codemirror_mode": {
    "name": "ipython",
    "version": 3
   },
   "file_extension": ".py",
   "mimetype": "text/x-python",
   "name": "python",
   "nbconvert_exporter": "python",
   "pygments_lexer": "ipython3",
   "version": "3.5.2"
  }
 },
 "nbformat": 4,
 "nbformat_minor": 2
}
