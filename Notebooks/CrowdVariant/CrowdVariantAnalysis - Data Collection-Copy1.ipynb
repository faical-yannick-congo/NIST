{
 "cells": [
  {
   "cell_type": "markdown",
   "metadata": {
    "collapsed": true
   },
   "source": [
    "### Crowdvariant Analysis: Data Collection\n",
    "<br>\n",
    "\n",
    "**Summary**\n",
    "\n",
    "The following describes how CrowdVar data was gathered and reformatted into a training dataset for machine learning analysis"
   ]
  },
  {
   "cell_type": "markdown",
   "metadata": {},
   "source": [
    "** Notes **\n",
    "\n",
    "- Gathered crowdsourced labels from the crowdvariant study\n",
    "- high confidence labels only available for HG002\n",
    "    - Are there other labels for other members of the trio?\n",
    "- All deletions\n",
    "- 1514 data points total\n",
    "    - 552 Heterozygous Variant (CrowdVar Label = 1)  [Confidence: >=84%]\n",
    "    - 959 Homozygous Variant (CrowdVar Label = 0)    [Confidence: >=84%]\n",
    "    - 3   Homozygous Reference (CrowdVar Label = 2)  [Confidence: >=91%]\n",
    "    - 1   Unknown"
   ]
  },
  {
   "cell_type": "markdown",
   "metadata": {},
   "source": [
    "***\n",
    "Data Collection and Cleaning\n",
    "***"
   ]
  },
  {
   "cell_type": "markdown",
   "metadata": {},
   "source": [
    "** Train/Test Dataset **"
   ]
  },
  {
   "cell_type": "markdown",
   "metadata": {},
   "source": [
    "**Labels**"
   ]
  },
  {
   "cell_type": "markdown",
   "metadata": {},
   "source": [
    "- Labels were collected from the following article"
   ]
  },
  {
   "cell_type": "markdown",
   "metadata": {},
   "source": [
    "![Figure 1](https://raw.githubusercontent.com/lesleymaraina/NIST/master/Notebooks/CrowdVariant/Screen%20Shot%202017-06-14%20at%2010.41.43%20AM.png)"
   ]
  },
  {
   "cell_type": "markdown",
   "metadata": {},
   "source": [
    "http://biorxiv.org/content/early/2016/12/13/093526"
   ]
  },
  {
   "cell_type": "markdown",
   "metadata": {},
   "source": [
    "**Features**"
   ]
  },
  {
   "cell_type": "markdown",
   "metadata": {},
   "source": [
    "![Figure 1](https://raw.githubusercontent.com/lesleymaraina/NIST/master/Notebooks/CrowdVariant/Screen%20Shot%202017-06-14%20at%2012.09.23%20PM.png)"
   ]
  },
  {
   "cell_type": "markdown",
   "metadata": {},
   "source": [
    "** Create final dataframe **\n",
    "- Run above bedfile in TR/SD bedtools command\n",
    "- There are more samples in the BED file above than those listed in the verily High Confidence file\n",
    "    - select only the rows that match between BED file and verily high confidence list: https://github.com/lesleymaraina/NIST/blob/master/Notebooks/CrowdVariant/PythonCode/Step1.crowd_Select.py\n",
    "- Add CrowdVariant Labels to the dataframe\n",
    "    - https://github.com/lesleymaraina/NIST/blob/master/Notebooks/CrowdVariant/PythonCode/Step2.label_CrowdVar.py\n",
    "    - https://github.com/lesleymaraina/NIST/blob/master/Notebooks/CrowdVariant/PythonCode/Step3.transferLabels.py    \n",
    "- Separate each sample (HG002, HG003, HG004) into separate dataframes\n",
    "    - https://github.com/lesleymaraina/NIST/blob/master/Notebooks/CrowdVariant/PythonCode/Step4.SelectHG2HG3HG4.py"
   ]
  },
  {
   "cell_type": "markdown",
   "metadata": {},
   "source": [
    "** Prediction Dataset **"
   ]
  },
  {
   "cell_type": "markdown",
   "metadata": {},
   "source": [
    "Newly selected datapoints\n",
    "June 12 2017\n",
    "\n",
    "HG002 Deletions"
   ]
  }
 ],
 "metadata": {
  "anaconda-cloud": {},
  "kernelspec": {
   "display_name": "Python [NIHFAES]",
   "language": "python",
   "name": "Python [NIHFAES]"
  },
  "language_info": {
   "codemirror_mode": {
    "name": "ipython",
    "version": 3
   },
   "file_extension": ".py",
   "mimetype": "text/x-python",
   "name": "python",
   "nbconvert_exporter": "python",
   "pygments_lexer": "ipython3",
   "version": "3.5.2"
  }
 },
 "nbformat": 4,
 "nbformat_minor": 2
}
