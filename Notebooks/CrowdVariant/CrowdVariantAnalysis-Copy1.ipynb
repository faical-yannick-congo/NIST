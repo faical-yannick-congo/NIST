{
 "cells": [
  {
   "cell_type": "markdown",
   "metadata": {
    "collapsed": true
   },
   "source": [
    "### Crowdvariant Analysis\n",
    "<br>\n",
    "\n",
    "**Summary**\n",
    "\n",
    "1. Data collection and data cleaning\n",
    "2. Data preprocessing\n",
    "3. Machine Learning analysis"
   ]
  },
  {
   "cell_type": "markdown",
   "metadata": {},
   "source": [
    "** Notes **\n",
    "\n",
    "- Gathered crowdsourced labels from the crowdvariant study\n",
    "- high confidence labels only available for HG002\n",
    "    - Are there other labels?\n",
    "- All deletions\n",
    "- 1514 data points total\n",
    "    - 552 Heterozygous Variant (CrowdVar Label = 1)  [Confidence: >=84%]\n",
    "    - 959 Homozygous Variant (CrowdVar Label = 0)    [Confidence: >=84%]\n",
    "    - 3   Homozygous Reference (CrowdVar Label = 2)  [Confidence: >=91%]\n",
    "    - 1   Unknown"
   ]
  },
  {
   "cell_type": "markdown",
   "metadata": {},
   "source": [
    "***\n",
    "Data Collection and Cleaning\n",
    "***"
   ]
  },
  {
   "cell_type": "markdown",
   "metadata": {},
   "source": [
    "** Train/Test Dataset **"
   ]
  },
  {
   "cell_type": "markdown",
   "metadata": {},
   "source": [
    "**Labels**"
   ]
  },
  {
   "cell_type": "markdown",
   "metadata": {},
   "source": [
    "- Labels were collected from the following article"
   ]
  },
  {
   "cell_type": "markdown",
   "metadata": {},
   "source": [
    "![Figure 1](https://raw.githubusercontent.com/lesleymaraina/NIST/master/Notebooks/CrowdVariant/Screen%20Shot%202017-06-14%20at%2010.41.43%20AM.png)"
   ]
  },
  {
   "cell_type": "markdown",
   "metadata": {},
   "source": [
    "http://biorxiv.org/content/early/2016/12/13/093526"
   ]
  },
  {
   "cell_type": "markdown",
   "metadata": {},
   "source": [
    "**Features**"
   ]
  },
  {
   "cell_type": "markdown",
   "metadata": {},
   "source": [
    "![Figure 1](https://raw.githubusercontent.com/lesleymaraina/NIST/master/Notebooks/CrowdVariant/Screen%20Shot%202017-06-14%20at%2012.09.23%20PM.png)"
   ]
  },
  {
   "cell_type": "markdown",
   "metadata": {},
   "source": [
    "** Prediction Dataset **"
   ]
  },
  {
   "cell_type": "markdown",
   "metadata": {},
   "source": [
    "Newly selected datapoints\n",
    "June 12 2017\n",
    "\n",
    "HG002 Deletions"
   ]
  },
  {
   "cell_type": "markdown",
   "metadata": {},
   "source": [
    "***\n",
    "Data Preprocessing\n",
    "***"
   ]
  },
  {
   "cell_type": "markdown",
   "metadata": {},
   "source": [
    "- Drop columns with labels\n",
    "    \n",
    "    'GTcons', 'GTconflict',\t'GTsupp', 'CN0_prob', 'CN1_prob', 'CN2_prob', 'Label', 'TenX.GT', 'pacbio.GT', 'IllMP.GT', 'Ill250.GT', 'Ill300x.GT'\n",
    "\n",
    "\n",
    "\n",
    "- Drop irrelevant columns\n",
    "    \n",
    "    'chrom', 'start', 'end', 'sample'\n"
   ]
  },
  {
   "cell_type": "markdown",
   "metadata": {},
   "source": [
    "***\n",
    "Machine Learning\n",
    "***\n",
    "\n",
    "Train machine learning classifier with labeled CrowdVariant Data"
   ]
  },
  {
   "cell_type": "code",
   "execution_count": 175,
   "metadata": {
    "collapsed": false
   },
   "outputs": [],
   "source": [
    "\"\"\"\n",
    "Imports\n",
    "\"\"\"\n",
    "import pandas as pd\n",
    "import numpy as np\n",
    "from fancyimpute import KNN\n",
    "import matplotlib.pyplot as plt\n",
    "from sklearn import preprocessing\n",
    "from sklearn.preprocessing import LabelEncoder\n",
    "from sklearn.model_selection import LeaveOneOut\n",
    "from scipy.stats import ks_2samp\n",
    "from scipy import stats\n",
    "from matplotlib import pyplot\n",
    "from sklearn import preprocessing\n",
    "from scipy.linalg import svd\n",
    "from sklearn.decomposition import TruncatedSVD\n",
    "import sqlite3\n",
    "from sklearn.ensemble import RandomForestClassifier\n",
    "from sklearn.metrics import roc_auc_score\n",
    "import seaborn as sns\n",
    "from sklearn.manifold import TSNE\n",
    "from sklearn.decomposition import PCA as sklearnPCA\n",
    "import plotly.plotly as py\n",
    "from sklearn.cluster import DBSCAN\n",
    "from sklearn.model_selection import train_test_split\n",
    "from sklearn import metrics\n",
    "from sklearn.grid_search import GridSearchCV\n",
    "from sklearn.metrics import f1_score\n",
    "from sklearn import preprocessing\n",
    "from ggplot import *\n",
    "from bokeh.charts import TimeSeries\n",
    "from bokeh.models import HoverTool\n",
    "from bokeh.plotting import show\n",
    "from bokeh.charts import Scatter, Histogram, output_file, show\n",
    "from bokeh.plotting import figure, show, output_file, ColumnDataSource\n",
    "from bokeh.io import output_notebook\n",
    "import bokeh.palettes as palettes\n",
    "from bokeh.models import HoverTool, BoxSelectTool, Legend\n",
    "from sklearn import (manifold, datasets, decomposition, ensemble,\n",
    "                     discriminant_analysis, random_projection)"
   ]
  },
  {
   "cell_type": "code",
   "execution_count": 176,
   "metadata": {
    "collapsed": true
   },
   "outputs": [],
   "source": [
    "### Import Data\n",
    "df_crowd = pd.read_csv('CrowdVar.Train_HG002.csv')"
   ]
  },
  {
   "cell_type": "code",
   "execution_count": 177,
   "metadata": {
    "collapsed": false
   },
   "outputs": [
    {
     "data": {
      "text/html": [
       "<div>\n",
       "<table border=\"1\" class=\"dataframe\">\n",
       "  <thead>\n",
       "    <tr style=\"text-align: right;\">\n",
       "      <th></th>\n",
       "      <th>chrom</th>\n",
       "      <th>start</th>\n",
       "      <th>end</th>\n",
       "      <th>sample</th>\n",
       "      <th>Ill300x.alt_alnScore_mean</th>\n",
       "      <th>Ill300x.alt_alnScore_std</th>\n",
       "      <th>Ill300x.alt_count</th>\n",
       "      <th>Ill300x.alt_insertSize_mean</th>\n",
       "      <th>Ill300x.alt_insertSize_std</th>\n",
       "      <th>Ill300x.alt_reason_alignmentScore</th>\n",
       "      <th>...</th>\n",
       "      <th>TenX.GT</th>\n",
       "      <th>size</th>\n",
       "      <th>GTcons</th>\n",
       "      <th>GTconflict</th>\n",
       "      <th>GTsupp</th>\n",
       "      <th>CN0_prob</th>\n",
       "      <th>CN1_prob</th>\n",
       "      <th>CN2_prob</th>\n",
       "      <th>Svsize</th>\n",
       "      <th>Label</th>\n",
       "    </tr>\n",
       "  </thead>\n",
       "  <tbody>\n",
       "    <tr>\n",
       "      <th>0</th>\n",
       "      <td>21</td>\n",
       "      <td>10842334</td>\n",
       "      <td>10842437</td>\n",
       "      <td>HG002</td>\n",
       "      <td>NaN</td>\n",
       "      <td>NaN</td>\n",
       "      <td>NaN</td>\n",
       "      <td>NaN</td>\n",
       "      <td>NaN</td>\n",
       "      <td>NaN</td>\n",
       "      <td>...</td>\n",
       "      <td>-1.0</td>\n",
       "      <td>103</td>\n",
       "      <td>1</td>\n",
       "      <td>-1</td>\n",
       "      <td>2</td>\n",
       "      <td>0.02</td>\n",
       "      <td>0.04</td>\n",
       "      <td>0.94</td>\n",
       "      <td>103</td>\n",
       "      <td>2</td>\n",
       "    </tr>\n",
       "    <tr>\n",
       "      <th>1</th>\n",
       "      <td>10</td>\n",
       "      <td>42356979</td>\n",
       "      <td>42357254</td>\n",
       "      <td>HG002</td>\n",
       "      <td>NaN</td>\n",
       "      <td>NaN</td>\n",
       "      <td>NaN</td>\n",
       "      <td>NaN</td>\n",
       "      <td>NaN</td>\n",
       "      <td>NaN</td>\n",
       "      <td>...</td>\n",
       "      <td>-1.0</td>\n",
       "      <td>275</td>\n",
       "      <td>1</td>\n",
       "      <td>-1</td>\n",
       "      <td>1</td>\n",
       "      <td>0.00</td>\n",
       "      <td>0.02</td>\n",
       "      <td>0.98</td>\n",
       "      <td>275</td>\n",
       "      <td>2</td>\n",
       "    </tr>\n",
       "    <tr>\n",
       "      <th>2</th>\n",
       "      <td>17</td>\n",
       "      <td>75845891</td>\n",
       "      <td>75846109</td>\n",
       "      <td>HG002</td>\n",
       "      <td>580.681818</td>\n",
       "      <td>15.496001</td>\n",
       "      <td>22.0</td>\n",
       "      <td>1126.909091</td>\n",
       "      <td>202.803736</td>\n",
       "      <td>0.0</td>\n",
       "      <td>...</td>\n",
       "      <td>-1.0</td>\n",
       "      <td>218</td>\n",
       "      <td>0</td>\n",
       "      <td>-1</td>\n",
       "      <td>2</td>\n",
       "      <td>0.00</td>\n",
       "      <td>0.09</td>\n",
       "      <td>0.91</td>\n",
       "      <td>218</td>\n",
       "      <td>2</td>\n",
       "    </tr>\n",
       "  </tbody>\n",
       "</table>\n",
       "<p>3 rows × 183 columns</p>\n",
       "</div>"
      ],
      "text/plain": [
       "   chrom     start       end sample  Ill300x.alt_alnScore_mean  \\\n",
       "0     21  10842334  10842437  HG002                        NaN   \n",
       "1     10  42356979  42357254  HG002                        NaN   \n",
       "2     17  75845891  75846109  HG002                 580.681818   \n",
       "\n",
       "   Ill300x.alt_alnScore_std  Ill300x.alt_count  Ill300x.alt_insertSize_mean  \\\n",
       "0                       NaN                NaN                          NaN   \n",
       "1                       NaN                NaN                          NaN   \n",
       "2                 15.496001               22.0                  1126.909091   \n",
       "\n",
       "   Ill300x.alt_insertSize_std  Ill300x.alt_reason_alignmentScore  ...    \\\n",
       "0                         NaN                                NaN  ...     \n",
       "1                         NaN                                NaN  ...     \n",
       "2                  202.803736                                0.0  ...     \n",
       "\n",
       "   TenX.GT  size  GTcons  GTconflict  GTsupp  CN0_prob  CN1_prob  CN2_prob  \\\n",
       "0     -1.0   103       1          -1       2      0.02      0.04      0.94   \n",
       "1     -1.0   275       1          -1       1      0.00      0.02      0.98   \n",
       "2     -1.0   218       0          -1       2      0.00      0.09      0.91   \n",
       "\n",
       "   Svsize  Label  \n",
       "0     103      2  \n",
       "1     275      2  \n",
       "2     218      2  \n",
       "\n",
       "[3 rows x 183 columns]"
      ]
     },
     "execution_count": 177,
     "metadata": {},
     "output_type": "execute_result"
    }
   ],
   "source": [
    "df_crowd.head(3)"
   ]
  },
  {
   "cell_type": "code",
   "execution_count": 178,
   "metadata": {
    "collapsed": false
   },
   "outputs": [],
   "source": [
    "### Drop irrelevant columns\n",
    "df_crowd.drop(['GTcons'], axis=1, inplace = True)\n",
    "df_crowd.drop(['GTconflict'], axis=1, inplace = True)\n",
    "df_crowd.drop(['GTsupp'], axis=1, inplace = True)\n",
    "# df_crowd.drop('SVtype', axis=1)\n",
    "# df_crowd.drop('type',axis=1)\n",
    "df_crowd.drop(['start'],axis=1, inplace = True)\n",
    "df_crowd.drop(['end'],axis=1, inplace = True)\n",
    "df_crowd.drop(['chrom'],axis=1, inplace = True)\n",
    "# df_crowd.drop('Size',axis=1)\n",
    "df_crowd.drop(['CN0_prob'],axis=1, inplace = True)\n",
    "df_crowd.drop(['CN1_prob'],axis=1, inplace = True)\n",
    "df_crowd.drop(['CN2_prob'],axis=1, inplace = True)\n",
    "df_crowd.drop(['TenX.GT'],axis=1, inplace = True)\n",
    "df_crowd.drop(['pacbio.GT'],axis=1, inplace = True)\n",
    "df_crowd.drop(['IllMP.GT'],axis=1, inplace = True)\n",
    "df_crowd.drop(['Ill250.GT'],axis=1, inplace = True)\n",
    "df_crowd.drop(['Ill300x.GT'],axis=1, inplace = True)\n",
    "\n",
    "# df_crowd.drop('GTconflict', axis=1)\n",
    "# df_crowd.drop('GTsupp', axis=1)\n",
    "# # df_crowd.drop('SVtype', axis=1)\n",
    "# # df_crowd.drop('type',axis=1)\n",
    "# df_crowd.drop('start',axis=1)\n",
    "# df_crowd.drop('end',axis=1)\n",
    "# df_crowd.drop('chrom',axis=1)\n",
    "# # df_crowd.drop('Size',axis=1)\n",
    "# df_crowd.drop('CN0_prob',axis=1)\n",
    "# df_crowd.drop('CN1_prob',axis=1)\n",
    "# df_crowd.drop('CN2_prob',axis=1)\n",
    "# df_crowd.drop('TenX.GT',axis=1)\n",
    "# df_crowd.drop('pacbio.GT',axis=1)\n",
    "# df_crowd.drop('IllMP.GT',axis=1)\n",
    "# df_crowd.drop('Ill250.GT',axis=1)\n",
    "# df_crowd.drop('Ill300x.GT',axis=1)"
   ]
  },
  {
   "cell_type": "code",
   "execution_count": 179,
   "metadata": {
    "collapsed": false
   },
   "outputs": [],
   "source": [
    "df_crowd.drop(['sample'],axis=1, inplace = True)"
   ]
  },
  {
   "cell_type": "code",
   "execution_count": 180,
   "metadata": {
    "collapsed": true
   },
   "outputs": [],
   "source": [
    "df_crowd.to_csv('df_crowd_headers.csv', index=False)"
   ]
  },
  {
   "cell_type": "code",
   "execution_count": 181,
   "metadata": {
    "collapsed": false
   },
   "outputs": [
    {
     "data": {
      "text/html": [
       "<div>\n",
       "<table border=\"1\" class=\"dataframe\">\n",
       "  <thead>\n",
       "    <tr style=\"text-align: right;\">\n",
       "      <th></th>\n",
       "      <th>Ill300x.alt_alnScore_mean</th>\n",
       "      <th>Ill300x.alt_alnScore_std</th>\n",
       "      <th>Ill300x.alt_count</th>\n",
       "      <th>Ill300x.alt_insertSize_mean</th>\n",
       "      <th>Ill300x.alt_insertSize_std</th>\n",
       "      <th>Ill300x.alt_reason_alignmentScore</th>\n",
       "      <th>Ill300x.alt_reason_insertSizeScore</th>\n",
       "      <th>Ill300x.alt_reason_orientation</th>\n",
       "      <th>Ill300x.amb_alnScore_mean</th>\n",
       "      <th>Ill300x.amb_alnScore_std</th>\n",
       "      <th>...</th>\n",
       "      <th>TenX.HP2_ref_alnScore_mean</th>\n",
       "      <th>TenX.HP2_ref_alnScore_std</th>\n",
       "      <th>TenX.HP2_ref_count</th>\n",
       "      <th>TenX.HP2_ref_insertSize_mean</th>\n",
       "      <th>TenX.HP2_ref_insertSize_std</th>\n",
       "      <th>TenX.HP2_ref_reason_alignmentScore</th>\n",
       "      <th>TenX.HP2_ref_reason_orientation</th>\n",
       "      <th>size</th>\n",
       "      <th>Svsize</th>\n",
       "      <th>Label</th>\n",
       "    </tr>\n",
       "  </thead>\n",
       "  <tbody>\n",
       "    <tr>\n",
       "      <th>0</th>\n",
       "      <td>NaN</td>\n",
       "      <td>NaN</td>\n",
       "      <td>NaN</td>\n",
       "      <td>NaN</td>\n",
       "      <td>NaN</td>\n",
       "      <td>NaN</td>\n",
       "      <td>NaN</td>\n",
       "      <td>NaN</td>\n",
       "      <td>NaN</td>\n",
       "      <td>NaN</td>\n",
       "      <td>...</td>\n",
       "      <td>503.500000</td>\n",
       "      <td>25.500000</td>\n",
       "      <td>2.0</td>\n",
       "      <td>281.500000</td>\n",
       "      <td>26.500000</td>\n",
       "      <td>2.0</td>\n",
       "      <td>0.0</td>\n",
       "      <td>103</td>\n",
       "      <td>103</td>\n",
       "      <td>2</td>\n",
       "    </tr>\n",
       "    <tr>\n",
       "      <th>1</th>\n",
       "      <td>NaN</td>\n",
       "      <td>NaN</td>\n",
       "      <td>NaN</td>\n",
       "      <td>NaN</td>\n",
       "      <td>NaN</td>\n",
       "      <td>NaN</td>\n",
       "      <td>NaN</td>\n",
       "      <td>NaN</td>\n",
       "      <td>NaN</td>\n",
       "      <td>NaN</td>\n",
       "      <td>...</td>\n",
       "      <td>528.138889</td>\n",
       "      <td>20.997556</td>\n",
       "      <td>36.0</td>\n",
       "      <td>339.777778</td>\n",
       "      <td>122.282485</td>\n",
       "      <td>27.0</td>\n",
       "      <td>9.0</td>\n",
       "      <td>275</td>\n",
       "      <td>275</td>\n",
       "      <td>2</td>\n",
       "    </tr>\n",
       "    <tr>\n",
       "      <th>2</th>\n",
       "      <td>580.681818</td>\n",
       "      <td>15.496001</td>\n",
       "      <td>22.0</td>\n",
       "      <td>1126.909091</td>\n",
       "      <td>202.803736</td>\n",
       "      <td>0.0</td>\n",
       "      <td>22.0</td>\n",
       "      <td>0.0</td>\n",
       "      <td>547.209939</td>\n",
       "      <td>84.570535</td>\n",
       "      <td>...</td>\n",
       "      <td>517.333333</td>\n",
       "      <td>40.540789</td>\n",
       "      <td>3.0</td>\n",
       "      <td>819.666667</td>\n",
       "      <td>361.818862</td>\n",
       "      <td>3.0</td>\n",
       "      <td>0.0</td>\n",
       "      <td>218</td>\n",
       "      <td>218</td>\n",
       "      <td>2</td>\n",
       "    </tr>\n",
       "  </tbody>\n",
       "</table>\n",
       "<p>3 rows × 168 columns</p>\n",
       "</div>"
      ],
      "text/plain": [
       "   Ill300x.alt_alnScore_mean  Ill300x.alt_alnScore_std  Ill300x.alt_count  \\\n",
       "0                        NaN                       NaN                NaN   \n",
       "1                        NaN                       NaN                NaN   \n",
       "2                 580.681818                 15.496001               22.0   \n",
       "\n",
       "   Ill300x.alt_insertSize_mean  Ill300x.alt_insertSize_std  \\\n",
       "0                          NaN                         NaN   \n",
       "1                          NaN                         NaN   \n",
       "2                  1126.909091                  202.803736   \n",
       "\n",
       "   Ill300x.alt_reason_alignmentScore  Ill300x.alt_reason_insertSizeScore  \\\n",
       "0                                NaN                                 NaN   \n",
       "1                                NaN                                 NaN   \n",
       "2                                0.0                                22.0   \n",
       "\n",
       "   Ill300x.alt_reason_orientation  Ill300x.amb_alnScore_mean  \\\n",
       "0                             NaN                        NaN   \n",
       "1                             NaN                        NaN   \n",
       "2                             0.0                 547.209939   \n",
       "\n",
       "   Ill300x.amb_alnScore_std  ...    TenX.HP2_ref_alnScore_mean  \\\n",
       "0                       NaN  ...                    503.500000   \n",
       "1                       NaN  ...                    528.138889   \n",
       "2                 84.570535  ...                    517.333333   \n",
       "\n",
       "   TenX.HP2_ref_alnScore_std  TenX.HP2_ref_count  \\\n",
       "0                  25.500000                 2.0   \n",
       "1                  20.997556                36.0   \n",
       "2                  40.540789                 3.0   \n",
       "\n",
       "   TenX.HP2_ref_insertSize_mean  TenX.HP2_ref_insertSize_std  \\\n",
       "0                    281.500000                    26.500000   \n",
       "1                    339.777778                   122.282485   \n",
       "2                    819.666667                   361.818862   \n",
       "\n",
       "   TenX.HP2_ref_reason_alignmentScore  TenX.HP2_ref_reason_orientation  size  \\\n",
       "0                                 2.0                              0.0   103   \n",
       "1                                27.0                              9.0   275   \n",
       "2                                 3.0                              0.0   218   \n",
       "\n",
       "   Svsize  Label  \n",
       "0     103      2  \n",
       "1     275      2  \n",
       "2     218      2  \n",
       "\n",
       "[3 rows x 168 columns]"
      ]
     },
     "execution_count": 181,
     "metadata": {},
     "output_type": "execute_result"
    }
   ],
   "source": [
    "df_crowd.head(3)"
   ]
  },
  {
   "cell_type": "code",
   "execution_count": 182,
   "metadata": {
    "collapsed": true
   },
   "outputs": [],
   "source": [
    "# df = pd.read_csv('/Users/lmc2/Desktop/NIHFAES/FinalProject/Train/Data/CrowdVar.Train_250bp_HG002.csv') \n",
    "# X = pd.read_csv('/Users/lmc2/Desktop/NIHFAES/FinalProject/Train/Data/CrowdVar.Train_250bp_HG002.csv')\n",
    "# X.drop([\"sample\", \"chrom\", \"CN0_prob\", \"CN1_prob\", \"CN2_prob\", \"GTcons\", \"GTconflict\", \"GTsupp\"], axis=1, inplace=True)\n",
    "X = df_crowd"
   ]
  },
  {
   "cell_type": "code",
   "execution_count": 183,
   "metadata": {
    "collapsed": false
   },
   "outputs": [
    {
     "data": {
      "text/html": [
       "<div>\n",
       "<table border=\"1\" class=\"dataframe\">\n",
       "  <thead>\n",
       "    <tr style=\"text-align: right;\">\n",
       "      <th></th>\n",
       "      <th>Ill300x.alt_alnScore_mean</th>\n",
       "      <th>Ill300x.alt_alnScore_std</th>\n",
       "      <th>Ill300x.alt_count</th>\n",
       "      <th>Ill300x.alt_insertSize_mean</th>\n",
       "      <th>Ill300x.alt_insertSize_std</th>\n",
       "      <th>Ill300x.alt_reason_alignmentScore</th>\n",
       "      <th>Ill300x.alt_reason_insertSizeScore</th>\n",
       "      <th>Ill300x.alt_reason_orientation</th>\n",
       "      <th>Ill300x.amb_alnScore_mean</th>\n",
       "      <th>Ill300x.amb_alnScore_std</th>\n",
       "      <th>...</th>\n",
       "      <th>TenX.HP2_ref_alnScore_mean</th>\n",
       "      <th>TenX.HP2_ref_alnScore_std</th>\n",
       "      <th>TenX.HP2_ref_count</th>\n",
       "      <th>TenX.HP2_ref_insertSize_mean</th>\n",
       "      <th>TenX.HP2_ref_insertSize_std</th>\n",
       "      <th>TenX.HP2_ref_reason_alignmentScore</th>\n",
       "      <th>TenX.HP2_ref_reason_orientation</th>\n",
       "      <th>size</th>\n",
       "      <th>Svsize</th>\n",
       "      <th>Label</th>\n",
       "    </tr>\n",
       "  </thead>\n",
       "  <tbody>\n",
       "    <tr>\n",
       "      <th>0</th>\n",
       "      <td>NaN</td>\n",
       "      <td>NaN</td>\n",
       "      <td>NaN</td>\n",
       "      <td>NaN</td>\n",
       "      <td>NaN</td>\n",
       "      <td>NaN</td>\n",
       "      <td>NaN</td>\n",
       "      <td>NaN</td>\n",
       "      <td>NaN</td>\n",
       "      <td>NaN</td>\n",
       "      <td>...</td>\n",
       "      <td>503.500000</td>\n",
       "      <td>25.500000</td>\n",
       "      <td>2.0</td>\n",
       "      <td>281.500000</td>\n",
       "      <td>26.500000</td>\n",
       "      <td>2.0</td>\n",
       "      <td>0.0</td>\n",
       "      <td>103</td>\n",
       "      <td>103</td>\n",
       "      <td>2</td>\n",
       "    </tr>\n",
       "    <tr>\n",
       "      <th>1</th>\n",
       "      <td>NaN</td>\n",
       "      <td>NaN</td>\n",
       "      <td>NaN</td>\n",
       "      <td>NaN</td>\n",
       "      <td>NaN</td>\n",
       "      <td>NaN</td>\n",
       "      <td>NaN</td>\n",
       "      <td>NaN</td>\n",
       "      <td>NaN</td>\n",
       "      <td>NaN</td>\n",
       "      <td>...</td>\n",
       "      <td>528.138889</td>\n",
       "      <td>20.997556</td>\n",
       "      <td>36.0</td>\n",
       "      <td>339.777778</td>\n",
       "      <td>122.282485</td>\n",
       "      <td>27.0</td>\n",
       "      <td>9.0</td>\n",
       "      <td>275</td>\n",
       "      <td>275</td>\n",
       "      <td>2</td>\n",
       "    </tr>\n",
       "    <tr>\n",
       "      <th>2</th>\n",
       "      <td>580.681818</td>\n",
       "      <td>15.496001</td>\n",
       "      <td>22.0</td>\n",
       "      <td>1126.909091</td>\n",
       "      <td>202.803736</td>\n",
       "      <td>0.0</td>\n",
       "      <td>22.0</td>\n",
       "      <td>0.0</td>\n",
       "      <td>547.209939</td>\n",
       "      <td>84.570535</td>\n",
       "      <td>...</td>\n",
       "      <td>517.333333</td>\n",
       "      <td>40.540789</td>\n",
       "      <td>3.0</td>\n",
       "      <td>819.666667</td>\n",
       "      <td>361.818862</td>\n",
       "      <td>3.0</td>\n",
       "      <td>0.0</td>\n",
       "      <td>218</td>\n",
       "      <td>218</td>\n",
       "      <td>2</td>\n",
       "    </tr>\n",
       "  </tbody>\n",
       "</table>\n",
       "<p>3 rows × 168 columns</p>\n",
       "</div>"
      ],
      "text/plain": [
       "   Ill300x.alt_alnScore_mean  Ill300x.alt_alnScore_std  Ill300x.alt_count  \\\n",
       "0                        NaN                       NaN                NaN   \n",
       "1                        NaN                       NaN                NaN   \n",
       "2                 580.681818                 15.496001               22.0   \n",
       "\n",
       "   Ill300x.alt_insertSize_mean  Ill300x.alt_insertSize_std  \\\n",
       "0                          NaN                         NaN   \n",
       "1                          NaN                         NaN   \n",
       "2                  1126.909091                  202.803736   \n",
       "\n",
       "   Ill300x.alt_reason_alignmentScore  Ill300x.alt_reason_insertSizeScore  \\\n",
       "0                                NaN                                 NaN   \n",
       "1                                NaN                                 NaN   \n",
       "2                                0.0                                22.0   \n",
       "\n",
       "   Ill300x.alt_reason_orientation  Ill300x.amb_alnScore_mean  \\\n",
       "0                             NaN                        NaN   \n",
       "1                             NaN                        NaN   \n",
       "2                             0.0                 547.209939   \n",
       "\n",
       "   Ill300x.amb_alnScore_std  ...    TenX.HP2_ref_alnScore_mean  \\\n",
       "0                       NaN  ...                    503.500000   \n",
       "1                       NaN  ...                    528.138889   \n",
       "2                 84.570535  ...                    517.333333   \n",
       "\n",
       "   TenX.HP2_ref_alnScore_std  TenX.HP2_ref_count  \\\n",
       "0                  25.500000                 2.0   \n",
       "1                  20.997556                36.0   \n",
       "2                  40.540789                 3.0   \n",
       "\n",
       "   TenX.HP2_ref_insertSize_mean  TenX.HP2_ref_insertSize_std  \\\n",
       "0                    281.500000                    26.500000   \n",
       "1                    339.777778                   122.282485   \n",
       "2                    819.666667                   361.818862   \n",
       "\n",
       "   TenX.HP2_ref_reason_alignmentScore  TenX.HP2_ref_reason_orientation  size  \\\n",
       "0                                 2.0                              0.0   103   \n",
       "1                                27.0                              9.0   275   \n",
       "2                                 3.0                              0.0   218   \n",
       "\n",
       "   Svsize  Label  \n",
       "0     103      2  \n",
       "1     275      2  \n",
       "2     218      2  \n",
       "\n",
       "[3 rows x 168 columns]"
      ]
     },
     "execution_count": 183,
     "metadata": {},
     "output_type": "execute_result"
    }
   ],
   "source": [
    "X.head(3)"
   ]
  },
  {
   "cell_type": "code",
   "execution_count": 184,
   "metadata": {
    "collapsed": false,
    "scrolled": true
   },
   "outputs": [
    {
     "name": "stdout",
     "output_type": "stream",
     "text": [
      "Imputing row 1/1515 with 59 missing, elapsed time: 1.894\n",
      "Imputing row 101/1515 with 0 missing, elapsed time: 1.907\n",
      "Imputing row 201/1515 with 0 missing, elapsed time: 1.909\n",
      "Imputing row 301/1515 with 0 missing, elapsed time: 1.911\n",
      "Imputing row 401/1515 with 0 missing, elapsed time: 1.912\n",
      "Imputing row 501/1515 with 0 missing, elapsed time: 1.913\n",
      "Imputing row 601/1515 with 0 missing, elapsed time: 1.915\n",
      "Imputing row 701/1515 with 0 missing, elapsed time: 1.917\n",
      "Imputing row 801/1515 with 0 missing, elapsed time: 1.918\n",
      "Imputing row 901/1515 with 0 missing, elapsed time: 1.920\n",
      "Imputing row 1001/1515 with 0 missing, elapsed time: 1.922\n",
      "Imputing row 1101/1515 with 0 missing, elapsed time: 1.923\n",
      "Imputing row 1201/1515 with 0 missing, elapsed time: 1.927\n",
      "Imputing row 1301/1515 with 0 missing, elapsed time: 1.928\n",
      "Imputing row 1401/1515 with 0 missing, elapsed time: 1.930\n",
      "Imputing row 1501/1515 with 0 missing, elapsed time: 1.932\n"
     ]
    }
   ],
   "source": [
    "# Convert dataframe to matrix\n",
    "X=X.as_matrix()\n",
    "\n",
    "#Imput missing values from three closest observations\n",
    "X_imputed=KNN(k=3).complete(X)\n",
    "X=pd.DataFrame(X_imputed)"
   ]
  },
  {
   "cell_type": "code",
   "execution_count": 185,
   "metadata": {
    "collapsed": false
   },
   "outputs": [],
   "source": [
    "# Add header to the data frame\n",
    "X.columns=['Ill300x.alt_alnScore_mean','Ill300x.alt_alnScore_std','Ill300x.alt_count','Ill300x.alt_insertSize_mean','Ill300x.alt_insertSize_std','Ill300x.alt_reason_alignmentScore','Ill300x.alt_reason_insertSizeScore','Ill300x.alt_reason_orientation','Ill300x.amb_alnScore_mean','Ill300x.amb_alnScore_std','Ill300x.amb_count','Ill300x.amb_insertSize_mean','Ill300x.amb_insertSize_std','Ill300x.amb_reason_alignmentScore_alignmentScore','Ill300x.amb_reason_alignmentScore_orientation','Ill300x.amb_reason_flanking','Ill300x.amb_reason_insertSizeScore_alignmentScore','Ill300x.amb_reason_insertSizeScore_insertSizeScore','Ill300x.amb_reason_multimapping','Ill300x.amb_reason_orientation_alignmentScore','Ill300x.amb_reason_orientation_orientation','Ill300x.amb_reason_same_scores','Ill300x.ref_alnScore_mean','Ill300x.ref_alnScore_std','Ill300x.ref_count','Ill300x.ref_insertSize_mean','Ill300x.ref_insertSize_std','Ill300x.ref_reason_alignmentScore','Ill300x.ref_reason_insertSizeScore','Ill300x.ref_reason_orientation','Ill250.alt_alnScore_mean','Ill250.alt_alnScore_std','Ill250.alt_count','Ill250.alt_insertSize_mean','Ill250.alt_insertSize_std','Ill250.alt_reason_alignmentScore','Ill250.alt_reason_insertSizeScore','Ill250.alt_reason_orientation','Ill250.amb_alnScore_mean','Ill250.amb_alnScore_std','Ill250.amb_count','Ill250.amb_insertSize_mean','Ill250.amb_insertSize_std','Ill250.amb_reason_alignmentScore_alignmentScore','Ill250.amb_reason_alignmentScore_orientation','Ill250.amb_reason_flanking','Ill250.amb_reason_insertSizeScore_alignmentScore','Ill250.amb_reason_insertSizeScore_insertSizeScore','Ill250.amb_reason_multimapping','Ill250.amb_reason_orientation_alignmentScore','Ill250.amb_reason_orientation_orientation','Ill250.amb_reason_same_scores','Ill250.ref_alnScore_mean','Ill250.ref_alnScore_std','Ill250.ref_count','Ill250.ref_insertSize_mean','Ill250.ref_insertSize_std','Ill250.ref_reason_alignmentScore','Ill250.ref_reason_orientation','IllMP.alt_alnScore_mean','IllMP.alt_alnScore_std','IllMP.alt_count','IllMP.alt_insertSize_mean','IllMP.alt_insertSize_std','IllMP.alt_reason_alignmentScore','IllMP.alt_reason_insertSizeScore','IllMP.alt_reason_orientation','IllMP.amb_alnScore_mean','IllMP.amb_alnScore_std','IllMP.amb_count','IllMP.amb_insertSize_mean','IllMP.amb_insertSize_std','IllMP.amb_reason_alignmentScore_alignmentScore','IllMP.amb_reason_alignmentScore_orientation','IllMP.amb_reason_flanking','IllMP.amb_reason_insertSizeScore_insertSizeScore','IllMP.amb_reason_multimapping','IllMP.amb_reason_orientation_alignmentScore','IllMP.amb_reason_orientation_orientation','IllMP.amb_reason_same_scores','IllMP.ref_alnScore_mean','IllMP.ref_alnScore_std','IllMP.ref_count','IllMP.ref_insertSize_mean','IllMP.ref_insertSize_std','IllMP.ref_reason_alignmentScore','IllMP.ref_reason_insertSizeScore','IllMP.ref_reason_orientation','pacbio.alt_alnScore_mean','pacbio.alt_alnScore_std','pacbio.alt_count','pacbio.alt_insertSize_mean','pacbio.alt_insertSize_std','pacbio.alt_reason_alignmentScore','pacbio.amb_alnScore_mean','pacbio.amb_alnScore_std','pacbio.amb_count','pacbio.amb_insertSize_mean','pacbio.amb_insertSize_std','pacbio.amb_reason_alignmentScore_alignmentScore','pacbio.amb_reason_flanking','pacbio.amb_reason_multimapping','pacbio.amb_reason_same_scores','pacbio.ref_alnScore_mean','pacbio.ref_alnScore_std','pacbio.ref_count','pacbio.ref_insertSize_mean','pacbio.ref_insertSize_std','pacbio.ref_reason_alignmentScore','TenX.HP1_alt_alnScore_mean','TenX.HP1_alt_alnScore_std','TenX.HP1_alt_count','TenX.HP1_alt_insertSize_mean','TenX.HP1_alt_insertSize_std','TenX.HP1_alt_reason_alignmentScore','TenX.HP1_alt_reason_insertSizeScore','TenX.HP1_alt_reason_orientation','TenX.HP1_amb_alnScore_mean','TenX.HP1_amb_alnScore_std','TenX.HP1_amb_count','TenX.HP1_amb_insertSize_mean','TenX.HP1_amb_insertSize_std','TenX.HP1_amb_reason_alignmentScore_alignmentScore','TenX.HP1_amb_reason_alignmentScore_orientation','TenX.HP1_amb_reason_flanking','TenX.HP1_amb_reason_insertSizeScore_alignmentScore','TenX.HP1_amb_reason_multimapping','TenX.HP1_amb_reason_orientation_alignmentScore','TenX.HP1_amb_reason_orientation_orientation','TenX.HP1_amb_reason_same_scores','TenX.HP1_ref_alnScore_mean','TenX.HP1_ref_alnScore_std','TenX.HP1_ref_count','TenX.HP1_ref_insertSize_mean','TenX.HP1_ref_insertSize_std','TenX.HP1_ref_reason_alignmentScore','TenX.HP1_ref_reason_orientation','TenX.HP2_alt_alnScore_mean','TenX.HP2_alt_alnScore_std','TenX.HP2_alt_count','TenX.HP2_alt_insertSize_mean','TenX.HP2_alt_insertSize_std','TenX.HP2_alt_reason_alignmentScore','TenX.HP2_alt_reason_insertSizeScore','TenX.HP2_alt_reason_orientation','TenX.HP2_amb_alnScore_mean','TenX.HP2_amb_alnScore_std','TenX.HP2_amb_count','TenX.HP2_amb_insertSize_mean','TenX.HP2_amb_insertSize_std','TenX.HP2_amb_reason_alignmentScore_alignmentScore','TenX.HP2_amb_reason_alignmentScore_orientation','TenX.HP2_amb_reason_flanking','TenX.HP2_amb_reason_insertSizeScore_alignmentScore','TenX.HP2_amb_reason_multimapping','TenX.HP2_amb_reason_orientation_alignmentScore','TenX.HP2_amb_reason_orientation_orientation','TenX.HP2_amb_reason_same_scores','TenX.HP2_ref_alnScore_mean','TenX.HP2_ref_alnScore_std','TenX.HP2_ref_count','TenX.HP2_ref_insertSize_mean','TenX.HP2_ref_insertSize_std','TenX.HP2_ref_reason_alignmentScore','TenX.HP2_ref_reason_orientation','size','Svsize','Label']"
   ]
  },
  {
   "cell_type": "code",
   "execution_count": 186,
   "metadata": {
    "collapsed": false
   },
   "outputs": [
    {
     "data": {
      "text/html": [
       "<div>\n",
       "<table border=\"1\" class=\"dataframe\">\n",
       "  <thead>\n",
       "    <tr style=\"text-align: right;\">\n",
       "      <th></th>\n",
       "      <th>Ill300x.alt_alnScore_mean</th>\n",
       "      <th>Ill300x.alt_alnScore_std</th>\n",
       "      <th>Ill300x.alt_count</th>\n",
       "      <th>Ill300x.alt_insertSize_mean</th>\n",
       "      <th>Ill300x.alt_insertSize_std</th>\n",
       "      <th>Ill300x.alt_reason_alignmentScore</th>\n",
       "      <th>Ill300x.alt_reason_insertSizeScore</th>\n",
       "      <th>Ill300x.alt_reason_orientation</th>\n",
       "      <th>Ill300x.amb_alnScore_mean</th>\n",
       "      <th>Ill300x.amb_alnScore_std</th>\n",
       "      <th>...</th>\n",
       "      <th>TenX.HP2_ref_alnScore_mean</th>\n",
       "      <th>TenX.HP2_ref_alnScore_std</th>\n",
       "      <th>TenX.HP2_ref_count</th>\n",
       "      <th>TenX.HP2_ref_insertSize_mean</th>\n",
       "      <th>TenX.HP2_ref_insertSize_std</th>\n",
       "      <th>TenX.HP2_ref_reason_alignmentScore</th>\n",
       "      <th>TenX.HP2_ref_reason_orientation</th>\n",
       "      <th>size</th>\n",
       "      <th>Svsize</th>\n",
       "      <th>Label</th>\n",
       "    </tr>\n",
       "  </thead>\n",
       "  <tbody>\n",
       "    <tr>\n",
       "      <th>0</th>\n",
       "      <td>586.375534</td>\n",
       "      <td>9.673593</td>\n",
       "      <td>229.624201</td>\n",
       "      <td>622.346332</td>\n",
       "      <td>167.207706</td>\n",
       "      <td>136.239193</td>\n",
       "      <td>93.385008</td>\n",
       "      <td>0.0</td>\n",
       "      <td>536.011600</td>\n",
       "      <td>89.944503</td>\n",
       "      <td>...</td>\n",
       "      <td>503.500000</td>\n",
       "      <td>25.500000</td>\n",
       "      <td>2.0</td>\n",
       "      <td>281.500000</td>\n",
       "      <td>26.500000</td>\n",
       "      <td>2.0</td>\n",
       "      <td>0.0</td>\n",
       "      <td>103.0</td>\n",
       "      <td>103.0</td>\n",
       "      <td>2.0</td>\n",
       "    </tr>\n",
       "    <tr>\n",
       "      <th>1</th>\n",
       "      <td>585.158132</td>\n",
       "      <td>8.614902</td>\n",
       "      <td>226.527365</td>\n",
       "      <td>638.034493</td>\n",
       "      <td>156.638135</td>\n",
       "      <td>118.938271</td>\n",
       "      <td>107.589093</td>\n",
       "      <td>0.0</td>\n",
       "      <td>524.344866</td>\n",
       "      <td>93.783706</td>\n",
       "      <td>...</td>\n",
       "      <td>528.138889</td>\n",
       "      <td>20.997556</td>\n",
       "      <td>36.0</td>\n",
       "      <td>339.777778</td>\n",
       "      <td>122.282485</td>\n",
       "      <td>27.0</td>\n",
       "      <td>9.0</td>\n",
       "      <td>275.0</td>\n",
       "      <td>275.0</td>\n",
       "      <td>2.0</td>\n",
       "    </tr>\n",
       "    <tr>\n",
       "      <th>2</th>\n",
       "      <td>580.681818</td>\n",
       "      <td>15.496001</td>\n",
       "      <td>22.000000</td>\n",
       "      <td>1126.909091</td>\n",
       "      <td>202.803736</td>\n",
       "      <td>0.000000</td>\n",
       "      <td>22.000000</td>\n",
       "      <td>0.0</td>\n",
       "      <td>547.209939</td>\n",
       "      <td>84.570535</td>\n",
       "      <td>...</td>\n",
       "      <td>517.333333</td>\n",
       "      <td>40.540789</td>\n",
       "      <td>3.0</td>\n",
       "      <td>819.666667</td>\n",
       "      <td>361.818862</td>\n",
       "      <td>3.0</td>\n",
       "      <td>0.0</td>\n",
       "      <td>218.0</td>\n",
       "      <td>218.0</td>\n",
       "      <td>2.0</td>\n",
       "    </tr>\n",
       "  </tbody>\n",
       "</table>\n",
       "<p>3 rows × 168 columns</p>\n",
       "</div>"
      ],
      "text/plain": [
       "   Ill300x.alt_alnScore_mean  Ill300x.alt_alnScore_std  Ill300x.alt_count  \\\n",
       "0                 586.375534                  9.673593         229.624201   \n",
       "1                 585.158132                  8.614902         226.527365   \n",
       "2                 580.681818                 15.496001          22.000000   \n",
       "\n",
       "   Ill300x.alt_insertSize_mean  Ill300x.alt_insertSize_std  \\\n",
       "0                   622.346332                  167.207706   \n",
       "1                   638.034493                  156.638135   \n",
       "2                  1126.909091                  202.803736   \n",
       "\n",
       "   Ill300x.alt_reason_alignmentScore  Ill300x.alt_reason_insertSizeScore  \\\n",
       "0                         136.239193                           93.385008   \n",
       "1                         118.938271                          107.589093   \n",
       "2                           0.000000                           22.000000   \n",
       "\n",
       "   Ill300x.alt_reason_orientation  Ill300x.amb_alnScore_mean  \\\n",
       "0                             0.0                 536.011600   \n",
       "1                             0.0                 524.344866   \n",
       "2                             0.0                 547.209939   \n",
       "\n",
       "   Ill300x.amb_alnScore_std  ...    TenX.HP2_ref_alnScore_mean  \\\n",
       "0                 89.944503  ...                    503.500000   \n",
       "1                 93.783706  ...                    528.138889   \n",
       "2                 84.570535  ...                    517.333333   \n",
       "\n",
       "   TenX.HP2_ref_alnScore_std  TenX.HP2_ref_count  \\\n",
       "0                  25.500000                 2.0   \n",
       "1                  20.997556                36.0   \n",
       "2                  40.540789                 3.0   \n",
       "\n",
       "   TenX.HP2_ref_insertSize_mean  TenX.HP2_ref_insertSize_std  \\\n",
       "0                    281.500000                    26.500000   \n",
       "1                    339.777778                   122.282485   \n",
       "2                    819.666667                   361.818862   \n",
       "\n",
       "   TenX.HP2_ref_reason_alignmentScore  TenX.HP2_ref_reason_orientation   size  \\\n",
       "0                                 2.0                              0.0  103.0   \n",
       "1                                27.0                              9.0  275.0   \n",
       "2                                 3.0                              0.0  218.0   \n",
       "\n",
       "   Svsize  Label  \n",
       "0   103.0    2.0  \n",
       "1   275.0    2.0  \n",
       "2   218.0    2.0  \n",
       "\n",
       "[3 rows x 168 columns]"
      ]
     },
     "execution_count": 186,
     "metadata": {},
     "output_type": "execute_result"
    }
   ],
   "source": [
    "X.head(3)"
   ]
  },
  {
   "cell_type": "code",
   "execution_count": 187,
   "metadata": {
    "collapsed": false
   },
   "outputs": [],
   "source": [
    "# Store Labels in a new 'Y' DataFrame\n",
    "Y = pd.DataFrame()\n",
    "Y['Label'] = X['Label']\n",
    "#Y = X.pop('Label')"
   ]
  },
  {
   "cell_type": "code",
   "execution_count": 247,
   "metadata": {
    "collapsed": false
   },
   "outputs": [],
   "source": [
    "# Remove labels from the X dataframe: Select all columns except for the label column\n",
    "X=X[['Ill300x.alt_alnScore_mean','Ill300x.alt_alnScore_std','Ill300x.alt_count','Ill300x.alt_insertSize_mean','Ill300x.alt_insertSize_std','Ill300x.alt_reason_alignmentScore','Ill300x.alt_reason_insertSizeScore','Ill300x.alt_reason_orientation','Ill300x.amb_alnScore_mean','Ill300x.amb_alnScore_std','Ill300x.amb_count','Ill300x.amb_insertSize_mean','Ill300x.amb_insertSize_std','Ill300x.amb_reason_alignmentScore_alignmentScore','Ill300x.amb_reason_alignmentScore_orientation','Ill300x.amb_reason_flanking','Ill300x.amb_reason_insertSizeScore_alignmentScore','Ill300x.amb_reason_insertSizeScore_insertSizeScore','Ill300x.amb_reason_multimapping','Ill300x.amb_reason_orientation_alignmentScore','Ill300x.amb_reason_orientation_orientation','Ill300x.amb_reason_same_scores','Ill300x.ref_alnScore_mean','Ill300x.ref_alnScore_std','Ill300x.ref_count','Ill300x.ref_insertSize_mean','Ill300x.ref_insertSize_std','Ill300x.ref_reason_alignmentScore','Ill300x.ref_reason_insertSizeScore','Ill300x.ref_reason_orientation','Ill250.alt_alnScore_mean','Ill250.alt_alnScore_std','Ill250.alt_count','Ill250.alt_insertSize_mean','Ill250.alt_insertSize_std','Ill250.alt_reason_alignmentScore','Ill250.alt_reason_insertSizeScore','Ill250.alt_reason_orientation','Ill250.amb_alnScore_mean','Ill250.amb_alnScore_std','Ill250.amb_count','Ill250.amb_insertSize_mean','Ill250.amb_insertSize_std','Ill250.amb_reason_alignmentScore_alignmentScore','Ill250.amb_reason_alignmentScore_orientation','Ill250.amb_reason_flanking','Ill250.amb_reason_insertSizeScore_alignmentScore','Ill250.amb_reason_multimapping','Ill250.amb_reason_orientation_alignmentScore','Ill250.amb_reason_orientation_orientation','Ill250.amb_reason_same_scores','Ill250.ref_alnScore_mean','Ill250.ref_alnScore_std','Ill250.ref_count','Ill250.ref_insertSize_mean','Ill250.ref_insertSize_std','Ill250.ref_reason_alignmentScore','Ill250.ref_reason_orientation','IllMP.alt_alnScore_mean','IllMP.alt_alnScore_std','IllMP.alt_count','IllMP.alt_insertSize_mean','IllMP.alt_insertSize_std','IllMP.alt_reason_alignmentScore','IllMP.alt_reason_insertSizeScore','IllMP.alt_reason_orientation','IllMP.amb_alnScore_mean','IllMP.amb_alnScore_std','IllMP.amb_count','IllMP.amb_insertSize_mean','IllMP.amb_insertSize_std','IllMP.amb_reason_alignmentScore_alignmentScore','IllMP.amb_reason_alignmentScore_orientation','IllMP.amb_reason_flanking','IllMP.amb_reason_insertSizeScore_insertSizeScore','IllMP.amb_reason_multimapping','IllMP.amb_reason_orientation_alignmentScore','IllMP.amb_reason_orientation_orientation','IllMP.amb_reason_same_scores','IllMP.ref_alnScore_mean','IllMP.ref_alnScore_std','IllMP.ref_count','IllMP.ref_insertSize_mean','IllMP.ref_insertSize_std','IllMP.ref_reason_alignmentScore','IllMP.ref_reason_insertSizeScore','IllMP.ref_reason_orientation','pacbio.alt_alnScore_mean','pacbio.alt_alnScore_std','pacbio.alt_count','pacbio.alt_insertSize_mean','pacbio.alt_insertSize_std','pacbio.alt_reason_alignmentScore','pacbio.amb_alnScore_mean','pacbio.amb_alnScore_std','pacbio.amb_count','pacbio.amb_insertSize_mean','pacbio.amb_insertSize_std','pacbio.amb_reason_alignmentScore_alignmentScore','pacbio.amb_reason_flanking','pacbio.amb_reason_multimapping','pacbio.amb_reason_same_scores','pacbio.ref_alnScore_mean','pacbio.ref_alnScore_std','pacbio.ref_count','pacbio.ref_insertSize_mean','pacbio.ref_insertSize_std','pacbio.ref_reason_alignmentScore','TenX.HP1_alt_alnScore_mean','TenX.HP1_alt_alnScore_std','TenX.HP1_alt_count','TenX.HP1_alt_insertSize_mean','TenX.HP1_alt_insertSize_std','TenX.HP1_alt_reason_alignmentScore','TenX.HP1_alt_reason_insertSizeScore','TenX.HP1_alt_reason_orientation','TenX.HP1_amb_alnScore_mean','TenX.HP1_amb_alnScore_std','TenX.HP1_amb_count','TenX.HP1_amb_insertSize_mean','TenX.HP1_amb_insertSize_std','TenX.HP1_amb_reason_alignmentScore_alignmentScore','TenX.HP1_amb_reason_alignmentScore_orientation','TenX.HP1_amb_reason_flanking','TenX.HP1_amb_reason_insertSizeScore_alignmentScore','TenX.HP1_amb_reason_multimapping','TenX.HP1_amb_reason_orientation_alignmentScore','TenX.HP1_amb_reason_orientation_orientation','TenX.HP1_amb_reason_same_scores','TenX.HP1_ref_alnScore_mean','TenX.HP1_ref_alnScore_std','TenX.HP1_ref_count','TenX.HP1_ref_insertSize_mean','TenX.HP1_ref_insertSize_std','TenX.HP1_ref_reason_alignmentScore','TenX.HP1_ref_reason_orientation','TenX.HP2_alt_alnScore_mean','TenX.HP2_alt_alnScore_std','TenX.HP2_alt_count','TenX.HP2_alt_insertSize_mean','TenX.HP2_alt_insertSize_std','TenX.HP2_alt_reason_alignmentScore','TenX.HP2_alt_reason_insertSizeScore','TenX.HP2_alt_reason_orientation','TenX.HP2_amb_alnScore_mean','TenX.HP2_amb_alnScore_std','TenX.HP2_amb_count','TenX.HP2_amb_insertSize_mean','TenX.HP2_amb_insertSize_std','TenX.HP2_amb_reason_alignmentScore_alignmentScore','TenX.HP2_amb_reason_alignmentScore_orientation','TenX.HP2_amb_reason_flanking','TenX.HP2_amb_reason_insertSizeScore_alignmentScore','TenX.HP2_amb_reason_multimapping','TenX.HP2_amb_reason_orientation_alignmentScore','TenX.HP2_amb_reason_orientation_orientation','TenX.HP2_amb_reason_same_scores','TenX.HP2_ref_alnScore_mean','TenX.HP2_ref_alnScore_std','TenX.HP2_ref_count','TenX.HP2_ref_insertSize_mean','TenX.HP2_ref_insertSize_std','TenX.HP2_ref_reason_alignmentScore','TenX.HP2_ref_reason_orientation']]"
   ]
  },
  {
   "cell_type": "code",
   "execution_count": 248,
   "metadata": {
    "collapsed": false
   },
   "outputs": [
    {
     "data": {
      "text/html": [
       "<div>\n",
       "<table border=\"1\" class=\"dataframe\">\n",
       "  <thead>\n",
       "    <tr style=\"text-align: right;\">\n",
       "      <th></th>\n",
       "      <th>Ill300x.alt_alnScore_mean</th>\n",
       "      <th>Ill300x.alt_alnScore_std</th>\n",
       "      <th>Ill300x.alt_count</th>\n",
       "      <th>Ill300x.alt_insertSize_mean</th>\n",
       "      <th>Ill300x.alt_insertSize_std</th>\n",
       "      <th>Ill300x.alt_reason_alignmentScore</th>\n",
       "      <th>Ill300x.alt_reason_insertSizeScore</th>\n",
       "      <th>Ill300x.alt_reason_orientation</th>\n",
       "      <th>Ill300x.amb_alnScore_mean</th>\n",
       "      <th>Ill300x.amb_alnScore_std</th>\n",
       "      <th>...</th>\n",
       "      <th>TenX.HP2_amb_reason_orientation_alignmentScore</th>\n",
       "      <th>TenX.HP2_amb_reason_orientation_orientation</th>\n",
       "      <th>TenX.HP2_amb_reason_same_scores</th>\n",
       "      <th>TenX.HP2_ref_alnScore_mean</th>\n",
       "      <th>TenX.HP2_ref_alnScore_std</th>\n",
       "      <th>TenX.HP2_ref_count</th>\n",
       "      <th>TenX.HP2_ref_insertSize_mean</th>\n",
       "      <th>TenX.HP2_ref_insertSize_std</th>\n",
       "      <th>TenX.HP2_ref_reason_alignmentScore</th>\n",
       "      <th>TenX.HP2_ref_reason_orientation</th>\n",
       "    </tr>\n",
       "  </thead>\n",
       "  <tbody>\n",
       "    <tr>\n",
       "      <th>0</th>\n",
       "      <td>586.375534</td>\n",
       "      <td>9.673593</td>\n",
       "      <td>229.624201</td>\n",
       "      <td>622.346332</td>\n",
       "      <td>167.207706</td>\n",
       "      <td>136.239193</td>\n",
       "      <td>93.385008</td>\n",
       "      <td>0.0</td>\n",
       "      <td>536.011600</td>\n",
       "      <td>89.944503</td>\n",
       "      <td>...</td>\n",
       "      <td>0.0</td>\n",
       "      <td>107.0</td>\n",
       "      <td>35.0</td>\n",
       "      <td>503.500000</td>\n",
       "      <td>25.500000</td>\n",
       "      <td>2.0</td>\n",
       "      <td>281.500000</td>\n",
       "      <td>26.500000</td>\n",
       "      <td>2.0</td>\n",
       "      <td>0.0</td>\n",
       "    </tr>\n",
       "    <tr>\n",
       "      <th>1</th>\n",
       "      <td>585.158132</td>\n",
       "      <td>8.614902</td>\n",
       "      <td>226.527365</td>\n",
       "      <td>638.034493</td>\n",
       "      <td>156.638135</td>\n",
       "      <td>118.938271</td>\n",
       "      <td>107.589093</td>\n",
       "      <td>0.0</td>\n",
       "      <td>524.344866</td>\n",
       "      <td>93.783706</td>\n",
       "      <td>...</td>\n",
       "      <td>11.0</td>\n",
       "      <td>383.0</td>\n",
       "      <td>0.0</td>\n",
       "      <td>528.138889</td>\n",
       "      <td>20.997556</td>\n",
       "      <td>36.0</td>\n",
       "      <td>339.777778</td>\n",
       "      <td>122.282485</td>\n",
       "      <td>27.0</td>\n",
       "      <td>9.0</td>\n",
       "    </tr>\n",
       "    <tr>\n",
       "      <th>2</th>\n",
       "      <td>580.681818</td>\n",
       "      <td>15.496001</td>\n",
       "      <td>22.000000</td>\n",
       "      <td>1126.909091</td>\n",
       "      <td>202.803736</td>\n",
       "      <td>0.000000</td>\n",
       "      <td>22.000000</td>\n",
       "      <td>0.0</td>\n",
       "      <td>547.209939</td>\n",
       "      <td>84.570535</td>\n",
       "      <td>...</td>\n",
       "      <td>0.0</td>\n",
       "      <td>13.0</td>\n",
       "      <td>0.0</td>\n",
       "      <td>517.333333</td>\n",
       "      <td>40.540789</td>\n",
       "      <td>3.0</td>\n",
       "      <td>819.666667</td>\n",
       "      <td>361.818862</td>\n",
       "      <td>3.0</td>\n",
       "      <td>0.0</td>\n",
       "    </tr>\n",
       "    <tr>\n",
       "      <th>3</th>\n",
       "      <td>588.541516</td>\n",
       "      <td>7.395182</td>\n",
       "      <td>277.000000</td>\n",
       "      <td>625.779783</td>\n",
       "      <td>158.419809</td>\n",
       "      <td>169.000000</td>\n",
       "      <td>108.000000</td>\n",
       "      <td>0.0</td>\n",
       "      <td>523.789116</td>\n",
       "      <td>95.441592</td>\n",
       "      <td>...</td>\n",
       "      <td>0.0</td>\n",
       "      <td>5.0</td>\n",
       "      <td>0.0</td>\n",
       "      <td>0.000000</td>\n",
       "      <td>0.000000</td>\n",
       "      <td>0.0</td>\n",
       "      <td>0.000000</td>\n",
       "      <td>0.000000</td>\n",
       "      <td>0.0</td>\n",
       "      <td>0.0</td>\n",
       "    </tr>\n",
       "    <tr>\n",
       "      <th>4</th>\n",
       "      <td>577.288462</td>\n",
       "      <td>7.133354</td>\n",
       "      <td>156.000000</td>\n",
       "      <td>606.762820</td>\n",
       "      <td>168.474152</td>\n",
       "      <td>126.000000</td>\n",
       "      <td>30.000000</td>\n",
       "      <td>0.0</td>\n",
       "      <td>540.320059</td>\n",
       "      <td>78.973119</td>\n",
       "      <td>...</td>\n",
       "      <td>0.0</td>\n",
       "      <td>4.0</td>\n",
       "      <td>3.0</td>\n",
       "      <td>520.000000</td>\n",
       "      <td>0.000000</td>\n",
       "      <td>1.0</td>\n",
       "      <td>136.000000</td>\n",
       "      <td>0.000000</td>\n",
       "      <td>1.0</td>\n",
       "      <td>0.0</td>\n",
       "    </tr>\n",
       "  </tbody>\n",
       "</table>\n",
       "<p>5 rows × 164 columns</p>\n",
       "</div>"
      ],
      "text/plain": [
       "   Ill300x.alt_alnScore_mean  Ill300x.alt_alnScore_std  Ill300x.alt_count  \\\n",
       "0                 586.375534                  9.673593         229.624201   \n",
       "1                 585.158132                  8.614902         226.527365   \n",
       "2                 580.681818                 15.496001          22.000000   \n",
       "3                 588.541516                  7.395182         277.000000   \n",
       "4                 577.288462                  7.133354         156.000000   \n",
       "\n",
       "   Ill300x.alt_insertSize_mean  Ill300x.alt_insertSize_std  \\\n",
       "0                   622.346332                  167.207706   \n",
       "1                   638.034493                  156.638135   \n",
       "2                  1126.909091                  202.803736   \n",
       "3                   625.779783                  158.419809   \n",
       "4                   606.762820                  168.474152   \n",
       "\n",
       "   Ill300x.alt_reason_alignmentScore  Ill300x.alt_reason_insertSizeScore  \\\n",
       "0                         136.239193                           93.385008   \n",
       "1                         118.938271                          107.589093   \n",
       "2                           0.000000                           22.000000   \n",
       "3                         169.000000                          108.000000   \n",
       "4                         126.000000                           30.000000   \n",
       "\n",
       "   Ill300x.alt_reason_orientation  Ill300x.amb_alnScore_mean  \\\n",
       "0                             0.0                 536.011600   \n",
       "1                             0.0                 524.344866   \n",
       "2                             0.0                 547.209939   \n",
       "3                             0.0                 523.789116   \n",
       "4                             0.0                 540.320059   \n",
       "\n",
       "   Ill300x.amb_alnScore_std               ...                 \\\n",
       "0                 89.944503               ...                  \n",
       "1                 93.783706               ...                  \n",
       "2                 84.570535               ...                  \n",
       "3                 95.441592               ...                  \n",
       "4                 78.973119               ...                  \n",
       "\n",
       "   TenX.HP2_amb_reason_orientation_alignmentScore  \\\n",
       "0                                             0.0   \n",
       "1                                            11.0   \n",
       "2                                             0.0   \n",
       "3                                             0.0   \n",
       "4                                             0.0   \n",
       "\n",
       "   TenX.HP2_amb_reason_orientation_orientation  \\\n",
       "0                                        107.0   \n",
       "1                                        383.0   \n",
       "2                                         13.0   \n",
       "3                                          5.0   \n",
       "4                                          4.0   \n",
       "\n",
       "   TenX.HP2_amb_reason_same_scores  TenX.HP2_ref_alnScore_mean  \\\n",
       "0                             35.0                  503.500000   \n",
       "1                              0.0                  528.138889   \n",
       "2                              0.0                  517.333333   \n",
       "3                              0.0                    0.000000   \n",
       "4                              3.0                  520.000000   \n",
       "\n",
       "   TenX.HP2_ref_alnScore_std  TenX.HP2_ref_count  \\\n",
       "0                  25.500000                 2.0   \n",
       "1                  20.997556                36.0   \n",
       "2                  40.540789                 3.0   \n",
       "3                   0.000000                 0.0   \n",
       "4                   0.000000                 1.0   \n",
       "\n",
       "   TenX.HP2_ref_insertSize_mean  TenX.HP2_ref_insertSize_std  \\\n",
       "0                    281.500000                    26.500000   \n",
       "1                    339.777778                   122.282485   \n",
       "2                    819.666667                   361.818862   \n",
       "3                      0.000000                     0.000000   \n",
       "4                    136.000000                     0.000000   \n",
       "\n",
       "   TenX.HP2_ref_reason_alignmentScore  TenX.HP2_ref_reason_orientation  \n",
       "0                                 2.0                              0.0  \n",
       "1                                27.0                              9.0  \n",
       "2                                 3.0                              0.0  \n",
       "3                                 0.0                              0.0  \n",
       "4                                 1.0                              0.0  \n",
       "\n",
       "[5 rows x 164 columns]"
      ]
     },
     "execution_count": 248,
     "metadata": {},
     "output_type": "execute_result"
    }
   ],
   "source": [
    "X.head()"
   ]
  },
  {
   "cell_type": "code",
   "execution_count": 249,
   "metadata": {
    "collapsed": false
   },
   "outputs": [],
   "source": [
    "# Train Test Split\n",
    "# Train on 70% of the data and test on 30%\n",
    "X_train, X_test, y_train, y_test = train_test_split(X, Y, test_size=0.7, random_state=0)"
   ]
  },
  {
   "cell_type": "code",
   "execution_count": 250,
   "metadata": {
    "collapsed": false
   },
   "outputs": [
    {
     "name": "stderr",
     "output_type": "stream",
     "text": [
      "/Users/lmc2/anaconda/envs/NIHFAES/lib/python3.5/site-packages/ipykernel/__main__.py:4: DataConversionWarning:\n",
      "\n",
      "A column-vector y was passed when a 1d array was expected. Please change the shape of y to (n_samples,), for example using ravel().\n",
      "\n"
     ]
    },
    {
     "data": {
      "text/plain": [
       "RandomForestClassifier(bootstrap=True, class_weight=None, criterion='gini',\n",
       "            max_depth=None, max_features='auto', max_leaf_nodes=None,\n",
       "            min_impurity_split=1e-07, min_samples_leaf=1,\n",
       "            min_samples_split=2, min_weight_fraction_leaf=0.0,\n",
       "            n_estimators=10, n_jobs=1, oob_score=False, random_state=None,\n",
       "            verbose=0, warm_start=False)"
      ]
     },
     "execution_count": 250,
     "metadata": {},
     "output_type": "execute_result"
    }
   ],
   "source": [
    "# Train Random Forest Classifier\n",
    "model = RandomForestClassifier() \n",
    "#out of bag samples to estimate general accuracy\n",
    "model.fit(X_train, y_train)"
   ]
  },
  {
   "cell_type": "code",
   "execution_count": 264,
   "metadata": {
    "collapsed": true
   },
   "outputs": [],
   "source": [
    "HG002_pred_2 = pd.read_csv('/Users/lmc2/NIST/Notebooks/CrowdVariant/svviz.Annotate.DEL.HG002_2.csv')"
   ]
  },
  {
   "cell_type": "code",
   "execution_count": 265,
   "metadata": {
    "collapsed": true
   },
   "outputs": [],
   "source": [
    "HG002_pred = pd.read_csv('/Users/lmc2/NIST/Notebooks/CrowdVariant/svviz.Annotate.DEL.HG002_2.csv')"
   ]
  },
  {
   "cell_type": "markdown",
   "metadata": {},
   "source": [
    "**Data Label Update**\n",
    "GIAB GT Labels and CrowdVar GT Labels do not match\n",
    "\n",
    "Created a new set of labels for the GIAB HG002 Deletions Dataframe\n",
    "CrowdVar GT Label Key\n",
    "\n",
    "- 0: Hom. Var.\n",
    "- 1: Het Var\n",
    "- 2: Hom Ref\n",
    "\n",
    "GIAB GT Labels\n",
    "\n",
    "- 0: Hom Ref\n",
    "- 1: Het Var\n",
    "- 2: Hom Var\n",
    "\n",
    "Changed GIAB DF (svviz.Annotate.DEL.HG002_2.csv) to have the following data labels (which match CrowdVar)\n",
    "New Column (GIAB_Crowd)\n",
    "\n",
    "- 0: Hom. Var.\n",
    "- 1: Het Var\n",
    "- 2: Hom Ref"
   ]
  },
  {
   "cell_type": "code",
   "execution_count": 266,
   "metadata": {
    "collapsed": false
   },
   "outputs": [],
   "source": [
    "### Drop irrelevant columns\n",
    "HG002_pred.drop(['GTcons'], axis=1, inplace = True)\n",
    "HG002_pred.drop(['GTconflict'], axis=1, inplace = True)\n",
    "HG002_pred.drop(['GTsupp'], axis=1, inplace = True)\n",
    "HG002_pred.drop('SVtype', axis=1)\n",
    "HG002_pred.drop('type',axis=1)\n",
    "HG002_pred.drop(['type'],axis=1, inplace = True)\n",
    "HG002_pred.drop(['SVtype'],axis=1, inplace = True)\n",
    "HG002_pred.drop(['start'],axis=1, inplace = True)\n",
    "HG002_pred.drop(['end'],axis=1, inplace = True)\n",
    "HG002_pred.drop(['chrom'],axis=1, inplace = True)\n",
    "HG002_pred.drop('Size',axis=1)\n",
    "# HG002_pred.drop(['CN0_prob'],axis=1, inplace = True)\n",
    "# HG002_pred.drop(['CN1_prob'],axis=1, inplace = True)\n",
    "# HG002_pred.drop(['CN2_prob'],axis=1, inplace = True)\n",
    "HG002_pred.drop(['TenX.GT'],axis=1, inplace = True)\n",
    "HG002_pred.drop(['pacbio.GT'],axis=1, inplace = True)\n",
    "HG002_pred.drop(['IllMP.GT'],axis=1, inplace = True)\n",
    "HG002_pred.drop(['Ill250.GT'],axis=1, inplace = True)\n",
    "HG002_pred.drop(['Ill300x.GT'],axis=1, inplace = True)\n",
    "HG002_pred.drop(['sample'],axis=1, inplace = True)\n",
    "HG002_pred.drop(['id'],axis=1, inplace = True)\n",
    "\n",
    "# df_crowd.drop('GTconflict', axis=1)\n",
    "# df_crowd.drop('GTsupp', axis=1)\n",
    "# # df_crowd.drop('SVtype', axis=1)\n",
    "# # df_crowd.drop('type',axis=1)\n",
    "# df_crowd.drop('start',axis=1)\n",
    "# df_crowd.drop('end',axis=1)\n",
    "# df_crowd.drop('chrom',axis=1)\n",
    "# # df_crowd.drop('Size',axis=1)\n",
    "# df_crowd.drop('CN0_prob',axis=1)\n",
    "# df_crowd.drop('CN1_prob',axis=1)\n",
    "# df_crowd.drop('CN2_prob',axis=1)\n",
    "# df_crowd.drop('TenX.GT',axis=1)\n",
    "# df_crowd.drop('pacbio.GT',axis=1)\n",
    "# df_crowd.drop('IllMP.GT',axis=1)\n",
    "# df_crowd.drop('Ill250.GT',axis=1)\n",
    "# df_crowd.drop('Ill300x.GT',axis=1)"
   ]
  },
  {
   "cell_type": "code",
   "execution_count": 267,
   "metadata": {
    "collapsed": false
   },
   "outputs": [
    {
     "data": {
      "text/html": [
       "<div>\n",
       "<table border=\"1\" class=\"dataframe\">\n",
       "  <thead>\n",
       "    <tr style=\"text-align: right;\">\n",
       "      <th></th>\n",
       "      <th>Size</th>\n",
       "      <th>Ill300x.alt_alnScore_mean</th>\n",
       "      <th>Ill300x.alt_alnScore_std</th>\n",
       "      <th>Ill300x.alt_count</th>\n",
       "      <th>Ill300x.alt_insertSize_mean</th>\n",
       "      <th>Ill300x.alt_insertSize_std</th>\n",
       "      <th>Ill300x.alt_reason_alignmentScore</th>\n",
       "      <th>Ill300x.alt_reason_insertSizeScore</th>\n",
       "      <th>Ill300x.alt_reason_orientation</th>\n",
       "      <th>Ill300x.amb_alnScore_mean</th>\n",
       "      <th>...</th>\n",
       "      <th>pacbio.ref_insertSize_mean</th>\n",
       "      <th>pacbio.ref_insertSize_std</th>\n",
       "      <th>pacbio.ref_reason_alignmentScore</th>\n",
       "      <th>tandemrep_cnt</th>\n",
       "      <th>tandemrep_pct</th>\n",
       "      <th>segdup_cnt</th>\n",
       "      <th>segdup_pct</th>\n",
       "      <th>refN_cnt</th>\n",
       "      <th>refN_pct</th>\n",
       "      <th>GIAB_Crowd</th>\n",
       "    </tr>\n",
       "  </thead>\n",
       "  <tbody>\n",
       "    <tr>\n",
       "      <th>0</th>\n",
       "      <td>-178</td>\n",
       "      <td>562.0</td>\n",
       "      <td>17.962925</td>\n",
       "      <td>6.0</td>\n",
       "      <td>1044.666667</td>\n",
       "      <td>71.448505</td>\n",
       "      <td>0.0</td>\n",
       "      <td>6.0</td>\n",
       "      <td>0.0</td>\n",
       "      <td>533.576802</td>\n",
       "      <td>...</td>\n",
       "      <td>8139.555556</td>\n",
       "      <td>4575.304996</td>\n",
       "      <td>18.0</td>\n",
       "      <td>0</td>\n",
       "      <td>0.0</td>\n",
       "      <td>1</td>\n",
       "      <td>0.679775</td>\n",
       "      <td>0</td>\n",
       "      <td>0</td>\n",
       "      <td>2</td>\n",
       "    </tr>\n",
       "    <tr>\n",
       "      <th>1</th>\n",
       "      <td>-90</td>\n",
       "      <td>580.0</td>\n",
       "      <td>18.547237</td>\n",
       "      <td>4.0</td>\n",
       "      <td>995.250000</td>\n",
       "      <td>257.372663</td>\n",
       "      <td>1.0</td>\n",
       "      <td>3.0</td>\n",
       "      <td>0.0</td>\n",
       "      <td>545.406928</td>\n",
       "      <td>...</td>\n",
       "      <td>9962.936170</td>\n",
       "      <td>4301.895260</td>\n",
       "      <td>47.0</td>\n",
       "      <td>0</td>\n",
       "      <td>0.0</td>\n",
       "      <td>1</td>\n",
       "      <td>1.000000</td>\n",
       "      <td>0</td>\n",
       "      <td>0</td>\n",
       "      <td>2</td>\n",
       "    </tr>\n",
       "    <tr>\n",
       "      <th>2</th>\n",
       "      <td>-33</td>\n",
       "      <td>0.0</td>\n",
       "      <td>0.000000</td>\n",
       "      <td>0.0</td>\n",
       "      <td>0.000000</td>\n",
       "      <td>0.000000</td>\n",
       "      <td>0.0</td>\n",
       "      <td>0.0</td>\n",
       "      <td>0.0</td>\n",
       "      <td>539.468680</td>\n",
       "      <td>...</td>\n",
       "      <td>11189.146340</td>\n",
       "      <td>4525.451410</td>\n",
       "      <td>41.0</td>\n",
       "      <td>0</td>\n",
       "      <td>0.0</td>\n",
       "      <td>0</td>\n",
       "      <td>0.000000</td>\n",
       "      <td>0</td>\n",
       "      <td>0</td>\n",
       "      <td>2</td>\n",
       "    </tr>\n",
       "    <tr>\n",
       "      <th>3</th>\n",
       "      <td>-145</td>\n",
       "      <td>0.0</td>\n",
       "      <td>0.000000</td>\n",
       "      <td>0.0</td>\n",
       "      <td>0.000000</td>\n",
       "      <td>0.000000</td>\n",
       "      <td>0.0</td>\n",
       "      <td>0.0</td>\n",
       "      <td>0.0</td>\n",
       "      <td>541.033679</td>\n",
       "      <td>...</td>\n",
       "      <td>9694.425532</td>\n",
       "      <td>4306.492796</td>\n",
       "      <td>47.0</td>\n",
       "      <td>0</td>\n",
       "      <td>0.0</td>\n",
       "      <td>0</td>\n",
       "      <td>0.000000</td>\n",
       "      <td>0</td>\n",
       "      <td>0</td>\n",
       "      <td>2</td>\n",
       "    </tr>\n",
       "    <tr>\n",
       "      <th>4</th>\n",
       "      <td>-98</td>\n",
       "      <td>568.0</td>\n",
       "      <td>0.000000</td>\n",
       "      <td>1.0</td>\n",
       "      <td>1093.000000</td>\n",
       "      <td>0.000000</td>\n",
       "      <td>0.0</td>\n",
       "      <td>1.0</td>\n",
       "      <td>0.0</td>\n",
       "      <td>536.675808</td>\n",
       "      <td>...</td>\n",
       "      <td>9724.000000</td>\n",
       "      <td>4161.441384</td>\n",
       "      <td>51.0</td>\n",
       "      <td>0</td>\n",
       "      <td>0.0</td>\n",
       "      <td>0</td>\n",
       "      <td>0.000000</td>\n",
       "      <td>0</td>\n",
       "      <td>0</td>\n",
       "      <td>2</td>\n",
       "    </tr>\n",
       "  </tbody>\n",
       "</table>\n",
       "<p>5 rows × 178 columns</p>\n",
       "</div>"
      ],
      "text/plain": [
       "   Size  Ill300x.alt_alnScore_mean  Ill300x.alt_alnScore_std  \\\n",
       "0  -178                      562.0                 17.962925   \n",
       "1   -90                      580.0                 18.547237   \n",
       "2   -33                        0.0                  0.000000   \n",
       "3  -145                        0.0                  0.000000   \n",
       "4   -98                      568.0                  0.000000   \n",
       "\n",
       "   Ill300x.alt_count  Ill300x.alt_insertSize_mean  Ill300x.alt_insertSize_std  \\\n",
       "0                6.0                  1044.666667                   71.448505   \n",
       "1                4.0                   995.250000                  257.372663   \n",
       "2                0.0                     0.000000                    0.000000   \n",
       "3                0.0                     0.000000                    0.000000   \n",
       "4                1.0                  1093.000000                    0.000000   \n",
       "\n",
       "   Ill300x.alt_reason_alignmentScore  Ill300x.alt_reason_insertSizeScore  \\\n",
       "0                                0.0                                 6.0   \n",
       "1                                1.0                                 3.0   \n",
       "2                                0.0                                 0.0   \n",
       "3                                0.0                                 0.0   \n",
       "4                                0.0                                 1.0   \n",
       "\n",
       "   Ill300x.alt_reason_orientation  Ill300x.amb_alnScore_mean     ...      \\\n",
       "0                             0.0                 533.576802     ...       \n",
       "1                             0.0                 545.406928     ...       \n",
       "2                             0.0                 539.468680     ...       \n",
       "3                             0.0                 541.033679     ...       \n",
       "4                             0.0                 536.675808     ...       \n",
       "\n",
       "   pacbio.ref_insertSize_mean  pacbio.ref_insertSize_std  \\\n",
       "0                 8139.555556                4575.304996   \n",
       "1                 9962.936170                4301.895260   \n",
       "2                11189.146340                4525.451410   \n",
       "3                 9694.425532                4306.492796   \n",
       "4                 9724.000000                4161.441384   \n",
       "\n",
       "   pacbio.ref_reason_alignmentScore  tandemrep_cnt  tandemrep_pct  segdup_cnt  \\\n",
       "0                              18.0              0            0.0           1   \n",
       "1                              47.0              0            0.0           1   \n",
       "2                              41.0              0            0.0           0   \n",
       "3                              47.0              0            0.0           0   \n",
       "4                              51.0              0            0.0           0   \n",
       "\n",
       "   segdup_pct  refN_cnt  refN_pct  GIAB_Crowd  \n",
       "0    0.679775         0         0           2  \n",
       "1    1.000000         0         0           2  \n",
       "2    0.000000         0         0           2  \n",
       "3    0.000000         0         0           2  \n",
       "4    0.000000         0         0           2  \n",
       "\n",
       "[5 rows x 178 columns]"
      ]
     },
     "execution_count": 267,
     "metadata": {},
     "output_type": "execute_result"
    }
   ],
   "source": [
    "HG002_pred.head()"
   ]
  },
  {
   "cell_type": "code",
   "execution_count": 268,
   "metadata": {
    "collapsed": true
   },
   "outputs": [],
   "source": [
    "HG002_pred.to_csv('HG002_pred.csv', index=False)"
   ]
  },
  {
   "cell_type": "code",
   "execution_count": 269,
   "metadata": {
    "collapsed": true
   },
   "outputs": [],
   "source": [
    "X2 = HG002_pred"
   ]
  },
  {
   "cell_type": "code",
   "execution_count": 270,
   "metadata": {
    "collapsed": false
   },
   "outputs": [
    {
     "name": "stdout",
     "output_type": "stream",
     "text": [
      "Imputing row 1/1071 with 1 missing, elapsed time: 1.031\n",
      "Imputing row 101/1071 with 1 missing, elapsed time: 1.053\n",
      "Imputing row 201/1071 with 1 missing, elapsed time: 1.068\n",
      "Imputing row 301/1071 with 1 missing, elapsed time: 1.080\n",
      "Imputing row 401/1071 with 1 missing, elapsed time: 1.088\n",
      "Imputing row 501/1071 with 1 missing, elapsed time: 1.095\n",
      "Imputing row 601/1071 with 1 missing, elapsed time: 1.116\n",
      "Imputing row 701/1071 with 1 missing, elapsed time: 1.133\n",
      "Imputing row 801/1071 with 2 missing, elapsed time: 1.147\n",
      "Imputing row 901/1071 with 2 missing, elapsed time: 1.162\n",
      "Imputing row 1001/1071 with 60 missing, elapsed time: 1.173\n"
     ]
    }
   ],
   "source": [
    "# Convert dataframe to matrix\n",
    "X2=X2.as_matrix()\n",
    "\n",
    "#Imput missing values from three closest observations\n",
    "X2_imputed=KNN(k=3).complete(X2)\n",
    "X2=pd.DataFrame(X2_imputed)"
   ]
  },
  {
   "cell_type": "code",
   "execution_count": 272,
   "metadata": {
    "collapsed": false
   },
   "outputs": [],
   "source": [
    "X2.columns = ['Size','Ill300x.alt_alnScore_mean','Ill300x.alt_alnScore_std','Ill300x.alt_count','Ill300x.alt_insertSize_mean','Ill300x.alt_insertSize_std','Ill300x.alt_reason_alignmentScore','Ill300x.alt_reason_insertSizeScore','Ill300x.alt_reason_orientation','Ill300x.amb_alnScore_mean','Ill300x.amb_alnScore_std','Ill300x.amb_count','Ill300x.amb_insertSize_mean','Ill300x.amb_insertSize_std','Ill300x.amb_reason_alignmentScore_alignmentScore','Ill300x.amb_reason_alignmentScore_orientation','Ill300x.amb_reason_flanking','Ill300x.amb_reason_insertSizeScore_alignmentScore','Ill300x.amb_reason_insertSizeScore_insertSizeScore','Ill300x.amb_reason_insertSizeScore_orientation','Ill300x.amb_reason_multimapping','Ill300x.amb_reason_orientation_alignmentScore','Ill300x.amb_reason_orientation_orientation','Ill300x.amb_reason_same_scores','Ill300x.ref_alnScore_mean','Ill300x.ref_alnScore_std','Ill300x.ref_count','Ill300x.ref_insertSize_mean','Ill300x.ref_insertSize_std','Ill300x.ref_reason_alignmentScore','Ill300x.ref_reason_insertSizeScore','Ill300x.ref_reason_orientation','Ill250.alt_alnScore_mean','Ill250.alt_alnScore_std','Ill250.alt_count','Ill250.alt_insertSize_mean','Ill250.alt_insertSize_std','Ill250.alt_reason_alignmentScore','Ill250.alt_reason_insertSizeScore','Ill250.alt_reason_orientation','Ill250.amb_alnScore_mean','Ill250.amb_alnScore_std','Ill250.amb_count','Ill250.amb_insertSize_mean','Ill250.amb_insertSize_std','Ill250.amb_reason_alignmentScore_alignmentScore','Ill250.amb_reason_alignmentScore_orientation','Ill250.amb_reason_flanking','Ill250.amb_reason_insertSizeScore_alignmentScore','Ill250.amb_reason_multimapping','Ill250.amb_reason_orientation_alignmentScore','Ill250.amb_reason_orientation_orientation','Ill250.amb_reason_same_scores','Ill250.ref_alnScore_mean','Ill250.ref_alnScore_std','Ill250.ref_count','Ill250.ref_insertSize_mean','Ill250.ref_insertSize_std','Ill250.ref_reason_alignmentScore','Ill250.ref_reason_orientation','IllMP.alt_alnScore_mean','IllMP.alt_alnScore_std','IllMP.alt_count','IllMP.alt_insertSize_mean','IllMP.alt_insertSize_std','IllMP.alt_reason_alignmentScore','IllMP.alt_reason_insertSizeScore','IllMP.alt_reason_orientation','IllMP.amb_alnScore_mean','IllMP.amb_alnScore_std','IllMP.amb_count','IllMP.amb_insertSize_mean','IllMP.amb_insertSize_std','IllMP.amb_reason_alignmentScore_alignmentScore','IllMP.amb_reason_alignmentScore_orientation','IllMP.amb_reason_flanking','IllMP.amb_reason_insertSizeScore_alignmentScore','IllMP.amb_reason_insertSizeScore_insertSizeScore','IllMP.amb_reason_multimapping','IllMP.amb_reason_orientation_alignmentScore','IllMP.amb_reason_orientation_orientation','IllMP.amb_reason_same_scores','IllMP.ref_alnScore_mean','IllMP.ref_alnScore_std','IllMP.ref_count','IllMP.ref_insertSize_mean','IllMP.ref_insertSize_std','IllMP.ref_reason_alignmentScore','IllMP.ref_reason_insertSizeScore','IllMP.ref_reason_orientation','TenX.HP1_alt_alnScore_mean','TenX.HP1_alt_alnScore_std','TenX.HP1_alt_count','TenX.HP1_alt_insertSize_mean','TenX.HP1_alt_insertSize_std','TenX.HP1_alt_reason_alignmentScore','TenX.HP1_alt_reason_insertSizeScore','TenX.HP1_alt_reason_orientation','TenX.HP1_amb_alnScore_mean','TenX.HP1_amb_alnScore_std','TenX.HP1_amb_count','TenX.HP1_amb_insertSize_mean','TenX.HP1_amb_insertSize_std','TenX.HP1_amb_reason_alignmentScore_alignmentScore','TenX.HP1_amb_reason_alignmentScore_orientation','TenX.HP1_amb_reason_flanking','TenX.HP1_amb_reason_insertSizeScore_alignmentScore','TenX.HP1_amb_reason_insertSizeScore_insertSizeScore','TenX.HP1_amb_reason_multimapping','TenX.HP1_amb_reason_orientation_alignmentScore','TenX.HP1_amb_reason_orientation_orientation','TenX.HP1_amb_reason_same_scores','TenX.HP1_ref_alnScore_mean','TenX.HP1_ref_alnScore_std','TenX.HP1_ref_count','TenX.HP1_ref_insertSize_mean','TenX.HP1_ref_insertSize_std','TenX.HP1_ref_reason_alignmentScore','TenX.HP1_ref_reason_insertSizeScore','TenX.HP1_ref_reason_orientation','TenX.HP2_alt_alnScore_mean','TenX.HP2_alt_alnScore_std','TenX.HP2_alt_count','TenX.HP2_alt_insertSize_mean','TenX.HP2_alt_insertSize_std','TenX.HP2_alt_reason_alignmentScore','TenX.HP2_alt_reason_insertSizeScore','TenX.HP2_alt_reason_orientation','TenX.HP2_amb_alnScore_mean','TenX.HP2_amb_alnScore_std','TenX.HP2_amb_count','TenX.HP2_amb_insertSize_mean','TenX.HP2_amb_insertSize_std','TenX.HP2_amb_reason_alignmentScore_alignmentScore','TenX.HP2_amb_reason_alignmentScore_orientation','TenX.HP2_amb_reason_flanking','TenX.HP2_amb_reason_insertSizeScore_alignmentScore','TenX.HP2_amb_reason_insertSizeScore_insertSizeScore','TenX.HP2_amb_reason_multimapping','TenX.HP2_amb_reason_orientation_alignmentScore','TenX.HP2_amb_reason_orientation_insertSizeScore','TenX.HP2_amb_reason_orientation_orientation','TenX.HP2_amb_reason_same_scores','TenX.HP2_ref_alnScore_mean','TenX.HP2_ref_alnScore_std','TenX.HP2_ref_count','TenX.HP2_ref_insertSize_mean','TenX.HP2_ref_insertSize_std','TenX.HP2_ref_reason_alignmentScore','TenX.HP2_ref_reason_orientation','pacbio.alt_alnScore_mean','pacbio.alt_alnScore_std','pacbio.alt_count','pacbio.alt_insertSize_mean','pacbio.alt_insertSize_std','pacbio.alt_reason_alignmentScore','pacbio.amb_alnScore_mean','pacbio.amb_alnScore_std','pacbio.amb_count','pacbio.amb_insertSize_mean','pacbio.amb_insertSize_std','pacbio.amb_reason_alignmentScore_alignmentScore','pacbio.amb_reason_flanking','pacbio.amb_reason_multimapping','pacbio.amb_reason_same_scores','pacbio.ref_alnScore_mean','pacbio.ref_alnScore_std','pacbio.ref_count','pacbio.ref_insertSize_mean','pacbio.ref_insertSize_std','pacbio.ref_reason_alignmentScore','tandemrep_cnt','tandemrep_pct','segdup_cnt','segdup_pct','refN_cnt','refN_pct', 'GIAB_Crowd']"
   ]
  },
  {
   "cell_type": "code",
   "execution_count": 273,
   "metadata": {
    "collapsed": false
   },
   "outputs": [],
   "source": [
    "X2=X2[['Ill300x.alt_alnScore_mean','Ill300x.alt_alnScore_std','Ill300x.alt_count','Ill300x.alt_insertSize_mean','Ill300x.alt_insertSize_std','Ill300x.alt_reason_alignmentScore','Ill300x.alt_reason_insertSizeScore','Ill300x.alt_reason_orientation','Ill300x.amb_alnScore_mean','Ill300x.amb_alnScore_std','Ill300x.amb_count','Ill300x.amb_insertSize_mean','Ill300x.amb_insertSize_std','Ill300x.amb_reason_alignmentScore_alignmentScore','Ill300x.amb_reason_alignmentScore_orientation','Ill300x.amb_reason_flanking','Ill300x.amb_reason_insertSizeScore_alignmentScore','Ill300x.amb_reason_insertSizeScore_insertSizeScore','Ill300x.amb_reason_multimapping','Ill300x.amb_reason_orientation_alignmentScore','Ill300x.amb_reason_orientation_orientation','Ill300x.amb_reason_same_scores','Ill300x.ref_alnScore_mean','Ill300x.ref_alnScore_std','Ill300x.ref_count','Ill300x.ref_insertSize_mean','Ill300x.ref_insertSize_std','Ill300x.ref_reason_alignmentScore','Ill300x.ref_reason_insertSizeScore','Ill300x.ref_reason_orientation','Ill250.alt_alnScore_mean','Ill250.alt_alnScore_std','Ill250.alt_count','Ill250.alt_insertSize_mean','Ill250.alt_insertSize_std','Ill250.alt_reason_alignmentScore','Ill250.alt_reason_insertSizeScore','Ill250.alt_reason_orientation','Ill250.amb_alnScore_mean','Ill250.amb_alnScore_std','Ill250.amb_count','Ill250.amb_insertSize_mean','Ill250.amb_insertSize_std','Ill250.amb_reason_alignmentScore_alignmentScore','Ill250.amb_reason_alignmentScore_orientation','Ill250.amb_reason_flanking','Ill250.amb_reason_insertSizeScore_alignmentScore','Ill250.amb_reason_multimapping','Ill250.amb_reason_orientation_alignmentScore','Ill250.amb_reason_orientation_orientation','Ill250.amb_reason_same_scores','Ill250.ref_alnScore_mean','Ill250.ref_alnScore_std','Ill250.ref_count','Ill250.ref_insertSize_mean','Ill250.ref_insertSize_std','Ill250.ref_reason_alignmentScore','Ill250.ref_reason_orientation','IllMP.alt_alnScore_mean','IllMP.alt_alnScore_std','IllMP.alt_count','IllMP.alt_insertSize_mean','IllMP.alt_insertSize_std','IllMP.alt_reason_alignmentScore','IllMP.alt_reason_insertSizeScore','IllMP.alt_reason_orientation','IllMP.amb_alnScore_mean','IllMP.amb_alnScore_std','IllMP.amb_count','IllMP.amb_insertSize_mean','IllMP.amb_insertSize_std','IllMP.amb_reason_alignmentScore_alignmentScore','IllMP.amb_reason_alignmentScore_orientation','IllMP.amb_reason_flanking','IllMP.amb_reason_insertSizeScore_insertSizeScore','IllMP.amb_reason_multimapping','IllMP.amb_reason_orientation_alignmentScore','IllMP.amb_reason_orientation_orientation','IllMP.amb_reason_same_scores','IllMP.ref_alnScore_mean','IllMP.ref_alnScore_std','IllMP.ref_count','IllMP.ref_insertSize_mean','IllMP.ref_insertSize_std','IllMP.ref_reason_alignmentScore','IllMP.ref_reason_insertSizeScore','IllMP.ref_reason_orientation','pacbio.alt_alnScore_mean','pacbio.alt_alnScore_std','pacbio.alt_count','pacbio.alt_insertSize_mean','pacbio.alt_insertSize_std','pacbio.alt_reason_alignmentScore','pacbio.amb_alnScore_mean','pacbio.amb_alnScore_std','pacbio.amb_count','pacbio.amb_insertSize_mean','pacbio.amb_insertSize_std','pacbio.amb_reason_alignmentScore_alignmentScore','pacbio.amb_reason_flanking','pacbio.amb_reason_multimapping','pacbio.amb_reason_same_scores','pacbio.ref_alnScore_mean','pacbio.ref_alnScore_std','pacbio.ref_count','pacbio.ref_insertSize_mean','pacbio.ref_insertSize_std','pacbio.ref_reason_alignmentScore','TenX.HP1_alt_alnScore_mean','TenX.HP1_alt_alnScore_std','TenX.HP1_alt_count','TenX.HP1_alt_insertSize_mean','TenX.HP1_alt_insertSize_std','TenX.HP1_alt_reason_alignmentScore','TenX.HP1_alt_reason_insertSizeScore','TenX.HP1_alt_reason_orientation','TenX.HP1_amb_alnScore_mean','TenX.HP1_amb_alnScore_std','TenX.HP1_amb_count','TenX.HP1_amb_insertSize_mean','TenX.HP1_amb_insertSize_std','TenX.HP1_amb_reason_alignmentScore_alignmentScore','TenX.HP1_amb_reason_alignmentScore_orientation','TenX.HP1_amb_reason_flanking','TenX.HP1_amb_reason_insertSizeScore_alignmentScore','TenX.HP1_amb_reason_multimapping','TenX.HP1_amb_reason_orientation_alignmentScore','TenX.HP1_amb_reason_orientation_orientation','TenX.HP1_amb_reason_same_scores','TenX.HP1_ref_alnScore_mean','TenX.HP1_ref_alnScore_std','TenX.HP1_ref_count','TenX.HP1_ref_insertSize_mean','TenX.HP1_ref_insertSize_std','TenX.HP1_ref_reason_alignmentScore','TenX.HP1_ref_reason_orientation','TenX.HP2_alt_alnScore_mean','TenX.HP2_alt_alnScore_std','TenX.HP2_alt_count','TenX.HP2_alt_insertSize_mean','TenX.HP2_alt_insertSize_std','TenX.HP2_alt_reason_alignmentScore','TenX.HP2_alt_reason_insertSizeScore','TenX.HP2_alt_reason_orientation','TenX.HP2_amb_alnScore_mean','TenX.HP2_amb_alnScore_std','TenX.HP2_amb_count','TenX.HP2_amb_insertSize_mean','TenX.HP2_amb_insertSize_std','TenX.HP2_amb_reason_alignmentScore_alignmentScore','TenX.HP2_amb_reason_alignmentScore_orientation','TenX.HP2_amb_reason_flanking','TenX.HP2_amb_reason_insertSizeScore_alignmentScore','TenX.HP2_amb_reason_multimapping','TenX.HP2_amb_reason_orientation_alignmentScore','TenX.HP2_amb_reason_orientation_orientation','TenX.HP2_amb_reason_same_scores','TenX.HP2_ref_alnScore_mean','TenX.HP2_ref_alnScore_std','TenX.HP2_ref_count','TenX.HP2_ref_insertSize_mean','TenX.HP2_ref_insertSize_std','TenX.HP2_ref_reason_alignmentScore','TenX.HP2_ref_reason_orientation']]"
   ]
  },
  {
   "cell_type": "code",
   "execution_count": 274,
   "metadata": {
    "collapsed": false
   },
   "outputs": [
    {
     "data": {
      "text/plain": [
       "array([ 0.,  1.,  1., ...,  0.,  0.,  0.])"
      ]
     },
     "execution_count": 274,
     "metadata": {},
     "output_type": "execute_result"
    }
   ],
   "source": [
    "model.predict(X2)"
   ]
  },
  {
   "cell_type": "code",
   "execution_count": 275,
   "metadata": {
    "collapsed": false
   },
   "outputs": [
    {
     "name": "stderr",
     "output_type": "stream",
     "text": [
      "/Users/lmc2/anaconda/envs/NIHFAES/lib/python3.5/site-packages/ipykernel/__main__.py:1: SettingWithCopyWarning:\n",
      "\n",
      "\n",
      "A value is trying to be set on a copy of a slice from a DataFrame.\n",
      "Try using .loc[row_indexer,col_indexer] = value instead\n",
      "\n",
      "See the caveats in the documentation: http://pandas.pydata.org/pandas-docs/stable/indexing.html#indexing-view-versus-copy\n",
      "\n"
     ]
    }
   ],
   "source": [
    "X2['model_pred_label'] = model.predict(X2)"
   ]
  },
  {
   "cell_type": "code",
   "execution_count": 276,
   "metadata": {
    "collapsed": false
   },
   "outputs": [
    {
     "name": "stderr",
     "output_type": "stream",
     "text": [
      "/Users/lmc2/anaconda/envs/NIHFAES/lib/python3.5/site-packages/ipykernel/__main__.py:1: SettingWithCopyWarning:\n",
      "\n",
      "\n",
      "A value is trying to be set on a copy of a slice from a DataFrame.\n",
      "Try using .loc[row_indexer,col_indexer] = value instead\n",
      "\n",
      "See the caveats in the documentation: http://pandas.pydata.org/pandas-docs/stable/indexing.html#indexing-view-versus-copy\n",
      "\n"
     ]
    }
   ],
   "source": [
    "X2['GIAB_Crowd'] = HG002_pred_2['GIAB_Crowd']"
   ]
  },
  {
   "cell_type": "code",
   "execution_count": 278,
   "metadata": {
    "collapsed": false
   },
   "outputs": [],
   "source": [
    "test = X2['model_pred_label']\n",
    "true = X2['GIAB_Crowd']"
   ]
  },
  {
   "cell_type": "code",
   "execution_count": 279,
   "metadata": {
    "collapsed": false
   },
   "outputs": [
    {
     "data": {
      "text/plain": [
       "0.55368814192343607"
      ]
     },
     "execution_count": 279,
     "metadata": {},
     "output_type": "execute_result"
    }
   ],
   "source": [
    "precision_score(true, test, average='micro') "
   ]
  },
  {
   "cell_type": "code",
   "execution_count": null,
   "metadata": {
    "collapsed": true
   },
   "outputs": [],
   "source": [
    "# Display graph that shows number of unknown '-1'"
   ]
  },
  {
   "cell_type": "code",
   "execution_count": 263,
   "metadata": {
    "collapsed": true
   },
   "outputs": [],
   "source": [
    "X2.to_csv('X2_lab.csv', index=False)"
   ]
  },
  {
   "cell_type": "code",
   "execution_count": 262,
   "metadata": {
    "collapsed": false
   },
   "outputs": [
    {
     "data": {
      "text/html": [
       "<div>\n",
       "<table border=\"1\" class=\"dataframe\">\n",
       "  <thead>\n",
       "    <tr style=\"text-align: right;\">\n",
       "      <th></th>\n",
       "      <th>Ill300x.alt_alnScore_mean</th>\n",
       "      <th>Ill300x.alt_alnScore_std</th>\n",
       "      <th>Ill300x.alt_count</th>\n",
       "      <th>Ill300x.alt_insertSize_mean</th>\n",
       "      <th>Ill300x.alt_insertSize_std</th>\n",
       "      <th>Ill300x.alt_reason_alignmentScore</th>\n",
       "      <th>Ill300x.alt_reason_insertSizeScore</th>\n",
       "      <th>Ill300x.alt_reason_orientation</th>\n",
       "      <th>Ill300x.amb_alnScore_mean</th>\n",
       "      <th>Ill300x.amb_alnScore_std</th>\n",
       "      <th>...</th>\n",
       "      <th>TenX.HP2_amb_reason_same_scores</th>\n",
       "      <th>TenX.HP2_ref_alnScore_mean</th>\n",
       "      <th>TenX.HP2_ref_alnScore_std</th>\n",
       "      <th>TenX.HP2_ref_count</th>\n",
       "      <th>TenX.HP2_ref_insertSize_mean</th>\n",
       "      <th>TenX.HP2_ref_insertSize_std</th>\n",
       "      <th>TenX.HP2_ref_reason_alignmentScore</th>\n",
       "      <th>TenX.HP2_ref_reason_orientation</th>\n",
       "      <th>model_pred_label</th>\n",
       "      <th>GTcons</th>\n",
       "    </tr>\n",
       "  </thead>\n",
       "  <tbody>\n",
       "    <tr>\n",
       "      <th>3991</th>\n",
       "      <td>0.000000</td>\n",
       "      <td>0.000000</td>\n",
       "      <td>0.0</td>\n",
       "      <td>0.000000</td>\n",
       "      <td>0.000000</td>\n",
       "      <td>0.0</td>\n",
       "      <td>0.0</td>\n",
       "      <td>0.0</td>\n",
       "      <td>542.783489</td>\n",
       "      <td>87.716016</td>\n",
       "      <td>...</td>\n",
       "      <td>3.962482</td>\n",
       "      <td>522.899125</td>\n",
       "      <td>18.379355</td>\n",
       "      <td>5.265224</td>\n",
       "      <td>422.481658</td>\n",
       "      <td>96.803787</td>\n",
       "      <td>5.265224</td>\n",
       "      <td>0.0</td>\n",
       "      <td>0.0</td>\n",
       "      <td>-1</td>\n",
       "    </tr>\n",
       "    <tr>\n",
       "      <th>3992</th>\n",
       "      <td>577.387500</td>\n",
       "      <td>11.565567</td>\n",
       "      <td>80.0</td>\n",
       "      <td>589.100000</td>\n",
       "      <td>166.619747</td>\n",
       "      <td>79.0</td>\n",
       "      <td>1.0</td>\n",
       "      <td>0.0</td>\n",
       "      <td>534.012170</td>\n",
       "      <td>93.363463</td>\n",
       "      <td>...</td>\n",
       "      <td>1.670895</td>\n",
       "      <td>537.017135</td>\n",
       "      <td>14.195912</td>\n",
       "      <td>6.249317</td>\n",
       "      <td>333.941396</td>\n",
       "      <td>67.557745</td>\n",
       "      <td>6.249317</td>\n",
       "      <td>0.0</td>\n",
       "      <td>0.0</td>\n",
       "      <td>2</td>\n",
       "    </tr>\n",
       "    <tr>\n",
       "      <th>3993</th>\n",
       "      <td>560.058139</td>\n",
       "      <td>9.923375</td>\n",
       "      <td>86.0</td>\n",
       "      <td>590.302326</td>\n",
       "      <td>162.946280</td>\n",
       "      <td>85.0</td>\n",
       "      <td>1.0</td>\n",
       "      <td>0.0</td>\n",
       "      <td>540.574874</td>\n",
       "      <td>78.391526</td>\n",
       "      <td>...</td>\n",
       "      <td>3.921682</td>\n",
       "      <td>538.037569</td>\n",
       "      <td>16.740353</td>\n",
       "      <td>4.635323</td>\n",
       "      <td>381.612003</td>\n",
       "      <td>56.291199</td>\n",
       "      <td>4.635323</td>\n",
       "      <td>0.0</td>\n",
       "      <td>0.0</td>\n",
       "      <td>2</td>\n",
       "    </tr>\n",
       "    <tr>\n",
       "      <th>3994</th>\n",
       "      <td>571.828571</td>\n",
       "      <td>12.022564</td>\n",
       "      <td>35.0</td>\n",
       "      <td>620.914286</td>\n",
       "      <td>144.011780</td>\n",
       "      <td>35.0</td>\n",
       "      <td>0.0</td>\n",
       "      <td>0.0</td>\n",
       "      <td>533.425277</td>\n",
       "      <td>94.321792</td>\n",
       "      <td>...</td>\n",
       "      <td>0.324900</td>\n",
       "      <td>166.782188</td>\n",
       "      <td>6.051254</td>\n",
       "      <td>0.974701</td>\n",
       "      <td>127.685844</td>\n",
       "      <td>22.691912</td>\n",
       "      <td>0.974701</td>\n",
       "      <td>0.0</td>\n",
       "      <td>0.0</td>\n",
       "      <td>-1</td>\n",
       "    </tr>\n",
       "    <tr>\n",
       "      <th>3995</th>\n",
       "      <td>580.179104</td>\n",
       "      <td>7.443169</td>\n",
       "      <td>67.0</td>\n",
       "      <td>615.119403</td>\n",
       "      <td>146.736796</td>\n",
       "      <td>66.0</td>\n",
       "      <td>1.0</td>\n",
       "      <td>0.0</td>\n",
       "      <td>538.482993</td>\n",
       "      <td>90.914579</td>\n",
       "      <td>...</td>\n",
       "      <td>2.054873</td>\n",
       "      <td>518.780866</td>\n",
       "      <td>14.363200</td>\n",
       "      <td>2.000000</td>\n",
       "      <td>354.866034</td>\n",
       "      <td>58.391841</td>\n",
       "      <td>2.000000</td>\n",
       "      <td>0.0</td>\n",
       "      <td>0.0</td>\n",
       "      <td>-1</td>\n",
       "    </tr>\n",
       "  </tbody>\n",
       "</table>\n",
       "<p>5 rows × 166 columns</p>\n",
       "</div>"
      ],
      "text/plain": [
       "      Ill300x.alt_alnScore_mean  Ill300x.alt_alnScore_std  Ill300x.alt_count  \\\n",
       "3991                   0.000000                  0.000000                0.0   \n",
       "3992                 577.387500                 11.565567               80.0   \n",
       "3993                 560.058139                  9.923375               86.0   \n",
       "3994                 571.828571                 12.022564               35.0   \n",
       "3995                 580.179104                  7.443169               67.0   \n",
       "\n",
       "      Ill300x.alt_insertSize_mean  Ill300x.alt_insertSize_std  \\\n",
       "3991                     0.000000                    0.000000   \n",
       "3992                   589.100000                  166.619747   \n",
       "3993                   590.302326                  162.946280   \n",
       "3994                   620.914286                  144.011780   \n",
       "3995                   615.119403                  146.736796   \n",
       "\n",
       "      Ill300x.alt_reason_alignmentScore  Ill300x.alt_reason_insertSizeScore  \\\n",
       "3991                                0.0                                 0.0   \n",
       "3992                               79.0                                 1.0   \n",
       "3993                               85.0                                 1.0   \n",
       "3994                               35.0                                 0.0   \n",
       "3995                               66.0                                 1.0   \n",
       "\n",
       "      Ill300x.alt_reason_orientation  Ill300x.amb_alnScore_mean  \\\n",
       "3991                             0.0                 542.783489   \n",
       "3992                             0.0                 534.012170   \n",
       "3993                             0.0                 540.574874   \n",
       "3994                             0.0                 533.425277   \n",
       "3995                             0.0                 538.482993   \n",
       "\n",
       "      Ill300x.amb_alnScore_std   ...    TenX.HP2_amb_reason_same_scores  \\\n",
       "3991                 87.716016   ...                           3.962482   \n",
       "3992                 93.363463   ...                           1.670895   \n",
       "3993                 78.391526   ...                           3.921682   \n",
       "3994                 94.321792   ...                           0.324900   \n",
       "3995                 90.914579   ...                           2.054873   \n",
       "\n",
       "      TenX.HP2_ref_alnScore_mean  TenX.HP2_ref_alnScore_std  \\\n",
       "3991                  522.899125                  18.379355   \n",
       "3992                  537.017135                  14.195912   \n",
       "3993                  538.037569                  16.740353   \n",
       "3994                  166.782188                   6.051254   \n",
       "3995                  518.780866                  14.363200   \n",
       "\n",
       "      TenX.HP2_ref_count  TenX.HP2_ref_insertSize_mean  \\\n",
       "3991            5.265224                    422.481658   \n",
       "3992            6.249317                    333.941396   \n",
       "3993            4.635323                    381.612003   \n",
       "3994            0.974701                    127.685844   \n",
       "3995            2.000000                    354.866034   \n",
       "\n",
       "      TenX.HP2_ref_insertSize_std  TenX.HP2_ref_reason_alignmentScore  \\\n",
       "3991                    96.803787                            5.265224   \n",
       "3992                    67.557745                            6.249317   \n",
       "3993                    56.291199                            4.635323   \n",
       "3994                    22.691912                            0.974701   \n",
       "3995                    58.391841                            2.000000   \n",
       "\n",
       "      TenX.HP2_ref_reason_orientation  model_pred_label  GTcons  \n",
       "3991                              0.0               0.0      -1  \n",
       "3992                              0.0               0.0       2  \n",
       "3993                              0.0               0.0       2  \n",
       "3994                              0.0               0.0      -1  \n",
       "3995                              0.0               0.0      -1  \n",
       "\n",
       "[5 rows x 166 columns]"
      ]
     },
     "execution_count": 262,
     "metadata": {},
     "output_type": "execute_result"
    }
   ],
   "source": [
    "X2.tail()"
   ]
  },
  {
   "cell_type": "code",
   "execution_count": null,
   "metadata": {
    "collapsed": true
   },
   "outputs": [],
   "source": []
  },
  {
   "cell_type": "markdown",
   "metadata": {},
   "source": [
    "**Which are the most important features?**\n",
    "\n",
    "NIHFAES Class"
   ]
  },
  {
   "cell_type": "code",
   "execution_count": null,
   "metadata": {
    "collapsed": true
   },
   "outputs": [],
   "source": []
  },
  {
   "cell_type": "code",
   "execution_count": 191,
   "metadata": {
    "collapsed": false
   },
   "outputs": [
    {
     "data": {
      "text/plain": [
       "0.97549481621112155"
      ]
     },
     "execution_count": 191,
     "metadata": {},
     "output_type": "execute_result"
    }
   ],
   "source": [
    "# Overall Scores\n",
    "score = metrics.accuracy_score(y_test, model.predict(X_test))\n",
    "score"
   ]
  },
  {
   "cell_type": "code",
   "execution_count": 192,
   "metadata": {
    "collapsed": false
   },
   "outputs": [],
   "source": [
    "pred = model.predict_proba(X_test)"
   ]
  },
  {
   "cell_type": "code",
   "execution_count": 193,
   "metadata": {
    "collapsed": false
   },
   "outputs": [],
   "source": [
    "# This is the correct way to add predicted probability and labels\n",
    "pred = model.predict_proba(X_test)\n",
    "X9 = pd.concat([X_test, pd.DataFrame(pred, columns=['CrowdVar_0','CrowdVar_1','CrowdVar_2'])])\n",
    "X9['Label'] = y_test"
   ]
  },
  {
   "cell_type": "code",
   "execution_count": 159,
   "metadata": {
    "collapsed": false
   },
   "outputs": [
    {
     "data": {
      "text/html": [
       "<div>\n",
       "<table border=\"1\" class=\"dataframe\">\n",
       "  <thead>\n",
       "    <tr style=\"text-align: right;\">\n",
       "      <th></th>\n",
       "      <th>CrowdVar_0</th>\n",
       "      <th>CrowdVar_1</th>\n",
       "      <th>CrowdVar_2</th>\n",
       "      <th>Ill250.alt_alnScore_mean</th>\n",
       "      <th>Ill250.alt_alnScore_std</th>\n",
       "      <th>Ill250.alt_count</th>\n",
       "      <th>Ill250.alt_insertSize_mean</th>\n",
       "      <th>Ill250.alt_insertSize_std</th>\n",
       "      <th>Ill250.alt_reason_alignmentScore</th>\n",
       "      <th>Ill250.alt_reason_insertSizeScore</th>\n",
       "      <th>...</th>\n",
       "      <th>pacbio.amb_reason_multimapping</th>\n",
       "      <th>pacbio.amb_reason_same_scores</th>\n",
       "      <th>pacbio.ref_alnScore_mean</th>\n",
       "      <th>pacbio.ref_alnScore_std</th>\n",
       "      <th>pacbio.ref_count</th>\n",
       "      <th>pacbio.ref_insertSize_mean</th>\n",
       "      <th>pacbio.ref_insertSize_std</th>\n",
       "      <th>pacbio.ref_reason_alignmentScore</th>\n",
       "      <th>size</th>\n",
       "      <th>Label</th>\n",
       "    </tr>\n",
       "  </thead>\n",
       "  <tbody>\n",
       "    <tr>\n",
       "      <th>1222</th>\n",
       "      <td>NaN</td>\n",
       "      <td>NaN</td>\n",
       "      <td>NaN</td>\n",
       "      <td>986.788462</td>\n",
       "      <td>15.092454</td>\n",
       "      <td>52.0</td>\n",
       "      <td>443.019231</td>\n",
       "      <td>86.135736</td>\n",
       "      <td>49.0</td>\n",
       "      <td>3.0</td>\n",
       "      <td>...</td>\n",
       "      <td>0.0</td>\n",
       "      <td>6.0</td>\n",
       "      <td>0.00000</td>\n",
       "      <td>0.000000</td>\n",
       "      <td>0.0</td>\n",
       "      <td>0.00000</td>\n",
       "      <td>0.000000</td>\n",
       "      <td>0.0</td>\n",
       "      <td>331.0</td>\n",
       "      <td>0.0</td>\n",
       "    </tr>\n",
       "    <tr>\n",
       "      <th>310</th>\n",
       "      <td>NaN</td>\n",
       "      <td>NaN</td>\n",
       "      <td>NaN</td>\n",
       "      <td>991.500000</td>\n",
       "      <td>7.996874</td>\n",
       "      <td>20.0</td>\n",
       "      <td>433.750000</td>\n",
       "      <td>98.915052</td>\n",
       "      <td>19.0</td>\n",
       "      <td>1.0</td>\n",
       "      <td>...</td>\n",
       "      <td>2.0</td>\n",
       "      <td>10.0</td>\n",
       "      <td>17790.36364</td>\n",
       "      <td>6010.058989</td>\n",
       "      <td>22.0</td>\n",
       "      <td>11391.45455</td>\n",
       "      <td>3342.395830</td>\n",
       "      <td>22.0</td>\n",
       "      <td>213.0</td>\n",
       "      <td>1.0</td>\n",
       "    </tr>\n",
       "    <tr>\n",
       "      <th>9</th>\n",
       "      <td>NaN</td>\n",
       "      <td>NaN</td>\n",
       "      <td>NaN</td>\n",
       "      <td>979.703704</td>\n",
       "      <td>10.164626</td>\n",
       "      <td>27.0</td>\n",
       "      <td>443.296296</td>\n",
       "      <td>64.292051</td>\n",
       "      <td>26.0</td>\n",
       "      <td>1.0</td>\n",
       "      <td>...</td>\n",
       "      <td>1.0</td>\n",
       "      <td>16.0</td>\n",
       "      <td>16981.60870</td>\n",
       "      <td>6413.617061</td>\n",
       "      <td>23.0</td>\n",
       "      <td>10570.13043</td>\n",
       "      <td>3814.924289</td>\n",
       "      <td>23.0</td>\n",
       "      <td>162.0</td>\n",
       "      <td>1.0</td>\n",
       "    </tr>\n",
       "  </tbody>\n",
       "</table>\n",
       "<p>3 rows × 171 columns</p>\n",
       "</div>"
      ],
      "text/plain": [
       "      CrowdVar_0  CrowdVar_1  CrowdVar_2  Ill250.alt_alnScore_mean  \\\n",
       "1222         NaN         NaN         NaN                986.788462   \n",
       "310          NaN         NaN         NaN                991.500000   \n",
       "9            NaN         NaN         NaN                979.703704   \n",
       "\n",
       "      Ill250.alt_alnScore_std  Ill250.alt_count  Ill250.alt_insertSize_mean  \\\n",
       "1222                15.092454              52.0                  443.019231   \n",
       "310                  7.996874              20.0                  433.750000   \n",
       "9                   10.164626              27.0                  443.296296   \n",
       "\n",
       "      Ill250.alt_insertSize_std  Ill250.alt_reason_alignmentScore  \\\n",
       "1222                  86.135736                              49.0   \n",
       "310                   98.915052                              19.0   \n",
       "9                     64.292051                              26.0   \n",
       "\n",
       "      Ill250.alt_reason_insertSizeScore  ...    \\\n",
       "1222                                3.0  ...     \n",
       "310                                 1.0  ...     \n",
       "9                                   1.0  ...     \n",
       "\n",
       "      pacbio.amb_reason_multimapping  pacbio.amb_reason_same_scores  \\\n",
       "1222                             0.0                            6.0   \n",
       "310                              2.0                           10.0   \n",
       "9                                1.0                           16.0   \n",
       "\n",
       "      pacbio.ref_alnScore_mean  pacbio.ref_alnScore_std  pacbio.ref_count  \\\n",
       "1222                   0.00000                 0.000000               0.0   \n",
       "310                17790.36364              6010.058989              22.0   \n",
       "9                  16981.60870              6413.617061              23.0   \n",
       "\n",
       "      pacbio.ref_insertSize_mean  pacbio.ref_insertSize_std  \\\n",
       "1222                     0.00000                   0.000000   \n",
       "310                  11391.45455                3342.395830   \n",
       "9                    10570.13043                3814.924289   \n",
       "\n",
       "      pacbio.ref_reason_alignmentScore   size  Label  \n",
       "1222                               0.0  331.0    0.0  \n",
       "310                               22.0  213.0    1.0  \n",
       "9                                 23.0  162.0    1.0  \n",
       "\n",
       "[3 rows x 171 columns]"
      ]
     },
     "execution_count": 159,
     "metadata": {},
     "output_type": "execute_result"
    }
   ],
   "source": [
    "X9.head(3)"
   ]
  },
  {
   "cell_type": "code",
   "execution_count": 194,
   "metadata": {
    "collapsed": true
   },
   "outputs": [],
   "source": [
    "X9.to_csv('X9.csv', index=False)"
   ]
  },
  {
   "cell_type": "code",
   "execution_count": 195,
   "metadata": {
    "collapsed": true
   },
   "outputs": [],
   "source": [
    "X10 = pd.read_csv('X9.csv')"
   ]
  },
  {
   "cell_type": "code",
   "execution_count": null,
   "metadata": {
    "collapsed": true
   },
   "outputs": [],
   "source": []
  },
  {
   "cell_type": "code",
   "execution_count": null,
   "metadata": {
    "collapsed": true
   },
   "outputs": [],
   "source": []
  },
  {
   "cell_type": "markdown",
   "metadata": {},
   "source": [
    "** Accuracy Metrics **\n",
    "\n",
    "Here is a list of metrics: \n",
    "\n",
    "http://scikit-learn.org/stable/modules/classes.html#classification-metrics\n",
    "\n",
    "http://scikit-learn.org/stable/modules/model_evaluation.html#classification-metrics"
   ]
  },
  {
   "cell_type": "markdown",
   "metadata": {},
   "source": [
    "Compare Model Labels (Based on Predict_Proba scores - not directly output from models)"
   ]
  },
  {
   "cell_type": "code",
   "execution_count": 207,
   "metadata": {
    "collapsed": false
   },
   "outputs": [],
   "source": [
    "model_labels = pd.read_csv('/Users/lmc2/NIST/Notebooks/CrowdVariant/CrowdVar_Model_Label_remove_0.5.csv')"
   ]
  },
  {
   "cell_type": "markdown",
   "metadata": {},
   "source": [
    "- **True Labels**: labels assigned by the crowd\n",
    "- **Predicted Labels**: labels from model (Based on Predict_Proba scores - not directly output from models)"
   ]
  },
  {
   "cell_type": "code",
   "execution_count": 208,
   "metadata": {
    "collapsed": false
   },
   "outputs": [
    {
     "data": {
      "text/plain": [
       "dtype('int64')"
      ]
     },
     "execution_count": 208,
     "metadata": {},
     "output_type": "execute_result"
    }
   ],
   "source": [
    "model_labels['Label'].dtypes"
   ]
  },
  {
   "cell_type": "code",
   "execution_count": 209,
   "metadata": {
    "collapsed": false
   },
   "outputs": [
    {
     "data": {
      "text/plain": [
       "dtype('int64')"
      ]
     },
     "execution_count": 209,
     "metadata": {},
     "output_type": "execute_result"
    }
   ],
   "source": [
    "model_labels['model_label'].dtypes"
   ]
  },
  {
   "cell_type": "code",
   "execution_count": 210,
   "metadata": {
    "collapsed": true
   },
   "outputs": [],
   "source": [
    "y_true = model_labels['Label']\n",
    "y_pred = model_labels['model_label']"
   ]
  },
  {
   "cell_type": "code",
   "execution_count": 228,
   "metadata": {
    "collapsed": false
   },
   "outputs": [
    {
     "data": {
      "text/plain": [
       "0.98390151515151514"
      ]
     },
     "execution_count": 228,
     "metadata": {},
     "output_type": "execute_result"
    }
   ],
   "source": [
    "from sklearn.metrics import precision_score\n",
    "#precision_score(y_true, y_pred, average='binary') \n",
    "#precision_score(y_true, y_pred, average='macro') \n",
    "#precision_score(y_true, y_pred, average=None)\n",
    "precision_score(y_true, y_pred, average='micro') \n",
    "#precision_score(y_true, y_pred, average='weighted') "
   ]
  },
  {
   "cell_type": "code",
   "execution_count": null,
   "metadata": {
    "collapsed": true
   },
   "outputs": [],
   "source": []
  },
  {
   "cell_type": "code",
   "execution_count": null,
   "metadata": {
    "collapsed": true
   },
   "outputs": [],
   "source": [
    "# The following metrics will not work, multiclass error?"
   ]
  },
  {
   "cell_type": "code",
   "execution_count": 214,
   "metadata": {
    "collapsed": false
   },
   "outputs": [
    {
     "name": "stderr",
     "output_type": "stream",
     "text": [
      "/Users/lmc2/anaconda/envs/NIHFAES/lib/python3.5/site-packages/sklearn/metrics/classification.py:1113: UndefinedMetricWarning:\n",
      "\n",
      "F-score is ill-defined and being set to 0.0 in labels with no predicted samples.\n",
      "\n"
     ]
    },
    {
     "data": {
      "text/plain": [
       "array([ 0.        ,  0.98084291,  0.98793363,  0.        ])"
      ]
     },
     "execution_count": 214,
     "metadata": {},
     "output_type": "execute_result"
    }
   ],
   "source": [
    "y_true = model_labels['Label']\n",
    "y_pred = model_labels['model_label']\n",
    "f1_score(y_true, y_pred, average=None)"
   ]
  },
  {
   "cell_type": "code",
   "execution_count": 215,
   "metadata": {
    "collapsed": false
   },
   "outputs": [
    {
     "ename": "ValueError",
     "evalue": "multiclass format is not supported",
     "output_type": "error",
     "traceback": [
      "\u001b[0;31m---------------------------------------------------------------------------\u001b[0m",
      "\u001b[0;31mValueError\u001b[0m                                Traceback (most recent call last)",
      "\u001b[0;32m<ipython-input-215-8199228f5a9c>\u001b[0m in \u001b[0;36m<module>\u001b[0;34m()\u001b[0m\n\u001b[1;32m      2\u001b[0m \u001b[0my_true\u001b[0m \u001b[0;34m=\u001b[0m \u001b[0mmodel_labels\u001b[0m\u001b[0;34m[\u001b[0m\u001b[0;34m'Label'\u001b[0m\u001b[0;34m]\u001b[0m\u001b[0;34m\u001b[0m\u001b[0m\n\u001b[1;32m      3\u001b[0m \u001b[0my_pred\u001b[0m \u001b[0;34m=\u001b[0m \u001b[0mmodel_labels\u001b[0m\u001b[0;34m[\u001b[0m\u001b[0;34m'model_label'\u001b[0m\u001b[0;34m]\u001b[0m\u001b[0;34m\u001b[0m\u001b[0m\n\u001b[0;32m----> 4\u001b[0;31m \u001b[0mroc_auc_score\u001b[0m\u001b[0;34m(\u001b[0m\u001b[0my_true\u001b[0m\u001b[0;34m,\u001b[0m \u001b[0my_pred\u001b[0m\u001b[0;34m)\u001b[0m\u001b[0;34m\u001b[0m\u001b[0m\n\u001b[0m",
      "\u001b[0;32m/Users/lmc2/anaconda/envs/NIHFAES/lib/python3.5/site-packages/sklearn/metrics/ranking.py\u001b[0m in \u001b[0;36mroc_auc_score\u001b[0;34m(y_true, y_score, average, sample_weight)\u001b[0m\n\u001b[1;32m    258\u001b[0m     return _average_binary_score(\n\u001b[1;32m    259\u001b[0m         \u001b[0m_binary_roc_auc_score\u001b[0m\u001b[0;34m,\u001b[0m \u001b[0my_true\u001b[0m\u001b[0;34m,\u001b[0m \u001b[0my_score\u001b[0m\u001b[0;34m,\u001b[0m \u001b[0maverage\u001b[0m\u001b[0;34m,\u001b[0m\u001b[0;34m\u001b[0m\u001b[0m\n\u001b[0;32m--> 260\u001b[0;31m         sample_weight=sample_weight)\n\u001b[0m\u001b[1;32m    261\u001b[0m \u001b[0;34m\u001b[0m\u001b[0m\n\u001b[1;32m    262\u001b[0m \u001b[0;34m\u001b[0m\u001b[0m\n",
      "\u001b[0;32m/Users/lmc2/anaconda/envs/NIHFAES/lib/python3.5/site-packages/sklearn/metrics/base.py\u001b[0m in \u001b[0;36m_average_binary_score\u001b[0;34m(binary_metric, y_true, y_score, average, sample_weight)\u001b[0m\n\u001b[1;32m     79\u001b[0m     \u001b[0my_type\u001b[0m \u001b[0;34m=\u001b[0m \u001b[0mtype_of_target\u001b[0m\u001b[0;34m(\u001b[0m\u001b[0my_true\u001b[0m\u001b[0;34m)\u001b[0m\u001b[0;34m\u001b[0m\u001b[0m\n\u001b[1;32m     80\u001b[0m     \u001b[0;32mif\u001b[0m \u001b[0my_type\u001b[0m \u001b[0;32mnot\u001b[0m \u001b[0;32min\u001b[0m \u001b[0;34m(\u001b[0m\u001b[0;34m\"binary\"\u001b[0m\u001b[0;34m,\u001b[0m \u001b[0;34m\"multilabel-indicator\"\u001b[0m\u001b[0;34m)\u001b[0m\u001b[0;34m:\u001b[0m\u001b[0;34m\u001b[0m\u001b[0m\n\u001b[0;32m---> 81\u001b[0;31m         \u001b[0;32mraise\u001b[0m \u001b[0mValueError\u001b[0m\u001b[0;34m(\u001b[0m\u001b[0;34m\"{0} format is not supported\"\u001b[0m\u001b[0;34m.\u001b[0m\u001b[0mformat\u001b[0m\u001b[0;34m(\u001b[0m\u001b[0my_type\u001b[0m\u001b[0;34m)\u001b[0m\u001b[0;34m)\u001b[0m\u001b[0;34m\u001b[0m\u001b[0m\n\u001b[0m\u001b[1;32m     82\u001b[0m \u001b[0;34m\u001b[0m\u001b[0m\n\u001b[1;32m     83\u001b[0m     \u001b[0;32mif\u001b[0m \u001b[0my_type\u001b[0m \u001b[0;34m==\u001b[0m \u001b[0;34m\"binary\"\u001b[0m\u001b[0;34m:\u001b[0m\u001b[0;34m\u001b[0m\u001b[0m\n",
      "\u001b[0;31mValueError\u001b[0m: multiclass format is not supported"
     ]
    }
   ],
   "source": [
    "from sklearn.metrics import roc_auc_score\n",
    "y_true = model_labels['Label']\n",
    "y_pred = model_labels['model_label']\n",
    "roc_auc_score(y_true, y_pred)\n"
   ]
  },
  {
   "cell_type": "code",
   "execution_count": null,
   "metadata": {
    "collapsed": true
   },
   "outputs": [],
   "source": []
  },
  {
   "cell_type": "code",
   "execution_count": 56,
   "metadata": {
    "collapsed": false
   },
   "outputs": [],
   "source": [
    "X6 = pd.read_csv('X6.csv')"
   ]
  },
  {
   "cell_type": "code",
   "execution_count": 57,
   "metadata": {
    "collapsed": false
   },
   "outputs": [
    {
     "data": {
      "text/plain": [
       "(1061, 170)"
      ]
     },
     "execution_count": 57,
     "metadata": {},
     "output_type": "execute_result"
    }
   ],
   "source": [
    "X6.shape"
   ]
  },
  {
   "cell_type": "code",
   "execution_count": 47,
   "metadata": {
    "collapsed": false,
    "scrolled": true
   },
   "outputs": [
    {
     "data": {
      "text/plain": [
       "(1061, 167)"
      ]
     },
     "execution_count": 47,
     "metadata": {},
     "output_type": "execute_result"
    }
   ],
   "source": [
    "X_test.shape"
   ]
  },
  {
   "cell_type": "code",
   "execution_count": 48,
   "metadata": {
    "collapsed": false
   },
   "outputs": [
    {
     "data": {
      "text/plain": [
       "(1061,)"
      ]
     },
     "execution_count": 48,
     "metadata": {},
     "output_type": "execute_result"
    }
   ],
   "source": [
    "y_test.shape"
   ]
  },
  {
   "cell_type": "code",
   "execution_count": 50,
   "metadata": {
    "collapsed": false
   },
   "outputs": [
    {
     "data": {
      "text/plain": [
       "(2122, 170)"
      ]
     },
     "execution_count": 50,
     "metadata": {},
     "output_type": "execute_result"
    }
   ],
   "source": [
    "X6.shape"
   ]
  },
  {
   "cell_type": "code",
   "execution_count": 58,
   "metadata": {
    "collapsed": true
   },
   "outputs": [],
   "source": [
    "X6['Labels'] = y_test"
   ]
  },
  {
   "cell_type": "code",
   "execution_count": 62,
   "metadata": {
    "collapsed": false
   },
   "outputs": [
    {
     "data": {
      "text/plain": [
       "(1061, 171)"
      ]
     },
     "execution_count": 62,
     "metadata": {},
     "output_type": "execute_result"
    }
   ],
   "source": [
    "X6.shape"
   ]
  },
  {
   "cell_type": "code",
   "execution_count": 60,
   "metadata": {
    "collapsed": true
   },
   "outputs": [],
   "source": [
    "X6.to_csv('X6_label.csv', index=False)"
   ]
  },
  {
   "cell_type": "code",
   "execution_count": null,
   "metadata": {
    "collapsed": true
   },
   "outputs": [],
   "source": []
  },
  {
   "cell_type": "code",
   "execution_count": 31,
   "metadata": {
    "collapsed": false
   },
   "outputs": [],
   "source": [
    "df_crowd.drop(['Label'],axis=1, inplace = True)"
   ]
  },
  {
   "cell_type": "code",
   "execution_count": 32,
   "metadata": {
    "collapsed": false
   },
   "outputs": [
    {
     "data": {
      "text/html": [
       "<div>\n",
       "<table border=\"1\" class=\"dataframe\">\n",
       "  <thead>\n",
       "    <tr style=\"text-align: right;\">\n",
       "      <th></th>\n",
       "      <th>Ill300x.alt_alnScore_mean</th>\n",
       "      <th>Ill300x.alt_alnScore_std</th>\n",
       "      <th>Ill300x.alt_count</th>\n",
       "      <th>Ill300x.alt_insertSize_mean</th>\n",
       "      <th>Ill300x.alt_insertSize_std</th>\n",
       "      <th>Ill300x.alt_reason_alignmentScore</th>\n",
       "      <th>Ill300x.alt_reason_insertSizeScore</th>\n",
       "      <th>Ill300x.alt_reason_orientation</th>\n",
       "      <th>Ill300x.amb_alnScore_mean</th>\n",
       "      <th>Ill300x.amb_alnScore_std</th>\n",
       "      <th>...</th>\n",
       "      <th>TenX.HP2_amb_reason_same_scores</th>\n",
       "      <th>TenX.HP2_ref_alnScore_mean</th>\n",
       "      <th>TenX.HP2_ref_alnScore_std</th>\n",
       "      <th>TenX.HP2_ref_count</th>\n",
       "      <th>TenX.HP2_ref_insertSize_mean</th>\n",
       "      <th>TenX.HP2_ref_insertSize_std</th>\n",
       "      <th>TenX.HP2_ref_reason_alignmentScore</th>\n",
       "      <th>TenX.HP2_ref_reason_orientation</th>\n",
       "      <th>size</th>\n",
       "      <th>Svsize</th>\n",
       "    </tr>\n",
       "  </thead>\n",
       "  <tbody>\n",
       "    <tr>\n",
       "      <th>0</th>\n",
       "      <td>NaN</td>\n",
       "      <td>NaN</td>\n",
       "      <td>NaN</td>\n",
       "      <td>NaN</td>\n",
       "      <td>NaN</td>\n",
       "      <td>NaN</td>\n",
       "      <td>NaN</td>\n",
       "      <td>NaN</td>\n",
       "      <td>NaN</td>\n",
       "      <td>NaN</td>\n",
       "      <td>...</td>\n",
       "      <td>35.0</td>\n",
       "      <td>503.500000</td>\n",
       "      <td>25.500000</td>\n",
       "      <td>2.0</td>\n",
       "      <td>281.500000</td>\n",
       "      <td>26.500000</td>\n",
       "      <td>2.0</td>\n",
       "      <td>0.0</td>\n",
       "      <td>103</td>\n",
       "      <td>103</td>\n",
       "    </tr>\n",
       "    <tr>\n",
       "      <th>1</th>\n",
       "      <td>NaN</td>\n",
       "      <td>NaN</td>\n",
       "      <td>NaN</td>\n",
       "      <td>NaN</td>\n",
       "      <td>NaN</td>\n",
       "      <td>NaN</td>\n",
       "      <td>NaN</td>\n",
       "      <td>NaN</td>\n",
       "      <td>NaN</td>\n",
       "      <td>NaN</td>\n",
       "      <td>...</td>\n",
       "      <td>0.0</td>\n",
       "      <td>528.138889</td>\n",
       "      <td>20.997556</td>\n",
       "      <td>36.0</td>\n",
       "      <td>339.777778</td>\n",
       "      <td>122.282485</td>\n",
       "      <td>27.0</td>\n",
       "      <td>9.0</td>\n",
       "      <td>275</td>\n",
       "      <td>275</td>\n",
       "    </tr>\n",
       "    <tr>\n",
       "      <th>2</th>\n",
       "      <td>580.681818</td>\n",
       "      <td>15.496001</td>\n",
       "      <td>22.0</td>\n",
       "      <td>1126.909091</td>\n",
       "      <td>202.803736</td>\n",
       "      <td>0.0</td>\n",
       "      <td>22.0</td>\n",
       "      <td>0.0</td>\n",
       "      <td>547.209939</td>\n",
       "      <td>84.570535</td>\n",
       "      <td>...</td>\n",
       "      <td>0.0</td>\n",
       "      <td>517.333333</td>\n",
       "      <td>40.540789</td>\n",
       "      <td>3.0</td>\n",
       "      <td>819.666667</td>\n",
       "      <td>361.818862</td>\n",
       "      <td>3.0</td>\n",
       "      <td>0.0</td>\n",
       "      <td>218</td>\n",
       "      <td>218</td>\n",
       "    </tr>\n",
       "  </tbody>\n",
       "</table>\n",
       "<p>3 rows × 167 columns</p>\n",
       "</div>"
      ],
      "text/plain": [
       "   Ill300x.alt_alnScore_mean  Ill300x.alt_alnScore_std  Ill300x.alt_count  \\\n",
       "0                        NaN                       NaN                NaN   \n",
       "1                        NaN                       NaN                NaN   \n",
       "2                 580.681818                 15.496001               22.0   \n",
       "\n",
       "   Ill300x.alt_insertSize_mean  Ill300x.alt_insertSize_std  \\\n",
       "0                          NaN                         NaN   \n",
       "1                          NaN                         NaN   \n",
       "2                  1126.909091                  202.803736   \n",
       "\n",
       "   Ill300x.alt_reason_alignmentScore  Ill300x.alt_reason_insertSizeScore  \\\n",
       "0                                NaN                                 NaN   \n",
       "1                                NaN                                 NaN   \n",
       "2                                0.0                                22.0   \n",
       "\n",
       "   Ill300x.alt_reason_orientation  Ill300x.amb_alnScore_mean  \\\n",
       "0                             NaN                        NaN   \n",
       "1                             NaN                        NaN   \n",
       "2                             0.0                 547.209939   \n",
       "\n",
       "   Ill300x.amb_alnScore_std   ...    TenX.HP2_amb_reason_same_scores  \\\n",
       "0                       NaN   ...                               35.0   \n",
       "1                       NaN   ...                                0.0   \n",
       "2                 84.570535   ...                                0.0   \n",
       "\n",
       "   TenX.HP2_ref_alnScore_mean  TenX.HP2_ref_alnScore_std  TenX.HP2_ref_count  \\\n",
       "0                  503.500000                  25.500000                 2.0   \n",
       "1                  528.138889                  20.997556                36.0   \n",
       "2                  517.333333                  40.540789                 3.0   \n",
       "\n",
       "   TenX.HP2_ref_insertSize_mean  TenX.HP2_ref_insertSize_std  \\\n",
       "0                    281.500000                    26.500000   \n",
       "1                    339.777778                   122.282485   \n",
       "2                    819.666667                   361.818862   \n",
       "\n",
       "   TenX.HP2_ref_reason_alignmentScore  TenX.HP2_ref_reason_orientation  size  \\\n",
       "0                                 2.0                              0.0   103   \n",
       "1                                27.0                              9.0   275   \n",
       "2                                 3.0                              0.0   218   \n",
       "\n",
       "   Svsize  \n",
       "0     103  \n",
       "1     275  \n",
       "2     218  \n",
       "\n",
       "[3 rows x 167 columns]"
      ]
     },
     "execution_count": 32,
     "metadata": {},
     "output_type": "execute_result"
    }
   ],
   "source": [
    "df_crowd.head(3)"
   ]
  },
  {
   "cell_type": "code",
   "execution_count": 33,
   "metadata": {
    "collapsed": true
   },
   "outputs": [],
   "source": [
    "df_crowd.to_csv('crowded.csv', index=False)"
   ]
  },
  {
   "cell_type": "markdown",
   "metadata": {},
   "source": [
    "** Impute Missing Values Using KNN** \n",
    "#Question? Deciding on K"
   ]
  },
  {
   "cell_type": "code",
   "execution_count": 49,
   "metadata": {
    "collapsed": false
   },
   "outputs": [
    {
     "data": {
      "text/plain": [
       "Ill300x.alt_alnScore_mean                             23\n",
       "Ill300x.alt_alnScore_std                              23\n",
       "Ill300x.alt_count                                     23\n",
       "Ill300x.alt_insertSize_mean                           23\n",
       "Ill300x.alt_insertSize_std                            23\n",
       "Ill300x.alt_reason_alignmentScore                     23\n",
       "Ill300x.alt_reason_insertSizeScore                    23\n",
       "Ill300x.alt_reason_orientation                        23\n",
       "Ill300x.amb_alnScore_mean                             23\n",
       "Ill300x.amb_alnScore_std                              23\n",
       "Ill300x.amb_count                                     23\n",
       "Ill300x.amb_insertSize_mean                           23\n",
       "Ill300x.amb_insertSize_std                            23\n",
       "Ill300x.amb_reason_alignmentScore_alignmentScore      23\n",
       "Ill300x.amb_reason_alignmentScore_orientation         23\n",
       "Ill300x.amb_reason_flanking                           23\n",
       "Ill300x.amb_reason_insertSizeScore_alignmentScore     23\n",
       "Ill300x.amb_reason_insertSizeScore_insertSizeScore    23\n",
       "Ill300x.amb_reason_multimapping                       23\n",
       "Ill300x.amb_reason_orientation_alignmentScore         23\n",
       "Ill300x.amb_reason_orientation_orientation            23\n",
       "Ill300x.amb_reason_same_scores                        23\n",
       "Ill300x.ref_alnScore_mean                             23\n",
       "Ill300x.ref_alnScore_std                              23\n",
       "Ill300x.ref_count                                     23\n",
       "Ill300x.ref_insertSize_mean                           23\n",
       "Ill300x.ref_insertSize_std                            23\n",
       "Ill300x.ref_reason_alignmentScore                     23\n",
       "Ill300x.ref_reason_insertSizeScore                    23\n",
       "Ill300x.ref_reason_orientation                        23\n",
       "                                                      ..\n",
       "TenX.HP2_alt_alnScore_mean                             2\n",
       "TenX.HP2_alt_alnScore_std                              2\n",
       "TenX.HP2_alt_count                                     2\n",
       "TenX.HP2_alt_insertSize_mean                           2\n",
       "TenX.HP2_alt_insertSize_std                            2\n",
       "TenX.HP2_alt_reason_alignmentScore                     2\n",
       "TenX.HP2_alt_reason_insertSizeScore                    2\n",
       "TenX.HP2_alt_reason_orientation                        2\n",
       "TenX.HP2_amb_alnScore_mean                             2\n",
       "TenX.HP2_amb_alnScore_std                              2\n",
       "TenX.HP2_amb_count                                     2\n",
       "TenX.HP2_amb_insertSize_mean                           2\n",
       "TenX.HP2_amb_insertSize_std                            2\n",
       "TenX.HP2_amb_reason_alignmentScore_alignmentScore      2\n",
       "TenX.HP2_amb_reason_alignmentScore_orientation         2\n",
       "TenX.HP2_amb_reason_flanking                           2\n",
       "TenX.HP2_amb_reason_insertSizeScore_alignmentScore     2\n",
       "TenX.HP2_amb_reason_multimapping                       2\n",
       "TenX.HP2_amb_reason_orientation_alignmentScore         2\n",
       "TenX.HP2_amb_reason_orientation_orientation            2\n",
       "TenX.HP2_amb_reason_same_scores                        2\n",
       "TenX.HP2_ref_alnScore_mean                             2\n",
       "TenX.HP2_ref_alnScore_std                              2\n",
       "TenX.HP2_ref_count                                     2\n",
       "TenX.HP2_ref_insertSize_mean                           2\n",
       "TenX.HP2_ref_insertSize_std                            2\n",
       "TenX.HP2_ref_reason_alignmentScore                     2\n",
       "TenX.HP2_ref_reason_orientation                        2\n",
       "size                                                   0\n",
       "Svsize                                                 0\n",
       "dtype: int64"
      ]
     },
     "execution_count": 49,
     "metadata": {},
     "output_type": "execute_result"
    }
   ],
   "source": [
    "#Count Number of NaN in each column before imputaiton\n",
    "dfNaN=pd.DataFrame()\n",
    "NaN_count_pre=df_crowd.isnull().sum()\n",
    "NaN_count_pre"
   ]
  },
  {
   "cell_type": "code",
   "execution_count": 54,
   "metadata": {
    "collapsed": true
   },
   "outputs": [],
   "source": [
    "# Add column names\n",
    "df_crowd2.columns = ['Ill300x.alt_alnScore_mean','Ill300x.alt_alnScore_std','Ill300x.alt_count','Ill300x.alt_insertSize_mean','Ill300x.alt_insertSize_std','Ill300x.alt_reason_alignmentScore','Ill300x.alt_reason_insertSizeScore','Ill300x.alt_reason_orientation','Ill300x.amb_alnScore_mean','Ill300x.amb_alnScore_std','Ill300x.amb_count','Ill300x.amb_insertSize_mean','Ill300x.amb_insertSize_std','Ill300x.amb_reason_alignmentScore_alignmentScore','Ill300x.amb_reason_alignmentScore_orientation','Ill300x.amb_reason_flanking','Ill300x.amb_reason_insertSizeScore_alignmentScore','Ill300x.amb_reason_insertSizeScore_insertSizeScore','Ill300x.amb_reason_multimapping','Ill300x.amb_reason_orientation_alignmentScore','Ill300x.amb_reason_orientation_orientation','Ill300x.amb_reason_same_scores','Ill300x.ref_alnScore_mean','Ill300x.ref_alnScore_std','Ill300x.ref_count','Ill300x.ref_insertSize_mean','Ill300x.ref_insertSize_std','Ill300x.ref_reason_alignmentScore','Ill300x.ref_reason_insertSizeScore','Ill300x.ref_reason_orientation','Ill250.alt_alnScore_mean','Ill250.alt_alnScore_std','Ill250.alt_count','Ill250.alt_insertSize_mean','Ill250.alt_insertSize_std','Ill250.alt_reason_alignmentScore','Ill250.alt_reason_insertSizeScore','Ill250.alt_reason_orientation','Ill250.amb_alnScore_mean','Ill250.amb_alnScore_std','Ill250.amb_count','Ill250.amb_insertSize_mean','Ill250.amb_insertSize_std','Ill250.amb_reason_alignmentScore_alignmentScore','Ill250.amb_reason_alignmentScore_orientation','Ill250.amb_reason_flanking','Ill250.amb_reason_insertSizeScore_alignmentScore','Ill250.amb_reason_insertSizeScore_insertSizeScore','Ill250.amb_reason_multimapping','Ill250.amb_reason_orientation_alignmentScore','Ill250.amb_reason_orientation_orientation','Ill250.amb_reason_same_scores','Ill250.ref_alnScore_mean','Ill250.ref_alnScore_std','Ill250.ref_count','Ill250.ref_insertSize_mean','Ill250.ref_insertSize_std','Ill250.ref_reason_alignmentScore','Ill250.ref_reason_orientation','IllMP.alt_alnScore_mean','IllMP.alt_alnScore_std','IllMP.alt_count','IllMP.alt_insertSize_mean','IllMP.alt_insertSize_std','IllMP.alt_reason_alignmentScore','IllMP.alt_reason_insertSizeScore','IllMP.alt_reason_orientation','IllMP.amb_alnScore_mean','IllMP.amb_alnScore_std','IllMP.amb_count','IllMP.amb_insertSize_mean','IllMP.amb_insertSize_std','IllMP.amb_reason_alignmentScore_alignmentScore','IllMP.amb_reason_alignmentScore_orientation','IllMP.amb_reason_flanking','IllMP.amb_reason_insertSizeScore_insertSizeScore','IllMP.amb_reason_multimapping','IllMP.amb_reason_orientation_alignmentScore','IllMP.amb_reason_orientation_orientation','IllMP.amb_reason_same_scores','IllMP.ref_alnScore_mean','IllMP.ref_alnScore_std','IllMP.ref_count','IllMP.ref_insertSize_mean','IllMP.ref_insertSize_std','IllMP.ref_reason_alignmentScore','IllMP.ref_reason_insertSizeScore','IllMP.ref_reason_orientation','pacbio.alt_alnScore_mean','pacbio.alt_alnScore_std','pacbio.alt_count','pacbio.alt_insertSize_mean','pacbio.alt_insertSize_std','pacbio.alt_reason_alignmentScore','pacbio.amb_alnScore_mean','pacbio.amb_alnScore_std','pacbio.amb_count','pacbio.amb_insertSize_mean','pacbio.amb_insertSize_std','pacbio.amb_reason_alignmentScore_alignmentScore','pacbio.amb_reason_flanking','pacbio.amb_reason_multimapping','pacbio.amb_reason_same_scores','pacbio.ref_alnScore_mean','pacbio.ref_alnScore_std','pacbio.ref_count','pacbio.ref_insertSize_mean','pacbio.ref_insertSize_std','pacbio.ref_reason_alignmentScore','TenX.HP1_alt_alnScore_mean','TenX.HP1_alt_alnScore_std','TenX.HP1_alt_count','TenX.HP1_alt_insertSize_mean','TenX.HP1_alt_insertSize_std','TenX.HP1_alt_reason_alignmentScore','TenX.HP1_alt_reason_insertSizeScore','TenX.HP1_alt_reason_orientation','TenX.HP1_amb_alnScore_mean','TenX.HP1_amb_alnScore_std','TenX.HP1_amb_count','TenX.HP1_amb_insertSize_mean','TenX.HP1_amb_insertSize_std','TenX.HP1_amb_reason_alignmentScore_alignmentScore','TenX.HP1_amb_reason_alignmentScore_orientation','TenX.HP1_amb_reason_flanking','TenX.HP1_amb_reason_insertSizeScore_alignmentScore','TenX.HP1_amb_reason_multimapping','TenX.HP1_amb_reason_orientation_alignmentScore','TenX.HP1_amb_reason_orientation_orientation','TenX.HP1_amb_reason_same_scores','TenX.HP1_ref_alnScore_mean','TenX.HP1_ref_alnScore_std','TenX.HP1_ref_count','TenX.HP1_ref_insertSize_mean','TenX.HP1_ref_insertSize_std','TenX.HP1_ref_reason_alignmentScore','TenX.HP1_ref_reason_orientation','TenX.HP2_alt_alnScore_mean','TenX.HP2_alt_alnScore_std','TenX.HP2_alt_count','TenX.HP2_alt_insertSize_mean','TenX.HP2_alt_insertSize_std','TenX.HP2_alt_reason_alignmentScore','TenX.HP2_alt_reason_insertSizeScore','TenX.HP2_alt_reason_orientation','TenX.HP2_amb_alnScore_mean','TenX.HP2_amb_alnScore_std','TenX.HP2_amb_count','TenX.HP2_amb_insertSize_mean','TenX.HP2_amb_insertSize_std','TenX.HP2_amb_reason_alignmentScore_alignmentScore','TenX.HP2_amb_reason_alignmentScore_orientation','TenX.HP2_amb_reason_flanking','TenX.HP2_amb_reason_insertSizeScore_alignmentScore','TenX.HP2_amb_reason_multimapping','TenX.HP2_amb_reason_orientation_alignmentScore','TenX.HP2_amb_reason_orientation_orientation','TenX.HP2_amb_reason_same_scores','TenX.HP2_ref_alnScore_mean','TenX.HP2_ref_alnScore_std','TenX.HP2_ref_count','TenX.HP2_ref_insertSize_mean','TenX.HP2_ref_insertSize_std','TenX.HP2_ref_reason_alignmentScore','TenX.HP2_ref_reason_orientation','size','Svsize']"
   ]
  },
  {
   "cell_type": "code",
   "execution_count": 55,
   "metadata": {
    "collapsed": false
   },
   "outputs": [
    {
     "data": {
      "text/plain": [
       "Ill300x.alt_alnScore_mean                             0\n",
       "Ill300x.alt_alnScore_std                              0\n",
       "Ill300x.alt_count                                     0\n",
       "Ill300x.alt_insertSize_mean                           0\n",
       "Ill300x.alt_insertSize_std                            0\n",
       "Ill300x.alt_reason_alignmentScore                     0\n",
       "Ill300x.alt_reason_insertSizeScore                    0\n",
       "Ill300x.alt_reason_orientation                        0\n",
       "Ill300x.amb_alnScore_mean                             0\n",
       "Ill300x.amb_alnScore_std                              0\n",
       "Ill300x.amb_count                                     0\n",
       "Ill300x.amb_insertSize_mean                           0\n",
       "Ill300x.amb_insertSize_std                            0\n",
       "Ill300x.amb_reason_alignmentScore_alignmentScore      0\n",
       "Ill300x.amb_reason_alignmentScore_orientation         0\n",
       "Ill300x.amb_reason_flanking                           0\n",
       "Ill300x.amb_reason_insertSizeScore_alignmentScore     0\n",
       "Ill300x.amb_reason_insertSizeScore_insertSizeScore    0\n",
       "Ill300x.amb_reason_multimapping                       0\n",
       "Ill300x.amb_reason_orientation_alignmentScore         0\n",
       "Ill300x.amb_reason_orientation_orientation            0\n",
       "Ill300x.amb_reason_same_scores                        0\n",
       "Ill300x.ref_alnScore_mean                             0\n",
       "Ill300x.ref_alnScore_std                              0\n",
       "Ill300x.ref_count                                     0\n",
       "Ill300x.ref_insertSize_mean                           0\n",
       "Ill300x.ref_insertSize_std                            0\n",
       "Ill300x.ref_reason_alignmentScore                     0\n",
       "Ill300x.ref_reason_insertSizeScore                    0\n",
       "Ill300x.ref_reason_orientation                        0\n",
       "                                                     ..\n",
       "TenX.HP2_alt_alnScore_mean                            0\n",
       "TenX.HP2_alt_alnScore_std                             0\n",
       "TenX.HP2_alt_count                                    0\n",
       "TenX.HP2_alt_insertSize_mean                          0\n",
       "TenX.HP2_alt_insertSize_std                           0\n",
       "TenX.HP2_alt_reason_alignmentScore                    0\n",
       "TenX.HP2_alt_reason_insertSizeScore                   0\n",
       "TenX.HP2_alt_reason_orientation                       0\n",
       "TenX.HP2_amb_alnScore_mean                            0\n",
       "TenX.HP2_amb_alnScore_std                             0\n",
       "TenX.HP2_amb_count                                    0\n",
       "TenX.HP2_amb_insertSize_mean                          0\n",
       "TenX.HP2_amb_insertSize_std                           0\n",
       "TenX.HP2_amb_reason_alignmentScore_alignmentScore     0\n",
       "TenX.HP2_amb_reason_alignmentScore_orientation        0\n",
       "TenX.HP2_amb_reason_flanking                          0\n",
       "TenX.HP2_amb_reason_insertSizeScore_alignmentScore    0\n",
       "TenX.HP2_amb_reason_multimapping                      0\n",
       "TenX.HP2_amb_reason_orientation_alignmentScore        0\n",
       "TenX.HP2_amb_reason_orientation_orientation           0\n",
       "TenX.HP2_amb_reason_same_scores                       0\n",
       "TenX.HP2_ref_alnScore_mean                            0\n",
       "TenX.HP2_ref_alnScore_std                             0\n",
       "TenX.HP2_ref_count                                    0\n",
       "TenX.HP2_ref_insertSize_mean                          0\n",
       "TenX.HP2_ref_insertSize_std                           0\n",
       "TenX.HP2_ref_reason_alignmentScore                    0\n",
       "TenX.HP2_ref_reason_orientation                       0\n",
       "size                                                  0\n",
       "Svsize                                                0\n",
       "dtype: int64"
      ]
     },
     "execution_count": 55,
     "metadata": {},
     "output_type": "execute_result"
    }
   ],
   "source": [
    "#Count Number of NaN in each column after imputaiton\n",
    "NaN_count_post=df_crowd2.isnull().sum()\n",
    "NaN_count_post"
   ]
  },
  {
   "cell_type": "markdown",
   "metadata": {},
   "source": [
    "** Scale Data **"
   ]
  },
  {
   "cell_type": "code",
   "execution_count": 56,
   "metadata": {
    "collapsed": true
   },
   "outputs": [],
   "source": [
    "#ScaledData\n",
    "#Standardizefeaturesbyremovingthemeanandscalingtounitvariance\n",
    "scaler=preprocessing.StandardScaler()\n",
    "X=scaler.fit_transform(df_crowd2)"
   ]
  },
  {
   "cell_type": "markdown",
   "metadata": {},
   "source": [
    "** tSNE Analysis **"
   ]
  },
  {
   "cell_type": "code",
   "execution_count": 58,
   "metadata": {
    "collapsed": false
   },
   "outputs": [],
   "source": [
    "# 1. SVD Decomposition - will make tSNE run faster\n",
    "\n",
    "###########################################\n",
    "#SVD\n",
    "###########################################\n",
    "ncomps=100\n",
    "svd=TruncatedSVD(n_components=ncomps)\n",
    "svd_fit=svd.fit(X)\n",
    "Y=svd.fit_transform(X)\n",
    "dfsvd = pd.DataFrame(Y, columns=['c{}'.format(c) for c in range(ncomps)], index=df_crowd2.index)"
   ]
  },
  {
   "cell_type": "code",
   "execution_count": 60,
   "metadata": {
    "collapsed": false
   },
   "outputs": [
    {
     "data": {
      "text/plain": [
       "(1515, 2)"
      ]
     },
     "execution_count": 60,
     "metadata": {},
     "output_type": "execute_result"
    }
   ],
   "source": [
    "###########################################\n",
    "# TSNE\n",
    "########################################### \n",
    "tsne = TSNE(n_components=2, random_state=0)\n",
    "Z = tsne.fit_transform(dfsvd)\n",
    "dftsne = pd.DataFrame(Z, columns=['x','y'], index=dfsvd.index)\n",
    "dftsne.shape"
   ]
  },
  {
   "cell_type": "markdown",
   "metadata": {},
   "source": [
    "** DBSCAN **\n",
    "\n",
    "Genenrate cluster labels from tSNE Clusters"
   ]
  },
  {
   "cell_type": "code",
   "execution_count": 73,
   "metadata": {
    "collapsed": false
   },
   "outputs": [
    {
     "name": "stdout",
     "output_type": "stream",
     "text": [
      "Unique labels: [ -1   0   1   2   3   4   5   6   7   8   9  10  11  12  13  14  15  16\n",
      "  17  18  19  20  21  22  23  24  25  26  27  28  29  30  31  32  33  34\n",
      "  35  36  37  38  39  40  41  42  43  44  45  46  47  48  49  50  51  52\n",
      "  53  54  55  56  57  58  59  60  61  62  63  64  65  66  67  68  69  70\n",
      "  71  72  73  74  75  76  77  78  79  80  81  82  83  84  85  86  87  88\n",
      "  89  90  91  92  93  94  95  96  97  98  99 100 101 102 103 104 105 106\n",
      " 107 108 109 110 111 112 113 114 115 116 117 118 119 120]\n"
     ]
    }
   ],
   "source": [
    "dbscan = DBSCAN(min_samples=4)\n",
    "labels = dbscan.fit_predict(Z)\n",
    "print(\"Unique labels: {}\".format(np.unique(labels)))\n",
    "df_crowd2['clusterLabel'] = labels\n",
    "df_crowd2.to_csv('CrowdVar.DEL.tSNE_minSample_4.csv', index=False)"
   ]
  },
  {
   "cell_type": "code",
   "execution_count": 87,
   "metadata": {
    "collapsed": false
   },
   "outputs": [],
   "source": [
    "\n",
    "'''\n",
    "Data Cleaning\n",
    "'''\n",
    "# dftsne['tandemrep_pct'] = df_crowd['tandemrep_pct']\n",
    "# dftsne['segdup_pct'] = df_crowd['segdup_pct']\n",
    "# dftsne['segdup_pct'].replace(0,-1,inplace=True)\n",
    "# dftsne['tandemrep_pct'].replace(0,-1,inplace=True)\n",
    "\n",
    "# bins = [-1, 0.2, 0.5, 1]\n",
    "# group_names = ['0-0.2', '0.2-0.5', '0.5-1']\n",
    "# df_crowd['cat'] = pd.cut(df_crowd['segdup_pct'], bins, labels=group_names)\n",
    "# df_crowd['cat2'] = pd.cut(df_crowd['tandemrep_pct'], bins, labels=group_names)\n",
    "\n",
    "#Size Bins\n",
    "bins = [20,50,100,1000,3000,9062]\n",
    "df_crowd['Size'] = df_crowd['size'].abs()\n",
    "group_names_size = ['20-50', '50-100', '100-1000', '1000-3000', '3000-9062']\n",
    "df_crowd['size_bin'] = pd.cut(df_crowd['size'], bins, labels=group_names_size)\n",
    "# dftsne['cat'] = df_crowd['cat']\n",
    "# dftsne['cat2'] = df_crowd['cat2']\n",
    "dftsne['size_bin'] = df_crowd['size_bin']\n",
    "\n",
    "\n",
    "df_crowd['Size2'] = df_crowd['size'].apply(lambda x: x/1000)\n",
    "dftsne['Size2'] = df_crowd['Size2']\n",
    "dftsne['Size'] = df_crowd['size']\n",
    "dftsne['GTcons'] = df_crowd['GTcons']\n",
    "dftsne['sample'] = df_crowd['sample']\n",
    "# dftsne['refN_pct'] = df_crowd['refN_pct']\n",
    "dftsne['label'] = df_crowd['Label']\n",
    "dftsne['clusterLabel'] = df_crowd2['clusterLabel']"
   ]
  },
  {
   "cell_type": "code",
   "execution_count": 85,
   "metadata": {
    "collapsed": false
   },
   "outputs": [
    {
     "data": {
      "text/html": [
       "\n",
       "    <div class=\"bk-root\">\n",
       "        <a href=\"http://bokeh.pydata.org\" target=\"_blank\" class=\"bk-logo bk-logo-small bk-logo-notebook\"></a>\n",
       "        <span id=\"b7266904-7bdc-4178-8b44-0b8e8b4938db\">Loading BokehJS ...</span>\n",
       "    </div>"
      ]
     },
     "metadata": {},
     "output_type": "display_data"
    },
    {
     "data": {
      "application/javascript": [
       "\n",
       "(function(global) {\n",
       "  function now() {\n",
       "    return new Date();\n",
       "  }\n",
       "\n",
       "  var force = true;\n",
       "\n",
       "  if (typeof (window._bokeh_onload_callbacks) === \"undefined\" || force === true) {\n",
       "    window._bokeh_onload_callbacks = [];\n",
       "    window._bokeh_is_loading = undefined;\n",
       "  }\n",
       "\n",
       "\n",
       "  \n",
       "  if (typeof (window._bokeh_timeout) === \"undefined\" || force === true) {\n",
       "    window._bokeh_timeout = Date.now() + 5000;\n",
       "    window._bokeh_failed_load = false;\n",
       "  }\n",
       "\n",
       "  var NB_LOAD_WARNING = {'data': {'text/html':\n",
       "     \"<div style='background-color: #fdd'>\\n\"+\n",
       "     \"<p>\\n\"+\n",
       "     \"BokehJS does not appear to have successfully loaded. If loading BokehJS from CDN, this \\n\"+\n",
       "     \"may be due to a slow or bad network connection. Possible fixes:\\n\"+\n",
       "     \"</p>\\n\"+\n",
       "     \"<ul>\\n\"+\n",
       "     \"<li>re-rerun `output_notebook()` to attempt to load from CDN again, or</li>\\n\"+\n",
       "     \"<li>use INLINE resources instead, as so:</li>\\n\"+\n",
       "     \"</ul>\\n\"+\n",
       "     \"<code>\\n\"+\n",
       "     \"from bokeh.resources import INLINE\\n\"+\n",
       "     \"output_notebook(resources=INLINE)\\n\"+\n",
       "     \"</code>\\n\"+\n",
       "     \"</div>\"}};\n",
       "\n",
       "  function display_loaded() {\n",
       "    if (window.Bokeh !== undefined) {\n",
       "      document.getElementById(\"b7266904-7bdc-4178-8b44-0b8e8b4938db\").textContent = \"BokehJS successfully loaded.\";\n",
       "    } else if (Date.now() < window._bokeh_timeout) {\n",
       "      setTimeout(display_loaded, 100)\n",
       "    }\n",
       "  }\n",
       "\n",
       "  function run_callbacks() {\n",
       "    window._bokeh_onload_callbacks.forEach(function(callback) { callback() });\n",
       "    delete window._bokeh_onload_callbacks\n",
       "    console.info(\"Bokeh: all callbacks have finished\");\n",
       "  }\n",
       "\n",
       "  function load_libs(js_urls, callback) {\n",
       "    window._bokeh_onload_callbacks.push(callback);\n",
       "    if (window._bokeh_is_loading > 0) {\n",
       "      console.log(\"Bokeh: BokehJS is being loaded, scheduling callback at\", now());\n",
       "      return null;\n",
       "    }\n",
       "    if (js_urls == null || js_urls.length === 0) {\n",
       "      run_callbacks();\n",
       "      return null;\n",
       "    }\n",
       "    console.log(\"Bokeh: BokehJS not loaded, scheduling load and callback at\", now());\n",
       "    window._bokeh_is_loading = js_urls.length;\n",
       "    for (var i = 0; i < js_urls.length; i++) {\n",
       "      var url = js_urls[i];\n",
       "      var s = document.createElement('script');\n",
       "      s.src = url;\n",
       "      s.async = false;\n",
       "      s.onreadystatechange = s.onload = function() {\n",
       "        window._bokeh_is_loading--;\n",
       "        if (window._bokeh_is_loading === 0) {\n",
       "          console.log(\"Bokeh: all BokehJS libraries loaded\");\n",
       "          run_callbacks()\n",
       "        }\n",
       "      };\n",
       "      s.onerror = function() {\n",
       "        console.warn(\"failed to load library \" + url);\n",
       "      };\n",
       "      console.log(\"Bokeh: injecting script tag for BokehJS library: \", url);\n",
       "      document.getElementsByTagName(\"head\")[0].appendChild(s);\n",
       "    }\n",
       "  };var element = document.getElementById(\"b7266904-7bdc-4178-8b44-0b8e8b4938db\");\n",
       "  if (element == null) {\n",
       "    console.log(\"Bokeh: ERROR: autoload.js configured with elementid 'b7266904-7bdc-4178-8b44-0b8e8b4938db' but no matching script tag was found. \")\n",
       "    return false;\n",
       "  }\n",
       "\n",
       "  var js_urls = [\"https://cdn.pydata.org/bokeh/release/bokeh-0.12.4.min.js\", \"https://cdn.pydata.org/bokeh/release/bokeh-widgets-0.12.4.min.js\"];\n",
       "\n",
       "  var inline_js = [\n",
       "    function(Bokeh) {\n",
       "      Bokeh.set_log_level(\"info\");\n",
       "    },\n",
       "    \n",
       "    function(Bokeh) {\n",
       "      \n",
       "      document.getElementById(\"b7266904-7bdc-4178-8b44-0b8e8b4938db\").textContent = \"BokehJS is loading...\";\n",
       "    },\n",
       "    function(Bokeh) {\n",
       "      console.log(\"Bokeh: injecting CSS: https://cdn.pydata.org/bokeh/release/bokeh-0.12.4.min.css\");\n",
       "      Bokeh.embed.inject_css(\"https://cdn.pydata.org/bokeh/release/bokeh-0.12.4.min.css\");\n",
       "      console.log(\"Bokeh: injecting CSS: https://cdn.pydata.org/bokeh/release/bokeh-widgets-0.12.4.min.css\");\n",
       "      Bokeh.embed.inject_css(\"https://cdn.pydata.org/bokeh/release/bokeh-widgets-0.12.4.min.css\");\n",
       "    }\n",
       "  ];\n",
       "\n",
       "  function run_inline_js() {\n",
       "    \n",
       "    if ((window.Bokeh !== undefined) || (force === true)) {\n",
       "      for (var i = 0; i < inline_js.length; i++) {\n",
       "        inline_js[i](window.Bokeh);\n",
       "      }if (force === true) {\n",
       "        display_loaded();\n",
       "      }} else if (Date.now() < window._bokeh_timeout) {\n",
       "      setTimeout(run_inline_js, 100);\n",
       "    } else if (!window._bokeh_failed_load) {\n",
       "      console.log(\"Bokeh: BokehJS failed to load within specified timeout.\");\n",
       "      window._bokeh_failed_load = true;\n",
       "    } else if (force !== true) {\n",
       "      var cell = $(document.getElementById(\"b7266904-7bdc-4178-8b44-0b8e8b4938db\")).parents('.cell').data().cell;\n",
       "      cell.output_area.append_execute_result(NB_LOAD_WARNING)\n",
       "    }\n",
       "\n",
       "  }\n",
       "\n",
       "  if (window._bokeh_is_loading === 0) {\n",
       "    console.log(\"Bokeh: BokehJS loaded, going straight to plotting\");\n",
       "    run_inline_js();\n",
       "  } else {\n",
       "    load_libs(js_urls, function() {\n",
       "      console.log(\"Bokeh: BokehJS plotting callback run at\", now());\n",
       "      run_inline_js();\n",
       "    });\n",
       "  }\n",
       "}(this));"
      ]
     },
     "metadata": {},
     "output_type": "display_data"
    }
   ],
   "source": [
    "output_notebook()"
   ]
  },
  {
   "cell_type": "code",
   "execution_count": 96,
   "metadata": {
    "collapsed": false
   },
   "outputs": [
    {
     "name": "stderr",
     "output_type": "stream",
     "text": [
      "INFO:bokeh.core.state:Session output file 'DBSCAN_DEL_SVD.html' already exists, will be overwritten.\n"
     ]
    },
    {
     "data": {
      "text/html": [
       "\n",
       "\n",
       "    <div class=\"bk-root\">\n",
       "        <div class=\"bk-plotdiv\" id=\"19cebc5b-4225-4406-9511-ac95db5ca1d1\"></div>\n",
       "    </div>\n",
       "<script type=\"text/javascript\">\n",
       "  \n",
       "  (function(global) {\n",
       "    function now() {\n",
       "      return new Date();\n",
       "    }\n",
       "  \n",
       "    var force = false;\n",
       "  \n",
       "    if (typeof (window._bokeh_onload_callbacks) === \"undefined\" || force === true) {\n",
       "      window._bokeh_onload_callbacks = [];\n",
       "      window._bokeh_is_loading = undefined;\n",
       "    }\n",
       "  \n",
       "  \n",
       "    \n",
       "    if (typeof (window._bokeh_timeout) === \"undefined\" || force === true) {\n",
       "      window._bokeh_timeout = Date.now() + 0;\n",
       "      window._bokeh_failed_load = false;\n",
       "    }\n",
       "  \n",
       "    var NB_LOAD_WARNING = {'data': {'text/html':\n",
       "       \"<div style='background-color: #fdd'>\\n\"+\n",
       "       \"<p>\\n\"+\n",
       "       \"BokehJS does not appear to have successfully loaded. If loading BokehJS from CDN, this \\n\"+\n",
       "       \"may be due to a slow or bad network connection. Possible fixes:\\n\"+\n",
       "       \"</p>\\n\"+\n",
       "       \"<ul>\\n\"+\n",
       "       \"<li>re-rerun `output_notebook()` to attempt to load from CDN again, or</li>\\n\"+\n",
       "       \"<li>use INLINE resources instead, as so:</li>\\n\"+\n",
       "       \"</ul>\\n\"+\n",
       "       \"<code>\\n\"+\n",
       "       \"from bokeh.resources import INLINE\\n\"+\n",
       "       \"output_notebook(resources=INLINE)\\n\"+\n",
       "       \"</code>\\n\"+\n",
       "       \"</div>\"}};\n",
       "  \n",
       "    function display_loaded() {\n",
       "      if (window.Bokeh !== undefined) {\n",
       "        document.getElementById(\"19cebc5b-4225-4406-9511-ac95db5ca1d1\").textContent = \"BokehJS successfully loaded.\";\n",
       "      } else if (Date.now() < window._bokeh_timeout) {\n",
       "        setTimeout(display_loaded, 100)\n",
       "      }\n",
       "    }\n",
       "  \n",
       "    function run_callbacks() {\n",
       "      window._bokeh_onload_callbacks.forEach(function(callback) { callback() });\n",
       "      delete window._bokeh_onload_callbacks\n",
       "      console.info(\"Bokeh: all callbacks have finished\");\n",
       "    }\n",
       "  \n",
       "    function load_libs(js_urls, callback) {\n",
       "      window._bokeh_onload_callbacks.push(callback);\n",
       "      if (window._bokeh_is_loading > 0) {\n",
       "        console.log(\"Bokeh: BokehJS is being loaded, scheduling callback at\", now());\n",
       "        return null;\n",
       "      }\n",
       "      if (js_urls == null || js_urls.length === 0) {\n",
       "        run_callbacks();\n",
       "        return null;\n",
       "      }\n",
       "      console.log(\"Bokeh: BokehJS not loaded, scheduling load and callback at\", now());\n",
       "      window._bokeh_is_loading = js_urls.length;\n",
       "      for (var i = 0; i < js_urls.length; i++) {\n",
       "        var url = js_urls[i];\n",
       "        var s = document.createElement('script');\n",
       "        s.src = url;\n",
       "        s.async = false;\n",
       "        s.onreadystatechange = s.onload = function() {\n",
       "          window._bokeh_is_loading--;\n",
       "          if (window._bokeh_is_loading === 0) {\n",
       "            console.log(\"Bokeh: all BokehJS libraries loaded\");\n",
       "            run_callbacks()\n",
       "          }\n",
       "        };\n",
       "        s.onerror = function() {\n",
       "          console.warn(\"failed to load library \" + url);\n",
       "        };\n",
       "        console.log(\"Bokeh: injecting script tag for BokehJS library: \", url);\n",
       "        document.getElementsByTagName(\"head\")[0].appendChild(s);\n",
       "      }\n",
       "    };var element = document.getElementById(\"19cebc5b-4225-4406-9511-ac95db5ca1d1\");\n",
       "    if (element == null) {\n",
       "      console.log(\"Bokeh: ERROR: autoload.js configured with elementid '19cebc5b-4225-4406-9511-ac95db5ca1d1' but no matching script tag was found. \")\n",
       "      return false;\n",
       "    }\n",
       "  \n",
       "    var js_urls = [];\n",
       "  \n",
       "    var inline_js = [\n",
       "      function(Bokeh) {\n",
       "        (function() {\n",
       "          var fn = function() {\n",
       "            var docs_json = {\"cb394ba2-37c9-4596-b35f-943bebfd1d73\":{\"roots\":{\"references\":[{\"attributes\":{\"label\":{\"value\":\"86\"},\"renderers\":[{\"id\":\"ecd63b81-aa21-43de-b2c5-ec9eec00b78d\",\"type\":\"GlyphRenderer\"}]},\"id\":\"49d2ea5b-b153-422c-803d-d3dbb925c954\",\"type\":\"LegendItem\"},{\"attributes\":{\"label\":{\"value\":\"39\"},\"renderers\":[{\"id\":\"1d7871be-d11f-48ab-b6b4-8853ce6d53f7\",\"type\":\"GlyphRenderer\"}]},\"id\":\"e71b841a-cea9-43d6-86a1-37cca094e854\",\"type\":\"LegendItem\"},{\"attributes\":{\"fill_alpha\":{\"value\":0.7},\"fill_color\":{\"value\":\"#c5b0d5\"},\"line_color\":{\"value\":\"#c5b0d5\"},\"size\":{\"units\":\"screen\",\"value\":8},\"x\":{\"field\":\"x_values\"},\"y\":{\"field\":\"y_values\"}},\"id\":\"1091a78e-76a0-4b54-9b1f-17e3eea1292a\",\"type\":\"Circle\"},{\"attributes\":{\"label\":{\"value\":\"78\"},\"renderers\":[{\"id\":\"47efaff8-4f2c-4be9-8e74-62deed0c8543\",\"type\":\"GlyphRenderer\"}]},\"id\":\"e7d2de64-7801-4d63-ba3d-12472bacf66d\",\"type\":\"LegendItem\"},{\"attributes\":{\"callback\":null,\"column_names\":[\"x_values\",\"y_values\"],\"data\":{\"chart_index\":[{\"clusterLabel\":22},{\"clusterLabel\":22},{\"clusterLabel\":22},{\"clusterLabel\":22},{\"clusterLabel\":22},{\"clusterLabel\":22},{\"clusterLabel\":22},{\"clusterLabel\":22},{\"clusterLabel\":22},{\"clusterLabel\":22},{\"clusterLabel\":22}],\"clusterLabel\":[22,22,22,22,22,22,22,22,22,22,22],\"x_values\":{\"__ndarray__\":\"w9+US5AQMkA598/4eSgyQKy5WW7vjzJAhGT2J6iEMUDsK+JYqJoxQDJBpznu6zFAJuULHMXIMUCuGf/bWUwyQMDnQLUbojJARODacbskMkBHsuc6WWgxQA==\",\"dtype\":\"float64\",\"shape\":[11]},\"y_values\":{\"__ndarray__\":\"QtbpenOc8r8IRb5f6H3yv4Dh5CliL/G/dPy7xfGlzb8oTu4mRmqIvxhn8waHpOm/Hot9W5aK478oop8j3Hbxv+A/xUw7qva/QtkyJ+0i6b/uthzcyQrRvw==\",\"dtype\":\"float64\",\"shape\":[11]}}},\"id\":\"6e03d961-88eb-40df-8cf2-3f094a6db0ee\",\"type\":\"ColumnDataSource\"},{\"attributes\":{\"callback\":null,\"column_names\":[\"x_values\",\"y_values\"],\"data\":{\"chart_index\":[{\"clusterLabel\":114},{\"clusterLabel\":114},{\"clusterLabel\":114},{\"clusterLabel\":114},{\"clusterLabel\":114},{\"clusterLabel\":114},{\"clusterLabel\":114},{\"clusterLabel\":114},{\"clusterLabel\":114}],\"clusterLabel\":[114,114,114,114,114,114,114,114,114],\"x_values\":{\"__ndarray__\":\"IJXrSTT7NMDFq81W4d8zwL9kvrlygDTAWpH/wMirNMCIsIS2uyU1wJ5K3Gjt2TTAVNSS1fPcNMBYnZ6dXgA1wGWGgCUMNjTA\",\"dtype\":\"float64\",\"shape\":[9]},\"y_values\":{\"__ndarray__\":\"QDu+QXuaIkD1r400hvIiQPiLYd0l0SJAjYTzmislI0CRLM6DNkQlQA1phgF1hCRAybNWNoicI0COS6AWATUkQP6Nw3rZOCNA\",\"dtype\":\"float64\",\"shape\":[9]}}},\"id\":\"819fda90-27c3-413f-a9cc-80fe40ae794c\",\"type\":\"ColumnDataSource\"},{\"attributes\":{\"data_source\":{\"id\":\"d803b82e-c7b6-491a-a3fd-756ffc47248d\",\"type\":\"ColumnDataSource\"},\"glyph\":{\"id\":\"75d1f863-5c7d-41af-afce-2a084806be8d\",\"type\":\"Circle\"},\"hover_glyph\":null,\"nonselection_glyph\":null,\"selection_glyph\":null},\"id\":\"3fb386be-1deb-4b5c-aa49-0b49bb2eb094\",\"type\":\"GlyphRenderer\"},{\"attributes\":{\"label\":{\"value\":\"54\"},\"renderers\":[{\"id\":\"2472bae5-8619-47df-8ead-ece375dab754\",\"type\":\"GlyphRenderer\"}]},\"id\":\"cdcdf665-49a6-4980-84e6-6c9832dabfc5\",\"type\":\"LegendItem\"},{\"attributes\":{\"label\":{\"value\":\"19\"},\"renderers\":[{\"id\":\"4180e9cc-f570-425d-b2a1-331dd6a2b790\",\"type\":\"GlyphRenderer\"}]},\"id\":\"27f0dd31-12b6-47a3-8da0-2d53db1d3267\",\"type\":\"LegendItem\"},{\"attributes\":{\"data_source\":{\"id\":\"55d6c41a-d9a3-47ac-9e82-60b072745ffc\",\"type\":\"ColumnDataSource\"},\"glyph\":{\"id\":\"0fbd1266-2747-4b81-b30b-a8e100189c4f\",\"type\":\"Circle\"},\"hover_glyph\":null,\"nonselection_glyph\":null,\"selection_glyph\":null},\"id\":\"c0c4a055-f952-49d6-a30f-c82d419645f2\",\"type\":\"GlyphRenderer\"},{\"attributes\":{\"callback\":null,\"column_names\":[\"x_values\",\"y_values\"],\"data\":{\"chart_index\":[{\"clusterLabel\":74},{\"clusterLabel\":74},{\"clusterLabel\":74}],\"clusterLabel\":[74,74,74],\"x_values\":{\"__ndarray__\":\"cqorvr95KUDmqnD1erkpQFG6OJDbqClA\",\"dtype\":\"float64\",\"shape\":[3]},\"y_values\":{\"__ndarray__\":\"b2fYex0hIUCqxduwFqAhQJMGHkxQZSFA\",\"dtype\":\"float64\",\"shape\":[3]}}},\"id\":\"4b13a6e3-82e7-4245-83b8-7f8e3e753116\",\"type\":\"ColumnDataSource\"},{\"attributes\":{\"fill_alpha\":{\"value\":0.7},\"fill_color\":{\"value\":\"#dbdb8d\"},\"line_color\":{\"value\":\"#dbdb8d\"},\"size\":{\"units\":\"screen\",\"value\":8},\"x\":{\"field\":\"x_values\"},\"y\":{\"field\":\"y_values\"}},\"id\":\"ab24e15e-4aed-4d9b-abbb-d4848a3851d0\",\"type\":\"Circle\"},{\"attributes\":{\"fill_alpha\":{\"value\":0.7},\"fill_color\":{\"value\":\"#bcbd22\"},\"line_color\":{\"value\":\"#bcbd22\"},\"size\":{\"units\":\"screen\",\"value\":8},\"x\":{\"field\":\"x_values\"},\"y\":{\"field\":\"y_values\"}},\"id\":\"c1eb02e8-8d02-470f-9c8d-085f0d85526c\",\"type\":\"Circle\"},{\"attributes\":{\"fill_alpha\":{\"value\":0.7},\"fill_color\":{\"value\":\"#ffbb78\"},\"line_color\":{\"value\":\"#ffbb78\"},\"size\":{\"units\":\"screen\",\"value\":8},\"x\":{\"field\":\"x_values\"},\"y\":{\"field\":\"y_values\"}},\"id\":\"2ca8281b-c355-41a9-9cdb-d766681586b8\",\"type\":\"Circle\"},{\"attributes\":{\"data_source\":{\"id\":\"b6906b3f-0adb-44fc-88ef-add516f69e3a\",\"type\":\"ColumnDataSource\"},\"glyph\":{\"id\":\"c1eb02e8-8d02-470f-9c8d-085f0d85526c\",\"type\":\"Circle\"},\"hover_glyph\":null,\"nonselection_glyph\":null,\"selection_glyph\":null},\"id\":\"db6a0dbc-c70a-40ef-85b1-ab5b1e3152cf\",\"type\":\"GlyphRenderer\"},{\"attributes\":{\"label\":{\"value\":\"118\"},\"renderers\":[{\"id\":\"f2d690d1-d65e-47d2-8af9-53af71a39a41\",\"type\":\"GlyphRenderer\"}]},\"id\":\"939679ee-9300-45e2-8c53-3e0b6a15f43c\",\"type\":\"LegendItem\"},{\"attributes\":{\"data_source\":{\"id\":\"045a41e9-3cae-4127-83e3-f53d43a09621\",\"type\":\"ColumnDataSource\"},\"glyph\":{\"id\":\"4049f861-a876-4761-8ac5-887243cc1655\",\"type\":\"Circle\"},\"hover_glyph\":null,\"nonselection_glyph\":null,\"selection_glyph\":null},\"id\":\"8599c4da-dcbe-476f-8748-1c17a85efc34\",\"type\":\"GlyphRenderer\"},{\"attributes\":{\"fill_alpha\":{\"value\":0.7},\"fill_color\":{\"value\":\"#9edae5\"},\"line_color\":{\"value\":\"#9edae5\"},\"size\":{\"units\":\"screen\",\"value\":8},\"x\":{\"field\":\"x_values\"},\"y\":{\"field\":\"y_values\"}},\"id\":\"024605a8-88ef-47d1-bf88-a381934d5dbc\",\"type\":\"Circle\"},{\"attributes\":{\"label\":{\"value\":\"95\"},\"renderers\":[{\"id\":\"73846fed-4654-43c7-8919-c157aefc22fa\",\"type\":\"GlyphRenderer\"}]},\"id\":\"e00e882b-1e47-480d-a2fb-c537dec34165\",\"type\":\"LegendItem\"},{\"attributes\":{\"data_source\":{\"id\":\"e98d9529-0124-4244-9cb9-9eaa338014b0\",\"type\":\"ColumnDataSource\"},\"glyph\":{\"id\":\"aaf89cef-f6b0-458c-b781-1f229a4eb8c3\",\"type\":\"Circle\"},\"hover_glyph\":null,\"nonselection_glyph\":null,\"selection_glyph\":null},\"id\":\"42084c6c-466f-41d9-b36c-7112b72e6073\",\"type\":\"GlyphRenderer\"},{\"attributes\":{\"data_source\":{\"id\":\"7aaadd3a-e49c-4e6f-bad0-4672d757b4be\",\"type\":\"ColumnDataSource\"},\"glyph\":{\"id\":\"1e33d70a-145d-49b2-b55a-ef95aa95fb7e\",\"type\":\"Circle\"},\"hover_glyph\":null,\"nonselection_glyph\":null,\"selection_glyph\":null},\"id\":\"30024120-03c9-42f5-a47a-630adf4deb8c\",\"type\":\"GlyphRenderer\"},{\"attributes\":{\"callback\":null,\"column_names\":[\"x_values\",\"y_values\"],\"data\":{\"chart_index\":[{\"clusterLabel\":68},{\"clusterLabel\":68},{\"clusterLabel\":68},{\"clusterLabel\":68},{\"clusterLabel\":68},{\"clusterLabel\":68},{\"clusterLabel\":68},{\"clusterLabel\":68},{\"clusterLabel\":68},{\"clusterLabel\":68},{\"clusterLabel\":68},{\"clusterLabel\":68}],\"clusterLabel\":[68,68,68,68,68,68,68,68,68,68,68,68],\"x_values\":{\"__ndarray__\":\"3DMHh/5rLECZaQYOjHArQCDu7y+sGSxA7fxIOUllK0CfRPJ/uJgrQEWOsEjoSilAByDhCb6ALEB/NPMjrSEsQMEeVzcBjCtA+9/hLrJAKkCalJ0E7ncqQKvrgAJeiylA\",\"dtype\":\"float64\",\"shape\":[12]},\"y_values\":{\"__ndarray__\":\"yqqhidmGIED58HPM0yEgQNIt0naWwiBA30ibrSqyIEBeG7uUYKIfQKyi3E+moB9AZ34Iot3hIECudAcgjRUhQOaLIirR1yBATsC9T/ZNIEAG1af1deAfQBczx1UoZx9A\",\"dtype\":\"float64\",\"shape\":[12]}}},\"id\":\"632c1183-4d62-45af-965f-83f67948ca3f\",\"type\":\"ColumnDataSource\"},{\"attributes\":{\"plot\":{\"id\":\"3e35d95a-dc3d-4892-841b-3df199efd437\",\"subtype\":\"Chart\",\"type\":\"Plot\"},\"ticker\":{\"id\":\"07bcbf8d-00ef-4c02-a6fa-ef26859e33bd\",\"type\":\"BasicTicker\"}},\"id\":\"5226d2a0-b6c7-4ab4-84b9-35f7728ea480\",\"type\":\"Grid\"},{\"attributes\":{\"callback\":null,\"column_names\":[\"x_values\",\"y_values\"],\"data\":{\"chart_index\":[{\"clusterLabel\":67},{\"clusterLabel\":67},{\"clusterLabel\":67},{\"clusterLabel\":67},{\"clusterLabel\":67},{\"clusterLabel\":67}],\"clusterLabel\":[67,67,67,67,67,67],\"x_values\":{\"__ndarray__\":\"a29dQBF5H0Awz1Z+AMsfQMEOe7L0tx9A57XsEDCtH0DNj0hdC60fQNELgglgmx9A\",\"dtype\":\"float64\",\"shape\":[6]},\"y_values\":{\"__ndarray__\":\"zxUUqdCSIsCN5FwiDjMiwDnPhDYbUCLAYY9k58RlIsBWhvBtLWoiwJk3MR6hfCLA\",\"dtype\":\"float64\",\"shape\":[6]}}},\"id\":\"c74561d0-dac9-4f6b-aa91-c343d64b33fe\",\"type\":\"ColumnDataSource\"},{\"attributes\":{\"data_source\":{\"id\":\"b7978dee-d983-449a-8a98-e3ff389a205a\",\"type\":\"ColumnDataSource\"},\"glyph\":{\"id\":\"bb88b850-4e88-4ebf-85e9-44cf30d08efb\",\"type\":\"Circle\"},\"hover_glyph\":null,\"nonselection_glyph\":null,\"selection_glyph\":null},\"id\":\"6fd42f34-ecb0-4676-bc90-6ec4324945af\",\"type\":\"GlyphRenderer\"},{\"attributes\":{\"data_source\":{\"id\":\"52dd82b8-31b0-41fd-a2cb-d678de519b60\",\"type\":\"ColumnDataSource\"},\"glyph\":{\"id\":\"4e7f358d-f22d-4d33-b350-714c6634cc07\",\"type\":\"Circle\"},\"hover_glyph\":null,\"nonselection_glyph\":null,\"selection_glyph\":null},\"id\":\"3e63ae88-259a-4346-a8ed-951983faa36f\",\"type\":\"GlyphRenderer\"},{\"attributes\":{\"label\":{\"value\":\"2\"},\"renderers\":[{\"id\":\"32170d67-5e39-480c-8160-006fa0519e70\",\"type\":\"GlyphRenderer\"}]},\"id\":\"90edd6da-f75c-46d8-89bd-a9d27199308f\",\"type\":\"LegendItem\"},{\"attributes\":{\"fill_alpha\":{\"value\":0.7},\"fill_color\":{\"value\":\"#aec7e8\"},\"line_color\":{\"value\":\"#aec7e8\"},\"size\":{\"units\":\"screen\",\"value\":8},\"x\":{\"field\":\"x_values\"},\"y\":{\"field\":\"y_values\"}},\"id\":\"70905df6-3113-4ced-af87-691584206959\",\"type\":\"Circle\"},{\"attributes\":{\"callback\":null,\"column_names\":[\"x_values\",\"y_values\"],\"data\":{\"chart_index\":[{\"clusterLabel\":39},{\"clusterLabel\":39},{\"clusterLabel\":39},{\"clusterLabel\":39},{\"clusterLabel\":39}],\"clusterLabel\":[39,39,39,39,39],\"x_values\":{\"__ndarray__\":\"bghvVG6SNUCB+vNr43g1QBiwQPRI/DVAXcUfnoFsNUDasluS0oA1QA==\",\"dtype\":\"float64\",\"shape\":[5]},\"y_values\":{\"__ndarray__\":\"k9zZSAGhEEACubgRP8wPQCgzreVqog9AO1BIGANEEUB3X26qOqgQQA==\",\"dtype\":\"float64\",\"shape\":[5]}}},\"id\":\"4e4f100a-43c0-4a95-95be-b8a9f7869c2c\",\"type\":\"ColumnDataSource\"},{\"attributes\":{\"callback\":null,\"column_names\":[\"x_values\",\"y_values\"],\"data\":{\"chart_index\":[{\"clusterLabel\":46},{\"clusterLabel\":46},{\"clusterLabel\":46},{\"clusterLabel\":46}],\"clusterLabel\":[46,46,46,46],\"x_values\":{\"__ndarray__\":\"AVa309V5MkDVaV7Am1AyQKoSvkDVNzJA1bYwl80hMkA=\",\"dtype\":\"float64\",\"shape\":[4]},\"y_values\":{\"__ndarray__\":\"QxiB5cFQA8AaclhjJLQFwBk8H/7vFQDAlo3Wre+WBcA=\",\"dtype\":\"float64\",\"shape\":[4]}}},\"id\":\"3313a408-4f26-4851-9419-2d828b4e8f3c\",\"type\":\"ColumnDataSource\"},{\"attributes\":{\"data_source\":{\"id\":\"d56cad9b-4067-4bff-a06a-589c31ddd0e8\",\"type\":\"ColumnDataSource\"},\"glyph\":{\"id\":\"fff2862b-5236-496f-9b79-856c8ae2d46c\",\"type\":\"Circle\"},\"hover_glyph\":null,\"nonselection_glyph\":null,\"selection_glyph\":null},\"id\":\"4180e9cc-f570-425d-b2a1-331dd6a2b790\",\"type\":\"GlyphRenderer\"},{\"attributes\":{\"label\":{\"value\":\"17\"},\"renderers\":[{\"id\":\"2abebe12-503d-48dd-800b-b4a5411c6f05\",\"type\":\"GlyphRenderer\"}]},\"id\":\"d6d46604-d21c-4488-ab52-d3d4d2832704\",\"type\":\"LegendItem\"},{\"attributes\":{\"data_source\":{\"id\":\"00d77356-ad9f-48cf-a281-98c7ad3d03a0\",\"type\":\"ColumnDataSource\"},\"glyph\":{\"id\":\"350a3b85-faa5-4c46-80f1-b2937f8b09ca\",\"type\":\"Circle\"},\"hover_glyph\":null,\"nonselection_glyph\":null,\"selection_glyph\":null},\"id\":\"5134b8ad-29d5-4965-836c-9f5a32dede9f\",\"type\":\"GlyphRenderer\"},{\"attributes\":{\"label\":{\"value\":\"107\"},\"renderers\":[{\"id\":\"1d666d28-bc3c-466b-b8b1-35e18a87db8a\",\"type\":\"GlyphRenderer\"}]},\"id\":\"6758dcc6-cac3-4716-a432-9a547200288d\",\"type\":\"LegendItem\"},{\"attributes\":{\"label\":{\"value\":\"93\"},\"renderers\":[{\"id\":\"9030b03b-f3ac-496a-ad56-19be740279c7\",\"type\":\"GlyphRenderer\"}]},\"id\":\"79b9d80d-18d5-43ac-a0bf-7d672ee9a66e\",\"type\":\"LegendItem\"},{\"attributes\":{\"callback\":null,\"column_names\":[\"x_values\",\"y_values\"],\"data\":{\"chart_index\":[{\"clusterLabel\":117},{\"clusterLabel\":117},{\"clusterLabel\":117},{\"clusterLabel\":117},{\"clusterLabel\":117},{\"clusterLabel\":117},{\"clusterLabel\":117}],\"clusterLabel\":[117,117,117,117,117,117,117],\"x_values\":{\"__ndarray__\":\"dxYgiQ2TAUCmShBGtUsCQFvJNhcNtQFAbLkKX5TYA0AvjMPCY6AEQAkud5WH+gFA//KUmIB6BkA=\",\"dtype\":\"float64\",\"shape\":[7]},\"y_values\":{\"__ndarray__\":\"lODkoZaMIsBtbQdv7cUjwKhj5EtbHyPAJn7UCKeuIsDq/x/K9bIiwDL3kEqXJSLAuHzAakqZIsA=\",\"dtype\":\"float64\",\"shape\":[7]}}},\"id\":\"79f1ad03-c350-4b4c-b2c9-0bccf895f29f\",\"type\":\"ColumnDataSource\"},{\"attributes\":{\"fill_alpha\":{\"value\":0.7},\"fill_color\":{\"value\":\"#e377c2\"},\"line_color\":{\"value\":\"#e377c2\"},\"size\":{\"units\":\"screen\",\"value\":8},\"x\":{\"field\":\"x_values\"},\"y\":{\"field\":\"y_values\"}},\"id\":\"48c297ef-4e75-463e-ae39-ff8deb4e8177\",\"type\":\"Circle\"},{\"attributes\":{\"fill_alpha\":{\"value\":0.7},\"fill_color\":{\"value\":\"#d62728\"},\"line_color\":{\"value\":\"#d62728\"},\"size\":{\"units\":\"screen\",\"value\":8},\"x\":{\"field\":\"x_values\"},\"y\":{\"field\":\"y_values\"}},\"id\":\"350a3b85-faa5-4c46-80f1-b2937f8b09ca\",\"type\":\"Circle\"},{\"attributes\":{\"fill_alpha\":{\"value\":0.7},\"fill_color\":{\"value\":\"#98df8a\"},\"line_color\":{\"value\":\"#98df8a\"},\"size\":{\"units\":\"screen\",\"value\":8},\"x\":{\"field\":\"x_values\"},\"y\":{\"field\":\"y_values\"}},\"id\":\"d1387998-7bfb-4a6e-90c7-b05f38675bd4\",\"type\":\"Circle\"},{\"attributes\":{\"fill_alpha\":{\"value\":0.7},\"fill_color\":{\"value\":\"#ff9896\"},\"line_color\":{\"value\":\"#ff9896\"},\"size\":{\"units\":\"screen\",\"value\":8},\"x\":{\"field\":\"x_values\"},\"y\":{\"field\":\"y_values\"}},\"id\":\"19f43838-e05e-49ae-9291-855670e90ac1\",\"type\":\"Circle\"},{\"attributes\":{\"callback\":null,\"column_names\":[\"x_values\",\"y_values\"],\"data\":{\"chart_index\":[{\"clusterLabel\":27},{\"clusterLabel\":27},{\"clusterLabel\":27},{\"clusterLabel\":27},{\"clusterLabel\":27},{\"clusterLabel\":27},{\"clusterLabel\":27},{\"clusterLabel\":27},{\"clusterLabel\":27},{\"clusterLabel\":27}],\"clusterLabel\":[27,27,27,27,27,27,27,27,27,27],\"x_values\":{\"__ndarray__\":\"eZsr1JdbNED7tpkzG6g0QCRjrcuWBTRA9hSbXMpDNECb55Lgv8gzQBSLSdJObTNAkKGYzUDAM0AcbiaNA8YzQPydWVYGTjRANZsG42TXM0A=\",\"dtype\":\"float64\",\"shape\":[10]},\"y_values\":{\"__ndarray__\":\"/TTN8/K/IkCoAf2GyigiQI1x4hHM1iBARrgPuwyRIUDvc4Xo/OEhQMoUmduQCCJA8/g2IJAFIkClPUDBLuMiQFbSrcmOPCJAYiHMPwFtIkA=\",\"dtype\":\"float64\",\"shape\":[10]}}},\"id\":\"70592aa5-a4f5-48da-b138-b770b64b5663\",\"type\":\"ColumnDataSource\"},{\"attributes\":{\"data_source\":{\"id\":\"3313a408-4f26-4851-9419-2d828b4e8f3c\",\"type\":\"ColumnDataSource\"},\"glyph\":{\"id\":\"749f71a0-cb94-4279-a319-3e0fce3876ab\",\"type\":\"Circle\"},\"hover_glyph\":null,\"nonselection_glyph\":null,\"selection_glyph\":null},\"id\":\"f35d95a4-385c-4dcb-882e-8d1139645c14\",\"type\":\"GlyphRenderer\"},{\"attributes\":{\"data_source\":{\"id\":\"e08c1e9b-33cc-4c8b-93c5-be3ff6ed4627\",\"type\":\"ColumnDataSource\"},\"glyph\":{\"id\":\"3e39dfba-c5a5-4bb1-ab94-a6232a692a07\",\"type\":\"Circle\"},\"hover_glyph\":null,\"nonselection_glyph\":null,\"selection_glyph\":null},\"id\":\"13c7d421-b31d-4928-ab3f-7df48390c3f2\",\"type\":\"GlyphRenderer\"},{\"attributes\":{\"data_source\":{\"id\":\"6203b755-8614-481c-ac3a-8dd46c5058a8\",\"type\":\"ColumnDataSource\"},\"glyph\":{\"id\":\"cd146245-c4eb-4a7e-8b79-f207347992bf\",\"type\":\"Circle\"},\"hover_glyph\":null,\"nonselection_glyph\":null,\"selection_glyph\":null},\"id\":\"8dc68db7-0289-4e39-9423-664e2b576e4f\",\"type\":\"GlyphRenderer\"},{\"attributes\":{\"plot\":{\"id\":\"3e35d95a-dc3d-4892-841b-3df199efd437\",\"subtype\":\"Chart\",\"type\":\"Plot\"}},\"id\":\"c5679660-26b8-4e44-9344-972b414dec8b\",\"type\":\"SaveTool\"},{\"attributes\":{\"callback\":null,\"column_names\":[\"x_values\",\"y_values\"],\"data\":{\"chart_index\":[{\"clusterLabel\":38},{\"clusterLabel\":38},{\"clusterLabel\":38},{\"clusterLabel\":38},{\"clusterLabel\":38},{\"clusterLabel\":38},{\"clusterLabel\":38}],\"clusterLabel\":[38,38,38,38,38,38,38],\"x_values\":{\"__ndarray__\":\"D5JK66Y8LUAMtXB7lZ8tQH4Kiqt6Qy1AeITrg7yHLUCJ9xQjtJ0tQKBHaulusC1AAwLIIOOiLUA=\",\"dtype\":\"float64\",\"shape\":[7]},\"y_values\":{\"__ndarray__\":\"6QBtz1CP3r+dR7sIY+71vxLazX3/3+O/Okx3oWM25L/VXPWxTmz1v2mhPjfrJP2//lrPAdXl8L8=\",\"dtype\":\"float64\",\"shape\":[7]}}},\"id\":\"802b23e6-c177-4e26-86f0-faa869071994\",\"type\":\"ColumnDataSource\"},{\"attributes\":{\"callback\":null,\"column_names\":[\"x_values\",\"y_values\"],\"data\":{\"chart_index\":[{\"clusterLabel\":19},{\"clusterLabel\":19},{\"clusterLabel\":19},{\"clusterLabel\":19},{\"clusterLabel\":19},{\"clusterLabel\":19},{\"clusterLabel\":19}],\"clusterLabel\":[19,19,19,19,19,19,19],\"x_values\":{\"__ndarray__\":\"dW73opj94L8Ef4b9N+/CP5xhL0h+lem/8ALQ/OSVsz/wJxHFwznXv+DBjyXYSri/bV5ZU+SZ178=\",\"dtype\":\"float64\",\"shape\":[7]},\"y_values\":{\"__ndarray__\":\"THVj69cZJEDhFJZM6/oiQPZm0br6OSRA0yZ5QB9jI0C356dhxJwjQElHhNMhPiRAVMZyXugqJEA=\",\"dtype\":\"float64\",\"shape\":[7]}}},\"id\":\"d56cad9b-4067-4bff-a06a-589c31ddd0e8\",\"type\":\"ColumnDataSource\"},{\"attributes\":{\"fill_alpha\":{\"value\":0.7},\"fill_color\":{\"value\":\"#f7b6d2\"},\"line_color\":{\"value\":\"#f7b6d2\"},\"size\":{\"units\":\"screen\",\"value\":8},\"x\":{\"field\":\"x_values\"},\"y\":{\"field\":\"y_values\"}},\"id\":\"3e39dfba-c5a5-4bb1-ab94-a6232a692a07\",\"type\":\"Circle\"},{\"attributes\":{\"callback\":null,\"column_names\":[\"x_values\",\"y_values\"],\"data\":{\"chart_index\":[{\"clusterLabel\":32},{\"clusterLabel\":32},{\"clusterLabel\":32},{\"clusterLabel\":32},{\"clusterLabel\":32}],\"clusterLabel\":[32,32,32,32,32],\"x_values\":{\"__ndarray__\":\"FAyAsK+7DUCXbOffJ40LQDaowlxfGQlAGlarcLXTDUD6PGmk4FELQA==\",\"dtype\":\"float64\",\"shape\":[5]},\"y_values\":{\"__ndarray__\":\"up7mNcJ2IkBUpzSkri0iQDLfduU0zCJAu077fltuIkDLNptnjEQhQA==\",\"dtype\":\"float64\",\"shape\":[5]}}},\"id\":\"3a65c5cb-cc64-4790-8d42-8fb10e2672fd\",\"type\":\"ColumnDataSource\"},{\"attributes\":{\"callback\":null,\"column_names\":[\"x_values\",\"y_values\"],\"data\":{\"chart_index\":[{\"clusterLabel\":48},{\"clusterLabel\":48},{\"clusterLabel\":48},{\"clusterLabel\":48},{\"clusterLabel\":48}],\"clusterLabel\":[48,48,48,48,48],\"x_values\":{\"__ndarray__\":\"48iC5K5ME0C4z947YnsSQM1akonROhRAGm2397EhFEAqLcA2PzMUQA==\",\"dtype\":\"float64\",\"shape\":[5]},\"y_values\":{\"__ndarray__\":\"BX1HBAq48z/kaMmMC7bzP7+7dL/O2PM/tFtfd+O68z+iG4VPb1zzPw==\",\"dtype\":\"float64\",\"shape\":[5]}}},\"id\":\"95209528-a9d9-4ec8-be93-748e545c0ab3\",\"type\":\"ColumnDataSource\"},{\"attributes\":{\"callback\":null,\"column_names\":[\"x_values\",\"y_values\"],\"data\":{\"chart_index\":[{\"clusterLabel\":112},{\"clusterLabel\":112},{\"clusterLabel\":112},{\"clusterLabel\":112}],\"clusterLabel\":[112,112,112,112],\"x_values\":{\"__ndarray__\":\"D1LkhQFYJkBY0ErlV2slQJoLVrHjMSVAcZWNxWlVJUA=\",\"dtype\":\"float64\",\"shape\":[4]},\"y_values\":{\"__ndarray__\":\"bIFSuXhAHcDXwyxn/XUdwNraNosScB3AKX2N3D9YHcA=\",\"dtype\":\"float64\",\"shape\":[4]}}},\"id\":\"a83946ca-affe-40d7-a595-f93bc1c064f9\",\"type\":\"ColumnDataSource\"},{\"attributes\":{\"callback\":null,\"column_names\":[\"x_values\",\"y_values\"],\"data\":{\"chart_index\":[{\"clusterLabel\":40},{\"clusterLabel\":40},{\"clusterLabel\":40},{\"clusterLabel\":40},{\"clusterLabel\":40},{\"clusterLabel\":40},{\"clusterLabel\":40}],\"clusterLabel\":[40,40,40,40,40,40,40],\"x_values\":{\"__ndarray__\":\"uHHiBIzo3D+ty188IpbtP/APU6XBbfQ/87aQMb418j8MXJ/XYZ/yP835t8SptPU/wr01jxhK6T8=\",\"dtype\":\"float64\",\"shape\":[7]},\"y_values\":{\"__ndarray__\":\"oY5w0iieJEDOAB9N7OwjQJ8/xFFOySVAr4qWvRxKJEC7gR+2RfokQPblwXKSoSRADa2GSXuNJEA=\",\"dtype\":\"float64\",\"shape\":[7]}}},\"id\":\"0642ddeb-f691-421b-9970-8c12ea1d9a88\",\"type\":\"ColumnDataSource\"},{\"attributes\":{\"callback\":null,\"column_names\":[\"x_values\",\"y_values\"],\"data\":{\"chart_index\":[{\"clusterLabel\":58},{\"clusterLabel\":58},{\"clusterLabel\":58},{\"clusterLabel\":58},{\"clusterLabel\":58},{\"clusterLabel\":58},{\"clusterLabel\":58},{\"clusterLabel\":58}],\"clusterLabel\":[58,58,58,58,58,58,58,58],\"x_values\":{\"__ndarray__\":\"jT5oe/WOJUDlEPwmM0QmQL+U8XqhPyZAhymCXqFAJkAXoYiwriQmQA8BI2/dQyZAZEj0OjMmJkA45D1lBkYmQA==\",\"dtype\":\"float64\",\"shape\":[8]},\"y_values\":{\"__ndarray__\":\"5Ll1+SiZD0C0Il9LTvgOQNGbUjfRAQ9AxKsGNLNCDEClP9Kudl0OQMJuuSk4qg1AGw4LroLIEECEWLspno8OQA==\",\"dtype\":\"float64\",\"shape\":[8]}}},\"id\":\"c46e9e27-a228-4c00-9fc5-af487b1acda9\",\"type\":\"ColumnDataSource\"},{\"attributes\":{\"fill_alpha\":{\"value\":0.7},\"fill_color\":{\"value\":\"#f7b6d2\"},\"line_color\":{\"value\":\"#f7b6d2\"},\"size\":{\"units\":\"screen\",\"value\":8},\"x\":{\"field\":\"x_values\"},\"y\":{\"field\":\"y_values\"}},\"id\":\"3498678d-68ed-4e08-b55f-f16c63d84ede\",\"type\":\"Circle\"},{\"attributes\":{\"fill_alpha\":{\"value\":0.7},\"fill_color\":{\"value\":\"#e377c2\"},\"line_color\":{\"value\":\"#e377c2\"},\"size\":{\"units\":\"screen\",\"value\":8},\"x\":{\"field\":\"x_values\"},\"y\":{\"field\":\"y_values\"}},\"id\":\"7a31822c-5fe6-4dfe-9a74-51cc257cc631\",\"type\":\"Circle\"},{\"attributes\":{\"fill_alpha\":{\"value\":0.7},\"fill_color\":{\"value\":\"#bcbd22\"},\"line_color\":{\"value\":\"#bcbd22\"},\"size\":{\"units\":\"screen\",\"value\":8},\"x\":{\"field\":\"x_values\"},\"y\":{\"field\":\"y_values\"}},\"id\":\"b628a07c-f42e-4804-aa01-7f3ed0793171\",\"type\":\"Circle\"},{\"attributes\":{\"fill_alpha\":{\"value\":0.7},\"fill_color\":{\"value\":\"#c7c7c7\"},\"line_color\":{\"value\":\"#c7c7c7\"},\"size\":{\"units\":\"screen\",\"value\":8},\"x\":{\"field\":\"x_values\"},\"y\":{\"field\":\"y_values\"}},\"id\":\"3ff32315-d73a-48cb-98c0-664847d53550\",\"type\":\"Circle\"},{\"attributes\":{\"callback\":null,\"end\":29.61022675301536,\"start\":-30.366264537068993},\"id\":\"0b9f8c98-6920-49e8-a839-099f77a25f32\",\"type\":\"Range1d\"},{\"attributes\":{\"label\":{\"value\":\"44\"},\"renderers\":[{\"id\":\"96b21da1-0654-4c0f-9a03-5f0b605b32fa\",\"type\":\"GlyphRenderer\"}]},\"id\":\"a4253783-194c-456f-87ba-ce5a2b302284\",\"type\":\"LegendItem\"},{\"attributes\":{\"data_source\":{\"id\":\"d002a2b6-60eb-4e40-a188-60864e8ad356\",\"type\":\"ColumnDataSource\"},\"glyph\":{\"id\":\"42e08d94-867e-4870-873b-13d0a9c3e2e0\",\"type\":\"Circle\"},\"hover_glyph\":null,\"nonselection_glyph\":null,\"selection_glyph\":null},\"id\":\"23767504-09ba-4f9c-bef9-57982ecee9d2\",\"type\":\"GlyphRenderer\"},{\"attributes\":{\"data_source\":{\"id\":\"6c3acccd-3d93-4cfb-b8fc-07c5c6363aea\",\"type\":\"ColumnDataSource\"},\"glyph\":{\"id\":\"1a7fdd48-4638-497b-bcff-833072773b8f\",\"type\":\"Circle\"},\"hover_glyph\":null,\"nonselection_glyph\":null,\"selection_glyph\":null},\"id\":\"0a976517-402d-431f-ad8f-be373b2254bc\",\"type\":\"GlyphRenderer\"},{\"attributes\":{\"callback\":null,\"column_names\":[\"x_values\",\"y_values\"],\"data\":{\"chart_index\":[{\"clusterLabel\":44},{\"clusterLabel\":44},{\"clusterLabel\":44},{\"clusterLabel\":44}],\"clusterLabel\":[44,44,44,44],\"x_values\":{\"__ndarray__\":\"ANBNh8h4JcASuTiyGXolwHZEC9GLLCXApobVClOxJcA=\",\"dtype\":\"float64\",\"shape\":[4]},\"y_values\":{\"__ndarray__\":\"plTOLboB7b+1Etz1RfT0vxftmG64YPC/iKw3rNMI6r8=\",\"dtype\":\"float64\",\"shape\":[4]}}},\"id\":\"7e46cc4f-8a0d-431d-aab9-b86c6c181311\",\"type\":\"ColumnDataSource\"},{\"attributes\":{\"fill_alpha\":{\"value\":0.7},\"fill_color\":{\"value\":\"#e377c2\"},\"line_color\":{\"value\":\"#e377c2\"},\"size\":{\"units\":\"screen\",\"value\":8},\"x\":{\"field\":\"x_values\"},\"y\":{\"field\":\"y_values\"}},\"id\":\"5e1d9067-992b-412a-80eb-eca8d590be00\",\"type\":\"Circle\"},{\"attributes\":{\"data_source\":{\"id\":\"5fd24106-3bea-47cd-ad97-52abf5ed59c6\",\"type\":\"ColumnDataSource\"},\"glyph\":{\"id\":\"930d268d-80a1-4f79-b89b-365299c487be\",\"type\":\"Circle\"},\"hover_glyph\":null,\"nonselection_glyph\":null,\"selection_glyph\":null},\"id\":\"b40281f4-472b-4fec-bec9-174a4d0d9c60\",\"type\":\"GlyphRenderer\"},{\"attributes\":{\"callback\":null,\"column_names\":[\"x_values\",\"y_values\"],\"data\":{\"chart_index\":[{\"clusterLabel\":89},{\"clusterLabel\":89},{\"clusterLabel\":89},{\"clusterLabel\":89},{\"clusterLabel\":89},{\"clusterLabel\":89},{\"clusterLabel\":89},{\"clusterLabel\":89},{\"clusterLabel\":89}],\"clusterLabel\":[89,89,89,89,89,89,89,89,89],\"x_values\":{\"__ndarray__\":\"8VhRuBcJA8CikSExvEIFwNO0oUwp0QXAGJV3w/tPBsAF9pmlzzMHwAJzRwRwFgTA+8OxnleNBsD12z0hR/QDwOUy5csg3wPA\",\"dtype\":\"float64\",\"shape\":[9]},\"y_values\":{\"__ndarray__\":\"jP4AvdZLMMCqFFATzyIwwK0UnOGWczDAWAh49hB1MMAjcEZlFe0vwBgrYGlxcTDAV/ncFeyNMMC6X/Km50owwG4169LQvjDA\",\"dtype\":\"float64\",\"shape\":[9]}}},\"id\":\"04fdd1ee-af8c-4676-bbbe-6ae8590607ad\",\"type\":\"ColumnDataSource\"},{\"attributes\":{\"fill_alpha\":{\"value\":0.7},\"fill_color\":{\"value\":\"#d62728\"},\"line_color\":{\"value\":\"#d62728\"},\"size\":{\"units\":\"screen\",\"value\":8},\"x\":{\"field\":\"x_values\"},\"y\":{\"field\":\"y_values\"}},\"id\":\"275b45c8-8a7e-4be8-a3ae-f3f165daeb8e\",\"type\":\"Circle\"},{\"attributes\":{\"label\":{\"value\":\"36\"},\"renderers\":[{\"id\":\"9134e59c-7afe-467f-806b-8111b7b77bd1\",\"type\":\"GlyphRenderer\"}]},\"id\":\"779776ae-624d-4edc-b4d6-27d198fadfaa\",\"type\":\"LegendItem\"},{\"attributes\":{\"fill_alpha\":{\"value\":0.7},\"fill_color\":{\"value\":\"#aec7e8\"},\"line_color\":{\"value\":\"#aec7e8\"},\"size\":{\"units\":\"screen\",\"value\":8},\"x\":{\"field\":\"x_values\"},\"y\":{\"field\":\"y_values\"}},\"id\":\"7c903aa3-5fcb-4852-8718-7cdabdc2e1a3\",\"type\":\"Circle\"},{\"attributes\":{\"data_source\":{\"id\":\"274db63f-6a37-42db-91b6-341c59ddba68\",\"type\":\"ColumnDataSource\"},\"glyph\":{\"id\":\"024605a8-88ef-47d1-bf88-a381934d5dbc\",\"type\":\"Circle\"},\"hover_glyph\":null,\"nonselection_glyph\":null,\"selection_glyph\":null},\"id\":\"f2d690d1-d65e-47d2-8af9-53af71a39a41\",\"type\":\"GlyphRenderer\"},{\"attributes\":{\"label\":{\"value\":\"87\"},\"renderers\":[{\"id\":\"97e3d8fb-d69b-45ad-870a-131068330e9c\",\"type\":\"GlyphRenderer\"}]},\"id\":\"2c7bac57-8a2d-4bb3-9fcf-45a74c5ebb6b\",\"type\":\"LegendItem\"},{\"attributes\":{\"fill_alpha\":{\"value\":0.7},\"fill_color\":{\"value\":\"#c5b0d5\"},\"line_color\":{\"value\":\"#c5b0d5\"},\"size\":{\"units\":\"screen\",\"value\":8},\"x\":{\"field\":\"x_values\"},\"y\":{\"field\":\"y_values\"}},\"id\":\"feb367ea-303c-4c01-8864-3d4f117e56e7\",\"type\":\"Circle\"},{\"attributes\":{\"callback\":null,\"column_names\":[\"x_values\",\"y_values\"],\"data\":{\"chart_index\":[{\"clusterLabel\":28},{\"clusterLabel\":28},{\"clusterLabel\":28},{\"clusterLabel\":28},{\"clusterLabel\":28},{\"clusterLabel\":28},{\"clusterLabel\":28},{\"clusterLabel\":28},{\"clusterLabel\":28},{\"clusterLabel\":28},{\"clusterLabel\":28}],\"clusterLabel\":[28,28,28,28,28,28,28,28,28,28,28],\"x_values\":{\"__ndarray__\":\"VdNUP56EMkCype67T2gzQJmbRcQecDJAsgsCaDsrM0CSQnUkSWQyQAJoqx05PDNA/QmZAhC/MkDl6biRMV4yQJndMa+eqjNAJe/bY+GlMkD2e8xK3mMzQA==\",\"dtype\":\"float64\",\"shape\":[11]},\"y_values\":{\"__ndarray__\":\"9TdUsBEFE8At/worLuMQwEDXbnbWwhHAM07yrQQKEsDagMIGKm8SwFV2YYXCyxLAJinkt2Y+EcCE0wuDVBwSwMkNckaytxLAdkHbm1eYEsDixmqP1yMSwA==\",\"dtype\":\"float64\",\"shape\":[11]}}},\"id\":\"36e909b7-4e76-4782-8df2-e7d8413e1e4c\",\"type\":\"ColumnDataSource\"},{\"attributes\":{\"data_source\":{\"id\":\"e1bde2b8-3ee0-4f33-9e18-dcbfa5b204af\",\"type\":\"ColumnDataSource\"},\"glyph\":{\"id\":\"5b5e9280-efce-49a2-a3cf-e0db3e56db74\",\"type\":\"Circle\"},\"hover_glyph\":null,\"nonselection_glyph\":null,\"selection_glyph\":null},\"id\":\"2fc7578e-24c3-4886-84c8-62e418ebf86b\",\"type\":\"GlyphRenderer\"},{\"attributes\":{\"data_source\":{\"id\":\"bcfb305f-4f40-4f9f-ab9b-960e350fe387\",\"type\":\"ColumnDataSource\"},\"glyph\":{\"id\":\"497cb355-7f33-409a-b61f-e1dbf0b7f760\",\"type\":\"Circle\"},\"hover_glyph\":null,\"nonselection_glyph\":null,\"selection_glyph\":null},\"id\":\"b045a62a-a7c0-4dfc-8f28-87bf2a7c3082\",\"type\":\"GlyphRenderer\"},{\"attributes\":{\"data_source\":{\"id\":\"c150878e-ae61-4ac4-90f2-caee2d5f7edd\",\"type\":\"ColumnDataSource\"},\"glyph\":{\"id\":\"5e1d9067-992b-412a-80eb-eca8d590be00\",\"type\":\"Circle\"},\"hover_glyph\":null,\"nonselection_glyph\":null,\"selection_glyph\":null},\"id\":\"9894c58d-8563-43f3-903e-ce03f9c5daee\",\"type\":\"GlyphRenderer\"},{\"attributes\":{\"callback\":null,\"column_names\":[\"x_values\",\"y_values\"],\"data\":{\"chart_index\":[{\"clusterLabel\":111},{\"clusterLabel\":111},{\"clusterLabel\":111},{\"clusterLabel\":111}],\"clusterLabel\":[111,111,111,111],\"x_values\":{\"__ndarray__\":\"1bukoiJiNsBcoiQAhKA2wMEf6zVenzbApCtNeqGlNsA=\",\"dtype\":\"float64\",\"shape\":[4]},\"y_values\":{\"__ndarray__\":\"udPLB6WzIED04SQuRccfQNjmfWCnmR9AVOlKVtvHHUA=\",\"dtype\":\"float64\",\"shape\":[4]}}},\"id\":\"f01ca69b-75d1-4d05-af0d-2c99badc84c8\",\"type\":\"ColumnDataSource\"},{\"attributes\":{\"fill_alpha\":{\"value\":0.7},\"fill_color\":{\"value\":\"#2ca02c\"},\"line_color\":{\"value\":\"#2ca02c\"},\"size\":{\"units\":\"screen\",\"value\":8},\"x\":{\"field\":\"x_values\"},\"y\":{\"field\":\"y_values\"}},\"id\":\"8f26b1e7-be14-48e0-a426-2eb92d34b6e5\",\"type\":\"Circle\"},{\"attributes\":{\"callback\":null,\"column_names\":[\"x_values\",\"y_values\"],\"data\":{\"chart_index\":[{\"clusterLabel\":20},{\"clusterLabel\":20},{\"clusterLabel\":20},{\"clusterLabel\":20},{\"clusterLabel\":20},{\"clusterLabel\":20}],\"clusterLabel\":[20,20,20,20,20,20],\"x_values\":{\"__ndarray__\":\"3ecb+rqXHMDxQt6Qr6gbwIMj6+yUdxvAqbTb1ejxHMAGzLjff5scwOh929LPJRzA\",\"dtype\":\"float64\",\"shape\":[6]},\"y_values\":{\"__ndarray__\":\"bjmsQX06AMDu/WGXBvz4vyfKf8+Gn/2/h3kSph5o+r/u+G6rPREAwGwBUNL/cQHA\",\"dtype\":\"float64\",\"shape\":[6]}}},\"id\":\"56683d26-2a96-49f4-851c-540250656d2b\",\"type\":\"ColumnDataSource\"},{\"attributes\":{\"label\":{\"value\":\"90\"},\"renderers\":[{\"id\":\"ee66d8e8-4661-4578-997c-43b916ee07a7\",\"type\":\"GlyphRenderer\"}]},\"id\":\"8ed6f374-b8ad-4554-ae62-f6627185e100\",\"type\":\"LegendItem\"},{\"attributes\":{\"data_source\":{\"id\":\"01650ee0-9dcc-430d-873f-22389098ab0e\",\"type\":\"ColumnDataSource\"},\"glyph\":{\"id\":\"7375ec15-62ae-4aca-9389-273abcaf089f\",\"type\":\"Circle\"},\"hover_glyph\":null,\"nonselection_glyph\":null,\"selection_glyph\":null},\"id\":\"1923b949-7ae1-4ddf-bf67-940c15c09c85\",\"type\":\"GlyphRenderer\"},{\"attributes\":{},\"id\":\"93a5de51-c5e2-4b29-a494-a0652a0c72a6\",\"type\":\"BasicTicker\"},{\"attributes\":{\"label\":{\"value\":\"115\"},\"renderers\":[{\"id\":\"23767504-09ba-4f9c-bef9-57982ecee9d2\",\"type\":\"GlyphRenderer\"}]},\"id\":\"491b96e2-158a-4cb6-a090-a9eda50808e7\",\"type\":\"LegendItem\"},{\"attributes\":{\"data_source\":{\"id\":\"a28e234f-a7f8-47b3-a62a-13806dfcd7b2\",\"type\":\"ColumnDataSource\"},\"glyph\":{\"id\":\"43522614-a485-4bc2-aa22-36e98df7c5af\",\"type\":\"Circle\"},\"hover_glyph\":null,\"nonselection_glyph\":null,\"selection_glyph\":null},\"id\":\"e9183b13-5251-4000-b4ae-8a91982cffeb\",\"type\":\"GlyphRenderer\"},{\"attributes\":{\"data_source\":{\"id\":\"512658a5-0f85-4e46-930d-c5810bd89c58\",\"type\":\"ColumnDataSource\"},\"glyph\":{\"id\":\"ec74a8da-bb04-4bb2-b758-e1fd3fc8b9d2\",\"type\":\"Circle\"},\"hover_glyph\":null,\"nonselection_glyph\":null,\"selection_glyph\":null},\"id\":\"1d666d28-bc3c-466b-b8b1-35e18a87db8a\",\"type\":\"GlyphRenderer\"},{\"attributes\":{\"label\":{\"value\":\"28\"},\"renderers\":[{\"id\":\"1c72c07c-207a-49ef-a8e0-38226c4e84ef\",\"type\":\"GlyphRenderer\"}]},\"id\":\"0da80c7b-a137-44ec-bcfb-547fdc15d2ad\",\"type\":\"LegendItem\"},{\"attributes\":{\"label\":{\"value\":\"59\"},\"renderers\":[{\"id\":\"28f0fc71-f974-4de1-973e-ddad4dd60285\",\"type\":\"GlyphRenderer\"}]},\"id\":\"d1bb3847-d6da-4a81-9425-722fa48dfc67\",\"type\":\"LegendItem\"},{\"attributes\":{\"data_source\":{\"id\":\"36e909b7-4e76-4782-8df2-e7d8413e1e4c\",\"type\":\"ColumnDataSource\"},\"glyph\":{\"id\":\"1091a78e-76a0-4b54-9b1f-17e3eea1292a\",\"type\":\"Circle\"},\"hover_glyph\":null,\"nonselection_glyph\":null,\"selection_glyph\":null},\"id\":\"1c72c07c-207a-49ef-a8e0-38226c4e84ef\",\"type\":\"GlyphRenderer\"},{\"attributes\":{\"fill_alpha\":{\"value\":0.7},\"fill_color\":{\"value\":\"#f7b6d2\"},\"line_color\":{\"value\":\"#f7b6d2\"},\"size\":{\"units\":\"screen\",\"value\":8},\"x\":{\"field\":\"x_values\"},\"y\":{\"field\":\"y_values\"}},\"id\":\"31514aef-60a3-4a5b-b2d6-c734745bd1cd\",\"type\":\"Circle\"},{\"attributes\":{\"fill_alpha\":{\"value\":0.7},\"fill_color\":{\"value\":\"#e377c2\"},\"line_color\":{\"value\":\"#e377c2\"},\"size\":{\"units\":\"screen\",\"value\":8},\"x\":{\"field\":\"x_values\"},\"y\":{\"field\":\"y_values\"}},\"id\":\"3f4fbfff-69c9-4679-a1de-3f577903f761\",\"type\":\"Circle\"},{\"attributes\":{\"callback\":null,\"column_names\":[\"x_values\",\"y_values\"],\"data\":{\"chart_index\":[{\"clusterLabel\":9},{\"clusterLabel\":9},{\"clusterLabel\":9},{\"clusterLabel\":9}],\"clusterLabel\":[9,9,9,9],\"x_values\":{\"__ndarray__\":\"vJILA9+LH8D9hQAK+I0gwHtNxpK/kB/A265FG7FMHsA=\",\"dtype\":\"float64\",\"shape\":[4]},\"y_values\":{\"__ndarray__\":\"pgfEMKDiCsBGvO/dAOgKwI/rxNvZwAvAIUi1edxTCcA=\",\"dtype\":\"float64\",\"shape\":[4]}}},\"id\":\"9eb733dd-f882-4cd1-9526-09e9ba33a572\",\"type\":\"ColumnDataSource\"},{\"attributes\":{\"bottom_units\":\"screen\",\"fill_alpha\":{\"value\":0.5},\"fill_color\":{\"value\":\"lightgrey\"},\"left_units\":\"screen\",\"level\":\"overlay\",\"line_alpha\":{\"value\":1.0},\"line_color\":{\"value\":\"black\"},\"line_dash\":[4,4],\"line_width\":{\"value\":2},\"plot\":null,\"render_mode\":\"css\",\"right_units\":\"screen\",\"top_units\":\"screen\"},\"id\":\"85e8132c-795e-42e6-bf73-7a62660ce45b\",\"type\":\"BoxAnnotation\"},{\"attributes\":{\"data_source\":{\"id\":\"ce98a50a-0054-4760-8475-04225dce78ff\",\"type\":\"ColumnDataSource\"},\"glyph\":{\"id\":\"a95897a7-2519-4871-ad8b-ba1cd790cf54\",\"type\":\"Circle\"},\"hover_glyph\":null,\"nonselection_glyph\":null,\"selection_glyph\":null},\"id\":\"97e3d8fb-d69b-45ad-870a-131068330e9c\",\"type\":\"GlyphRenderer\"},{\"attributes\":{\"fill_alpha\":{\"value\":0.7},\"fill_color\":{\"value\":\"#98df8a\"},\"line_color\":{\"value\":\"#98df8a\"},\"size\":{\"units\":\"screen\",\"value\":8},\"x\":{\"field\":\"x_values\"},\"y\":{\"field\":\"y_values\"}},\"id\":\"90f812b2-9971-4f02-b5cc-71ae27aa9b39\",\"type\":\"Circle\"},{\"attributes\":{\"fill_alpha\":{\"value\":0.7},\"fill_color\":{\"value\":\"#2ca02c\"},\"line_color\":{\"value\":\"#2ca02c\"},\"size\":{\"units\":\"screen\",\"value\":8},\"x\":{\"field\":\"x_values\"},\"y\":{\"field\":\"y_values\"}},\"id\":\"0a03219c-8f86-4215-baf2-1442859b1fe7\",\"type\":\"Circle\"},{\"attributes\":{\"label\":{\"value\":\"102\"},\"renderers\":[{\"id\":\"c203c654-0d9c-4880-a059-b0a6656c1733\",\"type\":\"GlyphRenderer\"}]},\"id\":\"2ee64623-1cac-4bb7-869c-3a4daf4ae594\",\"type\":\"LegendItem\"},{\"attributes\":{\"callback\":null,\"column_names\":[\"x_values\",\"y_values\"],\"data\":{\"chart_index\":[{\"clusterLabel\":63},{\"clusterLabel\":63},{\"clusterLabel\":63},{\"clusterLabel\":63},{\"clusterLabel\":63},{\"clusterLabel\":63}],\"clusterLabel\":[63,63,63,63,63,63],\"x_values\":{\"__ndarray__\":\"son81AzdB0AXagVEZjcIQFdy+EELngtAU6Ov4xFoCUDGMQRclgEOQJ5g6f9wPAlA\",\"dtype\":\"float64\",\"shape\":[6]},\"y_values\":{\"__ndarray__\":\"d+vDE61/9T8SCUTyt/jzP2YJrczVhvA/b8w4QK8w8T/h4dPwohnoPzEDGhagIfQ/\",\"dtype\":\"float64\",\"shape\":[6]}}},\"id\":\"81e851df-e08b-489a-ba7a-071d46d97e7a\",\"type\":\"ColumnDataSource\"},{\"attributes\":{\"label\":{\"value\":\"1\"},\"renderers\":[{\"id\":\"4bd54eb3-3fb1-4c72-8ae8-9c673de0560f\",\"type\":\"GlyphRenderer\"}]},\"id\":\"fbc094ff-aa48-412e-988c-35dc688520b2\",\"type\":\"LegendItem\"},{\"attributes\":{\"callback\":null,\"column_names\":[\"x_values\",\"y_values\"],\"data\":{\"chart_index\":[{\"clusterLabel\":75},{\"clusterLabel\":75},{\"clusterLabel\":75},{\"clusterLabel\":75},{\"clusterLabel\":75},{\"clusterLabel\":75},{\"clusterLabel\":75},{\"clusterLabel\":75}],\"clusterLabel\":[75,75,75,75,75,75,75,75],\"x_values\":{\"__ndarray__\":\"BwWPoJzZLcDlVFe9NMcvwH9PB7tloi7AiX/7yoMALsAYm0313uEuwGWsLVZ4My3AJk24wBJKLcB7GWVdTeoswA==\",\"dtype\":\"float64\",\"shape\":[8]},\"y_values\":{\"__ndarray__\":\"2gVcQVP+JkDlxoT1598mQLoVER56eiZAA4KuMrtBJ0AsFSsNB+4mQAXN0wGlHydAQJ5kBUIrJkDBRne9sRAoQA==\",\"dtype\":\"float64\",\"shape\":[8]}}},\"id\":\"17651968-00c8-4a0b-bd78-d5cfd5511839\",\"type\":\"ColumnDataSource\"},{\"attributes\":{\"fill_alpha\":{\"value\":0.7},\"fill_color\":{\"value\":\"#aec7e8\"},\"line_color\":{\"value\":\"#aec7e8\"},\"size\":{\"units\":\"screen\",\"value\":8},\"x\":{\"field\":\"x_values\"},\"y\":{\"field\":\"y_values\"}},\"id\":\"4e7f358d-f22d-4d33-b350-714c6634cc07\",\"type\":\"Circle\"},{\"attributes\":{},\"id\":\"f8b6e0cd-58b0-40c6-b8fa-910174bf553e\",\"type\":\"BasicTickFormatter\"},{\"attributes\":{\"data_source\":{\"id\":\"4e4f100a-43c0-4a95-95be-b8a9f7869c2c\",\"type\":\"ColumnDataSource\"},\"glyph\":{\"id\":\"81cbe715-1d41-4811-b23b-d21f78b694a2\",\"type\":\"Circle\"},\"hover_glyph\":null,\"nonselection_glyph\":null,\"selection_glyph\":null},\"id\":\"1d7871be-d11f-48ab-b6b4-8853ce6d53f7\",\"type\":\"GlyphRenderer\"},{\"attributes\":{\"data_source\":{\"id\":\"3a73f895-3f65-4d15-9f60-573da106abed\",\"type\":\"ColumnDataSource\"},\"glyph\":{\"id\":\"b9fac0d9-c53f-4ec9-8d83-42a5fc851779\",\"type\":\"Circle\"},\"hover_glyph\":null,\"nonselection_glyph\":null,\"selection_glyph\":null},\"id\":\"facffd44-036f-4062-b285-087cfb0253a6\",\"type\":\"GlyphRenderer\"},{\"attributes\":{\"label\":{\"value\":\"98\"},\"renderers\":[{\"id\":\"9cdc610f-439f-4483-9fc5-5614cc49de38\",\"type\":\"GlyphRenderer\"}]},\"id\":\"923aafb4-4d9e-44a4-b228-8530b64b0587\",\"type\":\"LegendItem\"},{\"attributes\":{\"label\":{\"value\":\"109\"},\"renderers\":[{\"id\":\"19698296-3685-4750-b3a5-90724482ae4b\",\"type\":\"GlyphRenderer\"}]},\"id\":\"0016ab7a-454a-470b-b2a9-7e8cf9581345\",\"type\":\"LegendItem\"},{\"attributes\":{\"label\":{\"value\":\"24\"},\"renderers\":[{\"id\":\"60963c3a-8303-4f37-91e3-e9c2f46cd9d9\",\"type\":\"GlyphRenderer\"}]},\"id\":\"1f836a9c-6ca5-4f1a-b8a5-a59834b3c0a5\",\"type\":\"LegendItem\"},{\"attributes\":{\"callback\":null,\"column_names\":[\"x_values\",\"y_values\"],\"data\":{\"chart_index\":[{\"clusterLabel\":-1},{\"clusterLabel\":-1},{\"clusterLabel\":-1},{\"clusterLabel\":-1},{\"clusterLabel\":-1},{\"clusterLabel\":-1},{\"clusterLabel\":-1},{\"clusterLabel\":-1},{\"clusterLabel\":-1},{\"clusterLabel\":-1},{\"clusterLabel\":-1},{\"clusterLabel\":-1},{\"clusterLabel\":-1},{\"clusterLabel\":-1},{\"clusterLabel\":-1},{\"clusterLabel\":-1},{\"clusterLabel\":-1},{\"clusterLabel\":-1},{\"clusterLabel\":-1},{\"clusterLabel\":-1},{\"clusterLabel\":-1},{\"clusterLabel\":-1},{\"clusterLabel\":-1},{\"clusterLabel\":-1},{\"clusterLabel\":-1},{\"clusterLabel\":-1},{\"clusterLabel\":-1},{\"clusterLabel\":-1},{\"clusterLabel\":-1},{\"clusterLabel\":-1},{\"clusterLabel\":-1},{\"clusterLabel\":-1},{\"clusterLabel\":-1},{\"clusterLabel\":-1},{\"clusterLabel\":-1},{\"clusterLabel\":-1},{\"clusterLabel\":-1},{\"clusterLabel\":-1},{\"clusterLabel\":-1},{\"clusterLabel\":-1},{\"clusterLabel\":-1},{\"clusterLabel\":-1},{\"clusterLabel\":-1},{\"clusterLabel\":-1},{\"clusterLabel\":-1},{\"clusterLabel\":-1},{\"clusterLabel\":-1},{\"clusterLabel\":-1},{\"clusterLabel\":-1},{\"clusterLabel\":-1},{\"clusterLabel\":-1},{\"clusterLabel\":-1},{\"clusterLabel\":-1},{\"clusterLabel\":-1},{\"clusterLabel\":-1},{\"clusterLabel\":-1},{\"clusterLabel\":-1},{\"clusterLabel\":-1},{\"clusterLabel\":-1},{\"clusterLabel\":-1},{\"clusterLabel\":-1},{\"clusterLabel\":-1},{\"clusterLabel\":-1},{\"clusterLabel\":-1},{\"clusterLabel\":-1},{\"clusterLabel\":-1},{\"clusterLabel\":-1},{\"clusterLabel\":-1},{\"clusterLabel\":-1},{\"clusterLabel\":-1},{\"clusterLabel\":-1},{\"clusterLabel\":-1},{\"clusterLabel\":-1},{\"clusterLabel\":-1},{\"clusterLabel\":-1},{\"clusterLabel\":-1},{\"clusterLabel\":-1},{\"clusterLabel\":-1},{\"clusterLabel\":-1},{\"clusterLabel\":-1},{\"clusterLabel\":-1},{\"clusterLabel\":-1},{\"clusterLabel\":-1},{\"clusterLabel\":-1},{\"clusterLabel\":-1},{\"clusterLabel\":-1},{\"clusterLabel\":-1},{\"clusterLabel\":-1},{\"clusterLabel\":-1},{\"clusterLabel\":-1},{\"clusterLabel\":-1},{\"clusterLabel\":-1},{\"clusterLabel\":-1},{\"clusterLabel\":-1},{\"clusterLabel\":-1},{\"clusterLabel\":-1},{\"clusterLabel\":-1},{\"clusterLabel\":-1},{\"clusterLabel\":-1},{\"clusterLabel\":-1},{\"clusterLabel\":-1},{\"clusterLabel\":-1},{\"clusterLabel\":-1},{\"clusterLabel\":-1},{\"clusterLabel\":-1},{\"clusterLabel\":-1},{\"clusterLabel\":-1},{\"clusterLabel\":-1},{\"clusterLabel\":-1},{\"clusterLabel\":-1},{\"clusterLabel\":-1},{\"clusterLabel\":-1},{\"clusterLabel\":-1},{\"clusterLabel\":-1},{\"clusterLabel\":-1},{\"clusterLabel\":-1},{\"clusterLabel\":-1},{\"clusterLabel\":-1},{\"clusterLabel\":-1},{\"clusterLabel\":-1},{\"clusterLabel\":-1},{\"clusterLabel\":-1},{\"clusterLabel\":-1},{\"clusterLabel\":-1},{\"clusterLabel\":-1},{\"clusterLabel\":-1},{\"clusterLabel\":-1},{\"clusterLabel\":-1},{\"clusterLabel\":-1},{\"clusterLabel\":-1},{\"clusterLabel\":-1},{\"clusterLabel\":-1},{\"clusterLabel\":-1},{\"clusterLabel\":-1},{\"clusterLabel\":-1},{\"clusterLabel\":-1},{\"clusterLabel\":-1},{\"clusterLabel\":-1},{\"clusterLabel\":-1},{\"clusterLabel\":-1},{\"clusterLabel\":-1},{\"clusterLabel\":-1},{\"clusterLabel\":-1},{\"clusterLabel\":-1},{\"clusterLabel\":-1},{\"clusterLabel\":-1},{\"clusterLabel\":-1},{\"clusterLabel\":-1},{\"clusterLabel\":-1},{\"clusterLabel\":-1},{\"clusterLabel\":-1},{\"clusterLabel\":-1},{\"clusterLabel\":-1},{\"clusterLabel\":-1},{\"clusterLabel\":-1},{\"clusterLabel\":-1},{\"clusterLabel\":-1},{\"clusterLabel\":-1},{\"clusterLabel\":-1},{\"clusterLabel\":-1},{\"clusterLabel\":-1},{\"clusterLabel\":-1},{\"clusterLabel\":-1},{\"clusterLabel\":-1},{\"clusterLabel\":-1},{\"clusterLabel\":-1},{\"clusterLabel\":-1},{\"clusterLabel\":-1},{\"clusterLabel\":-1},{\"clusterLabel\":-1},{\"clusterLabel\":-1},{\"clusterLabel\":-1},{\"clusterLabel\":-1},{\"clusterLabel\":-1},{\"clusterLabel\":-1},{\"clusterLabel\":-1},{\"clusterLabel\":-1},{\"clusterLabel\":-1},{\"clusterLabel\":-1},{\"clusterLabel\":-1},{\"clusterLabel\":-1},{\"clusterLabel\":-1},{\"clusterLabel\":-1},{\"clusterLabel\":-1},{\"clusterLabel\":-1},{\"clusterLabel\":-1},{\"clusterLabel\":-1},{\"clusterLabel\":-1},{\"clusterLabel\":-1},{\"clusterLabel\":-1},{\"clusterLabel\":-1},{\"clusterLabel\":-1},{\"clusterLabel\":-1},{\"clusterLabel\":-1},{\"clusterLabel\":-1},{\"clusterLabel\":-1},{\"clusterLabel\":-1},{\"clusterLabel\":-1},{\"clusterLabel\":-1},{\"clusterLabel\":-1},{\"clusterLabel\":-1},{\"clusterLabel\":-1},{\"clusterLabel\":-1},{\"clusterLabel\":-1},{\"clusterLabel\":-1},{\"clusterLabel\":-1},{\"clusterLabel\":-1},{\"clusterLabel\":-1},{\"clusterLabel\":-1},{\"clusterLabel\":-1},{\"clusterLabel\":-1},{\"clusterLabel\":-1},{\"clusterLabel\":-1},{\"clusterLabel\":-1},{\"clusterLabel\":-1},{\"clusterLabel\":-1},{\"clusterLabel\":-1},{\"clusterLabel\":-1},{\"clusterLabel\":-1},{\"clusterLabel\":-1},{\"clusterLabel\":-1},{\"clusterLabel\":-1},{\"clusterLabel\":-1},{\"clusterLabel\":-1},{\"clusterLabel\":-1},{\"clusterLabel\":-1},{\"clusterLabel\":-1},{\"clusterLabel\":-1},{\"clusterLabel\":-1},{\"clusterLabel\":-1},{\"clusterLabel\":-1},{\"clusterLabel\":-1},{\"clusterLabel\":-1},{\"clusterLabel\":-1},{\"clusterLabel\":-1},{\"clusterLabel\":-1},{\"clusterLabel\":-1},{\"clusterLabel\":-1},{\"clusterLabel\":-1},{\"clusterLabel\":-1},{\"clusterLabel\":-1},{\"clusterLabel\":-1},{\"clusterLabel\":-1},{\"clusterLabel\":-1},{\"clusterLabel\":-1},{\"clusterLabel\":-1},{\"clusterLabel\":-1},{\"clusterLabel\":-1},{\"clusterLabel\":-1},{\"clusterLabel\":-1},{\"clusterLabel\":-1},{\"clusterLabel\":-1},{\"clusterLabel\":-1},{\"clusterLabel\":-1},{\"clusterLabel\":-1},{\"clusterLabel\":-1},{\"clusterLabel\":-1},{\"clusterLabel\":-1},{\"clusterLabel\":-1},{\"clusterLabel\":-1},{\"clusterLabel\":-1},{\"clusterLabel\":-1},{\"clusterLabel\":-1},{\"clusterLabel\":-1},{\"clusterLabel\":-1},{\"clusterLabel\":-1},{\"clusterLabel\":-1},{\"clusterLabel\":-1},{\"clusterLabel\":-1},{\"clusterLabel\":-1},{\"clusterLabel\":-1},{\"clusterLabel\":-1},{\"clusterLabel\":-1},{\"clusterLabel\":-1},{\"clusterLabel\":-1},{\"clusterLabel\":-1},{\"clusterLabel\":-1},{\"clusterLabel\":-1},{\"clusterLabel\":-1},{\"clusterLabel\":-1},{\"clusterLabel\":-1},{\"clusterLabel\":-1},{\"clusterLabel\":-1},{\"clusterLabel\":-1},{\"clusterLabel\":-1},{\"clusterLabel\":-1},{\"clusterLabel\":-1},{\"clusterLabel\":-1},{\"clusterLabel\":-1},{\"clusterLabel\":-1},{\"clusterLabel\":-1},{\"clusterLabel\":-1},{\"clusterLabel\":-1},{\"clusterLabel\":-1},{\"clusterLabel\":-1},{\"clusterLabel\":-1},{\"clusterLabel\":-1},{\"clusterLabel\":-1},{\"clusterLabel\":-1},{\"clusterLabel\":-1},{\"clusterLabel\":-1},{\"clusterLabel\":-1},{\"clusterLabel\":-1},{\"clusterLabel\":-1},{\"clusterLabel\":-1},{\"clusterLabel\":-1},{\"clusterLabel\":-1},{\"clusterLabel\":-1},{\"clusterLabel\":-1},{\"clusterLabel\":-1},{\"clusterLabel\":-1},{\"clusterLabel\":-1},{\"clusterLabel\":-1},{\"clusterLabel\":-1},{\"clusterLabel\":-1},{\"clusterLabel\":-1},{\"clusterLabel\":-1},{\"clusterLabel\":-1},{\"clusterLabel\":-1},{\"clusterLabel\":-1},{\"clusterLabel\":-1},{\"clusterLabel\":-1},{\"clusterLabel\":-1},{\"clusterLabel\":-1},{\"clusterLabel\":-1},{\"clusterLabel\":-1},{\"clusterLabel\":-1},{\"clusterLabel\":-1},{\"clusterLabel\":-1},{\"clusterLabel\":-1},{\"clusterLabel\":-1},{\"clusterLabel\":-1},{\"clusterLabel\":-1},{\"clusterLabel\":-1},{\"clusterLabel\":-1},{\"clusterLabel\":-1},{\"clusterLabel\":-1},{\"clusterLabel\":-1},{\"clusterLabel\":-1},{\"clusterLabel\":-1},{\"clusterLabel\":-1},{\"clusterLabel\":-1},{\"clusterLabel\":-1},{\"clusterLabel\":-1},{\"clusterLabel\":-1},{\"clusterLabel\":-1},{\"clusterLabel\":-1},{\"clusterLabel\":-1},{\"clusterLabel\":-1},{\"clusterLabel\":-1},{\"clusterLabel\":-1},{\"clusterLabel\":-1},{\"clusterLabel\":-1},{\"clusterLabel\":-1},{\"clusterLabel\":-1},{\"clusterLabel\":-1},{\"clusterLabel\":-1},{\"clusterLabel\":-1},{\"clusterLabel\":-1},{\"clusterLabel\":-1},{\"clusterLabel\":-1},{\"clusterLabel\":-1},{\"clusterLabel\":-1},{\"clusterLabel\":-1},{\"clusterLabel\":-1},{\"clusterLabel\":-1},{\"clusterLabel\":-1},{\"clusterLabel\":-1},{\"clusterLabel\":-1},{\"clusterLabel\":-1},{\"clusterLabel\":-1},{\"clusterLabel\":-1},{\"clusterLabel\":-1},{\"clusterLabel\":-1},{\"clusterLabel\":-1},{\"clusterLabel\":-1},{\"clusterLabel\":-1},{\"clusterLabel\":-1},{\"clusterLabel\":-1},{\"clusterLabel\":-1},{\"clusterLabel\":-1},{\"clusterLabel\":-1},{\"clusterLabel\":-1},{\"clusterLabel\":-1},{\"clusterLabel\":-1},{\"clusterLabel\":-1},{\"clusterLabel\":-1},{\"clusterLabel\":-1},{\"clusterLabel\":-1},{\"clusterLabel\":-1},{\"clusterLabel\":-1},{\"clusterLabel\":-1},{\"clusterLabel\":-1},{\"clusterLabel\":-1},{\"clusterLabel\":-1},{\"clusterLabel\":-1},{\"clusterLabel\":-1},{\"clusterLabel\":-1},{\"clusterLabel\":-1},{\"clusterLabel\":-1},{\"clusterLabel\":-1},{\"clusterLabel\":-1},{\"clusterLabel\":-1},{\"clusterLabel\":-1},{\"clusterLabel\":-1},{\"clusterLabel\":-1},{\"clusterLabel\":-1},{\"clusterLabel\":-1},{\"clusterLabel\":-1},{\"clusterLabel\":-1},{\"clusterLabel\":-1},{\"clusterLabel\":-1},{\"clusterLabel\":-1},{\"clusterLabel\":-1},{\"clusterLabel\":-1},{\"clusterLabel\":-1},{\"clusterLabel\":-1},{\"clusterLabel\":-1},{\"clusterLabel\":-1},{\"clusterLabel\":-1},{\"clusterLabel\":-1},{\"clusterLabel\":-1},{\"clusterLabel\":-1},{\"clusterLabel\":-1},{\"clusterLabel\":-1},{\"clusterLabel\":-1},{\"clusterLabel\":-1},{\"clusterLabel\":-1},{\"clusterLabel\":-1},{\"clusterLabel\":-1},{\"clusterLabel\":-1},{\"clusterLabel\":-1},{\"clusterLabel\":-1},{\"clusterLabel\":-1},{\"clusterLabel\":-1},{\"clusterLabel\":-1},{\"clusterLabel\":-1},{\"clusterLabel\":-1},{\"clusterLabel\":-1},{\"clusterLabel\":-1},{\"clusterLabel\":-1},{\"clusterLabel\":-1},{\"clusterLabel\":-1},{\"clusterLabel\":-1},{\"clusterLabel\":-1},{\"clusterLabel\":-1},{\"clusterLabel\":-1},{\"clusterLabel\":-1},{\"clusterLabel\":-1},{\"clusterLabel\":-1},{\"clusterLabel\":-1},{\"clusterLabel\":-1},{\"clusterLabel\":-1},{\"clusterLabel\":-1},{\"clusterLabel\":-1},{\"clusterLabel\":-1},{\"clusterLabel\":-1},{\"clusterLabel\":-1},{\"clusterLabel\":-1},{\"clusterLabel\":-1},{\"clusterLabel\":-1},{\"clusterLabel\":-1},{\"clusterLabel\":-1},{\"clusterLabel\":-1},{\"clusterLabel\":-1},{\"clusterLabel\":-1},{\"clusterLabel\":-1},{\"clusterLabel\":-1},{\"clusterLabel\":-1},{\"clusterLabel\":-1},{\"clusterLabel\":-1},{\"clusterLabel\":-1},{\"clusterLabel\":-1},{\"clusterLabel\":-1},{\"clusterLabel\":-1},{\"clusterLabel\":-1},{\"clusterLabel\":-1},{\"clusterLabel\":-1},{\"clusterLabel\":-1},{\"clusterLabel\":-1},{\"clusterLabel\":-1},{\"clusterLabel\":-1},{\"clusterLabel\":-1},{\"clusterLabel\":-1},{\"clusterLabel\":-1},{\"clusterLabel\":-1},{\"clusterLabel\":-1},{\"clusterLabel\":-1},{\"clusterLabel\":-1},{\"clusterLabel\":-1},{\"clusterLabel\":-1},{\"clusterLabel\":-1},{\"clusterLabel\":-1},{\"clusterLabel\":-1},{\"clusterLabel\":-1},{\"clusterLabel\":-1},{\"clusterLabel\":-1},{\"clusterLabel\":-1},{\"clusterLabel\":-1},{\"clusterLabel\":-1},{\"clusterLabel\":-1},{\"clusterLabel\":-1},{\"clusterLabel\":-1},{\"clusterLabel\":-1},{\"clusterLabel\":-1},{\"clusterLabel\":-1},{\"clusterLabel\":-1},{\"clusterLabel\":-1},{\"clusterLabel\":-1},{\"clusterLabel\":-1},{\"clusterLabel\":-1},{\"clusterLabel\":-1},{\"clusterLabel\":-1},{\"clusterLabel\":-1},{\"clusterLabel\":-1},{\"clusterLabel\":-1},{\"clusterLabel\":-1},{\"clusterLabel\":-1},{\"clusterLabel\":-1},{\"clusterLabel\":-1},{\"clusterLabel\":-1},{\"clusterLabel\":-1},{\"clusterLabel\":-1},{\"clusterLabel\":-1},{\"clusterLabel\":-1},{\"clusterLabel\":-1},{\"clusterLabel\":-1},{\"clusterLabel\":-1},{\"clusterLabel\":-1},{\"clusterLabel\":-1},{\"clusterLabel\":-1},{\"clusterLabel\":-1},{\"clusterLabel\":-1},{\"clusterLabel\":-1},{\"clusterLabel\":-1},{\"clusterLabel\":-1},{\"clusterLabel\":-1},{\"clusterLabel\":-1},{\"clusterLabel\":-1},{\"clusterLabel\":-1},{\"clusterLabel\":-1},{\"clusterLabel\":-1},{\"clusterLabel\":-1},{\"clusterLabel\":-1},{\"clusterLabel\":-1},{\"clusterLabel\":-1},{\"clusterLabel\":-1},{\"clusterLabel\":-1},{\"clusterLabel\":-1},{\"clusterLabel\":-1},{\"clusterLabel\":-1},{\"clusterLabel\":-1},{\"clusterLabel\":-1},{\"clusterLabel\":-1},{\"clusterLabel\":-1},{\"clusterLabel\":-1},{\"clusterLabel\":-1},{\"clusterLabel\":-1},{\"clusterLabel\":-1},{\"clusterLabel\":-1},{\"clusterLabel\":-1},{\"clusterLabel\":-1},{\"clusterLabel\":-1},{\"clusterLabel\":-1},{\"clusterLabel\":-1},{\"clusterLabel\":-1},{\"clusterLabel\":-1},{\"clusterLabel\":-1},{\"clusterLabel\":-1},{\"clusterLabel\":-1},{\"clusterLabel\":-1},{\"clusterLabel\":-1},{\"clusterLabel\":-1},{\"clusterLabel\":-1},{\"clusterLabel\":-1},{\"clusterLabel\":-1},{\"clusterLabel\":-1},{\"clusterLabel\":-1},{\"clusterLabel\":-1},{\"clusterLabel\":-1},{\"clusterLabel\":-1},{\"clusterLabel\":-1},{\"clusterLabel\":-1},{\"clusterLabel\":-1},{\"clusterLabel\":-1},{\"clusterLabel\":-1},{\"clusterLabel\":-1},{\"clusterLabel\":-1},{\"clusterLabel\":-1},{\"clusterLabel\":-1},{\"clusterLabel\":-1},{\"clusterLabel\":-1},{\"clusterLabel\":-1},{\"clusterLabel\":-1},{\"clusterLabel\":-1},{\"clusterLabel\":-1},{\"clusterLabel\":-1},{\"clusterLabel\":-1},{\"clusterLabel\":-1},{\"clusterLabel\":-1},{\"clusterLabel\":-1},{\"clusterLabel\":-1},{\"clusterLabel\":-1},{\"clusterLabel\":-1},{\"clusterLabel\":-1},{\"clusterLabel\":-1},{\"clusterLabel\":-1},{\"clusterLabel\":-1},{\"clusterLabel\":-1},{\"clusterLabel\":-1},{\"clusterLabel\":-1},{\"clusterLabel\":-1},{\"clusterLabel\":-1},{\"clusterLabel\":-1},{\"clusterLabel\":-1},{\"clusterLabel\":-1},{\"clusterLabel\":-1},{\"clusterLabel\":-1},{\"clusterLabel\":-1},{\"clusterLabel\":-1},{\"clusterLabel\":-1},{\"clusterLabel\":-1},{\"clusterLabel\":-1},{\"clusterLabel\":-1},{\"clusterLabel\":-1},{\"clusterLabel\":-1},{\"clusterLabel\":-1},{\"clusterLabel\":-1},{\"clusterLabel\":-1},{\"clusterLabel\":-1},{\"clusterLabel\":-1},{\"clusterLabel\":-1},{\"clusterLabel\":-1},{\"clusterLabel\":-1},{\"clusterLabel\":-1},{\"clusterLabel\":-1},{\"clusterLabel\":-1},{\"clusterLabel\":-1},{\"clusterLabel\":-1},{\"clusterLabel\":-1},{\"clusterLabel\":-1},{\"clusterLabel\":-1},{\"clusterLabel\":-1},{\"clusterLabel\":-1},{\"clusterLabel\":-1},{\"clusterLabel\":-1},{\"clusterLabel\":-1},{\"clusterLabel\":-1},{\"clusterLabel\":-1},{\"clusterLabel\":-1},{\"clusterLabel\":-1},{\"clusterLabel\":-1},{\"clusterLabel\":-1},{\"clusterLabel\":-1},{\"clusterLabel\":-1},{\"clusterLabel\":-1},{\"clusterLabel\":-1},{\"clusterLabel\":-1},{\"clusterLabel\":-1},{\"clusterLabel\":-1},{\"clusterLabel\":-1},{\"clusterLabel\":-1},{\"clusterLabel\":-1},{\"clusterLabel\":-1},{\"clusterLabel\":-1},{\"clusterLabel\":-1},{\"clusterLabel\":-1},{\"clusterLabel\":-1},{\"clusterLabel\":-1},{\"clusterLabel\":-1},{\"clusterLabel\":-1},{\"clusterLabel\":-1},{\"clusterLabel\":-1},{\"clusterLabel\":-1},{\"clusterLabel\":-1},{\"clusterLabel\":-1},{\"clusterLabel\":-1},{\"clusterLabel\":-1},{\"clusterLabel\":-1},{\"clusterLabel\":-1},{\"clusterLabel\":-1},{\"clusterLabel\":-1},{\"clusterLabel\":-1},{\"clusterLabel\":-1},{\"clusterLabel\":-1},{\"clusterLabel\":-1},{\"clusterLabel\":-1},{\"clusterLabel\":-1},{\"clusterLabel\":-1},{\"clusterLabel\":-1},{\"clusterLabel\":-1},{\"clusterLabel\":-1},{\"clusterLabel\":-1},{\"clusterLabel\":-1}],\"clusterLabel\":[-1,-1,-1,-1,-1,-1,-1,-1,-1,-1,-1,-1,-1,-1,-1,-1,-1,-1,-1,-1,-1,-1,-1,-1,-1,-1,-1,-1,-1,-1,-1,-1,-1,-1,-1,-1,-1,-1,-1,-1,-1,-1,-1,-1,-1,-1,-1,-1,-1,-1,-1,-1,-1,-1,-1,-1,-1,-1,-1,-1,-1,-1,-1,-1,-1,-1,-1,-1,-1,-1,-1,-1,-1,-1,-1,-1,-1,-1,-1,-1,-1,-1,-1,-1,-1,-1,-1,-1,-1,-1,-1,-1,-1,-1,-1,-1,-1,-1,-1,-1,-1,-1,-1,-1,-1,-1,-1,-1,-1,-1,-1,-1,-1,-1,-1,-1,-1,-1,-1,-1,-1,-1,-1,-1,-1,-1,-1,-1,-1,-1,-1,-1,-1,-1,-1,-1,-1,-1,-1,-1,-1,-1,-1,-1,-1,-1,-1,-1,-1,-1,-1,-1,-1,-1,-1,-1,-1,-1,-1,-1,-1,-1,-1,-1,-1,-1,-1,-1,-1,-1,-1,-1,-1,-1,-1,-1,-1,-1,-1,-1,-1,-1,-1,-1,-1,-1,-1,-1,-1,-1,-1,-1,-1,-1,-1,-1,-1,-1,-1,-1,-1,-1,-1,-1,-1,-1,-1,-1,-1,-1,-1,-1,-1,-1,-1,-1,-1,-1,-1,-1,-1,-1,-1,-1,-1,-1,-1,-1,-1,-1,-1,-1,-1,-1,-1,-1,-1,-1,-1,-1,-1,-1,-1,-1,-1,-1,-1,-1,-1,-1,-1,-1,-1,-1,-1,-1,-1,-1,-1,-1,-1,-1,-1,-1,-1,-1,-1,-1,-1,-1,-1,-1,-1,-1,-1,-1,-1,-1,-1,-1,-1,-1,-1,-1,-1,-1,-1,-1,-1,-1,-1,-1,-1,-1,-1,-1,-1,-1,-1,-1,-1,-1,-1,-1,-1,-1,-1,-1,-1,-1,-1,-1,-1,-1,-1,-1,-1,-1,-1,-1,-1,-1,-1,-1,-1,-1,-1,-1,-1,-1,-1,-1,-1,-1,-1,-1,-1,-1,-1,-1,-1,-1,-1,-1,-1,-1,-1,-1,-1,-1,-1,-1,-1,-1,-1,-1,-1,-1,-1,-1,-1,-1,-1,-1,-1,-1,-1,-1,-1,-1,-1,-1,-1,-1,-1,-1,-1,-1,-1,-1,-1,-1,-1,-1,-1,-1,-1,-1,-1,-1,-1,-1,-1,-1,-1,-1,-1,-1,-1,-1,-1,-1,-1,-1,-1,-1,-1,-1,-1,-1,-1,-1,-1,-1,-1,-1,-1,-1,-1,-1,-1,-1,-1,-1,-1,-1,-1,-1,-1,-1,-1,-1,-1,-1,-1,-1,-1,-1,-1,-1,-1,-1,-1,-1,-1,-1,-1,-1,-1,-1,-1,-1,-1,-1,-1,-1,-1,-1,-1,-1,-1,-1,-1,-1,-1,-1,-1,-1,-1,-1,-1,-1,-1,-1,-1,-1,-1,-1,-1,-1,-1,-1,-1,-1,-1,-1,-1,-1,-1,-1,-1,-1,-1,-1,-1,-1,-1,-1,-1,-1,-1,-1,-1,-1,-1,-1,-1,-1,-1,-1,-1,-1,-1,-1,-1,-1,-1,-1,-1,-1,-1,-1,-1,-1,-1,-1,-1,-1,-1,-1,-1,-1,-1,-1,-1,-1,-1,-1,-1,-1,-1,-1,-1,-1,-1,-1,-1,-1,-1,-1,-1,-1,-1,-1,-1,-1,-1,-1,-1,-1,-1,-1,-1,-1,-1,-1,-1,-1,-1,-1,-1,-1,-1,-1,-1,-1,-1,-1,-1,-1,-1,-1,-1,-1,-1,-1,-1,-1,-1,-1,-1,-1,-1,-1,-1,-1,-1,-1,-1,-1,-1,-1,-1,-1,-1,-1,-1,-1,-1,-1,-1,-1,-1,-1,-1,-1,-1,-1,-1,-1,-1,-1,-1,-1,-1,-1,-1,-1,-1,-1,-1,-1,-1,-1,-1,-1,-1,-1,-1,-1,-1,-1,-1,-1,-1,-1,-1,-1,-1,-1,-1,-1,-1,-1,-1,-1,-1,-1,-1,-1,-1,-1,-1,-1,-1,-1,-1,-1,-1,-1,-1,-1,-1,-1,-1,-1,-1,-1,-1,-1,-1,-1,-1,-1,-1,-1,-1,-1,-1,-1,-1,-1,-1,-1],\"x_values\":{\"__ndarray__\":\"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\",\"dtype\":\"float64\",\"shape\":[694]},\"y_values\":{\"__ndarray__\":\"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\",\"dtype\":\"float64\",\"shape\":[694]}}},\"id\":\"4ee583a8-bb69-4f4d-87f1-d485c1d3e395\",\"type\":\"ColumnDataSource\"},{\"attributes\":{\"callback\":null,\"column_names\":[\"x_values\",\"y_values\"],\"data\":{\"chart_index\":[{\"clusterLabel\":79},{\"clusterLabel\":79},{\"clusterLabel\":79},{\"clusterLabel\":79}],\"clusterLabel\":[79,79,79,79],\"x_values\":{\"__ndarray__\":\"POYwq7IhA0BHniDoP/AEQMC30pv7OwNAmIUR1sxfAkA=\",\"dtype\":\"float64\",\"shape\":[4]},\"y_values\":{\"__ndarray__\":\"OBRRyI59EMBsLgy3FmIOwB9TjYuP0Q/ALG/IwNUIEcA=\",\"dtype\":\"float64\",\"shape\":[4]}}},\"id\":\"9a70f095-6520-4a5a-9386-ef51829c59e9\",\"type\":\"ColumnDataSource\"},{\"attributes\":{\"callback\":null,\"column_names\":[\"x_values\",\"y_values\"],\"data\":{\"chart_index\":[{\"clusterLabel\":106},{\"clusterLabel\":106},{\"clusterLabel\":106},{\"clusterLabel\":106}],\"clusterLabel\":[106,106,106,106],\"x_values\":{\"__ndarray__\":\"PhF+Y1HrNcC64W7nSBQ2wFz0O4ivAzbA36XKzZDfNcA=\",\"dtype\":\"float64\",\"shape\":[4]},\"y_values\":{\"__ndarray__\":\"mkRcOELaIUBoslFvltUhQNMjUFk+wSFAoRvJ5ty0IkA=\",\"dtype\":\"float64\",\"shape\":[4]}}},\"id\":\"da2e055b-21e4-438c-a782-36c6fb21ac0d\",\"type\":\"ColumnDataSource\"},{\"attributes\":{\"callback\":null,\"column_names\":[\"x_values\",\"y_values\"],\"data\":{\"chart_index\":[{\"clusterLabel\":95},{\"clusterLabel\":95},{\"clusterLabel\":95},{\"clusterLabel\":95}],\"clusterLabel\":[95,95,95,95],\"x_values\":{\"__ndarray__\":\"qYClPDGwNcDW4XldSAk2wGCVfDPVdzXAvWQZB5WcNcA=\",\"dtype\":\"float64\",\"shape\":[4]},\"y_values\":{\"__ndarray__\":\"8+MqRUPVI0C6BWFrcxEkQB83s+/KsCRAnkc58XCnI0A=\",\"dtype\":\"float64\",\"shape\":[4]}}},\"id\":\"d24503d1-c0d4-4196-a890-f1e70eb13203\",\"type\":\"ColumnDataSource\"},{\"attributes\":{\"label\":{\"value\":\"99\"},\"renderers\":[{\"id\":\"79134ac4-d987-454e-9820-a28aefda6723\",\"type\":\"GlyphRenderer\"}]},\"id\":\"0f266315-f425-4f19-9190-68e1e313dfaa\",\"type\":\"LegendItem\"},{\"attributes\":{\"callback\":null,\"column_names\":[\"x_values\",\"y_values\"],\"data\":{\"chart_index\":[{\"clusterLabel\":62},{\"clusterLabel\":62},{\"clusterLabel\":62},{\"clusterLabel\":62}],\"clusterLabel\":[62,62,62,62],\"x_values\":{\"__ndarray__\":\"iRdXkACoM0BdlQCjRr4zQPTG+CgHnDNAJ6X5uNegM0A=\",\"dtype\":\"float64\",\"shape\":[4]},\"y_values\":{\"__ndarray__\":\"NDBr9IXaGcDH/WjB1l8YwOiHoQ6esBnA8O856Xm7GsA=\",\"dtype\":\"float64\",\"shape\":[4]}}},\"id\":\"3a73f895-3f65-4d15-9f60-573da106abed\",\"type\":\"ColumnDataSource\"},{\"attributes\":{\"label\":{\"value\":\"52\"},\"renderers\":[{\"id\":\"325c072c-c00e-4b60-8f6e-1e6a38793f90\",\"type\":\"GlyphRenderer\"}]},\"id\":\"eed19400-41be-45ee-8cf9-68ae1b44883a\",\"type\":\"LegendItem\"},{\"attributes\":{\"fill_alpha\":{\"value\":0.7},\"fill_color\":{\"value\":\"#ff9896\"},\"line_color\":{\"value\":\"#ff9896\"},\"size\":{\"units\":\"screen\",\"value\":8},\"x\":{\"field\":\"x_values\"},\"y\":{\"field\":\"y_values\"}},\"id\":\"62ed5126-1141-4494-9f3c-7c49be32aff1\",\"type\":\"Circle\"},{\"attributes\":{\"fill_alpha\":{\"value\":0.7},\"fill_color\":{\"value\":\"#17becf\"},\"line_color\":{\"value\":\"#17becf\"},\"size\":{\"units\":\"screen\",\"value\":8},\"x\":{\"field\":\"x_values\"},\"y\":{\"field\":\"y_values\"}},\"id\":\"6f4420d7-f556-4432-9c4b-d4e46eea2390\",\"type\":\"Circle\"},{\"attributes\":{\"callback\":null,\"column_names\":[\"x_values\",\"y_values\"],\"data\":{\"chart_index\":[{\"clusterLabel\":2},{\"clusterLabel\":2},{\"clusterLabel\":2},{\"clusterLabel\":2},{\"clusterLabel\":2},{\"clusterLabel\":2},{\"clusterLabel\":2},{\"clusterLabel\":2},{\"clusterLabel\":2},{\"clusterLabel\":2}],\"clusterLabel\":[2,2,2,2,2,2,2,2,2,2],\"x_values\":{\"__ndarray__\":\"wDIF8EZd4L+gXYJoN7jnvzUCzLS9weu/5HHHRfi7w7/6pQNaZdXuvwT6wzl7LaE/Q3jNkgkL5b+OwXu2SIy0v0LUFilN4vS/FPZTWnAs9b8=\",\"dtype\":\"float64\",\"shape\":[10]},\"y_values\":{\"__ndarray__\":\"BVEPaHvEIUCXZfxaKtohQKuQ28xDKiFA8D7fb/bQIUCRF6m+muchQPGGYGT7/SFAHqq9I7/5IECyEdphzQIhQCaJG2SbgyJAUPS5ACwnIUA=\",\"dtype\":\"float64\",\"shape\":[10]}}},\"id\":\"60014c85-a3ba-41e6-a0de-56545a3010a0\",\"type\":\"ColumnDataSource\"},{\"attributes\":{\"data_source\":{\"id\":\"2d26a0d5-804e-4654-840d-012ad3cdfc4a\",\"type\":\"ColumnDataSource\"},\"glyph\":{\"id\":\"d1ed185b-a254-4c82-a9de-5f417e1c279c\",\"type\":\"Circle\"},\"hover_glyph\":null,\"nonselection_glyph\":null,\"selection_glyph\":null},\"id\":\"cf6de2a2-6cf1-46c1-9a8d-cef066f77c03\",\"type\":\"GlyphRenderer\"},{\"attributes\":{\"data_source\":{\"id\":\"cfbb772e-cbe3-4e3e-9019-f1311f42916a\",\"type\":\"ColumnDataSource\"},\"glyph\":{\"id\":\"75e542a6-4de6-4e87-9498-981706a1cdc5\",\"type\":\"Circle\"},\"hover_glyph\":null,\"nonselection_glyph\":null,\"selection_glyph\":null},\"id\":\"47efaff8-4f2c-4be9-8e74-62deed0c8543\",\"type\":\"GlyphRenderer\"},{\"attributes\":{\"data_source\":{\"id\":\"778d53a7-f0be-49dc-ae8b-0159c5df976a\",\"type\":\"ColumnDataSource\"},\"glyph\":{\"id\":\"6e309f72-d267-4ea7-a19f-edac4abae6d8\",\"type\":\"Circle\"},\"hover_glyph\":null,\"nonselection_glyph\":null,\"selection_glyph\":null},\"id\":\"c203c654-0d9c-4880-a059-b0a6656c1733\",\"type\":\"GlyphRenderer\"},{\"attributes\":{\"fill_alpha\":{\"value\":0.7},\"fill_color\":{\"value\":\"#dbdb8d\"},\"line_color\":{\"value\":\"#dbdb8d\"},\"size\":{\"units\":\"screen\",\"value\":8},\"x\":{\"field\":\"x_values\"},\"y\":{\"field\":\"y_values\"}},\"id\":\"ee139ddc-42cc-4386-a129-56febc97d0a5\",\"type\":\"Circle\"},{\"attributes\":{\"callback\":null,\"column_names\":[\"x_values\",\"y_values\"],\"data\":{\"chart_index\":[{\"clusterLabel\":25},{\"clusterLabel\":25},{\"clusterLabel\":25},{\"clusterLabel\":25},{\"clusterLabel\":25},{\"clusterLabel\":25},{\"clusterLabel\":25},{\"clusterLabel\":25},{\"clusterLabel\":25}],\"clusterLabel\":[25,25,25,25,25,25,25,25,25],\"x_values\":{\"__ndarray__\":\"popt8uadNUCvvyIkaSQ2QG0ttl5wzjVAdgrDYQQANkBI6zoax7Q1QCUOREpH0zVAJRimiVY+NUDMWQk2x001QC+VX5OTHTZA\",\"dtype\":\"float64\",\"shape\":[9]},\"y_values\":{\"__ndarray__\":\"b3FL/QNWG0Bb0sXLgSgdQK7tfP6cFBtABIDvP9BEHEC3zA93cYYdQILV/+TnSh5ALmYZq+NCHEBfHFAad5YeQNjdztNEPh9A\",\"dtype\":\"float64\",\"shape\":[9]}}},\"id\":\"55d6c41a-d9a3-47ac-9e82-60b072745ffc\",\"type\":\"ColumnDataSource\"},{\"attributes\":{\"fill_alpha\":{\"value\":0.7},\"fill_color\":{\"value\":\"#7f7f7f\"},\"line_color\":{\"value\":\"#7f7f7f\"},\"size\":{\"units\":\"screen\",\"value\":8},\"x\":{\"field\":\"x_values\"},\"y\":{\"field\":\"y_values\"}},\"id\":\"6cde2ea9-0af4-4734-be9f-0966626b366a\",\"type\":\"Circle\"},{\"attributes\":{\"fill_alpha\":{\"value\":0.7},\"fill_color\":{\"value\":\"#98df8a\"},\"line_color\":{\"value\":\"#98df8a\"},\"size\":{\"units\":\"screen\",\"value\":8},\"x\":{\"field\":\"x_values\"},\"y\":{\"field\":\"y_values\"}},\"id\":\"149ba3da-1e35-4451-a6ef-1bba88e094ea\",\"type\":\"Circle\"},{\"attributes\":{\"callback\":null,\"column_names\":[\"x_values\",\"y_values\"],\"data\":{\"chart_index\":[{\"clusterLabel\":24},{\"clusterLabel\":24},{\"clusterLabel\":24},{\"clusterLabel\":24},{\"clusterLabel\":24},{\"clusterLabel\":24},{\"clusterLabel\":24},{\"clusterLabel\":24},{\"clusterLabel\":24},{\"clusterLabel\":24},{\"clusterLabel\":24}],\"clusterLabel\":[24,24,24,24,24,24,24,24,24,24,24],\"x_values\":{\"__ndarray__\":\"nlKeV2WAI8AFeXU9bWchwInFDa4ZwCHASG2xoMDUI8BmX+pYqAgjwCpCb/fjpCHAOuY2fVDiIsDjojKoZl8iwMNJwmQhlyLAL8eqY9OPI8CU4yY/rr8jwA==\",\"dtype\":\"float64\",\"shape\":[11]},\"y_values\":{\"__ndarray__\":\"1qbd3yLXCsC9dL0p1IoRwIBtLAUqFBDAK08dNMKvDMA6YSC3AEoPwMitxFKsIw/AAgxoCY/4DcACwMSaAl4PwMCM9C6yCBDA9nDQ6B84DMB0FxYfxAIKwA==\",\"dtype\":\"float64\",\"shape\":[11]}}},\"id\":\"56bde6f4-628c-4788-8f8b-533f2efedeef\",\"type\":\"ColumnDataSource\"},{\"attributes\":{\"data_source\":{\"id\":\"0cab1d9d-41a7-40cd-b100-152bf7922aba\",\"type\":\"ColumnDataSource\"},\"glyph\":{\"id\":\"bbe619ed-a54d-4e53-a254-cecee771edb5\",\"type\":\"Circle\"},\"hover_glyph\":null,\"nonselection_glyph\":null,\"selection_glyph\":null},\"id\":\"a8185fc5-2b4e-4b03-b43c-b507af357947\",\"type\":\"GlyphRenderer\"},{\"attributes\":{\"label\":{\"value\":\"42\"},\"renderers\":[{\"id\":\"2794b0f5-bb57-49cd-932a-518d81bdca3c\",\"type\":\"GlyphRenderer\"}]},\"id\":\"eec4cee3-8829-4e8e-a41e-33bb2891a0e1\",\"type\":\"LegendItem\"},{\"attributes\":{\"data_source\":{\"id\":\"b4b4070a-f220-41e4-8654-f3658a9504e8\",\"type\":\"ColumnDataSource\"},\"glyph\":{\"id\":\"08ee6010-2a65-46b5-b6df-4a011cde76ff\",\"type\":\"Circle\"},\"hover_glyph\":null,\"nonselection_glyph\":null,\"selection_glyph\":null},\"id\":\"1713c750-6bde-4418-81ed-db0d18e148f4\",\"type\":\"GlyphRenderer\"},{\"attributes\":{\"fill_alpha\":{\"value\":0.7},\"fill_color\":{\"value\":\"#c7c7c7\"},\"line_color\":{\"value\":\"#c7c7c7\"},\"size\":{\"units\":\"screen\",\"value\":8},\"x\":{\"field\":\"x_values\"},\"y\":{\"field\":\"y_values\"}},\"id\":\"7bc42bca-5999-4da9-90e1-e020f445e0c8\",\"type\":\"Circle\"},{\"attributes\":{\"label\":{\"value\":\"38\"},\"renderers\":[{\"id\":\"a7554b8a-3142-4d25-9c77-53113c879d03\",\"type\":\"GlyphRenderer\"}]},\"id\":\"9fee2ffe-c01a-4a78-ad8c-0c426166b289\",\"type\":\"LegendItem\"},{\"attributes\":{\"fill_alpha\":{\"value\":0.7},\"fill_color\":{\"value\":\"#c7c7c7\"},\"line_color\":{\"value\":\"#c7c7c7\"},\"size\":{\"units\":\"screen\",\"value\":8},\"x\":{\"field\":\"x_values\"},\"y\":{\"field\":\"y_values\"}},\"id\":\"fe428820-0be5-4448-af34-9ce0197798de\",\"type\":\"Circle\"},{\"attributes\":{\"data_source\":{\"id\":\"60014c85-a3ba-41e6-a0de-56545a3010a0\",\"type\":\"ColumnDataSource\"},\"glyph\":{\"id\":\"2ca8281b-c355-41a9-9cdb-d766681586b8\",\"type\":\"Circle\"},\"hover_glyph\":null,\"nonselection_glyph\":null,\"selection_glyph\":null},\"id\":\"32170d67-5e39-480c-8160-006fa0519e70\",\"type\":\"GlyphRenderer\"},{\"attributes\":{\"data_source\":{\"id\":\"0b9b2be0-b68c-4708-b2c5-60b89a227e08\",\"type\":\"ColumnDataSource\"},\"glyph\":{\"id\":\"ab24e15e-4aed-4d9b-abbb-d4848a3851d0\",\"type\":\"Circle\"},\"hover_glyph\":null,\"nonselection_glyph\":null,\"selection_glyph\":null},\"id\":\"0803f1f8-4d9b-40e2-b7d2-27014b6097a0\",\"type\":\"GlyphRenderer\"},{\"attributes\":{\"label\":{\"value\":\"96\"},\"renderers\":[{\"id\":\"1713c750-6bde-4418-81ed-db0d18e148f4\",\"type\":\"GlyphRenderer\"}]},\"id\":\"0a2749d9-9bec-4995-986c-1cb1f6de7d3a\",\"type\":\"LegendItem\"},{\"attributes\":{\"data_source\":{\"id\":\"acf758c2-86f9-49c8-8182-44cb5e55c027\",\"type\":\"ColumnDataSource\"},\"glyph\":{\"id\":\"86ffc2c2-3f7b-46a5-99f7-c6ca4f8820d7\",\"type\":\"Circle\"},\"hover_glyph\":null,\"nonselection_glyph\":null,\"selection_glyph\":null},\"id\":\"19698296-3685-4750-b3a5-90724482ae4b\",\"type\":\"GlyphRenderer\"},{\"attributes\":{\"data_source\":{\"id\":\"339f5c87-d4fb-4668-b3bb-a007b3747962\",\"type\":\"ColumnDataSource\"},\"glyph\":{\"id\":\"696516a0-59de-49c2-9d5f-b024dfa66aa2\",\"type\":\"Circle\"},\"hover_glyph\":null,\"nonselection_glyph\":null,\"selection_glyph\":null},\"id\":\"38a9ed5c-1545-46db-8b34-624c21c2433f\",\"type\":\"GlyphRenderer\"},{\"attributes\":{\"fill_alpha\":{\"value\":0.7},\"fill_color\":{\"value\":\"#f7b6d2\"},\"line_color\":{\"value\":\"#f7b6d2\"},\"size\":{\"units\":\"screen\",\"value\":8},\"x\":{\"field\":\"x_values\"},\"y\":{\"field\":\"y_values\"}},\"id\":\"c495f0d4-3a98-4da0-9b73-fdcd08ddc5b4\",\"type\":\"Circle\"},{\"attributes\":{\"label\":{\"value\":\"92\"},\"renderers\":[{\"id\":\"30024120-03c9-42f5-a47a-630adf4deb8c\",\"type\":\"GlyphRenderer\"}]},\"id\":\"394b89c0-b172-45bf-85d5-49ffd91c19ed\",\"type\":\"LegendItem\"},{\"attributes\":{\"label\":{\"value\":\"73\"},\"renderers\":[{\"id\":\"d5328ba2-6e15-4443-a91b-d388e73fb652\",\"type\":\"GlyphRenderer\"}]},\"id\":\"58a74cca-f978-4728-9c91-2a7bd616c1e0\",\"type\":\"LegendItem\"},{\"attributes\":{\"label\":{\"value\":\"37\"},\"renderers\":[{\"id\":\"38a9ed5c-1545-46db-8b34-624c21c2433f\",\"type\":\"GlyphRenderer\"}]},\"id\":\"85ca5550-fcec-41de-8673-e7f3ea3e61a4\",\"type\":\"LegendItem\"},{\"attributes\":{\"callback\":null,\"column_names\":[\"x_values\",\"y_values\"],\"data\":{\"chart_index\":[{\"clusterLabel\":23},{\"clusterLabel\":23},{\"clusterLabel\":23},{\"clusterLabel\":23},{\"clusterLabel\":23}],\"clusterLabel\":[23,23,23,23,23],\"x_values\":{\"__ndarray__\":\"swk3b7HcBsDuLIwK3DsEwIJahKdrvQXAHg2PEce1A8ApX1rMZ5MEwA==\",\"dtype\":\"float64\",\"shape\":[5]},\"y_values\":{\"__ndarray__\":\"hoR/i6G5GkB2vHzLTDAZQDrR+xc5GhpAeRqnBw+VGEBrO8jThiIaQA==\",\"dtype\":\"float64\",\"shape\":[5]}}},\"id\":\"e98d9529-0124-4244-9cb9-9eaa338014b0\",\"type\":\"ColumnDataSource\"},{\"attributes\":{\"data_source\":{\"id\":\"a0dda43a-ae29-427e-b753-743ab4a9ac98\",\"type\":\"ColumnDataSource\"},\"glyph\":{\"id\":\"82dc896b-fbdb-4dac-800c-cea7e6a93b8d\",\"type\":\"Circle\"},\"hover_glyph\":null,\"nonselection_glyph\":null,\"selection_glyph\":null},\"id\":\"d90abe6f-c448-4b97-8b71-16efb8574cea\",\"type\":\"GlyphRenderer\"},{\"attributes\":{\"fill_alpha\":{\"value\":0.7},\"fill_color\":{\"value\":\"#17becf\"},\"line_color\":{\"value\":\"#17becf\"},\"size\":{\"units\":\"screen\",\"value\":8},\"x\":{\"field\":\"x_values\"},\"y\":{\"field\":\"y_values\"}},\"id\":\"eae5da88-a23f-44b9-ab02-34fc1b2b31a2\",\"type\":\"Circle\"},{\"attributes\":{\"label\":{\"value\":\"105\"},\"renderers\":[{\"id\":\"825095e2-05ef-4a42-8ce4-7207ee936a31\",\"type\":\"GlyphRenderer\"}]},\"id\":\"cea625a6-d45f-4fc3-8db2-dcee78213d0d\",\"type\":\"LegendItem\"},{\"attributes\":{\"fill_alpha\":{\"value\":0.7},\"fill_color\":{\"value\":\"#dbdb8d\"},\"line_color\":{\"value\":\"#dbdb8d\"},\"size\":{\"units\":\"screen\",\"value\":8},\"x\":{\"field\":\"x_values\"},\"y\":{\"field\":\"y_values\"}},\"id\":\"08ee6010-2a65-46b5-b6df-4a011cde76ff\",\"type\":\"Circle\"},{\"attributes\":{\"label\":{\"value\":\"89\"},\"renderers\":[{\"id\":\"0171b620-a25b-40f6-ad45-c802414c1509\",\"type\":\"GlyphRenderer\"}]},\"id\":\"87e46092-e1bf-493d-af59-c7a2f027dcc2\",\"type\":\"LegendItem\"},{\"attributes\":{\"fill_alpha\":{\"value\":0.7},\"fill_color\":{\"value\":\"#e377c2\"},\"line_color\":{\"value\":\"#e377c2\"},\"size\":{\"units\":\"screen\",\"value\":8},\"x\":{\"field\":\"x_values\"},\"y\":{\"field\":\"y_values\"}},\"id\":\"2e2bfb1c-5a93-43ad-9eb2-909c5ca72a16\",\"type\":\"Circle\"},{\"attributes\":{\"callback\":null,\"column_names\":[\"x_values\",\"y_values\"],\"data\":{\"chart_index\":[{\"clusterLabel\":99},{\"clusterLabel\":99},{\"clusterLabel\":99},{\"clusterLabel\":99}],\"clusterLabel\":[99,99,99,99],\"x_values\":{\"__ndarray__\":\"K1bhE7sxBsAhT0b6EN4GwAJGZVbXhgbAoqXkE4OGB8A=\",\"dtype\":\"float64\",\"shape\":[4]},\"y_values\":{\"__ndarray__\":\"yI40sPH6KsAocbw4Ld0qwIyBlTqqFyrAI6pXWVKAK8A=\",\"dtype\":\"float64\",\"shape\":[4]}}},\"id\":\"eb8a91ae-e142-42e7-892c-967af0cb1b66\",\"type\":\"ColumnDataSource\"},{\"attributes\":{\"fill_alpha\":{\"value\":0.7},\"fill_color\":{\"value\":\"#aec7e8\"},\"line_color\":{\"value\":\"#aec7e8\"},\"size\":{\"units\":\"screen\",\"value\":8},\"x\":{\"field\":\"x_values\"},\"y\":{\"field\":\"y_values\"}},\"id\":\"1898b0e4-df35-4719-9c8e-fe9a1d3b8171\",\"type\":\"Circle\"},{\"attributes\":{\"callback\":null,\"column_names\":[\"x_values\",\"y_values\"],\"data\":{\"chart_index\":[{\"clusterLabel\":57},{\"clusterLabel\":57},{\"clusterLabel\":57},{\"clusterLabel\":57}],\"clusterLabel\":[57,57,57,57],\"x_values\":{\"__ndarray__\":\"qFC3pGBC4L8n4GeWnETRvzWNRnjGatS/0Z/mqGftyr8=\",\"dtype\":\"float64\",\"shape\":[4]},\"y_values\":{\"__ndarray__\":\"4We5ksjTA0CmkLSNWgUFQI09TlYH3QVA8Zb7oG/VA0A=\",\"dtype\":\"float64\",\"shape\":[4]}}},\"id\":\"6203b755-8614-481c-ac3a-8dd46c5058a8\",\"type\":\"ColumnDataSource\"},{\"attributes\":{\"label\":{\"value\":\"31\"},\"renderers\":[{\"id\":\"9894c58d-8563-43f3-903e-ce03f9c5daee\",\"type\":\"GlyphRenderer\"}]},\"id\":\"5559a2ce-5a4e-4212-802f-991aee4e1f93\",\"type\":\"LegendItem\"},{\"attributes\":{\"label\":{\"value\":\"0\"},\"renderers\":[{\"id\":\"c33a0c40-df07-4513-91d7-91d0c2a53c51\",\"type\":\"GlyphRenderer\"}]},\"id\":\"8309bde6-9e40-4fd4-96d4-78f3c6e8826e\",\"type\":\"LegendItem\"},{\"attributes\":{\"label\":{\"value\":\"53\"},\"renderers\":[{\"id\":\"862189c7-ff2a-4656-8889-b7807df118d0\",\"type\":\"GlyphRenderer\"}]},\"id\":\"c2a92d65-7ddc-43a5-ac08-4f4ba4eab5dc\",\"type\":\"LegendItem\"},{\"attributes\":{\"data_source\":{\"id\":\"3f9b2e3d-a18e-4dc5-a182-6f3f8bedd5ae\",\"type\":\"ColumnDataSource\"},\"glyph\":{\"id\":\"f2d7f0be-ff9c-4540-a93a-dcd60cf691c9\",\"type\":\"Circle\"},\"hover_glyph\":null,\"nonselection_glyph\":null,\"selection_glyph\":null},\"id\":\"ce55a96e-6279-4380-989f-62ee959476bc\",\"type\":\"GlyphRenderer\"},{\"attributes\":{\"data_source\":{\"id\":\"70592aa5-a4f5-48da-b138-b770b64b5663\",\"type\":\"ColumnDataSource\"},\"glyph\":{\"id\":\"4c4bb07a-9736-4dd4-9530-d5dd7f2a4147\",\"type\":\"Circle\"},\"hover_glyph\":null,\"nonselection_glyph\":null,\"selection_glyph\":null},\"id\":\"f69106bf-62f5-47d2-b614-4f4a3ffc166e\",\"type\":\"GlyphRenderer\"},{\"attributes\":{\"fill_alpha\":{\"value\":0.7},\"fill_color\":{\"value\":\"#9edae5\"},\"line_color\":{\"value\":\"#9edae5\"},\"size\":{\"units\":\"screen\",\"value\":8},\"x\":{\"field\":\"x_values\"},\"y\":{\"field\":\"y_values\"}},\"id\":\"64344ee5-34ce-4265-9e92-36d93783b196\",\"type\":\"Circle\"},{\"attributes\":{\"data_source\":{\"id\":\"47ea4855-4df1-45ea-a9e3-57a07e326e73\",\"type\":\"ColumnDataSource\"},\"glyph\":{\"id\":\"505b819b-2987-4783-86e4-cd9c604f53ab\",\"type\":\"Circle\"},\"hover_glyph\":null,\"nonselection_glyph\":null,\"selection_glyph\":null},\"id\":\"d5328ba2-6e15-4443-a91b-d388e73fb652\",\"type\":\"GlyphRenderer\"},{\"attributes\":{\"plot\":{\"id\":\"3e35d95a-dc3d-4892-841b-3df199efd437\",\"subtype\":\"Chart\",\"type\":\"Plot\"}},\"id\":\"2b8fdff0-6cd5-48e8-9bad-e46deaa732a0\",\"type\":\"ResetTool\"},{\"attributes\":{\"data_source\":{\"id\":\"1f373469-6ca6-43b5-96af-86057516ffb9\",\"type\":\"ColumnDataSource\"},\"glyph\":{\"id\":\"2269fa58-a30c-4ec3-b723-d351c7141d62\",\"type\":\"Circle\"},\"hover_glyph\":null,\"nonselection_glyph\":null,\"selection_glyph\":null},\"id\":\"862189c7-ff2a-4656-8889-b7807df118d0\",\"type\":\"GlyphRenderer\"},{\"attributes\":{\"fill_alpha\":{\"value\":0.7},\"fill_color\":{\"value\":\"#98df8a\"},\"line_color\":{\"value\":\"#98df8a\"},\"size\":{\"units\":\"screen\",\"value\":8},\"x\":{\"field\":\"x_values\"},\"y\":{\"field\":\"y_values\"}},\"id\":\"32436eb0-6bf9-49c6-b379-0670860ebe8d\",\"type\":\"Circle\"},{\"attributes\":{\"fill_alpha\":{\"value\":0.7},\"fill_color\":{\"value\":\"#2ca02c\"},\"line_color\":{\"value\":\"#2ca02c\"},\"size\":{\"units\":\"screen\",\"value\":8},\"x\":{\"field\":\"x_values\"},\"y\":{\"field\":\"y_values\"}},\"id\":\"7e83c256-4c24-4099-a193-856ab7784755\",\"type\":\"Circle\"},{\"attributes\":{\"fill_alpha\":{\"value\":0.7},\"fill_color\":{\"value\":\"#ff9896\"},\"line_color\":{\"value\":\"#ff9896\"},\"size\":{\"units\":\"screen\",\"value\":8},\"x\":{\"field\":\"x_values\"},\"y\":{\"field\":\"y_values\"}},\"id\":\"25ed1c30-9624-4fbc-97be-7fa3c55263a0\",\"type\":\"Circle\"},{\"attributes\":{\"axis_label\":\"y\",\"formatter\":{\"id\":\"708d6fd4-c517-42ec-ac9d-1d81014804bc\",\"type\":\"BasicTickFormatter\"},\"plot\":{\"id\":\"3e35d95a-dc3d-4892-841b-3df199efd437\",\"subtype\":\"Chart\",\"type\":\"Plot\"},\"ticker\":{\"id\":\"93a5de51-c5e2-4b29-a494-a0652a0c72a6\",\"type\":\"BasicTicker\"}},\"id\":\"1aa25282-ae00-46eb-90f3-de3f4f4086ec\",\"type\":\"LinearAxis\"},{\"attributes\":{\"data_source\":{\"id\":\"801b8a05-8283-4fed-9ec4-e49f54cf6425\",\"type\":\"ColumnDataSource\"},\"glyph\":{\"id\":\"6cde2ea9-0af4-4734-be9f-0966626b366a\",\"type\":\"Circle\"},\"hover_glyph\":null,\"nonselection_glyph\":null,\"selection_glyph\":null},\"id\":\"39a2c195-61ba-48cb-9a20-6e730136b8c7\",\"type\":\"GlyphRenderer\"},{\"attributes\":{\"data_source\":{\"id\":\"33d873e2-7956-4f09-9750-d1ecb5fd338b\",\"type\":\"ColumnDataSource\"},\"glyph\":{\"id\":\"3c7ca26e-c9a3-4adf-8584-589bc8acb24c\",\"type\":\"Circle\"},\"hover_glyph\":null,\"nonselection_glyph\":null,\"selection_glyph\":null},\"id\":\"599fb7e3-2517-41dc-80c1-bfa3b13b716d\",\"type\":\"GlyphRenderer\"},{\"attributes\":{\"label\":{\"value\":\"35\"},\"renderers\":[{\"id\":\"db6a0dbc-c70a-40ef-85b1-ab5b1e3152cf\",\"type\":\"GlyphRenderer\"}]},\"id\":\"496200ce-efc4-4238-b48a-7bd48f03de2d\",\"type\":\"LegendItem\"},{\"attributes\":{\"data_source\":{\"id\":\"43584cc1-e24e-4e08-b82e-e55ccf461c29\",\"type\":\"ColumnDataSource\"},\"glyph\":{\"id\":\"62ed5126-1141-4494-9f3c-7c49be32aff1\",\"type\":\"Circle\"},\"hover_glyph\":null,\"nonselection_glyph\":null,\"selection_glyph\":null},\"id\":\"ecd63b81-aa21-43de-b2c5-ec9eec00b78d\",\"type\":\"GlyphRenderer\"},{\"attributes\":{\"label\":{\"value\":\"47\"},\"renderers\":[{\"id\":\"e9183b13-5251-4000-b4ae-8a91982cffeb\",\"type\":\"GlyphRenderer\"}]},\"id\":\"6721e203-d194-437b-b7cd-488d857014ae\",\"type\":\"LegendItem\"},{\"attributes\":{\"fill_alpha\":{\"value\":0.7},\"fill_color\":{\"value\":\"#d62728\"},\"line_color\":{\"value\":\"#d62728\"},\"size\":{\"units\":\"screen\",\"value\":8},\"x\":{\"field\":\"x_values\"},\"y\":{\"field\":\"y_values\"}},\"id\":\"f384b2b8-9c89-4515-977f-e83118225942\",\"type\":\"Circle\"},{\"attributes\":{\"label\":{\"value\":\"-1\"},\"renderers\":[{\"id\":\"e3b35c75-5514-4f08-a1d6-cc1dcdbee644\",\"type\":\"GlyphRenderer\"}]},\"id\":\"5cbd675b-2b6b-4ae4-96d3-e056dce1ffd2\",\"type\":\"LegendItem\"},{\"attributes\":{\"label\":{\"value\":\"104\"},\"renderers\":[{\"id\":\"9b20e8c3-99a3-4913-a481-a00f0b43185a\",\"type\":\"GlyphRenderer\"}]},\"id\":\"c8e9f3ec-9ecc-4d40-af4f-b8b2244673cd\",\"type\":\"LegendItem\"},{\"attributes\":{\"label\":{\"value\":\"7\"},\"renderers\":[{\"id\":\"599fb7e3-2517-41dc-80c1-bfa3b13b716d\",\"type\":\"GlyphRenderer\"}]},\"id\":\"3b8f29e1-3456-4b0e-ab26-7a369789b989\",\"type\":\"LegendItem\"},{\"attributes\":{\"label\":{\"value\":\"120\"},\"renderers\":[{\"id\":\"3e63ae88-259a-4346-a8ed-951983faa36f\",\"type\":\"GlyphRenderer\"}]},\"id\":\"f3d33cd2-8c49-4e9d-95e4-3cf355d0a581\",\"type\":\"LegendItem\"},{\"attributes\":{\"callback\":null,\"column_names\":[\"x_values\",\"y_values\"],\"data\":{\"chart_index\":[{\"clusterLabel\":85},{\"clusterLabel\":85},{\"clusterLabel\":85},{\"clusterLabel\":85},{\"clusterLabel\":85},{\"clusterLabel\":85}],\"clusterLabel\":[85,85,85,85,85,85],\"x_values\":{\"__ndarray__\":\"tg9o0QWlNsBAxjxy3+s1wD0CSqctRTbA/m8Nq4MoNsDMjowhbV42wFQrkswS2zbA\",\"dtype\":\"float64\",\"shape\":[6]},\"y_values\":{\"__ndarray__\":\"9MHmhJCbJUAF6f3900glQG4goVGeRyVAHiCw2jIfJkAbldN0fFYmQDjnyqk57yVA\",\"dtype\":\"float64\",\"shape\":[6]}}},\"id\":\"1b76d127-0794-471a-bd57-b1e7b3edca50\",\"type\":\"ColumnDataSource\"},{\"attributes\":{\"fill_alpha\":{\"value\":0.7},\"fill_color\":{\"value\":\"#2ca02c\"},\"line_color\":{\"value\":\"#2ca02c\"},\"size\":{\"units\":\"screen\",\"value\":8},\"x\":{\"field\":\"x_values\"},\"y\":{\"field\":\"y_values\"}},\"id\":\"aaf89cef-f6b0-458c-b781-1f229a4eb8c3\",\"type\":\"Circle\"},{\"attributes\":{\"label\":{\"value\":\"46\"},\"renderers\":[{\"id\":\"f35d95a4-385c-4dcb-882e-8d1139645c14\",\"type\":\"GlyphRenderer\"}]},\"id\":\"76d51f29-9b02-46d3-b329-e483efb9ae53\",\"type\":\"LegendItem\"},{\"attributes\":{\"callback\":null,\"column_names\":[\"x_values\",\"y_values\"],\"data\":{\"chart_index\":[{\"clusterLabel\":55},{\"clusterLabel\":55},{\"clusterLabel\":55},{\"clusterLabel\":55}],\"clusterLabel\":[55,55,55,55],\"x_values\":{\"__ndarray__\":\"6VpdgC5F+T81ZsL5NiP2PzbvQXvG2fk/4IVsQFXf7T8=\",\"dtype\":\"float64\",\"shape\":[4]},\"y_values\":{\"__ndarray__\":\"cBbOP8ZgG0Coc9iK7IYbQOYy0uR35BxA+qOXIUtPG0A=\",\"dtype\":\"float64\",\"shape\":[4]}}},\"id\":\"ab081e00-9481-4d2a-b44b-d84a3633839d\",\"type\":\"ColumnDataSource\"},{\"attributes\":{\"callback\":null,\"column_names\":[\"x_values\",\"y_values\"],\"data\":{\"chart_index\":[{\"clusterLabel\":100},{\"clusterLabel\":100},{\"clusterLabel\":100},{\"clusterLabel\":100},{\"clusterLabel\":100},{\"clusterLabel\":100}],\"clusterLabel\":[100,100,100,100,100,100],\"x_values\":{\"__ndarray__\":\"uoabdQ57OMDf+0RIHr44wP77f4Z8DDnARlbeVDNWOMARB1JBJ+A4wLRvZJVZEDnA\",\"dtype\":\"float64\",\"shape\":[6]},\"y_values\":{\"__ndarray__\":\"1BlzRi7RIECOkfqN0V4gQMOIUd1Kuh5AXoboMaMsIUAiLvX05zogQMC8krpaaR9A\",\"dtype\":\"float64\",\"shape\":[6]}}},\"id\":\"09da2863-dd6e-4ed8-b6d0-0f49a82a3fd0\",\"type\":\"ColumnDataSource\"},{\"attributes\":{\"data_source\":{\"id\":\"c46e9e27-a228-4c00-9fc5-af487b1acda9\",\"type\":\"ColumnDataSource\"},\"glyph\":{\"id\":\"fb90a074-c706-48aa-b34a-cde9266e07e3\",\"type\":\"Circle\"},\"hover_glyph\":null,\"nonselection_glyph\":null,\"selection_glyph\":null},\"id\":\"b8392347-0a84-4f10-b7fc-f8871f5043d1\",\"type\":\"GlyphRenderer\"},{\"attributes\":{\"data_source\":{\"id\":\"7e46cc4f-8a0d-431d-aab9-b86c6c181311\",\"type\":\"ColumnDataSource\"},\"glyph\":{\"id\":\"dcf0631f-bb2d-4841-9f29-fe5e3cb57a52\",\"type\":\"Circle\"},\"hover_glyph\":null,\"nonselection_glyph\":null,\"selection_glyph\":null},\"id\":\"96b21da1-0654-4c0f-9a03-5f0b605b32fa\",\"type\":\"GlyphRenderer\"},{\"attributes\":{\"label\":{\"value\":\"72\"},\"renderers\":[{\"id\":\"65577a2f-ae57-4bce-a859-61b324d2741a\",\"type\":\"GlyphRenderer\"}]},\"id\":\"e2381ae0-c149-4077-9cc1-5ec8e23e0fe5\",\"type\":\"LegendItem\"},{\"attributes\":{\"label\":{\"value\":\"74\"},\"renderers\":[{\"id\":\"232bfa46-1a33-4341-bbe3-9786367f52bc\",\"type\":\"GlyphRenderer\"}]},\"id\":\"c2bbe966-88ed-4ebc-a974-bcc0e6021f24\",\"type\":\"LegendItem\"},{\"attributes\":{\"label\":{\"value\":\"110\"},\"renderers\":[{\"id\":\"17f60dd0-9542-400b-a696-2edb24ba2f82\",\"type\":\"GlyphRenderer\"}]},\"id\":\"4ea8ca47-8d9c-46fe-bc4c-285ad1b30ae4\",\"type\":\"LegendItem\"},{\"attributes\":{\"callback\":null,\"column_names\":[\"x_values\",\"y_values\"],\"data\":{\"chart_index\":[{\"clusterLabel\":65},{\"clusterLabel\":65},{\"clusterLabel\":65},{\"clusterLabel\":65},{\"clusterLabel\":65},{\"clusterLabel\":65},{\"clusterLabel\":65},{\"clusterLabel\":65},{\"clusterLabel\":65},{\"clusterLabel\":65},{\"clusterLabel\":65},{\"clusterLabel\":65}],\"clusterLabel\":[65,65,65,65,65,65,65,65,65,65,65,65],\"x_values\":{\"__ndarray__\":\"hW/InKgV8j8YPOdGlmjkP/ENoo7Sqfg/PDTNlGVU6D/M/fJBZ8voP2VoB7c+XOg/HOyeWD1s3j8tKA7nWn3wP75tlwAr7+c/FeZOwh4L4D8fG4eSmS/zP0eTqRDHpfI/\",\"dtype\":\"float64\",\"shape\":[12]},\"y_values\":{\"__ndarray__\":\"jtM62+gGBUCIzR7aJfwAQMUASwArBQNAQlyJkBf+BECNVj5XiAMKQInd1ER/LgFAUIJ7+Dhk+j+sGd2d2/gCQBH8LSEYoQpA6GKUu09SAECu2BflGdUDQCKvA9uC8AhA\",\"dtype\":\"float64\",\"shape\":[12]}}},\"id\":\"8dde2d9c-4042-426e-be84-7265f26b9eaf\",\"type\":\"ColumnDataSource\"},{\"attributes\":{\"label\":{\"value\":\"60\"},\"renderers\":[{\"id\":\"b40281f4-472b-4fec-bec9-174a4d0d9c60\",\"type\":\"GlyphRenderer\"}]},\"id\":\"bc99cc76-edbb-49a8-bc34-f8523a1f5061\",\"type\":\"LegendItem\"},{\"attributes\":{\"plot\":null,\"text\":\"HG002 DEL: DBSCAN labels\"},\"id\":\"77d72da1-b501-4acb-a05d-7f58c0e36087\",\"type\":\"Title\"},{\"attributes\":{\"fill_alpha\":{\"value\":0.7},\"fill_color\":{\"value\":\"#ffbb78\"},\"line_color\":{\"value\":\"#ffbb78\"},\"size\":{\"units\":\"screen\",\"value\":8},\"x\":{\"field\":\"x_values\"},\"y\":{\"field\":\"y_values\"}},\"id\":\"b8f571eb-858a-4f9c-acb0-9bdaf829a93b\",\"type\":\"Circle\"},{\"attributes\":{\"fill_alpha\":{\"value\":0.7},\"fill_color\":{\"value\":\"#ff7f0e\"},\"line_color\":{\"value\":\"#ff7f0e\"},\"size\":{\"units\":\"screen\",\"value\":8},\"x\":{\"field\":\"x_values\"},\"y\":{\"field\":\"y_values\"}},\"id\":\"53101b73-4fa7-44e8-a3c9-82a31fa4afef\",\"type\":\"Circle\"},{\"attributes\":{\"data_source\":{\"id\":\"971c1789-631d-4a35-89b4-cda7bb60fb20\",\"type\":\"ColumnDataSource\"},\"glyph\":{\"id\":\"8d2f3dba-7592-4ea5-be22-891414485300\",\"type\":\"Circle\"},\"hover_glyph\":null,\"nonselection_glyph\":null,\"selection_glyph\":null},\"id\":\"9a099e6a-74b2-4388-9f86-bd211646f130\",\"type\":\"GlyphRenderer\"},{\"attributes\":{\"callback\":null,\"column_names\":[\"x_values\",\"y_values\"],\"data\":{\"chart_index\":[{\"clusterLabel\":118},{\"clusterLabel\":118},{\"clusterLabel\":118},{\"clusterLabel\":118}],\"clusterLabel\":[118,118,118,118],\"x_values\":{\"__ndarray__\":\"vwwQKuAiMcChR0gt7LcxwLxjvZm1ZTHADe/1efG6McA=\",\"dtype\":\"float64\",\"shape\":[4]},\"y_values\":{\"__ndarray__\":\"VicQo5mOH0D1403wpFMgQNdX5an8eiBAym9PoyWoIEA=\",\"dtype\":\"float64\",\"shape\":[4]}}},\"id\":\"274db63f-6a37-42db-91b6-341c59ddba68\",\"type\":\"ColumnDataSource\"},{\"attributes\":{\"label\":{\"value\":\"94\"},\"renderers\":[{\"id\":\"a5a1ed46-d1f3-4634-8aec-d69ee7265817\",\"type\":\"GlyphRenderer\"}]},\"id\":\"2d823f51-4b0a-4c3f-8218-efb117770348\",\"type\":\"LegendItem\"},{\"attributes\":{\"fill_alpha\":{\"value\":0.7},\"fill_color\":{\"value\":\"#c7c7c7\"},\"line_color\":{\"value\":\"#c7c7c7\"},\"size\":{\"units\":\"screen\",\"value\":8},\"x\":{\"field\":\"x_values\"},\"y\":{\"field\":\"y_values\"}},\"id\":\"ea2dc0f0-5399-47c2-961f-bbea93118a34\",\"type\":\"Circle\"},{\"attributes\":{\"label\":{\"value\":\"34\"},\"renderers\":[{\"id\":\"f78b8cc2-be6e-425e-ab58-d0909ee65fe8\",\"type\":\"GlyphRenderer\"}]},\"id\":\"51b22d06-eb2c-40a7-8570-aa91bbec1448\",\"type\":\"LegendItem\"},{\"attributes\":{\"callback\":null,\"column_names\":[\"x_values\",\"y_values\"],\"data\":{\"chart_index\":[{\"clusterLabel\":12},{\"clusterLabel\":12},{\"clusterLabel\":12},{\"clusterLabel\":12},{\"clusterLabel\":12},{\"clusterLabel\":12},{\"clusterLabel\":12},{\"clusterLabel\":12}],\"clusterLabel\":[12,12,12,12,12,12,12,12],\"x_values\":{\"__ndarray__\":\"7C0RfueDMkD56dMrBNsyQIMfXqI9fTNAptvtv0LAMkBHbpvRxBgzQF3p9k3d8TJA7kbgFFHUMkDaFTsZQBgzQA==\",\"dtype\":\"float64\",\"shape\":[8]},\"y_values\":{\"__ndarray__\":\"uuoxiojbI0Ddd1bomWgkQAmKSFfUEiRAp74q/xcRI0AQb2r/gqEkQFdN6u3daiRArURGunw/JECPINmHuPsjQA==\",\"dtype\":\"float64\",\"shape\":[8]}}},\"id\":\"e08c1e9b-33cc-4c8b-93c5-be3ff6ed4627\",\"type\":\"ColumnDataSource\"},{\"attributes\":{\"fill_alpha\":{\"value\":0.7},\"fill_color\":{\"value\":\"#9467bd\"},\"line_color\":{\"value\":\"#9467bd\"},\"size\":{\"units\":\"screen\",\"value\":8},\"x\":{\"field\":\"x_values\"},\"y\":{\"field\":\"y_values\"}},\"id\":\"43522614-a485-4bc2-aa22-36e98df7c5af\",\"type\":\"Circle\"},{\"attributes\":{\"callback\":null,\"column_names\":[\"x_values\",\"y_values\"],\"data\":{\"chart_index\":[{\"clusterLabel\":119},{\"clusterLabel\":119},{\"clusterLabel\":119},{\"clusterLabel\":119}],\"clusterLabel\":[119,119,119,119],\"x_values\":{\"__ndarray__\":\"bBLnE7OIMsBsInxb+34ywK/f9GuYkTLApic1HgykMsA=\",\"dtype\":\"float64\",\"shape\":[4]},\"y_values\":{\"__ndarray__\":\"XzdmI8DEBsDOCfcwun0HwFLtxWY61AbAEMSOMazvBsA=\",\"dtype\":\"float64\",\"shape\":[4]}}},\"id\":\"0cab1d9d-41a7-40cd-b100-152bf7922aba\",\"type\":\"ColumnDataSource\"},{\"attributes\":{\"data_source\":{\"id\":\"ad801ef5-186a-4e53-bc51-605bb271add8\",\"type\":\"ColumnDataSource\"},\"glyph\":{\"id\":\"eae5da88-a23f-44b9-ab02-34fc1b2b31a2\",\"type\":\"Circle\"},\"hover_glyph\":null,\"nonselection_glyph\":null,\"selection_glyph\":null},\"id\":\"263f0c5b-add5-4c9c-864c-1028a0f160b8\",\"type\":\"GlyphRenderer\"},{\"attributes\":{\"callback\":null,\"column_names\":[\"x_values\",\"y_values\"],\"data\":{\"chart_index\":[{\"clusterLabel\":84},{\"clusterLabel\":84},{\"clusterLabel\":84},{\"clusterLabel\":84},{\"clusterLabel\":84},{\"clusterLabel\":84},{\"clusterLabel\":84}],\"clusterLabel\":[84,84,84,84,84,84,84],\"x_values\":{\"__ndarray__\":\"Vx1kfMrd4r8q7CcSnpzzv9k1QD/TXci/Ofhl6arJ7r/06APOHzqhPyLRJLsD2Ou/7fDkHTeF4b8=\",\"dtype\":\"float64\",\"shape\":[7]},\"y_values\":{\"__ndarray__\":\"fYk+3H5GLsC3zNFxNGsuwKeztz16/S3AbcxSMl/qLcApD9CK28gtwPls9mz+jS3A9trPio+MLcA=\",\"dtype\":\"float64\",\"shape\":[7]}}},\"id\":\"d6850fea-ee05-4895-a410-8150cdbf7920\",\"type\":\"ColumnDataSource\"},{\"attributes\":{\"data_source\":{\"id\":\"7cd4adea-c2df-45c0-b938-07740c308af8\",\"type\":\"ColumnDataSource\"},\"glyph\":{\"id\":\"ba6ac3f8-cd96-46b1-96aa-ccbcc47a9343\",\"type\":\"Circle\"},\"hover_glyph\":null,\"nonselection_glyph\":null,\"selection_glyph\":null},\"id\":\"276fa634-00fa-4a47-a4d4-c0a6c3048ed5\",\"type\":\"GlyphRenderer\"},{\"attributes\":{\"data_source\":{\"id\":\"eb8a91ae-e142-42e7-892c-967af0cb1b66\",\"type\":\"ColumnDataSource\"},\"glyph\":{\"id\":\"a07057bf-b50a-4434-9aef-b535593da113\",\"type\":\"Circle\"},\"hover_glyph\":null,\"nonselection_glyph\":null,\"selection_glyph\":null},\"id\":\"79134ac4-d987-454e-9820-a28aefda6723\",\"type\":\"GlyphRenderer\"},{\"attributes\":{\"data_source\":{\"id\":\"ab081e00-9481-4d2a-b44b-d84a3633839d\",\"type\":\"ColumnDataSource\"},\"glyph\":{\"id\":\"99bd598c-5284-4084-b552-5aba75ebaa05\",\"type\":\"Circle\"},\"hover_glyph\":null,\"nonselection_glyph\":null,\"selection_glyph\":null},\"id\":\"d804605f-a2dc-4928-9b41-2637822a0229\",\"type\":\"GlyphRenderer\"},{\"attributes\":{\"data_source\":{\"id\":\"8dde2d9c-4042-426e-be84-7265f26b9eaf\",\"type\":\"ColumnDataSource\"},\"glyph\":{\"id\":\"275b45c8-8a7e-4be8-a3ae-f3f165daeb8e\",\"type\":\"Circle\"},\"hover_glyph\":null,\"nonselection_glyph\":null,\"selection_glyph\":null},\"id\":\"cecc752f-1a76-43ad-bba8-78befbc36e34\",\"type\":\"GlyphRenderer\"},{\"attributes\":{\"fill_alpha\":{\"value\":0.7},\"fill_color\":{\"value\":\"#f7b6d2\"},\"line_color\":{\"value\":\"#f7b6d2\"},\"size\":{\"units\":\"screen\",\"value\":8},\"x\":{\"field\":\"x_values\"},\"y\":{\"field\":\"y_values\"}},\"id\":\"3fba7fad-2052-452e-8ac3-a1f9959ded48\",\"type\":\"Circle\"},{\"attributes\":{\"data_source\":{\"id\":\"4b13a6e3-82e7-4245-83b8-7f8e3e753116\",\"type\":\"ColumnDataSource\"},\"glyph\":{\"id\":\"3ff32315-d73a-48cb-98c0-664847d53550\",\"type\":\"Circle\"},\"hover_glyph\":null,\"nonselection_glyph\":null,\"selection_glyph\":null},\"id\":\"232bfa46-1a33-4341-bbe3-9786367f52bc\",\"type\":\"GlyphRenderer\"},{\"attributes\":{\"label\":{\"value\":\"79\"},\"renderers\":[{\"id\":\"4912e3f6-5af5-4aff-a6a8-08405f3308e5\",\"type\":\"GlyphRenderer\"}]},\"id\":\"de95a559-3da1-4dbb-96b1-e6d1783ea8fe\",\"type\":\"LegendItem\"},{\"attributes\":{\"label\":{\"value\":\"49\"},\"renderers\":[{\"id\":\"276fa634-00fa-4a47-a4d4-c0a6c3048ed5\",\"type\":\"GlyphRenderer\"}]},\"id\":\"a72d202b-27e6-4376-ab55-3ae7e6bf1fae\",\"type\":\"LegendItem\"},{\"attributes\":{\"callback\":null,\"column_names\":[\"x_values\",\"y_values\"],\"data\":{\"chart_index\":[{\"clusterLabel\":97},{\"clusterLabel\":97},{\"clusterLabel\":97},{\"clusterLabel\":97}],\"clusterLabel\":[97,97,97,97],\"x_values\":{\"__ndarray__\":\"IjcjSoFjL8AiNUoxow0vwF+Hy6aPIzDAqsDHK/63LsA=\",\"dtype\":\"float64\",\"shape\":[4]},\"y_values\":{\"__ndarray__\":\"y+W0SxtxFUCkRZzb+bETQPcZVqqPDRVAa6ZEoTpmFUA=\",\"dtype\":\"float64\",\"shape\":[4]}}},\"id\":\"045a41e9-3cae-4127-83e3-f53d43a09621\",\"type\":\"ColumnDataSource\"},{\"attributes\":{\"callback\":null,\"column_names\":[\"x_values\",\"y_values\"],\"data\":{\"chart_index\":[{\"clusterLabel\":41},{\"clusterLabel\":41},{\"clusterLabel\":41},{\"clusterLabel\":41},{\"clusterLabel\":41},{\"clusterLabel\":41},{\"clusterLabel\":41},{\"clusterLabel\":41},{\"clusterLabel\":41},{\"clusterLabel\":41}],\"clusterLabel\":[41,41,41,41,41,41,41,41,41,41],\"x_values\":{\"__ndarray__\":\"J/P2RlIQJsAGOvt3jFIlwBogGH2a7SbAoAY2WxZnJcBH5gV5YFQmwJHGMBdKIibAkc5l01ZsJsDsMwLcj7QmwAXsUKXEQiXASAVcM5y2JsA=\",\"dtype\":\"float64\",\"shape\":[10]},\"y_values\":{\"__ndarray__\":\"Ljd6Xy9cBcCErFWWE8MCwIC5r8+3EQLAr6ZfaltyBMBeBUCScDoFwNpKSn8t4fy/fDKRxAh7AMDDTOy+EYwEwA3GmVZ9BAXAYDyezZVi/b8=\",\"dtype\":\"float64\",\"shape\":[10]}}},\"id\":\"656a943f-f2ea-478d-b63a-c976f932cb8b\",\"type\":\"ColumnDataSource\"},{\"attributes\":{\"data_source\":{\"id\":\"09da2863-dd6e-4ed8-b6d0-0f49a82a3fd0\",\"type\":\"ColumnDataSource\"},\"glyph\":{\"id\":\"72b60b6f-a0f8-4a14-a60b-cb5d9a2a9490\",\"type\":\"Circle\"},\"hover_glyph\":null,\"nonselection_glyph\":null,\"selection_glyph\":null},\"id\":\"9fcd2433-f4a3-46c3-805d-afb7135d3672\",\"type\":\"GlyphRenderer\"},{\"attributes\":{\"label\":{\"value\":\"6\"},\"renderers\":[{\"id\":\"9a099e6a-74b2-4388-9f86-bd211646f130\",\"type\":\"GlyphRenderer\"}]},\"id\":\"5d60da1b-afe1-4add-accf-dd936b8c8df5\",\"type\":\"LegendItem\"},{\"attributes\":{\"label\":{\"value\":\"32\"},\"renderers\":[{\"id\":\"f484b507-7670-421b-a210-0f1749fea6f2\",\"type\":\"GlyphRenderer\"}]},\"id\":\"cab700f8-8ada-4800-a487-f26d3dce1127\",\"type\":\"LegendItem\"},{\"attributes\":{\"label\":{\"value\":\"27\"},\"renderers\":[{\"id\":\"f69106bf-62f5-47d2-b614-4f4a3ffc166e\",\"type\":\"GlyphRenderer\"}]},\"id\":\"8fa17855-09ab-4488-9be3-eb910f863688\",\"type\":\"LegendItem\"},{\"attributes\":{\"fill_alpha\":{\"value\":0.7},\"fill_color\":{\"value\":\"#bcbd22\"},\"line_color\":{\"value\":\"#bcbd22\"},\"size\":{\"units\":\"screen\",\"value\":8},\"x\":{\"field\":\"x_values\"},\"y\":{\"field\":\"y_values\"}},\"id\":\"3bbabd9c-6f28-4ed8-b19a-d43f24f09f1c\",\"type\":\"Circle\"},{\"attributes\":{\"label\":{\"value\":\"106\"},\"renderers\":[{\"id\":\"9af01257-b70b-4a42-a070-78987344295a\",\"type\":\"GlyphRenderer\"}]},\"id\":\"5b316b3c-7cc1-4156-a18d-bcf2f8090102\",\"type\":\"LegendItem\"},{\"attributes\":{\"data_source\":{\"id\":\"a83946ca-affe-40d7-a595-f93bc1c064f9\",\"type\":\"ColumnDataSource\"},\"glyph\":{\"id\":\"3498678d-68ed-4e08-b55f-f16c63d84ede\",\"type\":\"Circle\"},\"hover_glyph\":null,\"nonselection_glyph\":null,\"selection_glyph\":null},\"id\":\"3ed9563d-65c1-469f-85cc-26b184cb386f\",\"type\":\"GlyphRenderer\"},{\"attributes\":{\"data_source\":{\"id\":\"8ef6fc1c-92e8-483d-b44b-3f229d90bea4\",\"type\":\"ColumnDataSource\"},\"glyph\":{\"id\":\"7e83c256-4c24-4099-a193-856ab7784755\",\"type\":\"Circle\"},\"hover_glyph\":null,\"nonselection_glyph\":null,\"selection_glyph\":null},\"id\":\"b51cf743-a18a-4d6c-b084-001eb0598722\",\"type\":\"GlyphRenderer\"},{\"attributes\":{\"fill_alpha\":{\"value\":0.7},\"fill_color\":{\"value\":\"#c7c7c7\"},\"line_color\":{\"value\":\"#c7c7c7\"},\"size\":{\"units\":\"screen\",\"value\":8},\"x\":{\"field\":\"x_values\"},\"y\":{\"field\":\"y_values\"}},\"id\":\"68a941d7-fa76-4a87-adac-864c95d74ca7\",\"type\":\"Circle\"},{\"attributes\":{\"data_source\":{\"id\":\"1b76d127-0794-471a-bd57-b1e7b3edca50\",\"type\":\"ColumnDataSource\"},\"glyph\":{\"id\":\"700ccf92-6cec-47f8-a363-69d3e6bcf7d6\",\"type\":\"Circle\"},\"hover_glyph\":null,\"nonselection_glyph\":null,\"selection_glyph\":null},\"id\":\"056db439-101b-4531-9a8b-18590adb1fa6\",\"type\":\"GlyphRenderer\"},{\"attributes\":{\"label\":{\"value\":\"64\"},\"renderers\":[{\"id\":\"bbe8c007-cf60-420a-9ed1-e9c4fc3c2bb9\",\"type\":\"GlyphRenderer\"}]},\"id\":\"9bacbf2c-3da1-4c93-80c8-2cc45b3f3565\",\"type\":\"LegendItem\"},{\"attributes\":{\"data_source\":{\"id\":\"17651968-00c8-4a0b-bd78-d5cfd5511839\",\"type\":\"ColumnDataSource\"},\"glyph\":{\"id\":\"5478f207-baa2-42e7-801f-6190567ebb92\",\"type\":\"Circle\"},\"hover_glyph\":null,\"nonselection_glyph\":null,\"selection_glyph\":null},\"id\":\"2bd25ecd-3306-4486-8764-e6a90e897794\",\"type\":\"GlyphRenderer\"},{\"attributes\":{\"data_source\":{\"id\":\"656a943f-f2ea-478d-b63a-c976f932cb8b\",\"type\":\"ColumnDataSource\"},\"glyph\":{\"id\":\"26f9b898-a2fc-4158-9e3e-706e7ec82ec6\",\"type\":\"Circle\"},\"hover_glyph\":null,\"nonselection_glyph\":null,\"selection_glyph\":null},\"id\":\"91d2f082-0f40-4f7d-9a9b-f6eb947169ec\",\"type\":\"GlyphRenderer\"},{\"attributes\":{\"label\":{\"value\":\"68\"},\"renderers\":[{\"id\":\"0aec8862-0332-4bf9-8fa9-961158df1943\",\"type\":\"GlyphRenderer\"}]},\"id\":\"f0741f7f-bb8b-4c14-ad6a-7cb368779b07\",\"type\":\"LegendItem\"},{\"attributes\":{\"fill_alpha\":{\"value\":0.7},\"fill_color\":{\"value\":\"#ffbb78\"},\"line_color\":{\"value\":\"#ffbb78\"},\"size\":{\"units\":\"screen\",\"value\":8},\"x\":{\"field\":\"x_values\"},\"y\":{\"field\":\"y_values\"}},\"id\":\"b9fac0d9-c53f-4ec9-8d83-42a5fc851779\",\"type\":\"Circle\"},{\"attributes\":{\"data_source\":{\"id\":\"5944d04f-33a9-4267-9598-77ca5dae8911\",\"type\":\"ColumnDataSource\"},\"glyph\":{\"id\":\"1898b0e4-df35-4719-9c8e-fe9a1d3b8171\",\"type\":\"Circle\"},\"hover_glyph\":null,\"nonselection_glyph\":null,\"selection_glyph\":null},\"id\":\"cae29ba1-9aef-4ba0-b358-cb76a2df6eee\",\"type\":\"GlyphRenderer\"},{\"attributes\":{\"fill_alpha\":{\"value\":0.7},\"fill_color\":{\"value\":\"#ff7f0e\"},\"line_color\":{\"value\":\"#ff7f0e\"},\"size\":{\"units\":\"screen\",\"value\":8},\"x\":{\"field\":\"x_values\"},\"y\":{\"field\":\"y_values\"}},\"id\":\"26f9b898-a2fc-4158-9e3e-706e7ec82ec6\",\"type\":\"Circle\"},{\"attributes\":{\"data_source\":{\"id\":\"48db747a-2e1d-43a4-8c92-e76b7edb7327\",\"type\":\"ColumnDataSource\"},\"glyph\":{\"id\":\"2e2bfb1c-5a93-43ad-9eb2-909c5ca72a16\",\"type\":\"Circle\"},\"hover_glyph\":null,\"nonselection_glyph\":null,\"selection_glyph\":null},\"id\":\"62423918-aac5-4e88-a781-327c6e7114b8\",\"type\":\"GlyphRenderer\"},{\"attributes\":{\"label\":{\"value\":\"111\"},\"renderers\":[{\"id\":\"08a3f9ac-3580-4214-a867-1d52202489c0\",\"type\":\"GlyphRenderer\"}]},\"id\":\"cc2c2cfe-3adc-4fe3-9c8c-2847bcd3098b\",\"type\":\"LegendItem\"},{\"attributes\":{\"fill_alpha\":{\"value\":0.7},\"fill_color\":{\"value\":\"#8c564b\"},\"line_color\":{\"value\":\"#8c564b\"},\"size\":{\"units\":\"screen\",\"value\":8},\"x\":{\"field\":\"x_values\"},\"y\":{\"field\":\"y_values\"}},\"id\":\"d1ed185b-a254-4c82-a9de-5f417e1c279c\",\"type\":\"Circle\"},{\"attributes\":{\"callback\":null,\"column_names\":[\"x_values\",\"y_values\"],\"data\":{\"chart_index\":[{\"clusterLabel\":47},{\"clusterLabel\":47},{\"clusterLabel\":47},{\"clusterLabel\":47},{\"clusterLabel\":47},{\"clusterLabel\":47}],\"clusterLabel\":[47,47,47,47,47,47],\"x_values\":{\"__ndarray__\":\"P56HKZv3I8DvHek/IVAkwHkyIsSApiTAYkOYJt/cJMDRJioGG9kjwE9qGiRJkSTA\",\"dtype\":\"float64\",\"shape\":[6]},\"y_values\":{\"__ndarray__\":\"u4hp7WAqGcDHl4bnTq8YwF3OqUGxnBjA+bn56IqrFsAtGCL6h4wZwBQQHw2RUxjA\",\"dtype\":\"float64\",\"shape\":[6]}}},\"id\":\"a28e234f-a7f8-47b3-a62a-13806dfcd7b2\",\"type\":\"ColumnDataSource\"},{\"attributes\":{\"callback\":null,\"column_names\":[\"x_values\",\"y_values\"],\"data\":{\"chart_index\":[{\"clusterLabel\":61},{\"clusterLabel\":61},{\"clusterLabel\":61},{\"clusterLabel\":61},{\"clusterLabel\":61},{\"clusterLabel\":61},{\"clusterLabel\":61},{\"clusterLabel\":61},{\"clusterLabel\":61},{\"clusterLabel\":61},{\"clusterLabel\":61},{\"clusterLabel\":61},{\"clusterLabel\":61},{\"clusterLabel\":61},{\"clusterLabel\":61},{\"clusterLabel\":61},{\"clusterLabel\":61},{\"clusterLabel\":61},{\"clusterLabel\":61},{\"clusterLabel\":61}],\"clusterLabel\":[61,61,61,61,61,61,61,61,61,61,61,61,61,61,61,61,61,61,61,61],\"x_values\":{\"__ndarray__\":\"A2NaN76xwb8vgLhU5Wvqv8dGDm6SC9Y/YdScTZG/xT8a7kZJVE3Nv1g8GG7n9sU/GMXIxds7sr91EJnyWAThv8V3o212TJM/oOiyC8NXXT8CfbRhckjxvwNLgnwvUua/XvJOiWdsoj83UJyi39+5v0iMCyowx+i/ADieuRK7vz+62JLkD+3wv/RGiAwzYde/YjlcCz3y3L9BMNisdaTsvw==\",\"dtype\":\"float64\",\"shape\":[20]},\"y_values\":{\"__ndarray__\":\"pzYucoB3s7/cf62/b7mSv94PHkUCVdY/NdEhAFiG1D+Wr2TZUd7GP3WWz1iuXeY/qoWp8UwB2D8wVR950QzIPyxZv52Vc+k/x2a45Pez6T+ZeNowSvLVvx7RQrY4TtK/eSbc3/8+5T9wzhxgjXXoP3NZf72xgMa/S5PxLBtDzj/skBeWj9i5vwj9y4HHmsw//V/3Uz8doj/yb8g7DvfCvw==\",\"dtype\":\"float64\",\"shape\":[20]}}},\"id\":\"30e2af02-5469-46f8-9da2-c1a31c53977e\",\"type\":\"ColumnDataSource\"},{\"attributes\":{\"fill_alpha\":{\"value\":0.7},\"fill_color\":{\"value\":\"#2ca02c\"},\"line_color\":{\"value\":\"#2ca02c\"},\"size\":{\"units\":\"screen\",\"value\":8},\"x\":{\"field\":\"x_values\"},\"y\":{\"field\":\"y_values\"}},\"id\":\"b32a14c4-fae5-4a45-8a60-b662dba0e07c\",\"type\":\"Circle\"},{\"attributes\":{\"data_source\":{\"id\":\"fc23cf09-1caa-4fb5-9300-ec86eb45b0f0\",\"type\":\"ColumnDataSource\"},\"glyph\":{\"id\":\"3bbabd9c-6f28-4ed8-b19a-d43f24f09f1c\",\"type\":\"Circle\"},\"hover_glyph\":null,\"nonselection_glyph\":null,\"selection_glyph\":null},\"id\":\"213393b1-29c1-41ba-8498-e65ada4c77d1\",\"type\":\"GlyphRenderer\"},{\"attributes\":{\"fill_alpha\":{\"value\":0.7},\"fill_color\":{\"value\":\"#17becf\"},\"line_color\":{\"value\":\"#17becf\"},\"size\":{\"units\":\"screen\",\"value\":8},\"x\":{\"field\":\"x_values\"},\"y\":{\"field\":\"y_values\"}},\"id\":\"cd146245-c4eb-4a7e-8b79-f207347992bf\",\"type\":\"Circle\"},{\"attributes\":{\"callback\":null,\"column_names\":[\"x_values\",\"y_values\"],\"data\":{\"chart_index\":[{\"clusterLabel\":115},{\"clusterLabel\":115},{\"clusterLabel\":115}],\"clusterLabel\":[115,115,115],\"x_values\":{\"__ndarray__\":\"8pl0j4T4McCVqZw5mDsywI3Tp/Vd7DHA\",\"dtype\":\"float64\",\"shape\":[3]},\"y_values\":{\"__ndarray__\":\"nl1vrIl9GEDS8KS1HjMYQBLGyQ+6GxhA\",\"dtype\":\"float64\",\"shape\":[3]}}},\"id\":\"d002a2b6-60eb-4e40-a188-60864e8ad356\",\"type\":\"ColumnDataSource\"},{\"attributes\":{\"fill_alpha\":{\"value\":0.7},\"fill_color\":{\"value\":\"#c5b0d5\"},\"line_color\":{\"value\":\"#c5b0d5\"},\"size\":{\"units\":\"screen\",\"value\":8},\"x\":{\"field\":\"x_values\"},\"y\":{\"field\":\"y_values\"}},\"id\":\"497cb355-7f33-409a-b61f-e1dbf0b7f760\",\"type\":\"Circle\"},{\"attributes\":{\"callback\":null,\"column_names\":[\"x_values\",\"y_values\"],\"data\":{\"chart_index\":[{\"clusterLabel\":54},{\"clusterLabel\":54},{\"clusterLabel\":54},{\"clusterLabel\":54}],\"clusterLabel\":[54,54,54,54],\"x_values\":{\"__ndarray__\":\"Iv1BLtITGMB4TT69lrgWwK0HI/m2xRbA0RLjKJtzGMA=\",\"dtype\":\"float64\",\"shape\":[4]},\"y_values\":{\"__ndarray__\":\"iZIa1Gp+HcBaPr48SoofwAV7aRX1NB7A8kkJdpo4HcA=\",\"dtype\":\"float64\",\"shape\":[4]}}},\"id\":\"46fa3a41-b1b8-4676-9d10-cd401d9bc61d\",\"type\":\"ColumnDataSource\"},{\"attributes\":{\"data_source\":{\"id\":\"6204e07f-bc0e-46d1-8083-fa9addee82df\",\"type\":\"ColumnDataSource\"},\"glyph\":{\"id\":\"43205a43-1fe2-40da-9585-3c36f40a0e56\",\"type\":\"Circle\"},\"hover_glyph\":null,\"nonselection_glyph\":null,\"selection_glyph\":null},\"id\":\"2794b0f5-bb57-49cd-932a-518d81bdca3c\",\"type\":\"GlyphRenderer\"},{\"attributes\":{\"callback\":null,\"column_names\":[\"x_values\",\"y_values\"],\"data\":{\"chart_index\":[{\"clusterLabel\":51},{\"clusterLabel\":51},{\"clusterLabel\":51},{\"clusterLabel\":51}],\"clusterLabel\":[51,51,51,51],\"x_values\":{\"__ndarray__\":\"GtncatZSK0D3cVnAdQwrQBVj2iJfhCpAo5uRBwn/KkA=\",\"dtype\":\"float64\",\"shape\":[4]},\"y_values\":{\"__ndarray__\":\"b8FH0D/7IkAXhsLk55wiQMngVHyXDCJAIj2ocPMwI0A=\",\"dtype\":\"float64\",\"shape\":[4]}}},\"id\":\"54c15f29-c31b-40f5-8b23-93031b4e5168\",\"type\":\"ColumnDataSource\"},{\"attributes\":{\"label\":{\"value\":\"58\"},\"renderers\":[{\"id\":\"b8392347-0a84-4f10-b7fc-f8871f5043d1\",\"type\":\"GlyphRenderer\"}]},\"id\":\"686525a2-d15a-436e-b9a4-100e6278d4c3\",\"type\":\"LegendItem\"},{\"attributes\":{\"data_source\":{\"id\":\"7353fc81-947e-401f-8e44-a38b2d84670d\",\"type\":\"ColumnDataSource\"},\"glyph\":{\"id\":\"8f26b1e7-be14-48e0-a426-2eb92d34b6e5\",\"type\":\"Circle\"},\"hover_glyph\":null,\"nonselection_glyph\":null,\"selection_glyph\":null},\"id\":\"6065146a-9ce3-4c34-941f-2ba379d87f5d\",\"type\":\"GlyphRenderer\"},{\"attributes\":{\"active_drag\":\"auto\",\"active_scroll\":\"auto\",\"active_tap\":\"auto\",\"tools\":[{\"id\":\"bb0e158a-7a79-4c26-911d-57162aa9c0c0\",\"type\":\"BoxZoomTool\"},{\"id\":\"95cf66bd-5289-4a4a-9bd3-5ea73c93ab2f\",\"type\":\"PanTool\"},{\"id\":\"c5679660-26b8-4e44-9344-972b414dec8b\",\"type\":\"SaveTool\"},{\"id\":\"040320d7-35d2-4a6c-8225-2f7a94080adc\",\"type\":\"HoverTool\"},{\"id\":\"298b7eef-1839-44ab-8a49-95f0c5024ccc\",\"type\":\"ResizeTool\"},{\"id\":\"2b8fdff0-6cd5-48e8-9bad-e46deaa732a0\",\"type\":\"ResetTool\"},{\"id\":\"ecc2443d-d52e-42ed-9da4-4d90c179a877\",\"type\":\"TapTool\"},{\"id\":\"59a3be4c-a82f-4f8e-853b-bb2819e2d802\",\"type\":\"WheelZoomTool\"}]},\"id\":\"76395f4c-5b00-41b3-8b1f-c194ea3b2aee\",\"type\":\"Toolbar\"},{\"attributes\":{\"label\":{\"value\":\"15\"},\"renderers\":[{\"id\":\"213393b1-29c1-41ba-8498-e65ada4c77d1\",\"type\":\"GlyphRenderer\"}]},\"id\":\"a0413fdf-ca2e-4578-8c82-06ff754ff58f\",\"type\":\"LegendItem\"},{\"attributes\":{\"data_source\":{\"id\":\"9a70f095-6520-4a5a-9386-ef51829c59e9\",\"type\":\"ColumnDataSource\"},\"glyph\":{\"id\":\"0b5b4343-6725-4331-95fe-5ae92e533a43\",\"type\":\"Circle\"},\"hover_glyph\":null,\"nonselection_glyph\":null,\"selection_glyph\":null},\"id\":\"4912e3f6-5af5-4aff-a6a8-08405f3308e5\",\"type\":\"GlyphRenderer\"},{\"attributes\":{\"callback\":null,\"column_names\":[\"x_values\",\"y_values\"],\"data\":{\"chart_index\":[{\"clusterLabel\":8},{\"clusterLabel\":8},{\"clusterLabel\":8},{\"clusterLabel\":8},{\"clusterLabel\":8},{\"clusterLabel\":8},{\"clusterLabel\":8}],\"clusterLabel\":[8,8,8,8,8,8,8],\"x_values\":{\"__ndarray__\":\"DQjhmXWoNkD1DrrFFeg2QPylyO7uKDdAHdoURTJ3N0AjN9z80W03QIqW0rTBHjdApmJ7N9OjN0A=\",\"dtype\":\"float64\",\"shape\":[7]},\"y_values\":{\"__ndarray__\":\"/OxMJZbwHEDySYtGeQccQP572Rc4zxxAy1MNNmhaHkCIr1RoUzocQBirybNdDxtAtiYV33htHEA=\",\"dtype\":\"float64\",\"shape\":[7]}}},\"id\":\"b7978dee-d983-449a-8a98-e3ff389a205a\",\"type\":\"ColumnDataSource\"},{\"attributes\":{\"fill_alpha\":{\"value\":0.7},\"fill_color\":{\"value\":\"#17becf\"},\"line_color\":{\"value\":\"#17becf\"},\"size\":{\"units\":\"screen\",\"value\":8},\"x\":{\"field\":\"x_values\"},\"y\":{\"field\":\"y_values\"}},\"id\":\"696516a0-59de-49c2-9d5f-b024dfa66aa2\",\"type\":\"Circle\"},{\"attributes\":{\"fill_alpha\":{\"value\":0.7},\"fill_color\":{\"value\":\"#1f77b4\"},\"line_color\":{\"value\":\"#1f77b4\"},\"size\":{\"units\":\"screen\",\"value\":8},\"x\":{\"field\":\"x_values\"},\"y\":{\"field\":\"y_values\"}},\"id\":\"bbe619ed-a54d-4e53-a254-cecee771edb5\",\"type\":\"Circle\"},{\"attributes\":{\"callback\":null,\"column_names\":[\"x_values\",\"y_values\"],\"data\":{\"chart_index\":[{\"clusterLabel\":76},{\"clusterLabel\":76},{\"clusterLabel\":76},{\"clusterLabel\":76},{\"clusterLabel\":76}],\"clusterLabel\":[76,76,76,76,76],\"x_values\":{\"__ndarray__\":\"rWTco0goK8D2lZ89AQErwHQocRWYuyvAyno9RibSK8BAcT+y/skswA==\",\"dtype\":\"float64\",\"shape\":[5]},\"y_values\":{\"__ndarray__\":\"LuuGZCuaHECWkSSAm7QaQOxfvulWZBtAW9A8VX5hG0AX1zocmr8bQA==\",\"dtype\":\"float64\",\"shape\":[5]}}},\"id\":\"e1bde2b8-3ee0-4f33-9e18-dcbfa5b204af\",\"type\":\"ColumnDataSource\"},{\"attributes\":{\"data_source\":{\"id\":\"4fc28858-199f-467e-87d6-d21ac30b2d48\",\"type\":\"ColumnDataSource\"},\"glyph\":{\"id\":\"9d0fc6d3-b6e0-41ad-9bb9-fcb558800cfe\",\"type\":\"Circle\"},\"hover_glyph\":null,\"nonselection_glyph\":null,\"selection_glyph\":null},\"id\":\"2775c533-affb-411e-8c75-5cfe2802ec88\",\"type\":\"GlyphRenderer\"},{\"attributes\":{\"callback\":null,\"column_names\":[\"x_values\",\"y_values\"],\"data\":{\"chart_index\":[{\"clusterLabel\":34},{\"clusterLabel\":34},{\"clusterLabel\":34},{\"clusterLabel\":34},{\"clusterLabel\":34},{\"clusterLabel\":34},{\"clusterLabel\":34},{\"clusterLabel\":34}],\"clusterLabel\":[34,34,34,34,34,34,34,34],\"x_values\":{\"__ndarray__\":\"v+ntDGHiMECvBKkOcocwQC0lq+PbYjFAjvm6YoBLMUBA5orxuJAwQOPIyXW9QDBAIsok4oPLMEA/qB2hh+MwQA==\",\"dtype\":\"float64\",\"shape\":[8]},\"y_values\":{\"__ndarray__\":\"6Mdz/ZgpBMD1+vozBOILwJBJX1aDDgrAi9TcQ56/A8CyfVU+eR4GwJFouaThqgXAe+rwW95cB8BGEv4zcBkKwA==\",\"dtype\":\"float64\",\"shape\":[8]}}},\"id\":\"68db1b42-60af-4fc6-8da2-3d82ff41f17a\",\"type\":\"ColumnDataSource\"},{\"attributes\":{\"data_source\":{\"id\":\"96d950ee-fa83-4a6d-ae8f-df26f1ac65f2\",\"type\":\"ColumnDataSource\"},\"glyph\":{\"id\":\"cb6c07fc-8114-4e4d-8783-2840456dbc0b\",\"type\":\"Circle\"},\"hover_glyph\":null,\"nonselection_glyph\":null,\"selection_glyph\":null},\"id\":\"ee66d8e8-4661-4578-997c-43b916ee07a7\",\"type\":\"GlyphRenderer\"},{\"attributes\":{\"callback\":null,\"column_names\":[\"x_values\",\"y_values\"],\"data\":{\"chart_index\":[{\"clusterLabel\":88},{\"clusterLabel\":88},{\"clusterLabel\":88}],\"clusterLabel\":[88,88,88],\"x_values\":{\"__ndarray__\":\"GcAJR43QNMAuXpClCpg0wPLsUJuy8jTA\",\"dtype\":\"float64\",\"shape\":[3]},\"y_values\":{\"__ndarray__\":\"VqM5N60YFEAQNYU1VCgTQKmQYjcnGBNA\",\"dtype\":\"float64\",\"shape\":[3]}}},\"id\":\"ad3ef5a5-fe1f-4ba7-b81e-ab311ee1b910\",\"type\":\"ColumnDataSource\"},{\"attributes\":{\"label\":{\"value\":\"69\"},\"renderers\":[{\"id\":\"cf6de2a2-6cf1-46c1-9a8d-cef066f77c03\",\"type\":\"GlyphRenderer\"}]},\"id\":\"3b3d8237-8a98-4be3-ae9e-5c5a3167cde2\",\"type\":\"LegendItem\"},{\"attributes\":{\"fill_alpha\":{\"value\":0.7},\"fill_color\":{\"value\":\"#c5b0d5\"},\"line_color\":{\"value\":\"#c5b0d5\"},\"size\":{\"units\":\"screen\",\"value\":8},\"x\":{\"field\":\"x_values\"},\"y\":{\"field\":\"y_values\"}},\"id\":\"64f73210-27cc-4b8c-bdbe-55b8263c98b1\",\"type\":\"Circle\"},{\"attributes\":{\"callback\":null,\"column_names\":[\"x_values\",\"y_values\"],\"data\":{\"chart_index\":[{\"clusterLabel\":6},{\"clusterLabel\":6},{\"clusterLabel\":6},{\"clusterLabel\":6},{\"clusterLabel\":6},{\"clusterLabel\":6},{\"clusterLabel\":6},{\"clusterLabel\":6}],\"clusterLabel\":[6,6,6,6,6,6,6,6],\"x_values\":{\"__ndarray__\":\"aCW9PVuXMEBVC6G8wWMxQF7r7OlFMDFAHgp8RUclMUAz2LT0ZQAxQNM7eJ2DDTFAl1ePo05LMUDz8t4jKmcxQA==\",\"dtype\":\"float64\",\"shape\":[8]},\"y_values\":{\"__ndarray__\":\"vC7YF9YXFcDrDJNibiwUwFdfS7io6RXACAq79qi9FsDqcu742NsUwLSQlDzCdBfAjgX/gru+FcDA1KyUGywTwA==\",\"dtype\":\"float64\",\"shape\":[8]}}},\"id\":\"971c1789-631d-4a35-89b4-cda7bb60fb20\",\"type\":\"ColumnDataSource\"},{\"attributes\":{\"data_source\":{\"id\":\"79f1ad03-c350-4b4c-b2c9-0bccf895f29f\",\"type\":\"ColumnDataSource\"},\"glyph\":{\"id\":\"6f4420d7-f556-4432-9c4b-d4e46eea2390\",\"type\":\"Circle\"},\"hover_glyph\":null,\"nonselection_glyph\":null,\"selection_glyph\":null},\"id\":\"3f2a71c5-ce04-42ef-9aeb-9a6c0cbada32\",\"type\":\"GlyphRenderer\"},{\"attributes\":{\"label\":{\"value\":\"13\"},\"renderers\":[{\"id\":\"1923b949-7ae1-4ddf-bf67-940c15c09c85\",\"type\":\"GlyphRenderer\"}]},\"id\":\"1265a11f-ec52-4fbf-8d87-5cd43067f5dc\",\"type\":\"LegendItem\"},{\"attributes\":{\"label\":{\"value\":\"61\"},\"renderers\":[{\"id\":\"086d72c5-5d25-46b4-9625-d9a8816fa8ee\",\"type\":\"GlyphRenderer\"}]},\"id\":\"8e4f6d71-caf9-4526-ad7c-a056ad24f63a\",\"type\":\"LegendItem\"},{\"attributes\":{\"callback\":null,\"column_names\":[\"x_values\",\"y_values\"],\"data\":{\"chart_index\":[{\"clusterLabel\":29},{\"clusterLabel\":29},{\"clusterLabel\":29},{\"clusterLabel\":29},{\"clusterLabel\":29},{\"clusterLabel\":29},{\"clusterLabel\":29},{\"clusterLabel\":29}],\"clusterLabel\":[29,29,29,29,29,29,29,29],\"x_values\":{\"__ndarray__\":\"ylgQqZae9b89u/sp9FL7v8jdLvQt4/2/rSgUf5ttA8DGcTH2CVn4v+WyZYLpigHAsAxAeH20/7/NzPuFTPcAwA==\",\"dtype\":\"float64\",\"shape\":[8]},\"y_values\":{\"__ndarray__\":\"MRhGSvkKIED8RBdt+EkeQM+8krcUVx9A64Lc2diGHEBJHldZ3fkeQJT9wN4q3xxAMMyA9lW5HUDSak8DCYIbQA==\",\"dtype\":\"float64\",\"shape\":[8]}}},\"id\":\"034cb6b8-c35a-4f6f-b0aa-2a9e86462a72\",\"type\":\"ColumnDataSource\"},{\"attributes\":{\"label\":{\"value\":\"25\"},\"renderers\":[{\"id\":\"c0c4a055-f952-49d6-a30f-c82d419645f2\",\"type\":\"GlyphRenderer\"}]},\"id\":\"af6f5c7d-04df-41f2-8282-a0a13716dced\",\"type\":\"LegendItem\"},{\"attributes\":{\"label\":{\"value\":\"119\"},\"renderers\":[{\"id\":\"a8185fc5-2b4e-4b03-b43c-b507af357947\",\"type\":\"GlyphRenderer\"}]},\"id\":\"92047b83-5cca-4eb4-99f6-d92a567ddbc1\",\"type\":\"LegendItem\"},{\"attributes\":{\"callback\":null,\"column_names\":[\"x_values\",\"y_values\"],\"data\":{\"chart_index\":[{\"clusterLabel\":0},{\"clusterLabel\":0},{\"clusterLabel\":0},{\"clusterLabel\":0},{\"clusterLabel\":0},{\"clusterLabel\":0},{\"clusterLabel\":0},{\"clusterLabel\":0},{\"clusterLabel\":0},{\"clusterLabel\":0},{\"clusterLabel\":0},{\"clusterLabel\":0},{\"clusterLabel\":0}],\"clusterLabel\":[0,0,0,0,0,0,0,0,0,0,0,0,0],\"x_values\":{\"__ndarray__\":\"RFNh5hN9NEBSACv5g7M0QHbM7trJ7DRA46aSQQQlNEDjtrUEt2s0QHPsrUndvjRAVO8W88pnNUBsMh1qTTM1QDBac/I2CTVABtfR8DZ1NECFnKWqJmw0QKMJJnUIGTVAimMFjBCLNEA=\",\"dtype\":\"float64\",\"shape\":[13]},\"y_values\":{\"__ndarray__\":\"4UFWfYzwF0Bg5ut1NKMZQJyki4FIxhZAG4q8dC12FkCcEi5/oOcZQIQn2Q6RBRtApquxsEg5GUA1uKH9348XQB8C3iahWhVA870jwedEFkBPo3UWNI4aQISg+74/3RZAk08VMAOAFEA=\",\"dtype\":\"float64\",\"shape\":[13]}}},\"id\":\"94202b60-5da0-49f1-931d-db5a8a383c46\",\"type\":\"ColumnDataSource\"},{\"attributes\":{\"callback\":null,\"column_names\":[\"x_values\",\"y_values\"],\"data\":{\"chart_index\":[{\"clusterLabel\":31},{\"clusterLabel\":31},{\"clusterLabel\":31},{\"clusterLabel\":31}],\"clusterLabel\":[31,31,31,31],\"x_values\":{\"__ndarray__\":\"2SaEqvnrEMDZbfCdMwURwHr/GbbNCRLAhFNme3VtEMA=\",\"dtype\":\"float64\",\"shape\":[4]},\"y_values\":{\"__ndarray__\":\"dtP0sMbkEEB8i9qAZf4RQEZgWglUZRJAhjZ/ESluEEA=\",\"dtype\":\"float64\",\"shape\":[4]}}},\"id\":\"c150878e-ae61-4ac4-90f2-caee2d5f7edd\",\"type\":\"ColumnDataSource\"},{\"attributes\":{\"fill_alpha\":{\"value\":0.7},\"fill_color\":{\"value\":\"#c49c94\"},\"line_color\":{\"value\":\"#c49c94\"},\"size\":{\"units\":\"screen\",\"value\":8},\"x\":{\"field\":\"x_values\"},\"y\":{\"field\":\"y_values\"}},\"id\":\"9c230e7f-7504-42fd-8d0b-cbdf9c22d19c\",\"type\":\"Circle\"},{\"attributes\":{\"callback\":null,\"end\":22.474021646949407,\"start\":-21.109618719911555},\"id\":\"45da6760-65f0-4107-bcf1-94dfce9521ef\",\"type\":\"Range1d\"},{\"attributes\":{\"fill_alpha\":{\"value\":0.7},\"fill_color\":{\"value\":\"#c49c94\"},\"line_color\":{\"value\":\"#c49c94\"},\"size\":{\"units\":\"screen\",\"value\":8},\"x\":{\"field\":\"x_values\"},\"y\":{\"field\":\"y_values\"}},\"id\":\"a3d86a2f-a7c4-4c1b-88cb-e3ebc2cdf314\",\"type\":\"Circle\"},{\"attributes\":{\"label\":{\"value\":\"55\"},\"renderers\":[{\"id\":\"d804605f-a2dc-4928-9b41-2637822a0229\",\"type\":\"GlyphRenderer\"}]},\"id\":\"31ad9add-ce02-41f4-9a19-ae6d4504a693\",\"type\":\"LegendItem\"},{\"attributes\":{\"callback\":null,\"column_names\":[\"x_values\",\"y_values\"],\"data\":{\"chart_index\":[{\"clusterLabel\":36},{\"clusterLabel\":36},{\"clusterLabel\":36},{\"clusterLabel\":36}],\"clusterLabel\":[36,36,36,36],\"x_values\":{\"__ndarray__\":\"81RbE5E5J8AQ6vd9QHknwCt2Bj5XhSfAKouMRpqHJ8A=\",\"dtype\":\"float64\",\"shape\":[4]},\"y_values\":{\"__ndarray__\":\"t22QlNMFEsB9zY42ThYTwGNesdJUXRPAwZFh1gUSFMA=\",\"dtype\":\"float64\",\"shape\":[4]}}},\"id\":\"82c23110-59fe-4d99-9215-61c56fca9144\",\"type\":\"ColumnDataSource\"},{\"attributes\":{\"callback\":null,\"column_names\":[\"x_values\",\"y_values\"],\"data\":{\"chart_index\":[{\"clusterLabel\":42},{\"clusterLabel\":42}],\"clusterLabel\":[42,42],\"x_values\":{\"__ndarray__\":\"8Ax4XVXOxz/uzo/mAcy3vw==\",\"dtype\":\"float64\",\"shape\":[2]},\"y_values\":{\"__ndarray__\":\"RPYlr3Q6IEBRw3fL6OgfQA==\",\"dtype\":\"float64\",\"shape\":[2]}}},\"id\":\"6204e07f-bc0e-46d1-8083-fa9addee82df\",\"type\":\"ColumnDataSource\"},{\"attributes\":{\"callback\":null,\"column_names\":[\"x_values\",\"y_values\"],\"data\":{\"chart_index\":[{\"clusterLabel\":60},{\"clusterLabel\":60},{\"clusterLabel\":60},{\"clusterLabel\":60},{\"clusterLabel\":60},{\"clusterLabel\":60},{\"clusterLabel\":60},{\"clusterLabel\":60},{\"clusterLabel\":60},{\"clusterLabel\":60},{\"clusterLabel\":60}],\"clusterLabel\":[60,60,60,60,60,60,60,60,60,60,60],\"x_values\":{\"__ndarray__\":\"u2/fEIfBMEA7A+jjIFAwQEn/rqM9OjBAFV530vAnMEBw2HNb0JcwQOOPSZkauS9AHQNHYlR1MEBZbd78NKowQM/37ST06i9AK8pzJPhUMECFLTx4mjswQA==\",\"dtype\":\"float64\",\"shape\":[11]},\"y_values\":{\"__ndarray__\":\"ZvZlOkgREUAPMkuPdlYRQD1LSui64BNAtX+GIjS2EEAzKzirzVgTQCtNTdCJAxNA0L3bBJK1D0DxILojOPAPQDikbVQv+RRAagJY2GdBE0Dp2YFH1MkTQA==\",\"dtype\":\"float64\",\"shape\":[11]}}},\"id\":\"5fd24106-3bea-47cd-ad97-52abf5ed59c6\",\"type\":\"ColumnDataSource\"},{\"attributes\":{\"callback\":null,\"column_names\":[\"x_values\",\"y_values\"],\"data\":{\"chart_index\":[{\"clusterLabel\":26},{\"clusterLabel\":26},{\"clusterLabel\":26},{\"clusterLabel\":26},{\"clusterLabel\":26},{\"clusterLabel\":26},{\"clusterLabel\":26},{\"clusterLabel\":26},{\"clusterLabel\":26}],\"clusterLabel\":[26,26,26,26,26,26,26,26,26],\"x_values\":{\"__ndarray__\":\"0wXRvBE5IEDDHKrT1IcgQDkKEpv4byBAY/2o+b8UH0D7KdCz7rMgQDYMhNulkyBATdciAstjIECrKk1t9qYdQLjqen4jxx1A\",\"dtype\":\"float64\",\"shape\":[9]},\"y_values\":{\"__ndarray__\":\"I8IV5QvcEMDySVRgQXMSwPs2ygP36Q3ANQIq51SKEMB5kz9i3ykRwKprmO4RExHAU5Q9T2v/EcC6yVVjXKwRwGXs3KhhshHA\",\"dtype\":\"float64\",\"shape\":[9]}}},\"id\":\"4fc28858-199f-467e-87d6-d21ac30b2d48\",\"type\":\"ColumnDataSource\"},{\"attributes\":{\"label\":{\"value\":\"66\"},\"renderers\":[{\"id\":\"b1453050-8e72-48c9-968d-4c75aada6ac3\",\"type\":\"GlyphRenderer\"}]},\"id\":\"201204eb-a90d-44b0-a062-ed8ed626cfb9\",\"type\":\"LegendItem\"},{\"attributes\":{\"callback\":null,\"column_names\":[\"x_values\",\"y_values\"],\"data\":{\"chart_index\":[{\"clusterLabel\":107},{\"clusterLabel\":107},{\"clusterLabel\":107},{\"clusterLabel\":107},{\"clusterLabel\":107},{\"clusterLabel\":107}],\"clusterLabel\":[107,107,107,107,107,107],\"x_values\":{\"__ndarray__\":\"PC5horCWL8AnhTB3ECEwwINExi3TUjDAxOh06mtjMMAqVO8/9UMwwK5A+FluWzDA\",\"dtype\":\"float64\",\"shape\":[6]},\"y_values\":{\"__ndarray__\":\"PTSEMgi9A0A8Zk/lwNgBQKtDPQRPFQFAjCYAaejX9T8aVWPQGHL9P3T0zCxgDvo/\",\"dtype\":\"float64\",\"shape\":[6]}}},\"id\":\"512658a5-0f85-4e46-930d-c5810bd89c58\",\"type\":\"ColumnDataSource\"},{\"attributes\":{\"label\":{\"value\":\"10\"},\"renderers\":[{\"id\":\"3fb386be-1deb-4b5c-aa49-0b49bb2eb094\",\"type\":\"GlyphRenderer\"}]},\"id\":\"6f2f8d14-bfd1-4944-b171-91548aec561d\",\"type\":\"LegendItem\"},{\"attributes\":{\"fill_alpha\":{\"value\":0.7},\"fill_color\":{\"value\":\"#aec7e8\"},\"line_color\":{\"value\":\"#aec7e8\"},\"size\":{\"units\":\"screen\",\"value\":8},\"x\":{\"field\":\"x_values\"},\"y\":{\"field\":\"y_values\"}},\"id\":\"206e2ac4-2658-4c17-acab-b59412fd4fa2\",\"type\":\"Circle\"},{\"attributes\":{\"callback\":null,\"column_names\":[\"x_values\",\"y_values\"],\"data\":{\"chart_index\":[{\"clusterLabel\":78},{\"clusterLabel\":78},{\"clusterLabel\":78},{\"clusterLabel\":78},{\"clusterLabel\":78},{\"clusterLabel\":78},{\"clusterLabel\":78},{\"clusterLabel\":78},{\"clusterLabel\":78}],\"clusterLabel\":[78,78,78,78,78,78,78,78,78],\"x_values\":{\"__ndarray__\":\"55JNJl/wDcBA1s872ZAKwK8g9dlq+A7AyelYWe+3EMBdOoskw8cMwKdH1s1/7gfADq3BwORGCsDZSukm8PUPwHNUEJwILRDA\",\"dtype\":\"float64\",\"shape\":[9]},\"y_values\":{\"__ndarray__\":\"Wr+J2UyPLsB6KnogAHYtwA3lMoE/AS/Alv/PYgoHLsC1CCFx5AIuwOCKZbfGEi3A77Q3enMWLsA4hm976SQuwP11beMhLy7A\",\"dtype\":\"float64\",\"shape\":[9]}}},\"id\":\"cfbb772e-cbe3-4e3e-9019-f1311f42916a\",\"type\":\"ColumnDataSource\"},{\"attributes\":{\"data_source\":{\"id\":\"e37acb8d-46c9-4a99-a969-fcb379b983bf\",\"type\":\"ColumnDataSource\"},\"glyph\":{\"id\":\"52a87c61-3ca3-4b1b-b979-636cc856539c\",\"type\":\"Circle\"},\"hover_glyph\":null,\"nonselection_glyph\":null,\"selection_glyph\":null},\"id\":\"825095e2-05ef-4a42-8ce4-7207ee936a31\",\"type\":\"GlyphRenderer\"},{\"attributes\":{\"fill_alpha\":{\"value\":0.7},\"fill_color\":{\"value\":\"#1f77b4\"},\"line_color\":{\"value\":\"#1f77b4\"},\"size\":{\"units\":\"screen\",\"value\":8},\"x\":{\"field\":\"x_values\"},\"y\":{\"field\":\"y_values\"}},\"id\":\"0736a2b0-3f8a-43d1-aff8-9aa47486065e\",\"type\":\"Circle\"},{\"attributes\":{\"label\":{\"value\":\"114\"},\"renderers\":[{\"id\":\"beaad196-7521-4ba4-91d0-dcffe0153495\",\"type\":\"GlyphRenderer\"}]},\"id\":\"7a3c239c-bae6-478c-9e64-3051dff8492a\",\"type\":\"LegendItem\"},{\"attributes\":{\"fill_alpha\":{\"value\":0.7},\"fill_color\":{\"value\":\"#9edae5\"},\"line_color\":{\"value\":\"#9edae5\"},\"size\":{\"units\":\"screen\",\"value\":8},\"x\":{\"field\":\"x_values\"},\"y\":{\"field\":\"y_values\"}},\"id\":\"fb90a074-c706-48aa-b34a-cde9266e07e3\",\"type\":\"Circle\"},{\"attributes\":{\"fill_alpha\":{\"value\":0.7},\"fill_color\":{\"value\":\"#7f7f7f\"},\"line_color\":{\"value\":\"#7f7f7f\"},\"size\":{\"units\":\"screen\",\"value\":8},\"x\":{\"field\":\"x_values\"},\"y\":{\"field\":\"y_values\"}},\"id\":\"71b8364a-3c37-4e94-9064-3f7677ddeb4c\",\"type\":\"Circle\"},{\"attributes\":{\"callback\":null,\"column_names\":[\"x_values\",\"y_values\"],\"data\":{\"chart_index\":[{\"clusterLabel\":98},{\"clusterLabel\":98},{\"clusterLabel\":98},{\"clusterLabel\":98},{\"clusterLabel\":98},{\"clusterLabel\":98},{\"clusterLabel\":98},{\"clusterLabel\":98}],\"clusterLabel\":[98,98,98,98,98,98,98,98],\"x_values\":{\"__ndarray__\":\"tljwvj0y/r+Xb+t/NB/+v6Ge95WT6fq/4lXe1RUKAcC0xixZFmL/v0OdCxs+1wLAIxjDEBva+L94BfueDLUEwA==\",\"dtype\":\"float64\",\"shape\":[8]},\"y_values\":{\"__ndarray__\":\"3CP/mMu/LcC1RpuY+0EuwEbL+LsCxy7A9ezrViw1LsBZ4nmbuuUuwML71kCN4y7A8wXHztJgL8BC+itMekAuwA==\",\"dtype\":\"float64\",\"shape\":[8]}}},\"id\":\"f6fc40a7-d62e-4dcb-b6ec-e5b24e9570b0\",\"type\":\"ColumnDataSource\"},{\"attributes\":{\"fill_alpha\":{\"value\":0.7},\"fill_color\":{\"value\":\"#1f77b4\"},\"line_color\":{\"value\":\"#1f77b4\"},\"size\":{\"units\":\"screen\",\"value\":8},\"x\":{\"field\":\"x_values\"},\"y\":{\"field\":\"y_values\"}},\"id\":\"2f6aa494-9992-4cf4-a303-abecd72cbc2d\",\"type\":\"Circle\"},{\"attributes\":{\"callback\":null,\"column_names\":[\"x_values\",\"y_values\"],\"data\":{\"chart_index\":[{\"clusterLabel\":50},{\"clusterLabel\":50},{\"clusterLabel\":50},{\"clusterLabel\":50}],\"clusterLabel\":[50,50,50,50],\"x_values\":{\"__ndarray__\":\"luQcQerXD8DfRjh0oEQRwCzGBG6bYRHAR5Zz7OdFDcA=\",\"dtype\":\"float64\",\"shape\":[4]},\"y_values\":{\"__ndarray__\":\"rc0ex74hF0Ah3eZyyKkWQG/zm5g8thdAJGr+C1S5F0A=\",\"dtype\":\"float64\",\"shape\":[4]}}},\"id\":\"413e318a-e993-4d42-9f17-5bd8f2044160\",\"type\":\"ColumnDataSource\"},{\"attributes\":{\"fill_alpha\":{\"value\":0.7},\"fill_color\":{\"value\":\"#7f7f7f\"},\"line_color\":{\"value\":\"#7f7f7f\"},\"size\":{\"units\":\"screen\",\"value\":8},\"x\":{\"field\":\"x_values\"},\"y\":{\"field\":\"y_values\"}},\"id\":\"2269fa58-a30c-4ec3-b723-d351c7141d62\",\"type\":\"Circle\"},{\"attributes\":{\"label\":{\"value\":\"88\"},\"renderers\":[{\"id\":\"4bbd2078-93b0-4892-9817-2a09fd896c12\",\"type\":\"GlyphRenderer\"}]},\"id\":\"ec23d7d6-1f7b-4856-8aca-d191ed82e7e4\",\"type\":\"LegendItem\"},{\"attributes\":{\"fill_alpha\":{\"value\":0.7},\"fill_color\":{\"value\":\"#9467bd\"},\"line_color\":{\"value\":\"#9467bd\"},\"size\":{\"units\":\"screen\",\"value\":8},\"x\":{\"field\":\"x_values\"},\"y\":{\"field\":\"y_values\"}},\"id\":\"ec74a8da-bb04-4bb2-b758-e1fd3fc8b9d2\",\"type\":\"Circle\"},{\"attributes\":{},\"id\":\"219694e3-1bf3-4d01-90d5-570a6fbd5304\",\"type\":\"ToolEvents\"},{\"attributes\":{\"data_source\":{\"id\":\"802b23e6-c177-4e26-86f0-faa869071994\",\"type\":\"ColumnDataSource\"},\"glyph\":{\"id\":\"205c2fa5-d395-4050-941f-3434dcb614d9\",\"type\":\"Circle\"},\"hover_glyph\":null,\"nonselection_glyph\":null,\"selection_glyph\":null},\"id\":\"a7554b8a-3142-4d25-9c77-53113c879d03\",\"type\":\"GlyphRenderer\"},{\"attributes\":{\"callback\":null,\"column_names\":[\"x_values\",\"y_values\"],\"data\":{\"chart_index\":[{\"clusterLabel\":3},{\"clusterLabel\":3},{\"clusterLabel\":3},{\"clusterLabel\":3},{\"clusterLabel\":3},{\"clusterLabel\":3}],\"clusterLabel\":[3,3,3,3,3,3],\"x_values\":{\"__ndarray__\":\"ETvpCqsoMUC8Qm6hjdkxQObtDcAWlzFAl2rOLWjoMEBK1p9ZZecwQGM87TgpnzFA\",\"dtype\":\"float64\",\"shape\":[6]},\"y_values\":{\"__ndarray__\":\"SBqNtrwnBUC8onUxTHIIQEZ+cX00HwdATwN27bchB0Db4qOYbAgHQP+Zhu3mxwhA\",\"dtype\":\"float64\",\"shape\":[6]}}},\"id\":\"7353fc81-947e-401f-8e44-a38b2d84670d\",\"type\":\"ColumnDataSource\"},{\"attributes\":{\"callback\":null,\"column_names\":[\"x_values\",\"y_values\"],\"data\":{\"chart_index\":[{\"clusterLabel\":93},{\"clusterLabel\":93},{\"clusterLabel\":93},{\"clusterLabel\":93},{\"clusterLabel\":93},{\"clusterLabel\":93},{\"clusterLabel\":93},{\"clusterLabel\":93},{\"clusterLabel\":93},{\"clusterLabel\":93}],\"clusterLabel\":[93,93,93,93,93,93,93,93,93,93],\"x_values\":{\"__ndarray__\":\"k5Q4tDzGM8D0NKnQz3wzwFN5j8nGJjPApAZaOmgHM8CaumRFkpUzwFSARxHjCTPAyNjNfCV1M8CiiobwV/AywK8b2YPg8DLAuoMUmKIkM8A=\",\"dtype\":\"float64\",\"shape\":[10]},\"y_values\":{\"__ndarray__\":\"bZmYtMNgGkCjBBYfSe0ZQGRF/6CO0x5AII8dukP+HEAfa7rQBwUbQAg9WDxEPSBAZgxgjbycHEBGsmy/JMgeQJeGu5RIYxxA0HNjHe3IHUA=\",\"dtype\":\"float64\",\"shape\":[10]}}},\"id\":\"f5b07ee2-3187-4f8d-938d-5fe1bd39ec25\",\"type\":\"ColumnDataSource\"},{\"attributes\":{\"callback\":null,\"column_names\":[\"x_values\",\"y_values\"],\"data\":{\"chart_index\":[{\"clusterLabel\":43},{\"clusterLabel\":43},{\"clusterLabel\":43},{\"clusterLabel\":43},{\"clusterLabel\":43}],\"clusterLabel\":[43,43,43,43,43],\"x_values\":{\"__ndarray__\":\"H0ElfmKANED5Ify923g0QKho3i21iDRAJlsF4/+CNEAsLaipyls0QA==\",\"dtype\":\"float64\",\"shape\":[5]},\"y_values\":{\"__ndarray__\":\"spJucr1GAsBjq3fyAAYIwP13AW0PZQXAb2/HU3wVA8CuXHHwSAwDwA==\",\"dtype\":\"float64\",\"shape\":[5]}}},\"id\":\"8ef6fc1c-92e8-483d-b44b-3f229d90bea4\",\"type\":\"ColumnDataSource\"},{\"attributes\":{\"label\":{\"value\":\"85\"},\"renderers\":[{\"id\":\"056db439-101b-4531-9a8b-18590adb1fa6\",\"type\":\"GlyphRenderer\"}]},\"id\":\"2fe9602a-4593-40ec-8842-8e4a12eb816f\",\"type\":\"LegendItem\"},{\"attributes\":{\"data_source\":{\"id\":\"819fda90-27c3-413f-a9cc-80fe40ae794c\",\"type\":\"ColumnDataSource\"},\"glyph\":{\"id\":\"ea2dc0f0-5399-47c2-961f-bbea93118a34\",\"type\":\"Circle\"},\"hover_glyph\":null,\"nonselection_glyph\":null,\"selection_glyph\":null},\"id\":\"beaad196-7521-4ba4-91d0-dcffe0153495\",\"type\":\"GlyphRenderer\"},{\"attributes\":{\"data_source\":{\"id\":\"3a65c5cb-cc64-4790-8d42-8fb10e2672fd\",\"type\":\"ColumnDataSource\"},\"glyph\":{\"id\":\"31514aef-60a3-4a5b-b2d6-c734745bd1cd\",\"type\":\"Circle\"},\"hover_glyph\":null,\"nonselection_glyph\":null,\"selection_glyph\":null},\"id\":\"f484b507-7670-421b-a210-0f1749fea6f2\",\"type\":\"GlyphRenderer\"},{\"attributes\":{\"fill_alpha\":{\"value\":0.7},\"fill_color\":{\"value\":\"#c5b0d5\"},\"line_color\":{\"value\":\"#c5b0d5\"},\"size\":{\"units\":\"screen\",\"value\":8},\"x\":{\"field\":\"x_values\"},\"y\":{\"field\":\"y_values\"}},\"id\":\"bb88b850-4e88-4ebf-85e9-44cf30d08efb\",\"type\":\"Circle\"},{\"attributes\":{\"data_source\":{\"id\":\"c292d9ea-7319-4b16-b771-19f326f8ef6c\",\"type\":\"ColumnDataSource\"},\"glyph\":{\"id\":\"3fba7fad-2052-452e-8ac3-a1f9959ded48\",\"type\":\"Circle\"},\"hover_glyph\":null,\"nonselection_glyph\":null,\"selection_glyph\":null},\"id\":\"325c072c-c00e-4b60-8f6e-1e6a38793f90\",\"type\":\"GlyphRenderer\"},{\"attributes\":{\"callback\":null,\"column_names\":[\"x_values\",\"y_values\"],\"data\":{\"chart_index\":[{\"clusterLabel\":1},{\"clusterLabel\":1},{\"clusterLabel\":1},{\"clusterLabel\":1},{\"clusterLabel\":1}],\"clusterLabel\":[1,1,1,1,1],\"x_values\":{\"__ndarray__\":\"lCHB898TNEDZIfhpO4E0QM//sGJ4RjRAJj2WyiYzNEBmrj7IQgk0QA==\",\"dtype\":\"float64\",\"shape\":[5]},\"y_values\":{\"__ndarray__\":\"Ba7jQ1KUFcBSkV+vFaIVwOh7hWEdDBfA1bjQY0CAF8DYyqLEF5AVwA==\",\"dtype\":\"float64\",\"shape\":[5]}}},\"id\":\"56a392c1-53c6-4a4b-9ac2-2f09f6085032\",\"type\":\"ColumnDataSource\"},{\"attributes\":{\"fill_alpha\":{\"value\":0.7},\"fill_color\":{\"value\":\"#7f7f7f\"},\"line_color\":{\"value\":\"#7f7f7f\"},\"size\":{\"units\":\"screen\",\"value\":8},\"x\":{\"field\":\"x_values\"},\"y\":{\"field\":\"y_values\"}},\"id\":\"6b51b014-c2c9-41ee-ab18-79d5e1d08166\",\"type\":\"Circle\"},{\"attributes\":{\"axis_label\":\"x\",\"formatter\":{\"id\":\"f8b6e0cd-58b0-40c6-b8fa-910174bf553e\",\"type\":\"BasicTickFormatter\"},\"plot\":{\"id\":\"3e35d95a-dc3d-4892-841b-3df199efd437\",\"subtype\":\"Chart\",\"type\":\"Plot\"},\"ticker\":{\"id\":\"07bcbf8d-00ef-4c02-a6fa-ef26859e33bd\",\"type\":\"BasicTicker\"}},\"id\":\"5b9640b0-1bde-4fb5-ba04-cf75f63f9d8b\",\"type\":\"LinearAxis\"},{\"attributes\":{\"callback\":null,\"column_names\":[\"x_values\",\"y_values\"],\"data\":{\"chart_index\":[{\"clusterLabel\":11},{\"clusterLabel\":11},{\"clusterLabel\":11},{\"clusterLabel\":11},{\"clusterLabel\":11},{\"clusterLabel\":11},{\"clusterLabel\":11},{\"clusterLabel\":11}],\"clusterLabel\":[11,11,11,11,11,11,11,11],\"x_values\":{\"__ndarray__\":\"Er3RjQVx+j+fjOUdX5/yP/eki87t8+w/y8PBIDWm4z/AA7x1xr/zPxLFKsD4SPY/DiE3S+ka+D8a8DwRjyjsPw==\",\"dtype\":\"float64\",\"shape\":[8]},\"y_values\":{\"__ndarray__\":\"JUVuuqgtIUAwcdmsCpkgQPqYt9mW/SBAAuxTwbQIIEBAdAOf2p0fQPhWKochhiBARJueehVpIEDCa6RwpdgfQA==\",\"dtype\":\"float64\",\"shape\":[8]}}},\"id\":\"48db747a-2e1d-43a4-8c92-e76b7edb7327\",\"type\":\"ColumnDataSource\"},{\"attributes\":{\"label\":{\"value\":\"71\"},\"renderers\":[{\"id\":\"fdfbc6cb-490e-4b01-8f27-5f839ac94e07\",\"type\":\"GlyphRenderer\"}]},\"id\":\"0bd5b0ff-7b57-494e-8d14-eff0329b576f\",\"type\":\"LegendItem\"},{\"attributes\":{\"callback\":null,\"column_names\":[\"x_values\",\"y_values\"],\"data\":{\"chart_index\":[{\"clusterLabel\":71},{\"clusterLabel\":71},{\"clusterLabel\":71},{\"clusterLabel\":71},{\"clusterLabel\":71},{\"clusterLabel\":71}],\"clusterLabel\":[71,71,71,71,71,71],\"x_values\":{\"__ndarray__\":\"n9HvkMeUCMDkK6SACkwIwHr17NVnTgjAT/qC4XJ/CMDeSRBXaYMJwGAjT9qx+QzA\",\"dtype\":\"float64\",\"shape\":[6]},\"y_values\":{\"__ndarray__\":\"4WVnlDX6sT+wnhSSwjjBPyvF4ZCFn7s/MqnBmBGSsz/9JdR0k8PIP6AV4zqVvtc/\",\"dtype\":\"float64\",\"shape\":[6]}}},\"id\":\"fc250e73-ff4e-4fe8-bd5f-e8262bd04c0f\",\"type\":\"ColumnDataSource\"},{\"attributes\":{\"label\":{\"value\":\"43\"},\"renderers\":[{\"id\":\"b51cf743-a18a-4d6c-b084-001eb0598722\",\"type\":\"GlyphRenderer\"}]},\"id\":\"e0346241-de46-49bc-96ed-4f3b2bedcd59\",\"type\":\"LegendItem\"},{\"attributes\":{\"data_source\":{\"id\":\"f5b07ee2-3187-4f8d-938d-5fe1bd39ec25\",\"type\":\"ColumnDataSource\"},\"glyph\":{\"id\":\"71b8364a-3c37-4e94-9064-3f7677ddeb4c\",\"type\":\"Circle\"},\"hover_glyph\":null,\"nonselection_glyph\":null,\"selection_glyph\":null},\"id\":\"9030b03b-f3ac-496a-ad56-19be740279c7\",\"type\":\"GlyphRenderer\"},{\"attributes\":{\"fill_alpha\":{\"value\":0.7},\"fill_color\":{\"value\":\"#ff7f0e\"},\"line_color\":{\"value\":\"#ff7f0e\"},\"size\":{\"units\":\"screen\",\"value\":8},\"x\":{\"field\":\"x_values\"},\"y\":{\"field\":\"y_values\"}},\"id\":\"82dc896b-fbdb-4dac-800c-cea7e6a93b8d\",\"type\":\"Circle\"},{\"attributes\":{\"label\":{\"value\":\"81\"},\"renderers\":[{\"id\":\"d90abe6f-c448-4b97-8b71-16efb8574cea\",\"type\":\"GlyphRenderer\"}]},\"id\":\"57e4dc84-8708-49fc-b991-425c97f46af7\",\"type\":\"LegendItem\"},{\"attributes\":{\"callback\":null,\"column_names\":[\"x_values\",\"y_values\"],\"data\":{\"chart_index\":[{\"clusterLabel\":33},{\"clusterLabel\":33},{\"clusterLabel\":33},{\"clusterLabel\":33},{\"clusterLabel\":33},{\"clusterLabel\":33},{\"clusterLabel\":33},{\"clusterLabel\":33},{\"clusterLabel\":33},{\"clusterLabel\":33}],\"clusterLabel\":[33,33,33,33,33,33,33,33,33,33],\"x_values\":{\"__ndarray__\":\"OIup5QLUMUDQ/0lGoPkxQM0UPIPpMDNAWfYW2q7KMkAUsxXyIzgzQBLFqO+WjzNAP+uCQKn7M0Ae1BLQ4esxQPIax7VMYDJAdbWQ0koiMkA=\",\"dtype\":\"float64\",\"shape\":[10]},\"y_values\":{\"__ndarray__\":\"tjN8mj94EUBUS5B8eaEQQEq55P0sQhFAH6Ht8D76EUB/KX2ry18RQO2hob6HXxBADwGxx/zoEEDM15t0hTQOQE9GOMH8BRFA4Kk55DBHD0A=\",\"dtype\":\"float64\",\"shape\":[10]}}},\"id\":\"2f80ffc7-bcb4-4a67-8447-5f034578d875\",\"type\":\"ColumnDataSource\"},{\"attributes\":{\"label\":{\"value\":\"41\"},\"renderers\":[{\"id\":\"91d2f082-0f40-4f7d-9a9b-f6eb947169ec\",\"type\":\"GlyphRenderer\"}]},\"id\":\"c350f96e-294b-4847-af40-451f482312c0\",\"type\":\"LegendItem\"},{\"attributes\":{\"fill_alpha\":{\"value\":0.7},\"fill_color\":{\"value\":\"#ff9896\"},\"line_color\":{\"value\":\"#ff9896\"},\"size\":{\"units\":\"screen\",\"value\":8},\"x\":{\"field\":\"x_values\"},\"y\":{\"field\":\"y_values\"}},\"id\":\"8d2f3dba-7592-4ea5-be22-891414485300\",\"type\":\"Circle\"},{\"attributes\":{\"fill_alpha\":{\"value\":0.7},\"fill_color\":{\"value\":\"#f7b6d2\"},\"line_color\":{\"value\":\"#f7b6d2\"},\"size\":{\"units\":\"screen\",\"value\":8},\"x\":{\"field\":\"x_values\"},\"y\":{\"field\":\"y_values\"}},\"id\":\"1e33d70a-145d-49b2-b55a-ef95aa95fb7e\",\"type\":\"Circle\"},{\"attributes\":{\"label\":{\"value\":\"83\"},\"renderers\":[{\"id\":\"f21566f0-58ca-4dd0-8cca-8a123bdefabe\",\"type\":\"GlyphRenderer\"}]},\"id\":\"2eef0cf2-d9e8-4539-a390-0bd4e5917805\",\"type\":\"LegendItem\"},{\"attributes\":{\"data_source\":{\"id\":\"56bde6f4-628c-4788-8f8b-533f2efedeef\",\"type\":\"ColumnDataSource\"},\"glyph\":{\"id\":\"32436eb0-6bf9-49c6-b379-0670860ebe8d\",\"type\":\"Circle\"},\"hover_glyph\":null,\"nonselection_glyph\":null,\"selection_glyph\":null},\"id\":\"60963c3a-8303-4f37-91e3-e9c2f46cd9d9\",\"type\":\"GlyphRenderer\"},{\"attributes\":{\"data_source\":{\"id\":\"94202b60-5da0-49f1-931d-db5a8a383c46\",\"type\":\"ColumnDataSource\"},\"glyph\":{\"id\":\"70905df6-3113-4ced-af87-691584206959\",\"type\":\"Circle\"},\"hover_glyph\":null,\"nonselection_glyph\":null,\"selection_glyph\":null},\"id\":\"c33a0c40-df07-4513-91d7-91d0c2a53c51\",\"type\":\"GlyphRenderer\"},{\"attributes\":{\"callback\":null,\"column_names\":[\"x_values\",\"y_values\"],\"data\":{\"chart_index\":[{\"clusterLabel\":82},{\"clusterLabel\":82},{\"clusterLabel\":82},{\"clusterLabel\":82},{\"clusterLabel\":82},{\"clusterLabel\":82}],\"clusterLabel\":[82,82,82,82,82,82],\"x_values\":{\"__ndarray__\":\"j3DyM0zQNMAMUNBcf+g0wAi1UpV5GjXA5scJhHVlNMBDroypeLI0wEXqQSqFzjTA\",\"dtype\":\"float64\",\"shape\":[6]},\"y_values\":{\"__ndarray__\":\"lNw/w64wGECYqEOfXssVQJR/VjzxtBdALYrmkMP8FUB7iWUYzaYXQCFdKh0u/RZA\",\"dtype\":\"float64\",\"shape\":[6]}}},\"id\":\"3f9b2e3d-a18e-4dc5-a182-6f3f8bedd5ae\",\"type\":\"ColumnDataSource\"},{\"attributes\":{\"data_source\":{\"id\":\"d6850fea-ee05-4895-a410-8150cdbf7920\",\"type\":\"ColumnDataSource\"},\"glyph\":{\"id\":\"d1387998-7bfb-4a6e-90c7-b05f38675bd4\",\"type\":\"Circle\"},\"hover_glyph\":null,\"nonselection_glyph\":null,\"selection_glyph\":null},\"id\":\"bfdbe376-9f10-4090-980d-d9760a40fe8a\",\"type\":\"GlyphRenderer\"},{\"attributes\":{\"callback\":null,\"column_names\":[\"x_values\",\"y_values\"],\"data\":{\"chart_index\":[{\"clusterLabel\":17},{\"clusterLabel\":17},{\"clusterLabel\":17},{\"clusterLabel\":17},{\"clusterLabel\":17},{\"clusterLabel\":17},{\"clusterLabel\":17},{\"clusterLabel\":17},{\"clusterLabel\":17},{\"clusterLabel\":17},{\"clusterLabel\":17},{\"clusterLabel\":17},{\"clusterLabel\":17},{\"clusterLabel\":17},{\"clusterLabel\":17},{\"clusterLabel\":17},{\"clusterLabel\":17},{\"clusterLabel\":17},{\"clusterLabel\":17},{\"clusterLabel\":17}],\"clusterLabel\":[17,17,17,17,17,17,17,17,17,17,17,17,17,17,17,17,17,17,17,17],\"x_values\":{\"__ndarray__\":\"uTKwTcpdAkD0MMmUFor0P65JqExaSOk/n6zexy8w8j9C1Ktd4FHrPy2E69cfTfA/KwNU6jfg6z9LqvKHygv5PxlaPtb/Q+8/RqSYW2aS9T88Z4cojBD4P5gZbeDe4/Q/zk62QZa18T93iFd/BvUDQOyTSmUYRuk/KdZZTyUP5D/qoYpxbBUAQKpanQHCqvI/5QaPqDoI5z/Qyf6hMqHnPw==\",\"dtype\":\"float64\",\"shape\":[20]},\"y_values\":{\"__ndarray__\":\"qxHNBdgCDUDCP35iaC0WQK2l9v+BIxRA079WzIUuGUCZHTesfzEVQIxSMlSs4xZAPtG/bPCIFkDp8v6QTYEOQFghNEpTlhBAC6O2uyTAD0BDVhcKciURQJ3zuYccoBdAC7nJKC0nGEADYr1+Mx0NQMnqcYAEuBJAYgJNjc2jD0CsAFl330oNQEvn8qkPPhZAPYIvnCIxEkBnfUf4US0TQA==\",\"dtype\":\"float64\",\"shape\":[20]}}},\"id\":\"eacfb33a-5467-4dc1-b8fe-67e95c2ad55b\",\"type\":\"ColumnDataSource\"},{\"attributes\":{\"data_source\":{\"id\":\"6cd47289-062c-49f1-a345-44c33c69e794\",\"type\":\"ColumnDataSource\"},\"glyph\":{\"id\":\"ee139ddc-42cc-4386-a129-56febc97d0a5\",\"type\":\"Circle\"},\"hover_glyph\":null,\"nonselection_glyph\":null,\"selection_glyph\":null},\"id\":\"245556ec-b0c9-439e-807a-8b6ab7eb150f\",\"type\":\"GlyphRenderer\"},{\"attributes\":{\"callback\":null,\"column_names\":[\"x_values\",\"y_values\"],\"data\":{\"chart_index\":[{\"clusterLabel\":7},{\"clusterLabel\":7},{\"clusterLabel\":7},{\"clusterLabel\":7},{\"clusterLabel\":7},{\"clusterLabel\":7},{\"clusterLabel\":7},{\"clusterLabel\":7}],\"clusterLabel\":[7,7,7,7,7,7,7,7],\"x_values\":{\"__ndarray__\":\"+JsAYieaD0Dy9cxPH7oMQCEerwmkTw5Aqg2OVt+7DUBcSikFaSMQQAJO1FgPjw1AkmX8MEhPDEDtexaO1r8MQA==\",\"dtype\":\"float64\",\"shape\":[8]},\"y_values\":{\"__ndarray__\":\"oDwE5KZYJEBuyt0nJb4jQGMqBv3fMCVAsQhkp7gmJUAoxK9iu3AlQJofmo3SHyVAS4tjYGnHI0D7r0fNj0EkQA==\",\"dtype\":\"float64\",\"shape\":[8]}}},\"id\":\"33d873e2-7956-4f09-9750-d1ecb5fd338b\",\"type\":\"ColumnDataSource\"},{\"attributes\":{\"callback\":null,\"column_names\":[\"x_values\",\"y_values\"],\"data\":{\"chart_index\":[{\"clusterLabel\":73},{\"clusterLabel\":73},{\"clusterLabel\":73},{\"clusterLabel\":73}],\"clusterLabel\":[73,73,73,73],\"x_values\":{\"__ndarray__\":\"AgU4TtAuJUASjnYjM1AlQL8DMr2KOyVAq4YtqkgAJUA=\",\"dtype\":\"float64\",\"shape\":[4]},\"y_values\":{\"__ndarray__\":\"uEHNu7OgIEA4OnI9yFcfQH9EmzbbCiBAViYjbNH4HkA=\",\"dtype\":\"float64\",\"shape\":[4]}}},\"id\":\"47ea4855-4df1-45ea-a9e3-57a07e326e73\",\"type\":\"ColumnDataSource\"},{\"attributes\":{\"callback\":null,\"column_names\":[\"x_values\",\"y_values\"],\"data\":{\"chart_index\":[{\"clusterLabel\":81},{\"clusterLabel\":81},{\"clusterLabel\":81},{\"clusterLabel\":81},{\"clusterLabel\":81},{\"clusterLabel\":81}],\"clusterLabel\":[81,81,81,81,81,81],\"x_values\":{\"__ndarray__\":\"bwWV53GFNsCX4f7kmFs2wLWqiPalJjbAqHE2rzDsNsCzDk5iVkY2wCeFSY6qDDbA\",\"dtype\":\"float64\",\"shape\":[6]},\"y_values\":{\"__ndarray__\":\"yGcMuwedJ0Atoxh9VO4nQFKnpkLvHChAZwwxFwdbJ0DavtZudHknQLuMHQfKHCdA\",\"dtype\":\"float64\",\"shape\":[6]}}},\"id\":\"a0dda43a-ae29-427e-b753-743ab4a9ac98\",\"type\":\"ColumnDataSource\"},{\"attributes\":{\"label\":{\"value\":\"76\"},\"renderers\":[{\"id\":\"2fc7578e-24c3-4886-84c8-62e418ebf86b\",\"type\":\"GlyphRenderer\"}]},\"id\":\"970631c7-ad6d-4eb9-9a2d-65e288661e6a\",\"type\":\"LegendItem\"},{\"attributes\":{\"data_source\":{\"id\":\"4a9d6f48-ce79-4926-9226-c68a1a3995fc\",\"type\":\"ColumnDataSource\"},\"glyph\":{\"id\":\"f384b2b8-9c89-4515-977f-e83118225942\",\"type\":\"Circle\"},\"hover_glyph\":null,\"nonselection_glyph\":null,\"selection_glyph\":null},\"id\":\"9b240478-2511-4233-b1d1-13b4e9abdd88\",\"type\":\"GlyphRenderer\"},{\"attributes\":{\"label\":{\"value\":\"62\"},\"renderers\":[{\"id\":\"facffd44-036f-4062-b285-087cfb0253a6\",\"type\":\"GlyphRenderer\"}]},\"id\":\"ca4527f7-f98e-441f-b77c-3814b2e1bb07\",\"type\":\"LegendItem\"},{\"attributes\":{\"label\":{\"value\":\"5\"},\"renderers\":[{\"id\":\"5134b8ad-29d5-4965-836c-9f5a32dede9f\",\"type\":\"GlyphRenderer\"}]},\"id\":\"1fb6c8b0-aaf1-4526-90f1-83c369d1a395\",\"type\":\"LegendItem\"},{\"attributes\":{\"fill_alpha\":{\"value\":0.7},\"fill_color\":{\"value\":\"#ff9896\"},\"line_color\":{\"value\":\"#ff9896\"},\"size\":{\"units\":\"screen\",\"value\":8},\"x\":{\"field\":\"x_values\"},\"y\":{\"field\":\"y_values\"}},\"id\":\"9d0fc6d3-b6e0-41ad-9bb9-fcb558800cfe\",\"type\":\"Circle\"},{\"attributes\":{\"data_source\":{\"id\":\"b9ce97f6-72b1-4486-88ae-b9afa390758f\",\"type\":\"ColumnDataSource\"},\"glyph\":{\"id\":\"90f812b2-9971-4f02-b5cc-71ae27aa9b39\",\"type\":\"Circle\"},\"hover_glyph\":null,\"nonselection_glyph\":null,\"selection_glyph\":null},\"id\":\"6616ac7d-7e20-4f39-9760-1aa15e831e57\",\"type\":\"GlyphRenderer\"},{\"attributes\":{\"data_source\":{\"id\":\"56a392c1-53c6-4a4b-9ac2-2f09f6085032\",\"type\":\"ColumnDataSource\"},\"glyph\":{\"id\":\"de0c21e0-83ac-4c2b-8518-56b96bd0dbbb\",\"type\":\"Circle\"},\"hover_glyph\":null,\"nonselection_glyph\":null,\"selection_glyph\":null},\"id\":\"4bd54eb3-3fb1-4c72-8ae8-9c673de0560f\",\"type\":\"GlyphRenderer\"},{\"attributes\":{\"data_source\":{\"id\":\"1b3e23bc-b4b8-432e-8fb9-79f4ab59e5e1\",\"type\":\"ColumnDataSource\"},\"glyph\":{\"id\":\"0685bca9-5626-44fc-8781-d75d977685aa\",\"type\":\"Circle\"},\"hover_glyph\":null,\"nonselection_glyph\":null,\"selection_glyph\":null},\"id\":\"bbe8c007-cf60-420a-9ed1-e9c4fc3c2bb9\",\"type\":\"GlyphRenderer\"},{\"attributes\":{\"callback\":null,\"column_names\":[\"x_values\",\"y_values\"],\"data\":{\"chart_index\":[{\"clusterLabel\":109},{\"clusterLabel\":109},{\"clusterLabel\":109},{\"clusterLabel\":109}],\"clusterLabel\":[109,109,109,109],\"x_values\":{\"__ndarray__\":\"ehUnGpRELsD7GO1ssCEuwBP/RHqrbi7Aor/pnDsrLsA=\",\"dtype\":\"float64\",\"shape\":[4]},\"y_values\":{\"__ndarray__\":\"sFSVesPIKkC3cfgHGKArQC5YlwXeMitAiLIwRQL+K0A=\",\"dtype\":\"float64\",\"shape\":[4]}}},\"id\":\"acf758c2-86f9-49c8-8182-44cb5e55c027\",\"type\":\"ColumnDataSource\"},{\"attributes\":{\"label\":{\"value\":\"77\"},\"renderers\":[{\"id\":\"263f0c5b-add5-4c9c-864c-1028a0f160b8\",\"type\":\"GlyphRenderer\"}]},\"id\":\"f4a9cc3f-fba7-4a4f-a4c7-f279b1876d2b\",\"type\":\"LegendItem\"},{\"attributes\":{\"callback\":null,\"column_names\":[\"x_values\",\"y_values\"],\"data\":{\"chart_index\":[{\"clusterLabel\":16},{\"clusterLabel\":16},{\"clusterLabel\":16},{\"clusterLabel\":16},{\"clusterLabel\":16},{\"clusterLabel\":16},{\"clusterLabel\":16},{\"clusterLabel\":16},{\"clusterLabel\":16}],\"clusterLabel\":[16,16,16,16,16,16,16,16,16],\"x_values\":{\"__ndarray__\":\"IS7uYa2YBEAIvaM4LSYCQF1IKWTiHgNAydvoJaZbCED2iRSYEnYDQCQ92euhBgNAa0frN69sAUCIpamP4EYBQHZg4+RFAwVA\",\"dtype\":\"float64\",\"shape\":[9]},\"y_values\":{\"__ndarray__\":\"rviucrJJJUDQ3i1BChEkQHpNPcCxYiRATyypnps8JUBjUHE3UtglQBlvi+EZlyNADxtVToBOI0BOjV7766ckQHPaWYhKFiNA\",\"dtype\":\"float64\",\"shape\":[9]}}},\"id\":\"6cd47289-062c-49f1-a345-44c33c69e794\",\"type\":\"ColumnDataSource\"},{\"attributes\":{\"label\":{\"value\":\"30\"},\"renderers\":[{\"id\":\"306122b6-dd8f-48d2-aaf3-832e7cf27c93\",\"type\":\"GlyphRenderer\"}]},\"id\":\"062d8a96-712f-46d6-9570-8283d84d29a5\",\"type\":\"LegendItem\"},{\"attributes\":{\"callback\":null,\"column_names\":[\"x_values\",\"y_values\"],\"data\":{\"chart_index\":[{\"clusterLabel\":102},{\"clusterLabel\":102},{\"clusterLabel\":102},{\"clusterLabel\":102}],\"clusterLabel\":[102,102,102,102],\"x_values\":{\"__ndarray__\":\"1IllVoyDGcBD6mnZiqAZwLpYhDJ+kxnASyMub/KnGcA=\",\"dtype\":\"float64\",\"shape\":[4]},\"y_values\":{\"__ndarray__\":\"UHIvA0EcLEAoz0x9qyEsQFy7/lohICxA2sykzdIhLEA=\",\"dtype\":\"float64\",\"shape\":[4]}}},\"id\":\"778d53a7-f0be-49dc-ae8b-0159c5df976a\",\"type\":\"ColumnDataSource\"},{\"attributes\":{\"fill_alpha\":{\"value\":0.7},\"fill_color\":{\"value\":\"#9467bd\"},\"line_color\":{\"value\":\"#9467bd\"},\"size\":{\"units\":\"screen\",\"value\":8},\"x\":{\"field\":\"x_values\"},\"y\":{\"field\":\"y_values\"}},\"id\":\"3c7ca26e-c9a3-4adf-8584-589bc8acb24c\",\"type\":\"Circle\"},{\"attributes\":{\"fill_alpha\":{\"value\":0.7},\"fill_color\":{\"value\":\"#dbdb8d\"},\"line_color\":{\"value\":\"#dbdb8d\"},\"size\":{\"units\":\"screen\",\"value\":8},\"x\":{\"field\":\"x_values\"},\"y\":{\"field\":\"y_values\"}},\"id\":\"df1be9ea-b84c-4411-b1c8-cdd0eb6bd615\",\"type\":\"Circle\"},{\"attributes\":{\"data_source\":{\"id\":\"49bad0c4-58de-471e-8b66-fc2ad6612bff\",\"type\":\"ColumnDataSource\"},\"glyph\":{\"id\":\"0736a2b0-3f8a-43d1-aff8-9aa47486065e\",\"type\":\"Circle\"},\"hover_glyph\":null,\"nonselection_glyph\":null,\"selection_glyph\":null},\"id\":\"28f0fc71-f974-4de1-973e-ddad4dd60285\",\"type\":\"GlyphRenderer\"},{\"attributes\":{\"data_source\":{\"id\":\"fc250e73-ff4e-4fe8-bd5f-e8262bd04c0f\",\"type\":\"ColumnDataSource\"},\"glyph\":{\"id\":\"48c297ef-4e75-463e-ae39-ff8deb4e8177\",\"type\":\"Circle\"},\"hover_glyph\":null,\"nonselection_glyph\":null,\"selection_glyph\":null},\"id\":\"fdfbc6cb-490e-4b01-8f27-5f839ac94e07\",\"type\":\"GlyphRenderer\"},{\"attributes\":{\"data_source\":{\"id\":\"da2e055b-21e4-438c-a782-36c6fb21ac0d\",\"type\":\"ColumnDataSource\"},\"glyph\":{\"id\":\"19f43838-e05e-49ae-9291-855670e90ac1\",\"type\":\"Circle\"},\"hover_glyph\":null,\"nonselection_glyph\":null,\"selection_glyph\":null},\"id\":\"9af01257-b70b-4a42-a070-78987344295a\",\"type\":\"GlyphRenderer\"},{\"attributes\":{\"fill_alpha\":{\"value\":0.7},\"fill_color\":{\"value\":\"#aec7e8\"},\"line_color\":{\"value\":\"#aec7e8\"},\"size\":{\"units\":\"screen\",\"value\":8},\"x\":{\"field\":\"x_values\"},\"y\":{\"field\":\"y_values\"}},\"id\":\"930d268d-80a1-4f79-b89b-365299c487be\",\"type\":\"Circle\"},{\"attributes\":{},\"id\":\"708d6fd4-c517-42ec-ac9d-1d81014804bc\",\"type\":\"BasicTickFormatter\"},{\"attributes\":{\"callback\":null,\"column_names\":[\"x_values\",\"y_values\"],\"data\":{\"chart_index\":[{\"clusterLabel\":86},{\"clusterLabel\":86},{\"clusterLabel\":86},{\"clusterLabel\":86},{\"clusterLabel\":86}],\"clusterLabel\":[86,86,86,86,86],\"x_values\":{\"__ndarray__\":\"70ud2g98NMAGB9HjpDE0wLsf61nZYjTAeM2qCQ0TNMC60yy3heE0wA==\",\"dtype\":\"float64\",\"shape\":[5]},\"y_values\":{\"__ndarray__\":\"ncbJShKKJ0BWbeEJj/0nQFYmrRDUXidAQ9/o0/rOJkBCDDLaozUnQA==\",\"dtype\":\"float64\",\"shape\":[5]}}},\"id\":\"43584cc1-e24e-4e08-b82e-e55ccf461c29\",\"type\":\"ColumnDataSource\"},{\"attributes\":{\"callback\":null,\"column_names\":[\"x_values\",\"y_values\"],\"data\":{\"chart_index\":[{\"clusterLabel\":49},{\"clusterLabel\":49},{\"clusterLabel\":49},{\"clusterLabel\":49},{\"clusterLabel\":49},{\"clusterLabel\":49},{\"clusterLabel\":49},{\"clusterLabel\":49},{\"clusterLabel\":49}],\"clusterLabel\":[49,49,49,49,49,49,49,49,49],\"x_values\":{\"__ndarray__\":\"xP8ohWcAI8Chz445w5YjwD4G5ZpiSSLA4YTyR81gIcA7mLALtewjwJx35AYiqiHAmamCzp2KI8C153PHLHYhwPdSjKeZSyLA\",\"dtype\":\"float64\",\"shape\":[9]},\"y_values\":{\"__ndarray__\":\"WTMfQ44I+b+uxXeeAsQCwLgf11JPhPO/fYOjIt/M/r90C0idsAQBwOdyCem/Ffi/jNanXQLG/b+G7pyZdLj5vzfFlW9cnPi/\",\"dtype\":\"float64\",\"shape\":[9]}}},\"id\":\"7cd4adea-c2df-45c0-b938-07740c308af8\",\"type\":\"ColumnDataSource\"},{\"attributes\":{\"callback\":null,\"column_names\":[\"x_values\",\"y_values\"],\"data\":{\"chart_index\":[{\"clusterLabel\":103},{\"clusterLabel\":103},{\"clusterLabel\":103},{\"clusterLabel\":103},{\"clusterLabel\":103},{\"clusterLabel\":103}],\"clusterLabel\":[103,103,103,103,103,103],\"x_values\":{\"__ndarray__\":\"8DmRLSHWK8ApDicmhf8rwMcGzrEglCvAuS6vJv6zLMA3IHF+ezsswD5xv0F9ICzA\",\"dtype\":\"float64\",\"shape\":[6]},\"y_values\":{\"__ndarray__\":\"Jb1t7SCVE0Cd/+FeixEWQB7CvP+tYhdADp8WkU/mFUDXBp9HwfcUQPkWA1Z40xZA\",\"dtype\":\"float64\",\"shape\":[6]}}},\"id\":\"a9c5ac34-702b-4582-a56a-17d01636ac6d\",\"type\":\"ColumnDataSource\"},{\"attributes\":{\"label\":{\"value\":\"65\"},\"renderers\":[{\"id\":\"cecc752f-1a76-43ad-bba8-78befbc36e34\",\"type\":\"GlyphRenderer\"}]},\"id\":\"de25d41b-9ef9-4822-b5c3-aaf48b72e862\",\"type\":\"LegendItem\"},{\"attributes\":{\"fill_alpha\":{\"value\":0.7},\"fill_color\":{\"value\":\"#ff7f0e\"},\"line_color\":{\"value\":\"#ff7f0e\"},\"size\":{\"units\":\"screen\",\"value\":8},\"x\":{\"field\":\"x_values\"},\"y\":{\"field\":\"y_values\"}},\"id\":\"de0c21e0-83ac-4c2b-8518-56b96bd0dbbb\",\"type\":\"Circle\"},{\"attributes\":{\"callback\":null,\"column_names\":[\"x_values\",\"y_values\"],\"data\":{\"chart_index\":[{\"clusterLabel\":69},{\"clusterLabel\":69},{\"clusterLabel\":69},{\"clusterLabel\":69},{\"clusterLabel\":69},{\"clusterLabel\":69},{\"clusterLabel\":69},{\"clusterLabel\":69},{\"clusterLabel\":69}],\"clusterLabel\":[69,69,69,69,69,69,69,69,69],\"x_values\":{\"__ndarray__\":\"Qvy6H3R05L9W2JD8v1bnv/7N0WLopsy/8hN4MUu20z9IpfHlycnIP/PZZOd4Z+S/Dg2rMUMD3b+eQuEZQWzGPzyMmJfhgGc/\",\"dtype\":\"float64\",\"shape\":[9]},\"y_values\":{\"__ndarray__\":\"5o+T1LEIGECMdnAaHRsYQPb3ZSrtMBZAKpCZG1JDF0CFIHs/0BoWQARK4MCapxVATG4b/EaLF0C9Sq4RYIMVQJp6K50eXhZA\",\"dtype\":\"float64\",\"shape\":[9]}}},\"id\":\"2d26a0d5-804e-4654-840d-012ad3cdfc4a\",\"type\":\"ColumnDataSource\"},{\"attributes\":{\"callback\":null,\"column_names\":[\"x_values\",\"y_values\"],\"data\":{\"chart_index\":[{\"clusterLabel\":30},{\"clusterLabel\":30},{\"clusterLabel\":30},{\"clusterLabel\":30},{\"clusterLabel\":30},{\"clusterLabel\":30},{\"clusterLabel\":30},{\"clusterLabel\":30},{\"clusterLabel\":30},{\"clusterLabel\":30}],\"clusterLabel\":[30,30,30,30,30,30,30,30,30,30],\"x_values\":{\"__ndarray__\":\"PWJCWohMNEB1n/orDfAyQEDZMh5LojNAcG6ivhVVNEDRZNe1zLIyQELPgJIcJDRAZTp5ZO7mMkAY0Ar3GPwyQHRnCK2rTDNAURKylS7JM0A=\",\"dtype\":\"float64\",\"shape\":[10]},\"y_values\":{\"__ndarray__\":\"5A3gnwFwIEAYiza9TawgQEaedzlUpx1A2yD3lZU2HkCV6CBd5qcfQDwXf3Eacx9AHUtoaka7HUAPzzExVaIfQCcGiGLOuR5AUeH7sVePHkA=\",\"dtype\":\"float64\",\"shape\":[10]}}},\"id\":\"3578f8dc-ce3f-4927-927b-58dd50b28d20\",\"type\":\"ColumnDataSource\"},{\"attributes\":{\"fill_alpha\":{\"value\":0.7},\"fill_color\":{\"value\":\"#8c564b\"},\"line_color\":{\"value\":\"#8c564b\"},\"size\":{\"units\":\"screen\",\"value\":8},\"x\":{\"field\":\"x_values\"},\"y\":{\"field\":\"y_values\"}},\"id\":\"4228c1c6-b575-4676-939a-e9606d4aaea0\",\"type\":\"Circle\"},{\"attributes\":{\"fill_alpha\":{\"value\":0.7},\"fill_color\":{\"value\":\"#1f77b4\"},\"line_color\":{\"value\":\"#1f77b4\"},\"size\":{\"units\":\"screen\",\"value\":8},\"x\":{\"field\":\"x_values\"},\"y\":{\"field\":\"y_values\"}},\"id\":\"0b5b4343-6725-4331-95fe-5ae92e533a43\",\"type\":\"Circle\"},{\"attributes\":{\"callback\":null,\"column_names\":[\"x_values\",\"y_values\"],\"data\":{\"chart_index\":[{\"clusterLabel\":120},{\"clusterLabel\":120},{\"clusterLabel\":120},{\"clusterLabel\":120}],\"clusterLabel\":[120,120,120,120],\"x_values\":{\"__ndarray__\":\"tj7mZSz6NMBQOpAzwHU1wD6+DHOHfDXA38Fra6BhNcA=\",\"dtype\":\"float64\",\"shape\":[4]},\"y_values\":{\"__ndarray__\":\"L1rlhWLu8D+RhzvxtIHtP/lHceJ+4vI/n11mSdz06j8=\",\"dtype\":\"float64\",\"shape\":[4]}}},\"id\":\"52dd82b8-31b0-41fd-a2cb-d678de519b60\",\"type\":\"ColumnDataSource\"},{\"attributes\":{\"callback\":null,\"column_names\":[\"x_values\",\"y_values\"],\"data\":{\"chart_index\":[{\"clusterLabel\":113},{\"clusterLabel\":113},{\"clusterLabel\":113},{\"clusterLabel\":113}],\"clusterLabel\":[113,113,113,113],\"x_values\":{\"__ndarray__\":\"Pp1ijXR8MsCGOMsZB9cywOlVeEzTvzLAKJtjvFwQM8A=\",\"dtype\":\"float64\",\"shape\":[4]},\"y_values\":{\"__ndarray__\":\"zdhMGtK8GEC+LNN1TkkaQJR+i5WI/xhAaUREbkY+GEA=\",\"dtype\":\"float64\",\"shape\":[4]}}},\"id\":\"801b8a05-8283-4fed-9ec4-e49f54cf6425\",\"type\":\"ColumnDataSource\"},{\"attributes\":{\"data_source\":{\"id\":\"eb8a7121-d9cf-4b41-adb5-0c47061f05bd\",\"type\":\"ColumnDataSource\"},\"glyph\":{\"id\":\"25ed1c30-9624-4fbc-97be-7fa3c55263a0\",\"type\":\"Circle\"},\"hover_glyph\":null,\"nonselection_glyph\":null,\"selection_glyph\":null},\"id\":\"b1453050-8e72-48c9-968d-4c75aada6ac3\",\"type\":\"GlyphRenderer\"},{\"attributes\":{\"plot\":{\"id\":\"3e35d95a-dc3d-4892-841b-3df199efd437\",\"subtype\":\"Chart\",\"type\":\"Plot\"}},\"id\":\"298b7eef-1839-44ab-8a49-95f0c5024ccc\",\"type\":\"ResizeTool\"},{\"attributes\":{\"fill_alpha\":{\"value\":0.7},\"fill_color\":{\"value\":\"#c49c94\"},\"line_color\":{\"value\":\"#c49c94\"},\"size\":{\"units\":\"screen\",\"value\":8},\"x\":{\"field\":\"x_values\"},\"y\":{\"field\":\"y_values\"}},\"id\":\"cb6c07fc-8114-4e4d-8783-2840456dbc0b\",\"type\":\"Circle\"},{\"attributes\":{\"fill_alpha\":{\"value\":0.7},\"fill_color\":{\"value\":\"#d62728\"},\"line_color\":{\"value\":\"#d62728\"},\"size\":{\"units\":\"screen\",\"value\":8},\"x\":{\"field\":\"x_values\"},\"y\":{\"field\":\"y_values\"}},\"id\":\"52a87c61-3ca3-4b1b-b979-636cc856539c\",\"type\":\"Circle\"},{\"attributes\":{\"fill_alpha\":{\"value\":0.7},\"fill_color\":{\"value\":\"#c5b0d5\"},\"line_color\":{\"value\":\"#c5b0d5\"},\"size\":{\"units\":\"screen\",\"value\":8},\"x\":{\"field\":\"x_values\"},\"y\":{\"field\":\"y_values\"}},\"id\":\"0fd7294c-5fea-4a3b-a128-f8d24ad6c19e\",\"type\":\"Circle\"},{\"attributes\":{\"callback\":null,\"column_names\":[\"x_values\",\"y_values\"],\"data\":{\"chart_index\":[{\"clusterLabel\":108},{\"clusterLabel\":108},{\"clusterLabel\":108},{\"clusterLabel\":108},{\"clusterLabel\":108}],\"clusterLabel\":[108,108,108,108,108],\"x_values\":{\"__ndarray__\":\"MaNkrgC1+L9mQkTlJkX1v3M1aZWmNv6/V6WJ5d0Z97+mmM/+Ofbxvw==\",\"dtype\":\"float64\",\"shape\":[5]},\"y_values\":{\"__ndarray__\":\"1N0SIuMVK8C/QWGQFigswHKHr5u8KSvAyxyr0AblK8Bw0B6j6J0rwA==\",\"dtype\":\"float64\",\"shape\":[5]}}},\"id\":\"bcfb305f-4f40-4f9f-ab9b-960e350fe387\",\"type\":\"ColumnDataSource\"},{\"attributes\":{\"items\":[{\"id\":\"5cbd675b-2b6b-4ae4-96d3-e056dce1ffd2\",\"type\":\"LegendItem\"},{\"id\":\"201204eb-a90d-44b0-a062-ed8ed626cfb9\",\"type\":\"LegendItem\"},{\"id\":\"8309bde6-9e40-4fd4-96d4-78f3c6e8826e\",\"type\":\"LegendItem\"},{\"id\":\"5d60da1b-afe1-4add-accf-dd936b8c8df5\",\"type\":\"LegendItem\"},{\"id\":\"fbc094ff-aa48-412e-988c-35dc688520b2\",\"type\":\"LegendItem\"},{\"id\":\"90edd6da-f75c-46d8-89bd-a9d27199308f\",\"type\":\"LegendItem\"},{\"id\":\"55e6aa4c-2b42-4f65-90c7-034147579021\",\"type\":\"LegendItem\"},{\"id\":\"cab700f8-8ada-4800-a487-f26d3dce1127\",\"type\":\"LegendItem\"},{\"id\":\"9fee2ffe-c01a-4a78-ad8c-0c426166b289\",\"type\":\"LegendItem\"},{\"id\":\"c828a55a-af03-42ef-9abd-c6df7b7450bb\",\"type\":\"LegendItem\"},{\"id\":\"2d967aed-7bcf-45a4-b1f9-9d417874a082\",\"type\":\"LegendItem\"},{\"id\":\"f8b75b84-b123-4784-92a7-3b2a73883b81\",\"type\":\"LegendItem\"},{\"id\":\"457833d8-45a4-4ff1-a65b-202204da17a0\",\"type\":\"LegendItem\"},{\"id\":\"1fb6c8b0-aaf1-4526-90f1-83c369d1a395\",\"type\":\"LegendItem\"},{\"id\":\"0692ae88-82b6-480e-98b3-e2752087ea57\",\"type\":\"LegendItem\"},{\"id\":\"3b8f29e1-3456-4b0e-ab26-7a369789b989\",\"type\":\"LegendItem\"},{\"id\":\"557eb0b3-4be5-4b9c-b2db-9b89478c0672\",\"type\":\"LegendItem\"},{\"id\":\"6f2f8d14-bfd1-4944-b171-91548aec561d\",\"type\":\"LegendItem\"},{\"id\":\"d6d46604-d21c-4488-ab52-d3d4d2832704\",\"type\":\"LegendItem\"},{\"id\":\"1b99dc82-4382-4878-a8b2-b2ca5e99e514\",\"type\":\"LegendItem\"},{\"id\":\"1265a11f-ec52-4fbf-8d87-5cd43067f5dc\",\"type\":\"LegendItem\"},{\"id\":\"ccd1025b-7e37-4007-9fab-e4e65e77229b\",\"type\":\"LegendItem\"},{\"id\":\"a0413fdf-ca2e-4578-8c82-06ff754ff58f\",\"type\":\"LegendItem\"},{\"id\":\"779776ae-624d-4edc-b4d6-27d198fadfaa\",\"type\":\"LegendItem\"},{\"id\":\"d812db9b-e43a-45ad-a50e-901b2b54b770\",\"type\":\"LegendItem\"},{\"id\":\"edb6b835-f692-4983-8ae2-adb2c009d893\",\"type\":\"LegendItem\"},{\"id\":\"da5996e6-b7b8-4e09-8eeb-88d2010516a3\",\"type\":\"LegendItem\"},{\"id\":\"27f0dd31-12b6-47a3-8da0-2d53db1d3267\",\"type\":\"LegendItem\"},{\"id\":\"87d9b18d-3a88-43fe-a8b7-befa021aca39\",\"type\":\"LegendItem\"},{\"id\":\"9d9c6f5a-b8d1-4fd9-a2ae-1c74dd27e669\",\"type\":\"LegendItem\"},{\"id\":\"cdcdf665-49a6-4980-84e6-6c9832dabfc5\",\"type\":\"LegendItem\"},{\"id\":\"5762379f-cb4a-42b5-8f6e-88b88a857cbd\",\"type\":\"LegendItem\"},{\"id\":\"0ee4984c-71c7-4804-acb1-43d306baa1a0\",\"type\":\"LegendItem\"},{\"id\":\"1f836a9c-6ca5-4f1a-b8a5-a59834b3c0a5\",\"type\":\"LegendItem\"},{\"id\":\"af6f5c7d-04df-41f2-8282-a0a13716dced\",\"type\":\"LegendItem\"},{\"id\":\"1998170e-73b0-4d07-923b-0a5de52eccff\",\"type\":\"LegendItem\"},{\"id\":\"8fa17855-09ab-4488-9be3-eb910f863688\",\"type\":\"LegendItem\"},{\"id\":\"0da80c7b-a137-44ec-bcfb-547fdc15d2ad\",\"type\":\"LegendItem\"},{\"id\":\"062d8a96-712f-46d6-9570-8283d84d29a5\",\"type\":\"LegendItem\"},{\"id\":\"5559a2ce-5a4e-4212-802f-991aee4e1f93\",\"type\":\"LegendItem\"},{\"id\":\"5bfc43e8-2225-4128-aedb-d393ad224607\",\"type\":\"LegendItem\"},{\"id\":\"51b22d06-eb2c-40a7-8570-aa91bbec1448\",\"type\":\"LegendItem\"},{\"id\":\"c2bbe966-88ed-4ebc-a974-bcc0e6021f24\",\"type\":\"LegendItem\"},{\"id\":\"496200ce-efc4-4238-b48a-7bd48f03de2d\",\"type\":\"LegendItem\"},{\"id\":\"85ca5550-fcec-41de-8673-e7f3ea3e61a4\",\"type\":\"LegendItem\"},{\"id\":\"e71b841a-cea9-43d6-86a1-37cca094e854\",\"type\":\"LegendItem\"},{\"id\":\"31ad9add-ce02-41f4-9a19-ae6d4504a693\",\"type\":\"LegendItem\"},{\"id\":\"c18c9f46-85d4-4477-a0d0-93c1f6535012\",\"type\":\"LegendItem\"},{\"id\":\"c350f96e-294b-4847-af40-451f482312c0\",\"type\":\"LegendItem\"},{\"id\":\"eec4cee3-8829-4e8e-a41e-33bb2891a0e1\",\"type\":\"LegendItem\"},{\"id\":\"e0346241-de46-49bc-96ed-4f3b2bedcd59\",\"type\":\"LegendItem\"},{\"id\":\"a4253783-194c-456f-87ba-ce5a2b302284\",\"type\":\"LegendItem\"},{\"id\":\"6cd85bd7-9196-4555-83a4-16fc60a2f140\",\"type\":\"LegendItem\"},{\"id\":\"eaaf36b1-9c2e-4749-9c54-b99659d01c35\",\"type\":\"LegendItem\"},{\"id\":\"76d51f29-9b02-46d3-b329-e483efb9ae53\",\"type\":\"LegendItem\"},{\"id\":\"6721e203-d194-437b-b7cd-488d857014ae\",\"type\":\"LegendItem\"},{\"id\":\"4cf1d236-8d4e-4fb5-bab8-e514a8cc2797\",\"type\":\"LegendItem\"},{\"id\":\"a72d202b-27e6-4376-ab55-3ae7e6bf1fae\",\"type\":\"LegendItem\"},{\"id\":\"7fa00ccb-0ac2-4a65-9d09-157465ce691e\",\"type\":\"LegendItem\"},{\"id\":\"eed19400-41be-45ee-8cf9-68ae1b44883a\",\"type\":\"LegendItem\"},{\"id\":\"c2a92d65-7ddc-43a5-ac08-4f4ba4eab5dc\",\"type\":\"LegendItem\"},{\"id\":\"c88ec95a-cb19-440d-ba99-0f020cb90db3\",\"type\":\"LegendItem\"},{\"id\":\"686525a2-d15a-436e-b9a4-100e6278d4c3\",\"type\":\"LegendItem\"},{\"id\":\"d1bb3847-d6da-4a81-9425-722fa48dfc67\",\"type\":\"LegendItem\"},{\"id\":\"bc99cc76-edbb-49a8-bc34-f8523a1f5061\",\"type\":\"LegendItem\"},{\"id\":\"3b3d8237-8a98-4be3-ae9e-5c5a3167cde2\",\"type\":\"LegendItem\"},{\"id\":\"8e4f6d71-caf9-4526-ad7c-a056ad24f63a\",\"type\":\"LegendItem\"},{\"id\":\"ca4527f7-f98e-441f-b77c-3814b2e1bb07\",\"type\":\"LegendItem\"},{\"id\":\"d4dc534c-7d52-4f1d-baed-45c090123111\",\"type\":\"LegendItem\"},{\"id\":\"9bacbf2c-3da1-4c93-80c8-2cc45b3f3565\",\"type\":\"LegendItem\"},{\"id\":\"de25d41b-9ef9-4822-b5c3-aaf48b72e862\",\"type\":\"LegendItem\"},{\"id\":\"ded2f9e5-35e1-42b4-9b23-ae6329955402\",\"type\":\"LegendItem\"},{\"id\":\"f0741f7f-bb8b-4c14-ad6a-7cb368779b07\",\"type\":\"LegendItem\"},{\"id\":\"e2381ae0-c149-4077-9cc1-5ec8e23e0fe5\",\"type\":\"LegendItem\"},{\"id\":\"a35147cf-97ab-4ba5-86a4-9c192c19a71b\",\"type\":\"LegendItem\"},{\"id\":\"0bd5b0ff-7b57-494e-8d14-eff0329b576f\",\"type\":\"LegendItem\"},{\"id\":\"58a74cca-f978-4728-9c91-2a7bd616c1e0\",\"type\":\"LegendItem\"},{\"id\":\"331e90cc-0033-4ee4-9b1e-d63c9e55ce69\",\"type\":\"LegendItem\"},{\"id\":\"8ed6f374-b8ad-4554-ae62-f6627185e100\",\"type\":\"LegendItem\"},{\"id\":\"970631c7-ad6d-4eb9-9a2d-65e288661e6a\",\"type\":\"LegendItem\"},{\"id\":\"f4a9cc3f-fba7-4a4f-a4c7-f279b1876d2b\",\"type\":\"LegendItem\"},{\"id\":\"491b96e2-158a-4cb6-a090-a9eda50808e7\",\"type\":\"LegendItem\"},{\"id\":\"e7d2de64-7801-4d63-ba3d-12472bacf66d\",\"type\":\"LegendItem\"},{\"id\":\"de95a559-3da1-4dbb-96b1-e6d1783ea8fe\",\"type\":\"LegendItem\"},{\"id\":\"80f6bb3d-7e74-45a8-99a3-2b11b82b7960\",\"type\":\"LegendItem\"},{\"id\":\"57e4dc84-8708-49fc-b991-425c97f46af7\",\"type\":\"LegendItem\"},{\"id\":\"b658df57-6853-4838-91ea-55681e246446\",\"type\":\"LegendItem\"},{\"id\":\"97fce722-caa3-4c9f-afe2-d0bb2f3f6de3\",\"type\":\"LegendItem\"},{\"id\":\"6758dcc6-cac3-4716-a432-9a547200288d\",\"type\":\"LegendItem\"},{\"id\":\"2eef0cf2-d9e8-4539-a390-0bd4e5917805\",\"type\":\"LegendItem\"},{\"id\":\"7e575ce4-622c-4465-8687-d231d72907e0\",\"type\":\"LegendItem\"},{\"id\":\"2fe9602a-4593-40ec-8842-8e4a12eb816f\",\"type\":\"LegendItem\"},{\"id\":\"7a3c239c-bae6-478c-9e64-3051dff8492a\",\"type\":\"LegendItem\"},{\"id\":\"49d2ea5b-b153-422c-803d-d3dbb925c954\",\"type\":\"LegendItem\"},{\"id\":\"2c7bac57-8a2d-4bb3-9fcf-45a74c5ebb6b\",\"type\":\"LegendItem\"},{\"id\":\"79b9d80d-18d5-43ac-a0bf-7d672ee9a66e\",\"type\":\"LegendItem\"},{\"id\":\"ec23d7d6-1f7b-4856-8aca-d191ed82e7e4\",\"type\":\"LegendItem\"},{\"id\":\"c8e9f3ec-9ecc-4d40-af4f-b8b2244673cd\",\"type\":\"LegendItem\"},{\"id\":\"cea625a6-d45f-4fc3-8db2-dcee78213d0d\",\"type\":\"LegendItem\"},{\"id\":\"87e46092-e1bf-493d-af59-c7a2f027dcc2\",\"type\":\"LegendItem\"},{\"id\":\"fd832793-85fc-4785-9c94-b9c46bd99348\",\"type\":\"LegendItem\"},{\"id\":\"394b89c0-b172-45bf-85d5-49ffd91c19ed\",\"type\":\"LegendItem\"},{\"id\":\"2d823f51-4b0a-4c3f-8218-efb117770348\",\"type\":\"LegendItem\"},{\"id\":\"e00e882b-1e47-480d-a2fb-c537dec34165\",\"type\":\"LegendItem\"},{\"id\":\"923aafb4-4d9e-44a4-b228-8530b64b0587\",\"type\":\"LegendItem\"},{\"id\":\"0a2749d9-9bec-4995-986c-1cb1f6de7d3a\",\"type\":\"LegendItem\"},{\"id\":\"c426b7e0-90bd-44f4-8f64-1da3ec19fc04\",\"type\":\"LegendItem\"},{\"id\":\"0016ab7a-454a-470b-b2a9-7e8cf9581345\",\"type\":\"LegendItem\"},{\"id\":\"cc2c2cfe-3adc-4fe3-9c8c-2847bcd3098b\",\"type\":\"LegendItem\"},{\"id\":\"dbf72205-eb1a-4c93-93ec-2140bd2d576c\",\"type\":\"LegendItem\"},{\"id\":\"0f266315-f425-4f19-9190-68e1e313dfaa\",\"type\":\"LegendItem\"},{\"id\":\"ba87cd88-397d-43ed-ba8c-8e5bd0cea4b3\",\"type\":\"LegendItem\"},{\"id\":\"820e5070-17e8-4fe5-9852-28768323dff4\",\"type\":\"LegendItem\"},{\"id\":\"fa486d68-3fc0-43c2-bf06-ac9b458b904f\",\"type\":\"LegendItem\"},{\"id\":\"2ee64623-1cac-4bb7-869c-3a4daf4ae594\",\"type\":\"LegendItem\"},{\"id\":\"5b316b3c-7cc1-4156-a18d-bcf2f8090102\",\"type\":\"LegendItem\"},{\"id\":\"f1c43543-cdf2-44ea-b6d2-176882b7a6cb\",\"type\":\"LegendItem\"},{\"id\":\"4ea8ca47-8d9c-46fe-bc4c-285ad1b30ae4\",\"type\":\"LegendItem\"},{\"id\":\"f3d33cd2-8c49-4e9d-95e4-3cf355d0a581\",\"type\":\"LegendItem\"},{\"id\":\"939679ee-9300-45e2-8c53-3e0b6a15f43c\",\"type\":\"LegendItem\"},{\"id\":\"b4000389-5ae5-4d0e-91a9-f5292916080c\",\"type\":\"LegendItem\"},{\"id\":\"92047b83-5cca-4eb4-99f6-d92a567ddbc1\",\"type\":\"LegendItem\"}],\"location\":\"top_left\",\"plot\":{\"id\":\"3e35d95a-dc3d-4892-841b-3df199efd437\",\"subtype\":\"Chart\",\"type\":\"Plot\"}},\"id\":\"231af9f1-b48b-4544-b99a-e05987cc8114\",\"type\":\"Legend\"},{\"attributes\":{\"fill_alpha\":{\"value\":0.7},\"fill_color\":{\"value\":\"#9edae5\"},\"line_color\":{\"value\":\"#9edae5\"},\"size\":{\"units\":\"screen\",\"value\":8},\"x\":{\"field\":\"x_values\"},\"y\":{\"field\":\"y_values\"}},\"id\":\"205c2fa5-d395-4050-941f-3434dcb614d9\",\"type\":\"Circle\"},{\"attributes\":{\"fill_alpha\":{\"value\":0.7},\"fill_color\":{\"value\":\"#1f77b4\"},\"line_color\":{\"value\":\"#1f77b4\"},\"size\":{\"units\":\"screen\",\"value\":8},\"x\":{\"field\":\"x_values\"},\"y\":{\"field\":\"y_values\"}},\"id\":\"a07057bf-b50a-4434-9aef-b535593da113\",\"type\":\"Circle\"},{\"attributes\":{\"callback\":null,\"column_names\":[\"x_values\",\"y_values\"],\"data\":{\"chart_index\":[{\"clusterLabel\":104},{\"clusterLabel\":104},{\"clusterLabel\":104},{\"clusterLabel\":104},{\"clusterLabel\":104},{\"clusterLabel\":104},{\"clusterLabel\":104},{\"clusterLabel\":104},{\"clusterLabel\":104}],\"clusterLabel\":[104,104,104,104,104,104,104,104,104],\"x_values\":{\"__ndarray__\":\"lhDRQehbNMBNyj4kcQI0wK27p9xBJjTA9y/qYtVwM8CRPmCmVNYzwKb+xfdhMTTAxsTQbWjlM8AdNlmogTM0wOKy1c0/6TPA\",\"dtype\":\"float64\",\"shape\":[9]},\"y_values\":{\"__ndarray__\":\"DX3OU18d6D+wecwrurbHP/tN1P5WmNG/03J/nvr24r94W8y1Xungv4unaZR609U/472Ca4Qz3r+mJt96OnnVv3AoPb58qay/\",\"dtype\":\"float64\",\"shape\":[9]}}},\"id\":\"ec25e8cb-8a14-4ae6-a540-3c34d945b376\",\"type\":\"ColumnDataSource\"},{\"attributes\":{\"fill_alpha\":{\"value\":0.7},\"fill_color\":{\"value\":\"#1f77b4\"},\"line_color\":{\"value\":\"#1f77b4\"},\"size\":{\"units\":\"screen\",\"value\":8},\"x\":{\"field\":\"x_values\"},\"y\":{\"field\":\"y_values\"}},\"id\":\"fff2862b-5236-496f-9b79-856c8ae2d46c\",\"type\":\"Circle\"},{\"attributes\":{\"fill_alpha\":{\"value\":0.7},\"fill_color\":{\"value\":\"#9467bd\"},\"line_color\":{\"value\":\"#9467bd\"},\"size\":{\"units\":\"screen\",\"value\":8},\"x\":{\"field\":\"x_values\"},\"y\":{\"field\":\"y_values\"}},\"id\":\"a95897a7-2519-4871-ad8b-ba1cd790cf54\",\"type\":\"Circle\"},{\"attributes\":{\"label\":{\"value\":\"84\"},\"renderers\":[{\"id\":\"bfdbe376-9f10-4090-980d-d9760a40fe8a\",\"type\":\"GlyphRenderer\"}]},\"id\":\"7e575ce4-622c-4465-8687-d231d72907e0\",\"type\":\"LegendItem\"},{\"attributes\":{\"callback\":null,\"column_names\":[\"x_values\",\"y_values\"],\"data\":{\"chart_index\":[{\"clusterLabel\":52},{\"clusterLabel\":52},{\"clusterLabel\":52},{\"clusterLabel\":52}],\"clusterLabel\":[52,52,52,52],\"x_values\":{\"__ndarray__\":\"ott83MmSLUBRfy4/RWUtQPfpVxoMgS1AYIfX+CxdLUA=\",\"dtype\":\"float64\",\"shape\":[4]},\"y_values\":{\"__ndarray__\":\"JZIQDnV9E0DiprJ39SISQB+PtX4wdxNAAHZKa4BkFEA=\",\"dtype\":\"float64\",\"shape\":[4]}}},\"id\":\"c292d9ea-7319-4b16-b771-19f326f8ef6c\",\"type\":\"ColumnDataSource\"},{\"attributes\":{\"label\":{\"value\":\"51\"},\"renderers\":[{\"id\":\"0f589ca7-da9e-4001-8abd-3f915dc1bf53\",\"type\":\"GlyphRenderer\"}]},\"id\":\"eaaf36b1-9c2e-4749-9c54-b99659d01c35\",\"type\":\"LegendItem\"},{\"attributes\":{\"label\":{\"value\":\"117\"},\"renderers\":[{\"id\":\"3f2a71c5-ce04-42ef-9aeb-9a6c0cbada32\",\"type\":\"GlyphRenderer\"}]},\"id\":\"b4000389-5ae5-4d0e-91a9-f5292916080c\",\"type\":\"LegendItem\"},{\"attributes\":{\"callback\":null,\"column_names\":[\"x_values\",\"y_values\"],\"data\":{\"chart_index\":[{\"clusterLabel\":15},{\"clusterLabel\":15},{\"clusterLabel\":15},{\"clusterLabel\":15}],\"clusterLabel\":[15,15,15,15],\"x_values\":{\"__ndarray__\":\"fo/QKRPiFMDkWQgh8zQUwG5hvfUM2RPAdpYX9dyNFMA=\",\"dtype\":\"float64\",\"shape\":[4]},\"y_values\":{\"__ndarray__\":\"BjDv4RhhBUBQCXPawDcFQAAB94NK0gVAdgX0HdBVBUA=\",\"dtype\":\"float64\",\"shape\":[4]}}},\"id\":\"fc23cf09-1caa-4fb5-9300-ec86eb45b0f0\",\"type\":\"ColumnDataSource\"},{\"attributes\":{\"fill_alpha\":{\"value\":0.7},\"fill_color\":{\"value\":\"#d62728\"},\"line_color\":{\"value\":\"#d62728\"},\"size\":{\"units\":\"screen\",\"value\":8},\"x\":{\"field\":\"x_values\"},\"y\":{\"field\":\"y_values\"}},\"id\":\"0fbd1266-2747-4b81-b30b-a8e100189c4f\",\"type\":\"Circle\"},{\"attributes\":{},\"id\":\"07bcbf8d-00ef-4c02-a6fa-ef26859e33bd\",\"type\":\"BasicTicker\"},{\"attributes\":{\"label\":{\"value\":\"21\"},\"renderers\":[{\"id\":\"82f4a006-1f2b-4ef9-8e99-3fafac2eaec1\",\"type\":\"GlyphRenderer\"}]},\"id\":\"9d9c6f5a-b8d1-4fd9-a2ae-1c74dd27e669\",\"type\":\"LegendItem\"},{\"attributes\":{\"fill_alpha\":{\"value\":0.7},\"fill_color\":{\"value\":\"#2ca02c\"},\"line_color\":{\"value\":\"#2ca02c\"},\"size\":{\"units\":\"screen\",\"value\":8},\"x\":{\"field\":\"x_values\"},\"y\":{\"field\":\"y_values\"}},\"id\":\"fe73a990-b88f-44f1-b18c-41d7becbb69f\",\"type\":\"Circle\"},{\"attributes\":{\"label\":{\"value\":\"108\"},\"renderers\":[{\"id\":\"b045a62a-a7c0-4dfc-8f28-87bf2a7c3082\",\"type\":\"GlyphRenderer\"}]},\"id\":\"f1c43543-cdf2-44ea-b6d2-176882b7a6cb\",\"type\":\"LegendItem\"},{\"attributes\":{\"callback\":null,\"column_names\":[\"x_values\",\"y_values\"],\"data\":{\"chart_index\":[{\"clusterLabel\":70},{\"clusterLabel\":70},{\"clusterLabel\":70},{\"clusterLabel\":70},{\"clusterLabel\":70}],\"clusterLabel\":[70,70,70,70,70],\"x_values\":{\"__ndarray__\":\"IES1faKbCsB8rsEnTxUMwFKdivLoDAzALnHd7+EjDMBYx9+Ck88LwA==\",\"dtype\":\"float64\",\"shape\":[5]},\"y_values\":{\"__ndarray__\":\"6W+mKG6oMEBUcX4nFakwQKKes/I2qTBA+GGKlGOpMEB+iOjZuagwQA==\",\"dtype\":\"float64\",\"shape\":[5]}}},\"id\":\"2b887ab4-bd6c-489d-99ac-379313c67849\",\"type\":\"ColumnDataSource\"},{\"attributes\":{\"label\":{\"value\":\"11\"},\"renderers\":[{\"id\":\"62423918-aac5-4e88-a781-327c6e7114b8\",\"type\":\"GlyphRenderer\"}]},\"id\":\"0692ae88-82b6-480e-98b3-e2752087ea57\",\"type\":\"LegendItem\"},{\"attributes\":{\"fill_alpha\":{\"value\":0.7},\"fill_color\":{\"value\":\"#ff7f0e\"},\"line_color\":{\"value\":\"#ff7f0e\"},\"size\":{\"units\":\"screen\",\"value\":8},\"x\":{\"field\":\"x_values\"},\"y\":{\"field\":\"y_values\"}},\"id\":\"b2873f72-8c04-4acd-bac1-892a53ed3cad\",\"type\":\"Circle\"},{\"attributes\":{\"label\":{\"value\":\"12\"},\"renderers\":[{\"id\":\"13c7d421-b31d-4928-ab3f-7df48390c3f2\",\"type\":\"GlyphRenderer\"}]},\"id\":\"1b99dc82-4382-4878-a8b2-b2ca5e99e514\",\"type\":\"LegendItem\"},{\"attributes\":{\"data_source\":{\"id\":\"cbd16618-c2f0-4f6b-9b85-31749c90f1f2\",\"type\":\"ColumnDataSource\"},\"glyph\":{\"id\":\"b32a14c4-fae5-4a45-8a60-b662dba0e07c\",\"type\":\"Circle\"},\"hover_glyph\":null,\"nonselection_glyph\":null,\"selection_glyph\":null},\"id\":\"f21566f0-58ca-4dd0-8cca-8a123bdefabe\",\"type\":\"GlyphRenderer\"},{\"attributes\":{\"fill_alpha\":{\"value\":0.7},\"fill_color\":{\"value\":\"#ff7f0e\"},\"line_color\":{\"value\":\"#ff7f0e\"},\"size\":{\"units\":\"screen\",\"value\":8},\"x\":{\"field\":\"x_values\"},\"y\":{\"field\":\"y_values\"}},\"id\":\"9e4a9b1c-6788-4e36-aa1c-f393305069dc\",\"type\":\"Circle\"},{\"attributes\":{\"data_source\":{\"id\":\"413e318a-e993-4d42-9f17-5bd8f2044160\",\"type\":\"ColumnDataSource\"},\"glyph\":{\"id\":\"a3d86a2f-a7c4-4c1b-88cb-e3ebc2cdf314\",\"type\":\"Circle\"},\"hover_glyph\":null,\"nonselection_glyph\":null,\"selection_glyph\":null},\"id\":\"dc30a43e-88f5-4496-89c9-55f081cb8676\",\"type\":\"GlyphRenderer\"},{\"attributes\":{\"fill_alpha\":{\"value\":0.7},\"fill_color\":{\"value\":\"#ffbb78\"},\"line_color\":{\"value\":\"#ffbb78\"},\"size\":{\"units\":\"screen\",\"value\":8},\"x\":{\"field\":\"x_values\"},\"y\":{\"field\":\"y_values\"}},\"id\":\"f2d7f0be-ff9c-4540-a93a-dcd60cf691c9\",\"type\":\"Circle\"},{\"attributes\":{\"callback\":null,\"column_names\":[\"x_values\",\"y_values\"],\"data\":{\"chart_index\":[{\"clusterLabel\":92},{\"clusterLabel\":92},{\"clusterLabel\":92},{\"clusterLabel\":92},{\"clusterLabel\":92},{\"clusterLabel\":92}],\"clusterLabel\":[92,92,92,92,92,92],\"x_values\":{\"__ndarray__\":\"/4OAPuTFIsA8L3iHF6whwNqFOM/wPiLA0CVCB7FuIsD3xC76TfUhwN5+0vVkLiLA\",\"dtype\":\"float64\",\"shape\":[6]},\"y_values\":{\"__ndarray__\":\"rBf6+ApfIEALL9REeCcfQOJb2vedFB9AQNxg88h5IEDItpKaWckgQGx+zPHPhyBA\",\"dtype\":\"float64\",\"shape\":[6]}}},\"id\":\"7aaadd3a-e49c-4e6f-bad0-4672d757b4be\",\"type\":\"ColumnDataSource\"},{\"attributes\":{\"label\":{\"value\":\"100\"},\"renderers\":[{\"id\":\"9fcd2433-f4a3-46c3-805d-afb7135d3672\",\"type\":\"GlyphRenderer\"}]},\"id\":\"ba87cd88-397d-43ed-ba8c-8e5bd0cea4b3\",\"type\":\"LegendItem\"},{\"attributes\":{\"fill_alpha\":{\"value\":0.7},\"fill_color\":{\"value\":\"#98df8a\"},\"line_color\":{\"value\":\"#98df8a\"},\"size\":{\"units\":\"screen\",\"value\":8},\"x\":{\"field\":\"x_values\"},\"y\":{\"field\":\"y_values\"}},\"id\":\"0685bca9-5626-44fc-8781-d75d977685aa\",\"type\":\"Circle\"},{\"attributes\":{\"fill_alpha\":{\"value\":0.7},\"fill_color\":{\"value\":\"#17becf\"},\"line_color\":{\"value\":\"#17becf\"},\"size\":{\"units\":\"screen\",\"value\":8},\"x\":{\"field\":\"x_values\"},\"y\":{\"field\":\"y_values\"}},\"id\":\"4049f861-a876-4761-8ac5-887243cc1655\",\"type\":\"Circle\"},{\"attributes\":{\"callback\":null,\"plot\":{\"id\":\"3e35d95a-dc3d-4892-841b-3df199efd437\",\"subtype\":\"Chart\",\"type\":\"Plot\"}},\"id\":\"040320d7-35d2-4a6c-8225-2f7a94080adc\",\"type\":\"HoverTool\"},{\"attributes\":{\"label\":{\"value\":\"20\"},\"renderers\":[{\"id\":\"e7dbf695-34ab-4ccf-8ac4-c68b297fddc7\",\"type\":\"GlyphRenderer\"}]},\"id\":\"87d9b18d-3a88-43fe-a8b7-befa021aca39\",\"type\":\"LegendItem\"},{\"attributes\":{\"label\":{\"value\":\"48\"},\"renderers\":[{\"id\":\"bf83c75b-1889-4ae7-aa2e-ba18af8be46a\",\"type\":\"GlyphRenderer\"}]},\"id\":\"4cf1d236-8d4e-4fb5-bab8-e514a8cc2797\",\"type\":\"LegendItem\"},{\"attributes\":{\"data_source\":{\"id\":\"2b887ab4-bd6c-489d-99ac-379313c67849\",\"type\":\"ColumnDataSource\"},\"glyph\":{\"id\":\"20d9d503-7a8e-4f46-a18a-a7b7f6f1ebb7\",\"type\":\"Circle\"},\"hover_glyph\":null,\"nonselection_glyph\":null,\"selection_glyph\":null},\"id\":\"15870f64-1f9a-425d-8ea5-645523e6b3c9\",\"type\":\"GlyphRenderer\"},{\"attributes\":{\"fill_alpha\":{\"value\":0.7},\"fill_color\":{\"value\":\"#e377c2\"},\"line_color\":{\"value\":\"#e377c2\"},\"size\":{\"units\":\"screen\",\"value\":8},\"x\":{\"field\":\"x_values\"},\"y\":{\"field\":\"y_values\"}},\"id\":\"91f730f9-7ce6-412d-a10f-fd745341b42a\",\"type\":\"Circle\"},{\"attributes\":{\"data_source\":{\"id\":\"de0f0dc2-61da-4154-b386-5a7aa86619b4\",\"type\":\"ColumnDataSource\"},\"glyph\":{\"id\":\"7bc42bca-5999-4da9-90e1-e020f445e0c8\",\"type\":\"Circle\"},\"hover_glyph\":null,\"nonselection_glyph\":null,\"selection_glyph\":null},\"id\":\"66012203-b6c3-4cd1-8489-a140a334468f\",\"type\":\"GlyphRenderer\"},{\"attributes\":{\"callback\":null,\"column_names\":[\"x_values\",\"y_values\"],\"data\":{\"chart_index\":[{\"clusterLabel\":96},{\"clusterLabel\":96},{\"clusterLabel\":96},{\"clusterLabel\":96},{\"clusterLabel\":96},{\"clusterLabel\":96}],\"clusterLabel\":[96,96,96,96,96,96],\"x_values\":{\"__ndarray__\":\"VtuPZKiTNMC2J7qCx6Q0wFRH//+L/jPAhk0yncRJNMCW+XF2vBo1wF9Rj/pEfDTA\",\"dtype\":\"float64\",\"shape\":[6]},\"y_values\":{\"__ndarray__\":\"QgKLhcLoJUDeCeaiy3glQPnW54/znyRApuhSSRgzJUDCaebQMcwlQFbDFHf0QSVA\",\"dtype\":\"float64\",\"shape\":[6]}}},\"id\":\"b4b4070a-f220-41e4-8654-f3658a9504e8\",\"type\":\"ColumnDataSource\"},{\"attributes\":{\"fill_alpha\":{\"value\":0.7},\"fill_color\":{\"value\":\"#ffbb78\"},\"line_color\":{\"value\":\"#ffbb78\"},\"size\":{\"units\":\"screen\",\"value\":8},\"x\":{\"field\":\"x_values\"},\"y\":{\"field\":\"y_values\"}},\"id\":\"43205a43-1fe2-40da-9585-3c36f40a0e56\",\"type\":\"Circle\"},{\"attributes\":{\"data_source\":{\"id\":\"82c23110-59fe-4d99-9215-61c56fca9144\",\"type\":\"ColumnDataSource\"},\"glyph\":{\"id\":\"df1be9ea-b84c-4411-b1c8-cdd0eb6bd615\",\"type\":\"Circle\"},\"hover_glyph\":null,\"nonselection_glyph\":null,\"selection_glyph\":null},\"id\":\"9134e59c-7afe-467f-806b-8111b7b77bd1\",\"type\":\"GlyphRenderer\"},{\"attributes\":{\"callback\":null,\"column_names\":[\"x_values\",\"y_values\"],\"data\":{\"chart_index\":[{\"clusterLabel\":35},{\"clusterLabel\":35},{\"clusterLabel\":35},{\"clusterLabel\":35},{\"clusterLabel\":35},{\"clusterLabel\":35}],\"clusterLabel\":[35,35,35,35,35,35],\"x_values\":{\"__ndarray__\":\"HGI5SCgo4r/4Q7FRn0LovyJyUbw7bue/tffCTzJe6r/p8hIs+0Tov+S539PwLOC/\",\"dtype\":\"float64\",\"shape\":[6]},\"y_values\":{\"__ndarray__\":\"38ZA2u5xIsAXkPmEOCMiwJmK9ZirZSLAGb7l5x+XIsAVUhNqOkAiwIGHqWMqbSLA\",\"dtype\":\"float64\",\"shape\":[6]}}},\"id\":\"b6906b3f-0adb-44fc-88ef-add516f69e3a\",\"type\":\"ColumnDataSource\"},{\"attributes\":{\"data_source\":{\"id\":\"f2a71e07-976a-4b26-bf23-9a3fa5bf0095\",\"type\":\"ColumnDataSource\"},\"glyph\":{\"id\":\"c495f0d4-3a98-4da0-9b73-fdcd08ddc5b4\",\"type\":\"Circle\"},\"hover_glyph\":null,\"nonselection_glyph\":null,\"selection_glyph\":null},\"id\":\"65577a2f-ae57-4bce-a859-61b324d2741a\",\"type\":\"GlyphRenderer\"},{\"attributes\":{\"label\":{\"value\":\"103\"},\"renderers\":[{\"id\":\"fefc93cc-d21f-4d3e-96e9-689dc04da319\",\"type\":\"GlyphRenderer\"}]},\"id\":\"97fce722-caa3-4c9f-afe2-d0bb2f3f6de3\",\"type\":\"LegendItem\"},{\"attributes\":{\"data_source\":{\"id\":\"30e2af02-5469-46f8-9da2-c1a31c53977e\",\"type\":\"ColumnDataSource\"},\"glyph\":{\"id\":\"53101b73-4fa7-44e8-a3c9-82a31fa4afef\",\"type\":\"Circle\"},\"hover_glyph\":null,\"nonselection_glyph\":null,\"selection_glyph\":null},\"id\":\"086d72c5-5d25-46b4-9625-d9a8816fa8ee\",\"type\":\"GlyphRenderer\"},{\"attributes\":{\"callback\":null,\"column_names\":[\"x_values\",\"y_values\"],\"data\":{\"chart_index\":[{\"clusterLabel\":101},{\"clusterLabel\":101},{\"clusterLabel\":101},{\"clusterLabel\":101}],\"clusterLabel\":[101,101,101,101],\"x_values\":{\"__ndarray__\":\"zFM0qQyZ+r9rpp1kVRj3v5JaRrNW3vm/p0clDG8K978=\",\"dtype\":\"float64\",\"shape\":[4]},\"y_values\":{\"__ndarray__\":\"peSI0UE1KcC+LeAVX68pwNZUYHPv4ijAaNaq3R2EKcA=\",\"dtype\":\"float64\",\"shape\":[4]}}},\"id\":\"b7d7a381-4312-405e-aadc-e9228fc9a22d\",\"type\":\"ColumnDataSource\"},{\"attributes\":{\"label\":{\"value\":\"33\"},\"renderers\":[{\"id\":\"19f94795-4482-4c7b-8133-0c80ded4c9cd\",\"type\":\"GlyphRenderer\"}]},\"id\":\"5bfc43e8-2225-4128-aedb-d393ad224607\",\"type\":\"LegendItem\"},{\"attributes\":{\"fill_alpha\":{\"value\":0.7},\"fill_color\":{\"value\":\"#98df8a\"},\"line_color\":{\"value\":\"#98df8a\"},\"size\":{\"units\":\"screen\",\"value\":8},\"x\":{\"field\":\"x_values\"},\"y\":{\"field\":\"y_values\"}},\"id\":\"dcf0631f-bb2d-4841-9f29-fe5e3cb57a52\",\"type\":\"Circle\"},{\"attributes\":{\"label\":{\"value\":\"75\"},\"renderers\":[{\"id\":\"2bd25ecd-3306-4486-8764-e6a90e897794\",\"type\":\"GlyphRenderer\"}]},\"id\":\"331e90cc-0033-4ee4-9b1e-d63c9e55ce69\",\"type\":\"LegendItem\"},{\"attributes\":{\"data_source\":{\"id\":\"632c1183-4d62-45af-965f-83f67948ca3f\",\"type\":\"ColumnDataSource\"},\"glyph\":{\"id\":\"0fd7294c-5fea-4a3b-a128-f8d24ad6c19e\",\"type\":\"Circle\"},\"hover_glyph\":null,\"nonselection_glyph\":null,\"selection_glyph\":null},\"id\":\"0aec8862-0332-4bf9-8fa9-961158df1943\",\"type\":\"GlyphRenderer\"},{\"attributes\":{\"data_source\":{\"id\":\"3578f8dc-ce3f-4927-927b-58dd50b28d20\",\"type\":\"ColumnDataSource\"},\"glyph\":{\"id\":\"9c230e7f-7504-42fd-8d0b-cbdf9c22d19c\",\"type\":\"Circle\"},\"hover_glyph\":null,\"nonselection_glyph\":null,\"selection_glyph\":null},\"id\":\"306122b6-dd8f-48d2-aaf3-832e7cf27c93\",\"type\":\"GlyphRenderer\"},{\"attributes\":{\"data_source\":{\"id\":\"68db1b42-60af-4fc6-8da2-3d82ff41f17a\",\"type\":\"ColumnDataSource\"},\"glyph\":{\"id\":\"dc6172f3-c529-4207-834c-2d3d69964aa0\",\"type\":\"Circle\"},\"hover_glyph\":null,\"nonselection_glyph\":null,\"selection_glyph\":null},\"id\":\"f78b8cc2-be6e-425e-ab58-d0909ee65fe8\",\"type\":\"GlyphRenderer\"},{\"attributes\":{\"callback\":null,\"plot\":{\"id\":\"3e35d95a-dc3d-4892-841b-3df199efd437\",\"subtype\":\"Chart\",\"type\":\"Plot\"}},\"id\":\"ecc2443d-d52e-42ed-9da4-4d90c179a877\",\"type\":\"TapTool\"},{\"attributes\":{\"fill_alpha\":{\"value\":0.7},\"fill_color\":{\"value\":\"#8c564b\"},\"line_color\":{\"value\":\"#8c564b\"},\"size\":{\"units\":\"screen\",\"value\":8},\"x\":{\"field\":\"x_values\"},\"y\":{\"field\":\"y_values\"}},\"id\":\"ba6ac3f8-cd96-46b1-96aa-ccbcc47a9343\",\"type\":\"Circle\"},{\"attributes\":{\"fill_alpha\":{\"value\":0.7},\"fill_color\":{\"value\":\"#aec7e8\"},\"line_color\":{\"value\":\"#aec7e8\"},\"size\":{\"units\":\"screen\",\"value\":8},\"x\":{\"field\":\"x_values\"},\"y\":{\"field\":\"y_values\"}},\"id\":\"72b60b6f-a0f8-4a14-a60b-cb5d9a2a9490\",\"type\":\"Circle\"},{\"attributes\":{\"label\":{\"value\":\"113\"},\"renderers\":[{\"id\":\"39a2c195-61ba-48cb-9a20-6e730136b8c7\",\"type\":\"GlyphRenderer\"}]},\"id\":\"fa486d68-3fc0-43c2-bf06-ac9b458b904f\",\"type\":\"LegendItem\"},{\"attributes\":{\"fill_alpha\":{\"value\":0.7},\"fill_color\":{\"value\":\"#7f7f7f\"},\"line_color\":{\"value\":\"#7f7f7f\"},\"size\":{\"units\":\"screen\",\"value\":8},\"x\":{\"field\":\"x_values\"},\"y\":{\"field\":\"y_values\"}},\"id\":\"7375ec15-62ae-4aca-9389-273abcaf089f\",\"type\":\"Circle\"},{\"attributes\":{\"label\":{\"value\":\"14\"},\"renderers\":[{\"id\":\"66012203-b6c3-4cd1-8489-a140a334468f\",\"type\":\"GlyphRenderer\"}]},\"id\":\"ccd1025b-7e37-4007-9fab-e4e65e77229b\",\"type\":\"LegendItem\"},{\"attributes\":{\"below\":[{\"id\":\"5b9640b0-1bde-4fb5-ba04-cf75f63f9d8b\",\"type\":\"LinearAxis\"}],\"css_classes\":null,\"left\":[{\"id\":\"1aa25282-ae00-46eb-90f3-de3f4f4086ec\",\"type\":\"LinearAxis\"}],\"renderers\":[{\"id\":\"85e8132c-795e-42e6-bf73-7a62660ce45b\",\"type\":\"BoxAnnotation\"},{\"id\":\"e3b35c75-5514-4f08-a1d6-cc1dcdbee644\",\"type\":\"GlyphRenderer\"},{\"id\":\"b1453050-8e72-48c9-968d-4c75aada6ac3\",\"type\":\"GlyphRenderer\"},{\"id\":\"c33a0c40-df07-4513-91d7-91d0c2a53c51\",\"type\":\"GlyphRenderer\"},{\"id\":\"9a099e6a-74b2-4388-9f86-bd211646f130\",\"type\":\"GlyphRenderer\"},{\"id\":\"4bd54eb3-3fb1-4c72-8ae8-9c673de0560f\",\"type\":\"GlyphRenderer\"},{\"id\":\"32170d67-5e39-480c-8160-006fa0519e70\",\"type\":\"GlyphRenderer\"},{\"id\":\"ab0a1ba4-6b19-4712-b263-9d90ea09e63c\",\"type\":\"GlyphRenderer\"},{\"id\":\"f484b507-7670-421b-a210-0f1749fea6f2\",\"type\":\"GlyphRenderer\"},{\"id\":\"a7554b8a-3142-4d25-9c77-53113c879d03\",\"type\":\"GlyphRenderer\"},{\"id\":\"0a974cc8-a684-4c55-8e06-5bf945611c19\",\"type\":\"GlyphRenderer\"},{\"id\":\"6065146a-9ce3-4c34-941f-2ba379d87f5d\",\"type\":\"GlyphRenderer\"},{\"id\":\"6616ac7d-7e20-4f39-9760-1aa15e831e57\",\"type\":\"GlyphRenderer\"},{\"id\":\"6fd42f34-ecb0-4676-bc90-6ec4324945af\",\"type\":\"GlyphRenderer\"},{\"id\":\"5134b8ad-29d5-4965-836c-9f5a32dede9f\",\"type\":\"GlyphRenderer\"},{\"id\":\"62423918-aac5-4e88-a781-327c6e7114b8\",\"type\":\"GlyphRenderer\"},{\"id\":\"599fb7e3-2517-41dc-80c1-bfa3b13b716d\",\"type\":\"GlyphRenderer\"},{\"id\":\"b7a203db-430c-4196-bd2a-2e3700b4c876\",\"type\":\"GlyphRenderer\"},{\"id\":\"3fb386be-1deb-4b5c-aa49-0b49bb2eb094\",\"type\":\"GlyphRenderer\"},{\"id\":\"2abebe12-503d-48dd-800b-b4a5411c6f05\",\"type\":\"GlyphRenderer\"},{\"id\":\"13c7d421-b31d-4928-ab3f-7df48390c3f2\",\"type\":\"GlyphRenderer\"},{\"id\":\"1923b949-7ae1-4ddf-bf67-940c15c09c85\",\"type\":\"GlyphRenderer\"},{\"id\":\"66012203-b6c3-4cd1-8489-a140a334468f\",\"type\":\"GlyphRenderer\"},{\"id\":\"213393b1-29c1-41ba-8498-e65ada4c77d1\",\"type\":\"GlyphRenderer\"},{\"id\":\"9134e59c-7afe-467f-806b-8111b7b77bd1\",\"type\":\"GlyphRenderer\"},{\"id\":\"245556ec-b0c9-439e-807a-8b6ab7eb150f\",\"type\":\"GlyphRenderer\"},{\"id\":\"42084c6c-466f-41d9-b36c-7112b72e6073\",\"type\":\"GlyphRenderer\"},{\"id\":\"a88e3c55-d4bd-44f5-bff4-66560d17d791\",\"type\":\"GlyphRenderer\"},{\"id\":\"4180e9cc-f570-425d-b2a1-331dd6a2b790\",\"type\":\"GlyphRenderer\"},{\"id\":\"e7dbf695-34ab-4ccf-8ac4-c68b297fddc7\",\"type\":\"GlyphRenderer\"},{\"id\":\"82f4a006-1f2b-4ef9-8e99-3fafac2eaec1\",\"type\":\"GlyphRenderer\"},{\"id\":\"2472bae5-8619-47df-8ead-ece375dab754\",\"type\":\"GlyphRenderer\"},{\"id\":\"bde94582-e65a-4e90-b787-8b51afeddc43\",\"type\":\"GlyphRenderer\"},{\"id\":\"3ed9563d-65c1-469f-85cc-26b184cb386f\",\"type\":\"GlyphRenderer\"},{\"id\":\"60963c3a-8303-4f37-91e3-e9c2f46cd9d9\",\"type\":\"GlyphRenderer\"},{\"id\":\"c0c4a055-f952-49d6-a30f-c82d419645f2\",\"type\":\"GlyphRenderer\"},{\"id\":\"2775c533-affb-411e-8c75-5cfe2802ec88\",\"type\":\"GlyphRenderer\"},{\"id\":\"f69106bf-62f5-47d2-b614-4f4a3ffc166e\",\"type\":\"GlyphRenderer\"},{\"id\":\"1c72c07c-207a-49ef-a8e0-38226c4e84ef\",\"type\":\"GlyphRenderer\"},{\"id\":\"306122b6-dd8f-48d2-aaf3-832e7cf27c93\",\"type\":\"GlyphRenderer\"},{\"id\":\"9894c58d-8563-43f3-903e-ce03f9c5daee\",\"type\":\"GlyphRenderer\"},{\"id\":\"19f94795-4482-4c7b-8133-0c80ded4c9cd\",\"type\":\"GlyphRenderer\"},{\"id\":\"f78b8cc2-be6e-425e-ab58-d0909ee65fe8\",\"type\":\"GlyphRenderer\"},{\"id\":\"232bfa46-1a33-4341-bbe3-9786367f52bc\",\"type\":\"GlyphRenderer\"},{\"id\":\"db6a0dbc-c70a-40ef-85b1-ab5b1e3152cf\",\"type\":\"GlyphRenderer\"},{\"id\":\"38a9ed5c-1545-46db-8b34-624c21c2433f\",\"type\":\"GlyphRenderer\"},{\"id\":\"1d7871be-d11f-48ab-b6b4-8853ce6d53f7\",\"type\":\"GlyphRenderer\"},{\"id\":\"d804605f-a2dc-4928-9b41-2637822a0229\",\"type\":\"GlyphRenderer\"},{\"id\":\"0a976517-402d-431f-ad8f-be373b2254bc\",\"type\":\"GlyphRenderer\"},{\"id\":\"91d2f082-0f40-4f7d-9a9b-f6eb947169ec\",\"type\":\"GlyphRenderer\"},{\"id\":\"2794b0f5-bb57-49cd-932a-518d81bdca3c\",\"type\":\"GlyphRenderer\"},{\"id\":\"b51cf743-a18a-4d6c-b084-001eb0598722\",\"type\":\"GlyphRenderer\"},{\"id\":\"96b21da1-0654-4c0f-9a03-5f0b605b32fa\",\"type\":\"GlyphRenderer\"},{\"id\":\"9b240478-2511-4233-b1d1-13b4e9abdd88\",\"type\":\"GlyphRenderer\"},{\"id\":\"0f589ca7-da9e-4001-8abd-3f915dc1bf53\",\"type\":\"GlyphRenderer\"},{\"id\":\"f35d95a4-385c-4dcb-882e-8d1139645c14\",\"type\":\"GlyphRenderer\"},{\"id\":\"e9183b13-5251-4000-b4ae-8a91982cffeb\",\"type\":\"GlyphRenderer\"},{\"id\":\"bf83c75b-1889-4ae7-aa2e-ba18af8be46a\",\"type\":\"GlyphRenderer\"},{\"id\":\"276fa634-00fa-4a47-a4d4-c0a6c3048ed5\",\"type\":\"GlyphRenderer\"},{\"id\":\"dc30a43e-88f5-4496-89c9-55f081cb8676\",\"type\":\"GlyphRenderer\"},{\"id\":\"325c072c-c00e-4b60-8f6e-1e6a38793f90\",\"type\":\"GlyphRenderer\"},{\"id\":\"862189c7-ff2a-4656-8889-b7807df118d0\",\"type\":\"GlyphRenderer\"},{\"id\":\"8dc68db7-0289-4e39-9423-664e2b576e4f\",\"type\":\"GlyphRenderer\"},{\"id\":\"b8392347-0a84-4f10-b7fc-f8871f5043d1\",\"type\":\"GlyphRenderer\"},{\"id\":\"28f0fc71-f974-4de1-973e-ddad4dd60285\",\"type\":\"GlyphRenderer\"},{\"id\":\"b40281f4-472b-4fec-bec9-174a4d0d9c60\",\"type\":\"GlyphRenderer\"},{\"id\":\"cf6de2a2-6cf1-46c1-9a8d-cef066f77c03\",\"type\":\"GlyphRenderer\"},{\"id\":\"086d72c5-5d25-46b4-9625-d9a8816fa8ee\",\"type\":\"GlyphRenderer\"},{\"id\":\"facffd44-036f-4062-b285-087cfb0253a6\",\"type\":\"GlyphRenderer\"},{\"id\":\"acbe4728-1909-4ec8-93ad-edaa4ecc78c1\",\"type\":\"GlyphRenderer\"},{\"id\":\"bbe8c007-cf60-420a-9ed1-e9c4fc3c2bb9\",\"type\":\"GlyphRenderer\"},{\"id\":\"cecc752f-1a76-43ad-bba8-78befbc36e34\",\"type\":\"GlyphRenderer\"},{\"id\":\"86612a0a-dcf2-432e-9881-334c68f76181\",\"type\":\"GlyphRenderer\"},{\"id\":\"0aec8862-0332-4bf9-8fa9-961158df1943\",\"type\":\"GlyphRenderer\"},{\"id\":\"65577a2f-ae57-4bce-a859-61b324d2741a\",\"type\":\"GlyphRenderer\"},{\"id\":\"15870f64-1f9a-425d-8ea5-645523e6b3c9\",\"type\":\"GlyphRenderer\"},{\"id\":\"fdfbc6cb-490e-4b01-8f27-5f839ac94e07\",\"type\":\"GlyphRenderer\"},{\"id\":\"d5328ba2-6e15-4443-a91b-d388e73fb652\",\"type\":\"GlyphRenderer\"},{\"id\":\"2bd25ecd-3306-4486-8764-e6a90e897794\",\"type\":\"GlyphRenderer\"},{\"id\":\"ee66d8e8-4661-4578-997c-43b916ee07a7\",\"type\":\"GlyphRenderer\"},{\"id\":\"2fc7578e-24c3-4886-84c8-62e418ebf86b\",\"type\":\"GlyphRenderer\"},{\"id\":\"263f0c5b-add5-4c9c-864c-1028a0f160b8\",\"type\":\"GlyphRenderer\"},{\"id\":\"23767504-09ba-4f9c-bef9-57982ecee9d2\",\"type\":\"GlyphRenderer\"},{\"id\":\"47efaff8-4f2c-4be9-8e74-62deed0c8543\",\"type\":\"GlyphRenderer\"},{\"id\":\"4912e3f6-5af5-4aff-a6a8-08405f3308e5\",\"type\":\"GlyphRenderer\"},{\"id\":\"cae29ba1-9aef-4ba0-b358-cb76a2df6eee\",\"type\":\"GlyphRenderer\"},{\"id\":\"d90abe6f-c448-4b97-8b71-16efb8574cea\",\"type\":\"GlyphRenderer\"},{\"id\":\"ce55a96e-6279-4380-989f-62ee959476bc\",\"type\":\"GlyphRenderer\"},{\"id\":\"fefc93cc-d21f-4d3e-96e9-689dc04da319\",\"type\":\"GlyphRenderer\"},{\"id\":\"1d666d28-bc3c-466b-b8b1-35e18a87db8a\",\"type\":\"GlyphRenderer\"},{\"id\":\"f21566f0-58ca-4dd0-8cca-8a123bdefabe\",\"type\":\"GlyphRenderer\"},{\"id\":\"bfdbe376-9f10-4090-980d-d9760a40fe8a\",\"type\":\"GlyphRenderer\"},{\"id\":\"056db439-101b-4531-9a8b-18590adb1fa6\",\"type\":\"GlyphRenderer\"},{\"id\":\"beaad196-7521-4ba4-91d0-dcffe0153495\",\"type\":\"GlyphRenderer\"},{\"id\":\"ecd63b81-aa21-43de-b2c5-ec9eec00b78d\",\"type\":\"GlyphRenderer\"},{\"id\":\"97e3d8fb-d69b-45ad-870a-131068330e9c\",\"type\":\"GlyphRenderer\"},{\"id\":\"9030b03b-f3ac-496a-ad56-19be740279c7\",\"type\":\"GlyphRenderer\"},{\"id\":\"4bbd2078-93b0-4892-9817-2a09fd896c12\",\"type\":\"GlyphRenderer\"},{\"id\":\"9b20e8c3-99a3-4913-a481-a00f0b43185a\",\"type\":\"GlyphRenderer\"},{\"id\":\"825095e2-05ef-4a42-8ce4-7207ee936a31\",\"type\":\"GlyphRenderer\"},{\"id\":\"0171b620-a25b-40f6-ad45-c802414c1509\",\"type\":\"GlyphRenderer\"},{\"id\":\"c6a42809-d0ed-4778-a77a-48c40218fd0b\",\"type\":\"GlyphRenderer\"},{\"id\":\"30024120-03c9-42f5-a47a-630adf4deb8c\",\"type\":\"GlyphRenderer\"},{\"id\":\"a5a1ed46-d1f3-4634-8aec-d69ee7265817\",\"type\":\"GlyphRenderer\"},{\"id\":\"73846fed-4654-43c7-8919-c157aefc22fa\",\"type\":\"GlyphRenderer\"},{\"id\":\"9cdc610f-439f-4483-9fc5-5614cc49de38\",\"type\":\"GlyphRenderer\"},{\"id\":\"1713c750-6bde-4418-81ed-db0d18e148f4\",\"type\":\"GlyphRenderer\"},{\"id\":\"8599c4da-dcbe-476f-8748-1c17a85efc34\",\"type\":\"GlyphRenderer\"},{\"id\":\"19698296-3685-4750-b3a5-90724482ae4b\",\"type\":\"GlyphRenderer\"},{\"id\":\"08a3f9ac-3580-4214-a867-1d52202489c0\",\"type\":\"GlyphRenderer\"},{\"id\":\"0803f1f8-4d9b-40e2-b7d2-27014b6097a0\",\"type\":\"GlyphRenderer\"},{\"id\":\"79134ac4-d987-454e-9820-a28aefda6723\",\"type\":\"GlyphRenderer\"},{\"id\":\"9fcd2433-f4a3-46c3-805d-afb7135d3672\",\"type\":\"GlyphRenderer\"},{\"id\":\"5c8850c7-417e-49a5-8156-0b3c95d5361e\",\"type\":\"GlyphRenderer\"},{\"id\":\"39a2c195-61ba-48cb-9a20-6e730136b8c7\",\"type\":\"GlyphRenderer\"},{\"id\":\"c203c654-0d9c-4880-a059-b0a6656c1733\",\"type\":\"GlyphRenderer\"},{\"id\":\"9af01257-b70b-4a42-a070-78987344295a\",\"type\":\"GlyphRenderer\"},{\"id\":\"b045a62a-a7c0-4dfc-8f28-87bf2a7c3082\",\"type\":\"GlyphRenderer\"},{\"id\":\"17f60dd0-9542-400b-a696-2edb24ba2f82\",\"type\":\"GlyphRenderer\"},{\"id\":\"3e63ae88-259a-4346-a8ed-951983faa36f\",\"type\":\"GlyphRenderer\"},{\"id\":\"f2d690d1-d65e-47d2-8af9-53af71a39a41\",\"type\":\"GlyphRenderer\"},{\"id\":\"3f2a71c5-ce04-42ef-9aeb-9a6c0cbada32\",\"type\":\"GlyphRenderer\"},{\"id\":\"a8185fc5-2b4e-4b03-b43c-b507af357947\",\"type\":\"GlyphRenderer\"},{\"id\":\"231af9f1-b48b-4544-b99a-e05987cc8114\",\"type\":\"Legend\"},{\"id\":\"5b9640b0-1bde-4fb5-ba04-cf75f63f9d8b\",\"type\":\"LinearAxis\"},{\"id\":\"1aa25282-ae00-46eb-90f3-de3f4f4086ec\",\"type\":\"LinearAxis\"},{\"id\":\"5226d2a0-b6c7-4ab4-84b9-35f7728ea480\",\"type\":\"Grid\"},{\"id\":\"9aa33203-abaa-4e65-8f23-6a8844a020d1\",\"type\":\"Grid\"}],\"title\":{\"id\":\"77d72da1-b501-4acb-a05d-7f58c0e36087\",\"type\":\"Title\"},\"tool_events\":{\"id\":\"219694e3-1bf3-4d01-90d5-570a6fbd5304\",\"type\":\"ToolEvents\"},\"toolbar\":{\"id\":\"76395f4c-5b00-41b3-8b1f-c194ea3b2aee\",\"type\":\"Toolbar\"},\"x_mapper_type\":\"auto\",\"x_range\":{\"id\":\"0b9f8c98-6920-49e8-a839-099f77a25f32\",\"type\":\"Range1d\"},\"y_mapper_type\":\"auto\",\"y_range\":{\"id\":\"45da6760-65f0-4107-bcf1-94dfce9521ef\",\"type\":\"Range1d\"}},\"id\":\"3e35d95a-dc3d-4892-841b-3df199efd437\",\"subtype\":\"Chart\",\"type\":\"Plot\"},{\"attributes\":{\"callback\":null,\"column_names\":[\"x_values\",\"y_values\"],\"data\":{\"chart_index\":[{\"clusterLabel\":64},{\"clusterLabel\":64},{\"clusterLabel\":64},{\"clusterLabel\":64}],\"clusterLabel\":[64,64,64,64],\"x_values\":{\"__ndarray__\":\"/+sPaT0pBcDPFVzMOXgCwINUJG2L7QTANyEnHJ1RBsA=\",\"dtype\":\"float64\",\"shape\":[4]},\"y_values\":{\"__ndarray__\":\"Uif39Ok5IcBMuBfEv3EhwIeOjje5QCHAqg0+FyATIcA=\",\"dtype\":\"float64\",\"shape\":[4]}}},\"id\":\"1b3e23bc-b4b8-432e-8fb9-79f4ab59e5e1\",\"type\":\"ColumnDataSource\"},{\"attributes\":{\"fill_alpha\":{\"value\":0.7},\"fill_color\":{\"value\":\"#d62728\"},\"line_color\":{\"value\":\"#d62728\"},\"size\":{\"units\":\"screen\",\"value\":8},\"x\":{\"field\":\"x_values\"},\"y\":{\"field\":\"y_values\"}},\"id\":\"700ccf92-6cec-47f8-a363-69d3e6bcf7d6\",\"type\":\"Circle\"},{\"attributes\":{\"callback\":null,\"column_names\":[\"x_values\",\"y_values\"],\"data\":{\"chart_index\":[{\"clusterLabel\":13},{\"clusterLabel\":13},{\"clusterLabel\":13},{\"clusterLabel\":13},{\"clusterLabel\":13}],\"clusterLabel\":[13,13,13,13,13],\"x_values\":{\"__ndarray__\":\"tP7pKabiNkBWd1B8+sI2QDbxZTPT8TZAraqE/6SJNkD7a2CcKFE3QA==\",\"dtype\":\"float64\",\"shape\":[5]},\"y_values\":{\"__ndarray__\":\"zs3BQOewFEDDYYuWmPMTQCarRXey9hNAhqUznIMhFUDsds8TauQUQA==\",\"dtype\":\"float64\",\"shape\":[5]}}},\"id\":\"01650ee0-9dcc-430d-873f-22389098ab0e\",\"type\":\"ColumnDataSource\"},{\"attributes\":{\"callback\":null,\"column_names\":[\"x_values\",\"y_values\"],\"data\":{\"chart_index\":[{\"clusterLabel\":14},{\"clusterLabel\":14},{\"clusterLabel\":14},{\"clusterLabel\":14},{\"clusterLabel\":14},{\"clusterLabel\":14},{\"clusterLabel\":14}],\"clusterLabel\":[14,14,14,14,14,14,14],\"x_values\":{\"__ndarray__\":\"qpZCDe0IM0BIX8+WJY8zQAufkLs/UzNANLPvZWS7M0BZD8O5d8kzQKPpdd6aSTNAbYA4jyx2M0A=\",\"dtype\":\"float64\",\"shape\":[7]},\"y_values\":{\"__ndarray__\":\"UjMsH1cZ+T/VQZo/4b/rP/e6G631z/M/aSbi+7077z+H/DqrpdrrP/oQ3tgBVPM/C1dQMMxI3D8=\",\"dtype\":\"float64\",\"shape\":[7]}}},\"id\":\"de0f0dc2-61da-4154-b386-5a7aa86619b4\",\"type\":\"ColumnDataSource\"},{\"attributes\":{\"data_source\":{\"id\":\"54c15f29-c31b-40f5-8b23-93031b4e5168\",\"type\":\"ColumnDataSource\"},\"glyph\":{\"id\":\"91f730f9-7ce6-412d-a10f-fd745341b42a\",\"type\":\"Circle\"},\"hover_glyph\":null,\"nonselection_glyph\":null,\"selection_glyph\":null},\"id\":\"0f589ca7-da9e-4001-8abd-3f915dc1bf53\",\"type\":\"GlyphRenderer\"},{\"attributes\":{\"label\":{\"value\":\"26\"},\"renderers\":[{\"id\":\"2775c533-affb-411e-8c75-5cfe2802ec88\",\"type\":\"GlyphRenderer\"}]},\"id\":\"1998170e-73b0-4d07-923b-0a5de52eccff\",\"type\":\"LegendItem\"},{\"attributes\":{\"data_source\":{\"id\":\"d24503d1-c0d4-4196-a890-f1e70eb13203\",\"type\":\"ColumnDataSource\"},\"glyph\":{\"id\":\"b628a07c-f42e-4804-aa01-7f3ed0793171\",\"type\":\"Circle\"},\"hover_glyph\":null,\"nonselection_glyph\":null,\"selection_glyph\":null},\"id\":\"73846fed-4654-43c7-8919-c157aefc22fa\",\"type\":\"GlyphRenderer\"},{\"attributes\":{\"fill_alpha\":{\"value\":0.7},\"fill_color\":{\"value\":\"#1f77b4\"},\"line_color\":{\"value\":\"#1f77b4\"},\"size\":{\"units\":\"screen\",\"value\":8},\"x\":{\"field\":\"x_values\"},\"y\":{\"field\":\"y_values\"}},\"id\":\"81cbe715-1d41-4811-b23b-d21f78b694a2\",\"type\":\"Circle\"},{\"attributes\":{\"data_source\":{\"id\":\"04fdd1ee-af8c-4676-bbbe-6ae8590607ad\",\"type\":\"ColumnDataSource\"},\"glyph\":{\"id\":\"4228c1c6-b575-4676-939a-e9606d4aaea0\",\"type\":\"Circle\"},\"hover_glyph\":null,\"nonselection_glyph\":null,\"selection_glyph\":null},\"id\":\"0171b620-a25b-40f6-ad45-c802414c1509\",\"type\":\"GlyphRenderer\"},{\"attributes\":{\"fill_alpha\":{\"value\":0.7},\"fill_color\":{\"value\":\"#bcbd22\"},\"line_color\":{\"value\":\"#bcbd22\"},\"size\":{\"units\":\"screen\",\"value\":8},\"x\":{\"field\":\"x_values\"},\"y\":{\"field\":\"y_values\"}},\"id\":\"5478f207-baa2-42e7-801f-6190567ebb92\",\"type\":\"Circle\"},{\"attributes\":{\"data_source\":{\"id\":\"b373915e-19a1-4e68-b78e-d2e75df5e28a\",\"type\":\"ColumnDataSource\"},\"glyph\":{\"id\":\"9e4a9b1c-6788-4e36-aa1c-f393305069dc\",\"type\":\"Circle\"},\"hover_glyph\":null,\"nonselection_glyph\":null,\"selection_glyph\":null},\"id\":\"82f4a006-1f2b-4ef9-8e99-3fafac2eaec1\",\"type\":\"GlyphRenderer\"},{\"attributes\":{\"label\":{\"value\":\"57\"},\"renderers\":[{\"id\":\"8dc68db7-0289-4e39-9423-664e2b576e4f\",\"type\":\"GlyphRenderer\"}]},\"id\":\"c88ec95a-cb19-440d-ba99-0f020cb90db3\",\"type\":\"LegendItem\"},{\"attributes\":{\"label\":{\"value\":\"56\"},\"renderers\":[{\"id\":\"0a976517-402d-431f-ad8f-be373b2254bc\",\"type\":\"GlyphRenderer\"}]},\"id\":\"c18c9f46-85d4-4477-a0d0-93c1f6535012\",\"type\":\"LegendItem\"},{\"attributes\":{\"label\":{\"value\":\"80\"},\"renderers\":[{\"id\":\"cae29ba1-9aef-4ba0-b358-cb76a2df6eee\",\"type\":\"GlyphRenderer\"}]},\"id\":\"80f6bb3d-7e74-45a8-99a3-2b11b82b7960\",\"type\":\"LegendItem\"},{\"attributes\":{\"callback\":null,\"column_names\":[\"x_values\",\"y_values\"],\"data\":{\"chart_index\":[{\"clusterLabel\":37},{\"clusterLabel\":37},{\"clusterLabel\":37},{\"clusterLabel\":37}],\"clusterLabel\":[37,37,37,37],\"x_values\":{\"__ndarray__\":\"LoikRqKdLUA3a5GHVJctQCR0bzNnni1Av4NDIZCmLUA=\",\"dtype\":\"float64\",\"shape\":[4]},\"y_values\":{\"__ndarray__\":\"ySRmVkK7JMBVc4V+QMEkwDw/nNSDpSTAOyxgk8OvJMA=\",\"dtype\":\"float64\",\"shape\":[4]}}},\"id\":\"339f5c87-d4fb-4668-b3bb-a007b3747962\",\"type\":\"ColumnDataSource\"},{\"attributes\":{\"callback\":null,\"column_names\":[\"x_values\",\"y_values\"],\"data\":{\"chart_index\":[{\"clusterLabel\":53},{\"clusterLabel\":53},{\"clusterLabel\":53},{\"clusterLabel\":53}],\"clusterLabel\":[53,53,53,53],\"x_values\":{\"__ndarray__\":\"LlRbbnnxK0AQLBsblz0sQIRpDQ630CxAbMwwYSqDLEA=\",\"dtype\":\"float64\",\"shape\":[4]},\"y_values\":{\"__ndarray__\":\"PczEsmp3G8BivfECgTAcwKhm8dYtwBrAoVeJmBDuG8A=\",\"dtype\":\"float64\",\"shape\":[4]}}},\"id\":\"1f373469-6ca6-43b5-96af-86057516ffb9\",\"type\":\"ColumnDataSource\"},{\"attributes\":{\"label\":{\"value\":\"45\"},\"renderers\":[{\"id\":\"9b240478-2511-4233-b1d1-13b4e9abdd88\",\"type\":\"GlyphRenderer\"}]},\"id\":\"6cd85bd7-9196-4555-83a4-16fc60a2f140\",\"type\":\"LegendItem\"},{\"attributes\":{\"fill_alpha\":{\"value\":0.7},\"fill_color\":{\"value\":\"#9edae5\"},\"line_color\":{\"value\":\"#9edae5\"},\"size\":{\"units\":\"screen\",\"value\":8},\"x\":{\"field\":\"x_values\"},\"y\":{\"field\":\"y_values\"}},\"id\":\"7e17b2f3-1e72-44c9-a8b4-de0e11964d86\",\"type\":\"Circle\"},{\"attributes\":{\"data_source\":{\"id\":\"a9c5ac34-702b-4582-a56a-17d01636ac6d\",\"type\":\"ColumnDataSource\"},\"glyph\":{\"id\":\"0a03219c-8f86-4215-baf2-1442859b1fe7\",\"type\":\"Circle\"},\"hover_glyph\":null,\"nonselection_glyph\":null,\"selection_glyph\":null},\"id\":\"fefc93cc-d21f-4d3e-96e9-689dc04da319\",\"type\":\"GlyphRenderer\"},{\"attributes\":{\"callback\":null,\"column_names\":[\"x_values\",\"y_values\"],\"data\":{\"chart_index\":[{\"clusterLabel\":45},{\"clusterLabel\":45},{\"clusterLabel\":45},{\"clusterLabel\":45},{\"clusterLabel\":45},{\"clusterLabel\":45}],\"clusterLabel\":[45,45,45,45,45,45],\"x_values\":{\"__ndarray__\":\"8MnJDkDKJcC+Ab+o9x0lwKMQ+3y05SXA6YZ4/9FqJcA1lqQk+iIlwGumWZFzZCXA\",\"dtype\":\"float64\",\"shape\":[6]},\"y_values\":{\"__ndarray__\":\"EtuVxHs1DcAjbiTr9uMLwJyoLiyr0gnAuo+PTuhFEMA+lpw82HQPwD7VztT+KgzA\",\"dtype\":\"float64\",\"shape\":[6]}}},\"id\":\"4a9d6f48-ce79-4926-9226-c68a1a3995fc\",\"type\":\"ColumnDataSource\"},{\"attributes\":{\"callback\":null,\"column_names\":[\"x_values\",\"y_values\"],\"data\":{\"chart_index\":[{\"clusterLabel\":94},{\"clusterLabel\":94},{\"clusterLabel\":94},{\"clusterLabel\":94},{\"clusterLabel\":94},{\"clusterLabel\":94},{\"clusterLabel\":94},{\"clusterLabel\":94},{\"clusterLabel\":94},{\"clusterLabel\":94},{\"clusterLabel\":94},{\"clusterLabel\":94},{\"clusterLabel\":94},{\"clusterLabel\":94}],\"clusterLabel\":[94,94,94,94,94,94,94,94,94,94,94,94,94,94],\"x_values\":{\"__ndarray__\":\"507K4UqzMsCoVO+z3KcywDcaz++6SzLArdZwRB3/MsBZDHM1Vd0ywPZDNBh18DLA7MJNEJu+M8AJQ7pISXYywMFJdfwpeDPA5dM6ZYVtM8CuZx14xbkzwA+sy/BRwTPAecI77oK/MsBhECWCZrIywA==\",\"dtype\":\"float64\",\"shape\":[14]},\"y_values\":{\"__ndarray__\":\"4Q6HDJ/3EUAsxHuPPzMQQBuCTFLnDBNArMlGu8YBDUC7+xCFm3AMQKeGdcn8hRJAzZYego5uEED36Eb1rbIQQFoDJKmC8BFAXSNICOqWDkAZ6l4EKBIMQGCAvGcy7w9Amy/3l0RdEUAygrOHrVcNQA==\",\"dtype\":\"float64\",\"shape\":[14]}}},\"id\":\"4cee726b-4d55-4bfe-8702-c6039df7d7e2\",\"type\":\"ColumnDataSource\"},{\"attributes\":{\"label\":{\"value\":\"4\"},\"renderers\":[{\"id\":\"6616ac7d-7e20-4f39-9760-1aa15e831e57\",\"type\":\"GlyphRenderer\"}]},\"id\":\"f8b75b84-b123-4784-92a7-3b2a73883b81\",\"type\":\"LegendItem\"},{\"attributes\":{\"dimension\":1,\"plot\":{\"id\":\"3e35d95a-dc3d-4892-841b-3df199efd437\",\"subtype\":\"Chart\",\"type\":\"Plot\"},\"ticker\":{\"id\":\"93a5de51-c5e2-4b29-a494-a0652a0c72a6\",\"type\":\"BasicTicker\"}},\"id\":\"9aa33203-abaa-4e65-8f23-6a8844a020d1\",\"type\":\"Grid\"},{\"attributes\":{\"fill_alpha\":{\"value\":0.7},\"fill_color\":{\"value\":\"#7f7f7f\"},\"line_color\":{\"value\":\"#7f7f7f\"},\"size\":{\"units\":\"screen\",\"value\":8},\"x\":{\"field\":\"x_values\"},\"y\":{\"field\":\"y_values\"}},\"id\":\"505b819b-2987-4783-86e4-cd9c604f53ab\",\"type\":\"Circle\"},{\"attributes\":{\"label\":{\"value\":\"23\"},\"renderers\":[{\"id\":\"42084c6c-466f-41d9-b36c-7112b72e6073\",\"type\":\"GlyphRenderer\"}]},\"id\":\"edb6b835-f692-4983-8ae2-adb2c009d893\",\"type\":\"LegendItem\"},{\"attributes\":{\"callback\":null,\"column_names\":[\"x_values\",\"y_values\"],\"data\":{\"chart_index\":[{\"clusterLabel\":91},{\"clusterLabel\":91},{\"clusterLabel\":91},{\"clusterLabel\":91},{\"clusterLabel\":91},{\"clusterLabel\":91},{\"clusterLabel\":91},{\"clusterLabel\":91},{\"clusterLabel\":91},{\"clusterLabel\":91}],\"clusterLabel\":[91,91,91,91,91,91,91,91,91,91],\"x_values\":{\"__ndarray__\":\"vkyKdKjzM8B7fLKDuko0wA9t79TDWTTA2rzDwcxRNMAU2ogyxMYzwDnhtwyyajTAribROs5WNMCmHlemsnc0wHJhdc3KWzTAq0eCjSJWNMA=\",\"dtype\":\"float64\",\"shape\":[10]},\"y_values\":{\"__ndarray__\":\"ybukce6uIECnR4zXjYYgQFNftB6jtiFAEqG3ZW9nIEChH9LZJD4hQK2j6pPFZiFAgluN/787H0AD/3UE3FkhQGW13RKGBB9AfisSDnQPHUA=\",\"dtype\":\"float64\",\"shape\":[10]}}},\"id\":\"528309bc-1517-4340-8bf5-c199fc4d240b\",\"type\":\"ColumnDataSource\"},{\"attributes\":{\"label\":{\"value\":\"50\"},\"renderers\":[{\"id\":\"dc30a43e-88f5-4496-89c9-55f081cb8676\",\"type\":\"GlyphRenderer\"}]},\"id\":\"7fa00ccb-0ac2-4a65-9d09-157465ce691e\",\"type\":\"LegendItem\"},{\"attributes\":{\"callback\":null,\"column_names\":[\"x_values\",\"y_values\"],\"data\":{\"chart_index\":[{\"clusterLabel\":56},{\"clusterLabel\":56},{\"clusterLabel\":56},{\"clusterLabel\":56},{\"clusterLabel\":56}],\"clusterLabel\":[56,56,56,56,56],\"x_values\":{\"__ndarray__\":\"hMUgThJDK0BrX9coyKksQGaYt4zrayxA+sYPwsU2LEDL6uVqYrcrQA==\",\"dtype\":\"float64\",\"shape\":[5]},\"y_values\":{\"__ndarray__\":\"Pmq+j0aL9D+rTTcV0AL5P3G9eA8v4/g/oyhC6VjH+D90Aa/pafT1Pw==\",\"dtype\":\"float64\",\"shape\":[5]}}},\"id\":\"6c3acccd-3d93-4cfb-b8fc-07c5c6363aea\",\"type\":\"ColumnDataSource\"},{\"attributes\":{\"data_source\":{\"id\":\"034cb6b8-c35a-4f6f-b0aa-2a9e86462a72\",\"type\":\"ColumnDataSource\"},\"glyph\":{\"id\":\"382d8262-8d27-4a82-881c-81743bb08c81\",\"type\":\"Circle\"},\"hover_glyph\":null,\"nonselection_glyph\":null,\"selection_glyph\":null},\"id\":\"ab0a1ba4-6b19-4712-b263-9d90ea09e63c\",\"type\":\"GlyphRenderer\"},{\"attributes\":{\"label\":{\"value\":\"40\"},\"renderers\":[{\"id\":\"0a974cc8-a684-4c55-8e06-5bf945611c19\",\"type\":\"GlyphRenderer\"}]},\"id\":\"c828a55a-af03-42ef-9abd-c6df7b7450bb\",\"type\":\"LegendItem\"},{\"attributes\":{\"fill_alpha\":{\"value\":0.7},\"fill_color\":{\"value\":\"#c49c94\"},\"line_color\":{\"value\":\"#c49c94\"},\"size\":{\"units\":\"screen\",\"value\":8},\"x\":{\"field\":\"x_values\"},\"y\":{\"field\":\"y_values\"}},\"id\":\"20d9d503-7a8e-4f46-a18a-a7b7f6f1ebb7\",\"type\":\"Circle\"},{\"attributes\":{\"fill_alpha\":{\"value\":0.7},\"fill_color\":{\"value\":\"#bcbd22\"},\"line_color\":{\"value\":\"#bcbd22\"},\"size\":{\"units\":\"screen\",\"value\":8},\"x\":{\"field\":\"x_values\"},\"y\":{\"field\":\"y_values\"}},\"id\":\"42e08d94-867e-4870-873b-13d0a9c3e2e0\",\"type\":\"Circle\"},{\"attributes\":{\"callback\":null,\"column_names\":[\"x_values\",\"y_values\"],\"data\":{\"chart_index\":[{\"clusterLabel\":4},{\"clusterLabel\":4},{\"clusterLabel\":4},{\"clusterLabel\":4},{\"clusterLabel\":4},{\"clusterLabel\":4},{\"clusterLabel\":4},{\"clusterLabel\":4}],\"clusterLabel\":[4,4,4,4,4,4,4,4],\"x_values\":{\"__ndarray__\":\"UwzMxhbxA8DRh5AzsE8LwJ6KhwS8mgXAUV4uDkc8CcAhdasR11sFwOXG839EUg7AqyitGgc+DMCMTY0b5GoEwA==\",\"dtype\":\"float64\",\"shape\":[8]},\"y_values\":{\"__ndarray__\":\"0gLMq8JyIEAcQYNu6yQgQKMNbh7esh9AIAMaOrH/H0C3NjbXahUgQM/82iOhaCBA1W3JNuerH0ABL3xqfEofQA==\",\"dtype\":\"float64\",\"shape\":[8]}}},\"id\":\"b9ce97f6-72b1-4486-88ae-b9afa390758f\",\"type\":\"ColumnDataSource\"},{\"attributes\":{\"label\":{\"value\":\"16\"},\"renderers\":[{\"id\":\"245556ec-b0c9-439e-807a-8b6ab7eb150f\",\"type\":\"GlyphRenderer\"}]},\"id\":\"d812db9b-e43a-45ad-a50e-901b2b54b770\",\"type\":\"LegendItem\"},{\"attributes\":{\"fill_alpha\":{\"value\":0.7},\"fill_color\":{\"value\":\"#9467bd\"},\"line_color\":{\"value\":\"#9467bd\"},\"size\":{\"units\":\"screen\",\"value\":8},\"x\":{\"field\":\"x_values\"},\"y\":{\"field\":\"y_values\"}},\"id\":\"5edbb2d5-d848-485c-86ed-84cf38502ae8\",\"type\":\"Circle\"},{\"attributes\":{\"overlay\":{\"id\":\"85e8132c-795e-42e6-bf73-7a62660ce45b\",\"type\":\"BoxAnnotation\"},\"plot\":{\"id\":\"3e35d95a-dc3d-4892-841b-3df199efd437\",\"subtype\":\"Chart\",\"type\":\"Plot\"}},\"id\":\"bb0e158a-7a79-4c26-911d-57162aa9c0c0\",\"type\":\"BoxZoomTool\"},{\"attributes\":{\"label\":{\"value\":\"70\"},\"renderers\":[{\"id\":\"15870f64-1f9a-425d-8ea5-645523e6b3c9\",\"type\":\"GlyphRenderer\"}]},\"id\":\"a35147cf-97ab-4ba5-86a4-9c192c19a71b\",\"type\":\"LegendItem\"},{\"attributes\":{\"callback\":null,\"column_names\":[\"x_values\",\"y_values\"],\"data\":{\"chart_index\":[{\"clusterLabel\":59},{\"clusterLabel\":59},{\"clusterLabel\":59},{\"clusterLabel\":59}],\"clusterLabel\":[59,59,59,59],\"x_values\":{\"__ndarray__\":\"vIU6YGHS5L/HDcC8AzvQv3cqntRL9O2/ButfP60V4L8=\",\"dtype\":\"float64\",\"shape\":[4]},\"y_values\":{\"__ndarray__\":\"4ifzKMYPDkAT4QnrzqYLQBnESJAf9QpAlSBEyf5PDUA=\",\"dtype\":\"float64\",\"shape\":[4]}}},\"id\":\"49bad0c4-58de-471e-8b66-fc2ad6612bff\",\"type\":\"ColumnDataSource\"},{\"attributes\":{\"label\":{\"value\":\"18\"},\"renderers\":[{\"id\":\"a88e3c55-d4bd-44f5-bff4-66560d17d791\",\"type\":\"GlyphRenderer\"}]},\"id\":\"da5996e6-b7b8-4e09-8eeb-88d2010516a3\",\"type\":\"LegendItem\"},{\"attributes\":{\"fill_alpha\":{\"value\":0.7},\"fill_color\":{\"value\":\"#17becf\"},\"line_color\":{\"value\":\"#17becf\"},\"size\":{\"units\":\"screen\",\"value\":8},\"x\":{\"field\":\"x_values\"},\"y\":{\"field\":\"y_values\"}},\"id\":\"4da1925b-b7a7-4a9f-b0d8-99bd403b965e\",\"type\":\"Circle\"},{\"attributes\":{\"fill_alpha\":{\"value\":0.7},\"fill_color\":{\"value\":\"#8c564b\"},\"line_color\":{\"value\":\"#8c564b\"},\"size\":{\"units\":\"screen\",\"value\":8},\"x\":{\"field\":\"x_values\"},\"y\":{\"field\":\"y_values\"}},\"id\":\"86ffc2c2-3f7b-46a5-99f7-c6ca4f8820d7\",\"type\":\"Circle\"},{\"attributes\":{\"label\":{\"value\":\"3\"},\"renderers\":[{\"id\":\"6065146a-9ce3-4c34-941f-2ba379d87f5d\",\"type\":\"GlyphRenderer\"}]},\"id\":\"2d967aed-7bcf-45a4-b1f9-9d417874a082\",\"type\":\"LegendItem\"},{\"attributes\":{\"label\":{\"value\":\"67\"},\"renderers\":[{\"id\":\"86612a0a-dcf2-432e-9881-334c68f76181\",\"type\":\"GlyphRenderer\"}]},\"id\":\"ded2f9e5-35e1-42b4-9b23-ae6329955402\",\"type\":\"LegendItem\"},{\"attributes\":{\"label\":{\"value\":\"97\"},\"renderers\":[{\"id\":\"8599c4da-dcbe-476f-8748-1c17a85efc34\",\"type\":\"GlyphRenderer\"}]},\"id\":\"c426b7e0-90bd-44f4-8f64-1da3ec19fc04\",\"type\":\"LegendItem\"},{\"attributes\":{\"callback\":null,\"column_names\":[\"x_values\",\"y_values\"],\"data\":{\"chart_index\":[{\"clusterLabel\":72},{\"clusterLabel\":72},{\"clusterLabel\":72},{\"clusterLabel\":72},{\"clusterLabel\":72},{\"clusterLabel\":72},{\"clusterLabel\":72},{\"clusterLabel\":72},{\"clusterLabel\":72},{\"clusterLabel\":72},{\"clusterLabel\":72},{\"clusterLabel\":72},{\"clusterLabel\":72}],\"clusterLabel\":[72,72,72,72,72,72,72,72,72,72,72,72,72],\"x_values\":{\"__ndarray__\":\"WQpLb3nBJ0DgE0wAz/YlQOUV8fZU9iVAoFPDZWFHJkCnf22zcPQlQMpMnOM2BCZAxIyC3mplJkCrwP4ppusmQBkwFXGgrSVAaMpdggqBJkAyGx3j/NclQLuhMHYjliVAMWD65BZTJ0A=\",\"dtype\":\"float64\",\"shape\":[13]},\"y_values\":{\"__ndarray__\":\"a9Lkt32kIkCJ6m2cLcsjQN4Ruhn6fyNA8RQrwqvDIkB2aTSCFdAjQAdR1kv5jSNAS2D/WegsI0DsFf/Eq/EiQDJnvL5fqSNAKUlxZLjrIkDuFdimsoojQL6+7AYj2iNAij/RKp+fIkA=\",\"dtype\":\"float64\",\"shape\":[13]}}},\"id\":\"f2a71e07-976a-4b26-bf23-9a3fa5bf0095\",\"type\":\"ColumnDataSource\"},{\"attributes\":{\"label\":{\"value\":\"9\"},\"renderers\":[{\"id\":\"b7a203db-430c-4196-bd2a-2e3700b4c876\",\"type\":\"GlyphRenderer\"}]},\"id\":\"557eb0b3-4be5-4b9c-b2db-9b89478c0672\",\"type\":\"LegendItem\"},{\"attributes\":{\"fill_alpha\":{\"value\":0.7},\"fill_color\":{\"value\":\"#dbdb8d\"},\"line_color\":{\"value\":\"#dbdb8d\"},\"size\":{\"units\":\"screen\",\"value\":8},\"x\":{\"field\":\"x_values\"},\"y\":{\"field\":\"y_values\"}},\"id\":\"1a7fdd48-4638-497b-bcff-833072773b8f\",\"type\":\"Circle\"},{\"attributes\":{\"data_source\":{\"id\":\"95209528-a9d9-4ec8-be93-748e545c0ab3\",\"type\":\"ColumnDataSource\"},\"glyph\":{\"id\":\"64f73210-27cc-4b8c-bdbe-55b8263c98b1\",\"type\":\"Circle\"},\"hover_glyph\":null,\"nonselection_glyph\":null,\"selection_glyph\":null},\"id\":\"bf83c75b-1889-4ae7-aa2e-ba18af8be46a\",\"type\":\"GlyphRenderer\"},{\"attributes\":{\"callback\":null,\"column_names\":[\"x_values\",\"y_values\"],\"data\":{\"chart_index\":[{\"clusterLabel\":5},{\"clusterLabel\":5},{\"clusterLabel\":5},{\"clusterLabel\":5}],\"clusterLabel\":[5,5,5,5],\"x_values\":{\"__ndarray__\":\"FbfHfvP7BsDvgZGU9+wIwM7HgypIswTAlEoGcBwUBMA=\",\"dtype\":\"float64\",\"shape\":[4]},\"y_values\":{\"__ndarray__\":\"XGJkNC6YJ0AHF/6Mh/gnQAfm4TxX3SdA7NqoUKYFKEA=\",\"dtype\":\"float64\",\"shape\":[4]}}},\"id\":\"00d77356-ad9f-48cf-a281-98c7ad3d03a0\",\"type\":\"ColumnDataSource\"},{\"attributes\":{\"data_source\":{\"id\":\"b0d4d1e5-f531-4781-92c5-b41044965aea\",\"type\":\"ColumnDataSource\"},\"glyph\":{\"id\":\"7e17b2f3-1e72-44c9-a8b4-de0e11964d86\",\"type\":\"Circle\"},\"hover_glyph\":null,\"nonselection_glyph\":null,\"selection_glyph\":null},\"id\":\"a88e3c55-d4bd-44f5-bff4-66560d17d791\",\"type\":\"GlyphRenderer\"},{\"attributes\":{\"label\":{\"value\":\"8\"},\"renderers\":[{\"id\":\"6fd42f34-ecb0-4676-bc90-6ec4324945af\",\"type\":\"GlyphRenderer\"}]},\"id\":\"457833d8-45a4-4ff1-a65b-202204da17a0\",\"type\":\"LegendItem\"},{\"attributes\":{\"fill_alpha\":{\"value\":0.7},\"fill_color\":{\"value\":\"#ff9896\"},\"line_color\":{\"value\":\"#ff9896\"},\"size\":{\"units\":\"screen\",\"value\":8},\"x\":{\"field\":\"x_values\"},\"y\":{\"field\":\"y_values\"}},\"id\":\"749f71a0-cb94-4279-a319-3e0fce3876ab\",\"type\":\"Circle\"},{\"attributes\":{\"fill_alpha\":{\"value\":0.7},\"fill_color\":{\"value\":\"#bcbd22\"},\"line_color\":{\"value\":\"#bcbd22\"},\"size\":{\"units\":\"screen\",\"value\":8},\"x\":{\"field\":\"x_values\"},\"y\":{\"field\":\"y_values\"}},\"id\":\"99bd598c-5284-4084-b552-5aba75ebaa05\",\"type\":\"Circle\"},{\"attributes\":{\"data_source\":{\"id\":\"4ee583a8-bb69-4f4d-87f1-d485c1d3e395\",\"type\":\"ColumnDataSource\"},\"glyph\":{\"id\":\"2f6aa494-9992-4cf4-a303-abecd72cbc2d\",\"type\":\"Circle\"},\"hover_glyph\":null,\"nonselection_glyph\":null,\"selection_glyph\":null},\"id\":\"e3b35c75-5514-4f08-a1d6-cc1dcdbee644\",\"type\":\"GlyphRenderer\"},{\"attributes\":{\"label\":{\"value\":\"101\"},\"renderers\":[{\"id\":\"5c8850c7-417e-49a5-8156-0b3c95d5361e\",\"type\":\"GlyphRenderer\"}]},\"id\":\"820e5070-17e8-4fe5-9852-28768323dff4\",\"type\":\"LegendItem\"},{\"attributes\":{\"callback\":null,\"column_names\":[\"x_values\",\"y_values\"],\"data\":{\"chart_index\":[{\"clusterLabel\":105},{\"clusterLabel\":105},{\"clusterLabel\":105},{\"clusterLabel\":105},{\"clusterLabel\":105},{\"clusterLabel\":105},{\"clusterLabel\":105},{\"clusterLabel\":105},{\"clusterLabel\":105},{\"clusterLabel\":105},{\"clusterLabel\":105},{\"clusterLabel\":105}],\"clusterLabel\":[105,105,105,105,105,105,105,105,105,105,105,105],\"x_values\":{\"__ndarray__\":\"AHvFMe3SNcCTQc/I4nE1wHacZpYVVTXAItmk4SWZNcBN922s4Ws1wCZrGd2ZJDXAoKWAd1B+NcAf3DA+4PE0wIFtMwqR2zXAFsZTsX07NcA1P7uAz+41wAEFWi3CTjXA\",\"dtype\":\"float64\",\"shape\":[12]},\"y_values\":{\"__ndarray__\":\"xJn+R7BJIECKaAZdBSAgQNt+DpIWWB9A5FkeHjSPHUAilTCSRsMdQK4Sv4oQayFA7hBc7j3dIUCmQHgMzQkhQKVnfS9WQB9ApJyZGDeLIECgYgVjby4dQApOpGGEHCBA\",\"dtype\":\"float64\",\"shape\":[12]}}},\"id\":\"e37acb8d-46c9-4a99-a969-fcb379b983bf\",\"type\":\"ColumnDataSource\"},{\"attributes\":{\"data_source\":{\"id\":\"56683d26-2a96-49f4-851c-540250656d2b\",\"type\":\"ColumnDataSource\"},\"glyph\":{\"id\":\"7c903aa3-5fcb-4852-8718-7cdabdc2e1a3\",\"type\":\"Circle\"},\"hover_glyph\":null,\"nonselection_glyph\":null,\"selection_glyph\":null},\"id\":\"e7dbf695-34ab-4ccf-8ac4-c68b297fddc7\",\"type\":\"GlyphRenderer\"},{\"attributes\":{\"data_source\":{\"id\":\"9eb733dd-f882-4cd1-9526-09e9ba33a572\",\"type\":\"ColumnDataSource\"},\"glyph\":{\"id\":\"114f4efb-e9ed-4cb3-99cd-e01e08125485\",\"type\":\"Circle\"},\"hover_glyph\":null,\"nonselection_glyph\":null,\"selection_glyph\":null},\"id\":\"b7a203db-430c-4196-bd2a-2e3700b4c876\",\"type\":\"GlyphRenderer\"},{\"attributes\":{\"fill_alpha\":{\"value\":0.7},\"fill_color\":{\"value\":\"#dbdb8d\"},\"line_color\":{\"value\":\"#dbdb8d\"},\"size\":{\"units\":\"screen\",\"value\":8},\"x\":{\"field\":\"x_values\"},\"y\":{\"field\":\"y_values\"}},\"id\":\"5b5e9280-efce-49a2-a3cf-e0db3e56db74\",\"type\":\"Circle\"},{\"attributes\":{\"fill_alpha\":{\"value\":0.7},\"fill_color\":{\"value\":\"#c49c94\"},\"line_color\":{\"value\":\"#c49c94\"},\"size\":{\"units\":\"screen\",\"value\":8},\"x\":{\"field\":\"x_values\"},\"y\":{\"field\":\"y_values\"}},\"id\":\"75d1f863-5c7d-41af-afce-2a084806be8d\",\"type\":\"Circle\"},{\"attributes\":{\"label\":{\"value\":\"112\"},\"renderers\":[{\"id\":\"3ed9563d-65c1-469f-85cc-26b184cb386f\",\"type\":\"GlyphRenderer\"}]},\"id\":\"0ee4984c-71c7-4804-acb1-43d306baa1a0\",\"type\":\"LegendItem\"},{\"attributes\":{\"callback\":null,\"column_names\":[\"x_values\",\"y_values\"],\"data\":{\"chart_index\":[{\"clusterLabel\":80},{\"clusterLabel\":80},{\"clusterLabel\":80},{\"clusterLabel\":80},{\"clusterLabel\":80},{\"clusterLabel\":80},{\"clusterLabel\":80}],\"clusterLabel\":[80,80,80,80,80,80,80],\"x_values\":{\"__ndarray__\":\"uRfscCmTN8Af6BRyNpQ3wFCUEc54KzfAAYYhT95NN8DoOBWg7y83wDreO1G4+DfAXxeTENRxOMA=\",\"dtype\":\"float64\",\"shape\":[7]},\"y_values\":{\"__ndarray__\":\"hc6w7FdKJEB1wIayTKcjQKWwnD94YyRAqXyWid9mI0AIDI1TlGIjQNQYlvTs5yNAVIWZnp27I0A=\",\"dtype\":\"float64\",\"shape\":[7]}}},\"id\":\"5944d04f-33a9-4267-9598-77ca5dae8911\",\"type\":\"ColumnDataSource\"},{\"attributes\":{\"data_source\":{\"id\":\"0642ddeb-f691-421b-9970-8c12ea1d9a88\",\"type\":\"ColumnDataSource\"},\"glyph\":{\"id\":\"206e2ac4-2658-4c17-acab-b59412fd4fa2\",\"type\":\"Circle\"},\"hover_glyph\":null,\"nonselection_glyph\":null,\"selection_glyph\":null},\"id\":\"0a974cc8-a684-4c55-8e06-5bf945611c19\",\"type\":\"GlyphRenderer\"},{\"attributes\":{\"data_source\":{\"id\":\"f6fc40a7-d62e-4dcb-b6ec-e5b24e9570b0\",\"type\":\"ColumnDataSource\"},\"glyph\":{\"id\":\"64344ee5-34ce-4265-9e92-36d93783b196\",\"type\":\"Circle\"},\"hover_glyph\":null,\"nonselection_glyph\":null,\"selection_glyph\":null},\"id\":\"9cdc610f-439f-4483-9fc5-5614cc49de38\",\"type\":\"GlyphRenderer\"},{\"attributes\":{\"callback\":null,\"column_names\":[\"x_values\",\"y_values\"],\"data\":{\"chart_index\":[{\"clusterLabel\":77},{\"clusterLabel\":77},{\"clusterLabel\":77},{\"clusterLabel\":77},{\"clusterLabel\":77},{\"clusterLabel\":77},{\"clusterLabel\":77},{\"clusterLabel\":77},{\"clusterLabel\":77}],\"clusterLabel\":[77,77,77,77,77,77,77,77,77],\"x_values\":{\"__ndarray__\":\"fhFYtfH68z/6hC8thnLzP/BKPl51UPI/FREJmPBv8z8frmVK8E70P/i79+Qy3vA/9P1uB9P97z9AsUCyte3zPyl316RsHfM/\",\"dtype\":\"float64\",\"shape\":[9]},\"y_values\":{\"__ndarray__\":\"3/zl3axCF8CnmF6ypKIVwNYNGe4PGRXAwZhIrWMAFsCrI+71pT8YwHcA7U6v0BTABxhPIMNiFMAnRkGoPbUVwHjquqpqhxXA\",\"dtype\":\"float64\",\"shape\":[9]}}},\"id\":\"ad801ef5-186a-4e53-bc51-605bb271add8\",\"type\":\"ColumnDataSource\"},{\"attributes\":{\"fill_alpha\":{\"value\":0.7},\"fill_color\":{\"value\":\"#9467bd\"},\"line_color\":{\"value\":\"#9467bd\"},\"size\":{\"units\":\"screen\",\"value\":8},\"x\":{\"field\":\"x_values\"},\"y\":{\"field\":\"y_values\"}},\"id\":\"4c4bb07a-9736-4dd4-9530-d5dd7f2a4147\",\"type\":\"Circle\"},{\"attributes\":{\"data_source\":{\"id\":\"46fa3a41-b1b8-4676-9d10-cd401d9bc61d\",\"type\":\"ColumnDataSource\"},\"glyph\":{\"id\":\"68a941d7-fa76-4a87-adac-864c95d74ca7\",\"type\":\"Circle\"},\"hover_glyph\":null,\"nonselection_glyph\":null,\"selection_glyph\":null},\"id\":\"2472bae5-8619-47df-8ead-ece375dab754\",\"type\":\"GlyphRenderer\"},{\"attributes\":{\"label\":{\"value\":\"22\"},\"renderers\":[{\"id\":\"bde94582-e65a-4e90-b787-8b51afeddc43\",\"type\":\"GlyphRenderer\"}]},\"id\":\"5762379f-cb4a-42b5-8f6e-88b88a857cbd\",\"type\":\"LegendItem\"},{\"attributes\":{\"fill_alpha\":{\"value\":0.7},\"fill_color\":{\"value\":\"#c49c94\"},\"line_color\":{\"value\":\"#c49c94\"},\"size\":{\"units\":\"screen\",\"value\":8},\"x\":{\"field\":\"x_values\"},\"y\":{\"field\":\"y_values\"}},\"id\":\"06635f62-3e8f-4318-8594-70991e012117\",\"type\":\"Circle\"},{\"attributes\":{\"data_source\":{\"id\":\"c74561d0-dac9-4f6b-aa91-c343d64b33fe\",\"type\":\"ColumnDataSource\"},\"glyph\":{\"id\":\"5edbb2d5-d848-485c-86ed-84cf38502ae8\",\"type\":\"Circle\"},\"hover_glyph\":null,\"nonselection_glyph\":null,\"selection_glyph\":null},\"id\":\"86612a0a-dcf2-432e-9881-334c68f76181\",\"type\":\"GlyphRenderer\"},{\"attributes\":{\"callback\":null,\"column_names\":[\"x_values\",\"y_values\"],\"data\":{\"chart_index\":[{\"clusterLabel\":87},{\"clusterLabel\":87},{\"clusterLabel\":87},{\"clusterLabel\":87}],\"clusterLabel\":[87,87,87,87],\"x_values\":{\"__ndarray__\":\"3W82C4RKMcAbFPwLJ1AxwM/C+u+TxTHAzPffOhE5McA=\",\"dtype\":\"float64\",\"shape\":[4]},\"y_values\":{\"__ndarray__\":\"2bUivHN0HUApjxZErrEcQPHMsmv+yB1AHO+MqrzSHEA=\",\"dtype\":\"float64\",\"shape\":[4]}}},\"id\":\"ce98a50a-0054-4760-8475-04225dce78ff\",\"type\":\"ColumnDataSource\"},{\"attributes\":{\"data_source\":{\"id\":\"6e03d961-88eb-40df-8cf2-3f094a6db0ee\",\"type\":\"ColumnDataSource\"},\"glyph\":{\"id\":\"b8f571eb-858a-4f9c-acb0-9bdaf829a93b\",\"type\":\"Circle\"},\"hover_glyph\":null,\"nonselection_glyph\":null,\"selection_glyph\":null},\"id\":\"bde94582-e65a-4e90-b787-8b51afeddc43\",\"type\":\"GlyphRenderer\"},{\"attributes\":{\"data_source\":{\"id\":\"eacfb33a-5467-4dc1-b8fe-67e95c2ad55b\",\"type\":\"ColumnDataSource\"},\"glyph\":{\"id\":\"4da1925b-b7a7-4a9f-b0d8-99bd403b965e\",\"type\":\"Circle\"},\"hover_glyph\":null,\"nonselection_glyph\":null,\"selection_glyph\":null},\"id\":\"2abebe12-503d-48dd-800b-b4a5411c6f05\",\"type\":\"GlyphRenderer\"},{\"attributes\":{\"label\":{\"value\":\"82\"},\"renderers\":[{\"id\":\"ce55a96e-6279-4380-989f-62ee959476bc\",\"type\":\"GlyphRenderer\"}]},\"id\":\"b658df57-6853-4838-91ea-55681e246446\",\"type\":\"LegendItem\"},{\"attributes\":{\"fill_alpha\":{\"value\":0.7},\"fill_color\":{\"value\":\"#8c564b\"},\"line_color\":{\"value\":\"#8c564b\"},\"size\":{\"units\":\"screen\",\"value\":8},\"x\":{\"field\":\"x_values\"},\"y\":{\"field\":\"y_values\"}},\"id\":\"382d8262-8d27-4a82-881c-81743bb08c81\",\"type\":\"Circle\"},{\"attributes\":{\"data_source\":{\"id\":\"b7d7a381-4312-405e-aadc-e9228fc9a22d\",\"type\":\"ColumnDataSource\"},\"glyph\":{\"id\":\"b2873f72-8c04-4acd-bac1-892a53ed3cad\",\"type\":\"Circle\"},\"hover_glyph\":null,\"nonselection_glyph\":null,\"selection_glyph\":null},\"id\":\"5c8850c7-417e-49a5-8156-0b3c95d5361e\",\"type\":\"GlyphRenderer\"},{\"attributes\":{\"callback\":null,\"column_names\":[\"x_values\",\"y_values\"],\"data\":{\"chart_index\":[{\"clusterLabel\":90},{\"clusterLabel\":90},{\"clusterLabel\":90},{\"clusterLabel\":90},{\"clusterLabel\":90},{\"clusterLabel\":90},{\"clusterLabel\":90},{\"clusterLabel\":90},{\"clusterLabel\":90}],\"clusterLabel\":[90,90,90,90,90,90,90,90,90],\"x_values\":{\"__ndarray__\":\"Om82npJUL8D0HOteqh4wwCxycZRJzDDA2uHXG36ZMMC6NCeqj7wvwGlJjodIbzDAqma2zhK8LsCU3bq0bXcwwMUzKM06ci/A\",\"dtype\":\"float64\",\"shape\":[9]},\"y_values\":{\"__ndarray__\":\"FNg3vIFYF0CTSrIXV64ZQBRfLvxveRhA5XwxUR+0GUC9vEBee00ZQPkHNAQnQRtAHAmWzkAWGkAaAQZX60EaQIL4WeHPwhhA\",\"dtype\":\"float64\",\"shape\":[9]}}},\"id\":\"96d950ee-fa83-4a6d-ae8f-df26f1ac65f2\",\"type\":\"ColumnDataSource\"},{\"attributes\":{\"data_source\":{\"id\":\"2f80ffc7-bcb4-4a67-8447-5f034578d875\",\"type\":\"ColumnDataSource\"},\"glyph\":{\"id\":\"6b51b014-c2c9-41ee-ab18-79d5e1d08166\",\"type\":\"Circle\"},\"hover_glyph\":null,\"nonselection_glyph\":null,\"selection_glyph\":null},\"id\":\"19f94795-4482-4c7b-8133-0c80ded4c9cd\",\"type\":\"GlyphRenderer\"},{\"attributes\":{\"callback\":null,\"column_names\":[\"x_values\",\"y_values\"],\"data\":{\"chart_index\":[{\"clusterLabel\":83},{\"clusterLabel\":83},{\"clusterLabel\":83},{\"clusterLabel\":83},{\"clusterLabel\":83},{\"clusterLabel\":83},{\"clusterLabel\":83},{\"clusterLabel\":83},{\"clusterLabel\":83},{\"clusterLabel\":83},{\"clusterLabel\":83},{\"clusterLabel\":83},{\"clusterLabel\":83},{\"clusterLabel\":83},{\"clusterLabel\":83},{\"clusterLabel\":83}],\"clusterLabel\":[83,83,83,83,83,83,83,83,83,83,83,83,83,83,83,83],\"x_values\":{\"__ndarray__\":\"DrAVjalFK8AJyyTkXrsswC9K5HCIbizAhLvBCohnLMCXzoqvXJUswJ1M+UhwxivAGZSVkKNELcBOarXs8HgrwP9sqeNQgyzAEaeFrW7TKsA2XaVgGvQrwF2QKpiI8izAdBJWksBKK8DhU9O0RvMrwKBC1gLKLyzAbHRXCuVMK8A=\",\"dtype\":\"float64\",\"shape\":[16]},\"y_values\":{\"__ndarray__\":\"21QEbNGSKUAlCw/pmi0pQIA5T1dhWSlAkuiCG2ZrKUBOeQQ79mIqQHtHs2jNEClAFeDXL8HPKUCe9tb2oYEpQClAJfbkcSlA8m9PtwxeKUBPsHWe9TwpQLp8DjnpSSlA4B0zbm3CKEDqveS3LncoQM2jC+R6mCdA6t5ZnYCCKkA=\",\"dtype\":\"float64\",\"shape\":[16]}}},\"id\":\"cbd16618-c2f0-4f6b-9b85-31749c90f1f2\",\"type\":\"ColumnDataSource\"},{\"attributes\":{\"callback\":null,\"column_names\":[\"x_values\",\"y_values\"],\"data\":{\"chart_index\":[{\"clusterLabel\":116},{\"clusterLabel\":116},{\"clusterLabel\":116},{\"clusterLabel\":116}],\"clusterLabel\":[116,116,116,116],\"x_values\":{\"__ndarray__\":\"FPOsa99qN8D8K+DismQ3wG9/cjqJozfA7t9p3UDAN8A=\",\"dtype\":\"float64\",\"shape\":[4]},\"y_values\":{\"__ndarray__\":\"avoLS2/LHUBesxVHrX4eQCrJS6cVIR9AUJM5+8EQIEA=\",\"dtype\":\"float64\",\"shape\":[4]}}},\"id\":\"0b9b2be0-b68c-4708-b2c5-60b89a227e08\",\"type\":\"ColumnDataSource\"},{\"attributes\":{\"callback\":null,\"column_names\":[\"x_values\",\"y_values\"],\"data\":{\"chart_index\":[{\"clusterLabel\":18},{\"clusterLabel\":18},{\"clusterLabel\":18},{\"clusterLabel\":18},{\"clusterLabel\":18},{\"clusterLabel\":18},{\"clusterLabel\":18},{\"clusterLabel\":18},{\"clusterLabel\":18}],\"clusterLabel\":[18,18,18,18,18,18,18,18,18],\"x_values\":{\"__ndarray__\":\"M2iQhPI/IkDMtp1uJ70iQCXeksMjzSJAde92+o4eIkBJAicvlMQiQJKX4TMLNyNAUyF1kJ+TIkCtznb9Zw8jQIirS4nMRSJA\",\"dtype\":\"float64\",\"shape\":[9]},\"y_values\":{\"__ndarray__\":\"SawCY+hRAsA3TtZq7ZgFwEdLxLf3PgbACnZ6GGZKCcBOnIsET70FwE3gBzRAmAbAh0zU/+soBsCiodFazbwFwIctAQ23xgPA\",\"dtype\":\"float64\",\"shape\":[9]}}},\"id\":\"b0d4d1e5-f531-4781-92c5-b41044965aea\",\"type\":\"ColumnDataSource\"},{\"attributes\":{\"fill_alpha\":{\"value\":0.7},\"fill_color\":{\"value\":\"#ffbb78\"},\"line_color\":{\"value\":\"#ffbb78\"},\"size\":{\"units\":\"screen\",\"value\":8},\"x\":{\"field\":\"x_values\"},\"y\":{\"field\":\"y_values\"}},\"id\":\"6e309f72-d267-4ea7-a19f-edac4abae6d8\",\"type\":\"Circle\"},{\"attributes\":{\"data_source\":{\"id\":\"f01ca69b-75d1-4d05-af0d-2c99badc84c8\",\"type\":\"ColumnDataSource\"},\"glyph\":{\"id\":\"3f4fbfff-69c9-4679-a1de-3f577903f761\",\"type\":\"Circle\"},\"hover_glyph\":null,\"nonselection_glyph\":null,\"selection_glyph\":null},\"id\":\"08a3f9ac-3580-4214-a867-1d52202489c0\",\"type\":\"GlyphRenderer\"},{\"attributes\":{\"callback\":null,\"column_names\":[\"x_values\",\"y_values\"],\"data\":{\"chart_index\":[{\"clusterLabel\":21},{\"clusterLabel\":21},{\"clusterLabel\":21},{\"clusterLabel\":21},{\"clusterLabel\":21},{\"clusterLabel\":21}],\"clusterLabel\":[21,21,21,21,21,21],\"x_values\":{\"__ndarray__\":\"OnucYxYfNUBzeECP4641QJcpWG+nvzRAFSavS5kvNUDd9MqsIE01QCtosRaDfTVA\",\"dtype\":\"float64\",\"shape\":[6]},\"y_values\":{\"__ndarray__\":\"+mUI8VaVIECIMAWE0LkhQGGcOAsBQSBAgNIB+BXcIEBui3Z5oSghQJk9HtlNGSFA\",\"dtype\":\"float64\",\"shape\":[6]}}},\"id\":\"b373915e-19a1-4e68-b78e-d2e75df5e28a\",\"type\":\"ColumnDataSource\"},{\"attributes\":{\"label\":{\"value\":\"116\"},\"renderers\":[{\"id\":\"0803f1f8-4d9b-40e2-b7d2-27014b6097a0\",\"type\":\"GlyphRenderer\"}]},\"id\":\"dbf72205-eb1a-4c93-93ec-2140bd2d576c\",\"type\":\"LegendItem\"},{\"attributes\":{\"data_source\":{\"id\":\"ad3ef5a5-fe1f-4ba7-b81e-ab311ee1b910\",\"type\":\"ColumnDataSource\"},\"glyph\":{\"id\":\"feb367ea-303c-4c01-8864-3d4f117e56e7\",\"type\":\"Circle\"},\"hover_glyph\":null,\"nonselection_glyph\":null,\"selection_glyph\":null},\"id\":\"4bbd2078-93b0-4892-9817-2a09fd896c12\",\"type\":\"GlyphRenderer\"},{\"attributes\":{\"callback\":null,\"column_names\":[\"x_values\",\"y_values\"],\"data\":{\"chart_index\":[{\"clusterLabel\":110},{\"clusterLabel\":110},{\"clusterLabel\":110},{\"clusterLabel\":110}],\"clusterLabel\":[110,110,110,110],\"x_values\":{\"__ndarray__\":\"PggDIb/DMsAFWvdtA9IywOlylwRhkDLA8XsGZXrTMsA=\",\"dtype\":\"float64\",\"shape\":[4]},\"y_values\":{\"__ndarray__\":\"oIRo/K6aIUCA7B/zt4whQDJYZz4hJCFA1lz6rGVEIUA=\",\"dtype\":\"float64\",\"shape\":[4]}}},\"id\":\"64f52b12-233b-4544-b915-dafd373a7b60\",\"type\":\"ColumnDataSource\"},{\"attributes\":{\"fill_alpha\":{\"value\":0.7},\"fill_color\":{\"value\":\"#c7c7c7\"},\"line_color\":{\"value\":\"#c7c7c7\"},\"size\":{\"units\":\"screen\",\"value\":8},\"x\":{\"field\":\"x_values\"},\"y\":{\"field\":\"y_values\"}},\"id\":\"dc6172f3-c529-4207-834c-2d3d69964aa0\",\"type\":\"Circle\"},{\"attributes\":{\"label\":{\"value\":\"29\"},\"renderers\":[{\"id\":\"ab0a1ba4-6b19-4712-b263-9d90ea09e63c\",\"type\":\"GlyphRenderer\"}]},\"id\":\"55e6aa4c-2b42-4f65-90c7-034147579021\",\"type\":\"LegendItem\"},{\"attributes\":{\"plot\":{\"id\":\"3e35d95a-dc3d-4892-841b-3df199efd437\",\"subtype\":\"Chart\",\"type\":\"Plot\"}},\"id\":\"95cf66bd-5289-4a4a-9bd3-5ea73c93ab2f\",\"type\":\"PanTool\"},{\"attributes\":{\"callback\":null,\"column_names\":[\"x_values\",\"y_values\"],\"data\":{\"chart_index\":[{\"clusterLabel\":10},{\"clusterLabel\":10},{\"clusterLabel\":10},{\"clusterLabel\":10},{\"clusterLabel\":10},{\"clusterLabel\":10}],\"clusterLabel\":[10,10,10,10,10,10],\"x_values\":{\"__ndarray__\":\"EiN72/a04r+ErRwhPcHXv/D9NLaZ2cK/gYgoH4i66L8ONTHcDDHSvw83s5+S1ua/\",\"dtype\":\"float64\",\"shape\":[6]},\"y_values\":{\"__ndarray__\":\"INNdA98zJkAA0KVjtPsmQKJPaawEQidAWz0sDkRrJ0DyE+p5qt8mQFW4e1amriZA\",\"dtype\":\"float64\",\"shape\":[6]}}},\"id\":\"d803b82e-c7b6-491a-a3fd-756ffc47248d\",\"type\":\"ColumnDataSource\"},{\"attributes\":{\"data_source\":{\"id\":\"64f52b12-233b-4544-b915-dafd373a7b60\",\"type\":\"ColumnDataSource\"},\"glyph\":{\"id\":\"06635f62-3e8f-4318-8594-70991e012117\",\"type\":\"Circle\"},\"hover_glyph\":null,\"nonselection_glyph\":null,\"selection_glyph\":null},\"id\":\"17f60dd0-9542-400b-a696-2edb24ba2f82\",\"type\":\"GlyphRenderer\"},{\"attributes\":{\"data_source\":{\"id\":\"528309bc-1517-4340-8bf5-c199fc4d240b\",\"type\":\"ColumnDataSource\"},\"glyph\":{\"id\":\"7a31822c-5fe6-4dfe-9a74-51cc257cc631\",\"type\":\"Circle\"},\"hover_glyph\":null,\"nonselection_glyph\":null,\"selection_glyph\":null},\"id\":\"c6a42809-d0ed-4778-a77a-48c40218fd0b\",\"type\":\"GlyphRenderer\"},{\"attributes\":{\"data_source\":{\"id\":\"4cee726b-4d55-4bfe-8702-c6039df7d7e2\",\"type\":\"ColumnDataSource\"},\"glyph\":{\"id\":\"fe428820-0be5-4448-af34-9ce0197798de\",\"type\":\"Circle\"},\"hover_glyph\":null,\"nonselection_glyph\":null,\"selection_glyph\":null},\"id\":\"a5a1ed46-d1f3-4634-8aec-d69ee7265817\",\"type\":\"GlyphRenderer\"},{\"attributes\":{\"callback\":null,\"column_names\":[\"x_values\",\"y_values\"],\"data\":{\"chart_index\":[{\"clusterLabel\":66},{\"clusterLabel\":66},{\"clusterLabel\":66},{\"clusterLabel\":66},{\"clusterLabel\":66},{\"clusterLabel\":66},{\"clusterLabel\":66},{\"clusterLabel\":66}],\"clusterLabel\":[66,66,66,66,66,66,66,66],\"x_values\":{\"__ndarray__\":\"hZlweS5jIkAFGORuviUhQL/tuERq9iBA6ZfUSMz3IEBnY56eUasgQFDX+1bslSFA4WLT10FcIUBgxNGUREghQA==\",\"dtype\":\"float64\",\"shape\":[8]},\"y_values\":{\"__ndarray__\":\"S7x2ODFOHMAU78hFIqYcwOZ8ayzNux3ASyH/cZt/G8Ac7oib2FQfwBa1+iv3LRzA39BakyGBHMD60FxMuXMcwA==\",\"dtype\":\"float64\",\"shape\":[8]}}},\"id\":\"eb8a7121-d9cf-4b41-adb5-0c47061f05bd\",\"type\":\"ColumnDataSource\"},{\"attributes\":{\"label\":{\"value\":\"63\"},\"renderers\":[{\"id\":\"acbe4728-1909-4ec8-93ad-edaa4ecc78c1\",\"type\":\"GlyphRenderer\"}]},\"id\":\"d4dc534c-7d52-4f1d-baed-45c090123111\",\"type\":\"LegendItem\"},{\"attributes\":{\"data_source\":{\"id\":\"ec25e8cb-8a14-4ae6-a540-3c34d945b376\",\"type\":\"ColumnDataSource\"},\"glyph\":{\"id\":\"149ba3da-1e35-4451-a6ef-1bba88e094ea\",\"type\":\"Circle\"},\"hover_glyph\":null,\"nonselection_glyph\":null,\"selection_glyph\":null},\"id\":\"9b20e8c3-99a3-4913-a481-a00f0b43185a\",\"type\":\"GlyphRenderer\"},{\"attributes\":{\"data_source\":{\"id\":\"81e851df-e08b-489a-ba7a-071d46d97e7a\",\"type\":\"ColumnDataSource\"},\"glyph\":{\"id\":\"fe73a990-b88f-44f1-b18c-41d7becbb69f\",\"type\":\"Circle\"},\"hover_glyph\":null,\"nonselection_glyph\":null,\"selection_glyph\":null},\"id\":\"acbe4728-1909-4ec8-93ad-edaa4ecc78c1\",\"type\":\"GlyphRenderer\"},{\"attributes\":{\"fill_alpha\":{\"value\":0.7},\"fill_color\":{\"value\":\"#8c564b\"},\"line_color\":{\"value\":\"#8c564b\"},\"size\":{\"units\":\"screen\",\"value\":8},\"x\":{\"field\":\"x_values\"},\"y\":{\"field\":\"y_values\"}},\"id\":\"114f4efb-e9ed-4cb3-99cd-e01e08125485\",\"type\":\"Circle\"},{\"attributes\":{\"label\":{\"value\":\"91\"},\"renderers\":[{\"id\":\"c6a42809-d0ed-4778-a77a-48c40218fd0b\",\"type\":\"GlyphRenderer\"}]},\"id\":\"fd832793-85fc-4785-9c94-b9c46bd99348\",\"type\":\"LegendItem\"},{\"attributes\":{\"plot\":{\"id\":\"3e35d95a-dc3d-4892-841b-3df199efd437\",\"subtype\":\"Chart\",\"type\":\"Plot\"}},\"id\":\"59a3be4c-a82f-4f8e-853b-bb2819e2d802\",\"type\":\"WheelZoomTool\"},{\"attributes\":{\"fill_alpha\":{\"value\":0.7},\"fill_color\":{\"value\":\"#9edae5\"},\"line_color\":{\"value\":\"#9edae5\"},\"size\":{\"units\":\"screen\",\"value\":8},\"x\":{\"field\":\"x_values\"},\"y\":{\"field\":\"y_values\"}},\"id\":\"75e542a6-4de6-4e87-9498-981706a1cdc5\",\"type\":\"Circle\"}],\"root_ids\":[\"3e35d95a-dc3d-4892-841b-3df199efd437\"]},\"title\":\"Bokeh Application\",\"version\":\"0.12.4\"}};\n",
       "            var render_items = [{\"docid\":\"cb394ba2-37c9-4596-b35f-943bebfd1d73\",\"elementid\":\"19cebc5b-4225-4406-9511-ac95db5ca1d1\",\"modelid\":\"3e35d95a-dc3d-4892-841b-3df199efd437\"}];\n",
       "            \n",
       "            Bokeh.embed.embed_items(docs_json, render_items);\n",
       "          };\n",
       "          if (document.readyState != \"loading\") fn();\n",
       "          else document.addEventListener(\"DOMContentLoaded\", fn);\n",
       "        })();\n",
       "      },\n",
       "      function(Bokeh) {\n",
       "      }\n",
       "    ];\n",
       "  \n",
       "    function run_inline_js() {\n",
       "      \n",
       "      if ((window.Bokeh !== undefined) || (force === true)) {\n",
       "        for (var i = 0; i < inline_js.length; i++) {\n",
       "          inline_js[i](window.Bokeh);\n",
       "        }if (force === true) {\n",
       "          display_loaded();\n",
       "        }} else if (Date.now() < window._bokeh_timeout) {\n",
       "        setTimeout(run_inline_js, 100);\n",
       "      } else if (!window._bokeh_failed_load) {\n",
       "        console.log(\"Bokeh: BokehJS failed to load within specified timeout.\");\n",
       "        window._bokeh_failed_load = true;\n",
       "      } else if (force !== true) {\n",
       "        var cell = $(document.getElementById(\"19cebc5b-4225-4406-9511-ac95db5ca1d1\")).parents('.cell').data().cell;\n",
       "        cell.output_area.append_execute_result(NB_LOAD_WARNING)\n",
       "      }\n",
       "  \n",
       "    }\n",
       "  \n",
       "    if (window._bokeh_is_loading === 0) {\n",
       "      console.log(\"Bokeh: BokehJS loaded, going straight to plotting\");\n",
       "      run_inline_js();\n",
       "    } else {\n",
       "      load_libs(js_urls, function() {\n",
       "        console.log(\"Bokeh: BokehJS plotting callback run at\", now());\n",
       "        run_inline_js();\n",
       "      });\n",
       "    }\n",
       "  }(this));\n",
       "</script>"
      ]
     },
     "metadata": {},
     "output_type": "display_data"
    }
   ],
   "source": [
    "x = dftsne['x']\n",
    "y = dftsne['y']\n",
    "samp = dftsne['clusterLabel']\n",
    "source = ColumnDataSource(\n",
    "        data=dict(\n",
    "            x=x,\n",
    "            y=y,\n",
    "            samp=samp,\n",
    "        )\n",
    "    )\n",
    "\n",
    "hover = HoverTool(\n",
    "        tooltips=[\n",
    "            (\"index\", \"$index\"),\n",
    "            (\"(x,y)\", \"($x, $y)\"),\n",
    "            (\"Group ID\", \"@clusterLabel\"),\n",
    "        ]\n",
    "    )\n",
    "\n",
    "g = figure()\n",
    "_tools_to_show = 'box_zoom,pan,save,hover,resize,reset,tap,wheel_zoom'  \n",
    "g = Scatter(dftsne, x='x', y='y', color='clusterLabel', title='HG002 DEL: DBSCAN labels', palette=palettes.Category20[20], legend=\"top_left\",tools= _tools_to_show)\n",
    "output_file(\"DBSCAN_DEL_SVD.html\")\n",
    "show(g)"
   ]
  },
  {
   "cell_type": "code",
   "execution_count": null,
   "metadata": {
    "collapsed": true
   },
   "outputs": [],
   "source": [
    "X_train, X_test, y_train, y_test = train_test_split(X, Y, test_size=0.7, random_state=0)"
   ]
  },
  {
   "cell_type": "code",
   "execution_count": null,
   "metadata": {
    "collapsed": true
   },
   "outputs": [],
   "source": [
    "p = Scatter(dftsne, x='x', y='y', color='GTcons', title='HG002 INS: Consensus Genotypes', legend=\"top_left\")\n",
    "output_file(\"/Volumes/lesleydata/SVVIZOutput/June122017/Step4/MachineLearning/Step3.tSNE/June262017/INS/1/tSNE6_INS_GTcons.html\")\n",
    "show(p)"
   ]
  }
 ],
 "metadata": {
  "anaconda-cloud": {},
  "kernelspec": {
   "display_name": "Python [NIHFAES]",
   "language": "python",
   "name": "Python [NIHFAES]"
  },
  "language_info": {
   "codemirror_mode": {
    "name": "ipython",
    "version": 3
   },
   "file_extension": ".py",
   "mimetype": "text/x-python",
   "name": "python",
   "nbconvert_exporter": "python",
   "pygments_lexer": "ipython3",
   "version": "3.5.2"
  }
 },
 "nbformat": 4,
 "nbformat_minor": 2
}
