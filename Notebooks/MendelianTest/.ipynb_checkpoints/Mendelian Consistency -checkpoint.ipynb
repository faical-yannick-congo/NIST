{
 "cells": [
  {
   "cell_type": "code",
   "execution_count": 1,
   "metadata": {
    "collapsed": true
   },
   "outputs": [],
   "source": [
    "import pandas as pd\n",
    "import numpy as np\n",
    "from matplotlib import pyplot as plt"
   ]
  },
  {
   "cell_type": "markdown",
   "metadata": {},
   "source": [
    "Selected transposed dataframe for each technology from R script (see the following for the code):\n",
    "\n",
    "AJmedelian300x <- cast(DTAJ300xcastall,chrom+start+end+id+SVtype ~ sample,value=\"Ill300x.GT\")\n",
    "\n",
    "AJmedelian250x <- cast(DTAJ250bpcastall,chrom+start+end+id+SVtype ~ sample,value=\"Ill250.GT\")\n",
    "\n",
    "AJmedelianMP <- cast(DTAJMPcastall,chrom+start+end+id+SVtype ~ sample,value=\"IllMP.GT\")\n",
    "\n",
    "AJmedelianPacBio <- cast(DTAJpacbiocastall,chrom+start+end+id+SVtype ~ sample,value=\"pacbio.GT\")\n",
    "\n",
    "AJmedelian10x <- cast(DT10Xcastall,chrom+start+end+id+SVtype ~ sample,value=\"TenX.GT\")\n"
   ]
  },
  {
   "cell_type": "code",
   "execution_count": 2,
   "metadata": {
    "collapsed": false
   },
   "outputs": [
    {
     "data": {
      "text/html": [
       "<div>\n",
       "<table border=\"1\" class=\"dataframe\">\n",
       "  <thead>\n",
       "    <tr style=\"text-align: right;\">\n",
       "      <th></th>\n",
       "      <th>chrom</th>\n",
       "      <th>start</th>\n",
       "      <th>end</th>\n",
       "      <th>id</th>\n",
       "      <th>SVtype</th>\n",
       "      <th>HG002</th>\n",
       "      <th>HG003</th>\n",
       "      <th>HG004</th>\n",
       "    </tr>\n",
       "  </thead>\n",
       "  <tbody>\n",
       "    <tr>\n",
       "      <th>0</th>\n",
       "      <td>1</td>\n",
       "      <td>10403</td>\n",
       "      <td>10441</td>\n",
       "      <td>1</td>\n",
       "      <td>Deletion</td>\n",
       "      <td>-1.0</td>\n",
       "      <td>-1</td>\n",
       "      <td>-1</td>\n",
       "    </tr>\n",
       "    <tr>\n",
       "      <th>1</th>\n",
       "      <td>1</td>\n",
       "      <td>10415</td>\n",
       "      <td>10441</td>\n",
       "      <td>2</td>\n",
       "      <td>Deletion</td>\n",
       "      <td>-1.0</td>\n",
       "      <td>-1</td>\n",
       "      <td>-1</td>\n",
       "    </tr>\n",
       "    <tr>\n",
       "      <th>2</th>\n",
       "      <td>1</td>\n",
       "      <td>10616</td>\n",
       "      <td>10638</td>\n",
       "      <td>3</td>\n",
       "      <td>Deletion</td>\n",
       "      <td>-1.0</td>\n",
       "      <td>-1</td>\n",
       "      <td>-1</td>\n",
       "    </tr>\n",
       "    <tr>\n",
       "      <th>3</th>\n",
       "      <td>1</td>\n",
       "      <td>10616</td>\n",
       "      <td>10638</td>\n",
       "      <td>4</td>\n",
       "      <td>Deletion</td>\n",
       "      <td>-1.0</td>\n",
       "      <td>-1</td>\n",
       "      <td>-1</td>\n",
       "    </tr>\n",
       "    <tr>\n",
       "      <th>4</th>\n",
       "      <td>1</td>\n",
       "      <td>54720</td>\n",
       "      <td>54721</td>\n",
       "      <td>5</td>\n",
       "      <td>Insertion</td>\n",
       "      <td>-1.0</td>\n",
       "      <td>-1</td>\n",
       "      <td>-1</td>\n",
       "    </tr>\n",
       "  </tbody>\n",
       "</table>\n",
       "</div>"
      ],
      "text/plain": [
       "   chrom  start    end  id     SVtype  HG002  HG003  HG004\n",
       "0      1  10403  10441   1   Deletion   -1.0     -1     -1\n",
       "1      1  10415  10441   2   Deletion   -1.0     -1     -1\n",
       "2      1  10616  10638   3   Deletion   -1.0     -1     -1\n",
       "3      1  10616  10638   4   Deletion   -1.0     -1     -1\n",
       "4      1  54720  54721   5  Insertion   -1.0     -1     -1"
      ]
     },
     "execution_count": 2,
     "metadata": {},
     "output_type": "execute_result"
    }
   ],
   "source": [
    "train = pd.read_csv('MPMendelian.csv')\n",
    "df = pd.DataFrame(train)\n",
    "df.head()"
   ]
  },
  {
   "cell_type": "markdown",
   "metadata": {},
   "source": [
    "Remove all of the rows that contain: -1"
   ]
  },
  {
   "cell_type": "code",
   "execution_count": 10,
   "metadata": {
    "collapsed": true
   },
   "outputs": [],
   "source": [
    "df2 = df[(df['HG002'] != -1) & (df['HG003'] != -1) & (df['HG004'] != -1)]"
   ]
  },
  {
   "cell_type": "code",
   "execution_count": 11,
   "metadata": {
    "collapsed": false
   },
   "outputs": [
    {
     "data": {
      "text/html": [
       "<div>\n",
       "<table border=\"1\" class=\"dataframe\">\n",
       "  <thead>\n",
       "    <tr style=\"text-align: right;\">\n",
       "      <th></th>\n",
       "      <th>chrom</th>\n",
       "      <th>start</th>\n",
       "      <th>end</th>\n",
       "      <th>id</th>\n",
       "      <th>SVtype</th>\n",
       "      <th>HG002</th>\n",
       "      <th>HG003</th>\n",
       "      <th>HG004</th>\n",
       "    </tr>\n",
       "  </thead>\n",
       "  <tbody>\n",
       "    <tr>\n",
       "      <th>162</th>\n",
       "      <td>1</td>\n",
       "      <td>1034429</td>\n",
       "      <td>1044497</td>\n",
       "      <td>164</td>\n",
       "      <td>Deletion</td>\n",
       "      <td>0.0</td>\n",
       "      <td>0</td>\n",
       "      <td>0</td>\n",
       "    </tr>\n",
       "    <tr>\n",
       "      <th>188</th>\n",
       "      <td>1</td>\n",
       "      <td>1180674</td>\n",
       "      <td>1183435</td>\n",
       "      <td>190</td>\n",
       "      <td>Insertion</td>\n",
       "      <td>0.0</td>\n",
       "      <td>0</td>\n",
       "      <td>0</td>\n",
       "    </tr>\n",
       "    <tr>\n",
       "      <th>208</th>\n",
       "      <td>1</td>\n",
       "      <td>1285401</td>\n",
       "      <td>1286800</td>\n",
       "      <td>210</td>\n",
       "      <td>Deletion</td>\n",
       "      <td>2.0</td>\n",
       "      <td>2</td>\n",
       "      <td>2</td>\n",
       "    </tr>\n",
       "    <tr>\n",
       "      <th>248</th>\n",
       "      <td>1</td>\n",
       "      <td>1570571</td>\n",
       "      <td>1633791</td>\n",
       "      <td>250</td>\n",
       "      <td>Deletion</td>\n",
       "      <td>0.0</td>\n",
       "      <td>0</td>\n",
       "      <td>0</td>\n",
       "    </tr>\n",
       "    <tr>\n",
       "      <th>287</th>\n",
       "      <td>1</td>\n",
       "      <td>1860890</td>\n",
       "      <td>1866242</td>\n",
       "      <td>290</td>\n",
       "      <td>Insertion</td>\n",
       "      <td>0.0</td>\n",
       "      <td>0</td>\n",
       "      <td>0</td>\n",
       "    </tr>\n",
       "  </tbody>\n",
       "</table>\n",
       "</div>"
      ],
      "text/plain": [
       "     chrom    start      end   id     SVtype  HG002  HG003  HG004\n",
       "162      1  1034429  1044497  164   Deletion    0.0      0      0\n",
       "188      1  1180674  1183435  190  Insertion    0.0      0      0\n",
       "208      1  1285401  1286800  210   Deletion    2.0      2      2\n",
       "248      1  1570571  1633791  250   Deletion    0.0      0      0\n",
       "287      1  1860890  1866242  290  Insertion    0.0      0      0"
      ]
     },
     "execution_count": 11,
     "metadata": {},
     "output_type": "execute_result"
    }
   ],
   "source": [
    "df2.head()"
   ]
  },
  {
   "cell_type": "markdown",
   "metadata": {},
   "source": [
    "Rows were selected where the genotypes matched the following:"
   ]
  },
  {
   "cell_type": "markdown",
   "metadata": {},
   "source": [
    "![alt text](https://raw.githubusercontent.com/lesleymaraina/NIST/master/Images/MendelianTest/genotype/Slide1.png \"Genotype\")"
   ]
  },
  {
   "cell_type": "code",
   "execution_count": 12,
   "metadata": {
    "collapsed": true
   },
   "outputs": [],
   "source": [
    "mask = (((df2['HG002'] == 0) & (df2['HG003'] == 0) & (df2['HG004'] == 0)) | \n",
    "\t\t(((df2['HG002'] == 1) | (df2['HG002'] == 0)) & (df2['HG003'] == 1) & (df2['HG004'] == 0)) |\n",
    "\t    ((df2['HG002'] == 1) & (df2['HG003'] == 2) & (df2['HG004'] == 0)) |\n",
    "\t    (((df2['HG002'] == 1) | (df2['HG002'] == 0)) & (df2['HG003'] == 0) & (df2['HG004'] == 1)) |\n",
    "\t    (((df2['HG002'] == 1) | (df2['HG002'] == 0) | (df2['HG002'] == 2)) & (df2['HG003'] == 1) & (df2['HG004'] == 1)) |\n",
    "\t    (((df2['HG002'] == 1) | (df2['HG002'] == 2)) & (df2['HG003'] == 1) & (df2['HG004'] == 2)) |\n",
    "\t    ((df2['HG002'] == 1) & (df2['HG003'] == 0) & (df2['HG004'] == 2)) |\n",
    "\t    (((df2['HG002'] == 1) | (df2['HG002'] == 2)) & (df2['HG003'] == 2) & (df2['HG004'] == 1)) |\n",
    "\t    ((df2['HG002'] == 2) & (df2['HG003'] == 2) & (df2['HG004'] == 2)))"
   ]
  },
  {
   "cell_type": "code",
   "execution_count": 13,
   "metadata": {
    "collapsed": false
   },
   "outputs": [
    {
     "data": {
      "text/html": [
       "<div>\n",
       "<table border=\"1\" class=\"dataframe\">\n",
       "  <thead>\n",
       "    <tr style=\"text-align: right;\">\n",
       "      <th></th>\n",
       "      <th>chrom</th>\n",
       "      <th>start</th>\n",
       "      <th>end</th>\n",
       "      <th>id</th>\n",
       "      <th>SVtype</th>\n",
       "      <th>HG002</th>\n",
       "      <th>HG003</th>\n",
       "      <th>HG004</th>\n",
       "      <th>technology</th>\n",
       "    </tr>\n",
       "  </thead>\n",
       "  <tbody>\n",
       "    <tr>\n",
       "      <th>162</th>\n",
       "      <td>1</td>\n",
       "      <td>1034429</td>\n",
       "      <td>1044497</td>\n",
       "      <td>164</td>\n",
       "      <td>Deletion</td>\n",
       "      <td>0.0</td>\n",
       "      <td>0</td>\n",
       "      <td>0</td>\n",
       "      <td>MP</td>\n",
       "    </tr>\n",
       "    <tr>\n",
       "      <th>188</th>\n",
       "      <td>1</td>\n",
       "      <td>1180674</td>\n",
       "      <td>1183435</td>\n",
       "      <td>190</td>\n",
       "      <td>Insertion</td>\n",
       "      <td>0.0</td>\n",
       "      <td>0</td>\n",
       "      <td>0</td>\n",
       "      <td>MP</td>\n",
       "    </tr>\n",
       "    <tr>\n",
       "      <th>208</th>\n",
       "      <td>1</td>\n",
       "      <td>1285401</td>\n",
       "      <td>1286800</td>\n",
       "      <td>210</td>\n",
       "      <td>Deletion</td>\n",
       "      <td>2.0</td>\n",
       "      <td>2</td>\n",
       "      <td>2</td>\n",
       "      <td>MP</td>\n",
       "    </tr>\n",
       "    <tr>\n",
       "      <th>248</th>\n",
       "      <td>1</td>\n",
       "      <td>1570571</td>\n",
       "      <td>1633791</td>\n",
       "      <td>250</td>\n",
       "      <td>Deletion</td>\n",
       "      <td>0.0</td>\n",
       "      <td>0</td>\n",
       "      <td>0</td>\n",
       "      <td>MP</td>\n",
       "    </tr>\n",
       "    <tr>\n",
       "      <th>287</th>\n",
       "      <td>1</td>\n",
       "      <td>1860890</td>\n",
       "      <td>1866242</td>\n",
       "      <td>290</td>\n",
       "      <td>Insertion</td>\n",
       "      <td>0.0</td>\n",
       "      <td>0</td>\n",
       "      <td>0</td>\n",
       "      <td>MP</td>\n",
       "    </tr>\n",
       "  </tbody>\n",
       "</table>\n",
       "</div>"
      ],
      "text/plain": [
       "     chrom    start      end   id     SVtype  HG002  HG003  HG004 technology\n",
       "162      1  1034429  1044497  164   Deletion    0.0      0      0         MP\n",
       "188      1  1180674  1183435  190  Insertion    0.0      0      0         MP\n",
       "208      1  1285401  1286800  210   Deletion    2.0      2      2         MP\n",
       "248      1  1570571  1633791  250   Deletion    0.0      0      0         MP\n",
       "287      1  1860890  1866242  290  Insertion    0.0      0      0         MP"
      ]
     },
     "execution_count": 13,
     "metadata": {},
     "output_type": "execute_result"
    }
   ],
   "source": [
    "df3 = df2[mask]\n",
    "df3['technology'] = 'MP'\n",
    "df3.head()"
   ]
  },
  {
   "cell_type": "markdown",
   "metadata": {},
   "source": [
    "The code listed above was applied to each technology independently. The following code was used to merge the final dataframes."
   ]
  },
  {
   "cell_type": "code",
   "execution_count": 14,
   "metadata": {
    "collapsed": false
   },
   "outputs": [
    {
     "data": {
      "text/html": [
       "<div>\n",
       "<table border=\"1\" class=\"dataframe\">\n",
       "  <thead>\n",
       "    <tr style=\"text-align: right;\">\n",
       "      <th></th>\n",
       "      <th>Unnamed: 0</th>\n",
       "      <th>chrom</th>\n",
       "      <th>start</th>\n",
       "      <th>end</th>\n",
       "      <th>id</th>\n",
       "      <th>SVtype</th>\n",
       "      <th>HG002</th>\n",
       "      <th>HG003</th>\n",
       "      <th>HG004</th>\n",
       "      <th>technology</th>\n",
       "    </tr>\n",
       "  </thead>\n",
       "  <tbody>\n",
       "    <tr>\n",
       "      <th>0</th>\n",
       "      <td>70</td>\n",
       "      <td>1</td>\n",
       "      <td>884108</td>\n",
       "      <td>884110</td>\n",
       "      <td>75</td>\n",
       "      <td>Insertion</td>\n",
       "      <td>0.0</td>\n",
       "      <td>0.0</td>\n",
       "      <td>0.0</td>\n",
       "      <td>10x</td>\n",
       "    </tr>\n",
       "    <tr>\n",
       "      <th>1</th>\n",
       "      <td>71</td>\n",
       "      <td>1</td>\n",
       "      <td>884108</td>\n",
       "      <td>884110</td>\n",
       "      <td>76</td>\n",
       "      <td>Insertion</td>\n",
       "      <td>0.0</td>\n",
       "      <td>0.0</td>\n",
       "      <td>0.0</td>\n",
       "      <td>10x</td>\n",
       "    </tr>\n",
       "    <tr>\n",
       "      <th>2</th>\n",
       "      <td>227</td>\n",
       "      <td>1</td>\n",
       "      <td>1478966</td>\n",
       "      <td>1479211</td>\n",
       "      <td>232</td>\n",
       "      <td>Deletion</td>\n",
       "      <td>0.0</td>\n",
       "      <td>0.0</td>\n",
       "      <td>0.0</td>\n",
       "      <td>10x</td>\n",
       "    </tr>\n",
       "    <tr>\n",
       "      <th>3</th>\n",
       "      <td>245</td>\n",
       "      <td>1</td>\n",
       "      <td>1570570</td>\n",
       "      <td>1633791</td>\n",
       "      <td>250</td>\n",
       "      <td>Deletion</td>\n",
       "      <td>0.0</td>\n",
       "      <td>0.0</td>\n",
       "      <td>0.0</td>\n",
       "      <td>10x</td>\n",
       "    </tr>\n",
       "    <tr>\n",
       "      <th>4</th>\n",
       "      <td>246</td>\n",
       "      <td>1</td>\n",
       "      <td>1583006</td>\n",
       "      <td>1646240</td>\n",
       "      <td>251</td>\n",
       "      <td>Deletion</td>\n",
       "      <td>0.0</td>\n",
       "      <td>0.0</td>\n",
       "      <td>0.0</td>\n",
       "      <td>10x</td>\n",
       "    </tr>\n",
       "  </tbody>\n",
       "</table>\n",
       "</div>"
      ],
      "text/plain": [
       "   Unnamed: 0  chrom    start      end   id     SVtype  HG002  HG003  HG004  \\\n",
       "0          70      1   884108   884110   75  Insertion    0.0    0.0    0.0   \n",
       "1          71      1   884108   884110   76  Insertion    0.0    0.0    0.0   \n",
       "2         227      1  1478966  1479211  232   Deletion    0.0    0.0    0.0   \n",
       "3         245      1  1570570  1633791  250   Deletion    0.0    0.0    0.0   \n",
       "4         246      1  1583006  1646240  251   Deletion    0.0    0.0    0.0   \n",
       "\n",
       "  technology  \n",
       "0        10x  \n",
       "1        10x  \n",
       "2        10x  \n",
       "3        10x  \n",
       "4        10x  "
      ]
     },
     "execution_count": 14,
     "metadata": {},
     "output_type": "execute_result"
    }
   ],
   "source": [
    "train1 = pd.read_csv('10xMend.csv')\n",
    "df = pd.DataFrame(train1)\n",
    "train2 = pd.read_csv('300xMend.csv')\n",
    "df2 = pd.DataFrame(train2)\n",
    "train3 = pd.read_csv('250xMend.csv')\n",
    "df3 = pd.DataFrame(train3)\n",
    "train4 = pd.read_csv('MPMend.csv')\n",
    "df4 = pd.DataFrame(train4)\n",
    "train5 = pd.read_csv('PacBioMend.csv')\n",
    "df5 = pd.DataFrame(train5)\n",
    "new_df = pd.concat([df, df2, df3, df4, df5], axis=0)\n",
    "new_df.head()"
   ]
  },
  {
   "cell_type": "markdown",
   "metadata": {},
   "source": [
    "The following lists the starts sites of the regions where there were multiple cass within a 100 basepair region:\n",
    "\n",
    "821633\n",
    "\n",
    "884079\n",
    "\n",
    "919991\n",
    "\n",
    "957969"
   ]
  },
  {
   "cell_type": "markdown",
   "metadata": {},
   "source": [
    "![alt text](https://raw.githubusercontent.com/lesleymaraina/NIST/master/Images/MendelianTest/Screen%20Shot%202017-01-03%20at%2012.44.17%20PM.png \"Genotype\")"
   ]
  },
  {
   "cell_type": "code",
   "execution_count": null,
   "metadata": {
    "collapsed": true
   },
   "outputs": [],
   "source": []
  }
 ],
 "metadata": {
  "kernelspec": {
   "display_name": "Python [Root]",
   "language": "python",
   "name": "Python [Root]"
  },
  "language_info": {
   "codemirror_mode": {
    "name": "ipython",
    "version": 2
   },
   "file_extension": ".py",
   "mimetype": "text/x-python",
   "name": "python",
   "nbconvert_exporter": "python",
   "pygments_lexer": "ipython2",
   "version": "2.7.12"
  }
 },
 "nbformat": 4,
 "nbformat_minor": 0
}
